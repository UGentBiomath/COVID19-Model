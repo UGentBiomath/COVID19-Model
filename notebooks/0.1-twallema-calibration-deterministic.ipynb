{
 "cells": [
  {
   "cell_type": "markdown",
   "metadata": {},
   "source": [
    "# Covid-19: From model prediction to model predictive control\n",
    "\n",
    "## Calibration of the age-stratified national model\n",
    "\n",
    "*Original code by Ryan S. McGee. Modified by T.W. Alleman in consultation with the BIOMATH research unit headed by prof. Ingmar Nopens.*\n",
    "\n",
    "Copyright (c) 2020 by T.W. Alleman, BIOMATH, Ghent University. All Rights Reserved.\n",
    "\n",
    "This notebook accompanies our preprint: \"*A deterministic, age-stratified, extended SEIRD model for assessing the effect of non-pharmaceutical interventions on SARS-CoV-2 spread in Belgium*\"(https://doi.org/10.1101/2020.07.17.20156034)."
   ]
  },
  {
   "cell_type": "markdown",
   "metadata": {},
   "source": [
    "### Load required packages"
   ]
  },
  {
   "cell_type": "code",
   "execution_count": 1,
   "metadata": {
    "ExecuteTime": {
     "end_time": "2020-06-03T08:12:49.791967Z",
     "start_time": "2020-06-03T08:12:49.674216Z"
    }
   },
   "outputs": [],
   "source": [
    "import random\n",
    "import os\n",
    "import numpy as np\n",
    "import json\n",
    "import corner\n",
    "import random\n",
    "\n",
    "import pandas as pd\n",
    "import datetime\n",
    "import scipy\n",
    "import matplotlib.dates as mdates\n",
    "import matplotlib\n",
    "import math\n",
    "import xarray as xr\n",
    "import emcee\n",
    "import matplotlib.pyplot as plt\n",
    "import datetime\n",
    "\n",
    "from covid19model.visualization.output import _apply_tick_locator\n",
    "from covid19model.optimization import objective_fcns, pso\n",
    "from covid19model.models import models\n",
    "from covid19model.models.utils import draw_sample_COVID19_SEIRD\n",
    "from covid19model.data import google\n",
    "from covid19model.data import sciensano\n",
    "from covid19model.data import model_parameters\n",
    "from covid19model.visualization.output import population_status, infected\n",
    "from covid19model.visualization.optimization import plot_fit, traceplot\n",
    "\n",
    "# OPTIONAL: Load the \"autoreload\" extension so that package code can change\n",
    "%load_ext autoreload\n",
    "# OPTIONAL: always reload modules so that as you change code in src, it gets loaded\n",
    "%autoreload 2"
   ]
  },
  {
   "cell_type": "markdown",
   "metadata": {},
   "source": [
    "## Load data and initialize model\n",
    "\n",
    "### Load interaction matrices"
   ]
  },
  {
   "cell_type": "code",
   "execution_count": 2,
   "metadata": {},
   "outputs": [],
   "source": [
    "initN, Nc_home, Nc_work, Nc_schools, Nc_transport, Nc_leisure, Nc_others, Nc_total = model_parameters.get_interaction_matrices(dataset='willem_2012')\n",
    "levels = initN.size"
   ]
  },
  {
   "cell_type": "markdown",
   "metadata": {},
   "source": [
    "### Scrape high-level Sciensano data"
   ]
  },
  {
   "cell_type": "code",
   "execution_count": 3,
   "metadata": {
    "ExecuteTime": {
     "end_time": "2020-06-03T08:36:23.126977Z",
     "start_time": "2020-06-03T08:36:03.724446Z"
    }
   },
   "outputs": [
    {
     "data": {
      "text/html": [
       "<div>\n",
       "<style scoped>\n",
       "    .dataframe tbody tr th:only-of-type {\n",
       "        vertical-align: middle;\n",
       "    }\n",
       "\n",
       "    .dataframe tbody tr th {\n",
       "        vertical-align: top;\n",
       "    }\n",
       "\n",
       "    .dataframe thead th {\n",
       "        text-align: right;\n",
       "    }\n",
       "</style>\n",
       "<table border=\"1\" class=\"dataframe\">\n",
       "  <thead>\n",
       "    <tr style=\"text-align: right;\">\n",
       "      <th></th>\n",
       "      <th>H_tot</th>\n",
       "      <th>ICU_tot</th>\n",
       "      <th>H_in</th>\n",
       "      <th>H_out</th>\n",
       "      <th>H_tot_cumsum</th>\n",
       "      <th>D_tot</th>\n",
       "      <th>D_25_44</th>\n",
       "      <th>D_45_64</th>\n",
       "      <th>D_65_74</th>\n",
       "      <th>D_75_84</th>\n",
       "      <th>D_85+</th>\n",
       "    </tr>\n",
       "    <tr>\n",
       "      <th>DATE</th>\n",
       "      <th></th>\n",
       "      <th></th>\n",
       "      <th></th>\n",
       "      <th></th>\n",
       "      <th></th>\n",
       "      <th></th>\n",
       "      <th></th>\n",
       "      <th></th>\n",
       "      <th></th>\n",
       "      <th></th>\n",
       "      <th></th>\n",
       "    </tr>\n",
       "  </thead>\n",
       "  <tbody>\n",
       "    <tr>\n",
       "      <th>2020-10-31</th>\n",
       "      <td>6501</td>\n",
       "      <td>1161</td>\n",
       "      <td>684</td>\n",
       "      <td>657</td>\n",
       "      <td>5022</td>\n",
       "      <td>170</td>\n",
       "      <td>2.0</td>\n",
       "      <td>7.0</td>\n",
       "      <td>27</td>\n",
       "      <td>51</td>\n",
       "      <td>82</td>\n",
       "    </tr>\n",
       "    <tr>\n",
       "      <th>2020-11-01</th>\n",
       "      <td>6823</td>\n",
       "      <td>1223</td>\n",
       "      <td>555</td>\n",
       "      <td>250</td>\n",
       "      <td>5327</td>\n",
       "      <td>152</td>\n",
       "      <td>0.0</td>\n",
       "      <td>10.0</td>\n",
       "      <td>26</td>\n",
       "      <td>44</td>\n",
       "      <td>72</td>\n",
       "    </tr>\n",
       "    <tr>\n",
       "      <th>2020-11-02</th>\n",
       "      <td>7231</td>\n",
       "      <td>1302</td>\n",
       "      <td>595</td>\n",
       "      <td>180</td>\n",
       "      <td>5742</td>\n",
       "      <td>191</td>\n",
       "      <td>2.0</td>\n",
       "      <td>14.0</td>\n",
       "      <td>27</td>\n",
       "      <td>64</td>\n",
       "      <td>83</td>\n",
       "    </tr>\n",
       "    <tr>\n",
       "      <th>2020-11-03</th>\n",
       "      <td>7487</td>\n",
       "      <td>1353</td>\n",
       "      <td>879</td>\n",
       "      <td>662</td>\n",
       "      <td>5959</td>\n",
       "      <td>133</td>\n",
       "      <td>1.0</td>\n",
       "      <td>9.0</td>\n",
       "      <td>25</td>\n",
       "      <td>32</td>\n",
       "      <td>66</td>\n",
       "    </tr>\n",
       "    <tr>\n",
       "      <th>2020-11-04</th>\n",
       "      <td>7405</td>\n",
       "      <td>1412</td>\n",
       "      <td>653</td>\n",
       "      <td>673</td>\n",
       "      <td>5939</td>\n",
       "      <td>33</td>\n",
       "      <td>0.0</td>\n",
       "      <td>2.0</td>\n",
       "      <td>6</td>\n",
       "      <td>15</td>\n",
       "      <td>10</td>\n",
       "    </tr>\n",
       "  </tbody>\n",
       "</table>\n",
       "</div>"
      ],
      "text/plain": [
       "            H_tot  ICU_tot  H_in  H_out  H_tot_cumsum  D_tot  D_25_44  \\\n",
       "DATE                                                                    \n",
       "2020-10-31   6501     1161   684    657          5022    170      2.0   \n",
       "2020-11-01   6823     1223   555    250          5327    152      0.0   \n",
       "2020-11-02   7231     1302   595    180          5742    191      2.0   \n",
       "2020-11-03   7487     1353   879    662          5959    133      1.0   \n",
       "2020-11-04   7405     1412   653    673          5939     33      0.0   \n",
       "\n",
       "            D_45_64  D_65_74  D_75_84  D_85+  \n",
       "DATE                                          \n",
       "2020-10-31      7.0       27       51     82  \n",
       "2020-11-01     10.0       26       44     72  \n",
       "2020-11-02     14.0       27       64     83  \n",
       "2020-11-03      9.0       25       32     66  \n",
       "2020-11-04      2.0        6       15     10  "
      ]
     },
     "execution_count": 3,
     "metadata": {},
     "output_type": "execute_result"
    }
   ],
   "source": [
    "df_sciensano = sciensano.get_sciensano_COVID19_data(update=False)\n",
    "df_sciensano.tail()"
   ]
  },
  {
   "cell_type": "markdown",
   "metadata": {},
   "source": [
    "### Initialize the model without time-dependent parameters"
   ]
  },
  {
   "cell_type": "code",
   "execution_count": 4,
   "metadata": {},
   "outputs": [],
   "source": [
    "from covid19model.models.utils import draw_sample_COVID19_SEIRD, lockdown_func"
   ]
  },
  {
   "cell_type": "code",
   "execution_count": 5,
   "metadata": {},
   "outputs": [],
   "source": [
    "# Load the parameters using `get_COVID19_SEIRD_parameters()`.\n",
    "params = model_parameters.get_COVID19_SEIRD_parameters()\n",
    "params.update({'policy0': Nc_total,\n",
    "              'policy1': 1.0*Nc_home + (1-0.60)*Nc_work + (1-0.70)*Nc_transport + (1-0.30)*Nc_others + (1-0.80)*Nc_leisure,\n",
    "               'l': 1,\n",
    "              'tau': 5,\n",
    "              'prevention': 0.5,\n",
    "              'start_date': pd.to_datetime('2020-03-15')})\n",
    "# Define the initial condition: one exposed inidividual in every age category\n",
    "initial_states = {'S': initN, 'E': np.ones(levels)}\n",
    "model = models.COVID19_SEIRD(initial_states, params, time_dependent_parameters={'Nc': lockdown_func})"
   ]
  },
  {
   "cell_type": "markdown",
   "metadata": {},
   "source": [
    "To calibrate the stochastic model use,\n",
    "\n",
    "```\n",
    "model = models.COVID19_SEIRD_sto(initial_states, params, time_dependent_parameters={'Nc': lockdown_func},discrete=True)\n",
    "```"
   ]
  },
  {
   "cell_type": "markdown",
   "metadata": {},
   "source": [
    "## Perform calibration"
   ]
  },
  {
   "cell_type": "code",
   "execution_count": 6,
   "metadata": {},
   "outputs": [],
   "source": [
    "# Date of first data collection\n",
    "start_date = '2020-03-15'\n",
    "# Last datapoint used to calibrate basic reproduction number\n",
    "end_beta = '2020-03-25'\n",
    "# Last datapoint used to calibrate the compliance ramp\n",
    "end_ramp = '2020-05-01'\n",
    "# Path where figures should be stored\n",
    "fig_path = '../results/calibrations/COVID19_SEIRD/national/'\n",
    "# Path where MCMC samples should be saved\n",
    "samples_path = '../data/interim/model_parameters/COVID19_SEIRD/calibrations/national/'\n",
    "# Spatial unit: Belgium\n",
    "spatial_unit = 'BE'"
   ]
  },
  {
   "cell_type": "markdown",
   "metadata": {},
   "source": [
    "To calibrate the stochastic model use,\n",
    "\n",
    "```\n",
    "fig_path = '../results/calibrations/COVID19_SEIRD_sto/national/'\n",
    "samples_path = '../data/interim/model_parameters/COVID19_SEIRD_sto/calibrations/national/'\n",
    "```"
   ]
  },
  {
   "cell_type": "code",
   "execution_count": null,
   "metadata": {},
   "outputs": [
    {
     "name": "stdout",
     "output_type": "stream",
     "text": [
      "---------------------------\n",
      "CALIBRATING BETA AND WARMUP\n",
      "---------------------------\n",
      "\n",
      "1) Particle swarm optimization\n",
      "\n",
      "No constraints given.\n",
      "Best after iteration 1: [6.12626352e+01 6.16004783e+01 3.25480525e-02] 51.170799116768976\n",
      "New best for swarm at iteration 2: [4.56402910e+01 4.82197561e+01 4.00000000e-02] 49.49435767358511\n",
      "Best after iteration 2: [4.56402910e+01 4.82197561e+01 4.00000000e-02] 49.49435767358511\n",
      "Best after iteration 3: [4.56402910e+01 4.82197561e+01 4.00000000e-02] 49.49435767358511\n",
      "Best after iteration 4: [4.56402910e+01 4.82197561e+01 4.00000000e-02] 49.49435767358511\n",
      "New best for swarm at iteration 5: [5.60653932e+01 4.84188755e+01 4.00000000e-02] 49.2390847539425\n",
      "Best after iteration 5: [5.60653932e+01 4.84188755e+01 4.00000000e-02] 49.2390847539425\n",
      "Best after iteration 6: [5.60653932e+01 4.84188755e+01 4.00000000e-02] 49.2390847539425\n",
      "Best after iteration 7: [5.60653932e+01 4.84188755e+01 4.00000000e-02] 49.2390847539425\n",
      "Best after iteration 8: [5.60653932e+01 4.84188755e+01 4.00000000e-02] 49.2390847539425\n",
      "Best after iteration 9: [5.60653932e+01 4.84188755e+01 4.00000000e-02] 49.2390847539425\n",
      "Best after iteration 10: [5.60653932e+01 4.84188755e+01 4.00000000e-02] 49.2390847539425\n",
      "New best for swarm at iteration 11: [5.08413079e+01 4.80939121e+01 4.00000000e-02] 49.23212824064406\n",
      "Best after iteration 11: [5.08413079e+01 4.80939121e+01 4.00000000e-02] 49.23212824064406\n",
      "New best for swarm at iteration 12: [5.48956388e+01 5.12616171e+01 3.79779712e-02] 49.13787952044374\n",
      "Best after iteration 12: [5.48956388e+01 5.12616171e+01 3.79779712e-02] 49.13787952044374\n",
      "Best after iteration 13: [5.48956388e+01 5.12616171e+01 3.79779712e-02] 49.13787952044374\n",
      "Best after iteration 14: [5.48956388e+01 5.12616171e+01 3.79779712e-02] 49.13787952044374\n",
      "Best after iteration 15: [5.48956388e+01 5.12616171e+01 3.79779712e-02] 49.13787952044374\n",
      "Best after iteration 16: [5.48956388e+01 5.12616171e+01 3.79779712e-02] 49.13787952044374\n",
      "Best after iteration 17: [5.48956388e+01 5.12616171e+01 3.79779712e-02] 49.13787952044374\n",
      "Best after iteration 18: [5.48956388e+01 5.12616171e+01 3.79779712e-02] 49.13787952044374\n",
      "Best after iteration 19: [5.48956388e+01 5.12616171e+01 3.79779712e-02] 49.13787952044374\n",
      "Best after iteration 20: [5.48956388e+01 5.12616171e+01 3.79779712e-02] 49.13787952044374\n",
      "Best after iteration 21: [5.48956388e+01 5.12616171e+01 3.79779712e-02] 49.13787952044374\n",
      "Best after iteration 22: [5.48956388e+01 5.12616171e+01 3.79779712e-02] 49.13787952044374\n",
      "New best for swarm at iteration 23: [5.47675400e+01 5.10125385e+01 3.79579806e-02] 49.137720481487854\n",
      "Best after iteration 23: [5.47675400e+01 5.10125385e+01 3.79579806e-02] 49.137720481487854\n",
      "New best for swarm at iteration 24: [5.36060456e+01 5.11776775e+01 3.79828635e-02] 49.12465993516151\n",
      "Best after iteration 24: [5.36060456e+01 5.11776775e+01 3.79828635e-02] 49.12465993516151\n",
      "Best after iteration 25: [5.36060456e+01 5.11776775e+01 3.79828635e-02] 49.12465993516151\n",
      "Best after iteration 26: [5.36060456e+01 5.11776775e+01 3.79828635e-02] 49.12465993516151\n",
      "New best for swarm at iteration 27: [5.24520201e+01 5.06243060e+01 3.79732144e-02] 49.12072197088083\n",
      "Best after iteration 27: [5.24520201e+01 5.06243060e+01 3.79732144e-02] 49.12072197088083\n",
      "Best after iteration 28: [5.24520201e+01 5.06243060e+01 3.79732144e-02] 49.12072197088083\n",
      "Best after iteration 29: [5.24520201e+01 5.06243060e+01 3.79732144e-02] 49.12072197088083\n",
      "Best after iteration 30: [5.24520201e+01 5.06243060e+01 3.79732144e-02] 49.12072197088083\n",
      "Best after iteration 31: [5.24520201e+01 5.06243060e+01 3.79732144e-02] 49.12072197088083\n",
      "Best after iteration 32: [5.24520201e+01 5.06243060e+01 3.79732144e-02] 49.12072197088083\n",
      "New best for swarm at iteration 33: [5.25064009e+01 5.05528700e+01 3.79718960e-02] 49.1205817757914\n",
      "Best after iteration 33: [5.25064009e+01 5.05528700e+01 3.79718960e-02] 49.1205817757914\n",
      "Best after iteration 34: [5.25064009e+01 5.05528700e+01 3.79718960e-02] 49.1205817757914\n",
      "Best after iteration 35: [5.25064009e+01 5.05528700e+01 3.79718960e-02] 49.1205817757914\n",
      "Best after iteration 36: [5.25064009e+01 5.05528700e+01 3.79718960e-02] 49.1205817757914\n",
      "Best after iteration 37: [5.25064009e+01 5.05528700e+01 3.79718960e-02] 49.1205817757914\n",
      "Best after iteration 38: [5.25064009e+01 5.05528700e+01 3.79718960e-02] 49.1205817757914\n",
      "New best for swarm at iteration 39: [5.25345708e+01 5.05548185e+01 3.79729255e-02] 49.12054601610879\n",
      "Best after iteration 39: [5.25345708e+01 5.05548185e+01 3.79729255e-02] 49.12054601610879\n",
      "Best after iteration 40: [5.25345708e+01 5.05548185e+01 3.79729255e-02] 49.12054601610879\n",
      "Best after iteration 41: [5.25345708e+01 5.05548185e+01 3.79729255e-02] 49.12054601610879\n",
      "New best for swarm at iteration 42: [5.25380204e+01 5.05535693e+01 3.79730561e-02] 49.12054402950341\n",
      "Best after iteration 42: [5.25380204e+01 5.05535693e+01 3.79730561e-02] 49.12054402950341\n",
      "New best for swarm at iteration 43: [5.25778279e+01 5.06361514e+01 3.79710464e-02] 49.12047300606951\n",
      "Best after iteration 43: [5.25778279e+01 5.06361514e+01 3.79710464e-02] 49.12047300606951\n",
      "Best after iteration 44: [5.25778279e+01 5.06361514e+01 3.79710464e-02] 49.12047300606951\n",
      "Best after iteration 45: [5.25778279e+01 5.06361514e+01 3.79710464e-02] 49.12047300606951\n",
      "New best for swarm at iteration 46: [5.27283854e+01 5.06114181e+01 3.79712525e-02] 49.12035841171231\n",
      "Best after iteration 46: [5.27283854e+01 5.06114181e+01 3.79712525e-02] 49.12035841171231\n",
      "Best after iteration 47: [5.27283854e+01 5.06114181e+01 3.79712525e-02] 49.12035841171231\n",
      "Best after iteration 48: [5.27283854e+01 5.06114181e+01 3.79712525e-02] 49.12035841171231\n",
      "Best after iteration 49: [5.27283854e+01 5.06114181e+01 3.79712525e-02] 49.12035841171231\n"
     ]
    },
    {
     "name": "stderr",
     "output_type": "stream",
     "text": [
      "\r",
      "  0%|          | 0/500 [00:00<?, ?it/s]"
     ]
    },
    {
     "name": "stdout",
     "output_type": "stream",
     "text": [
      "Best after iteration 50: [5.27283854e+01 5.06114181e+01 3.79712525e-02] 49.12035841171231\n",
      "Stopping search: maximum iterations reached --> 50\n",
      "\n",
      "2) Markov-Chain Monte-Carlo sampling\n",
      "\n"
     ]
    },
    {
     "name": "stderr",
     "output_type": "stream",
     "text": [
      "100%|██████████| 500/500 [01:22<00:00,  6.07it/s]\n"
     ]
    },
    {
     "name": "stdout",
     "output_type": "stream",
     "text": [
      "Warning: The chain is shorter than 50 times the integrated autocorrelation time for 4 parameter(s).\n",
      "Use this estimate with caution and run a longer chain!\n",
      "---------------------------------------------------------------------------------------------------------\n",
      "\n",
      "CALIBRATING COMPLIANCE RAMP\n",
      "---------------------------\n",
      "\n",
      "1) Particle swarm optimization\n",
      "\n",
      "\n",
      "2) Markov-Chain Monte-Carlo sampling\n",
      "\n",
      "No constraints given.\n",
      "Best after iteration 1: [98.98670693 15.68284765  0.79195117  0.18658896] 254.34123771549963\n",
      "New best for swarm at iteration 2: [100.          18.27009467   0.           0.        ] 245.22326199567837\n",
      "Best after iteration 2: [100.          18.27009467   0.           0.        ] 245.22326199567837\n",
      "New best for swarm at iteration 3: [100.          14.39731619   0.           0.29568722] 229.83462646932935\n",
      "Best after iteration 3: [100.          14.39731619   0.           0.29568722] 229.83462646932935\n",
      "Best after iteration 4: [100.          14.39731619   0.           0.29568722] 229.83462646932935\n",
      "Best after iteration 5: [100.          14.39731619   0.           0.29568722] 229.83462646932935\n",
      "Best after iteration 6: [100.          14.39731619   0.           0.29568722] 229.83462646932935\n",
      "New best for swarm at iteration 7: [100.          12.32728571   0.           0.35057639] 228.29369403026826\n",
      "Best after iteration 7: [100.          12.32728571   0.           0.35057639] 228.29369403026826\n",
      "Best after iteration 8: [100.          12.32728571   0.           0.35057639] 228.29369403026826\n",
      "New best for swarm at iteration 9: [99.73165588 11.87935501  0.          0.34177077] 227.53046495412713\n",
      "Best after iteration 9: [99.73165588 11.87935501  0.          0.34177077] 227.53046495412713\n",
      "Best after iteration 10: [99.73165588 11.87935501  0.          0.34177077] 227.53046495412713\n",
      "Best after iteration 11: [99.73165588 11.87935501  0.          0.34177077] 227.53046495412713\n",
      "Best after iteration 12: [99.73165588 11.87935501  0.          0.34177077] 227.53046495412713\n",
      "Best after iteration 13: [99.73165588 11.87935501  0.          0.34177077] 227.53046495412713\n",
      "Best after iteration 14: [99.73165588 11.87935501  0.          0.34177077] 227.53046495412713\n",
      "Best after iteration 15: [99.73165588 11.87935501  0.          0.34177077] 227.53046495412713\n",
      "Best after iteration 16: [99.73165588 11.87935501  0.          0.34177077] 227.53046495412713\n",
      "Best after iteration 17: [99.73165588 11.87935501  0.          0.34177077] 227.53046495412713\n",
      "Best after iteration 18: [99.73165588 11.87935501  0.          0.34177077] 227.53046495412713\n",
      "Best after iteration 19: [99.73165588 11.87935501  0.          0.34177077] 227.53046495412713\n",
      "Best after iteration 20: [99.73165588 11.87935501  0.          0.34177077] 227.53046495412713\n",
      "Best after iteration 21: [99.73165588 11.87935501  0.          0.34177077] 227.53046495412713\n",
      "Best after iteration 22: [99.73165588 11.87935501  0.          0.34177077] 227.53046495412713\n",
      "Best after iteration 23: [99.73165588 11.87935501  0.          0.34177077] 227.53046495412713\n",
      "Best after iteration 24: [99.73165588 11.87935501  0.          0.34177077] 227.53046495412713\n",
      "New best for swarm at iteration 25: [99.60710996 11.82095027  0.          0.35681134] 227.412052690672\n",
      "Best after iteration 25: [99.60710996 11.82095027  0.          0.35681134] 227.412052690672\n",
      "Best after iteration 26: [99.60710996 11.82095027  0.          0.35681134] 227.412052690672\n",
      "Best after iteration 27: [99.60710996 11.82095027  0.          0.35681134] 227.412052690672\n",
      "Best after iteration 28: [99.60710996 11.82095027  0.          0.35681134] 227.412052690672\n",
      "New best for swarm at iteration 29: [99.51612454 11.84917833  0.          0.35696902] 227.3696011199189\n",
      "Best after iteration 29: [99.51612454 11.84917833  0.          0.35696902] 227.3696011199189\n",
      "New best for swarm at iteration 30: [99.55367371 11.92262458  0.          0.35537475] 227.36895844555323\n",
      "Best after iteration 30: [99.55367371 11.92262458  0.          0.35537475] 227.36895844555323\n",
      "New best for swarm at iteration 31: [99.57149387 11.66920867  0.          0.36164252] 227.30801802902153\n",
      "Best after iteration 31: [99.57149387 11.66920867  0.          0.36164252] 227.30801802902153\n",
      "Best after iteration 32: [99.57149387 11.66920867  0.          0.36164252] 227.30801802902153\n",
      "Best after iteration 33: [99.57149387 11.66920867  0.          0.36164252] 227.30801802902153\n",
      "New best for swarm at iteration 34: [99.59760673 11.57183325  0.          0.36088252] 227.26768282574668\n",
      "Best after iteration 34: [99.59760673 11.57183325  0.          0.36088252] 227.26768282574668\n",
      "Best after iteration 35: [99.59760673 11.57183325  0.          0.36088252] 227.26768282574668\n",
      "Best after iteration 36: [99.59760673 11.57183325  0.          0.36088252] 227.26768282574668\n",
      "Best after iteration 37: [99.59760673 11.57183325  0.          0.36088252] 227.26768282574668\n",
      "Best after iteration 38: [99.59760673 11.57183325  0.          0.36088252] 227.26768282574668\n",
      "Best after iteration 39: [99.59760673 11.57183325  0.          0.36088252] 227.26768282574668\n",
      "New best for swarm at iteration 40: [99.62569391 11.54162172  0.          0.35816232] 227.2647336566979\n",
      "Best after iteration 40: [99.62569391 11.54162172  0.          0.35816232] 227.2647336566979\n",
      "Best after iteration 41: [99.62569391 11.54162172  0.          0.35816232] 227.2647336566979\n",
      "New best for swarm at iteration 42: [99.58289238 11.5497345   0.          0.35788447] 227.24996020214712\n",
      "Best after iteration 42: [99.58289238 11.5497345   0.          0.35788447] 227.24996020214712\n",
      "Best after iteration 43: [99.58289238 11.5497345   0.          0.35788447] 227.24996020214712\n",
      "Best after iteration 44: [99.58289238 11.5497345   0.          0.35788447] 227.24996020214712\n",
      "Best after iteration 45: [99.58289238 11.5497345   0.          0.35788447] 227.24996020214712\n",
      "Best after iteration 46: [99.58289238 11.5497345   0.          0.35788447] 227.24996020214712\n",
      "Best after iteration 47: [99.58289238 11.5497345   0.          0.35788447] 227.24996020214712\n",
      "Best after iteration 48: [99.58289238 11.5497345   0.          0.35788447] 227.24996020214712\n",
      "Best after iteration 49: [99.58289238 11.5497345   0.          0.35788447] 227.24996020214712\n",
      "Best after iteration 50: [99.58289238 11.5497345   0.          0.35788447] 227.24996020214712\n",
      "Stopping search: maximum iterations reached --> 50\n"
     ]
    },
    {
     "name": "stderr",
     "output_type": "stream",
     "text": [
      "  0%|          | 0/500 [00:00<?, ?it/s]/home/twallema/anaconda3/envs/COVID_MODEL/lib/python3.8/site-packages/emcee/moves/red_blue.py:99: RuntimeWarning: invalid value encountered in double_scalars\n",
      "  lnpdiff = f + nlp - state.log_prob[j]\n",
      "/home/twallema/anaconda3/envs/COVID_MODEL/lib/python3.8/site-packages/emcee/moves/red_blue.py:99: RuntimeWarning: invalid value encountered in double_scalars\n",
      "  lnpdiff = f + nlp - state.log_prob[j]\n",
      "  0%|          | 1/500 [00:00<02:19,  3.58it/s]/home/twallema/anaconda3/envs/COVID_MODEL/lib/python3.8/site-packages/emcee/moves/red_blue.py:99: RuntimeWarning: invalid value encountered in double_scalars\n",
      "  lnpdiff = f + nlp - state.log_prob[j]\n",
      "/home/twallema/anaconda3/envs/COVID_MODEL/lib/python3.8/site-packages/emcee/moves/red_blue.py:99: RuntimeWarning: invalid value encountered in double_scalars\n",
      "  lnpdiff = f + nlp - state.log_prob[j]\n",
      "  0%|          | 2/500 [00:00<02:18,  3.59it/s]/home/twallema/anaconda3/envs/COVID_MODEL/lib/python3.8/site-packages/emcee/moves/red_blue.py:99: RuntimeWarning: invalid value encountered in double_scalars\n",
      "  lnpdiff = f + nlp - state.log_prob[j]\n",
      "/home/twallema/anaconda3/envs/COVID_MODEL/lib/python3.8/site-packages/emcee/moves/red_blue.py:99: RuntimeWarning: invalid value encountered in double_scalars\n",
      "  lnpdiff = f + nlp - state.log_prob[j]\n",
      "  1%|          | 3/500 [00:00<01:57,  4.23it/s]/home/twallema/anaconda3/envs/COVID_MODEL/lib/python3.8/site-packages/emcee/moves/red_blue.py:99: RuntimeWarning: invalid value encountered in double_scalars\n",
      "  lnpdiff = f + nlp - state.log_prob[j]\n",
      "/home/twallema/anaconda3/envs/COVID_MODEL/lib/python3.8/site-packages/emcee/moves/red_blue.py:99: RuntimeWarning: invalid value encountered in double_scalars\n",
      "  lnpdiff = f + nlp - state.log_prob[j]\n",
      "  1%|          | 4/500 [00:00<02:03,  4.02it/s]/home/twallema/anaconda3/envs/COVID_MODEL/lib/python3.8/site-packages/emcee/moves/red_blue.py:99: RuntimeWarning: invalid value encountered in double_scalars\n",
      "  lnpdiff = f + nlp - state.log_prob[j]\n",
      "/home/twallema/anaconda3/envs/COVID_MODEL/lib/python3.8/site-packages/emcee/moves/red_blue.py:99: RuntimeWarning: invalid value encountered in double_scalars\n",
      "  lnpdiff = f + nlp - state.log_prob[j]\n",
      "  1%|          | 5/500 [00:01<02:27,  3.36it/s]/home/twallema/anaconda3/envs/COVID_MODEL/lib/python3.8/site-packages/emcee/moves/red_blue.py:99: RuntimeWarning: invalid value encountered in double_scalars\n",
      "  lnpdiff = f + nlp - state.log_prob[j]\n",
      "  1%|          | 6/500 [00:01<02:55,  2.82it/s]/home/twallema/anaconda3/envs/COVID_MODEL/lib/python3.8/site-packages/emcee/moves/red_blue.py:99: RuntimeWarning: invalid value encountered in double_scalars\n",
      "  lnpdiff = f + nlp - state.log_prob[j]\n",
      "  1%|▏         | 7/500 [00:02<03:03,  2.69it/s]/home/twallema/anaconda3/envs/COVID_MODEL/lib/python3.8/site-packages/emcee/moves/red_blue.py:99: RuntimeWarning: invalid value encountered in double_scalars\n",
      "  lnpdiff = f + nlp - state.log_prob[j]\n",
      "  2%|▏         | 8/500 [00:02<03:09,  2.59it/s]/home/twallema/anaconda3/envs/COVID_MODEL/lib/python3.8/site-packages/emcee/moves/red_blue.py:99: RuntimeWarning: invalid value encountered in double_scalars\n",
      "  lnpdiff = f + nlp - state.log_prob[j]\n",
      "  2%|▏         | 9/500 [00:03<03:27,  2.37it/s]/home/twallema/anaconda3/envs/COVID_MODEL/lib/python3.8/site-packages/emcee/moves/red_blue.py:99: RuntimeWarning: invalid value encountered in double_scalars\n",
      "  lnpdiff = f + nlp - state.log_prob[j]\n",
      "  2%|▏         | 10/500 [00:03<03:07,  2.61it/s]/home/twallema/anaconda3/envs/COVID_MODEL/lib/python3.8/site-packages/emcee/moves/red_blue.py:99: RuntimeWarning: invalid value encountered in double_scalars\n",
      "  lnpdiff = f + nlp - state.log_prob[j]\n",
      "  2%|▏         | 11/500 [00:03<03:15,  2.51it/s]/home/twallema/anaconda3/envs/COVID_MODEL/lib/python3.8/site-packages/emcee/moves/red_blue.py:99: RuntimeWarning: invalid value encountered in double_scalars\n",
      "  lnpdiff = f + nlp - state.log_prob[j]\n",
      "  2%|▏         | 12/500 [00:04<02:48,  2.90it/s]/home/twallema/anaconda3/envs/COVID_MODEL/lib/python3.8/site-packages/emcee/moves/red_blue.py:99: RuntimeWarning: invalid value encountered in double_scalars\n",
      "  lnpdiff = f + nlp - state.log_prob[j]\n",
      "  3%|▎         | 13/500 [00:04<02:58,  2.73it/s]/home/twallema/anaconda3/envs/COVID_MODEL/lib/python3.8/site-packages/emcee/moves/red_blue.py:99: RuntimeWarning: invalid value encountered in double_scalars\n",
      "  lnpdiff = f + nlp - state.log_prob[j]\n",
      "  3%|▎         | 14/500 [00:04<02:54,  2.79it/s]/home/twallema/anaconda3/envs/COVID_MODEL/lib/python3.8/site-packages/emcee/moves/red_blue.py:99: RuntimeWarning: invalid value encountered in double_scalars\n",
      "  lnpdiff = f + nlp - state.log_prob[j]\n",
      "  3%|▎         | 15/500 [00:05<02:50,  2.84it/s]/home/twallema/anaconda3/envs/COVID_MODEL/lib/python3.8/site-packages/emcee/moves/red_blue.py:99: RuntimeWarning: invalid value encountered in double_scalars\n",
      "  lnpdiff = f + nlp - state.log_prob[j]\n",
      "  3%|▎         | 16/500 [00:05<02:59,  2.70it/s]/home/twallema/anaconda3/envs/COVID_MODEL/lib/python3.8/site-packages/emcee/moves/red_blue.py:99: RuntimeWarning: invalid value encountered in double_scalars\n",
      "  lnpdiff = f + nlp - state.log_prob[j]\n",
      "100%|██████████| 500/500 [03:28<00:00,  2.40it/s]\n"
     ]
    },
    {
     "name": "stdout",
     "output_type": "stream",
     "text": [
      "Warning: The chain is shorter than 50 times the integrated autocorrelation time for 4 parameter(s). Use this estimate with caution and run a longer chain!\n"
     ]
    }
   ],
   "source": [
    "from covid19model.optimization.run_optimization import full_calibration_wave1\n",
    "samples_dict = full_calibration_wave1(model, df_sciensano['H_in'], spatial_unit, start_date, end_beta, end_ramp, \n",
    "                                fig_path=fig_path, samples_path=samples_path,\n",
    "                                initN=initN, Nc_total=Nc_total,\n",
    "                                maxiter=50, popsize=50, steps_mcmc=500, discard=200)"
   ]
  },
  {
   "cell_type": "markdown",
   "metadata": {},
   "source": [
    "## Visualize fit\n",
    "\n",
    "### $\\beta$"
   ]
  },
  {
   "cell_type": "code",
   "execution_count": null,
   "metadata": {},
   "outputs": [],
   "source": [
    "end_sim = '2020-04-01'\n",
    "\n",
    "fig,ax=plt.subplots(figsize=(10,4))\n",
    "for i in range(100):\n",
    "    model.parameters = draw_sample_COVID19_SEIRD(model.parameters,samples_dict,beta_only=False)\n",
    "    y_model = model.sim(end_sim,start_date=start_date,excess_time=samples_dict['warmup'])\n",
    "    ax.plot(y_model['time'],y_model[\"H_in\"].sum(dim=\"Nc\"),color='blue',alpha=0.01)\n",
    "\n",
    "ax.scatter(df_sciensano[:end_beta].index,df_sciensano['H_in'][:end_beta],color='black',alpha=0.6,linestyle='None',facecolors='none')\n",
    "ax.scatter(df_sciensano[end_beta:end_sim].index,df_sciensano['H_in'][end_beta:end_sim],color='red',alpha=0.6,linestyle='None',facecolors='none')\n",
    "ax = _apply_tick_locator(ax)\n",
    "ax.set_xlim('2020-03-01',end_sim)\n",
    "\n",
    "plt.savefig(fig_path+'others/BETA.pdf', dpi=400, bbox_inches='tight',orientation='portrait', papertype='a4')"
   ]
  },
  {
   "cell_type": "markdown",
   "metadata": {},
   "source": [
    "### $R_0$"
   ]
  },
  {
   "cell_type": "code",
   "execution_count": null,
   "metadata": {},
   "outputs": [],
   "source": [
    "fig,ax=plt.subplots(figsize=(10,4))\n",
    "ax.hist(samples_dict['R0'],bins=30)\n",
    "plt.savefig(fig_path+'others/R0.pdf', dpi=400, bbox_inches='tight',orientation='portrait', papertype='a4')"
   ]
  },
  {
   "cell_type": "markdown",
   "metadata": {},
   "source": [
    "### $l$ and $\\tau$"
   ]
  },
  {
   "cell_type": "code",
   "execution_count": null,
   "metadata": {},
   "outputs": [],
   "source": [
    "end_sim = '2020-06-01'\n",
    "\n",
    "fig,ax=plt.subplots(figsize=(10,4))\n",
    "for i in range(100):\n",
    "    model.parameters = draw_sample_COVID19_SEIRD(model.parameters,samples_dict,beta_only=False)\n",
    "    y_model = model.sim(end_sim,start_date=start_date,excess_time=samples_dict['warmup'])\n",
    "    ax.plot(y_model['time'],y_model[\"H_in\"].sum(dim=\"Nc\"),color='blue',alpha=0.01)\n",
    "\n",
    "ax.scatter(df_sciensano[:end_ramp].index,df_sciensano['H_in'][:end_ramp],color='black',alpha=0.6,linestyle='None',facecolors='none')\n",
    "ax.scatter(df_sciensano[end_ramp:end_sim].index,df_sciensano['H_in'][end_ramp:end_sim],color='red',alpha=0.6,linestyle='None',facecolors='none')\n",
    "ax = _apply_tick_locator(ax)\n",
    "ax.set_xlim('2020-03-01',end_sim)\n",
    "\n",
    "plt.savefig(fig_path+'others/RAMP.pdf', dpi=400, bbox_inches='tight',orientation='portrait', papertype='a4')"
   ]
  },
  {
   "cell_type": "markdown",
   "metadata": {},
   "source": [
    "## Other visualisations used in the preprint"
   ]
  },
  {
   "cell_type": "markdown",
   "metadata": {},
   "source": [
    "### Load the posterior samples"
   ]
  },
  {
   "cell_type": "code",
   "execution_count": null,
   "metadata": {},
   "outputs": [],
   "source": [
    "# Load previous samples\n",
    "with open('../data/interim/model_parameters/COVID19_SEIRD/calibrations/national/BE_2020-11-05.json', 'r') as fp:\n",
    "    samples_dict = json.load(fp)"
   ]
  },
  {
   "cell_type": "markdown",
   "metadata": {},
   "source": [
    "### Seroprelevance"
   ]
  },
  {
   "cell_type": "code",
   "execution_count": null,
   "metadata": {},
   "outputs": [],
   "source": [
    "end_sim = '2020-06-01'\n",
    "\n",
    "fig,ax=plt.subplots(figsize=(10,4))\n",
    "for i in range(100):\n",
    "    model.parameters = draw_sample_COVID19_SEIRD(model.parameters,samples_dict,beta_only=False)\n",
    "    y_model = model.sim(end_sim,start_date=start_date,excess_time=samples_dict['warmup'])\n",
    "    ax.plot((1-y_model[\"S\"].sel(time=end_sim)/y_model[\"S\"].isel(time=0))*100,alpha=0.03,color='blue',linewidth=2)\n",
    "\n",
    "ax.set_xlabel('age')\n",
    "ax.set_ylabel(\"seroprelevance (%)\" )\n",
    "ax.set_ylim()\n",
    "plt.xticks(np.arange(9), ('[0-10[', '[10-20[', '[20-30[', '[30-40[', '[40-50[', '[50-60[', '[60-70[', '[70-80[', '[80-$\\infty$['))\n",
    "\n",
    "plt.savefig(fig_path+'others/SEROPRELEVANCE.pdf', dpi=400, bbox_inches='tight',orientation='portrait', papertype='a4')"
   ]
  },
  {
   "cell_type": "markdown",
   "metadata": {},
   "source": [
    "### Cumulative hospitalisations vs. $R_0$"
   ]
  },
  {
   "cell_type": "code",
   "execution_count": null,
   "metadata": {},
   "outputs": [],
   "source": [
    "end_sim = '2020-06-01'\n",
    "n=10\n",
    "\n",
    "csum_save=np.zeros([n,9])\n",
    "for i in range(n):\n",
    "    model.parameters = draw_sample_COVID19_SEIRD(model.parameters,samples_dict,beta_only=False)\n",
    "    y_model = model.sim(end_sim,start_date=start_date,excess_time=samples_dict['warmup'])\n",
    "    csum_iplus = y_model['H_in'].cumsum(dim=\"time\")[:,-1].values\n",
    "    csum_save[i,:]=np.reshape((csum_iplus/sum(csum_iplus)),(1,(csum_iplus/sum(csum_iplus)).size))*100\n",
    "    \n",
    "csum_hosp_mean = csum_save.mean(axis=0)\n",
    "csum_hosp_p10 = np.percentile(csum_save,10,axis=0)\n",
    "csum_hosp_p90 = np.percentile(csum_save,90,axis=0)\n",
    "\n",
    "R0_age = []\n",
    "for key in samples_dict['R0_stratified_dict']:\n",
    "    R0_age.append(np.mean(samples_dict['R0_stratified_dict'][key]))\n",
    "\n",
    "\n",
    "fig,ax1=plt.subplots()\n",
    "\n",
    "ax1.bar(np.arange(9),R0_age,1,color='blue')\n",
    "ax1.set_xlabel('age')\n",
    "ax1.set_ylabel('$R_0$ (-)')\n",
    "ax1.grid(False)\n",
    "\n",
    "ax2 = ax1.twinx()  # instantiate a second axes that shares the same x-axis\n",
    "ax2.bar(np.arange(9),csum_hosp_mean,1,alpha=0.6,hatch=\"\\\\\")\n",
    "ax2.set_xlabel('age')\n",
    "ax2.set_ylabel('Fraction of hospitalizations (%)')\n",
    "ax2.grid(False)\n",
    "plt.xticks(np.arange(9), ('[0-10[', '[10-20[', '[20-30[', '[30-40[', '[40-50[', '[50-60[', '[60-70[', '[70-80[', '[80-$\\infty$['))\n",
    "\n",
    "fig.set_size_inches(10, 4)\n",
    "plt.savefig(fig_path+'others/HOSP_R0.pdf', dpi=400, bbox_inches='tight',orientation='portrait', papertype='a4')"
   ]
  },
  {
   "cell_type": "markdown",
   "metadata": {},
   "source": [
    "### Lockdown release"
   ]
  },
  {
   "cell_type": "code",
   "execution_count": null,
   "metadata": {},
   "outputs": [],
   "source": [
    "from covid19model.models.utils import policies_until_september"
   ]
  },
  {
   "cell_type": "code",
   "execution_count": null,
   "metadata": {},
   "outputs": [],
   "source": [
    "# Load the parameters using `get_COVID19_SEIRD_parameters()`.\n",
    "params = model_parameters.get_COVID19_SEIRD_parameters()\n",
    "params.update({'policy0': Nc_total,\n",
    "              'policy1': 1.0*Nc_home + (1-0.60)*Nc_work + (1-0.70)*Nc_transport + (1-0.30)*Nc_others + (1-0.80)*Nc_leisure,\n",
    "              'policy2': 1.0*Nc_home + (1-0.50)*Nc_work + (1-0.60)*Nc_transport + (1-0.30)*Nc_others + (1-0.70)*Nc_leisure,\n",
    "              'policy3': 1.0*Nc_home + (1-0.40)*Nc_work + (1-0.55)*Nc_transport + (1-0.25)*Nc_others + (1-0.65)*Nc_leisure,\n",
    "              'policy4': 1.0*Nc_home + (1-0.30)*Nc_work + (1-0.50)*Nc_transport + (1-0.20)*Nc_others + (1-0.60)*Nc_leisure,\n",
    "              'policy5': 1.0*Nc_home + (1-0.30)*Nc_work + (1-0.45)*Nc_transport + (1-0.15)*Nc_others + (1-0.85)*Nc_schools + (1-0.50)*Nc_leisure,\n",
    "              'policy6': 1.0*Nc_home + (1-0.25)*Nc_work + (1-0.35)*Nc_transport + (1-0.10)*Nc_others + (1-0.35)*Nc_schools + (1-0.30)*Nc_leisure,\n",
    "              'policy7': 1.0*Nc_home + (1-0.20)*Nc_work + (1-0.15)*Nc_transport + (1-0.00)*Nc_others + (1-0.00)*Nc_leisure,\n",
    "               'policy8': 1.0*Nc_home + (1-0.20)*Nc_work + (1-0.15)*Nc_transport + (1-0.00)*Nc_others + (1-0.00)*Nc_leisure,\n",
    "               'policy9': 1.0*Nc_home + (1-0.20)*Nc_work + (1-0.15)*Nc_transport + (1-0.00)*Nc_others + (1-0.00)*Nc_leisure,\n",
    "               'l': np.mean(samples_dict['l']),\n",
    "              'tau': np.mean(samples_dict['tau']),\n",
    "              'prevention': np.mean(samples_dict['prevention']),\n",
    "              'start_date': pd.to_datetime('2020-03-15')})\n",
    "# Define the initial condition: one exposed inidividual in every age category\n",
    "initial_states = {'S': initN, 'E': np.ones(levels)}\n",
    "model = models.COVID19_SEIRD(initial_states, params, time_dependent_parameters={'Nc': policies_until_september})"
   ]
  },
  {
   "cell_type": "code",
   "execution_count": null,
   "metadata": {},
   "outputs": [],
   "source": [
    "end_sim = '2020-10-01'\n",
    "n=100\n",
    "percentile = 0.99\n",
    "\n",
    "y_model = model.sim(end_sim,start_date=start_date,excess_time=samples_dict['warmup'],N=n,draw_fcn=draw_sample_COVID19_SEIRD,samples=samples_dict)\n",
    "\n",
    "fig,ax = plt.subplots(figsize=(10,4))\n",
    "ax.fill_between(pd.to_datetime(y_model['time'].values),y_model[\"H_tot\"].quantile(1-percentile,dim=\"draws\").sum(dim=\"Nc\"), y_model[\"H_tot\"].quantile(percentile,dim=\"draws\").sum(dim=\"Nc\"),alpha=0.30)\n",
    "ax.plot(y_model['time'],y_model[\"H_tot\"].mean(dim=\"draws\").sum(dim=\"Nc\"),'--')\n",
    "ax.scatter(df_sciensano[:end_sim].index,df_sciensano['H_tot'][:end_sim],color='black',alpha=0.4,linestyle='None',facecolors='none')\n",
    "ax = _apply_tick_locator(ax)\n",
    "plt.savefig(fig_path+'others/lockdown_release.pdf', dpi=400, bbox_inches='tight',orientation='portrait', papertype='a4')"
   ]
  },
  {
   "cell_type": "markdown",
   "metadata": {},
   "source": [
    "### Continuation of lockdown"
   ]
  },
  {
   "cell_type": "code",
   "execution_count": null,
   "metadata": {},
   "outputs": [],
   "source": [
    "# Load the parameters using `get_COVID19_SEIRD_parameters()`.\n",
    "params = model_parameters.get_COVID19_SEIRD_parameters()\n",
    "\n",
    "lockdown_policy = 1.0*Nc_home + (1-0.60)*Nc_work + (1-0.70)*Nc_transport + (1-0.30)*Nc_others + (1-0.80)*Nc_leisure\n",
    "params.update({'policy0': Nc_total,\n",
    "              'policy1': lockdown_policy,\n",
    "              'policy2': lockdown_policy,\n",
    "              'policy3': lockdown_policy,\n",
    "              'policy4': lockdown_policy,\n",
    "              'policy5': lockdown_policy,\n",
    "              'policy6': lockdown_policy,\n",
    "              'policy7': lockdown_policy,\n",
    "              'policy8': lockdown_policy,\n",
    "              'policy9': lockdown_policy,\n",
    "              'l': np.mean(samples_dict['l']),\n",
    "              'tau': np.mean(samples_dict['tau']),\n",
    "              'prevention': np.mean(samples_dict['prevention']),\n",
    "              'start_date': pd.to_datetime('2020-03-15')})\n",
    "# Define the initial condition: one exposed inidividual in every age category\n",
    "initial_states = {'S': initN, 'E': np.ones(levels)}\n",
    "model = models.COVID19_SEIRD(initial_states, params, time_dependent_parameters={'Nc': policies_until_september})"
   ]
  },
  {
   "cell_type": "code",
   "execution_count": null,
   "metadata": {},
   "outputs": [],
   "source": [
    "end_sim = '2020-10-01'\n",
    "n=100\n",
    "percentile = 0.99\n",
    "\n",
    "y_model = model.sim(end_sim,start_date=start_date,excess_time=samples_dict['warmup'],N=n,draw_fcn=draw_sample_COVID19_SEIRD,samples=samples_dict)\n",
    "\n",
    "fig,ax = plt.subplots(figsize=(10,4))\n",
    "ax.fill_between(pd.to_datetime(y_model['time'].values),y_model[\"H_tot\"].quantile(1-percentile,dim=\"draws\").sum(dim=\"Nc\"), y_model[\"H_tot\"].quantile(percentile,dim=\"draws\").sum(dim=\"Nc\"),alpha=0.30)\n",
    "ax.plot(y_model['time'],y_model[\"H_tot\"].mean(dim=\"draws\").sum(dim=\"Nc\"),'--')\n",
    "ax.scatter(df_sciensano[:end_sim].index,df_sciensano['H_tot'][:end_sim],color='black',alpha=0.4,linestyle='None',facecolors='none')\n",
    "ax = _apply_tick_locator(ax)\n",
    "plt.savefig(fig_path+'others/continued_lockdown.pdf', dpi=400, bbox_inches='tight',orientation='portrait', papertype='a4')"
   ]
  },
  {
   "cell_type": "markdown",
   "metadata": {},
   "source": [
    "### (Legacy) Re-estimating beta"
   ]
  },
  {
   "cell_type": "code",
   "execution_count": null,
   "metadata": {},
   "outputs": [],
   "source": [
    "# Define the compliance and lockdown function\n",
    "def lockdown_func(t,param,policy_time,policy1,policy2,l,tau,prevention):\n",
    "    if t <= policy_time + tau:\n",
    "        return policy1\n",
    "    elif policy_time + tau < t <= policy_time + tau + l:\n",
    "        return policy1 + (prevention*policy2-policy1)/l*(t-policy_time-tau)\n",
    "    else:\n",
    "        return prevention*policy2"
   ]
  },
  {
   "cell_type": "code",
   "execution_count": null,
   "metadata": {},
   "outputs": [],
   "source": [
    "def beta_reestimate_func(t,param,change_beta_time,beta_old,beta_new):\n",
    "    if t <= change_beta_time:\n",
    "        return beta_old\n",
    "    elif change_beta_time < t <= change_beta_time+120:\n",
    "        return beta_new\n",
    "    else:\n",
    "        return beta_new"
   ]
  },
  {
   "cell_type": "code",
   "execution_count": null,
   "metadata": {},
   "outputs": [],
   "source": [
    "# Load previous samples\n",
    "with open('../data/interim/model_parameters/deterministic_'+datetime.datetime.today().strftime('%Y-%m-%d') +'.json', 'r') as fp:\n",
    "    samples_dict = json.load(fp)"
   ]
  },
  {
   "cell_type": "code",
   "execution_count": null,
   "metadata": {},
   "outputs": [],
   "source": [
    "# Load the parameters using `get_COVID19_SEIRD_parameters()`.\n",
    "params = model_parameters.get_COVID19_SEIRD_parameters()\n",
    "# Define the initial condition: one exposed inidividual in every age category\n",
    "initial_states = {'S': initN, 'E': np.ones(levels)}\n",
    "# Add all time-dependent parameters to function definition\n",
    "params.update({'policy1': Nc_total,\n",
    "              'policy2': 1.0*Nc_home + (1-0.60)*Nc_work + (1-0.70)*Nc_transport + (1-0.30)*Nc_others + (1-0.80)*Nc_leisure,\n",
    "              'policy_time': samples_dict['lag_time'],\n",
    "              'l': np.mean(samples_dict['l']),\n",
    "              'tau': np.mean(samples_dict['tau']),\n",
    "              'prevention': np.mean(samples_dict['prevention']),\n",
    "               'change_beta_time': np.mean(samples_dict['lag_time'])+50,\n",
    "               'beta_old': np.mean(samples_dict['beta']),\n",
    "               'beta_new': 0.06})\n",
    "# Initialise the model\n",
    "model = models.COVID19_SEIRD(initial_states, params, time_dependent_parameters={'Nc': lockdown_func, 'beta': beta_reestimate_func})"
   ]
  },
  {
   "cell_type": "code",
   "execution_count": null,
   "metadata": {},
   "outputs": [],
   "source": [
    "model.extraTime = samples_dict['lag_time']\n",
    "model.parameters['beta'] = np.mean(samples_dict['beta'])\n",
    "model.parameters['l'] = np.mean(samples_dict['l'])\n",
    "model.parameters['tau'] = np.mean(samples_dict['tau'])\n",
    "model.parameters['prevention'] = np.mean(samples_dict['prevention'])"
   ]
  },
  {
   "cell_type": "code",
   "execution_count": null,
   "metadata": {},
   "outputs": [],
   "source": [
    "T = 62\n",
    "from copy import deepcopy\n",
    "# define dataset\n",
    "data=[df_sciensano[\"H_in\"].values[:]]\n",
    "# Redine lag_time\n",
    "model.extraTime = samples_dict['lag_time']\n",
    "# define samples_dict without lag_time\n",
    "smpls=deepcopy(samples_dict)\n",
    "del smpls['lag_time']\n",
    "# set optimisation settings\n",
    "parNames = ['sigma_H_in','beta_new'] # must be a list!\n",
    "states = [[\"H_in\"]]\n",
    "bounds=((1,500),(0.001,0.06)) # must be a list!"
   ]
  },
  {
   "cell_type": "code",
   "execution_count": null,
   "metadata": {},
   "outputs": [],
   "source": [
    "# run optimisation\n",
    "theta = MCMC.fit_pso(model,data,parNames,states,bounds,samples=smpls,maxiter=50,popsize=20)"
   ]
  },
  {
   "cell_type": "code",
   "execution_count": null,
   "metadata": {},
   "outputs": [],
   "source": [
    "parNames = ['sigma_ICU','beta_new'] # must be a list!\n",
    "bounds=((1,200),(0.0001,0.20))\n",
    "\n",
    "pos = [theta[0],theta[1]] + [1, 1e-2 ]* np.random.randn(8, 2)\n",
    "nwalkers, ndim = pos.shape\n",
    "sampler = emcee.EnsembleSampler(nwalkers, ndim, objective_fcns.log_probability,\n",
    "                                args=(model,bounds,data,states,parNames,smpls))\n",
    "sampler.run_mcmc(pos, 1000, progress=True);"
   ]
  },
  {
   "cell_type": "code",
   "execution_count": null,
   "metadata": {},
   "outputs": [],
   "source": [
    "samples = sampler.get_chain(discard=100,flat=False)\n",
    "flat_samples = sampler.get_chain(discard=100,flat=True)"
   ]
  },
  {
   "cell_type": "code",
   "execution_count": null,
   "metadata": {},
   "outputs": [],
   "source": [
    "# Calculate the autocorrelation time\n",
    "try:\n",
    "    print(sampler.get_autocorr_time())\n",
    "except:\n",
    "    print('The chain is shorter than 50 times the integrated autocorrelation time.')"
   ]
  },
  {
   "cell_type": "code",
   "execution_count": null,
   "metadata": {},
   "outputs": [],
   "source": [
    "mean = np.mean(flat_samples[:,1])\n",
    "p10 = np.percentile(flat_samples[:,1],10)\n",
    "p90 = np.percentile(flat_samples[:,1],90)\n",
    "print(mean,p10,p90)"
   ]
  },
  {
   "cell_type": "code",
   "execution_count": null,
   "metadata": {},
   "outputs": [],
   "source": [
    "samples_dict.update({'beta_new': flat_samples[:,1].tolist()})"
   ]
  },
  {
   "cell_type": "code",
   "execution_count": null,
   "metadata": {},
   "outputs": [],
   "source": [
    "with open('../data/interim/model_parameters/deterministic_'+ datetime.datetime.today().strftime('%Y-%m-%d')+'.json', 'w') as fp:\n",
    "    json.dump(samples_dict, fp)"
   ]
  },
  {
   "cell_type": "code",
   "execution_count": null,
   "metadata": {},
   "outputs": [],
   "source": [
    "traceplot(samples,labels=[\"sigma2_ICU\",\"beta_new\"],plt_kwargs={'linewidth':2,'color': 'red','alpha': 0.15})"
   ]
  },
  {
   "cell_type": "code",
   "execution_count": null,
   "metadata": {},
   "outputs": [],
   "source": [
    "import corner\n",
    "\n",
    "fig = corner.corner(\n",
    "    flat_samples,labels=['$\\sigma_{data}$','$\\\\beta_{new}$']\n",
    ");\n",
    "fig.set_size_inches(8, 8)\n",
    "plt.savefig('../results/calibration_non_spatial_deterministic/corner_beta.pdf', dpi=600, bbox_inches='tight',\n",
    "                    orientation='portrait', papertype='a4')"
   ]
  },
  {
   "cell_type": "code",
   "execution_count": null,
   "metadata": {},
   "outputs": [],
   "source": [
    "# define dataset\n",
    "data=[df_sciensano[\"H_tot\"].values[:],df_sciensano[\"ICU_tot\"].values[:]]\n",
    "states = [[\"H_tot\"],[\"ICU\"]]"
   ]
  },
  {
   "cell_type": "code",
   "execution_count": null,
   "metadata": {},
   "outputs": [],
   "source": [
    "T = 1\n",
    "start_date='15-03-2020'\n",
    "#data=[df_sciensano[\"H_in\"].values[:]]\n",
    "\n",
    "fig,ax=plt.subplots()\n",
    "for i in range(100):\n",
    "    model.parameters['beta'] = np.random.choice(samples_dict['beta'],1,replace=False)\n",
    "    idx,model.parameters['l'] = random.choice(list(enumerate(samples_dict['l'])))\n",
    "    model.parameters['tau'] = samples_dict['tau'][idx]\n",
    "    model.parameters['prevention'] = samples_dict['prevention'][idx]\n",
    "    model.parameters['beta_new'] = np.random.choice(samples_dict['beta_new'],1,replace=False)\n",
    "\n",
    "    y_model = model.sim(data[0].size+samples_dict['lag_time']-1+T)\n",
    "    ax = plot_fit(y_model,data,start_date,samples_dict['lag_time'],states,T=T,ax=ax,plt_kwargs={'linewidth': 2,'alpha': 0.05})\n",
    "    \n",
    "#plt.scatter(pd.date_range('15-03-2020',freq='D',periods=df_sciensano[\"H_in\"][:50].size),df_sciensano[\"H_in\"][:50], marker='o',color='red',linestyle='None',facecolors='none')\n",
    "legend_text=['daily \\nhospitalizations']\n",
    "leg=ax.legend(legend_text, loc=\"upper left\", bbox_to_anchor=(1,1))\n",
    "plt.savefig('../results/calibration_non_spatial_deterministic/plot_fit_beta.pdf', dpi=600, bbox_inches='tight',orientation='portrait', papertype='a4')"
   ]
  },
  {
   "cell_type": "markdown",
   "metadata": {},
   "source": [
    "#### Re-compute the basic reproduction number"
   ]
  },
  {
   "cell_type": "code",
   "execution_count": null,
   "metadata": {},
   "outputs": [],
   "source": [
    "R_0 = (model.parameters['a']*model.parameters['da']+model.parameters['omega'])*mean*model.parameters['s']*np.sum(Nc_total,axis=1)"
   ]
  }
 ],
 "metadata": {
  "kernelspec": {
   "display_name": "Python 3",
   "language": "python",
   "name": "python3"
  },
  "language_info": {
   "codemirror_mode": {
    "name": "ipython",
    "version": 3
   },
   "file_extension": ".py",
   "mimetype": "text/x-python",
   "name": "python",
   "nbconvert_exporter": "python",
   "pygments_lexer": "ipython3",
   "version": "3.8.2"
  },
  "toc": {
   "base_numbering": 1,
   "nav_menu": {},
   "number_sections": true,
   "sideBar": true,
   "skip_h1_title": false,
   "title_cell": "Table of Contents",
   "title_sidebar": "Contents",
   "toc_cell": false,
   "toc_position": {},
   "toc_section_display": true,
   "toc_window_display": false
  }
 },
 "nbformat": 4,
 "nbformat_minor": 4
}
