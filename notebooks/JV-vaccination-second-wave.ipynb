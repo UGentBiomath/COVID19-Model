{
 "cells": [
  {
   "cell_type": "markdown",
   "metadata": {
    "toc": true
   },
   "source": [
    "<h1>Table of Contents<span class=\"tocSkip\"></span></h1>\n",
    "<div class=\"toc\"><ul class=\"toc-item\"><li><span><a href=\"#Data,-policy-and-model-initialization\" data-toc-modified-id=\"Data,-policy-and-model-initialization-1\"><span class=\"toc-item-num\">1&nbsp;&nbsp;</span>Data, policy and model initialization</a></span><ul class=\"toc-item\"><li><span><a href=\"#Load-contact-data\" data-toc-modified-id=\"Load-contact-data-1.1\"><span class=\"toc-item-num\">1.1&nbsp;&nbsp;</span>Load contact data</a></span></li><li><span><a href=\"#Load-publically-available-data-from-Sciensano\" data-toc-modified-id=\"Load-publically-available-data-from-Sciensano-1.2\"><span class=\"toc-item-num\">1.2&nbsp;&nbsp;</span>Load publically available data from Sciensano</a></span></li><li><span><a href=\"#Load-posterior-parameter-distributions-of-calibrated-parameters\" data-toc-modified-id=\"Load-posterior-parameter-distributions-of-calibrated-parameters-1.3\"><span class=\"toc-item-num\">1.3&nbsp;&nbsp;</span>Load posterior parameter distributions of calibrated parameters</a></span></li></ul></li><li><span><a href=\"#Scenario-1:-no-vaccination\" data-toc-modified-id=\"Scenario-1:-no-vaccination-2\"><span class=\"toc-item-num\">2&nbsp;&nbsp;</span>Scenario 1: no vaccination</a></span></li><li><span><a href=\"#Functions\" data-toc-modified-id=\"Functions-3\"><span class=\"toc-item-num\">3&nbsp;&nbsp;</span>Functions</a></span></li><li><span><a href=\"#Try-out-functions\" data-toc-modified-id=\"Try-out-functions-4\"><span class=\"toc-item-num\">4&nbsp;&nbsp;</span>Try-out functions</a></span></li><li><span><a href=\"#Scenario-2:-Vaccination-old-to-young,-eff=0.7\" data-toc-modified-id=\"Scenario-2:-Vaccination-old-to-young,-eff=0.7-5\"><span class=\"toc-item-num\">5&nbsp;&nbsp;</span>Scenario 2: Vaccination old to young, eff=0.7</a></span></li><li><span><a href=\"#Scenario-3:-First-the-most-mobile,-eff=0.7\" data-toc-modified-id=\"Scenario-3:-First-the-most-mobile,-eff=0.7-6\"><span class=\"toc-item-num\">6&nbsp;&nbsp;</span>Scenario 3: First the most mobile, eff=0.7</a></span></li><li><span><a href=\"#Scenario-4:-Vaccination-old-to-young,-eff=0.9\" data-toc-modified-id=\"Scenario-4:-Vaccination-old-to-young,-eff=0.9-7\"><span class=\"toc-item-num\">7&nbsp;&nbsp;</span>Scenario 4: Vaccination old to young, eff=0.9</a></span></li><li><span><a href=\"#Scenario-5:-First-the-most-mobile,-eff=0.9\" data-toc-modified-id=\"Scenario-5:-First-the-most-mobile,-eff=0.9-8\"><span class=\"toc-item-num\">8&nbsp;&nbsp;</span>Scenario 5: First the most mobile, eff=0.9</a></span></li><li><span><a href=\"#Figures\" data-toc-modified-id=\"Figures-9\"><span class=\"toc-item-num\">9&nbsp;&nbsp;</span>Figures</a></span></li><li><span><a href=\"#Fast-plotting\" data-toc-modified-id=\"Fast-plotting-10\"><span class=\"toc-item-num\">10&nbsp;&nbsp;</span>Fast plotting</a></span></li></ul></div>"
   ]
  },
  {
   "cell_type": "markdown",
   "metadata": {},
   "source": [
    "\n",
    "*Authored by T.W. Alleman in consultation with the BIOMATH research unit headed by prof. Ingmar Nopens.*\n",
    "\n",
    "Copyright (c) 2020 by T.W. Alleman, BIOMATH, Ghent University. All Rights Reserved."
   ]
  },
  {
   "cell_type": "code",
   "execution_count": 1,
   "metadata": {
    "ExecuteTime": {
     "end_time": "2020-11-25T18:32:34.803323Z",
     "start_time": "2020-11-25T18:32:32.966845Z"
    }
   },
   "outputs": [],
   "source": [
    "import numpy as np\n",
    "%matplotlib notebook\n",
    "import matplotlib\n",
    "import matplotlib.pyplot as plt\n",
    "import matplotlib.dates as mdates\n",
    "import pandas as pd\n",
    "import datetime\n",
    "import scipy\n",
    "import json\n",
    "import random\n",
    "\n",
    "from covid19model.optimization import objective_fcns\n",
    "from covid19model.models import models\n",
    "from covid19model.models.utils import draw_sample_COVID19_SEIRD\n",
    "from covid19model.models.time_dependant_parameter_fncs import ramp_fun, google_lockdown\n",
    "from covid19model.data import google, sciensano, model_parameters\n",
    "from covid19model.visualization.output import population_status, infected, _apply_tick_locator\n",
    "from covid19model.visualization.optimization import plot_fit, traceplot\n",
    "\n",
    "plt.rcParams.update({'font.size': 12, 'axes.grid':False})\n",
    "\n",
    "# OPTIONAL: Load the \"autoreload\" extension so that package code can change\n",
    "%load_ext autoreload\n",
    "# OPTIONAL: always reload modules so that as you change code in src, it gets loaded\n",
    "%autoreload 2"
   ]
  },
  {
   "cell_type": "markdown",
   "metadata": {},
   "source": [
    "# Data, policy and model initialization"
   ]
  },
  {
   "cell_type": "markdown",
   "metadata": {},
   "source": [
    "## Load contact data"
   ]
  },
  {
   "cell_type": "code",
   "execution_count": 2,
   "metadata": {
    "ExecuteTime": {
     "end_time": "2020-11-25T18:32:35.611276Z",
     "start_time": "2020-11-25T18:32:34.806003Z"
    }
   },
   "outputs": [],
   "source": [
    "# Load the interaction matrices (size: 9x9)\n",
    "initN, Nc_home, Nc_work, Nc_schools, Nc_transport, Nc_leisure, Nc_others, Nc_total = model_parameters.get_interaction_matrices(dataset='willem_2012',intensity='all')\n",
    "# Define the number of age categories\n",
    "levels = initN.size\n",
    "\n",
    "initN, Nc_home_15, Nc_work_15, Nc_schools_15, Nc_transport_15, Nc_leisure_15, Nc_others_15, Nc_total_15 = model_parameters.get_interaction_matrices(dataset='willem_2012',intensity='more_15_min')\n",
    "initN, Nc_home_1hr, Nc_work_1hr, Nc_schools_1hr, Nc_transport_1hr, Nc_leisure_1hr, Nc_others_1hr, Nc_total_1hr = model_parameters.get_interaction_matrices(dataset='willem_2012',intensity='more_one_hour')"
   ]
  },
  {
   "cell_type": "code",
   "execution_count": 3,
   "metadata": {
    "ExecuteTime": {
     "end_time": "2020-11-25T18:32:36.438674Z",
     "start_time": "2020-11-25T18:32:36.393119Z"
    }
   },
   "outputs": [],
   "source": [
    "Nc_all = {'total': Nc_total, 'home':Nc_home, 'work': Nc_work, 'schools': Nc_schools, 'transport': Nc_transport, 'leisure': Nc_leisure, 'others': Nc_others}\n",
    "Nc_15min = {'total': Nc_total_15, 'home': Nc_home_15, 'work': Nc_work_15, 'schools': Nc_schools_15, 'transport': Nc_transport_15, 'leisure': Nc_leisure_15, 'others': Nc_others_15}\n",
    "Nc_1hr = {'total': Nc_total_1hr, 'home': Nc_home_1hr, 'work': Nc_work_1hr, 'schools': Nc_schools_1hr, 'transport': Nc_transport_1hr, 'leisure': Nc_leisure_1hr, 'others': Nc_others_1hr}"
   ]
  },
  {
   "cell_type": "markdown",
   "metadata": {},
   "source": [
    "## Load publically available data from Sciensano"
   ]
  },
  {
   "cell_type": "code",
   "execution_count": 4,
   "metadata": {
    "ExecuteTime": {
     "end_time": "2020-11-25T18:32:37.789428Z",
     "start_time": "2020-11-25T18:32:37.680077Z"
    }
   },
   "outputs": [],
   "source": [
    "df_sciensano = sciensano.get_sciensano_COVID19_data(update=False)\n"
   ]
  },
  {
   "cell_type": "code",
   "execution_count": 5,
   "metadata": {
    "ExecuteTime": {
     "end_time": "2020-11-25T18:32:38.046353Z",
     "start_time": "2020-11-25T18:32:37.981096Z"
    }
   },
   "outputs": [],
   "source": [
    "df_google = google.get_google_mobility_data(update=False, plot=False)"
   ]
  },
  {
   "cell_type": "markdown",
   "metadata": {},
   "source": [
    "## Load posterior parameter distributions of calibrated parameters"
   ]
  },
  {
   "cell_type": "code",
   "execution_count": 6,
   "metadata": {
    "ExecuteTime": {
     "end_time": "2020-11-25T18:32:39.347713Z",
     "start_time": "2020-11-25T18:32:39.094827Z"
    }
   },
   "outputs": [],
   "source": [
    "# Load samples dictionary of the first wave\n",
    "with open('../data/interim/model_parameters/COVID19_SEIRD/calibrations/national/BE_2020-11-13_WAVE2_GOOGLE.json', 'r') as fp:\n",
    "    samples_dict = json.load(fp)\n",
    "\n",
    "with open('../data/interim/model_parameters/COVID19_SEIRD/calibrations/national/google/initial_states_2020-09-01.json', 'r') as fp:\n",
    "    initial_states_sept = json.load(fp) "
   ]
  },
  {
   "cell_type": "code",
   "execution_count": null,
   "metadata": {
    "ExecuteTime": {
     "end_time": "2020-11-14T19:11:19.802343Z",
     "start_time": "2020-11-14T19:11:19.752273Z"
    }
   },
   "outputs": [],
   "source": [
    "samples_dict.keys()"
   ]
  },
  {
   "cell_type": "code",
   "execution_count": null,
   "metadata": {
    "ExecuteTime": {
     "end_time": "2020-11-23T07:47:41.521313Z",
     "start_time": "2020-11-23T07:47:41.340267Z"
    }
   },
   "outputs": [],
   "source": [
    "fig,ax = plt.subplots()\n",
    "pd.Series(samples_dict['beta']).hist()\n",
    "pd.Series(samples_dict['tau']).hist()"
   ]
  },
  {
   "cell_type": "code",
   "execution_count": 7,
   "metadata": {
    "ExecuteTime": {
     "end_time": "2020-11-25T18:32:42.180167Z",
     "start_time": "2020-11-25T18:32:42.140565Z"
    }
   },
   "outputs": [],
   "source": [
    "UL = 0.975\n",
    "LL = 0.025"
   ]
  },
  {
   "cell_type": "code",
   "execution_count": 8,
   "metadata": {
    "ExecuteTime": {
     "end_time": "2020-11-25T18:32:42.372165Z",
     "start_time": "2020-11-25T18:32:42.333086Z"
    }
   },
   "outputs": [],
   "source": [
    "start_calibration = '2020-09-01'\n",
    "end_calibration = '2020-11-12'\n",
    "end_sim = '2021-03-01'"
   ]
  },
  {
   "cell_type": "code",
   "execution_count": 9,
   "metadata": {
    "ExecuteTime": {
     "end_time": "2020-11-25T18:32:42.906608Z",
     "start_time": "2020-11-25T18:32:42.661322Z"
    }
   },
   "outputs": [],
   "source": [
    "# Load the model parameters using `get_COVID19_SEIRD_parameters()`.\n",
    "params = model_parameters.get_COVID19_SEIRD_parameters()\n",
    "\n",
    "params.update({'df_google': df_google,\n",
    "              'Nc_all' : Nc_all,\n",
    "              'Nc_15min' : Nc_15min,\n",
    "              'Nc_1hr' : Nc_1hr,\n",
    "               'l' : 5,\n",
    "               'tau' : 5,\n",
    "               'prevention':0.5\n",
    "              })"
   ]
  },
  {
   "cell_type": "markdown",
   "metadata": {},
   "source": [
    "# Scenario 1: no vaccination"
   ]
  },
  {
   "cell_type": "code",
   "execution_count": 10,
   "metadata": {
    "ExecuteTime": {
     "end_time": "2020-11-25T18:32:45.736374Z",
     "start_time": "2020-11-25T18:32:45.695180Z"
    }
   },
   "outputs": [],
   "source": [
    "# Initialize the model\n",
    "model_S1 = models.COVID19_SEIRD(initial_states_sept, params, time_dependent_parameters={'Nc': google_lockdown})"
   ]
  },
  {
   "cell_type": "code",
   "execution_count": null,
   "metadata": {
    "ExecuteTime": {
     "end_time": "2020-11-25T16:30:33.468755Z",
     "start_time": "2020-11-25T16:30:33.430667Z"
    },
    "scrolled": false
   },
   "outputs": [],
   "source": [
    "# end_sim = '2021-01-01'\n",
    "\n",
    "# fig,ax=plt.subplots(figsize=(10,4))\n",
    "# for i in range(20):\n",
    "#     # Sampling\n",
    "#     model_S1.parameters['beta'] = np.random.choice(samples_dict['beta'])\n",
    "#     idx,model_S1.parameters['l'] = random.choice(list(enumerate(samples_dict['l'])))\n",
    "#     model_S1.parameters['tau'] = samples_dict['tau'][idx]   \n",
    "#     # Simulate\n",
    "#     y_model_S1 = model_S1.sim(end_sim,start_date=start_calibration,warmup=0)\n",
    "#     # Plot\n",
    "#     ax.plot(y_model_S1['time'],y_model_S1[\"H_in\"].sum(dim=\"Nc\"),color='blue',alpha=0.02)\n",
    "\n",
    "# ax.scatter(df_sciensano[start_calibration:end_calibration].index,df_sciensano['H_in'][start_calibration:end_calibration],color='black',alpha=0.6,linestyle='None',facecolors='none')\n",
    "\n",
    "# ax = _apply_tick_locator(ax)\n",
    "# ax.set_xlim('2020-09-01',end_sim)"
   ]
  },
  {
   "cell_type": "markdown",
   "metadata": {},
   "source": [
    "# Functions"
   ]
  },
  {
   "cell_type": "code",
   "execution_count": 11,
   "metadata": {
    "ExecuteTime": {
     "end_time": "2020-11-25T18:32:49.134406Z",
     "start_time": "2020-11-25T18:32:49.094989Z"
    }
   },
   "outputs": [],
   "source": [
    "from math import floor"
   ]
  },
  {
   "cell_type": "code",
   "execution_count": 12,
   "metadata": {
    "ExecuteTime": {
     "end_time": "2020-11-25T18:32:49.434662Z",
     "start_time": "2020-11-25T18:32:49.381738Z"
    }
   },
   "outputs": [],
   "source": [
    "def vacc_policy(t, vaccN, daily, order):\n",
    "    \n",
    "    \"\"\"\n",
    "    t : timestamp\n",
    "        current time in simulation\n",
    "    vaccN : array\n",
    "        population per age group to be vaccinated for effectiveness\n",
    "    daily : int\n",
    "        daily number of people vaccinated\n",
    "    order : list\n",
    "        ordered list of number 0 to 8, representing 9 age groups\n",
    "    \"\"\"\n",
    "    \n",
    "    vaccinations = np.array([0.0]*9)\n",
    "\n",
    "    # Define additional dates where intensity or school policy changes\n",
    "    t0 = pd.Timestamp('2020-09-01') # start vaccination\n",
    "    t1 = t0 + pd.Timedelta(floor(vaccN[order[0]]/daily), unit='D') # end vaccination group 0\n",
    "    t2 = t1 + pd.Timedelta(floor(vaccN[order[1]]/daily), unit='D') # end vaccination group 1\n",
    "    t3 = t2 + pd.Timedelta(floor(vaccN[order[2]]/daily), unit='D') \n",
    "    t4 = t3 + pd.Timedelta(floor(vaccN[order[3]]/daily), unit='D') \n",
    "    t5 = t4 + pd.Timedelta(floor(vaccN[order[4]]/daily), unit='D')\n",
    "    t6 = t5 + pd.Timedelta(floor(vaccN[order[5]]/daily), unit='D') \n",
    "    t7 = t6 + pd.Timedelta(floor(vaccN[order[6]]/daily), unit='D') \n",
    "    t8 = t7 + pd.Timedelta(floor(vaccN[order[7]]/daily), unit='D') \n",
    "    t9 = t8 + pd.Timedelta(floor(vaccN[order[8]]/daily), unit='D') # end vaccination group 8\n",
    "\n",
    "    if t < t1:\n",
    "        vaccinations[order[0]] = daily/vaccN[order[0]]\n",
    "        return vaccinations\n",
    "    \n",
    "    if t < t2:\n",
    "        vaccinations[order[1]] = daily/vaccN[order[1]]\n",
    "        return vaccinations\n",
    "    \n",
    "    if t < t3:\n",
    "        vaccinations[order[2]] = daily/vaccN[order[2]]\n",
    "        return vaccinations\n",
    "    \n",
    "    if t < t4:\n",
    "        vaccinations[order[3]] = daily/vaccN[order[3]]\n",
    "        return vaccinations\n",
    "    \n",
    "    if t < t5:\n",
    "        vaccinations[order[4]] = daily/vaccN[order[4]]\n",
    "        return vaccinations\n",
    "    \n",
    "    if t < t6:\n",
    "        vaccinations[order[5]] = daily/vaccN[order[5]]\n",
    "        return vaccinations\n",
    "    \n",
    "    if t < t7:\n",
    "        vaccinations[order[6]] = daily/vaccN[order[6]]\n",
    "        return vaccinations\n",
    "    \n",
    "    if t < t8:\n",
    "        vaccinations[order[7]] = daily/vaccN[order[7]]\n",
    "        return vaccinations\n",
    "    \n",
    "    else:\n",
    "        vaccinations[order[8]] = daily/vaccN[order[8]]\n",
    "        return vaccinations\n",
    "    "
   ]
  },
  {
   "cell_type": "code",
   "execution_count": 16,
   "metadata": {
    "ExecuteTime": {
     "end_time": "2020-11-25T18:33:28.242470Z",
     "start_time": "2020-11-25T18:33:28.198398Z"
    }
   },
   "outputs": [],
   "source": [
    "def calc_vaccN(suscN, expN, recN, vaccinated_prop, order, effectivity):\n",
    "    \n",
    "    \"\"\"\n",
    "    Parameters\n",
    "    ----------\n",
    "    \n",
    "    suscN : array\n",
    "        numbers of susceptibles per age group\n",
    "    expN : array\n",
    "        numbers of exposed per age group\n",
    "    recN : array\n",
    "        numbers of recovered per age group\n",
    "    vaccinated_prop: float\n",
    "        proportion of the population already vaccinated (following the same strategy as further implemented)\n",
    "    order : list\n",
    "        ordered list of number 0 to 8, representing 9 age groups  \n",
    "       \n",
    "    Returns\n",
    "    ------\n",
    "    \n",
    "    vaccN : array\n",
    "        numbers of people to vaccinate per age group\n",
    "    new_suscN : array\n",
    "        numbers of remaining susceptibles per age group, taking effectivity into account\n",
    "    new_expN : array\n",
    "        numbers of remaining exposed per age group, taking effectivity into account\n",
    "    new_recN : array\n",
    "        numbers of resulting recovered per age group\n",
    "    \"\"\"\n",
    "\n",
    "    vaccN = suscN.copy()\n",
    "    new_suscN = suscN.copy()\n",
    "    new_expN = expN.copy()\n",
    "    \n",
    "    # every person who is vaccinated is considered immune, hence leaves vaccN\n",
    "    vaccinated = np.sum(suscN)*vaccinated_prop\n",
    "    for i in order:\n",
    "        left_in_i = suscN[i] - vaccinated\n",
    "        vaccinated = max(0,(vaccinated - suscN[i]))\n",
    "        vaccN[i] =  max(0,left_in_i)\n",
    "        \n",
    "    # in reality, only a proportion of the vaccinated people are not susceptible anymore\n",
    "    real_vaccinated = np.sum(suscN)*vaccinated_prop*effectivity\n",
    "    for i in order:\n",
    "        left_in_i = suscN[i] - real_vaccinated\n",
    "        real_vaccinated = max(0,(real_vaccinated - suscN[i]))\n",
    "        new_suscN[i] =  max(0,left_in_i)\n",
    "        \n",
    "    # we suppose that in the exposed pool, a proportional number of people cannot be infected anymore\n",
    "#     real_vaccinated = np.sum(expN)*vaccinated_prop*effectivity\n",
    "#     for i in order:\n",
    "#         left_in_i = expN[i] - real_vaccinated\n",
    "#         real_vaccinated = max(0,(real_vaccinated - expN[i]))\n",
    "#         new_expN[i] =  max(0,left_in_i)\n",
    "        \n",
    "    susc_to_rec = suscN - new_suscN\n",
    "    exp_to_rec = expN - new_expN\n",
    "    new_recN = recN + susc_to_rec + exp_to_rec\n",
    "        \n",
    "    return vaccN, new_suscN, new_expN, new_recN"
   ]
  },
  {
   "cell_type": "code",
   "execution_count": 14,
   "metadata": {
    "ExecuteTime": {
     "end_time": "2020-11-25T18:32:53.129031Z",
     "start_time": "2020-11-25T18:32:53.086882Z"
    }
   },
   "outputs": [],
   "source": [
    "def vaccin_model(vaccinated_prop, order, daily, effectivity, initial_states_no_vacc, levels=levels):\n",
    "    suscN = np.array(initial_states_no_vacc['S'])\n",
    "    expN = np.array(initial_states_no_vacc['E'])\n",
    "    recN = np.array(initial_states_no_vacc['R'])\n",
    "    new_vaccN, new_suscN, new_expN, new_recN = calc_vaccN(suscN, expN, recN, vaccinated_prop, order, effectivity)\n",
    "    params.update({'vaccN' : new_vaccN,\n",
    "                   'daily' : daily,\n",
    "                   'order' : order,\n",
    "                   'e' : np.array([effectivity]*levels)\n",
    "                 })\n",
    "    # Adapt initial states\n",
    "    initial_states = initial_states_no_vacc.copy()\n",
    "    initial_states.update({'S' : new_suscN,\n",
    "                           'E' : new_expN,\n",
    "                           'R' : new_recN})\n",
    "    return models.COVID19_SEIRD(initial_states, params, time_dependent_parameters={'Nc': google_lockdown,\n",
    "                                                                                   'v':vacc_policy})"
   ]
  },
  {
   "cell_type": "code",
   "execution_count": 15,
   "metadata": {
    "ExecuteTime": {
     "end_time": "2020-11-25T18:32:53.312402Z",
     "start_time": "2020-11-25T18:32:53.271282Z"
    }
   },
   "outputs": [],
   "source": [
    "def plot_band(ax, y_model, var, color, label):\n",
    "    ax.fill_between(pd.to_datetime(y_model['time'].values),y_model[var].quantile(LL,dim=\"draws\").sum(dim=\"Nc\"), \n",
    "                    y_model[var].quantile(UL,dim=\"draws\").sum(dim=\"Nc\"),alpha=0.30, facecolor = color)\n",
    "    ax.plot(y_model['time'],y_model[var].mean(dim=\"draws\").sum(dim=\"Nc\"), color=color, label=label, lw=2)\n",
    "    return"
   ]
  },
  {
   "cell_type": "markdown",
   "metadata": {
    "heading_collapsed": true
   },
   "source": [
    "# Try-out functions"
   ]
  },
  {
   "cell_type": "code",
   "execution_count": null,
   "metadata": {
    "ExecuteTime": {
     "end_time": "2020-11-25T09:20:15.707090Z",
     "start_time": "2020-11-25T09:20:15.668016Z"
    },
    "hidden": true
   },
   "outputs": [],
   "source": [
    "suscN = initial_states['S']"
   ]
  },
  {
   "cell_type": "code",
   "execution_count": null,
   "metadata": {
    "ExecuteTime": {
     "end_time": "2020-11-25T09:20:19.293224Z",
     "start_time": "2020-11-25T09:20:19.247564Z"
    },
    "hidden": true
   },
   "outputs": [],
   "source": [
    "suscN"
   ]
  },
  {
   "cell_type": "code",
   "execution_count": null,
   "metadata": {
    "ExecuteTime": {
     "end_time": "2020-11-25T09:22:04.595017Z",
     "start_time": "2020-11-25T09:22:04.554135Z"
    },
    "hidden": true
   },
   "outputs": [],
   "source": [
    "    vaccN = np.array(suscN)*0.75\n",
    "    new_vaccN = vaccN.copy()\n",
    "\n",
    "    vaccinated = np.sum(suscN)*0.3\n",
    "    for i in order:\n",
    "        left_in_i = vaccN[i] - vaccinated\n",
    "        vaccinated = max(0,(vaccinated - vaccN[i]))\n",
    "        new_vaccN[i] =  max(0,left_in_i)"
   ]
  },
  {
   "cell_type": "code",
   "execution_count": null,
   "metadata": {
    "ExecuteTime": {
     "end_time": "2020-11-25T09:22:06.933051Z",
     "start_time": "2020-11-25T09:22:06.884911Z"
    },
    "hidden": true
   },
   "outputs": [],
   "source": [
    "vaccN"
   ]
  },
  {
   "cell_type": "code",
   "execution_count": null,
   "metadata": {
    "ExecuteTime": {
     "end_time": "2020-11-25T09:22:08.196856Z",
     "start_time": "2020-11-25T09:22:08.155650Z"
    },
    "hidden": true
   },
   "outputs": [],
   "source": [
    "new_vaccN"
   ]
  },
  {
   "cell_type": "code",
   "execution_count": null,
   "metadata": {
    "ExecuteTime": {
     "end_time": "2020-11-25T09:22:11.055111Z",
     "start_time": "2020-11-25T09:22:11.012540Z"
    },
    "hidden": true
   },
   "outputs": [],
   "source": []
  },
  {
   "cell_type": "code",
   "execution_count": null,
   "metadata": {
    "ExecuteTime": {
     "end_time": "2020-11-25T08:01:41.725990Z",
     "start_time": "2020-11-25T08:01:41.449742Z"
    },
    "hidden": true
   },
   "outputs": [],
   "source": [
    "# def vacc_policy_old_to_young(t, initN, daily):\n",
    "    \n",
    "#     vacc_level = 0.75\n",
    "#     vaccN = initN*vacc_level\n",
    "\n",
    "#     # Define additional dates where intensity or school policy changes\n",
    "#     t1 = pd.Timestamp('2020-09-01') # start vaccination 80+\n",
    "#     t2 = t1 + pd.Timedelta(floor(vaccN[7]/daily), unit='D') # start vaccination 70+\n",
    "#     t3 = t2 + pd.Timedelta(floor(vaccN[8]/daily), unit='D') # start vacciation 60+\n",
    "#     t4 = t3 + pd.Timedelta(floor(vaccN[6]/daily), unit='D') # start vacciation 50+\n",
    "#     t5 = t4 + pd.Timedelta(floor(vaccN[5]/daily), unit='D') # start vacciation 40+\n",
    "#     t6 = t5 + pd.Timedelta(floor(vaccN[4]/daily), unit='D') # start vacciation 30+\n",
    "\n",
    "    \n",
    "#     vaccinations = {'0-9':0,\n",
    "#                     '10-19':0,\n",
    "#                     '20-29':0,\n",
    "#                     '30-39':0,\n",
    "#                     '40-49':0,\n",
    "#                     '50-59':0,\n",
    "#                     '60-69':0,\n",
    "#                     '70-79':0,\n",
    "#                     '80+':0}\n",
    "#     if t < t2:\n",
    "#         vaccinations.update({'70-79':daily/vaccN[7]})\n",
    "#         return [value for key, value in vaccinations.items()]\n",
    "#     elif t < t3:\n",
    "#         vaccinations.update({'80+':daily/vaccN[8]})\n",
    "#         return [value for key, value in vaccinations.items()]\n",
    "#     elif t < t4:\n",
    "#         vaccinations.update({'60-69':daily/vaccN[6]})\n",
    "#         return [value for key, value in vaccinations.items()]\n",
    "#     elif t < t5:\n",
    "#         vaccinations.update({'50-59':daily/vaccN[5]})\n",
    "#         return [value for key, value in vaccinations.items()]\n",
    "#     elif t < t6:\n",
    "#         vaccinations.update({'40-49':daily/vaccN[4]})\n",
    "#         return [value for key, value in vaccinations.items()]\n",
    "#     else:\n",
    "#         vaccinations.update({'30-39':daily/vaccN[3]})\n",
    "#         return [value for key, value in vaccinations.items()]"
   ]
  },
  {
   "cell_type": "code",
   "execution_count": null,
   "metadata": {
    "ExecuteTime": {
     "end_time": "2020-11-25T08:13:00.729896Z",
     "start_time": "2020-11-25T08:13:00.691971Z"
    },
    "hidden": true
   },
   "outputs": [],
   "source": [
    "# times = pd.date_range(start='2020-09-01', freq='D', end='2021-01-01')\n",
    "# for t in times:\n",
    "#     v = vacc_policy_old_to_young(t, initN, 10000)\n",
    "#     print(v)"
   ]
  },
  {
   "cell_type": "code",
   "execution_count": null,
   "metadata": {
    "ExecuteTime": {
     "end_time": "2020-11-25T08:12:58.839848Z",
     "start_time": "2020-11-25T08:12:58.799901Z"
    },
    "hidden": true
   },
   "outputs": [],
   "source": [
    "# for t in times:\n",
    "#     v = vacc_policy(t, initN, 10000, order = [7,8,6,5,4,3,2,1,0])\n",
    "#     print(v)"
   ]
  },
  {
   "cell_type": "code",
   "execution_count": null,
   "metadata": {
    "ExecuteTime": {
     "end_time": "2020-11-25T07:26:01.725169Z",
     "start_time": "2020-11-25T07:26:01.587846Z"
    },
    "hidden": true
   },
   "outputs": [],
   "source": [
    "# def vacc_policy(t, initN, daily, order):\n",
    "    \n",
    "#     vaccinations = [0]*9\n",
    "#     vacc_level = 0.75\n",
    "#     vaccN = initN*vacc_level\n",
    "\n",
    "#     vacc_df = pd.DataFrame({'age_group':np.arange(0,9)})\n",
    "#     vacc_df['v'] = vacc_df.age_group.apply(lambda x: daily/vaccN[x])\n",
    "#     vacc_df['end_time'] = None\n",
    "    \n",
    "#     end_times = {}\n",
    "#     end_times[0] = pd.Timestamp('2020-09-01')\n",
    "    \n",
    "#     for i in np.arange(1,len(order)+1):\n",
    "#         end_times[i] = end_times[i-1] + pd.Timedelta(floor(vaccN[order[i-1]]/daily), unit='D')\n",
    "#         vacc_df.loc[vacc_dc.age_group==order[i-1],'end_time'] = end_times[i]\n",
    "    \n",
    "#     v = vacc_df[t<vacc_df.end_time].sort_values(by='end_time').iloc[0]['v']\n",
    "#     age = vacc_df[t<vacc_df.end_time].sort_values(by='end_time').iloc[0]['age_group']\n",
    "\n",
    "#     vaccinations[int(age)] = v\n",
    "    \n",
    "#     return vaccinations"
   ]
  },
  {
   "cell_type": "markdown",
   "metadata": {},
   "source": [
    "# Scenario 2: Vaccination old to young, eff=0.7"
   ]
  },
  {
   "cell_type": "code",
   "execution_count": 17,
   "metadata": {
    "ExecuteTime": {
     "end_time": "2020-11-25T18:33:33.850968Z",
     "start_time": "2020-11-25T18:33:33.811711Z"
    }
   },
   "outputs": [],
   "source": [
    "order = [8,7,6,5,4,3,2,1,0]\n",
    "effectivity = 0.7\n",
    "daily=10000"
   ]
  },
  {
   "cell_type": "code",
   "execution_count": 18,
   "metadata": {
    "ExecuteTime": {
     "end_time": "2020-11-25T18:33:34.527217Z",
     "start_time": "2020-11-25T18:33:34.483944Z"
    }
   },
   "outputs": [],
   "source": [
    "vaccinated_prop = 0\n",
    "model_S2a = vaccin_model(vaccinated_prop, order, daily, effectivity, initial_states_sept)\n",
    "vaccinated_prop = 0.1\n",
    "model_S2b = vaccin_model(vaccinated_prop, order, daily, effectivity, initial_states_sept)\n",
    "vaccinated_prop = 0.3\n",
    "model_S2c = vaccin_model(vaccinated_prop, order, daily, effectivity, initial_states_sept)\n",
    "vaccinated_prop = 0.5\n",
    "model_S2d = vaccin_model(vaccinated_prop, order, daily, effectivity, initial_states_sept)"
   ]
  },
  {
   "cell_type": "code",
   "execution_count": 19,
   "metadata": {
    "ExecuteTime": {
     "end_time": "2020-11-25T18:38:28.184406Z",
     "start_time": "2020-11-25T18:33:56.428595Z"
    }
   },
   "outputs": [],
   "source": [
    "n=50\n",
    "y_model_S2a = model_S2a.sim(end_sim,start_date=start_calibration,warmup=0,N=n,\n",
    "                          draw_fcn=draw_sample_COVID19_SEIRD,samples=samples_dict)\n",
    "y_model_S2b = model_S2b.sim(end_sim,start_date=start_calibration,warmup=0,N=n,\n",
    "                          draw_fcn=draw_sample_COVID19_SEIRD,samples=samples_dict)\n",
    "y_model_S2c = model_S2c.sim(end_sim,start_date=start_calibration,warmup=0,N=n,\n",
    "                          draw_fcn=draw_sample_COVID19_SEIRD,samples=samples_dict)\n",
    "y_model_S2d = model_S2d.sim(end_sim,start_date=start_calibration,warmup=0,N=n,\n",
    "                          draw_fcn=draw_sample_COVID19_SEIRD,samples=samples_dict)\n",
    "y_model_S1 = model_S1.sim(end_sim,start_date=start_calibration,warmup=0,N=n,\n",
    "                          draw_fcn=draw_sample_COVID19_SEIRD,samples=samples_dict)"
   ]
  },
  {
   "cell_type": "code",
   "execution_count": null,
   "metadata": {
    "ExecuteTime": {
     "end_time": "2020-11-25T18:32:08.366768Z",
     "start_time": "2020-11-25T18:32:08.326124Z"
    }
   },
   "outputs": [],
   "source": [
    "# fig,ax = plt.subplots()\n",
    "# y_model_S1['E'].sum(dim='Nc'). plot(ax=ax, c='green', label='no vacc')\n",
    "# y_model_S2a['E'].sum(dim='Nc'). plot(ax=ax, c='blue', label='S2a')\n",
    "# plt.legend()"
   ]
  },
  {
   "cell_type": "markdown",
   "metadata": {},
   "source": [
    "# Scenario 3: First the most mobile, eff=0.7"
   ]
  },
  {
   "cell_type": "code",
   "execution_count": 20,
   "metadata": {
    "ExecuteTime": {
     "end_time": "2020-11-25T18:38:28.353032Z",
     "start_time": "2020-11-25T18:38:28.189359Z"
    }
   },
   "outputs": [],
   "source": [
    "order = [2,3,4,5,6,7,8,1,0]\n",
    "effectivity = 0.7\n",
    "daily=10000"
   ]
  },
  {
   "cell_type": "code",
   "execution_count": 21,
   "metadata": {
    "ExecuteTime": {
     "end_time": "2020-11-25T18:38:28.421896Z",
     "start_time": "2020-11-25T18:38:28.356974Z"
    }
   },
   "outputs": [],
   "source": [
    "vaccinated_prop = 0\n",
    "model_S3a = vaccin_model(vaccinated_prop, order, daily, effectivity, initial_states_sept)\n",
    "vaccinated_prop = 0.1\n",
    "model_S3b = vaccin_model(vaccinated_prop, order, daily, effectivity, initial_states_sept)\n",
    "vaccinated_prop = 0.3\n",
    "model_S3c = vaccin_model(vaccinated_prop, order, daily, effectivity, initial_states_sept)\n",
    "vaccinated_prop = 0.5\n",
    "model_S3d = vaccin_model(vaccinated_prop, order, daily, effectivity, initial_states_sept)"
   ]
  },
  {
   "cell_type": "code",
   "execution_count": 22,
   "metadata": {
    "ExecuteTime": {
     "end_time": "2020-11-25T18:42:31.552056Z",
     "start_time": "2020-11-25T18:38:28.425080Z"
    }
   },
   "outputs": [],
   "source": [
    "n=50\n",
    "y_model_S3a = model_S3a.sim(end_sim,start_date=start_calibration,warmup=0,N=n,\n",
    "                          draw_fcn=draw_sample_COVID19_SEIRD,samples=samples_dict)\n",
    "y_model_S3b = model_S3b.sim(end_sim,start_date=start_calibration,warmup=0,N=n,\n",
    "                          draw_fcn=draw_sample_COVID19_SEIRD,samples=samples_dict)\n",
    "y_model_S3c = model_S3c.sim(end_sim,start_date=start_calibration,warmup=0,N=n,\n",
    "                          draw_fcn=draw_sample_COVID19_SEIRD,samples=samples_dict)\n",
    "y_model_S3d = model_S3d.sim(end_sim,start_date=start_calibration,warmup=0,N=n,\n",
    "                          draw_fcn=draw_sample_COVID19_SEIRD,samples=samples_dict)\n",
    "y_model_S1 = model_S1.sim(end_sim,start_date=start_calibration,warmup=0,N=n,\n",
    "                          draw_fcn=draw_sample_COVID19_SEIRD,samples=samples_dict)"
   ]
  },
  {
   "cell_type": "markdown",
   "metadata": {},
   "source": [
    "# Scenario 4: Vaccination old to young, eff=0.9"
   ]
  },
  {
   "cell_type": "code",
   "execution_count": 23,
   "metadata": {
    "ExecuteTime": {
     "end_time": "2020-11-25T18:42:31.592565Z",
     "start_time": "2020-11-25T18:42:31.553820Z"
    }
   },
   "outputs": [],
   "source": [
    "order = [8,7,6,5,4,3,2,1,0]\n",
    "effectivity = 0.9\n",
    "daily=10000"
   ]
  },
  {
   "cell_type": "code",
   "execution_count": 24,
   "metadata": {
    "ExecuteTime": {
     "end_time": "2020-11-25T18:42:31.643230Z",
     "start_time": "2020-11-25T18:42:31.595369Z"
    }
   },
   "outputs": [],
   "source": [
    "vaccinated_prop = 0\n",
    "model_S4a = vaccin_model(vaccinated_prop, order, daily, effectivity, initial_states_sept)\n",
    "vaccinated_prop = 0.1\n",
    "model_S4b = vaccin_model(vaccinated_prop, order, daily, effectivity, initial_states_sept)\n",
    "vaccinated_prop = 0.3\n",
    "model_S4c = vaccin_model(vaccinated_prop, order, daily, effectivity, initial_states_sept)\n",
    "vaccinated_prop = 0.5\n",
    "model_S4d = vaccin_model(vaccinated_prop, order, daily, effectivity, initial_states_sept)"
   ]
  },
  {
   "cell_type": "code",
   "execution_count": 25,
   "metadata": {
    "ExecuteTime": {
     "end_time": "2020-11-25T18:46:27.401865Z",
     "start_time": "2020-11-25T18:42:31.646843Z"
    }
   },
   "outputs": [],
   "source": [
    "n=50\n",
    "y_model_S4a = model_S4a.sim(end_sim,start_date=start_calibration,warmup=0,N=n,\n",
    "                          draw_fcn=draw_sample_COVID19_SEIRD,samples=samples_dict)\n",
    "y_model_S4b = model_S4b.sim(end_sim,start_date=start_calibration,warmup=0,N=n,\n",
    "                          draw_fcn=draw_sample_COVID19_SEIRD,samples=samples_dict)\n",
    "y_model_S4c = model_S4c.sim(end_sim,start_date=start_calibration,warmup=0,N=n,\n",
    "                          draw_fcn=draw_sample_COVID19_SEIRD,samples=samples_dict)\n",
    "y_model_S4d = model_S4d.sim(end_sim,start_date=start_calibration,warmup=0,N=n,\n",
    "                          draw_fcn=draw_sample_COVID19_SEIRD,samples=samples_dict)\n",
    "y_model_S1 = model_S1.sim(end_sim,start_date=start_calibration,warmup=0,N=n,\n",
    "                          draw_fcn=draw_sample_COVID19_SEIRD,samples=samples_dict)"
   ]
  },
  {
   "cell_type": "markdown",
   "metadata": {},
   "source": [
    "# Scenario 5: First the most mobile, eff=0.9"
   ]
  },
  {
   "cell_type": "code",
   "execution_count": 26,
   "metadata": {
    "ExecuteTime": {
     "end_time": "2020-11-25T18:46:27.441996Z",
     "start_time": "2020-11-25T18:46:27.404848Z"
    }
   },
   "outputs": [],
   "source": [
    "order = [2,3,4,5,6,7,8,1,0]\n",
    "effectivity = 0.9\n",
    "daily=10000"
   ]
  },
  {
   "cell_type": "code",
   "execution_count": 27,
   "metadata": {
    "ExecuteTime": {
     "end_time": "2020-11-25T18:46:27.484050Z",
     "start_time": "2020-11-25T18:46:27.444286Z"
    }
   },
   "outputs": [],
   "source": [
    "vaccinated_prop = 0\n",
    "model_S5a = vaccin_model(vaccinated_prop, order, daily, effectivity, initial_states_sept)\n",
    "vaccinated_prop = 0.1\n",
    "model_S5b = vaccin_model(vaccinated_prop, order, daily, effectivity, initial_states_sept)\n",
    "vaccinated_prop = 0.3\n",
    "model_S5c = vaccin_model(vaccinated_prop, order, daily, effectivity, initial_states_sept)\n",
    "vaccinated_prop = 0.5\n",
    "model_S5d = vaccin_model(vaccinated_prop, order, daily, effectivity, initial_states_sept)"
   ]
  },
  {
   "cell_type": "code",
   "execution_count": 28,
   "metadata": {
    "ExecuteTime": {
     "end_time": "2020-11-25T18:50:18.522139Z",
     "start_time": "2020-11-25T18:46:27.486330Z"
    }
   },
   "outputs": [],
   "source": [
    "n=50\n",
    "y_model_S5a = model_S5a.sim(end_sim,start_date=start_calibration,warmup=0,N=n,\n",
    "                          draw_fcn=draw_sample_COVID19_SEIRD,samples=samples_dict)\n",
    "y_model_S5b = model_S5b.sim(end_sim,start_date=start_calibration,warmup=0,N=n,\n",
    "                          draw_fcn=draw_sample_COVID19_SEIRD,samples=samples_dict)\n",
    "y_model_S5c = model_S5c.sim(end_sim,start_date=start_calibration,warmup=0,N=n,\n",
    "                          draw_fcn=draw_sample_COVID19_SEIRD,samples=samples_dict)\n",
    "y_model_S5d = model_S5d.sim(end_sim,start_date=start_calibration,warmup=0,N=n,\n",
    "                          draw_fcn=draw_sample_COVID19_SEIRD,samples=samples_dict)\n",
    "y_model_S1 = model_S1.sim(end_sim,start_date=start_calibration,warmup=0,N=n,\n",
    "                          draw_fcn=draw_sample_COVID19_SEIRD,samples=samples_dict)"
   ]
  },
  {
   "cell_type": "markdown",
   "metadata": {},
   "source": [
    "# Figures"
   ]
  },
  {
   "cell_type": "code",
   "execution_count": 30,
   "metadata": {
    "ExecuteTime": {
     "end_time": "2020-11-25T19:32:00.700021Z",
     "start_time": "2020-11-25T19:31:51.868942Z"
    }
   },
   "outputs": [
    {
     "data": {
      "application/javascript": [
       "/* Put everything inside the global mpl namespace */\n",
       "window.mpl = {};\n",
       "\n",
       "\n",
       "mpl.get_websocket_type = function() {\n",
       "    if (typeof(WebSocket) !== 'undefined') {\n",
       "        return WebSocket;\n",
       "    } else if (typeof(MozWebSocket) !== 'undefined') {\n",
       "        return MozWebSocket;\n",
       "    } else {\n",
       "        alert('Your browser does not have WebSocket support. ' +\n",
       "              'Please try Chrome, Safari or Firefox ≥ 6. ' +\n",
       "              'Firefox 4 and 5 are also supported but you ' +\n",
       "              'have to enable WebSockets in about:config.');\n",
       "    };\n",
       "}\n",
       "\n",
       "mpl.figure = function(figure_id, websocket, ondownload, parent_element) {\n",
       "    this.id = figure_id;\n",
       "\n",
       "    this.ws = websocket;\n",
       "\n",
       "    this.supports_binary = (this.ws.binaryType != undefined);\n",
       "\n",
       "    if (!this.supports_binary) {\n",
       "        var warnings = document.getElementById(\"mpl-warnings\");\n",
       "        if (warnings) {\n",
       "            warnings.style.display = 'block';\n",
       "            warnings.textContent = (\n",
       "                \"This browser does not support binary websocket messages. \" +\n",
       "                    \"Performance may be slow.\");\n",
       "        }\n",
       "    }\n",
       "\n",
       "    this.imageObj = new Image();\n",
       "\n",
       "    this.context = undefined;\n",
       "    this.message = undefined;\n",
       "    this.canvas = undefined;\n",
       "    this.rubberband_canvas = undefined;\n",
       "    this.rubberband_context = undefined;\n",
       "    this.format_dropdown = undefined;\n",
       "\n",
       "    this.image_mode = 'full';\n",
       "\n",
       "    this.root = $('<div/>');\n",
       "    this._root_extra_style(this.root)\n",
       "    this.root.attr('style', 'display: inline-block');\n",
       "\n",
       "    $(parent_element).append(this.root);\n",
       "\n",
       "    this._init_header(this);\n",
       "    this._init_canvas(this);\n",
       "    this._init_toolbar(this);\n",
       "\n",
       "    var fig = this;\n",
       "\n",
       "    this.waiting = false;\n",
       "\n",
       "    this.ws.onopen =  function () {\n",
       "            fig.send_message(\"supports_binary\", {value: fig.supports_binary});\n",
       "            fig.send_message(\"send_image_mode\", {});\n",
       "            if (mpl.ratio != 1) {\n",
       "                fig.send_message(\"set_dpi_ratio\", {'dpi_ratio': mpl.ratio});\n",
       "            }\n",
       "            fig.send_message(\"refresh\", {});\n",
       "        }\n",
       "\n",
       "    this.imageObj.onload = function() {\n",
       "            if (fig.image_mode == 'full') {\n",
       "                // Full images could contain transparency (where diff images\n",
       "                // almost always do), so we need to clear the canvas so that\n",
       "                // there is no ghosting.\n",
       "                fig.context.clearRect(0, 0, fig.canvas.width, fig.canvas.height);\n",
       "            }\n",
       "            fig.context.drawImage(fig.imageObj, 0, 0);\n",
       "        };\n",
       "\n",
       "    this.imageObj.onunload = function() {\n",
       "        fig.ws.close();\n",
       "    }\n",
       "\n",
       "    this.ws.onmessage = this._make_on_message_function(this);\n",
       "\n",
       "    this.ondownload = ondownload;\n",
       "}\n",
       "\n",
       "mpl.figure.prototype._init_header = function() {\n",
       "    var titlebar = $(\n",
       "        '<div class=\"ui-dialog-titlebar ui-widget-header ui-corner-all ' +\n",
       "        'ui-helper-clearfix\"/>');\n",
       "    var titletext = $(\n",
       "        '<div class=\"ui-dialog-title\" style=\"width: 100%; ' +\n",
       "        'text-align: center; padding: 3px;\"/>');\n",
       "    titlebar.append(titletext)\n",
       "    this.root.append(titlebar);\n",
       "    this.header = titletext[0];\n",
       "}\n",
       "\n",
       "\n",
       "\n",
       "mpl.figure.prototype._canvas_extra_style = function(canvas_div) {\n",
       "\n",
       "}\n",
       "\n",
       "\n",
       "mpl.figure.prototype._root_extra_style = function(canvas_div) {\n",
       "\n",
       "}\n",
       "\n",
       "mpl.figure.prototype._init_canvas = function() {\n",
       "    var fig = this;\n",
       "\n",
       "    var canvas_div = $('<div/>');\n",
       "\n",
       "    canvas_div.attr('style', 'position: relative; clear: both; outline: 0');\n",
       "\n",
       "    function canvas_keyboard_event(event) {\n",
       "        return fig.key_event(event, event['data']);\n",
       "    }\n",
       "\n",
       "    canvas_div.keydown('key_press', canvas_keyboard_event);\n",
       "    canvas_div.keyup('key_release', canvas_keyboard_event);\n",
       "    this.canvas_div = canvas_div\n",
       "    this._canvas_extra_style(canvas_div)\n",
       "    this.root.append(canvas_div);\n",
       "\n",
       "    var canvas = $('<canvas/>');\n",
       "    canvas.addClass('mpl-canvas');\n",
       "    canvas.attr('style', \"left: 0; top: 0; z-index: 0; outline: 0\")\n",
       "\n",
       "    this.canvas = canvas[0];\n",
       "    this.context = canvas[0].getContext(\"2d\");\n",
       "\n",
       "    var backingStore = this.context.backingStorePixelRatio ||\n",
       "\tthis.context.webkitBackingStorePixelRatio ||\n",
       "\tthis.context.mozBackingStorePixelRatio ||\n",
       "\tthis.context.msBackingStorePixelRatio ||\n",
       "\tthis.context.oBackingStorePixelRatio ||\n",
       "\tthis.context.backingStorePixelRatio || 1;\n",
       "\n",
       "    mpl.ratio = (window.devicePixelRatio || 1) / backingStore;\n",
       "\n",
       "    var rubberband = $('<canvas/>');\n",
       "    rubberband.attr('style', \"position: absolute; left: 0; top: 0; z-index: 1;\")\n",
       "\n",
       "    var pass_mouse_events = true;\n",
       "\n",
       "    canvas_div.resizable({\n",
       "        start: function(event, ui) {\n",
       "            pass_mouse_events = false;\n",
       "        },\n",
       "        resize: function(event, ui) {\n",
       "            fig.request_resize(ui.size.width, ui.size.height);\n",
       "        },\n",
       "        stop: function(event, ui) {\n",
       "            pass_mouse_events = true;\n",
       "            fig.request_resize(ui.size.width, ui.size.height);\n",
       "        },\n",
       "    });\n",
       "\n",
       "    function mouse_event_fn(event) {\n",
       "        if (pass_mouse_events)\n",
       "            return fig.mouse_event(event, event['data']);\n",
       "    }\n",
       "\n",
       "    rubberband.mousedown('button_press', mouse_event_fn);\n",
       "    rubberband.mouseup('button_release', mouse_event_fn);\n",
       "    // Throttle sequential mouse events to 1 every 20ms.\n",
       "    rubberband.mousemove('motion_notify', mouse_event_fn);\n",
       "\n",
       "    rubberband.mouseenter('figure_enter', mouse_event_fn);\n",
       "    rubberband.mouseleave('figure_leave', mouse_event_fn);\n",
       "\n",
       "    canvas_div.on(\"wheel\", function (event) {\n",
       "        event = event.originalEvent;\n",
       "        event['data'] = 'scroll'\n",
       "        if (event.deltaY < 0) {\n",
       "            event.step = 1;\n",
       "        } else {\n",
       "            event.step = -1;\n",
       "        }\n",
       "        mouse_event_fn(event);\n",
       "    });\n",
       "\n",
       "    canvas_div.append(canvas);\n",
       "    canvas_div.append(rubberband);\n",
       "\n",
       "    this.rubberband = rubberband;\n",
       "    this.rubberband_canvas = rubberband[0];\n",
       "    this.rubberband_context = rubberband[0].getContext(\"2d\");\n",
       "    this.rubberband_context.strokeStyle = \"#000000\";\n",
       "\n",
       "    this._resize_canvas = function(width, height) {\n",
       "        // Keep the size of the canvas, canvas container, and rubber band\n",
       "        // canvas in synch.\n",
       "        canvas_div.css('width', width)\n",
       "        canvas_div.css('height', height)\n",
       "\n",
       "        canvas.attr('width', width * mpl.ratio);\n",
       "        canvas.attr('height', height * mpl.ratio);\n",
       "        canvas.attr('style', 'width: ' + width + 'px; height: ' + height + 'px;');\n",
       "\n",
       "        rubberband.attr('width', width);\n",
       "        rubberband.attr('height', height);\n",
       "    }\n",
       "\n",
       "    // Set the figure to an initial 600x600px, this will subsequently be updated\n",
       "    // upon first draw.\n",
       "    this._resize_canvas(600, 600);\n",
       "\n",
       "    // Disable right mouse context menu.\n",
       "    $(this.rubberband_canvas).bind(\"contextmenu\",function(e){\n",
       "        return false;\n",
       "    });\n",
       "\n",
       "    function set_focus () {\n",
       "        canvas.focus();\n",
       "        canvas_div.focus();\n",
       "    }\n",
       "\n",
       "    window.setTimeout(set_focus, 100);\n",
       "}\n",
       "\n",
       "mpl.figure.prototype._init_toolbar = function() {\n",
       "    var fig = this;\n",
       "\n",
       "    var nav_element = $('<div/>');\n",
       "    nav_element.attr('style', 'width: 100%');\n",
       "    this.root.append(nav_element);\n",
       "\n",
       "    // Define a callback function for later on.\n",
       "    function toolbar_event(event) {\n",
       "        return fig.toolbar_button_onclick(event['data']);\n",
       "    }\n",
       "    function toolbar_mouse_event(event) {\n",
       "        return fig.toolbar_button_onmouseover(event['data']);\n",
       "    }\n",
       "\n",
       "    for(var toolbar_ind in mpl.toolbar_items) {\n",
       "        var name = mpl.toolbar_items[toolbar_ind][0];\n",
       "        var tooltip = mpl.toolbar_items[toolbar_ind][1];\n",
       "        var image = mpl.toolbar_items[toolbar_ind][2];\n",
       "        var method_name = mpl.toolbar_items[toolbar_ind][3];\n",
       "\n",
       "        if (!name) {\n",
       "            // put a spacer in here.\n",
       "            continue;\n",
       "        }\n",
       "        var button = $('<button/>');\n",
       "        button.addClass('ui-button ui-widget ui-state-default ui-corner-all ' +\n",
       "                        'ui-button-icon-only');\n",
       "        button.attr('role', 'button');\n",
       "        button.attr('aria-disabled', 'false');\n",
       "        button.click(method_name, toolbar_event);\n",
       "        button.mouseover(tooltip, toolbar_mouse_event);\n",
       "\n",
       "        var icon_img = $('<span/>');\n",
       "        icon_img.addClass('ui-button-icon-primary ui-icon');\n",
       "        icon_img.addClass(image);\n",
       "        icon_img.addClass('ui-corner-all');\n",
       "\n",
       "        var tooltip_span = $('<span/>');\n",
       "        tooltip_span.addClass('ui-button-text');\n",
       "        tooltip_span.html(tooltip);\n",
       "\n",
       "        button.append(icon_img);\n",
       "        button.append(tooltip_span);\n",
       "\n",
       "        nav_element.append(button);\n",
       "    }\n",
       "\n",
       "    var fmt_picker_span = $('<span/>');\n",
       "\n",
       "    var fmt_picker = $('<select/>');\n",
       "    fmt_picker.addClass('mpl-toolbar-option ui-widget ui-widget-content');\n",
       "    fmt_picker_span.append(fmt_picker);\n",
       "    nav_element.append(fmt_picker_span);\n",
       "    this.format_dropdown = fmt_picker[0];\n",
       "\n",
       "    for (var ind in mpl.extensions) {\n",
       "        var fmt = mpl.extensions[ind];\n",
       "        var option = $(\n",
       "            '<option/>', {selected: fmt === mpl.default_extension}).html(fmt);\n",
       "        fmt_picker.append(option);\n",
       "    }\n",
       "\n",
       "    // Add hover states to the ui-buttons\n",
       "    $( \".ui-button\" ).hover(\n",
       "        function() { $(this).addClass(\"ui-state-hover\");},\n",
       "        function() { $(this).removeClass(\"ui-state-hover\");}\n",
       "    );\n",
       "\n",
       "    var status_bar = $('<span class=\"mpl-message\"/>');\n",
       "    nav_element.append(status_bar);\n",
       "    this.message = status_bar[0];\n",
       "}\n",
       "\n",
       "mpl.figure.prototype.request_resize = function(x_pixels, y_pixels) {\n",
       "    // Request matplotlib to resize the figure. Matplotlib will then trigger a resize in the client,\n",
       "    // which will in turn request a refresh of the image.\n",
       "    this.send_message('resize', {'width': x_pixels, 'height': y_pixels});\n",
       "}\n",
       "\n",
       "mpl.figure.prototype.send_message = function(type, properties) {\n",
       "    properties['type'] = type;\n",
       "    properties['figure_id'] = this.id;\n",
       "    this.ws.send(JSON.stringify(properties));\n",
       "}\n",
       "\n",
       "mpl.figure.prototype.send_draw_message = function() {\n",
       "    if (!this.waiting) {\n",
       "        this.waiting = true;\n",
       "        this.ws.send(JSON.stringify({type: \"draw\", figure_id: this.id}));\n",
       "    }\n",
       "}\n",
       "\n",
       "\n",
       "mpl.figure.prototype.handle_save = function(fig, msg) {\n",
       "    var format_dropdown = fig.format_dropdown;\n",
       "    var format = format_dropdown.options[format_dropdown.selectedIndex].value;\n",
       "    fig.ondownload(fig, format);\n",
       "}\n",
       "\n",
       "\n",
       "mpl.figure.prototype.handle_resize = function(fig, msg) {\n",
       "    var size = msg['size'];\n",
       "    if (size[0] != fig.canvas.width || size[1] != fig.canvas.height) {\n",
       "        fig._resize_canvas(size[0], size[1]);\n",
       "        fig.send_message(\"refresh\", {});\n",
       "    };\n",
       "}\n",
       "\n",
       "mpl.figure.prototype.handle_rubberband = function(fig, msg) {\n",
       "    var x0 = msg['x0'] / mpl.ratio;\n",
       "    var y0 = (fig.canvas.height - msg['y0']) / mpl.ratio;\n",
       "    var x1 = msg['x1'] / mpl.ratio;\n",
       "    var y1 = (fig.canvas.height - msg['y1']) / mpl.ratio;\n",
       "    x0 = Math.floor(x0) + 0.5;\n",
       "    y0 = Math.floor(y0) + 0.5;\n",
       "    x1 = Math.floor(x1) + 0.5;\n",
       "    y1 = Math.floor(y1) + 0.5;\n",
       "    var min_x = Math.min(x0, x1);\n",
       "    var min_y = Math.min(y0, y1);\n",
       "    var width = Math.abs(x1 - x0);\n",
       "    var height = Math.abs(y1 - y0);\n",
       "\n",
       "    fig.rubberband_context.clearRect(\n",
       "        0, 0, fig.canvas.width / mpl.ratio, fig.canvas.height / mpl.ratio);\n",
       "\n",
       "    fig.rubberband_context.strokeRect(min_x, min_y, width, height);\n",
       "}\n",
       "\n",
       "mpl.figure.prototype.handle_figure_label = function(fig, msg) {\n",
       "    // Updates the figure title.\n",
       "    fig.header.textContent = msg['label'];\n",
       "}\n",
       "\n",
       "mpl.figure.prototype.handle_cursor = function(fig, msg) {\n",
       "    var cursor = msg['cursor'];\n",
       "    switch(cursor)\n",
       "    {\n",
       "    case 0:\n",
       "        cursor = 'pointer';\n",
       "        break;\n",
       "    case 1:\n",
       "        cursor = 'default';\n",
       "        break;\n",
       "    case 2:\n",
       "        cursor = 'crosshair';\n",
       "        break;\n",
       "    case 3:\n",
       "        cursor = 'move';\n",
       "        break;\n",
       "    }\n",
       "    fig.rubberband_canvas.style.cursor = cursor;\n",
       "}\n",
       "\n",
       "mpl.figure.prototype.handle_message = function(fig, msg) {\n",
       "    fig.message.textContent = msg['message'];\n",
       "}\n",
       "\n",
       "mpl.figure.prototype.handle_draw = function(fig, msg) {\n",
       "    // Request the server to send over a new figure.\n",
       "    fig.send_draw_message();\n",
       "}\n",
       "\n",
       "mpl.figure.prototype.handle_image_mode = function(fig, msg) {\n",
       "    fig.image_mode = msg['mode'];\n",
       "}\n",
       "\n",
       "mpl.figure.prototype.updated_canvas_event = function() {\n",
       "    // Called whenever the canvas gets updated.\n",
       "    this.send_message(\"ack\", {});\n",
       "}\n",
       "\n",
       "// A function to construct a web socket function for onmessage handling.\n",
       "// Called in the figure constructor.\n",
       "mpl.figure.prototype._make_on_message_function = function(fig) {\n",
       "    return function socket_on_message(evt) {\n",
       "        if (evt.data instanceof Blob) {\n",
       "            /* FIXME: We get \"Resource interpreted as Image but\n",
       "             * transferred with MIME type text/plain:\" errors on\n",
       "             * Chrome.  But how to set the MIME type?  It doesn't seem\n",
       "             * to be part of the websocket stream */\n",
       "            evt.data.type = \"image/png\";\n",
       "\n",
       "            /* Free the memory for the previous frames */\n",
       "            if (fig.imageObj.src) {\n",
       "                (window.URL || window.webkitURL).revokeObjectURL(\n",
       "                    fig.imageObj.src);\n",
       "            }\n",
       "\n",
       "            fig.imageObj.src = (window.URL || window.webkitURL).createObjectURL(\n",
       "                evt.data);\n",
       "            fig.updated_canvas_event();\n",
       "            fig.waiting = false;\n",
       "            return;\n",
       "        }\n",
       "        else if (typeof evt.data === 'string' && evt.data.slice(0, 21) == \"data:image/png;base64\") {\n",
       "            fig.imageObj.src = evt.data;\n",
       "            fig.updated_canvas_event();\n",
       "            fig.waiting = false;\n",
       "            return;\n",
       "        }\n",
       "\n",
       "        var msg = JSON.parse(evt.data);\n",
       "        var msg_type = msg['type'];\n",
       "\n",
       "        // Call the  \"handle_{type}\" callback, which takes\n",
       "        // the figure and JSON message as its only arguments.\n",
       "        try {\n",
       "            var callback = fig[\"handle_\" + msg_type];\n",
       "        } catch (e) {\n",
       "            console.log(\"No handler for the '\" + msg_type + \"' message type: \", msg);\n",
       "            return;\n",
       "        }\n",
       "\n",
       "        if (callback) {\n",
       "            try {\n",
       "                // console.log(\"Handling '\" + msg_type + \"' message: \", msg);\n",
       "                callback(fig, msg);\n",
       "            } catch (e) {\n",
       "                console.log(\"Exception inside the 'handler_\" + msg_type + \"' callback:\", e, e.stack, msg);\n",
       "            }\n",
       "        }\n",
       "    };\n",
       "}\n",
       "\n",
       "// from http://stackoverflow.com/questions/1114465/getting-mouse-location-in-canvas\n",
       "mpl.findpos = function(e) {\n",
       "    //this section is from http://www.quirksmode.org/js/events_properties.html\n",
       "    var targ;\n",
       "    if (!e)\n",
       "        e = window.event;\n",
       "    if (e.target)\n",
       "        targ = e.target;\n",
       "    else if (e.srcElement)\n",
       "        targ = e.srcElement;\n",
       "    if (targ.nodeType == 3) // defeat Safari bug\n",
       "        targ = targ.parentNode;\n",
       "\n",
       "    // jQuery normalizes the pageX and pageY\n",
       "    // pageX,Y are the mouse positions relative to the document\n",
       "    // offset() returns the position of the element relative to the document\n",
       "    var x = e.pageX - $(targ).offset().left;\n",
       "    var y = e.pageY - $(targ).offset().top;\n",
       "\n",
       "    return {\"x\": x, \"y\": y};\n",
       "};\n",
       "\n",
       "/*\n",
       " * return a copy of an object with only non-object keys\n",
       " * we need this to avoid circular references\n",
       " * http://stackoverflow.com/a/24161582/3208463\n",
       " */\n",
       "function simpleKeys (original) {\n",
       "  return Object.keys(original).reduce(function (obj, key) {\n",
       "    if (typeof original[key] !== 'object')\n",
       "        obj[key] = original[key]\n",
       "    return obj;\n",
       "  }, {});\n",
       "}\n",
       "\n",
       "mpl.figure.prototype.mouse_event = function(event, name) {\n",
       "    var canvas_pos = mpl.findpos(event)\n",
       "\n",
       "    if (name === 'button_press')\n",
       "    {\n",
       "        this.canvas.focus();\n",
       "        this.canvas_div.focus();\n",
       "    }\n",
       "\n",
       "    var x = canvas_pos.x * mpl.ratio;\n",
       "    var y = canvas_pos.y * mpl.ratio;\n",
       "\n",
       "    this.send_message(name, {x: x, y: y, button: event.button,\n",
       "                             step: event.step,\n",
       "                             guiEvent: simpleKeys(event)});\n",
       "\n",
       "    /* This prevents the web browser from automatically changing to\n",
       "     * the text insertion cursor when the button is pressed.  We want\n",
       "     * to control all of the cursor setting manually through the\n",
       "     * 'cursor' event from matplotlib */\n",
       "    event.preventDefault();\n",
       "    return false;\n",
       "}\n",
       "\n",
       "mpl.figure.prototype._key_event_extra = function(event, name) {\n",
       "    // Handle any extra behaviour associated with a key event\n",
       "}\n",
       "\n",
       "mpl.figure.prototype.key_event = function(event, name) {\n",
       "\n",
       "    // Prevent repeat events\n",
       "    if (name == 'key_press')\n",
       "    {\n",
       "        if (event.which === this._key)\n",
       "            return;\n",
       "        else\n",
       "            this._key = event.which;\n",
       "    }\n",
       "    if (name == 'key_release')\n",
       "        this._key = null;\n",
       "\n",
       "    var value = '';\n",
       "    if (event.ctrlKey && event.which != 17)\n",
       "        value += \"ctrl+\";\n",
       "    if (event.altKey && event.which != 18)\n",
       "        value += \"alt+\";\n",
       "    if (event.shiftKey && event.which != 16)\n",
       "        value += \"shift+\";\n",
       "\n",
       "    value += 'k';\n",
       "    value += event.which.toString();\n",
       "\n",
       "    this._key_event_extra(event, name);\n",
       "\n",
       "    this.send_message(name, {key: value,\n",
       "                             guiEvent: simpleKeys(event)});\n",
       "    return false;\n",
       "}\n",
       "\n",
       "mpl.figure.prototype.toolbar_button_onclick = function(name) {\n",
       "    if (name == 'download') {\n",
       "        this.handle_save(this, null);\n",
       "    } else {\n",
       "        this.send_message(\"toolbar_button\", {name: name});\n",
       "    }\n",
       "};\n",
       "\n",
       "mpl.figure.prototype.toolbar_button_onmouseover = function(tooltip) {\n",
       "    this.message.textContent = tooltip;\n",
       "};\n",
       "mpl.toolbar_items = [[\"Home\", \"Reset original view\", \"fa fa-home icon-home\", \"home\"], [\"Back\", \"Back to previous view\", \"fa fa-arrow-left icon-arrow-left\", \"back\"], [\"Forward\", \"Forward to next view\", \"fa fa-arrow-right icon-arrow-right\", \"forward\"], [\"\", \"\", \"\", \"\"], [\"Pan\", \"Pan axes with left mouse, zoom with right\", \"fa fa-arrows icon-move\", \"pan\"], [\"Zoom\", \"Zoom to rectangle\", \"fa fa-square-o icon-check-empty\", \"zoom\"], [\"\", \"\", \"\", \"\"], [\"Download\", \"Download plot\", \"fa fa-floppy-o icon-save\", \"download\"]];\n",
       "\n",
       "mpl.extensions = [\"eps\", \"jpeg\", \"pdf\", \"png\", \"ps\", \"raw\", \"svg\", \"tif\"];\n",
       "\n",
       "mpl.default_extension = \"png\";var comm_websocket_adapter = function(comm) {\n",
       "    // Create a \"websocket\"-like object which calls the given IPython comm\n",
       "    // object with the appropriate methods. Currently this is a non binary\n",
       "    // socket, so there is still some room for performance tuning.\n",
       "    var ws = {};\n",
       "\n",
       "    ws.close = function() {\n",
       "        comm.close()\n",
       "    };\n",
       "    ws.send = function(m) {\n",
       "        //console.log('sending', m);\n",
       "        comm.send(m);\n",
       "    };\n",
       "    // Register the callback with on_msg.\n",
       "    comm.on_msg(function(msg) {\n",
       "        //console.log('receiving', msg['content']['data'], msg);\n",
       "        // Pass the mpl event to the overridden (by mpl) onmessage function.\n",
       "        ws.onmessage(msg['content']['data'])\n",
       "    });\n",
       "    return ws;\n",
       "}\n",
       "\n",
       "mpl.mpl_figure_comm = function(comm, msg) {\n",
       "    // This is the function which gets called when the mpl process\n",
       "    // starts-up an IPython Comm through the \"matplotlib\" channel.\n",
       "\n",
       "    var id = msg.content.data.id;\n",
       "    // Get hold of the div created by the display call when the Comm\n",
       "    // socket was opened in Python.\n",
       "    var element = $(\"#\" + id);\n",
       "    var ws_proxy = comm_websocket_adapter(comm)\n",
       "\n",
       "    function ondownload(figure, format) {\n",
       "        window.open(figure.imageObj.src);\n",
       "    }\n",
       "\n",
       "    var fig = new mpl.figure(id, ws_proxy,\n",
       "                           ondownload,\n",
       "                           element.get(0));\n",
       "\n",
       "    // Call onopen now - mpl needs it, as it is assuming we've passed it a real\n",
       "    // web socket which is closed, not our websocket->open comm proxy.\n",
       "    ws_proxy.onopen();\n",
       "\n",
       "    fig.parent_element = element.get(0);\n",
       "    fig.cell_info = mpl.find_output_cell(\"<div id='\" + id + \"'></div>\");\n",
       "    if (!fig.cell_info) {\n",
       "        console.error(\"Failed to find cell for figure\", id, fig);\n",
       "        return;\n",
       "    }\n",
       "\n",
       "    var output_index = fig.cell_info[2]\n",
       "    var cell = fig.cell_info[0];\n",
       "\n",
       "};\n",
       "\n",
       "mpl.figure.prototype.handle_close = function(fig, msg) {\n",
       "    var width = fig.canvas.width/mpl.ratio\n",
       "    fig.root.unbind('remove')\n",
       "\n",
       "    // Update the output cell to use the data from the current canvas.\n",
       "    fig.push_to_output();\n",
       "    var dataURL = fig.canvas.toDataURL();\n",
       "    // Re-enable the keyboard manager in IPython - without this line, in FF,\n",
       "    // the notebook keyboard shortcuts fail.\n",
       "    IPython.keyboard_manager.enable()\n",
       "    $(fig.parent_element).html('<img src=\"' + dataURL + '\" width=\"' + width + '\">');\n",
       "    fig.close_ws(fig, msg);\n",
       "}\n",
       "\n",
       "mpl.figure.prototype.close_ws = function(fig, msg){\n",
       "    fig.send_message('closing', msg);\n",
       "    // fig.ws.close()\n",
       "}\n",
       "\n",
       "mpl.figure.prototype.push_to_output = function(remove_interactive) {\n",
       "    // Turn the data on the canvas into data in the output cell.\n",
       "    var width = this.canvas.width/mpl.ratio\n",
       "    var dataURL = this.canvas.toDataURL();\n",
       "    this.cell_info[1]['text/html'] = '<img src=\"' + dataURL + '\" width=\"' + width + '\">';\n",
       "}\n",
       "\n",
       "mpl.figure.prototype.updated_canvas_event = function() {\n",
       "    // Tell IPython that the notebook contents must change.\n",
       "    IPython.notebook.set_dirty(true);\n",
       "    this.send_message(\"ack\", {});\n",
       "    var fig = this;\n",
       "    // Wait a second, then push the new image to the DOM so\n",
       "    // that it is saved nicely (might be nice to debounce this).\n",
       "    setTimeout(function () { fig.push_to_output() }, 1000);\n",
       "}\n",
       "\n",
       "mpl.figure.prototype._init_toolbar = function() {\n",
       "    var fig = this;\n",
       "\n",
       "    var nav_element = $('<div/>');\n",
       "    nav_element.attr('style', 'width: 100%');\n",
       "    this.root.append(nav_element);\n",
       "\n",
       "    // Define a callback function for later on.\n",
       "    function toolbar_event(event) {\n",
       "        return fig.toolbar_button_onclick(event['data']);\n",
       "    }\n",
       "    function toolbar_mouse_event(event) {\n",
       "        return fig.toolbar_button_onmouseover(event['data']);\n",
       "    }\n",
       "\n",
       "    for(var toolbar_ind in mpl.toolbar_items){\n",
       "        var name = mpl.toolbar_items[toolbar_ind][0];\n",
       "        var tooltip = mpl.toolbar_items[toolbar_ind][1];\n",
       "        var image = mpl.toolbar_items[toolbar_ind][2];\n",
       "        var method_name = mpl.toolbar_items[toolbar_ind][3];\n",
       "\n",
       "        if (!name) { continue; };\n",
       "\n",
       "        var button = $('<button class=\"btn btn-default\" href=\"#\" title=\"' + name + '\"><i class=\"fa ' + image + ' fa-lg\"></i></button>');\n",
       "        button.click(method_name, toolbar_event);\n",
       "        button.mouseover(tooltip, toolbar_mouse_event);\n",
       "        nav_element.append(button);\n",
       "    }\n",
       "\n",
       "    // Add the status bar.\n",
       "    var status_bar = $('<span class=\"mpl-message\" style=\"text-align:right; float: right;\"/>');\n",
       "    nav_element.append(status_bar);\n",
       "    this.message = status_bar[0];\n",
       "\n",
       "    // Add the close button to the window.\n",
       "    var buttongrp = $('<div class=\"btn-group inline pull-right\"></div>');\n",
       "    var button = $('<button class=\"btn btn-mini btn-primary\" href=\"#\" title=\"Stop Interaction\"><i class=\"fa fa-power-off icon-remove icon-large\"></i></button>');\n",
       "    button.click(function (evt) { fig.handle_close(fig, {}); } );\n",
       "    button.mouseover('Stop Interaction', toolbar_mouse_event);\n",
       "    buttongrp.append(button);\n",
       "    var titlebar = this.root.find($('.ui-dialog-titlebar'));\n",
       "    titlebar.prepend(buttongrp);\n",
       "}\n",
       "\n",
       "mpl.figure.prototype._root_extra_style = function(el){\n",
       "    var fig = this\n",
       "    el.on(\"remove\", function(){\n",
       "\tfig.close_ws(fig, {});\n",
       "    });\n",
       "}\n",
       "\n",
       "mpl.figure.prototype._canvas_extra_style = function(el){\n",
       "    // this is important to make the div 'focusable\n",
       "    el.attr('tabindex', 0)\n",
       "    // reach out to IPython and tell the keyboard manager to turn it's self\n",
       "    // off when our div gets focus\n",
       "\n",
       "    // location in version 3\n",
       "    if (IPython.notebook.keyboard_manager) {\n",
       "        IPython.notebook.keyboard_manager.register_events(el);\n",
       "    }\n",
       "    else {\n",
       "        // location in version 2\n",
       "        IPython.keyboard_manager.register_events(el);\n",
       "    }\n",
       "\n",
       "}\n",
       "\n",
       "mpl.figure.prototype._key_event_extra = function(event, name) {\n",
       "    var manager = IPython.notebook.keyboard_manager;\n",
       "    if (!manager)\n",
       "        manager = IPython.keyboard_manager;\n",
       "\n",
       "    // Check for shift+enter\n",
       "    if (event.shiftKey && event.which == 13) {\n",
       "        this.canvas_div.blur();\n",
       "        // select the cell after this one\n",
       "        var index = IPython.notebook.find_cell_index(this.cell_info[0]);\n",
       "        IPython.notebook.select(index + 1);\n",
       "    }\n",
       "}\n",
       "\n",
       "mpl.figure.prototype.handle_save = function(fig, msg) {\n",
       "    fig.ondownload(fig, null);\n",
       "}\n",
       "\n",
       "\n",
       "mpl.find_output_cell = function(html_output) {\n",
       "    // Return the cell and output element which can be found *uniquely* in the notebook.\n",
       "    // Note - this is a bit hacky, but it is done because the \"notebook_saving.Notebook\"\n",
       "    // IPython event is triggered only after the cells have been serialised, which for\n",
       "    // our purposes (turning an active figure into a static one), is too late.\n",
       "    var cells = IPython.notebook.get_cells();\n",
       "    var ncells = cells.length;\n",
       "    for (var i=0; i<ncells; i++) {\n",
       "        var cell = cells[i];\n",
       "        if (cell.cell_type === 'code'){\n",
       "            for (var j=0; j<cell.output_area.outputs.length; j++) {\n",
       "                var data = cell.output_area.outputs[j];\n",
       "                if (data.data) {\n",
       "                    // IPython >= 3 moved mimebundle to data attribute of output\n",
       "                    data = data.data;\n",
       "                }\n",
       "                if (data['text/html'] == html_output) {\n",
       "                    return [cell, data, j];\n",
       "                }\n",
       "            }\n",
       "        }\n",
       "    }\n",
       "}\n",
       "\n",
       "// Register the function which deals with the matplotlib target/channel.\n",
       "// The kernel may be null if the page has been refreshed.\n",
       "if (IPython.notebook.kernel != null) {\n",
       "    IPython.notebook.kernel.comm_manager.register_target('matplotlib', mpl.mpl_figure_comm);\n",
       "}\n"
      ],
      "text/plain": [
       "<IPython.core.display.Javascript object>"
      ]
     },
     "metadata": {},
     "output_type": "display_data"
    },
    {
     "data": {
      "text/html": [
       "<img src=\"data:image/png;base64,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\" width=\"999.6\">"
      ],
      "text/plain": [
       "<IPython.core.display.HTML object>"
      ]
     },
     "metadata": {},
     "output_type": "display_data"
    }
   ],
   "source": [
    "fig,((ax1,ax2),(ax3,ax4)) = plt.subplots(figsize=(10,10), nrows=2, ncols=2, sharex=True, sharey=True)\n",
    "ax1.plot('DATE','H_in',data=df_sciensano[start_calibration:end_sim].reset_index(), marker='.', \n",
    "         c='gray', label='data', lw=0, markersize=9, alpha=0.3, markeredgecolor='none')\n",
    "plot_band(ax1, y_model_S1, 'H_in', 'gray', 'no vaccination')\n",
    "plot_band(ax1, y_model_S2a, 'H_in', 'C0', '0% at start')\n",
    "plot_band(ax1, y_model_S2b, 'H_in', 'C1', '10% at start')\n",
    "plot_band(ax1, y_model_S2c, 'H_in', 'C2', '30% at start')\n",
    "plot_band(ax1, y_model_S2d, 'H_in', 'C3', '50% at start')\n",
    "\n",
    "ax1.set_xlim('2020-09-01', '2021-02-01')\n",
    "ax1.set_xticks(pd.date_range('2020-09-01', '2021-01-15', periods=4))\n",
    "ax1.xaxis.set_tick_params(which='both', labelbottom=True)\n",
    "ax1.set_title('Vaccination according to age \\n 70% effectivity')\n",
    "\n",
    "\n",
    "ax2.plot('DATE','H_in',data=df_sciensano[start_calibration:end_sim].reset_index(), marker='.', \n",
    "         c='gray', label='data', lw=0, markersize=9, alpha=0.3, markeredgecolor='none')\n",
    "plot_band(ax2, y_model_S1, 'H_in', 'gray', 'no vaccination')\n",
    "plot_band(ax2, y_model_S3a, 'H_in', 'C0', '0% at start')\n",
    "plot_band(ax2, y_model_S3b, 'H_in', 'C1', '10% at start')\n",
    "plot_band(ax2, y_model_S3c, 'H_in', 'C2', '30% at start')\n",
    "plot_band(ax2, y_model_S3d, 'H_in', 'C3', '50% at start')\n",
    "\n",
    "ax2.set_xlim('2020-09-01', '2021-02-01')\n",
    "ax2.set_xticks(pd.date_range('2020-09-01', '2021-01-15', periods=4))\n",
    "ax2.xaxis.set_tick_params(which='both', labelbottom=True)\n",
    "ax2.set_title('Vaccination according to mobility \\n 70% effectivity')\n",
    "\n",
    "\n",
    "ax3.plot('DATE','H_in',data=df_sciensano[start_calibration:end_sim].reset_index(), marker='.', \n",
    "         c='gray', label='data', lw=0, markersize=9, alpha=0.3, markeredgecolor='none')\n",
    "plot_band(ax3, y_model_S1, 'H_in', 'gray', 'no vaccination')\n",
    "plot_band(ax3, y_model_S4a, 'H_in', 'C0', '0% at start')\n",
    "plot_band(ax3, y_model_S4b, 'H_in', 'C1', '10% at start')\n",
    "plot_band(ax3, y_model_S4c, 'H_in', 'C2', '30% at start')\n",
    "plot_band(ax3, y_model_S4d, 'H_in', 'C3', '50% at start')\n",
    "\n",
    "ax3.set_xlim('2020-09-01', '2021-02-01')\n",
    "ax3.set_xticks(pd.date_range('2020-09-01', '2021-01-15', periods=4))\n",
    "ax3.xaxis.set_tick_params(which='both', labelbottom=True)\n",
    "ax3.set_title('90% effectivity')\n",
    "\n",
    "ax4.plot('DATE','H_in',data=df_sciensano[start_calibration:end_sim].reset_index(), marker='.', \n",
    "         c='gray', label='data', lw=0, markersize=9, alpha=0.3, markeredgecolor='none')\n",
    "plot_band(ax4, y_model_S1, 'H_in', 'gray', 'no vaccination')\n",
    "plot_band(ax4, y_model_S5a, 'H_in', 'C0', '0% at start')\n",
    "plot_band(ax4, y_model_S5b, 'H_in', 'C1', '10% at start')\n",
    "plot_band(ax4, y_model_S5c, 'H_in', 'C2', '30% at start')\n",
    "plot_band(ax4, y_model_S5d, 'H_in', 'C3', '50% at start')\n",
    "\n",
    "ax4.set_xlim('2020-09-01', '2021-02-01')\n",
    "ax4.set_xticks(pd.date_range('2020-09-01', '2021-01-15', periods=4))\n",
    "ax4.xaxis.set_tick_params(which='both', labelbottom=True)\n",
    "ax4.set_title('90% effectivity')\n",
    "\n",
    "\n",
    "ax1.legend(loc='upper center', bbox_to_anchor=(1, 1.35), ncol=3)\n",
    "ax1.set_ylim(0,800)\n",
    "fig.text(0, 0.5, 'Number of new hospitalizations', va='center', rotation='vertical')\n",
    "fig.text(0.5, 0.01, 'Time', va='center', rotation='horizontal')\n",
    "\n",
    "\n",
    "fig.savefig('../results/predictions/national/vaccination_wave2.pdf')"
   ]
  },
  {
   "cell_type": "markdown",
   "metadata": {},
   "source": [
    "# Fast plotting"
   ]
  },
  {
   "cell_type": "code",
   "execution_count": null,
   "metadata": {
    "ExecuteTime": {
     "end_time": "2020-11-25T12:22:24.659395Z",
     "start_time": "2020-11-25T12:22:23.828864Z"
    },
    "scrolled": false
   },
   "outputs": [],
   "source": [
    "end_sim = '2021-01-01'\n",
    "\n",
    "fig,ax=plt.subplots(figsize=(10,4))\n",
    "model_S2c.parameters['beta'] = np.mean(samples_dict['beta'])\n",
    "model_S2c.parameters['l'] = np.mean(samples_dict['l'])\n",
    "model_S2c.parameters['tau'] = np.mean(samples_dict['tau'])\n",
    "y_model_S2c = model_S2c.sim(end_sim,start_date=start_calibration,warmup=0)\n",
    "\n",
    "ax.plot(y_model_S2c['time'],y_model_S2c[\"H_in\"].sum(dim=\"Nc\"),color='blue',alpha=1)\n",
    "\n",
    "ax.scatter(df_sciensano[start_calibration:end_calibration].index,df_sciensano['H_in'][start_calibration:end_calibration],color='black',alpha=0.6,linestyle='None',facecolors='none')\n",
    "\n",
    "ax = _apply_tick_locator(ax)\n",
    "ax.set_xlim('2020-09-01',end_sim)"
   ]
  },
  {
   "cell_type": "code",
   "execution_count": null,
   "metadata": {
    "ExecuteTime": {
     "end_time": "2020-11-24T07:32:16.105436Z",
     "start_time": "2020-11-24T07:32:16.064457Z"
    }
   },
   "outputs": [],
   "source": [
    "    # Define additional dates where intensity or school policy changes\n",
    "    t1 = pd.Timestamp('2020-09-01') # start vaccination 80+\n",
    "    t2 = t1 + pd.Timedelta(floor(initN[8]/daily), unit='D')"
   ]
  },
  {
   "cell_type": "code",
   "execution_count": null,
   "metadata": {
    "ExecuteTime": {
     "end_time": "2020-11-14T19:13:12.125742Z",
     "start_time": "2020-11-14T19:11:43.982215Z"
    }
   },
   "outputs": [],
   "source": [
    "n=100\n",
    "y_model_S1 = model_S1.sim(end_sim,start_date=start_calibration,warmup=0,N=n,\n",
    "                          draw_fcn=draw_sample_COVID19_SEIRD,samples=samples_dict)"
   ]
  },
  {
   "cell_type": "code",
   "execution_count": null,
   "metadata": {
    "ExecuteTime": {
     "end_time": "2020-11-14T19:13:12.937183Z",
     "start_time": "2020-11-14T19:13:12.128574Z"
    }
   },
   "outputs": [],
   "source": [
    "fig,ax = plt.subplots(figsize=(10,4))\n",
    "ax.fill_between(pd.to_datetime(y_model_S1['time'].values),y_model_S1[\"H_in\"].quantile(LL,dim=\"draws\").sum(dim=\"Nc\"), y_model_S1[\"H_in\"].quantile(UL,dim=\"draws\").sum(dim=\"Nc\"),alpha=0.20, color = 'blue')\n",
    "ax.plot(y_model_S1['time'],y_model_S1[\"H_in\"].mean(dim=\"draws\").sum(dim=\"Nc\"),'--', color='blue')\n",
    "ax.scatter(df_sciensano[start_calibration:end_sim].index,df_sciensano['H_in'][start_calibration:end_sim],color='black',alpha=0.4,linestyle='None',facecolors='none')\n",
    "\n",
    "ax.set_ylabel('Number of new hospitalizations')\n",
    "ax = _apply_tick_locator(ax)"
   ]
  },
  {
   "cell_type": "code",
   "execution_count": null,
   "metadata": {
    "ExecuteTime": {
     "end_time": "2020-11-14T19:13:13.593906Z",
     "start_time": "2020-11-14T19:13:12.940545Z"
    }
   },
   "outputs": [],
   "source": [
    "\n",
    "fig,ax = plt.subplots(figsize=(10,4))\n",
    "ax.fill_between(pd.to_datetime(y_model_S1['time'].values),y_model_S1[\"H_tot\"].quantile(LL,dim=\"draws\").sum(dim=\"Nc\"), y_model_S1[\"H_tot\"].quantile(UL,dim=\"draws\").sum(dim=\"Nc\"),alpha=0.20, color = 'blue')\n",
    "ax.plot(y_model_S1['time'],y_model_S1[\"H_tot\"].mean(dim=\"draws\").sum(dim=\"Nc\"),'--', color='blue')\n",
    "ax.scatter(df_sciensano[start_calibration:end_sim].index,df_sciensano['H_tot'][start_calibration:end_sim],color='black',alpha=0.4,linestyle='None',facecolors='none')\n",
    "\n",
    "ax.set_ylabel('Total patients in Belgian hospitals')\n",
    "ax = _apply_tick_locator(ax)"
   ]
  },
  {
   "cell_type": "code",
   "execution_count": null,
   "metadata": {},
   "outputs": [],
   "source": []
  },
  {
   "cell_type": "code",
   "execution_count": null,
   "metadata": {
    "ExecuteTime": {
     "end_time": "2020-11-24T08:03:54.695034Z",
     "start_time": "2020-11-24T08:03:54.606877Z"
    }
   },
   "outputs": [],
   "source": [
    "for t in times:\n",
    "    v = vacc_policy_old_to_young(t, initN, daily=10000)\n",
    "    print(v)"
   ]
  }
 ],
 "metadata": {
  "kernelspec": {
   "display_name": "Python 3",
   "language": "python",
   "name": "python3"
  },
  "language_info": {
   "codemirror_mode": {
    "name": "ipython",
    "version": 3
   },
   "file_extension": ".py",
   "mimetype": "text/x-python",
   "name": "python",
   "nbconvert_exporter": "python",
   "pygments_lexer": "ipython3",
   "version": "3.8.2"
  },
  "nav_menu": {},
  "toc": {
   "base_numbering": 1,
   "nav_menu": {},
   "number_sections": true,
   "sideBar": true,
   "skip_h1_title": false,
   "title_cell": "Table of Contents",
   "title_sidebar": "Contents",
   "toc_cell": true,
   "toc_position": {
    "height": "calc(100% - 180px)",
    "left": "10px",
    "top": "150px",
    "width": "253px"
   },
   "toc_section_display": "block",
   "toc_window_display": true
  }
 },
 "nbformat": 4,
 "nbformat_minor": 4
}
