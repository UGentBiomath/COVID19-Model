{
 "cells": [
  {
   "cell_type": "markdown",
   "metadata": {},
   "source": [
    "##  Calibration of the non-age-stratified deterministic model"
   ]
  },
  {
   "cell_type": "markdown",
   "metadata": {},
   "source": [
    "### Load required packages"
   ]
  },
  {
   "cell_type": "code",
   "execution_count": 18,
   "metadata": {
    "ExecuteTime": {
     "end_time": "2020-06-09T10:05:13.801930Z",
     "start_time": "2020-06-09T10:05:13.734186Z"
    }
   },
   "outputs": [
    {
     "name": "stdout",
     "output_type": "stream",
     "text": [
      "The autoreload extension is already loaded. To reload it, use:\n",
      "  %reload_ext autoreload\n"
     ]
    }
   ],
   "source": [
    "import numpy as np\n",
    "import matplotlib.pyplot as plt\n",
    "from IPython.display import Image\n",
    "from ipywidgets import interact,fixed,FloatSlider,IntSlider,ToggleButtons\n",
    "import pandas as pd\n",
    "import datetime\n",
    "import scipy\n",
    "from scipy.integrate import odeint\n",
    "import matplotlib.dates as mdates\n",
    "import matplotlib\n",
    "import scipy.stats as st\n",
    "import networkx # to install networkx in your environment: conda install networkx\n",
    "from covid19model.models import models\n",
    "from covid19model.data import google, sciensano, polymod, parameters\n",
    "from covid19model.visualization import output\n",
    "# OPTIONAL: Load the \"autoreload\" extension so that package code can change\n",
    "%load_ext autoreload\n",
    "# OPTIONAL: always reload modules so that as you change code in src, it gets loaded\n",
    "%autoreload 2"
   ]
  },
  {
   "cell_type": "markdown",
   "metadata": {},
   "source": [
    "# Load data and parameters"
   ]
  },
  {
   "cell_type": "code",
   "execution_count": 2,
   "metadata": {
    "ExecuteTime": {
     "end_time": "2020-06-09T09:57:30.732519Z",
     "start_time": "2020-06-09T09:57:30.654193Z"
    }
   },
   "outputs": [],
   "source": [
    "params = parameters.get_COVID19_SEIRD_parameters()"
   ]
  },
  {
   "cell_type": "markdown",
   "metadata": {},
   "source": [
    "Here parameters needed for non-age stratified (adapt function!)"
   ]
  },
  {
   "cell_type": "code",
   "execution_count": 19,
   "metadata": {
    "ExecuteTime": {
     "end_time": "2020-06-09T10:05:33.780313Z",
     "start_time": "2020-06-09T10:05:33.725661Z"
    }
   },
   "outputs": [
    {
     "data": {
      "text/plain": [
       "{'Nc': array([[ 7.7050138 ,  1.2862432 ,  1.1001225 ,  2.5043283 ,  1.6116176 ,\n",
       "          0.8171135 ,  0.59634537,  0.27841252,  0.07048622],\n",
       "        [ 1.1423538 , 10.37362   ,  1.7267089 ,  1.1280934 ,  3.0918975 ,\n",
       "          0.8188106 ,  0.31527534,  0.3358658 ,  0.12945868],\n",
       "        [ 0.87237537,  2.9025762 ,  6.0620823 ,  3.660861  ,  3.6821346 ,\n",
       "          3.0401785 ,  0.7254109 ,  0.28502235,  0.14270055],\n",
       "        [ 1.9403199 ,  3.0408332 ,  3.2626722 ,  5.525336  ,  5.111029  ,\n",
       "          3.3093922 ,  1.4685024 ,  0.6374648 ,  0.17762737],\n",
       "        [ 0.8461594 ,  1.9905204 ,  2.8084047 ,  4.1924486 ,  5.559041  ,\n",
       "          3.578151  ,  1.7862767 ,  1.2867484 ,  0.25889912],\n",
       "        [ 1.0871929 ,  0.88876414,  2.6569402 ,  3.0897384 ,  3.4810073 ,\n",
       "          3.8233793 ,  1.6487906 ,  0.7129298 ,  0.40452144],\n",
       "        [ 0.6406475 ,  0.47970086,  0.7108412 ,  1.5911325 ,  1.7046449 ,\n",
       "          1.6100503 ,  1.9634528 ,  0.83730984,  0.407947  ],\n",
       "        [ 0.2770888 ,  0.39709765,  0.52416795,  0.79720324,  1.3383667 ,\n",
       "          0.9295444 ,  1.2970482 ,  1.5029612 ,  0.31036395],\n",
       "        [ 0.37249258,  0.08188828,  1.4871967 ,  1.2681558 ,  1.2056515 ,\n",
       "          1.1299236 ,  0.7052318 ,  0.64678895,  1.2744398 ]],\n",
       "       dtype=float32),\n",
       " 'h': array([0.001, 0.003, 0.012, 0.032, 0.049, 0.102, 0.166, 0.243, 0.273]),\n",
       " 'icu': array([0.05 , 0.05 , 0.05 , 0.05 , 0.063, 0.122, 0.274, 0.432, 0.709]),\n",
       " 'c': array([0.95 , 0.95 , 0.95 , 0.95 , 0.937, 0.878, 0.726, 0.568, 0.291]),\n",
       " 'm0': array([0.6       , 1.        , 1.        , 0.9125    , 0.95562034,\n",
       "        1.00450016, 0.87723155, 0.82018747, 0.69230253]),\n",
       " 'a': array([0.94, 0.9 , 0.84, 0.61, 0.49, 0.21, 0.02, 0.02, 0.02]),\n",
       " 'm': array([0.06, 0.1 , 0.16, 0.39, 0.51, 0.79, 0.98, 0.98, 0.98]),\n",
       " 'da': 7.0,\n",
       " 'dm': 7.0,\n",
       " 'dc': 6.0,\n",
       " 'dICU': 8.0,\n",
       " 'dICUrec': 6.5,\n",
       " 'dhospital': 7.5,\n",
       " 'sigma': 3.2,\n",
       " 'omega': 2.0,\n",
       " 'dq': 14.0,\n",
       " 'zeta': 0.0,\n",
       " 'psi_FP': 0.0,\n",
       " 'psi_PP': 0.0,\n",
       " 'totalTests': 0.0,\n",
       " 'beta': 0.03492}"
      ]
     },
     "execution_count": 19,
     "metadata": {},
     "output_type": "execute_result"
    }
   ],
   "source": [
    "params"
   ]
  },
  {
   "cell_type": "code",
   "execution_count": 4,
   "metadata": {
    "ExecuteTime": {
     "end_time": "2020-06-09T09:57:51.330081Z",
     "start_time": "2020-06-09T09:57:51.265938Z"
    }
   },
   "outputs": [],
   "source": [
    "initN, Nc_home, Nc_work, Nc_schools, Nc_transport, Nc_leisure, Nc_others, Nc_total = polymod.get_interaction_matrices()"
   ]
  },
  {
   "cell_type": "code",
   "execution_count": 8,
   "metadata": {
    "ExecuteTime": {
     "end_time": "2020-06-09T10:00:37.854058Z",
     "start_time": "2020-06-09T10:00:31.971341Z"
    }
   },
   "outputs": [],
   "source": [
    "sciensano_data = sciensano.get_sciensano_COVID19_data(update=False)\n",
    "df_google = google.get_google_mobility_data(update=False)"
   ]
  },
  {
   "cell_type": "markdown",
   "metadata": {},
   "source": [
    "# Initialise model"
   ]
  },
  {
   "cell_type": "code",
   "execution_count": 10,
   "metadata": {
    "ExecuteTime": {
     "end_time": "2020-06-09T10:01:15.399460Z",
     "start_time": "2020-06-09T10:01:15.340705Z"
    }
   },
   "outputs": [],
   "source": [
    "levels = initN.size\n",
    "initial_states = {'S': initN, 'E': np.ones(levels)}"
   ]
  },
  {
   "cell_type": "code",
   "execution_count": 11,
   "metadata": {
    "ExecuteTime": {
     "end_time": "2020-06-09T10:01:21.329970Z",
     "start_time": "2020-06-09T10:01:21.271264Z"
    }
   },
   "outputs": [],
   "source": [
    "model = models.COVID19_SEIRD(initial_states, params)"
   ]
  },
  {
   "cell_type": "code",
   "execution_count": 13,
   "metadata": {
    "ExecuteTime": {
     "end_time": "2020-06-09T10:02:29.931732Z",
     "start_time": "2020-06-09T10:02:29.794271Z"
    }
   },
   "outputs": [],
   "source": [
    "# -> user runs a simulation for a defined time period\n",
    "time = [0, 200]\n",
    "out = model.sim(time)"
   ]
  },
  {
   "cell_type": "code",
   "execution_count": 15,
   "metadata": {
    "ExecuteTime": {
     "end_time": "2020-06-09T10:02:47.144243Z",
     "start_time": "2020-06-09T10:02:47.085430Z"
    }
   },
   "outputs": [
    {
     "data": {
      "text/plain": [
       "0.03492"
      ]
     },
     "execution_count": 15,
     "metadata": {},
     "output_type": "execute_result"
    }
   ],
   "source": [
    "out.parameters['beta']"
   ]
  },
  {
   "cell_type": "code",
   "execution_count": 16,
   "metadata": {
    "ExecuteTime": {
     "end_time": "2020-06-09T10:02:57.731273Z",
     "start_time": "2020-06-09T10:02:57.378612Z"
    }
   },
   "outputs": [
    {
     "data": {
      "text/plain": [
       "[<matplotlib.lines.Line2D at 0x12288c580>,\n",
       " <matplotlib.lines.Line2D at 0x1227fca00>,\n",
       " <matplotlib.lines.Line2D at 0x1227fcaf0>]"
      ]
     },
     "execution_count": 16,
     "metadata": {},
     "output_type": "execute_result"
    },
    {
     "data": {
      "image/png": "[encoded data removed]",
      "text/plain": [
       "<Figure size 432x288 with 1 Axes>"
      ]
     },
     "metadata": {
      "needs_background": "light"
     },
     "output_type": "display_data"
    }
   ],
   "source": [
    "output.infected(out)"
   ]
  },
  {
   "cell_type": "code",
   "execution_count": 14,
   "metadata": {
    "ExecuteTime": {
     "end_time": "2020-06-09T10:02:39.583504Z",
     "start_time": "2020-06-09T10:02:39.285327Z"
    }
   },
   "outputs": [
    {
     "data": {
      "text/plain": [
       "[<matplotlib.lines.Line2D at 0x12282a7f0>,\n",
       " <matplotlib.lines.Line2D at 0x12286d190>,\n",
       " <matplotlib.lines.Line2D at 0x12286d340>,\n",
       " <matplotlib.lines.Line2D at 0x12286d400>]"
      ]
     },
     "execution_count": 14,
     "metadata": {},
     "output_type": "execute_result"
    },
    {
     "data": {
      "image/png": "[encoded data removed]",
      "text/plain": [
       "<Figure size 432x288 with 1 Axes>"
      ]
     },
     "metadata": {
      "needs_background": "light"
     },
     "output_type": "display_data"
    }
   ],
   "source": [
    "output.population_status(out)"
   ]
  },
  {
   "cell_type": "markdown",
   "metadata": {},
   "source": [
    "## Initialise old model"
   ]
  },
  {
   "cell_type": "code",
   "execution_count": null,
   "metadata": {
    "ExecuteTime": {
     "end_time": "2020-05-29T09:44:16.714512Z",
     "start_time": "2020-05-29T09:18:34.460Z"
    }
   },
   "outputs": [],
   "source": [
    "model = models.SEIRSAgeModel(initN   = np.array([11.43e6]),         #16x0 numpy array\n",
    "                                     beta    = 0.0622, # probability of infection when encountering infected person\n",
    "                                     sigma   = 3.2, # latent period\n",
    "                                     omega   = 2.0, # pre-symptomatic infectious period\n",
    "                                     Nc = np.array([11.2]), #must be a numpy array; average number of human-to-human interactions per day\n",
    "                                     a = 0.43, # probability of an asymptotic (supermild) infection\n",
    "                                     m = 1-0.43, # probability of a mild infection\n",
    "                                     h = 0.20, # probability of hospitalisation for a mild infection\n",
    "                                     c = 2/3, # probability of hospitalisation in cohort\n",
    "                                     mi = 1/6, # probability of hospitalisation in midcare\n",
    "                                     da = 7, # days of infection when asymptomatic (supermild)\n",
    "                                     dm = 7, # days of infection when mild\n",
    "                                     dc = 6.5,\n",
    "                                     dmi = 8,\n",
    "                                     dICU = 8,\n",
    "                                     dICUrec = 6.5,\n",
    "                                     dmirec = 6.5,\n",
    "                                     dhospital = 7.5, # days before reaching the hospital when heavy or critical\n",
    "                                     #m0 = np.transpose(np.array([0.000094,0.00022,0.00091,0.0018,0.004,0.013,0.046,0.098,0.18])), # mortality in ICU\n",
    "                                     m0 = np.ones(1)*0.50,\n",
    "                                     maxICU = 2000,\n",
    "                                     totalTests = 0,\n",
    "                                     psi_FP = 0, # probability of a false positive\n",
    "                                     psi_PP = 1, # probability of a correct test\n",
    "                                     dq = 14, # days in quarantaine                          \n",
    "                                     initE = np.array([1]),\n",
    "                                     initI = np.zeros(1),\n",
    "                                     initA = np.zeros(1), \n",
    "                                     initM = np.zeros(1),\n",
    "                                     initC = np.zeros(1),\n",
    "                                     initCmirec = np.zeros(1),\n",
    "                                     initCicurec = np.zeros(1),\n",
    "                                     initMi = np.zeros(1),\n",
    "                                     initICU = np.zeros(1),\n",
    "                                     initR = np.zeros(1),\n",
    "                                     initD = np.zeros(1),\n",
    "                                     initSQ = np.zeros(1),\n",
    "                                     initEQ = np.zeros(1),\n",
    "                                     initIQ = np.zeros(1),\n",
    "                                     initAQ = np.zeros(1),\n",
    "                                     initMQ = np.zeros(1),\n",
    "                                     initRQ = np.zeros(1),\n",
    "                                     monteCarlo = False,\n",
    "                                     n_samples = 1,\n",
    "                            )"
   ]
  },
  {
   "cell_type": "markdown",
   "metadata": {},
   "source": [
    "### Scrape high-level Sciensano data"
   ]
  },
  {
   "cell_type": "code",
   "execution_count": null,
   "metadata": {
    "ExecuteTime": {
     "end_time": "2020-05-29T06:32:51.648457Z",
     "start_time": "2020-05-29T06:32:46.233271Z"
    }
   },
   "outputs": [],
   "source": [
    "index,startdate,ICUvect,hospital = sciensano.get_sciensano_data()"
   ]
  },
  {
   "cell_type": "markdown",
   "metadata": {},
   "source": [
    "### Perform calibration"
   ]
  },
  {
   "cell_type": "code",
   "execution_count": null,
   "metadata": {
    "ExecuteTime": {
     "end_time": "2020-05-29T06:43:56.986000Z",
     "start_time": "2020-05-29T06:43:56.854996Z"
    }
   },
   "outputs": [],
   "source": [
    "bounds"
   ]
  },
  {
   "cell_type": "code",
   "execution_count": null,
   "metadata": {
    "ExecuteTime": {
     "end_time": "2020-05-29T08:33:06.919323Z",
     "start_time": "2020-05-29T08:33:06.564782Z"
    }
   },
   "outputs": [],
   "source": [
    "calib_data"
   ]
  },
  {
   "cell_type": "code",
   "execution_count": null,
   "metadata": {
    "ExecuteTime": {
     "end_time": "2020-05-29T09:44:16.706151Z",
     "start_time": "2020-05-29T09:18:08.652480Z"
    }
   },
   "outputs": [],
   "source": [
    "# vector with dates\n",
    "calib_period=pd.date_range(startdate, freq='D', periods=7)# calibrate on first 7 days\n",
    "# data series used to calibrate model must be given to function 'plotFit' as a list\n",
    "calib_data=[np.transpose(ICUvect[:,0:len(calib_period)]),np.transpose(hospital[:,0:len(calib_period)])]\n",
    "# set optimisation settings\n",
    "parNames = ['beta'] # must be a list!\n",
    "positions = [np.array([5,6]),np.array([4,5,6])] # must be a list!\n",
    "bounds=((10,60),(0.01,0.12)) # must be a list!\n",
    "weights = np.array([0,1])\n",
    "# run optimisation\n",
    "theta = model.fit(calib_data,parNames,positions,bounds,weights,setvar=True,maxiter=30,popsize=60)"
   ]
  },
  {
   "cell_type": "code",
   "execution_count": null,
   "metadata": {},
   "outputs": [],
   "source": [
    "model.LSQ()"
   ]
  },
  {
   "cell_type": "code",
   "execution_count": null,
   "metadata": {
    "ExecuteTime": {
     "end_time": "2020-05-29T08:39:52.944274Z",
     "start_time": "2020-05-29T08:39:52.888912Z"
    }
   },
   "outputs": [],
   "source": [
    "from covid19model.optimization import pso\n",
    "import multiprocessing\n"
   ]
  },
  {
   "cell_type": "code",
   "execution_count": null,
   "metadata": {
    "ExecuteTime": {
     "end_time": "2020-05-29T09:15:53.174910Z",
     "start_time": "2020-05-29T09:15:51.806418Z"
    }
   },
   "outputs": [],
   "source": [
    "Nc"
   ]
  },
  {
   "cell_type": "code",
   "execution_count": null,
   "metadata": {
    "ExecuteTime": {
     "end_time": "2020-05-29T08:40:11.813480Z",
     "start_time": "2020-05-29T08:39:53.368157Z"
    }
   },
   "outputs": [],
   "source": [
    "popsize=60\n",
    "maxiter = 30\n",
    "p_hat, obj_fun_val, pars_final_swarm, obj_fun_val_final_swarm = pso.pso(model.LSQ, bounds, args=(calib_data,parNames,positions,weights), swarmsize=popsize, maxiter=maxiter,\n",
    "                                                                                   processes=multiprocessing.cpu_count(),minfunc=1e-9, minstep=1e-9,debug=True, particle_output=True)\n",
    "        "
   ]
  },
  {
   "cell_type": "code",
   "execution_count": null,
   "metadata": {
    "ExecuteTime": {
     "end_time": "2020-05-28T08:48:40.945629Z",
     "start_time": "2020-05-28T08:48:40.890113Z"
    }
   },
   "outputs": [],
   "source": [
    "## calibrated parameters (Verity et al.)\n",
    "model.extraTime = 37.45862918\n",
    "model.beta = 0.04800026"
   ]
  },
  {
   "cell_type": "code",
   "execution_count": null,
   "metadata": {
    "ExecuteTime": {
     "end_time": "2020-05-28T08:41:31.204594Z",
     "start_time": "2020-05-28T08:41:30.791799Z"
    }
   },
   "outputs": [],
   "source": [
    "# plot result\n",
    "model.plotFit(calib_period,calib_data,positions,modelClr=['red','orange'],legendText=('ICU (model)','Hospitalized (model)','ICU (data)','Hospitalized (data)'),titleText='Belgium')"
   ]
  },
  {
   "cell_type": "markdown",
   "metadata": {},
   "source": [
    "Slight underestimation of hospitalizations, most likely due to the fact that residence times in the hospital differ from the values used in our model. Using the UZ Ghent data to estimate distributions and incorporating this uncertainty will surely fix this in the future."
   ]
  },
  {
   "cell_type": "markdown",
   "metadata": {
    "heading_collapsed": true
   },
   "source": [
    "### Sample from the posterior distribution of beta (uncertainty analysis)"
   ]
  },
  {
   "cell_type": "markdown",
   "metadata": {
    "hidden": true
   },
   "source": [
    "For now, the high-level python package `pyMC3` is used to sample from the posterior distribution of $\\beta$. However, due to the high level nature of `pyMC3` it is hard to perform an elegant coupling with the BIOMATH covid-19 model. Because the parameter $\\beta$ and the excess time $t_e$ are correlated, we fix the $t_e$ estimate obtained from MLE during the sampling procedure to avoid having a bi- or trimodal distributions for $\\beta$."
   ]
  },
  {
   "cell_type": "code",
   "execution_count": null,
   "metadata": {
    "ExecuteTime": {
     "end_time": "2020-05-27T09:28:31.118187Z",
     "start_time": "2020-05-27T09:28:31.069891Z"
    },
    "hidden": true
   },
   "outputs": [],
   "source": [
    "import pymc3 as pm\n",
    "import theano\n",
    "import theano.tensor as tt\n",
    "from theano.compile.ops import as_op"
   ]
  },
  {
   "cell_type": "code",
   "execution_count": null,
   "metadata": {
    "ExecuteTime": {
     "end_time": "2020-05-27T09:29:08.053158Z",
     "start_time": "2020-05-27T09:28:47.271945Z"
    },
    "hidden": true
   },
   "outputs": [],
   "source": [
    "n=theano.shared(float(ICUvect[:,0:idx].size))\n",
    "\n",
    "@as_op(itypes=[tt.dscalar,tt.dscalar], otypes=[tt.dvector])\n",
    "def couple2COVID19MODEL(beta,n):\n",
    "    model.beta = beta\n",
    "    T = n+model.extraTime-1\n",
    "    model.sim(T)\n",
    "    out = (model.sumS,model.sumE,model.sumA,model.sumM,model.sumCtot,model.sumMi,model.sumICU,model.sumR,model.sumD,model.sumSQ,model.sumEQ,model.sumAQ,model.sumMQ,model.sumRQ)\n",
    "    positions=np.array([5,6])\n",
    "    for i in range(int(n)):\n",
    "        som = 0\n",
    "        for j in positions:\n",
    "            som = som + np.mean(out[j],axis=1).reshape(np.mean(out[j],axis=1).size,1)\n",
    "    return som[int(model.extraTime):].flatten()\n",
    "\n",
    "with pm.Model() as COVID19MODEL:\n",
    "    # Priors for unknown model parameters\n",
    "    beta = pm.Normal('beta', mu=model.beta, sigma=0.01)\n",
    "    sigma = pm.HalfNormal('sigma', sigma=20)\n",
    "\n",
    "    mu = couple2COVID19MODEL(beta,n)\n",
    "    # Likelihood (sampling distribution) of observations\n",
    "    Y_obs = pm.Normal('Y_obs', mu=mu, sigma=sigma, observed=ICUvect[:,0:idx].flatten())"
   ]
  },
  {
   "cell_type": "code",
   "execution_count": null,
   "metadata": {
    "ExecuteTime": {
     "end_time": "2020-05-27T13:08:03.664755Z",
     "start_time": "2020-05-27T13:07:34.342150Z"
    },
    "hidden": true
   },
   "outputs": [],
   "source": [
    "# initial estimate to depart sampling from\n",
    "map_estimate = pm.find_MAP(model=COVID19MODEL, method='L-BFGS-B',tol=1e-12)\n",
    "map_estimate"
   ]
  },
  {
   "cell_type": "markdown",
   "metadata": {
    "hidden": true
   },
   "source": [
    "**Opgelet: map_estimate past model.beta aan... niet zeker of dat de bedoeling is?**"
   ]
  },
  {
   "cell_type": "code",
   "execution_count": null,
   "metadata": {
    "ExecuteTime": {
     "end_time": "2020-05-27T11:59:40.632994Z",
     "start_time": "2020-05-27T10:20:24.333962Z"
    },
    "hidden": true,
    "scrolled": true
   },
   "outputs": [],
   "source": [
    "with COVID19MODEL:\n",
    "\n",
    "    # draw 1000 posterior samples\n",
    "    trace = pm.sample(500,start=map_estimate,step=pm.Slice(),cores=4)#,cores=12"
   ]
  },
  {
   "cell_type": "markdown",
   "metadata": {
    "hidden": true
   },
   "source": [
    "**trace opslaan!!**"
   ]
  },
  {
   "cell_type": "code",
   "execution_count": null,
   "metadata": {
    "ExecuteTime": {
     "end_time": "2020-05-27T09:49:21.556221Z",
     "start_time": "2020-05-27T09:30:42.572Z"
    },
    "hidden": true
   },
   "outputs": [],
   "source": [
    "pm.traceplot(trace,varnames=['beta','sigma'])"
   ]
  },
  {
   "cell_type": "markdown",
   "metadata": {},
   "source": [
    "### Scenarios"
   ]
  },
  {
   "cell_type": "markdown",
   "metadata": {},
   "source": [
    "\n",
    "Use the code snippet below to see the correspondence between `'t'` in the `pastPolicy` dictionary and the actual date."
   ]
  },
  {
   "cell_type": "code",
   "execution_count": null,
   "metadata": {
    "ExecuteTime": {
     "end_time": "2020-05-28T08:48:49.946897Z",
     "start_time": "2020-05-28T08:48:49.890917Z"
    }
   },
   "outputs": [],
   "source": [
    "# Define data as a list containing data timeseries\n",
    "data=[np.transpose(ICUvect),np.transpose(hospital)]\n",
    "# vector with dates\n",
    "index=pd.date_range(startdate, freq='D', periods=ICUvect.size)\n",
    "print(index[2],index[50],index[57],index[-1])"
   ]
  },
  {
   "cell_type": "markdown",
   "metadata": {},
   "source": [
    "The interaction matrices of the 2008 study by Mossong were gathered under a business-as-usual scenario. It is thus not possible to use the interaction matrices without doing a correction for social distancing. Even when using only the interactions at home (`Nc_home`), the virus cannot be stopped."
   ]
  },
  {
   "cell_type": "code",
   "execution_count": null,
   "metadata": {
    "ExecuteTime": {
     "end_time": "2020-05-28T08:48:48.342904Z",
     "start_time": "2020-05-28T08:48:48.288532Z"
    }
   },
   "outputs": [],
   "source": [
    "sigma = 0.2 # prevention measure"
   ]
  },
  {
   "cell_type": "markdown",
   "metadata": {},
   "source": [
    "Stringent measures were taken in the evening of March 17th, which corresponds to time-index 3, however, the measures are only 'enforced' on day 8 in the `pastPolicy` dictionary. Why? The change in human behaviour was very gradual, it took between 10-14 days after March 17th before everyone was working at home (see the Google mobility report). In other words, measures were taken on March 17th, but obedience for these measures was gradual, like a ramp. However, in the model we make a step-wise change. The obedience to measures can be adressed in future work."
   ]
  },
  {
   "cell_type": "code",
   "execution_count": null,
   "metadata": {
    "ExecuteTime": {
     "end_time": "2020-05-28T07:15:18.560151Z",
     "start_time": "2020-05-28T07:15:18.505853Z"
    }
   },
   "outputs": [],
   "source": [
    "#dates,retail_recreation,grocery,parks,transport,work,residential=google.get_google_mobility_data()"
   ]
  },
  {
   "cell_type": "markdown",
   "metadata": {},
   "source": [
    "Another important issue to adress is the home interaction matrix `Nc_home`. All contacts in these matrices are still assumed to be random, during a lockdown, the interactions at home should somehow be corrected for the 'bubble' effect. Since the average household size in belgium is 2 people, I correct the `Nc_home` matrix with a factor 1/2."
   ]
  },
  {
   "cell_type": "code",
   "execution_count": null,
   "metadata": {
    "ExecuteTime": {
     "end_time": "2020-05-28T08:48:52.779552Z",
     "start_time": "2020-05-28T08:48:52.719435Z"
    }
   },
   "outputs": [],
   "source": [
    "# Create a dictionary of past policies\n",
    "pastPolicy = {'t':       [7,50,57], \n",
    "              'Nc':      [0.3*Nc_home+sigma*((1-0.70)*Nc_work+(1-0.70)*Nc_transport),\n",
    "                          # 70 percent reduction in work --> from data gert peersman,\n",
    "                          # 70 percent reduction in transit --> google community mobility report\n",
    "                          0.3*Nc_home+sigma*((1-0.40)*Nc_work+(1-0.50)*Nc_transport),\n",
    "                          # rule of four: sigma increases\n",
    "                          # 40 percent reduction in work --> google covid mobility reports\n",
    "                          # 50 percent reduction in transit --> google covid mobility reports (Contact Koen Schoors for data De Lijn!)\n",
    "                          0.3*Nc_home+sigma*((1-0.30)*Nc_work+(1-0.45)*Nc_transport+(1-0.50)*Nc_schools+(1-0.40)*Nc_leisure+(1-0.40)*Nc_others),\n",
    "                          # rule of four\n",
    "                          # 30 percent reduction in work --> Google\n",
    "                          # 45 percent reduction in transit --> Google\n",
    "                          # All ages up untill 12 years back to school --> roughly 50 percent of schools back open\n",
    "                          # retail & recreation back to 40 percent --> Google mobility report --> assume both leisure and others\n",
    "                         ]\n",
    "              }"
   ]
  },
  {
   "cell_type": "code",
   "execution_count": null,
   "metadata": {
    "ExecuteTime": {
     "end_time": "2020-05-28T08:49:52.221885Z",
     "start_time": "2020-05-28T08:49:50.155679Z"
    },
    "scrolled": true
   },
   "outputs": [],
   "source": [
    "# Run realTimeScenario\n",
    "model.realTimeScenario(startdate,data,positions,pastPolicy,futurePolicy=None,trace=None,T_extra=7,\n",
    "                       modelClr=['red','orange'],legendText=('ICU (model)','Hospital (model)','ICU (data)','Hospital (data)'),\n",
    "                       titleText='Belgium',filename=None)"
   ]
  },
  {
   "cell_type": "code",
   "execution_count": null,
   "metadata": {
    "ExecuteTime": {
     "end_time": "2020-05-28T08:10:39.887897Z",
     "start_time": "2020-05-28T08:10:39.820033Z"
    }
   },
   "outputs": [],
   "source": [
    "# Create a dictionary of future policies\n",
    "# starts day after last datapoint\n",
    "futurePolicy = {'t':     [3,18], # May 21th, June 4th \n",
    "                'Nc':    [0.3*Nc_home+sigma*((1-0.20)*Nc_work+(1-0.40)*Nc_transport+Nc_schools+(1-0.40)*Nc_leisure+(1-0.40)*Nc_others),\n",
    "                          # rule of four\n",
    "                          # 20 percent reduction in work --> If current trend in Google reports persists\n",
    "                          # 40 percent reduction in transit --> If current trend in Google reports persists\n",
    "                          # All ages back to school --> a lot of media attention to re-open schools at this point...\n",
    "                          # retail & recreation still at 40 percent --> Google mobility report --> maybe it's going more up\n",
    "                          0.5*Nc_home+sigma*((1-0.20)*Nc_work+(1-0.50)*Nc_transport+Nc_schools+(1-0.40)*Nc_leisure+(1-0.40)*Nc_others)\n",
    "                          # Phase 3 of lockdown release: will we be able to see more friends? Increase in sigma.\n",
    "                          # From hereon: scenarios,\n",
    "                          \n",
    "                         ],\n",
    "              }"
   ]
  },
  {
   "cell_type": "code",
   "execution_count": null,
   "metadata": {
    "ExecuteTime": {
     "end_time": "2020-05-28T07:31:11.490624Z",
     "start_time": "2020-05-28T07:31:11.428596Z"
    }
   },
   "outputs": [],
   "source": [
    "t_data = pd.date_range(startdate, freq='D', periods=data[0].size)"
   ]
  },
  {
   "cell_type": "code",
   "execution_count": null,
   "metadata": {
    "ExecuteTime": {
     "end_time": "2020-05-28T08:26:10.968536Z",
     "start_time": "2020-05-28T08:26:10.741399Z"
    }
   },
   "outputs": [],
   "source": [
    "T_extra = 14"
   ]
  },
  {
   "cell_type": "code",
   "execution_count": null,
   "metadata": {
    "ExecuteTime": {
     "end_time": "2020-05-28T08:26:11.032983Z",
     "start_time": "2020-05-28T08:26:10.972970Z"
    }
   },
   "outputs": [],
   "source": [
    "T = len(t_data) + model.extraTime - 1 + int(T_extra)"
   ]
  },
  {
   "cell_type": "code",
   "execution_count": null,
   "metadata": {},
   "outputs": [],
   "source": [
    "t_data = pd.date_range(startDate, freq='D', periods=data[0].size)\n",
    "    T = len(t_data) + self.extraTime - 1 + int(T_extra) # number of datapoints\n",
    "\n",
    "    # make a deepcopy --> if you modify a python dictionary in a function it will be modified globally\n",
    "    dict1_orig = copy.deepcopy(pastPolicy)\n",
    "    dict2_orig = copy.deepcopy(futurePolicy)\n",
    "\n",
    "    # add estimated extraTime to past policy vector\n",
    "    for i in range(len(dict1_orig['t'])):\n",
    "        dict1_orig['t'][i] = dict1_orig['t'][i] + self.extraTime - 1\n",
    "\n",
    "    # Create a merged dictionary accounting for estimated 'extraTime'\n",
    "    if futurePolicy is not None:\n",
    "        chk = self.mergeDict((T-int(T_extra)-1),dict1_orig,dict2_orig)\n",
    "        T = chk['t'][-1]+int(T_extra)\n",
    "    else:\n",
    "        chk = pastPolicy\n",
    "    # ------------------\n",
    "    # Prepare simulation\n",
    "    # ------------------\n",
    "    # reset all numX\n",
    "    self.reset()\n",
    "\n",
    "    # ------------------\n",
    "    # Perform simulation\n",
    "    # ------------------\n",
    "    self.sim(T,checkpoints=chk,trace=trace)\n",
    "    # tuple the results, this is necessary to use the positions index\n",
    "    out = (self.sumS,self.sumE,self.sumA,self.sumM,self.sumCtot,self.sumMi,self.sumICU,self.sumR,self.sumD,self.sumSQ,self.sumEQ,self.sumAQ,self.sumMQ,self.sumRQ)\n",
    "\n",
    "    # -----------\n",
    "    # Plot result\n",
    "    # -----------\n",
    "    # Create shifted index vector using self.extraTime\n",
    "    t_acc = pd.date_range(startDate,freq='D',periods=T+1)-datetime.timedelta(days=self.extraTime-1)\n",
    "    # Plot figure\n",
    "    fig, ax = plt.subplots()\n",
    "    # Plot data\n",
    "    for i in range(len(data)):\n",
    "        ax.scatter(t_data,data[i],color=\"black\",marker=dataMkr[i])\n",
    "    # Plot model prediction\n",
    "    for i in range(len(data)):\n",
    "        ymodel = 0\n",
    "        for j in positions[i]:\n",
    "            ymodel = ymodel + out[j]\n",
    "        ax.plot(t_acc,numpy.mean(ymodel,axis=1),'--',color=modelClr[i])\n",
    "        ax.fill_between(t_acc,numpy.percentile(ymodel,95,axis=1),\n",
    "             numpy.percentile(ymodel,5,axis=1),color=modelClr[i],alpha=0.2)\n",
    "    # Attributes\n",
    "    if legendText is not None:\n",
    "        ax.legend(legendText, loc=\"upper left\", bbox_to_anchor=(1,1))\n",
    "    if titleText is not None:\n",
    "        ax.set_title(titleText,{'fontsize':18})\n",
    "    plt.gca().xaxis.set_major_locator(mdates.DayLocator())\n",
    "    plt.gca().xaxis.set_major_formatter(matplotlib.dates.DateFormatter('%d-%m-%Y'))\n",
    "    plt.setp(plt.gca().xaxis.get_majorticklabels(),\n",
    "        'rotation', 90)\n",
    "    ax.set_xlim( t_acc[self.extraTime-3], pd.to_datetime(t_acc[-1]))\n",
    "    ax.set_ylabel('number of patients')\n",
    "    # Hide the right and top spines\n",
    "    ax.spines['right'].set_visible(False)\n",
    "    ax.spines['top'].set_visible(False)\n",
    "    # Only show ticks on the left and bottom spines\n",
    "    ax.yaxis.set_ticks_position('left')\n",
    "    ax.xaxis.set_ticks_position('bottom')\n",
    "    # enable the grid\n",
    "    plt.grid(True)\n",
    "    # To specify the number of ticks on both or any single axes\n",
    "    ax.xaxis.set_major_locator(plt.MaxNLocator(5))\n",
    "    ax.yaxis.set_major_locator(plt.MaxNLocator(4))\n",
    "    if filename is not None:\n",
    "        plt.savefig(filename,dpi=600,bbox_inches='tight')\n",
    "    if getfig:\n",
    "        return fig, ax\n",
    "    else:\n",
    "        plt.show()\n"
   ]
  },
  {
   "cell_type": "code",
   "execution_count": null,
   "metadata": {
    "ExecuteTime": {
     "end_time": "2020-05-28T08:10:47.427275Z",
     "start_time": "2020-05-28T08:10:46.728169Z"
    }
   },
   "outputs": [],
   "source": [
    "# Run realTimeScenario\n",
    "model.realTimeScenario(startdate,data,positions,pastPolicy,futurePolicy,trace=None,T_extra=7,\n",
    "                       modelClr=['red','orange'],legendText=('ICU (model)','Hospital (model)','ICU (data)','Hospital (data)'),\n",
    "                       titleText='Belgium',filename=None)"
   ]
  },
  {
   "cell_type": "code",
   "execution_count": null,
   "metadata": {},
   "outputs": [],
   "source": [
    "# Create a dictionary of future policies\n",
    "futurePolicy_S1 = {'t':     [3,18], # May 21th, June 4th \n",
    "                'Nc':    [0.3*Nc_home+sigma2*((1-0.20)*Nc_work+(1-0.40)*Nc_transport+Nc_schools+(1-0.40)*Nc_leisure+(1-0.40)*Nc_others),\n",
    "                          0.5*Nc_home+sigma3*((1-0.20)*Nc_work+(1-0.50)*Nc_transport+Nc_schools+(1-0.40)*Nc_leisure+(1-0.40)*Nc_others),\n",
    "                          0.5*Nc_home+sigma3*((1-0.20)*Nc_work+(1-0.50)*Nc_transport+Nc_schools+(1-0.40)*Nc_leisure+(1-0.40)*Nc_others)\n",
    "\n",
    "                         ],\n",
    "              }"
   ]
  },
  {
   "cell_type": "code",
   "execution_count": null,
   "metadata": {
    "ExecuteTime": {
     "end_time": "2020-05-27T12:08:09.290513Z",
     "start_time": "2020-05-27T12:08:09.229191Z"
    }
   },
   "outputs": [],
   "source": [
    "pd.to_datetime('2020-05-21')+pd.Timedelta('18days')"
   ]
  },
  {
   "cell_type": "code",
   "execution_count": null,
   "metadata": {},
   "outputs": [],
   "source": []
  },
  {
   "cell_type": "code",
   "execution_count": null,
   "metadata": {},
   "outputs": [],
   "source": []
  }
 ],
 "metadata": {
  "kernelspec": {
   "display_name": "Python 3",
   "language": "python",
   "name": "python3"
  },
  "language_info": {
   "codemirror_mode": {
    "name": "ipython",
    "version": 3
   },
   "file_extension": ".py",
   "mimetype": "text/x-python",
   "name": "python",
   "nbconvert_exporter": "python",
   "pygments_lexer": "ipython3",
   "version": "3.8.2"
  },
  "toc": {
   "base_numbering": 1,
   "nav_menu": {},
   "number_sections": true,
   "sideBar": true,
   "skip_h1_title": false,
   "title_cell": "Table of Contents",
   "title_sidebar": "Contents",
   "toc_cell": false,
   "toc_position": {},
   "toc_section_display": true,
   "toc_window_display": false
  }
 },
 "nbformat": 4,
 "nbformat_minor": 4
}
