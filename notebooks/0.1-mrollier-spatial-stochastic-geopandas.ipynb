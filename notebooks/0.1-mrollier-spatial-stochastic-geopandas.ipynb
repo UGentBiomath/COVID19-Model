{
 "cells": [
  {
   "cell_type": "markdown",
   "metadata": {},
   "source": [
    "**CONTENT**\n",
    "\n",
    "In this notebook we will create stochastic simulations based on either `COVID19_SEIRD_sto` or `COVID19_SEIRD_sto_spatial` with various *initial conditions* and *imposed measures*.\n",
    "\n",
    "**OPEN TASKS**\n",
    "\n",
    "*short term*\n",
    "1. ~~Define some interesting realistic and/or artificial initial conditions~~\n",
    "2. Define some interesting realistic and/or artificial imposed measures: See Tijs' preprint\n",
    "3. Initiate the models and create a readable environment to make nice plots (create some definitions?)\n",
    "4. **Compare the dynamics and results of the spatially stratified model with the national model (these should largely correspond with each other)**\n",
    "5. Choose the most pertinent conditions and measures for plotting in geopandas and make a full-resolution video of the simulation\n",
    "6. ~~Plot infections, hospitalisations and deaths~~\n",
    "7. *Important*: Compare with actual data (See `MR-time-series-correlation` in `/spatial_private`)\n",
    "8. Automate the hard-code in `models.py` line `coordinates = [read_coordinates_nis(spatial='test')]`\n",
    "9. ~~Find a nice way to show upper and lower percentiles~~\n",
    "10. Define functions in a `visualization` environment. That should make it much more readable\n",
    "11. ~~Make a Pull Request~~ Make another one\n",
    "12. Calibrate the results on the actual data. IDEA: can't we also calibrate on the effect of measures --> see how measures were *actually* followed? Right now this seems like a big estimation.\n",
    "13. ~~In `show_map`, include meaning of uncertainty band in legend if only one line is shown~~\n",
    "14. Define `social_policy_func` in `utils.py`\n",
    "15. ~~Find a way to save `xarray` objects~~\n",
    "16. Add social parameters `l` and `tau` to the default fetched parameters\n",
    "17. ~~Make the plotting device at the end of the Notebook into a function~~\n",
    "18. Find a way to also easily plot Sciensano data with the same functions\n",
    "\n",
    "*long term*  \n",
    "2. Take out the most relevant results and summarise in a $\\LaTeX$ presentation\n",
    "3. Include age-stratification for the mobility matrix $P^{gh}$\n",
    "4. Include spatial stratification for the mobility parameter $p_i$: simulate negative travel advice\n",
    "5. Include age stratification for *all* hospital parameters (including average number of days in the hospital)\n",
    "6. Visualise the measures\n",
    "7. Include framework for vaccination\n",
    "8. Allow for fractional infection from mildly symptomatic people that ignore safety regulations (self-isolation), preferably based on research\n",
    "9. Show age distribution in the relevant time series at any time\n",
    "10. Fix the percentile problem: right now we are taking the percentiles for every time value, but independent simulations might cross each other. This is therefore not strictly correct (this is a detail though)\n",
    "11. In the `show_map` function, include age stratification.\n",
    "12. Add 'smooth-out' option (7-day moving average) to show_maps and show_graphs functions\n",
    "\n",
    "**OPEN QUESTIONS**\n",
    "\n",
    "1. What is the reason for and the meaning of the normalisation factor $z_i$ in `COVID19_SEIRD_sto_spatial`?\n",
    "2. Is it OK for all susceptibility factors $s_i$ to be smaller than one, as is the case now?\n",
    "3. Can we simulate home isolation within this framework? If the contact matrix $N_{c,ij}$ is set to only $N_{home,ij}$, this still assumes homogeneity within each patch. One than still has contact with the entire patch, which is not realistic\n",
    "4. Only professional commuting is included, but presumably this is not sufficient. Can we use these simulations to verify that?\n",
    "5. ~~Why are there so few hospitalisations compared to the number of deaths? There is definitely a bug there somewhere: the number of ICUs is even larger than the number of hospitalisations, which cannot be correct.~~\n",
    "    * Probably because `H_in` literally shows how many new people get in at any day (flux only), while for example `ICU` shows how many people are *actively* occupying ICU beds. Of course there is a crucial difference between the two.\n",
    "6. ~~Why does it take SOOO much longer to compute the national model vs the spatial model? Verify whether this is a factor $G$ difference~~ Reason: the figure environment should be reloaded every time, otherwise the figures are overwritten, which takes a lot of memory.\n",
    "7. All numbers go up in the aggregated version compared to the national model. I would actually expect the opposite, because people aren't spread as homogenic as before. What is going on? This must be **the effect of the normalisation** ...but wouldn't this give the opposite effect? $z_i \\times f$ is of the order $0.5 \\times 1.5$ which brings *down* the infectivity, which lowers the probability of being infected in a patch $g$. So if anything, I would expect the time series to be smaller than on the national level.\n",
    "8. How do I implement multiple policy changes?"
   ]
  },
  {
   "cell_type": "markdown",
   "metadata": {
    "heading_collapsed": true
   },
   "source": [
    "# Load packages"
   ]
  },
  {
   "cell_type": "code",
   "execution_count": 1,
   "metadata": {
    "ExecuteTime": {
     "end_time": "2020-10-28T10:57:48.829173Z",
     "start_time": "2020-10-28T10:57:42.152292Z"
    },
    "hidden": true
   },
   "outputs": [],
   "source": [
    "# Established packages\n",
    "import os\n",
    "import numpy as np\n",
    "import pandas as pd\n",
    "import geopandas as gp\n",
    "import datetime\n",
    "import math\n",
    "import xarray as xr # labels in the form of dimensions, coordinates and attributes\n",
    "import matplotlib.pyplot as plt\n",
    "import zarr\n",
    "\n",
    "# Custom package covid19model\n",
    "from covid19model.models import models\n",
    "from covid19model.models.utils import name2nis, social_policy_func, save_sim, open_sim\n",
    "from covid19model.data import model_parameters #, sciensano, google\n",
    "from covid19model.visualization.output import population_status, infected, show_map, show_graphs\n",
    "\n",
    "\n",
    "# Load different geographical aggregations\n",
    "maps_dir = '../data/raw/geopandas/BE/'\n",
    "\n",
    "country = gp.read_file(os.path.join(maps_dir, 'AD_6_Country.shp'))\n",
    "regions = gp.read_file(os.path.join(maps_dir, 'AD_5_Region.shp'))\n",
    "provinces = gp.read_file(os.path.join(maps_dir, 'AD_4_Province.shp'))\n",
    "arrondissements = gp.read_file(os.path.join(maps_dir, 'AD_3_District.shp'))\n",
    "municipalities = gp.read_file(os.path.join(maps_dir, 'AD_2_Municipality.shp'))\n",
    "testgeo = arrondissements.loc[arrondissements['NISCode'].isin(['11000', '21000', '44000'])].reset_index(drop=True)\n",
    "# Add NIS-code to Arrondissement Brussel-Hoofdstad\n",
    "provinces.loc[provinces['NISCode']=='NA', 'NISCode'] = '21000'\n",
    "\n",
    "\n",
    "# OPTIONAL: Load the \"autoreload\" extension so that package code can change\n",
    "%load_ext autoreload\n",
    "# OPTIONAL: always reload modules so that as you change code in src, it gets loaded\n",
    "# This may be useful because the `covid19model` package is under construction\n",
    "%autoreload 2"
   ]
  },
  {
   "cell_type": "markdown",
   "metadata": {},
   "source": [
    "# Content and initialisation"
   ]
  },
  {
   "cell_type": "markdown",
   "metadata": {
    "heading_collapsed": true
   },
   "source": [
    "## Oversight of various model conditions"
   ]
  },
  {
   "cell_type": "markdown",
   "metadata": {
    "hidden": true
   },
   "source": [
    "Any of the conditions below are implemented for both the spatial and the national stochastic SEIRD-extended model.\n",
    "\n",
    "**Initial conditions**\n",
    "1. One exposed person on day 0. With some spatial variation:  \n",
    "    1. On the far southeast side of the country  \n",
    "    2. On the far northwest side of the country  \n",
    "    3. In Brussels  \n",
    "2. Fifty exposed people on day 0, same spatial variation\n",
    "3. Only asymptomatic people instead of exposed people\n",
    "4. Only presymptomatic people instead of exposed people\n",
    "5. No mobility whatsoever (sanity check, can only be done in spatial model)\n",
    "\n",
    "**Measures**\n",
    "1. Decrease overall contact parameter: type of contact stays the same, but the frequency is lowered\n",
    "2. Change *type* of contact: only remain home contact (but note that this does not mean that families are isolated!)\n",
    "3. Decrease mobility between cities (can only be done in spatial model)\n",
    "4. Vaccination: migrate the number of Susceptible straight to the Recovered category\n",
    "\n",
    "**Spatial levels**\n",
    "1. 'Test' level: only arrondissements Antwerpen, Brussel, Gent\n",
    "2. Arrondissement level: 43 arrondissements\n",
    "3. Province level: 10+1 provinces\n",
    "4. National level: no spatial stratification"
   ]
  },
  {
   "cell_type": "markdown",
   "metadata": {
    "ExecuteTime": {
     "end_time": "2020-10-13T11:56:07.806112Z",
     "start_time": "2020-10-13T11:56:07.750938Z"
    },
    "heading_collapsed": true
   },
   "source": [
    "## Initialisation of common parameters"
   ]
  },
  {
   "cell_type": "code",
   "execution_count": 2,
   "metadata": {
    "ExecuteTime": {
     "end_time": "2020-10-28T10:57:56.567221Z",
     "start_time": "2020-10-28T10:57:56.500419Z"
    },
    "hidden": true
   },
   "outputs": [],
   "source": [
    "# ---------------------------- #\n",
    "# Choose simulation parameters #\n",
    "# ---------------------------- #\n",
    "\n",
    "# Note that a high number of simulations is computationally expensive, especially for high spatial stratification\n",
    "sim_number = 100\n",
    "days_number = 100\n",
    "\n",
    "# Policy values (for more details on nature of measures, see block below)\n",
    "policy_time = 40 # Must be smaller than days_number\n",
    "tau = 5 # days until new measures show some effect\n",
    "l = 5 # days since policy_time + tau until new measures show full effect"
   ]
  },
  {
   "cell_type": "markdown",
   "metadata": {},
   "source": [
    "# Sanity check: correspondence between spatial model and national model"
   ]
  },
  {
   "cell_type": "markdown",
   "metadata": {},
   "source": [
    "Below we load *a single exposed 35 year old individual* in every arrondissement (43 exposed people). We compare the resulting time series with those from simulations from the model stratified per province (4 per province+Bxl), and from the national model (43 in Belgium). Ideally, these should show identical dynamics.\n",
    "\n",
    "**Results**\n",
    "1. The simulations on province level and on arrondissement level are virtually identical.\n",
    "2. The national model predicts gives many *fewer* hospitalisations.\n",
    "\n",
    "**Discussion**\n",
    "1. It is still unclear what the prefactors $f_i$ and $z_i$ mean. These influence the effective $\\beta$, hence influencing the speed of the infection.\n",
    "2. Currently $\\beta$ is effectively *smaller* for the spatial model, so I don't understand why the infection spreads faster than in the national model\n",
    "3. Perhaps I should spread the infected people out more according to population density (so more in Brussels and fewer in Arlon)\n",
    "\n",
    "**Save simulation results in zarr**"
   ]
  },
  {
   "cell_type": "code",
   "execution_count": 12,
   "metadata": {
    "ExecuteTime": {
     "end_time": "2020-10-28T11:03:33.256222Z",
     "start_time": "2020-10-28T11:03:33.188844Z"
    }
   },
   "outputs": [],
   "source": [
    "# Name of the zarr directory in which the simulations are to be saved\n",
    "zarr_dir = '../data/simulated/'\n",
    "zarr_name = \"Sanity-check_\" + str(sim_number) + \"sims_\" + str(days_number) + \\\n",
    "                    \"days_\" + \"Nctot-to-Nchome-day\" + str(policy_time) + '.zarr'\n",
    "\n",
    "zarr = zarr_dir + '/' + zarr_name"
   ]
  },
  {
   "cell_type": "markdown",
   "metadata": {
    "heading_collapsed": true
   },
   "source": [
    "## Spatial model on arrondissement level"
   ]
  },
  {
   "cell_type": "markdown",
   "metadata": {
    "heading_collapsed": true,
    "hidden": true
   },
   "source": [
    "### Prepare the simulation"
   ]
  },
  {
   "cell_type": "code",
   "execution_count": 8,
   "metadata": {
    "ExecuteTime": {
     "end_time": "2020-10-28T11:00:15.533631Z",
     "start_time": "2020-10-28T11:00:15.270531Z"
    },
    "hidden": true
   },
   "outputs": [],
   "source": [
    "# Name of the zarr gropu in which this particular simulation is or will be saved\n",
    "group = \"arr_1E-per-arr\"\n",
    "\n",
    "# Load parameters and interaction matrices\n",
    "age_str = True\n",
    "spatial_str = 'arr'\n",
    "intensity='all'\n",
    "params = model_parameters.get_COVID19_SEIRD_parameters(age_stratified=age_str, spatial=spatial_str)\n",
    "initN, Nc_home, Nc_work, Nc_schools, Nc_transport, Nc_leisure, Nc_others, Nc_total = model_parameters.get_interaction_matrices(intensity=intensity, spatial=spatial_str)\n",
    "\n",
    "# Add social policy parameter values\n",
    "params.update({'l': l,\n",
    "              'tau': tau,\n",
    "              'policy_time' : policy_time})"
   ]
  },
  {
   "cell_type": "code",
   "execution_count": 9,
   "metadata": {
    "ExecuteTime": {
     "end_time": "2020-10-28T11:00:15.750807Z",
     "start_time": "2020-10-28T11:00:15.684665Z"
    },
    "hidden": true,
    "scrolled": true
   },
   "outputs": [],
   "source": [
    "# Define initial conditions\n",
    "\n",
    "# Every arrondissements gets one 35-year-old exposed individual\n",
    "exposed = np.zeros(initN.shape)\n",
    "for arr in exposed:\n",
    "    arr[3] = 1\n",
    "init_states = dict({'S' : initN, 'E' : exposed})\n",
    "\n",
    "# The type of policy change: contact is reduce from everything to home contact (within the arrondissement) only\n",
    "policy1 = Nc_total\n",
    "policy2 = Nc_home\n",
    "params.update({'policy1' : policy1,\n",
    "               'policy2' : policy2})"
   ]
  },
  {
   "cell_type": "code",
   "execution_count": 10,
   "metadata": {
    "ExecuteTime": {
     "end_time": "2020-10-28T11:00:17.268692Z",
     "start_time": "2020-10-28T11:00:17.204737Z"
    },
    "hidden": true
   },
   "outputs": [],
   "source": [
    "# Load the model\n",
    "model = models.COVID19_SEIRD_sto_spatial(init_states, params, time_dependent_parameters={'Nc' : social_policy_func},\n",
    "                                     discrete=True)"
   ]
  },
  {
   "cell_type": "markdown",
   "metadata": {
    "heading_collapsed": true,
    "hidden": true
   },
   "source": [
    "### Run and save the simulations - WARNING: computationally expensive (only do once)"
   ]
  },
  {
   "cell_type": "code",
   "execution_count": 32,
   "metadata": {
    "ExecuteTime": {
     "end_time": "2020-10-27T13:26:51.320425Z",
     "start_time": "2020-10-27T13:26:49.405251Z"
    },
    "hidden": true
   },
   "outputs": [
    {
     "name": "stdout",
     "output_type": "stream",
     "text": [
      "Saved simulation output in newly created zarr directory 'Sanity-check_100sims_100days_Nctot-to-Nchome-day40.zarr' under the group 'arr_1E-per-arr'\n",
      "Description: Stochastic spatial SEIRD extended model with 100 parallel simulations in 43 arrondissements over 100 days.At day 0 a single exposed person in the age class 30-40 is released ineach of the arrondissements. At day 40 measures are imposed, bringing down the contact rate from Nc_total to Nc_home over the course of 5 + 5 days (tau and l compliance parameters) reaches full effect.\n"
     ]
    }
   ],
   "source": [
    "# Group name and output description\n",
    "description = f\"Stochastic spatial SEIRD extended model with {sim_number} \"\\\n",
    "                    f\"parallel simulations in 43 arrondissements over {days_number} days.\"\\\n",
    "                    f\"At day 0 a single exposed person in the age class 30-40 is released in\"\\\n",
    "                    f\"each of the arrondissements. At day {policy_time} measures are imposed, \"\\\n",
    "                    f\"bringing down the contact rate from Nc_total to Nc_home over the course of \"\\\n",
    "                    f\"{tau} + {l} days (tau and l compliance parameters) reaches full effect.\"\n",
    "\n",
    "# Perform simulation (commented out for safety)\n",
    "# WARNING! First check if there isn't already data available for this simulation!\n",
    "# out_sanity_arr = model.sim(days_number, N=sim_number, verbose=True)\n",
    "\n",
    "# Save simulation results\n",
    "# save_sim(out_sanity_arr, zarr, group, descr=description)"
   ]
  },
  {
   "cell_type": "markdown",
   "metadata": {
    "heading_collapsed": true,
    "hidden": true
   },
   "source": [
    "### Inspect the results"
   ]
  },
  {
   "cell_type": "code",
   "execution_count": 23,
   "metadata": {
    "ExecuteTime": {
     "end_time": "2020-10-28T11:19:36.576109Z",
     "start_time": "2020-10-28T11:19:36.477865Z"
    },
    "hidden": true
   },
   "outputs": [
    {
     "ename": "ValueError",
     "evalue": "dimension 'draws' on 0th function argument to apply_ufunc with dask='parallelized' consists of multiple chunks, but is also a core dimension. To fix, rechunk into a single dask array chunk along this dimension, i.e., ``.chunk({'draws': -1})``, but beware that this may significantly increase memory usage.",
     "output_type": "error",
     "traceback": [
      "\u001b[1;31m---------------------------------------------------------------------------\u001b[0m",
      "\u001b[1;31mValueError\u001b[0m                                Traceback (most recent call last)",
      "\u001b[1;32m<ipython-input-23-62ec316aad2f>\u001b[0m in \u001b[0;36m<module>\u001b[1;34m\u001b[0m\n\u001b[0;32m      3\u001b[0m \u001b[1;33m\u001b[0m\u001b[0m\n\u001b[0;32m      4\u001b[0m \u001b[1;31m# This goes wrong! For that reason the creation of the figures goes wrong as well.\u001b[0m\u001b[1;33m\u001b[0m\u001b[1;33m\u001b[0m\u001b[1;33m\u001b[0m\u001b[0m\n\u001b[1;32m----> 5\u001b[1;33m \u001b[0mout_sanity_arr\u001b[0m\u001b[1;33m.\u001b[0m\u001b[0mquantile\u001b[0m\u001b[1;33m(\u001b[0m\u001b[1;36m0.5\u001b[0m\u001b[1;33m,\u001b[0m \u001b[0mdim\u001b[0m\u001b[1;33m=\u001b[0m\u001b[1;34m'draws'\u001b[0m\u001b[1;33m)\u001b[0m\u001b[1;33m\u001b[0m\u001b[1;33m\u001b[0m\u001b[0m\n\u001b[0m",
      "\u001b[1;32m~\\AppData\\Roaming\\Python\\Python37\\site-packages\\xarray\\core\\dataset.py\u001b[0m in \u001b[0;36mquantile\u001b[1;34m(self, q, dim, interpolation, numeric_only, keep_attrs, skipna)\u001b[0m\n\u001b[0;32m   5366\u001b[0m                             \u001b[0minterpolation\u001b[0m\u001b[1;33m=\u001b[0m\u001b[0minterpolation\u001b[0m\u001b[1;33m,\u001b[0m\u001b[1;33m\u001b[0m\u001b[1;33m\u001b[0m\u001b[0m\n\u001b[0;32m   5367\u001b[0m                             \u001b[0mkeep_attrs\u001b[0m\u001b[1;33m=\u001b[0m\u001b[0mkeep_attrs\u001b[0m\u001b[1;33m,\u001b[0m\u001b[1;33m\u001b[0m\u001b[1;33m\u001b[0m\u001b[0m\n\u001b[1;32m-> 5368\u001b[1;33m                             \u001b[0mskipna\u001b[0m\u001b[1;33m=\u001b[0m\u001b[0mskipna\u001b[0m\u001b[1;33m,\u001b[0m\u001b[1;33m\u001b[0m\u001b[1;33m\u001b[0m\u001b[0m\n\u001b[0m\u001b[0;32m   5369\u001b[0m                         )\n\u001b[0;32m   5370\u001b[0m \u001b[1;33m\u001b[0m\u001b[0m\n",
      "\u001b[1;32m~\\AppData\\Roaming\\Python\\Python37\\site-packages\\xarray\\core\\variable.py\u001b[0m in \u001b[0;36mquantile\u001b[1;34m(self, q, dim, interpolation, keep_attrs, skipna)\u001b[0m\n\u001b[0;32m   1813\u001b[0m             \u001b[0moutput_sizes\u001b[0m\u001b[1;33m=\u001b[0m\u001b[1;33m{\u001b[0m\u001b[1;34m\"quantile\"\u001b[0m\u001b[1;33m:\u001b[0m \u001b[0mlen\u001b[0m\u001b[1;33m(\u001b[0m\u001b[0mq\u001b[0m\u001b[1;33m)\u001b[0m\u001b[1;33m}\u001b[0m\u001b[1;33m,\u001b[0m\u001b[1;33m\u001b[0m\u001b[1;33m\u001b[0m\u001b[0m\n\u001b[0;32m   1814\u001b[0m             \u001b[0mdask\u001b[0m\u001b[1;33m=\u001b[0m\u001b[1;34m\"parallelized\"\u001b[0m\u001b[1;33m,\u001b[0m\u001b[1;33m\u001b[0m\u001b[1;33m\u001b[0m\u001b[0m\n\u001b[1;32m-> 1815\u001b[1;33m             \u001b[0mkwargs\u001b[0m\u001b[1;33m=\u001b[0m\u001b[1;33m{\u001b[0m\u001b[1;34m\"q\"\u001b[0m\u001b[1;33m:\u001b[0m \u001b[0mq\u001b[0m\u001b[1;33m,\u001b[0m \u001b[1;34m\"axis\"\u001b[0m\u001b[1;33m:\u001b[0m \u001b[0maxis\u001b[0m\u001b[1;33m,\u001b[0m \u001b[1;34m\"interpolation\"\u001b[0m\u001b[1;33m:\u001b[0m \u001b[0minterpolation\u001b[0m\u001b[1;33m}\u001b[0m\u001b[1;33m,\u001b[0m\u001b[1;33m\u001b[0m\u001b[1;33m\u001b[0m\u001b[0m\n\u001b[0m\u001b[0;32m   1816\u001b[0m         )\n\u001b[0;32m   1817\u001b[0m \u001b[1;33m\u001b[0m\u001b[0m\n",
      "\u001b[1;32m~\\AppData\\Roaming\\Python\\Python37\\site-packages\\xarray\\core\\computation.py\u001b[0m in \u001b[0;36mapply_ufunc\u001b[1;34m(func, input_core_dims, output_core_dims, exclude_dims, vectorize, join, dataset_join, dataset_fill_value, keep_attrs, kwargs, dask, output_dtypes, output_sizes, meta, *args)\u001b[0m\n\u001b[0;32m   1065\u001b[0m         )\n\u001b[0;32m   1066\u001b[0m     \u001b[1;32melif\u001b[0m \u001b[0many\u001b[0m\u001b[1;33m(\u001b[0m\u001b[0misinstance\u001b[0m\u001b[1;33m(\u001b[0m\u001b[0ma\u001b[0m\u001b[1;33m,\u001b[0m \u001b[0mVariable\u001b[0m\u001b[1;33m)\u001b[0m \u001b[1;32mfor\u001b[0m \u001b[0ma\u001b[0m \u001b[1;32min\u001b[0m \u001b[0margs\u001b[0m\u001b[1;33m)\u001b[0m\u001b[1;33m:\u001b[0m\u001b[1;33m\u001b[0m\u001b[1;33m\u001b[0m\u001b[0m\n\u001b[1;32m-> 1067\u001b[1;33m         \u001b[1;32mreturn\u001b[0m \u001b[0mvariables_vfunc\u001b[0m\u001b[1;33m(\u001b[0m\u001b[1;33m*\u001b[0m\u001b[0margs\u001b[0m\u001b[1;33m)\u001b[0m\u001b[1;33m\u001b[0m\u001b[1;33m\u001b[0m\u001b[0m\n\u001b[0m\u001b[0;32m   1068\u001b[0m     \u001b[1;32melse\u001b[0m\u001b[1;33m:\u001b[0m\u001b[1;33m\u001b[0m\u001b[1;33m\u001b[0m\u001b[0m\n\u001b[0;32m   1069\u001b[0m         \u001b[1;32mreturn\u001b[0m \u001b[0mapply_array_ufunc\u001b[0m\u001b[1;33m(\u001b[0m\u001b[0mfunc\u001b[0m\u001b[1;33m,\u001b[0m \u001b[1;33m*\u001b[0m\u001b[0margs\u001b[0m\u001b[1;33m,\u001b[0m \u001b[0mdask\u001b[0m\u001b[1;33m=\u001b[0m\u001b[0mdask\u001b[0m\u001b[1;33m)\u001b[0m\u001b[1;33m\u001b[0m\u001b[1;33m\u001b[0m\u001b[0m\n",
      "\u001b[1;32m~\\AppData\\Roaming\\Python\\Python37\\site-packages\\xarray\\core\\computation.py\u001b[0m in \u001b[0;36mapply_variable_ufunc\u001b[1;34m(func, signature, exclude_dims, dask, output_dtypes, output_sizes, keep_attrs, meta, *args)\u001b[0m\n\u001b[0;32m    602\u001b[0m                 \u001b[1;34m\"apply_ufunc: {}\"\u001b[0m\u001b[1;33m.\u001b[0m\u001b[0mformat\u001b[0m\u001b[1;33m(\u001b[0m\u001b[0mdask\u001b[0m\u001b[1;33m)\u001b[0m\u001b[1;33m\u001b[0m\u001b[1;33m\u001b[0m\u001b[0m\n\u001b[0;32m    603\u001b[0m             )\n\u001b[1;32m--> 604\u001b[1;33m     \u001b[0mresult_data\u001b[0m \u001b[1;33m=\u001b[0m \u001b[0mfunc\u001b[0m\u001b[1;33m(\u001b[0m\u001b[1;33m*\u001b[0m\u001b[0minput_data\u001b[0m\u001b[1;33m)\u001b[0m\u001b[1;33m\u001b[0m\u001b[1;33m\u001b[0m\u001b[0m\n\u001b[0m\u001b[0;32m    605\u001b[0m \u001b[1;33m\u001b[0m\u001b[0m\n\u001b[0;32m    606\u001b[0m     \u001b[1;32mif\u001b[0m \u001b[0msignature\u001b[0m\u001b[1;33m.\u001b[0m\u001b[0mnum_outputs\u001b[0m \u001b[1;33m==\u001b[0m \u001b[1;36m1\u001b[0m\u001b[1;33m:\u001b[0m\u001b[1;33m\u001b[0m\u001b[1;33m\u001b[0m\u001b[0m\n",
      "\u001b[1;32m~\\AppData\\Roaming\\Python\\Python37\\site-packages\\xarray\\core\\computation.py\u001b[0m in \u001b[0;36mfunc\u001b[1;34m(*arrays)\u001b[0m\n\u001b[0;32m    592\u001b[0m                     \u001b[0moutput_dtypes\u001b[0m\u001b[1;33m,\u001b[0m\u001b[1;33m\u001b[0m\u001b[1;33m\u001b[0m\u001b[0m\n\u001b[0;32m    593\u001b[0m                     \u001b[0moutput_sizes\u001b[0m\u001b[1;33m,\u001b[0m\u001b[1;33m\u001b[0m\u001b[1;33m\u001b[0m\u001b[0m\n\u001b[1;32m--> 594\u001b[1;33m                     \u001b[0mmeta\u001b[0m\u001b[1;33m,\u001b[0m\u001b[1;33m\u001b[0m\u001b[1;33m\u001b[0m\u001b[0m\n\u001b[0m\u001b[0;32m    595\u001b[0m                 )\n\u001b[0;32m    596\u001b[0m \u001b[1;33m\u001b[0m\u001b[0m\n",
      "\u001b[1;32m~\\AppData\\Roaming\\Python\\Python37\\site-packages\\xarray\\core\\computation.py\u001b[0m in \u001b[0;36m_apply_blockwise\u001b[1;34m(func, args, input_dims, output_dims, signature, output_dtypes, output_sizes, meta)\u001b[0m\n\u001b[0;32m    710\u001b[0m                         \u001b[1;34m\"this dimension, i.e., ``.chunk({})``, but beware \"\u001b[0m\u001b[1;33m\u001b[0m\u001b[1;33m\u001b[0m\u001b[0m\n\u001b[0;32m    711\u001b[0m                         \"that this may significantly increase memory usage.\".format(\n\u001b[1;32m--> 712\u001b[1;33m                             \u001b[0mdim\u001b[0m\u001b[1;33m,\u001b[0m \u001b[0mn\u001b[0m\u001b[1;33m,\u001b[0m \u001b[1;33m{\u001b[0m\u001b[0mdim\u001b[0m\u001b[1;33m:\u001b[0m \u001b[1;33m-\u001b[0m\u001b[1;36m1\u001b[0m\u001b[1;33m}\u001b[0m\u001b[1;33m\u001b[0m\u001b[1;33m\u001b[0m\u001b[0m\n\u001b[0m\u001b[0;32m    713\u001b[0m                         )\n\u001b[0;32m    714\u001b[0m                     )\n",
      "\u001b[1;31mValueError\u001b[0m: dimension 'draws' on 0th function argument to apply_ufunc with dask='parallelized' consists of multiple chunks, but is also a core dimension. To fix, rechunk into a single dask array chunk along this dimension, i.e., ``.chunk({'draws': -1})``, but beware that this may significantly increase memory usage."
     ]
    }
   ],
   "source": [
    "# Load the simulation data\n",
    "out_sanity_arr = open_sim(zarr, group, verbose=False)\n",
    "\n",
    "# This goes wrong! For that reason the creation of the figures goes wrong as well.\n",
    "out_sanity_arr.quantile(0.5, dim='draws')"
   ]
  },
  {
   "cell_type": "code",
   "execution_count": 24,
   "metadata": {
    "ExecuteTime": {
     "end_time": "2020-10-28T11:19:56.323063Z",
     "start_time": "2020-10-28T11:19:56.261702Z"
    },
    "hidden": true
   },
   "outputs": [],
   "source": [
    "# Show map of a snapshot and the graphs of the major urban hubs (Antwerp, Brussels, Ghent)\n",
    "day = 60\n",
    "ts_geo = 'E'\n",
    "ts_graph = ['E', 'ICU', 'D']\n",
    "nis = [11000, 21000, 44000]\n",
    "geomap, graphs = show_map(out_sanity_arr, arrondissements, ts_geo=ts_geo, day=day, ts_graph=ts_graph)"
   ]
  },
  {
   "cell_type": "code",
   "execution_count": 26,
   "metadata": {
    "ExecuteTime": {
     "end_time": "2020-10-28T11:20:52.286932Z",
     "start_time": "2020-10-28T11:20:52.231077Z"
    },
    "hidden": true
   },
   "outputs": [],
   "source": [
    "figname = \"sanity_arr_50sim_E-Hin-ICU-D.jpg\"\n",
    "graphs = show_graphs(out_sanity_arr, ylim=[30000, 200, 400, 500])#, figname=figname)"
   ]
  },
  {
   "cell_type": "markdown",
   "metadata": {
    "heading_collapsed": true
   },
   "source": [
    "## Spatial model on province level"
   ]
  },
  {
   "cell_type": "markdown",
   "metadata": {
    "heading_collapsed": true,
    "hidden": true
   },
   "source": [
    "### Prepare the simulation"
   ]
  },
  {
   "cell_type": "code",
   "execution_count": 33,
   "metadata": {
    "ExecuteTime": {
     "end_time": "2020-10-28T11:30:10.365509Z",
     "start_time": "2020-10-28T11:30:10.095922Z"
    },
    "hidden": true
   },
   "outputs": [],
   "source": [
    "# Name of the zarr gropu in which this particular simulation is or will be saved\n",
    "group = \"prov_4E-per-prov\"\n",
    "\n",
    "# Load parameters and interaction matrices\n",
    "age_str = True\n",
    "spatial_str = 'prov'\n",
    "intensity='all'\n",
    "params = model_parameters.get_COVID19_SEIRD_parameters(age_stratified=age_str, spatial=spatial_str)\n",
    "initN, Nc_home, Nc_work, Nc_schools, Nc_transport, Nc_leisure, Nc_others, Nc_total = model_parameters.get_interaction_matrices(intensity=intensity, spatial=spatial_str)\n",
    "\n",
    "# Add social policy parameter values\n",
    "params.update({'l': l,\n",
    "              'tau': tau,\n",
    "              'policy_time' : policy_time})"
   ]
  },
  {
   "cell_type": "code",
   "execution_count": 34,
   "metadata": {
    "ExecuteTime": {
     "end_time": "2020-10-28T11:30:11.131592Z",
     "start_time": "2020-10-28T11:30:11.061779Z"
    },
    "hidden": true
   },
   "outputs": [],
   "source": [
    "# Define initial conditions\n",
    "\n",
    "# Every province gets four 35-year-old exposed individuals\n",
    "exposed = np.zeros(initN.shape)\n",
    "for prov in exposed:\n",
    "    prov[3] = 4\n",
    "init_states = dict({'S' : initN, 'E' : exposed})\n",
    "\n",
    "# The type of policy change: contact is reduce from everything to home contact (within the arrondissement) only\n",
    "policy1 = Nc_total\n",
    "policy2 = Nc_home\n",
    "params.update({'policy1' : policy1,\n",
    "               'policy2' : policy2})"
   ]
  },
  {
   "cell_type": "code",
   "execution_count": 35,
   "metadata": {
    "ExecuteTime": {
     "end_time": "2020-10-28T11:30:11.935848Z",
     "start_time": "2020-10-28T11:30:11.877698Z"
    },
    "hidden": true
   },
   "outputs": [],
   "source": [
    "# Load the model\n",
    "model = models.COVID19_SEIRD_sto_spatial(init_states, params, time_dependent_parameters={'Nc' : social_policy_func},\n",
    "                                     discrete=True)"
   ]
  },
  {
   "cell_type": "markdown",
   "metadata": {
    "heading_collapsed": true,
    "hidden": true
   },
   "source": [
    "### Run and save the simulations - WARNING: computationally expensive (only do once)"
   ]
  },
  {
   "cell_type": "code",
   "execution_count": 36,
   "metadata": {
    "ExecuteTime": {
     "end_time": "2020-10-28T11:35:15.520147Z",
     "start_time": "2020-10-28T11:30:43.035841Z"
    },
    "hidden": true
   },
   "outputs": [
    {
     "name": "stdout",
     "output_type": "stream",
     "text": [
      "Simulating draw 0/99\n",
      "Simulating draw 1/99\n",
      "Simulating draw 2/99\n",
      "Simulating draw 3/99\n",
      "Simulating draw 4/99\n",
      "Simulating draw 5/99\n",
      "Simulating draw 6/99\n",
      "Simulating draw 7/99\n",
      "Simulating draw 8/99\n",
      "Simulating draw 9/99\n",
      "Simulating draw 10/99\n",
      "Simulating draw 11/99\n",
      "Simulating draw 12/99\n",
      "Simulating draw 13/99\n",
      "Simulating draw 14/99\n",
      "Simulating draw 15/99\n",
      "Simulating draw 16/99\n",
      "Simulating draw 17/99\n",
      "Simulating draw 18/99\n",
      "Simulating draw 19/99\n",
      "Simulating draw 20/99\n",
      "Simulating draw 21/99\n",
      "Simulating draw 22/99\n",
      "Simulating draw 23/99\n",
      "Simulating draw 24/99\n",
      "Simulating draw 25/99\n",
      "Simulating draw 26/99\n",
      "Simulating draw 27/99\n",
      "Simulating draw 28/99\n",
      "Simulating draw 29/99\n",
      "Simulating draw 30/99\n",
      "Simulating draw 31/99\n",
      "Simulating draw 32/99\n",
      "Simulating draw 33/99\n",
      "Simulating draw 34/99\n",
      "Simulating draw 35/99\n",
      "Simulating draw 36/99\n",
      "Simulating draw 37/99\n",
      "Simulating draw 38/99\n",
      "Simulating draw 39/99\n",
      "Simulating draw 40/99\n",
      "Simulating draw 41/99\n",
      "Simulating draw 42/99\n",
      "Simulating draw 43/99\n",
      "Simulating draw 44/99\n",
      "Simulating draw 45/99\n",
      "Simulating draw 46/99\n",
      "Simulating draw 47/99\n",
      "Simulating draw 48/99\n",
      "Simulating draw 49/99\n",
      "Simulating draw 50/99\n",
      "Simulating draw 51/99\n",
      "Simulating draw 52/99\n",
      "Simulating draw 53/99\n",
      "Simulating draw 54/99\n",
      "Simulating draw 55/99\n",
      "Simulating draw 56/99\n",
      "Simulating draw 57/99\n",
      "Simulating draw 58/99\n",
      "Simulating draw 59/99\n",
      "Simulating draw 60/99\n",
      "Simulating draw 61/99\n",
      "Simulating draw 62/99\n",
      "Simulating draw 63/99\n",
      "Simulating draw 64/99\n",
      "Simulating draw 65/99\n",
      "Simulating draw 66/99\n",
      "Simulating draw 67/99\n",
      "Simulating draw 68/99\n",
      "Simulating draw 69/99\n",
      "Simulating draw 70/99\n",
      "Simulating draw 71/99\n",
      "Simulating draw 72/99\n",
      "Simulating draw 73/99\n",
      "Simulating draw 74/99\n",
      "Simulating draw 75/99\n",
      "Simulating draw 76/99\n",
      "Simulating draw 77/99\n",
      "Simulating draw 78/99\n",
      "Simulating draw 79/99\n",
      "Simulating draw 80/99\n",
      "Simulating draw 81/99\n",
      "Simulating draw 82/99\n",
      "Simulating draw 83/99\n",
      "Simulating draw 84/99\n",
      "Simulating draw 85/99\n",
      "Simulating draw 86/99\n",
      "Simulating draw 87/99\n",
      "Simulating draw 88/99\n",
      "Simulating draw 89/99\n",
      "Simulating draw 90/99\n",
      "Simulating draw 91/99\n",
      "Simulating draw 92/99\n",
      "Simulating draw 93/99\n",
      "Simulating draw 94/99\n",
      "Simulating draw 95/99\n",
      "Simulating draw 96/99\n",
      "Simulating draw 97/99\n",
      "Simulating draw 98/99\n",
      "Simulating draw 99/99\n",
      "Added simulation output to zarr directory '../data/simulated//Sanity-check_100sims_100days_Nctot-to-Nchome-day40.zarr under the group 'prov_4E-per-prov'\n",
      "Description:\n",
      "------------\n",
      "'Stochastic spatial SEIRD extended model with 100 parallel simulations in 10+1 provinces over 100 days. At day 0 four exposed people in the age class 30-40 are released in each of the provinces + Brussels-Capital. At day 40 measures are imposed, bringing down the contact rate from Nc_total to Nc_home. Over the course of 5 + 5 days (tau and l parameters) compliance reaches full effect.'\n"
     ]
    }
   ],
   "source": [
    "# Group name and output description\n",
    "description = f\"Stochastic spatial SEIRD extended model with {sim_number} \"\\\n",
    "                    f\"parallel simulations in 10+1 provinces over {days_number} days. \"\\\n",
    "                    f\"At day 0 four exposed people in the age class 30-40 are released in \"\\\n",
    "                    f\"each of the provinces + Brussels-Capital. At day {policy_time} measures are imposed, \"\\\n",
    "                    f\"bringing down the contact rate from Nc_total to Nc_home. Over the course of \"\\\n",
    "                    f\"{tau} + {l} days (tau and l parameters) compliance reaches full effect.\"\n",
    "\n",
    "# Perform simulation (commented out for safety)\n",
    "# WARNING! First check if there isn't already data available for this simulation!\n",
    "# out_sanity_prov = model.sim(days_number, N=sim_number, verbose=True)\n",
    "\n",
    "# Save simulation results\n",
    "# save_sim(out_sanity_prov, zarr, group, descr=description)"
   ]
  },
  {
   "cell_type": "markdown",
   "metadata": {
    "heading_collapsed": true,
    "hidden": true
   },
   "source": [
    "### Inspect the results"
   ]
  },
  {
   "cell_type": "code",
   "execution_count": 37,
   "metadata": {
    "ExecuteTime": {
     "end_time": "2020-10-28T11:36:11.424665Z",
     "start_time": "2020-10-28T11:36:11.309030Z"
    },
    "hidden": true
   },
   "outputs": [
    {
     "name": "stdout",
     "output_type": "stream",
     "text": [
      "Opened simulation output that is saved in ../data/simulated//Sanity-check_100sims_100days_Nctot-to-Nchome-day40.zarr/prov_4E-per-prov\n",
      "\n",
      "Dimensions:\n",
      "-----------\n",
      "Nc: 9\n",
      "draws: 100\n",
      "place: 11\n",
      "time: 101\n",
      "\n",
      "Description\n",
      "-----------\n",
      "'Stochastic spatial SEIRD extended model with 100 parallel simulations in 10+1 provinces over 100 days. At day 0 four exposed people in the age class 30-40 are released in each of the provinces + Brussels-Capital. At day 40 measures are imposed, bringing down the contact rate from Nc_total to Nc_home. Over the course of 5 + 5 days (tau and l parameters) compliance reaches full effect.'\n"
     ]
    }
   ],
   "source": [
    "# Load the simulation data\n",
    "out_sanity_prov = open_sim(zarr, group)"
   ]
  },
  {
   "cell_type": "code",
   "execution_count": 38,
   "metadata": {
    "ExecuteTime": {
     "end_time": "2020-10-28T11:36:21.115912Z",
     "start_time": "2020-10-28T11:36:21.044938Z"
    },
    "hidden": true
   },
   "outputs": [
    {
     "ename": "ValueError",
     "evalue": "dimension 'draws' on 0th function argument to apply_ufunc with dask='parallelized' consists of multiple chunks, but is also a core dimension. To fix, rechunk into a single dask array chunk along this dimension, i.e., ``.chunk({'draws': -1})``, but beware that this may significantly increase memory usage.",
     "output_type": "error",
     "traceback": [
      "\u001b[1;31m---------------------------------------------------------------------------\u001b[0m",
      "\u001b[1;31mValueError\u001b[0m                                Traceback (most recent call last)",
      "\u001b[1;32m<ipython-input-38-2c7d661186fb>\u001b[0m in \u001b[0;36m<module>\u001b[1;34m\u001b[0m\n\u001b[0;32m      4\u001b[0m \u001b[0mts_graph\u001b[0m \u001b[1;33m=\u001b[0m \u001b[1;33m[\u001b[0m\u001b[1;34m'E'\u001b[0m\u001b[1;33m,\u001b[0m \u001b[1;34m'ICU'\u001b[0m\u001b[1;33m,\u001b[0m \u001b[1;34m'D'\u001b[0m\u001b[1;33m]\u001b[0m\u001b[1;33m\u001b[0m\u001b[1;33m\u001b[0m\u001b[0m\n\u001b[0;32m      5\u001b[0m \u001b[0mnis\u001b[0m \u001b[1;33m=\u001b[0m \u001b[1;33m[\u001b[0m\u001b[1;36m10000\u001b[0m\u001b[1;33m,\u001b[0m \u001b[1;36m21000\u001b[0m\u001b[1;33m,\u001b[0m \u001b[1;36m40000\u001b[0m\u001b[1;33m]\u001b[0m\u001b[1;33m\u001b[0m\u001b[1;33m\u001b[0m\u001b[0m\n\u001b[1;32m----> 6\u001b[1;33m \u001b[0mgeomap\u001b[0m\u001b[1;33m,\u001b[0m \u001b[0mgraphs\u001b[0m \u001b[1;33m=\u001b[0m \u001b[0mshow_map\u001b[0m\u001b[1;33m(\u001b[0m\u001b[0mout_sanity_prov\u001b[0m\u001b[1;33m,\u001b[0m \u001b[0mprovinces\u001b[0m\u001b[1;33m,\u001b[0m \u001b[0mts_geo\u001b[0m\u001b[1;33m=\u001b[0m\u001b[0mts_geo\u001b[0m\u001b[1;33m,\u001b[0m \u001b[0mday\u001b[0m\u001b[1;33m=\u001b[0m\u001b[0mday\u001b[0m\u001b[1;33m,\u001b[0m \u001b[0mts_graph\u001b[0m\u001b[1;33m=\u001b[0m\u001b[0mts_graph\u001b[0m\u001b[1;33m)\u001b[0m\u001b[1;33m\u001b[0m\u001b[1;33m\u001b[0m\u001b[0m\n\u001b[0m",
      "\u001b[1;32mc:\\users\\mrollier\\documents\\github\\covid19-model\\src\\covid19model\\visualization\\output.py\u001b[0m in \u001b[0;36mshow_map\u001b[1;34m(data, geo, ts_geo, day, lin, rel, cmap, nis, ts_graph, figname, dpi, verbose)\u001b[0m\n\u001b[0;32m    287\u001b[0m                         \u001b[0mvmax_graph\u001b[0m\u001b[1;33m[\u001b[0m\u001b[0mts\u001b[0m\u001b[1;33m]\u001b[0m \u001b[1;33m=\u001b[0m \u001b[0mvmax_temp\u001b[0m\u001b[1;33m\u001b[0m\u001b[1;33m\u001b[0m\u001b[0m\n\u001b[0;32m    288\u001b[0m             \u001b[1;32melse\u001b[0m\u001b[1;33m:\u001b[0m \u001b[1;31m# Take highest value of the sum of all places (works only for absolute numbers right now!\u001b[0m\u001b[1;33m\u001b[0m\u001b[1;33m\u001b[0m\u001b[0m\n\u001b[1;32m--> 289\u001b[1;33m                 \u001b[0mvmax_graph\u001b[0m\u001b[1;33m[\u001b[0m\u001b[0mts\u001b[0m\u001b[1;33m]\u001b[0m \u001b[1;33m=\u001b[0m \u001b[0mdata\u001b[0m\u001b[1;33m[\u001b[0m\u001b[0mts\u001b[0m\u001b[1;33m]\u001b[0m\u001b[1;33m.\u001b[0m\u001b[0msum\u001b[0m\u001b[1;33m(\u001b[0m\u001b[0mdim\u001b[0m\u001b[1;33m=\u001b[0m\u001b[1;34m'Nc'\u001b[0m\u001b[1;33m)\u001b[0m\u001b[1;33m.\u001b[0m\u001b[0msum\u001b[0m\u001b[1;33m(\u001b[0m\u001b[0mdim\u001b[0m\u001b[1;33m=\u001b[0m\u001b[1;34m'place'\u001b[0m\u001b[1;33m)\u001b[0m\u001b[1;33m.\u001b[0m\u001b[0mquantile\u001b[0m\u001b[1;33m(\u001b[0m\u001b[1;36m0.5\u001b[0m\u001b[1;33m,\u001b[0m \u001b[0mdim\u001b[0m\u001b[1;33m=\u001b[0m\u001b[1;34m'draws'\u001b[0m\u001b[1;33m)\u001b[0m\u001b[1;33m.\u001b[0m\u001b[0mvalues\u001b[0m\u001b[1;33m.\u001b[0m\u001b[0mmax\u001b[0m\u001b[1;33m(\u001b[0m\u001b[1;33m)\u001b[0m\u001b[1;33m\u001b[0m\u001b[1;33m\u001b[0m\u001b[0m\n\u001b[0m\u001b[0;32m    290\u001b[0m             \u001b[1;32mif\u001b[0m \u001b[0mverbose\u001b[0m\u001b[1;33m:\u001b[0m\u001b[1;33m\u001b[0m\u001b[1;33m\u001b[0m\u001b[0m\n\u001b[0;32m    291\u001b[0m                 \u001b[0mprint\u001b[0m\u001b[1;33m(\u001b[0m\u001b[1;34mf\"Maximum value of median draw for timeseries of compartment {ts} (vmax_graph[{ts}]) set to {vmax_graph[ts]}.\"\u001b[0m\u001b[1;33m)\u001b[0m\u001b[1;33m\u001b[0m\u001b[1;33m\u001b[0m\u001b[0m\n",
      "\u001b[1;32m~\\AppData\\Roaming\\Python\\Python37\\site-packages\\xarray\\core\\dataarray.py\u001b[0m in \u001b[0;36mquantile\u001b[1;34m(self, q, dim, interpolation, keep_attrs, skipna)\u001b[0m\n\u001b[0;32m   3115\u001b[0m             \u001b[0mkeep_attrs\u001b[0m\u001b[1;33m=\u001b[0m\u001b[0mkeep_attrs\u001b[0m\u001b[1;33m,\u001b[0m\u001b[1;33m\u001b[0m\u001b[1;33m\u001b[0m\u001b[0m\n\u001b[0;32m   3116\u001b[0m             \u001b[0minterpolation\u001b[0m\u001b[1;33m=\u001b[0m\u001b[0minterpolation\u001b[0m\u001b[1;33m,\u001b[0m\u001b[1;33m\u001b[0m\u001b[1;33m\u001b[0m\u001b[0m\n\u001b[1;32m-> 3117\u001b[1;33m             \u001b[0mskipna\u001b[0m\u001b[1;33m=\u001b[0m\u001b[0mskipna\u001b[0m\u001b[1;33m,\u001b[0m\u001b[1;33m\u001b[0m\u001b[1;33m\u001b[0m\u001b[0m\n\u001b[0m\u001b[0;32m   3118\u001b[0m         )\n\u001b[0;32m   3119\u001b[0m         \u001b[1;32mreturn\u001b[0m \u001b[0mself\u001b[0m\u001b[1;33m.\u001b[0m\u001b[0m_from_temp_dataset\u001b[0m\u001b[1;33m(\u001b[0m\u001b[0mds\u001b[0m\u001b[1;33m)\u001b[0m\u001b[1;33m\u001b[0m\u001b[1;33m\u001b[0m\u001b[0m\n",
      "\u001b[1;32m~\\AppData\\Roaming\\Python\\Python37\\site-packages\\xarray\\core\\dataset.py\u001b[0m in \u001b[0;36mquantile\u001b[1;34m(self, q, dim, interpolation, numeric_only, keep_attrs, skipna)\u001b[0m\n\u001b[0;32m   5366\u001b[0m                             \u001b[0minterpolation\u001b[0m\u001b[1;33m=\u001b[0m\u001b[0minterpolation\u001b[0m\u001b[1;33m,\u001b[0m\u001b[1;33m\u001b[0m\u001b[1;33m\u001b[0m\u001b[0m\n\u001b[0;32m   5367\u001b[0m                             \u001b[0mkeep_attrs\u001b[0m\u001b[1;33m=\u001b[0m\u001b[0mkeep_attrs\u001b[0m\u001b[1;33m,\u001b[0m\u001b[1;33m\u001b[0m\u001b[1;33m\u001b[0m\u001b[0m\n\u001b[1;32m-> 5368\u001b[1;33m                             \u001b[0mskipna\u001b[0m\u001b[1;33m=\u001b[0m\u001b[0mskipna\u001b[0m\u001b[1;33m,\u001b[0m\u001b[1;33m\u001b[0m\u001b[1;33m\u001b[0m\u001b[0m\n\u001b[0m\u001b[0;32m   5369\u001b[0m                         )\n\u001b[0;32m   5370\u001b[0m \u001b[1;33m\u001b[0m\u001b[0m\n",
      "\u001b[1;32m~\\AppData\\Roaming\\Python\\Python37\\site-packages\\xarray\\core\\variable.py\u001b[0m in \u001b[0;36mquantile\u001b[1;34m(self, q, dim, interpolation, keep_attrs, skipna)\u001b[0m\n\u001b[0;32m   1813\u001b[0m             \u001b[0moutput_sizes\u001b[0m\u001b[1;33m=\u001b[0m\u001b[1;33m{\u001b[0m\u001b[1;34m\"quantile\"\u001b[0m\u001b[1;33m:\u001b[0m \u001b[0mlen\u001b[0m\u001b[1;33m(\u001b[0m\u001b[0mq\u001b[0m\u001b[1;33m)\u001b[0m\u001b[1;33m}\u001b[0m\u001b[1;33m,\u001b[0m\u001b[1;33m\u001b[0m\u001b[1;33m\u001b[0m\u001b[0m\n\u001b[0;32m   1814\u001b[0m             \u001b[0mdask\u001b[0m\u001b[1;33m=\u001b[0m\u001b[1;34m\"parallelized\"\u001b[0m\u001b[1;33m,\u001b[0m\u001b[1;33m\u001b[0m\u001b[1;33m\u001b[0m\u001b[0m\n\u001b[1;32m-> 1815\u001b[1;33m             \u001b[0mkwargs\u001b[0m\u001b[1;33m=\u001b[0m\u001b[1;33m{\u001b[0m\u001b[1;34m\"q\"\u001b[0m\u001b[1;33m:\u001b[0m \u001b[0mq\u001b[0m\u001b[1;33m,\u001b[0m \u001b[1;34m\"axis\"\u001b[0m\u001b[1;33m:\u001b[0m \u001b[0maxis\u001b[0m\u001b[1;33m,\u001b[0m \u001b[1;34m\"interpolation\"\u001b[0m\u001b[1;33m:\u001b[0m \u001b[0minterpolation\u001b[0m\u001b[1;33m}\u001b[0m\u001b[1;33m,\u001b[0m\u001b[1;33m\u001b[0m\u001b[1;33m\u001b[0m\u001b[0m\n\u001b[0m\u001b[0;32m   1816\u001b[0m         )\n\u001b[0;32m   1817\u001b[0m \u001b[1;33m\u001b[0m\u001b[0m\n",
      "\u001b[1;32m~\\AppData\\Roaming\\Python\\Python37\\site-packages\\xarray\\core\\computation.py\u001b[0m in \u001b[0;36mapply_ufunc\u001b[1;34m(func, input_core_dims, output_core_dims, exclude_dims, vectorize, join, dataset_join, dataset_fill_value, keep_attrs, kwargs, dask, output_dtypes, output_sizes, meta, *args)\u001b[0m\n\u001b[0;32m   1065\u001b[0m         )\n\u001b[0;32m   1066\u001b[0m     \u001b[1;32melif\u001b[0m \u001b[0many\u001b[0m\u001b[1;33m(\u001b[0m\u001b[0misinstance\u001b[0m\u001b[1;33m(\u001b[0m\u001b[0ma\u001b[0m\u001b[1;33m,\u001b[0m \u001b[0mVariable\u001b[0m\u001b[1;33m)\u001b[0m \u001b[1;32mfor\u001b[0m \u001b[0ma\u001b[0m \u001b[1;32min\u001b[0m \u001b[0margs\u001b[0m\u001b[1;33m)\u001b[0m\u001b[1;33m:\u001b[0m\u001b[1;33m\u001b[0m\u001b[1;33m\u001b[0m\u001b[0m\n\u001b[1;32m-> 1067\u001b[1;33m         \u001b[1;32mreturn\u001b[0m \u001b[0mvariables_vfunc\u001b[0m\u001b[1;33m(\u001b[0m\u001b[1;33m*\u001b[0m\u001b[0margs\u001b[0m\u001b[1;33m)\u001b[0m\u001b[1;33m\u001b[0m\u001b[1;33m\u001b[0m\u001b[0m\n\u001b[0m\u001b[0;32m   1068\u001b[0m     \u001b[1;32melse\u001b[0m\u001b[1;33m:\u001b[0m\u001b[1;33m\u001b[0m\u001b[1;33m\u001b[0m\u001b[0m\n\u001b[0;32m   1069\u001b[0m         \u001b[1;32mreturn\u001b[0m \u001b[0mapply_array_ufunc\u001b[0m\u001b[1;33m(\u001b[0m\u001b[0mfunc\u001b[0m\u001b[1;33m,\u001b[0m \u001b[1;33m*\u001b[0m\u001b[0margs\u001b[0m\u001b[1;33m,\u001b[0m \u001b[0mdask\u001b[0m\u001b[1;33m=\u001b[0m\u001b[0mdask\u001b[0m\u001b[1;33m)\u001b[0m\u001b[1;33m\u001b[0m\u001b[1;33m\u001b[0m\u001b[0m\n",
      "\u001b[1;32m~\\AppData\\Roaming\\Python\\Python37\\site-packages\\xarray\\core\\computation.py\u001b[0m in \u001b[0;36mapply_variable_ufunc\u001b[1;34m(func, signature, exclude_dims, dask, output_dtypes, output_sizes, keep_attrs, meta, *args)\u001b[0m\n\u001b[0;32m    602\u001b[0m                 \u001b[1;34m\"apply_ufunc: {}\"\u001b[0m\u001b[1;33m.\u001b[0m\u001b[0mformat\u001b[0m\u001b[1;33m(\u001b[0m\u001b[0mdask\u001b[0m\u001b[1;33m)\u001b[0m\u001b[1;33m\u001b[0m\u001b[1;33m\u001b[0m\u001b[0m\n\u001b[0;32m    603\u001b[0m             )\n\u001b[1;32m--> 604\u001b[1;33m     \u001b[0mresult_data\u001b[0m \u001b[1;33m=\u001b[0m \u001b[0mfunc\u001b[0m\u001b[1;33m(\u001b[0m\u001b[1;33m*\u001b[0m\u001b[0minput_data\u001b[0m\u001b[1;33m)\u001b[0m\u001b[1;33m\u001b[0m\u001b[1;33m\u001b[0m\u001b[0m\n\u001b[0m\u001b[0;32m    605\u001b[0m \u001b[1;33m\u001b[0m\u001b[0m\n\u001b[0;32m    606\u001b[0m     \u001b[1;32mif\u001b[0m \u001b[0msignature\u001b[0m\u001b[1;33m.\u001b[0m\u001b[0mnum_outputs\u001b[0m \u001b[1;33m==\u001b[0m \u001b[1;36m1\u001b[0m\u001b[1;33m:\u001b[0m\u001b[1;33m\u001b[0m\u001b[1;33m\u001b[0m\u001b[0m\n",
      "\u001b[1;32m~\\AppData\\Roaming\\Python\\Python37\\site-packages\\xarray\\core\\computation.py\u001b[0m in \u001b[0;36mfunc\u001b[1;34m(*arrays)\u001b[0m\n\u001b[0;32m    592\u001b[0m                     \u001b[0moutput_dtypes\u001b[0m\u001b[1;33m,\u001b[0m\u001b[1;33m\u001b[0m\u001b[1;33m\u001b[0m\u001b[0m\n\u001b[0;32m    593\u001b[0m                     \u001b[0moutput_sizes\u001b[0m\u001b[1;33m,\u001b[0m\u001b[1;33m\u001b[0m\u001b[1;33m\u001b[0m\u001b[0m\n\u001b[1;32m--> 594\u001b[1;33m                     \u001b[0mmeta\u001b[0m\u001b[1;33m,\u001b[0m\u001b[1;33m\u001b[0m\u001b[1;33m\u001b[0m\u001b[0m\n\u001b[0m\u001b[0;32m    595\u001b[0m                 )\n\u001b[0;32m    596\u001b[0m \u001b[1;33m\u001b[0m\u001b[0m\n",
      "\u001b[1;32m~\\AppData\\Roaming\\Python\\Python37\\site-packages\\xarray\\core\\computation.py\u001b[0m in \u001b[0;36m_apply_blockwise\u001b[1;34m(func, args, input_dims, output_dims, signature, output_dtypes, output_sizes, meta)\u001b[0m\n\u001b[0;32m    710\u001b[0m                         \u001b[1;34m\"this dimension, i.e., ``.chunk({})``, but beware \"\u001b[0m\u001b[1;33m\u001b[0m\u001b[1;33m\u001b[0m\u001b[0m\n\u001b[0;32m    711\u001b[0m                         \"that this may significantly increase memory usage.\".format(\n\u001b[1;32m--> 712\u001b[1;33m                             \u001b[0mdim\u001b[0m\u001b[1;33m,\u001b[0m \u001b[0mn\u001b[0m\u001b[1;33m,\u001b[0m \u001b[1;33m{\u001b[0m\u001b[0mdim\u001b[0m\u001b[1;33m:\u001b[0m \u001b[1;33m-\u001b[0m\u001b[1;36m1\u001b[0m\u001b[1;33m}\u001b[0m\u001b[1;33m\u001b[0m\u001b[1;33m\u001b[0m\u001b[0m\n\u001b[0m\u001b[0;32m    713\u001b[0m                         )\n\u001b[0;32m    714\u001b[0m                     )\n",
      "\u001b[1;31mValueError\u001b[0m: dimension 'draws' on 0th function argument to apply_ufunc with dask='parallelized' consists of multiple chunks, but is also a core dimension. To fix, rechunk into a single dask array chunk along this dimension, i.e., ``.chunk({'draws': -1})``, but beware that this may significantly increase memory usage."
     ]
    }
   ],
   "source": [
    "# Show map of a snapshot and the graphs of the major urban hubs (Antwerp, Brussels, Ghent)\n",
    "day = 60\n",
    "ts_geo = 'E'\n",
    "ts_graph = ['E', 'ICU', 'D']\n",
    "nis = [10000, 21000, 40000]\n",
    "geomap, graphs = show_map(out_sanity_prov, provinces, ts_geo=ts_geo, day=day, ts_graph=ts_graph)"
   ]
  },
  {
   "cell_type": "code",
   "execution_count": 37,
   "metadata": {
    "ExecuteTime": {
     "end_time": "2020-10-23T17:38:16.842164Z",
     "start_time": "2020-10-23T17:38:16.105215Z"
    },
    "hidden": true
   },
   "outputs": [
    {
     "name": "stdout",
     "output_type": "stream",
     "text": [
      "Saved figure 'sanity_prov_50sim_E-Hin-ICU-D.jpg'\n"
     ]
    }
   ],
   "source": [
    "graphs = show_graphs(out_sanity_prov, ylim=[30000, 200, 400, 500], figname=\"sanity_prov_50sim_E-Hin-ICU-D.jpg\")"
   ]
  },
  {
   "cell_type": "markdown",
   "metadata": {},
   "source": [
    "## National model"
   ]
  },
  {
   "cell_type": "markdown",
   "metadata": {
    "heading_collapsed": true
   },
   "source": [
    "### Prepare the simulation"
   ]
  },
  {
   "cell_type": "code",
   "execution_count": 39,
   "metadata": {
    "ExecuteTime": {
     "end_time": "2020-10-28T11:37:03.556108Z",
     "start_time": "2020-10-28T11:37:03.301091Z"
    },
    "hidden": true
   },
   "outputs": [],
   "source": [
    "# Name of the zarr gropu in which this particular simulation is or will be saved\n",
    "group = \"nat_43E\"\n",
    "\n",
    "# Load parameters and interaction matrices\n",
    "age_str = True\n",
    "intensity='all'\n",
    "# spatial_str has been left out here\n",
    "params = model_parameters.get_COVID19_SEIRD_parameters(age_stratified=age_str)\n",
    "initN, Nc_home, Nc_work, Nc_schools, Nc_transport, Nc_leisure, Nc_others, Nc_total = model_parameters.get_interaction_matrices(intensity=intensity)\n",
    "\n",
    "# Add social policy parameter values\n",
    "params.update({'l': l,\n",
    "              'tau': tau,\n",
    "              'policy_time' : policy_time})"
   ]
  },
  {
   "cell_type": "code",
   "execution_count": 40,
   "metadata": {
    "ExecuteTime": {
     "end_time": "2020-10-28T11:37:04.457665Z",
     "start_time": "2020-10-28T11:37:04.389135Z"
    },
    "hidden": true
   },
   "outputs": [],
   "source": [
    "# Define initial conditions\n",
    "\n",
    "# The entire country gets 43 35-year-old exposed individuals\n",
    "exposed = np.zeros(initN.shape)\n",
    "exposed[3] = 43\n",
    "init_states = dict({'S' : initN, 'E' : exposed})\n",
    "\n",
    "# The type of policy change: contact is reduce from everything to home contact (within the arrondissement) only\n",
    "policy1 = Nc_total\n",
    "policy2 = Nc_home\n",
    "params.update({'policy1' : policy1,\n",
    "               'policy2' : policy2})"
   ]
  },
  {
   "cell_type": "code",
   "execution_count": 41,
   "metadata": {
    "ExecuteTime": {
     "end_time": "2020-10-28T11:37:04.926170Z",
     "start_time": "2020-10-28T11:37:04.869254Z"
    },
    "hidden": true
   },
   "outputs": [],
   "source": [
    "# Load the model\n",
    "model = models.COVID19_SEIRD_sto(init_states, params, time_dependent_parameters={'Nc' : social_policy_func},\n",
    "                                     discrete=True)"
   ]
  },
  {
   "cell_type": "markdown",
   "metadata": {
    "heading_collapsed": true
   },
   "source": [
    "### Run and save the simulations - WARNING: computationally expensive (only do once)"
   ]
  },
  {
   "cell_type": "code",
   "execution_count": 42,
   "metadata": {
    "ExecuteTime": {
     "end_time": "2020-10-28T11:38:04.770731Z",
     "start_time": "2020-10-28T11:37:41.156398Z"
    },
    "hidden": true
   },
   "outputs": [
    {
     "name": "stdout",
     "output_type": "stream",
     "text": [
      "Simulating draw 0/99\n",
      "Simulating draw 1/99\n",
      "Simulating draw 2/99\n",
      "Simulating draw 3/99\n",
      "Simulating draw 4/99\n",
      "Simulating draw 5/99\n",
      "Simulating draw 6/99\n",
      "Simulating draw 7/99\n",
      "Simulating draw 8/99\n",
      "Simulating draw 9/99\n",
      "Simulating draw 10/99\n",
      "Simulating draw 11/99\n",
      "Simulating draw 12/99\n",
      "Simulating draw 13/99\n",
      "Simulating draw 14/99\n",
      "Simulating draw 15/99\n",
      "Simulating draw 16/99\n",
      "Simulating draw 17/99\n",
      "Simulating draw 18/99\n",
      "Simulating draw 19/99\n",
      "Simulating draw 20/99\n",
      "Simulating draw 21/99\n",
      "Simulating draw 22/99\n",
      "Simulating draw 23/99\n",
      "Simulating draw 24/99\n",
      "Simulating draw 25/99\n",
      "Simulating draw 26/99\n",
      "Simulating draw 27/99\n",
      "Simulating draw 28/99\n",
      "Simulating draw 29/99\n",
      "Simulating draw 30/99\n",
      "Simulating draw 31/99\n",
      "Simulating draw 32/99\n",
      "Simulating draw 33/99\n",
      "Simulating draw 34/99\n",
      "Simulating draw 35/99\n",
      "Simulating draw 36/99\n",
      "Simulating draw 37/99\n",
      "Simulating draw 38/99\n",
      "Simulating draw 39/99\n",
      "Simulating draw 40/99\n",
      "Simulating draw 41/99\n",
      "Simulating draw 42/99\n",
      "Simulating draw 43/99\n",
      "Simulating draw 44/99\n",
      "Simulating draw 45/99\n",
      "Simulating draw 46/99\n",
      "Simulating draw 47/99\n",
      "Simulating draw 48/99\n",
      "Simulating draw 49/99\n",
      "Simulating draw 50/99\n",
      "Simulating draw 51/99\n",
      "Simulating draw 52/99\n",
      "Simulating draw 53/99\n",
      "Simulating draw 54/99\n",
      "Simulating draw 55/99\n",
      "Simulating draw 56/99\n",
      "Simulating draw 57/99\n",
      "Simulating draw 58/99\n",
      "Simulating draw 59/99\n",
      "Simulating draw 60/99\n",
      "Simulating draw 61/99\n",
      "Simulating draw 62/99\n",
      "Simulating draw 63/99\n",
      "Simulating draw 64/99\n",
      "Simulating draw 65/99\n",
      "Simulating draw 66/99\n",
      "Simulating draw 67/99\n",
      "Simulating draw 68/99\n",
      "Simulating draw 69/99\n",
      "Simulating draw 70/99\n",
      "Simulating draw 71/99\n",
      "Simulating draw 72/99\n",
      "Simulating draw 73/99\n",
      "Simulating draw 74/99\n",
      "Simulating draw 75/99\n",
      "Simulating draw 76/99\n",
      "Simulating draw 77/99\n",
      "Simulating draw 78/99\n",
      "Simulating draw 79/99\n",
      "Simulating draw 80/99\n",
      "Simulating draw 81/99\n",
      "Simulating draw 82/99\n",
      "Simulating draw 83/99\n",
      "Simulating draw 84/99\n",
      "Simulating draw 85/99\n",
      "Simulating draw 86/99\n",
      "Simulating draw 87/99\n",
      "Simulating draw 88/99\n",
      "Simulating draw 89/99\n",
      "Simulating draw 90/99\n",
      "Simulating draw 91/99\n",
      "Simulating draw 92/99\n",
      "Simulating draw 93/99\n",
      "Simulating draw 94/99\n",
      "Simulating draw 95/99\n",
      "Simulating draw 96/99\n",
      "Simulating draw 97/99\n",
      "Simulating draw 98/99\n",
      "Simulating draw 99/99\n",
      "Added simulation output to zarr directory '../data/simulated//Sanity-check_100sims_100days_Nctot-to-Nchome-day40.zarr under the group 'nat_43E'\n",
      "Description:\n",
      "------------\n",
      "'Stochastic national SEIRD extended model with 100 parallel simulations over 100 days. At day 0 43 exposed people in the age class 30-40 are released homogeneously distributed over the whole of Belgium. At day 40 measures are imposed, bringing down the contact rate from Nc_total to Nc_home. Over the course of 5 + 5 days (tau and l parameters) compliance reaches full effect.'\n"
     ]
    }
   ],
   "source": [
    "# Group name and output description\n",
    "description = f\"Stochastic national SEIRD extended model with {sim_number} \"\\\n",
    "                    f\"parallel simulations over {days_number} days. \"\\\n",
    "                    f\"At day 0 43 exposed people in the age class 30-40 are released homogeneously distributed \"\\\n",
    "                    f\"over the whole of Belgium. At day {policy_time} measures are imposed, \"\\\n",
    "                    f\"bringing down the contact rate from Nc_total to Nc_home. Over the course of \"\\\n",
    "                    f\"{tau} + {l} days (tau and l parameters) compliance reaches full effect.\"\n",
    "\n",
    "# Perform simulation (commented out for safety)\n",
    "# WARNING! First check if there isn't already data available for this simulation!\n",
    "# out_sanity_nat = model.sim(days_number, N=sim_number, verbose=True)\n",
    "\n",
    "# Save simulation results\n",
    "# save_sim(out_sanity_nat, zarr, group, descr=description)"
   ]
  },
  {
   "cell_type": "markdown",
   "metadata": {},
   "source": [
    "### Inspect the results"
   ]
  },
  {
   "cell_type": "code",
   "execution_count": 44,
   "metadata": {
    "ExecuteTime": {
     "end_time": "2020-10-28T11:38:17.201101Z",
     "start_time": "2020-10-28T11:38:17.130838Z"
    }
   },
   "outputs": [
    {
     "name": "stdout",
     "output_type": "stream",
     "text": [
      "Opened simulation output that is saved in ../data/simulated//Sanity-check_100sims_100days_Nctot-to-Nchome-day40.zarr/nat_43E\n",
      "\n",
      "Dimensions:\n",
      "-----------\n",
      "Nc: 9\n",
      "draws: 100\n",
      "time: 101\n",
      "\n",
      "Description\n",
      "-----------\n",
      "'Stochastic national SEIRD extended model with 100 parallel simulations over 100 days. At day 0 43 exposed people in the age class 30-40 are released homogeneously distributed over the whole of Belgium. At day 40 measures are imposed, bringing down the contact rate from Nc_total to Nc_home. Over the course of 5 + 5 days (tau and l parameters) compliance reaches full effect.'\n"
     ]
    }
   ],
   "source": [
    "# Load the simulation data\n",
    "out_sanity_nat = open_sim(zarr, group)"
   ]
  },
  {
   "cell_type": "code",
   "execution_count": 45,
   "metadata": {
    "ExecuteTime": {
     "end_time": "2020-10-28T11:38:26.461473Z",
     "start_time": "2020-10-28T11:38:25.972511Z"
    }
   },
   "outputs": [
    {
     "ename": "ValueError",
     "evalue": "dimension 'draws' on 0th function argument to apply_ufunc with dask='parallelized' consists of multiple chunks, but is also a core dimension. To fix, rechunk into a single dask array chunk along this dimension, i.e., ``.chunk({'draws': -1})``, but beware that this may significantly increase memory usage.",
     "output_type": "error",
     "traceback": [
      "\u001b[1;31m---------------------------------------------------------------------------\u001b[0m",
      "\u001b[1;31mValueError\u001b[0m                                Traceback (most recent call last)",
      "\u001b[1;32m<ipython-input-45-ebafd13009b0>\u001b[0m in \u001b[0;36m<module>\u001b[1;34m\u001b[0m\n\u001b[1;32m----> 1\u001b[1;33m \u001b[0mgraphs\u001b[0m \u001b[1;33m=\u001b[0m \u001b[0mshow_graphs\u001b[0m\u001b[1;33m(\u001b[0m\u001b[0mout_sanity_nat\u001b[0m\u001b[1;33m,\u001b[0m\u001b[0mylim\u001b[0m\u001b[1;33m=\u001b[0m\u001b[1;33m[\u001b[0m\u001b[1;36m30000\u001b[0m\u001b[1;33m,\u001b[0m \u001b[1;36m200\u001b[0m\u001b[1;33m,\u001b[0m \u001b[1;36m400\u001b[0m\u001b[1;33m,\u001b[0m \u001b[1;36m500\u001b[0m\u001b[1;33m]\u001b[0m\u001b[1;33m)\u001b[0m\u001b[1;33m\u001b[0m\u001b[1;33m\u001b[0m\u001b[0m\n\u001b[0m",
      "\u001b[1;32mc:\\users\\mrollier\\documents\\github\\covid19-model\\src\\covid19model\\visualization\\output.py\u001b[0m in \u001b[0;36mshow_graphs\u001b[1;34m(data, ts, nis, lin, rel, colors, ylim, figname, dpi, verbose)\u001b[0m\n\u001b[0;32m    621\u001b[0m         \u001b[1;31m# Not spatial (national model)\u001b[0m\u001b[1;33m\u001b[0m\u001b[1;33m\u001b[0m\u001b[1;33m\u001b[0m\u001b[0m\n\u001b[0;32m    622\u001b[0m         \u001b[1;32mif\u001b[0m \u001b[1;32mnot\u001b[0m \u001b[0mspatial\u001b[0m\u001b[1;33m:\u001b[0m\u001b[1;33m\u001b[0m\u001b[1;33m\u001b[0m\u001b[0m\n\u001b[1;32m--> 623\u001b[1;33m             \u001b[0mts_median\u001b[0m \u001b[1;33m=\u001b[0m \u001b[0mdata\u001b[0m\u001b[1;33m[\u001b[0m\u001b[0mttss\u001b[0m\u001b[1;33m]\u001b[0m\u001b[1;33m.\u001b[0m\u001b[0msum\u001b[0m\u001b[1;33m(\u001b[0m\u001b[0mdim\u001b[0m\u001b[1;33m=\u001b[0m\u001b[1;34m'Nc'\u001b[0m\u001b[1;33m)\u001b[0m\u001b[1;33m.\u001b[0m\u001b[0mquantile\u001b[0m\u001b[1;33m(\u001b[0m\u001b[1;36m0.5\u001b[0m\u001b[1;33m,\u001b[0m \u001b[0mdim\u001b[0m\u001b[1;33m=\u001b[0m\u001b[1;34m'draws'\u001b[0m\u001b[1;33m)\u001b[0m\u001b[1;33m\u001b[0m\u001b[1;33m\u001b[0m\u001b[0m\n\u001b[0m\u001b[0;32m    624\u001b[0m             \u001b[0mts_lower\u001b[0m \u001b[1;33m=\u001b[0m \u001b[0mdata\u001b[0m\u001b[1;33m[\u001b[0m\u001b[0mttss\u001b[0m\u001b[1;33m]\u001b[0m\u001b[1;33m.\u001b[0m\u001b[0msum\u001b[0m\u001b[1;33m(\u001b[0m\u001b[0mdim\u001b[0m\u001b[1;33m=\u001b[0m\u001b[1;34m'Nc'\u001b[0m\u001b[1;33m)\u001b[0m\u001b[1;33m.\u001b[0m\u001b[0mquantile\u001b[0m\u001b[1;33m(\u001b[0m\u001b[0mlower_pct\u001b[0m\u001b[1;33m/\u001b[0m\u001b[1;36m100\u001b[0m\u001b[1;33m,\u001b[0m \u001b[0mdim\u001b[0m\u001b[1;33m=\u001b[0m\u001b[1;34m'draws'\u001b[0m\u001b[1;33m)\u001b[0m\u001b[1;33m\u001b[0m\u001b[1;33m\u001b[0m\u001b[0m\n\u001b[0;32m    625\u001b[0m             \u001b[0mts_upper\u001b[0m \u001b[1;33m=\u001b[0m \u001b[0mdata\u001b[0m\u001b[1;33m[\u001b[0m\u001b[0mttss\u001b[0m\u001b[1;33m]\u001b[0m\u001b[1;33m.\u001b[0m\u001b[0msum\u001b[0m\u001b[1;33m(\u001b[0m\u001b[0mdim\u001b[0m\u001b[1;33m=\u001b[0m\u001b[1;34m'Nc'\u001b[0m\u001b[1;33m)\u001b[0m\u001b[1;33m.\u001b[0m\u001b[0mquantile\u001b[0m\u001b[1;33m(\u001b[0m\u001b[0mupper_pct\u001b[0m\u001b[1;33m/\u001b[0m\u001b[1;36m100\u001b[0m\u001b[1;33m,\u001b[0m \u001b[0mdim\u001b[0m\u001b[1;33m=\u001b[0m\u001b[1;34m'draws'\u001b[0m\u001b[1;33m)\u001b[0m\u001b[1;33m\u001b[0m\u001b[1;33m\u001b[0m\u001b[0m\n",
      "\u001b[1;32m~\\AppData\\Roaming\\Python\\Python37\\site-packages\\xarray\\core\\dataarray.py\u001b[0m in \u001b[0;36mquantile\u001b[1;34m(self, q, dim, interpolation, keep_attrs, skipna)\u001b[0m\n\u001b[0;32m   3115\u001b[0m             \u001b[0mkeep_attrs\u001b[0m\u001b[1;33m=\u001b[0m\u001b[0mkeep_attrs\u001b[0m\u001b[1;33m,\u001b[0m\u001b[1;33m\u001b[0m\u001b[1;33m\u001b[0m\u001b[0m\n\u001b[0;32m   3116\u001b[0m             \u001b[0minterpolation\u001b[0m\u001b[1;33m=\u001b[0m\u001b[0minterpolation\u001b[0m\u001b[1;33m,\u001b[0m\u001b[1;33m\u001b[0m\u001b[1;33m\u001b[0m\u001b[0m\n\u001b[1;32m-> 3117\u001b[1;33m             \u001b[0mskipna\u001b[0m\u001b[1;33m=\u001b[0m\u001b[0mskipna\u001b[0m\u001b[1;33m,\u001b[0m\u001b[1;33m\u001b[0m\u001b[1;33m\u001b[0m\u001b[0m\n\u001b[0m\u001b[0;32m   3118\u001b[0m         )\n\u001b[0;32m   3119\u001b[0m         \u001b[1;32mreturn\u001b[0m \u001b[0mself\u001b[0m\u001b[1;33m.\u001b[0m\u001b[0m_from_temp_dataset\u001b[0m\u001b[1;33m(\u001b[0m\u001b[0mds\u001b[0m\u001b[1;33m)\u001b[0m\u001b[1;33m\u001b[0m\u001b[1;33m\u001b[0m\u001b[0m\n",
      "\u001b[1;32m~\\AppData\\Roaming\\Python\\Python37\\site-packages\\xarray\\core\\dataset.py\u001b[0m in \u001b[0;36mquantile\u001b[1;34m(self, q, dim, interpolation, numeric_only, keep_attrs, skipna)\u001b[0m\n\u001b[0;32m   5366\u001b[0m                             \u001b[0minterpolation\u001b[0m\u001b[1;33m=\u001b[0m\u001b[0minterpolation\u001b[0m\u001b[1;33m,\u001b[0m\u001b[1;33m\u001b[0m\u001b[1;33m\u001b[0m\u001b[0m\n\u001b[0;32m   5367\u001b[0m                             \u001b[0mkeep_attrs\u001b[0m\u001b[1;33m=\u001b[0m\u001b[0mkeep_attrs\u001b[0m\u001b[1;33m,\u001b[0m\u001b[1;33m\u001b[0m\u001b[1;33m\u001b[0m\u001b[0m\n\u001b[1;32m-> 5368\u001b[1;33m                             \u001b[0mskipna\u001b[0m\u001b[1;33m=\u001b[0m\u001b[0mskipna\u001b[0m\u001b[1;33m,\u001b[0m\u001b[1;33m\u001b[0m\u001b[1;33m\u001b[0m\u001b[0m\n\u001b[0m\u001b[0;32m   5369\u001b[0m                         )\n\u001b[0;32m   5370\u001b[0m \u001b[1;33m\u001b[0m\u001b[0m\n",
      "\u001b[1;32m~\\AppData\\Roaming\\Python\\Python37\\site-packages\\xarray\\core\\variable.py\u001b[0m in \u001b[0;36mquantile\u001b[1;34m(self, q, dim, interpolation, keep_attrs, skipna)\u001b[0m\n\u001b[0;32m   1813\u001b[0m             \u001b[0moutput_sizes\u001b[0m\u001b[1;33m=\u001b[0m\u001b[1;33m{\u001b[0m\u001b[1;34m\"quantile\"\u001b[0m\u001b[1;33m:\u001b[0m \u001b[0mlen\u001b[0m\u001b[1;33m(\u001b[0m\u001b[0mq\u001b[0m\u001b[1;33m)\u001b[0m\u001b[1;33m}\u001b[0m\u001b[1;33m,\u001b[0m\u001b[1;33m\u001b[0m\u001b[1;33m\u001b[0m\u001b[0m\n\u001b[0;32m   1814\u001b[0m             \u001b[0mdask\u001b[0m\u001b[1;33m=\u001b[0m\u001b[1;34m\"parallelized\"\u001b[0m\u001b[1;33m,\u001b[0m\u001b[1;33m\u001b[0m\u001b[1;33m\u001b[0m\u001b[0m\n\u001b[1;32m-> 1815\u001b[1;33m             \u001b[0mkwargs\u001b[0m\u001b[1;33m=\u001b[0m\u001b[1;33m{\u001b[0m\u001b[1;34m\"q\"\u001b[0m\u001b[1;33m:\u001b[0m \u001b[0mq\u001b[0m\u001b[1;33m,\u001b[0m \u001b[1;34m\"axis\"\u001b[0m\u001b[1;33m:\u001b[0m \u001b[0maxis\u001b[0m\u001b[1;33m,\u001b[0m \u001b[1;34m\"interpolation\"\u001b[0m\u001b[1;33m:\u001b[0m \u001b[0minterpolation\u001b[0m\u001b[1;33m}\u001b[0m\u001b[1;33m,\u001b[0m\u001b[1;33m\u001b[0m\u001b[1;33m\u001b[0m\u001b[0m\n\u001b[0m\u001b[0;32m   1816\u001b[0m         )\n\u001b[0;32m   1817\u001b[0m \u001b[1;33m\u001b[0m\u001b[0m\n",
      "\u001b[1;32m~\\AppData\\Roaming\\Python\\Python37\\site-packages\\xarray\\core\\computation.py\u001b[0m in \u001b[0;36mapply_ufunc\u001b[1;34m(func, input_core_dims, output_core_dims, exclude_dims, vectorize, join, dataset_join, dataset_fill_value, keep_attrs, kwargs, dask, output_dtypes, output_sizes, meta, *args)\u001b[0m\n\u001b[0;32m   1065\u001b[0m         )\n\u001b[0;32m   1066\u001b[0m     \u001b[1;32melif\u001b[0m \u001b[0many\u001b[0m\u001b[1;33m(\u001b[0m\u001b[0misinstance\u001b[0m\u001b[1;33m(\u001b[0m\u001b[0ma\u001b[0m\u001b[1;33m,\u001b[0m \u001b[0mVariable\u001b[0m\u001b[1;33m)\u001b[0m \u001b[1;32mfor\u001b[0m \u001b[0ma\u001b[0m \u001b[1;32min\u001b[0m \u001b[0margs\u001b[0m\u001b[1;33m)\u001b[0m\u001b[1;33m:\u001b[0m\u001b[1;33m\u001b[0m\u001b[1;33m\u001b[0m\u001b[0m\n\u001b[1;32m-> 1067\u001b[1;33m         \u001b[1;32mreturn\u001b[0m \u001b[0mvariables_vfunc\u001b[0m\u001b[1;33m(\u001b[0m\u001b[1;33m*\u001b[0m\u001b[0margs\u001b[0m\u001b[1;33m)\u001b[0m\u001b[1;33m\u001b[0m\u001b[1;33m\u001b[0m\u001b[0m\n\u001b[0m\u001b[0;32m   1068\u001b[0m     \u001b[1;32melse\u001b[0m\u001b[1;33m:\u001b[0m\u001b[1;33m\u001b[0m\u001b[1;33m\u001b[0m\u001b[0m\n\u001b[0;32m   1069\u001b[0m         \u001b[1;32mreturn\u001b[0m \u001b[0mapply_array_ufunc\u001b[0m\u001b[1;33m(\u001b[0m\u001b[0mfunc\u001b[0m\u001b[1;33m,\u001b[0m \u001b[1;33m*\u001b[0m\u001b[0margs\u001b[0m\u001b[1;33m,\u001b[0m \u001b[0mdask\u001b[0m\u001b[1;33m=\u001b[0m\u001b[0mdask\u001b[0m\u001b[1;33m)\u001b[0m\u001b[1;33m\u001b[0m\u001b[1;33m\u001b[0m\u001b[0m\n",
      "\u001b[1;32m~\\AppData\\Roaming\\Python\\Python37\\site-packages\\xarray\\core\\computation.py\u001b[0m in \u001b[0;36mapply_variable_ufunc\u001b[1;34m(func, signature, exclude_dims, dask, output_dtypes, output_sizes, keep_attrs, meta, *args)\u001b[0m\n\u001b[0;32m    602\u001b[0m                 \u001b[1;34m\"apply_ufunc: {}\"\u001b[0m\u001b[1;33m.\u001b[0m\u001b[0mformat\u001b[0m\u001b[1;33m(\u001b[0m\u001b[0mdask\u001b[0m\u001b[1;33m)\u001b[0m\u001b[1;33m\u001b[0m\u001b[1;33m\u001b[0m\u001b[0m\n\u001b[0;32m    603\u001b[0m             )\n\u001b[1;32m--> 604\u001b[1;33m     \u001b[0mresult_data\u001b[0m \u001b[1;33m=\u001b[0m \u001b[0mfunc\u001b[0m\u001b[1;33m(\u001b[0m\u001b[1;33m*\u001b[0m\u001b[0minput_data\u001b[0m\u001b[1;33m)\u001b[0m\u001b[1;33m\u001b[0m\u001b[1;33m\u001b[0m\u001b[0m\n\u001b[0m\u001b[0;32m    605\u001b[0m \u001b[1;33m\u001b[0m\u001b[0m\n\u001b[0;32m    606\u001b[0m     \u001b[1;32mif\u001b[0m \u001b[0msignature\u001b[0m\u001b[1;33m.\u001b[0m\u001b[0mnum_outputs\u001b[0m \u001b[1;33m==\u001b[0m \u001b[1;36m1\u001b[0m\u001b[1;33m:\u001b[0m\u001b[1;33m\u001b[0m\u001b[1;33m\u001b[0m\u001b[0m\n",
      "\u001b[1;32m~\\AppData\\Roaming\\Python\\Python37\\site-packages\\xarray\\core\\computation.py\u001b[0m in \u001b[0;36mfunc\u001b[1;34m(*arrays)\u001b[0m\n\u001b[0;32m    592\u001b[0m                     \u001b[0moutput_dtypes\u001b[0m\u001b[1;33m,\u001b[0m\u001b[1;33m\u001b[0m\u001b[1;33m\u001b[0m\u001b[0m\n\u001b[0;32m    593\u001b[0m                     \u001b[0moutput_sizes\u001b[0m\u001b[1;33m,\u001b[0m\u001b[1;33m\u001b[0m\u001b[1;33m\u001b[0m\u001b[0m\n\u001b[1;32m--> 594\u001b[1;33m                     \u001b[0mmeta\u001b[0m\u001b[1;33m,\u001b[0m\u001b[1;33m\u001b[0m\u001b[1;33m\u001b[0m\u001b[0m\n\u001b[0m\u001b[0;32m    595\u001b[0m                 )\n\u001b[0;32m    596\u001b[0m \u001b[1;33m\u001b[0m\u001b[0m\n",
      "\u001b[1;32m~\\AppData\\Roaming\\Python\\Python37\\site-packages\\xarray\\core\\computation.py\u001b[0m in \u001b[0;36m_apply_blockwise\u001b[1;34m(func, args, input_dims, output_dims, signature, output_dtypes, output_sizes, meta)\u001b[0m\n\u001b[0;32m    710\u001b[0m                         \u001b[1;34m\"this dimension, i.e., ``.chunk({})``, but beware \"\u001b[0m\u001b[1;33m\u001b[0m\u001b[1;33m\u001b[0m\u001b[0m\n\u001b[0;32m    711\u001b[0m                         \"that this may significantly increase memory usage.\".format(\n\u001b[1;32m--> 712\u001b[1;33m                             \u001b[0mdim\u001b[0m\u001b[1;33m,\u001b[0m \u001b[0mn\u001b[0m\u001b[1;33m,\u001b[0m \u001b[1;33m{\u001b[0m\u001b[0mdim\u001b[0m\u001b[1;33m:\u001b[0m \u001b[1;33m-\u001b[0m\u001b[1;36m1\u001b[0m\u001b[1;33m}\u001b[0m\u001b[1;33m\u001b[0m\u001b[1;33m\u001b[0m\u001b[0m\n\u001b[0m\u001b[0;32m    713\u001b[0m                         )\n\u001b[0;32m    714\u001b[0m                     )\n",
      "\u001b[1;31mValueError\u001b[0m: dimension 'draws' on 0th function argument to apply_ufunc with dask='parallelized' consists of multiple chunks, but is also a core dimension. To fix, rechunk into a single dask array chunk along this dimension, i.e., ``.chunk({'draws': -1})``, but beware that this may significantly increase memory usage."
     ]
    },
    {
     "data": {
      "image/png": "[encoded data removed]",
      "text/plain": [
       "<Figure size 1080x1152 with 4 Axes>"
      ]
     },
     "metadata": {
      "needs_background": "light"
     },
     "output_type": "display_data"
    }
   ],
   "source": [
    "graphs = show_graphs(out_sanity_nat,ylim=[30000, 200, 400, 500])"
   ]
  },
  {
   "cell_type": "markdown",
   "metadata": {
    "heading_collapsed": true
   },
   "source": [
    "# Demonstrating the spatial effect"
   ]
  },
  {
   "cell_type": "markdown",
   "metadata": {
    "hidden": true
   },
   "source": [
    "Here the power of the spatial model is shown by dropping 5 infected patients in 'the middle of nowhere' and seeing how their disease spreads through Belgium.\n",
    "\n",
    "The mean purpose here is to communicate the working of the simulation\n",
    "\n",
    "**Result**  \n",
    "Can be seen as an mp4 in the archives (Downloads folder at the moment)\n",
    "\n",
    "**Discussion**  \n",
    "1. This looks realistic\n",
    "2. Would be interesting to treat these results as mock data and perform data analysis on these\n",
    "3. Arguably more interesting to show the relative impact rather than the absolute impact"
   ]
  },
  {
   "cell_type": "markdown",
   "metadata": {
    "heading_collapsed": true,
    "hidden": true
   },
   "source": [
    "## Prepare the simulation"
   ]
  },
  {
   "cell_type": "code",
   "execution_count": 122,
   "metadata": {
    "ExecuteTime": {
     "end_time": "2020-10-22T15:27:15.947900Z",
     "start_time": "2020-10-22T15:27:15.681669Z"
    },
    "hidden": true
   },
   "outputs": [],
   "source": [
    "# Load parameters and interaction matrices\n",
    "age_str = True\n",
    "intensity='all'\n",
    "spatial_str = 'arr'\n",
    "params = model_parameters.get_COVID19_SEIRD_parameters(age_stratified=age_str, spatial=spatial_str)\n",
    "initN, Nc_home, Nc_work, Nc_schools, Nc_transport, Nc_leisure, Nc_others, Nc_total = model_parameters.get_interaction_matrices(intensity=intensity, spatial=spatial_str)\n",
    "\n",
    "# Add social policy parameter values\n",
    "params.update({'l': l,\n",
    "              'tau': tau,\n",
    "              'policy_time' : policy_time})"
   ]
  },
  {
   "cell_type": "code",
   "execution_count": 123,
   "metadata": {
    "ExecuteTime": {
     "end_time": "2020-10-22T15:27:18.153595Z",
     "start_time": "2020-10-22T15:27:18.085503Z"
    },
    "hidden": true
   },
   "outputs": [],
   "source": [
    "# Define initial conditions\n",
    "\n",
    "# Put 5 35 year-old exposed people in Arlon (index 35)\n",
    "exposed = np.zeros(initN.shape)\n",
    "exposed[35,3] = 5\n",
    "init_states = dict({'S' : initN, 'E' : exposed})\n",
    "\n",
    "# The type of policy change: contact is reduce from everything to home contact (within the arrondissement) only\n",
    "policy1 = Nc_total\n",
    "policy2 = Nc_home\n",
    "params.update({'policy1' : policy1,\n",
    "               'policy2' : policy2})"
   ]
  },
  {
   "cell_type": "code",
   "execution_count": 124,
   "metadata": {
    "ExecuteTime": {
     "end_time": "2020-10-22T15:27:18.715766Z",
     "start_time": "2020-10-22T15:27:18.655845Z"
    },
    "hidden": true
   },
   "outputs": [],
   "source": [
    "# Load the model\n",
    "model = models.COVID19_SEIRD_sto_spatial(init_states, params, time_dependent_parameters={'Nc' : social_policy_func},\n",
    "                                     discrete=True)"
   ]
  },
  {
   "cell_type": "markdown",
   "metadata": {
    "heading_collapsed": true,
    "hidden": true
   },
   "source": [
    "## Run the simulation - Warning: computationally expensive"
   ]
  },
  {
   "cell_type": "code",
   "execution_count": 125,
   "metadata": {
    "ExecuteTime": {
     "end_time": "2020-10-22T15:30:01.488743Z",
     "start_time": "2020-10-22T15:27:21.620817Z"
    },
    "hidden": true
   },
   "outputs": [
    {
     "name": "stdout",
     "output_type": "stream",
     "text": [
      "Simulating draw 0/9\n",
      "Simulating draw 1/9\n",
      "Simulating draw 2/9\n",
      "Simulating draw 3/9\n",
      "Simulating draw 4/9\n",
      "Simulating draw 5/9\n",
      "Simulating draw 6/9\n",
      "Simulating draw 7/9\n",
      "Simulating draw 8/9\n",
      "Simulating draw 9/9\n"
     ]
    }
   ],
   "source": [
    "# Commented out for safety\n",
    "\n",
    "out_demo_arr = model.sim(days_number, N=sim_number, verbose=True)"
   ]
  },
  {
   "cell_type": "markdown",
   "metadata": {
    "heading_collapsed": true,
    "hidden": true
   },
   "source": [
    "## Inspect the results"
   ]
  },
  {
   "cell_type": "code",
   "execution_count": 130,
   "metadata": {
    "ExecuteTime": {
     "end_time": "2020-10-22T15:36:19.390049Z",
     "start_time": "2020-10-22T15:33:40.987222Z"
    },
    "hidden": true
   },
   "outputs": [
    {
     "name": "stdout",
     "output_type": "stream",
     "text": [
      "Saved figure 'demo_arr_5-35-yo_81000_day0.jpg'\n",
      "Saved figure 'demo_arr_5-35-yo_81000_day1.jpg'\n",
      "Saved figure 'demo_arr_5-35-yo_81000_day2.jpg'\n",
      "Saved figure 'demo_arr_5-35-yo_81000_day3.jpg'\n",
      "Saved figure 'demo_arr_5-35-yo_81000_day4.jpg'\n",
      "Saved figure 'demo_arr_5-35-yo_81000_day5.jpg'\n",
      "Saved figure 'demo_arr_5-35-yo_81000_day6.jpg'\n",
      "Saved figure 'demo_arr_5-35-yo_81000_day7.jpg'\n",
      "Saved figure 'demo_arr_5-35-yo_81000_day8.jpg'\n",
      "Saved figure 'demo_arr_5-35-yo_81000_day9.jpg'\n",
      "Saved figure 'demo_arr_5-35-yo_81000_day10.jpg'\n",
      "Saved figure 'demo_arr_5-35-yo_81000_day11.jpg'\n",
      "Saved figure 'demo_arr_5-35-yo_81000_day12.jpg'\n",
      "Saved figure 'demo_arr_5-35-yo_81000_day13.jpg'\n",
      "Saved figure 'demo_arr_5-35-yo_81000_day14.jpg'\n",
      "Saved figure 'demo_arr_5-35-yo_81000_day15.jpg'\n",
      "Saved figure 'demo_arr_5-35-yo_81000_day16.jpg'\n",
      "Saved figure 'demo_arr_5-35-yo_81000_day17.jpg'\n",
      "Saved figure 'demo_arr_5-35-yo_81000_day18.jpg'\n",
      "Saved figure 'demo_arr_5-35-yo_81000_day19.jpg'\n",
      "Saved figure 'demo_arr_5-35-yo_81000_day20.jpg'\n",
      "Saved figure 'demo_arr_5-35-yo_81000_day21.jpg'\n",
      "Saved figure 'demo_arr_5-35-yo_81000_day22.jpg'\n",
      "Saved figure 'demo_arr_5-35-yo_81000_day23.jpg'\n",
      "Saved figure 'demo_arr_5-35-yo_81000_day24.jpg'\n",
      "Saved figure 'demo_arr_5-35-yo_81000_day25.jpg'\n",
      "Saved figure 'demo_arr_5-35-yo_81000_day26.jpg'\n",
      "Saved figure 'demo_arr_5-35-yo_81000_day27.jpg'\n",
      "Saved figure 'demo_arr_5-35-yo_81000_day28.jpg'\n",
      "Saved figure 'demo_arr_5-35-yo_81000_day29.jpg'\n",
      "Saved figure 'demo_arr_5-35-yo_81000_day30.jpg'\n",
      "Saved figure 'demo_arr_5-35-yo_81000_day31.jpg'\n",
      "Saved figure 'demo_arr_5-35-yo_81000_day32.jpg'\n",
      "Saved figure 'demo_arr_5-35-yo_81000_day33.jpg'\n",
      "Saved figure 'demo_arr_5-35-yo_81000_day34.jpg'\n",
      "Saved figure 'demo_arr_5-35-yo_81000_day35.jpg'\n",
      "Saved figure 'demo_arr_5-35-yo_81000_day36.jpg'\n",
      "Saved figure 'demo_arr_5-35-yo_81000_day37.jpg'\n",
      "Saved figure 'demo_arr_5-35-yo_81000_day38.jpg'\n",
      "Saved figure 'demo_arr_5-35-yo_81000_day39.jpg'\n",
      "Saved figure 'demo_arr_5-35-yo_81000_day40.jpg'\n",
      "Saved figure 'demo_arr_5-35-yo_81000_day41.jpg'\n",
      "Saved figure 'demo_arr_5-35-yo_81000_day42.jpg'\n",
      "Saved figure 'demo_arr_5-35-yo_81000_day43.jpg'\n",
      "Saved figure 'demo_arr_5-35-yo_81000_day44.jpg'\n",
      "Saved figure 'demo_arr_5-35-yo_81000_day45.jpg'\n",
      "Saved figure 'demo_arr_5-35-yo_81000_day46.jpg'\n",
      "Saved figure 'demo_arr_5-35-yo_81000_day47.jpg'\n",
      "Saved figure 'demo_arr_5-35-yo_81000_day48.jpg'\n",
      "Saved figure 'demo_arr_5-35-yo_81000_day49.jpg'\n",
      "Saved figure 'demo_arr_5-35-yo_81000_day50.jpg'\n",
      "Saved figure 'demo_arr_5-35-yo_81000_day51.jpg'\n",
      "Saved figure 'demo_arr_5-35-yo_81000_day52.jpg'\n",
      "Saved figure 'demo_arr_5-35-yo_81000_day53.jpg'\n",
      "Saved figure 'demo_arr_5-35-yo_81000_day54.jpg'\n",
      "Saved figure 'demo_arr_5-35-yo_81000_day55.jpg'\n",
      "Saved figure 'demo_arr_5-35-yo_81000_day56.jpg'\n",
      "Saved figure 'demo_arr_5-35-yo_81000_day57.jpg'\n",
      "Saved figure 'demo_arr_5-35-yo_81000_day58.jpg'\n",
      "Saved figure 'demo_arr_5-35-yo_81000_day59.jpg'\n",
      "Saved figure 'demo_arr_5-35-yo_81000_day60.jpg'\n",
      "Saved figure 'demo_arr_5-35-yo_81000_day61.jpg'\n",
      "Saved figure 'demo_arr_5-35-yo_81000_day62.jpg'\n",
      "Saved figure 'demo_arr_5-35-yo_81000_day63.jpg'\n",
      "Saved figure 'demo_arr_5-35-yo_81000_day64.jpg'\n",
      "Saved figure 'demo_arr_5-35-yo_81000_day65.jpg'\n",
      "Saved figure 'demo_arr_5-35-yo_81000_day66.jpg'\n",
      "Saved figure 'demo_arr_5-35-yo_81000_day67.jpg'\n",
      "Saved figure 'demo_arr_5-35-yo_81000_day68.jpg'\n",
      "Saved figure 'demo_arr_5-35-yo_81000_day69.jpg'\n",
      "Saved figure 'demo_arr_5-35-yo_81000_day70.jpg'\n",
      "Saved figure 'demo_arr_5-35-yo_81000_day71.jpg'\n",
      "Saved figure 'demo_arr_5-35-yo_81000_day72.jpg'\n",
      "Saved figure 'demo_arr_5-35-yo_81000_day73.jpg'\n",
      "Saved figure 'demo_arr_5-35-yo_81000_day74.jpg'\n",
      "Saved figure 'demo_arr_5-35-yo_81000_day75.jpg'\n",
      "Saved figure 'demo_arr_5-35-yo_81000_day76.jpg'\n",
      "Saved figure 'demo_arr_5-35-yo_81000_day77.jpg'\n",
      "Saved figure 'demo_arr_5-35-yo_81000_day78.jpg'\n",
      "Saved figure 'demo_arr_5-35-yo_81000_day79.jpg'\n",
      "Saved figure 'demo_arr_5-35-yo_81000_day80.jpg'\n",
      "Saved figure 'demo_arr_5-35-yo_81000_day81.jpg'\n",
      "Saved figure 'demo_arr_5-35-yo_81000_day82.jpg'\n",
      "Saved figure 'demo_arr_5-35-yo_81000_day83.jpg'\n",
      "Saved figure 'demo_arr_5-35-yo_81000_day84.jpg'\n",
      "Saved figure 'demo_arr_5-35-yo_81000_day85.jpg'\n",
      "Saved figure 'demo_arr_5-35-yo_81000_day86.jpg'\n",
      "Saved figure 'demo_arr_5-35-yo_81000_day87.jpg'\n",
      "Saved figure 'demo_arr_5-35-yo_81000_day88.jpg'\n",
      "Saved figure 'demo_arr_5-35-yo_81000_day89.jpg'\n",
      "Saved figure 'demo_arr_5-35-yo_81000_day90.jpg'\n",
      "Saved figure 'demo_arr_5-35-yo_81000_day91.jpg'\n",
      "Saved figure 'demo_arr_5-35-yo_81000_day92.jpg'\n",
      "Saved figure 'demo_arr_5-35-yo_81000_day93.jpg'\n",
      "Saved figure 'demo_arr_5-35-yo_81000_day94.jpg'\n",
      "Saved figure 'demo_arr_5-35-yo_81000_day95.jpg'\n",
      "Saved figure 'demo_arr_5-35-yo_81000_day96.jpg'\n",
      "Saved figure 'demo_arr_5-35-yo_81000_day97.jpg'\n",
      "Saved figure 'demo_arr_5-35-yo_81000_day98.jpg'\n",
      "Saved figure 'demo_arr_5-35-yo_81000_day99.jpg'\n",
      "Saved figure 'demo_arr_5-35-yo_81000_day100.jpg'\n"
     ]
    }
   ],
   "source": [
    "# Make a video: see archives\n",
    "\n",
    "ts_geo = 'E'\n",
    "ts_graph = ['E', 'ICU', 'D']\n",
    "nis = [81000, 21000, 31000] # Arlon, Brussel, Brugge\n",
    "\n",
    "# Commented out for safety\n",
    "\n",
    "# for day in range(days_number+1):\n",
    "#     figname = f\"demo_arr_5-35-yo_81000_day{day}.jpg\"\n",
    "#     maps, graphs = show_map(out_demo_arr, arrondissements, ts_geo=ts_geo, day=day, ts_graph=ts_graph, figname=figname)"
   ]
  },
  {
   "cell_type": "markdown",
   "metadata": {
    "hidden": true
   },
   "source": [
    "## Plotting in graph"
   ]
  },
  {
   "cell_type": "code",
   "execution_count": null,
   "metadata": {
    "hidden": true
   },
   "outputs": [],
   "source": []
  }
 ],
 "metadata": {
  "kernelspec": {
   "display_name": "Python 3",
   "language": "python",
   "name": "python3"
  },
  "language_info": {
   "codemirror_mode": {
    "name": "ipython",
    "version": 3
   },
   "file_extension": ".py",
   "mimetype": "text/x-python",
   "name": "python",
   "nbconvert_exporter": "python",
   "pygments_lexer": "ipython3",
   "version": "3.7.3"
  },
  "toc": {
   "base_numbering": 1,
   "nav_menu": {},
   "number_sections": true,
   "sideBar": true,
   "skip_h1_title": false,
   "title_cell": "Table of Contents",
   "title_sidebar": "Contents",
   "toc_cell": false,
   "toc_position": {},
   "toc_section_display": true,
   "toc_window_display": false
  }
 },
 "nbformat": 4,
 "nbformat_minor": 2
}
