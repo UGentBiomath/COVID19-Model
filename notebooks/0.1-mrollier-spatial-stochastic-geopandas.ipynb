{
 "cells": [
  {
   "cell_type": "markdown",
   "metadata": {},
   "source": [
    "**CONTENT**\n",
    "\n",
    "In this notebook we will create stochastic simulations based on either `COVID19_SEIRD_sto` or `COVID19_SEIRD_sto_spatial` with various *initial conditions* and *imposed measures*.\n",
    "\n",
    "**OPEN TASKS**\n",
    "\n",
    "*short term*\n",
    "1. ~~Define some interesting realistic and/or artificial initial conditions~~\n",
    "2. Define some interesting realistic and/or artificial imposed measures: See Tijs' preprint\n",
    "3. ~~Initiate the models and create a readable environment to make nice plots (create some definitions?)~~\n",
    "4. ~~Compare the dynamics and results of the spatially stratified model with the national model (these should largely correspond with each other)~~\n",
    "5. Choose the most pertinent conditions and measures for plotting in geopandas and make a full-resolution video of the simulation\n",
    "6. ~~Plot infections, hospitalisations and deaths~~\n",
    "7. *Important*: Compare with actual data (See `MR-time-series-correlation` in `/spatial_private`)\n",
    "8. ~~Automate the hard-code in `models.py` line `coordinates = [read_coordinates_nis(spatial='test')]`~~\n",
    "9. ~~Find a nice way to show upper and lower percentiles~~\n",
    "10. ~~Define functions in a `visualization` environment. That should make it much more readable~~ in `output`\n",
    "11. ~~Make a Pull Request~~ Make another one\n",
    "12. **Calibrate the results on the actual data. IDEA: can't we also calibrate on the effect of measures --> see how measures were *actually* followed? Right now this seems like a big estimation.**\n",
    "13. ~~In `show_map`, include meaning of uncertainty band in legend if only one line is shown~~\n",
    "14. Define `social_policy_func` in `utils.py`\n",
    "15. ~~Find a way to save `xarray` objects~~\n",
    "16. Add social parameters `l` and `tau` to the default fetched parameters\n",
    "17. ~~Make the plotting device at the end of the Notebook into a function~~\n",
    "18. Find a way to also easily plot Sciensano data with the same functions\n",
    "19. Include relative (per 100k) numbers\n",
    "\n",
    "*long term*  \n",
    "2. Take out the most relevant results and summarise in a $\\LaTeX$ presentation\n",
    "3. Include age-stratification for the mobility matrix $P^{gh}$\n",
    "4. **Include spatial stratification for the mobility parameter $p_i$: simulate negative travel advice**\n",
    "5. Include age stratification for *all* hospital parameters (including average number of days in the hospital)\n",
    "6. Visualise the measures\n",
    "7. Include framework for vaccination\n",
    "8. Allow for fractional infection from mildly symptomatic people that ignore safety regulations (self-isolation), preferably based on research\n",
    "9. Show age distribution in the relevant time series at any time: add this to function.\n",
    "10. Fix the percentile problem: right now we are taking the percentiles for every time value, but independent simulations might cross each other. This is therefore not strictly correct (this is a detail though)\n",
    "11. In the `show_map` function, include age stratification.\n",
    "12. Add 'smooth-out' option (7-day moving average) to show_maps and show_graphs functions, as is done in the actual data\n",
    "\n",
    "**OPEN QUESTIONS**\n",
    "\n",
    "1. What is the reason for and the meaning of the normalisation factor $z_i$ in `COVID19_SEIRD_sto_spatial`?\n",
    "2. Is it OK for all susceptibility factors $s_i$ to be smaller than one, as is the case now? Not a big deal, but seems odd and certainly changes the $\\beta$ value (such that it doesn't correspond to that of other research groups)\n",
    "3. Can we simulate home isolation within this framework? If the contact matrix $N_{c,ij}$ is set to only $N_{home,ij}$, this still assumes homogeneity within each patch. One than still has contact with the entire patch, which is not realistic\n",
    "4. Only professional commuting is included, but presumably this is not sufficient. Can we use these simulations to verify that? **MEETING 29 OCTOBER**\n",
    "5. ~~Why are there so few hospitalisations compared to the number of deaths? There is definitely a bug there somewhere: the number of ICUs is even larger than the number of hospitalisations, which cannot be correct.~~\n",
    "    * Probably because `H_in` literally shows how many new people get in at any day (flux only), while for example `ICU` shows how many people are *actively* occupying ICU beds. Of course there is a crucial difference between the two.\n",
    "6. ~~Why does it take SOOO much longer to compute the national model vs the spatial model? Verify whether this is a factor $G$ difference~~ Reason: the figure environment should be reloaded every time, otherwise the figures are overwritten, which takes a lot of memory.\n",
    "7. All numbers go up in the aggregated version compared to the national model. I would actually expect the opposite, because people aren't spread as homogenic as before. What is going on? This must be **the effect of the normalisation** ...but wouldn't this give the opposite effect? $z_i \\times f$ is of the order $0.5 \\times 1.5$ which brings *down* the infectivity, which lowers the probability of being infected in a patch $g$. So if anything, I would expect the time series to be smaller than on the national level.\n",
    "8. How do I implement multiple policy changes?"
   ]
  },
  {
   "cell_type": "markdown",
   "metadata": {},
   "source": [
    "# Load packages"
   ]
  },
  {
   "cell_type": "code",
   "execution_count": 36,
   "metadata": {
    "ExecuteTime": {
     "end_time": "2020-11-04T15:37:13.566005Z",
     "start_time": "2020-11-04T15:37:13.105706Z"
    }
   },
   "outputs": [
    {
     "name": "stdout",
     "output_type": "stream",
     "text": [
      "The autoreload extension is already loaded. To reload it, use:\n",
      "  %reload_ext autoreload\n"
     ]
    }
   ],
   "source": [
    "# Established packages\n",
    "import os\n",
    "import numpy as np\n",
    "import pandas as pd\n",
    "import geopandas as gp\n",
    "import datetime\n",
    "import math\n",
    "import xarray as xr # labels in the form of dimensions, coordinates and attributes\n",
    "import matplotlib.pyplot as plt\n",
    "import zarr\n",
    "\n",
    "# Custom package covid19model\n",
    "from covid19model.models import models\n",
    "from covid19model.models.utils import name2nis, social_policy_func, save_sim, open_sim\n",
    "from covid19model.data import model_parameters #, sciensano, google\n",
    "from covid19model.visualization.output import population_status, infected, show_map, show_graphs\n",
    "\n",
    "\n",
    "# Load different geographical aggregations\n",
    "maps_dir = '../data/raw/geopandas/BE/'\n",
    "\n",
    "country = gp.read_file(os.path.join(maps_dir, 'AD_6_Country.shp'))\n",
    "regions = gp.read_file(os.path.join(maps_dir, 'AD_5_Region.shp'))\n",
    "provinces = gp.read_file(os.path.join(maps_dir, 'AD_4_Province.shp'))\n",
    "arrondissements = gp.read_file(os.path.join(maps_dir, 'AD_3_District.shp'))\n",
    "municipalities = gp.read_file(os.path.join(maps_dir, 'AD_2_Municipality.shp'))\n",
    "testgeo = arrondissements.loc[arrondissements['NISCode'].isin(['11000', '21000', '44000'])].reset_index(drop=True)\n",
    "# Add NIS-code to Arrondissement Brussel-Hoofdstad\n",
    "provinces.loc[provinces['NISCode']=='NA', 'NISCode'] = '21000'\n",
    "\n",
    "\n",
    "# OPTIONAL: Load the \"autoreload\" extension so that package code can change\n",
    "%load_ext autoreload\n",
    "# OPTIONAL: always reload modules so that as you change code in src, it gets loaded\n",
    "# This may be useful because the `covid19model` package is under construction\n",
    "%autoreload 2"
   ]
  },
  {
   "cell_type": "markdown",
   "metadata": {
    "heading_collapsed": true
   },
   "source": [
    "# Content and initialisation"
   ]
  },
  {
   "cell_type": "markdown",
   "metadata": {
    "heading_collapsed": true,
    "hidden": true
   },
   "source": [
    "## Oversight of various model conditions"
   ]
  },
  {
   "cell_type": "markdown",
   "metadata": {
    "hidden": true
   },
   "source": [
    "Any of the conditions below are implemented for both the spatial and the national stochastic SEIRD-extended model.\n",
    "\n",
    "**Initial conditions**\n",
    "1. One exposed person on day 0. With some spatial variation:  \n",
    "    1. On the far southeast side of the country  \n",
    "    2. On the far northwest side of the country  \n",
    "    3. In Brussels  \n",
    "2. Fifty exposed people on day 0, same spatial variation\n",
    "3. Only asymptomatic people instead of exposed people\n",
    "4. Only presymptomatic people instead of exposed people\n",
    "5. No mobility whatsoever (sanity check, can only be done in spatial model)\n",
    "\n",
    "**Measures**\n",
    "1. Decrease overall contact parameter: type of contact stays the same, but the frequency is lowered\n",
    "2. Change *type* of contact: only remain home contact (but note that this does not mean that families are isolated!)\n",
    "3. Decrease mobility between cities (can only be done in spatial model)\n",
    "4. Vaccination: migrate the number of Susceptible straight to the Recovered category\n",
    "\n",
    "**Spatial levels**\n",
    "1. 'Test' level: only arrondissements Antwerpen, Brussel, Gent\n",
    "2. Arrondissement level: 43 arrondissements\n",
    "3. Province level: 10+1 provinces\n",
    "4. National level: no spatial stratification"
   ]
  },
  {
   "cell_type": "markdown",
   "metadata": {
    "ExecuteTime": {
     "end_time": "2020-10-13T11:56:07.806112Z",
     "start_time": "2020-10-13T11:56:07.750938Z"
    },
    "hidden": true
   },
   "source": [
    "## Initialisation of common parameters"
   ]
  },
  {
   "cell_type": "code",
   "execution_count": 37,
   "metadata": {
    "ExecuteTime": {
     "end_time": "2020-11-04T15:37:16.634284Z",
     "start_time": "2020-11-04T15:37:16.576970Z"
    },
    "hidden": true
   },
   "outputs": [],
   "source": [
    "# ---------------------------- #\n",
    "# Choose simulation parameters #\n",
    "# ---------------------------- #\n",
    "\n",
    "# Note that a high number of simulations is computationally expensive, especially for high spatial stratification\n",
    "sim_number = 100\n",
    "days_number = 100\n",
    "\n",
    "# Policy values (for more details on nature of measures, see block below)\n",
    "policy_time = 40 # Must be smaller than days_number\n",
    "tau = 5 # days until new measures show some effect\n",
    "l = 5 # days since policy_time + tau until new measures show full effect"
   ]
  },
  {
   "cell_type": "markdown",
   "metadata": {},
   "source": [
    "# Sanity check: correspondence between spatial model and national model"
   ]
  },
  {
   "cell_type": "markdown",
   "metadata": {},
   "source": [
    "Below we load *a single exposed 35 year old individual* in every arrondissement (43 exposed people). We compare the resulting time series with those from simulations from the model stratified per province (4 per province+Bxl), and from the national model (43 in Belgium). Ideally, these should show identical dynamics.\n",
    "\n",
    "**Results**\n",
    "1. The simulations on province level and on arrondissement level are virtually identical.\n",
    "2. The national model predicts gives many *fewer* hospitalisations.\n",
    "\n",
    "**Discussion**\n",
    "1. It is still unclear what the prefactors $f_i$ and $z_i$ mean. These influence the effective $\\beta$, hence influencing the speed of the infection.\n",
    "2. Currently $\\beta$ is effectively *smaller* for the spatial model, so I don't understand why the infection spreads faster than in the national model\n",
    "3. Perhaps I should spread the infected people out more according to population density (so more in Brussels and fewer in Arlon)\n",
    "\n",
    "**Save simulation results in zarr**"
   ]
  },
  {
   "cell_type": "code",
   "execution_count": 38,
   "metadata": {
    "ExecuteTime": {
     "end_time": "2020-11-04T15:37:22.170048Z",
     "start_time": "2020-11-04T15:37:22.114133Z"
    }
   },
   "outputs": [],
   "source": [
    "# Name of the zarr directory in which the simulations are to be saved\n",
    "zarr_dir = '../data/simulated/'\n",
    "zarr_name = \"Sanity-check_\" + str(sim_number) + \"sims_\" + str(days_number) + \\\n",
    "                    \"days_\" + \"Nctot-to-Nchome-day\" + str(policy_time) + '.zarr'\n",
    "\n",
    "zarr = zarr_dir + '/' + zarr_name"
   ]
  },
  {
   "cell_type": "markdown",
   "metadata": {},
   "source": [
    "## Spatial model on arrondissement level"
   ]
  },
  {
   "cell_type": "markdown",
   "metadata": {
    "heading_collapsed": true
   },
   "source": [
    "### Prepare the simulation"
   ]
  },
  {
   "cell_type": "code",
   "execution_count": 40,
   "metadata": {
    "ExecuteTime": {
     "end_time": "2020-11-04T15:37:28.342276Z",
     "start_time": "2020-11-04T15:37:28.074785Z"
    },
    "hidden": true
   },
   "outputs": [],
   "source": [
    "# Name of the zarr gropu in which this particular simulation is or will be saved\n",
    "group = \"arr_1E-per-arr\"\n",
    "\n",
    "# Load parameters and interaction matrices\n",
    "age_str = True\n",
    "spatial_str = 'arr'\n",
    "intensity='all'\n",
    "params = model_parameters.get_COVID19_SEIRD_parameters(age_stratified=age_str, spatial=spatial_str)\n",
    "initN, Nc_home, Nc_work, Nc_schools, Nc_transport, Nc_leisure, Nc_others, Nc_total = model_parameters.get_interaction_matrices(intensity=intensity, spatial=spatial_str)\n",
    "\n",
    "# Add social policy parameter values\n",
    "params.update({'l': l,\n",
    "              'tau': tau,\n",
    "              'policy_time' : policy_time})"
   ]
  },
  {
   "cell_type": "code",
   "execution_count": 41,
   "metadata": {
    "ExecuteTime": {
     "end_time": "2020-11-04T15:37:28.403927Z",
     "start_time": "2020-11-04T15:37:28.342276Z"
    },
    "hidden": true,
    "scrolled": true
   },
   "outputs": [],
   "source": [
    "# Define initial conditions\n",
    "\n",
    "# Every arrondissements gets one 35-year-old exposed individual\n",
    "exposed = np.zeros(initN.shape)\n",
    "for arr in exposed:\n",
    "    arr[3] = 1\n",
    "init_states = dict({'S' : initN, 'E' : exposed})\n",
    "\n",
    "# The type of policy change: contact is reduce from everything to home contact (within the arrondissement) only\n",
    "policy1 = Nc_total\n",
    "policy2 = Nc_home\n",
    "params.update({'policy1' : policy1,\n",
    "               'policy2' : policy2})"
   ]
  },
  {
   "cell_type": "code",
   "execution_count": 42,
   "metadata": {
    "ExecuteTime": {
     "end_time": "2020-11-04T15:37:29.119858Z",
     "start_time": "2020-11-04T15:37:29.058111Z"
    },
    "hidden": true
   },
   "outputs": [],
   "source": [
    "# Load the model\n",
    "model = models.COVID19_SEIRD_sto_spatial(init_states, params, time_dependent_parameters={'Nc' : social_policy_func},\n",
    "                                     discrete=True, spatial='arr')"
   ]
  },
  {
   "cell_type": "markdown",
   "metadata": {},
   "source": [
    "### Run and save the simulations - WARNING: computationally expensive (only do once)"
   ]
  },
  {
   "cell_type": "code",
   "execution_count": 43,
   "metadata": {
    "ExecuteTime": {
     "end_time": "2020-11-04T15:37:35.036794Z",
     "start_time": "2020-11-04T15:37:34.977653Z"
    }
   },
   "outputs": [],
   "source": [
    "# Group name and output description\n",
    "description = f\"Stochastic spatial SEIRD extended model with {sim_number} \"\\\n",
    "                    f\"parallel simulations in 43 arrondissements over {days_number} days.\"\\\n",
    "                    f\"At day 0 a single exposed person in the age class 30-40 is released in\"\\\n",
    "                    f\"each of the arrondissements. At day {policy_time} measures are imposed, \"\\\n",
    "                    f\"bringing down the contact rate from Nc_total to Nc_home over the course of \"\\\n",
    "                    f\"{tau} + {l} days (tau and l compliance parameters) reaches full effect.\"\n",
    "\n",
    "# Perform simulation (commented out for safety)\n",
    "# WARNING! First check if there isn't already data available for this simulation!\n",
    "# out_sanity_arr = model.sim(days_number, N=sim_number, verbose=True)\n",
    "\n",
    "# Save simulation results\n",
    "# save_sim(out_sanity_arr, zarr, group, descr=description)"
   ]
  },
  {
   "cell_type": "markdown",
   "metadata": {},
   "source": [
    "### Inspect the results"
   ]
  },
  {
   "cell_type": "code",
   "execution_count": null,
   "metadata": {
    "ExecuteTime": {
     "end_time": "2020-10-28T11:19:36.576109Z",
     "start_time": "2020-10-28T11:19:36.477865Z"
    }
   },
   "outputs": [],
   "source": [
    "# Load the simulation data\n",
    "out_sanity_arr = open_sim(zarr, group, verbose=False)"
   ]
  },
  {
   "cell_type": "code",
   "execution_count": null,
   "metadata": {
    "ExecuteTime": {
     "end_time": "2020-10-28T11:19:56.323063Z",
     "start_time": "2020-10-28T11:19:56.261702Z"
    }
   },
   "outputs": [],
   "source": [
    "# Show map of a snapshot and the graphs of the major urban hubs (Antwerp, Brussels, Ghent)\n",
    "day = 60\n",
    "ts_geo = 'E'\n",
    "ts_graph = ['E', 'ICU', 'D']\n",
    "nis = [11000, 21000, 44000]\n",
    "geomap, graphs = show_map(out_sanity_arr, arrondissements, ts_geo=ts_geo, day=day, ts_graph=ts_graph)"
   ]
  },
  {
   "cell_type": "code",
   "execution_count": null,
   "metadata": {
    "ExecuteTime": {
     "end_time": "2020-10-28T11:20:52.286932Z",
     "start_time": "2020-10-28T11:20:52.231077Z"
    }
   },
   "outputs": [],
   "source": [
    "figname = \"sanity_arr_50sim_E-Hin-ICU-D.jpg\"\n",
    "graphs = show_graphs(out_sanity_arr, ylim=[30000, 200, 400, 500])#, figname=figname)"
   ]
  },
  {
   "cell_type": "markdown",
   "metadata": {
    "heading_collapsed": true
   },
   "source": [
    "## Spatial model on province level"
   ]
  },
  {
   "cell_type": "markdown",
   "metadata": {
    "heading_collapsed": true,
    "hidden": true
   },
   "source": [
    "### Prepare the simulation"
   ]
  },
  {
   "cell_type": "code",
   "execution_count": null,
   "metadata": {
    "ExecuteTime": {
     "end_time": "2020-10-28T14:01:25.678527Z",
     "start_time": "2020-10-28T14:01:25.417735Z"
    },
    "hidden": true
   },
   "outputs": [],
   "source": [
    "# Name of the zarr gropu in which this particular simulation is or will be saved\n",
    "group = \"prov_4E-per-prov\"\n",
    "\n",
    "# Load parameters and interaction matrices\n",
    "age_str = True\n",
    "spatial_str = 'prov'\n",
    "intensity='all'\n",
    "params = model_parameters.get_COVID19_SEIRD_parameters(age_stratified=age_str, spatial=spatial_str)\n",
    "initN, Nc_home, Nc_work, Nc_schools, Nc_transport, Nc_leisure, Nc_others, Nc_total = model_parameters.get_interaction_matrices(intensity=intensity, spatial=spatial_str)\n",
    "\n",
    "# Add social policy parameter values\n",
    "params.update({'l': l,\n",
    "              'tau': tau,\n",
    "              'policy_time' : policy_time})"
   ]
  },
  {
   "cell_type": "code",
   "execution_count": null,
   "metadata": {
    "ExecuteTime": {
     "end_time": "2020-10-28T14:01:25.945518Z",
     "start_time": "2020-10-28T14:01:25.880467Z"
    },
    "hidden": true
   },
   "outputs": [],
   "source": [
    "# Define initial conditions\n",
    "\n",
    "# Every province gets four 35-year-old exposed individuals\n",
    "exposed = np.zeros(initN.shape)\n",
    "for prov in exposed:\n",
    "    prov[3] = 4\n",
    "init_states = dict({'S' : initN, 'E' : exposed})\n",
    "\n",
    "# The type of policy change: contact is reduce from everything to home contact (within the arrondissement) only\n",
    "policy1 = Nc_total\n",
    "policy2 = Nc_home\n",
    "params.update({'policy1' : policy1,\n",
    "               'policy2' : policy2})"
   ]
  },
  {
   "cell_type": "code",
   "execution_count": null,
   "metadata": {
    "ExecuteTime": {
     "end_time": "2020-10-28T14:01:53.385743Z",
     "start_time": "2020-10-28T14:01:53.320577Z"
    },
    "hidden": true
   },
   "outputs": [],
   "source": [
    "# Load the model\n",
    "model = models.COVID19_SEIRD_sto_spatial(init_states, params, time_dependent_parameters={'Nc' : social_policy_func},\n",
    "                                     discrete=True, spatial='prov')"
   ]
  },
  {
   "cell_type": "markdown",
   "metadata": {
    "heading_collapsed": true,
    "hidden": true
   },
   "source": [
    "### Run and save the simulations - WARNING: computationally expensive (only do once)"
   ]
  },
  {
   "cell_type": "code",
   "execution_count": null,
   "metadata": {
    "ExecuteTime": {
     "end_time": "2020-10-28T14:02:05.604396Z",
     "start_time": "2020-10-28T14:01:57.575340Z"
    },
    "hidden": true
   },
   "outputs": [],
   "source": [
    "# Group name and output description\n",
    "description = f\"Stochastic spatial SEIRD extended model with {sim_number} \"\\\n",
    "                    f\"parallel simulations in 10+1 provinces over {days_number} days. \"\\\n",
    "                    f\"At day 0 four exposed people in the age class 30-40 are released in \"\\\n",
    "                    f\"each of the provinces + Brussels-Capital. At day {policy_time} measures are imposed, \"\\\n",
    "                    f\"bringing down the contact rate from Nc_total to Nc_home. Over the course of \"\\\n",
    "                    f\"{tau} + {l} days (tau and l parameters) compliance reaches full effect.\"\n",
    "\n",
    "# Perform simulation (commented out for safety)\n",
    "# WARNING! First check if there isn't already data available for this simulation!\n",
    "# out_sanity_prov = model.sim(days_number, N=sim_number, verbose=True)\n",
    "out_sanity_test = model.sim(days_number, N=3, verbose=True)\n",
    "\n",
    "out_sanity_test\n",
    "\n",
    "# Save simulation results\n",
    "# save_sim(out_sanity_prov, zarr, group, descr=description)"
   ]
  },
  {
   "cell_type": "markdown",
   "metadata": {
    "heading_collapsed": true,
    "hidden": true
   },
   "source": [
    "### Inspect the results"
   ]
  },
  {
   "cell_type": "code",
   "execution_count": null,
   "metadata": {
    "ExecuteTime": {
     "end_time": "2020-10-28T11:36:11.424665Z",
     "start_time": "2020-10-28T11:36:11.309030Z"
    },
    "hidden": true
   },
   "outputs": [],
   "source": [
    "# Load the simulation data\n",
    "out_sanity_prov = open_sim(zarr, group)"
   ]
  },
  {
   "cell_type": "code",
   "execution_count": null,
   "metadata": {
    "ExecuteTime": {
     "end_time": "2020-10-28T11:36:21.115912Z",
     "start_time": "2020-10-28T11:36:21.044938Z"
    },
    "hidden": true
   },
   "outputs": [],
   "source": [
    "# Show map of a snapshot and the graphs of the major urban hubs (Antwerp, Brussels, Ghent)\n",
    "day = 60\n",
    "ts_geo = 'E'\n",
    "ts_graph = ['E', 'ICU', 'D']\n",
    "nis = [10000, 21000, 40000]\n",
    "geomap, graphs = show_map(out_sanity_prov, provinces, ts_geo=ts_geo, day=day, ts_graph=ts_graph)"
   ]
  },
  {
   "cell_type": "code",
   "execution_count": null,
   "metadata": {
    "ExecuteTime": {
     "end_time": "2020-10-23T17:38:16.842164Z",
     "start_time": "2020-10-23T17:38:16.105215Z"
    },
    "hidden": true
   },
   "outputs": [],
   "source": [
    "graphs = show_graphs(out_sanity_prov, ylim=[30000, 200, 400, 500], figname=\"sanity_prov_50sim_E-Hin-ICU-D.jpg\")"
   ]
  },
  {
   "cell_type": "markdown",
   "metadata": {
    "heading_collapsed": true
   },
   "source": [
    "## National model"
   ]
  },
  {
   "cell_type": "markdown",
   "metadata": {
    "heading_collapsed": true,
    "hidden": true
   },
   "source": [
    "### Prepare the simulation"
   ]
  },
  {
   "cell_type": "code",
   "execution_count": null,
   "metadata": {
    "ExecuteTime": {
     "end_time": "2020-10-28T14:12:03.241581Z",
     "start_time": "2020-10-28T14:12:02.952090Z"
    },
    "hidden": true
   },
   "outputs": [],
   "source": [
    "# Name of the zarr gropu in which this particular simulation is or will be saved\n",
    "group = \"nat_43E\"\n",
    "\n",
    "# Load parameters and interaction matrices\n",
    "age_str = True\n",
    "intensity='all'\n",
    "# spatial_str has been left out here\n",
    "params = model_parameters.get_COVID19_SEIRD_parameters(age_stratified=age_str)\n",
    "initN, Nc_home, Nc_work, Nc_schools, Nc_transport, Nc_leisure, Nc_others, Nc_total = model_parameters.get_interaction_matrices(intensity=intensity)\n",
    "\n",
    "# Add social policy parameter values\n",
    "params.update({'l': l,\n",
    "              'tau': tau,\n",
    "              'policy_time' : policy_time})"
   ]
  },
  {
   "cell_type": "code",
   "execution_count": null,
   "metadata": {
    "ExecuteTime": {
     "end_time": "2020-10-28T14:12:05.166676Z",
     "start_time": "2020-10-28T14:12:05.095985Z"
    },
    "hidden": true
   },
   "outputs": [],
   "source": [
    "# Define initial conditions\n",
    "\n",
    "# The entire country gets 43 35-year-old exposed individuals\n",
    "exposed = np.zeros(initN.shape)\n",
    "exposed[3] = 43\n",
    "init_states = dict({'S' : initN, 'E' : exposed})\n",
    "\n",
    "# The type of policy change: contact is reduce from everything to home contact (within the arrondissement) only\n",
    "policy1 = Nc_total\n",
    "policy2 = Nc_home\n",
    "params.update({'policy1' : policy1,\n",
    "               'policy2' : policy2})"
   ]
  },
  {
   "cell_type": "code",
   "execution_count": null,
   "metadata": {
    "ExecuteTime": {
     "end_time": "2020-10-28T14:12:05.882744Z",
     "start_time": "2020-10-28T14:12:05.815631Z"
    },
    "hidden": true
   },
   "outputs": [],
   "source": [
    "# Load the model\n",
    "model = models.COVID19_SEIRD_sto(init_states, params, time_dependent_parameters={'Nc' : social_policy_func},\n",
    "                                     discrete=True)"
   ]
  },
  {
   "cell_type": "markdown",
   "metadata": {
    "heading_collapsed": true,
    "hidden": true
   },
   "source": [
    "### Run and save the simulations - WARNING: computationally expensive (only do once)"
   ]
  },
  {
   "cell_type": "code",
   "execution_count": null,
   "metadata": {
    "ExecuteTime": {
     "end_time": "2020-10-28T14:12:35.203457Z",
     "start_time": "2020-10-28T14:12:35.095994Z"
    },
    "hidden": true
   },
   "outputs": [],
   "source": [
    "# Group name and output description\n",
    "description = f\"Stochastic national SEIRD extended model with {sim_number} \"\\\n",
    "                    f\"parallel simulations over {days_number} days. \"\\\n",
    "                    f\"At day 0 43 exposed people in the age class 30-40 are released homogeneously distributed \"\\\n",
    "                    f\"over the whole of Belgium. At day {policy_time} measures are imposed, \"\\\n",
    "                    f\"bringing down the contact rate from Nc_total to Nc_home. Over the course of \"\\\n",
    "                    f\"{tau} + {l} days (tau and l parameters) compliance reaches full effect.\"\n",
    "\n",
    "# Perform simulation (commented out for safety)\n",
    "# WARNING! First check if there isn't already data available for this simulation!\n",
    "# out_sanity_nat = model.sim(days_number, N=sim_number, verbose=True)\n",
    "\n",
    "# Save simulation results\n",
    "# save_sim(out_sanity_nat, zarr, group, descr=description)"
   ]
  },
  {
   "cell_type": "markdown",
   "metadata": {
    "heading_collapsed": true,
    "hidden": true
   },
   "source": [
    "### Inspect the results"
   ]
  },
  {
   "cell_type": "code",
   "execution_count": null,
   "metadata": {
    "ExecuteTime": {
     "end_time": "2020-10-28T11:38:17.201101Z",
     "start_time": "2020-10-28T11:38:17.130838Z"
    },
    "hidden": true
   },
   "outputs": [],
   "source": [
    "# Load the simulation data\n",
    "out_sanity_nat = open_sim(zarr, group)"
   ]
  },
  {
   "cell_type": "code",
   "execution_count": null,
   "metadata": {
    "ExecuteTime": {
     "end_time": "2020-10-28T11:38:26.461473Z",
     "start_time": "2020-10-28T11:38:25.972511Z"
    },
    "hidden": true
   },
   "outputs": [],
   "source": [
    "graphs = show_graphs(out_sanity_nat,ylim=[30000, 200, 400, 500])"
   ]
  },
  {
   "cell_type": "markdown",
   "metadata": {
    "heading_collapsed": true
   },
   "source": [
    "# Demonstrating the spatial effect"
   ]
  },
  {
   "cell_type": "markdown",
   "metadata": {
    "hidden": true
   },
   "source": [
    "Here the power of the spatial model is shown by dropping 5 infected patients in 'the middle of nowhere' and seeing how their disease spreads through Belgium.\n",
    "\n",
    "The mean purpose here is to communicate the working of the simulation\n",
    "\n",
    "**Result**  \n",
    "Can be seen as an mp4 in the archives (Downloads folder at the moment)\n",
    "\n",
    "**Discussion**  \n",
    "1. This looks realistic\n",
    "2. Would be interesting to treat these results as mock data and perform data analysis on these\n",
    "3. Arguably more interesting to show the relative impact rather than the absolute impact"
   ]
  },
  {
   "cell_type": "markdown",
   "metadata": {
    "heading_collapsed": true,
    "hidden": true
   },
   "source": [
    "## Prepare the simulation"
   ]
  },
  {
   "cell_type": "code",
   "execution_count": null,
   "metadata": {
    "ExecuteTime": {
     "end_time": "2020-10-22T15:27:15.947900Z",
     "start_time": "2020-10-22T15:27:15.681669Z"
    },
    "hidden": true
   },
   "outputs": [],
   "source": [
    "# Load parameters and interaction matrices\n",
    "age_str = True\n",
    "intensity='all'\n",
    "spatial_str = 'arr'\n",
    "params = model_parameters.get_COVID19_SEIRD_parameters(age_stratified=age_str, spatial=spatial_str)\n",
    "initN, Nc_home, Nc_work, Nc_schools, Nc_transport, Nc_leisure, Nc_others, Nc_total = model_parameters.get_interaction_matrices(intensity=intensity, spatial=spatial_str)\n",
    "\n",
    "# Add social policy parameter values\n",
    "params.update({'l': l,\n",
    "              'tau': tau,\n",
    "              'policy_time' : policy_time})"
   ]
  },
  {
   "cell_type": "code",
   "execution_count": null,
   "metadata": {
    "ExecuteTime": {
     "end_time": "2020-10-22T15:27:18.153595Z",
     "start_time": "2020-10-22T15:27:18.085503Z"
    },
    "hidden": true
   },
   "outputs": [],
   "source": [
    "# Define initial conditions\n",
    "\n",
    "# Put 5 35 year-old exposed people in Arlon (index 35)\n",
    "exposed = np.zeros(initN.shape)\n",
    "exposed[35,3] = 5\n",
    "init_states = dict({'S' : initN, 'E' : exposed})\n",
    "\n",
    "# The type of policy change: contact is reduce from everything to home contact (within the arrondissement) only\n",
    "policy1 = Nc_total\n",
    "policy2 = Nc_home\n",
    "params.update({'policy1' : policy1,\n",
    "               'policy2' : policy2})"
   ]
  },
  {
   "cell_type": "code",
   "execution_count": null,
   "metadata": {
    "ExecuteTime": {
     "end_time": "2020-10-22T15:27:18.715766Z",
     "start_time": "2020-10-22T15:27:18.655845Z"
    },
    "hidden": true
   },
   "outputs": [],
   "source": [
    "# Load the model\n",
    "model = models.COVID19_SEIRD_sto_spatial(init_states, params, time_dependent_parameters={'Nc' : social_policy_func},\n",
    "                                     discrete=True)"
   ]
  },
  {
   "cell_type": "markdown",
   "metadata": {
    "heading_collapsed": true,
    "hidden": true
   },
   "source": [
    "## Run the simulation - Warning: computationally expensive"
   ]
  },
  {
   "cell_type": "code",
   "execution_count": null,
   "metadata": {
    "ExecuteTime": {
     "end_time": "2020-10-22T15:30:01.488743Z",
     "start_time": "2020-10-22T15:27:21.620817Z"
    },
    "hidden": true
   },
   "outputs": [],
   "source": [
    "# Commented out for safety\n",
    "\n",
    "out_demo_arr = model.sim(days_number, N=sim_number, verbose=True)"
   ]
  },
  {
   "cell_type": "markdown",
   "metadata": {
    "heading_collapsed": true,
    "hidden": true
   },
   "source": [
    "## Inspect the results"
   ]
  },
  {
   "cell_type": "code",
   "execution_count": null,
   "metadata": {
    "ExecuteTime": {
     "end_time": "2020-10-22T15:36:19.390049Z",
     "start_time": "2020-10-22T15:33:40.987222Z"
    },
    "hidden": true
   },
   "outputs": [],
   "source": [
    "# Make a video: see archives\n",
    "\n",
    "ts_geo = 'E'\n",
    "ts_graph = ['E', 'ICU', 'D']\n",
    "nis = [81000, 21000, 31000] # Arlon, Brussel, Brugge\n",
    "\n",
    "# Commented out for safety\n",
    "\n",
    "# for day in range(days_number+1):\n",
    "#     figname = f\"demo_arr_5-35-yo_81000_day{day}.jpg\"\n",
    "#     maps, graphs = show_map(out_demo_arr, arrondissements, ts_geo=ts_geo, day=day, ts_graph=ts_graph, figname=figname)"
   ]
  },
  {
   "cell_type": "markdown",
   "metadata": {
    "hidden": true
   },
   "source": [
    "## Plotting in graph"
   ]
  },
  {
   "cell_type": "code",
   "execution_count": null,
   "metadata": {
    "ExecuteTime": {
     "end_time": "2020-10-28T13:42:52.203679Z",
     "start_time": "2020-10-28T13:42:52.138420Z"
    },
    "hidden": true
   },
   "outputs": [],
   "source": [
    "z = 4\n",
    "\n",
    "if z == 4:\n",
    "    print('yes')\n",
    "elif z:\n",
    "    print('also yes')"
   ]
  }
 ],
 "metadata": {
  "kernelspec": {
   "display_name": "Python 3",
   "language": "python",
   "name": "python3"
  },
  "language_info": {
   "codemirror_mode": {
    "name": "ipython",
    "version": 3
   },
   "file_extension": ".py",
   "mimetype": "text/x-python",
   "name": "python",
   "nbconvert_exporter": "python",
   "pygments_lexer": "ipython3",
   "version": "3.7.3"
  },
  "toc": {
   "base_numbering": 1,
   "nav_menu": {},
   "number_sections": true,
   "sideBar": true,
   "skip_h1_title": false,
   "title_cell": "Table of Contents",
   "title_sidebar": "Contents",
   "toc_cell": false,
   "toc_position": {},
   "toc_section_display": true,
   "toc_window_display": false
  }
 },
 "nbformat": 4,
 "nbformat_minor": 2
}
