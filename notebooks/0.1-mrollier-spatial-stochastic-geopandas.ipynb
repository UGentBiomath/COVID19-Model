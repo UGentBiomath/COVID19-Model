{
 "cells": [
  {
   "cell_type": "markdown",
   "metadata": {},
   "source": [
    "**CONTENT**\n",
    "\n",
    "In this notebook we will create stochastic simulations based on either `COVID19_SEIRD_sto` or `COVID19_SEIRD_sto_spatial` with various *initial conditions* and *imposed measures*.\n",
    "\n",
    "**OPEN TASKS**\n",
    "\n",
    "*short term*\n",
    "1. ~~Define some interesting realistic and/or artificial initial conditions~~\n",
    "2. Define some interesting realistic and/or artificial imposed measures: See Tijs' preprint\n",
    "3. ~~Initiate the models and create a readable environment to make nice plots (create some definitions?)~~\n",
    "4. ~~Compare the dynamics and results of the spatially stratified model with the national model (these should largely correspond with each other)~~\n",
    "5. Choose the most pertinent conditions and measures for plotting in geopandas and make a full-resolution video of the simulation\n",
    "6. ~~Plot infections, hospitalisations and deaths~~\n",
    "7. *Important*: Compare with actual data (See `MR-time-series-correlation` in `/spatial_private`)\n",
    "8. ~~Automate the hard-code in `models.py` line `coordinates = [read_coordinates_nis(spatial='test')]`~~\n",
    "9. ~~Find a nice way to show upper and lower percentiles~~\n",
    "10. ~~Define functions in a `visualization` environment. That should make it much more readable~~ in `output`\n",
    "11. ~~Make a Pull Request~~ Make another one\n",
    "12. **Calibrate the results on the actual data. IDEA: can't we also calibrate on the effect of measures --> see how measures were *actually* followed? Right now this seems like a big estimation.**\n",
    "13. ~~In `show_map`, include meaning of uncertainty band in legend if only one line is shown~~\n",
    "14. Define `social_policy_func` in `utils.py`\n",
    "15. ~~Find a way to save `xarray` objects~~\n",
    "16. Add social parameters `l` and `tau` to the default fetched parameters\n",
    "17. ~~Make the plotting device at the end of the Notebook into a function~~\n",
    "18. Find a way to also easily plot Sciensano data with the same functions\n",
    "19. Include relative (per 100k) numbers\n",
    "20. Verify that `show_maps` works fine for xarrays that have no draws\n",
    "\n",
    "*long term*  \n",
    "2. Take out the most relevant results and summarise in a $\\LaTeX$ presentation\n",
    "3. Include age-stratification for the mobility matrix $P^{gh}$\n",
    "4. **Include spatial stratification for the mobility parameter $p_i$: simulate negative travel advice**\n",
    "5. Include age stratification for *all* hospital parameters (including average number of days in the hospital)\n",
    "6. Visualise the measures\n",
    "7. Include framework for vaccination\n",
    "8. Allow for fractional infection from mildly symptomatic people that ignore safety regulations (self-isolation), preferably based on research\n",
    "9. Show age distribution in the relevant time series at any time: add this to function.\n",
    "10. Fix the percentile problem: right now we are taking the percentiles for every time value, but independent simulations might cross each other. This is therefore not strictly correct (this is a detail though)\n",
    "11. In the `show_map` function, include age stratification.\n",
    "12. Add 'smooth-out' option (7-day moving average) to show_maps and show_graphs functions, as is done in the actual data\n",
    "\n",
    "**OPEN QUESTIONS**\n",
    "\n",
    "1. What is the reason for and the meaning of the normalisation factor $z_i$ in `COVID19_SEIRD_sto_spatial`?\n",
    "2. Is it OK for all susceptibility factors $s_i$ to be smaller than one, as is the case now? Not a big deal, but seems odd and certainly changes the $\\beta$ value (such that it doesn't correspond to that of other research groups)\n",
    "3. Can we simulate home isolation within this framework? If the contact matrix $N_{c,ij}$ is set to only $N_{home,ij}$, this still assumes homogeneity within each patch. One than still has contact with the entire patch, which is not realistic\n",
    "4. Only professional commuting is included, but presumably this is not sufficient. Can we use these simulations to verify that? **MEETING 29 OCTOBER**\n",
    "5. ~~Why are there so few hospitalisations compared to the number of deaths? There is definitely a bug there somewhere: the number of ICUs is even larger than the number of hospitalisations, which cannot be correct.~~\n",
    "    * Probably because `H_in` literally shows how many new people get in at any day (flux only), while for example `ICU` shows how many people are *actively* occupying ICU beds. Of course there is a crucial difference between the two.\n",
    "6. ~~Why does it take SOOO much longer to compute the national model vs the spatial model? Verify whether this is a factor $G$ difference~~ Reason: the figure environment should be reloaded every time, otherwise the figures are overwritten, which takes a lot of memory.\n",
    "7. All numbers go up in the aggregated version compared to the national model. I would actually expect the opposite, because people aren't spread as homogenic as before. What is going on? This must be **the effect of the normalisation** ...but wouldn't this give the opposite effect? $z_i \\times f$ is of the order $0.5 \\times 1.5$ which brings *down* the infectivity, which lowers the probability of being infected in a patch $g$. So if anything, I would expect the time series to be smaller than on the national level.\n",
    "8. How do I implement multiple policy changes?\n",
    "9. In the deterministic model, the integrate function outputs the *change* in the state, while in the stochastic model it returns the new values. That is very weird, right?\n",
    "    * This is the nature of the `Discrete = True` statement in the model initialisation\n",
    "10. ~~Issue with the integration in the determinstic spatial model: the input for the initial value problem has too many dimension: ``y0 must be 1-dimensional``.~~\n",
    "11. The deterministic model "
   ]
  },
  {
   "cell_type": "markdown",
   "metadata": {},
   "source": [
    "# Load packages"
   ]
  },
  {
   "cell_type": "code",
   "execution_count": 13,
   "metadata": {
    "ExecuteTime": {
     "end_time": "2020-11-10T09:22:40.957370Z",
     "start_time": "2020-11-10T09:22:40.502645Z"
    }
   },
   "outputs": [
    {
     "name": "stdout",
     "output_type": "stream",
     "text": [
      "The autoreload extension is already loaded. To reload it, use:\n",
      "  %reload_ext autoreload\n"
     ]
    }
   ],
   "source": [
    "# Established packages\n",
    "import os\n",
    "import numpy as np\n",
    "import pandas as pd\n",
    "import geopandas as gp\n",
    "import datetime\n",
    "import math\n",
    "import xarray as xr # labels in the form of dimensions, coordinates and attributes\n",
    "import matplotlib.pyplot as plt\n",
    "import zarr\n",
    "\n",
    "# Custom package covid19model\n",
    "from covid19model.models import models\n",
    "from covid19model.models.utils import name2nis, save_sim, open_sim\n",
    "from covid19model.data import model_parameters #, sciensano, google\n",
    "from covid19model.visualization.output import population_status, infected, show_map, show_graphs\n",
    "from covid19model.models.time_dependant_parameter_fncs import social_policy_func\n",
    "\n",
    "\n",
    "# Load different geographical aggregations\n",
    "maps_dir = '../data/raw/geopandas/BE/'\n",
    "\n",
    "country = gp.read_file(os.path.join(maps_dir, 'AD_6_Country.shp'))\n",
    "regions = gp.read_file(os.path.join(maps_dir, 'AD_5_Region.shp'))\n",
    "provinces = gp.read_file(os.path.join(maps_dir, 'AD_4_Province.shp'))\n",
    "arrondissements = gp.read_file(os.path.join(maps_dir, 'AD_3_District.shp'))\n",
    "municipalities = gp.read_file(os.path.join(maps_dir, 'AD_2_Municipality.shp'))\n",
    "testgeo = arrondissements.loc[arrondissements['NISCode'].isin(['11000', '21000', '44000'])].reset_index(drop=True)\n",
    "# Add NIS-code to Arrondissement Brussel-Hoofdstad\n",
    "provinces.loc[provinces['NISCode']=='NA', 'NISCode'] = '21000'\n",
    "\n",
    "\n",
    "# OPTIONAL: Load the \"autoreload\" extension so that package code can change\n",
    "%load_ext autoreload\n",
    "# OPTIONAL: always reload modules so that as you change code in src, it gets loaded\n",
    "# This may be useful because the `covid19model` package is under construction\n",
    "%autoreload 2"
   ]
  },
  {
   "cell_type": "markdown",
   "metadata": {},
   "source": [
    "# Content and initialisation"
   ]
  },
  {
   "cell_type": "markdown",
   "metadata": {
    "heading_collapsed": true
   },
   "source": [
    "## Oversight of various model conditions"
   ]
  },
  {
   "cell_type": "markdown",
   "metadata": {
    "hidden": true
   },
   "source": [
    "Any of the conditions below are implemented for both the spatial and the national stochastic SEIRD-extended model.\n",
    "\n",
    "**Initial conditions**\n",
    "1. One exposed person on day 0. With some spatial variation:  \n",
    "    1. On the far southeast side of the country  \n",
    "    2. On the far northwest side of the country  \n",
    "    3. In Brussels  \n",
    "2. Fifty exposed people on day 0, same spatial variation\n",
    "3. Only asymptomatic people instead of exposed people\n",
    "4. Only presymptomatic people instead of exposed people\n",
    "5. No mobility whatsoever (sanity check, can only be done in spatial model)\n",
    "\n",
    "**Measures**\n",
    "1. Decrease overall contact parameter: type of contact stays the same, but the frequency is lowered\n",
    "2. Change *type* of contact: only remain home contact (but note that this does not mean that families are isolated!)\n",
    "3. Decrease mobility between cities (can only be done in spatial model)\n",
    "4. Vaccination: migrate the number of Susceptible straight to the Recovered category\n",
    "\n",
    "**Spatial levels**\n",
    "1. 'Test' level: only arrondissements Antwerpen, Brussel, Gent\n",
    "2. Arrondissement level: 43 arrondissements\n",
    "3. Province level: 10+1 provinces\n",
    "4. National level: no spatial stratification"
   ]
  },
  {
   "cell_type": "markdown",
   "metadata": {
    "ExecuteTime": {
     "end_time": "2020-10-13T11:56:07.806112Z",
     "start_time": "2020-10-13T11:56:07.750938Z"
    },
    "heading_collapsed": true
   },
   "source": [
    "## Initialisation of common parameters"
   ]
  },
  {
   "cell_type": "code",
   "execution_count": 3,
   "metadata": {
    "ExecuteTime": {
     "end_time": "2020-11-10T09:11:19.380912Z",
     "start_time": "2020-11-10T09:11:19.319622Z"
    },
    "hidden": true
   },
   "outputs": [],
   "source": [
    "# ---------------------------- #\n",
    "# Choose simulation parameters #\n",
    "# ---------------------------- #\n",
    "\n",
    "# Note that a high number of simulations is computationally expensive, especially for high spatial stratification\n",
    "sim_number = 100\n",
    "days_number = 100\n",
    "\n",
    "# Policy values (for more details on nature of measures, see block below)\n",
    "policy_time = 40 # Must be smaller than days_number\n",
    "tau = 5 # days until new measures show some effect\n",
    "l = 5 # days since policy_time + tau until new measures show full effect"
   ]
  },
  {
   "cell_type": "markdown",
   "metadata": {},
   "source": [
    "# Sanity check: correspondence between spatial model and national model"
   ]
  },
  {
   "cell_type": "markdown",
   "metadata": {},
   "source": [
    "Below we load *a single exposed 35 year old individual* in every arrondissement (43 exposed people). We compare the resulting time series with those from simulations from the model stratified per province (4 per province+Bxl), and from the national model (43 in Belgium). Ideally, these should show identical dynamics.\n",
    "\n",
    "**Results**\n",
    "1. The simulations on province level and on arrondissement level are virtually identical.\n",
    "2. The national model predicts gives many *fewer* hospitalisations.\n",
    "\n",
    "**Discussion**\n",
    "1. It is still unclear what the prefactors $f_i$ and $z_i$ mean. These influence the effective $\\beta$, hence influencing the speed of the infection.\n",
    "2. Currently $\\beta$ is effectively *smaller* for the spatial model, so I don't understand why the infection spreads faster than in the national model\n",
    "3. Perhaps I should spread the infected people out more according to population density (so more in Brussels and fewer in Arlon)\n",
    "\n",
    "**Save simulation results in zarr**"
   ]
  },
  {
   "cell_type": "code",
   "execution_count": 4,
   "metadata": {
    "ExecuteTime": {
     "end_time": "2020-11-10T09:11:25.210893Z",
     "start_time": "2020-11-10T09:11:25.144039Z"
    }
   },
   "outputs": [],
   "source": [
    "# Name of the zarr directory in which the simulations are to be saved\n",
    "zarr_dir = '../data/simulated/'\n",
    "zarr_name = \"Sanity-check_\" + str(sim_number) + \"sims_\" + str(days_number) + \\\n",
    "                    \"days_\" + \"Nctot-to-Nchome-day\" + str(policy_time) + '.zarr'\n",
    "\n",
    "zarr = zarr_dir + '/' + zarr_name"
   ]
  },
  {
   "cell_type": "markdown",
   "metadata": {},
   "source": [
    "## Spatial model on arrondissement level"
   ]
  },
  {
   "cell_type": "markdown",
   "metadata": {},
   "source": [
    "### Prepare the simulation"
   ]
  },
  {
   "cell_type": "code",
   "execution_count": 5,
   "metadata": {
    "ExecuteTime": {
     "end_time": "2020-11-10T09:12:27.583703Z",
     "start_time": "2020-11-10T09:12:27.224097Z"
    }
   },
   "outputs": [],
   "source": [
    "# Name of the zarr gropu in which this particular simulation is or will be saved\n",
    "group = \"arr_1E-per-arr\"\n",
    "\n",
    "# Load parameters and interaction matrices\n",
    "age_str = True\n",
    "spatial_str = 'arr'\n",
    "intensity='all'\n",
    "params = model_parameters.get_COVID19_SEIRD_parameters(age_stratified=age_str, spatial=spatial_str)\n",
    "initN, Nc_home, Nc_work, Nc_schools, Nc_transport, Nc_leisure, Nc_others, Nc_total = model_parameters.get_interaction_matrices(intensity=intensity, spatial=spatial_str)\n",
    "\n",
    "# Add social policy parameter values\n",
    "params.update({'l': l,\n",
    "              'tau': tau,\n",
    "              'policy_time' : policy_time})"
   ]
  },
  {
   "cell_type": "code",
   "execution_count": 6,
   "metadata": {
    "ExecuteTime": {
     "end_time": "2020-11-10T09:12:28.430245Z",
     "start_time": "2020-11-10T09:12:28.359513Z"
    },
    "scrolled": true
   },
   "outputs": [],
   "source": [
    "# Define initial conditions\n",
    "\n",
    "# Every arrondissements gets one 35-year-old exposed individual\n",
    "exposed = np.zeros(initN.shape)\n",
    "for arr in exposed:\n",
    "    arr[3] = 1\n",
    "init_states = dict({'S' : initN, 'E' : exposed})\n",
    "\n",
    "# The type of policy change: contact is reduce from everything to home contact (within the arrondissement) only\n",
    "policy1 = Nc_total\n",
    "policy2 = Nc_home\n",
    "params.update({'policy1' : policy1,\n",
    "               'policy2' : policy2})"
   ]
  },
  {
   "cell_type": "code",
   "execution_count": 42,
   "metadata": {
    "ExecuteTime": {
     "end_time": "2020-11-04T15:37:29.119858Z",
     "start_time": "2020-11-04T15:37:29.058111Z"
    }
   },
   "outputs": [],
   "source": [
    "# Load the model\n",
    "model = models.COVID19_SEIRD_sto_spatial(init_states, params, time_dependent_parameters={'Nc' : social_policy_func},\n",
    "                                     discrete=True, spatial='arr')"
   ]
  },
  {
   "cell_type": "markdown",
   "metadata": {
    "heading_collapsed": true
   },
   "source": [
    "### Run and save the simulations - WARNING: computationally expensive (only do once)"
   ]
  },
  {
   "cell_type": "code",
   "execution_count": 43,
   "metadata": {
    "ExecuteTime": {
     "end_time": "2020-11-04T15:37:35.036794Z",
     "start_time": "2020-11-04T15:37:34.977653Z"
    },
    "hidden": true
   },
   "outputs": [],
   "source": [
    "# Group name and output description\n",
    "description = f\"Stochastic spatial SEIRD extended model with {sim_number} \"\\\n",
    "                    f\"parallel simulations in 43 arrondissements over {days_number} days.\"\\\n",
    "                    f\"At day 0 a single exposed person in the age class 30-40 is released in\"\\\n",
    "                    f\"each of the arrondissements. At day {policy_time} measures are imposed, \"\\\n",
    "                    f\"bringing down the contact rate from Nc_total to Nc_home over the course of \"\\\n",
    "                    f\"{tau} + {l} days (tau and l compliance parameters) reaches full effect.\"\n",
    "\n",
    "# Perform simulation (commented out for safety)\n",
    "# WARNING! First check if there isn't already data available for this simulation!\n",
    "# out_sanity_arr = model.sim(days_number, N=sim_number, verbose=True)\n",
    "\n",
    "# Save simulation results\n",
    "# save_sim(out_sanity_arr, zarr, group, descr=description)"
   ]
  },
  {
   "cell_type": "markdown",
   "metadata": {
    "heading_collapsed": true
   },
   "source": [
    "### Inspect the results"
   ]
  },
  {
   "cell_type": "code",
   "execution_count": null,
   "metadata": {
    "ExecuteTime": {
     "end_time": "2020-10-28T11:19:36.576109Z",
     "start_time": "2020-10-28T11:19:36.477865Z"
    },
    "hidden": true
   },
   "outputs": [],
   "source": [
    "# Load the simulation data\n",
    "out_sanity_arr = open_sim(zarr, group, verbose=False)"
   ]
  },
  {
   "cell_type": "code",
   "execution_count": null,
   "metadata": {
    "ExecuteTime": {
     "end_time": "2020-10-28T11:19:56.323063Z",
     "start_time": "2020-10-28T11:19:56.261702Z"
    },
    "hidden": true
   },
   "outputs": [],
   "source": [
    "# Show map of a snapshot and the graphs of the major urban hubs (Antwerp, Brussels, Ghent)\n",
    "day = 60\n",
    "ts_geo = 'E'\n",
    "ts_graph = ['E', 'ICU', 'D']\n",
    "nis = [11000, 21000, 44000]\n",
    "geomap, graphs = show_map(out_sanity_arr, arrondissements, ts_geo=ts_geo, day=day, ts_graph=ts_graph)"
   ]
  },
  {
   "cell_type": "code",
   "execution_count": null,
   "metadata": {
    "ExecuteTime": {
     "end_time": "2020-10-28T11:20:52.286932Z",
     "start_time": "2020-10-28T11:20:52.231077Z"
    },
    "hidden": true
   },
   "outputs": [],
   "source": [
    "figname = \"sanity_arr_50sim_E-Hin-ICU-D.jpg\"\n",
    "graphs = show_graphs(out_sanity_arr, ylim=[30000, 200, 400, 500])#, figname=figname)"
   ]
  },
  {
   "cell_type": "markdown",
   "metadata": {
    "heading_collapsed": true
   },
   "source": [
    "## Spatial model on province level"
   ]
  },
  {
   "cell_type": "markdown",
   "metadata": {
    "heading_collapsed": true,
    "hidden": true
   },
   "source": [
    "### Prepare the simulation"
   ]
  },
  {
   "cell_type": "code",
   "execution_count": null,
   "metadata": {
    "ExecuteTime": {
     "end_time": "2020-10-28T14:01:25.678527Z",
     "start_time": "2020-10-28T14:01:25.417735Z"
    },
    "hidden": true
   },
   "outputs": [],
   "source": [
    "# Name of the zarr gropu in which this particular simulation is or will be saved\n",
    "group = \"prov_4E-per-prov\"\n",
    "\n",
    "# Load parameters and interaction matrices\n",
    "age_str = True\n",
    "spatial_str = 'prov'\n",
    "intensity='all'\n",
    "params = model_parameters.get_COVID19_SEIRD_parameters(age_stratified=age_str, spatial=spatial_str)\n",
    "initN, Nc_home, Nc_work, Nc_schools, Nc_transport, Nc_leisure, Nc_others, Nc_total = model_parameters.get_interaction_matrices(intensity=intensity, spatial=spatial_str)\n",
    "\n",
    "# Add social policy parameter values\n",
    "params.update({'l': l,\n",
    "              'tau': tau,\n",
    "              'policy_time' : policy_time})"
   ]
  },
  {
   "cell_type": "code",
   "execution_count": null,
   "metadata": {
    "ExecuteTime": {
     "end_time": "2020-10-28T14:01:25.945518Z",
     "start_time": "2020-10-28T14:01:25.880467Z"
    },
    "hidden": true
   },
   "outputs": [],
   "source": [
    "# Define initial conditions\n",
    "\n",
    "# Every province gets four 35-year-old exposed individuals\n",
    "exposed = np.zeros(initN.shape)\n",
    "for prov in exposed:\n",
    "    prov[3] = 4\n",
    "init_states = dict({'S' : initN, 'E' : exposed})\n",
    "\n",
    "# The type of policy change: contact is reduce from everything to home contact (within the arrondissement) only\n",
    "policy1 = Nc_total\n",
    "policy2 = Nc_home\n",
    "params.update({'policy1' : policy1,\n",
    "               'policy2' : policy2})"
   ]
  },
  {
   "cell_type": "code",
   "execution_count": null,
   "metadata": {
    "ExecuteTime": {
     "end_time": "2020-10-28T14:01:53.385743Z",
     "start_time": "2020-10-28T14:01:53.320577Z"
    },
    "hidden": true
   },
   "outputs": [],
   "source": [
    "# Load the model\n",
    "model = models.COVID19_SEIRD_sto_spatial(init_states, params, time_dependent_parameters={'Nc' : social_policy_func},\n",
    "                                     discrete=True, spatial='prov')"
   ]
  },
  {
   "cell_type": "markdown",
   "metadata": {
    "heading_collapsed": true,
    "hidden": true
   },
   "source": [
    "### Run and save the simulations - WARNING: computationally expensive (only do once)"
   ]
  },
  {
   "cell_type": "code",
   "execution_count": null,
   "metadata": {
    "ExecuteTime": {
     "end_time": "2020-10-28T14:02:05.604396Z",
     "start_time": "2020-10-28T14:01:57.575340Z"
    },
    "hidden": true
   },
   "outputs": [],
   "source": [
    "# Group name and output description\n",
    "description = f\"Stochastic spatial SEIRD extended model with {sim_number} \"\\\n",
    "                    f\"parallel simulations in 10+1 provinces over {days_number} days. \"\\\n",
    "                    f\"At day 0 four exposed people in the age class 30-40 are released in \"\\\n",
    "                    f\"each of the provinces + Brussels-Capital. At day {policy_time} measures are imposed, \"\\\n",
    "                    f\"bringing down the contact rate from Nc_total to Nc_home. Over the course of \"\\\n",
    "                    f\"{tau} + {l} days (tau and l parameters) compliance reaches full effect.\"\n",
    "\n",
    "# Perform simulation (commented out for safety)\n",
    "# WARNING! First check if there isn't already data available for this simulation!\n",
    "# out_sanity_prov = model.sim(days_number, N=sim_number, verbose=True)\n",
    "out_sanity_test = model.sim(days_number, N=3, verbose=True)\n",
    "\n",
    "out_sanity_test\n",
    "\n",
    "# Save simulation results\n",
    "# save_sim(out_sanity_prov, zarr, group, descr=description)"
   ]
  },
  {
   "cell_type": "markdown",
   "metadata": {
    "heading_collapsed": true,
    "hidden": true
   },
   "source": [
    "### Inspect the results"
   ]
  },
  {
   "cell_type": "code",
   "execution_count": null,
   "metadata": {
    "ExecuteTime": {
     "end_time": "2020-10-28T11:36:11.424665Z",
     "start_time": "2020-10-28T11:36:11.309030Z"
    },
    "hidden": true
   },
   "outputs": [],
   "source": [
    "# Load the simulation data\n",
    "out_sanity_prov = open_sim(zarr, group)"
   ]
  },
  {
   "cell_type": "code",
   "execution_count": null,
   "metadata": {
    "ExecuteTime": {
     "end_time": "2020-10-28T11:36:21.115912Z",
     "start_time": "2020-10-28T11:36:21.044938Z"
    },
    "hidden": true
   },
   "outputs": [],
   "source": [
    "# Show map of a snapshot and the graphs of the major urban hubs (Antwerp, Brussels, Ghent)\n",
    "day = 60\n",
    "ts_geo = 'E'\n",
    "ts_graph = ['E', 'ICU', 'D']\n",
    "nis = [10000, 21000, 40000]\n",
    "geomap, graphs = show_map(out_sanity_prov, provinces, ts_geo=ts_geo, day=day, ts_graph=ts_graph)"
   ]
  },
  {
   "cell_type": "code",
   "execution_count": null,
   "metadata": {
    "ExecuteTime": {
     "end_time": "2020-10-23T17:38:16.842164Z",
     "start_time": "2020-10-23T17:38:16.105215Z"
    },
    "hidden": true
   },
   "outputs": [],
   "source": [
    "graphs = show_graphs(out_sanity_prov, ylim=[30000, 200, 400, 500], figname=\"sanity_prov_50sim_E-Hin-ICU-D.jpg\")"
   ]
  },
  {
   "cell_type": "markdown",
   "metadata": {},
   "source": [
    "## National model"
   ]
  },
  {
   "cell_type": "markdown",
   "metadata": {
    "heading_collapsed": true
   },
   "source": [
    "### Prepare the simulation"
   ]
  },
  {
   "cell_type": "code",
   "execution_count": null,
   "metadata": {
    "ExecuteTime": {
     "end_time": "2020-10-28T14:12:03.241581Z",
     "start_time": "2020-10-28T14:12:02.952090Z"
    },
    "hidden": true
   },
   "outputs": [],
   "source": [
    "# Name of the zarr gropu in which this particular simulation is or will be saved\n",
    "group = \"nat_43E\"\n",
    "\n",
    "# Load parameters and interaction matrices\n",
    "age_str = True\n",
    "intensity='all'\n",
    "# spatial_str has been left out here\n",
    "params = model_parameters.get_COVID19_SEIRD_parameters(age_stratified=age_str)\n",
    "initN, Nc_home, Nc_work, Nc_schools, Nc_transport, Nc_leisure, Nc_others, Nc_total = model_parameters.get_interaction_matrices(intensity=intensity)\n",
    "\n",
    "# Add social policy parameter values\n",
    "params.update({'l': l,\n",
    "              'tau': tau,\n",
    "              'policy_time' : policy_time})"
   ]
  },
  {
   "cell_type": "code",
   "execution_count": null,
   "metadata": {
    "ExecuteTime": {
     "end_time": "2020-10-28T14:12:05.166676Z",
     "start_time": "2020-10-28T14:12:05.095985Z"
    },
    "hidden": true
   },
   "outputs": [],
   "source": [
    "# Define initial conditions\n",
    "\n",
    "# The entire country gets 43 35-year-old exposed individuals\n",
    "exposed = np.zeros(initN.shape)\n",
    "exposed[3] = 43\n",
    "init_states = dict({'S' : initN, 'E' : exposed})\n",
    "\n",
    "# The type of policy change: contact is reduce from everything to home contact (within the arrondissement) only\n",
    "policy1 = Nc_total\n",
    "policy2 = Nc_home\n",
    "params.update({'policy1' : policy1,\n",
    "               'policy2' : policy2})"
   ]
  },
  {
   "cell_type": "code",
   "execution_count": null,
   "metadata": {
    "ExecuteTime": {
     "end_time": "2020-10-28T14:12:05.882744Z",
     "start_time": "2020-10-28T14:12:05.815631Z"
    },
    "hidden": true
   },
   "outputs": [],
   "source": [
    "# Load the model\n",
    "model = models.COVID19_SEIRD_sto(init_states, params, time_dependent_parameters={'Nc' : social_policy_func},\n",
    "                                     discrete=True)"
   ]
  },
  {
   "cell_type": "markdown",
   "metadata": {
    "heading_collapsed": true
   },
   "source": [
    "### Run and save the simulations - WARNING: computationally expensive (only do once)"
   ]
  },
  {
   "cell_type": "code",
   "execution_count": null,
   "metadata": {
    "ExecuteTime": {
     "end_time": "2020-10-28T14:12:35.203457Z",
     "start_time": "2020-10-28T14:12:35.095994Z"
    },
    "hidden": true
   },
   "outputs": [],
   "source": [
    "# Group name and output description\n",
    "description = f\"Stochastic national SEIRD extended model with {sim_number} \"\\\n",
    "                    f\"parallel simulations over {days_number} days. \"\\\n",
    "                    f\"At day 0 43 exposed people in the age class 30-40 are released homogeneously distributed \"\\\n",
    "                    f\"over the whole of Belgium. At day {policy_time} measures are imposed, \"\\\n",
    "                    f\"bringing down the contact rate from Nc_total to Nc_home. Over the course of \"\\\n",
    "                    f\"{tau} + {l} days (tau and l parameters) compliance reaches full effect.\"\n",
    "\n",
    "# Perform simulation (commented out for safety)\n",
    "# WARNING! First check if there isn't already data available for this simulation!\n",
    "# out_sanity_nat = model.sim(days_number, N=sim_number, verbose=True)\n",
    "\n",
    "# Save simulation results\n",
    "# save_sim(out_sanity_nat, zarr, group, descr=description)"
   ]
  },
  {
   "cell_type": "markdown",
   "metadata": {},
   "source": [
    "### Inspect the results"
   ]
  },
  {
   "cell_type": "code",
   "execution_count": null,
   "metadata": {
    "ExecuteTime": {
     "end_time": "2020-10-28T11:38:17.201101Z",
     "start_time": "2020-10-28T11:38:17.130838Z"
    }
   },
   "outputs": [],
   "source": [
    "# Load the simulation data\n",
    "out_sanity_nat = open_sim(zarr, group)"
   ]
  },
  {
   "cell_type": "code",
   "execution_count": null,
   "metadata": {
    "ExecuteTime": {
     "end_time": "2020-10-28T11:38:26.461473Z",
     "start_time": "2020-10-28T11:38:25.972511Z"
    }
   },
   "outputs": [],
   "source": [
    "graphs = show_graphs(out_sanity_nat,ylim=[30000, 200, 400, 500])"
   ]
  },
  {
   "cell_type": "markdown",
   "metadata": {
    "heading_collapsed": true
   },
   "source": [
    "# Demonstrating the spatial effect"
   ]
  },
  {
   "cell_type": "markdown",
   "metadata": {
    "hidden": true
   },
   "source": [
    "Here the power of the spatial model is shown by dropping 5 infected patients in 'the middle of nowhere' and seeing how their disease spreads through Belgium.\n",
    "\n",
    "The mean purpose here is to communicate the working of the simulation\n",
    "\n",
    "**Result**  \n",
    "Can be seen as an mp4 in the archives (Downloads folder at the moment)\n",
    "\n",
    "**Discussion**  \n",
    "1. This looks realistic\n",
    "2. Would be interesting to treat these results as mock data and perform data analysis on these\n",
    "3. Arguably more interesting to show the relative impact rather than the absolute impact"
   ]
  },
  {
   "cell_type": "markdown",
   "metadata": {
    "heading_collapsed": true,
    "hidden": true
   },
   "source": [
    "## Prepare the simulation"
   ]
  },
  {
   "cell_type": "code",
   "execution_count": null,
   "metadata": {
    "ExecuteTime": {
     "end_time": "2020-10-22T15:27:15.947900Z",
     "start_time": "2020-10-22T15:27:15.681669Z"
    },
    "hidden": true
   },
   "outputs": [],
   "source": [
    "# Load parameters and interaction matrices\n",
    "age_str = True\n",
    "intensity='all'\n",
    "spatial_str = 'arr'\n",
    "params = model_parameters.get_COVID19_SEIRD_parameters(age_stratified=age_str, spatial=spatial_str)\n",
    "initN, Nc_home, Nc_work, Nc_schools, Nc_transport, Nc_leisure, Nc_others, Nc_total = model_parameters.get_interaction_matrices(intensity=intensity, spatial=spatial_str)\n",
    "\n",
    "# Add social policy parameter values\n",
    "params.update({'l': l,\n",
    "              'tau': tau,\n",
    "              'policy_time' : policy_time})"
   ]
  },
  {
   "cell_type": "code",
   "execution_count": null,
   "metadata": {
    "ExecuteTime": {
     "end_time": "2020-10-22T15:27:18.153595Z",
     "start_time": "2020-10-22T15:27:18.085503Z"
    },
    "hidden": true
   },
   "outputs": [],
   "source": [
    "# Define initial conditions\n",
    "\n",
    "# Put 5 35 year-old exposed people in Arlon (index 35)\n",
    "exposed = np.zeros(initN.shape)\n",
    "exposed[35,3] = 5\n",
    "init_states = dict({'S' : initN, 'E' : exposed})\n",
    "\n",
    "# The type of policy change: contact is reduce from everything to home contact (within the arrondissement) only\n",
    "policy1 = Nc_total\n",
    "policy2 = Nc_home\n",
    "params.update({'policy1' : policy1,\n",
    "               'policy2' : policy2})"
   ]
  },
  {
   "cell_type": "code",
   "execution_count": null,
   "metadata": {
    "ExecuteTime": {
     "end_time": "2020-10-22T15:27:18.715766Z",
     "start_time": "2020-10-22T15:27:18.655845Z"
    },
    "hidden": true
   },
   "outputs": [],
   "source": [
    "# Load the model\n",
    "model = models.COVID19_SEIRD_sto_spatial(init_states, params, time_dependent_parameters={'Nc' : social_policy_func},\n",
    "                                     discrete=True)"
   ]
  },
  {
   "cell_type": "markdown",
   "metadata": {
    "heading_collapsed": true,
    "hidden": true
   },
   "source": [
    "## Run the simulation - Warning: computationally expensive"
   ]
  },
  {
   "cell_type": "code",
   "execution_count": null,
   "metadata": {
    "ExecuteTime": {
     "end_time": "2020-10-22T15:30:01.488743Z",
     "start_time": "2020-10-22T15:27:21.620817Z"
    },
    "hidden": true
   },
   "outputs": [],
   "source": [
    "# Commented out for safety\n",
    "\n",
    "out_demo_arr = model.sim(days_number, N=sim_number, verbose=True)"
   ]
  },
  {
   "cell_type": "markdown",
   "metadata": {
    "heading_collapsed": true,
    "hidden": true
   },
   "source": [
    "## Inspect the results"
   ]
  },
  {
   "cell_type": "code",
   "execution_count": null,
   "metadata": {
    "ExecuteTime": {
     "end_time": "2020-10-22T15:36:19.390049Z",
     "start_time": "2020-10-22T15:33:40.987222Z"
    },
    "hidden": true
   },
   "outputs": [],
   "source": [
    "# Make a video: see archives\n",
    "\n",
    "ts_geo = 'E'\n",
    "ts_graph = ['E', 'ICU', 'D']\n",
    "nis = [81000, 21000, 31000] # Arlon, Brussel, Brugge\n",
    "\n",
    "# Commented out for safety\n",
    "\n",
    "# for day in range(days_number+1):\n",
    "#     figname = f\"demo_arr_5-35-yo_81000_day{day}.jpg\"\n",
    "#     maps, graphs = show_map(out_demo_arr, arrondissements, ts_geo=ts_geo, day=day, ts_graph=ts_graph, figname=figname)"
   ]
  },
  {
   "cell_type": "markdown",
   "metadata": {
    "hidden": true
   },
   "source": [
    "## Plotting in graph"
   ]
  },
  {
   "cell_type": "markdown",
   "metadata": {},
   "source": [
    "# Deterministic model explorations"
   ]
  },
  {
   "cell_type": "markdown",
   "metadata": {},
   "source": [
    "--Pay attention!-- `Discrete` must be `False` in this case!"
   ]
  },
  {
   "cell_type": "markdown",
   "metadata": {},
   "source": [
    "## National deterministic"
   ]
  },
  {
   "cell_type": "code",
   "execution_count": 82,
   "metadata": {
    "ExecuteTime": {
     "end_time": "2020-11-10T11:01:35.017028Z",
     "start_time": "2020-11-10T11:01:34.759222Z"
    }
   },
   "outputs": [],
   "source": [
    "# Load parameters and interaction matrices\n",
    "age_str = True\n",
    "spatial_str = None\n",
    "intensity='all'\n",
    "\n",
    "params = model_parameters.get_COVID19_SEIRD_parameters(age_stratified=age_str)\n",
    "initN, Nc_home, Nc_work, Nc_schools, Nc_transport, Nc_leisure, Nc_others, Nc_total = model_parameters.get_interaction_matrices(intensity=intensity)\n",
    "\n",
    "days_number = 100\n",
    "\n",
    "# Policy values (for more details on nature of measures, see block below)\n",
    "policy_time = 40 # Must be smaller than days_number\n",
    "tau = 5 # days until new measures show some effect\n",
    "l = 5 # days since policy_time + tau until new measures show full effect"
   ]
  },
  {
   "cell_type": "code",
   "execution_count": 83,
   "metadata": {
    "ExecuteTime": {
     "end_time": "2020-11-10T11:01:35.080207Z",
     "start_time": "2020-11-10T11:01:35.018029Z"
    }
   },
   "outputs": [],
   "source": [
    "# Define initial conditions\n",
    "\n",
    "# Drop ten exposed 35-year-olds\n",
    "exposed = np.zeros(initN.shape)\n",
    "exposed[3] = 43\n",
    "\n",
    "init_states = dict({'S' : initN, 'E' : exposed})\n",
    "\n",
    "# The type of policy change: contact is reduce from everything to home contact (within the arrondissement) only\n",
    "policy1 = Nc_total\n",
    "policy2 = Nc_home\n",
    "params.update({'policy1' : policy1,\n",
    "               'policy2' : policy2})\n",
    "\n",
    "# Add social policy parameter values\n",
    "params.update({'l': l,\n",
    "              'tau': tau,\n",
    "              'policy_time' : policy_time})"
   ]
  },
  {
   "cell_type": "code",
   "execution_count": 84,
   "metadata": {
    "ExecuteTime": {
     "end_time": "2020-11-10T11:01:35.190019Z",
     "start_time": "2020-11-10T11:01:35.127140Z"
    }
   },
   "outputs": [],
   "source": [
    "# Load the model\n",
    "model = models.COVID19_SEIRD(init_states, params, time_dependent_parameters={'Nc' : social_policy_func},\n",
    "                                     discrete=False, spatial=spatial_str)"
   ]
  },
  {
   "cell_type": "code",
   "execution_count": 92,
   "metadata": {
    "ExecuteTime": {
     "end_time": "2020-11-10T11:17:11.871463Z",
     "start_time": "2020-11-10T11:17:11.798623Z"
    }
   },
   "outputs": [
    {
     "data": {
      "text/html": [
       "<div><svg style=\"position: absolute; width: 0; height: 0; overflow: hidden\">\n",
       "<defs>\n",
       "<symbol id=\"icon-database\" viewBox=\"0 0 32 32\">\n",
       "<path d=\"M16 0c-8.837 0-16 2.239-16 5v4c0 2.761 7.163 5 16 5s16-2.239 16-5v-4c0-2.761-7.163-5-16-5z\"></path>\n",
       "<path d=\"M16 17c-8.837 0-16-2.239-16-5v6c0 2.761 7.163 5 16 5s16-2.239 16-5v-6c0 2.761-7.163 5-16 5z\"></path>\n",
       "<path d=\"M16 26c-8.837 0-16-2.239-16-5v6c0 2.761 7.163 5 16 5s16-2.239 16-5v-6c0 2.761-7.163 5-16 5z\"></path>\n",
       "</symbol>\n",
       "<symbol id=\"icon-file-text2\" viewBox=\"0 0 32 32\">\n",
       "<path d=\"M28.681 7.159c-0.694-0.947-1.662-2.053-2.724-3.116s-2.169-2.030-3.116-2.724c-1.612-1.182-2.393-1.319-2.841-1.319h-15.5c-1.378 0-2.5 1.121-2.5 2.5v27c0 1.378 1.122 2.5 2.5 2.5h23c1.378 0 2.5-1.122 2.5-2.5v-19.5c0-0.448-0.137-1.23-1.319-2.841zM24.543 5.457c0.959 0.959 1.712 1.825 2.268 2.543h-4.811v-4.811c0.718 0.556 1.584 1.309 2.543 2.268zM28 29.5c0 0.271-0.229 0.5-0.5 0.5h-23c-0.271 0-0.5-0.229-0.5-0.5v-27c0-0.271 0.229-0.5 0.5-0.5 0 0 15.499-0 15.5 0v7c0 0.552 0.448 1 1 1h7v19.5z\"></path>\n",
       "<path d=\"M23 26h-14c-0.552 0-1-0.448-1-1s0.448-1 1-1h14c0.552 0 1 0.448 1 1s-0.448 1-1 1z\"></path>\n",
       "<path d=\"M23 22h-14c-0.552 0-1-0.448-1-1s0.448-1 1-1h14c0.552 0 1 0.448 1 1s-0.448 1-1 1z\"></path>\n",
       "<path d=\"M23 18h-14c-0.552 0-1-0.448-1-1s0.448-1 1-1h14c0.552 0 1 0.448 1 1s-0.448 1-1 1z\"></path>\n",
       "</symbol>\n",
       "</defs>\n",
       "</svg>\n",
       "<style>/* CSS stylesheet for displaying xarray objects in jupyterlab.\n",
       " *\n",
       " */\n",
       "\n",
       ":root {\n",
       "  --xr-font-color0: var(--jp-content-font-color0, rgba(0, 0, 0, 1));\n",
       "  --xr-font-color2: var(--jp-content-font-color2, rgba(0, 0, 0, 0.54));\n",
       "  --xr-font-color3: var(--jp-content-font-color3, rgba(0, 0, 0, 0.38));\n",
       "  --xr-border-color: var(--jp-border-color2, #e0e0e0);\n",
       "  --xr-disabled-color: var(--jp-layout-color3, #bdbdbd);\n",
       "  --xr-background-color: var(--jp-layout-color0, white);\n",
       "  --xr-background-color-row-even: var(--jp-layout-color1, white);\n",
       "  --xr-background-color-row-odd: var(--jp-layout-color2, #eeeeee);\n",
       "}\n",
       "\n",
       "html[theme=dark],\n",
       "body.vscode-dark {\n",
       "  --xr-font-color0: rgba(255, 255, 255, 1);\n",
       "  --xr-font-color2: rgba(255, 255, 255, 0.54);\n",
       "  --xr-font-color3: rgba(255, 255, 255, 0.38);\n",
       "  --xr-border-color: #1F1F1F;\n",
       "  --xr-disabled-color: #515151;\n",
       "  --xr-background-color: #111111;\n",
       "  --xr-background-color-row-even: #111111;\n",
       "  --xr-background-color-row-odd: #313131;\n",
       "}\n",
       "\n",
       ".xr-wrap {\n",
       "  display: block;\n",
       "  min-width: 300px;\n",
       "  max-width: 700px;\n",
       "}\n",
       "\n",
       ".xr-text-repr-fallback {\n",
       "  /* fallback to plain text repr when CSS is not injected (untrusted notebook) */\n",
       "  display: none;\n",
       "}\n",
       "\n",
       ".xr-header {\n",
       "  padding-top: 6px;\n",
       "  padding-bottom: 6px;\n",
       "  margin-bottom: 4px;\n",
       "  border-bottom: solid 1px var(--xr-border-color);\n",
       "}\n",
       "\n",
       ".xr-header > div,\n",
       ".xr-header > ul {\n",
       "  display: inline;\n",
       "  margin-top: 0;\n",
       "  margin-bottom: 0;\n",
       "}\n",
       "\n",
       ".xr-obj-type,\n",
       ".xr-array-name {\n",
       "  margin-left: 2px;\n",
       "  margin-right: 10px;\n",
       "}\n",
       "\n",
       ".xr-obj-type {\n",
       "  color: var(--xr-font-color2);\n",
       "}\n",
       "\n",
       ".xr-sections {\n",
       "  padding-left: 0 !important;\n",
       "  display: grid;\n",
       "  grid-template-columns: 150px auto auto 1fr 20px 20px;\n",
       "}\n",
       "\n",
       ".xr-section-item {\n",
       "  display: contents;\n",
       "}\n",
       "\n",
       ".xr-section-item input {\n",
       "  display: none;\n",
       "}\n",
       "\n",
       ".xr-section-item input + label {\n",
       "  color: var(--xr-disabled-color);\n",
       "}\n",
       "\n",
       ".xr-section-item input:enabled + label {\n",
       "  cursor: pointer;\n",
       "  color: var(--xr-font-color2);\n",
       "}\n",
       "\n",
       ".xr-section-item input:enabled + label:hover {\n",
       "  color: var(--xr-font-color0);\n",
       "}\n",
       "\n",
       ".xr-section-summary {\n",
       "  grid-column: 1;\n",
       "  color: var(--xr-font-color2);\n",
       "  font-weight: 500;\n",
       "}\n",
       "\n",
       ".xr-section-summary > span {\n",
       "  display: inline-block;\n",
       "  padding-left: 0.5em;\n",
       "}\n",
       "\n",
       ".xr-section-summary-in:disabled + label {\n",
       "  color: var(--xr-font-color2);\n",
       "}\n",
       "\n",
       ".xr-section-summary-in + label:before {\n",
       "  display: inline-block;\n",
       "  content: '►';\n",
       "  font-size: 11px;\n",
       "  width: 15px;\n",
       "  text-align: center;\n",
       "}\n",
       "\n",
       ".xr-section-summary-in:disabled + label:before {\n",
       "  color: var(--xr-disabled-color);\n",
       "}\n",
       "\n",
       ".xr-section-summary-in:checked + label:before {\n",
       "  content: '▼';\n",
       "}\n",
       "\n",
       ".xr-section-summary-in:checked + label > span {\n",
       "  display: none;\n",
       "}\n",
       "\n",
       ".xr-section-summary,\n",
       ".xr-section-inline-details {\n",
       "  padding-top: 4px;\n",
       "  padding-bottom: 4px;\n",
       "}\n",
       "\n",
       ".xr-section-inline-details {\n",
       "  grid-column: 2 / -1;\n",
       "}\n",
       "\n",
       ".xr-section-details {\n",
       "  display: none;\n",
       "  grid-column: 1 / -1;\n",
       "  margin-bottom: 5px;\n",
       "}\n",
       "\n",
       ".xr-section-summary-in:checked ~ .xr-section-details {\n",
       "  display: contents;\n",
       "}\n",
       "\n",
       ".xr-array-wrap {\n",
       "  grid-column: 1 / -1;\n",
       "  display: grid;\n",
       "  grid-template-columns: 20px auto;\n",
       "}\n",
       "\n",
       ".xr-array-wrap > label {\n",
       "  grid-column: 1;\n",
       "  vertical-align: top;\n",
       "}\n",
       "\n",
       ".xr-preview {\n",
       "  color: var(--xr-font-color3);\n",
       "}\n",
       "\n",
       ".xr-array-preview,\n",
       ".xr-array-data {\n",
       "  padding: 0 5px !important;\n",
       "  grid-column: 2;\n",
       "}\n",
       "\n",
       ".xr-array-data,\n",
       ".xr-array-in:checked ~ .xr-array-preview {\n",
       "  display: none;\n",
       "}\n",
       "\n",
       ".xr-array-in:checked ~ .xr-array-data,\n",
       ".xr-array-preview {\n",
       "  display: inline-block;\n",
       "}\n",
       "\n",
       ".xr-dim-list {\n",
       "  display: inline-block !important;\n",
       "  list-style: none;\n",
       "  padding: 0 !important;\n",
       "  margin: 0;\n",
       "}\n",
       "\n",
       ".xr-dim-list li {\n",
       "  display: inline-block;\n",
       "  padding: 0;\n",
       "  margin: 0;\n",
       "}\n",
       "\n",
       ".xr-dim-list:before {\n",
       "  content: '(';\n",
       "}\n",
       "\n",
       ".xr-dim-list:after {\n",
       "  content: ')';\n",
       "}\n",
       "\n",
       ".xr-dim-list li:not(:last-child):after {\n",
       "  content: ',';\n",
       "  padding-right: 5px;\n",
       "}\n",
       "\n",
       ".xr-has-index {\n",
       "  font-weight: bold;\n",
       "}\n",
       "\n",
       ".xr-var-list,\n",
       ".xr-var-item {\n",
       "  display: contents;\n",
       "}\n",
       "\n",
       ".xr-var-item > div,\n",
       ".xr-var-item label,\n",
       ".xr-var-item > .xr-var-name span {\n",
       "  background-color: var(--xr-background-color-row-even);\n",
       "  margin-bottom: 0;\n",
       "}\n",
       "\n",
       ".xr-var-item > .xr-var-name:hover span {\n",
       "  padding-right: 5px;\n",
       "}\n",
       "\n",
       ".xr-var-list > li:nth-child(odd) > div,\n",
       ".xr-var-list > li:nth-child(odd) > label,\n",
       ".xr-var-list > li:nth-child(odd) > .xr-var-name span {\n",
       "  background-color: var(--xr-background-color-row-odd);\n",
       "}\n",
       "\n",
       ".xr-var-name {\n",
       "  grid-column: 1;\n",
       "}\n",
       "\n",
       ".xr-var-dims {\n",
       "  grid-column: 2;\n",
       "}\n",
       "\n",
       ".xr-var-dtype {\n",
       "  grid-column: 3;\n",
       "  text-align: right;\n",
       "  color: var(--xr-font-color2);\n",
       "}\n",
       "\n",
       ".xr-var-preview {\n",
       "  grid-column: 4;\n",
       "}\n",
       "\n",
       ".xr-var-name,\n",
       ".xr-var-dims,\n",
       ".xr-var-dtype,\n",
       ".xr-preview,\n",
       ".xr-attrs dt {\n",
       "  white-space: nowrap;\n",
       "  overflow: hidden;\n",
       "  text-overflow: ellipsis;\n",
       "  padding-right: 10px;\n",
       "}\n",
       "\n",
       ".xr-var-name:hover,\n",
       ".xr-var-dims:hover,\n",
       ".xr-var-dtype:hover,\n",
       ".xr-attrs dt:hover {\n",
       "  overflow: visible;\n",
       "  width: auto;\n",
       "  z-index: 1;\n",
       "}\n",
       "\n",
       ".xr-var-attrs,\n",
       ".xr-var-data {\n",
       "  display: none;\n",
       "  background-color: var(--xr-background-color) !important;\n",
       "  padding-bottom: 5px !important;\n",
       "}\n",
       "\n",
       ".xr-var-attrs-in:checked ~ .xr-var-attrs,\n",
       ".xr-var-data-in:checked ~ .xr-var-data {\n",
       "  display: block;\n",
       "}\n",
       "\n",
       ".xr-var-data > table {\n",
       "  float: right;\n",
       "}\n",
       "\n",
       ".xr-var-name span,\n",
       ".xr-var-data,\n",
       ".xr-attrs {\n",
       "  padding-left: 25px !important;\n",
       "}\n",
       "\n",
       ".xr-attrs,\n",
       ".xr-var-attrs,\n",
       ".xr-var-data {\n",
       "  grid-column: 1 / -1;\n",
       "}\n",
       "\n",
       "dl.xr-attrs {\n",
       "  padding: 0;\n",
       "  margin: 0;\n",
       "  display: grid;\n",
       "  grid-template-columns: 125px auto;\n",
       "}\n",
       "\n",
       ".xr-attrs dt, dd {\n",
       "  padding: 0;\n",
       "  margin: 0;\n",
       "  float: left;\n",
       "  padding-right: 10px;\n",
       "  width: auto;\n",
       "}\n",
       "\n",
       ".xr-attrs dt {\n",
       "  font-weight: normal;\n",
       "  grid-column: 1;\n",
       "}\n",
       "\n",
       ".xr-attrs dt:hover span {\n",
       "  display: inline-block;\n",
       "  background: var(--xr-background-color);\n",
       "  padding-right: 10px;\n",
       "}\n",
       "\n",
       ".xr-attrs dd {\n",
       "  grid-column: 2;\n",
       "  white-space: pre-wrap;\n",
       "  word-break: break-all;\n",
       "}\n",
       "\n",
       ".xr-icon-database,\n",
       ".xr-icon-file-text2 {\n",
       "  display: inline-block;\n",
       "  vertical-align: middle;\n",
       "  width: 1em;\n",
       "  height: 1.5em !important;\n",
       "  stroke-width: 0;\n",
       "  stroke: currentColor;\n",
       "  fill: currentColor;\n",
       "}\n",
       "</style><pre class='xr-text-repr-fallback'>&lt;xarray.DataArray &#x27;E&#x27; (time: 101)&gt;\n",
       "array([4.30000000e+01, 3.48262227e+01, 3.38368078e+01, 3.69817457e+01,\n",
       "       4.27947565e+01, 5.06348336e+01, 6.03231766e+01, 7.18945150e+01,\n",
       "       8.55719917e+01, 1.01694781e+02, 1.20633086e+02, 1.42921412e+02,\n",
       "       1.69177254e+02, 2.00096661e+02, 2.36520399e+02, 2.79455799e+02,\n",
       "       3.30097779e+02, 3.89847258e+02, 4.60312802e+02, 5.43424931e+02,\n",
       "       6.41481110e+02, 7.57183662e+02, 8.93704688e+02, 1.05478142e+03,\n",
       "       1.24484063e+03, 1.46910885e+03, 1.73372816e+03, 2.04590839e+03,\n",
       "       2.41424773e+03, 2.84883440e+03, 3.36149763e+03, 3.96614656e+03,\n",
       "       4.67937802e+03, 5.52059614e+03, 6.51252742e+03, 7.68192529e+03,\n",
       "       9.06048387e+03, 1.06853097e+04, 1.25994660e+04, 1.48540524e+04,\n",
       "       1.75091418e+04, 2.06339388e+04, 2.43088911e+04, 2.86295934e+04,\n",
       "       3.36744249e+04, 3.95213837e+04, 4.48310041e+04, 4.75469459e+04,\n",
       "       4.72942561e+04, 4.38602461e+04, 3.68960327e+04, 2.94984152e+04,\n",
       "       2.41794683e+04, 2.02034896e+04, 1.71658255e+04, 1.48110751e+04,\n",
       "       1.29414541e+04, 1.14334963e+04, 1.01964050e+04, 9.15308959e+03,\n",
       "       8.26490686e+03, 7.50146423e+03, 6.83122084e+03, 6.23498322e+03,\n",
       "       5.70502171e+03, 5.23169684e+03, 4.80343405e+03, 4.41277804e+03,\n",
       "       4.05733431e+03, 3.73291998e+03, 3.43613674e+03, 3.16423020e+03,\n",
       "       2.91471807e+03, 2.68553431e+03, 2.47489496e+03, 2.28113158e+03,\n",
       "       2.10278408e+03, 1.93859683e+03, 1.78739498e+03, 1.64809711e+03,\n",
       "       1.51975177e+03, 1.40148345e+03, 1.29247942e+03, 1.19200202e+03,\n",
       "       1.09937972e+03, 1.01398994e+03, 9.35261414e+02, 8.62671790e+02,\n",
       "       7.95738048e+02, 7.34016282e+02, 6.77099041e+02, 6.24609550e+02,\n",
       "       5.76201486e+02, 5.31556845e+02, 4.90381155e+02, 4.52403177e+02,\n",
       "       4.17374574e+02, 3.85065353e+02, 3.55262969e+02, 3.27772561e+02,\n",
       "       3.02414254e+02])\n",
       "Coordinates:\n",
       "  * time     (time) int32 0 1 2 3 4 5 6 7 8 9 ... 91 92 93 94 95 96 97 98 99 100</pre><div class='xr-wrap' hidden><div class='xr-header'><div class='xr-obj-type'>xarray.DataArray</div><div class='xr-array-name'>'E'</div><ul class='xr-dim-list'><li><span class='xr-has-index'>time</span>: 101</li></ul></div><ul class='xr-sections'><li class='xr-section-item'><div class='xr-array-wrap'><input id='section-8f041c8e-1b24-4986-8f7e-5ba2980a7996' class='xr-array-in' type='checkbox' checked><label for='section-8f041c8e-1b24-4986-8f7e-5ba2980a7996' title='Show/hide data repr'><svg class='icon xr-icon-database'><use xlink:href='#icon-database'></use></svg></label><div class='xr-array-preview xr-preview'><span>43.0 34.83 33.84 36.98 42.79 50.63 ... 417.4 385.1 355.3 327.8 302.4</span></div><div class='xr-array-data'><pre>array([4.30000000e+01, 3.48262227e+01, 3.38368078e+01, 3.69817457e+01,\n",
       "       4.27947565e+01, 5.06348336e+01, 6.03231766e+01, 7.18945150e+01,\n",
       "       8.55719917e+01, 1.01694781e+02, 1.20633086e+02, 1.42921412e+02,\n",
       "       1.69177254e+02, 2.00096661e+02, 2.36520399e+02, 2.79455799e+02,\n",
       "       3.30097779e+02, 3.89847258e+02, 4.60312802e+02, 5.43424931e+02,\n",
       "       6.41481110e+02, 7.57183662e+02, 8.93704688e+02, 1.05478142e+03,\n",
       "       1.24484063e+03, 1.46910885e+03, 1.73372816e+03, 2.04590839e+03,\n",
       "       2.41424773e+03, 2.84883440e+03, 3.36149763e+03, 3.96614656e+03,\n",
       "       4.67937802e+03, 5.52059614e+03, 6.51252742e+03, 7.68192529e+03,\n",
       "       9.06048387e+03, 1.06853097e+04, 1.25994660e+04, 1.48540524e+04,\n",
       "       1.75091418e+04, 2.06339388e+04, 2.43088911e+04, 2.86295934e+04,\n",
       "       3.36744249e+04, 3.95213837e+04, 4.48310041e+04, 4.75469459e+04,\n",
       "       4.72942561e+04, 4.38602461e+04, 3.68960327e+04, 2.94984152e+04,\n",
       "       2.41794683e+04, 2.02034896e+04, 1.71658255e+04, 1.48110751e+04,\n",
       "       1.29414541e+04, 1.14334963e+04, 1.01964050e+04, 9.15308959e+03,\n",
       "       8.26490686e+03, 7.50146423e+03, 6.83122084e+03, 6.23498322e+03,\n",
       "       5.70502171e+03, 5.23169684e+03, 4.80343405e+03, 4.41277804e+03,\n",
       "       4.05733431e+03, 3.73291998e+03, 3.43613674e+03, 3.16423020e+03,\n",
       "       2.91471807e+03, 2.68553431e+03, 2.47489496e+03, 2.28113158e+03,\n",
       "       2.10278408e+03, 1.93859683e+03, 1.78739498e+03, 1.64809711e+03,\n",
       "       1.51975177e+03, 1.40148345e+03, 1.29247942e+03, 1.19200202e+03,\n",
       "       1.09937972e+03, 1.01398994e+03, 9.35261414e+02, 8.62671790e+02,\n",
       "       7.95738048e+02, 7.34016282e+02, 6.77099041e+02, 6.24609550e+02,\n",
       "       5.76201486e+02, 5.31556845e+02, 4.90381155e+02, 4.52403177e+02,\n",
       "       4.17374574e+02, 3.85065353e+02, 3.55262969e+02, 3.27772561e+02,\n",
       "       3.02414254e+02])</pre></div></div></li><li class='xr-section-item'><input id='section-0303d26f-f1ec-4524-b1c3-2d2851fd7755' class='xr-section-summary-in' type='checkbox'  checked><label for='section-0303d26f-f1ec-4524-b1c3-2d2851fd7755' class='xr-section-summary' >Coordinates: <span>(1)</span></label><div class='xr-section-inline-details'></div><div class='xr-section-details'><ul class='xr-var-list'><li class='xr-var-item'><div class='xr-var-name'><span class='xr-has-index'>time</span></div><div class='xr-var-dims'>(time)</div><div class='xr-var-dtype'>int32</div><div class='xr-var-preview xr-preview'>0 1 2 3 4 5 ... 95 96 97 98 99 100</div><input id='attrs-3130996b-8c3e-442a-a42f-d74688a0ab95' class='xr-var-attrs-in' type='checkbox' disabled><label for='attrs-3130996b-8c3e-442a-a42f-d74688a0ab95' title='Show/Hide attributes'><svg class='icon xr-icon-file-text2'><use xlink:href='#icon-file-text2'></use></svg></label><input id='data-ad1ccb2d-c8ba-4a91-ba41-b8919c77b445' class='xr-var-data-in' type='checkbox'><label for='data-ad1ccb2d-c8ba-4a91-ba41-b8919c77b445' title='Show/Hide data repr'><svg class='icon xr-icon-database'><use xlink:href='#icon-database'></use></svg></label><div class='xr-var-attrs'><dl class='xr-attrs'></dl></div><div class='xr-var-data'><pre>array([  0,   1,   2,   3,   4,   5,   6,   7,   8,   9,  10,  11,  12,  13,\n",
       "        14,  15,  16,  17,  18,  19,  20,  21,  22,  23,  24,  25,  26,  27,\n",
       "        28,  29,  30,  31,  32,  33,  34,  35,  36,  37,  38,  39,  40,  41,\n",
       "        42,  43,  44,  45,  46,  47,  48,  49,  50,  51,  52,  53,  54,  55,\n",
       "        56,  57,  58,  59,  60,  61,  62,  63,  64,  65,  66,  67,  68,  69,\n",
       "        70,  71,  72,  73,  74,  75,  76,  77,  78,  79,  80,  81,  82,  83,\n",
       "        84,  85,  86,  87,  88,  89,  90,  91,  92,  93,  94,  95,  96,  97,\n",
       "        98,  99, 100])</pre></div></li></ul></div></li><li class='xr-section-item'><input id='section-b4cbc003-e8a7-402c-8861-1b823bed8553' class='xr-section-summary-in' type='checkbox' disabled ><label for='section-b4cbc003-e8a7-402c-8861-1b823bed8553' class='xr-section-summary'  title='Expand/collapse section'>Attributes: <span>(0)</span></label><div class='xr-section-inline-details'></div><div class='xr-section-details'><dl class='xr-attrs'></dl></div></li></ul></div></div>"
      ],
      "text/plain": [
       "<xarray.DataArray 'E' (time: 101)>\n",
       "array([4.30000000e+01, 3.48262227e+01, 3.38368078e+01, 3.69817457e+01,\n",
       "       4.27947565e+01, 5.06348336e+01, 6.03231766e+01, 7.18945150e+01,\n",
       "       8.55719917e+01, 1.01694781e+02, 1.20633086e+02, 1.42921412e+02,\n",
       "       1.69177254e+02, 2.00096661e+02, 2.36520399e+02, 2.79455799e+02,\n",
       "       3.30097779e+02, 3.89847258e+02, 4.60312802e+02, 5.43424931e+02,\n",
       "       6.41481110e+02, 7.57183662e+02, 8.93704688e+02, 1.05478142e+03,\n",
       "       1.24484063e+03, 1.46910885e+03, 1.73372816e+03, 2.04590839e+03,\n",
       "       2.41424773e+03, 2.84883440e+03, 3.36149763e+03, 3.96614656e+03,\n",
       "       4.67937802e+03, 5.52059614e+03, 6.51252742e+03, 7.68192529e+03,\n",
       "       9.06048387e+03, 1.06853097e+04, 1.25994660e+04, 1.48540524e+04,\n",
       "       1.75091418e+04, 2.06339388e+04, 2.43088911e+04, 2.86295934e+04,\n",
       "       3.36744249e+04, 3.95213837e+04, 4.48310041e+04, 4.75469459e+04,\n",
       "       4.72942561e+04, 4.38602461e+04, 3.68960327e+04, 2.94984152e+04,\n",
       "       2.41794683e+04, 2.02034896e+04, 1.71658255e+04, 1.48110751e+04,\n",
       "       1.29414541e+04, 1.14334963e+04, 1.01964050e+04, 9.15308959e+03,\n",
       "       8.26490686e+03, 7.50146423e+03, 6.83122084e+03, 6.23498322e+03,\n",
       "       5.70502171e+03, 5.23169684e+03, 4.80343405e+03, 4.41277804e+03,\n",
       "       4.05733431e+03, 3.73291998e+03, 3.43613674e+03, 3.16423020e+03,\n",
       "       2.91471807e+03, 2.68553431e+03, 2.47489496e+03, 2.28113158e+03,\n",
       "       2.10278408e+03, 1.93859683e+03, 1.78739498e+03, 1.64809711e+03,\n",
       "       1.51975177e+03, 1.40148345e+03, 1.29247942e+03, 1.19200202e+03,\n",
       "       1.09937972e+03, 1.01398994e+03, 9.35261414e+02, 8.62671790e+02,\n",
       "       7.95738048e+02, 7.34016282e+02, 6.77099041e+02, 6.24609550e+02,\n",
       "       5.76201486e+02, 5.31556845e+02, 4.90381155e+02, 4.52403177e+02,\n",
       "       4.17374574e+02, 3.85065353e+02, 3.55262969e+02, 3.27772561e+02,\n",
       "       3.02414254e+02])\n",
       "Coordinates:\n",
       "  * time     (time) int32 0 1 2 3 4 5 6 7 8 9 ... 91 92 93 94 95 96 97 98 99 100"
      ]
     },
     "execution_count": 92,
     "metadata": {},
     "output_type": "execute_result"
    }
   ],
   "source": [
    "# out_nat_det = model.sim(days_number)\n",
    "graphs = show_graphs(out_nat_det, ylim=[60000, 400, 800, 1500])"
   ]
  },
  {
   "cell_type": "markdown",
   "metadata": {},
   "source": [
    "## Spatial deterministic"
   ]
  },
  {
   "cell_type": "code",
   "execution_count": 100,
   "metadata": {
    "ExecuteTime": {
     "end_time": "2020-11-10T11:22:57.241192Z",
     "start_time": "2020-11-10T11:22:56.982903Z"
    }
   },
   "outputs": [],
   "source": [
    "# Load parameters and interaction matrices\n",
    "age_str = True\n",
    "spatial_str = 'prov'\n",
    "intensity='all'\n",
    "\n",
    "params = model_parameters.get_COVID19_SEIRD_parameters(age_stratified=age_str, spatial=spatial_str)\n",
    "initN, Nc_home, Nc_work, Nc_schools, Nc_transport, Nc_leisure, Nc_others, Nc_total = model_parameters.get_interaction_matrices(intensity=intensity, spatial=spatial_str)\n",
    "\n",
    "days_number = 100\n",
    "\n",
    "# Policy values (for more details on nature of measures, see block below)\n",
    "policy_time = 40 # Must be smaller than days_number\n",
    "tau = 5 # days until new measures show some effect\n",
    "l = 5 # days since policy_time + tau until new measures show full effect"
   ]
  },
  {
   "cell_type": "code",
   "execution_count": 101,
   "metadata": {
    "ExecuteTime": {
     "end_time": "2020-11-10T11:22:57.414556Z",
     "start_time": "2020-11-10T11:22:57.350758Z"
    }
   },
   "outputs": [],
   "source": [
    "# Define initial conditions\n",
    "\n",
    "# Drop a single exposed 35-year-old in each arrondissement\n",
    "exposed = np.zeros(initN.shape)\n",
    "exposed[:,3] = 4\n",
    "\n",
    "init_states = dict({'S' : initN, 'E' : exposed})\n",
    "\n",
    "# The type of policy change: contact is reduced from everything to home contact (within the arrondissement) only\n",
    "policy1 = Nc_total\n",
    "policy2 = Nc_home\n",
    "params.update({'policy1' : policy1,\n",
    "               'policy2' : policy2})\n",
    "\n",
    "# Add social policy parameter values\n",
    "params.update({'l': l,\n",
    "              'tau': tau,\n",
    "              'policy_time' : policy_time})"
   ]
  },
  {
   "cell_type": "code",
   "execution_count": 102,
   "metadata": {
    "ExecuteTime": {
     "end_time": "2020-11-10T11:22:57.978589Z",
     "start_time": "2020-11-10T11:22:57.910722Z"
    }
   },
   "outputs": [],
   "source": [
    "# Load the model\n",
    "model = models.COVID19_SEIRD_spatial(init_states, params, time_dependent_parameters={'Nc' : social_policy_func},\n",
    "                                     discrete=False, spatial=spatial_str)"
   ]
  },
  {
   "cell_type": "code",
   "execution_count": 103,
   "metadata": {
    "ExecuteTime": {
     "end_time": "2020-11-10T11:23:03.076596Z",
     "start_time": "2020-11-10T11:22:58.535054Z"
    }
   },
   "outputs": [
    {
     "data": {
      "image/png": "[encoded data removed]",
      "text/plain": [
       "<Figure size 1080x1152 with 4 Axes>"
      ]
     },
     "metadata": {
      "needs_background": "light"
     },
     "output_type": "display_data"
    }
   ],
   "source": [
    "out_spat_det = model.sim(days_number)\n",
    "graphs = show_graphs(out_spat_det, ylim=[60000, 400, 800, 1500])"
   ]
  },
  {
   "cell_type": "code",
   "execution_count": null,
   "metadata": {},
   "outputs": [],
   "source": []
  }
 ],
 "metadata": {
  "kernelspec": {
   "display_name": "Python 3",
   "language": "python",
   "name": "python3"
  },
  "language_info": {
   "codemirror_mode": {
    "name": "ipython",
    "version": 3
   },
   "file_extension": ".py",
   "mimetype": "text/x-python",
   "name": "python",
   "nbconvert_exporter": "python",
   "pygments_lexer": "ipython3",
   "version": "3.7.3"
  },
  "toc": {
   "base_numbering": 1,
   "nav_menu": {},
   "number_sections": true,
   "sideBar": true,
   "skip_h1_title": false,
   "title_cell": "Table of Contents",
   "title_sidebar": "Contents",
   "toc_cell": false,
   "toc_position": {},
   "toc_section_display": true,
   "toc_window_display": false
  }
 },
 "nbformat": 4,
 "nbformat_minor": 2
}
