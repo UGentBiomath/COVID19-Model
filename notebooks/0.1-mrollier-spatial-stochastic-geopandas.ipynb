{
 "cells": [
  {
   "cell_type": "markdown",
   "metadata": {},
   "source": [
    "**CONTENT**\n",
    "\n",
    "In this notebook we will create stochastic simulations based on either `COVID19_SEIRD_sto` or `COVID19_SEIRD_sto_spatial` with various *initial conditions* and *imposed measures*.\n",
    "\n",
    "**OPEN TASKS**\n",
    "\n",
    "*short term*\n",
    "1. Define some interesting realistic and/or artificial initial conditions\n",
    "2. Define some interesting realistic and/or artificial imposed measures\n",
    "3. Initiate the models and create a readable environment to make nice plots (create some definitions?)\n",
    "4. Compare the dynamics and results of the spatially stratified model with the national model (these should largely correspond with each other)\n",
    "5. Choose the mose pertinent conditions and measures for plotting in geopandas and make a full-resolution video of the simulation\n",
    "6. \n",
    "\n",
    "*long term*  \n",
    "1. Implement the functions in the `utils.py` environment\n",
    "2. Take out the most relevant results and summarise in a $\\LaTeX$ presentation\n",
    "3. Include age-stratification for the mobility matrix $P^{gh}$\n",
    "4. Include spatial stratification for the mobility parameter $p_i$: simulate negative travel advice\n",
    "5. Include age stratification for *all* hospital parameters (including average number of days in the hospital)\n",
    "6. Visualise the measures\n",
    "7. Include framework for vaccination\n",
    "\n",
    "**OPEN QUESTIONS**\n",
    "\n",
    "1. What is the reason for and the meaning of the normalisation factor $z_i$ in `COVID19_SEIRD_sto_spatial`?\n",
    "2. Is it OK for all susceptibility factors $s_i$ to be smaller than one, as is the case now?\n",
    "3. Can we simulate home isolation within this framework? If the contact matrix $N_{c,ij}$ is set to only $N_{home,ij}$, this still assumes homogeneity within each patch. One than still has contact with the entire patch, which is not realistic\n",
    "4. Only professional commuting is included, but presumably this is not sufficient. Can we use these simulations to verify that?"
   ]
  },
  {
   "cell_type": "markdown",
   "metadata": {},
   "source": [
    "# Load packages"
   ]
  },
  {
   "cell_type": "code",
   "execution_count": 1,
   "metadata": {
    "ExecuteTime": {
     "end_time": "2020-10-13T11:52:45.613328Z",
     "start_time": "2020-10-13T11:52:38.108604Z"
    }
   },
   "outputs": [],
   "source": [
    "# This is copied from 0.1-mrollier-spatial-stochastic\n",
    "# Not all packages may be needed\n",
    "\n",
    "import random\n",
    "import os\n",
    "import numpy as np\n",
    "import json\n",
    "import corner # make beautiful corner plots for demonstrating the parameter distributions\n",
    "import random\n",
    "import os\n",
    "\n",
    "import pandas as pd\n",
    "import geopandas as gp\n",
    "import datetime\n",
    "import scipy\n",
    "import matplotlib\n",
    "import matplotlib.colors as colors\n",
    "import matplotlib.dates as mdates # sophisticated date plotting capabilities\n",
    "import math\n",
    "import xarray as xr # labels in the form of dimensions, coordinates and attributes\n",
    "import emcee # Goodman & Weare’s Affine Invariant Markov chain Monte Carlo (**MCMC**) Ensemble sampler\n",
    "import matplotlib.pyplot as plt\n",
    "\n",
    "from covid19model.optimization import objective_fcns\n",
    "from covid19model.models import models\n",
    "from covid19model.models.utils import name2nis, read_coordinates_nis, read_areas, read_pops, dens_dep # New function that translates names to NIS codes\n",
    "from covid19model.data import google, sciensano, model_parameters\n",
    "from covid19model.visualization.output import population_status, infected\n",
    "from covid19model.visualization.optimization import plot_fit, traceplot\n",
    "\n",
    "# OPTIONAL: Load the \"autoreload\" extension so that package code can change\n",
    "%load_ext autoreload\n",
    "# OPTIONAL: always reload modules so that as you change code in src, it gets loaded\n",
    "# This may be useful because the `covid19model` package is under construction\n",
    "%autoreload 2"
   ]
  },
  {
   "cell_type": "markdown",
   "metadata": {},
   "source": [
    "# Initialisation of the model"
   ]
  },
  {
   "cell_type": "markdown",
   "metadata": {
    "heading_collapsed": true
   },
   "source": [
    "## Oversight of various model conditions"
   ]
  },
  {
   "cell_type": "markdown",
   "metadata": {
    "hidden": true
   },
   "source": [
    "Any of the conditions below are implemented for both the spatial and the national stochastic SEIRD-extended model.\n",
    "\n",
    "**Initial conditions**\n",
    "1. One exposed person on day 0. With some spatial variation:  \n",
    "    1. On the far southeast side of the country  \n",
    "    2. On the far northwest side of the country  \n",
    "    3. In Brussels  \n",
    "2. Fifty exposed people on day 0, same spatial variation\n",
    "3. Only asymptomatic people instead of exposed people\n",
    "4. Only presymptomatic people instead of exposed people\n",
    "5. No mobility whatsoever (sanity check, can only be done in spatial model)\n",
    "\n",
    "**Measures**\n",
    "1. Decrease overall contact parameter: type of contact stays the same, but the frequency is lowered\n",
    "2. Change *type* of contact: only remain home contact (but note that this does not mean that families are isolated!)\n",
    "3. Decrease mobility between cities (can only be done in spatial model)\n",
    "4. Vaccination: migrate the number of Susceptible straight to the Recovered category"
   ]
  },
  {
   "cell_type": "markdown",
   "metadata": {
    "ExecuteTime": {
     "end_time": "2020-10-13T11:56:07.806112Z",
     "start_time": "2020-10-13T11:56:07.750938Z"
    }
   },
   "source": [
    "## Initialisation definition"
   ]
  },
  {
   "cell_type": "code",
   "execution_count": null,
   "metadata": {},
   "outputs": [],
   "source": []
  }
 ],
 "metadata": {
  "kernelspec": {
   "display_name": "Python 3",
   "language": "python",
   "name": "python3"
  },
  "language_info": {
   "codemirror_mode": {
    "name": "ipython",
    "version": 3
   },
   "file_extension": ".py",
   "mimetype": "text/x-python",
   "name": "python",
   "nbconvert_exporter": "python",
   "pygments_lexer": "ipython3",
   "version": "3.7.3"
  },
  "toc": {
   "base_numbering": 1,
   "nav_menu": {},
   "number_sections": true,
   "sideBar": true,
   "skip_h1_title": false,
   "title_cell": "Table of Contents",
   "title_sidebar": "Contents",
   "toc_cell": false,
   "toc_position": {},
   "toc_section_display": true,
   "toc_window_display": false
  }
 },
 "nbformat": 4,
 "nbformat_minor": 2
}
