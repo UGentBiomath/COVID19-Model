{
 "cells": [
  {
   "cell_type": "markdown",
   "metadata": {},
   "source": [
    "**Calibration of the age-stratified deterministic model**\n",
    "\n",
    "*Original code by Ryan S. McGee. Modified by T.W. Alleman in consultation with the BIOMATH research unit headed by prof. Ingmar Nopens.*\n",
    "\n",
    "Copyright (c) 2020 by T.W. Alleman, BIOMATH, Ghent University. All Rights Reserved.\n",
    "\n",
    "This notebook accompanies our preprint: \"*A deterministic, age-stratified, extended SEIRD model for assessing the effect of non-pharmaceutical interventions on SARS-CoV-2 spread in Belgium*\"(https://doi.org/10.1101/2020.07.17.20156034)"
   ]
  },
  {
   "cell_type": "markdown",
   "metadata": {},
   "source": [
    "# Load required packages"
   ]
  },
  {
   "cell_type": "code",
   "execution_count": 1,
   "metadata": {
    "ExecuteTime": {
     "end_time": "2020-10-26T20:37:40.864918Z",
     "start_time": "2020-10-26T20:37:38.162076Z"
    }
   },
   "outputs": [],
   "source": [
    "import random\n",
    "import os\n",
    "import numpy as np\n",
    "%matplotlib inline\n",
    "import matplotlib.pyplot as plt\n",
    "from IPython.display import Image\n",
    "from ipywidgets import interact,fixed,FloatSlider,IntSlider,ToggleButtons\n",
    "import pandas as pd\n",
    "from datetime import datetime, timedelta\n",
    "import scipy\n",
    "from scipy.integrate import odeint\n",
    "import matplotlib.dates as mdates\n",
    "import matplotlib\n",
    "import scipy.stats as st\n",
    "\n",
    "import math\n",
    "import xarray as xr\n",
    "import emcee\n",
    "import json\n",
    "import corner\n",
    "\n",
    "from covid19model.optimization import objective_fcns\n",
    "from covid19model.optimization import MCMC\n",
    "from covid19model.models import models\n",
    "from covid19model.data import google\n",
    "from covid19model.data import sciensano\n",
    "from covid19model.data import model_parameters\n",
    "from covid19model.visualization.output import population_status, infected\n",
    "from covid19model.visualization.optimization import plot_fit, traceplot\n",
    "from covid19model.optimization.run_optimization import full_calibration\n",
    "\n",
    "# OPTIONAL: Load the \"autoreload\" extension so that package code can change\n",
    "%load_ext autoreload\n",
    "# OPTIONAL: always reload modules so that as you change code in src, it gets loaded\n",
    "%autoreload 2"
   ]
  },
  {
   "cell_type": "code",
   "execution_count": 2,
   "metadata": {
    "ExecuteTime": {
     "end_time": "2020-10-26T20:37:40.903007Z",
     "start_time": "2020-10-26T20:37:40.867491Z"
    }
   },
   "outputs": [],
   "source": [
    "# import dask\n",
    "\n",
    "# from dask.distributed import Client, progress\n",
    "# client = Client(threads_per_worker=16, n_workers=1)\n",
    "# client"
   ]
  },
  {
   "cell_type": "markdown",
   "metadata": {},
   "source": [
    "# Get public data"
   ]
  },
  {
   "cell_type": "code",
   "execution_count": 3,
   "metadata": {
    "ExecuteTime": {
     "end_time": "2020-10-26T20:37:40.940265Z",
     "start_time": "2020-10-26T20:37:40.905650Z"
    }
   },
   "outputs": [],
   "source": [
    "#df_sciensano = sciensano.get_sciensano_COVID19_data(update=False)\n"
   ]
  },
  {
   "cell_type": "code",
   "execution_count": 4,
   "metadata": {
    "ExecuteTime": {
     "end_time": "2020-10-26T20:37:40.992153Z",
     "start_time": "2020-10-26T20:37:40.942799Z"
    }
   },
   "outputs": [],
   "source": [
    "raw_hosp_data = pd.read_csv('../data/raw/sciensano/COVID19BE_HOSP.csv', parse_dates=['DATE'])\n",
    "Luik_hosp_data = raw_hosp_data[raw_hosp_data.PROVINCE=='Liège']"
   ]
  },
  {
   "cell_type": "code",
   "execution_count": 5,
   "metadata": {
    "ExecuteTime": {
     "end_time": "2020-10-26T20:37:41.029908Z",
     "start_time": "2020-10-26T20:37:40.994253Z"
    }
   },
   "outputs": [],
   "source": [
    "#Luik_hosp_data.plot('DATE','NEW_IN')"
   ]
  },
  {
   "cell_type": "markdown",
   "metadata": {},
   "source": [
    "# Load data"
   ]
  },
  {
   "cell_type": "code",
   "execution_count": 6,
   "metadata": {
    "ExecuteTime": {
     "end_time": "2020-10-26T20:37:41.339145Z",
     "start_time": "2020-10-26T20:37:41.032346Z"
    }
   },
   "outputs": [],
   "source": [
    "initN, Nc_home, Nc_work, Nc_schools, Nc_transport, Nc_leisure, Nc_others, Nc_total = model_parameters.get_interaction_matrices(dataset='willem_2012')\n",
    "levels = initN.size"
   ]
  },
  {
   "cell_type": "code",
   "execution_count": 7,
   "metadata": {
    "ExecuteTime": {
     "end_time": "2020-10-26T20:37:41.379951Z",
     "start_time": "2020-10-26T20:37:41.341192Z"
    },
    "scrolled": true
   },
   "outputs": [],
   "source": [
    "Luik_ts = Luik_hosp_data[['DATE','NEW_IN']].set_index('DATE')"
   ]
  },
  {
   "cell_type": "markdown",
   "metadata": {},
   "source": [
    "# Initialize the model"
   ]
  },
  {
   "cell_type": "code",
   "execution_count": 8,
   "metadata": {
    "ExecuteTime": {
     "end_time": "2020-10-26T20:37:41.421081Z",
     "start_time": "2020-10-26T20:37:41.382871Z"
    }
   },
   "outputs": [],
   "source": [
    "# Define the compliance and lockdown function\n",
    "def lockdown_func(t,param,policy_time,policy1,policy2,l,tau,prevention):\n",
    "    if t <= policy_time + tau:\n",
    "        return policy1\n",
    "    elif policy_time + tau < t <= policy_time + tau + l:\n",
    "        return policy1 + (prevention*policy2-policy1)/l*(t-policy_time-tau)\n",
    "    else:\n",
    "        return prevention*policy2"
   ]
  },
  {
   "cell_type": "code",
   "execution_count": 9,
   "metadata": {
    "ExecuteTime": {
     "end_time": "2020-10-26T20:37:41.744266Z",
     "start_time": "2020-10-26T20:37:41.423262Z"
    }
   },
   "outputs": [],
   "source": [
    "# Load the parameters using `get_COVID19_SEIRD_parameters()`.\n",
    "params = model_parameters.get_COVID19_SEIRD_parameters()\n",
    "params.update({'policy1': Nc_total,\n",
    "              'policy2': 1.0*Nc_home + (1-0.60)*Nc_work + (1-0.70)*Nc_transport + (1-0.30)*Nc_others + (1-0.80)*Nc_leisure,\n",
    "              'policy_time': 500,\n",
    "              'l': 1,\n",
    "              'tau': 5,\n",
    "              'prevention': 0.5})\n",
    "# Define the initial condition: one exposed inidividual in every age category\n",
    "initial_states = {'S': initN, 'E': np.ones(levels)}\n",
    "model = models.COVID19_SEIRD(initial_states, params, time_dependent_parameters={'Nc': lockdown_func})"
   ]
  },
  {
   "cell_type": "code",
   "execution_count": 10,
   "metadata": {
    "ExecuteTime": {
     "end_time": "2020-10-26T20:37:42.167183Z",
     "start_time": "2020-10-26T20:37:42.130598Z"
    }
   },
   "outputs": [],
   "source": [
    "start_date = '2020-03-15'\n",
    "end_beta = '2020-03-23'#'2020-03-22'\n",
    "end_ramp = '2020-04-20'"
   ]
  },
  {
   "cell_type": "code",
   "execution_count": 11,
   "metadata": {
    "ExecuteTime": {
     "end_time": "2020-10-26T20:37:43.132427Z",
     "start_time": "2020-10-26T20:37:43.086384Z"
    }
   },
   "outputs": [
    {
     "data": {
      "text/plain": [
       "9"
      ]
     },
     "execution_count": 11,
     "metadata": {},
     "output_type": "execute_result"
    }
   ],
   "source": [
    "len(Luik_ts.loc[start_date:end_beta])"
   ]
  },
  {
   "cell_type": "code",
   "execution_count": 12,
   "metadata": {
    "ExecuteTime": {
     "end_time": "2020-10-26T20:37:43.853036Z",
     "start_time": "2020-10-26T20:37:43.816840Z"
    }
   },
   "outputs": [],
   "source": [
    "fig_path = '../results/calibrations_provinces/'\n",
    "samples_path = '../data/interim/model_parameters/provinces/'"
   ]
  },
  {
   "cell_type": "markdown",
   "metadata": {},
   "source": [
    "# Run province Liège"
   ]
  },
  {
   "cell_type": "code",
   "execution_count": 13,
   "metadata": {
    "ExecuteTime": {
     "end_time": "2020-10-26T20:37:44.672106Z",
     "start_time": "2020-10-26T20:37:44.633755Z"
    }
   },
   "outputs": [],
   "source": [
    "# function parameters \n",
    "timeseries = Luik_ts['NEW_IN']\n",
    "spatial_unit = 'Luik'\n",
    "# maxiter=100\n",
    "# popsize=200\n",
    "# steps_mcmc=10000\n"
   ]
  },
  {
   "cell_type": "code",
   "execution_count": null,
   "metadata": {
    "ExecuteTime": {
     "start_time": "2020-10-26T20:37:45.227Z"
    }
   },
   "outputs": [
    {
     "name": "stdout",
     "output_type": "stream",
     "text": [
      "No constraints given.\n",
      "Best after iteration 1: [14.84720955 36.02621457  0.04062913] 26.027794051759603\n",
      "Best after iteration 2: [14.84720955 36.02621457  0.04062913] 26.027794051759603\n",
      "New best for swarm at iteration 3: [ 7.01080833 30.52211228  0.04496505] 24.19015774934236\n",
      "Best after iteration 3: [ 7.01080833 30.52211228  0.04496505] 24.19015774934236\n",
      "Best after iteration 4: [ 7.01080833 30.52211228  0.04496505] 24.19015774934236\n",
      "Best after iteration 5: [ 7.01080833 30.52211228  0.04496505] 24.19015774934236\n",
      "Best after iteration 6: [ 7.01080833 30.52211228  0.04496505] 24.19015774934236\n",
      "New best for swarm at iteration 7: [ 6.9156049  30.          0.04665069] 24.15813424055845\n",
      "Best after iteration 7: [ 6.9156049  30.          0.04665069] 24.15813424055845\n",
      "New best for swarm at iteration 8: [ 8.75750784 30.06707705  0.0466339 ] 23.74557147138908\n",
      "Best after iteration 8: [ 8.75750784 30.06707705  0.0466339 ] 23.74557147138908\n",
      "Best after iteration 9: [ 8.75750784 30.06707705  0.0466339 ] 23.74557147138908\n",
      "Best after iteration 10: [ 8.75750784 30.06707705  0.0466339 ] 23.74557147138908\n",
      "New best for swarm at iteration 11: [ 8.57452497 30.          0.04669195] 23.722329195102848\n",
      "Best after iteration 11: [ 8.57452497 30.          0.04669195] 23.722329195102848\n",
      "Best after iteration 12: [ 8.57452497 30.          0.04669195] 23.722329195102848\n",
      "New best for swarm at iteration 13: [ 8.21799359 30.          0.04682632] 23.707737264273078\n",
      "Best after iteration 13: [ 8.21799359 30.          0.04682632] 23.707737264273078\n",
      "Best after iteration 14: [ 8.21799359 30.          0.04682632] 23.707737264273078\n",
      "Best after iteration 15: [ 8.21799359 30.          0.04682632] 23.707737264273078\n",
      "New best for swarm at iteration 16: [ 8.25051885 30.          0.04689449] 23.704748899650404\n",
      "Best after iteration 16: [ 8.25051885 30.          0.04689449] 23.704748899650404\n",
      "New best for swarm at iteration 17: [ 8.41214477 30.          0.04690148] 23.700254731064728\n",
      "Best after iteration 17: [ 8.41214477 30.          0.04690148] 23.700254731064728\n",
      "New best for swarm at iteration 18: [ 8.75930636 30.65865682  0.045544  ] 23.629214324350418\n",
      "Best after iteration 18: [ 8.75930636 30.65865682  0.045544  ] 23.629214324350418\n",
      "Best after iteration 19: [ 8.75930636 30.65865682  0.045544  ] 23.629214324350418\n",
      "New best for swarm at iteration 20: [ 8.3385406  33.18998428  0.04305699] 23.511239611780617\n",
      "Best after iteration 20: [ 8.3385406  33.18998428  0.04305699] 23.511239611780617\n",
      "Best after iteration 21: [ 8.3385406  33.18998428  0.04305699] 23.511239611780617\n",
      "Best after iteration 22: [ 8.3385406  33.18998428  0.04305699] 23.511239611780617\n",
      "New best for swarm at iteration 23: [ 8.13173217 32.57937701  0.0429433 ] 23.493208251028612\n",
      "Best after iteration 23: [ 8.13173217 32.57937701  0.0429433 ] 23.493208251028612\n",
      "Best after iteration 24: [ 8.13173217 32.57937701  0.0429433 ] 23.493208251028612\n",
      "Best after iteration 25: [ 8.13173217 32.57937701  0.0429433 ] 23.493208251028612\n",
      "Best after iteration 26: [ 8.13173217 32.57937701  0.0429433 ] 23.493208251028612\n",
      "New best for swarm at iteration 27: [ 8.27759029 33.98588729  0.04177497] 23.443521824667176\n",
      "Best after iteration 27: [ 8.27759029 33.98588729  0.04177497] 23.443521824667176\n",
      "Best after iteration 28: [ 8.27759029 33.98588729  0.04177497] 23.443521824667176\n",
      "Best after iteration 29: [ 8.27759029 33.98588729  0.04177497] 23.443521824667176\n",
      "New best for swarm at iteration 30: [ 8.55371291 36.55456589  0.03878189] 23.38542633769524\n",
      "Best after iteration 30: [ 8.55371291 36.55456589  0.03878189] 23.38542633769524\n",
      "Best after iteration 31: [ 8.55371291 36.55456589  0.03878189] 23.38542633769524\n",
      "Best after iteration 32: [ 8.55371291 36.55456589  0.03878189] 23.38542633769524\n",
      "New best for swarm at iteration 33: [ 8.35050928 37.34711392  0.03877901] 23.368997138247355\n",
      "Best after iteration 33: [ 8.35050928 37.34711392  0.03877901] 23.368997138247355\n",
      "Best after iteration 34: [ 8.35050928 37.34711392  0.03877901] 23.368997138247355\n",
      "New best for swarm at iteration 35: [ 8.01701247 37.4511773   0.03864094] 23.36718562235243\n",
      "Best after iteration 35: [ 8.01701247 37.4511773   0.03864094] 23.36718562235243\n",
      "New best for swarm at iteration 36: [ 8.22957109 37.0694715   0.03870781] 23.359453366871705\n",
      "Best after iteration 36: [ 8.22957109 37.0694715   0.03870781] 23.359453366871705\n",
      "Best after iteration 37: [ 8.22957109 37.0694715   0.03870781] 23.359453366871705\n",
      "Best after iteration 38: [ 8.22957109 37.0694715   0.03870781] 23.359453366871705\n",
      "Best after iteration 39: [ 8.22957109 37.0694715   0.03870781] 23.359453366871705\n",
      "New best for swarm at iteration 40: [ 8.0650179  37.36655379  0.03872995] 23.358715553464613\n",
      "Best after iteration 40: [ 8.0650179  37.36655379  0.03872995] 23.358715553464613\n",
      "Best after iteration 41: [ 8.0650179  37.36655379  0.03872995] 23.358715553464613\n",
      "New best for swarm at iteration 42: [ 8.10377164 37.02099035  0.03869536] 23.358665131339166\n",
      "Best after iteration 42: [ 8.10377164 37.02099035  0.03869536] 23.358665131339166\n",
      "Best after iteration 43: [ 8.10377164 37.02099035  0.03869536] 23.358665131339166\n",
      "Best after iteration 44: [ 8.10377164 37.02099035  0.03869536] 23.358665131339166\n",
      "New best for swarm at iteration 45: [ 8.14026363 36.53032117  0.0387299 ] 23.358180743496813\n",
      "Best after iteration 45: [ 8.14026363 36.53032117  0.0387299 ] 23.358180743496813\n",
      "Best after iteration 46: [ 8.14026363 36.53032117  0.0387299 ] 23.358180743496813\n",
      "Best after iteration 47: [ 8.14026363 36.53032117  0.0387299 ] 23.358180743496813\n",
      "New best for swarm at iteration 48: [ 8.15022348 36.52911479  0.03871745] 23.35803150097692\n",
      "Best after iteration 48: [ 8.15022348 36.52911479  0.03871745] 23.35803150097692\n",
      "Best after iteration 49: [ 8.15022348 36.52911479  0.03871745] 23.35803150097692\n",
      "Best after iteration 50: [ 8.15022348 36.52911479  0.03871745] 23.35803150097692\n",
      "New best for swarm at iteration 51: [ 8.13377461 36.59517426  0.03871973] 23.357976099542277\n",
      "Best after iteration 51: [ 8.13377461 36.59517426  0.03871973] 23.357976099542277\n",
      "Best after iteration 52: [ 8.13377461 36.59517426  0.03871973] 23.357976099542277\n",
      "Best after iteration 53: [ 8.13377461 36.59517426  0.03871973] 23.357976099542277\n",
      "Best after iteration 54: [ 8.13377461 36.59517426  0.03871973] 23.357976099542277\n",
      "Best after iteration 55: [ 8.13377461 36.59517426  0.03871973] 23.357976099542277\n",
      "Best after iteration 56: [ 8.13377461 36.59517426  0.03871973] 23.357976099542277\n",
      "Best after iteration 57: [ 8.13377461 36.59517426  0.03871973] 23.357976099542277\n",
      "Best after iteration 58: [ 8.13377461 36.59517426  0.03871973] 23.357976099542277\n",
      "Best after iteration 59: [ 8.13377461 36.59517426  0.03871973] 23.357976099542277\n",
      "Best after iteration 60: [ 8.13377461 36.59517426  0.03871973] 23.357976099542277\n",
      "New best for swarm at iteration 61: [ 8.12762237 36.58339964  0.03871641] 23.357966676812744\n",
      "Best after iteration 61: [ 8.12762237 36.58339964  0.03871641] 23.357966676812744\n",
      "Best after iteration 62: [ 8.12762237 36.58339964  0.03871641] 23.357966676812744\n",
      "Best after iteration 63: [ 8.12762237 36.58339964  0.03871641] 23.357966676812744\n",
      "Best after iteration 64: [ 8.12762237 36.58339964  0.03871641] 23.357966676812744\n",
      "Best after iteration 65: [ 8.12762237 36.58339964  0.03871641] 23.357966676812744\n",
      "Best after iteration 66: [ 8.12762237 36.58339964  0.03871641] 23.357966676812744\n",
      "Best after iteration 67: [ 8.12762237 36.58339964  0.03871641] 23.357966676812744\n",
      "New best for swarm at iteration 68: [ 8.12694174 36.56312575  0.03871795] 23.35796571995665\n",
      "Best after iteration 68: [ 8.12694174 36.56312575  0.03871795] 23.35796571995665\n",
      "Best after iteration 69: [ 8.12694174 36.56312575  0.03871795] 23.35796571995665\n",
      "Best after iteration 70: [ 8.12694174 36.56312575  0.03871795] 23.35796571995665\n",
      "Best after iteration 71: [ 8.12694174 36.56312575  0.03871795] 23.35796571995665\n",
      "New best for swarm at iteration 72: [ 8.12687217 36.66977735  0.03871754] 23.357965456423084\n",
      "Best after iteration 72: [ 8.12687217 36.66977735  0.03871754] 23.357965456423084\n",
      "Best after iteration 73: [ 8.12687217 36.66977735  0.03871754] 23.357965456423084\n",
      "Best after iteration 74: [ 8.12687217 36.66977735  0.03871754] 23.357965456423084\n",
      "Best after iteration 75: [ 8.12687217 36.66977735  0.03871754] 23.357965456423084\n"
     ]
    },
    {
     "name": "stdout",
     "output_type": "stream",
     "text": [
      "Best after iteration 76: [ 8.12687217 36.66977735  0.03871754] 23.357965456423084\n",
      "Best after iteration 77: [ 8.12687217 36.66977735  0.03871754] 23.357965456423084\n",
      "Best after iteration 78: [ 8.12687217 36.66977735  0.03871754] 23.357965456423084\n",
      "New best for swarm at iteration 79: [ 8.12743786 36.67087772  0.03871759] 23.357965321400133\n",
      "Best after iteration 79: [ 8.12743786 36.67087772  0.03871759] 23.357965321400133\n",
      "Best after iteration 80: [ 8.12743786 36.67087772  0.03871759] 23.357965321400133\n",
      "Best after iteration 81: [ 8.12743786 36.67087772  0.03871759] 23.357965321400133\n",
      "New best for swarm at iteration 82: [ 8.12857082 36.66986106  0.03871751] 23.357965267975366\n",
      "Best after iteration 82: [ 8.12857082 36.66986106  0.03871751] 23.357965267975366\n",
      "New best for swarm at iteration 83: [8.19699676e+00 4.04702933e+01 3.61666261e-02] 23.35350099178278\n",
      "Best after iteration 83: [8.19699676e+00 4.04702933e+01 3.61666261e-02] 23.35350099178278\n",
      "Best after iteration 84: [8.19699676e+00 4.04702933e+01 3.61666261e-02] 23.35350099178278\n",
      "New best for swarm at iteration 85: [8.14181316e+00 4.03415635e+01 3.61618906e-02] 23.352973574038735\n",
      "Best after iteration 85: [8.14181316e+00 4.03415635e+01 3.61618906e-02] 23.352973574038735\n",
      "Best after iteration 86: [8.14181316e+00 4.03415635e+01 3.61618906e-02] 23.352973574038735\n",
      "Best after iteration 87: [8.14181316e+00 4.03415635e+01 3.61618906e-02] 23.352973574038735\n",
      "New best for swarm at iteration 88: [8.13331460e+00 4.02497902e+01 3.61661542e-02] 23.352799459195897\n",
      "Best after iteration 88: [8.13331460e+00 4.02497902e+01 3.61661542e-02] 23.352799459195897\n",
      "Best after iteration 89: [8.13331460e+00 4.02497902e+01 3.61661542e-02] 23.352799459195897\n",
      "Best after iteration 90: [8.13331460e+00 4.02497902e+01 3.61661542e-02] 23.352799459195897\n",
      "New best for swarm at iteration 91: [8.12752945e+00 3.95227432e+01 3.61752222e-02] 23.35267308022301\n",
      "Best after iteration 91: [8.12752945e+00 3.95227432e+01 3.61752222e-02] 23.35267308022301\n",
      "Best after iteration 92: [8.12752945e+00 3.95227432e+01 3.61752222e-02] 23.35267308022301\n",
      "Best after iteration 93: [8.12752945e+00 3.95227432e+01 3.61752222e-02] 23.35267308022301\n",
      "Best after iteration 94: [8.12752945e+00 3.95227432e+01 3.61752222e-02] 23.35267308022301\n",
      "Best after iteration 95: [8.12752945e+00 3.95227432e+01 3.61752222e-02] 23.35267308022301\n",
      "Best after iteration 96: [8.12752945e+00 3.95227432e+01 3.61752222e-02] 23.35267308022301\n",
      "Best after iteration 97: [8.12752945e+00 3.95227432e+01 3.61752222e-02] 23.35267308022301\n",
      "Best after iteration 98: [8.12752945e+00 3.95227432e+01 3.61752222e-02] 23.35267308022301\n",
      "Best after iteration 99: [8.12752945e+00 3.95227432e+01 3.61752222e-02] 23.35267308022301\n",
      "Best after iteration 100: [8.12752945e+00 3.95227432e+01 3.61752222e-02] 23.35267308022301\n",
      "Stopping search: maximum iterations reached --> 100\n"
     ]
    },
    {
     "name": "stderr",
     "output_type": "stream",
     "text": [
      "100%|██████████| 10000/10000 [45:53<00:00,  3.63it/s]\n"
     ]
    },
    {
     "name": "stdout",
     "output_type": "stream",
     "text": [
      "No constraints given.\n",
      "Best after iteration 1: [9.57792972 7.98795749 4.18061143 0.31057209] 114.08019138865822\n",
      "Best after iteration 2: [9.57792972 7.98795749 4.18061143 0.31057209] 114.08019138865822\n",
      "New best for swarm at iteration 3: [10.24759155 10.24957524  4.59196538  0.        ] 113.39424324228735\n",
      "Best after iteration 3: [10.24759155 10.24957524  4.59196538  0.        ] 113.39424324228735\n",
      "Best after iteration 4: [10.24759155 10.24957524  4.59196538  0.        ] 113.39424324228735\n",
      "New best for swarm at iteration 5: [9.68134432 6.98840631 4.77199271 0.17910489] 109.83835942613736\n",
      "Best after iteration 5: [9.68134432 6.98840631 4.77199271 0.17910489] 109.83835942613736\n",
      "Best after iteration 6: [9.68134432 6.98840631 4.77199271 0.17910489] 109.83835942613736\n",
      "Best after iteration 7: [9.68134432 6.98840631 4.77199271 0.17910489] 109.83835942613736\n",
      "Best after iteration 8: [9.68134432 6.98840631 4.77199271 0.17910489] 109.83835942613736\n",
      "Best after iteration 9: [9.68134432 6.98840631 4.77199271 0.17910489] 109.83835942613736\n",
      "New best for swarm at iteration 10: [11.22918246  6.98602029  4.57991436  0.2107042 ] 108.61170650445384\n",
      "Best after iteration 10: [11.22918246  6.98602029  4.57991436  0.2107042 ] 108.61170650445384\n",
      "Best after iteration 11: [11.22918246  6.98602029  4.57991436  0.2107042 ] 108.61170650445384\n",
      "Best after iteration 12: [11.22918246  6.98602029  4.57991436  0.2107042 ] 108.61170650445384\n",
      "Best after iteration 13: [11.22918246  6.98602029  4.57991436  0.2107042 ] 108.61170650445384\n",
      "Best after iteration 14: [11.22918246  6.98602029  4.57991436  0.2107042 ] 108.61170650445384\n",
      "New best for swarm at iteration 15: [11.16235522  7.60180373  4.42966058  0.21922674] 108.44109542246106\n",
      "Best after iteration 15: [11.16235522  7.60180373  4.42966058  0.21922674] 108.44109542246106\n",
      "New best for swarm at iteration 16: [11.18343453  6.88093807  4.47338895  0.21649876] 108.4131839976556\n",
      "Best after iteration 16: [11.18343453  6.88093807  4.47338895  0.21649876] 108.4131839976556\n",
      "Best after iteration 17: [11.18343453  6.88093807  4.47338895  0.21649876] 108.4131839976556\n",
      "Best after iteration 18: [11.18343453  6.88093807  4.47338895  0.21649876] 108.4131839976556\n",
      "Best after iteration 19: [11.18343453  6.88093807  4.47338895  0.21649876] 108.4131839976556\n",
      "Best after iteration 20: [11.18343453  6.88093807  4.47338895  0.21649876] 108.4131839976556\n",
      "New best for swarm at iteration 21: [11.20374807  7.11896956  4.23648203  0.22002979] 108.39738147261056\n",
      "Best after iteration 21: [11.20374807  7.11896956  4.23648203  0.22002979] 108.39738147261056\n",
      "Best after iteration 22: [11.20374807  7.11896956  4.23648203  0.22002979] 108.39738147261056\n",
      "New best for swarm at iteration 23: [11.31353984  7.03161223  4.58689325  0.2133768 ] 108.36821998154275\n",
      "Best after iteration 23: [11.31353984  7.03161223  4.58689325  0.2133768 ] 108.36821998154275\n",
      "Best after iteration 24: [11.31353984  7.03161223  4.58689325  0.2133768 ] 108.36821998154275\n",
      "Best after iteration 25: [11.31353984  7.03161223  4.58689325  0.2133768 ] 108.36821998154275\n",
      "Best after iteration 26: [11.31353984  7.03161223  4.58689325  0.2133768 ] 108.36821998154275\n",
      "Best after iteration 27: [11.31353984  7.03161223  4.58689325  0.2133768 ] 108.36821998154275\n",
      "Best after iteration 28: [11.31353984  7.03161223  4.58689325  0.2133768 ] 108.36821998154275\n",
      "Best after iteration 29: [11.31353984  7.03161223  4.58689325  0.2133768 ] 108.36821998154275\n",
      "Best after iteration 30: [11.31353984  7.03161223  4.58689325  0.2133768 ] 108.36821998154275\n",
      "Best after iteration 31: [11.31353984  7.03161223  4.58689325  0.2133768 ] 108.36821998154275\n",
      "New best for swarm at iteration 32: [11.30290358  7.02755962  4.62204063  0.22054227] 108.3667295283235\n",
      "Best after iteration 32: [11.30290358  7.02755962  4.62204063  0.22054227] 108.3667295283235\n",
      "Best after iteration 33: [11.30290358  7.02755962  4.62204063  0.22054227] 108.3667295283235\n",
      "Best after iteration 34: [11.30290358  7.02755962  4.62204063  0.22054227] 108.3667295283235\n",
      "New best for swarm at iteration 35: [11.46284981  6.90743127  4.67665726  0.21942266] 108.34974719977087\n",
      "Best after iteration 35: [11.46284981  6.90743127  4.67665726  0.21942266] 108.34974719977087\n",
      "Best after iteration 36: [11.46284981  6.90743127  4.67665726  0.21942266] 108.34974719977087\n",
      "Best after iteration 37: [11.46284981  6.90743127  4.67665726  0.21942266] 108.34974719977087\n",
      "Best after iteration 38: [11.46284981  6.90743127  4.67665726  0.21942266] 108.34974719977087\n",
      "Best after iteration 39: [11.46284981  6.90743127  4.67665726  0.21942266] 108.34974719977087\n",
      "Best after iteration 40: [11.46284981  6.90743127  4.67665726  0.21942266] 108.34974719977087\n",
      "Best after iteration 41: [11.46284981  6.90743127  4.67665726  0.21942266] 108.34974719977087\n",
      "Best after iteration 42: [11.46284981  6.90743127  4.67665726  0.21942266] 108.34974719977087\n",
      "Best after iteration 43: [11.46284981  6.90743127  4.67665726  0.21942266] 108.34974719977087\n",
      "Best after iteration 44: [11.46284981  6.90743127  4.67665726  0.21942266] 108.34974719977087\n",
      "New best for swarm at iteration 45: [11.41746322  6.91344679  4.68815069  0.21967819] 108.34972550168818\n",
      "Best after iteration 45: [11.41746322  6.91344679  4.68815069  0.21967819] 108.34972550168818\n",
      "Best after iteration 46: [11.41746322  6.91344679  4.68815069  0.21967819] 108.34972550168818\n",
      "Best after iteration 47: [11.41746322  6.91344679  4.68815069  0.21967819] 108.34972550168818\n",
      "Best after iteration 48: [11.41746322  6.91344679  4.68815069  0.21967819] 108.34972550168818\n",
      "Best after iteration 49: [11.41746322  6.91344679  4.68815069  0.21967819] 108.34972550168818\n",
      "Best after iteration 50: [11.41746322  6.91344679  4.68815069  0.21967819] 108.34972550168818\n",
      "Best after iteration 51: [11.41746322  6.91344679  4.68815069  0.21967819] 108.34972550168818\n",
      "Best after iteration 52: [11.41746322  6.91344679  4.68815069  0.21967819] 108.34972550168818\n",
      "New best for swarm at iteration 53: [11.23076959  6.71562245  4.73107199  0.21925994] 108.33083229384181\n",
      "Best after iteration 53: [11.23076959  6.71562245  4.73107199  0.21925994] 108.33083229384181\n",
      "Best after iteration 54: [11.23076959  6.71562245  4.73107199  0.21925994] 108.33083229384181\n",
      "Best after iteration 55: [11.23076959  6.71562245  4.73107199  0.21925994] 108.33083229384181\n",
      "Best after iteration 56: [11.23076959  6.71562245  4.73107199  0.21925994] 108.33083229384181\n",
      "New best for swarm at iteration 57: [11.28477957  6.71742332  4.72481013  0.21923428] 108.32272860870411\n",
      "Best after iteration 57: [11.28477957  6.71742332  4.72481013  0.21923428] 108.32272860870411\n",
      "Best after iteration 58: [11.28477957  6.71742332  4.72481013  0.21923428] 108.32272860870411\n",
      "Best after iteration 59: [11.28477957  6.71742332  4.72481013  0.21923428] 108.32272860870411\n",
      "Best after iteration 60: [11.28477957  6.71742332  4.72481013  0.21923428] 108.32272860870411\n",
      "New best for swarm at iteration 61: [11.47787156  6.68599866  4.71678806  0.22126343] 108.31479392352108\n",
      "Best after iteration 61: [11.47787156  6.68599866  4.71678806  0.22126343] 108.31479392352108\n",
      "Best after iteration 62: [11.47787156  6.68599866  4.71678806  0.22126343] 108.31479392352108\n",
      "Best after iteration 63: [11.47787156  6.68599866  4.71678806  0.22126343] 108.31479392352108\n",
      "Best after iteration 64: [11.47787156  6.68599866  4.71678806  0.22126343] 108.31479392352108\n",
      "Best after iteration 65: [11.47787156  6.68599866  4.71678806  0.22126343] 108.31479392352108\n",
      "Best after iteration 66: [11.47787156  6.68599866  4.71678806  0.22126343] 108.31479392352108\n",
      "Best after iteration 67: [11.47787156  6.68599866  4.71678806  0.22126343] 108.31479392352108\n",
      "Best after iteration 68: [11.47787156  6.68599866  4.71678806  0.22126343] 108.31479392352108\n",
      "Best after iteration 69: [11.47787156  6.68599866  4.71678806  0.22126343] 108.31479392352108\n",
      "Best after iteration 70: [11.47787156  6.68599866  4.71678806  0.22126343] 108.31479392352108\n",
      "Best after iteration 71: [11.47787156  6.68599866  4.71678806  0.22126343] 108.31479392352108\n",
      "Best after iteration 72: [11.47787156  6.68599866  4.71678806  0.22126343] 108.31479392352108\n",
      "Best after iteration 73: [11.47787156  6.68599866  4.71678806  0.22126343] 108.31479392352108\n"
     ]
    },
    {
     "name": "stdout",
     "output_type": "stream",
     "text": [
      "Best after iteration 74: [11.47787156  6.68599866  4.71678806  0.22126343] 108.31479392352108\n",
      "Best after iteration 75: [11.47787156  6.68599866  4.71678806  0.22126343] 108.31479392352108\n",
      "Best after iteration 76: [11.47787156  6.68599866  4.71678806  0.22126343] 108.31479392352108\n",
      "Best after iteration 77: [11.47787156  6.68599866  4.71678806  0.22126343] 108.31479392352108\n",
      "Best after iteration 78: [11.47787156  6.68599866  4.71678806  0.22126343] 108.31479392352108\n",
      "New best for swarm at iteration 79: [11.39640419  6.67891781  4.72881751  0.22149379] 108.30674558325364\n",
      "Best after iteration 79: [11.39640419  6.67891781  4.72881751  0.22149379] 108.30674558325364\n",
      "New best for swarm at iteration 80: [11.46175237  6.67548535  4.7191081   0.22615875] 108.29831332691772\n",
      "Best after iteration 80: [11.46175237  6.67548535  4.7191081   0.22615875] 108.29831332691772\n",
      "Best after iteration 81: [11.46175237  6.67548535  4.7191081   0.22615875] 108.29831332691772\n",
      "Best after iteration 82: [11.46175237  6.67548535  4.7191081   0.22615875] 108.29831332691772\n",
      "Best after iteration 83: [11.46175237  6.67548535  4.7191081   0.22615875] 108.29831332691772\n",
      "New best for swarm at iteration 84: [11.40079996  6.67024287  4.7161006   0.22428275] 108.2953539003605\n",
      "Best after iteration 84: [11.40079996  6.67024287  4.7161006   0.22428275] 108.2953539003605\n",
      "Best after iteration 85: [11.40079996  6.67024287  4.7161006   0.22428275] 108.2953539003605\n",
      "Best after iteration 86: [11.40079996  6.67024287  4.7161006   0.22428275] 108.2953539003605\n",
      "Best after iteration 87: [11.40079996  6.67024287  4.7161006   0.22428275] 108.2953539003605\n",
      "New best for swarm at iteration 88: [11.40539282  6.66531232  4.71630919  0.22538773] 108.29437204733794\n",
      "Best after iteration 88: [11.40539282  6.66531232  4.71630919  0.22538773] 108.29437204733794\n",
      "New best for swarm at iteration 89: [11.4080633   6.67352388  4.72017491  0.22849594] 108.29339401465997\n",
      "Best after iteration 89: [11.4080633   6.67352388  4.72017491  0.22849594] 108.29339401465997\n",
      "Best after iteration 90: [11.4080633   6.67352388  4.72017491  0.22849594] 108.29339401465997\n",
      "New best for swarm at iteration 91: [11.36014902  6.67726455  4.7185794   0.22915097] 108.29293636060106\n",
      "Best after iteration 91: [11.36014902  6.67726455  4.7185794   0.22915097] 108.29293636060106\n",
      "Best after iteration 92: [11.36014902  6.67726455  4.7185794   0.22915097] 108.29293636060106\n",
      "Best after iteration 93: [11.36014902  6.67726455  4.7185794   0.22915097] 108.29293636060106\n",
      "New best for swarm at iteration 94: [11.30830001  6.68319193  4.71382732  0.22800516] 108.29270275790941\n",
      "Best after iteration 94: [11.30830001  6.68319193  4.71382732  0.22800516] 108.29270275790941\n",
      "Best after iteration 95: [11.30830001  6.68319193  4.71382732  0.22800516] 108.29270275790941\n",
      "Best after iteration 96: [11.30830001  6.68319193  4.71382732  0.22800516] 108.29270275790941\n",
      "Best after iteration 97: [11.30830001  6.68319193  4.71382732  0.22800516] 108.29270275790941\n",
      "Best after iteration 98: [11.30830001  6.68319193  4.71382732  0.22800516] 108.29270275790941\n",
      "Best after iteration 99: [11.30830001  6.68319193  4.71382732  0.22800516] 108.29270275790941\n",
      "Best after iteration 100: [11.30830001  6.68319193  4.71382732  0.22800516] 108.29270275790941\n",
      "Stopping search: maximum iterations reached --> 100\n"
     ]
    },
    {
     "name": "stderr",
     "output_type": "stream",
     "text": [
      " 16%|█▌        | 1613/10000 [19:10<1:49:01,  1.28it/s]"
     ]
    }
   ],
   "source": [
    "samples_dict = full_calibration(model, timeseries, spatial_unit, start_date, end_beta, end_ramp, \n",
    "                            fig_path, samples_path,\n",
    "                            maxiter=100, popsize=100, steps_mcmc=10000)\n",
    "\n",
    "states = [['H_in']]\n",
    "end_date = '2020-07-01'\n",
    "data=[timeseries[start_date:end_ramp].values]"
   ]
  },
  {
   "cell_type": "code",
   "execution_count": null,
   "metadata": {
    "ExecuteTime": {
     "end_time": "2020-10-26T20:04:01.996680Z",
     "start_time": "2020-10-26T20:03:16.861120Z"
    },
    "scrolled": false
   },
   "outputs": [],
   "source": [
    "\n",
    "fig,ax=plt.subplots()\n",
    "for i in range(200):\n",
    "    idx,model.parameters['beta'] = random.choice(list(enumerate(samples_dict['beta'])))\n",
    "    idx,model.parameters['l'] = random.choice(list(enumerate(samples_dict['l'])))\n",
    "    model.parameters['tau'] = samples_dict['tau'][idx]\n",
    "    prevention = samples_dict['prevention'][idx]\n",
    "    # Create a dictionary of past policies\n",
    "#     chk = {'time':   [start_date], \n",
    "#           'Nc':      [prevention*(Nc_home + 0.4*Nc_work + 0.3*Nc_transport + 0.7*Nc_others + 0.2*Nc_leisure)]\n",
    "#           }\n",
    "    y_model = model.sim(time=end_date, excess_time=samples_dict['lag_time'])\n",
    "    ax = plot_fit(y_model,data,start_date,samples_dict['lag_time'],states,end_date=end_date,with_ints=False,ax=ax,plt_kwargs={'color':'blue','linewidth': 2,'alpha': 0.05})\n",
    "\n",
    "data_after_calib = timeseries[pd.to_datetime(end_ramp)+pd.to_timedelta('1d'):end_date]\n",
    "plt.scatter(data_after_calib.index, data_after_calib.values, marker='o',color='red',linestyle='None',facecolors='none')\n",
    "legend_text=['daily \\nhospitalizations']\n",
    "ax.set_xlim('2020-03-10', '2020-07-01')\n",
    "fig.savefig(fig_path+'Luik.pdf',\n",
    "            bbox_inches='tight', dpi=600)"
   ]
  },
  {
   "cell_type": "code",
   "execution_count": null,
   "metadata": {
    "ExecuteTime": {
     "end_time": "2020-10-26T20:06:59.896695Z",
     "start_time": "2020-10-26T20:06:56.516473Z"
    }
   },
   "outputs": [],
   "source": [
    "fig.savefig(fig_path+'Luik.pdf',\n",
    "            bbox_inches='tight', dpi=600)"
   ]
  },
  {
   "cell_type": "code",
   "execution_count": null,
   "metadata": {},
   "outputs": [],
   "source": []
  },
  {
   "cell_type": "markdown",
   "metadata": {},
   "source": [
    "# Check step-by-step for debugging if needed"
   ]
  },
  {
   "cell_type": "code",
   "execution_count": null,
   "metadata": {
    "ExecuteTime": {
     "end_time": "2020-10-26T13:20:44.879887Z",
     "start_time": "2020-10-26T13:20:44.828391Z"
    }
   },
   "outputs": [],
   "source": [
    "# define dataset\n",
    "data=Luik_ts['NEW_IN']\n",
    "states = [[\"H_in\"]]"
   ]
  },
  {
   "cell_type": "code",
   "execution_count": null,
   "metadata": {
    "ExecuteTime": {
     "end_time": "2020-10-26T13:12:53.545700Z",
     "start_time": "2020-10-26T13:12:51.117077Z"
    }
   },
   "outputs": [],
   "source": [
    "\n",
    "#############################################\n",
    "####### CALIBRATING BETA AND LAG_TIME #######\n",
    "#############################################\n",
    "\n",
    "# set optimisation settings\n",
    "parNames_pso = ['sigma_data','extraTime','beta'] # must be a list!\n",
    "bounds_pso=((1,100),(30,60),(0.02,0.06)) # must be a list!\n",
    "# run pso optimisation\n",
    "theta = MCMC.fit_pso(model,data,parNames_pso,states,bounds_pso,maxiter=maxiter,popsize=popsize)\n",
    "\n",
    "lag_time = int(round(theta[1]))\n",
    "# Assign 'extraTime' or lag_time as a model attribute --> is needed to perform the optimalization\n",
    "model.extraTime = int(round(theta[1]))\n",
    "\n",
    "model.parameters.update({'beta': theta[2]})\n",
    "\n",
    "parNames_mcmc = ['sigma_data','beta'] # must be a list!\n",
    "bounds_mcmc=((1,200),(0.01,0.10))"
   ]
  },
  {
   "cell_type": "code",
   "execution_count": null,
   "metadata": {},
   "outputs": [],
   "source": [
    "\n",
    "\n",
    "# run MCMC calibration\n",
    "pos = [theta[0],theta[2]] + [1, 1e-2 ]* np.random.randn(4, 2)\n",
    "nwalkers, ndim = pos.shape\n",
    "sampler = emcee.EnsembleSampler(nwalkers, ndim, objective_fcns.log_probability,\n",
    "                                args=(model, bounds_mcmc, data, states, parNames_mcmc))\n",
    "sampler.run_mcmc(pos, steps_mcmc, progress=True);\n",
    "\n",
    "samples_beta = sampler.get_chain(discard=500,flat=False)\n",
    "flat_samples_beta = sampler.get_chain(discard=500,flat=True)\n",
    "\n",
    "try:\n",
    "    sampler.get_autocorr_time()\n",
    "except:\n",
    "    print('Calibrating beta. Warning: The chain is shorter than 50 times the integrated autocorrelation time for 4 parameter(s). Use this estimate with caution and run a longer chain!')\n",
    "\n",
    "\n",
    "traceplot(samples_beta,labels=['$\\sigma_{data}$','$\\\\beta$'],plt_kwargs={'linewidth':2,'color': 'red','alpha': 0.15})\n",
    "plt.savefig(fig_path+'traceplots/beta_'+str(spatial_unit)+'_'+str(datetime.date.today())+'.pdf',\n",
    "            dpi=600, bbox_inches='tight')\n",
    "\n",
    "fig = corner.corner(flat_samples_beta,labels=['$\\sigma_{data}$','$\\\\beta$'])\n",
    "fig.set_size_inches(8, 8)\n",
    "plt.savefig(fig_path+'cornerplots/beta_'+str(spatial_unit)+'_'+str(datetime.date.today())+'.pdf',\n",
    "            dpi=600, bbox_inches='tight')"
   ]
  },
  {
   "cell_type": "code",
   "execution_count": null,
   "metadata": {},
   "outputs": [],
   "source": [
    "#############################################\n",
    "####### CALIBRATING COMPLIANCE PARAMS #######\n",
    "#############################################\n",
    "\n",
    "samples_beta = {'beta': flat_samples_beta[:,1].tolist()}\n",
    "\n",
    "# Create checkpoints dictionary\n",
    "chk_beta_pso = {\n",
    "    'time':  [lag_time],\n",
    "    'Nc':    [0.2*Nc_home + 0.3*Nc_work + 0.2*Nc_transport],\n",
    "}\n",
    "# define dataset\n",
    "data=[timeseries[start_date:end_ramp]]\n",
    "# set optimisation settings\n",
    "parNames_pso2 = ['sigma_data','l','tau','prevention'] # must be a list!\n",
    "bounds_pso2=((1,100),(0.1,20),(0,20),(0,1)) # must be a list!\n",
    "# run optimisation\n",
    "theta = MCMC.fit_pso(model, data, parNames_pso2, states, bounds_pso2,\n",
    "                     checkpoints=chk_beta_pso, samples=samples_beta, maxiter=maxiter,popsize=popsize)\n",
    "\n",
    "model.parameters.update({'l': theta[1], 'tau': theta[2]})\n",
    "prevention = theta[2]\n",
    "\n",
    "# Create checkpoints dictionary\n",
    "chk_beta_MCMC = {\n",
    "    'time':  [lag_time],\n",
    "    'Nc':    [prevention*(1.0*Nc_home + 0.4*Nc_work + 0.3*Nc_transport + 0.7*Nc_others + 0.2*Nc_leisure)]}\n",
    "\n",
    "\n",
    "bounds_mcmc2=((1,100),(0.001,20),(0,20),(0,1)) # must be a list!\n",
    "pos = theta + [1, 0.1, 0.1, 0.1 ]* np.random.randn(8, 4)\n",
    "nwalkers, ndim = pos.shape\n",
    "sampler = emcee.EnsembleSampler(nwalkers, ndim, objective_fcns.log_probability,\n",
    "                                args=(model,bounds_mcmc2,data,states,parNames_pso2,chk_beta_MCMC,samples_beta))\n",
    "\n",
    "sampler.run_mcmc(pos, steps_mcmc, progress=True);\n",
    "\n",
    "try:\n",
    "    sampler.get_autocorr_time()\n",
    "except:\n",
    "    print('Calibrating compliance ramp. Warning: The chain is shorter than 50 times the integrated autocorrelation time for 4 parameter(s). Use this estimate with caution and run a longer chain!')\n",
    "\n",
    "\n",
    "samples_ramp = sampler.get_chain(discard=200,flat=False)\n",
    "flat_samples_ramp = sampler.get_chain(discard=200,flat=True)\n",
    "\n",
    "traceplot(samples_ramp, labels=[\"$\\sigma_{data}$\",\"l\",\"$\\\\tau$\",\"prevention\"],\n",
    "          plt_kwargs={'linewidth':2,'color': 'red','alpha': 0.15})\n",
    "plt.savefig(fig_path+'traceplots/ramp_'+str(spatial_unit)+'_'+str(datetime.date.today())+'.pdf',\n",
    "            dpi=600, bbox_inches='tight')\n",
    "\n",
    "fig = corner.corner(flat_samples_ramp, labels=[\"$\\sigma_{data}$\",\"l\",\"$\\\\tau$\",\"$\\Omega$\"])\n",
    "fig.set_size_inches(9, 9)\n",
    "plt.savefig(fig_path+'cornerplots/ramp_'+str(spatial_unit)+'_'+str(datetime.date.today())+'.pdf',\n",
    "            dpi=600, bbox_inches='tight')\n",
    "\n",
    "#############################################\n",
    "####### CALCULATING R0 ######################\n",
    "#############################################\n",
    "\n",
    "R0 =[]\n",
    "for i in range(len(samples_beta['beta'])):\n",
    "    R0.append(sum((model.parameters['a']*model.parameters['da']+model.parameters['omega'])*samples_beta['beta'][i]*model.parameters['s']*np.sum(Nc_total,axis=1)*(initN/sum(initN))))\n",
    "R0_stratified = np.zeros([initN.size,len(samples_beta['beta'])])\n",
    "for i in range(len(samples_beta['beta'])):\n",
    "    R0_stratified[:,i]= (model.parameters['a']*model.parameters['da']+model.parameters['omega'])*samples_beta['beta'][i]*model.parameters['s']*np.sum(Nc_total,axis=1)\n",
    "R0_stratified_dict = pd.DataFrame(R0_stratified).T.to_dict(orient='list')\n",
    "\n",
    "samples_dict={'calibration_data':states[0][0], 'start_date':start_date,\n",
    "              'end_beta':end_beta, 'end_ramp':end_ramp,\n",
    "              'maxiter': maxiter, 'popsize':popsize, 'steps_mcmc':steps_mcmc,\n",
    "              'R0':R0, 'R0_stratified_dict':R0_stratified_dict,\n",
    "              'lag_time': lag_time, 'beta': samples_beta['beta'],\n",
    "              'l': flat_samples_ramp[:,1].tolist(),'tau':flat_samples_ramp[:,2].tolist(),\n",
    "              'prevention':flat_samples_ramp[:,3].tolist()}\n",
    "\n",
    "with open(samples_path+str(spatial_unit)+'_'+str(datetime.date.today())+'.json', 'w') as fp:\n",
    "    json.dump(samples_dict, fp)\n",
    "\n"
   ]
  },
  {
   "cell_type": "markdown",
   "metadata": {},
   "source": [
    "# Run in parallel"
   ]
  },
  {
   "cell_type": "code",
   "execution_count": null,
   "metadata": {
    "ExecuteTime": {
     "end_time": "2020-09-08T06:47:28.719315Z",
     "start_time": "2020-09-08T06:47:28.681105Z"
    }
   },
   "outputs": [],
   "source": [
    "arr_list = list(nonpublic_ts.NIS.unique())"
   ]
  },
  {
   "cell_type": "code",
   "execution_count": null,
   "metadata": {
    "ExecuteTime": {
     "end_time": "2020-09-08T06:47:28.972641Z",
     "start_time": "2020-09-08T06:47:28.922951Z"
    }
   },
   "outputs": [],
   "source": [
    "def run_me_parallel(arr):\n",
    "    arrond_ts = nonpublic_ts.pivot(index='DATE', columns='NIS', values='hospitalised_IN')[arr]\n",
    "    samples_dict = full_calibration(model, arrond_ts, arr, start_date, end_beta, end_ramp, \n",
    "                                fig_path, samples_path)\n",
    "                                #maxiter=10, popsize=10, steps_mcmc=250)\n",
    "    \n",
    "    states = [['H_in']]\n",
    "    end_date = '2020-09-20'\n",
    "    data=[arrond_ts[start_date:end_ramp].values]\n",
    "    fig,ax=plt.subplots()\n",
    "    for i in range(200):\n",
    "        idx,model.parameters['beta'] = random.choice(list(enumerate(samples_dict['beta'])))\n",
    "        idx,model.parameters['l'] = random.choice(list(enumerate(samples_dict['l'])))\n",
    "        model.parameters['tau'] = samples_dict['tau'][idx]\n",
    "        prevention = samples_dict['prevention'][idx]\n",
    "        # Create a dictionary of past policies\n",
    "        chk = {'time':   [start_date], \n",
    "              'Nc':      [prevention*(Nc_home + 0.4*Nc_work + 0.3*Nc_transport + 0.7*Nc_others + 0.2*Nc_leisure)]\n",
    "              }\n",
    "        y_model = model.sim(time=end_date, excess_time=samples_dict['lag_time'],checkpoints=chk)\n",
    "        ax = plot_fit(y_model,data,start_date,samples_dict['lag_time'],states,end_date=end_date,with_ints=False,ax=ax,plt_kwargs={'color':'blue','linewidth': 2,'alpha': 0.05})\n",
    "\n",
    "    data_after_calib = arrond_ts[pd.to_datetime(end_ramp)+pd.to_timedelta('1d'):end_date]\n",
    "    plt.scatter(data_after_calib.index, data_after_calib.values, marker='o',color='red',linestyle='None',facecolors='none')\n",
    "    legend_text=['daily \\nhospitalizations']\n",
    "    ax.set_xlim('2020-03-10', '2020-08-03')\n",
    "    fig.savefig('../results/calibrations_arrondissements/'+str(arr)+'_'+str(datetime.date.today())+'.pdf',\n",
    "                bbox_inches='tight', dpi=600)\n",
    "    return"
   ]
  },
  {
   "cell_type": "code",
   "execution_count": null,
   "metadata": {
    "ExecuteTime": {
     "end_time": "2020-08-21T21:22:05.230236Z",
     "start_time": "2020-08-21T21:22:05.183627Z"
    }
   },
   "outputs": [],
   "source": [
    "tasks = []\n",
    "for arr in arr_list:\n",
    "    task = dask.delayed(run_me_parallel)(arr)\n",
    "    tasks.append(task)\n",
    "    "
   ]
  },
  {
   "cell_type": "code",
   "execution_count": null,
   "metadata": {
    "ExecuteTime": {
     "end_time": "2020-08-22T04:06:54.088203Z",
     "start_time": "2020-08-21T21:22:20.296014Z"
    }
   },
   "outputs": [],
   "source": [
    "dask.compute(*tasks, scheduler='processes')"
   ]
  },
  {
   "cell_type": "code",
   "execution_count": null,
   "metadata": {
    "ExecuteTime": {
     "end_time": "2020-08-27T15:37:21.955310Z",
     "start_time": "2020-08-27T15:37:21.911174Z"
    }
   },
   "outputs": [],
   "source": [
    "run_date = '2020-08-22'"
   ]
  },
  {
   "cell_type": "code",
   "execution_count": null,
   "metadata": {
    "ExecuteTime": {
     "end_time": "2020-08-27T15:37:22.598066Z",
     "start_time": "2020-08-27T15:37:22.246770Z"
    }
   },
   "outputs": [],
   "source": [
    "with open(samples_path+'44000'+'_'+run_date+'.json', 'r') as fp:\n",
    "    samples_dict = json.load(fp)"
   ]
  },
  {
   "cell_type": "markdown",
   "metadata": {},
   "source": []
  }
 ],
 "metadata": {
  "kernelspec": {
   "display_name": "COVID19",
   "language": "python",
   "name": "python3"
  },
  "language_info": {
   "codemirror_mode": {
    "name": "ipython",
    "version": 3
   },
   "file_extension": ".py",
   "mimetype": "text/x-python",
   "name": "python",
   "nbconvert_exporter": "python",
   "pygments_lexer": "ipython3",
   "version": "3.7.7"
  },
  "toc": {
   "base_numbering": 1,
   "nav_menu": {},
   "number_sections": true,
   "sideBar": true,
   "skip_h1_title": false,
   "title_cell": "Table of Contents",
   "title_sidebar": "Contents",
   "toc_cell": false,
   "toc_position": {
    "height": "calc(100% - 180px)",
    "left": "10px",
    "top": "150px",
    "width": "288px"
   },
   "toc_section_display": true,
   "toc_window_display": true
  }
 },
 "nbformat": 4,
 "nbformat_minor": 4
}
