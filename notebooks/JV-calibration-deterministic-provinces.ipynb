{
 "cells": [
  {
   "cell_type": "markdown",
   "metadata": {},
   "source": [
    "**Calibration of the age-stratified deterministic model**\n",
    "\n",
    "*Original code by Ryan S. McGee. Modified by T.W. Alleman in consultation with the BIOMATH research unit headed by prof. Ingmar Nopens.*\n",
    "\n",
    "Copyright (c) 2020 by T.W. Alleman, BIOMATH, Ghent University. All Rights Reserved.\n",
    "\n",
    "This notebook accompanies our preprint: \"*A deterministic, age-stratified, extended SEIRD model for assessing the effect of non-pharmaceutical interventions on SARS-CoV-2 spread in Belgium*\"(https://doi.org/10.1101/2020.07.17.20156034)"
   ]
  },
  {
   "cell_type": "markdown",
   "metadata": {},
   "source": [
    "# Load required packages"
   ]
  },
  {
   "cell_type": "code",
   "execution_count": 1,
   "metadata": {
    "ExecuteTime": {
     "end_time": "2020-11-03T07:02:28.792310Z",
     "start_time": "2020-11-03T07:02:26.404331Z"
    }
   },
   "outputs": [],
   "source": [
    "import random\n",
    "import os\n",
    "import numpy as np\n",
    "%matplotlib notebook\n",
    "import matplotlib.pyplot as plt\n",
    "from IPython.display import Image\n",
    "from ipywidgets import interact,fixed,FloatSlider,IntSlider,ToggleButtons\n",
    "import pandas as pd\n",
    "from datetime import datetime, timedelta\n",
    "import scipy\n",
    "from scipy.integrate import odeint\n",
    "from scipy.stats import norm\n",
    "import matplotlib.dates as mdates\n",
    "import matplotlib\n",
    "import scipy.stats as st\n",
    "\n",
    "import math\n",
    "import xarray as xr\n",
    "import emcee\n",
    "import json\n",
    "import corner\n",
    "\n",
    "from covid19model.optimization import objective_fcns, pso\n",
    "from covid19model.optimization.run_optimization import full_calibration_wave1, full_calibration_wave2\n",
    "from covid19model.models import models\n",
    "from covid19model.data import google, sciensano, model_parameters\n",
    "from covid19model.visualization.output import population_status, infected\n",
    "from covid19model.visualization.optimization import plot_fit, traceplot\n",
    "from covid19model.models.utils import draw_sample_COVID19_SEIRD\n",
    "\n",
    "\n",
    "# OPTIONAL: Load the \"autoreload\" extension so that package code can change\n",
    "%load_ext autoreload\n",
    "# OPTIONAL: always reload modules so that as you change code in src, it gets loaded\n",
    "%autoreload 2"
   ]
  },
  {
   "cell_type": "code",
   "execution_count": 2,
   "metadata": {
    "ExecuteTime": {
     "end_time": "2020-11-02T10:28:53.233506Z",
     "start_time": "2020-11-02T10:28:53.198636Z"
    }
   },
   "outputs": [],
   "source": [
    "# import dask\n",
    "\n",
    "# from dask.distributed import Client, progress\n",
    "# client = Client(threads_per_worker=16, n_workers=1)\n",
    "# client"
   ]
  },
  {
   "cell_type": "markdown",
   "metadata": {},
   "source": [
    "# Get public data"
   ]
  },
  {
   "cell_type": "code",
   "execution_count": 3,
   "metadata": {
    "ExecuteTime": {
     "end_time": "2020-11-03T07:02:30.819329Z",
     "start_time": "2020-11-03T07:02:30.714956Z"
    }
   },
   "outputs": [],
   "source": [
    "df_sciensano = sciensano.get_sciensano_COVID19_data(update=False)\n"
   ]
  },
  {
   "cell_type": "code",
   "execution_count": 4,
   "metadata": {
    "ExecuteTime": {
     "end_time": "2020-11-03T07:02:31.283343Z",
     "start_time": "2020-11-03T07:02:31.233187Z"
    }
   },
   "outputs": [],
   "source": [
    "raw_hosp_data = pd.read_csv('../data/raw/sciensano/COVID19BE_HOSP.csv', parse_dates=['DATE'])\n",
    "Luik_hosp_data = raw_hosp_data[raw_hosp_data.PROVINCE=='Liège']"
   ]
  },
  {
   "cell_type": "code",
   "execution_count": 5,
   "metadata": {
    "ExecuteTime": {
     "end_time": "2020-11-03T07:02:31.715743Z",
     "start_time": "2020-11-03T07:02:31.679581Z"
    }
   },
   "outputs": [],
   "source": [
    "#Luik_hosp_data.plot('DATE','NEW_IN')"
   ]
  },
  {
   "cell_type": "code",
   "execution_count": 6,
   "metadata": {
    "ExecuteTime": {
     "end_time": "2020-11-03T07:02:32.049518Z",
     "start_time": "2020-11-03T07:02:32.010400Z"
    },
    "scrolled": true
   },
   "outputs": [],
   "source": [
    "Luik_ts = Luik_hosp_data[['DATE','NEW_IN']].set_index('DATE')"
   ]
  },
  {
   "cell_type": "code",
   "execution_count": 7,
   "metadata": {
    "ExecuteTime": {
     "end_time": "2020-11-02T16:04:22.903218Z",
     "start_time": "2020-11-02T16:04:22.706408Z"
    }
   },
   "outputs": [
    {
     "data": {
      "application/javascript": [
       "/* Put everything inside the global mpl namespace */\n",
       "/* global mpl */\n",
       "window.mpl = {};\n",
       "\n",
       "mpl.get_websocket_type = function () {\n",
       "    if (typeof WebSocket !== 'undefined') {\n",
       "        return WebSocket;\n",
       "    } else if (typeof MozWebSocket !== 'undefined') {\n",
       "        return MozWebSocket;\n",
       "    } else {\n",
       "        alert(\n",
       "            'Your browser does not have WebSocket support. ' +\n",
       "                'Please try Chrome, Safari or Firefox ≥ 6. ' +\n",
       "                'Firefox 4 and 5 are also supported but you ' +\n",
       "                'have to enable WebSockets in about:config.'\n",
       "        );\n",
       "    }\n",
       "};\n",
       "\n",
       "mpl.figure = function (figure_id, websocket, ondownload, parent_element) {\n",
       "    this.id = figure_id;\n",
       "\n",
       "    this.ws = websocket;\n",
       "\n",
       "    this.supports_binary = this.ws.binaryType !== undefined;\n",
       "\n",
       "    if (!this.supports_binary) {\n",
       "        var warnings = document.getElementById('mpl-warnings');\n",
       "        if (warnings) {\n",
       "            warnings.style.display = 'block';\n",
       "            warnings.textContent =\n",
       "                'This browser does not support binary websocket messages. ' +\n",
       "                'Performance may be slow.';\n",
       "        }\n",
       "    }\n",
       "\n",
       "    this.imageObj = new Image();\n",
       "\n",
       "    this.context = undefined;\n",
       "    this.message = undefined;\n",
       "    this.canvas = undefined;\n",
       "    this.rubberband_canvas = undefined;\n",
       "    this.rubberband_context = undefined;\n",
       "    this.format_dropdown = undefined;\n",
       "\n",
       "    this.image_mode = 'full';\n",
       "\n",
       "    this.root = document.createElement('div');\n",
       "    this.root.setAttribute('style', 'display: inline-block');\n",
       "    this._root_extra_style(this.root);\n",
       "\n",
       "    parent_element.appendChild(this.root);\n",
       "\n",
       "    this._init_header(this);\n",
       "    this._init_canvas(this);\n",
       "    this._init_toolbar(this);\n",
       "\n",
       "    var fig = this;\n",
       "\n",
       "    this.waiting = false;\n",
       "\n",
       "    this.ws.onopen = function () {\n",
       "        fig.send_message('supports_binary', { value: fig.supports_binary });\n",
       "        fig.send_message('send_image_mode', {});\n",
       "        if (mpl.ratio !== 1) {\n",
       "            fig.send_message('set_dpi_ratio', { dpi_ratio: mpl.ratio });\n",
       "        }\n",
       "        fig.send_message('refresh', {});\n",
       "    };\n",
       "\n",
       "    this.imageObj.onload = function () {\n",
       "        if (fig.image_mode === 'full') {\n",
       "            // Full images could contain transparency (where diff images\n",
       "            // almost always do), so we need to clear the canvas so that\n",
       "            // there is no ghosting.\n",
       "            fig.context.clearRect(0, 0, fig.canvas.width, fig.canvas.height);\n",
       "        }\n",
       "        fig.context.drawImage(fig.imageObj, 0, 0);\n",
       "    };\n",
       "\n",
       "    this.imageObj.onunload = function () {\n",
       "        fig.ws.close();\n",
       "    };\n",
       "\n",
       "    this.ws.onmessage = this._make_on_message_function(this);\n",
       "\n",
       "    this.ondownload = ondownload;\n",
       "};\n",
       "\n",
       "mpl.figure.prototype._init_header = function () {\n",
       "    var titlebar = document.createElement('div');\n",
       "    titlebar.classList =\n",
       "        'ui-dialog-titlebar ui-widget-header ui-corner-all ui-helper-clearfix';\n",
       "    var titletext = document.createElement('div');\n",
       "    titletext.classList = 'ui-dialog-title';\n",
       "    titletext.setAttribute(\n",
       "        'style',\n",
       "        'width: 100%; text-align: center; padding: 3px;'\n",
       "    );\n",
       "    titlebar.appendChild(titletext);\n",
       "    this.root.appendChild(titlebar);\n",
       "    this.header = titletext;\n",
       "};\n",
       "\n",
       "mpl.figure.prototype._canvas_extra_style = function (_canvas_div) {};\n",
       "\n",
       "mpl.figure.prototype._root_extra_style = function (_canvas_div) {};\n",
       "\n",
       "mpl.figure.prototype._init_canvas = function () {\n",
       "    var fig = this;\n",
       "\n",
       "    var canvas_div = (this.canvas_div = document.createElement('div'));\n",
       "    canvas_div.setAttribute(\n",
       "        'style',\n",
       "        'border: 1px solid #ddd;' +\n",
       "            'box-sizing: content-box;' +\n",
       "            'clear: both;' +\n",
       "            'min-height: 1px;' +\n",
       "            'min-width: 1px;' +\n",
       "            'outline: 0;' +\n",
       "            'overflow: hidden;' +\n",
       "            'position: relative;' +\n",
       "            'resize: both;'\n",
       "    );\n",
       "\n",
       "    function on_keyboard_event_closure(name) {\n",
       "        return function (event) {\n",
       "            return fig.key_event(event, name);\n",
       "        };\n",
       "    }\n",
       "\n",
       "    canvas_div.addEventListener(\n",
       "        'keydown',\n",
       "        on_keyboard_event_closure('key_press')\n",
       "    );\n",
       "    canvas_div.addEventListener(\n",
       "        'keyup',\n",
       "        on_keyboard_event_closure('key_release')\n",
       "    );\n",
       "\n",
       "    this._canvas_extra_style(canvas_div);\n",
       "    this.root.appendChild(canvas_div);\n",
       "\n",
       "    var canvas = (this.canvas = document.createElement('canvas'));\n",
       "    canvas.classList.add('mpl-canvas');\n",
       "    canvas.setAttribute('style', 'box-sizing: content-box;');\n",
       "\n",
       "    this.context = canvas.getContext('2d');\n",
       "\n",
       "    var backingStore =\n",
       "        this.context.backingStorePixelRatio ||\n",
       "        this.context.webkitBackingStorePixelRatio ||\n",
       "        this.context.mozBackingStorePixelRatio ||\n",
       "        this.context.msBackingStorePixelRatio ||\n",
       "        this.context.oBackingStorePixelRatio ||\n",
       "        this.context.backingStorePixelRatio ||\n",
       "        1;\n",
       "\n",
       "    mpl.ratio = (window.devicePixelRatio || 1) / backingStore;\n",
       "\n",
       "    var rubberband_canvas = (this.rubberband_canvas = document.createElement(\n",
       "        'canvas'\n",
       "    ));\n",
       "    rubberband_canvas.setAttribute(\n",
       "        'style',\n",
       "        'box-sizing: content-box; position: absolute; left: 0; top: 0; z-index: 1;'\n",
       "    );\n",
       "\n",
       "    var resizeObserver = new ResizeObserver(function (entries) {\n",
       "        var nentries = entries.length;\n",
       "        for (var i = 0; i < nentries; i++) {\n",
       "            var entry = entries[i];\n",
       "            var width, height;\n",
       "            if (entry.contentBoxSize) {\n",
       "                if (entry.contentBoxSize instanceof Array) {\n",
       "                    // Chrome 84 implements new version of spec.\n",
       "                    width = entry.contentBoxSize[0].inlineSize;\n",
       "                    height = entry.contentBoxSize[0].blockSize;\n",
       "                } else {\n",
       "                    // Firefox implements old version of spec.\n",
       "                    width = entry.contentBoxSize.inlineSize;\n",
       "                    height = entry.contentBoxSize.blockSize;\n",
       "                }\n",
       "            } else {\n",
       "                // Chrome <84 implements even older version of spec.\n",
       "                width = entry.contentRect.width;\n",
       "                height = entry.contentRect.height;\n",
       "            }\n",
       "\n",
       "            // Keep the size of the canvas and rubber band canvas in sync with\n",
       "            // the canvas container.\n",
       "            if (entry.devicePixelContentBoxSize) {\n",
       "                // Chrome 84 implements new version of spec.\n",
       "                canvas.setAttribute(\n",
       "                    'width',\n",
       "                    entry.devicePixelContentBoxSize[0].inlineSize\n",
       "                );\n",
       "                canvas.setAttribute(\n",
       "                    'height',\n",
       "                    entry.devicePixelContentBoxSize[0].blockSize\n",
       "                );\n",
       "            } else {\n",
       "                canvas.setAttribute('width', width * mpl.ratio);\n",
       "                canvas.setAttribute('height', height * mpl.ratio);\n",
       "            }\n",
       "            canvas.setAttribute(\n",
       "                'style',\n",
       "                'width: ' + width + 'px; height: ' + height + 'px;'\n",
       "            );\n",
       "\n",
       "            rubberband_canvas.setAttribute('width', width);\n",
       "            rubberband_canvas.setAttribute('height', height);\n",
       "\n",
       "            // And update the size in Python. We ignore the initial 0/0 size\n",
       "            // that occurs as the element is placed into the DOM, which should\n",
       "            // otherwise not happen due to the minimum size styling.\n",
       "            if (width != 0 && height != 0) {\n",
       "                fig.request_resize(width, height);\n",
       "            }\n",
       "        }\n",
       "    });\n",
       "    resizeObserver.observe(canvas_div);\n",
       "\n",
       "    function on_mouse_event_closure(name) {\n",
       "        return function (event) {\n",
       "            return fig.mouse_event(event, name);\n",
       "        };\n",
       "    }\n",
       "\n",
       "    rubberband_canvas.addEventListener(\n",
       "        'mousedown',\n",
       "        on_mouse_event_closure('button_press')\n",
       "    );\n",
       "    rubberband_canvas.addEventListener(\n",
       "        'mouseup',\n",
       "        on_mouse_event_closure('button_release')\n",
       "    );\n",
       "    // Throttle sequential mouse events to 1 every 20ms.\n",
       "    rubberband_canvas.addEventListener(\n",
       "        'mousemove',\n",
       "        on_mouse_event_closure('motion_notify')\n",
       "    );\n",
       "\n",
       "    rubberband_canvas.addEventListener(\n",
       "        'mouseenter',\n",
       "        on_mouse_event_closure('figure_enter')\n",
       "    );\n",
       "    rubberband_canvas.addEventListener(\n",
       "        'mouseleave',\n",
       "        on_mouse_event_closure('figure_leave')\n",
       "    );\n",
       "\n",
       "    canvas_div.addEventListener('wheel', function (event) {\n",
       "        if (event.deltaY < 0) {\n",
       "            event.step = 1;\n",
       "        } else {\n",
       "            event.step = -1;\n",
       "        }\n",
       "        on_mouse_event_closure('scroll')(event);\n",
       "    });\n",
       "\n",
       "    canvas_div.appendChild(canvas);\n",
       "    canvas_div.appendChild(rubberband_canvas);\n",
       "\n",
       "    this.rubberband_context = rubberband_canvas.getContext('2d');\n",
       "    this.rubberband_context.strokeStyle = '#000000';\n",
       "\n",
       "    this._resize_canvas = function (width, height, forward) {\n",
       "        if (forward) {\n",
       "            canvas_div.style.width = width + 'px';\n",
       "            canvas_div.style.height = height + 'px';\n",
       "        }\n",
       "    };\n",
       "\n",
       "    // Disable right mouse context menu.\n",
       "    this.rubberband_canvas.addEventListener('contextmenu', function (_e) {\n",
       "        event.preventDefault();\n",
       "        return false;\n",
       "    });\n",
       "\n",
       "    function set_focus() {\n",
       "        canvas.focus();\n",
       "        canvas_div.focus();\n",
       "    }\n",
       "\n",
       "    window.setTimeout(set_focus, 100);\n",
       "};\n",
       "\n",
       "mpl.figure.prototype._init_toolbar = function () {\n",
       "    var fig = this;\n",
       "\n",
       "    var toolbar = document.createElement('div');\n",
       "    toolbar.classList = 'mpl-toolbar';\n",
       "    this.root.appendChild(toolbar);\n",
       "\n",
       "    function on_click_closure(name) {\n",
       "        return function (_event) {\n",
       "            return fig.toolbar_button_onclick(name);\n",
       "        };\n",
       "    }\n",
       "\n",
       "    function on_mouseover_closure(tooltip) {\n",
       "        return function (event) {\n",
       "            if (!event.currentTarget.disabled) {\n",
       "                return fig.toolbar_button_onmouseover(tooltip);\n",
       "            }\n",
       "        };\n",
       "    }\n",
       "\n",
       "    fig.buttons = {};\n",
       "    var buttonGroup = document.createElement('div');\n",
       "    buttonGroup.classList = 'mpl-button-group';\n",
       "    for (var toolbar_ind in mpl.toolbar_items) {\n",
       "        var name = mpl.toolbar_items[toolbar_ind][0];\n",
       "        var tooltip = mpl.toolbar_items[toolbar_ind][1];\n",
       "        var image = mpl.toolbar_items[toolbar_ind][2];\n",
       "        var method_name = mpl.toolbar_items[toolbar_ind][3];\n",
       "\n",
       "        if (!name) {\n",
       "            /* Instead of a spacer, we start a new button group. */\n",
       "            if (buttonGroup.hasChildNodes()) {\n",
       "                toolbar.appendChild(buttonGroup);\n",
       "            }\n",
       "            buttonGroup = document.createElement('div');\n",
       "            buttonGroup.classList = 'mpl-button-group';\n",
       "            continue;\n",
       "        }\n",
       "\n",
       "        var button = (fig.buttons[name] = document.createElement('button'));\n",
       "        button.classList = 'mpl-widget';\n",
       "        button.setAttribute('role', 'button');\n",
       "        button.setAttribute('aria-disabled', 'false');\n",
       "        button.addEventListener('click', on_click_closure(method_name));\n",
       "        button.addEventListener('mouseover', on_mouseover_closure(tooltip));\n",
       "\n",
       "        var icon_img = document.createElement('img');\n",
       "        icon_img.src = '_images/' + image + '.png';\n",
       "        icon_img.srcset = '_images/' + image + '_large.png 2x';\n",
       "        icon_img.alt = tooltip;\n",
       "        button.appendChild(icon_img);\n",
       "\n",
       "        buttonGroup.appendChild(button);\n",
       "    }\n",
       "\n",
       "    if (buttonGroup.hasChildNodes()) {\n",
       "        toolbar.appendChild(buttonGroup);\n",
       "    }\n",
       "\n",
       "    var fmt_picker = document.createElement('select');\n",
       "    fmt_picker.classList = 'mpl-widget';\n",
       "    toolbar.appendChild(fmt_picker);\n",
       "    this.format_dropdown = fmt_picker;\n",
       "\n",
       "    for (var ind in mpl.extensions) {\n",
       "        var fmt = mpl.extensions[ind];\n",
       "        var option = document.createElement('option');\n",
       "        option.selected = fmt === mpl.default_extension;\n",
       "        option.innerHTML = fmt;\n",
       "        fmt_picker.appendChild(option);\n",
       "    }\n",
       "\n",
       "    var status_bar = document.createElement('span');\n",
       "    status_bar.classList = 'mpl-message';\n",
       "    toolbar.appendChild(status_bar);\n",
       "    this.message = status_bar;\n",
       "};\n",
       "\n",
       "mpl.figure.prototype.request_resize = function (x_pixels, y_pixels) {\n",
       "    // Request matplotlib to resize the figure. Matplotlib will then trigger a resize in the client,\n",
       "    // which will in turn request a refresh of the image.\n",
       "    this.send_message('resize', { width: x_pixels, height: y_pixels });\n",
       "};\n",
       "\n",
       "mpl.figure.prototype.send_message = function (type, properties) {\n",
       "    properties['type'] = type;\n",
       "    properties['figure_id'] = this.id;\n",
       "    this.ws.send(JSON.stringify(properties));\n",
       "};\n",
       "\n",
       "mpl.figure.prototype.send_draw_message = function () {\n",
       "    if (!this.waiting) {\n",
       "        this.waiting = true;\n",
       "        this.ws.send(JSON.stringify({ type: 'draw', figure_id: this.id }));\n",
       "    }\n",
       "};\n",
       "\n",
       "mpl.figure.prototype.handle_save = function (fig, _msg) {\n",
       "    var format_dropdown = fig.format_dropdown;\n",
       "    var format = format_dropdown.options[format_dropdown.selectedIndex].value;\n",
       "    fig.ondownload(fig, format);\n",
       "};\n",
       "\n",
       "mpl.figure.prototype.handle_resize = function (fig, msg) {\n",
       "    var size = msg['size'];\n",
       "    if (size[0] !== fig.canvas.width || size[1] !== fig.canvas.height) {\n",
       "        fig._resize_canvas(size[0], size[1], msg['forward']);\n",
       "        fig.send_message('refresh', {});\n",
       "    }\n",
       "};\n",
       "\n",
       "mpl.figure.prototype.handle_rubberband = function (fig, msg) {\n",
       "    var x0 = msg['x0'] / mpl.ratio;\n",
       "    var y0 = (fig.canvas.height - msg['y0']) / mpl.ratio;\n",
       "    var x1 = msg['x1'] / mpl.ratio;\n",
       "    var y1 = (fig.canvas.height - msg['y1']) / mpl.ratio;\n",
       "    x0 = Math.floor(x0) + 0.5;\n",
       "    y0 = Math.floor(y0) + 0.5;\n",
       "    x1 = Math.floor(x1) + 0.5;\n",
       "    y1 = Math.floor(y1) + 0.5;\n",
       "    var min_x = Math.min(x0, x1);\n",
       "    var min_y = Math.min(y0, y1);\n",
       "    var width = Math.abs(x1 - x0);\n",
       "    var height = Math.abs(y1 - y0);\n",
       "\n",
       "    fig.rubberband_context.clearRect(\n",
       "        0,\n",
       "        0,\n",
       "        fig.canvas.width / mpl.ratio,\n",
       "        fig.canvas.height / mpl.ratio\n",
       "    );\n",
       "\n",
       "    fig.rubberband_context.strokeRect(min_x, min_y, width, height);\n",
       "};\n",
       "\n",
       "mpl.figure.prototype.handle_figure_label = function (fig, msg) {\n",
       "    // Updates the figure title.\n",
       "    fig.header.textContent = msg['label'];\n",
       "};\n",
       "\n",
       "mpl.figure.prototype.handle_cursor = function (fig, msg) {\n",
       "    var cursor = msg['cursor'];\n",
       "    switch (cursor) {\n",
       "        case 0:\n",
       "            cursor = 'pointer';\n",
       "            break;\n",
       "        case 1:\n",
       "            cursor = 'default';\n",
       "            break;\n",
       "        case 2:\n",
       "            cursor = 'crosshair';\n",
       "            break;\n",
       "        case 3:\n",
       "            cursor = 'move';\n",
       "            break;\n",
       "    }\n",
       "    fig.rubberband_canvas.style.cursor = cursor;\n",
       "};\n",
       "\n",
       "mpl.figure.prototype.handle_message = function (fig, msg) {\n",
       "    fig.message.textContent = msg['message'];\n",
       "};\n",
       "\n",
       "mpl.figure.prototype.handle_draw = function (fig, _msg) {\n",
       "    // Request the server to send over a new figure.\n",
       "    fig.send_draw_message();\n",
       "};\n",
       "\n",
       "mpl.figure.prototype.handle_image_mode = function (fig, msg) {\n",
       "    fig.image_mode = msg['mode'];\n",
       "};\n",
       "\n",
       "mpl.figure.prototype.handle_history_buttons = function (fig, msg) {\n",
       "    for (var key in msg) {\n",
       "        if (!(key in fig.buttons)) {\n",
       "            continue;\n",
       "        }\n",
       "        fig.buttons[key].disabled = !msg[key];\n",
       "        fig.buttons[key].setAttribute('aria-disabled', !msg[key]);\n",
       "    }\n",
       "};\n",
       "\n",
       "mpl.figure.prototype.handle_navigate_mode = function (fig, msg) {\n",
       "    if (msg['mode'] === 'PAN') {\n",
       "        fig.buttons['Pan'].classList.add('active');\n",
       "        fig.buttons['Zoom'].classList.remove('active');\n",
       "    } else if (msg['mode'] === 'ZOOM') {\n",
       "        fig.buttons['Pan'].classList.remove('active');\n",
       "        fig.buttons['Zoom'].classList.add('active');\n",
       "    } else {\n",
       "        fig.buttons['Pan'].classList.remove('active');\n",
       "        fig.buttons['Zoom'].classList.remove('active');\n",
       "    }\n",
       "};\n",
       "\n",
       "mpl.figure.prototype.updated_canvas_event = function () {\n",
       "    // Called whenever the canvas gets updated.\n",
       "    this.send_message('ack', {});\n",
       "};\n",
       "\n",
       "// A function to construct a web socket function for onmessage handling.\n",
       "// Called in the figure constructor.\n",
       "mpl.figure.prototype._make_on_message_function = function (fig) {\n",
       "    return function socket_on_message(evt) {\n",
       "        if (evt.data instanceof Blob) {\n",
       "            /* FIXME: We get \"Resource interpreted as Image but\n",
       "             * transferred with MIME type text/plain:\" errors on\n",
       "             * Chrome.  But how to set the MIME type?  It doesn't seem\n",
       "             * to be part of the websocket stream */\n",
       "            evt.data.type = 'image/png';\n",
       "\n",
       "            /* Free the memory for the previous frames */\n",
       "            if (fig.imageObj.src) {\n",
       "                (window.URL || window.webkitURL).revokeObjectURL(\n",
       "                    fig.imageObj.src\n",
       "                );\n",
       "            }\n",
       "\n",
       "            fig.imageObj.src = (window.URL || window.webkitURL).createObjectURL(\n",
       "                evt.data\n",
       "            );\n",
       "            fig.updated_canvas_event();\n",
       "            fig.waiting = false;\n",
       "            return;\n",
       "        } else if (\n",
       "            typeof evt.data === 'string' &&\n",
       "            evt.data.slice(0, 21) === 'data:image/png;base64'\n",
       "        ) {\n",
       "            fig.imageObj.src = evt.data;\n",
       "            fig.updated_canvas_event();\n",
       "            fig.waiting = false;\n",
       "            return;\n",
       "        }\n",
       "\n",
       "        var msg = JSON.parse(evt.data);\n",
       "        var msg_type = msg['type'];\n",
       "\n",
       "        // Call the  \"handle_{type}\" callback, which takes\n",
       "        // the figure and JSON message as its only arguments.\n",
       "        try {\n",
       "            var callback = fig['handle_' + msg_type];\n",
       "        } catch (e) {\n",
       "            console.log(\n",
       "                \"No handler for the '\" + msg_type + \"' message type: \",\n",
       "                msg\n",
       "            );\n",
       "            return;\n",
       "        }\n",
       "\n",
       "        if (callback) {\n",
       "            try {\n",
       "                // console.log(\"Handling '\" + msg_type + \"' message: \", msg);\n",
       "                callback(fig, msg);\n",
       "            } catch (e) {\n",
       "                console.log(\n",
       "                    \"Exception inside the 'handler_\" + msg_type + \"' callback:\",\n",
       "                    e,\n",
       "                    e.stack,\n",
       "                    msg\n",
       "                );\n",
       "            }\n",
       "        }\n",
       "    };\n",
       "};\n",
       "\n",
       "// from http://stackoverflow.com/questions/1114465/getting-mouse-location-in-canvas\n",
       "mpl.findpos = function (e) {\n",
       "    //this section is from http://www.quirksmode.org/js/events_properties.html\n",
       "    var targ;\n",
       "    if (!e) {\n",
       "        e = window.event;\n",
       "    }\n",
       "    if (e.target) {\n",
       "        targ = e.target;\n",
       "    } else if (e.srcElement) {\n",
       "        targ = e.srcElement;\n",
       "    }\n",
       "    if (targ.nodeType === 3) {\n",
       "        // defeat Safari bug\n",
       "        targ = targ.parentNode;\n",
       "    }\n",
       "\n",
       "    // pageX,Y are the mouse positions relative to the document\n",
       "    var boundingRect = targ.getBoundingClientRect();\n",
       "    var x = e.pageX - (boundingRect.left + document.body.scrollLeft);\n",
       "    var y = e.pageY - (boundingRect.top + document.body.scrollTop);\n",
       "\n",
       "    return { x: x, y: y };\n",
       "};\n",
       "\n",
       "/*\n",
       " * return a copy of an object with only non-object keys\n",
       " * we need this to avoid circular references\n",
       " * http://stackoverflow.com/a/24161582/3208463\n",
       " */\n",
       "function simpleKeys(original) {\n",
       "    return Object.keys(original).reduce(function (obj, key) {\n",
       "        if (typeof original[key] !== 'object') {\n",
       "            obj[key] = original[key];\n",
       "        }\n",
       "        return obj;\n",
       "    }, {});\n",
       "}\n",
       "\n",
       "mpl.figure.prototype.mouse_event = function (event, name) {\n",
       "    var canvas_pos = mpl.findpos(event);\n",
       "\n",
       "    if (name === 'button_press') {\n",
       "        this.canvas.focus();\n",
       "        this.canvas_div.focus();\n",
       "    }\n",
       "\n",
       "    var x = canvas_pos.x * mpl.ratio;\n",
       "    var y = canvas_pos.y * mpl.ratio;\n",
       "\n",
       "    this.send_message(name, {\n",
       "        x: x,\n",
       "        y: y,\n",
       "        button: event.button,\n",
       "        step: event.step,\n",
       "        guiEvent: simpleKeys(event),\n",
       "    });\n",
       "\n",
       "    /* This prevents the web browser from automatically changing to\n",
       "     * the text insertion cursor when the button is pressed.  We want\n",
       "     * to control all of the cursor setting manually through the\n",
       "     * 'cursor' event from matplotlib */\n",
       "    event.preventDefault();\n",
       "    return false;\n",
       "};\n",
       "\n",
       "mpl.figure.prototype._key_event_extra = function (_event, _name) {\n",
       "    // Handle any extra behaviour associated with a key event\n",
       "};\n",
       "\n",
       "mpl.figure.prototype.key_event = function (event, name) {\n",
       "    // Prevent repeat events\n",
       "    if (name === 'key_press') {\n",
       "        if (event.which === this._key) {\n",
       "            return;\n",
       "        } else {\n",
       "            this._key = event.which;\n",
       "        }\n",
       "    }\n",
       "    if (name === 'key_release') {\n",
       "        this._key = null;\n",
       "    }\n",
       "\n",
       "    var value = '';\n",
       "    if (event.ctrlKey && event.which !== 17) {\n",
       "        value += 'ctrl+';\n",
       "    }\n",
       "    if (event.altKey && event.which !== 18) {\n",
       "        value += 'alt+';\n",
       "    }\n",
       "    if (event.shiftKey && event.which !== 16) {\n",
       "        value += 'shift+';\n",
       "    }\n",
       "\n",
       "    value += 'k';\n",
       "    value += event.which.toString();\n",
       "\n",
       "    this._key_event_extra(event, name);\n",
       "\n",
       "    this.send_message(name, { key: value, guiEvent: simpleKeys(event) });\n",
       "    return false;\n",
       "};\n",
       "\n",
       "mpl.figure.prototype.toolbar_button_onclick = function (name) {\n",
       "    if (name === 'download') {\n",
       "        this.handle_save(this, null);\n",
       "    } else {\n",
       "        this.send_message('toolbar_button', { name: name });\n",
       "    }\n",
       "};\n",
       "\n",
       "mpl.figure.prototype.toolbar_button_onmouseover = function (tooltip) {\n",
       "    this.message.textContent = tooltip;\n",
       "};\n",
       "mpl.toolbar_items = [[\"Home\", \"Reset original view\", \"fa fa-home icon-home\", \"home\"], [\"Back\", \"Back to previous view\", \"fa fa-arrow-left icon-arrow-left\", \"back\"], [\"Forward\", \"Forward to next view\", \"fa fa-arrow-right icon-arrow-right\", \"forward\"], [\"\", \"\", \"\", \"\"], [\"Pan\", \"Left button pans, Right button zooms\\nx/y fixes axis, CTRL fixes aspect\", \"fa fa-arrows icon-move\", \"pan\"], [\"Zoom\", \"Zoom to rectangle\\nx/y fixes axis, CTRL fixes aspect\", \"fa fa-square-o icon-check-empty\", \"zoom\"], [\"\", \"\", \"\", \"\"], [\"Download\", \"Download plot\", \"fa fa-floppy-o icon-save\", \"download\"]];\n",
       "\n",
       "mpl.extensions = [\"eps\", \"jpeg\", \"pdf\", \"png\", \"ps\", \"raw\", \"svg\", \"tif\"];\n",
       "\n",
       "mpl.default_extension = \"png\";/* global mpl */\n",
       "\n",
       "var comm_websocket_adapter = function (comm) {\n",
       "    // Create a \"websocket\"-like object which calls the given IPython comm\n",
       "    // object with the appropriate methods. Currently this is a non binary\n",
       "    // socket, so there is still some room for performance tuning.\n",
       "    var ws = {};\n",
       "\n",
       "    ws.close = function () {\n",
       "        comm.close();\n",
       "    };\n",
       "    ws.send = function (m) {\n",
       "        //console.log('sending', m);\n",
       "        comm.send(m);\n",
       "    };\n",
       "    // Register the callback with on_msg.\n",
       "    comm.on_msg(function (msg) {\n",
       "        //console.log('receiving', msg['content']['data'], msg);\n",
       "        // Pass the mpl event to the overridden (by mpl) onmessage function.\n",
       "        ws.onmessage(msg['content']['data']);\n",
       "    });\n",
       "    return ws;\n",
       "};\n",
       "\n",
       "mpl.mpl_figure_comm = function (comm, msg) {\n",
       "    // This is the function which gets called when the mpl process\n",
       "    // starts-up an IPython Comm through the \"matplotlib\" channel.\n",
       "\n",
       "    var id = msg.content.data.id;\n",
       "    // Get hold of the div created by the display call when the Comm\n",
       "    // socket was opened in Python.\n",
       "    var element = document.getElementById(id);\n",
       "    var ws_proxy = comm_websocket_adapter(comm);\n",
       "\n",
       "    function ondownload(figure, _format) {\n",
       "        window.open(figure.canvas.toDataURL());\n",
       "    }\n",
       "\n",
       "    var fig = new mpl.figure(id, ws_proxy, ondownload, element);\n",
       "\n",
       "    // Call onopen now - mpl needs it, as it is assuming we've passed it a real\n",
       "    // web socket which is closed, not our websocket->open comm proxy.\n",
       "    ws_proxy.onopen();\n",
       "\n",
       "    fig.parent_element = element;\n",
       "    fig.cell_info = mpl.find_output_cell(\"<div id='\" + id + \"'></div>\");\n",
       "    if (!fig.cell_info) {\n",
       "        console.error('Failed to find cell for figure', id, fig);\n",
       "        return;\n",
       "    }\n",
       "};\n",
       "\n",
       "mpl.figure.prototype.handle_close = function (fig, msg) {\n",
       "    var width = fig.canvas.width / mpl.ratio;\n",
       "    fig.root.removeEventListener('remove', this._remove_fig_handler);\n",
       "\n",
       "    // Update the output cell to use the data from the current canvas.\n",
       "    fig.push_to_output();\n",
       "    var dataURL = fig.canvas.toDataURL();\n",
       "    // Re-enable the keyboard manager in IPython - without this line, in FF,\n",
       "    // the notebook keyboard shortcuts fail.\n",
       "    IPython.keyboard_manager.enable();\n",
       "    fig.parent_element.innerHTML =\n",
       "        '<img src=\"' + dataURL + '\" width=\"' + width + '\">';\n",
       "    fig.close_ws(fig, msg);\n",
       "};\n",
       "\n",
       "mpl.figure.prototype.close_ws = function (fig, msg) {\n",
       "    fig.send_message('closing', msg);\n",
       "    // fig.ws.close()\n",
       "};\n",
       "\n",
       "mpl.figure.prototype.push_to_output = function (_remove_interactive) {\n",
       "    // Turn the data on the canvas into data in the output cell.\n",
       "    var width = this.canvas.width / mpl.ratio;\n",
       "    var dataURL = this.canvas.toDataURL();\n",
       "    this.cell_info[1]['text/html'] =\n",
       "        '<img src=\"' + dataURL + '\" width=\"' + width + '\">';\n",
       "};\n",
       "\n",
       "mpl.figure.prototype.updated_canvas_event = function () {\n",
       "    // Tell IPython that the notebook contents must change.\n",
       "    IPython.notebook.set_dirty(true);\n",
       "    this.send_message('ack', {});\n",
       "    var fig = this;\n",
       "    // Wait a second, then push the new image to the DOM so\n",
       "    // that it is saved nicely (might be nice to debounce this).\n",
       "    setTimeout(function () {\n",
       "        fig.push_to_output();\n",
       "    }, 1000);\n",
       "};\n",
       "\n",
       "mpl.figure.prototype._init_toolbar = function () {\n",
       "    var fig = this;\n",
       "\n",
       "    var toolbar = document.createElement('div');\n",
       "    toolbar.classList = 'btn-toolbar';\n",
       "    this.root.appendChild(toolbar);\n",
       "\n",
       "    function on_click_closure(name) {\n",
       "        return function (_event) {\n",
       "            return fig.toolbar_button_onclick(name);\n",
       "        };\n",
       "    }\n",
       "\n",
       "    function on_mouseover_closure(tooltip) {\n",
       "        return function (event) {\n",
       "            if (!event.currentTarget.disabled) {\n",
       "                return fig.toolbar_button_onmouseover(tooltip);\n",
       "            }\n",
       "        };\n",
       "    }\n",
       "\n",
       "    fig.buttons = {};\n",
       "    var buttonGroup = document.createElement('div');\n",
       "    buttonGroup.classList = 'btn-group';\n",
       "    var button;\n",
       "    for (var toolbar_ind in mpl.toolbar_items) {\n",
       "        var name = mpl.toolbar_items[toolbar_ind][0];\n",
       "        var tooltip = mpl.toolbar_items[toolbar_ind][1];\n",
       "        var image = mpl.toolbar_items[toolbar_ind][2];\n",
       "        var method_name = mpl.toolbar_items[toolbar_ind][3];\n",
       "\n",
       "        if (!name) {\n",
       "            /* Instead of a spacer, we start a new button group. */\n",
       "            if (buttonGroup.hasChildNodes()) {\n",
       "                toolbar.appendChild(buttonGroup);\n",
       "            }\n",
       "            buttonGroup = document.createElement('div');\n",
       "            buttonGroup.classList = 'btn-group';\n",
       "            continue;\n",
       "        }\n",
       "\n",
       "        button = fig.buttons[name] = document.createElement('button');\n",
       "        button.classList = 'btn btn-default';\n",
       "        button.href = '#';\n",
       "        button.title = name;\n",
       "        button.innerHTML = '<i class=\"fa ' + image + ' fa-lg\"></i>';\n",
       "        button.addEventListener('click', on_click_closure(method_name));\n",
       "        button.addEventListener('mouseover', on_mouseover_closure(tooltip));\n",
       "        buttonGroup.appendChild(button);\n",
       "    }\n",
       "\n",
       "    if (buttonGroup.hasChildNodes()) {\n",
       "        toolbar.appendChild(buttonGroup);\n",
       "    }\n",
       "\n",
       "    // Add the status bar.\n",
       "    var status_bar = document.createElement('span');\n",
       "    status_bar.classList = 'mpl-message pull-right';\n",
       "    toolbar.appendChild(status_bar);\n",
       "    this.message = status_bar;\n",
       "\n",
       "    // Add the close button to the window.\n",
       "    var buttongrp = document.createElement('div');\n",
       "    buttongrp.classList = 'btn-group inline pull-right';\n",
       "    button = document.createElement('button');\n",
       "    button.classList = 'btn btn-mini btn-primary';\n",
       "    button.href = '#';\n",
       "    button.title = 'Stop Interaction';\n",
       "    button.innerHTML = '<i class=\"fa fa-power-off icon-remove icon-large\"></i>';\n",
       "    button.addEventListener('click', function (_evt) {\n",
       "        fig.handle_close(fig, {});\n",
       "    });\n",
       "    button.addEventListener(\n",
       "        'mouseover',\n",
       "        on_mouseover_closure('Stop Interaction')\n",
       "    );\n",
       "    buttongrp.appendChild(button);\n",
       "    var titlebar = this.root.querySelector('.ui-dialog-titlebar');\n",
       "    titlebar.insertBefore(buttongrp, titlebar.firstChild);\n",
       "};\n",
       "\n",
       "mpl.figure.prototype._remove_fig_handler = function () {\n",
       "    this.close_ws(this, {});\n",
       "};\n",
       "\n",
       "mpl.figure.prototype._root_extra_style = function (el) {\n",
       "    el.style.boxSizing = 'content-box'; // override notebook setting of border-box.\n",
       "    el.addEventListener('remove', this._remove_fig_handler);\n",
       "};\n",
       "\n",
       "mpl.figure.prototype._canvas_extra_style = function (el) {\n",
       "    // this is important to make the div 'focusable\n",
       "    el.setAttribute('tabindex', 0);\n",
       "    // reach out to IPython and tell the keyboard manager to turn it's self\n",
       "    // off when our div gets focus\n",
       "\n",
       "    // location in version 3\n",
       "    if (IPython.notebook.keyboard_manager) {\n",
       "        IPython.notebook.keyboard_manager.register_events(el);\n",
       "    } else {\n",
       "        // location in version 2\n",
       "        IPython.keyboard_manager.register_events(el);\n",
       "    }\n",
       "};\n",
       "\n",
       "mpl.figure.prototype._key_event_extra = function (event, _name) {\n",
       "    var manager = IPython.notebook.keyboard_manager;\n",
       "    if (!manager) {\n",
       "        manager = IPython.keyboard_manager;\n",
       "    }\n",
       "\n",
       "    // Check for shift+enter\n",
       "    if (event.shiftKey && event.which === 13) {\n",
       "        this.canvas_div.blur();\n",
       "        // select the cell after this one\n",
       "        var index = IPython.notebook.find_cell_index(this.cell_info[0]);\n",
       "        IPython.notebook.select(index + 1);\n",
       "    }\n",
       "};\n",
       "\n",
       "mpl.figure.prototype.handle_save = function (fig, _msg) {\n",
       "    fig.ondownload(fig, null);\n",
       "};\n",
       "\n",
       "mpl.find_output_cell = function (html_output) {\n",
       "    // Return the cell and output element which can be found *uniquely* in the notebook.\n",
       "    // Note - this is a bit hacky, but it is done because the \"notebook_saving.Notebook\"\n",
       "    // IPython event is triggered only after the cells have been serialised, which for\n",
       "    // our purposes (turning an active figure into a static one), is too late.\n",
       "    var cells = IPython.notebook.get_cells();\n",
       "    var ncells = cells.length;\n",
       "    for (var i = 0; i < ncells; i++) {\n",
       "        var cell = cells[i];\n",
       "        if (cell.cell_type === 'code') {\n",
       "            for (var j = 0; j < cell.output_area.outputs.length; j++) {\n",
       "                var data = cell.output_area.outputs[j];\n",
       "                if (data.data) {\n",
       "                    // IPython >= 3 moved mimebundle to data attribute of output\n",
       "                    data = data.data;\n",
       "                }\n",
       "                if (data['text/html'] === html_output) {\n",
       "                    return [cell, data, j];\n",
       "                }\n",
       "            }\n",
       "        }\n",
       "    }\n",
       "};\n",
       "\n",
       "// Register the function which deals with the matplotlib target/channel.\n",
       "// The kernel may be null if the page has been refreshed.\n",
       "if (IPython.notebook.kernel !== null) {\n",
       "    IPython.notebook.kernel.comm_manager.register_target(\n",
       "        'matplotlib',\n",
       "        mpl.mpl_figure_comm\n",
       "    );\n",
       "}\n"
      ],
      "text/plain": [
       "<IPython.core.display.Javascript object>"
      ]
     },
     "metadata": {},
     "output_type": "display_data"
    },
    {
     "data": {
      "text/html": [
       "<img src=\"data:image/png;base64,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\" width=\"640\">"
      ],
      "text/plain": [
       "<IPython.core.display.HTML object>"
      ]
     },
     "metadata": {},
     "output_type": "display_data"
    },
    {
     "data": {
      "text/plain": [
       "(18475.0, 18567.0)"
      ]
     },
     "execution_count": 7,
     "metadata": {},
     "output_type": "execute_result"
    }
   ],
   "source": [
    "fig,ax = plt.subplots()\n",
    "Luik_ts.reset_index() .plot('DATE','NEW_IN', logy=True, ax=ax)\n",
    "ax.set_xlim('2020-08-01', '2020-11-01')"
   ]
  },
  {
   "cell_type": "markdown",
   "metadata": {},
   "source": [
    "# Load data"
   ]
  },
  {
   "cell_type": "code",
   "execution_count": 8,
   "metadata": {
    "ExecuteTime": {
     "end_time": "2020-11-03T07:02:36.498465Z",
     "start_time": "2020-11-03T07:02:36.171058Z"
    }
   },
   "outputs": [],
   "source": [
    "# Load the interaction matrices (size: 9x9)\n",
    "initN, Nc_home, Nc_work, Nc_schools, Nc_transport, Nc_leisure, Nc_others, Nc_total = model_parameters.get_interaction_matrices(dataset='willem_2012')\n",
    "# Define the number of age categories\n",
    "levels = initN.size\n",
    "#province_names = pd.read_csv('../data/raw/GIS/NIS_province.csv')\n",
    "initN_province = pd.read_csv('../data/interim/demographic/initN_province.csv')\n",
    "initN = np.array(list(initN_province.set_index('NIS').loc[60000].iloc[:9]))"
   ]
  },
  {
   "cell_type": "code",
   "execution_count": 10,
   "metadata": {
    "ExecuteTime": {
     "end_time": "2020-11-03T07:02:36.752381Z",
     "start_time": "2020-11-03T07:02:36.714110Z"
    }
   },
   "outputs": [],
   "source": [
    "def draw_sample_beta_COVID19_SEIRD(parameter_dictionary,samples_dict):\n",
    "    \"\"\"\n",
    "    A function to draw parameter samples obtained with MCMC during model calibration and assign them to the parameter dictionary of the model.\n",
    "    Tailor-made for the BIOMATH COVID-19 SEIRD model.\n",
    "\n",
    "    Parameters\n",
    "    ----------\n",
    "    model : object\n",
    "        BIOMATH model object\n",
    "    \n",
    "    samples_dict : dictionary\n",
    "        Dictionary containing the samples of the sampled parameters: beta, l and tau.\n",
    "\n",
    "    Returns\n",
    "    ----------\n",
    "    model : object\n",
    "        BIOMATH model object\n",
    "\n",
    "    \"\"\"\n",
    "    # Use posterior samples of fitted parameters\n",
    "    parameter_dictionary['beta'] = np.random.choice(samples_dict['beta'],1,replace=False)\n",
    "    return parameter_dictionary"
   ]
  },
  {
   "cell_type": "markdown",
   "metadata": {},
   "source": [
    "# Initialize the model"
   ]
  },
  {
   "cell_type": "code",
   "execution_count": 11,
   "metadata": {
    "ExecuteTime": {
     "end_time": "2020-11-03T07:02:39.713664Z",
     "start_time": "2020-11-03T07:02:39.675750Z"
    }
   },
   "outputs": [],
   "source": [
    "def ramp_fun(Nc_old, Nc_new, t, tau_days, l, t_start):\n",
    "    \"\"\"\n",
    "    t : current date\n",
    "    tau : number of days before measures start having an effect\n",
    "    l : number of additional days after the time delay until full compliance is reached\n",
    "    \"\"\"\n",
    "    return Nc_old + (Nc_new-Nc_old)/l * (t-t_start-tau_days)/pd.Timedelta('1D')"
   ]
  },
  {
   "cell_type": "code",
   "execution_count": 12,
   "metadata": {
    "ExecuteTime": {
     "end_time": "2020-11-03T07:02:39.942123Z",
     "start_time": "2020-11-03T07:02:39.902275Z"
    }
   },
   "outputs": [],
   "source": [
    "# Define the compliance and lockdown function\n",
    "def lockdown_func(t,param,policy1,policy2,l,tau,prevention, start_date, policy_time):\n",
    "    tau_days = pd.to_timedelta(tau, unit='D')\n",
    "    l_days = pd.to_timedelta(l, unit='D')\n",
    "    if t <= start_date + tau_days:\n",
    "        return policy1\n",
    "    elif start_date + tau_days < t <= start_date + tau_days + l_days:\n",
    "        return ramp_fun(policy1, policy2, t, tau_days, l, start_date)\n",
    "    else:\n",
    "        return prevention*policy2"
   ]
  },
  {
   "cell_type": "code",
   "execution_count": 13,
   "metadata": {
    "ExecuteTime": {
     "end_time": "2020-11-03T07:02:40.453733Z",
     "start_time": "2020-11-03T07:02:40.129967Z"
    }
   },
   "outputs": [],
   "source": [
    "# Load the parameters using `get_COVID19_SEIRD_parameters()`.\n",
    "params = model_parameters.get_COVID19_SEIRD_parameters()\n",
    "params.update({'policy1': Nc_total,\n",
    "              'policy2': 1.0*Nc_home + (1-0.60)*Nc_work + (1-0.70)*Nc_transport + (1-0.30)*Nc_others + (1-0.80)*Nc_leisure,\n",
    "              'policy_time': 500,\n",
    "              'l': 1,\n",
    "              'tau': 5,\n",
    "              'prevention': 0.5,\n",
    "              'start_date': pd.to_datetime('2020-03-15')})\n",
    "# Define the initial condition: one exposed inidividual in every age category\n",
    "initial_states = {'S': initN, 'E': np.ones(levels)}\n",
    "model = models.COVID19_SEIRD(initial_states, params, time_dependent_parameters={'Nc': lockdown_func})"
   ]
  },
  {
   "cell_type": "code",
   "execution_count": 14,
   "metadata": {
    "ExecuteTime": {
     "end_time": "2020-11-03T07:02:41.716683Z",
     "start_time": "2020-11-03T07:02:41.679966Z"
    }
   },
   "outputs": [],
   "source": [
    "timeseries = Luik_ts['NEW_IN']\n",
    "spatial_unit = 'Luik_wave1_test'\n"
   ]
  },
  {
   "cell_type": "markdown",
   "metadata": {},
   "source": [
    "# Calibration on first wave"
   ]
  },
  {
   "cell_type": "code",
   "execution_count": 26,
   "metadata": {
    "ExecuteTime": {
     "end_time": "2020-11-03T07:02:42.712655Z",
     "start_time": "2020-11-03T07:02:42.675598Z"
    }
   },
   "outputs": [],
   "source": [
    "## First wave\n",
    "start_date = '2020-03-15'\n",
    "end_beta = '2020-03-25'#'2020-03-22'\n",
    "end_ramp = '2020-05-23'\n",
    "fig_path = '../results/calibrations/COVID19_SEIRD/provinces/'\n",
    "samples_path = '../data/interim/model_parameters/COVID19_SEIRD/calibrations/provinces/'"
   ]
  },
  {
   "cell_type": "code",
   "execution_count": 27,
   "metadata": {
    "ExecuteTime": {
     "end_time": "2020-10-28T21:26:10.282866Z",
     "start_time": "2020-10-28T21:26:10.233888Z"
    }
   },
   "outputs": [
    {
     "data": {
      "text/plain": [
       "11"
      ]
     },
     "execution_count": 27,
     "metadata": {},
     "output_type": "execute_result"
    }
   ],
   "source": [
    "len(Luik_ts.loc[start_date:end_beta])"
   ]
  },
  {
   "cell_type": "code",
   "execution_count": 28,
   "metadata": {
    "ExecuteTime": {
     "end_time": "2020-10-28T21:26:10.866668Z",
     "start_time": "2020-10-28T21:26:10.824324Z"
    }
   },
   "outputs": [
    {
     "data": {
      "text/plain": [
       "60"
      ]
     },
     "execution_count": 28,
     "metadata": {},
     "output_type": "execute_result"
    }
   ],
   "source": [
    "len(Luik_ts.loc[end_beta:end_ramp])"
   ]
  },
  {
   "cell_type": "code",
   "execution_count": 29,
   "metadata": {
    "ExecuteTime": {
     "end_time": "2020-10-28T11:20:55.462246Z",
     "start_time": "2020-10-28T11:20:55.424200Z"
    }
   },
   "outputs": [],
   "source": [
    "# function parameters \n",
    "# maxiter=100\n",
    "# popsize=200\n",
    "# steps_mcmc=10000\n"
   ]
  },
  {
   "cell_type": "code",
   "execution_count": 30,
   "metadata": {
    "ExecuteTime": {
     "end_time": "2020-11-03T07:02:47.296120Z",
     "start_time": "2020-11-03T07:02:46.094104Z"
    },
    "scrolled": true
   },
   "outputs": [
    {
     "name": "stdout",
     "output_type": "stream",
     "text": [
      "---------------------------\n",
      "CALIBRATING BETA AND WARMUP\n",
      "---------------------------\n",
      "\n",
      "1) Particle swarm optimization\n",
      "\n",
      "No constraints given.\n",
      "Best after iteration 1: [4.63943701e+01 3.91928579e+01 3.69446582e-02] 42.39281867579272\n",
      "Best after iteration 2: [4.63943701e+01 3.91928579e+01 3.69446582e-02] 42.39281867579272\n",
      "New best for swarm at iteration 3: [1.57099888e+01 4.40655557e+01 3.24202109e-02] 32.599277219724186\n",
      "Best after iteration 3: [1.57099888e+01 4.40655557e+01 3.24202109e-02] 32.599277219724186\n",
      "Best after iteration 4: [1.57099888e+01 4.40655557e+01 3.24202109e-02] 32.599277219724186\n"
     ]
    },
    {
     "name": "stderr",
     "output_type": "stream",
     "text": [
      "\r",
      "  0%|          | 0/100 [00:00<?, ?it/s]"
     ]
    },
    {
     "name": "stdout",
     "output_type": "stream",
     "text": [
      "Best after iteration 5: [1.57099888e+01 4.40655557e+01 3.24202109e-02] 32.599277219724186\n",
      "Stopping search: maximum iterations reached --> 5\n",
      "\n",
      "2) Markov-Chain Monte-Carlo sampling\n",
      "\n"
     ]
    },
    {
     "name": "stderr",
     "output_type": "stream",
     "text": [
      "100%|██████████| 100/100 [00:13<00:00,  7.21it/s]\n"
     ]
    },
    {
     "name": "stdout",
     "output_type": "stream",
     "text": [
      "Warning: The chain is shorter than 50 times the integrated autocorrelation time for 4 parameter(s).\n",
      "Use this estimate with caution and run a longer chain!\n",
      "---------------------------------------------------------------------------------------------------------\n",
      "\n",
      "CALIBRATING COMPLIANCE RAMP\n",
      "---------------------------\n",
      "\n",
      "1) Particle swarm optimization\n",
      "\n",
      "\n",
      "2) Markov-Chain Monte-Carlo sampling\n",
      "\n",
      "No constraints given.\n",
      "New best for swarm at iteration 1: [34.74068962 20.         18.31746028  0.35275479] 277.1806186935645\n",
      "Best after iteration 1: [34.74068962 20.         18.31746028  0.35275479] 277.1806186935645\n",
      "Best after iteration 2: [34.74068962 20.         18.31746028  0.35275479] 277.1806186935645\n",
      "Best after iteration 3: [34.74068962 20.         18.31746028  0.35275479] 277.1806186935645\n",
      "Best after iteration 4: [34.74068962 20.         18.31746028  0.35275479] 277.1806186935645\n",
      "Best after iteration 5: [34.74068962 20.         18.31746028  0.35275479] 277.1806186935645\n",
      "Stopping search: maximum iterations reached --> 5\n"
     ]
    },
    {
     "name": "stderr",
     "output_type": "stream",
     "text": [
      "  0%|          | 0/100 [00:00<?, ?it/s]/home/twallema/anaconda3/envs/COVID_MODEL/lib/python3.8/site-packages/emcee/moves/red_blue.py:99: RuntimeWarning: invalid value encountered in double_scalars\n",
      "  lnpdiff = f + nlp - state.log_prob[j]\n",
      "/home/twallema/anaconda3/envs/COVID_MODEL/lib/python3.8/site-packages/emcee/moves/red_blue.py:99: RuntimeWarning: invalid value encountered in double_scalars\n",
      "  lnpdiff = f + nlp - state.log_prob[j]\n",
      "  1%|          | 1/100 [00:00<00:32,  3.05it/s]/home/twallema/anaconda3/envs/COVID_MODEL/lib/python3.8/site-packages/emcee/moves/red_blue.py:99: RuntimeWarning: invalid value encountered in double_scalars\n",
      "  lnpdiff = f + nlp - state.log_prob[j]\n",
      "/home/twallema/anaconda3/envs/COVID_MODEL/lib/python3.8/site-packages/emcee/moves/red_blue.py:99: RuntimeWarning: invalid value encountered in double_scalars\n",
      "  lnpdiff = f + nlp - state.log_prob[j]\n",
      "  2%|▏         | 2/100 [00:00<00:30,  3.24it/s]/home/twallema/anaconda3/envs/COVID_MODEL/lib/python3.8/site-packages/emcee/moves/red_blue.py:99: RuntimeWarning: invalid value encountered in double_scalars\n",
      "  lnpdiff = f + nlp - state.log_prob[j]\n",
      "/home/twallema/anaconda3/envs/COVID_MODEL/lib/python3.8/site-packages/emcee/moves/red_blue.py:99: RuntimeWarning: invalid value encountered in double_scalars\n",
      "  lnpdiff = f + nlp - state.log_prob[j]\n",
      "  3%|▎         | 3/100 [00:00<00:26,  3.65it/s]/home/twallema/anaconda3/envs/COVID_MODEL/lib/python3.8/site-packages/emcee/moves/red_blue.py:99: RuntimeWarning: invalid value encountered in double_scalars\n",
      "  lnpdiff = f + nlp - state.log_prob[j]\n",
      "/home/twallema/anaconda3/envs/COVID_MODEL/lib/python3.8/site-packages/emcee/moves/red_blue.py:99: RuntimeWarning: invalid value encountered in double_scalars\n",
      "  lnpdiff = f + nlp - state.log_prob[j]\n",
      "  4%|▍         | 4/100 [00:01<00:25,  3.69it/s]/home/twallema/anaconda3/envs/COVID_MODEL/lib/python3.8/site-packages/emcee/moves/red_blue.py:99: RuntimeWarning: invalid value encountered in double_scalars\n",
      "  lnpdiff = f + nlp - state.log_prob[j]\n",
      "/home/twallema/anaconda3/envs/COVID_MODEL/lib/python3.8/site-packages/emcee/moves/red_blue.py:99: RuntimeWarning: invalid value encountered in double_scalars\n",
      "  lnpdiff = f + nlp - state.log_prob[j]\n",
      "  5%|▌         | 5/100 [00:01<00:27,  3.44it/s]/home/twallema/anaconda3/envs/COVID_MODEL/lib/python3.8/site-packages/emcee/moves/red_blue.py:99: RuntimeWarning: invalid value encountered in double_scalars\n",
      "  lnpdiff = f + nlp - state.log_prob[j]\n",
      "/home/twallema/anaconda3/envs/COVID_MODEL/lib/python3.8/site-packages/emcee/moves/red_blue.py:99: RuntimeWarning: invalid value encountered in double_scalars\n",
      "  lnpdiff = f + nlp - state.log_prob[j]\n",
      "  6%|▌         | 6/100 [00:01<00:24,  3.81it/s]/home/twallema/anaconda3/envs/COVID_MODEL/lib/python3.8/site-packages/emcee/moves/red_blue.py:99: RuntimeWarning: invalid value encountered in double_scalars\n",
      "  lnpdiff = f + nlp - state.log_prob[j]\n",
      "/home/twallema/anaconda3/envs/COVID_MODEL/lib/python3.8/site-packages/emcee/moves/red_blue.py:99: RuntimeWarning: invalid value encountered in double_scalars\n",
      "  lnpdiff = f + nlp - state.log_prob[j]\n",
      "  7%|▋         | 7/100 [00:01<00:26,  3.53it/s]/home/twallema/anaconda3/envs/COVID_MODEL/lib/python3.8/site-packages/emcee/moves/red_blue.py:99: RuntimeWarning: invalid value encountered in double_scalars\n",
      "  lnpdiff = f + nlp - state.log_prob[j]\n",
      "/home/twallema/anaconda3/envs/COVID_MODEL/lib/python3.8/site-packages/emcee/moves/red_blue.py:99: RuntimeWarning: invalid value encountered in double_scalars\n",
      "  lnpdiff = f + nlp - state.log_prob[j]\n",
      "  8%|▊         | 8/100 [00:02<00:27,  3.36it/s]/home/twallema/anaconda3/envs/COVID_MODEL/lib/python3.8/site-packages/emcee/moves/red_blue.py:99: RuntimeWarning: invalid value encountered in double_scalars\n",
      "  lnpdiff = f + nlp - state.log_prob[j]\n",
      "/home/twallema/anaconda3/envs/COVID_MODEL/lib/python3.8/site-packages/emcee/moves/red_blue.py:99: RuntimeWarning: invalid value encountered in double_scalars\n",
      "  lnpdiff = f + nlp - state.log_prob[j]\n",
      "  9%|▉         | 9/100 [00:02<00:26,  3.46it/s]/home/twallema/anaconda3/envs/COVID_MODEL/lib/python3.8/site-packages/emcee/moves/red_blue.py:99: RuntimeWarning: invalid value encountered in double_scalars\n",
      "  lnpdiff = f + nlp - state.log_prob[j]\n",
      " 10%|█         | 10/100 [00:02<00:27,  3.28it/s]/home/twallema/anaconda3/envs/COVID_MODEL/lib/python3.8/site-packages/emcee/moves/red_blue.py:99: RuntimeWarning: invalid value encountered in double_scalars\n",
      "  lnpdiff = f + nlp - state.log_prob[j]\n",
      "/home/twallema/anaconda3/envs/COVID_MODEL/lib/python3.8/site-packages/emcee/moves/red_blue.py:99: RuntimeWarning: invalid value encountered in double_scalars\n",
      "  lnpdiff = f + nlp - state.log_prob[j]\n",
      " 11%|█         | 11/100 [00:03<00:28,  3.16it/s]/home/twallema/anaconda3/envs/COVID_MODEL/lib/python3.8/site-packages/emcee/moves/red_blue.py:99: RuntimeWarning: invalid value encountered in double_scalars\n",
      "  lnpdiff = f + nlp - state.log_prob[j]\n",
      "/home/twallema/anaconda3/envs/COVID_MODEL/lib/python3.8/site-packages/emcee/moves/red_blue.py:99: RuntimeWarning: invalid value encountered in double_scalars\n",
      "  lnpdiff = f + nlp - state.log_prob[j]\n",
      " 12%|█▏        | 12/100 [00:03<00:26,  3.27it/s]/home/twallema/anaconda3/envs/COVID_MODEL/lib/python3.8/site-packages/emcee/moves/red_blue.py:99: RuntimeWarning: invalid value encountered in double_scalars\n",
      "  lnpdiff = f + nlp - state.log_prob[j]\n",
      "/home/twallema/anaconda3/envs/COVID_MODEL/lib/python3.8/site-packages/emcee/moves/red_blue.py:99: RuntimeWarning: invalid value encountered in double_scalars\n",
      "  lnpdiff = f + nlp - state.log_prob[j]\n",
      " 13%|█▎        | 13/100 [00:03<00:25,  3.39it/s]/home/twallema/anaconda3/envs/COVID_MODEL/lib/python3.8/site-packages/emcee/moves/red_blue.py:99: RuntimeWarning: invalid value encountered in double_scalars\n",
      "  lnpdiff = f + nlp - state.log_prob[j]\n",
      "/home/twallema/anaconda3/envs/COVID_MODEL/lib/python3.8/site-packages/emcee/moves/red_blue.py:99: RuntimeWarning: invalid value encountered in double_scalars\n",
      "  lnpdiff = f + nlp - state.log_prob[j]\n",
      " 14%|█▍        | 14/100 [00:04<00:25,  3.43it/s]/home/twallema/anaconda3/envs/COVID_MODEL/lib/python3.8/site-packages/emcee/moves/red_blue.py:99: RuntimeWarning: invalid value encountered in double_scalars\n",
      "  lnpdiff = f + nlp - state.log_prob[j]\n",
      " 15%|█▌        | 15/100 [00:04<00:26,  3.24it/s]/home/twallema/anaconda3/envs/COVID_MODEL/lib/python3.8/site-packages/emcee/moves/red_blue.py:99: RuntimeWarning: invalid value encountered in double_scalars\n",
      "  lnpdiff = f + nlp - state.log_prob[j]\n",
      " 16%|█▌        | 16/100 [00:04<00:28,  2.96it/s]/home/twallema/anaconda3/envs/COVID_MODEL/lib/python3.8/site-packages/emcee/moves/red_blue.py:99: RuntimeWarning: invalid value encountered in double_scalars\n",
      "  lnpdiff = f + nlp - state.log_prob[j]\n",
      " 17%|█▋        | 17/100 [00:05<00:29,  2.78it/s]/home/twallema/anaconda3/envs/COVID_MODEL/lib/python3.8/site-packages/emcee/moves/red_blue.py:99: RuntimeWarning: invalid value encountered in double_scalars\n",
      "  lnpdiff = f + nlp - state.log_prob[j]\n",
      " 18%|█▊        | 18/100 [00:05<00:28,  2.92it/s]/home/twallema/anaconda3/envs/COVID_MODEL/lib/python3.8/site-packages/emcee/moves/red_blue.py:99: RuntimeWarning: invalid value encountered in double_scalars\n",
      "  lnpdiff = f + nlp - state.log_prob[j]\n",
      " 19%|█▉        | 19/100 [00:05<00:28,  2.87it/s]/home/twallema/anaconda3/envs/COVID_MODEL/lib/python3.8/site-packages/emcee/moves/red_blue.py:99: RuntimeWarning: invalid value encountered in double_scalars\n",
      "  lnpdiff = f + nlp - state.log_prob[j]\n",
      " 20%|██        | 20/100 [00:06<00:27,  2.89it/s]/home/twallema/anaconda3/envs/COVID_MODEL/lib/python3.8/site-packages/emcee/moves/red_blue.py:99: RuntimeWarning: invalid value encountered in double_scalars\n",
      "  lnpdiff = f + nlp - state.log_prob[j]\n",
      "/home/twallema/anaconda3/envs/COVID_MODEL/lib/python3.8/site-packages/emcee/moves/red_blue.py:99: RuntimeWarning: invalid value encountered in double_scalars\n",
      "  lnpdiff = f + nlp - state.log_prob[j]\n",
      " 21%|██        | 21/100 [00:06<00:28,  2.77it/s]/home/twallema/anaconda3/envs/COVID_MODEL/lib/python3.8/site-packages/emcee/moves/red_blue.py:99: RuntimeWarning: invalid value encountered in double_scalars\n",
      "  lnpdiff = f + nlp - state.log_prob[j]\n"
     ]
    },
    {
     "name": "stderr",
     "output_type": "stream",
     "text": [
      " 22%|██▏       | 22/100 [00:07<00:31,  2.50it/s]/home/twallema/anaconda3/envs/COVID_MODEL/lib/python3.8/site-packages/emcee/moves/red_blue.py:99: RuntimeWarning: invalid value encountered in double_scalars\n",
      "  lnpdiff = f + nlp - state.log_prob[j]\n",
      " 23%|██▎       | 23/100 [00:07<00:30,  2.50it/s]/home/twallema/anaconda3/envs/COVID_MODEL/lib/python3.8/site-packages/emcee/moves/red_blue.py:99: RuntimeWarning: invalid value encountered in double_scalars\n",
      "  lnpdiff = f + nlp - state.log_prob[j]\n",
      " 24%|██▍       | 24/100 [00:07<00:30,  2.51it/s]/home/twallema/anaconda3/envs/COVID_MODEL/lib/python3.8/site-packages/emcee/moves/red_blue.py:99: RuntimeWarning: invalid value encountered in double_scalars\n",
      "  lnpdiff = f + nlp - state.log_prob[j]\n",
      " 25%|██▌       | 25/100 [00:08<00:30,  2.49it/s]/home/twallema/anaconda3/envs/COVID_MODEL/lib/python3.8/site-packages/emcee/moves/red_blue.py:99: RuntimeWarning: invalid value encountered in double_scalars\n",
      "  lnpdiff = f + nlp - state.log_prob[j]\n",
      " 26%|██▌       | 26/100 [00:08<00:26,  2.77it/s]/home/twallema/anaconda3/envs/COVID_MODEL/lib/python3.8/site-packages/emcee/moves/red_blue.py:99: RuntimeWarning: invalid value encountered in double_scalars\n",
      "  lnpdiff = f + nlp - state.log_prob[j]\n",
      "100%|██████████| 100/100 [00:37<00:00,  2.65it/s]\n"
     ]
    },
    {
     "name": "stdout",
     "output_type": "stream",
     "text": [
      "Warning: The chain is shorter than 50 times the integrated autocorrelation time for 4 parameter(s). Use this estimate with caution and run a longer chain!\n",
      "---------------------------------------------------------------------------------------------------------\n",
      "\n",
      "DONE\n",
      "\n",
      "SAMPLES DICTIONARY SAVED IN \"../data/interim/model_parameters/COVID19_SEIRD/calibrations/provinces/Luik_wave1_test_2020-11-05.json\"\n"
     ]
    }
   ],
   "source": [
    "samples_dict = full_calibration_wave1(model, timeseries, spatial_unit, start_date, end_beta, end_ramp, \n",
    "                                fig_path=fig_path, samples_path=samples_path,\n",
    "                                initN=initN, Nc_total=Nc_total,\n",
    "                                maxiter=5, popsize=5, steps_mcmc=100, discard=0)"
   ]
  },
  {
   "cell_type": "code",
   "execution_count": null,
   "metadata": {
    "ExecuteTime": {
     "end_time": "2020-11-02T09:51:56.921202Z",
     "start_time": "2020-11-02T09:51:56.874680Z"
    }
   },
   "outputs": [],
   "source": [
    "samples_dict.keys()"
   ]
  },
  {
   "cell_type": "code",
   "execution_count": null,
   "metadata": {
    "ExecuteTime": {
     "end_time": "2020-10-28T21:53:24.340780Z",
     "start_time": "2020-10-28T21:53:21.607494Z"
    },
    "scrolled": false
   },
   "outputs": [],
   "source": [
    "states = [['H_in']]\n",
    "end_date = '2020-07-01'\n",
    "data=[timeseries[start_date:end_ramp].values]\n",
    "\n",
    "fig,ax=plt.subplots()\n",
    "for i in range(10):\n",
    "    idx,model.parameters['beta'] = random.choice(list(enumerate(samples_dict['beta'])))\n",
    "    idx,model.parameters['l'] = random.choice(list(enumerate(samples_dict['l'])))\n",
    "    model.parameters['tau'] = samples_dict['tau'][idx]\n",
    "    model.parameters['policy_time'] = samples_dict['warmup']\n",
    "    model.parameters['prevention'] = samples_dict['prevention'][idx]\n",
    "    y_model = model.sim(time=end_date, excess_time=samples_dict['warmup'], start_date=start_date)\n",
    "    ax = plot_fit(y_model,data,start_date,samples_dict['warmup'],states,end_date=end_date,with_ints=False,ax=ax,plt_kwargs={'color':'blue','linewidth': 2,'alpha': 0.05})\n",
    "\n",
    "data_after_calib = timeseries[pd.to_datetime(end_ramp)+pd.to_timedelta('1d'):end_date]\n",
    "plt.scatter(data_after_calib.index, data_after_calib.values, marker='o',color='red',linestyle='None',facecolors='none')\n",
    "legend_text=['daily \\nhospitalizations']\n",
    "ax.set_xlim('2020-03-10', '2020-07-01')\n",
    "# fig.savefig(fig_path+spatial_unit+'.pdf',\n",
    "#             bbox_inches='tight', dpi=600)"
   ]
  },
  {
   "cell_type": "markdown",
   "metadata": {},
   "source": [
    "# Step-by-step calibration per month"
   ]
  },
  {
   "cell_type": "markdown",
   "metadata": {},
   "source": [
    "## Simulation until 1 July"
   ]
  },
  {
   "cell_type": "code",
   "execution_count": null,
   "metadata": {
    "ExecuteTime": {
     "end_time": "2020-11-02T15:41:26.221465Z",
     "start_time": "2020-11-02T15:41:25.998381Z"
    }
   },
   "outputs": [],
   "source": [
    "# Load the dictionary containing the posterior parameter distributions obtained from calibrating the model to Belgian hospitalization data\n",
    "with open('../data/interim/model_parameters/provinces/Luik_wave1_1000steps_2020-10-28.json', 'r') as fp:\n",
    "    samples_dict_wave1 = json.load(fp)"
   ]
  },
  {
   "cell_type": "code",
   "execution_count": null,
   "metadata": {
    "ExecuteTime": {
     "end_time": "2020-11-02T15:41:59.106058Z",
     "start_time": "2020-11-02T15:41:59.067059Z"
    }
   },
   "outputs": [],
   "source": [
    "# Update this parameter here, the rest is updated by draw_sample_COVID19_SEIRD\n",
    "model.parameters['policy_time'] = samples_dict_wave1['policy_time']"
   ]
  },
  {
   "cell_type": "code",
   "execution_count": null,
   "metadata": {
    "ExecuteTime": {
     "end_time": "2020-11-02T15:42:28.185746Z",
     "start_time": "2020-11-02T15:41:59.249589Z"
    }
   },
   "outputs": [],
   "source": [
    "out_july = model.sim(time='2020-07-01', excess_time=samples_dict_wave1['lag_time'],start_date='2020-03-15',\n",
    "                   N=100, draw_fcn=draw_sample_COVID19_SEIRD,samples=samples_dict_wave1)\n",
    "states = out_july.isel(time=-1).mean(dim=\"draws\")\n",
    "initial_states_july1 = {key:states[key].values for key in initial_states.keys()}"
   ]
  },
  {
   "cell_type": "code",
   "execution_count": null,
   "metadata": {},
   "outputs": [],
   "source": [
    "plt.figure()\n",
    "plt.plot(out_july['time'],out_july['H_tot'].mean(dim=\"draws\").sum(dim=\"Nc\"))"
   ]
  },
  {
   "cell_type": "code",
   "execution_count": null,
   "metadata": {
    "ExecuteTime": {
     "end_time": "2020-10-30T16:56:35.394679Z",
     "start_time": "2020-10-30T16:56:35.351424Z"
    }
   },
   "outputs": [],
   "source": [
    "np.save('../data/interim/prediction_provinces/Luik_initial_states_july1.npy', initial_states_july1)"
   ]
  },
  {
   "cell_type": "markdown",
   "metadata": {},
   "source": [
    "## Calibration month July"
   ]
  },
  {
   "cell_type": "code",
   "execution_count": null,
   "metadata": {
    "ExecuteTime": {
     "end_time": "2020-10-30T16:56:33.278642Z",
     "start_time": "2020-10-30T16:56:33.224878Z"
    }
   },
   "outputs": [],
   "source": [
    "initial_states_july1 = np.load('../data/interim/prediction_provinces/Luik_initial_states_july1.npy', allow_pickle=True).item()"
   ]
  },
  {
   "cell_type": "code",
   "execution_count": null,
   "metadata": {
    "ExecuteTime": {
     "end_time": "2020-10-30T16:48:17.210748Z",
     "start_time": "2020-10-30T16:48:17.160083Z"
    }
   },
   "outputs": [],
   "source": [
    "# Second wave\n",
    "start_date = '2020-07-01'\n",
    "end_beta = '2020-08-01'"
   ]
  },
  {
   "cell_type": "code",
   "execution_count": null,
   "metadata": {
    "ExecuteTime": {
     "end_time": "2020-10-30T16:48:18.968763Z",
     "start_time": "2020-10-30T16:48:18.919319Z"
    }
   },
   "outputs": [],
   "source": [
    "len(Luik_ts.loc[start_date:end_beta])"
   ]
  },
  {
   "cell_type": "code",
   "execution_count": null,
   "metadata": {
    "ExecuteTime": {
     "end_time": "2020-10-30T16:48:20.509851Z",
     "start_time": "2020-10-30T16:48:20.188149Z"
    }
   },
   "outputs": [],
   "source": [
    "# Load the parameters using `get_COVID19_SEIRD_parameters()`.\n",
    "params = model_parameters.get_COVID19_SEIRD_parameters()\n",
    "#model_sept = models.COVID19_SEIRD(initial_states_sept, params)\n",
    "model_july = models.COVID19_SEIRD(initial_states_july1, params)"
   ]
  },
  {
   "cell_type": "code",
   "execution_count": null,
   "metadata": {
    "ExecuteTime": {
     "end_time": "2020-10-30T16:48:20.699738Z",
     "start_time": "2020-10-30T16:48:20.663234Z"
    }
   },
   "outputs": [],
   "source": [
    "# function parameters \n",
    "timeseries = Luik_ts['NEW_IN']\n",
    "spatial_unit = 'Luik_July'"
   ]
  },
  {
   "cell_type": "code",
   "execution_count": null,
   "metadata": {
    "ExecuteTime": {
     "end_time": "2020-10-30T16:48:22.470225Z",
     "start_time": "2020-10-30T16:48:22.432509Z"
    }
   },
   "outputs": [],
   "source": [
    "beta_init = np.mean(samples_dict_wave1['beta'])\n",
    "sigma_data_init = np.mean(samples_dict_wave1['sigma_data'])"
   ]
  },
  {
   "cell_type": "code",
   "execution_count": null,
   "metadata": {
    "ExecuteTime": {
     "end_time": "2020-10-30T16:51:21.133944Z",
     "start_time": "2020-10-30T16:48:26.896155Z"
    },
    "scrolled": true
   },
   "outputs": [],
   "source": [
    "samples_dict = full_calibration_wave2(model_july, timeseries, spatial_unit, start_date, end_beta, \n",
    "                                      beta_init, sigma_data_init, None, None,\n",
    "                                      fig_path=fig_path, samples_path=samples_path,\n",
    "                                      initN=initN, Nc_total=Nc_total,steps_mcmc=100,discard=50)"
   ]
  },
  {
   "cell_type": "code",
   "execution_count": null,
   "metadata": {},
   "outputs": [],
   "source": [
    "samples_dict.keys()"
   ]
  },
  {
   "cell_type": "code",
   "execution_count": null,
   "metadata": {
    "ExecuteTime": {
     "end_time": "2020-10-30T16:52:49.951381Z",
     "start_time": "2020-10-30T16:52:49.843952Z"
    },
    "scrolled": false
   },
   "outputs": [],
   "source": [
    "fig,ax = plt.subplots(figsize=(4,4))\n",
    "pd.Series(samples_dict['beta']).hist(ax=ax)"
   ]
  },
  {
   "cell_type": "code",
   "execution_count": null,
   "metadata": {
    "ExecuteTime": {
     "end_time": "2020-10-30T16:55:10.441581Z",
     "start_time": "2020-10-30T16:54:47.961115Z"
    }
   },
   "outputs": [],
   "source": [
    "states = [['H_in']]\n",
    "end_date = end_beta\n",
    "data=[timeseries[start_date:end_beta].values]\n",
    "\n",
    "fig,ax=plt.subplots(figsize=(8,8))\n",
    "for i in range(200):\n",
    "    idx,model_july.parameters['beta'] = random.choice(list(enumerate(samples_dict['beta'])))\n",
    "    y_model = model_july.sim(time=end_date, excess_time=0, start_date=start_date)\n",
    "    ax = plot_fit(y_model,data,start_date,lag_time=0,states=states,end_date=end_date,\n",
    "                  with_ints=False,ax=ax,plt_kwargs={'color':'blue','linewidth': 2,'alpha': 0.05})\n",
    "plt.setp(plt.gca().xaxis.get_majorticklabels(),'rotation', 0)\n",
    "#data_after_calib = timeseries[pd.to_datetime(end_ramp)+pd.to_timedelta('1d'):end_date]\n",
    "#plt.scatter(data_after_calib.index, data_after_calib.values, marker='o',color='red',linestyle='None',facecolors='none')\n",
    "legend_text=['daily \\nhospitalizations']\n",
    "ax.set_xlim(start_date, end_date)\n",
    "ax.set_ylabel('daily hospitalizations')\n",
    "fig.savefig(fig_path+spatial_unit+'.pdf',\n",
    "            bbox_inches='tight', dpi=600)"
   ]
  },
  {
   "cell_type": "markdown",
   "metadata": {},
   "source": [
    "## Simulation until 1 August"
   ]
  },
  {
   "cell_type": "code",
   "execution_count": null,
   "metadata": {
    "ExecuteTime": {
     "end_time": "2020-10-30T16:57:18.704357Z",
     "start_time": "2020-10-30T16:57:18.651429Z"
    }
   },
   "outputs": [],
   "source": [
    "# Load the dictionary containing the posterior parameter distributions obtained from calibrating the model to Belgian hospitalization data\n",
    "with open('../data/interim/model_parameters/provinces/Luik_July_2020-10-30.json', 'r') as fp:\n",
    "    samples_dict_july = json.load(fp)"
   ]
  },
  {
   "cell_type": "code",
   "execution_count": null,
   "metadata": {
    "ExecuteTime": {
     "end_time": "2020-10-30T16:46:49.392786Z",
     "start_time": "2020-10-30T16:46:49.356002Z"
    }
   },
   "outputs": [],
   "source": [
    "# Update this parameter here, the rest is updated by draw_sample_COVID19_SEIRD\n",
    "# model.parameters['policy_time'] = samples_dict_wave1['lag_time']"
   ]
  },
  {
   "cell_type": "code",
   "execution_count": null,
   "metadata": {
    "ExecuteTime": {
     "end_time": "2020-10-30T17:01:08.718045Z",
     "start_time": "2020-10-30T17:01:03.129460Z"
    }
   },
   "outputs": [],
   "source": [
    "out_aug = model_july.sim(time='2020-08-01', excess_time=0,start_date='2020-07-01',\n",
    "                   N=100, draw_fcn=draw_sample_beta_COVID19_SEIRD,samples=samples_dict_july)\n",
    "states = out_aug.isel(time=-1).mean(dim=\"draws\")\n",
    "initial_states_aug1 = {key:states[key].values for key in initial_states.keys()}"
   ]
  },
  {
   "cell_type": "code",
   "execution_count": null,
   "metadata": {
    "ExecuteTime": {
     "end_time": "2020-10-30T17:01:31.713350Z",
     "start_time": "2020-10-30T17:01:31.672096Z"
    }
   },
   "outputs": [],
   "source": [
    "np.save('../data/interim/prediction_provinces/Luik_initial_states_aug1.npy', initial_states_aug1)"
   ]
  },
  {
   "cell_type": "markdown",
   "metadata": {},
   "source": [
    "## Calibration month August"
   ]
  },
  {
   "cell_type": "code",
   "execution_count": null,
   "metadata": {
    "ExecuteTime": {
     "end_time": "2020-10-30T17:02:03.014165Z",
     "start_time": "2020-10-30T17:02:02.815531Z"
    }
   },
   "outputs": [],
   "source": [
    "initial_states_aug1 = np.load('../data/interim/prediction_provinces/Luik_initial_states_aug1.npy', allow_pickle=True).item()"
   ]
  },
  {
   "cell_type": "code",
   "execution_count": null,
   "metadata": {
    "ExecuteTime": {
     "end_time": "2020-10-30T17:02:09.305370Z",
     "start_time": "2020-10-30T17:02:09.267629Z"
    }
   },
   "outputs": [],
   "source": [
    "# Second wave\n",
    "start_date = '2020-08-01'\n",
    "end_beta = '2020-09-01'"
   ]
  },
  {
   "cell_type": "code",
   "execution_count": null,
   "metadata": {
    "ExecuteTime": {
     "end_time": "2020-10-30T17:02:09.879670Z",
     "start_time": "2020-10-30T17:02:09.837543Z"
    }
   },
   "outputs": [],
   "source": [
    "len(Luik_ts.loc[start_date:end_beta])"
   ]
  },
  {
   "cell_type": "code",
   "execution_count": null,
   "metadata": {
    "ExecuteTime": {
     "end_time": "2020-10-30T17:02:20.592714Z",
     "start_time": "2020-10-30T17:02:20.259567Z"
    }
   },
   "outputs": [],
   "source": [
    "# Load the parameters using `get_COVID19_SEIRD_parameters()`.\n",
    "params = model_parameters.get_COVID19_SEIRD_parameters()\n",
    "#model_sept = models.COVID19_SEIRD(initial_states_sept, params)\n",
    "model_aug = models.COVID19_SEIRD(initial_states_aug1, params)"
   ]
  },
  {
   "cell_type": "code",
   "execution_count": null,
   "metadata": {
    "ExecuteTime": {
     "end_time": "2020-10-30T17:02:24.887844Z",
     "start_time": "2020-10-30T17:02:24.845045Z"
    }
   },
   "outputs": [],
   "source": [
    "# function parameters \n",
    "timeseries = Luik_ts['NEW_IN']\n",
    "spatial_unit = 'Luik_Aug'"
   ]
  },
  {
   "cell_type": "code",
   "execution_count": null,
   "metadata": {
    "ExecuteTime": {
     "end_time": "2020-10-30T17:06:53.236522Z",
     "start_time": "2020-10-30T17:06:53.197798Z"
    }
   },
   "outputs": [],
   "source": [
    "beta_init = np.mean(samples_dict_july['beta'])\n",
    "sigma_data_init = np.mean(samples_dict_wave1['sigma_data'])"
   ]
  },
  {
   "cell_type": "code",
   "execution_count": null,
   "metadata": {
    "ExecuteTime": {
     "end_time": "2020-10-30T17:07:09.535256Z",
     "start_time": "2020-10-30T17:07:09.493727Z"
    }
   },
   "outputs": [],
   "source": [
    "mu_beta, std_beta = norm.fit(samples_dict_july['beta'])\n",
    "mu_sigma_data, std_sigma_data = norm.fit(samples_dict_wave1['sigma_data']) # should be on july!\n",
    "beta_norm_params = (mu_beta, std_beta)\n",
    "sigma_data_norm_params = (mu_sigma_data, std_sigma_data)"
   ]
  },
  {
   "cell_type": "code",
   "execution_count": null,
   "metadata": {
    "ExecuteTime": {
     "end_time": "2020-10-30T17:45:38.944138Z",
     "start_time": "2020-10-30T17:42:39.898370Z"
    }
   },
   "outputs": [],
   "source": [
    "samples_dict = full_calibration_wave2(model_aug, timeseries, spatial_unit, start_date, end_beta, \n",
    "                                      beta_init, sigma_data_init, None, None,\n",
    "                                      fig_path=fig_path, samples_path=samples_path,\n",
    "                                      initN=initN, Nc_total=Nc_total,steps_mcmc=1000)"
   ]
  },
  {
   "cell_type": "code",
   "execution_count": null,
   "metadata": {
    "ExecuteTime": {
     "end_time": "2020-10-30T17:45:56.766698Z",
     "start_time": "2020-10-30T17:45:56.509328Z"
    }
   },
   "outputs": [],
   "source": [
    "fig,ax = plt.subplots(figsize=(4,4))\n",
    "pd.Series(samples_dict['beta']).hist(ax=ax)"
   ]
  },
  {
   "cell_type": "code",
   "execution_count": null,
   "metadata": {
    "ExecuteTime": {
     "end_time": "2020-10-30T17:49:01.217041Z",
     "start_time": "2020-10-30T17:48:58.606651Z"
    }
   },
   "outputs": [],
   "source": [
    "## Deze herrunnen!\n",
    "states = [['H_in']]\n",
    "end_date = end_beta\n",
    "data=[timeseries[start_date:end_beta].values]\n",
    "\n",
    "fig,ax=plt.subplots(figsize=(8,8))\n",
    "for i in range(20):\n",
    "    idx,model_aug.parameters['beta'] = random.choice(list(enumerate(samples_dict_aug['beta'])))\n",
    "    y_model = model_aug.sim(time=end_date, excess_time=0, start_date=start_date)\n",
    "    ax = plot_fit(y_model,data,start_date,lag_time=0,states=states,end_date=end_date,\n",
    "                  with_ints=False,ax=ax,plt_kwargs={'color':'blue','linewidth': 2,'alpha': 0.05})\n",
    "plt.setp(plt.gca().xaxis.get_majorticklabels(),'rotation', 0)\n",
    "#data_after_calib = timeseries[pd.to_datetime(end_ramp)+pd.to_timedelta('1d'):end_date]\n",
    "#plt.scatter(data_after_calib.index, data_after_calib.values, marker='o',color='red',linestyle='None',facecolors='none')\n",
    "legend_text=['daily \\nhospitalizations']\n",
    "ax.set_xlim(start_date, end_date)\n",
    "ax.set_ylabel('daily hospitalizations')\n",
    "# fig.savefig(fig_path+spatial_unit+'.pdf',\n",
    "#             bbox_inches='tight', dpi=600)"
   ]
  },
  {
   "cell_type": "code",
   "execution_count": null,
   "metadata": {},
   "outputs": [],
   "source": []
  },
  {
   "cell_type": "markdown",
   "metadata": {},
   "source": [
    "## Simulation until 1 September"
   ]
  },
  {
   "cell_type": "code",
   "execution_count": null,
   "metadata": {
    "ExecuteTime": {
     "end_time": "2020-10-30T17:51:15.869769Z",
     "start_time": "2020-10-30T17:51:15.655962Z"
    }
   },
   "outputs": [],
   "source": [
    "# Load the dictionary containing the posterior parameter distributions obtained from calibrating the model to Belgian hospitalization data\n",
    "with open('../data/interim/model_parameters/provinces/Luik_Aug_2020-10-30.json', 'r') as fp:\n",
    "    samples_dict_aug = json.load(fp)"
   ]
  },
  {
   "cell_type": "code",
   "execution_count": null,
   "metadata": {
    "ExecuteTime": {
     "end_time": "2020-10-30T16:46:49.392786Z",
     "start_time": "2020-10-30T16:46:49.356002Z"
    }
   },
   "outputs": [],
   "source": [
    "# Update this parameter here, the rest is updated by draw_sample_COVID19_SEIRD\n",
    "# model.parameters['policy_time'] = samples_dict_wave1['lag_time']"
   ]
  },
  {
   "cell_type": "code",
   "execution_count": null,
   "metadata": {
    "ExecuteTime": {
     "end_time": "2020-10-30T17:51:24.928761Z",
     "start_time": "2020-10-30T17:51:19.336448Z"
    }
   },
   "outputs": [],
   "source": [
    "out_sept = model_aug.sim(time='2020-09-01', excess_time=0,start_date='2020-08-01',\n",
    "                   N=100, draw_fcn=draw_sample_beta_COVID19_SEIRD,samples=samples_dict_aug)\n",
    "states = out_sept.isel(time=-1).mean(dim=\"draws\")\n",
    "initial_states_sept1 = {key:states[key].values for key in initial_states.keys()}"
   ]
  },
  {
   "cell_type": "code",
   "execution_count": null,
   "metadata": {
    "ExecuteTime": {
     "end_time": "2020-10-30T17:51:33.711786Z",
     "start_time": "2020-10-30T17:51:33.673224Z"
    }
   },
   "outputs": [],
   "source": [
    "np.save('../data/interim/prediction_provinces/Luik_initial_states_sept1.npy', initial_states_sept1)"
   ]
  },
  {
   "cell_type": "code",
   "execution_count": null,
   "metadata": {
    "ExecuteTime": {
     "end_time": "2020-10-30T17:51:25.318521Z",
     "start_time": "2020-10-30T17:51:25.271583Z"
    }
   },
   "outputs": [],
   "source": [
    "initial_states_sept1"
   ]
  },
  {
   "cell_type": "markdown",
   "metadata": {},
   "source": [
    "## Calibration month September"
   ]
  },
  {
   "cell_type": "code",
   "execution_count": null,
   "metadata": {
    "ExecuteTime": {
     "end_time": "2020-10-30T17:51:58.368440Z",
     "start_time": "2020-10-30T17:51:58.330641Z"
    }
   },
   "outputs": [],
   "source": [
    "initial_states_sept1 = np.load('../data/interim/prediction_provinces/Luik_initial_states_sept1.npy', allow_pickle=True).item()"
   ]
  },
  {
   "cell_type": "code",
   "execution_count": null,
   "metadata": {
    "ExecuteTime": {
     "end_time": "2020-10-30T17:52:06.817390Z",
     "start_time": "2020-10-30T17:52:06.780931Z"
    }
   },
   "outputs": [],
   "source": [
    "# Second wave\n",
    "start_date = '2020-09-01'\n",
    "end_beta = '2020-10-01'"
   ]
  },
  {
   "cell_type": "code",
   "execution_count": null,
   "metadata": {
    "ExecuteTime": {
     "end_time": "2020-10-30T17:52:08.496601Z",
     "start_time": "2020-10-30T17:52:08.455785Z"
    }
   },
   "outputs": [],
   "source": [
    "len(Luik_ts.loc[start_date:end_beta])"
   ]
  },
  {
   "cell_type": "code",
   "execution_count": null,
   "metadata": {
    "ExecuteTime": {
     "end_time": "2020-10-30T17:52:15.480377Z",
     "start_time": "2020-10-30T17:52:15.157707Z"
    }
   },
   "outputs": [],
   "source": [
    "# Load the parameters using `get_COVID19_SEIRD_parameters()`.\n",
    "params = model_parameters.get_COVID19_SEIRD_parameters()\n",
    "#model_sept = models.COVID19_SEIRD(initial_states_sept, params)\n",
    "model_sept = models.COVID19_SEIRD(initial_states_sept1, params)"
   ]
  },
  {
   "cell_type": "code",
   "execution_count": null,
   "metadata": {
    "ExecuteTime": {
     "end_time": "2020-10-30T17:52:18.721870Z",
     "start_time": "2020-10-30T17:52:18.524171Z"
    }
   },
   "outputs": [],
   "source": [
    "# function parameters \n",
    "timeseries = Luik_ts['NEW_IN']\n",
    "spatial_unit = 'Luik_Sept'"
   ]
  },
  {
   "cell_type": "code",
   "execution_count": null,
   "metadata": {
    "ExecuteTime": {
     "end_time": "2020-10-30T18:02:55.232222Z",
     "start_time": "2020-10-30T18:02:55.194458Z"
    }
   },
   "outputs": [],
   "source": [
    "beta_init = 0.03\n",
    "sigma_data_init = np.mean(samples_dict_wave1['sigma_data'])"
   ]
  },
  {
   "cell_type": "code",
   "execution_count": null,
   "metadata": {
    "ExecuteTime": {
     "end_time": "2020-10-30T17:52:31.456104Z",
     "start_time": "2020-10-30T17:52:31.416945Z"
    }
   },
   "outputs": [],
   "source": [
    "# mu_beta, std_beta = norm.fit(samples_dict_aug['beta'])\n",
    "# mu_sigma_data, std_sigma_data = norm.fit(samples_dict_wave1['sigma_data']) # should be on aug!\n",
    "# beta_norm_params = (mu_beta, std_beta)\n",
    "# sigma_data_norm_params = (mu_sigma_data, std_sigma_data)"
   ]
  },
  {
   "cell_type": "code",
   "execution_count": null,
   "metadata": {
    "ExecuteTime": {
     "end_time": "2020-10-30T18:06:18.300489Z",
     "start_time": "2020-10-30T18:02:59.457873Z"
    }
   },
   "outputs": [],
   "source": [
    "samples_dict = full_calibration_wave2(model_aug, timeseries, spatial_unit, start_date, end_beta, \n",
    "                                      beta_init, sigma_data_init, None, None,\n",
    "                                      fig_path=fig_path, samples_path=samples_path,\n",
    "                                      initN=initN, Nc_total=Nc_total,steps_mcmc=1000)"
   ]
  },
  {
   "cell_type": "code",
   "execution_count": null,
   "metadata": {
    "ExecuteTime": {
     "end_time": "2020-10-30T18:07:19.956638Z",
     "start_time": "2020-10-30T18:07:19.689726Z"
    }
   },
   "outputs": [],
   "source": [
    "fig,ax = plt.subplots(figsize=(4,4))\n",
    "pd.Series(samples_dict['beta']).hist(ax=ax)"
   ]
  },
  {
   "cell_type": "code",
   "execution_count": null,
   "metadata": {
    "ExecuteTime": {
     "end_time": "2020-10-30T18:07:28.841956Z",
     "start_time": "2020-10-30T18:07:25.461128Z"
    }
   },
   "outputs": [],
   "source": [
    "states = [['H_in']]\n",
    "end_date = end_beta\n",
    "data=[timeseries[start_date:end_beta].values]\n",
    "\n",
    "fig,ax=plt.subplots(figsize=(8,8))\n",
    "for i in range(20):\n",
    "    idx,model_sept.parameters['beta'] = random.choice(list(enumerate(samples_dict['beta'])))\n",
    "    y_model = model_sept.sim(time=end_date, excess_time=0, start_date=start_date)\n",
    "    ax = plot_fit(y_model,data,start_date,lag_time=0,states=states,end_date=end_date,\n",
    "                  with_ints=False,ax=ax,plt_kwargs={'color':'blue','linewidth': 2,'alpha': 0.05})\n",
    "plt.setp(plt.gca().xaxis.get_majorticklabels(),'rotation', 0)\n",
    "#data_after_calib = timeseries[pd.to_datetime(end_ramp)+pd.to_timedelta('1d'):end_date]\n",
    "#plt.scatter(data_after_calib.index, data_after_calib.values, marker='o',color='red',linestyle='None',facecolors='none')\n",
    "legend_text=['daily \\nhospitalizations']\n",
    "ax.set_xlim(start_date, end_date)\n",
    "ax.set_ylabel('daily hospitalizations')\n",
    "fig.savefig(fig_path+spatial_unit+'.pdf',\n",
    "            bbox_inches='tight', dpi=600)"
   ]
  },
  {
   "cell_type": "markdown",
   "metadata": {},
   "source": [
    "# Step-by-step per policy"
   ]
  },
  {
   "cell_type": "code",
   "execution_count": null,
   "metadata": {},
   "outputs": [],
   "source": []
  },
  {
   "cell_type": "code",
   "execution_count": null,
   "metadata": {},
   "outputs": [],
   "source": []
  },
  {
   "cell_type": "code",
   "execution_count": null,
   "metadata": {},
   "outputs": [],
   "source": []
  },
  {
   "cell_type": "code",
   "execution_count": null,
   "metadata": {},
   "outputs": [],
   "source": []
  },
  {
   "cell_type": "markdown",
   "metadata": {},
   "source": [
    "# Calibration on entire period"
   ]
  },
  {
   "cell_type": "code",
   "execution_count": null,
   "metadata": {
    "ExecuteTime": {
     "end_time": "2020-10-30T16:44:14.843919Z",
     "start_time": "2020-10-30T16:44:14.621688Z"
    }
   },
   "outputs": [],
   "source": [
    "# Load the dictionary containing the posterior parameter distributions obtained from calibrating the model to Belgian hospitalization data\n",
    "with open('../data/interim/model_parameters/provinces/Luik_wave1_1000steps_2020-10-28.json', 'r') as fp:\n",
    "    samples_dict_wave1 = json.load(fp)"
   ]
  },
  {
   "cell_type": "code",
   "execution_count": null,
   "metadata": {
    "ExecuteTime": {
     "end_time": "2020-10-30T16:45:37.460957Z",
     "start_time": "2020-10-30T16:45:37.262893Z"
    }
   },
   "outputs": [],
   "source": [
    "initial_states_aug = np.load('../data/interim/prediction_provinces/Luik_initial_states_aug.npy', allow_pickle=True).item()"
   ]
  },
  {
   "cell_type": "code",
   "execution_count": null,
   "metadata": {
    "ExecuteTime": {
     "end_time": "2020-10-30T16:44:15.309723Z",
     "start_time": "2020-10-30T16:44:15.273633Z"
    }
   },
   "outputs": [],
   "source": [
    "# Second wave\n",
    "start_date = '2020-08-01'\n",
    "end_beta = '2020-10-25'"
   ]
  },
  {
   "cell_type": "code",
   "execution_count": null,
   "metadata": {
    "ExecuteTime": {
     "end_time": "2020-10-30T16:44:15.991976Z",
     "start_time": "2020-10-30T16:44:15.950040Z"
    }
   },
   "outputs": [],
   "source": [
    "len(Luik_ts.loc[start_date:end_beta])"
   ]
  },
  {
   "cell_type": "code",
   "execution_count": null,
   "metadata": {
    "ExecuteTime": {
     "end_time": "2020-10-30T16:45:39.249929Z",
     "start_time": "2020-10-30T16:45:38.927522Z"
    }
   },
   "outputs": [],
   "source": [
    "# Load the parameters using `get_COVID19_SEIRD_parameters()`.\n",
    "params = model_parameters.get_COVID19_SEIRD_parameters()\n",
    "#model_sept = models.COVID19_SEIRD(initial_states_sept, params)\n",
    "model_aug = models.COVID19_SEIRD(initial_states_aug, params)"
   ]
  },
  {
   "cell_type": "code",
   "execution_count": null,
   "metadata": {
    "ExecuteTime": {
     "end_time": "2020-10-30T16:45:42.221862Z",
     "start_time": "2020-10-30T16:45:42.185330Z"
    }
   },
   "outputs": [],
   "source": [
    "# function parameters \n",
    "timeseries = Luik_ts['NEW_IN']\n",
    "spatial_unit = 'Luik_wave2_from_aug_NVD'\n"
   ]
  },
  {
   "cell_type": "code",
   "execution_count": null,
   "metadata": {
    "ExecuteTime": {
     "end_time": "2020-10-30T16:45:43.424521Z",
     "start_time": "2020-10-30T16:45:43.386749Z"
    }
   },
   "outputs": [],
   "source": [
    "mu_beta, std_beta = norm.fit(samples_dict_wave1['beta'])\n",
    "mu_sigma_data, std_sigma_data = norm.fit(samples_dict_wave1['beta'])"
   ]
  },
  {
   "cell_type": "code",
   "execution_count": null,
   "metadata": {
    "ExecuteTime": {
     "end_time": "2020-10-30T16:45:43.499159Z",
     "start_time": "2020-10-30T16:45:43.461809Z"
    }
   },
   "outputs": [],
   "source": [
    "beta_init = np.mean(samples_dict_wave1['beta'])\n",
    "sigma_data_init = np.mean(samples_dict_wave1['sigma_data'])\n",
    "beta_norm_params = (mu_beta, std_beta)\n",
    "sigma_data_norm_params = (mu_sigma_data, std_sigma_data)"
   ]
  },
  {
   "cell_type": "code",
   "execution_count": null,
   "metadata": {
    "ExecuteTime": {
     "start_time": "2020-10-30T16:45:57.123Z"
    },
    "scrolled": true
   },
   "outputs": [],
   "source": [
    "samples_dict = full_calibration_wave2(model_aug, timeseries, spatial_unit, start_date, end_beta, \n",
    "                                      beta_init, sigma_data_init, beta_norm_params,sigma_data_norm_params,\n",
    "                                      fig_path=fig_path, samples_path=samples_path,\n",
    "                                      initN=initN, Nc_total=Nc_total,steps_mcmc=500)"
   ]
  },
  {
   "cell_type": "code",
   "execution_count": null,
   "metadata": {
    "ExecuteTime": {
     "end_time": "2020-10-30T15:45:24.407966Z",
     "start_time": "2020-10-30T15:45:24.196743Z"
    }
   },
   "outputs": [],
   "source": [
    "# Load the dictionary containing the posterior parameter distributions obtained from calibrating the model to Belgian hospitalization data\n",
    "with open('../data/interim/model_parameters/provinces/Luik_wave2_from_aug_NVD_2020-10-30.json', 'r') as fp:\n",
    "    samples_dict = json.load(fp)\n"
   ]
  },
  {
   "cell_type": "code",
   "execution_count": null,
   "metadata": {
    "ExecuteTime": {
     "end_time": "2020-10-30T16:21:36.785703Z",
     "start_time": "2020-10-30T16:21:36.581443Z"
    }
   },
   "outputs": [],
   "source": [
    "pd.Series(samples_dict['beta']).describe()"
   ]
  },
  {
   "cell_type": "code",
   "execution_count": null,
   "metadata": {
    "ExecuteTime": {
     "end_time": "2020-10-30T15:45:55.789033Z",
     "start_time": "2020-10-30T15:45:38.264677Z"
    },
    "scrolled": false
   },
   "outputs": [],
   "source": [
    "states = [['H_in']]\n",
    "end_date = '2021-01-01' #end_beta\n",
    "data=[timeseries[start_date:end_beta].values]\n",
    "\n",
    "fig,ax=plt.subplots(figsize=(8,8))\n",
    "for i in range(20):\n",
    "    idx,model_aug.parameters['beta'] = random.choice(list(enumerate(samples_dict['beta'])))\n",
    "    y_model = model_aug.sim(time=end_date, excess_time=0, start_date=start_date)\n",
    "    ax = plot_fit(y_model,data,start_date,lag_time=0,states=states,end_date=end_date,\n",
    "                  with_ints=False,ax=ax,plt_kwargs={'color':'blue','linewidth': 2,'alpha': 0.05})\n",
    "plt.setp(plt.gca().xaxis.get_majorticklabels(),'rotation', 0)\n",
    "#data_after_calib = timeseries[pd.to_datetime(end_ramp)+pd.to_timedelta('1d'):end_date]\n",
    "#plt.scatter(data_after_calib.index, data_after_calib.values, marker='o',color='red',linestyle='None',facecolors='none')\n",
    "legend_text=['daily \\nhospitalizations']\n",
    "ax.set_xlim('2020-08-01', '2021-01-01')\n",
    "ax.set_ylabel('daily hospitalizations')\n",
    "# fig.savefig(fig_path+spatial_unit+'.pdf',\n",
    "#             bbox_inches='tight', dpi=600)"
   ]
  },
  {
   "cell_type": "code",
   "execution_count": null,
   "metadata": {
    "ExecuteTime": {
     "end_time": "2020-10-29T09:00:39.961180Z",
     "start_time": "2020-10-29T09:00:35.679844Z"
    }
   },
   "outputs": [],
   "source": [
    "fig.savefig(fig_path+spatial_unit+'.pdf',\n",
    "            bbox_inches='tight', dpi=600)"
   ]
  },
  {
   "cell_type": "markdown",
   "metadata": {},
   "source": [
    "# Calibration on increasing line"
   ]
  },
  {
   "cell_type": "markdown",
   "metadata": {},
   "source": [
    "## Simulation until 28 September"
   ]
  },
  {
   "cell_type": "code",
   "execution_count": null,
   "metadata": {
    "ExecuteTime": {
     "end_time": "2020-11-02T15:44:24.001235Z",
     "start_time": "2020-11-02T15:44:23.935429Z"
    }
   },
   "outputs": [],
   "source": [
    "# Load the dictionary containing the posterior parameter distributions obtained from calibrating the model to Belgian hospitalization data\n",
    "with open('../data/interim/model_parameters/provinces/Luik_wave1_1000steps_2020-10-28.json', 'r') as fp:\n",
    "    samples_dict_wave1 = json.load(fp)"
   ]
  },
  {
   "cell_type": "code",
   "execution_count": null,
   "metadata": {
    "ExecuteTime": {
     "end_time": "2020-11-02T15:44:24.291342Z",
     "start_time": "2020-11-02T15:44:24.243592Z"
    }
   },
   "outputs": [],
   "source": [
    "def policies_until_september(t,param,start_date,policy_time,policy1,policy2,policy3,policy4,policy5,\n",
    "                               policy6,policy7,policy8,policy9,policy10,l,tau,prevention):\n",
    "\n",
    "    tau_days = pd.to_timedelta(tau, unit='D')\n",
    "    l_days = pd.to_timedelta(l, unit='D')\n",
    "    t1 = pd.to_datetime('2020-05-04') # reopening industry\n",
    "    t2 = pd.to_datetime('2020-05-06') # merging of two bubbels\n",
    "    t3 = pd.to_datetime('2020-05-11') # reopening of businesses\n",
    "    t4 = pd.to_datetime('2020-05-18') # partial reopening schools\n",
    "    t5 = pd.to_datetime('2020-06-04') # reopening schools, bars, restaurants\n",
    "    t6 = pd.to_datetime('2020-07-01') # school holidays, gatherings 15 people, cultural event\n",
    "    t7 = pd.to_datetime('2020-07-31') # ?\n",
    "    t8 = pd.to_datetime('2020-07-31') # opening schools\n",
    "    \n",
    "    if t <= start_date + tau_days:\n",
    "        return policy1\n",
    "    elif start_date + tau_days < t <= start_date + tau_days + l_days:\n",
    "        return ramp_fun(policy1, policy2, t, tau_days, l, start_date)\n",
    "    elif start_date + tau_days + l_days < t <= t1: \n",
    "        return prevention*policy2\n",
    "    elif t1 < t <= t2:\n",
    "        return prevention*policy3\n",
    "    elif t2 < t <= t3:\n",
    "        return prevention*policy4\n",
    "    elif t3 < t <= t4:\n",
    "        return prevention*policy5\n",
    "    elif t4 < t <= t5:\n",
    "        return prevention*policy6\n",
    "    elif t5 < t <= t6:\n",
    "        return prevention*policy7\n",
    "    elif t6 < t <= t7:\n",
    "        return prevention*policy8\n",
    "    elif t7 < t <= t8:\n",
    "        return prevention*policy9\n",
    "    elif t8 < t:\n",
    "        return prevention*policy10"
   ]
  },
  {
   "cell_type": "code",
   "execution_count": null,
   "metadata": {
    "ExecuteTime": {
     "end_time": "2020-11-02T15:44:26.722906Z",
     "start_time": "2020-11-02T15:44:26.385073Z"
    }
   },
   "outputs": [],
   "source": [
    "# Load the model parameters using `get_COVID19_SEIRD_parameters()`.\n",
    "params = model_parameters.get_COVID19_SEIRD_parameters()\n",
    "\n",
    "params.update({'policy1': Nc_total,\n",
    "              'policy2': 1.0*Nc_home + (1-0.60)*Nc_work + (1-0.70)*Nc_transport + (1-0.30)*Nc_others + (1-0.80)*Nc_leisure,\n",
    "              'policy3': 1.0*Nc_home + (1-0.50)*Nc_work + (1-0.60)*Nc_transport + (1-0.30)*Nc_others + (1-0.70)*Nc_leisure,\n",
    "              'policy4': 1.0*Nc_home + (1-0.40)*Nc_work + (1-0.55)*Nc_transport + (1-0.25)*Nc_others + (1-0.65)*Nc_leisure,\n",
    "              'policy5': 1.0*Nc_home + (1-0.30)*Nc_work + (1-0.50)*Nc_transport + (1-0.20)*Nc_others + (1-0.60)*Nc_leisure,\n",
    "              'policy6': 1.0*Nc_home + (1-0.30)*Nc_work + (1-0.45)*Nc_transport + (1-0.15)*Nc_others + (1-0.85)*Nc_schools + (1-0.50)*Nc_leisure,\n",
    "              'policy7': 1.0*Nc_home + (1-0.25)*Nc_work + (1-0.35)*Nc_transport + (1-0.10)*Nc_others + (1-0.35)*Nc_schools + (1-0.30)*Nc_leisure,\n",
    "              'policy8': 1.0*Nc_home + (1-0.20)*Nc_work + (1-0.25)*Nc_transport + (1-0.05)*Nc_others + (1-0.30)*Nc_leisure,\n",
    "              'policy9': 1.0*Nc_home + (1-0.30)*Nc_work + (1-0.35)*Nc_transport + (1-0.15)*Nc_others + (1-0.40)*Nc_leisure,\n",
    "              'policy10': 1.0*Nc_home + (1-0.00)*Nc_work + (1-0.00)*Nc_transport + (1-0.00)*Nc_others + (1-0.00)*Nc_schools + (1-0.00)*Nc_leisure,\n",
    "              'policy_time': samples_dict_wave1['lag_time'],\n",
    "              'l': 1,\n",
    "              'tau': 5,\n",
    "              'prevention': 0.5,\n",
    "              'start_date':pd.to_datetime('2020-03-15')})\n",
    "\n",
    "# Define the initial condition: one exposed inidividual in every age category\n",
    "initial_states = {'S': initN, 'E': np.ones(levels)}\n",
    "# Initialize the model\n",
    "model = models.COVID19_SEIRD(initial_states, params, time_dependent_parameters={'Nc': policies_until_september})"
   ]
  },
  {
   "cell_type": "code",
   "execution_count": null,
   "metadata": {
    "ExecuteTime": {
     "end_time": "2020-11-02T15:48:36.848216Z",
     "start_time": "2020-11-02T15:48:23.074244Z"
    },
    "scrolled": false
   },
   "outputs": [],
   "source": [
    "states = [['H_in']]\n",
    "end_date = '2020-09-28'\n",
    "data=[timeseries[start_date:end_ramp].values]\n",
    "\n",
    "fig,ax=plt.subplots()\n",
    "for i in range(10):\n",
    "    idx,model.parameters['beta'] = random.choice(list(enumerate(samples_dict_wave1['beta'])))\n",
    "    idx,model.parameters['l'] = random.choice(list(enumerate(samples_dict_wave1['l'])))\n",
    "    model.parameters['tau'] = samples_dict_wave1['tau'][idx]\n",
    "    model.parameters['policy_time'] = samples_dict_wave1['lag_time']\n",
    "    model.parameters['prevention'] = samples_dict_wave1['prevention'][idx]\n",
    "    y_model = model.sim(time=end_date, excess_time=samples_dict_wave1['lag_time'], start_date=start_date)\n",
    "    ax = plot_fit(y_model,data,start_date,samples_dict_wave1['lag_time'],states,end_date=end_date,with_ints=False,ax=ax,plt_kwargs={'color':'blue','linewidth': 2,'alpha': 0.05})\n",
    "\n",
    "data_after_calib = timeseries[pd.to_datetime(end_ramp)+pd.to_timedelta('1d'):end_date]\n",
    "plt.scatter(data_after_calib.index, data_after_calib.values, marker='o',color='red',linestyle='None',facecolors='none')\n",
    "legend_text=['daily \\nhospitalizations']\n",
    "ax.set_xlim('2020-03-10', end_date)\n",
    "# fig.savefig(fig_path+spatial_unit+'.pdf',\n",
    "#             bbox_inches='tight', dpi=600)"
   ]
  },
  {
   "cell_type": "code",
   "execution_count": null,
   "metadata": {
    "ExecuteTime": {
     "end_time": "2020-11-02T15:46:43.828470Z",
     "start_time": "2020-11-02T15:44:37.663801Z"
    }
   },
   "outputs": [],
   "source": [
    "out_sept28 = model.sim(time='2020-09-28', excess_time=samples_dict_wave1['lag_time'],start_date='2020-03-15',\n",
    "                   N=100, draw_fcn=draw_sample_COVID19_SEIRD,samples=samples_dict_wave1)\n",
    "states = out_sept28.isel(time=-1).mean(dim=\"draws\")\n",
    "initial_states_sept28 = {key:states[key].values for key in initial_states.keys()}"
   ]
  },
  {
   "cell_type": "code",
   "execution_count": null,
   "metadata": {
    "ExecuteTime": {
     "end_time": "2020-11-02T15:46:50.030828Z",
     "start_time": "2020-11-02T15:46:49.826066Z"
    }
   },
   "outputs": [],
   "source": [
    "np.save('../data/interim/prediction_provinces/Luik_initial_states_sept28.npy', initial_states_sept28)"
   ]
  },
  {
   "cell_type": "markdown",
   "metadata": {},
   "source": [
    "## Calibration 28 Sept - 25 Oct"
   ]
  },
  {
   "cell_type": "code",
   "execution_count": null,
   "metadata": {
    "ExecuteTime": {
     "end_time": "2020-11-02T15:51:16.647929Z",
     "start_time": "2020-11-02T15:51:16.412113Z"
    }
   },
   "outputs": [],
   "source": [
    "# Load the dictionary containing the posterior parameter distributions obtained from calibrating the model to Belgian hospitalization data\n",
    "with open('../data/interim/model_parameters/provinces/Luik_wave1_1000steps_2020-10-28.json', 'r') as fp:\n",
    "    samples_dict_wave1 = json.load(fp)"
   ]
  },
  {
   "cell_type": "code",
   "execution_count": null,
   "metadata": {
    "ExecuteTime": {
     "end_time": "2020-11-02T15:51:23.823970Z",
     "start_time": "2020-11-02T15:51:23.785943Z"
    }
   },
   "outputs": [],
   "source": [
    "initial_states_sept28 = np.load('../data/interim/prediction_provinces/Luik_initial_states_sept28.npy', allow_pickle=True).item()"
   ]
  },
  {
   "cell_type": "code",
   "execution_count": null,
   "metadata": {
    "ExecuteTime": {
     "end_time": "2020-11-02T15:51:39.499622Z",
     "start_time": "2020-11-02T15:51:39.463012Z"
    }
   },
   "outputs": [],
   "source": [
    "# Second wave\n",
    "start_date = '2020-09-28'\n",
    "end_beta = '2020-10-25'"
   ]
  },
  {
   "cell_type": "code",
   "execution_count": null,
   "metadata": {
    "ExecuteTime": {
     "end_time": "2020-11-02T15:51:40.118393Z",
     "start_time": "2020-11-02T15:51:40.077638Z"
    }
   },
   "outputs": [],
   "source": [
    "len(Luik_ts.loc[start_date:end_beta])"
   ]
  },
  {
   "cell_type": "code",
   "execution_count": null,
   "metadata": {
    "ExecuteTime": {
     "end_time": "2020-11-02T15:52:00.200858Z",
     "start_time": "2020-11-02T15:51:59.878393Z"
    }
   },
   "outputs": [],
   "source": [
    "# Load the parameters using `get_COVID19_SEIRD_parameters()`.\n",
    "params = model_parameters.get_COVID19_SEIRD_parameters()\n",
    "model = models.COVID19_SEIRD(initial_states_sept28, params)"
   ]
  },
  {
   "cell_type": "code",
   "execution_count": null,
   "metadata": {
    "ExecuteTime": {
     "end_time": "2020-11-02T15:52:09.607934Z",
     "start_time": "2020-11-02T15:52:09.570306Z"
    }
   },
   "outputs": [],
   "source": [
    "# function parameters \n",
    "timeseries = Luik_ts['NEW_IN']\n",
    "spatial_unit = 'Luik_wave2_from_Sept28'\n"
   ]
  },
  {
   "cell_type": "code",
   "execution_count": null,
   "metadata": {
    "ExecuteTime": {
     "end_time": "2020-10-30T16:45:43.424521Z",
     "start_time": "2020-10-30T16:45:43.386749Z"
    }
   },
   "outputs": [],
   "source": [
    "mu_beta, std_beta = norm.fit(samples_dict_wave1['beta'])\n",
    "mu_sigma_data, std_sigma_data = norm.fit(samples_dict_wave1['beta'])\n",
    "beta_norm_params = (mu_beta, std_beta)\n",
    "sigma_data_norm_params = (mu_sigma_data, std_sigma_data)"
   ]
  },
  {
   "cell_type": "code",
   "execution_count": null,
   "metadata": {
    "ExecuteTime": {
     "end_time": "2020-11-02T15:52:39.377508Z",
     "start_time": "2020-11-02T15:52:39.184860Z"
    }
   },
   "outputs": [],
   "source": [
    "beta_init = np.mean(samples_dict_wave1['beta'])\n",
    "sigma_data_init = np.mean(samples_dict_wave1['sigma_data'])"
   ]
  },
  {
   "cell_type": "code",
   "execution_count": null,
   "metadata": {
    "ExecuteTime": {
     "end_time": "2020-11-02T15:58:24.981496Z",
     "start_time": "2020-11-02T15:55:19.116624Z"
    },
    "scrolled": true
   },
   "outputs": [],
   "source": [
    "samples_dict = full_calibration_wave2(model, timeseries, spatial_unit, start_date, end_beta, \n",
    "                                      beta_init, sigma_data_init, None,None,\n",
    "                                      fig_path=fig_path, samples_path=samples_path,\n",
    "                                      initN=initN, Nc_total=Nc_total,steps_mcmc=1000)"
   ]
  },
  {
   "cell_type": "code",
   "execution_count": null,
   "metadata": {
    "ExecuteTime": {
     "end_time": "2020-11-02T15:59:12.787668Z",
     "start_time": "2020-11-02T15:59:12.535365Z"
    }
   },
   "outputs": [],
   "source": [
    "fig,ax = plt.subplots(figsize=(4,4))\n",
    "pd.Series(samples_dict['beta']).hist(ax=ax)"
   ]
  },
  {
   "cell_type": "code",
   "execution_count": null,
   "metadata": {
    "ExecuteTime": {
     "end_time": "2020-11-02T16:17:07.688868Z",
     "start_time": "2020-11-02T16:16:42.610662Z"
    },
    "scrolled": false
   },
   "outputs": [],
   "source": [
    "states = [['H_in']]\n",
    "end_date = '2020-11-01' #end_beta\n",
    "data=[timeseries[start_date:end_beta].values]\n",
    "\n",
    "fig,ax=plt.subplots(figsize=(8,8))\n",
    "for i in range(200):\n",
    "    idx,model.parameters['beta'] = random.choice(list(enumerate(samples_dict['beta'])))\n",
    "    y_model = model.sim(time=end_date, excess_time=0, start_date=start_date)\n",
    "    ax = plot_fit(y_model,data,start_date,lag_time=0,states=states,end_date=end_date,\n",
    "                  with_ints=False,ax=ax,plt_kwargs={'color':'blue','linewidth': 2,'alpha': 0.05})\n",
    "plt.setp(plt.gca().xaxis.get_majorticklabels(),'rotation', 0)\n",
    "#data_after_calib = timeseries[pd.to_datetime(end_ramp)+pd.to_timedelta('1d'):end_date]\n",
    "#plt.scatter(data_after_calib.index, data_after_calib.values, marker='o',color='red',linestyle='None',facecolors='none')\n",
    "legend_text=['daily \\nhospitalizations']\n",
    "ax.set_xlim(start_date, end_date)\n",
    "ax.set_ylabel('daily hospitalizations')\n",
    "# fig.savefig(fig_path+spatial_unit+'.pdf',\n",
    "#             bbox_inches='tight', dpi=600)"
   ]
  },
  {
   "cell_type": "code",
   "execution_count": null,
   "metadata": {},
   "outputs": [],
   "source": []
  }
 ],
 "metadata": {
  "kernelspec": {
   "display_name": "Python 3",
   "language": "python",
   "name": "python3"
  },
  "language_info": {
   "codemirror_mode": {
    "name": "ipython",
    "version": 3
   },
   "file_extension": ".py",
   "mimetype": "text/x-python",
   "name": "python",
   "nbconvert_exporter": "python",
   "pygments_lexer": "ipython3",
   "version": "3.8.2"
  },
  "toc": {
   "base_numbering": 1,
   "nav_menu": {},
   "number_sections": true,
   "sideBar": true,
   "skip_h1_title": false,
   "title_cell": "Table of Contents",
   "title_sidebar": "Contents",
   "toc_cell": false,
   "toc_position": {
    "height": "calc(100% - 180px)",
    "left": "10px",
    "top": "150px",
    "width": "288px"
   },
   "toc_section_display": true,
   "toc_window_display": true
  }
 },
 "nbformat": 4,
 "nbformat_minor": 4
}
