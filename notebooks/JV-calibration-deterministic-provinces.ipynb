{
 "cells": [
  {
   "cell_type": "markdown",
   "metadata": {},
   "source": [
    "**Calibration of the age-stratified deterministic model**\n",
    "\n",
    "*Original code by Ryan S. McGee. Modified by T.W. Alleman in consultation with the BIOMATH research unit headed by prof. Ingmar Nopens.*\n",
    "\n",
    "Copyright (c) 2020 by T.W. Alleman, BIOMATH, Ghent University. All Rights Reserved.\n",
    "\n",
    "This notebook accompanies our preprint: \"*A deterministic, age-stratified, extended SEIRD model for assessing the effect of non-pharmaceutical interventions on SARS-CoV-2 spread in Belgium*\"(https://doi.org/10.1101/2020.07.17.20156034)"
   ]
  },
  {
   "cell_type": "markdown",
   "metadata": {},
   "source": [
    "# Load required packages"
   ]
  },
  {
   "cell_type": "code",
   "execution_count": 1,
   "metadata": {
    "ExecuteTime": {
     "end_time": "2020-11-03T07:02:28.792310Z",
     "start_time": "2020-11-03T07:02:26.404331Z"
    }
   },
   "outputs": [],
   "source": [
    "import random\n",
    "import os\n",
    "import numpy as np\n",
    "%matplotlib notebook\n",
    "import matplotlib.pyplot as plt\n",
    "from IPython.display import Image\n",
    "from ipywidgets import interact,fixed,FloatSlider,IntSlider,ToggleButtons\n",
    "import pandas as pd\n",
    "from datetime import datetime, timedelta\n",
    "import scipy\n",
    "from scipy.integrate import odeint\n",
    "from scipy.stats import norm\n",
    "import matplotlib.dates as mdates\n",
    "import matplotlib\n",
    "import scipy.stats as st\n",
    "\n",
    "import math\n",
    "import xarray as xr\n",
    "import emcee\n",
    "import json\n",
    "import corner\n",
    "\n",
    "from covid19model.optimization import objective_fcns\n",
    "from covid19model.optimization import MCMC\n",
    "from covid19model.models import models\n",
    "from covid19model.data import google\n",
    "from covid19model.data import sciensano\n",
    "from covid19model.data import model_parameters\n",
    "from covid19model.visualization.output import population_status, infected\n",
    "from covid19model.visualization.optimization import plot_fit, traceplot\n",
    "from covid19model.optimization.run_optimization import full_calibration_wave1, full_calibration_wave2\n",
    "from covid19model.models.utils import draw_sample_COVID19_SEIRD\n",
    "\n",
    "\n",
    "# OPTIONAL: Load the \"autoreload\" extension so that package code can change\n",
    "%load_ext autoreload\n",
    "# OPTIONAL: always reload modules so that as you change code in src, it gets loaded\n",
    "%autoreload 2"
   ]
  },
  {
   "cell_type": "code",
   "execution_count": 2,
   "metadata": {
    "ExecuteTime": {
     "end_time": "2020-11-02T10:28:53.233506Z",
     "start_time": "2020-11-02T10:28:53.198636Z"
    }
   },
   "outputs": [],
   "source": [
    "# import dask\n",
    "\n",
    "# from dask.distributed import Client, progress\n",
    "# client = Client(threads_per_worker=16, n_workers=1)\n",
    "# client"
   ]
  },
  {
   "cell_type": "markdown",
   "metadata": {},
   "source": [
    "# Get public data"
   ]
  },
  {
   "cell_type": "code",
   "execution_count": 3,
   "metadata": {
    "ExecuteTime": {
     "end_time": "2020-11-03T07:02:30.819329Z",
     "start_time": "2020-11-03T07:02:30.714956Z"
    }
   },
   "outputs": [],
   "source": [
    "df_sciensano = sciensano.get_sciensano_COVID19_data(update=False)\n"
   ]
  },
  {
   "cell_type": "code",
   "execution_count": 4,
   "metadata": {
    "ExecuteTime": {
     "end_time": "2020-11-03T07:02:31.283343Z",
     "start_time": "2020-11-03T07:02:31.233187Z"
    }
   },
   "outputs": [],
   "source": [
    "raw_hosp_data = pd.read_csv('../data/raw/sciensano/COVID19BE_HOSP.csv', parse_dates=['DATE'])\n",
    "Luik_hosp_data = raw_hosp_data[raw_hosp_data.PROVINCE=='Liège']"
   ]
  },
  {
   "cell_type": "code",
   "execution_count": 5,
   "metadata": {
    "ExecuteTime": {
     "end_time": "2020-11-03T07:02:31.715743Z",
     "start_time": "2020-11-03T07:02:31.679581Z"
    }
   },
   "outputs": [],
   "source": [
    "#Luik_hosp_data.plot('DATE','NEW_IN')"
   ]
  },
  {
   "cell_type": "code",
   "execution_count": 6,
   "metadata": {
    "ExecuteTime": {
     "end_time": "2020-11-03T07:02:32.049518Z",
     "start_time": "2020-11-03T07:02:32.010400Z"
    },
    "scrolled": true
   },
   "outputs": [],
   "source": [
    "Luik_ts = Luik_hosp_data[['DATE','NEW_IN']].set_index('DATE')"
   ]
  },
  {
   "cell_type": "code",
   "execution_count": 7,
   "metadata": {
    "ExecuteTime": {
     "end_time": "2020-11-02T16:04:22.903218Z",
     "start_time": "2020-11-02T16:04:22.706408Z"
    }
   },
   "outputs": [
    {
     "data": {
      "application/javascript": [
       "/* Put everything inside the global mpl namespace */\n",
       "/* global mpl */\n",
       "window.mpl = {};\n",
       "\n",
       "mpl.get_websocket_type = function () {\n",
       "    if (typeof WebSocket !== 'undefined') {\n",
       "        return WebSocket;\n",
       "    } else if (typeof MozWebSocket !== 'undefined') {\n",
       "        return MozWebSocket;\n",
       "    } else {\n",
       "        alert(\n",
       "            'Your browser does not have WebSocket support. ' +\n",
       "                'Please try Chrome, Safari or Firefox ≥ 6. ' +\n",
       "                'Firefox 4 and 5 are also supported but you ' +\n",
       "                'have to enable WebSockets in about:config.'\n",
       "        );\n",
       "    }\n",
       "};\n",
       "\n",
       "mpl.figure = function (figure_id, websocket, ondownload, parent_element) {\n",
       "    this.id = figure_id;\n",
       "\n",
       "    this.ws = websocket;\n",
       "\n",
       "    this.supports_binary = this.ws.binaryType !== undefined;\n",
       "\n",
       "    if (!this.supports_binary) {\n",
       "        var warnings = document.getElementById('mpl-warnings');\n",
       "        if (warnings) {\n",
       "            warnings.style.display = 'block';\n",
       "            warnings.textContent =\n",
       "                'This browser does not support binary websocket messages. ' +\n",
       "                'Performance may be slow.';\n",
       "        }\n",
       "    }\n",
       "\n",
       "    this.imageObj = new Image();\n",
       "\n",
       "    this.context = undefined;\n",
       "    this.message = undefined;\n",
       "    this.canvas = undefined;\n",
       "    this.rubberband_canvas = undefined;\n",
       "    this.rubberband_context = undefined;\n",
       "    this.format_dropdown = undefined;\n",
       "\n",
       "    this.image_mode = 'full';\n",
       "\n",
       "    this.root = document.createElement('div');\n",
       "    this.root.setAttribute('style', 'display: inline-block');\n",
       "    this._root_extra_style(this.root);\n",
       "\n",
       "    parent_element.appendChild(this.root);\n",
       "\n",
       "    this._init_header(this);\n",
       "    this._init_canvas(this);\n",
       "    this._init_toolbar(this);\n",
       "\n",
       "    var fig = this;\n",
       "\n",
       "    this.waiting = false;\n",
       "\n",
       "    this.ws.onopen = function () {\n",
       "        fig.send_message('supports_binary', { value: fig.supports_binary });\n",
       "        fig.send_message('send_image_mode', {});\n",
       "        if (mpl.ratio !== 1) {\n",
       "            fig.send_message('set_dpi_ratio', { dpi_ratio: mpl.ratio });\n",
       "        }\n",
       "        fig.send_message('refresh', {});\n",
       "    };\n",
       "\n",
       "    this.imageObj.onload = function () {\n",
       "        if (fig.image_mode === 'full') {\n",
       "            // Full images could contain transparency (where diff images\n",
       "            // almost always do), so we need to clear the canvas so that\n",
       "            // there is no ghosting.\n",
       "            fig.context.clearRect(0, 0, fig.canvas.width, fig.canvas.height);\n",
       "        }\n",
       "        fig.context.drawImage(fig.imageObj, 0, 0);\n",
       "    };\n",
       "\n",
       "    this.imageObj.onunload = function () {\n",
       "        fig.ws.close();\n",
       "    };\n",
       "\n",
       "    this.ws.onmessage = this._make_on_message_function(this);\n",
       "\n",
       "    this.ondownload = ondownload;\n",
       "};\n",
       "\n",
       "mpl.figure.prototype._init_header = function () {\n",
       "    var titlebar = document.createElement('div');\n",
       "    titlebar.classList =\n",
       "        'ui-dialog-titlebar ui-widget-header ui-corner-all ui-helper-clearfix';\n",
       "    var titletext = document.createElement('div');\n",
       "    titletext.classList = 'ui-dialog-title';\n",
       "    titletext.setAttribute(\n",
       "        'style',\n",
       "        'width: 100%; text-align: center; padding: 3px;'\n",
       "    );\n",
       "    titlebar.appendChild(titletext);\n",
       "    this.root.appendChild(titlebar);\n",
       "    this.header = titletext;\n",
       "};\n",
       "\n",
       "mpl.figure.prototype._canvas_extra_style = function (_canvas_div) {};\n",
       "\n",
       "mpl.figure.prototype._root_extra_style = function (_canvas_div) {};\n",
       "\n",
       "mpl.figure.prototype._init_canvas = function () {\n",
       "    var fig = this;\n",
       "\n",
       "    var canvas_div = (this.canvas_div = document.createElement('div'));\n",
       "    canvas_div.setAttribute(\n",
       "        'style',\n",
       "        'border: 1px solid #ddd;' +\n",
       "            'box-sizing: content-box;' +\n",
       "            'clear: both;' +\n",
       "            'min-height: 1px;' +\n",
       "            'min-width: 1px;' +\n",
       "            'outline: 0;' +\n",
       "            'overflow: hidden;' +\n",
       "            'position: relative;' +\n",
       "            'resize: both;'\n",
       "    );\n",
       "\n",
       "    function on_keyboard_event_closure(name) {\n",
       "        return function (event) {\n",
       "            return fig.key_event(event, name);\n",
       "        };\n",
       "    }\n",
       "\n",
       "    canvas_div.addEventListener(\n",
       "        'keydown',\n",
       "        on_keyboard_event_closure('key_press')\n",
       "    );\n",
       "    canvas_div.addEventListener(\n",
       "        'keyup',\n",
       "        on_keyboard_event_closure('key_release')\n",
       "    );\n",
       "\n",
       "    this._canvas_extra_style(canvas_div);\n",
       "    this.root.appendChild(canvas_div);\n",
       "\n",
       "    var canvas = (this.canvas = document.createElement('canvas'));\n",
       "    canvas.classList.add('mpl-canvas');\n",
       "    canvas.setAttribute('style', 'box-sizing: content-box;');\n",
       "\n",
       "    this.context = canvas.getContext('2d');\n",
       "\n",
       "    var backingStore =\n",
       "        this.context.backingStorePixelRatio ||\n",
       "        this.context.webkitBackingStorePixelRatio ||\n",
       "        this.context.mozBackingStorePixelRatio ||\n",
       "        this.context.msBackingStorePixelRatio ||\n",
       "        this.context.oBackingStorePixelRatio ||\n",
       "        this.context.backingStorePixelRatio ||\n",
       "        1;\n",
       "\n",
       "    mpl.ratio = (window.devicePixelRatio || 1) / backingStore;\n",
       "\n",
       "    var rubberband_canvas = (this.rubberband_canvas = document.createElement(\n",
       "        'canvas'\n",
       "    ));\n",
       "    rubberband_canvas.setAttribute(\n",
       "        'style',\n",
       "        'box-sizing: content-box; position: absolute; left: 0; top: 0; z-index: 1;'\n",
       "    );\n",
       "\n",
       "    var resizeObserver = new ResizeObserver(function (entries) {\n",
       "        var nentries = entries.length;\n",
       "        for (var i = 0; i < nentries; i++) {\n",
       "            var entry = entries[i];\n",
       "            var width, height;\n",
       "            if (entry.contentBoxSize) {\n",
       "                if (entry.contentBoxSize instanceof Array) {\n",
       "                    // Chrome 84 implements new version of spec.\n",
       "                    width = entry.contentBoxSize[0].inlineSize;\n",
       "                    height = entry.contentBoxSize[0].blockSize;\n",
       "                } else {\n",
       "                    // Firefox implements old version of spec.\n",
       "                    width = entry.contentBoxSize.inlineSize;\n",
       "                    height = entry.contentBoxSize.blockSize;\n",
       "                }\n",
       "            } else {\n",
       "                // Chrome <84 implements even older version of spec.\n",
       "                width = entry.contentRect.width;\n",
       "                height = entry.contentRect.height;\n",
       "            }\n",
       "\n",
       "            // Keep the size of the canvas and rubber band canvas in sync with\n",
       "            // the canvas container.\n",
       "            if (entry.devicePixelContentBoxSize) {\n",
       "                // Chrome 84 implements new version of spec.\n",
       "                canvas.setAttribute(\n",
       "                    'width',\n",
       "                    entry.devicePixelContentBoxSize[0].inlineSize\n",
       "                );\n",
       "                canvas.setAttribute(\n",
       "                    'height',\n",
       "                    entry.devicePixelContentBoxSize[0].blockSize\n",
       "                );\n",
       "            } else {\n",
       "                canvas.setAttribute('width', width * mpl.ratio);\n",
       "                canvas.setAttribute('height', height * mpl.ratio);\n",
       "            }\n",
       "            canvas.setAttribute(\n",
       "                'style',\n",
       "                'width: ' + width + 'px; height: ' + height + 'px;'\n",
       "            );\n",
       "\n",
       "            rubberband_canvas.setAttribute('width', width);\n",
       "            rubberband_canvas.setAttribute('height', height);\n",
       "\n",
       "            // And update the size in Python. We ignore the initial 0/0 size\n",
       "            // that occurs as the element is placed into the DOM, which should\n",
       "            // otherwise not happen due to the minimum size styling.\n",
       "            if (width != 0 && height != 0) {\n",
       "                fig.request_resize(width, height);\n",
       "            }\n",
       "        }\n",
       "    });\n",
       "    resizeObserver.observe(canvas_div);\n",
       "\n",
       "    function on_mouse_event_closure(name) {\n",
       "        return function (event) {\n",
       "            return fig.mouse_event(event, name);\n",
       "        };\n",
       "    }\n",
       "\n",
       "    rubberband_canvas.addEventListener(\n",
       "        'mousedown',\n",
       "        on_mouse_event_closure('button_press')\n",
       "    );\n",
       "    rubberband_canvas.addEventListener(\n",
       "        'mouseup',\n",
       "        on_mouse_event_closure('button_release')\n",
       "    );\n",
       "    // Throttle sequential mouse events to 1 every 20ms.\n",
       "    rubberband_canvas.addEventListener(\n",
       "        'mousemove',\n",
       "        on_mouse_event_closure('motion_notify')\n",
       "    );\n",
       "\n",
       "    rubberband_canvas.addEventListener(\n",
       "        'mouseenter',\n",
       "        on_mouse_event_closure('figure_enter')\n",
       "    );\n",
       "    rubberband_canvas.addEventListener(\n",
       "        'mouseleave',\n",
       "        on_mouse_event_closure('figure_leave')\n",
       "    );\n",
       "\n",
       "    canvas_div.addEventListener('wheel', function (event) {\n",
       "        if (event.deltaY < 0) {\n",
       "            event.step = 1;\n",
       "        } else {\n",
       "            event.step = -1;\n",
       "        }\n",
       "        on_mouse_event_closure('scroll')(event);\n",
       "    });\n",
       "\n",
       "    canvas_div.appendChild(canvas);\n",
       "    canvas_div.appendChild(rubberband_canvas);\n",
       "\n",
       "    this.rubberband_context = rubberband_canvas.getContext('2d');\n",
       "    this.rubberband_context.strokeStyle = '#000000';\n",
       "\n",
       "    this._resize_canvas = function (width, height, forward) {\n",
       "        if (forward) {\n",
       "            canvas_div.style.width = width + 'px';\n",
       "            canvas_div.style.height = height + 'px';\n",
       "        }\n",
       "    };\n",
       "\n",
       "    // Disable right mouse context menu.\n",
       "    this.rubberband_canvas.addEventListener('contextmenu', function (_e) {\n",
       "        event.preventDefault();\n",
       "        return false;\n",
       "    });\n",
       "\n",
       "    function set_focus() {\n",
       "        canvas.focus();\n",
       "        canvas_div.focus();\n",
       "    }\n",
       "\n",
       "    window.setTimeout(set_focus, 100);\n",
       "};\n",
       "\n",
       "mpl.figure.prototype._init_toolbar = function () {\n",
       "    var fig = this;\n",
       "\n",
       "    var toolbar = document.createElement('div');\n",
       "    toolbar.classList = 'mpl-toolbar';\n",
       "    this.root.appendChild(toolbar);\n",
       "\n",
       "    function on_click_closure(name) {\n",
       "        return function (_event) {\n",
       "            return fig.toolbar_button_onclick(name);\n",
       "        };\n",
       "    }\n",
       "\n",
       "    function on_mouseover_closure(tooltip) {\n",
       "        return function (event) {\n",
       "            if (!event.currentTarget.disabled) {\n",
       "                return fig.toolbar_button_onmouseover(tooltip);\n",
       "            }\n",
       "        };\n",
       "    }\n",
       "\n",
       "    fig.buttons = {};\n",
       "    var buttonGroup = document.createElement('div');\n",
       "    buttonGroup.classList = 'mpl-button-group';\n",
       "    for (var toolbar_ind in mpl.toolbar_items) {\n",
       "        var name = mpl.toolbar_items[toolbar_ind][0];\n",
       "        var tooltip = mpl.toolbar_items[toolbar_ind][1];\n",
       "        var image = mpl.toolbar_items[toolbar_ind][2];\n",
       "        var method_name = mpl.toolbar_items[toolbar_ind][3];\n",
       "\n",
       "        if (!name) {\n",
       "            /* Instead of a spacer, we start a new button group. */\n",
       "            if (buttonGroup.hasChildNodes()) {\n",
       "                toolbar.appendChild(buttonGroup);\n",
       "            }\n",
       "            buttonGroup = document.createElement('div');\n",
       "            buttonGroup.classList = 'mpl-button-group';\n",
       "            continue;\n",
       "        }\n",
       "\n",
       "        var button = (fig.buttons[name] = document.createElement('button'));\n",
       "        button.classList = 'mpl-widget';\n",
       "        button.setAttribute('role', 'button');\n",
       "        button.setAttribute('aria-disabled', 'false');\n",
       "        button.addEventListener('click', on_click_closure(method_name));\n",
       "        button.addEventListener('mouseover', on_mouseover_closure(tooltip));\n",
       "\n",
       "        var icon_img = document.createElement('img');\n",
       "        icon_img.src = '_images/' + image + '.png';\n",
       "        icon_img.srcset = '_images/' + image + '_large.png 2x';\n",
       "        icon_img.alt = tooltip;\n",
       "        button.appendChild(icon_img);\n",
       "\n",
       "        buttonGroup.appendChild(button);\n",
       "    }\n",
       "\n",
       "    if (buttonGroup.hasChildNodes()) {\n",
       "        toolbar.appendChild(buttonGroup);\n",
       "    }\n",
       "\n",
       "    var fmt_picker = document.createElement('select');\n",
       "    fmt_picker.classList = 'mpl-widget';\n",
       "    toolbar.appendChild(fmt_picker);\n",
       "    this.format_dropdown = fmt_picker;\n",
       "\n",
       "    for (var ind in mpl.extensions) {\n",
       "        var fmt = mpl.extensions[ind];\n",
       "        var option = document.createElement('option');\n",
       "        option.selected = fmt === mpl.default_extension;\n",
       "        option.innerHTML = fmt;\n",
       "        fmt_picker.appendChild(option);\n",
       "    }\n",
       "\n",
       "    var status_bar = document.createElement('span');\n",
       "    status_bar.classList = 'mpl-message';\n",
       "    toolbar.appendChild(status_bar);\n",
       "    this.message = status_bar;\n",
       "};\n",
       "\n",
       "mpl.figure.prototype.request_resize = function (x_pixels, y_pixels) {\n",
       "    // Request matplotlib to resize the figure. Matplotlib will then trigger a resize in the client,\n",
       "    // which will in turn request a refresh of the image.\n",
       "    this.send_message('resize', { width: x_pixels, height: y_pixels });\n",
       "};\n",
       "\n",
       "mpl.figure.prototype.send_message = function (type, properties) {\n",
       "    properties['type'] = type;\n",
       "    properties['figure_id'] = this.id;\n",
       "    this.ws.send(JSON.stringify(properties));\n",
       "};\n",
       "\n",
       "mpl.figure.prototype.send_draw_message = function () {\n",
       "    if (!this.waiting) {\n",
       "        this.waiting = true;\n",
       "        this.ws.send(JSON.stringify({ type: 'draw', figure_id: this.id }));\n",
       "    }\n",
       "};\n",
       "\n",
       "mpl.figure.prototype.handle_save = function (fig, _msg) {\n",
       "    var format_dropdown = fig.format_dropdown;\n",
       "    var format = format_dropdown.options[format_dropdown.selectedIndex].value;\n",
       "    fig.ondownload(fig, format);\n",
       "};\n",
       "\n",
       "mpl.figure.prototype.handle_resize = function (fig, msg) {\n",
       "    var size = msg['size'];\n",
       "    if (size[0] !== fig.canvas.width || size[1] !== fig.canvas.height) {\n",
       "        fig._resize_canvas(size[0], size[1], msg['forward']);\n",
       "        fig.send_message('refresh', {});\n",
       "    }\n",
       "};\n",
       "\n",
       "mpl.figure.prototype.handle_rubberband = function (fig, msg) {\n",
       "    var x0 = msg['x0'] / mpl.ratio;\n",
       "    var y0 = (fig.canvas.height - msg['y0']) / mpl.ratio;\n",
       "    var x1 = msg['x1'] / mpl.ratio;\n",
       "    var y1 = (fig.canvas.height - msg['y1']) / mpl.ratio;\n",
       "    x0 = Math.floor(x0) + 0.5;\n",
       "    y0 = Math.floor(y0) + 0.5;\n",
       "    x1 = Math.floor(x1) + 0.5;\n",
       "    y1 = Math.floor(y1) + 0.5;\n",
       "    var min_x = Math.min(x0, x1);\n",
       "    var min_y = Math.min(y0, y1);\n",
       "    var width = Math.abs(x1 - x0);\n",
       "    var height = Math.abs(y1 - y0);\n",
       "\n",
       "    fig.rubberband_context.clearRect(\n",
       "        0,\n",
       "        0,\n",
       "        fig.canvas.width / mpl.ratio,\n",
       "        fig.canvas.height / mpl.ratio\n",
       "    );\n",
       "\n",
       "    fig.rubberband_context.strokeRect(min_x, min_y, width, height);\n",
       "};\n",
       "\n",
       "mpl.figure.prototype.handle_figure_label = function (fig, msg) {\n",
       "    // Updates the figure title.\n",
       "    fig.header.textContent = msg['label'];\n",
       "};\n",
       "\n",
       "mpl.figure.prototype.handle_cursor = function (fig, msg) {\n",
       "    var cursor = msg['cursor'];\n",
       "    switch (cursor) {\n",
       "        case 0:\n",
       "            cursor = 'pointer';\n",
       "            break;\n",
       "        case 1:\n",
       "            cursor = 'default';\n",
       "            break;\n",
       "        case 2:\n",
       "            cursor = 'crosshair';\n",
       "            break;\n",
       "        case 3:\n",
       "            cursor = 'move';\n",
       "            break;\n",
       "    }\n",
       "    fig.rubberband_canvas.style.cursor = cursor;\n",
       "};\n",
       "\n",
       "mpl.figure.prototype.handle_message = function (fig, msg) {\n",
       "    fig.message.textContent = msg['message'];\n",
       "};\n",
       "\n",
       "mpl.figure.prototype.handle_draw = function (fig, _msg) {\n",
       "    // Request the server to send over a new figure.\n",
       "    fig.send_draw_message();\n",
       "};\n",
       "\n",
       "mpl.figure.prototype.handle_image_mode = function (fig, msg) {\n",
       "    fig.image_mode = msg['mode'];\n",
       "};\n",
       "\n",
       "mpl.figure.prototype.handle_history_buttons = function (fig, msg) {\n",
       "    for (var key in msg) {\n",
       "        if (!(key in fig.buttons)) {\n",
       "            continue;\n",
       "        }\n",
       "        fig.buttons[key].disabled = !msg[key];\n",
       "        fig.buttons[key].setAttribute('aria-disabled', !msg[key]);\n",
       "    }\n",
       "};\n",
       "\n",
       "mpl.figure.prototype.handle_navigate_mode = function (fig, msg) {\n",
       "    if (msg['mode'] === 'PAN') {\n",
       "        fig.buttons['Pan'].classList.add('active');\n",
       "        fig.buttons['Zoom'].classList.remove('active');\n",
       "    } else if (msg['mode'] === 'ZOOM') {\n",
       "        fig.buttons['Pan'].classList.remove('active');\n",
       "        fig.buttons['Zoom'].classList.add('active');\n",
       "    } else {\n",
       "        fig.buttons['Pan'].classList.remove('active');\n",
       "        fig.buttons['Zoom'].classList.remove('active');\n",
       "    }\n",
       "};\n",
       "\n",
       "mpl.figure.prototype.updated_canvas_event = function () {\n",
       "    // Called whenever the canvas gets updated.\n",
       "    this.send_message('ack', {});\n",
       "};\n",
       "\n",
       "// A function to construct a web socket function for onmessage handling.\n",
       "// Called in the figure constructor.\n",
       "mpl.figure.prototype._make_on_message_function = function (fig) {\n",
       "    return function socket_on_message(evt) {\n",
       "        if (evt.data instanceof Blob) {\n",
       "            /* FIXME: We get \"Resource interpreted as Image but\n",
       "             * transferred with MIME type text/plain:\" errors on\n",
       "             * Chrome.  But how to set the MIME type?  It doesn't seem\n",
       "             * to be part of the websocket stream */\n",
       "            evt.data.type = 'image/png';\n",
       "\n",
       "            /* Free the memory for the previous frames */\n",
       "            if (fig.imageObj.src) {\n",
       "                (window.URL || window.webkitURL).revokeObjectURL(\n",
       "                    fig.imageObj.src\n",
       "                );\n",
       "            }\n",
       "\n",
       "            fig.imageObj.src = (window.URL || window.webkitURL).createObjectURL(\n",
       "                evt.data\n",
       "            );\n",
       "            fig.updated_canvas_event();\n",
       "            fig.waiting = false;\n",
       "            return;\n",
       "        } else if (\n",
       "            typeof evt.data === 'string' &&\n",
       "            evt.data.slice(0, 21) === 'data:image/png;base64'\n",
       "        ) {\n",
       "            fig.imageObj.src = evt.data;\n",
       "            fig.updated_canvas_event();\n",
       "            fig.waiting = false;\n",
       "            return;\n",
       "        }\n",
       "\n",
       "        var msg = JSON.parse(evt.data);\n",
       "        var msg_type = msg['type'];\n",
       "\n",
       "        // Call the  \"handle_{type}\" callback, which takes\n",
       "        // the figure and JSON message as its only arguments.\n",
       "        try {\n",
       "            var callback = fig['handle_' + msg_type];\n",
       "        } catch (e) {\n",
       "            console.log(\n",
       "                \"No handler for the '\" + msg_type + \"' message type: \",\n",
       "                msg\n",
       "            );\n",
       "            return;\n",
       "        }\n",
       "\n",
       "        if (callback) {\n",
       "            try {\n",
       "                // console.log(\"Handling '\" + msg_type + \"' message: \", msg);\n",
       "                callback(fig, msg);\n",
       "            } catch (e) {\n",
       "                console.log(\n",
       "                    \"Exception inside the 'handler_\" + msg_type + \"' callback:\",\n",
       "                    e,\n",
       "                    e.stack,\n",
       "                    msg\n",
       "                );\n",
       "            }\n",
       "        }\n",
       "    };\n",
       "};\n",
       "\n",
       "// from http://stackoverflow.com/questions/1114465/getting-mouse-location-in-canvas\n",
       "mpl.findpos = function (e) {\n",
       "    //this section is from http://www.quirksmode.org/js/events_properties.html\n",
       "    var targ;\n",
       "    if (!e) {\n",
       "        e = window.event;\n",
       "    }\n",
       "    if (e.target) {\n",
       "        targ = e.target;\n",
       "    } else if (e.srcElement) {\n",
       "        targ = e.srcElement;\n",
       "    }\n",
       "    if (targ.nodeType === 3) {\n",
       "        // defeat Safari bug\n",
       "        targ = targ.parentNode;\n",
       "    }\n",
       "\n",
       "    // pageX,Y are the mouse positions relative to the document\n",
       "    var boundingRect = targ.getBoundingClientRect();\n",
       "    var x = e.pageX - (boundingRect.left + document.body.scrollLeft);\n",
       "    var y = e.pageY - (boundingRect.top + document.body.scrollTop);\n",
       "\n",
       "    return { x: x, y: y };\n",
       "};\n",
       "\n",
       "/*\n",
       " * return a copy of an object with only non-object keys\n",
       " * we need this to avoid circular references\n",
       " * http://stackoverflow.com/a/24161582/3208463\n",
       " */\n",
       "function simpleKeys(original) {\n",
       "    return Object.keys(original).reduce(function (obj, key) {\n",
       "        if (typeof original[key] !== 'object') {\n",
       "            obj[key] = original[key];\n",
       "        }\n",
       "        return obj;\n",
       "    }, {});\n",
       "}\n",
       "\n",
       "mpl.figure.prototype.mouse_event = function (event, name) {\n",
       "    var canvas_pos = mpl.findpos(event);\n",
       "\n",
       "    if (name === 'button_press') {\n",
       "        this.canvas.focus();\n",
       "        this.canvas_div.focus();\n",
       "    }\n",
       "\n",
       "    var x = canvas_pos.x * mpl.ratio;\n",
       "    var y = canvas_pos.y * mpl.ratio;\n",
       "\n",
       "    this.send_message(name, {\n",
       "        x: x,\n",
       "        y: y,\n",
       "        button: event.button,\n",
       "        step: event.step,\n",
       "        guiEvent: simpleKeys(event),\n",
       "    });\n",
       "\n",
       "    /* This prevents the web browser from automatically changing to\n",
       "     * the text insertion cursor when the button is pressed.  We want\n",
       "     * to control all of the cursor setting manually through the\n",
       "     * 'cursor' event from matplotlib */\n",
       "    event.preventDefault();\n",
       "    return false;\n",
       "};\n",
       "\n",
       "mpl.figure.prototype._key_event_extra = function (_event, _name) {\n",
       "    // Handle any extra behaviour associated with a key event\n",
       "};\n",
       "\n",
       "mpl.figure.prototype.key_event = function (event, name) {\n",
       "    // Prevent repeat events\n",
       "    if (name === 'key_press') {\n",
       "        if (event.which === this._key) {\n",
       "            return;\n",
       "        } else {\n",
       "            this._key = event.which;\n",
       "        }\n",
       "    }\n",
       "    if (name === 'key_release') {\n",
       "        this._key = null;\n",
       "    }\n",
       "\n",
       "    var value = '';\n",
       "    if (event.ctrlKey && event.which !== 17) {\n",
       "        value += 'ctrl+';\n",
       "    }\n",
       "    if (event.altKey && event.which !== 18) {\n",
       "        value += 'alt+';\n",
       "    }\n",
       "    if (event.shiftKey && event.which !== 16) {\n",
       "        value += 'shift+';\n",
       "    }\n",
       "\n",
       "    value += 'k';\n",
       "    value += event.which.toString();\n",
       "\n",
       "    this._key_event_extra(event, name);\n",
       "\n",
       "    this.send_message(name, { key: value, guiEvent: simpleKeys(event) });\n",
       "    return false;\n",
       "};\n",
       "\n",
       "mpl.figure.prototype.toolbar_button_onclick = function (name) {\n",
       "    if (name === 'download') {\n",
       "        this.handle_save(this, null);\n",
       "    } else {\n",
       "        this.send_message('toolbar_button', { name: name });\n",
       "    }\n",
       "};\n",
       "\n",
       "mpl.figure.prototype.toolbar_button_onmouseover = function (tooltip) {\n",
       "    this.message.textContent = tooltip;\n",
       "};\n",
       "mpl.toolbar_items = [[\"Home\", \"Reset original view\", \"fa fa-home icon-home\", \"home\"], [\"Back\", \"Back to previous view\", \"fa fa-arrow-left icon-arrow-left\", \"back\"], [\"Forward\", \"Forward to next view\", \"fa fa-arrow-right icon-arrow-right\", \"forward\"], [\"\", \"\", \"\", \"\"], [\"Pan\", \"Left button pans, Right button zooms\\nx/y fixes axis, CTRL fixes aspect\", \"fa fa-arrows icon-move\", \"pan\"], [\"Zoom\", \"Zoom to rectangle\\nx/y fixes axis, CTRL fixes aspect\", \"fa fa-square-o icon-check-empty\", \"zoom\"], [\"\", \"\", \"\", \"\"], [\"Download\", \"Download plot\", \"fa fa-floppy-o icon-save\", \"download\"]];\n",
       "\n",
       "mpl.extensions = [\"eps\", \"jpeg\", \"pdf\", \"png\", \"ps\", \"raw\", \"svg\", \"tif\"];\n",
       "\n",
       "mpl.default_extension = \"png\";/* global mpl */\n",
       "\n",
       "var comm_websocket_adapter = function (comm) {\n",
       "    // Create a \"websocket\"-like object which calls the given IPython comm\n",
       "    // object with the appropriate methods. Currently this is a non binary\n",
       "    // socket, so there is still some room for performance tuning.\n",
       "    var ws = {};\n",
       "\n",
       "    ws.close = function () {\n",
       "        comm.close();\n",
       "    };\n",
       "    ws.send = function (m) {\n",
       "        //console.log('sending', m);\n",
       "        comm.send(m);\n",
       "    };\n",
       "    // Register the callback with on_msg.\n",
       "    comm.on_msg(function (msg) {\n",
       "        //console.log('receiving', msg['content']['data'], msg);\n",
       "        // Pass the mpl event to the overridden (by mpl) onmessage function.\n",
       "        ws.onmessage(msg['content']['data']);\n",
       "    });\n",
       "    return ws;\n",
       "};\n",
       "\n",
       "mpl.mpl_figure_comm = function (comm, msg) {\n",
       "    // This is the function which gets called when the mpl process\n",
       "    // starts-up an IPython Comm through the \"matplotlib\" channel.\n",
       "\n",
       "    var id = msg.content.data.id;\n",
       "    // Get hold of the div created by the display call when the Comm\n",
       "    // socket was opened in Python.\n",
       "    var element = document.getElementById(id);\n",
       "    var ws_proxy = comm_websocket_adapter(comm);\n",
       "\n",
       "    function ondownload(figure, _format) {\n",
       "        window.open(figure.canvas.toDataURL());\n",
       "    }\n",
       "\n",
       "    var fig = new mpl.figure(id, ws_proxy, ondownload, element);\n",
       "\n",
       "    // Call onopen now - mpl needs it, as it is assuming we've passed it a real\n",
       "    // web socket which is closed, not our websocket->open comm proxy.\n",
       "    ws_proxy.onopen();\n",
       "\n",
       "    fig.parent_element = element;\n",
       "    fig.cell_info = mpl.find_output_cell(\"<div id='\" + id + \"'></div>\");\n",
       "    if (!fig.cell_info) {\n",
       "        console.error('Failed to find cell for figure', id, fig);\n",
       "        return;\n",
       "    }\n",
       "};\n",
       "\n",
       "mpl.figure.prototype.handle_close = function (fig, msg) {\n",
       "    var width = fig.canvas.width / mpl.ratio;\n",
       "    fig.root.removeEventListener('remove', this._remove_fig_handler);\n",
       "\n",
       "    // Update the output cell to use the data from the current canvas.\n",
       "    fig.push_to_output();\n",
       "    var dataURL = fig.canvas.toDataURL();\n",
       "    // Re-enable the keyboard manager in IPython - without this line, in FF,\n",
       "    // the notebook keyboard shortcuts fail.\n",
       "    IPython.keyboard_manager.enable();\n",
       "    fig.parent_element.innerHTML =\n",
       "        '<img src=\"' + dataURL + '\" width=\"' + width + '\">';\n",
       "    fig.close_ws(fig, msg);\n",
       "};\n",
       "\n",
       "mpl.figure.prototype.close_ws = function (fig, msg) {\n",
       "    fig.send_message('closing', msg);\n",
       "    // fig.ws.close()\n",
       "};\n",
       "\n",
       "mpl.figure.prototype.push_to_output = function (_remove_interactive) {\n",
       "    // Turn the data on the canvas into data in the output cell.\n",
       "    var width = this.canvas.width / mpl.ratio;\n",
       "    var dataURL = this.canvas.toDataURL();\n",
       "    this.cell_info[1]['text/html'] =\n",
       "        '<img src=\"' + dataURL + '\" width=\"' + width + '\">';\n",
       "};\n",
       "\n",
       "mpl.figure.prototype.updated_canvas_event = function () {\n",
       "    // Tell IPython that the notebook contents must change.\n",
       "    IPython.notebook.set_dirty(true);\n",
       "    this.send_message('ack', {});\n",
       "    var fig = this;\n",
       "    // Wait a second, then push the new image to the DOM so\n",
       "    // that it is saved nicely (might be nice to debounce this).\n",
       "    setTimeout(function () {\n",
       "        fig.push_to_output();\n",
       "    }, 1000);\n",
       "};\n",
       "\n",
       "mpl.figure.prototype._init_toolbar = function () {\n",
       "    var fig = this;\n",
       "\n",
       "    var toolbar = document.createElement('div');\n",
       "    toolbar.classList = 'btn-toolbar';\n",
       "    this.root.appendChild(toolbar);\n",
       "\n",
       "    function on_click_closure(name) {\n",
       "        return function (_event) {\n",
       "            return fig.toolbar_button_onclick(name);\n",
       "        };\n",
       "    }\n",
       "\n",
       "    function on_mouseover_closure(tooltip) {\n",
       "        return function (event) {\n",
       "            if (!event.currentTarget.disabled) {\n",
       "                return fig.toolbar_button_onmouseover(tooltip);\n",
       "            }\n",
       "        };\n",
       "    }\n",
       "\n",
       "    fig.buttons = {};\n",
       "    var buttonGroup = document.createElement('div');\n",
       "    buttonGroup.classList = 'btn-group';\n",
       "    var button;\n",
       "    for (var toolbar_ind in mpl.toolbar_items) {\n",
       "        var name = mpl.toolbar_items[toolbar_ind][0];\n",
       "        var tooltip = mpl.toolbar_items[toolbar_ind][1];\n",
       "        var image = mpl.toolbar_items[toolbar_ind][2];\n",
       "        var method_name = mpl.toolbar_items[toolbar_ind][3];\n",
       "\n",
       "        if (!name) {\n",
       "            /* Instead of a spacer, we start a new button group. */\n",
       "            if (buttonGroup.hasChildNodes()) {\n",
       "                toolbar.appendChild(buttonGroup);\n",
       "            }\n",
       "            buttonGroup = document.createElement('div');\n",
       "            buttonGroup.classList = 'btn-group';\n",
       "            continue;\n",
       "        }\n",
       "\n",
       "        button = fig.buttons[name] = document.createElement('button');\n",
       "        button.classList = 'btn btn-default';\n",
       "        button.href = '#';\n",
       "        button.title = name;\n",
       "        button.innerHTML = '<i class=\"fa ' + image + ' fa-lg\"></i>';\n",
       "        button.addEventListener('click', on_click_closure(method_name));\n",
       "        button.addEventListener('mouseover', on_mouseover_closure(tooltip));\n",
       "        buttonGroup.appendChild(button);\n",
       "    }\n",
       "\n",
       "    if (buttonGroup.hasChildNodes()) {\n",
       "        toolbar.appendChild(buttonGroup);\n",
       "    }\n",
       "\n",
       "    // Add the status bar.\n",
       "    var status_bar = document.createElement('span');\n",
       "    status_bar.classList = 'mpl-message pull-right';\n",
       "    toolbar.appendChild(status_bar);\n",
       "    this.message = status_bar;\n",
       "\n",
       "    // Add the close button to the window.\n",
       "    var buttongrp = document.createElement('div');\n",
       "    buttongrp.classList = 'btn-group inline pull-right';\n",
       "    button = document.createElement('button');\n",
       "    button.classList = 'btn btn-mini btn-primary';\n",
       "    button.href = '#';\n",
       "    button.title = 'Stop Interaction';\n",
       "    button.innerHTML = '<i class=\"fa fa-power-off icon-remove icon-large\"></i>';\n",
       "    button.addEventListener('click', function (_evt) {\n",
       "        fig.handle_close(fig, {});\n",
       "    });\n",
       "    button.addEventListener(\n",
       "        'mouseover',\n",
       "        on_mouseover_closure('Stop Interaction')\n",
       "    );\n",
       "    buttongrp.appendChild(button);\n",
       "    var titlebar = this.root.querySelector('.ui-dialog-titlebar');\n",
       "    titlebar.insertBefore(buttongrp, titlebar.firstChild);\n",
       "};\n",
       "\n",
       "mpl.figure.prototype._remove_fig_handler = function () {\n",
       "    this.close_ws(this, {});\n",
       "};\n",
       "\n",
       "mpl.figure.prototype._root_extra_style = function (el) {\n",
       "    el.style.boxSizing = 'content-box'; // override notebook setting of border-box.\n",
       "    el.addEventListener('remove', this._remove_fig_handler);\n",
       "};\n",
       "\n",
       "mpl.figure.prototype._canvas_extra_style = function (el) {\n",
       "    // this is important to make the div 'focusable\n",
       "    el.setAttribute('tabindex', 0);\n",
       "    // reach out to IPython and tell the keyboard manager to turn it's self\n",
       "    // off when our div gets focus\n",
       "\n",
       "    // location in version 3\n",
       "    if (IPython.notebook.keyboard_manager) {\n",
       "        IPython.notebook.keyboard_manager.register_events(el);\n",
       "    } else {\n",
       "        // location in version 2\n",
       "        IPython.keyboard_manager.register_events(el);\n",
       "    }\n",
       "};\n",
       "\n",
       "mpl.figure.prototype._key_event_extra = function (event, _name) {\n",
       "    var manager = IPython.notebook.keyboard_manager;\n",
       "    if (!manager) {\n",
       "        manager = IPython.keyboard_manager;\n",
       "    }\n",
       "\n",
       "    // Check for shift+enter\n",
       "    if (event.shiftKey && event.which === 13) {\n",
       "        this.canvas_div.blur();\n",
       "        // select the cell after this one\n",
       "        var index = IPython.notebook.find_cell_index(this.cell_info[0]);\n",
       "        IPython.notebook.select(index + 1);\n",
       "    }\n",
       "};\n",
       "\n",
       "mpl.figure.prototype.handle_save = function (fig, _msg) {\n",
       "    fig.ondownload(fig, null);\n",
       "};\n",
       "\n",
       "mpl.find_output_cell = function (html_output) {\n",
       "    // Return the cell and output element which can be found *uniquely* in the notebook.\n",
       "    // Note - this is a bit hacky, but it is done because the \"notebook_saving.Notebook\"\n",
       "    // IPython event is triggered only after the cells have been serialised, which for\n",
       "    // our purposes (turning an active figure into a static one), is too late.\n",
       "    var cells = IPython.notebook.get_cells();\n",
       "    var ncells = cells.length;\n",
       "    for (var i = 0; i < ncells; i++) {\n",
       "        var cell = cells[i];\n",
       "        if (cell.cell_type === 'code') {\n",
       "            for (var j = 0; j < cell.output_area.outputs.length; j++) {\n",
       "                var data = cell.output_area.outputs[j];\n",
       "                if (data.data) {\n",
       "                    // IPython >= 3 moved mimebundle to data attribute of output\n",
       "                    data = data.data;\n",
       "                }\n",
       "                if (data['text/html'] === html_output) {\n",
       "                    return [cell, data, j];\n",
       "                }\n",
       "            }\n",
       "        }\n",
       "    }\n",
       "};\n",
       "\n",
       "// Register the function which deals with the matplotlib target/channel.\n",
       "// The kernel may be null if the page has been refreshed.\n",
       "if (IPython.notebook.kernel !== null) {\n",
       "    IPython.notebook.kernel.comm_manager.register_target(\n",
       "        'matplotlib',\n",
       "        mpl.mpl_figure_comm\n",
       "    );\n",
       "}\n"
      ],
      "text/plain": [
       "<IPython.core.display.Javascript object>"
      ]
     },
     "metadata": {},
     "output_type": "display_data"
    },
    {
     "data": {
      "text/html": [
       "<img src=\"data:image/png;base64,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\" width=\"640\">"
      ],
      "text/plain": [
       "<IPython.core.display.HTML object>"
      ]
     },
     "metadata": {},
     "output_type": "display_data"
    },
    {
     "data": {
      "text/plain": [
       "(18475.0, 18567.0)"
      ]
     },
     "execution_count": 7,
     "metadata": {},
     "output_type": "execute_result"
    }
   ],
   "source": [
    "fig,ax = plt.subplots()\n",
    "Luik_ts.reset_index() .plot('DATE','NEW_IN', logy=True, ax=ax)\n",
    "ax.set_xlim('2020-08-01', '2020-11-01')"
   ]
  },
  {
   "cell_type": "markdown",
   "metadata": {},
   "source": [
    "# Load data"
   ]
  },
  {
   "cell_type": "code",
   "execution_count": 8,
   "metadata": {
    "ExecuteTime": {
     "end_time": "2020-11-03T07:02:36.498465Z",
     "start_time": "2020-11-03T07:02:36.171058Z"
    }
   },
   "outputs": [],
   "source": [
    "# Load the interaction matrices (size: 9x9)\n",
    "initN, Nc_home, Nc_work, Nc_schools, Nc_transport, Nc_leisure, Nc_others, Nc_total = model_parameters.get_interaction_matrices(dataset='willem_2012')\n",
    "# Define the number of age categories\n",
    "levels = initN.size\n",
    "#province_names = pd.read_csv('../data/raw/GIS/NIS_province.csv')\n",
    "initN_province = pd.read_csv('../data/interim/demographic/initN_province.csv')\n",
    "initN = np.array(list(initN_province.set_index('NIS').loc[60000].iloc[:9]))"
   ]
  },
  {
   "cell_type": "code",
   "execution_count": 9,
   "metadata": {
    "ExecuteTime": {
     "end_time": "2020-11-03T07:02:36.537201Z",
     "start_time": "2020-11-03T07:02:36.500690Z"
    }
   },
   "outputs": [],
   "source": [
    "fig_path = '../results/calibrations_provinces/'\n",
    "samples_path = '../data/interim/model_parameters/provinces/'"
   ]
  },
  {
   "cell_type": "code",
   "execution_count": 10,
   "metadata": {
    "ExecuteTime": {
     "end_time": "2020-11-03T07:02:36.752381Z",
     "start_time": "2020-11-03T07:02:36.714110Z"
    }
   },
   "outputs": [],
   "source": [
    "def draw_sample_beta_COVID19_SEIRD(parameter_dictionary,samples_dict):\n",
    "    \"\"\"\n",
    "    A function to draw parameter samples obtained with MCMC during model calibration and assign them to the parameter dictionary of the model.\n",
    "    Tailor-made for the BIOMATH COVID-19 SEIRD model.\n",
    "\n",
    "    Parameters\n",
    "    ----------\n",
    "    model : object\n",
    "        BIOMATH model object\n",
    "    \n",
    "    samples_dict : dictionary\n",
    "        Dictionary containing the samples of the sampled parameters: beta, l and tau.\n",
    "\n",
    "    Returns\n",
    "    ----------\n",
    "    model : object\n",
    "        BIOMATH model object\n",
    "\n",
    "    \"\"\"\n",
    "    # Use posterior samples of fitted parameters\n",
    "    parameter_dictionary['beta'] = np.random.choice(samples_dict['beta'],1,replace=False)\n",
    "    return parameter_dictionary"
   ]
  },
  {
   "cell_type": "markdown",
   "metadata": {},
   "source": [
    "# Initialize the model"
   ]
  },
  {
   "cell_type": "code",
   "execution_count": 11,
   "metadata": {
    "ExecuteTime": {
     "end_time": "2020-11-03T07:02:39.713664Z",
     "start_time": "2020-11-03T07:02:39.675750Z"
    }
   },
   "outputs": [],
   "source": [
    "def ramp_fun(Nc_old, Nc_new, t, tau_days, l, t_start):\n",
    "    \"\"\"\n",
    "    t : current date\n",
    "    tau : number of days before measures start having an effect\n",
    "    l : number of additional days after the time delay until full compliance is reached\n",
    "    \"\"\"\n",
    "    return Nc_old + (Nc_new-Nc_old)/l * (t-t_start-tau_days)/pd.Timedelta('1D')"
   ]
  },
  {
   "cell_type": "code",
   "execution_count": 12,
   "metadata": {
    "ExecuteTime": {
     "end_time": "2020-11-03T07:02:39.942123Z",
     "start_time": "2020-11-03T07:02:39.902275Z"
    }
   },
   "outputs": [],
   "source": [
    "# Define the compliance and lockdown function\n",
    "def lockdown_func(t,param,policy1,policy2,l,tau,prevention, start_date, policy_time):\n",
    "    tau_days = pd.to_timedelta(tau, unit='D')\n",
    "    l_days = pd.to_timedelta(l, unit='D')\n",
    "    if t <= start_date + tau_days:\n",
    "        return policy1\n",
    "    elif start_date + tau_days < t <= start_date + tau_days + l_days:\n",
    "        return ramp_fun(policy1, policy2, t, tau_days, l, start_date)\n",
    "    else:\n",
    "        return prevention*policy2"
   ]
  },
  {
   "cell_type": "code",
   "execution_count": 13,
   "metadata": {
    "ExecuteTime": {
     "end_time": "2020-11-03T07:02:40.453733Z",
     "start_time": "2020-11-03T07:02:40.129967Z"
    }
   },
   "outputs": [],
   "source": [
    "# Load the parameters using `get_COVID19_SEIRD_parameters()`.\n",
    "params = model_parameters.get_COVID19_SEIRD_parameters()\n",
    "params.update({'policy1': Nc_total,\n",
    "              'policy2': 1.0*Nc_home + (1-0.60)*Nc_work + (1-0.70)*Nc_transport + (1-0.30)*Nc_others + (1-0.80)*Nc_leisure,\n",
    "              'policy_time': 500,\n",
    "              'l': 1,\n",
    "              'tau': 5,\n",
    "              'prevention': 0.5,\n",
    "              'start_date': pd.to_datetime('2020-03-15')})\n",
    "# Define the initial condition: one exposed inidividual in every age category\n",
    "initial_states = {'S': initN, 'E': np.ones(levels)}\n",
    "model = models.COVID19_SEIRD(initial_states, params, time_dependent_parameters={'Nc': lockdown_func})"
   ]
  },
  {
   "cell_type": "code",
   "execution_count": 14,
   "metadata": {
    "ExecuteTime": {
     "end_time": "2020-11-03T07:02:41.716683Z",
     "start_time": "2020-11-03T07:02:41.679966Z"
    }
   },
   "outputs": [],
   "source": [
    "timeseries = Luik_ts['NEW_IN']\n",
    "spatial_unit = 'Luik_wave1_test'\n"
   ]
  },
  {
   "cell_type": "markdown",
   "metadata": {},
   "source": [
    "# Calibration on first wave"
   ]
  },
  {
   "cell_type": "code",
   "execution_count": 15,
   "metadata": {
    "ExecuteTime": {
     "end_time": "2020-11-03T07:02:42.712655Z",
     "start_time": "2020-11-03T07:02:42.675598Z"
    }
   },
   "outputs": [],
   "source": [
    "## First wave\n",
    "start_date = '2020-03-15'\n",
    "end_beta = '2020-03-25'#'2020-03-22'\n",
    "end_ramp = '2020-05-23'"
   ]
  },
  {
   "cell_type": "code",
   "execution_count": 16,
   "metadata": {
    "ExecuteTime": {
     "end_time": "2020-10-28T21:26:10.282866Z",
     "start_time": "2020-10-28T21:26:10.233888Z"
    }
   },
   "outputs": [
    {
     "data": {
      "text/plain": [
       "11"
      ]
     },
     "execution_count": 16,
     "metadata": {},
     "output_type": "execute_result"
    }
   ],
   "source": [
    "len(Luik_ts.loc[start_date:end_beta])"
   ]
  },
  {
   "cell_type": "code",
   "execution_count": 17,
   "metadata": {
    "ExecuteTime": {
     "end_time": "2020-10-28T21:26:10.866668Z",
     "start_time": "2020-10-28T21:26:10.824324Z"
    }
   },
   "outputs": [
    {
     "data": {
      "text/plain": [
       "60"
      ]
     },
     "execution_count": 17,
     "metadata": {},
     "output_type": "execute_result"
    }
   ],
   "source": [
    "len(Luik_ts.loc[end_beta:end_ramp])"
   ]
  },
  {
   "cell_type": "code",
   "execution_count": 18,
   "metadata": {
    "ExecuteTime": {
     "end_time": "2020-10-28T11:20:55.462246Z",
     "start_time": "2020-10-28T11:20:55.424200Z"
    }
   },
   "outputs": [],
   "source": [
    "# function parameters \n",
    "# maxiter=100\n",
    "# popsize=200\n",
    "# steps_mcmc=10000\n"
   ]
  },
  {
   "cell_type": "code",
   "execution_count": 21,
   "metadata": {
    "ExecuteTime": {
     "end_time": "2020-11-03T07:02:47.296120Z",
     "start_time": "2020-11-03T07:02:46.094104Z"
    },
    "scrolled": true
   },
   "outputs": [
    {
     "name": "stdout",
     "output_type": "stream",
     "text": [
      "---------------------------\n",
      "CALIBRATING BETA AND WARMUP\n",
      "---------------------------\n",
      "\n",
      "1) Particle swarm optimization\n",
      "\n",
      "No constraints given.\n",
      "New best for swarm at iteration 1: [1.05168450e+01 5.62765058e+01 2.76250711e-02] 30.36723552807721\n",
      "Best after iteration 1: [1.05168450e+01 5.62765058e+01 2.76250711e-02] 30.36723552807721\n",
      "Best after iteration 2: [1.05168450e+01 5.62765058e+01 2.76250711e-02] 30.36723552807721\n",
      "Best after iteration 3: [1.05168450e+01 5.62765058e+01 2.76250711e-02] 30.36723552807721\n",
      "Best after iteration 4: [1.05168450e+01 5.62765058e+01 2.76250711e-02] 30.36723552807721\n",
      "Best after iteration 5: [1.05168450e+01 5.62765058e+01 2.76250711e-02] 30.36723552807721\n",
      "Stopping search: maximum iterations reached --> 5\n",
      "\n",
      "2) Markov-Chain Monte-Carlo sampling\n",
      "\n"
     ]
    },
    {
     "name": "stderr",
     "output_type": "stream",
     "text": [
      "100%|██████████| 100/100 [00:15<00:00,  6.27it/s]\n"
     ]
    },
    {
     "name": "stdout",
     "output_type": "stream",
     "text": [
      "Warning: The chain is shorter than 50 times the integrated autocorrelation time for 4 parameter(s).\n",
      "Use this estimate with caution and run a longer chain!\n",
      "---------------------------------------------------------------------------------------------------------\n",
      "\n",
      "CALIBRATING COMPLIANCE RAMP\n",
      "---------------------------\n",
      "\n",
      "1) Particle swarm optimization\n",
      "\n",
      "\n",
      "2) Markov-Chain Monte-Carlo sampling\n",
      "\n",
      "No constraints given.\n",
      "New best for swarm at iteration 1: [28.17312762  9.65098923  1.39139352  0.        ] 278.74191933439647\n",
      "Best after iteration 1: [28.17312762  9.65098923  1.39139352  0.        ] 278.74191933439647\n",
      "Best after iteration 2: [28.17312762  9.65098923  1.39139352  0.        ] 278.74191933439647\n",
      "New best for swarm at iteration 3: [33.17276263 10.70993615  0.          0.        ] 277.60511869035207\n",
      "Best after iteration 3: [33.17276263 10.70993615  0.          0.        ] 277.60511869035207\n"
     ]
    },
    {
     "name": "stderr",
     "output_type": "stream",
     "text": [
      "\r",
      "  0%|          | 0/100 [00:00<?, ?it/s]"
     ]
    },
    {
     "name": "stdout",
     "output_type": "stream",
     "text": [
      "Best after iteration 4: [33.17276263 10.70993615  0.          0.        ] 277.60511869035207\n",
      "Best after iteration 5: [33.17276263 10.70993615  0.          0.        ] 277.60511869035207\n",
      "Stopping search: maximum iterations reached --> 5\n"
     ]
    },
    {
     "name": "stderr",
     "output_type": "stream",
     "text": [
      "/home/twallema/anaconda3/envs/COVID_MODEL/lib/python3.8/site-packages/emcee/moves/red_blue.py:99: RuntimeWarning: invalid value encountered in double_scalars\n",
      "  lnpdiff = f + nlp - state.log_prob[j]\n",
      "  1%|          | 1/100 [00:00<00:14,  6.75it/s]/home/twallema/anaconda3/envs/COVID_MODEL/lib/python3.8/site-packages/emcee/moves/red_blue.py:99: RuntimeWarning: invalid value encountered in double_scalars\n",
      "  lnpdiff = f + nlp - state.log_prob[j]\n",
      "/home/twallema/anaconda3/envs/COVID_MODEL/lib/python3.8/site-packages/emcee/moves/red_blue.py:99: RuntimeWarning: invalid value encountered in double_scalars\n",
      "  lnpdiff = f + nlp - state.log_prob[j]\n",
      "  2%|▏         | 2/100 [00:00<00:14,  6.79it/s]/home/twallema/anaconda3/envs/COVID_MODEL/lib/python3.8/site-packages/emcee/moves/red_blue.py:99: RuntimeWarning: invalid value encountered in double_scalars\n",
      "  lnpdiff = f + nlp - state.log_prob[j]\n",
      "/home/twallema/anaconda3/envs/COVID_MODEL/lib/python3.8/site-packages/emcee/moves/red_blue.py:99: RuntimeWarning: invalid value encountered in double_scalars\n",
      "  lnpdiff = f + nlp - state.log_prob[j]\n",
      "  3%|▎         | 3/100 [00:00<00:16,  5.91it/s]/home/twallema/anaconda3/envs/COVID_MODEL/lib/python3.8/site-packages/emcee/moves/red_blue.py:99: RuntimeWarning: invalid value encountered in double_scalars\n",
      "  lnpdiff = f + nlp - state.log_prob[j]\n",
      "/home/twallema/anaconda3/envs/COVID_MODEL/lib/python3.8/site-packages/emcee/moves/red_blue.py:99: RuntimeWarning: invalid value encountered in double_scalars\n",
      "  lnpdiff = f + nlp - state.log_prob[j]\n",
      "/home/twallema/anaconda3/envs/COVID_MODEL/lib/python3.8/site-packages/emcee/moves/red_blue.py:99: RuntimeWarning: invalid value encountered in double_scalars\n",
      "  lnpdiff = f + nlp - state.log_prob[j]\n",
      "  5%|▌         | 5/100 [00:00<00:17,  5.30it/s]/home/twallema/anaconda3/envs/COVID_MODEL/lib/python3.8/site-packages/emcee/moves/red_blue.py:99: RuntimeWarning: invalid value encountered in double_scalars\n",
      "  lnpdiff = f + nlp - state.log_prob[j]\n",
      "  6%|▌         | 6/100 [00:01<00:18,  5.05it/s]/home/twallema/anaconda3/envs/COVID_MODEL/lib/python3.8/site-packages/emcee/moves/red_blue.py:99: RuntimeWarning: invalid value encountered in double_scalars\n",
      "  lnpdiff = f + nlp - state.log_prob[j]\n",
      "/home/twallema/anaconda3/envs/COVID_MODEL/lib/python3.8/site-packages/emcee/moves/red_blue.py:99: RuntimeWarning: invalid value encountered in double_scalars\n",
      "  lnpdiff = f + nlp - state.log_prob[j]\n",
      "  7%|▋         | 7/100 [00:01<00:22,  4.12it/s]/home/twallema/anaconda3/envs/COVID_MODEL/lib/python3.8/site-packages/emcee/moves/red_blue.py:99: RuntimeWarning: invalid value encountered in double_scalars\n",
      "  lnpdiff = f + nlp - state.log_prob[j]\n",
      "  8%|▊         | 8/100 [00:01<00:27,  3.30it/s]/home/twallema/anaconda3/envs/COVID_MODEL/lib/python3.8/site-packages/emcee/moves/red_blue.py:99: RuntimeWarning: invalid value encountered in double_scalars\n",
      "  lnpdiff = f + nlp - state.log_prob[j]\n",
      "/home/twallema/anaconda3/envs/COVID_MODEL/lib/python3.8/site-packages/emcee/moves/red_blue.py:99: RuntimeWarning: invalid value encountered in double_scalars\n",
      "  lnpdiff = f + nlp - state.log_prob[j]\n",
      "  9%|▉         | 9/100 [00:02<00:31,  2.90it/s]/home/twallema/anaconda3/envs/COVID_MODEL/lib/python3.8/site-packages/emcee/moves/red_blue.py:99: RuntimeWarning: invalid value encountered in double_scalars\n",
      "  lnpdiff = f + nlp - state.log_prob[j]\n",
      "/home/twallema/anaconda3/envs/COVID_MODEL/lib/python3.8/site-packages/emcee/moves/red_blue.py:99: RuntimeWarning: invalid value encountered in double_scalars\n",
      "  lnpdiff = f + nlp - state.log_prob[j]\n",
      " 10%|█         | 10/100 [00:02<00:31,  2.85it/s]/home/twallema/anaconda3/envs/COVID_MODEL/lib/python3.8/site-packages/emcee/moves/red_blue.py:99: RuntimeWarning: invalid value encountered in double_scalars\n",
      "  lnpdiff = f + nlp - state.log_prob[j]\n",
      " 11%|█         | 11/100 [00:03<00:31,  2.82it/s]/home/twallema/anaconda3/envs/COVID_MODEL/lib/python3.8/site-packages/emcee/moves/red_blue.py:99: RuntimeWarning: invalid value encountered in double_scalars\n",
      "  lnpdiff = f + nlp - state.log_prob[j]\n",
      "/home/twallema/anaconda3/envs/COVID_MODEL/lib/python3.8/site-packages/emcee/moves/red_blue.py:99: RuntimeWarning: invalid value encountered in double_scalars\n",
      "  lnpdiff = f + nlp - state.log_prob[j]\n",
      " 12%|█▏        | 12/100 [00:03<00:33,  2.63it/s]/home/twallema/anaconda3/envs/COVID_MODEL/lib/python3.8/site-packages/emcee/moves/red_blue.py:99: RuntimeWarning: invalid value encountered in double_scalars\n",
      "  lnpdiff = f + nlp - state.log_prob[j]\n",
      "/home/twallema/anaconda3/envs/COVID_MODEL/lib/python3.8/site-packages/emcee/moves/red_blue.py:99: RuntimeWarning: invalid value encountered in double_scalars\n",
      "  lnpdiff = f + nlp - state.log_prob[j]\n",
      " 13%|█▎        | 13/100 [00:03<00:30,  2.82it/s]/home/twallema/anaconda3/envs/COVID_MODEL/lib/python3.8/site-packages/emcee/moves/red_blue.py:99: RuntimeWarning: invalid value encountered in double_scalars\n",
      "  lnpdiff = f + nlp - state.log_prob[j]\n",
      "/home/twallema/anaconda3/envs/COVID_MODEL/lib/python3.8/site-packages/emcee/moves/red_blue.py:99: RuntimeWarning: invalid value encountered in double_scalars\n",
      "  lnpdiff = f + nlp - state.log_prob[j]\n",
      " 14%|█▍        | 14/100 [00:04<00:28,  2.99it/s]/home/twallema/anaconda3/envs/COVID_MODEL/lib/python3.8/site-packages/emcee/moves/red_blue.py:99: RuntimeWarning: invalid value encountered in double_scalars\n",
      "  lnpdiff = f + nlp - state.log_prob[j]\n",
      " 15%|█▌        | 15/100 [00:04<00:29,  2.90it/s]/home/twallema/anaconda3/envs/COVID_MODEL/lib/python3.8/site-packages/emcee/moves/red_blue.py:99: RuntimeWarning: invalid value encountered in double_scalars\n",
      "  lnpdiff = f + nlp - state.log_prob[j]\n",
      " 16%|█▌        | 16/100 [00:04<00:31,  2.68it/s]/home/twallema/anaconda3/envs/COVID_MODEL/lib/python3.8/site-packages/emcee/moves/red_blue.py:99: RuntimeWarning: invalid value encountered in double_scalars\n",
      "  lnpdiff = f + nlp - state.log_prob[j]\n",
      "100%|██████████| 100/100 [00:52<00:00,  1.91it/s]\n"
     ]
    },
    {
     "name": "stdout",
     "output_type": "stream",
     "text": [
      "Warning: The chain is shorter than 50 times the integrated autocorrelation time for 4 parameter(s). Use this estimate with caution and run a longer chain!\n",
      "---------------------------------------------------------------------------------------------------------\n",
      "\n",
      "DONE\n",
      "\n",
      "SAMPLES DICTIONARY SAVED IN \"../data/interim/model_parameters/provinces/Luik_wave1_test_2020-11-04.json\"\n"
     ]
    }
   ],
   "source": [
    "samples_dict = full_calibration_wave1(model, timeseries, spatial_unit, start_date, end_beta, end_ramp, \n",
    "                                fig_path=fig_path, samples_path=samples_path,\n",
    "                                initN=initN, Nc_total=Nc_total,\n",
    "                                maxiter=5, popsize=5, steps_mcmc=100, discard=0)"
   ]
  },
  {
   "cell_type": "code",
   "execution_count": 62,
   "metadata": {
    "ExecuteTime": {
     "end_time": "2020-11-02T09:51:56.921202Z",
     "start_time": "2020-11-02T09:51:56.874680Z"
    }
   },
   "outputs": [
    {
     "data": {
      "text/plain": [
       "dict_keys(['warmup', 'beta', 'l', 'tau', 'prevention', 'sigma_data', 'calibration_data', 'start_date', 'end_beta', 'end_ramp', 'maxiter', 'popsize', 'steps_mcmc', 'discard', 'R0', 'R0_stratified_dict'])"
      ]
     },
     "execution_count": 62,
     "metadata": {},
     "output_type": "execute_result"
    }
   ],
   "source": [
    "samples_dict.keys()"
   ]
  },
  {
   "cell_type": "code",
   "execution_count": 22,
   "metadata": {
    "ExecuteTime": {
     "end_time": "2020-10-28T21:53:24.340780Z",
     "start_time": "2020-10-28T21:53:21.607494Z"
    },
    "scrolled": false
   },
   "outputs": [
    {
     "data": {
      "application/javascript": [
       "/* Put everything inside the global mpl namespace */\n",
       "/* global mpl */\n",
       "window.mpl = {};\n",
       "\n",
       "mpl.get_websocket_type = function () {\n",
       "    if (typeof WebSocket !== 'undefined') {\n",
       "        return WebSocket;\n",
       "    } else if (typeof MozWebSocket !== 'undefined') {\n",
       "        return MozWebSocket;\n",
       "    } else {\n",
       "        alert(\n",
       "            'Your browser does not have WebSocket support. ' +\n",
       "                'Please try Chrome, Safari or Firefox ≥ 6. ' +\n",
       "                'Firefox 4 and 5 are also supported but you ' +\n",
       "                'have to enable WebSockets in about:config.'\n",
       "        );\n",
       "    }\n",
       "};\n",
       "\n",
       "mpl.figure = function (figure_id, websocket, ondownload, parent_element) {\n",
       "    this.id = figure_id;\n",
       "\n",
       "    this.ws = websocket;\n",
       "\n",
       "    this.supports_binary = this.ws.binaryType !== undefined;\n",
       "\n",
       "    if (!this.supports_binary) {\n",
       "        var warnings = document.getElementById('mpl-warnings');\n",
       "        if (warnings) {\n",
       "            warnings.style.display = 'block';\n",
       "            warnings.textContent =\n",
       "                'This browser does not support binary websocket messages. ' +\n",
       "                'Performance may be slow.';\n",
       "        }\n",
       "    }\n",
       "\n",
       "    this.imageObj = new Image();\n",
       "\n",
       "    this.context = undefined;\n",
       "    this.message = undefined;\n",
       "    this.canvas = undefined;\n",
       "    this.rubberband_canvas = undefined;\n",
       "    this.rubberband_context = undefined;\n",
       "    this.format_dropdown = undefined;\n",
       "\n",
       "    this.image_mode = 'full';\n",
       "\n",
       "    this.root = document.createElement('div');\n",
       "    this.root.setAttribute('style', 'display: inline-block');\n",
       "    this._root_extra_style(this.root);\n",
       "\n",
       "    parent_element.appendChild(this.root);\n",
       "\n",
       "    this._init_header(this);\n",
       "    this._init_canvas(this);\n",
       "    this._init_toolbar(this);\n",
       "\n",
       "    var fig = this;\n",
       "\n",
       "    this.waiting = false;\n",
       "\n",
       "    this.ws.onopen = function () {\n",
       "        fig.send_message('supports_binary', { value: fig.supports_binary });\n",
       "        fig.send_message('send_image_mode', {});\n",
       "        if (mpl.ratio !== 1) {\n",
       "            fig.send_message('set_dpi_ratio', { dpi_ratio: mpl.ratio });\n",
       "        }\n",
       "        fig.send_message('refresh', {});\n",
       "    };\n",
       "\n",
       "    this.imageObj.onload = function () {\n",
       "        if (fig.image_mode === 'full') {\n",
       "            // Full images could contain transparency (where diff images\n",
       "            // almost always do), so we need to clear the canvas so that\n",
       "            // there is no ghosting.\n",
       "            fig.context.clearRect(0, 0, fig.canvas.width, fig.canvas.height);\n",
       "        }\n",
       "        fig.context.drawImage(fig.imageObj, 0, 0);\n",
       "    };\n",
       "\n",
       "    this.imageObj.onunload = function () {\n",
       "        fig.ws.close();\n",
       "    };\n",
       "\n",
       "    this.ws.onmessage = this._make_on_message_function(this);\n",
       "\n",
       "    this.ondownload = ondownload;\n",
       "};\n",
       "\n",
       "mpl.figure.prototype._init_header = function () {\n",
       "    var titlebar = document.createElement('div');\n",
       "    titlebar.classList =\n",
       "        'ui-dialog-titlebar ui-widget-header ui-corner-all ui-helper-clearfix';\n",
       "    var titletext = document.createElement('div');\n",
       "    titletext.classList = 'ui-dialog-title';\n",
       "    titletext.setAttribute(\n",
       "        'style',\n",
       "        'width: 100%; text-align: center; padding: 3px;'\n",
       "    );\n",
       "    titlebar.appendChild(titletext);\n",
       "    this.root.appendChild(titlebar);\n",
       "    this.header = titletext;\n",
       "};\n",
       "\n",
       "mpl.figure.prototype._canvas_extra_style = function (_canvas_div) {};\n",
       "\n",
       "mpl.figure.prototype._root_extra_style = function (_canvas_div) {};\n",
       "\n",
       "mpl.figure.prototype._init_canvas = function () {\n",
       "    var fig = this;\n",
       "\n",
       "    var canvas_div = (this.canvas_div = document.createElement('div'));\n",
       "    canvas_div.setAttribute(\n",
       "        'style',\n",
       "        'border: 1px solid #ddd;' +\n",
       "            'box-sizing: content-box;' +\n",
       "            'clear: both;' +\n",
       "            'min-height: 1px;' +\n",
       "            'min-width: 1px;' +\n",
       "            'outline: 0;' +\n",
       "            'overflow: hidden;' +\n",
       "            'position: relative;' +\n",
       "            'resize: both;'\n",
       "    );\n",
       "\n",
       "    function on_keyboard_event_closure(name) {\n",
       "        return function (event) {\n",
       "            return fig.key_event(event, name);\n",
       "        };\n",
       "    }\n",
       "\n",
       "    canvas_div.addEventListener(\n",
       "        'keydown',\n",
       "        on_keyboard_event_closure('key_press')\n",
       "    );\n",
       "    canvas_div.addEventListener(\n",
       "        'keyup',\n",
       "        on_keyboard_event_closure('key_release')\n",
       "    );\n",
       "\n",
       "    this._canvas_extra_style(canvas_div);\n",
       "    this.root.appendChild(canvas_div);\n",
       "\n",
       "    var canvas = (this.canvas = document.createElement('canvas'));\n",
       "    canvas.classList.add('mpl-canvas');\n",
       "    canvas.setAttribute('style', 'box-sizing: content-box;');\n",
       "\n",
       "    this.context = canvas.getContext('2d');\n",
       "\n",
       "    var backingStore =\n",
       "        this.context.backingStorePixelRatio ||\n",
       "        this.context.webkitBackingStorePixelRatio ||\n",
       "        this.context.mozBackingStorePixelRatio ||\n",
       "        this.context.msBackingStorePixelRatio ||\n",
       "        this.context.oBackingStorePixelRatio ||\n",
       "        this.context.backingStorePixelRatio ||\n",
       "        1;\n",
       "\n",
       "    mpl.ratio = (window.devicePixelRatio || 1) / backingStore;\n",
       "\n",
       "    var rubberband_canvas = (this.rubberband_canvas = document.createElement(\n",
       "        'canvas'\n",
       "    ));\n",
       "    rubberband_canvas.setAttribute(\n",
       "        'style',\n",
       "        'box-sizing: content-box; position: absolute; left: 0; top: 0; z-index: 1;'\n",
       "    );\n",
       "\n",
       "    var resizeObserver = new ResizeObserver(function (entries) {\n",
       "        var nentries = entries.length;\n",
       "        for (var i = 0; i < nentries; i++) {\n",
       "            var entry = entries[i];\n",
       "            var width, height;\n",
       "            if (entry.contentBoxSize) {\n",
       "                if (entry.contentBoxSize instanceof Array) {\n",
       "                    // Chrome 84 implements new version of spec.\n",
       "                    width = entry.contentBoxSize[0].inlineSize;\n",
       "                    height = entry.contentBoxSize[0].blockSize;\n",
       "                } else {\n",
       "                    // Firefox implements old version of spec.\n",
       "                    width = entry.contentBoxSize.inlineSize;\n",
       "                    height = entry.contentBoxSize.blockSize;\n",
       "                }\n",
       "            } else {\n",
       "                // Chrome <84 implements even older version of spec.\n",
       "                width = entry.contentRect.width;\n",
       "                height = entry.contentRect.height;\n",
       "            }\n",
       "\n",
       "            // Keep the size of the canvas and rubber band canvas in sync with\n",
       "            // the canvas container.\n",
       "            if (entry.devicePixelContentBoxSize) {\n",
       "                // Chrome 84 implements new version of spec.\n",
       "                canvas.setAttribute(\n",
       "                    'width',\n",
       "                    entry.devicePixelContentBoxSize[0].inlineSize\n",
       "                );\n",
       "                canvas.setAttribute(\n",
       "                    'height',\n",
       "                    entry.devicePixelContentBoxSize[0].blockSize\n",
       "                );\n",
       "            } else {\n",
       "                canvas.setAttribute('width', width * mpl.ratio);\n",
       "                canvas.setAttribute('height', height * mpl.ratio);\n",
       "            }\n",
       "            canvas.setAttribute(\n",
       "                'style',\n",
       "                'width: ' + width + 'px; height: ' + height + 'px;'\n",
       "            );\n",
       "\n",
       "            rubberband_canvas.setAttribute('width', width);\n",
       "            rubberband_canvas.setAttribute('height', height);\n",
       "\n",
       "            // And update the size in Python. We ignore the initial 0/0 size\n",
       "            // that occurs as the element is placed into the DOM, which should\n",
       "            // otherwise not happen due to the minimum size styling.\n",
       "            if (width != 0 && height != 0) {\n",
       "                fig.request_resize(width, height);\n",
       "            }\n",
       "        }\n",
       "    });\n",
       "    resizeObserver.observe(canvas_div);\n",
       "\n",
       "    function on_mouse_event_closure(name) {\n",
       "        return function (event) {\n",
       "            return fig.mouse_event(event, name);\n",
       "        };\n",
       "    }\n",
       "\n",
       "    rubberband_canvas.addEventListener(\n",
       "        'mousedown',\n",
       "        on_mouse_event_closure('button_press')\n",
       "    );\n",
       "    rubberband_canvas.addEventListener(\n",
       "        'mouseup',\n",
       "        on_mouse_event_closure('button_release')\n",
       "    );\n",
       "    // Throttle sequential mouse events to 1 every 20ms.\n",
       "    rubberband_canvas.addEventListener(\n",
       "        'mousemove',\n",
       "        on_mouse_event_closure('motion_notify')\n",
       "    );\n",
       "\n",
       "    rubberband_canvas.addEventListener(\n",
       "        'mouseenter',\n",
       "        on_mouse_event_closure('figure_enter')\n",
       "    );\n",
       "    rubberband_canvas.addEventListener(\n",
       "        'mouseleave',\n",
       "        on_mouse_event_closure('figure_leave')\n",
       "    );\n",
       "\n",
       "    canvas_div.addEventListener('wheel', function (event) {\n",
       "        if (event.deltaY < 0) {\n",
       "            event.step = 1;\n",
       "        } else {\n",
       "            event.step = -1;\n",
       "        }\n",
       "        on_mouse_event_closure('scroll')(event);\n",
       "    });\n",
       "\n",
       "    canvas_div.appendChild(canvas);\n",
       "    canvas_div.appendChild(rubberband_canvas);\n",
       "\n",
       "    this.rubberband_context = rubberband_canvas.getContext('2d');\n",
       "    this.rubberband_context.strokeStyle = '#000000';\n",
       "\n",
       "    this._resize_canvas = function (width, height, forward) {\n",
       "        if (forward) {\n",
       "            canvas_div.style.width = width + 'px';\n",
       "            canvas_div.style.height = height + 'px';\n",
       "        }\n",
       "    };\n",
       "\n",
       "    // Disable right mouse context menu.\n",
       "    this.rubberband_canvas.addEventListener('contextmenu', function (_e) {\n",
       "        event.preventDefault();\n",
       "        return false;\n",
       "    });\n",
       "\n",
       "    function set_focus() {\n",
       "        canvas.focus();\n",
       "        canvas_div.focus();\n",
       "    }\n",
       "\n",
       "    window.setTimeout(set_focus, 100);\n",
       "};\n",
       "\n",
       "mpl.figure.prototype._init_toolbar = function () {\n",
       "    var fig = this;\n",
       "\n",
       "    var toolbar = document.createElement('div');\n",
       "    toolbar.classList = 'mpl-toolbar';\n",
       "    this.root.appendChild(toolbar);\n",
       "\n",
       "    function on_click_closure(name) {\n",
       "        return function (_event) {\n",
       "            return fig.toolbar_button_onclick(name);\n",
       "        };\n",
       "    }\n",
       "\n",
       "    function on_mouseover_closure(tooltip) {\n",
       "        return function (event) {\n",
       "            if (!event.currentTarget.disabled) {\n",
       "                return fig.toolbar_button_onmouseover(tooltip);\n",
       "            }\n",
       "        };\n",
       "    }\n",
       "\n",
       "    fig.buttons = {};\n",
       "    var buttonGroup = document.createElement('div');\n",
       "    buttonGroup.classList = 'mpl-button-group';\n",
       "    for (var toolbar_ind in mpl.toolbar_items) {\n",
       "        var name = mpl.toolbar_items[toolbar_ind][0];\n",
       "        var tooltip = mpl.toolbar_items[toolbar_ind][1];\n",
       "        var image = mpl.toolbar_items[toolbar_ind][2];\n",
       "        var method_name = mpl.toolbar_items[toolbar_ind][3];\n",
       "\n",
       "        if (!name) {\n",
       "            /* Instead of a spacer, we start a new button group. */\n",
       "            if (buttonGroup.hasChildNodes()) {\n",
       "                toolbar.appendChild(buttonGroup);\n",
       "            }\n",
       "            buttonGroup = document.createElement('div');\n",
       "            buttonGroup.classList = 'mpl-button-group';\n",
       "            continue;\n",
       "        }\n",
       "\n",
       "        var button = (fig.buttons[name] = document.createElement('button'));\n",
       "        button.classList = 'mpl-widget';\n",
       "        button.setAttribute('role', 'button');\n",
       "        button.setAttribute('aria-disabled', 'false');\n",
       "        button.addEventListener('click', on_click_closure(method_name));\n",
       "        button.addEventListener('mouseover', on_mouseover_closure(tooltip));\n",
       "\n",
       "        var icon_img = document.createElement('img');\n",
       "        icon_img.src = '_images/' + image + '.png';\n",
       "        icon_img.srcset = '_images/' + image + '_large.png 2x';\n",
       "        icon_img.alt = tooltip;\n",
       "        button.appendChild(icon_img);\n",
       "\n",
       "        buttonGroup.appendChild(button);\n",
       "    }\n",
       "\n",
       "    if (buttonGroup.hasChildNodes()) {\n",
       "        toolbar.appendChild(buttonGroup);\n",
       "    }\n",
       "\n",
       "    var fmt_picker = document.createElement('select');\n",
       "    fmt_picker.classList = 'mpl-widget';\n",
       "    toolbar.appendChild(fmt_picker);\n",
       "    this.format_dropdown = fmt_picker;\n",
       "\n",
       "    for (var ind in mpl.extensions) {\n",
       "        var fmt = mpl.extensions[ind];\n",
       "        var option = document.createElement('option');\n",
       "        option.selected = fmt === mpl.default_extension;\n",
       "        option.innerHTML = fmt;\n",
       "        fmt_picker.appendChild(option);\n",
       "    }\n",
       "\n",
       "    var status_bar = document.createElement('span');\n",
       "    status_bar.classList = 'mpl-message';\n",
       "    toolbar.appendChild(status_bar);\n",
       "    this.message = status_bar;\n",
       "};\n",
       "\n",
       "mpl.figure.prototype.request_resize = function (x_pixels, y_pixels) {\n",
       "    // Request matplotlib to resize the figure. Matplotlib will then trigger a resize in the client,\n",
       "    // which will in turn request a refresh of the image.\n",
       "    this.send_message('resize', { width: x_pixels, height: y_pixels });\n",
       "};\n",
       "\n",
       "mpl.figure.prototype.send_message = function (type, properties) {\n",
       "    properties['type'] = type;\n",
       "    properties['figure_id'] = this.id;\n",
       "    this.ws.send(JSON.stringify(properties));\n",
       "};\n",
       "\n",
       "mpl.figure.prototype.send_draw_message = function () {\n",
       "    if (!this.waiting) {\n",
       "        this.waiting = true;\n",
       "        this.ws.send(JSON.stringify({ type: 'draw', figure_id: this.id }));\n",
       "    }\n",
       "};\n",
       "\n",
       "mpl.figure.prototype.handle_save = function (fig, _msg) {\n",
       "    var format_dropdown = fig.format_dropdown;\n",
       "    var format = format_dropdown.options[format_dropdown.selectedIndex].value;\n",
       "    fig.ondownload(fig, format);\n",
       "};\n",
       "\n",
       "mpl.figure.prototype.handle_resize = function (fig, msg) {\n",
       "    var size = msg['size'];\n",
       "    if (size[0] !== fig.canvas.width || size[1] !== fig.canvas.height) {\n",
       "        fig._resize_canvas(size[0], size[1], msg['forward']);\n",
       "        fig.send_message('refresh', {});\n",
       "    }\n",
       "};\n",
       "\n",
       "mpl.figure.prototype.handle_rubberband = function (fig, msg) {\n",
       "    var x0 = msg['x0'] / mpl.ratio;\n",
       "    var y0 = (fig.canvas.height - msg['y0']) / mpl.ratio;\n",
       "    var x1 = msg['x1'] / mpl.ratio;\n",
       "    var y1 = (fig.canvas.height - msg['y1']) / mpl.ratio;\n",
       "    x0 = Math.floor(x0) + 0.5;\n",
       "    y0 = Math.floor(y0) + 0.5;\n",
       "    x1 = Math.floor(x1) + 0.5;\n",
       "    y1 = Math.floor(y1) + 0.5;\n",
       "    var min_x = Math.min(x0, x1);\n",
       "    var min_y = Math.min(y0, y1);\n",
       "    var width = Math.abs(x1 - x0);\n",
       "    var height = Math.abs(y1 - y0);\n",
       "\n",
       "    fig.rubberband_context.clearRect(\n",
       "        0,\n",
       "        0,\n",
       "        fig.canvas.width / mpl.ratio,\n",
       "        fig.canvas.height / mpl.ratio\n",
       "    );\n",
       "\n",
       "    fig.rubberband_context.strokeRect(min_x, min_y, width, height);\n",
       "};\n",
       "\n",
       "mpl.figure.prototype.handle_figure_label = function (fig, msg) {\n",
       "    // Updates the figure title.\n",
       "    fig.header.textContent = msg['label'];\n",
       "};\n",
       "\n",
       "mpl.figure.prototype.handle_cursor = function (fig, msg) {\n",
       "    var cursor = msg['cursor'];\n",
       "    switch (cursor) {\n",
       "        case 0:\n",
       "            cursor = 'pointer';\n",
       "            break;\n",
       "        case 1:\n",
       "            cursor = 'default';\n",
       "            break;\n",
       "        case 2:\n",
       "            cursor = 'crosshair';\n",
       "            break;\n",
       "        case 3:\n",
       "            cursor = 'move';\n",
       "            break;\n",
       "    }\n",
       "    fig.rubberband_canvas.style.cursor = cursor;\n",
       "};\n",
       "\n",
       "mpl.figure.prototype.handle_message = function (fig, msg) {\n",
       "    fig.message.textContent = msg['message'];\n",
       "};\n",
       "\n",
       "mpl.figure.prototype.handle_draw = function (fig, _msg) {\n",
       "    // Request the server to send over a new figure.\n",
       "    fig.send_draw_message();\n",
       "};\n",
       "\n",
       "mpl.figure.prototype.handle_image_mode = function (fig, msg) {\n",
       "    fig.image_mode = msg['mode'];\n",
       "};\n",
       "\n",
       "mpl.figure.prototype.handle_history_buttons = function (fig, msg) {\n",
       "    for (var key in msg) {\n",
       "        if (!(key in fig.buttons)) {\n",
       "            continue;\n",
       "        }\n",
       "        fig.buttons[key].disabled = !msg[key];\n",
       "        fig.buttons[key].setAttribute('aria-disabled', !msg[key]);\n",
       "    }\n",
       "};\n",
       "\n",
       "mpl.figure.prototype.handle_navigate_mode = function (fig, msg) {\n",
       "    if (msg['mode'] === 'PAN') {\n",
       "        fig.buttons['Pan'].classList.add('active');\n",
       "        fig.buttons['Zoom'].classList.remove('active');\n",
       "    } else if (msg['mode'] === 'ZOOM') {\n",
       "        fig.buttons['Pan'].classList.remove('active');\n",
       "        fig.buttons['Zoom'].classList.add('active');\n",
       "    } else {\n",
       "        fig.buttons['Pan'].classList.remove('active');\n",
       "        fig.buttons['Zoom'].classList.remove('active');\n",
       "    }\n",
       "};\n",
       "\n",
       "mpl.figure.prototype.updated_canvas_event = function () {\n",
       "    // Called whenever the canvas gets updated.\n",
       "    this.send_message('ack', {});\n",
       "};\n",
       "\n",
       "// A function to construct a web socket function for onmessage handling.\n",
       "// Called in the figure constructor.\n",
       "mpl.figure.prototype._make_on_message_function = function (fig) {\n",
       "    return function socket_on_message(evt) {\n",
       "        if (evt.data instanceof Blob) {\n",
       "            /* FIXME: We get \"Resource interpreted as Image but\n",
       "             * transferred with MIME type text/plain:\" errors on\n",
       "             * Chrome.  But how to set the MIME type?  It doesn't seem\n",
       "             * to be part of the websocket stream */\n",
       "            evt.data.type = 'image/png';\n",
       "\n",
       "            /* Free the memory for the previous frames */\n",
       "            if (fig.imageObj.src) {\n",
       "                (window.URL || window.webkitURL).revokeObjectURL(\n",
       "                    fig.imageObj.src\n",
       "                );\n",
       "            }\n",
       "\n",
       "            fig.imageObj.src = (window.URL || window.webkitURL).createObjectURL(\n",
       "                evt.data\n",
       "            );\n",
       "            fig.updated_canvas_event();\n",
       "            fig.waiting = false;\n",
       "            return;\n",
       "        } else if (\n",
       "            typeof evt.data === 'string' &&\n",
       "            evt.data.slice(0, 21) === 'data:image/png;base64'\n",
       "        ) {\n",
       "            fig.imageObj.src = evt.data;\n",
       "            fig.updated_canvas_event();\n",
       "            fig.waiting = false;\n",
       "            return;\n",
       "        }\n",
       "\n",
       "        var msg = JSON.parse(evt.data);\n",
       "        var msg_type = msg['type'];\n",
       "\n",
       "        // Call the  \"handle_{type}\" callback, which takes\n",
       "        // the figure and JSON message as its only arguments.\n",
       "        try {\n",
       "            var callback = fig['handle_' + msg_type];\n",
       "        } catch (e) {\n",
       "            console.log(\n",
       "                \"No handler for the '\" + msg_type + \"' message type: \",\n",
       "                msg\n",
       "            );\n",
       "            return;\n",
       "        }\n",
       "\n",
       "        if (callback) {\n",
       "            try {\n",
       "                // console.log(\"Handling '\" + msg_type + \"' message: \", msg);\n",
       "                callback(fig, msg);\n",
       "            } catch (e) {\n",
       "                console.log(\n",
       "                    \"Exception inside the 'handler_\" + msg_type + \"' callback:\",\n",
       "                    e,\n",
       "                    e.stack,\n",
       "                    msg\n",
       "                );\n",
       "            }\n",
       "        }\n",
       "    };\n",
       "};\n",
       "\n",
       "// from http://stackoverflow.com/questions/1114465/getting-mouse-location-in-canvas\n",
       "mpl.findpos = function (e) {\n",
       "    //this section is from http://www.quirksmode.org/js/events_properties.html\n",
       "    var targ;\n",
       "    if (!e) {\n",
       "        e = window.event;\n",
       "    }\n",
       "    if (e.target) {\n",
       "        targ = e.target;\n",
       "    } else if (e.srcElement) {\n",
       "        targ = e.srcElement;\n",
       "    }\n",
       "    if (targ.nodeType === 3) {\n",
       "        // defeat Safari bug\n",
       "        targ = targ.parentNode;\n",
       "    }\n",
       "\n",
       "    // pageX,Y are the mouse positions relative to the document\n",
       "    var boundingRect = targ.getBoundingClientRect();\n",
       "    var x = e.pageX - (boundingRect.left + document.body.scrollLeft);\n",
       "    var y = e.pageY - (boundingRect.top + document.body.scrollTop);\n",
       "\n",
       "    return { x: x, y: y };\n",
       "};\n",
       "\n",
       "/*\n",
       " * return a copy of an object with only non-object keys\n",
       " * we need this to avoid circular references\n",
       " * http://stackoverflow.com/a/24161582/3208463\n",
       " */\n",
       "function simpleKeys(original) {\n",
       "    return Object.keys(original).reduce(function (obj, key) {\n",
       "        if (typeof original[key] !== 'object') {\n",
       "            obj[key] = original[key];\n",
       "        }\n",
       "        return obj;\n",
       "    }, {});\n",
       "}\n",
       "\n",
       "mpl.figure.prototype.mouse_event = function (event, name) {\n",
       "    var canvas_pos = mpl.findpos(event);\n",
       "\n",
       "    if (name === 'button_press') {\n",
       "        this.canvas.focus();\n",
       "        this.canvas_div.focus();\n",
       "    }\n",
       "\n",
       "    var x = canvas_pos.x * mpl.ratio;\n",
       "    var y = canvas_pos.y * mpl.ratio;\n",
       "\n",
       "    this.send_message(name, {\n",
       "        x: x,\n",
       "        y: y,\n",
       "        button: event.button,\n",
       "        step: event.step,\n",
       "        guiEvent: simpleKeys(event),\n",
       "    });\n",
       "\n",
       "    /* This prevents the web browser from automatically changing to\n",
       "     * the text insertion cursor when the button is pressed.  We want\n",
       "     * to control all of the cursor setting manually through the\n",
       "     * 'cursor' event from matplotlib */\n",
       "    event.preventDefault();\n",
       "    return false;\n",
       "};\n",
       "\n",
       "mpl.figure.prototype._key_event_extra = function (_event, _name) {\n",
       "    // Handle any extra behaviour associated with a key event\n",
       "};\n",
       "\n",
       "mpl.figure.prototype.key_event = function (event, name) {\n",
       "    // Prevent repeat events\n",
       "    if (name === 'key_press') {\n",
       "        if (event.which === this._key) {\n",
       "            return;\n",
       "        } else {\n",
       "            this._key = event.which;\n",
       "        }\n",
       "    }\n",
       "    if (name === 'key_release') {\n",
       "        this._key = null;\n",
       "    }\n",
       "\n",
       "    var value = '';\n",
       "    if (event.ctrlKey && event.which !== 17) {\n",
       "        value += 'ctrl+';\n",
       "    }\n",
       "    if (event.altKey && event.which !== 18) {\n",
       "        value += 'alt+';\n",
       "    }\n",
       "    if (event.shiftKey && event.which !== 16) {\n",
       "        value += 'shift+';\n",
       "    }\n",
       "\n",
       "    value += 'k';\n",
       "    value += event.which.toString();\n",
       "\n",
       "    this._key_event_extra(event, name);\n",
       "\n",
       "    this.send_message(name, { key: value, guiEvent: simpleKeys(event) });\n",
       "    return false;\n",
       "};\n",
       "\n",
       "mpl.figure.prototype.toolbar_button_onclick = function (name) {\n",
       "    if (name === 'download') {\n",
       "        this.handle_save(this, null);\n",
       "    } else {\n",
       "        this.send_message('toolbar_button', { name: name });\n",
       "    }\n",
       "};\n",
       "\n",
       "mpl.figure.prototype.toolbar_button_onmouseover = function (tooltip) {\n",
       "    this.message.textContent = tooltip;\n",
       "};\n",
       "mpl.toolbar_items = [[\"Home\", \"Reset original view\", \"fa fa-home icon-home\", \"home\"], [\"Back\", \"Back to previous view\", \"fa fa-arrow-left icon-arrow-left\", \"back\"], [\"Forward\", \"Forward to next view\", \"fa fa-arrow-right icon-arrow-right\", \"forward\"], [\"\", \"\", \"\", \"\"], [\"Pan\", \"Left button pans, Right button zooms\\nx/y fixes axis, CTRL fixes aspect\", \"fa fa-arrows icon-move\", \"pan\"], [\"Zoom\", \"Zoom to rectangle\\nx/y fixes axis, CTRL fixes aspect\", \"fa fa-square-o icon-check-empty\", \"zoom\"], [\"\", \"\", \"\", \"\"], [\"Download\", \"Download plot\", \"fa fa-floppy-o icon-save\", \"download\"]];\n",
       "\n",
       "mpl.extensions = [\"eps\", \"jpeg\", \"pdf\", \"png\", \"ps\", \"raw\", \"svg\", \"tif\"];\n",
       "\n",
       "mpl.default_extension = \"png\";/* global mpl */\n",
       "\n",
       "var comm_websocket_adapter = function (comm) {\n",
       "    // Create a \"websocket\"-like object which calls the given IPython comm\n",
       "    // object with the appropriate methods. Currently this is a non binary\n",
       "    // socket, so there is still some room for performance tuning.\n",
       "    var ws = {};\n",
       "\n",
       "    ws.close = function () {\n",
       "        comm.close();\n",
       "    };\n",
       "    ws.send = function (m) {\n",
       "        //console.log('sending', m);\n",
       "        comm.send(m);\n",
       "    };\n",
       "    // Register the callback with on_msg.\n",
       "    comm.on_msg(function (msg) {\n",
       "        //console.log('receiving', msg['content']['data'], msg);\n",
       "        // Pass the mpl event to the overridden (by mpl) onmessage function.\n",
       "        ws.onmessage(msg['content']['data']);\n",
       "    });\n",
       "    return ws;\n",
       "};\n",
       "\n",
       "mpl.mpl_figure_comm = function (comm, msg) {\n",
       "    // This is the function which gets called when the mpl process\n",
       "    // starts-up an IPython Comm through the \"matplotlib\" channel.\n",
       "\n",
       "    var id = msg.content.data.id;\n",
       "    // Get hold of the div created by the display call when the Comm\n",
       "    // socket was opened in Python.\n",
       "    var element = document.getElementById(id);\n",
       "    var ws_proxy = comm_websocket_adapter(comm);\n",
       "\n",
       "    function ondownload(figure, _format) {\n",
       "        window.open(figure.canvas.toDataURL());\n",
       "    }\n",
       "\n",
       "    var fig = new mpl.figure(id, ws_proxy, ondownload, element);\n",
       "\n",
       "    // Call onopen now - mpl needs it, as it is assuming we've passed it a real\n",
       "    // web socket which is closed, not our websocket->open comm proxy.\n",
       "    ws_proxy.onopen();\n",
       "\n",
       "    fig.parent_element = element;\n",
       "    fig.cell_info = mpl.find_output_cell(\"<div id='\" + id + \"'></div>\");\n",
       "    if (!fig.cell_info) {\n",
       "        console.error('Failed to find cell for figure', id, fig);\n",
       "        return;\n",
       "    }\n",
       "};\n",
       "\n",
       "mpl.figure.prototype.handle_close = function (fig, msg) {\n",
       "    var width = fig.canvas.width / mpl.ratio;\n",
       "    fig.root.removeEventListener('remove', this._remove_fig_handler);\n",
       "\n",
       "    // Update the output cell to use the data from the current canvas.\n",
       "    fig.push_to_output();\n",
       "    var dataURL = fig.canvas.toDataURL();\n",
       "    // Re-enable the keyboard manager in IPython - without this line, in FF,\n",
       "    // the notebook keyboard shortcuts fail.\n",
       "    IPython.keyboard_manager.enable();\n",
       "    fig.parent_element.innerHTML =\n",
       "        '<img src=\"' + dataURL + '\" width=\"' + width + '\">';\n",
       "    fig.close_ws(fig, msg);\n",
       "};\n",
       "\n",
       "mpl.figure.prototype.close_ws = function (fig, msg) {\n",
       "    fig.send_message('closing', msg);\n",
       "    // fig.ws.close()\n",
       "};\n",
       "\n",
       "mpl.figure.prototype.push_to_output = function (_remove_interactive) {\n",
       "    // Turn the data on the canvas into data in the output cell.\n",
       "    var width = this.canvas.width / mpl.ratio;\n",
       "    var dataURL = this.canvas.toDataURL();\n",
       "    this.cell_info[1]['text/html'] =\n",
       "        '<img src=\"' + dataURL + '\" width=\"' + width + '\">';\n",
       "};\n",
       "\n",
       "mpl.figure.prototype.updated_canvas_event = function () {\n",
       "    // Tell IPython that the notebook contents must change.\n",
       "    IPython.notebook.set_dirty(true);\n",
       "    this.send_message('ack', {});\n",
       "    var fig = this;\n",
       "    // Wait a second, then push the new image to the DOM so\n",
       "    // that it is saved nicely (might be nice to debounce this).\n",
       "    setTimeout(function () {\n",
       "        fig.push_to_output();\n",
       "    }, 1000);\n",
       "};\n",
       "\n",
       "mpl.figure.prototype._init_toolbar = function () {\n",
       "    var fig = this;\n",
       "\n",
       "    var toolbar = document.createElement('div');\n",
       "    toolbar.classList = 'btn-toolbar';\n",
       "    this.root.appendChild(toolbar);\n",
       "\n",
       "    function on_click_closure(name) {\n",
       "        return function (_event) {\n",
       "            return fig.toolbar_button_onclick(name);\n",
       "        };\n",
       "    }\n",
       "\n",
       "    function on_mouseover_closure(tooltip) {\n",
       "        return function (event) {\n",
       "            if (!event.currentTarget.disabled) {\n",
       "                return fig.toolbar_button_onmouseover(tooltip);\n",
       "            }\n",
       "        };\n",
       "    }\n",
       "\n",
       "    fig.buttons = {};\n",
       "    var buttonGroup = document.createElement('div');\n",
       "    buttonGroup.classList = 'btn-group';\n",
       "    var button;\n",
       "    for (var toolbar_ind in mpl.toolbar_items) {\n",
       "        var name = mpl.toolbar_items[toolbar_ind][0];\n",
       "        var tooltip = mpl.toolbar_items[toolbar_ind][1];\n",
       "        var image = mpl.toolbar_items[toolbar_ind][2];\n",
       "        var method_name = mpl.toolbar_items[toolbar_ind][3];\n",
       "\n",
       "        if (!name) {\n",
       "            /* Instead of a spacer, we start a new button group. */\n",
       "            if (buttonGroup.hasChildNodes()) {\n",
       "                toolbar.appendChild(buttonGroup);\n",
       "            }\n",
       "            buttonGroup = document.createElement('div');\n",
       "            buttonGroup.classList = 'btn-group';\n",
       "            continue;\n",
       "        }\n",
       "\n",
       "        button = fig.buttons[name] = document.createElement('button');\n",
       "        button.classList = 'btn btn-default';\n",
       "        button.href = '#';\n",
       "        button.title = name;\n",
       "        button.innerHTML = '<i class=\"fa ' + image + ' fa-lg\"></i>';\n",
       "        button.addEventListener('click', on_click_closure(method_name));\n",
       "        button.addEventListener('mouseover', on_mouseover_closure(tooltip));\n",
       "        buttonGroup.appendChild(button);\n",
       "    }\n",
       "\n",
       "    if (buttonGroup.hasChildNodes()) {\n",
       "        toolbar.appendChild(buttonGroup);\n",
       "    }\n",
       "\n",
       "    // Add the status bar.\n",
       "    var status_bar = document.createElement('span');\n",
       "    status_bar.classList = 'mpl-message pull-right';\n",
       "    toolbar.appendChild(status_bar);\n",
       "    this.message = status_bar;\n",
       "\n",
       "    // Add the close button to the window.\n",
       "    var buttongrp = document.createElement('div');\n",
       "    buttongrp.classList = 'btn-group inline pull-right';\n",
       "    button = document.createElement('button');\n",
       "    button.classList = 'btn btn-mini btn-primary';\n",
       "    button.href = '#';\n",
       "    button.title = 'Stop Interaction';\n",
       "    button.innerHTML = '<i class=\"fa fa-power-off icon-remove icon-large\"></i>';\n",
       "    button.addEventListener('click', function (_evt) {\n",
       "        fig.handle_close(fig, {});\n",
       "    });\n",
       "    button.addEventListener(\n",
       "        'mouseover',\n",
       "        on_mouseover_closure('Stop Interaction')\n",
       "    );\n",
       "    buttongrp.appendChild(button);\n",
       "    var titlebar = this.root.querySelector('.ui-dialog-titlebar');\n",
       "    titlebar.insertBefore(buttongrp, titlebar.firstChild);\n",
       "};\n",
       "\n",
       "mpl.figure.prototype._remove_fig_handler = function () {\n",
       "    this.close_ws(this, {});\n",
       "};\n",
       "\n",
       "mpl.figure.prototype._root_extra_style = function (el) {\n",
       "    el.style.boxSizing = 'content-box'; // override notebook setting of border-box.\n",
       "    el.addEventListener('remove', this._remove_fig_handler);\n",
       "};\n",
       "\n",
       "mpl.figure.prototype._canvas_extra_style = function (el) {\n",
       "    // this is important to make the div 'focusable\n",
       "    el.setAttribute('tabindex', 0);\n",
       "    // reach out to IPython and tell the keyboard manager to turn it's self\n",
       "    // off when our div gets focus\n",
       "\n",
       "    // location in version 3\n",
       "    if (IPython.notebook.keyboard_manager) {\n",
       "        IPython.notebook.keyboard_manager.register_events(el);\n",
       "    } else {\n",
       "        // location in version 2\n",
       "        IPython.keyboard_manager.register_events(el);\n",
       "    }\n",
       "};\n",
       "\n",
       "mpl.figure.prototype._key_event_extra = function (event, _name) {\n",
       "    var manager = IPython.notebook.keyboard_manager;\n",
       "    if (!manager) {\n",
       "        manager = IPython.keyboard_manager;\n",
       "    }\n",
       "\n",
       "    // Check for shift+enter\n",
       "    if (event.shiftKey && event.which === 13) {\n",
       "        this.canvas_div.blur();\n",
       "        // select the cell after this one\n",
       "        var index = IPython.notebook.find_cell_index(this.cell_info[0]);\n",
       "        IPython.notebook.select(index + 1);\n",
       "    }\n",
       "};\n",
       "\n",
       "mpl.figure.prototype.handle_save = function (fig, _msg) {\n",
       "    fig.ondownload(fig, null);\n",
       "};\n",
       "\n",
       "mpl.find_output_cell = function (html_output) {\n",
       "    // Return the cell and output element which can be found *uniquely* in the notebook.\n",
       "    // Note - this is a bit hacky, but it is done because the \"notebook_saving.Notebook\"\n",
       "    // IPython event is triggered only after the cells have been serialised, which for\n",
       "    // our purposes (turning an active figure into a static one), is too late.\n",
       "    var cells = IPython.notebook.get_cells();\n",
       "    var ncells = cells.length;\n",
       "    for (var i = 0; i < ncells; i++) {\n",
       "        var cell = cells[i];\n",
       "        if (cell.cell_type === 'code') {\n",
       "            for (var j = 0; j < cell.output_area.outputs.length; j++) {\n",
       "                var data = cell.output_area.outputs[j];\n",
       "                if (data.data) {\n",
       "                    // IPython >= 3 moved mimebundle to data attribute of output\n",
       "                    data = data.data;\n",
       "                }\n",
       "                if (data['text/html'] === html_output) {\n",
       "                    return [cell, data, j];\n",
       "                }\n",
       "            }\n",
       "        }\n",
       "    }\n",
       "};\n",
       "\n",
       "// Register the function which deals with the matplotlib target/channel.\n",
       "// The kernel may be null if the page has been refreshed.\n",
       "if (IPython.notebook.kernel !== null) {\n",
       "    IPython.notebook.kernel.comm_manager.register_target(\n",
       "        'matplotlib',\n",
       "        mpl.mpl_figure_comm\n",
       "    );\n",
       "}\n"
      ],
      "text/plain": [
       "<IPython.core.display.Javascript object>"
      ]
     },
     "metadata": {},
     "output_type": "display_data"
    },
    {
     "data": {
      "text/html": [
       "<img src=\"data:image/png;base64,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\" width=\"640\">"
      ],
      "text/plain": [
       "<IPython.core.display.HTML object>"
      ]
     },
     "metadata": {},
     "output_type": "display_data"
    },
    {
     "data": {
      "text/plain": [
       "(18331.0, 18444.0)"
      ]
     },
     "execution_count": 22,
     "metadata": {},
     "output_type": "execute_result"
    }
   ],
   "source": [
    "states = [['H_in']]\n",
    "end_date = '2020-07-01'\n",
    "data=[timeseries[start_date:end_ramp].values]\n",
    "\n",
    "fig,ax=plt.subplots()\n",
    "for i in range(10):\n",
    "    idx,model.parameters['beta'] = random.choice(list(enumerate(samples_dict['beta'])))\n",
    "    idx,model.parameters['l'] = random.choice(list(enumerate(samples_dict['l'])))\n",
    "    model.parameters['tau'] = samples_dict['tau'][idx]\n",
    "    model.parameters['policy_time'] = samples_dict['warmup']\n",
    "    model.parameters['prevention'] = samples_dict['prevention'][idx]\n",
    "    y_model = model.sim(time=end_date, excess_time=samples_dict['warmup'], start_date=start_date)\n",
    "    ax = plot_fit(y_model,data,start_date,samples_dict['warmup'],states,end_date=end_date,with_ints=False,ax=ax,plt_kwargs={'color':'blue','linewidth': 2,'alpha': 0.05})\n",
    "\n",
    "data_after_calib = timeseries[pd.to_datetime(end_ramp)+pd.to_timedelta('1d'):end_date]\n",
    "plt.scatter(data_after_calib.index, data_after_calib.values, marker='o',color='red',linestyle='None',facecolors='none')\n",
    "legend_text=['daily \\nhospitalizations']\n",
    "ax.set_xlim('2020-03-10', '2020-07-01')\n",
    "# fig.savefig(fig_path+spatial_unit+'.pdf',\n",
    "#             bbox_inches='tight', dpi=600)"
   ]
  },
  {
   "cell_type": "markdown",
   "metadata": {},
   "source": [
    "# Step-by-step calibration per month"
   ]
  },
  {
   "cell_type": "markdown",
   "metadata": {},
   "source": [
    "## Simulation until 1 July"
   ]
  },
  {
   "cell_type": "code",
   "execution_count": 23,
   "metadata": {
    "ExecuteTime": {
     "end_time": "2020-11-02T15:41:26.221465Z",
     "start_time": "2020-11-02T15:41:25.998381Z"
    }
   },
   "outputs": [],
   "source": [
    "# Load the dictionary containing the posterior parameter distributions obtained from calibrating the model to Belgian hospitalization data\n",
    "with open('../data/interim/model_parameters/provinces/Luik_wave1_1000steps_2020-10-28.json', 'r') as fp:\n",
    "    samples_dict_wave1 = json.load(fp)"
   ]
  },
  {
   "cell_type": "code",
   "execution_count": 25,
   "metadata": {
    "ExecuteTime": {
     "end_time": "2020-11-02T15:41:59.106058Z",
     "start_time": "2020-11-02T15:41:59.067059Z"
    }
   },
   "outputs": [
    {
     "ename": "KeyError",
     "evalue": "'policy_time'",
     "output_type": "error",
     "traceback": [
      "\u001b[0;31m---------------------------------------------------------------------------\u001b[0m",
      "\u001b[0;31mKeyError\u001b[0m                                  Traceback (most recent call last)",
      "\u001b[0;32m<ipython-input-25-7ddc670c72d5>\u001b[0m in \u001b[0;36m<module>\u001b[0;34m\u001b[0m\n\u001b[1;32m      1\u001b[0m \u001b[0;31m# Update this parameter here, the rest is updated by draw_sample_COVID19_SEIRD\u001b[0m\u001b[0;34m\u001b[0m\u001b[0;34m\u001b[0m\u001b[0;34m\u001b[0m\u001b[0m\n\u001b[0;32m----> 2\u001b[0;31m \u001b[0mmodel\u001b[0m\u001b[0;34m.\u001b[0m\u001b[0mparameters\u001b[0m\u001b[0;34m[\u001b[0m\u001b[0;34m'policy_time'\u001b[0m\u001b[0;34m]\u001b[0m \u001b[0;34m=\u001b[0m \u001b[0msamples_dict_wave1\u001b[0m\u001b[0;34m[\u001b[0m\u001b[0;34m'policy_time'\u001b[0m\u001b[0;34m]\u001b[0m\u001b[0;34m\u001b[0m\u001b[0;34m\u001b[0m\u001b[0m\n\u001b[0m",
      "\u001b[0;31mKeyError\u001b[0m: 'policy_time'"
     ]
    }
   ],
   "source": [
    "# Update this parameter here, the rest is updated by draw_sample_COVID19_SEIRD\n",
    "model.parameters['policy_time'] = samples_dict_wave1['policy_time']"
   ]
  },
  {
   "cell_type": "code",
   "execution_count": 26,
   "metadata": {
    "ExecuteTime": {
     "end_time": "2020-11-02T15:42:28.185746Z",
     "start_time": "2020-11-02T15:41:59.249589Z"
    }
   },
   "outputs": [],
   "source": [
    "out_july = model.sim(time='2020-07-01', excess_time=samples_dict_wave1['lag_time'],start_date='2020-03-15',\n",
    "                   N=100, draw_fcn=draw_sample_COVID19_SEIRD,samples=samples_dict_wave1)\n",
    "states = out_july.isel(time=-1).mean(dim=\"draws\")\n",
    "initial_states_july1 = {key:states[key].values for key in initial_states.keys()}"
   ]
  },
  {
   "cell_type": "code",
   "execution_count": 32,
   "metadata": {},
   "outputs": [
    {
     "data": {
      "application/javascript": [
       "/* Put everything inside the global mpl namespace */\n",
       "/* global mpl */\n",
       "window.mpl = {};\n",
       "\n",
       "mpl.get_websocket_type = function () {\n",
       "    if (typeof WebSocket !== 'undefined') {\n",
       "        return WebSocket;\n",
       "    } else if (typeof MozWebSocket !== 'undefined') {\n",
       "        return MozWebSocket;\n",
       "    } else {\n",
       "        alert(\n",
       "            'Your browser does not have WebSocket support. ' +\n",
       "                'Please try Chrome, Safari or Firefox ≥ 6. ' +\n",
       "                'Firefox 4 and 5 are also supported but you ' +\n",
       "                'have to enable WebSockets in about:config.'\n",
       "        );\n",
       "    }\n",
       "};\n",
       "\n",
       "mpl.figure = function (figure_id, websocket, ondownload, parent_element) {\n",
       "    this.id = figure_id;\n",
       "\n",
       "    this.ws = websocket;\n",
       "\n",
       "    this.supports_binary = this.ws.binaryType !== undefined;\n",
       "\n",
       "    if (!this.supports_binary) {\n",
       "        var warnings = document.getElementById('mpl-warnings');\n",
       "        if (warnings) {\n",
       "            warnings.style.display = 'block';\n",
       "            warnings.textContent =\n",
       "                'This browser does not support binary websocket messages. ' +\n",
       "                'Performance may be slow.';\n",
       "        }\n",
       "    }\n",
       "\n",
       "    this.imageObj = new Image();\n",
       "\n",
       "    this.context = undefined;\n",
       "    this.message = undefined;\n",
       "    this.canvas = undefined;\n",
       "    this.rubberband_canvas = undefined;\n",
       "    this.rubberband_context = undefined;\n",
       "    this.format_dropdown = undefined;\n",
       "\n",
       "    this.image_mode = 'full';\n",
       "\n",
       "    this.root = document.createElement('div');\n",
       "    this.root.setAttribute('style', 'display: inline-block');\n",
       "    this._root_extra_style(this.root);\n",
       "\n",
       "    parent_element.appendChild(this.root);\n",
       "\n",
       "    this._init_header(this);\n",
       "    this._init_canvas(this);\n",
       "    this._init_toolbar(this);\n",
       "\n",
       "    var fig = this;\n",
       "\n",
       "    this.waiting = false;\n",
       "\n",
       "    this.ws.onopen = function () {\n",
       "        fig.send_message('supports_binary', { value: fig.supports_binary });\n",
       "        fig.send_message('send_image_mode', {});\n",
       "        if (mpl.ratio !== 1) {\n",
       "            fig.send_message('set_dpi_ratio', { dpi_ratio: mpl.ratio });\n",
       "        }\n",
       "        fig.send_message('refresh', {});\n",
       "    };\n",
       "\n",
       "    this.imageObj.onload = function () {\n",
       "        if (fig.image_mode === 'full') {\n",
       "            // Full images could contain transparency (where diff images\n",
       "            // almost always do), so we need to clear the canvas so that\n",
       "            // there is no ghosting.\n",
       "            fig.context.clearRect(0, 0, fig.canvas.width, fig.canvas.height);\n",
       "        }\n",
       "        fig.context.drawImage(fig.imageObj, 0, 0);\n",
       "    };\n",
       "\n",
       "    this.imageObj.onunload = function () {\n",
       "        fig.ws.close();\n",
       "    };\n",
       "\n",
       "    this.ws.onmessage = this._make_on_message_function(this);\n",
       "\n",
       "    this.ondownload = ondownload;\n",
       "};\n",
       "\n",
       "mpl.figure.prototype._init_header = function () {\n",
       "    var titlebar = document.createElement('div');\n",
       "    titlebar.classList =\n",
       "        'ui-dialog-titlebar ui-widget-header ui-corner-all ui-helper-clearfix';\n",
       "    var titletext = document.createElement('div');\n",
       "    titletext.classList = 'ui-dialog-title';\n",
       "    titletext.setAttribute(\n",
       "        'style',\n",
       "        'width: 100%; text-align: center; padding: 3px;'\n",
       "    );\n",
       "    titlebar.appendChild(titletext);\n",
       "    this.root.appendChild(titlebar);\n",
       "    this.header = titletext;\n",
       "};\n",
       "\n",
       "mpl.figure.prototype._canvas_extra_style = function (_canvas_div) {};\n",
       "\n",
       "mpl.figure.prototype._root_extra_style = function (_canvas_div) {};\n",
       "\n",
       "mpl.figure.prototype._init_canvas = function () {\n",
       "    var fig = this;\n",
       "\n",
       "    var canvas_div = (this.canvas_div = document.createElement('div'));\n",
       "    canvas_div.setAttribute(\n",
       "        'style',\n",
       "        'border: 1px solid #ddd;' +\n",
       "            'box-sizing: content-box;' +\n",
       "            'clear: both;' +\n",
       "            'min-height: 1px;' +\n",
       "            'min-width: 1px;' +\n",
       "            'outline: 0;' +\n",
       "            'overflow: hidden;' +\n",
       "            'position: relative;' +\n",
       "            'resize: both;'\n",
       "    );\n",
       "\n",
       "    function on_keyboard_event_closure(name) {\n",
       "        return function (event) {\n",
       "            return fig.key_event(event, name);\n",
       "        };\n",
       "    }\n",
       "\n",
       "    canvas_div.addEventListener(\n",
       "        'keydown',\n",
       "        on_keyboard_event_closure('key_press')\n",
       "    );\n",
       "    canvas_div.addEventListener(\n",
       "        'keyup',\n",
       "        on_keyboard_event_closure('key_release')\n",
       "    );\n",
       "\n",
       "    this._canvas_extra_style(canvas_div);\n",
       "    this.root.appendChild(canvas_div);\n",
       "\n",
       "    var canvas = (this.canvas = document.createElement('canvas'));\n",
       "    canvas.classList.add('mpl-canvas');\n",
       "    canvas.setAttribute('style', 'box-sizing: content-box;');\n",
       "\n",
       "    this.context = canvas.getContext('2d');\n",
       "\n",
       "    var backingStore =\n",
       "        this.context.backingStorePixelRatio ||\n",
       "        this.context.webkitBackingStorePixelRatio ||\n",
       "        this.context.mozBackingStorePixelRatio ||\n",
       "        this.context.msBackingStorePixelRatio ||\n",
       "        this.context.oBackingStorePixelRatio ||\n",
       "        this.context.backingStorePixelRatio ||\n",
       "        1;\n",
       "\n",
       "    mpl.ratio = (window.devicePixelRatio || 1) / backingStore;\n",
       "\n",
       "    var rubberband_canvas = (this.rubberband_canvas = document.createElement(\n",
       "        'canvas'\n",
       "    ));\n",
       "    rubberband_canvas.setAttribute(\n",
       "        'style',\n",
       "        'box-sizing: content-box; position: absolute; left: 0; top: 0; z-index: 1;'\n",
       "    );\n",
       "\n",
       "    var resizeObserver = new ResizeObserver(function (entries) {\n",
       "        var nentries = entries.length;\n",
       "        for (var i = 0; i < nentries; i++) {\n",
       "            var entry = entries[i];\n",
       "            var width, height;\n",
       "            if (entry.contentBoxSize) {\n",
       "                if (entry.contentBoxSize instanceof Array) {\n",
       "                    // Chrome 84 implements new version of spec.\n",
       "                    width = entry.contentBoxSize[0].inlineSize;\n",
       "                    height = entry.contentBoxSize[0].blockSize;\n",
       "                } else {\n",
       "                    // Firefox implements old version of spec.\n",
       "                    width = entry.contentBoxSize.inlineSize;\n",
       "                    height = entry.contentBoxSize.blockSize;\n",
       "                }\n",
       "            } else {\n",
       "                // Chrome <84 implements even older version of spec.\n",
       "                width = entry.contentRect.width;\n",
       "                height = entry.contentRect.height;\n",
       "            }\n",
       "\n",
       "            // Keep the size of the canvas and rubber band canvas in sync with\n",
       "            // the canvas container.\n",
       "            if (entry.devicePixelContentBoxSize) {\n",
       "                // Chrome 84 implements new version of spec.\n",
       "                canvas.setAttribute(\n",
       "                    'width',\n",
       "                    entry.devicePixelContentBoxSize[0].inlineSize\n",
       "                );\n",
       "                canvas.setAttribute(\n",
       "                    'height',\n",
       "                    entry.devicePixelContentBoxSize[0].blockSize\n",
       "                );\n",
       "            } else {\n",
       "                canvas.setAttribute('width', width * mpl.ratio);\n",
       "                canvas.setAttribute('height', height * mpl.ratio);\n",
       "            }\n",
       "            canvas.setAttribute(\n",
       "                'style',\n",
       "                'width: ' + width + 'px; height: ' + height + 'px;'\n",
       "            );\n",
       "\n",
       "            rubberband_canvas.setAttribute('width', width);\n",
       "            rubberband_canvas.setAttribute('height', height);\n",
       "\n",
       "            // And update the size in Python. We ignore the initial 0/0 size\n",
       "            // that occurs as the element is placed into the DOM, which should\n",
       "            // otherwise not happen due to the minimum size styling.\n",
       "            if (width != 0 && height != 0) {\n",
       "                fig.request_resize(width, height);\n",
       "            }\n",
       "        }\n",
       "    });\n",
       "    resizeObserver.observe(canvas_div);\n",
       "\n",
       "    function on_mouse_event_closure(name) {\n",
       "        return function (event) {\n",
       "            return fig.mouse_event(event, name);\n",
       "        };\n",
       "    }\n",
       "\n",
       "    rubberband_canvas.addEventListener(\n",
       "        'mousedown',\n",
       "        on_mouse_event_closure('button_press')\n",
       "    );\n",
       "    rubberband_canvas.addEventListener(\n",
       "        'mouseup',\n",
       "        on_mouse_event_closure('button_release')\n",
       "    );\n",
       "    // Throttle sequential mouse events to 1 every 20ms.\n",
       "    rubberband_canvas.addEventListener(\n",
       "        'mousemove',\n",
       "        on_mouse_event_closure('motion_notify')\n",
       "    );\n",
       "\n",
       "    rubberband_canvas.addEventListener(\n",
       "        'mouseenter',\n",
       "        on_mouse_event_closure('figure_enter')\n",
       "    );\n",
       "    rubberband_canvas.addEventListener(\n",
       "        'mouseleave',\n",
       "        on_mouse_event_closure('figure_leave')\n",
       "    );\n",
       "\n",
       "    canvas_div.addEventListener('wheel', function (event) {\n",
       "        if (event.deltaY < 0) {\n",
       "            event.step = 1;\n",
       "        } else {\n",
       "            event.step = -1;\n",
       "        }\n",
       "        on_mouse_event_closure('scroll')(event);\n",
       "    });\n",
       "\n",
       "    canvas_div.appendChild(canvas);\n",
       "    canvas_div.appendChild(rubberband_canvas);\n",
       "\n",
       "    this.rubberband_context = rubberband_canvas.getContext('2d');\n",
       "    this.rubberband_context.strokeStyle = '#000000';\n",
       "\n",
       "    this._resize_canvas = function (width, height, forward) {\n",
       "        if (forward) {\n",
       "            canvas_div.style.width = width + 'px';\n",
       "            canvas_div.style.height = height + 'px';\n",
       "        }\n",
       "    };\n",
       "\n",
       "    // Disable right mouse context menu.\n",
       "    this.rubberband_canvas.addEventListener('contextmenu', function (_e) {\n",
       "        event.preventDefault();\n",
       "        return false;\n",
       "    });\n",
       "\n",
       "    function set_focus() {\n",
       "        canvas.focus();\n",
       "        canvas_div.focus();\n",
       "    }\n",
       "\n",
       "    window.setTimeout(set_focus, 100);\n",
       "};\n",
       "\n",
       "mpl.figure.prototype._init_toolbar = function () {\n",
       "    var fig = this;\n",
       "\n",
       "    var toolbar = document.createElement('div');\n",
       "    toolbar.classList = 'mpl-toolbar';\n",
       "    this.root.appendChild(toolbar);\n",
       "\n",
       "    function on_click_closure(name) {\n",
       "        return function (_event) {\n",
       "            return fig.toolbar_button_onclick(name);\n",
       "        };\n",
       "    }\n",
       "\n",
       "    function on_mouseover_closure(tooltip) {\n",
       "        return function (event) {\n",
       "            if (!event.currentTarget.disabled) {\n",
       "                return fig.toolbar_button_onmouseover(tooltip);\n",
       "            }\n",
       "        };\n",
       "    }\n",
       "\n",
       "    fig.buttons = {};\n",
       "    var buttonGroup = document.createElement('div');\n",
       "    buttonGroup.classList = 'mpl-button-group';\n",
       "    for (var toolbar_ind in mpl.toolbar_items) {\n",
       "        var name = mpl.toolbar_items[toolbar_ind][0];\n",
       "        var tooltip = mpl.toolbar_items[toolbar_ind][1];\n",
       "        var image = mpl.toolbar_items[toolbar_ind][2];\n",
       "        var method_name = mpl.toolbar_items[toolbar_ind][3];\n",
       "\n",
       "        if (!name) {\n",
       "            /* Instead of a spacer, we start a new button group. */\n",
       "            if (buttonGroup.hasChildNodes()) {\n",
       "                toolbar.appendChild(buttonGroup);\n",
       "            }\n",
       "            buttonGroup = document.createElement('div');\n",
       "            buttonGroup.classList = 'mpl-button-group';\n",
       "            continue;\n",
       "        }\n",
       "\n",
       "        var button = (fig.buttons[name] = document.createElement('button'));\n",
       "        button.classList = 'mpl-widget';\n",
       "        button.setAttribute('role', 'button');\n",
       "        button.setAttribute('aria-disabled', 'false');\n",
       "        button.addEventListener('click', on_click_closure(method_name));\n",
       "        button.addEventListener('mouseover', on_mouseover_closure(tooltip));\n",
       "\n",
       "        var icon_img = document.createElement('img');\n",
       "        icon_img.src = '_images/' + image + '.png';\n",
       "        icon_img.srcset = '_images/' + image + '_large.png 2x';\n",
       "        icon_img.alt = tooltip;\n",
       "        button.appendChild(icon_img);\n",
       "\n",
       "        buttonGroup.appendChild(button);\n",
       "    }\n",
       "\n",
       "    if (buttonGroup.hasChildNodes()) {\n",
       "        toolbar.appendChild(buttonGroup);\n",
       "    }\n",
       "\n",
       "    var fmt_picker = document.createElement('select');\n",
       "    fmt_picker.classList = 'mpl-widget';\n",
       "    toolbar.appendChild(fmt_picker);\n",
       "    this.format_dropdown = fmt_picker;\n",
       "\n",
       "    for (var ind in mpl.extensions) {\n",
       "        var fmt = mpl.extensions[ind];\n",
       "        var option = document.createElement('option');\n",
       "        option.selected = fmt === mpl.default_extension;\n",
       "        option.innerHTML = fmt;\n",
       "        fmt_picker.appendChild(option);\n",
       "    }\n",
       "\n",
       "    var status_bar = document.createElement('span');\n",
       "    status_bar.classList = 'mpl-message';\n",
       "    toolbar.appendChild(status_bar);\n",
       "    this.message = status_bar;\n",
       "};\n",
       "\n",
       "mpl.figure.prototype.request_resize = function (x_pixels, y_pixels) {\n",
       "    // Request matplotlib to resize the figure. Matplotlib will then trigger a resize in the client,\n",
       "    // which will in turn request a refresh of the image.\n",
       "    this.send_message('resize', { width: x_pixels, height: y_pixels });\n",
       "};\n",
       "\n",
       "mpl.figure.prototype.send_message = function (type, properties) {\n",
       "    properties['type'] = type;\n",
       "    properties['figure_id'] = this.id;\n",
       "    this.ws.send(JSON.stringify(properties));\n",
       "};\n",
       "\n",
       "mpl.figure.prototype.send_draw_message = function () {\n",
       "    if (!this.waiting) {\n",
       "        this.waiting = true;\n",
       "        this.ws.send(JSON.stringify({ type: 'draw', figure_id: this.id }));\n",
       "    }\n",
       "};\n",
       "\n",
       "mpl.figure.prototype.handle_save = function (fig, _msg) {\n",
       "    var format_dropdown = fig.format_dropdown;\n",
       "    var format = format_dropdown.options[format_dropdown.selectedIndex].value;\n",
       "    fig.ondownload(fig, format);\n",
       "};\n",
       "\n",
       "mpl.figure.prototype.handle_resize = function (fig, msg) {\n",
       "    var size = msg['size'];\n",
       "    if (size[0] !== fig.canvas.width || size[1] !== fig.canvas.height) {\n",
       "        fig._resize_canvas(size[0], size[1], msg['forward']);\n",
       "        fig.send_message('refresh', {});\n",
       "    }\n",
       "};\n",
       "\n",
       "mpl.figure.prototype.handle_rubberband = function (fig, msg) {\n",
       "    var x0 = msg['x0'] / mpl.ratio;\n",
       "    var y0 = (fig.canvas.height - msg['y0']) / mpl.ratio;\n",
       "    var x1 = msg['x1'] / mpl.ratio;\n",
       "    var y1 = (fig.canvas.height - msg['y1']) / mpl.ratio;\n",
       "    x0 = Math.floor(x0) + 0.5;\n",
       "    y0 = Math.floor(y0) + 0.5;\n",
       "    x1 = Math.floor(x1) + 0.5;\n",
       "    y1 = Math.floor(y1) + 0.5;\n",
       "    var min_x = Math.min(x0, x1);\n",
       "    var min_y = Math.min(y0, y1);\n",
       "    var width = Math.abs(x1 - x0);\n",
       "    var height = Math.abs(y1 - y0);\n",
       "\n",
       "    fig.rubberband_context.clearRect(\n",
       "        0,\n",
       "        0,\n",
       "        fig.canvas.width / mpl.ratio,\n",
       "        fig.canvas.height / mpl.ratio\n",
       "    );\n",
       "\n",
       "    fig.rubberband_context.strokeRect(min_x, min_y, width, height);\n",
       "};\n",
       "\n",
       "mpl.figure.prototype.handle_figure_label = function (fig, msg) {\n",
       "    // Updates the figure title.\n",
       "    fig.header.textContent = msg['label'];\n",
       "};\n",
       "\n",
       "mpl.figure.prototype.handle_cursor = function (fig, msg) {\n",
       "    var cursor = msg['cursor'];\n",
       "    switch (cursor) {\n",
       "        case 0:\n",
       "            cursor = 'pointer';\n",
       "            break;\n",
       "        case 1:\n",
       "            cursor = 'default';\n",
       "            break;\n",
       "        case 2:\n",
       "            cursor = 'crosshair';\n",
       "            break;\n",
       "        case 3:\n",
       "            cursor = 'move';\n",
       "            break;\n",
       "    }\n",
       "    fig.rubberband_canvas.style.cursor = cursor;\n",
       "};\n",
       "\n",
       "mpl.figure.prototype.handle_message = function (fig, msg) {\n",
       "    fig.message.textContent = msg['message'];\n",
       "};\n",
       "\n",
       "mpl.figure.prototype.handle_draw = function (fig, _msg) {\n",
       "    // Request the server to send over a new figure.\n",
       "    fig.send_draw_message();\n",
       "};\n",
       "\n",
       "mpl.figure.prototype.handle_image_mode = function (fig, msg) {\n",
       "    fig.image_mode = msg['mode'];\n",
       "};\n",
       "\n",
       "mpl.figure.prototype.handle_history_buttons = function (fig, msg) {\n",
       "    for (var key in msg) {\n",
       "        if (!(key in fig.buttons)) {\n",
       "            continue;\n",
       "        }\n",
       "        fig.buttons[key].disabled = !msg[key];\n",
       "        fig.buttons[key].setAttribute('aria-disabled', !msg[key]);\n",
       "    }\n",
       "};\n",
       "\n",
       "mpl.figure.prototype.handle_navigate_mode = function (fig, msg) {\n",
       "    if (msg['mode'] === 'PAN') {\n",
       "        fig.buttons['Pan'].classList.add('active');\n",
       "        fig.buttons['Zoom'].classList.remove('active');\n",
       "    } else if (msg['mode'] === 'ZOOM') {\n",
       "        fig.buttons['Pan'].classList.remove('active');\n",
       "        fig.buttons['Zoom'].classList.add('active');\n",
       "    } else {\n",
       "        fig.buttons['Pan'].classList.remove('active');\n",
       "        fig.buttons['Zoom'].classList.remove('active');\n",
       "    }\n",
       "};\n",
       "\n",
       "mpl.figure.prototype.updated_canvas_event = function () {\n",
       "    // Called whenever the canvas gets updated.\n",
       "    this.send_message('ack', {});\n",
       "};\n",
       "\n",
       "// A function to construct a web socket function for onmessage handling.\n",
       "// Called in the figure constructor.\n",
       "mpl.figure.prototype._make_on_message_function = function (fig) {\n",
       "    return function socket_on_message(evt) {\n",
       "        if (evt.data instanceof Blob) {\n",
       "            /* FIXME: We get \"Resource interpreted as Image but\n",
       "             * transferred with MIME type text/plain:\" errors on\n",
       "             * Chrome.  But how to set the MIME type?  It doesn't seem\n",
       "             * to be part of the websocket stream */\n",
       "            evt.data.type = 'image/png';\n",
       "\n",
       "            /* Free the memory for the previous frames */\n",
       "            if (fig.imageObj.src) {\n",
       "                (window.URL || window.webkitURL).revokeObjectURL(\n",
       "                    fig.imageObj.src\n",
       "                );\n",
       "            }\n",
       "\n",
       "            fig.imageObj.src = (window.URL || window.webkitURL).createObjectURL(\n",
       "                evt.data\n",
       "            );\n",
       "            fig.updated_canvas_event();\n",
       "            fig.waiting = false;\n",
       "            return;\n",
       "        } else if (\n",
       "            typeof evt.data === 'string' &&\n",
       "            evt.data.slice(0, 21) === 'data:image/png;base64'\n",
       "        ) {\n",
       "            fig.imageObj.src = evt.data;\n",
       "            fig.updated_canvas_event();\n",
       "            fig.waiting = false;\n",
       "            return;\n",
       "        }\n",
       "\n",
       "        var msg = JSON.parse(evt.data);\n",
       "        var msg_type = msg['type'];\n",
       "\n",
       "        // Call the  \"handle_{type}\" callback, which takes\n",
       "        // the figure and JSON message as its only arguments.\n",
       "        try {\n",
       "            var callback = fig['handle_' + msg_type];\n",
       "        } catch (e) {\n",
       "            console.log(\n",
       "                \"No handler for the '\" + msg_type + \"' message type: \",\n",
       "                msg\n",
       "            );\n",
       "            return;\n",
       "        }\n",
       "\n",
       "        if (callback) {\n",
       "            try {\n",
       "                // console.log(\"Handling '\" + msg_type + \"' message: \", msg);\n",
       "                callback(fig, msg);\n",
       "            } catch (e) {\n",
       "                console.log(\n",
       "                    \"Exception inside the 'handler_\" + msg_type + \"' callback:\",\n",
       "                    e,\n",
       "                    e.stack,\n",
       "                    msg\n",
       "                );\n",
       "            }\n",
       "        }\n",
       "    };\n",
       "};\n",
       "\n",
       "// from http://stackoverflow.com/questions/1114465/getting-mouse-location-in-canvas\n",
       "mpl.findpos = function (e) {\n",
       "    //this section is from http://www.quirksmode.org/js/events_properties.html\n",
       "    var targ;\n",
       "    if (!e) {\n",
       "        e = window.event;\n",
       "    }\n",
       "    if (e.target) {\n",
       "        targ = e.target;\n",
       "    } else if (e.srcElement) {\n",
       "        targ = e.srcElement;\n",
       "    }\n",
       "    if (targ.nodeType === 3) {\n",
       "        // defeat Safari bug\n",
       "        targ = targ.parentNode;\n",
       "    }\n",
       "\n",
       "    // pageX,Y are the mouse positions relative to the document\n",
       "    var boundingRect = targ.getBoundingClientRect();\n",
       "    var x = e.pageX - (boundingRect.left + document.body.scrollLeft);\n",
       "    var y = e.pageY - (boundingRect.top + document.body.scrollTop);\n",
       "\n",
       "    return { x: x, y: y };\n",
       "};\n",
       "\n",
       "/*\n",
       " * return a copy of an object with only non-object keys\n",
       " * we need this to avoid circular references\n",
       " * http://stackoverflow.com/a/24161582/3208463\n",
       " */\n",
       "function simpleKeys(original) {\n",
       "    return Object.keys(original).reduce(function (obj, key) {\n",
       "        if (typeof original[key] !== 'object') {\n",
       "            obj[key] = original[key];\n",
       "        }\n",
       "        return obj;\n",
       "    }, {});\n",
       "}\n",
       "\n",
       "mpl.figure.prototype.mouse_event = function (event, name) {\n",
       "    var canvas_pos = mpl.findpos(event);\n",
       "\n",
       "    if (name === 'button_press') {\n",
       "        this.canvas.focus();\n",
       "        this.canvas_div.focus();\n",
       "    }\n",
       "\n",
       "    var x = canvas_pos.x * mpl.ratio;\n",
       "    var y = canvas_pos.y * mpl.ratio;\n",
       "\n",
       "    this.send_message(name, {\n",
       "        x: x,\n",
       "        y: y,\n",
       "        button: event.button,\n",
       "        step: event.step,\n",
       "        guiEvent: simpleKeys(event),\n",
       "    });\n",
       "\n",
       "    /* This prevents the web browser from automatically changing to\n",
       "     * the text insertion cursor when the button is pressed.  We want\n",
       "     * to control all of the cursor setting manually through the\n",
       "     * 'cursor' event from matplotlib */\n",
       "    event.preventDefault();\n",
       "    return false;\n",
       "};\n",
       "\n",
       "mpl.figure.prototype._key_event_extra = function (_event, _name) {\n",
       "    // Handle any extra behaviour associated with a key event\n",
       "};\n",
       "\n",
       "mpl.figure.prototype.key_event = function (event, name) {\n",
       "    // Prevent repeat events\n",
       "    if (name === 'key_press') {\n",
       "        if (event.which === this._key) {\n",
       "            return;\n",
       "        } else {\n",
       "            this._key = event.which;\n",
       "        }\n",
       "    }\n",
       "    if (name === 'key_release') {\n",
       "        this._key = null;\n",
       "    }\n",
       "\n",
       "    var value = '';\n",
       "    if (event.ctrlKey && event.which !== 17) {\n",
       "        value += 'ctrl+';\n",
       "    }\n",
       "    if (event.altKey && event.which !== 18) {\n",
       "        value += 'alt+';\n",
       "    }\n",
       "    if (event.shiftKey && event.which !== 16) {\n",
       "        value += 'shift+';\n",
       "    }\n",
       "\n",
       "    value += 'k';\n",
       "    value += event.which.toString();\n",
       "\n",
       "    this._key_event_extra(event, name);\n",
       "\n",
       "    this.send_message(name, { key: value, guiEvent: simpleKeys(event) });\n",
       "    return false;\n",
       "};\n",
       "\n",
       "mpl.figure.prototype.toolbar_button_onclick = function (name) {\n",
       "    if (name === 'download') {\n",
       "        this.handle_save(this, null);\n",
       "    } else {\n",
       "        this.send_message('toolbar_button', { name: name });\n",
       "    }\n",
       "};\n",
       "\n",
       "mpl.figure.prototype.toolbar_button_onmouseover = function (tooltip) {\n",
       "    this.message.textContent = tooltip;\n",
       "};\n",
       "mpl.toolbar_items = [[\"Home\", \"Reset original view\", \"fa fa-home icon-home\", \"home\"], [\"Back\", \"Back to previous view\", \"fa fa-arrow-left icon-arrow-left\", \"back\"], [\"Forward\", \"Forward to next view\", \"fa fa-arrow-right icon-arrow-right\", \"forward\"], [\"\", \"\", \"\", \"\"], [\"Pan\", \"Left button pans, Right button zooms\\nx/y fixes axis, CTRL fixes aspect\", \"fa fa-arrows icon-move\", \"pan\"], [\"Zoom\", \"Zoom to rectangle\\nx/y fixes axis, CTRL fixes aspect\", \"fa fa-square-o icon-check-empty\", \"zoom\"], [\"\", \"\", \"\", \"\"], [\"Download\", \"Download plot\", \"fa fa-floppy-o icon-save\", \"download\"]];\n",
       "\n",
       "mpl.extensions = [\"eps\", \"jpeg\", \"pdf\", \"png\", \"ps\", \"raw\", \"svg\", \"tif\"];\n",
       "\n",
       "mpl.default_extension = \"png\";/* global mpl */\n",
       "\n",
       "var comm_websocket_adapter = function (comm) {\n",
       "    // Create a \"websocket\"-like object which calls the given IPython comm\n",
       "    // object with the appropriate methods. Currently this is a non binary\n",
       "    // socket, so there is still some room for performance tuning.\n",
       "    var ws = {};\n",
       "\n",
       "    ws.close = function () {\n",
       "        comm.close();\n",
       "    };\n",
       "    ws.send = function (m) {\n",
       "        //console.log('sending', m);\n",
       "        comm.send(m);\n",
       "    };\n",
       "    // Register the callback with on_msg.\n",
       "    comm.on_msg(function (msg) {\n",
       "        //console.log('receiving', msg['content']['data'], msg);\n",
       "        // Pass the mpl event to the overridden (by mpl) onmessage function.\n",
       "        ws.onmessage(msg['content']['data']);\n",
       "    });\n",
       "    return ws;\n",
       "};\n",
       "\n",
       "mpl.mpl_figure_comm = function (comm, msg) {\n",
       "    // This is the function which gets called when the mpl process\n",
       "    // starts-up an IPython Comm through the \"matplotlib\" channel.\n",
       "\n",
       "    var id = msg.content.data.id;\n",
       "    // Get hold of the div created by the display call when the Comm\n",
       "    // socket was opened in Python.\n",
       "    var element = document.getElementById(id);\n",
       "    var ws_proxy = comm_websocket_adapter(comm);\n",
       "\n",
       "    function ondownload(figure, _format) {\n",
       "        window.open(figure.canvas.toDataURL());\n",
       "    }\n",
       "\n",
       "    var fig = new mpl.figure(id, ws_proxy, ondownload, element);\n",
       "\n",
       "    // Call onopen now - mpl needs it, as it is assuming we've passed it a real\n",
       "    // web socket which is closed, not our websocket->open comm proxy.\n",
       "    ws_proxy.onopen();\n",
       "\n",
       "    fig.parent_element = element;\n",
       "    fig.cell_info = mpl.find_output_cell(\"<div id='\" + id + \"'></div>\");\n",
       "    if (!fig.cell_info) {\n",
       "        console.error('Failed to find cell for figure', id, fig);\n",
       "        return;\n",
       "    }\n",
       "};\n",
       "\n",
       "mpl.figure.prototype.handle_close = function (fig, msg) {\n",
       "    var width = fig.canvas.width / mpl.ratio;\n",
       "    fig.root.removeEventListener('remove', this._remove_fig_handler);\n",
       "\n",
       "    // Update the output cell to use the data from the current canvas.\n",
       "    fig.push_to_output();\n",
       "    var dataURL = fig.canvas.toDataURL();\n",
       "    // Re-enable the keyboard manager in IPython - without this line, in FF,\n",
       "    // the notebook keyboard shortcuts fail.\n",
       "    IPython.keyboard_manager.enable();\n",
       "    fig.parent_element.innerHTML =\n",
       "        '<img src=\"' + dataURL + '\" width=\"' + width + '\">';\n",
       "    fig.close_ws(fig, msg);\n",
       "};\n",
       "\n",
       "mpl.figure.prototype.close_ws = function (fig, msg) {\n",
       "    fig.send_message('closing', msg);\n",
       "    // fig.ws.close()\n",
       "};\n",
       "\n",
       "mpl.figure.prototype.push_to_output = function (_remove_interactive) {\n",
       "    // Turn the data on the canvas into data in the output cell.\n",
       "    var width = this.canvas.width / mpl.ratio;\n",
       "    var dataURL = this.canvas.toDataURL();\n",
       "    this.cell_info[1]['text/html'] =\n",
       "        '<img src=\"' + dataURL + '\" width=\"' + width + '\">';\n",
       "};\n",
       "\n",
       "mpl.figure.prototype.updated_canvas_event = function () {\n",
       "    // Tell IPython that the notebook contents must change.\n",
       "    IPython.notebook.set_dirty(true);\n",
       "    this.send_message('ack', {});\n",
       "    var fig = this;\n",
       "    // Wait a second, then push the new image to the DOM so\n",
       "    // that it is saved nicely (might be nice to debounce this).\n",
       "    setTimeout(function () {\n",
       "        fig.push_to_output();\n",
       "    }, 1000);\n",
       "};\n",
       "\n",
       "mpl.figure.prototype._init_toolbar = function () {\n",
       "    var fig = this;\n",
       "\n",
       "    var toolbar = document.createElement('div');\n",
       "    toolbar.classList = 'btn-toolbar';\n",
       "    this.root.appendChild(toolbar);\n",
       "\n",
       "    function on_click_closure(name) {\n",
       "        return function (_event) {\n",
       "            return fig.toolbar_button_onclick(name);\n",
       "        };\n",
       "    }\n",
       "\n",
       "    function on_mouseover_closure(tooltip) {\n",
       "        return function (event) {\n",
       "            if (!event.currentTarget.disabled) {\n",
       "                return fig.toolbar_button_onmouseover(tooltip);\n",
       "            }\n",
       "        };\n",
       "    }\n",
       "\n",
       "    fig.buttons = {};\n",
       "    var buttonGroup = document.createElement('div');\n",
       "    buttonGroup.classList = 'btn-group';\n",
       "    var button;\n",
       "    for (var toolbar_ind in mpl.toolbar_items) {\n",
       "        var name = mpl.toolbar_items[toolbar_ind][0];\n",
       "        var tooltip = mpl.toolbar_items[toolbar_ind][1];\n",
       "        var image = mpl.toolbar_items[toolbar_ind][2];\n",
       "        var method_name = mpl.toolbar_items[toolbar_ind][3];\n",
       "\n",
       "        if (!name) {\n",
       "            /* Instead of a spacer, we start a new button group. */\n",
       "            if (buttonGroup.hasChildNodes()) {\n",
       "                toolbar.appendChild(buttonGroup);\n",
       "            }\n",
       "            buttonGroup = document.createElement('div');\n",
       "            buttonGroup.classList = 'btn-group';\n",
       "            continue;\n",
       "        }\n",
       "\n",
       "        button = fig.buttons[name] = document.createElement('button');\n",
       "        button.classList = 'btn btn-default';\n",
       "        button.href = '#';\n",
       "        button.title = name;\n",
       "        button.innerHTML = '<i class=\"fa ' + image + ' fa-lg\"></i>';\n",
       "        button.addEventListener('click', on_click_closure(method_name));\n",
       "        button.addEventListener('mouseover', on_mouseover_closure(tooltip));\n",
       "        buttonGroup.appendChild(button);\n",
       "    }\n",
       "\n",
       "    if (buttonGroup.hasChildNodes()) {\n",
       "        toolbar.appendChild(buttonGroup);\n",
       "    }\n",
       "\n",
       "    // Add the status bar.\n",
       "    var status_bar = document.createElement('span');\n",
       "    status_bar.classList = 'mpl-message pull-right';\n",
       "    toolbar.appendChild(status_bar);\n",
       "    this.message = status_bar;\n",
       "\n",
       "    // Add the close button to the window.\n",
       "    var buttongrp = document.createElement('div');\n",
       "    buttongrp.classList = 'btn-group inline pull-right';\n",
       "    button = document.createElement('button');\n",
       "    button.classList = 'btn btn-mini btn-primary';\n",
       "    button.href = '#';\n",
       "    button.title = 'Stop Interaction';\n",
       "    button.innerHTML = '<i class=\"fa fa-power-off icon-remove icon-large\"></i>';\n",
       "    button.addEventListener('click', function (_evt) {\n",
       "        fig.handle_close(fig, {});\n",
       "    });\n",
       "    button.addEventListener(\n",
       "        'mouseover',\n",
       "        on_mouseover_closure('Stop Interaction')\n",
       "    );\n",
       "    buttongrp.appendChild(button);\n",
       "    var titlebar = this.root.querySelector('.ui-dialog-titlebar');\n",
       "    titlebar.insertBefore(buttongrp, titlebar.firstChild);\n",
       "};\n",
       "\n",
       "mpl.figure.prototype._remove_fig_handler = function () {\n",
       "    this.close_ws(this, {});\n",
       "};\n",
       "\n",
       "mpl.figure.prototype._root_extra_style = function (el) {\n",
       "    el.style.boxSizing = 'content-box'; // override notebook setting of border-box.\n",
       "    el.addEventListener('remove', this._remove_fig_handler);\n",
       "};\n",
       "\n",
       "mpl.figure.prototype._canvas_extra_style = function (el) {\n",
       "    // this is important to make the div 'focusable\n",
       "    el.setAttribute('tabindex', 0);\n",
       "    // reach out to IPython and tell the keyboard manager to turn it's self\n",
       "    // off when our div gets focus\n",
       "\n",
       "    // location in version 3\n",
       "    if (IPython.notebook.keyboard_manager) {\n",
       "        IPython.notebook.keyboard_manager.register_events(el);\n",
       "    } else {\n",
       "        // location in version 2\n",
       "        IPython.keyboard_manager.register_events(el);\n",
       "    }\n",
       "};\n",
       "\n",
       "mpl.figure.prototype._key_event_extra = function (event, _name) {\n",
       "    var manager = IPython.notebook.keyboard_manager;\n",
       "    if (!manager) {\n",
       "        manager = IPython.keyboard_manager;\n",
       "    }\n",
       "\n",
       "    // Check for shift+enter\n",
       "    if (event.shiftKey && event.which === 13) {\n",
       "        this.canvas_div.blur();\n",
       "        // select the cell after this one\n",
       "        var index = IPython.notebook.find_cell_index(this.cell_info[0]);\n",
       "        IPython.notebook.select(index + 1);\n",
       "    }\n",
       "};\n",
       "\n",
       "mpl.figure.prototype.handle_save = function (fig, _msg) {\n",
       "    fig.ondownload(fig, null);\n",
       "};\n",
       "\n",
       "mpl.find_output_cell = function (html_output) {\n",
       "    // Return the cell and output element which can be found *uniquely* in the notebook.\n",
       "    // Note - this is a bit hacky, but it is done because the \"notebook_saving.Notebook\"\n",
       "    // IPython event is triggered only after the cells have been serialised, which for\n",
       "    // our purposes (turning an active figure into a static one), is too late.\n",
       "    var cells = IPython.notebook.get_cells();\n",
       "    var ncells = cells.length;\n",
       "    for (var i = 0; i < ncells; i++) {\n",
       "        var cell = cells[i];\n",
       "        if (cell.cell_type === 'code') {\n",
       "            for (var j = 0; j < cell.output_area.outputs.length; j++) {\n",
       "                var data = cell.output_area.outputs[j];\n",
       "                if (data.data) {\n",
       "                    // IPython >= 3 moved mimebundle to data attribute of output\n",
       "                    data = data.data;\n",
       "                }\n",
       "                if (data['text/html'] === html_output) {\n",
       "                    return [cell, data, j];\n",
       "                }\n",
       "            }\n",
       "        }\n",
       "    }\n",
       "};\n",
       "\n",
       "// Register the function which deals with the matplotlib target/channel.\n",
       "// The kernel may be null if the page has been refreshed.\n",
       "if (IPython.notebook.kernel !== null) {\n",
       "    IPython.notebook.kernel.comm_manager.register_target(\n",
       "        'matplotlib',\n",
       "        mpl.mpl_figure_comm\n",
       "    );\n",
       "}\n"
      ],
      "text/plain": [
       "<IPython.core.display.Javascript object>"
      ]
     },
     "metadata": {},
     "output_type": "display_data"
    },
    {
     "data": {
      "text/html": [
       "<img src=\"data:image/png;base64,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\" width=\"640\">"
      ],
      "text/plain": [
       "<IPython.core.display.HTML object>"
      ]
     },
     "metadata": {},
     "output_type": "display_data"
    },
    {
     "data": {
      "text/plain": [
       "[<matplotlib.lines.Line2D at 0x1473f51efd30>]"
      ]
     },
     "execution_count": 32,
     "metadata": {},
     "output_type": "execute_result"
    }
   ],
   "source": [
    "plt.figure()\n",
    "plt.plot(out_july['time'],out_july['H_tot'].mean(dim=\"draws\").sum(dim=\"Nc\"))"
   ]
  },
  {
   "cell_type": "code",
   "execution_count": 34,
   "metadata": {
    "ExecuteTime": {
     "end_time": "2020-10-30T16:56:35.394679Z",
     "start_time": "2020-10-30T16:56:35.351424Z"
    }
   },
   "outputs": [],
   "source": [
    "np.save('../data/interim/prediction_provinces/Luik_initial_states_july1.npy', initial_states_july1)"
   ]
  },
  {
   "cell_type": "markdown",
   "metadata": {},
   "source": [
    "## Calibration month July"
   ]
  },
  {
   "cell_type": "code",
   "execution_count": 35,
   "metadata": {
    "ExecuteTime": {
     "end_time": "2020-10-30T16:56:33.278642Z",
     "start_time": "2020-10-30T16:56:33.224878Z"
    }
   },
   "outputs": [],
   "source": [
    "initial_states_july1 = np.load('../data/interim/prediction_provinces/Luik_initial_states_july1.npy', allow_pickle=True).item()"
   ]
  },
  {
   "cell_type": "code",
   "execution_count": 36,
   "metadata": {
    "ExecuteTime": {
     "end_time": "2020-10-30T16:48:17.210748Z",
     "start_time": "2020-10-30T16:48:17.160083Z"
    }
   },
   "outputs": [],
   "source": [
    "# Second wave\n",
    "start_date = '2020-07-01'\n",
    "end_beta = '2020-08-01'"
   ]
  },
  {
   "cell_type": "code",
   "execution_count": 37,
   "metadata": {
    "ExecuteTime": {
     "end_time": "2020-10-30T16:48:18.968763Z",
     "start_time": "2020-10-30T16:48:18.919319Z"
    }
   },
   "outputs": [
    {
     "data": {
      "text/plain": [
       "32"
      ]
     },
     "execution_count": 37,
     "metadata": {},
     "output_type": "execute_result"
    }
   ],
   "source": [
    "len(Luik_ts.loc[start_date:end_beta])"
   ]
  },
  {
   "cell_type": "code",
   "execution_count": 38,
   "metadata": {
    "ExecuteTime": {
     "end_time": "2020-10-30T16:48:20.509851Z",
     "start_time": "2020-10-30T16:48:20.188149Z"
    }
   },
   "outputs": [],
   "source": [
    "# Load the parameters using `get_COVID19_SEIRD_parameters()`.\n",
    "params = model_parameters.get_COVID19_SEIRD_parameters()\n",
    "#model_sept = models.COVID19_SEIRD(initial_states_sept, params)\n",
    "model_july = models.COVID19_SEIRD(initial_states_july1, params)"
   ]
  },
  {
   "cell_type": "code",
   "execution_count": 39,
   "metadata": {
    "ExecuteTime": {
     "end_time": "2020-10-30T16:48:20.699738Z",
     "start_time": "2020-10-30T16:48:20.663234Z"
    }
   },
   "outputs": [],
   "source": [
    "# function parameters \n",
    "timeseries = Luik_ts['NEW_IN']\n",
    "spatial_unit = 'Luik_July'"
   ]
  },
  {
   "cell_type": "code",
   "execution_count": 40,
   "metadata": {
    "ExecuteTime": {
     "end_time": "2020-10-30T16:48:22.470225Z",
     "start_time": "2020-10-30T16:48:22.432509Z"
    }
   },
   "outputs": [],
   "source": [
    "beta_init = np.mean(samples_dict_wave1['beta'])\n",
    "sigma_data_init = np.mean(samples_dict_wave1['sigma_data'])"
   ]
  },
  {
   "cell_type": "code",
   "execution_count": 41,
   "metadata": {
    "ExecuteTime": {
     "end_time": "2020-10-30T16:51:21.133944Z",
     "start_time": "2020-10-30T16:48:26.896155Z"
    },
    "scrolled": true
   },
   "outputs": [
    {
     "name": "stderr",
     "output_type": "stream",
     "text": [
      "100%|██████████| 100/100 [00:05<00:00, 17.84it/s]\n"
     ]
    },
    {
     "name": "stdout",
     "output_type": "stream",
     "text": [
      "Calibrating beta. Warning: The chain is shorter than 50 times the integrated autocorrelation time for 4 parameter(s). Use this estimate with caution and run a longer chain!\n"
     ]
    }
   ],
   "source": [
    "samples_dict = full_calibration_wave2(model_july, timeseries, spatial_unit, start_date, end_beta, \n",
    "                                      beta_init, sigma_data_init, None, None,\n",
    "                                      fig_path=fig_path, samples_path=samples_path,\n",
    "                                      initN=initN, Nc_total=Nc_total,steps_mcmc=100,discard=50)"
   ]
  },
  {
   "cell_type": "code",
   "execution_count": 42,
   "metadata": {},
   "outputs": [
    {
     "data": {
      "text/plain": [
       "dict_keys(['warmup', 'beta', 'calibration_data', 'start_date', 'end_beta', 'steps_mcmc', 'discard', 'R0', 'R0_stratified_dict'])"
      ]
     },
     "execution_count": 42,
     "metadata": {},
     "output_type": "execute_result"
    }
   ],
   "source": [
    "samples_dict.keys()"
   ]
  },
  {
   "cell_type": "code",
   "execution_count": null,
   "metadata": {
    "ExecuteTime": {
     "end_time": "2020-10-30T16:52:49.951381Z",
     "start_time": "2020-10-30T16:52:49.843952Z"
    },
    "scrolled": false
   },
   "outputs": [],
   "source": [
    "fig,ax = plt.subplots(figsize=(4,4))\n",
    "pd.Series(samples_dict['beta']).hist(ax=ax)"
   ]
  },
  {
   "cell_type": "code",
   "execution_count": null,
   "metadata": {
    "ExecuteTime": {
     "end_time": "2020-10-30T16:55:10.441581Z",
     "start_time": "2020-10-30T16:54:47.961115Z"
    }
   },
   "outputs": [],
   "source": [
    "states = [['H_in']]\n",
    "end_date = end_beta\n",
    "data=[timeseries[start_date:end_beta].values]\n",
    "\n",
    "fig,ax=plt.subplots(figsize=(8,8))\n",
    "for i in range(200):\n",
    "    idx,model_july.parameters['beta'] = random.choice(list(enumerate(samples_dict['beta'])))\n",
    "    y_model = model_july.sim(time=end_date, excess_time=0, start_date=start_date)\n",
    "    ax = plot_fit(y_model,data,start_date,lag_time=0,states=states,end_date=end_date,\n",
    "                  with_ints=False,ax=ax,plt_kwargs={'color':'blue','linewidth': 2,'alpha': 0.05})\n",
    "plt.setp(plt.gca().xaxis.get_majorticklabels(),'rotation', 0)\n",
    "#data_after_calib = timeseries[pd.to_datetime(end_ramp)+pd.to_timedelta('1d'):end_date]\n",
    "#plt.scatter(data_after_calib.index, data_after_calib.values, marker='o',color='red',linestyle='None',facecolors='none')\n",
    "legend_text=['daily \\nhospitalizations']\n",
    "ax.set_xlim(start_date, end_date)\n",
    "ax.set_ylabel('daily hospitalizations')\n",
    "fig.savefig(fig_path+spatial_unit+'.pdf',\n",
    "            bbox_inches='tight', dpi=600)"
   ]
  },
  {
   "cell_type": "markdown",
   "metadata": {},
   "source": [
    "## Simulation until 1 August"
   ]
  },
  {
   "cell_type": "code",
   "execution_count": null,
   "metadata": {
    "ExecuteTime": {
     "end_time": "2020-10-30T16:57:18.704357Z",
     "start_time": "2020-10-30T16:57:18.651429Z"
    }
   },
   "outputs": [],
   "source": [
    "# Load the dictionary containing the posterior parameter distributions obtained from calibrating the model to Belgian hospitalization data\n",
    "with open('../data/interim/model_parameters/provinces/Luik_July_2020-10-30.json', 'r') as fp:\n",
    "    samples_dict_july = json.load(fp)"
   ]
  },
  {
   "cell_type": "code",
   "execution_count": null,
   "metadata": {
    "ExecuteTime": {
     "end_time": "2020-10-30T16:46:49.392786Z",
     "start_time": "2020-10-30T16:46:49.356002Z"
    }
   },
   "outputs": [],
   "source": [
    "# Update this parameter here, the rest is updated by draw_sample_COVID19_SEIRD\n",
    "# model.parameters['policy_time'] = samples_dict_wave1['lag_time']"
   ]
  },
  {
   "cell_type": "code",
   "execution_count": null,
   "metadata": {
    "ExecuteTime": {
     "end_time": "2020-10-30T17:01:08.718045Z",
     "start_time": "2020-10-30T17:01:03.129460Z"
    }
   },
   "outputs": [],
   "source": [
    "out_aug = model_july.sim(time='2020-08-01', excess_time=0,start_date='2020-07-01',\n",
    "                   N=100, draw_fcn=draw_sample_beta_COVID19_SEIRD,samples=samples_dict_july)\n",
    "states = out_aug.isel(time=-1).mean(dim=\"draws\")\n",
    "initial_states_aug1 = {key:states[key].values for key in initial_states.keys()}"
   ]
  },
  {
   "cell_type": "code",
   "execution_count": null,
   "metadata": {
    "ExecuteTime": {
     "end_time": "2020-10-30T17:01:31.713350Z",
     "start_time": "2020-10-30T17:01:31.672096Z"
    }
   },
   "outputs": [],
   "source": [
    "np.save('../data/interim/prediction_provinces/Luik_initial_states_aug1.npy', initial_states_aug1)"
   ]
  },
  {
   "cell_type": "markdown",
   "metadata": {},
   "source": [
    "## Calibration month August"
   ]
  },
  {
   "cell_type": "code",
   "execution_count": null,
   "metadata": {
    "ExecuteTime": {
     "end_time": "2020-10-30T17:02:03.014165Z",
     "start_time": "2020-10-30T17:02:02.815531Z"
    }
   },
   "outputs": [],
   "source": [
    "initial_states_aug1 = np.load('../data/interim/prediction_provinces/Luik_initial_states_aug1.npy', allow_pickle=True).item()"
   ]
  },
  {
   "cell_type": "code",
   "execution_count": null,
   "metadata": {
    "ExecuteTime": {
     "end_time": "2020-10-30T17:02:09.305370Z",
     "start_time": "2020-10-30T17:02:09.267629Z"
    }
   },
   "outputs": [],
   "source": [
    "# Second wave\n",
    "start_date = '2020-08-01'\n",
    "end_beta = '2020-09-01'"
   ]
  },
  {
   "cell_type": "code",
   "execution_count": null,
   "metadata": {
    "ExecuteTime": {
     "end_time": "2020-10-30T17:02:09.879670Z",
     "start_time": "2020-10-30T17:02:09.837543Z"
    }
   },
   "outputs": [],
   "source": [
    "len(Luik_ts.loc[start_date:end_beta])"
   ]
  },
  {
   "cell_type": "code",
   "execution_count": null,
   "metadata": {
    "ExecuteTime": {
     "end_time": "2020-10-30T17:02:20.592714Z",
     "start_time": "2020-10-30T17:02:20.259567Z"
    }
   },
   "outputs": [],
   "source": [
    "# Load the parameters using `get_COVID19_SEIRD_parameters()`.\n",
    "params = model_parameters.get_COVID19_SEIRD_parameters()\n",
    "#model_sept = models.COVID19_SEIRD(initial_states_sept, params)\n",
    "model_aug = models.COVID19_SEIRD(initial_states_aug1, params)"
   ]
  },
  {
   "cell_type": "code",
   "execution_count": null,
   "metadata": {
    "ExecuteTime": {
     "end_time": "2020-10-30T17:02:24.887844Z",
     "start_time": "2020-10-30T17:02:24.845045Z"
    }
   },
   "outputs": [],
   "source": [
    "# function parameters \n",
    "timeseries = Luik_ts['NEW_IN']\n",
    "spatial_unit = 'Luik_Aug'"
   ]
  },
  {
   "cell_type": "code",
   "execution_count": null,
   "metadata": {
    "ExecuteTime": {
     "end_time": "2020-10-30T17:06:53.236522Z",
     "start_time": "2020-10-30T17:06:53.197798Z"
    }
   },
   "outputs": [],
   "source": [
    "beta_init = np.mean(samples_dict_july['beta'])\n",
    "sigma_data_init = np.mean(samples_dict_wave1['sigma_data'])"
   ]
  },
  {
   "cell_type": "code",
   "execution_count": null,
   "metadata": {
    "ExecuteTime": {
     "end_time": "2020-10-30T17:07:09.535256Z",
     "start_time": "2020-10-30T17:07:09.493727Z"
    }
   },
   "outputs": [],
   "source": [
    "mu_beta, std_beta = norm.fit(samples_dict_july['beta'])\n",
    "mu_sigma_data, std_sigma_data = norm.fit(samples_dict_wave1['sigma_data']) # should be on july!\n",
    "beta_norm_params = (mu_beta, std_beta)\n",
    "sigma_data_norm_params = (mu_sigma_data, std_sigma_data)"
   ]
  },
  {
   "cell_type": "code",
   "execution_count": null,
   "metadata": {
    "ExecuteTime": {
     "end_time": "2020-10-30T17:45:38.944138Z",
     "start_time": "2020-10-30T17:42:39.898370Z"
    }
   },
   "outputs": [],
   "source": [
    "samples_dict = full_calibration_wave2(model_aug, timeseries, spatial_unit, start_date, end_beta, \n",
    "                                      beta_init, sigma_data_init, None, None,\n",
    "                                      fig_path=fig_path, samples_path=samples_path,\n",
    "                                      initN=initN, Nc_total=Nc_total,steps_mcmc=1000)"
   ]
  },
  {
   "cell_type": "code",
   "execution_count": null,
   "metadata": {
    "ExecuteTime": {
     "end_time": "2020-10-30T17:45:56.766698Z",
     "start_time": "2020-10-30T17:45:56.509328Z"
    }
   },
   "outputs": [],
   "source": [
    "fig,ax = plt.subplots(figsize=(4,4))\n",
    "pd.Series(samples_dict['beta']).hist(ax=ax)"
   ]
  },
  {
   "cell_type": "code",
   "execution_count": null,
   "metadata": {
    "ExecuteTime": {
     "end_time": "2020-10-30T17:49:01.217041Z",
     "start_time": "2020-10-30T17:48:58.606651Z"
    }
   },
   "outputs": [],
   "source": [
    "## Deze herrunnen!\n",
    "states = [['H_in']]\n",
    "end_date = end_beta\n",
    "data=[timeseries[start_date:end_beta].values]\n",
    "\n",
    "fig,ax=plt.subplots(figsize=(8,8))\n",
    "for i in range(20):\n",
    "    idx,model_aug.parameters['beta'] = random.choice(list(enumerate(samples_dict_aug['beta'])))\n",
    "    y_model = model_aug.sim(time=end_date, excess_time=0, start_date=start_date)\n",
    "    ax = plot_fit(y_model,data,start_date,lag_time=0,states=states,end_date=end_date,\n",
    "                  with_ints=False,ax=ax,plt_kwargs={'color':'blue','linewidth': 2,'alpha': 0.05})\n",
    "plt.setp(plt.gca().xaxis.get_majorticklabels(),'rotation', 0)\n",
    "#data_after_calib = timeseries[pd.to_datetime(end_ramp)+pd.to_timedelta('1d'):end_date]\n",
    "#plt.scatter(data_after_calib.index, data_after_calib.values, marker='o',color='red',linestyle='None',facecolors='none')\n",
    "legend_text=['daily \\nhospitalizations']\n",
    "ax.set_xlim(start_date, end_date)\n",
    "ax.set_ylabel('daily hospitalizations')\n",
    "# fig.savefig(fig_path+spatial_unit+'.pdf',\n",
    "#             bbox_inches='tight', dpi=600)"
   ]
  },
  {
   "cell_type": "code",
   "execution_count": null,
   "metadata": {},
   "outputs": [],
   "source": []
  },
  {
   "cell_type": "markdown",
   "metadata": {},
   "source": [
    "## Simulation until 1 September"
   ]
  },
  {
   "cell_type": "code",
   "execution_count": null,
   "metadata": {
    "ExecuteTime": {
     "end_time": "2020-10-30T17:51:15.869769Z",
     "start_time": "2020-10-30T17:51:15.655962Z"
    }
   },
   "outputs": [],
   "source": [
    "# Load the dictionary containing the posterior parameter distributions obtained from calibrating the model to Belgian hospitalization data\n",
    "with open('../data/interim/model_parameters/provinces/Luik_Aug_2020-10-30.json', 'r') as fp:\n",
    "    samples_dict_aug = json.load(fp)"
   ]
  },
  {
   "cell_type": "code",
   "execution_count": null,
   "metadata": {
    "ExecuteTime": {
     "end_time": "2020-10-30T16:46:49.392786Z",
     "start_time": "2020-10-30T16:46:49.356002Z"
    }
   },
   "outputs": [],
   "source": [
    "# Update this parameter here, the rest is updated by draw_sample_COVID19_SEIRD\n",
    "# model.parameters['policy_time'] = samples_dict_wave1['lag_time']"
   ]
  },
  {
   "cell_type": "code",
   "execution_count": null,
   "metadata": {
    "ExecuteTime": {
     "end_time": "2020-10-30T17:51:24.928761Z",
     "start_time": "2020-10-30T17:51:19.336448Z"
    }
   },
   "outputs": [],
   "source": [
    "out_sept = model_aug.sim(time='2020-09-01', excess_time=0,start_date='2020-08-01',\n",
    "                   N=100, draw_fcn=draw_sample_beta_COVID19_SEIRD,samples=samples_dict_aug)\n",
    "states = out_sept.isel(time=-1).mean(dim=\"draws\")\n",
    "initial_states_sept1 = {key:states[key].values for key in initial_states.keys()}"
   ]
  },
  {
   "cell_type": "code",
   "execution_count": null,
   "metadata": {
    "ExecuteTime": {
     "end_time": "2020-10-30T17:51:33.711786Z",
     "start_time": "2020-10-30T17:51:33.673224Z"
    }
   },
   "outputs": [],
   "source": [
    "np.save('../data/interim/prediction_provinces/Luik_initial_states_sept1.npy', initial_states_sept1)"
   ]
  },
  {
   "cell_type": "code",
   "execution_count": null,
   "metadata": {
    "ExecuteTime": {
     "end_time": "2020-10-30T17:51:25.318521Z",
     "start_time": "2020-10-30T17:51:25.271583Z"
    }
   },
   "outputs": [],
   "source": [
    "initial_states_sept1"
   ]
  },
  {
   "cell_type": "markdown",
   "metadata": {},
   "source": [
    "## Calibration month September"
   ]
  },
  {
   "cell_type": "code",
   "execution_count": 33,
   "metadata": {
    "ExecuteTime": {
     "end_time": "2020-10-30T17:51:58.368440Z",
     "start_time": "2020-10-30T17:51:58.330641Z"
    }
   },
   "outputs": [
    {
     "ename": "FileNotFoundError",
     "evalue": "[Errno 2] No such file or directory: '../data/interim/prediction_provinces/Luik_initial_states_sept1.npy'",
     "output_type": "error",
     "traceback": [
      "\u001b[0;31m---------------------------------------------------------------------------\u001b[0m",
      "\u001b[0;31mFileNotFoundError\u001b[0m                         Traceback (most recent call last)",
      "\u001b[0;32m<ipython-input-33-18c11ffab39b>\u001b[0m in \u001b[0;36m<module>\u001b[0;34m\u001b[0m\n\u001b[0;32m----> 1\u001b[0;31m \u001b[0minitial_states_sept1\u001b[0m \u001b[0;34m=\u001b[0m \u001b[0mnp\u001b[0m\u001b[0;34m.\u001b[0m\u001b[0mload\u001b[0m\u001b[0;34m(\u001b[0m\u001b[0;34m'../data/interim/prediction_provinces/Luik_initial_states_sept1.npy'\u001b[0m\u001b[0;34m,\u001b[0m \u001b[0mallow_pickle\u001b[0m\u001b[0;34m=\u001b[0m\u001b[0;32mTrue\u001b[0m\u001b[0;34m)\u001b[0m\u001b[0;34m.\u001b[0m\u001b[0mitem\u001b[0m\u001b[0;34m(\u001b[0m\u001b[0;34m)\u001b[0m\u001b[0;34m\u001b[0m\u001b[0;34m\u001b[0m\u001b[0m\n\u001b[0m",
      "\u001b[0;32m~/anaconda3/envs/COVID_MODEL/lib/python3.8/site-packages/numpy/lib/npyio.py\u001b[0m in \u001b[0;36mload\u001b[0;34m(file, mmap_mode, allow_pickle, fix_imports, encoding)\u001b[0m\n\u001b[1;32m    426\u001b[0m         \u001b[0mown_fid\u001b[0m \u001b[0;34m=\u001b[0m \u001b[0;32mFalse\u001b[0m\u001b[0;34m\u001b[0m\u001b[0;34m\u001b[0m\u001b[0m\n\u001b[1;32m    427\u001b[0m     \u001b[0;32melse\u001b[0m\u001b[0;34m:\u001b[0m\u001b[0;34m\u001b[0m\u001b[0;34m\u001b[0m\u001b[0m\n\u001b[0;32m--> 428\u001b[0;31m         \u001b[0mfid\u001b[0m \u001b[0;34m=\u001b[0m \u001b[0mopen\u001b[0m\u001b[0;34m(\u001b[0m\u001b[0mos_fspath\u001b[0m\u001b[0;34m(\u001b[0m\u001b[0mfile\u001b[0m\u001b[0;34m)\u001b[0m\u001b[0;34m,\u001b[0m \u001b[0;34m\"rb\"\u001b[0m\u001b[0;34m)\u001b[0m\u001b[0;34m\u001b[0m\u001b[0;34m\u001b[0m\u001b[0m\n\u001b[0m\u001b[1;32m    429\u001b[0m         \u001b[0mown_fid\u001b[0m \u001b[0;34m=\u001b[0m \u001b[0;32mTrue\u001b[0m\u001b[0;34m\u001b[0m\u001b[0;34m\u001b[0m\u001b[0m\n\u001b[1;32m    430\u001b[0m \u001b[0;34m\u001b[0m\u001b[0m\n",
      "\u001b[0;31mFileNotFoundError\u001b[0m: [Errno 2] No such file or directory: '../data/interim/prediction_provinces/Luik_initial_states_sept1.npy'"
     ]
    }
   ],
   "source": [
    "initial_states_sept1 = np.load('../data/interim/prediction_provinces/Luik_initial_states_sept1.npy', allow_pickle=True).item()"
   ]
  },
  {
   "cell_type": "code",
   "execution_count": null,
   "metadata": {
    "ExecuteTime": {
     "end_time": "2020-10-30T17:52:06.817390Z",
     "start_time": "2020-10-30T17:52:06.780931Z"
    }
   },
   "outputs": [],
   "source": [
    "# Second wave\n",
    "start_date = '2020-09-01'\n",
    "end_beta = '2020-10-01'"
   ]
  },
  {
   "cell_type": "code",
   "execution_count": null,
   "metadata": {
    "ExecuteTime": {
     "end_time": "2020-10-30T17:52:08.496601Z",
     "start_time": "2020-10-30T17:52:08.455785Z"
    }
   },
   "outputs": [],
   "source": [
    "len(Luik_ts.loc[start_date:end_beta])"
   ]
  },
  {
   "cell_type": "code",
   "execution_count": null,
   "metadata": {
    "ExecuteTime": {
     "end_time": "2020-10-30T17:52:15.480377Z",
     "start_time": "2020-10-30T17:52:15.157707Z"
    }
   },
   "outputs": [],
   "source": [
    "# Load the parameters using `get_COVID19_SEIRD_parameters()`.\n",
    "params = model_parameters.get_COVID19_SEIRD_parameters()\n",
    "#model_sept = models.COVID19_SEIRD(initial_states_sept, params)\n",
    "model_sept = models.COVID19_SEIRD(initial_states_sept1, params)"
   ]
  },
  {
   "cell_type": "code",
   "execution_count": null,
   "metadata": {
    "ExecuteTime": {
     "end_time": "2020-10-30T17:52:18.721870Z",
     "start_time": "2020-10-30T17:52:18.524171Z"
    }
   },
   "outputs": [],
   "source": [
    "# function parameters \n",
    "timeseries = Luik_ts['NEW_IN']\n",
    "spatial_unit = 'Luik_Sept'"
   ]
  },
  {
   "cell_type": "code",
   "execution_count": null,
   "metadata": {
    "ExecuteTime": {
     "end_time": "2020-10-30T18:02:55.232222Z",
     "start_time": "2020-10-30T18:02:55.194458Z"
    }
   },
   "outputs": [],
   "source": [
    "beta_init = 0.03\n",
    "sigma_data_init = np.mean(samples_dict_wave1['sigma_data'])"
   ]
  },
  {
   "cell_type": "code",
   "execution_count": null,
   "metadata": {
    "ExecuteTime": {
     "end_time": "2020-10-30T17:52:31.456104Z",
     "start_time": "2020-10-30T17:52:31.416945Z"
    }
   },
   "outputs": [],
   "source": [
    "# mu_beta, std_beta = norm.fit(samples_dict_aug['beta'])\n",
    "# mu_sigma_data, std_sigma_data = norm.fit(samples_dict_wave1['sigma_data']) # should be on aug!\n",
    "# beta_norm_params = (mu_beta, std_beta)\n",
    "# sigma_data_norm_params = (mu_sigma_data, std_sigma_data)"
   ]
  },
  {
   "cell_type": "code",
   "execution_count": null,
   "metadata": {
    "ExecuteTime": {
     "end_time": "2020-10-30T18:06:18.300489Z",
     "start_time": "2020-10-30T18:02:59.457873Z"
    }
   },
   "outputs": [],
   "source": [
    "samples_dict = full_calibration_wave2(model_aug, timeseries, spatial_unit, start_date, end_beta, \n",
    "                                      beta_init, sigma_data_init, None, None,\n",
    "                                      fig_path=fig_path, samples_path=samples_path,\n",
    "                                      initN=initN, Nc_total=Nc_total,steps_mcmc=1000)"
   ]
  },
  {
   "cell_type": "code",
   "execution_count": null,
   "metadata": {
    "ExecuteTime": {
     "end_time": "2020-10-30T18:07:19.956638Z",
     "start_time": "2020-10-30T18:07:19.689726Z"
    }
   },
   "outputs": [],
   "source": [
    "fig,ax = plt.subplots(figsize=(4,4))\n",
    "pd.Series(samples_dict['beta']).hist(ax=ax)"
   ]
  },
  {
   "cell_type": "code",
   "execution_count": null,
   "metadata": {
    "ExecuteTime": {
     "end_time": "2020-10-30T18:07:28.841956Z",
     "start_time": "2020-10-30T18:07:25.461128Z"
    }
   },
   "outputs": [],
   "source": [
    "states = [['H_in']]\n",
    "end_date = end_beta\n",
    "data=[timeseries[start_date:end_beta].values]\n",
    "\n",
    "fig,ax=plt.subplots(figsize=(8,8))\n",
    "for i in range(20):\n",
    "    idx,model_sept.parameters['beta'] = random.choice(list(enumerate(samples_dict['beta'])))\n",
    "    y_model = model_sept.sim(time=end_date, excess_time=0, start_date=start_date)\n",
    "    ax = plot_fit(y_model,data,start_date,lag_time=0,states=states,end_date=end_date,\n",
    "                  with_ints=False,ax=ax,plt_kwargs={'color':'blue','linewidth': 2,'alpha': 0.05})\n",
    "plt.setp(plt.gca().xaxis.get_majorticklabels(),'rotation', 0)\n",
    "#data_after_calib = timeseries[pd.to_datetime(end_ramp)+pd.to_timedelta('1d'):end_date]\n",
    "#plt.scatter(data_after_calib.index, data_after_calib.values, marker='o',color='red',linestyle='None',facecolors='none')\n",
    "legend_text=['daily \\nhospitalizations']\n",
    "ax.set_xlim(start_date, end_date)\n",
    "ax.set_ylabel('daily hospitalizations')\n",
    "fig.savefig(fig_path+spatial_unit+'.pdf',\n",
    "            bbox_inches='tight', dpi=600)"
   ]
  },
  {
   "cell_type": "markdown",
   "metadata": {},
   "source": [
    "# Step-by-step per policy"
   ]
  },
  {
   "cell_type": "code",
   "execution_count": null,
   "metadata": {},
   "outputs": [],
   "source": []
  },
  {
   "cell_type": "code",
   "execution_count": null,
   "metadata": {},
   "outputs": [],
   "source": []
  },
  {
   "cell_type": "code",
   "execution_count": null,
   "metadata": {},
   "outputs": [],
   "source": []
  },
  {
   "cell_type": "code",
   "execution_count": null,
   "metadata": {},
   "outputs": [],
   "source": []
  },
  {
   "cell_type": "markdown",
   "metadata": {},
   "source": [
    "# Calibration on entire period"
   ]
  },
  {
   "cell_type": "code",
   "execution_count": null,
   "metadata": {
    "ExecuteTime": {
     "end_time": "2020-10-30T16:44:14.843919Z",
     "start_time": "2020-10-30T16:44:14.621688Z"
    }
   },
   "outputs": [],
   "source": [
    "# Load the dictionary containing the posterior parameter distributions obtained from calibrating the model to Belgian hospitalization data\n",
    "with open('../data/interim/model_parameters/provinces/Luik_wave1_1000steps_2020-10-28.json', 'r') as fp:\n",
    "    samples_dict_wave1 = json.load(fp)"
   ]
  },
  {
   "cell_type": "code",
   "execution_count": null,
   "metadata": {
    "ExecuteTime": {
     "end_time": "2020-10-30T16:45:37.460957Z",
     "start_time": "2020-10-30T16:45:37.262893Z"
    }
   },
   "outputs": [],
   "source": [
    "initial_states_aug = np.load('../data/interim/prediction_provinces/Luik_initial_states_aug.npy', allow_pickle=True).item()"
   ]
  },
  {
   "cell_type": "code",
   "execution_count": null,
   "metadata": {
    "ExecuteTime": {
     "end_time": "2020-10-30T16:44:15.309723Z",
     "start_time": "2020-10-30T16:44:15.273633Z"
    }
   },
   "outputs": [],
   "source": [
    "# Second wave\n",
    "start_date = '2020-08-01'\n",
    "end_beta = '2020-10-25'"
   ]
  },
  {
   "cell_type": "code",
   "execution_count": null,
   "metadata": {
    "ExecuteTime": {
     "end_time": "2020-10-30T16:44:15.991976Z",
     "start_time": "2020-10-30T16:44:15.950040Z"
    }
   },
   "outputs": [],
   "source": [
    "len(Luik_ts.loc[start_date:end_beta])"
   ]
  },
  {
   "cell_type": "code",
   "execution_count": null,
   "metadata": {
    "ExecuteTime": {
     "end_time": "2020-10-30T16:45:39.249929Z",
     "start_time": "2020-10-30T16:45:38.927522Z"
    }
   },
   "outputs": [],
   "source": [
    "# Load the parameters using `get_COVID19_SEIRD_parameters()`.\n",
    "params = model_parameters.get_COVID19_SEIRD_parameters()\n",
    "#model_sept = models.COVID19_SEIRD(initial_states_sept, params)\n",
    "model_aug = models.COVID19_SEIRD(initial_states_aug, params)"
   ]
  },
  {
   "cell_type": "code",
   "execution_count": null,
   "metadata": {
    "ExecuteTime": {
     "end_time": "2020-10-30T16:45:42.221862Z",
     "start_time": "2020-10-30T16:45:42.185330Z"
    }
   },
   "outputs": [],
   "source": [
    "# function parameters \n",
    "timeseries = Luik_ts['NEW_IN']\n",
    "spatial_unit = 'Luik_wave2_from_aug_NVD'\n"
   ]
  },
  {
   "cell_type": "code",
   "execution_count": null,
   "metadata": {
    "ExecuteTime": {
     "end_time": "2020-10-30T16:45:43.424521Z",
     "start_time": "2020-10-30T16:45:43.386749Z"
    }
   },
   "outputs": [],
   "source": [
    "mu_beta, std_beta = norm.fit(samples_dict_wave1['beta'])\n",
    "mu_sigma_data, std_sigma_data = norm.fit(samples_dict_wave1['beta'])"
   ]
  },
  {
   "cell_type": "code",
   "execution_count": null,
   "metadata": {
    "ExecuteTime": {
     "end_time": "2020-10-30T16:45:43.499159Z",
     "start_time": "2020-10-30T16:45:43.461809Z"
    }
   },
   "outputs": [],
   "source": [
    "beta_init = np.mean(samples_dict_wave1['beta'])\n",
    "sigma_data_init = np.mean(samples_dict_wave1['sigma_data'])\n",
    "beta_norm_params = (mu_beta, std_beta)\n",
    "sigma_data_norm_params = (mu_sigma_data, std_sigma_data)"
   ]
  },
  {
   "cell_type": "code",
   "execution_count": null,
   "metadata": {
    "ExecuteTime": {
     "start_time": "2020-10-30T16:45:57.123Z"
    },
    "scrolled": true
   },
   "outputs": [],
   "source": [
    "samples_dict = full_calibration_wave2(model_aug, timeseries, spatial_unit, start_date, end_beta, \n",
    "                                      beta_init, sigma_data_init, beta_norm_params,sigma_data_norm_params,\n",
    "                                      fig_path=fig_path, samples_path=samples_path,\n",
    "                                      initN=initN, Nc_total=Nc_total,steps_mcmc=500)"
   ]
  },
  {
   "cell_type": "code",
   "execution_count": null,
   "metadata": {
    "ExecuteTime": {
     "end_time": "2020-10-30T15:45:24.407966Z",
     "start_time": "2020-10-30T15:45:24.196743Z"
    }
   },
   "outputs": [],
   "source": [
    "# Load the dictionary containing the posterior parameter distributions obtained from calibrating the model to Belgian hospitalization data\n",
    "with open('../data/interim/model_parameters/provinces/Luik_wave2_from_aug_NVD_2020-10-30.json', 'r') as fp:\n",
    "    samples_dict = json.load(fp)\n"
   ]
  },
  {
   "cell_type": "code",
   "execution_count": null,
   "metadata": {
    "ExecuteTime": {
     "end_time": "2020-10-30T16:21:36.785703Z",
     "start_time": "2020-10-30T16:21:36.581443Z"
    }
   },
   "outputs": [],
   "source": [
    "pd.Series(samples_dict['beta']).describe()"
   ]
  },
  {
   "cell_type": "code",
   "execution_count": null,
   "metadata": {
    "ExecuteTime": {
     "end_time": "2020-10-30T15:45:55.789033Z",
     "start_time": "2020-10-30T15:45:38.264677Z"
    },
    "scrolled": false
   },
   "outputs": [],
   "source": [
    "states = [['H_in']]\n",
    "end_date = '2021-01-01' #end_beta\n",
    "data=[timeseries[start_date:end_beta].values]\n",
    "\n",
    "fig,ax=plt.subplots(figsize=(8,8))\n",
    "for i in range(20):\n",
    "    idx,model_aug.parameters['beta'] = random.choice(list(enumerate(samples_dict['beta'])))\n",
    "    y_model = model_aug.sim(time=end_date, excess_time=0, start_date=start_date)\n",
    "    ax = plot_fit(y_model,data,start_date,lag_time=0,states=states,end_date=end_date,\n",
    "                  with_ints=False,ax=ax,plt_kwargs={'color':'blue','linewidth': 2,'alpha': 0.05})\n",
    "plt.setp(plt.gca().xaxis.get_majorticklabels(),'rotation', 0)\n",
    "#data_after_calib = timeseries[pd.to_datetime(end_ramp)+pd.to_timedelta('1d'):end_date]\n",
    "#plt.scatter(data_after_calib.index, data_after_calib.values, marker='o',color='red',linestyle='None',facecolors='none')\n",
    "legend_text=['daily \\nhospitalizations']\n",
    "ax.set_xlim('2020-08-01', '2021-01-01')\n",
    "ax.set_ylabel('daily hospitalizations')\n",
    "# fig.savefig(fig_path+spatial_unit+'.pdf',\n",
    "#             bbox_inches='tight', dpi=600)"
   ]
  },
  {
   "cell_type": "code",
   "execution_count": null,
   "metadata": {
    "ExecuteTime": {
     "end_time": "2020-10-29T09:00:39.961180Z",
     "start_time": "2020-10-29T09:00:35.679844Z"
    }
   },
   "outputs": [],
   "source": [
    "fig.savefig(fig_path+spatial_unit+'.pdf',\n",
    "            bbox_inches='tight', dpi=600)"
   ]
  },
  {
   "cell_type": "markdown",
   "metadata": {},
   "source": [
    "# Calibration on increasing line"
   ]
  },
  {
   "cell_type": "markdown",
   "metadata": {},
   "source": [
    "## Simulation until 28 September"
   ]
  },
  {
   "cell_type": "code",
   "execution_count": null,
   "metadata": {
    "ExecuteTime": {
     "end_time": "2020-11-02T15:44:24.001235Z",
     "start_time": "2020-11-02T15:44:23.935429Z"
    }
   },
   "outputs": [],
   "source": [
    "# Load the dictionary containing the posterior parameter distributions obtained from calibrating the model to Belgian hospitalization data\n",
    "with open('../data/interim/model_parameters/provinces/Luik_wave1_1000steps_2020-10-28.json', 'r') as fp:\n",
    "    samples_dict_wave1 = json.load(fp)"
   ]
  },
  {
   "cell_type": "code",
   "execution_count": null,
   "metadata": {
    "ExecuteTime": {
     "end_time": "2020-11-02T15:44:24.291342Z",
     "start_time": "2020-11-02T15:44:24.243592Z"
    }
   },
   "outputs": [],
   "source": [
    "def policies_until_september(t,param,start_date,policy_time,policy1,policy2,policy3,policy4,policy5,\n",
    "                               policy6,policy7,policy8,policy9,policy10,l,tau,prevention):\n",
    "\n",
    "    tau_days = pd.to_timedelta(tau, unit='D')\n",
    "    l_days = pd.to_timedelta(l, unit='D')\n",
    "    t1 = pd.to_datetime('2020-05-04') # reopening industry\n",
    "    t2 = pd.to_datetime('2020-05-06') # merging of two bubbels\n",
    "    t3 = pd.to_datetime('2020-05-11') # reopening of businesses\n",
    "    t4 = pd.to_datetime('2020-05-18') # partial reopening schools\n",
    "    t5 = pd.to_datetime('2020-06-04') # reopening schools, bars, restaurants\n",
    "    t6 = pd.to_datetime('2020-07-01') # school holidays, gatherings 15 people, cultural event\n",
    "    t7 = pd.to_datetime('2020-07-31') # ?\n",
    "    t8 = pd.to_datetime('2020-07-31') # opening schools\n",
    "    \n",
    "    if t <= start_date + tau_days:\n",
    "        return policy1\n",
    "    elif start_date + tau_days < t <= start_date + tau_days + l_days:\n",
    "        return ramp_fun(policy1, policy2, t, tau_days, l, start_date)\n",
    "    elif start_date + tau_days + l_days < t <= t1: \n",
    "        return prevention*policy2\n",
    "    elif t1 < t <= t2:\n",
    "        return prevention*policy3\n",
    "    elif t2 < t <= t3:\n",
    "        return prevention*policy4\n",
    "    elif t3 < t <= t4:\n",
    "        return prevention*policy5\n",
    "    elif t4 < t <= t5:\n",
    "        return prevention*policy6\n",
    "    elif t5 < t <= t6:\n",
    "        return prevention*policy7\n",
    "    elif t6 < t <= t7:\n",
    "        return prevention*policy8\n",
    "    elif t7 < t <= t8:\n",
    "        return prevention*policy9\n",
    "    elif t8 < t:\n",
    "        return prevention*policy10"
   ]
  },
  {
   "cell_type": "code",
   "execution_count": null,
   "metadata": {
    "ExecuteTime": {
     "end_time": "2020-11-02T15:44:26.722906Z",
     "start_time": "2020-11-02T15:44:26.385073Z"
    }
   },
   "outputs": [],
   "source": [
    "# Load the model parameters using `get_COVID19_SEIRD_parameters()`.\n",
    "params = model_parameters.get_COVID19_SEIRD_parameters()\n",
    "\n",
    "params.update({'policy1': Nc_total,\n",
    "              'policy2': 1.0*Nc_home + (1-0.60)*Nc_work + (1-0.70)*Nc_transport + (1-0.30)*Nc_others + (1-0.80)*Nc_leisure,\n",
    "              'policy3': 1.0*Nc_home + (1-0.50)*Nc_work + (1-0.60)*Nc_transport + (1-0.30)*Nc_others + (1-0.70)*Nc_leisure,\n",
    "              'policy4': 1.0*Nc_home + (1-0.40)*Nc_work + (1-0.55)*Nc_transport + (1-0.25)*Nc_others + (1-0.65)*Nc_leisure,\n",
    "              'policy5': 1.0*Nc_home + (1-0.30)*Nc_work + (1-0.50)*Nc_transport + (1-0.20)*Nc_others + (1-0.60)*Nc_leisure,\n",
    "              'policy6': 1.0*Nc_home + (1-0.30)*Nc_work + (1-0.45)*Nc_transport + (1-0.15)*Nc_others + (1-0.85)*Nc_schools + (1-0.50)*Nc_leisure,\n",
    "              'policy7': 1.0*Nc_home + (1-0.25)*Nc_work + (1-0.35)*Nc_transport + (1-0.10)*Nc_others + (1-0.35)*Nc_schools + (1-0.30)*Nc_leisure,\n",
    "              'policy8': 1.0*Nc_home + (1-0.20)*Nc_work + (1-0.25)*Nc_transport + (1-0.05)*Nc_others + (1-0.30)*Nc_leisure,\n",
    "              'policy9': 1.0*Nc_home + (1-0.30)*Nc_work + (1-0.35)*Nc_transport + (1-0.15)*Nc_others + (1-0.40)*Nc_leisure,\n",
    "              'policy10': 1.0*Nc_home + (1-0.00)*Nc_work + (1-0.00)*Nc_transport + (1-0.00)*Nc_others + (1-0.00)*Nc_schools + (1-0.00)*Nc_leisure,\n",
    "              'policy_time': samples_dict_wave1['lag_time'],\n",
    "              'l': 1,\n",
    "              'tau': 5,\n",
    "              'prevention': 0.5,\n",
    "              'start_date':pd.to_datetime('2020-03-15')})\n",
    "\n",
    "# Define the initial condition: one exposed inidividual in every age category\n",
    "initial_states = {'S': initN, 'E': np.ones(levels)}\n",
    "# Initialize the model\n",
    "model = models.COVID19_SEIRD(initial_states, params, time_dependent_parameters={'Nc': policies_until_september})"
   ]
  },
  {
   "cell_type": "code",
   "execution_count": null,
   "metadata": {
    "ExecuteTime": {
     "end_time": "2020-11-02T15:48:36.848216Z",
     "start_time": "2020-11-02T15:48:23.074244Z"
    },
    "scrolled": false
   },
   "outputs": [],
   "source": [
    "states = [['H_in']]\n",
    "end_date = '2020-09-28'\n",
    "data=[timeseries[start_date:end_ramp].values]\n",
    "\n",
    "fig,ax=plt.subplots()\n",
    "for i in range(10):\n",
    "    idx,model.parameters['beta'] = random.choice(list(enumerate(samples_dict_wave1['beta'])))\n",
    "    idx,model.parameters['l'] = random.choice(list(enumerate(samples_dict_wave1['l'])))\n",
    "    model.parameters['tau'] = samples_dict_wave1['tau'][idx]\n",
    "    model.parameters['policy_time'] = samples_dict_wave1['lag_time']\n",
    "    model.parameters['prevention'] = samples_dict_wave1['prevention'][idx]\n",
    "    y_model = model.sim(time=end_date, excess_time=samples_dict_wave1['lag_time'], start_date=start_date)\n",
    "    ax = plot_fit(y_model,data,start_date,samples_dict_wave1['lag_time'],states,end_date=end_date,with_ints=False,ax=ax,plt_kwargs={'color':'blue','linewidth': 2,'alpha': 0.05})\n",
    "\n",
    "data_after_calib = timeseries[pd.to_datetime(end_ramp)+pd.to_timedelta('1d'):end_date]\n",
    "plt.scatter(data_after_calib.index, data_after_calib.values, marker='o',color='red',linestyle='None',facecolors='none')\n",
    "legend_text=['daily \\nhospitalizations']\n",
    "ax.set_xlim('2020-03-10', end_date)\n",
    "# fig.savefig(fig_path+spatial_unit+'.pdf',\n",
    "#             bbox_inches='tight', dpi=600)"
   ]
  },
  {
   "cell_type": "code",
   "execution_count": null,
   "metadata": {
    "ExecuteTime": {
     "end_time": "2020-11-02T15:46:43.828470Z",
     "start_time": "2020-11-02T15:44:37.663801Z"
    }
   },
   "outputs": [],
   "source": [
    "out_sept28 = model.sim(time='2020-09-28', excess_time=samples_dict_wave1['lag_time'],start_date='2020-03-15',\n",
    "                   N=100, draw_fcn=draw_sample_COVID19_SEIRD,samples=samples_dict_wave1)\n",
    "states = out_sept28.isel(time=-1).mean(dim=\"draws\")\n",
    "initial_states_sept28 = {key:states[key].values for key in initial_states.keys()}"
   ]
  },
  {
   "cell_type": "code",
   "execution_count": null,
   "metadata": {
    "ExecuteTime": {
     "end_time": "2020-11-02T15:46:50.030828Z",
     "start_time": "2020-11-02T15:46:49.826066Z"
    }
   },
   "outputs": [],
   "source": [
    "np.save('../data/interim/prediction_provinces/Luik_initial_states_sept28.npy', initial_states_sept28)"
   ]
  },
  {
   "cell_type": "markdown",
   "metadata": {},
   "source": [
    "## Calibration 28 Sept - 25 Oct"
   ]
  },
  {
   "cell_type": "code",
   "execution_count": null,
   "metadata": {
    "ExecuteTime": {
     "end_time": "2020-11-02T15:51:16.647929Z",
     "start_time": "2020-11-02T15:51:16.412113Z"
    }
   },
   "outputs": [],
   "source": [
    "# Load the dictionary containing the posterior parameter distributions obtained from calibrating the model to Belgian hospitalization data\n",
    "with open('../data/interim/model_parameters/provinces/Luik_wave1_1000steps_2020-10-28.json', 'r') as fp:\n",
    "    samples_dict_wave1 = json.load(fp)"
   ]
  },
  {
   "cell_type": "code",
   "execution_count": null,
   "metadata": {
    "ExecuteTime": {
     "end_time": "2020-11-02T15:51:23.823970Z",
     "start_time": "2020-11-02T15:51:23.785943Z"
    }
   },
   "outputs": [],
   "source": [
    "initial_states_sept28 = np.load('../data/interim/prediction_provinces/Luik_initial_states_sept28.npy', allow_pickle=True).item()"
   ]
  },
  {
   "cell_type": "code",
   "execution_count": null,
   "metadata": {
    "ExecuteTime": {
     "end_time": "2020-11-02T15:51:39.499622Z",
     "start_time": "2020-11-02T15:51:39.463012Z"
    }
   },
   "outputs": [],
   "source": [
    "# Second wave\n",
    "start_date = '2020-09-28'\n",
    "end_beta = '2020-10-25'"
   ]
  },
  {
   "cell_type": "code",
   "execution_count": null,
   "metadata": {
    "ExecuteTime": {
     "end_time": "2020-11-02T15:51:40.118393Z",
     "start_time": "2020-11-02T15:51:40.077638Z"
    }
   },
   "outputs": [],
   "source": [
    "len(Luik_ts.loc[start_date:end_beta])"
   ]
  },
  {
   "cell_type": "code",
   "execution_count": null,
   "metadata": {
    "ExecuteTime": {
     "end_time": "2020-11-02T15:52:00.200858Z",
     "start_time": "2020-11-02T15:51:59.878393Z"
    }
   },
   "outputs": [],
   "source": [
    "# Load the parameters using `get_COVID19_SEIRD_parameters()`.\n",
    "params = model_parameters.get_COVID19_SEIRD_parameters()\n",
    "model = models.COVID19_SEIRD(initial_states_sept28, params)"
   ]
  },
  {
   "cell_type": "code",
   "execution_count": null,
   "metadata": {
    "ExecuteTime": {
     "end_time": "2020-11-02T15:52:09.607934Z",
     "start_time": "2020-11-02T15:52:09.570306Z"
    }
   },
   "outputs": [],
   "source": [
    "# function parameters \n",
    "timeseries = Luik_ts['NEW_IN']\n",
    "spatial_unit = 'Luik_wave2_from_Sept28'\n"
   ]
  },
  {
   "cell_type": "code",
   "execution_count": null,
   "metadata": {
    "ExecuteTime": {
     "end_time": "2020-10-30T16:45:43.424521Z",
     "start_time": "2020-10-30T16:45:43.386749Z"
    }
   },
   "outputs": [],
   "source": [
    "mu_beta, std_beta = norm.fit(samples_dict_wave1['beta'])\n",
    "mu_sigma_data, std_sigma_data = norm.fit(samples_dict_wave1['beta'])\n",
    "beta_norm_params = (mu_beta, std_beta)\n",
    "sigma_data_norm_params = (mu_sigma_data, std_sigma_data)"
   ]
  },
  {
   "cell_type": "code",
   "execution_count": null,
   "metadata": {
    "ExecuteTime": {
     "end_time": "2020-11-02T15:52:39.377508Z",
     "start_time": "2020-11-02T15:52:39.184860Z"
    }
   },
   "outputs": [],
   "source": [
    "beta_init = np.mean(samples_dict_wave1['beta'])\n",
    "sigma_data_init = np.mean(samples_dict_wave1['sigma_data'])"
   ]
  },
  {
   "cell_type": "code",
   "execution_count": null,
   "metadata": {
    "ExecuteTime": {
     "end_time": "2020-11-02T15:58:24.981496Z",
     "start_time": "2020-11-02T15:55:19.116624Z"
    },
    "scrolled": true
   },
   "outputs": [],
   "source": [
    "samples_dict = full_calibration_wave2(model, timeseries, spatial_unit, start_date, end_beta, \n",
    "                                      beta_init, sigma_data_init, None,None,\n",
    "                                      fig_path=fig_path, samples_path=samples_path,\n",
    "                                      initN=initN, Nc_total=Nc_total,steps_mcmc=1000)"
   ]
  },
  {
   "cell_type": "code",
   "execution_count": null,
   "metadata": {
    "ExecuteTime": {
     "end_time": "2020-11-02T15:59:12.787668Z",
     "start_time": "2020-11-02T15:59:12.535365Z"
    }
   },
   "outputs": [],
   "source": [
    "fig,ax = plt.subplots(figsize=(4,4))\n",
    "pd.Series(samples_dict['beta']).hist(ax=ax)"
   ]
  },
  {
   "cell_type": "code",
   "execution_count": null,
   "metadata": {
    "ExecuteTime": {
     "end_time": "2020-11-02T16:17:07.688868Z",
     "start_time": "2020-11-02T16:16:42.610662Z"
    },
    "scrolled": false
   },
   "outputs": [],
   "source": [
    "states = [['H_in']]\n",
    "end_date = '2020-11-01' #end_beta\n",
    "data=[timeseries[start_date:end_beta].values]\n",
    "\n",
    "fig,ax=plt.subplots(figsize=(8,8))\n",
    "for i in range(200):\n",
    "    idx,model.parameters['beta'] = random.choice(list(enumerate(samples_dict['beta'])))\n",
    "    y_model = model.sim(time=end_date, excess_time=0, start_date=start_date)\n",
    "    ax = plot_fit(y_model,data,start_date,lag_time=0,states=states,end_date=end_date,\n",
    "                  with_ints=False,ax=ax,plt_kwargs={'color':'blue','linewidth': 2,'alpha': 0.05})\n",
    "plt.setp(plt.gca().xaxis.get_majorticklabels(),'rotation', 0)\n",
    "#data_after_calib = timeseries[pd.to_datetime(end_ramp)+pd.to_timedelta('1d'):end_date]\n",
    "#plt.scatter(data_after_calib.index, data_after_calib.values, marker='o',color='red',linestyle='None',facecolors='none')\n",
    "legend_text=['daily \\nhospitalizations']\n",
    "ax.set_xlim(start_date, end_date)\n",
    "ax.set_ylabel('daily hospitalizations')\n",
    "# fig.savefig(fig_path+spatial_unit+'.pdf',\n",
    "#             bbox_inches='tight', dpi=600)"
   ]
  },
  {
   "cell_type": "code",
   "execution_count": null,
   "metadata": {},
   "outputs": [],
   "source": []
  }
 ],
 "metadata": {
  "kernelspec": {
   "display_name": "Python 3",
   "language": "python",
   "name": "python3"
  },
  "language_info": {
   "codemirror_mode": {
    "name": "ipython",
    "version": 3
   },
   "file_extension": ".py",
   "mimetype": "text/x-python",
   "name": "python",
   "nbconvert_exporter": "python",
   "pygments_lexer": "ipython3",
   "version": "3.8.2"
  },
  "toc": {
   "base_numbering": 1,
   "nav_menu": {},
   "number_sections": true,
   "sideBar": true,
   "skip_h1_title": false,
   "title_cell": "Table of Contents",
   "title_sidebar": "Contents",
   "toc_cell": false,
   "toc_position": {
    "height": "calc(100% - 180px)",
    "left": "10px",
    "top": "150px",
    "width": "288px"
   },
   "toc_section_display": true,
   "toc_window_display": true
  }
 },
 "nbformat": 4,
 "nbformat_minor": 4
}
