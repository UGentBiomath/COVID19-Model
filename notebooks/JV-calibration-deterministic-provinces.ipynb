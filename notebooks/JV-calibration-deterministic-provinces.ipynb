{
 "cells": [
  {
   "cell_type": "markdown",
   "metadata": {},
   "source": [
    "**Calibration of the age-stratified deterministic model**\n",
    "\n",
    "*Original code by Ryan S. McGee. Modified by T.W. Alleman in consultation with the BIOMATH research unit headed by prof. Ingmar Nopens.*\n",
    "\n",
    "Copyright (c) 2020 by T.W. Alleman, BIOMATH, Ghent University. All Rights Reserved.\n",
    "\n",
    "This notebook accompanies our preprint: \"*A deterministic, age-stratified, extended SEIRD model for assessing the effect of non-pharmaceutical interventions on SARS-CoV-2 spread in Belgium*\"(https://doi.org/10.1101/2020.07.17.20156034)"
   ]
  },
  {
   "cell_type": "markdown",
   "metadata": {},
   "source": [
    "# Load required packages"
   ]
  },
  {
   "cell_type": "code",
   "execution_count": 1,
   "metadata": {
    "ExecuteTime": {
     "end_time": "2020-11-05T22:05:05.772409Z",
     "start_time": "2020-11-05T22:05:03.374757Z"
    }
   },
   "outputs": [],
   "source": [
    "import random\n",
    "import os\n",
    "import numpy as np\n",
    "%matplotlib notebook\n",
    "import matplotlib.pyplot as plt\n",
    "from IPython.display import Image\n",
    "from ipywidgets import interact,fixed,FloatSlider,IntSlider,ToggleButtons\n",
    "import pandas as pd\n",
    "from datetime import datetime, timedelta\n",
    "import datetime\n",
    "import scipy\n",
    "from scipy.integrate import odeint\n",
    "from scipy.stats import norm\n",
    "import matplotlib.dates as mdates\n",
    "import matplotlib\n",
    "import scipy.stats as st\n",
    "\n",
    "import math\n",
    "import xarray as xr\n",
    "import emcee\n",
    "import json\n",
    "import corner\n",
    "\n",
    "from covid19model.optimization import objective_fcns\n",
    "from covid19model.optimization import MCMC\n",
    "from covid19model.models import models\n",
    "from covid19model.data import google\n",
    "from covid19model.data import sciensano\n",
    "from covid19model.data import model_parameters\n",
    "from covid19model.visualization.output import population_status, infected\n",
    "from covid19model.visualization.optimization import plot_fit, traceplot\n",
    "from covid19model.optimization.run_optimization import full_calibration_wave1, full_calibration_wave2\n",
    "from covid19model.models.utils import draw_sample_COVID19_SEIRD, ramp_fun, lockdown_func, policies_until_september\n",
    "\n",
    "\n",
    "# OPTIONAL: Load the \"autoreload\" extension so that package code can change\n",
    "%load_ext autoreload\n",
    "# OPTIONAL: always reload modules so that as you change code in src, it gets loaded\n",
    "%autoreload 2"
   ]
  },
  {
   "cell_type": "code",
   "execution_count": 2,
   "metadata": {
    "ExecuteTime": {
     "end_time": "2020-11-05T22:05:05.810295Z",
     "start_time": "2020-11-05T22:05:05.775023Z"
    }
   },
   "outputs": [],
   "source": [
    "# import dask\n",
    "\n",
    "# from dask.distributed import Client, progress\n",
    "# client = Client(threads_per_worker=16, n_workers=1)\n",
    "# client"
   ]
  },
  {
   "cell_type": "markdown",
   "metadata": {},
   "source": [
    "# Get public data"
   ]
  },
  {
   "cell_type": "code",
   "execution_count": 3,
   "metadata": {
    "ExecuteTime": {
     "end_time": "2020-11-05T22:05:05.848056Z",
     "start_time": "2020-11-05T22:05:05.813004Z"
    }
   },
   "outputs": [],
   "source": [
    "#df_sciensano = sciensano.get_sciensano_COVID19_data(update=True)\n"
   ]
  },
  {
   "cell_type": "code",
   "execution_count": 4,
   "metadata": {
    "ExecuteTime": {
     "end_time": "2020-11-05T22:05:05.903025Z",
     "start_time": "2020-11-05T22:05:05.850438Z"
    }
   },
   "outputs": [],
   "source": [
    "raw_hosp_data = pd.read_csv('../data/raw/sciensano/COVID19BE_HOSP.csv', parse_dates=['DATE'])\n",
    "Hainaut_hosp_data = raw_hosp_data[raw_hosp_data.PROVINCE=='Hainaut']\n",
    "Hainaut_ts = Hainaut_hosp_data[['DATE','NEW_IN']].set_index('DATE')\n",
    "timeseries = Hainaut_ts['NEW_IN']"
   ]
  },
  {
   "cell_type": "code",
   "execution_count": 5,
   "metadata": {
    "ExecuteTime": {
     "end_time": "2020-11-05T22:05:05.940197Z",
     "start_time": "2020-11-05T22:05:05.905110Z"
    }
   },
   "outputs": [],
   "source": [
    "# fig,ax = plt.subplots()\n",
    "# Hainaut_ts.reset_index().plot('DATE','NEW_IN', logy=True, ax=ax)\n",
    "# ax.set_xlim('2020-08-01', '2020-11-05')"
   ]
  },
  {
   "cell_type": "markdown",
   "metadata": {},
   "source": [
    "# Load data"
   ]
  },
  {
   "cell_type": "code",
   "execution_count": 6,
   "metadata": {
    "ExecuteTime": {
     "end_time": "2020-11-05T22:05:06.271288Z",
     "start_time": "2020-11-05T22:05:05.942153Z"
    }
   },
   "outputs": [],
   "source": [
    "# Load the interaction matrices (size: 9x9)\n",
    "initN, Nc_home, Nc_work, Nc_schools, Nc_transport, Nc_leisure, Nc_others, Nc_total = model_parameters.get_interaction_matrices(dataset='willem_2012')\n",
    "# Define the number of age categories\n",
    "levels = initN.size\n",
    "province_names = pd.read_csv('../data/raw/GIS/NIS_province.csv')\n",
    "initN_province = pd.read_csv('../data/interim/demographic/initN_province.csv')\n",
    "initN = np.array(list(initN_province.set_index('NIS').loc[50000].iloc[:9]))"
   ]
  },
  {
   "cell_type": "code",
   "execution_count": 7,
   "metadata": {
    "ExecuteTime": {
     "end_time": "2020-11-05T22:05:06.309366Z",
     "start_time": "2020-11-05T22:05:06.273325Z"
    }
   },
   "outputs": [],
   "source": [
    "fig_path = '../results/calibrations_provinces/'\n",
    "samples_path = '../data/interim/model_parameters/provinces/'"
   ]
  },
  {
   "cell_type": "markdown",
   "metadata": {},
   "source": [
    "# Model initialisations"
   ]
  },
  {
   "cell_type": "code",
   "execution_count": 8,
   "metadata": {
    "ExecuteTime": {
     "end_time": "2020-11-05T22:05:06.636551Z",
     "start_time": "2020-11-05T22:05:06.312704Z"
    }
   },
   "outputs": [],
   "source": [
    "# Load the parameters using `get_COVID19_SEIRD_parameters()`.\n",
    "params_wave1 = model_parameters.get_COVID19_SEIRD_parameters()\n",
    "params_wave1.update({'policy0': Nc_total,\n",
    "              'policy1': 1.0*Nc_home + (1-0.60)*Nc_work + (1-0.70)*Nc_transport + (1-0.30)*Nc_others + (1-0.80)*Nc_leisure,\n",
    "              'l': 1,\n",
    "              'tau': 5,\n",
    "              'prevention': 0.5,\n",
    "              'start_date': pd.to_datetime('2020-03-15')})\n",
    "# Usage:\n",
    "initial_states = {'S': initN, 'E': np.ones(levels)}\n",
    "model_wave1 = models.COVID19_SEIRD(initial_states, params_wave1, time_dependent_parameters={'Nc': lockdown_func})"
   ]
  },
  {
   "cell_type": "code",
   "execution_count": 9,
   "metadata": {
    "ExecuteTime": {
     "end_time": "2020-11-05T22:05:06.970390Z",
     "start_time": "2020-11-05T22:05:06.638842Z"
    }
   },
   "outputs": [],
   "source": [
    "# Load the model parameters using `get_COVID19_SEIRD_parameters()`.\n",
    "params_until_sept = model_parameters.get_COVID19_SEIRD_parameters()\n",
    "\n",
    "params_until_sept.update({'policy0': Nc_total,\n",
    "              'policy1': 1.0*Nc_home + (1-0.60)*Nc_work + (1-0.70)*Nc_transport + (1-0.30)*Nc_others + (1-0.80)*Nc_leisure,\n",
    "              'policy2': 1.0*Nc_home + (1-0.50)*Nc_work + (1-0.60)*Nc_transport + (1-0.30)*Nc_others + (1-0.70)*Nc_leisure,\n",
    "              'policy3': 1.0*Nc_home + (1-0.40)*Nc_work + (1-0.55)*Nc_transport + (1-0.25)*Nc_others + (1-0.65)*Nc_leisure,\n",
    "              'policy4': 1.0*Nc_home + (1-0.30)*Nc_work + (1-0.50)*Nc_transport + (1-0.20)*Nc_others + (1-0.60)*Nc_leisure,\n",
    "              'policy5': 1.0*Nc_home + (1-0.30)*Nc_work + (1-0.45)*Nc_transport + (1-0.15)*Nc_others + (1-0.85)*Nc_schools + (1-0.50)*Nc_leisure,\n",
    "              'policy6': 1.0*Nc_home + (1-0.25)*Nc_work + (1-0.35)*Nc_transport + (1-0.10)*Nc_others + (1-0.35)*Nc_schools + (1-0.30)*Nc_leisure,\n",
    "              'policy7': 1.0*Nc_home + (1-0.20)*Nc_work + (1-0.25)*Nc_transport + (1-0.05)*Nc_others + (1-0.30)*Nc_leisure,\n",
    "              'policy8': 1.0*Nc_home + (1-0.30)*Nc_work + (1-0.35)*Nc_transport + (1-0.15)*Nc_others + (1-0.40)*Nc_leisure,\n",
    "              'policy9': 1.0*Nc_home + (1-0.00)*Nc_work + (1-0.00)*Nc_transport + (1-0.00)*Nc_others + (1-0.00)*Nc_schools + (1-0.00)*Nc_leisure,\n",
    "              'l': 1,\n",
    "              'tau': 5,\n",
    "              'prevention': 0.5,\n",
    "              'start_date':pd.to_datetime('2020-03-15')})\n",
    "\n",
    "# Usage:\n",
    "initial_states = {'S': initN, 'E': np.ones(levels)}\n",
    "model_wave1_with_policies = models.COVID19_SEIRD(initial_states, params_until_sept, time_dependent_parameters={'Nc': policies_until_september})"
   ]
  },
  {
   "cell_type": "markdown",
   "metadata": {},
   "source": [
    "# Plotfunctions"
   ]
  },
  {
   "cell_type": "code",
   "execution_count": 10,
   "metadata": {
    "ExecuteTime": {
     "end_time": "2020-11-05T22:05:07.024630Z",
     "start_time": "2020-11-05T22:05:06.972516Z"
    }
   },
   "outputs": [],
   "source": [
    "def plot_simulations(start_date, end_ramp, end_date, model, samples_dict, timeseries, \n",
    "                    spatial_unit, n_lines=200, save=False):\n",
    "\n",
    "    states = [['H_in']]\n",
    "    data=[timeseries[start_date:end_ramp].values]\n",
    "\n",
    "    fig,ax=plt.subplots()\n",
    "    for i in range(n_lines):\n",
    "        idx,model.parameters['beta'] = random.choice(list(enumerate(samples_dict['beta'])))\n",
    "        if 'l' in model.parameters.keys():\n",
    "            idx,model.parameters['l'] = random.choice(list(enumerate(samples_dict['l'])))\n",
    "            model.parameters['tau'] = samples_dict['tau'][idx]\n",
    "            model.parameters['prevention'] = samples_dict['prevention'][idx]\n",
    "        y_model = model.sim(time=end_date, excess_time=samples_dict['warmup'], start_date=start_date)\n",
    "        ax = plot_fit(y_model,data,start_date,samples_dict['warmup'],states,end_date=end_date,with_ints=False,ax=ax,plt_kwargs={'color':'blue','linewidth': 2,'alpha': 0.05})\n",
    "    \n",
    "    # plot mean line\n",
    "    model.parameters['beta'] = np.mean(samples_dict['beta'])\n",
    "    if 'l' in model.parameters.keys():\n",
    "        model.parameters['l'] = np.mean(samples_dict['l'])\n",
    "        model.parameters['tau'] = np.mean(samples_dict['tau'])\n",
    "        model.parameters['prevention'] = np.mean(samples_dict['prevention'])\n",
    "    y_model = model.sim(time=end_date, excess_time=samples_dict['warmup'], start_date=start_date)\n",
    "    ax.plot(y_model['time'],y_model['H_in'].sum(dim='Nc'), c='green', linestyle='--', lw=2, alpha=0.5)\n",
    "    \n",
    "    data_after_calib = timeseries[pd.to_datetime(end_ramp)+pd.to_timedelta('1d'):end_date]\n",
    "    plt.scatter(data_after_calib.index, data_after_calib.values, marker='o',color='red',linestyle='None',facecolors='none')\n",
    "    legend_text=['daily \\nhospitalizations']\n",
    "    ax.set_xlim(start_date, end_date)\n",
    "    fig.tight_layout()\n",
    "    if save==True:\n",
    "        fig.savefig(fig_path+spatial_unit +'_'+str(datetime.date.today())+'.pdf',bbox_inches='tight', dpi=600)\n",
    "    return"
   ]
  },
  {
   "cell_type": "markdown",
   "metadata": {},
   "source": [
    "# Calibration on first wave"
   ]
  },
  {
   "cell_type": "code",
   "execution_count": 11,
   "metadata": {
    "ExecuteTime": {
     "end_time": "2020-11-05T22:05:07.062709Z",
     "start_time": "2020-11-05T22:05:07.026708Z"
    }
   },
   "outputs": [],
   "source": [
    "## First wave\n",
    "start_date = '2020-03-15'\n",
    "end_beta = '2020-03-25'\n",
    "end_ramp = '2020-05-23'#'2020-05-23'"
   ]
  },
  {
   "cell_type": "code",
   "execution_count": 12,
   "metadata": {
    "ExecuteTime": {
     "end_time": "2020-11-05T22:05:07.111121Z",
     "start_time": "2020-11-05T22:05:07.064843Z"
    }
   },
   "outputs": [
    {
     "data": {
      "text/plain": [
       "11"
      ]
     },
     "execution_count": 12,
     "metadata": {},
     "output_type": "execute_result"
    }
   ],
   "source": [
    "len(Hainaut_ts.loc[start_date:end_beta])"
   ]
  },
  {
   "cell_type": "code",
   "execution_count": 13,
   "metadata": {
    "ExecuteTime": {
     "end_time": "2020-11-05T22:05:07.153369Z",
     "start_time": "2020-11-05T22:05:07.113255Z"
    }
   },
   "outputs": [
    {
     "data": {
      "text/plain": [
       "60"
      ]
     },
     "execution_count": 13,
     "metadata": {},
     "output_type": "execute_result"
    }
   ],
   "source": [
    "len(Hainaut_ts.loc[end_beta:end_ramp])"
   ]
  },
  {
   "cell_type": "code",
   "execution_count": 14,
   "metadata": {
    "ExecuteTime": {
     "end_time": "2020-11-05T22:45:35.862739Z",
     "start_time": "2020-11-05T22:05:10.850860Z"
    }
   },
   "outputs": [
    {
     "name": "stdout",
     "output_type": "stream",
     "text": [
      "No constraints given.\n",
      "New best for swarm at iteration 1: [ 9.57485897 60.          0.06      ] 31.143376084120774\n",
      "Best after iteration 1: [ 9.57485897 60.          0.06      ] 31.143376084120774\n",
      "New best for swarm at iteration 2: [10.20484396 60.          0.06      ] 31.091335479944178\n",
      "Best after iteration 2: [10.20484396 60.          0.06      ] 31.091335479944178\n",
      "Best after iteration 3: [10.20484396 60.          0.06      ] 31.091335479944178\n",
      "Best after iteration 4: [10.20484396 60.          0.06      ] 31.091335479944178\n",
      "Best after iteration 5: [10.20484396 60.          0.06      ] 31.091335479944178\n",
      "Best after iteration 6: [10.20484396 60.          0.06      ] 31.091335479944178\n",
      "New best for swarm at iteration 7: [10.25054371 60.          0.06      ] 31.09119993040295\n",
      "Best after iteration 7: [10.25054371 60.          0.06      ] 31.09119993040295\n",
      "Best after iteration 8: [10.25054371 60.          0.06      ] 31.09119993040295\n",
      "Best after iteration 9: [10.25054371 60.          0.06      ] 31.09119993040295\n",
      "New best for swarm at iteration 10: [10.24900843 60.          0.06      ] 31.091197349319124\n",
      "Best after iteration 10: [10.24900843 60.          0.06      ] 31.091197349319124\n",
      "Best after iteration 11: [10.24900843 60.          0.06      ] 31.091197349319124\n",
      "Best after iteration 12: [10.24900843 60.          0.06      ] 31.091197349319124\n",
      "Best after iteration 13: [10.24900843 60.          0.06      ] 31.091197349319124\n",
      "Best after iteration 14: [10.24900843 60.          0.06      ] 31.091197349319124\n",
      "New best for swarm at iteration 15: [10.2451256 60.         0.06     ] 31.09119302083862\n",
      "Best after iteration 15: [10.2451256 60.         0.06     ] 31.09119302083862\n",
      "Best after iteration 16: [10.2451256 60.         0.06     ] 31.09119302083862\n",
      "New best for swarm at iteration 17: [10.2434357 60.         0.06     ] 31.091192122579347\n",
      "Best after iteration 17: [10.2434357 60.         0.06     ] 31.091192122579347\n",
      "Best after iteration 18: [10.2434357 60.         0.06     ] 31.091192122579347\n",
      "New best for swarm at iteration 19: [10.2423273 60.         0.06     ] 31.091191858377123\n",
      "Best after iteration 19: [10.2423273 60.         0.06     ] 31.091191858377123\n",
      "Best after iteration 20: [10.2423273 60.         0.06     ] 31.091191858377123\n",
      "Best after iteration 21: [10.2423273 60.         0.06     ] 31.091191858377123\n",
      "Best after iteration 22: [10.2423273 60.         0.06     ] 31.091191858377123\n",
      "Best after iteration 23: [10.2423273 60.         0.06     ] 31.091191858377123\n",
      "Best after iteration 24: [10.2423273 60.         0.06     ] 31.091191858377123\n",
      "New best for swarm at iteration 25: [10.24138063 60.          0.06      ] 31.091191836682803\n",
      "Best after iteration 25: [10.24138063 60.          0.06      ] 31.091191836682803\n",
      "Best after iteration 26: [10.24138063 60.          0.06      ] 31.091191836682803\n",
      "Best after iteration 27: [10.24138063 60.          0.06      ] 31.091191836682803\n",
      "Best after iteration 28: [10.24138063 60.          0.06      ] 31.091191836682803\n",
      "Best after iteration 29: [10.24138063 60.          0.06      ] 31.091191836682803\n",
      "Best after iteration 30: [10.24138063 60.          0.06      ] 31.091191836682803\n",
      "Best after iteration 31: [10.24138063 60.          0.06      ] 31.091191836682803\n",
      "New best for swarm at iteration 32: [10.24180024 60.          0.06      ] 31.091191823107106\n",
      "Best after iteration 32: [10.24180024 60.          0.06      ] 31.091191823107106\n",
      "Best after iteration 33: [10.24180024 60.          0.06      ] 31.091191823107106\n",
      "Best after iteration 34: [10.24180024 60.          0.06      ] 31.091191823107106\n",
      "Best after iteration 35: [10.24180024 60.          0.06      ] 31.091191823107106\n",
      "Best after iteration 36: [10.24180024 60.          0.06      ] 31.091191823107106\n",
      "Best after iteration 37: [10.24180024 60.          0.06      ] 31.091191823107106\n",
      "Best after iteration 38: [10.24180024 60.          0.06      ] 31.091191823107106\n",
      "Best after iteration 39: [10.24180024 60.          0.06      ] 31.091191823107106\n",
      "Best after iteration 40: [10.24180024 60.          0.06      ] 31.091191823107106\n",
      "Best after iteration 41: [10.24180024 60.          0.06      ] 31.091191823107106\n",
      "Best after iteration 42: [10.24180024 60.          0.06      ] 31.091191823107106\n",
      "Best after iteration 43: [10.24180024 60.          0.06      ] 31.091191823107106\n",
      "Best after iteration 44: [10.24180024 60.          0.06      ] 31.091191823107106\n",
      "Best after iteration 45: [10.24180024 60.          0.06      ] 31.091191823107106\n",
      "Best after iteration 46: [10.24180024 60.          0.06      ] 31.091191823107106\n",
      "Best after iteration 47: [10.24180024 60.          0.06      ] 31.091191823107106\n",
      "Best after iteration 48: [10.24180024 60.          0.06      ] 31.091191823107106\n",
      "Best after iteration 49: [10.24180024 60.          0.06      ] 31.091191823107106\n",
      "New best for swarm at iteration 50: [10.24172815 60.          0.06      ] 31.091191822812004\n",
      "Stopping search: Swarm best objective change less than 1e-09\n"
     ]
    },
    {
     "name": "stderr",
     "output_type": "stream",
     "text": [
      "100%|██████████| 1000/1000 [08:49<00:00,  1.89it/s]\n"
     ]
    },
    {
     "name": "stdout",
     "output_type": "stream",
     "text": [
      "Calibrating beta. Warning: The chain is shorter than 50 times the integrated autocorrelation time for 4 parameter(s). Use this estimate with caution and run a longer chain!\n",
      "No constraints given.\n",
      "Best after iteration 1: [37.53802855 14.11827743 19.65745778  0.64692377] 287.04862483787656\n",
      "Best after iteration 2: [37.53802855 14.11827743 19.65745778  0.64692377] 287.04862483787656\n",
      "New best for swarm at iteration 3: [34.89300911 20.         20.          0.51816127] 286.51996326871773\n",
      "Best after iteration 3: [34.89300911 20.         20.          0.51816127] 286.51996326871773\n",
      "New best for swarm at iteration 4: [37.25148609 19.86891855 20.          0.46519749] 286.41521412860567\n",
      "Best after iteration 4: [37.25148609 19.86891855 20.          0.46519749] 286.41521412860567\n",
      "New best for swarm at iteration 5: [35.30866811 20.         15.44119167  0.47100674] 286.37102470466436\n",
      "Best after iteration 5: [35.30866811 20.         15.44119167  0.47100674] 286.37102470466436\n",
      "New best for swarm at iteration 6: [36.4854398  19.92635587 18.74606456  0.52305109] 286.3129941606153\n",
      "Best after iteration 6: [36.4854398  19.92635587 18.74606456  0.52305109] 286.3129941606153\n",
      "Best after iteration 7: [36.4854398  19.92635587 18.74606456  0.52305109] 286.3129941606153\n",
      "Best after iteration 8: [36.4854398  19.92635587 18.74606456  0.52305109] 286.3129941606153\n",
      "New best for swarm at iteration 9: [36.80024094 20.         19.6507756   0.43726328] 286.312633066355\n",
      "Best after iteration 9: [36.80024094 20.         19.6507756   0.43726328] 286.312633066355\n",
      "Best after iteration 10: [36.80024094 20.         19.6507756   0.43726328] 286.312633066355\n",
      "New best for swarm at iteration 11: [36.36584969 20.         19.7494255   0.50733025] 286.2670682282501\n",
      "Best after iteration 11: [36.36584969 20.         19.7494255   0.50733025] 286.2670682282501\n",
      "New best for swarm at iteration 12: [36.40037533 20.         19.86926623  0.43669868] 286.1878370889134\n",
      "Best after iteration 12: [36.40037533 20.         19.86926623  0.43669868] 286.1878370889134\n",
      "New best for swarm at iteration 13: [36.52287345 20.         19.91148549  0.44547838] 286.1606189081296\n",
      "Best after iteration 13: [36.52287345 20.         19.91148549  0.44547838] 286.1606189081296\n",
      "New best for swarm at iteration 14: [36.11753314 20.         19.90959859  0.44496034] 286.15482225096565\n",
      "Best after iteration 14: [36.11753314 20.         19.90959859  0.44496034] 286.15482225096565\n",
      "Best after iteration 15: [36.11753314 20.         19.90959859  0.44496034] 286.15482225096565\n",
      "Best after iteration 16: [36.11753314 20.         19.90959859  0.44496034] 286.15482225096565\n",
      "Best after iteration 17: [36.11753314 20.         19.90959859  0.44496034] 286.15482225096565\n",
      "Best after iteration 18: [36.11753314 20.         19.90959859  0.44496034] 286.15482225096565\n",
      "Best after iteration 19: [36.11753314 20.         19.90959859  0.44496034] 286.15482225096565\n",
      "New best for swarm at iteration 20: [35.66089157 20.         19.93963269  0.44564444] 286.03523932414856\n",
      "Best after iteration 20: [35.66089157 20.         19.93963269  0.44564444] 286.03523932414856\n",
      "Best after iteration 21: [35.66089157 20.         19.93963269  0.44564444] 286.03523932414856\n",
      "Best after iteration 22: [35.66089157 20.         19.93963269  0.44564444] 286.03523932414856\n",
      "Best after iteration 23: [35.66089157 20.         19.93963269  0.44564444] 286.03523932414856\n",
      "Best after iteration 24: [35.66089157 20.         19.93963269  0.44564444] 286.03523932414856\n",
      "Best after iteration 25: [35.66089157 20.         19.93963269  0.44564444] 286.03523932414856\n",
      "Best after iteration 26: [35.66089157 20.         19.93963269  0.44564444] 286.03523932414856\n",
      "Best after iteration 27: [35.66089157 20.         19.93963269  0.44564444] 286.03523932414856\n",
      "Best after iteration 28: [35.66089157 20.         19.93963269  0.44564444] 286.03523932414856\n",
      "Best after iteration 29: [35.66089157 20.         19.93963269  0.44564444] 286.03523932414856\n",
      "Best after iteration 30: [35.66089157 20.         19.93963269  0.44564444] 286.03523932414856\n",
      "Best after iteration 31: [35.66089157 20.         19.93963269  0.44564444] 286.03523932414856\n",
      "Best after iteration 32: [35.66089157 20.         19.93963269  0.44564444] 286.03523932414856\n",
      "Best after iteration 33: [35.66089157 20.         19.93963269  0.44564444] 286.03523932414856\n",
      "Best after iteration 34: [35.66089157 20.         19.93963269  0.44564444] 286.03523932414856\n",
      "Best after iteration 35: [35.66089157 20.         19.93963269  0.44564444] 286.03523932414856\n",
      "Best after iteration 36: [35.66089157 20.         19.93963269  0.44564444] 286.03523932414856\n",
      "Best after iteration 37: [35.66089157 20.         19.93963269  0.44564444] 286.03523932414856\n",
      "Best after iteration 38: [35.66089157 20.         19.93963269  0.44564444] 286.03523932414856\n",
      "Best after iteration 39: [35.66089157 20.         19.93963269  0.44564444] 286.03523932414856\n",
      "Best after iteration 40: [35.66089157 20.         19.93963269  0.44564444] 286.03523932414856\n",
      "Best after iteration 41: [35.66089157 20.         19.93963269  0.44564444] 286.03523932414856\n",
      "Best after iteration 42: [35.66089157 20.         19.93963269  0.44564444] 286.03523932414856\n",
      "Best after iteration 43: [35.66089157 20.         19.93963269  0.44564444] 286.03523932414856\n",
      "Best after iteration 44: [35.66089157 20.         19.93963269  0.44564444] 286.03523932414856\n",
      "Best after iteration 45: [35.66089157 20.         19.93963269  0.44564444] 286.03523932414856\n",
      "Best after iteration 46: [35.66089157 20.         19.93963269  0.44564444] 286.03523932414856\n"
     ]
    },
    {
     "name": "stderr",
     "output_type": "stream",
     "text": [
      "100%|██████████| 1000/1000 [26:37<00:00,  1.60s/it]\n"
     ]
    },
    {
     "name": "stdout",
     "output_type": "stream",
     "text": [
      "Calibrating compliance ramp. Warning: The chain is shorter than 50 times the integrated autocorrelation time for 4 parameter(s). Use this estimate with caution and run a longer chain!\n"
     ]
    }
   ],
   "source": [
    "spatial_unit = 'Hainaut_wave1_1000_pso'\n",
    "samples_dict = full_calibration_wave1(model_wave1, timeseries, spatial_unit, start_date, end_beta, end_ramp, \n",
    "                                fig_path=fig_path, samples_path=samples_path,\n",
    "                                initN=initN, Nc_total=Nc_total, theta_init = None,pso=True,\n",
    "                                maxiter=100, popsize=500, steps_mcmc=1000)#popsize increased to 500"
   ]
  },
  {
   "cell_type": "code",
   "execution_count": 15,
   "metadata": {
    "ExecuteTime": {
     "end_time": "2020-11-06T07:32:49.416956Z",
     "start_time": "2020-11-06T07:32:49.147890Z"
    }
   },
   "outputs": [
    {
     "data": {
      "application/javascript": [
       "/* Put everything inside the global mpl namespace */\n",
       "/* global mpl */\n",
       "window.mpl = {};\n",
       "\n",
       "mpl.get_websocket_type = function () {\n",
       "    if (typeof WebSocket !== 'undefined') {\n",
       "        return WebSocket;\n",
       "    } else if (typeof MozWebSocket !== 'undefined') {\n",
       "        return MozWebSocket;\n",
       "    } else {\n",
       "        alert(\n",
       "            'Your browser does not have WebSocket support. ' +\n",
       "                'Please try Chrome, Safari or Firefox ≥ 6. ' +\n",
       "                'Firefox 4 and 5 are also supported but you ' +\n",
       "                'have to enable WebSockets in about:config.'\n",
       "        );\n",
       "    }\n",
       "};\n",
       "\n",
       "mpl.figure = function (figure_id, websocket, ondownload, parent_element) {\n",
       "    this.id = figure_id;\n",
       "\n",
       "    this.ws = websocket;\n",
       "\n",
       "    this.supports_binary = this.ws.binaryType !== undefined;\n",
       "\n",
       "    if (!this.supports_binary) {\n",
       "        var warnings = document.getElementById('mpl-warnings');\n",
       "        if (warnings) {\n",
       "            warnings.style.display = 'block';\n",
       "            warnings.textContent =\n",
       "                'This browser does not support binary websocket messages. ' +\n",
       "                'Performance may be slow.';\n",
       "        }\n",
       "    }\n",
       "\n",
       "    this.imageObj = new Image();\n",
       "\n",
       "    this.context = undefined;\n",
       "    this.message = undefined;\n",
       "    this.canvas = undefined;\n",
       "    this.rubberband_canvas = undefined;\n",
       "    this.rubberband_context = undefined;\n",
       "    this.format_dropdown = undefined;\n",
       "\n",
       "    this.image_mode = 'full';\n",
       "\n",
       "    this.root = document.createElement('div');\n",
       "    this.root.setAttribute('style', 'display: inline-block');\n",
       "    this._root_extra_style(this.root);\n",
       "\n",
       "    parent_element.appendChild(this.root);\n",
       "\n",
       "    this._init_header(this);\n",
       "    this._init_canvas(this);\n",
       "    this._init_toolbar(this);\n",
       "\n",
       "    var fig = this;\n",
       "\n",
       "    this.waiting = false;\n",
       "\n",
       "    this.ws.onopen = function () {\n",
       "        fig.send_message('supports_binary', { value: fig.supports_binary });\n",
       "        fig.send_message('send_image_mode', {});\n",
       "        if (mpl.ratio !== 1) {\n",
       "            fig.send_message('set_dpi_ratio', { dpi_ratio: mpl.ratio });\n",
       "        }\n",
       "        fig.send_message('refresh', {});\n",
       "    };\n",
       "\n",
       "    this.imageObj.onload = function () {\n",
       "        if (fig.image_mode === 'full') {\n",
       "            // Full images could contain transparency (where diff images\n",
       "            // almost always do), so we need to clear the canvas so that\n",
       "            // there is no ghosting.\n",
       "            fig.context.clearRect(0, 0, fig.canvas.width, fig.canvas.height);\n",
       "        }\n",
       "        fig.context.drawImage(fig.imageObj, 0, 0);\n",
       "    };\n",
       "\n",
       "    this.imageObj.onunload = function () {\n",
       "        fig.ws.close();\n",
       "    };\n",
       "\n",
       "    this.ws.onmessage = this._make_on_message_function(this);\n",
       "\n",
       "    this.ondownload = ondownload;\n",
       "};\n",
       "\n",
       "mpl.figure.prototype._init_header = function () {\n",
       "    var titlebar = document.createElement('div');\n",
       "    titlebar.classList =\n",
       "        'ui-dialog-titlebar ui-widget-header ui-corner-all ui-helper-clearfix';\n",
       "    var titletext = document.createElement('div');\n",
       "    titletext.classList = 'ui-dialog-title';\n",
       "    titletext.setAttribute(\n",
       "        'style',\n",
       "        'width: 100%; text-align: center; padding: 3px;'\n",
       "    );\n",
       "    titlebar.appendChild(titletext);\n",
       "    this.root.appendChild(titlebar);\n",
       "    this.header = titletext;\n",
       "};\n",
       "\n",
       "mpl.figure.prototype._canvas_extra_style = function (_canvas_div) {};\n",
       "\n",
       "mpl.figure.prototype._root_extra_style = function (_canvas_div) {};\n",
       "\n",
       "mpl.figure.prototype._init_canvas = function () {\n",
       "    var fig = this;\n",
       "\n",
       "    var canvas_div = (this.canvas_div = document.createElement('div'));\n",
       "    canvas_div.setAttribute(\n",
       "        'style',\n",
       "        'border: 1px solid #ddd;' +\n",
       "            'box-sizing: content-box;' +\n",
       "            'clear: both;' +\n",
       "            'min-height: 1px;' +\n",
       "            'min-width: 1px;' +\n",
       "            'outline: 0;' +\n",
       "            'overflow: hidden;' +\n",
       "            'position: relative;' +\n",
       "            'resize: both;'\n",
       "    );\n",
       "\n",
       "    function on_keyboard_event_closure(name) {\n",
       "        return function (event) {\n",
       "            return fig.key_event(event, name);\n",
       "        };\n",
       "    }\n",
       "\n",
       "    canvas_div.addEventListener(\n",
       "        'keydown',\n",
       "        on_keyboard_event_closure('key_press')\n",
       "    );\n",
       "    canvas_div.addEventListener(\n",
       "        'keyup',\n",
       "        on_keyboard_event_closure('key_release')\n",
       "    );\n",
       "\n",
       "    this._canvas_extra_style(canvas_div);\n",
       "    this.root.appendChild(canvas_div);\n",
       "\n",
       "    var canvas = (this.canvas = document.createElement('canvas'));\n",
       "    canvas.classList.add('mpl-canvas');\n",
       "    canvas.setAttribute('style', 'box-sizing: content-box;');\n",
       "\n",
       "    this.context = canvas.getContext('2d');\n",
       "\n",
       "    var backingStore =\n",
       "        this.context.backingStorePixelRatio ||\n",
       "        this.context.webkitBackingStorePixelRatio ||\n",
       "        this.context.mozBackingStorePixelRatio ||\n",
       "        this.context.msBackingStorePixelRatio ||\n",
       "        this.context.oBackingStorePixelRatio ||\n",
       "        this.context.backingStorePixelRatio ||\n",
       "        1;\n",
       "\n",
       "    mpl.ratio = (window.devicePixelRatio || 1) / backingStore;\n",
       "\n",
       "    var rubberband_canvas = (this.rubberband_canvas = document.createElement(\n",
       "        'canvas'\n",
       "    ));\n",
       "    rubberband_canvas.setAttribute(\n",
       "        'style',\n",
       "        'box-sizing: content-box; position: absolute; left: 0; top: 0; z-index: 1;'\n",
       "    );\n",
       "\n",
       "    var resizeObserver = new ResizeObserver(function (entries) {\n",
       "        var nentries = entries.length;\n",
       "        for (var i = 0; i < nentries; i++) {\n",
       "            var entry = entries[i];\n",
       "            var width, height;\n",
       "            if (entry.contentBoxSize) {\n",
       "                if (entry.contentBoxSize instanceof Array) {\n",
       "                    // Chrome 84 implements new version of spec.\n",
       "                    width = entry.contentBoxSize[0].inlineSize;\n",
       "                    height = entry.contentBoxSize[0].blockSize;\n",
       "                } else {\n",
       "                    // Firefox implements old version of spec.\n",
       "                    width = entry.contentBoxSize.inlineSize;\n",
       "                    height = entry.contentBoxSize.blockSize;\n",
       "                }\n",
       "            } else {\n",
       "                // Chrome <84 implements even older version of spec.\n",
       "                width = entry.contentRect.width;\n",
       "                height = entry.contentRect.height;\n",
       "            }\n",
       "\n",
       "            // Keep the size of the canvas and rubber band canvas in sync with\n",
       "            // the canvas container.\n",
       "            if (entry.devicePixelContentBoxSize) {\n",
       "                // Chrome 84 implements new version of spec.\n",
       "                canvas.setAttribute(\n",
       "                    'width',\n",
       "                    entry.devicePixelContentBoxSize[0].inlineSize\n",
       "                );\n",
       "                canvas.setAttribute(\n",
       "                    'height',\n",
       "                    entry.devicePixelContentBoxSize[0].blockSize\n",
       "                );\n",
       "            } else {\n",
       "                canvas.setAttribute('width', width * mpl.ratio);\n",
       "                canvas.setAttribute('height', height * mpl.ratio);\n",
       "            }\n",
       "            canvas.setAttribute(\n",
       "                'style',\n",
       "                'width: ' + width + 'px; height: ' + height + 'px;'\n",
       "            );\n",
       "\n",
       "            rubberband_canvas.setAttribute('width', width);\n",
       "            rubberband_canvas.setAttribute('height', height);\n",
       "\n",
       "            // And update the size in Python. We ignore the initial 0/0 size\n",
       "            // that occurs as the element is placed into the DOM, which should\n",
       "            // otherwise not happen due to the minimum size styling.\n",
       "            if (width != 0 && height != 0) {\n",
       "                fig.request_resize(width, height);\n",
       "            }\n",
       "        }\n",
       "    });\n",
       "    resizeObserver.observe(canvas_div);\n",
       "\n",
       "    function on_mouse_event_closure(name) {\n",
       "        return function (event) {\n",
       "            return fig.mouse_event(event, name);\n",
       "        };\n",
       "    }\n",
       "\n",
       "    rubberband_canvas.addEventListener(\n",
       "        'mousedown',\n",
       "        on_mouse_event_closure('button_press')\n",
       "    );\n",
       "    rubberband_canvas.addEventListener(\n",
       "        'mouseup',\n",
       "        on_mouse_event_closure('button_release')\n",
       "    );\n",
       "    // Throttle sequential mouse events to 1 every 20ms.\n",
       "    rubberband_canvas.addEventListener(\n",
       "        'mousemove',\n",
       "        on_mouse_event_closure('motion_notify')\n",
       "    );\n",
       "\n",
       "    rubberband_canvas.addEventListener(\n",
       "        'mouseenter',\n",
       "        on_mouse_event_closure('figure_enter')\n",
       "    );\n",
       "    rubberband_canvas.addEventListener(\n",
       "        'mouseleave',\n",
       "        on_mouse_event_closure('figure_leave')\n",
       "    );\n",
       "\n",
       "    canvas_div.addEventListener('wheel', function (event) {\n",
       "        if (event.deltaY < 0) {\n",
       "            event.step = 1;\n",
       "        } else {\n",
       "            event.step = -1;\n",
       "        }\n",
       "        on_mouse_event_closure('scroll')(event);\n",
       "    });\n",
       "\n",
       "    canvas_div.appendChild(canvas);\n",
       "    canvas_div.appendChild(rubberband_canvas);\n",
       "\n",
       "    this.rubberband_context = rubberband_canvas.getContext('2d');\n",
       "    this.rubberband_context.strokeStyle = '#000000';\n",
       "\n",
       "    this._resize_canvas = function (width, height, forward) {\n",
       "        if (forward) {\n",
       "            canvas_div.style.width = width + 'px';\n",
       "            canvas_div.style.height = height + 'px';\n",
       "        }\n",
       "    };\n",
       "\n",
       "    // Disable right mouse context menu.\n",
       "    this.rubberband_canvas.addEventListener('contextmenu', function (_e) {\n",
       "        event.preventDefault();\n",
       "        return false;\n",
       "    });\n",
       "\n",
       "    function set_focus() {\n",
       "        canvas.focus();\n",
       "        canvas_div.focus();\n",
       "    }\n",
       "\n",
       "    window.setTimeout(set_focus, 100);\n",
       "};\n",
       "\n",
       "mpl.figure.prototype._init_toolbar = function () {\n",
       "    var fig = this;\n",
       "\n",
       "    var toolbar = document.createElement('div');\n",
       "    toolbar.classList = 'mpl-toolbar';\n",
       "    this.root.appendChild(toolbar);\n",
       "\n",
       "    function on_click_closure(name) {\n",
       "        return function (_event) {\n",
       "            return fig.toolbar_button_onclick(name);\n",
       "        };\n",
       "    }\n",
       "\n",
       "    function on_mouseover_closure(tooltip) {\n",
       "        return function (event) {\n",
       "            if (!event.currentTarget.disabled) {\n",
       "                return fig.toolbar_button_onmouseover(tooltip);\n",
       "            }\n",
       "        };\n",
       "    }\n",
       "\n",
       "    fig.buttons = {};\n",
       "    var buttonGroup = document.createElement('div');\n",
       "    buttonGroup.classList = 'mpl-button-group';\n",
       "    for (var toolbar_ind in mpl.toolbar_items) {\n",
       "        var name = mpl.toolbar_items[toolbar_ind][0];\n",
       "        var tooltip = mpl.toolbar_items[toolbar_ind][1];\n",
       "        var image = mpl.toolbar_items[toolbar_ind][2];\n",
       "        var method_name = mpl.toolbar_items[toolbar_ind][3];\n",
       "\n",
       "        if (!name) {\n",
       "            /* Instead of a spacer, we start a new button group. */\n",
       "            if (buttonGroup.hasChildNodes()) {\n",
       "                toolbar.appendChild(buttonGroup);\n",
       "            }\n",
       "            buttonGroup = document.createElement('div');\n",
       "            buttonGroup.classList = 'mpl-button-group';\n",
       "            continue;\n",
       "        }\n",
       "\n",
       "        var button = (fig.buttons[name] = document.createElement('button'));\n",
       "        button.classList = 'mpl-widget';\n",
       "        button.setAttribute('role', 'button');\n",
       "        button.setAttribute('aria-disabled', 'false');\n",
       "        button.addEventListener('click', on_click_closure(method_name));\n",
       "        button.addEventListener('mouseover', on_mouseover_closure(tooltip));\n",
       "\n",
       "        var icon_img = document.createElement('img');\n",
       "        icon_img.src = '_images/' + image + '.png';\n",
       "        icon_img.srcset = '_images/' + image + '_large.png 2x';\n",
       "        icon_img.alt = tooltip;\n",
       "        button.appendChild(icon_img);\n",
       "\n",
       "        buttonGroup.appendChild(button);\n",
       "    }\n",
       "\n",
       "    if (buttonGroup.hasChildNodes()) {\n",
       "        toolbar.appendChild(buttonGroup);\n",
       "    }\n",
       "\n",
       "    var fmt_picker = document.createElement('select');\n",
       "    fmt_picker.classList = 'mpl-widget';\n",
       "    toolbar.appendChild(fmt_picker);\n",
       "    this.format_dropdown = fmt_picker;\n",
       "\n",
       "    for (var ind in mpl.extensions) {\n",
       "        var fmt = mpl.extensions[ind];\n",
       "        var option = document.createElement('option');\n",
       "        option.selected = fmt === mpl.default_extension;\n",
       "        option.innerHTML = fmt;\n",
       "        fmt_picker.appendChild(option);\n",
       "    }\n",
       "\n",
       "    var status_bar = document.createElement('span');\n",
       "    status_bar.classList = 'mpl-message';\n",
       "    toolbar.appendChild(status_bar);\n",
       "    this.message = status_bar;\n",
       "};\n",
       "\n",
       "mpl.figure.prototype.request_resize = function (x_pixels, y_pixels) {\n",
       "    // Request matplotlib to resize the figure. Matplotlib will then trigger a resize in the client,\n",
       "    // which will in turn request a refresh of the image.\n",
       "    this.send_message('resize', { width: x_pixels, height: y_pixels });\n",
       "};\n",
       "\n",
       "mpl.figure.prototype.send_message = function (type, properties) {\n",
       "    properties['type'] = type;\n",
       "    properties['figure_id'] = this.id;\n",
       "    this.ws.send(JSON.stringify(properties));\n",
       "};\n",
       "\n",
       "mpl.figure.prototype.send_draw_message = function () {\n",
       "    if (!this.waiting) {\n",
       "        this.waiting = true;\n",
       "        this.ws.send(JSON.stringify({ type: 'draw', figure_id: this.id }));\n",
       "    }\n",
       "};\n",
       "\n",
       "mpl.figure.prototype.handle_save = function (fig, _msg) {\n",
       "    var format_dropdown = fig.format_dropdown;\n",
       "    var format = format_dropdown.options[format_dropdown.selectedIndex].value;\n",
       "    fig.ondownload(fig, format);\n",
       "};\n",
       "\n",
       "mpl.figure.prototype.handle_resize = function (fig, msg) {\n",
       "    var size = msg['size'];\n",
       "    if (size[0] !== fig.canvas.width || size[1] !== fig.canvas.height) {\n",
       "        fig._resize_canvas(size[0], size[1], msg['forward']);\n",
       "        fig.send_message('refresh', {});\n",
       "    }\n",
       "};\n",
       "\n",
       "mpl.figure.prototype.handle_rubberband = function (fig, msg) {\n",
       "    var x0 = msg['x0'] / mpl.ratio;\n",
       "    var y0 = (fig.canvas.height - msg['y0']) / mpl.ratio;\n",
       "    var x1 = msg['x1'] / mpl.ratio;\n",
       "    var y1 = (fig.canvas.height - msg['y1']) / mpl.ratio;\n",
       "    x0 = Math.floor(x0) + 0.5;\n",
       "    y0 = Math.floor(y0) + 0.5;\n",
       "    x1 = Math.floor(x1) + 0.5;\n",
       "    y1 = Math.floor(y1) + 0.5;\n",
       "    var min_x = Math.min(x0, x1);\n",
       "    var min_y = Math.min(y0, y1);\n",
       "    var width = Math.abs(x1 - x0);\n",
       "    var height = Math.abs(y1 - y0);\n",
       "\n",
       "    fig.rubberband_context.clearRect(\n",
       "        0,\n",
       "        0,\n",
       "        fig.canvas.width / mpl.ratio,\n",
       "        fig.canvas.height / mpl.ratio\n",
       "    );\n",
       "\n",
       "    fig.rubberband_context.strokeRect(min_x, min_y, width, height);\n",
       "};\n",
       "\n",
       "mpl.figure.prototype.handle_figure_label = function (fig, msg) {\n",
       "    // Updates the figure title.\n",
       "    fig.header.textContent = msg['label'];\n",
       "};\n",
       "\n",
       "mpl.figure.prototype.handle_cursor = function (fig, msg) {\n",
       "    var cursor = msg['cursor'];\n",
       "    switch (cursor) {\n",
       "        case 0:\n",
       "            cursor = 'pointer';\n",
       "            break;\n",
       "        case 1:\n",
       "            cursor = 'default';\n",
       "            break;\n",
       "        case 2:\n",
       "            cursor = 'crosshair';\n",
       "            break;\n",
       "        case 3:\n",
       "            cursor = 'move';\n",
       "            break;\n",
       "    }\n",
       "    fig.rubberband_canvas.style.cursor = cursor;\n",
       "};\n",
       "\n",
       "mpl.figure.prototype.handle_message = function (fig, msg) {\n",
       "    fig.message.textContent = msg['message'];\n",
       "};\n",
       "\n",
       "mpl.figure.prototype.handle_draw = function (fig, _msg) {\n",
       "    // Request the server to send over a new figure.\n",
       "    fig.send_draw_message();\n",
       "};\n",
       "\n",
       "mpl.figure.prototype.handle_image_mode = function (fig, msg) {\n",
       "    fig.image_mode = msg['mode'];\n",
       "};\n",
       "\n",
       "mpl.figure.prototype.handle_history_buttons = function (fig, msg) {\n",
       "    for (var key in msg) {\n",
       "        if (!(key in fig.buttons)) {\n",
       "            continue;\n",
       "        }\n",
       "        fig.buttons[key].disabled = !msg[key];\n",
       "        fig.buttons[key].setAttribute('aria-disabled', !msg[key]);\n",
       "    }\n",
       "};\n",
       "\n",
       "mpl.figure.prototype.handle_navigate_mode = function (fig, msg) {\n",
       "    if (msg['mode'] === 'PAN') {\n",
       "        fig.buttons['Pan'].classList.add('active');\n",
       "        fig.buttons['Zoom'].classList.remove('active');\n",
       "    } else if (msg['mode'] === 'ZOOM') {\n",
       "        fig.buttons['Pan'].classList.remove('active');\n",
       "        fig.buttons['Zoom'].classList.add('active');\n",
       "    } else {\n",
       "        fig.buttons['Pan'].classList.remove('active');\n",
       "        fig.buttons['Zoom'].classList.remove('active');\n",
       "    }\n",
       "};\n",
       "\n",
       "mpl.figure.prototype.updated_canvas_event = function () {\n",
       "    // Called whenever the canvas gets updated.\n",
       "    this.send_message('ack', {});\n",
       "};\n",
       "\n",
       "// A function to construct a web socket function for onmessage handling.\n",
       "// Called in the figure constructor.\n",
       "mpl.figure.prototype._make_on_message_function = function (fig) {\n",
       "    return function socket_on_message(evt) {\n",
       "        if (evt.data instanceof Blob) {\n",
       "            /* FIXME: We get \"Resource interpreted as Image but\n",
       "             * transferred with MIME type text/plain:\" errors on\n",
       "             * Chrome.  But how to set the MIME type?  It doesn't seem\n",
       "             * to be part of the websocket stream */\n",
       "            evt.data.type = 'image/png';\n",
       "\n",
       "            /* Free the memory for the previous frames */\n",
       "            if (fig.imageObj.src) {\n",
       "                (window.URL || window.webkitURL).revokeObjectURL(\n",
       "                    fig.imageObj.src\n",
       "                );\n",
       "            }\n",
       "\n",
       "            fig.imageObj.src = (window.URL || window.webkitURL).createObjectURL(\n",
       "                evt.data\n",
       "            );\n",
       "            fig.updated_canvas_event();\n",
       "            fig.waiting = false;\n",
       "            return;\n",
       "        } else if (\n",
       "            typeof evt.data === 'string' &&\n",
       "            evt.data.slice(0, 21) === 'data:image/png;base64'\n",
       "        ) {\n",
       "            fig.imageObj.src = evt.data;\n",
       "            fig.updated_canvas_event();\n",
       "            fig.waiting = false;\n",
       "            return;\n",
       "        }\n",
       "\n",
       "        var msg = JSON.parse(evt.data);\n",
       "        var msg_type = msg['type'];\n",
       "\n",
       "        // Call the  \"handle_{type}\" callback, which takes\n",
       "        // the figure and JSON message as its only arguments.\n",
       "        try {\n",
       "            var callback = fig['handle_' + msg_type];\n",
       "        } catch (e) {\n",
       "            console.log(\n",
       "                \"No handler for the '\" + msg_type + \"' message type: \",\n",
       "                msg\n",
       "            );\n",
       "            return;\n",
       "        }\n",
       "\n",
       "        if (callback) {\n",
       "            try {\n",
       "                // console.log(\"Handling '\" + msg_type + \"' message: \", msg);\n",
       "                callback(fig, msg);\n",
       "            } catch (e) {\n",
       "                console.log(\n",
       "                    \"Exception inside the 'handler_\" + msg_type + \"' callback:\",\n",
       "                    e,\n",
       "                    e.stack,\n",
       "                    msg\n",
       "                );\n",
       "            }\n",
       "        }\n",
       "    };\n",
       "};\n",
       "\n",
       "// from http://stackoverflow.com/questions/1114465/getting-mouse-location-in-canvas\n",
       "mpl.findpos = function (e) {\n",
       "    //this section is from http://www.quirksmode.org/js/events_properties.html\n",
       "    var targ;\n",
       "    if (!e) {\n",
       "        e = window.event;\n",
       "    }\n",
       "    if (e.target) {\n",
       "        targ = e.target;\n",
       "    } else if (e.srcElement) {\n",
       "        targ = e.srcElement;\n",
       "    }\n",
       "    if (targ.nodeType === 3) {\n",
       "        // defeat Safari bug\n",
       "        targ = targ.parentNode;\n",
       "    }\n",
       "\n",
       "    // pageX,Y are the mouse positions relative to the document\n",
       "    var boundingRect = targ.getBoundingClientRect();\n",
       "    var x = e.pageX - (boundingRect.left + document.body.scrollLeft);\n",
       "    var y = e.pageY - (boundingRect.top + document.body.scrollTop);\n",
       "\n",
       "    return { x: x, y: y };\n",
       "};\n",
       "\n",
       "/*\n",
       " * return a copy of an object with only non-object keys\n",
       " * we need this to avoid circular references\n",
       " * http://stackoverflow.com/a/24161582/3208463\n",
       " */\n",
       "function simpleKeys(original) {\n",
       "    return Object.keys(original).reduce(function (obj, key) {\n",
       "        if (typeof original[key] !== 'object') {\n",
       "            obj[key] = original[key];\n",
       "        }\n",
       "        return obj;\n",
       "    }, {});\n",
       "}\n",
       "\n",
       "mpl.figure.prototype.mouse_event = function (event, name) {\n",
       "    var canvas_pos = mpl.findpos(event);\n",
       "\n",
       "    if (name === 'button_press') {\n",
       "        this.canvas.focus();\n",
       "        this.canvas_div.focus();\n",
       "    }\n",
       "\n",
       "    var x = canvas_pos.x * mpl.ratio;\n",
       "    var y = canvas_pos.y * mpl.ratio;\n",
       "\n",
       "    this.send_message(name, {\n",
       "        x: x,\n",
       "        y: y,\n",
       "        button: event.button,\n",
       "        step: event.step,\n",
       "        guiEvent: simpleKeys(event),\n",
       "    });\n",
       "\n",
       "    /* This prevents the web browser from automatically changing to\n",
       "     * the text insertion cursor when the button is pressed.  We want\n",
       "     * to control all of the cursor setting manually through the\n",
       "     * 'cursor' event from matplotlib */\n",
       "    event.preventDefault();\n",
       "    return false;\n",
       "};\n",
       "\n",
       "mpl.figure.prototype._key_event_extra = function (_event, _name) {\n",
       "    // Handle any extra behaviour associated with a key event\n",
       "};\n",
       "\n",
       "mpl.figure.prototype.key_event = function (event, name) {\n",
       "    // Prevent repeat events\n",
       "    if (name === 'key_press') {\n",
       "        if (event.which === this._key) {\n",
       "            return;\n",
       "        } else {\n",
       "            this._key = event.which;\n",
       "        }\n",
       "    }\n",
       "    if (name === 'key_release') {\n",
       "        this._key = null;\n",
       "    }\n",
       "\n",
       "    var value = '';\n",
       "    if (event.ctrlKey && event.which !== 17) {\n",
       "        value += 'ctrl+';\n",
       "    }\n",
       "    if (event.altKey && event.which !== 18) {\n",
       "        value += 'alt+';\n",
       "    }\n",
       "    if (event.shiftKey && event.which !== 16) {\n",
       "        value += 'shift+';\n",
       "    }\n",
       "\n",
       "    value += 'k';\n",
       "    value += event.which.toString();\n",
       "\n",
       "    this._key_event_extra(event, name);\n",
       "\n",
       "    this.send_message(name, { key: value, guiEvent: simpleKeys(event) });\n",
       "    return false;\n",
       "};\n",
       "\n",
       "mpl.figure.prototype.toolbar_button_onclick = function (name) {\n",
       "    if (name === 'download') {\n",
       "        this.handle_save(this, null);\n",
       "    } else {\n",
       "        this.send_message('toolbar_button', { name: name });\n",
       "    }\n",
       "};\n",
       "\n",
       "mpl.figure.prototype.toolbar_button_onmouseover = function (tooltip) {\n",
       "    this.message.textContent = tooltip;\n",
       "};\n",
       "mpl.toolbar_items = [[\"Home\", \"Reset original view\", \"fa fa-home icon-home\", \"home\"], [\"Back\", \"Back to previous view\", \"fa fa-arrow-left icon-arrow-left\", \"back\"], [\"Forward\", \"Forward to next view\", \"fa fa-arrow-right icon-arrow-right\", \"forward\"], [\"\", \"\", \"\", \"\"], [\"Pan\", \"Left button pans, Right button zooms\\nx/y fixes axis, CTRL fixes aspect\", \"fa fa-arrows icon-move\", \"pan\"], [\"Zoom\", \"Zoom to rectangle\\nx/y fixes axis, CTRL fixes aspect\", \"fa fa-square-o icon-check-empty\", \"zoom\"], [\"\", \"\", \"\", \"\"], [\"Download\", \"Download plot\", \"fa fa-floppy-o icon-save\", \"download\"]];\n",
       "\n",
       "mpl.extensions = [\"eps\", \"jpeg\", \"pdf\", \"png\", \"ps\", \"raw\", \"svg\", \"tif\"];\n",
       "\n",
       "mpl.default_extension = \"png\";/* global mpl */\n",
       "\n",
       "var comm_websocket_adapter = function (comm) {\n",
       "    // Create a \"websocket\"-like object which calls the given IPython comm\n",
       "    // object with the appropriate methods. Currently this is a non binary\n",
       "    // socket, so there is still some room for performance tuning.\n",
       "    var ws = {};\n",
       "\n",
       "    ws.close = function () {\n",
       "        comm.close();\n",
       "    };\n",
       "    ws.send = function (m) {\n",
       "        //console.log('sending', m);\n",
       "        comm.send(m);\n",
       "    };\n",
       "    // Register the callback with on_msg.\n",
       "    comm.on_msg(function (msg) {\n",
       "        //console.log('receiving', msg['content']['data'], msg);\n",
       "        // Pass the mpl event to the overridden (by mpl) onmessage function.\n",
       "        ws.onmessage(msg['content']['data']);\n",
       "    });\n",
       "    return ws;\n",
       "};\n",
       "\n",
       "mpl.mpl_figure_comm = function (comm, msg) {\n",
       "    // This is the function which gets called when the mpl process\n",
       "    // starts-up an IPython Comm through the \"matplotlib\" channel.\n",
       "\n",
       "    var id = msg.content.data.id;\n",
       "    // Get hold of the div created by the display call when the Comm\n",
       "    // socket was opened in Python.\n",
       "    var element = document.getElementById(id);\n",
       "    var ws_proxy = comm_websocket_adapter(comm);\n",
       "\n",
       "    function ondownload(figure, _format) {\n",
       "        window.open(figure.canvas.toDataURL());\n",
       "    }\n",
       "\n",
       "    var fig = new mpl.figure(id, ws_proxy, ondownload, element);\n",
       "\n",
       "    // Call onopen now - mpl needs it, as it is assuming we've passed it a real\n",
       "    // web socket which is closed, not our websocket->open comm proxy.\n",
       "    ws_proxy.onopen();\n",
       "\n",
       "    fig.parent_element = element;\n",
       "    fig.cell_info = mpl.find_output_cell(\"<div id='\" + id + \"'></div>\");\n",
       "    if (!fig.cell_info) {\n",
       "        console.error('Failed to find cell for figure', id, fig);\n",
       "        return;\n",
       "    }\n",
       "};\n",
       "\n",
       "mpl.figure.prototype.handle_close = function (fig, msg) {\n",
       "    var width = fig.canvas.width / mpl.ratio;\n",
       "    fig.root.removeEventListener('remove', this._remove_fig_handler);\n",
       "\n",
       "    // Update the output cell to use the data from the current canvas.\n",
       "    fig.push_to_output();\n",
       "    var dataURL = fig.canvas.toDataURL();\n",
       "    // Re-enable the keyboard manager in IPython - without this line, in FF,\n",
       "    // the notebook keyboard shortcuts fail.\n",
       "    IPython.keyboard_manager.enable();\n",
       "    fig.parent_element.innerHTML =\n",
       "        '<img src=\"' + dataURL + '\" width=\"' + width + '\">';\n",
       "    fig.close_ws(fig, msg);\n",
       "};\n",
       "\n",
       "mpl.figure.prototype.close_ws = function (fig, msg) {\n",
       "    fig.send_message('closing', msg);\n",
       "    // fig.ws.close()\n",
       "};\n",
       "\n",
       "mpl.figure.prototype.push_to_output = function (_remove_interactive) {\n",
       "    // Turn the data on the canvas into data in the output cell.\n",
       "    var width = this.canvas.width / mpl.ratio;\n",
       "    var dataURL = this.canvas.toDataURL();\n",
       "    this.cell_info[1]['text/html'] =\n",
       "        '<img src=\"' + dataURL + '\" width=\"' + width + '\">';\n",
       "};\n",
       "\n",
       "mpl.figure.prototype.updated_canvas_event = function () {\n",
       "    // Tell IPython that the notebook contents must change.\n",
       "    IPython.notebook.set_dirty(true);\n",
       "    this.send_message('ack', {});\n",
       "    var fig = this;\n",
       "    // Wait a second, then push the new image to the DOM so\n",
       "    // that it is saved nicely (might be nice to debounce this).\n",
       "    setTimeout(function () {\n",
       "        fig.push_to_output();\n",
       "    }, 1000);\n",
       "};\n",
       "\n",
       "mpl.figure.prototype._init_toolbar = function () {\n",
       "    var fig = this;\n",
       "\n",
       "    var toolbar = document.createElement('div');\n",
       "    toolbar.classList = 'btn-toolbar';\n",
       "    this.root.appendChild(toolbar);\n",
       "\n",
       "    function on_click_closure(name) {\n",
       "        return function (_event) {\n",
       "            return fig.toolbar_button_onclick(name);\n",
       "        };\n",
       "    }\n",
       "\n",
       "    function on_mouseover_closure(tooltip) {\n",
       "        return function (event) {\n",
       "            if (!event.currentTarget.disabled) {\n",
       "                return fig.toolbar_button_onmouseover(tooltip);\n",
       "            }\n",
       "        };\n",
       "    }\n",
       "\n",
       "    fig.buttons = {};\n",
       "    var buttonGroup = document.createElement('div');\n",
       "    buttonGroup.classList = 'btn-group';\n",
       "    var button;\n",
       "    for (var toolbar_ind in mpl.toolbar_items) {\n",
       "        var name = mpl.toolbar_items[toolbar_ind][0];\n",
       "        var tooltip = mpl.toolbar_items[toolbar_ind][1];\n",
       "        var image = mpl.toolbar_items[toolbar_ind][2];\n",
       "        var method_name = mpl.toolbar_items[toolbar_ind][3];\n",
       "\n",
       "        if (!name) {\n",
       "            /* Instead of a spacer, we start a new button group. */\n",
       "            if (buttonGroup.hasChildNodes()) {\n",
       "                toolbar.appendChild(buttonGroup);\n",
       "            }\n",
       "            buttonGroup = document.createElement('div');\n",
       "            buttonGroup.classList = 'btn-group';\n",
       "            continue;\n",
       "        }\n",
       "\n",
       "        button = fig.buttons[name] = document.createElement('button');\n",
       "        button.classList = 'btn btn-default';\n",
       "        button.href = '#';\n",
       "        button.title = name;\n",
       "        button.innerHTML = '<i class=\"fa ' + image + ' fa-lg\"></i>';\n",
       "        button.addEventListener('click', on_click_closure(method_name));\n",
       "        button.addEventListener('mouseover', on_mouseover_closure(tooltip));\n",
       "        buttonGroup.appendChild(button);\n",
       "    }\n",
       "\n",
       "    if (buttonGroup.hasChildNodes()) {\n",
       "        toolbar.appendChild(buttonGroup);\n",
       "    }\n",
       "\n",
       "    // Add the status bar.\n",
       "    var status_bar = document.createElement('span');\n",
       "    status_bar.classList = 'mpl-message pull-right';\n",
       "    toolbar.appendChild(status_bar);\n",
       "    this.message = status_bar;\n",
       "\n",
       "    // Add the close button to the window.\n",
       "    var buttongrp = document.createElement('div');\n",
       "    buttongrp.classList = 'btn-group inline pull-right';\n",
       "    button = document.createElement('button');\n",
       "    button.classList = 'btn btn-mini btn-primary';\n",
       "    button.href = '#';\n",
       "    button.title = 'Stop Interaction';\n",
       "    button.innerHTML = '<i class=\"fa fa-power-off icon-remove icon-large\"></i>';\n",
       "    button.addEventListener('click', function (_evt) {\n",
       "        fig.handle_close(fig, {});\n",
       "    });\n",
       "    button.addEventListener(\n",
       "        'mouseover',\n",
       "        on_mouseover_closure('Stop Interaction')\n",
       "    );\n",
       "    buttongrp.appendChild(button);\n",
       "    var titlebar = this.root.querySelector('.ui-dialog-titlebar');\n",
       "    titlebar.insertBefore(buttongrp, titlebar.firstChild);\n",
       "};\n",
       "\n",
       "mpl.figure.prototype._remove_fig_handler = function () {\n",
       "    this.close_ws(this, {});\n",
       "};\n",
       "\n",
       "mpl.figure.prototype._root_extra_style = function (el) {\n",
       "    el.style.boxSizing = 'content-box'; // override notebook setting of border-box.\n",
       "    el.addEventListener('remove', this._remove_fig_handler);\n",
       "};\n",
       "\n",
       "mpl.figure.prototype._canvas_extra_style = function (el) {\n",
       "    // this is important to make the div 'focusable\n",
       "    el.setAttribute('tabindex', 0);\n",
       "    // reach out to IPython and tell the keyboard manager to turn it's self\n",
       "    // off when our div gets focus\n",
       "\n",
       "    // location in version 3\n",
       "    if (IPython.notebook.keyboard_manager) {\n",
       "        IPython.notebook.keyboard_manager.register_events(el);\n",
       "    } else {\n",
       "        // location in version 2\n",
       "        IPython.keyboard_manager.register_events(el);\n",
       "    }\n",
       "};\n",
       "\n",
       "mpl.figure.prototype._key_event_extra = function (event, _name) {\n",
       "    var manager = IPython.notebook.keyboard_manager;\n",
       "    if (!manager) {\n",
       "        manager = IPython.keyboard_manager;\n",
       "    }\n",
       "\n",
       "    // Check for shift+enter\n",
       "    if (event.shiftKey && event.which === 13) {\n",
       "        this.canvas_div.blur();\n",
       "        // select the cell after this one\n",
       "        var index = IPython.notebook.find_cell_index(this.cell_info[0]);\n",
       "        IPython.notebook.select(index + 1);\n",
       "    }\n",
       "};\n",
       "\n",
       "mpl.figure.prototype.handle_save = function (fig, _msg) {\n",
       "    fig.ondownload(fig, null);\n",
       "};\n",
       "\n",
       "mpl.find_output_cell = function (html_output) {\n",
       "    // Return the cell and output element which can be found *uniquely* in the notebook.\n",
       "    // Note - this is a bit hacky, but it is done because the \"notebook_saving.Notebook\"\n",
       "    // IPython event is triggered only after the cells have been serialised, which for\n",
       "    // our purposes (turning an active figure into a static one), is too late.\n",
       "    var cells = IPython.notebook.get_cells();\n",
       "    var ncells = cells.length;\n",
       "    for (var i = 0; i < ncells; i++) {\n",
       "        var cell = cells[i];\n",
       "        if (cell.cell_type === 'code') {\n",
       "            for (var j = 0; j < cell.output_area.outputs.length; j++) {\n",
       "                var data = cell.output_area.outputs[j];\n",
       "                if (data.data) {\n",
       "                    // IPython >= 3 moved mimebundle to data attribute of output\n",
       "                    data = data.data;\n",
       "                }\n",
       "                if (data['text/html'] === html_output) {\n",
       "                    return [cell, data, j];\n",
       "                }\n",
       "            }\n",
       "        }\n",
       "    }\n",
       "};\n",
       "\n",
       "// Register the function which deals with the matplotlib target/channel.\n",
       "// The kernel may be null if the page has been refreshed.\n",
       "if (IPython.notebook.kernel !== null) {\n",
       "    IPython.notebook.kernel.comm_manager.register_target(\n",
       "        'matplotlib',\n",
       "        mpl.mpl_figure_comm\n",
       "    );\n",
       "}\n"
      ],
      "text/plain": [
       "<IPython.core.display.Javascript object>"
      ]
     },
     "metadata": {},
     "output_type": "display_data"
    },
    {
     "data": {
      "text/html": [
       "<img src=\"data:image/png;base64,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\" width=\"640\">"
      ],
      "text/plain": [
       "<IPython.core.display.HTML object>"
      ]
     },
     "metadata": {},
     "output_type": "display_data"
    },
    {
     "data": {
      "text/plain": [
       "<AxesSubplot:>"
      ]
     },
     "execution_count": 15,
     "metadata": {},
     "output_type": "execute_result"
    }
   ],
   "source": [
    "fig, ax = plt.subplots()\n",
    "pd.Series(samples_dict['beta']).hist(ax=ax)"
   ]
  },
  {
   "cell_type": "code",
   "execution_count": 16,
   "metadata": {
    "ExecuteTime": {
     "end_time": "2020-11-06T07:32:54.713111Z",
     "start_time": "2020-11-06T07:32:54.674561Z"
    }
   },
   "outputs": [
    {
     "data": {
      "text/plain": [
       "60"
      ]
     },
     "execution_count": 16,
     "metadata": {},
     "output_type": "execute_result"
    }
   ],
   "source": [
    "samples_dict['warmup']"
   ]
  },
  {
   "cell_type": "code",
   "execution_count": 18,
   "metadata": {
    "ExecuteTime": {
     "end_time": "2020-11-06T07:34:10.053322Z",
     "start_time": "2020-11-06T07:33:27.521983Z"
    },
    "scrolled": false
   },
   "outputs": [
    {
     "data": {
      "application/javascript": [
       "/* Put everything inside the global mpl namespace */\n",
       "/* global mpl */\n",
       "window.mpl = {};\n",
       "\n",
       "mpl.get_websocket_type = function () {\n",
       "    if (typeof WebSocket !== 'undefined') {\n",
       "        return WebSocket;\n",
       "    } else if (typeof MozWebSocket !== 'undefined') {\n",
       "        return MozWebSocket;\n",
       "    } else {\n",
       "        alert(\n",
       "            'Your browser does not have WebSocket support. ' +\n",
       "                'Please try Chrome, Safari or Firefox ≥ 6. ' +\n",
       "                'Firefox 4 and 5 are also supported but you ' +\n",
       "                'have to enable WebSockets in about:config.'\n",
       "        );\n",
       "    }\n",
       "};\n",
       "\n",
       "mpl.figure = function (figure_id, websocket, ondownload, parent_element) {\n",
       "    this.id = figure_id;\n",
       "\n",
       "    this.ws = websocket;\n",
       "\n",
       "    this.supports_binary = this.ws.binaryType !== undefined;\n",
       "\n",
       "    if (!this.supports_binary) {\n",
       "        var warnings = document.getElementById('mpl-warnings');\n",
       "        if (warnings) {\n",
       "            warnings.style.display = 'block';\n",
       "            warnings.textContent =\n",
       "                'This browser does not support binary websocket messages. ' +\n",
       "                'Performance may be slow.';\n",
       "        }\n",
       "    }\n",
       "\n",
       "    this.imageObj = new Image();\n",
       "\n",
       "    this.context = undefined;\n",
       "    this.message = undefined;\n",
       "    this.canvas = undefined;\n",
       "    this.rubberband_canvas = undefined;\n",
       "    this.rubberband_context = undefined;\n",
       "    this.format_dropdown = undefined;\n",
       "\n",
       "    this.image_mode = 'full';\n",
       "\n",
       "    this.root = document.createElement('div');\n",
       "    this.root.setAttribute('style', 'display: inline-block');\n",
       "    this._root_extra_style(this.root);\n",
       "\n",
       "    parent_element.appendChild(this.root);\n",
       "\n",
       "    this._init_header(this);\n",
       "    this._init_canvas(this);\n",
       "    this._init_toolbar(this);\n",
       "\n",
       "    var fig = this;\n",
       "\n",
       "    this.waiting = false;\n",
       "\n",
       "    this.ws.onopen = function () {\n",
       "        fig.send_message('supports_binary', { value: fig.supports_binary });\n",
       "        fig.send_message('send_image_mode', {});\n",
       "        if (mpl.ratio !== 1) {\n",
       "            fig.send_message('set_dpi_ratio', { dpi_ratio: mpl.ratio });\n",
       "        }\n",
       "        fig.send_message('refresh', {});\n",
       "    };\n",
       "\n",
       "    this.imageObj.onload = function () {\n",
       "        if (fig.image_mode === 'full') {\n",
       "            // Full images could contain transparency (where diff images\n",
       "            // almost always do), so we need to clear the canvas so that\n",
       "            // there is no ghosting.\n",
       "            fig.context.clearRect(0, 0, fig.canvas.width, fig.canvas.height);\n",
       "        }\n",
       "        fig.context.drawImage(fig.imageObj, 0, 0);\n",
       "    };\n",
       "\n",
       "    this.imageObj.onunload = function () {\n",
       "        fig.ws.close();\n",
       "    };\n",
       "\n",
       "    this.ws.onmessage = this._make_on_message_function(this);\n",
       "\n",
       "    this.ondownload = ondownload;\n",
       "};\n",
       "\n",
       "mpl.figure.prototype._init_header = function () {\n",
       "    var titlebar = document.createElement('div');\n",
       "    titlebar.classList =\n",
       "        'ui-dialog-titlebar ui-widget-header ui-corner-all ui-helper-clearfix';\n",
       "    var titletext = document.createElement('div');\n",
       "    titletext.classList = 'ui-dialog-title';\n",
       "    titletext.setAttribute(\n",
       "        'style',\n",
       "        'width: 100%; text-align: center; padding: 3px;'\n",
       "    );\n",
       "    titlebar.appendChild(titletext);\n",
       "    this.root.appendChild(titlebar);\n",
       "    this.header = titletext;\n",
       "};\n",
       "\n",
       "mpl.figure.prototype._canvas_extra_style = function (_canvas_div) {};\n",
       "\n",
       "mpl.figure.prototype._root_extra_style = function (_canvas_div) {};\n",
       "\n",
       "mpl.figure.prototype._init_canvas = function () {\n",
       "    var fig = this;\n",
       "\n",
       "    var canvas_div = (this.canvas_div = document.createElement('div'));\n",
       "    canvas_div.setAttribute(\n",
       "        'style',\n",
       "        'border: 1px solid #ddd;' +\n",
       "            'box-sizing: content-box;' +\n",
       "            'clear: both;' +\n",
       "            'min-height: 1px;' +\n",
       "            'min-width: 1px;' +\n",
       "            'outline: 0;' +\n",
       "            'overflow: hidden;' +\n",
       "            'position: relative;' +\n",
       "            'resize: both;'\n",
       "    );\n",
       "\n",
       "    function on_keyboard_event_closure(name) {\n",
       "        return function (event) {\n",
       "            return fig.key_event(event, name);\n",
       "        };\n",
       "    }\n",
       "\n",
       "    canvas_div.addEventListener(\n",
       "        'keydown',\n",
       "        on_keyboard_event_closure('key_press')\n",
       "    );\n",
       "    canvas_div.addEventListener(\n",
       "        'keyup',\n",
       "        on_keyboard_event_closure('key_release')\n",
       "    );\n",
       "\n",
       "    this._canvas_extra_style(canvas_div);\n",
       "    this.root.appendChild(canvas_div);\n",
       "\n",
       "    var canvas = (this.canvas = document.createElement('canvas'));\n",
       "    canvas.classList.add('mpl-canvas');\n",
       "    canvas.setAttribute('style', 'box-sizing: content-box;');\n",
       "\n",
       "    this.context = canvas.getContext('2d');\n",
       "\n",
       "    var backingStore =\n",
       "        this.context.backingStorePixelRatio ||\n",
       "        this.context.webkitBackingStorePixelRatio ||\n",
       "        this.context.mozBackingStorePixelRatio ||\n",
       "        this.context.msBackingStorePixelRatio ||\n",
       "        this.context.oBackingStorePixelRatio ||\n",
       "        this.context.backingStorePixelRatio ||\n",
       "        1;\n",
       "\n",
       "    mpl.ratio = (window.devicePixelRatio || 1) / backingStore;\n",
       "\n",
       "    var rubberband_canvas = (this.rubberband_canvas = document.createElement(\n",
       "        'canvas'\n",
       "    ));\n",
       "    rubberband_canvas.setAttribute(\n",
       "        'style',\n",
       "        'box-sizing: content-box; position: absolute; left: 0; top: 0; z-index: 1;'\n",
       "    );\n",
       "\n",
       "    var resizeObserver = new ResizeObserver(function (entries) {\n",
       "        var nentries = entries.length;\n",
       "        for (var i = 0; i < nentries; i++) {\n",
       "            var entry = entries[i];\n",
       "            var width, height;\n",
       "            if (entry.contentBoxSize) {\n",
       "                if (entry.contentBoxSize instanceof Array) {\n",
       "                    // Chrome 84 implements new version of spec.\n",
       "                    width = entry.contentBoxSize[0].inlineSize;\n",
       "                    height = entry.contentBoxSize[0].blockSize;\n",
       "                } else {\n",
       "                    // Firefox implements old version of spec.\n",
       "                    width = entry.contentBoxSize.inlineSize;\n",
       "                    height = entry.contentBoxSize.blockSize;\n",
       "                }\n",
       "            } else {\n",
       "                // Chrome <84 implements even older version of spec.\n",
       "                width = entry.contentRect.width;\n",
       "                height = entry.contentRect.height;\n",
       "            }\n",
       "\n",
       "            // Keep the size of the canvas and rubber band canvas in sync with\n",
       "            // the canvas container.\n",
       "            if (entry.devicePixelContentBoxSize) {\n",
       "                // Chrome 84 implements new version of spec.\n",
       "                canvas.setAttribute(\n",
       "                    'width',\n",
       "                    entry.devicePixelContentBoxSize[0].inlineSize\n",
       "                );\n",
       "                canvas.setAttribute(\n",
       "                    'height',\n",
       "                    entry.devicePixelContentBoxSize[0].blockSize\n",
       "                );\n",
       "            } else {\n",
       "                canvas.setAttribute('width', width * mpl.ratio);\n",
       "                canvas.setAttribute('height', height * mpl.ratio);\n",
       "            }\n",
       "            canvas.setAttribute(\n",
       "                'style',\n",
       "                'width: ' + width + 'px; height: ' + height + 'px;'\n",
       "            );\n",
       "\n",
       "            rubberband_canvas.setAttribute('width', width);\n",
       "            rubberband_canvas.setAttribute('height', height);\n",
       "\n",
       "            // And update the size in Python. We ignore the initial 0/0 size\n",
       "            // that occurs as the element is placed into the DOM, which should\n",
       "            // otherwise not happen due to the minimum size styling.\n",
       "            if (width != 0 && height != 0) {\n",
       "                fig.request_resize(width, height);\n",
       "            }\n",
       "        }\n",
       "    });\n",
       "    resizeObserver.observe(canvas_div);\n",
       "\n",
       "    function on_mouse_event_closure(name) {\n",
       "        return function (event) {\n",
       "            return fig.mouse_event(event, name);\n",
       "        };\n",
       "    }\n",
       "\n",
       "    rubberband_canvas.addEventListener(\n",
       "        'mousedown',\n",
       "        on_mouse_event_closure('button_press')\n",
       "    );\n",
       "    rubberband_canvas.addEventListener(\n",
       "        'mouseup',\n",
       "        on_mouse_event_closure('button_release')\n",
       "    );\n",
       "    // Throttle sequential mouse events to 1 every 20ms.\n",
       "    rubberband_canvas.addEventListener(\n",
       "        'mousemove',\n",
       "        on_mouse_event_closure('motion_notify')\n",
       "    );\n",
       "\n",
       "    rubberband_canvas.addEventListener(\n",
       "        'mouseenter',\n",
       "        on_mouse_event_closure('figure_enter')\n",
       "    );\n",
       "    rubberband_canvas.addEventListener(\n",
       "        'mouseleave',\n",
       "        on_mouse_event_closure('figure_leave')\n",
       "    );\n",
       "\n",
       "    canvas_div.addEventListener('wheel', function (event) {\n",
       "        if (event.deltaY < 0) {\n",
       "            event.step = 1;\n",
       "        } else {\n",
       "            event.step = -1;\n",
       "        }\n",
       "        on_mouse_event_closure('scroll')(event);\n",
       "    });\n",
       "\n",
       "    canvas_div.appendChild(canvas);\n",
       "    canvas_div.appendChild(rubberband_canvas);\n",
       "\n",
       "    this.rubberband_context = rubberband_canvas.getContext('2d');\n",
       "    this.rubberband_context.strokeStyle = '#000000';\n",
       "\n",
       "    this._resize_canvas = function (width, height, forward) {\n",
       "        if (forward) {\n",
       "            canvas_div.style.width = width + 'px';\n",
       "            canvas_div.style.height = height + 'px';\n",
       "        }\n",
       "    };\n",
       "\n",
       "    // Disable right mouse context menu.\n",
       "    this.rubberband_canvas.addEventListener('contextmenu', function (_e) {\n",
       "        event.preventDefault();\n",
       "        return false;\n",
       "    });\n",
       "\n",
       "    function set_focus() {\n",
       "        canvas.focus();\n",
       "        canvas_div.focus();\n",
       "    }\n",
       "\n",
       "    window.setTimeout(set_focus, 100);\n",
       "};\n",
       "\n",
       "mpl.figure.prototype._init_toolbar = function () {\n",
       "    var fig = this;\n",
       "\n",
       "    var toolbar = document.createElement('div');\n",
       "    toolbar.classList = 'mpl-toolbar';\n",
       "    this.root.appendChild(toolbar);\n",
       "\n",
       "    function on_click_closure(name) {\n",
       "        return function (_event) {\n",
       "            return fig.toolbar_button_onclick(name);\n",
       "        };\n",
       "    }\n",
       "\n",
       "    function on_mouseover_closure(tooltip) {\n",
       "        return function (event) {\n",
       "            if (!event.currentTarget.disabled) {\n",
       "                return fig.toolbar_button_onmouseover(tooltip);\n",
       "            }\n",
       "        };\n",
       "    }\n",
       "\n",
       "    fig.buttons = {};\n",
       "    var buttonGroup = document.createElement('div');\n",
       "    buttonGroup.classList = 'mpl-button-group';\n",
       "    for (var toolbar_ind in mpl.toolbar_items) {\n",
       "        var name = mpl.toolbar_items[toolbar_ind][0];\n",
       "        var tooltip = mpl.toolbar_items[toolbar_ind][1];\n",
       "        var image = mpl.toolbar_items[toolbar_ind][2];\n",
       "        var method_name = mpl.toolbar_items[toolbar_ind][3];\n",
       "\n",
       "        if (!name) {\n",
       "            /* Instead of a spacer, we start a new button group. */\n",
       "            if (buttonGroup.hasChildNodes()) {\n",
       "                toolbar.appendChild(buttonGroup);\n",
       "            }\n",
       "            buttonGroup = document.createElement('div');\n",
       "            buttonGroup.classList = 'mpl-button-group';\n",
       "            continue;\n",
       "        }\n",
       "\n",
       "        var button = (fig.buttons[name] = document.createElement('button'));\n",
       "        button.classList = 'mpl-widget';\n",
       "        button.setAttribute('role', 'button');\n",
       "        button.setAttribute('aria-disabled', 'false');\n",
       "        button.addEventListener('click', on_click_closure(method_name));\n",
       "        button.addEventListener('mouseover', on_mouseover_closure(tooltip));\n",
       "\n",
       "        var icon_img = document.createElement('img');\n",
       "        icon_img.src = '_images/' + image + '.png';\n",
       "        icon_img.srcset = '_images/' + image + '_large.png 2x';\n",
       "        icon_img.alt = tooltip;\n",
       "        button.appendChild(icon_img);\n",
       "\n",
       "        buttonGroup.appendChild(button);\n",
       "    }\n",
       "\n",
       "    if (buttonGroup.hasChildNodes()) {\n",
       "        toolbar.appendChild(buttonGroup);\n",
       "    }\n",
       "\n",
       "    var fmt_picker = document.createElement('select');\n",
       "    fmt_picker.classList = 'mpl-widget';\n",
       "    toolbar.appendChild(fmt_picker);\n",
       "    this.format_dropdown = fmt_picker;\n",
       "\n",
       "    for (var ind in mpl.extensions) {\n",
       "        var fmt = mpl.extensions[ind];\n",
       "        var option = document.createElement('option');\n",
       "        option.selected = fmt === mpl.default_extension;\n",
       "        option.innerHTML = fmt;\n",
       "        fmt_picker.appendChild(option);\n",
       "    }\n",
       "\n",
       "    var status_bar = document.createElement('span');\n",
       "    status_bar.classList = 'mpl-message';\n",
       "    toolbar.appendChild(status_bar);\n",
       "    this.message = status_bar;\n",
       "};\n",
       "\n",
       "mpl.figure.prototype.request_resize = function (x_pixels, y_pixels) {\n",
       "    // Request matplotlib to resize the figure. Matplotlib will then trigger a resize in the client,\n",
       "    // which will in turn request a refresh of the image.\n",
       "    this.send_message('resize', { width: x_pixels, height: y_pixels });\n",
       "};\n",
       "\n",
       "mpl.figure.prototype.send_message = function (type, properties) {\n",
       "    properties['type'] = type;\n",
       "    properties['figure_id'] = this.id;\n",
       "    this.ws.send(JSON.stringify(properties));\n",
       "};\n",
       "\n",
       "mpl.figure.prototype.send_draw_message = function () {\n",
       "    if (!this.waiting) {\n",
       "        this.waiting = true;\n",
       "        this.ws.send(JSON.stringify({ type: 'draw', figure_id: this.id }));\n",
       "    }\n",
       "};\n",
       "\n",
       "mpl.figure.prototype.handle_save = function (fig, _msg) {\n",
       "    var format_dropdown = fig.format_dropdown;\n",
       "    var format = format_dropdown.options[format_dropdown.selectedIndex].value;\n",
       "    fig.ondownload(fig, format);\n",
       "};\n",
       "\n",
       "mpl.figure.prototype.handle_resize = function (fig, msg) {\n",
       "    var size = msg['size'];\n",
       "    if (size[0] !== fig.canvas.width || size[1] !== fig.canvas.height) {\n",
       "        fig._resize_canvas(size[0], size[1], msg['forward']);\n",
       "        fig.send_message('refresh', {});\n",
       "    }\n",
       "};\n",
       "\n",
       "mpl.figure.prototype.handle_rubberband = function (fig, msg) {\n",
       "    var x0 = msg['x0'] / mpl.ratio;\n",
       "    var y0 = (fig.canvas.height - msg['y0']) / mpl.ratio;\n",
       "    var x1 = msg['x1'] / mpl.ratio;\n",
       "    var y1 = (fig.canvas.height - msg['y1']) / mpl.ratio;\n",
       "    x0 = Math.floor(x0) + 0.5;\n",
       "    y0 = Math.floor(y0) + 0.5;\n",
       "    x1 = Math.floor(x1) + 0.5;\n",
       "    y1 = Math.floor(y1) + 0.5;\n",
       "    var min_x = Math.min(x0, x1);\n",
       "    var min_y = Math.min(y0, y1);\n",
       "    var width = Math.abs(x1 - x0);\n",
       "    var height = Math.abs(y1 - y0);\n",
       "\n",
       "    fig.rubberband_context.clearRect(\n",
       "        0,\n",
       "        0,\n",
       "        fig.canvas.width / mpl.ratio,\n",
       "        fig.canvas.height / mpl.ratio\n",
       "    );\n",
       "\n",
       "    fig.rubberband_context.strokeRect(min_x, min_y, width, height);\n",
       "};\n",
       "\n",
       "mpl.figure.prototype.handle_figure_label = function (fig, msg) {\n",
       "    // Updates the figure title.\n",
       "    fig.header.textContent = msg['label'];\n",
       "};\n",
       "\n",
       "mpl.figure.prototype.handle_cursor = function (fig, msg) {\n",
       "    var cursor = msg['cursor'];\n",
       "    switch (cursor) {\n",
       "        case 0:\n",
       "            cursor = 'pointer';\n",
       "            break;\n",
       "        case 1:\n",
       "            cursor = 'default';\n",
       "            break;\n",
       "        case 2:\n",
       "            cursor = 'crosshair';\n",
       "            break;\n",
       "        case 3:\n",
       "            cursor = 'move';\n",
       "            break;\n",
       "    }\n",
       "    fig.rubberband_canvas.style.cursor = cursor;\n",
       "};\n",
       "\n",
       "mpl.figure.prototype.handle_message = function (fig, msg) {\n",
       "    fig.message.textContent = msg['message'];\n",
       "};\n",
       "\n",
       "mpl.figure.prototype.handle_draw = function (fig, _msg) {\n",
       "    // Request the server to send over a new figure.\n",
       "    fig.send_draw_message();\n",
       "};\n",
       "\n",
       "mpl.figure.prototype.handle_image_mode = function (fig, msg) {\n",
       "    fig.image_mode = msg['mode'];\n",
       "};\n",
       "\n",
       "mpl.figure.prototype.handle_history_buttons = function (fig, msg) {\n",
       "    for (var key in msg) {\n",
       "        if (!(key in fig.buttons)) {\n",
       "            continue;\n",
       "        }\n",
       "        fig.buttons[key].disabled = !msg[key];\n",
       "        fig.buttons[key].setAttribute('aria-disabled', !msg[key]);\n",
       "    }\n",
       "};\n",
       "\n",
       "mpl.figure.prototype.handle_navigate_mode = function (fig, msg) {\n",
       "    if (msg['mode'] === 'PAN') {\n",
       "        fig.buttons['Pan'].classList.add('active');\n",
       "        fig.buttons['Zoom'].classList.remove('active');\n",
       "    } else if (msg['mode'] === 'ZOOM') {\n",
       "        fig.buttons['Pan'].classList.remove('active');\n",
       "        fig.buttons['Zoom'].classList.add('active');\n",
       "    } else {\n",
       "        fig.buttons['Pan'].classList.remove('active');\n",
       "        fig.buttons['Zoom'].classList.remove('active');\n",
       "    }\n",
       "};\n",
       "\n",
       "mpl.figure.prototype.updated_canvas_event = function () {\n",
       "    // Called whenever the canvas gets updated.\n",
       "    this.send_message('ack', {});\n",
       "};\n",
       "\n",
       "// A function to construct a web socket function for onmessage handling.\n",
       "// Called in the figure constructor.\n",
       "mpl.figure.prototype._make_on_message_function = function (fig) {\n",
       "    return function socket_on_message(evt) {\n",
       "        if (evt.data instanceof Blob) {\n",
       "            /* FIXME: We get \"Resource interpreted as Image but\n",
       "             * transferred with MIME type text/plain:\" errors on\n",
       "             * Chrome.  But how to set the MIME type?  It doesn't seem\n",
       "             * to be part of the websocket stream */\n",
       "            evt.data.type = 'image/png';\n",
       "\n",
       "            /* Free the memory for the previous frames */\n",
       "            if (fig.imageObj.src) {\n",
       "                (window.URL || window.webkitURL).revokeObjectURL(\n",
       "                    fig.imageObj.src\n",
       "                );\n",
       "            }\n",
       "\n",
       "            fig.imageObj.src = (window.URL || window.webkitURL).createObjectURL(\n",
       "                evt.data\n",
       "            );\n",
       "            fig.updated_canvas_event();\n",
       "            fig.waiting = false;\n",
       "            return;\n",
       "        } else if (\n",
       "            typeof evt.data === 'string' &&\n",
       "            evt.data.slice(0, 21) === 'data:image/png;base64'\n",
       "        ) {\n",
       "            fig.imageObj.src = evt.data;\n",
       "            fig.updated_canvas_event();\n",
       "            fig.waiting = false;\n",
       "            return;\n",
       "        }\n",
       "\n",
       "        var msg = JSON.parse(evt.data);\n",
       "        var msg_type = msg['type'];\n",
       "\n",
       "        // Call the  \"handle_{type}\" callback, which takes\n",
       "        // the figure and JSON message as its only arguments.\n",
       "        try {\n",
       "            var callback = fig['handle_' + msg_type];\n",
       "        } catch (e) {\n",
       "            console.log(\n",
       "                \"No handler for the '\" + msg_type + \"' message type: \",\n",
       "                msg\n",
       "            );\n",
       "            return;\n",
       "        }\n",
       "\n",
       "        if (callback) {\n",
       "            try {\n",
       "                // console.log(\"Handling '\" + msg_type + \"' message: \", msg);\n",
       "                callback(fig, msg);\n",
       "            } catch (e) {\n",
       "                console.log(\n",
       "                    \"Exception inside the 'handler_\" + msg_type + \"' callback:\",\n",
       "                    e,\n",
       "                    e.stack,\n",
       "                    msg\n",
       "                );\n",
       "            }\n",
       "        }\n",
       "    };\n",
       "};\n",
       "\n",
       "// from http://stackoverflow.com/questions/1114465/getting-mouse-location-in-canvas\n",
       "mpl.findpos = function (e) {\n",
       "    //this section is from http://www.quirksmode.org/js/events_properties.html\n",
       "    var targ;\n",
       "    if (!e) {\n",
       "        e = window.event;\n",
       "    }\n",
       "    if (e.target) {\n",
       "        targ = e.target;\n",
       "    } else if (e.srcElement) {\n",
       "        targ = e.srcElement;\n",
       "    }\n",
       "    if (targ.nodeType === 3) {\n",
       "        // defeat Safari bug\n",
       "        targ = targ.parentNode;\n",
       "    }\n",
       "\n",
       "    // pageX,Y are the mouse positions relative to the document\n",
       "    var boundingRect = targ.getBoundingClientRect();\n",
       "    var x = e.pageX - (boundingRect.left + document.body.scrollLeft);\n",
       "    var y = e.pageY - (boundingRect.top + document.body.scrollTop);\n",
       "\n",
       "    return { x: x, y: y };\n",
       "};\n",
       "\n",
       "/*\n",
       " * return a copy of an object with only non-object keys\n",
       " * we need this to avoid circular references\n",
       " * http://stackoverflow.com/a/24161582/3208463\n",
       " */\n",
       "function simpleKeys(original) {\n",
       "    return Object.keys(original).reduce(function (obj, key) {\n",
       "        if (typeof original[key] !== 'object') {\n",
       "            obj[key] = original[key];\n",
       "        }\n",
       "        return obj;\n",
       "    }, {});\n",
       "}\n",
       "\n",
       "mpl.figure.prototype.mouse_event = function (event, name) {\n",
       "    var canvas_pos = mpl.findpos(event);\n",
       "\n",
       "    if (name === 'button_press') {\n",
       "        this.canvas.focus();\n",
       "        this.canvas_div.focus();\n",
       "    }\n",
       "\n",
       "    var x = canvas_pos.x * mpl.ratio;\n",
       "    var y = canvas_pos.y * mpl.ratio;\n",
       "\n",
       "    this.send_message(name, {\n",
       "        x: x,\n",
       "        y: y,\n",
       "        button: event.button,\n",
       "        step: event.step,\n",
       "        guiEvent: simpleKeys(event),\n",
       "    });\n",
       "\n",
       "    /* This prevents the web browser from automatically changing to\n",
       "     * the text insertion cursor when the button is pressed.  We want\n",
       "     * to control all of the cursor setting manually through the\n",
       "     * 'cursor' event from matplotlib */\n",
       "    event.preventDefault();\n",
       "    return false;\n",
       "};\n",
       "\n",
       "mpl.figure.prototype._key_event_extra = function (_event, _name) {\n",
       "    // Handle any extra behaviour associated with a key event\n",
       "};\n",
       "\n",
       "mpl.figure.prototype.key_event = function (event, name) {\n",
       "    // Prevent repeat events\n",
       "    if (name === 'key_press') {\n",
       "        if (event.which === this._key) {\n",
       "            return;\n",
       "        } else {\n",
       "            this._key = event.which;\n",
       "        }\n",
       "    }\n",
       "    if (name === 'key_release') {\n",
       "        this._key = null;\n",
       "    }\n",
       "\n",
       "    var value = '';\n",
       "    if (event.ctrlKey && event.which !== 17) {\n",
       "        value += 'ctrl+';\n",
       "    }\n",
       "    if (event.altKey && event.which !== 18) {\n",
       "        value += 'alt+';\n",
       "    }\n",
       "    if (event.shiftKey && event.which !== 16) {\n",
       "        value += 'shift+';\n",
       "    }\n",
       "\n",
       "    value += 'k';\n",
       "    value += event.which.toString();\n",
       "\n",
       "    this._key_event_extra(event, name);\n",
       "\n",
       "    this.send_message(name, { key: value, guiEvent: simpleKeys(event) });\n",
       "    return false;\n",
       "};\n",
       "\n",
       "mpl.figure.prototype.toolbar_button_onclick = function (name) {\n",
       "    if (name === 'download') {\n",
       "        this.handle_save(this, null);\n",
       "    } else {\n",
       "        this.send_message('toolbar_button', { name: name });\n",
       "    }\n",
       "};\n",
       "\n",
       "mpl.figure.prototype.toolbar_button_onmouseover = function (tooltip) {\n",
       "    this.message.textContent = tooltip;\n",
       "};\n",
       "mpl.toolbar_items = [[\"Home\", \"Reset original view\", \"fa fa-home icon-home\", \"home\"], [\"Back\", \"Back to previous view\", \"fa fa-arrow-left icon-arrow-left\", \"back\"], [\"Forward\", \"Forward to next view\", \"fa fa-arrow-right icon-arrow-right\", \"forward\"], [\"\", \"\", \"\", \"\"], [\"Pan\", \"Left button pans, Right button zooms\\nx/y fixes axis, CTRL fixes aspect\", \"fa fa-arrows icon-move\", \"pan\"], [\"Zoom\", \"Zoom to rectangle\\nx/y fixes axis, CTRL fixes aspect\", \"fa fa-square-o icon-check-empty\", \"zoom\"], [\"\", \"\", \"\", \"\"], [\"Download\", \"Download plot\", \"fa fa-floppy-o icon-save\", \"download\"]];\n",
       "\n",
       "mpl.extensions = [\"eps\", \"jpeg\", \"pdf\", \"png\", \"ps\", \"raw\", \"svg\", \"tif\"];\n",
       "\n",
       "mpl.default_extension = \"png\";/* global mpl */\n",
       "\n",
       "var comm_websocket_adapter = function (comm) {\n",
       "    // Create a \"websocket\"-like object which calls the given IPython comm\n",
       "    // object with the appropriate methods. Currently this is a non binary\n",
       "    // socket, so there is still some room for performance tuning.\n",
       "    var ws = {};\n",
       "\n",
       "    ws.close = function () {\n",
       "        comm.close();\n",
       "    };\n",
       "    ws.send = function (m) {\n",
       "        //console.log('sending', m);\n",
       "        comm.send(m);\n",
       "    };\n",
       "    // Register the callback with on_msg.\n",
       "    comm.on_msg(function (msg) {\n",
       "        //console.log('receiving', msg['content']['data'], msg);\n",
       "        // Pass the mpl event to the overridden (by mpl) onmessage function.\n",
       "        ws.onmessage(msg['content']['data']);\n",
       "    });\n",
       "    return ws;\n",
       "};\n",
       "\n",
       "mpl.mpl_figure_comm = function (comm, msg) {\n",
       "    // This is the function which gets called when the mpl process\n",
       "    // starts-up an IPython Comm through the \"matplotlib\" channel.\n",
       "\n",
       "    var id = msg.content.data.id;\n",
       "    // Get hold of the div created by the display call when the Comm\n",
       "    // socket was opened in Python.\n",
       "    var element = document.getElementById(id);\n",
       "    var ws_proxy = comm_websocket_adapter(comm);\n",
       "\n",
       "    function ondownload(figure, _format) {\n",
       "        window.open(figure.canvas.toDataURL());\n",
       "    }\n",
       "\n",
       "    var fig = new mpl.figure(id, ws_proxy, ondownload, element);\n",
       "\n",
       "    // Call onopen now - mpl needs it, as it is assuming we've passed it a real\n",
       "    // web socket which is closed, not our websocket->open comm proxy.\n",
       "    ws_proxy.onopen();\n",
       "\n",
       "    fig.parent_element = element;\n",
       "    fig.cell_info = mpl.find_output_cell(\"<div id='\" + id + \"'></div>\");\n",
       "    if (!fig.cell_info) {\n",
       "        console.error('Failed to find cell for figure', id, fig);\n",
       "        return;\n",
       "    }\n",
       "};\n",
       "\n",
       "mpl.figure.prototype.handle_close = function (fig, msg) {\n",
       "    var width = fig.canvas.width / mpl.ratio;\n",
       "    fig.root.removeEventListener('remove', this._remove_fig_handler);\n",
       "\n",
       "    // Update the output cell to use the data from the current canvas.\n",
       "    fig.push_to_output();\n",
       "    var dataURL = fig.canvas.toDataURL();\n",
       "    // Re-enable the keyboard manager in IPython - without this line, in FF,\n",
       "    // the notebook keyboard shortcuts fail.\n",
       "    IPython.keyboard_manager.enable();\n",
       "    fig.parent_element.innerHTML =\n",
       "        '<img src=\"' + dataURL + '\" width=\"' + width + '\">';\n",
       "    fig.close_ws(fig, msg);\n",
       "};\n",
       "\n",
       "mpl.figure.prototype.close_ws = function (fig, msg) {\n",
       "    fig.send_message('closing', msg);\n",
       "    // fig.ws.close()\n",
       "};\n",
       "\n",
       "mpl.figure.prototype.push_to_output = function (_remove_interactive) {\n",
       "    // Turn the data on the canvas into data in the output cell.\n",
       "    var width = this.canvas.width / mpl.ratio;\n",
       "    var dataURL = this.canvas.toDataURL();\n",
       "    this.cell_info[1]['text/html'] =\n",
       "        '<img src=\"' + dataURL + '\" width=\"' + width + '\">';\n",
       "};\n",
       "\n",
       "mpl.figure.prototype.updated_canvas_event = function () {\n",
       "    // Tell IPython that the notebook contents must change.\n",
       "    IPython.notebook.set_dirty(true);\n",
       "    this.send_message('ack', {});\n",
       "    var fig = this;\n",
       "    // Wait a second, then push the new image to the DOM so\n",
       "    // that it is saved nicely (might be nice to debounce this).\n",
       "    setTimeout(function () {\n",
       "        fig.push_to_output();\n",
       "    }, 1000);\n",
       "};\n",
       "\n",
       "mpl.figure.prototype._init_toolbar = function () {\n",
       "    var fig = this;\n",
       "\n",
       "    var toolbar = document.createElement('div');\n",
       "    toolbar.classList = 'btn-toolbar';\n",
       "    this.root.appendChild(toolbar);\n",
       "\n",
       "    function on_click_closure(name) {\n",
       "        return function (_event) {\n",
       "            return fig.toolbar_button_onclick(name);\n",
       "        };\n",
       "    }\n",
       "\n",
       "    function on_mouseover_closure(tooltip) {\n",
       "        return function (event) {\n",
       "            if (!event.currentTarget.disabled) {\n",
       "                return fig.toolbar_button_onmouseover(tooltip);\n",
       "            }\n",
       "        };\n",
       "    }\n",
       "\n",
       "    fig.buttons = {};\n",
       "    var buttonGroup = document.createElement('div');\n",
       "    buttonGroup.classList = 'btn-group';\n",
       "    var button;\n",
       "    for (var toolbar_ind in mpl.toolbar_items) {\n",
       "        var name = mpl.toolbar_items[toolbar_ind][0];\n",
       "        var tooltip = mpl.toolbar_items[toolbar_ind][1];\n",
       "        var image = mpl.toolbar_items[toolbar_ind][2];\n",
       "        var method_name = mpl.toolbar_items[toolbar_ind][3];\n",
       "\n",
       "        if (!name) {\n",
       "            /* Instead of a spacer, we start a new button group. */\n",
       "            if (buttonGroup.hasChildNodes()) {\n",
       "                toolbar.appendChild(buttonGroup);\n",
       "            }\n",
       "            buttonGroup = document.createElement('div');\n",
       "            buttonGroup.classList = 'btn-group';\n",
       "            continue;\n",
       "        }\n",
       "\n",
       "        button = fig.buttons[name] = document.createElement('button');\n",
       "        button.classList = 'btn btn-default';\n",
       "        button.href = '#';\n",
       "        button.title = name;\n",
       "        button.innerHTML = '<i class=\"fa ' + image + ' fa-lg\"></i>';\n",
       "        button.addEventListener('click', on_click_closure(method_name));\n",
       "        button.addEventListener('mouseover', on_mouseover_closure(tooltip));\n",
       "        buttonGroup.appendChild(button);\n",
       "    }\n",
       "\n",
       "    if (buttonGroup.hasChildNodes()) {\n",
       "        toolbar.appendChild(buttonGroup);\n",
       "    }\n",
       "\n",
       "    // Add the status bar.\n",
       "    var status_bar = document.createElement('span');\n",
       "    status_bar.classList = 'mpl-message pull-right';\n",
       "    toolbar.appendChild(status_bar);\n",
       "    this.message = status_bar;\n",
       "\n",
       "    // Add the close button to the window.\n",
       "    var buttongrp = document.createElement('div');\n",
       "    buttongrp.classList = 'btn-group inline pull-right';\n",
       "    button = document.createElement('button');\n",
       "    button.classList = 'btn btn-mini btn-primary';\n",
       "    button.href = '#';\n",
       "    button.title = 'Stop Interaction';\n",
       "    button.innerHTML = '<i class=\"fa fa-power-off icon-remove icon-large\"></i>';\n",
       "    button.addEventListener('click', function (_evt) {\n",
       "        fig.handle_close(fig, {});\n",
       "    });\n",
       "    button.addEventListener(\n",
       "        'mouseover',\n",
       "        on_mouseover_closure('Stop Interaction')\n",
       "    );\n",
       "    buttongrp.appendChild(button);\n",
       "    var titlebar = this.root.querySelector('.ui-dialog-titlebar');\n",
       "    titlebar.insertBefore(buttongrp, titlebar.firstChild);\n",
       "};\n",
       "\n",
       "mpl.figure.prototype._remove_fig_handler = function () {\n",
       "    this.close_ws(this, {});\n",
       "};\n",
       "\n",
       "mpl.figure.prototype._root_extra_style = function (el) {\n",
       "    el.style.boxSizing = 'content-box'; // override notebook setting of border-box.\n",
       "    el.addEventListener('remove', this._remove_fig_handler);\n",
       "};\n",
       "\n",
       "mpl.figure.prototype._canvas_extra_style = function (el) {\n",
       "    // this is important to make the div 'focusable\n",
       "    el.setAttribute('tabindex', 0);\n",
       "    // reach out to IPython and tell the keyboard manager to turn it's self\n",
       "    // off when our div gets focus\n",
       "\n",
       "    // location in version 3\n",
       "    if (IPython.notebook.keyboard_manager) {\n",
       "        IPython.notebook.keyboard_manager.register_events(el);\n",
       "    } else {\n",
       "        // location in version 2\n",
       "        IPython.keyboard_manager.register_events(el);\n",
       "    }\n",
       "};\n",
       "\n",
       "mpl.figure.prototype._key_event_extra = function (event, _name) {\n",
       "    var manager = IPython.notebook.keyboard_manager;\n",
       "    if (!manager) {\n",
       "        manager = IPython.keyboard_manager;\n",
       "    }\n",
       "\n",
       "    // Check for shift+enter\n",
       "    if (event.shiftKey && event.which === 13) {\n",
       "        this.canvas_div.blur();\n",
       "        // select the cell after this one\n",
       "        var index = IPython.notebook.find_cell_index(this.cell_info[0]);\n",
       "        IPython.notebook.select(index + 1);\n",
       "    }\n",
       "};\n",
       "\n",
       "mpl.figure.prototype.handle_save = function (fig, _msg) {\n",
       "    fig.ondownload(fig, null);\n",
       "};\n",
       "\n",
       "mpl.find_output_cell = function (html_output) {\n",
       "    // Return the cell and output element which can be found *uniquely* in the notebook.\n",
       "    // Note - this is a bit hacky, but it is done because the \"notebook_saving.Notebook\"\n",
       "    // IPython event is triggered only after the cells have been serialised, which for\n",
       "    // our purposes (turning an active figure into a static one), is too late.\n",
       "    var cells = IPython.notebook.get_cells();\n",
       "    var ncells = cells.length;\n",
       "    for (var i = 0; i < ncells; i++) {\n",
       "        var cell = cells[i];\n",
       "        if (cell.cell_type === 'code') {\n",
       "            for (var j = 0; j < cell.output_area.outputs.length; j++) {\n",
       "                var data = cell.output_area.outputs[j];\n",
       "                if (data.data) {\n",
       "                    // IPython >= 3 moved mimebundle to data attribute of output\n",
       "                    data = data.data;\n",
       "                }\n",
       "                if (data['text/html'] === html_output) {\n",
       "                    return [cell, data, j];\n",
       "                }\n",
       "            }\n",
       "        }\n",
       "    }\n",
       "};\n",
       "\n",
       "// Register the function which deals with the matplotlib target/channel.\n",
       "// The kernel may be null if the page has been refreshed.\n",
       "if (IPython.notebook.kernel !== null) {\n",
       "    IPython.notebook.kernel.comm_manager.register_target(\n",
       "        'matplotlib',\n",
       "        mpl.mpl_figure_comm\n",
       "    );\n",
       "}\n"
      ],
      "text/plain": [
       "<IPython.core.display.Javascript object>"
      ]
     },
     "metadata": {},
     "output_type": "display_data"
    },
    {
     "data": {
      "text/html": [
       "<img src=\"data:image/png;base64,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\" width=\"640\">"
      ],
      "text/plain": [
       "<IPython.core.display.HTML object>"
      ]
     },
     "metadata": {},
     "output_type": "display_data"
    }
   ],
   "source": [
    "end_date = '2020-09-01'\n",
    "plot_simulations(start_date, end_ramp, end_date, model_wave1, samples_dict, \n",
    "                timeseries, spatial_unit, n_lines=100, save=True)"
   ]
  },
  {
   "cell_type": "markdown",
   "metadata": {
    "heading_collapsed": true
   },
   "source": [
    "# Step-by-step calibration"
   ]
  },
  {
   "cell_type": "markdown",
   "metadata": {
    "hidden": true
   },
   "source": [
    "## Simulation until 1 July"
   ]
  },
  {
   "cell_type": "code",
   "execution_count": null,
   "metadata": {
    "ExecuteTime": {
     "end_time": "2020-11-04T07:19:16.150131Z",
     "start_time": "2020-11-04T07:19:16.060356Z"
    },
    "hidden": true
   },
   "outputs": [],
   "source": [
    "# Load the dictionary containing the posterior parameter distributions obtained from calibrating the model to Belgian hospitalization data\n",
    "with open('../data/interim/model_parameters/provinces/Hainaut_wave1_2020-11-03.json', 'r') as fp:\n",
    "    samples_dict_wave1 = json.load(fp)"
   ]
  },
  {
   "cell_type": "code",
   "execution_count": null,
   "metadata": {
    "ExecuteTime": {
     "end_time": "2020-11-04T07:19:22.820625Z",
     "start_time": "2020-11-04T07:19:22.771179Z"
    },
    "hidden": true
   },
   "outputs": [],
   "source": [
    "samples_dict = samples_dict_wave1"
   ]
  },
  {
   "cell_type": "code",
   "execution_count": null,
   "metadata": {
    "ExecuteTime": {
     "end_time": "2020-11-03T08:39:39.983397Z",
     "start_time": "2020-11-03T08:39:39.883194Z"
    },
    "hidden": true
   },
   "outputs": [],
   "source": [
    "fig, ax = plt.subplots()\n",
    "pd.Series(samples_dict_wave1['beta']).hist(ax=ax)"
   ]
  },
  {
   "cell_type": "code",
   "execution_count": null,
   "metadata": {
    "ExecuteTime": {
     "end_time": "2020-11-03T07:52:44.577607Z",
     "start_time": "2020-11-03T07:52:44.535637Z"
    },
    "hidden": true
   },
   "outputs": [],
   "source": [
    "np.mean(samples_dict_wave1['beta'])"
   ]
  },
  {
   "cell_type": "code",
   "execution_count": null,
   "metadata": {
    "ExecuteTime": {
     "end_time": "2020-11-03T08:04:29.763619Z",
     "start_time": "2020-11-03T08:04:29.707048Z"
    },
    "hidden": true
   },
   "outputs": [],
   "source": [
    "samples_dict_wave1['lag_time']"
   ]
  },
  {
   "cell_type": "code",
   "execution_count": null,
   "metadata": {
    "ExecuteTime": {
     "end_time": "2020-10-30T16:46:49.392786Z",
     "start_time": "2020-10-30T16:46:49.356002Z"
    },
    "hidden": true
   },
   "outputs": [],
   "source": [
    "# Update this parameter here, the rest is updated by draw_sample_COVID19_SEIRD\n",
    "model.parameters['policy_time'] = samples_dict_wave1['lag_time']"
   ]
  },
  {
   "cell_type": "code",
   "execution_count": null,
   "metadata": {
    "ExecuteTime": {
     "end_time": "2020-10-30T16:47:19.255536Z",
     "start_time": "2020-10-30T16:46:49.918556Z"
    },
    "hidden": true
   },
   "outputs": [],
   "source": [
    "out_july = model.sim(time='2020-07-01', excess_time=samples_dict_wave1['lag_time'],start_date='2020-03-15',\n",
    "                   N=100, draw_fcn=draw_sample_COVID19_SEIRD,samples=samples_dict_wave1)\n",
    "states = out_july.isel(time=-1).mean(dim=\"draws\")\n",
    "initial_states_july1 = {key:states[key].values for key in initial_states.keys()}"
   ]
  },
  {
   "cell_type": "code",
   "execution_count": null,
   "metadata": {
    "ExecuteTime": {
     "end_time": "2020-10-30T16:56:35.394679Z",
     "start_time": "2020-10-30T16:56:35.351424Z"
    },
    "hidden": true
   },
   "outputs": [],
   "source": [
    "np.save('../data/interim/prediction_provinces/Luik_initial_states_july1.npy', initial_states_july1)"
   ]
  },
  {
   "cell_type": "markdown",
   "metadata": {
    "hidden": true
   },
   "source": [
    "## Calibration month July"
   ]
  },
  {
   "cell_type": "code",
   "execution_count": null,
   "metadata": {
    "ExecuteTime": {
     "end_time": "2020-10-30T16:56:33.278642Z",
     "start_time": "2020-10-30T16:56:33.224878Z"
    },
    "hidden": true
   },
   "outputs": [],
   "source": [
    "initial_states_july1 = np.load('../data/interim/prediction_provinces/Luik_initial_states_july1.npy', allow_pickle=True).item()"
   ]
  },
  {
   "cell_type": "code",
   "execution_count": null,
   "metadata": {
    "ExecuteTime": {
     "end_time": "2020-10-30T16:48:17.210748Z",
     "start_time": "2020-10-30T16:48:17.160083Z"
    },
    "hidden": true
   },
   "outputs": [],
   "source": [
    "# Second wave\n",
    "start_date = '2020-07-01'\n",
    "end_beta = '2020-08-01'"
   ]
  },
  {
   "cell_type": "code",
   "execution_count": null,
   "metadata": {
    "ExecuteTime": {
     "end_time": "2020-10-30T16:48:18.968763Z",
     "start_time": "2020-10-30T16:48:18.919319Z"
    },
    "hidden": true
   },
   "outputs": [],
   "source": [
    "len(Luik_ts.loc[start_date:end_beta])"
   ]
  },
  {
   "cell_type": "code",
   "execution_count": null,
   "metadata": {
    "ExecuteTime": {
     "end_time": "2020-10-30T16:48:20.509851Z",
     "start_time": "2020-10-30T16:48:20.188149Z"
    },
    "hidden": true
   },
   "outputs": [],
   "source": [
    "# Load the parameters using `get_COVID19_SEIRD_parameters()`.\n",
    "params = model_parameters.get_COVID19_SEIRD_parameters()\n",
    "#model_sept = models.COVID19_SEIRD(initial_states_sept, params)\n",
    "model_july = models.COVID19_SEIRD(initial_states_july1, params)"
   ]
  },
  {
   "cell_type": "code",
   "execution_count": null,
   "metadata": {
    "ExecuteTime": {
     "end_time": "2020-10-30T16:48:20.699738Z",
     "start_time": "2020-10-30T16:48:20.663234Z"
    },
    "hidden": true
   },
   "outputs": [],
   "source": [
    "# function parameters \n",
    "timeseries = Luik_ts['NEW_IN']\n",
    "spatial_unit = 'Luik_July'"
   ]
  },
  {
   "cell_type": "code",
   "execution_count": null,
   "metadata": {
    "ExecuteTime": {
     "end_time": "2020-10-30T16:48:22.470225Z",
     "start_time": "2020-10-30T16:48:22.432509Z"
    },
    "hidden": true
   },
   "outputs": [],
   "source": [
    "beta_init = np.mean(samples_dict_wave1['beta'])\n",
    "sigma_data_init = np.mean(samples_dict_wave1['sigma_data'])"
   ]
  },
  {
   "cell_type": "code",
   "execution_count": null,
   "metadata": {
    "ExecuteTime": {
     "end_time": "2020-10-30T16:51:21.133944Z",
     "start_time": "2020-10-30T16:48:26.896155Z"
    },
    "hidden": true,
    "scrolled": true
   },
   "outputs": [],
   "source": [
    "samples_dict = full_calibration_wave2(model_july, timeseries, spatial_unit, start_date, end_beta, \n",
    "                                      beta_init, sigma_data_init, None,None,\n",
    "                                      fig_path=fig_path, samples_path=samples_path,\n",
    "                                      initN=initN, Nc_total=Nc_total,steps_mcmc=1000)"
   ]
  },
  {
   "cell_type": "code",
   "execution_count": null,
   "metadata": {
    "ExecuteTime": {
     "end_time": "2020-10-30T16:52:49.951381Z",
     "start_time": "2020-10-30T16:52:49.843952Z"
    },
    "hidden": true,
    "scrolled": false
   },
   "outputs": [],
   "source": [
    "fig,ax = plt.subplots(figsize=(4,4))\n",
    "pd.Series(samples_dict['beta']).hist(ax=ax)"
   ]
  },
  {
   "cell_type": "code",
   "execution_count": null,
   "metadata": {
    "ExecuteTime": {
     "end_time": "2020-10-30T16:55:10.441581Z",
     "start_time": "2020-10-30T16:54:47.961115Z"
    },
    "hidden": true
   },
   "outputs": [],
   "source": [
    "states = [['H_in']]\n",
    "end_date = end_beta\n",
    "data=[timeseries[start_date:end_beta].values]\n",
    "\n",
    "fig,ax=plt.subplots(figsize=(8,8))\n",
    "for i in range(200):\n",
    "    idx,model_july.parameters['beta'] = random.choice(list(enumerate(samples_dict['beta'])))\n",
    "    y_model = model_july.sim(time=end_date, excess_time=0, start_date=start_date)\n",
    "    ax = plot_fit(y_model,data,start_date,lag_time=0,states=states,end_date=end_date,\n",
    "                  with_ints=False,ax=ax,plt_kwargs={'color':'blue','linewidth': 2,'alpha': 0.05})\n",
    "plt.setp(plt.gca().xaxis.get_majorticklabels(),'rotation', 0)\n",
    "#data_after_calib = timeseries[pd.to_datetime(end_ramp)+pd.to_timedelta('1d'):end_date]\n",
    "#plt.scatter(data_after_calib.index, data_after_calib.values, marker='o',color='red',linestyle='None',facecolors='none')\n",
    "legend_text=['daily \\nhospitalizations']\n",
    "ax.set_xlim(start_date, end_date)\n",
    "ax.set_ylabel('daily hospitalizations')\n",
    "fig.savefig(fig_path+spatial_unit+'.pdf',\n",
    "            bbox_inches='tight', dpi=600)"
   ]
  },
  {
   "cell_type": "markdown",
   "metadata": {
    "hidden": true
   },
   "source": [
    "## Simulation until 1 August"
   ]
  },
  {
   "cell_type": "code",
   "execution_count": null,
   "metadata": {
    "ExecuteTime": {
     "end_time": "2020-10-30T16:57:18.704357Z",
     "start_time": "2020-10-30T16:57:18.651429Z"
    },
    "hidden": true
   },
   "outputs": [],
   "source": [
    "# Load the dictionary containing the posterior parameter distributions obtained from calibrating the model to Belgian hospitalization data\n",
    "with open('../data/interim/model_parameters/provinces/Luik_July_2020-10-30.json', 'r') as fp:\n",
    "    samples_dict_july = json.load(fp)"
   ]
  },
  {
   "cell_type": "code",
   "execution_count": null,
   "metadata": {
    "ExecuteTime": {
     "end_time": "2020-10-30T16:46:49.392786Z",
     "start_time": "2020-10-30T16:46:49.356002Z"
    },
    "hidden": true
   },
   "outputs": [],
   "source": [
    "# Update this parameter here, the rest is updated by draw_sample_COVID19_SEIRD\n",
    "# model.parameters['policy_time'] = samples_dict_wave1['lag_time']"
   ]
  },
  {
   "cell_type": "code",
   "execution_count": null,
   "metadata": {
    "ExecuteTime": {
     "end_time": "2020-10-30T17:01:08.718045Z",
     "start_time": "2020-10-30T17:01:03.129460Z"
    },
    "hidden": true
   },
   "outputs": [],
   "source": [
    "out_aug = model_july.sim(time='2020-08-01', excess_time=0,start_date='2020-07-01',\n",
    "                   N=100, draw_fcn=draw_sample_beta_COVID19_SEIRD,samples=samples_dict_july)\n",
    "states = out_aug.isel(time=-1).mean(dim=\"draws\")\n",
    "initial_states_aug1 = {key:states[key].values for key in initial_states.keys()}"
   ]
  },
  {
   "cell_type": "code",
   "execution_count": null,
   "metadata": {
    "ExecuteTime": {
     "end_time": "2020-10-30T17:01:31.713350Z",
     "start_time": "2020-10-30T17:01:31.672096Z"
    },
    "hidden": true
   },
   "outputs": [],
   "source": [
    "np.save('../data/interim/prediction_provinces/Luik_initial_states_aug1.npy', initial_states_aug1)"
   ]
  },
  {
   "cell_type": "markdown",
   "metadata": {
    "hidden": true
   },
   "source": [
    "## Calibration month August"
   ]
  },
  {
   "cell_type": "code",
   "execution_count": null,
   "metadata": {
    "ExecuteTime": {
     "end_time": "2020-10-30T17:02:03.014165Z",
     "start_time": "2020-10-30T17:02:02.815531Z"
    },
    "hidden": true
   },
   "outputs": [],
   "source": [
    "initial_states_aug1 = np.load('../data/interim/prediction_provinces/Luik_initial_states_aug1.npy', allow_pickle=True).item()"
   ]
  },
  {
   "cell_type": "code",
   "execution_count": null,
   "metadata": {
    "ExecuteTime": {
     "end_time": "2020-10-30T17:02:09.305370Z",
     "start_time": "2020-10-30T17:02:09.267629Z"
    },
    "hidden": true
   },
   "outputs": [],
   "source": [
    "# Second wave\n",
    "start_date = '2020-08-01'\n",
    "end_beta = '2020-09-01'"
   ]
  },
  {
   "cell_type": "code",
   "execution_count": null,
   "metadata": {
    "ExecuteTime": {
     "end_time": "2020-10-30T17:02:09.879670Z",
     "start_time": "2020-10-30T17:02:09.837543Z"
    },
    "hidden": true
   },
   "outputs": [],
   "source": [
    "len(Luik_ts.loc[start_date:end_beta])"
   ]
  },
  {
   "cell_type": "code",
   "execution_count": null,
   "metadata": {
    "ExecuteTime": {
     "end_time": "2020-10-30T17:02:20.592714Z",
     "start_time": "2020-10-30T17:02:20.259567Z"
    },
    "hidden": true
   },
   "outputs": [],
   "source": [
    "# Load the parameters using `get_COVID19_SEIRD_parameters()`.\n",
    "params = model_parameters.get_COVID19_SEIRD_parameters()\n",
    "#model_sept = models.COVID19_SEIRD(initial_states_sept, params)\n",
    "model_aug = models.COVID19_SEIRD(initial_states_aug1, params)"
   ]
  },
  {
   "cell_type": "code",
   "execution_count": null,
   "metadata": {
    "ExecuteTime": {
     "end_time": "2020-10-30T17:02:24.887844Z",
     "start_time": "2020-10-30T17:02:24.845045Z"
    },
    "hidden": true
   },
   "outputs": [],
   "source": [
    "# function parameters \n",
    "timeseries = Luik_ts['NEW_IN']\n",
    "spatial_unit = 'Luik_Aug'"
   ]
  },
  {
   "cell_type": "code",
   "execution_count": null,
   "metadata": {
    "ExecuteTime": {
     "end_time": "2020-10-30T17:06:53.236522Z",
     "start_time": "2020-10-30T17:06:53.197798Z"
    },
    "hidden": true
   },
   "outputs": [],
   "source": [
    "beta_init = np.mean(samples_dict_july['beta'])\n",
    "sigma_data_init = np.mean(samples_dict_wave1['sigma_data'])"
   ]
  },
  {
   "cell_type": "code",
   "execution_count": null,
   "metadata": {
    "ExecuteTime": {
     "end_time": "2020-10-30T17:07:09.535256Z",
     "start_time": "2020-10-30T17:07:09.493727Z"
    },
    "hidden": true
   },
   "outputs": [],
   "source": [
    "mu_beta, std_beta = norm.fit(samples_dict_july['beta'])\n",
    "mu_sigma_data, std_sigma_data = norm.fit(samples_dict_wave1['sigma_data']) # should be on july!\n",
    "beta_norm_params = (mu_beta, std_beta)\n",
    "sigma_data_norm_params = (mu_sigma_data, std_sigma_data)"
   ]
  },
  {
   "cell_type": "code",
   "execution_count": null,
   "metadata": {
    "ExecuteTime": {
     "end_time": "2020-10-30T17:45:38.944138Z",
     "start_time": "2020-10-30T17:42:39.898370Z"
    },
    "hidden": true
   },
   "outputs": [],
   "source": [
    "samples_dict = full_calibration_wave2(model_aug, timeseries, spatial_unit, start_date, end_beta, \n",
    "                                      beta_init, sigma_data_init, None, None,\n",
    "                                      fig_path=fig_path, samples_path=samples_path,\n",
    "                                      initN=initN, Nc_total=Nc_total,steps_mcmc=1000)"
   ]
  },
  {
   "cell_type": "code",
   "execution_count": null,
   "metadata": {
    "ExecuteTime": {
     "end_time": "2020-10-30T17:45:56.766698Z",
     "start_time": "2020-10-30T17:45:56.509328Z"
    },
    "hidden": true
   },
   "outputs": [],
   "source": [
    "fig,ax = plt.subplots(figsize=(4,4))\n",
    "pd.Series(samples_dict['beta']).hist(ax=ax)"
   ]
  },
  {
   "cell_type": "code",
   "execution_count": null,
   "metadata": {
    "ExecuteTime": {
     "end_time": "2020-10-30T17:49:01.217041Z",
     "start_time": "2020-10-30T17:48:58.606651Z"
    },
    "hidden": true
   },
   "outputs": [],
   "source": [
    "## Deze herrunnen!\n",
    "states = [['H_in']]\n",
    "end_date = end_beta\n",
    "data=[timeseries[start_date:end_beta].values]\n",
    "\n",
    "fig,ax=plt.subplots(figsize=(8,8))\n",
    "for i in range(20):\n",
    "    idx,model_aug.parameters['beta'] = random.choice(list(enumerate(samples_dict_aug['beta'])))\n",
    "    y_model = model_aug.sim(time=end_date, excess_time=0, start_date=start_date)\n",
    "    ax = plot_fit(y_model,data,start_date,lag_time=0,states=states,end_date=end_date,\n",
    "                  with_ints=False,ax=ax,plt_kwargs={'color':'blue','linewidth': 2,'alpha': 0.05})\n",
    "plt.setp(plt.gca().xaxis.get_majorticklabels(),'rotation', 0)\n",
    "#data_after_calib = timeseries[pd.to_datetime(end_ramp)+pd.to_timedelta('1d'):end_date]\n",
    "#plt.scatter(data_after_calib.index, data_after_calib.values, marker='o',color='red',linestyle='None',facecolors='none')\n",
    "legend_text=['daily \\nhospitalizations']\n",
    "ax.set_xlim(start_date, end_date)\n",
    "ax.set_ylabel('daily hospitalizations')\n",
    "# fig.savefig(fig_path+spatial_unit+'.pdf',\n",
    "#             bbox_inches='tight', dpi=600)"
   ]
  },
  {
   "cell_type": "code",
   "execution_count": null,
   "metadata": {
    "hidden": true
   },
   "outputs": [],
   "source": []
  },
  {
   "cell_type": "markdown",
   "metadata": {
    "hidden": true
   },
   "source": [
    "## Simulation until 1 September"
   ]
  },
  {
   "cell_type": "code",
   "execution_count": null,
   "metadata": {
    "ExecuteTime": {
     "end_time": "2020-10-30T17:51:15.869769Z",
     "start_time": "2020-10-30T17:51:15.655962Z"
    },
    "hidden": true
   },
   "outputs": [],
   "source": [
    "# Load the dictionary containing the posterior parameter distributions obtained from calibrating the model to Belgian hospitalization data\n",
    "with open('../data/interim/model_parameters/provinces/Luik_Aug_2020-10-30.json', 'r') as fp:\n",
    "    samples_dict_aug = json.load(fp)"
   ]
  },
  {
   "cell_type": "code",
   "execution_count": null,
   "metadata": {
    "ExecuteTime": {
     "end_time": "2020-10-30T16:46:49.392786Z",
     "start_time": "2020-10-30T16:46:49.356002Z"
    },
    "hidden": true
   },
   "outputs": [],
   "source": [
    "# Update this parameter here, the rest is updated by draw_sample_COVID19_SEIRD\n",
    "# model.parameters['policy_time'] = samples_dict_wave1['lag_time']"
   ]
  },
  {
   "cell_type": "code",
   "execution_count": null,
   "metadata": {
    "ExecuteTime": {
     "end_time": "2020-10-30T17:51:24.928761Z",
     "start_time": "2020-10-30T17:51:19.336448Z"
    },
    "hidden": true
   },
   "outputs": [],
   "source": [
    "out_sept = model_aug.sim(time='2020-09-01', excess_time=0,start_date='2020-08-01',\n",
    "                   N=100, draw_fcn=draw_sample_beta_COVID19_SEIRD,samples=samples_dict_aug)\n",
    "states = out_sept.isel(time=-1).mean(dim=\"draws\")\n",
    "initial_states_sept1 = {key:states[key].values for key in initial_states.keys()}"
   ]
  },
  {
   "cell_type": "code",
   "execution_count": null,
   "metadata": {
    "ExecuteTime": {
     "end_time": "2020-10-30T17:51:33.711786Z",
     "start_time": "2020-10-30T17:51:33.673224Z"
    },
    "hidden": true
   },
   "outputs": [],
   "source": [
    "np.save('../data/interim/prediction_provinces/Luik_initial_states_sept1.npy', initial_states_sept1)"
   ]
  },
  {
   "cell_type": "code",
   "execution_count": null,
   "metadata": {
    "ExecuteTime": {
     "end_time": "2020-10-30T17:51:25.318521Z",
     "start_time": "2020-10-30T17:51:25.271583Z"
    },
    "hidden": true
   },
   "outputs": [],
   "source": [
    "initial_states_sept1"
   ]
  },
  {
   "cell_type": "markdown",
   "metadata": {
    "hidden": true
   },
   "source": [
    "## Calibration month September"
   ]
  },
  {
   "cell_type": "code",
   "execution_count": null,
   "metadata": {
    "ExecuteTime": {
     "end_time": "2020-10-30T17:51:58.368440Z",
     "start_time": "2020-10-30T17:51:58.330641Z"
    },
    "hidden": true
   },
   "outputs": [],
   "source": [
    "initial_states_sept1 = np.load('../data/interim/prediction_provinces/Luik_initial_states_sept1.npy', allow_pickle=True).item()"
   ]
  },
  {
   "cell_type": "code",
   "execution_count": null,
   "metadata": {
    "ExecuteTime": {
     "end_time": "2020-10-30T17:52:06.817390Z",
     "start_time": "2020-10-30T17:52:06.780931Z"
    },
    "hidden": true
   },
   "outputs": [],
   "source": [
    "# Second wave\n",
    "start_date = '2020-09-01'\n",
    "end_beta = '2020-10-01'"
   ]
  },
  {
   "cell_type": "code",
   "execution_count": null,
   "metadata": {
    "ExecuteTime": {
     "end_time": "2020-10-30T17:52:08.496601Z",
     "start_time": "2020-10-30T17:52:08.455785Z"
    },
    "hidden": true
   },
   "outputs": [],
   "source": [
    "len(Luik_ts.loc[start_date:end_beta])"
   ]
  },
  {
   "cell_type": "code",
   "execution_count": null,
   "metadata": {
    "ExecuteTime": {
     "end_time": "2020-10-30T17:52:15.480377Z",
     "start_time": "2020-10-30T17:52:15.157707Z"
    },
    "hidden": true
   },
   "outputs": [],
   "source": [
    "# Load the parameters using `get_COVID19_SEIRD_parameters()`.\n",
    "params = model_parameters.get_COVID19_SEIRD_parameters()\n",
    "#model_sept = models.COVID19_SEIRD(initial_states_sept, params)\n",
    "model_sept = models.COVID19_SEIRD(initial_states_sept1, params)"
   ]
  },
  {
   "cell_type": "code",
   "execution_count": null,
   "metadata": {
    "ExecuteTime": {
     "end_time": "2020-10-30T17:52:18.721870Z",
     "start_time": "2020-10-30T17:52:18.524171Z"
    },
    "hidden": true
   },
   "outputs": [],
   "source": [
    "# function parameters \n",
    "timeseries = Luik_ts['NEW_IN']\n",
    "spatial_unit = 'Luik_Sept'"
   ]
  },
  {
   "cell_type": "code",
   "execution_count": null,
   "metadata": {
    "ExecuteTime": {
     "end_time": "2020-10-30T18:02:55.232222Z",
     "start_time": "2020-10-30T18:02:55.194458Z"
    },
    "hidden": true
   },
   "outputs": [],
   "source": [
    "beta_init = 0.03\n",
    "sigma_data_init = np.mean(samples_dict_wave1['sigma_data'])"
   ]
  },
  {
   "cell_type": "code",
   "execution_count": null,
   "metadata": {
    "ExecuteTime": {
     "end_time": "2020-10-30T17:52:31.456104Z",
     "start_time": "2020-10-30T17:52:31.416945Z"
    },
    "hidden": true
   },
   "outputs": [],
   "source": [
    "# mu_beta, std_beta = norm.fit(samples_dict_aug['beta'])\n",
    "# mu_sigma_data, std_sigma_data = norm.fit(samples_dict_wave1['sigma_data']) # should be on aug!\n",
    "# beta_norm_params = (mu_beta, std_beta)\n",
    "# sigma_data_norm_params = (mu_sigma_data, std_sigma_data)"
   ]
  },
  {
   "cell_type": "code",
   "execution_count": null,
   "metadata": {
    "ExecuteTime": {
     "end_time": "2020-10-30T18:06:18.300489Z",
     "start_time": "2020-10-30T18:02:59.457873Z"
    },
    "hidden": true
   },
   "outputs": [],
   "source": [
    "samples_dict = full_calibration_wave2(model_aug, timeseries, spatial_unit, start_date, end_beta, \n",
    "                                      beta_init, sigma_data_init, None, None,\n",
    "                                      fig_path=fig_path, samples_path=samples_path,\n",
    "                                      initN=initN, Nc_total=Nc_total,steps_mcmc=1000)"
   ]
  },
  {
   "cell_type": "code",
   "execution_count": null,
   "metadata": {
    "ExecuteTime": {
     "end_time": "2020-10-30T18:07:19.956638Z",
     "start_time": "2020-10-30T18:07:19.689726Z"
    },
    "hidden": true
   },
   "outputs": [],
   "source": [
    "fig,ax = plt.subplots(figsize=(4,4))\n",
    "pd.Series(samples_dict['beta']).hist(ax=ax)"
   ]
  },
  {
   "cell_type": "code",
   "execution_count": null,
   "metadata": {
    "ExecuteTime": {
     "end_time": "2020-10-30T18:07:28.841956Z",
     "start_time": "2020-10-30T18:07:25.461128Z"
    },
    "hidden": true
   },
   "outputs": [],
   "source": [
    "states = [['H_in']]\n",
    "end_date = end_beta\n",
    "data=[timeseries[start_date:end_beta].values]\n",
    "\n",
    "fig,ax=plt.subplots(figsize=(8,8))\n",
    "for i in range(20):\n",
    "    idx,model_sept.parameters['beta'] = random.choice(list(enumerate(samples_dict['beta'])))\n",
    "    y_model = model_sept.sim(time=end_date, excess_time=0, start_date=start_date)\n",
    "    ax = plot_fit(y_model,data,start_date,lag_time=0,states=states,end_date=end_date,\n",
    "                  with_ints=False,ax=ax,plt_kwargs={'color':'blue','linewidth': 2,'alpha': 0.05})\n",
    "plt.setp(plt.gca().xaxis.get_majorticklabels(),'rotation', 0)\n",
    "#data_after_calib = timeseries[pd.to_datetime(end_ramp)+pd.to_timedelta('1d'):end_date]\n",
    "#plt.scatter(data_after_calib.index, data_after_calib.values, marker='o',color='red',linestyle='None',facecolors='none')\n",
    "legend_text=['daily \\nhospitalizations']\n",
    "ax.set_xlim(start_date, end_date)\n",
    "ax.set_ylabel('daily hospitalizations')\n",
    "fig.savefig(fig_path+spatial_unit+'.pdf',\n",
    "            bbox_inches='tight', dpi=600)"
   ]
  },
  {
   "cell_type": "markdown",
   "metadata": {
    "heading_collapsed": true
   },
   "source": [
    "# Calibration on October"
   ]
  },
  {
   "cell_type": "markdown",
   "metadata": {
    "hidden": true
   },
   "source": [
    "## Simulation until end September"
   ]
  },
  {
   "cell_type": "code",
   "execution_count": null,
   "metadata": {
    "ExecuteTime": {
     "end_time": "2020-11-04T12:37:57.965760Z",
     "start_time": "2020-11-04T12:37:57.898046Z"
    },
    "hidden": true
   },
   "outputs": [],
   "source": [
    "# Load the dictionary containing the posterior parameter distributions obtained from calibrating the model to Belgian hospitalization data\n",
    "with open('../data/interim/model_parameters/provinces/Hainaut_wave1_2020-11-03.json', 'r') as fp:\n",
    "    samples_dict_wave1 = json.load(fp)"
   ]
  },
  {
   "cell_type": "code",
   "execution_count": null,
   "metadata": {
    "ExecuteTime": {
     "end_time": "2020-11-04T09:16:21.094032Z",
     "start_time": "2020-11-04T09:15:58.236100Z"
    },
    "hidden": true,
    "scrolled": false
   },
   "outputs": [],
   "source": [
    "states = [['H_in']]\n",
    "end_date = '2020-09-28'\n",
    "data=[timeseries[start_date:end_ramp].values]\n",
    "\n",
    "fig,ax=plt.subplots()\n",
    "for i in range(20):\n",
    "    idx,model.parameters['beta'] = random.choice(list(enumerate(samples_dict_wave1['beta'])))\n",
    "    idx,model.parameters['l'] = random.choice(list(enumerate(samples_dict_wave1['l'])))\n",
    "    model.parameters['tau'] = samples_dict_wave1['tau'][idx]\n",
    "    model.parameters['policy_time'] = samples_dict_wave1['warmup']\n",
    "    model.parameters['prevention'] = samples_dict_wave1['prevention'][idx]\n",
    "    y_model = model.sim(time=end_date, excess_time=samples_dict_wave1['warmup'], start_date=start_date)\n",
    "    ax = plot_fit(y_model,data,start_date,samples_dict_wave1['warmup'],states,end_date=end_date,with_ints=False,ax=ax,plt_kwargs={'color':'blue','linewidth': 2,'alpha': 0.05})\n",
    "\n",
    "data_after_calib = timeseries[pd.to_datetime(end_ramp)+pd.to_timedelta('1d'):end_date]\n",
    "plt.scatter(data_after_calib.index, data_after_calib.values, marker='o',color='red',linestyle='None',facecolors='none')\n",
    "legend_text=['daily \\nhospitalizations']\n",
    "ax.set_xlim('2020-03-10', end_date)"
   ]
  },
  {
   "cell_type": "code",
   "execution_count": null,
   "metadata": {
    "ExecuteTime": {
     "end_time": "2020-11-04T07:23:51.371705Z",
     "start_time": "2020-11-04T07:23:19.644810Z"
    },
    "hidden": true
   },
   "outputs": [],
   "source": [
    "out_sept28 = model.sim(time='2020-09-28', excess_time=samples_dict_wave1['warmup'],start_date='2020-03-15',\n",
    "                   N=10, draw_fcn=draw_sample_COVID19_SEIRD,samples=samples_dict_wave1)\n",
    "states = out_sept28.isel(time=-1).mean(dim=\"draws\")\n",
    "initial_states_sept28 = {key:states[key].values for key in initial_states.keys()}"
   ]
  },
  {
   "cell_type": "code",
   "execution_count": null,
   "metadata": {
    "ExecuteTime": {
     "end_time": "2020-11-04T07:25:25.232184Z",
     "start_time": "2020-11-04T07:24:44.939509Z"
    },
    "hidden": true
   },
   "outputs": [],
   "source": [
    "out_sept28.isel(time=-1).mean(dim=\"draws\")"
   ]
  },
  {
   "cell_type": "code",
   "execution_count": null,
   "metadata": {
    "ExecuteTime": {
     "end_time": "2020-11-03T12:22:51.354146Z",
     "start_time": "2020-11-03T12:22:51.148133Z"
    },
    "hidden": true
   },
   "outputs": [],
   "source": [
    "np.save('../data/interim/prediction_provinces/Hainaut_initial_states_Sept28.npy', initial_states_sept28)"
   ]
  },
  {
   "cell_type": "markdown",
   "metadata": {
    "hidden": true
   },
   "source": [
    "## Calibration starting September 28"
   ]
  },
  {
   "cell_type": "code",
   "execution_count": null,
   "metadata": {
    "ExecuteTime": {
     "end_time": "2020-11-04T07:21:16.761589Z",
     "start_time": "2020-11-04T07:21:16.550870Z"
    },
    "hidden": true
   },
   "outputs": [],
   "source": [
    "initial_states_sept28 = np.load('../data/interim/prediction_provinces/Hainaut_initial_states_Sept28.npy', allow_pickle=True).item()"
   ]
  },
  {
   "cell_type": "code",
   "execution_count": null,
   "metadata": {
    "ExecuteTime": {
     "end_time": "2020-11-04T07:21:20.147849Z",
     "start_time": "2020-11-04T07:21:20.100278Z"
    },
    "hidden": true
   },
   "outputs": [],
   "source": [
    "initial_states_sept28"
   ]
  },
  {
   "cell_type": "code",
   "execution_count": null,
   "metadata": {
    "ExecuteTime": {
     "end_time": "2020-11-03T12:28:56.548419Z",
     "start_time": "2020-11-03T12:28:56.512449Z"
    },
    "hidden": true
   },
   "outputs": [],
   "source": [
    "# Second wave\n",
    "start_date = '2020-09-28'\n",
    "end_beta = '2020-10-30'"
   ]
  },
  {
   "cell_type": "code",
   "execution_count": null,
   "metadata": {
    "ExecuteTime": {
     "end_time": "2020-11-03T12:28:57.818586Z",
     "start_time": "2020-11-03T12:28:57.778655Z"
    },
    "hidden": true
   },
   "outputs": [],
   "source": [
    "len(Hainaut_ts.loc[start_date:end_beta])"
   ]
  },
  {
   "cell_type": "code",
   "execution_count": null,
   "metadata": {
    "ExecuteTime": {
     "end_time": "2020-11-03T12:29:01.024174Z",
     "start_time": "2020-11-03T12:29:00.690190Z"
    },
    "hidden": true
   },
   "outputs": [],
   "source": [
    "# Load the parameters using `get_COVID19_SEIRD_parameters()`.\n",
    "params = model_parameters.get_COVID19_SEIRD_parameters()\n",
    "model = models.COVID19_SEIRD(initial_states_sept28, params)"
   ]
  },
  {
   "cell_type": "code",
   "execution_count": null,
   "metadata": {
    "ExecuteTime": {
     "end_time": "2020-11-03T12:29:25.898218Z",
     "start_time": "2020-11-03T12:29:25.861606Z"
    },
    "hidden": true
   },
   "outputs": [],
   "source": [
    "# function parameters \n",
    "timeseries = Hainaut_ts['NEW_IN']\n",
    "spatial_unit = 'Hainaut_wave2_from_sept28'\n"
   ]
  },
  {
   "cell_type": "code",
   "execution_count": null,
   "metadata": {
    "ExecuteTime": {
     "end_time": "2020-10-30T16:45:43.424521Z",
     "start_time": "2020-10-30T16:45:43.386749Z"
    },
    "hidden": true
   },
   "outputs": [],
   "source": [
    "# mu_beta, std_beta = norm.fit(samples_dict_wave1['beta'])\n",
    "# mu_sigma_data, std_sigma_data = norm.fit(samples_dict_wave1['beta'])\n",
    "# beta_norm_params = (mu_beta, std_beta)\n",
    "# sigma_data_norm_params = (mu_sigma_data, std_sigma_data)"
   ]
  },
  {
   "cell_type": "code",
   "execution_count": null,
   "metadata": {
    "ExecuteTime": {
     "end_time": "2020-11-03T12:29:46.952670Z",
     "start_time": "2020-11-03T12:29:46.914543Z"
    },
    "hidden": true
   },
   "outputs": [],
   "source": [
    "beta_init = np.mean(samples_dict_wave1['beta'])\n",
    "sigma_data_init = np.mean(samples_dict_wave1['sigma_data'])\n"
   ]
  },
  {
   "cell_type": "code",
   "execution_count": null,
   "metadata": {
    "ExecuteTime": {
     "end_time": "2020-11-03T13:28:04.611571Z",
     "start_time": "2020-11-03T13:24:26.645535Z"
    },
    "hidden": true,
    "scrolled": true
   },
   "outputs": [],
   "source": [
    "samples_dict = full_calibration_wave2(model, timeseries, spatial_unit, start_date, end_beta, \n",
    "                                      beta_init, sigma_data_init, None, None,\n",
    "                                      fig_path=fig_path, samples_path=samples_path,\n",
    "                                      initN=initN, Nc_total=Nc_total, \n",
    "                                      maxiter=100, popsize=200, steps_mcmc=1000)"
   ]
  },
  {
   "cell_type": "code",
   "execution_count": null,
   "metadata": {
    "ExecuteTime": {
     "end_time": "2020-11-03T13:28:08.553596Z",
     "start_time": "2020-11-03T13:28:08.297760Z"
    },
    "hidden": true
   },
   "outputs": [],
   "source": [
    "fig, ax = plt.subplots()\n",
    "pd.Series(samples_dict['beta']).hist(ax=ax)"
   ]
  },
  {
   "cell_type": "code",
   "execution_count": null,
   "metadata": {
    "ExecuteTime": {
     "end_time": "2020-11-03T13:28:18.990064Z",
     "start_time": "2020-11-03T13:28:14.766876Z"
    },
    "hidden": true,
    "scrolled": false
   },
   "outputs": [],
   "source": [
    "states = [['H_in']]\n",
    "end_date = '2021-01-01' #end_beta\n",
    "data=[timeseries[start_date:end_beta].values]\n",
    "\n",
    "fig,ax=plt.subplots(figsize=(8,8))\n",
    "for i in range(20):\n",
    "    idx,model.parameters['beta'] = random.choice(list(enumerate(samples_dict['beta'])))\n",
    "    y_model = model.sim(time=end_date, excess_time=0, start_date=start_date)\n",
    "    ax = plot_fit(y_model,data,start_date,lag_time=0,states=states,end_date=end_date,\n",
    "                  with_ints=False,ax=ax,plt_kwargs={'color':'blue','linewidth': 2,'alpha': 0.05})\n",
    "plt.setp(plt.gca().xaxis.get_majorticklabels(),'rotation', 0)\n",
    "#data_after_calib = timeseries[pd.to_datetime(end_ramp)+pd.to_timedelta('1d'):end_date]\n",
    "#plt.scatter(data_after_calib.index, data_after_calib.values, marker='o',color='red',linestyle='None',facecolors='none')\n",
    "legend_text=['daily \\nhospitalizations']\n",
    "ax.set_xlim('2020-09-01', '2021-01-01')\n",
    "ax.set_ylabel('daily hospitalizations')\n",
    "# fig.savefig(fig_path+spatial_unit+'.pdf',\n",
    "#             bbox_inches='tight', dpi=600)"
   ]
  },
  {
   "cell_type": "code",
   "execution_count": null,
   "metadata": {
    "ExecuteTime": {
     "end_time": "2020-11-03T16:34:58.686772Z",
     "start_time": "2020-11-03T16:34:58.210403Z"
    },
    "hidden": true
   },
   "outputs": [],
   "source": [
    "fig.savefig(fig_path+spatial_unit+'.pdf',\n",
    "            bbox_inches='tight', dpi=600)"
   ]
  },
  {
   "cell_type": "markdown",
   "metadata": {},
   "source": [
    "# Calibration from August 1"
   ]
  },
  {
   "cell_type": "code",
   "execution_count": null,
   "metadata": {
    "ExecuteTime": {
     "end_time": "2020-11-04T16:14:48.094115Z",
     "start_time": "2020-11-04T16:14:48.024233Z"
    }
   },
   "outputs": [],
   "source": [
    "# Load the dictionary containing the posterior parameter distributions obtained from calibrating the model to Belgian hospitalization data\n",
    "with open('../data/interim/model_parameters/provinces/Hainaut_wave1_2020-11-04.json', 'r') as fp:\n",
    "    samples_dict_wave1 = json.load(fp)"
   ]
  },
  {
   "cell_type": "markdown",
   "metadata": {
    "heading_collapsed": true
   },
   "source": [
    "## Simulation until August 1 with policies"
   ]
  },
  {
   "cell_type": "code",
   "execution_count": null,
   "metadata": {
    "ExecuteTime": {
     "end_time": "2020-11-04T07:46:01.543927Z",
     "start_time": "2020-11-04T07:44:20.007513Z"
    },
    "hidden": true
   },
   "outputs": [],
   "source": [
    "out_aug1 = model_wave1_with_policies.sim(time='2020-08-01', excess_time=samples_dict_wave1['warmup'],start_date='2020-03-15',\n",
    "                   N=100, draw_fcn=draw_sample_COVID19_SEIRD,samples=samples_dict_wave1)\n",
    "states = out_aug1.isel(time=-1).mean(dim=\"draws\")\n",
    "initial_states_aug1 = {key:states[key].values for key in initial_states.keys()}"
   ]
  },
  {
   "cell_type": "code",
   "execution_count": null,
   "metadata": {
    "ExecuteTime": {
     "end_time": "2020-11-04T07:46:23.517716Z",
     "start_time": "2020-11-04T07:46:23.479741Z"
    },
    "hidden": true
   },
   "outputs": [],
   "source": [
    "np.save('../data/interim/prediction_provinces/Hainaut_initial_states_Aug1.npy', initial_states_aug1)"
   ]
  },
  {
   "cell_type": "markdown",
   "metadata": {},
   "source": [
    "## Simulation until August 1 without policies"
   ]
  },
  {
   "cell_type": "code",
   "execution_count": null,
   "metadata": {
    "ExecuteTime": {
     "end_time": "2020-11-04T16:15:26.444071Z",
     "start_time": "2020-11-04T16:14:59.299799Z"
    }
   },
   "outputs": [],
   "source": [
    "out_aug1 = model_wave1.sim(time='2020-08-01', excess_time=samples_dict_wave1['warmup'],start_date='2020-03-15',\n",
    "                   N=100, draw_fcn=draw_sample_COVID19_SEIRD,samples=samples_dict_wave1)\n",
    "states = out_aug1.isel(time=-1).mean(dim=\"draws\")\n",
    "initial_states_aug1 = {key:states[key].values for key in initial_states.keys()}"
   ]
  },
  {
   "cell_type": "code",
   "execution_count": null,
   "metadata": {
    "ExecuteTime": {
     "end_time": "2020-11-04T16:15:45.259605Z",
     "start_time": "2020-11-04T16:15:45.219491Z"
    }
   },
   "outputs": [],
   "source": [
    "np.save('../data/interim/initial_states_provinces/'+spatial_unit+'_Aug1.npy', initial_states_aug1)"
   ]
  },
  {
   "cell_type": "markdown",
   "metadata": {},
   "source": [
    "## Calibration starting August 1"
   ]
  },
  {
   "cell_type": "code",
   "execution_count": null,
   "metadata": {
    "ExecuteTime": {
     "end_time": "2020-11-04T21:56:37.295812Z",
     "start_time": "2020-11-04T21:56:37.102012Z"
    }
   },
   "outputs": [],
   "source": [
    "initial_states_aug1 = np.load('../data/interim/initial_states_provinces/Hainaut_wave1_Aug1.npy', allow_pickle=True).item()"
   ]
  },
  {
   "cell_type": "code",
   "execution_count": null,
   "metadata": {
    "ExecuteTime": {
     "end_time": "2020-11-04T21:56:37.790605Z",
     "start_time": "2020-11-04T21:56:37.753166Z"
    }
   },
   "outputs": [],
   "source": [
    "# Second wave\n",
    "start_date = '2020-08-01'\n",
    "end_beta = '2020-10-31'"
   ]
  },
  {
   "cell_type": "code",
   "execution_count": null,
   "metadata": {
    "ExecuteTime": {
     "end_time": "2020-11-04T21:56:38.665039Z",
     "start_time": "2020-11-04T21:56:38.622402Z"
    }
   },
   "outputs": [],
   "source": [
    "len(Hainaut_ts.loc[start_date:end_beta])"
   ]
  },
  {
   "cell_type": "code",
   "execution_count": null,
   "metadata": {
    "ExecuteTime": {
     "end_time": "2020-11-04T21:56:40.383577Z",
     "start_time": "2020-11-04T21:56:40.041597Z"
    }
   },
   "outputs": [],
   "source": [
    "# Load the parameters using `get_COVID19_SEIRD_parameters()`.\n",
    "params = model_parameters.get_COVID19_SEIRD_parameters()\n",
    "model_wave2_from_aug1 = models.COVID19_SEIRD(initial_states_aug1, params)"
   ]
  },
  {
   "cell_type": "code",
   "execution_count": null,
   "metadata": {
    "ExecuteTime": {
     "end_time": "2020-11-04T08:03:11.766086Z",
     "start_time": "2020-11-04T08:03:11.719303Z"
    }
   },
   "outputs": [],
   "source": [
    "# mu_beta, std_beta = norm.fit(samples_dict_wave1['beta'])\n",
    "# mu_sigma_data, std_sigma_data = norm.fit(samples_dict_wave1['beta'])\n",
    "# beta_norm_params = (mu_beta, std_beta)\n",
    "# sigma_data_norm_params = (mu_sigma_data, std_sigma_data)"
   ]
  },
  {
   "cell_type": "code",
   "execution_count": null,
   "metadata": {
    "ExecuteTime": {
     "end_time": "2020-11-04T21:56:42.603556Z",
     "start_time": "2020-11-04T21:56:42.562349Z"
    }
   },
   "outputs": [],
   "source": [
    "beta_init = np.mean(samples_dict_wave1['beta'])\n",
    "sigma_data_init = np.mean(samples_dict_wave1['sigma_data'])\n"
   ]
  },
  {
   "cell_type": "code",
   "execution_count": null,
   "metadata": {
    "ExecuteTime": {
     "end_time": "2020-11-04T22:56:50.353622Z",
     "start_time": "2020-11-04T21:56:50.488837Z"
    },
    "scrolled": true
   },
   "outputs": [],
   "source": [
    "spatial_unit = 'Hainaut_wave2_from_aug1_no_policies_10000'\n",
    "samples_dict = full_calibration_wave2(model_wave2_from_aug1, timeseries, spatial_unit, start_date, end_beta, \n",
    "                                      beta_init, sigma_data_init, None, None,\n",
    "                                      fig_path=fig_path, samples_path=samples_path,\n",
    "                                      initN=initN, Nc_total=Nc_total, pso=False,\n",
    "                                      maxiter=100, popsize=200, steps_mcmc=10000)"
   ]
  },
  {
   "cell_type": "code",
   "execution_count": null,
   "metadata": {
    "ExecuteTime": {
     "end_time": "2020-11-05T07:09:48.112116Z",
     "start_time": "2020-11-05T07:09:47.829247Z"
    }
   },
   "outputs": [],
   "source": [
    "fig, ax = plt.subplots()\n",
    "pd.Series(samples_dict['beta']).hist(ax=ax)"
   ]
  },
  {
   "cell_type": "code",
   "execution_count": null,
   "metadata": {
    "ExecuteTime": {
     "end_time": "2020-11-05T07:10:47.617660Z",
     "start_time": "2020-11-05T07:10:00.360252Z"
    }
   },
   "outputs": [],
   "source": [
    "end_date = '2021-01-01'\n",
    "plot_simulations(start_date, end_ramp, end_date, model_wave2_from_aug1, samples_dict, \n",
    "                timeseries, spatial_unit, n_lines=200, save=True)"
   ]
  },
  {
   "cell_type": "code",
   "execution_count": null,
   "metadata": {},
   "outputs": [],
   "source": []
  }
 ],
 "metadata": {
  "kernelspec": {
   "display_name": "COVID19",
   "language": "python",
   "name": "python3"
  },
  "language_info": {
   "codemirror_mode": {
    "name": "ipython",
    "version": 3
   },
   "file_extension": ".py",
   "mimetype": "text/x-python",
   "name": "python",
   "nbconvert_exporter": "python",
   "pygments_lexer": "ipython3",
   "version": "3.7.7"
  },
  "toc": {
   "base_numbering": 1,
   "nav_menu": {},
   "number_sections": true,
   "sideBar": true,
   "skip_h1_title": false,
   "title_cell": "Table of Contents",
   "title_sidebar": "Contents",
   "toc_cell": false,
   "toc_position": {
    "height": "calc(100% - 180px)",
    "left": "10px",
    "top": "150px",
    "width": "288px"
   },
   "toc_section_display": true,
   "toc_window_display": true
  }
 },
 "nbformat": 4,
 "nbformat_minor": 4
}
