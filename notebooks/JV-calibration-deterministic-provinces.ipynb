{
 "cells": [
  {
   "cell_type": "markdown",
   "metadata": {},
   "source": [
    "**Calibration of the age-stratified deterministic model**\n",
    "\n",
    "*Original code by Ryan S. McGee. Modified by T.W. Alleman in consultation with the BIOMATH research unit headed by prof. Ingmar Nopens.*\n",
    "\n",
    "Copyright (c) 2020 by T.W. Alleman, BIOMATH, Ghent University. All Rights Reserved.\n",
    "\n",
    "This notebook accompanies our preprint: \"*A deterministic, age-stratified, extended SEIRD model for assessing the effect of non-pharmaceutical interventions on SARS-CoV-2 spread in Belgium*\"(https://doi.org/10.1101/2020.07.17.20156034)"
   ]
  },
  {
   "cell_type": "markdown",
   "metadata": {},
   "source": [
    "# Load required packages"
   ]
  },
  {
   "cell_type": "code",
   "execution_count": 1,
   "metadata": {
    "ExecuteTime": {
     "end_time": "2020-11-03T13:12:49.136092Z",
     "start_time": "2020-11-03T13:12:46.718333Z"
    }
   },
   "outputs": [],
   "source": [
    "import random\n",
    "import os\n",
    "import numpy as np\n",
    "%matplotlib notebook\n",
    "import matplotlib.pyplot as plt\n",
    "from IPython.display import Image\n",
    "from ipywidgets import interact,fixed,FloatSlider,IntSlider,ToggleButtons\n",
    "import pandas as pd\n",
    "from datetime import datetime, timedelta\n",
    "import scipy\n",
    "from scipy.integrate import odeint\n",
    "from scipy.stats import norm\n",
    "import matplotlib.dates as mdates\n",
    "import matplotlib\n",
    "import scipy.stats as st\n",
    "\n",
    "import math\n",
    "import xarray as xr\n",
    "import emcee\n",
    "import json\n",
    "import corner\n",
    "\n",
    "from covid19model.optimization import objective_fcns\n",
    "from covid19model.optimization import MCMC\n",
    "from covid19model.models import models\n",
    "from covid19model.data import google\n",
    "from covid19model.data import sciensano\n",
    "from covid19model.data import model_parameters\n",
    "from covid19model.visualization.output import population_status, infected\n",
    "from covid19model.visualization.optimization import plot_fit, traceplot\n",
    "from covid19model.optimization.run_optimization import full_calibration_wave1, full_calibration_wave2\n",
    "from covid19model.models.utils import draw_sample_COVID19_SEIRD\n",
    "\n",
    "\n",
    "# OPTIONAL: Load the \"autoreload\" extension so that package code can change\n",
    "%load_ext autoreload\n",
    "# OPTIONAL: always reload modules so that as you change code in src, it gets loaded\n",
    "%autoreload 2"
   ]
  },
  {
   "cell_type": "code",
   "execution_count": null,
   "metadata": {
    "ExecuteTime": {
     "end_time": "2020-11-02T10:28:53.233506Z",
     "start_time": "2020-11-02T10:28:53.198636Z"
    }
   },
   "outputs": [],
   "source": [
    "# import dask\n",
    "\n",
    "# from dask.distributed import Client, progress\n",
    "# client = Client(threads_per_worker=16, n_workers=1)\n",
    "# client"
   ]
  },
  {
   "cell_type": "markdown",
   "metadata": {},
   "source": [
    "# Get public data"
   ]
  },
  {
   "cell_type": "code",
   "execution_count": null,
   "metadata": {
    "ExecuteTime": {
     "end_time": "2020-11-03T07:02:30.819329Z",
     "start_time": "2020-11-03T07:02:30.714956Z"
    }
   },
   "outputs": [],
   "source": [
    "df_sciensano = sciensano.get_sciensano_COVID19_data(update=False)\n"
   ]
  },
  {
   "cell_type": "code",
   "execution_count": 2,
   "metadata": {
    "ExecuteTime": {
     "end_time": "2020-11-03T13:12:50.467335Z",
     "start_time": "2020-11-03T13:12:50.417283Z"
    }
   },
   "outputs": [],
   "source": [
    "raw_hosp_data = pd.read_csv('../data/raw/sciensano/COVID19BE_HOSP.csv', parse_dates=['DATE'])\n",
    "Luik_hosp_data = raw_hosp_data[raw_hosp_data.PROVINCE=='Liège']"
   ]
  },
  {
   "cell_type": "code",
   "execution_count": null,
   "metadata": {
    "ExecuteTime": {
     "end_time": "2020-11-03T07:02:31.715743Z",
     "start_time": "2020-11-03T07:02:31.679581Z"
    }
   },
   "outputs": [],
   "source": [
    "#Luik_hosp_data.plot('DATE','NEW_IN')"
   ]
  },
  {
   "cell_type": "code",
   "execution_count": 3,
   "metadata": {
    "ExecuteTime": {
     "end_time": "2020-11-03T13:12:51.359265Z",
     "start_time": "2020-11-03T13:12:51.319236Z"
    },
    "scrolled": true
   },
   "outputs": [],
   "source": [
    "Luik_ts = Luik_hosp_data[['DATE','NEW_IN']].set_index('DATE')"
   ]
  },
  {
   "cell_type": "code",
   "execution_count": null,
   "metadata": {
    "ExecuteTime": {
     "end_time": "2020-11-02T16:04:22.903218Z",
     "start_time": "2020-11-02T16:04:22.706408Z"
    }
   },
   "outputs": [],
   "source": [
    "fig,ax = plt.subplots()\n",
    "Luik_ts.reset_index() .plot('DATE','NEW_IN', logy=True, ax=ax)\n",
    "ax.set_xlim('2020-08-01', '2020-11-01')"
   ]
  },
  {
   "cell_type": "markdown",
   "metadata": {},
   "source": [
    "# Load data"
   ]
  },
  {
   "cell_type": "code",
   "execution_count": 4,
   "metadata": {
    "ExecuteTime": {
     "end_time": "2020-11-03T13:12:53.722598Z",
     "start_time": "2020-11-03T13:12:53.377809Z"
    }
   },
   "outputs": [],
   "source": [
    "# Load the interaction matrices (size: 9x9)\n",
    "initN, Nc_home, Nc_work, Nc_schools, Nc_transport, Nc_leisure, Nc_others, Nc_total = model_parameters.get_interaction_matrices(dataset='willem_2012')\n",
    "# Define the number of age categories\n",
    "levels = initN.size\n",
    "#province_names = pd.read_csv('../data/raw/GIS/NIS_province.csv')\n",
    "initN_province = pd.read_csv('../data/interim/demographic/initN_province.csv')\n",
    "initN = np.array(list(initN_province.set_index('NIS').loc[60000].iloc[:9]))"
   ]
  },
  {
   "cell_type": "code",
   "execution_count": 5,
   "metadata": {
    "ExecuteTime": {
     "end_time": "2020-11-03T13:12:53.767020Z",
     "start_time": "2020-11-03T13:12:53.725345Z"
    }
   },
   "outputs": [],
   "source": [
    "fig_path = '../results/calibrations_provinces/'\n",
    "samples_path = '../data/interim/model_parameters/provinces/'"
   ]
  },
  {
   "cell_type": "code",
   "execution_count": 6,
   "metadata": {
    "ExecuteTime": {
     "end_time": "2020-11-03T13:12:53.911882Z",
     "start_time": "2020-11-03T13:12:53.874965Z"
    }
   },
   "outputs": [],
   "source": [
    "def draw_sample_beta_COVID19_SEIRD(parameter_dictionary,samples_dict):\n",
    "    \"\"\"\n",
    "    A function to draw parameter samples obtained with MCMC during model calibration and assign them to the parameter dictionary of the model.\n",
    "    Tailor-made for the BIOMATH COVID-19 SEIRD model.\n",
    "\n",
    "    Parameters\n",
    "    ----------\n",
    "    model : object\n",
    "        BIOMATH model object\n",
    "    \n",
    "    samples_dict : dictionary\n",
    "        Dictionary containing the samples of the sampled parameters: beta, l and tau.\n",
    "\n",
    "    Returns\n",
    "    ----------\n",
    "    model : object\n",
    "        BIOMATH model object\n",
    "\n",
    "    \"\"\"\n",
    "    # Use posterior samples of fitted parameters\n",
    "    parameter_dictionary['beta'] = np.random.choice(samples_dict['beta'],1,replace=False)\n",
    "    return parameter_dictionary"
   ]
  },
  {
   "cell_type": "markdown",
   "metadata": {},
   "source": [
    "# Initialize the model"
   ]
  },
  {
   "cell_type": "code",
   "execution_count": 7,
   "metadata": {
    "ExecuteTime": {
     "end_time": "2020-11-03T13:12:57.100252Z",
     "start_time": "2020-11-03T13:12:57.061785Z"
    }
   },
   "outputs": [],
   "source": [
    "def ramp_fun(Nc_old, Nc_new, t, tau_days, l, t_start):\n",
    "    \"\"\"\n",
    "    t : current date\n",
    "    tau : number of days before measures start having an effect\n",
    "    l : number of additional days after the time delay until full compliance is reached\n",
    "    \"\"\"\n",
    "    return Nc_old + (Nc_new-Nc_old)/l * (t-t_start-tau_days)/pd.Timedelta('1D')"
   ]
  },
  {
   "cell_type": "code",
   "execution_count": 8,
   "metadata": {
    "ExecuteTime": {
     "end_time": "2020-11-03T13:12:57.281299Z",
     "start_time": "2020-11-03T13:12:57.242541Z"
    }
   },
   "outputs": [],
   "source": [
    "# Define the compliance and lockdown function\n",
    "def lockdown_func(t,param,policy1,policy2,l,tau,prevention, start_date, policy_time):\n",
    "    tau_days = pd.to_timedelta(tau, unit='D')\n",
    "    l_days = pd.to_timedelta(l, unit='D')\n",
    "    if t <= start_date + tau_days:\n",
    "        return policy1\n",
    "    elif start_date + tau_days < t <= start_date + tau_days + l_days:\n",
    "        return ramp_fun(policy1, policy2, t, tau_days, l, start_date)\n",
    "    else:\n",
    "        return prevention*policy2"
   ]
  },
  {
   "cell_type": "code",
   "execution_count": 9,
   "metadata": {
    "ExecuteTime": {
     "end_time": "2020-11-03T13:12:57.786688Z",
     "start_time": "2020-11-03T13:12:57.462816Z"
    }
   },
   "outputs": [],
   "source": [
    "# Load the parameters using `get_COVID19_SEIRD_parameters()`.\n",
    "params = model_parameters.get_COVID19_SEIRD_parameters()\n",
    "params.update({'policy1': Nc_total,\n",
    "              'policy2': 1.0*Nc_home + (1-0.60)*Nc_work + (1-0.70)*Nc_transport + (1-0.30)*Nc_others + (1-0.80)*Nc_leisure,\n",
    "              'policy_time': 500,\n",
    "              'l': 1,\n",
    "              'tau': 5,\n",
    "              'prevention': 0.5,\n",
    "              'start_date': pd.to_datetime('2020-03-15')})\n",
    "# Define the initial condition: one exposed inidividual in every age category\n",
    "initial_states = {'S': initN, 'E': np.ones(levels)}\n",
    "model = models.COVID19_SEIRD(initial_states, params, time_dependent_parameters={'Nc': lockdown_func})"
   ]
  },
  {
   "cell_type": "code",
   "execution_count": 14,
   "metadata": {
    "ExecuteTime": {
     "end_time": "2020-11-03T13:13:09.697554Z",
     "start_time": "2020-11-03T13:13:09.661067Z"
    }
   },
   "outputs": [],
   "source": [
    "timeseries = Luik_ts['NEW_IN']\n",
    "spatial_unit = 'Luik_wave1_testBIS'\n"
   ]
  },
  {
   "cell_type": "markdown",
   "metadata": {},
   "source": [
    "# Calibration on first wave"
   ]
  },
  {
   "cell_type": "code",
   "execution_count": 11,
   "metadata": {
    "ExecuteTime": {
     "end_time": "2020-11-03T13:13:00.586667Z",
     "start_time": "2020-11-03T13:13:00.548969Z"
    }
   },
   "outputs": [],
   "source": [
    "## First wave\n",
    "start_date = '2020-03-15'\n",
    "end_beta = '2020-03-25'#'2020-03-22'\n",
    "end_ramp = '2020-05-23'"
   ]
  },
  {
   "cell_type": "code",
   "execution_count": 12,
   "metadata": {
    "ExecuteTime": {
     "end_time": "2020-11-03T13:13:00.768584Z",
     "start_time": "2020-11-03T13:13:00.722588Z"
    }
   },
   "outputs": [
    {
     "data": {
      "text/plain": [
       "11"
      ]
     },
     "execution_count": 12,
     "metadata": {},
     "output_type": "execute_result"
    }
   ],
   "source": [
    "len(Luik_ts.loc[start_date:end_beta])"
   ]
  },
  {
   "cell_type": "code",
   "execution_count": 13,
   "metadata": {
    "ExecuteTime": {
     "end_time": "2020-11-03T13:13:00.935267Z",
     "start_time": "2020-11-03T13:13:00.895231Z"
    }
   },
   "outputs": [
    {
     "data": {
      "text/plain": [
       "60"
      ]
     },
     "execution_count": 13,
     "metadata": {},
     "output_type": "execute_result"
    }
   ],
   "source": [
    "len(Luik_ts.loc[end_beta:end_ramp])"
   ]
  },
  {
   "cell_type": "code",
   "execution_count": null,
   "metadata": {
    "ExecuteTime": {
     "end_time": "2020-10-28T11:20:55.462246Z",
     "start_time": "2020-10-28T11:20:55.424200Z"
    }
   },
   "outputs": [],
   "source": [
    "# function parameters \n",
    "# maxiter=100\n",
    "# popsize=200\n",
    "# steps_mcmc=10000\n"
   ]
  },
  {
   "cell_type": "code",
   "execution_count": 15,
   "metadata": {
    "ExecuteTime": {
     "end_time": "2020-11-03T13:13:57.431261Z",
     "start_time": "2020-11-03T13:13:13.324572Z"
    }
   },
   "outputs": [
    {
     "name": "stdout",
     "output_type": "stream",
     "text": [
      "No constraints given.\n",
      "Best after iteration 1: [8.38349904e+00 4.56880360e+01 3.34758318e-02] 34.8078709763341\n",
      "Best after iteration 2: [8.38349904e+00 4.56880360e+01 3.34758318e-02] 34.8078709763341\n",
      "Best after iteration 3: [8.38349904e+00 4.56880360e+01 3.34758318e-02] 34.8078709763341\n",
      "Best after iteration 4: [8.38349904e+00 4.56880360e+01 3.34758318e-02] 34.8078709763341\n",
      "Best after iteration 5: [8.38349904e+00 4.56880360e+01 3.34758318e-02] 34.8078709763341\n",
      "Stopping search: maximum iterations reached --> 5\n"
     ]
    },
    {
     "name": "stderr",
     "output_type": "stream",
     "text": [
      "100%|██████████| 100/100 [00:39<00:00,  2.50it/s]\n",
      "/home/data/jvergeyn/Documents/COVID19-Model/src/covid19model/visualization/optimization.py:44: UserWarning: Attempting to set identical left == right == 0 results in singular transformations; automatically expanding.\n",
      "  ax.set_xlim(0, nsamples)\n",
      "/home/data/jvergeyn/Documents/COVID19-Model/src/covid19model/visualization/optimization.py:44: UserWarning: Attempting to set identical left == right == 0 results in singular transformations; automatically expanding.\n",
      "  ax.set_xlim(0, nsamples)\n"
     ]
    },
    {
     "name": "stdout",
     "output_type": "stream",
     "text": [
      "Calibrating beta. Warning: The chain is shorter than 50 times the integrated autocorrelation time for 4 parameter(s). Use this estimate with caution and run a longer chain!\n"
     ]
    },
    {
     "ename": "AssertionError",
     "evalue": "I don't believe that you want more dimensions than samples!",
     "output_type": "error",
     "traceback": [
      "\u001b[0;31m---------------------------------------------------------------------------\u001b[0m",
      "\u001b[0;31mAssertionError\u001b[0m                            Traceback (most recent call last)",
      "\u001b[0;32m<ipython-input-15-cedc411ec1f6>\u001b[0m in \u001b[0;36m<module>\u001b[0;34m\u001b[0m\n\u001b[1;32m      2\u001b[0m                                 \u001b[0mfig_path\u001b[0m\u001b[0;34m=\u001b[0m\u001b[0mfig_path\u001b[0m\u001b[0;34m,\u001b[0m \u001b[0msamples_path\u001b[0m\u001b[0;34m=\u001b[0m\u001b[0msamples_path\u001b[0m\u001b[0;34m,\u001b[0m\u001b[0;34m\u001b[0m\u001b[0;34m\u001b[0m\u001b[0m\n\u001b[1;32m      3\u001b[0m                                 \u001b[0minitN\u001b[0m\u001b[0;34m=\u001b[0m\u001b[0minitN\u001b[0m\u001b[0;34m,\u001b[0m \u001b[0mNc_total\u001b[0m\u001b[0;34m=\u001b[0m\u001b[0mNc_total\u001b[0m\u001b[0;34m,\u001b[0m\u001b[0;34m\u001b[0m\u001b[0;34m\u001b[0m\u001b[0m\n\u001b[0;32m----> 4\u001b[0;31m                                 maxiter=5, popsize=5, steps_mcmc=100)\n\u001b[0m\u001b[1;32m      5\u001b[0m \u001b[0;34m\u001b[0m\u001b[0m\n",
      "\u001b[0;32m~/Documents/COVID19-Model/src/covid19model/optimization/run_optimization.py\u001b[0m in \u001b[0;36mfull_calibration_wave1\u001b[0;34m(model, timeseries, spatial_unit, start_date, end_beta, end_ramp, fig_path, samples_path, initN, Nc_total, maxiter, popsize, steps_mcmc, omega, phip, phig)\u001b[0m\n\u001b[1;32m    124\u001b[0m \u001b[0;34m\u001b[0m\u001b[0m\n\u001b[1;32m    125\u001b[0m     checkplots(samples_beta, flat_samples_beta, fig_path, spatial_unit, \n\u001b[0;32m--> 126\u001b[0;31m                 figname='beta_', labels=['$\\sigma_{data}$','$\\\\beta$'])\n\u001b[0m\u001b[1;32m    127\u001b[0m \u001b[0;34m\u001b[0m\u001b[0m\n\u001b[1;32m    128\u001b[0m     \u001b[0msamples_beta\u001b[0m \u001b[0;34m=\u001b[0m \u001b[0;34m{\u001b[0m\u001b[0;34m'beta'\u001b[0m\u001b[0;34m:\u001b[0m \u001b[0mflat_samples_beta\u001b[0m\u001b[0;34m[\u001b[0m\u001b[0;34m:\u001b[0m\u001b[0;34m,\u001b[0m\u001b[0;36m1\u001b[0m\u001b[0;34m]\u001b[0m\u001b[0;34m.\u001b[0m\u001b[0mtolist\u001b[0m\u001b[0;34m(\u001b[0m\u001b[0;34m)\u001b[0m\u001b[0;34m}\u001b[0m\u001b[0;34m\u001b[0m\u001b[0;34m\u001b[0m\u001b[0m\n",
      "\u001b[0;32m~/Documents/COVID19-Model/src/covid19model/optimization/run_optimization.py\u001b[0m in \u001b[0;36mcheckplots\u001b[0;34m(samples, flatsamples, fig_path, spatial_unit, figname, labels)\u001b[0m\n\u001b[1;32m     31\u001b[0m                 dpi=600, bbox_inches='tight')\n\u001b[1;32m     32\u001b[0m \u001b[0;34m\u001b[0m\u001b[0m\n\u001b[0;32m---> 33\u001b[0;31m     \u001b[0mfig\u001b[0m \u001b[0;34m=\u001b[0m \u001b[0mcorner\u001b[0m\u001b[0;34m.\u001b[0m\u001b[0mcorner\u001b[0m\u001b[0;34m(\u001b[0m\u001b[0mflatsamples\u001b[0m\u001b[0;34m,\u001b[0m\u001b[0mlabels\u001b[0m\u001b[0;34m=\u001b[0m\u001b[0mlabels\u001b[0m\u001b[0;34m)\u001b[0m\u001b[0;34m\u001b[0m\u001b[0;34m\u001b[0m\u001b[0m\n\u001b[0m\u001b[1;32m     34\u001b[0m     \u001b[0mfig\u001b[0m\u001b[0;34m.\u001b[0m\u001b[0mset_size_inches\u001b[0m\u001b[0;34m(\u001b[0m\u001b[0;36m8\u001b[0m\u001b[0;34m,\u001b[0m \u001b[0;36m8\u001b[0m\u001b[0;34m)\u001b[0m\u001b[0;34m\u001b[0m\u001b[0;34m\u001b[0m\u001b[0m\n\u001b[1;32m     35\u001b[0m     plt.savefig(fig_path+'cornerplots/'+figname+str(spatial_unit)+'_'+str(datetime.date.today())+'.pdf',\n",
      "\u001b[0;32m~/.conda/envs/COVID_MODEL/lib/python3.7/site-packages/corner/corner.py\u001b[0m in \u001b[0;36mcorner\u001b[0;34m(xs, bins, range, weights, color, hist_bin_factor, smooth, smooth1d, labels, label_kwargs, titles, show_titles, title_fmt, title_kwargs, truths, truth_color, scale_hist, quantiles, verbose, fig, max_n_ticks, top_ticks, use_math_text, reverse, labelpad, hist_kwargs, **hist2d_kwargs)\u001b[0m\n\u001b[1;32m    192\u001b[0m         \u001b[0mxs\u001b[0m \u001b[0;34m=\u001b[0m \u001b[0mxs\u001b[0m\u001b[0;34m.\u001b[0m\u001b[0mT\u001b[0m\u001b[0;34m\u001b[0m\u001b[0;34m\u001b[0m\u001b[0m\n\u001b[1;32m    193\u001b[0m     assert xs.shape[0] <= xs.shape[1], (\n\u001b[0;32m--> 194\u001b[0;31m         \u001b[0;34m\"I don't believe that you want more \"\u001b[0m \u001b[0;34m\"dimensions than samples!\"\u001b[0m\u001b[0;34m\u001b[0m\u001b[0;34m\u001b[0m\u001b[0m\n\u001b[0m\u001b[1;32m    195\u001b[0m     )\n\u001b[1;32m    196\u001b[0m \u001b[0;34m\u001b[0m\u001b[0m\n",
      "\u001b[0;31mAssertionError\u001b[0m: I don't believe that you want more dimensions than samples!"
     ]
    }
   ],
   "source": [
    "samples_dict = full_calibration_wave1(model, timeseries, spatial_unit, start_date, end_beta, end_ramp, \n",
    "                                fig_path=fig_path, samples_path=samples_path,\n",
    "                                initN=initN, Nc_total=Nc_total,\n",
    "                                maxiter=100, popsize=200, steps_mcmc=1000)\n",
    "\n"
   ]
  },
  {
   "cell_type": "code",
   "execution_count": null,
   "metadata": {
    "ExecuteTime": {
     "end_time": "2020-11-02T09:51:56.921202Z",
     "start_time": "2020-11-02T09:51:56.874680Z"
    }
   },
   "outputs": [],
   "source": [
    "samples_dict"
   ]
  },
  {
   "cell_type": "code",
   "execution_count": null,
   "metadata": {
    "ExecuteTime": {
     "end_time": "2020-10-28T21:53:24.340780Z",
     "start_time": "2020-10-28T21:53:21.607494Z"
    },
    "scrolled": false
   },
   "outputs": [],
   "source": [
    "states = [['H_in']]\n",
    "end_date = '2020-07-01'\n",
    "data=[timeseries[start_date:end_ramp].values]\n",
    "\n",
    "fig,ax=plt.subplots()\n",
    "for i in range(10):\n",
    "    idx,model.parameters['beta'] = random.choice(list(enumerate(samples_dict['beta'])))\n",
    "    idx,model.parameters['l'] = random.choice(list(enumerate(samples_dict['l'])))\n",
    "    model.parameters['tau'] = samples_dict['tau'][idx]\n",
    "    model.parameters['policy_time'] = samples_dict['lag_time']\n",
    "    model.parameters['prevention'] = samples_dict['prevention'][idx]\n",
    "    y_model = model.sim(time=end_date, excess_time=samples_dict['lag_time'], start_date=start_date)\n",
    "    ax = plot_fit(y_model,data,start_date,samples_dict['lag_time'],states,end_date=end_date,with_ints=False,ax=ax,plt_kwargs={'color':'blue','linewidth': 2,'alpha': 0.05})\n",
    "\n",
    "data_after_calib = timeseries[pd.to_datetime(end_ramp)+pd.to_timedelta('1d'):end_date]\n",
    "plt.scatter(data_after_calib.index, data_after_calib.values, marker='o',color='red',linestyle='None',facecolors='none')\n",
    "legend_text=['daily \\nhospitalizations']\n",
    "ax.set_xlim('2020-03-10', '2020-07-01')\n",
    "# fig.savefig(fig_path+spatial_unit+'.pdf',\n",
    "#             bbox_inches='tight', dpi=600)"
   ]
  },
  {
   "cell_type": "markdown",
   "metadata": {},
   "source": [
    "# Step-by-step calibration per month"
   ]
  },
  {
   "cell_type": "markdown",
   "metadata": {},
   "source": [
    "## Simulation until 1 July"
   ]
  },
  {
   "cell_type": "code",
   "execution_count": null,
   "metadata": {
    "ExecuteTime": {
     "end_time": "2020-11-02T15:41:26.221465Z",
     "start_time": "2020-11-02T15:41:25.998381Z"
    }
   },
   "outputs": [],
   "source": [
    "# Load the dictionary containing the posterior parameter distributions obtained from calibrating the model to Belgian hospitalization data\n",
    "with open('../data/interim/model_parameters/provinces/Luik_wave1_1000steps_2020-10-28.json', 'r') as fp:\n",
    "    samples_dict_wave1 = json.load(fp)"
   ]
  },
  {
   "cell_type": "code",
   "execution_count": null,
   "metadata": {
    "ExecuteTime": {
     "end_time": "2020-11-02T15:41:59.106058Z",
     "start_time": "2020-11-02T15:41:59.067059Z"
    }
   },
   "outputs": [],
   "source": [
    "# Update this parameter here, the rest is updated by draw_sample_COVID19_SEIRD\n",
    "model.parameters['policy_time'] = samples_dict_wave1['lag_time']"
   ]
  },
  {
   "cell_type": "code",
   "execution_count": null,
   "metadata": {
    "ExecuteTime": {
     "end_time": "2020-11-02T15:42:28.185746Z",
     "start_time": "2020-11-02T15:41:59.249589Z"
    }
   },
   "outputs": [],
   "source": [
    "out_july = model.sim(time='2020-07-01', excess_time=samples_dict_wave1['lag_time'],start_date='2020-03-15',\n",
    "                   N=100, draw_fcn=draw_sample_COVID19_SEIRD,samples=samples_dict_wave1)\n",
    "states = out_july.isel(time=-1).mean(dim=\"draws\")\n",
    "initial_states_july1 = {key:states[key].values for key in initial_states.keys()}"
   ]
  },
  {
   "cell_type": "code",
   "execution_count": null,
   "metadata": {
    "ExecuteTime": {
     "end_time": "2020-10-30T16:56:35.394679Z",
     "start_time": "2020-10-30T16:56:35.351424Z"
    }
   },
   "outputs": [],
   "source": [
    "np.save('../data/interim/prediction_provinces/Luik_initial_states_july1.npy', initial_states_july1)"
   ]
  },
  {
   "cell_type": "markdown",
   "metadata": {},
   "source": [
    "## Calibration month July"
   ]
  },
  {
   "cell_type": "code",
   "execution_count": null,
   "metadata": {
    "ExecuteTime": {
     "end_time": "2020-10-30T16:56:33.278642Z",
     "start_time": "2020-10-30T16:56:33.224878Z"
    }
   },
   "outputs": [],
   "source": [
    "initial_states_july1 = np.load('../data/interim/prediction_provinces/Luik_initial_states_july1.npy', allow_pickle=True).item()"
   ]
  },
  {
   "cell_type": "code",
   "execution_count": null,
   "metadata": {
    "ExecuteTime": {
     "end_time": "2020-10-30T16:48:17.210748Z",
     "start_time": "2020-10-30T16:48:17.160083Z"
    }
   },
   "outputs": [],
   "source": [
    "# Second wave\n",
    "start_date = '2020-07-01'\n",
    "end_beta = '2020-08-01'"
   ]
  },
  {
   "cell_type": "code",
   "execution_count": null,
   "metadata": {
    "ExecuteTime": {
     "end_time": "2020-10-30T16:48:18.968763Z",
     "start_time": "2020-10-30T16:48:18.919319Z"
    }
   },
   "outputs": [],
   "source": [
    "len(Luik_ts.loc[start_date:end_beta])"
   ]
  },
  {
   "cell_type": "code",
   "execution_count": null,
   "metadata": {
    "ExecuteTime": {
     "end_time": "2020-10-30T16:48:20.509851Z",
     "start_time": "2020-10-30T16:48:20.188149Z"
    }
   },
   "outputs": [],
   "source": [
    "# Load the parameters using `get_COVID19_SEIRD_parameters()`.\n",
    "params = model_parameters.get_COVID19_SEIRD_parameters()\n",
    "#model_sept = models.COVID19_SEIRD(initial_states_sept, params)\n",
    "model_july = models.COVID19_SEIRD(initial_states_july1, params)"
   ]
  },
  {
   "cell_type": "code",
   "execution_count": null,
   "metadata": {
    "ExecuteTime": {
     "end_time": "2020-10-30T16:48:20.699738Z",
     "start_time": "2020-10-30T16:48:20.663234Z"
    }
   },
   "outputs": [],
   "source": [
    "# function parameters \n",
    "timeseries = Luik_ts['NEW_IN']\n",
    "spatial_unit = 'Luik_July'"
   ]
  },
  {
   "cell_type": "code",
   "execution_count": null,
   "metadata": {
    "ExecuteTime": {
     "end_time": "2020-10-30T16:48:22.470225Z",
     "start_time": "2020-10-30T16:48:22.432509Z"
    }
   },
   "outputs": [],
   "source": [
    "beta_init = np.mean(samples_dict_wave1['beta'])\n",
    "sigma_data_init = np.mean(samples_dict_wave1['sigma_data'])"
   ]
  },
  {
   "cell_type": "code",
   "execution_count": null,
   "metadata": {
    "ExecuteTime": {
     "end_time": "2020-10-30T16:51:21.133944Z",
     "start_time": "2020-10-30T16:48:26.896155Z"
    },
    "scrolled": true
   },
   "outputs": [],
   "source": [
    "samples_dict = full_calibration_wave2(model_july, timeseries, spatial_unit, start_date, end_beta, \n",
    "                                      beta_init, sigma_data_init, None,None,\n",
    "                                      fig_path=fig_path, samples_path=samples_path,\n",
    "                                      initN=initN, Nc_total=Nc_total,steps_mcmc=1000)"
   ]
  },
  {
   "cell_type": "code",
   "execution_count": null,
   "metadata": {
    "ExecuteTime": {
     "end_time": "2020-10-30T16:52:49.951381Z",
     "start_time": "2020-10-30T16:52:49.843952Z"
    },
    "scrolled": false
   },
   "outputs": [],
   "source": [
    "fig,ax = plt.subplots(figsize=(4,4))\n",
    "pd.Series(samples_dict['beta']).hist(ax=ax)"
   ]
  },
  {
   "cell_type": "code",
   "execution_count": null,
   "metadata": {
    "ExecuteTime": {
     "end_time": "2020-10-30T16:55:10.441581Z",
     "start_time": "2020-10-30T16:54:47.961115Z"
    }
   },
   "outputs": [],
   "source": [
    "states = [['H_in']]\n",
    "end_date = end_beta\n",
    "data=[timeseries[start_date:end_beta].values]\n",
    "\n",
    "fig,ax=plt.subplots(figsize=(8,8))\n",
    "for i in range(200):\n",
    "    idx,model_july.parameters['beta'] = random.choice(list(enumerate(samples_dict['beta'])))\n",
    "    y_model = model_july.sim(time=end_date, excess_time=0, start_date=start_date)\n",
    "    ax = plot_fit(y_model,data,start_date,lag_time=0,states=states,end_date=end_date,\n",
    "                  with_ints=False,ax=ax,plt_kwargs={'color':'blue','linewidth': 2,'alpha': 0.05})\n",
    "plt.setp(plt.gca().xaxis.get_majorticklabels(),'rotation', 0)\n",
    "#data_after_calib = timeseries[pd.to_datetime(end_ramp)+pd.to_timedelta('1d'):end_date]\n",
    "#plt.scatter(data_after_calib.index, data_after_calib.values, marker='o',color='red',linestyle='None',facecolors='none')\n",
    "legend_text=['daily \\nhospitalizations']\n",
    "ax.set_xlim(start_date, end_date)\n",
    "ax.set_ylabel('daily hospitalizations')\n",
    "fig.savefig(fig_path+spatial_unit+'.pdf',\n",
    "            bbox_inches='tight', dpi=600)"
   ]
  },
  {
   "cell_type": "markdown",
   "metadata": {},
   "source": [
    "## Simulation until 1 August"
   ]
  },
  {
   "cell_type": "code",
   "execution_count": null,
   "metadata": {
    "ExecuteTime": {
     "end_time": "2020-10-30T16:57:18.704357Z",
     "start_time": "2020-10-30T16:57:18.651429Z"
    }
   },
   "outputs": [],
   "source": [
    "# Load the dictionary containing the posterior parameter distributions obtained from calibrating the model to Belgian hospitalization data\n",
    "with open('../data/interim/model_parameters/provinces/Luik_July_2020-10-30.json', 'r') as fp:\n",
    "    samples_dict_july = json.load(fp)"
   ]
  },
  {
   "cell_type": "code",
   "execution_count": null,
   "metadata": {
    "ExecuteTime": {
     "end_time": "2020-10-30T16:46:49.392786Z",
     "start_time": "2020-10-30T16:46:49.356002Z"
    }
   },
   "outputs": [],
   "source": [
    "# Update this parameter here, the rest is updated by draw_sample_COVID19_SEIRD\n",
    "# model.parameters['policy_time'] = samples_dict_wave1['lag_time']"
   ]
  },
  {
   "cell_type": "code",
   "execution_count": null,
   "metadata": {
    "ExecuteTime": {
     "end_time": "2020-10-30T17:01:08.718045Z",
     "start_time": "2020-10-30T17:01:03.129460Z"
    }
   },
   "outputs": [],
   "source": [
    "out_aug = model_july.sim(time='2020-08-01', excess_time=0,start_date='2020-07-01',\n",
    "                   N=100, draw_fcn=draw_sample_beta_COVID19_SEIRD,samples=samples_dict_july)\n",
    "states = out_aug.isel(time=-1).mean(dim=\"draws\")\n",
    "initial_states_aug1 = {key:states[key].values for key in initial_states.keys()}"
   ]
  },
  {
   "cell_type": "code",
   "execution_count": null,
   "metadata": {
    "ExecuteTime": {
     "end_time": "2020-10-30T17:01:31.713350Z",
     "start_time": "2020-10-30T17:01:31.672096Z"
    }
   },
   "outputs": [],
   "source": [
    "np.save('../data/interim/prediction_provinces/Luik_initial_states_aug1.npy', initial_states_aug1)"
   ]
  },
  {
   "cell_type": "markdown",
   "metadata": {},
   "source": [
    "## Calibration month August"
   ]
  },
  {
   "cell_type": "code",
   "execution_count": null,
   "metadata": {
    "ExecuteTime": {
     "end_time": "2020-10-30T17:02:03.014165Z",
     "start_time": "2020-10-30T17:02:02.815531Z"
    }
   },
   "outputs": [],
   "source": [
    "initial_states_aug1 = np.load('../data/interim/prediction_provinces/Luik_initial_states_aug1.npy', allow_pickle=True).item()"
   ]
  },
  {
   "cell_type": "code",
   "execution_count": null,
   "metadata": {
    "ExecuteTime": {
     "end_time": "2020-10-30T17:02:09.305370Z",
     "start_time": "2020-10-30T17:02:09.267629Z"
    }
   },
   "outputs": [],
   "source": [
    "# Second wave\n",
    "start_date = '2020-08-01'\n",
    "end_beta = '2020-09-01'"
   ]
  },
  {
   "cell_type": "code",
   "execution_count": null,
   "metadata": {
    "ExecuteTime": {
     "end_time": "2020-10-30T17:02:09.879670Z",
     "start_time": "2020-10-30T17:02:09.837543Z"
    }
   },
   "outputs": [],
   "source": [
    "len(Luik_ts.loc[start_date:end_beta])"
   ]
  },
  {
   "cell_type": "code",
   "execution_count": null,
   "metadata": {
    "ExecuteTime": {
     "end_time": "2020-10-30T17:02:20.592714Z",
     "start_time": "2020-10-30T17:02:20.259567Z"
    }
   },
   "outputs": [],
   "source": [
    "# Load the parameters using `get_COVID19_SEIRD_parameters()`.\n",
    "params = model_parameters.get_COVID19_SEIRD_parameters()\n",
    "#model_sept = models.COVID19_SEIRD(initial_states_sept, params)\n",
    "model_aug = models.COVID19_SEIRD(initial_states_aug1, params)"
   ]
  },
  {
   "cell_type": "code",
   "execution_count": null,
   "metadata": {
    "ExecuteTime": {
     "end_time": "2020-10-30T17:02:24.887844Z",
     "start_time": "2020-10-30T17:02:24.845045Z"
    }
   },
   "outputs": [],
   "source": [
    "# function parameters \n",
    "timeseries = Luik_ts['NEW_IN']\n",
    "spatial_unit = 'Luik_Aug'"
   ]
  },
  {
   "cell_type": "code",
   "execution_count": null,
   "metadata": {
    "ExecuteTime": {
     "end_time": "2020-10-30T17:06:53.236522Z",
     "start_time": "2020-10-30T17:06:53.197798Z"
    }
   },
   "outputs": [],
   "source": [
    "beta_init = np.mean(samples_dict_july['beta'])\n",
    "sigma_data_init = np.mean(samples_dict_wave1['sigma_data'])"
   ]
  },
  {
   "cell_type": "code",
   "execution_count": null,
   "metadata": {
    "ExecuteTime": {
     "end_time": "2020-10-30T17:07:09.535256Z",
     "start_time": "2020-10-30T17:07:09.493727Z"
    }
   },
   "outputs": [],
   "source": [
    "mu_beta, std_beta = norm.fit(samples_dict_july['beta'])\n",
    "mu_sigma_data, std_sigma_data = norm.fit(samples_dict_wave1['sigma_data']) # should be on july!\n",
    "beta_norm_params = (mu_beta, std_beta)\n",
    "sigma_data_norm_params = (mu_sigma_data, std_sigma_data)"
   ]
  },
  {
   "cell_type": "code",
   "execution_count": null,
   "metadata": {
    "ExecuteTime": {
     "end_time": "2020-10-30T17:45:38.944138Z",
     "start_time": "2020-10-30T17:42:39.898370Z"
    }
   },
   "outputs": [],
   "source": [
    "samples_dict = full_calibration_wave2(model_aug, timeseries, spatial_unit, start_date, end_beta, \n",
    "                                      beta_init, sigma_data_init, None, None,\n",
    "                                      fig_path=fig_path, samples_path=samples_path,\n",
    "                                      initN=initN, Nc_total=Nc_total,steps_mcmc=1000)"
   ]
  },
  {
   "cell_type": "code",
   "execution_count": null,
   "metadata": {
    "ExecuteTime": {
     "end_time": "2020-10-30T17:45:56.766698Z",
     "start_time": "2020-10-30T17:45:56.509328Z"
    }
   },
   "outputs": [],
   "source": [
    "fig,ax = plt.subplots(figsize=(4,4))\n",
    "pd.Series(samples_dict['beta']).hist(ax=ax)"
   ]
  },
  {
   "cell_type": "code",
   "execution_count": null,
   "metadata": {
    "ExecuteTime": {
     "end_time": "2020-10-30T17:49:01.217041Z",
     "start_time": "2020-10-30T17:48:58.606651Z"
    }
   },
   "outputs": [],
   "source": [
    "## Deze herrunnen!\n",
    "states = [['H_in']]\n",
    "end_date = end_beta\n",
    "data=[timeseries[start_date:end_beta].values]\n",
    "\n",
    "fig,ax=plt.subplots(figsize=(8,8))\n",
    "for i in range(20):\n",
    "    idx,model_aug.parameters['beta'] = random.choice(list(enumerate(samples_dict_aug['beta'])))\n",
    "    y_model = model_aug.sim(time=end_date, excess_time=0, start_date=start_date)\n",
    "    ax = plot_fit(y_model,data,start_date,lag_time=0,states=states,end_date=end_date,\n",
    "                  with_ints=False,ax=ax,plt_kwargs={'color':'blue','linewidth': 2,'alpha': 0.05})\n",
    "plt.setp(plt.gca().xaxis.get_majorticklabels(),'rotation', 0)\n",
    "#data_after_calib = timeseries[pd.to_datetime(end_ramp)+pd.to_timedelta('1d'):end_date]\n",
    "#plt.scatter(data_after_calib.index, data_after_calib.values, marker='o',color='red',linestyle='None',facecolors='none')\n",
    "legend_text=['daily \\nhospitalizations']\n",
    "ax.set_xlim(start_date, end_date)\n",
    "ax.set_ylabel('daily hospitalizations')\n",
    "# fig.savefig(fig_path+spatial_unit+'.pdf',\n",
    "#             bbox_inches='tight', dpi=600)"
   ]
  },
  {
   "cell_type": "code",
   "execution_count": null,
   "metadata": {},
   "outputs": [],
   "source": []
  },
  {
   "cell_type": "markdown",
   "metadata": {},
   "source": [
    "## Simulation until 1 September"
   ]
  },
  {
   "cell_type": "code",
   "execution_count": null,
   "metadata": {
    "ExecuteTime": {
     "end_time": "2020-10-30T17:51:15.869769Z",
     "start_time": "2020-10-30T17:51:15.655962Z"
    }
   },
   "outputs": [],
   "source": [
    "# Load the dictionary containing the posterior parameter distributions obtained from calibrating the model to Belgian hospitalization data\n",
    "with open('../data/interim/model_parameters/provinces/Luik_Aug_2020-10-30.json', 'r') as fp:\n",
    "    samples_dict_aug = json.load(fp)"
   ]
  },
  {
   "cell_type": "code",
   "execution_count": null,
   "metadata": {
    "ExecuteTime": {
     "end_time": "2020-10-30T16:46:49.392786Z",
     "start_time": "2020-10-30T16:46:49.356002Z"
    }
   },
   "outputs": [],
   "source": [
    "# Update this parameter here, the rest is updated by draw_sample_COVID19_SEIRD\n",
    "# model.parameters['policy_time'] = samples_dict_wave1['lag_time']"
   ]
  },
  {
   "cell_type": "code",
   "execution_count": null,
   "metadata": {
    "ExecuteTime": {
     "end_time": "2020-10-30T17:51:24.928761Z",
     "start_time": "2020-10-30T17:51:19.336448Z"
    }
   },
   "outputs": [],
   "source": [
    "out_sept = model_aug.sim(time='2020-09-01', excess_time=0,start_date='2020-08-01',\n",
    "                   N=100, draw_fcn=draw_sample_beta_COVID19_SEIRD,samples=samples_dict_aug)\n",
    "states = out_sept.isel(time=-1).mean(dim=\"draws\")\n",
    "initial_states_sept1 = {key:states[key].values for key in initial_states.keys()}"
   ]
  },
  {
   "cell_type": "code",
   "execution_count": null,
   "metadata": {
    "ExecuteTime": {
     "end_time": "2020-10-30T17:51:33.711786Z",
     "start_time": "2020-10-30T17:51:33.673224Z"
    }
   },
   "outputs": [],
   "source": [
    "np.save('../data/interim/prediction_provinces/Luik_initial_states_sept1.npy', initial_states_sept1)"
   ]
  },
  {
   "cell_type": "code",
   "execution_count": null,
   "metadata": {
    "ExecuteTime": {
     "end_time": "2020-10-30T17:51:25.318521Z",
     "start_time": "2020-10-30T17:51:25.271583Z"
    }
   },
   "outputs": [],
   "source": [
    "initial_states_sept1"
   ]
  },
  {
   "cell_type": "markdown",
   "metadata": {},
   "source": [
    "## Calibration month September"
   ]
  },
  {
   "cell_type": "code",
   "execution_count": null,
   "metadata": {
    "ExecuteTime": {
     "end_time": "2020-10-30T17:51:58.368440Z",
     "start_time": "2020-10-30T17:51:58.330641Z"
    }
   },
   "outputs": [],
   "source": [
    "initial_states_sept1 = np.load('../data/interim/prediction_provinces/Luik_initial_states_sept1.npy', allow_pickle=True).item()"
   ]
  },
  {
   "cell_type": "code",
   "execution_count": null,
   "metadata": {
    "ExecuteTime": {
     "end_time": "2020-10-30T17:52:06.817390Z",
     "start_time": "2020-10-30T17:52:06.780931Z"
    }
   },
   "outputs": [],
   "source": [
    "# Second wave\n",
    "start_date = '2020-09-01'\n",
    "end_beta = '2020-10-01'"
   ]
  },
  {
   "cell_type": "code",
   "execution_count": null,
   "metadata": {
    "ExecuteTime": {
     "end_time": "2020-10-30T17:52:08.496601Z",
     "start_time": "2020-10-30T17:52:08.455785Z"
    }
   },
   "outputs": [],
   "source": [
    "len(Luik_ts.loc[start_date:end_beta])"
   ]
  },
  {
   "cell_type": "code",
   "execution_count": null,
   "metadata": {
    "ExecuteTime": {
     "end_time": "2020-10-30T17:52:15.480377Z",
     "start_time": "2020-10-30T17:52:15.157707Z"
    }
   },
   "outputs": [],
   "source": [
    "# Load the parameters using `get_COVID19_SEIRD_parameters()`.\n",
    "params = model_parameters.get_COVID19_SEIRD_parameters()\n",
    "#model_sept = models.COVID19_SEIRD(initial_states_sept, params)\n",
    "model_sept = models.COVID19_SEIRD(initial_states_sept1, params)"
   ]
  },
  {
   "cell_type": "code",
   "execution_count": null,
   "metadata": {
    "ExecuteTime": {
     "end_time": "2020-10-30T17:52:18.721870Z",
     "start_time": "2020-10-30T17:52:18.524171Z"
    }
   },
   "outputs": [],
   "source": [
    "# function parameters \n",
    "timeseries = Luik_ts['NEW_IN']\n",
    "spatial_unit = 'Luik_Sept'"
   ]
  },
  {
   "cell_type": "code",
   "execution_count": null,
   "metadata": {
    "ExecuteTime": {
     "end_time": "2020-10-30T18:02:55.232222Z",
     "start_time": "2020-10-30T18:02:55.194458Z"
    }
   },
   "outputs": [],
   "source": [
    "beta_init = 0.03\n",
    "sigma_data_init = np.mean(samples_dict_wave1['sigma_data'])"
   ]
  },
  {
   "cell_type": "code",
   "execution_count": null,
   "metadata": {
    "ExecuteTime": {
     "end_time": "2020-10-30T17:52:31.456104Z",
     "start_time": "2020-10-30T17:52:31.416945Z"
    }
   },
   "outputs": [],
   "source": [
    "# mu_beta, std_beta = norm.fit(samples_dict_aug['beta'])\n",
    "# mu_sigma_data, std_sigma_data = norm.fit(samples_dict_wave1['sigma_data']) # should be on aug!\n",
    "# beta_norm_params = (mu_beta, std_beta)\n",
    "# sigma_data_norm_params = (mu_sigma_data, std_sigma_data)"
   ]
  },
  {
   "cell_type": "code",
   "execution_count": null,
   "metadata": {
    "ExecuteTime": {
     "end_time": "2020-10-30T18:06:18.300489Z",
     "start_time": "2020-10-30T18:02:59.457873Z"
    }
   },
   "outputs": [],
   "source": [
    "samples_dict = full_calibration_wave2(model_aug, timeseries, spatial_unit, start_date, end_beta, \n",
    "                                      beta_init, sigma_data_init, None, None,\n",
    "                                      fig_path=fig_path, samples_path=samples_path,\n",
    "                                      initN=initN, Nc_total=Nc_total,steps_mcmc=1000)"
   ]
  },
  {
   "cell_type": "code",
   "execution_count": null,
   "metadata": {
    "ExecuteTime": {
     "end_time": "2020-10-30T18:07:19.956638Z",
     "start_time": "2020-10-30T18:07:19.689726Z"
    }
   },
   "outputs": [],
   "source": [
    "fig,ax = plt.subplots(figsize=(4,4))\n",
    "pd.Series(samples_dict['beta']).hist(ax=ax)"
   ]
  },
  {
   "cell_type": "code",
   "execution_count": null,
   "metadata": {
    "ExecuteTime": {
     "end_time": "2020-10-30T18:07:28.841956Z",
     "start_time": "2020-10-30T18:07:25.461128Z"
    }
   },
   "outputs": [],
   "source": [
    "states = [['H_in']]\n",
    "end_date = end_beta\n",
    "data=[timeseries[start_date:end_beta].values]\n",
    "\n",
    "fig,ax=plt.subplots(figsize=(8,8))\n",
    "for i in range(20):\n",
    "    idx,model_sept.parameters['beta'] = random.choice(list(enumerate(samples_dict['beta'])))\n",
    "    y_model = model_sept.sim(time=end_date, excess_time=0, start_date=start_date)\n",
    "    ax = plot_fit(y_model,data,start_date,lag_time=0,states=states,end_date=end_date,\n",
    "                  with_ints=False,ax=ax,plt_kwargs={'color':'blue','linewidth': 2,'alpha': 0.05})\n",
    "plt.setp(plt.gca().xaxis.get_majorticklabels(),'rotation', 0)\n",
    "#data_after_calib = timeseries[pd.to_datetime(end_ramp)+pd.to_timedelta('1d'):end_date]\n",
    "#plt.scatter(data_after_calib.index, data_after_calib.values, marker='o',color='red',linestyle='None',facecolors='none')\n",
    "legend_text=['daily \\nhospitalizations']\n",
    "ax.set_xlim(start_date, end_date)\n",
    "ax.set_ylabel('daily hospitalizations')\n",
    "fig.savefig(fig_path+spatial_unit+'.pdf',\n",
    "            bbox_inches='tight', dpi=600)"
   ]
  },
  {
   "cell_type": "markdown",
   "metadata": {},
   "source": [
    "# Step-by-step per policy"
   ]
  },
  {
   "cell_type": "code",
   "execution_count": null,
   "metadata": {},
   "outputs": [],
   "source": []
  },
  {
   "cell_type": "code",
   "execution_count": null,
   "metadata": {},
   "outputs": [],
   "source": []
  },
  {
   "cell_type": "code",
   "execution_count": null,
   "metadata": {},
   "outputs": [],
   "source": []
  },
  {
   "cell_type": "code",
   "execution_count": null,
   "metadata": {},
   "outputs": [],
   "source": []
  },
  {
   "cell_type": "markdown",
   "metadata": {},
   "source": [
    "# Calibration on entire period"
   ]
  },
  {
   "cell_type": "code",
   "execution_count": null,
   "metadata": {
    "ExecuteTime": {
     "end_time": "2020-10-30T16:44:14.843919Z",
     "start_time": "2020-10-30T16:44:14.621688Z"
    }
   },
   "outputs": [],
   "source": [
    "# Load the dictionary containing the posterior parameter distributions obtained from calibrating the model to Belgian hospitalization data\n",
    "with open('../data/interim/model_parameters/provinces/Luik_wave1_1000steps_2020-10-28.json', 'r') as fp:\n",
    "    samples_dict_wave1 = json.load(fp)"
   ]
  },
  {
   "cell_type": "code",
   "execution_count": null,
   "metadata": {
    "ExecuteTime": {
     "end_time": "2020-10-30T16:45:37.460957Z",
     "start_time": "2020-10-30T16:45:37.262893Z"
    }
   },
   "outputs": [],
   "source": [
    "initial_states_aug = np.load('../data/interim/prediction_provinces/Luik_initial_states_aug.npy', allow_pickle=True).item()"
   ]
  },
  {
   "cell_type": "code",
   "execution_count": null,
   "metadata": {
    "ExecuteTime": {
     "end_time": "2020-10-30T16:44:15.309723Z",
     "start_time": "2020-10-30T16:44:15.273633Z"
    }
   },
   "outputs": [],
   "source": [
    "# Second wave\n",
    "start_date = '2020-08-01'\n",
    "end_beta = '2020-10-25'"
   ]
  },
  {
   "cell_type": "code",
   "execution_count": null,
   "metadata": {
    "ExecuteTime": {
     "end_time": "2020-10-30T16:44:15.991976Z",
     "start_time": "2020-10-30T16:44:15.950040Z"
    }
   },
   "outputs": [],
   "source": [
    "len(Luik_ts.loc[start_date:end_beta])"
   ]
  },
  {
   "cell_type": "code",
   "execution_count": null,
   "metadata": {
    "ExecuteTime": {
     "end_time": "2020-10-30T16:45:39.249929Z",
     "start_time": "2020-10-30T16:45:38.927522Z"
    }
   },
   "outputs": [],
   "source": [
    "# Load the parameters using `get_COVID19_SEIRD_parameters()`.\n",
    "params = model_parameters.get_COVID19_SEIRD_parameters()\n",
    "#model_sept = models.COVID19_SEIRD(initial_states_sept, params)\n",
    "model_aug = models.COVID19_SEIRD(initial_states_aug, params)"
   ]
  },
  {
   "cell_type": "code",
   "execution_count": null,
   "metadata": {
    "ExecuteTime": {
     "end_time": "2020-10-30T16:45:42.221862Z",
     "start_time": "2020-10-30T16:45:42.185330Z"
    }
   },
   "outputs": [],
   "source": [
    "# function parameters \n",
    "timeseries = Luik_ts['NEW_IN']\n",
    "spatial_unit = 'Luik_wave2_from_aug_NVD'\n"
   ]
  },
  {
   "cell_type": "code",
   "execution_count": null,
   "metadata": {
    "ExecuteTime": {
     "end_time": "2020-10-30T16:45:43.424521Z",
     "start_time": "2020-10-30T16:45:43.386749Z"
    }
   },
   "outputs": [],
   "source": [
    "mu_beta, std_beta = norm.fit(samples_dict_wave1['beta'])\n",
    "mu_sigma_data, std_sigma_data = norm.fit(samples_dict_wave1['beta'])"
   ]
  },
  {
   "cell_type": "code",
   "execution_count": null,
   "metadata": {
    "ExecuteTime": {
     "end_time": "2020-10-30T16:45:43.499159Z",
     "start_time": "2020-10-30T16:45:43.461809Z"
    }
   },
   "outputs": [],
   "source": [
    "beta_init = np.mean(samples_dict_wave1['beta'])\n",
    "sigma_data_init = np.mean(samples_dict_wave1['sigma_data'])\n",
    "beta_norm_params = (mu_beta, std_beta)\n",
    "sigma_data_norm_params = (mu_sigma_data, std_sigma_data)"
   ]
  },
  {
   "cell_type": "code",
   "execution_count": null,
   "metadata": {
    "ExecuteTime": {
     "start_time": "2020-10-30T16:45:57.123Z"
    },
    "scrolled": true
   },
   "outputs": [],
   "source": [
    "samples_dict = full_calibration_wave2(model_aug, timeseries, spatial_unit, start_date, end_beta, \n",
    "                                      beta_init, sigma_data_init, beta_norm_params,sigma_data_norm_params,\n",
    "                                      fig_path=fig_path, samples_path=samples_path,\n",
    "                                      initN=initN, Nc_total=Nc_total,steps_mcmc=500)"
   ]
  },
  {
   "cell_type": "code",
   "execution_count": null,
   "metadata": {
    "ExecuteTime": {
     "end_time": "2020-10-30T15:45:24.407966Z",
     "start_time": "2020-10-30T15:45:24.196743Z"
    }
   },
   "outputs": [],
   "source": [
    "# Load the dictionary containing the posterior parameter distributions obtained from calibrating the model to Belgian hospitalization data\n",
    "with open('../data/interim/model_parameters/provinces/Luik_wave2_from_aug_NVD_2020-10-30.json', 'r') as fp:\n",
    "    samples_dict = json.load(fp)\n"
   ]
  },
  {
   "cell_type": "code",
   "execution_count": null,
   "metadata": {
    "ExecuteTime": {
     "end_time": "2020-10-30T16:21:36.785703Z",
     "start_time": "2020-10-30T16:21:36.581443Z"
    }
   },
   "outputs": [],
   "source": [
    "pd.Series(samples_dict['beta']).describe()"
   ]
  },
  {
   "cell_type": "code",
   "execution_count": null,
   "metadata": {
    "ExecuteTime": {
     "end_time": "2020-10-30T15:45:55.789033Z",
     "start_time": "2020-10-30T15:45:38.264677Z"
    },
    "scrolled": false
   },
   "outputs": [],
   "source": [
    "states = [['H_in']]\n",
    "end_date = '2021-01-01' #end_beta\n",
    "data=[timeseries[start_date:end_beta].values]\n",
    "\n",
    "fig,ax=plt.subplots(figsize=(8,8))\n",
    "for i in range(20):\n",
    "    idx,model_aug.parameters['beta'] = random.choice(list(enumerate(samples_dict['beta'])))\n",
    "    y_model = model_aug.sim(time=end_date, excess_time=0, start_date=start_date)\n",
    "    ax = plot_fit(y_model,data,start_date,lag_time=0,states=states,end_date=end_date,\n",
    "                  with_ints=False,ax=ax,plt_kwargs={'color':'blue','linewidth': 2,'alpha': 0.05})\n",
    "plt.setp(plt.gca().xaxis.get_majorticklabels(),'rotation', 0)\n",
    "#data_after_calib = timeseries[pd.to_datetime(end_ramp)+pd.to_timedelta('1d'):end_date]\n",
    "#plt.scatter(data_after_calib.index, data_after_calib.values, marker='o',color='red',linestyle='None',facecolors='none')\n",
    "legend_text=['daily \\nhospitalizations']\n",
    "ax.set_xlim('2020-08-01', '2021-01-01')\n",
    "ax.set_ylabel('daily hospitalizations')\n",
    "# fig.savefig(fig_path+spatial_unit+'.pdf',\n",
    "#             bbox_inches='tight', dpi=600)"
   ]
  },
  {
   "cell_type": "code",
   "execution_count": null,
   "metadata": {
    "ExecuteTime": {
     "end_time": "2020-10-29T09:00:39.961180Z",
     "start_time": "2020-10-29T09:00:35.679844Z"
    }
   },
   "outputs": [],
   "source": [
    "fig.savefig(fig_path+spatial_unit+'.pdf',\n",
    "            bbox_inches='tight', dpi=600)"
   ]
  },
  {
   "cell_type": "markdown",
   "metadata": {},
   "source": [
    "# Calibration on increasing line"
   ]
  },
  {
   "cell_type": "markdown",
   "metadata": {},
   "source": [
    "## Simulation until 28 September"
   ]
  },
  {
   "cell_type": "code",
   "execution_count": null,
   "metadata": {
    "ExecuteTime": {
     "end_time": "2020-11-02T15:44:24.001235Z",
     "start_time": "2020-11-02T15:44:23.935429Z"
    }
   },
   "outputs": [],
   "source": [
    "# Load the dictionary containing the posterior parameter distributions obtained from calibrating the model to Belgian hospitalization data\n",
    "with open('../data/interim/model_parameters/provinces/Luik_wave1_1000steps_2020-10-28.json', 'r') as fp:\n",
    "    samples_dict_wave1 = json.load(fp)"
   ]
  },
  {
   "cell_type": "code",
   "execution_count": null,
   "metadata": {
    "ExecuteTime": {
     "end_time": "2020-11-02T15:44:24.291342Z",
     "start_time": "2020-11-02T15:44:24.243592Z"
    }
   },
   "outputs": [],
   "source": [
    "def policies_until_september(t,param,start_date,policy_time,policy1,policy2,policy3,policy4,policy5,\n",
    "                               policy6,policy7,policy8,policy9,policy10,l,tau,prevention):\n",
    "\n",
    "    tau_days = pd.to_timedelta(tau, unit='D')\n",
    "    l_days = pd.to_timedelta(l, unit='D')\n",
    "    t1 = pd.to_datetime('2020-05-04') # reopening industry\n",
    "    t2 = pd.to_datetime('2020-05-06') # merging of two bubbels\n",
    "    t3 = pd.to_datetime('2020-05-11') # reopening of businesses\n",
    "    t4 = pd.to_datetime('2020-05-18') # partial reopening schools\n",
    "    t5 = pd.to_datetime('2020-06-04') # reopening schools, bars, restaurants\n",
    "    t6 = pd.to_datetime('2020-07-01') # school holidays, gatherings 15 people, cultural event\n",
    "    t7 = pd.to_datetime('2020-07-31') # ?\n",
    "    t8 = pd.to_datetime('2020-07-31') # opening schools\n",
    "    \n",
    "    if t <= start_date + tau_days:\n",
    "        return policy1\n",
    "    elif start_date + tau_days < t <= start_date + tau_days + l_days:\n",
    "        return ramp_fun(policy1, policy2, t, tau_days, l, start_date)\n",
    "    elif start_date + tau_days + l_days < t <= t1: \n",
    "        return prevention*policy2\n",
    "    elif t1 < t <= t2:\n",
    "        return prevention*policy3\n",
    "    elif t2 < t <= t3:\n",
    "        return prevention*policy4\n",
    "    elif t3 < t <= t4:\n",
    "        return prevention*policy5\n",
    "    elif t4 < t <= t5:\n",
    "        return prevention*policy6\n",
    "    elif t5 < t <= t6:\n",
    "        return prevention*policy7\n",
    "    elif t6 < t <= t7:\n",
    "        return prevention*policy8\n",
    "    elif t7 < t <= t8:\n",
    "        return prevention*policy9\n",
    "    elif t8 < t:\n",
    "        return prevention*policy10"
   ]
  },
  {
   "cell_type": "code",
   "execution_count": null,
   "metadata": {
    "ExecuteTime": {
     "end_time": "2020-11-02T15:44:26.722906Z",
     "start_time": "2020-11-02T15:44:26.385073Z"
    }
   },
   "outputs": [],
   "source": [
    "# Load the model parameters using `get_COVID19_SEIRD_parameters()`.\n",
    "params = model_parameters.get_COVID19_SEIRD_parameters()\n",
    "\n",
    "params.update({'policy1': Nc_total,\n",
    "              'policy2': 1.0*Nc_home + (1-0.60)*Nc_work + (1-0.70)*Nc_transport + (1-0.30)*Nc_others + (1-0.80)*Nc_leisure,\n",
    "              'policy3': 1.0*Nc_home + (1-0.50)*Nc_work + (1-0.60)*Nc_transport + (1-0.30)*Nc_others + (1-0.70)*Nc_leisure,\n",
    "              'policy4': 1.0*Nc_home + (1-0.40)*Nc_work + (1-0.55)*Nc_transport + (1-0.25)*Nc_others + (1-0.65)*Nc_leisure,\n",
    "              'policy5': 1.0*Nc_home + (1-0.30)*Nc_work + (1-0.50)*Nc_transport + (1-0.20)*Nc_others + (1-0.60)*Nc_leisure,\n",
    "              'policy6': 1.0*Nc_home + (1-0.30)*Nc_work + (1-0.45)*Nc_transport + (1-0.15)*Nc_others + (1-0.85)*Nc_schools + (1-0.50)*Nc_leisure,\n",
    "              'policy7': 1.0*Nc_home + (1-0.25)*Nc_work + (1-0.35)*Nc_transport + (1-0.10)*Nc_others + (1-0.35)*Nc_schools + (1-0.30)*Nc_leisure,\n",
    "              'policy8': 1.0*Nc_home + (1-0.20)*Nc_work + (1-0.25)*Nc_transport + (1-0.05)*Nc_others + (1-0.30)*Nc_leisure,\n",
    "              'policy9': 1.0*Nc_home + (1-0.30)*Nc_work + (1-0.35)*Nc_transport + (1-0.15)*Nc_others + (1-0.40)*Nc_leisure,\n",
    "              'policy10': 1.0*Nc_home + (1-0.00)*Nc_work + (1-0.00)*Nc_transport + (1-0.00)*Nc_others + (1-0.00)*Nc_schools + (1-0.00)*Nc_leisure,\n",
    "              'policy_time': samples_dict_wave1['lag_time'],\n",
    "              'l': 1,\n",
    "              'tau': 5,\n",
    "              'prevention': 0.5,\n",
    "              'start_date':pd.to_datetime('2020-03-15')})\n",
    "\n",
    "# Define the initial condition: one exposed inidividual in every age category\n",
    "initial_states = {'S': initN, 'E': np.ones(levels)}\n",
    "# Initialize the model\n",
    "model = models.COVID19_SEIRD(initial_states, params, time_dependent_parameters={'Nc': policies_until_september})"
   ]
  },
  {
   "cell_type": "code",
   "execution_count": null,
   "metadata": {
    "ExecuteTime": {
     "end_time": "2020-11-02T15:48:36.848216Z",
     "start_time": "2020-11-02T15:48:23.074244Z"
    },
    "scrolled": false
   },
   "outputs": [],
   "source": [
    "states = [['H_in']]\n",
    "end_date = '2020-09-28'\n",
    "data=[timeseries[start_date:end_ramp].values]\n",
    "\n",
    "fig,ax=plt.subplots()\n",
    "for i in range(10):\n",
    "    idx,model.parameters['beta'] = random.choice(list(enumerate(samples_dict_wave1['beta'])))\n",
    "    idx,model.parameters['l'] = random.choice(list(enumerate(samples_dict_wave1['l'])))\n",
    "    model.parameters['tau'] = samples_dict_wave1['tau'][idx]\n",
    "    model.parameters['policy_time'] = samples_dict_wave1['lag_time']\n",
    "    model.parameters['prevention'] = samples_dict_wave1['prevention'][idx]\n",
    "    y_model = model.sim(time=end_date, excess_time=samples_dict_wave1['lag_time'], start_date=start_date)\n",
    "    ax = plot_fit(y_model,data,start_date,samples_dict_wave1['lag_time'],states,end_date=end_date,with_ints=False,ax=ax,plt_kwargs={'color':'blue','linewidth': 2,'alpha': 0.05})\n",
    "\n",
    "data_after_calib = timeseries[pd.to_datetime(end_ramp)+pd.to_timedelta('1d'):end_date]\n",
    "plt.scatter(data_after_calib.index, data_after_calib.values, marker='o',color='red',linestyle='None',facecolors='none')\n",
    "legend_text=['daily \\nhospitalizations']\n",
    "ax.set_xlim('2020-03-10', end_date)\n",
    "# fig.savefig(fig_path+spatial_unit+'.pdf',\n",
    "#             bbox_inches='tight', dpi=600)"
   ]
  },
  {
   "cell_type": "code",
   "execution_count": null,
   "metadata": {
    "ExecuteTime": {
     "end_time": "2020-11-02T15:46:43.828470Z",
     "start_time": "2020-11-02T15:44:37.663801Z"
    }
   },
   "outputs": [],
   "source": [
    "out_sept28 = model.sim(time='2020-09-28', excess_time=samples_dict_wave1['lag_time'],start_date='2020-03-15',\n",
    "                   N=100, draw_fcn=draw_sample_COVID19_SEIRD,samples=samples_dict_wave1)\n",
    "states = out_sept28.isel(time=-1).mean(dim=\"draws\")\n",
    "initial_states_sept28 = {key:states[key].values for key in initial_states.keys()}"
   ]
  },
  {
   "cell_type": "code",
   "execution_count": null,
   "metadata": {
    "ExecuteTime": {
     "end_time": "2020-11-02T15:46:50.030828Z",
     "start_time": "2020-11-02T15:46:49.826066Z"
    }
   },
   "outputs": [],
   "source": [
    "np.save('../data/interim/prediction_provinces/Luik_initial_states_sept28.npy', initial_states_sept28)"
   ]
  },
  {
   "cell_type": "markdown",
   "metadata": {},
   "source": [
    "## Calibration 28 Sept - 25 Oct"
   ]
  },
  {
   "cell_type": "code",
   "execution_count": null,
   "metadata": {
    "ExecuteTime": {
     "end_time": "2020-11-02T15:51:16.647929Z",
     "start_time": "2020-11-02T15:51:16.412113Z"
    }
   },
   "outputs": [],
   "source": [
    "# Load the dictionary containing the posterior parameter distributions obtained from calibrating the model to Belgian hospitalization data\n",
    "with open('../data/interim/model_parameters/provinces/Luik_wave1_1000steps_2020-10-28.json', 'r') as fp:\n",
    "    samples_dict_wave1 = json.load(fp)"
   ]
  },
  {
   "cell_type": "code",
   "execution_count": null,
   "metadata": {
    "ExecuteTime": {
     "end_time": "2020-11-02T15:51:23.823970Z",
     "start_time": "2020-11-02T15:51:23.785943Z"
    }
   },
   "outputs": [],
   "source": [
    "initial_states_sept28 = np.load('../data/interim/prediction_provinces/Luik_initial_states_sept28.npy', allow_pickle=True).item()"
   ]
  },
  {
   "cell_type": "code",
   "execution_count": null,
   "metadata": {
    "ExecuteTime": {
     "end_time": "2020-11-02T15:51:39.499622Z",
     "start_time": "2020-11-02T15:51:39.463012Z"
    }
   },
   "outputs": [],
   "source": [
    "# Second wave\n",
    "start_date = '2020-09-28'\n",
    "end_beta = '2020-10-25'"
   ]
  },
  {
   "cell_type": "code",
   "execution_count": null,
   "metadata": {
    "ExecuteTime": {
     "end_time": "2020-11-02T15:51:40.118393Z",
     "start_time": "2020-11-02T15:51:40.077638Z"
    }
   },
   "outputs": [],
   "source": [
    "len(Luik_ts.loc[start_date:end_beta])"
   ]
  },
  {
   "cell_type": "code",
   "execution_count": null,
   "metadata": {
    "ExecuteTime": {
     "end_time": "2020-11-02T15:52:00.200858Z",
     "start_time": "2020-11-02T15:51:59.878393Z"
    }
   },
   "outputs": [],
   "source": [
    "# Load the parameters using `get_COVID19_SEIRD_parameters()`.\n",
    "params = model_parameters.get_COVID19_SEIRD_parameters()\n",
    "model = models.COVID19_SEIRD(initial_states_sept28, params)"
   ]
  },
  {
   "cell_type": "code",
   "execution_count": null,
   "metadata": {
    "ExecuteTime": {
     "end_time": "2020-11-02T15:52:09.607934Z",
     "start_time": "2020-11-02T15:52:09.570306Z"
    }
   },
   "outputs": [],
   "source": [
    "# function parameters \n",
    "timeseries = Luik_ts['NEW_IN']\n",
    "spatial_unit = 'Luik_wave2_from_Sept28'\n"
   ]
  },
  {
   "cell_type": "code",
   "execution_count": null,
   "metadata": {
    "ExecuteTime": {
     "end_time": "2020-10-30T16:45:43.424521Z",
     "start_time": "2020-10-30T16:45:43.386749Z"
    }
   },
   "outputs": [],
   "source": [
    "mu_beta, std_beta = norm.fit(samples_dict_wave1['beta'])\n",
    "mu_sigma_data, std_sigma_data = norm.fit(samples_dict_wave1['beta'])\n",
    "beta_norm_params = (mu_beta, std_beta)\n",
    "sigma_data_norm_params = (mu_sigma_data, std_sigma_data)"
   ]
  },
  {
   "cell_type": "code",
   "execution_count": null,
   "metadata": {
    "ExecuteTime": {
     "end_time": "2020-11-02T15:52:39.377508Z",
     "start_time": "2020-11-02T15:52:39.184860Z"
    }
   },
   "outputs": [],
   "source": [
    "beta_init = np.mean(samples_dict_wave1['beta'])\n",
    "sigma_data_init = np.mean(samples_dict_wave1['sigma_data'])"
   ]
  },
  {
   "cell_type": "code",
   "execution_count": null,
   "metadata": {
    "ExecuteTime": {
     "end_time": "2020-11-02T15:58:24.981496Z",
     "start_time": "2020-11-02T15:55:19.116624Z"
    },
    "scrolled": true
   },
   "outputs": [],
   "source": [
    "samples_dict = full_calibration_wave2(model, timeseries, spatial_unit, start_date, end_beta, \n",
    "                                      beta_init, sigma_data_init, None,None,\n",
    "                                      fig_path=fig_path, samples_path=samples_path,\n",
    "                                      initN=initN, Nc_total=Nc_total,steps_mcmc=1000)"
   ]
  },
  {
   "cell_type": "code",
   "execution_count": null,
   "metadata": {
    "ExecuteTime": {
     "end_time": "2020-11-02T15:59:12.787668Z",
     "start_time": "2020-11-02T15:59:12.535365Z"
    }
   },
   "outputs": [],
   "source": [
    "fig,ax = plt.subplots(figsize=(4,4))\n",
    "pd.Series(samples_dict['beta']).hist(ax=ax)"
   ]
  },
  {
   "cell_type": "code",
   "execution_count": null,
   "metadata": {
    "ExecuteTime": {
     "end_time": "2020-11-02T16:17:07.688868Z",
     "start_time": "2020-11-02T16:16:42.610662Z"
    },
    "scrolled": false
   },
   "outputs": [],
   "source": [
    "states = [['H_in']]\n",
    "end_date = '2020-11-01' #end_beta\n",
    "data=[timeseries[start_date:end_beta].values]\n",
    "\n",
    "fig,ax=plt.subplots(figsize=(8,8))\n",
    "for i in range(200):\n",
    "    idx,model.parameters['beta'] = random.choice(list(enumerate(samples_dict['beta'])))\n",
    "    y_model = model.sim(time=end_date, excess_time=0, start_date=start_date)\n",
    "    ax = plot_fit(y_model,data,start_date,lag_time=0,states=states,end_date=end_date,\n",
    "                  with_ints=False,ax=ax,plt_kwargs={'color':'blue','linewidth': 2,'alpha': 0.05})\n",
    "plt.setp(plt.gca().xaxis.get_majorticklabels(),'rotation', 0)\n",
    "#data_after_calib = timeseries[pd.to_datetime(end_ramp)+pd.to_timedelta('1d'):end_date]\n",
    "#plt.scatter(data_after_calib.index, data_after_calib.values, marker='o',color='red',linestyle='None',facecolors='none')\n",
    "legend_text=['daily \\nhospitalizations']\n",
    "ax.set_xlim(start_date, end_date)\n",
    "ax.set_ylabel('daily hospitalizations')\n",
    "# fig.savefig(fig_path+spatial_unit+'.pdf',\n",
    "#             bbox_inches='tight', dpi=600)"
   ]
  },
  {
   "cell_type": "code",
   "execution_count": null,
   "metadata": {},
   "outputs": [],
   "source": []
  }
 ],
 "metadata": {
  "kernelspec": {
   "display_name": "COVID19",
   "language": "python",
   "name": "python3"
  },
  "language_info": {
   "codemirror_mode": {
    "name": "ipython",
    "version": 3
   },
   "file_extension": ".py",
   "mimetype": "text/x-python",
   "name": "python",
   "nbconvert_exporter": "python",
   "pygments_lexer": "ipython3",
   "version": "3.7.7"
  },
  "toc": {
   "base_numbering": 1,
   "nav_menu": {},
   "number_sections": true,
   "sideBar": true,
   "skip_h1_title": false,
   "title_cell": "Table of Contents",
   "title_sidebar": "Contents",
   "toc_cell": false,
   "toc_position": {
    "height": "calc(100% - 180px)",
    "left": "10px",
    "top": "150px",
    "width": "288px"
   },
   "toc_section_display": true,
   "toc_window_display": true
  }
 },
 "nbformat": 4,
 "nbformat_minor": 4
}
