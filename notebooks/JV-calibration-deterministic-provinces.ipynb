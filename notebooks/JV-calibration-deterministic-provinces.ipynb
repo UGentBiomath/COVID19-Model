{
 "cells": [
  {
   "cell_type": "markdown",
   "metadata": {},
   "source": [
    "**Calibration of the age-stratified deterministic model**\n",
    "\n",
    "*Original code by Ryan S. McGee. Modified by T.W. Alleman in consultation with the BIOMATH research unit headed by prof. Ingmar Nopens.*\n",
    "\n",
    "Copyright (c) 2020 by T.W. Alleman, BIOMATH, Ghent University. All Rights Reserved.\n",
    "\n",
    "This notebook accompanies our preprint: \"*A deterministic, age-stratified, extended SEIRD model for assessing the effect of non-pharmaceutical interventions on SARS-CoV-2 spread in Belgium*\"(https://doi.org/10.1101/2020.07.17.20156034)"
   ]
  },
  {
   "cell_type": "markdown",
   "metadata": {},
   "source": [
    "# Load required packages"
   ]
  },
  {
   "cell_type": "code",
   "execution_count": 10,
   "metadata": {
    "ExecuteTime": {
     "end_time": "2020-11-09T08:04:39.962677Z",
     "start_time": "2020-11-09T08:04:39.900246Z"
    }
   },
   "outputs": [
    {
     "name": "stdout",
     "output_type": "stream",
     "text": [
      "The autoreload extension is already loaded. To reload it, use:\n",
      "  %reload_ext autoreload\n"
     ]
    }
   ],
   "source": [
    "import random\n",
    "import os\n",
    "import numpy as np\n",
    "%matplotlib notebook\n",
    "import matplotlib.pyplot as plt\n",
    "from IPython.display import Image\n",
    "from ipywidgets import interact,fixed,FloatSlider,IntSlider,ToggleButtons\n",
    "import pandas as pd\n",
    "from datetime import datetime, timedelta\n",
    "import datetime\n",
    "import scipy\n",
    "from scipy.integrate import odeint\n",
    "from scipy.stats import norm\n",
    "import matplotlib.dates as mdates\n",
    "import matplotlib\n",
    "import scipy.stats as st\n",
    "\n",
    "import math\n",
    "import xarray as xr\n",
    "import emcee\n",
    "import json\n",
    "import corner\n",
    "\n",
    "from covid19model.optimization import objective_fcns\n",
    "from covid19model.models import models\n",
    "from covid19model.data import google\n",
    "from covid19model.data import sciensano\n",
    "from covid19model.data import model_parameters\n",
    "from covid19model.visualization.output import population_status, infected\n",
    "from covid19model.visualization.optimization import plot_fit, traceplot\n",
    "from covid19model.optimization.run_optimization import full_calibration_wave1, full_calibration_wave2\n",
    "from covid19model.models.utils import draw_sample_COVID19_SEIRD\n",
    "from covid19model.models.time_dependant_parameter_fncs import ramp_fun, lockdown_func, policies_until_september\n",
    "\n",
    "# OPTIONAL: Load the \"autoreload\" extension so that package code can change\n",
    "%load_ext autoreload\n",
    "# OPTIONAL: always reload modules so that as you change code in src, it gets loaded\n",
    "%autoreload 2"
   ]
  },
  {
   "cell_type": "code",
   "execution_count": null,
   "metadata": {
    "ExecuteTime": {
     "end_time": "2020-11-05T22:05:05.810295Z",
     "start_time": "2020-11-05T22:05:05.775023Z"
    }
   },
   "outputs": [],
   "source": [
    "# import dask\n",
    "\n",
    "# from dask.distributed import Client, progress\n",
    "# client = Client(threads_per_worker=16, n_workers=1)\n",
    "# client"
   ]
  },
  {
   "cell_type": "markdown",
   "metadata": {},
   "source": [
    "# Get public data"
   ]
  },
  {
   "cell_type": "code",
   "execution_count": null,
   "metadata": {
    "ExecuteTime": {
     "end_time": "2020-11-05T22:05:05.848056Z",
     "start_time": "2020-11-05T22:05:05.813004Z"
    }
   },
   "outputs": [],
   "source": [
    "#df_sciensano = sciensano.get_sciensano_COVID19_data(update=True)\n"
   ]
  },
  {
   "cell_type": "code",
   "execution_count": 2,
   "metadata": {
    "ExecuteTime": {
     "end_time": "2020-11-09T08:01:57.431172Z",
     "start_time": "2020-11-09T08:01:57.350364Z"
    }
   },
   "outputs": [],
   "source": [
    "raw_hosp_data = pd.read_csv('../data/raw/sciensano/COVID19BE_HOSP.csv', parse_dates=['DATE'])\n",
    "Hainaut_hosp_data = raw_hosp_data[raw_hosp_data.PROVINCE=='Hainaut']\n",
    "Hainaut_ts = Hainaut_hosp_data[['DATE','NEW_IN']].set_index('DATE')\n",
    "timeseries = Hainaut_ts['NEW_IN']"
   ]
  },
  {
   "cell_type": "code",
   "execution_count": null,
   "metadata": {
    "ExecuteTime": {
     "end_time": "2020-11-05T22:05:05.940197Z",
     "start_time": "2020-11-05T22:05:05.905110Z"
    }
   },
   "outputs": [],
   "source": [
    "# fig,ax = plt.subplots()\n",
    "# Hainaut_ts.reset_index().plot('DATE','NEW_IN', logy=True, ax=ax)\n",
    "# ax.set_xlim('2020-08-01', '2020-11-05')"
   ]
  },
  {
   "cell_type": "markdown",
   "metadata": {},
   "source": [
    "# Load data"
   ]
  },
  {
   "cell_type": "code",
   "execution_count": 4,
   "metadata": {
    "ExecuteTime": {
     "end_time": "2020-11-09T08:02:32.861815Z",
     "start_time": "2020-11-09T08:02:32.645837Z"
    }
   },
   "outputs": [],
   "source": [
    "# Load the interaction matrices (size: 9x9)\n",
    "initN, Nc_home, Nc_work, Nc_schools, Nc_transport, Nc_leisure, Nc_others, Nc_total = model_parameters.get_interaction_matrices(dataset='willem_2012')\n",
    "# Define the number of age categories\n",
    "levels = initN.size\n",
    "province_names = pd.read_csv('../data/raw/GIS/NIS_province.csv')\n",
    "initN_province = pd.read_csv('../data/interim/demographic/initN_prov.csv')\n",
    "initN = np.array(list(initN_province.set_index('NIS').loc[50000].iloc[:9]))"
   ]
  },
  {
   "cell_type": "code",
   "execution_count": 5,
   "metadata": {
    "ExecuteTime": {
     "end_time": "2020-11-09T08:02:35.095303Z",
     "start_time": "2020-11-09T08:02:35.057621Z"
    }
   },
   "outputs": [],
   "source": [
    "fig_path = '../results/calibrations/COVID19_SEIRD/provinces/'\n",
    "samples_path = '../data/interim/model_parameters/COVID19_SEIRD/calibrations/provinces/'"
   ]
  },
  {
   "cell_type": "markdown",
   "metadata": {},
   "source": [
    "# Model initialisations"
   ]
  },
  {
   "cell_type": "code",
   "execution_count": 6,
   "metadata": {
    "ExecuteTime": {
     "end_time": "2020-11-09T08:02:36.639772Z",
     "start_time": "2020-11-09T08:02:36.404160Z"
    }
   },
   "outputs": [],
   "source": [
    "# Load the parameters using `get_COVID19_SEIRD_parameters()`.\n",
    "params_wave1 = model_parameters.get_COVID19_SEIRD_parameters()\n",
    "params_wave1.update({'policy0': Nc_total,\n",
    "              'policy1': 1.0*Nc_home + (1-0.60)*Nc_work + (1-0.70)*Nc_transport + (1-0.30)*Nc_others + (1-0.80)*Nc_leisure,\n",
    "              'l': 1,\n",
    "              'tau': 5,\n",
    "              'prevention': 0.5,\n",
    "              'start_date': pd.to_datetime('2020-03-15')})\n",
    "# Usage:\n",
    "initial_states = {'S': initN, 'E': np.ones(levels)}\n",
    "model_wave1 = models.COVID19_SEIRD(initial_states, params_wave1, time_dependent_parameters={'Nc': lockdown_func})"
   ]
  },
  {
   "cell_type": "code",
   "execution_count": 7,
   "metadata": {
    "ExecuteTime": {
     "end_time": "2020-11-09T08:02:41.264163Z",
     "start_time": "2020-11-09T08:02:41.043906Z"
    }
   },
   "outputs": [],
   "source": [
    "# Load the model parameters using `get_COVID19_SEIRD_parameters()`.\n",
    "params_until_sept = model_parameters.get_COVID19_SEIRD_parameters()\n",
    "\n",
    "params_until_sept.update({'policy0': Nc_total,\n",
    "              'policy1': 1.0*Nc_home + (1-0.60)*Nc_work + (1-0.70)*Nc_transport + (1-0.30)*Nc_others + (1-0.80)*Nc_leisure,\n",
    "              'policy2': 1.0*Nc_home + (1-0.50)*Nc_work + (1-0.60)*Nc_transport + (1-0.30)*Nc_others + (1-0.70)*Nc_leisure,\n",
    "              'policy3': 1.0*Nc_home + (1-0.40)*Nc_work + (1-0.55)*Nc_transport + (1-0.25)*Nc_others + (1-0.65)*Nc_leisure,\n",
    "              'policy4': 1.0*Nc_home + (1-0.30)*Nc_work + (1-0.50)*Nc_transport + (1-0.20)*Nc_others + (1-0.60)*Nc_leisure,\n",
    "              'policy5': 1.0*Nc_home + (1-0.30)*Nc_work + (1-0.45)*Nc_transport + (1-0.15)*Nc_others + (1-0.85)*Nc_schools + (1-0.50)*Nc_leisure,\n",
    "              'policy6': 1.0*Nc_home + (1-0.25)*Nc_work + (1-0.35)*Nc_transport + (1-0.10)*Nc_others + (1-0.35)*Nc_schools + (1-0.30)*Nc_leisure,\n",
    "              'policy7': 1.0*Nc_home + (1-0.20)*Nc_work + (1-0.25)*Nc_transport + (1-0.05)*Nc_others + (1-0.30)*Nc_leisure,\n",
    "              'policy8': 1.0*Nc_home + (1-0.30)*Nc_work + (1-0.35)*Nc_transport + (1-0.15)*Nc_others + (1-0.40)*Nc_leisure,\n",
    "              'policy9': 1.0*Nc_home + (1-0.00)*Nc_work + (1-0.00)*Nc_transport + (1-0.00)*Nc_others + (1-0.00)*Nc_schools + (1-0.00)*Nc_leisure,\n",
    "              'l': 1,\n",
    "              'tau': 5,\n",
    "              'prevention': 0.5,\n",
    "              'start_date':pd.to_datetime('2020-03-15')})\n",
    "\n",
    "# Usage:\n",
    "initial_states = {'S': initN, 'E': np.ones(levels)}\n",
    "model_wave1_with_policies = models.COVID19_SEIRD(initial_states, params_until_sept, time_dependent_parameters={'Nc': policies_until_september})"
   ]
  },
  {
   "cell_type": "markdown",
   "metadata": {},
   "source": [
    "# Plotfunctions"
   ]
  },
  {
   "cell_type": "code",
   "execution_count": 8,
   "metadata": {
    "ExecuteTime": {
     "end_time": "2020-11-09T08:02:43.996490Z",
     "start_time": "2020-11-09T08:02:43.935752Z"
    }
   },
   "outputs": [],
   "source": [
    "def plot_simulations(start_date, end_ramp, end_date, model, samples_dict, timeseries, \n",
    "                    spatial_unit, n_lines=200, save=False):\n",
    "\n",
    "    states = [['H_in']]\n",
    "    data=[timeseries[start_date:end_ramp].values]\n",
    "\n",
    "    fig,ax=plt.subplots()\n",
    "    for i in range(n_lines):\n",
    "        idx,model.parameters['beta'] = random.choice(list(enumerate(samples_dict['beta'])))\n",
    "        if 'l' in model.parameters.keys():\n",
    "            idx,model.parameters['l'] = random.choice(list(enumerate(samples_dict['l'])))\n",
    "            model.parameters['tau'] = samples_dict['tau'][idx]\n",
    "            model.parameters['prevention'] = samples_dict['prevention'][idx]\n",
    "        y_model = model.sim(time=end_date, excess_time=samples_dict['warmup'], start_date=start_date)\n",
    "        ax = plot_fit(y_model,data,start_date,samples_dict['warmup'],states,end_date=end_date,with_ints=False,ax=ax,plt_kwargs={'color':'blue','linewidth': 2,'alpha': 0.05})\n",
    "    \n",
    "    # plot mean line\n",
    "    model.parameters['beta'] = np.mean(samples_dict['beta'])\n",
    "    if 'l' in model.parameters.keys():\n",
    "        model.parameters['l'] = np.mean(samples_dict['l'])\n",
    "        model.parameters['tau'] = np.mean(samples_dict['tau'])\n",
    "        model.parameters['prevention'] = np.mean(samples_dict['prevention'])\n",
    "    y_model = model.sim(time=end_date, excess_time=samples_dict['warmup'], start_date=start_date)\n",
    "    ax.plot(y_model['time'],y_model['H_in'].sum(dim='Nc'), c='green', linestyle='--', lw=2, alpha=0.5)\n",
    "    \n",
    "    data_after_calib = timeseries[pd.to_datetime(end_ramp)+pd.to_timedelta('1d'):end_date]\n",
    "    plt.scatter(data_after_calib.index, data_after_calib.values, marker='o',color='red',linestyle='None',facecolors='none')\n",
    "    legend_text=['daily \\nhospitalizations']\n",
    "    ax.set_xlim(start_date, end_date)\n",
    "    fig.tight_layout()\n",
    "    if save==True:\n",
    "        fig.savefig(fig_path+spatial_unit +'_'+str(datetime.date.today())+'.pdf',bbox_inches='tight', dpi=600)\n",
    "    return"
   ]
  },
  {
   "cell_type": "markdown",
   "metadata": {},
   "source": [
    "# Calibration on first wave"
   ]
  },
  {
   "cell_type": "code",
   "execution_count": 9,
   "metadata": {
    "ExecuteTime": {
     "end_time": "2020-11-09T08:02:45.579854Z",
     "start_time": "2020-11-09T08:02:45.542082Z"
    }
   },
   "outputs": [],
   "source": [
    "## First wave\n",
    "start_date = '2020-03-15'\n",
    "end_beta = '2020-03-25'\n",
    "end_ramp = '2020-05-23'#'2020-05-23'"
   ]
  },
  {
   "cell_type": "code",
   "execution_count": null,
   "metadata": {
    "ExecuteTime": {
     "end_time": "2020-11-05T22:05:07.111121Z",
     "start_time": "2020-11-05T22:05:07.064843Z"
    }
   },
   "outputs": [],
   "source": [
    "len(Hainaut_ts.loc[start_date:end_beta])"
   ]
  },
  {
   "cell_type": "code",
   "execution_count": null,
   "metadata": {
    "ExecuteTime": {
     "end_time": "2020-11-05T22:05:07.153369Z",
     "start_time": "2020-11-05T22:05:07.113255Z"
    }
   },
   "outputs": [],
   "source": [
    "len(Hainaut_ts.loc[end_beta:end_ramp])"
   ]
  },
  {
   "cell_type": "code",
   "execution_count": null,
   "metadata": {
    "ExecuteTime": {
     "end_time": "2020-11-05T22:45:35.862739Z",
     "start_time": "2020-11-05T22:05:10.850860Z"
    }
   },
   "outputs": [],
   "source": [
    "spatial_unit = 'Hainaut_wave1_1000_pso'\n",
    "samples_dict = full_calibration_wave1(model_wave1, timeseries, spatial_unit, start_date, end_beta, end_ramp, \n",
    "                                fig_path=fig_path, samples_path=samples_path,\n",
    "                                initN=initN, Nc_total=Nc_total, theta_init = None,pso=True,\n",
    "                                maxiter=100, popsize=500, steps_mcmc=1000)#popsize increased to 500"
   ]
  },
  {
   "cell_type": "code",
   "execution_count": null,
   "metadata": {
    "ExecuteTime": {
     "end_time": "2020-11-06T07:32:49.416956Z",
     "start_time": "2020-11-06T07:32:49.147890Z"
    }
   },
   "outputs": [],
   "source": [
    "fig, ax = plt.subplots()\n",
    "pd.Series(samples_dict['beta']).hist(ax=ax)"
   ]
  },
  {
   "cell_type": "code",
   "execution_count": null,
   "metadata": {
    "ExecuteTime": {
     "end_time": "2020-11-06T07:32:54.713111Z",
     "start_time": "2020-11-06T07:32:54.674561Z"
    }
   },
   "outputs": [],
   "source": [
    "samples_dict['warmup']"
   ]
  },
  {
   "cell_type": "code",
   "execution_count": null,
   "metadata": {
    "ExecuteTime": {
     "end_time": "2020-11-06T07:34:10.053322Z",
     "start_time": "2020-11-06T07:33:27.521983Z"
    },
    "scrolled": false
   },
   "outputs": [],
   "source": [
    "end_date = '2020-09-01'\n",
    "plot_simulations(start_date, end_ramp, end_date, model_wave1, samples_dict, \n",
    "                timeseries, spatial_unit, n_lines=100, save=True)"
   ]
  },
  {
   "cell_type": "markdown",
   "metadata": {
    "heading_collapsed": true
   },
   "source": [
    "# Step-by-step calibration"
   ]
  },
  {
   "cell_type": "markdown",
   "metadata": {
    "hidden": true
   },
   "source": [
    "## Simulation until 1 July"
   ]
  },
  {
   "cell_type": "code",
   "execution_count": null,
   "metadata": {
    "ExecuteTime": {
     "end_time": "2020-11-04T07:19:16.150131Z",
     "start_time": "2020-11-04T07:19:16.060356Z"
    },
    "hidden": true
   },
   "outputs": [],
   "source": [
    "# Load the dictionary containing the posterior parameter distributions obtained from calibrating the model to Belgian hospitalization data\n",
    "with open('../data/interim/model_parameters/provinces/Hainaut_wave1_2020-11-03.json', 'r') as fp:\n",
    "    samples_dict_wave1 = json.load(fp)"
   ]
  },
  {
   "cell_type": "code",
   "execution_count": null,
   "metadata": {
    "ExecuteTime": {
     "end_time": "2020-11-04T07:19:22.820625Z",
     "start_time": "2020-11-04T07:19:22.771179Z"
    },
    "hidden": true
   },
   "outputs": [],
   "source": [
    "samples_dict = samples_dict_wave1"
   ]
  },
  {
   "cell_type": "code",
   "execution_count": null,
   "metadata": {
    "ExecuteTime": {
     "end_time": "2020-11-03T08:39:39.983397Z",
     "start_time": "2020-11-03T08:39:39.883194Z"
    },
    "hidden": true
   },
   "outputs": [],
   "source": [
    "fig, ax = plt.subplots()\n",
    "pd.Series(samples_dict_wave1['beta']).hist(ax=ax)"
   ]
  },
  {
   "cell_type": "code",
   "execution_count": null,
   "metadata": {
    "ExecuteTime": {
     "end_time": "2020-11-03T07:52:44.577607Z",
     "start_time": "2020-11-03T07:52:44.535637Z"
    },
    "hidden": true
   },
   "outputs": [],
   "source": [
    "np.mean(samples_dict_wave1['beta'])"
   ]
  },
  {
   "cell_type": "code",
   "execution_count": null,
   "metadata": {
    "ExecuteTime": {
     "end_time": "2020-11-03T08:04:29.763619Z",
     "start_time": "2020-11-03T08:04:29.707048Z"
    },
    "hidden": true
   },
   "outputs": [],
   "source": [
    "samples_dict_wave1['lag_time']"
   ]
  },
  {
   "cell_type": "code",
   "execution_count": null,
   "metadata": {
    "ExecuteTime": {
     "end_time": "2020-10-30T16:46:49.392786Z",
     "start_time": "2020-10-30T16:46:49.356002Z"
    },
    "hidden": true
   },
   "outputs": [],
   "source": [
    "# Update this parameter here, the rest is updated by draw_sample_COVID19_SEIRD\n",
    "model.parameters['policy_time'] = samples_dict_wave1['lag_time']"
   ]
  },
  {
   "cell_type": "code",
   "execution_count": null,
   "metadata": {
    "ExecuteTime": {
     "end_time": "2020-10-30T16:47:19.255536Z",
     "start_time": "2020-10-30T16:46:49.918556Z"
    },
    "hidden": true
   },
   "outputs": [],
   "source": [
    "out_july = model.sim(time='2020-07-01', excess_time=samples_dict_wave1['lag_time'],start_date='2020-03-15',\n",
    "                   N=100, draw_fcn=draw_sample_COVID19_SEIRD,samples=samples_dict_wave1)\n",
    "states = out_july.isel(time=-1).mean(dim=\"draws\")\n",
    "initial_states_july1 = {key:states[key].values for key in initial_states.keys()}"
   ]
  },
  {
   "cell_type": "code",
   "execution_count": null,
   "metadata": {
    "ExecuteTime": {
     "end_time": "2020-10-30T16:56:35.394679Z",
     "start_time": "2020-10-30T16:56:35.351424Z"
    },
    "hidden": true
   },
   "outputs": [],
   "source": [
    "np.save('../data/interim/prediction_provinces/Luik_initial_states_july1.npy', initial_states_july1)"
   ]
  },
  {
   "cell_type": "markdown",
   "metadata": {
    "hidden": true
   },
   "source": [
    "## Calibration month July"
   ]
  },
  {
   "cell_type": "code",
   "execution_count": null,
   "metadata": {
    "ExecuteTime": {
     "end_time": "2020-10-30T16:56:33.278642Z",
     "start_time": "2020-10-30T16:56:33.224878Z"
    },
    "hidden": true
   },
   "outputs": [],
   "source": [
    "initial_states_july1 = np.load('../data/interim/prediction_provinces/Luik_initial_states_july1.npy', allow_pickle=True).item()"
   ]
  },
  {
   "cell_type": "code",
   "execution_count": null,
   "metadata": {
    "ExecuteTime": {
     "end_time": "2020-10-30T16:48:17.210748Z",
     "start_time": "2020-10-30T16:48:17.160083Z"
    },
    "hidden": true
   },
   "outputs": [],
   "source": [
    "# Second wave\n",
    "start_date = '2020-07-01'\n",
    "end_beta = '2020-08-01'"
   ]
  },
  {
   "cell_type": "code",
   "execution_count": null,
   "metadata": {
    "ExecuteTime": {
     "end_time": "2020-10-30T16:48:18.968763Z",
     "start_time": "2020-10-30T16:48:18.919319Z"
    },
    "hidden": true
   },
   "outputs": [],
   "source": [
    "len(Luik_ts.loc[start_date:end_beta])"
   ]
  },
  {
   "cell_type": "code",
   "execution_count": null,
   "metadata": {
    "ExecuteTime": {
     "end_time": "2020-10-30T16:48:20.509851Z",
     "start_time": "2020-10-30T16:48:20.188149Z"
    },
    "hidden": true
   },
   "outputs": [],
   "source": [
    "# Load the parameters using `get_COVID19_SEIRD_parameters()`.\n",
    "params = model_parameters.get_COVID19_SEIRD_parameters()\n",
    "#model_sept = models.COVID19_SEIRD(initial_states_sept, params)\n",
    "model_july = models.COVID19_SEIRD(initial_states_july1, params)"
   ]
  },
  {
   "cell_type": "code",
   "execution_count": null,
   "metadata": {
    "ExecuteTime": {
     "end_time": "2020-10-30T16:48:20.699738Z",
     "start_time": "2020-10-30T16:48:20.663234Z"
    },
    "hidden": true
   },
   "outputs": [],
   "source": [
    "# function parameters \n",
    "timeseries = Luik_ts['NEW_IN']\n",
    "spatial_unit = 'Luik_July'"
   ]
  },
  {
   "cell_type": "code",
   "execution_count": null,
   "metadata": {
    "ExecuteTime": {
     "end_time": "2020-10-30T16:48:22.470225Z",
     "start_time": "2020-10-30T16:48:22.432509Z"
    },
    "hidden": true
   },
   "outputs": [],
   "source": [
    "beta_init = np.mean(samples_dict_wave1['beta'])\n",
    "sigma_data_init = np.mean(samples_dict_wave1['sigma_data'])"
   ]
  },
  {
   "cell_type": "code",
   "execution_count": null,
   "metadata": {
    "ExecuteTime": {
     "end_time": "2020-10-30T16:51:21.133944Z",
     "start_time": "2020-10-30T16:48:26.896155Z"
    },
    "hidden": true,
    "scrolled": true
   },
   "outputs": [],
   "source": [
    "samples_dict = full_calibration_wave2(model_july, timeseries, spatial_unit, start_date, end_beta, \n",
    "                                      beta_init, sigma_data_init, None,None,\n",
    "                                      fig_path=fig_path, samples_path=samples_path,\n",
    "                                      initN=initN, Nc_total=Nc_total,steps_mcmc=1000)"
   ]
  },
  {
   "cell_type": "code",
   "execution_count": null,
   "metadata": {
    "ExecuteTime": {
     "end_time": "2020-10-30T16:52:49.951381Z",
     "start_time": "2020-10-30T16:52:49.843952Z"
    },
    "hidden": true,
    "scrolled": false
   },
   "outputs": [],
   "source": [
    "fig,ax = plt.subplots(figsize=(4,4))\n",
    "pd.Series(samples_dict['beta']).hist(ax=ax)"
   ]
  },
  {
   "cell_type": "code",
   "execution_count": null,
   "metadata": {
    "ExecuteTime": {
     "end_time": "2020-10-30T16:55:10.441581Z",
     "start_time": "2020-10-30T16:54:47.961115Z"
    },
    "hidden": true
   },
   "outputs": [],
   "source": [
    "states = [['H_in']]\n",
    "end_date = end_beta\n",
    "data=[timeseries[start_date:end_beta].values]\n",
    "\n",
    "fig,ax=plt.subplots(figsize=(8,8))\n",
    "for i in range(200):\n",
    "    idx,model_july.parameters['beta'] = random.choice(list(enumerate(samples_dict['beta'])))\n",
    "    y_model = model_july.sim(time=end_date, excess_time=0, start_date=start_date)\n",
    "    ax = plot_fit(y_model,data,start_date,lag_time=0,states=states,end_date=end_date,\n",
    "                  with_ints=False,ax=ax,plt_kwargs={'color':'blue','linewidth': 2,'alpha': 0.05})\n",
    "plt.setp(plt.gca().xaxis.get_majorticklabels(),'rotation', 0)\n",
    "#data_after_calib = timeseries[pd.to_datetime(end_ramp)+pd.to_timedelta('1d'):end_date]\n",
    "#plt.scatter(data_after_calib.index, data_after_calib.values, marker='o',color='red',linestyle='None',facecolors='none')\n",
    "legend_text=['daily \\nhospitalizations']\n",
    "ax.set_xlim(start_date, end_date)\n",
    "ax.set_ylabel('daily hospitalizations')\n",
    "fig.savefig(fig_path+spatial_unit+'.pdf',\n",
    "            bbox_inches='tight', dpi=600)"
   ]
  },
  {
   "cell_type": "markdown",
   "metadata": {
    "hidden": true
   },
   "source": [
    "## Simulation until 1 August"
   ]
  },
  {
   "cell_type": "code",
   "execution_count": null,
   "metadata": {
    "ExecuteTime": {
     "end_time": "2020-10-30T16:57:18.704357Z",
     "start_time": "2020-10-30T16:57:18.651429Z"
    },
    "hidden": true
   },
   "outputs": [],
   "source": [
    "# Load the dictionary containing the posterior parameter distributions obtained from calibrating the model to Belgian hospitalization data\n",
    "with open('../data/interim/model_parameters/provinces/Luik_July_2020-10-30.json', 'r') as fp:\n",
    "    samples_dict_july = json.load(fp)"
   ]
  },
  {
   "cell_type": "code",
   "execution_count": null,
   "metadata": {
    "ExecuteTime": {
     "end_time": "2020-10-30T16:46:49.392786Z",
     "start_time": "2020-10-30T16:46:49.356002Z"
    },
    "hidden": true
   },
   "outputs": [],
   "source": [
    "# Update this parameter here, the rest is updated by draw_sample_COVID19_SEIRD\n",
    "# model.parameters['policy_time'] = samples_dict_wave1['lag_time']"
   ]
  },
  {
   "cell_type": "code",
   "execution_count": null,
   "metadata": {
    "ExecuteTime": {
     "end_time": "2020-10-30T17:01:08.718045Z",
     "start_time": "2020-10-30T17:01:03.129460Z"
    },
    "hidden": true
   },
   "outputs": [],
   "source": [
    "out_aug = model_july.sim(time='2020-08-01', excess_time=0,start_date='2020-07-01',\n",
    "                   N=100, draw_fcn=draw_sample_beta_COVID19_SEIRD,samples=samples_dict_july)\n",
    "states = out_aug.isel(time=-1).mean(dim=\"draws\")\n",
    "initial_states_aug1 = {key:states[key].values for key in initial_states.keys()}"
   ]
  },
  {
   "cell_type": "code",
   "execution_count": null,
   "metadata": {
    "ExecuteTime": {
     "end_time": "2020-10-30T17:01:31.713350Z",
     "start_time": "2020-10-30T17:01:31.672096Z"
    },
    "hidden": true
   },
   "outputs": [],
   "source": [
    "np.save('../data/interim/prediction_provinces/Luik_initial_states_aug1.npy', initial_states_aug1)"
   ]
  },
  {
   "cell_type": "markdown",
   "metadata": {
    "hidden": true
   },
   "source": [
    "## Calibration month August"
   ]
  },
  {
   "cell_type": "code",
   "execution_count": null,
   "metadata": {
    "ExecuteTime": {
     "end_time": "2020-10-30T17:02:03.014165Z",
     "start_time": "2020-10-30T17:02:02.815531Z"
    },
    "hidden": true
   },
   "outputs": [],
   "source": [
    "initial_states_aug1 = np.load('../data/interim/prediction_provinces/Luik_initial_states_aug1.npy', allow_pickle=True).item()"
   ]
  },
  {
   "cell_type": "code",
   "execution_count": null,
   "metadata": {
    "ExecuteTime": {
     "end_time": "2020-10-30T17:02:09.305370Z",
     "start_time": "2020-10-30T17:02:09.267629Z"
    },
    "hidden": true
   },
   "outputs": [],
   "source": [
    "# Second wave\n",
    "start_date = '2020-08-01'\n",
    "end_beta = '2020-09-01'"
   ]
  },
  {
   "cell_type": "code",
   "execution_count": null,
   "metadata": {
    "ExecuteTime": {
     "end_time": "2020-10-30T17:02:09.879670Z",
     "start_time": "2020-10-30T17:02:09.837543Z"
    },
    "hidden": true
   },
   "outputs": [],
   "source": [
    "len(Luik_ts.loc[start_date:end_beta])"
   ]
  },
  {
   "cell_type": "code",
   "execution_count": null,
   "metadata": {
    "ExecuteTime": {
     "end_time": "2020-10-30T17:02:20.592714Z",
     "start_time": "2020-10-30T17:02:20.259567Z"
    },
    "hidden": true
   },
   "outputs": [],
   "source": [
    "# Load the parameters using `get_COVID19_SEIRD_parameters()`.\n",
    "params = model_parameters.get_COVID19_SEIRD_parameters()\n",
    "#model_sept = models.COVID19_SEIRD(initial_states_sept, params)\n",
    "model_aug = models.COVID19_SEIRD(initial_states_aug1, params)"
   ]
  },
  {
   "cell_type": "code",
   "execution_count": null,
   "metadata": {
    "ExecuteTime": {
     "end_time": "2020-10-30T17:02:24.887844Z",
     "start_time": "2020-10-30T17:02:24.845045Z"
    },
    "hidden": true
   },
   "outputs": [],
   "source": [
    "# function parameters \n",
    "timeseries = Luik_ts['NEW_IN']\n",
    "spatial_unit = 'Luik_Aug'"
   ]
  },
  {
   "cell_type": "code",
   "execution_count": null,
   "metadata": {
    "ExecuteTime": {
     "end_time": "2020-10-30T17:06:53.236522Z",
     "start_time": "2020-10-30T17:06:53.197798Z"
    },
    "hidden": true
   },
   "outputs": [],
   "source": [
    "beta_init = np.mean(samples_dict_july['beta'])\n",
    "sigma_data_init = np.mean(samples_dict_wave1['sigma_data'])"
   ]
  },
  {
   "cell_type": "code",
   "execution_count": null,
   "metadata": {
    "ExecuteTime": {
     "end_time": "2020-10-30T17:07:09.535256Z",
     "start_time": "2020-10-30T17:07:09.493727Z"
    },
    "hidden": true
   },
   "outputs": [],
   "source": [
    "mu_beta, std_beta = norm.fit(samples_dict_july['beta'])\n",
    "mu_sigma_data, std_sigma_data = norm.fit(samples_dict_wave1['sigma_data']) # should be on july!\n",
    "beta_norm_params = (mu_beta, std_beta)\n",
    "sigma_data_norm_params = (mu_sigma_data, std_sigma_data)"
   ]
  },
  {
   "cell_type": "code",
   "execution_count": null,
   "metadata": {
    "ExecuteTime": {
     "end_time": "2020-10-30T17:45:38.944138Z",
     "start_time": "2020-10-30T17:42:39.898370Z"
    },
    "hidden": true
   },
   "outputs": [],
   "source": [
    "samples_dict = full_calibration_wave2(model_aug, timeseries, spatial_unit, start_date, end_beta, \n",
    "                                      beta_init, sigma_data_init, None, None,\n",
    "                                      fig_path=fig_path, samples_path=samples_path,\n",
    "                                      initN=initN, Nc_total=Nc_total,steps_mcmc=1000)"
   ]
  },
  {
   "cell_type": "code",
   "execution_count": null,
   "metadata": {
    "ExecuteTime": {
     "end_time": "2020-10-30T17:45:56.766698Z",
     "start_time": "2020-10-30T17:45:56.509328Z"
    },
    "hidden": true
   },
   "outputs": [],
   "source": [
    "fig,ax = plt.subplots(figsize=(4,4))\n",
    "pd.Series(samples_dict['beta']).hist(ax=ax)"
   ]
  },
  {
   "cell_type": "code",
   "execution_count": null,
   "metadata": {
    "ExecuteTime": {
     "end_time": "2020-10-30T17:49:01.217041Z",
     "start_time": "2020-10-30T17:48:58.606651Z"
    },
    "hidden": true
   },
   "outputs": [],
   "source": [
    "## Deze herrunnen!\n",
    "states = [['H_in']]\n",
    "end_date = end_beta\n",
    "data=[timeseries[start_date:end_beta].values]\n",
    "\n",
    "fig,ax=plt.subplots(figsize=(8,8))\n",
    "for i in range(20):\n",
    "    idx,model_aug.parameters['beta'] = random.choice(list(enumerate(samples_dict_aug['beta'])))\n",
    "    y_model = model_aug.sim(time=end_date, excess_time=0, start_date=start_date)\n",
    "    ax = plot_fit(y_model,data,start_date,lag_time=0,states=states,end_date=end_date,\n",
    "                  with_ints=False,ax=ax,plt_kwargs={'color':'blue','linewidth': 2,'alpha': 0.05})\n",
    "plt.setp(plt.gca().xaxis.get_majorticklabels(),'rotation', 0)\n",
    "#data_after_calib = timeseries[pd.to_datetime(end_ramp)+pd.to_timedelta('1d'):end_date]\n",
    "#plt.scatter(data_after_calib.index, data_after_calib.values, marker='o',color='red',linestyle='None',facecolors='none')\n",
    "legend_text=['daily \\nhospitalizations']\n",
    "ax.set_xlim(start_date, end_date)\n",
    "ax.set_ylabel('daily hospitalizations')\n",
    "# fig.savefig(fig_path+spatial_unit+'.pdf',\n",
    "#             bbox_inches='tight', dpi=600)"
   ]
  },
  {
   "cell_type": "code",
   "execution_count": null,
   "metadata": {
    "hidden": true
   },
   "outputs": [],
   "source": []
  },
  {
   "cell_type": "markdown",
   "metadata": {
    "hidden": true
   },
   "source": [
    "## Simulation until 1 September"
   ]
  },
  {
   "cell_type": "code",
   "execution_count": null,
   "metadata": {
    "ExecuteTime": {
     "end_time": "2020-10-30T17:51:15.869769Z",
     "start_time": "2020-10-30T17:51:15.655962Z"
    },
    "hidden": true
   },
   "outputs": [],
   "source": [
    "# Load the dictionary containing the posterior parameter distributions obtained from calibrating the model to Belgian hospitalization data\n",
    "with open('../data/interim/model_parameters/provinces/Luik_Aug_2020-10-30.json', 'r') as fp:\n",
    "    samples_dict_aug = json.load(fp)"
   ]
  },
  {
   "cell_type": "code",
   "execution_count": null,
   "metadata": {
    "ExecuteTime": {
     "end_time": "2020-10-30T16:46:49.392786Z",
     "start_time": "2020-10-30T16:46:49.356002Z"
    },
    "hidden": true
   },
   "outputs": [],
   "source": [
    "# Update this parameter here, the rest is updated by draw_sample_COVID19_SEIRD\n",
    "# model.parameters['policy_time'] = samples_dict_wave1['lag_time']"
   ]
  },
  {
   "cell_type": "code",
   "execution_count": null,
   "metadata": {
    "ExecuteTime": {
     "end_time": "2020-10-30T17:51:24.928761Z",
     "start_time": "2020-10-30T17:51:19.336448Z"
    },
    "hidden": true
   },
   "outputs": [],
   "source": [
    "out_sept = model_aug.sim(time='2020-09-01', excess_time=0,start_date='2020-08-01',\n",
    "                   N=100, draw_fcn=draw_sample_beta_COVID19_SEIRD,samples=samples_dict_aug)\n",
    "states = out_sept.isel(time=-1).mean(dim=\"draws\")\n",
    "initial_states_sept1 = {key:states[key].values for key in initial_states.keys()}"
   ]
  },
  {
   "cell_type": "code",
   "execution_count": null,
   "metadata": {
    "ExecuteTime": {
     "end_time": "2020-10-30T17:51:33.711786Z",
     "start_time": "2020-10-30T17:51:33.673224Z"
    },
    "hidden": true
   },
   "outputs": [],
   "source": [
    "np.save('../data/interim/prediction_provinces/Luik_initial_states_sept1.npy', initial_states_sept1)"
   ]
  },
  {
   "cell_type": "code",
   "execution_count": null,
   "metadata": {
    "ExecuteTime": {
     "end_time": "2020-10-30T17:51:25.318521Z",
     "start_time": "2020-10-30T17:51:25.271583Z"
    },
    "hidden": true
   },
   "outputs": [],
   "source": [
    "initial_states_sept1"
   ]
  },
  {
   "cell_type": "markdown",
   "metadata": {
    "hidden": true
   },
   "source": [
    "## Calibration month September"
   ]
  },
  {
   "cell_type": "code",
   "execution_count": null,
   "metadata": {
    "ExecuteTime": {
     "end_time": "2020-10-30T17:51:58.368440Z",
     "start_time": "2020-10-30T17:51:58.330641Z"
    },
    "hidden": true
   },
   "outputs": [],
   "source": [
    "initial_states_sept1 = np.load('../data/interim/prediction_provinces/Luik_initial_states_sept1.npy', allow_pickle=True).item()"
   ]
  },
  {
   "cell_type": "code",
   "execution_count": null,
   "metadata": {
    "ExecuteTime": {
     "end_time": "2020-10-30T17:52:06.817390Z",
     "start_time": "2020-10-30T17:52:06.780931Z"
    },
    "hidden": true
   },
   "outputs": [],
   "source": [
    "# Second wave\n",
    "start_date = '2020-09-01'\n",
    "end_beta = '2020-10-01'"
   ]
  },
  {
   "cell_type": "code",
   "execution_count": null,
   "metadata": {
    "ExecuteTime": {
     "end_time": "2020-10-30T17:52:08.496601Z",
     "start_time": "2020-10-30T17:52:08.455785Z"
    },
    "hidden": true
   },
   "outputs": [],
   "source": [
    "len(Luik_ts.loc[start_date:end_beta])"
   ]
  },
  {
   "cell_type": "code",
   "execution_count": null,
   "metadata": {
    "ExecuteTime": {
     "end_time": "2020-10-30T17:52:15.480377Z",
     "start_time": "2020-10-30T17:52:15.157707Z"
    },
    "hidden": true
   },
   "outputs": [],
   "source": [
    "# Load the parameters using `get_COVID19_SEIRD_parameters()`.\n",
    "params = model_parameters.get_COVID19_SEIRD_parameters()\n",
    "#model_sept = models.COVID19_SEIRD(initial_states_sept, params)\n",
    "model_sept = models.COVID19_SEIRD(initial_states_sept1, params)"
   ]
  },
  {
   "cell_type": "code",
   "execution_count": null,
   "metadata": {
    "ExecuteTime": {
     "end_time": "2020-10-30T17:52:18.721870Z",
     "start_time": "2020-10-30T17:52:18.524171Z"
    },
    "hidden": true
   },
   "outputs": [],
   "source": [
    "# function parameters \n",
    "timeseries = Luik_ts['NEW_IN']\n",
    "spatial_unit = 'Luik_Sept'"
   ]
  },
  {
   "cell_type": "code",
   "execution_count": null,
   "metadata": {
    "ExecuteTime": {
     "end_time": "2020-10-30T18:02:55.232222Z",
     "start_time": "2020-10-30T18:02:55.194458Z"
    },
    "hidden": true
   },
   "outputs": [],
   "source": [
    "beta_init = 0.03\n",
    "sigma_data_init = np.mean(samples_dict_wave1['sigma_data'])"
   ]
  },
  {
   "cell_type": "code",
   "execution_count": null,
   "metadata": {
    "ExecuteTime": {
     "end_time": "2020-10-30T17:52:31.456104Z",
     "start_time": "2020-10-30T17:52:31.416945Z"
    },
    "hidden": true
   },
   "outputs": [],
   "source": [
    "# mu_beta, std_beta = norm.fit(samples_dict_aug['beta'])\n",
    "# mu_sigma_data, std_sigma_data = norm.fit(samples_dict_wave1['sigma_data']) # should be on aug!\n",
    "# beta_norm_params = (mu_beta, std_beta)\n",
    "# sigma_data_norm_params = (mu_sigma_data, std_sigma_data)"
   ]
  },
  {
   "cell_type": "code",
   "execution_count": null,
   "metadata": {
    "ExecuteTime": {
     "end_time": "2020-10-30T18:06:18.300489Z",
     "start_time": "2020-10-30T18:02:59.457873Z"
    },
    "hidden": true
   },
   "outputs": [],
   "source": [
    "samples_dict = full_calibration_wave2(model_aug, timeseries, spatial_unit, start_date, end_beta, \n",
    "                                      beta_init, sigma_data_init, None, None,\n",
    "                                      fig_path=fig_path, samples_path=samples_path,\n",
    "                                      initN=initN, Nc_total=Nc_total,steps_mcmc=1000)"
   ]
  },
  {
   "cell_type": "code",
   "execution_count": null,
   "metadata": {
    "ExecuteTime": {
     "end_time": "2020-10-30T18:07:19.956638Z",
     "start_time": "2020-10-30T18:07:19.689726Z"
    },
    "hidden": true
   },
   "outputs": [],
   "source": [
    "fig,ax = plt.subplots(figsize=(4,4))\n",
    "pd.Series(samples_dict['beta']).hist(ax=ax)"
   ]
  },
  {
   "cell_type": "code",
   "execution_count": null,
   "metadata": {
    "ExecuteTime": {
     "end_time": "2020-10-30T18:07:28.841956Z",
     "start_time": "2020-10-30T18:07:25.461128Z"
    },
    "hidden": true
   },
   "outputs": [],
   "source": [
    "states = [['H_in']]\n",
    "end_date = end_beta\n",
    "data=[timeseries[start_date:end_beta].values]\n",
    "\n",
    "fig,ax=plt.subplots(figsize=(8,8))\n",
    "for i in range(20):\n",
    "    idx,model_sept.parameters['beta'] = random.choice(list(enumerate(samples_dict['beta'])))\n",
    "    y_model = model_sept.sim(time=end_date, excess_time=0, start_date=start_date)\n",
    "    ax = plot_fit(y_model,data,start_date,lag_time=0,states=states,end_date=end_date,\n",
    "                  with_ints=False,ax=ax,plt_kwargs={'color':'blue','linewidth': 2,'alpha': 0.05})\n",
    "plt.setp(plt.gca().xaxis.get_majorticklabels(),'rotation', 0)\n",
    "#data_after_calib = timeseries[pd.to_datetime(end_ramp)+pd.to_timedelta('1d'):end_date]\n",
    "#plt.scatter(data_after_calib.index, data_after_calib.values, marker='o',color='red',linestyle='None',facecolors='none')\n",
    "legend_text=['daily \\nhospitalizations']\n",
    "ax.set_xlim(start_date, end_date)\n",
    "ax.set_ylabel('daily hospitalizations')\n",
    "fig.savefig(fig_path+spatial_unit+'.pdf',\n",
    "            bbox_inches='tight', dpi=600)"
   ]
  },
  {
   "cell_type": "markdown",
   "metadata": {
    "heading_collapsed": true
   },
   "source": [
    "# Calibration on October"
   ]
  },
  {
   "cell_type": "markdown",
   "metadata": {
    "hidden": true
   },
   "source": [
    "## Simulation until end September"
   ]
  },
  {
   "cell_type": "code",
   "execution_count": null,
   "metadata": {
    "ExecuteTime": {
     "end_time": "2020-11-04T12:37:57.965760Z",
     "start_time": "2020-11-04T12:37:57.898046Z"
    },
    "hidden": true
   },
   "outputs": [],
   "source": [
    "# Load the dictionary containing the posterior parameter distributions obtained from calibrating the model to Belgian hospitalization data\n",
    "with open('../data/interim/model_parameters/provinces/Hainaut_wave1_2020-11-03.json', 'r') as fp:\n",
    "    samples_dict_wave1 = json.load(fp)"
   ]
  },
  {
   "cell_type": "code",
   "execution_count": null,
   "metadata": {
    "ExecuteTime": {
     "end_time": "2020-11-04T09:16:21.094032Z",
     "start_time": "2020-11-04T09:15:58.236100Z"
    },
    "hidden": true,
    "scrolled": false
   },
   "outputs": [],
   "source": [
    "states = [['H_in']]\n",
    "end_date = '2020-09-28'\n",
    "data=[timeseries[start_date:end_ramp].values]\n",
    "\n",
    "fig,ax=plt.subplots()\n",
    "for i in range(20):\n",
    "    idx,model.parameters['beta'] = random.choice(list(enumerate(samples_dict_wave1['beta'])))\n",
    "    idx,model.parameters['l'] = random.choice(list(enumerate(samples_dict_wave1['l'])))\n",
    "    model.parameters['tau'] = samples_dict_wave1['tau'][idx]\n",
    "    model.parameters['policy_time'] = samples_dict_wave1['warmup']\n",
    "    model.parameters['prevention'] = samples_dict_wave1['prevention'][idx]\n",
    "    y_model = model.sim(time=end_date, excess_time=samples_dict_wave1['warmup'], start_date=start_date)\n",
    "    ax = plot_fit(y_model,data,start_date,samples_dict_wave1['warmup'],states,end_date=end_date,with_ints=False,ax=ax,plt_kwargs={'color':'blue','linewidth': 2,'alpha': 0.05})\n",
    "\n",
    "data_after_calib = timeseries[pd.to_datetime(end_ramp)+pd.to_timedelta('1d'):end_date]\n",
    "plt.scatter(data_after_calib.index, data_after_calib.values, marker='o',color='red',linestyle='None',facecolors='none')\n",
    "legend_text=['daily \\nhospitalizations']\n",
    "ax.set_xlim('2020-03-10', end_date)"
   ]
  },
  {
   "cell_type": "code",
   "execution_count": null,
   "metadata": {
    "ExecuteTime": {
     "end_time": "2020-11-04T07:23:51.371705Z",
     "start_time": "2020-11-04T07:23:19.644810Z"
    },
    "hidden": true
   },
   "outputs": [],
   "source": [
    "out_sept28 = model.sim(time='2020-09-28', excess_time=samples_dict_wave1['warmup'],start_date='2020-03-15',\n",
    "                   N=10, draw_fcn=draw_sample_COVID19_SEIRD,samples=samples_dict_wave1)\n",
    "states = out_sept28.isel(time=-1).mean(dim=\"draws\")\n",
    "initial_states_sept28 = {key:states[key].values for key in initial_states.keys()}"
   ]
  },
  {
   "cell_type": "code",
   "execution_count": null,
   "metadata": {
    "ExecuteTime": {
     "end_time": "2020-11-04T07:25:25.232184Z",
     "start_time": "2020-11-04T07:24:44.939509Z"
    },
    "hidden": true
   },
   "outputs": [],
   "source": [
    "out_sept28.isel(time=-1).mean(dim=\"draws\")"
   ]
  },
  {
   "cell_type": "code",
   "execution_count": null,
   "metadata": {
    "ExecuteTime": {
     "end_time": "2020-11-03T12:22:51.354146Z",
     "start_time": "2020-11-03T12:22:51.148133Z"
    },
    "hidden": true
   },
   "outputs": [],
   "source": [
    "np.save('../data/interim/prediction_provinces/Hainaut_initial_states_Sept28.npy', initial_states_sept28)"
   ]
  },
  {
   "cell_type": "markdown",
   "metadata": {
    "hidden": true
   },
   "source": [
    "## Calibration starting September 28"
   ]
  },
  {
   "cell_type": "code",
   "execution_count": null,
   "metadata": {
    "ExecuteTime": {
     "end_time": "2020-11-04T07:21:16.761589Z",
     "start_time": "2020-11-04T07:21:16.550870Z"
    },
    "hidden": true
   },
   "outputs": [],
   "source": [
    "initial_states_sept28 = np.load('../data/interim/prediction_provinces/Hainaut_initial_states_Sept28.npy', allow_pickle=True).item()"
   ]
  },
  {
   "cell_type": "code",
   "execution_count": null,
   "metadata": {
    "ExecuteTime": {
     "end_time": "2020-11-04T07:21:20.147849Z",
     "start_time": "2020-11-04T07:21:20.100278Z"
    },
    "hidden": true
   },
   "outputs": [],
   "source": [
    "initial_states_sept28"
   ]
  },
  {
   "cell_type": "code",
   "execution_count": null,
   "metadata": {
    "ExecuteTime": {
     "end_time": "2020-11-03T12:28:56.548419Z",
     "start_time": "2020-11-03T12:28:56.512449Z"
    },
    "hidden": true
   },
   "outputs": [],
   "source": [
    "# Second wave\n",
    "start_date = '2020-09-28'\n",
    "end_beta = '2020-10-30'"
   ]
  },
  {
   "cell_type": "code",
   "execution_count": null,
   "metadata": {
    "ExecuteTime": {
     "end_time": "2020-11-03T12:28:57.818586Z",
     "start_time": "2020-11-03T12:28:57.778655Z"
    },
    "hidden": true
   },
   "outputs": [],
   "source": [
    "len(Hainaut_ts.loc[start_date:end_beta])"
   ]
  },
  {
   "cell_type": "code",
   "execution_count": null,
   "metadata": {
    "ExecuteTime": {
     "end_time": "2020-11-03T12:29:01.024174Z",
     "start_time": "2020-11-03T12:29:00.690190Z"
    },
    "hidden": true
   },
   "outputs": [],
   "source": [
    "# Load the parameters using `get_COVID19_SEIRD_parameters()`.\n",
    "params = model_parameters.get_COVID19_SEIRD_parameters()\n",
    "model = models.COVID19_SEIRD(initial_states_sept28, params)"
   ]
  },
  {
   "cell_type": "code",
   "execution_count": null,
   "metadata": {
    "ExecuteTime": {
     "end_time": "2020-11-03T12:29:25.898218Z",
     "start_time": "2020-11-03T12:29:25.861606Z"
    },
    "hidden": true
   },
   "outputs": [],
   "source": [
    "# function parameters \n",
    "timeseries = Hainaut_ts['NEW_IN']\n",
    "spatial_unit = 'Hainaut_wave2_from_sept28'\n"
   ]
  },
  {
   "cell_type": "code",
   "execution_count": null,
   "metadata": {
    "ExecuteTime": {
     "end_time": "2020-10-30T16:45:43.424521Z",
     "start_time": "2020-10-30T16:45:43.386749Z"
    },
    "hidden": true
   },
   "outputs": [],
   "source": [
    "# mu_beta, std_beta = norm.fit(samples_dict_wave1['beta'])\n",
    "# mu_sigma_data, std_sigma_data = norm.fit(samples_dict_wave1['beta'])\n",
    "# beta_norm_params = (mu_beta, std_beta)\n",
    "# sigma_data_norm_params = (mu_sigma_data, std_sigma_data)"
   ]
  },
  {
   "cell_type": "code",
   "execution_count": null,
   "metadata": {
    "ExecuteTime": {
     "end_time": "2020-11-03T12:29:46.952670Z",
     "start_time": "2020-11-03T12:29:46.914543Z"
    },
    "hidden": true
   },
   "outputs": [],
   "source": [
    "beta_init = np.mean(samples_dict_wave1['beta'])\n",
    "sigma_data_init = np.mean(samples_dict_wave1['sigma_data'])\n"
   ]
  },
  {
   "cell_type": "code",
   "execution_count": null,
   "metadata": {
    "ExecuteTime": {
     "end_time": "2020-11-03T13:28:04.611571Z",
     "start_time": "2020-11-03T13:24:26.645535Z"
    },
    "hidden": true,
    "scrolled": true
   },
   "outputs": [],
   "source": [
    "samples_dict = full_calibration_wave2(model, timeseries, spatial_unit, start_date, end_beta, \n",
    "                                      beta_init, sigma_data_init, None, None,\n",
    "                                      fig_path=fig_path, samples_path=samples_path,\n",
    "                                      initN=initN, Nc_total=Nc_total, \n",
    "                                      maxiter=100, popsize=200, steps_mcmc=1000)"
   ]
  },
  {
   "cell_type": "code",
   "execution_count": null,
   "metadata": {
    "ExecuteTime": {
     "end_time": "2020-11-03T13:28:08.553596Z",
     "start_time": "2020-11-03T13:28:08.297760Z"
    },
    "hidden": true
   },
   "outputs": [],
   "source": [
    "fig, ax = plt.subplots()\n",
    "pd.Series(samples_dict['beta']).hist(ax=ax)"
   ]
  },
  {
   "cell_type": "code",
   "execution_count": null,
   "metadata": {
    "ExecuteTime": {
     "end_time": "2020-11-03T13:28:18.990064Z",
     "start_time": "2020-11-03T13:28:14.766876Z"
    },
    "hidden": true,
    "scrolled": false
   },
   "outputs": [],
   "source": [
    "states = [['H_in']]\n",
    "end_date = '2021-01-01' #end_beta\n",
    "data=[timeseries[start_date:end_beta].values]\n",
    "\n",
    "fig,ax=plt.subplots(figsize=(8,8))\n",
    "for i in range(20):\n",
    "    idx,model.parameters['beta'] = random.choice(list(enumerate(samples_dict['beta'])))\n",
    "    y_model = model.sim(time=end_date, excess_time=0, start_date=start_date)\n",
    "    ax = plot_fit(y_model,data,start_date,lag_time=0,states=states,end_date=end_date,\n",
    "                  with_ints=False,ax=ax,plt_kwargs={'color':'blue','linewidth': 2,'alpha': 0.05})\n",
    "plt.setp(plt.gca().xaxis.get_majorticklabels(),'rotation', 0)\n",
    "#data_after_calib = timeseries[pd.to_datetime(end_ramp)+pd.to_timedelta('1d'):end_date]\n",
    "#plt.scatter(data_after_calib.index, data_after_calib.values, marker='o',color='red',linestyle='None',facecolors='none')\n",
    "legend_text=['daily \\nhospitalizations']\n",
    "ax.set_xlim('2020-09-01', '2021-01-01')\n",
    "ax.set_ylabel('daily hospitalizations')\n",
    "# fig.savefig(fig_path+spatial_unit+'.pdf',\n",
    "#             bbox_inches='tight', dpi=600)"
   ]
  },
  {
   "cell_type": "code",
   "execution_count": null,
   "metadata": {
    "ExecuteTime": {
     "end_time": "2020-11-03T16:34:58.686772Z",
     "start_time": "2020-11-03T16:34:58.210403Z"
    },
    "hidden": true
   },
   "outputs": [],
   "source": [
    "fig.savefig(fig_path+spatial_unit+'.pdf',\n",
    "            bbox_inches='tight', dpi=600)"
   ]
  },
  {
   "cell_type": "markdown",
   "metadata": {},
   "source": [
    "# Calibration from August 1"
   ]
  },
  {
   "cell_type": "code",
   "execution_count": null,
   "metadata": {
    "ExecuteTime": {
     "end_time": "2020-11-04T16:14:48.094115Z",
     "start_time": "2020-11-04T16:14:48.024233Z"
    }
   },
   "outputs": [],
   "source": [
    "# Load the dictionary containing the posterior parameter distributions obtained from calibrating the model to Belgian hospitalization data\n",
    "with open('../data/interim/model_parameters/provinces/Hainaut_wave1_2020-11-04.json', 'r') as fp:\n",
    "    samples_dict_wave1 = json.load(fp)"
   ]
  },
  {
   "cell_type": "markdown",
   "metadata": {
    "heading_collapsed": true
   },
   "source": [
    "## Simulation until August 1 with policies"
   ]
  },
  {
   "cell_type": "code",
   "execution_count": null,
   "metadata": {
    "ExecuteTime": {
     "end_time": "2020-11-04T07:46:01.543927Z",
     "start_time": "2020-11-04T07:44:20.007513Z"
    },
    "hidden": true
   },
   "outputs": [],
   "source": [
    "out_aug1 = model_wave1_with_policies.sim(time='2020-08-01', excess_time=samples_dict_wave1['warmup'],start_date='2020-03-15',\n",
    "                   N=100, draw_fcn=draw_sample_COVID19_SEIRD,samples=samples_dict_wave1)\n",
    "states = out_aug1.isel(time=-1).mean(dim=\"draws\")\n",
    "initial_states_aug1 = {key:states[key].values for key in initial_states.keys()}"
   ]
  },
  {
   "cell_type": "code",
   "execution_count": null,
   "metadata": {
    "ExecuteTime": {
     "end_time": "2020-11-04T07:46:23.517716Z",
     "start_time": "2020-11-04T07:46:23.479741Z"
    },
    "hidden": true
   },
   "outputs": [],
   "source": [
    "np.save('../data/interim/prediction_provinces/Hainaut_initial_states_Aug1.npy', initial_states_aug1)"
   ]
  },
  {
   "cell_type": "markdown",
   "metadata": {},
   "source": [
    "## Simulation until August 1 without policies"
   ]
  },
  {
   "cell_type": "code",
   "execution_count": null,
   "metadata": {
    "ExecuteTime": {
     "end_time": "2020-11-04T16:15:26.444071Z",
     "start_time": "2020-11-04T16:14:59.299799Z"
    }
   },
   "outputs": [],
   "source": [
    "out_aug1 = model_wave1.sim(time='2020-08-01', excess_time=samples_dict_wave1['warmup'],start_date='2020-03-15',\n",
    "                   N=100, draw_fcn=draw_sample_COVID19_SEIRD,samples=samples_dict_wave1)\n",
    "states = out_aug1.isel(time=-1).mean(dim=\"draws\")\n",
    "initial_states_aug1 = {key:states[key].values for key in initial_states.keys()}"
   ]
  },
  {
   "cell_type": "code",
   "execution_count": null,
   "metadata": {
    "ExecuteTime": {
     "end_time": "2020-11-04T16:15:45.259605Z",
     "start_time": "2020-11-04T16:15:45.219491Z"
    }
   },
   "outputs": [],
   "source": [
    "np.save('../data/interim/initial_states_provinces/'+spatial_unit+'_Aug1.npy', initial_states_aug1)"
   ]
  },
  {
   "cell_type": "markdown",
   "metadata": {},
   "source": [
    "## Calibration starting August 1"
   ]
  },
  {
   "cell_type": "code",
   "execution_count": null,
   "metadata": {
    "ExecuteTime": {
     "end_time": "2020-11-04T21:56:37.295812Z",
     "start_time": "2020-11-04T21:56:37.102012Z"
    }
   },
   "outputs": [],
   "source": [
    "initial_states_aug1 = np.load('../data/interim/initial_states_provinces/Hainaut_wave1_Aug1.npy', allow_pickle=True).item()"
   ]
  },
  {
   "cell_type": "code",
   "execution_count": null,
   "metadata": {
    "ExecuteTime": {
     "end_time": "2020-11-04T21:56:37.790605Z",
     "start_time": "2020-11-04T21:56:37.753166Z"
    }
   },
   "outputs": [],
   "source": [
    "# Second wave\n",
    "start_date = '2020-08-01'\n",
    "end_beta = '2020-10-31'"
   ]
  },
  {
   "cell_type": "code",
   "execution_count": null,
   "metadata": {
    "ExecuteTime": {
     "end_time": "2020-11-04T21:56:38.665039Z",
     "start_time": "2020-11-04T21:56:38.622402Z"
    }
   },
   "outputs": [],
   "source": [
    "len(Hainaut_ts.loc[start_date:end_beta])"
   ]
  },
  {
   "cell_type": "code",
   "execution_count": null,
   "metadata": {
    "ExecuteTime": {
     "end_time": "2020-11-04T21:56:40.383577Z",
     "start_time": "2020-11-04T21:56:40.041597Z"
    }
   },
   "outputs": [],
   "source": [
    "# Load the parameters using `get_COVID19_SEIRD_parameters()`.\n",
    "params = model_parameters.get_COVID19_SEIRD_parameters()\n",
    "model_wave2_from_aug1 = models.COVID19_SEIRD(initial_states_aug1, params)"
   ]
  },
  {
   "cell_type": "code",
   "execution_count": null,
   "metadata": {
    "ExecuteTime": {
     "end_time": "2020-11-04T08:03:11.766086Z",
     "start_time": "2020-11-04T08:03:11.719303Z"
    }
   },
   "outputs": [],
   "source": [
    "# mu_beta, std_beta = norm.fit(samples_dict_wave1['beta'])\n",
    "# mu_sigma_data, std_sigma_data = norm.fit(samples_dict_wave1['beta'])\n",
    "# beta_norm_params = (mu_beta, std_beta)\n",
    "# sigma_data_norm_params = (mu_sigma_data, std_sigma_data)"
   ]
  },
  {
   "cell_type": "code",
   "execution_count": null,
   "metadata": {
    "ExecuteTime": {
     "end_time": "2020-11-04T21:56:42.603556Z",
     "start_time": "2020-11-04T21:56:42.562349Z"
    }
   },
   "outputs": [],
   "source": [
    "beta_init = np.mean(samples_dict_wave1['beta'])\n",
    "sigma_data_init = np.mean(samples_dict_wave1['sigma_data'])\n"
   ]
  },
  {
   "cell_type": "code",
   "execution_count": null,
   "metadata": {
    "ExecuteTime": {
     "end_time": "2020-11-04T22:56:50.353622Z",
     "start_time": "2020-11-04T21:56:50.488837Z"
    },
    "scrolled": true
   },
   "outputs": [],
   "source": [
    "spatial_unit = 'Hainaut_wave2_from_aug1_no_policies_10000'\n",
    "samples_dict = full_calibration_wave2(model_wave2_from_aug1, timeseries, spatial_unit, start_date, end_beta, \n",
    "                                      beta_init, sigma_data_init, None, None,\n",
    "                                      fig_path=fig_path, samples_path=samples_path,\n",
    "                                      initN=initN, Nc_total=Nc_total, pso=False,\n",
    "                                      maxiter=100, popsize=200, steps_mcmc=10000)"
   ]
  },
  {
   "cell_type": "code",
   "execution_count": null,
   "metadata": {
    "ExecuteTime": {
     "end_time": "2020-11-05T07:09:48.112116Z",
     "start_time": "2020-11-05T07:09:47.829247Z"
    }
   },
   "outputs": [],
   "source": [
    "fig, ax = plt.subplots()\n",
    "pd.Series(samples_dict['beta']).hist(ax=ax)"
   ]
  },
  {
   "cell_type": "code",
   "execution_count": null,
   "metadata": {
    "ExecuteTime": {
     "end_time": "2020-11-05T07:10:47.617660Z",
     "start_time": "2020-11-05T07:10:00.360252Z"
    }
   },
   "outputs": [],
   "source": [
    "end_date = '2021-01-01'\n",
    "plot_simulations(start_date, end_ramp, end_date, model_wave2_from_aug1, samples_dict, \n",
    "                timeseries, spatial_unit, n_lines=200, save=True)"
   ]
  },
  {
   "cell_type": "code",
   "execution_count": null,
   "metadata": {},
   "outputs": [],
   "source": []
  }
 ],
 "metadata": {
  "kernelspec": {
   "display_name": "Python 3",
   "language": "python",
   "name": "python3"
  },
  "language_info": {
   "codemirror_mode": {
    "name": "ipython",
    "version": 3
   },
   "file_extension": ".py",
   "mimetype": "text/x-python",
   "name": "python",
   "nbconvert_exporter": "python",
   "pygments_lexer": "ipython3",
   "version": "3.8.2"
  },
  "toc": {
   "base_numbering": 1,
   "nav_menu": {},
   "number_sections": true,
   "sideBar": true,
   "skip_h1_title": false,
   "title_cell": "Table of Contents",
   "title_sidebar": "Contents",
   "toc_cell": false,
   "toc_position": {
    "height": "calc(100% - 180px)",
    "left": "10px",
    "top": "150px",
    "width": "288px"
   },
   "toc_section_display": true,
   "toc_window_display": true
  }
 },
 "nbformat": 4,
 "nbformat_minor": 4
}
