{
 "cells": [
  {
   "cell_type": "markdown",
   "metadata": {},
   "source": [
    "**Calibration of the age-stratified deterministic model**\n",
    "\n",
    "*Original code by Ryan S. McGee. Modified by T.W. Alleman in consultation with the BIOMATH research unit headed by prof. Ingmar Nopens.*\n",
    "\n",
    "Copyright (c) 2020 by T.W. Alleman, BIOMATH, Ghent University. All Rights Reserved.\n",
    "\n",
    "This notebook accompanies our preprint: \"*A deterministic, age-stratified, extended SEIRD model for assessing the effect of non-pharmaceutical interventions on SARS-CoV-2 spread in Belgium*\"(https://doi.org/10.1101/2020.07.17.20156034)"
   ]
  },
  {
   "cell_type": "markdown",
   "metadata": {},
   "source": [
    "# Load required packages"
   ]
  },
  {
   "cell_type": "code",
   "execution_count": null,
   "metadata": {
    "ExecuteTime": {
     "end_time": "2020-11-03T08:52:59.251006Z",
     "start_time": "2020-11-03T08:52:59.004832Z"
    }
   },
   "outputs": [],
   "source": [
    "import random\n",
    "import os\n",
    "import numpy as np\n",
    "%matplotlib notebook\n",
    "import matplotlib.pyplot as plt\n",
    "from IPython.display import Image\n",
    "from ipywidgets import interact,fixed,FloatSlider,IntSlider,ToggleButtons\n",
    "import pandas as pd\n",
    "from datetime import datetime, timedelta\n",
    "import scipy\n",
    "from scipy.integrate import odeint\n",
    "from scipy.stats import norm\n",
    "import matplotlib.dates as mdates\n",
    "import matplotlib\n",
    "import scipy.stats as st\n",
    "\n",
    "import math\n",
    "import xarray as xr\n",
    "import emcee\n",
    "import json\n",
    "import corner\n",
    "\n",
    "from covid19model.optimization import objective_fcns\n",
    "from covid19model.optimization import MCMC\n",
    "from covid19model.models import models\n",
    "from covid19model.data import google\n",
    "from covid19model.data import sciensano\n",
    "from covid19model.data import model_parameters\n",
    "from covid19model.visualization.output import population_status, infected\n",
    "from covid19model.visualization.optimization import plot_fit, traceplot\n",
    "from covid19model.optimization.run_optimization import full_calibration_wave1, full_calibration_wave2\n",
    "from covid19model.models.utils import draw_sample_COVID19_SEIRD\n",
    "\n",
    "\n",
    "# OPTIONAL: Load the \"autoreload\" extension so that package code can change\n",
    "%load_ext autoreload\n",
    "# OPTIONAL: always reload modules so that as you change code in src, it gets loaded\n",
    "%autoreload 2"
   ]
  },
  {
   "cell_type": "code",
   "execution_count": null,
   "metadata": {
    "ExecuteTime": {
     "end_time": "2020-11-03T08:52:59.291566Z",
     "start_time": "2020-11-03T08:52:59.253538Z"
    }
   },
   "outputs": [],
   "source": [
    "# import dask\n",
    "\n",
    "# from dask.distributed import Client, progress\n",
    "# client = Client(threads_per_worker=16, n_workers=1)\n",
    "# client"
   ]
  },
  {
   "cell_type": "markdown",
   "metadata": {},
   "source": [
    "# Get public data"
   ]
  },
  {
   "cell_type": "code",
   "execution_count": null,
   "metadata": {
    "ExecuteTime": {
     "end_time": "2020-11-03T08:52:59.330361Z",
     "start_time": "2020-11-03T08:52:59.294181Z"
    }
   },
   "outputs": [],
   "source": [
    "#df_sciensano = sciensano.get_sciensano_COVID19_data(update=False)\n"
   ]
  },
  {
   "cell_type": "code",
   "execution_count": null,
   "metadata": {
    "ExecuteTime": {
     "end_time": "2020-11-03T08:52:59.385055Z",
     "start_time": "2020-11-03T08:52:59.332756Z"
    }
   },
   "outputs": [],
   "source": [
    "raw_hosp_data = pd.read_csv('../data/raw/sciensano/COVID19BE_HOSP.csv', parse_dates=['DATE'])\n",
    "Luik_hosp_data = raw_hosp_data[raw_hosp_data.PROVINCE=='Liège']"
   ]
  },
  {
   "cell_type": "code",
   "execution_count": null,
   "metadata": {
    "ExecuteTime": {
     "end_time": "2020-11-03T08:52:59.423698Z",
     "start_time": "2020-11-03T08:52:59.387061Z"
    }
   },
   "outputs": [],
   "source": [
    "#Luik_hosp_data.plot('DATE','NEW_IN')"
   ]
  },
  {
   "cell_type": "code",
   "execution_count": null,
   "metadata": {
    "ExecuteTime": {
     "end_time": "2020-11-03T08:52:59.465081Z",
     "start_time": "2020-11-03T08:52:59.425703Z"
    },
    "scrolled": true
   },
   "outputs": [],
   "source": [
    "Luik_ts = Luik_hosp_data[['DATE','NEW_IN']].set_index('DATE')"
   ]
  },
  {
   "cell_type": "code",
   "execution_count": null,
   "metadata": {
    "ExecuteTime": {
     "end_time": "2020-11-03T08:52:59.505128Z",
     "start_time": "2020-11-03T08:52:59.467238Z"
    }
   },
   "outputs": [],
   "source": [
    "# fig,ax = plt.subplots()\n",
    "# Luik_ts.reset_index() .plot('DATE','NEW_IN', logy=True, ax=ax)\n",
    "# ax.set_xlim('2020-08-01', '2020-11-01')"
   ]
  },
  {
   "cell_type": "markdown",
   "metadata": {},
   "source": [
    "# Load data"
   ]
  },
  {
   "cell_type": "code",
   "execution_count": null,
   "metadata": {
    "ExecuteTime": {
     "end_time": "2020-11-03T08:52:59.825597Z",
     "start_time": "2020-11-03T08:52:59.508598Z"
    }
   },
   "outputs": [],
   "source": [
    "# Load the interaction matrices (size: 9x9)\n",
    "initN, Nc_home, Nc_work, Nc_schools, Nc_transport, Nc_leisure, Nc_others, Nc_total = model_parameters.get_interaction_matrices(dataset='willem_2012')\n",
    "# Define the number of age categories\n",
    "levels = initN.size\n",
    "#province_names = pd.read_csv('../data/raw/GIS/NIS_province.csv')\n",
    "initN_province = pd.read_csv('../data/interim/demographic/initN_province.csv')\n",
    "initN = np.array(list(initN_province.set_index('NIS').loc[60000].iloc[:9]))"
   ]
  },
  {
   "cell_type": "code",
   "execution_count": null,
   "metadata": {
    "ExecuteTime": {
     "end_time": "2020-11-03T08:52:59.866963Z",
     "start_time": "2020-11-03T08:52:59.827971Z"
    }
   },
   "outputs": [],
   "source": [
    "fig_path = '../results/calibrations_provinces/'\n",
    "samples_path = '../data/interim/model_parameters/provinces/'"
   ]
  },
  {
   "cell_type": "code",
   "execution_count": null,
   "metadata": {
    "ExecuteTime": {
     "end_time": "2020-11-03T08:52:59.907053Z",
     "start_time": "2020-11-03T08:52:59.869052Z"
    }
   },
   "outputs": [],
   "source": [
    "def draw_sample_beta_COVID19_SEIRD(parameter_dictionary,samples_dict):\n",
    "    \"\"\"\n",
    "    A function to draw parameter samples obtained with MCMC during model calibration and assign them to the parameter dictionary of the model.\n",
    "    Tailor-made for the BIOMATH COVID-19 SEIRD model.\n",
    "\n",
    "    Parameters\n",
    "    ----------\n",
    "    model : object\n",
    "        BIOMATH model object\n",
    "    \n",
    "    samples_dict : dictionary\n",
    "        Dictionary containing the samples of the sampled parameters: beta, l and tau.\n",
    "\n",
    "    Returns\n",
    "    ----------\n",
    "    model : object\n",
    "        BIOMATH model object\n",
    "\n",
    "    \"\"\"\n",
    "    # Use posterior samples of fitted parameters\n",
    "    parameter_dictionary['beta'] = np.random.choice(samples_dict['beta'],1,replace=False)\n",
    "    return parameter_dictionary"
   ]
  },
  {
   "cell_type": "markdown",
   "metadata": {},
   "source": [
    "# Initialize the model"
   ]
  },
  {
   "cell_type": "code",
   "execution_count": null,
   "metadata": {
    "ExecuteTime": {
     "end_time": "2020-11-03T08:52:59.946886Z",
     "start_time": "2020-11-03T08:52:59.909257Z"
    }
   },
   "outputs": [],
   "source": [
    "def ramp_fun(Nc_old, Nc_new, t, tau_days, l, t_start):\n",
    "    \"\"\"\n",
    "    t : current date\n",
    "    tau : number of days before measures start having an effect\n",
    "    l : number of additional days after the time delay until full compliance is reached\n",
    "    \"\"\"\n",
    "    return Nc_old + (Nc_new-Nc_old)/l * (t-t_start-tau_days)/pd.Timedelta('1D')"
   ]
  },
  {
   "cell_type": "code",
   "execution_count": null,
   "metadata": {
    "ExecuteTime": {
     "end_time": "2020-11-03T08:52:59.989788Z",
     "start_time": "2020-11-03T08:52:59.949070Z"
    }
   },
   "outputs": [],
   "source": [
    "# Define the compliance and lockdown function\n",
    "def lockdown_func(t,param,policy1,policy2,l,tau,prevention, start_date, policy_time):\n",
    "    tau_days = pd.to_timedelta(tau, unit='D')\n",
    "    l_days = pd.to_timedelta(l, unit='D')\n",
    "    if t <= start_date + tau_days:\n",
    "        return policy1\n",
    "    elif start_date + tau_days < t <= start_date + tau_days + l_days:\n",
    "        return ramp_fun(policy1, policy2, t, tau_days, l, start_date)\n",
    "    else:\n",
    "        return prevention*policy2"
   ]
  },
  {
   "cell_type": "code",
   "execution_count": null,
   "metadata": {
    "ExecuteTime": {
     "end_time": "2020-11-03T08:53:00.319955Z",
     "start_time": "2020-11-03T08:52:59.992020Z"
    }
   },
   "outputs": [],
   "source": [
    "# Load the parameters using `get_COVID19_SEIRD_parameters()`.\n",
    "params = model_parameters.get_COVID19_SEIRD_parameters()\n",
    "params.update({'policy1': Nc_total,\n",
    "              'policy2': 1.0*Nc_home + (1-0.60)*Nc_work + (1-0.70)*Nc_transport + (1-0.30)*Nc_others + (1-0.80)*Nc_leisure,\n",
    "              'policy_time': 500,\n",
    "              'l': 1,\n",
    "              'tau': 5,\n",
    "              'prevention': 0.5,\n",
    "              'start_date': pd.to_datetime('2020-03-15')})\n",
    "# Define the initial condition: one exposed inidividual in every age category\n",
    "initial_states = {'S': initN, 'E': np.ones(levels)}\n",
    "model = models.COVID19_SEIRD(initial_states, params, time_dependent_parameters={'Nc': lockdown_func})"
   ]
  },
  {
   "cell_type": "code",
   "execution_count": null,
   "metadata": {
    "ExecuteTime": {
     "end_time": "2020-11-03T08:53:00.360555Z",
     "start_time": "2020-11-03T08:53:00.322014Z"
    }
   },
   "outputs": [],
   "source": [
    "timeseries = Luik_ts['NEW_IN']\n",
    "spatial_unit = 'Luik_wave1'"
   ]
  },
  {
   "cell_type": "markdown",
   "metadata": {},
   "source": [
    "# Calibration on first wave"
   ]
  },
  {
   "cell_type": "code",
   "execution_count": null,
   "metadata": {
    "ExecuteTime": {
     "end_time": "2020-11-03T08:53:00.399210Z",
     "start_time": "2020-11-03T08:53:00.362702Z"
    }
   },
   "outputs": [],
   "source": [
    "## First wave\n",
    "start_date = '2020-03-15'\n",
    "end_beta = '2020-03-25'#'2020-03-22'\n",
    "end_ramp = '2020-05-23'"
   ]
  },
  {
   "cell_type": "code",
   "execution_count": null,
   "metadata": {
    "ExecuteTime": {
     "end_time": "2020-11-03T08:53:00.456362Z",
     "start_time": "2020-11-03T08:53:00.401346Z"
    }
   },
   "outputs": [],
   "source": [
    "len(Luik_ts.loc[start_date:end_beta])"
   ]
  },
  {
   "cell_type": "code",
   "execution_count": null,
   "metadata": {
    "ExecuteTime": {
     "end_time": "2020-11-03T08:53:00.505746Z",
     "start_time": "2020-11-03T08:53:00.458873Z"
    }
   },
   "outputs": [],
   "source": [
    "len(Luik_ts.loc[end_beta:end_ramp])"
   ]
  },
  {
   "cell_type": "code",
   "execution_count": null,
   "metadata": {
    "ExecuteTime": {
     "end_time": "2020-11-03T08:53:00.545899Z",
     "start_time": "2020-11-03T08:53:00.507935Z"
    }
   },
   "outputs": [],
   "source": [
    "# function parameters \n",
    "# maxiter=100\n",
    "# popsize=200\n",
    "# steps_mcmc=10000\n"
   ]
  },
  {
   "cell_type": "code",
   "execution_count": null,
   "metadata": {
    "ExecuteTime": {
     "end_time": "2020-11-03T08:54:44.278957Z",
     "start_time": "2020-11-03T08:53:02.302881Z"
    }
   },
   "outputs": [],
   "source": [
    "samples_dict = full_calibration_wave1(model, timeseries, spatial_unit, start_date, end_beta, end_ramp, \n",
    "                                fig_path=fig_path, samples_path=samples_path,\n",
    "                                initN=initN, Nc_total=Nc_total,\n",
    "                                maxiter=100, popsize=200, steps_mcmc=1000)#\n",
    "\n"
   ]
  },
  {
   "cell_type": "code",
   "execution_count": null,
   "metadata": {
    "ExecuteTime": {
     "end_time": "2020-11-03T08:38:59.605910Z",
     "start_time": "2020-11-03T08:38:59.338145Z"
    }
   },
   "outputs": [],
   "source": [
    "fig, ax = plt.subplots()\n",
    "pd.Series(samples_dict['beta']).hist(ax=ax)"
   ]
  },
  {
   "cell_type": "code",
   "execution_count": null,
   "metadata": {
    "ExecuteTime": {
     "end_time": "2020-11-03T08:41:06.290544Z",
     "start_time": "2020-11-03T08:40:08.188873Z"
    },
    "scrolled": false
   },
   "outputs": [],
   "source": [
    "states = [['H_in']]\n",
    "end_date = '2020-07-01'\n",
    "data=[timeseries[start_date:end_ramp].values]\n",
    "\n",
    "fig,ax=plt.subplots()\n",
    "for i in range(200):\n",
    "    idx,model.parameters['beta'] = random.choice(list(enumerate(samples_dict['beta'])))\n",
    "    idx,model.parameters['l'] = random.choice(list(enumerate(samples_dict['l'])))\n",
    "    model.parameters['tau'] = samples_dict['tau'][idx]\n",
    "    model.parameters['policy_time'] = samples_dict['lag_time']\n",
    "    model.parameters['prevention'] = samples_dict['prevention'][idx]\n",
    "    y_model = model.sim(time=end_date, excess_time=samples_dict['lag_time'], start_date=start_date)\n",
    "    ax = plot_fit(y_model,data,start_date,samples_dict['lag_time'],states,end_date=end_date,with_ints=False,ax=ax,plt_kwargs={'color':'blue','linewidth': 2,'alpha': 0.05})\n",
    "\n",
    "data_after_calib = timeseries[pd.to_datetime(end_ramp)+pd.to_timedelta('1d'):end_date]\n",
    "plt.scatter(data_after_calib.index, data_after_calib.values, marker='o',color='red',linestyle='None',facecolors='none')\n",
    "legend_text=['daily \\nhospitalizations']\n",
    "ax.set_xlim('2020-03-10', '2020-07-01')\n",
    "fig.savefig(fig_path+spatial_unit+'.pdf',\n",
    "            bbox_inches='tight', dpi=600)"
   ]
  },
  {
   "cell_type": "markdown",
   "metadata": {},
   "source": [
    "# Step-by-step calibration"
   ]
  },
  {
   "cell_type": "markdown",
   "metadata": {},
   "source": [
    "## Simulation until 1 July"
   ]
  },
  {
   "cell_type": "code",
   "execution_count": null,
   "metadata": {
    "ExecuteTime": {
     "end_time": "2020-11-03T08:39:29.682633Z",
     "start_time": "2020-11-03T08:39:29.605421Z"
    }
   },
   "outputs": [],
   "source": [
    "# Load the dictionary containing the posterior parameter distributions obtained from calibrating the model to Belgian hospitalization data\n",
    "with open('../data/interim/model_parameters/provinces/Luik_wave1_1000steps_2020-10-28.json', 'r') as fp:\n",
    "    samples_dict_wave1 = json.load(fp)"
   ]
  },
  {
   "cell_type": "code",
   "execution_count": null,
   "metadata": {
    "ExecuteTime": {
     "end_time": "2020-11-03T08:39:39.983397Z",
     "start_time": "2020-11-03T08:39:39.883194Z"
    }
   },
   "outputs": [],
   "source": [
    "fig, ax = plt.subplots()\n",
    "pd.Series(samples_dict_wave1['beta']).hist(ax=ax)"
   ]
  },
  {
   "cell_type": "code",
   "execution_count": null,
   "metadata": {
    "ExecuteTime": {
     "end_time": "2020-11-03T07:52:44.577607Z",
     "start_time": "2020-11-03T07:52:44.535637Z"
    }
   },
   "outputs": [],
   "source": [
    "np.mean(samples_dict_wave1['beta'])"
   ]
  },
  {
   "cell_type": "code",
   "execution_count": null,
   "metadata": {
    "ExecuteTime": {
     "end_time": "2020-11-03T08:04:29.763619Z",
     "start_time": "2020-11-03T08:04:29.707048Z"
    }
   },
   "outputs": [],
   "source": [
    "samples_dict_wave1['lag_time']"
   ]
  },
  {
   "cell_type": "code",
   "execution_count": null,
   "metadata": {
    "ExecuteTime": {
     "end_time": "2020-10-30T16:46:49.392786Z",
     "start_time": "2020-10-30T16:46:49.356002Z"
    }
   },
   "outputs": [],
   "source": [
    "# Update this parameter here, the rest is updated by draw_sample_COVID19_SEIRD\n",
    "model.parameters['policy_time'] = samples_dict_wave1['lag_time']"
   ]
  },
  {
   "cell_type": "code",
   "execution_count": null,
   "metadata": {
    "ExecuteTime": {
     "end_time": "2020-10-30T16:47:19.255536Z",
     "start_time": "2020-10-30T16:46:49.918556Z"
    }
   },
   "outputs": [],
   "source": [
    "out_july = model.sim(time='2020-07-01', excess_time=samples_dict_wave1['lag_time'],start_date='2020-03-15',\n",
    "                   N=100, draw_fcn=draw_sample_COVID19_SEIRD,samples=samples_dict_wave1)\n",
    "states = out_july.isel(time=-1).mean(dim=\"draws\")\n",
    "initial_states_july1 = {key:states[key].values for key in initial_states.keys()}"
   ]
  },
  {
   "cell_type": "code",
   "execution_count": null,
   "metadata": {
    "ExecuteTime": {
     "end_time": "2020-10-30T16:56:35.394679Z",
     "start_time": "2020-10-30T16:56:35.351424Z"
    }
   },
   "outputs": [],
   "source": [
    "np.save('../data/interim/prediction_provinces/Luik_initial_states_july1.npy', initial_states_july1)"
   ]
  },
  {
   "cell_type": "markdown",
   "metadata": {},
   "source": [
    "## Calibration month July"
   ]
  },
  {
   "cell_type": "code",
   "execution_count": null,
   "metadata": {
    "ExecuteTime": {
     "end_time": "2020-10-30T16:56:33.278642Z",
     "start_time": "2020-10-30T16:56:33.224878Z"
    }
   },
   "outputs": [],
   "source": [
    "initial_states_july1 = np.load('../data/interim/prediction_provinces/Luik_initial_states_july1.npy', allow_pickle=True).item()"
   ]
  },
  {
   "cell_type": "code",
   "execution_count": null,
   "metadata": {
    "ExecuteTime": {
     "end_time": "2020-10-30T16:48:17.210748Z",
     "start_time": "2020-10-30T16:48:17.160083Z"
    }
   },
   "outputs": [],
   "source": [
    "# Second wave\n",
    "start_date = '2020-07-01'\n",
    "end_beta = '2020-08-01'"
   ]
  },
  {
   "cell_type": "code",
   "execution_count": null,
   "metadata": {
    "ExecuteTime": {
     "end_time": "2020-10-30T16:48:18.968763Z",
     "start_time": "2020-10-30T16:48:18.919319Z"
    }
   },
   "outputs": [],
   "source": [
    "len(Luik_ts.loc[start_date:end_beta])"
   ]
  },
  {
   "cell_type": "code",
   "execution_count": null,
   "metadata": {
    "ExecuteTime": {
     "end_time": "2020-10-30T16:48:20.509851Z",
     "start_time": "2020-10-30T16:48:20.188149Z"
    }
   },
   "outputs": [],
   "source": [
    "# Load the parameters using `get_COVID19_SEIRD_parameters()`.\n",
    "params = model_parameters.get_COVID19_SEIRD_parameters()\n",
    "#model_sept = models.COVID19_SEIRD(initial_states_sept, params)\n",
    "model_july = models.COVID19_SEIRD(initial_states_july1, params)"
   ]
  },
  {
   "cell_type": "code",
   "execution_count": null,
   "metadata": {
    "ExecuteTime": {
     "end_time": "2020-10-30T16:48:20.699738Z",
     "start_time": "2020-10-30T16:48:20.663234Z"
    }
   },
   "outputs": [],
   "source": [
    "# function parameters \n",
    "timeseries = Luik_ts['NEW_IN']\n",
    "spatial_unit = 'Luik_July'"
   ]
  },
  {
   "cell_type": "code",
   "execution_count": null,
   "metadata": {
    "ExecuteTime": {
     "end_time": "2020-10-30T16:48:22.470225Z",
     "start_time": "2020-10-30T16:48:22.432509Z"
    }
   },
   "outputs": [],
   "source": [
    "beta_init = np.mean(samples_dict_wave1['beta'])\n",
    "sigma_data_init = np.mean(samples_dict_wave1['sigma_data'])"
   ]
  },
  {
   "cell_type": "code",
   "execution_count": null,
   "metadata": {
    "ExecuteTime": {
     "end_time": "2020-10-30T16:51:21.133944Z",
     "start_time": "2020-10-30T16:48:26.896155Z"
    },
    "scrolled": true
   },
   "outputs": [],
   "source": [
    "samples_dict = full_calibration_wave2(model_july, timeseries, spatial_unit, start_date, end_beta, \n",
    "                                      beta_init, sigma_data_init, None,None,\n",
    "                                      fig_path=fig_path, samples_path=samples_path,\n",
    "                                      initN=initN, Nc_total=Nc_total,steps_mcmc=1000)"
   ]
  },
  {
   "cell_type": "code",
   "execution_count": null,
   "metadata": {
    "ExecuteTime": {
     "end_time": "2020-10-30T16:52:49.951381Z",
     "start_time": "2020-10-30T16:52:49.843952Z"
    },
    "scrolled": false
   },
   "outputs": [],
   "source": [
    "fig,ax = plt.subplots(figsize=(4,4))\n",
    "pd.Series(samples_dict['beta']).hist(ax=ax)"
   ]
  },
  {
   "cell_type": "code",
   "execution_count": null,
   "metadata": {
    "ExecuteTime": {
     "end_time": "2020-10-30T16:55:10.441581Z",
     "start_time": "2020-10-30T16:54:47.961115Z"
    }
   },
   "outputs": [],
   "source": [
    "states = [['H_in']]\n",
    "end_date = end_beta\n",
    "data=[timeseries[start_date:end_beta].values]\n",
    "\n",
    "fig,ax=plt.subplots(figsize=(8,8))\n",
    "for i in range(200):\n",
    "    idx,model_july.parameters['beta'] = random.choice(list(enumerate(samples_dict['beta'])))\n",
    "    y_model = model_july.sim(time=end_date, excess_time=0, start_date=start_date)\n",
    "    ax = plot_fit(y_model,data,start_date,lag_time=0,states=states,end_date=end_date,\n",
    "                  with_ints=False,ax=ax,plt_kwargs={'color':'blue','linewidth': 2,'alpha': 0.05})\n",
    "plt.setp(plt.gca().xaxis.get_majorticklabels(),'rotation', 0)\n",
    "#data_after_calib = timeseries[pd.to_datetime(end_ramp)+pd.to_timedelta('1d'):end_date]\n",
    "#plt.scatter(data_after_calib.index, data_after_calib.values, marker='o',color='red',linestyle='None',facecolors='none')\n",
    "legend_text=['daily \\nhospitalizations']\n",
    "ax.set_xlim(start_date, end_date)\n",
    "ax.set_ylabel('daily hospitalizations')\n",
    "fig.savefig(fig_path+spatial_unit+'.pdf',\n",
    "            bbox_inches='tight', dpi=600)"
   ]
  },
  {
   "cell_type": "markdown",
   "metadata": {},
   "source": [
    "## Simulation until 1 August"
   ]
  },
  {
   "cell_type": "code",
   "execution_count": null,
   "metadata": {
    "ExecuteTime": {
     "end_time": "2020-10-30T16:57:18.704357Z",
     "start_time": "2020-10-30T16:57:18.651429Z"
    }
   },
   "outputs": [],
   "source": [
    "# Load the dictionary containing the posterior parameter distributions obtained from calibrating the model to Belgian hospitalization data\n",
    "with open('../data/interim/model_parameters/provinces/Luik_July_2020-10-30.json', 'r') as fp:\n",
    "    samples_dict_july = json.load(fp)"
   ]
  },
  {
   "cell_type": "code",
   "execution_count": null,
   "metadata": {
    "ExecuteTime": {
     "end_time": "2020-10-30T16:46:49.392786Z",
     "start_time": "2020-10-30T16:46:49.356002Z"
    }
   },
   "outputs": [],
   "source": [
    "# Update this parameter here, the rest is updated by draw_sample_COVID19_SEIRD\n",
    "# model.parameters['policy_time'] = samples_dict_wave1['lag_time']"
   ]
  },
  {
   "cell_type": "code",
   "execution_count": null,
   "metadata": {
    "ExecuteTime": {
     "end_time": "2020-10-30T17:01:08.718045Z",
     "start_time": "2020-10-30T17:01:03.129460Z"
    }
   },
   "outputs": [],
   "source": [
    "out_aug = model_july.sim(time='2020-08-01', excess_time=0,start_date='2020-07-01',\n",
    "                   N=100, draw_fcn=draw_sample_beta_COVID19_SEIRD,samples=samples_dict_july)\n",
    "states = out_aug.isel(time=-1).mean(dim=\"draws\")\n",
    "initial_states_aug1 = {key:states[key].values for key in initial_states.keys()}"
   ]
  },
  {
   "cell_type": "code",
   "execution_count": null,
   "metadata": {
    "ExecuteTime": {
     "end_time": "2020-10-30T17:01:31.713350Z",
     "start_time": "2020-10-30T17:01:31.672096Z"
    }
   },
   "outputs": [],
   "source": [
    "np.save('../data/interim/prediction_provinces/Luik_initial_states_aug1.npy', initial_states_aug1)"
   ]
  },
  {
   "cell_type": "markdown",
   "metadata": {},
   "source": [
    "## Calibration month August"
   ]
  },
  {
   "cell_type": "code",
   "execution_count": null,
   "metadata": {
    "ExecuteTime": {
     "end_time": "2020-10-30T17:02:03.014165Z",
     "start_time": "2020-10-30T17:02:02.815531Z"
    }
   },
   "outputs": [],
   "source": [
    "initial_states_aug1 = np.load('../data/interim/prediction_provinces/Luik_initial_states_aug1.npy', allow_pickle=True).item()"
   ]
  },
  {
   "cell_type": "code",
   "execution_count": null,
   "metadata": {
    "ExecuteTime": {
     "end_time": "2020-10-30T17:02:09.305370Z",
     "start_time": "2020-10-30T17:02:09.267629Z"
    }
   },
   "outputs": [],
   "source": [
    "# Second wave\n",
    "start_date = '2020-08-01'\n",
    "end_beta = '2020-09-01'"
   ]
  },
  {
   "cell_type": "code",
   "execution_count": null,
   "metadata": {
    "ExecuteTime": {
     "end_time": "2020-10-30T17:02:09.879670Z",
     "start_time": "2020-10-30T17:02:09.837543Z"
    }
   },
   "outputs": [],
   "source": [
    "len(Luik_ts.loc[start_date:end_beta])"
   ]
  },
  {
   "cell_type": "code",
   "execution_count": null,
   "metadata": {
    "ExecuteTime": {
     "end_time": "2020-10-30T17:02:20.592714Z",
     "start_time": "2020-10-30T17:02:20.259567Z"
    }
   },
   "outputs": [],
   "source": [
    "# Load the parameters using `get_COVID19_SEIRD_parameters()`.\n",
    "params = model_parameters.get_COVID19_SEIRD_parameters()\n",
    "#model_sept = models.COVID19_SEIRD(initial_states_sept, params)\n",
    "model_aug = models.COVID19_SEIRD(initial_states_aug1, params)"
   ]
  },
  {
   "cell_type": "code",
   "execution_count": null,
   "metadata": {
    "ExecuteTime": {
     "end_time": "2020-10-30T17:02:24.887844Z",
     "start_time": "2020-10-30T17:02:24.845045Z"
    }
   },
   "outputs": [],
   "source": [
    "# function parameters \n",
    "timeseries = Luik_ts['NEW_IN']\n",
    "spatial_unit = 'Luik_Aug'"
   ]
  },
  {
   "cell_type": "code",
   "execution_count": null,
   "metadata": {
    "ExecuteTime": {
     "end_time": "2020-10-30T17:06:53.236522Z",
     "start_time": "2020-10-30T17:06:53.197798Z"
    }
   },
   "outputs": [],
   "source": [
    "beta_init = np.mean(samples_dict_july['beta'])\n",
    "sigma_data_init = np.mean(samples_dict_wave1['sigma_data'])"
   ]
  },
  {
   "cell_type": "code",
   "execution_count": null,
   "metadata": {
    "ExecuteTime": {
     "end_time": "2020-10-30T17:07:09.535256Z",
     "start_time": "2020-10-30T17:07:09.493727Z"
    }
   },
   "outputs": [],
   "source": [
    "mu_beta, std_beta = norm.fit(samples_dict_july['beta'])\n",
    "mu_sigma_data, std_sigma_data = norm.fit(samples_dict_wave1['sigma_data']) # should be on july!\n",
    "beta_norm_params = (mu_beta, std_beta)\n",
    "sigma_data_norm_params = (mu_sigma_data, std_sigma_data)"
   ]
  },
  {
   "cell_type": "code",
   "execution_count": null,
   "metadata": {
    "ExecuteTime": {
     "end_time": "2020-10-30T17:45:38.944138Z",
     "start_time": "2020-10-30T17:42:39.898370Z"
    }
   },
   "outputs": [],
   "source": [
    "samples_dict = full_calibration_wave2(model_aug, timeseries, spatial_unit, start_date, end_beta, \n",
    "                                      beta_init, sigma_data_init, None, None,\n",
    "                                      fig_path=fig_path, samples_path=samples_path,\n",
    "                                      initN=initN, Nc_total=Nc_total,steps_mcmc=1000)"
   ]
  },
  {
   "cell_type": "code",
   "execution_count": null,
   "metadata": {
    "ExecuteTime": {
     "end_time": "2020-10-30T17:45:56.766698Z",
     "start_time": "2020-10-30T17:45:56.509328Z"
    }
   },
   "outputs": [],
   "source": [
    "fig,ax = plt.subplots(figsize=(4,4))\n",
    "pd.Series(samples_dict['beta']).hist(ax=ax)"
   ]
  },
  {
   "cell_type": "code",
   "execution_count": null,
   "metadata": {
    "ExecuteTime": {
     "end_time": "2020-10-30T17:49:01.217041Z",
     "start_time": "2020-10-30T17:48:58.606651Z"
    }
   },
   "outputs": [],
   "source": [
    "## Deze herrunnen!\n",
    "states = [['H_in']]\n",
    "end_date = end_beta\n",
    "data=[timeseries[start_date:end_beta].values]\n",
    "\n",
    "fig,ax=plt.subplots(figsize=(8,8))\n",
    "for i in range(20):\n",
    "    idx,model_aug.parameters['beta'] = random.choice(list(enumerate(samples_dict_aug['beta'])))\n",
    "    y_model = model_aug.sim(time=end_date, excess_time=0, start_date=start_date)\n",
    "    ax = plot_fit(y_model,data,start_date,lag_time=0,states=states,end_date=end_date,\n",
    "                  with_ints=False,ax=ax,plt_kwargs={'color':'blue','linewidth': 2,'alpha': 0.05})\n",
    "plt.setp(plt.gca().xaxis.get_majorticklabels(),'rotation', 0)\n",
    "#data_after_calib = timeseries[pd.to_datetime(end_ramp)+pd.to_timedelta('1d'):end_date]\n",
    "#plt.scatter(data_after_calib.index, data_after_calib.values, marker='o',color='red',linestyle='None',facecolors='none')\n",
    "legend_text=['daily \\nhospitalizations']\n",
    "ax.set_xlim(start_date, end_date)\n",
    "ax.set_ylabel('daily hospitalizations')\n",
    "# fig.savefig(fig_path+spatial_unit+'.pdf',\n",
    "#             bbox_inches='tight', dpi=600)"
   ]
  },
  {
   "cell_type": "code",
   "execution_count": null,
   "metadata": {},
   "outputs": [],
   "source": []
  },
  {
   "cell_type": "markdown",
   "metadata": {},
   "source": [
    "## Simulation until 1 September"
   ]
  },
  {
   "cell_type": "code",
   "execution_count": null,
   "metadata": {
    "ExecuteTime": {
     "end_time": "2020-10-30T17:51:15.869769Z",
     "start_time": "2020-10-30T17:51:15.655962Z"
    }
   },
   "outputs": [],
   "source": [
    "# Load the dictionary containing the posterior parameter distributions obtained from calibrating the model to Belgian hospitalization data\n",
    "with open('../data/interim/model_parameters/provinces/Luik_Aug_2020-10-30.json', 'r') as fp:\n",
    "    samples_dict_aug = json.load(fp)"
   ]
  },
  {
   "cell_type": "code",
   "execution_count": null,
   "metadata": {
    "ExecuteTime": {
     "end_time": "2020-10-30T16:46:49.392786Z",
     "start_time": "2020-10-30T16:46:49.356002Z"
    }
   },
   "outputs": [],
   "source": [
    "# Update this parameter here, the rest is updated by draw_sample_COVID19_SEIRD\n",
    "# model.parameters['policy_time'] = samples_dict_wave1['lag_time']"
   ]
  },
  {
   "cell_type": "code",
   "execution_count": null,
   "metadata": {
    "ExecuteTime": {
     "end_time": "2020-10-30T17:51:24.928761Z",
     "start_time": "2020-10-30T17:51:19.336448Z"
    }
   },
   "outputs": [],
   "source": [
    "out_sept = model_aug.sim(time='2020-09-01', excess_time=0,start_date='2020-08-01',\n",
    "                   N=100, draw_fcn=draw_sample_beta_COVID19_SEIRD,samples=samples_dict_aug)\n",
    "states = out_sept.isel(time=-1).mean(dim=\"draws\")\n",
    "initial_states_sept1 = {key:states[key].values for key in initial_states.keys()}"
   ]
  },
  {
   "cell_type": "code",
   "execution_count": null,
   "metadata": {
    "ExecuteTime": {
     "end_time": "2020-10-30T17:51:33.711786Z",
     "start_time": "2020-10-30T17:51:33.673224Z"
    }
   },
   "outputs": [],
   "source": [
    "np.save('../data/interim/prediction_provinces/Luik_initial_states_sept1.npy', initial_states_sept1)"
   ]
  },
  {
   "cell_type": "code",
   "execution_count": null,
   "metadata": {
    "ExecuteTime": {
     "end_time": "2020-10-30T17:51:25.318521Z",
     "start_time": "2020-10-30T17:51:25.271583Z"
    }
   },
   "outputs": [],
   "source": [
    "initial_states_sept1"
   ]
  },
  {
   "cell_type": "markdown",
   "metadata": {},
   "source": [
    "## Calibration month September"
   ]
  },
  {
   "cell_type": "code",
   "execution_count": null,
   "metadata": {
    "ExecuteTime": {
     "end_time": "2020-10-30T17:51:58.368440Z",
     "start_time": "2020-10-30T17:51:58.330641Z"
    }
   },
   "outputs": [],
   "source": [
    "initial_states_sept1 = np.load('../data/interim/prediction_provinces/Luik_initial_states_sept1.npy', allow_pickle=True).item()"
   ]
  },
  {
   "cell_type": "code",
   "execution_count": null,
   "metadata": {
    "ExecuteTime": {
     "end_time": "2020-10-30T17:52:06.817390Z",
     "start_time": "2020-10-30T17:52:06.780931Z"
    }
   },
   "outputs": [],
   "source": [
    "# Second wave\n",
    "start_date = '2020-09-01'\n",
    "end_beta = '2020-10-01'"
   ]
  },
  {
   "cell_type": "code",
   "execution_count": null,
   "metadata": {
    "ExecuteTime": {
     "end_time": "2020-10-30T17:52:08.496601Z",
     "start_time": "2020-10-30T17:52:08.455785Z"
    }
   },
   "outputs": [],
   "source": [
    "len(Luik_ts.loc[start_date:end_beta])"
   ]
  },
  {
   "cell_type": "code",
   "execution_count": null,
   "metadata": {
    "ExecuteTime": {
     "end_time": "2020-10-30T17:52:15.480377Z",
     "start_time": "2020-10-30T17:52:15.157707Z"
    }
   },
   "outputs": [],
   "source": [
    "# Load the parameters using `get_COVID19_SEIRD_parameters()`.\n",
    "params = model_parameters.get_COVID19_SEIRD_parameters()\n",
    "#model_sept = models.COVID19_SEIRD(initial_states_sept, params)\n",
    "model_sept = models.COVID19_SEIRD(initial_states_sept1, params)"
   ]
  },
  {
   "cell_type": "code",
   "execution_count": null,
   "metadata": {
    "ExecuteTime": {
     "end_time": "2020-10-30T17:52:18.721870Z",
     "start_time": "2020-10-30T17:52:18.524171Z"
    }
   },
   "outputs": [],
   "source": [
    "# function parameters \n",
    "timeseries = Luik_ts['NEW_IN']\n",
    "spatial_unit = 'Luik_Sept'"
   ]
  },
  {
   "cell_type": "code",
   "execution_count": null,
   "metadata": {
    "ExecuteTime": {
     "end_time": "2020-10-30T18:02:55.232222Z",
     "start_time": "2020-10-30T18:02:55.194458Z"
    }
   },
   "outputs": [],
   "source": [
    "beta_init = 0.03\n",
    "sigma_data_init = np.mean(samples_dict_wave1['sigma_data'])"
   ]
  },
  {
   "cell_type": "code",
   "execution_count": null,
   "metadata": {
    "ExecuteTime": {
     "end_time": "2020-10-30T17:52:31.456104Z",
     "start_time": "2020-10-30T17:52:31.416945Z"
    }
   },
   "outputs": [],
   "source": [
    "# mu_beta, std_beta = norm.fit(samples_dict_aug['beta'])\n",
    "# mu_sigma_data, std_sigma_data = norm.fit(samples_dict_wave1['sigma_data']) # should be on aug!\n",
    "# beta_norm_params = (mu_beta, std_beta)\n",
    "# sigma_data_norm_params = (mu_sigma_data, std_sigma_data)"
   ]
  },
  {
   "cell_type": "code",
   "execution_count": null,
   "metadata": {
    "ExecuteTime": {
     "end_time": "2020-10-30T18:06:18.300489Z",
     "start_time": "2020-10-30T18:02:59.457873Z"
    }
   },
   "outputs": [],
   "source": [
    "samples_dict = full_calibration_wave2(model_aug, timeseries, spatial_unit, start_date, end_beta, \n",
    "                                      beta_init, sigma_data_init, None, None,\n",
    "                                      fig_path=fig_path, samples_path=samples_path,\n",
    "                                      initN=initN, Nc_total=Nc_total,steps_mcmc=1000)"
   ]
  },
  {
   "cell_type": "code",
   "execution_count": null,
   "metadata": {
    "ExecuteTime": {
     "end_time": "2020-10-30T18:07:19.956638Z",
     "start_time": "2020-10-30T18:07:19.689726Z"
    }
   },
   "outputs": [],
   "source": [
    "fig,ax = plt.subplots(figsize=(4,4))\n",
    "pd.Series(samples_dict['beta']).hist(ax=ax)"
   ]
  },
  {
   "cell_type": "code",
   "execution_count": null,
   "metadata": {
    "ExecuteTime": {
     "end_time": "2020-10-30T18:07:28.841956Z",
     "start_time": "2020-10-30T18:07:25.461128Z"
    }
   },
   "outputs": [],
   "source": [
    "states = [['H_in']]\n",
    "end_date = end_beta\n",
    "data=[timeseries[start_date:end_beta].values]\n",
    "\n",
    "fig,ax=plt.subplots(figsize=(8,8))\n",
    "for i in range(20):\n",
    "    idx,model_sept.parameters['beta'] = random.choice(list(enumerate(samples_dict['beta'])))\n",
    "    y_model = model_sept.sim(time=end_date, excess_time=0, start_date=start_date)\n",
    "    ax = plot_fit(y_model,data,start_date,lag_time=0,states=states,end_date=end_date,\n",
    "                  with_ints=False,ax=ax,plt_kwargs={'color':'blue','linewidth': 2,'alpha': 0.05})\n",
    "plt.setp(plt.gca().xaxis.get_majorticklabels(),'rotation', 0)\n",
    "#data_after_calib = timeseries[pd.to_datetime(end_ramp)+pd.to_timedelta('1d'):end_date]\n",
    "#plt.scatter(data_after_calib.index, data_after_calib.values, marker='o',color='red',linestyle='None',facecolors='none')\n",
    "legend_text=['daily \\nhospitalizations']\n",
    "ax.set_xlim(start_date, end_date)\n",
    "ax.set_ylabel('daily hospitalizations')\n",
    "fig.savefig(fig_path+spatial_unit+'.pdf',\n",
    "            bbox_inches='tight', dpi=600)"
   ]
  },
  {
   "cell_type": "markdown",
   "metadata": {
    "heading_collapsed": true
   },
   "source": [
    "# Calibration on entire period"
   ]
  },
  {
   "cell_type": "code",
   "execution_count": null,
   "metadata": {
    "ExecuteTime": {
     "end_time": "2020-10-30T16:44:14.843919Z",
     "start_time": "2020-10-30T16:44:14.621688Z"
    },
    "hidden": true
   },
   "outputs": [],
   "source": [
    "# Load the dictionary containing the posterior parameter distributions obtained from calibrating the model to Belgian hospitalization data\n",
    "with open('../data/interim/model_parameters/provinces/Luik_wave1_1000steps_2020-10-28.json', 'r') as fp:\n",
    "    samples_dict_wave1 = json.load(fp)"
   ]
  },
  {
   "cell_type": "code",
   "execution_count": null,
   "metadata": {
    "ExecuteTime": {
     "end_time": "2020-10-30T16:45:37.460957Z",
     "start_time": "2020-10-30T16:45:37.262893Z"
    },
    "hidden": true
   },
   "outputs": [],
   "source": [
    "initial_states_aug = np.load('../data/interim/prediction_provinces/Luik_initial_states_aug.npy', allow_pickle=True).item()"
   ]
  },
  {
   "cell_type": "code",
   "execution_count": null,
   "metadata": {
    "ExecuteTime": {
     "end_time": "2020-10-30T16:44:15.309723Z",
     "start_time": "2020-10-30T16:44:15.273633Z"
    },
    "hidden": true
   },
   "outputs": [],
   "source": [
    "# Second wave\n",
    "start_date = '2020-08-01'\n",
    "end_beta = '2020-10-25'"
   ]
  },
  {
   "cell_type": "code",
   "execution_count": null,
   "metadata": {
    "ExecuteTime": {
     "end_time": "2020-10-30T16:44:15.991976Z",
     "start_time": "2020-10-30T16:44:15.950040Z"
    },
    "hidden": true
   },
   "outputs": [],
   "source": [
    "len(Luik_ts.loc[start_date:end_beta])"
   ]
  },
  {
   "cell_type": "code",
   "execution_count": null,
   "metadata": {
    "ExecuteTime": {
     "end_time": "2020-10-30T16:45:39.249929Z",
     "start_time": "2020-10-30T16:45:38.927522Z"
    },
    "hidden": true
   },
   "outputs": [],
   "source": [
    "# Load the parameters using `get_COVID19_SEIRD_parameters()`.\n",
    "params = model_parameters.get_COVID19_SEIRD_parameters()\n",
    "#model_sept = models.COVID19_SEIRD(initial_states_sept, params)\n",
    "model_aug = models.COVID19_SEIRD(initial_states_aug, params)"
   ]
  },
  {
   "cell_type": "code",
   "execution_count": null,
   "metadata": {
    "ExecuteTime": {
     "end_time": "2020-10-30T16:45:42.221862Z",
     "start_time": "2020-10-30T16:45:42.185330Z"
    },
    "hidden": true
   },
   "outputs": [],
   "source": [
    "# function parameters \n",
    "timeseries = Luik_ts['NEW_IN']\n",
    "spatial_unit = 'Luik_wave2_from_aug_NVD'\n"
   ]
  },
  {
   "cell_type": "code",
   "execution_count": null,
   "metadata": {
    "ExecuteTime": {
     "end_time": "2020-10-30T16:45:43.424521Z",
     "start_time": "2020-10-30T16:45:43.386749Z"
    },
    "hidden": true
   },
   "outputs": [],
   "source": [
    "mu_beta, std_beta = norm.fit(samples_dict_wave1['beta'])\n",
    "mu_sigma_data, std_sigma_data = norm.fit(samples_dict_wave1['beta'])"
   ]
  },
  {
   "cell_type": "code",
   "execution_count": null,
   "metadata": {
    "ExecuteTime": {
     "end_time": "2020-10-30T16:45:43.499159Z",
     "start_time": "2020-10-30T16:45:43.461809Z"
    },
    "hidden": true
   },
   "outputs": [],
   "source": [
    "beta_init = np.mean(samples_dict_wave1['beta'])\n",
    "sigma_data_init = np.mean(samples_dict_wave1['sigma_data'])\n",
    "beta_norm_params = (mu_beta, std_beta)\n",
    "sigma_data_norm_params = (mu_sigma_data, std_sigma_data)"
   ]
  },
  {
   "cell_type": "code",
   "execution_count": null,
   "metadata": {
    "ExecuteTime": {
     "start_time": "2020-10-30T16:45:57.123Z"
    },
    "hidden": true,
    "scrolled": true
   },
   "outputs": [],
   "source": [
    "samples_dict = full_calibration_wave2(model_aug, timeseries, spatial_unit, start_date, end_beta, \n",
    "                                      beta_init, sigma_data_init, beta_norm_params,sigma_data_norm_params,\n",
    "                                      fig_path=fig_path, samples_path=samples_path,\n",
    "                                      initN=initN, Nc_total=Nc_total,steps_mcmc=500)"
   ]
  },
  {
   "cell_type": "code",
   "execution_count": null,
   "metadata": {
    "ExecuteTime": {
     "end_time": "2020-10-30T15:45:24.407966Z",
     "start_time": "2020-10-30T15:45:24.196743Z"
    },
    "hidden": true
   },
   "outputs": [],
   "source": [
    "# Load the dictionary containing the posterior parameter distributions obtained from calibrating the model to Belgian hospitalization data\n",
    "with open('../data/interim/model_parameters/provinces/Luik_wave2_from_aug_NVD_2020-10-30.json', 'r') as fp:\n",
    "    samples_dict = json.load(fp)\n"
   ]
  },
  {
   "cell_type": "code",
   "execution_count": null,
   "metadata": {
    "ExecuteTime": {
     "end_time": "2020-10-30T16:21:36.785703Z",
     "start_time": "2020-10-30T16:21:36.581443Z"
    },
    "hidden": true
   },
   "outputs": [],
   "source": [
    "pd.Series(samples_dict['beta']).describe()"
   ]
  },
  {
   "cell_type": "code",
   "execution_count": null,
   "metadata": {
    "ExecuteTime": {
     "end_time": "2020-10-30T15:45:55.789033Z",
     "start_time": "2020-10-30T15:45:38.264677Z"
    },
    "hidden": true,
    "scrolled": false
   },
   "outputs": [],
   "source": [
    "states = [['H_in']]\n",
    "end_date = '2021-01-01' #end_beta\n",
    "data=[timeseries[start_date:end_beta].values]\n",
    "\n",
    "fig,ax=plt.subplots(figsize=(8,8))\n",
    "for i in range(20):\n",
    "    idx,model_aug.parameters['beta'] = random.choice(list(enumerate(samples_dict['beta'])))\n",
    "    y_model = model_aug.sim(time=end_date, excess_time=0, start_date=start_date)\n",
    "    ax = plot_fit(y_model,data,start_date,lag_time=0,states=states,end_date=end_date,\n",
    "                  with_ints=False,ax=ax,plt_kwargs={'color':'blue','linewidth': 2,'alpha': 0.05})\n",
    "plt.setp(plt.gca().xaxis.get_majorticklabels(),'rotation', 0)\n",
    "#data_after_calib = timeseries[pd.to_datetime(end_ramp)+pd.to_timedelta('1d'):end_date]\n",
    "#plt.scatter(data_after_calib.index, data_after_calib.values, marker='o',color='red',linestyle='None',facecolors='none')\n",
    "legend_text=['daily \\nhospitalizations']\n",
    "ax.set_xlim('2020-08-01', '2021-01-01')\n",
    "ax.set_ylabel('daily hospitalizations')\n",
    "# fig.savefig(fig_path+spatial_unit+'.pdf',\n",
    "#             bbox_inches='tight', dpi=600)"
   ]
  },
  {
   "cell_type": "code",
   "execution_count": null,
   "metadata": {
    "ExecuteTime": {
     "end_time": "2020-10-29T09:00:39.961180Z",
     "start_time": "2020-10-29T09:00:35.679844Z"
    },
    "hidden": true
   },
   "outputs": [],
   "source": [
    "fig.savefig(fig_path+spatial_unit+'.pdf',\n",
    "            bbox_inches='tight', dpi=600)"
   ]
  },
  {
   "cell_type": "markdown",
   "metadata": {},
   "source": [
    "# Calibration on increasing line"
   ]
  },
  {
   "cell_type": "code",
   "execution_count": null,
   "metadata": {
    "ExecuteTime": {
     "end_time": "2020-11-02T10:29:08.435630Z",
     "start_time": "2020-11-02T10:29:08.368416Z"
    }
   },
   "outputs": [],
   "source": [
    "# Load the dictionary containing the posterior parameter distributions obtained from calibrating the model to Belgian hospitalization data\n",
    "with open('../data/interim/model_parameters/provinces/Luik_wave1_1000steps_2020-10-28.json', 'r') as fp:\n",
    "    samples_dict_wave1 = json.load(fp)"
   ]
  },
  {
   "cell_type": "code",
   "execution_count": null,
   "metadata": {
    "ExecuteTime": {
     "end_time": "2020-11-02T10:29:08.835877Z",
     "start_time": "2020-11-02T10:29:08.786568Z"
    }
   },
   "outputs": [],
   "source": [
    "def policies_until_september(t,param,start_date,policy_time,policy1,policy2,policy3,policy4,policy5,\n",
    "                               policy6,policy7,policy8,policy9,policy10,l,tau,prevention):\n",
    "\n",
    "    tau_days = pd.to_timedelta(tau, unit='D')\n",
    "    l_days = pd.to_timedelta(l, unit='D')\n",
    "    t1 = pd.to_datetime('2020-05-04') # reopening industry\n",
    "    t2 = pd.to_datetime('2020-05-06') # merging of two bubbels\n",
    "    t3 = pd.to_datetime('2020-05-11') # reopening of businesses\n",
    "    t4 = pd.to_datetime('2020-05-18') # partial reopening schools\n",
    "    t5 = pd.to_datetime('2020-06-04') # reopening schools, bars, restaurants\n",
    "    t6 = pd.to_datetime('2020-07-01') # school holidays, gatherings 15 people, cultural event\n",
    "    t7 = pd.to_datetime('2020-07-31') # ?\n",
    "    t8 = pd.to_datetime('2020-07-31') # opening schools\n",
    "    \n",
    "    if t <= start_date + tau_days:\n",
    "        return policy1\n",
    "    elif start_date + tau_days < t <= start_date + tau_days + l_days:\n",
    "        return ramp_fun(policy1, policy2, t, tau_days, l, start_date)\n",
    "    elif start_date + tau_days + l_days < t <= t1: \n",
    "        return prevention*policy2\n",
    "    elif t1 < t <= t2:\n",
    "        return prevention*policy3\n",
    "    elif t2 < t <= t3:\n",
    "        return prevention*policy4\n",
    "    elif t3 < t <= t4:\n",
    "        return prevention*policy5\n",
    "    elif t4 < t <= t5:\n",
    "        return prevention*policy6\n",
    "    elif t5 < t <= t6:\n",
    "        return prevention*policy7\n",
    "    elif t6 < t <= t7:\n",
    "        return prevention*policy8\n",
    "    elif t7 < t <= t8:\n",
    "        return prevention*policy9\n",
    "    elif t8 < t:\n",
    "        return prevention*policy10"
   ]
  },
  {
   "cell_type": "code",
   "execution_count": null,
   "metadata": {
    "ExecuteTime": {
     "end_time": "2020-11-02T10:29:10.994356Z",
     "start_time": "2020-11-02T10:29:10.657242Z"
    }
   },
   "outputs": [],
   "source": [
    "# Load the model parameters using `get_COVID19_SEIRD_parameters()`.\n",
    "params = model_parameters.get_COVID19_SEIRD_parameters()\n",
    "\n",
    "params.update({'policy1': Nc_total,\n",
    "              'policy2': 1.0*Nc_home + (1-0.60)*Nc_work + (1-0.70)*Nc_transport + (1-0.30)*Nc_others + (1-0.80)*Nc_leisure,\n",
    "              'policy3': 1.0*Nc_home + (1-0.50)*Nc_work + (1-0.60)*Nc_transport + (1-0.30)*Nc_others + (1-0.70)*Nc_leisure,\n",
    "              'policy4': 1.0*Nc_home + (1-0.40)*Nc_work + (1-0.55)*Nc_transport + (1-0.25)*Nc_others + (1-0.65)*Nc_leisure,\n",
    "              'policy5': 1.0*Nc_home + (1-0.30)*Nc_work + (1-0.50)*Nc_transport + (1-0.20)*Nc_others + (1-0.60)*Nc_leisure,\n",
    "              'policy6': 1.0*Nc_home + (1-0.30)*Nc_work + (1-0.45)*Nc_transport + (1-0.15)*Nc_others + (1-0.85)*Nc_schools + (1-0.50)*Nc_leisure,\n",
    "              'policy7': 1.0*Nc_home + (1-0.25)*Nc_work + (1-0.35)*Nc_transport + (1-0.10)*Nc_others + (1-0.35)*Nc_schools + (1-0.30)*Nc_leisure,\n",
    "              'policy8': 1.0*Nc_home + (1-0.20)*Nc_work + (1-0.25)*Nc_transport + (1-0.05)*Nc_others + (1-0.30)*Nc_leisure,\n",
    "              'policy9': 1.0*Nc_home + (1-0.30)*Nc_work + (1-0.35)*Nc_transport + (1-0.15)*Nc_others + (1-0.40)*Nc_leisure,\n",
    "              'policy10': 1.0*Nc_home + (1-0.00)*Nc_work + (1-0.00)*Nc_transport + (1-0.00)*Nc_others + (1-0.00)*Nc_schools + (1-0.00)*Nc_leisure,\n",
    "              'policy_time': samples_dict_wave1['lag_time'],\n",
    "              'l': 1,\n",
    "              'tau': 5,\n",
    "              'prevention': 0.5,\n",
    "              'start_date':pd.to_datetime('2020-03-15')})\n",
    "\n",
    "# Define the initial condition: one exposed inidividual in every age category\n",
    "initial_states = {'S': initN, 'E': np.ones(levels)}\n",
    "# Initialize the model\n",
    "model = models.COVID19_SEIRD(initial_states, params, time_dependent_parameters={'Nc': policies_until_september})"
   ]
  },
  {
   "cell_type": "code",
   "execution_count": null,
   "metadata": {
    "ExecuteTime": {
     "end_time": "2020-10-30T16:47:19.255536Z",
     "start_time": "2020-10-30T16:46:49.918556Z"
    }
   },
   "outputs": [],
   "source": [
    "out_sept28 = model.sim(time='2020-09-28', excess_time=samples_dict_wave1['lag_time'],start_date='2020-03-15',\n",
    "                   N=100, draw_fcn=draw_sample_COVID19_SEIRD,samples=samples_dict_wave1)\n",
    "states = out_sept28.isel(time=-1).mean(dim=\"draws\")\n",
    "initial_states_sept28 = {key:states[key].values for key in initial_states.keys()}"
   ]
  },
  {
   "cell_type": "code",
   "execution_count": null,
   "metadata": {
    "ExecuteTime": {
     "end_time": "2020-10-30T16:56:35.394679Z",
     "start_time": "2020-10-30T16:56:35.351424Z"
    }
   },
   "outputs": [],
   "source": [
    "np.save('../data/interim/prediction_provinces/Luik_initial_states_july1.npy', initial_states_july1)"
   ]
  },
  {
   "cell_type": "code",
   "execution_count": null,
   "metadata": {},
   "outputs": [],
   "source": []
  },
  {
   "cell_type": "markdown",
   "metadata": {},
   "source": [
    "# Run in parallel"
   ]
  },
  {
   "cell_type": "code",
   "execution_count": null,
   "metadata": {
    "ExecuteTime": {
     "end_time": "2020-09-08T06:47:28.719315Z",
     "start_time": "2020-09-08T06:47:28.681105Z"
    }
   },
   "outputs": [],
   "source": [
    "arr_list = list(nonpublic_ts.NIS.unique())"
   ]
  },
  {
   "cell_type": "code",
   "execution_count": null,
   "metadata": {
    "ExecuteTime": {
     "end_time": "2020-09-08T06:47:28.972641Z",
     "start_time": "2020-09-08T06:47:28.922951Z"
    }
   },
   "outputs": [],
   "source": [
    "def run_me_parallel(arr):\n",
    "    arrond_ts = nonpublic_ts.pivot(index='DATE', columns='NIS', values='hospitalised_IN')[arr]\n",
    "    samples_dict = full_calibration(model, arrond_ts, arr, start_date, end_beta, end_ramp, \n",
    "                                fig_path, samples_path)\n",
    "                                #maxiter=10, popsize=10, steps_mcmc=250)\n",
    "    \n",
    "    states = [['H_in']]\n",
    "    end_date = '2020-09-20'\n",
    "    data=[arrond_ts[start_date:end_ramp].values]\n",
    "    fig,ax=plt.subplots()\n",
    "    for i in range(200):\n",
    "        idx,model.parameters['beta'] = random.choice(list(enumerate(samples_dict['beta'])))\n",
    "        idx,model.parameters['l'] = random.choice(list(enumerate(samples_dict['l'])))\n",
    "        model.parameters['tau'] = samples_dict['tau'][idx]\n",
    "        prevention = samples_dict['prevention'][idx]\n",
    "        # Create a dictionary of past policies\n",
    "        chk = {'time':   [start_date], \n",
    "              'Nc':      [prevention*(Nc_home + 0.4*Nc_work + 0.3*Nc_transport + 0.7*Nc_others + 0.2*Nc_leisure)]\n",
    "              }\n",
    "        y_model = model.sim(time=end_date, excess_time=samples_dict['lag_time'],checkpoints=chk)\n",
    "        ax = plot_fit(y_model,data,start_date,samples_dict['lag_time'],states,end_date=end_date,with_ints=False,ax=ax,plt_kwargs={'color':'blue','linewidth': 2,'alpha': 0.05})\n",
    "\n",
    "    data_after_calib = arrond_ts[pd.to_datetime(end_ramp)+pd.to_timedelta('1d'):end_date]\n",
    "    plt.scatter(data_after_calib.index, data_after_calib.values, marker='o',color='red',linestyle='None',facecolors='none')\n",
    "    legend_text=['daily \\nhospitalizations']\n",
    "    ax.set_xlim('2020-03-10', '2020-08-03')\n",
    "    fig.savefig('../results/calibrations_arrondissements/'+str(arr)+'_'+str(datetime.date.today())+'.pdf',\n",
    "                bbox_inches='tight', dpi=600)\n",
    "    return"
   ]
  },
  {
   "cell_type": "code",
   "execution_count": null,
   "metadata": {
    "ExecuteTime": {
     "end_time": "2020-08-21T21:22:05.230236Z",
     "start_time": "2020-08-21T21:22:05.183627Z"
    }
   },
   "outputs": [],
   "source": [
    "tasks = []\n",
    "for arr in arr_list:\n",
    "    task = dask.delayed(run_me_parallel)(arr)\n",
    "    tasks.append(task)\n",
    "    "
   ]
  },
  {
   "cell_type": "code",
   "execution_count": null,
   "metadata": {
    "ExecuteTime": {
     "end_time": "2020-08-22T04:06:54.088203Z",
     "start_time": "2020-08-21T21:22:20.296014Z"
    }
   },
   "outputs": [],
   "source": [
    "dask.compute(*tasks, scheduler='processes')"
   ]
  },
  {
   "cell_type": "code",
   "execution_count": null,
   "metadata": {
    "ExecuteTime": {
     "end_time": "2020-08-27T15:37:21.955310Z",
     "start_time": "2020-08-27T15:37:21.911174Z"
    }
   },
   "outputs": [],
   "source": [
    "run_date = '2020-08-22'"
   ]
  },
  {
   "cell_type": "code",
   "execution_count": null,
   "metadata": {
    "ExecuteTime": {
     "end_time": "2020-08-27T15:37:22.598066Z",
     "start_time": "2020-08-27T15:37:22.246770Z"
    }
   },
   "outputs": [],
   "source": [
    "with open(samples_path+'44000'+'_'+run_date+'.json', 'r') as fp:\n",
    "    samples_dict = json.load(fp)"
   ]
  },
  {
   "cell_type": "markdown",
   "metadata": {},
   "source": []
  }
 ],
 "metadata": {
  "kernelspec": {
   "display_name": "COVID19",
   "language": "python",
   "name": "python3"
  },
  "language_info": {
   "codemirror_mode": {
    "name": "ipython",
    "version": 3
   },
   "file_extension": ".py",
   "mimetype": "text/x-python",
   "name": "python",
   "nbconvert_exporter": "python",
   "pygments_lexer": "ipython3",
   "version": "3.7.7"
  },
  "toc": {
   "base_numbering": 1,
   "nav_menu": {},
   "number_sections": true,
   "sideBar": true,
   "skip_h1_title": false,
   "title_cell": "Table of Contents",
   "title_sidebar": "Contents",
   "toc_cell": false,
   "toc_position": {
    "height": "calc(100% - 180px)",
    "left": "10px",
    "top": "150px",
    "width": "288px"
   },
   "toc_section_display": true,
   "toc_window_display": true
  }
 },
 "nbformat": 4,
 "nbformat_minor": 4
}
