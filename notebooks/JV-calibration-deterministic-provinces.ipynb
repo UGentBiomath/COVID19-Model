{
 "cells": [
  {
   "cell_type": "markdown",
   "metadata": {},
   "source": [
    "**Calibration of the age-stratified deterministic model**\n",
    "\n",
    "*Original code by Ryan S. McGee. Modified by T.W. Alleman in consultation with the BIOMATH research unit headed by prof. Ingmar Nopens.*\n",
    "\n",
    "Copyright (c) 2020 by T.W. Alleman, BIOMATH, Ghent University. All Rights Reserved.\n",
    "\n",
    "This notebook accompanies our preprint: \"*A deterministic, age-stratified, extended SEIRD model for assessing the effect of non-pharmaceutical interventions on SARS-CoV-2 spread in Belgium*\"(https://doi.org/10.1101/2020.07.17.20156034)"
   ]
  },
  {
   "cell_type": "markdown",
   "metadata": {},
   "source": [
    "# Load required packages"
   ]
  },
  {
   "cell_type": "code",
   "execution_count": 41,
   "metadata": {
    "ExecuteTime": {
     "end_time": "2020-11-02T11:28:55.564134Z",
     "start_time": "2020-11-02T11:28:55.305715Z"
    }
   },
   "outputs": [
    {
     "name": "stdout",
     "output_type": "stream",
     "text": [
      "The autoreload extension is already loaded. To reload it, use:\n",
      "  %reload_ext autoreload\n"
     ]
    }
   ],
   "source": [
    "import random\n",
    "import os\n",
    "import numpy as np\n",
    "%matplotlib notebook\n",
    "import matplotlib.pyplot as plt\n",
    "from IPython.display import Image\n",
    "from ipywidgets import interact,fixed,FloatSlider,IntSlider,ToggleButtons\n",
    "import pandas as pd\n",
    "from datetime import datetime, timedelta\n",
    "import scipy\n",
    "from scipy.integrate import odeint\n",
    "from scipy.stats import norm\n",
    "import matplotlib.dates as mdates\n",
    "import matplotlib\n",
    "import scipy.stats as st\n",
    "\n",
    "import math\n",
    "import xarray as xr\n",
    "import emcee\n",
    "import json\n",
    "import corner\n",
    "\n",
    "from covid19model.optimization import objective_fcns\n",
    "from covid19model.optimization import MCMC\n",
    "from covid19model.models import models\n",
    "from covid19model.data import google\n",
    "from covid19model.data import sciensano\n",
    "from covid19model.data import model_parameters\n",
    "from covid19model.visualization.output import population_status, infected\n",
    "from covid19model.visualization.optimization import plot_fit, traceplot\n",
    "from covid19model.optimization.run_optimization import full_calibration_wave1, full_calibration_wave2\n",
    "from covid19model.models.utils import draw_sample_COVID19_SEIRD\n",
    "\n",
    "\n",
    "# OPTIONAL: Load the \"autoreload\" extension so that package code can change\n",
    "%load_ext autoreload\n",
    "# OPTIONAL: always reload modules so that as you change code in src, it gets loaded\n",
    "%autoreload 2"
   ]
  },
  {
   "cell_type": "code",
   "execution_count": 20,
   "metadata": {
    "ExecuteTime": {
     "end_time": "2020-11-02T11:18:06.948440Z",
     "start_time": "2020-11-02T11:18:06.911626Z"
    }
   },
   "outputs": [],
   "source": [
    "# import dask\n",
    "\n",
    "# from dask.distributed import Client, progress\n",
    "# client = Client(threads_per_worker=16, n_workers=1)\n",
    "# client"
   ]
  },
  {
   "cell_type": "markdown",
   "metadata": {},
   "source": [
    "# Get public data"
   ]
  },
  {
   "cell_type": "code",
   "execution_count": 21,
   "metadata": {
    "ExecuteTime": {
     "end_time": "2020-11-02T11:18:06.987430Z",
     "start_time": "2020-11-02T11:18:06.951182Z"
    }
   },
   "outputs": [],
   "source": [
    "#df_sciensano = sciensano.get_sciensano_COVID19_data(update=False)\n"
   ]
  },
  {
   "cell_type": "code",
   "execution_count": 22,
   "metadata": {
    "ExecuteTime": {
     "end_time": "2020-11-02T11:18:07.040545Z",
     "start_time": "2020-11-02T11:18:06.990004Z"
    }
   },
   "outputs": [],
   "source": [
    "raw_hosp_data = pd.read_csv('../data/raw/sciensano/COVID19BE_HOSP.csv', parse_dates=['DATE'])\n",
    "Luik_hosp_data = raw_hosp_data[raw_hosp_data.PROVINCE=='Liège']"
   ]
  },
  {
   "cell_type": "code",
   "execution_count": 23,
   "metadata": {
    "ExecuteTime": {
     "end_time": "2020-11-02T11:18:07.080503Z",
     "start_time": "2020-11-02T11:18:07.042766Z"
    }
   },
   "outputs": [],
   "source": [
    "#Luik_hosp_data.plot('DATE','NEW_IN')"
   ]
  },
  {
   "cell_type": "code",
   "execution_count": 24,
   "metadata": {
    "ExecuteTime": {
     "end_time": "2020-11-02T11:18:07.122756Z",
     "start_time": "2020-11-02T11:18:07.082694Z"
    },
    "scrolled": true
   },
   "outputs": [],
   "source": [
    "Luik_ts = Luik_hosp_data[['DATE','NEW_IN']].set_index('DATE')"
   ]
  },
  {
   "cell_type": "code",
   "execution_count": 25,
   "metadata": {
    "ExecuteTime": {
     "end_time": "2020-11-02T11:18:07.313725Z",
     "start_time": "2020-11-02T11:18:07.125188Z"
    }
   },
   "outputs": [
    {
     "data": {
      "application/javascript": [
       "/* Put everything inside the global mpl namespace */\n",
       "/* global mpl */\n",
       "window.mpl = {};\n",
       "\n",
       "mpl.get_websocket_type = function () {\n",
       "    if (typeof WebSocket !== 'undefined') {\n",
       "        return WebSocket;\n",
       "    } else if (typeof MozWebSocket !== 'undefined') {\n",
       "        return MozWebSocket;\n",
       "    } else {\n",
       "        alert(\n",
       "            'Your browser does not have WebSocket support. ' +\n",
       "                'Please try Chrome, Safari or Firefox ≥ 6. ' +\n",
       "                'Firefox 4 and 5 are also supported but you ' +\n",
       "                'have to enable WebSockets in about:config.'\n",
       "        );\n",
       "    }\n",
       "};\n",
       "\n",
       "mpl.figure = function (figure_id, websocket, ondownload, parent_element) {\n",
       "    this.id = figure_id;\n",
       "\n",
       "    this.ws = websocket;\n",
       "\n",
       "    this.supports_binary = this.ws.binaryType !== undefined;\n",
       "\n",
       "    if (!this.supports_binary) {\n",
       "        var warnings = document.getElementById('mpl-warnings');\n",
       "        if (warnings) {\n",
       "            warnings.style.display = 'block';\n",
       "            warnings.textContent =\n",
       "                'This browser does not support binary websocket messages. ' +\n",
       "                'Performance may be slow.';\n",
       "        }\n",
       "    }\n",
       "\n",
       "    this.imageObj = new Image();\n",
       "\n",
       "    this.context = undefined;\n",
       "    this.message = undefined;\n",
       "    this.canvas = undefined;\n",
       "    this.rubberband_canvas = undefined;\n",
       "    this.rubberband_context = undefined;\n",
       "    this.format_dropdown = undefined;\n",
       "\n",
       "    this.image_mode = 'full';\n",
       "\n",
       "    this.root = document.createElement('div');\n",
       "    this.root.setAttribute('style', 'display: inline-block');\n",
       "    this._root_extra_style(this.root);\n",
       "\n",
       "    parent_element.appendChild(this.root);\n",
       "\n",
       "    this._init_header(this);\n",
       "    this._init_canvas(this);\n",
       "    this._init_toolbar(this);\n",
       "\n",
       "    var fig = this;\n",
       "\n",
       "    this.waiting = false;\n",
       "\n",
       "    this.ws.onopen = function () {\n",
       "        fig.send_message('supports_binary', { value: fig.supports_binary });\n",
       "        fig.send_message('send_image_mode', {});\n",
       "        if (mpl.ratio !== 1) {\n",
       "            fig.send_message('set_dpi_ratio', { dpi_ratio: mpl.ratio });\n",
       "        }\n",
       "        fig.send_message('refresh', {});\n",
       "    };\n",
       "\n",
       "    this.imageObj.onload = function () {\n",
       "        if (fig.image_mode === 'full') {\n",
       "            // Full images could contain transparency (where diff images\n",
       "            // almost always do), so we need to clear the canvas so that\n",
       "            // there is no ghosting.\n",
       "            fig.context.clearRect(0, 0, fig.canvas.width, fig.canvas.height);\n",
       "        }\n",
       "        fig.context.drawImage(fig.imageObj, 0, 0);\n",
       "    };\n",
       "\n",
       "    this.imageObj.onunload = function () {\n",
       "        fig.ws.close();\n",
       "    };\n",
       "\n",
       "    this.ws.onmessage = this._make_on_message_function(this);\n",
       "\n",
       "    this.ondownload = ondownload;\n",
       "};\n",
       "\n",
       "mpl.figure.prototype._init_header = function () {\n",
       "    var titlebar = document.createElement('div');\n",
       "    titlebar.classList =\n",
       "        'ui-dialog-titlebar ui-widget-header ui-corner-all ui-helper-clearfix';\n",
       "    var titletext = document.createElement('div');\n",
       "    titletext.classList = 'ui-dialog-title';\n",
       "    titletext.setAttribute(\n",
       "        'style',\n",
       "        'width: 100%; text-align: center; padding: 3px;'\n",
       "    );\n",
       "    titlebar.appendChild(titletext);\n",
       "    this.root.appendChild(titlebar);\n",
       "    this.header = titletext;\n",
       "};\n",
       "\n",
       "mpl.figure.prototype._canvas_extra_style = function (_canvas_div) {};\n",
       "\n",
       "mpl.figure.prototype._root_extra_style = function (_canvas_div) {};\n",
       "\n",
       "mpl.figure.prototype._init_canvas = function () {\n",
       "    var fig = this;\n",
       "\n",
       "    var canvas_div = (this.canvas_div = document.createElement('div'));\n",
       "    canvas_div.setAttribute(\n",
       "        'style',\n",
       "        'border: 1px solid #ddd;' +\n",
       "            'box-sizing: content-box;' +\n",
       "            'clear: both;' +\n",
       "            'min-height: 1px;' +\n",
       "            'min-width: 1px;' +\n",
       "            'outline: 0;' +\n",
       "            'overflow: hidden;' +\n",
       "            'position: relative;' +\n",
       "            'resize: both;'\n",
       "    );\n",
       "\n",
       "    function on_keyboard_event_closure(name) {\n",
       "        return function (event) {\n",
       "            return fig.key_event(event, name);\n",
       "        };\n",
       "    }\n",
       "\n",
       "    canvas_div.addEventListener(\n",
       "        'keydown',\n",
       "        on_keyboard_event_closure('key_press')\n",
       "    );\n",
       "    canvas_div.addEventListener(\n",
       "        'keyup',\n",
       "        on_keyboard_event_closure('key_release')\n",
       "    );\n",
       "\n",
       "    this._canvas_extra_style(canvas_div);\n",
       "    this.root.appendChild(canvas_div);\n",
       "\n",
       "    var canvas = (this.canvas = document.createElement('canvas'));\n",
       "    canvas.classList.add('mpl-canvas');\n",
       "    canvas.setAttribute('style', 'box-sizing: content-box;');\n",
       "\n",
       "    this.context = canvas.getContext('2d');\n",
       "\n",
       "    var backingStore =\n",
       "        this.context.backingStorePixelRatio ||\n",
       "        this.context.webkitBackingStorePixelRatio ||\n",
       "        this.context.mozBackingStorePixelRatio ||\n",
       "        this.context.msBackingStorePixelRatio ||\n",
       "        this.context.oBackingStorePixelRatio ||\n",
       "        this.context.backingStorePixelRatio ||\n",
       "        1;\n",
       "\n",
       "    mpl.ratio = (window.devicePixelRatio || 1) / backingStore;\n",
       "\n",
       "    var rubberband_canvas = (this.rubberband_canvas = document.createElement(\n",
       "        'canvas'\n",
       "    ));\n",
       "    rubberband_canvas.setAttribute(\n",
       "        'style',\n",
       "        'box-sizing: content-box; position: absolute; left: 0; top: 0; z-index: 1;'\n",
       "    );\n",
       "\n",
       "    var resizeObserver = new ResizeObserver(function (entries) {\n",
       "        var nentries = entries.length;\n",
       "        for (var i = 0; i < nentries; i++) {\n",
       "            var entry = entries[i];\n",
       "            var width, height;\n",
       "            if (entry.contentBoxSize) {\n",
       "                if (entry.contentBoxSize instanceof Array) {\n",
       "                    // Chrome 84 implements new version of spec.\n",
       "                    width = entry.contentBoxSize[0].inlineSize;\n",
       "                    height = entry.contentBoxSize[0].blockSize;\n",
       "                } else {\n",
       "                    // Firefox implements old version of spec.\n",
       "                    width = entry.contentBoxSize.inlineSize;\n",
       "                    height = entry.contentBoxSize.blockSize;\n",
       "                }\n",
       "            } else {\n",
       "                // Chrome <84 implements even older version of spec.\n",
       "                width = entry.contentRect.width;\n",
       "                height = entry.contentRect.height;\n",
       "            }\n",
       "\n",
       "            // Keep the size of the canvas and rubber band canvas in sync with\n",
       "            // the canvas container.\n",
       "            if (entry.devicePixelContentBoxSize) {\n",
       "                // Chrome 84 implements new version of spec.\n",
       "                canvas.setAttribute(\n",
       "                    'width',\n",
       "                    entry.devicePixelContentBoxSize[0].inlineSize\n",
       "                );\n",
       "                canvas.setAttribute(\n",
       "                    'height',\n",
       "                    entry.devicePixelContentBoxSize[0].blockSize\n",
       "                );\n",
       "            } else {\n",
       "                canvas.setAttribute('width', width * mpl.ratio);\n",
       "                canvas.setAttribute('height', height * mpl.ratio);\n",
       "            }\n",
       "            canvas.setAttribute(\n",
       "                'style',\n",
       "                'width: ' + width + 'px; height: ' + height + 'px;'\n",
       "            );\n",
       "\n",
       "            rubberband_canvas.setAttribute('width', width);\n",
       "            rubberband_canvas.setAttribute('height', height);\n",
       "\n",
       "            // And update the size in Python. We ignore the initial 0/0 size\n",
       "            // that occurs as the element is placed into the DOM, which should\n",
       "            // otherwise not happen due to the minimum size styling.\n",
       "            if (width != 0 && height != 0) {\n",
       "                fig.request_resize(width, height);\n",
       "            }\n",
       "        }\n",
       "    });\n",
       "    resizeObserver.observe(canvas_div);\n",
       "\n",
       "    function on_mouse_event_closure(name) {\n",
       "        return function (event) {\n",
       "            return fig.mouse_event(event, name);\n",
       "        };\n",
       "    }\n",
       "\n",
       "    rubberband_canvas.addEventListener(\n",
       "        'mousedown',\n",
       "        on_mouse_event_closure('button_press')\n",
       "    );\n",
       "    rubberband_canvas.addEventListener(\n",
       "        'mouseup',\n",
       "        on_mouse_event_closure('button_release')\n",
       "    );\n",
       "    // Throttle sequential mouse events to 1 every 20ms.\n",
       "    rubberband_canvas.addEventListener(\n",
       "        'mousemove',\n",
       "        on_mouse_event_closure('motion_notify')\n",
       "    );\n",
       "\n",
       "    rubberband_canvas.addEventListener(\n",
       "        'mouseenter',\n",
       "        on_mouse_event_closure('figure_enter')\n",
       "    );\n",
       "    rubberband_canvas.addEventListener(\n",
       "        'mouseleave',\n",
       "        on_mouse_event_closure('figure_leave')\n",
       "    );\n",
       "\n",
       "    canvas_div.addEventListener('wheel', function (event) {\n",
       "        if (event.deltaY < 0) {\n",
       "            event.step = 1;\n",
       "        } else {\n",
       "            event.step = -1;\n",
       "        }\n",
       "        on_mouse_event_closure('scroll')(event);\n",
       "    });\n",
       "\n",
       "    canvas_div.appendChild(canvas);\n",
       "    canvas_div.appendChild(rubberband_canvas);\n",
       "\n",
       "    this.rubberband_context = rubberband_canvas.getContext('2d');\n",
       "    this.rubberband_context.strokeStyle = '#000000';\n",
       "\n",
       "    this._resize_canvas = function (width, height, forward) {\n",
       "        if (forward) {\n",
       "            canvas_div.style.width = width + 'px';\n",
       "            canvas_div.style.height = height + 'px';\n",
       "        }\n",
       "    };\n",
       "\n",
       "    // Disable right mouse context menu.\n",
       "    this.rubberband_canvas.addEventListener('contextmenu', function (_e) {\n",
       "        event.preventDefault();\n",
       "        return false;\n",
       "    });\n",
       "\n",
       "    function set_focus() {\n",
       "        canvas.focus();\n",
       "        canvas_div.focus();\n",
       "    }\n",
       "\n",
       "    window.setTimeout(set_focus, 100);\n",
       "};\n",
       "\n",
       "mpl.figure.prototype._init_toolbar = function () {\n",
       "    var fig = this;\n",
       "\n",
       "    var toolbar = document.createElement('div');\n",
       "    toolbar.classList = 'mpl-toolbar';\n",
       "    this.root.appendChild(toolbar);\n",
       "\n",
       "    function on_click_closure(name) {\n",
       "        return function (_event) {\n",
       "            return fig.toolbar_button_onclick(name);\n",
       "        };\n",
       "    }\n",
       "\n",
       "    function on_mouseover_closure(tooltip) {\n",
       "        return function (event) {\n",
       "            if (!event.currentTarget.disabled) {\n",
       "                return fig.toolbar_button_onmouseover(tooltip);\n",
       "            }\n",
       "        };\n",
       "    }\n",
       "\n",
       "    fig.buttons = {};\n",
       "    var buttonGroup = document.createElement('div');\n",
       "    buttonGroup.classList = 'mpl-button-group';\n",
       "    for (var toolbar_ind in mpl.toolbar_items) {\n",
       "        var name = mpl.toolbar_items[toolbar_ind][0];\n",
       "        var tooltip = mpl.toolbar_items[toolbar_ind][1];\n",
       "        var image = mpl.toolbar_items[toolbar_ind][2];\n",
       "        var method_name = mpl.toolbar_items[toolbar_ind][3];\n",
       "\n",
       "        if (!name) {\n",
       "            /* Instead of a spacer, we start a new button group. */\n",
       "            if (buttonGroup.hasChildNodes()) {\n",
       "                toolbar.appendChild(buttonGroup);\n",
       "            }\n",
       "            buttonGroup = document.createElement('div');\n",
       "            buttonGroup.classList = 'mpl-button-group';\n",
       "            continue;\n",
       "        }\n",
       "\n",
       "        var button = (fig.buttons[name] = document.createElement('button'));\n",
       "        button.classList = 'mpl-widget';\n",
       "        button.setAttribute('role', 'button');\n",
       "        button.setAttribute('aria-disabled', 'false');\n",
       "        button.addEventListener('click', on_click_closure(method_name));\n",
       "        button.addEventListener('mouseover', on_mouseover_closure(tooltip));\n",
       "\n",
       "        var icon_img = document.createElement('img');\n",
       "        icon_img.src = '_images/' + image + '.png';\n",
       "        icon_img.srcset = '_images/' + image + '_large.png 2x';\n",
       "        icon_img.alt = tooltip;\n",
       "        button.appendChild(icon_img);\n",
       "\n",
       "        buttonGroup.appendChild(button);\n",
       "    }\n",
       "\n",
       "    if (buttonGroup.hasChildNodes()) {\n",
       "        toolbar.appendChild(buttonGroup);\n",
       "    }\n",
       "\n",
       "    var fmt_picker = document.createElement('select');\n",
       "    fmt_picker.classList = 'mpl-widget';\n",
       "    toolbar.appendChild(fmt_picker);\n",
       "    this.format_dropdown = fmt_picker;\n",
       "\n",
       "    for (var ind in mpl.extensions) {\n",
       "        var fmt = mpl.extensions[ind];\n",
       "        var option = document.createElement('option');\n",
       "        option.selected = fmt === mpl.default_extension;\n",
       "        option.innerHTML = fmt;\n",
       "        fmt_picker.appendChild(option);\n",
       "    }\n",
       "\n",
       "    var status_bar = document.createElement('span');\n",
       "    status_bar.classList = 'mpl-message';\n",
       "    toolbar.appendChild(status_bar);\n",
       "    this.message = status_bar;\n",
       "};\n",
       "\n",
       "mpl.figure.prototype.request_resize = function (x_pixels, y_pixels) {\n",
       "    // Request matplotlib to resize the figure. Matplotlib will then trigger a resize in the client,\n",
       "    // which will in turn request a refresh of the image.\n",
       "    this.send_message('resize', { width: x_pixels, height: y_pixels });\n",
       "};\n",
       "\n",
       "mpl.figure.prototype.send_message = function (type, properties) {\n",
       "    properties['type'] = type;\n",
       "    properties['figure_id'] = this.id;\n",
       "    this.ws.send(JSON.stringify(properties));\n",
       "};\n",
       "\n",
       "mpl.figure.prototype.send_draw_message = function () {\n",
       "    if (!this.waiting) {\n",
       "        this.waiting = true;\n",
       "        this.ws.send(JSON.stringify({ type: 'draw', figure_id: this.id }));\n",
       "    }\n",
       "};\n",
       "\n",
       "mpl.figure.prototype.handle_save = function (fig, _msg) {\n",
       "    var format_dropdown = fig.format_dropdown;\n",
       "    var format = format_dropdown.options[format_dropdown.selectedIndex].value;\n",
       "    fig.ondownload(fig, format);\n",
       "};\n",
       "\n",
       "mpl.figure.prototype.handle_resize = function (fig, msg) {\n",
       "    var size = msg['size'];\n",
       "    if (size[0] !== fig.canvas.width || size[1] !== fig.canvas.height) {\n",
       "        fig._resize_canvas(size[0], size[1], msg['forward']);\n",
       "        fig.send_message('refresh', {});\n",
       "    }\n",
       "};\n",
       "\n",
       "mpl.figure.prototype.handle_rubberband = function (fig, msg) {\n",
       "    var x0 = msg['x0'] / mpl.ratio;\n",
       "    var y0 = (fig.canvas.height - msg['y0']) / mpl.ratio;\n",
       "    var x1 = msg['x1'] / mpl.ratio;\n",
       "    var y1 = (fig.canvas.height - msg['y1']) / mpl.ratio;\n",
       "    x0 = Math.floor(x0) + 0.5;\n",
       "    y0 = Math.floor(y0) + 0.5;\n",
       "    x1 = Math.floor(x1) + 0.5;\n",
       "    y1 = Math.floor(y1) + 0.5;\n",
       "    var min_x = Math.min(x0, x1);\n",
       "    var min_y = Math.min(y0, y1);\n",
       "    var width = Math.abs(x1 - x0);\n",
       "    var height = Math.abs(y1 - y0);\n",
       "\n",
       "    fig.rubberband_context.clearRect(\n",
       "        0,\n",
       "        0,\n",
       "        fig.canvas.width / mpl.ratio,\n",
       "        fig.canvas.height / mpl.ratio\n",
       "    );\n",
       "\n",
       "    fig.rubberband_context.strokeRect(min_x, min_y, width, height);\n",
       "};\n",
       "\n",
       "mpl.figure.prototype.handle_figure_label = function (fig, msg) {\n",
       "    // Updates the figure title.\n",
       "    fig.header.textContent = msg['label'];\n",
       "};\n",
       "\n",
       "mpl.figure.prototype.handle_cursor = function (fig, msg) {\n",
       "    var cursor = msg['cursor'];\n",
       "    switch (cursor) {\n",
       "        case 0:\n",
       "            cursor = 'pointer';\n",
       "            break;\n",
       "        case 1:\n",
       "            cursor = 'default';\n",
       "            break;\n",
       "        case 2:\n",
       "            cursor = 'crosshair';\n",
       "            break;\n",
       "        case 3:\n",
       "            cursor = 'move';\n",
       "            break;\n",
       "    }\n",
       "    fig.rubberband_canvas.style.cursor = cursor;\n",
       "};\n",
       "\n",
       "mpl.figure.prototype.handle_message = function (fig, msg) {\n",
       "    fig.message.textContent = msg['message'];\n",
       "};\n",
       "\n",
       "mpl.figure.prototype.handle_draw = function (fig, _msg) {\n",
       "    // Request the server to send over a new figure.\n",
       "    fig.send_draw_message();\n",
       "};\n",
       "\n",
       "mpl.figure.prototype.handle_image_mode = function (fig, msg) {\n",
       "    fig.image_mode = msg['mode'];\n",
       "};\n",
       "\n",
       "mpl.figure.prototype.handle_history_buttons = function (fig, msg) {\n",
       "    for (var key in msg) {\n",
       "        if (!(key in fig.buttons)) {\n",
       "            continue;\n",
       "        }\n",
       "        fig.buttons[key].disabled = !msg[key];\n",
       "        fig.buttons[key].setAttribute('aria-disabled', !msg[key]);\n",
       "    }\n",
       "};\n",
       "\n",
       "mpl.figure.prototype.handle_navigate_mode = function (fig, msg) {\n",
       "    if (msg['mode'] === 'PAN') {\n",
       "        fig.buttons['Pan'].classList.add('active');\n",
       "        fig.buttons['Zoom'].classList.remove('active');\n",
       "    } else if (msg['mode'] === 'ZOOM') {\n",
       "        fig.buttons['Pan'].classList.remove('active');\n",
       "        fig.buttons['Zoom'].classList.add('active');\n",
       "    } else {\n",
       "        fig.buttons['Pan'].classList.remove('active');\n",
       "        fig.buttons['Zoom'].classList.remove('active');\n",
       "    }\n",
       "};\n",
       "\n",
       "mpl.figure.prototype.updated_canvas_event = function () {\n",
       "    // Called whenever the canvas gets updated.\n",
       "    this.send_message('ack', {});\n",
       "};\n",
       "\n",
       "// A function to construct a web socket function for onmessage handling.\n",
       "// Called in the figure constructor.\n",
       "mpl.figure.prototype._make_on_message_function = function (fig) {\n",
       "    return function socket_on_message(evt) {\n",
       "        if (evt.data instanceof Blob) {\n",
       "            /* FIXME: We get \"Resource interpreted as Image but\n",
       "             * transferred with MIME type text/plain:\" errors on\n",
       "             * Chrome.  But how to set the MIME type?  It doesn't seem\n",
       "             * to be part of the websocket stream */\n",
       "            evt.data.type = 'image/png';\n",
       "\n",
       "            /* Free the memory for the previous frames */\n",
       "            if (fig.imageObj.src) {\n",
       "                (window.URL || window.webkitURL).revokeObjectURL(\n",
       "                    fig.imageObj.src\n",
       "                );\n",
       "            }\n",
       "\n",
       "            fig.imageObj.src = (window.URL || window.webkitURL).createObjectURL(\n",
       "                evt.data\n",
       "            );\n",
       "            fig.updated_canvas_event();\n",
       "            fig.waiting = false;\n",
       "            return;\n",
       "        } else if (\n",
       "            typeof evt.data === 'string' &&\n",
       "            evt.data.slice(0, 21) === 'data:image/png;base64'\n",
       "        ) {\n",
       "            fig.imageObj.src = evt.data;\n",
       "            fig.updated_canvas_event();\n",
       "            fig.waiting = false;\n",
       "            return;\n",
       "        }\n",
       "\n",
       "        var msg = JSON.parse(evt.data);\n",
       "        var msg_type = msg['type'];\n",
       "\n",
       "        // Call the  \"handle_{type}\" callback, which takes\n",
       "        // the figure and JSON message as its only arguments.\n",
       "        try {\n",
       "            var callback = fig['handle_' + msg_type];\n",
       "        } catch (e) {\n",
       "            console.log(\n",
       "                \"No handler for the '\" + msg_type + \"' message type: \",\n",
       "                msg\n",
       "            );\n",
       "            return;\n",
       "        }\n",
       "\n",
       "        if (callback) {\n",
       "            try {\n",
       "                // console.log(\"Handling '\" + msg_type + \"' message: \", msg);\n",
       "                callback(fig, msg);\n",
       "            } catch (e) {\n",
       "                console.log(\n",
       "                    \"Exception inside the 'handler_\" + msg_type + \"' callback:\",\n",
       "                    e,\n",
       "                    e.stack,\n",
       "                    msg\n",
       "                );\n",
       "            }\n",
       "        }\n",
       "    };\n",
       "};\n",
       "\n",
       "// from http://stackoverflow.com/questions/1114465/getting-mouse-location-in-canvas\n",
       "mpl.findpos = function (e) {\n",
       "    //this section is from http://www.quirksmode.org/js/events_properties.html\n",
       "    var targ;\n",
       "    if (!e) {\n",
       "        e = window.event;\n",
       "    }\n",
       "    if (e.target) {\n",
       "        targ = e.target;\n",
       "    } else if (e.srcElement) {\n",
       "        targ = e.srcElement;\n",
       "    }\n",
       "    if (targ.nodeType === 3) {\n",
       "        // defeat Safari bug\n",
       "        targ = targ.parentNode;\n",
       "    }\n",
       "\n",
       "    // pageX,Y are the mouse positions relative to the document\n",
       "    var boundingRect = targ.getBoundingClientRect();\n",
       "    var x = e.pageX - (boundingRect.left + document.body.scrollLeft);\n",
       "    var y = e.pageY - (boundingRect.top + document.body.scrollTop);\n",
       "\n",
       "    return { x: x, y: y };\n",
       "};\n",
       "\n",
       "/*\n",
       " * return a copy of an object with only non-object keys\n",
       " * we need this to avoid circular references\n",
       " * http://stackoverflow.com/a/24161582/3208463\n",
       " */\n",
       "function simpleKeys(original) {\n",
       "    return Object.keys(original).reduce(function (obj, key) {\n",
       "        if (typeof original[key] !== 'object') {\n",
       "            obj[key] = original[key];\n",
       "        }\n",
       "        return obj;\n",
       "    }, {});\n",
       "}\n",
       "\n",
       "mpl.figure.prototype.mouse_event = function (event, name) {\n",
       "    var canvas_pos = mpl.findpos(event);\n",
       "\n",
       "    if (name === 'button_press') {\n",
       "        this.canvas.focus();\n",
       "        this.canvas_div.focus();\n",
       "    }\n",
       "\n",
       "    var x = canvas_pos.x * mpl.ratio;\n",
       "    var y = canvas_pos.y * mpl.ratio;\n",
       "\n",
       "    this.send_message(name, {\n",
       "        x: x,\n",
       "        y: y,\n",
       "        button: event.button,\n",
       "        step: event.step,\n",
       "        guiEvent: simpleKeys(event),\n",
       "    });\n",
       "\n",
       "    /* This prevents the web browser from automatically changing to\n",
       "     * the text insertion cursor when the button is pressed.  We want\n",
       "     * to control all of the cursor setting manually through the\n",
       "     * 'cursor' event from matplotlib */\n",
       "    event.preventDefault();\n",
       "    return false;\n",
       "};\n",
       "\n",
       "mpl.figure.prototype._key_event_extra = function (_event, _name) {\n",
       "    // Handle any extra behaviour associated with a key event\n",
       "};\n",
       "\n",
       "mpl.figure.prototype.key_event = function (event, name) {\n",
       "    // Prevent repeat events\n",
       "    if (name === 'key_press') {\n",
       "        if (event.which === this._key) {\n",
       "            return;\n",
       "        } else {\n",
       "            this._key = event.which;\n",
       "        }\n",
       "    }\n",
       "    if (name === 'key_release') {\n",
       "        this._key = null;\n",
       "    }\n",
       "\n",
       "    var value = '';\n",
       "    if (event.ctrlKey && event.which !== 17) {\n",
       "        value += 'ctrl+';\n",
       "    }\n",
       "    if (event.altKey && event.which !== 18) {\n",
       "        value += 'alt+';\n",
       "    }\n",
       "    if (event.shiftKey && event.which !== 16) {\n",
       "        value += 'shift+';\n",
       "    }\n",
       "\n",
       "    value += 'k';\n",
       "    value += event.which.toString();\n",
       "\n",
       "    this._key_event_extra(event, name);\n",
       "\n",
       "    this.send_message(name, { key: value, guiEvent: simpleKeys(event) });\n",
       "    return false;\n",
       "};\n",
       "\n",
       "mpl.figure.prototype.toolbar_button_onclick = function (name) {\n",
       "    if (name === 'download') {\n",
       "        this.handle_save(this, null);\n",
       "    } else {\n",
       "        this.send_message('toolbar_button', { name: name });\n",
       "    }\n",
       "};\n",
       "\n",
       "mpl.figure.prototype.toolbar_button_onmouseover = function (tooltip) {\n",
       "    this.message.textContent = tooltip;\n",
       "};\n",
       "mpl.toolbar_items = [[\"Home\", \"Reset original view\", \"fa fa-home icon-home\", \"home\"], [\"Back\", \"Back to previous view\", \"fa fa-arrow-left icon-arrow-left\", \"back\"], [\"Forward\", \"Forward to next view\", \"fa fa-arrow-right icon-arrow-right\", \"forward\"], [\"\", \"\", \"\", \"\"], [\"Pan\", \"Left button pans, Right button zooms\\nx/y fixes axis, CTRL fixes aspect\", \"fa fa-arrows icon-move\", \"pan\"], [\"Zoom\", \"Zoom to rectangle\\nx/y fixes axis, CTRL fixes aspect\", \"fa fa-square-o icon-check-empty\", \"zoom\"], [\"\", \"\", \"\", \"\"], [\"Download\", \"Download plot\", \"fa fa-floppy-o icon-save\", \"download\"]];\n",
       "\n",
       "mpl.extensions = [\"eps\", \"jpeg\", \"pdf\", \"png\", \"ps\", \"raw\", \"svg\", \"tif\"];\n",
       "\n",
       "mpl.default_extension = \"png\";/* global mpl */\n",
       "\n",
       "var comm_websocket_adapter = function (comm) {\n",
       "    // Create a \"websocket\"-like object which calls the given IPython comm\n",
       "    // object with the appropriate methods. Currently this is a non binary\n",
       "    // socket, so there is still some room for performance tuning.\n",
       "    var ws = {};\n",
       "\n",
       "    ws.close = function () {\n",
       "        comm.close();\n",
       "    };\n",
       "    ws.send = function (m) {\n",
       "        //console.log('sending', m);\n",
       "        comm.send(m);\n",
       "    };\n",
       "    // Register the callback with on_msg.\n",
       "    comm.on_msg(function (msg) {\n",
       "        //console.log('receiving', msg['content']['data'], msg);\n",
       "        // Pass the mpl event to the overridden (by mpl) onmessage function.\n",
       "        ws.onmessage(msg['content']['data']);\n",
       "    });\n",
       "    return ws;\n",
       "};\n",
       "\n",
       "mpl.mpl_figure_comm = function (comm, msg) {\n",
       "    // This is the function which gets called when the mpl process\n",
       "    // starts-up an IPython Comm through the \"matplotlib\" channel.\n",
       "\n",
       "    var id = msg.content.data.id;\n",
       "    // Get hold of the div created by the display call when the Comm\n",
       "    // socket was opened in Python.\n",
       "    var element = document.getElementById(id);\n",
       "    var ws_proxy = comm_websocket_adapter(comm);\n",
       "\n",
       "    function ondownload(figure, _format) {\n",
       "        window.open(figure.canvas.toDataURL());\n",
       "    }\n",
       "\n",
       "    var fig = new mpl.figure(id, ws_proxy, ondownload, element);\n",
       "\n",
       "    // Call onopen now - mpl needs it, as it is assuming we've passed it a real\n",
       "    // web socket which is closed, not our websocket->open comm proxy.\n",
       "    ws_proxy.onopen();\n",
       "\n",
       "    fig.parent_element = element;\n",
       "    fig.cell_info = mpl.find_output_cell(\"<div id='\" + id + \"'></div>\");\n",
       "    if (!fig.cell_info) {\n",
       "        console.error('Failed to find cell for figure', id, fig);\n",
       "        return;\n",
       "    }\n",
       "};\n",
       "\n",
       "mpl.figure.prototype.handle_close = function (fig, msg) {\n",
       "    var width = fig.canvas.width / mpl.ratio;\n",
       "    fig.root.removeEventListener('remove', this._remove_fig_handler);\n",
       "\n",
       "    // Update the output cell to use the data from the current canvas.\n",
       "    fig.push_to_output();\n",
       "    var dataURL = fig.canvas.toDataURL();\n",
       "    // Re-enable the keyboard manager in IPython - without this line, in FF,\n",
       "    // the notebook keyboard shortcuts fail.\n",
       "    IPython.keyboard_manager.enable();\n",
       "    fig.parent_element.innerHTML =\n",
       "        '<img src=\"' + dataURL + '\" width=\"' + width + '\">';\n",
       "    fig.close_ws(fig, msg);\n",
       "};\n",
       "\n",
       "mpl.figure.prototype.close_ws = function (fig, msg) {\n",
       "    fig.send_message('closing', msg);\n",
       "    // fig.ws.close()\n",
       "};\n",
       "\n",
       "mpl.figure.prototype.push_to_output = function (_remove_interactive) {\n",
       "    // Turn the data on the canvas into data in the output cell.\n",
       "    var width = this.canvas.width / mpl.ratio;\n",
       "    var dataURL = this.canvas.toDataURL();\n",
       "    this.cell_info[1]['text/html'] =\n",
       "        '<img src=\"' + dataURL + '\" width=\"' + width + '\">';\n",
       "};\n",
       "\n",
       "mpl.figure.prototype.updated_canvas_event = function () {\n",
       "    // Tell IPython that the notebook contents must change.\n",
       "    IPython.notebook.set_dirty(true);\n",
       "    this.send_message('ack', {});\n",
       "    var fig = this;\n",
       "    // Wait a second, then push the new image to the DOM so\n",
       "    // that it is saved nicely (might be nice to debounce this).\n",
       "    setTimeout(function () {\n",
       "        fig.push_to_output();\n",
       "    }, 1000);\n",
       "};\n",
       "\n",
       "mpl.figure.prototype._init_toolbar = function () {\n",
       "    var fig = this;\n",
       "\n",
       "    var toolbar = document.createElement('div');\n",
       "    toolbar.classList = 'btn-toolbar';\n",
       "    this.root.appendChild(toolbar);\n",
       "\n",
       "    function on_click_closure(name) {\n",
       "        return function (_event) {\n",
       "            return fig.toolbar_button_onclick(name);\n",
       "        };\n",
       "    }\n",
       "\n",
       "    function on_mouseover_closure(tooltip) {\n",
       "        return function (event) {\n",
       "            if (!event.currentTarget.disabled) {\n",
       "                return fig.toolbar_button_onmouseover(tooltip);\n",
       "            }\n",
       "        };\n",
       "    }\n",
       "\n",
       "    fig.buttons = {};\n",
       "    var buttonGroup = document.createElement('div');\n",
       "    buttonGroup.classList = 'btn-group';\n",
       "    var button;\n",
       "    for (var toolbar_ind in mpl.toolbar_items) {\n",
       "        var name = mpl.toolbar_items[toolbar_ind][0];\n",
       "        var tooltip = mpl.toolbar_items[toolbar_ind][1];\n",
       "        var image = mpl.toolbar_items[toolbar_ind][2];\n",
       "        var method_name = mpl.toolbar_items[toolbar_ind][3];\n",
       "\n",
       "        if (!name) {\n",
       "            /* Instead of a spacer, we start a new button group. */\n",
       "            if (buttonGroup.hasChildNodes()) {\n",
       "                toolbar.appendChild(buttonGroup);\n",
       "            }\n",
       "            buttonGroup = document.createElement('div');\n",
       "            buttonGroup.classList = 'btn-group';\n",
       "            continue;\n",
       "        }\n",
       "\n",
       "        button = fig.buttons[name] = document.createElement('button');\n",
       "        button.classList = 'btn btn-default';\n",
       "        button.href = '#';\n",
       "        button.title = name;\n",
       "        button.innerHTML = '<i class=\"fa ' + image + ' fa-lg\"></i>';\n",
       "        button.addEventListener('click', on_click_closure(method_name));\n",
       "        button.addEventListener('mouseover', on_mouseover_closure(tooltip));\n",
       "        buttonGroup.appendChild(button);\n",
       "    }\n",
       "\n",
       "    if (buttonGroup.hasChildNodes()) {\n",
       "        toolbar.appendChild(buttonGroup);\n",
       "    }\n",
       "\n",
       "    // Add the status bar.\n",
       "    var status_bar = document.createElement('span');\n",
       "    status_bar.classList = 'mpl-message pull-right';\n",
       "    toolbar.appendChild(status_bar);\n",
       "    this.message = status_bar;\n",
       "\n",
       "    // Add the close button to the window.\n",
       "    var buttongrp = document.createElement('div');\n",
       "    buttongrp.classList = 'btn-group inline pull-right';\n",
       "    button = document.createElement('button');\n",
       "    button.classList = 'btn btn-mini btn-primary';\n",
       "    button.href = '#';\n",
       "    button.title = 'Stop Interaction';\n",
       "    button.innerHTML = '<i class=\"fa fa-power-off icon-remove icon-large\"></i>';\n",
       "    button.addEventListener('click', function (_evt) {\n",
       "        fig.handle_close(fig, {});\n",
       "    });\n",
       "    button.addEventListener(\n",
       "        'mouseover',\n",
       "        on_mouseover_closure('Stop Interaction')\n",
       "    );\n",
       "    buttongrp.appendChild(button);\n",
       "    var titlebar = this.root.querySelector('.ui-dialog-titlebar');\n",
       "    titlebar.insertBefore(buttongrp, titlebar.firstChild);\n",
       "};\n",
       "\n",
       "mpl.figure.prototype._remove_fig_handler = function () {\n",
       "    this.close_ws(this, {});\n",
       "};\n",
       "\n",
       "mpl.figure.prototype._root_extra_style = function (el) {\n",
       "    el.style.boxSizing = 'content-box'; // override notebook setting of border-box.\n",
       "    el.addEventListener('remove', this._remove_fig_handler);\n",
       "};\n",
       "\n",
       "mpl.figure.prototype._canvas_extra_style = function (el) {\n",
       "    // this is important to make the div 'focusable\n",
       "    el.setAttribute('tabindex', 0);\n",
       "    // reach out to IPython and tell the keyboard manager to turn it's self\n",
       "    // off when our div gets focus\n",
       "\n",
       "    // location in version 3\n",
       "    if (IPython.notebook.keyboard_manager) {\n",
       "        IPython.notebook.keyboard_manager.register_events(el);\n",
       "    } else {\n",
       "        // location in version 2\n",
       "        IPython.keyboard_manager.register_events(el);\n",
       "    }\n",
       "};\n",
       "\n",
       "mpl.figure.prototype._key_event_extra = function (event, _name) {\n",
       "    var manager = IPython.notebook.keyboard_manager;\n",
       "    if (!manager) {\n",
       "        manager = IPython.keyboard_manager;\n",
       "    }\n",
       "\n",
       "    // Check for shift+enter\n",
       "    if (event.shiftKey && event.which === 13) {\n",
       "        this.canvas_div.blur();\n",
       "        // select the cell after this one\n",
       "        var index = IPython.notebook.find_cell_index(this.cell_info[0]);\n",
       "        IPython.notebook.select(index + 1);\n",
       "    }\n",
       "};\n",
       "\n",
       "mpl.figure.prototype.handle_save = function (fig, _msg) {\n",
       "    fig.ondownload(fig, null);\n",
       "};\n",
       "\n",
       "mpl.find_output_cell = function (html_output) {\n",
       "    // Return the cell and output element which can be found *uniquely* in the notebook.\n",
       "    // Note - this is a bit hacky, but it is done because the \"notebook_saving.Notebook\"\n",
       "    // IPython event is triggered only after the cells have been serialised, which for\n",
       "    // our purposes (turning an active figure into a static one), is too late.\n",
       "    var cells = IPython.notebook.get_cells();\n",
       "    var ncells = cells.length;\n",
       "    for (var i = 0; i < ncells; i++) {\n",
       "        var cell = cells[i];\n",
       "        if (cell.cell_type === 'code') {\n",
       "            for (var j = 0; j < cell.output_area.outputs.length; j++) {\n",
       "                var data = cell.output_area.outputs[j];\n",
       "                if (data.data) {\n",
       "                    // IPython >= 3 moved mimebundle to data attribute of output\n",
       "                    data = data.data;\n",
       "                }\n",
       "                if (data['text/html'] === html_output) {\n",
       "                    return [cell, data, j];\n",
       "                }\n",
       "            }\n",
       "        }\n",
       "    }\n",
       "};\n",
       "\n",
       "// Register the function which deals with the matplotlib target/channel.\n",
       "// The kernel may be null if the page has been refreshed.\n",
       "if (IPython.notebook.kernel !== null) {\n",
       "    IPython.notebook.kernel.comm_manager.register_target(\n",
       "        'matplotlib',\n",
       "        mpl.mpl_figure_comm\n",
       "    );\n",
       "}\n"
      ],
      "text/plain": [
       "<IPython.core.display.Javascript object>"
      ]
     },
     "metadata": {},
     "output_type": "display_data"
    },
    {
     "data": {
      "text/html": [
       "<img src=\"data:image/png;base64,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\" width=\"640\">"
      ],
      "text/plain": [
       "<IPython.core.display.HTML object>"
      ]
     },
     "metadata": {},
     "output_type": "display_data"
    },
    {
     "data": {
      "text/plain": [
       "(18475.0, 18567.0)"
      ]
     },
     "execution_count": 25,
     "metadata": {},
     "output_type": "execute_result"
    }
   ],
   "source": [
    "fig,ax = plt.subplots()\n",
    "Luik_ts.reset_index() .plot('DATE','NEW_IN', logy=True, ax=ax)\n",
    "ax.set_xlim('2020-08-01', '2020-11-01')"
   ]
  },
  {
   "cell_type": "markdown",
   "metadata": {},
   "source": [
    "# Load data"
   ]
  },
  {
   "cell_type": "code",
   "execution_count": 26,
   "metadata": {
    "ExecuteTime": {
     "end_time": "2020-11-02T11:18:07.654641Z",
     "start_time": "2020-11-02T11:18:07.317403Z"
    }
   },
   "outputs": [],
   "source": [
    "# Load the interaction matrices (size: 9x9)\n",
    "initN, Nc_home, Nc_work, Nc_schools, Nc_transport, Nc_leisure, Nc_others, Nc_total = model_parameters.get_interaction_matrices(dataset='willem_2012')\n",
    "# Define the number of age categories\n",
    "levels = initN.size\n",
    "#province_names = pd.read_csv('../data/raw/GIS/NIS_province.csv')\n",
    "initN_province = pd.read_csv('../data/interim/demographic/initN_province.csv')\n",
    "initN = np.array(list(initN_province.set_index('NIS').loc[60000].iloc[:9]))"
   ]
  },
  {
   "cell_type": "code",
   "execution_count": 27,
   "metadata": {
    "ExecuteTime": {
     "end_time": "2020-11-02T11:18:07.703435Z",
     "start_time": "2020-11-02T11:18:07.658790Z"
    }
   },
   "outputs": [],
   "source": [
    "fig_path = '../results/calibrations_provinces/'\n",
    "samples_path = '../data/interim/model_parameters/provinces/'"
   ]
  },
  {
   "cell_type": "code",
   "execution_count": 28,
   "metadata": {
    "ExecuteTime": {
     "end_time": "2020-11-02T11:18:07.744058Z",
     "start_time": "2020-11-02T11:18:07.705586Z"
    }
   },
   "outputs": [],
   "source": [
    "def draw_sample_beta_COVID19_SEIRD(parameter_dictionary,samples_dict):\n",
    "    \"\"\"\n",
    "    A function to draw parameter samples obtained with MCMC during model calibration and assign them to the parameter dictionary of the model.\n",
    "    Tailor-made for the BIOMATH COVID-19 SEIRD model.\n",
    "\n",
    "    Parameters\n",
    "    ----------\n",
    "    model : object\n",
    "        BIOMATH model object\n",
    "    \n",
    "    samples_dict : dictionary\n",
    "        Dictionary containing the samples of the sampled parameters: beta, l and tau.\n",
    "\n",
    "    Returns\n",
    "    ----------\n",
    "    model : object\n",
    "        BIOMATH model object\n",
    "\n",
    "    \"\"\"\n",
    "    # Use posterior samples of fitted parameters\n",
    "    parameter_dictionary['beta'] = np.random.choice(samples_dict['beta'],1,replace=False)\n",
    "    return parameter_dictionary"
   ]
  },
  {
   "cell_type": "markdown",
   "metadata": {},
   "source": [
    "# Initialize the model"
   ]
  },
  {
   "cell_type": "code",
   "execution_count": 29,
   "metadata": {
    "ExecuteTime": {
     "end_time": "2020-11-02T11:18:07.783915Z",
     "start_time": "2020-11-02T11:18:07.746199Z"
    }
   },
   "outputs": [],
   "source": [
    "def ramp_fun(Nc_old, Nc_new, t, tau_days, l, t_start):\n",
    "    \"\"\"\n",
    "    t : current date\n",
    "    tau : number of days before measures start having an effect\n",
    "    l : number of additional days after the time delay until full compliance is reached\n",
    "    \"\"\"\n",
    "    return Nc_old + (Nc_new-Nc_old)/l * (t-t_start-tau_days)/pd.Timedelta('1D')"
   ]
  },
  {
   "cell_type": "code",
   "execution_count": 30,
   "metadata": {
    "ExecuteTime": {
     "end_time": "2020-11-02T11:18:07.825675Z",
     "start_time": "2020-11-02T11:18:07.786003Z"
    }
   },
   "outputs": [],
   "source": [
    "# Define the compliance and lockdown function\n",
    "def lockdown_func(t,param,policy1,policy2,l,tau,prevention, start_date, policy_time):\n",
    "    tau_days = pd.to_timedelta(tau, unit='D')\n",
    "    l_days = pd.to_timedelta(l, unit='D')\n",
    "    if t <= start_date + tau_days:\n",
    "        return policy1\n",
    "    elif start_date + tau_days < t <= start_date + tau_days + l_days:\n",
    "        return ramp_fun(policy1, policy2, t, tau_days, l, start_date)\n",
    "    else:\n",
    "        return prevention*policy2"
   ]
  },
  {
   "cell_type": "code",
   "execution_count": 31,
   "metadata": {
    "ExecuteTime": {
     "end_time": "2020-11-02T11:18:08.157913Z",
     "start_time": "2020-11-02T11:18:07.827725Z"
    }
   },
   "outputs": [],
   "source": [
    "# Load the parameters using `get_COVID19_SEIRD_parameters()`.\n",
    "params = model_parameters.get_COVID19_SEIRD_parameters()\n",
    "params.update({'policy1': Nc_total,\n",
    "              'policy2': 1.0*Nc_home + (1-0.60)*Nc_work + (1-0.70)*Nc_transport + (1-0.30)*Nc_others + (1-0.80)*Nc_leisure,\n",
    "              'policy_time': 500,\n",
    "              'l': 1,\n",
    "              'tau': 5,\n",
    "              'prevention': 0.5,\n",
    "              'start_date': pd.to_datetime('2020-03-15')})\n",
    "# Define the initial condition: one exposed inidividual in every age category\n",
    "initial_states = {'S': initN, 'E': np.ones(levels)}\n",
    "model = models.COVID19_SEIRD(initial_states, params, time_dependent_parameters={'Nc': lockdown_func})"
   ]
  },
  {
   "cell_type": "code",
   "execution_count": 32,
   "metadata": {
    "ExecuteTime": {
     "end_time": "2020-11-02T11:18:08.197275Z",
     "start_time": "2020-11-02T11:18:08.159984Z"
    }
   },
   "outputs": [],
   "source": [
    "timeseries = Luik_ts['NEW_IN']\n",
    "spatial_unit = 'Luik_wave1_test'"
   ]
  },
  {
   "cell_type": "markdown",
   "metadata": {},
   "source": [
    "# Calibration on first wave"
   ]
  },
  {
   "cell_type": "code",
   "execution_count": 33,
   "metadata": {
    "ExecuteTime": {
     "end_time": "2020-11-02T11:18:08.235702Z",
     "start_time": "2020-11-02T11:18:08.199401Z"
    }
   },
   "outputs": [],
   "source": [
    "## First wave\n",
    "start_date = '2020-03-15'\n",
    "end_beta = '2020-03-25'#'2020-03-22'\n",
    "end_ramp = '2020-05-23'"
   ]
  },
  {
   "cell_type": "code",
   "execution_count": 34,
   "metadata": {
    "ExecuteTime": {
     "end_time": "2020-11-02T11:18:08.279015Z",
     "start_time": "2020-11-02T11:18:08.237814Z"
    }
   },
   "outputs": [
    {
     "data": {
      "text/plain": [
       "11"
      ]
     },
     "execution_count": 34,
     "metadata": {},
     "output_type": "execute_result"
    }
   ],
   "source": [
    "len(Luik_ts.loc[start_date:end_beta])"
   ]
  },
  {
   "cell_type": "code",
   "execution_count": 35,
   "metadata": {
    "ExecuteTime": {
     "end_time": "2020-11-02T11:18:08.321367Z",
     "start_time": "2020-11-02T11:18:08.281008Z"
    }
   },
   "outputs": [
    {
     "data": {
      "text/plain": [
       "60"
      ]
     },
     "execution_count": 35,
     "metadata": {},
     "output_type": "execute_result"
    }
   ],
   "source": [
    "len(Luik_ts.loc[end_beta:end_ramp])"
   ]
  },
  {
   "cell_type": "code",
   "execution_count": 36,
   "metadata": {
    "ExecuteTime": {
     "end_time": "2020-11-02T11:18:08.359165Z",
     "start_time": "2020-11-02T11:18:08.323575Z"
    }
   },
   "outputs": [],
   "source": [
    "# function parameters \n",
    "# maxiter=100\n",
    "# popsize=200\n",
    "# steps_mcmc=10000\n"
   ]
  },
  {
   "cell_type": "code",
   "execution_count": 42,
   "metadata": {
    "ExecuteTime": {
     "end_time": "2020-11-02T11:29:29.361190Z",
     "start_time": "2020-11-02T11:28:58.681411Z"
    }
   },
   "outputs": [
    {
     "name": "stdout",
     "output_type": "stream",
     "text": [
      "No constraints given.\n",
      "New best for swarm at iteration 1: [1.15202145e+01 3.87629517e+01 3.51270153e-02] 33.61260186970222\n",
      "Best after iteration 1: [1.15202145e+01 3.87629517e+01 3.51270153e-02] 33.61260186970222\n",
      "New best for swarm at iteration 2: [ 9.46947684 30.          0.04765509] 30.156443437903164\n",
      "Best after iteration 2: [ 9.46947684 30.          0.04765509] 30.156443437903164\n",
      "Best after iteration 3: [ 9.46947684 30.          0.04765509] 30.156443437903164\n",
      "Best after iteration 4: [ 9.46947684 30.          0.04765509] 30.156443437903164\n",
      "Best after iteration 5: [ 9.46947684 30.          0.04765509] 30.156443437903164\n",
      "Best after iteration 6: [ 9.46947684 30.          0.04765509] 30.156443437903164\n",
      "New best for swarm at iteration 7: [6.77512342e+00 3.98374613e+01 3.63768739e-02] 29.80546433181597\n",
      "Best after iteration 7: [6.77512342e+00 3.98374613e+01 3.63768739e-02] 29.80546433181597\n",
      "Best after iteration 8: [6.77512342e+00 3.98374613e+01 3.63768739e-02] 29.80546433181597\n",
      "New best for swarm at iteration 9: [ 9.47076108 32.94162915  0.0433377 ] 29.341364580763184\n",
      "Best after iteration 9: [ 9.47076108 32.94162915  0.0433377 ] 29.341364580763184\n",
      "New best for swarm at iteration 10: [ 7.87984784 32.85316929  0.04302642] 29.093907809895214\n",
      "Best after iteration 10: [ 7.87984784 32.85316929  0.04302642] 29.093907809895214\n",
      "Best after iteration 11: [ 7.87984784 32.85316929  0.04302642] 29.093907809895214\n",
      "Best after iteration 12: [ 7.87984784 32.85316929  0.04302642] 29.093907809895214\n",
      "Best after iteration 13: [ 7.87984784 32.85316929  0.04302642] 29.093907809895214\n",
      "Best after iteration 14: [ 7.87984784 32.85316929  0.04302642] 29.093907809895214\n",
      "Best after iteration 15: [ 7.87984784 32.85316929  0.04302642] 29.093907809895214\n",
      "New best for swarm at iteration 16: [ 8.38020282 32.9454851   0.04278894] 29.074389875357266\n",
      "Best after iteration 16: [ 8.38020282 32.9454851   0.04278894] 29.074389875357266\n",
      "Best after iteration 17: [ 8.38020282 32.9454851   0.04278894] 29.074389875357266\n",
      "Best after iteration 18: [ 8.38020282 32.9454851   0.04278894] 29.074389875357266\n",
      "New best for swarm at iteration 19: [ 8.39491546 32.87620025  0.04291942] 29.027668819386058\n",
      "Best after iteration 19: [ 8.39491546 32.87620025  0.04291942] 29.027668819386058\n",
      "Best after iteration 20: [ 8.39491546 32.87620025  0.04291942] 29.027668819386058\n",
      "New best for swarm at iteration 21: [ 8.36936235 33.18229454  0.04296999] 29.025162558319735\n",
      "Best after iteration 21: [ 8.36936235 33.18229454  0.04296999] 29.025162558319735\n",
      "Best after iteration 22: [ 8.36936235 33.18229454  0.04296999] 29.025162558319735\n",
      "Best after iteration 23: [ 8.36936235 33.18229454  0.04296999] 29.025162558319735\n",
      "Best after iteration 24: [ 8.36936235 33.18229454  0.04296999] 29.025162558319735\n",
      "Best after iteration 25: [ 8.36936235 33.18229454  0.04296999] 29.025162558319735\n",
      "New best for swarm at iteration 26: [ 8.57530904 33.34661156  0.0429763 ] 29.024386538272598\n",
      "Best after iteration 26: [ 8.57530904 33.34661156  0.0429763 ] 29.024386538272598\n",
      "Best after iteration 27: [ 8.57530904 33.34661156  0.0429763 ] 29.024386538272598\n",
      "Best after iteration 28: [ 8.57530904 33.34661156  0.0429763 ] 29.024386538272598\n",
      "New best for swarm at iteration 29: [ 8.4760044  33.30268878  0.04295114] 29.02328847287162\n",
      "Best after iteration 29: [ 8.4760044  33.30268878  0.04295114] 29.02328847287162\n",
      "Best after iteration 30: [ 8.4760044  33.30268878  0.04295114] 29.02328847287162\n",
      "Best after iteration 31: [ 8.4760044  33.30268878  0.04295114] 29.02328847287162\n",
      "Best after iteration 32: [ 8.4760044  33.30268878  0.04295114] 29.02328847287162\n",
      "New best for swarm at iteration 33: [ 8.49737798 33.28356265  0.04297118] 29.02306605858883\n",
      "Best after iteration 33: [ 8.49737798 33.28356265  0.04297118] 29.02306605858883\n",
      "Best after iteration 34: [ 8.49737798 33.28356265  0.04297118] 29.02306605858883\n",
      "Best after iteration 35: [ 8.49737798 33.28356265  0.04297118] 29.02306605858883\n",
      "Best after iteration 36: [ 8.49737798 33.28356265  0.04297118] 29.02306605858883\n",
      "New best for swarm at iteration 37: [ 8.48161334 33.19633824  0.04295821] 29.023045674434762\n",
      "Best after iteration 37: [ 8.48161334 33.19633824  0.04295821] 29.023045674434762\n",
      "Best after iteration 38: [ 8.48161334 33.19633824  0.04295821] 29.023045674434762\n",
      "New best for swarm at iteration 39: [ 8.47588601 33.34110156  0.0429694 ] 29.023030637702526\n",
      "Best after iteration 39: [ 8.47588601 33.34110156  0.0429694 ] 29.023030637702526\n",
      "Best after iteration 40: [ 8.47588601 33.34110156  0.0429694 ] 29.023030637702526\n",
      "Best after iteration 41: [ 8.47588601 33.34110156  0.0429694 ] 29.023030637702526\n",
      "New best for swarm at iteration 42: [ 8.49457448 33.07916994  0.04296395] 29.022986780895796\n",
      "Best after iteration 42: [ 8.49457448 33.07916994  0.04296395] 29.022986780895796\n",
      "Best after iteration 43: [ 8.49457448 33.07916994  0.04296395] 29.022986780895796\n",
      "Best after iteration 44: [ 8.49457448 33.07916994  0.04296395] 29.022986780895796\n",
      "Best after iteration 45: [ 8.49457448 33.07916994  0.04296395] 29.022986780895796\n",
      "Best after iteration 46: [ 8.49457448 33.07916994  0.04296395] 29.022986780895796\n",
      "Best after iteration 47: [ 8.49457448 33.07916994  0.04296395] 29.022986780895796\n",
      "Best after iteration 48: [ 8.49457448 33.07916994  0.04296395] 29.022986780895796\n",
      "Best after iteration 49: [ 8.49457448 33.07916994  0.04296395] 29.022986780895796\n",
      "Best after iteration 50: [ 8.49457448 33.07916994  0.04296395] 29.022986780895796\n",
      "Stopping search: maximum iterations reached --> 50\n"
     ]
    },
    {
     "name": "stderr",
     "output_type": "stream",
     "text": [
      "100%|██████████| 100/100 [00:18<00:00,  5.39it/s]\n",
      "/home/data/jvergeyn/Documents/COVID19-Model/src/covid19model/visualization/optimization.py:44: UserWarning: Attempting to set identical left == right == 0 results in singular transformations; automatically expanding.\n",
      "  ax.set_xlim(0, nsamples)\n",
      "/home/data/jvergeyn/Documents/COVID19-Model/src/covid19model/visualization/optimization.py:44: UserWarning: Attempting to set identical left == right == 0 results in singular transformations; automatically expanding.\n",
      "  ax.set_xlim(0, nsamples)\n"
     ]
    },
    {
     "name": "stdout",
     "output_type": "stream",
     "text": [
      "Calibrating beta. Warning: The chain is shorter than 50 times the integrated autocorrelation time for 4 parameter(s). Use this estimate with caution and run a longer chain!\n"
     ]
    },
    {
     "ename": "AssertionError",
     "evalue": "I don't believe that you want more dimensions than samples!",
     "output_type": "error",
     "traceback": [
      "\u001b[0;31m---------------------------------------------------------------------------\u001b[0m",
      "\u001b[0;31mAssertionError\u001b[0m                            Traceback (most recent call last)",
      "\u001b[0;32m<ipython-input-42-1d2862dea788>\u001b[0m in \u001b[0;36m<module>\u001b[0;34m\u001b[0m\n\u001b[1;32m      2\u001b[0m                                 \u001b[0mfig_path\u001b[0m\u001b[0;34m=\u001b[0m\u001b[0mfig_path\u001b[0m\u001b[0;34m,\u001b[0m \u001b[0msamples_path\u001b[0m\u001b[0;34m=\u001b[0m\u001b[0msamples_path\u001b[0m\u001b[0;34m,\u001b[0m\u001b[0;34m\u001b[0m\u001b[0;34m\u001b[0m\u001b[0m\n\u001b[1;32m      3\u001b[0m                                 \u001b[0minitN\u001b[0m\u001b[0;34m=\u001b[0m\u001b[0minitN\u001b[0m\u001b[0;34m,\u001b[0m \u001b[0mNc_total\u001b[0m\u001b[0;34m=\u001b[0m\u001b[0mNc_total\u001b[0m\u001b[0;34m,\u001b[0m\u001b[0;34m\u001b[0m\u001b[0;34m\u001b[0m\u001b[0m\n\u001b[0;32m----> 4\u001b[0;31m                                 maxiter=50, popsize=50, steps_mcmc=100)\n\u001b[0m\u001b[1;32m      5\u001b[0m \u001b[0;34m\u001b[0m\u001b[0m\n",
      "\u001b[0;32m~/Documents/COVID19-Model/src/covid19model/optimization/run_optimization.py\u001b[0m in \u001b[0;36mfull_calibration_wave1\u001b[0;34m(model, timeseries, spatial_unit, start_date, end_beta, end_ramp, fig_path, samples_path, initN, Nc_total, maxiter, popsize, steps_mcmc)\u001b[0m\n\u001b[1;32m    104\u001b[0m                 dpi=600, bbox_inches='tight')\n\u001b[1;32m    105\u001b[0m \u001b[0;34m\u001b[0m\u001b[0m\n\u001b[0;32m--> 106\u001b[0;31m     \u001b[0mfig\u001b[0m \u001b[0;34m=\u001b[0m \u001b[0mcorner\u001b[0m\u001b[0;34m.\u001b[0m\u001b[0mcorner\u001b[0m\u001b[0;34m(\u001b[0m\u001b[0mflat_samples_beta\u001b[0m\u001b[0;34m,\u001b[0m\u001b[0mlabels\u001b[0m\u001b[0;34m=\u001b[0m\u001b[0;34m[\u001b[0m\u001b[0;34m'$\\sigma_{data}$'\u001b[0m\u001b[0;34m,\u001b[0m\u001b[0;34m'$\\\\beta$'\u001b[0m\u001b[0;34m]\u001b[0m\u001b[0;34m)\u001b[0m\u001b[0;34m\u001b[0m\u001b[0;34m\u001b[0m\u001b[0m\n\u001b[0m\u001b[1;32m    107\u001b[0m     \u001b[0mfig\u001b[0m\u001b[0;34m.\u001b[0m\u001b[0mset_size_inches\u001b[0m\u001b[0;34m(\u001b[0m\u001b[0;36m8\u001b[0m\u001b[0;34m,\u001b[0m \u001b[0;36m8\u001b[0m\u001b[0;34m)\u001b[0m\u001b[0;34m\u001b[0m\u001b[0;34m\u001b[0m\u001b[0m\n\u001b[1;32m    108\u001b[0m     plt.savefig(fig_path+'cornerplots/beta_'+str(spatial_unit)+'_'+str(datetime.date.today())+'.pdf',\n",
      "\u001b[0;32m~/.conda/envs/COVID_MODEL/lib/python3.7/site-packages/corner/corner.py\u001b[0m in \u001b[0;36mcorner\u001b[0;34m(xs, bins, range, weights, color, hist_bin_factor, smooth, smooth1d, labels, label_kwargs, titles, show_titles, title_fmt, title_kwargs, truths, truth_color, scale_hist, quantiles, verbose, fig, max_n_ticks, top_ticks, use_math_text, reverse, labelpad, hist_kwargs, **hist2d_kwargs)\u001b[0m\n\u001b[1;32m    192\u001b[0m         \u001b[0mxs\u001b[0m \u001b[0;34m=\u001b[0m \u001b[0mxs\u001b[0m\u001b[0;34m.\u001b[0m\u001b[0mT\u001b[0m\u001b[0;34m\u001b[0m\u001b[0;34m\u001b[0m\u001b[0m\n\u001b[1;32m    193\u001b[0m     assert xs.shape[0] <= xs.shape[1], (\n\u001b[0;32m--> 194\u001b[0;31m         \u001b[0;34m\"I don't believe that you want more \"\u001b[0m \u001b[0;34m\"dimensions than samples!\"\u001b[0m\u001b[0;34m\u001b[0m\u001b[0;34m\u001b[0m\u001b[0m\n\u001b[0m\u001b[1;32m    195\u001b[0m     )\n\u001b[1;32m    196\u001b[0m \u001b[0;34m\u001b[0m\u001b[0m\n",
      "\u001b[0;31mAssertionError\u001b[0m: I don't believe that you want more dimensions than samples!"
     ]
    }
   ],
   "source": [
    "samples_dict = full_calibration_wave1(model, timeseries, spatial_unit, start_date, end_beta, end_ramp, \n",
    "                                fig_path=fig_path, samples_path=samples_path,\n",
    "                                initN=initN, Nc_total=Nc_total,\n",
    "                                maxiter=50, popsize=50, steps_mcmc=100)\n",
    "\n"
   ]
  },
  {
   "cell_type": "code",
   "execution_count": null,
   "metadata": {},
   "outputs": [],
   "source": []
  },
  {
   "cell_type": "code",
   "execution_count": null,
   "metadata": {
    "ExecuteTime": {
     "end_time": "2020-10-28T21:53:24.340780Z",
     "start_time": "2020-10-28T21:53:21.607494Z"
    },
    "scrolled": false
   },
   "outputs": [],
   "source": [
    "states = [['H_in']]\n",
    "end_date = '2020-07-01'\n",
    "data=[timeseries[start_date:end_ramp].values]\n",
    "\n",
    "fig,ax=plt.subplots()\n",
    "for i in range(10):\n",
    "    idx,model.parameters['beta'] = random.choice(list(enumerate(samples_dict['beta'])))\n",
    "    idx,model.parameters['l'] = random.choice(list(enumerate(samples_dict['l'])))\n",
    "    model.parameters['tau'] = samples_dict['tau'][idx]\n",
    "    model.parameters['policy_time'] = samples_dict['lag_time']\n",
    "    model.parameters['prevention'] = samples_dict['prevention'][idx]\n",
    "    y_model = model.sim(time=end_date, excess_time=samples_dict['lag_time'], start_date=start_date)\n",
    "    ax = plot_fit(y_model,data,start_date,samples_dict['lag_time'],states,end_date=end_date,with_ints=False,ax=ax,plt_kwargs={'color':'blue','linewidth': 2,'alpha': 0.05})\n",
    "\n",
    "data_after_calib = timeseries[pd.to_datetime(end_ramp)+pd.to_timedelta('1d'):end_date]\n",
    "plt.scatter(data_after_calib.index, data_after_calib.values, marker='o',color='red',linestyle='None',facecolors='none')\n",
    "legend_text=['daily \\nhospitalizations']\n",
    "ax.set_xlim('2020-03-10', '2020-07-01')\n",
    "# fig.savefig(fig_path+spatial_unit+'.pdf',\n",
    "#             bbox_inches='tight', dpi=600)"
   ]
  },
  {
   "cell_type": "markdown",
   "metadata": {},
   "source": [
    "# Step-by-step calibration"
   ]
  },
  {
   "cell_type": "markdown",
   "metadata": {},
   "source": [
    "## Simulation until 1 July"
   ]
  },
  {
   "cell_type": "code",
   "execution_count": null,
   "metadata": {
    "ExecuteTime": {
     "end_time": "2020-10-30T16:46:49.225387Z",
     "start_time": "2020-10-30T16:46:49.156328Z"
    }
   },
   "outputs": [],
   "source": [
    "# Load the dictionary containing the posterior parameter distributions obtained from calibrating the model to Belgian hospitalization data\n",
    "with open('../data/interim/model_parameters/provinces/Luik_wave1_1000steps_2020-10-28.json', 'r') as fp:\n",
    "    samples_dict_wave1 = json.load(fp)"
   ]
  },
  {
   "cell_type": "code",
   "execution_count": null,
   "metadata": {
    "ExecuteTime": {
     "end_time": "2020-10-30T16:46:49.392786Z",
     "start_time": "2020-10-30T16:46:49.356002Z"
    }
   },
   "outputs": [],
   "source": [
    "# Update this parameter here, the rest is updated by draw_sample_COVID19_SEIRD\n",
    "model.parameters['policy_time'] = samples_dict_wave1['lag_time']"
   ]
  },
  {
   "cell_type": "code",
   "execution_count": null,
   "metadata": {
    "ExecuteTime": {
     "end_time": "2020-10-30T16:47:19.255536Z",
     "start_time": "2020-10-30T16:46:49.918556Z"
    }
   },
   "outputs": [],
   "source": [
    "out_july = model.sim(time='2020-07-01', excess_time=samples_dict_wave1['lag_time'],start_date='2020-03-15',\n",
    "                   N=100, draw_fcn=draw_sample_COVID19_SEIRD,samples=samples_dict_wave1)\n",
    "states = out_july.isel(time=-1).mean(dim=\"draws\")\n",
    "initial_states_july1 = {key:states[key].values for key in initial_states.keys()}"
   ]
  },
  {
   "cell_type": "code",
   "execution_count": null,
   "metadata": {
    "ExecuteTime": {
     "end_time": "2020-10-30T16:56:35.394679Z",
     "start_time": "2020-10-30T16:56:35.351424Z"
    }
   },
   "outputs": [],
   "source": [
    "np.save('../data/interim/prediction_provinces/Luik_initial_states_july1.npy', initial_states_july1)"
   ]
  },
  {
   "cell_type": "markdown",
   "metadata": {},
   "source": [
    "## Calibration month July"
   ]
  },
  {
   "cell_type": "code",
   "execution_count": null,
   "metadata": {
    "ExecuteTime": {
     "end_time": "2020-10-30T16:56:33.278642Z",
     "start_time": "2020-10-30T16:56:33.224878Z"
    }
   },
   "outputs": [],
   "source": [
    "initial_states_july1 = np.load('../data/interim/prediction_provinces/Luik_initial_states_july1.npy', allow_pickle=True).item()"
   ]
  },
  {
   "cell_type": "code",
   "execution_count": null,
   "metadata": {
    "ExecuteTime": {
     "end_time": "2020-10-30T16:48:17.210748Z",
     "start_time": "2020-10-30T16:48:17.160083Z"
    }
   },
   "outputs": [],
   "source": [
    "# Second wave\n",
    "start_date = '2020-07-01'\n",
    "end_beta = '2020-08-01'"
   ]
  },
  {
   "cell_type": "code",
   "execution_count": null,
   "metadata": {
    "ExecuteTime": {
     "end_time": "2020-10-30T16:48:18.968763Z",
     "start_time": "2020-10-30T16:48:18.919319Z"
    }
   },
   "outputs": [],
   "source": [
    "len(Luik_ts.loc[start_date:end_beta])"
   ]
  },
  {
   "cell_type": "code",
   "execution_count": null,
   "metadata": {
    "ExecuteTime": {
     "end_time": "2020-10-30T16:48:20.509851Z",
     "start_time": "2020-10-30T16:48:20.188149Z"
    }
   },
   "outputs": [],
   "source": [
    "# Load the parameters using `get_COVID19_SEIRD_parameters()`.\n",
    "params = model_parameters.get_COVID19_SEIRD_parameters()\n",
    "#model_sept = models.COVID19_SEIRD(initial_states_sept, params)\n",
    "model_july = models.COVID19_SEIRD(initial_states_july1, params)"
   ]
  },
  {
   "cell_type": "code",
   "execution_count": null,
   "metadata": {
    "ExecuteTime": {
     "end_time": "2020-10-30T16:48:20.699738Z",
     "start_time": "2020-10-30T16:48:20.663234Z"
    }
   },
   "outputs": [],
   "source": [
    "# function parameters \n",
    "timeseries = Luik_ts['NEW_IN']\n",
    "spatial_unit = 'Luik_July'"
   ]
  },
  {
   "cell_type": "code",
   "execution_count": null,
   "metadata": {
    "ExecuteTime": {
     "end_time": "2020-10-30T16:48:22.470225Z",
     "start_time": "2020-10-30T16:48:22.432509Z"
    }
   },
   "outputs": [],
   "source": [
    "beta_init = np.mean(samples_dict_wave1['beta'])\n",
    "sigma_data_init = np.mean(samples_dict_wave1['sigma_data'])"
   ]
  },
  {
   "cell_type": "code",
   "execution_count": null,
   "metadata": {
    "ExecuteTime": {
     "end_time": "2020-10-30T16:51:21.133944Z",
     "start_time": "2020-10-30T16:48:26.896155Z"
    },
    "scrolled": true
   },
   "outputs": [],
   "source": [
    "samples_dict = full_calibration_wave2(model_july, timeseries, spatial_unit, start_date, end_beta, \n",
    "                                      beta_init, sigma_data_init, None,None,\n",
    "                                      fig_path=fig_path, samples_path=samples_path,\n",
    "                                      initN=initN, Nc_total=Nc_total,steps_mcmc=1000)"
   ]
  },
  {
   "cell_type": "code",
   "execution_count": null,
   "metadata": {
    "ExecuteTime": {
     "end_time": "2020-10-30T16:52:49.951381Z",
     "start_time": "2020-10-30T16:52:49.843952Z"
    },
    "scrolled": false
   },
   "outputs": [],
   "source": [
    "fig,ax = plt.subplots(figsize=(4,4))\n",
    "pd.Series(samples_dict['beta']).hist(ax=ax)"
   ]
  },
  {
   "cell_type": "code",
   "execution_count": null,
   "metadata": {
    "ExecuteTime": {
     "end_time": "2020-10-30T16:55:10.441581Z",
     "start_time": "2020-10-30T16:54:47.961115Z"
    }
   },
   "outputs": [],
   "source": [
    "states = [['H_in']]\n",
    "end_date = end_beta\n",
    "data=[timeseries[start_date:end_beta].values]\n",
    "\n",
    "fig,ax=plt.subplots(figsize=(8,8))\n",
    "for i in range(200):\n",
    "    idx,model_july.parameters['beta'] = random.choice(list(enumerate(samples_dict['beta'])))\n",
    "    y_model = model_july.sim(time=end_date, excess_time=0, start_date=start_date)\n",
    "    ax = plot_fit(y_model,data,start_date,lag_time=0,states=states,end_date=end_date,\n",
    "                  with_ints=False,ax=ax,plt_kwargs={'color':'blue','linewidth': 2,'alpha': 0.05})\n",
    "plt.setp(plt.gca().xaxis.get_majorticklabels(),'rotation', 0)\n",
    "#data_after_calib = timeseries[pd.to_datetime(end_ramp)+pd.to_timedelta('1d'):end_date]\n",
    "#plt.scatter(data_after_calib.index, data_after_calib.values, marker='o',color='red',linestyle='None',facecolors='none')\n",
    "legend_text=['daily \\nhospitalizations']\n",
    "ax.set_xlim(start_date, end_date)\n",
    "ax.set_ylabel('daily hospitalizations')\n",
    "fig.savefig(fig_path+spatial_unit+'.pdf',\n",
    "            bbox_inches='tight', dpi=600)"
   ]
  },
  {
   "cell_type": "markdown",
   "metadata": {},
   "source": [
    "## Simulation until 1 August"
   ]
  },
  {
   "cell_type": "code",
   "execution_count": null,
   "metadata": {
    "ExecuteTime": {
     "end_time": "2020-10-30T16:57:18.704357Z",
     "start_time": "2020-10-30T16:57:18.651429Z"
    }
   },
   "outputs": [],
   "source": [
    "# Load the dictionary containing the posterior parameter distributions obtained from calibrating the model to Belgian hospitalization data\n",
    "with open('../data/interim/model_parameters/provinces/Luik_July_2020-10-30.json', 'r') as fp:\n",
    "    samples_dict_july = json.load(fp)"
   ]
  },
  {
   "cell_type": "code",
   "execution_count": null,
   "metadata": {
    "ExecuteTime": {
     "end_time": "2020-10-30T16:46:49.392786Z",
     "start_time": "2020-10-30T16:46:49.356002Z"
    }
   },
   "outputs": [],
   "source": [
    "# Update this parameter here, the rest is updated by draw_sample_COVID19_SEIRD\n",
    "# model.parameters['policy_time'] = samples_dict_wave1['lag_time']"
   ]
  },
  {
   "cell_type": "code",
   "execution_count": null,
   "metadata": {
    "ExecuteTime": {
     "end_time": "2020-10-30T17:01:08.718045Z",
     "start_time": "2020-10-30T17:01:03.129460Z"
    }
   },
   "outputs": [],
   "source": [
    "out_aug = model_july.sim(time='2020-08-01', excess_time=0,start_date='2020-07-01',\n",
    "                   N=100, draw_fcn=draw_sample_beta_COVID19_SEIRD,samples=samples_dict_july)\n",
    "states = out_aug.isel(time=-1).mean(dim=\"draws\")\n",
    "initial_states_aug1 = {key:states[key].values for key in initial_states.keys()}"
   ]
  },
  {
   "cell_type": "code",
   "execution_count": null,
   "metadata": {
    "ExecuteTime": {
     "end_time": "2020-10-30T17:01:31.713350Z",
     "start_time": "2020-10-30T17:01:31.672096Z"
    }
   },
   "outputs": [],
   "source": [
    "np.save('../data/interim/prediction_provinces/Luik_initial_states_aug1.npy', initial_states_aug1)"
   ]
  },
  {
   "cell_type": "markdown",
   "metadata": {},
   "source": [
    "## Calibration month August"
   ]
  },
  {
   "cell_type": "code",
   "execution_count": null,
   "metadata": {
    "ExecuteTime": {
     "end_time": "2020-10-30T17:02:03.014165Z",
     "start_time": "2020-10-30T17:02:02.815531Z"
    }
   },
   "outputs": [],
   "source": [
    "initial_states_aug1 = np.load('../data/interim/prediction_provinces/Luik_initial_states_aug1.npy', allow_pickle=True).item()"
   ]
  },
  {
   "cell_type": "code",
   "execution_count": null,
   "metadata": {
    "ExecuteTime": {
     "end_time": "2020-10-30T17:02:09.305370Z",
     "start_time": "2020-10-30T17:02:09.267629Z"
    }
   },
   "outputs": [],
   "source": [
    "# Second wave\n",
    "start_date = '2020-08-01'\n",
    "end_beta = '2020-09-01'"
   ]
  },
  {
   "cell_type": "code",
   "execution_count": null,
   "metadata": {
    "ExecuteTime": {
     "end_time": "2020-10-30T17:02:09.879670Z",
     "start_time": "2020-10-30T17:02:09.837543Z"
    }
   },
   "outputs": [],
   "source": [
    "len(Luik_ts.loc[start_date:end_beta])"
   ]
  },
  {
   "cell_type": "code",
   "execution_count": null,
   "metadata": {
    "ExecuteTime": {
     "end_time": "2020-10-30T17:02:20.592714Z",
     "start_time": "2020-10-30T17:02:20.259567Z"
    }
   },
   "outputs": [],
   "source": [
    "# Load the parameters using `get_COVID19_SEIRD_parameters()`.\n",
    "params = model_parameters.get_COVID19_SEIRD_parameters()\n",
    "#model_sept = models.COVID19_SEIRD(initial_states_sept, params)\n",
    "model_aug = models.COVID19_SEIRD(initial_states_aug1, params)"
   ]
  },
  {
   "cell_type": "code",
   "execution_count": null,
   "metadata": {
    "ExecuteTime": {
     "end_time": "2020-10-30T17:02:24.887844Z",
     "start_time": "2020-10-30T17:02:24.845045Z"
    }
   },
   "outputs": [],
   "source": [
    "# function parameters \n",
    "timeseries = Luik_ts['NEW_IN']\n",
    "spatial_unit = 'Luik_Aug'"
   ]
  },
  {
   "cell_type": "code",
   "execution_count": null,
   "metadata": {
    "ExecuteTime": {
     "end_time": "2020-10-30T17:06:53.236522Z",
     "start_time": "2020-10-30T17:06:53.197798Z"
    }
   },
   "outputs": [],
   "source": [
    "beta_init = np.mean(samples_dict_july['beta'])\n",
    "sigma_data_init = np.mean(samples_dict_wave1['sigma_data'])"
   ]
  },
  {
   "cell_type": "code",
   "execution_count": null,
   "metadata": {
    "ExecuteTime": {
     "end_time": "2020-10-30T17:07:09.535256Z",
     "start_time": "2020-10-30T17:07:09.493727Z"
    }
   },
   "outputs": [],
   "source": [
    "mu_beta, std_beta = norm.fit(samples_dict_july['beta'])\n",
    "mu_sigma_data, std_sigma_data = norm.fit(samples_dict_wave1['sigma_data']) # should be on july!\n",
    "beta_norm_params = (mu_beta, std_beta)\n",
    "sigma_data_norm_params = (mu_sigma_data, std_sigma_data)"
   ]
  },
  {
   "cell_type": "code",
   "execution_count": null,
   "metadata": {
    "ExecuteTime": {
     "end_time": "2020-10-30T17:45:38.944138Z",
     "start_time": "2020-10-30T17:42:39.898370Z"
    }
   },
   "outputs": [],
   "source": [
    "samples_dict = full_calibration_wave2(model_aug, timeseries, spatial_unit, start_date, end_beta, \n",
    "                                      beta_init, sigma_data_init, None, None,\n",
    "                                      fig_path=fig_path, samples_path=samples_path,\n",
    "                                      initN=initN, Nc_total=Nc_total,steps_mcmc=1000)"
   ]
  },
  {
   "cell_type": "code",
   "execution_count": null,
   "metadata": {
    "ExecuteTime": {
     "end_time": "2020-10-30T17:45:56.766698Z",
     "start_time": "2020-10-30T17:45:56.509328Z"
    }
   },
   "outputs": [],
   "source": [
    "fig,ax = plt.subplots(figsize=(4,4))\n",
    "pd.Series(samples_dict['beta']).hist(ax=ax)"
   ]
  },
  {
   "cell_type": "code",
   "execution_count": null,
   "metadata": {
    "ExecuteTime": {
     "end_time": "2020-10-30T17:49:01.217041Z",
     "start_time": "2020-10-30T17:48:58.606651Z"
    }
   },
   "outputs": [],
   "source": [
    "## Deze herrunnen!\n",
    "states = [['H_in']]\n",
    "end_date = end_beta\n",
    "data=[timeseries[start_date:end_beta].values]\n",
    "\n",
    "fig,ax=plt.subplots(figsize=(8,8))\n",
    "for i in range(20):\n",
    "    idx,model_aug.parameters['beta'] = random.choice(list(enumerate(samples_dict_aug['beta'])))\n",
    "    y_model = model_aug.sim(time=end_date, excess_time=0, start_date=start_date)\n",
    "    ax = plot_fit(y_model,data,start_date,lag_time=0,states=states,end_date=end_date,\n",
    "                  with_ints=False,ax=ax,plt_kwargs={'color':'blue','linewidth': 2,'alpha': 0.05})\n",
    "plt.setp(plt.gca().xaxis.get_majorticklabels(),'rotation', 0)\n",
    "#data_after_calib = timeseries[pd.to_datetime(end_ramp)+pd.to_timedelta('1d'):end_date]\n",
    "#plt.scatter(data_after_calib.index, data_after_calib.values, marker='o',color='red',linestyle='None',facecolors='none')\n",
    "legend_text=['daily \\nhospitalizations']\n",
    "ax.set_xlim(start_date, end_date)\n",
    "ax.set_ylabel('daily hospitalizations')\n",
    "# fig.savefig(fig_path+spatial_unit+'.pdf',\n",
    "#             bbox_inches='tight', dpi=600)"
   ]
  },
  {
   "cell_type": "code",
   "execution_count": null,
   "metadata": {},
   "outputs": [],
   "source": []
  },
  {
   "cell_type": "markdown",
   "metadata": {},
   "source": [
    "## Simulation until 1 September"
   ]
  },
  {
   "cell_type": "code",
   "execution_count": null,
   "metadata": {
    "ExecuteTime": {
     "end_time": "2020-10-30T17:51:15.869769Z",
     "start_time": "2020-10-30T17:51:15.655962Z"
    }
   },
   "outputs": [],
   "source": [
    "# Load the dictionary containing the posterior parameter distributions obtained from calibrating the model to Belgian hospitalization data\n",
    "with open('../data/interim/model_parameters/provinces/Luik_Aug_2020-10-30.json', 'r') as fp:\n",
    "    samples_dict_aug = json.load(fp)"
   ]
  },
  {
   "cell_type": "code",
   "execution_count": null,
   "metadata": {
    "ExecuteTime": {
     "end_time": "2020-10-30T16:46:49.392786Z",
     "start_time": "2020-10-30T16:46:49.356002Z"
    }
   },
   "outputs": [],
   "source": [
    "# Update this parameter here, the rest is updated by draw_sample_COVID19_SEIRD\n",
    "# model.parameters['policy_time'] = samples_dict_wave1['lag_time']"
   ]
  },
  {
   "cell_type": "code",
   "execution_count": null,
   "metadata": {
    "ExecuteTime": {
     "end_time": "2020-10-30T17:51:24.928761Z",
     "start_time": "2020-10-30T17:51:19.336448Z"
    }
   },
   "outputs": [],
   "source": [
    "out_sept = model_aug.sim(time='2020-09-01', excess_time=0,start_date='2020-08-01',\n",
    "                   N=100, draw_fcn=draw_sample_beta_COVID19_SEIRD,samples=samples_dict_aug)\n",
    "states = out_sept.isel(time=-1).mean(dim=\"draws\")\n",
    "initial_states_sept1 = {key:states[key].values for key in initial_states.keys()}"
   ]
  },
  {
   "cell_type": "code",
   "execution_count": null,
   "metadata": {
    "ExecuteTime": {
     "end_time": "2020-10-30T17:51:33.711786Z",
     "start_time": "2020-10-30T17:51:33.673224Z"
    }
   },
   "outputs": [],
   "source": [
    "np.save('../data/interim/prediction_provinces/Luik_initial_states_sept1.npy', initial_states_sept1)"
   ]
  },
  {
   "cell_type": "code",
   "execution_count": null,
   "metadata": {
    "ExecuteTime": {
     "end_time": "2020-10-30T17:51:25.318521Z",
     "start_time": "2020-10-30T17:51:25.271583Z"
    }
   },
   "outputs": [],
   "source": [
    "initial_states_sept1"
   ]
  },
  {
   "cell_type": "markdown",
   "metadata": {},
   "source": [
    "## Calibration month September"
   ]
  },
  {
   "cell_type": "code",
   "execution_count": null,
   "metadata": {
    "ExecuteTime": {
     "end_time": "2020-10-30T17:51:58.368440Z",
     "start_time": "2020-10-30T17:51:58.330641Z"
    }
   },
   "outputs": [],
   "source": [
    "initial_states_sept1 = np.load('../data/interim/prediction_provinces/Luik_initial_states_sept1.npy', allow_pickle=True).item()"
   ]
  },
  {
   "cell_type": "code",
   "execution_count": null,
   "metadata": {
    "ExecuteTime": {
     "end_time": "2020-10-30T17:52:06.817390Z",
     "start_time": "2020-10-30T17:52:06.780931Z"
    }
   },
   "outputs": [],
   "source": [
    "# Second wave\n",
    "start_date = '2020-09-01'\n",
    "end_beta = '2020-10-01'"
   ]
  },
  {
   "cell_type": "code",
   "execution_count": null,
   "metadata": {
    "ExecuteTime": {
     "end_time": "2020-10-30T17:52:08.496601Z",
     "start_time": "2020-10-30T17:52:08.455785Z"
    }
   },
   "outputs": [],
   "source": [
    "len(Luik_ts.loc[start_date:end_beta])"
   ]
  },
  {
   "cell_type": "code",
   "execution_count": null,
   "metadata": {
    "ExecuteTime": {
     "end_time": "2020-10-30T17:52:15.480377Z",
     "start_time": "2020-10-30T17:52:15.157707Z"
    }
   },
   "outputs": [],
   "source": [
    "# Load the parameters using `get_COVID19_SEIRD_parameters()`.\n",
    "params = model_parameters.get_COVID19_SEIRD_parameters()\n",
    "#model_sept = models.COVID19_SEIRD(initial_states_sept, params)\n",
    "model_sept = models.COVID19_SEIRD(initial_states_sept1, params)"
   ]
  },
  {
   "cell_type": "code",
   "execution_count": null,
   "metadata": {
    "ExecuteTime": {
     "end_time": "2020-10-30T17:52:18.721870Z",
     "start_time": "2020-10-30T17:52:18.524171Z"
    }
   },
   "outputs": [],
   "source": [
    "# function parameters \n",
    "timeseries = Luik_ts['NEW_IN']\n",
    "spatial_unit = 'Luik_Sept'"
   ]
  },
  {
   "cell_type": "code",
   "execution_count": null,
   "metadata": {
    "ExecuteTime": {
     "end_time": "2020-10-30T18:02:55.232222Z",
     "start_time": "2020-10-30T18:02:55.194458Z"
    }
   },
   "outputs": [],
   "source": [
    "beta_init = 0.03\n",
    "sigma_data_init = np.mean(samples_dict_wave1['sigma_data'])"
   ]
  },
  {
   "cell_type": "code",
   "execution_count": null,
   "metadata": {
    "ExecuteTime": {
     "end_time": "2020-10-30T17:52:31.456104Z",
     "start_time": "2020-10-30T17:52:31.416945Z"
    }
   },
   "outputs": [],
   "source": [
    "# mu_beta, std_beta = norm.fit(samples_dict_aug['beta'])\n",
    "# mu_sigma_data, std_sigma_data = norm.fit(samples_dict_wave1['sigma_data']) # should be on aug!\n",
    "# beta_norm_params = (mu_beta, std_beta)\n",
    "# sigma_data_norm_params = (mu_sigma_data, std_sigma_data)"
   ]
  },
  {
   "cell_type": "code",
   "execution_count": null,
   "metadata": {
    "ExecuteTime": {
     "end_time": "2020-10-30T18:06:18.300489Z",
     "start_time": "2020-10-30T18:02:59.457873Z"
    }
   },
   "outputs": [],
   "source": [
    "samples_dict = full_calibration_wave2(model_aug, timeseries, spatial_unit, start_date, end_beta, \n",
    "                                      beta_init, sigma_data_init, None, None,\n",
    "                                      fig_path=fig_path, samples_path=samples_path,\n",
    "                                      initN=initN, Nc_total=Nc_total,steps_mcmc=1000)"
   ]
  },
  {
   "cell_type": "code",
   "execution_count": null,
   "metadata": {
    "ExecuteTime": {
     "end_time": "2020-10-30T18:07:19.956638Z",
     "start_time": "2020-10-30T18:07:19.689726Z"
    }
   },
   "outputs": [],
   "source": [
    "fig,ax = plt.subplots(figsize=(4,4))\n",
    "pd.Series(samples_dict['beta']).hist(ax=ax)"
   ]
  },
  {
   "cell_type": "code",
   "execution_count": null,
   "metadata": {
    "ExecuteTime": {
     "end_time": "2020-10-30T18:07:28.841956Z",
     "start_time": "2020-10-30T18:07:25.461128Z"
    }
   },
   "outputs": [],
   "source": [
    "states = [['H_in']]\n",
    "end_date = end_beta\n",
    "data=[timeseries[start_date:end_beta].values]\n",
    "\n",
    "fig,ax=plt.subplots(figsize=(8,8))\n",
    "for i in range(20):\n",
    "    idx,model_sept.parameters['beta'] = random.choice(list(enumerate(samples_dict['beta'])))\n",
    "    y_model = model_sept.sim(time=end_date, excess_time=0, start_date=start_date)\n",
    "    ax = plot_fit(y_model,data,start_date,lag_time=0,states=states,end_date=end_date,\n",
    "                  with_ints=False,ax=ax,plt_kwargs={'color':'blue','linewidth': 2,'alpha': 0.05})\n",
    "plt.setp(plt.gca().xaxis.get_majorticklabels(),'rotation', 0)\n",
    "#data_after_calib = timeseries[pd.to_datetime(end_ramp)+pd.to_timedelta('1d'):end_date]\n",
    "#plt.scatter(data_after_calib.index, data_after_calib.values, marker='o',color='red',linestyle='None',facecolors='none')\n",
    "legend_text=['daily \\nhospitalizations']\n",
    "ax.set_xlim(start_date, end_date)\n",
    "ax.set_ylabel('daily hospitalizations')\n",
    "fig.savefig(fig_path+spatial_unit+'.pdf',\n",
    "            bbox_inches='tight', dpi=600)"
   ]
  },
  {
   "cell_type": "markdown",
   "metadata": {
    "heading_collapsed": true
   },
   "source": [
    "# Calibration on entire period"
   ]
  },
  {
   "cell_type": "code",
   "execution_count": null,
   "metadata": {
    "ExecuteTime": {
     "end_time": "2020-10-30T16:44:14.843919Z",
     "start_time": "2020-10-30T16:44:14.621688Z"
    },
    "hidden": true
   },
   "outputs": [],
   "source": [
    "# Load the dictionary containing the posterior parameter distributions obtained from calibrating the model to Belgian hospitalization data\n",
    "with open('../data/interim/model_parameters/provinces/Luik_wave1_1000steps_2020-10-28.json', 'r') as fp:\n",
    "    samples_dict_wave1 = json.load(fp)"
   ]
  },
  {
   "cell_type": "code",
   "execution_count": null,
   "metadata": {
    "ExecuteTime": {
     "end_time": "2020-10-30T16:45:37.460957Z",
     "start_time": "2020-10-30T16:45:37.262893Z"
    },
    "hidden": true
   },
   "outputs": [],
   "source": [
    "initial_states_aug = np.load('../data/interim/prediction_provinces/Luik_initial_states_aug.npy', allow_pickle=True).item()"
   ]
  },
  {
   "cell_type": "code",
   "execution_count": null,
   "metadata": {
    "ExecuteTime": {
     "end_time": "2020-10-30T16:44:15.309723Z",
     "start_time": "2020-10-30T16:44:15.273633Z"
    },
    "hidden": true
   },
   "outputs": [],
   "source": [
    "# Second wave\n",
    "start_date = '2020-08-01'\n",
    "end_beta = '2020-10-25'"
   ]
  },
  {
   "cell_type": "code",
   "execution_count": null,
   "metadata": {
    "ExecuteTime": {
     "end_time": "2020-10-30T16:44:15.991976Z",
     "start_time": "2020-10-30T16:44:15.950040Z"
    },
    "hidden": true
   },
   "outputs": [],
   "source": [
    "len(Luik_ts.loc[start_date:end_beta])"
   ]
  },
  {
   "cell_type": "code",
   "execution_count": null,
   "metadata": {
    "ExecuteTime": {
     "end_time": "2020-10-30T16:45:39.249929Z",
     "start_time": "2020-10-30T16:45:38.927522Z"
    },
    "hidden": true
   },
   "outputs": [],
   "source": [
    "# Load the parameters using `get_COVID19_SEIRD_parameters()`.\n",
    "params = model_parameters.get_COVID19_SEIRD_parameters()\n",
    "#model_sept = models.COVID19_SEIRD(initial_states_sept, params)\n",
    "model_aug = models.COVID19_SEIRD(initial_states_aug, params)"
   ]
  },
  {
   "cell_type": "code",
   "execution_count": null,
   "metadata": {
    "ExecuteTime": {
     "end_time": "2020-10-30T16:45:42.221862Z",
     "start_time": "2020-10-30T16:45:42.185330Z"
    },
    "hidden": true
   },
   "outputs": [],
   "source": [
    "# function parameters \n",
    "timeseries = Luik_ts['NEW_IN']\n",
    "spatial_unit = 'Luik_wave2_from_aug_NVD'\n"
   ]
  },
  {
   "cell_type": "code",
   "execution_count": null,
   "metadata": {
    "ExecuteTime": {
     "end_time": "2020-10-30T16:45:43.424521Z",
     "start_time": "2020-10-30T16:45:43.386749Z"
    },
    "hidden": true
   },
   "outputs": [],
   "source": [
    "mu_beta, std_beta = norm.fit(samples_dict_wave1['beta'])\n",
    "mu_sigma_data, std_sigma_data = norm.fit(samples_dict_wave1['beta'])"
   ]
  },
  {
   "cell_type": "code",
   "execution_count": null,
   "metadata": {
    "ExecuteTime": {
     "end_time": "2020-10-30T16:45:43.499159Z",
     "start_time": "2020-10-30T16:45:43.461809Z"
    },
    "hidden": true
   },
   "outputs": [],
   "source": [
    "beta_init = np.mean(samples_dict_wave1['beta'])\n",
    "sigma_data_init = np.mean(samples_dict_wave1['sigma_data'])\n",
    "beta_norm_params = (mu_beta, std_beta)\n",
    "sigma_data_norm_params = (mu_sigma_data, std_sigma_data)"
   ]
  },
  {
   "cell_type": "code",
   "execution_count": null,
   "metadata": {
    "ExecuteTime": {
     "start_time": "2020-10-30T16:45:57.123Z"
    },
    "hidden": true,
    "scrolled": true
   },
   "outputs": [],
   "source": [
    "samples_dict = full_calibration_wave2(model_aug, timeseries, spatial_unit, start_date, end_beta, \n",
    "                                      beta_init, sigma_data_init, beta_norm_params,sigma_data_norm_params,\n",
    "                                      fig_path=fig_path, samples_path=samples_path,\n",
    "                                      initN=initN, Nc_total=Nc_total,steps_mcmc=500)"
   ]
  },
  {
   "cell_type": "code",
   "execution_count": null,
   "metadata": {
    "ExecuteTime": {
     "end_time": "2020-10-30T15:45:24.407966Z",
     "start_time": "2020-10-30T15:45:24.196743Z"
    },
    "hidden": true
   },
   "outputs": [],
   "source": [
    "# Load the dictionary containing the posterior parameter distributions obtained from calibrating the model to Belgian hospitalization data\n",
    "with open('../data/interim/model_parameters/provinces/Luik_wave2_from_aug_NVD_2020-10-30.json', 'r') as fp:\n",
    "    samples_dict = json.load(fp)\n"
   ]
  },
  {
   "cell_type": "code",
   "execution_count": null,
   "metadata": {
    "ExecuteTime": {
     "end_time": "2020-10-30T16:21:36.785703Z",
     "start_time": "2020-10-30T16:21:36.581443Z"
    },
    "hidden": true
   },
   "outputs": [],
   "source": [
    "pd.Series(samples_dict['beta']).describe()"
   ]
  },
  {
   "cell_type": "code",
   "execution_count": null,
   "metadata": {
    "ExecuteTime": {
     "end_time": "2020-10-30T15:45:55.789033Z",
     "start_time": "2020-10-30T15:45:38.264677Z"
    },
    "hidden": true,
    "scrolled": false
   },
   "outputs": [],
   "source": [
    "states = [['H_in']]\n",
    "end_date = '2021-01-01' #end_beta\n",
    "data=[timeseries[start_date:end_beta].values]\n",
    "\n",
    "fig,ax=plt.subplots(figsize=(8,8))\n",
    "for i in range(20):\n",
    "    idx,model_aug.parameters['beta'] = random.choice(list(enumerate(samples_dict['beta'])))\n",
    "    y_model = model_aug.sim(time=end_date, excess_time=0, start_date=start_date)\n",
    "    ax = plot_fit(y_model,data,start_date,lag_time=0,states=states,end_date=end_date,\n",
    "                  with_ints=False,ax=ax,plt_kwargs={'color':'blue','linewidth': 2,'alpha': 0.05})\n",
    "plt.setp(plt.gca().xaxis.get_majorticklabels(),'rotation', 0)\n",
    "#data_after_calib = timeseries[pd.to_datetime(end_ramp)+pd.to_timedelta('1d'):end_date]\n",
    "#plt.scatter(data_after_calib.index, data_after_calib.values, marker='o',color='red',linestyle='None',facecolors='none')\n",
    "legend_text=['daily \\nhospitalizations']\n",
    "ax.set_xlim('2020-08-01', '2021-01-01')\n",
    "ax.set_ylabel('daily hospitalizations')\n",
    "# fig.savefig(fig_path+spatial_unit+'.pdf',\n",
    "#             bbox_inches='tight', dpi=600)"
   ]
  },
  {
   "cell_type": "code",
   "execution_count": null,
   "metadata": {
    "ExecuteTime": {
     "end_time": "2020-10-29T09:00:39.961180Z",
     "start_time": "2020-10-29T09:00:35.679844Z"
    },
    "hidden": true
   },
   "outputs": [],
   "source": [
    "fig.savefig(fig_path+spatial_unit+'.pdf',\n",
    "            bbox_inches='tight', dpi=600)"
   ]
  },
  {
   "cell_type": "markdown",
   "metadata": {},
   "source": [
    "# Calibration on increasing line"
   ]
  },
  {
   "cell_type": "code",
   "execution_count": null,
   "metadata": {
    "ExecuteTime": {
     "end_time": "2020-11-02T10:29:08.435630Z",
     "start_time": "2020-11-02T10:29:08.368416Z"
    }
   },
   "outputs": [],
   "source": [
    "# Load the dictionary containing the posterior parameter distributions obtained from calibrating the model to Belgian hospitalization data\n",
    "with open('../data/interim/model_parameters/provinces/Luik_wave1_1000steps_2020-10-28.json', 'r') as fp:\n",
    "    samples_dict_wave1 = json.load(fp)"
   ]
  },
  {
   "cell_type": "code",
   "execution_count": null,
   "metadata": {
    "ExecuteTime": {
     "end_time": "2020-11-02T10:29:08.835877Z",
     "start_time": "2020-11-02T10:29:08.786568Z"
    }
   },
   "outputs": [],
   "source": [
    "def policies_until_september(t,param,start_date,policy_time,policy1,policy2,policy3,policy4,policy5,\n",
    "                               policy6,policy7,policy8,policy9,policy10,l,tau,prevention):\n",
    "\n",
    "    tau_days = pd.to_timedelta(tau, unit='D')\n",
    "    l_days = pd.to_timedelta(l, unit='D')\n",
    "    t1 = pd.to_datetime('2020-05-04') # reopening industry\n",
    "    t2 = pd.to_datetime('2020-05-06') # merging of two bubbels\n",
    "    t3 = pd.to_datetime('2020-05-11') # reopening of businesses\n",
    "    t4 = pd.to_datetime('2020-05-18') # partial reopening schools\n",
    "    t5 = pd.to_datetime('2020-06-04') # reopening schools, bars, restaurants\n",
    "    t6 = pd.to_datetime('2020-07-01') # school holidays, gatherings 15 people, cultural event\n",
    "    t7 = pd.to_datetime('2020-07-31') # ?\n",
    "    t8 = pd.to_datetime('2020-07-31') # opening schools\n",
    "    \n",
    "    if t <= start_date + tau_days:\n",
    "        return policy1\n",
    "    elif start_date + tau_days < t <= start_date + tau_days + l_days:\n",
    "        return ramp_fun(policy1, policy2, t, tau_days, l, start_date)\n",
    "    elif start_date + tau_days + l_days < t <= t1: \n",
    "        return prevention*policy2\n",
    "    elif t1 < t <= t2:\n",
    "        return prevention*policy3\n",
    "    elif t2 < t <= t3:\n",
    "        return prevention*policy4\n",
    "    elif t3 < t <= t4:\n",
    "        return prevention*policy5\n",
    "    elif t4 < t <= t5:\n",
    "        return prevention*policy6\n",
    "    elif t5 < t <= t6:\n",
    "        return prevention*policy7\n",
    "    elif t6 < t <= t7:\n",
    "        return prevention*policy8\n",
    "    elif t7 < t <= t8:\n",
    "        return prevention*policy9\n",
    "    elif t8 < t:\n",
    "        return prevention*policy10"
   ]
  },
  {
   "cell_type": "code",
   "execution_count": null,
   "metadata": {
    "ExecuteTime": {
     "end_time": "2020-11-02T10:29:10.994356Z",
     "start_time": "2020-11-02T10:29:10.657242Z"
    }
   },
   "outputs": [],
   "source": [
    "# Load the model parameters using `get_COVID19_SEIRD_parameters()`.\n",
    "params = model_parameters.get_COVID19_SEIRD_parameters()\n",
    "\n",
    "params.update({'policy1': Nc_total,\n",
    "              'policy2': 1.0*Nc_home + (1-0.60)*Nc_work + (1-0.70)*Nc_transport + (1-0.30)*Nc_others + (1-0.80)*Nc_leisure,\n",
    "              'policy3': 1.0*Nc_home + (1-0.50)*Nc_work + (1-0.60)*Nc_transport + (1-0.30)*Nc_others + (1-0.70)*Nc_leisure,\n",
    "              'policy4': 1.0*Nc_home + (1-0.40)*Nc_work + (1-0.55)*Nc_transport + (1-0.25)*Nc_others + (1-0.65)*Nc_leisure,\n",
    "              'policy5': 1.0*Nc_home + (1-0.30)*Nc_work + (1-0.50)*Nc_transport + (1-0.20)*Nc_others + (1-0.60)*Nc_leisure,\n",
    "              'policy6': 1.0*Nc_home + (1-0.30)*Nc_work + (1-0.45)*Nc_transport + (1-0.15)*Nc_others + (1-0.85)*Nc_schools + (1-0.50)*Nc_leisure,\n",
    "              'policy7': 1.0*Nc_home + (1-0.25)*Nc_work + (1-0.35)*Nc_transport + (1-0.10)*Nc_others + (1-0.35)*Nc_schools + (1-0.30)*Nc_leisure,\n",
    "              'policy8': 1.0*Nc_home + (1-0.20)*Nc_work + (1-0.25)*Nc_transport + (1-0.05)*Nc_others + (1-0.30)*Nc_leisure,\n",
    "              'policy9': 1.0*Nc_home + (1-0.30)*Nc_work + (1-0.35)*Nc_transport + (1-0.15)*Nc_others + (1-0.40)*Nc_leisure,\n",
    "              'policy10': 1.0*Nc_home + (1-0.00)*Nc_work + (1-0.00)*Nc_transport + (1-0.00)*Nc_others + (1-0.00)*Nc_schools + (1-0.00)*Nc_leisure,\n",
    "              'policy_time': samples_dict_wave1['lag_time'],\n",
    "              'l': 1,\n",
    "              'tau': 5,\n",
    "              'prevention': 0.5,\n",
    "              'start_date':pd.to_datetime('2020-03-15')})\n",
    "\n",
    "# Define the initial condition: one exposed inidividual in every age category\n",
    "initial_states = {'S': initN, 'E': np.ones(levels)}\n",
    "# Initialize the model\n",
    "model = models.COVID19_SEIRD(initial_states, params, time_dependent_parameters={'Nc': policies_until_september})"
   ]
  },
  {
   "cell_type": "code",
   "execution_count": null,
   "metadata": {
    "ExecuteTime": {
     "end_time": "2020-10-30T16:47:19.255536Z",
     "start_time": "2020-10-30T16:46:49.918556Z"
    }
   },
   "outputs": [],
   "source": [
    "out_sept28 = model.sim(time='2020-09-28', excess_time=samples_dict_wave1['lag_time'],start_date='2020-03-15',\n",
    "                   N=100, draw_fcn=draw_sample_COVID19_SEIRD,samples=samples_dict_wave1)\n",
    "states = out_sept28.isel(time=-1).mean(dim=\"draws\")\n",
    "initial_states_sept28 = {key:states[key].values for key in initial_states.keys()}"
   ]
  },
  {
   "cell_type": "code",
   "execution_count": null,
   "metadata": {
    "ExecuteTime": {
     "end_time": "2020-10-30T16:56:35.394679Z",
     "start_time": "2020-10-30T16:56:35.351424Z"
    }
   },
   "outputs": [],
   "source": [
    "np.save('../data/interim/prediction_provinces/Luik_initial_states_july1.npy', initial_states_july1)"
   ]
  },
  {
   "cell_type": "code",
   "execution_count": null,
   "metadata": {},
   "outputs": [],
   "source": []
  },
  {
   "cell_type": "markdown",
   "metadata": {},
   "source": [
    "# Run in parallel"
   ]
  },
  {
   "cell_type": "code",
   "execution_count": null,
   "metadata": {
    "ExecuteTime": {
     "end_time": "2020-09-08T06:47:28.719315Z",
     "start_time": "2020-09-08T06:47:28.681105Z"
    }
   },
   "outputs": [],
   "source": [
    "arr_list = list(nonpublic_ts.NIS.unique())"
   ]
  },
  {
   "cell_type": "code",
   "execution_count": null,
   "metadata": {
    "ExecuteTime": {
     "end_time": "2020-09-08T06:47:28.972641Z",
     "start_time": "2020-09-08T06:47:28.922951Z"
    }
   },
   "outputs": [],
   "source": [
    "def run_me_parallel(arr):\n",
    "    arrond_ts = nonpublic_ts.pivot(index='DATE', columns='NIS', values='hospitalised_IN')[arr]\n",
    "    samples_dict = full_calibration(model, arrond_ts, arr, start_date, end_beta, end_ramp, \n",
    "                                fig_path, samples_path)\n",
    "                                #maxiter=10, popsize=10, steps_mcmc=250)\n",
    "    \n",
    "    states = [['H_in']]\n",
    "    end_date = '2020-09-20'\n",
    "    data=[arrond_ts[start_date:end_ramp].values]\n",
    "    fig,ax=plt.subplots()\n",
    "    for i in range(200):\n",
    "        idx,model.parameters['beta'] = random.choice(list(enumerate(samples_dict['beta'])))\n",
    "        idx,model.parameters['l'] = random.choice(list(enumerate(samples_dict['l'])))\n",
    "        model.parameters['tau'] = samples_dict['tau'][idx]\n",
    "        prevention = samples_dict['prevention'][idx]\n",
    "        # Create a dictionary of past policies\n",
    "        chk = {'time':   [start_date], \n",
    "              'Nc':      [prevention*(Nc_home + 0.4*Nc_work + 0.3*Nc_transport + 0.7*Nc_others + 0.2*Nc_leisure)]\n",
    "              }\n",
    "        y_model = model.sim(time=end_date, excess_time=samples_dict['lag_time'],checkpoints=chk)\n",
    "        ax = plot_fit(y_model,data,start_date,samples_dict['lag_time'],states,end_date=end_date,with_ints=False,ax=ax,plt_kwargs={'color':'blue','linewidth': 2,'alpha': 0.05})\n",
    "\n",
    "    data_after_calib = arrond_ts[pd.to_datetime(end_ramp)+pd.to_timedelta('1d'):end_date]\n",
    "    plt.scatter(data_after_calib.index, data_after_calib.values, marker='o',color='red',linestyle='None',facecolors='none')\n",
    "    legend_text=['daily \\nhospitalizations']\n",
    "    ax.set_xlim('2020-03-10', '2020-08-03')\n",
    "    fig.savefig('../results/calibrations_arrondissements/'+str(arr)+'_'+str(datetime.date.today())+'.pdf',\n",
    "                bbox_inches='tight', dpi=600)\n",
    "    return"
   ]
  },
  {
   "cell_type": "code",
   "execution_count": null,
   "metadata": {
    "ExecuteTime": {
     "end_time": "2020-08-21T21:22:05.230236Z",
     "start_time": "2020-08-21T21:22:05.183627Z"
    }
   },
   "outputs": [],
   "source": [
    "tasks = []\n",
    "for arr in arr_list:\n",
    "    task = dask.delayed(run_me_parallel)(arr)\n",
    "    tasks.append(task)\n",
    "    "
   ]
  },
  {
   "cell_type": "code",
   "execution_count": null,
   "metadata": {
    "ExecuteTime": {
     "end_time": "2020-08-22T04:06:54.088203Z",
     "start_time": "2020-08-21T21:22:20.296014Z"
    }
   },
   "outputs": [],
   "source": [
    "dask.compute(*tasks, scheduler='processes')"
   ]
  },
  {
   "cell_type": "code",
   "execution_count": null,
   "metadata": {
    "ExecuteTime": {
     "end_time": "2020-08-27T15:37:21.955310Z",
     "start_time": "2020-08-27T15:37:21.911174Z"
    }
   },
   "outputs": [],
   "source": [
    "run_date = '2020-08-22'"
   ]
  },
  {
   "cell_type": "code",
   "execution_count": null,
   "metadata": {
    "ExecuteTime": {
     "end_time": "2020-08-27T15:37:22.598066Z",
     "start_time": "2020-08-27T15:37:22.246770Z"
    }
   },
   "outputs": [],
   "source": [
    "with open(samples_path+'44000'+'_'+run_date+'.json', 'r') as fp:\n",
    "    samples_dict = json.load(fp)"
   ]
  },
  {
   "cell_type": "markdown",
   "metadata": {},
   "source": []
  }
 ],
 "metadata": {
  "kernelspec": {
   "display_name": "COVID19",
   "language": "python",
   "name": "python3"
  },
  "language_info": {
   "codemirror_mode": {
    "name": "ipython",
    "version": 3
   },
   "file_extension": ".py",
   "mimetype": "text/x-python",
   "name": "python",
   "nbconvert_exporter": "python",
   "pygments_lexer": "ipython3",
   "version": "3.7.7"
  },
  "toc": {
   "base_numbering": 1,
   "nav_menu": {},
   "number_sections": true,
   "sideBar": true,
   "skip_h1_title": false,
   "title_cell": "Table of Contents",
   "title_sidebar": "Contents",
   "toc_cell": false,
   "toc_position": {
    "height": "calc(100% - 180px)",
    "left": "10px",
    "top": "150px",
    "width": "288px"
   },
   "toc_section_display": true,
   "toc_window_display": true
  }
 },
 "nbformat": 4,
 "nbformat_minor": 4
}
