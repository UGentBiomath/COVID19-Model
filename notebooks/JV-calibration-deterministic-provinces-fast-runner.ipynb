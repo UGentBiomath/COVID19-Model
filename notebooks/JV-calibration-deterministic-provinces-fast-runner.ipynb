{
 "cells": [
  {
   "cell_type": "markdown",
   "metadata": {},
   "source": [
    "**Calibration of the age-stratified deterministic model**\n",
    "\n",
    "*Original code by Ryan S. McGee. Modified by T.W. Alleman in consultation with the BIOMATH research unit headed by prof. Ingmar Nopens.*\n",
    "\n",
    "Copyright (c) 2020 by T.W. Alleman, BIOMATH, Ghent University. All Rights Reserved.\n",
    "\n",
    "This notebook accompanies our preprint: \"*A deterministic, age-stratified, extended SEIRD model for assessing the effect of non-pharmaceutical interventions on SARS-CoV-2 spread in Belgium*\"(https://doi.org/10.1101/2020.07.17.20156034)"
   ]
  },
  {
   "cell_type": "markdown",
   "metadata": {},
   "source": [
    "# Load required packages"
   ]
  },
  {
   "cell_type": "code",
   "execution_count": 1,
   "metadata": {
    "ExecuteTime": {
     "end_time": "2020-10-28T20:14:00.482746Z",
     "start_time": "2020-10-28T20:13:57.902913Z"
    }
   },
   "outputs": [],
   "source": [
    "import random\n",
    "import os\n",
    "import numpy as np\n",
    "%matplotlib notebook\n",
    "import matplotlib.pyplot as plt\n",
    "from IPython.display import Image\n",
    "from ipywidgets import interact,fixed,FloatSlider,IntSlider,ToggleButtons\n",
    "import pandas as pd\n",
    "from datetime import datetime, timedelta\n",
    "import scipy\n",
    "from scipy.integrate import odeint\n",
    "import matplotlib.dates as mdates\n",
    "import matplotlib\n",
    "import scipy.stats as st\n",
    "\n",
    "import math\n",
    "import xarray as xr\n",
    "import emcee\n",
    "import json\n",
    "import corner\n",
    "\n",
    "from covid19model.optimization import objective_fcns\n",
    "from covid19model.optimization import MCMC\n",
    "from covid19model.models import models\n",
    "from covid19model.data import google\n",
    "from covid19model.data import sciensano\n",
    "from covid19model.data import model_parameters\n",
    "from covid19model.visualization.output import population_status, infected\n",
    "from covid19model.visualization.optimization import plot_fit, traceplot\n",
    "from covid19model.optimization.run_optimization import full_calibration\n",
    "from covid19model.models.utils import draw_sample_COVID19_SEIRD\n",
    "\n",
    "\n",
    "# OPTIONAL: Load the \"autoreload\" extension so that package code can change\n",
    "%load_ext autoreload\n",
    "# OPTIONAL: always reload modules so that as you change code in src, it gets loaded\n",
    "%autoreload 2"
   ]
  },
  {
   "cell_type": "code",
   "execution_count": null,
   "metadata": {
    "ExecuteTime": {
     "end_time": "2020-10-28T08:37:34.257807Z",
     "start_time": "2020-10-28T08:37:34.222275Z"
    }
   },
   "outputs": [],
   "source": [
    "# import dask\n",
    "\n",
    "# from dask.distributed import Client, progress\n",
    "# client = Client(threads_per_worker=16, n_workers=1)\n",
    "# client"
   ]
  },
  {
   "cell_type": "markdown",
   "metadata": {},
   "source": [
    "# Get public data"
   ]
  },
  {
   "cell_type": "code",
   "execution_count": null,
   "metadata": {
    "ExecuteTime": {
     "end_time": "2020-10-28T08:37:34.295863Z",
     "start_time": "2020-10-28T08:37:34.260569Z"
    }
   },
   "outputs": [],
   "source": [
    "#df_sciensano = sciensano.get_sciensano_COVID19_data(update=False)\n"
   ]
  },
  {
   "cell_type": "code",
   "execution_count": 2,
   "metadata": {
    "ExecuteTime": {
     "end_time": "2020-10-28T20:14:00.534845Z",
     "start_time": "2020-10-28T20:14:00.485255Z"
    }
   },
   "outputs": [],
   "source": [
    "raw_hosp_data = pd.read_csv('../data/raw/sciensano/COVID19BE_HOSP.csv', parse_dates=['DATE'])\n",
    "Luik_hosp_data = raw_hosp_data[raw_hosp_data.PROVINCE=='Liège']"
   ]
  },
  {
   "cell_type": "code",
   "execution_count": null,
   "metadata": {
    "ExecuteTime": {
     "end_time": "2020-10-28T15:56:19.660201Z",
     "start_time": "2020-10-28T15:56:19.624705Z"
    }
   },
   "outputs": [],
   "source": [
    "#Luik_hosp_data.plot('DATE','NEW_IN')"
   ]
  },
  {
   "cell_type": "code",
   "execution_count": 3,
   "metadata": {
    "ExecuteTime": {
     "end_time": "2020-10-28T20:14:01.844221Z",
     "start_time": "2020-10-28T20:14:01.804886Z"
    },
    "scrolled": true
   },
   "outputs": [],
   "source": [
    "Luik_ts = Luik_hosp_data[['DATE','NEW_IN']].set_index('DATE')"
   ]
  },
  {
   "cell_type": "code",
   "execution_count": null,
   "metadata": {
    "ExecuteTime": {
     "end_time": "2020-10-28T15:56:24.073634Z",
     "start_time": "2020-10-28T15:56:24.036476Z"
    }
   },
   "outputs": [],
   "source": [
    "# fig,ax = plt.subplots()\n",
    "# Luik_ts.reset_index() .plot('DATE','NEW_IN', ax=ax)\n",
    "# ax.set_xlim('2020-09-01', '2020-11-01')"
   ]
  },
  {
   "cell_type": "markdown",
   "metadata": {},
   "source": [
    "# Load data"
   ]
  },
  {
   "cell_type": "code",
   "execution_count": 4,
   "metadata": {
    "ExecuteTime": {
     "end_time": "2020-10-28T20:14:04.052742Z",
     "start_time": "2020-10-28T20:14:03.740197Z"
    }
   },
   "outputs": [],
   "source": [
    "# Load the interaction matrices (size: 9x9)\n",
    "initN, Nc_home, Nc_work, Nc_schools, Nc_transport, Nc_leisure, Nc_others, Nc_total = model_parameters.get_interaction_matrices(dataset='willem_2012')\n",
    "# Define the number of age categories\n",
    "levels = initN.size\n",
    "#province_names = pd.read_csv('../data/raw/GIS/NIS_province.csv')\n",
    "initN_province = pd.read_csv('../data/interim/demographic/initN_province.csv')\n",
    "initN = np.array(list(initN_province.set_index('NIS').loc[60000].iloc[:9]))"
   ]
  },
  {
   "cell_type": "markdown",
   "metadata": {},
   "source": [
    "# Initialize the model"
   ]
  },
  {
   "cell_type": "code",
   "execution_count": 5,
   "metadata": {
    "ExecuteTime": {
     "end_time": "2020-10-28T20:14:05.745475Z",
     "start_time": "2020-10-28T20:14:05.706404Z"
    }
   },
   "outputs": [],
   "source": [
    "# Define the compliance and lockdown function\n",
    "def lockdown_func(t,param,policy_time,policy1,policy2,l,tau,prevention):\n",
    "    if t <= policy_time + tau:\n",
    "        return policy1\n",
    "    elif policy_time + tau < t <= policy_time + tau + l:\n",
    "        return policy1 + (prevention*policy2-policy1)/l*(t-policy_time-tau)\n",
    "    else:\n",
    "        return prevention*policy2"
   ]
  },
  {
   "cell_type": "code",
   "execution_count": 6,
   "metadata": {
    "ExecuteTime": {
     "end_time": "2020-10-28T20:14:06.948160Z",
     "start_time": "2020-10-28T20:14:06.627314Z"
    }
   },
   "outputs": [],
   "source": [
    "# Load the parameters using `get_COVID19_SEIRD_parameters()`.\n",
    "params = model_parameters.get_COVID19_SEIRD_parameters()\n",
    "params.update({'policy1': Nc_total,\n",
    "              'policy2': 1.0*Nc_home + (1-0.60)*Nc_work + (1-0.70)*Nc_transport + (1-0.30)*Nc_others + (1-0.80)*Nc_leisure,\n",
    "              'policy_time': 500,\n",
    "              'l': 1,\n",
    "              'tau': 5,\n",
    "              'prevention': 0.5})\n",
    "# Define the initial condition: one exposed inidividual in every age category\n",
    "initial_states = {'S': initN, 'E': np.ones(levels)}\n",
    "model = models.COVID19_SEIRD(initial_states, params, time_dependent_parameters={'Nc': lockdown_func})"
   ]
  },
  {
   "cell_type": "code",
   "execution_count": 7,
   "metadata": {
    "ExecuteTime": {
     "end_time": "2020-10-28T20:14:07.528825Z",
     "start_time": "2020-10-28T20:14:07.492253Z"
    }
   },
   "outputs": [],
   "source": [
    "fig_path = '../results/calibrations_provinces/'\n",
    "samples_path = '../data/interim/model_parameters/provinces/'"
   ]
  },
  {
   "cell_type": "code",
   "execution_count": 8,
   "metadata": {
    "ExecuteTime": {
     "end_time": "2020-10-28T20:14:08.623456Z",
     "start_time": "2020-10-28T20:14:08.586543Z"
    }
   },
   "outputs": [],
   "source": [
    "timeseries = Luik_ts['NEW_IN']\n",
    "spatial_unit = 'Luik_wave1_1000steps'"
   ]
  },
  {
   "cell_type": "markdown",
   "metadata": {},
   "source": [
    "# Calibration on first wave"
   ]
  },
  {
   "cell_type": "code",
   "execution_count": 9,
   "metadata": {
    "ExecuteTime": {
     "end_time": "2020-10-28T20:14:10.584840Z",
     "start_time": "2020-10-28T20:14:10.545882Z"
    }
   },
   "outputs": [],
   "source": [
    "## First wave\n",
    "start_date = '2020-03-15'\n",
    "end_beta = '2020-03-25'#'2020-03-22'\n",
    "end_ramp = '2020-05-23'"
   ]
  },
  {
   "cell_type": "code",
   "execution_count": 10,
   "metadata": {
    "ExecuteTime": {
     "end_time": "2020-10-28T20:14:12.139564Z",
     "start_time": "2020-10-28T20:14:12.089720Z"
    }
   },
   "outputs": [
    {
     "data": {
      "text/plain": [
       "11"
      ]
     },
     "execution_count": 10,
     "metadata": {},
     "output_type": "execute_result"
    }
   ],
   "source": [
    "len(Luik_ts.loc[start_date:end_beta])"
   ]
  },
  {
   "cell_type": "code",
   "execution_count": 11,
   "metadata": {
    "ExecuteTime": {
     "end_time": "2020-10-28T20:14:12.461864Z",
     "start_time": "2020-10-28T20:14:12.418452Z"
    }
   },
   "outputs": [
    {
     "data": {
      "text/plain": [
       "60"
      ]
     },
     "execution_count": 11,
     "metadata": {},
     "output_type": "execute_result"
    }
   ],
   "source": [
    "len(Luik_ts.loc[end_beta:end_ramp])"
   ]
  },
  {
   "cell_type": "code",
   "execution_count": null,
   "metadata": {
    "ExecuteTime": {
     "end_time": "2020-10-28T11:20:55.462246Z",
     "start_time": "2020-10-28T11:20:55.424200Z"
    }
   },
   "outputs": [],
   "source": [
    "# function parameters \n",
    "# maxiter=100\n",
    "# popsize=200\n",
    "# steps_mcmc=10000\n"
   ]
  },
  {
   "cell_type": "code",
   "execution_count": null,
   "metadata": {
    "ExecuteTime": {
     "end_time": "2020-10-28T16:18:00.280654Z",
     "start_time": "2020-10-28T15:56:44.137100Z"
    },
    "scrolled": true
   },
   "outputs": [],
   "source": [
    "samples_dict = full_calibration(model, timeseries, spatial_unit, start_date, end_beta, end_ramp, \n",
    "                            fig_path=fig_path, samples_path=samples_path,\n",
    "                            maxiter=100, popsize=100, steps_mcmc=1000)\n",
    "\n"
   ]
  },
  {
   "cell_type": "code",
   "execution_count": null,
   "metadata": {
    "ExecuteTime": {
     "end_time": "2020-10-28T20:13:34.284713Z",
     "start_time": "2020-10-28T20:13:29.156996Z"
    },
    "scrolled": false
   },
   "outputs": [],
   "source": [
    "states = [['H_in']]\n",
    "end_date = '2020-07-01'\n",
    "data=[timeseries[start_date:end_ramp].values]\n",
    "\n",
    "fig,ax=plt.subplots()\n",
    "for i in range(200):\n",
    "    idx,model.parameters['beta'] = random.choice(list(enumerate(samples_dict['beta'])))\n",
    "    idx,model.parameters['l'] = random.choice(list(enumerate(samples_dict['l'])))\n",
    "    model.parameters['tau'] = samples_dict['tau'][idx]\n",
    "    model.parameters['policy_time'] = samples_dict['lag_time']\n",
    "    model.parameters['prevention'] = samples_dict['prevention'][idx]\n",
    "    y_model = model.sim(time=end_date, excess_time=samples_dict['lag_time'], start_date=start_date)\n",
    "    ax = plot_fit(y_model,data,start_date,samples_dict['lag_time'],states,end_date=end_date,with_ints=False,ax=ax,plt_kwargs={'color':'blue','linewidth': 2,'alpha': 0.05})\n",
    "\n",
    "data_after_calib = timeseries[pd.to_datetime(end_ramp)+pd.to_timedelta('1d'):end_date]\n",
    "plt.scatter(data_after_calib.index, data_after_calib.values, marker='o',color='red',linestyle='None',facecolors='none')\n",
    "legend_text=['daily \\nhospitalizations']\n",
    "ax.set_xlim('2020-03-10', '2020-07-01')\n",
    "fig.savefig(fig_path+spatial_unit+'.pdf',\n",
    "            bbox_inches='tight', dpi=600)"
   ]
  },
  {
   "cell_type": "markdown",
   "metadata": {},
   "source": [
    "# Run simulation until first september"
   ]
  },
  {
   "cell_type": "code",
   "execution_count": 12,
   "metadata": {
    "ExecuteTime": {
     "end_time": "2020-10-28T20:14:21.603527Z",
     "start_time": "2020-10-28T20:14:21.399956Z"
    }
   },
   "outputs": [],
   "source": [
    "# Load the dictionary containing the posterior parameter distributions obtained from calibrating the model to Belgian hospitalization data\n",
    "with open('../data/interim/model_parameters/provinces/Luik_wave1_1000steps_2020-10-28.json', 'r') as fp:\n",
    "    samples_dict_wave1 = json.load(fp)"
   ]
  },
  {
   "cell_type": "code",
   "execution_count": 17,
   "metadata": {
    "ExecuteTime": {
     "end_time": "2020-10-28T20:21:55.094837Z",
     "start_time": "2020-10-28T20:21:49.029186Z"
    },
    "scrolled": false
   },
   "outputs": [
    {
     "data": {
      "application/javascript": [
       "/* Put everything inside the global mpl namespace */\n",
       "/* global mpl */\n",
       "window.mpl = {};\n",
       "\n",
       "mpl.get_websocket_type = function () {\n",
       "    if (typeof WebSocket !== 'undefined') {\n",
       "        return WebSocket;\n",
       "    } else if (typeof MozWebSocket !== 'undefined') {\n",
       "        return MozWebSocket;\n",
       "    } else {\n",
       "        alert(\n",
       "            'Your browser does not have WebSocket support. ' +\n",
       "                'Please try Chrome, Safari or Firefox ≥ 6. ' +\n",
       "                'Firefox 4 and 5 are also supported but you ' +\n",
       "                'have to enable WebSockets in about:config.'\n",
       "        );\n",
       "    }\n",
       "};\n",
       "\n",
       "mpl.figure = function (figure_id, websocket, ondownload, parent_element) {\n",
       "    this.id = figure_id;\n",
       "\n",
       "    this.ws = websocket;\n",
       "\n",
       "    this.supports_binary = this.ws.binaryType !== undefined;\n",
       "\n",
       "    if (!this.supports_binary) {\n",
       "        var warnings = document.getElementById('mpl-warnings');\n",
       "        if (warnings) {\n",
       "            warnings.style.display = 'block';\n",
       "            warnings.textContent =\n",
       "                'This browser does not support binary websocket messages. ' +\n",
       "                'Performance may be slow.';\n",
       "        }\n",
       "    }\n",
       "\n",
       "    this.imageObj = new Image();\n",
       "\n",
       "    this.context = undefined;\n",
       "    this.message = undefined;\n",
       "    this.canvas = undefined;\n",
       "    this.rubberband_canvas = undefined;\n",
       "    this.rubberband_context = undefined;\n",
       "    this.format_dropdown = undefined;\n",
       "\n",
       "    this.image_mode = 'full';\n",
       "\n",
       "    this.root = document.createElement('div');\n",
       "    this.root.setAttribute('style', 'display: inline-block');\n",
       "    this._root_extra_style(this.root);\n",
       "\n",
       "    parent_element.appendChild(this.root);\n",
       "\n",
       "    this._init_header(this);\n",
       "    this._init_canvas(this);\n",
       "    this._init_toolbar(this);\n",
       "\n",
       "    var fig = this;\n",
       "\n",
       "    this.waiting = false;\n",
       "\n",
       "    this.ws.onopen = function () {\n",
       "        fig.send_message('supports_binary', { value: fig.supports_binary });\n",
       "        fig.send_message('send_image_mode', {});\n",
       "        if (mpl.ratio !== 1) {\n",
       "            fig.send_message('set_dpi_ratio', { dpi_ratio: mpl.ratio });\n",
       "        }\n",
       "        fig.send_message('refresh', {});\n",
       "    };\n",
       "\n",
       "    this.imageObj.onload = function () {\n",
       "        if (fig.image_mode === 'full') {\n",
       "            // Full images could contain transparency (where diff images\n",
       "            // almost always do), so we need to clear the canvas so that\n",
       "            // there is no ghosting.\n",
       "            fig.context.clearRect(0, 0, fig.canvas.width, fig.canvas.height);\n",
       "        }\n",
       "        fig.context.drawImage(fig.imageObj, 0, 0);\n",
       "    };\n",
       "\n",
       "    this.imageObj.onunload = function () {\n",
       "        fig.ws.close();\n",
       "    };\n",
       "\n",
       "    this.ws.onmessage = this._make_on_message_function(this);\n",
       "\n",
       "    this.ondownload = ondownload;\n",
       "};\n",
       "\n",
       "mpl.figure.prototype._init_header = function () {\n",
       "    var titlebar = document.createElement('div');\n",
       "    titlebar.classList =\n",
       "        'ui-dialog-titlebar ui-widget-header ui-corner-all ui-helper-clearfix';\n",
       "    var titletext = document.createElement('div');\n",
       "    titletext.classList = 'ui-dialog-title';\n",
       "    titletext.setAttribute(\n",
       "        'style',\n",
       "        'width: 100%; text-align: center; padding: 3px;'\n",
       "    );\n",
       "    titlebar.appendChild(titletext);\n",
       "    this.root.appendChild(titlebar);\n",
       "    this.header = titletext;\n",
       "};\n",
       "\n",
       "mpl.figure.prototype._canvas_extra_style = function (_canvas_div) {};\n",
       "\n",
       "mpl.figure.prototype._root_extra_style = function (_canvas_div) {};\n",
       "\n",
       "mpl.figure.prototype._init_canvas = function () {\n",
       "    var fig = this;\n",
       "\n",
       "    var canvas_div = (this.canvas_div = document.createElement('div'));\n",
       "    canvas_div.setAttribute(\n",
       "        'style',\n",
       "        'border: 1px solid #ddd;' +\n",
       "            'box-sizing: content-box;' +\n",
       "            'clear: both;' +\n",
       "            'min-height: 1px;' +\n",
       "            'min-width: 1px;' +\n",
       "            'outline: 0;' +\n",
       "            'overflow: hidden;' +\n",
       "            'position: relative;' +\n",
       "            'resize: both;'\n",
       "    );\n",
       "\n",
       "    function on_keyboard_event_closure(name) {\n",
       "        return function (event) {\n",
       "            return fig.key_event(event, name);\n",
       "        };\n",
       "    }\n",
       "\n",
       "    canvas_div.addEventListener(\n",
       "        'keydown',\n",
       "        on_keyboard_event_closure('key_press')\n",
       "    );\n",
       "    canvas_div.addEventListener(\n",
       "        'keyup',\n",
       "        on_keyboard_event_closure('key_release')\n",
       "    );\n",
       "\n",
       "    this._canvas_extra_style(canvas_div);\n",
       "    this.root.appendChild(canvas_div);\n",
       "\n",
       "    var canvas = (this.canvas = document.createElement('canvas'));\n",
       "    canvas.classList.add('mpl-canvas');\n",
       "    canvas.setAttribute('style', 'box-sizing: content-box;');\n",
       "\n",
       "    this.context = canvas.getContext('2d');\n",
       "\n",
       "    var backingStore =\n",
       "        this.context.backingStorePixelRatio ||\n",
       "        this.context.webkitBackingStorePixelRatio ||\n",
       "        this.context.mozBackingStorePixelRatio ||\n",
       "        this.context.msBackingStorePixelRatio ||\n",
       "        this.context.oBackingStorePixelRatio ||\n",
       "        this.context.backingStorePixelRatio ||\n",
       "        1;\n",
       "\n",
       "    mpl.ratio = (window.devicePixelRatio || 1) / backingStore;\n",
       "\n",
       "    var rubberband_canvas = (this.rubberband_canvas = document.createElement(\n",
       "        'canvas'\n",
       "    ));\n",
       "    rubberband_canvas.setAttribute(\n",
       "        'style',\n",
       "        'box-sizing: content-box; position: absolute; left: 0; top: 0; z-index: 1;'\n",
       "    );\n",
       "\n",
       "    var resizeObserver = new ResizeObserver(function (entries) {\n",
       "        var nentries = entries.length;\n",
       "        for (var i = 0; i < nentries; i++) {\n",
       "            var entry = entries[i];\n",
       "            var width, height;\n",
       "            if (entry.contentBoxSize) {\n",
       "                if (entry.contentBoxSize instanceof Array) {\n",
       "                    // Chrome 84 implements new version of spec.\n",
       "                    width = entry.contentBoxSize[0].inlineSize;\n",
       "                    height = entry.contentBoxSize[0].blockSize;\n",
       "                } else {\n",
       "                    // Firefox implements old version of spec.\n",
       "                    width = entry.contentBoxSize.inlineSize;\n",
       "                    height = entry.contentBoxSize.blockSize;\n",
       "                }\n",
       "            } else {\n",
       "                // Chrome <84 implements even older version of spec.\n",
       "                width = entry.contentRect.width;\n",
       "                height = entry.contentRect.height;\n",
       "            }\n",
       "\n",
       "            // Keep the size of the canvas and rubber band canvas in sync with\n",
       "            // the canvas container.\n",
       "            if (entry.devicePixelContentBoxSize) {\n",
       "                // Chrome 84 implements new version of spec.\n",
       "                canvas.setAttribute(\n",
       "                    'width',\n",
       "                    entry.devicePixelContentBoxSize[0].inlineSize\n",
       "                );\n",
       "                canvas.setAttribute(\n",
       "                    'height',\n",
       "                    entry.devicePixelContentBoxSize[0].blockSize\n",
       "                );\n",
       "            } else {\n",
       "                canvas.setAttribute('width', width * mpl.ratio);\n",
       "                canvas.setAttribute('height', height * mpl.ratio);\n",
       "            }\n",
       "            canvas.setAttribute(\n",
       "                'style',\n",
       "                'width: ' + width + 'px; height: ' + height + 'px;'\n",
       "            );\n",
       "\n",
       "            rubberband_canvas.setAttribute('width', width);\n",
       "            rubberband_canvas.setAttribute('height', height);\n",
       "\n",
       "            // And update the size in Python. We ignore the initial 0/0 size\n",
       "            // that occurs as the element is placed into the DOM, which should\n",
       "            // otherwise not happen due to the minimum size styling.\n",
       "            if (width != 0 && height != 0) {\n",
       "                fig.request_resize(width, height);\n",
       "            }\n",
       "        }\n",
       "    });\n",
       "    resizeObserver.observe(canvas_div);\n",
       "\n",
       "    function on_mouse_event_closure(name) {\n",
       "        return function (event) {\n",
       "            return fig.mouse_event(event, name);\n",
       "        };\n",
       "    }\n",
       "\n",
       "    rubberband_canvas.addEventListener(\n",
       "        'mousedown',\n",
       "        on_mouse_event_closure('button_press')\n",
       "    );\n",
       "    rubberband_canvas.addEventListener(\n",
       "        'mouseup',\n",
       "        on_mouse_event_closure('button_release')\n",
       "    );\n",
       "    // Throttle sequential mouse events to 1 every 20ms.\n",
       "    rubberband_canvas.addEventListener(\n",
       "        'mousemove',\n",
       "        on_mouse_event_closure('motion_notify')\n",
       "    );\n",
       "\n",
       "    rubberband_canvas.addEventListener(\n",
       "        'mouseenter',\n",
       "        on_mouse_event_closure('figure_enter')\n",
       "    );\n",
       "    rubberband_canvas.addEventListener(\n",
       "        'mouseleave',\n",
       "        on_mouse_event_closure('figure_leave')\n",
       "    );\n",
       "\n",
       "    canvas_div.addEventListener('wheel', function (event) {\n",
       "        if (event.deltaY < 0) {\n",
       "            event.step = 1;\n",
       "        } else {\n",
       "            event.step = -1;\n",
       "        }\n",
       "        on_mouse_event_closure('scroll')(event);\n",
       "    });\n",
       "\n",
       "    canvas_div.appendChild(canvas);\n",
       "    canvas_div.appendChild(rubberband_canvas);\n",
       "\n",
       "    this.rubberband_context = rubberband_canvas.getContext('2d');\n",
       "    this.rubberband_context.strokeStyle = '#000000';\n",
       "\n",
       "    this._resize_canvas = function (width, height, forward) {\n",
       "        if (forward) {\n",
       "            canvas_div.style.width = width + 'px';\n",
       "            canvas_div.style.height = height + 'px';\n",
       "        }\n",
       "    };\n",
       "\n",
       "    // Disable right mouse context menu.\n",
       "    this.rubberband_canvas.addEventListener('contextmenu', function (_e) {\n",
       "        event.preventDefault();\n",
       "        return false;\n",
       "    });\n",
       "\n",
       "    function set_focus() {\n",
       "        canvas.focus();\n",
       "        canvas_div.focus();\n",
       "    }\n",
       "\n",
       "    window.setTimeout(set_focus, 100);\n",
       "};\n",
       "\n",
       "mpl.figure.prototype._init_toolbar = function () {\n",
       "    var fig = this;\n",
       "\n",
       "    var toolbar = document.createElement('div');\n",
       "    toolbar.classList = 'mpl-toolbar';\n",
       "    this.root.appendChild(toolbar);\n",
       "\n",
       "    function on_click_closure(name) {\n",
       "        return function (_event) {\n",
       "            return fig.toolbar_button_onclick(name);\n",
       "        };\n",
       "    }\n",
       "\n",
       "    function on_mouseover_closure(tooltip) {\n",
       "        return function (event) {\n",
       "            if (!event.currentTarget.disabled) {\n",
       "                return fig.toolbar_button_onmouseover(tooltip);\n",
       "            }\n",
       "        };\n",
       "    }\n",
       "\n",
       "    fig.buttons = {};\n",
       "    var buttonGroup = document.createElement('div');\n",
       "    buttonGroup.classList = 'mpl-button-group';\n",
       "    for (var toolbar_ind in mpl.toolbar_items) {\n",
       "        var name = mpl.toolbar_items[toolbar_ind][0];\n",
       "        var tooltip = mpl.toolbar_items[toolbar_ind][1];\n",
       "        var image = mpl.toolbar_items[toolbar_ind][2];\n",
       "        var method_name = mpl.toolbar_items[toolbar_ind][3];\n",
       "\n",
       "        if (!name) {\n",
       "            /* Instead of a spacer, we start a new button group. */\n",
       "            if (buttonGroup.hasChildNodes()) {\n",
       "                toolbar.appendChild(buttonGroup);\n",
       "            }\n",
       "            buttonGroup = document.createElement('div');\n",
       "            buttonGroup.classList = 'mpl-button-group';\n",
       "            continue;\n",
       "        }\n",
       "\n",
       "        var button = (fig.buttons[name] = document.createElement('button'));\n",
       "        button.classList = 'mpl-widget';\n",
       "        button.setAttribute('role', 'button');\n",
       "        button.setAttribute('aria-disabled', 'false');\n",
       "        button.addEventListener('click', on_click_closure(method_name));\n",
       "        button.addEventListener('mouseover', on_mouseover_closure(tooltip));\n",
       "\n",
       "        var icon_img = document.createElement('img');\n",
       "        icon_img.src = '_images/' + image + '.png';\n",
       "        icon_img.srcset = '_images/' + image + '_large.png 2x';\n",
       "        icon_img.alt = tooltip;\n",
       "        button.appendChild(icon_img);\n",
       "\n",
       "        buttonGroup.appendChild(button);\n",
       "    }\n",
       "\n",
       "    if (buttonGroup.hasChildNodes()) {\n",
       "        toolbar.appendChild(buttonGroup);\n",
       "    }\n",
       "\n",
       "    var fmt_picker = document.createElement('select');\n",
       "    fmt_picker.classList = 'mpl-widget';\n",
       "    toolbar.appendChild(fmt_picker);\n",
       "    this.format_dropdown = fmt_picker;\n",
       "\n",
       "    for (var ind in mpl.extensions) {\n",
       "        var fmt = mpl.extensions[ind];\n",
       "        var option = document.createElement('option');\n",
       "        option.selected = fmt === mpl.default_extension;\n",
       "        option.innerHTML = fmt;\n",
       "        fmt_picker.appendChild(option);\n",
       "    }\n",
       "\n",
       "    var status_bar = document.createElement('span');\n",
       "    status_bar.classList = 'mpl-message';\n",
       "    toolbar.appendChild(status_bar);\n",
       "    this.message = status_bar;\n",
       "};\n",
       "\n",
       "mpl.figure.prototype.request_resize = function (x_pixels, y_pixels) {\n",
       "    // Request matplotlib to resize the figure. Matplotlib will then trigger a resize in the client,\n",
       "    // which will in turn request a refresh of the image.\n",
       "    this.send_message('resize', { width: x_pixels, height: y_pixels });\n",
       "};\n",
       "\n",
       "mpl.figure.prototype.send_message = function (type, properties) {\n",
       "    properties['type'] = type;\n",
       "    properties['figure_id'] = this.id;\n",
       "    this.ws.send(JSON.stringify(properties));\n",
       "};\n",
       "\n",
       "mpl.figure.prototype.send_draw_message = function () {\n",
       "    if (!this.waiting) {\n",
       "        this.waiting = true;\n",
       "        this.ws.send(JSON.stringify({ type: 'draw', figure_id: this.id }));\n",
       "    }\n",
       "};\n",
       "\n",
       "mpl.figure.prototype.handle_save = function (fig, _msg) {\n",
       "    var format_dropdown = fig.format_dropdown;\n",
       "    var format = format_dropdown.options[format_dropdown.selectedIndex].value;\n",
       "    fig.ondownload(fig, format);\n",
       "};\n",
       "\n",
       "mpl.figure.prototype.handle_resize = function (fig, msg) {\n",
       "    var size = msg['size'];\n",
       "    if (size[0] !== fig.canvas.width || size[1] !== fig.canvas.height) {\n",
       "        fig._resize_canvas(size[0], size[1], msg['forward']);\n",
       "        fig.send_message('refresh', {});\n",
       "    }\n",
       "};\n",
       "\n",
       "mpl.figure.prototype.handle_rubberband = function (fig, msg) {\n",
       "    var x0 = msg['x0'] / mpl.ratio;\n",
       "    var y0 = (fig.canvas.height - msg['y0']) / mpl.ratio;\n",
       "    var x1 = msg['x1'] / mpl.ratio;\n",
       "    var y1 = (fig.canvas.height - msg['y1']) / mpl.ratio;\n",
       "    x0 = Math.floor(x0) + 0.5;\n",
       "    y0 = Math.floor(y0) + 0.5;\n",
       "    x1 = Math.floor(x1) + 0.5;\n",
       "    y1 = Math.floor(y1) + 0.5;\n",
       "    var min_x = Math.min(x0, x1);\n",
       "    var min_y = Math.min(y0, y1);\n",
       "    var width = Math.abs(x1 - x0);\n",
       "    var height = Math.abs(y1 - y0);\n",
       "\n",
       "    fig.rubberband_context.clearRect(\n",
       "        0,\n",
       "        0,\n",
       "        fig.canvas.width / mpl.ratio,\n",
       "        fig.canvas.height / mpl.ratio\n",
       "    );\n",
       "\n",
       "    fig.rubberband_context.strokeRect(min_x, min_y, width, height);\n",
       "};\n",
       "\n",
       "mpl.figure.prototype.handle_figure_label = function (fig, msg) {\n",
       "    // Updates the figure title.\n",
       "    fig.header.textContent = msg['label'];\n",
       "};\n",
       "\n",
       "mpl.figure.prototype.handle_cursor = function (fig, msg) {\n",
       "    var cursor = msg['cursor'];\n",
       "    switch (cursor) {\n",
       "        case 0:\n",
       "            cursor = 'pointer';\n",
       "            break;\n",
       "        case 1:\n",
       "            cursor = 'default';\n",
       "            break;\n",
       "        case 2:\n",
       "            cursor = 'crosshair';\n",
       "            break;\n",
       "        case 3:\n",
       "            cursor = 'move';\n",
       "            break;\n",
       "    }\n",
       "    fig.rubberband_canvas.style.cursor = cursor;\n",
       "};\n",
       "\n",
       "mpl.figure.prototype.handle_message = function (fig, msg) {\n",
       "    fig.message.textContent = msg['message'];\n",
       "};\n",
       "\n",
       "mpl.figure.prototype.handle_draw = function (fig, _msg) {\n",
       "    // Request the server to send over a new figure.\n",
       "    fig.send_draw_message();\n",
       "};\n",
       "\n",
       "mpl.figure.prototype.handle_image_mode = function (fig, msg) {\n",
       "    fig.image_mode = msg['mode'];\n",
       "};\n",
       "\n",
       "mpl.figure.prototype.handle_history_buttons = function (fig, msg) {\n",
       "    for (var key in msg) {\n",
       "        if (!(key in fig.buttons)) {\n",
       "            continue;\n",
       "        }\n",
       "        fig.buttons[key].disabled = !msg[key];\n",
       "        fig.buttons[key].setAttribute('aria-disabled', !msg[key]);\n",
       "    }\n",
       "};\n",
       "\n",
       "mpl.figure.prototype.handle_navigate_mode = function (fig, msg) {\n",
       "    if (msg['mode'] === 'PAN') {\n",
       "        fig.buttons['Pan'].classList.add('active');\n",
       "        fig.buttons['Zoom'].classList.remove('active');\n",
       "    } else if (msg['mode'] === 'ZOOM') {\n",
       "        fig.buttons['Pan'].classList.remove('active');\n",
       "        fig.buttons['Zoom'].classList.add('active');\n",
       "    } else {\n",
       "        fig.buttons['Pan'].classList.remove('active');\n",
       "        fig.buttons['Zoom'].classList.remove('active');\n",
       "    }\n",
       "};\n",
       "\n",
       "mpl.figure.prototype.updated_canvas_event = function () {\n",
       "    // Called whenever the canvas gets updated.\n",
       "    this.send_message('ack', {});\n",
       "};\n",
       "\n",
       "// A function to construct a web socket function for onmessage handling.\n",
       "// Called in the figure constructor.\n",
       "mpl.figure.prototype._make_on_message_function = function (fig) {\n",
       "    return function socket_on_message(evt) {\n",
       "        if (evt.data instanceof Blob) {\n",
       "            /* FIXME: We get \"Resource interpreted as Image but\n",
       "             * transferred with MIME type text/plain:\" errors on\n",
       "             * Chrome.  But how to set the MIME type?  It doesn't seem\n",
       "             * to be part of the websocket stream */\n",
       "            evt.data.type = 'image/png';\n",
       "\n",
       "            /* Free the memory for the previous frames */\n",
       "            if (fig.imageObj.src) {\n",
       "                (window.URL || window.webkitURL).revokeObjectURL(\n",
       "                    fig.imageObj.src\n",
       "                );\n",
       "            }\n",
       "\n",
       "            fig.imageObj.src = (window.URL || window.webkitURL).createObjectURL(\n",
       "                evt.data\n",
       "            );\n",
       "            fig.updated_canvas_event();\n",
       "            fig.waiting = false;\n",
       "            return;\n",
       "        } else if (\n",
       "            typeof evt.data === 'string' &&\n",
       "            evt.data.slice(0, 21) === 'data:image/png;base64'\n",
       "        ) {\n",
       "            fig.imageObj.src = evt.data;\n",
       "            fig.updated_canvas_event();\n",
       "            fig.waiting = false;\n",
       "            return;\n",
       "        }\n",
       "\n",
       "        var msg = JSON.parse(evt.data);\n",
       "        var msg_type = msg['type'];\n",
       "\n",
       "        // Call the  \"handle_{type}\" callback, which takes\n",
       "        // the figure and JSON message as its only arguments.\n",
       "        try {\n",
       "            var callback = fig['handle_' + msg_type];\n",
       "        } catch (e) {\n",
       "            console.log(\n",
       "                \"No handler for the '\" + msg_type + \"' message type: \",\n",
       "                msg\n",
       "            );\n",
       "            return;\n",
       "        }\n",
       "\n",
       "        if (callback) {\n",
       "            try {\n",
       "                // console.log(\"Handling '\" + msg_type + \"' message: \", msg);\n",
       "                callback(fig, msg);\n",
       "            } catch (e) {\n",
       "                console.log(\n",
       "                    \"Exception inside the 'handler_\" + msg_type + \"' callback:\",\n",
       "                    e,\n",
       "                    e.stack,\n",
       "                    msg\n",
       "                );\n",
       "            }\n",
       "        }\n",
       "    };\n",
       "};\n",
       "\n",
       "// from http://stackoverflow.com/questions/1114465/getting-mouse-location-in-canvas\n",
       "mpl.findpos = function (e) {\n",
       "    //this section is from http://www.quirksmode.org/js/events_properties.html\n",
       "    var targ;\n",
       "    if (!e) {\n",
       "        e = window.event;\n",
       "    }\n",
       "    if (e.target) {\n",
       "        targ = e.target;\n",
       "    } else if (e.srcElement) {\n",
       "        targ = e.srcElement;\n",
       "    }\n",
       "    if (targ.nodeType === 3) {\n",
       "        // defeat Safari bug\n",
       "        targ = targ.parentNode;\n",
       "    }\n",
       "\n",
       "    // pageX,Y are the mouse positions relative to the document\n",
       "    var boundingRect = targ.getBoundingClientRect();\n",
       "    var x = e.pageX - (boundingRect.left + document.body.scrollLeft);\n",
       "    var y = e.pageY - (boundingRect.top + document.body.scrollTop);\n",
       "\n",
       "    return { x: x, y: y };\n",
       "};\n",
       "\n",
       "/*\n",
       " * return a copy of an object with only non-object keys\n",
       " * we need this to avoid circular references\n",
       " * http://stackoverflow.com/a/24161582/3208463\n",
       " */\n",
       "function simpleKeys(original) {\n",
       "    return Object.keys(original).reduce(function (obj, key) {\n",
       "        if (typeof original[key] !== 'object') {\n",
       "            obj[key] = original[key];\n",
       "        }\n",
       "        return obj;\n",
       "    }, {});\n",
       "}\n",
       "\n",
       "mpl.figure.prototype.mouse_event = function (event, name) {\n",
       "    var canvas_pos = mpl.findpos(event);\n",
       "\n",
       "    if (name === 'button_press') {\n",
       "        this.canvas.focus();\n",
       "        this.canvas_div.focus();\n",
       "    }\n",
       "\n",
       "    var x = canvas_pos.x * mpl.ratio;\n",
       "    var y = canvas_pos.y * mpl.ratio;\n",
       "\n",
       "    this.send_message(name, {\n",
       "        x: x,\n",
       "        y: y,\n",
       "        button: event.button,\n",
       "        step: event.step,\n",
       "        guiEvent: simpleKeys(event),\n",
       "    });\n",
       "\n",
       "    /* This prevents the web browser from automatically changing to\n",
       "     * the text insertion cursor when the button is pressed.  We want\n",
       "     * to control all of the cursor setting manually through the\n",
       "     * 'cursor' event from matplotlib */\n",
       "    event.preventDefault();\n",
       "    return false;\n",
       "};\n",
       "\n",
       "mpl.figure.prototype._key_event_extra = function (_event, _name) {\n",
       "    // Handle any extra behaviour associated with a key event\n",
       "};\n",
       "\n",
       "mpl.figure.prototype.key_event = function (event, name) {\n",
       "    // Prevent repeat events\n",
       "    if (name === 'key_press') {\n",
       "        if (event.which === this._key) {\n",
       "            return;\n",
       "        } else {\n",
       "            this._key = event.which;\n",
       "        }\n",
       "    }\n",
       "    if (name === 'key_release') {\n",
       "        this._key = null;\n",
       "    }\n",
       "\n",
       "    var value = '';\n",
       "    if (event.ctrlKey && event.which !== 17) {\n",
       "        value += 'ctrl+';\n",
       "    }\n",
       "    if (event.altKey && event.which !== 18) {\n",
       "        value += 'alt+';\n",
       "    }\n",
       "    if (event.shiftKey && event.which !== 16) {\n",
       "        value += 'shift+';\n",
       "    }\n",
       "\n",
       "    value += 'k';\n",
       "    value += event.which.toString();\n",
       "\n",
       "    this._key_event_extra(event, name);\n",
       "\n",
       "    this.send_message(name, { key: value, guiEvent: simpleKeys(event) });\n",
       "    return false;\n",
       "};\n",
       "\n",
       "mpl.figure.prototype.toolbar_button_onclick = function (name) {\n",
       "    if (name === 'download') {\n",
       "        this.handle_save(this, null);\n",
       "    } else {\n",
       "        this.send_message('toolbar_button', { name: name });\n",
       "    }\n",
       "};\n",
       "\n",
       "mpl.figure.prototype.toolbar_button_onmouseover = function (tooltip) {\n",
       "    this.message.textContent = tooltip;\n",
       "};\n",
       "mpl.toolbar_items = [[\"Home\", \"Reset original view\", \"fa fa-home icon-home\", \"home\"], [\"Back\", \"Back to previous view\", \"fa fa-arrow-left icon-arrow-left\", \"back\"], [\"Forward\", \"Forward to next view\", \"fa fa-arrow-right icon-arrow-right\", \"forward\"], [\"\", \"\", \"\", \"\"], [\"Pan\", \"Left button pans, Right button zooms\\nx/y fixes axis, CTRL fixes aspect\", \"fa fa-arrows icon-move\", \"pan\"], [\"Zoom\", \"Zoom to rectangle\\nx/y fixes axis, CTRL fixes aspect\", \"fa fa-square-o icon-check-empty\", \"zoom\"], [\"\", \"\", \"\", \"\"], [\"Download\", \"Download plot\", \"fa fa-floppy-o icon-save\", \"download\"]];\n",
       "\n",
       "mpl.extensions = [\"eps\", \"jpeg\", \"pdf\", \"png\", \"ps\", \"raw\", \"svg\", \"tif\"];\n",
       "\n",
       "mpl.default_extension = \"png\";/* global mpl */\n",
       "\n",
       "var comm_websocket_adapter = function (comm) {\n",
       "    // Create a \"websocket\"-like object which calls the given IPython comm\n",
       "    // object with the appropriate methods. Currently this is a non binary\n",
       "    // socket, so there is still some room for performance tuning.\n",
       "    var ws = {};\n",
       "\n",
       "    ws.close = function () {\n",
       "        comm.close();\n",
       "    };\n",
       "    ws.send = function (m) {\n",
       "        //console.log('sending', m);\n",
       "        comm.send(m);\n",
       "    };\n",
       "    // Register the callback with on_msg.\n",
       "    comm.on_msg(function (msg) {\n",
       "        //console.log('receiving', msg['content']['data'], msg);\n",
       "        // Pass the mpl event to the overridden (by mpl) onmessage function.\n",
       "        ws.onmessage(msg['content']['data']);\n",
       "    });\n",
       "    return ws;\n",
       "};\n",
       "\n",
       "mpl.mpl_figure_comm = function (comm, msg) {\n",
       "    // This is the function which gets called when the mpl process\n",
       "    // starts-up an IPython Comm through the \"matplotlib\" channel.\n",
       "\n",
       "    var id = msg.content.data.id;\n",
       "    // Get hold of the div created by the display call when the Comm\n",
       "    // socket was opened in Python.\n",
       "    var element = document.getElementById(id);\n",
       "    var ws_proxy = comm_websocket_adapter(comm);\n",
       "\n",
       "    function ondownload(figure, _format) {\n",
       "        window.open(figure.canvas.toDataURL());\n",
       "    }\n",
       "\n",
       "    var fig = new mpl.figure(id, ws_proxy, ondownload, element);\n",
       "\n",
       "    // Call onopen now - mpl needs it, as it is assuming we've passed it a real\n",
       "    // web socket which is closed, not our websocket->open comm proxy.\n",
       "    ws_proxy.onopen();\n",
       "\n",
       "    fig.parent_element = element;\n",
       "    fig.cell_info = mpl.find_output_cell(\"<div id='\" + id + \"'></div>\");\n",
       "    if (!fig.cell_info) {\n",
       "        console.error('Failed to find cell for figure', id, fig);\n",
       "        return;\n",
       "    }\n",
       "};\n",
       "\n",
       "mpl.figure.prototype.handle_close = function (fig, msg) {\n",
       "    var width = fig.canvas.width / mpl.ratio;\n",
       "    fig.root.removeEventListener('remove', this._remove_fig_handler);\n",
       "\n",
       "    // Update the output cell to use the data from the current canvas.\n",
       "    fig.push_to_output();\n",
       "    var dataURL = fig.canvas.toDataURL();\n",
       "    // Re-enable the keyboard manager in IPython - without this line, in FF,\n",
       "    // the notebook keyboard shortcuts fail.\n",
       "    IPython.keyboard_manager.enable();\n",
       "    fig.parent_element.innerHTML =\n",
       "        '<img src=\"' + dataURL + '\" width=\"' + width + '\">';\n",
       "    fig.close_ws(fig, msg);\n",
       "};\n",
       "\n",
       "mpl.figure.prototype.close_ws = function (fig, msg) {\n",
       "    fig.send_message('closing', msg);\n",
       "    // fig.ws.close()\n",
       "};\n",
       "\n",
       "mpl.figure.prototype.push_to_output = function (_remove_interactive) {\n",
       "    // Turn the data on the canvas into data in the output cell.\n",
       "    var width = this.canvas.width / mpl.ratio;\n",
       "    var dataURL = this.canvas.toDataURL();\n",
       "    this.cell_info[1]['text/html'] =\n",
       "        '<img src=\"' + dataURL + '\" width=\"' + width + '\">';\n",
       "};\n",
       "\n",
       "mpl.figure.prototype.updated_canvas_event = function () {\n",
       "    // Tell IPython that the notebook contents must change.\n",
       "    IPython.notebook.set_dirty(true);\n",
       "    this.send_message('ack', {});\n",
       "    var fig = this;\n",
       "    // Wait a second, then push the new image to the DOM so\n",
       "    // that it is saved nicely (might be nice to debounce this).\n",
       "    setTimeout(function () {\n",
       "        fig.push_to_output();\n",
       "    }, 1000);\n",
       "};\n",
       "\n",
       "mpl.figure.prototype._init_toolbar = function () {\n",
       "    var fig = this;\n",
       "\n",
       "    var toolbar = document.createElement('div');\n",
       "    toolbar.classList = 'btn-toolbar';\n",
       "    this.root.appendChild(toolbar);\n",
       "\n",
       "    function on_click_closure(name) {\n",
       "        return function (_event) {\n",
       "            return fig.toolbar_button_onclick(name);\n",
       "        };\n",
       "    }\n",
       "\n",
       "    function on_mouseover_closure(tooltip) {\n",
       "        return function (event) {\n",
       "            if (!event.currentTarget.disabled) {\n",
       "                return fig.toolbar_button_onmouseover(tooltip);\n",
       "            }\n",
       "        };\n",
       "    }\n",
       "\n",
       "    fig.buttons = {};\n",
       "    var buttonGroup = document.createElement('div');\n",
       "    buttonGroup.classList = 'btn-group';\n",
       "    var button;\n",
       "    for (var toolbar_ind in mpl.toolbar_items) {\n",
       "        var name = mpl.toolbar_items[toolbar_ind][0];\n",
       "        var tooltip = mpl.toolbar_items[toolbar_ind][1];\n",
       "        var image = mpl.toolbar_items[toolbar_ind][2];\n",
       "        var method_name = mpl.toolbar_items[toolbar_ind][3];\n",
       "\n",
       "        if (!name) {\n",
       "            /* Instead of a spacer, we start a new button group. */\n",
       "            if (buttonGroup.hasChildNodes()) {\n",
       "                toolbar.appendChild(buttonGroup);\n",
       "            }\n",
       "            buttonGroup = document.createElement('div');\n",
       "            buttonGroup.classList = 'btn-group';\n",
       "            continue;\n",
       "        }\n",
       "\n",
       "        button = fig.buttons[name] = document.createElement('button');\n",
       "        button.classList = 'btn btn-default';\n",
       "        button.href = '#';\n",
       "        button.title = name;\n",
       "        button.innerHTML = '<i class=\"fa ' + image + ' fa-lg\"></i>';\n",
       "        button.addEventListener('click', on_click_closure(method_name));\n",
       "        button.addEventListener('mouseover', on_mouseover_closure(tooltip));\n",
       "        buttonGroup.appendChild(button);\n",
       "    }\n",
       "\n",
       "    if (buttonGroup.hasChildNodes()) {\n",
       "        toolbar.appendChild(buttonGroup);\n",
       "    }\n",
       "\n",
       "    // Add the status bar.\n",
       "    var status_bar = document.createElement('span');\n",
       "    status_bar.classList = 'mpl-message pull-right';\n",
       "    toolbar.appendChild(status_bar);\n",
       "    this.message = status_bar;\n",
       "\n",
       "    // Add the close button to the window.\n",
       "    var buttongrp = document.createElement('div');\n",
       "    buttongrp.classList = 'btn-group inline pull-right';\n",
       "    button = document.createElement('button');\n",
       "    button.classList = 'btn btn-mini btn-primary';\n",
       "    button.href = '#';\n",
       "    button.title = 'Stop Interaction';\n",
       "    button.innerHTML = '<i class=\"fa fa-power-off icon-remove icon-large\"></i>';\n",
       "    button.addEventListener('click', function (_evt) {\n",
       "        fig.handle_close(fig, {});\n",
       "    });\n",
       "    button.addEventListener(\n",
       "        'mouseover',\n",
       "        on_mouseover_closure('Stop Interaction')\n",
       "    );\n",
       "    buttongrp.appendChild(button);\n",
       "    var titlebar = this.root.querySelector('.ui-dialog-titlebar');\n",
       "    titlebar.insertBefore(buttongrp, titlebar.firstChild);\n",
       "};\n",
       "\n",
       "mpl.figure.prototype._remove_fig_handler = function () {\n",
       "    this.close_ws(this, {});\n",
       "};\n",
       "\n",
       "mpl.figure.prototype._root_extra_style = function (el) {\n",
       "    el.style.boxSizing = 'content-box'; // override notebook setting of border-box.\n",
       "    el.addEventListener('remove', this._remove_fig_handler);\n",
       "};\n",
       "\n",
       "mpl.figure.prototype._canvas_extra_style = function (el) {\n",
       "    // this is important to make the div 'focusable\n",
       "    el.setAttribute('tabindex', 0);\n",
       "    // reach out to IPython and tell the keyboard manager to turn it's self\n",
       "    // off when our div gets focus\n",
       "\n",
       "    // location in version 3\n",
       "    if (IPython.notebook.keyboard_manager) {\n",
       "        IPython.notebook.keyboard_manager.register_events(el);\n",
       "    } else {\n",
       "        // location in version 2\n",
       "        IPython.keyboard_manager.register_events(el);\n",
       "    }\n",
       "};\n",
       "\n",
       "mpl.figure.prototype._key_event_extra = function (event, _name) {\n",
       "    var manager = IPython.notebook.keyboard_manager;\n",
       "    if (!manager) {\n",
       "        manager = IPython.keyboard_manager;\n",
       "    }\n",
       "\n",
       "    // Check for shift+enter\n",
       "    if (event.shiftKey && event.which === 13) {\n",
       "        this.canvas_div.blur();\n",
       "        // select the cell after this one\n",
       "        var index = IPython.notebook.find_cell_index(this.cell_info[0]);\n",
       "        IPython.notebook.select(index + 1);\n",
       "    }\n",
       "};\n",
       "\n",
       "mpl.figure.prototype.handle_save = function (fig, _msg) {\n",
       "    fig.ondownload(fig, null);\n",
       "};\n",
       "\n",
       "mpl.find_output_cell = function (html_output) {\n",
       "    // Return the cell and output element which can be found *uniquely* in the notebook.\n",
       "    // Note - this is a bit hacky, but it is done because the \"notebook_saving.Notebook\"\n",
       "    // IPython event is triggered only after the cells have been serialised, which for\n",
       "    // our purposes (turning an active figure into a static one), is too late.\n",
       "    var cells = IPython.notebook.get_cells();\n",
       "    var ncells = cells.length;\n",
       "    for (var i = 0; i < ncells; i++) {\n",
       "        var cell = cells[i];\n",
       "        if (cell.cell_type === 'code') {\n",
       "            for (var j = 0; j < cell.output_area.outputs.length; j++) {\n",
       "                var data = cell.output_area.outputs[j];\n",
       "                if (data.data) {\n",
       "                    // IPython >= 3 moved mimebundle to data attribute of output\n",
       "                    data = data.data;\n",
       "                }\n",
       "                if (data['text/html'] === html_output) {\n",
       "                    return [cell, data, j];\n",
       "                }\n",
       "            }\n",
       "        }\n",
       "    }\n",
       "};\n",
       "\n",
       "// Register the function which deals with the matplotlib target/channel.\n",
       "// The kernel may be null if the page has been refreshed.\n",
       "if (IPython.notebook.kernel !== null) {\n",
       "    IPython.notebook.kernel.comm_manager.register_target(\n",
       "        'matplotlib',\n",
       "        mpl.mpl_figure_comm\n",
       "    );\n",
       "}\n"
      ],
      "text/plain": [
       "<IPython.core.display.Javascript object>"
      ]
     },
     "metadata": {},
     "output_type": "display_data"
    },
    {
     "data": {
      "text/html": [
       "<img src=\"data:image/png;base64,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\" width=\"640\">"
      ],
      "text/plain": [
       "<IPython.core.display.HTML object>"
      ]
     },
     "metadata": {},
     "output_type": "display_data"
    },
    {
     "data": {
      "text/plain": [
       "(18331.0, 18506.0)"
      ]
     },
     "execution_count": 17,
     "metadata": {},
     "output_type": "execute_result"
    }
   ],
   "source": [
    "states = [['H_in']]\n",
    "end_date = '2020-09-01'\n",
    "data=[timeseries[start_date:end_ramp].values]\n",
    "\n",
    "fig,ax=plt.subplots()\n",
    "for i in range(20):\n",
    "    idx,model.parameters['beta'] = random.choice(list(enumerate(samples_dict_wave1['beta'])))\n",
    "    idx,model.parameters['l'] = random.choice(list(enumerate(samples_dict_wave1['l'])))\n",
    "    model.parameters['tau'] = samples_dict_wave1['tau'][idx]\n",
    "    model.parameters['policy_time'] = samples_dict_wave1['lag_time']\n",
    "    model.parameters['prevention'] = samples_dict_wave1['prevention'][idx]\n",
    "    y_model = model.sim(time=end_date, excess_time=samples_dict_wave1['lag_time'], start_date=start_date)\n",
    "    ax = plot_fit(y_model,data,start_date,samples_dict_wave1['lag_time'],states,end_date=end_date,with_ints=False,ax=ax,plt_kwargs={'color':'blue','linewidth': 2,'alpha': 0.05})\n",
    "\n",
    "data_after_calib = timeseries[pd.to_datetime(end_ramp)+pd.to_timedelta('1d'):end_date]\n",
    "plt.scatter(data_after_calib.index, data_after_calib.values, marker='o',color='red',linestyle='None',facecolors='none')\n",
    "legend_text=['daily \\nhospitalizations']\n",
    "ax.set_xlim('2020-03-10', end_date)\n",
    "# fig.savefig(fig_path+spatial_unit+'.pdf',\n",
    "#             bbox_inches='tight', dpi=600)"
   ]
  },
  {
   "cell_type": "code",
   "execution_count": 18,
   "metadata": {
    "ExecuteTime": {
     "end_time": "2020-10-28T20:23:39.953094Z",
     "start_time": "2020-10-28T20:23:17.103151Z"
    }
   },
   "outputs": [],
   "source": [
    "out_sept = model.sim(time='2020-09-01', excess_time=samples_dict_wave1['lag_time'],start_date='2020-03-15',\n",
    "                   N=100, draw_fcn=draw_sample_COVID19_SEIRD,samples=samples_dict_wave1)\n"
   ]
  },
  {
   "cell_type": "code",
   "execution_count": 19,
   "metadata": {
    "ExecuteTime": {
     "end_time": "2020-10-28T20:23:43.216477Z",
     "start_time": "2020-10-28T20:23:43.168900Z"
    }
   },
   "outputs": [],
   "source": [
    "states = out_sept.isel(time=-1).mean(dim=\"draws\")\n",
    "initial_states_sept = {key:states[key].values for key in initial_states.keys()}\n"
   ]
  },
  {
   "cell_type": "code",
   "execution_count": 27,
   "metadata": {
    "ExecuteTime": {
     "end_time": "2020-10-28T20:25:11.702104Z",
     "start_time": "2020-10-28T20:25:11.665174Z"
    }
   },
   "outputs": [],
   "source": [
    "#np.sum(initial_states_sept['S'])/np.sum(initial_states['S'])*100"
   ]
  },
  {
   "cell_type": "markdown",
   "metadata": {},
   "source": [
    "# Calibration on second wave"
   ]
  },
  {
   "cell_type": "code",
   "execution_count": 29,
   "metadata": {
    "ExecuteTime": {
     "end_time": "2020-10-28T20:28:51.464725Z",
     "start_time": "2020-10-28T20:28:51.266344Z"
    }
   },
   "outputs": [],
   "source": [
    "# Second wave\n",
    "start_date = '2020-09-01'\n",
    "end_beta = '2020-10-25'"
   ]
  },
  {
   "cell_type": "code",
   "execution_count": 30,
   "metadata": {
    "ExecuteTime": {
     "end_time": "2020-10-28T20:28:51.688902Z",
     "start_time": "2020-10-28T20:28:51.647285Z"
    }
   },
   "outputs": [
    {
     "data": {
      "text/plain": [
       "55"
      ]
     },
     "execution_count": 30,
     "metadata": {},
     "output_type": "execute_result"
    }
   ],
   "source": [
    "len(Luik_ts.loc[start_date:end_beta])"
   ]
  },
  {
   "cell_type": "code",
   "execution_count": 31,
   "metadata": {
    "ExecuteTime": {
     "end_time": "2020-10-28T20:29:25.842066Z",
     "start_time": "2020-10-28T20:29:25.518670Z"
    }
   },
   "outputs": [],
   "source": [
    "# Load the parameters using `get_COVID19_SEIRD_parameters()`.\n",
    "params = model_parameters.get_COVID19_SEIRD_parameters()\n",
    "model_sept = models.COVID19_SEIRD(initial_states_sept, params)"
   ]
  },
  {
   "cell_type": "code",
   "execution_count": 32,
   "metadata": {
    "ExecuteTime": {
     "end_time": "2020-10-28T20:29:32.485260Z",
     "start_time": "2020-10-28T20:29:32.447628Z"
    }
   },
   "outputs": [],
   "source": [
    "# function parameters \n",
    "timeseries = Luik_ts['NEW_IN']\n",
    "spatial_unit = 'Luik_wave2_1000steps'\n",
    "# maxiter=100\n",
    "# popsize=200\n",
    "# steps_mcmc=10000\n"
   ]
  },
  {
   "cell_type": "code",
   "execution_count": null,
   "metadata": {
    "ExecuteTime": {
     "end_time": "2020-10-28T07:45:25.103935Z",
     "start_time": "2020-10-28T07:36:32.482511Z"
    }
   },
   "outputs": [],
   "source": [
    "samples_dict = full_calibration(model_sept, timeseries, spatial_unit, start_date, end_beta, end_ramp=None, \n",
    "                            fig_path=fig_path, samples_path=samples_path,\n",
    "                            maxiter=100, popsize=100, steps_mcmc=1000)"
   ]
  },
  {
   "cell_type": "code",
   "execution_count": null,
   "metadata": {
    "ExecuteTime": {
     "end_time": "2020-10-28T07:56:48.653468Z",
     "start_time": "2020-10-28T07:56:41.505287Z"
    },
    "scrolled": false
   },
   "outputs": [],
   "source": [
    "states = [['H_in']]\n",
    "end_date = '2021-01-01' #end_beta\n",
    "data=[timeseries[start_date:end_beta].values]\n",
    "\n",
    "fig,ax=plt.subplots()\n",
    "for i in range(20):\n",
    "    idx,model.parameters['beta'] = random.choice(list(enumerate(samples_dict['beta'])))\n",
    "#     idx,model.parameters['l'] = random.choice(list(enumerate(samples_dict['l'])))\n",
    "#     model.parameters['tau'] = samples_dict['tau'][idx]\n",
    "#     prevention = samples_dict['prevention'][idx]\n",
    "    y_model = model.sim(time=end_date, excess_time=samples_dict['lag_time'], start_date=start_date)\n",
    "    ax = plot_fit(y_model,data,start_date,samples_dict['lag_time'],states,end_date=end_date,with_ints=False,ax=ax,plt_kwargs={'color':'blue','linewidth': 2,'alpha': 0.05})\n",
    "\n",
    "#data_after_calib = timeseries[pd.to_datetime(end_ramp)+pd.to_timedelta('1d'):end_date]\n",
    "#plt.scatter(data_after_calib.index, data_after_calib.values, marker='o',color='red',linestyle='None',facecolors='none')\n",
    "legend_text=['daily \\nhospitalizations']\n",
    "ax.set_xlim('2020-09-01', '2021-01-01')\n",
    "fig.savefig(fig_path+spatial_unit+'.pdf',\n",
    "            bbox_inches='tight', dpi=600)"
   ]
  },
  {
   "cell_type": "code",
   "execution_count": null,
   "metadata": {},
   "outputs": [],
   "source": []
  },
  {
   "cell_type": "markdown",
   "metadata": {},
   "source": [
    "# Check step-by-step for debugging if needed"
   ]
  },
  {
   "cell_type": "code",
   "execution_count": null,
   "metadata": {
    "ExecuteTime": {
     "end_time": "2020-10-26T13:20:44.879887Z",
     "start_time": "2020-10-26T13:20:44.828391Z"
    }
   },
   "outputs": [],
   "source": [
    "# define dataset\n",
    "data=Luik_ts['NEW_IN']\n",
    "states = [[\"H_in\"]]"
   ]
  },
  {
   "cell_type": "code",
   "execution_count": null,
   "metadata": {
    "ExecuteTime": {
     "end_time": "2020-10-26T13:12:53.545700Z",
     "start_time": "2020-10-26T13:12:51.117077Z"
    }
   },
   "outputs": [],
   "source": [
    "\n",
    "#############################################\n",
    "####### CALIBRATING BETA AND LAG_TIME #######\n",
    "#############################################\n",
    "\n",
    "# set optimisation settings\n",
    "parNames_pso = ['sigma_data','extraTime','beta'] # must be a list!\n",
    "bounds_pso=((1,100),(30,60),(0.02,0.06)) # must be a list!\n",
    "# run pso optimisation\n",
    "theta = MCMC.fit_pso(model,data,parNames_pso,states,bounds_pso,maxiter=maxiter,popsize=popsize)\n",
    "\n",
    "lag_time = int(round(theta[1]))\n",
    "# Assign 'extraTime' or lag_time as a model attribute --> is needed to perform the optimalization\n",
    "model.extraTime = int(round(theta[1]))\n",
    "\n",
    "model.parameters.update({'beta': theta[2]})\n",
    "\n",
    "parNames_mcmc = ['sigma_data','beta'] # must be a list!\n",
    "bounds_mcmc=((1,200),(0.01,0.10))"
   ]
  },
  {
   "cell_type": "code",
   "execution_count": null,
   "metadata": {},
   "outputs": [],
   "source": [
    "\n",
    "\n",
    "# run MCMC calibration\n",
    "pos = [theta[0],theta[2]] + [1, 1e-2 ]* np.random.randn(4, 2)\n",
    "nwalkers, ndim = pos.shape\n",
    "sampler = emcee.EnsembleSampler(nwalkers, ndim, objective_fcns.log_probability,\n",
    "                                args=(model, bounds_mcmc, data, states, parNames_mcmc))\n",
    "sampler.run_mcmc(pos, steps_mcmc, progress=True);\n",
    "\n",
    "samples_beta = sampler.get_chain(discard=500,flat=False)\n",
    "flat_samples_beta = sampler.get_chain(discard=500,flat=True)\n",
    "\n",
    "try:\n",
    "    sampler.get_autocorr_time()\n",
    "except:\n",
    "    print('Calibrating beta. Warning: The chain is shorter than 50 times the integrated autocorrelation time for 4 parameter(s). Use this estimate with caution and run a longer chain!')\n",
    "\n",
    "\n",
    "traceplot(samples_beta,labels=['$\\sigma_{data}$','$\\\\beta$'],plt_kwargs={'linewidth':2,'color': 'red','alpha': 0.15})\n",
    "plt.savefig(fig_path+'traceplots/beta_'+str(spatial_unit)+'_'+str(datetime.date.today())+'.pdf',\n",
    "            dpi=600, bbox_inches='tight')\n",
    "\n",
    "fig = corner.corner(flat_samples_beta,labels=['$\\sigma_{data}$','$\\\\beta$'])\n",
    "fig.set_size_inches(8, 8)\n",
    "plt.savefig(fig_path+'cornerplots/beta_'+str(spatial_unit)+'_'+str(datetime.date.today())+'.pdf',\n",
    "            dpi=600, bbox_inches='tight')"
   ]
  },
  {
   "cell_type": "code",
   "execution_count": null,
   "metadata": {},
   "outputs": [],
   "source": [
    "#############################################\n",
    "####### CALIBRATING COMPLIANCE PARAMS #######\n",
    "#############################################\n",
    "\n",
    "samples_beta = {'beta': flat_samples_beta[:,1].tolist()}\n",
    "\n",
    "# Create checkpoints dictionary\n",
    "chk_beta_pso = {\n",
    "    'time':  [lag_time],\n",
    "    'Nc':    [0.2*Nc_home + 0.3*Nc_work + 0.2*Nc_transport],\n",
    "}\n",
    "# define dataset\n",
    "data=[timeseries[start_date:end_ramp]]\n",
    "# set optimisation settings\n",
    "parNames_pso2 = ['sigma_data','l','tau','prevention'] # must be a list!\n",
    "bounds_pso2=((1,100),(0.1,20),(0,20),(0,1)) # must be a list!\n",
    "# run optimisation\n",
    "theta = MCMC.fit_pso(model, data, parNames_pso2, states, bounds_pso2,\n",
    "                     checkpoints=chk_beta_pso, samples=samples_beta, maxiter=maxiter,popsize=popsize)\n",
    "\n",
    "model.parameters.update({'l': theta[1], 'tau': theta[2]})\n",
    "prevention = theta[2]\n",
    "\n",
    "# Create checkpoints dictionary\n",
    "chk_beta_MCMC = {\n",
    "    'time':  [lag_time],\n",
    "    'Nc':    [prevention*(1.0*Nc_home + 0.4*Nc_work + 0.3*Nc_transport + 0.7*Nc_others + 0.2*Nc_leisure)]}\n",
    "\n",
    "\n",
    "bounds_mcmc2=((1,100),(0.001,20),(0,20),(0,1)) # must be a list!\n",
    "pos = theta + [1, 0.1, 0.1, 0.1 ]* np.random.randn(8, 4)\n",
    "nwalkers, ndim = pos.shape\n",
    "sampler = emcee.EnsembleSampler(nwalkers, ndim, objective_fcns.log_probability,\n",
    "                                args=(model,bounds_mcmc2,data,states,parNames_pso2,chk_beta_MCMC,samples_beta))\n",
    "\n",
    "sampler.run_mcmc(pos, steps_mcmc, progress=True);\n",
    "\n",
    "try:\n",
    "    sampler.get_autocorr_time()\n",
    "except:\n",
    "    print('Calibrating compliance ramp. Warning: The chain is shorter than 50 times the integrated autocorrelation time for 4 parameter(s). Use this estimate with caution and run a longer chain!')\n",
    "\n",
    "\n",
    "samples_ramp = sampler.get_chain(discard=200,flat=False)\n",
    "flat_samples_ramp = sampler.get_chain(discard=200,flat=True)\n",
    "\n",
    "traceplot(samples_ramp, labels=[\"$\\sigma_{data}$\",\"l\",\"$\\\\tau$\",\"prevention\"],\n",
    "          plt_kwargs={'linewidth':2,'color': 'red','alpha': 0.15})\n",
    "plt.savefig(fig_path+'traceplots/ramp_'+str(spatial_unit)+'_'+str(datetime.date.today())+'.pdf',\n",
    "            dpi=600, bbox_inches='tight')\n",
    "\n",
    "fig = corner.corner(flat_samples_ramp, labels=[\"$\\sigma_{data}$\",\"l\",\"$\\\\tau$\",\"$\\Omega$\"])\n",
    "fig.set_size_inches(9, 9)\n",
    "plt.savefig(fig_path+'cornerplots/ramp_'+str(spatial_unit)+'_'+str(datetime.date.today())+'.pdf',\n",
    "            dpi=600, bbox_inches='tight')\n",
    "\n",
    "#############################################\n",
    "####### CALCULATING R0 ######################\n",
    "#############################################\n",
    "\n",
    "R0 =[]\n",
    "for i in range(len(samples_beta['beta'])):\n",
    "    R0.append(sum((model.parameters['a']*model.parameters['da']+model.parameters['omega'])*samples_beta['beta'][i]*model.parameters['s']*np.sum(Nc_total,axis=1)*(initN/sum(initN))))\n",
    "R0_stratified = np.zeros([initN.size,len(samples_beta['beta'])])\n",
    "for i in range(len(samples_beta['beta'])):\n",
    "    R0_stratified[:,i]= (model.parameters['a']*model.parameters['da']+model.parameters['omega'])*samples_beta['beta'][i]*model.parameters['s']*np.sum(Nc_total,axis=1)\n",
    "R0_stratified_dict = pd.DataFrame(R0_stratified).T.to_dict(orient='list')\n",
    "\n",
    "samples_dict={'calibration_data':states[0][0], 'start_date':start_date,\n",
    "              'end_beta':end_beta, 'end_ramp':end_ramp,\n",
    "              'maxiter': maxiter, 'popsize':popsize, 'steps_mcmc':steps_mcmc,\n",
    "              'R0':R0, 'R0_stratified_dict':R0_stratified_dict,\n",
    "              'lag_time': lag_time, 'beta': samples_beta['beta'],\n",
    "              'l': flat_samples_ramp[:,1].tolist(),'tau':flat_samples_ramp[:,2].tolist(),\n",
    "              'prevention':flat_samples_ramp[:,3].tolist()}\n",
    "\n",
    "with open(samples_path+str(spatial_unit)+'_'+str(datetime.date.today())+'.json', 'w') as fp:\n",
    "    json.dump(samples_dict, fp)\n",
    "\n"
   ]
  },
  {
   "cell_type": "markdown",
   "metadata": {},
   "source": [
    "# Run in parallel"
   ]
  },
  {
   "cell_type": "code",
   "execution_count": null,
   "metadata": {
    "ExecuteTime": {
     "end_time": "2020-09-08T06:47:28.719315Z",
     "start_time": "2020-09-08T06:47:28.681105Z"
    }
   },
   "outputs": [],
   "source": [
    "arr_list = list(nonpublic_ts.NIS.unique())"
   ]
  },
  {
   "cell_type": "code",
   "execution_count": null,
   "metadata": {
    "ExecuteTime": {
     "end_time": "2020-09-08T06:47:28.972641Z",
     "start_time": "2020-09-08T06:47:28.922951Z"
    }
   },
   "outputs": [],
   "source": [
    "def run_me_parallel(arr):\n",
    "    arrond_ts = nonpublic_ts.pivot(index='DATE', columns='NIS', values='hospitalised_IN')[arr]\n",
    "    samples_dict = full_calibration(model, arrond_ts, arr, start_date, end_beta, end_ramp, \n",
    "                                fig_path, samples_path)\n",
    "                                #maxiter=10, popsize=10, steps_mcmc=250)\n",
    "    \n",
    "    states = [['H_in']]\n",
    "    end_date = '2020-09-20'\n",
    "    data=[arrond_ts[start_date:end_ramp].values]\n",
    "    fig,ax=plt.subplots()\n",
    "    for i in range(200):\n",
    "        idx,model.parameters['beta'] = random.choice(list(enumerate(samples_dict['beta'])))\n",
    "        idx,model.parameters['l'] = random.choice(list(enumerate(samples_dict['l'])))\n",
    "        model.parameters['tau'] = samples_dict['tau'][idx]\n",
    "        prevention = samples_dict['prevention'][idx]\n",
    "        # Create a dictionary of past policies\n",
    "        chk = {'time':   [start_date], \n",
    "              'Nc':      [prevention*(Nc_home + 0.4*Nc_work + 0.3*Nc_transport + 0.7*Nc_others + 0.2*Nc_leisure)]\n",
    "              }\n",
    "        y_model = model.sim(time=end_date, excess_time=samples_dict['lag_time'],checkpoints=chk)\n",
    "        ax = plot_fit(y_model,data,start_date,samples_dict['lag_time'],states,end_date=end_date,with_ints=False,ax=ax,plt_kwargs={'color':'blue','linewidth': 2,'alpha': 0.05})\n",
    "\n",
    "    data_after_calib = arrond_ts[pd.to_datetime(end_ramp)+pd.to_timedelta('1d'):end_date]\n",
    "    plt.scatter(data_after_calib.index, data_after_calib.values, marker='o',color='red',linestyle='None',facecolors='none')\n",
    "    legend_text=['daily \\nhospitalizations']\n",
    "    ax.set_xlim('2020-03-10', '2020-08-03')\n",
    "    fig.savefig('../results/calibrations_arrondissements/'+str(arr)+'_'+str(datetime.date.today())+'.pdf',\n",
    "                bbox_inches='tight', dpi=600)\n",
    "    return"
   ]
  },
  {
   "cell_type": "code",
   "execution_count": null,
   "metadata": {
    "ExecuteTime": {
     "end_time": "2020-08-21T21:22:05.230236Z",
     "start_time": "2020-08-21T21:22:05.183627Z"
    }
   },
   "outputs": [],
   "source": [
    "tasks = []\n",
    "for arr in arr_list:\n",
    "    task = dask.delayed(run_me_parallel)(arr)\n",
    "    tasks.append(task)\n",
    "    "
   ]
  },
  {
   "cell_type": "code",
   "execution_count": null,
   "metadata": {
    "ExecuteTime": {
     "end_time": "2020-08-22T04:06:54.088203Z",
     "start_time": "2020-08-21T21:22:20.296014Z"
    }
   },
   "outputs": [],
   "source": [
    "dask.compute(*tasks, scheduler='processes')"
   ]
  },
  {
   "cell_type": "code",
   "execution_count": null,
   "metadata": {
    "ExecuteTime": {
     "end_time": "2020-08-27T15:37:21.955310Z",
     "start_time": "2020-08-27T15:37:21.911174Z"
    }
   },
   "outputs": [],
   "source": [
    "run_date = '2020-08-22'"
   ]
  },
  {
   "cell_type": "code",
   "execution_count": null,
   "metadata": {
    "ExecuteTime": {
     "end_time": "2020-08-27T15:37:22.598066Z",
     "start_time": "2020-08-27T15:37:22.246770Z"
    }
   },
   "outputs": [],
   "source": [
    "with open(samples_path+'44000'+'_'+run_date+'.json', 'r') as fp:\n",
    "    samples_dict = json.load(fp)"
   ]
  },
  {
   "cell_type": "markdown",
   "metadata": {},
   "source": []
  }
 ],
 "metadata": {
  "kernelspec": {
   "display_name": "COVID19",
   "language": "python",
   "name": "python3"
  },
  "language_info": {
   "codemirror_mode": {
    "name": "ipython",
    "version": 3
   },
   "file_extension": ".py",
   "mimetype": "text/x-python",
   "name": "python",
   "nbconvert_exporter": "python",
   "pygments_lexer": "ipython3",
   "version": "3.7.7"
  },
  "toc": {
   "base_numbering": 1,
   "nav_menu": {},
   "number_sections": true,
   "sideBar": true,
   "skip_h1_title": false,
   "title_cell": "Table of Contents",
   "title_sidebar": "Contents",
   "toc_cell": false,
   "toc_position": {
    "height": "calc(100% - 180px)",
    "left": "10px",
    "top": "150px",
    "width": "288px"
   },
   "toc_section_display": true,
   "toc_window_display": true
  }
 },
 "nbformat": 4,
 "nbformat_minor": 4
}
