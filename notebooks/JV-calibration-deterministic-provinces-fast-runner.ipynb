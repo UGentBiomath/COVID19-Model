{
 "cells": [
  {
   "cell_type": "markdown",
   "metadata": {},
   "source": [
    "**Calibration of the age-stratified deterministic model**\n",
    "\n",
    "*Original code by Ryan S. McGee. Modified by T.W. Alleman in consultation with the BIOMATH research unit headed by prof. Ingmar Nopens.*\n",
    "\n",
    "Copyright (c) 2020 by T.W. Alleman, BIOMATH, Ghent University. All Rights Reserved.\n",
    "\n",
    "This notebook accompanies our preprint: \"*A deterministic, age-stratified, extended SEIRD model for assessing the effect of non-pharmaceutical interventions on SARS-CoV-2 spread in Belgium*\"(https://doi.org/10.1101/2020.07.17.20156034)"
   ]
  },
  {
   "cell_type": "markdown",
   "metadata": {},
   "source": [
    "# Load required packages"
   ]
  },
  {
   "cell_type": "code",
   "execution_count": 1,
   "metadata": {
    "ExecuteTime": {
     "end_time": "2020-10-28T15:56:19.569052Z",
     "start_time": "2020-10-28T15:56:16.894503Z"
    }
   },
   "outputs": [],
   "source": [
    "import random\n",
    "import os\n",
    "import numpy as np\n",
    "%matplotlib notebook\n",
    "import matplotlib.pyplot as plt\n",
    "from IPython.display import Image\n",
    "from ipywidgets import interact,fixed,FloatSlider,IntSlider,ToggleButtons\n",
    "import pandas as pd\n",
    "from datetime import datetime, timedelta\n",
    "import scipy\n",
    "from scipy.integrate import odeint\n",
    "import matplotlib.dates as mdates\n",
    "import matplotlib\n",
    "import scipy.stats as st\n",
    "\n",
    "import math\n",
    "import xarray as xr\n",
    "import emcee\n",
    "import json\n",
    "import corner\n",
    "\n",
    "from covid19model.optimization import objective_fcns\n",
    "from covid19model.optimization import MCMC\n",
    "from covid19model.models import models\n",
    "from covid19model.data import google\n",
    "from covid19model.data import sciensano\n",
    "from covid19model.data import model_parameters\n",
    "from covid19model.visualization.output import population_status, infected\n",
    "from covid19model.visualization.optimization import plot_fit, traceplot\n",
    "from covid19model.optimization.run_optimization import full_calibration\n",
    "from covid19model.models.utils import draw_sample_COVID19_SEIRD\n",
    "\n",
    "\n",
    "# OPTIONAL: Load the \"autoreload\" extension so that package code can change\n",
    "%load_ext autoreload\n",
    "# OPTIONAL: always reload modules so that as you change code in src, it gets loaded\n",
    "%autoreload 2"
   ]
  },
  {
   "cell_type": "code",
   "execution_count": null,
   "metadata": {
    "ExecuteTime": {
     "end_time": "2020-10-28T08:37:34.257807Z",
     "start_time": "2020-10-28T08:37:34.222275Z"
    }
   },
   "outputs": [],
   "source": [
    "# import dask\n",
    "\n",
    "# from dask.distributed import Client, progress\n",
    "# client = Client(threads_per_worker=16, n_workers=1)\n",
    "# client"
   ]
  },
  {
   "cell_type": "markdown",
   "metadata": {},
   "source": [
    "# Get public data"
   ]
  },
  {
   "cell_type": "code",
   "execution_count": null,
   "metadata": {
    "ExecuteTime": {
     "end_time": "2020-10-28T08:37:34.295863Z",
     "start_time": "2020-10-28T08:37:34.260569Z"
    }
   },
   "outputs": [],
   "source": [
    "#df_sciensano = sciensano.get_sciensano_COVID19_data(update=False)\n"
   ]
  },
  {
   "cell_type": "code",
   "execution_count": 2,
   "metadata": {
    "ExecuteTime": {
     "end_time": "2020-10-28T15:56:19.622122Z",
     "start_time": "2020-10-28T15:56:19.572085Z"
    }
   },
   "outputs": [],
   "source": [
    "raw_hosp_data = pd.read_csv('../data/raw/sciensano/COVID19BE_HOSP.csv', parse_dates=['DATE'])\n",
    "Luik_hosp_data = raw_hosp_data[raw_hosp_data.PROVINCE=='Liège']"
   ]
  },
  {
   "cell_type": "code",
   "execution_count": 3,
   "metadata": {
    "ExecuteTime": {
     "end_time": "2020-10-28T15:56:19.660201Z",
     "start_time": "2020-10-28T15:56:19.624705Z"
    }
   },
   "outputs": [],
   "source": [
    "#Luik_hosp_data.plot('DATE','NEW_IN')"
   ]
  },
  {
   "cell_type": "code",
   "execution_count": 4,
   "metadata": {
    "ExecuteTime": {
     "end_time": "2020-10-28T15:56:19.700207Z",
     "start_time": "2020-10-28T15:56:19.662290Z"
    },
    "scrolled": true
   },
   "outputs": [],
   "source": [
    "Luik_ts = Luik_hosp_data[['DATE','NEW_IN']].set_index('DATE')"
   ]
  },
  {
   "cell_type": "code",
   "execution_count": 6,
   "metadata": {
    "ExecuteTime": {
     "end_time": "2020-10-28T15:56:24.073634Z",
     "start_time": "2020-10-28T15:56:24.036476Z"
    }
   },
   "outputs": [],
   "source": [
    "# fig,ax = plt.subplots()\n",
    "# Luik_ts.reset_index() .plot('DATE','NEW_IN', ax=ax)\n",
    "# ax.set_xlim('2020-09-01', '2020-11-01')"
   ]
  },
  {
   "cell_type": "markdown",
   "metadata": {},
   "source": [
    "# Load data"
   ]
  },
  {
   "cell_type": "code",
   "execution_count": 7,
   "metadata": {
    "ExecuteTime": {
     "end_time": "2020-10-28T15:56:26.184005Z",
     "start_time": "2020-10-28T15:56:25.867215Z"
    }
   },
   "outputs": [],
   "source": [
    "# Load the interaction matrices (size: 9x9)\n",
    "initN, Nc_home, Nc_work, Nc_schools, Nc_transport, Nc_leisure, Nc_others, Nc_total = model_parameters.get_interaction_matrices(dataset='willem_2012')\n",
    "# Define the number of age categories\n",
    "levels = initN.size\n",
    "#province_names = pd.read_csv('../data/raw/GIS/NIS_province.csv')\n",
    "initN_province = pd.read_csv('../data/interim/demographic/initN_province.csv')\n",
    "initN = np.array(list(initN_province.set_index('NIS').loc[60000].iloc[:9]))"
   ]
  },
  {
   "cell_type": "markdown",
   "metadata": {},
   "source": [
    "# Initialize the model"
   ]
  },
  {
   "cell_type": "code",
   "execution_count": 8,
   "metadata": {
    "ExecuteTime": {
     "end_time": "2020-10-28T15:56:26.296033Z",
     "start_time": "2020-10-28T15:56:26.256855Z"
    }
   },
   "outputs": [],
   "source": [
    "# Define the compliance and lockdown function\n",
    "def lockdown_func(t,param,policy_time,policy1,policy2,l,tau,prevention):\n",
    "    if t <= policy_time + tau:\n",
    "        return policy1\n",
    "    elif policy_time + tau < t <= policy_time + tau + l:\n",
    "        return policy1 + (prevention*policy2-policy1)/l*(t-policy_time-tau)\n",
    "    else:\n",
    "        return prevention*policy2"
   ]
  },
  {
   "cell_type": "code",
   "execution_count": 9,
   "metadata": {
    "ExecuteTime": {
     "end_time": "2020-10-28T15:56:26.790062Z",
     "start_time": "2020-10-28T15:56:26.446404Z"
    }
   },
   "outputs": [],
   "source": [
    "# Load the parameters using `get_COVID19_SEIRD_parameters()`.\n",
    "params = model_parameters.get_COVID19_SEIRD_parameters()\n",
    "params.update({'policy1': Nc_total,\n",
    "              'policy2': 1.0*Nc_home + (1-0.60)*Nc_work + (1-0.70)*Nc_transport + (1-0.30)*Nc_others + (1-0.80)*Nc_leisure,\n",
    "              'policy_time': 500,\n",
    "              'l': 1,\n",
    "              'tau': 5,\n",
    "              'prevention': 0.5})\n",
    "# Define the initial condition: one exposed inidividual in every age category\n",
    "initial_states = {'S': initN, 'E': np.ones(levels)}\n",
    "model = models.COVID19_SEIRD(initial_states, params, time_dependent_parameters={'Nc': lockdown_func})"
   ]
  },
  {
   "cell_type": "code",
   "execution_count": 10,
   "metadata": {
    "ExecuteTime": {
     "end_time": "2020-10-28T15:56:27.733772Z",
     "start_time": "2020-10-28T15:56:27.676275Z"
    }
   },
   "outputs": [],
   "source": [
    "fig_path = '../results/calibrations_provinces/'\n",
    "samples_path = '../data/interim/model_parameters/provinces/'"
   ]
  },
  {
   "cell_type": "code",
   "execution_count": 11,
   "metadata": {
    "ExecuteTime": {
     "end_time": "2020-10-28T15:56:27.891247Z",
     "start_time": "2020-10-28T15:56:27.854025Z"
    }
   },
   "outputs": [],
   "source": [
    "timeseries = Luik_ts['NEW_IN']\n",
    "spatial_unit = 'Luik_wave1_1000steps'"
   ]
  },
  {
   "cell_type": "markdown",
   "metadata": {},
   "source": [
    "# Calibration on first wave"
   ]
  },
  {
   "cell_type": "code",
   "execution_count": 12,
   "metadata": {
    "ExecuteTime": {
     "end_time": "2020-10-28T15:56:30.447841Z",
     "start_time": "2020-10-28T15:56:30.410808Z"
    }
   },
   "outputs": [],
   "source": [
    "## First wave\n",
    "start_date = '2020-03-15'\n",
    "end_beta = '2020-03-25'#'2020-03-22'\n",
    "end_ramp = '2020-05-23'"
   ]
  },
  {
   "cell_type": "code",
   "execution_count": 13,
   "metadata": {
    "ExecuteTime": {
     "end_time": "2020-10-28T15:56:31.721391Z",
     "start_time": "2020-10-28T15:56:31.674762Z"
    }
   },
   "outputs": [
    {
     "data": {
      "text/plain": [
       "11"
      ]
     },
     "execution_count": 13,
     "metadata": {},
     "output_type": "execute_result"
    }
   ],
   "source": [
    "len(Luik_ts.loc[start_date:end_beta])"
   ]
  },
  {
   "cell_type": "code",
   "execution_count": 14,
   "metadata": {
    "ExecuteTime": {
     "end_time": "2020-10-28T15:56:32.072018Z",
     "start_time": "2020-10-28T15:56:32.030776Z"
    }
   },
   "outputs": [
    {
     "data": {
      "text/plain": [
       "60"
      ]
     },
     "execution_count": 14,
     "metadata": {},
     "output_type": "execute_result"
    }
   ],
   "source": [
    "len(Luik_ts.loc[end_beta:end_ramp])"
   ]
  },
  {
   "cell_type": "code",
   "execution_count": null,
   "metadata": {
    "ExecuteTime": {
     "end_time": "2020-10-28T11:20:55.462246Z",
     "start_time": "2020-10-28T11:20:55.424200Z"
    }
   },
   "outputs": [],
   "source": [
    "# function parameters \n",
    "# maxiter=100\n",
    "# popsize=200\n",
    "# steps_mcmc=10000\n"
   ]
  },
  {
   "cell_type": "code",
   "execution_count": 15,
   "metadata": {
    "ExecuteTime": {
     "end_time": "2020-10-28T16:18:00.280654Z",
     "start_time": "2020-10-28T15:56:44.137100Z"
    }
   },
   "outputs": [
    {
     "name": "stdout",
     "output_type": "stream",
     "text": [
      "No constraints given.\n",
      "Best after iteration 1: [1.98876071e+01 3.97804840e+01 3.21982124e-02] 37.21325942193234\n",
      "New best for swarm at iteration 2: [1.78311245e+01 5.88275244e+01 2.59266654e-02] 34.05501992487642\n",
      "Best after iteration 2: [1.78311245e+01 5.88275244e+01 2.59266654e-02] 34.05501992487642\n",
      "Best after iteration 3: [1.78311245e+01 5.88275244e+01 2.59266654e-02] 34.05501992487642\n",
      "New best for swarm at iteration 4: [1.27440035e+01 6.00000000e+01 2.54865130e-02] 33.202756050997344\n",
      "Best after iteration 4: [1.27440035e+01 6.00000000e+01 2.54865130e-02] 33.202756050997344\n",
      "Best after iteration 5: [1.27440035e+01 6.00000000e+01 2.54865130e-02] 33.202756050997344\n",
      "Best after iteration 6: [1.27440035e+01 6.00000000e+01 2.54865130e-02] 33.202756050997344\n",
      "New best for swarm at iteration 7: [8.30935920e+00 6.00000000e+01 2.61972406e-02] 30.687495985335964\n",
      "Best after iteration 7: [8.30935920e+00 6.00000000e+01 2.61972406e-02] 30.687495985335964\n",
      "Best after iteration 8: [8.30935920e+00 6.00000000e+01 2.61972406e-02] 30.687495985335964\n",
      "Best after iteration 9: [8.30935920e+00 6.00000000e+01 2.61972406e-02] 30.687495985335964\n",
      "New best for swarm at iteration 10: [1.03852482e+01 6.00000000e+01 2.63616399e-02] 30.173225080868324\n",
      "Best after iteration 10: [1.03852482e+01 6.00000000e+01 2.63616399e-02] 30.173225080868324\n",
      "New best for swarm at iteration 11: [1.03689405e+01 5.06197546e+01 2.97319489e-02] 29.644389852116902\n",
      "Best after iteration 11: [1.03689405e+01 5.06197546e+01 2.97319489e-02] 29.644389852116902\n",
      "Best after iteration 12: [1.03689405e+01 5.06197546e+01 2.97319489e-02] 29.644389852116902\n",
      "Best after iteration 13: [1.03689405e+01 5.06197546e+01 2.97319489e-02] 29.644389852116902\n",
      "Best after iteration 14: [1.03689405e+01 5.06197546e+01 2.97319489e-02] 29.644389852116902\n",
      "New best for swarm at iteration 15: [8.76556561e+00 4.63949100e+01 3.24805974e-02] 29.35090496722022\n",
      "Best after iteration 15: [8.76556561e+00 4.63949100e+01 3.24805974e-02] 29.35090496722022\n",
      "New best for swarm at iteration 16: [8.66158374e+00 4.83157874e+01 3.13149441e-02] 29.274016082297553\n",
      "Best after iteration 16: [8.66158374e+00 4.83157874e+01 3.13149441e-02] 29.274016082297553\n",
      "New best for swarm at iteration 17: [8.11995908e+00 4.84495094e+01 3.11776902e-02] 29.223921991824415\n",
      "Best after iteration 17: [8.11995908e+00 4.84495094e+01 3.11776902e-02] 29.223921991824415\n",
      "Best after iteration 18: [8.11995908e+00 4.84495094e+01 3.11776902e-02] 29.223921991824415\n",
      "Best after iteration 19: [8.11995908e+00 4.84495094e+01 3.11776902e-02] 29.223921991824415\n",
      "New best for swarm at iteration 20: [9.38390347e+00 4.72852110e+01 3.16222498e-02] 29.210472132424247\n",
      "Best after iteration 20: [9.38390347e+00 4.72852110e+01 3.16222498e-02] 29.210472132424247\n",
      "New best for swarm at iteration 21: [9.21284920e+00 4.55443951e+01 3.22002714e-02] 29.126999284711196\n",
      "Best after iteration 21: [9.21284920e+00 4.55443951e+01 3.22002714e-02] 29.126999284711196\n",
      "Best after iteration 22: [9.21284920e+00 4.55443951e+01 3.22002714e-02] 29.126999284711196\n",
      "New best for swarm at iteration 23: [8.62415758e+00 4.57413258e+01 3.22139098e-02] 29.06385750619273\n",
      "Best after iteration 23: [8.62415758e+00 4.57413258e+01 3.22139098e-02] 29.06385750619273\n",
      "Best after iteration 24: [8.62415758e+00 4.57413258e+01 3.22139098e-02] 29.06385750619273\n",
      "New best for swarm at iteration 25: [8.47534156e+00 4.60744013e+01 3.22238125e-02] 29.062995437419172\n",
      "Best after iteration 25: [8.47534156e+00 4.60744013e+01 3.22238125e-02] 29.062995437419172\n",
      "New best for swarm at iteration 26: [8.70083704e+00 4.39886863e+01 3.33196685e-02] 29.00812421413815\n",
      "Best after iteration 26: [8.70083704e+00 4.39886863e+01 3.33196685e-02] 29.00812421413815\n",
      "Best after iteration 27: [8.70083704e+00 4.39886863e+01 3.33196685e-02] 29.00812421413815\n",
      "Best after iteration 28: [8.70083704e+00 4.39886863e+01 3.33196685e-02] 29.00812421413815\n",
      "New best for swarm at iteration 29: [8.47902817e+00 4.33030714e+01 3.39740743e-02] 28.958086224786726\n",
      "Best after iteration 29: [8.47902817e+00 4.33030714e+01 3.39740743e-02] 28.958086224786726\n",
      "Best after iteration 30: [8.47902817e+00 4.33030714e+01 3.39740743e-02] 28.958086224786726\n",
      "Best after iteration 31: [8.47902817e+00 4.33030714e+01 3.39740743e-02] 28.958086224786726\n",
      "Best after iteration 32: [8.47902817e+00 4.33030714e+01 3.39740743e-02] 28.958086224786726\n",
      "Best after iteration 33: [8.47902817e+00 4.33030714e+01 3.39740743e-02] 28.958086224786726\n",
      "Best after iteration 34: [8.47902817e+00 4.33030714e+01 3.39740743e-02] 28.958086224786726\n",
      "Best after iteration 35: [8.47902817e+00 4.33030714e+01 3.39740743e-02] 28.958086224786726\n",
      "New best for swarm at iteration 36: [8.45328507e+00 4.32637638e+01 3.39703124e-02] 28.957814909255706\n",
      "Best after iteration 36: [8.45328507e+00 4.32637638e+01 3.39703124e-02] 28.957814909255706\n",
      "Best after iteration 37: [8.45328507e+00 4.32637638e+01 3.39703124e-02] 28.957814909255706\n",
      "Best after iteration 38: [8.45328507e+00 4.32637638e+01 3.39703124e-02] 28.957814909255706\n",
      "Best after iteration 39: [8.45328507e+00 4.32637638e+01 3.39703124e-02] 28.957814909255706\n",
      "Best after iteration 40: [8.45328507e+00 4.32637638e+01 3.39703124e-02] 28.957814909255706\n",
      "Best after iteration 41: [8.45328507e+00 4.32637638e+01 3.39703124e-02] 28.957814909255706\n",
      "Best after iteration 42: [8.45328507e+00 4.32637638e+01 3.39703124e-02] 28.957814909255706\n",
      "Best after iteration 43: [8.45328507e+00 4.32637638e+01 3.39703124e-02] 28.957814909255706\n",
      "Best after iteration 44: [8.45328507e+00 4.32637638e+01 3.39703124e-02] 28.957814909255706\n",
      "Best after iteration 45: [8.45328507e+00 4.32637638e+01 3.39703124e-02] 28.957814909255706\n",
      "Best after iteration 46: [8.45328507e+00 4.32637638e+01 3.39703124e-02] 28.957814909255706\n",
      "Best after iteration 47: [8.45328507e+00 4.32637638e+01 3.39703124e-02] 28.957814909255706\n",
      "New best for swarm at iteration 48: [8.43380605e+00 4.33660678e+01 3.39695292e-02] 28.957774879876514\n",
      "Best after iteration 48: [8.43380605e+00 4.33660678e+01 3.39695292e-02] 28.957774879876514\n",
      "Best after iteration 49: [8.43380605e+00 4.33660678e+01 3.39695292e-02] 28.957774879876514\n",
      "Best after iteration 50: [8.43380605e+00 4.33660678e+01 3.39695292e-02] 28.957774879876514\n",
      "Best after iteration 51: [8.43380605e+00 4.33660678e+01 3.39695292e-02] 28.957774879876514\n",
      "Best after iteration 52: [8.43380605e+00 4.33660678e+01 3.39695292e-02] 28.957774879876514\n",
      "Best after iteration 53: [8.43380605e+00 4.33660678e+01 3.39695292e-02] 28.957774879876514\n",
      "Best after iteration 54: [8.43380605e+00 4.33660678e+01 3.39695292e-02] 28.957774879876514\n",
      "Best after iteration 55: [8.43380605e+00 4.33660678e+01 3.39695292e-02] 28.957774879876514\n",
      "New best for swarm at iteration 56: [8.43938619e+00 4.33631392e+01 3.39707457e-02] 28.957770529711137\n",
      "Best after iteration 56: [8.43938619e+00 4.33631392e+01 3.39707457e-02] 28.957770529711137\n",
      "Best after iteration 57: [8.43938619e+00 4.33631392e+01 3.39707457e-02] 28.957770529711137\n",
      "Best after iteration 58: [8.43938619e+00 4.33631392e+01 3.39707457e-02] 28.957770529711137\n",
      "Best after iteration 59: [8.43938619e+00 4.33631392e+01 3.39707457e-02] 28.957770529711137\n",
      "Best after iteration 60: [8.43938619e+00 4.33631392e+01 3.39707457e-02] 28.957770529711137\n",
      "New best for swarm at iteration 61: [8.43582853e+00 4.34847867e+01 3.39706511e-02] 28.957768963727453\n",
      "Best after iteration 61: [8.43582853e+00 4.34847867e+01 3.39706511e-02] 28.957768963727453\n",
      "Best after iteration 62: [8.43582853e+00 4.34847867e+01 3.39706511e-02] 28.957768963727453\n",
      "Best after iteration 63: [8.43582853e+00 4.34847867e+01 3.39706511e-02] 28.957768963727453\n",
      "Best after iteration 64: [8.43582853e+00 4.34847867e+01 3.39706511e-02] 28.957768963727453\n",
      "Best after iteration 65: [8.43582853e+00 4.34847867e+01 3.39706511e-02] 28.957768963727453\n",
      "Best after iteration 66: [8.43582853e+00 4.34847867e+01 3.39706511e-02] 28.957768963727453\n",
      "Best after iteration 67: [8.43582853e+00 4.34847867e+01 3.39706511e-02] 28.957768963727453\n",
      "Best after iteration 68: [8.43582853e+00 4.34847867e+01 3.39706511e-02] 28.957768963727453\n",
      "Best after iteration 69: [8.43582853e+00 4.34847867e+01 3.39706511e-02] 28.957768963727453\n",
      "Best after iteration 70: [8.43582853e+00 4.34847867e+01 3.39706511e-02] 28.957768963727453\n"
     ]
    },
    {
     "name": "stdout",
     "output_type": "stream",
     "text": [
      "Best after iteration 71: [8.43582853e+00 4.34847867e+01 3.39706511e-02] 28.957768963727453\n",
      "Best after iteration 72: [8.43582853e+00 4.34847867e+01 3.39706511e-02] 28.957768963727453\n",
      "Best after iteration 73: [8.43582853e+00 4.34847867e+01 3.39706511e-02] 28.957768963727453\n",
      "Best after iteration 74: [8.43582853e+00 4.34847867e+01 3.39706511e-02] 28.957768963727453\n",
      "New best for swarm at iteration 75: [8.43624893e+00 4.34439647e+01 3.39708004e-02] 28.957768898095942\n",
      "Best after iteration 75: [8.43624893e+00 4.34439647e+01 3.39708004e-02] 28.957768898095942\n",
      "Best after iteration 76: [8.43624893e+00 4.34439647e+01 3.39708004e-02] 28.957768898095942\n",
      "Best after iteration 77: [8.43624893e+00 4.34439647e+01 3.39708004e-02] 28.957768898095942\n",
      "Best after iteration 78: [8.43624893e+00 4.34439647e+01 3.39708004e-02] 28.957768898095942\n",
      "Best after iteration 79: [8.43624893e+00 4.34439647e+01 3.39708004e-02] 28.957768898095942\n",
      "Best after iteration 80: [8.43624893e+00 4.34439647e+01 3.39708004e-02] 28.957768898095942\n",
      "Best after iteration 81: [8.43624893e+00 4.34439647e+01 3.39708004e-02] 28.957768898095942\n",
      "Best after iteration 82: [8.43624893e+00 4.34439647e+01 3.39708004e-02] 28.957768898095942\n",
      "Best after iteration 83: [8.43624893e+00 4.34439647e+01 3.39708004e-02] 28.957768898095942\n",
      "Best after iteration 84: [8.43624893e+00 4.34439647e+01 3.39708004e-02] 28.957768898095942\n",
      "Best after iteration 85: [8.43624893e+00 4.34439647e+01 3.39708004e-02] 28.957768898095942\n",
      "Best after iteration 86: [8.43624893e+00 4.34439647e+01 3.39708004e-02] 28.957768898095942\n",
      "Best after iteration 87: [8.43624893e+00 4.34439647e+01 3.39708004e-02] 28.957768898095942\n",
      "Best after iteration 88: [8.43624893e+00 4.34439647e+01 3.39708004e-02] 28.957768898095942\n",
      "New best for swarm at iteration 89: [8.43622268e+00 4.34446918e+01 3.39707886e-02] 28.957768896128023\n",
      "Best after iteration 89: [8.43622268e+00 4.34446918e+01 3.39707886e-02] 28.957768896128023\n",
      "Best after iteration 90: [8.43622268e+00 4.34446918e+01 3.39707886e-02] 28.957768896128023\n",
      "Best after iteration 91: [8.43622268e+00 4.34446918e+01 3.39707886e-02] 28.957768896128023\n",
      "Best after iteration 92: [8.43622268e+00 4.34446918e+01 3.39707886e-02] 28.957768896128023\n",
      "Best after iteration 93: [8.43622268e+00 4.34446918e+01 3.39707886e-02] 28.957768896128023\n",
      "Best after iteration 94: [8.43622268e+00 4.34446918e+01 3.39707886e-02] 28.957768896128023\n",
      "Best after iteration 95: [8.43622268e+00 4.34446918e+01 3.39707886e-02] 28.957768896128023\n",
      "Best after iteration 96: [8.43622268e+00 4.34446918e+01 3.39707886e-02] 28.957768896128023\n",
      "Best after iteration 97: [8.43622268e+00 4.34446918e+01 3.39707886e-02] 28.957768896128023\n",
      "Best after iteration 98: [8.43622268e+00 4.34446918e+01 3.39707886e-02] 28.957768896128023\n",
      "New best for swarm at iteration 99: [8.43614167e+00 4.34405947e+01 3.39707670e-02] 28.957768895251924\n",
      "Stopping search: Swarm best objective change less than 1e-09\n"
     ]
    },
    {
     "name": "stderr",
     "output_type": "stream",
     "text": [
      "100%|██████████| 1000/1000 [04:42<00:00,  3.54it/s]\n"
     ]
    },
    {
     "name": "stdout",
     "output_type": "stream",
     "text": [
      "Calibrating beta. Warning: The chain is shorter than 50 times the integrated autocorrelation time for 4 parameter(s). Use this estimate with caution and run a longer chain!\n",
      "No constraints given.\n",
      "Best after iteration 1: [6.59434864 2.60496106 9.0225518  0.23822998] 206.98278867811874\n",
      "Best after iteration 2: [6.59434864 2.60496106 9.0225518  0.23822998] 206.98278867811874\n",
      "New best for swarm at iteration 3: [6.59204956 2.96146832 7.90990866 0.27540219] 205.43118949120625\n",
      "Best after iteration 3: [6.59204956 2.96146832 7.90990866 0.27540219] 205.43118949120625\n",
      "Best after iteration 4: [6.59204956 2.96146832 7.90990866 0.27540219] 205.43118949120625\n",
      "Best after iteration 5: [6.59204956 2.96146832 7.90990866 0.27540219] 205.43118949120625\n",
      "New best for swarm at iteration 6: [13.01181963  4.37593235  5.45195611  0.35292477] 196.41336263307764\n",
      "Best after iteration 6: [13.01181963  4.37593235  5.45195611  0.35292477] 196.41336263307764\n",
      "New best for swarm at iteration 7: [9.73201411 3.012888   8.88485264 0.22602056] 194.04709755332433\n",
      "Best after iteration 7: [9.73201411 3.012888   8.88485264 0.22602056] 194.04709755332433\n",
      "New best for swarm at iteration 8: [11.07953261  0.1         8.69085339  0.35486796] 191.47678946468895\n",
      "Best after iteration 8: [11.07953261  0.1         8.69085339  0.35486796] 191.47678946468895\n",
      "Best after iteration 9: [11.07953261  0.1         8.69085339  0.35486796] 191.47678946468895\n",
      "New best for swarm at iteration 10: [10.11699126  0.1         8.0825488   0.38436716] 190.75127490604723\n",
      "Best after iteration 10: [10.11699126  0.1         8.0825488   0.38436716] 190.75127490604723\n",
      "Best after iteration 11: [10.11699126  0.1         8.0825488   0.38436716] 190.75127490604723\n",
      "New best for swarm at iteration 12: [8.69304489 0.1        8.26683735 0.29588902] 188.54216670428096\n",
      "Best after iteration 12: [8.69304489 0.1        8.26683735 0.29588902] 188.54216670428096\n",
      "Best after iteration 13: [8.69304489 0.1        8.26683735 0.29588902] 188.54216670428096\n",
      "New best for swarm at iteration 14: [8.7558704  0.1        8.47342221 0.29906873] 188.4795052277799\n",
      "Best after iteration 14: [8.7558704  0.1        8.47342221 0.29906873] 188.4795052277799\n",
      "New best for swarm at iteration 15: [8.62939628 0.1        8.53765507 0.32672515] 188.162087810182\n",
      "Best after iteration 15: [8.62939628 0.1        8.53765507 0.32672515] 188.162087810182\n",
      "Best after iteration 16: [8.62939628 0.1        8.53765507 0.32672515] 188.162087810182\n",
      "Best after iteration 17: [8.62939628 0.1        8.53765507 0.32672515] 188.162087810182\n",
      "Best after iteration 18: [8.62939628 0.1        8.53765507 0.32672515] 188.162087810182\n",
      "Best after iteration 19: [8.62939628 0.1        8.53765507 0.32672515] 188.162087810182\n",
      "Best after iteration 20: [8.62939628 0.1        8.53765507 0.32672515] 188.162087810182\n",
      "Best after iteration 21: [8.62939628 0.1        8.53765507 0.32672515] 188.162087810182\n",
      "Best after iteration 22: [8.62939628 0.1        8.53765507 0.32672515] 188.162087810182\n",
      "Best after iteration 23: [8.62939628 0.1        8.53765507 0.32672515] 188.162087810182\n",
      "Best after iteration 24: [8.62939628 0.1        8.53765507 0.32672515] 188.162087810182\n",
      "Best after iteration 25: [8.62939628 0.1        8.53765507 0.32672515] 188.162087810182\n",
      "New best for swarm at iteration 26: [8.73258919 0.1        8.30283567 0.32436186] 188.1207578072354\n",
      "Best after iteration 26: [8.73258919 0.1        8.30283567 0.32436186] 188.1207578072354\n",
      "Best after iteration 27: [8.73258919 0.1        8.30283567 0.32436186] 188.1207578072354\n",
      "New best for swarm at iteration 28: [8.83341584 0.1        8.79666744 0.31672739] 187.98320648267097\n",
      "Best after iteration 28: [8.83341584 0.1        8.79666744 0.31672739] 187.98320648267097\n",
      "Best after iteration 29: [8.83341584 0.1        8.79666744 0.31672739] 187.98320648267097\n",
      "Best after iteration 30: [8.83341584 0.1        8.79666744 0.31672739] 187.98320648267097\n",
      "New best for swarm at iteration 31: [8.94300878 0.1        8.75165021 0.31944323] 187.9731407052252\n",
      "Best after iteration 31: [8.94300878 0.1        8.75165021 0.31944323] 187.9731407052252\n",
      "Best after iteration 32: [8.94300878 0.1        8.75165021 0.31944323] 187.9731407052252\n",
      "Best after iteration 33: [8.94300878 0.1        8.75165021 0.31944323] 187.9731407052252\n",
      "Best after iteration 34: [8.94300878 0.1        8.75165021 0.31944323] 187.9731407052252\n",
      "Best after iteration 35: [8.94300878 0.1        8.75165021 0.31944323] 187.9731407052252\n",
      "Best after iteration 36: [8.94300878 0.1        8.75165021 0.31944323] 187.9731407052252\n",
      "Best after iteration 37: [8.94300878 0.1        8.75165021 0.31944323] 187.9731407052252\n",
      "Best after iteration 38: [8.94300878 0.1        8.75165021 0.31944323] 187.9731407052252\n",
      "Best after iteration 39: [8.94300878 0.1        8.75165021 0.31944323] 187.9731407052252\n",
      "Best after iteration 40: [8.94300878 0.1        8.75165021 0.31944323] 187.9731407052252\n",
      "Best after iteration 41: [8.94300878 0.1        8.75165021 0.31944323] 187.9731407052252\n",
      "Best after iteration 42: [8.94300878 0.1        8.75165021 0.31944323] 187.9731407052252\n",
      "Best after iteration 43: [8.94300878 0.1        8.75165021 0.31944323] 187.9731407052252\n",
      "Best after iteration 44: [8.94300878 0.1        8.75165021 0.31944323] 187.9731407052252\n",
      "Best after iteration 45: [8.94300878 0.1        8.75165021 0.31944323] 187.9731407052252\n",
      "Best after iteration 46: [8.94300878 0.1        8.75165021 0.31944323] 187.9731407052252\n",
      "Best after iteration 47: [8.94300878 0.1        8.75165021 0.31944323] 187.9731407052252\n",
      "Best after iteration 48: [8.94300878 0.1        8.75165021 0.31944323] 187.9731407052252\n",
      "Best after iteration 49: [8.94300878 0.1        8.75165021 0.31944323] 187.9731407052252\n",
      "Best after iteration 50: [8.94300878 0.1        8.75165021 0.31944323] 187.9731407052252\n",
      "Best after iteration 51: [8.94300878 0.1        8.75165021 0.31944323] 187.9731407052252\n",
      "Best after iteration 52: [8.94300878 0.1        8.75165021 0.31944323] 187.9731407052252\n",
      "Best after iteration 53: [8.94300878 0.1        8.75165021 0.31944323] 187.9731407052252\n",
      "Best after iteration 54: [8.94300878 0.1        8.75165021 0.31944323] 187.9731407052252\n",
      "Best after iteration 55: [8.94300878 0.1        8.75165021 0.31944323] 187.9731407052252\n",
      "Best after iteration 56: [8.94300878 0.1        8.75165021 0.31944323] 187.9731407052252\n",
      "Best after iteration 57: [8.94300878 0.1        8.75165021 0.31944323] 187.9731407052252\n",
      "Best after iteration 58: [8.94300878 0.1        8.75165021 0.31944323] 187.9731407052252\n",
      "Best after iteration 59: [8.94300878 0.1        8.75165021 0.31944323] 187.9731407052252\n",
      "Best after iteration 60: [8.94300878 0.1        8.75165021 0.31944323] 187.9731407052252\n",
      "New best for swarm at iteration 61: [8.94484075 0.1        8.75112297 0.31943682] 187.97303195481751\n",
      "Best after iteration 61: [8.94484075 0.1        8.75112297 0.31943682] 187.97303195481751\n",
      "Best after iteration 62: [8.94484075 0.1        8.75112297 0.31943682] 187.97303195481751\n",
      "New best for swarm at iteration 63: [8.92474943 0.1        8.75426521 0.32049116] 187.97070326443153\n",
      "Best after iteration 63: [8.92474943 0.1        8.75426521 0.32049116] 187.97070326443153\n",
      "Best after iteration 64: [8.92474943 0.1        8.75426521 0.32049116] 187.97070326443153\n",
      "Best after iteration 65: [8.92474943 0.1        8.75426521 0.32049116] 187.97070326443153\n",
      "New best for swarm at iteration 66: [8.90859262 0.1        8.73878494 0.32089015] 187.97032917388643\n",
      "Best after iteration 66: [8.90859262 0.1        8.73878494 0.32089015] 187.97032917388643\n",
      "New best for swarm at iteration 67: [8.90075847 0.1        8.75101026 0.32024589] 187.96986651281415\n",
      "Best after iteration 67: [8.90075847 0.1        8.75101026 0.32024589] 187.96986651281415\n",
      "Best after iteration 68: [8.90075847 0.1        8.75101026 0.32024589] 187.96986651281415\n",
      "Best after iteration 69: [8.90075847 0.1        8.75101026 0.32024589] 187.96986651281415\n",
      "Best after iteration 70: [8.90075847 0.1        8.75101026 0.32024589] 187.96986651281415\n",
      "Best after iteration 71: [8.90075847 0.1        8.75101026 0.32024589] 187.96986651281415\n",
      "Best after iteration 72: [8.90075847 0.1        8.75101026 0.32024589] 187.96986651281415\n",
      "Best after iteration 73: [8.90075847 0.1        8.75101026 0.32024589] 187.96986651281415\n"
     ]
    },
    {
     "name": "stdout",
     "output_type": "stream",
     "text": [
      "Best after iteration 74: [8.90075847 0.1        8.75101026 0.32024589] 187.96986651281415\n",
      "Best after iteration 75: [8.90075847 0.1        8.75101026 0.32024589] 187.96986651281415\n",
      "Best after iteration 76: [8.90075847 0.1        8.75101026 0.32024589] 187.96986651281415\n",
      "Best after iteration 77: [8.90075847 0.1        8.75101026 0.32024589] 187.96986651281415\n",
      "Best after iteration 78: [8.90075847 0.1        8.75101026 0.32024589] 187.96986651281415\n",
      "Best after iteration 79: [8.90075847 0.1        8.75101026 0.32024589] 187.96986651281415\n",
      "Best after iteration 80: [8.90075847 0.1        8.75101026 0.32024589] 187.96986651281415\n",
      "Best after iteration 81: [8.90075847 0.1        8.75101026 0.32024589] 187.96986651281415\n",
      "Best after iteration 82: [8.90075847 0.1        8.75101026 0.32024589] 187.96986651281415\n",
      "Best after iteration 83: [8.90075847 0.1        8.75101026 0.32024589] 187.96986651281415\n",
      "Best after iteration 84: [8.90075847 0.1        8.75101026 0.32024589] 187.96986651281415\n",
      "Best after iteration 85: [8.90075847 0.1        8.75101026 0.32024589] 187.96986651281415\n",
      "Best after iteration 86: [8.90075847 0.1        8.75101026 0.32024589] 187.96986651281415\n",
      "Best after iteration 87: [8.90075847 0.1        8.75101026 0.32024589] 187.96986651281415\n",
      "Best after iteration 88: [8.90075847 0.1        8.75101026 0.32024589] 187.96986651281415\n",
      "Best after iteration 89: [8.90075847 0.1        8.75101026 0.32024589] 187.96986651281415\n",
      "Best after iteration 90: [8.90075847 0.1        8.75101026 0.32024589] 187.96986651281415\n",
      "Best after iteration 91: [8.90075847 0.1        8.75101026 0.32024589] 187.96986651281415\n",
      "Best after iteration 92: [8.90075847 0.1        8.75101026 0.32024589] 187.96986651281415\n",
      "Best after iteration 93: [8.90075847 0.1        8.75101026 0.32024589] 187.96986651281415\n",
      "Best after iteration 94: [8.90075847 0.1        8.75101026 0.32024589] 187.96986651281415\n",
      "Best after iteration 95: [8.90075847 0.1        8.75101026 0.32024589] 187.96986651281415\n",
      "Best after iteration 96: [8.90075847 0.1        8.75101026 0.32024589] 187.96986651281415\n",
      "Best after iteration 97: [8.90075847 0.1        8.75101026 0.32024589] 187.96986651281415\n",
      "Best after iteration 98: [8.90075847 0.1        8.75101026 0.32024589] 187.96986651281415\n",
      "Best after iteration 99: [8.90075847 0.1        8.75101026 0.32024589] 187.96986651281415\n",
      "Best after iteration 100: [8.90075847 0.1        8.75101026 0.32024589] 187.96986651281415\n",
      "Stopping search: maximum iterations reached --> 100\n"
     ]
    },
    {
     "name": "stderr",
     "output_type": "stream",
     "text": [
      "  0%|          | 0/1000 [00:00<?, ?it/s]/home/data/jvergeyn/.conda/envs/COVID_MODEL/lib/python3.7/site-packages/emcee/moves/red_blue.py:99: RuntimeWarning: invalid value encountered in double_scalars\n",
      "  lnpdiff = f + nlp - state.log_prob[j]\n",
      "100%|██████████| 1000/1000 [15:12<00:00,  1.10it/s]\n"
     ]
    },
    {
     "name": "stdout",
     "output_type": "stream",
     "text": [
      "Calibrating compliance ramp. Warning: The chain is shorter than 50 times the integrated autocorrelation time for 4 parameter(s). Use this estimate with caution and run a longer chain!\n"
     ]
    }
   ],
   "source": [
    "samples_dict = full_calibration(model, timeseries, spatial_unit, start_date, end_beta, end_ramp, \n",
    "                            fig_path=fig_path, samples_path=samples_path,\n",
    "                            maxiter=100, popsize=100, steps_mcmc=1000)\n",
    "\n"
   ]
  },
  {
   "cell_type": "code",
   "execution_count": null,
   "metadata": {},
   "outputs": [],
   "source": []
  },
  {
   "cell_type": "code",
   "execution_count": null,
   "metadata": {
    "ExecuteTime": {
     "end_time": "2020-10-28T14:23:52.096855Z",
     "start_time": "2020-10-28T14:23:52.060177Z"
    }
   },
   "outputs": [],
   "source": [
    "samples_dict = samples_dict_wave1"
   ]
  },
  {
   "cell_type": "code",
   "execution_count": 16,
   "metadata": {
    "ExecuteTime": {
     "end_time": "2020-10-28T18:04:53.057778Z",
     "start_time": "2020-10-28T18:04:06.343910Z"
    },
    "scrolled": false
   },
   "outputs": [
    {
     "data": {
      "application/javascript": [
       "/* Put everything inside the global mpl namespace */\n",
       "/* global mpl */\n",
       "window.mpl = {};\n",
       "\n",
       "mpl.get_websocket_type = function () {\n",
       "    if (typeof WebSocket !== 'undefined') {\n",
       "        return WebSocket;\n",
       "    } else if (typeof MozWebSocket !== 'undefined') {\n",
       "        return MozWebSocket;\n",
       "    } else {\n",
       "        alert(\n",
       "            'Your browser does not have WebSocket support. ' +\n",
       "                'Please try Chrome, Safari or Firefox ≥ 6. ' +\n",
       "                'Firefox 4 and 5 are also supported but you ' +\n",
       "                'have to enable WebSockets in about:config.'\n",
       "        );\n",
       "    }\n",
       "};\n",
       "\n",
       "mpl.figure = function (figure_id, websocket, ondownload, parent_element) {\n",
       "    this.id = figure_id;\n",
       "\n",
       "    this.ws = websocket;\n",
       "\n",
       "    this.supports_binary = this.ws.binaryType !== undefined;\n",
       "\n",
       "    if (!this.supports_binary) {\n",
       "        var warnings = document.getElementById('mpl-warnings');\n",
       "        if (warnings) {\n",
       "            warnings.style.display = 'block';\n",
       "            warnings.textContent =\n",
       "                'This browser does not support binary websocket messages. ' +\n",
       "                'Performance may be slow.';\n",
       "        }\n",
       "    }\n",
       "\n",
       "    this.imageObj = new Image();\n",
       "\n",
       "    this.context = undefined;\n",
       "    this.message = undefined;\n",
       "    this.canvas = undefined;\n",
       "    this.rubberband_canvas = undefined;\n",
       "    this.rubberband_context = undefined;\n",
       "    this.format_dropdown = undefined;\n",
       "\n",
       "    this.image_mode = 'full';\n",
       "\n",
       "    this.root = document.createElement('div');\n",
       "    this.root.setAttribute('style', 'display: inline-block');\n",
       "    this._root_extra_style(this.root);\n",
       "\n",
       "    parent_element.appendChild(this.root);\n",
       "\n",
       "    this._init_header(this);\n",
       "    this._init_canvas(this);\n",
       "    this._init_toolbar(this);\n",
       "\n",
       "    var fig = this;\n",
       "\n",
       "    this.waiting = false;\n",
       "\n",
       "    this.ws.onopen = function () {\n",
       "        fig.send_message('supports_binary', { value: fig.supports_binary });\n",
       "        fig.send_message('send_image_mode', {});\n",
       "        if (mpl.ratio !== 1) {\n",
       "            fig.send_message('set_dpi_ratio', { dpi_ratio: mpl.ratio });\n",
       "        }\n",
       "        fig.send_message('refresh', {});\n",
       "    };\n",
       "\n",
       "    this.imageObj.onload = function () {\n",
       "        if (fig.image_mode === 'full') {\n",
       "            // Full images could contain transparency (where diff images\n",
       "            // almost always do), so we need to clear the canvas so that\n",
       "            // there is no ghosting.\n",
       "            fig.context.clearRect(0, 0, fig.canvas.width, fig.canvas.height);\n",
       "        }\n",
       "        fig.context.drawImage(fig.imageObj, 0, 0);\n",
       "    };\n",
       "\n",
       "    this.imageObj.onunload = function () {\n",
       "        fig.ws.close();\n",
       "    };\n",
       "\n",
       "    this.ws.onmessage = this._make_on_message_function(this);\n",
       "\n",
       "    this.ondownload = ondownload;\n",
       "};\n",
       "\n",
       "mpl.figure.prototype._init_header = function () {\n",
       "    var titlebar = document.createElement('div');\n",
       "    titlebar.classList =\n",
       "        'ui-dialog-titlebar ui-widget-header ui-corner-all ui-helper-clearfix';\n",
       "    var titletext = document.createElement('div');\n",
       "    titletext.classList = 'ui-dialog-title';\n",
       "    titletext.setAttribute(\n",
       "        'style',\n",
       "        'width: 100%; text-align: center; padding: 3px;'\n",
       "    );\n",
       "    titlebar.appendChild(titletext);\n",
       "    this.root.appendChild(titlebar);\n",
       "    this.header = titletext;\n",
       "};\n",
       "\n",
       "mpl.figure.prototype._canvas_extra_style = function (_canvas_div) {};\n",
       "\n",
       "mpl.figure.prototype._root_extra_style = function (_canvas_div) {};\n",
       "\n",
       "mpl.figure.prototype._init_canvas = function () {\n",
       "    var fig = this;\n",
       "\n",
       "    var canvas_div = (this.canvas_div = document.createElement('div'));\n",
       "    canvas_div.setAttribute(\n",
       "        'style',\n",
       "        'border: 1px solid #ddd;' +\n",
       "            'box-sizing: content-box;' +\n",
       "            'clear: both;' +\n",
       "            'min-height: 1px;' +\n",
       "            'min-width: 1px;' +\n",
       "            'outline: 0;' +\n",
       "            'overflow: hidden;' +\n",
       "            'position: relative;' +\n",
       "            'resize: both;'\n",
       "    );\n",
       "\n",
       "    function on_keyboard_event_closure(name) {\n",
       "        return function (event) {\n",
       "            return fig.key_event(event, name);\n",
       "        };\n",
       "    }\n",
       "\n",
       "    canvas_div.addEventListener(\n",
       "        'keydown',\n",
       "        on_keyboard_event_closure('key_press')\n",
       "    );\n",
       "    canvas_div.addEventListener(\n",
       "        'keyup',\n",
       "        on_keyboard_event_closure('key_release')\n",
       "    );\n",
       "\n",
       "    this._canvas_extra_style(canvas_div);\n",
       "    this.root.appendChild(canvas_div);\n",
       "\n",
       "    var canvas = (this.canvas = document.createElement('canvas'));\n",
       "    canvas.classList.add('mpl-canvas');\n",
       "    canvas.setAttribute('style', 'box-sizing: content-box;');\n",
       "\n",
       "    this.context = canvas.getContext('2d');\n",
       "\n",
       "    var backingStore =\n",
       "        this.context.backingStorePixelRatio ||\n",
       "        this.context.webkitBackingStorePixelRatio ||\n",
       "        this.context.mozBackingStorePixelRatio ||\n",
       "        this.context.msBackingStorePixelRatio ||\n",
       "        this.context.oBackingStorePixelRatio ||\n",
       "        this.context.backingStorePixelRatio ||\n",
       "        1;\n",
       "\n",
       "    mpl.ratio = (window.devicePixelRatio || 1) / backingStore;\n",
       "\n",
       "    var rubberband_canvas = (this.rubberband_canvas = document.createElement(\n",
       "        'canvas'\n",
       "    ));\n",
       "    rubberband_canvas.setAttribute(\n",
       "        'style',\n",
       "        'box-sizing: content-box; position: absolute; left: 0; top: 0; z-index: 1;'\n",
       "    );\n",
       "\n",
       "    var resizeObserver = new ResizeObserver(function (entries) {\n",
       "        var nentries = entries.length;\n",
       "        for (var i = 0; i < nentries; i++) {\n",
       "            var entry = entries[i];\n",
       "            var width, height;\n",
       "            if (entry.contentBoxSize) {\n",
       "                if (entry.contentBoxSize instanceof Array) {\n",
       "                    // Chrome 84 implements new version of spec.\n",
       "                    width = entry.contentBoxSize[0].inlineSize;\n",
       "                    height = entry.contentBoxSize[0].blockSize;\n",
       "                } else {\n",
       "                    // Firefox implements old version of spec.\n",
       "                    width = entry.contentBoxSize.inlineSize;\n",
       "                    height = entry.contentBoxSize.blockSize;\n",
       "                }\n",
       "            } else {\n",
       "                // Chrome <84 implements even older version of spec.\n",
       "                width = entry.contentRect.width;\n",
       "                height = entry.contentRect.height;\n",
       "            }\n",
       "\n",
       "            // Keep the size of the canvas and rubber band canvas in sync with\n",
       "            // the canvas container.\n",
       "            if (entry.devicePixelContentBoxSize) {\n",
       "                // Chrome 84 implements new version of spec.\n",
       "                canvas.setAttribute(\n",
       "                    'width',\n",
       "                    entry.devicePixelContentBoxSize[0].inlineSize\n",
       "                );\n",
       "                canvas.setAttribute(\n",
       "                    'height',\n",
       "                    entry.devicePixelContentBoxSize[0].blockSize\n",
       "                );\n",
       "            } else {\n",
       "                canvas.setAttribute('width', width * mpl.ratio);\n",
       "                canvas.setAttribute('height', height * mpl.ratio);\n",
       "            }\n",
       "            canvas.setAttribute(\n",
       "                'style',\n",
       "                'width: ' + width + 'px; height: ' + height + 'px;'\n",
       "            );\n",
       "\n",
       "            rubberband_canvas.setAttribute('width', width);\n",
       "            rubberband_canvas.setAttribute('height', height);\n",
       "\n",
       "            // And update the size in Python. We ignore the initial 0/0 size\n",
       "            // that occurs as the element is placed into the DOM, which should\n",
       "            // otherwise not happen due to the minimum size styling.\n",
       "            if (width != 0 && height != 0) {\n",
       "                fig.request_resize(width, height);\n",
       "            }\n",
       "        }\n",
       "    });\n",
       "    resizeObserver.observe(canvas_div);\n",
       "\n",
       "    function on_mouse_event_closure(name) {\n",
       "        return function (event) {\n",
       "            return fig.mouse_event(event, name);\n",
       "        };\n",
       "    }\n",
       "\n",
       "    rubberband_canvas.addEventListener(\n",
       "        'mousedown',\n",
       "        on_mouse_event_closure('button_press')\n",
       "    );\n",
       "    rubberband_canvas.addEventListener(\n",
       "        'mouseup',\n",
       "        on_mouse_event_closure('button_release')\n",
       "    );\n",
       "    // Throttle sequential mouse events to 1 every 20ms.\n",
       "    rubberband_canvas.addEventListener(\n",
       "        'mousemove',\n",
       "        on_mouse_event_closure('motion_notify')\n",
       "    );\n",
       "\n",
       "    rubberband_canvas.addEventListener(\n",
       "        'mouseenter',\n",
       "        on_mouse_event_closure('figure_enter')\n",
       "    );\n",
       "    rubberband_canvas.addEventListener(\n",
       "        'mouseleave',\n",
       "        on_mouse_event_closure('figure_leave')\n",
       "    );\n",
       "\n",
       "    canvas_div.addEventListener('wheel', function (event) {\n",
       "        if (event.deltaY < 0) {\n",
       "            event.step = 1;\n",
       "        } else {\n",
       "            event.step = -1;\n",
       "        }\n",
       "        on_mouse_event_closure('scroll')(event);\n",
       "    });\n",
       "\n",
       "    canvas_div.appendChild(canvas);\n",
       "    canvas_div.appendChild(rubberband_canvas);\n",
       "\n",
       "    this.rubberband_context = rubberband_canvas.getContext('2d');\n",
       "    this.rubberband_context.strokeStyle = '#000000';\n",
       "\n",
       "    this._resize_canvas = function (width, height, forward) {\n",
       "        if (forward) {\n",
       "            canvas_div.style.width = width + 'px';\n",
       "            canvas_div.style.height = height + 'px';\n",
       "        }\n",
       "    };\n",
       "\n",
       "    // Disable right mouse context menu.\n",
       "    this.rubberband_canvas.addEventListener('contextmenu', function (_e) {\n",
       "        event.preventDefault();\n",
       "        return false;\n",
       "    });\n",
       "\n",
       "    function set_focus() {\n",
       "        canvas.focus();\n",
       "        canvas_div.focus();\n",
       "    }\n",
       "\n",
       "    window.setTimeout(set_focus, 100);\n",
       "};\n",
       "\n",
       "mpl.figure.prototype._init_toolbar = function () {\n",
       "    var fig = this;\n",
       "\n",
       "    var toolbar = document.createElement('div');\n",
       "    toolbar.classList = 'mpl-toolbar';\n",
       "    this.root.appendChild(toolbar);\n",
       "\n",
       "    function on_click_closure(name) {\n",
       "        return function (_event) {\n",
       "            return fig.toolbar_button_onclick(name);\n",
       "        };\n",
       "    }\n",
       "\n",
       "    function on_mouseover_closure(tooltip) {\n",
       "        return function (event) {\n",
       "            if (!event.currentTarget.disabled) {\n",
       "                return fig.toolbar_button_onmouseover(tooltip);\n",
       "            }\n",
       "        };\n",
       "    }\n",
       "\n",
       "    fig.buttons = {};\n",
       "    var buttonGroup = document.createElement('div');\n",
       "    buttonGroup.classList = 'mpl-button-group';\n",
       "    for (var toolbar_ind in mpl.toolbar_items) {\n",
       "        var name = mpl.toolbar_items[toolbar_ind][0];\n",
       "        var tooltip = mpl.toolbar_items[toolbar_ind][1];\n",
       "        var image = mpl.toolbar_items[toolbar_ind][2];\n",
       "        var method_name = mpl.toolbar_items[toolbar_ind][3];\n",
       "\n",
       "        if (!name) {\n",
       "            /* Instead of a spacer, we start a new button group. */\n",
       "            if (buttonGroup.hasChildNodes()) {\n",
       "                toolbar.appendChild(buttonGroup);\n",
       "            }\n",
       "            buttonGroup = document.createElement('div');\n",
       "            buttonGroup.classList = 'mpl-button-group';\n",
       "            continue;\n",
       "        }\n",
       "\n",
       "        var button = (fig.buttons[name] = document.createElement('button'));\n",
       "        button.classList = 'mpl-widget';\n",
       "        button.setAttribute('role', 'button');\n",
       "        button.setAttribute('aria-disabled', 'false');\n",
       "        button.addEventListener('click', on_click_closure(method_name));\n",
       "        button.addEventListener('mouseover', on_mouseover_closure(tooltip));\n",
       "\n",
       "        var icon_img = document.createElement('img');\n",
       "        icon_img.src = '_images/' + image + '.png';\n",
       "        icon_img.srcset = '_images/' + image + '_large.png 2x';\n",
       "        icon_img.alt = tooltip;\n",
       "        button.appendChild(icon_img);\n",
       "\n",
       "        buttonGroup.appendChild(button);\n",
       "    }\n",
       "\n",
       "    if (buttonGroup.hasChildNodes()) {\n",
       "        toolbar.appendChild(buttonGroup);\n",
       "    }\n",
       "\n",
       "    var fmt_picker = document.createElement('select');\n",
       "    fmt_picker.classList = 'mpl-widget';\n",
       "    toolbar.appendChild(fmt_picker);\n",
       "    this.format_dropdown = fmt_picker;\n",
       "\n",
       "    for (var ind in mpl.extensions) {\n",
       "        var fmt = mpl.extensions[ind];\n",
       "        var option = document.createElement('option');\n",
       "        option.selected = fmt === mpl.default_extension;\n",
       "        option.innerHTML = fmt;\n",
       "        fmt_picker.appendChild(option);\n",
       "    }\n",
       "\n",
       "    var status_bar = document.createElement('span');\n",
       "    status_bar.classList = 'mpl-message';\n",
       "    toolbar.appendChild(status_bar);\n",
       "    this.message = status_bar;\n",
       "};\n",
       "\n",
       "mpl.figure.prototype.request_resize = function (x_pixels, y_pixels) {\n",
       "    // Request matplotlib to resize the figure. Matplotlib will then trigger a resize in the client,\n",
       "    // which will in turn request a refresh of the image.\n",
       "    this.send_message('resize', { width: x_pixels, height: y_pixels });\n",
       "};\n",
       "\n",
       "mpl.figure.prototype.send_message = function (type, properties) {\n",
       "    properties['type'] = type;\n",
       "    properties['figure_id'] = this.id;\n",
       "    this.ws.send(JSON.stringify(properties));\n",
       "};\n",
       "\n",
       "mpl.figure.prototype.send_draw_message = function () {\n",
       "    if (!this.waiting) {\n",
       "        this.waiting = true;\n",
       "        this.ws.send(JSON.stringify({ type: 'draw', figure_id: this.id }));\n",
       "    }\n",
       "};\n",
       "\n",
       "mpl.figure.prototype.handle_save = function (fig, _msg) {\n",
       "    var format_dropdown = fig.format_dropdown;\n",
       "    var format = format_dropdown.options[format_dropdown.selectedIndex].value;\n",
       "    fig.ondownload(fig, format);\n",
       "};\n",
       "\n",
       "mpl.figure.prototype.handle_resize = function (fig, msg) {\n",
       "    var size = msg['size'];\n",
       "    if (size[0] !== fig.canvas.width || size[1] !== fig.canvas.height) {\n",
       "        fig._resize_canvas(size[0], size[1], msg['forward']);\n",
       "        fig.send_message('refresh', {});\n",
       "    }\n",
       "};\n",
       "\n",
       "mpl.figure.prototype.handle_rubberband = function (fig, msg) {\n",
       "    var x0 = msg['x0'] / mpl.ratio;\n",
       "    var y0 = (fig.canvas.height - msg['y0']) / mpl.ratio;\n",
       "    var x1 = msg['x1'] / mpl.ratio;\n",
       "    var y1 = (fig.canvas.height - msg['y1']) / mpl.ratio;\n",
       "    x0 = Math.floor(x0) + 0.5;\n",
       "    y0 = Math.floor(y0) + 0.5;\n",
       "    x1 = Math.floor(x1) + 0.5;\n",
       "    y1 = Math.floor(y1) + 0.5;\n",
       "    var min_x = Math.min(x0, x1);\n",
       "    var min_y = Math.min(y0, y1);\n",
       "    var width = Math.abs(x1 - x0);\n",
       "    var height = Math.abs(y1 - y0);\n",
       "\n",
       "    fig.rubberband_context.clearRect(\n",
       "        0,\n",
       "        0,\n",
       "        fig.canvas.width / mpl.ratio,\n",
       "        fig.canvas.height / mpl.ratio\n",
       "    );\n",
       "\n",
       "    fig.rubberband_context.strokeRect(min_x, min_y, width, height);\n",
       "};\n",
       "\n",
       "mpl.figure.prototype.handle_figure_label = function (fig, msg) {\n",
       "    // Updates the figure title.\n",
       "    fig.header.textContent = msg['label'];\n",
       "};\n",
       "\n",
       "mpl.figure.prototype.handle_cursor = function (fig, msg) {\n",
       "    var cursor = msg['cursor'];\n",
       "    switch (cursor) {\n",
       "        case 0:\n",
       "            cursor = 'pointer';\n",
       "            break;\n",
       "        case 1:\n",
       "            cursor = 'default';\n",
       "            break;\n",
       "        case 2:\n",
       "            cursor = 'crosshair';\n",
       "            break;\n",
       "        case 3:\n",
       "            cursor = 'move';\n",
       "            break;\n",
       "    }\n",
       "    fig.rubberband_canvas.style.cursor = cursor;\n",
       "};\n",
       "\n",
       "mpl.figure.prototype.handle_message = function (fig, msg) {\n",
       "    fig.message.textContent = msg['message'];\n",
       "};\n",
       "\n",
       "mpl.figure.prototype.handle_draw = function (fig, _msg) {\n",
       "    // Request the server to send over a new figure.\n",
       "    fig.send_draw_message();\n",
       "};\n",
       "\n",
       "mpl.figure.prototype.handle_image_mode = function (fig, msg) {\n",
       "    fig.image_mode = msg['mode'];\n",
       "};\n",
       "\n",
       "mpl.figure.prototype.handle_history_buttons = function (fig, msg) {\n",
       "    for (var key in msg) {\n",
       "        if (!(key in fig.buttons)) {\n",
       "            continue;\n",
       "        }\n",
       "        fig.buttons[key].disabled = !msg[key];\n",
       "        fig.buttons[key].setAttribute('aria-disabled', !msg[key]);\n",
       "    }\n",
       "};\n",
       "\n",
       "mpl.figure.prototype.handle_navigate_mode = function (fig, msg) {\n",
       "    if (msg['mode'] === 'PAN') {\n",
       "        fig.buttons['Pan'].classList.add('active');\n",
       "        fig.buttons['Zoom'].classList.remove('active');\n",
       "    } else if (msg['mode'] === 'ZOOM') {\n",
       "        fig.buttons['Pan'].classList.remove('active');\n",
       "        fig.buttons['Zoom'].classList.add('active');\n",
       "    } else {\n",
       "        fig.buttons['Pan'].classList.remove('active');\n",
       "        fig.buttons['Zoom'].classList.remove('active');\n",
       "    }\n",
       "};\n",
       "\n",
       "mpl.figure.prototype.updated_canvas_event = function () {\n",
       "    // Called whenever the canvas gets updated.\n",
       "    this.send_message('ack', {});\n",
       "};\n",
       "\n",
       "// A function to construct a web socket function for onmessage handling.\n",
       "// Called in the figure constructor.\n",
       "mpl.figure.prototype._make_on_message_function = function (fig) {\n",
       "    return function socket_on_message(evt) {\n",
       "        if (evt.data instanceof Blob) {\n",
       "            /* FIXME: We get \"Resource interpreted as Image but\n",
       "             * transferred with MIME type text/plain:\" errors on\n",
       "             * Chrome.  But how to set the MIME type?  It doesn't seem\n",
       "             * to be part of the websocket stream */\n",
       "            evt.data.type = 'image/png';\n",
       "\n",
       "            /* Free the memory for the previous frames */\n",
       "            if (fig.imageObj.src) {\n",
       "                (window.URL || window.webkitURL).revokeObjectURL(\n",
       "                    fig.imageObj.src\n",
       "                );\n",
       "            }\n",
       "\n",
       "            fig.imageObj.src = (window.URL || window.webkitURL).createObjectURL(\n",
       "                evt.data\n",
       "            );\n",
       "            fig.updated_canvas_event();\n",
       "            fig.waiting = false;\n",
       "            return;\n",
       "        } else if (\n",
       "            typeof evt.data === 'string' &&\n",
       "            evt.data.slice(0, 21) === 'data:image/png;base64'\n",
       "        ) {\n",
       "            fig.imageObj.src = evt.data;\n",
       "            fig.updated_canvas_event();\n",
       "            fig.waiting = false;\n",
       "            return;\n",
       "        }\n",
       "\n",
       "        var msg = JSON.parse(evt.data);\n",
       "        var msg_type = msg['type'];\n",
       "\n",
       "        // Call the  \"handle_{type}\" callback, which takes\n",
       "        // the figure and JSON message as its only arguments.\n",
       "        try {\n",
       "            var callback = fig['handle_' + msg_type];\n",
       "        } catch (e) {\n",
       "            console.log(\n",
       "                \"No handler for the '\" + msg_type + \"' message type: \",\n",
       "                msg\n",
       "            );\n",
       "            return;\n",
       "        }\n",
       "\n",
       "        if (callback) {\n",
       "            try {\n",
       "                // console.log(\"Handling '\" + msg_type + \"' message: \", msg);\n",
       "                callback(fig, msg);\n",
       "            } catch (e) {\n",
       "                console.log(\n",
       "                    \"Exception inside the 'handler_\" + msg_type + \"' callback:\",\n",
       "                    e,\n",
       "                    e.stack,\n",
       "                    msg\n",
       "                );\n",
       "            }\n",
       "        }\n",
       "    };\n",
       "};\n",
       "\n",
       "// from http://stackoverflow.com/questions/1114465/getting-mouse-location-in-canvas\n",
       "mpl.findpos = function (e) {\n",
       "    //this section is from http://www.quirksmode.org/js/events_properties.html\n",
       "    var targ;\n",
       "    if (!e) {\n",
       "        e = window.event;\n",
       "    }\n",
       "    if (e.target) {\n",
       "        targ = e.target;\n",
       "    } else if (e.srcElement) {\n",
       "        targ = e.srcElement;\n",
       "    }\n",
       "    if (targ.nodeType === 3) {\n",
       "        // defeat Safari bug\n",
       "        targ = targ.parentNode;\n",
       "    }\n",
       "\n",
       "    // pageX,Y are the mouse positions relative to the document\n",
       "    var boundingRect = targ.getBoundingClientRect();\n",
       "    var x = e.pageX - (boundingRect.left + document.body.scrollLeft);\n",
       "    var y = e.pageY - (boundingRect.top + document.body.scrollTop);\n",
       "\n",
       "    return { x: x, y: y };\n",
       "};\n",
       "\n",
       "/*\n",
       " * return a copy of an object with only non-object keys\n",
       " * we need this to avoid circular references\n",
       " * http://stackoverflow.com/a/24161582/3208463\n",
       " */\n",
       "function simpleKeys(original) {\n",
       "    return Object.keys(original).reduce(function (obj, key) {\n",
       "        if (typeof original[key] !== 'object') {\n",
       "            obj[key] = original[key];\n",
       "        }\n",
       "        return obj;\n",
       "    }, {});\n",
       "}\n",
       "\n",
       "mpl.figure.prototype.mouse_event = function (event, name) {\n",
       "    var canvas_pos = mpl.findpos(event);\n",
       "\n",
       "    if (name === 'button_press') {\n",
       "        this.canvas.focus();\n",
       "        this.canvas_div.focus();\n",
       "    }\n",
       "\n",
       "    var x = canvas_pos.x * mpl.ratio;\n",
       "    var y = canvas_pos.y * mpl.ratio;\n",
       "\n",
       "    this.send_message(name, {\n",
       "        x: x,\n",
       "        y: y,\n",
       "        button: event.button,\n",
       "        step: event.step,\n",
       "        guiEvent: simpleKeys(event),\n",
       "    });\n",
       "\n",
       "    /* This prevents the web browser from automatically changing to\n",
       "     * the text insertion cursor when the button is pressed.  We want\n",
       "     * to control all of the cursor setting manually through the\n",
       "     * 'cursor' event from matplotlib */\n",
       "    event.preventDefault();\n",
       "    return false;\n",
       "};\n",
       "\n",
       "mpl.figure.prototype._key_event_extra = function (_event, _name) {\n",
       "    // Handle any extra behaviour associated with a key event\n",
       "};\n",
       "\n",
       "mpl.figure.prototype.key_event = function (event, name) {\n",
       "    // Prevent repeat events\n",
       "    if (name === 'key_press') {\n",
       "        if (event.which === this._key) {\n",
       "            return;\n",
       "        } else {\n",
       "            this._key = event.which;\n",
       "        }\n",
       "    }\n",
       "    if (name === 'key_release') {\n",
       "        this._key = null;\n",
       "    }\n",
       "\n",
       "    var value = '';\n",
       "    if (event.ctrlKey && event.which !== 17) {\n",
       "        value += 'ctrl+';\n",
       "    }\n",
       "    if (event.altKey && event.which !== 18) {\n",
       "        value += 'alt+';\n",
       "    }\n",
       "    if (event.shiftKey && event.which !== 16) {\n",
       "        value += 'shift+';\n",
       "    }\n",
       "\n",
       "    value += 'k';\n",
       "    value += event.which.toString();\n",
       "\n",
       "    this._key_event_extra(event, name);\n",
       "\n",
       "    this.send_message(name, { key: value, guiEvent: simpleKeys(event) });\n",
       "    return false;\n",
       "};\n",
       "\n",
       "mpl.figure.prototype.toolbar_button_onclick = function (name) {\n",
       "    if (name === 'download') {\n",
       "        this.handle_save(this, null);\n",
       "    } else {\n",
       "        this.send_message('toolbar_button', { name: name });\n",
       "    }\n",
       "};\n",
       "\n",
       "mpl.figure.prototype.toolbar_button_onmouseover = function (tooltip) {\n",
       "    this.message.textContent = tooltip;\n",
       "};\n",
       "mpl.toolbar_items = [[\"Home\", \"Reset original view\", \"fa fa-home icon-home\", \"home\"], [\"Back\", \"Back to previous view\", \"fa fa-arrow-left icon-arrow-left\", \"back\"], [\"Forward\", \"Forward to next view\", \"fa fa-arrow-right icon-arrow-right\", \"forward\"], [\"\", \"\", \"\", \"\"], [\"Pan\", \"Left button pans, Right button zooms\\nx/y fixes axis, CTRL fixes aspect\", \"fa fa-arrows icon-move\", \"pan\"], [\"Zoom\", \"Zoom to rectangle\\nx/y fixes axis, CTRL fixes aspect\", \"fa fa-square-o icon-check-empty\", \"zoom\"], [\"\", \"\", \"\", \"\"], [\"Download\", \"Download plot\", \"fa fa-floppy-o icon-save\", \"download\"]];\n",
       "\n",
       "mpl.extensions = [\"eps\", \"jpeg\", \"pdf\", \"png\", \"ps\", \"raw\", \"svg\", \"tif\"];\n",
       "\n",
       "mpl.default_extension = \"png\";/* global mpl */\n",
       "\n",
       "var comm_websocket_adapter = function (comm) {\n",
       "    // Create a \"websocket\"-like object which calls the given IPython comm\n",
       "    // object with the appropriate methods. Currently this is a non binary\n",
       "    // socket, so there is still some room for performance tuning.\n",
       "    var ws = {};\n",
       "\n",
       "    ws.close = function () {\n",
       "        comm.close();\n",
       "    };\n",
       "    ws.send = function (m) {\n",
       "        //console.log('sending', m);\n",
       "        comm.send(m);\n",
       "    };\n",
       "    // Register the callback with on_msg.\n",
       "    comm.on_msg(function (msg) {\n",
       "        //console.log('receiving', msg['content']['data'], msg);\n",
       "        // Pass the mpl event to the overridden (by mpl) onmessage function.\n",
       "        ws.onmessage(msg['content']['data']);\n",
       "    });\n",
       "    return ws;\n",
       "};\n",
       "\n",
       "mpl.mpl_figure_comm = function (comm, msg) {\n",
       "    // This is the function which gets called when the mpl process\n",
       "    // starts-up an IPython Comm through the \"matplotlib\" channel.\n",
       "\n",
       "    var id = msg.content.data.id;\n",
       "    // Get hold of the div created by the display call when the Comm\n",
       "    // socket was opened in Python.\n",
       "    var element = document.getElementById(id);\n",
       "    var ws_proxy = comm_websocket_adapter(comm);\n",
       "\n",
       "    function ondownload(figure, _format) {\n",
       "        window.open(figure.canvas.toDataURL());\n",
       "    }\n",
       "\n",
       "    var fig = new mpl.figure(id, ws_proxy, ondownload, element);\n",
       "\n",
       "    // Call onopen now - mpl needs it, as it is assuming we've passed it a real\n",
       "    // web socket which is closed, not our websocket->open comm proxy.\n",
       "    ws_proxy.onopen();\n",
       "\n",
       "    fig.parent_element = element;\n",
       "    fig.cell_info = mpl.find_output_cell(\"<div id='\" + id + \"'></div>\");\n",
       "    if (!fig.cell_info) {\n",
       "        console.error('Failed to find cell for figure', id, fig);\n",
       "        return;\n",
       "    }\n",
       "};\n",
       "\n",
       "mpl.figure.prototype.handle_close = function (fig, msg) {\n",
       "    var width = fig.canvas.width / mpl.ratio;\n",
       "    fig.root.removeEventListener('remove', this._remove_fig_handler);\n",
       "\n",
       "    // Update the output cell to use the data from the current canvas.\n",
       "    fig.push_to_output();\n",
       "    var dataURL = fig.canvas.toDataURL();\n",
       "    // Re-enable the keyboard manager in IPython - without this line, in FF,\n",
       "    // the notebook keyboard shortcuts fail.\n",
       "    IPython.keyboard_manager.enable();\n",
       "    fig.parent_element.innerHTML =\n",
       "        '<img src=\"' + dataURL + '\" width=\"' + width + '\">';\n",
       "    fig.close_ws(fig, msg);\n",
       "};\n",
       "\n",
       "mpl.figure.prototype.close_ws = function (fig, msg) {\n",
       "    fig.send_message('closing', msg);\n",
       "    // fig.ws.close()\n",
       "};\n",
       "\n",
       "mpl.figure.prototype.push_to_output = function (_remove_interactive) {\n",
       "    // Turn the data on the canvas into data in the output cell.\n",
       "    var width = this.canvas.width / mpl.ratio;\n",
       "    var dataURL = this.canvas.toDataURL();\n",
       "    this.cell_info[1]['text/html'] =\n",
       "        '<img src=\"' + dataURL + '\" width=\"' + width + '\">';\n",
       "};\n",
       "\n",
       "mpl.figure.prototype.updated_canvas_event = function () {\n",
       "    // Tell IPython that the notebook contents must change.\n",
       "    IPython.notebook.set_dirty(true);\n",
       "    this.send_message('ack', {});\n",
       "    var fig = this;\n",
       "    // Wait a second, then push the new image to the DOM so\n",
       "    // that it is saved nicely (might be nice to debounce this).\n",
       "    setTimeout(function () {\n",
       "        fig.push_to_output();\n",
       "    }, 1000);\n",
       "};\n",
       "\n",
       "mpl.figure.prototype._init_toolbar = function () {\n",
       "    var fig = this;\n",
       "\n",
       "    var toolbar = document.createElement('div');\n",
       "    toolbar.classList = 'btn-toolbar';\n",
       "    this.root.appendChild(toolbar);\n",
       "\n",
       "    function on_click_closure(name) {\n",
       "        return function (_event) {\n",
       "            return fig.toolbar_button_onclick(name);\n",
       "        };\n",
       "    }\n",
       "\n",
       "    function on_mouseover_closure(tooltip) {\n",
       "        return function (event) {\n",
       "            if (!event.currentTarget.disabled) {\n",
       "                return fig.toolbar_button_onmouseover(tooltip);\n",
       "            }\n",
       "        };\n",
       "    }\n",
       "\n",
       "    fig.buttons = {};\n",
       "    var buttonGroup = document.createElement('div');\n",
       "    buttonGroup.classList = 'btn-group';\n",
       "    var button;\n",
       "    for (var toolbar_ind in mpl.toolbar_items) {\n",
       "        var name = mpl.toolbar_items[toolbar_ind][0];\n",
       "        var tooltip = mpl.toolbar_items[toolbar_ind][1];\n",
       "        var image = mpl.toolbar_items[toolbar_ind][2];\n",
       "        var method_name = mpl.toolbar_items[toolbar_ind][3];\n",
       "\n",
       "        if (!name) {\n",
       "            /* Instead of a spacer, we start a new button group. */\n",
       "            if (buttonGroup.hasChildNodes()) {\n",
       "                toolbar.appendChild(buttonGroup);\n",
       "            }\n",
       "            buttonGroup = document.createElement('div');\n",
       "            buttonGroup.classList = 'btn-group';\n",
       "            continue;\n",
       "        }\n",
       "\n",
       "        button = fig.buttons[name] = document.createElement('button');\n",
       "        button.classList = 'btn btn-default';\n",
       "        button.href = '#';\n",
       "        button.title = name;\n",
       "        button.innerHTML = '<i class=\"fa ' + image + ' fa-lg\"></i>';\n",
       "        button.addEventListener('click', on_click_closure(method_name));\n",
       "        button.addEventListener('mouseover', on_mouseover_closure(tooltip));\n",
       "        buttonGroup.appendChild(button);\n",
       "    }\n",
       "\n",
       "    if (buttonGroup.hasChildNodes()) {\n",
       "        toolbar.appendChild(buttonGroup);\n",
       "    }\n",
       "\n",
       "    // Add the status bar.\n",
       "    var status_bar = document.createElement('span');\n",
       "    status_bar.classList = 'mpl-message pull-right';\n",
       "    toolbar.appendChild(status_bar);\n",
       "    this.message = status_bar;\n",
       "\n",
       "    // Add the close button to the window.\n",
       "    var buttongrp = document.createElement('div');\n",
       "    buttongrp.classList = 'btn-group inline pull-right';\n",
       "    button = document.createElement('button');\n",
       "    button.classList = 'btn btn-mini btn-primary';\n",
       "    button.href = '#';\n",
       "    button.title = 'Stop Interaction';\n",
       "    button.innerHTML = '<i class=\"fa fa-power-off icon-remove icon-large\"></i>';\n",
       "    button.addEventListener('click', function (_evt) {\n",
       "        fig.handle_close(fig, {});\n",
       "    });\n",
       "    button.addEventListener(\n",
       "        'mouseover',\n",
       "        on_mouseover_closure('Stop Interaction')\n",
       "    );\n",
       "    buttongrp.appendChild(button);\n",
       "    var titlebar = this.root.querySelector('.ui-dialog-titlebar');\n",
       "    titlebar.insertBefore(buttongrp, titlebar.firstChild);\n",
       "};\n",
       "\n",
       "mpl.figure.prototype._remove_fig_handler = function () {\n",
       "    this.close_ws(this, {});\n",
       "};\n",
       "\n",
       "mpl.figure.prototype._root_extra_style = function (el) {\n",
       "    el.style.boxSizing = 'content-box'; // override notebook setting of border-box.\n",
       "    el.addEventListener('remove', this._remove_fig_handler);\n",
       "};\n",
       "\n",
       "mpl.figure.prototype._canvas_extra_style = function (el) {\n",
       "    // this is important to make the div 'focusable\n",
       "    el.setAttribute('tabindex', 0);\n",
       "    // reach out to IPython and tell the keyboard manager to turn it's self\n",
       "    // off when our div gets focus\n",
       "\n",
       "    // location in version 3\n",
       "    if (IPython.notebook.keyboard_manager) {\n",
       "        IPython.notebook.keyboard_manager.register_events(el);\n",
       "    } else {\n",
       "        // location in version 2\n",
       "        IPython.keyboard_manager.register_events(el);\n",
       "    }\n",
       "};\n",
       "\n",
       "mpl.figure.prototype._key_event_extra = function (event, _name) {\n",
       "    var manager = IPython.notebook.keyboard_manager;\n",
       "    if (!manager) {\n",
       "        manager = IPython.keyboard_manager;\n",
       "    }\n",
       "\n",
       "    // Check for shift+enter\n",
       "    if (event.shiftKey && event.which === 13) {\n",
       "        this.canvas_div.blur();\n",
       "        // select the cell after this one\n",
       "        var index = IPython.notebook.find_cell_index(this.cell_info[0]);\n",
       "        IPython.notebook.select(index + 1);\n",
       "    }\n",
       "};\n",
       "\n",
       "mpl.figure.prototype.handle_save = function (fig, _msg) {\n",
       "    fig.ondownload(fig, null);\n",
       "};\n",
       "\n",
       "mpl.find_output_cell = function (html_output) {\n",
       "    // Return the cell and output element which can be found *uniquely* in the notebook.\n",
       "    // Note - this is a bit hacky, but it is done because the \"notebook_saving.Notebook\"\n",
       "    // IPython event is triggered only after the cells have been serialised, which for\n",
       "    // our purposes (turning an active figure into a static one), is too late.\n",
       "    var cells = IPython.notebook.get_cells();\n",
       "    var ncells = cells.length;\n",
       "    for (var i = 0; i < ncells; i++) {\n",
       "        var cell = cells[i];\n",
       "        if (cell.cell_type === 'code') {\n",
       "            for (var j = 0; j < cell.output_area.outputs.length; j++) {\n",
       "                var data = cell.output_area.outputs[j];\n",
       "                if (data.data) {\n",
       "                    // IPython >= 3 moved mimebundle to data attribute of output\n",
       "                    data = data.data;\n",
       "                }\n",
       "                if (data['text/html'] === html_output) {\n",
       "                    return [cell, data, j];\n",
       "                }\n",
       "            }\n",
       "        }\n",
       "    }\n",
       "};\n",
       "\n",
       "// Register the function which deals with the matplotlib target/channel.\n",
       "// The kernel may be null if the page has been refreshed.\n",
       "if (IPython.notebook.kernel !== null) {\n",
       "    IPython.notebook.kernel.comm_manager.register_target(\n",
       "        'matplotlib',\n",
       "        mpl.mpl_figure_comm\n",
       "    );\n",
       "}\n"
      ],
      "text/plain": [
       "<IPython.core.display.Javascript object>"
      ]
     },
     "metadata": {},
     "output_type": "display_data"
    },
    {
     "data": {
      "text/html": [
       "<img src=\"data:image/png;base64,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\" width=\"640\">"
      ],
      "text/plain": [
       "<IPython.core.display.HTML object>"
      ]
     },
     "metadata": {},
     "output_type": "display_data"
    }
   ],
   "source": [
    "states = [['H_in']]\n",
    "end_date = '2020-07-01'\n",
    "data=[timeseries[start_date:end_ramp].values]\n",
    "\n",
    "fig,ax=plt.subplots()\n",
    "for i in range(200):\n",
    "    idx,model.parameters['beta'] = random.choice(list(enumerate(samples_dict['beta'])))\n",
    "    idx,model.parameters['l'] = random.choice(list(enumerate(samples_dict['l'])))\n",
    "    model.parameters['tau'] = samples_dict['tau'][idx]\n",
    "    prevention = samples_dict['prevention'][idx]\n",
    "    y_model = model.sim(time=end_date, excess_time=samples_dict['lag_time'], start_date=start_date)\n",
    "    ax = plot_fit(y_model,data,start_date,samples_dict['lag_time'],states,end_date=end_date,with_ints=False,ax=ax,plt_kwargs={'color':'blue','linewidth': 2,'alpha': 0.05})\n",
    "\n",
    "data_after_calib = timeseries[pd.to_datetime(end_ramp)+pd.to_timedelta('1d'):end_date]\n",
    "plt.scatter(data_after_calib.index, data_after_calib.values, marker='o',color='red',linestyle='None',facecolors='none')\n",
    "legend_text=['daily \\nhospitalizations']\n",
    "ax.set_xlim('2020-03-10', '2020-07-01')\n",
    "fig.savefig(fig_path+spatial_unit+'.pdf',\n",
    "            bbox_inches='tight', dpi=600)"
   ]
  },
  {
   "cell_type": "markdown",
   "metadata": {},
   "source": [
    "# Run simulation until first september"
   ]
  },
  {
   "cell_type": "code",
   "execution_count": null,
   "metadata": {
    "ExecuteTime": {
     "end_time": "2020-10-28T14:19:25.095944Z",
     "start_time": "2020-10-28T14:19:25.032094Z"
    }
   },
   "outputs": [],
   "source": [
    "# Load the dictionary containing the posterior parameter distributions obtained from calibrating the model to Belgian hospitalization data\n",
    "with open('../data/interim/model_parameters/provinces/Luik_wave1_1000steps_2020-10-28.json', 'r') as fp:\n",
    "    samples_dict_wave1 = json.load(fp)"
   ]
  },
  {
   "cell_type": "code",
   "execution_count": null,
   "metadata": {
    "ExecuteTime": {
     "end_time": "2020-10-28T14:20:57.927540Z",
     "start_time": "2020-10-28T14:20:57.753807Z"
    }
   },
   "outputs": [],
   "source": [
    "start_date = samples_dict_wave1['start_date']\n",
    "end_ramp = samples_dict_wave1['end_ramp']"
   ]
  },
  {
   "cell_type": "code",
   "execution_count": null,
   "metadata": {
    "ExecuteTime": {
     "end_time": "2020-10-28T14:23:09.282396Z",
     "start_time": "2020-10-28T14:23:09.075984Z"
    }
   },
   "outputs": [],
   "source": [
    "data=[timeseries[start_date:end_ramp].values]\n"
   ]
  },
  {
   "cell_type": "code",
   "execution_count": null,
   "metadata": {
    "ExecuteTime": {
     "end_time": "2020-10-28T14:21:54.231670Z",
     "start_time": "2020-10-28T14:21:50.128919Z"
    },
    "scrolled": false
   },
   "outputs": [],
   "source": [
    "states = [['H_in']]\n",
    "end_date = '2020-07-01'\n",
    "data=[timeseries[start_date:end_ramp].values]\n",
    "\n",
    "fig,ax=plt.subplots()\n",
    "for i in range(20):\n",
    "    idx,model.parameters['beta'] = random.choice(list(enumerate(samples_dict_wave1['beta'])))\n",
    "    idx,model.parameters['l'] = random.choice(list(enumerate(samples_dict_wave1['l'])))\n",
    "    model.parameters['tau'] = samples_dict_wave1['tau'][idx]\n",
    "    prevention = samples_dict_wave1['prevention'][idx]\n",
    "    y_model = model.sim(time=end_date, excess_time=samples_dict_wave1['lag_time'], start_date=start_date)\n",
    "    ax = plot_fit(y_model,data,start_date,samples_dict_wave1['lag_time'],states,end_date=end_date,with_ints=False,ax=ax,plt_kwargs={'color':'blue','linewidth': 2,'alpha': 0.05})\n",
    "\n",
    "data_after_calib = timeseries[pd.to_datetime(end_ramp)+pd.to_timedelta('1d'):end_date]\n",
    "plt.scatter(data_after_calib.index, data_after_calib.values, marker='o',color='red',linestyle='None',facecolors='none')\n",
    "legend_text=['daily \\nhospitalizations']\n",
    "ax.set_xlim('2020-03-10', end_date)\n",
    "# fig.savefig(fig_path+spatial_unit+'.pdf',\n",
    "#             bbox_inches='tight', dpi=600)"
   ]
  },
  {
   "cell_type": "code",
   "execution_count": null,
   "metadata": {
    "ExecuteTime": {
     "end_time": "2020-10-28T14:12:31.552912Z",
     "start_time": "2020-10-28T14:12:07.257114Z"
    }
   },
   "outputs": [],
   "source": [
    "out_sept = model.sim(time='2020-09-01', excess_time=samples_dict_wave1['lag_time'],start_date='2020-03-15',\n",
    "                   N=100, draw_fcn=draw_sample_COVID19_SEIRD,samples=samples_dict_wave1)\n"
   ]
  },
  {
   "cell_type": "code",
   "execution_count": null,
   "metadata": {
    "ExecuteTime": {
     "end_time": "2020-10-28T14:12:06.547212Z",
     "start_time": "2020-10-28T14:12:06.483495Z"
    }
   },
   "outputs": [],
   "source": [
    "# Load the dictionary containing the posterior parameter distributions obtained from calibrating the model to Belgian hospitalization data\n",
    "with open('../data/interim/model_parameters/provinces/Luik_wave1_1000steps_2020-10-28.json', 'r') as fp:\n",
    "    samples_dict_wave1 = json.load(fp)"
   ]
  },
  {
   "cell_type": "code",
   "execution_count": null,
   "metadata": {
    "ExecuteTime": {
     "end_time": "2020-10-28T14:12:48.448930Z",
     "start_time": "2020-10-28T14:12:48.392820Z"
    }
   },
   "outputs": [],
   "source": [
    "states = out_sept.isel(time=-1).mean(dim=\"draws\")"
   ]
  },
  {
   "cell_type": "code",
   "execution_count": null,
   "metadata": {
    "ExecuteTime": {
     "end_time": "2020-10-28T14:12:48.766517Z",
     "start_time": "2020-10-28T14:12:48.725947Z"
    },
    "scrolled": true
   },
   "outputs": [],
   "source": [
    "initial_states_sept = {key:states[key].values for key in initial_states.keys()}\n",
    "    "
   ]
  },
  {
   "cell_type": "code",
   "execution_count": null,
   "metadata": {
    "ExecuteTime": {
     "end_time": "2020-10-28T14:12:58.020102Z",
     "start_time": "2020-10-28T14:12:57.975140Z"
    }
   },
   "outputs": [],
   "source": [
    "initial_states_sept"
   ]
  },
  {
   "cell_type": "markdown",
   "metadata": {},
   "source": [
    "# Calibration on second wave"
   ]
  },
  {
   "cell_type": "code",
   "execution_count": null,
   "metadata": {
    "ExecuteTime": {
     "end_time": "2020-10-28T08:37:43.467864Z",
     "start_time": "2020-10-28T08:37:43.428922Z"
    }
   },
   "outputs": [],
   "source": [
    "# Second wave\n",
    "start_date = '2020-09-01'\n",
    "end_beta = '2020-10-25'"
   ]
  },
  {
   "cell_type": "code",
   "execution_count": null,
   "metadata": {
    "ExecuteTime": {
     "end_time": "2020-10-28T07:36:01.739618Z",
     "start_time": "2020-10-28T07:36:01.688389Z"
    }
   },
   "outputs": [],
   "source": [
    "len(Luik_ts.loc[start_date:end_beta])"
   ]
  },
  {
   "cell_type": "code",
   "execution_count": null,
   "metadata": {},
   "outputs": [],
   "source": [
    "# Load the parameters using `get_COVID19_SEIRD_parameters()`.\n",
    "params = model_parameters.get_COVID19_SEIRD_parameters()\n",
    "model_sept = models.COVID19_SEIRD(initial_states_sept, params)"
   ]
  },
  {
   "cell_type": "code",
   "execution_count": null,
   "metadata": {
    "ExecuteTime": {
     "end_time": "2020-10-28T07:36:04.501354Z",
     "start_time": "2020-10-28T07:36:04.462551Z"
    }
   },
   "outputs": [],
   "source": [
    "# function parameters \n",
    "timeseries = Luik_ts['NEW_IN']\n",
    "spatial_unit = 'Luik_wave2_1000steps'\n",
    "# maxiter=100\n",
    "# popsize=200\n",
    "# steps_mcmc=10000\n"
   ]
  },
  {
   "cell_type": "code",
   "execution_count": null,
   "metadata": {
    "ExecuteTime": {
     "end_time": "2020-10-28T07:45:25.103935Z",
     "start_time": "2020-10-28T07:36:32.482511Z"
    }
   },
   "outputs": [],
   "source": [
    "samples_dict = full_calibration(model_sept, timeseries, spatial_unit, start_date, end_beta, end_ramp=None, \n",
    "                            fig_path=fig_path, samples_path=samples_path,\n",
    "                            maxiter=100, popsize=100, steps_mcmc=1000)\n",
    "\n"
   ]
  },
  {
   "cell_type": "code",
   "execution_count": null,
   "metadata": {
    "ExecuteTime": {
     "end_time": "2020-10-28T07:56:48.653468Z",
     "start_time": "2020-10-28T07:56:41.505287Z"
    },
    "scrolled": false
   },
   "outputs": [],
   "source": [
    "states = [['H_in']]\n",
    "end_date = '2021-01-01' #end_beta\n",
    "data=[timeseries[start_date:end_beta].values]\n",
    "\n",
    "fig,ax=plt.subplots()\n",
    "for i in range(20):\n",
    "    idx,model.parameters['beta'] = random.choice(list(enumerate(samples_dict['beta'])))\n",
    "#     idx,model.parameters['l'] = random.choice(list(enumerate(samples_dict['l'])))\n",
    "#     model.parameters['tau'] = samples_dict['tau'][idx]\n",
    "#     prevention = samples_dict['prevention'][idx]\n",
    "    y_model = model.sim(time=end_date, excess_time=samples_dict['lag_time'], start_date=start_date)\n",
    "    ax = plot_fit(y_model,data,start_date,samples_dict['lag_time'],states,end_date=end_date,with_ints=False,ax=ax,plt_kwargs={'color':'blue','linewidth': 2,'alpha': 0.05})\n",
    "\n",
    "#data_after_calib = timeseries[pd.to_datetime(end_ramp)+pd.to_timedelta('1d'):end_date]\n",
    "#plt.scatter(data_after_calib.index, data_after_calib.values, marker='o',color='red',linestyle='None',facecolors='none')\n",
    "legend_text=['daily \\nhospitalizations']\n",
    "ax.set_xlim('2020-09-01', '2021-01-01')\n",
    "fig.savefig(fig_path+spatial_unit+'.pdf',\n",
    "            bbox_inches='tight', dpi=600)"
   ]
  },
  {
   "cell_type": "code",
   "execution_count": null,
   "metadata": {},
   "outputs": [],
   "source": []
  },
  {
   "cell_type": "markdown",
   "metadata": {},
   "source": [
    "# Check step-by-step for debugging if needed"
   ]
  },
  {
   "cell_type": "code",
   "execution_count": null,
   "metadata": {
    "ExecuteTime": {
     "end_time": "2020-10-26T13:20:44.879887Z",
     "start_time": "2020-10-26T13:20:44.828391Z"
    }
   },
   "outputs": [],
   "source": [
    "# define dataset\n",
    "data=Luik_ts['NEW_IN']\n",
    "states = [[\"H_in\"]]"
   ]
  },
  {
   "cell_type": "code",
   "execution_count": null,
   "metadata": {
    "ExecuteTime": {
     "end_time": "2020-10-26T13:12:53.545700Z",
     "start_time": "2020-10-26T13:12:51.117077Z"
    }
   },
   "outputs": [],
   "source": [
    "\n",
    "#############################################\n",
    "####### CALIBRATING BETA AND LAG_TIME #######\n",
    "#############################################\n",
    "\n",
    "# set optimisation settings\n",
    "parNames_pso = ['sigma_data','extraTime','beta'] # must be a list!\n",
    "bounds_pso=((1,100),(30,60),(0.02,0.06)) # must be a list!\n",
    "# run pso optimisation\n",
    "theta = MCMC.fit_pso(model,data,parNames_pso,states,bounds_pso,maxiter=maxiter,popsize=popsize)\n",
    "\n",
    "lag_time = int(round(theta[1]))\n",
    "# Assign 'extraTime' or lag_time as a model attribute --> is needed to perform the optimalization\n",
    "model.extraTime = int(round(theta[1]))\n",
    "\n",
    "model.parameters.update({'beta': theta[2]})\n",
    "\n",
    "parNames_mcmc = ['sigma_data','beta'] # must be a list!\n",
    "bounds_mcmc=((1,200),(0.01,0.10))"
   ]
  },
  {
   "cell_type": "code",
   "execution_count": null,
   "metadata": {},
   "outputs": [],
   "source": [
    "\n",
    "\n",
    "# run MCMC calibration\n",
    "pos = [theta[0],theta[2]] + [1, 1e-2 ]* np.random.randn(4, 2)\n",
    "nwalkers, ndim = pos.shape\n",
    "sampler = emcee.EnsembleSampler(nwalkers, ndim, objective_fcns.log_probability,\n",
    "                                args=(model, bounds_mcmc, data, states, parNames_mcmc))\n",
    "sampler.run_mcmc(pos, steps_mcmc, progress=True);\n",
    "\n",
    "samples_beta = sampler.get_chain(discard=500,flat=False)\n",
    "flat_samples_beta = sampler.get_chain(discard=500,flat=True)\n",
    "\n",
    "try:\n",
    "    sampler.get_autocorr_time()\n",
    "except:\n",
    "    print('Calibrating beta. Warning: The chain is shorter than 50 times the integrated autocorrelation time for 4 parameter(s). Use this estimate with caution and run a longer chain!')\n",
    "\n",
    "\n",
    "traceplot(samples_beta,labels=['$\\sigma_{data}$','$\\\\beta$'],plt_kwargs={'linewidth':2,'color': 'red','alpha': 0.15})\n",
    "plt.savefig(fig_path+'traceplots/beta_'+str(spatial_unit)+'_'+str(datetime.date.today())+'.pdf',\n",
    "            dpi=600, bbox_inches='tight')\n",
    "\n",
    "fig = corner.corner(flat_samples_beta,labels=['$\\sigma_{data}$','$\\\\beta$'])\n",
    "fig.set_size_inches(8, 8)\n",
    "plt.savefig(fig_path+'cornerplots/beta_'+str(spatial_unit)+'_'+str(datetime.date.today())+'.pdf',\n",
    "            dpi=600, bbox_inches='tight')"
   ]
  },
  {
   "cell_type": "code",
   "execution_count": null,
   "metadata": {},
   "outputs": [],
   "source": [
    "#############################################\n",
    "####### CALIBRATING COMPLIANCE PARAMS #######\n",
    "#############################################\n",
    "\n",
    "samples_beta = {'beta': flat_samples_beta[:,1].tolist()}\n",
    "\n",
    "# Create checkpoints dictionary\n",
    "chk_beta_pso = {\n",
    "    'time':  [lag_time],\n",
    "    'Nc':    [0.2*Nc_home + 0.3*Nc_work + 0.2*Nc_transport],\n",
    "}\n",
    "# define dataset\n",
    "data=[timeseries[start_date:end_ramp]]\n",
    "# set optimisation settings\n",
    "parNames_pso2 = ['sigma_data','l','tau','prevention'] # must be a list!\n",
    "bounds_pso2=((1,100),(0.1,20),(0,20),(0,1)) # must be a list!\n",
    "# run optimisation\n",
    "theta = MCMC.fit_pso(model, data, parNames_pso2, states, bounds_pso2,\n",
    "                     checkpoints=chk_beta_pso, samples=samples_beta, maxiter=maxiter,popsize=popsize)\n",
    "\n",
    "model.parameters.update({'l': theta[1], 'tau': theta[2]})\n",
    "prevention = theta[2]\n",
    "\n",
    "# Create checkpoints dictionary\n",
    "chk_beta_MCMC = {\n",
    "    'time':  [lag_time],\n",
    "    'Nc':    [prevention*(1.0*Nc_home + 0.4*Nc_work + 0.3*Nc_transport + 0.7*Nc_others + 0.2*Nc_leisure)]}\n",
    "\n",
    "\n",
    "bounds_mcmc2=((1,100),(0.001,20),(0,20),(0,1)) # must be a list!\n",
    "pos = theta + [1, 0.1, 0.1, 0.1 ]* np.random.randn(8, 4)\n",
    "nwalkers, ndim = pos.shape\n",
    "sampler = emcee.EnsembleSampler(nwalkers, ndim, objective_fcns.log_probability,\n",
    "                                args=(model,bounds_mcmc2,data,states,parNames_pso2,chk_beta_MCMC,samples_beta))\n",
    "\n",
    "sampler.run_mcmc(pos, steps_mcmc, progress=True);\n",
    "\n",
    "try:\n",
    "    sampler.get_autocorr_time()\n",
    "except:\n",
    "    print('Calibrating compliance ramp. Warning: The chain is shorter than 50 times the integrated autocorrelation time for 4 parameter(s). Use this estimate with caution and run a longer chain!')\n",
    "\n",
    "\n",
    "samples_ramp = sampler.get_chain(discard=200,flat=False)\n",
    "flat_samples_ramp = sampler.get_chain(discard=200,flat=True)\n",
    "\n",
    "traceplot(samples_ramp, labels=[\"$\\sigma_{data}$\",\"l\",\"$\\\\tau$\",\"prevention\"],\n",
    "          plt_kwargs={'linewidth':2,'color': 'red','alpha': 0.15})\n",
    "plt.savefig(fig_path+'traceplots/ramp_'+str(spatial_unit)+'_'+str(datetime.date.today())+'.pdf',\n",
    "            dpi=600, bbox_inches='tight')\n",
    "\n",
    "fig = corner.corner(flat_samples_ramp, labels=[\"$\\sigma_{data}$\",\"l\",\"$\\\\tau$\",\"$\\Omega$\"])\n",
    "fig.set_size_inches(9, 9)\n",
    "plt.savefig(fig_path+'cornerplots/ramp_'+str(spatial_unit)+'_'+str(datetime.date.today())+'.pdf',\n",
    "            dpi=600, bbox_inches='tight')\n",
    "\n",
    "#############################################\n",
    "####### CALCULATING R0 ######################\n",
    "#############################################\n",
    "\n",
    "R0 =[]\n",
    "for i in range(len(samples_beta['beta'])):\n",
    "    R0.append(sum((model.parameters['a']*model.parameters['da']+model.parameters['omega'])*samples_beta['beta'][i]*model.parameters['s']*np.sum(Nc_total,axis=1)*(initN/sum(initN))))\n",
    "R0_stratified = np.zeros([initN.size,len(samples_beta['beta'])])\n",
    "for i in range(len(samples_beta['beta'])):\n",
    "    R0_stratified[:,i]= (model.parameters['a']*model.parameters['da']+model.parameters['omega'])*samples_beta['beta'][i]*model.parameters['s']*np.sum(Nc_total,axis=1)\n",
    "R0_stratified_dict = pd.DataFrame(R0_stratified).T.to_dict(orient='list')\n",
    "\n",
    "samples_dict={'calibration_data':states[0][0], 'start_date':start_date,\n",
    "              'end_beta':end_beta, 'end_ramp':end_ramp,\n",
    "              'maxiter': maxiter, 'popsize':popsize, 'steps_mcmc':steps_mcmc,\n",
    "              'R0':R0, 'R0_stratified_dict':R0_stratified_dict,\n",
    "              'lag_time': lag_time, 'beta': samples_beta['beta'],\n",
    "              'l': flat_samples_ramp[:,1].tolist(),'tau':flat_samples_ramp[:,2].tolist(),\n",
    "              'prevention':flat_samples_ramp[:,3].tolist()}\n",
    "\n",
    "with open(samples_path+str(spatial_unit)+'_'+str(datetime.date.today())+'.json', 'w') as fp:\n",
    "    json.dump(samples_dict, fp)\n",
    "\n"
   ]
  },
  {
   "cell_type": "markdown",
   "metadata": {},
   "source": [
    "# Run in parallel"
   ]
  },
  {
   "cell_type": "code",
   "execution_count": null,
   "metadata": {
    "ExecuteTime": {
     "end_time": "2020-09-08T06:47:28.719315Z",
     "start_time": "2020-09-08T06:47:28.681105Z"
    }
   },
   "outputs": [],
   "source": [
    "arr_list = list(nonpublic_ts.NIS.unique())"
   ]
  },
  {
   "cell_type": "code",
   "execution_count": null,
   "metadata": {
    "ExecuteTime": {
     "end_time": "2020-09-08T06:47:28.972641Z",
     "start_time": "2020-09-08T06:47:28.922951Z"
    }
   },
   "outputs": [],
   "source": [
    "def run_me_parallel(arr):\n",
    "    arrond_ts = nonpublic_ts.pivot(index='DATE', columns='NIS', values='hospitalised_IN')[arr]\n",
    "    samples_dict = full_calibration(model, arrond_ts, arr, start_date, end_beta, end_ramp, \n",
    "                                fig_path, samples_path)\n",
    "                                #maxiter=10, popsize=10, steps_mcmc=250)\n",
    "    \n",
    "    states = [['H_in']]\n",
    "    end_date = '2020-09-20'\n",
    "    data=[arrond_ts[start_date:end_ramp].values]\n",
    "    fig,ax=plt.subplots()\n",
    "    for i in range(200):\n",
    "        idx,model.parameters['beta'] = random.choice(list(enumerate(samples_dict['beta'])))\n",
    "        idx,model.parameters['l'] = random.choice(list(enumerate(samples_dict['l'])))\n",
    "        model.parameters['tau'] = samples_dict['tau'][idx]\n",
    "        prevention = samples_dict['prevention'][idx]\n",
    "        # Create a dictionary of past policies\n",
    "        chk = {'time':   [start_date], \n",
    "              'Nc':      [prevention*(Nc_home + 0.4*Nc_work + 0.3*Nc_transport + 0.7*Nc_others + 0.2*Nc_leisure)]\n",
    "              }\n",
    "        y_model = model.sim(time=end_date, excess_time=samples_dict['lag_time'],checkpoints=chk)\n",
    "        ax = plot_fit(y_model,data,start_date,samples_dict['lag_time'],states,end_date=end_date,with_ints=False,ax=ax,plt_kwargs={'color':'blue','linewidth': 2,'alpha': 0.05})\n",
    "\n",
    "    data_after_calib = arrond_ts[pd.to_datetime(end_ramp)+pd.to_timedelta('1d'):end_date]\n",
    "    plt.scatter(data_after_calib.index, data_after_calib.values, marker='o',color='red',linestyle='None',facecolors='none')\n",
    "    legend_text=['daily \\nhospitalizations']\n",
    "    ax.set_xlim('2020-03-10', '2020-08-03')\n",
    "    fig.savefig('../results/calibrations_arrondissements/'+str(arr)+'_'+str(datetime.date.today())+'.pdf',\n",
    "                bbox_inches='tight', dpi=600)\n",
    "    return"
   ]
  },
  {
   "cell_type": "code",
   "execution_count": null,
   "metadata": {
    "ExecuteTime": {
     "end_time": "2020-08-21T21:22:05.230236Z",
     "start_time": "2020-08-21T21:22:05.183627Z"
    }
   },
   "outputs": [],
   "source": [
    "tasks = []\n",
    "for arr in arr_list:\n",
    "    task = dask.delayed(run_me_parallel)(arr)\n",
    "    tasks.append(task)\n",
    "    "
   ]
  },
  {
   "cell_type": "code",
   "execution_count": null,
   "metadata": {
    "ExecuteTime": {
     "end_time": "2020-08-22T04:06:54.088203Z",
     "start_time": "2020-08-21T21:22:20.296014Z"
    }
   },
   "outputs": [],
   "source": [
    "dask.compute(*tasks, scheduler='processes')"
   ]
  },
  {
   "cell_type": "code",
   "execution_count": null,
   "metadata": {
    "ExecuteTime": {
     "end_time": "2020-08-27T15:37:21.955310Z",
     "start_time": "2020-08-27T15:37:21.911174Z"
    }
   },
   "outputs": [],
   "source": [
    "run_date = '2020-08-22'"
   ]
  },
  {
   "cell_type": "code",
   "execution_count": null,
   "metadata": {
    "ExecuteTime": {
     "end_time": "2020-08-27T15:37:22.598066Z",
     "start_time": "2020-08-27T15:37:22.246770Z"
    }
   },
   "outputs": [],
   "source": [
    "with open(samples_path+'44000'+'_'+run_date+'.json', 'r') as fp:\n",
    "    samples_dict = json.load(fp)"
   ]
  },
  {
   "cell_type": "markdown",
   "metadata": {},
   "source": []
  }
 ],
 "metadata": {
  "kernelspec": {
   "display_name": "COVID19",
   "language": "python",
   "name": "python3"
  },
  "language_info": {
   "codemirror_mode": {
    "name": "ipython",
    "version": 3
   },
   "file_extension": ".py",
   "mimetype": "text/x-python",
   "name": "python",
   "nbconvert_exporter": "python",
   "pygments_lexer": "ipython3",
   "version": "3.7.7"
  },
  "toc": {
   "base_numbering": 1,
   "nav_menu": {},
   "number_sections": true,
   "sideBar": true,
   "skip_h1_title": false,
   "title_cell": "Table of Contents",
   "title_sidebar": "Contents",
   "toc_cell": false,
   "toc_position": {
    "height": "calc(100% - 180px)",
    "left": "10px",
    "top": "150px",
    "width": "288px"
   },
   "toc_section_display": true,
   "toc_window_display": true
  }
 },
 "nbformat": 4,
 "nbformat_minor": 4
}
