{
 "cells": [
  {
   "cell_type": "code",
   "execution_count": 1,
   "metadata": {},
   "outputs": [],
   "source": [
    "import numpy as np\n",
    "import pandas as pd\n",
    "from scipy.integrate import solve_ivp\n",
    "import matplotlib.pyplot as plt\n",
    "\n",
    "import itertools"
   ]
  },
  {
   "cell_type": "markdown",
   "metadata": {},
   "source": [
    "## With stratification"
   ]
  },
  {
   "cell_type": "markdown",
   "metadata": {},
   "source": [
    "Population is divided into groups (e.g. age groups), optionally with group-dependent parameters (in the example `beta` is stratified) and with interaction among them, defined by `nc`."
   ]
  },
  {
   "cell_type": "markdown",
   "metadata": {},
   "source": [
    "### As simple and scipy-close as possible"
   ]
  },
  {
   "cell_type": "code",
   "execution_count": 2,
   "metadata": {},
   "outputs": [],
   "source": [
    "def integrate(t, y, parameters, nc):\n",
    "    \"\"\"Basic SIR model with interaction nc\"\"\"\n",
    "    \n",
    "    # unpacking need to be done explicitly\n",
    "    S, I, R = y.reshape(3, 2)\n",
    "    beta, gamma = parameters\n",
    "    \n",
    "    # Model equations\n",
    "    N = S + I + R\n",
    "    dS = nc @ (-beta*S*I/N)\n",
    "    dI = nc @ (beta*S*I/N) - gamma*I\n",
    "    dR = gamma*I\n",
    "\n",
    "    return np.array([dS, dI, dR]).flatten()\n",
    "\n",
    "# ... time, parameters and initial conditions\n",
    "time = [0, 150]\n",
    "parameters = {\"beta\": np.array([0.5, 0.4]), \"gamma\": 0.3}  # same order as definition\n",
    "initial_states = {\"S\": [440000, 350000], \"I\": [20, 10], \"R\": [0, 0]} # same order as definition\n",
    "nc = np.array([[0.9, 0.2], [0.8, 0.1]])\n",
    "\n",
    "#  -> runs model with scipy directly.\n",
    "output_ = solve_ivp(integrate, time, \n",
    "                   list(itertools.chain(*initial_states.values())), \n",
    "                   args=(list(parameters.values()), nc))"
   ]
  },
  {
   "cell_type": "code",
   "execution_count": 3,
   "metadata": {},
   "outputs": [
    {
     "data": {
      "text/plain": [
       "<matplotlib.legend.Legend at 0x7f1919bce490>"
      ]
     },
     "execution_count": 3,
     "metadata": {},
     "output_type": "execute_result"
    },
    {
     "data": {
      "image/png": "[encoded data removed]",
      "text/plain": [
       "<Figure size 432x288 with 1 Axes>"
      ]
     },
     "metadata": {
      "needs_background": "light"
     },
     "output_type": "display_data"
    }
   ],
   "source": [
    "S1, S2, I1, I2, R1, R2 = output_[\"y\"]\n",
    "plt.plot(output_[\"t\"], S1, label=\"S1\")\n",
    "plt.plot(output_[\"t\"], S2, label=\"S2\")\n",
    "plt.plot(output_[\"t\"], I1, label=\"I1\")\n",
    "plt.plot(output_[\"t\"], I2, label=\"I2\")\n",
    "plt.plot(output_[\"t\"], R1, label=\"R1\")\n",
    "plt.plot(output_[\"t\"], R2, label=\"R2\")\n",
    "plt.legend()"
   ]
  },
  {
   "cell_type": "markdown",
   "metadata": {},
   "source": [
    "### Abstract away the boilerplate in Base class and define a new model as subclass "
   ]
  },
  {
   "cell_type": "code",
   "execution_count": 4,
   "metadata": {},
   "outputs": [],
   "source": [
    "class BaseModel:\n",
    "    \n",
    "    state_names = None\n",
    "    parameter_names = None\n",
    "    parameters_stratified_names = None \n",
    "    stratification = None\n",
    "   \n",
    "    def __init__(self, states, parameters):\n",
    "        \"\"\"\"\"\"\n",
    "        self.parameters = parameters\n",
    "        self.initial_states = states\n",
    "        \n",
    "        if self.stratification:\n",
    "            self.stratification_size = parameters[self.stratification].shape[0]\n",
    "        else:\n",
    "            self.stratification_size = 1\n",
    "\n",
    "    def integrate(self):\n",
    "        \"\"\"to overwrite in subclasses\"\"\"\n",
    "        raise NotImplementedError        \n",
    "        \n",
    "    def create_fun(self):\n",
    "        \"\"\"Convert integrate statement to scipy-compatible function\"\"\"\n",
    "\n",
    "        def func(t, y, *pars):\n",
    "            \"\"\"As used by scipy -> flattend in, flattend out\"\"\"\n",
    "            \n",
    "            # for the moment assume sequence of parameters, vars,... is correct\n",
    "            y_reshaped = y.reshape((len(self.state_names), self.stratification_size)) \n",
    "            dstates = self.integrate(t, *y_reshaped, *pars) \n",
    "            return np.array(dstates).flatten()\n",
    "\n",
    "        return func\n",
    "    \n",
    "    def sim(self, time):\n",
    "        \"\"\"\"\"\"        \n",
    "        fun = self.create_fun()\n",
    "        output = solve_ivp(fun, time, \n",
    "                           list(itertools.chain(*self.initial_states.values())), \n",
    "                           args=list(self.parameters.values()))\n",
    "        return output[\"t\"], self.array_to_variables(output[\"y\"]) # map back to variable names\n",
    "            \n",
    "    def array_to_variables(self, y):\n",
    "        \"\"\"Convert array (used by scipy) to dictionary (used by model API)\"\"\"\n",
    "        return dict(zip(self.state_names, y.reshape(len(self.state_names), \n",
    "                                                    self.stratification_size, -1)))"
   ]
  },
  {
   "cell_type": "code",
   "execution_count": 5,
   "metadata": {},
   "outputs": [],
   "source": [
    "# User (model developer) specifies...\n",
    "\n",
    "# ... a model subclass\n",
    "class SIR_S(BaseModel):\n",
    "\n",
    "    # ...state variables and parameters\n",
    "    state_names = ['S', 'I', 'R']\n",
    "    parameter_names = ['gamma']\n",
    "    parameters_stratified_names = ['beta']  \n",
    "    stratification = 'nc'\n",
    "    \n",
    "    # ..transitions/equations\n",
    "    @staticmethod\n",
    "    def integrate(t, S, I, R, gamma, beta, nc):  \n",
    "        \"\"\"Basic SIR model\"\"\"\n",
    "\n",
    "        # Model equations\n",
    "        N = S + I + R\n",
    "        dS = nc @ (-beta*S*I/N)\n",
    "        dI = nc @ (beta*S*I/N) - gamma*I\n",
    "        dR = gamma*I\n",
    "        \n",
    "        return dS, dI, dR"
   ]
  },
  {
   "cell_type": "code",
   "execution_count": 6,
   "metadata": {},
   "outputs": [],
   "source": [
    "# Model user defines...\n",
    "\n",
    "# ... parameters and initial conditions\n",
    "nc = np.array([[0.9, 0.2], [0.8, 0.1]])  \n",
    "parameters = {\"gamma\": 0.3, \"beta\": np.array([0.5, 0.4]), \"nc\": nc}  \n",
    "initial_states = {\"S\": [440000, 350000], \"I\": [20, 10], \"R\": [0, 0]}\n",
    "\n",
    "# -> user initiates the model\n",
    "sir_model = SIR_S(initial_states, parameters)\n",
    "\n",
    "# -> user runs a simulation for a defined time period\n",
    "time = [0, 150]\n",
    "t, output = sir_model.sim(time)\n",
    "\n",
    "# -> user can do fit, mc,... using the model class instance `sir_model`"
   ]
  },
  {
   "cell_type": "code",
   "execution_count": 7,
   "metadata": {},
   "outputs": [
    {
     "data": {
      "text/plain": [
       "<matplotlib.legend.Legend at 0x7f1919aebb50>"
      ]
     },
     "execution_count": 7,
     "metadata": {},
     "output_type": "execute_result"
    },
    {
     "data": {
      "image/png": "[encoded data removed]",
      "text/plain": [
       "<Figure size 432x288 with 1 Axes>"
      ]
     },
     "metadata": {
      "needs_background": "light"
     },
     "output_type": "display_data"
    }
   ],
   "source": [
    "plt.plot(t, output[\"S\"][0,:], label=\"S1\")\n",
    "plt.plot(t, output[\"S\"][1,:], label=\"S2\")\n",
    "plt.plot(t, output[\"I\"][0,:], label=\"I1\")\n",
    "plt.plot(t, output[\"I\"][1,:], label=\"I2\")\n",
    "plt.plot(t, output[\"R\"][0,:], label=\"R1\")\n",
    "plt.plot(t, output[\"R\"][1,:], label=\"R2\")\n",
    "plt.legend()"
   ]
  },
  {
   "cell_type": "markdown",
   "metadata": {},
   "source": [
    "#### Model developer not interested in supporting stratified...\n",
    "\n",
    "But using the same `BaseModel`"
   ]
  },
  {
   "cell_type": "code",
   "execution_count": 8,
   "metadata": {},
   "outputs": [],
   "source": [
    "# User (model developer) specifies...\n",
    "\n",
    "# ... state transitions in a subclass\n",
    "class SIR(BaseModel):\n",
    "\n",
    "    # state variables and parameters\n",
    "    state_names = ['S', 'I', 'R']\n",
    "    parameter_names = ['beta', 'gamma']\n",
    "    \n",
    "    @staticmethod\n",
    "    def integrate(t, S, I, R, beta, gamma):  # All variables and parameters... will be long list or arguments(!)\n",
    "        \"\"\"Basic SIR model\"\"\"\n",
    "        N = S + I + R\n",
    "        dS = -beta*S*I/N\n",
    "        dI = beta*S*I/N - gamma*I\n",
    "        dR = gamma*I\n",
    "        \n",
    "        return dS, dI, dR\n",
    "\n",
    "# ... parameters and initial conditions\n",
    "parameters = {\"beta\": 0.5, \"gamma\": 0.3}\n",
    "initial_states = {\"S\": [7900000], \"I\": [10], \"R\": [0]} # states as array|list\n",
    "\n",
    "# -> user initiates the model\n",
    "sir_model = SIR(initial_states, parameters)\n",
    "\n",
    "# -> user runs a simulation for a defined time period\n",
    "time = [0, 150]\n",
    "t, output = sir_model.sim(time)\n",
    "\n",
    "# -> user can do fit, mc,... using the model class instance `sir_model`"
   ]
  },
  {
   "cell_type": "code",
   "execution_count": 9,
   "metadata": {},
   "outputs": [
    {
     "data": {
      "text/plain": [
       "[<matplotlib.lines.Line2D at 0x7f19199ca610>]"
      ]
     },
     "execution_count": 9,
     "metadata": {},
     "output_type": "execute_result"
    },
    {
     "data": {
      "image/png": "[encoded data removed]",
      "text/plain": [
       "<Figure size 432x288 with 1 Axes>"
      ]
     },
     "metadata": {
      "needs_background": "light"
     },
     "output_type": "display_data"
    }
   ],
   "source": [
    "fig, ax = plt.subplots()\n",
    "ax.plot(t, output[\"S\"].flatten())\n",
    "ax.plot(t, output[\"I\"].flatten())\n",
    "ax.plot(t, output[\"R\"].flatten())"
   ]
  },
  {
   "cell_type": "markdown",
   "metadata": {},
   "source": [
    "## Age based SEIRS"
   ]
  },
  {
   "cell_type": "code",
   "execution_count": 10,
   "metadata": {},
   "outputs": [],
   "source": [
    "class SEIRSAge(BaseModel):\n",
    "\n",
    "    # ...state variables and parameters\n",
    "    state_names = ['S', 'E', 'I', 'A', 'M', 'C', 'Cmirec', 'Cicurec', 'Mi', \n",
    "                   'ICU', 'R', 'D', 'SQ', 'EQ', 'IQ', 'AQ', 'MQ', 'RQ']\n",
    "    parameter_names = ['beta', 'sigma', 'omega', 'zeta', 'a', 'm', 'da', 'dm', 'dc', 'dmi', 'dICU', 'dICUrec', \n",
    "                  'dmirec', 'dhospital', 'maxICU', 'totalTests', 'psi_FP', 'psi_PP', 'dq']\n",
    "    parameters_stratified_names = ['h', 'c', 'm0','mi']  \n",
    "    stratification = 'nc'\n",
    "    \n",
    "    # ..transitions/equations\n",
    "    @staticmethod\n",
    "    def integrate(t, S, E, I, A, M, C, Cmirec, Cicurec, Mi, ICU, R, D, SQ, EQ, IQ, AQ, MQ, RQ, \n",
    "                  beta, sigma, omega, zeta, a, m, da, dm, dc, dmi, dICU, dICUrec, \n",
    "                  dmirec, dhospital, maxICU, totalTests, psi_FP, psi_PP, dq, h, c, m0, mi, Nc):  \n",
    "        \"\"\"Basic SIR model\"\"\"\n",
    "\n",
    "        # Model equations\n",
    "        Ctot = C + Cmirec + Cicurec\n",
    "        # calculate total population per age bin using 2D array\n",
    "        N = S + E + I + A + M + Ctot + Mi + ICU + R + SQ + EQ + IQ + AQ + MQ + RQ\n",
    "        # calculate the test rates for each pool using the total number of available tests\n",
    "        nT = S + E + I + A + M + R\n",
    "        theta_S = totalTests/nT\n",
    "        theta_S[theta_S > 1] = 1\n",
    "        theta_E = totalTests/nT\n",
    "        theta_E[theta_E > 1] = 1\n",
    "        theta_I = totalTests/nT\n",
    "        theta_I[theta_I > 1] = 1\n",
    "        theta_A = totalTests/nT\n",
    "        theta_A[theta_A > 1] = 1\n",
    "        theta_M = totalTests/nT\n",
    "        theta_M[theta_M > 1] = 1\n",
    "        theta_R = totalTests/nT\n",
    "        theta_R[theta_R > 1] = 1\n",
    "        # calculate rates of change using the 2D arrays\n",
    "        dS  = - beta*np.matmul(Nc,((I+A)/N)*S) - theta_S*psi_FP*S + SQ/dq + zeta*R\n",
    "        dE  = beta*np.matmul(Nc,((I+A)/N)*S) - E/sigma - theta_E*psi_PP*E\n",
    "        dI = (1/sigma)*E - (1/omega)*I - theta_I*psi_PP*I\n",
    "        dA = (a/omega)*I - A/da - theta_A*psi_PP*A\n",
    "        dM = (m/omega)*I - M*((1-h)/dm) - M*h/dhospital - theta_M*psi_PP*M\n",
    "        dC = c*(M+MQ)*(h/dhospital) - C*(1/dc)\n",
    "        dCmirec = Mi/dmi- Cmirec*(1/dmirec)\n",
    "        dCicurec = ((1-m0)/dICU)*ICU - Cicurec*(1/dICUrec)\n",
    "        dMi = mi*(M+MQ)*(h/dhospital) - Mi/dmi\n",
    "        dICUstar = (1-c-mi)*(M+MQ)*(h/dhospital) - ICU/dICU\n",
    "        dR  = A/da + ((1-h)/dm)*M + C*(1/dc) + Cmirec*(1/dmirec) + Cicurec*(1/dICUrec) + AQ/dq + MQ*((1-h)/dm) + RQ/dq - zeta*R\n",
    "        dD  = (m0/dICU)*ICU\n",
    "        dSQ = theta_S*psi_FP*S - SQ/dq\n",
    "        dEQ = theta_E*psi_PP*E - EQ/sigma\n",
    "        dIQ = theta_I*psi_PP*I + (1/sigma)*EQ - (1/omega)*IQ\n",
    "        dAQ = theta_A*psi_PP*A + (a/omega)*IQ - AQ/dq\n",
    "        dMQ = theta_M*psi_PP*M + (m/omega)*IQ - ((1-h)/dm)*MQ - (h/dhospital)*MQ\n",
    "        dRQ = theta_R*psi_FP*R - RQ/dq\n",
    "        \n",
    "        return (dS, dE, dI, dA, dM, dC, dCmirec, dCicurec, dMi, \n",
    "                dICUstar, dR, dD, dSQ, dEQ, dIQ, dAQ, dMQ, dRQ)"
   ]
  },
  {
   "cell_type": "code",
   "execution_count": 11,
   "metadata": {},
   "outputs": [],
   "source": [
    "Nc_total = np.loadtxt(\"../data/raw/Interaction_matrices/Belgium/BELtotal.txt\", dtype='f', delimiter='\\t')\n",
    "initN = np.loadtxt(\"../data/raw/Interaction_matrices/Belgium/BELagedist_10year.txt\", dtype='f', delimiter='\\t')\n",
    "\n",
    "h = np.array([0.0205,0.0205,0.1755,0.1755,0.2115,0.2503,0.3066,0.4033,0.4770])\n",
    "icu = np.array([0,0,0.0310,0.0310,0.055,0.077,0.107,0.1685,0.1895])\n",
    "r = icu/h"
   ]
  },
  {
   "cell_type": "code",
   "execution_count": 12,
   "metadata": {},
   "outputs": [],
   "source": [
    "# ... parameters and initial conditions\n",
    "levels = initN.size\n",
    "nc = Nc_total\n",
    "parameters = {'beta': 0.0622, 'sigma': 3.2, 'omega': 2.0, 'zeta': 0, 'a': 0.43, 'm': 1-0.43, 'da': 7, 'dm': 7, 'dc': 8, 'dmi': 8, 'dICU': 8, 'dICUrec': 7, \n",
    "              'dmirec': 7, 'dhospital': 4, 'maxICU': 2000, 'totalTests': 0, 'psi_FP': 0, 'psi_PP': 1, 'dq': 14, 'h': h, \n",
    "              'c': 1-r, 'm0': np.ones(levels)*0.50, 'mi': 0.5*r, 'nc': nc}  \n",
    "\n",
    "initial_states = {'S': initN, 'E': np.ones(levels), 'I': np.zeros(levels), 'A': np.zeros(levels), 'M': np.zeros(levels), \n",
    "                  'C': np.zeros(levels), 'Cmirec': np.zeros(levels), 'Cicurec': np.zeros(levels), 'Mi': np.zeros(levels), \n",
    "                  'ICU': np.zeros(levels), 'R': np.zeros(levels), 'D': np.zeros(levels), 'SQ': np.zeros(levels), \n",
    "                  'EQ': np.zeros(levels), 'IQ': np.zeros(levels), 'AQ': np.zeros(levels), 'MQ': np.zeros(levels), \n",
    "                  'RQ': np.zeros(levels)}"
   ]
  },
  {
   "cell_type": "code",
   "execution_count": 13,
   "metadata": {},
   "outputs": [],
   "source": [
    "# -> user initiates the model\n",
    "sir_model = SEIRSAge(initial_states, parameters)\n",
    "\n",
    "# -> user runs a simulation for a defined time period\n",
    "time = [0, 200]\n",
    "t, output = sir_model.sim(time)"
   ]
  },
  {
   "cell_type": "code",
   "execution_count": 14,
   "metadata": {},
   "outputs": [
    {
     "data": {
      "text/plain": [
       "<matplotlib.legend.Legend at 0x7f1919a05b90>"
      ]
     },
     "execution_count": 14,
     "metadata": {},
     "output_type": "execute_result"
    },
    {
     "data": {
      "image/png": "[encoded data removed]",
      "text/plain": [
       "<Figure size 432x288 with 1 Axes>"
      ]
     },
     "metadata": {
      "needs_background": "light"
     },
     "output_type": "display_data"
    }
   ],
   "source": [
    "plt.plot(t, output[\"S\"].sum(axis=0), label=\"S\")\n",
    "plt.plot(t, output[\"E\"].sum(axis=0), label=\"E\")\n",
    "plt.plot(t, output[\"I\"].sum(axis=0), label=\"I\")\n",
    "plt.plot(t, output[\"R\"].sum(axis=0), label=\"R\")\n",
    "plt.legend()"
   ]
  },
  {
   "cell_type": "code",
   "execution_count": null,
   "metadata": {},
   "outputs": [],
   "source": []
  }
 ],
 "metadata": {
  "kernelspec": {
   "display_name": "Python [conda env:COVID_MODEL]",
   "language": "python",
   "name": "conda-env-COVID_MODEL-py"
  },
  "language_info": {
   "codemirror_mode": {
    "name": "ipython",
    "version": 3
   },
   "file_extension": ".py",
   "mimetype": "text/x-python",
   "name": "python",
   "nbconvert_exporter": "python",
   "pygments_lexer": "ipython3",
   "version": "3.7.6"
  }
 },
 "nbformat": 4,
 "nbformat_minor": 4
}
