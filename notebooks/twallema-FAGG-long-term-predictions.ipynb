{
 "cells": [
  {
   "cell_type": "markdown",
   "metadata": {},
   "source": [
    "# Covid-19: From model prediction to model predictive control\n",
    "\n",
    "## Long term predictions for FAGG\n",
    "\n",
    "*Authored by T.W. Alleman in consultation with the BIOMATH research unit headed by prof. Ingmar Nopens.*\n",
    "\n",
    "Copyright (c) 2020 by T.W. Alleman, BIOMATH, Ghent University. All Rights Reserved."
   ]
  },
  {
   "cell_type": "code",
   "execution_count": 81,
   "metadata": {
    "ExecuteTime": {
     "end_time": "2020-05-01T09:38:06.888712Z",
     "start_time": "2020-05-01T09:38:06.875510Z"
    }
   },
   "outputs": [],
   "source": [
    "import numpy as np\n",
    "import matplotlib\n",
    "import matplotlib.pyplot as plt\n",
    "import matplotlib.dates as mdates\n",
    "import pandas as pd\n",
    "import datetime\n",
    "import scipy\n",
    "import json\n",
    "import random"
   ]
  },
  {
   "cell_type": "markdown",
   "metadata": {},
   "source": [
    "Load the covid 19 custom development code"
   ]
  },
  {
   "cell_type": "code",
   "execution_count": 82,
   "metadata": {},
   "outputs": [],
   "source": [
    "from covid19model.optimization import objective_fcns\n",
    "from covid19model.models import models\n",
    "from covid19model.models.utils import draw_sample_COVID19_SEIRD\n",
    "from covid19model.data import google, sciensano, model_parameters\n",
    "from covid19model.visualization.output import population_status, infected\n",
    "from covid19model.visualization.optimization import plot_fit, traceplot"
   ]
  },
  {
   "cell_type": "code",
   "execution_count": 83,
   "metadata": {},
   "outputs": [
    {
     "name": "stdout",
     "output_type": "stream",
     "text": [
      "The autoreload extension is already loaded. To reload it, use:\n",
      "  %reload_ext autoreload\n"
     ]
    }
   ],
   "source": [
    "# OPTIONAL: Load the \"autoreload\" extension so that package code can change\n",
    "%load_ext autoreload\n",
    "# OPTIONAL: always reload modules so that as you change code in src, it gets loaded\n",
    "%autoreload 2"
   ]
  },
  {
   "cell_type": "markdown",
   "metadata": {},
   "source": [
    "## Data, policy and model initialization"
   ]
  },
  {
   "cell_type": "markdown",
   "metadata": {},
   "source": [
    "### Load contact data"
   ]
  },
  {
   "cell_type": "code",
   "execution_count": 84,
   "metadata": {},
   "outputs": [],
   "source": [
    "# Load the interaction matrices (size: 9x9)\n",
    "initN, Nc_home, Nc_work, Nc_schools, Nc_transport, Nc_leisure, Nc_others, Nc_total = model_parameters.get_interaction_matrices(dataset='willem_2012')\n",
    "# Define the number of age categories\n",
    "levels = initN.size"
   ]
  },
  {
   "cell_type": "markdown",
   "metadata": {},
   "source": [
    "### Load publically available data from Sciensano"
   ]
  },
  {
   "cell_type": "code",
   "execution_count": 85,
   "metadata": {},
   "outputs": [
    {
     "data": {
      "text/html": [
       "<div>\n",
       "<style scoped>\n",
       "    .dataframe tbody tr th:only-of-type {\n",
       "        vertical-align: middle;\n",
       "    }\n",
       "\n",
       "    .dataframe tbody tr th {\n",
       "        vertical-align: top;\n",
       "    }\n",
       "\n",
       "    .dataframe thead th {\n",
       "        text-align: right;\n",
       "    }\n",
       "</style>\n",
       "<table border=\"1\" class=\"dataframe\">\n",
       "  <thead>\n",
       "    <tr style=\"text-align: right;\">\n",
       "      <th></th>\n",
       "      <th>H_tot</th>\n",
       "      <th>ICU_tot</th>\n",
       "      <th>H_in</th>\n",
       "      <th>H_out</th>\n",
       "      <th>H_tot_cumsum</th>\n",
       "      <th>D_tot</th>\n",
       "      <th>D_25_44</th>\n",
       "      <th>D_45_64</th>\n",
       "      <th>D_65_74</th>\n",
       "      <th>D_75_84</th>\n",
       "      <th>D_85+</th>\n",
       "    </tr>\n",
       "    <tr>\n",
       "      <th>DATE</th>\n",
       "      <th></th>\n",
       "      <th></th>\n",
       "      <th></th>\n",
       "      <th></th>\n",
       "      <th></th>\n",
       "      <th></th>\n",
       "      <th></th>\n",
       "      <th></th>\n",
       "      <th></th>\n",
       "      <th></th>\n",
       "      <th></th>\n",
       "    </tr>\n",
       "  </thead>\n",
       "  <tbody>\n",
       "    <tr>\n",
       "      <th>2020-10-18</th>\n",
       "      <td>2497</td>\n",
       "      <td>412</td>\n",
       "      <td>263</td>\n",
       "      <td>83</td>\n",
       "      <td>2110</td>\n",
       "      <td>31</td>\n",
       "      <td>0.0</td>\n",
       "      <td>3.0</td>\n",
       "      <td>3</td>\n",
       "      <td>11.0</td>\n",
       "      <td>14</td>\n",
       "    </tr>\n",
       "    <tr>\n",
       "      <th>2020-10-19</th>\n",
       "      <td>2773</td>\n",
       "      <td>446</td>\n",
       "      <td>263</td>\n",
       "      <td>57</td>\n",
       "      <td>2316</td>\n",
       "      <td>49</td>\n",
       "      <td>0.0</td>\n",
       "      <td>3.0</td>\n",
       "      <td>5</td>\n",
       "      <td>11.0</td>\n",
       "      <td>30</td>\n",
       "    </tr>\n",
       "    <tr>\n",
       "      <th>2020-10-20</th>\n",
       "      <td>2969</td>\n",
       "      <td>486</td>\n",
       "      <td>411</td>\n",
       "      <td>262</td>\n",
       "      <td>2465</td>\n",
       "      <td>42</td>\n",
       "      <td>0.0</td>\n",
       "      <td>4.0</td>\n",
       "      <td>4</td>\n",
       "      <td>12.0</td>\n",
       "      <td>22</td>\n",
       "    </tr>\n",
       "    <tr>\n",
       "      <th>2020-10-21</th>\n",
       "      <td>3275</td>\n",
       "      <td>525</td>\n",
       "      <td>423</td>\n",
       "      <td>242</td>\n",
       "      <td>2646</td>\n",
       "      <td>44</td>\n",
       "      <td>0.0</td>\n",
       "      <td>2.0</td>\n",
       "      <td>7</td>\n",
       "      <td>15.0</td>\n",
       "      <td>20</td>\n",
       "    </tr>\n",
       "    <tr>\n",
       "      <th>2020-10-22</th>\n",
       "      <td>3649</td>\n",
       "      <td>573</td>\n",
       "      <td>496</td>\n",
       "      <td>269</td>\n",
       "      <td>2873</td>\n",
       "      <td>4</td>\n",
       "      <td>0.0</td>\n",
       "      <td>0.0</td>\n",
       "      <td>1</td>\n",
       "      <td>0.0</td>\n",
       "      <td>3</td>\n",
       "    </tr>\n",
       "  </tbody>\n",
       "</table>\n",
       "</div>"
      ],
      "text/plain": [
       "            H_tot  ICU_tot  H_in  H_out  H_tot_cumsum  D_tot  D_25_44  \\\n",
       "DATE                                                                    \n",
       "2020-10-18   2497      412   263     83          2110     31      0.0   \n",
       "2020-10-19   2773      446   263     57          2316     49      0.0   \n",
       "2020-10-20   2969      486   411    262          2465     42      0.0   \n",
       "2020-10-21   3275      525   423    242          2646     44      0.0   \n",
       "2020-10-22   3649      573   496    269          2873      4      0.0   \n",
       "\n",
       "            D_45_64  D_65_74  D_75_84  D_85+  \n",
       "DATE                                          \n",
       "2020-10-18      3.0        3     11.0     14  \n",
       "2020-10-19      3.0        5     11.0     30  \n",
       "2020-10-20      4.0        4     12.0     22  \n",
       "2020-10-21      2.0        7     15.0     20  \n",
       "2020-10-22      0.0        1      0.0      3  "
      ]
     },
     "execution_count": 85,
     "metadata": {},
     "output_type": "execute_result"
    }
   ],
   "source": [
    "# Scrape the publically available data from the Scientific institute of Public Health (Sciensano)\n",
    "df_sciensano = sciensano.get_sciensano_COVID19_data(update=True)\n",
    "df_sciensano.tail()"
   ]
  },
  {
   "cell_type": "markdown",
   "metadata": {},
   "source": [
    "### Load posterior parameter distributions of calibrated parameters"
   ]
  },
  {
   "cell_type": "code",
   "execution_count": 86,
   "metadata": {},
   "outputs": [],
   "source": [
    "# Load the dictionary containing the posterior parameter distributions obtained from calibrating the model to Belgian hospitalization data\n",
    "with open('../data/interim/model_parameters/deterministic_2020-10-22.json', 'r') as fp:\n",
    "    samples_dict = json.load(fp)"
   ]
  },
  {
   "cell_type": "markdown",
   "metadata": {},
   "source": [
    "### Define social policy"
   ]
  },
  {
   "cell_type": "code",
   "execution_count": 87,
   "metadata": {},
   "outputs": [],
   "source": [
    "def lockdown_release(t,param,policy_time,policy1,policy2,policy3,policy4,policy5,policy6,policy7,policy8,l,tau,prevention):\n",
    "    if t <= policy_time + tau:\n",
    "        return policy1\n",
    "    elif policy_time + tau < t <= policy_time + tau + l:\n",
    "        return policy1 + (prevention*policy2-policy1)/l*(t-policy_time-tau)\n",
    "    elif policy_time + tau + l < t <= policy_time + 50: \n",
    "        return prevention*policy2\n",
    "    elif policy_time + 50 < t <= policy_time + 52:\n",
    "        return prevention*policy3\n",
    "    elif policy_time + 52 < t <= policy_time + 57:\n",
    "        return prevention*policy4\n",
    "    elif policy_time + 57 < t <= policy_time + 64:\n",
    "        return prevention*policy5\n",
    "    elif policy_time + 64 < t <= policy_time + 81:\n",
    "        return prevention*policy6\n",
    "    elif policy_time + 81 < t <= policy_time + 108:\n",
    "        return prevention*policy7\n",
    "    elif policy_time + 108 < t <= policy_time + 170:\n",
    "        return prevention*policy8"
   ]
  },
  {
   "cell_type": "markdown",
   "metadata": {},
   "source": [
    "### Initialize model"
   ]
  },
  {
   "cell_type": "code",
   "execution_count": 88,
   "metadata": {},
   "outputs": [],
   "source": [
    "# Load the model parameters using `get_COVID19_SEIRD_parameters()`.\n",
    "params = model_parameters.get_COVID19_SEIRD_parameters()\n",
    "\n",
    "params.update({'policy1': Nc_total,\n",
    "              'policy2': 1.0*Nc_home + (1-0.60)*Nc_work + (1-0.70)*Nc_transport + (1-0.30)*Nc_others + (1-0.80)*Nc_leisure,\n",
    "              'policy3': 1.0*Nc_home + (1-0.50)*Nc_work + (1-0.60)*Nc_transport + (1-0.30)*Nc_others + (1-0.70)*Nc_leisure,\n",
    "              'policy4': 1.0*Nc_home + (1-0.40)*Nc_work + (1-0.55)*Nc_transport + (1-0.25)*Nc_others + (1-0.65)*Nc_leisure,\n",
    "              'policy5': 1.0*Nc_home + (1-0.30)*Nc_work + (1-0.50)*Nc_transport + (1-0.20)*Nc_others + (1-0.60)*Nc_leisure,\n",
    "              'policy6': 1.0*Nc_home + (1-0.30)*Nc_work + (1-0.45)*Nc_transport + (1-0.15)*Nc_others + (1-0.85)*Nc_schools + (1-0.50)*Nc_leisure,\n",
    "              'policy7': 1.0*Nc_home + (1-0.25)*Nc_work + (1-0.35)*Nc_transport + (1-0.10)*Nc_others + (1-0.35)*Nc_schools + (1-0.30)*Nc_leisure,\n",
    "              'policy8': 1.0*Nc_home + (1-0.20)*Nc_work + (1-0.15)*Nc_transport + (1-0.00)*Nc_others + (1-0.00)*Nc_leisure,\n",
    "               'policy_time': samples_dict['lag_time'],\n",
    "              'l': 1,\n",
    "              'tau': 5,\n",
    "              'prevention': 0.5})\n",
    "\n",
    "# Define the initial condition: one exposed inidividual in every age category\n",
    "initial_states = {'S': initN, 'E': np.ones(levels)}\n",
    "# Initialize the model\n",
    "model = models.COVID19_SEIRD(initial_states, params, time_dependent_parameters={'Nc': lockdown_release})"
   ]
  },
  {
   "cell_type": "markdown",
   "metadata": {},
   "source": [
    "## Run model untill September 1st"
   ]
  },
  {
   "cell_type": "code",
   "execution_count": 89,
   "metadata": {},
   "outputs": [],
   "source": [
    "out = model.sim(samples_dict['lag_time']+170,N=200,draw_fcn=draw_sample_COVID19_SEIRD,samples=samples_dict)"
   ]
  },
  {
   "cell_type": "code",
   "execution_count": 90,
   "metadata": {},
   "outputs": [],
   "source": [
    "start_date = datetime.datetime.strptime('15-03-2020', '%d-%m-%Y') - datetime.timedelta(days=samples_dict['lag_time'])\n",
    "dates_sep = pd.date_range(start_date, periods=len(out[\"time\"].values)).date"
   ]
  },
  {
   "cell_type": "code",
   "execution_count": 91,
   "metadata": {},
   "outputs": [
    {
     "data": {
      "image/png": "[encoded data removed]",
      "text/plain": [
       "<Figure size 864x288 with 1 Axes>"
      ]
     },
     "metadata": {
      "needs_background": "light"
     },
     "output_type": "display_data"
    }
   ],
   "source": [
    "fig,ax =plt.subplots(figsize=(12,4))\n",
    "ax.fill_between(dates_sep, out[\"H_tot\"].quantile(1-0.90,dim=\"draws\").sum(dim=\"Nc\"), out[\"H_tot\"].quantile(0.90,dim=\"draws\").sum(dim=\"Nc\"),alpha=0.30)\n",
    "ax.plot(dates_sep,out[\"H_tot\"].mean(dim=\"draws\").sum(dim=\"Nc\"),'--')\n",
    "# limit the number of ticks on the axis\n",
    "from covid19model.visualization.output import _apply_tick_locator\n",
    "ax = _apply_tick_locator(ax)"
   ]
  },
  {
   "cell_type": "markdown",
   "metadata": {},
   "source": [
    "## Re-initialize model with September 1st as initial condition"
   ]
  },
  {
   "cell_type": "code",
   "execution_count": 116,
   "metadata": {},
   "outputs": [],
   "source": [
    "def no_contact_reduction(t,policy1,policy2,policy3,policy4,policy5,policy6,policy7,l,tau,prevention):\n",
    "    if 0 < t <=  62:\n",
    "        return prevention*policy1\n",
    "    elif 62 < t <= 69:\n",
    "        return prevention*policy2\n",
    "    elif 69 < t <= 111:\n",
    "        return prevention*policy3\n",
    "    elif 111 < t <= 121:\n",
    "        return prevention*policy4\n",
    "    elif 121 < t <= 167:\n",
    "        return prevention*policy5\n",
    "    elif 167 < t <= 173:\n",
    "        return prevention*policy6 \n",
    "    else:\n",
    "        return prevention*policy7"
   ]
  },
  {
   "cell_type": "code",
   "execution_count": 117,
   "metadata": {},
   "outputs": [],
   "source": [
    "def susceptibility_increase(t,param):\n",
    "    if 0 < t <= 23:\n",
    "        return param\n",
    "    else:\n",
    "        return param*1.20"
   ]
  },
  {
   "cell_type": "code",
   "execution_count": 118,
   "metadata": {},
   "outputs": [],
   "source": [
    "# Load the model parameters using `get_COVID19_SEIRD_parameters()`.\n",
    "params = model_parameters.get_COVID19_SEIRD_parameters()\n",
    "\n",
    "params.update({'policy1': 1.0*Nc_home + (1-0.00)*Nc_work + (1-0.00)*Nc_transport + (1-0.00)*Nc_others + (1-0.00)*Nc_schools + (1-0.00)*Nc_leisure,\n",
    "              'policy2': 1.0*Nc_home + (1-0.00)*Nc_work + (1-0.00)*Nc_transport + (1-0.00)*Nc_others + (1-1.00)*Nc_schools + (1-0.00)*Nc_leisure,\n",
    "              'policy3': 1.0*Nc_home + (1-0.00)*Nc_work + (1-0.00)*Nc_transport + (1-0.00)*Nc_others + (1-0.00)*Nc_schools + (1-0.00)*Nc_leisure,\n",
    "              'policy4': 1.0*Nc_home + (1-0.00)*Nc_work + (1-0.00)*Nc_transport + (1-0.00)*Nc_others + (1-1.00)*Nc_schools + (1-0.00)*Nc_leisure,\n",
    "              'policy5': 1.0*Nc_home + (1-0.00)*Nc_work + (1-0.00)*Nc_transport + (1-0.00)*Nc_others + (1-0.00)*Nc_schools + (1-0.00)*Nc_leisure,\n",
    "              'policy6': 1.0*Nc_home + (1-0.00)*Nc_work + (1-0.00)*Nc_transport + (1-0.00)*Nc_others + (1-1.00)*Nc_schools + (1-0.00)*Nc_leisure,\n",
    "              'policy7': 1.0*Nc_home + (1-0.00)*Nc_work + (1-0.00)*Nc_transport + (1-0.00)*Nc_others + (1-0.00)*Nc_schools + (1-0.00)*Nc_leisure,\n",
    "              'l' : 0.5,\n",
    "              'tau': 0.5,\n",
    "              'prevention' : 0.5})"
   ]
  },
  {
   "cell_type": "code",
   "execution_count": 121,
   "metadata": {},
   "outputs": [
    {
     "name": "stdout",
     "output_type": "stream",
     "text": [
      "['beta', 'sigma', 'omega', 'zeta', 'da', 'dm', 'der', 'dc_R', 'dc_D', 'dICU_R', 'dICU_D', 'dICUrec', 'dhospital', ['s', 'a', 'h', 'c', 'm_C', 'm_ICU'], 'Nc']\n"
     ]
    },
    {
     "ename": "ValueError",
     "evalue": "The specified time-dependent parameter 's' is not an existing model parameter",
     "output_type": "error",
     "traceback": [
      "\u001b[0;31m---------------------------------------------------------------------------\u001b[0m",
      "\u001b[0;31mValueError\u001b[0m                                Traceback (most recent call last)",
      "\u001b[0;32m<ipython-input-121-9c38948db038>\u001b[0m in \u001b[0;36m<module>\u001b[0;34m\u001b[0m\n\u001b[1;32m     15\u001b[0m \u001b[0;34m\u001b[0m\u001b[0m\n\u001b[1;32m     16\u001b[0m \u001b[0;31m# Initialize the model\u001b[0m\u001b[0;34m\u001b[0m\u001b[0;34m\u001b[0m\u001b[0;34m\u001b[0m\u001b[0m\n\u001b[0;32m---> 17\u001b[0;31m \u001b[0mmodel\u001b[0m \u001b[0;34m=\u001b[0m \u001b[0mmodels\u001b[0m\u001b[0;34m.\u001b[0m\u001b[0mCOVID19_SEIRD\u001b[0m\u001b[0;34m(\u001b[0m\u001b[0minitial_states\u001b[0m\u001b[0;34m,\u001b[0m \u001b[0mparams\u001b[0m\u001b[0;34m,\u001b[0m \u001b[0mtime_dependent_parameters\u001b[0m\u001b[0;34m=\u001b[0m\u001b[0;34m{\u001b[0m\u001b[0;34m'Nc'\u001b[0m\u001b[0;34m:\u001b[0m \u001b[0mno_contact_reduction\u001b[0m\u001b[0;34m,\u001b[0m \u001b[0;34m's'\u001b[0m \u001b[0;34m:\u001b[0m \u001b[0msusceptibility_increase\u001b[0m\u001b[0;34m}\u001b[0m\u001b[0;34m)\u001b[0m\u001b[0;34m\u001b[0m\u001b[0;34m\u001b[0m\u001b[0m\n\u001b[0m",
      "\u001b[0;32m~/Documents/PhD/Corona/Python/git/COVID19-Model/src/covid19model/models/base.py\u001b[0m in \u001b[0;36m__init__\u001b[0;34m(self, states, parameters, time_dependent_parameters, discrete)\u001b[0m\n\u001b[1;32m     58\u001b[0m \u001b[0;34m\u001b[0m\u001b[0m\n\u001b[1;32m     59\u001b[0m         \u001b[0;32mif\u001b[0m \u001b[0mtime_dependent_parameters\u001b[0m\u001b[0;34m:\u001b[0m\u001b[0;34m\u001b[0m\u001b[0;34m\u001b[0m\u001b[0m\n\u001b[0;32m---> 60\u001b[0;31m             \u001b[0mself\u001b[0m\u001b[0;34m.\u001b[0m\u001b[0m_validate_time_dependent_parameters\u001b[0m\u001b[0;34m(\u001b[0m\u001b[0;34m)\u001b[0m\u001b[0;34m\u001b[0m\u001b[0;34m\u001b[0m\u001b[0m\n\u001b[0m\u001b[1;32m     61\u001b[0m         \u001b[0;32melse\u001b[0m\u001b[0;34m:\u001b[0m\u001b[0;34m\u001b[0m\u001b[0;34m\u001b[0m\u001b[0m\n\u001b[1;32m     62\u001b[0m             \u001b[0mself\u001b[0m\u001b[0;34m.\u001b[0m\u001b[0m_function_parameters\u001b[0m \u001b[0;34m=\u001b[0m \u001b[0;34m[\u001b[0m\u001b[0;34m]\u001b[0m\u001b[0;34m\u001b[0m\u001b[0;34m\u001b[0m\u001b[0m\n",
      "\u001b[0;32m~/Documents/PhD/Corona/Python/git/COVID19-Model/src/covid19model/models/base.py\u001b[0m in \u001b[0;36m_validate_time_dependent_parameters\u001b[0;34m(self)\u001b[0m\n\u001b[1;32m     94\u001b[0m         \u001b[0;32mfor\u001b[0m \u001b[0mparam\u001b[0m\u001b[0;34m,\u001b[0m \u001b[0mfunc\u001b[0m \u001b[0;32min\u001b[0m \u001b[0mself\u001b[0m\u001b[0;34m.\u001b[0m\u001b[0mtime_dependent_parameters\u001b[0m\u001b[0;34m.\u001b[0m\u001b[0mitems\u001b[0m\u001b[0;34m(\u001b[0m\u001b[0;34m)\u001b[0m\u001b[0;34m:\u001b[0m\u001b[0;34m\u001b[0m\u001b[0;34m\u001b[0m\u001b[0m\n\u001b[1;32m     95\u001b[0m             \u001b[0;32mif\u001b[0m \u001b[0mparam\u001b[0m \u001b[0;32mnot\u001b[0m \u001b[0;32min\u001b[0m \u001b[0mall_param_names\u001b[0m\u001b[0;34m:\u001b[0m\u001b[0;34m\u001b[0m\u001b[0;34m\u001b[0m\u001b[0m\n\u001b[0;32m---> 96\u001b[0;31m                 raise ValueError(\n\u001b[0m\u001b[1;32m     97\u001b[0m                     \u001b[0;34m\"The specified time-dependent parameter '{0}' is not an \"\u001b[0m\u001b[0;34m\u001b[0m\u001b[0;34m\u001b[0m\u001b[0m\n\u001b[1;32m     98\u001b[0m                     \"existing model parameter\".format(param))\n",
      "\u001b[0;31mValueError\u001b[0m: The specified time-dependent parameter 's' is not an existing model parameter"
     ]
    }
   ],
   "source": [
    "initial_states = {'S': out['S'].mean(dim=\"draws\").isel(time=170),\n",
    "                  'E': out['E'].mean(dim=\"draws\").isel(time=170),\n",
    "                  'I': out['I'].mean(dim=\"draws\").isel(time=170),\n",
    "                  'A': out['A'].mean(dim=\"draws\").isel(time=170),\n",
    "                  'M': out['M'].mean(dim=\"draws\").isel(time=170),\n",
    "                  'ER': out['ER'].mean(dim=\"draws\").isel(time=170),\n",
    "                  'C': out['C'].mean(dim=\"draws\").isel(time=170),\n",
    "                  'C_icurec': out['C_icurec'].mean(dim=\"draws\").isel(time=170),\n",
    "                  'ICU': out['ICU'].mean(dim=\"draws\").isel(time=170),\n",
    "                  'R': out['R'].mean(dim=\"draws\").isel(time=170),\n",
    "                  'D': out['D'].mean(dim=\"draws\").isel(time=170),\n",
    "                  'H_in': out['H_in'].mean(dim=\"draws\").isel(time=170),\n",
    "                  'H_out': out['H_out'].mean(dim=\"draws\").isel(time=170),\n",
    "                  'H_tot': out['H_tot'].mean(dim=\"draws\").isel(time=170)}\n",
    "\n",
    "# Initialize the model\n",
    "model = models.COVID19_SEIRD(initial_states, params, time_dependent_parameters={'Nc': no_contact_reduction, 's' : susceptibility_increase})"
   ]
  },
  {
   "cell_type": "code",
   "execution_count": 112,
   "metadata": {},
   "outputs": [],
   "source": [
    "model.parameters['s']=model.parameters['s']*1"
   ]
  },
  {
   "cell_type": "markdown",
   "metadata": {},
   "source": [
    "## Simulations\n",
    "\n",
    "### S1: all contacts/no contact reduction"
   ]
  },
  {
   "cell_type": "code",
   "execution_count": 114,
   "metadata": {},
   "outputs": [],
   "source": [
    "MC_out_1 = model.sim(300,N=100,draw_fcn=draw_sample_COVID19_SEIRD,samples=samples_dict)"
   ]
  },
  {
   "cell_type": "code",
   "execution_count": 106,
   "metadata": {},
   "outputs": [],
   "source": [
    "start_date = datetime.datetime.strptime('01-09-2020', '%d-%m-%Y')\n",
    "dates = pd.date_range(start_date, periods=len(MC_out_1[\"time\"].values)).date"
   ]
  },
  {
   "cell_type": "code",
   "execution_count": 107,
   "metadata": {},
   "outputs": [
    {
     "data": {
      "image/png": "[encoded data removed]",
      "text/plain": [
       "<Figure size 864x432 with 1 Axes>"
      ]
     },
     "metadata": {
      "needs_background": "light"
     },
     "output_type": "display_data"
    }
   ],
   "source": [
    "fig,ax =plt.subplots(figsize=(12,6))\n",
    "ax.fill_between(dates, MC_out_1[\"H_tot\"].quantile(1-0.80,dim=\"draws\").sum(dim=\"Nc\"), MC_out_1[\"H_tot\"].quantile(0.80,dim=\"draws\").sum(dim=\"Nc\"),alpha=0.30)\n",
    "ax.plot(dates,MC_out_1[\"H_tot\"].mean(dim=\"draws\").sum(dim=\"Nc\"),'--')\n",
    "ax.plot(df_sciensano.index,df_sciensano[\"H_tot\"],'o',color='black')\n",
    "ax.fill_between(dates_sep, out[\"H_tot\"].quantile(1-0.90,dim=\"draws\").sum(dim=\"Nc\"), out[\"H_tot\"].quantile(0.90,dim=\"draws\").sum(dim=\"Nc\"),alpha=0.30)\n",
    "ax.plot(dates_sep,out[\"H_tot\"].mean(dim=\"draws\").sum(dim=\"Nc\"),'--')\n",
    "# limit the number of ticks on the axis\n",
    "from covid19model.visualization.output import _apply_tick_locator\n",
    "ax = _apply_tick_locator(ax)"
   ]
  },
  {
   "cell_type": "code",
   "execution_count": 33,
   "metadata": {},
   "outputs": [],
   "source": [
    "# New hospitalisations\n",
    "S1_incidences_mean = MC_out_1[\"H_in\"].sum(dim=\"Nc\").mean(dim=\"draws\").values\n",
    "S1_incidences_LL = MC_out_1[\"H_in\"].sum(dim=\"Nc\").quantile(0.2,dim=\"draws\").values\n",
    "S1_incidences_UL = MC_out_1[\"H_in\"].sum(dim=\"Nc\").quantile(0.8,dim=\"draws\").values\n",
    "# Hospital totals\n",
    "S1_load_mean = MC_out_1[\"H_tot\"].sum(dim=\"Nc\").mean(dim=\"draws\").values\n",
    "S1_load_LL = MC_out_1[\"H_tot\"].sum(dim=\"Nc\").quantile(0.2,dim=\"draws\").values\n",
    "S1_load_UL = MC_out_1[\"H_tot\"].sum(dim=\"Nc\").quantile(0.8,dim=\"draws\").values"
   ]
  },
  {
   "cell_type": "markdown",
   "metadata": {},
   "source": [
    "### S2: -10% contacts starting October 16th"
   ]
  },
  {
   "cell_type": "code",
   "execution_count": 27,
   "metadata": {},
   "outputs": [],
   "source": [
    "def contact_reduction(t,param,policy1,policy2,policy3,policy4,policy5,policy6,policy7,policy8,l,tau,prevention):\n",
    "    if 0 < t <= 45:\n",
    "        return prevention*policy1\n",
    "    elif 45 < t <=  62:\n",
    "        return prevention*policy2\n",
    "    elif 62 < t <= 69:\n",
    "        return prevention*policy3\n",
    "    elif 69 < t <= 111:\n",
    "        return prevention*policy4\n",
    "    elif 111 < t <= 121:\n",
    "        return prevention*policy5\n",
    "    elif 121 < t <= 167:\n",
    "        return prevention*policy6\n",
    "    elif 167 < t <= 173:\n",
    "        return prevention*policy7 \n",
    "    else:\n",
    "        return prevention*policy8"
   ]
  },
  {
   "cell_type": "code",
   "execution_count": 29,
   "metadata": {},
   "outputs": [],
   "source": [
    "# Load the model parameters using `get_COVID19_SEIRD_parameters()`.\n",
    "params = model_parameters.get_COVID19_SEIRD_parameters()\n",
    "\n",
    "params.update({'policy1': 1.0*Nc_home + (1-0.00)*Nc_work + (1-0.00)*Nc_transport + (1-0.00)*Nc_others + (1-0.00)*Nc_schools + (1-0.00)*Nc_leisure,\n",
    "              'policy2': 1.0*Nc_home + (1-0.10)*Nc_work + (1-0.10)*Nc_transport + (1-0.10)*Nc_others + (1-1.00)*Nc_schools + (1-0.10)*Nc_leisure,\n",
    "              'policy3': 1.0*Nc_home + (1-0.10)*Nc_work + (1-0.10)*Nc_transport + (1-0.10)*Nc_others + (1-1.00)*Nc_schools + (1-0.10)*Nc_leisure,\n",
    "              'policy4': 1.0*Nc_home + (1-0.10)*Nc_work + (1-0.10)*Nc_transport + (1-0.10)*Nc_others + (1-0.00)*Nc_schools + (1-0.10)*Nc_leisure,\n",
    "              'policy5': 1.0*Nc_home + (1-0.10)*Nc_work + (1-0.10)*Nc_transport + (1-0.10)*Nc_others + (1-1.00)*Nc_schools + (1-0.10)*Nc_leisure,\n",
    "              'policy6': 1.0*Nc_home + (1-0.10)*Nc_work + (1-0.10)*Nc_transport + (1-0.10)*Nc_others + (1-0.00)*Nc_schools + (1-0.10)*Nc_leisure,\n",
    "              'policy7': 1.0*Nc_home + (1-0.10)*Nc_work + (1-0.10)*Nc_transport + (1-0.10)*Nc_others + (1-1.00)*Nc_schools + (1-0.10)*Nc_leisure,\n",
    "              'policy8': 1.0*Nc_home + (1-0.10)*Nc_work + (1-0.10)*Nc_transport + (1-0.10)*Nc_others + (1-0.00)*Nc_schools + (1-0.10)*Nc_leisure,\n",
    "              'l' : 1,\n",
    "              'tau' : 5,\n",
    "              'prevention': 0.5})\n",
    "\n",
    "# Re-initialize the model\n",
    "model = models.COVID19_SEIRD(initial_states, params, time_dependent_parameters={'Nc': contact_reduction})"
   ]
  },
  {
   "cell_type": "code",
   "execution_count": 30,
   "metadata": {},
   "outputs": [],
   "source": [
    "model.parameters['s']=model.parameters['s']*1.10"
   ]
  },
  {
   "cell_type": "code",
   "execution_count": 31,
   "metadata": {},
   "outputs": [],
   "source": [
    "MC_out_2 = model.sim(300,N=100,draw_fcn=draw_sample_COVID19_SEIRD,samples=samples_dict)"
   ]
  },
  {
   "cell_type": "code",
   "execution_count": 32,
   "metadata": {},
   "outputs": [
    {
     "data": {
      "image/png": "[encoded data removed]",
      "text/plain": [
       "<Figure size 864x288 with 1 Axes>"
      ]
     },
     "metadata": {
      "needs_background": "light"
     },
     "output_type": "display_data"
    }
   ],
   "source": [
    "fig,ax =plt.subplots(figsize=(12,4))\n",
    "ax.fill_between(dates, MC_out_2[\"H_tot\"].quantile(1-0.80,dim=\"draws\").sum(dim=\"Nc\"), MC_out_2[\"H_tot\"].quantile(0.80,dim=\"draws\").sum(dim=\"Nc\"),alpha=0.30)\n",
    "ax.plot(dates,MC_out_2[\"H_tot\"].mean(dim=\"draws\").sum(dim=\"Nc\"),'--')\n",
    "# limit the number of ticks on the axis\n",
    "from covid19model.visualization.output import _apply_tick_locator\n",
    "ax = _apply_tick_locator(ax)"
   ]
  },
  {
   "cell_type": "code",
   "execution_count": 33,
   "metadata": {},
   "outputs": [],
   "source": [
    "# New hospitalisations\n",
    "S2_incidences_mean = MC_out_2[\"H_in\"].sum(dim=\"Nc\").mean(dim=\"draws\").values\n",
    "S2_incidences_LL = MC_out_2[\"H_in\"].sum(dim=\"Nc\").quantile(0.2,dim=\"draws\").values\n",
    "S2_incidences_UL = MC_out_2[\"H_in\"].sum(dim=\"Nc\").quantile(0.8,dim=\"draws\").values\n",
    "# Hospital totals\n",
    "S2_load_mean = MC_out_2[\"H_tot\"].sum(dim=\"Nc\").mean(dim=\"draws\").values\n",
    "S2_load_LL = MC_out_2[\"H_tot\"].sum(dim=\"Nc\").quantile(0.2,dim=\"draws\").values\n",
    "S2_load_UL = MC_out_2[\"H_tot\"].sum(dim=\"Nc\").quantile(0.8,dim=\"draws\").values"
   ]
  },
  {
   "cell_type": "markdown",
   "metadata": {},
   "source": [
    "### S3: -20% contacts"
   ]
  },
  {
   "cell_type": "code",
   "execution_count": 34,
   "metadata": {},
   "outputs": [],
   "source": [
    "# Load the model parameters using `get_COVID19_SEIRD_parameters()`.\n",
    "params = model_parameters.get_COVID19_SEIRD_parameters()\n",
    "\n",
    "params.update({'policy1': 1.0*Nc_home + (1-0.00)*Nc_work + (1-0.00)*Nc_transport + (1-0.00)*Nc_others + (1-0.00)*Nc_schools + (1-0.00)*Nc_leisure,\n",
    "              'policy2': 1.0*Nc_home + (1-0.20)*Nc_work + (1-0.20)*Nc_transport + (1-0.20)*Nc_others + (1-1.00)*Nc_schools + (1-0.20)*Nc_leisure,\n",
    "              'policy3': 1.0*Nc_home + (1-0.20)*Nc_work + (1-0.20)*Nc_transport + (1-0.20)*Nc_others + (1-1.00)*Nc_schools + (1-0.20)*Nc_leisure,\n",
    "              'policy4': 1.0*Nc_home + (1-0.20)*Nc_work + (1-0.20)*Nc_transport + (1-0.20)*Nc_others + (1-0.00)*Nc_schools + (1-0.20)*Nc_leisure,\n",
    "              'policy5': 1.0*Nc_home + (1-0.20)*Nc_work + (1-0.20)*Nc_transport + (1-0.20)*Nc_others + (1-1.00)*Nc_schools + (1-0.20)*Nc_leisure,\n",
    "              'policy6': 1.0*Nc_home + (1-0.20)*Nc_work + (1-0.20)*Nc_transport + (1-0.20)*Nc_others + (1-0.00)*Nc_schools + (1-0.20)*Nc_leisure,\n",
    "              'policy7': 1.0*Nc_home + (1-0.20)*Nc_work + (1-0.20)*Nc_transport + (1-0.20)*Nc_others + (1-1.00)*Nc_schools + (1-0.20)*Nc_leisure,\n",
    "              'policy8': 1.0*Nc_home + (1-0.20)*Nc_work + (1-0.20)*Nc_transport + (1-0.20)*Nc_others + (1-0.00)*Nc_schools + (1-0.20)*Nc_leisure,\n",
    "              'l' : 1,\n",
    "              'tau' : 5,\n",
    "              'prevention': 0.5})"
   ]
  },
  {
   "cell_type": "code",
   "execution_count": 35,
   "metadata": {},
   "outputs": [],
   "source": [
    "model.parameters['s']=model.parameters['s']*1.10"
   ]
  },
  {
   "cell_type": "code",
   "execution_count": 36,
   "metadata": {},
   "outputs": [],
   "source": [
    "# Re-initialize the model\n",
    "model = models.COVID19_SEIRD(initial_states, params, time_dependent_parameters={'Nc': contact_reduction})"
   ]
  },
  {
   "cell_type": "code",
   "execution_count": 38,
   "metadata": {},
   "outputs": [],
   "source": [
    "MC_out_3 = model.sim(300,N=100,draw_fcn=draw_sample_COVID19_SEIRD,samples=samples_dict)"
   ]
  },
  {
   "cell_type": "code",
   "execution_count": 40,
   "metadata": {},
   "outputs": [
    {
     "data": {
      "image/png": "[encoded data removed]",
      "text/plain": [
       "<Figure size 864x288 with 1 Axes>"
      ]
     },
     "metadata": {
      "needs_background": "light"
     },
     "output_type": "display_data"
    }
   ],
   "source": [
    "fig,ax =plt.subplots(figsize=(12,4))\n",
    "ax.fill_between(dates, MC_out_3[\"H_tot\"].quantile(1-0.80,dim=\"draws\").sum(dim=\"Nc\"), MC_out_3[\"H_tot\"].quantile(0.80,dim=\"draws\").sum(dim=\"Nc\"),alpha=0.30)\n",
    "ax.plot(dates,MC_out_3[\"H_tot\"].mean(dim=\"draws\").sum(dim=\"Nc\"),'--')\n",
    "# limit the number of ticks on the axis\n",
    "from covid19model.visualization.output import _apply_tick_locator\n",
    "ax = _apply_tick_locator(ax)"
   ]
  },
  {
   "cell_type": "code",
   "execution_count": 30,
   "metadata": {},
   "outputs": [],
   "source": [
    "# New hospitalisations\n",
    "S3_incidences_mean = MC_out_3[\"H_in\"].sum(dim=\"Nc\").mean(dim=\"MC\").values\n",
    "S3_incidences_LL = MC_out_3[\"H_in\"].sum(dim=\"Nc\").quantile(0.2,dim=\"MC\").values\n",
    "S3_incidences_UL = MC_out_3[\"H_in\"].sum(dim=\"Nc\").quantile(0.8,dim=\"MC\").values\n",
    "# Hospital totals\n",
    "S3_load_mean = MC_out_3[\"H_tot\"].sum(dim=\"Nc\").mean(dim=\"MC\").values\n",
    "S3_load_LL = MC_out_3[\"H_tot\"].sum(dim=\"Nc\").quantile(0.2,dim=\"MC\").values\n",
    "S3_load_UL = MC_out_3[\"H_tot\"].sum(dim=\"Nc\").quantile(0.8,dim=\"MC\").values"
   ]
  },
  {
   "cell_type": "markdown",
   "metadata": {},
   "source": [
    "## Make a dataframe"
   ]
  },
  {
   "cell_type": "code",
   "execution_count": 31,
   "metadata": {},
   "outputs": [],
   "source": [
    "start_date = datetime.datetime.strptime('15-03-2020', '%d-%m-%Y') - datetime.timedelta(days=samples_dict['lag_time'])\n",
    "index = pd.date_range(start_date, periods=len(MC_out_1[\"time\"].values)).date"
   ]
  },
  {
   "cell_type": "code",
   "execution_count": 32,
   "metadata": {},
   "outputs": [],
   "source": [
    "columns = ['S1_incidences_mean','S1_incidences_LL','S1_incidences_UL','S1_load_mean','S1_load_LL','S1_load_UL','S2_incidences_mean','S2_incidences_LL','S2_incidences_UL','S2_load_mean','S2_load_LL','S2_load_UL','S3_incidences_mean','S3_incidences_LL','S3_incidences_UL','S3_load_mean','S3_load_LL','S3_load_UL']"
   ]
  },
  {
   "cell_type": "code",
   "execution_count": 33,
   "metadata": {},
   "outputs": [],
   "source": [
    "data = np.transpose(np.array([S1_incidences_mean,S1_incidences_LL,S1_incidences_UL,S1_load_mean,S1_load_LL,S1_load_UL,S2_incidences_mean,S2_incidences_LL,S2_incidences_UL,S2_load_mean,S2_load_LL,S2_load_UL,S3_incidences_mean,S3_incidences_LL,S3_incidences_UL,S3_load_mean,S3_load_LL,S3_load_UL]))"
   ]
  },
  {
   "cell_type": "code",
   "execution_count": 34,
   "metadata": {},
   "outputs": [
    {
     "data": {
      "text/html": [
       "<div>\n",
       "<style scoped>\n",
       "    .dataframe tbody tr th:only-of-type {\n",
       "        vertical-align: middle;\n",
       "    }\n",
       "\n",
       "    .dataframe tbody tr th {\n",
       "        vertical-align: top;\n",
       "    }\n",
       "\n",
       "    .dataframe thead th {\n",
       "        text-align: right;\n",
       "    }\n",
       "</style>\n",
       "<table border=\"1\" class=\"dataframe\">\n",
       "  <thead>\n",
       "    <tr style=\"text-align: right;\">\n",
       "      <th></th>\n",
       "      <th>S1_incidences_mean</th>\n",
       "      <th>S1_incidences_LL</th>\n",
       "      <th>S1_incidences_UL</th>\n",
       "      <th>S1_load_mean</th>\n",
       "      <th>S1_load_LL</th>\n",
       "      <th>S1_load_UL</th>\n",
       "      <th>S2_incidences_mean</th>\n",
       "      <th>S2_incidences_LL</th>\n",
       "      <th>S2_incidences_UL</th>\n",
       "      <th>S2_load_mean</th>\n",
       "      <th>S2_load_LL</th>\n",
       "      <th>S2_load_UL</th>\n",
       "      <th>S3_incidences_mean</th>\n",
       "      <th>S3_incidences_LL</th>\n",
       "      <th>S3_incidences_UL</th>\n",
       "      <th>S3_load_mean</th>\n",
       "      <th>S3_load_LL</th>\n",
       "      <th>S3_load_UL</th>\n",
       "    </tr>\n",
       "  </thead>\n",
       "  <tbody>\n",
       "    <tr>\n",
       "      <th>2020-01-23</th>\n",
       "      <td>31.434286</td>\n",
       "      <td>31.434286</td>\n",
       "      <td>31.434286</td>\n",
       "      <td>416.659392</td>\n",
       "      <td>416.659392</td>\n",
       "      <td>416.659392</td>\n",
       "      <td>31.434286</td>\n",
       "      <td>31.434286</td>\n",
       "      <td>31.434286</td>\n",
       "      <td>416.659392</td>\n",
       "      <td>416.659392</td>\n",
       "      <td>416.659392</td>\n",
       "      <td>31.434286</td>\n",
       "      <td>31.434286</td>\n",
       "      <td>31.434286</td>\n",
       "      <td>416.659392</td>\n",
       "      <td>416.659392</td>\n",
       "      <td>416.659392</td>\n",
       "    </tr>\n",
       "    <tr>\n",
       "      <th>2020-01-24</th>\n",
       "      <td>31.649422</td>\n",
       "      <td>31.646280</td>\n",
       "      <td>31.649822</td>\n",
       "      <td>416.122171</td>\n",
       "      <td>416.120933</td>\n",
       "      <td>416.123257</td>\n",
       "      <td>31.655640</td>\n",
       "      <td>31.648117</td>\n",
       "      <td>31.662264</td>\n",
       "      <td>416.121914</td>\n",
       "      <td>416.121015</td>\n",
       "      <td>416.122728</td>\n",
       "      <td>31.673881</td>\n",
       "      <td>31.666629</td>\n",
       "      <td>31.680561</td>\n",
       "      <td>416.123341</td>\n",
       "      <td>416.122352</td>\n",
       "      <td>416.124348</td>\n",
       "    </tr>\n",
       "    <tr>\n",
       "      <th>2020-01-25</th>\n",
       "      <td>31.936174</td>\n",
       "      <td>31.910306</td>\n",
       "      <td>31.964417</td>\n",
       "      <td>415.961132</td>\n",
       "      <td>415.930108</td>\n",
       "      <td>415.995073</td>\n",
       "      <td>31.904161</td>\n",
       "      <td>31.879524</td>\n",
       "      <td>31.930013</td>\n",
       "      <td>415.922583</td>\n",
       "      <td>415.893610</td>\n",
       "      <td>415.952810</td>\n",
       "      <td>31.847736</td>\n",
       "      <td>31.825042</td>\n",
       "      <td>31.869702</td>\n",
       "      <td>415.855909</td>\n",
       "      <td>415.829999</td>\n",
       "      <td>415.881805</td>\n",
       "    </tr>\n",
       "    <tr>\n",
       "      <th>2020-01-26</th>\n",
       "      <td>32.257104</td>\n",
       "      <td>32.183912</td>\n",
       "      <td>32.340390</td>\n",
       "      <td>416.207298</td>\n",
       "      <td>416.080931</td>\n",
       "      <td>416.347603</td>\n",
       "      <td>32.159860</td>\n",
       "      <td>32.085583</td>\n",
       "      <td>32.237863</td>\n",
       "      <td>416.046102</td>\n",
       "      <td>415.924007</td>\n",
       "      <td>416.173421</td>\n",
       "      <td>31.985983</td>\n",
       "      <td>31.919756</td>\n",
       "      <td>32.053600</td>\n",
       "      <td>415.764412</td>\n",
       "      <td>415.656351</td>\n",
       "      <td>415.873433</td>\n",
       "    </tr>\n",
       "    <tr>\n",
       "      <th>2020-01-27</th>\n",
       "      <td>32.662030</td>\n",
       "      <td>32.484153</td>\n",
       "      <td>32.856379</td>\n",
       "      <td>416.921715</td>\n",
       "      <td>416.577957</td>\n",
       "      <td>417.300598</td>\n",
       "      <td>32.441536</td>\n",
       "      <td>32.276398</td>\n",
       "      <td>32.613648</td>\n",
       "      <td>416.489079</td>\n",
       "      <td>416.163273</td>\n",
       "      <td>416.828382</td>\n",
       "      <td>32.062802</td>\n",
       "      <td>31.916098</td>\n",
       "      <td>32.209816</td>\n",
       "      <td>415.740529</td>\n",
       "      <td>415.453367</td>\n",
       "      <td>416.029844</td>\n",
       "    </tr>\n",
       "  </tbody>\n",
       "</table>\n",
       "</div>"
      ],
      "text/plain": [
       "            S1_incidences_mean  S1_incidences_LL  S1_incidences_UL  \\\n",
       "2020-01-23           31.434286         31.434286         31.434286   \n",
       "2020-01-24           31.649422         31.646280         31.649822   \n",
       "2020-01-25           31.936174         31.910306         31.964417   \n",
       "2020-01-26           32.257104         32.183912         32.340390   \n",
       "2020-01-27           32.662030         32.484153         32.856379   \n",
       "\n",
       "            S1_load_mean  S1_load_LL  S1_load_UL  S2_incidences_mean  \\\n",
       "2020-01-23    416.659392  416.659392  416.659392           31.434286   \n",
       "2020-01-24    416.122171  416.120933  416.123257           31.655640   \n",
       "2020-01-25    415.961132  415.930108  415.995073           31.904161   \n",
       "2020-01-26    416.207298  416.080931  416.347603           32.159860   \n",
       "2020-01-27    416.921715  416.577957  417.300598           32.441536   \n",
       "\n",
       "            S2_incidences_LL  S2_incidences_UL  S2_load_mean  S2_load_LL  \\\n",
       "2020-01-23         31.434286         31.434286    416.659392  416.659392   \n",
       "2020-01-24         31.648117         31.662264    416.121914  416.121015   \n",
       "2020-01-25         31.879524         31.930013    415.922583  415.893610   \n",
       "2020-01-26         32.085583         32.237863    416.046102  415.924007   \n",
       "2020-01-27         32.276398         32.613648    416.489079  416.163273   \n",
       "\n",
       "            S2_load_UL  S3_incidences_mean  S3_incidences_LL  \\\n",
       "2020-01-23  416.659392           31.434286         31.434286   \n",
       "2020-01-24  416.122728           31.673881         31.666629   \n",
       "2020-01-25  415.952810           31.847736         31.825042   \n",
       "2020-01-26  416.173421           31.985983         31.919756   \n",
       "2020-01-27  416.828382           32.062802         31.916098   \n",
       "\n",
       "            S3_incidences_UL  S3_load_mean  S3_load_LL  S3_load_UL  \n",
       "2020-01-23         31.434286    416.659392  416.659392  416.659392  \n",
       "2020-01-24         31.680561    416.123341  416.122352  416.124348  \n",
       "2020-01-25         31.869702    415.855909  415.829999  415.881805  \n",
       "2020-01-26         32.053600    415.764412  415.656351  415.873433  \n",
       "2020-01-27         32.209816    415.740529  415.453367  416.029844  "
      ]
     },
     "execution_count": 34,
     "metadata": {},
     "output_type": "execute_result"
    }
   ],
   "source": [
    "df = pd.DataFrame(data,columns=columns,index=index)\n",
    "df.head()"
   ]
  },
  {
   "cell_type": "markdown",
   "metadata": {},
   "source": [
    "## Write output to excel file"
   ]
  },
  {
   "cell_type": "code",
   "execution_count": 35,
   "metadata": {},
   "outputs": [],
   "source": [
    "df.to_csv('../results/FAGG-long-term-predictions/'+datetime.datetime.today().strftime('%Y-%m-%d')+'.csv',index=True)"
   ]
  },
  {
   "cell_type": "code",
   "execution_count": null,
   "metadata": {},
   "outputs": [],
   "source": []
  }
 ],
 "metadata": {
  "kernelspec": {
   "display_name": "Python 3",
   "language": "python",
   "name": "python3"
  },
  "language_info": {
   "codemirror_mode": {
    "name": "ipython",
    "version": 3
   },
   "file_extension": ".py",
   "mimetype": "text/x-python",
   "name": "python",
   "nbconvert_exporter": "python",
   "pygments_lexer": "ipython3",
   "version": "3.8.2"
  },
  "nav_menu": {},
  "toc": {
   "navigate_menu": true,
   "number_sections": true,
   "sideBar": true,
   "threshold": "3",
   "toc_cell": true,
   "toc_section_display": "block",
   "toc_window_display": true
  }
 },
 "nbformat": 4,
 "nbformat_minor": 4
}
