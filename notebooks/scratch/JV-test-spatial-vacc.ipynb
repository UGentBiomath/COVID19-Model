{
 "cells": [
  {
   "cell_type": "code",
   "execution_count": null,
   "metadata": {
    "ExecuteTime": {
     "end_time": "2021-04-06T06:20:32.712148Z",
     "start_time": "2021-04-06T06:20:08.373541Z"
    }
   },
   "outputs": [],
   "source": [
    "# ----------------------\n",
    "# Load required packages\n",
    "# ----------------------\n",
    "import copy\n",
    "import gc\n",
    "import sys, getopt\n",
    "import json as json\n",
    "import random\n",
    "import emcee\n",
    "import datetime\n",
    "import corner\n",
    "import argparse\n",
    "import numpy as np\n",
    "import pandas as pd\n",
    "import matplotlib.pyplot as plt\n",
    "import multiprocessing as mp\n",
    "from multiprocessing import Pool\n",
    "from covid19model.models import models\n",
    "from covid19model.optimization.run_optimization import checkplots, calculate_R0\n",
    "from covid19model.optimization.objective_fcns import prior_custom, prior_uniform\n",
    "from covid19model.data import mobility, sciensano, model_parameters\n",
    "from covid19model.optimization import pso, objective_fcns\n",
    "from covid19model.models.time_dependant_parameter_fncs import ramp_fun\n",
    "from covid19model.visualization.output import _apply_tick_locator \n",
    "from covid19model.visualization.optimization import autocorrelation_plot, traceplot\n",
    "from covid19model.models.time_dependant_parameter_fncs import  make_vaccination_function, vacc_strategy, mobility_update_func\n",
    "from covid19model.models.utils import read_pops, read_coordinates_nis, initial_state\n",
    "\n",
    "\n",
    "# OPTIONAL: Load the \"autoreload\" extension so that package code can change\n",
    "%load_ext autoreload\n",
    "# OPTIONAL: always reload modules so that as you change code in src, it gets loaded\n",
    "%autoreload 2"
   ]
  },
  {
   "cell_type": "code",
   "execution_count": null,
   "metadata": {
    "ExecuteTime": {
     "end_time": "2021-04-01T13:57:02.120232Z",
     "start_time": "2021-04-01T13:57:02.100313Z"
    }
   },
   "outputs": [],
   "source": [
    "import sys\n",
    "sys.path"
   ]
  },
  {
   "cell_type": "markdown",
   "metadata": {},
   "source": [
    "# Data"
   ]
  },
  {
   "cell_type": "code",
   "execution_count": null,
   "metadata": {
    "ExecuteTime": {
     "end_time": "2021-04-06T06:20:34.171167Z",
     "start_time": "2021-04-06T06:20:32.714502Z"
    }
   },
   "outputs": [],
   "source": [
    "# ---------\n",
    "# Load data\n",
    "# ---------\n",
    "\n",
    "# Contact matrices\n",
    "initN, Nc_home, Nc_work, Nc_schools, Nc_transport, Nc_leisure, Nc_others, Nc_total = model_parameters.get_interaction_matrices(dataset='willem_2012')\n",
    "Nc_all = {'total': Nc_total, 'home':Nc_home, 'work': Nc_work, 'schools': Nc_schools, 'transport': Nc_transport, 'leisure': Nc_leisure, 'others': Nc_others}\n",
    "levels = initN.size\n",
    "# Sciensano data\n",
    "df_sciensano = sciensano.get_sciensano_COVID19_data(update=False)\n",
    "# Google Mobility data\n",
    "df_google = mobility.get_google_mobility_data(update=False)\n",
    "# Model initial condition on September 1st\n",
    "warmup = 0\n",
    "with open('../../data/interim/model_parameters/COVID19_SEIRD/calibrations/national/initial_states_2020-09-01.json', 'r') as fp:\n",
    "    initial_states = json.load(fp)  \n",
    "# Samples dictionary\n",
    "with open('../../data/interim/model_parameters/COVID19_SEIRD/calibrations/national/BE_WAVE2_BETA_COMPLIANCE_2021-03-02.json', 'r') as fp:\n",
    "    samples_dict = json.load(fp)"
   ]
  },
  {
   "cell_type": "markdown",
   "metadata": {},
   "source": [
    "# Time-dep fun"
   ]
  },
  {
   "cell_type": "code",
   "execution_count": null,
   "metadata": {
    "ExecuteTime": {
     "end_time": "2021-04-06T06:20:34.253908Z",
     "start_time": "2021-04-06T06:20:34.173289Z"
    }
   },
   "outputs": [],
   "source": [
    "# --------------------------------------\n",
    "# Time-dependant social contact function\n",
    "# --------------------------------------\n",
    "\n",
    "# Extract build contact matrix function\n",
    "from covid19model.models.time_dependant_parameter_fncs import make_contact_matrix_function, ramp_fun\n",
    "contact_matrix_4prev, all_contact, all_contact_no_schools = make_contact_matrix_function(df_google, Nc_all)\n",
    "\n",
    "# Define policy function\n",
    "def policies_wave2(t, states, param, l , tau, prev_schools, prev_work, prev_rest, prev_home, scenario=0, contact_increase=1):\n",
    "    \n",
    "    # Convert tau and l to dates\n",
    "    tau_days = pd.Timedelta(tau, unit='D')\n",
    "    l_days = pd.Timedelta(l, unit='D')\n",
    "\n",
    "    # Define key dates of first wave\n",
    "    t1 = pd.Timestamp('2020-03-15') # start of lockdown\n",
    "    t2 = pd.Timestamp('2020-05-15') # gradual re-opening of schools (assume 50% of nominal scenario)\n",
    "    t3 = pd.Timestamp('2020-07-01') # start of summer holidays\n",
    "    t4 = pd.Timestamp('2020-09-01') # end of summer holidays\n",
    "\n",
    "    # Define key dates of second wave\n",
    "    t5 = pd.Timestamp('2020-10-19') # lockdown (1)\n",
    "    t6 = pd.Timestamp('2020-11-02') # lockdown (2)\n",
    "    t7 = pd.Timestamp('2020-11-16') # schools re-open\n",
    "    t8 = pd.Timestamp('2020-12-18') # Christmas holiday starts\n",
    "    t9 = pd.Timestamp('2021-01-04') # Christmas holiday ends\n",
    "    t10 = pd.Timestamp('2021-02-15') # Spring break starts\n",
    "    t11 = pd.Timestamp('2021-02-21') # Spring break ends\n",
    "    t12 = pd.Timestamp('2021-02-28') # Contact increase in children\n",
    "    if scenario == 0:\n",
    "        # Paasvakantie as is\n",
    "        t13 = pd.Timestamp('2021-04-02') \n",
    "        t14 = pd.Timestamp('2021-04-18') \n",
    "    elif scenario == 1:\n",
    "        # Extend one week before\n",
    "        t13 = pd.Timestamp('2021-03-26') \n",
    "        t14 = pd.Timestamp('2021-04-18')\n",
    "    elif scenario == 2:\n",
    "        # Extend one week after\n",
    "        t13 = pd.Timestamp('2021-04-02') \n",
    "        t14 = pd.Timestamp('2021-04-25')\n",
    "    elif scenario == 3:\n",
    "        # Shift one week\n",
    "        t13 = pd.Timestamp('2021-03-26') \n",
    "        t14 = pd.Timestamp('2021-04-11')\n",
    "    elif scenario == 4:\n",
    "        # No easter holiday\n",
    "        t13 = pd.Timestamp('2021-04-02') \n",
    "        t14 = pd.Timestamp('2021-04-02') \n",
    "    elif scenario == 5:\n",
    "        # Close schools\n",
    "        t13 = pd.Timestamp('2021-04-02') \n",
    "        t14 = pd.Timestamp('2021-06-30') \n",
    "        \n",
    "    t15 = pd.Timestamp('2021-07-01') # Summer holiday starts\n",
    "\n",
    "    t = pd.Timestamp(t.date())\n",
    "    # First wave\n",
    "    if t <= t1:\n",
    "        return all_contact(t)\n",
    "    elif t1 < t < t1 + tau_days:\n",
    "        return all_contact(t)\n",
    "    elif t1 + tau_days < t <= t1 + tau_days + l_days:\n",
    "        policy_old = all_contact(t)\n",
    "        policy_new = contact_matrix_4prev(t, prev_home, prev_schools, prev_work, prev_rest, \n",
    "                                    school=0)\n",
    "        return ramp_fun(policy_old, policy_new, t, tau_days, l, t1)\n",
    "    elif t1 + tau_days + l_days < t <= t2:\n",
    "        return contact_matrix_4prev(t, prev_home, prev_schools, prev_work, prev_rest, \n",
    "                              school=0)\n",
    "    elif t2 < t <= t3:\n",
    "        return contact_matrix_4prev(t, prev_home, prev_schools, prev_work, prev_rest, \n",
    "                              school=0)\n",
    "    elif t3 < t <= t4:\n",
    "        return contact_matrix_4prev(t, school=0)\n",
    "    # Second wave\n",
    "    elif t4 < t <= t5 + tau_days:\n",
    "        return contact_matrix_4prev(t, school=1)\n",
    "    elif t5 + tau_days < t <= t5 + tau_days + l_days:\n",
    "        policy_old = contact_matrix_4prev(t, school=1)\n",
    "        policy_new = contact_matrix_4prev(t, prev_schools, prev_work, prev_rest, \n",
    "                                    school=1)\n",
    "        return ramp_fun(policy_old, policy_new, t, tau_days, l, t5)\n",
    "    elif t5 + tau_days + l_days < t <= t6:\n",
    "        return contact_matrix_4prev(t, prev_home, prev_schools, prev_work, prev_rest, \n",
    "                              school=1)\n",
    "    elif t6 < t <= t7:\n",
    "        return contact_matrix_4prev(t, prev_home, prev_schools, prev_work, prev_rest, \n",
    "                              school=0)\n",
    "    elif t7 < t <= t8:\n",
    "        return contact_matrix_4prev(t, prev_home, prev_schools, prev_work, prev_rest, \n",
    "                              school=1) \n",
    "    elif t8 < t <= t9:\n",
    "        return contact_matrix_4prev(t, prev_home, prev_schools, prev_work, prev_rest, \n",
    "                              school=0)\n",
    "    elif t9 < t <= t10:\n",
    "        return contact_matrix_4prev(t, prev_home, prev_schools, prev_work, prev_rest, \n",
    "                              school=1)\n",
    "    elif t10 < t <= t11:\n",
    "        return contact_matrix_4prev(t, prev_home, prev_schools, prev_work, prev_rest, \n",
    "                              school=0)    \n",
    "    elif t11 < t <= t12:\n",
    "        return contact_matrix_4prev(t, prev_home, prev_schools, prev_work, prev_rest, \n",
    "                              school=1)\n",
    "    elif t12 < t <= t13:\n",
    "        mat = contact_matrix_4prev(t, prev_home, prev_schools, prev_work, prev_rest, school=1)\n",
    "        mat = np.array(mat)\n",
    "        mat[:,0] = (contact_increase+1)*mat[:,0]\n",
    "        mat[:,1] = (contact_increase+1)*mat[:,1]\n",
    "        return mat\n",
    "    elif t13 < t <= t14:\n",
    "        return contact_matrix_4prev(t, prev_home, prev_schools, prev_work, prev_rest, \n",
    "                              school=0) \n",
    "    elif t14 < t <= t15:\n",
    "        return contact_matrix_4prev(t, prev_home, prev_schools, prev_work, prev_rest, \n",
    "                              school=1) \n",
    "    else:\n",
    "        t = pd.Timestamp(t.date())\n",
    "        return contact_matrix_4prev(t, prev_home, prev_schools, prev_work, prev_rest, \n",
    "                              school=0)\n",
    "\n",
    "# ------------------------------\n",
    "# Function to add binomial draws\n",
    "# ------------------------------\n",
    "\n",
    "def add_poisson(state_name, output, n_samples, n_draws_per_sample, UL=1-0.05*0.5, LL=0.05*0.5):\n",
    "    data = output[state_name].sum(dim=\"Nc\").values\n",
    "    # Initialize vectors\n",
    "    vector = np.zeros((data.shape[1],n_draws_per_sample*n_samples))\n",
    "    # Loop over dimension draws\n",
    "    for n in range(data.shape[0]):\n",
    "        binomial_draw = np.random.poisson( np.expand_dims(data[n,:],axis=1),size = (data.shape[1],n_draws_per_sample))\n",
    "        vector[:,n*n_draws_per_sample:(n+1)*n_draws_per_sample] = binomial_draw\n",
    "    # Compute mean and median\n",
    "    mean = np.mean(vector,axis=1)\n",
    "    median = np.median(vector,axis=1)    \n",
    "    # Compute quantiles\n",
    "    LL = np.quantile(vector, q = LL, axis = 1)\n",
    "    UL = np.quantile(vector, q = UL, axis = 1)\n",
    "    return mean, median, LL, UL\n",
    "\n",
    "# -----------------------------------------\n",
    "# Define sampling function with vaccination\n",
    "# -----------------------------------------\n",
    "\n",
    "def draw_fcn_vacc(param_dict,samples_dict):\n",
    "    # Calibrated samples\n",
    "    idx, param_dict['beta'] = random.choice(list(enumerate(samples_dict['beta'])))\n",
    "    param_dict['da'] = samples_dict['da'][idx]\n",
    "    param_dict['omega'] = samples_dict['omega'][idx]\n",
    "    param_dict['sigma'] = 5.2 - samples_dict['omega'][idx]\n",
    "    param_dict['tau'] = samples_dict['tau'][idx] \n",
    "    param_dict['l'] = samples_dict['l'][idx] \n",
    "    param_dict['prev_schools'] = samples_dict['prev_schools'][idx]   \n",
    "    param_dict['prev_home'] = samples_dict['prev_home'][idx]      \n",
    "    param_dict['prev_work'] = samples_dict['prev_work'][idx]       \n",
    "    param_dict['prev_rest'] = samples_dict['prev_rest'][idx]\n",
    "    # Vaccination parameters\n",
    "    param_dict['e_i'] = np.random.uniform(low=0,high=1) # Vaccinated individual can either be non-infectious or equally infectious as a non-vaccinated individual \n",
    "    param_dict['e_s'] = np.random.uniform(low=0.85,high=0.95) # Vaccine results in a 85-95% lower susceptibility\n",
    "    param_dict['e_h'] = np.random.uniform(low=0.5,high=1.0) # Vaccine blocks hospital admission between 50-100%\n",
    "    param_dict['refusal'] = np.random.triangular(0.05, 0.20, 0.40, size=9) # min. refusal = 5%, max. refusal = 40%, expectation = 20%\n",
    "    # Variant parameters\n",
    "    param_dict['K_inf'] = np.random.uniform(low=1.25,high=1.40)\n",
    "    return param_dict"
   ]
  },
  {
   "cell_type": "markdown",
   "metadata": {},
   "source": [
    "# Spatial model"
   ]
  },
  {
   "cell_type": "code",
   "execution_count": null,
   "metadata": {
    "ExecuteTime": {
     "end_time": "2021-04-06T06:20:34.818287Z",
     "start_time": "2021-04-06T06:20:34.255933Z"
    }
   },
   "outputs": [],
   "source": [
    "\n",
    "# Spatial stratification\n",
    "agg = 'arr'\n",
    "\n",
    "# Interaction matrices\n",
    "initN, Nc_home, Nc_work, Nc_schools, Nc_transport, Nc_leisure, Nc_others, Nc_total = \\\n",
    "    model_parameters.get_interaction_matrices(spatial=agg)\n",
    "\n",
    "# Load the parameters using `get_COVID19_SEIRD_parameters()`.\n",
    "params_vacc = model_parameters.get_COVID19_SEIRD_parameters(vaccination=True, spatial=agg)\n",
    "\n",
    "params_vacc.update({'l': 21, 'tau': 21, 'prev_schools': 0, 'prev_work': 0.5, 'prev_rest': 0.5,\n",
    "               'prev_home': 0.5, 'zeta': 8*30})\n",
    "\n",
    "start_date = pd.to_datetime('2020-03-18')\n",
    "\n",
    "\n",
    "# Add parameters for the daily update of mobility\n",
    "params_vacc.update({'agg' : agg,\n",
    "               'default_mobility' : None}) # mobility defaults to average mobility\n",
    "\n",
    "# Add clearly distinct infectivity parameters for demonstration\n",
    "beta_R = 0.0\n",
    "beta_U = 0.0\n",
    "beta_M = 0.035\n",
    "params_vacc.update({'beta_R' : beta_R,\n",
    "               'beta_U' : beta_U,\n",
    "               'beta_M' : beta_M})"
   ]
  },
  {
   "cell_type": "code",
   "execution_count": null,
   "metadata": {
    "ExecuteTime": {
     "end_time": "2021-04-06T07:43:32.185279Z",
     "start_time": "2021-04-06T07:43:31.805409Z"
    }
   },
   "outputs": [],
   "source": [
    "# Initial states: single 30 year old exposed individual in Brussels\n",
    "initE = initial_state(dist=81000, agg=agg, age=40, number=1000) # 1000 40-somethings dropped in Arlon\n",
    "initial_states = {'S': initN, 'E': initE}\n",
    "\n",
    "sciensano_first_dose, df_sciensano_start, df_sciensano_end = make_vaccination_function(df_sciensano)\n",
    "\n",
    "\n",
    "# Add the time-dependant parameter function arguments\n",
    "vacc_order = np.array(range(9))\n",
    "vacc_order = vacc_order[::-1]\n",
    "daily_dose = 30000\n",
    "refusal = 0.3*np.ones(9)\n",
    "delay = 21\n",
    "d_vacc = 12*30 # duration of vaccine protection\n",
    "\n",
    "# Update with additional parameters for social policy function\n",
    "params_vacc.update({'l': 21, 'tau': 21, 'prev_schools': 0, 'prev_work': 0.5, 'prev_rest': 0.5,\n",
    "               'prev_home': 0.5, 'zeta': 8*30, 'contact_increase': 0})\n",
    "# Update with additional parameters for vaccination\n",
    "params_vacc.update(\n",
    "    {'scenario': 0, 'vacc_order': vacc_order, 'daily_dose': daily_dose,\n",
    "     'refusal': refusal, 'delay': delay, 'df_sciensano_start': df_sciensano_start,\n",
    "     'df_sciensano_end': df_sciensano_end, 'sciensano_first_dose': sciensano_first_dose}\n",
    ")\n",
    "\n",
    "# Initiate model with initial states, defined parameters, and lockdown_func determining the evolution of Nc\n",
    "model_vacc = models.COVID19_SEIRD_spatial_vacc(initial_states, params_vacc, time_dependent_parameters = \\\n",
    "                                           {'Nc' : policies_wave2, 'place' : mobility_update_func, 'N_vacc': vacc_strategy}, spatial=agg)\n"
   ]
  },
  {
   "cell_type": "code",
   "execution_count": null,
   "metadata": {
    "ExecuteTime": {
     "end_time": "2021-04-06T07:43:32.245347Z",
     "start_time": "2021-04-06T07:43:32.187528Z"
    }
   },
   "outputs": [],
   "source": [
    "# --------------------------\n",
    "# Initialize the new variant\n",
    "# --------------------------\n",
    "start_sim = '2020-09-01'\n",
    "K_inf = 1.30\n",
    "K_hosp = 1.00\n",
    "Re_1feb = 0.958*K_inf\n",
    "incubation_period = 5.2\n",
    "n_periods = 14/incubation_period\n",
    "\n",
    "model_vacc.parameters.update({'K_inf': K_inf,\n",
    "                              'K_hosp': K_hosp,\n",
    "                              'injection_day': (pd.Timestamp('2021-01-14') - pd.Timestamp(start_sim))/pd.Timedelta('1D'),\n",
    "                              'injection_ratio': (K_inf-1)/(Re_1feb**n_periods)})"
   ]
  },
  {
   "cell_type": "code",
   "execution_count": null,
   "metadata": {
    "ExecuteTime": {
     "end_time": "2021-04-06T10:52:31.153847Z",
     "start_time": "2021-04-06T07:44:06.150745Z"
    }
   },
   "outputs": [],
   "source": [
    "end_sim = '2021-09-01'\n",
    "start_sim = pd.to_datetime('2020-01-01')\n",
    "out = model_vacc.sim(end_sim, start_date=start_sim)"
   ]
  }
 ],
 "metadata": {
  "kernelspec": {
   "display_name": "Python 3",
   "language": "python",
   "name": "python3"
  },
  "language_info": {
   "codemirror_mode": {
    "name": "ipython",
    "version": 3
   },
   "file_extension": ".py",
   "mimetype": "text/x-python",
   "name": "python",
   "nbconvert_exporter": "python",
   "pygments_lexer": "ipython3",
   "version": "3.8.2"
  },
  "toc": {
   "base_numbering": 1,
   "nav_menu": {},
   "number_sections": true,
   "sideBar": true,
   "skip_h1_title": false,
   "title_cell": "Table of Contents",
   "title_sidebar": "Contents",
   "toc_cell": false,
   "toc_position": {},
   "toc_section_display": true,
   "toc_window_display": false
  }
 },
 "nbformat": 4,
 "nbformat_minor": 4
}
