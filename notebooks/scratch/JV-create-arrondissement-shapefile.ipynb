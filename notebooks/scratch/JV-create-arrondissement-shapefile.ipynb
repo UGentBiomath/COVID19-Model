{
 "cells": [
  {
   "cell_type": "code",
   "execution_count": null,
   "metadata": {},
   "outputs": [],
   "source": [
    "import pandas as pd\n",
    "import numpy as np\n",
    "%matplotlib inline\n",
    "import matplotlib.pyplot as plt\n",
    "import matplotlib\n",
    "import matplotlib.patches as mpatches\n",
    "import os\n",
    "import glob\n",
    "import json\n",
    "import geopandas as gp\n",
    "import matplotlib.pyplot as plt\n"
   ]
  },
  {
   "cell_type": "code",
   "execution_count": null,
   "metadata": {},
   "outputs": [],
   "source": [
    "# Create arrondissements shapefile\n",
    "gemeentes = gp.read_file(\"../../data/raw/geopandas/BE/AD_2_Municipality.shp\")\n",
    "gemeentes['short_nis'] = gemeentes.NISCode.apply(lambda x: str(x)[:2])\n",
    "# select the columns that you with to use for the dissolve and that will be retained\n",
    "gemeentes_new = gemeentes[['short_nis','geometry']]\n",
    "# dissolve the boundaries by arrondissement \n",
    "arrondissementen = gemeentes_new.dissolve(by='short_nis').reset_index()\n",
    "arrondissementen['NIS'] = arrondissementen.short_nis.apply(lambda x: x+'000')\n",
    "arrondissementen = arrondissementen[['NIS','geometry']]\n",
    "arrondissementen.to_file('../../data/raw/geopandas/BE/Arrondissements.shp')"
   ]
  }
 ],
 "metadata": {
  "kernelspec": {
   "display_name": "Python 3",
   "language": "python",
   "name": "python3"
  },
  "language_info": {
   "codemirror_mode": {
    "name": "ipython",
    "version": 3
   },
   "file_extension": ".py",
   "mimetype": "text/x-python",
   "name": "python",
   "nbconvert_exporter": "python",
   "pygments_lexer": "ipython3",
   "version": "3.8.2"
  },
  "toc": {
   "base_numbering": 1,
   "nav_menu": {},
   "number_sections": true,
   "sideBar": true,
   "skip_h1_title": false,
   "title_cell": "Table of Contents",
   "title_sidebar": "Contents",
   "toc_cell": false,
   "toc_position": {},
   "toc_section_display": true,
   "toc_window_display": false
  }
 },
 "nbformat": 4,
 "nbformat_minor": 4
}
