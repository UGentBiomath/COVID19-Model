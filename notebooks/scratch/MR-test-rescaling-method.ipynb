{
 "cells": [
  {
   "cell_type": "code",
   "execution_count": 1,
   "id": "9eb65236",
   "metadata": {
    "ExecuteTime": {
     "end_time": "2022-03-09T12:56:38.180373Z",
     "start_time": "2022-03-09T12:56:35.177695Z"
    }
   },
   "outputs": [],
   "source": [
    "############################\n",
    "## Load required packages ##\n",
    "############################\n",
    "\n",
    "import numpy as np\n",
    "import pandas as pd\n",
    "import matplotlib.pyplot as plt\n",
    "\n",
    "from covid19model.models.models import COVID19_SEIQRD_spatial_stratified_rescaling, jit_main_function_spatial\n",
    "from covid19model.models.utils import initialize_COVID19_SEIQRD_stratified_vacc\n",
    "\n",
    "# Import time-dependent parameter functions for resp. P, Nc, alpha, N_vacc, season_factor\n",
    "from covid19model.models.time_dependant_parameter_fncs import make_mobility_update_function, \\\n",
    "                                                          make_contact_matrix_function, \\\n",
    "                                                          make_VOC_function, \\\n",
    "                                                          make_vaccination_rescaling_function, \\\n",
    "                                                          make_seasonality_function_NEW\n",
    "\n",
    "# Import packages containing functions to load in data used in the model and the time-dependent parameter functions\n",
    "from covid19model.data import mobility, sciensano, model_parameters, VOC"
   ]
  },
  {
   "cell_type": "code",
   "execution_count": 2,
   "id": "5feb51b1",
   "metadata": {
    "ExecuteTime": {
     "end_time": "2022-03-09T12:56:51.792133Z",
     "start_time": "2022-03-09T12:56:51.159773Z"
    }
   },
   "outputs": [
    {
     "name": "stdout",
     "output_type": "stream",
     "text": [
      "\n",
      "INSTALLED VERSIONS\n",
      "------------------\n",
      "commit           : 5f648bf1706dd75a9ca0d29f26eadfbb595fe52b\n",
      "python           : 3.7.3.final.0\n",
      "python-bits      : 64\n",
      "OS               : Windows\n",
      "OS-release       : 10\n",
      "Version          : 10.0.19041\n",
      "machine          : AMD64\n",
      "processor        : Intel64 Family 6 Model 158 Stepping 13, GenuineIntel\n",
      "byteorder        : little\n",
      "LC_ALL           : None\n",
      "LANG             : None\n",
      "LOCALE           : None.None\n",
      "\n",
      "pandas           : 1.3.2\n",
      "numpy            : 1.19.1\n",
      "pytz             : 2021.3\n",
      "dateutil         : 2.8.2\n",
      "pip              : 21.2.4\n",
      "setuptools       : 49.6.0\n",
      "Cython           : 0.29.25\n",
      "pytest           : 6.2.5\n",
      "hypothesis       : None\n",
      "sphinx           : 4.4.0\n",
      "blosc            : None\n",
      "feather          : None\n",
      "xlsxwriter       : 3.0.2\n",
      "lxml.etree       : 4.8.0\n",
      "html5lib         : 1.1\n",
      "pymysql          : None\n",
      "psycopg2         : None\n",
      "jinja2           : 2.11.3\n",
      "IPython          : 7.31.1\n",
      "pandas_datareader: None\n",
      "bs4              : 4.10.0\n",
      "bottleneck       : 1.3.2\n",
      "fsspec           : 2022.01.0\n",
      "fastparquet      : None\n",
      "gcsfs            : None\n",
      "matplotlib       : 3.5.1\n",
      "numexpr          : 2.8.1\n",
      "odfpy            : None\n",
      "openpyxl         : 3.0.9\n",
      "pandas_gbq       : None\n",
      "pyarrow          : None\n",
      "pyxlsb           : None\n",
      "s3fs             : None\n",
      "scipy            : 1.5.2\n",
      "sqlalchemy       : 1.4.27\n",
      "tables           : 3.6.1\n",
      "tabulate         : None\n",
      "xarray           : 0.16.0\n",
      "xlrd             : 2.0.1\n",
      "xlwt             : 1.3.0\n",
      "numba            : 0.53.0\n"
     ]
    }
   ],
   "source": [
    "pd.show_versions()"
   ]
  },
  {
   "cell_type": "code",
   "execution_count": null,
   "id": "6b2fe474",
   "metadata": {
    "ExecuteTime": {
     "end_time": "2022-03-09T12:24:02.829018Z",
     "start_time": "2022-03-09T12:24:00.984704Z"
    }
   },
   "outputs": [],
   "source": [
    "#########################\n",
    "## Load necessary data ##\n",
    "#########################\n",
    "\n",
    "# Population size, interaction matrices and the model parameters\n",
    "initN, Nc_dict, params, CORE_samples_dict = model_parameters.get_COVID19_SEIQRD_parameters(spatial='prov')\n",
    "\n",
    "# Google Mobility data (for social contact Nc)\n",
    "df_google = mobility.get_google_mobility_data(update=False, provincial=True)\n",
    "\n",
    "# Load and format mobility dataframe (for mobility place)\n",
    "proximus_mobility_data = mobility.get_proximus_mobility_data('prov')\n",
    "\n",
    "# Variants of concern\n",
    "VOCs = ['WT', 'abc', 'delta']\n",
    "VOC_logistic_growth_parameters, VOC_params = model_parameters.get_COVID19_SEIQRD_VOC_parameters(initN, params['h'], VOCs=VOCs)\n",
    "params.update(VOC_params)\n",
    "\n",
    "# Load and format local vaccination-induced rescaling data, which is also under the sciensano object\n",
    "rescaling_df = sciensano.get_vaccination_rescaling_values(spatial=True)"
   ]
  },
  {
   "cell_type": "code",
   "execution_count": null,
   "id": "642eaad1",
   "metadata": {
    "ExecuteTime": {
     "end_time": "2022-03-09T12:22:39.507288Z",
     "start_time": "2022-03-09T12:22:39.492328Z"
    }
   },
   "outputs": [],
   "source": [
    "# Delete parameters that are superfluous for the new approach\n",
    "\n",
    "superfluous_params = ['f_immune_escape', 'e_s', 'e_h', 'e_i', 'doses', 'd_vacc', 'N_vacc', 'daily_doses', 'delay_immunity', 'vacc_order', 'stop_idx', 'refusal', 'initN', 'default_mobility', 'onset_days']\n",
    "for key in superfluous_params:\n",
    "    if key in params:\n",
    "        params.pop(key)\n",
    "        \n",
    "# Add new parameters (these will be time-dependent soon)\n",
    "params['E_susc'] = np.ones([11, 10])\n",
    "params['E_inf'] = np.ones([11, 10])\n",
    "params['E_hosp'] = np.ones([11, 10])\n",
    "\n",
    "# Add seasonality parameter\n",
    "params['seasonality'] = 1"
   ]
  },
  {
   "cell_type": "code",
   "execution_count": null,
   "id": "9db77f80",
   "metadata": {
    "ExecuteTime": {
     "end_time": "2022-03-09T12:22:41.281398Z",
     "start_time": "2022-03-09T12:22:41.256463Z"
    }
   },
   "outputs": [],
   "source": [
    "##################################################\n",
    "## Construct time-dependent parameter functions ##\n",
    "##################################################\n",
    "\n",
    "# Time-dependent social contact matrix over all policies, updating Nc\n",
    "policy_function = make_contact_matrix_function(df_google, Nc_dict).policies_all_spatial\n",
    "policy_function_work = make_contact_matrix_function(df_google, Nc_dict).policies_all_work_only\n",
    "\n",
    "# Time-dependent mobility function, updating P (place)\n",
    "mobility_function = \\\n",
    "    make_mobility_update_function(proximus_mobility_data).mobility_wrapper_func\n",
    "\n",
    "# Time-dependent VOC function, updating alpha\n",
    "VOC_function = make_VOC_function(VOC_logistic_growth_parameters)\n",
    "\n",
    "# Time-dependent vaccination-induced rescaling parameter functions, updating E_susc^g, E_inf^g, E_hosp^g\n",
    "E_susc_function = make_vaccination_rescaling_function(rescaling_df).E_susc\n",
    "E_inf_function = make_vaccination_rescaling_function(rescaling_df).E_inf\n",
    "E_hosp_function = make_vaccination_rescaling_function(rescaling_df).E_hosp\n",
    "\n",
    "# Time-dependent seasonality function, updating season_factor\n",
    "seasonality_function = make_seasonality_function_NEW()"
   ]
  },
  {
   "cell_type": "code",
   "execution_count": null,
   "id": "324f3630",
   "metadata": {
    "ExecuteTime": {
     "end_time": "2022-03-09T12:56:23.511578Z",
     "start_time": "2022-03-09T12:56:23.409691Z"
    }
   },
   "outputs": [],
   "source": [
    "proximus_mobility_data[proximus_mobility_data.index.dayofweek < 5]['place'][pd.Timestamp(2021, 5, 1):pd.Timestamp(2021, 6, 30)].mean()"
   ]
  },
  {
   "cell_type": "code",
   "execution_count": null,
   "id": "258adb0c",
   "metadata": {
    "ExecuteTime": {
     "end_time": "2022-03-09T12:22:42.835383Z",
     "start_time": "2022-03-09T12:22:42.826406Z"
    }
   },
   "outputs": [],
   "source": [
    "####################\n",
    "## Initial states ##\n",
    "####################\n",
    "\n",
    "import pickle\n",
    "data_path = \"../../data/\"\n",
    "\n",
    "# Get correct initial condition\n",
    "samples_path = data_path + 'interim/model_parameters/COVID19_SEIQRD/initial_conditions/prov/'\n",
    "\n",
    "with open(samples_path+'initial_states-COVID19_SEIQRD_spatial.pickle', 'rb') as handle:\n",
    "    load = pickle.load(handle)\n",
    "    initial_states = load['2020-03-17']"
   ]
  },
  {
   "cell_type": "code",
   "execution_count": null,
   "id": "96231583",
   "metadata": {
    "ExecuteTime": {
     "end_time": "2022-03-09T12:22:45.840657Z",
     "start_time": "2022-03-09T12:22:44.303761Z"
    }
   },
   "outputs": [],
   "source": [
    "##########################\n",
    "## Initialize the model ##\n",
    "##########################\n",
    "\n",
    "# Initiate model with initial states, defined parameters, and proper time dependent functions\n",
    "model = COVID19_SEIQRD_spatial_stratified_rescaling(initial_states, params, spatial='prov',\n",
    "                        time_dependent_parameters={'Nc' : policy_function,\n",
    "                                                'Nc_work' : policy_function_work,\n",
    "                                                'place' : mobility_function,\n",
    "                                                'f_VOC' : VOC_function,\n",
    "                                                'E_susc' : E_susc_function,\n",
    "                                                'E_inf' : E_inf_function,\n",
    "                                                'E_hosp' : E_hosp_function,\n",
    "                                                'seasonality' : seasonality_function})\n",
    "\n",
    "# model = COVID19_SEIQRD_spatial_stratified_rescaling(initial_states, params, spatial='prov',\n",
    "#                         time_dependent_parameters={'Nc' : policy_function,\n",
    "#                                                 'Nc_work' : policy_function_work,\n",
    "#                                                 'place' : mobility_function,\n",
    "#                                                 'f_VOC' : VOC_function,\n",
    "#                                                 'seasonality' : seasonality_function})"
   ]
  },
  {
   "cell_type": "code",
   "execution_count": null,
   "id": "3ed84103",
   "metadata": {
    "ExecuteTime": {
     "end_time": "2022-03-09T12:23:19.315591Z",
     "start_time": "2022-03-09T12:22:47.490347Z"
    }
   },
   "outputs": [],
   "source": [
    "###################\n",
    "## Run the model ##\n",
    "###################\n",
    "end_visualization = '2022-06-01'\n",
    "start_calibration = '2020-03-18'\n",
    "warmup = 0\n",
    "out = model.sim(end_visualization,start_date=start_calibration,warmup=warmup)\n",
    "\n",
    "# Difference between JIT and simplistic (non-JIT) looping: factor 6\n",
    "# Difference between rescaling TDPF and no rescaling TDPF: almost nothing"
   ]
  },
  {
   "cell_type": "code",
   "execution_count": null,
   "id": "6fa211a0",
   "metadata": {
    "ExecuteTime": {
     "end_time": "2022-03-09T12:23:27.658155Z",
     "start_time": "2022-03-09T12:23:27.482539Z"
    }
   },
   "outputs": [],
   "source": [
    "out['H_in'].sum(dim='Nc').sum(dim='place').plot()\n",
    "\n",
    "# out['H_in'].sel(time=pd.Timestamp(2022, 1, 1)).sum(dim='Nc').sum(dim='place')"
   ]
  },
  {
   "cell_type": "code",
   "execution_count": null,
   "id": "7184ba13",
   "metadata": {
    "ExecuteTime": {
     "end_time": "2022-03-08T17:08:23.515404Z",
     "start_time": "2022-03-08T17:08:23.503435Z"
    }
   },
   "outputs": [],
   "source": [
    "E_hosp_function(pd.Timestamp(2021, 1, 1), 0, 0)"
   ]
  },
  {
   "cell_type": "code",
   "execution_count": null,
   "id": "747d2d13",
   "metadata": {
    "ExecuteTime": {
     "end_time": "2022-03-08T16:23:15.997996Z",
     "start_time": "2022-03-08T16:23:15.997996Z"
    }
   },
   "outputs": [],
   "source": [
    "# df_test.groupby(['date', 'NIS', 'age', 'dose']).first().loc[:,80000, pd.Interval(45,55,closed='left'), 'weighted_sum']['E_hosp'].plot()\n",
    "\n",
    "first_name = 'weighted_'\n",
    "name = 'sum'\n",
    "df_test.groupby(['date', 'NIS', 'age', 'dose']).first().loc[:,80000, pd.Interval(45,55,closed='left'), f'{first_name}{name}']"
   ]
  },
  {
   "cell_type": "code",
   "execution_count": null,
   "id": "28ab9203",
   "metadata": {
    "ExecuteTime": {
     "end_time": "2022-03-08T16:23:15.999009Z",
     "start_time": "2022-03-08T16:23:15.999009Z"
    }
   },
   "outputs": [],
   "source": [
    "# df_test2 = df_test.groupby(['date', 'NIS', 'age', 'dose']).first()\n",
    "# df_test2.loc[('2020-12-28',10000,pd.Interval(0,12,closed='left'), 'weighted_sum'), 'E_susc'] = (df_test2.loc[('2020-12-28',10000,pd.Interval(0,12,closed='left')), 'E_susc'] * df_test2.loc[('2020-12-28',10000,pd.Interval(0,12,closed='left')), 'fraction']).sum()\n",
    "# df_test2.groupby(['date', 'NIS', 'age', 'dose']).first()\n",
    "\n",
    "initN, Nc_dict, params, CORE_samples_dict = model_parameters.get_COVID19_SEIQRD_parameters(spatial='prov')"
   ]
  },
  {
   "cell_type": "code",
   "execution_count": null,
   "id": "3cc8aad3",
   "metadata": {
    "ExecuteTime": {
     "end_time": "2022-03-07T15:26:27.166068Z",
     "start_time": "2022-03-07T15:26:27.166068Z"
    }
   },
   "outputs": [],
   "source": [
    "def waning_exp_delay(days, onset_days, E_init, E_best, E_waned):\n",
    "    \"\"\"\n",
    "    Function that implements time-dependence of vaccine effect.\n",
    "\n",
    "    Input\n",
    "    -----\n",
    "    days : float\n",
    "        number of days after the novel vaccination\n",
    "    onset_days : float\n",
    "        number of days it takes for the vaccine to take full effect\n",
    "    E_init : float\n",
    "        vaccine-related rescaling value right before vaccination\n",
    "    E_best : float\n",
    "        rescaling value related to the best possible protection by the currently injected vaccine\n",
    "    E_waned : float\n",
    "        rescaling value related to the vaccine protection after a waning period.\n",
    "\n",
    "    Output\n",
    "    ------\n",
    "    E_eff : float\n",
    "        effective rescaling value associated with the newly administered vaccine\n",
    "\n",
    "    \"\"\"\n",
    "    waning_days = 183 # hard-coded to half a year\n",
    "    if days <= 0:\n",
    "        return E_init\n",
    "    elif days < onset_days:\n",
    "        E_eff = (E_best - E_init)/onset_days*days + E_init\n",
    "        return E_eff\n",
    "    else:\n",
    "        if E_best == E_waned:\n",
    "            return E_best\n",
    "        halftime_days = waning_days - onset_days\n",
    "        A = 1-E_best\n",
    "        beta = -np.log((1-E_waned)/A)/halftime_days\n",
    "        E_eff = -A*np.exp(-beta*(days-onset_days))+1\n",
    "    return E_eff"
   ]
  },
  {
   "cell_type": "code",
   "execution_count": null,
   "id": "762fc828",
   "metadata": {
    "ExecuteTime": {
     "end_time": "2022-03-07T15:26:27.166068Z",
     "start_time": "2022-03-07T15:26:27.166068Z"
    }
   },
   "outputs": [],
   "source": [
    "def E_eff_func(df_inc, onset_days, E_init, E_best, E_waned):\n",
    "    \"\"\"\n",
    "    Currently implemented for weekly data. Creates DataFrame with rescaling values for one particular VOC.\n",
    "    \n",
    "    Input\n",
    "    -----\n",
    "    \n",
    "    t : pd.Timestamp\n",
    "        Time at which we want to know the effective rescaling factor\n",
    "    df_inc : pd.DataFrame\n",
    "        DataFrame containing all incidence data. Output from df_inc = make_vaccination_function(vacc_data['INCIDENCE']).df\n",
    "    onset_days : dict\n",
    "        dict containing onset_days values for any rescaling type {'E_susc', 'E_inf', 'E_hosp'} and every vaccine stage {'first', 'full', 'booster'}\n",
    "    E_init : dict\n",
    "        dict containing initial rescaling values for any rescaling type {'E_susc', 'E_inf', 'E_hosp'} and every vaccine stage {'first', 'full', 'booster'}\n",
    "    E_best : dict\n",
    "        dict containing best rescaling values for any rescaling type {'E_susc', 'E_inf', 'E_hosp'} and every vaccine stage {'first', 'full', 'booster'}\n",
    "    E_waned : dict\n",
    "        dict containing waned rescaling values for any rescaling type {'E_susc', 'E_inf', 'E_hosp'} and every vaccine stage {'first', 'full', 'booster'}\n",
    "    \n",
    "    Output\n",
    "    ------\n",
    "    E_eff : np.array\n",
    "        effective rescaling factor associated with a particular VOC type and a particular vaccination dose. Dimensions [G,N]\n",
    "    \"\"\"\n",
    "    \n",
    "    ### Make proper DataFrame\n",
    "    # Rename column headers\n",
    "    df_inc = df_inc.rename(index={'A' : 'first', 'B' : 'full', 'C' : 'janssen', 'E' : 'booster'})\n",
    "    df_inc = df_inc.reset_index().set_index('date').rename(columns={0 : 'INCIDENCE'})\n",
    "    \n",
    "    # Add Janssen vaccins to full dose and delete Janssen vaccins\n",
    "    df_inc.loc[df_inc['dose']=='full', 'INCIDENCE'] += df_inc.loc[df_inc['dose']=='janssen', 'INCIDENCE']\n",
    "    df_inc = df_inc.groupby(['date','NIS','age', 'dose']).first().drop(index='janssen', level=3)\n",
    "    \n",
    "    # Add column with cumulative values\n",
    "    df_inc['CUMULATIVE'] = df_inc.groupby(level=[1,2,3]).cumsum()\n",
    "    \n",
    "    ### Create column with rescaling value calculated from cum and inc values\n",
    "    \n",
    "    # initialise\n",
    "    df_inc['E_susc'] = 0\n",
    "    df_inc['E_inf'] = 0\n",
    "    df_inc['E_hosp'] = 0\n",
    "\n",
    "    # \n",
    "    df_inc = df_inc.reset_index()\n",
    "    all_available_dates = df_inc.date.unique()\n",
    "    df_inc = df_inc.set_index(['date', 'dose']).sort_index()\n",
    "    for rescaling in ['E_susc', 'E_inf', 'E_hosp']:\n",
    "        for dose in ['first', 'full', 'booster']:\n",
    "            # Calculate E values for this rescaling type and dose\n",
    "            onset_days_temp = onset_days[rescaling][dose]\n",
    "            E_init_temp = E_init[rescaling][dose]\n",
    "            E_best_temp = E_best[rescaling][dose]\n",
    "            E_waned_temp = E_waned[rescaling][dose]\n",
    "            for date in all_available_dates:\n",
    "                # run over all dates before this date\n",
    "                for d in all_available_dates[all_available_dates<=date]:\n",
    "                    # Calculate how many days there are in between\n",
    "                    delta_days = pd.Timedelta(date - d).days\n",
    "                    # Sum over previous days with a weight depending on incidence, dose type, and waning of vaccines\n",
    "                    weight = waning_exp_delay(delta_days, onset_days_temp, E_init_temp, E_best_temp, E_waned_temp)\n",
    "                    df_inc.loc[(date, dose), rescaling] += df_inc.loc[(d, dose),'INCIDENCE'].to_numpy() * weight\n",
    "                # normalise over total number of vaccinated subjects up to that point\n",
    "                df_inc.loc[(date,dose), rescaling] /= df_inc.loc[(date,dose), 'CUMULATIVE']\n",
    "        # Get rid of all division-by-zero results\n",
    "        df_inc.loc[df_inc[rescaling]==np.inf, rescaling] = 1\n",
    "        df_inc[rescaling].fillna(1, inplace=True)\n",
    "    \n",
    "    return df_inc\n",
    "\n",
    "# test values\n",
    "onset_days = dict({'E_susc' : {'first' : 14, 'full' : 14, 'booster' : 14},\n",
    "               'E_inf' : {'first' : 14, 'full' : 14, 'booster' : 14},\n",
    "               'E_hosp' : {'first' : 14, 'full' : 14, 'booster' : 14}})\n",
    "# E_init is the value of the previous waned vaccine\n",
    "E_init = dict({'E_susc' : {'first' : 1, 'full' : 0.8, 'booster' : 0.4},\n",
    "               'E_inf' : {'first' : 1, 'full' : 0.5, 'booster' : 0.6},\n",
    "               'E_hosp' : {'first' : 1, 'full' : 0.4, 'booster' : 0.5}})\n",
    "E_best = dict({'E_susc' : {'first' : 0.4, 'full' : 0.3, 'booster' : 0.3},\n",
    "               'E_inf' : {'first' : 0.5, 'full' : 0.4, 'booster' : 0.4},\n",
    "               'E_hosp' : {'first' : 0.2, 'full' : 0.1, 'booster' : 0.1}})\n",
    "E_waned = dict({'E_susc' : {'first' : 0.4, 'full' : 0.5, 'booster' : 0.3},\n",
    "               'E_inf' : {'first' : 0.5, 'full' : 0.6, 'booster' : 0.4},\n",
    "               'E_hosp' : {'first' : 0.2, 'full' : 0.2, 'booster' : 0.1}})\n",
    "\n",
    "df_result = E_eff_func(0, df_inc, onset_days, E_init, E_best, E_waned)"
   ]
  },
  {
   "cell_type": "code",
   "execution_count": null,
   "id": "9a00c76e",
   "metadata": {
    "ExecuteTime": {
     "end_time": "2022-03-07T15:26:27.167092Z",
     "start_time": "2022-03-07T15:26:27.167092Z"
    }
   },
   "outputs": [],
   "source": [
    "# df_result.loc[:,'booster',10000, pd.Interval(45,55,closed='left')]['E_hosp']\n",
    "# df_result.groupby(['date', 'dose', 'NIS', 'age']).first().loc[:,'booster', 10000, pd.Interval(45,55,closed='left')]['E_hosp'].plot()\n",
    "\n",
    "df_result.groupby(['date', 'NIS', 'age', 'dose']).first()"
   ]
  },
  {
   "cell_type": "code",
   "execution_count": null,
   "id": "27b4826a",
   "metadata": {
    "ExecuteTime": {
     "end_time": "2022-03-07T15:26:27.168062Z",
     "start_time": "2022-03-07T15:26:27.168062Z"
    }
   },
   "outputs": [],
   "source": [
    "df_temp = E_eff_func(0, df_inc, 0, 0)\n",
    "df_temp = df_temp.reset_index().set_index(['date', 'dose'])\n",
    "df_temp.loc[('2020-12-28', 'booster'), 'E_inf'] = 1\n",
    "df_temp"
   ]
  },
  {
   "cell_type": "code",
   "execution_count": null,
   "id": "34dd44ad",
   "metadata": {
    "ExecuteTime": {
     "end_time": "2022-03-07T15:26:27.169060Z",
     "start_time": "2022-03-07T15:26:27.169060Z"
    }
   },
   "outputs": [],
   "source": [
    "# case 1: cumsum = 0, so value doesn't contribute in overall sum. Return 1 (won't contribute)\n",
    "\n",
    "# case 2: cumsum != 0, so value does contribute, weighted by how many subjects have been vaccinated yet\n",
    "\n",
    "    \n",
    "# df_cum_new = df_inc_new.groupby(level=[1,2,3]).cumsum()\n",
    "\n",
    "# dates = df_inc_new.reset_index().date.unique()\n",
    "# date = pd.Timestamp('2021, 05, 10')\n",
    "# for d in dates[dates<=date]:\n",
    "\n",
    "df_inc_temp = E_eff_func(0, df_inc, 0, 0)\n",
    "df_new = df_inc_temp.reset_index()\n",
    "all_available_dates = df_new.date.unique()\n",
    "df_new = df_new.set_index(['date', 'dose'])\n",
    "for rescaling in ['E_susc', 'E_inf', 'E_hosp']:\n",
    "    for dose in ['first', 'full', 'booster']:\n",
    "        for date in all_available_dates:\n",
    "            # run over all dates before this date\n",
    "            for d in dates[dates<=date]:\n",
    "                # Calculate how many days there are in between\n",
    "                delta_days = pd.Timedelta(date - d).days\n",
    "                # Sum over previous days with a weight depending on incidence, dose type, and waning of vaccines\n",
    "                df_new.loc[(date, dose), rescaling] += df_new.loc[(d, dose),'INCIDENCE'].to_numpy() * waning_exp_delay(delta_days, 21, 0.8, 0.2, 0.5)\n",
    "            # normalise over total number of vaccinated subjects up to that point\n",
    "            df_new.loc[(date,dose), rescaling] /= df_new.loc[(date,dose), 'CUMULATIVE']\n",
    "    # Get rid of all division-by-zero results\n",
    "    df_new.loc[df_new[rescaling]==np.inf, rescaling] = 1\n",
    "    df_new[rescaling].fillna(1, inplace=True)\n",
    "df_new"
   ]
  },
  {
   "cell_type": "code",
   "execution_count": null,
   "id": "8ac04d6a",
   "metadata": {
    "ExecuteTime": {
     "end_time": "2022-03-07T15:26:27.169060Z",
     "start_time": "2022-03-07T15:26:27.169060Z"
    }
   },
   "outputs": [],
   "source": [
    "df_temppp = df_new.drop(columns=['INCIDENCE', 'CUMULATIVE'])\n",
    "df_temppp = df_temppp.reset_index().set_index(['date', 'NIS', 'age', 'dose'])\n",
    "df_temppp.loc[:,10000, pd.Interval(45,55,closed='left'), 'booster']['E_susc'].plot()"
   ]
  },
  {
   "cell_type": "code",
   "execution_count": null,
   "id": "80fc167f",
   "metadata": {
    "ExecuteTime": {
     "end_time": "2022-03-07T15:26:27.170057Z",
     "start_time": "2022-03-07T15:26:27.170057Z"
    }
   },
   "outputs": [],
   "source": [
    "# df_new.loc[:, 10000, pd.Interval(25,35), 'full']\n",
    "\n",
    "# df_new['E'].fillna(1, inplace=True)\n",
    "df_new.groupby(['date', 'NIS', 'age', 'dose']).first().loc[:, 10000, pd.Interval(25,35,closed='left'), 'full']['E'].plot()"
   ]
  },
  {
   "cell_type": "code",
   "execution_count": null,
   "id": "c042ddc8",
   "metadata": {
    "ExecuteTime": {
     "end_time": "2022-03-07T15:26:27.171081Z",
     "start_time": "2022-03-07T15:26:27.171081Z"
    }
   },
   "outputs": [],
   "source": [
    "df_new = df_new.groupby(['date', 'NIS', 'age', 'dose']).first()\n",
    "\n",
    "df_new"
   ]
  },
  {
   "cell_type": "code",
   "execution_count": null,
   "id": "458bb532",
   "metadata": {
    "ExecuteTime": {
     "end_time": "2022-03-01T20:38:56.819851Z",
     "start_time": "2022-03-01T20:38:56.790656Z"
    }
   },
   "outputs": [],
   "source": []
  },
  {
   "cell_type": "code",
   "execution_count": null,
   "id": "713d4d1a",
   "metadata": {
    "ExecuteTime": {
     "end_time": "2022-03-07T15:26:27.172052Z",
     "start_time": "2022-03-07T15:26:27.172052Z"
    }
   },
   "outputs": [],
   "source": [
    "\n",
    "intervals = pd.IntervalIndex.from_tuples([(0,12),(12,18),(18,25),(25,35),(35,45),(45,55),(55,65),(65,75),(75,85),(85,120)], closed='left')\n",
    "intervals_str = np.array(['[0, 12)', '[12, 18)', '[18, 25)', '[25, 35)', '[35, 45)', '[45, 55)', '[55, 65)', '[65, 75)', '[75, 85)', '[85, 120)'])\n",
    "intervals_dict = dict({intervals_str[i] : intervals[i] for i in range(len(intervals))})\n",
    "initN = initN.rename(columns=intervals_dict)\n",
    "\n",
    "# initN_fulltable = initN.unstack().rename(column=dict({'age_class' : 'age'}))\n",
    "\n",
    "df_new = pd.DataFrame(vacc_function.df).reset_index()\n",
    "df_new = df_new.merge(initN.unstack().reset_index(), left_on=['NIS', 'age'], right_on=['NIS', 'age_class'])\n",
    "df_new['fraction'] = df_new['0_x'] / df_new['0_y']\n",
    "# df_new = df_new.drop(columns=['age_class', '0_x', '0_y'])\n",
    "# df_new = df_new.set_index(['date', 'NIS', 'age', 'dose'])\n",
    "\n",
    "# df_new.loc[:,:,:,'B']['fraction'] = df_new.loc[:,:,:,'A']['fraction'] - df_new.loc[:,:,:,'B']['fraction']\n",
    "# df_new.loc[:,:,:,'A']['fraction']\n",
    "\n",
    "df_new = df_new.set_index('date') # make sure we don't get NaN values because of mismatching indices\n",
    "df_new_copy = df_new.copy()\n",
    "\n",
    "# first-only: dose A (first) - dose B (second)\n",
    "df_new.loc[df_new['dose']=='B','fraction'] = (df_new_copy.loc[df_new_copy['dose']=='A','fraction'] \\\n",
    "    - df_new_copy.loc[df_new_copy['dose']=='B','fraction']).clip(lower=0, upper=1)\n",
    "\n",
    "# full: dose B (second) + dose C (Jansen) - dose E (booster)\n",
    "df_new.loc[df_new['dose']=='C','fraction'] = (df_new_copy.loc[df_new_copy['dose']=='B','fraction'] \\\n",
    "    + df_new_copy.loc[df_new_copy['dose']=='C','fraction'] - df_new_copy.loc[df_new_copy['dose']=='E','fraction']).clip(lower=0, upper=1)\n",
    "\n",
    "# booster: clip between 0 and 1. This is currently the latest stage\n",
    "df_new.loc[df_new['dose']=='E','fraction'] = df_new_copy.loc[df_new_copy['dose']=='E', 'fraction'].clip(lower=0, upper=1)\n",
    "\n",
    "# none. Rest category. Make sure all adds up to 1.\n",
    "df_new.loc[df_new['dose']=='A','fraction'] = 1 - (df_new_copy.loc[df_new_copy['dose']=='B','fraction'] \\\n",
    "    - df_new_copy.loc[df_new_copy['dose']=='C','fraction'] - df_new_copy.loc[df_new_copy['dose']=='E','fraction']).clip(lower=0, upper=1)\n",
    "\n",
    "# Return to multiindex\n",
    "df_new = df_new.reset_index()\n",
    "df_new = df_new.drop(columns=['age_class', '0_x', '0_y'])\n",
    "df_new = df_new.set_index(['date','NIS', 'age', 'dose'])\n",
    "\n",
    "# rename indices to clearly understandable categories\n",
    "rename_indices = dict({'A' : 'none', 'B' : 'first', 'C' : 'full', 'E' : 'booster'})\n",
    "df_new = df_new.rename(index=rename_indices)\n",
    "\n",
    "# df_new_copy = df_new.copy()\n"
   ]
  },
  {
   "cell_type": "code",
   "execution_count": null,
   "id": "f05b75f2",
   "metadata": {
    "ExecuteTime": {
     "end_time": "2022-03-07T15:26:27.173049Z",
     "start_time": "2022-03-07T15:26:27.173049Z"
    }
   },
   "outputs": [],
   "source": [
    "make_vaccination_function(vacc_data['CUMULATIVE']).df"
   ]
  },
  {
   "cell_type": "code",
   "execution_count": null,
   "id": "0d6c8e5e",
   "metadata": {
    "ExecuteTime": {
     "end_time": "2022-03-07T15:26:27.173049Z",
     "start_time": "2022-03-07T15:26:27.173049Z"
    }
   },
   "outputs": [],
   "source": [
    "vacc_data.rename(index=dict({10000 : 'test'}))\n",
    "\n",
    "                                                                                                                     \n",
    "# initN\n",
    "\n",
    "# initN.rename(columns=intervals_dict)\n",
    "\n",
    "initN"
   ]
  },
  {
   "cell_type": "code",
   "execution_count": null,
   "id": "9bd69214",
   "metadata": {
    "ExecuteTime": {
     "end_time": "2022-03-07T15:26:27.175047Z",
     "start_time": "2022-03-07T15:26:27.175047Z"
    }
   },
   "outputs": [],
   "source": [
    "import datetime\n",
    "\n",
    "df = pd.read_csv('../../data/raw/sciensano/COVID19BE_VACC_MUNI_raw.csv')\n",
    "\n",
    "start=[]\n",
    "end=[]\n",
    "for year_week in df[\"YEAR_WEEK\"].values:\n",
    "    year = '20'+year_week[0:2]\n",
    "    week = year_week[3:]\n",
    "    if week == '53':\n",
    "        week = str(int(year_week[3:])-1)\n",
    "\n",
    "    startdate = \"{}-{}-1\".format(year, week)\n",
    "    enddate = \"{}-{}-6\".format(year, week)\n",
    "\n",
    "    dt = datetime.datetime.strptime(startdate, \"%Y-%W-%w\")\n",
    "    start.append(dt.strftime(\"%Y-%m-%d\"))\n",
    "\n",
    "    dt = datetime.datetime.strptime(enddate, \"%Y-%W-%w\")\n",
    "    end.append(dt.strftime(\"%Y-%m-%d\"))\n",
    "df['start_week'] = start\n",
    "df['end_week'] = end\n",
    "\n",
    "df"
   ]
  },
  {
   "cell_type": "code",
   "execution_count": null,
   "id": "9f8b9552",
   "metadata": {
    "ExecuteTime": {
     "end_time": "2022-03-07T15:26:27.175047Z",
     "start_time": "2022-03-07T15:26:27.175047Z"
    }
   },
   "outputs": [],
   "source": [
    "######################\n",
    "## Format dataframe ##\n",
    "######################\n",
    "\n",
    "df = df.drop(df[df.NIS5 == ''].index)\n",
    "df = df.dropna()\n",
    "df['CUMUL'][df['CUMUL'] == '<10'] = '0'\n",
    "df['CUMUL'] = df['CUMUL'].astype(int)\n",
    "df['NIS5'] = ((df['NIS5'].astype(float)).astype(int)).astype(str)\n",
    "df = df.rename(columns={'NIS5':'NUTS5', 'AGEGROUP':'age'})\n",
    "df.set_index('start_week')\n",
    "df.pop('YEAR_WEEK')\n",
    "df.pop('end_week')\n",
    "df.set_index(['start_week','NUTS5','age','DOSE'], inplace=True)"
   ]
  },
  {
   "cell_type": "code",
   "execution_count": null,
   "id": "a9498b4c",
   "metadata": {
    "ExecuteTime": {
     "end_time": "2022-03-07T15:26:27.176041Z",
     "start_time": "2022-03-07T15:26:27.176041Z"
    }
   },
   "outputs": [],
   "source": [
    "pd.concat?"
   ]
  },
  {
   "cell_type": "code",
   "execution_count": null,
   "id": "7eb1101c",
   "metadata": {
    "ExecuteTime": {
     "end_time": "2022-03-07T15:26:27.177039Z",
     "start_time": "2022-03-07T15:26:27.177039Z"
    }
   },
   "outputs": [],
   "source": [
    "vacc_data"
   ]
  }
 ],
 "metadata": {
  "kernelspec": {
   "display_name": "Python 3 (ipykernel)",
   "language": "python",
   "name": "python3"
  },
  "language_info": {
   "codemirror_mode": {
    "name": "ipython",
    "version": 3
   },
   "file_extension": ".py",
   "mimetype": "text/x-python",
   "name": "python",
   "nbconvert_exporter": "python",
   "pygments_lexer": "ipython3",
   "version": "3.7.3"
  },
  "toc": {
   "base_numbering": 1,
   "nav_menu": {},
   "number_sections": true,
   "sideBar": true,
   "skip_h1_title": false,
   "title_cell": "Table of Contents",
   "title_sidebar": "Contents",
   "toc_cell": false,
   "toc_position": {},
   "toc_section_display": true,
   "toc_window_display": false
  }
 },
 "nbformat": 4,
 "nbformat_minor": 5
}
