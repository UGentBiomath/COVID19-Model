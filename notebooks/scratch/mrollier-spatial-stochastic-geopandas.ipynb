{
 "cells": [
  {
   "cell_type": "markdown",
   "metadata": {},
   "source": [
    "**CONTENT**\n",
    "\n",
    "In this notebook we will create stochastic simulations based on either `COVID19_SEIRD_sto` or `COVID19_SEIRD_sto_spatial` with various *initial conditions* and *imposed measures*.\n",
    "\n",
    "**OPEN TASKS**\n",
    "\n",
    "*short term*\n",
    "1. ~~Define some interesting realistic and/or artificial initial conditions~~\n",
    "2. Define some interesting realistic and/or artificial imposed measures: See Tijs' preprint\n",
    "3. ~~Initiate the models and create a readable environment to make nice plots (create some definitions?)~~\n",
    "4. ~~Compare the dynamics and results of the spatially stratified model with the national model (these should largely correspond with each other)~~\n",
    "5. Choose the most pertinent conditions and measures for plotting in geopandas and make a full-resolution video of the simulation\n",
    "6. ~~Plot infections, hospitalisations and deaths~~\n",
    "7. *Important*: Compare with actual data (See `MR-time-series-correlation` in `/spatial_private`)\n",
    "8. ~~Automate the hard-code in `models.py` line `coordinates = [read_coordinates_nis(spatial='test')]`~~\n",
    "9. ~~Find a nice way to show upper and lower percentiles~~\n",
    "10. ~~Define functions in a `visualization` environment. That should make it much more readable~~ in `output`\n",
    "11. ~~Make a Pull Request~~ Make another one\n",
    "12. **Calibrate the results on the actual data. IDEA: can't we also calibrate on the effect of measures --> see how measures were *actually* followed? Right now this seems like a big estimation.**\n",
    "13. ~~In `show_map`, include meaning of uncertainty band in legend if only one line is shown~~\n",
    "14. Define `social_policy_func` in `utils.py`\n",
    "15. ~~Find a way to save `xarray` objects~~\n",
    "16. Add social parameters `l` and `tau` to the default fetched parameters\n",
    "17. ~~Make the plotting device at the end of the Notebook into a function~~\n",
    "18. Find a way to also easily plot Sciensano data with the same functions\n",
    "19. Include relative (per 100k) numbers\n",
    "20. Verify that `show_maps` works fine for xarrays that have no draws\n",
    "\n",
    "*long term*  \n",
    "2. Take out the most relevant results and summarise in a $\\LaTeX$ presentation\n",
    "3. Include age-stratification for the mobility matrix $P^{gh}$\n",
    "4. **Include spatial stratification for the mobility parameter $p_i$: simulate negative travel advice**\n",
    "5. Include age stratification for *all* hospital parameters (including average number of days in the hospital)\n",
    "6. Visualise the measures\n",
    "7. Include framework for vaccination\n",
    "8. Allow for fractional infection from mildly symptomatic people that ignore safety regulations (self-isolation), preferably based on research\n",
    "9. Show age distribution in the relevant time series at any time: add this to function.\n",
    "10. Fix the percentile problem: right now we are taking the percentiles for every time value, but independent simulations might cross each other. This is therefore not strictly correct (this is a detail though)\n",
    "11. In the `show_map` function, include age stratification.\n",
    "12. Add 'smooth-out' option (7-day moving average) to show_maps and show_graphs functions, as is done in the actual data\n",
    "\n",
    "**OPEN QUESTIONS**\n",
    "\n",
    "1. What is the reason for and the meaning of the normalisation factor $z_i$ in `COVID19_SEIRD_sto_spatial`?\n",
    "2. Is it OK for all susceptibility factors $s_i$ to be smaller than one, as is the case now? Not a big deal, but seems odd and certainly changes the $\\beta$ value (such that it doesn't correspond to that of other research groups)\n",
    "3. Can we simulate home isolation within this framework? If the contact matrix $N_{c,ij}$ is set to only $N_{home,ij}$, this still assumes homogeneity within each patch. One than still has contact with the entire patch, which is not realistic\n",
    "4. Only professional commuting is included, but presumably this is not sufficient. Can we use these simulations to verify that? **MEETING 29 OCTOBER**\n",
    "5. ~~Why are there so few hospitalisations compared to the number of deaths? There is definitely a bug there somewhere: the number of ICUs is even larger than the number of hospitalisations, which cannot be correct.~~\n",
    "    * Probably because `H_in` literally shows how many new people get in at any day (flux only), while for example `ICU` shows how many people are *actively* occupying ICU beds. Of course there is a crucial difference between the two.\n",
    "6. ~~Why does it take SOOO much longer to compute the national model vs the spatial model? Verify whether this is a factor $G$ difference~~ Reason: the figure environment should be reloaded every time, otherwise the figures are overwritten, which takes a lot of memory.\n",
    "7. All numbers go up in the aggregated version compared to the national model. I would actually expect the opposite, because people aren't spread as homogenic as before. What is going on? This must be **the effect of the normalisation** ...but wouldn't this give the opposite effect? $z_i \\times f$ is of the order $0.5 \\times 1.5$ which brings *down* the infectivity, which lowers the probability of being infected in a patch $g$. So if anything, I would expect the time series to be smaller than on the national level.\n",
    "8. How do I implement multiple policy changes?\n",
    "9. In the deterministic model, the integrate function outputs the *change* in the state, while in the stochastic model it returns the new values. That is very weird, right?\n",
    "    * This is the nature of the `Discrete = True` statement in the model initialisation\n",
    "10. ~~Issue with the integration in the determinstic spatial model: the input for the initial value problem has too many dimension: ``y0 must be 1-dimensional``.~~\n",
    "11. WHY OH WHY doesn't the spatial model converge to the national one? I really do not think it's the formulation in `models.py`, that looks good. Neither is it the initial condition, nor the 'Arenas factor'."
   ]
  },
  {
   "cell_type": "markdown",
   "metadata": {},
   "source": [
    "# Load packages"
   ]
  },
  {
   "cell_type": "code",
   "execution_count": 56,
   "metadata": {
    "ExecuteTime": {
     "end_time": "2020-12-03T15:41:16.207982Z",
     "start_time": "2020-12-03T15:41:15.750500Z"
    }
   },
   "outputs": [
    {
     "name": "stdout",
     "output_type": "stream",
     "text": [
      "The autoreload extension is already loaded. To reload it, use:\n",
      "  %reload_ext autoreload\n"
     ]
    }
   ],
   "source": [
    "# Established packages\n",
    "import os\n",
    "import numpy as np\n",
    "import pandas as pd\n",
    "import geopandas as gp\n",
    "import datetime\n",
    "import math\n",
    "import xarray as xr # labels in the form of dimensions, coordinates and attributes\n",
    "import matplotlib.pyplot as plt\n",
    "import zarr\n",
    "\n",
    "# Custom package covid19model\n",
    "from covid19model.models import models\n",
    "from covid19model.models.utils import name2nis, save_sim, open_sim\n",
    "from covid19model.data import model_parameters #, sciensano, google\n",
    "from covid19model.visualization.output import population_status, infected, show_map, show_graphs\n",
    "from covid19model.models.time_dependant_parameter_fncs import social_policy_func\n",
    "\n",
    "\n",
    "# Load different geographical aggregations\n",
    "maps_dir = '../../data/raw/geopandas/BE/'\n",
    "\n",
    "country = gp.read_file(os.path.join(maps_dir, 'AD_6_Country.shp'))\n",
    "regions = gp.read_file(os.path.join(maps_dir, 'AD_5_Region.shp'))\n",
    "provinces = gp.read_file(os.path.join(maps_dir, 'AD_4_Province.shp'))\n",
    "arrondissements = gp.read_file(os.path.join(maps_dir, 'AD_3_District.shp'))\n",
    "municipalities = gp.read_file(os.path.join(maps_dir, 'AD_2_Municipality.shp'))\n",
    "testgeo = arrondissements.loc[arrondissements['NISCode'].isin(['11000', '21000', '44000'])].reset_index(drop=True)\n",
    "# Add NIS-code to Arrondissement Brussel-Hoofdstad\n",
    "provinces.loc[provinces['NISCode']=='NA', 'NISCode'] = '21000'\n",
    "\n",
    "\n",
    "# OPTIONAL: Load the \"autoreload\" extension so that package code can change\n",
    "%load_ext autoreload\n",
    "# OPTIONAL: always reload modules so that as you change code in src, it gets loaded\n",
    "# This may be useful because the `covid19model` package is under construction\n",
    "%autoreload 2"
   ]
  },
  {
   "cell_type": "markdown",
   "metadata": {},
   "source": [
    "# Content and initialisation"
   ]
  },
  {
   "cell_type": "markdown",
   "metadata": {},
   "source": [
    "## Oversight of various model conditions"
   ]
  },
  {
   "cell_type": "markdown",
   "metadata": {},
   "source": [
    "Any of the conditions below are implemented for both the spatial and the national stochastic SEIRD-extended model.\n",
    "\n",
    "**Initial conditions**\n",
    "1. One exposed person on day 0. With some spatial variation:  \n",
    "    1. On the far southeast side of the country  \n",
    "    2. On the far northwest side of the country  \n",
    "    3. In Brussels  \n",
    "2. Fifty exposed people on day 0, same spatial variation\n",
    "3. Only asymptomatic people instead of exposed people\n",
    "4. Only presymptomatic people instead of exposed people\n",
    "5. No mobility whatsoever (sanity check, can only be done in spatial model)\n",
    "\n",
    "**Measures**\n",
    "1. Decrease overall contact parameter: type of contact stays the same, but the frequency is lowered\n",
    "2. Change *type* of contact: only remain home contact (but note that this does not mean that families are isolated!)\n",
    "3. Decrease mobility between cities (can only be done in spatial model)\n",
    "4. Vaccination: migrate the number of Susceptible straight to the Recovered category\n",
    "\n",
    "**Spatial levels**\n",
    "1. 'Test' level: only arrondissements Antwerpen, Brussel, Gent\n",
    "2. Arrondissement level: 43 arrondissements\n",
    "3. Province level: 10+1 provinces\n",
    "4. National level: no spatial stratification"
   ]
  },
  {
   "cell_type": "markdown",
   "metadata": {
    "ExecuteTime": {
     "end_time": "2020-10-13T11:56:07.806112Z",
     "start_time": "2020-10-13T11:56:07.750938Z"
    }
   },
   "source": [
    "## Initialisation of common parameters"
   ]
  },
  {
   "cell_type": "code",
   "execution_count": 2,
   "metadata": {
    "ExecuteTime": {
     "end_time": "2020-12-03T15:17:03.910986Z",
     "start_time": "2020-12-03T15:17:03.842902Z"
    }
   },
   "outputs": [],
   "source": [
    "# ---------------------------- #\n",
    "# Choose simulation parameters #\n",
    "# ---------------------------- #\n",
    "\n",
    "# Note that a high number of simulations is computationally expensive, especially for high spatial stratification\n",
    "sim_number = 100\n",
    "days_number = 100\n",
    "\n",
    "# Policy values (for more details on nature of measures, see block below)\n",
    "policy_time = 40 # Must be smaller than days_number\n",
    "tau = 5 # days until new measures show some effect\n",
    "l = 5 # days since policy_time + tau until new measures show full effect"
   ]
  },
  {
   "cell_type": "markdown",
   "metadata": {
    "heading_collapsed": true
   },
   "source": [
    "# Sanity check: correspondence between spatial model and national model"
   ]
  },
  {
   "cell_type": "markdown",
   "metadata": {
    "hidden": true
   },
   "source": [
    "Below we load *a single exposed 35 year old individual* in every arrondissement (43 exposed people). We compare the resulting time series with those from simulations from the model stratified per province (4 per province+Bxl), and from the national model (43 in Belgium). Ideally, these should show identical dynamics.\n",
    "\n",
    "**Results**\n",
    "1. The simulations on province level and on arrondissement level are virtually identical.\n",
    "2. The national model predicts gives many *fewer* hospitalisations.\n",
    "\n",
    "**Discussion**\n",
    "1. It is still unclear what the prefactors $f_i$ and $z_i$ mean. These influence the effective $\\beta$, hence influencing the speed of the infection.\n",
    "2. Currently $\\beta$ is effectively *smaller* for the spatial model, so I don't understand why the infection spreads faster than in the national model\n",
    "3. Perhaps I should spread the infected people out more according to population density (so more in Brussels and fewer in Arlon)\n",
    "\n",
    "**Save simulation results in zarr**"
   ]
  },
  {
   "cell_type": "code",
   "execution_count": 166,
   "metadata": {
    "ExecuteTime": {
     "end_time": "2020-11-26T10:58:04.574249Z",
     "start_time": "2020-11-26T10:58:04.514440Z"
    },
    "hidden": true
   },
   "outputs": [],
   "source": [
    "# Name of the zarr directory in which the simulations are to be saved\n",
    "zarr_dir = '../data/simulated/'\n",
    "zarr_name = \"Sanity-check_\" + str(sim_number) + \"sims_\" + str(days_number) + \\\n",
    "                    \"days_\" + \"Nctot-to-Nchome-day\" + str(policy_time) + '.zarr'\n",
    "\n",
    "zarr = zarr_dir + '/' + zarr_name"
   ]
  },
  {
   "cell_type": "markdown",
   "metadata": {
    "heading_collapsed": true,
    "hidden": true
   },
   "source": [
    "## Spatial model on arrondissement level"
   ]
  },
  {
   "cell_type": "markdown",
   "metadata": {
    "heading_collapsed": true,
    "hidden": true
   },
   "source": [
    "### Prepare the simulation"
   ]
  },
  {
   "cell_type": "code",
   "execution_count": 4,
   "metadata": {
    "ExecuteTime": {
     "end_time": "2020-11-19T15:33:25.704586Z",
     "start_time": "2020-11-19T15:33:25.421899Z"
    },
    "hidden": true
   },
   "outputs": [],
   "source": [
    "# Name of the zarr gropu in which this particular simulation is or will be saved\n",
    "group = \"arr_1E-per-arr\"\n",
    "\n",
    "# Load parameters and interaction matrices\n",
    "age_str = True\n",
    "spatial_str = 'arr'\n",
    "intensity='all'\n",
    "params = model_parameters.get_COVID19_SEIRD_parameters(age_stratified=age_str, spatial=spatial_str)\n",
    "initN, Nc_home, Nc_work, Nc_schools, Nc_transport, Nc_leisure, Nc_others, Nc_total = model_parameters.get_interaction_matrices(intensity=intensity, spatial=spatial_str)\n",
    "\n",
    "# Add social policy parameter values\n",
    "params.update({'l': l,\n",
    "              'tau': tau,\n",
    "              'policy_time' : policy_time})"
   ]
  },
  {
   "cell_type": "code",
   "execution_count": 5,
   "metadata": {
    "ExecuteTime": {
     "end_time": "2020-11-19T15:33:35.539135Z",
     "start_time": "2020-11-19T15:33:35.469705Z"
    },
    "hidden": true,
    "scrolled": true
   },
   "outputs": [],
   "source": [
    "# Define initial conditions\n",
    "\n",
    "# Every arrondissements gets one 35-year-old exposed individual\n",
    "exposed = np.zeros(initN.shape)\n",
    "for arr in exposed:\n",
    "    arr[3] = 10\n",
    "init_states = dict({'S' : initN, 'E' : exposed})\n",
    "\n",
    "# The type of policy change: contact is reduce from everything to home contact (within the arrondissement) only\n",
    "policy1 = Nc_total\n",
    "policy2 = Nc_home\n",
    "params.update({'policy1' : policy1,\n",
    "               'policy2' : policy2})"
   ]
  },
  {
   "cell_type": "code",
   "execution_count": 6,
   "metadata": {
    "ExecuteTime": {
     "end_time": "2020-11-19T15:33:38.412681Z",
     "start_time": "2020-11-19T15:33:38.349636Z"
    },
    "hidden": true
   },
   "outputs": [],
   "source": [
    "# Load the model\n",
    "model = models.COVID19_SEIRD_sto_spatial(init_states, params, time_dependent_parameters={'Nc' : social_policy_func},\n",
    "                                     discrete=True, spatial='arr')"
   ]
  },
  {
   "cell_type": "markdown",
   "metadata": {
    "heading_collapsed": true,
    "hidden": true
   },
   "source": [
    "### Run and save the simulations - WARNING: computationally expensive (only do once)"
   ]
  },
  {
   "cell_type": "code",
   "execution_count": 43,
   "metadata": {
    "ExecuteTime": {
     "end_time": "2020-11-04T15:37:35.036794Z",
     "start_time": "2020-11-04T15:37:34.977653Z"
    },
    "hidden": true
   },
   "outputs": [],
   "source": [
    "# Group name and output description\n",
    "description = f\"Stochastic spatial SEIRD extended model with {sim_number} \"\\\n",
    "                    f\"parallel simulations in 43 arrondissements over {days_number} days.\"\\\n",
    "                    f\"At day 0 a single exposed person in the age class 30-40 is released in\"\\\n",
    "                    f\"each of the arrondissements. At day {policy_time} measures are imposed, \"\\\n",
    "                    f\"bringing down the contact rate from Nc_total to Nc_home over the course of \"\\\n",
    "                    f\"{tau} + {l} days (tau and l compliance parameters) reaches full effect.\"\n",
    "\n",
    "# Perform simulation (commented out for safety)\n",
    "# WARNING! First check if there isn't already data available for this simulation!\n",
    "# out_sanity_arr = model.sim(days_number, N=sim_number, verbose=True)\n",
    "\n",
    "# Save simulation results\n",
    "# save_sim(out_sanity_arr, zarr, group, descr=description)"
   ]
  },
  {
   "cell_type": "markdown",
   "metadata": {
    "heading_collapsed": true,
    "hidden": true
   },
   "source": [
    "### Inspect the results"
   ]
  },
  {
   "cell_type": "code",
   "execution_count": null,
   "metadata": {
    "ExecuteTime": {
     "end_time": "2020-10-28T11:19:36.576109Z",
     "start_time": "2020-10-28T11:19:36.477865Z"
    },
    "hidden": true
   },
   "outputs": [],
   "source": [
    "# Load the simulation data\n",
    "out_sanity_arr = open_sim(zarr, group, verbose=False)"
   ]
  },
  {
   "cell_type": "code",
   "execution_count": null,
   "metadata": {
    "ExecuteTime": {
     "end_time": "2020-10-28T11:19:56.323063Z",
     "start_time": "2020-10-28T11:19:56.261702Z"
    },
    "hidden": true
   },
   "outputs": [],
   "source": [
    "# Show map of a snapshot and the graphs of the major urban hubs (Antwerp, Brussels, Ghent)\n",
    "day = 60\n",
    "ts_geo = 'E'\n",
    "ts_graph = ['E', 'ICU', 'D']\n",
    "nis = [11000, 21000, 44000]\n",
    "geomap, graphs = show_map(out_sanity_arr, arrondissements, ts_geo=ts_geo, day=day, ts_graph=ts_graph)"
   ]
  },
  {
   "cell_type": "code",
   "execution_count": null,
   "metadata": {
    "ExecuteTime": {
     "end_time": "2020-10-28T11:20:52.286932Z",
     "start_time": "2020-10-28T11:20:52.231077Z"
    },
    "hidden": true
   },
   "outputs": [],
   "source": [
    "figname = \"sanity_arr_50sim_E-Hin-ICU-D.jpg\"\n",
    "graphs = show_graphs(out_sanity_arr, ylim=[30000, 200, 400, 500])#, figname=figname)"
   ]
  },
  {
   "cell_type": "markdown",
   "metadata": {
    "heading_collapsed": true,
    "hidden": true
   },
   "source": [
    "## Spatial model on province level"
   ]
  },
  {
   "cell_type": "markdown",
   "metadata": {
    "heading_collapsed": true,
    "hidden": true
   },
   "source": [
    "### Prepare the simulation"
   ]
  },
  {
   "cell_type": "code",
   "execution_count": null,
   "metadata": {
    "ExecuteTime": {
     "end_time": "2020-10-28T14:01:25.678527Z",
     "start_time": "2020-10-28T14:01:25.417735Z"
    },
    "hidden": true
   },
   "outputs": [],
   "source": [
    "# Name of the zarr gropu in which this particular simulation is or will be saved\n",
    "group = \"prov_4E-per-prov\"\n",
    "\n",
    "# Load parameters and interaction matrices\n",
    "age_str = True\n",
    "spatial_str = 'prov'\n",
    "intensity='all'\n",
    "params = model_parameters.get_COVID19_SEIRD_parameters(age_stratified=age_str, spatial=spatial_str)\n",
    "initN, Nc_home, Nc_work, Nc_schools, Nc_transport, Nc_leisure, Nc_others, Nc_total = model_parameters.get_interaction_matrices(intensity=intensity, spatial=spatial_str)\n",
    "\n",
    "# Add social policy parameter values\n",
    "params.update({'l': l,\n",
    "              'tau': tau,\n",
    "              'policy_time' : policy_time})"
   ]
  },
  {
   "cell_type": "code",
   "execution_count": null,
   "metadata": {
    "ExecuteTime": {
     "end_time": "2020-10-28T14:01:25.945518Z",
     "start_time": "2020-10-28T14:01:25.880467Z"
    },
    "hidden": true
   },
   "outputs": [],
   "source": [
    "# Define initial conditions\n",
    "\n",
    "# Every province gets four 35-year-old exposed individuals\n",
    "exposed = np.zeros(initN.shape)\n",
    "for prov in exposed:\n",
    "    prov[3] = 4\n",
    "init_states = dict({'S' : initN, 'E' : exposed})\n",
    "\n",
    "# The type of policy change: contact is reduce from everything to home contact (within the arrondissement) only\n",
    "policy1 = Nc_total\n",
    "policy2 = Nc_home\n",
    "params.update({'policy1' : policy1,\n",
    "               'policy2' : policy2})"
   ]
  },
  {
   "cell_type": "code",
   "execution_count": null,
   "metadata": {
    "ExecuteTime": {
     "end_time": "2020-10-28T14:01:53.385743Z",
     "start_time": "2020-10-28T14:01:53.320577Z"
    },
    "hidden": true
   },
   "outputs": [],
   "source": [
    "# Load the model\n",
    "model = models.COVID19_SEIRD_sto_spatial(init_states, params, time_dependent_parameters={'Nc' : social_policy_func},\n",
    "                                     discrete=True, spatial='prov')"
   ]
  },
  {
   "cell_type": "markdown",
   "metadata": {
    "heading_collapsed": true,
    "hidden": true
   },
   "source": [
    "### Run and save the simulations - WARNING: computationally expensive (only do once)"
   ]
  },
  {
   "cell_type": "code",
   "execution_count": null,
   "metadata": {
    "ExecuteTime": {
     "end_time": "2020-10-28T14:02:05.604396Z",
     "start_time": "2020-10-28T14:01:57.575340Z"
    },
    "hidden": true
   },
   "outputs": [],
   "source": [
    "# Group name and output description\n",
    "description = f\"Stochastic spatial SEIRD extended model with {sim_number} \"\\\n",
    "                    f\"parallel simulations in 10+1 provinces over {days_number} days. \"\\\n",
    "                    f\"At day 0 four exposed people in the age class 30-40 are released in \"\\\n",
    "                    f\"each of the provinces + Brussels-Capital. At day {policy_time} measures are imposed, \"\\\n",
    "                    f\"bringing down the contact rate from Nc_total to Nc_home. Over the course of \"\\\n",
    "                    f\"{tau} + {l} days (tau and l parameters) compliance reaches full effect.\"\n",
    "\n",
    "# Perform simulation (commented out for safety)\n",
    "# WARNING! First check if there isn't already data available for this simulation!\n",
    "# out_sanity_prov = model.sim(days_number, N=sim_number, verbose=True)\n",
    "out_sanity_test = model.sim(days_number, N=3, verbose=True)\n",
    "\n",
    "out_sanity_test\n",
    "\n",
    "# Save simulation results\n",
    "# save_sim(out_sanity_prov, zarr, group, descr=description)"
   ]
  },
  {
   "cell_type": "markdown",
   "metadata": {
    "heading_collapsed": true,
    "hidden": true
   },
   "source": [
    "### Inspect the results"
   ]
  },
  {
   "cell_type": "code",
   "execution_count": null,
   "metadata": {
    "ExecuteTime": {
     "end_time": "2020-10-28T11:36:11.424665Z",
     "start_time": "2020-10-28T11:36:11.309030Z"
    },
    "hidden": true
   },
   "outputs": [],
   "source": [
    "# Load the simulation data\n",
    "out_sanity_prov = open_sim(zarr, group)"
   ]
  },
  {
   "cell_type": "code",
   "execution_count": null,
   "metadata": {
    "ExecuteTime": {
     "end_time": "2020-10-28T11:36:21.115912Z",
     "start_time": "2020-10-28T11:36:21.044938Z"
    },
    "hidden": true
   },
   "outputs": [],
   "source": [
    "# Show map of a snapshot and the graphs of the major urban hubs (Antwerp, Brussels, Ghent)\n",
    "day = 60\n",
    "ts_geo = 'E'\n",
    "ts_graph = ['E', 'ICU', 'D']\n",
    "nis = [10000, 21000, 40000]\n",
    "geomap, graphs = show_map(out_sanity_prov, provinces, ts_geo=ts_geo, day=day, ts_graph=ts_graph)"
   ]
  },
  {
   "cell_type": "code",
   "execution_count": null,
   "metadata": {
    "ExecuteTime": {
     "end_time": "2020-10-23T17:38:16.842164Z",
     "start_time": "2020-10-23T17:38:16.105215Z"
    },
    "hidden": true
   },
   "outputs": [],
   "source": [
    "graphs = show_graphs(out_sanity_prov, ylim=[30000, 200, 400, 500], figname=\"sanity_prov_50sim_E-Hin-ICU-D.jpg\")"
   ]
  },
  {
   "cell_type": "markdown",
   "metadata": {
    "heading_collapsed": true,
    "hidden": true
   },
   "source": [
    "## National model"
   ]
  },
  {
   "cell_type": "markdown",
   "metadata": {
    "heading_collapsed": true,
    "hidden": true
   },
   "source": [
    "### Prepare the simulation"
   ]
  },
  {
   "cell_type": "code",
   "execution_count": null,
   "metadata": {
    "ExecuteTime": {
     "end_time": "2020-10-28T14:12:03.241581Z",
     "start_time": "2020-10-28T14:12:02.952090Z"
    },
    "hidden": true
   },
   "outputs": [],
   "source": [
    "# Name of the zarr gropu in which this particular simulation is or will be saved\n",
    "group = \"nat_43E\"\n",
    "\n",
    "# Load parameters and interaction matrices\n",
    "age_str = True\n",
    "intensity='all'\n",
    "# spatial_str has been left out here\n",
    "params = model_parameters.get_COVID19_SEIRD_parameters(age_stratified=age_str)\n",
    "initN, Nc_home, Nc_work, Nc_schools, Nc_transport, Nc_leisure, Nc_others, Nc_total = model_parameters.get_interaction_matrices(intensity=intensity)\n",
    "\n",
    "# Add social policy parameter values\n",
    "params.update({'l': l,\n",
    "              'tau': tau,\n",
    "              'policy_time' : policy_time})"
   ]
  },
  {
   "cell_type": "code",
   "execution_count": null,
   "metadata": {
    "ExecuteTime": {
     "end_time": "2020-10-28T14:12:05.166676Z",
     "start_time": "2020-10-28T14:12:05.095985Z"
    },
    "hidden": true
   },
   "outputs": [],
   "source": [
    "# Define initial conditions\n",
    "\n",
    "# The entire country gets 43 35-year-old exposed individuals\n",
    "exposed = np.zeros(initN.shape)\n",
    "exposed[3] = 43\n",
    "init_states = dict({'S' : initN, 'E' : exposed})\n",
    "\n",
    "# The type of policy change: contact is reduce from everything to home contact (within the arrondissement) only\n",
    "policy1 = Nc_total\n",
    "policy2 = Nc_home\n",
    "params.update({'policy1' : policy1,\n",
    "               'policy2' : policy2})"
   ]
  },
  {
   "cell_type": "code",
   "execution_count": null,
   "metadata": {
    "ExecuteTime": {
     "end_time": "2020-10-28T14:12:05.882744Z",
     "start_time": "2020-10-28T14:12:05.815631Z"
    },
    "hidden": true
   },
   "outputs": [],
   "source": [
    "# Load the model\n",
    "model = models.COVID19_SEIRD_sto(init_states, params, time_dependent_parameters={'Nc' : social_policy_func},\n",
    "                                     discrete=True)"
   ]
  },
  {
   "cell_type": "markdown",
   "metadata": {
    "heading_collapsed": true,
    "hidden": true
   },
   "source": [
    "### Run and save the simulations - WARNING: computationally expensive (only do once)"
   ]
  },
  {
   "cell_type": "code",
   "execution_count": null,
   "metadata": {
    "ExecuteTime": {
     "end_time": "2020-10-28T14:12:35.203457Z",
     "start_time": "2020-10-28T14:12:35.095994Z"
    },
    "hidden": true
   },
   "outputs": [],
   "source": [
    "# Group name and output description\n",
    "description = f\"Stochastic national SEIRD extended model with {sim_number} \"\\\n",
    "                    f\"parallel simulations over {days_number} days. \"\\\n",
    "                    f\"At day 0 43 exposed people in the age class 30-40 are released homogeneously distributed \"\\\n",
    "                    f\"over the whole of Belgium. At day {policy_time} measures are imposed, \"\\\n",
    "                    f\"bringing down the contact rate from Nc_total to Nc_home. Over the course of \"\\\n",
    "                    f\"{tau} + {l} days (tau and l parameters) compliance reaches full effect.\"\n",
    "\n",
    "# Perform simulation (commented out for safety)\n",
    "# WARNING! First check if there isn't already data available for this simulation!\n",
    "# out_sanity_nat = model.sim(days_number, N=sim_number, verbose=True)\n",
    "\n",
    "# Save simulation results\n",
    "# save_sim(out_sanity_nat, zarr, group, descr=description)"
   ]
  },
  {
   "cell_type": "markdown",
   "metadata": {
    "hidden": true
   },
   "source": [
    "### Inspect the results"
   ]
  },
  {
   "cell_type": "code",
   "execution_count": null,
   "metadata": {
    "ExecuteTime": {
     "end_time": "2020-10-28T11:38:17.201101Z",
     "start_time": "2020-10-28T11:38:17.130838Z"
    },
    "hidden": true
   },
   "outputs": [],
   "source": [
    "# Load the simulation data\n",
    "out_sanity_nat = open_sim(zarr, group)"
   ]
  },
  {
   "cell_type": "code",
   "execution_count": null,
   "metadata": {
    "ExecuteTime": {
     "end_time": "2020-10-28T11:38:26.461473Z",
     "start_time": "2020-10-28T11:38:25.972511Z"
    },
    "hidden": true
   },
   "outputs": [],
   "source": [
    "graphs = show_graphs(out_sanity_nat,ylim=[30000, 200, 400, 500])"
   ]
  },
  {
   "cell_type": "markdown",
   "metadata": {
    "heading_collapsed": true
   },
   "source": [
    "# Demonstrating the spatial effect"
   ]
  },
  {
   "cell_type": "markdown",
   "metadata": {
    "hidden": true
   },
   "source": [
    "Here the power of the spatial model is shown by dropping 5 infected patients in 'the middle of nowhere' and seeing how their disease spreads through Belgium.\n",
    "\n",
    "The mean purpose here is to communicate the working of the simulation\n",
    "\n",
    "**Result**  \n",
    "Can be seen as an mp4 in the archives (Downloads folder at the moment)\n",
    "\n",
    "**Discussion**  \n",
    "1. This looks realistic\n",
    "2. Would be interesting to treat these results as mock data and perform data analysis on these\n",
    "3. Arguably more interesting to show the relative impact rather than the absolute impact"
   ]
  },
  {
   "cell_type": "markdown",
   "metadata": {
    "heading_collapsed": true,
    "hidden": true
   },
   "source": [
    "## Prepare the simulation"
   ]
  },
  {
   "cell_type": "code",
   "execution_count": null,
   "metadata": {
    "ExecuteTime": {
     "end_time": "2020-10-22T15:27:15.947900Z",
     "start_time": "2020-10-22T15:27:15.681669Z"
    },
    "hidden": true
   },
   "outputs": [],
   "source": [
    "# Load parameters and interaction matrices\n",
    "age_str = True\n",
    "intensity='all'\n",
    "spatial_str = 'arr'\n",
    "params = model_parameters.get_COVID19_SEIRD_parameters(age_stratified=age_str, spatial=spatial_str)\n",
    "initN, Nc_home, Nc_work, Nc_schools, Nc_transport, Nc_leisure, Nc_others, Nc_total = model_parameters.get_interaction_matrices(intensity=intensity, spatial=spatial_str)\n",
    "\n",
    "# Add social policy parameter values\n",
    "params.update({'l': l,\n",
    "              'tau': tau,\n",
    "              'policy_time' : policy_time})"
   ]
  },
  {
   "cell_type": "code",
   "execution_count": null,
   "metadata": {
    "ExecuteTime": {
     "end_time": "2020-10-22T15:27:18.153595Z",
     "start_time": "2020-10-22T15:27:18.085503Z"
    },
    "hidden": true
   },
   "outputs": [],
   "source": [
    "# Define initial conditions\n",
    "\n",
    "# Put 5 35 year-old exposed people in Arlon (index 35)\n",
    "exposed = np.zeros(initN.shape)\n",
    "exposed[35,3] = 5\n",
    "init_states = dict({'S' : initN, 'E' : exposed})\n",
    "\n",
    "# The type of policy change: contact is reduce from everything to home contact (within the arrondissement) only\n",
    "policy1 = Nc_total\n",
    "policy2 = Nc_home\n",
    "params.update({'policy1' : policy1,\n",
    "               'policy2' : policy2})"
   ]
  },
  {
   "cell_type": "code",
   "execution_count": null,
   "metadata": {
    "ExecuteTime": {
     "end_time": "2020-10-22T15:27:18.715766Z",
     "start_time": "2020-10-22T15:27:18.655845Z"
    },
    "hidden": true
   },
   "outputs": [],
   "source": [
    "# Load the model\n",
    "model = models.COVID19_SEIRD_sto_spatial(init_states, params, time_dependent_parameters={'Nc' : social_policy_func},\n",
    "                                     discrete=True)"
   ]
  },
  {
   "cell_type": "markdown",
   "metadata": {
    "heading_collapsed": true,
    "hidden": true
   },
   "source": [
    "## Run the simulation - Warning: computationally expensive"
   ]
  },
  {
   "cell_type": "code",
   "execution_count": null,
   "metadata": {
    "ExecuteTime": {
     "end_time": "2020-10-22T15:30:01.488743Z",
     "start_time": "2020-10-22T15:27:21.620817Z"
    },
    "hidden": true
   },
   "outputs": [],
   "source": [
    "# Commented out for safety\n",
    "\n",
    "out_demo_arr = model.sim(days_number, N=sim_number, verbose=True)"
   ]
  },
  {
   "cell_type": "markdown",
   "metadata": {
    "heading_collapsed": true,
    "hidden": true
   },
   "source": [
    "## Inspect the results"
   ]
  },
  {
   "cell_type": "code",
   "execution_count": null,
   "metadata": {
    "ExecuteTime": {
     "end_time": "2020-10-22T15:36:19.390049Z",
     "start_time": "2020-10-22T15:33:40.987222Z"
    },
    "hidden": true
   },
   "outputs": [],
   "source": [
    "# Make a video: see archives\n",
    "\n",
    "ts_geo = 'E'\n",
    "ts_graph = ['E', 'ICU', 'D']\n",
    "nis = [81000, 21000, 31000] # Arlon, Brussel, Brugge\n",
    "\n",
    "# Commented out for safety\n",
    "\n",
    "# for day in range(days_number+1):\n",
    "#     figname = f\"demo_arr_5-35-yo_81000_day{day}.jpg\"\n",
    "#     maps, graphs = show_map(out_demo_arr, arrondissements, ts_geo=ts_geo, day=day, ts_graph=ts_graph, figname=figname)"
   ]
  },
  {
   "cell_type": "markdown",
   "metadata": {
    "hidden": true
   },
   "source": [
    "## Plotting in graph"
   ]
  },
  {
   "cell_type": "markdown",
   "metadata": {},
   "source": [
    "# Deterministic model explorations"
   ]
  },
  {
   "cell_type": "markdown",
   "metadata": {},
   "source": [
    "--Pay attention!-- `Discrete` must be `False` in this case!"
   ]
  },
  {
   "cell_type": "markdown",
   "metadata": {},
   "source": [
    "## National deterministic"
   ]
  },
  {
   "cell_type": "code",
   "execution_count": 172,
   "metadata": {
    "ExecuteTime": {
     "end_time": "2020-11-26T11:44:32.077209Z",
     "start_time": "2020-11-26T11:44:31.805758Z"
    }
   },
   "outputs": [],
   "source": [
    "# Load parameters and interaction matrices\n",
    "age_str = True\n",
    "spatial_str = None\n",
    "intensity='all'\n",
    "\n",
    "params = model_parameters.get_COVID19_SEIRD_parameters(age_stratified=age_str)\n",
    "initN, Nc_home, Nc_work, Nc_schools, Nc_transport, Nc_leisure, Nc_others, Nc_total = model_parameters.get_interaction_matrices(intensity=intensity)\n",
    "\n",
    "days_number = 100\n",
    "\n",
    "# Policy values (for more details on nature of measures, see block below)\n",
    "policy_time = 40 # Must be smaller than days_number\n",
    "tau = 5 # days until new measures show some effect\n",
    "l = 5 # days since policy_time + tau until new measures show full effect"
   ]
  },
  {
   "cell_type": "code",
   "execution_count": 174,
   "metadata": {
    "ExecuteTime": {
     "end_time": "2020-11-26T11:44:54.708301Z",
     "start_time": "2020-11-26T11:44:54.638455Z"
    }
   },
   "outputs": [
    {
     "data": {
      "text/plain": [
       "0.03492"
      ]
     },
     "execution_count": 174,
     "metadata": {},
     "output_type": "execute_result"
    }
   ],
   "source": [
    "# Define initial conditions\n",
    "\n",
    "# Drop ten exposed 35-year-olds\n",
    "exposed = np.zeros(initN.shape)\n",
    "exposed[3] = 44\n",
    "\n",
    "init_states = dict({'S' : initN, 'E' : exposed})\n",
    "\n",
    "# The type of policy change: contact is reduced from everything to home contact (within the arrondissement) only\n",
    "policy1 = Nc_total\n",
    "policy2 = Nc_home\n",
    "params.update({'policy1' : policy1,\n",
    "               'policy2' : policy2})\n",
    "\n",
    "# Add social policy parameter values\n",
    "params.update({'l': l,\n",
    "              'tau': tau,\n",
    "              'policy_time' : policy_time})\n",
    "\n",
    "params['beta']"
   ]
  },
  {
   "cell_type": "code",
   "execution_count": 175,
   "metadata": {
    "ExecuteTime": {
     "end_time": "2020-11-26T11:44:56.624412Z",
     "start_time": "2020-11-26T11:44:56.558576Z"
    }
   },
   "outputs": [],
   "source": [
    "# Load the model\n",
    "model = models.COVID19_SEIRD(init_states, params, time_dependent_parameters={'Nc' : social_policy_func},\n",
    "                                     discrete=False, spatial=spatial_str)"
   ]
  },
  {
   "cell_type": "code",
   "execution_count": 176,
   "metadata": {
    "ExecuteTime": {
     "end_time": "2020-11-26T11:45:00.149176Z",
     "start_time": "2020-11-26T11:44:59.664471Z"
    }
   },
   "outputs": [
    {
     "data": {
      "image/png": "[encoded data removed]",
      "text/plain": [
       "<Figure size 1080x864 with 3 Axes>"
      ]
     },
     "metadata": {
      "needs_background": "light"
     },
     "output_type": "display_data"
    }
   ],
   "source": [
    "out_nat_det = model.sim(days_number)\n",
    "graphs = show_graphs(out_nat_det, ylim=[50000, 300, 1000], ts=['E', 'H_in', 'D'])"
   ]
  },
  {
   "cell_type": "code",
   "execution_count": 52,
   "metadata": {
    "ExecuteTime": {
     "end_time": "2020-11-25T12:20:34.828476Z",
     "start_time": "2020-11-25T12:20:34.749686Z"
    }
   },
   "outputs": [
    {
     "data": {
      "text/html": [
       "<div><svg style=\"position: absolute; width: 0; height: 0; overflow: hidden\">\n",
       "<defs>\n",
       "<symbol id=\"icon-database\" viewBox=\"0 0 32 32\">\n",
       "<path d=\"M16 0c-8.837 0-16 2.239-16 5v4c0 2.761 7.163 5 16 5s16-2.239 16-5v-4c0-2.761-7.163-5-16-5z\"></path>\n",
       "<path d=\"M16 17c-8.837 0-16-2.239-16-5v6c0 2.761 7.163 5 16 5s16-2.239 16-5v-6c0 2.761-7.163 5-16 5z\"></path>\n",
       "<path d=\"M16 26c-8.837 0-16-2.239-16-5v6c0 2.761 7.163 5 16 5s16-2.239 16-5v-6c0 2.761-7.163 5-16 5z\"></path>\n",
       "</symbol>\n",
       "<symbol id=\"icon-file-text2\" viewBox=\"0 0 32 32\">\n",
       "<path d=\"M28.681 7.159c-0.694-0.947-1.662-2.053-2.724-3.116s-2.169-2.030-3.116-2.724c-1.612-1.182-2.393-1.319-2.841-1.319h-15.5c-1.378 0-2.5 1.121-2.5 2.5v27c0 1.378 1.122 2.5 2.5 2.5h23c1.378 0 2.5-1.122 2.5-2.5v-19.5c0-0.448-0.137-1.23-1.319-2.841zM24.543 5.457c0.959 0.959 1.712 1.825 2.268 2.543h-4.811v-4.811c0.718 0.556 1.584 1.309 2.543 2.268zM28 29.5c0 0.271-0.229 0.5-0.5 0.5h-23c-0.271 0-0.5-0.229-0.5-0.5v-27c0-0.271 0.229-0.5 0.5-0.5 0 0 15.499-0 15.5 0v7c0 0.552 0.448 1 1 1h7v19.5z\"></path>\n",
       "<path d=\"M23 26h-14c-0.552 0-1-0.448-1-1s0.448-1 1-1h14c0.552 0 1 0.448 1 1s-0.448 1-1 1z\"></path>\n",
       "<path d=\"M23 22h-14c-0.552 0-1-0.448-1-1s0.448-1 1-1h14c0.552 0 1 0.448 1 1s-0.448 1-1 1z\"></path>\n",
       "<path d=\"M23 18h-14c-0.552 0-1-0.448-1-1s0.448-1 1-1h14c0.552 0 1 0.448 1 1s-0.448 1-1 1z\"></path>\n",
       "</symbol>\n",
       "</defs>\n",
       "</svg>\n",
       "<style>/* CSS stylesheet for displaying xarray objects in jupyterlab.\n",
       " *\n",
       " */\n",
       "\n",
       ":root {\n",
       "  --xr-font-color0: var(--jp-content-font-color0, rgba(0, 0, 0, 1));\n",
       "  --xr-font-color2: var(--jp-content-font-color2, rgba(0, 0, 0, 0.54));\n",
       "  --xr-font-color3: var(--jp-content-font-color3, rgba(0, 0, 0, 0.38));\n",
       "  --xr-border-color: var(--jp-border-color2, #e0e0e0);\n",
       "  --xr-disabled-color: var(--jp-layout-color3, #bdbdbd);\n",
       "  --xr-background-color: var(--jp-layout-color0, white);\n",
       "  --xr-background-color-row-even: var(--jp-layout-color1, white);\n",
       "  --xr-background-color-row-odd: var(--jp-layout-color2, #eeeeee);\n",
       "}\n",
       "\n",
       "html[theme=dark],\n",
       "body.vscode-dark {\n",
       "  --xr-font-color0: rgba(255, 255, 255, 1);\n",
       "  --xr-font-color2: rgba(255, 255, 255, 0.54);\n",
       "  --xr-font-color3: rgba(255, 255, 255, 0.38);\n",
       "  --xr-border-color: #1F1F1F;\n",
       "  --xr-disabled-color: #515151;\n",
       "  --xr-background-color: #111111;\n",
       "  --xr-background-color-row-even: #111111;\n",
       "  --xr-background-color-row-odd: #313131;\n",
       "}\n",
       "\n",
       ".xr-wrap {\n",
       "  display: block;\n",
       "  min-width: 300px;\n",
       "  max-width: 700px;\n",
       "}\n",
       "\n",
       ".xr-text-repr-fallback {\n",
       "  /* fallback to plain text repr when CSS is not injected (untrusted notebook) */\n",
       "  display: none;\n",
       "}\n",
       "\n",
       ".xr-header {\n",
       "  padding-top: 6px;\n",
       "  padding-bottom: 6px;\n",
       "  margin-bottom: 4px;\n",
       "  border-bottom: solid 1px var(--xr-border-color);\n",
       "}\n",
       "\n",
       ".xr-header > div,\n",
       ".xr-header > ul {\n",
       "  display: inline;\n",
       "  margin-top: 0;\n",
       "  margin-bottom: 0;\n",
       "}\n",
       "\n",
       ".xr-obj-type,\n",
       ".xr-array-name {\n",
       "  margin-left: 2px;\n",
       "  margin-right: 10px;\n",
       "}\n",
       "\n",
       ".xr-obj-type {\n",
       "  color: var(--xr-font-color2);\n",
       "}\n",
       "\n",
       ".xr-sections {\n",
       "  padding-left: 0 !important;\n",
       "  display: grid;\n",
       "  grid-template-columns: 150px auto auto 1fr 20px 20px;\n",
       "}\n",
       "\n",
       ".xr-section-item {\n",
       "  display: contents;\n",
       "}\n",
       "\n",
       ".xr-section-item input {\n",
       "  display: none;\n",
       "}\n",
       "\n",
       ".xr-section-item input + label {\n",
       "  color: var(--xr-disabled-color);\n",
       "}\n",
       "\n",
       ".xr-section-item input:enabled + label {\n",
       "  cursor: pointer;\n",
       "  color: var(--xr-font-color2);\n",
       "}\n",
       "\n",
       ".xr-section-item input:enabled + label:hover {\n",
       "  color: var(--xr-font-color0);\n",
       "}\n",
       "\n",
       ".xr-section-summary {\n",
       "  grid-column: 1;\n",
       "  color: var(--xr-font-color2);\n",
       "  font-weight: 500;\n",
       "}\n",
       "\n",
       ".xr-section-summary > span {\n",
       "  display: inline-block;\n",
       "  padding-left: 0.5em;\n",
       "}\n",
       "\n",
       ".xr-section-summary-in:disabled + label {\n",
       "  color: var(--xr-font-color2);\n",
       "}\n",
       "\n",
       ".xr-section-summary-in + label:before {\n",
       "  display: inline-block;\n",
       "  content: '►';\n",
       "  font-size: 11px;\n",
       "  width: 15px;\n",
       "  text-align: center;\n",
       "}\n",
       "\n",
       ".xr-section-summary-in:disabled + label:before {\n",
       "  color: var(--xr-disabled-color);\n",
       "}\n",
       "\n",
       ".xr-section-summary-in:checked + label:before {\n",
       "  content: '▼';\n",
       "}\n",
       "\n",
       ".xr-section-summary-in:checked + label > span {\n",
       "  display: none;\n",
       "}\n",
       "\n",
       ".xr-section-summary,\n",
       ".xr-section-inline-details {\n",
       "  padding-top: 4px;\n",
       "  padding-bottom: 4px;\n",
       "}\n",
       "\n",
       ".xr-section-inline-details {\n",
       "  grid-column: 2 / -1;\n",
       "}\n",
       "\n",
       ".xr-section-details {\n",
       "  display: none;\n",
       "  grid-column: 1 / -1;\n",
       "  margin-bottom: 5px;\n",
       "}\n",
       "\n",
       ".xr-section-summary-in:checked ~ .xr-section-details {\n",
       "  display: contents;\n",
       "}\n",
       "\n",
       ".xr-array-wrap {\n",
       "  grid-column: 1 / -1;\n",
       "  display: grid;\n",
       "  grid-template-columns: 20px auto;\n",
       "}\n",
       "\n",
       ".xr-array-wrap > label {\n",
       "  grid-column: 1;\n",
       "  vertical-align: top;\n",
       "}\n",
       "\n",
       ".xr-preview {\n",
       "  color: var(--xr-font-color3);\n",
       "}\n",
       "\n",
       ".xr-array-preview,\n",
       ".xr-array-data {\n",
       "  padding: 0 5px !important;\n",
       "  grid-column: 2;\n",
       "}\n",
       "\n",
       ".xr-array-data,\n",
       ".xr-array-in:checked ~ .xr-array-preview {\n",
       "  display: none;\n",
       "}\n",
       "\n",
       ".xr-array-in:checked ~ .xr-array-data,\n",
       ".xr-array-preview {\n",
       "  display: inline-block;\n",
       "}\n",
       "\n",
       ".xr-dim-list {\n",
       "  display: inline-block !important;\n",
       "  list-style: none;\n",
       "  padding: 0 !important;\n",
       "  margin: 0;\n",
       "}\n",
       "\n",
       ".xr-dim-list li {\n",
       "  display: inline-block;\n",
       "  padding: 0;\n",
       "  margin: 0;\n",
       "}\n",
       "\n",
       ".xr-dim-list:before {\n",
       "  content: '(';\n",
       "}\n",
       "\n",
       ".xr-dim-list:after {\n",
       "  content: ')';\n",
       "}\n",
       "\n",
       ".xr-dim-list li:not(:last-child):after {\n",
       "  content: ',';\n",
       "  padding-right: 5px;\n",
       "}\n",
       "\n",
       ".xr-has-index {\n",
       "  font-weight: bold;\n",
       "}\n",
       "\n",
       ".xr-var-list,\n",
       ".xr-var-item {\n",
       "  display: contents;\n",
       "}\n",
       "\n",
       ".xr-var-item > div,\n",
       ".xr-var-item label,\n",
       ".xr-var-item > .xr-var-name span {\n",
       "  background-color: var(--xr-background-color-row-even);\n",
       "  margin-bottom: 0;\n",
       "}\n",
       "\n",
       ".xr-var-item > .xr-var-name:hover span {\n",
       "  padding-right: 5px;\n",
       "}\n",
       "\n",
       ".xr-var-list > li:nth-child(odd) > div,\n",
       ".xr-var-list > li:nth-child(odd) > label,\n",
       ".xr-var-list > li:nth-child(odd) > .xr-var-name span {\n",
       "  background-color: var(--xr-background-color-row-odd);\n",
       "}\n",
       "\n",
       ".xr-var-name {\n",
       "  grid-column: 1;\n",
       "}\n",
       "\n",
       ".xr-var-dims {\n",
       "  grid-column: 2;\n",
       "}\n",
       "\n",
       ".xr-var-dtype {\n",
       "  grid-column: 3;\n",
       "  text-align: right;\n",
       "  color: var(--xr-font-color2);\n",
       "}\n",
       "\n",
       ".xr-var-preview {\n",
       "  grid-column: 4;\n",
       "}\n",
       "\n",
       ".xr-var-name,\n",
       ".xr-var-dims,\n",
       ".xr-var-dtype,\n",
       ".xr-preview,\n",
       ".xr-attrs dt {\n",
       "  white-space: nowrap;\n",
       "  overflow: hidden;\n",
       "  text-overflow: ellipsis;\n",
       "  padding-right: 10px;\n",
       "}\n",
       "\n",
       ".xr-var-name:hover,\n",
       ".xr-var-dims:hover,\n",
       ".xr-var-dtype:hover,\n",
       ".xr-attrs dt:hover {\n",
       "  overflow: visible;\n",
       "  width: auto;\n",
       "  z-index: 1;\n",
       "}\n",
       "\n",
       ".xr-var-attrs,\n",
       ".xr-var-data {\n",
       "  display: none;\n",
       "  background-color: var(--xr-background-color) !important;\n",
       "  padding-bottom: 5px !important;\n",
       "}\n",
       "\n",
       ".xr-var-attrs-in:checked ~ .xr-var-attrs,\n",
       ".xr-var-data-in:checked ~ .xr-var-data {\n",
       "  display: block;\n",
       "}\n",
       "\n",
       ".xr-var-data > table {\n",
       "  float: right;\n",
       "}\n",
       "\n",
       ".xr-var-name span,\n",
       ".xr-var-data,\n",
       ".xr-attrs {\n",
       "  padding-left: 25px !important;\n",
       "}\n",
       "\n",
       ".xr-attrs,\n",
       ".xr-var-attrs,\n",
       ".xr-var-data {\n",
       "  grid-column: 1 / -1;\n",
       "}\n",
       "\n",
       "dl.xr-attrs {\n",
       "  padding: 0;\n",
       "  margin: 0;\n",
       "  display: grid;\n",
       "  grid-template-columns: 125px auto;\n",
       "}\n",
       "\n",
       ".xr-attrs dt, dd {\n",
       "  padding: 0;\n",
       "  margin: 0;\n",
       "  float: left;\n",
       "  padding-right: 10px;\n",
       "  width: auto;\n",
       "}\n",
       "\n",
       ".xr-attrs dt {\n",
       "  font-weight: normal;\n",
       "  grid-column: 1;\n",
       "}\n",
       "\n",
       ".xr-attrs dt:hover span {\n",
       "  display: inline-block;\n",
       "  background: var(--xr-background-color);\n",
       "  padding-right: 10px;\n",
       "}\n",
       "\n",
       ".xr-attrs dd {\n",
       "  grid-column: 2;\n",
       "  white-space: pre-wrap;\n",
       "  word-break: break-all;\n",
       "}\n",
       "\n",
       ".xr-icon-database,\n",
       ".xr-icon-file-text2 {\n",
       "  display: inline-block;\n",
       "  vertical-align: middle;\n",
       "  width: 1em;\n",
       "  height: 1.5em !important;\n",
       "  stroke-width: 0;\n",
       "  stroke: currentColor;\n",
       "  fill: currentColor;\n",
       "}\n",
       "</style><pre class='xr-text-repr-fallback'>&lt;xarray.DataArray &#x27;D&#x27; (time: 101)&gt;\n",
       "array([0.00000000e+00, 6.41748722e-09, 6.58287179e-07, 9.02163299e-06,\n",
       "       5.46932086e-05, 2.13025884e-04, 6.26937369e-04, 1.52893715e-03,\n",
       "       3.25008416e-03, 6.23117558e-03, 1.10371357e-02, 1.83467407e-02,\n",
       "       2.89743913e-02, 4.38800584e-02, 6.41722052e-02, 9.11271297e-02,\n",
       "       1.26246338e-01, 1.71266191e-01, 2.28159135e-01, 2.99221807e-01,\n",
       "       3.87144170e-01, 4.95073956e-01, 6.26673507e-01, 7.86218894e-01,\n",
       "       9.78750437e-01, 1.21019221e+00, 1.48748606e+00, 1.81877647e+00,\n",
       "       2.21375663e+00, 2.68377899e+00, 3.24218425e+00, 3.90470857e+00,\n",
       "       4.69009938e+00, 5.62025934e+00, 6.72101992e+00, 8.02291888e+00,\n",
       "       9.56210616e+00, 1.13810460e+01, 1.35296645e+01, 1.60673103e+01,\n",
       "       1.90637101e+01, 2.26007537e+01, 2.67752456e+01, 3.17017826e+01,\n",
       "       3.75144190e+01, 4.43712236e+01, 5.24589007e+01, 6.19962790e+01,\n",
       "       7.32343550e+01, 8.64519844e+01, 1.01938385e+02, 1.19958329e+02,\n",
       "       1.40722028e+02, 1.64349586e+02, 1.90843672e+02, 2.20101030e+02,\n",
       "       2.51913047e+02, 2.85995503e+02, 3.22009177e+02, 3.59583339e+02,\n",
       "       3.98330602e+02, 4.37866522e+02, 4.77839983e+02, 5.17923026e+02,\n",
       "       5.57798056e+02, 5.97195240e+02, 6.35898130e+02, 6.73719615e+02,\n",
       "       7.10491872e+02, 7.46088019e+02, 7.80410468e+02, 8.13387701e+02,\n",
       "       8.44970761e+02, 8.75131437e+02, 9.03859037e+02, 9.31155967e+02,\n",
       "       9.57037130e+02, 9.81528831e+02, 1.00466399e+03, 1.02648130e+03,\n",
       "       1.04702568e+03, 1.06634543e+03, 1.08449030e+03, 1.10151219e+03,\n",
       "       1.11746423e+03, 1.13239908e+03, 1.14636909e+03, 1.15942615e+03,\n",
       "       1.17162071e+03, 1.18300185e+03, 1.19361718e+03, 1.20351238e+03,\n",
       "       1.21273133e+03, 1.22131605e+03, 1.22930649e+03, 1.23674062e+03,\n",
       "       1.24365453e+03, 1.25008234e+03, 1.25605624e+03, 1.26160661e+03,\n",
       "       1.26676204e+03])\n",
       "Coordinates:\n",
       "  * time     (time) int32 0 1 2 3 4 5 6 7 8 9 ... 91 92 93 94 95 96 97 98 99 100</pre><div class='xr-wrap' hidden><div class='xr-header'><div class='xr-obj-type'>xarray.DataArray</div><div class='xr-array-name'>'D'</div><ul class='xr-dim-list'><li><span class='xr-has-index'>time</span>: 101</li></ul></div><ul class='xr-sections'><li class='xr-section-item'><div class='xr-array-wrap'><input id='section-4fd1b273-86e2-416e-af7b-05e950f9618a' class='xr-array-in' type='checkbox' checked><label for='section-4fd1b273-86e2-416e-af7b-05e950f9618a' title='Show/hide data repr'><svg class='icon xr-icon-database'><use xlink:href='#icon-database'></use></svg></label><div class='xr-array-preview xr-preview'><span>0.0 6.417e-09 6.583e-07 9.022e-06 ... 1.256e+03 1.262e+03 1.267e+03</span></div><div class='xr-array-data'><pre>array([0.00000000e+00, 6.41748722e-09, 6.58287179e-07, 9.02163299e-06,\n",
       "       5.46932086e-05, 2.13025884e-04, 6.26937369e-04, 1.52893715e-03,\n",
       "       3.25008416e-03, 6.23117558e-03, 1.10371357e-02, 1.83467407e-02,\n",
       "       2.89743913e-02, 4.38800584e-02, 6.41722052e-02, 9.11271297e-02,\n",
       "       1.26246338e-01, 1.71266191e-01, 2.28159135e-01, 2.99221807e-01,\n",
       "       3.87144170e-01, 4.95073956e-01, 6.26673507e-01, 7.86218894e-01,\n",
       "       9.78750437e-01, 1.21019221e+00, 1.48748606e+00, 1.81877647e+00,\n",
       "       2.21375663e+00, 2.68377899e+00, 3.24218425e+00, 3.90470857e+00,\n",
       "       4.69009938e+00, 5.62025934e+00, 6.72101992e+00, 8.02291888e+00,\n",
       "       9.56210616e+00, 1.13810460e+01, 1.35296645e+01, 1.60673103e+01,\n",
       "       1.90637101e+01, 2.26007537e+01, 2.67752456e+01, 3.17017826e+01,\n",
       "       3.75144190e+01, 4.43712236e+01, 5.24589007e+01, 6.19962790e+01,\n",
       "       7.32343550e+01, 8.64519844e+01, 1.01938385e+02, 1.19958329e+02,\n",
       "       1.40722028e+02, 1.64349586e+02, 1.90843672e+02, 2.20101030e+02,\n",
       "       2.51913047e+02, 2.85995503e+02, 3.22009177e+02, 3.59583339e+02,\n",
       "       3.98330602e+02, 4.37866522e+02, 4.77839983e+02, 5.17923026e+02,\n",
       "       5.57798056e+02, 5.97195240e+02, 6.35898130e+02, 6.73719615e+02,\n",
       "       7.10491872e+02, 7.46088019e+02, 7.80410468e+02, 8.13387701e+02,\n",
       "       8.44970761e+02, 8.75131437e+02, 9.03859037e+02, 9.31155967e+02,\n",
       "       9.57037130e+02, 9.81528831e+02, 1.00466399e+03, 1.02648130e+03,\n",
       "       1.04702568e+03, 1.06634543e+03, 1.08449030e+03, 1.10151219e+03,\n",
       "       1.11746423e+03, 1.13239908e+03, 1.14636909e+03, 1.15942615e+03,\n",
       "       1.17162071e+03, 1.18300185e+03, 1.19361718e+03, 1.20351238e+03,\n",
       "       1.21273133e+03, 1.22131605e+03, 1.22930649e+03, 1.23674062e+03,\n",
       "       1.24365453e+03, 1.25008234e+03, 1.25605624e+03, 1.26160661e+03,\n",
       "       1.26676204e+03])</pre></div></div></li><li class='xr-section-item'><input id='section-a61d77c5-0717-473c-9ca3-ea4cecfe3e25' class='xr-section-summary-in' type='checkbox'  checked><label for='section-a61d77c5-0717-473c-9ca3-ea4cecfe3e25' class='xr-section-summary' >Coordinates: <span>(1)</span></label><div class='xr-section-inline-details'></div><div class='xr-section-details'><ul class='xr-var-list'><li class='xr-var-item'><div class='xr-var-name'><span class='xr-has-index'>time</span></div><div class='xr-var-dims'>(time)</div><div class='xr-var-dtype'>int32</div><div class='xr-var-preview xr-preview'>0 1 2 3 4 5 ... 95 96 97 98 99 100</div><input id='attrs-e6b657bb-e39c-42b3-beb2-74d10591aa8c' class='xr-var-attrs-in' type='checkbox' disabled><label for='attrs-e6b657bb-e39c-42b3-beb2-74d10591aa8c' title='Show/Hide attributes'><svg class='icon xr-icon-file-text2'><use xlink:href='#icon-file-text2'></use></svg></label><input id='data-f5902e64-77c6-411f-aa7b-1bf984079017' class='xr-var-data-in' type='checkbox'><label for='data-f5902e64-77c6-411f-aa7b-1bf984079017' title='Show/Hide data repr'><svg class='icon xr-icon-database'><use xlink:href='#icon-database'></use></svg></label><div class='xr-var-attrs'><dl class='xr-attrs'></dl></div><div class='xr-var-data'><pre>array([  0,   1,   2,   3,   4,   5,   6,   7,   8,   9,  10,  11,  12,  13,\n",
       "        14,  15,  16,  17,  18,  19,  20,  21,  22,  23,  24,  25,  26,  27,\n",
       "        28,  29,  30,  31,  32,  33,  34,  35,  36,  37,  38,  39,  40,  41,\n",
       "        42,  43,  44,  45,  46,  47,  48,  49,  50,  51,  52,  53,  54,  55,\n",
       "        56,  57,  58,  59,  60,  61,  62,  63,  64,  65,  66,  67,  68,  69,\n",
       "        70,  71,  72,  73,  74,  75,  76,  77,  78,  79,  80,  81,  82,  83,\n",
       "        84,  85,  86,  87,  88,  89,  90,  91,  92,  93,  94,  95,  96,  97,\n",
       "        98,  99, 100])</pre></div></li></ul></div></li><li class='xr-section-item'><input id='section-dc1ec564-3a43-4e66-b53f-81429a7d240b' class='xr-section-summary-in' type='checkbox' disabled ><label for='section-dc1ec564-3a43-4e66-b53f-81429a7d240b' class='xr-section-summary'  title='Expand/collapse section'>Attributes: <span>(0)</span></label><div class='xr-section-inline-details'></div><div class='xr-section-details'><dl class='xr-attrs'></dl></div></li></ul></div></div>"
      ],
      "text/plain": [
       "<xarray.DataArray 'D' (time: 101)>\n",
       "array([0.00000000e+00, 6.41748722e-09, 6.58287179e-07, 9.02163299e-06,\n",
       "       5.46932086e-05, 2.13025884e-04, 6.26937369e-04, 1.52893715e-03,\n",
       "       3.25008416e-03, 6.23117558e-03, 1.10371357e-02, 1.83467407e-02,\n",
       "       2.89743913e-02, 4.38800584e-02, 6.41722052e-02, 9.11271297e-02,\n",
       "       1.26246338e-01, 1.71266191e-01, 2.28159135e-01, 2.99221807e-01,\n",
       "       3.87144170e-01, 4.95073956e-01, 6.26673507e-01, 7.86218894e-01,\n",
       "       9.78750437e-01, 1.21019221e+00, 1.48748606e+00, 1.81877647e+00,\n",
       "       2.21375663e+00, 2.68377899e+00, 3.24218425e+00, 3.90470857e+00,\n",
       "       4.69009938e+00, 5.62025934e+00, 6.72101992e+00, 8.02291888e+00,\n",
       "       9.56210616e+00, 1.13810460e+01, 1.35296645e+01, 1.60673103e+01,\n",
       "       1.90637101e+01, 2.26007537e+01, 2.67752456e+01, 3.17017826e+01,\n",
       "       3.75144190e+01, 4.43712236e+01, 5.24589007e+01, 6.19962790e+01,\n",
       "       7.32343550e+01, 8.64519844e+01, 1.01938385e+02, 1.19958329e+02,\n",
       "       1.40722028e+02, 1.64349586e+02, 1.90843672e+02, 2.20101030e+02,\n",
       "       2.51913047e+02, 2.85995503e+02, 3.22009177e+02, 3.59583339e+02,\n",
       "       3.98330602e+02, 4.37866522e+02, 4.77839983e+02, 5.17923026e+02,\n",
       "       5.57798056e+02, 5.97195240e+02, 6.35898130e+02, 6.73719615e+02,\n",
       "       7.10491872e+02, 7.46088019e+02, 7.80410468e+02, 8.13387701e+02,\n",
       "       8.44970761e+02, 8.75131437e+02, 9.03859037e+02, 9.31155967e+02,\n",
       "       9.57037130e+02, 9.81528831e+02, 1.00466399e+03, 1.02648130e+03,\n",
       "       1.04702568e+03, 1.06634543e+03, 1.08449030e+03, 1.10151219e+03,\n",
       "       1.11746423e+03, 1.13239908e+03, 1.14636909e+03, 1.15942615e+03,\n",
       "       1.17162071e+03, 1.18300185e+03, 1.19361718e+03, 1.20351238e+03,\n",
       "       1.21273133e+03, 1.22131605e+03, 1.22930649e+03, 1.23674062e+03,\n",
       "       1.24365453e+03, 1.25008234e+03, 1.25605624e+03, 1.26160661e+03,\n",
       "       1.26676204e+03])\n",
       "Coordinates:\n",
       "  * time     (time) int32 0 1 2 3 4 5 6 7 8 9 ... 91 92 93 94 95 96 97 98 99 100"
      ]
     },
     "execution_count": 52,
     "metadata": {},
     "output_type": "execute_result"
    }
   ],
   "source": [
    "out_nat_det['D'].sum(dim='Nc')"
   ]
  },
  {
   "cell_type": "markdown",
   "metadata": {},
   "source": [
    "## Spatial deterministic: provinces"
   ]
  },
  {
   "cell_type": "code",
   "execution_count": 51,
   "metadata": {
    "ExecuteTime": {
     "end_time": "2020-12-03T15:40:01.672264Z",
     "start_time": "2020-12-03T15:40:01.399471Z"
    }
   },
   "outputs": [],
   "source": [
    "# Load parameters and interaction matrices\n",
    "age_str = True\n",
    "spatial_str = 'prov'\n",
    "intensity='all'\n",
    "\n",
    "params = model_parameters.get_COVID19_SEIRD_parameters(age_stratified=age_str, spatial=spatial_str)\n",
    "initN, Nc_home, Nc_work, Nc_schools, Nc_transport, Nc_leisure, Nc_others, Nc_total = model_parameters.get_interaction_matrices(intensity=intensity, spatial=spatial_str)\n",
    "\n",
    "days_number = 100\n",
    "\n",
    "# Policy values (for more details on nature of measures, see block below)\n",
    "policy_time = 40 # Must be smaller than days_number\n",
    "tau = 5 # days until new measures show some effect\n",
    "l = 5 # days since policy_time + tau until new measures show full effect"
   ]
  },
  {
   "cell_type": "code",
   "execution_count": 52,
   "metadata": {
    "ExecuteTime": {
     "end_time": "2020-12-03T15:40:02.433422Z",
     "start_time": "2020-12-03T15:40:02.359426Z"
    }
   },
   "outputs": [],
   "source": [
    "# Define initial conditions\n",
    "isolated_prov = 'arrondissement brussel-hoofdstad'\n",
    "initial_prov = 'provincie Luxemburg'\n",
    "isolated_index = name2nis(isolated_prov, return_index='prov')\n",
    "initial_index = name2nis(initial_prov, return_index='prov')\n",
    "\n",
    "# Drop ten exposed 35-year-old in initial province\n",
    "exposed = np.zeros(initN.shape)\n",
    "exposed[initial_index,3] = 10\n",
    "\n",
    "init_states = dict({'S' : initN, 'E' : exposed})\n",
    "\n",
    "# The type of policy change: contact is reduced from everything to home contact (within the arrondissement) only\n",
    "policy1 = Nc_total\n",
    "policy2 = Nc_home\n",
    "params.update({'policy1' : policy1,\n",
    "               'policy2' : policy2})\n",
    "\n",
    "# Add social policy parameter values\n",
    "params.update({'l': l,\n",
    "              'tau': tau,\n",
    "              'policy_time' : policy_time})\n",
    "\n",
    "pg = np.ones(initN.shape[0])\n",
    "pg[isolated_index] = 0\n",
    "params.update({'pg' : pg})"
   ]
  },
  {
   "cell_type": "code",
   "execution_count": 53,
   "metadata": {
    "ExecuteTime": {
     "end_time": "2020-12-03T15:40:04.508345Z",
     "start_time": "2020-12-03T15:40:04.439354Z"
    }
   },
   "outputs": [],
   "source": [
    "# Load the model\n",
    "model = models.COVID19_SEIRD_spatial(init_states, params, time_dependent_parameters={'Nc' : social_policy_func},\n",
    "                                     discrete=False, spatial=spatial_str)"
   ]
  },
  {
   "cell_type": "code",
   "execution_count": 61,
   "metadata": {
    "ExecuteTime": {
     "end_time": "2020-12-03T15:45:33.596778Z",
     "start_time": "2020-12-03T15:45:32.807572Z"
    }
   },
   "outputs": [
    {
     "data": {
      "image/png": "[encoded data removed]",
      "text/plain": [
       "<Figure size 1080x504 with 6 Axes>"
      ]
     },
     "metadata": {
      "needs_background": "light"
     },
     "output_type": "display_data"
    }
   ],
   "source": [
    "# out_prov_det = model.sim(days_number)\n",
    "# graphs = show_graphs(out_prov_det, ts=['E', 'H_in', 'D'])\n",
    "maps = show_map(out_prov_det, provinces, day=30, figname=None)"
   ]
  },
  {
   "cell_type": "markdown",
   "metadata": {
    "ExecuteTime": {
     "end_time": "2020-11-25T12:12:26.414168Z",
     "start_time": "2020-11-25T12:12:26.290473Z"
    }
   },
   "source": [
    "## Spatial deterministic: arrondissements"
   ]
  },
  {
   "cell_type": "code",
   "execution_count": 62,
   "metadata": {
    "ExecuteTime": {
     "end_time": "2020-12-03T15:48:05.396700Z",
     "start_time": "2020-12-03T15:48:05.119597Z"
    }
   },
   "outputs": [
    {
     "data": {
      "text/plain": [
       "(43, 9)"
      ]
     },
     "execution_count": 62,
     "metadata": {},
     "output_type": "execute_result"
    }
   ],
   "source": [
    "# Load parameters and interaction matrices\n",
    "age_str = True\n",
    "spatial_str = 'arr'\n",
    "intensity='all'\n",
    "\n",
    "params = model_parameters.get_COVID19_SEIRD_parameters(age_stratified=age_str, spatial=spatial_str)\n",
    "initN, Nc_home, Nc_work, Nc_schools, Nc_transport, Nc_leisure, Nc_others, Nc_total = model_parameters.get_interaction_matrices(intensity=intensity, spatial=spatial_str)\n",
    "\n",
    "days_number = 100\n",
    "\n",
    "# Policy values (for more details on nature of measures, see block below)\n",
    "policy_time = 40 # Must be smaller than days_number\n",
    "tau = 5 # days until new measures show some effect\n",
    "l = 5 # days since policy_time + tau until new measures show full effect\n",
    "\n",
    "initN.shape"
   ]
  },
  {
   "cell_type": "code",
   "execution_count": 97,
   "metadata": {
    "ExecuteTime": {
     "end_time": "2020-12-03T16:54:58.960581Z",
     "start_time": "2020-12-03T16:54:58.876252Z"
    }
   },
   "outputs": [],
   "source": [
    "# Define initial conditions\n",
    "isolated_prov = 'arrondissement brussel-hoofdstad'\n",
    "initial_prov = 'arrondissement Aarlen'\n",
    "isolated_index = name2nis(isolated_prov, return_index='arr')\n",
    "initial_index = name2nis(initial_prov, return_index='arr')\n",
    "\n",
    "isolation_mobility = 0\n",
    "\n",
    "# Drop ten exposed 35-year-old in each arrondissement\n",
    "exposed = np.zeros(initN.shape)\n",
    "exposed[initial_index,3] = 10\n",
    "\n",
    "init_states = dict({'S' : initN, 'E' : exposed})\n",
    "\n",
    "# The type of policy change: contact is reduced from everything to home contact (within the arrondissement) only\n",
    "policy1 = Nc_total\n",
    "policy2 = Nc_home\n",
    "params.update({'policy1' : policy1,\n",
    "               'policy2' : policy2})\n",
    "\n",
    "# Add social policy parameter values\n",
    "params.update({'l': l,\n",
    "              'tau': tau,\n",
    "              'policy_time' : policy_time})\n",
    "\n",
    "pg = np.ones(initN.shape[0])\n",
    "pg[isolated_index] = isolation_mobility\n",
    "params.update({'pg' : pg})"
   ]
  },
  {
   "cell_type": "code",
   "execution_count": 98,
   "metadata": {
    "ExecuteTime": {
     "end_time": "2020-12-03T16:54:59.257888Z",
     "start_time": "2020-12-03T16:54:59.190917Z"
    }
   },
   "outputs": [],
   "source": [
    "# Load the model\n",
    "model = models.COVID19_SEIRD_spatial(init_states, params, time_dependent_parameters={'Nc' : social_policy_func},\n",
    "                                     discrete=False, spatial=spatial_str)"
   ]
  },
  {
   "cell_type": "code",
   "execution_count": 99,
   "metadata": {
    "ExecuteTime": {
     "end_time": "2020-12-03T16:56:11.372410Z",
     "start_time": "2020-12-03T16:55:46.907457Z"
    }
   },
   "outputs": [
    {
     "name": "stdout",
     "output_type": "stream",
     "text": [
      "Saved figure '10-30yo_Arlon_BXL-mobility-0p0'\n",
      "Saved figure '10-30yo_Arlon_BXL-mobility-0p0_21000'\n"
     ]
    }
   ],
   "source": [
    "out_arr_det = model.sim(days_number)\n",
    "graphs = show_graphs(out_arr_det, ts=['E', 'H_in', 'D'], ylim=[7000, 50, 110], figname='10-30yo_Arlon_BXL-mobility-0p0')\n",
    "graphs = show_graphs(out_arr_det, nis = 21000, ts=['E', 'H_in', 'D'], ylim=[7000, 50, 110], figname='10-30yo_Arlon_BXL-mobility-0p0_21000')\n",
    "# for day in range(days_number):\n",
    "#     figname = f'10-30yo_Arlon_BXL-mobility-0p0_day{day}'\n",
    "#     maps = show_map(out_arr_det, arrondissements, day=day, geo_ylim=700, ts_graph=['E', 'H_in', 'D'], graph_ylim=[7000, 50, 110], figname=figname)"
   ]
  },
  {
   "cell_type": "code",
   "execution_count": 75,
   "metadata": {
    "ExecuteTime": {
     "end_time": "2020-12-03T16:19:12.384369Z",
     "start_time": "2020-12-03T16:19:12.322535Z"
    }
   },
   "outputs": [
    {
     "name": "stdout",
     "output_type": "stream",
     "text": [
      "0 E\n",
      "1 S\n",
      "2 H_in\n"
     ]
    }
   ],
   "source": [
    "ints = ['E', 'S', 'H_in']\n",
    "for idx, val in enumerate(ints):\n",
    "    print(idx, val)"
   ]
  },
  {
   "cell_type": "markdown",
   "metadata": {},
   "source": [
    "## Spatial deterministic - focus on single patch without mobility (sanity check)"
   ]
  },
  {
   "cell_type": "code",
   "execution_count": 93,
   "metadata": {
    "ExecuteTime": {
     "end_time": "2020-11-25T14:09:19.803904Z",
     "start_time": "2020-11-25T14:09:19.513682Z"
    }
   },
   "outputs": [],
   "source": [
    "# Load parameters and interaction matrices\n",
    "age_str = True\n",
    "spatial_str = 'prov'\n",
    "intensity='all'\n",
    "\n",
    "params = model_parameters.get_COVID19_SEIRD_parameters(age_stratified=age_str, spatial=spatial_str)\n",
    "initN, Nc_home, Nc_work, Nc_schools, Nc_transport, Nc_leisure, Nc_others, Nc_total = model_parameters.get_interaction_matrices(intensity=intensity, spatial=spatial_str)\n",
    "\n",
    "days_number = 100\n",
    "\n",
    "# Policy values (for more details on nature of measures, see block below)\n",
    "policy_time = 40 # Must be smaller than days_number\n",
    "tau = 5 # days until new measures show some effect\n",
    "l = 5 # days since policy_time + tau until new measures show full effect"
   ]
  },
  {
   "cell_type": "code",
   "execution_count": 78,
   "metadata": {
    "ExecuteTime": {
     "end_time": "2020-11-25T12:46:07.159198Z",
     "start_time": "2020-11-25T12:46:07.086908Z"
    }
   },
   "outputs": [
    {
     "data": {
      "text/plain": [
       "0.03492"
      ]
     },
     "execution_count": 78,
     "metadata": {},
     "output_type": "execute_result"
    }
   ],
   "source": [
    "# Define initial conditions\n",
    "\n",
    "# Artificially fill up Brussels with entire Belgian population and bring mobility to zero and drop all exposed people there\n",
    "\n",
    "# Drop a single exposed 35-year-old in each arrondissement + the same number as nationally in Brussels\n",
    "exposed = np.zeros(initN.shape)\n",
    "exposed[:,3] = 0\n",
    "exposed[3,3] = 43\n",
    "\n",
    "initN_pseudo = initN.copy()\n",
    "initN_pseudo[3] = np.sum(initN, axis=0)\n",
    "\n",
    "init_states = dict({'S' : initN_pseudo, 'E' : exposed})\n",
    "\n",
    "params.update({'pi' : np.zeros(initN.shape[1])})\n",
    "\n",
    "# The type of policy change: contact is reduced from everything to home contact (within the arrondissement) only\n",
    "policy1 = Nc_total\n",
    "policy2 = Nc_home\n",
    "params.update({'policy1' : policy1,\n",
    "               'policy2' : policy2})\n",
    "\n",
    "# Add social policy parameter values\n",
    "params.update({'l': l,\n",
    "              'tau': tau,\n",
    "              'policy_time' : policy_time})\n",
    "\n",
    "params['beta']"
   ]
  },
  {
   "cell_type": "code",
   "execution_count": 79,
   "metadata": {
    "ExecuteTime": {
     "end_time": "2020-11-25T12:46:07.533482Z",
     "start_time": "2020-11-25T12:46:07.468477Z"
    }
   },
   "outputs": [],
   "source": [
    "# Load the model\n",
    "model = models.COVID19_SEIRD_spatial(init_states, params, time_dependent_parameters={'Nc' : social_policy_func},\n",
    "                                     discrete=False, spatial=spatial_str)"
   ]
  },
  {
   "cell_type": "code",
   "execution_count": 75,
   "metadata": {
    "ExecuteTime": {
     "end_time": "2020-11-25T12:45:06.757766Z",
     "start_time": "2020-11-25T12:45:02.587852Z"
    }
   },
   "outputs": [
    {
     "data": {
      "image/png": "[encoded data removed]",
      "text/plain": [
       "<Figure size 1080x864 with 3 Axes>"
      ]
     },
     "metadata": {
      "needs_background": "light"
     },
     "output_type": "display_data"
    }
   ],
   "source": [
    "out_spat_det_pseudo = model.sim(days_number)\n",
    "graphs = show_graphs(out_spat_det_pseudo, ts=['C', 'ICU', 'D'], ylim=[1600, 800, 1600],  nis=21000)"
   ]
  },
  {
   "cell_type": "code",
   "execution_count": 46,
   "metadata": {
    "ExecuteTime": {
     "end_time": "2020-11-25T12:19:41.404282Z",
     "start_time": "2020-11-25T12:19:41.324806Z"
    }
   },
   "outputs": [
    {
     "data": {
      "text/html": [
       "<div><svg style=\"position: absolute; width: 0; height: 0; overflow: hidden\">\n",
       "<defs>\n",
       "<symbol id=\"icon-database\" viewBox=\"0 0 32 32\">\n",
       "<path d=\"M16 0c-8.837 0-16 2.239-16 5v4c0 2.761 7.163 5 16 5s16-2.239 16-5v-4c0-2.761-7.163-5-16-5z\"></path>\n",
       "<path d=\"M16 17c-8.837 0-16-2.239-16-5v6c0 2.761 7.163 5 16 5s16-2.239 16-5v-6c0 2.761-7.163 5-16 5z\"></path>\n",
       "<path d=\"M16 26c-8.837 0-16-2.239-16-5v6c0 2.761 7.163 5 16 5s16-2.239 16-5v-6c0 2.761-7.163 5-16 5z\"></path>\n",
       "</symbol>\n",
       "<symbol id=\"icon-file-text2\" viewBox=\"0 0 32 32\">\n",
       "<path d=\"M28.681 7.159c-0.694-0.947-1.662-2.053-2.724-3.116s-2.169-2.030-3.116-2.724c-1.612-1.182-2.393-1.319-2.841-1.319h-15.5c-1.378 0-2.5 1.121-2.5 2.5v27c0 1.378 1.122 2.5 2.5 2.5h23c1.378 0 2.5-1.122 2.5-2.5v-19.5c0-0.448-0.137-1.23-1.319-2.841zM24.543 5.457c0.959 0.959 1.712 1.825 2.268 2.543h-4.811v-4.811c0.718 0.556 1.584 1.309 2.543 2.268zM28 29.5c0 0.271-0.229 0.5-0.5 0.5h-23c-0.271 0-0.5-0.229-0.5-0.5v-27c0-0.271 0.229-0.5 0.5-0.5 0 0 15.499-0 15.5 0v7c0 0.552 0.448 1 1 1h7v19.5z\"></path>\n",
       "<path d=\"M23 26h-14c-0.552 0-1-0.448-1-1s0.448-1 1-1h14c0.552 0 1 0.448 1 1s-0.448 1-1 1z\"></path>\n",
       "<path d=\"M23 22h-14c-0.552 0-1-0.448-1-1s0.448-1 1-1h14c0.552 0 1 0.448 1 1s-0.448 1-1 1z\"></path>\n",
       "<path d=\"M23 18h-14c-0.552 0-1-0.448-1-1s0.448-1 1-1h14c0.552 0 1 0.448 1 1s-0.448 1-1 1z\"></path>\n",
       "</symbol>\n",
       "</defs>\n",
       "</svg>\n",
       "<style>/* CSS stylesheet for displaying xarray objects in jupyterlab.\n",
       " *\n",
       " */\n",
       "\n",
       ":root {\n",
       "  --xr-font-color0: var(--jp-content-font-color0, rgba(0, 0, 0, 1));\n",
       "  --xr-font-color2: var(--jp-content-font-color2, rgba(0, 0, 0, 0.54));\n",
       "  --xr-font-color3: var(--jp-content-font-color3, rgba(0, 0, 0, 0.38));\n",
       "  --xr-border-color: var(--jp-border-color2, #e0e0e0);\n",
       "  --xr-disabled-color: var(--jp-layout-color3, #bdbdbd);\n",
       "  --xr-background-color: var(--jp-layout-color0, white);\n",
       "  --xr-background-color-row-even: var(--jp-layout-color1, white);\n",
       "  --xr-background-color-row-odd: var(--jp-layout-color2, #eeeeee);\n",
       "}\n",
       "\n",
       "html[theme=dark],\n",
       "body.vscode-dark {\n",
       "  --xr-font-color0: rgba(255, 255, 255, 1);\n",
       "  --xr-font-color2: rgba(255, 255, 255, 0.54);\n",
       "  --xr-font-color3: rgba(255, 255, 255, 0.38);\n",
       "  --xr-border-color: #1F1F1F;\n",
       "  --xr-disabled-color: #515151;\n",
       "  --xr-background-color: #111111;\n",
       "  --xr-background-color-row-even: #111111;\n",
       "  --xr-background-color-row-odd: #313131;\n",
       "}\n",
       "\n",
       ".xr-wrap {\n",
       "  display: block;\n",
       "  min-width: 300px;\n",
       "  max-width: 700px;\n",
       "}\n",
       "\n",
       ".xr-text-repr-fallback {\n",
       "  /* fallback to plain text repr when CSS is not injected (untrusted notebook) */\n",
       "  display: none;\n",
       "}\n",
       "\n",
       ".xr-header {\n",
       "  padding-top: 6px;\n",
       "  padding-bottom: 6px;\n",
       "  margin-bottom: 4px;\n",
       "  border-bottom: solid 1px var(--xr-border-color);\n",
       "}\n",
       "\n",
       ".xr-header > div,\n",
       ".xr-header > ul {\n",
       "  display: inline;\n",
       "  margin-top: 0;\n",
       "  margin-bottom: 0;\n",
       "}\n",
       "\n",
       ".xr-obj-type,\n",
       ".xr-array-name {\n",
       "  margin-left: 2px;\n",
       "  margin-right: 10px;\n",
       "}\n",
       "\n",
       ".xr-obj-type {\n",
       "  color: var(--xr-font-color2);\n",
       "}\n",
       "\n",
       ".xr-sections {\n",
       "  padding-left: 0 !important;\n",
       "  display: grid;\n",
       "  grid-template-columns: 150px auto auto 1fr 20px 20px;\n",
       "}\n",
       "\n",
       ".xr-section-item {\n",
       "  display: contents;\n",
       "}\n",
       "\n",
       ".xr-section-item input {\n",
       "  display: none;\n",
       "}\n",
       "\n",
       ".xr-section-item input + label {\n",
       "  color: var(--xr-disabled-color);\n",
       "}\n",
       "\n",
       ".xr-section-item input:enabled + label {\n",
       "  cursor: pointer;\n",
       "  color: var(--xr-font-color2);\n",
       "}\n",
       "\n",
       ".xr-section-item input:enabled + label:hover {\n",
       "  color: var(--xr-font-color0);\n",
       "}\n",
       "\n",
       ".xr-section-summary {\n",
       "  grid-column: 1;\n",
       "  color: var(--xr-font-color2);\n",
       "  font-weight: 500;\n",
       "}\n",
       "\n",
       ".xr-section-summary > span {\n",
       "  display: inline-block;\n",
       "  padding-left: 0.5em;\n",
       "}\n",
       "\n",
       ".xr-section-summary-in:disabled + label {\n",
       "  color: var(--xr-font-color2);\n",
       "}\n",
       "\n",
       ".xr-section-summary-in + label:before {\n",
       "  display: inline-block;\n",
       "  content: '►';\n",
       "  font-size: 11px;\n",
       "  width: 15px;\n",
       "  text-align: center;\n",
       "}\n",
       "\n",
       ".xr-section-summary-in:disabled + label:before {\n",
       "  color: var(--xr-disabled-color);\n",
       "}\n",
       "\n",
       ".xr-section-summary-in:checked + label:before {\n",
       "  content: '▼';\n",
       "}\n",
       "\n",
       ".xr-section-summary-in:checked + label > span {\n",
       "  display: none;\n",
       "}\n",
       "\n",
       ".xr-section-summary,\n",
       ".xr-section-inline-details {\n",
       "  padding-top: 4px;\n",
       "  padding-bottom: 4px;\n",
       "}\n",
       "\n",
       ".xr-section-inline-details {\n",
       "  grid-column: 2 / -1;\n",
       "}\n",
       "\n",
       ".xr-section-details {\n",
       "  display: none;\n",
       "  grid-column: 1 / -1;\n",
       "  margin-bottom: 5px;\n",
       "}\n",
       "\n",
       ".xr-section-summary-in:checked ~ .xr-section-details {\n",
       "  display: contents;\n",
       "}\n",
       "\n",
       ".xr-array-wrap {\n",
       "  grid-column: 1 / -1;\n",
       "  display: grid;\n",
       "  grid-template-columns: 20px auto;\n",
       "}\n",
       "\n",
       ".xr-array-wrap > label {\n",
       "  grid-column: 1;\n",
       "  vertical-align: top;\n",
       "}\n",
       "\n",
       ".xr-preview {\n",
       "  color: var(--xr-font-color3);\n",
       "}\n",
       "\n",
       ".xr-array-preview,\n",
       ".xr-array-data {\n",
       "  padding: 0 5px !important;\n",
       "  grid-column: 2;\n",
       "}\n",
       "\n",
       ".xr-array-data,\n",
       ".xr-array-in:checked ~ .xr-array-preview {\n",
       "  display: none;\n",
       "}\n",
       "\n",
       ".xr-array-in:checked ~ .xr-array-data,\n",
       ".xr-array-preview {\n",
       "  display: inline-block;\n",
       "}\n",
       "\n",
       ".xr-dim-list {\n",
       "  display: inline-block !important;\n",
       "  list-style: none;\n",
       "  padding: 0 !important;\n",
       "  margin: 0;\n",
       "}\n",
       "\n",
       ".xr-dim-list li {\n",
       "  display: inline-block;\n",
       "  padding: 0;\n",
       "  margin: 0;\n",
       "}\n",
       "\n",
       ".xr-dim-list:before {\n",
       "  content: '(';\n",
       "}\n",
       "\n",
       ".xr-dim-list:after {\n",
       "  content: ')';\n",
       "}\n",
       "\n",
       ".xr-dim-list li:not(:last-child):after {\n",
       "  content: ',';\n",
       "  padding-right: 5px;\n",
       "}\n",
       "\n",
       ".xr-has-index {\n",
       "  font-weight: bold;\n",
       "}\n",
       "\n",
       ".xr-var-list,\n",
       ".xr-var-item {\n",
       "  display: contents;\n",
       "}\n",
       "\n",
       ".xr-var-item > div,\n",
       ".xr-var-item label,\n",
       ".xr-var-item > .xr-var-name span {\n",
       "  background-color: var(--xr-background-color-row-even);\n",
       "  margin-bottom: 0;\n",
       "}\n",
       "\n",
       ".xr-var-item > .xr-var-name:hover span {\n",
       "  padding-right: 5px;\n",
       "}\n",
       "\n",
       ".xr-var-list > li:nth-child(odd) > div,\n",
       ".xr-var-list > li:nth-child(odd) > label,\n",
       ".xr-var-list > li:nth-child(odd) > .xr-var-name span {\n",
       "  background-color: var(--xr-background-color-row-odd);\n",
       "}\n",
       "\n",
       ".xr-var-name {\n",
       "  grid-column: 1;\n",
       "}\n",
       "\n",
       ".xr-var-dims {\n",
       "  grid-column: 2;\n",
       "}\n",
       "\n",
       ".xr-var-dtype {\n",
       "  grid-column: 3;\n",
       "  text-align: right;\n",
       "  color: var(--xr-font-color2);\n",
       "}\n",
       "\n",
       ".xr-var-preview {\n",
       "  grid-column: 4;\n",
       "}\n",
       "\n",
       ".xr-var-name,\n",
       ".xr-var-dims,\n",
       ".xr-var-dtype,\n",
       ".xr-preview,\n",
       ".xr-attrs dt {\n",
       "  white-space: nowrap;\n",
       "  overflow: hidden;\n",
       "  text-overflow: ellipsis;\n",
       "  padding-right: 10px;\n",
       "}\n",
       "\n",
       ".xr-var-name:hover,\n",
       ".xr-var-dims:hover,\n",
       ".xr-var-dtype:hover,\n",
       ".xr-attrs dt:hover {\n",
       "  overflow: visible;\n",
       "  width: auto;\n",
       "  z-index: 1;\n",
       "}\n",
       "\n",
       ".xr-var-attrs,\n",
       ".xr-var-data {\n",
       "  display: none;\n",
       "  background-color: var(--xr-background-color) !important;\n",
       "  padding-bottom: 5px !important;\n",
       "}\n",
       "\n",
       ".xr-var-attrs-in:checked ~ .xr-var-attrs,\n",
       ".xr-var-data-in:checked ~ .xr-var-data {\n",
       "  display: block;\n",
       "}\n",
       "\n",
       ".xr-var-data > table {\n",
       "  float: right;\n",
       "}\n",
       "\n",
       ".xr-var-name span,\n",
       ".xr-var-data,\n",
       ".xr-attrs {\n",
       "  padding-left: 25px !important;\n",
       "}\n",
       "\n",
       ".xr-attrs,\n",
       ".xr-var-attrs,\n",
       ".xr-var-data {\n",
       "  grid-column: 1 / -1;\n",
       "}\n",
       "\n",
       "dl.xr-attrs {\n",
       "  padding: 0;\n",
       "  margin: 0;\n",
       "  display: grid;\n",
       "  grid-template-columns: 125px auto;\n",
       "}\n",
       "\n",
       ".xr-attrs dt, dd {\n",
       "  padding: 0;\n",
       "  margin: 0;\n",
       "  float: left;\n",
       "  padding-right: 10px;\n",
       "  width: auto;\n",
       "}\n",
       "\n",
       ".xr-attrs dt {\n",
       "  font-weight: normal;\n",
       "  grid-column: 1;\n",
       "}\n",
       "\n",
       ".xr-attrs dt:hover span {\n",
       "  display: inline-block;\n",
       "  background: var(--xr-background-color);\n",
       "  padding-right: 10px;\n",
       "}\n",
       "\n",
       ".xr-attrs dd {\n",
       "  grid-column: 2;\n",
       "  white-space: pre-wrap;\n",
       "  word-break: break-all;\n",
       "}\n",
       "\n",
       ".xr-icon-database,\n",
       ".xr-icon-file-text2 {\n",
       "  display: inline-block;\n",
       "  vertical-align: middle;\n",
       "  width: 1em;\n",
       "  height: 1.5em !important;\n",
       "  stroke-width: 0;\n",
       "  stroke: currentColor;\n",
       "  fill: currentColor;\n",
       "}\n",
       "</style><pre class='xr-text-repr-fallback'>&lt;xarray.DataArray &#x27;D&#x27; (time: 101)&gt;\n",
       "array([0.00000000e+00, 3.71178226e-09, 3.80933575e-07, 5.22138257e-06,\n",
       "       3.17882582e-05, 1.23205919e-04, 3.63816052e-04, 8.86086470e-04,\n",
       "       1.88120820e-03, 3.61151969e-03, 6.39786847e-03, 1.06329183e-02,\n",
       "       1.67955108e-02, 2.54478330e-02, 3.72296274e-02, 5.28935491e-02,\n",
       "       7.33158377e-02, 9.95005274e-02, 1.32614125e-01, 1.74017194e-01,\n",
       "       2.25303047e-01, 2.88324205e-01, 3.65244082e-01, 4.58622302e-01,\n",
       "       5.71461015e-01, 7.07282645e-01, 8.70234824e-01, 1.06525326e+00,\n",
       "       1.29812583e+00, 1.57566596e+00, 1.90596008e+00, 2.29860257e+00,\n",
       "       2.76486281e+00, 3.31802086e+00, 3.97390576e+00, 4.75120009e+00,\n",
       "       5.67191023e+00, 6.76199735e+00, 8.05242057e+00, 9.57956707e+00,\n",
       "       1.13863247e+01, 1.35235726e+01, 1.60515562e+01, 1.90411736e+01,\n",
       "       2.25758498e+01, 2.67550027e+01, 3.16949519e+01, 3.75344232e+01,\n",
       "       4.44323093e+01, 5.25627763e+01, 6.21125934e+01, 7.32491175e+01,\n",
       "       8.61061086e+01, 1.00766627e+02, 1.17237153e+02, 1.35446830e+02,\n",
       "       1.55272844e+02, 1.76536734e+02, 1.99027703e+02, 2.22509193e+02,\n",
       "       2.46743294e+02, 2.71496603e+02, 2.96538188e+02, 3.21656196e+02,\n",
       "       3.46666044e+02, 3.71398291e+02, 3.95705823e+02, 4.19468068e+02,\n",
       "       4.42584890e+02, 4.64974808e+02, 4.86575464e+02, 5.07341125e+02,\n",
       "       5.27240464e+02, 5.46254460e+02, 5.64374827e+02, 5.81603053e+02,\n",
       "       5.97947716e+02, 6.13423495e+02, 6.28050892e+02, 6.41853895e+02,\n",
       "       6.54859283e+02, 6.67096823e+02, 6.78597652e+02, 6.89393507e+02,\n",
       "       6.99517076e+02, 7.09001305e+02, 7.17878598e+02, 7.26180992e+02,\n",
       "       7.33940044e+02, 7.41186284e+02, 7.47949272e+02, 7.54257602e+02,\n",
       "       7.60138651e+02, 7.65618613e+02, 7.70722524e+02, 7.75474168e+02,\n",
       "       7.79896114e+02, 7.84009764e+02, 7.87835339e+02, 7.91391905e+02,\n",
       "       7.94697445e+02])\n",
       "Coordinates:\n",
       "  * time     (time) int32 0 1 2 3 4 5 6 7 8 9 ... 91 92 93 94 95 96 97 98 99 100\n",
       "    place    int64 21000</pre><div class='xr-wrap' hidden><div class='xr-header'><div class='xr-obj-type'>xarray.DataArray</div><div class='xr-array-name'>'D'</div><ul class='xr-dim-list'><li><span class='xr-has-index'>time</span>: 101</li></ul></div><ul class='xr-sections'><li class='xr-section-item'><div class='xr-array-wrap'><input id='section-6d284968-0651-413c-9fc9-5326d462465f' class='xr-array-in' type='checkbox' checked><label for='section-6d284968-0651-413c-9fc9-5326d462465f' title='Show/hide data repr'><svg class='icon xr-icon-database'><use xlink:href='#icon-database'></use></svg></label><div class='xr-array-preview xr-preview'><span>0.0 3.712e-09 3.809e-07 5.221e-06 ... 784.0 787.8 791.4 794.7</span></div><div class='xr-array-data'><pre>array([0.00000000e+00, 3.71178226e-09, 3.80933575e-07, 5.22138257e-06,\n",
       "       3.17882582e-05, 1.23205919e-04, 3.63816052e-04, 8.86086470e-04,\n",
       "       1.88120820e-03, 3.61151969e-03, 6.39786847e-03, 1.06329183e-02,\n",
       "       1.67955108e-02, 2.54478330e-02, 3.72296274e-02, 5.28935491e-02,\n",
       "       7.33158377e-02, 9.95005274e-02, 1.32614125e-01, 1.74017194e-01,\n",
       "       2.25303047e-01, 2.88324205e-01, 3.65244082e-01, 4.58622302e-01,\n",
       "       5.71461015e-01, 7.07282645e-01, 8.70234824e-01, 1.06525326e+00,\n",
       "       1.29812583e+00, 1.57566596e+00, 1.90596008e+00, 2.29860257e+00,\n",
       "       2.76486281e+00, 3.31802086e+00, 3.97390576e+00, 4.75120009e+00,\n",
       "       5.67191023e+00, 6.76199735e+00, 8.05242057e+00, 9.57956707e+00,\n",
       "       1.13863247e+01, 1.35235726e+01, 1.60515562e+01, 1.90411736e+01,\n",
       "       2.25758498e+01, 2.67550027e+01, 3.16949519e+01, 3.75344232e+01,\n",
       "       4.44323093e+01, 5.25627763e+01, 6.21125934e+01, 7.32491175e+01,\n",
       "       8.61061086e+01, 1.00766627e+02, 1.17237153e+02, 1.35446830e+02,\n",
       "       1.55272844e+02, 1.76536734e+02, 1.99027703e+02, 2.22509193e+02,\n",
       "       2.46743294e+02, 2.71496603e+02, 2.96538188e+02, 3.21656196e+02,\n",
       "       3.46666044e+02, 3.71398291e+02, 3.95705823e+02, 4.19468068e+02,\n",
       "       4.42584890e+02, 4.64974808e+02, 4.86575464e+02, 5.07341125e+02,\n",
       "       5.27240464e+02, 5.46254460e+02, 5.64374827e+02, 5.81603053e+02,\n",
       "       5.97947716e+02, 6.13423495e+02, 6.28050892e+02, 6.41853895e+02,\n",
       "       6.54859283e+02, 6.67096823e+02, 6.78597652e+02, 6.89393507e+02,\n",
       "       6.99517076e+02, 7.09001305e+02, 7.17878598e+02, 7.26180992e+02,\n",
       "       7.33940044e+02, 7.41186284e+02, 7.47949272e+02, 7.54257602e+02,\n",
       "       7.60138651e+02, 7.65618613e+02, 7.70722524e+02, 7.75474168e+02,\n",
       "       7.79896114e+02, 7.84009764e+02, 7.87835339e+02, 7.91391905e+02,\n",
       "       7.94697445e+02])</pre></div></div></li><li class='xr-section-item'><input id='section-5db9bc5d-4ad3-4016-9429-b93570611cb0' class='xr-section-summary-in' type='checkbox'  checked><label for='section-5db9bc5d-4ad3-4016-9429-b93570611cb0' class='xr-section-summary' >Coordinates: <span>(2)</span></label><div class='xr-section-inline-details'></div><div class='xr-section-details'><ul class='xr-var-list'><li class='xr-var-item'><div class='xr-var-name'><span class='xr-has-index'>time</span></div><div class='xr-var-dims'>(time)</div><div class='xr-var-dtype'>int32</div><div class='xr-var-preview xr-preview'>0 1 2 3 4 5 ... 95 96 97 98 99 100</div><input id='attrs-51715a08-32f9-4a11-a58b-498dc1e5f540' class='xr-var-attrs-in' type='checkbox' disabled><label for='attrs-51715a08-32f9-4a11-a58b-498dc1e5f540' title='Show/Hide attributes'><svg class='icon xr-icon-file-text2'><use xlink:href='#icon-file-text2'></use></svg></label><input id='data-457f08bf-7df2-46d3-9f69-ecba8ae5377a' class='xr-var-data-in' type='checkbox'><label for='data-457f08bf-7df2-46d3-9f69-ecba8ae5377a' title='Show/Hide data repr'><svg class='icon xr-icon-database'><use xlink:href='#icon-database'></use></svg></label><div class='xr-var-attrs'><dl class='xr-attrs'></dl></div><div class='xr-var-data'><pre>array([  0,   1,   2,   3,   4,   5,   6,   7,   8,   9,  10,  11,  12,  13,\n",
       "        14,  15,  16,  17,  18,  19,  20,  21,  22,  23,  24,  25,  26,  27,\n",
       "        28,  29,  30,  31,  32,  33,  34,  35,  36,  37,  38,  39,  40,  41,\n",
       "        42,  43,  44,  45,  46,  47,  48,  49,  50,  51,  52,  53,  54,  55,\n",
       "        56,  57,  58,  59,  60,  61,  62,  63,  64,  65,  66,  67,  68,  69,\n",
       "        70,  71,  72,  73,  74,  75,  76,  77,  78,  79,  80,  81,  82,  83,\n",
       "        84,  85,  86,  87,  88,  89,  90,  91,  92,  93,  94,  95,  96,  97,\n",
       "        98,  99, 100])</pre></div></li><li class='xr-var-item'><div class='xr-var-name'><span>place</span></div><div class='xr-var-dims'>()</div><div class='xr-var-dtype'>int64</div><div class='xr-var-preview xr-preview'>21000</div><input id='attrs-682aa41e-5032-4673-999c-e29e7f797713' class='xr-var-attrs-in' type='checkbox' disabled><label for='attrs-682aa41e-5032-4673-999c-e29e7f797713' title='Show/Hide attributes'><svg class='icon xr-icon-file-text2'><use xlink:href='#icon-file-text2'></use></svg></label><input id='data-1a01f45d-217a-4194-838b-73772a26c30d' class='xr-var-data-in' type='checkbox'><label for='data-1a01f45d-217a-4194-838b-73772a26c30d' title='Show/Hide data repr'><svg class='icon xr-icon-database'><use xlink:href='#icon-database'></use></svg></label><div class='xr-var-attrs'><dl class='xr-attrs'></dl></div><div class='xr-var-data'><pre>array(21000, dtype=int64)</pre></div></li></ul></div></li><li class='xr-section-item'><input id='section-af0bd0f8-5c15-431e-8cef-d9b0fe0c0330' class='xr-section-summary-in' type='checkbox' disabled ><label for='section-af0bd0f8-5c15-431e-8cef-d9b0fe0c0330' class='xr-section-summary'  title='Expand/collapse section'>Attributes: <span>(0)</span></label><div class='xr-section-inline-details'></div><div class='xr-section-details'><dl class='xr-attrs'></dl></div></li></ul></div></div>"
      ],
      "text/plain": [
       "<xarray.DataArray 'D' (time: 101)>\n",
       "array([0.00000000e+00, 3.71178226e-09, 3.80933575e-07, 5.22138257e-06,\n",
       "       3.17882582e-05, 1.23205919e-04, 3.63816052e-04, 8.86086470e-04,\n",
       "       1.88120820e-03, 3.61151969e-03, 6.39786847e-03, 1.06329183e-02,\n",
       "       1.67955108e-02, 2.54478330e-02, 3.72296274e-02, 5.28935491e-02,\n",
       "       7.33158377e-02, 9.95005274e-02, 1.32614125e-01, 1.74017194e-01,\n",
       "       2.25303047e-01, 2.88324205e-01, 3.65244082e-01, 4.58622302e-01,\n",
       "       5.71461015e-01, 7.07282645e-01, 8.70234824e-01, 1.06525326e+00,\n",
       "       1.29812583e+00, 1.57566596e+00, 1.90596008e+00, 2.29860257e+00,\n",
       "       2.76486281e+00, 3.31802086e+00, 3.97390576e+00, 4.75120009e+00,\n",
       "       5.67191023e+00, 6.76199735e+00, 8.05242057e+00, 9.57956707e+00,\n",
       "       1.13863247e+01, 1.35235726e+01, 1.60515562e+01, 1.90411736e+01,\n",
       "       2.25758498e+01, 2.67550027e+01, 3.16949519e+01, 3.75344232e+01,\n",
       "       4.44323093e+01, 5.25627763e+01, 6.21125934e+01, 7.32491175e+01,\n",
       "       8.61061086e+01, 1.00766627e+02, 1.17237153e+02, 1.35446830e+02,\n",
       "       1.55272844e+02, 1.76536734e+02, 1.99027703e+02, 2.22509193e+02,\n",
       "       2.46743294e+02, 2.71496603e+02, 2.96538188e+02, 3.21656196e+02,\n",
       "       3.46666044e+02, 3.71398291e+02, 3.95705823e+02, 4.19468068e+02,\n",
       "       4.42584890e+02, 4.64974808e+02, 4.86575464e+02, 5.07341125e+02,\n",
       "       5.27240464e+02, 5.46254460e+02, 5.64374827e+02, 5.81603053e+02,\n",
       "       5.97947716e+02, 6.13423495e+02, 6.28050892e+02, 6.41853895e+02,\n",
       "       6.54859283e+02, 6.67096823e+02, 6.78597652e+02, 6.89393507e+02,\n",
       "       6.99517076e+02, 7.09001305e+02, 7.17878598e+02, 7.26180992e+02,\n",
       "       7.33940044e+02, 7.41186284e+02, 7.47949272e+02, 7.54257602e+02,\n",
       "       7.60138651e+02, 7.65618613e+02, 7.70722524e+02, 7.75474168e+02,\n",
       "       7.79896114e+02, 7.84009764e+02, 7.87835339e+02, 7.91391905e+02,\n",
       "       7.94697445e+02])\n",
       "Coordinates:\n",
       "  * time     (time) int32 0 1 2 3 4 5 6 7 8 9 ... 91 92 93 94 95 96 97 98 99 100\n",
       "    place    int64 21000"
      ]
     },
     "execution_count": 46,
     "metadata": {},
     "output_type": "execute_result"
    }
   ],
   "source": [
    "out_spat_det_pseudo['D'].sel(place=21000).sum(dim='Nc')"
   ]
  },
  {
   "cell_type": "markdown",
   "metadata": {},
   "source": [
    "# scratches"
   ]
  },
  {
   "cell_type": "code",
   "execution_count": 161,
   "metadata": {
    "ExecuteTime": {
     "end_time": "2020-11-25T15:33:04.794142Z",
     "start_time": "2020-11-25T15:20:59.465655Z"
    }
   },
   "outputs": [],
   "source": [
    "# Load parameters and interaction matrices\n",
    "age_str = True\n",
    "spatial_str = 'arr'\n",
    "intensity='all'\n",
    "\n",
    "params = model_parameters.get_COVID19_SEIRD_parameters(age_stratified=age_str, spatial=spatial_str)\n",
    "initN, Nc_home, Nc_work, Nc_schools, Nc_transport, Nc_leisure, Nc_others, Nc_total = model_parameters.get_interaction_matrices(intensity=intensity, spatial=spatial_str)\n",
    "\n",
    "Nc = Nc_total.copy()\n",
    "place = params['place'].copy()\n",
    "pi = params['pi'].copy()\n",
    "area = params['area'].copy()\n",
    "xi = params['xi']\n",
    "N = initN.shape[1]\n",
    "G = place.shape[0]\n",
    "\n",
    "pi = np.zeros(N)\n",
    "\n",
    "T = initN\n",
    "# for key in ['S', 'E', 'I', 'A', 'M', 'ER', 'C', 'C_icurec', 'ICU', 'R']:\n",
    "#     T += out_arr_det[key]\n",
    "# # plt.plot(T.sum(dim='place').sum(dim='Nc'))\n",
    "\n",
    "G = place.shape[0] # spatial stratification\n",
    "N = Nc.shape[0] # age stratification\n",
    "T_eff = np.zeros([G,N]) # initialise\n",
    "for g in range(G):\n",
    "    for i in range(N):\n",
    "        sumT = 0\n",
    "        # h is taken, so iterator for a sum is gg\n",
    "        for gg in range(G):\n",
    "            term1 = (1 - pi[i]) * np.identity(G)[gg][g]\n",
    "            term2 = pi[i] * place[gg][g]\n",
    "            sumT += (term1 + term2) * T[gg][i]\n",
    "        T_eff[g][i] = sumT      \n",
    "\n",
    "# Density dependence per patch: f[patch]\n",
    "T_eff_total = T_eff.sum(axis=1)\n",
    "\n",
    "rho = np.zeros(G)\n",
    "for gg in range(G):\n",
    "    rho[gg] = T_eff_total[gg] / area[gg]\n",
    "f = 1 + (1 - np.exp(-xi * rho))\n",
    "\n",
    "# Normalisation factor per age class: zi[age]\n",
    "# Population per age class\n",
    "Ti = T.sum(axis=0)\n",
    "zi = np.zeros(N)\n",
    "for i in range(N):\n",
    "    denom = 0\n",
    "    for gg in range(G):\n",
    "        denom += f[gg] * T_eff[gg][i]\n",
    "    zi[i] = Ti[i] / denom\n",
    "        \n",
    "prefactor = np.zeros([G,N])\n",
    "for gg in range(G):\n",
    "    for ii in range(N):\n",
    "        prefactor[gg,ii] = zi[ii] * f[gg]"
   ]
  },
  {
   "cell_type": "code",
   "execution_count": 163,
   "metadata": {
    "ExecuteTime": {
     "end_time": "2020-11-25T15:34:55.331767Z",
     "start_time": "2020-11-25T15:34:54.841045Z"
    }
   },
   "outputs": [
    {
     "data": {
      "text/plain": [
       "Text(0.5, 1.05, 'prefactors when $p_i = 0$')"
      ]
     },
     "execution_count": 163,
     "metadata": {},
     "output_type": "execute_result"
    },
    {
     "data": {
      "image/png": "[encoded data removed]",
      "text/plain": [
       "<Figure size 1152x864 with 2 Axes>"
      ]
     },
     "metadata": {
      "needs_background": "light"
     },
     "output_type": "display_data"
    }
   ],
   "source": [
    "from matplotlib import ticker\n",
    "\n",
    "fontsize = 18\n",
    "day = 0\n",
    "fig = plt.figure(figsize=(16,12))\n",
    "ax = fig.add_subplot(111)\n",
    "ax.grid(False)\n",
    "cax = ax.matshow(prefactor[:,:,day],cmap='RdYlBu')#, vmin=0.7, vmax=1.05)\n",
    "fig.colorbar(cax)\n",
    "# ax.set_ylabel('test')\n",
    "# ax.set_xticklabels(['dummy', '10000', '20001', '20002', '21000', '30000', '40000', '50000', '60000', '70000', '80000', '90000'], fontsize=fontsize)\n",
    "ax.set_xticklabels(['dummy', '0-10', '10-20', '20-30', '30-40', '40-50', '50-60', '60-70', '70-80', '80+'], fontsize=fontsize)\n",
    "ax.yaxis.set_major_locator(ticker.MultipleLocator(1))\n",
    "ax.xaxis.set_major_locator(ticker.MultipleLocator(1))\n",
    "ax.set_title(f'prefactors when $p_i = 0$', fontsize=fontsize+6)\n",
    "# plt.savefig('prefactor-evolution_' + str(day) + '.png')\n",
    "# plt.close()"
   ]
  },
  {
   "cell_type": "code",
   "execution_count": 141,
   "metadata": {
    "ExecuteTime": {
     "end_time": "2020-11-22T21:17:05.317384Z",
     "start_time": "2020-11-22T21:17:05.123766Z"
    }
   },
   "outputs": [
    {
     "data": {
      "text/plain": [
       "array([1., 1., 1., 1., 1., 1., 1., 1., 1.])"
      ]
     },
     "execution_count": 141,
     "metadata": {},
     "output_type": "execute_result"
    },
    {
     "data": {
      "image/png": "[encoded data removed]",
      "text/plain": [
       "<Figure size 432x288 with 1 Axes>"
      ]
     },
     "metadata": {
      "needs_background": "light"
     },
     "output_type": "display_data"
    }
   ],
   "source": [
    "for gg in range(G):\n",
    "    plt.plot(np.sum(T_eff,axis=1)[gg])\n",
    "    \n",
    "pi"
   ]
  },
  {
   "cell_type": "markdown",
   "metadata": {},
   "source": [
    "## Checking where the model goes wrong"
   ]
  },
  {
   "cell_type": "code",
   "execution_count": 15,
   "metadata": {
    "ExecuteTime": {
     "end_time": "2020-11-24T19:37:24.837494Z",
     "start_time": "2020-11-24T19:37:24.572204Z"
    }
   },
   "outputs": [
    {
     "name": "stdout",
     "output_type": "stream",
     "text": [
      "[0.000354   0.00046238 0.00044196 0.00049832 0.00048071 0.00037919\n",
      " 0.00024645 0.0001974  0.00018163]\n"
     ]
    },
    {
     "data": {
      "text/plain": [
       "array([0.000354  , 0.00046238, 0.00044196, 0.00049832, 0.00048071,\n",
       "       0.00037919, 0.00024645, 0.0001974 , 0.00018163])"
      ]
     },
     "execution_count": 15,
     "metadata": {},
     "output_type": "execute_result"
    }
   ],
   "source": [
    "params = model_parameters.get_COVID19_SEIRD_parameters(age_stratified=True, spatial=False)\n",
    "initN, Nc_home, Nc_work, Nc_schools, Nc_transport, Nc_leisure, Nc_others, Nc_total = model_parameters.get_interaction_matrices(intensity='all', spatial=False)\n",
    "\n",
    "I = 10*np.ones(initN.shape[0])\n",
    "A = 20*np.ones(initN.shape[0])\n",
    "T = initN\n",
    "\n",
    "result1 = np.matmul(Nc_total,((I+A)/T))\n",
    "\n",
    "result2 = np.zeros(initN.shape[0])\n",
    "for i in range(initN.shape[0]):\n",
    "    sumj = 0\n",
    "    for j in range(initN.shape[0]):\n",
    "        term = Nc_total[i,j] * (I[j] + A[j]) / T[j]       # Nc[j,i] ?\n",
    "        #term = beta * s[i] * Nc[i,j] * (I_eff[gg,j] + A_eff[gg,j]) / T_eff[gg,j]\n",
    "        sumj += term\n",
    "    result2[i] = sumj\n",
    "\n",
    "print(result1)\n",
    "result2"
   ]
  }
 ],
 "metadata": {
  "kernelspec": {
   "display_name": "Python 3",
   "language": "python",
   "name": "python3"
  },
  "language_info": {
   "codemirror_mode": {
    "name": "ipython",
    "version": 3
   },
   "file_extension": ".py",
   "mimetype": "text/x-python",
   "name": "python",
   "nbconvert_exporter": "python",
   "pygments_lexer": "ipython3",
   "version": "3.7.3"
  },
  "toc": {
   "base_numbering": 1,
   "nav_menu": {},
   "number_sections": true,
   "sideBar": true,
   "skip_h1_title": false,
   "title_cell": "Table of Contents",
   "title_sidebar": "Contents",
   "toc_cell": false,
   "toc_position": {},
   "toc_section_display": true,
   "toc_window_display": false
  }
 },
 "nbformat": 4,
 "nbformat_minor": 2
}
