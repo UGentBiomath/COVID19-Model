{
 "cells": [
  {
   "cell_type": "markdown",
   "metadata": {},
   "source": [
    "# Imports"
   ]
  },
  {
   "cell_type": "code",
   "execution_count": 1,
   "metadata": {
    "ExecuteTime": {
     "end_time": "2020-08-17T07:08:40.559132Z",
     "start_time": "2020-08-17T07:08:38.641774Z"
    }
   },
   "outputs": [],
   "source": [
    "import random\n",
    "import os\n",
    "import numpy as np\n",
    "%matplotlib inline\n",
    "import matplotlib.pyplot as plt\n",
    "from IPython.display import Image\n",
    "from ipywidgets import interact,fixed,FloatSlider,IntSlider,ToggleButtons\n",
    "import pandas as pd\n",
    "import datetime\n",
    "import scipy\n",
    "from scipy.integrate import odeint\n",
    "import matplotlib.dates as mdates\n",
    "import matplotlib\n",
    "import scipy.stats as st\n",
    "\n",
    "import math\n",
    "import xarray as xr\n",
    "import emcee\n",
    "import json\n",
    "\n",
    "from covid19model.optimization import objective_fcns\n",
    "from covid19model.optimization import MCMC\n",
    "from covid19model.models import models\n",
    "from covid19model.data import google\n",
    "from covid19model.data import sciensano\n",
    "from covid19model.data import parameters\n",
    "from covid19model.visualization.output import population_status, infected\n",
    "from covid19model.visualization.optimization import plot_fit, traceplot\n",
    "\n",
    "# OPTIONAL: Load the \"autoreload\" extension so that package code can change\n",
    "%load_ext autoreload\n",
    "# OPTIONAL: always reload modules so that as you change code in src, it gets loaded\n",
    "%autoreload 2"
   ]
  },
  {
   "cell_type": "markdown",
   "metadata": {},
   "source": [
    "# Read-ins"
   ]
  },
  {
   "cell_type": "code",
   "execution_count": 2,
   "metadata": {
    "ExecuteTime": {
     "end_time": "2020-08-17T07:08:42.465513Z",
     "start_time": "2020-08-17T07:08:42.410295Z"
    }
   },
   "outputs": [],
   "source": [
    "initN, Nc_home, Nc_work, Nc_schools, Nc_transport, Nc_leisure, Nc_others, Nc_total = model_parameters.get_interaction_matrices()\n",
    "levels = initN.size"
   ]
  },
  {
   "cell_type": "code",
   "execution_count": 3,
   "metadata": {
    "ExecuteTime": {
     "end_time": "2020-08-17T07:08:44.470047Z",
     "start_time": "2020-08-17T07:08:44.390663Z"
    }
   },
   "outputs": [],
   "source": [
    "# Load the parameters using `get_COVID19_SEIRD_parameters()`.\n",
    "params = parameters.get_COVID19_SEIRD_parameters()\n",
    "# Add the delayed ramp parameters to the parameter dictionary.\n",
    "params.update({'l': 1,\n",
    "              'tau': 5})\n",
    "# Define the initial condition: one exposed inidividual in every age category\n",
    "initial_states = {'S': initN, 'E': np.ones(levels)}\n",
    "# Load the compliance model\n",
    "from covid19model.models.compliance import ramp_2\n",
    "# Initialize the model\n",
    "model = models.COVID19_SEIRD(initial_states, params, compliance=ramp_2)"
   ]
  },
  {
   "cell_type": "code",
   "execution_count": 4,
   "metadata": {
    "ExecuteTime": {
     "end_time": "2020-08-17T07:08:50.981571Z",
     "start_time": "2020-08-17T07:08:50.919853Z"
    }
   },
   "outputs": [
    {
     "data": {
      "text/plain": [
       "{'Nc': array([[ 7.7050138 ,  1.2862432 ,  1.1001225 ,  2.5043283 ,  1.6116176 ,\n",
       "          0.8171135 ,  0.59634537,  0.27841252,  0.07048622],\n",
       "        [ 1.1423538 , 10.37362   ,  1.7267089 ,  1.1280934 ,  3.0918975 ,\n",
       "          0.8188106 ,  0.31527534,  0.3358658 ,  0.12945868],\n",
       "        [ 0.87237537,  2.9025762 ,  6.0620823 ,  3.660861  ,  3.6821346 ,\n",
       "          3.0401785 ,  0.7254109 ,  0.28502235,  0.14270055],\n",
       "        [ 1.9403199 ,  3.0408332 ,  3.2626722 ,  5.525336  ,  5.111029  ,\n",
       "          3.3093922 ,  1.4685024 ,  0.6374648 ,  0.17762737],\n",
       "        [ 0.8461594 ,  1.9905204 ,  2.8084047 ,  4.1924486 ,  5.559041  ,\n",
       "          3.578151  ,  1.7862767 ,  1.2867484 ,  0.25889912],\n",
       "        [ 1.0871929 ,  0.88876414,  2.6569402 ,  3.0897384 ,  3.4810073 ,\n",
       "          3.8233793 ,  1.6487906 ,  0.7129298 ,  0.40452144],\n",
       "        [ 0.6406475 ,  0.47970086,  0.7108412 ,  1.5911325 ,  1.7046449 ,\n",
       "          1.6100503 ,  1.9634528 ,  0.83730984,  0.407947  ],\n",
       "        [ 0.2770888 ,  0.39709765,  0.52416795,  0.79720324,  1.3383667 ,\n",
       "          0.9295444 ,  1.2970482 ,  1.5029612 ,  0.31036395],\n",
       "        [ 0.37249258,  0.08188828,  1.4871967 ,  1.2681558 ,  1.2056515 ,\n",
       "          1.1299236 ,  0.7052318 ,  0.64678895,  1.2744398 ]],\n",
       "       dtype=float32),\n",
       " 'c': array([1.        , 1.        , 0.8       , 0.875     , 0.78125   ,\n",
       "        0.74193548, 0.61290323, 0.64285714, 0.88235294]),\n",
       " 'm0_C': array([0.        , 0.        , 0.        , 0.        , 0.08      ,\n",
       "        0.02173913, 0.        , 0.17777778, 0.36666667]),\n",
       " 'm0_ICU': array([0.        , 0.        , 0.        , 0.        , 0.14285714,\n",
       "        0.0625    , 0.16666667, 0.44      , 0.58333333]),\n",
       " 'dc_R': array(8.01029195),\n",
       " 'dc_D': array(6.11322507),\n",
       " 'dICU_R': array(9.86672215),\n",
       " 'dICU_D': array(19.33903233),\n",
       " 'dICUrec': array(6.47233499),\n",
       " 'h': array([0.001, 0.003, 0.012, 0.032, 0.049, 0.102, 0.166, 0.243, 0.273]),\n",
       " 'a': array([0.71, 0.79, 0.73, 0.67, 0.6 , 0.51, 0.37, 0.31, 0.31]),\n",
       " 's': array([0.4 , 0.38, 0.79, 0.86, 0.8 , 0.82, 0.88, 0.74, 0.74]),\n",
       " 'da': 7.0,\n",
       " 'dm': 7.0,\n",
       " 'der': 2.8,\n",
       " 'dhospital': 7.5,\n",
       " 'sigma': 3.2,\n",
       " 'omega': 2.0,\n",
       " 'dq': 14.0,\n",
       " 'zeta': 0.0,\n",
       " 'psi_FP': 0.0,\n",
       " 'psi_PP': 0.0,\n",
       " 'totalTests': 0.0,\n",
       " 'beta': 0.03492,\n",
       " 'l': 1,\n",
       " 'tau': 5}"
      ]
     },
     "execution_count": 4,
     "metadata": {},
     "output_type": "execute_result"
    }
   ],
   "source": [
    "params"
   ]
  },
  {
   "cell_type": "code",
   "execution_count": 5,
   "metadata": {
    "ExecuteTime": {
     "end_time": "2020-08-17T07:21:54.629058Z",
     "start_time": "2020-08-17T07:21:54.392646Z"
    }
   },
   "outputs": [],
   "source": [
    "df_sciensano = sciensano.get_sciensano_COVID19_data(update=False)\n",
    "df_sciensano['D_cumsum'] = df_sciensano.D_tot.cumsum()"
   ]
  },
  {
   "cell_type": "code",
   "execution_count": 6,
   "metadata": {
    "ExecuteTime": {
     "end_time": "2020-08-17T07:21:55.076615Z",
     "start_time": "2020-08-17T07:21:54.632017Z"
    }
   },
   "outputs": [],
   "source": [
    "with open('../../data/interim/model_parameters/deterministic_2020-08-11.json', 'r') as fp:\n",
    "    samples_dict = json.load(fp)\n",
    "\n",
    "lag_time = samples_dict['lag_time']\n",
    "model.extraTime = samples_dict['lag_time']"
   ]
  },
  {
   "cell_type": "markdown",
   "metadata": {},
   "source": [
    "# Functions"
   ]
  },
  {
   "cell_type": "code",
   "execution_count": 7,
   "metadata": {
    "ExecuteTime": {
     "end_time": "2020-08-17T07:21:57.224604Z",
     "start_time": "2020-08-17T07:21:57.169811Z"
    }
   },
   "outputs": [],
   "source": [
    "def model_run_to_df(start, end, simulation, variable, run):\n",
    "    \"\"\"\n",
    "    Make dataframe with dates and simulation results, summed over all age layers\n",
    "    \n",
    "    Parameters\n",
    "    ----------\n",
    "    start : string 'YYYY-MM-DD'\n",
    "        first date to save\n",
    "    end : string 'YYYY-MM-DD'\n",
    "        last date to save\n",
    "    simulations : variable name\n",
    "        name of model.sim output\n",
    "    variable : string\n",
    "        name of the variable, e.g. 'H_in'\n",
    "    run : int\n",
    "        number of the run\n",
    "        \n",
    "    \"\"\"\n",
    "\n",
    "    dates = pd.date_range(start, end)\n",
    "    y_sum = simulation.sum(dim=\"stratification\")\n",
    "    results = y_sum[[variable]][variable].values[-len(dates):]\n",
    "    df_sim = pd.DataFrame({'dates':dates, 'run'+str(run):results})\n",
    "    return df_sim.set_index('dates')"
   ]
  },
  {
   "cell_type": "code",
   "execution_count": 8,
   "metadata": {
    "ExecuteTime": {
     "end_time": "2020-08-17T07:21:57.419920Z",
     "start_time": "2020-08-17T07:21:57.368174Z"
    }
   },
   "outputs": [],
   "source": [
    "def collect_runs(runs_dict):\n",
    "    simulations = pd.concat(runs_dict, axis=1, ignore_index=True)\n",
    "    simulations.columns = ['run'+str(i) for i in np.arange(1,len(simulations.columns)+1)]\n",
    "    return simulations.reset_index()"
   ]
  },
  {
   "cell_type": "markdown",
   "metadata": {},
   "source": [
    "# Predict hospitalised"
   ]
  },
  {
   "cell_type": "code",
   "execution_count": 11,
   "metadata": {
    "ExecuteTime": {
     "end_time": "2020-08-17T07:32:05.332332Z",
     "start_time": "2020-08-17T07:32:05.094940Z"
    }
   },
   "outputs": [
    {
     "data": {
      "text/plain": [
       "array(6.11322507)"
      ]
     },
     "execution_count": 11,
     "metadata": {},
     "output_type": "execute_result"
    }
   ],
   "source": [
    "params['dc_D']"
   ]
  },
  {
   "cell_type": "code",
   "execution_count": 12,
   "metadata": {
    "ExecuteTime": {
     "end_time": "2020-08-17T07:32:10.131551Z",
     "start_time": "2020-08-17T07:32:10.077404Z"
    }
   },
   "outputs": [
    {
     "data": {
      "text/plain": [
       "array(8.01029195)"
      ]
     },
     "execution_count": 12,
     "metadata": {},
     "output_type": "execute_result"
    }
   ],
   "source": [
    "params['dc_R']"
   ]
  },
  {
   "cell_type": "code",
   "execution_count": 28,
   "metadata": {
    "ExecuteTime": {
     "end_time": "2020-08-17T13:02:04.780861Z",
     "start_time": "2020-08-17T13:02:04.724705Z"
    }
   },
   "outputs": [
    {
     "data": {
      "text/plain": [
       "0.3410478804193646"
      ]
     },
     "execution_count": 28,
     "metadata": {},
     "output_type": "execute_result"
    }
   ],
   "source": [
    "prevention"
   ]
  },
  {
   "cell_type": "code",
   "execution_count": 32,
   "metadata": {
    "ExecuteTime": {
     "end_time": "2020-08-17T13:02:57.493938Z",
     "start_time": "2020-08-17T13:02:53.245159Z"
    }
   },
   "outputs": [
    {
     "data": {
      "image/png": "[encoded data removed]",
      "text/plain": [
       "<Figure size 432x288 with 1 Axes>"
      ]
     },
     "metadata": {
      "needs_background": "light"
     },
     "output_type": "display_data"
    }
   ],
   "source": [
    "states = [['H_in']]\n",
    "start_date = '2020-03-15'\n",
    "end_date = '2020-10-01'\n",
    "data=[df_sciensano[:samples_dict['end_ramp']]['H_in'].values]\n",
    "dict_hosp={}\n",
    "fig,ax=plt.subplots()\n",
    "for i in range(10):\n",
    "    idx,model.parameters['beta'] = random.choice(list(enumerate(samples_dict['beta'])))\n",
    "    idx,model.parameters['l'] = random.choice(list(enumerate(samples_dict['l'])))\n",
    "    model.parameters['tau'] = samples_dict['tau'][idx]\n",
    "    prevention = samples_dict['prevention'][idx]\n",
    "    # Create a dictionary of past policies\n",
    "    chk = {'time':   [start_date, '2020-05-04', '2020-05-06', '2020-09-01'], \n",
    "          'Nc':      [prevention*(Nc_home + 0.4*Nc_work + 0.3*Nc_transport + 0.7*Nc_others + 0.2*Nc_leisure),\n",
    "                      0.01*prevention*(Nc_home + 0.5*Nc_work + 0.4*Nc_transport + 0.7*Nc_others + 0.3*Nc_leisure),\n",
    "                      0.01*prevention*(Nc_home + 0.6*Nc_work + 0.45*Nc_transport + 0.75*Nc_others + 0.35*Nc_leisure),\n",
    "                      Nc_home + prevention*(Nc_schools + 0.7*Nc_work + 0.3*Nc_transport + 0.7*Nc_others + 0.7*Nc_leisure)],\n",
    "          'dc_D':   [4, 4, 4, 4],\n",
    "          'dc_R':   [6, 6, 6, 6]\n",
    "          }\n",
    "    y_model = model.sim(time=end_date, excess_time=lag_time,checkpoints=chk)\n",
    "    dict_hosp[i] = model_run_to_df(start='2020-08-01', end=end_date, simulation=y_model, variable='H_in',run=i)\n",
    "    ax = plot_fit(y_model,data,start_date,lag_time,states,end_date=end_date,\n",
    "                  with_ints=False,ax=ax,plt_kwargs={'color':'blue','linewidth': 2,'alpha': 0.05})\n",
    "\n",
    "data_after_calib = df_sciensano[pd.to_datetime(samples_dict['end_ramp'])+pd.to_timedelta('1d'):end_date]['H_in']\n",
    "plt.scatter(data_after_calib.index, data_after_calib.values, marker='o',color='red',linestyle='None',facecolors='none')\n",
    "legend_text=['daily \\nhospitalizations']\n",
    "#leg=ax.legend(legend_text, loc=\"upper left\", bbox_to_anchor=(1,1))\n",
    "#ax.set_ylim([0,250])\n",
    "#plt.savefig('plot_fit_compliance.pdf', dpi=600, bbox_inches='tight',orientation='portrait', papertype='a4')"
   ]
  },
  {
   "cell_type": "code",
   "execution_count": null,
   "metadata": {
    "ExecuteTime": {
     "end_time": "2020-08-14T07:10:59.676813Z",
     "start_time": "2020-08-14T07:10:59.593632Z"
    }
   },
   "outputs": [],
   "source": [
    "simulations_hosp = collect_runs(dict_hosp)\n",
    "simulations_hosp.to_csv('../../results/predictions_FAGG/UG_Sx_hospitalisations_20200801_20210101.csv')"
   ]
  },
  {
   "cell_type": "code",
   "execution_count": null,
   "metadata": {
    "ExecuteTime": {
     "end_time": "2020-08-14T07:27:05.212022Z",
     "start_time": "2020-08-14T07:27:05.081064Z"
    }
   },
   "outputs": [],
   "source": [
    "%matplotlib"
   ]
  },
  {
   "cell_type": "markdown",
   "metadata": {},
   "source": [
    "# Predict hospitalised + ICU"
   ]
  },
  {
   "cell_type": "code",
   "execution_count": null,
   "metadata": {
    "ExecuteTime": {
     "end_time": "2020-08-14T07:47:01.542359Z",
     "start_time": "2020-08-14T07:47:01.107883Z"
    },
    "scrolled": true
   },
   "outputs": [],
   "source": [
    "y_model[]"
   ]
  },
  {
   "cell_type": "code",
   "execution_count": null,
   "metadata": {
    "ExecuteTime": {
     "end_time": "2020-08-14T07:44:08.349188Z",
     "start_time": "2020-08-14T07:44:03.439233Z"
    }
   },
   "outputs": [],
   "source": [
    "states = [['H_in'],['ICU']]\n",
    "start_date = '15-03-2020'\n",
    "end_date = '2021-01-01'\n",
    "data=[df_sciensano[:samples_dict['end_ramp']]['H_in'].values]\n",
    "dict_hosp={}\n",
    "fig,ax=plt.subplots()\n",
    "for i in range(10):\n",
    "    idx,model.parameters['beta'] = random.choice(list(enumerate(samples_dict['beta'])))\n",
    "    idx,model.parameters['l'] = random.choice(list(enumerate(samples_dict['l'])))\n",
    "    model.parameters['tau'] = samples_dict['tau'][idx]\n",
    "    prevention = samples_dict['prevention'][idx]\n",
    "    # Create a dictionary of past policies\n",
    "    chk = {'time':   [start_date, '2020-09-01'], \n",
    "          'Nc':      [prevention*(Nc_home + 0.4*Nc_work + 0.3*Nc_transport + 0.7*Nc_others + 0.2*Nc_leisure),\n",
    "                      Nc_home + prevention*(Nc_schools + 0.7*Nc_work + 0.3*Nc_transport + 0.7*Nc_others + 0.7*Nc_leisure)]\n",
    "          }\n",
    "    y_model = model.sim(time=end_date, excess_time=lag_time,checkpoints=chk)\n",
    "    dict_hosp[i] = model_run_to_df(start='2020-08-01', end='2021-01-01', simulation=y_model, variable='H_in',run=i)\n",
    "    ax = plot_fit(y_model,data,start_date,lag_time,states,end_date=end_date,\n",
    "                  with_ints=False,ax=ax,plt_kwargs={'color':'blue','linewidth': 2,'alpha': 0.05})\n",
    "\n",
    "data_after_calib = df_sciensano[pd.to_datetime(samples_dict['end_ramp'])+pd.to_timedelta('1d'):end_date]['H_in']\n",
    "plt.scatter(data_after_calib.index, data_after_calib.values, marker='o',color='red',linestyle='None',facecolors='none')\n",
    "legend_text=['daily \\nhospitalizations']\n",
    "#leg=ax.legend(legend_text, loc=\"upper left\", bbox_to_anchor=(1,1))\n",
    "ax.set_ylim([0,850])\n",
    "#plt.savefig('plot_fit_compliance.pdf', dpi=600, bbox_inches='tight',orientation='portrait', papertype='a4')"
   ]
  },
  {
   "cell_type": "code",
   "execution_count": null,
   "metadata": {
    "ExecuteTime": {
     "start_time": "2020-08-14T07:42:55.025Z"
    }
   },
   "outputs": [],
   "source": [
    "y_model[states[i]]"
   ]
  },
  {
   "cell_type": "code",
   "execution_count": null,
   "metadata": {
    "ExecuteTime": {
     "end_time": "2020-08-14T07:41:19.791177Z",
     "start_time": "2020-08-14T07:27:08.693315Z"
    }
   },
   "outputs": [],
   "source": [
    "%debug"
   ]
  },
  {
   "cell_type": "markdown",
   "metadata": {},
   "source": [
    "# Predict deceased"
   ]
  },
  {
   "cell_type": "markdown",
   "metadata": {},
   "source": [
    "Sciensano gives the total deceased (including nursery homes), but the model only predicts deceased from the hospital."
   ]
  },
  {
   "cell_type": "code",
   "execution_count": null,
   "metadata": {
    "ExecuteTime": {
     "end_time": "2020-08-13T12:40:11.229724Z",
     "start_time": "2020-08-13T12:40:03.973743Z"
    }
   },
   "outputs": [],
   "source": [
    "states = [['D']]\n",
    "start_date = '15-03-2020'\n",
    "end_date = '2020-09-20'\n",
    "data=[df_sciensano[:samples_dict['end_ramp']]['D_cumsum'].values]\n",
    "fig,ax=plt.subplots()\n",
    "for i in range(20):\n",
    "    idx,model.parameters['beta'] = random.choice(list(enumerate(samples_dict['beta'])))\n",
    "    idx,model.parameters['l'] = random.choice(list(enumerate(samples_dict['l'])))\n",
    "    model.parameters['tau'] = samples_dict['tau'][idx]\n",
    "    prevention = samples_dict['prevention'][idx]\n",
    "    # Create a dictionary of past policies\n",
    "    chk = {'time':   [start_date], \n",
    "          'Nc':      [prevention*(1.00*Nc_home + (1-0.60)*Nc_work + (1-0.70)*Nc_transport + (1-0.30)*Nc_others + (1-0.80)*Nc_leisure)]\n",
    "          }\n",
    "    y_model = model.sim(time=end_date, excess_time=lag_time,checkpoints=chk)\n",
    "    ax = plot_fit(y_model,data,start_date,lag_time,states,end_date=end_date,with_ints=False,ax=ax,plt_kwargs={'color':'blue','linewidth': 2,'alpha': 0.05})\n",
    "\n",
    "data_after_calib = df_sciensano[pd.to_datetime(samples_dict['end_ramp'])+pd.to_timedelta('1d'):end_date]['D_cumsum']\n",
    "plt.scatter(data_after_calib.index, data_after_calib.values, marker='o',color='red',linestyle='None',facecolors='none')\n",
    "plt.title('Total deceased')\n",
    "#leg=ax.legend(legend_text, loc=\"upper left\", bbox_to_anchor=(1,1))\n",
    "#ax.set_ylim([0,850])\n",
    "#plt.savefig('plot_fit_compliance.pdf', dpi=600, bbox_inches='tight',orientation='portrait', papertype='a4')"
   ]
  },
  {
   "cell_type": "code",
   "execution_count": null,
   "metadata": {
    "ExecuteTime": {
     "end_time": "2020-08-13T12:40:11.868578Z",
     "start_time": "2020-08-13T12:40:11.235817Z"
    },
    "scrolled": true
   },
   "outputs": [],
   "source": [
    "fig,ax = plt.subplots()\n",
    "df_sciensano.reset_index().plot('DATE','D_tot', ax=ax, label=\"total deceased\")\n",
    "deceased_hosp.plot('DATE','deceased_hosp', ax=ax, label='deceased in hospital')"
   ]
  },
  {
   "cell_type": "code",
   "execution_count": null,
   "metadata": {
    "ExecuteTime": {
     "end_time": "2020-08-13T12:40:38.264770Z",
     "start_time": "2020-08-13T12:40:30.810552Z"
    }
   },
   "outputs": [],
   "source": [
    "states = [['D']]\n",
    "start_date = '15-03-2020'\n",
    "end_date = '2020-09-20'\n",
    "data=[deceased_hosp.set_index('DATE')[:samples_dict['end_ramp']]['D_cumsum'].values]\n",
    "fig,ax=plt.subplots()\n",
    "for i in range(20):\n",
    "    idx,model.parameters['beta'] = random.choice(list(enumerate(samples_dict['beta'])))\n",
    "    idx,model.parameters['l'] = random.choice(list(enumerate(samples_dict['l'])))\n",
    "    model.parameters['tau'] = samples_dict['tau'][idx]\n",
    "    prevention = samples_dict['prevention'][idx]\n",
    "    # Create a dictionary of past policies\n",
    "    chk = {'time':   [start_date], \n",
    "          'Nc':      [prevention*(1.00*Nc_home + (1-0.60)*Nc_work + (1-0.70)*Nc_transport + (1-0.30)*Nc_others + (1-0.80)*Nc_leisure)]\n",
    "          }\n",
    "    y_model = model.sim(time=end_date, excess_time=lag_time,checkpoints=chk)\n",
    "    ax = plot_fit(y_model,data,start_date,lag_time,states,end_date=end_date,with_ints=False,ax=ax,plt_kwargs={'color':'blue','linewidth': 2,'alpha': 0.05})\n",
    "\n",
    "data_after_calib = deceased_hosp.set_index('DATE')[pd.to_datetime(samples_dict['end_ramp'])+pd.to_timedelta('1d'):end_date]['D_cumsum']\n",
    "plt.scatter(data_after_calib.index, data_after_calib.values, marker='o',color='red',linestyle='None',facecolors='none')\n",
    "plt.title('Deceased in hospital')\n",
    "#leg=ax.legend(legend_text, loc=\"upper left\", bbox_to_anchor=(1,1))\n",
    "#ax.set_ylim([0,850])\n",
    "#plt.savefig('plot_fit_compliance.pdf', dpi=600, bbox_inches='tight',orientation='portrait', papertype='a4')"
   ]
  },
  {
   "cell_type": "code",
   "execution_count": null,
   "metadata": {},
   "outputs": [],
   "source": []
  }
 ],
 "metadata": {
  "kernelspec": {
   "display_name": "Python 3",
   "language": "python",
   "name": "python3"
  },
  "language_info": {
   "codemirror_mode": {
    "name": "ipython",
    "version": 3
   },
   "file_extension": ".py",
   "mimetype": "text/x-python",
   "name": "python",
   "nbconvert_exporter": "python",
   "pygments_lexer": "ipython3",
   "version": "3.8.2"
  },
  "toc": {
   "base_numbering": 1,
   "nav_menu": {},
   "number_sections": true,
   "sideBar": true,
   "skip_h1_title": false,
   "title_cell": "Table of Contents",
   "title_sidebar": "Contents",
   "toc_cell": false,
   "toc_position": {},
   "toc_section_display": true,
   "toc_window_display": true
  }
 },
 "nbformat": 4,
 "nbformat_minor": 4
}
