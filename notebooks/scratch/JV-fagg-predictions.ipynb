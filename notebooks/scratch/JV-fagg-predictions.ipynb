{
 "cells": [
  {
   "cell_type": "code",
   "execution_count": 1,
   "metadata": {
    "ExecuteTime": {
     "end_time": "2020-08-06T14:14:37.837242Z",
     "start_time": "2020-08-06T14:14:35.927529Z"
    }
   },
   "outputs": [],
   "source": [
    "import numpy as np\n",
    "import matplotlib.pyplot as plt\n",
    "from IPython.display import Image\n",
    "from ipywidgets import interact,fixed,FloatSlider,IntSlider,ToggleButtons\n",
    "import pandas as pd\n",
    "import datetime\n",
    "import scipy\n",
    "from scipy.integrate import odeint\n",
    "import matplotlib.dates as mdates\n",
    "import matplotlib\n",
    "import scipy.stats as st\n",
    "import networkx # to install networkx in your environment: conda install networkx\n",
    "from covid19model.models import models\n",
    "from covid19model.models.compliance import logistic\n",
    "from covid19model.data import google\n",
    "from covid19model.data import sciensano\n",
    "from covid19model.data import polymod\n",
    "from covid19model.data import parameters\n",
    "from covid19model.visualization.output import population_status, infected\n",
    "from covid19model.visualization.optimization import plot_fit, traceplot\n",
    "# OPTIONAL: Load the \"autoreload\" extension so that package code can change\n",
    "%load_ext autoreload\n",
    "# OPTIONAL: always reload modules so that as you change code in src, it gets loaded\n",
    "%autoreload 2\n",
    "import math\n",
    "import xarray as xr\n",
    "import emcee\n",
    "from covid19model.optimization import objective_fcns\n",
    "from covid19model.optimization import MCMC"
   ]
  },
  {
   "cell_type": "code",
   "execution_count": 2,
   "metadata": {
    "ExecuteTime": {
     "end_time": "2020-08-06T14:14:37.894271Z",
     "start_time": "2020-08-06T14:14:37.839301Z"
    }
   },
   "outputs": [],
   "source": [
    "initN, Nc_home, Nc_work, Nc_schools, Nc_transport, Nc_leisure, Nc_others, Nc_total = polymod.get_interaction_matrices()\n",
    "levels = initN.size"
   ]
  },
  {
   "cell_type": "code",
   "execution_count": 3,
   "metadata": {
    "ExecuteTime": {
     "end_time": "2020-08-06T14:14:38.077667Z",
     "start_time": "2020-08-06T14:14:37.897742Z"
    }
   },
   "outputs": [],
   "source": [
    "import json\n",
    "with open('parameters.json', 'r') as fp:\n",
    "    samples_dict = json.load(fp)"
   ]
  },
  {
   "cell_type": "code",
   "execution_count": 4,
   "metadata": {
    "ExecuteTime": {
     "end_time": "2020-08-06T14:14:38.131813Z",
     "start_time": "2020-08-06T14:14:38.080492Z"
    }
   },
   "outputs": [
    {
     "data": {
      "text/plain": [
       "dict_keys(['lag_time', 'beta', 'k', 't0', 'prevention', 'dc', 'dICU', 'dICUrec'])"
      ]
     },
     "execution_count": 4,
     "metadata": {},
     "output_type": "execute_result"
    }
   ],
   "source": [
    "samples_dict.keys()"
   ]
  },
  {
   "cell_type": "code",
   "execution_count": 5,
   "metadata": {
    "ExecuteTime": {
     "end_time": "2020-08-06T14:14:38.191371Z",
     "start_time": "2020-08-06T14:14:38.134281Z"
    }
   },
   "outputs": [],
   "source": [
    "lag_time = samples_dict['lag_time']"
   ]
  },
  {
   "cell_type": "code",
   "execution_count": 6,
   "metadata": {
    "ExecuteTime": {
     "end_time": "2020-08-06T14:14:38.261442Z",
     "start_time": "2020-08-06T14:14:38.194202Z"
    }
   },
   "outputs": [],
   "source": [
    "params = parameters.get_COVID19_SEIRD_parameters()\n",
    "params.update({'beta':0.035,\n",
    "               'k':   1,\n",
    "               't0':5,\n",
    "               'Nc': Nc_total})\n",
    "initial_states = {'S': initN, 'E': np.ones(levels)}\n",
    "model = models.COVID19_SEIRD(initial_states, params, compliance=logistic)"
   ]
  },
  {
   "cell_type": "code",
   "execution_count": 7,
   "metadata": {
    "ExecuteTime": {
     "end_time": "2020-08-06T14:14:38.380278Z",
     "start_time": "2020-08-06T14:14:38.263607Z"
    }
   },
   "outputs": [],
   "source": [
    "df_sciensano = sciensano.get_sciensano_COVID19_data(update=False)\n",
    "data=[df_sciensano[\"H_out\"].values[:55],df_sciensano[\"ICU_tot\"].values[:55],df_sciensano[\"H_tot_cumsum\"].values[:55]]\n",
    "states = [[\"H_out\"],[\"ICU\"],[\"H_tot\"]]\n"
   ]
  },
  {
   "cell_type": "code",
   "execution_count": 8,
   "metadata": {
    "ExecuteTime": {
     "end_time": "2020-08-06T14:14:38.441127Z",
     "start_time": "2020-08-06T14:14:38.384096Z"
    }
   },
   "outputs": [],
   "source": [
    "start_date = '15March2020'\n",
    "end_date = '15Oct2020'\n",
    "model_time = int((pd.to_datetime(end_date) -  pd.to_datetime(start_date) + pd.to_timedelta(str(lag_time)+'D'))/pd.to_timedelta('1D'))\n",
    "chkp_2 = (pd.to_datetime('2020-09-01')-pd.to_datetime(start_date))/pd.to_timedelta('1D')"
   ]
  },
  {
   "cell_type": "code",
   "execution_count": 9,
   "metadata": {
    "ExecuteTime": {
     "end_time": "2020-08-06T14:14:41.483720Z",
     "start_time": "2020-08-06T14:14:38.558734Z"
    },
    "scrolled": false
   },
   "outputs": [
    {
     "data": {
      "image/png": "[encoded data removed]",
      "text/plain": [
       "<Figure size 864x432 with 1 Axes>"
      ]
     },
     "metadata": {
      "needs_background": "light"
     },
     "output_type": "display_data"
    }
   ],
   "source": [
    "data_mkr=['o','v','s','*','^']\n",
    "clr=['green','orange','red','black','blue']\n",
    "plt_kwargs={'linewidth': 1,'alpha': 1}\n",
    "sct_kwargs={}\n",
    "    \n",
    "fig,ax=plt.subplots(figsize=(12,6))\n",
    "# Plot data\n",
    "idx_data = pd.date_range(pd.to_datetime(start_date), end=pd.to_datetime(start_date)+datetime.timedelta(days=data[0].size-1),freq='D')\n",
    "for i in range(len(data)):\n",
    "    lines=ax.scatter(idx_data,data[i],color=\"black\",marker=data_mkr[i],**sct_kwargs)\n",
    "\n",
    "for i in range(10):\n",
    "    model.parameters['beta'] = np.random.choice(samples_dict['beta'],1,replace=False)\n",
    "    model.parameters['k'] = np.random.choice(samples_dict['k'],1,replace=False)\n",
    "    model.parameters['t0'] = np.random.choice(samples_dict['t0'],1,replace=False)\n",
    "    prevention = np.random.choice(samples_dict['prevention'],1,replace=False)\n",
    "    futurePolicy = {'time':     [lag_time,chkp_2],\n",
    "                    'Nc':    [0.2*Nc_home + prevention*((1-0.70)*Nc_work + (1-0.80)*Nc_transport),\n",
    "                              Nc_home+prevention*(Nc_work+Nc_transport)+Nc_schools],\n",
    "                  }\n",
    "    model.parameters['dc'] = np.random.choice(samples_dict['dc'],1,replace=False)\n",
    "    model.parameters['dICU'] = np.random.choice(samples_dict['dICU'],1,replace=False)\n",
    "    model.parameters['dICUrec'] = np.random.choice(samples_dict['dICUrec'],1,replace=False)\n",
    "    y_model = model.sim(model_time,checkpoints=futurePolicy)\n",
    "\n",
    "    idx = pd.date_range(pd.to_datetime(start_date)-datetime.timedelta(days=lag_time), end=pd.to_datetime(end_date),freq='D')\n",
    "\n",
    "    # Plot model prediction\n",
    "    y_model_tot = y_model.sum(dim=\"stratification\")\n",
    "    for i in range(len(data)):\n",
    "        data2plot = y_model_tot[states[i]].to_array(dim=\"states\").values.ravel()\n",
    "        lines = ax.plot(idx,data2plot,color=clr[i],**plt_kwargs)    \n",
    "\n",
    "    ax.set_xlim(start_date, end_date)\n",
    "    \n",
    "    \n",
    "#     ax = plot_fit(y_model,data,'15-03-2020',lag_time,states,T=T,ax=ax,\n",
    "#                   legend_text=['Hospital discharges','Intensive care units (total)','Hospitals (total)'],\n",
    "#                   plt_kwargs={'linewidth': 0.25,'alpha': 0.5}) # alpha:0.05"
   ]
  },
  {
   "cell_type": "code",
   "execution_count": null,
   "metadata": {},
   "outputs": [],
   "source": []
  }
 ],
 "metadata": {
  "kernelspec": {
   "display_name": "Python 3",
   "language": "python",
   "name": "python3"
  },
  "language_info": {
   "codemirror_mode": {
    "name": "ipython",
    "version": 3
   },
   "file_extension": ".py",
   "mimetype": "text/x-python",
   "name": "python",
   "nbconvert_exporter": "python",
   "pygments_lexer": "ipython3",
   "version": "3.8.2"
  },
  "toc": {
   "base_numbering": 1,
   "nav_menu": {},
   "number_sections": true,
   "sideBar": true,
   "skip_h1_title": false,
   "title_cell": "Table of Contents",
   "title_sidebar": "Contents",
   "toc_cell": false,
   "toc_position": {},
   "toc_section_display": true,
   "toc_window_display": false
  }
 },
 "nbformat": 4,
 "nbformat_minor": 4
}
