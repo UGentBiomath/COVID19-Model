{
 "cells": [
  {
   "cell_type": "markdown",
   "metadata": {},
   "source": [
    "**Calibration of the age-stratified deterministic model**\n",
    "\n",
    "*Original code by Ryan S. McGee. Modified by T.W. Alleman in consultation with the BIOMATH research unit headed by prof. Ingmar Nopens.*\n",
    "\n",
    "Copyright (c) 2020 by T.W. Alleman, BIOMATH, Ghent University. All Rights Reserved.\n",
    "\n",
    "This notebook accompanies our preprint: \"*A deterministic, age-stratified, extended SEIRD model for assessing the effect of non-pharmaceutical interventions on SARS-CoV-2 spread in Belgium*\"(https://doi.org/10.1101/2020.07.17.20156034)"
   ]
  },
  {
   "cell_type": "markdown",
   "metadata": {},
   "source": [
    "# Load required packages"
   ]
  },
  {
   "cell_type": "code",
   "execution_count": 61,
   "metadata": {
    "ExecuteTime": {
     "end_time": "2020-08-12T06:47:48.844162Z",
     "start_time": "2020-08-12T06:47:48.784815Z"
    }
   },
   "outputs": [
    {
     "name": "stdout",
     "output_type": "stream",
     "text": [
      "The autoreload extension is already loaded. To reload it, use:\n",
      "  %reload_ext autoreload\n"
     ]
    }
   ],
   "source": [
    "import random\n",
    "import os\n",
    "import numpy as np\n",
    "%matplotlib notebook\n",
    "import matplotlib.pyplot as plt\n",
    "from IPython.display import Image\n",
    "from ipywidgets import interact,fixed,FloatSlider,IntSlider,ToggleButtons\n",
    "import pandas as pd\n",
    "import datetime\n",
    "import scipy\n",
    "from scipy.integrate import odeint\n",
    "import matplotlib.dates as mdates\n",
    "import matplotlib\n",
    "import scipy.stats as st\n",
    "\n",
    "import math\n",
    "import xarray as xr\n",
    "import emcee\n",
    "import json\n",
    "\n",
    "from covid19model.optimization import objective_fcns\n",
    "from covid19model.optimization import MCMC\n",
    "from covid19model.models import models\n",
    "from covid19model.data import google\n",
    "from covid19model.data import sciensano\n",
    "from covid19model.data import polymod\n",
    "from covid19model.data import parameters\n",
    "from covid19model.visualization.output import population_status, infected\n",
    "from covid19model.visualization.optimization import plot_fit, traceplot\n",
    "\n",
    "# OPTIONAL: Load the \"autoreload\" extension so that package code can change\n",
    "%load_ext autoreload\n",
    "# OPTIONAL: always reload modules so that as you change code in src, it gets loaded\n",
    "%autoreload 2"
   ]
  },
  {
   "cell_type": "code",
   "execution_count": 13,
   "metadata": {
    "ExecuteTime": {
     "end_time": "2020-08-12T06:21:57.891967Z",
     "start_time": "2020-08-12T06:21:57.854794Z"
    }
   },
   "outputs": [],
   "source": [
    "time = '2020-08-01'"
   ]
  },
  {
   "cell_type": "code",
   "execution_count": 5,
   "metadata": {
    "ExecuteTime": {
     "end_time": "2020-08-12T06:18:47.836996Z",
     "start_time": "2020-08-12T06:18:47.799370Z"
    }
   },
   "outputs": [],
   "source": [
    "start_date='2020-03-15'"
   ]
  },
  {
   "cell_type": "code",
   "execution_count": 20,
   "metadata": {
    "ExecuteTime": {
     "end_time": "2020-08-12T06:25:55.555390Z",
     "start_time": "2020-08-12T06:25:55.516026Z"
    }
   },
   "outputs": [],
   "source": [
    "checkpoints = {'time':['2020-04-20','2020-05-14'],\n",
    "        'param': [Nc_home + Nc_work, Nc_home + Nc_schools]}"
   ]
  },
  {
   "cell_type": "code",
   "execution_count": 28,
   "metadata": {
    "ExecuteTime": {
     "end_time": "2020-08-12T06:28:35.675145Z",
     "start_time": "2020-08-12T06:28:35.635811Z"
    }
   },
   "outputs": [],
   "source": [
    "def date_to_diff(start_date, date):\n",
    "    return int((pd.to_datetime(date)-pd.to_datetime(start_date))/pd.to_timedelta('1D'))"
   ]
  },
  {
   "cell_type": "code",
   "execution_count": 29,
   "metadata": {
    "ExecuteTime": {
     "end_time": "2020-08-12T06:28:36.182976Z",
     "start_time": "2020-08-12T06:28:36.137120Z"
    }
   },
   "outputs": [],
   "source": []
  },
  {
   "cell_type": "code",
   "execution_count": 21,
   "metadata": {
    "ExecuteTime": {
     "end_time": "2020-08-12T06:25:57.039806Z",
     "start_time": "2020-08-12T06:25:57.002201Z"
    }
   },
   "outputs": [],
   "source": [
    "time_points = [time[0], *checkpoints[\"time\"], time[1]]"
   ]
  },
  {
   "cell_type": "code",
   "execution_count": 41,
   "metadata": {
    "ExecuteTime": {
     "end_time": "2020-08-12T06:32:50.208741Z",
     "start_time": "2020-08-12T06:32:50.169352Z"
    }
   },
   "outputs": [],
   "source": [
    "for i in range(len(checkpoints[\"time\"])):\n",
    "    if isinstance(checkpoints[\"time\"][i],str):\n",
    "        checkpoints[\"time\"][i] = date_to_diff(start_date, checkpoints[\"time\"][i])"
   ]
  },
  {
   "cell_type": "markdown",
   "metadata": {},
   "source": [
    "# Load data"
   ]
  },
  {
   "cell_type": "code",
   "execution_count": 17,
   "metadata": {
    "ExecuteTime": {
     "end_time": "2020-08-12T06:25:28.054670Z",
     "start_time": "2020-08-12T06:25:27.971049Z"
    }
   },
   "outputs": [],
   "source": [
    "initN, Nc_home, Nc_work, Nc_schools, Nc_transport, Nc_leisure, Nc_others, Nc_total = polymod.get_interaction_matrices()\n",
    "levels = initN.size"
   ]
  },
  {
   "cell_type": "code",
   "execution_count": 43,
   "metadata": {
    "ExecuteTime": {
     "end_time": "2020-08-12T06:34:05.064742Z",
     "start_time": "2020-08-12T06:34:04.489939Z"
    }
   },
   "outputs": [
    {
     "data": {
      "text/html": [
       "<div>\n",
       "<style scoped>\n",
       "    .dataframe tbody tr th:only-of-type {\n",
       "        vertical-align: middle;\n",
       "    }\n",
       "\n",
       "    .dataframe tbody tr th {\n",
       "        vertical-align: top;\n",
       "    }\n",
       "\n",
       "    .dataframe thead th {\n",
       "        text-align: right;\n",
       "    }\n",
       "</style>\n",
       "<table border=\"1\" class=\"dataframe\">\n",
       "  <thead>\n",
       "    <tr style=\"text-align: right;\">\n",
       "      <th></th>\n",
       "      <th>H_tot</th>\n",
       "      <th>ICU_tot</th>\n",
       "      <th>H_in</th>\n",
       "      <th>H_out</th>\n",
       "      <th>H_tot_cumsum</th>\n",
       "      <th>D_tot</th>\n",
       "      <th>D_25_44</th>\n",
       "      <th>D_45_64</th>\n",
       "      <th>D_65_74</th>\n",
       "      <th>D_75_84</th>\n",
       "      <th>D_85+</th>\n",
       "    </tr>\n",
       "    <tr>\n",
       "      <th>DATE</th>\n",
       "      <th></th>\n",
       "      <th></th>\n",
       "      <th></th>\n",
       "      <th></th>\n",
       "      <th></th>\n",
       "      <th></th>\n",
       "      <th></th>\n",
       "      <th></th>\n",
       "      <th></th>\n",
       "      <th></th>\n",
       "      <th></th>\n",
       "    </tr>\n",
       "  </thead>\n",
       "  <tbody>\n",
       "    <tr>\n",
       "      <th>2020-08-06</th>\n",
       "      <td>278</td>\n",
       "      <td>65</td>\n",
       "      <td>28</td>\n",
       "      <td>39</td>\n",
       "      <td>687</td>\n",
       "      <td>2</td>\n",
       "      <td>0.0</td>\n",
       "      <td>0.0</td>\n",
       "      <td>0</td>\n",
       "      <td>1.0</td>\n",
       "      <td>1</td>\n",
       "    </tr>\n",
       "    <tr>\n",
       "      <th>2020-08-07</th>\n",
       "      <td>285</td>\n",
       "      <td>69</td>\n",
       "      <td>27</td>\n",
       "      <td>28</td>\n",
       "      <td>686</td>\n",
       "      <td>4</td>\n",
       "      <td>0.0</td>\n",
       "      <td>0.0</td>\n",
       "      <td>0</td>\n",
       "      <td>1.0</td>\n",
       "      <td>3</td>\n",
       "    </tr>\n",
       "    <tr>\n",
       "      <th>2020-08-08</th>\n",
       "      <td>281</td>\n",
       "      <td>67</td>\n",
       "      <td>31</td>\n",
       "      <td>39</td>\n",
       "      <td>678</td>\n",
       "      <td>2</td>\n",
       "      <td>0.0</td>\n",
       "      <td>0.0</td>\n",
       "      <td>0</td>\n",
       "      <td>2.0</td>\n",
       "      <td>0</td>\n",
       "    </tr>\n",
       "    <tr>\n",
       "      <th>2020-08-09</th>\n",
       "      <td>285</td>\n",
       "      <td>69</td>\n",
       "      <td>20</td>\n",
       "      <td>14</td>\n",
       "      <td>684</td>\n",
       "      <td>4</td>\n",
       "      <td>1.0</td>\n",
       "      <td>0.0</td>\n",
       "      <td>0</td>\n",
       "      <td>1.0</td>\n",
       "      <td>2</td>\n",
       "    </tr>\n",
       "    <tr>\n",
       "      <th>2020-08-10</th>\n",
       "      <td>312</td>\n",
       "      <td>73</td>\n",
       "      <td>33</td>\n",
       "      <td>12</td>\n",
       "      <td>705</td>\n",
       "      <td>3</td>\n",
       "      <td>0.0</td>\n",
       "      <td>1.0</td>\n",
       "      <td>1</td>\n",
       "      <td>0.0</td>\n",
       "      <td>1</td>\n",
       "    </tr>\n",
       "  </tbody>\n",
       "</table>\n",
       "</div>"
      ],
      "text/plain": [
       "            H_tot  ICU_tot  H_in  H_out  H_tot_cumsum  D_tot  D_25_44  \\\n",
       "DATE                                                                    \n",
       "2020-08-06    278       65    28     39           687      2      0.0   \n",
       "2020-08-07    285       69    27     28           686      4      0.0   \n",
       "2020-08-08    281       67    31     39           678      2      0.0   \n",
       "2020-08-09    285       69    20     14           684      4      1.0   \n",
       "2020-08-10    312       73    33     12           705      3      0.0   \n",
       "\n",
       "            D_45_64  D_65_74  D_75_84  D_85+  \n",
       "DATE                                          \n",
       "2020-08-06      0.0        0      1.0      1  \n",
       "2020-08-07      0.0        0      1.0      3  \n",
       "2020-08-08      0.0        0      2.0      0  \n",
       "2020-08-09      0.0        0      1.0      2  \n",
       "2020-08-10      1.0        1      0.0      1  "
      ]
     },
     "execution_count": 43,
     "metadata": {},
     "output_type": "execute_result"
    }
   ],
   "source": [
    "df_sciensano = sciensano.get_sciensano_COVID19_data(update=False)\n",
    "df_sciensano.tail()"
   ]
  },
  {
   "cell_type": "markdown",
   "metadata": {},
   "source": [
    "# Initialize the model"
   ]
  },
  {
   "cell_type": "code",
   "execution_count": 44,
   "metadata": {
    "ExecuteTime": {
     "end_time": "2020-08-12T06:34:07.849698Z",
     "start_time": "2020-08-12T06:34:07.762253Z"
    }
   },
   "outputs": [],
   "source": [
    "# Load the parameters using `get_COVID19_SEIRD_parameters()`.\n",
    "params = parameters.get_COVID19_SEIRD_parameters()\n",
    "# Add the delayed ramp parameters to the parameter dictionary.\n",
    "params.update({'l': 1,\n",
    "              'tau': 5})\n",
    "# Define the initial condition: one exposed inidividual in every age category\n",
    "initial_states = {'S': initN, 'E': np.ones(levels)}\n",
    "# Load the compliance model\n",
    "from covid19model.models.compliance import ramp_2\n",
    "# Initialize the model\n",
    "model = models.COVID19_SEIRD(initial_states, params, compliance=ramp_2)"
   ]
  },
  {
   "cell_type": "markdown",
   "metadata": {},
   "source": [
    "# Policies translated to checkpoints"
   ]
  },
  {
   "cell_type": "markdown",
   "metadata": {},
   "source": [
    "chk_beta_pso = {   \n",
    "    'time':  [lag_time],    \n",
    "    'Nc':    [0.2 *Nc_home + ((1-0.70) *Nc_work + (1-0.80) *Nc_transport)],   \n",
    "}"
   ]
  },
  {
   "cell_type": "markdown",
   "metadata": {
    "ExecuteTime": {
     "end_time": "2020-08-11T13:16:18.653938Z",
     "start_time": "2020-08-11T13:16:18.518835Z"
    }
   },
   "source": [
    "chk_beta_MCMC = {   \n",
    "    'time':  [lag_time],   \n",
    "    'Nc':    [prevention *(1.0 *Nc_home + (1-0.60) *Nc_work + (1-0.70) *Nc_transport +(1-0.30) *Nc_others + (1-0.80) *Nc_leisure)],   \n",
    "}"
   ]
  },
  {
   "cell_type": "markdown",
   "metadata": {},
   "source": [
    "chk_beta_MCMC also used for final plot"
   ]
  },
  {
   "cell_type": "markdown",
   "metadata": {},
   "source": [
    "**Vragen @Tijs**:\n",
    "- op lag_time dagen, betekent hier dus op 15 maart? (mij zou het veel logischer zijn moest hier een datum staan...\n",
    "- waarom verschillende Nc op dezelfde dag ingesteld voor de twee calibraties?\n",
    "- waarschijnlijk moet ik naar tabel 3 kijken van paper? Maar komt er niet mee overeen \n",
    "    - bvb 0.2 *Nc_home?\n",
    "    - waarom enkel home, work en transport matrices voor pso?\n",
    "    - bvb in tabel staan parameters ingesteld op 17 maart, hierboven zet je checkpoint op 15 maart?\n",
    "    - checkpoint hierboven komt ook niet overeen met vgl 17 van de paper\n",
    "    - 0.65 Nc-others komt er niet in voor?\n",
    "  "
   ]
  },
  {
   "cell_type": "markdown",
   "metadata": {},
   "source": [
    "# Calibrating $\\beta$ and lag_time\n",
    "\n",
    "**Skip this section when parameters were previously calibrated**\n",
    "\n",
    "Use the function `fit_pso` to obtain a good starting estimate for the MCMC sampler."
   ]
  },
  {
   "cell_type": "markdown",
   "metadata": {},
   "source": [
    "JV: \n",
    "- **lag_time = excess time?**\n",
    "- sigma_H_in = variance on the data (**waarom moet dit geschat worden?**)"
   ]
  },
  {
   "cell_type": "code",
   "execution_count": 46,
   "metadata": {
    "ExecuteTime": {
     "end_time": "2020-08-12T06:34:24.456194Z",
     "start_time": "2020-08-12T06:34:24.416670Z"
    }
   },
   "outputs": [],
   "source": [
    "start_date = '2020-03-15'"
   ]
  },
  {
   "cell_type": "markdown",
   "metadata": {},
   "source": [
    "## Initial guess with PSO"
   ]
  },
  {
   "cell_type": "code",
   "execution_count": 47,
   "metadata": {
    "ExecuteTime": {
     "end_time": "2020-08-12T06:34:26.071700Z",
     "start_time": "2020-08-12T06:34:26.029700Z"
    }
   },
   "outputs": [],
   "source": [
    "# define dataset\n",
    "data=[df_sciensano[\"H_in\"].values[:8]]\n",
    "begin_beta = df_sciensano[:8].index.min()\n",
    "end_beta = df_sciensano[:8].index.max()\n",
    "# set optimisation settings\n",
    "parNames = ['sigma_H_in','extraTime','beta'] # must be a list!\n",
    "states = [[\"H_in\"]]\n",
    "bounds=((1,100),(30,60),(0.02,0.06)) # must be a list!\n",
    "# run optimisation\n",
    "#theta = MCMC.fit_pso(model,data,parNames,states,bounds,maxiter=50,popsize=50)"
   ]
  },
  {
   "cell_type": "code",
   "execution_count": null,
   "metadata": {
    "ExecuteTime": {
     "end_time": "2020-08-12T06:34:28.941905Z",
     "start_time": "2020-08-12T06:34:28.882102Z"
    }
   },
   "outputs": [],
   "source": [
    "lag_time = int(round(theta[1]))\n",
    "# Assign 'extraTime' or lag_time as a model attribute --> is needed to perform the optimalization\n",
    "model.extraTime = int(round(theta[1]))\n",
    "\n",
    "model.parameters.update({\n",
    "    'beta': theta[2],\n",
    "}\n",
    ")"
   ]
  },
  {
   "cell_type": "markdown",
   "metadata": {},
   "source": [
    "## MCMC calibration"
   ]
  },
  {
   "cell_type": "code",
   "execution_count": null,
   "metadata": {},
   "outputs": [],
   "source": [
    "parNames = ['sigma_ICU','beta'] # must be a list!\n",
    "bounds=((1,200),(0.01,0.10))\n",
    "\n",
    "pos = [theta[0],theta[2]] + [1, 1e-2 ]* np.random.randn(4, 2)\n",
    "nwalkers, ndim = pos.shape\n",
    "sampler = emcee.EnsembleSampler(nwalkers, ndim, objective_fcns.log_probability,\n",
    "                                args=(model,bounds,data,states,parNames))\n",
    "sampler.run_mcmc(pos, 10000, progress=True);"
   ]
  },
  {
   "cell_type": "code",
   "execution_count": null,
   "metadata": {},
   "outputs": [],
   "source": [
    "samples = sampler.get_chain(discard=100,flat=False)\n",
    "flat_samples = sampler.get_chain(discard=100,flat=True)"
   ]
  },
  {
   "cell_type": "code",
   "execution_count": null,
   "metadata": {
    "scrolled": true
   },
   "outputs": [],
   "source": [
    "sampler.get_autocorr_time()"
   ]
  },
  {
   "cell_type": "code",
   "execution_count": null,
   "metadata": {},
   "outputs": [],
   "source": [
    "mean = np.mean(flat_samples[:,1])\n",
    "p10 = np.percentile(flat_samples[:,1],10)\n",
    "p90 = np.percentile(flat_samples[:,1],90)\n",
    "print(mean,p10,p90)"
   ]
  },
  {
   "cell_type": "markdown",
   "metadata": {},
   "source": [
    "Initialize a dictionary of samples and write them to `parameters.json`"
   ]
  },
  {
   "cell_type": "code",
   "execution_count": null,
   "metadata": {},
   "outputs": [],
   "source": [
    "samples_dict={'lag_time': int(round(theta[1])), 'beta': flat_samples[:,1].tolist(), \n",
    "              'begin_beta':str(begin_beta.date()), 'end_beta':str(end_beta.date()),\n",
    "              'calibration_data':'H_in'}"
   ]
  },
  {
   "cell_type": "code",
   "execution_count": null,
   "metadata": {
    "ExecuteTime": {
     "end_time": "2020-08-11T13:58:35.801226Z",
     "start_time": "2020-08-11T13:58:35.273645Z"
    }
   },
   "outputs": [],
   "source": [
    "import json\n",
    "\n",
    "with open('../../data/interim/model_parameters/deterministic_'+str(datetime.date.today())+'.json', 'w') as fp:\n",
    "    json.dump(samples_dict, fp)"
   ]
  },
  {
   "cell_type": "markdown",
   "metadata": {},
   "source": [
    "Make some diagnostic visualisations"
   ]
  },
  {
   "cell_type": "code",
   "execution_count": null,
   "metadata": {},
   "outputs": [],
   "source": [
    "traceplot(samples,labels=[\"sigma2_ICU\",\"beta\"],plt_kwargs={'linewidth':2,'color': 'red','alpha': 0.15})"
   ]
  },
  {
   "cell_type": "code",
   "execution_count": null,
   "metadata": {},
   "outputs": [],
   "source": [
    "import corner\n",
    "\n",
    "fig = corner.corner(\n",
    "    flat_samples,labels=['$\\sigma_{data}$','$\\\\beta$']\n",
    ");\n",
    "fig.set_size_inches(8, 8)\n",
    "plt.savefig('corner_beta.pdf', dpi=600, bbox_inches='tight',\n",
    "                    orientation='portrait', papertype='a4')"
   ]
  },
  {
   "cell_type": "code",
   "execution_count": null,
   "metadata": {},
   "outputs": [],
   "source": [
    "T = 9\n",
    "fig,ax=plt.subplots()\n",
    "\n",
    "for i in range(100):\n",
    "    model.parameters['beta'] = np.random.choice(samples_dict['beta'],1,replace=False)\n",
    "    y_model = model.sim(data[0].size+lag_time-1+T)\n",
    "    ax = plot_fit(y_model,data,start_date,lag_time,states,T=T,ax=ax,plt_kwargs={'color':'blue','linewidth': 2,'alpha': 0.05})\n",
    "\n",
    "plt.scatter(pd.date_range('15-03-2020',freq='D',periods=df_sciensano[\"H_in\"][8:18].size)+datetime.timedelta(days=data[0].size),df_sciensano[\"H_in\"][8:18], marker='o',color='red',linestyle='None',facecolors='none')\n",
    "#legend_text=['daily \\nhospitalizations']\n",
    "#leg=ax.legend(legend_text, loc=\"upper left\", bbox_to_anchor=(1,1))\n",
    "plt.savefig('plot_fit_beta.pdf', dpi=600, bbox_inches='tight',orientation='portrait', papertype='a4')"
   ]
  },
  {
   "cell_type": "markdown",
   "metadata": {},
   "source": [
    "# Calibrating the compliance ramp parameters"
   ]
  },
  {
   "cell_type": "markdown",
   "metadata": {},
   "source": [
    "## Loading $\\beta$ and lag_time\n",
    "\n",
    "Load the previously calibrated parameters."
   ]
  },
  {
   "cell_type": "code",
   "execution_count": 49,
   "metadata": {
    "ExecuteTime": {
     "end_time": "2020-08-12T06:34:49.680775Z",
     "start_time": "2020-08-12T06:34:49.505904Z"
    }
   },
   "outputs": [],
   "source": [
    "import json\n",
    "with open('../../data/interim/model_parameters/deterministic_2020-08-11.json', 'r') as fp:\n",
    "    samples_dict = json.load(fp)\n",
    "\n",
    "lag_time = samples_dict['lag_time']\n",
    "model.extraTime = samples_dict['lag_time']\n",
    "model.parameters['beta'] = np.mean(samples_dict['beta'])"
   ]
  },
  {
   "cell_type": "code",
   "execution_count": 51,
   "metadata": {
    "ExecuteTime": {
     "end_time": "2020-08-12T06:35:01.061294Z",
     "start_time": "2020-08-12T06:35:01.001133Z"
    }
   },
   "outputs": [
    {
     "data": {
      "text/plain": [
       "dict_keys(['lag_time', 'beta', 'l', 'tau', 'prevention', 'begin_beta', 'end_beta', 'end_ramp', 'calibration_data'])"
      ]
     },
     "execution_count": 51,
     "metadata": {},
     "output_type": "execute_result"
    }
   ],
   "source": [
    "samples_dict.keys()"
   ]
  },
  {
   "cell_type": "code",
   "execution_count": null,
   "metadata": {
    "ExecuteTime": {
     "end_time": "2020-08-11T11:30:22.250363Z",
     "start_time": "2020-08-11T11:30:22.209452Z"
    }
   },
   "outputs": [],
   "source": [
    "samples_beta = {'beta': samples_dict['beta']}"
   ]
  },
  {
   "cell_type": "markdown",
   "metadata": {
    "heading_collapsed": true
   },
   "source": [
    "## Initial guess with PSO"
   ]
  },
  {
   "cell_type": "code",
   "execution_count": null,
   "metadata": {
    "ExecuteTime": {
     "end_time": "2020-08-11T13:56:40.533571Z",
     "start_time": "2020-08-11T13:56:40.488305Z"
    },
    "hidden": true
   },
   "outputs": [],
   "source": [
    "# Create checkpoints dictionary\n",
    "chk_beta_pso = {\n",
    "    'time':  [lag_time], \n",
    "    'Nc':    [0.2*Nc_home + ((1-0.70)*Nc_work + (1-0.80)*Nc_transport)],\n",
    "}\n",
    "# define dataset\n",
    "data=[df_sciensano[\"H_in\"].values[:37]]\n",
    "end_ramp = df_sciensano[:37].index.max()\n",
    "# set optimisation settings\n",
    "parNames = ['sigma_H_in','l','tau','prevention'] # must be a list!\n",
    "states = [[\"H_in\"]]\n",
    "bounds=((1,100),(0.1,20),(0,20),(0,1)) # must be a list!\n",
    "# run optimisation\n",
    "#theta = MCMC.fit_pso(model,data,parNames,states,bounds,checkpoints=chk_beta_pso,samples=samples_beta,maxiter=200,popsize=100)"
   ]
  },
  {
   "cell_type": "code",
   "execution_count": null,
   "metadata": {
    "hidden": true
   },
   "outputs": [],
   "source": [
    "model.parameters.update({\n",
    "    'l': theta[1],\n",
    "    'tau': theta[2]\n",
    "\n",
    "}\n",
    ")\n",
    "prevention = theta[2]\n",
    "# Create checkpoints dictionary\n",
    "chk_beta_MCMC = {\n",
    "    'time':  [lag_time], \n",
    "    'Nc':    [prevention*(1.0*Nc_home + (1-0.60)*Nc_work + (1-0.70)*Nc_transport + (1-0.30)*Nc_others\n",
    "                          + (1-0.80)*Nc_leisure)],\n",
    "}"
   ]
  },
  {
   "cell_type": "markdown",
   "metadata": {
    "heading_collapsed": true
   },
   "source": [
    "## MCMC calibration"
   ]
  },
  {
   "cell_type": "code",
   "execution_count": null,
   "metadata": {
    "hidden": true
   },
   "outputs": [],
   "source": [
    "bounds=((1,100),(0.001,20),(0,20),(0,1)) # must be a list!\n",
    "pos = theta + [1, 0.1, 0.1, 0.1 ]* np.random.randn(8, 4)\n",
    "nwalkers, ndim = pos.shape\n",
    "sampler = emcee.EnsembleSampler(nwalkers, ndim, objective_fcns.log_probability,\n",
    "                                args=(model,bounds,data,states,parNames,chk_beta_MCMC,samples_beta))\n",
    "sampler.run_mcmc(pos, 10000, progress=True);"
   ]
  },
  {
   "cell_type": "code",
   "execution_count": null,
   "metadata": {
    "hidden": true
   },
   "outputs": [],
   "source": [
    "sampler.get_autocorr_time()"
   ]
  },
  {
   "cell_type": "code",
   "execution_count": null,
   "metadata": {
    "hidden": true
   },
   "outputs": [],
   "source": [
    "samples = sampler.get_chain(discard=200,flat=False)\n",
    "flat_samples = sampler.get_chain(discard=200,flat=True)"
   ]
  },
  {
   "cell_type": "code",
   "execution_count": null,
   "metadata": {
    "hidden": true
   },
   "outputs": [],
   "source": [
    "samples_dict.update({'l': flat_samples[:,1].tolist(),'tau':flat_samples[:,2].tolist(),'prevention':flat_samples[:,3].tolist()}, 'end_ramp':str(end_ramp.date()))"
   ]
  },
  {
   "cell_type": "code",
   "execution_count": null,
   "metadata": {
    "ExecuteTime": {
     "end_time": "2020-08-11T07:26:15.983339Z",
     "start_time": "2020-08-11T07:26:15.397668Z"
    },
    "hidden": true
   },
   "outputs": [],
   "source": [
    "import json\n",
    "\n",
    "with open('../../data/interim/model_parameters/deterministic_'+str(datetime.date.today())+'.json', 'w') as fp:\n",
    "    json.dump(samples_dict, fp)"
   ]
  },
  {
   "cell_type": "code",
   "execution_count": null,
   "metadata": {
    "hidden": true
   },
   "outputs": [],
   "source": [
    "mean = np.mean(flat_samples[:,3])\n",
    "p10 = np.percentile(flat_samples[:,3],10)\n",
    "p90 = np.percentile(flat_samples[:,3],90)\n",
    "print(mean,p10,p90)"
   ]
  },
  {
   "cell_type": "code",
   "execution_count": null,
   "metadata": {
    "hidden": true
   },
   "outputs": [],
   "source": [
    "traceplot(samples=sampler.get_chain(discard=200),labels=[\"sigma_data\",\"l\",\"tau\",\"prevention\"],plt_kwargs={'linewidth':2,'color': 'red','alpha': 0.15})"
   ]
  },
  {
   "cell_type": "code",
   "execution_count": null,
   "metadata": {
    "hidden": true
   },
   "outputs": [],
   "source": [
    "import corner\n",
    "\n",
    "fig = corner.corner(\n",
    "    flat_samples, labels=[\"$\\sigma_{data}$\",\"l\",\"$\\\\tau$\",\"$\\Omega$\"],\n",
    ");\n",
    "fig.set_size_inches(9, 9)\n",
    "plt.savefig('corner_compliance_delayed_ramp.pdf', dpi=600, bbox_inches='tight',\n",
    "                    orientation='portrait', papertype='a4')"
   ]
  },
  {
   "cell_type": "code",
   "execution_count": null,
   "metadata": {
    "hidden": true
   },
   "outputs": [],
   "source": [
    "fig,ax=plt.subplots()\n",
    "t = np.linspace(0,20,400)\n",
    "for i in range(1000):\n",
    "    idx,l= random.choice(list(enumerate(flat_samples[:,1])))\n",
    "    tau = samples_dict['tau'][idx]\n",
    "    y=[]\n",
    "    for j in range(len(t)):\n",
    "        y.append(100*ramp_2(t[j],0,1,l,tau))\n",
    "    ax.plot(t,y,color='blue',linewidth=0.1,alpha=0.05)\n",
    "ax.set_xlabel('days since policy change')\n",
    "ax.set_ylabel('social compliance (%)')\n",
    "plt.savefig('compliance_delayed_ramp.pdf', dpi=600, bbox_inches='tight',orientation='portrait', papertype='a4')"
   ]
  },
  {
   "cell_type": "markdown",
   "metadata": {},
   "source": [
    "## Result"
   ]
  },
  {
   "cell_type": "code",
   "execution_count": 122,
   "metadata": {
    "ExecuteTime": {
     "end_time": "2020-08-12T08:29:42.881189Z",
     "start_time": "2020-08-12T08:29:39.396740Z"
    }
   },
   "outputs": [
    {
     "data": {
      "text/plain": [
       "(0, 850)"
      ]
     },
     "execution_count": 122,
     "metadata": {},
     "output_type": "execute_result"
    },
    {
     "data": {
      "image/png": "[encoded data removed]",
      "text/plain": [
       "<Figure size 504x576 with 1 Axes>"
      ]
     },
     "metadata": {
      "needs_background": "light"
     },
     "output_type": "display_data"
    }
   ],
   "source": [
    "states = [['H_in']]\n",
    "data=[df_sciensano[\"H_in\"].values[:37]]\n",
    "T = 100 # extra days to plot model for\n",
    "end_data = 149#52 end of data tranch to plot\n",
    "start_date = '15-03-2020'\n",
    "fig,ax=plt.subplots(figsize=(7,8))\n",
    "for i in range(10):\n",
    "    idx,model.parameters['beta'] = random.choice(list(enumerate(samples_dict['beta'])))\n",
    "    idx,model.parameters['l'] = random.choice(list(enumerate(samples_dict['l'])))\n",
    "    model.parameters['tau'] = samples_dict['tau'][idx]\n",
    "    prevention = samples_dict['prevention'][idx]\n",
    "    # Create a dictionary of past policies\n",
    "    chk = {'time':   [lag_time], \n",
    "          'Nc':      [prevention*(1.00*Nc_home + (1-0.60)*Nc_work + (1-0.70)*Nc_transport + (1-0.30)*Nc_others + (1-0.80)*Nc_leisure)]\n",
    "          }\n",
    "    y_model = model.sim(data[0].size+lag_time-1+T,checkpoints=chk)\n",
    "    ax = plot_fit(y_model,data,start_date,lag_time,states,T=T,ax=ax,plt_kwargs={'color':'blue','linewidth': 2,'alpha': 0.05})\n",
    "\n",
    "plt.scatter(pd.date_range('15-03-2020',freq='D',periods=df_sciensano[\"H_in\"][37:end_data].size)+datetime.timedelta(days=data[0].size),df_sciensano[\"H_in\"][37:end_data], marker='o',color='red',linestyle='None',facecolors='none')\n",
    "legend_text=['daily \\nhospitalizations']\n",
    "#leg=ax.legend(legend_text, loc=\"upper left\", bbox_to_anchor=(1,1))\n",
    "ax.set_ylim([0,850])\n",
    "#plt.savefig('plot_fit_compliance.pdf', dpi=600, bbox_inches='tight',orientation='portrait', papertype='a4')"
   ]
  },
  {
   "cell_type": "code",
   "execution_count": 127,
   "metadata": {
    "ExecuteTime": {
     "end_time": "2020-08-12T08:32:28.647772Z",
     "start_time": "2020-08-12T08:32:28.605923Z"
    }
   },
   "outputs": [
    {
     "data": {
      "text/plain": [
       "array([ 71,  90, 122, 179, 207, 288, 320, 273, 257, 412, 535, 490, 575,\n",
       "       629, 545, 478, 553, 584, 568, 504, 499, 358, 314, 490, 459, 462,\n",
       "       421, 393, 270, 242, 250, 310, 320, 303, 265, 232, 172, 263, 211,\n",
       "       210, 217, 202, 127, 123, 174, 178, 152, 128,  77,  59,  84, 116,\n",
       "        98, 108,  75,  83,  60,  43,  70,  81,  67,  65,  60,  43,  50,\n",
       "        58,  71,  56,  34,  48,  27,  39,  36,  49,  27,  29,  40,  25,\n",
       "        26,  31,  21,  32,  26,  21,  23,  16,  24,  19,  32,  23,  12,\n",
       "        17,  11,  24,  19,  20,  20,  18,  10,  12,  12,  16,  19,  18,\n",
       "        16,   5,  13,  17,   9,  13,   5,  16,   6,   9,  15,   9,  10,\n",
       "         6,   9,   7,   9,  18,   9,  12,   8,  23,  15,  13,   5,  19,\n",
       "        24,  28,  21,  14,  20,  35,  33,  20,  11,  26,  23,  24,  18,\n",
       "        41,  28,  27,  31,  20,  33])"
      ]
     },
     "execution_count": 127,
     "metadata": {},
     "output_type": "execute_result"
    }
   ],
   "source": []
  },
  {
   "cell_type": "code",
   "execution_count": 132,
   "metadata": {
    "ExecuteTime": {
     "end_time": "2020-08-12T08:35:10.085543Z",
     "start_time": "2020-08-12T08:35:10.044164Z"
    }
   },
   "outputs": [
    {
     "data": {
      "text/plain": [
       "array([ 71,  90, 122, 179, 207, 288, 320, 273, 257, 412, 535, 490, 575,\n",
       "       629, 545, 478, 553, 584, 568, 504, 499, 358, 314, 490, 459, 462,\n",
       "       421, 393, 270, 242, 250, 310, 320, 303, 265, 232, 172])"
      ]
     },
     "execution_count": 132,
     "metadata": {},
     "output_type": "execute_result"
    }
   ],
   "source": []
  },
  {
   "cell_type": "code",
   "execution_count": 131,
   "metadata": {
    "ExecuteTime": {
     "end_time": "2020-08-12T08:35:01.121801Z",
     "start_time": "2020-08-12T08:35:01.082361Z"
    }
   },
   "outputs": [
    {
     "data": {
      "text/plain": [
       "'2020-04-20'"
      ]
     },
     "execution_count": 131,
     "metadata": {},
     "output_type": "execute_result"
    }
   ],
   "source": []
  },
  {
   "cell_type": "code",
   "execution_count": 129,
   "metadata": {
    "ExecuteTime": {
     "end_time": "2020-08-12T08:33:55.379484Z",
     "start_time": "2020-08-12T08:33:48.285680Z"
    },
    "scrolled": false
   },
   "outputs": [
    {
     "data": {
      "text/plain": [
       "(0, 850)"
      ]
     },
     "execution_count": 129,
     "metadata": {},
     "output_type": "execute_result"
    },
    {
     "data": {
      "image/png": "[encoded data removed]",
      "text/plain": [
       "<Figure size 432x288 with 1 Axes>"
      ]
     },
     "metadata": {
      "needs_background": "light"
     },
     "output_type": "display_data"
    }
   ],
   "source": [
    "states = [['H_in']]\n",
    "start_date = '15-03-2020'\n",
    "end_date = '2020-09-20'\n",
    "data=[df_sciensano[\"H_in\"].values[:37]]\n",
    "fig,ax=plt.subplots()\n",
    "for i in range(20):\n",
    "    idx,model.parameters['beta'] = random.choice(list(enumerate(samples_dict['beta'])))\n",
    "    idx,model.parameters['l'] = random.choice(list(enumerate(samples_dict['l'])))\n",
    "    model.parameters['tau'] = samples_dict['tau'][idx]\n",
    "    prevention = samples_dict['prevention'][idx]\n",
    "    # Create a dictionary of past policies\n",
    "    chk = {'time':   [lag_time], \n",
    "          'Nc':      [prevention*(1.00*Nc_home + (1-0.60)*Nc_work + (1-0.70)*Nc_transport + (1-0.30)*Nc_others + (1-0.80)*Nc_leisure)]\n",
    "          }\n",
    "    y_model = model.sim(time='2020-09-20', excess_time=lag_time,checkpoints=chk)\n",
    "    ax = plot_fit(y_model,data,start_date,lag_time,states,end_date=end_date,with_ints=False,ax=ax,plt_kwargs={'color':'blue','linewidth': 2,'alpha': 0.05})\n",
    "\n",
    "plt.scatter(pd.date_range('15-03-2020',freq='D',periods=df_sciensano[\"H_in\"][37:end_data].size)+datetime.timedelta(days=data[0].size),df_sciensano[\"H_in\"][37:end_data], marker='o',color='red',linestyle='None',facecolors='none')\n",
    "legend_text=['daily \\nhospitalizations']\n",
    "#leg=ax.legend(legend_text, loc=\"upper left\", bbox_to_anchor=(1,1))\n",
    "ax.set_ylim([0,850])\n",
    "#plt.savefig('plot_fit_compliance.pdf', dpi=600, bbox_inches='tight',orientation='portrait', papertype='a4')"
   ]
  },
  {
   "cell_type": "code",
   "execution_count": 135,
   "metadata": {
    "ExecuteTime": {
     "end_time": "2020-08-12T08:36:01.385538Z",
     "start_time": "2020-08-12T08:36:01.345674Z"
    }
   },
   "outputs": [
    {
     "data": {
      "text/plain": [
       "149"
      ]
     },
     "execution_count": 135,
     "metadata": {},
     "output_type": "execute_result"
    }
   ],
   "source": [
    "end_data"
   ]
  },
  {
   "cell_type": "code",
   "execution_count": 137,
   "metadata": {
    "ExecuteTime": {
     "end_time": "2020-08-12T08:36:38.623348Z",
     "start_time": "2020-08-12T08:36:38.560461Z"
    },
    "collapsed": true
   },
   "outputs": [
    {
     "data": {
      "text/html": [
       "<div>\n",
       "<style scoped>\n",
       "    .dataframe tbody tr th:only-of-type {\n",
       "        vertical-align: middle;\n",
       "    }\n",
       "\n",
       "    .dataframe tbody tr th {\n",
       "        vertical-align: top;\n",
       "    }\n",
       "\n",
       "    .dataframe thead th {\n",
       "        text-align: right;\n",
       "    }\n",
       "</style>\n",
       "<table border=\"1\" class=\"dataframe\">\n",
       "  <thead>\n",
       "    <tr style=\"text-align: right;\">\n",
       "      <th></th>\n",
       "      <th>H_tot</th>\n",
       "      <th>ICU_tot</th>\n",
       "      <th>H_in</th>\n",
       "      <th>H_out</th>\n",
       "      <th>H_tot_cumsum</th>\n",
       "      <th>D_tot</th>\n",
       "      <th>D_25_44</th>\n",
       "      <th>D_45_64</th>\n",
       "      <th>D_65_74</th>\n",
       "      <th>D_75_84</th>\n",
       "      <th>D_85+</th>\n",
       "    </tr>\n",
       "    <tr>\n",
       "      <th>DATE</th>\n",
       "      <th></th>\n",
       "      <th></th>\n",
       "      <th></th>\n",
       "      <th></th>\n",
       "      <th></th>\n",
       "      <th></th>\n",
       "      <th></th>\n",
       "      <th></th>\n",
       "      <th></th>\n",
       "      <th></th>\n",
       "      <th></th>\n",
       "    </tr>\n",
       "  </thead>\n",
       "  <tbody>\n",
       "    <tr>\n",
       "      <th>2020-03-15</th>\n",
       "      <td>266</td>\n",
       "      <td>54</td>\n",
       "      <td>71</td>\n",
       "      <td>18</td>\n",
       "      <td>53</td>\n",
       "      <td>6</td>\n",
       "      <td>0.0</td>\n",
       "      <td>0.0</td>\n",
       "      <td>3</td>\n",
       "      <td>1.0</td>\n",
       "      <td>2</td>\n",
       "    </tr>\n",
       "    <tr>\n",
       "      <th>2020-03-16</th>\n",
       "      <td>370</td>\n",
       "      <td>79</td>\n",
       "      <td>90</td>\n",
       "      <td>14</td>\n",
       "      <td>129</td>\n",
       "      <td>11</td>\n",
       "      <td>0.0</td>\n",
       "      <td>0.0</td>\n",
       "      <td>3</td>\n",
       "      <td>3.0</td>\n",
       "      <td>5</td>\n",
       "    </tr>\n",
       "    <tr>\n",
       "      <th>2020-03-17</th>\n",
       "      <td>497</td>\n",
       "      <td>100</td>\n",
       "      <td>122</td>\n",
       "      <td>31</td>\n",
       "      <td>220</td>\n",
       "      <td>12</td>\n",
       "      <td>0.0</td>\n",
       "      <td>0.0</td>\n",
       "      <td>1</td>\n",
       "      <td>4.0</td>\n",
       "      <td>7</td>\n",
       "    </tr>\n",
       "    <tr>\n",
       "      <th>2020-03-18</th>\n",
       "      <td>650</td>\n",
       "      <td>131</td>\n",
       "      <td>179</td>\n",
       "      <td>48</td>\n",
       "      <td>351</td>\n",
       "      <td>22</td>\n",
       "      <td>1.0</td>\n",
       "      <td>1.0</td>\n",
       "      <td>2</td>\n",
       "      <td>6.0</td>\n",
       "      <td>10</td>\n",
       "    </tr>\n",
       "    <tr>\n",
       "      <th>2020-03-19</th>\n",
       "      <td>844</td>\n",
       "      <td>165</td>\n",
       "      <td>207</td>\n",
       "      <td>49</td>\n",
       "      <td>509</td>\n",
       "      <td>28</td>\n",
       "      <td>0.0</td>\n",
       "      <td>0.0</td>\n",
       "      <td>8</td>\n",
       "      <td>5.0</td>\n",
       "      <td>14</td>\n",
       "    </tr>\n",
       "    <tr>\n",
       "      <th>2020-03-20</th>\n",
       "      <td>1101</td>\n",
       "      <td>228</td>\n",
       "      <td>288</td>\n",
       "      <td>55</td>\n",
       "      <td>742</td>\n",
       "      <td>31</td>\n",
       "      <td>0.0</td>\n",
       "      <td>4.0</td>\n",
       "      <td>5</td>\n",
       "      <td>4.0</td>\n",
       "      <td>14</td>\n",
       "    </tr>\n",
       "    <tr>\n",
       "      <th>2020-03-21</th>\n",
       "      <td>1384</td>\n",
       "      <td>290</td>\n",
       "      <td>320</td>\n",
       "      <td>74</td>\n",
       "      <td>988</td>\n",
       "      <td>39</td>\n",
       "      <td>1.0</td>\n",
       "      <td>3.0</td>\n",
       "      <td>3</td>\n",
       "      <td>16.0</td>\n",
       "      <td>11</td>\n",
       "    </tr>\n",
       "    <tr>\n",
       "      <th>2020-03-22</th>\n",
       "      <td>1646</td>\n",
       "      <td>322</td>\n",
       "      <td>273</td>\n",
       "      <td>61</td>\n",
       "      <td>1200</td>\n",
       "      <td>42</td>\n",
       "      <td>1.0</td>\n",
       "      <td>5.0</td>\n",
       "      <td>7</td>\n",
       "      <td>9.0</td>\n",
       "      <td>14</td>\n",
       "    </tr>\n",
       "    <tr>\n",
       "      <th>2020-03-23</th>\n",
       "      <td>1883</td>\n",
       "      <td>385</td>\n",
       "      <td>257</td>\n",
       "      <td>60</td>\n",
       "      <td>1397</td>\n",
       "      <td>78</td>\n",
       "      <td>0.0</td>\n",
       "      <td>10.0</td>\n",
       "      <td>8</td>\n",
       "      <td>24.0</td>\n",
       "      <td>26</td>\n",
       "    </tr>\n",
       "    <tr>\n",
       "      <th>2020-03-24</th>\n",
       "      <td>2140</td>\n",
       "      <td>474</td>\n",
       "      <td>412</td>\n",
       "      <td>115</td>\n",
       "      <td>1694</td>\n",
       "      <td>74</td>\n",
       "      <td>0.0</td>\n",
       "      <td>3.0</td>\n",
       "      <td>13</td>\n",
       "      <td>20.0</td>\n",
       "      <td>35</td>\n",
       "    </tr>\n",
       "    <tr>\n",
       "      <th>2020-03-25</th>\n",
       "      <td>2721</td>\n",
       "      <td>612</td>\n",
       "      <td>535</td>\n",
       "      <td>128</td>\n",
       "      <td>2101</td>\n",
       "      <td>96</td>\n",
       "      <td>1.0</td>\n",
       "      <td>8.0</td>\n",
       "      <td>17</td>\n",
       "      <td>31.0</td>\n",
       "      <td>32</td>\n",
       "    </tr>\n",
       "    <tr>\n",
       "      <th>2020-03-26</th>\n",
       "      <td>3077</td>\n",
       "      <td>690</td>\n",
       "      <td>490</td>\n",
       "      <td>183</td>\n",
       "      <td>2408</td>\n",
       "      <td>102</td>\n",
       "      <td>1.0</td>\n",
       "      <td>5.0</td>\n",
       "      <td>13</td>\n",
       "      <td>32.0</td>\n",
       "      <td>44</td>\n",
       "    </tr>\n",
       "    <tr>\n",
       "      <th>2020-03-27</th>\n",
       "      <td>3650</td>\n",
       "      <td>789</td>\n",
       "      <td>575</td>\n",
       "      <td>205</td>\n",
       "      <td>2778</td>\n",
       "      <td>123</td>\n",
       "      <td>0.0</td>\n",
       "      <td>8.0</td>\n",
       "      <td>16</td>\n",
       "      <td>33.0</td>\n",
       "      <td>42</td>\n",
       "    </tr>\n",
       "    <tr>\n",
       "      <th>2020-03-28</th>\n",
       "      <td>4089</td>\n",
       "      <td>867</td>\n",
       "      <td>629</td>\n",
       "      <td>296</td>\n",
       "      <td>3111</td>\n",
       "      <td>133</td>\n",
       "      <td>0.0</td>\n",
       "      <td>5.0</td>\n",
       "      <td>16</td>\n",
       "      <td>42.0</td>\n",
       "      <td>50</td>\n",
       "    </tr>\n",
       "    <tr>\n",
       "      <th>2020-03-29</th>\n",
       "      <td>4480</td>\n",
       "      <td>942</td>\n",
       "      <td>545</td>\n",
       "      <td>169</td>\n",
       "      <td>3487</td>\n",
       "      <td>139</td>\n",
       "      <td>1.0</td>\n",
       "      <td>2.0</td>\n",
       "      <td>23</td>\n",
       "      <td>48.0</td>\n",
       "      <td>44</td>\n",
       "    </tr>\n",
       "    <tr>\n",
       "      <th>2020-03-30</th>\n",
       "      <td>4897</td>\n",
       "      <td>1021</td>\n",
       "      <td>478</td>\n",
       "      <td>168</td>\n",
       "      <td>3797</td>\n",
       "      <td>169</td>\n",
       "      <td>0.0</td>\n",
       "      <td>12.0</td>\n",
       "      <td>10</td>\n",
       "      <td>50.0</td>\n",
       "      <td>70</td>\n",
       "    </tr>\n",
       "    <tr>\n",
       "      <th>2020-03-31</th>\n",
       "      <td>4989</td>\n",
       "      <td>1088</td>\n",
       "      <td>553</td>\n",
       "      <td>436</td>\n",
       "      <td>3914</td>\n",
       "      <td>187</td>\n",
       "      <td>1.0</td>\n",
       "      <td>12.0</td>\n",
       "      <td>21</td>\n",
       "      <td>58.0</td>\n",
       "      <td>72</td>\n",
       "    </tr>\n",
       "    <tr>\n",
       "      <th>2020-04-01</th>\n",
       "      <td>5220</td>\n",
       "      <td>1144</td>\n",
       "      <td>584</td>\n",
       "      <td>363</td>\n",
       "      <td>4135</td>\n",
       "      <td>251</td>\n",
       "      <td>1.0</td>\n",
       "      <td>15.0</td>\n",
       "      <td>18</td>\n",
       "      <td>57.0</td>\n",
       "      <td>82</td>\n",
       "    </tr>\n",
       "    <tr>\n",
       "      <th>2020-04-02</th>\n",
       "      <td>5383</td>\n",
       "      <td>1205</td>\n",
       "      <td>568</td>\n",
       "      <td>377</td>\n",
       "      <td>4326</td>\n",
       "      <td>213</td>\n",
       "      <td>0.0</td>\n",
       "      <td>13.0</td>\n",
       "      <td>38</td>\n",
       "      <td>45.0</td>\n",
       "      <td>70</td>\n",
       "    </tr>\n",
       "    <tr>\n",
       "      <th>2020-04-03</th>\n",
       "      <td>5513</td>\n",
       "      <td>1245</td>\n",
       "      <td>504</td>\n",
       "      <td>375</td>\n",
       "      <td>4455</td>\n",
       "      <td>233</td>\n",
       "      <td>0.0</td>\n",
       "      <td>11.0</td>\n",
       "      <td>24</td>\n",
       "      <td>59.0</td>\n",
       "      <td>84</td>\n",
       "    </tr>\n",
       "    <tr>\n",
       "      <th>2020-04-04</th>\n",
       "      <td>5531</td>\n",
       "      <td>1261</td>\n",
       "      <td>499</td>\n",
       "      <td>504</td>\n",
       "      <td>4450</td>\n",
       "      <td>274</td>\n",
       "      <td>1.0</td>\n",
       "      <td>12.0</td>\n",
       "      <td>21</td>\n",
       "      <td>78.0</td>\n",
       "      <td>90</td>\n",
       "    </tr>\n",
       "    <tr>\n",
       "      <th>2020-04-05</th>\n",
       "      <td>5620</td>\n",
       "      <td>1267</td>\n",
       "      <td>358</td>\n",
       "      <td>235</td>\n",
       "      <td>4573</td>\n",
       "      <td>235</td>\n",
       "      <td>3.0</td>\n",
       "      <td>9.0</td>\n",
       "      <td>33</td>\n",
       "      <td>53.0</td>\n",
       "      <td>78</td>\n",
       "    </tr>\n",
       "    <tr>\n",
       "      <th>2020-04-06</th>\n",
       "      <td>5759</td>\n",
       "      <td>1260</td>\n",
       "      <td>314</td>\n",
       "      <td>171</td>\n",
       "      <td>4716</td>\n",
       "      <td>272</td>\n",
       "      <td>1.0</td>\n",
       "      <td>11.0</td>\n",
       "      <td>27</td>\n",
       "      <td>51.0</td>\n",
       "      <td>93</td>\n",
       "    </tr>\n",
       "    <tr>\n",
       "      <th>2020-04-07</th>\n",
       "      <td>5715</td>\n",
       "      <td>1276</td>\n",
       "      <td>490</td>\n",
       "      <td>524</td>\n",
       "      <td>4682</td>\n",
       "      <td>303</td>\n",
       "      <td>2.0</td>\n",
       "      <td>11.0</td>\n",
       "      <td>21</td>\n",
       "      <td>73.0</td>\n",
       "      <td>91</td>\n",
       "    </tr>\n",
       "    <tr>\n",
       "      <th>2020-04-08</th>\n",
       "      <td>5616</td>\n",
       "      <td>1285</td>\n",
       "      <td>459</td>\n",
       "      <td>483</td>\n",
       "      <td>4658</td>\n",
       "      <td>317</td>\n",
       "      <td>1.0</td>\n",
       "      <td>11.0</td>\n",
       "      <td>25</td>\n",
       "      <td>73.0</td>\n",
       "      <td>104</td>\n",
       "    </tr>\n",
       "    <tr>\n",
       "      <th>2020-04-09</th>\n",
       "      <td>5636</td>\n",
       "      <td>1278</td>\n",
       "      <td>462</td>\n",
       "      <td>404</td>\n",
       "      <td>4716</td>\n",
       "      <td>270</td>\n",
       "      <td>1.0</td>\n",
       "      <td>12.0</td>\n",
       "      <td>22</td>\n",
       "      <td>58.0</td>\n",
       "      <td>97</td>\n",
       "    </tr>\n",
       "    <tr>\n",
       "      <th>2020-04-10</th>\n",
       "      <td>5663</td>\n",
       "      <td>1262</td>\n",
       "      <td>421</td>\n",
       "      <td>418</td>\n",
       "      <td>4719</td>\n",
       "      <td>319</td>\n",
       "      <td>0.0</td>\n",
       "      <td>10.0</td>\n",
       "      <td>22</td>\n",
       "      <td>77.0</td>\n",
       "      <td>105</td>\n",
       "    </tr>\n",
       "    <tr>\n",
       "      <th>2020-04-11</th>\n",
       "      <td>5437</td>\n",
       "      <td>1232</td>\n",
       "      <td>393</td>\n",
       "      <td>482</td>\n",
       "      <td>4630</td>\n",
       "      <td>288</td>\n",
       "      <td>0.0</td>\n",
       "      <td>15.0</td>\n",
       "      <td>24</td>\n",
       "      <td>57.0</td>\n",
       "      <td>106</td>\n",
       "    </tr>\n",
       "    <tr>\n",
       "      <th>2020-04-12</th>\n",
       "      <td>5441</td>\n",
       "      <td>1234</td>\n",
       "      <td>270</td>\n",
       "      <td>239</td>\n",
       "      <td>4661</td>\n",
       "      <td>342</td>\n",
       "      <td>1.0</td>\n",
       "      <td>17.0</td>\n",
       "      <td>20</td>\n",
       "      <td>54.0</td>\n",
       "      <td>92</td>\n",
       "    </tr>\n",
       "    <tr>\n",
       "      <th>2020-04-13</th>\n",
       "      <td>5554</td>\n",
       "      <td>1226</td>\n",
       "      <td>242</td>\n",
       "      <td>161</td>\n",
       "      <td>4742</td>\n",
       "      <td>280</td>\n",
       "      <td>1.0</td>\n",
       "      <td>17.0</td>\n",
       "      <td>25</td>\n",
       "      <td>63.0</td>\n",
       "      <td>89</td>\n",
       "    </tr>\n",
       "    <tr>\n",
       "      <th>2020-04-14</th>\n",
       "      <td>5532</td>\n",
       "      <td>1204</td>\n",
       "      <td>250</td>\n",
       "      <td>239</td>\n",
       "      <td>4753</td>\n",
       "      <td>275</td>\n",
       "      <td>1.0</td>\n",
       "      <td>10.0</td>\n",
       "      <td>14</td>\n",
       "      <td>65.0</td>\n",
       "      <td>91</td>\n",
       "    </tr>\n",
       "    <tr>\n",
       "      <th>2020-04-15</th>\n",
       "      <td>5331</td>\n",
       "      <td>1182</td>\n",
       "      <td>310</td>\n",
       "      <td>455</td>\n",
       "      <td>4608</td>\n",
       "      <td>275</td>\n",
       "      <td>0.0</td>\n",
       "      <td>15.0</td>\n",
       "      <td>30</td>\n",
       "      <td>51.0</td>\n",
       "      <td>106</td>\n",
       "    </tr>\n",
       "    <tr>\n",
       "      <th>2020-04-16</th>\n",
       "      <td>5181</td>\n",
       "      <td>1150</td>\n",
       "      <td>320</td>\n",
       "      <td>399</td>\n",
       "      <td>4529</td>\n",
       "      <td>251</td>\n",
       "      <td>0.0</td>\n",
       "      <td>7.0</td>\n",
       "      <td>19</td>\n",
       "      <td>51.0</td>\n",
       "      <td>85</td>\n",
       "    </tr>\n",
       "    <tr>\n",
       "      <th>2020-04-17</th>\n",
       "      <td>5088</td>\n",
       "      <td>1119</td>\n",
       "      <td>303</td>\n",
       "      <td>387</td>\n",
       "      <td>4445</td>\n",
       "      <td>205</td>\n",
       "      <td>0.0</td>\n",
       "      <td>7.0</td>\n",
       "      <td>29</td>\n",
       "      <td>26.0</td>\n",
       "      <td>84</td>\n",
       "    </tr>\n",
       "    <tr>\n",
       "      <th>2020-04-18</th>\n",
       "      <td>4892</td>\n",
       "      <td>1081</td>\n",
       "      <td>265</td>\n",
       "      <td>409</td>\n",
       "      <td>4301</td>\n",
       "      <td>208</td>\n",
       "      <td>1.0</td>\n",
       "      <td>8.0</td>\n",
       "      <td>27</td>\n",
       "      <td>36.0</td>\n",
       "      <td>76</td>\n",
       "    </tr>\n",
       "    <tr>\n",
       "      <th>2020-04-19</th>\n",
       "      <td>4940</td>\n",
       "      <td>1071</td>\n",
       "      <td>232</td>\n",
       "      <td>138</td>\n",
       "      <td>4395</td>\n",
       "      <td>211</td>\n",
       "      <td>1.0</td>\n",
       "      <td>3.0</td>\n",
       "      <td>13</td>\n",
       "      <td>50.0</td>\n",
       "      <td>68</td>\n",
       "    </tr>\n",
       "    <tr>\n",
       "      <th>2020-04-20</th>\n",
       "      <td>4996</td>\n",
       "      <td>1079</td>\n",
       "      <td>172</td>\n",
       "      <td>106</td>\n",
       "      <td>4461</td>\n",
       "      <td>198</td>\n",
       "      <td>1.0</td>\n",
       "      <td>9.0</td>\n",
       "      <td>19</td>\n",
       "      <td>44.0</td>\n",
       "      <td>66</td>\n",
       "    </tr>\n",
       "  </tbody>\n",
       "</table>\n",
       "</div>"
      ],
      "text/plain": [
       "            H_tot  ICU_tot  H_in  H_out  H_tot_cumsum  D_tot  D_25_44  \\\n",
       "DATE                                                                    \n",
       "2020-03-15    266       54    71     18            53      6      0.0   \n",
       "2020-03-16    370       79    90     14           129     11      0.0   \n",
       "2020-03-17    497      100   122     31           220     12      0.0   \n",
       "2020-03-18    650      131   179     48           351     22      1.0   \n",
       "2020-03-19    844      165   207     49           509     28      0.0   \n",
       "2020-03-20   1101      228   288     55           742     31      0.0   \n",
       "2020-03-21   1384      290   320     74           988     39      1.0   \n",
       "2020-03-22   1646      322   273     61          1200     42      1.0   \n",
       "2020-03-23   1883      385   257     60          1397     78      0.0   \n",
       "2020-03-24   2140      474   412    115          1694     74      0.0   \n",
       "2020-03-25   2721      612   535    128          2101     96      1.0   \n",
       "2020-03-26   3077      690   490    183          2408    102      1.0   \n",
       "2020-03-27   3650      789   575    205          2778    123      0.0   \n",
       "2020-03-28   4089      867   629    296          3111    133      0.0   \n",
       "2020-03-29   4480      942   545    169          3487    139      1.0   \n",
       "2020-03-30   4897     1021   478    168          3797    169      0.0   \n",
       "2020-03-31   4989     1088   553    436          3914    187      1.0   \n",
       "2020-04-01   5220     1144   584    363          4135    251      1.0   \n",
       "2020-04-02   5383     1205   568    377          4326    213      0.0   \n",
       "2020-04-03   5513     1245   504    375          4455    233      0.0   \n",
       "2020-04-04   5531     1261   499    504          4450    274      1.0   \n",
       "2020-04-05   5620     1267   358    235          4573    235      3.0   \n",
       "2020-04-06   5759     1260   314    171          4716    272      1.0   \n",
       "2020-04-07   5715     1276   490    524          4682    303      2.0   \n",
       "2020-04-08   5616     1285   459    483          4658    317      1.0   \n",
       "2020-04-09   5636     1278   462    404          4716    270      1.0   \n",
       "2020-04-10   5663     1262   421    418          4719    319      0.0   \n",
       "2020-04-11   5437     1232   393    482          4630    288      0.0   \n",
       "2020-04-12   5441     1234   270    239          4661    342      1.0   \n",
       "2020-04-13   5554     1226   242    161          4742    280      1.0   \n",
       "2020-04-14   5532     1204   250    239          4753    275      1.0   \n",
       "2020-04-15   5331     1182   310    455          4608    275      0.0   \n",
       "2020-04-16   5181     1150   320    399          4529    251      0.0   \n",
       "2020-04-17   5088     1119   303    387          4445    205      0.0   \n",
       "2020-04-18   4892     1081   265    409          4301    208      1.0   \n",
       "2020-04-19   4940     1071   232    138          4395    211      1.0   \n",
       "2020-04-20   4996     1079   172    106          4461    198      1.0   \n",
       "\n",
       "            D_45_64  D_65_74  D_75_84  D_85+  \n",
       "DATE                                          \n",
       "2020-03-15      0.0        3      1.0      2  \n",
       "2020-03-16      0.0        3      3.0      5  \n",
       "2020-03-17      0.0        1      4.0      7  \n",
       "2020-03-18      1.0        2      6.0     10  \n",
       "2020-03-19      0.0        8      5.0     14  \n",
       "2020-03-20      4.0        5      4.0     14  \n",
       "2020-03-21      3.0        3     16.0     11  \n",
       "2020-03-22      5.0        7      9.0     14  \n",
       "2020-03-23     10.0        8     24.0     26  \n",
       "2020-03-24      3.0       13     20.0     35  \n",
       "2020-03-25      8.0       17     31.0     32  \n",
       "2020-03-26      5.0       13     32.0     44  \n",
       "2020-03-27      8.0       16     33.0     42  \n",
       "2020-03-28      5.0       16     42.0     50  \n",
       "2020-03-29      2.0       23     48.0     44  \n",
       "2020-03-30     12.0       10     50.0     70  \n",
       "2020-03-31     12.0       21     58.0     72  \n",
       "2020-04-01     15.0       18     57.0     82  \n",
       "2020-04-02     13.0       38     45.0     70  \n",
       "2020-04-03     11.0       24     59.0     84  \n",
       "2020-04-04     12.0       21     78.0     90  \n",
       "2020-04-05      9.0       33     53.0     78  \n",
       "2020-04-06     11.0       27     51.0     93  \n",
       "2020-04-07     11.0       21     73.0     91  \n",
       "2020-04-08     11.0       25     73.0    104  \n",
       "2020-04-09     12.0       22     58.0     97  \n",
       "2020-04-10     10.0       22     77.0    105  \n",
       "2020-04-11     15.0       24     57.0    106  \n",
       "2020-04-12     17.0       20     54.0     92  \n",
       "2020-04-13     17.0       25     63.0     89  \n",
       "2020-04-14     10.0       14     65.0     91  \n",
       "2020-04-15     15.0       30     51.0    106  \n",
       "2020-04-16      7.0       19     51.0     85  \n",
       "2020-04-17      7.0       29     26.0     84  \n",
       "2020-04-18      8.0       27     36.0     76  \n",
       "2020-04-19      3.0       13     50.0     68  \n",
       "2020-04-20      9.0       19     44.0     66  "
      ]
     },
     "execution_count": 137,
     "metadata": {},
     "output_type": "execute_result"
    }
   ],
   "source": [
    "df_sciensano[:samples_dict['end_ramp']]"
   ]
  },
  {
   "cell_type": "code",
   "execution_count": 143,
   "metadata": {
    "ExecuteTime": {
     "end_time": "2020-08-12T08:42:01.779991Z",
     "start_time": "2020-08-12T08:42:01.733966Z"
    },
    "scrolled": true
   },
   "outputs": [
    {
     "data": {
      "text/plain": [
       "DATE\n",
       "2020-04-21    263\n",
       "2020-04-22    211\n",
       "2020-04-23    210\n",
       "2020-04-24    217\n",
       "2020-04-25    202\n",
       "             ... \n",
       "2020-08-06     28\n",
       "2020-08-07     27\n",
       "2020-08-08     31\n",
       "2020-08-09     20\n",
       "2020-08-10     33\n",
       "Freq: D, Name: H_in, Length: 112, dtype: int64"
      ]
     },
     "execution_count": 143,
     "metadata": {},
     "output_type": "execute_result"
    }
   ],
   "source": []
  },
  {
   "cell_type": "code",
   "execution_count": 134,
   "metadata": {
    "ExecuteTime": {
     "end_time": "2020-08-12T08:35:55.625899Z",
     "start_time": "2020-08-12T08:35:55.583194Z"
    }
   },
   "outputs": [
    {
     "data": {
      "text/plain": [
       "DATE\n",
       "2020-04-21    263\n",
       "2020-04-22    211\n",
       "2020-04-23    210\n",
       "2020-04-24    217\n",
       "2020-04-25    202\n",
       "             ... \n",
       "2020-08-06     28\n",
       "2020-08-07     27\n",
       "2020-08-08     31\n",
       "2020-08-09     20\n",
       "2020-08-10     33\n",
       "Freq: D, Name: H_in, Length: 112, dtype: int64"
      ]
     },
     "execution_count": 134,
     "metadata": {},
     "output_type": "execute_result"
    }
   ],
   "source": [
    "df_sciensano[\"H_in\"][37:end_data]"
   ]
  },
  {
   "cell_type": "code",
   "execution_count": 138,
   "metadata": {
    "ExecuteTime": {
     "end_time": "2020-08-12T08:38:41.637258Z",
     "start_time": "2020-08-12T08:38:41.590813Z"
    }
   },
   "outputs": [
    {
     "data": {
      "text/plain": [
       "DatetimeIndex(['2020-04-21', '2020-04-22', '2020-04-23', '2020-04-24',\n",
       "               '2020-04-25', '2020-04-26', '2020-04-27', '2020-04-28',\n",
       "               '2020-04-29', '2020-04-30',\n",
       "               ...\n",
       "               '2020-08-01', '2020-08-02', '2020-08-03', '2020-08-04',\n",
       "               '2020-08-05', '2020-08-06', '2020-08-07', '2020-08-08',\n",
       "               '2020-08-09', '2020-08-10'],\n",
       "              dtype='datetime64[ns]', length=112, freq='D')"
      ]
     },
     "execution_count": 138,
     "metadata": {},
     "output_type": "execute_result"
    }
   ],
   "source": [
    "pd.date_range(start_date,freq='D',periods=df_sciensano[\"H_in\"][37:end_data].size)+datetime.timedelta(days=data[0].size)"
   ]
  },
  {
   "cell_type": "code",
   "execution_count": null,
   "metadata": {},
   "outputs": [],
   "source": [
    "pd.date_range("
   ]
  },
  {
   "cell_type": "code",
   "execution_count": 139,
   "metadata": {
    "ExecuteTime": {
     "end_time": "2020-08-12T08:38:48.038057Z",
     "start_time": "2020-08-12T08:38:47.994776Z"
    }
   },
   "outputs": [
    {
     "data": {
      "text/plain": [
       "DATE\n",
       "2020-04-21    263\n",
       "2020-04-22    211\n",
       "2020-04-23    210\n",
       "2020-04-24    217\n",
       "2020-04-25    202\n",
       "             ... \n",
       "2020-08-06     28\n",
       "2020-08-07     27\n",
       "2020-08-08     31\n",
       "2020-08-09     20\n",
       "2020-08-10     33\n",
       "Freq: D, Name: H_in, Length: 112, dtype: int64"
      ]
     },
     "execution_count": 139,
     "metadata": {},
     "output_type": "execute_result"
    }
   ],
   "source": [
    "df_sciensano[\"H_in\"][37:end_data]"
   ]
  },
  {
   "cell_type": "code",
   "execution_count": 144,
   "metadata": {
    "ExecuteTime": {
     "end_time": "2020-08-12T08:42:35.273162Z",
     "start_time": "2020-08-12T08:42:35.230649Z"
    }
   },
   "outputs": [],
   "source": [
    "predicted_data = df_sciensano[pd.to_datetime(samples_dict['end_ramp'])+pd.to_timedelta('1d'):end_date]['H_in']\n"
   ]
  },
  {
   "cell_type": "code",
   "execution_count": 148,
   "metadata": {
    "ExecuteTime": {
     "end_time": "2020-08-12T08:43:07.607657Z",
     "start_time": "2020-08-12T08:43:07.564460Z"
    }
   },
   "outputs": [
    {
     "data": {
      "text/plain": [
       "array([263, 211, 210, 217, 202, 127, 123, 174, 178, 152, 128,  77,  59,\n",
       "        84, 116,  98, 108,  75,  83,  60,  43,  70,  81,  67,  65,  60,\n",
       "        43,  50,  58,  71,  56,  34,  48,  27,  39,  36,  49,  27,  29,\n",
       "        40,  25,  26,  31,  21,  32,  26,  21,  23,  16,  24,  19,  32,\n",
       "        23,  12,  17,  11,  24,  19,  20,  20,  18,  10,  12,  12,  16,\n",
       "        19,  18,  16,   5,  13,  17,   9,  13,   5,  16,   6,   9,  15,\n",
       "         9,  10,   6,   9,   7,   9,  18,   9,  12,   8,  23,  15,  13,\n",
       "         5,  19,  24,  28,  21,  14,  20,  35,  33,  20,  11,  26,  23,\n",
       "        24,  18,  41,  28,  27,  31,  20,  33])"
      ]
     },
     "execution_count": 148,
     "metadata": {},
     "output_type": "execute_result"
    }
   ],
   "source": [
    "predicted_data.values"
   ]
  },
  {
   "cell_type": "code",
   "execution_count": 149,
   "metadata": {
    "ExecuteTime": {
     "end_time": "2020-08-12T08:43:50.361929Z",
     "start_time": "2020-08-12T08:43:42.061831Z"
    },
    "scrolled": false
   },
   "outputs": [
    {
     "data": {
      "text/plain": [
       "(0, 850)"
      ]
     },
     "execution_count": 149,
     "metadata": {},
     "output_type": "execute_result"
    },
    {
     "data": {
      "image/png": "[encoded data removed]",
      "text/plain": [
       "<Figure size 432x288 with 1 Axes>"
      ]
     },
     "metadata": {
      "needs_background": "light"
     },
     "output_type": "display_data"
    }
   ],
   "source": [
    "states = [['H_in']]\n",
    "start_date = '15-03-2020'\n",
    "end_date = '2020-09-20'\n",
    "data=[df_sciensano[:samples_dict['end_ramp']]['H_in'].values]\n",
    "fig,ax=plt.subplots()\n",
    "for i in range(20):\n",
    "    idx,model.parameters['beta'] = random.choice(list(enumerate(samples_dict['beta'])))\n",
    "    idx,model.parameters['l'] = random.choice(list(enumerate(samples_dict['l'])))\n",
    "    model.parameters['tau'] = samples_dict['tau'][idx]\n",
    "    prevention = samples_dict['prevention'][idx]\n",
    "    # Create a dictionary of past policies\n",
    "    chk = {'time':   [lag_time], \n",
    "          'Nc':      [prevention*(1.00*Nc_home + (1-0.60)*Nc_work + (1-0.70)*Nc_transport + (1-0.30)*Nc_others + (1-0.80)*Nc_leisure)]\n",
    "          }\n",
    "    y_model = model.sim(time='2020-09-20', excess_time=lag_time,checkpoints=chk)\n",
    "    ax = plot_fit(y_model,data,start_date,lag_time,states,end_date=end_date,with_ints=False,ax=ax,plt_kwargs={'color':'blue','linewidth': 2,'alpha': 0.05})\n",
    "\n",
    "data_after_calib = df_sciensano[pd.to_datetime(samples_dict['end_ramp'])+pd.to_timedelta('1d'):end_date]['H_in']\n",
    "plt.scatter(data_after_calib.index, data_after_calib.values, marker='o',color='red',linestyle='None',facecolors='none')\n",
    "legend_text=['daily \\nhospitalizations']\n",
    "#leg=ax.legend(legend_text, loc=\"upper left\", bbox_to_anchor=(1,1))\n",
    "ax.set_ylim([0,850])\n",
    "#plt.savefig('plot_fit_compliance.pdf', dpi=600, bbox_inches='tight',orientation='portrait', papertype='a4')"
   ]
  },
  {
   "cell_type": "markdown",
   "metadata": {},
   "source": [
    "# (Calibration of hospitalization parameters)"
   ]
  },
  {
   "cell_type": "markdown",
   "metadata": {},
   "source": [
    "Load the previously calibrated parameters: $\\beta$, lag_time, k, t0, prevention"
   ]
  },
  {
   "cell_type": "code",
   "execution_count": null,
   "metadata": {},
   "outputs": [],
   "source": [
    "import json\n",
    "with open('parameters_deterministic.json', 'r') as fp:\n",
    "    samples_dict = json.load(fp)\n",
    "\n",
    "lag_time = samples_dict['lag_time']\n",
    "model.extraTime = samples_dict['lag_time']\n",
    "model.parameters['beta'] = np.mean(samples_dict['beta'])\n",
    "model.parameters['l'] = np.mean(samples_dict['l'])\n",
    "model.parameters['tau'] = np.mean(samples_dict['tau'])\n",
    "prevention = np.mean(samples_dict['prevention'])"
   ]
  },
  {
   "cell_type": "code",
   "execution_count": null,
   "metadata": {},
   "outputs": [],
   "source": [
    "# Create checkpoints dictionary\n",
    "chk = {'time':  [lag_time], \n",
    "       'Nc':    [prevention*(1.0*Nc_home + (1-0.60)*Nc_work + (1-0.70)*Nc_transport + (1-0.30)*Nc_others + (1-0.80)*Nc_leisure)],\n",
    "      }\n",
    "\n",
    "model.parameters['dICUrec'] = 8\n",
    "\n",
    "# define dataset\n",
    "data=[df_sciensano[\"H_out\"].values[:55],df_sciensano[\"ICU_tot\"].values[:55],df_sciensano[\"H_tot\"].values[:55]]\n",
    "# set optimisation settings\n",
    "parNames = ['sigma_H_out','sigma_ICU_tot','sigma_H_tot','dc','dICU'] # must be a list!\n",
    "states = [[\"H_out\"],[\"ICU\"],[\"H_tot\"]]\n",
    "bounds=((1,200),(1,300),(1,600),(2,30),(2,20)) # must be a list!\n",
    "# run optimisation\n",
    "theta = MCMC.fit_pso(model,data,parNames,states,bounds,checkpoints=chk,maxiter=50,popsize=50)"
   ]
  },
  {
   "cell_type": "code",
   "execution_count": null,
   "metadata": {},
   "outputs": [],
   "source": [
    "model.parameters.update({\n",
    "    'dc': theta[3],\n",
    "    'dICU': theta[4]\n",
    "}\n",
    ")"
   ]
  },
  {
   "cell_type": "code",
   "execution_count": null,
   "metadata": {},
   "outputs": [],
   "source": [
    "T = 3\n",
    "fig,ax=plt.subplots()\n",
    "for i in range(1):\n",
    "    y_model = model.sim(data[0].size+lag_time-1+T,checkpoints=chk)\n",
    "    ax = plot_fit(y_model,data,'15-03-2020',lag_time,states,T=T,ax=ax,plt_kwargs={'color':'blue','linewidth': 2,'alpha': 1})"
   ]
  },
  {
   "cell_type": "code",
   "execution_count": null,
   "metadata": {},
   "outputs": [],
   "source": [
    "pos = theta + [5,5,5,3,3]* np.random.randn(10, 5)\n",
    "bounds=((1,500),(1,500),(1,1000),(1,30),(1,30)) \n",
    "nwalkers, ndim = pos.shape\n",
    "sampler = emcee.EnsembleSampler(nwalkers, ndim, objective_fcns.log_probability,\n",
    "                                args=(model,bounds,data,states,parNames,chk))\n",
    "sampler.run_mcmc(pos, 16000, progress=True);"
   ]
  },
  {
   "cell_type": "code",
   "execution_count": null,
   "metadata": {},
   "outputs": [],
   "source": [
    "sampler.get_autocorr_time()"
   ]
  },
  {
   "cell_type": "code",
   "execution_count": null,
   "metadata": {},
   "outputs": [],
   "source": [
    "samples = sampler.get_chain(discard=50,flat=False)\n",
    "flat_samples = sampler.get_chain(discard=50,flat=True)"
   ]
  },
  {
   "cell_type": "code",
   "execution_count": null,
   "metadata": {},
   "outputs": [],
   "source": [
    "mean = np.mean(samples_dict['dICU'])\n",
    "p10 = np.percentile(samples_dict['dICU'],10)\n",
    "p90 = np.percentile(samples_dict['dICU'],90)\n",
    "print(mean,p10,p90)"
   ]
  },
  {
   "cell_type": "code",
   "execution_count": null,
   "metadata": {},
   "outputs": [],
   "source": [
    "samples_dict.update({'dc': flat_samples[:,3].tolist(), 'dICU': flat_samples[:,4].tolist()})"
   ]
  },
  {
   "cell_type": "code",
   "execution_count": null,
   "metadata": {},
   "outputs": [],
   "source": [
    "traceplot(samples=sampler.get_chain(discard=50),labels=[\"sigma_H_out\",\"sigma H_tot\",\"sigma_ICU_tot\",\"dc\",\"dICU\"],plt_kwargs={'linewidth':2,'color': 'red','alpha': 0.15})"
   ]
  },
  {
   "cell_type": "code",
   "execution_count": null,
   "metadata": {},
   "outputs": [],
   "source": [
    "import corner\n",
    "\n",
    "fig = corner.corner(\n",
    "    flat_samples, labels=[\"sigma_H_out\",\"sigma H_tot\",\"sigma_ICU_tot\",\"dc\",\"dICU\"],\n",
    ");\n",
    "fig.set_size_inches(12, 12)\n",
    "plt.savefig('corner_compliance_hospitalization.pdf', dpi=600, bbox_inches='tight',\n",
    "                    orientation='portrait', papertype='a4')"
   ]
  },
  {
   "cell_type": "code",
   "execution_count": null,
   "metadata": {},
   "outputs": [],
   "source": [
    "T = 21\n",
    "\n",
    "fig,ax=plt.subplots()\n",
    "for i in range(300):\n",
    "    model.parameters['beta'] = np.random.choice(samples_dict['beta'],1,replace=False)\n",
    "    model.parameters['l'] = np.random.choice(samples_dict['l'],1,replace=False)\n",
    "    prevention = np.random.choice(samples_dict['prevention'],1,replace=False)\n",
    "    model.parameters['dc'] = np.random.choice(samples_dict['dc'],1,replace=False)\n",
    "    model.parameters['dICU'] = np.random.choice(samples_dict['dICU'],1,replace=False)\n",
    "    # Create checkpoints dictionary\n",
    "    chk = {'time':  [lag_time], \n",
    "           'Nc':    [prevention*(1.3*Nc_home + (1-0.60)*Nc_work + (1-0.70)*Nc_transport + (1-0.30)*Nc_others + (1-0.80)*Nc_leisure)],\n",
    "      }\n",
    "    y_model = model.sim(data[0].size+lag_time-1+T,checkpoints=chk)\n",
    "    ax = plot_fit(y_model,data,'15-03-2020',lag_time,states,T=T,ax=ax,\n",
    "                  legend_text=['Hospital discharges','Intensive care units (total)','Hospitals (total)'],\n",
    "                  plt_kwargs={'linewidth': 0.10,'alpha': 0.15})"
   ]
  },
  {
   "cell_type": "code",
   "execution_count": null,
   "metadata": {},
   "outputs": [],
   "source": [
    "import json\n",
    "\n",
    "with open('parameters_deterministic.json', 'w') as fp:\n",
    "    json.dump(samples_dict, fp)"
   ]
  },
  {
   "cell_type": "code",
   "execution_count": null,
   "metadata": {},
   "outputs": [],
   "source": [
    "R_0 =[]\n",
    "for i in range(len(samples_dict['beta'])):\n",
    "    R_0.append(sum((model.parameters['a']*model.parameters['da']+model.parameters['omega'])*samples_dict['beta'][i]*model.parameters['s']*np.sum(Nc_total,axis=1)*(initN/sum(initN))))\n",
    "\n",
    "plt.hist(R_0,bins=30)\n",
    "mean = np.mean(R_0)\n",
    "p10 = np.percentile(R_0,10)\n",
    "p90 = np.percentile(R_0,90)\n",
    "print(mean,p10,p90)"
   ]
  },
  {
   "cell_type": "code",
   "execution_count": null,
   "metadata": {},
   "outputs": [],
   "source": [
    "R_0 = np.zeros([initN.size,len(samples_dict['beta'])])\n",
    "for i in range(len(samples_dict['beta'])):\n",
    "    R_0[:,i]= (model.parameters['a']*model.parameters['da']+model.parameters['omega'])*samples_dict['beta'][i]*model.parameters['s']*np.sum(Nc_total,axis=1)\n",
    "plt.hist(R_0[8,:],bins=30)\n",
    "\n",
    "for i in range(R_0.shape[0]):\n",
    "    mean = np.mean(R_0[i,:])\n",
    "    p10 = np.percentile(R_0[i,:],10)\n",
    "    p90 = np.percentile(R_0[i,:],90)\n",
    "    print(mean,p10,p90)"
   ]
  },
  {
   "cell_type": "markdown",
   "metadata": {},
   "source": [
    "# Notebook works till here"
   ]
  },
  {
   "cell_type": "markdown",
   "metadata": {},
   "source": [
    "### Scenarios"
   ]
  },
  {
   "cell_type": "code",
   "execution_count": null,
   "metadata": {},
   "outputs": [],
   "source": [
    "import json\n",
    "with open('parameters_deterministic.json', 'r') as fp:\n",
    "    samples_dict = json.load(fp)\n",
    "\n",
    "lag_time = samples_dict['lag_time']\n",
    "model.extraTime = samples_dict['lag_time']\n",
    "model.parameters['beta'] = np.mean(samples_dict['beta'])\n",
    "model.parameters['l'] = np.mean(samples_dict['l'])\n",
    "model.parameters['tau'] = np.mean(samples_dict['tau'])\n",
    "prevention = np.mean(samples_dict['prevention'])"
   ]
  },
  {
   "cell_type": "code",
   "execution_count": null,
   "metadata": {},
   "outputs": [],
   "source": [
    "import random\n",
    "from covid19model.visualization.output import _apply_tick_locator\n",
    "\n",
    "# define dataset\n",
    "data=[df_sciensano[\"H_in\"].values[:51]]\n",
    "states = [[\"H_in\"]]\n",
    "start_date = '15-03-2020'\n",
    "\n",
    "T = 2\n",
    "\n",
    "fig,ax=plt.subplots()\n",
    "for i in range(300):\n",
    "    model.parameters['beta'] = np.random.choice(samples_dict['beta'],1,replace=False)\n",
    "    idx,model.parameters['l'] = random.choice(list(enumerate(samples_dict['l'])))\n",
    "    model.parameters['tau'] = samples_dict['tau'][idx]\n",
    "    prevention = samples_dict['prevention'][idx]\n",
    "    #idx,model.parameters['dc'] = random.choice(list(enumerate(samples_dict['dc'])))\n",
    "    #model.parameters['dICU'] = samples_dict['dICU'][idx]\n",
    "    # Create a dictionary of past policies\n",
    "    chk = {'time':   [lag_time], \n",
    "          'Nc':      [prevention*(1.0*Nc_home + (1-0.60)*Nc_work + (1-0.70)*Nc_transport + (1-0.30)*Nc_others + (1-0.80)*Nc_leisure)]\n",
    "          }\n",
    "    y_model = model.sim(data[0].size+lag_time-1+T,checkpoints=chk)\n",
    "    \n",
    "    # Create shifted index vector \n",
    "    idx = pd.date_range(start_date,freq='D',periods=data[0].size + lag_time + T) - datetime.timedelta(days=lag_time)\n",
    "    # Plot model prediction\n",
    "\n",
    "    lines = ax.plot([],[],color='red',alpha=1)\n",
    "    lines = ax.plot([],[],color='blue',alpha=1)\n",
    "    \n",
    "    for i in range(len(data)):\n",
    "        # ages 60 plus\n",
    "        #data2plot = y_model[states[i]].to_array(dim=\"states\").values.ravel()\n",
    "        #val = y_model[states[i]].to_array(dim=\"states\").values[:,6:,:].sum(axis=1)\n",
    "        #csum=np.cumsum(val)\n",
    "        #lines = ax.plot(idx,csum,color='green',linewidth= 2,alpha= 0.05)    \n",
    "        # ages 70 plus\n",
    "        data2plot = y_model[states[i]].to_array(dim=\"states\").values.ravel()\n",
    "        val = y_model[states[i]].to_array(dim=\"states\").values[:,7:,:].sum(axis=1)\n",
    "        csum=np.cumsum(val)\n",
    "        lines = ax.plot(idx,csum,color='blue',linewidth= 2,alpha= 0.05)    \n",
    "        # total cumsum\n",
    "        data2plot = y_model[states[i]].to_array(dim=\"states\").values.ravel()\n",
    "        val = y_model[states[i]].to_array(dim=\"states\").values.sum(axis=1)\n",
    "        csum=np.cumsum(val)\n",
    "        lines = ax.plot(idx,csum,color='red',linewidth= 2,alpha= 0.05)  \n",
    "    # Plot data\n",
    "    for i in range(len(data)):\n",
    "        lines=ax.scatter(idx[lag_time:-T],np.cumsum(data[i]),color=\"black\",facecolors='none')\n",
    "    \n",
    "\n",
    "    # Attributes\n",
    "    #if legend_text is not None:\n",
    "    #    leg=ax.legend(legend_text, loc=\"upper left\", bbox_to_anchor=(1,1))\n",
    "    #if titleText is not None:\n",
    "    #    ax.set_title(titleText,{'fontsize':18})\n",
    "\n",
    "    # Format axes\n",
    "    ax.xaxis.set_major_locator(mdates.DayLocator())\n",
    "    ax.xaxis.set_major_formatter(mdates.DateFormatter('%d-%m-%Y'))\n",
    "    plt.setp(plt.gca().xaxis.get_majorticklabels(),\n",
    "        'rotation', 90)\n",
    "    #fig.autofmt_xdate(rotation=90)\n",
    "    ax.set_xlim( idx[lag_time-3], pd.to_datetime(idx[-1]+ datetime.timedelta(days=1)))\n",
    "    ax.set_ylabel('number of patients')\n",
    "\n",
    "    # limit the number of ticks on the axis\n",
    "    ax = _apply_tick_locator(ax)\n",
    "\n",
    "legend_text=['Total hospitalizations','Total hospitalizations \\n(ages 70+)']\n",
    "leg=ax.legend(legend_text, loc=\"upper left\", bbox_to_anchor=(1,1))\n",
    "for lh in leg.get_lines(): \n",
    "    lh.set_alpha(1)\n",
    "fig.set_size_inches(10, 4)\n",
    "plt.savefig('hospital_age.pdf', dpi=300, bbox_inches='tight',orientation='portrait', papertype='a4')"
   ]
  },
  {
   "cell_type": "code",
   "execution_count": null,
   "metadata": {},
   "outputs": [],
   "source": [
    "data=[df_sciensano[\"H_tot\"].values[:],df_sciensano[\"ICU_tot\"].values[:]]\n",
    "states = [[\"H_tot\"],[\"ICU\"]]"
   ]
  },
  {
   "cell_type": "code",
   "execution_count": null,
   "metadata": {},
   "outputs": [],
   "source": [
    "T = 62\n",
    "# Define data as a list containing data timeseries\n",
    "index = pd.date_range('15-03-2020',freq='D',periods=data[0].size + lag_time + T)\n",
    "print(index[1],index[50],index[52],index[57],index[64],index[81],index[108],index[170])"
   ]
  },
  {
   "cell_type": "code",
   "execution_count": null,
   "metadata": {},
   "outputs": [],
   "source": [
    "T = 62\n",
    "\n",
    "fig,ax=plt.subplots()\n",
    "\n",
    "ax.axvspan(index[50], index[64], alpha=0.20, color='black')\n",
    "ax.axvspan(index[64], index[81], alpha=0.10, color='black')\n",
    "ax.axvspan(index[81], index[-1], alpha=0.05, color='black')\n",
    "\n",
    "for i in range(300):\n",
    "    model.parameters['beta'] = np.random.choice(samples_dict['beta'],1,replace=False)\n",
    "    idx,model.parameters['l'] = random.choice(list(enumerate(samples_dict['l'])))\n",
    "    model.parameters['tau'] = samples_dict['tau'][idx]\n",
    "    prevention = samples_dict['prevention'][idx]\n",
    "    #model.parameters['dc'] = np.random.choice(samples_dict['dc'],1,replace=False)\n",
    "    #model.parameters['dICU'] = np.random.choice(samples_dict['dICU'],1,replace=False)\n",
    "    # Create a dictionary of past policies\n",
    "    chk = {'time':   [lag_time,lag_time+50,lag_time+52,lag_time+57,lag_time+64,lag_time+81,lag_time+108], \n",
    "          'Nc':      [prevention*(1.0*Nc_home + (1-0.60)*Nc_work + (1-0.70)*Nc_transport + (1-0.30)*Nc_others + (1-0.80)*Nc_leisure),\n",
    "                      prevention*(1.0*Nc_home + (1-0.50)*Nc_work + (1-0.60)*Nc_transport + (1-0.30)*Nc_others + (1-0.70)*Nc_leisure),\n",
    "                      prevention*(1.0*Nc_home + (1-0.40)*Nc_work + (1-0.55)*Nc_transport + (1-0.25)*Nc_others + (1-0.65)*Nc_leisure),\n",
    "                      prevention*(1.0*Nc_home + (1-0.30)*Nc_work + (1-0.50)*Nc_transport + (1-0.20)*Nc_others + (1-0.60)*Nc_leisure),\n",
    "                      prevention*(1.0*Nc_home + (1-0.30)*Nc_work + (1-0.45)*Nc_transport + (1-0.85)*Nc_schools + (1-0.15)*Nc_others + (1-0.50)*Nc_leisure),\n",
    "                      prevention*(1.0*Nc_home + (1-0.25)*Nc_work + (1-0.35)*Nc_transport + (1-0.35)*Nc_schools + (1-0.10)*Nc_others + (1-0.30)*Nc_leisure),\n",
    "                      prevention*(1.0*Nc_home + (1-0.20)*Nc_work + (1-0.15)*Nc_transport + (1-0.00)*Nc_others + (1-0.00)*Nc_leisure)]\n",
    "                  }\n",
    "    y_model = model.sim(data[0].size+lag_time-1+T,checkpoints=chk)\n",
    "    ax = plot_fit(y_model,data,'15-03-2020',lag_time,states,T=T,ax=ax,\n",
    "                  legend_text=None,\n",
    "                  plt_kwargs={'linewidth': 2,'alpha': 0.05})\n",
    "\n",
    "legend_text=['Hospital (total)','ICU (total)']\n",
    "leg=ax.legend(legend_text, loc=\"upper left\", bbox_to_anchor=(1,1))\n",
    "for lh in leg.get_lines(): \n",
    "    lh.set_alpha(1)\n",
    "#fig.set_size_inches(10, 4)\n",
    "plt.savefig('lockdown_release.pdf', dpi=300, bbox_inches='tight',orientation='portrait', papertype='a4')"
   ]
  },
  {
   "cell_type": "code",
   "execution_count": null,
   "metadata": {},
   "outputs": [],
   "source": [
    "T = 3\n",
    "\n",
    "fig,ax=plt.subplots()\n",
    "\n",
    "for i in range(200):\n",
    "    model.parameters['beta'] = np.random.choice(samples_dict['beta'],1,replace=False)\n",
    "    idx,model.parameters['l'] = random.choice(list(enumerate(samples_dict['l'])))\n",
    "    model.parameters['tau'] = samples_dict['tau'][idx]\n",
    "    prevention = samples_dict['prevention'][idx]\n",
    "    #model.parameters['dc'] = np.random.choice(samples_dict['dc'],1,replace=False)\n",
    "    #model.parameters['dICU'] = np.random.choice(samples_dict['dICU'],1,replace=False)\n",
    "    # Create a dictionary of past policies\n",
    "    chk = {'time':   [lag_time], \n",
    "          'Nc':      [prevention*(1.0*Nc_home + (1-0.60)*Nc_work + (1-0.70)*Nc_transport + (1-0.30)*Nc_others + (1-0.80)*Nc_leisure),\n",
    "                     ]\n",
    "                  }\n",
    "    y_model = model.sim(data[0].size+lag_time-1+T,checkpoints=chk)\n",
    "    ax = plot_fit(y_model,data,'15-03-2020',lag_time,states,T=T,ax=ax,\n",
    "                  legend_text=None,\n",
    "                  plt_kwargs={'linewidth': 2,'alpha': 0.05})\n",
    "\n",
    "legend_text=['Hospital (total)','ICU (total)']\n",
    "#leg=ax.legend(legend_text, loc=\"upper left\", bbox_to_anchor=(1,1))\n",
    "#for lh in leg.get_lines(): \n",
    "#    lh.set_alpha(1)\n",
    "#fig.set_size_inches(6, 4)\n",
    "plt.savefig('continued_lockdown.pdf', dpi=300, bbox_inches='tight',orientation='portrait', papertype='a4')"
   ]
  },
  {
   "cell_type": "code",
   "execution_count": null,
   "metadata": {},
   "outputs": [],
   "source": [
    "fig,ax=plt.subplots()\n",
    "for i in range(300):\n",
    "    model.parameters['beta'] = np.random.choice(samples_dict['beta'],1,replace=False)\n",
    "    model.parameters['l'] = np.random.choice(samples_dict['l'],1,replace=False)\n",
    "    prevention = np.random.choice(samples_dict['prevention'],1,replace=False)\n",
    "    #model.parameters['dc'] = np.random.choice(samples_dict['dc'],1,replace=False)\n",
    "    #model.parameters['dICU'] = np.random.choice(samples_dict['dICU'],1,replace=False)\n",
    "    # Create a dictionary of past policies\n",
    "    chk = {'time':   [lag_time,lag_time+50,lag_time+52,lag_time+57], \n",
    "          'Nc':      [prevention*(1.3*Nc_home + (1-0.60)*Nc_work + (1-0.70)*Nc_transport + (1-0.30)*Nc_others + (1-0.80)*Nc_leisure),\n",
    "                      prevention*(1.2*Nc_home + (1-0.50)*Nc_work + (1-0.60)*Nc_transport + (1-0.30)*Nc_others + (1-0.70)*Nc_leisure),\n",
    "                      prevention*(1.1*Nc_home + (1-0.40)*Nc_work + (1-0.55)*Nc_transport + (1-0.25)*Nc_others + (1-0.65)*Nc_leisure),\n",
    "                      prevention*(Nc_home + (1-0.30)*Nc_work + (1-0.50)*Nc_transport + (1-0.20)*Nc_others + (1-0.60)*Nc_leisure),]\n",
    "                              #0.2*Nc_home + prevention*((1-0.30)*Nc_work + (1-0.45)*Nc_transport + (1-0.85)*Nc_schools + (1-0.15)*Nc_others + (1-0.50)*Nc_leisure),\n",
    "                              #0.2*Nc_home + prevention*((1-0.25)*Nc_work + (1-0.35)*Nc_transport + (1-0.35)*Nc_schools + (1-0.10)*Nc_others + (1-0.30)*Nc_leisure),\n",
    "                              #0.2*Nc_home + prevention*((1-0.20)*Nc_work + (1-0.15)*Nc_transport + (1-0.00)*Nc_others + (1-0.00)*Nc_leisure)]\n",
    "                  }\n",
    "    y_model = model.sim(data[0].size+lag_time-1+T,checkpoints=chk)\n",
    "    #ax.plot(1-y_model[\"S\"][:,lag_time+15]/y_model[\"S\"][:,0],alpha=0.2,color='blue',linewidth=0.1)\n",
    "    ax.plot(1-y_model[\"S\"][:,lag_time+36]/y_model[\"S\"][:,0],alpha=0.2,color='red',linewidth=2)\n",
    "ax.set_xlabel('age group 0 to 80+')\n",
    "ax.set_ylabel(\"fraction 'immune'\" )"
   ]
  },
  {
   "cell_type": "markdown",
   "metadata": {},
   "source": [
    "### Re-estimating beta"
   ]
  },
  {
   "cell_type": "code",
   "execution_count": null,
   "metadata": {},
   "outputs": [],
   "source": [
    "samples_dict.keys()"
   ]
  },
  {
   "cell_type": "code",
   "execution_count": null,
   "metadata": {},
   "outputs": [],
   "source": [
    "T = 62\n",
    "from copy import deepcopy\n",
    "# Create checkpoints dictionary\n",
    "# checkpoints are hardcoded!\n",
    "# Create a dictionary of past policies\n",
    "chk = {'time':   [lag_time,lag_time+50,lag_time+52,lag_time+57,lag_time+64,lag_time+81,lag_time+108], \n",
    "        'Nc':    [prevention*(1.0*Nc_home + (1-0.60)*Nc_work + (1-0.70)*Nc_transport + (1-0.30)*Nc_others + (1-0.80)*Nc_leisure),\n",
    "                  prevention*(1.0*Nc_home + (1-0.50)*Nc_work + (1-0.60)*Nc_transport + (1-0.30)*Nc_others + (1-0.70)*Nc_leisure),\n",
    "                  prevention*(1.0*Nc_home + (1-0.40)*Nc_work + (1-0.55)*Nc_transport + (1-0.25)*Nc_others + (1-0.65)*Nc_leisure),\n",
    "                  prevention*(1.0*Nc_home + (1-0.30)*Nc_work + (1-0.50)*Nc_transport + (1-0.20)*Nc_others + (1-0.60)*Nc_leisure),\n",
    "                  prevention*(1.0*Nc_home + (1-0.30)*Nc_work + (1-0.45)*Nc_transport + (1-0.85)*Nc_schools + (1-0.15)*Nc_others + (1-0.50)*Nc_leisure),\n",
    "                  prevention*(1.0*Nc_home + (1-0.25)*Nc_work + (1-0.35)*Nc_transport + (1-0.35)*Nc_schools + (1-0.10)*Nc_others + (1-0.30)*Nc_leisure),\n",
    "                  prevention*(1.0*Nc_home + (1-0.20)*Nc_work + (1-0.15)*Nc_transport + (1-0.00)*Nc_others + (1-0.00)*Nc_leisure)],\n",
    "        'beta': [np.random.choice(samples_dict['beta'],1,replace=False),\n",
    "                   0.01,\n",
    "                   0.01,\n",
    "                   0.01,\n",
    "                   0.01,\n",
    "                   0.01,\n",
    "                   0.01,]\n",
    "      }\n",
    "\n",
    "\n",
    "# define dataset\n",
    "data=[df_sciensano[\"H_in\"].values[50:]]\n",
    "# Redine lag_time\n",
    "model.extraTime = lag_time+50\n",
    "# define samples_dict without lag_time\n",
    "smpls=deepcopy(samples_dict)\n",
    "del smpls['lag_time']\n",
    "# set optimisation settings\n",
    "parNames = ['sigma_H_in','beta'] # must be a list!\n",
    "states = [[\"H_in\"]]\n",
    "bounds=((1,500),(0.001,0.04)) # must be a list!"
   ]
  },
  {
   "cell_type": "code",
   "execution_count": null,
   "metadata": {},
   "outputs": [],
   "source": [
    "# run optimisation\n",
    "theta = MCMC.fit_pso(model,data,parNames,states,bounds,checkpoints=chk,samples=smpls,maxiter=50,popsize=20)"
   ]
  },
  {
   "cell_type": "code",
   "execution_count": null,
   "metadata": {},
   "outputs": [],
   "source": [
    "parNames = ['sigma_ICU','beta'] # must be a list!\n",
    "bounds=((1,200),(0.0001,0.10))\n",
    "\n",
    "pos = [theta[0],theta[1]] + [1, 1e-2 ]* np.random.randn(8, 2)\n",
    "nwalkers, ndim = pos.shape\n",
    "sampler = emcee.EnsembleSampler(nwalkers, ndim, objective_fcns.log_probability,\n",
    "                                args=(model,bounds,data,states,parNames,chk,smpls))\n",
    "sampler.run_mcmc(pos, 12000, progress=True);"
   ]
  },
  {
   "cell_type": "code",
   "execution_count": null,
   "metadata": {},
   "outputs": [],
   "source": [
    "samples = sampler.get_chain(discard=500,flat=False)\n",
    "flat_samples = sampler.get_chain(discard=500,flat=True)"
   ]
  },
  {
   "cell_type": "code",
   "execution_count": null,
   "metadata": {},
   "outputs": [],
   "source": [
    "sampler.get_autocorr_time()"
   ]
  },
  {
   "cell_type": "code",
   "execution_count": null,
   "metadata": {},
   "outputs": [],
   "source": [
    "mean = np.mean(flat_samples[:,1])\n",
    "p10 = np.percentile(flat_samples[:,1],10)\n",
    "p90 = np.percentile(flat_samples[:,1],90)\n",
    "print(mean,p10,p90)"
   ]
  },
  {
   "cell_type": "code",
   "execution_count": null,
   "metadata": {},
   "outputs": [],
   "source": [
    "traceplot(samples,labels=[\"sigma2_ICU\",\"beta\"],plt_kwargs={'linewidth':2,'color': 'red','alpha': 0.15})"
   ]
  },
  {
   "cell_type": "code",
   "execution_count": null,
   "metadata": {},
   "outputs": [],
   "source": [
    "import corner\n",
    "\n",
    "fig = corner.corner(\n",
    "    flat_samples,labels=['$\\sigma_{data}$','$\\\\beta$']\n",
    ");\n",
    "fig.set_size_inches(8, 8)\n",
    "plt.savefig('corner_beta.pdf', dpi=600, bbox_inches='tight',\n",
    "                    orientation='portrait', papertype='a4')"
   ]
  },
  {
   "cell_type": "code",
   "execution_count": null,
   "metadata": {},
   "outputs": [],
   "source": [
    "# define dataset\n",
    "data=[df_sciensano[\"H_tot\"].values[:],df_sciensano[\"ICU_tot\"].values[:]]\n",
    "states = [[\"H_tot\"],[\"ICU\"]]"
   ]
  },
  {
   "cell_type": "code",
   "execution_count": null,
   "metadata": {},
   "outputs": [],
   "source": [
    "T = 1\n",
    "start_date='15-03-2020'\n",
    "#data=[df_sciensano[\"H_in\"].values[:]]\n",
    "\n",
    "fig,ax=plt.subplots()\n",
    "for i in range(10):\n",
    "    model.parameters['beta'] = np.random.choice(samples_dict['beta'],1,replace=False)\n",
    "    idx,model.parameters['l'] = random.choice(list(enumerate(samples_dict['l'])))\n",
    "    model.parameters['tau'] = samples_dict['tau'][idx]\n",
    "    prevention = samples_dict['prevention'][idx]\n",
    "    # Create a dictionary of past policies\n",
    "    chk = {'time':   [lag_time,lag_time+50,lag_time+52,lag_time+57,lag_time+64,lag_time+81,lag_time+108], \n",
    "            'Nc':    [prevention*(1.0*Nc_home + (1-0.60)*Nc_work + (1-0.70)*Nc_transport + (1-0.30)*Nc_others + (1-0.80)*Nc_leisure),\n",
    "                      prevention*(1.0*Nc_home + (1-0.50)*Nc_work + (1-0.60)*Nc_transport + (1-0.30)*Nc_others + (1-0.70)*Nc_leisure),\n",
    "                      prevention*(1.0*Nc_home + (1-0.40)*Nc_work + (1-0.55)*Nc_transport + (1-0.25)*Nc_others + (1-0.65)*Nc_leisure),\n",
    "                      prevention*(1.0*Nc_home + (1-0.30)*Nc_work + (1-0.50)*Nc_transport + (1-0.20)*Nc_others + (1-0.60)*Nc_leisure),\n",
    "                      prevention*(1.0*Nc_home + (1-0.30)*Nc_work + (1-0.45)*Nc_transport + (1-0.85)*Nc_schools + (1-0.15)*Nc_others + (1-0.50)*Nc_leisure),\n",
    "                      prevention*(1.0*Nc_home + (1-0.25)*Nc_work + (1-0.35)*Nc_transport + (1-0.35)*Nc_schools + (1-0.10)*Nc_others + (1-0.30)*Nc_leisure),\n",
    "                      prevention*(1.0*Nc_home + (1-0.20)*Nc_work + (1-0.15)*Nc_transport + (1-0.00)*Nc_others + (1-0.00)*Nc_leisure)],\n",
    "            'beta': [np.random.choice(samples_dict['beta'],1,replace=False),\n",
    "                       theta[1],\n",
    "                       theta[1],\n",
    "                       theta[1],\n",
    "                       theta[1],\n",
    "                       theta[1],\n",
    "                       theta[1]\n",
    "                    ]\n",
    "          }\n",
    "    y_model = model.sim(data[0].size+lag_time-1+T,checkpoints=chk)\n",
    "    ax = plot_fit(y_model,data,start_date,lag_time,states,T=T,ax=ax,plt_kwargs={'linewidth': 2,'alpha': 0.05})\n",
    "    \n",
    "#plt.scatter(pd.date_range('15-03-2020',freq='D',periods=df_sciensano[\"H_in\"][:50].size),df_sciensano[\"H_in\"][:50], marker='o',color='red',linestyle='None',facecolors='none')\n",
    "legend_text=['daily \\nhospitalizations']\n",
    "leg=ax.legend(legend_text, loc=\"upper left\", bbox_to_anchor=(1,1))\n",
    "plt.savefig('plot_fit_beta.pdf', dpi=600, bbox_inches='tight',orientation='portrait', papertype='a4')"
   ]
  },
  {
   "cell_type": "code",
   "execution_count": null,
   "metadata": {},
   "outputs": [],
   "source": [
    "R_0 = (model.parameters['a']*model.parameters['da']+model.parameters['omega'])*mean*model.parameters['s']*np.sum(Nc_total,axis=1)"
   ]
  },
  {
   "cell_type": "code",
   "execution_count": null,
   "metadata": {},
   "outputs": [],
   "source": [
    "print(R_0,np.mean(R_0))"
   ]
  },
  {
   "cell_type": "code",
   "execution_count": null,
   "metadata": {},
   "outputs": [],
   "source": []
  }
 ],
 "metadata": {
  "kernelspec": {
   "display_name": "Python 3",
   "language": "python",
   "name": "python3"
  },
  "language_info": {
   "codemirror_mode": {
    "name": "ipython",
    "version": 3
   },
   "file_extension": ".py",
   "mimetype": "text/x-python",
   "name": "python",
   "nbconvert_exporter": "python",
   "pygments_lexer": "ipython3",
   "version": "3.8.2"
  },
  "toc": {
   "base_numbering": 1,
   "nav_menu": {},
   "number_sections": true,
   "sideBar": true,
   "skip_h1_title": false,
   "title_cell": "Table of Contents",
   "title_sidebar": "Contents",
   "toc_cell": false,
   "toc_position": {
    "height": "calc(100% - 180px)",
    "left": "10px",
    "top": "150px",
    "width": "288px"
   },
   "toc_section_display": true,
   "toc_window_display": true
  }
 },
 "nbformat": 4,
 "nbformat_minor": 4
}
