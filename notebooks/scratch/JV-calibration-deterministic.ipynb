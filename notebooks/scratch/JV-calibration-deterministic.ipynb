{
 "cells": [
  {
   "cell_type": "markdown",
   "metadata": {},
   "source": [
    "**Calibration of the age-stratified deterministic model**\n",
    "\n",
    "*Original code by Ryan S. McGee. Modified by T.W. Alleman in consultation with the BIOMATH research unit headed by prof. Ingmar Nopens.*\n",
    "\n",
    "Copyright (c) 2020 by T.W. Alleman, BIOMATH, Ghent University. All Rights Reserved.\n",
    "\n",
    "This notebook accompanies our preprint: \"*A deterministic, age-stratified, extended SEIRD model for assessing the effect of non-pharmaceutical interventions on SARS-CoV-2 spread in Belgium*\"(https://doi.org/10.1101/2020.07.17.20156034)"
   ]
  },
  {
   "cell_type": "markdown",
   "metadata": {},
   "source": [
    "# Load required packages"
   ]
  },
  {
   "cell_type": "code",
   "execution_count": 61,
   "metadata": {
    "ExecuteTime": {
     "end_time": "2020-08-12T06:47:48.844162Z",
     "start_time": "2020-08-12T06:47:48.784815Z"
    }
   },
   "outputs": [
    {
     "name": "stdout",
     "output_type": "stream",
     "text": [
      "The autoreload extension is already loaded. To reload it, use:\n",
      "  %reload_ext autoreload\n"
     ]
    }
   ],
   "source": [
    "import random\n",
    "import os\n",
    "import numpy as np\n",
    "%matplotlib notebook\n",
    "import matplotlib.pyplot as plt\n",
    "from IPython.display import Image\n",
    "from ipywidgets import interact,fixed,FloatSlider,IntSlider,ToggleButtons\n",
    "import pandas as pd\n",
    "import datetime\n",
    "import scipy\n",
    "from scipy.integrate import odeint\n",
    "import matplotlib.dates as mdates\n",
    "import matplotlib\n",
    "import scipy.stats as st\n",
    "\n",
    "import math\n",
    "import xarray as xr\n",
    "import emcee\n",
    "import json\n",
    "\n",
    "from covid19model.optimization import objective_fcns\n",
    "from covid19model.optimization import MCMC\n",
    "from covid19model.models import models\n",
    "from covid19model.data import google\n",
    "from covid19model.data import sciensano\n",
    "from covid19model.data import polymod\n",
    "from covid19model.data import parameters\n",
    "from covid19model.visualization.output import population_status, infected\n",
    "from covid19model.visualization.optimization import plot_fit, traceplot\n",
    "\n",
    "# OPTIONAL: Load the \"autoreload\" extension so that package code can change\n",
    "%load_ext autoreload\n",
    "# OPTIONAL: always reload modules so that as you change code in src, it gets loaded\n",
    "%autoreload 2"
   ]
  },
  {
   "cell_type": "code",
   "execution_count": 13,
   "metadata": {
    "ExecuteTime": {
     "end_time": "2020-08-12T06:21:57.891967Z",
     "start_time": "2020-08-12T06:21:57.854794Z"
    }
   },
   "outputs": [],
   "source": [
    "time = '2020-08-01'"
   ]
  },
  {
   "cell_type": "code",
   "execution_count": 5,
   "metadata": {
    "ExecuteTime": {
     "end_time": "2020-08-12T06:18:47.836996Z",
     "start_time": "2020-08-12T06:18:47.799370Z"
    }
   },
   "outputs": [],
   "source": [
    "start_date='2020-03-15'"
   ]
  },
  {
   "cell_type": "code",
   "execution_count": 20,
   "metadata": {
    "ExecuteTime": {
     "end_time": "2020-08-12T06:25:55.555390Z",
     "start_time": "2020-08-12T06:25:55.516026Z"
    }
   },
   "outputs": [],
   "source": [
    "checkpoints = {'time':['2020-04-20','2020-05-14'],\n",
    "        'param': [Nc_home + Nc_work, Nc_home + Nc_schools]}"
   ]
  },
  {
   "cell_type": "code",
   "execution_count": 28,
   "metadata": {
    "ExecuteTime": {
     "end_time": "2020-08-12T06:28:35.675145Z",
     "start_time": "2020-08-12T06:28:35.635811Z"
    }
   },
   "outputs": [],
   "source": [
    "def date_to_diff(start_date, date):\n",
    "    return int((pd.to_datetime(date)-pd.to_datetime(start_date))/pd.to_timedelta('1D'))"
   ]
  },
  {
   "cell_type": "code",
   "execution_count": 29,
   "metadata": {
    "ExecuteTime": {
     "end_time": "2020-08-12T06:28:36.182976Z",
     "start_time": "2020-08-12T06:28:36.137120Z"
    }
   },
   "outputs": [],
   "source": []
  },
  {
   "cell_type": "code",
   "execution_count": 21,
   "metadata": {
    "ExecuteTime": {
     "end_time": "2020-08-12T06:25:57.039806Z",
     "start_time": "2020-08-12T06:25:57.002201Z"
    }
   },
   "outputs": [],
   "source": [
    "time_points = [time[0], *checkpoints[\"time\"], time[1]]"
   ]
  },
  {
   "cell_type": "code",
   "execution_count": 41,
   "metadata": {
    "ExecuteTime": {
     "end_time": "2020-08-12T06:32:50.208741Z",
     "start_time": "2020-08-12T06:32:50.169352Z"
    }
   },
   "outputs": [],
   "source": [
    "for i in range(len(checkpoints[\"time\"])):\n",
    "    if isinstance(checkpoints[\"time\"][i],str):\n",
    "        checkpoints[\"time\"][i] = date_to_diff(start_date, checkpoints[\"time\"][i])"
   ]
  },
  {
   "cell_type": "markdown",
   "metadata": {},
   "source": [
    "# Load data"
   ]
  },
  {
   "cell_type": "code",
   "execution_count": 17,
   "metadata": {
    "ExecuteTime": {
     "end_time": "2020-08-12T06:25:28.054670Z",
     "start_time": "2020-08-12T06:25:27.971049Z"
    }
   },
   "outputs": [],
   "source": [
    "initN, Nc_home, Nc_work, Nc_schools, Nc_transport, Nc_leisure, Nc_others, Nc_total = polymod.get_interaction_matrices()\n",
    "levels = initN.size"
   ]
  },
  {
   "cell_type": "code",
   "execution_count": 43,
   "metadata": {
    "ExecuteTime": {
     "end_time": "2020-08-12T06:34:05.064742Z",
     "start_time": "2020-08-12T06:34:04.489939Z"
    }
   },
   "outputs": [
    {
     "data": {
      "text/html": [
       "<div>\n",
       "<style scoped>\n",
       "    .dataframe tbody tr th:only-of-type {\n",
       "        vertical-align: middle;\n",
       "    }\n",
       "\n",
       "    .dataframe tbody tr th {\n",
       "        vertical-align: top;\n",
       "    }\n",
       "\n",
       "    .dataframe thead th {\n",
       "        text-align: right;\n",
       "    }\n",
       "</style>\n",
       "<table border=\"1\" class=\"dataframe\">\n",
       "  <thead>\n",
       "    <tr style=\"text-align: right;\">\n",
       "      <th></th>\n",
       "      <th>H_tot</th>\n",
       "      <th>ICU_tot</th>\n",
       "      <th>H_in</th>\n",
       "      <th>H_out</th>\n",
       "      <th>H_tot_cumsum</th>\n",
       "      <th>D_tot</th>\n",
       "      <th>D_25_44</th>\n",
       "      <th>D_45_64</th>\n",
       "      <th>D_65_74</th>\n",
       "      <th>D_75_84</th>\n",
       "      <th>D_85+</th>\n",
       "    </tr>\n",
       "    <tr>\n",
       "      <th>DATE</th>\n",
       "      <th></th>\n",
       "      <th></th>\n",
       "      <th></th>\n",
       "      <th></th>\n",
       "      <th></th>\n",
       "      <th></th>\n",
       "      <th></th>\n",
       "      <th></th>\n",
       "      <th></th>\n",
       "      <th></th>\n",
       "      <th></th>\n",
       "    </tr>\n",
       "  </thead>\n",
       "  <tbody>\n",
       "    <tr>\n",
       "      <th>2020-08-06</th>\n",
       "      <td>278</td>\n",
       "      <td>65</td>\n",
       "      <td>28</td>\n",
       "      <td>39</td>\n",
       "      <td>687</td>\n",
       "      <td>2</td>\n",
       "      <td>0.0</td>\n",
       "      <td>0.0</td>\n",
       "      <td>0</td>\n",
       "      <td>1.0</td>\n",
       "      <td>1</td>\n",
       "    </tr>\n",
       "    <tr>\n",
       "      <th>2020-08-07</th>\n",
       "      <td>285</td>\n",
       "      <td>69</td>\n",
       "      <td>27</td>\n",
       "      <td>28</td>\n",
       "      <td>686</td>\n",
       "      <td>4</td>\n",
       "      <td>0.0</td>\n",
       "      <td>0.0</td>\n",
       "      <td>0</td>\n",
       "      <td>1.0</td>\n",
       "      <td>3</td>\n",
       "    </tr>\n",
       "    <tr>\n",
       "      <th>2020-08-08</th>\n",
       "      <td>281</td>\n",
       "      <td>67</td>\n",
       "      <td>31</td>\n",
       "      <td>39</td>\n",
       "      <td>678</td>\n",
       "      <td>2</td>\n",
       "      <td>0.0</td>\n",
       "      <td>0.0</td>\n",
       "      <td>0</td>\n",
       "      <td>2.0</td>\n",
       "      <td>0</td>\n",
       "    </tr>\n",
       "    <tr>\n",
       "      <th>2020-08-09</th>\n",
       "      <td>285</td>\n",
       "      <td>69</td>\n",
       "      <td>20</td>\n",
       "      <td>14</td>\n",
       "      <td>684</td>\n",
       "      <td>4</td>\n",
       "      <td>1.0</td>\n",
       "      <td>0.0</td>\n",
       "      <td>0</td>\n",
       "      <td>1.0</td>\n",
       "      <td>2</td>\n",
       "    </tr>\n",
       "    <tr>\n",
       "      <th>2020-08-10</th>\n",
       "      <td>312</td>\n",
       "      <td>73</td>\n",
       "      <td>33</td>\n",
       "      <td>12</td>\n",
       "      <td>705</td>\n",
       "      <td>3</td>\n",
       "      <td>0.0</td>\n",
       "      <td>1.0</td>\n",
       "      <td>1</td>\n",
       "      <td>0.0</td>\n",
       "      <td>1</td>\n",
       "    </tr>\n",
       "  </tbody>\n",
       "</table>\n",
       "</div>"
      ],
      "text/plain": [
       "            H_tot  ICU_tot  H_in  H_out  H_tot_cumsum  D_tot  D_25_44  \\\n",
       "DATE                                                                    \n",
       "2020-08-06    278       65    28     39           687      2      0.0   \n",
       "2020-08-07    285       69    27     28           686      4      0.0   \n",
       "2020-08-08    281       67    31     39           678      2      0.0   \n",
       "2020-08-09    285       69    20     14           684      4      1.0   \n",
       "2020-08-10    312       73    33     12           705      3      0.0   \n",
       "\n",
       "            D_45_64  D_65_74  D_75_84  D_85+  \n",
       "DATE                                          \n",
       "2020-08-06      0.0        0      1.0      1  \n",
       "2020-08-07      0.0        0      1.0      3  \n",
       "2020-08-08      0.0        0      2.0      0  \n",
       "2020-08-09      0.0        0      1.0      2  \n",
       "2020-08-10      1.0        1      0.0      1  "
      ]
     },
     "execution_count": 43,
     "metadata": {},
     "output_type": "execute_result"
    }
   ],
   "source": [
    "df_sciensano = sciensano.get_sciensano_COVID19_data(update=False)\n",
    "df_sciensano.tail()"
   ]
  },
  {
   "cell_type": "markdown",
   "metadata": {},
   "source": [
    "# Initialize the model"
   ]
  },
  {
   "cell_type": "code",
   "execution_count": 44,
   "metadata": {
    "ExecuteTime": {
     "end_time": "2020-08-12T06:34:07.849698Z",
     "start_time": "2020-08-12T06:34:07.762253Z"
    }
   },
   "outputs": [],
   "source": [
    "# Load the parameters using `get_COVID19_SEIRD_parameters()`.\n",
    "params = parameters.get_COVID19_SEIRD_parameters()\n",
    "# Add the delayed ramp parameters to the parameter dictionary.\n",
    "params.update({'l': 1,\n",
    "              'tau': 5})\n",
    "# Define the initial condition: one exposed inidividual in every age category\n",
    "initial_states = {'S': initN, 'E': np.ones(levels)}\n",
    "# Load the compliance model\n",
    "from covid19model.models.compliance import ramp_2\n",
    "# Initialize the model\n",
    "model = models.COVID19_SEIRD(initial_states, params, compliance=ramp_2)"
   ]
  },
  {
   "cell_type": "markdown",
   "metadata": {},
   "source": [
    "# Policies translated to checkpoints"
   ]
  },
  {
   "cell_type": "markdown",
   "metadata": {},
   "source": [
    "chk_beta_pso = {   \n",
    "    'time':  [lag_time],    \n",
    "    'Nc':    [0.2 *Nc_home + ((1-0.70) *Nc_work + (1-0.80) *Nc_transport)],   \n",
    "}"
   ]
  },
  {
   "cell_type": "markdown",
   "metadata": {
    "ExecuteTime": {
     "end_time": "2020-08-11T13:16:18.653938Z",
     "start_time": "2020-08-11T13:16:18.518835Z"
    }
   },
   "source": [
    "chk_beta_MCMC = {   \n",
    "    'time':  [lag_time],   \n",
    "    'Nc':    [prevention *(1.0 *Nc_home + (1-0.60) *Nc_work + (1-0.70) *Nc_transport +(1-0.30) *Nc_others + (1-0.80) *Nc_leisure)],   \n",
    "}"
   ]
  },
  {
   "cell_type": "markdown",
   "metadata": {},
   "source": [
    "chk_beta_MCMC also used for final plot"
   ]
  },
  {
   "cell_type": "markdown",
   "metadata": {},
   "source": [
    "**Vragen @Tijs**:\n",
    "- op lag_time dagen, betekent hier dus op 15 maart? (mij zou het veel logischer zijn moest hier een datum staan...\n",
    "- waarom verschillende Nc op dezelfde dag ingesteld voor de twee calibraties?\n",
    "- waarschijnlijk moet ik naar tabel 3 kijken van paper? Maar komt er niet mee overeen \n",
    "    - bvb 0.2 *Nc_home?\n",
    "    - waarom enkel home, work en transport matrices voor pso?\n",
    "    - bvb in tabel staan parameters ingesteld op 17 maart, hierboven zet je checkpoint op 15 maart?\n",
    "    - checkpoint hierboven komt ook niet overeen met vgl 17 van de paper\n",
    "    - 0.65 Nc-others komt er niet in voor?\n",
    "  "
   ]
  },
  {
   "cell_type": "markdown",
   "metadata": {},
   "source": [
    "# Calibrating $\\beta$ and lag_time\n",
    "\n",
    "**Skip this section when parameters were previously calibrated**\n",
    "\n",
    "Use the function `fit_pso` to obtain a good starting estimate for the MCMC sampler."
   ]
  },
  {
   "cell_type": "markdown",
   "metadata": {},
   "source": [
    "JV: \n",
    "- **lag_time = excess time?**\n",
    "- sigma_H_in = variance on the data (**waarom moet dit geschat worden?**)"
   ]
  },
  {
   "cell_type": "code",
   "execution_count": 46,
   "metadata": {
    "ExecuteTime": {
     "end_time": "2020-08-12T06:34:24.456194Z",
     "start_time": "2020-08-12T06:34:24.416670Z"
    }
   },
   "outputs": [],
   "source": [
    "start_date = '2020-03-15'"
   ]
  },
  {
   "cell_type": "markdown",
   "metadata": {},
   "source": [
    "## Initial guess with PSO"
   ]
  },
  {
   "cell_type": "code",
   "execution_count": 47,
   "metadata": {
    "ExecuteTime": {
     "end_time": "2020-08-12T06:34:26.071700Z",
     "start_time": "2020-08-12T06:34:26.029700Z"
    }
   },
   "outputs": [],
   "source": [
    "# define dataset\n",
    "data=[df_sciensano[\"H_in\"].values[:8]]\n",
    "begin_beta = df_sciensano[:8].index.min()\n",
    "end_beta = df_sciensano[:8].index.max()\n",
    "# set optimisation settings\n",
    "parNames = ['sigma_H_in','extraTime','beta'] # must be a list!\n",
    "states = [[\"H_in\"]]\n",
    "bounds=((1,100),(30,60),(0.02,0.06)) # must be a list!\n",
    "# run optimisation\n",
    "#theta = MCMC.fit_pso(model,data,parNames,states,bounds,maxiter=50,popsize=50)"
   ]
  },
  {
   "cell_type": "code",
   "execution_count": null,
   "metadata": {
    "ExecuteTime": {
     "end_time": "2020-08-12T06:34:28.941905Z",
     "start_time": "2020-08-12T06:34:28.882102Z"
    }
   },
   "outputs": [],
   "source": [
    "lag_time = int(round(theta[1]))\n",
    "# Assign 'extraTime' or lag_time as a model attribute --> is needed to perform the optimalization\n",
    "model.extraTime = int(round(theta[1]))\n",
    "\n",
    "model.parameters.update({\n",
    "    'beta': theta[2],\n",
    "}\n",
    ")"
   ]
  },
  {
   "cell_type": "markdown",
   "metadata": {},
   "source": [
    "## MCMC calibration"
   ]
  },
  {
   "cell_type": "code",
   "execution_count": null,
   "metadata": {},
   "outputs": [],
   "source": [
    "parNames = ['sigma_ICU','beta'] # must be a list!\n",
    "bounds=((1,200),(0.01,0.10))\n",
    "\n",
    "pos = [theta[0],theta[2]] + [1, 1e-2 ]* np.random.randn(4, 2)\n",
    "nwalkers, ndim = pos.shape\n",
    "sampler = emcee.EnsembleSampler(nwalkers, ndim, objective_fcns.log_probability,\n",
    "                                args=(model,bounds,data,states,parNames))\n",
    "sampler.run_mcmc(pos, 10000, progress=True);"
   ]
  },
  {
   "cell_type": "code",
   "execution_count": null,
   "metadata": {},
   "outputs": [],
   "source": [
    "samples = sampler.get_chain(discard=100,flat=False)\n",
    "flat_samples = sampler.get_chain(discard=100,flat=True)"
   ]
  },
  {
   "cell_type": "code",
   "execution_count": null,
   "metadata": {
    "scrolled": true
   },
   "outputs": [],
   "source": [
    "sampler.get_autocorr_time()"
   ]
  },
  {
   "cell_type": "code",
   "execution_count": null,
   "metadata": {},
   "outputs": [],
   "source": [
    "mean = np.mean(flat_samples[:,1])\n",
    "p10 = np.percentile(flat_samples[:,1],10)\n",
    "p90 = np.percentile(flat_samples[:,1],90)\n",
    "print(mean,p10,p90)"
   ]
  },
  {
   "cell_type": "markdown",
   "metadata": {},
   "source": [
    "Initialize a dictionary of samples and write them to `parameters.json`"
   ]
  },
  {
   "cell_type": "code",
   "execution_count": null,
   "metadata": {},
   "outputs": [],
   "source": [
    "samples_dict={'lag_time': int(round(theta[1])), 'beta': flat_samples[:,1].tolist(), \n",
    "              'begin_beta':str(begin_beta.date()), 'end_beta':str(end_beta.date()),\n",
    "              'calibration_data':'H_in'}"
   ]
  },
  {
   "cell_type": "code",
   "execution_count": null,
   "metadata": {
    "ExecuteTime": {
     "end_time": "2020-08-11T13:58:35.801226Z",
     "start_time": "2020-08-11T13:58:35.273645Z"
    }
   },
   "outputs": [],
   "source": [
    "import json\n",
    "\n",
    "with open('../../data/interim/model_parameters/deterministic_'+str(datetime.date.today())+'.json', 'w') as fp:\n",
    "    json.dump(samples_dict, fp)"
   ]
  },
  {
   "cell_type": "markdown",
   "metadata": {},
   "source": [
    "Make some diagnostic visualisations"
   ]
  },
  {
   "cell_type": "code",
   "execution_count": null,
   "metadata": {},
   "outputs": [],
   "source": [
    "traceplot(samples,labels=[\"sigma2_ICU\",\"beta\"],plt_kwargs={'linewidth':2,'color': 'red','alpha': 0.15})"
   ]
  },
  {
   "cell_type": "code",
   "execution_count": null,
   "metadata": {},
   "outputs": [],
   "source": [
    "import corner\n",
    "\n",
    "fig = corner.corner(\n",
    "    flat_samples,labels=['$\\sigma_{data}$','$\\\\beta$']\n",
    ");\n",
    "fig.set_size_inches(8, 8)\n",
    "plt.savefig('corner_beta.pdf', dpi=600, bbox_inches='tight',\n",
    "                    orientation='portrait', papertype='a4')"
   ]
  },
  {
   "cell_type": "code",
   "execution_count": null,
   "metadata": {},
   "outputs": [],
   "source": [
    "T = 9\n",
    "fig,ax=plt.subplots()\n",
    "\n",
    "for i in range(100):\n",
    "    model.parameters['beta'] = np.random.choice(samples_dict['beta'],1,replace=False)\n",
    "    y_model = model.sim(data[0].size+lag_time-1+T)\n",
    "    ax = plot_fit(y_model,data,start_date,lag_time,states,T=T,ax=ax,plt_kwargs={'color':'blue','linewidth': 2,'alpha': 0.05})\n",
    "\n",
    "plt.scatter(pd.date_range('15-03-2020',freq='D',periods=df_sciensano[\"H_in\"][8:18].size)+datetime.timedelta(days=data[0].size),df_sciensano[\"H_in\"][8:18], marker='o',color='red',linestyle='None',facecolors='none')\n",
    "#legend_text=['daily \\nhospitalizations']\n",
    "#leg=ax.legend(legend_text, loc=\"upper left\", bbox_to_anchor=(1,1))\n",
    "plt.savefig('plot_fit_beta.pdf', dpi=600, bbox_inches='tight',orientation='portrait', papertype='a4')"
   ]
  },
  {
   "cell_type": "markdown",
   "metadata": {},
   "source": [
    "# Calibrating the compliance ramp parameters"
   ]
  },
  {
   "cell_type": "markdown",
   "metadata": {},
   "source": [
    "## Loading $\\beta$ and lag_time\n",
    "\n",
    "Load the previously calibrated parameters."
   ]
  },
  {
   "cell_type": "code",
   "execution_count": 49,
   "metadata": {
    "ExecuteTime": {
     "end_time": "2020-08-12T06:34:49.680775Z",
     "start_time": "2020-08-12T06:34:49.505904Z"
    }
   },
   "outputs": [],
   "source": [
    "import json\n",
    "with open('../../data/interim/model_parameters/deterministic_2020-08-11.json', 'r') as fp:\n",
    "    samples_dict = json.load(fp)\n",
    "\n",
    "lag_time = samples_dict['lag_time']\n",
    "model.extraTime = samples_dict['lag_time']\n",
    "model.parameters['beta'] = np.mean(samples_dict['beta'])"
   ]
  },
  {
   "cell_type": "code",
   "execution_count": 51,
   "metadata": {
    "ExecuteTime": {
     "end_time": "2020-08-12T06:35:01.061294Z",
     "start_time": "2020-08-12T06:35:01.001133Z"
    }
   },
   "outputs": [
    {
     "data": {
      "text/plain": [
       "dict_keys(['lag_time', 'beta', 'l', 'tau', 'prevention', 'begin_beta', 'end_beta', 'end_ramp', 'calibration_data'])"
      ]
     },
     "execution_count": 51,
     "metadata": {},
     "output_type": "execute_result"
    }
   ],
   "source": [
    "samples_dict.keys()"
   ]
  },
  {
   "cell_type": "code",
   "execution_count": null,
   "metadata": {
    "ExecuteTime": {
     "end_time": "2020-08-11T11:30:22.250363Z",
     "start_time": "2020-08-11T11:30:22.209452Z"
    }
   },
   "outputs": [],
   "source": [
    "samples_beta = {'beta': samples_dict['beta']}"
   ]
  },
  {
   "cell_type": "markdown",
   "metadata": {},
   "source": [
    "## Initial guess with PSO"
   ]
  },
  {
   "cell_type": "code",
   "execution_count": null,
   "metadata": {
    "ExecuteTime": {
     "end_time": "2020-08-11T13:56:40.533571Z",
     "start_time": "2020-08-11T13:56:40.488305Z"
    }
   },
   "outputs": [],
   "source": [
    "# Create checkpoints dictionary\n",
    "chk_beta_pso = {\n",
    "    'time':  [lag_time], \n",
    "    'Nc':    [0.2*Nc_home + ((1-0.70)*Nc_work + (1-0.80)*Nc_transport)],\n",
    "}\n",
    "# define dataset\n",
    "data=[df_sciensano[\"H_in\"].values[:37]]\n",
    "end_ramp = df_sciensano[:37].index.max()\n",
    "# set optimisation settings\n",
    "parNames = ['sigma_H_in','l','tau','prevention'] # must be a list!\n",
    "states = [[\"H_in\"]]\n",
    "bounds=((1,100),(0.1,20),(0,20),(0,1)) # must be a list!\n",
    "# run optimisation\n",
    "#theta = MCMC.fit_pso(model,data,parNames,states,bounds,checkpoints=chk_beta_pso,samples=samples_beta,maxiter=200,popsize=100)"
   ]
  },
  {
   "cell_type": "code",
   "execution_count": null,
   "metadata": {},
   "outputs": [],
   "source": [
    "model.parameters.update({\n",
    "    'l': theta[1],\n",
    "    'tau': theta[2]\n",
    "\n",
    "}\n",
    ")\n",
    "prevention = theta[2]\n",
    "# Create checkpoints dictionary\n",
    "chk_beta_MCMC = {\n",
    "    'time':  [lag_time], \n",
    "    'Nc':    [prevention*(1.0*Nc_home + (1-0.60)*Nc_work + (1-0.70)*Nc_transport + (1-0.30)*Nc_others\n",
    "                          + (1-0.80)*Nc_leisure)],\n",
    "}"
   ]
  },
  {
   "cell_type": "markdown",
   "metadata": {},
   "source": [
    "## MCMC calibration"
   ]
  },
  {
   "cell_type": "code",
   "execution_count": null,
   "metadata": {},
   "outputs": [],
   "source": [
    "bounds=((1,100),(0.001,20),(0,20),(0,1)) # must be a list!\n",
    "pos = theta + [1, 0.1, 0.1, 0.1 ]* np.random.randn(8, 4)\n",
    "nwalkers, ndim = pos.shape\n",
    "sampler = emcee.EnsembleSampler(nwalkers, ndim, objective_fcns.log_probability,\n",
    "                                args=(model,bounds,data,states,parNames,chk_beta_MCMC,samples_beta))\n",
    "sampler.run_mcmc(pos, 10000, progress=True);"
   ]
  },
  {
   "cell_type": "code",
   "execution_count": null,
   "metadata": {},
   "outputs": [],
   "source": [
    "sampler.get_autocorr_time()"
   ]
  },
  {
   "cell_type": "code",
   "execution_count": null,
   "metadata": {},
   "outputs": [],
   "source": [
    "samples = sampler.get_chain(discard=200,flat=False)\n",
    "flat_samples = sampler.get_chain(discard=200,flat=True)"
   ]
  },
  {
   "cell_type": "code",
   "execution_count": null,
   "metadata": {},
   "outputs": [],
   "source": [
    "samples_dict.update({'l': flat_samples[:,1].tolist(),'tau':flat_samples[:,2].tolist(),'prevention':flat_samples[:,3].tolist()}, 'end_ramp':str(end_ramp.date()))"
   ]
  },
  {
   "cell_type": "code",
   "execution_count": null,
   "metadata": {
    "ExecuteTime": {
     "end_time": "2020-08-11T07:26:15.983339Z",
     "start_time": "2020-08-11T07:26:15.397668Z"
    }
   },
   "outputs": [],
   "source": [
    "import json\n",
    "\n",
    "with open('../../data/interim/model_parameters/deterministic_'+str(datetime.date.today())+'.json', 'w') as fp:\n",
    "    json.dump(samples_dict, fp)"
   ]
  },
  {
   "cell_type": "code",
   "execution_count": null,
   "metadata": {},
   "outputs": [],
   "source": [
    "mean = np.mean(flat_samples[:,3])\n",
    "p10 = np.percentile(flat_samples[:,3],10)\n",
    "p90 = np.percentile(flat_samples[:,3],90)\n",
    "print(mean,p10,p90)"
   ]
  },
  {
   "cell_type": "code",
   "execution_count": null,
   "metadata": {},
   "outputs": [],
   "source": [
    "traceplot(samples=sampler.get_chain(discard=200),labels=[\"sigma_data\",\"l\",\"tau\",\"prevention\"],plt_kwargs={'linewidth':2,'color': 'red','alpha': 0.15})"
   ]
  },
  {
   "cell_type": "code",
   "execution_count": null,
   "metadata": {},
   "outputs": [],
   "source": [
    "import corner\n",
    "\n",
    "fig = corner.corner(\n",
    "    flat_samples, labels=[\"$\\sigma_{data}$\",\"l\",\"$\\\\tau$\",\"$\\Omega$\"],\n",
    ");\n",
    "fig.set_size_inches(9, 9)\n",
    "plt.savefig('corner_compliance_delayed_ramp.pdf', dpi=600, bbox_inches='tight',\n",
    "                    orientation='portrait', papertype='a4')"
   ]
  },
  {
   "cell_type": "code",
   "execution_count": null,
   "metadata": {},
   "outputs": [],
   "source": [
    "fig,ax=plt.subplots()\n",
    "t = np.linspace(0,20,400)\n",
    "for i in range(1000):\n",
    "    idx,l= random.choice(list(enumerate(flat_samples[:,1])))\n",
    "    tau = samples_dict['tau'][idx]\n",
    "    y=[]\n",
    "    for j in range(len(t)):\n",
    "        y.append(100*ramp_2(t[j],0,1,l,tau))\n",
    "    ax.plot(t,y,color='blue',linewidth=0.1,alpha=0.05)\n",
    "ax.set_xlabel('days since policy change')\n",
    "ax.set_ylabel('social compliance (%)')\n",
    "plt.savefig('compliance_delayed_ramp.pdf', dpi=600, bbox_inches='tight',orientation='portrait', papertype='a4')"
   ]
  },
  {
   "cell_type": "markdown",
   "metadata": {},
   "source": [
    "## Result"
   ]
  },
  {
   "cell_type": "code",
   "execution_count": 66,
   "metadata": {
    "ExecuteTime": {
     "end_time": "2020-08-12T07:47:45.556583Z",
     "start_time": "2020-08-12T07:47:44.550267Z"
    }
   },
   "outputs": [
    {
     "data": {
      "application/javascript": [
       "/* Put everything inside the global mpl namespace */\n",
       "window.mpl = {};\n",
       "\n",
       "\n",
       "mpl.get_websocket_type = function() {\n",
       "    if (typeof(WebSocket) !== 'undefined') {\n",
       "        return WebSocket;\n",
       "    } else if (typeof(MozWebSocket) !== 'undefined') {\n",
       "        return MozWebSocket;\n",
       "    } else {\n",
       "        alert('Your browser does not have WebSocket support. ' +\n",
       "              'Please try Chrome, Safari or Firefox ≥ 6. ' +\n",
       "              'Firefox 4 and 5 are also supported but you ' +\n",
       "              'have to enable WebSockets in about:config.');\n",
       "    };\n",
       "}\n",
       "\n",
       "mpl.figure = function(figure_id, websocket, ondownload, parent_element) {\n",
       "    this.id = figure_id;\n",
       "\n",
       "    this.ws = websocket;\n",
       "\n",
       "    this.supports_binary = (this.ws.binaryType != undefined);\n",
       "\n",
       "    if (!this.supports_binary) {\n",
       "        var warnings = document.getElementById(\"mpl-warnings\");\n",
       "        if (warnings) {\n",
       "            warnings.style.display = 'block';\n",
       "            warnings.textContent = (\n",
       "                \"This browser does not support binary websocket messages. \" +\n",
       "                    \"Performance may be slow.\");\n",
       "        }\n",
       "    }\n",
       "\n",
       "    this.imageObj = new Image();\n",
       "\n",
       "    this.context = undefined;\n",
       "    this.message = undefined;\n",
       "    this.canvas = undefined;\n",
       "    this.rubberband_canvas = undefined;\n",
       "    this.rubberband_context = undefined;\n",
       "    this.format_dropdown = undefined;\n",
       "\n",
       "    this.image_mode = 'full';\n",
       "\n",
       "    this.root = $('<div/>');\n",
       "    this._root_extra_style(this.root)\n",
       "    this.root.attr('style', 'display: inline-block');\n",
       "\n",
       "    $(parent_element).append(this.root);\n",
       "\n",
       "    this._init_header(this);\n",
       "    this._init_canvas(this);\n",
       "    this._init_toolbar(this);\n",
       "\n",
       "    var fig = this;\n",
       "\n",
       "    this.waiting = false;\n",
       "\n",
       "    this.ws.onopen =  function () {\n",
       "            fig.send_message(\"supports_binary\", {value: fig.supports_binary});\n",
       "            fig.send_message(\"send_image_mode\", {});\n",
       "            if (mpl.ratio != 1) {\n",
       "                fig.send_message(\"set_dpi_ratio\", {'dpi_ratio': mpl.ratio});\n",
       "            }\n",
       "            fig.send_message(\"refresh\", {});\n",
       "        }\n",
       "\n",
       "    this.imageObj.onload = function() {\n",
       "            if (fig.image_mode == 'full') {\n",
       "                // Full images could contain transparency (where diff images\n",
       "                // almost always do), so we need to clear the canvas so that\n",
       "                // there is no ghosting.\n",
       "                fig.context.clearRect(0, 0, fig.canvas.width, fig.canvas.height);\n",
       "            }\n",
       "            fig.context.drawImage(fig.imageObj, 0, 0);\n",
       "        };\n",
       "\n",
       "    this.imageObj.onunload = function() {\n",
       "        fig.ws.close();\n",
       "    }\n",
       "\n",
       "    this.ws.onmessage = this._make_on_message_function(this);\n",
       "\n",
       "    this.ondownload = ondownload;\n",
       "}\n",
       "\n",
       "mpl.figure.prototype._init_header = function() {\n",
       "    var titlebar = $(\n",
       "        '<div class=\"ui-dialog-titlebar ui-widget-header ui-corner-all ' +\n",
       "        'ui-helper-clearfix\"/>');\n",
       "    var titletext = $(\n",
       "        '<div class=\"ui-dialog-title\" style=\"width: 100%; ' +\n",
       "        'text-align: center; padding: 3px;\"/>');\n",
       "    titlebar.append(titletext)\n",
       "    this.root.append(titlebar);\n",
       "    this.header = titletext[0];\n",
       "}\n",
       "\n",
       "\n",
       "\n",
       "mpl.figure.prototype._canvas_extra_style = function(canvas_div) {\n",
       "\n",
       "}\n",
       "\n",
       "\n",
       "mpl.figure.prototype._root_extra_style = function(canvas_div) {\n",
       "\n",
       "}\n",
       "\n",
       "mpl.figure.prototype._init_canvas = function() {\n",
       "    var fig = this;\n",
       "\n",
       "    var canvas_div = $('<div/>');\n",
       "\n",
       "    canvas_div.attr('style', 'position: relative; clear: both; outline: 0');\n",
       "\n",
       "    function canvas_keyboard_event(event) {\n",
       "        return fig.key_event(event, event['data']);\n",
       "    }\n",
       "\n",
       "    canvas_div.keydown('key_press', canvas_keyboard_event);\n",
       "    canvas_div.keyup('key_release', canvas_keyboard_event);\n",
       "    this.canvas_div = canvas_div\n",
       "    this._canvas_extra_style(canvas_div)\n",
       "    this.root.append(canvas_div);\n",
       "\n",
       "    var canvas = $('<canvas/>');\n",
       "    canvas.addClass('mpl-canvas');\n",
       "    canvas.attr('style', \"left: 0; top: 0; z-index: 0; outline: 0\")\n",
       "\n",
       "    this.canvas = canvas[0];\n",
       "    this.context = canvas[0].getContext(\"2d\");\n",
       "\n",
       "    var backingStore = this.context.backingStorePixelRatio ||\n",
       "\tthis.context.webkitBackingStorePixelRatio ||\n",
       "\tthis.context.mozBackingStorePixelRatio ||\n",
       "\tthis.context.msBackingStorePixelRatio ||\n",
       "\tthis.context.oBackingStorePixelRatio ||\n",
       "\tthis.context.backingStorePixelRatio || 1;\n",
       "\n",
       "    mpl.ratio = (window.devicePixelRatio || 1) / backingStore;\n",
       "\n",
       "    var rubberband = $('<canvas/>');\n",
       "    rubberband.attr('style', \"position: absolute; left: 0; top: 0; z-index: 1;\")\n",
       "\n",
       "    var pass_mouse_events = true;\n",
       "\n",
       "    canvas_div.resizable({\n",
       "        start: function(event, ui) {\n",
       "            pass_mouse_events = false;\n",
       "        },\n",
       "        resize: function(event, ui) {\n",
       "            fig.request_resize(ui.size.width, ui.size.height);\n",
       "        },\n",
       "        stop: function(event, ui) {\n",
       "            pass_mouse_events = true;\n",
       "            fig.request_resize(ui.size.width, ui.size.height);\n",
       "        },\n",
       "    });\n",
       "\n",
       "    function mouse_event_fn(event) {\n",
       "        if (pass_mouse_events)\n",
       "            return fig.mouse_event(event, event['data']);\n",
       "    }\n",
       "\n",
       "    rubberband.mousedown('button_press', mouse_event_fn);\n",
       "    rubberband.mouseup('button_release', mouse_event_fn);\n",
       "    // Throttle sequential mouse events to 1 every 20ms.\n",
       "    rubberband.mousemove('motion_notify', mouse_event_fn);\n",
       "\n",
       "    rubberband.mouseenter('figure_enter', mouse_event_fn);\n",
       "    rubberband.mouseleave('figure_leave', mouse_event_fn);\n",
       "\n",
       "    canvas_div.on(\"wheel\", function (event) {\n",
       "        event = event.originalEvent;\n",
       "        event['data'] = 'scroll'\n",
       "        if (event.deltaY < 0) {\n",
       "            event.step = 1;\n",
       "        } else {\n",
       "            event.step = -1;\n",
       "        }\n",
       "        mouse_event_fn(event);\n",
       "    });\n",
       "\n",
       "    canvas_div.append(canvas);\n",
       "    canvas_div.append(rubberband);\n",
       "\n",
       "    this.rubberband = rubberband;\n",
       "    this.rubberband_canvas = rubberband[0];\n",
       "    this.rubberband_context = rubberband[0].getContext(\"2d\");\n",
       "    this.rubberband_context.strokeStyle = \"#000000\";\n",
       "\n",
       "    this._resize_canvas = function(width, height) {\n",
       "        // Keep the size of the canvas, canvas container, and rubber band\n",
       "        // canvas in synch.\n",
       "        canvas_div.css('width', width)\n",
       "        canvas_div.css('height', height)\n",
       "\n",
       "        canvas.attr('width', width * mpl.ratio);\n",
       "        canvas.attr('height', height * mpl.ratio);\n",
       "        canvas.attr('style', 'width: ' + width + 'px; height: ' + height + 'px;');\n",
       "\n",
       "        rubberband.attr('width', width);\n",
       "        rubberband.attr('height', height);\n",
       "    }\n",
       "\n",
       "    // Set the figure to an initial 600x600px, this will subsequently be updated\n",
       "    // upon first draw.\n",
       "    this._resize_canvas(600, 600);\n",
       "\n",
       "    // Disable right mouse context menu.\n",
       "    $(this.rubberband_canvas).bind(\"contextmenu\",function(e){\n",
       "        return false;\n",
       "    });\n",
       "\n",
       "    function set_focus () {\n",
       "        canvas.focus();\n",
       "        canvas_div.focus();\n",
       "    }\n",
       "\n",
       "    window.setTimeout(set_focus, 100);\n",
       "}\n",
       "\n",
       "mpl.figure.prototype._init_toolbar = function() {\n",
       "    var fig = this;\n",
       "\n",
       "    var nav_element = $('<div/>');\n",
       "    nav_element.attr('style', 'width: 100%');\n",
       "    this.root.append(nav_element);\n",
       "\n",
       "    // Define a callback function for later on.\n",
       "    function toolbar_event(event) {\n",
       "        return fig.toolbar_button_onclick(event['data']);\n",
       "    }\n",
       "    function toolbar_mouse_event(event) {\n",
       "        return fig.toolbar_button_onmouseover(event['data']);\n",
       "    }\n",
       "\n",
       "    for(var toolbar_ind in mpl.toolbar_items) {\n",
       "        var name = mpl.toolbar_items[toolbar_ind][0];\n",
       "        var tooltip = mpl.toolbar_items[toolbar_ind][1];\n",
       "        var image = mpl.toolbar_items[toolbar_ind][2];\n",
       "        var method_name = mpl.toolbar_items[toolbar_ind][3];\n",
       "\n",
       "        if (!name) {\n",
       "            // put a spacer in here.\n",
       "            continue;\n",
       "        }\n",
       "        var button = $('<button/>');\n",
       "        button.addClass('ui-button ui-widget ui-state-default ui-corner-all ' +\n",
       "                        'ui-button-icon-only');\n",
       "        button.attr('role', 'button');\n",
       "        button.attr('aria-disabled', 'false');\n",
       "        button.click(method_name, toolbar_event);\n",
       "        button.mouseover(tooltip, toolbar_mouse_event);\n",
       "\n",
       "        var icon_img = $('<span/>');\n",
       "        icon_img.addClass('ui-button-icon-primary ui-icon');\n",
       "        icon_img.addClass(image);\n",
       "        icon_img.addClass('ui-corner-all');\n",
       "\n",
       "        var tooltip_span = $('<span/>');\n",
       "        tooltip_span.addClass('ui-button-text');\n",
       "        tooltip_span.html(tooltip);\n",
       "\n",
       "        button.append(icon_img);\n",
       "        button.append(tooltip_span);\n",
       "\n",
       "        nav_element.append(button);\n",
       "    }\n",
       "\n",
       "    var fmt_picker_span = $('<span/>');\n",
       "\n",
       "    var fmt_picker = $('<select/>');\n",
       "    fmt_picker.addClass('mpl-toolbar-option ui-widget ui-widget-content');\n",
       "    fmt_picker_span.append(fmt_picker);\n",
       "    nav_element.append(fmt_picker_span);\n",
       "    this.format_dropdown = fmt_picker[0];\n",
       "\n",
       "    for (var ind in mpl.extensions) {\n",
       "        var fmt = mpl.extensions[ind];\n",
       "        var option = $(\n",
       "            '<option/>', {selected: fmt === mpl.default_extension}).html(fmt);\n",
       "        fmt_picker.append(option);\n",
       "    }\n",
       "\n",
       "    // Add hover states to the ui-buttons\n",
       "    $( \".ui-button\" ).hover(\n",
       "        function() { $(this).addClass(\"ui-state-hover\");},\n",
       "        function() { $(this).removeClass(\"ui-state-hover\");}\n",
       "    );\n",
       "\n",
       "    var status_bar = $('<span class=\"mpl-message\"/>');\n",
       "    nav_element.append(status_bar);\n",
       "    this.message = status_bar[0];\n",
       "}\n",
       "\n",
       "mpl.figure.prototype.request_resize = function(x_pixels, y_pixels) {\n",
       "    // Request matplotlib to resize the figure. Matplotlib will then trigger a resize in the client,\n",
       "    // which will in turn request a refresh of the image.\n",
       "    this.send_message('resize', {'width': x_pixels, 'height': y_pixels});\n",
       "}\n",
       "\n",
       "mpl.figure.prototype.send_message = function(type, properties) {\n",
       "    properties['type'] = type;\n",
       "    properties['figure_id'] = this.id;\n",
       "    this.ws.send(JSON.stringify(properties));\n",
       "}\n",
       "\n",
       "mpl.figure.prototype.send_draw_message = function() {\n",
       "    if (!this.waiting) {\n",
       "        this.waiting = true;\n",
       "        this.ws.send(JSON.stringify({type: \"draw\", figure_id: this.id}));\n",
       "    }\n",
       "}\n",
       "\n",
       "\n",
       "mpl.figure.prototype.handle_save = function(fig, msg) {\n",
       "    var format_dropdown = fig.format_dropdown;\n",
       "    var format = format_dropdown.options[format_dropdown.selectedIndex].value;\n",
       "    fig.ondownload(fig, format);\n",
       "}\n",
       "\n",
       "\n",
       "mpl.figure.prototype.handle_resize = function(fig, msg) {\n",
       "    var size = msg['size'];\n",
       "    if (size[0] != fig.canvas.width || size[1] != fig.canvas.height) {\n",
       "        fig._resize_canvas(size[0], size[1]);\n",
       "        fig.send_message(\"refresh\", {});\n",
       "    };\n",
       "}\n",
       "\n",
       "mpl.figure.prototype.handle_rubberband = function(fig, msg) {\n",
       "    var x0 = msg['x0'] / mpl.ratio;\n",
       "    var y0 = (fig.canvas.height - msg['y0']) / mpl.ratio;\n",
       "    var x1 = msg['x1'] / mpl.ratio;\n",
       "    var y1 = (fig.canvas.height - msg['y1']) / mpl.ratio;\n",
       "    x0 = Math.floor(x0) + 0.5;\n",
       "    y0 = Math.floor(y0) + 0.5;\n",
       "    x1 = Math.floor(x1) + 0.5;\n",
       "    y1 = Math.floor(y1) + 0.5;\n",
       "    var min_x = Math.min(x0, x1);\n",
       "    var min_y = Math.min(y0, y1);\n",
       "    var width = Math.abs(x1 - x0);\n",
       "    var height = Math.abs(y1 - y0);\n",
       "\n",
       "    fig.rubberband_context.clearRect(\n",
       "        0, 0, fig.canvas.width / mpl.ratio, fig.canvas.height / mpl.ratio);\n",
       "\n",
       "    fig.rubberband_context.strokeRect(min_x, min_y, width, height);\n",
       "}\n",
       "\n",
       "mpl.figure.prototype.handle_figure_label = function(fig, msg) {\n",
       "    // Updates the figure title.\n",
       "    fig.header.textContent = msg['label'];\n",
       "}\n",
       "\n",
       "mpl.figure.prototype.handle_cursor = function(fig, msg) {\n",
       "    var cursor = msg['cursor'];\n",
       "    switch(cursor)\n",
       "    {\n",
       "    case 0:\n",
       "        cursor = 'pointer';\n",
       "        break;\n",
       "    case 1:\n",
       "        cursor = 'default';\n",
       "        break;\n",
       "    case 2:\n",
       "        cursor = 'crosshair';\n",
       "        break;\n",
       "    case 3:\n",
       "        cursor = 'move';\n",
       "        break;\n",
       "    }\n",
       "    fig.rubberband_canvas.style.cursor = cursor;\n",
       "}\n",
       "\n",
       "mpl.figure.prototype.handle_message = function(fig, msg) {\n",
       "    fig.message.textContent = msg['message'];\n",
       "}\n",
       "\n",
       "mpl.figure.prototype.handle_draw = function(fig, msg) {\n",
       "    // Request the server to send over a new figure.\n",
       "    fig.send_draw_message();\n",
       "}\n",
       "\n",
       "mpl.figure.prototype.handle_image_mode = function(fig, msg) {\n",
       "    fig.image_mode = msg['mode'];\n",
       "}\n",
       "\n",
       "mpl.figure.prototype.updated_canvas_event = function() {\n",
       "    // Called whenever the canvas gets updated.\n",
       "    this.send_message(\"ack\", {});\n",
       "}\n",
       "\n",
       "// A function to construct a web socket function for onmessage handling.\n",
       "// Called in the figure constructor.\n",
       "mpl.figure.prototype._make_on_message_function = function(fig) {\n",
       "    return function socket_on_message(evt) {\n",
       "        if (evt.data instanceof Blob) {\n",
       "            /* FIXME: We get \"Resource interpreted as Image but\n",
       "             * transferred with MIME type text/plain:\" errors on\n",
       "             * Chrome.  But how to set the MIME type?  It doesn't seem\n",
       "             * to be part of the websocket stream */\n",
       "            evt.data.type = \"image/png\";\n",
       "\n",
       "            /* Free the memory for the previous frames */\n",
       "            if (fig.imageObj.src) {\n",
       "                (window.URL || window.webkitURL).revokeObjectURL(\n",
       "                    fig.imageObj.src);\n",
       "            }\n",
       "\n",
       "            fig.imageObj.src = (window.URL || window.webkitURL).createObjectURL(\n",
       "                evt.data);\n",
       "            fig.updated_canvas_event();\n",
       "            fig.waiting = false;\n",
       "            return;\n",
       "        }\n",
       "        else if (typeof evt.data === 'string' && evt.data.slice(0, 21) == \"data:image/png;base64\") {\n",
       "            fig.imageObj.src = evt.data;\n",
       "            fig.updated_canvas_event();\n",
       "            fig.waiting = false;\n",
       "            return;\n",
       "        }\n",
       "\n",
       "        var msg = JSON.parse(evt.data);\n",
       "        var msg_type = msg['type'];\n",
       "\n",
       "        // Call the  \"handle_{type}\" callback, which takes\n",
       "        // the figure and JSON message as its only arguments.\n",
       "        try {\n",
       "            var callback = fig[\"handle_\" + msg_type];\n",
       "        } catch (e) {\n",
       "            console.log(\"No handler for the '\" + msg_type + \"' message type: \", msg);\n",
       "            return;\n",
       "        }\n",
       "\n",
       "        if (callback) {\n",
       "            try {\n",
       "                // console.log(\"Handling '\" + msg_type + \"' message: \", msg);\n",
       "                callback(fig, msg);\n",
       "            } catch (e) {\n",
       "                console.log(\"Exception inside the 'handler_\" + msg_type + \"' callback:\", e, e.stack, msg);\n",
       "            }\n",
       "        }\n",
       "    };\n",
       "}\n",
       "\n",
       "// from http://stackoverflow.com/questions/1114465/getting-mouse-location-in-canvas\n",
       "mpl.findpos = function(e) {\n",
       "    //this section is from http://www.quirksmode.org/js/events_properties.html\n",
       "    var targ;\n",
       "    if (!e)\n",
       "        e = window.event;\n",
       "    if (e.target)\n",
       "        targ = e.target;\n",
       "    else if (e.srcElement)\n",
       "        targ = e.srcElement;\n",
       "    if (targ.nodeType == 3) // defeat Safari bug\n",
       "        targ = targ.parentNode;\n",
       "\n",
       "    // jQuery normalizes the pageX and pageY\n",
       "    // pageX,Y are the mouse positions relative to the document\n",
       "    // offset() returns the position of the element relative to the document\n",
       "    var x = e.pageX - $(targ).offset().left;\n",
       "    var y = e.pageY - $(targ).offset().top;\n",
       "\n",
       "    return {\"x\": x, \"y\": y};\n",
       "};\n",
       "\n",
       "/*\n",
       " * return a copy of an object with only non-object keys\n",
       " * we need this to avoid circular references\n",
       " * http://stackoverflow.com/a/24161582/3208463\n",
       " */\n",
       "function simpleKeys (original) {\n",
       "  return Object.keys(original).reduce(function (obj, key) {\n",
       "    if (typeof original[key] !== 'object')\n",
       "        obj[key] = original[key]\n",
       "    return obj;\n",
       "  }, {});\n",
       "}\n",
       "\n",
       "mpl.figure.prototype.mouse_event = function(event, name) {\n",
       "    var canvas_pos = mpl.findpos(event)\n",
       "\n",
       "    if (name === 'button_press')\n",
       "    {\n",
       "        this.canvas.focus();\n",
       "        this.canvas_div.focus();\n",
       "    }\n",
       "\n",
       "    var x = canvas_pos.x * mpl.ratio;\n",
       "    var y = canvas_pos.y * mpl.ratio;\n",
       "\n",
       "    this.send_message(name, {x: x, y: y, button: event.button,\n",
       "                             step: event.step,\n",
       "                             guiEvent: simpleKeys(event)});\n",
       "\n",
       "    /* This prevents the web browser from automatically changing to\n",
       "     * the text insertion cursor when the button is pressed.  We want\n",
       "     * to control all of the cursor setting manually through the\n",
       "     * 'cursor' event from matplotlib */\n",
       "    event.preventDefault();\n",
       "    return false;\n",
       "}\n",
       "\n",
       "mpl.figure.prototype._key_event_extra = function(event, name) {\n",
       "    // Handle any extra behaviour associated with a key event\n",
       "}\n",
       "\n",
       "mpl.figure.prototype.key_event = function(event, name) {\n",
       "\n",
       "    // Prevent repeat events\n",
       "    if (name == 'key_press')\n",
       "    {\n",
       "        if (event.which === this._key)\n",
       "            return;\n",
       "        else\n",
       "            this._key = event.which;\n",
       "    }\n",
       "    if (name == 'key_release')\n",
       "        this._key = null;\n",
       "\n",
       "    var value = '';\n",
       "    if (event.ctrlKey && event.which != 17)\n",
       "        value += \"ctrl+\";\n",
       "    if (event.altKey && event.which != 18)\n",
       "        value += \"alt+\";\n",
       "    if (event.shiftKey && event.which != 16)\n",
       "        value += \"shift+\";\n",
       "\n",
       "    value += 'k';\n",
       "    value += event.which.toString();\n",
       "\n",
       "    this._key_event_extra(event, name);\n",
       "\n",
       "    this.send_message(name, {key: value,\n",
       "                             guiEvent: simpleKeys(event)});\n",
       "    return false;\n",
       "}\n",
       "\n",
       "mpl.figure.prototype.toolbar_button_onclick = function(name) {\n",
       "    if (name == 'download') {\n",
       "        this.handle_save(this, null);\n",
       "    } else {\n",
       "        this.send_message(\"toolbar_button\", {name: name});\n",
       "    }\n",
       "};\n",
       "\n",
       "mpl.figure.prototype.toolbar_button_onmouseover = function(tooltip) {\n",
       "    this.message.textContent = tooltip;\n",
       "};\n",
       "mpl.toolbar_items = [[\"Home\", \"Reset original view\", \"fa fa-home icon-home\", \"home\"], [\"Back\", \"Back to previous view\", \"fa fa-arrow-left icon-arrow-left\", \"back\"], [\"Forward\", \"Forward to next view\", \"fa fa-arrow-right icon-arrow-right\", \"forward\"], [\"\", \"\", \"\", \"\"], [\"Pan\", \"Pan axes with left mouse, zoom with right\", \"fa fa-arrows icon-move\", \"pan\"], [\"Zoom\", \"Zoom to rectangle\", \"fa fa-square-o icon-check-empty\", \"zoom\"], [\"\", \"\", \"\", \"\"], [\"Download\", \"Download plot\", \"fa fa-floppy-o icon-save\", \"download\"]];\n",
       "\n",
       "mpl.extensions = [\"eps\", \"jpeg\", \"pdf\", \"png\", \"ps\", \"raw\", \"svg\", \"tif\"];\n",
       "\n",
       "mpl.default_extension = \"png\";var comm_websocket_adapter = function(comm) {\n",
       "    // Create a \"websocket\"-like object which calls the given IPython comm\n",
       "    // object with the appropriate methods. Currently this is a non binary\n",
       "    // socket, so there is still some room for performance tuning.\n",
       "    var ws = {};\n",
       "\n",
       "    ws.close = function() {\n",
       "        comm.close()\n",
       "    };\n",
       "    ws.send = function(m) {\n",
       "        //console.log('sending', m);\n",
       "        comm.send(m);\n",
       "    };\n",
       "    // Register the callback with on_msg.\n",
       "    comm.on_msg(function(msg) {\n",
       "        //console.log('receiving', msg['content']['data'], msg);\n",
       "        // Pass the mpl event to the overridden (by mpl) onmessage function.\n",
       "        ws.onmessage(msg['content']['data'])\n",
       "    });\n",
       "    return ws;\n",
       "}\n",
       "\n",
       "mpl.mpl_figure_comm = function(comm, msg) {\n",
       "    // This is the function which gets called when the mpl process\n",
       "    // starts-up an IPython Comm through the \"matplotlib\" channel.\n",
       "\n",
       "    var id = msg.content.data.id;\n",
       "    // Get hold of the div created by the display call when the Comm\n",
       "    // socket was opened in Python.\n",
       "    var element = $(\"#\" + id);\n",
       "    var ws_proxy = comm_websocket_adapter(comm)\n",
       "\n",
       "    function ondownload(figure, format) {\n",
       "        window.open(figure.imageObj.src);\n",
       "    }\n",
       "\n",
       "    var fig = new mpl.figure(id, ws_proxy,\n",
       "                           ondownload,\n",
       "                           element.get(0));\n",
       "\n",
       "    // Call onopen now - mpl needs it, as it is assuming we've passed it a real\n",
       "    // web socket which is closed, not our websocket->open comm proxy.\n",
       "    ws_proxy.onopen();\n",
       "\n",
       "    fig.parent_element = element.get(0);\n",
       "    fig.cell_info = mpl.find_output_cell(\"<div id='\" + id + \"'></div>\");\n",
       "    if (!fig.cell_info) {\n",
       "        console.error(\"Failed to find cell for figure\", id, fig);\n",
       "        return;\n",
       "    }\n",
       "\n",
       "    var output_index = fig.cell_info[2]\n",
       "    var cell = fig.cell_info[0];\n",
       "\n",
       "};\n",
       "\n",
       "mpl.figure.prototype.handle_close = function(fig, msg) {\n",
       "    var width = fig.canvas.width/mpl.ratio\n",
       "    fig.root.unbind('remove')\n",
       "\n",
       "    // Update the output cell to use the data from the current canvas.\n",
       "    fig.push_to_output();\n",
       "    var dataURL = fig.canvas.toDataURL();\n",
       "    // Re-enable the keyboard manager in IPython - without this line, in FF,\n",
       "    // the notebook keyboard shortcuts fail.\n",
       "    IPython.keyboard_manager.enable()\n",
       "    $(fig.parent_element).html('<img src=\"' + dataURL + '\" width=\"' + width + '\">');\n",
       "    fig.close_ws(fig, msg);\n",
       "}\n",
       "\n",
       "mpl.figure.prototype.close_ws = function(fig, msg){\n",
       "    fig.send_message('closing', msg);\n",
       "    // fig.ws.close()\n",
       "}\n",
       "\n",
       "mpl.figure.prototype.push_to_output = function(remove_interactive) {\n",
       "    // Turn the data on the canvas into data in the output cell.\n",
       "    var width = this.canvas.width/mpl.ratio\n",
       "    var dataURL = this.canvas.toDataURL();\n",
       "    this.cell_info[1]['text/html'] = '<img src=\"' + dataURL + '\" width=\"' + width + '\">';\n",
       "}\n",
       "\n",
       "mpl.figure.prototype.updated_canvas_event = function() {\n",
       "    // Tell IPython that the notebook contents must change.\n",
       "    IPython.notebook.set_dirty(true);\n",
       "    this.send_message(\"ack\", {});\n",
       "    var fig = this;\n",
       "    // Wait a second, then push the new image to the DOM so\n",
       "    // that it is saved nicely (might be nice to debounce this).\n",
       "    setTimeout(function () { fig.push_to_output() }, 1000);\n",
       "}\n",
       "\n",
       "mpl.figure.prototype._init_toolbar = function() {\n",
       "    var fig = this;\n",
       "\n",
       "    var nav_element = $('<div/>');\n",
       "    nav_element.attr('style', 'width: 100%');\n",
       "    this.root.append(nav_element);\n",
       "\n",
       "    // Define a callback function for later on.\n",
       "    function toolbar_event(event) {\n",
       "        return fig.toolbar_button_onclick(event['data']);\n",
       "    }\n",
       "    function toolbar_mouse_event(event) {\n",
       "        return fig.toolbar_button_onmouseover(event['data']);\n",
       "    }\n",
       "\n",
       "    for(var toolbar_ind in mpl.toolbar_items){\n",
       "        var name = mpl.toolbar_items[toolbar_ind][0];\n",
       "        var tooltip = mpl.toolbar_items[toolbar_ind][1];\n",
       "        var image = mpl.toolbar_items[toolbar_ind][2];\n",
       "        var method_name = mpl.toolbar_items[toolbar_ind][3];\n",
       "\n",
       "        if (!name) { continue; };\n",
       "\n",
       "        var button = $('<button class=\"btn btn-default\" href=\"#\" title=\"' + name + '\"><i class=\"fa ' + image + ' fa-lg\"></i></button>');\n",
       "        button.click(method_name, toolbar_event);\n",
       "        button.mouseover(tooltip, toolbar_mouse_event);\n",
       "        nav_element.append(button);\n",
       "    }\n",
       "\n",
       "    // Add the status bar.\n",
       "    var status_bar = $('<span class=\"mpl-message\" style=\"text-align:right; float: right;\"/>');\n",
       "    nav_element.append(status_bar);\n",
       "    this.message = status_bar[0];\n",
       "\n",
       "    // Add the close button to the window.\n",
       "    var buttongrp = $('<div class=\"btn-group inline pull-right\"></div>');\n",
       "    var button = $('<button class=\"btn btn-mini btn-primary\" href=\"#\" title=\"Stop Interaction\"><i class=\"fa fa-power-off icon-remove icon-large\"></i></button>');\n",
       "    button.click(function (evt) { fig.handle_close(fig, {}); } );\n",
       "    button.mouseover('Stop Interaction', toolbar_mouse_event);\n",
       "    buttongrp.append(button);\n",
       "    var titlebar = this.root.find($('.ui-dialog-titlebar'));\n",
       "    titlebar.prepend(buttongrp);\n",
       "}\n",
       "\n",
       "mpl.figure.prototype._root_extra_style = function(el){\n",
       "    var fig = this\n",
       "    el.on(\"remove\", function(){\n",
       "\tfig.close_ws(fig, {});\n",
       "    });\n",
       "}\n",
       "\n",
       "mpl.figure.prototype._canvas_extra_style = function(el){\n",
       "    // this is important to make the div 'focusable\n",
       "    el.attr('tabindex', 0)\n",
       "    // reach out to IPython and tell the keyboard manager to turn it's self\n",
       "    // off when our div gets focus\n",
       "\n",
       "    // location in version 3\n",
       "    if (IPython.notebook.keyboard_manager) {\n",
       "        IPython.notebook.keyboard_manager.register_events(el);\n",
       "    }\n",
       "    else {\n",
       "        // location in version 2\n",
       "        IPython.keyboard_manager.register_events(el);\n",
       "    }\n",
       "\n",
       "}\n",
       "\n",
       "mpl.figure.prototype._key_event_extra = function(event, name) {\n",
       "    var manager = IPython.notebook.keyboard_manager;\n",
       "    if (!manager)\n",
       "        manager = IPython.keyboard_manager;\n",
       "\n",
       "    // Check for shift+enter\n",
       "    if (event.shiftKey && event.which == 13) {\n",
       "        this.canvas_div.blur();\n",
       "        // select the cell after this one\n",
       "        var index = IPython.notebook.find_cell_index(this.cell_info[0]);\n",
       "        IPython.notebook.select(index + 1);\n",
       "    }\n",
       "}\n",
       "\n",
       "mpl.figure.prototype.handle_save = function(fig, msg) {\n",
       "    fig.ondownload(fig, null);\n",
       "}\n",
       "\n",
       "\n",
       "mpl.find_output_cell = function(html_output) {\n",
       "    // Return the cell and output element which can be found *uniquely* in the notebook.\n",
       "    // Note - this is a bit hacky, but it is done because the \"notebook_saving.Notebook\"\n",
       "    // IPython event is triggered only after the cells have been serialised, which for\n",
       "    // our purposes (turning an active figure into a static one), is too late.\n",
       "    var cells = IPython.notebook.get_cells();\n",
       "    var ncells = cells.length;\n",
       "    for (var i=0; i<ncells; i++) {\n",
       "        var cell = cells[i];\n",
       "        if (cell.cell_type === 'code'){\n",
       "            for (var j=0; j<cell.output_area.outputs.length; j++) {\n",
       "                var data = cell.output_area.outputs[j];\n",
       "                if (data.data) {\n",
       "                    // IPython >= 3 moved mimebundle to data attribute of output\n",
       "                    data = data.data;\n",
       "                }\n",
       "                if (data['text/html'] == html_output) {\n",
       "                    return [cell, data, j];\n",
       "                }\n",
       "            }\n",
       "        }\n",
       "    }\n",
       "}\n",
       "\n",
       "// Register the function which deals with the matplotlib target/channel.\n",
       "// The kernel may be null if the page has been refreshed.\n",
       "if (IPython.notebook.kernel != null) {\n",
       "    IPython.notebook.kernel.comm_manager.register_target('matplotlib', mpl.mpl_figure_comm);\n",
       "}\n"
      ],
      "text/plain": [
       "<IPython.core.display.Javascript object>"
      ]
     },
     "metadata": {},
     "output_type": "display_data"
    },
    {
     "data": {
      "text/html": [
       "<img src=\"data:image/png;base64,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\" width=\"700\">"
      ],
      "text/plain": [
       "<IPython.core.display.HTML object>"
      ]
     },
     "metadata": {},
     "output_type": "display_data"
    },
    {
     "data": {
      "text/plain": [
       "(0, 850)"
      ]
     },
     "execution_count": 66,
     "metadata": {},
     "output_type": "execute_result"
    }
   ],
   "source": [
    "states = [['H_in']]\n",
    "data=[df_sciensano[\"H_in\"].values[:37]]\n",
    "T = 100 # extra days to plot model for\n",
    "end_data = 149#52 end of data tranch to plot\n",
    "start_date = '15-03-2020'\n",
    "fig,ax=plt.subplots(figsize=(7,8))\n",
    "for i in range(2):\n",
    "    idx,model.parameters['beta'] = random.choice(list(enumerate(samples_dict['beta'])))\n",
    "    idx,model.parameters['l'] = random.choice(list(enumerate(samples_dict['l'])))\n",
    "    model.parameters['tau'] = samples_dict['tau'][idx]\n",
    "    prevention = samples_dict['prevention'][idx]\n",
    "    # Create a dictionary of past policies\n",
    "    chk = {'time':   [lag_time], \n",
    "          'Nc':      [prevention*(1.00*Nc_home + (1-0.60)*Nc_work + (1-0.70)*Nc_transport + (1-0.30)*Nc_others + (1-0.80)*Nc_leisure)]\n",
    "          }\n",
    "    y_model = model.sim(data[0].size+lag_time-1+T,checkpoints=chk)\n",
    "    ax = plot_fit(y_model,data,start_date,lag_time,states,T=T,ax=ax,plt_kwargs={'color':'blue','linewidth': 2,'alpha': 0.05})\n",
    "\n",
    "plt.scatter(pd.date_range('15-03-2020',freq='D',periods=df_sciensano[\"H_in\"][37:end_data].size)+datetime.timedelta(days=data[0].size),df_sciensano[\"H_in\"][37:end_data], marker='o',color='red',linestyle='None',facecolors='none')\n",
    "legend_text=['daily \\nhospitalizations']\n",
    "#leg=ax.legend(legend_text, loc=\"upper left\", bbox_to_anchor=(1,1))\n",
    "ax.set_ylim([0,850])\n",
    "#plt.savefig('plot_fit_compliance.pdf', dpi=600, bbox_inches='tight',orientation='portrait', papertype='a4')"
   ]
  },
  {
   "cell_type": "code",
   "execution_count": 75,
   "metadata": {
    "ExecuteTime": {
     "end_time": "2020-08-12T08:03:20.130054Z",
     "start_time": "2020-08-12T08:03:19.948199Z"
    }
   },
   "outputs": [
    {
     "data": {
      "text/plain": [
       "'15-03-2020'"
      ]
     },
     "execution_count": 75,
     "metadata": {},
     "output_type": "execute_result"
    }
   ],
   "source": [
    "start_date"
   ]
  },
  {
   "cell_type": "code",
   "execution_count": 82,
   "metadata": {
    "ExecuteTime": {
     "end_time": "2020-08-12T08:05:43.527222Z",
     "start_time": "2020-08-12T08:05:43.490641Z"
    }
   },
   "outputs": [],
   "source": [
    "end_date = '2020-09-20'"
   ]
  },
  {
   "cell_type": "code",
   "execution_count": 81,
   "metadata": {
    "ExecuteTime": {
     "end_time": "2020-08-12T08:05:02.103560Z",
     "start_time": "2020-08-12T08:05:02.061348Z"
    }
   },
   "outputs": [
    {
     "data": {
      "text/plain": [
       "Timestamp('2020-01-22 00:00:00')"
      ]
     },
     "execution_count": 81,
     "metadata": {},
     "output_type": "execute_result"
    }
   ],
   "source": []
  },
  {
   "cell_type": "code",
   "execution_count": 83,
   "metadata": {
    "ExecuteTime": {
     "end_time": "2020-08-12T08:05:56.211002Z",
     "start_time": "2020-08-12T08:05:56.172032Z"
    }
   },
   "outputs": [],
   "source": [
    "idx_model = pd.date_range(pd.to_datetime(start_date)-pd.to_timedelta(lag_time, unit='days'), pd.to_datetime(end_date))"
   ]
  },
  {
   "cell_type": "code",
   "execution_count": null,
   "metadata": {},
   "outputs": [],
   "source": [
    "idx = pd.date_range(model_start_datea"
   ]
  },
  {
   "cell_type": "code",
   "execution_count": 90,
   "metadata": {
    "ExecuteTime": {
     "end_time": "2020-08-12T08:11:14.711856Z",
     "start_time": "2020-08-12T08:11:14.671910Z"
    }
   },
   "outputs": [
    {
     "data": {
      "text/plain": [
       "243"
      ]
     },
     "execution_count": 90,
     "metadata": {},
     "output_type": "execute_result"
    }
   ],
   "source": [
    "len(idx_model)"
   ]
  },
  {
   "cell_type": "code",
   "execution_count": 92,
   "metadata": {
    "ExecuteTime": {
     "end_time": "2020-08-12T08:11:58.480698Z",
     "start_time": "2020-08-12T08:11:58.420505Z"
    }
   },
   "outputs": [
    {
     "data": {
      "text/html": [
       "<div>\n",
       "<style scoped>\n",
       "    .dataframe tbody tr th:only-of-type {\n",
       "        vertical-align: middle;\n",
       "    }\n",
       "\n",
       "    .dataframe tbody tr th {\n",
       "        vertical-align: top;\n",
       "    }\n",
       "\n",
       "    .dataframe thead th {\n",
       "        text-align: right;\n",
       "    }\n",
       "</style>\n",
       "<table border=\"1\" class=\"dataframe\">\n",
       "  <thead>\n",
       "    <tr style=\"text-align: right;\">\n",
       "      <th></th>\n",
       "      <th>H_tot</th>\n",
       "      <th>ICU_tot</th>\n",
       "      <th>H_in</th>\n",
       "      <th>H_out</th>\n",
       "      <th>H_tot_cumsum</th>\n",
       "      <th>D_tot</th>\n",
       "      <th>D_25_44</th>\n",
       "      <th>D_45_64</th>\n",
       "      <th>D_65_74</th>\n",
       "      <th>D_75_84</th>\n",
       "      <th>D_85+</th>\n",
       "    </tr>\n",
       "    <tr>\n",
       "      <th>DATE</th>\n",
       "      <th></th>\n",
       "      <th></th>\n",
       "      <th></th>\n",
       "      <th></th>\n",
       "      <th></th>\n",
       "      <th></th>\n",
       "      <th></th>\n",
       "      <th></th>\n",
       "      <th></th>\n",
       "      <th></th>\n",
       "      <th></th>\n",
       "    </tr>\n",
       "  </thead>\n",
       "  <tbody>\n",
       "    <tr>\n",
       "      <th>2020-03-15</th>\n",
       "      <td>266</td>\n",
       "      <td>54</td>\n",
       "      <td>71</td>\n",
       "      <td>18</td>\n",
       "      <td>53</td>\n",
       "      <td>6</td>\n",
       "      <td>0.0</td>\n",
       "      <td>0.0</td>\n",
       "      <td>3</td>\n",
       "      <td>1.0</td>\n",
       "      <td>2</td>\n",
       "    </tr>\n",
       "    <tr>\n",
       "      <th>2020-03-16</th>\n",
       "      <td>370</td>\n",
       "      <td>79</td>\n",
       "      <td>90</td>\n",
       "      <td>14</td>\n",
       "      <td>129</td>\n",
       "      <td>11</td>\n",
       "      <td>0.0</td>\n",
       "      <td>0.0</td>\n",
       "      <td>3</td>\n",
       "      <td>3.0</td>\n",
       "      <td>5</td>\n",
       "    </tr>\n",
       "    <tr>\n",
       "      <th>2020-03-17</th>\n",
       "      <td>497</td>\n",
       "      <td>100</td>\n",
       "      <td>122</td>\n",
       "      <td>31</td>\n",
       "      <td>220</td>\n",
       "      <td>12</td>\n",
       "      <td>0.0</td>\n",
       "      <td>0.0</td>\n",
       "      <td>1</td>\n",
       "      <td>4.0</td>\n",
       "      <td>7</td>\n",
       "    </tr>\n",
       "    <tr>\n",
       "      <th>2020-03-18</th>\n",
       "      <td>650</td>\n",
       "      <td>131</td>\n",
       "      <td>179</td>\n",
       "      <td>48</td>\n",
       "      <td>351</td>\n",
       "      <td>22</td>\n",
       "      <td>1.0</td>\n",
       "      <td>1.0</td>\n",
       "      <td>2</td>\n",
       "      <td>6.0</td>\n",
       "      <td>10</td>\n",
       "    </tr>\n",
       "    <tr>\n",
       "      <th>2020-03-19</th>\n",
       "      <td>844</td>\n",
       "      <td>165</td>\n",
       "      <td>207</td>\n",
       "      <td>49</td>\n",
       "      <td>509</td>\n",
       "      <td>28</td>\n",
       "      <td>0.0</td>\n",
       "      <td>0.0</td>\n",
       "      <td>8</td>\n",
       "      <td>5.0</td>\n",
       "      <td>14</td>\n",
       "    </tr>\n",
       "    <tr>\n",
       "      <th>...</th>\n",
       "      <td>...</td>\n",
       "      <td>...</td>\n",
       "      <td>...</td>\n",
       "      <td>...</td>\n",
       "      <td>...</td>\n",
       "      <td>...</td>\n",
       "      <td>...</td>\n",
       "      <td>...</td>\n",
       "      <td>...</td>\n",
       "      <td>...</td>\n",
       "      <td>...</td>\n",
       "    </tr>\n",
       "    <tr>\n",
       "      <th>2020-08-06</th>\n",
       "      <td>278</td>\n",
       "      <td>65</td>\n",
       "      <td>28</td>\n",
       "      <td>39</td>\n",
       "      <td>687</td>\n",
       "      <td>2</td>\n",
       "      <td>0.0</td>\n",
       "      <td>0.0</td>\n",
       "      <td>0</td>\n",
       "      <td>1.0</td>\n",
       "      <td>1</td>\n",
       "    </tr>\n",
       "    <tr>\n",
       "      <th>2020-08-07</th>\n",
       "      <td>285</td>\n",
       "      <td>69</td>\n",
       "      <td>27</td>\n",
       "      <td>28</td>\n",
       "      <td>686</td>\n",
       "      <td>4</td>\n",
       "      <td>0.0</td>\n",
       "      <td>0.0</td>\n",
       "      <td>0</td>\n",
       "      <td>1.0</td>\n",
       "      <td>3</td>\n",
       "    </tr>\n",
       "    <tr>\n",
       "      <th>2020-08-08</th>\n",
       "      <td>281</td>\n",
       "      <td>67</td>\n",
       "      <td>31</td>\n",
       "      <td>39</td>\n",
       "      <td>678</td>\n",
       "      <td>2</td>\n",
       "      <td>0.0</td>\n",
       "      <td>0.0</td>\n",
       "      <td>0</td>\n",
       "      <td>2.0</td>\n",
       "      <td>0</td>\n",
       "    </tr>\n",
       "    <tr>\n",
       "      <th>2020-08-09</th>\n",
       "      <td>285</td>\n",
       "      <td>69</td>\n",
       "      <td>20</td>\n",
       "      <td>14</td>\n",
       "      <td>684</td>\n",
       "      <td>4</td>\n",
       "      <td>1.0</td>\n",
       "      <td>0.0</td>\n",
       "      <td>0</td>\n",
       "      <td>1.0</td>\n",
       "      <td>2</td>\n",
       "    </tr>\n",
       "    <tr>\n",
       "      <th>2020-08-10</th>\n",
       "      <td>312</td>\n",
       "      <td>73</td>\n",
       "      <td>33</td>\n",
       "      <td>12</td>\n",
       "      <td>705</td>\n",
       "      <td>3</td>\n",
       "      <td>0.0</td>\n",
       "      <td>1.0</td>\n",
       "      <td>1</td>\n",
       "      <td>0.0</td>\n",
       "      <td>1</td>\n",
       "    </tr>\n",
       "  </tbody>\n",
       "</table>\n",
       "<p>149 rows × 11 columns</p>\n",
       "</div>"
      ],
      "text/plain": [
       "            H_tot  ICU_tot  H_in  H_out  H_tot_cumsum  D_tot  D_25_44  \\\n",
       "DATE                                                                    \n",
       "2020-03-15    266       54    71     18            53      6      0.0   \n",
       "2020-03-16    370       79    90     14           129     11      0.0   \n",
       "2020-03-17    497      100   122     31           220     12      0.0   \n",
       "2020-03-18    650      131   179     48           351     22      1.0   \n",
       "2020-03-19    844      165   207     49           509     28      0.0   \n",
       "...           ...      ...   ...    ...           ...    ...      ...   \n",
       "2020-08-06    278       65    28     39           687      2      0.0   \n",
       "2020-08-07    285       69    27     28           686      4      0.0   \n",
       "2020-08-08    281       67    31     39           678      2      0.0   \n",
       "2020-08-09    285       69    20     14           684      4      1.0   \n",
       "2020-08-10    312       73    33     12           705      3      0.0   \n",
       "\n",
       "            D_45_64  D_65_74  D_75_84  D_85+  \n",
       "DATE                                          \n",
       "2020-03-15      0.0        3      1.0      2  \n",
       "2020-03-16      0.0        3      3.0      5  \n",
       "2020-03-17      0.0        1      4.0      7  \n",
       "2020-03-18      1.0        2      6.0     10  \n",
       "2020-03-19      0.0        8      5.0     14  \n",
       "...             ...      ...      ...    ...  \n",
       "2020-08-06      0.0        0      1.0      1  \n",
       "2020-08-07      0.0        0      1.0      3  \n",
       "2020-08-08      0.0        0      2.0      0  \n",
       "2020-08-09      0.0        0      1.0      2  \n",
       "2020-08-10      1.0        1      0.0      1  \n",
       "\n",
       "[149 rows x 11 columns]"
      ]
     },
     "execution_count": 92,
     "metadata": {},
     "output_type": "execute_result"
    }
   ],
   "source": [
    "df_sciensano[:end_date]"
   ]
  },
  {
   "cell_type": "code",
   "execution_count": 112,
   "metadata": {
    "ExecuteTime": {
     "end_time": "2020-08-12T08:19:26.836502Z",
     "start_time": "2020-08-12T08:19:26.795408Z"
    }
   },
   "outputs": [],
   "source": [
    "    idx_data = pd.date_range(pd.to_datetime(start_date),\n",
    "                              pd.to_datetime(end_date))"
   ]
  },
  {
   "cell_type": "code",
   "execution_count": 115,
   "metadata": {
    "ExecuteTime": {
     "end_time": "2020-08-12T08:19:35.259162Z",
     "start_time": "2020-08-12T08:19:35.221555Z"
    }
   },
   "outputs": [],
   "source": [
    "i=0\n",
    "if len(data[i]) < len(idx_data):\n",
    "    idx_data = pd.date_range(pd.to_datetime(start_date),\n",
    "                             pd.to_datetime(start_date)+pd.to_timedelta(len(data[i])-1, unit='days'))"
   ]
  },
  {
   "cell_type": "code",
   "execution_count": 116,
   "metadata": {
    "ExecuteTime": {
     "end_time": "2020-08-12T08:19:35.715932Z",
     "start_time": "2020-08-12T08:19:35.672136Z"
    }
   },
   "outputs": [
    {
     "data": {
      "text/plain": [
       "37"
      ]
     },
     "execution_count": 116,
     "metadata": {},
     "output_type": "execute_result"
    }
   ],
   "source": [
    "len(idx_data)"
   ]
  },
  {
   "cell_type": "code",
   "execution_count": 109,
   "metadata": {
    "ExecuteTime": {
     "end_time": "2020-08-12T08:19:15.217158Z",
     "start_time": "2020-08-12T08:19:15.178152Z"
    }
   },
   "outputs": [
    {
     "data": {
      "text/plain": [
       "37"
      ]
     },
     "execution_count": 109,
     "metadata": {},
     "output_type": "execute_result"
    }
   ],
   "source": [
    "len(data[i])"
   ]
  },
  {
   "cell_type": "code",
   "execution_count": 100,
   "metadata": {
    "ExecuteTime": {
     "end_time": "2020-08-12T08:16:36.019674Z",
     "start_time": "2020-08-12T08:16:35.980068Z"
    }
   },
   "outputs": [
    {
     "data": {
      "text/plain": [
       "190"
      ]
     },
     "execution_count": 100,
     "metadata": {},
     "output_type": "execute_result"
    }
   ],
   "source": [
    "len(idx_data)"
   ]
  },
  {
   "cell_type": "code",
   "execution_count": 120,
   "metadata": {
    "ExecuteTime": {
     "end_time": "2020-08-12T08:22:29.616851Z",
     "start_time": "2020-08-12T08:22:22.419612Z"
    },
    "scrolled": false
   },
   "outputs": [
    {
     "data": {
      "text/plain": [
       "(0, 850)"
      ]
     },
     "execution_count": 120,
     "metadata": {},
     "output_type": "execute_result"
    },
    {
     "data": {
      "image/png": "[encoded data removed]",
      "text/plain": [
       "<Figure size 432x288 with 1 Axes>"
      ]
     },
     "metadata": {
      "needs_background": "light"
     },
     "output_type": "display_data"
    }
   ],
   "source": [
    "states = [['H_in']]\n",
    "data=[df_sciensano[\"H_in\"].values[:37]]\n",
    "T = 100 # extra days to plot model for\n",
    "#end_data = 149#52 end of data tranch to plot\n",
    "start_date = '15-03-2020'\n",
    "end_date = '2020-09-20'\n",
    "fig,ax=plt.subplots()\n",
    "for i in range(20):\n",
    "    idx,model.parameters['beta'] = random.choice(list(enumerate(samples_dict['beta'])))\n",
    "    idx,model.parameters['l'] = random.choice(list(enumerate(samples_dict['l'])))\n",
    "    model.parameters['tau'] = samples_dict['tau'][idx]\n",
    "    prevention = samples_dict['prevention'][idx]\n",
    "    # Create a dictionary of past policies\n",
    "    chk = {'time':   [lag_time], \n",
    "          'Nc':      [prevention*(1.00*Nc_home + (1-0.60)*Nc_work + (1-0.70)*Nc_transport + (1-0.30)*Nc_others + (1-0.80)*Nc_leisure)]\n",
    "          }\n",
    "    y_model = model.sim(time='2020-09-20', excess_time=lag_time,checkpoints=chk)\n",
    "    ax = plot_fit(y_model,data,start_date,end_date,lag_time,states,T=T,ax=ax,plt_kwargs={'color':'blue','linewidth': 2,'alpha': 0.05})\n",
    "\n",
    "plt.scatter(pd.date_range('15-03-2020',freq='D',periods=df_sciensano[\"H_in\"][37:end_data].size)+datetime.timedelta(days=data[0].size),df_sciensano[\"H_in\"][37:end_data], marker='o',color='red',linestyle='None',facecolors='none')\n",
    "legend_text=['daily \\nhospitalizations']\n",
    "#leg=ax.legend(legend_text, loc=\"upper left\", bbox_to_anchor=(1,1))\n",
    "ax.set_ylim([0,850])\n",
    "#plt.savefig('plot_fit_compliance.pdf', dpi=600, bbox_inches='tight',orientation='portrait', papertype='a4')"
   ]
  },
  {
   "cell_type": "markdown",
   "metadata": {},
   "source": [
    "# (Calibration of hospitalization parameters)"
   ]
  },
  {
   "cell_type": "markdown",
   "metadata": {},
   "source": [
    "Load the previously calibrated parameters: $\\beta$, lag_time, k, t0, prevention"
   ]
  },
  {
   "cell_type": "code",
   "execution_count": null,
   "metadata": {},
   "outputs": [],
   "source": [
    "import json\n",
    "with open('parameters_deterministic.json', 'r') as fp:\n",
    "    samples_dict = json.load(fp)\n",
    "\n",
    "lag_time = samples_dict['lag_time']\n",
    "model.extraTime = samples_dict['lag_time']\n",
    "model.parameters['beta'] = np.mean(samples_dict['beta'])\n",
    "model.parameters['l'] = np.mean(samples_dict['l'])\n",
    "model.parameters['tau'] = np.mean(samples_dict['tau'])\n",
    "prevention = np.mean(samples_dict['prevention'])"
   ]
  },
  {
   "cell_type": "code",
   "execution_count": null,
   "metadata": {},
   "outputs": [],
   "source": [
    "# Create checkpoints dictionary\n",
    "chk = {'time':  [lag_time], \n",
    "       'Nc':    [prevention*(1.0*Nc_home + (1-0.60)*Nc_work + (1-0.70)*Nc_transport + (1-0.30)*Nc_others + (1-0.80)*Nc_leisure)],\n",
    "      }\n",
    "\n",
    "model.parameters['dICUrec'] = 8\n",
    "\n",
    "# define dataset\n",
    "data=[df_sciensano[\"H_out\"].values[:55],df_sciensano[\"ICU_tot\"].values[:55],df_sciensano[\"H_tot\"].values[:55]]\n",
    "# set optimisation settings\n",
    "parNames = ['sigma_H_out','sigma_ICU_tot','sigma_H_tot','dc','dICU'] # must be a list!\n",
    "states = [[\"H_out\"],[\"ICU\"],[\"H_tot\"]]\n",
    "bounds=((1,200),(1,300),(1,600),(2,30),(2,20)) # must be a list!\n",
    "# run optimisation\n",
    "theta = MCMC.fit_pso(model,data,parNames,states,bounds,checkpoints=chk,maxiter=50,popsize=50)"
   ]
  },
  {
   "cell_type": "code",
   "execution_count": null,
   "metadata": {},
   "outputs": [],
   "source": [
    "model.parameters.update({\n",
    "    'dc': theta[3],\n",
    "    'dICU': theta[4]\n",
    "}\n",
    ")"
   ]
  },
  {
   "cell_type": "code",
   "execution_count": null,
   "metadata": {},
   "outputs": [],
   "source": [
    "T = 3\n",
    "fig,ax=plt.subplots()\n",
    "for i in range(1):\n",
    "    y_model = model.sim(data[0].size+lag_time-1+T,checkpoints=chk)\n",
    "    ax = plot_fit(y_model,data,'15-03-2020',lag_time,states,T=T,ax=ax,plt_kwargs={'color':'blue','linewidth': 2,'alpha': 1})"
   ]
  },
  {
   "cell_type": "code",
   "execution_count": null,
   "metadata": {},
   "outputs": [],
   "source": [
    "pos = theta + [5,5,5,3,3]* np.random.randn(10, 5)\n",
    "bounds=((1,500),(1,500),(1,1000),(1,30),(1,30)) \n",
    "nwalkers, ndim = pos.shape\n",
    "sampler = emcee.EnsembleSampler(nwalkers, ndim, objective_fcns.log_probability,\n",
    "                                args=(model,bounds,data,states,parNames,chk))\n",
    "sampler.run_mcmc(pos, 16000, progress=True);"
   ]
  },
  {
   "cell_type": "code",
   "execution_count": null,
   "metadata": {},
   "outputs": [],
   "source": [
    "sampler.get_autocorr_time()"
   ]
  },
  {
   "cell_type": "code",
   "execution_count": null,
   "metadata": {},
   "outputs": [],
   "source": [
    "samples = sampler.get_chain(discard=50,flat=False)\n",
    "flat_samples = sampler.get_chain(discard=50,flat=True)"
   ]
  },
  {
   "cell_type": "code",
   "execution_count": null,
   "metadata": {},
   "outputs": [],
   "source": [
    "mean = np.mean(samples_dict['dICU'])\n",
    "p10 = np.percentile(samples_dict['dICU'],10)\n",
    "p90 = np.percentile(samples_dict['dICU'],90)\n",
    "print(mean,p10,p90)"
   ]
  },
  {
   "cell_type": "code",
   "execution_count": null,
   "metadata": {},
   "outputs": [],
   "source": [
    "samples_dict.update({'dc': flat_samples[:,3].tolist(), 'dICU': flat_samples[:,4].tolist()})"
   ]
  },
  {
   "cell_type": "code",
   "execution_count": null,
   "metadata": {},
   "outputs": [],
   "source": [
    "traceplot(samples=sampler.get_chain(discard=50),labels=[\"sigma_H_out\",\"sigma H_tot\",\"sigma_ICU_tot\",\"dc\",\"dICU\"],plt_kwargs={'linewidth':2,'color': 'red','alpha': 0.15})"
   ]
  },
  {
   "cell_type": "code",
   "execution_count": null,
   "metadata": {},
   "outputs": [],
   "source": [
    "import corner\n",
    "\n",
    "fig = corner.corner(\n",
    "    flat_samples, labels=[\"sigma_H_out\",\"sigma H_tot\",\"sigma_ICU_tot\",\"dc\",\"dICU\"],\n",
    ");\n",
    "fig.set_size_inches(12, 12)\n",
    "plt.savefig('corner_compliance_hospitalization.pdf', dpi=600, bbox_inches='tight',\n",
    "                    orientation='portrait', papertype='a4')"
   ]
  },
  {
   "cell_type": "code",
   "execution_count": null,
   "metadata": {},
   "outputs": [],
   "source": [
    "T = 21\n",
    "\n",
    "fig,ax=plt.subplots()\n",
    "for i in range(300):\n",
    "    model.parameters['beta'] = np.random.choice(samples_dict['beta'],1,replace=False)\n",
    "    model.parameters['l'] = np.random.choice(samples_dict['l'],1,replace=False)\n",
    "    prevention = np.random.choice(samples_dict['prevention'],1,replace=False)\n",
    "    model.parameters['dc'] = np.random.choice(samples_dict['dc'],1,replace=False)\n",
    "    model.parameters['dICU'] = np.random.choice(samples_dict['dICU'],1,replace=False)\n",
    "    # Create checkpoints dictionary\n",
    "    chk = {'time':  [lag_time], \n",
    "           'Nc':    [prevention*(1.3*Nc_home + (1-0.60)*Nc_work + (1-0.70)*Nc_transport + (1-0.30)*Nc_others + (1-0.80)*Nc_leisure)],\n",
    "      }\n",
    "    y_model = model.sim(data[0].size+lag_time-1+T,checkpoints=chk)\n",
    "    ax = plot_fit(y_model,data,'15-03-2020',lag_time,states,T=T,ax=ax,\n",
    "                  legend_text=['Hospital discharges','Intensive care units (total)','Hospitals (total)'],\n",
    "                  plt_kwargs={'linewidth': 0.10,'alpha': 0.15})"
   ]
  },
  {
   "cell_type": "code",
   "execution_count": null,
   "metadata": {},
   "outputs": [],
   "source": [
    "import json\n",
    "\n",
    "with open('parameters_deterministic.json', 'w') as fp:\n",
    "    json.dump(samples_dict, fp)"
   ]
  },
  {
   "cell_type": "code",
   "execution_count": null,
   "metadata": {},
   "outputs": [],
   "source": [
    "R_0 =[]\n",
    "for i in range(len(samples_dict['beta'])):\n",
    "    R_0.append(sum((model.parameters['a']*model.parameters['da']+model.parameters['omega'])*samples_dict['beta'][i]*model.parameters['s']*np.sum(Nc_total,axis=1)*(initN/sum(initN))))\n",
    "\n",
    "plt.hist(R_0,bins=30)\n",
    "mean = np.mean(R_0)\n",
    "p10 = np.percentile(R_0,10)\n",
    "p90 = np.percentile(R_0,90)\n",
    "print(mean,p10,p90)"
   ]
  },
  {
   "cell_type": "code",
   "execution_count": null,
   "metadata": {},
   "outputs": [],
   "source": [
    "R_0 = np.zeros([initN.size,len(samples_dict['beta'])])\n",
    "for i in range(len(samples_dict['beta'])):\n",
    "    R_0[:,i]= (model.parameters['a']*model.parameters['da']+model.parameters['omega'])*samples_dict['beta'][i]*model.parameters['s']*np.sum(Nc_total,axis=1)\n",
    "plt.hist(R_0[8,:],bins=30)\n",
    "\n",
    "for i in range(R_0.shape[0]):\n",
    "    mean = np.mean(R_0[i,:])\n",
    "    p10 = np.percentile(R_0[i,:],10)\n",
    "    p90 = np.percentile(R_0[i,:],90)\n",
    "    print(mean,p10,p90)"
   ]
  },
  {
   "cell_type": "markdown",
   "metadata": {},
   "source": [
    "# Notebook works till here"
   ]
  },
  {
   "cell_type": "markdown",
   "metadata": {},
   "source": [
    "### Scenarios"
   ]
  },
  {
   "cell_type": "code",
   "execution_count": null,
   "metadata": {},
   "outputs": [],
   "source": [
    "import json\n",
    "with open('parameters_deterministic.json', 'r') as fp:\n",
    "    samples_dict = json.load(fp)\n",
    "\n",
    "lag_time = samples_dict['lag_time']\n",
    "model.extraTime = samples_dict['lag_time']\n",
    "model.parameters['beta'] = np.mean(samples_dict['beta'])\n",
    "model.parameters['l'] = np.mean(samples_dict['l'])\n",
    "model.parameters['tau'] = np.mean(samples_dict['tau'])\n",
    "prevention = np.mean(samples_dict['prevention'])"
   ]
  },
  {
   "cell_type": "code",
   "execution_count": null,
   "metadata": {},
   "outputs": [],
   "source": [
    "import random\n",
    "from covid19model.visualization.output import _apply_tick_locator\n",
    "\n",
    "# define dataset\n",
    "data=[df_sciensano[\"H_in\"].values[:51]]\n",
    "states = [[\"H_in\"]]\n",
    "start_date = '15-03-2020'\n",
    "\n",
    "T = 2\n",
    "\n",
    "fig,ax=plt.subplots()\n",
    "for i in range(300):\n",
    "    model.parameters['beta'] = np.random.choice(samples_dict['beta'],1,replace=False)\n",
    "    idx,model.parameters['l'] = random.choice(list(enumerate(samples_dict['l'])))\n",
    "    model.parameters['tau'] = samples_dict['tau'][idx]\n",
    "    prevention = samples_dict['prevention'][idx]\n",
    "    #idx,model.parameters['dc'] = random.choice(list(enumerate(samples_dict['dc'])))\n",
    "    #model.parameters['dICU'] = samples_dict['dICU'][idx]\n",
    "    # Create a dictionary of past policies\n",
    "    chk = {'time':   [lag_time], \n",
    "          'Nc':      [prevention*(1.0*Nc_home + (1-0.60)*Nc_work + (1-0.70)*Nc_transport + (1-0.30)*Nc_others + (1-0.80)*Nc_leisure)]\n",
    "          }\n",
    "    y_model = model.sim(data[0].size+lag_time-1+T,checkpoints=chk)\n",
    "    \n",
    "    # Create shifted index vector \n",
    "    idx = pd.date_range(start_date,freq='D',periods=data[0].size + lag_time + T) - datetime.timedelta(days=lag_time)\n",
    "    # Plot model prediction\n",
    "\n",
    "    lines = ax.plot([],[],color='red',alpha=1)\n",
    "    lines = ax.plot([],[],color='blue',alpha=1)\n",
    "    \n",
    "    for i in range(len(data)):\n",
    "        # ages 60 plus\n",
    "        #data2plot = y_model[states[i]].to_array(dim=\"states\").values.ravel()\n",
    "        #val = y_model[states[i]].to_array(dim=\"states\").values[:,6:,:].sum(axis=1)\n",
    "        #csum=np.cumsum(val)\n",
    "        #lines = ax.plot(idx,csum,color='green',linewidth= 2,alpha= 0.05)    \n",
    "        # ages 70 plus\n",
    "        data2plot = y_model[states[i]].to_array(dim=\"states\").values.ravel()\n",
    "        val = y_model[states[i]].to_array(dim=\"states\").values[:,7:,:].sum(axis=1)\n",
    "        csum=np.cumsum(val)\n",
    "        lines = ax.plot(idx,csum,color='blue',linewidth= 2,alpha= 0.05)    \n",
    "        # total cumsum\n",
    "        data2plot = y_model[states[i]].to_array(dim=\"states\").values.ravel()\n",
    "        val = y_model[states[i]].to_array(dim=\"states\").values.sum(axis=1)\n",
    "        csum=np.cumsum(val)\n",
    "        lines = ax.plot(idx,csum,color='red',linewidth= 2,alpha= 0.05)  \n",
    "    # Plot data\n",
    "    for i in range(len(data)):\n",
    "        lines=ax.scatter(idx[lag_time:-T],np.cumsum(data[i]),color=\"black\",facecolors='none')\n",
    "    \n",
    "\n",
    "    # Attributes\n",
    "    #if legend_text is not None:\n",
    "    #    leg=ax.legend(legend_text, loc=\"upper left\", bbox_to_anchor=(1,1))\n",
    "    #if titleText is not None:\n",
    "    #    ax.set_title(titleText,{'fontsize':18})\n",
    "\n",
    "    # Format axes\n",
    "    ax.xaxis.set_major_locator(mdates.DayLocator())\n",
    "    ax.xaxis.set_major_formatter(mdates.DateFormatter('%d-%m-%Y'))\n",
    "    plt.setp(plt.gca().xaxis.get_majorticklabels(),\n",
    "        'rotation', 90)\n",
    "    #fig.autofmt_xdate(rotation=90)\n",
    "    ax.set_xlim( idx[lag_time-3], pd.to_datetime(idx[-1]+ datetime.timedelta(days=1)))\n",
    "    ax.set_ylabel('number of patients')\n",
    "\n",
    "    # limit the number of ticks on the axis\n",
    "    ax = _apply_tick_locator(ax)\n",
    "\n",
    "legend_text=['Total hospitalizations','Total hospitalizations \\n(ages 70+)']\n",
    "leg=ax.legend(legend_text, loc=\"upper left\", bbox_to_anchor=(1,1))\n",
    "for lh in leg.get_lines(): \n",
    "    lh.set_alpha(1)\n",
    "fig.set_size_inches(10, 4)\n",
    "plt.savefig('hospital_age.pdf', dpi=300, bbox_inches='tight',orientation='portrait', papertype='a4')"
   ]
  },
  {
   "cell_type": "code",
   "execution_count": null,
   "metadata": {},
   "outputs": [],
   "source": [
    "data=[df_sciensano[\"H_tot\"].values[:],df_sciensano[\"ICU_tot\"].values[:]]\n",
    "states = [[\"H_tot\"],[\"ICU\"]]"
   ]
  },
  {
   "cell_type": "code",
   "execution_count": null,
   "metadata": {},
   "outputs": [],
   "source": [
    "T = 62\n",
    "# Define data as a list containing data timeseries\n",
    "index = pd.date_range('15-03-2020',freq='D',periods=data[0].size + lag_time + T)\n",
    "print(index[1],index[50],index[52],index[57],index[64],index[81],index[108],index[170])"
   ]
  },
  {
   "cell_type": "code",
   "execution_count": null,
   "metadata": {},
   "outputs": [],
   "source": [
    "T = 62\n",
    "\n",
    "fig,ax=plt.subplots()\n",
    "\n",
    "ax.axvspan(index[50], index[64], alpha=0.20, color='black')\n",
    "ax.axvspan(index[64], index[81], alpha=0.10, color='black')\n",
    "ax.axvspan(index[81], index[-1], alpha=0.05, color='black')\n",
    "\n",
    "for i in range(300):\n",
    "    model.parameters['beta'] = np.random.choice(samples_dict['beta'],1,replace=False)\n",
    "    idx,model.parameters['l'] = random.choice(list(enumerate(samples_dict['l'])))\n",
    "    model.parameters['tau'] = samples_dict['tau'][idx]\n",
    "    prevention = samples_dict['prevention'][idx]\n",
    "    #model.parameters['dc'] = np.random.choice(samples_dict['dc'],1,replace=False)\n",
    "    #model.parameters['dICU'] = np.random.choice(samples_dict['dICU'],1,replace=False)\n",
    "    # Create a dictionary of past policies\n",
    "    chk = {'time':   [lag_time,lag_time+50,lag_time+52,lag_time+57,lag_time+64,lag_time+81,lag_time+108], \n",
    "          'Nc':      [prevention*(1.0*Nc_home + (1-0.60)*Nc_work + (1-0.70)*Nc_transport + (1-0.30)*Nc_others + (1-0.80)*Nc_leisure),\n",
    "                      prevention*(1.0*Nc_home + (1-0.50)*Nc_work + (1-0.60)*Nc_transport + (1-0.30)*Nc_others + (1-0.70)*Nc_leisure),\n",
    "                      prevention*(1.0*Nc_home + (1-0.40)*Nc_work + (1-0.55)*Nc_transport + (1-0.25)*Nc_others + (1-0.65)*Nc_leisure),\n",
    "                      prevention*(1.0*Nc_home + (1-0.30)*Nc_work + (1-0.50)*Nc_transport + (1-0.20)*Nc_others + (1-0.60)*Nc_leisure),\n",
    "                      prevention*(1.0*Nc_home + (1-0.30)*Nc_work + (1-0.45)*Nc_transport + (1-0.85)*Nc_schools + (1-0.15)*Nc_others + (1-0.50)*Nc_leisure),\n",
    "                      prevention*(1.0*Nc_home + (1-0.25)*Nc_work + (1-0.35)*Nc_transport + (1-0.35)*Nc_schools + (1-0.10)*Nc_others + (1-0.30)*Nc_leisure),\n",
    "                      prevention*(1.0*Nc_home + (1-0.20)*Nc_work + (1-0.15)*Nc_transport + (1-0.00)*Nc_others + (1-0.00)*Nc_leisure)]\n",
    "                  }\n",
    "    y_model = model.sim(data[0].size+lag_time-1+T,checkpoints=chk)\n",
    "    ax = plot_fit(y_model,data,'15-03-2020',lag_time,states,T=T,ax=ax,\n",
    "                  legend_text=None,\n",
    "                  plt_kwargs={'linewidth': 2,'alpha': 0.05})\n",
    "\n",
    "legend_text=['Hospital (total)','ICU (total)']\n",
    "leg=ax.legend(legend_text, loc=\"upper left\", bbox_to_anchor=(1,1))\n",
    "for lh in leg.get_lines(): \n",
    "    lh.set_alpha(1)\n",
    "#fig.set_size_inches(10, 4)\n",
    "plt.savefig('lockdown_release.pdf', dpi=300, bbox_inches='tight',orientation='portrait', papertype='a4')"
   ]
  },
  {
   "cell_type": "code",
   "execution_count": null,
   "metadata": {},
   "outputs": [],
   "source": [
    "T = 3\n",
    "\n",
    "fig,ax=plt.subplots()\n",
    "\n",
    "for i in range(200):\n",
    "    model.parameters['beta'] = np.random.choice(samples_dict['beta'],1,replace=False)\n",
    "    idx,model.parameters['l'] = random.choice(list(enumerate(samples_dict['l'])))\n",
    "    model.parameters['tau'] = samples_dict['tau'][idx]\n",
    "    prevention = samples_dict['prevention'][idx]\n",
    "    #model.parameters['dc'] = np.random.choice(samples_dict['dc'],1,replace=False)\n",
    "    #model.parameters['dICU'] = np.random.choice(samples_dict['dICU'],1,replace=False)\n",
    "    # Create a dictionary of past policies\n",
    "    chk = {'time':   [lag_time], \n",
    "          'Nc':      [prevention*(1.0*Nc_home + (1-0.60)*Nc_work + (1-0.70)*Nc_transport + (1-0.30)*Nc_others + (1-0.80)*Nc_leisure),\n",
    "                     ]\n",
    "                  }\n",
    "    y_model = model.sim(data[0].size+lag_time-1+T,checkpoints=chk)\n",
    "    ax = plot_fit(y_model,data,'15-03-2020',lag_time,states,T=T,ax=ax,\n",
    "                  legend_text=None,\n",
    "                  plt_kwargs={'linewidth': 2,'alpha': 0.05})\n",
    "\n",
    "legend_text=['Hospital (total)','ICU (total)']\n",
    "#leg=ax.legend(legend_text, loc=\"upper left\", bbox_to_anchor=(1,1))\n",
    "#for lh in leg.get_lines(): \n",
    "#    lh.set_alpha(1)\n",
    "#fig.set_size_inches(6, 4)\n",
    "plt.savefig('continued_lockdown.pdf', dpi=300, bbox_inches='tight',orientation='portrait', papertype='a4')"
   ]
  },
  {
   "cell_type": "code",
   "execution_count": null,
   "metadata": {},
   "outputs": [],
   "source": [
    "fig,ax=plt.subplots()\n",
    "for i in range(300):\n",
    "    model.parameters['beta'] = np.random.choice(samples_dict['beta'],1,replace=False)\n",
    "    model.parameters['l'] = np.random.choice(samples_dict['l'],1,replace=False)\n",
    "    prevention = np.random.choice(samples_dict['prevention'],1,replace=False)\n",
    "    #model.parameters['dc'] = np.random.choice(samples_dict['dc'],1,replace=False)\n",
    "    #model.parameters['dICU'] = np.random.choice(samples_dict['dICU'],1,replace=False)\n",
    "    # Create a dictionary of past policies\n",
    "    chk = {'time':   [lag_time,lag_time+50,lag_time+52,lag_time+57], \n",
    "          'Nc':      [prevention*(1.3*Nc_home + (1-0.60)*Nc_work + (1-0.70)*Nc_transport + (1-0.30)*Nc_others + (1-0.80)*Nc_leisure),\n",
    "                      prevention*(1.2*Nc_home + (1-0.50)*Nc_work + (1-0.60)*Nc_transport + (1-0.30)*Nc_others + (1-0.70)*Nc_leisure),\n",
    "                      prevention*(1.1*Nc_home + (1-0.40)*Nc_work + (1-0.55)*Nc_transport + (1-0.25)*Nc_others + (1-0.65)*Nc_leisure),\n",
    "                      prevention*(Nc_home + (1-0.30)*Nc_work + (1-0.50)*Nc_transport + (1-0.20)*Nc_others + (1-0.60)*Nc_leisure),]\n",
    "                              #0.2*Nc_home + prevention*((1-0.30)*Nc_work + (1-0.45)*Nc_transport + (1-0.85)*Nc_schools + (1-0.15)*Nc_others + (1-0.50)*Nc_leisure),\n",
    "                              #0.2*Nc_home + prevention*((1-0.25)*Nc_work + (1-0.35)*Nc_transport + (1-0.35)*Nc_schools + (1-0.10)*Nc_others + (1-0.30)*Nc_leisure),\n",
    "                              #0.2*Nc_home + prevention*((1-0.20)*Nc_work + (1-0.15)*Nc_transport + (1-0.00)*Nc_others + (1-0.00)*Nc_leisure)]\n",
    "                  }\n",
    "    y_model = model.sim(data[0].size+lag_time-1+T,checkpoints=chk)\n",
    "    #ax.plot(1-y_model[\"S\"][:,lag_time+15]/y_model[\"S\"][:,0],alpha=0.2,color='blue',linewidth=0.1)\n",
    "    ax.plot(1-y_model[\"S\"][:,lag_time+36]/y_model[\"S\"][:,0],alpha=0.2,color='red',linewidth=2)\n",
    "ax.set_xlabel('age group 0 to 80+')\n",
    "ax.set_ylabel(\"fraction 'immune'\" )"
   ]
  },
  {
   "cell_type": "markdown",
   "metadata": {},
   "source": [
    "### Re-estimating beta"
   ]
  },
  {
   "cell_type": "code",
   "execution_count": null,
   "metadata": {},
   "outputs": [],
   "source": [
    "samples_dict.keys()"
   ]
  },
  {
   "cell_type": "code",
   "execution_count": null,
   "metadata": {},
   "outputs": [],
   "source": [
    "T = 62\n",
    "from copy import deepcopy\n",
    "# Create checkpoints dictionary\n",
    "# checkpoints are hardcoded!\n",
    "# Create a dictionary of past policies\n",
    "chk = {'time':   [lag_time,lag_time+50,lag_time+52,lag_time+57,lag_time+64,lag_time+81,lag_time+108], \n",
    "        'Nc':    [prevention*(1.0*Nc_home + (1-0.60)*Nc_work + (1-0.70)*Nc_transport + (1-0.30)*Nc_others + (1-0.80)*Nc_leisure),\n",
    "                  prevention*(1.0*Nc_home + (1-0.50)*Nc_work + (1-0.60)*Nc_transport + (1-0.30)*Nc_others + (1-0.70)*Nc_leisure),\n",
    "                  prevention*(1.0*Nc_home + (1-0.40)*Nc_work + (1-0.55)*Nc_transport + (1-0.25)*Nc_others + (1-0.65)*Nc_leisure),\n",
    "                  prevention*(1.0*Nc_home + (1-0.30)*Nc_work + (1-0.50)*Nc_transport + (1-0.20)*Nc_others + (1-0.60)*Nc_leisure),\n",
    "                  prevention*(1.0*Nc_home + (1-0.30)*Nc_work + (1-0.45)*Nc_transport + (1-0.85)*Nc_schools + (1-0.15)*Nc_others + (1-0.50)*Nc_leisure),\n",
    "                  prevention*(1.0*Nc_home + (1-0.25)*Nc_work + (1-0.35)*Nc_transport + (1-0.35)*Nc_schools + (1-0.10)*Nc_others + (1-0.30)*Nc_leisure),\n",
    "                  prevention*(1.0*Nc_home + (1-0.20)*Nc_work + (1-0.15)*Nc_transport + (1-0.00)*Nc_others + (1-0.00)*Nc_leisure)],\n",
    "        'beta': [np.random.choice(samples_dict['beta'],1,replace=False),\n",
    "                   0.01,\n",
    "                   0.01,\n",
    "                   0.01,\n",
    "                   0.01,\n",
    "                   0.01,\n",
    "                   0.01,]\n",
    "      }\n",
    "\n",
    "\n",
    "# define dataset\n",
    "data=[df_sciensano[\"H_in\"].values[50:]]\n",
    "# Redine lag_time\n",
    "model.extraTime = lag_time+50\n",
    "# define samples_dict without lag_time\n",
    "smpls=deepcopy(samples_dict)\n",
    "del smpls['lag_time']\n",
    "# set optimisation settings\n",
    "parNames = ['sigma_H_in','beta'] # must be a list!\n",
    "states = [[\"H_in\"]]\n",
    "bounds=((1,500),(0.001,0.04)) # must be a list!"
   ]
  },
  {
   "cell_type": "code",
   "execution_count": null,
   "metadata": {},
   "outputs": [],
   "source": [
    "# run optimisation\n",
    "theta = MCMC.fit_pso(model,data,parNames,states,bounds,checkpoints=chk,samples=smpls,maxiter=50,popsize=20)"
   ]
  },
  {
   "cell_type": "code",
   "execution_count": null,
   "metadata": {},
   "outputs": [],
   "source": [
    "parNames = ['sigma_ICU','beta'] # must be a list!\n",
    "bounds=((1,200),(0.0001,0.10))\n",
    "\n",
    "pos = [theta[0],theta[1]] + [1, 1e-2 ]* np.random.randn(8, 2)\n",
    "nwalkers, ndim = pos.shape\n",
    "sampler = emcee.EnsembleSampler(nwalkers, ndim, objective_fcns.log_probability,\n",
    "                                args=(model,bounds,data,states,parNames,chk,smpls))\n",
    "sampler.run_mcmc(pos, 12000, progress=True);"
   ]
  },
  {
   "cell_type": "code",
   "execution_count": null,
   "metadata": {},
   "outputs": [],
   "source": [
    "samples = sampler.get_chain(discard=500,flat=False)\n",
    "flat_samples = sampler.get_chain(discard=500,flat=True)"
   ]
  },
  {
   "cell_type": "code",
   "execution_count": null,
   "metadata": {},
   "outputs": [],
   "source": [
    "sampler.get_autocorr_time()"
   ]
  },
  {
   "cell_type": "code",
   "execution_count": null,
   "metadata": {},
   "outputs": [],
   "source": [
    "mean = np.mean(flat_samples[:,1])\n",
    "p10 = np.percentile(flat_samples[:,1],10)\n",
    "p90 = np.percentile(flat_samples[:,1],90)\n",
    "print(mean,p10,p90)"
   ]
  },
  {
   "cell_type": "code",
   "execution_count": null,
   "metadata": {},
   "outputs": [],
   "source": [
    "traceplot(samples,labels=[\"sigma2_ICU\",\"beta\"],plt_kwargs={'linewidth':2,'color': 'red','alpha': 0.15})"
   ]
  },
  {
   "cell_type": "code",
   "execution_count": null,
   "metadata": {},
   "outputs": [],
   "source": [
    "import corner\n",
    "\n",
    "fig = corner.corner(\n",
    "    flat_samples,labels=['$\\sigma_{data}$','$\\\\beta$']\n",
    ");\n",
    "fig.set_size_inches(8, 8)\n",
    "plt.savefig('corner_beta.pdf', dpi=600, bbox_inches='tight',\n",
    "                    orientation='portrait', papertype='a4')"
   ]
  },
  {
   "cell_type": "code",
   "execution_count": null,
   "metadata": {},
   "outputs": [],
   "source": [
    "# define dataset\n",
    "data=[df_sciensano[\"H_tot\"].values[:],df_sciensano[\"ICU_tot\"].values[:]]\n",
    "states = [[\"H_tot\"],[\"ICU\"]]"
   ]
  },
  {
   "cell_type": "code",
   "execution_count": null,
   "metadata": {},
   "outputs": [],
   "source": [
    "T = 1\n",
    "start_date='15-03-2020'\n",
    "#data=[df_sciensano[\"H_in\"].values[:]]\n",
    "\n",
    "fig,ax=plt.subplots()\n",
    "for i in range(10):\n",
    "    model.parameters['beta'] = np.random.choice(samples_dict['beta'],1,replace=False)\n",
    "    idx,model.parameters['l'] = random.choice(list(enumerate(samples_dict['l'])))\n",
    "    model.parameters['tau'] = samples_dict['tau'][idx]\n",
    "    prevention = samples_dict['prevention'][idx]\n",
    "    # Create a dictionary of past policies\n",
    "    chk = {'time':   [lag_time,lag_time+50,lag_time+52,lag_time+57,lag_time+64,lag_time+81,lag_time+108], \n",
    "            'Nc':    [prevention*(1.0*Nc_home + (1-0.60)*Nc_work + (1-0.70)*Nc_transport + (1-0.30)*Nc_others + (1-0.80)*Nc_leisure),\n",
    "                      prevention*(1.0*Nc_home + (1-0.50)*Nc_work + (1-0.60)*Nc_transport + (1-0.30)*Nc_others + (1-0.70)*Nc_leisure),\n",
    "                      prevention*(1.0*Nc_home + (1-0.40)*Nc_work + (1-0.55)*Nc_transport + (1-0.25)*Nc_others + (1-0.65)*Nc_leisure),\n",
    "                      prevention*(1.0*Nc_home + (1-0.30)*Nc_work + (1-0.50)*Nc_transport + (1-0.20)*Nc_others + (1-0.60)*Nc_leisure),\n",
    "                      prevention*(1.0*Nc_home + (1-0.30)*Nc_work + (1-0.45)*Nc_transport + (1-0.85)*Nc_schools + (1-0.15)*Nc_others + (1-0.50)*Nc_leisure),\n",
    "                      prevention*(1.0*Nc_home + (1-0.25)*Nc_work + (1-0.35)*Nc_transport + (1-0.35)*Nc_schools + (1-0.10)*Nc_others + (1-0.30)*Nc_leisure),\n",
    "                      prevention*(1.0*Nc_home + (1-0.20)*Nc_work + (1-0.15)*Nc_transport + (1-0.00)*Nc_others + (1-0.00)*Nc_leisure)],\n",
    "            'beta': [np.random.choice(samples_dict['beta'],1,replace=False),\n",
    "                       theta[1],\n",
    "                       theta[1],\n",
    "                       theta[1],\n",
    "                       theta[1],\n",
    "                       theta[1],\n",
    "                       theta[1]\n",
    "                    ]\n",
    "          }\n",
    "    y_model = model.sim(data[0].size+lag_time-1+T,checkpoints=chk)\n",
    "    ax = plot_fit(y_model,data,start_date,lag_time,states,T=T,ax=ax,plt_kwargs={'linewidth': 2,'alpha': 0.05})\n",
    "    \n",
    "#plt.scatter(pd.date_range('15-03-2020',freq='D',periods=df_sciensano[\"H_in\"][:50].size),df_sciensano[\"H_in\"][:50], marker='o',color='red',linestyle='None',facecolors='none')\n",
    "legend_text=['daily \\nhospitalizations']\n",
    "leg=ax.legend(legend_text, loc=\"upper left\", bbox_to_anchor=(1,1))\n",
    "plt.savefig('plot_fit_beta.pdf', dpi=600, bbox_inches='tight',orientation='portrait', papertype='a4')"
   ]
  },
  {
   "cell_type": "code",
   "execution_count": null,
   "metadata": {},
   "outputs": [],
   "source": [
    "R_0 = (model.parameters['a']*model.parameters['da']+model.parameters['omega'])*mean*model.parameters['s']*np.sum(Nc_total,axis=1)"
   ]
  },
  {
   "cell_type": "code",
   "execution_count": null,
   "metadata": {},
   "outputs": [],
   "source": [
    "print(R_0,np.mean(R_0))"
   ]
  },
  {
   "cell_type": "code",
   "execution_count": null,
   "metadata": {},
   "outputs": [],
   "source": []
  }
 ],
 "metadata": {
  "kernelspec": {
   "display_name": "Python 3",
   "language": "python",
   "name": "python3"
  },
  "language_info": {
   "codemirror_mode": {
    "name": "ipython",
    "version": 3
   },
   "file_extension": ".py",
   "mimetype": "text/x-python",
   "name": "python",
   "nbconvert_exporter": "python",
   "pygments_lexer": "ipython3",
   "version": "3.8.2"
  },
  "toc": {
   "base_numbering": 1,
   "nav_menu": {},
   "number_sections": true,
   "sideBar": true,
   "skip_h1_title": false,
   "title_cell": "Table of Contents",
   "title_sidebar": "Contents",
   "toc_cell": false,
   "toc_position": {
    "height": "calc(100% - 180px)",
    "left": "10px",
    "top": "150px",
    "width": "288px"
   },
   "toc_section_display": true,
   "toc_window_display": true
  }
 },
 "nbformat": 4,
 "nbformat_minor": 4
}
