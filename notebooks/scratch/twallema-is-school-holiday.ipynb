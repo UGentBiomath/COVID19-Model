{
 "cells": [
  {
   "cell_type": "code",
   "execution_count": 1,
   "id": "a6cc04a0",
   "metadata": {},
   "outputs": [],
   "source": [
    "import pandas as pd\n",
    "from dateutil.easter import *"
   ]
  },
  {
   "cell_type": "code",
   "execution_count": 2,
   "id": "bea455cd",
   "metadata": {},
   "outputs": [],
   "source": [
    "def is_Belgian_school_holiday(d):\n",
    "    \n",
    "    holiday_weeks = []\n",
    "    # Extract week of Easter\n",
    "    d_easter = easter(d.year)\n",
    "    w_easter = d_easter.isocalendar().week\n",
    "    # Easter holiday \"logic\"\n",
    "    if pd.Timestamp(d_easter) >= pd.Timestamp(year=d.year,month=4,day=15):\n",
    "        w_easter_holiday = w_easter - 1\n",
    "    elif d_easter.month == 3:\n",
    "        w_easter_holiday = w_easter + 1\n",
    "    else:\n",
    "        w_easter_holiday = w_easter\n",
    "    holiday_weeks.append(w_easter_holiday)\n",
    "    holiday_weeks.append(w_easter_holiday+1)\n",
    "    # Herfstvakantie\n",
    "    holiday_weeks.append(44)\n",
    "    # Compute krokusweek \n",
    "    w_krokus_holiday = w_easter - 7\n",
    "    holiday_weeks.append(w_krokus_holiday)\n",
    "    # Extract week of Christmas\n",
    "    w_christmas_current = pd.Timestamp(year=d.year,month=12,day=25).isocalendar().week\n",
    "    w_christmas_previous = pd.Timestamp(year=d.year-1,month=12,day=25).isocalendar().week\n",
    "    # Christmas logic\n",
    "    if w_christmas_previous == 52:\n",
    "        if pd.Timestamp(year=d.year-1, month=12, day=31).isocalendar().week != 53:\n",
    "            holiday_weeks.append(1)   \n",
    "    if w_christmas_current == 51:\n",
    "        holiday_weeks.append(w_christmas_current)\n",
    "        holiday_weeks.append(w_christmas_current+1)\n",
    "    if w_christmas_current == 52:\n",
    "        holiday_weeks.append(w_christmas_current)\n",
    "        if pd.Timestamp(year=d.year, month=12, day=31).isocalendar().week == 53:\n",
    "            holiday_weeks.append(w_christmas_current+1)\n",
    "            \n",
    "    # Public holidays\n",
    "    public_holidays = [\n",
    "        pd.Timestamp(year=d.year, month=1, day=1),       # New Year\n",
    "        pd.Timestamp(d_easter + pd.Timedelta(days=1)),   # Easter monday\n",
    "        pd.Timestamp(year=d.year, month=5, day=1),       # Labor day\n",
    "        pd.Timestamp(d_easter + pd.Timedelta(days=40)),  # Acension Day\n",
    "        pd.Timestamp(year=d.year, month=7, day=21),      # National holiday\n",
    "        pd.Timestamp(year=d.year, month=8, day=15),      # Assumption Mary\n",
    "        pd.Timestamp(year=d.year, month=11, day=1),      # All Saints\n",
    "        pd.Timestamp(year=d.year, month=11, day=11),     # Armistice\n",
    "    ]\n",
    "    \n",
    "    # Logic\n",
    "    if ((d.isocalendar().week in holiday_weeks)| \\\n",
    "            (pd.Timestamp(year=d.year, month=7, day=1) < d < pd.Timestamp(year=d.year, month=9, day=1))| \\\n",
    "               (pd.Timestamp(d) in public_holidays)):\n",
    "        return True\n",
    "    else:\n",
    "        return False"
   ]
  },
  {
   "cell_type": "code",
   "execution_count": null,
   "id": "4a5254dd",
   "metadata": {},
   "outputs": [],
   "source": []
  }
 ],
 "metadata": {
  "kernelspec": {
   "display_name": "Python 3 (ipykernel)",
   "language": "python",
   "name": "python3"
  },
  "language_info": {
   "codemirror_mode": {
    "name": "ipython",
    "version": 3
   },
   "file_extension": ".py",
   "mimetype": "text/x-python",
   "name": "python",
   "nbconvert_exporter": "python",
   "pygments_lexer": "ipython3",
   "version": "3.9.7"
  }
 },
 "nbformat": 4,
 "nbformat_minor": 5
}
