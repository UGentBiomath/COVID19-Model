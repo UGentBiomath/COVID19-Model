{
 "cells": [
  {
   "cell_type": "markdown",
   "metadata": {},
   "source": [
    "# Covid-19: From model prediction to model predictive control\n",
    "\n",
    "## Calibration of the age-stratified national model (google)\n",
    "\n",
    "*Original code by Ryan S. McGee. Modified by T.W. Alleman in consultation with the BIOMATH research unit headed by prof. Ingmar Nopens.*\n",
    "\n",
    "Copyright (c) 2020 by T.W. Alleman, BIOMATH, Ghent University. All Rights Reserved.\n",
    "\n",
    "This notebook accompanies our preprint: \"*A deterministic, age-stratified, extended SEIRD model for assessing the effect of non-pharmaceutical interventions on SARS-CoV-2 spread in Belgium*\"(https://doi.org/10.1101/2020.07.17.20156034)"
   ]
  },
  {
   "cell_type": "markdown",
   "metadata": {},
   "source": [
    "### Load required packages"
   ]
  },
  {
   "cell_type": "code",
   "execution_count": 1,
   "metadata": {
    "ExecuteTime": {
     "end_time": "2020-11-26T21:03:24.589156Z",
     "start_time": "2020-11-26T21:03:21.858701Z"
    }
   },
   "outputs": [],
   "source": [
    "import random\n",
    "import os\n",
    "import numpy as np\n",
    "import json\n",
    "import corner\n",
    "import random\n",
    "\n",
    "import pandas as pd\n",
    "import datetime\n",
    "import scipy\n",
    "import matplotlib.dates as mdates\n",
    "import matplotlib\n",
    "import math\n",
    "import xarray as xr\n",
    "import emcee\n",
    "import matplotlib.pyplot as plt\n",
    "import datetime\n",
    "\n",
    "from covid19model.optimization import objective_fcns,pso\n",
    "from covid19model.models import models\n",
    "from covid19model.models.utils import draw_sample_COVID19_SEIRD_google\n",
    "from covid19model.models.time_dependant_parameter_fncs import google_lockdown\n",
    "from covid19model.data import google\n",
    "from covid19model.data import sciensano\n",
    "from covid19model.data import model_parameters\n",
    "from covid19model.visualization.output import population_status, infected, _apply_tick_locator \n",
    "from covid19model.visualization.optimization import plot_fit, traceplot\n",
    "\n",
    "# OPTIONAL: Load the \"autoreload\" extension so that package code can change\n",
    "%load_ext autoreload\n",
    "# OPTIONAL: always reload modules so that as you change code in src, it gets loaded\n",
    "%autoreload 2"
   ]
  },
  {
   "cell_type": "markdown",
   "metadata": {},
   "source": [
    "# Load data\n",
    "\n",
    "### Load interaction matrices"
   ]
  },
  {
   "cell_type": "code",
   "execution_count": 2,
   "metadata": {
    "ExecuteTime": {
     "end_time": "2020-11-26T21:03:24.943091Z",
     "start_time": "2020-11-26T21:03:24.591817Z"
    }
   },
   "outputs": [],
   "source": [
    "initN, Nc_home, Nc_work, Nc_schools, Nc_transport, Nc_leisure, Nc_others, Nc_total = model_parameters.get_interaction_matrices(dataset='willem_2012')\n",
    "levels = initN.size"
   ]
  },
  {
   "cell_type": "markdown",
   "metadata": {},
   "source": [
    "### Scrape high-level Sciensano data"
   ]
  },
  {
   "cell_type": "code",
   "execution_count": 3,
   "metadata": {
    "ExecuteTime": {
     "end_time": "2020-11-26T21:03:25.086789Z",
     "start_time": "2020-11-26T21:03:24.945505Z"
    }
   },
   "outputs": [
    {
     "data": {
      "text/html": [
       "<div>\n",
       "<style scoped>\n",
       "    .dataframe tbody tr th:only-of-type {\n",
       "        vertical-align: middle;\n",
       "    }\n",
       "\n",
       "    .dataframe tbody tr th {\n",
       "        vertical-align: top;\n",
       "    }\n",
       "\n",
       "    .dataframe thead th {\n",
       "        text-align: right;\n",
       "    }\n",
       "</style>\n",
       "<table border=\"1\" class=\"dataframe\">\n",
       "  <thead>\n",
       "    <tr style=\"text-align: right;\">\n",
       "      <th></th>\n",
       "      <th>H_tot</th>\n",
       "      <th>ICU_tot</th>\n",
       "      <th>H_in</th>\n",
       "      <th>H_out</th>\n",
       "      <th>H_tot_cumsum</th>\n",
       "      <th>D_tot</th>\n",
       "      <th>D_25_44</th>\n",
       "      <th>D_45_64</th>\n",
       "      <th>D_65_74</th>\n",
       "      <th>D_75_84</th>\n",
       "      <th>D_85+</th>\n",
       "    </tr>\n",
       "    <tr>\n",
       "      <th>DATE</th>\n",
       "      <th></th>\n",
       "      <th></th>\n",
       "      <th></th>\n",
       "      <th></th>\n",
       "      <th></th>\n",
       "      <th></th>\n",
       "      <th></th>\n",
       "      <th></th>\n",
       "      <th></th>\n",
       "      <th></th>\n",
       "      <th></th>\n",
       "    </tr>\n",
       "  </thead>\n",
       "  <tbody>\n",
       "    <tr>\n",
       "      <th>2020-11-24</th>\n",
       "      <td>4820</td>\n",
       "      <td>1105</td>\n",
       "      <td>286</td>\n",
       "      <td>528</td>\n",
       "      <td>4594</td>\n",
       "      <td>83</td>\n",
       "      <td>0.0</td>\n",
       "      <td>12.0</td>\n",
       "      <td>10</td>\n",
       "      <td>24</td>\n",
       "      <td>37</td>\n",
       "    </tr>\n",
       "    <tr>\n",
       "      <th>2020-11-25</th>\n",
       "      <td>4570</td>\n",
       "      <td>1071</td>\n",
       "      <td>272</td>\n",
       "      <td>429</td>\n",
       "      <td>4437</td>\n",
       "      <td>17</td>\n",
       "      <td>1.0</td>\n",
       "      <td>4.0</td>\n",
       "      <td>3</td>\n",
       "      <td>3</td>\n",
       "      <td>6</td>\n",
       "    </tr>\n",
       "  </tbody>\n",
       "</table>\n",
       "</div>"
      ],
      "text/plain": [
       "            H_tot  ICU_tot  H_in  H_out  H_tot_cumsum  D_tot  D_25_44  \\\n",
       "DATE                                                                    \n",
       "2020-11-24   4820     1105   286    528          4594     83      0.0   \n",
       "2020-11-25   4570     1071   272    429          4437     17      1.0   \n",
       "\n",
       "            D_45_64  D_65_74  D_75_84  D_85+  \n",
       "DATE                                          \n",
       "2020-11-24     12.0       10       24     37  \n",
       "2020-11-25      4.0        3        3      6  "
      ]
     },
     "execution_count": 3,
     "metadata": {},
     "output_type": "execute_result"
    }
   ],
   "source": [
    "df_sciensano = sciensano.get_sciensano_COVID19_data(update=False)\n",
    "df_sciensano.tail(2)"
   ]
  },
  {
   "cell_type": "markdown",
   "metadata": {},
   "source": [
    "### Scrape Google Community Mobility Reports"
   ]
  },
  {
   "cell_type": "code",
   "execution_count": 4,
   "metadata": {
    "ExecuteTime": {
     "end_time": "2020-11-26T21:03:25.339462Z",
     "start_time": "2020-11-26T21:03:25.252950Z"
    }
   },
   "outputs": [
    {
     "data": {
      "text/html": [
       "<div>\n",
       "<style scoped>\n",
       "    .dataframe tbody tr th:only-of-type {\n",
       "        vertical-align: middle;\n",
       "    }\n",
       "\n",
       "    .dataframe tbody tr th {\n",
       "        vertical-align: top;\n",
       "    }\n",
       "\n",
       "    .dataframe thead th {\n",
       "        text-align: right;\n",
       "    }\n",
       "</style>\n",
       "<table border=\"1\" class=\"dataframe\">\n",
       "  <thead>\n",
       "    <tr style=\"text-align: right;\">\n",
       "      <th></th>\n",
       "      <th>retail_recreation</th>\n",
       "      <th>grocery</th>\n",
       "      <th>parks</th>\n",
       "      <th>transport</th>\n",
       "      <th>work</th>\n",
       "      <th>residential</th>\n",
       "    </tr>\n",
       "    <tr>\n",
       "      <th>date</th>\n",
       "      <th></th>\n",
       "      <th></th>\n",
       "      <th></th>\n",
       "      <th></th>\n",
       "      <th></th>\n",
       "      <th></th>\n",
       "    </tr>\n",
       "  </thead>\n",
       "  <tbody>\n",
       "    <tr>\n",
       "      <th>2020-11-21</th>\n",
       "      <td>-58.0</td>\n",
       "      <td>-11.0</td>\n",
       "      <td>13.0</td>\n",
       "      <td>-41.0</td>\n",
       "      <td>-20.0</td>\n",
       "      <td>13.0</td>\n",
       "    </tr>\n",
       "    <tr>\n",
       "      <th>2020-11-22</th>\n",
       "      <td>-63.0</td>\n",
       "      <td>-18.0</td>\n",
       "      <td>-11.0</td>\n",
       "      <td>-45.0</td>\n",
       "      <td>-21.0</td>\n",
       "      <td>10.0</td>\n",
       "    </tr>\n",
       "  </tbody>\n",
       "</table>\n",
       "</div>"
      ],
      "text/plain": [
       "            retail_recreation  grocery  parks  transport  work  residential\n",
       "date                                                                       \n",
       "2020-11-21              -58.0    -11.0   13.0      -41.0 -20.0         13.0\n",
       "2020-11-22              -63.0    -18.0  -11.0      -45.0 -21.0         10.0"
      ]
     },
     "execution_count": 4,
     "metadata": {},
     "output_type": "execute_result"
    }
   ],
   "source": [
    "df_google = google.get_google_mobility_data(update=False, plot=False)\n",
    "df_google.tail(2)"
   ]
  },
  {
   "cell_type": "markdown",
   "metadata": {},
   "source": [
    "### Load time-dependant parameters"
   ]
  },
  {
   "cell_type": "code",
   "execution_count": 5,
   "metadata": {
    "ExecuteTime": {
     "end_time": "2020-11-26T21:03:27.685679Z",
     "start_time": "2020-11-26T21:03:27.632156Z"
    }
   },
   "outputs": [],
   "source": [
    "from covid19model.models.time_dependant_parameter_fncs import google_lockdown\n",
    "\n",
    "def switch_beta(t,param,samples_dict):\n",
    "    if t < pd.to_datetime('2020-05-04'):\n",
    "        return np.random.choice(samples_dict['beta'],1,replace=False)\n",
    "    elif pd.to_datetime('2020-05-04') < t <= pd.to_datetime('2020-09-01'):\n",
    "        return np.random.choice(samples_dict['beta_summer'],1,replace=False)\n",
    "    else:\n",
    "        return np.random.choice(samples_dict['beta'],1,replace=False)"
   ]
  },
  {
   "cell_type": "markdown",
   "metadata": {
    "heading_collapsed": true
   },
   "source": [
    "# Wave 1 - March 2020 - September 2020\n",
    "\n",
    "### Initialize the model using the google lockdown function"
   ]
  },
  {
   "cell_type": "code",
   "execution_count": null,
   "metadata": {
    "hidden": true
   },
   "outputs": [],
   "source": [
    "# Load samples dictionary of the first wave\n",
    "with open('../../data/interim/model_parameters/COVID19_SEIRD/calibrations/national/BE_2020-11-05.json', 'r') as fp:\n",
    "    samples_dict = json.load(fp)"
   ]
  },
  {
   "cell_type": "code",
   "execution_count": 15,
   "metadata": {
    "ExecuteTime": {
     "end_time": "2020-11-26T21:05:41.540890Z",
     "start_time": "2020-11-26T21:05:40.343076Z"
    },
    "hidden": true
   },
   "outputs": [],
   "source": [
    "initN, Nc_home, Nc_work, Nc_schools, Nc_transport, Nc_leisure, Nc_others, Nc_total = model_parameters.get_interaction_matrices(dataset='willem_2012',intensity='all')\n",
    "initN, Nc_home_15, Nc_work_15, Nc_schools_15, Nc_transport_15, Nc_leisure_15, Nc_others_15, Nc_total_15 = model_parameters.get_interaction_matrices(dataset='willem_2012',intensity='more_15_min')\n",
    "initN, Nc_home_1hr, Nc_work_1hr, Nc_schools_1hr, Nc_transport_1hr, Nc_leisure_1hr, Nc_others_1hr, Nc_total_1hr = model_parameters.get_interaction_matrices(dataset='willem_2012',intensity='more_one_hour')"
   ]
  },
  {
   "cell_type": "code",
   "execution_count": 16,
   "metadata": {
    "ExecuteTime": {
     "end_time": "2020-11-26T21:05:41.597451Z",
     "start_time": "2020-11-26T21:05:41.544019Z"
    },
    "hidden": true
   },
   "outputs": [],
   "source": [
    "Nc_all = {'total': Nc_total, 'home':Nc_home, 'work': Nc_work, 'schools': Nc_schools, 'transport': Nc_transport, 'leisure': Nc_leisure, 'others': Nc_others}\n",
    "Nc_15min = {'total': Nc_total_15, 'home': Nc_home_15, 'work': Nc_work_15, 'schools': Nc_schools_15, 'transport': Nc_transport_15, 'leisure': Nc_leisure_15, 'others': Nc_others_15}\n",
    "Nc_1hr = {'total': Nc_total_1hr, 'home': Nc_home_1hr, 'work': Nc_work_1hr, 'schools': Nc_schools_1hr, 'transport': Nc_transport_1hr, 'leisure': Nc_leisure_1hr, 'others': Nc_others_1hr}"
   ]
  },
  {
   "cell_type": "code",
   "execution_count": null,
   "metadata": {
    "hidden": true
   },
   "outputs": [],
   "source": [
    "# Load the model parameters using `get_COVID19_SEIRD_parameters()`.\n",
    "params = model_parameters.get_COVID19_SEIRD_parameters()\n",
    "\n",
    "params.update({'df_google': df_google,\n",
    "              'Nc_all' : Nc_all,\n",
    "              'Nc_15min' : Nc_15min,\n",
    "              'Nc_1hr' : Nc_1hr,\n",
    "               'l' : 5,\n",
    "               'tau' : 5,\n",
    "              })\n",
    "\n",
    "# Define the initial condition: one exposed inidividual in every age category\n",
    "initial_states = {'S': initN, 'E': np.ones(levels)}\n",
    "# Initialize the model\n",
    "model = models.COVID19_SEIRD(initial_states, params, time_dependent_parameters={'Nc': google_lockdown})"
   ]
  },
  {
   "cell_type": "markdown",
   "metadata": {
    "hidden": true
   },
   "source": [
    "## Perform calibration"
   ]
  },
  {
   "cell_type": "code",
   "execution_count": null,
   "metadata": {
    "hidden": true
   },
   "outputs": [],
   "source": [
    "# Date of first data collection\n",
    "start_data = '2020-03-15'\n",
    "# Last datapoint used to calibrate basic reproduction number\n",
    "end_calibration = '2020-05-04'\n",
    "# Start of recalibration beta\n",
    "start_recalibrate_beta = end_calibration\n",
    "# End of recalibration beta\n",
    "end_recalibrate_beta = '2020-09-01'\n",
    "\n",
    "# Path where figures should be stored\n",
    "fig_path = '../../results/calibrations/COVID19_SEIRD/national/'\n",
    "# Path where MCMC samples should be saved\n",
    "samples_path = '../../data/interim/model_parameters/COVID19_SEIRD/calibrations/national/'\n",
    "# Spatial unit: Belgium\n",
    "spatial_unit = 'BE'"
   ]
  },
  {
   "cell_type": "code",
   "execution_count": null,
   "metadata": {
    "hidden": true
   },
   "outputs": [],
   "source": [
    "from covid19model.optimization.run_optimization import google_calibration_wave1\n",
    "samples_dict = google_calibration_wave1(model, df_sciensano['H_in'], spatial_unit, start_data, end_calibration, start_recalibrate_beta,\n",
    "                        end_recalibrate_beta, fig_path, \n",
    "                        samples_path, initN, Nc_total,warmup=samples_dict['warmup'],maxiter=100, popsize=100, steps_mcmc=5000,\n",
    "                        discard=1000, omega=0.8, phip=0.8, phig=0.8)"
   ]
  },
  {
   "cell_type": "markdown",
   "metadata": {
    "hidden": true
   },
   "source": [
    "## Visualizations\n",
    "\n",
    "### Goodness-of-fit: $\\beta$, $l$ and $\\tau$"
   ]
  },
  {
   "cell_type": "code",
   "execution_count": null,
   "metadata": {
    "hidden": true
   },
   "outputs": [],
   "source": [
    "params.update({'samples_dict': samples_dict})\n",
    "\n",
    "# Re-initialize the model\n",
    "model = models.COVID19_SEIRD(initial_states, params, time_dependent_parameters={'Nc': google_lockdown, 'beta': switch_beta})"
   ]
  },
  {
   "cell_type": "code",
   "execution_count": null,
   "metadata": {
    "hidden": true
   },
   "outputs": [],
   "source": [
    "end_sim = '2020-09-01'\n",
    "\n",
    "fig,ax=plt.subplots(figsize=(10,4))\n",
    "for i in range(10):\n",
    "    model.parameters = draw_sample_COVID19_SEIRD_google(model.parameters,samples_dict)\n",
    "    y_model = model.sim(end_sim,start_date=start_data,excess_time=samples_dict['warmup'])\n",
    "    ax.plot(y_model['time'],y_model[\"H_in\"].sum(dim=\"Nc\"),color='blue',alpha=0.01)\n",
    "\n",
    "ax.scatter(df_sciensano[:end_calibration].index,df_sciensano['H_in'][:end_calibration],color='black',alpha=0.6,linestyle='None',facecolors='none')\n",
    "ax.scatter(df_sciensano[end_calibration:end_sim].index,df_sciensano['H_in'][end_calibration:end_sim],color='red',alpha=0.6,linestyle='None',facecolors='none')\n",
    "ax = _apply_tick_locator(ax)\n",
    "ax.set_xlim('2020-03-01',end_sim)\n",
    "\n",
    "plt.savefig(fig_path+'others/BETA_RAMP_FIT_WAVE1_GOOGLE.pdf', dpi=400, bbox_inches='tight',orientation='portrait', papertype='a4')"
   ]
  },
  {
   "cell_type": "markdown",
   "metadata": {
    "hidden": true
   },
   "source": [
    "### $R_0$"
   ]
  },
  {
   "cell_type": "code",
   "execution_count": null,
   "metadata": {
    "hidden": true
   },
   "outputs": [],
   "source": [
    "fig,ax=plt.subplots(figsize=(10,4))\n",
    "ax.hist(samples_dict['R0'],bins=30)\n",
    "plt.savefig(fig_path+'others/R0_GOOGLE.pdf', dpi=400, bbox_inches='tight',orientation='portrait', papertype='a4')"
   ]
  },
  {
   "cell_type": "markdown",
   "metadata": {
    "hidden": true
   },
   "source": [
    "### Seroprelevance"
   ]
  },
  {
   "cell_type": "code",
   "execution_count": null,
   "metadata": {
    "hidden": true
   },
   "outputs": [],
   "source": [
    "end_sim = '2020-06-01'\n",
    "\n",
    "fig,ax=plt.subplots(figsize=(10,4))\n",
    "for i in range(10):\n",
    "    model.parameters = draw_sample_COVID19_SEIRD_google(model.parameters,samples_dict)\n",
    "    y_model = model.sim(end_sim,start_date=start_data,excess_time=samples_dict['warmup'])\n",
    "    ax.plot((1-y_model[\"S\"].sel(time=end_sim)/y_model[\"S\"].isel(time=0))*100,alpha=0.03,color='blue',linewidth=2)\n",
    "\n",
    "ax.set_xlabel('age')\n",
    "ax.set_ylabel(\"seroprelevance (%)\" )\n",
    "ax.set_ylim()\n",
    "plt.xticks(np.arange(9), ('[0-10[', '[10-20[', '[20-30[', '[30-40[', '[40-50[', '[50-60[', '[60-70[', '[70-80[', '[80-$\\infty$['))\n",
    "\n",
    "plt.savefig(fig_path+'others/SEROPRELEVANCE_'+end_sim+'_GOOGLE.pdf', dpi=400, bbox_inches='tight',orientation='portrait', papertype='a4')"
   ]
  },
  {
   "cell_type": "markdown",
   "metadata": {
    "hidden": true
   },
   "source": [
    "### Lockdown release"
   ]
  },
  {
   "cell_type": "code",
   "execution_count": null,
   "metadata": {
    "hidden": true
   },
   "outputs": [],
   "source": [
    "end_sim = '2020-09-01'\n",
    "n=100\n",
    "percentile = 0.99\n",
    "\n",
    "y_model = model.sim(end_sim,start_date=start_data,excess_time=samples_dict['warmup'],N=n,draw_fcn=draw_sample_COVID19_SEIRD_google,samples=samples_dict)\n",
    "\n",
    "fig,ax = plt.subplots(figsize=(10,4))\n",
    "ax.fill_between(pd.to_datetime(y_model['time'].values),y_model[\"H_tot\"].quantile(1-percentile,dim=\"draws\").sum(dim=\"Nc\"), y_model[\"H_tot\"].quantile(percentile,dim=\"draws\").sum(dim=\"Nc\"),alpha=0.30)\n",
    "ax.plot(y_model['time'],y_model[\"H_tot\"].mean(dim=\"draws\").sum(dim=\"Nc\"),'--')\n",
    "ax.scatter(df_sciensano[:end_sim].index,df_sciensano['H_tot'][:end_sim],color='black',alpha=0.4,linestyle='None',facecolors='none')\n",
    "ax = _apply_tick_locator(ax)\n",
    "plt.savefig(fig_path+'others/LOCKDOWN_RELEASE_WAVE1_GOOGLE.pdf', dpi=400, bbox_inches='tight',orientation='portrait', papertype='a4')"
   ]
  },
  {
   "cell_type": "markdown",
   "metadata": {
    "hidden": true
   },
   "source": [
    "### Save results to a .csv"
   ]
  },
  {
   "cell_type": "code",
   "execution_count": null,
   "metadata": {
    "hidden": true
   },
   "outputs": [],
   "source": [
    "index = y_model['time'].values\n",
    "columns = ['WAVE1_INCIDENCES_MEAN','WAVE1_INCIDENCES_MEDIAN','WAVE1_INCIDENCES_LL','WAVE1_INCIDENCES_UL']\n",
    "data = np.transpose(np.array([\n",
    "        y_model[\"H_tot\"].mean(dim=\"draws\").sum(dim=\"Nc\").values.tolist(),\n",
    "        y_model[\"H_tot\"].median(dim=\"draws\").sum(dim=\"Nc\").values.tolist(),\n",
    "        y_model[\"H_tot\"].quantile(1-percentile,dim=\"draws\").sum(dim=\"Nc\").values.tolist(),\n",
    "        y_model[\"H_tot\"].quantile(percentile,dim=\"draws\").sum(dim=\"Nc\").values.tolist()\n",
    "       ]))"
   ]
  },
  {
   "cell_type": "code",
   "execution_count": null,
   "metadata": {
    "hidden": true
   },
   "outputs": [],
   "source": [
    "df = pd.DataFrame(data,columns=columns,index=index)\n",
    "df.head()"
   ]
  },
  {
   "cell_type": "code",
   "execution_count": null,
   "metadata": {
    "hidden": true
   },
   "outputs": [],
   "source": [
    "df.to_csv('../../results/predictions/FAGG/COVID19_SEIRD/WAVE1.csv',index=True)"
   ]
  },
  {
   "cell_type": "markdown",
   "metadata": {},
   "source": [
    "# Wave 2: September 2020 - present"
   ]
  },
  {
   "cell_type": "markdown",
   "metadata": {},
   "source": [
    "## Recalibrate ramp as final calibration step"
   ]
  },
  {
   "cell_type": "code",
   "execution_count": 6,
   "metadata": {
    "ExecuteTime": {
     "end_time": "2020-11-26T21:03:32.801190Z",
     "start_time": "2020-11-26T21:03:32.395557Z"
    }
   },
   "outputs": [],
   "source": [
    "# Load samples dictionary of the first wave\n",
    "with open('../../data/interim/model_parameters/COVID19_SEIRD/calibrations/national/google/BE_2020-11-10_WAVE1_GOOGLE.json', 'r') as fp:\n",
    "    samples_dict = json.load(fp)\n",
    "\n",
    "with open('../../data/interim/model_parameters/COVID19_SEIRD/calibrations/national/google/initial_states_2020-09-01.json', 'r') as fp:\n",
    "    initial_states = json.load(fp)    "
   ]
  },
  {
   "cell_type": "code",
   "execution_count": 7,
   "metadata": {
    "ExecuteTime": {
     "end_time": "2020-11-26T21:03:35.498009Z",
     "start_time": "2020-11-26T21:03:35.440224Z"
    }
   },
   "outputs": [],
   "source": [
    "# Start of data collection\n",
    "start_data = '2020-09-01'\n",
    "# Start data of recalibration ramp\n",
    "start_calibration = '2020-09-01'\n",
    "# Last datapoint used to recalibrate the ramp\n",
    "end_calibration = '2020-11-23'\n",
    "# Path where figures should be stored\n",
    "fig_path = '../../results/calibrations/COVID19_SEIRD/national/'\n",
    "# Path where MCMC samples should be saved\n",
    "samples_path = '../../data/interim/model_parameters/COVID19_SEIRD/calibrations/national/'\n",
    "# Spatial unit: Belgium\n",
    "spatial_unit = 'BE'"
   ]
  },
  {
   "cell_type": "code",
   "execution_count": 17,
   "metadata": {
    "ExecuteTime": {
     "end_time": "2020-11-26T21:05:57.400462Z",
     "start_time": "2020-11-26T21:05:56.933859Z"
    }
   },
   "outputs": [],
   "source": [
    "# Load the model parameters using `get_COVID19_SEIRD_parameters()`.\n",
    "params = model_parameters.get_COVID19_SEIRD_parameters()\n",
    "\n",
    "params.update({'df_google': df_google,\n",
    "              'Nc_all' : Nc_all,\n",
    "              'Nc_15min' : Nc_15min,\n",
    "              'Nc_1hr' : Nc_1hr,\n",
    "               'l' : 5,\n",
    "               'tau' : 5,\n",
    "               'prevention': 0.8\n",
    "              })\n",
    "\n",
    "# Initialize the model\n",
    "model = models.COVID19_SEIRD(initial_states, params, time_dependent_parameters={'Nc': google_lockdown})"
   ]
  },
  {
   "cell_type": "code",
   "execution_count": null,
   "metadata": {
    "ExecuteTime": {
     "end_time": "2020-11-26T13:49:07.923355Z",
     "start_time": "2020-11-26T13:45:45.094674Z"
    }
   },
   "outputs": [],
   "source": [
    "warmup=0\n",
    "maxiter = 100\n",
    "popsize = 100\n",
    "steps_mcmc = 3000\n",
    "discard = 1000\n",
    "\n",
    "# define dataset\n",
    "data=[df_sciensano['H_in'][start_calibration:end_calibration]]\n",
    "states = [[\"H_in\"]]\n",
    "\n",
    "####################################################\n",
    "####### CALIBRATING BETA AND COMPLIANCE RAMP #######\n",
    "####################################################\n",
    "\n",
    "print('------------------------------------')\n",
    "print('CALIBRATING BETA AND COMPLIANCE RAMP')\n",
    "print('------------------------------------\\n')\n",
    "print('Using data from '+start_calibration+' until '+end_calibration+'\\n')\n",
    "print('1) Particle swarm optimization\\n')\n",
    "\n",
    "# set PSO optimisation settings\n",
    "parNames = ['sigma_data','beta','l','tau','prevention']\n",
    "bounds=((1,2000),(0.010,0.060),(0.1,20),(0.1,20),(0,1))\n",
    "# run PSO optimisation\n",
    "theta = pso.fit_pso(model,data,parNames,states,bounds,maxiter=maxiter,popsize=popsize,start_date=start_calibration,warmup=warmup)\n"
   ]
  },
  {
   "cell_type": "code",
   "execution_count": null,
   "metadata": {
    "ExecuteTime": {
     "end_time": "2020-11-26T21:02:46.277664Z",
     "start_time": "2020-11-26T20:09:59.929272Z"
    },
    "scrolled": true
   },
   "outputs": [],
   "source": [
    "\n",
    "# run MCMC sampler\n",
    "print('\\n2) Markov-Chain Monte-Carlo sampling\\n')\n",
    "parNames_mcmc = parNames\n",
    "bounds_mcmc=((1,2000),(0.020,0.060),(0.001,20),(0.001,20),(0,1))\n",
    "\n",
    "pos = theta + [1, 1e-3, 1e-3, 1e-3, 1e-3 ]* np.random.randn(10, 5)\n",
    "nwalkers, ndim = pos.shape\n",
    "sampler = emcee.EnsembleSampler(nwalkers, ndim, objective_fcns.log_probability,\n",
    "                    args=(model, bounds_mcmc, data, states, parNames_mcmc, None, start_calibration, warmup))\n",
    "sampler.run_mcmc(pos, steps_mcmc, progress=True)\n",
    "\n",
    "try:\n",
    "    sampler.get_autocorr_time()\n",
    "except:\n",
    "    print('Warning: The chain is shorter than 50 times the integrated autocorrelation time for 4 parameter(s).\\nUse this estimate with caution and run a longer chain!')\n",
    "from covid19model.optimization.run_optimization import checkplots\n",
    "checkplots(sampler, discard, fig_path, spatial_unit, \n",
    "            figname='BETA_RAMP_GOOGLE_WAVE2', labels=['$\\sigma_{data}$','$\\\\beta$','l','$\\\\tau$','$\\Sigma$'])\n",
    "\n",
    "#############################################\n",
    "####### Output to dictionary ################\n",
    "#############################################\n",
    "\n",
    "samples_dict_wave2 = {\n",
    "    'beta': sampler.get_chain(discard=discard,flat=True)[:,1].tolist(),\n",
    "    'l' : sampler.get_chain(discard=discard,flat=True)[:,2].tolist(),\n",
    "    'tau' : sampler.get_chain(discard=discard,flat=True)[:,3].tolist(),\n",
    "    'prevention': sampler.get_chain(discard=discard,flat=True)[:,4].tolist(),\n",
    "}\n",
    "\n",
    "with open(samples_path+str(spatial_unit)+'_'+str(datetime.date.today())+'_WAVE2_GOOGLE.json', 'w') as fp:\n",
    "    json.dump(samples_dict_wave2, fp)"
   ]
  },
  {
   "cell_type": "markdown",
   "metadata": {},
   "source": [
    "## Visualize fit"
   ]
  },
  {
   "cell_type": "code",
   "execution_count": 12,
   "metadata": {
    "ExecuteTime": {
     "end_time": "2020-11-26T21:04:21.360198Z",
     "start_time": "2020-11-26T21:04:21.206550Z"
    }
   },
   "outputs": [],
   "source": [
    "# Load samples dictionary of the first wave\n",
    "with open('../../data/interim/model_parameters/COVID19_SEIRD/calibrations/national/BE_2020-11-26_WAVE2_GOOGLE.json', 'r') as fp:\n",
    "    samples_dict_wave2 = json.load(fp)"
   ]
  },
  {
   "cell_type": "code",
   "execution_count": 19,
   "metadata": {
    "ExecuteTime": {
     "end_time": "2020-11-26T21:08:24.911334Z",
     "start_time": "2020-11-26T21:07:00.852954Z"
    }
   },
   "outputs": [
    {
     "name": "stderr",
     "output_type": "stream",
     "text": [
      "/home/data/jvergeyn/.conda/envs/COVID_MODEL/lib/python3.7/site-packages/ipykernel_launcher.py:19: MatplotlibDeprecationWarning: savefig() got unexpected keyword argument \"papertype\" which is no longer supported as of 3.3 and will become an error two minor releases later\n"
     ]
    },
    {
     "data": {
      "image/png": "[encoded data removed]",
      "text/plain": [
       "<Figure size 720x288 with 1 Axes>"
      ]
     },
     "metadata": {
      "needs_background": "light"
     },
     "output_type": "display_data"
    }
   ],
   "source": [
    "end_sim = '2021-01-01'\n",
    "\n",
    "fig,ax=plt.subplots(figsize=(10,4))\n",
    "for i in range(100):\n",
    "    # Sampling\n",
    "    idx, model.parameters['beta'] = random.choice(list(enumerate(samples_dict_wave2['beta'])))\n",
    "    model.parameters['l'] = samples_dict_wave2['l'][idx] \n",
    "    model.parameters['tau'] = samples_dict_wave2['tau'][idx]  \n",
    "    model.parameters['prevention'] = samples_dict_wave2['prevention'][idx]  \n",
    "   \n",
    "    # Simulate\n",
    "    y_model = model.sim(end_sim,start_date=start_calibration,warmup=0)\n",
    "    # Plot\n",
    "    ax.plot(y_model['time'],y_model[\"H_in\"].sum(dim=\"Nc\"),color='blue',alpha=0.1)\n",
    "\n",
    "ax.scatter(df_sciensano[start_calibration:end_calibration].index,df_sciensano['H_in'][start_calibration:end_calibration],color='black',alpha=0.6,linestyle='None',facecolors='none')\n",
    "ax = _apply_tick_locator(ax)\n",
    "ax.set_xlim('2020-09-01',end_sim)\n",
    "plt.savefig(fig_path+'others/BETA_RAMP_FIT_WAVE2_GOOGLE.pdf', dpi=400, bbox_inches='tight',orientation='portrait', papertype='a4')"
   ]
  },
  {
   "cell_type": "markdown",
   "metadata": {},
   "source": [
    "## Make a prediction under current contact behaviour"
   ]
  },
  {
   "cell_type": "code",
   "execution_count": null,
   "metadata": {},
   "outputs": [],
   "source": [
    "end_sim = '2021-02-01'\n",
    "n=200\n",
    "percentile = 0.95\n",
    "\n",
    "y_model = model.sim(end_sim,start_date=start_calibration,warmup=0,N=n,draw_fcn=draw_sample_COVID19_SEIRD_google,samples=samples_dict_wave2)\n",
    "\n",
    "fig,ax = plt.subplots(figsize=(10,4))\n",
    "ax.fill_between(pd.to_datetime(y_model['time'].values),y_model[\"H_tot\"].quantile(1-percentile,dim=\"draws\").sum(dim=\"Nc\"), y_model[\"H_tot\"].quantile(percentile,dim=\"draws\").sum(dim=\"Nc\"),alpha=0.20, color = 'blue')\n",
    "ax.fill_between(pd.to_datetime(y_model['time'].values),y_model[\"H_tot\"].quantile(1-0.68,dim=\"draws\").sum(dim=\"Nc\"), y_model[\"H_tot\"].quantile(0.68,dim=\"draws\").sum(dim=\"Nc\"),alpha=0.35, color = 'blue')\n",
    "ax.plot(y_model['time'],y_model[\"H_tot\"].mean(dim=\"draws\").sum(dim=\"Nc\"),'--', color='blue')\n",
    "ax.scatter(df_sciensano[start_calibration:end_calibration].index,df_sciensano['H_tot'][start_calibration:end_calibration],color='black',alpha=0.4,linestyle='None',facecolors='none')\n",
    "ax.set_ylabel('Total patients in Belgian hospitals')\n",
    "ax = _apply_tick_locator(ax)\n",
    "plt.savefig(fig_path+'others/LOCKDOWN_WAVE2_GOOGLE.pdf', dpi=400, bbox_inches='tight',orientation='portrait', papertype='a4')"
   ]
  },
  {
   "cell_type": "code",
   "execution_count": null,
   "metadata": {},
   "outputs": [],
   "source": []
  }
 ],
 "metadata": {
  "kernelspec": {
   "display_name": "COVID19",
   "language": "python",
   "name": "python3"
  },
  "language_info": {
   "codemirror_mode": {
    "name": "ipython",
    "version": 3
   },
   "file_extension": ".py",
   "mimetype": "text/x-python",
   "name": "python",
   "nbconvert_exporter": "python",
   "pygments_lexer": "ipython3",
   "version": "3.7.7"
  },
  "toc": {
   "base_numbering": 1,
   "nav_menu": {},
   "number_sections": true,
   "sideBar": true,
   "skip_h1_title": false,
   "title_cell": "Table of Contents",
   "title_sidebar": "Contents",
   "toc_cell": false,
   "toc_position": {},
   "toc_section_display": true,
   "toc_window_display": false
  }
 },
 "nbformat": 4,
 "nbformat_minor": 4
}
