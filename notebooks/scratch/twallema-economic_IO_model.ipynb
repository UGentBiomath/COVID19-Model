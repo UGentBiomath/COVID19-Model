{
 "cells": [
  {
   "cell_type": "markdown",
   "metadata": {},
   "source": [
    "# Belgian production network model\n",
    "\n",
    "## Prototyping\n",
    "\n",
    "*Original code by Cyril Garneau. Modified by T.W. Alleman in consultation with the BIOMATH research unit headed by prof. Ingmar Nopens.*\n",
    "\n",
    "Copyright (c) 2022 by T.W. Alleman, BIOMATH, Ghent University. All Rights Reserved."
   ]
  },
  {
   "cell_type": "code",
   "execution_count": 4,
   "metadata": {},
   "outputs": [],
   "source": [
    "import os\n",
    "import numpy as np\n",
    "import pandas as pd\n",
    "import matplotlib.pyplot as plt"
   ]
  },
  {
   "cell_type": "code",
   "execution_count": 5,
   "metadata": {},
   "outputs": [
    {
     "name": "stdout",
     "output_type": "stream",
     "text": [
      "The autoreload extension is already loaded. To reload it, use:\n",
      "  %reload_ext autoreload\n"
     ]
    }
   ],
   "source": [
    "# OPTIONAL: Load the \"autoreload\" extension so that package code can change\n",
    "%load_ext autoreload\n",
    "# OPTIONAL: always reload modules so that as you change code in src, it gets loaded\n",
    "%autoreload 2"
   ]
  },
  {
   "cell_type": "code",
   "execution_count": 6,
   "metadata": {},
   "outputs": [
    {
     "ename": "ImportError",
     "evalue": "cannot import name 'get_sectoral_labels' from 'covid19model.data.economic_parameters' (/home/twallema/Documents/PhD/Corona/Python/git/COVID19-Model/src/covid19model/data/economic_parameters.py)",
     "output_type": "error",
     "traceback": [
      "\u001b[0;31m---------------------------------------------------------------------------\u001b[0m",
      "\u001b[0;31mImportError\u001b[0m                               Traceback (most recent call last)",
      "Input \u001b[0;32mIn [6]\u001b[0m, in \u001b[0;36m<cell line: 2>\u001b[0;34m()\u001b[0m\n\u001b[1;32m      1\u001b[0m \u001b[38;5;28;01mfrom\u001b[39;00m \u001b[38;5;21;01mcovid19model\u001b[39;00m\u001b[38;5;21;01m.\u001b[39;00m\u001b[38;5;21;01mmodels\u001b[39;00m\u001b[38;5;21;01m.\u001b[39;00m\u001b[38;5;21;01mODE_models\u001b[39;00m \u001b[38;5;28;01mimport\u001b[39;00m Economic_Model\n\u001b[0;32m----> 2\u001b[0m \u001b[38;5;28;01mfrom\u001b[39;00m \u001b[38;5;21;01mcovid19model\u001b[39;00m\u001b[38;5;21;01m.\u001b[39;00m\u001b[38;5;21;01mdata\u001b[39;00m\u001b[38;5;21;01m.\u001b[39;00m\u001b[38;5;21;01meconomic_parameters\u001b[39;00m \u001b[38;5;28;01mimport\u001b[39;00m get_sectoral_labels, get_economic_model_parameters\n\u001b[1;32m      3\u001b[0m \u001b[38;5;28;01mfrom\u001b[39;00m \u001b[38;5;21;01mcovid19model\u001b[39;00m\u001b[38;5;21;01m.\u001b[39;00m\u001b[38;5;21;01mdata\u001b[39;00m\u001b[38;5;21;01m.\u001b[39;00m\u001b[38;5;21;01meconomic_parameters\u001b[39;00m \u001b[38;5;28;01mimport\u001b[39;00m get_sectoral_conversion_matrices \u001b[38;5;28;01mas\u001b[39;00m get_convmat\n\u001b[1;32m      4\u001b[0m \u001b[38;5;28;01mfrom\u001b[39;00m \u001b[38;5;21;01mcovid19model\u001b[39;00m\u001b[38;5;21;01m.\u001b[39;00m\u001b[38;5;21;01mmodels\u001b[39;00m\u001b[38;5;21;01m.\u001b[39;00m\u001b[38;5;21;01meconomic_utils\u001b[39;00m \u001b[38;5;28;01mimport\u001b[39;00m \u001b[38;5;241m*\u001b[39m\n",
      "\u001b[0;31mImportError\u001b[0m: cannot import name 'get_sectoral_labels' from 'covid19model.data.economic_parameters' (/home/twallema/Documents/PhD/Corona/Python/git/COVID19-Model/src/covid19model/data/economic_parameters.py)"
     ]
    }
   ],
   "source": [
    "from covid19model.models.ODE_models import Economic_Model\n",
    "from covid19model.data.economic_parameters import get_sector_labels, get_economic_model_parameters\n",
    "from covid19model.data.economic_parameters import get_sectoral_conversion_matrices as get_convmat\n",
    "from covid19model.models.economic_utils import *\n",
    "from covid19model.models.time_dependant_parameter_fncs import *"
   ]
  },
  {
   "cell_type": "markdown",
   "metadata": {},
   "source": [
    "## Setup model"
   ]
  },
  {
   "cell_type": "code",
   "execution_count": null,
   "metadata": {},
   "outputs": [],
   "source": [
    "# Load the parameters using `get_economic_parameters()`.\n",
    "params = get_economic_model_parameters()\n",
    "\n",
    "# Parameters\n",
    "# ----------\n",
    "start_date = '2020-03-01'\n",
    "end_date = '2021-09-01'\n",
    "t_start_lockdown = pd.Timestamp('2020-03-15')\n",
    "t_end_lockdown =pd.Timestamp('2020-05-04')\n",
    "t_end_pandemic = pd.Timestamp('2020-09-01')\n",
    "                    \n",
    "params.update({'rho': 1-(1-0.6)/90, # Economic recovery time (0.6 quarters?)\n",
    "               'delta_S': 0.5, # household savings rate (delta_S = 1; households save all money they are not spending due to shock)\n",
    "               'L': 0.5, # Fraction of population believing in L-shaped recovery\n",
    "               'l_start_lockdown': sum((1-params['l_s'])*params['l_0']), # Verify this must be the sum\n",
    "               'zeta': 1,\n",
    "               'tau': 10, # Restock rate (days)\n",
    "               'gamma_F': 1/7, # Firing rate (days-1)\n",
    "               'gamma_H': 1/28 }) # Hiring rate (days-1)\n",
    "\n",
    "\n",
    "# Time-dependent parameters\n",
    "# -------------------------\n",
    "params.update({'epsilon_S': np.zeros([params['c_s'].shape[0]]),\n",
    "                'epsilon_D': np.zeros([params['c_s'].shape[0]]),\n",
    "                'epsilon_F': np.zeros([params['c_s'].shape[0]]),\n",
    "                't_start_lockdown': t_start_lockdown,\n",
    "                't_end_lockdown': t_end_lockdown,\n",
    "                't_end_pandemic': t_end_pandemic,\n",
    "                'b': 0.8,\n",
    "                'b_s': 0,\n",
    "                't_start_compensation': pd.Timestamp('2020-04-01'),\n",
    "                't_end_compensation': pd.Timestamp('2020-07-01')})\n",
    "\n",
    "# Load initial states\n",
    "initial_states = {'x': params['x_0'],\n",
    "                  'c': params['c_0'],\n",
    "                  'c_desired': params['c_0'],\n",
    "                  'f': params['f_0'],\n",
    "                  'd': params['x_0'],\n",
    "                  'l': params['l_0'],\n",
    "                  'O': params['O_j'],\n",
    "                  'S': params['S_0']}\n",
    "\n",
    "coordinates = {'NACE64': get_sector_labels('NACE64')}\n",
    "time_dependent_parameters = {'epsilon_S': labor_supply_shock,\n",
    "                             'epsilon_D': household_demand_shock,\n",
    "                             'epsilon_F': other_demand_shock,\n",
    "                             'b': government_furloughing,\n",
    "                             'zeta': compute_income_expectations}\n",
    "\n",
    "# Initialize the model\n",
    "model = Economic_Model(initial_states, params, coordinates=coordinates, time_dependent_parameters=time_dependent_parameters)"
   ]
  },
  {
   "cell_type": "markdown",
   "metadata": {},
   "source": [
    "## Simulate"
   ]
  },
  {
   "cell_type": "code",
   "execution_count": null,
   "metadata": {
    "scrolled": false
   },
   "outputs": [],
   "source": [
    "out=model.sim([start_date, end_date])\n",
    "simtime = out['date'].values"
   ]
  },
  {
   "cell_type": "markdown",
   "metadata": {},
   "source": [
    "## Illustrate household demand shock"
   ]
  },
  {
   "cell_type": "code",
   "execution_count": null,
   "metadata": {},
   "outputs": [],
   "source": [
    "for idx,time in enumerate(simtime):\n",
    "    epsilon_t = household_demand_shock(time,{}, params['epsilon_D'], params['t_start_lockdown'], params['t_end_lockdown'], params['t_end_pandemic'], params['c_s'], params['on_site'])\n",
    "    if idx == 0:\n",
    "        epsilon = np.expand_dims(epsilon_t,axis=1)\n",
    "    else:\n",
    "        epsilon = np.append(epsilon, np.expand_dims(epsilon_t,axis=1), axis=1)\n",
    "\n",
    "fig,ax = plt.subplots(figsize=(12,4))\n",
    "plottime = 600\n",
    "ax.plot(simtime,epsilon[23,:],color='black')\n",
    "ax.plot(simtime,epsilon[7,:],color='green')\n",
    "ax.plot(simtime,epsilon[-28,:],color='red')\n",
    "ax.xaxis.set_major_locator(plt.MaxNLocator(5))\n",
    "for tick in ax.get_xticklabels():\n",
    "    tick.set_rotation(45)\n",
    "ax.set_title('Illustration of household demand shocks')\n",
    "ax.set_xlabel('time (days)')\n",
    "ax.set_ylabel('demand drop (-)')\n",
    "lgd=ax.legend(['electricity','paper manufacturing','restaurants'],bbox_to_anchor=(1.05, 1), loc='upper left')\n",
    "ax.grid(False)\n",
    "fig.savefig('demand_shocks.jpg',dpi=400,bbox_extra_artists=(lgd,), bbox_inches='tight')\n",
    "plt.show()"
   ]
  },
  {
   "cell_type": "markdown",
   "metadata": {},
   "source": [
    "## Illustrate long-term expectation of income"
   ]
  },
  {
   "cell_type": "code",
   "execution_count": null,
   "metadata": {},
   "outputs": [],
   "source": [
    "fig,ax = plt.subplots(figsize=(12,4))\n",
    "\n",
    "color=['red','black','blue']\n",
    "i=0\n",
    "for L in [0,0.5,1]:\n",
    "    zeta=[]\n",
    "    for time in simtime:\n",
    "        zeta.append(compute_income_expectations(time,{},{},params['t_start_lockdown'],params['t_end_lockdown'],params['l_0'],params['l_start_lockdown'],params['rho'],L))\n",
    "    ax.plot(simtime,zeta,color=color[i])\n",
    "    i=i+1\n",
    "    \n",
    "ax.xaxis.set_major_locator(plt.MaxNLocator(5))\n",
    "for tick in ax.get_xticklabels():\n",
    "    tick.set_rotation(45)\n",
    "ax.axvline(params['t_end_lockdown'],color='black',ls='-.')\n",
    "ax.set_title('Expected fraction of pre-pandemic labor income \\n households expect to retain in the long run')\n",
    "ax.set_ylabel('fraction of pre-pandemic income (-)')\n",
    "lgd=ax.legend(['0 %','50 %', '100 %'],bbox_to_anchor=(1.05, 1), loc='upper left',title='Belief in L-shaped recovery:')\n",
    "ax.grid(False)\n",
    "fig.savefig('l_p.jpg',dpi=400,bbox_extra_artists=(lgd,), bbox_inches='tight')\n",
    "plt.show()"
   ]
  },
  {
   "cell_type": "markdown",
   "metadata": {},
   "source": [
    "## Simulation results"
   ]
  },
  {
   "cell_type": "code",
   "execution_count": null,
   "metadata": {},
   "outputs": [],
   "source": [
    "fig, (ax1, ax2) = plt.subplots(1, 2,figsize=(12,4))\n",
    "fig.suptitle('Breakdown of total demand')\n",
    "\n",
    "ax1.plot(simtime,out['d'].sum(dim='NACE64'),color='black')\n",
    "ax1.plot(simtime,out['c'].sum(dim='NACE64'),color='blue',ls='--')\n",
    "ax1.plot(simtime,out['O'].sum(dim='NACE64'),color='red',ls='--')\n",
    "ax1.plot(simtime,out['f'].sum(dim='NACE64'),color='green',ls='--')\n",
    "ax1.axvline(t_start_lockdown,color='black',linestyle='-.')\n",
    "ax1.axvline(t_end_lockdown,color='black',linestyle='-.')\n",
    "ax1.axvline(t_end_pandemic,color='black',linestyle='-.')\n",
    "ax1.set_ylabel('Demand (M€)')\n",
    "ax1.grid('on')\n",
    "ax1.xaxis.set_major_locator(plt.MaxNLocator(4))\n",
    "for tick in ax1.get_xticklabels():\n",
    "    tick.set_rotation(45)\n",
    "ax1.grid(False)\n",
    "\n",
    "ax2.plot(out['date'].sel(date=slice(start_date, t_end_lockdown+pd.Timedelta(days=30))),out['d'].sum(dim='NACE64').sel(date=slice(start_date, t_end_lockdown+pd.Timedelta(days=30))),color='black')\n",
    "ax2.plot(out['date'].sel(date=slice(start_date, t_end_lockdown+pd.Timedelta(days=30))),out['c'].sum(dim='NACE64').sel(date=slice(start_date, t_end_lockdown+pd.Timedelta(days=30))),color='blue',ls='--')\n",
    "ax2.plot(out['date'].sel(date=slice(start_date, t_end_lockdown+pd.Timedelta(days=30))),out['O'].sum(dim='NACE64').sel(date=slice(start_date, t_end_lockdown+pd.Timedelta(days=30))),color='red',ls='--')\n",
    "ax2.plot(out['date'].sel(date=slice(start_date, t_end_lockdown+pd.Timedelta(days=30))),out['f'].sum(dim='NACE64').sel(date=slice(start_date, t_end_lockdown+pd.Timedelta(days=30))),color='green',ls='--')\n",
    "ax2.axvline(t_start_lockdown,color='black',linestyle='-.')\n",
    "ax2.axvline(t_end_lockdown,color='black',linestyle='-.')\n",
    "ax2.xaxis.set_major_locator(plt.MaxNLocator(4))\n",
    "for tick in ax2.get_xticklabels():\n",
    "    tick.set_rotation(45)\n",
    "lgd=ax2.legend(['Total demand','Household demand','B2B demand','Exogeneous demand'],bbox_to_anchor=(1.05, 1), loc='upper left')\n",
    "ax2.grid(False)\n",
    "plt.show()"
   ]
  },
  {
   "cell_type": "code",
   "execution_count": null,
   "metadata": {},
   "outputs": [],
   "source": [
    "fig,ax=plt.subplots(figsize=(12,4))\n",
    "ax.plot(simtime,out['c'].sum(dim='NACE64'),color='blue')\n",
    "ax.plot(simtime,out['c_desired'].sum(dim='NACE64'),color='red')\n",
    "ax.axvline(t_start_lockdown,color='black',linestyle='-.')\n",
    "ax.axvline(t_end_lockdown,color='black',linestyle='-.')\n",
    "ax.axvline(t_end_pandemic,color='black',linestyle='-.')\n",
    "ax.set_title('Consumer demand')\n",
    "ax.xaxis.set_major_locator(plt.MaxNLocator(5))\n",
    "for tick in ax.get_xticklabels():\n",
    "    tick.set_rotation(45)\n",
    "ax.set_ylabel('Demand (M€)')\n",
    "lgd=ax.legend(['Realised household consumption','Desired household consumption'],bbox_to_anchor=(1.05, 1), loc='upper left')\n",
    "ax.grid(False)\n",
    "plt.show()"
   ]
  },
  {
   "cell_type": "code",
   "execution_count": null,
   "metadata": {},
   "outputs": [],
   "source": [
    "fig,ax=plt.subplots(figsize=(8,3))\n",
    "ax.plot(simtime,(out['l'].sum(dim='NACE64')/np.sum(params['l_0'],axis=0)*100),color='blue')\n",
    "ax.axvline(t_start_lockdown,color='black',linestyle='-.')\n",
    "ax.axvline(t_end_lockdown,color='black',linestyle='-.')\n",
    "ax.axvline(t_end_pandemic,color='black',linestyle='-.')\n",
    "ax.set_title('Labor income')\n",
    "ax.xaxis.set_major_locator(plt.MaxNLocator(5))\n",
    "for tick in ax.get_xticklabels():\n",
    "    tick.set_rotation(45)\n",
    "ax.set_ylabel('Labor income as fraction of\\n pre-pandemic labor income (%)')\n",
    "ax.grid(False)\n",
    "plt.show()"
   ]
  },
  {
   "cell_type": "code",
   "execution_count": null,
   "metadata": {},
   "outputs": [],
   "source": [
    "fig,(ax1,ax2)=plt.subplots(1, 2,figsize=(12,4))\n",
    "\n",
    "fig.suptitle('Total output and demand (Belgium)')\n",
    "ax1.plot(simtime,out['x'].sum(dim='NACE64'),color='red',ls='--')\n",
    "ax1.plot(simtime,out['d'].sum(dim='NACE64'),color='blue')\n",
    "ax1.axvline(t_start_lockdown,color='black',linestyle='-.')\n",
    "ax1.axvline(t_end_lockdown,color='black',linestyle='-.')\n",
    "ax1.axvline(t_end_pandemic,color='black',linestyle='-.')\n",
    "ax1.xaxis.set_major_locator(plt.MaxNLocator(5))\n",
    "for tick in ax1.get_xticklabels():\n",
    "    tick.set_rotation(45)\n",
    "ax1.set_ylabel('Output (M€)')\n",
    "ax1.grid(False)\n",
    "\n",
    "ax2.plot(out['date'].sel(date=slice(start_date, t_end_pandemic)),out['x'].sum(dim='NACE64').sel(date=slice(start_date, t_end_pandemic)),color='red',ls='--')\n",
    "ax2.plot(out['date'].sel(date=slice(start_date, t_end_pandemic)),out['d'].sum(dim='NACE64').sel(date=slice(start_date, t_end_pandemic)),color='blue')\n",
    "ax2.axvline(t_start_lockdown,color='black',linestyle='-.')\n",
    "ax2.axvline(t_end_lockdown,color='black',linestyle='-.')\n",
    "ax2.axvline(t_end_pandemic,color='black',linestyle='-.')\n",
    "ax2.xaxis.set_major_locator(plt.MaxNLocator(5))\n",
    "for tick in ax2.get_xticklabels():\n",
    "    tick.set_rotation(45)\n",
    "lgd=ax2.legend(['Output (M€)','Demand (M€)'],bbox_to_anchor=(1.05, 1), loc='upper left')\n",
    "ax2.grid(False)\n",
    "plt.show()"
   ]
  },
  {
   "cell_type": "code",
   "execution_count": null,
   "metadata": {},
   "outputs": [],
   "source": [
    "pd.read_excel(\"../../data/interim/economical/conversion_matrices.xlsx\", sheet_name = 'NACE 21 to NACE 10', header=[0], index_col=[0])"
   ]
  },
  {
   "cell_type": "code",
   "execution_count": null,
   "metadata": {},
   "outputs": [],
   "source": [
    "def NACE64toNACE10(state_name,out):\n",
    "    for idx,date in enumerate(out['date'].values):\n",
    "        if idx == 0:\n",
    "            aggregated_state = np.matmul(get_convmat('NACE21_NACE10'),np.matmul(get_convmat('NACE38_NACE21'),np.matmul(get_convmat('NACE64_NACE38'),np.expand_dims(out[state_name].sel(date=date).values,axis=1))))\n",
    "        else:\n",
    "            aggregated_state = np.append(aggregated_state, np.matmul(get_convmat('NACE21_NACE10'),np.matmul(get_convmat('NACE38_NACE21'),np.matmul(get_convmat('NACE64_NACE38'),np.expand_dims(out[state_name].sel(date=date).values,axis=1)))), axis=1)\n",
    "    return aggregated_state"
   ]
  },
  {
   "cell_type": "code",
   "execution_count": null,
   "metadata": {},
   "outputs": [],
   "source": [
    "x_10 = NACE64toNACE10('x',out)"
   ]
  },
  {
   "cell_type": "code",
   "execution_count": null,
   "metadata": {},
   "outputs": [],
   "source": [
    "labels=pd.read_excel(\"../../data/interim/economical/conversion_matrices.xlsx\", sheet_name = 'NACE 21 to NACE 10', header=[0], index_col=[0]).index.values\n",
    "\n",
    "fig,ax=plt.subplots(figsize=(12,4))\n",
    "for i in range(x_10.shape[0]):\n",
    "    ax.plot(simtime,x_10[i,:]/x_10[i,0]*100,ls='--',linewidth=3, alpha=0.9)\n",
    "\n",
    "ax.xaxis.set_major_locator(plt.MaxNLocator(5))\n",
    "ax.grid(False)\n",
    "ax.set_ylabel('% of pre-pandemic productivity')\n",
    "ax.legend(labels,bbox_to_anchor=(1.05, 1), loc='upper left')\n",
    "fig.savefig('labor_breakdown_NACE10.jpg',dpi=400, bbox_inches='tight')\n",
    "plt.show()"
   ]
  },
  {
   "cell_type": "code",
   "execution_count": null,
   "metadata": {},
   "outputs": [],
   "source": [
    "fig,ax=plt.subplots(figsize=(12,4))\n",
    "ax.plot(simtime,out['S'].sum(dim='NACE64').sum(dim='NACE64'),color='blue')\n",
    "ax.axvline(t_start_lockdown,color='black',linestyle='-.')\n",
    "ax.axvline(t_end_lockdown,color='black',linestyle='-.')\n",
    "ax.axvline(t_end_pandemic,color='black',linestyle='-.')\n",
    "ax.set_title('Total stock')\n",
    "ax.xaxis.set_major_locator(plt.MaxNLocator(5))\n",
    "for tick in ax.get_xticklabels():\n",
    "    tick.set_rotation(45)\n",
    "ax.set_ylabel('Output (M€)')\n",
    "ax.grid(False)\n",
    "plt.show()"
   ]
  },
  {
   "cell_type": "code",
   "execution_count": null,
   "metadata": {},
   "outputs": [],
   "source": [
    "fig,ax=plt.subplots(figsize=(12,4))\n",
    "\n",
    "ax.plot(simtime,out['x'][-28,:],color='red',ls='--', label='Output (M€)')\n",
    "ax.plot(simtime,out['c'][-28,:],color='blue', label='Consumer demand (M€)')\n",
    "ax.legend(bbox_to_anchor=(1.05, 1), loc='upper left')\n",
    "\n",
    "ax.axvline(t_start_lockdown,color='black',linestyle='-.')\n",
    "ax.axvline(t_end_lockdown,color='black',linestyle='-.')\n",
    "ax.axvline(t_end_pandemic,color='black',linestyle='-.')\n",
    "ax.set_title('Output and demand of restaurants')\n",
    "\n",
    "ax.set_xlabel('Time (days)')\n",
    "ax.set_ylabel('Output (M€)')\n",
    "ax.xaxis.set_major_locator(plt.MaxNLocator(5))\n",
    "for tick in ax.get_xticklabels():\n",
    "    tick.set_rotation(45)\n",
    "ax.grid(False)\n",
    "plt.show()"
   ]
  },
  {
   "cell_type": "markdown",
   "metadata": {},
   "source": [
    "## To labor shock or not to labor shock"
   ]
  },
  {
   "cell_type": "code",
   "execution_count": null,
   "metadata": {},
   "outputs": [],
   "source": [
    "params.update({'l_s': np.zeros(63)})\n",
    "model = Economic_Model(initial_states, params, coordinates=coordinates,\n",
    "                              time_dependent_parameters={'epsilon_S': labor_supply_shock,\n",
    "                                                         'epsilon_D': household_demand_shock,\n",
    "                                                         'epsilon_F': other_demand_shock,\n",
    "                                                         'b': government_furloughing,\n",
    "                                                         'zeta': compute_income_expectations})\n",
    "out_no_labor_shock = model.sim([start_date, end_date])"
   ]
  },
  {
   "cell_type": "code",
   "execution_count": null,
   "metadata": {},
   "outputs": [],
   "source": [
    "fig,ax = plt.subplots(figsize=(12,4))\n",
    "ax.plot(simtime,out['x'].sum(dim='NACE64')/out['x'].sum(dim='NACE64').sel(date=simtime[0])*100,color='black')\n",
    "ax.plot(out_no_labor_shock['date'],out_no_labor_shock['x'].sum(dim='NACE64')/out['x'].sum(dim='NACE64').sel(date=simtime[0])*100,color='black',ls='--')\n",
    "ax.xaxis.set_major_locator(plt.MaxNLocator(5))\n",
    "for tick in ax.get_xticklabels():\n",
    "    tick.set_rotation(45)\n",
    "ax.axvline(t_start_lockdown,color='black',linestyle='-.')\n",
    "ax.axvline(t_end_lockdown,color='black',linestyle='-.')\n",
    "ax.axvline(t_end_pandemic,color='black',linestyle='-.')\n",
    "ax.set_title('Effect of labor constraints')\n",
    "ax.set_ylabel('relative productivity (%)')\n",
    "lgd=ax.legend(['With labor contraints','Consumption changes only'],bbox_to_anchor=(1.05, 1), loc='upper left')\n",
    "ax.grid(False)\n",
    "plt.show()"
   ]
  },
  {
   "cell_type": "code",
   "execution_count": null,
   "metadata": {},
   "outputs": [],
   "source": []
  }
 ],
 "metadata": {
  "kernelspec": {
   "display_name": "Python 3 (ipykernel)",
   "language": "python",
   "name": "python3"
  },
  "language_info": {
   "codemirror_mode": {
    "name": "ipython",
    "version": 3
   },
   "file_extension": ".py",
   "mimetype": "text/x-python",
   "name": "python",
   "nbconvert_exporter": "python",
   "pygments_lexer": "ipython3",
   "version": "3.10.2"
  }
 },
 "nbformat": 4,
 "nbformat_minor": 4
}
