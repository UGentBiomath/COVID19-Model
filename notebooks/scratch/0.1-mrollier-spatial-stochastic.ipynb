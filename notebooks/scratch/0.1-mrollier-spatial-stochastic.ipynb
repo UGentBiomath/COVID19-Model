{
 "cells": [
  {
   "cell_type": "markdown",
   "metadata": {},
   "source": [
    "# Spatial model\n",
    "\n",
    "**Open questions**\n",
    "* Why do we need `json` (\"lightweight data interchange format inspired by JavaScript object literal syntax\")? Doesn't seem like this is actively used (same for various other packages)\n",
    "* `xarray`: \"Xarray introduces labels in the form of dimensions, coordinates and attributes on top of raw NumPy-like arrays\"\n",
    "* When `stratified=False`, some important parameters (such as `h`) are not loaded (or at least that's what the function information says). This is wrong?\n",
    "* Why are the matrices found by `polymod.get_interaction_matrices()` not identical to those found in the [SOCRATES](https://lwillem.shinyapps.io/socrates_rshiny/) tool? How is this tool to be interpreted? See [this](https://www.medrxiv.org/content/10.1101/2020.03.03.20030627v2) paper.\n",
    "* When taking the parameter values with `get_COVID19_SEIRD_parameters(age_stratified=True)`, not all values are being copied from their age-stratified values. Examples:\n",
    "    * Mortalities for patients in ICU *is* age-stratified\n",
    "    * Average number of days in cohort when patient will recover *is not* age-stratified. Why not?\n",
    "* Should we work with the most recent data where possible? E.g. for initial population, almost all arrondissements have higher population now than 9 years ago (2011 census), and this is easily found online.\n",
    "* Why is the initial population per age in `polymod.get_interaction_matrices()[0]` significantly larger than the sum over all arrondissements in `../../data/interim/census_2011/initN.csv`? Which one should we use? Both are from roughly the same time period, no?\n",
    "    * Compare e.g. `polymod.get_interaction_matrices()[0]` with `initN_df['[0,10['].sum()`\n",
    "* In the relative susceptibility taken from the study of Davies, *all* $s$-values are below 1. I would expect the age-weighed average of $s$ to be precisely 1.\n",
    "    * Why is this not the case?\n",
    "    * Does that mean that we must not take `pars_dict['s'] = 1` in the case of no age stratification?\n",
    "* `pars_dict['Nc'] = np.array([11.2])` comes from the average number of contacts, weighed by age. The other matrices do *not* appear to be weighed by age. What do we want?\n",
    "* The way the code works now, there are about 40M people that will get mildly affected by COVID. This is not possible, as there are only 11M Belgians.\n",
    "* The simulation sometimes runs into a division by zero (but generally continues running)\n",
    "* What does the `.sim` attribute do? I cannot find this anywhere.\n",
    "    * This is inside `base.py` as well!\n",
    "* I do not understand how the `integrate` function defined in `models.py` is related to the rest of the code, and I also do not understand how `BaseModel` can be an argument of the class in `models.py`. Confusing.\n",
    "    * Update: `integrate` is part of `base.py`. The search function only works for the part of the code you can see!\n",
    "\n",
    "**Open tasks**\n",
    "* Go through the structure of all `data` and `src` modules, in particular `BaseModel`\n",
    "* Adjust `get_COVID19_SEIRD_parameters` to take and return data needed for spatial extension\n",
    "    * Now it take data from `/data/interim/census_2011/recurrent_mobility.csv`, which is deprecated\n",
    "    * Adapt `NIS_name.csv`\n",
    "    * It would be nice to be able to *choose* the level of stratification\n",
    "        * Age: take data straight from the full SOCRATES tool (probably not very convenient to implement)\n",
    "        * Space: choose between artificial, postal code, municipality, arrondissement, province\n",
    "    * Add additional parameters\n",
    "        * ag: areas of patches\n",
    "        * pi: mobility per age (perhaps also add pg: mobility per patch later)\n",
    "        * sigmag: average household size per patch\n",
    "        * xi: influence of density on contact (Arenas fixes this to 0.01)\n",
    "    * Adjust the function description (this is kind of a mess now)\n",
    "* Find a way to *first* work without age stratification\n",
    "    * Make a clear distinction between age-stratified case and non-stratified case\n",
    "    * Make available all non-stratified data, and make sure this is correct: currently the average $m_0$ is set to 0.5, which seems terribly high\n",
    "* Find a nice way to include $\\tau$ and $l$ parameters associated with `ramp_2` in the `get_COVID19_SEIRD_parameters`.\n",
    "* Find out whether the version without age-stratification works well, or if it is faulty. In the latter case: where does it break down?\n",
    "* Add newest geography for arrondissement (post-2019)\n",
    "* Change `read_csv` path to absolute path (relative path takes path relative to place of execution!) in function `read_coordinates_nis()`"
   ]
  },
  {
   "cell_type": "markdown",
   "metadata": {},
   "source": [
    "## Load packages"
   ]
  },
  {
   "cell_type": "code",
   "execution_count": 1,
   "metadata": {
    "ExecuteTime": {
     "end_time": "2020-10-01T10:01:29.384227Z",
     "start_time": "2020-10-01T10:01:27.676713Z"
    }
   },
   "outputs": [],
   "source": [
    "import random\n",
    "import os\n",
    "import numpy as np\n",
    "import json\n",
    "import corner # make beautiful corner plots for demonstrating the parameter distributions\n",
    "import random\n",
    "import os\n",
    "\n",
    "import pandas as pd\n",
    "import geopandas as gp\n",
    "import datetime\n",
    "import scipy\n",
    "import matplotlib\n",
    "import matplotlib.colors as colors\n",
    "import matplotlib.dates as mdates # sophisticated date plotting capabilities\n",
    "import math\n",
    "import xarray as xr # labels in the form of dimensions, coordinates and attributes\n",
    "import emcee # Goodman & Weare’s Affine Invariant Markov chain Monte Carlo (**MCMC**) Ensemble sampler\n",
    "import matplotlib.pyplot as plt\n",
    "\n",
    "from covid19model.optimization import objective_fcns\n",
    "from covid19model.models import models\n",
    "from covid19model.models.utils import name2nis # New function that translates names to NIS codes\n",
    "from covid19model.data import google, sciensano, polymod, model_parameters\n",
    "from covid19model.visualization.output import population_status, infected\n",
    "from covid19model.visualization.optimization import plot_fit, traceplot\n",
    "\n",
    "# OPTIONAL: Load the \"autoreload\" extension so that package code can change\n",
    "%load_ext autoreload\n",
    "# OPTIONAL: always reload modules so that as you change code in src, it gets loaded\n",
    "# This may be useful because the `covid19model` package is under construction\n",
    "%autoreload 2"
   ]
  },
  {
   "cell_type": "markdown",
   "metadata": {
    "heading_collapsed": true
   },
   "source": [
    "## Understand current code and data loads"
   ]
  },
  {
   "cell_type": "markdown",
   "metadata": {
    "hidden": true
   },
   "source": [
    "### `COVID19_SEIRD_sto_spatial`"
   ]
  },
  {
   "cell_type": "markdown",
   "metadata": {
    "hidden": true
   },
   "source": [
    "The class `COVID19_SEIRD_sto_spatial` inside `models.py` in which the integration happens, takes the same inputs as `BaseModel`. This is:\n",
    "1. `states`: dictionary of initial states of all (stratified) compartments. Typically, only the compartments S, E and T (total) are non-zero at the start. The states are matrices with dimensions of the stratification (e.g. 3x4)\n",
    "2. `parameters`: dictionary of parameters (both stratified and not) that are obtained with `parameters.get_COVID19_SEIRD_parameters()`\n",
    "3. `compliance`. Set to `None` by default, but we will generally use `ramp_2`\n",
    "4. `discrete`. Set to `False` by default, but we implement a discrete set now (i.e. `True`)"
   ]
  },
  {
   "cell_type": "code",
   "execution_count": 4,
   "metadata": {
    "ExecuteTime": {
     "end_time": "2020-09-30T15:58:51.928712Z",
     "start_time": "2020-09-30T15:58:51.854909Z"
    },
    "hidden": true
   },
   "outputs": [
    {
     "data": {
      "text/plain": [
       "array([[7.82887752e-01, 4.38638179e-02, 2.76247004e-02, ...,\n",
       "        1.28922010e-04, 1.38780752e-03, 7.07807112e-05],\n",
       "       [1.85681457e-01, 5.31539685e-01, 3.35513523e-02, ...,\n",
       "        9.19215132e-05, 1.42124801e-03, 5.65670850e-05],\n",
       "       [1.24653535e-01, 4.12220914e-02, 6.97745139e-01, ...,\n",
       "        1.42545654e-04, 1.07701161e-03, 1.05589373e-04],\n",
       "       ...,\n",
       "       [5.27698128e-03, 1.97585600e-03, 1.20479025e-03, ...,\n",
       "        5.28541481e-01, 1.71441652e-01, 1.18310402e-02],\n",
       "       [5.86311126e-03, 1.91296427e-03, 1.20905967e-03, ...,\n",
       "        2.98952424e-02, 5.86162064e-01, 7.87545029e-03],\n",
       "       [6.03638143e-03, 1.95774533e-03, 1.67224080e-03, ...,\n",
       "        2.85096664e-02, 7.63520679e-02, 4.33477445e-01]])"
      ]
     },
     "execution_count": 4,
     "metadata": {},
     "output_type": "execute_result"
    }
   ],
   "source": [
    "# When spatial==True, the mobility matrix is added to the parameter dictionary:\n",
    "# This is only the 43x43 matrix, and contains the old definitions of arrondissements (does not have 58000 yet)\n",
    "# Read as: fraction of (row) commutes to (column), so the sum of every row should be unity\n",
    "\n",
    "mobility_df=pd.read_csv('../../data/interim/census_2011/census-2011-updated_row-commutes-to-column_arrondissements.csv', index_col=['NIS'])\n",
    "NIS=mobility_df.values.astype(float)\n",
    "# Normalize recurrent mobility matrix\n",
    "for i in range(NIS.shape[0]):\n",
    "    NIS[i,:]=NIS[i,:]/sum(NIS[i,:])\n",
    "NIS"
   ]
  },
  {
   "cell_type": "code",
   "execution_count": 5,
   "metadata": {
    "ExecuteTime": {
     "end_time": "2020-09-30T15:58:57.643275Z",
     "start_time": "2020-09-30T15:58:57.567478Z"
    },
    "hidden": true
   },
   "outputs": [
    {
     "data": {
      "text/html": [
       "<div>\n",
       "<style scoped>\n",
       "    .dataframe tbody tr th:only-of-type {\n",
       "        vertical-align: middle;\n",
       "    }\n",
       "\n",
       "    .dataframe tbody tr th {\n",
       "        vertical-align: top;\n",
       "    }\n",
       "\n",
       "    .dataframe thead th {\n",
       "        text-align: right;\n",
       "    }\n",
       "</style>\n",
       "<table border=\"1\" class=\"dataframe\">\n",
       "  <thead>\n",
       "    <tr style=\"text-align: right;\">\n",
       "      <th></th>\n",
       "      <th>name</th>\n",
       "      <th>total</th>\n",
       "      <th>[0,10[</th>\n",
       "      <th>[10,20[</th>\n",
       "      <th>[20,30[</th>\n",
       "      <th>[30,40[</th>\n",
       "      <th>[40,50[</th>\n",
       "      <th>[50,60[</th>\n",
       "      <th>[60,70[</th>\n",
       "      <th>[70,80[</th>\n",
       "      <th>[80,inf[</th>\n",
       "    </tr>\n",
       "    <tr>\n",
       "      <th>NIS-code</th>\n",
       "      <th></th>\n",
       "      <th></th>\n",
       "      <th></th>\n",
       "      <th></th>\n",
       "      <th></th>\n",
       "      <th></th>\n",
       "      <th></th>\n",
       "      <th></th>\n",
       "      <th></th>\n",
       "      <th></th>\n",
       "      <th></th>\n",
       "    </tr>\n",
       "  </thead>\n",
       "  <tbody>\n",
       "    <tr>\n",
       "      <th>11000</th>\n",
       "      <td>Arrondissement Antwerpen</td>\n",
       "      <td>1005002.0</td>\n",
       "      <td>116466.0</td>\n",
       "      <td>112965.0</td>\n",
       "      <td>129727.0</td>\n",
       "      <td>131297.0</td>\n",
       "      <td>144626.0</td>\n",
       "      <td>133046.0</td>\n",
       "      <td>102617.0</td>\n",
       "      <td>80576.0</td>\n",
       "      <td>53682.0</td>\n",
       "    </tr>\n",
       "    <tr>\n",
       "      <th>12000</th>\n",
       "      <td>Arrondissement Mechelen</td>\n",
       "      <td>327928.0</td>\n",
       "      <td>36304.0</td>\n",
       "      <td>36491.0</td>\n",
       "      <td>38710.0</td>\n",
       "      <td>41832.0</td>\n",
       "      <td>50049.0</td>\n",
       "      <td>45157.0</td>\n",
       "      <td>34414.0</td>\n",
       "      <td>27412.0</td>\n",
       "      <td>17559.0</td>\n",
       "    </tr>\n",
       "    <tr>\n",
       "      <th>13000</th>\n",
       "      <td>Arrondissement Turnhout</td>\n",
       "      <td>440337.0</td>\n",
       "      <td>45627.0</td>\n",
       "      <td>48864.0</td>\n",
       "      <td>52869.0</td>\n",
       "      <td>56162.0</td>\n",
       "      <td>70786.0</td>\n",
       "      <td>64688.0</td>\n",
       "      <td>47770.0</td>\n",
       "      <td>35043.0</td>\n",
       "      <td>18528.0</td>\n",
       "    </tr>\n",
       "    <tr>\n",
       "      <th>21000</th>\n",
       "      <td>Arrondissement Brussel-Hoofdstad</td>\n",
       "      <td>1136778.0</td>\n",
       "      <td>155502.0</td>\n",
       "      <td>122871.0</td>\n",
       "      <td>177461.0</td>\n",
       "      <td>195891.0</td>\n",
       "      <td>157533.0</td>\n",
       "      <td>124139.0</td>\n",
       "      <td>88540.0</td>\n",
       "      <td>64245.0</td>\n",
       "      <td>50596.0</td>\n",
       "    </tr>\n",
       "    <tr>\n",
       "      <th>23000</th>\n",
       "      <td>Arrondissement Halle-Vilvoorde</td>\n",
       "      <td>600350.0</td>\n",
       "      <td>69414.0</td>\n",
       "      <td>73678.0</td>\n",
       "      <td>66625.0</td>\n",
       "      <td>73834.0</td>\n",
       "      <td>92424.0</td>\n",
       "      <td>83928.0</td>\n",
       "      <td>61916.0</td>\n",
       "      <td>48368.0</td>\n",
       "      <td>30163.0</td>\n",
       "    </tr>\n",
       "  </tbody>\n",
       "</table>\n",
       "</div>"
      ],
      "text/plain": [
       "                                      name      total    [0,10[   [10,20[  \\\n",
       "NIS-code                                                                    \n",
       "11000             Arrondissement Antwerpen  1005002.0  116466.0  112965.0   \n",
       "12000              Arrondissement Mechelen   327928.0   36304.0   36491.0   \n",
       "13000              Arrondissement Turnhout   440337.0   45627.0   48864.0   \n",
       "21000     Arrondissement Brussel-Hoofdstad  1136778.0  155502.0  122871.0   \n",
       "23000       Arrondissement Halle-Vilvoorde   600350.0   69414.0   73678.0   \n",
       "\n",
       "           [20,30[   [30,40[   [40,50[   [50,60[   [60,70[  [70,80[  [80,inf[  \n",
       "NIS-code                                                                       \n",
       "11000     129727.0  131297.0  144626.0  133046.0  102617.0  80576.0   53682.0  \n",
       "12000      38710.0   41832.0   50049.0   45157.0   34414.0  27412.0   17559.0  \n",
       "13000      52869.0   56162.0   70786.0   64688.0   47770.0  35043.0   18528.0  \n",
       "21000     177461.0  195891.0  157533.0  124139.0   88540.0  64245.0   50596.0  \n",
       "23000      66625.0   73834.0   92424.0   83928.0   61916.0  48368.0   30163.0  "
      ]
     },
     "execution_count": 5,
     "metadata": {},
     "output_type": "execute_result"
    }
   ],
   "source": [
    "# Every arrondissement has an initial population (initial number of susceptibles) per age group\n",
    "\n",
    "# Read CSV as dataframe with the first column (NIS) as index\n",
    "initN_df=pd.read_csv('../../data/interim/census_2011/initN.csv', index_col=[0])\n",
    "\n",
    "# Save the population distribution for all arrondissements\n",
    "initN=initN_df.iloc[:,2:].values\n",
    "initN_df.head()\n",
    "\n",
    "# Make sure the shape of the initN is 1x43 rather than just 43\n",
    "# N_dummy = []\n",
    "# for i in range(len(initN)):\n",
    "#     N_dummy.append([initN[i]])\n",
    "    \n",
    "# initN = np.asarray(N_dummy)"
   ]
  },
  {
   "cell_type": "markdown",
   "metadata": {
    "hidden": true
   },
   "source": [
    "### `get_COVID19_SEIRD_parameters`"
   ]
  },
  {
   "cell_type": "markdown",
   "metadata": {
    "hidden": true
   },
   "source": [
    "The Python code `data/model_parameters.py` contains the important (and only) function `get_COVID19_SEIRD_parameters` which fetches all necessary parameters. Information (note that this is quite a mess):\n",
    "* Takes two inputs\n",
    "    * `stratified`: Boolean, choose whether or not there is age stratification\n",
    "    * `spatial`: Boolean, choose whether or not there is spatial stratification\n",
    "* Returns the parameter dictionary, as desired as input to `COVID19_SEIRD_sto_spatial(BaseModel)`\n",
    "* If both `stratified` and `spatial` are true, the parameters are ...\n",
    "    * `beta` : probability $\\beta$ of infection when encountering an infected person\n",
    "    * `sigma` : length $\\sigma$ of the latent period\n",
    "    * `omega` : length $\\omega$ of the pre-symptomatic infectious period\n",
    "    * `zeta`: effect $\\zeta$ of re-susceptibility and seasonality\n",
    "    * `a` : probability $a$ of an asymptomatic cases\n",
    "    * `m` : probability $m$ of an initially mild infection (m=1-a): superfluous\n",
    "    * `da` : duration $d_a$ of the infection in case of asymptomatic\n",
    "    * `dm` : duration $d_m$ of the infection in case of mild\n",
    "    * `der` : duration of stay $d_{\\text{ER}}$ in emergency room/buffer ward\n",
    "    * `dc` : average length $d_c$ of a hospital stay when not in ICU\n",
    "    * `dICU_R` : average length $d_{\\text{ICU},R}$ of a hospital stay in ICU in case of recovery\n",
    "    * `dICU_D`: average length $d_{\\text{ICU},D}$ of a hospital stay in ICU in case of death\n",
    "    * `dhospital` : time $d_\\text{hosp}$ before a patient reaches the hospital (*below: age-stratified*)\n",
    "    * `s`: relative susceptibilities $s_i$ to infection (unique)\n",
    "    * `a` : probabilities $a_i$ of an asymptomatic case (overwrites $a$ and $m$)\n",
    "    * `h` : probabilities $h_i$ of hospitalisation for a mild infection\n",
    "    * `c` : probabilities $c_i$ of hospitalisation in Cohort (non-ICU)\n",
    "    * `m_C` : mortalities $m_{C,i}$ in Cohort\n",
    "    * `m_ICU` : mortalities $m_{\\text{ICU},i}$ in ICU (*below: spatially stratified*)\n",
    "    * `NIS`: normalised mobility between NIS codes\n",
    "* If no age stratification is chosen, the final value in the data column always communicates the weighted average"
   ]
  },
  {
   "cell_type": "code",
   "execution_count": 6,
   "metadata": {
    "ExecuteTime": {
     "end_time": "2020-09-30T15:59:03.680475Z",
     "start_time": "2020-09-30T15:59:03.598702Z"
    },
    "hidden": true
   },
   "outputs": [
    {
     "name": "stdout",
     "output_type": "stream",
     "text": [
      "  Unnamed: 0  sample_size         c        m0  m0_{ICU}    m0_{C}        dC  \\\n",
      "0    [0, 10)            2  1.000000  0.000000  0.000000  0.000000  0.000000   \n",
      "1   [10, 20)            7  1.000000  0.000000  0.000000  0.000000  2.749603   \n",
      "2   [20, 30)            9  0.800000  0.000000  0.000000  0.000000  5.000000   \n",
      "3   [30, 40)            9  0.875000  0.000000  0.000000  0.000000  5.659920   \n",
      "4   [40, 50)           33  0.781250  0.093750  0.142857  0.080000  5.506805   \n",
      "5   [50, 60)           67  0.741935  0.032258  0.062500  0.021739  6.834737   \n",
      "6   [60, 70)           62  0.612903  0.064516  0.166667  0.000000  8.991191   \n",
      "7   [70, 80)           74  0.642857  0.271429  0.440000  0.177778  8.274613   \n",
      "8  [80, 120)          107  0.882353  0.411765  0.583333  0.366667  8.558533   \n",
      "9    average          370  0.752874  0.195402  0.279070  0.167939  7.691701   \n",
      "\n",
      "        dC_R      dC_D       dICU     dICU_R     dICU_D    dICUrec  \n",
      "0   0.000000  0.000000   0.000000   0.000000   0.000000   0.000000  \n",
      "1   2.749603  0.000000   0.000000   0.000000   0.000000   0.000000  \n",
      "2   5.000000  0.000000   0.000000   0.000000   0.000000   5.000000  \n",
      "3   5.659920  0.000000  12.000000  12.000000   0.000000  10.000000  \n",
      "4   5.507397  5.500000  15.029562  14.682059  17.114581   4.857143  \n",
      "5   6.955910  1.381944  10.779253   8.200185  49.465275   8.052647  \n",
      "6   8.991191  0.000000   8.718547   8.061145  12.005555   3.473119  \n",
      "7   8.413382  7.632811  18.803999  13.524305  25.523610   8.767138  \n",
      "8  10.082991  5.925378   8.904455   7.615694   9.824999   6.353761  \n",
      "9   8.010292  6.113225  12.510158   9.866722  19.339032   6.472335  \n",
      "[0.         0.         0.         0.         0.14285714 0.0625\n",
      " 0.16666667 0.44       0.58333333]\n",
      "8.01029195412844\n"
     ]
    },
    {
     "data": {
      "text/html": [
       "<div>\n",
       "<style scoped>\n",
       "    .dataframe tbody tr th:only-of-type {\n",
       "        vertical-align: middle;\n",
       "    }\n",
       "\n",
       "    .dataframe tbody tr th {\n",
       "        vertical-align: top;\n",
       "    }\n",
       "\n",
       "    .dataframe thead th {\n",
       "        text-align: right;\n",
       "    }\n",
       "</style>\n",
       "<table border=\"1\" class=\"dataframe\">\n",
       "  <thead>\n",
       "    <tr style=\"text-align: right;\">\n",
       "      <th></th>\n",
       "      <th>Unnamed: 0</th>\n",
       "      <th>sample_size</th>\n",
       "      <th>c</th>\n",
       "      <th>m0</th>\n",
       "      <th>m0_{ICU}</th>\n",
       "      <th>m0_{C}</th>\n",
       "      <th>dC</th>\n",
       "      <th>dC_R</th>\n",
       "      <th>dC_D</th>\n",
       "      <th>dICU</th>\n",
       "      <th>dICU_R</th>\n",
       "      <th>dICU_D</th>\n",
       "      <th>dICUrec</th>\n",
       "    </tr>\n",
       "  </thead>\n",
       "  <tbody>\n",
       "    <tr>\n",
       "      <th>0</th>\n",
       "      <td>[0, 10)</td>\n",
       "      <td>2</td>\n",
       "      <td>1.000000</td>\n",
       "      <td>0.000000</td>\n",
       "      <td>0.000000</td>\n",
       "      <td>0.000000</td>\n",
       "      <td>0.000000</td>\n",
       "      <td>0.000000</td>\n",
       "      <td>0.000000</td>\n",
       "      <td>0.000000</td>\n",
       "      <td>0.000000</td>\n",
       "      <td>0.000000</td>\n",
       "      <td>0.000000</td>\n",
       "    </tr>\n",
       "    <tr>\n",
       "      <th>1</th>\n",
       "      <td>[10, 20)</td>\n",
       "      <td>7</td>\n",
       "      <td>1.000000</td>\n",
       "      <td>0.000000</td>\n",
       "      <td>0.000000</td>\n",
       "      <td>0.000000</td>\n",
       "      <td>2.749603</td>\n",
       "      <td>2.749603</td>\n",
       "      <td>0.000000</td>\n",
       "      <td>0.000000</td>\n",
       "      <td>0.000000</td>\n",
       "      <td>0.000000</td>\n",
       "      <td>0.000000</td>\n",
       "    </tr>\n",
       "    <tr>\n",
       "      <th>2</th>\n",
       "      <td>[20, 30)</td>\n",
       "      <td>9</td>\n",
       "      <td>0.800000</td>\n",
       "      <td>0.000000</td>\n",
       "      <td>0.000000</td>\n",
       "      <td>0.000000</td>\n",
       "      <td>5.000000</td>\n",
       "      <td>5.000000</td>\n",
       "      <td>0.000000</td>\n",
       "      <td>0.000000</td>\n",
       "      <td>0.000000</td>\n",
       "      <td>0.000000</td>\n",
       "      <td>5.000000</td>\n",
       "    </tr>\n",
       "    <tr>\n",
       "      <th>3</th>\n",
       "      <td>[30, 40)</td>\n",
       "      <td>9</td>\n",
       "      <td>0.875000</td>\n",
       "      <td>0.000000</td>\n",
       "      <td>0.000000</td>\n",
       "      <td>0.000000</td>\n",
       "      <td>5.659920</td>\n",
       "      <td>5.659920</td>\n",
       "      <td>0.000000</td>\n",
       "      <td>12.000000</td>\n",
       "      <td>12.000000</td>\n",
       "      <td>0.000000</td>\n",
       "      <td>10.000000</td>\n",
       "    </tr>\n",
       "    <tr>\n",
       "      <th>4</th>\n",
       "      <td>[40, 50)</td>\n",
       "      <td>33</td>\n",
       "      <td>0.781250</td>\n",
       "      <td>0.093750</td>\n",
       "      <td>0.142857</td>\n",
       "      <td>0.080000</td>\n",
       "      <td>5.506805</td>\n",
       "      <td>5.507397</td>\n",
       "      <td>5.500000</td>\n",
       "      <td>15.029562</td>\n",
       "      <td>14.682059</td>\n",
       "      <td>17.114581</td>\n",
       "      <td>4.857143</td>\n",
       "    </tr>\n",
       "    <tr>\n",
       "      <th>5</th>\n",
       "      <td>[50, 60)</td>\n",
       "      <td>67</td>\n",
       "      <td>0.741935</td>\n",
       "      <td>0.032258</td>\n",
       "      <td>0.062500</td>\n",
       "      <td>0.021739</td>\n",
       "      <td>6.834737</td>\n",
       "      <td>6.955910</td>\n",
       "      <td>1.381944</td>\n",
       "      <td>10.779253</td>\n",
       "      <td>8.200185</td>\n",
       "      <td>49.465275</td>\n",
       "      <td>8.052647</td>\n",
       "    </tr>\n",
       "    <tr>\n",
       "      <th>6</th>\n",
       "      <td>[60, 70)</td>\n",
       "      <td>62</td>\n",
       "      <td>0.612903</td>\n",
       "      <td>0.064516</td>\n",
       "      <td>0.166667</td>\n",
       "      <td>0.000000</td>\n",
       "      <td>8.991191</td>\n",
       "      <td>8.991191</td>\n",
       "      <td>0.000000</td>\n",
       "      <td>8.718547</td>\n",
       "      <td>8.061145</td>\n",
       "      <td>12.005555</td>\n",
       "      <td>3.473119</td>\n",
       "    </tr>\n",
       "    <tr>\n",
       "      <th>7</th>\n",
       "      <td>[70, 80)</td>\n",
       "      <td>74</td>\n",
       "      <td>0.642857</td>\n",
       "      <td>0.271429</td>\n",
       "      <td>0.440000</td>\n",
       "      <td>0.177778</td>\n",
       "      <td>8.274613</td>\n",
       "      <td>8.413382</td>\n",
       "      <td>7.632811</td>\n",
       "      <td>18.803999</td>\n",
       "      <td>13.524305</td>\n",
       "      <td>25.523610</td>\n",
       "      <td>8.767138</td>\n",
       "    </tr>\n",
       "    <tr>\n",
       "      <th>8</th>\n",
       "      <td>[80, 120)</td>\n",
       "      <td>107</td>\n",
       "      <td>0.882353</td>\n",
       "      <td>0.411765</td>\n",
       "      <td>0.583333</td>\n",
       "      <td>0.366667</td>\n",
       "      <td>8.558533</td>\n",
       "      <td>10.082991</td>\n",
       "      <td>5.925378</td>\n",
       "      <td>8.904455</td>\n",
       "      <td>7.615694</td>\n",
       "      <td>9.824999</td>\n",
       "      <td>6.353761</td>\n",
       "    </tr>\n",
       "    <tr>\n",
       "      <th>9</th>\n",
       "      <td>average</td>\n",
       "      <td>370</td>\n",
       "      <td>0.752874</td>\n",
       "      <td>0.195402</td>\n",
       "      <td>0.279070</td>\n",
       "      <td>0.167939</td>\n",
       "      <td>7.691701</td>\n",
       "      <td>8.010292</td>\n",
       "      <td>6.113225</td>\n",
       "      <td>12.510158</td>\n",
       "      <td>9.866722</td>\n",
       "      <td>19.339032</td>\n",
       "      <td>6.472335</td>\n",
       "    </tr>\n",
       "  </tbody>\n",
       "</table>\n",
       "</div>"
      ],
      "text/plain": [
       "  Unnamed: 0  sample_size         c        m0  m0_{ICU}    m0_{C}        dC  \\\n",
       "0    [0, 10)            2  1.000000  0.000000  0.000000  0.000000  0.000000   \n",
       "1   [10, 20)            7  1.000000  0.000000  0.000000  0.000000  2.749603   \n",
       "2   [20, 30)            9  0.800000  0.000000  0.000000  0.000000  5.000000   \n",
       "3   [30, 40)            9  0.875000  0.000000  0.000000  0.000000  5.659920   \n",
       "4   [40, 50)           33  0.781250  0.093750  0.142857  0.080000  5.506805   \n",
       "5   [50, 60)           67  0.741935  0.032258  0.062500  0.021739  6.834737   \n",
       "6   [60, 70)           62  0.612903  0.064516  0.166667  0.000000  8.991191   \n",
       "7   [70, 80)           74  0.642857  0.271429  0.440000  0.177778  8.274613   \n",
       "8  [80, 120)          107  0.882353  0.411765  0.583333  0.366667  8.558533   \n",
       "9    average          370  0.752874  0.195402  0.279070  0.167939  7.691701   \n",
       "\n",
       "        dC_R      dC_D       dICU     dICU_R     dICU_D    dICUrec  \n",
       "0   0.000000  0.000000   0.000000   0.000000   0.000000   0.000000  \n",
       "1   2.749603  0.000000   0.000000   0.000000   0.000000   0.000000  \n",
       "2   5.000000  0.000000   0.000000   0.000000   0.000000   5.000000  \n",
       "3   5.659920  0.000000  12.000000  12.000000   0.000000  10.000000  \n",
       "4   5.507397  5.500000  15.029562  14.682059  17.114581   4.857143  \n",
       "5   6.955910  1.381944  10.779253   8.200185  49.465275   8.052647  \n",
       "6   8.991191  0.000000   8.718547   8.061145  12.005555   3.473119  \n",
       "7   8.413382  7.632811  18.803999  13.524305  25.523610   8.767138  \n",
       "8  10.082991  5.925378   8.904455   7.615694   9.824999   6.353761  \n",
       "9   8.010292  6.113225  12.510158   9.866722  19.339032   6.472335  "
      ]
     },
     "execution_count": 6,
     "metadata": {},
     "output_type": "execute_result"
    }
   ],
   "source": [
    "# Most hospital data is taken from `data/interim/model_parameters/AZMM_UZG_hospital_parameters.csv`,\n",
    "# which is good but may be updated with Sciensano data at some point.\n",
    "# Question: why is m_C age-stratified ([:-1]) and e.g. dC_R not ([-1])?\n",
    "\n",
    "# This hospital data looks as follows\n",
    "df = pd.read_csv('../../data/interim/model_parameters/AZMM_UZG_hospital_parameters.csv', sep=',',header='infer')\n",
    "df = df.fillna(0)\n",
    "print(df)\n",
    "\n",
    "m_ICU = np.array(df['m0_{ICU}'].values[:-1])\n",
    "dc_R = np.array(df['dC_R'].values[-1])\n",
    "\n",
    "print(m_ICU)\n",
    "print(dc_R)\n",
    "\n",
    "df"
   ]
  },
  {
   "cell_type": "code",
   "execution_count": 7,
   "metadata": {
    "ExecuteTime": {
     "end_time": "2020-09-30T15:59:06.275403Z",
     "start_time": "2020-09-30T15:59:06.206586Z"
    },
    "hidden": true
   },
   "outputs": [
    {
     "name": "stdout",
     "output_type": "stream",
     "text": [
      "  age_group  symptomatic_hospitalized  hospitalized_ICU     CFR\n",
      "0       0-9                       0.1               5.0   0.003\n",
      "1     10-19                       0.3               5.0   0.015\n",
      "2     20-29                       1.2               5.0   0.060\n",
      "3     30-39                       3.2               5.0   0.146\n",
      "4     40-49                       4.9               6.3   0.295\n",
      "5     50-59                      10.2              12.2   1.250\n",
      "6     60-69                      16.6              27.4   3.990\n",
      "7     70-79                      24.3              43.2   8.610\n",
      "8       80+                      27.3              70.9  13.400\n",
      "[0.001 0.003 0.012 0.032 0.049 0.102 0.166 0.243 0.273]\n"
     ]
    }
   ],
   "source": [
    "# Some additional data is taken from `verity_etal.csv` and `davies_etal.csv` in the raw directory\n",
    "# full Verity data\n",
    "df = pd.read_csv('../../data/raw/model_parameters/verity_etal.csv', sep=',',header='infer')\n",
    "print(df)\n",
    "\n",
    "# h: probability of being hospitalised per age\n",
    "h = np.array(df.loc[:,'symptomatic_hospitalized'].astype(float).tolist())/100\n",
    "print(h)"
   ]
  },
  {
   "cell_type": "code",
   "execution_count": 8,
   "metadata": {
    "ExecuteTime": {
     "end_time": "2020-09-30T15:59:08.005256Z",
     "start_time": "2020-09-30T15:59:07.934447Z"
    },
    "hidden": true
   },
   "outputs": [
    {
     "name": "stdout",
     "output_type": "stream",
     "text": [
      "  age_group  fraction asymptomatic  relative susceptibility\n",
      "0       0-9                   0.71                     0.40\n",
      "1     10-19                   0.79                     0.38\n",
      "2     20-29                   0.73                     0.79\n",
      "3     30-39                   0.67                     0.86\n",
      "4     40-49                   0.60                     0.80\n",
      "5     50-59                   0.51                     0.82\n",
      "6     60-69                   0.37                     0.88\n",
      "7     70-79                   0.31                     0.74\n",
      "8       80+                   0.31                     0.74\n",
      "[0.71 0.79 0.73 0.67 0.6  0.51 0.37 0.31 0.31]\n",
      "[0.4  0.38 0.79 0.86 0.8  0.82 0.88 0.74 0.74]\n"
     ]
    }
   ],
   "source": [
    "# full Davies data\n",
    "df_asymp = pd.read_csv('../../data/raw/model_parameters/davies_etal.csv', sep=',',header='infer')\n",
    "print(df_asymp)\n",
    "\n",
    "# a: probabilty of being asymptomatic per age; s: relative susceptibility per age\n",
    "a = np.array(df_asymp.loc[:,'fraction asymptomatic'].astype(float).tolist())\n",
    "s = np.array(df_asymp.loc[:,'relative susceptibility'].astype(float).tolist())\n",
    "print(a)\n",
    "print(s)"
   ]
  },
  {
   "cell_type": "code",
   "execution_count": 9,
   "metadata": {
    "ExecuteTime": {
     "end_time": "2020-09-30T15:59:08.643551Z",
     "start_time": "2020-09-30T15:59:08.573737Z"
    },
    "hidden": true
   },
   "outputs": [
    {
     "data": {
      "text/html": [
       "<div>\n",
       "<style scoped>\n",
       "    .dataframe tbody tr th:only-of-type {\n",
       "        vertical-align: middle;\n",
       "    }\n",
       "\n",
       "    .dataframe tbody tr th {\n",
       "        vertical-align: top;\n",
       "    }\n",
       "\n",
       "    .dataframe thead th {\n",
       "        text-align: right;\n",
       "    }\n",
       "</style>\n",
       "<table border=\"1\" class=\"dataframe\">\n",
       "  <thead>\n",
       "    <tr style=\"text-align: right;\">\n",
       "      <th></th>\n",
       "      <th>a</th>\n",
       "      <th>h</th>\n",
       "      <th>icu</th>\n",
       "      <th>m0</th>\n",
       "    </tr>\n",
       "  </thead>\n",
       "  <tbody>\n",
       "    <tr>\n",
       "      <th>0</th>\n",
       "      <td>0.43</td>\n",
       "      <td>0.2</td>\n",
       "      <td>0.333333</td>\n",
       "      <td>0.5</td>\n",
       "    </tr>\n",
       "  </tbody>\n",
       "</table>\n",
       "</div>"
      ],
      "text/plain": [
       "      a    h       icu   m0\n",
       "0  0.43  0.2  0.333333  0.5"
      ]
     },
     "execution_count": 9,
     "metadata": {},
     "output_type": "execute_result"
    }
   ],
   "source": [
    "# If there is no age stratification (as we may want to try at first in the simplified spatial model),\n",
    "# the parameter dictionary takes parameter values from `../../data/raw/model_parameters/non_stratified.csv`\n",
    "# and updates the parameters dictionary with these\n",
    "\n",
    "non_strat = pd.read_csv(\"../../data/raw/model_parameters/non_stratified.csv\", sep=',',header='infer')\n",
    "a = non_strat['a'].values[0]\n",
    "a\n",
    "non_strat\n",
    "# pars_dict.update({key: np.array(value) for key, value in non_strat.to_dict(orient='list').items()})"
   ]
  },
  {
   "cell_type": "code",
   "execution_count": 10,
   "metadata": {
    "ExecuteTime": {
     "end_time": "2020-09-30T15:59:09.767571Z",
     "start_time": "2020-09-30T15:59:09.709700Z"
    },
    "hidden": true
   },
   "outputs": [
    {
     "data": {
      "text/plain": [
       "0.03492"
      ]
     },
     "execution_count": 10,
     "metadata": {},
     "output_type": "execute_result"
    }
   ],
   "source": [
    "# Beta is set manually\n",
    "beta = 0.03492\n",
    "beta"
   ]
  },
  {
   "cell_type": "code",
   "execution_count": 11,
   "metadata": {
    "ExecuteTime": {
     "end_time": "2020-09-30T15:59:11.159806Z",
     "start_time": "2020-09-30T15:59:11.086004Z"
    },
    "hidden": true
   },
   "outputs": [
    {
     "data": {
      "text/html": [
       "<div>\n",
       "<style scoped>\n",
       "    .dataframe tbody tr th:only-of-type {\n",
       "        vertical-align: middle;\n",
       "    }\n",
       "\n",
       "    .dataframe tbody tr th {\n",
       "        vertical-align: top;\n",
       "    }\n",
       "\n",
       "    .dataframe thead th {\n",
       "        text-align: right;\n",
       "    }\n",
       "</style>\n",
       "<table border=\"1\" class=\"dataframe\">\n",
       "  <thead>\n",
       "    <tr style=\"text-align: right;\">\n",
       "      <th></th>\n",
       "      <th>da</th>\n",
       "      <th>dm</th>\n",
       "      <th>der</th>\n",
       "      <th>dhospital</th>\n",
       "      <th>sigma</th>\n",
       "      <th>omega</th>\n",
       "      <th>zeta</th>\n",
       "    </tr>\n",
       "  </thead>\n",
       "  <tbody>\n",
       "    <tr>\n",
       "      <th>0</th>\n",
       "      <td>7</td>\n",
       "      <td>7</td>\n",
       "      <td>2.8</td>\n",
       "      <td>7.5</td>\n",
       "      <td>3.2</td>\n",
       "      <td>2</td>\n",
       "      <td>0</td>\n",
       "    </tr>\n",
       "  </tbody>\n",
       "</table>\n",
       "</div>"
      ],
      "text/plain": [
       "   da  dm  der  dhospital  sigma  omega  zeta\n",
       "0   7   7  2.8        7.5    3.2      2     0"
      ]
     },
     "execution_count": 11,
     "metadata": {},
     "output_type": "execute_result"
    }
   ],
   "source": [
    "# Remaining parameters\n",
    "\n",
    "df_other_pars = pd.read_csv('../../data/raw/model_parameters/others.csv', sep=',',header='infer')\n",
    "df_other_pars"
   ]
  },
  {
   "cell_type": "markdown",
   "metadata": {
    "hidden": true
   },
   "source": [
    "### `polymod.get_interaction_matrices`"
   ]
  },
  {
   "cell_type": "markdown",
   "metadata": {
    "hidden": true
   },
   "source": [
    "This function returns the total number of individuals in ten year age bins in the Belgian population and the interaction matrices Nc at home, at work, in schools, on public transport, during leisure activities and during other activities. This is eventually linked to Lander Willem's SOCRATES tool, saved as `txt` files in `../../data/raw/polymod/interaction_matrices/Belgium/`.\n",
    "\n",
    "Returns ...\n",
    "1. `initN` : np.array : number of Belgian individuals, regardless of sex, in ten year age bins. **`initN[0]` refers to the youngest (0-10 years)**\n",
    "2. `Nc_home` :  np.array (9x9) : number of daily contacts at home of individuals in age group X with individuals in age group Y\n",
    "3. `Nc_work` :  np.array (9x9) : number of daily contacts in the workplace of individuals in age group X with individuals in age group Y\n",
    "4. `Nc_schools` :  np.array (9x9) : number of daily contacts in schools of individuals in age group X with individuals in age group Y\n",
    "5. `Nc_transport` :  np.array (9x9) : number of daily contacts on public transport of individuals in age group X with individuals in age group Y\n",
    "6. `Nc_leisure` :  np.array (9x9) : number of daily contacts during leisure activities of individuals in age group X with individuals in age group Y\n",
    "7. `Nc_others` :  np.array (9x9) : number of daily contacts in other places of individuals in age group X with individuals in age group Y\n",
    "8. `Nc_total` :  np.array (9x9) : total number of daily contacts of individuals in age group X with individuals in age group Y, calculated as the sum of all the above interaction. **`Nc_total[i][j]` is the number of visits that agent in age group `i` brings to agent in age group `j`**\n",
    "\n",
    "If no age stratification is chosen, `initN` is the total Belgian population, and `Nc_total` is the average number of contacts per day, fixed at 11.2."
   ]
  },
  {
   "cell_type": "code",
   "execution_count": 12,
   "metadata": {
    "ExecuteTime": {
     "end_time": "2020-09-30T15:59:15.141369Z",
     "start_time": "2020-09-30T15:59:15.040607Z"
    },
    "hidden": true
   },
   "outputs": [
    {
     "data": {
      "text/html": [
       "<div>\n",
       "<style scoped>\n",
       "    .dataframe tbody tr th:only-of-type {\n",
       "        vertical-align: middle;\n",
       "    }\n",
       "\n",
       "    .dataframe tbody tr th {\n",
       "        vertical-align: top;\n",
       "    }\n",
       "\n",
       "    .dataframe thead th {\n",
       "        text-align: right;\n",
       "    }\n",
       "</style>\n",
       "<table border=\"1\" class=\"dataframe\">\n",
       "  <thead>\n",
       "    <tr style=\"text-align: right;\">\n",
       "      <th></th>\n",
       "      <th>0</th>\n",
       "      <th>1</th>\n",
       "      <th>2</th>\n",
       "      <th>3</th>\n",
       "      <th>4</th>\n",
       "      <th>5</th>\n",
       "      <th>6</th>\n",
       "      <th>7</th>\n",
       "      <th>8</th>\n",
       "    </tr>\n",
       "  </thead>\n",
       "  <tbody>\n",
       "    <tr>\n",
       "      <th>0</th>\n",
       "      <td>0.963076</td>\n",
       "      <td>0.509413</td>\n",
       "      <td>0.303291</td>\n",
       "      <td>1.403783</td>\n",
       "      <td>0.657000</td>\n",
       "      <td>0.210225</td>\n",
       "      <td>0.158295</td>\n",
       "      <td>0.061316</td>\n",
       "      <td>0.000000</td>\n",
       "    </tr>\n",
       "    <tr>\n",
       "      <th>1</th>\n",
       "      <td>0.241071</td>\n",
       "      <td>1.161102</td>\n",
       "      <td>0.350372</td>\n",
       "      <td>0.169980</td>\n",
       "      <td>1.691291</td>\n",
       "      <td>0.307684</td>\n",
       "      <td>0.104103</td>\n",
       "      <td>0.100368</td>\n",
       "      <td>0.023861</td>\n",
       "    </tr>\n",
       "    <tr>\n",
       "      <th>2</th>\n",
       "      <td>0.233749</td>\n",
       "      <td>0.286592</td>\n",
       "      <td>0.838219</td>\n",
       "      <td>0.260344</td>\n",
       "      <td>0.329993</td>\n",
       "      <td>0.882612</td>\n",
       "      <td>0.176613</td>\n",
       "      <td>0.027422</td>\n",
       "      <td>0.019746</td>\n",
       "    </tr>\n",
       "    <tr>\n",
       "      <th>3</th>\n",
       "      <td>0.835411</td>\n",
       "      <td>0.350548</td>\n",
       "      <td>0.155565</td>\n",
       "      <td>0.752613</td>\n",
       "      <td>0.324588</td>\n",
       "      <td>0.210177</td>\n",
       "      <td>0.285023</td>\n",
       "      <td>0.078417</td>\n",
       "      <td>0.015772</td>\n",
       "    </tr>\n",
       "    <tr>\n",
       "      <th>4</th>\n",
       "      <td>0.198493</td>\n",
       "      <td>1.045681</td>\n",
       "      <td>0.385728</td>\n",
       "      <td>0.183423</td>\n",
       "      <td>0.747404</td>\n",
       "      <td>0.235912</td>\n",
       "      <td>0.138830</td>\n",
       "      <td>0.147406</td>\n",
       "      <td>0.028510</td>\n",
       "    </tr>\n",
       "    <tr>\n",
       "      <th>5</th>\n",
       "      <td>0.266110</td>\n",
       "      <td>0.174048</td>\n",
       "      <td>0.571356</td>\n",
       "      <td>0.368333</td>\n",
       "      <td>0.274010</td>\n",
       "      <td>0.935064</td>\n",
       "      <td>0.307152</td>\n",
       "      <td>0.071087</td>\n",
       "      <td>0.047202</td>\n",
       "    </tr>\n",
       "    <tr>\n",
       "      <th>6</th>\n",
       "      <td>0.299128</td>\n",
       "      <td>0.144858</td>\n",
       "      <td>0.115681</td>\n",
       "      <td>0.364741</td>\n",
       "      <td>0.300375</td>\n",
       "      <td>0.330236</td>\n",
       "      <td>0.660202</td>\n",
       "      <td>0.181094</td>\n",
       "      <td>0.043770</td>\n",
       "    </tr>\n",
       "    <tr>\n",
       "      <th>7</th>\n",
       "      <td>0.150399</td>\n",
       "      <td>0.207723</td>\n",
       "      <td>0.138405</td>\n",
       "      <td>0.236822</td>\n",
       "      <td>0.495719</td>\n",
       "      <td>0.242804</td>\n",
       "      <td>0.369191</td>\n",
       "      <td>0.580689</td>\n",
       "      <td>0.064158</td>\n",
       "    </tr>\n",
       "    <tr>\n",
       "      <th>8</th>\n",
       "      <td>0.052175</td>\n",
       "      <td>0.072646</td>\n",
       "      <td>1.051773</td>\n",
       "      <td>0.946407</td>\n",
       "      <td>0.767037</td>\n",
       "      <td>0.714609</td>\n",
       "      <td>0.331178</td>\n",
       "      <td>0.356945</td>\n",
       "      <td>1.113231</td>\n",
       "    </tr>\n",
       "  </tbody>\n",
       "</table>\n",
       "</div>"
      ],
      "text/plain": [
       "          0         1         2         3         4         5         6  \\\n",
       "0  0.963076  0.509413  0.303291  1.403783  0.657000  0.210225  0.158295   \n",
       "1  0.241071  1.161102  0.350372  0.169980  1.691291  0.307684  0.104103   \n",
       "2  0.233749  0.286592  0.838219  0.260344  0.329993  0.882612  0.176613   \n",
       "3  0.835411  0.350548  0.155565  0.752613  0.324588  0.210177  0.285023   \n",
       "4  0.198493  1.045681  0.385728  0.183423  0.747404  0.235912  0.138830   \n",
       "5  0.266110  0.174048  0.571356  0.368333  0.274010  0.935064  0.307152   \n",
       "6  0.299128  0.144858  0.115681  0.364741  0.300375  0.330236  0.660202   \n",
       "7  0.150399  0.207723  0.138405  0.236822  0.495719  0.242804  0.369191   \n",
       "8  0.052175  0.072646  1.051773  0.946407  0.767037  0.714609  0.331178   \n",
       "\n",
       "          7         8  \n",
       "0  0.061316  0.000000  \n",
       "1  0.100368  0.023861  \n",
       "2  0.027422  0.019746  \n",
       "3  0.078417  0.015772  \n",
       "4  0.147406  0.028510  \n",
       "5  0.071087  0.047202  \n",
       "6  0.181094  0.043770  \n",
       "7  0.580689  0.064158  \n",
       "8  0.356945  1.113231  "
      ]
     },
     "execution_count": 12,
     "metadata": {},
     "output_type": "execute_result"
    }
   ],
   "source": [
    "# Interaction matrix is taken from the Polymod study\n",
    "# Assign Nc_total from the Polymod study to the parameters dictionary\n",
    "# NOTE how this does not correspond to the data on the SOCRATES tool website.\n",
    "Nc_schools = polymod.get_interaction_matrices()[3]\n",
    "pd.DataFrame(Nc_schools)\n",
    "\n",
    "pd.DataFrame(polymod.get_interaction_matrices()[1])"
   ]
  },
  {
   "cell_type": "markdown",
   "metadata": {},
   "source": [
    "## Initialise and execute model"
   ]
  },
  {
   "cell_type": "markdown",
   "metadata": {},
   "source": [
    "### Messing around with new `time_dependent_parameters` implementation"
   ]
  },
  {
   "cell_type": "code",
   "execution_count": null,
   "metadata": {},
   "outputs": [],
   "source": [
    "# ramp_2 with new time_dependent_parameters definitions\n",
    "# param currently unused\n",
    "def social_policy_func(t,param,policy_time,policy1,policy2,l,tau):\n",
    "    if t < policy_time:\n",
    "        return policy1\n",
    "    else:\n",
    "        return policy1 + (1/l)*(t-policy_time)*(policy2-policy1)\n",
    "    \n",
    "# Load the parameters using `get_COVID19_SEIRD_parameters()`.\n",
    "params = model_parameters.get_COVID19_SEIRD_parameters()\n",
    "\n",
    "# Add the delayed ramp parameters and the social_policy_func parameters to the parameter dictionary.\n",
    "params.update({'l': 1,\n",
    "              'tau': 5})\n",
    "params.update({'policy1': Nc_total, # No restrictions\n",
    "          'policy2': Nc_home, # Everyone in home isolation\n",
    "          'policy_time': 40})\n",
    "\n",
    "# Define the initial condition: one exposed inidividual in every age category\n",
    "initial_states = {'S': initN, 'E': np.ones(levels)}\n",
    "# Load the compliance model\n",
    "# from covid19model.models.compliance import ramp_2\n",
    "# Initialize the model\n",
    "model = models.COVID19_SEIRD(initial_states, params, time_dependent_parameters={'Nc': social_policy_func})"
   ]
  },
  {
   "cell_type": "markdown",
   "metadata": {},
   "source": [
    "### Define initial states and (compliance) parameters"
   ]
  },
  {
   "cell_type": "code",
   "execution_count": 14,
   "metadata": {
    "ExecuteTime": {
     "end_time": "2020-09-30T16:20:24.561025Z",
     "start_time": "2020-09-30T16:20:24.437037Z"
    }
   },
   "outputs": [
    {
     "ename": "AttributeError",
     "evalue": "'function' object has no attribute 'items'",
     "output_type": "error",
     "traceback": [
      "\u001b[1;31m---------------------------------------------------------------------------\u001b[0m",
      "\u001b[1;31mAttributeError\u001b[0m                            Traceback (most recent call last)",
      "\u001b[1;32m<ipython-input-14-8a2508f655fb>\u001b[0m in \u001b[0;36m<module>\u001b[1;34m\u001b[0m\n\u001b[0;32m     25\u001b[0m \u001b[1;33m\u001b[0m\u001b[0m\n\u001b[0;32m     26\u001b[0m \u001b[1;31m# Initialize the discrete model with ramp_2 compliance, parameters for the spatial case, and initial conditions (S and E population)\u001b[0m\u001b[1;33m\u001b[0m\u001b[1;33m\u001b[0m\u001b[1;33m\u001b[0m\u001b[0m\n\u001b[1;32m---> 27\u001b[1;33m \u001b[0mmodel\u001b[0m \u001b[1;33m=\u001b[0m \u001b[0mmodels\u001b[0m\u001b[1;33m.\u001b[0m\u001b[0mCOVID19_SEIRD_sto_spatial\u001b[0m\u001b[1;33m(\u001b[0m\u001b[0minitial_states\u001b[0m\u001b[1;33m,\u001b[0m \u001b[0mparams\u001b[0m\u001b[1;33m,\u001b[0m \u001b[0mtime_dependent_parameters\u001b[0m\u001b[1;33m=\u001b[0m\u001b[0mramp_2\u001b[0m\u001b[1;33m,\u001b[0m \u001b[0mdiscrete\u001b[0m\u001b[1;33m=\u001b[0m\u001b[1;32mTrue\u001b[0m\u001b[1;33m)\u001b[0m\u001b[1;33m\u001b[0m\u001b[1;33m\u001b[0m\u001b[0m\n\u001b[0m",
      "\u001b[1;32mc:\\users\\mrollier\\documents\\github\\covid19-model\\src\\covid19model\\models\\base.py\u001b[0m in \u001b[0;36m__init__\u001b[1;34m(self, states, parameters, time_dependent_parameters, discrete)\u001b[0m\n\u001b[0;32m     58\u001b[0m \u001b[1;33m\u001b[0m\u001b[0m\n\u001b[0;32m     59\u001b[0m         \u001b[1;32mif\u001b[0m \u001b[0mtime_dependent_parameters\u001b[0m\u001b[1;33m:\u001b[0m\u001b[1;33m\u001b[0m\u001b[1;33m\u001b[0m\u001b[0m\n\u001b[1;32m---> 60\u001b[1;33m             \u001b[0mself\u001b[0m\u001b[1;33m.\u001b[0m\u001b[0m_validate_time_dependent_parameters\u001b[0m\u001b[1;33m(\u001b[0m\u001b[1;33m)\u001b[0m\u001b[1;33m\u001b[0m\u001b[1;33m\u001b[0m\u001b[0m\n\u001b[0m\u001b[0;32m     61\u001b[0m         \u001b[1;32melse\u001b[0m\u001b[1;33m:\u001b[0m\u001b[1;33m\u001b[0m\u001b[1;33m\u001b[0m\u001b[0m\n\u001b[0;32m     62\u001b[0m             \u001b[0mself\u001b[0m\u001b[1;33m.\u001b[0m\u001b[0m_function_parameters\u001b[0m \u001b[1;33m=\u001b[0m \u001b[1;33m[\u001b[0m\u001b[1;33m]\u001b[0m\u001b[1;33m\u001b[0m\u001b[1;33m\u001b[0m\u001b[0m\n",
      "\u001b[1;32mc:\\users\\mrollier\\documents\\github\\covid19-model\\src\\covid19model\\models\\base.py\u001b[0m in \u001b[0;36m_validate_time_dependent_parameters\u001b[1;34m(self)\u001b[0m\n\u001b[0;32m     89\u001b[0m         \u001b[0mextra_params\u001b[0m \u001b[1;33m=\u001b[0m \u001b[1;33m[\u001b[0m\u001b[1;33m]\u001b[0m\u001b[1;33m\u001b[0m\u001b[1;33m\u001b[0m\u001b[0m\n\u001b[0;32m     90\u001b[0m \u001b[1;33m\u001b[0m\u001b[0m\n\u001b[1;32m---> 91\u001b[1;33m         \u001b[1;32mfor\u001b[0m \u001b[0mparam\u001b[0m\u001b[1;33m,\u001b[0m \u001b[0mfunc\u001b[0m \u001b[1;32min\u001b[0m \u001b[0mself\u001b[0m\u001b[1;33m.\u001b[0m\u001b[0mtime_dependent_parameters\u001b[0m\u001b[1;33m.\u001b[0m\u001b[0mitems\u001b[0m\u001b[1;33m(\u001b[0m\u001b[1;33m)\u001b[0m\u001b[1;33m:\u001b[0m\u001b[1;33m\u001b[0m\u001b[1;33m\u001b[0m\u001b[0m\n\u001b[0m\u001b[0;32m     92\u001b[0m             if (param not in (\n\u001b[0;32m     93\u001b[0m                 self.parameter_names + self.parameters_stratified_names + [self.stratification])\n",
      "\u001b[1;31mAttributeError\u001b[0m: 'function' object has no attribute 'items'"
     ]
    }
   ],
   "source": [
    "# Load the parameters using `get_COVID19_SEIRD_parameters()`\n",
    "params = model_parameters.get_COVID19_SEIRD_parameters(age_stratified=True, spatial=True)\n",
    "\n",
    "# Add the delayed ramp parameters to the parameter dictionary (compliance parameters).\n",
    "# This can be added in a nicer way, right?\n",
    "params.update({'l': 5,\n",
    "              'tau': 5})\n",
    "\n",
    "# Define a cluster of 20 infectees in one or two arrondissements\n",
    "\n",
    "# Define an empty matrix with the dimensions of an exposed age-stratified population per arrondissement (1x43)\n",
    "E = np.zeros(initN.shape)\n",
    "\n",
    "# If the index value in the initN dataframe corresponds to the NIS code of (arrondissement), fill the entire row with (value)\n",
    "# `numpy.where(condition[, x, y])`: Return elements chosen from x or y depending on condition.\n",
    "E[np.where(initN_df.index.values==name2nis('arrondissement ieper'))[0][0]] = 20 \n",
    "E[np.where(initN_df.index.values==name2nis('arrondissement tongeren'))[0][0]] = 20\n",
    "\n",
    "# Define the initial condition: two exposed inidividual in every age category of two arrondissements\n",
    "# The rest of the categories are empty by default\n",
    "initial_states = {'S': initN, 'E': E}\n",
    "\n",
    "# Load the compliance model (we use ramp_2, which I guess is the time-delayed ramp)\n",
    "from covid19model.models.compliance import ramp_2\n",
    "\n",
    "# Initialize the discrete model with ramp_2 compliance, parameters for the spatial case, and initial conditions (S and E population)\n",
    "model = models.COVID19_SEIRD_sto_spatial(initial_states, params, time_dependent_parameters=ramp_2, discrete=True)"
   ]
  },
  {
   "cell_type": "code",
   "execution_count": 40,
   "metadata": {
    "ExecuteTime": {
     "end_time": "2020-09-29T19:58:20.269382Z",
     "start_time": "2020-09-29T19:58:20.209506Z"
    }
   },
   "outputs": [
    {
     "data": {
      "text/plain": [
       "{'Nc': array([[ 7.7050138 ,  1.2862432 ,  1.1001225 ,  2.5043283 ,  1.6116176 ,\n",
       "          0.8171135 ,  0.59634537,  0.27841252,  0.07048622],\n",
       "        [ 1.1423538 , 10.37362   ,  1.7267089 ,  1.1280934 ,  3.0918975 ,\n",
       "          0.8188106 ,  0.31527534,  0.3358658 ,  0.12945868],\n",
       "        [ 0.87237537,  2.9025762 ,  6.0620823 ,  3.660861  ,  3.6821346 ,\n",
       "          3.0401785 ,  0.7254109 ,  0.28502235,  0.14270055],\n",
       "        [ 1.9403199 ,  3.0408332 ,  3.2626722 ,  5.525336  ,  5.111029  ,\n",
       "          3.3093922 ,  1.4685024 ,  0.6374648 ,  0.17762737],\n",
       "        [ 0.8461594 ,  1.9905204 ,  2.8084047 ,  4.1924486 ,  5.559041  ,\n",
       "          3.578151  ,  1.7862767 ,  1.2867484 ,  0.25889912],\n",
       "        [ 1.0871929 ,  0.88876414,  2.6569402 ,  3.0897384 ,  3.4810073 ,\n",
       "          3.8233793 ,  1.6487906 ,  0.7129298 ,  0.40452144],\n",
       "        [ 0.6406475 ,  0.47970086,  0.7108412 ,  1.5911325 ,  1.7046449 ,\n",
       "          1.6100503 ,  1.9634528 ,  0.83730984,  0.407947  ],\n",
       "        [ 0.2770888 ,  0.39709765,  0.52416795,  0.79720324,  1.3383667 ,\n",
       "          0.9295444 ,  1.2970482 ,  1.5029612 ,  0.31036395],\n",
       "        [ 0.37249258,  0.08188828,  1.4871967 ,  1.2681558 ,  1.2056515 ,\n",
       "          1.1299236 ,  0.7052318 ,  0.64678895,  1.2744398 ]],\n",
       "       dtype=float32),\n",
       " 'c': array([1.        , 1.        , 0.8       , 0.875     , 0.78125   ,\n",
       "        0.74193548, 0.61290323, 0.64285714, 0.88235294]),\n",
       " 'm_ICU': array([0.        , 0.        , 0.        , 0.        , 0.14285714,\n",
       "        0.0625    , 0.16666667, 0.44      , 0.58333333]),\n",
       " 'm_C': array([0.        , 0.        , 0.        , 0.        , 0.08      ,\n",
       "        0.02173913, 0.        , 0.17777778, 0.36666667]),\n",
       " 'dc_R': array([ 0.        ,  2.749603  ,  5.        ,  5.65992043,  5.50739704,\n",
       "         6.95591027,  8.99119126,  8.41338151, 10.0829913 ]),\n",
       " 'dc_D': array([0.        , 0.        , 0.        , 0.        , 5.5       ,\n",
       "        1.381944  , 0.        , 7.63281125, 5.92537785]),\n",
       " 'dICU_R': array([ 0.        ,  0.        ,  0.        , 12.        , 14.68205933,\n",
       "         8.200185  ,  8.06114535, 13.52430479,  7.6156936 ]),\n",
       " 'dICU_D': array([ 0.        ,  0.        ,  0.        ,  0.        , 17.114581  ,\n",
       "        49.465275  , 12.005555  , 25.52360955,  9.82499929]),\n",
       " 'dICUrec': array([ 0.        ,  0.        ,  5.        , 10.        ,  4.85714286,\n",
       "         8.0526475 ,  3.47311908,  8.76713844,  6.35376083]),\n",
       " 'h': array([0.001, 0.003, 0.012, 0.032, 0.049, 0.102, 0.166, 0.243, 0.273]),\n",
       " 'a': array([0.71, 0.79, 0.73, 0.67, 0.6 , 0.51, 0.37, 0.31, 0.31]),\n",
       " 's': array([0.4 , 0.38, 0.79, 0.86, 0.8 , 0.82, 0.88, 0.74, 0.74]),\n",
       " 'place': array([[7.82887752e-01, 4.38638179e-02, 2.76247004e-02, ...,\n",
       "         1.28922010e-04, 1.38780752e-03, 7.07807112e-05],\n",
       "        [1.85681457e-01, 5.31539685e-01, 3.35513523e-02, ...,\n",
       "         9.19215132e-05, 1.42124801e-03, 5.65670850e-05],\n",
       "        [1.24653535e-01, 4.12220914e-02, 6.97745139e-01, ...,\n",
       "         1.42545654e-04, 1.07701161e-03, 1.05589373e-04],\n",
       "        ...,\n",
       "        [5.27698128e-03, 1.97585600e-03, 1.20479025e-03, ...,\n",
       "         5.28541481e-01, 1.71441652e-01, 1.18310402e-02],\n",
       "        [5.86311126e-03, 1.91296427e-03, 1.20905967e-03, ...,\n",
       "         2.98952424e-02, 5.86162064e-01, 7.87545029e-03],\n",
       "        [6.03638143e-03, 1.95774533e-03, 1.67224080e-03, ...,\n",
       "         2.85096664e-02, 7.63520679e-02, 4.33477445e-01]]),\n",
       " 'da': 7.0,\n",
       " 'dm': 7.0,\n",
       " 'der': 2.8,\n",
       " 'dhospital': 7.5,\n",
       " 'sigma': 3.2,\n",
       " 'omega': 2.0,\n",
       " 'zeta': 0.0,\n",
       " 'beta': 0.03492,\n",
       " 'l': 5,\n",
       " 'tau': 5}"
      ]
     },
     "execution_count": 40,
     "metadata": {},
     "output_type": "execute_result"
    }
   ],
   "source": [
    "params"
   ]
  },
  {
   "cell_type": "code",
   "execution_count": 44,
   "metadata": {
    "ExecuteTime": {
     "end_time": "2020-09-29T20:18:43.759814Z",
     "start_time": "2020-09-29T20:18:43.698972Z"
    }
   },
   "outputs": [
    {
     "data": {
      "text/plain": [
       "{'beta': 0.5,\n",
       " 'sigma': 3.2,\n",
       " 'omega': 2.0,\n",
       " 'zeta': 0.0,\n",
       " 'da': 7.0,\n",
       " 'dm': 7.0,\n",
       " 'der': 2.8,\n",
       " 'dhospital': 7.5,\n",
       " 's': array([0.4 , 0.38, 0.79, 0.86, 0.8 , 0.82, 0.88, 0.74, 0.74]),\n",
       " 'a': array([0.71, 0.79, 0.73, 0.67, 0.6 , 0.51, 0.37, 0.31, 0.31]),\n",
       " 'h': array([0.001, 0.003, 0.012, 0.032, 0.049, 0.102, 0.166, 0.243, 0.273]),\n",
       " 'c': array([1.        , 1.        , 0.8       , 0.875     , 0.78125   ,\n",
       "        0.74193548, 0.61290323, 0.64285714, 0.88235294]),\n",
       " 'm_C': array([0.        , 0.        , 0.        , 0.        , 0.08      ,\n",
       "        0.02173913, 0.        , 0.17777778, 0.36666667]),\n",
       " 'm_ICU': array([0.        , 0.        , 0.        , 0.        , 0.14285714,\n",
       "        0.0625    , 0.16666667, 0.44      , 0.58333333]),\n",
       " 'dc_R': array([ 0.        ,  2.749603  ,  5.        ,  5.65992043,  5.50739704,\n",
       "         6.95591027,  8.99119126,  8.41338151, 10.0829913 ]),\n",
       " 'dc_D': array([0.        , 0.        , 0.        , 0.        , 5.5       ,\n",
       "        1.381944  , 0.        , 7.63281125, 5.92537785]),\n",
       " 'dICU_R': array([ 0.        ,  0.        ,  0.        , 12.        , 14.68205933,\n",
       "         8.200185  ,  8.06114535, 13.52430479,  7.6156936 ]),\n",
       " 'dICU_D': array([ 0.        ,  0.        ,  0.        ,  0.        , 17.114581  ,\n",
       "        49.465275  , 12.005555  , 25.52360955,  9.82499929]),\n",
       " 'dICUrec': array([ 0.        ,  0.        ,  5.        , 10.        ,  4.85714286,\n",
       "         8.0526475 ,  3.47311908,  8.76713844,  6.35376083]),\n",
       " 'place': array([[7.82887752e-01, 4.38638179e-02, 2.76247004e-02, ...,\n",
       "         1.28922010e-04, 1.38780752e-03, 7.07807112e-05],\n",
       "        [1.85681457e-01, 5.31539685e-01, 3.35513523e-02, ...,\n",
       "         9.19215132e-05, 1.42124801e-03, 5.65670850e-05],\n",
       "        [1.24653535e-01, 4.12220914e-02, 6.97745139e-01, ...,\n",
       "         1.42545654e-04, 1.07701161e-03, 1.05589373e-04],\n",
       "        ...,\n",
       "        [5.27698128e-03, 1.97585600e-03, 1.20479025e-03, ...,\n",
       "         5.28541481e-01, 1.71441652e-01, 1.18310402e-02],\n",
       "        [5.86311126e-03, 1.91296427e-03, 1.20905967e-03, ...,\n",
       "         2.98952424e-02, 5.86162064e-01, 7.87545029e-03],\n",
       "        [6.03638143e-03, 1.95774533e-03, 1.67224080e-03, ...,\n",
       "         2.85096664e-02, 7.63520679e-02, 4.33477445e-01]]),\n",
       " 'Nc': array([[ 7.7050138 ,  1.2862432 ,  1.1001225 ,  2.5043283 ,  1.6116176 ,\n",
       "          0.8171135 ,  0.59634537,  0.27841252,  0.07048622],\n",
       "        [ 1.1423538 , 10.37362   ,  1.7267089 ,  1.1280934 ,  3.0918975 ,\n",
       "          0.8188106 ,  0.31527534,  0.3358658 ,  0.12945868],\n",
       "        [ 0.87237537,  2.9025762 ,  6.0620823 ,  3.660861  ,  3.6821346 ,\n",
       "          3.0401785 ,  0.7254109 ,  0.28502235,  0.14270055],\n",
       "        [ 1.9403199 ,  3.0408332 ,  3.2626722 ,  5.525336  ,  5.111029  ,\n",
       "          3.3093922 ,  1.4685024 ,  0.6374648 ,  0.17762737],\n",
       "        [ 0.8461594 ,  1.9905204 ,  2.8084047 ,  4.1924486 ,  5.559041  ,\n",
       "          3.578151  ,  1.7862767 ,  1.2867484 ,  0.25889912],\n",
       "        [ 1.0871929 ,  0.88876414,  2.6569402 ,  3.0897384 ,  3.4810073 ,\n",
       "          3.8233793 ,  1.6487906 ,  0.7129298 ,  0.40452144],\n",
       "        [ 0.6406475 ,  0.47970086,  0.7108412 ,  1.5911325 ,  1.7046449 ,\n",
       "          1.6100503 ,  1.9634528 ,  0.83730984,  0.407947  ],\n",
       "        [ 0.2770888 ,  0.39709765,  0.52416795,  0.79720324,  1.3383667 ,\n",
       "          0.9295444 ,  1.2970482 ,  1.5029612 ,  0.31036395],\n",
       "        [ 0.37249258,  0.08188828,  1.4871967 ,  1.2681558 ,  1.2056515 ,\n",
       "          1.1299236 ,  0.7052318 ,  0.64678895,  1.2744398 ]],\n",
       "       dtype=float32),\n",
       " 'l': 5,\n",
       " 'tau': 5}"
      ]
     },
     "execution_count": 44,
     "metadata": {},
     "output_type": "execute_result"
    }
   ],
   "source": [
    "# Change beta value\n",
    "# Original value is 0.03492\n",
    "model.parameters['beta'] = 0.5\n",
    "params = model.parameters\n",
    "params"
   ]
  },
  {
   "cell_type": "markdown",
   "metadata": {},
   "source": [
    "### Define a checkpoints dictionary and perform some simulations"
   ]
  },
  {
   "cell_type": "markdown",
   "metadata": {},
   "source": [
    "* A checkpoint is part of the original McGee code, where a policy change can be implemented. In this case: a policy change at the 20th of April 2020, where the interaction is altered: 0.3 * home interaction, 0.09 * work interaction, 0.12 * transportation interaction.\n",
    "* Check `model.sim?` for information on the simulation. The default starting date is 2020-03-15. Runs till September 21st\n",
    "* *Question*: what does `excess_time` mean, and how should I read the plot? Not sure what I'm looking at.\n",
    "* *Question* The results differ (more than) an *order of magnitude* in peak value. That's huge! Are these results at all useful? Note how the measures efficiently bring $R_0$ down under 1, causing new infections to die out fast.\n",
    "* *Question*: Why does the `out` dataset have a time dimension of 241? I thought the model only runs between 15 March and 21 September.\n",
    "* `NIS` dimension has been changed to `place` dimension (name change)\n",
    "\n",
    "* Also interesting (and expected): if we introduce more initial cases, chances of the infection dying out by chance are very slim, so the resulting time series will be more similar.\n",
    "* *Question*: where do the fluctuations on a single line come from? The only parameter change happens at 20 april."
   ]
  },
  {
   "cell_type": "code",
   "execution_count": 45,
   "metadata": {
    "ExecuteTime": {
     "end_time": "2020-09-29T20:23:27.588442Z",
     "start_time": "2020-09-29T20:23:27.528558Z"
    }
   },
   "outputs": [],
   "source": [
    "# Age-stratified\n",
    "Ninit_dummy, Nc_home, Nc_work, Nc_school, Nc_transport, Nc_leisure, Nc_others, Nc_total = polymod.get_interaction_matrices()\n",
    "\n",
    "# Not age-stratified\n",
    "# # this sums to 11.25\n",
    "# Nc_home = 3.21\n",
    "# Nc_work = 2.05\n",
    "# Nc_school = 0.95\n",
    "# Nc_transport = 0.41\n",
    "# Nc_leisure = 2.3\n",
    "# Nc_others = 2.33\n",
    "\n",
    "chk = {\n",
    "    'time': ['20-04-2020'],\n",
    "    'Nc':   [0.3*(1.0*Nc_home + 0.3*Nc_work + 0.4*Nc_transport)]\n",
    "}\n",
    "\n",
    "\n",
    "# out"
   ]
  },
  {
   "cell_type": "code",
   "execution_count": 50,
   "metadata": {
    "ExecuteTime": {
     "end_time": "2020-09-29T20:25:41.072307Z",
     "start_time": "2020-09-29T20:25:32.721587Z"
    }
   },
   "outputs": [
    {
     "data": {
      "image/png": "[encoded data removed]",
      "text/plain": [
       "<Figure size 432x288 with 1 Axes>"
      ]
     },
     "metadata": {
      "needs_background": "light"
     },
     "output_type": "display_data"
    }
   ],
   "source": [
    "# Note: this is computationally expensive\n",
    "\n",
    "# Run the model 20 times, sum over all age classes and arrondissements, show the new hospitalisations\n",
    "fig,ax=plt.subplots()\n",
    "for i in range(2):\n",
    "    out=model.sim('21-09-2020',excess_time=50,checkpoints=chk)\n",
    "    # Select this one for the sum of all NIS codes\n",
    "    #sumNIS=out.sum(dim=\"place\").sum(dim=\"Nc\")\n",
    "    # Select this one for only NIS==21000\n",
    "    sumNIS=out.sel(place=21000).sum(dim='Nc')\n",
    "    plt.plot(out[\"time\"].values,sumNIS[\"H_in\"].values,alpha=0.5,color='green')"
   ]
  },
  {
   "cell_type": "markdown",
   "metadata": {},
   "source": [
    "## Visualisation on a map"
   ]
  },
  {
   "cell_type": "markdown",
   "metadata": {},
   "source": [
    "### Read the arrondissements shape file"
   ]
  },
  {
   "cell_type": "code",
   "execution_count": 64,
   "metadata": {
    "ExecuteTime": {
     "end_time": "2020-09-29T20:54:00.849839Z",
     "start_time": "2020-09-29T20:54:00.303336Z"
    }
   },
   "outputs": [
    {
     "data": {
      "text/html": [
       "<div>\n",
       "<style scoped>\n",
       "    .dataframe tbody tr th:only-of-type {\n",
       "        vertical-align: middle;\n",
       "    }\n",
       "\n",
       "    .dataframe tbody tr th {\n",
       "        vertical-align: top;\n",
       "    }\n",
       "\n",
       "    .dataframe thead th {\n",
       "        text-align: right;\n",
       "    }\n",
       "</style>\n",
       "<table border=\"1\" class=\"dataframe\">\n",
       "  <thead>\n",
       "    <tr style=\"text-align: right;\">\n",
       "      <th></th>\n",
       "      <th>ModifDate</th>\n",
       "      <th>City</th>\n",
       "      <th>LanguageSt</th>\n",
       "      <th>NISCode</th>\n",
       "      <th>DistrictCa</th>\n",
       "      <th>ProvinceCa</th>\n",
       "      <th>RegionCapi</th>\n",
       "      <th>CountryCap</th>\n",
       "      <th>tgid</th>\n",
       "      <th>Shape_Leng</th>\n",
       "      <th>Shape_Area</th>\n",
       "      <th>NameDut</th>\n",
       "      <th>NameFre</th>\n",
       "      <th>NameGer</th>\n",
       "      <th>geometry</th>\n",
       "    </tr>\n",
       "  </thead>\n",
       "  <tbody>\n",
       "    <tr>\n",
       "      <th>0</th>\n",
       "      <td>2007-01-05</td>\n",
       "      <td>1</td>\n",
       "      <td>2</td>\n",
       "      <td>83034</td>\n",
       "      <td>1</td>\n",
       "      <td>0</td>\n",
       "      <td>0</td>\n",
       "      <td>0</td>\n",
       "      <td>{D0109DA3-34B8-46C0-92B8-BE65085732FB}</td>\n",
       "      <td>85650.096718</td>\n",
       "      <td>1.220723e+08</td>\n",
       "      <td>None</td>\n",
       "      <td>Marche-en-Famenne</td>\n",
       "      <td>None</td>\n",
       "      <td>POLYGON Z ((726984.424 600113.847 0.000, 72699...</td>\n",
       "    </tr>\n",
       "    <tr>\n",
       "      <th>1</th>\n",
       "      <td>2007-01-05</td>\n",
       "      <td>1</td>\n",
       "      <td>1</td>\n",
       "      <td>23027</td>\n",
       "      <td>0</td>\n",
       "      <td>0</td>\n",
       "      <td>0</td>\n",
       "      <td>0</td>\n",
       "      <td>{2E6FAFC1-84DF-472E-AA01-3499B29786C5}</td>\n",
       "      <td>45798.276630</td>\n",
       "      <td>4.498213e+07</td>\n",
       "      <td>Halle</td>\n",
       "      <td>None</td>\n",
       "      <td>None</td>\n",
       "      <td>POLYGON Z ((643229.384 658679.116 0.000, 64323...</td>\n",
       "    </tr>\n",
       "    <tr>\n",
       "      <th>2</th>\n",
       "      <td>2007-01-05</td>\n",
       "      <td>2</td>\n",
       "      <td>2</td>\n",
       "      <td>91103</td>\n",
       "      <td>0</td>\n",
       "      <td>0</td>\n",
       "      <td>0</td>\n",
       "      <td>0</td>\n",
       "      <td>{26279847-D2CA-49E1-9EAE-0D8595F62FA7}</td>\n",
       "      <td>56990.073560</td>\n",
       "      <td>6.565876e+07</td>\n",
       "      <td>None</td>\n",
       "      <td>Onhaye</td>\n",
       "      <td>None</td>\n",
       "      <td>POLYGON Z ((679740.122 601677.244 0.000, 67975...</td>\n",
       "    </tr>\n",
       "    <tr>\n",
       "      <th>3</th>\n",
       "      <td>2007-01-05</td>\n",
       "      <td>1</td>\n",
       "      <td>2</td>\n",
       "      <td>91034</td>\n",
       "      <td>1</td>\n",
       "      <td>0</td>\n",
       "      <td>0</td>\n",
       "      <td>0</td>\n",
       "      <td>{CD6CED5D-6CD9-4446-B643-B8CDAABAC8BA}</td>\n",
       "      <td>71326.001927</td>\n",
       "      <td>1.000560e+08</td>\n",
       "      <td>None</td>\n",
       "      <td>Dinant</td>\n",
       "      <td>None</td>\n",
       "      <td>POLYGON Z ((692802.454 600840.203 0.000, 69279...</td>\n",
       "    </tr>\n",
       "    <tr>\n",
       "      <th>4</th>\n",
       "      <td>2007-01-05</td>\n",
       "      <td>2</td>\n",
       "      <td>2</td>\n",
       "      <td>82037</td>\n",
       "      <td>0</td>\n",
       "      <td>0</td>\n",
       "      <td>0</td>\n",
       "      <td>0</td>\n",
       "      <td>{92E40A08-FC1A-44D5-94E3-D4D494FFB7C9}</td>\n",
       "      <td>76994.149941</td>\n",
       "      <td>1.653600e+08</td>\n",
       "      <td>None</td>\n",
       "      <td>Gouvy</td>\n",
       "      <td>None</td>\n",
       "      <td>POLYGON Z ((768030.137 598110.413 0.000, 76801...</td>\n",
       "    </tr>\n",
       "    <tr>\n",
       "      <th>...</th>\n",
       "      <td>...</td>\n",
       "      <td>...</td>\n",
       "      <td>...</td>\n",
       "      <td>...</td>\n",
       "      <td>...</td>\n",
       "      <td>...</td>\n",
       "      <td>...</td>\n",
       "      <td>...</td>\n",
       "      <td>...</td>\n",
       "      <td>...</td>\n",
       "      <td>...</td>\n",
       "      <td>...</td>\n",
       "      <td>...</td>\n",
       "      <td>...</td>\n",
       "      <td>...</td>\n",
       "    </tr>\n",
       "    <tr>\n",
       "      <th>576</th>\n",
       "      <td>2007-01-05</td>\n",
       "      <td>2</td>\n",
       "      <td>1</td>\n",
       "      <td>23064</td>\n",
       "      <td>0</td>\n",
       "      <td>0</td>\n",
       "      <td>0</td>\n",
       "      <td>0</td>\n",
       "      <td>{E6C9ECDB-1BB4-4942-9D8F-919114BC3F62}</td>\n",
       "      <td>50680.415145</td>\n",
       "      <td>3.593223e+07</td>\n",
       "      <td>Pepingen</td>\n",
       "      <td>None</td>\n",
       "      <td>None</td>\n",
       "      <td>POLYGON Z ((636874.113 659652.145 0.000, 63686...</td>\n",
       "    </tr>\n",
       "    <tr>\n",
       "      <th>577</th>\n",
       "      <td>2007-01-05</td>\n",
       "      <td>2</td>\n",
       "      <td>6</td>\n",
       "      <td>51019</td>\n",
       "      <td>0</td>\n",
       "      <td>0</td>\n",
       "      <td>0</td>\n",
       "      <td>0</td>\n",
       "      <td>{7A0BC03D-70EE-433C-96DE-DE3235252F75}</td>\n",
       "      <td>27288.466641</td>\n",
       "      <td>2.328128e+07</td>\n",
       "      <td>Vloesberg</td>\n",
       "      <td>Flobecq</td>\n",
       "      <td>None</td>\n",
       "      <td>POLYGON Z ((606791.633 658587.815 0.000, 60670...</td>\n",
       "    </tr>\n",
       "    <tr>\n",
       "      <th>578</th>\n",
       "      <td>2007-01-05</td>\n",
       "      <td>2</td>\n",
       "      <td>1</td>\n",
       "      <td>23023</td>\n",
       "      <td>0</td>\n",
       "      <td>0</td>\n",
       "      <td>0</td>\n",
       "      <td>0</td>\n",
       "      <td>{A29E3DCF-FCB8-48A3-A535-1D6142B94946}</td>\n",
       "      <td>34773.550910</td>\n",
       "      <td>3.529040e+07</td>\n",
       "      <td>Galmaarden</td>\n",
       "      <td>None</td>\n",
       "      <td>None</td>\n",
       "      <td>POLYGON Z ((624454.001 657690.921 0.000, 62444...</td>\n",
       "    </tr>\n",
       "    <tr>\n",
       "      <th>579</th>\n",
       "      <td>2007-01-05</td>\n",
       "      <td>2</td>\n",
       "      <td>5</td>\n",
       "      <td>23100</td>\n",
       "      <td>0</td>\n",
       "      <td>0</td>\n",
       "      <td>0</td>\n",
       "      <td>0</td>\n",
       "      <td>{9BEE1FE4-7916-47D3-BC0F-DA8CDB553779}</td>\n",
       "      <td>11726.014201</td>\n",
       "      <td>4.189117e+06</td>\n",
       "      <td>Linkebeek</td>\n",
       "      <td>Linkebeek</td>\n",
       "      <td>None</td>\n",
       "      <td>POLYGON Z ((648812.711 662598.946 0.000, 64881...</td>\n",
       "    </tr>\n",
       "    <tr>\n",
       "      <th>580</th>\n",
       "      <td>2007-01-05</td>\n",
       "      <td>2</td>\n",
       "      <td>2</td>\n",
       "      <td>57095</td>\n",
       "      <td>0</td>\n",
       "      <td>0</td>\n",
       "      <td>0</td>\n",
       "      <td>0</td>\n",
       "      <td>{E5FC9397-646F-4C17-ADAE-D75E8E5CCFD3}</td>\n",
       "      <td>32658.275921</td>\n",
       "      <td>2.715877e+07</td>\n",
       "      <td>None</td>\n",
       "      <td>Mont-de-l'Enclus</td>\n",
       "      <td>None</td>\n",
       "      <td>POLYGON Z ((588762.012 655902.423 0.000, 58875...</td>\n",
       "    </tr>\n",
       "  </tbody>\n",
       "</table>\n",
       "<p>581 rows × 15 columns</p>\n",
       "</div>"
      ],
      "text/plain": [
       "      ModifDate  City  LanguageSt NISCode  DistrictCa  ProvinceCa  RegionCapi  \\\n",
       "0    2007-01-05     1           2   83034           1           0           0   \n",
       "1    2007-01-05     1           1   23027           0           0           0   \n",
       "2    2007-01-05     2           2   91103           0           0           0   \n",
       "3    2007-01-05     1           2   91034           1           0           0   \n",
       "4    2007-01-05     2           2   82037           0           0           0   \n",
       "..          ...   ...         ...     ...         ...         ...         ...   \n",
       "576  2007-01-05     2           1   23064           0           0           0   \n",
       "577  2007-01-05     2           6   51019           0           0           0   \n",
       "578  2007-01-05     2           1   23023           0           0           0   \n",
       "579  2007-01-05     2           5   23100           0           0           0   \n",
       "580  2007-01-05     2           2   57095           0           0           0   \n",
       "\n",
       "     CountryCap                                    tgid    Shape_Leng  \\\n",
       "0             0  {D0109DA3-34B8-46C0-92B8-BE65085732FB}  85650.096718   \n",
       "1             0  {2E6FAFC1-84DF-472E-AA01-3499B29786C5}  45798.276630   \n",
       "2             0  {26279847-D2CA-49E1-9EAE-0D8595F62FA7}  56990.073560   \n",
       "3             0  {CD6CED5D-6CD9-4446-B643-B8CDAABAC8BA}  71326.001927   \n",
       "4             0  {92E40A08-FC1A-44D5-94E3-D4D494FFB7C9}  76994.149941   \n",
       "..          ...                                     ...           ...   \n",
       "576           0  {E6C9ECDB-1BB4-4942-9D8F-919114BC3F62}  50680.415145   \n",
       "577           0  {7A0BC03D-70EE-433C-96DE-DE3235252F75}  27288.466641   \n",
       "578           0  {A29E3DCF-FCB8-48A3-A535-1D6142B94946}  34773.550910   \n",
       "579           0  {9BEE1FE4-7916-47D3-BC0F-DA8CDB553779}  11726.014201   \n",
       "580           0  {E5FC9397-646F-4C17-ADAE-D75E8E5CCFD3}  32658.275921   \n",
       "\n",
       "       Shape_Area     NameDut            NameFre NameGer  \\\n",
       "0    1.220723e+08        None  Marche-en-Famenne    None   \n",
       "1    4.498213e+07       Halle               None    None   \n",
       "2    6.565876e+07        None             Onhaye    None   \n",
       "3    1.000560e+08        None             Dinant    None   \n",
       "4    1.653600e+08        None              Gouvy    None   \n",
       "..            ...         ...                ...     ...   \n",
       "576  3.593223e+07    Pepingen               None    None   \n",
       "577  2.328128e+07   Vloesberg            Flobecq    None   \n",
       "578  3.529040e+07  Galmaarden               None    None   \n",
       "579  4.189117e+06   Linkebeek          Linkebeek    None   \n",
       "580  2.715877e+07        None   Mont-de-l'Enclus    None   \n",
       "\n",
       "                                              geometry  \n",
       "0    POLYGON Z ((726984.424 600113.847 0.000, 72699...  \n",
       "1    POLYGON Z ((643229.384 658679.116 0.000, 64323...  \n",
       "2    POLYGON Z ((679740.122 601677.244 0.000, 67975...  \n",
       "3    POLYGON Z ((692802.454 600840.203 0.000, 69279...  \n",
       "4    POLYGON Z ((768030.137 598110.413 0.000, 76801...  \n",
       "..                                                 ...  \n",
       "576  POLYGON Z ((636874.113 659652.145 0.000, 63686...  \n",
       "577  POLYGON Z ((606791.633 658587.815 0.000, 60670...  \n",
       "578  POLYGON Z ((624454.001 657690.921 0.000, 62444...  \n",
       "579  POLYGON Z ((648812.711 662598.946 0.000, 64881...  \n",
       "580  POLYGON Z ((588762.012 655902.423 0.000, 58875...  \n",
       "\n",
       "[581 rows x 15 columns]"
      ]
     },
     "execution_count": 64,
     "metadata": {},
     "output_type": "execute_result"
    }
   ],
   "source": [
    "# Load different geographical aggregations\n",
    "country = gp.read_file(\"../../data/raw/geopandas/BE/AD_6_Country.shp\") # 1 entry\n",
    "regions = gp.read_file(\"../../data/raw/geopandas/BE/AD_5_Region.shp\") # 3 entries\n",
    "provinces = gp.read_file(\"../../data/raw/geopandas/BE/AD_4_Province.shp\") # 11 entries\n",
    "arrondissements = gp.read_file(\"../../data/raw/geopandas/BE/AD_3_District.shp\") # 43 entries\n",
    "municipalities = gp.read_file(\"../../data/raw/geopandas/BE/AD_2_Municipality.shp\") # 581 entries\n",
    "\n",
    "municipalities"
   ]
  },
  {
   "cell_type": "markdown",
   "metadata": {},
   "source": [
    "### Perform a single simulation"
   ]
  },
  {
   "cell_type": "markdown",
   "metadata": {},
   "source": [
    "#### Comments Michiel\n",
    "* Again note that different simulations give *very* different results (more than order of magnitude difference)! Run code below a couple of time to see this.\n",
    "* The plot below shows whether the pandemic was 'serious': it shows whether it is worth making a gif from\n",
    "* In images the cumulative data is shown. In the plot below as well.\n",
    "* The statement `out.sum(dim=\"Nc\")['M'][:,day]` can be made more efficient with cumsumNIS_M (but not really necessary)\n",
    "* x100 in `data2plot` because we want to show the percentage\n",
    "* `norm=colors.LogNorm`: Normalize a given value to the 0-1 range on a log scale.\n",
    "* I'm not sure what the difference is between the first frame and the other frames (legend on/off?)\n",
    "* "
   ]
  },
  {
   "cell_type": "code",
   "execution_count": 65,
   "metadata": {
    "ExecuteTime": {
     "end_time": "2020-09-29T21:51:13.766426Z",
     "start_time": "2020-09-29T21:45:22.015187Z"
    }
   },
   "outputs": [
    {
     "name": "stderr",
     "output_type": "stream",
     "text": [
      "[autoreload of covid19model.models.models failed: Traceback (most recent call last):\n",
      "  File \"C:\\Anaconda3\\lib\\site-packages\\IPython\\extensions\\autoreload.py\", line 245, in check\n",
      "    superreload(m, reload, self.old_objects)\n",
      "  File \"C:\\Anaconda3\\lib\\site-packages\\IPython\\extensions\\autoreload.py\", line 450, in superreload\n",
      "    update_generic(old_obj, new_obj)\n",
      "  File \"C:\\Anaconda3\\lib\\site-packages\\IPython\\extensions\\autoreload.py\", line 387, in update_generic\n",
      "    update(a, b)\n",
      "  File \"C:\\Anaconda3\\lib\\site-packages\\IPython\\extensions\\autoreload.py\", line 332, in update_class\n",
      "    if (old_obj == new_obj) is True:\n",
      "ValueError: The truth value of an array with more than one element is ambiguous. Use a.any() or a.all()\n",
      "]\n",
      "c:\\users\\mrollier\\documents\\github\\covid19-model\\src\\covid19model\\models\\models.py:333: RuntimeWarning: divide by zero encountered in true_divide\n",
      "  (1 - np.exp(- l * m_ICU * (1/dICU_D) ))*np.ones([place.shape[0],Nc.shape[0]]),\n",
      "c:\\users\\mrollier\\documents\\github\\covid19-model\\src\\covid19model\\models\\models.py:334: RuntimeWarning: divide by zero encountered in true_divide\n",
      "  (1 - np.exp(- l * zeta ))*np.ones([place.shape[0],Nc.shape[0]]),\n",
      "c:\\users\\mrollier\\documents\\github\\covid19-model\\src\\covid19model\\models\\models.py:335: RuntimeWarning: divide by zero encountered in true_divide\n",
      "  ]\n",
      "c:\\users\\mrollier\\documents\\github\\covid19-model\\src\\covid19model\\models\\models.py:336: RuntimeWarning: divide by zero encountered in true_divide\n",
      "  \n",
      "c:\\users\\mrollier\\documents\\github\\covid19-model\\src\\covid19model\\models\\models.py:336: RuntimeWarning: invalid value encountered in multiply\n",
      "  \n",
      "c:\\users\\mrollier\\documents\\github\\covid19-model\\src\\covid19model\\models\\models.py:337: RuntimeWarning: divide by zero encountered in true_divide\n",
      "  states = [S,E,I,I,A,M,M,ER,ER,C,ICU,C_icurec,C,ICU,R]\n",
      "c:\\users\\mrollier\\documents\\github\\covid19-model\\src\\covid19model\\models\\models.py:337: RuntimeWarning: invalid value encountered in multiply\n",
      "  states = [S,E,I,I,A,M,M,ER,ER,C,ICU,C_icurec,C,ICU,R]\n"
     ]
    },
    {
     "data": {
      "text/plain": [
       "[<matplotlib.lines.Line2D at 0x22ad7298e10>]"
      ]
     },
     "execution_count": 65,
     "metadata": {},
     "output_type": "execute_result"
    },
    {
     "data": {
      "image/png": "[encoded data removed]",
      "text/plain": [
       "<Figure size 432x288 with 1 Axes>"
      ]
     },
     "metadata": {
      "needs_background": "light"
     },
     "output_type": "display_data"
    }
   ],
   "source": [
    "# simulation for 250 days (after March 15th) with the measure changes defined above\n",
    "out=model.sim(250,checkpoints=chk)\n",
    "\n",
    "# Again sum over all ages and arrondissements, and show people that are mildly affected on a national level\n",
    "sumNIS=out.sum(dim=\"place\").sum(dim=\"Nc\")\n",
    "cumsumNIS_M = np.cumsum(sumNIS[\"M\"]) # sumNIS[\"M\"]\n",
    "plt.plot(out[\"time\"], cumsumNIS_M, alpha=0.5, color='green')"
   ]
  },
  {
   "cell_type": "code",
   "execution_count": 131,
   "metadata": {},
   "outputs": [],
   "source": [
    "output_path = 'results/maps'\n",
    "\n",
    "# create the plot\n",
    "fig, ax = plt.subplots(figsize = (12,12)) # 12 inches x 12 inches\n",
    "\n",
    "start = 0\n",
    "\n",
    "# Create daily images for a .gif\n",
    "for day in range(start,len(out['time'].values)):\n",
    "    # Get data\n",
    "    # Sum over age classes (not interested in those yet) and show the percentage of mildly symptomatic people\n",
    "    data2plot = out.sum(dim=\"Nc\")['M'][:,day].values / initN_df['total'].values*100\n",
    "    \n",
    "    # Make new 'data' column with the cumulative mildly symptomatic people that is updated every iteration\n",
    "    arrondissementen['data'] = data2plot\n",
    "    \n",
    "    # Visualize data\n",
    "    # Only produce a legend in the first frame?\n",
    "    if day == start:\n",
    "        fig = arrondissementen.plot(column = 'data', ax=ax, cmap='plasma',\n",
    "                                    norm=colors.LogNorm(vmin=0.001, vmax=1), legend=True, edgecolor = 'k')\n",
    "    else:\n",
    "        fig = arrondissementen.plot(column = 'data', ax=ax, cmap='plasma',\n",
    "                                    norm=colors.LogNorm(vmin=0.001, vmax=1), legend=False, edgecolor = 'k')\n",
    "    # Disable axis\n",
    "    ax.set_axis_off()\n",
    "    # This will save the figure as a high-res png in the output path. You can also save as svg if you prefer.\n",
    "    chart = fig.get_figure()\n",
    "    #chart.savefig(output_path + str(day) + '_B.jpg' ,dpi=100)\n",
    "    \n",
    "    plt.close()"
   ]
  },
  {
   "cell_type": "code",
   "execution_count": 227,
   "metadata": {
    "ExecuteTime": {
     "end_time": "2020-09-29T16:07:40.338931Z",
     "start_time": "2020-09-29T16:07:40.137506Z"
    }
   },
   "outputs": [
    {
     "ename": "ValueError",
     "evalue": "No match for 'arrondissement la louvière' found",
     "output_type": "error",
     "traceback": [
      "\u001b[1;31m---------------------------------------------------------------------------\u001b[0m",
      "\u001b[1;31mValueError\u001b[0m                                Traceback (most recent call last)",
      "\u001b[1;32m<ipython-input-227-78b0d5380a2b>\u001b[0m in \u001b[0;36m<module>\u001b[1;34m\u001b[0m\n\u001b[0;32m      2\u001b[0m \u001b[0mfig\u001b[0m\u001b[1;33m.\u001b[0m\u001b[0mset_size_inches\u001b[0m\u001b[1;33m(\u001b[0m\u001b[1;36m16\u001b[0m\u001b[1;33m,\u001b[0m \u001b[1;36m4\u001b[0m\u001b[1;33m)\u001b[0m\u001b[1;33m\u001b[0m\u001b[1;33m\u001b[0m\u001b[0m\n\u001b[0;32m      3\u001b[0m \u001b[0max\u001b[0m\u001b[1;33m.\u001b[0m\u001b[0mplot\u001b[0m\u001b[1;33m(\u001b[0m\u001b[0mout\u001b[0m\u001b[1;33m[\u001b[0m\u001b[1;34m'time'\u001b[0m\u001b[1;33m]\u001b[0m\u001b[1;33m[\u001b[0m\u001b[1;36m50\u001b[0m\u001b[1;33m:\u001b[0m\u001b[1;36m200\u001b[0m\u001b[1;33m]\u001b[0m\u001b[1;33m,\u001b[0m\u001b[0mout\u001b[0m\u001b[1;33m.\u001b[0m\u001b[0msel\u001b[0m\u001b[1;33m(\u001b[0m\u001b[0mplace\u001b[0m\u001b[1;33m=\u001b[0m\u001b[0mname2nis\u001b[0m\u001b[1;33m(\u001b[0m\u001b[1;34m'arrondissement antwerpen'\u001b[0m\u001b[1;33m)\u001b[0m\u001b[1;33m)\u001b[0m\u001b[1;33m.\u001b[0m\u001b[0msum\u001b[0m\u001b[1;33m(\u001b[0m\u001b[0mdim\u001b[0m\u001b[1;33m=\u001b[0m\u001b[1;34m'Nc'\u001b[0m\u001b[1;33m)\u001b[0m\u001b[1;33m[\u001b[0m\u001b[1;34m'M'\u001b[0m\u001b[1;33m]\u001b[0m\u001b[1;33m[\u001b[0m\u001b[1;36m50\u001b[0m\u001b[1;33m:\u001b[0m\u001b[1;36m200\u001b[0m\u001b[1;33m]\u001b[0m\u001b[1;33m,\u001b[0m\u001b[0mcolor\u001b[0m\u001b[1;33m=\u001b[0m\u001b[1;34m'blue'\u001b[0m\u001b[1;33m,\u001b[0m\u001b[0malpha\u001b[0m\u001b[1;33m=\u001b[0m\u001b[1;36m0.40\u001b[0m\u001b[1;33m)\u001b[0m\u001b[1;33m\u001b[0m\u001b[1;33m\u001b[0m\u001b[0m\n\u001b[1;32m----> 4\u001b[1;33m \u001b[0max\u001b[0m\u001b[1;33m.\u001b[0m\u001b[0mplot\u001b[0m\u001b[1;33m(\u001b[0m\u001b[0mout\u001b[0m\u001b[1;33m[\u001b[0m\u001b[1;34m'time'\u001b[0m\u001b[1;33m]\u001b[0m\u001b[1;33m[\u001b[0m\u001b[1;36m50\u001b[0m\u001b[1;33m:\u001b[0m\u001b[1;36m200\u001b[0m\u001b[1;33m]\u001b[0m\u001b[1;33m,\u001b[0m\u001b[0mout\u001b[0m\u001b[1;33m.\u001b[0m\u001b[0msel\u001b[0m\u001b[1;33m(\u001b[0m\u001b[0mplace\u001b[0m\u001b[1;33m=\u001b[0m\u001b[0mname2nis\u001b[0m\u001b[1;33m(\u001b[0m\u001b[1;34m'arrondissement La Louvière'\u001b[0m\u001b[1;33m)\u001b[0m\u001b[1;33m)\u001b[0m\u001b[1;33m.\u001b[0m\u001b[0msum\u001b[0m\u001b[1;33m(\u001b[0m\u001b[0mdim\u001b[0m\u001b[1;33m=\u001b[0m\u001b[1;34m'Nc'\u001b[0m\u001b[1;33m)\u001b[0m\u001b[1;33m[\u001b[0m\u001b[1;34m'M'\u001b[0m\u001b[1;33m]\u001b[0m\u001b[1;33m[\u001b[0m\u001b[1;36m50\u001b[0m\u001b[1;33m:\u001b[0m\u001b[1;36m200\u001b[0m\u001b[1;33m]\u001b[0m\u001b[1;33m,\u001b[0m\u001b[0mcolor\u001b[0m\u001b[1;33m=\u001b[0m\u001b[1;34m'red'\u001b[0m\u001b[1;33m,\u001b[0m\u001b[0malpha\u001b[0m\u001b[1;33m=\u001b[0m\u001b[1;36m0.40\u001b[0m\u001b[1;33m)\u001b[0m\u001b[1;33m\u001b[0m\u001b[1;33m\u001b[0m\u001b[0m\n\u001b[0m\u001b[0;32m      5\u001b[0m \u001b[0max\u001b[0m\u001b[1;33m.\u001b[0m\u001b[0mplot\u001b[0m\u001b[1;33m(\u001b[0m\u001b[0mout\u001b[0m\u001b[1;33m[\u001b[0m\u001b[1;34m'time'\u001b[0m\u001b[1;33m]\u001b[0m\u001b[1;33m[\u001b[0m\u001b[1;36m50\u001b[0m\u001b[1;33m:\u001b[0m\u001b[1;36m200\u001b[0m\u001b[1;33m]\u001b[0m\u001b[1;33m,\u001b[0m\u001b[0mout\u001b[0m\u001b[1;33m.\u001b[0m\u001b[0msel\u001b[0m\u001b[1;33m(\u001b[0m\u001b[0mplace\u001b[0m\u001b[1;33m=\u001b[0m\u001b[0mname2nis\u001b[0m\u001b[1;33m(\u001b[0m\u001b[1;34m'arrondissement luik'\u001b[0m\u001b[1;33m)\u001b[0m\u001b[1;33m)\u001b[0m\u001b[1;33m.\u001b[0m\u001b[0msum\u001b[0m\u001b[1;33m(\u001b[0m\u001b[0mdim\u001b[0m\u001b[1;33m=\u001b[0m\u001b[1;34m'Nc'\u001b[0m\u001b[1;33m)\u001b[0m\u001b[1;33m[\u001b[0m\u001b[1;34m'M'\u001b[0m\u001b[1;33m]\u001b[0m\u001b[1;33m[\u001b[0m\u001b[1;36m50\u001b[0m\u001b[1;33m:\u001b[0m\u001b[1;36m200\u001b[0m\u001b[1;33m]\u001b[0m\u001b[1;33m,\u001b[0m\u001b[0mcolor\u001b[0m\u001b[1;33m=\u001b[0m\u001b[1;34m'black'\u001b[0m\u001b[1;33m,\u001b[0m\u001b[0malpha\u001b[0m\u001b[1;33m=\u001b[0m\u001b[1;36m0.40\u001b[0m\u001b[1;33m)\u001b[0m\u001b[1;33m\u001b[0m\u001b[1;33m\u001b[0m\u001b[0m\n\u001b[0;32m      6\u001b[0m \u001b[0max\u001b[0m\u001b[1;33m.\u001b[0m\u001b[0mlegend\u001b[0m\u001b[1;33m(\u001b[0m\u001b[1;33m[\u001b[0m\u001b[1;34m'Antwerp'\u001b[0m\u001b[1;33m,\u001b[0m\u001b[1;34m'Brussels'\u001b[0m\u001b[1;33m,\u001b[0m\u001b[1;34m'Luik'\u001b[0m\u001b[1;33m]\u001b[0m\u001b[1;33m)\u001b[0m\u001b[1;33m\u001b[0m\u001b[1;33m\u001b[0m\u001b[0m\n",
      "\u001b[1;32mc:\\users\\mrollier\\documents\\github\\covid19-model\\src\\covid19model\\models\\utils.py\u001b[0m in \u001b[0;36mname2nis\u001b[1;34m(name)\u001b[0m\n\u001b[0;32m     38\u001b[0m     \u001b[1;32mif\u001b[0m \u001b[1;32mnot\u001b[0m \u001b[0mname\u001b[0m \u001b[1;32min\u001b[0m \u001b[0mpos_name_lower\u001b[0m\u001b[1;33m:\u001b[0m\u001b[1;33m\u001b[0m\u001b[1;33m\u001b[0m\u001b[0m\n\u001b[0;32m     39\u001b[0m         raise ValueError(\n\u001b[1;32m---> 40\u001b[1;33m                 \u001b[1;34m\"No match for '{0}' found\"\u001b[0m\u001b[1;33m.\u001b[0m\u001b[0mformat\u001b[0m\u001b[1;33m(\u001b[0m\u001b[0mname\u001b[0m\u001b[1;33m)\u001b[0m\u001b[1;33m\u001b[0m\u001b[1;33m\u001b[0m\u001b[0m\n\u001b[0m\u001b[0;32m     41\u001b[0m             )\n\u001b[0;32m     42\u001b[0m     \u001b[1;32melse\u001b[0m\u001b[1;33m:\u001b[0m\u001b[1;33m\u001b[0m\u001b[1;33m\u001b[0m\u001b[0m\n",
      "\u001b[1;31mValueError\u001b[0m: No match for 'arrondissement la louvière' found"
     ]
    },
    {
     "data": {
      "image/png": "[encoded data removed]",
      "text/plain": [
       "<Figure size 1152x288 with 1 Axes>"
      ]
     },
     "metadata": {
      "needs_background": "light"
     },
     "output_type": "display_data"
    }
   ],
   "source": [
    "fig,ax=plt.subplots()\n",
    "fig.set_size_inches(16, 4)\n",
    "ax.plot(out['time'][50:200],out.sel(place=name2nis('arrondissement antwerpen')).sum(dim='Nc')['M'][50:200],color='blue',alpha=0.40)\n",
    "ax.plot(out['time'][50:200],out.sel(place=name2nis('arrondissement La Louvière')).sum(dim='Nc')['M'][50:200],color='red',alpha=0.40)\n",
    "ax.plot(out['time'][50:200],out.sel(place=name2nis('arrondissement luik')).sum(dim='Nc')['M'][50:200],color='black',alpha=0.40)\n",
    "ax.legend(['Antwerp','Brussels','Luik'])\n",
    "ax.axvline(130,color='black',linestyle='dashed')\n",
    "ax.set_title('Daily hospitalizations $(H_{in})$')\n",
    "fig.savefig('daily_hosp.jpg',dpi=300)"
   ]
  },
  {
   "cell_type": "markdown",
   "metadata": {},
   "source": [
    "## Experimentations"
   ]
  },
  {
   "cell_type": "code",
   "execution_count": 19,
   "metadata": {
    "ExecuteTime": {
     "end_time": "2020-09-29T19:23:32.338051Z",
     "start_time": "2020-09-29T19:23:32.281175Z"
    }
   },
   "outputs": [
    {
     "data": {
      "text/plain": [
       "1.6321205588285577"
      ]
     },
     "execution_count": 19,
     "metadata": {},
     "output_type": "execute_result"
    }
   ],
   "source": [
    "# I_hg[i] = I_h[i] ( (1-p[i])*np.identity(place.shape[0]-1)[h][g] + p[i]P_hg[i] )\n",
    "\n",
    "# T_g_eff[i] = T_h[i] * sum{h=1,G}( (1-p[i])*np.identity(place.shape[0]-1)[h][g] + p[i]P_hg[i] )\n",
    "\n",
    "# z[i] = T[i] / sum{h=1,G}( f(rho_eff) * T_h_eff[i] )\n",
    "\n",
    "def rho_eff(rho, xi):\n",
    "    f = 1 + (1 - np.exp(-xi*rho))\n",
    "    return rho\n",
    "    \n",
    "# rho_h_eff = sum{j=1,N}(T_h_eff[j] / a_h)\n",
    "\n",
    "rho_eff(1, 0.01)"
   ]
  }
 ],
 "metadata": {
  "kernelspec": {
   "display_name": "Python 3",
   "language": "python",
   "name": "python3"
  },
  "language_info": {
   "codemirror_mode": {
    "name": "ipython",
    "version": 3
   },
   "file_extension": ".py",
   "mimetype": "text/x-python",
   "name": "python",
   "nbconvert_exporter": "python",
   "pygments_lexer": "ipython3",
   "version": "3.7.3"
  },
  "toc": {
   "base_numbering": 1,
   "nav_menu": {},
   "number_sections": true,
   "sideBar": true,
   "skip_h1_title": false,
   "title_cell": "Table of Contents",
   "title_sidebar": "Contents",
   "toc_cell": false,
   "toc_position": {},
   "toc_section_display": true,
   "toc_window_display": false
  }
 },
 "nbformat": 4,
 "nbformat_minor": 4
}
