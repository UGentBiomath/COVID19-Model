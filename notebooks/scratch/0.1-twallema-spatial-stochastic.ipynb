{
 "cells": [
  {
   "cell_type": "markdown",
   "metadata": {},
   "source": [
    "## Spatial model"
   ]
  },
  {
   "cell_type": "code",
   "execution_count": null,
   "metadata": {
    "ExecuteTime": {
     "end_time": "2020-09-08T13:36:44.269116Z",
     "start_time": "2020-09-08T13:36:40.540919Z"
    }
   },
   "outputs": [],
   "source": [
    "import random\n",
    "import os\n",
    "import numpy as np\n",
    "import json\n",
    "import corner\n",
    "import random\n",
    "import os\n",
    "\n",
    "import pandas as pd\n",
    "import geopandas as gp\n",
    "import datetime\n",
    "import scipy\n",
    "import matplotlib\n",
    "import matplotlib.colors as colors\n",
    "import matplotlib.dates as mdates\n",
    "import math\n",
    "import xarray as xr\n",
    "import emcee\n",
    "import matplotlib.pyplot as plt\n",
    "\n",
    "from covid19model.optimization import objective_fcns\n",
    "from covid19model.models import models\n",
    "from covid19model.models.utils import name2nis\n",
    "from covid19model.data import google, sciensano, polymod, model_parameters\n",
    "from covid19model.visualization.output import population_status, infected\n",
    "from covid19model.visualization.optimization import plot_fit, traceplot\n",
    "\n",
    "# OPTIONAL: Load the \"autoreload\" extension so that package code can change\n",
    "%load_ext autoreload\n",
    "# OPTIONAL: always reload modules so that as you change code in src, it gets loaded\n",
    "%autoreload 2"
   ]
  },
  {
   "cell_type": "markdown",
   "metadata": {},
   "source": [
    "### Check name2nis functionality"
   ]
  },
  {
   "cell_type": "code",
   "execution_count": null,
   "metadata": {
    "ExecuteTime": {
     "end_time": "2020-09-08T13:38:22.320410Z",
     "start_time": "2020-09-08T13:38:22.271887Z"
    }
   },
   "outputs": [],
   "source": [
    "name2nis('Arrondissement La Louvière')"
   ]
  },
  {
   "cell_type": "code",
   "execution_count": null,
   "metadata": {},
   "outputs": [],
   "source": [
    "name2nis('arrondissement Roeselare')"
   ]
  },
  {
   "cell_type": "code",
   "execution_count": null,
   "metadata": {},
   "outputs": [],
   "source": [
    "name2nis('Arrondissement oeselare')"
   ]
  },
  {
   "cell_type": "code",
   "execution_count": null,
   "metadata": {},
   "outputs": [],
   "source": [
    "name2nis(5)"
   ]
  },
  {
   "cell_type": "markdown",
   "metadata": {},
   "source": [
    "### Extract population size (initN)"
   ]
  },
  {
   "cell_type": "code",
   "execution_count": null,
   "metadata": {
    "ExecuteTime": {
     "end_time": "2020-09-08T13:37:35.785707Z",
     "start_time": "2020-09-08T13:37:35.740656Z"
    }
   },
   "outputs": [],
   "source": [
    "initN_df=pd.read_csv('../../data/interim/demographic/initN_arrond.csv', index_col=[0])\n",
    "initN=initN_df.total.values"
   ]
  },
  {
   "cell_type": "code",
   "execution_count": null,
   "metadata": {},
   "outputs": [],
   "source": [
    "initN_df.head()"
   ]
  },
  {
   "cell_type": "markdown",
   "metadata": {},
   "source": [
    "### Load Polymod interaction matrices"
   ]
  },
  {
   "cell_type": "code",
   "execution_count": null,
   "metadata": {},
   "outputs": [],
   "source": [
    "dummy_initN, Nc_home, Nc_work, Nc_schools, Nc_transport, Nc_leisure, Nc_others, Nc_total = model_parameters.get_interaction_matrices()"
   ]
  },
  {
   "cell_type": "markdown",
   "metadata": {},
   "source": [
    "### Initialize model"
   ]
  },
  {
   "cell_type": "code",
   "execution_count": null,
   "metadata": {},
   "outputs": [],
   "source": [
    "# Load the parameters using `get_COVID19_SEIRD_parameters()`.\n",
    "params = model_parameters.get_COVID19_SEIRD_parameters(spatial=True)\n",
    "# Add the delayed ramp parameters to the parameter dictionary.\n",
    "params.update({'l': 5,\n",
    "              'tau': 5}) \n",
    "# Define a cluster of 5 infectees in one or two arrondissements\n",
    "E = np.zeros(initN.shape)\n",
    "E[np.where(initN_df.index.values==name2nis('arrondissement ieper'))[0][0],:] = 2 \n",
    "E[np.where(initN_df.index.values==name2nis('arrondissement tongeren'))[0][0],:] = 2\n",
    "# Define the initial condition: one exposed inidividual in every age category\n",
    "initial_states = {'S': initN, 'E': E}\n",
    "# Load the compliance model\n",
    "from covid19model.models.compliance import ramp_2\n",
    "# Initialize the model\n",
    "model = models.COVID19_SEIRD_sto_spatial(initial_states, params, compliance=ramp_2, discrete=True)"
   ]
  },
  {
   "cell_type": "markdown",
   "metadata": {},
   "source": [
    "### Change beta to a higher value"
   ]
  },
  {
   "cell_type": "code",
   "execution_count": null,
   "metadata": {},
   "outputs": [],
   "source": [
    "model.parameters['beta'] = 0.5"
   ]
  },
  {
   "cell_type": "markdown",
   "metadata": {},
   "source": [
    "### Define a checkpoints dictionary and perform some simulations"
   ]
  },
  {
   "cell_type": "code",
   "execution_count": null,
   "metadata": {},
   "outputs": [],
   "source": [
    "chk = {\n",
    "    'time': ['20-04-2020'],\n",
    "    'Nc':   [0.3*(1.0*Nc_home + 0.3*Nc_work + 0.4*Nc_transport)]\n",
    "}"
   ]
  },
  {
   "cell_type": "code",
   "execution_count": null,
   "metadata": {},
   "outputs": [],
   "source": [
    "fig,ax=plt.subplots()\n",
    "for i in range(5):\n",
    "    out=model.sim('21-09-2020',excess_time=50,checkpoints=chk)\n",
    "    sumNIS=out.sum(dim=\"place\").sum(dim=\"Nc\")\n",
    "    plt.plot(out[\"time\"].values[50:200],sumNIS[\"H_in\"].values[50:200],alpha=0.05,color='green')"
   ]
  },
  {
   "cell_type": "code",
   "execution_count": null,
   "metadata": {},
   "outputs": [],
   "source": [
    "out"
   ]
  },
  {
   "cell_type": "markdown",
   "metadata": {},
   "source": [
    "## Visualisation on a map"
   ]
  },
  {
   "cell_type": "markdown",
   "metadata": {},
   "source": [
    "### Read the arrondissements shape file"
   ]
  },
  {
   "cell_type": "code",
   "execution_count": null,
   "metadata": {},
   "outputs": [],
   "source": [
    "# Read shape file\n",
    "gemeentes = gp.read_file(\"../../data/raw/geopandas/BE/BELGIUM__Municipalities.shp\")\n",
    "# select the columns that you with to use for the dissolve and that will be retained\n",
    "gemeentes_new = gemeentes[['arrond','geometry']]\n",
    "# dissolve the state boundary by region \n",
    "arrondissementen = gemeentes_new.dissolve(by='arrond')"
   ]
  },
  {
   "cell_type": "markdown",
   "metadata": {},
   "source": [
    "### Perform a single simulation"
   ]
  },
  {
   "cell_type": "code",
   "execution_count": null,
   "metadata": {},
   "outputs": [],
   "source": [
    "out=model.sim(250,checkpoints=chk)\n",
    "sumNIS=out.sum(dim=\"place\").sum(dim=\"Nc\")\n",
    "plt.plot(out[\"time\"],sumNIS[\"M\"],alpha=0.15,color='green')"
   ]
  },
  {
   "cell_type": "code",
   "execution_count": null,
   "metadata": {},
   "outputs": [],
   "source": [
    "output_path = '../../results/maps'\n",
    "\n",
    "# create the plot\n",
    "fig, ax = plt.subplots(figsize = (12,12))\n",
    "\n",
    "start = 0\n",
    "\n",
    "for day in range(start,len(out['time'].values)):\n",
    "    # Get data\n",
    "    data2plot = out.sum(dim=\"Nc\")['M'][:,day].values/initN_df['total'].values*100\n",
    "    arrondissementen['data'] = data2plot\n",
    "    # Visualize data\n",
    "    if day == start:\n",
    "        fig = arrondissementen.plot(column = 'data', ax=ax, cmap='plasma',\n",
    "                                    norm=colors.LogNorm(vmin=0.001, vmax=1), legend=True, edgecolor = 'k')\n",
    "    else:\n",
    "        fig = arrondissementen.plot(column = 'data', ax=ax, cmap='plasma',\n",
    "                                    norm=colors.LogNorm(vmin=0.001, vmax=1), legend=False, edgecolor = 'k')\n",
    "    # Disable axis\n",
    "    ax.set_axis_off()\n",
    "    # This will save the figure as a high-res png in the output path. you can also save as svg if you prefer.\n",
    "    chart = fig.get_figure()\n",
    "    chart.savefig('maps/'+str(day)+'_B.jpg',dpi=100)\n",
    "    \n",
    "    plt.close()"
   ]
  },
  {
   "cell_type": "code",
   "execution_count": null,
   "metadata": {},
   "outputs": [],
   "source": [
    "fig,ax=plt.subplots()\n",
    "fig.set_size_inches(16, 4)\n",
    "ax.plot(out['time'][50:200],out.sel(place=name2nis('arrondissement antwerpen')).sum(dim='Nc')['M'][50:200],color='blue',alpha=0.40)\n",
    "ax.plot(out['time'][50:200],out.sel(place=name2nis('arrondissement brussel-hoofdstad')).sum(dim='Nc')['M'][50:200],color='red',alpha=0.40)\n",
    "ax.plot(out['time'][50:200],out.sel(place=name2nis('arrondissement luik')).sum(dim='Nc')['M'][50:200],color='black',alpha=0.40)\n",
    "ax.legend(['Antwerp','Brussels','Luik'])\n",
    "ax.axvline(130,color='black',linestyle='dashed')\n",
    "ax.set_title('Daily hospitalizations $(H_{in})$')\n",
    "fig.savefig('daily_hosp.jpg',dpi=300)"
   ]
  }
 ],
 "metadata": {
  "kernelspec": {
   "display_name": "Python 3",
   "language": "python",
   "name": "python3"
  },
  "language_info": {
   "codemirror_mode": {
    "name": "ipython",
    "version": 3
   },
   "file_extension": ".py",
   "mimetype": "text/x-python",
   "name": "python",
   "nbconvert_exporter": "python",
   "pygments_lexer": "ipython3",
   "version": "3.8.2"
  },
  "toc": {
   "base_numbering": 1,
   "nav_menu": {},
   "number_sections": true,
   "sideBar": true,
   "skip_h1_title": false,
   "title_cell": "Table of Contents",
   "title_sidebar": "Contents",
   "toc_cell": false,
   "toc_position": {},
   "toc_section_display": true,
   "toc_window_display": false
  }
 },
 "nbformat": 4,
 "nbformat_minor": 4
}
