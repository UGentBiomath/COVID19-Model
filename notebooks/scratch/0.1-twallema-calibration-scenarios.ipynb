{
 "cells": [
  {
   "cell_type": "markdown",
   "metadata": {},
   "source": [
    "# Covid-19: From model prediction to model predictive control\n",
    "\n",
    "## Scenario-analysis with the age-stratified deterministic model\n",
    "\n",
    "*Original code by Ryan S. McGee. Modified by T.W. Alleman in consultation with the BIOMATH research unit headed by prof. Ingmar Nopens.*\n",
    "\n",
    "Copyright (c) 2020 by T.W. Alleman, BIOMATH, Ghent University. All Rights Reserved.\n",
    "\n",
    "This notebook was made to quickly perform scenario analysis with the age-stratified model implementation."
   ]
  },
  {
   "cell_type": "markdown",
   "metadata": {},
   "source": [
    "### Load required packages"
   ]
  },
  {
   "cell_type": "code",
   "execution_count": null,
   "metadata": {
    "ExecuteTime": {
     "end_time": "2020-06-03T08:12:49.791967Z",
     "start_time": "2020-06-03T08:12:49.674216Z"
    }
   },
   "outputs": [],
   "source": [
    "import numpy as np\n",
    "import matplotlib.pyplot as plt\n",
    "from IPython.display import Image\n",
    "from ipywidgets import interact,fixed,FloatSlider,IntSlider,ToggleButtons\n",
    "import pandas as pd\n",
    "import datetime\n",
    "import scipy\n",
    "from scipy.integrate import odeint\n",
    "import matplotlib.dates as mdates\n",
    "import matplotlib\n",
    "import scipy.stats as st\n",
    "import networkx # to install networkx in your environment: conda install networkx\n",
    "from covid19model.models import models\n",
    "from covid19model.data import google\n",
    "from covid19model.data import sciensano\n",
    "from covid19model.data import polymod\n",
    "from covid19model.data import parameters\n",
    "from covid19model.visualization.output import population_status, infected\n",
    "from covid19model.visualization.optimization import plot_fit\n",
    "# OPTIONAL: Load the \"autoreload\" extension so that package code can change\n",
    "%load_ext autoreload\n",
    "# OPTIONAL: always reload modules so that as you change code in src, it gets loaded\n",
    "%autoreload 2\n",
    "import math\n",
    "import xarray as xr"
   ]
  },
  {
   "cell_type": "markdown",
   "metadata": {},
   "source": [
    "### Load interaction matrices"
   ]
  },
  {
   "cell_type": "code",
   "execution_count": null,
   "metadata": {},
   "outputs": [],
   "source": [
    "initN, Nc_home, Nc_work, Nc_schools, Nc_transport, Nc_leisure, Nc_others, Nc_total = polymod.get_interaction_matrices()\n",
    "levels = initN.size"
   ]
  },
  {
   "cell_type": "code",
   "execution_count": null,
   "metadata": {},
   "outputs": [],
   "source": [
    "params = parameters.get_COVID19_SEIRD_parameters()\n",
    "params.update({'k': 1, 't0': 1})\n",
    "initial_states = {'S': initN, 'E': np.ones(levels)}\n",
    "model = models.COVID19_SEIRD(initial_states, params)"
   ]
  },
  {
   "cell_type": "markdown",
   "metadata": {},
   "source": [
    "### Load parameter values, remove deterministic parameter, add compliance function parameters and intialise a stochastic model"
   ]
  },
  {
   "cell_type": "code",
   "execution_count": null,
   "metadata": {},
   "outputs": [],
   "source": [
    "params = parameters.get_COVID19_SEIRD_parameters()\n",
    "# ~~~~~~~~~~~~~~~~~~~~~~~~~~~~~~~~~~~~~~~~~~~~~~~~~~~~~~~~~~~~~~~~~~~~~~~~~~~~~~~~~~~~~~~~~~~~~~~~~~~~~~~~~~~~~~~~\n",
    "#some required parameters are different, the 'parameter loading function' must be changed in the future\n",
    "params.update({'beta':0.035,\n",
    "               'k':   1,\n",
    "               't0':5,\n",
    "               'Nc': Nc_total})\n",
    "del params['totalTests']\n",
    "del params['dq']\n",
    "del params['psi_FP']\n",
    "del params['psi_PP']\n",
    "initial_states = {'S': initN, 'E': np.ones(levels)}\n",
    "model_sto = models.COVID19_SEIRD_sto(initial_states, params,discrete=True)"
   ]
  },
  {
   "cell_type": "markdown",
   "metadata": {},
   "source": [
    "### Scrape high-level Sciensano data"
   ]
  },
  {
   "cell_type": "code",
   "execution_count": null,
   "metadata": {
    "ExecuteTime": {
     "end_time": "2020-06-03T08:36:23.126977Z",
     "start_time": "2020-06-03T08:36:03.724446Z"
    }
   },
   "outputs": [],
   "source": [
    "df_sciensano = sciensano.get_sciensano_COVID19_data(update=False)\n",
    "df_sciensano.head()"
   ]
  },
  {
   "cell_type": "markdown",
   "metadata": {},
   "source": [
    "### Initialise model"
   ]
  },
  {
   "cell_type": "markdown",
   "metadata": {},
   "source": [
    "### Example simulation"
   ]
  },
  {
   "cell_type": "code",
   "execution_count": null,
   "metadata": {},
   "outputs": [],
   "source": [
    "# Create checkpoints dictionary\n",
    "chk = {'time':  [50], \n",
    "       'Nc':    [0.3*Nc_home],\n",
    "      }\n",
    "# Run a checkpointed simulation\n",
    "out=model_sto.sim(120,checkpoints=chk)\n",
    "# Visualise the number of pre-symptomatic infections over all ages\n",
    "plt.plot(out[\"time\"],out[\"I\"].sum(dim=\"stratification\"))\n",
    "# Built-in function to visualise the number of patients in hospitals, in ICU and deaths\n",
    "infected(out)"
   ]
  },
  {
   "cell_type": "markdown",
   "metadata": {},
   "source": [
    "### Performing a calibration\n",
    "\n",
    "Use the function fit_pso to obtain a good first estimate for the MCMC sampler."
   ]
  },
  {
   "cell_type": "code",
   "execution_count": null,
   "metadata": {},
   "outputs": [],
   "source": [
    "from covid19model.optimization import MCMC\n",
    "\n",
    "# define dataset\n",
    "data=[df_sciensano[\"H_in\"].values[:7]]\n",
    "# set optimisation settings\n",
    "parNames = ['sigma_H_in','extraTime','beta'] # must be a list!\n",
    "states = [[\"H_in\"]]\n",
    "bounds=((1,15),(32,48),(0.03,0.055)) # must be a list!\n",
    "# run optimisation\n",
    "theta = MCMC.fit_pso(model,data,parNames,states,bounds,maxiter=50,popsize=50)"
   ]
  },
  {
   "cell_type": "code",
   "execution_count": null,
   "metadata": {},
   "outputs": [],
   "source": [
    "lag_time = int(round(theta[1]))\n",
    "model.extraTime = int(round(theta[1]))\n",
    "\n",
    "model.parameters.update({\n",
    "    'beta': theta[2],\n",
    "}\n",
    ")\n",
    "\n",
    "start_date = '15-03-2020'"
   ]
  },
  {
   "cell_type": "code",
   "execution_count": null,
   "metadata": {},
   "outputs": [],
   "source": [
    "fig,ax=plt.subplots()\n",
    "for i in range(100):\n",
    "    y_model = model.sim(data[0].size+lag_time-1)\n",
    "    ax = plot_fit(y_model,data,start_date,lag_time,states,ax=ax,plt_kwargs={'linewidth': 0.25,'alpha': 0.20})"
   ]
  },
  {
   "cell_type": "markdown",
   "metadata": {},
   "source": [
    "Initiatize and run the sampler"
   ]
  },
  {
   "cell_type": "code",
   "execution_count": null,
   "metadata": {},
   "outputs": [],
   "source": [
    "theta = [theta[0],theta[2]]\n",
    "print(model.extraTime,theta)"
   ]
  },
  {
   "cell_type": "code",
   "execution_count": null,
   "metadata": {},
   "outputs": [],
   "source": [
    "import emcee\n",
    "from covid19model.optimization import objective_fcns\n",
    "\n",
    "parNames = ['sigma_ICU','beta'] # must be a list!\n",
    "states = [[\"ICU\"]]\n",
    "bounds=((1,100),(0.01,0.10))\n",
    "\n",
    "pos = theta + [5, 1e-2 ]* np.random.randn(4, 2)\n",
    "nwalkers, ndim = pos.shape\n",
    "sampler = emcee.EnsembleSampler(nwalkers, ndim, objective_fcns.log_probability,\n",
    "                                args=(model,bounds,data,states,parNames))\n",
    "sampler.run_mcmc(pos, 2000, progress=True);"
   ]
  },
  {
   "cell_type": "code",
   "execution_count": null,
   "metadata": {},
   "outputs": [],
   "source": [
    "fig, axes = plt.subplots(2, figsize=(10, 7), sharex=True)\n",
    "samples = sampler.get_chain()\n",
    "labels = [\"sigma2_ICU\",\"beta\"]\n",
    "for i in range(ndim):\n",
    "    ax = axes[i]\n",
    "    ax.plot(samples[:, :, i], \"k\", alpha=0.3)\n",
    "    ax.set_xlim(0, len(samples))\n",
    "    ax.set_ylabel(labels[i])\n",
    "    #ax.yaxis.set_label_coords(-0.1, 0.5)\n",
    "\n",
    "axes[-1].set_xlabel(\"step number\");"
   ]
  },
  {
   "cell_type": "code",
   "execution_count": null,
   "metadata": {},
   "outputs": [],
   "source": [
    "sampler.get_autocorr_time()"
   ]
  },
  {
   "cell_type": "code",
   "execution_count": null,
   "metadata": {},
   "outputs": [],
   "source": [
    "import corner\n",
    "\n",
    "flat_samples = sampler.get_chain(discard=50, thin=1, flat=True)\n",
    "fig = corner.corner(\n",
    "    flat_samples, labels=labels,\n",
    ");"
   ]
  },
  {
   "cell_type": "code",
   "execution_count": null,
   "metadata": {},
   "outputs": [],
   "source": [
    "# Create checkpoints dictionary\n",
    "chk = {'time':  [lag_time], \n",
    "       'Nc':    [0.2*Nc_home + 0.2*((1-0.70)*Nc_work + (1-0.80)*Nc_transport)],\n",
    "      }\n",
    "\n",
    "# define dataset\n",
    "data=[df_sciensano[\"H_in\"].values[:20]]\n",
    "# set optimisation settings\n",
    "parNames = ['sigma_H_in','k','t0'] # must be a list!\n",
    "states = [[\"H_in\"]]\n",
    "bounds=((1,100),(0.2,1),(2,20)) # must be a list!\n",
    "# run optimisation\n",
    "theta = MCMC.fit_pso(model,data,parNames,states,bounds,checkpoints=chk,maxiter=100,popsize=1000)"
   ]
  },
  {
   "cell_type": "code",
   "execution_count": null,
   "metadata": {},
   "outputs": [],
   "source": [
    "model.parameters.update({\n",
    "    'k': theta[1],\n",
    "    't0': theta[2]\n",
    "}\n",
    ")"
   ]
  },
  {
   "cell_type": "code",
   "execution_count": null,
   "metadata": {},
   "outputs": [],
   "source": [
    "fig,ax=plt.subplots()\n",
    "for i in range(2000):\n",
    "    y_model = model.sim(data[0].size+lag_time-1,checkpoints=chk)\n",
    "    ax = plot_fit(y_model,data,start_date,lag_time,states,ax=ax,plt_kwargs={'linewidth': 0.25,'alpha': 0.05})"
   ]
  },
  {
   "cell_type": "markdown",
   "metadata": {},
   "source": [
    "# Notebook works till here"
   ]
  },
  {
   "cell_type": "markdown",
   "metadata": {},
   "source": [
    "### Calibration of the hospitalization parameters"
   ]
  },
  {
   "cell_type": "markdown",
   "metadata": {},
   "source": [
    "#### Calibrate $d_c$, $d_{icu}$ and $d_{icu, rec}$ to the new hospitalizations and hospital discharges"
   ]
  },
  {
   "cell_type": "code",
   "execution_count": null,
   "metadata": {},
   "outputs": [],
   "source": [
    "tracedict = {\n",
    "    'beta': np.asarray(trace['beta']),\n",
    "    'dc': np.asarray(trace['dc']),\n",
    "    'dICU': np.asarray(trace['dICU']),\n",
    "    'dICUrec': np.asarray(trace['dICUrec'])\n",
    "}\n",
    "\n",
    "# save a copy in the raw folder\n",
    "abs_dir = os.path.dirname(__file__)\n",
    "rel_dir = os.path.join(abs_dir, '../../data/interim/model_parameters/trace.csv')\n",
    "\n",
    "(pd.DataFrame.from_dict(data=tracedict, orient='index')\n",
    "   .to_csv(reldir, header=False))"
   ]
  },
  {
   "cell_type": "code",
   "execution_count": null,
   "metadata": {},
   "outputs": [],
   "source": [
    "with COVID19MODEL:\n",
    "    # draw 1000 posterior samples\n",
    "    trace = pm.sample(10,start=map_estimate,step=pm.Slice(),cores=1)\n",
    "pm.traceplot(trace,varnames=['dc','dICU','dICUrec'])"
   ]
  },
  {
   "cell_type": "code",
   "execution_count": null,
   "metadata": {},
   "outputs": [],
   "source": [
    "tracedict_others = {\n",
    "    'dc': np.asarray(trace['dc']),\n",
    "    'dICU': np.asarray(trace['dICU']),\n",
    "    'dICUrec': np.asarray(trace['dICUrec'])\n",
    "}"
   ]
  },
  {
   "cell_type": "markdown",
   "metadata": {},
   "source": [
    "### Scenarios"
   ]
  },
  {
   "cell_type": "markdown",
   "metadata": {},
   "source": [
    "\n",
    "Use the code snippet below to see the correspondence between `'t'` in the `pastPolicy` dictionary and the actual date."
   ]
  },
  {
   "cell_type": "code",
   "execution_count": null,
   "metadata": {},
   "outputs": [],
   "source": [
    "# Define data as a list containing data timeseries\n",
    "data=[np.transpose(ICU_tot),np.transpose(H_tot)]\n",
    "print(index[2],index[50],index[57],index[-1])"
   ]
  },
  {
   "cell_type": "markdown",
   "metadata": {},
   "source": [
    "The interaction matrices of the 2008 study by Mossong were gathered under a business-as-usual scenario. It is thus not possible to use the interaction matrices without doing a correction for social distancing. Even when using only the interactions at home (`Nc_home`), the virus cannot be stopped."
   ]
  },
  {
   "cell_type": "code",
   "execution_count": null,
   "metadata": {},
   "outputs": [],
   "source": [
    "sigma = 1"
   ]
  },
  {
   "cell_type": "markdown",
   "metadata": {},
   "source": [
    "Stringent measures were taken in the evening of March 17th, which corresponds to time-index 3, however, the measures are only 'enforced' on day 8 in the `pastPolicy` dictionary. Why? The change in human behaviour was very gradual, it took between 10-14 days after March 17th before everyone was working at home (see the Google mobility report). In other words, measures were taken on March 17th, but obedience for these measures was gradual, like a ramp. However, in the model we make a step-wise change. The obedience to measures can be adressed in future work."
   ]
  },
  {
   "cell_type": "markdown",
   "metadata": {},
   "source": [
    "Another important issue to adress is the home interaction matrix `Nc_home`. All contacts in these matrices are still assumed to be random, during a lockdown, the interactions at home should somehow be corrected for the 'bubble' effect. Since the average household size in belgium is 2 people, I correct the `Nc_home` matrix with a factor 1/2."
   ]
  },
  {
   "cell_type": "code",
   "execution_count": null,
   "metadata": {},
   "outputs": [],
   "source": [
    "sigma = 0.6\n",
    "\n",
    "# Create a dictionary of past policies\n",
    "pastPolicy = {'t':       [1,50,64], \n",
    "              'Nc':      [0.3*Nc_home+sigma*((1-0.70)*Nc_work+(1-0.70)*Nc_transport),\n",
    "                          0.3*Nc_home+sigma*((1-0.30)*Nc_work+(1-0.40)*Nc_transport+(1-0.75)*Nc_schools),\n",
    "                          0.3*Nc_home+sigma*((1-0.30)*Nc_work+(1-0.40)*Nc_transport+Nc_schools),\n",
    "                         ]\n",
    "              }"
   ]
  },
  {
   "cell_type": "code",
   "execution_count": null,
   "metadata": {},
   "outputs": [],
   "source": [
    "# Create a dictionary of future policies\n",
    "futurePolicy = {'t':     [21], # May 21th, June 4th \n",
    "                'Nc':    [0.3*Nc_home+sigma*((1-0.30)*Nc_work+(1-0.40)*Nc_transport)],\n",
    "              }"
   ]
  },
  {
   "cell_type": "code",
   "execution_count": null,
   "metadata": {},
   "outputs": [],
   "source": [
    "positions=[np.array([6]),np.array([5,6])]\n",
    "# Run realTimeScenario\n",
    "model.realTimeScenario(startdate,data,positions,pastPolicy,futurePolicy=futurePolicy,trace={'beta': [model.beta]},T_extra=124,\n",
    "                       modelClr=['red','orange'],legendText=('ICU (model)','Hospital (model)','ICU (data)','Hospital (data)'),\n",
    "                       titleText='Belgium',filename='test.svg')"
   ]
  },
  {
   "cell_type": "markdown",
   "metadata": {},
   "source": [
    "Save your figures by altering the variable `filename = xxxxx.svg`!"
   ]
  }
 ],
 "metadata": {
  "kernelspec": {
   "display_name": "Python 3",
   "language": "python",
   "name": "python3"
  },
  "language_info": {
   "codemirror_mode": {
    "name": "ipython",
    "version": 3
   },
   "file_extension": ".py",
   "mimetype": "text/x-python",
   "name": "python",
   "nbconvert_exporter": "python",
   "pygments_lexer": "ipython3",
   "version": "3.8.2"
  },
  "toc": {
   "base_numbering": 1,
   "nav_menu": {},
   "number_sections": true,
   "sideBar": true,
   "skip_h1_title": false,
   "title_cell": "Table of Contents",
   "title_sidebar": "Contents",
   "toc_cell": false,
   "toc_position": {},
   "toc_section_display": true,
   "toc_window_display": false
  }
 },
 "nbformat": 4,
 "nbformat_minor": 4
}
