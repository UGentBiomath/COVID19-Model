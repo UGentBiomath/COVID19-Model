{
 "cells": [
  {
   "cell_type": "markdown",
   "metadata": {},
   "source": [
    "Goal:\n",
    "- Allow the spatial model to include local vaccinations\n",
    "    - From the data\n",
    "    - From a prediction into the future (many scenarios possible, but keep it simple). This is included in the `__call__` function of the `make_vaccination_function`, \n",
    "- Allow the model to include local measures (no priority)\n",
    "- Allow the model to include local spread of VOCs (no priority)\n",
    "- Main question: what is the distribution of hospitalisations in Belgium and how is this linked to the degree of vaccination?\n",
    "- Side questions\n",
    "    - How does the increase in Brussels affect the rest of the country?\n",
    "    - How can this be alleviated with local measures? How is this different from national measures?\n",
    "    - How can this be alleviated with isolation of Brussels?\n",
    "    - How would the situation have been if Brussels was vaccinated as the rest-of-the-country average? And if Belgium was vaccinated as Brussels? \n",
    "\n",
    "**Remarks**\n",
    "\n",
    "- Why are the vaccine-eligible subjects only those from class S and R? Would make sense to also include E and A\n",
    "- Why do subjects from R become dS_v?\n",
    "- `dD_v = (m_ICU/dICU_D)*ICU_v + (m_C/dc_D)*C_v` seems incomplete, unless the chance of dying once a subject is hospitalised is the same with or without vaccination. Not sure if there is data available on this.\n",
    "- Note: `N_vacc` must be age and space stratified. It is not yet obvious how this is implemented into the main model (we'd have to dig deep into the code). The same problem goes with `Nc` if we are to stratify this spatially (per province).\n",
    "- What type of vaccination does `get_public_spatial_vaccination_data` return? First vaccination, I suppose?"
   ]
  },
  {
   "cell_type": "markdown",
   "metadata": {
    "heading_collapsed": true
   },
   "source": [
    "# Load packages and functions"
   ]
  },
  {
   "cell_type": "code",
   "execution_count": null,
   "metadata": {
    "ExecuteTime": {
     "end_time": "2021-09-15T12:08:03.512501Z",
     "start_time": "2021-09-15T12:08:01.701213Z"
    },
    "hidden": true
   },
   "outputs": [],
   "source": [
    "# Preamble\n",
    "import corner\n",
    "import pandas as pd\n",
    "import json\n",
    "import numpy as np\n",
    "from IPython.display import IFrame\n",
    "import matplotlib.pyplot as plt\n",
    "\n",
    "from covid19model.models import models\n",
    "from covid19model.models.time_dependant_parameter_fncs import make_mobility_update_function, make_contact_matrix_function, make_VOC_function, make_vaccination_function\n",
    "from covid19model.models.utils import initial_state\n",
    "# from covid19model.optimization.run_optimization import checkplots, calculate_R0\n",
    "# from covid19model.optimization.objective_fcns import prior_custom, prior_uniform\n",
    "from covid19model.data import mobility, sciensano, model_parameters\n",
    "# from covid19model.optimization import pso, objective_fcns\n",
    "from covid19model.visualization.output import _apply_tick_locator \n",
    "from covid19model.visualization.optimization import autocorrelation_plot, traceplot, plot_fit, plot_calibration_fit\n",
    "from covid19model.visualization.utils import moving_avg\n",
    "from covid19model.optimization.utils import perturbate_PSO, run_MCMC\n",
    "from covid19model.optimization.utils import samples_dict_to_emcee_chain # used for corner plots\n",
    "import random\n",
    "import datetime\n",
    "\n",
    "# OPTIONAL: Load the \"autoreload\" extension so that package code can change\n",
    "%load_ext autoreload\n",
    "# OPTIONAL: always reload modules so that as you change code in src, it gets loaded\n",
    "# This may be useful because the `covid19model` package is under construction\n",
    "%autoreload 2\n",
    "\n",
    "# Copied from mrollier-calibration-WAVE2_spatial.ipynb\n",
    "import gc\n",
    "import sys, getopt\n",
    "import os\n",
    "import ujson as json\n",
    "import random\n",
    "import emcee\n",
    "import datetime\n",
    "import corner\n",
    "import argparse\n",
    "import numpy as np\n",
    "import pandas as pd\n",
    "import matplotlib.pyplot as plt\n",
    "import multiprocessing as mp\n",
    "from multiprocessing import Pool\n",
    "\n",
    "from covid19model.models import models\n",
    "from covid19model.optimization.objective_fcns import prior_custom, prior_uniform\n",
    "from covid19model.data import mobility, sciensano, model_parameters, VOC\n",
    "from covid19model.optimization import pso, objective_fcns\n",
    "from covid19model.models.time_dependant_parameter_fncs import ramp_fun\n",
    "from covid19model.visualization.output import _apply_tick_locator \n",
    "from covid19model.visualization.optimization import autocorrelation_plot, traceplot\n",
    "from covid19model.models.utils import initial_state\n",
    "\n",
    "\n",
    "agg='prov'"
   ]
  },
  {
   "cell_type": "code",
   "execution_count": null,
   "metadata": {
    "ExecuteTime": {
     "end_time": "2021-09-15T12:08:05.926797Z",
     "start_time": "2021-09-15T12:08:03.512501Z"
    },
    "hidden": true
   },
   "outputs": [],
   "source": [
    "# Total population and contact matrices\n",
    "initN, Nc_all = model_parameters.get_integrated_willem2012_interaction_matrices(spatial=agg)\n",
    "\n",
    "# Google Mobility data (for social contact Nc)\n",
    "df_google = mobility.get_google_mobility_data(update=False)\n",
    "\n",
    "# Load and format mobility dataframe (for mobility place)\n",
    "proximus_mobility_data, proximus_mobility_data_avg = mobility.get_proximus_mobility_data(agg, dtype='fractional', beyond_borders=False)\n",
    "# Converting the index as date. Probably not necessary because it's already done.\n",
    "# all_mobility_data.index = pd.to_datetime(all_mobility_data.index)\n",
    "\n",
    "# Load and format national VOC data (for time-dependent VOC fraction)\n",
    "df_VOC_abc = VOC.get_abc_data()\n",
    "\n",
    "# Load and format local vaccination data\n",
    "public_spatial_vaccination_data = sciensano.get_public_spatial_vaccination_data(update=False,agg=agg)\n",
    "\n",
    "params = model_parameters.get_COVID19_SEIRD_parameters(spatial=agg, vaccination=True,VOC=True)\n",
    "\n",
    "values = 'hospitalised_IN'\n",
    "df_sciensano = sciensano.get_sciensano_COVID19_data_spatial(agg=agg, values=values, moving_avg=False)\n",
    "\n",
    "\n",
    "### TIME-DEPENDENT FUNCTIONS ###\n",
    "# Define time-dependent social contact matrix\n",
    "contact_matrix_function = make_contact_matrix_function(df_google, Nc_all)\n",
    "ramp_fun = make_contact_matrix_function(df_google, Nc_all).ramp_fun\n",
    "# Covers the entire pandemic period\n",
    "policies_WAVE2_no_relaxation = make_contact_matrix_function(df_google, Nc_all).policies_WAVE2_no_relaxation\n",
    "\n",
    "# Mobility update function from class __call__ and function wrapper to get the right signature\n",
    "mobility_wrapper_function = make_mobility_update_function(proximus_mobility_data, proximus_mobility_data_avg).mobility_wrapper_func\n",
    "\n",
    "# function to update VOC fraction\n",
    "VOC_function = make_VOC_function(df_VOC_abc)\n",
    "\n",
    "# function to update local vaccination level (first dose only)\n",
    "vaccination_function = make_vaccination_function(public_spatial_vaccination_data, spatial=True)\n",
    "sciensano_spatial_first_dose = vaccination_function.get_sciensano_spatial_first_dose"
   ]
  },
  {
   "cell_type": "markdown",
   "metadata": {
    "heading_collapsed": true
   },
   "source": [
    "# Visualise raw vaccination data"
   ]
  },
  {
   "cell_type": "code",
   "execution_count": null,
   "metadata": {
    "ExecuteTime": {
     "end_time": "2021-09-15T08:53:34.344971Z",
     "start_time": "2021-09-15T08:53:34.003380Z"
    },
    "hidden": true
   },
   "outputs": [],
   "source": [
    "# Visualise vaccination data per age\n",
    "fig, ax = plt.subplots(figsize=(12,4))\n",
    "# public_spatial_vaccination_data[['CUMULATIVE']].groupby(['start_week', 'age']).sum().plot(ax=ax)\n",
    "\n",
    "df = public_spatial_vaccination_data[['CUMULATIVE']].groupby(['start_week','age']).sum()\n",
    "df.unstack().plot(kind='area', stacked=True, ax=ax)\n",
    "handles, labels = ax.get_legend_handles_labels()\n",
    "ax.legend(handles[::-1], labels[::-1], loc='upper left')\n",
    "ax.grid(False)\n",
    "ax.set_xlabel(None)\n",
    "ax.set_ylabel('First vaccination per age')"
   ]
  },
  {
   "cell_type": "code",
   "execution_count": null,
   "metadata": {
    "ExecuteTime": {
     "end_time": "2021-09-15T08:53:42.299634Z",
     "start_time": "2021-09-15T08:53:41.965408Z"
    },
    "hidden": true
   },
   "outputs": [],
   "source": [
    "# Visualise vaccination data per province\n",
    "fig, ax = plt.subplots(figsize=(12,5))\n",
    "# public_spatial_vaccination_data[['CUMULATIVE']].groupby(['start_week', 'age']).sum().plot(ax=ax)\n",
    "\n",
    "df = public_spatial_vaccination_data[['CUMULATIVE']].groupby(['start_week','NIS']).sum()\n",
    "df.unstack().plot(kind='area', stacked=True, ax=ax)\n",
    "handles, labels = ax.get_legend_handles_labels()\n",
    "ax.legend(handles[::-1], labels[::-1], loc='upper left')\n",
    "ax.grid(False)\n",
    "ax.set_xlabel(None)\n",
    "ax.set_ylabel('First vaccination per province')"
   ]
  },
  {
   "cell_type": "markdown",
   "metadata": {
    "heading_collapsed": true
   },
   "source": [
    "# Visualise VOCs"
   ]
  },
  {
   "cell_type": "code",
   "execution_count": null,
   "metadata": {
    "ExecuteTime": {
     "end_time": "2021-09-15T08:54:39.261974Z",
     "start_time": "2021-09-15T08:54:38.891311Z"
    },
    "hidden": true
   },
   "outputs": [],
   "source": [
    "### EXTRA -- may delete ###\n",
    "\n",
    "# ------------------\n",
    "# Visualize variants\n",
    "# ------------------\n",
    "\n",
    "# Call VOC function and save data\n",
    "dates = pd.date_range(start = '2020-09-01', end = '2021-09-01', freq='D')\n",
    "wt=[]\n",
    "alpha=[]\n",
    "delta=[]\n",
    "for date in dates:\n",
    "    wt.append(VOC_function(date, {}, {})[0])\n",
    "    alpha.append(VOC_function(date, {}, {})[1])\n",
    "    delta.append(VOC_function(date, {}, {})[2])\n",
    "        \n",
    "# Make figure\n",
    "fig,ax=plt.subplots(figsize=(12,4))\n",
    "ax.plot(dates,np.array(wt)*100, color='black')\n",
    "ax.plot(dates,np.array(alpha)*100, color='red')\n",
    "ax.plot(dates,np.array(delta)*100, color='green')\n",
    "ax.set_ylabel('Prevalence of variant (%)')\n",
    "ax.legend(['WT',r'alpha, beta, gamma','delta'], bbox_to_anchor=(.04, .5), loc='center left', fontsize=14)\n",
    "ax.grid(False)\n",
    "\n",
    "# plt.savefig('VOC_changes.png', dpi=400, bbox_inches='tight')"
   ]
  },
  {
   "cell_type": "markdown",
   "metadata": {
    "heading_collapsed": true
   },
   "source": [
    "# Visualise processed vaccination data"
   ]
  },
  {
   "cell_type": "code",
   "execution_count": null,
   "metadata": {
    "ExecuteTime": {
     "end_time": "2021-09-15T08:57:23.744232Z",
     "start_time": "2021-09-15T08:57:23.287663Z"
    },
    "hidden": true
   },
   "outputs": [],
   "source": [
    "# Per province\n",
    "\n",
    "dates_vacc = pd.date_range(start = '2020-09-01', end = '2021-09-01', freq='W-MON')\n",
    "vaccs_prov=[]\n",
    "for date in dates_vacc:\n",
    "    vacc_prov = sciensano_spatial_first_dose(date).sum(axis=1)\n",
    "    vaccs_prov.append(vacc_prov)\n",
    "vaccs_prov=np.array(vaccs_prov).cumsum(axis=0)\n",
    "\n",
    "fig, axs = plt.subplots(1, 2, figsize=(16,5), sharey=True)\n",
    "axs[0].grid(False)\n",
    "labels = ['Antwerpen', 'Vlaams-Brabant', 'Waals-Brabant', 'Brussels', 'West-Vlaanderen', 'Oost-Vlaanderen',\\\n",
    "          'Hainaut', 'Liège', 'Limburg', 'Luxembourg', 'Namur']\n",
    "axs[0].stackplot(dates_vacc, vaccs_prov[:,0],\\\n",
    "             vaccs_prov[:,1],\\\n",
    "             vaccs_prov[:,2],\\\n",
    "             vaccs_prov[:,3],\\\n",
    "             vaccs_prov[:,4],\\\n",
    "             vaccs_prov[:,5],\\\n",
    "             vaccs_prov[:,6],\\\n",
    "             vaccs_prov[:,7],\\\n",
    "             vaccs_prov[:,8],\\\n",
    "             vaccs_prov[:,9],\\\n",
    "             vaccs_prov[:,10],\\\n",
    "             labels=labels)\n",
    "handles, labels = axs[0].get_legend_handles_labels()\n",
    "axs[0].legend(handles[::-1], labels[::-1], loc='upper left')\n",
    "axs[0].tick_params('x', labelrotation=30)\n",
    "axs[0].set_title('First vaccination dose per province')\n",
    "\n",
    "# Per age\n",
    "\n",
    "vaccs = []\n",
    "for date in dates_vacc:\n",
    "    vacc = sciensano_spatial_first_dose(date).sum(axis=0)\n",
    "    vaccs.append(vacc)\n",
    "vaccs=np.array(vaccs).cumsum(axis=0)\n",
    "\n",
    "axs[1].grid(False)\n",
    "labels = ['0-9', '10-19', '20-29', '30-39', '40-49', '50-59', '60-69', '70-79', '80+']\n",
    "axs[1].stackplot(dates_vacc, vaccs[:,0],\\\n",
    "             vaccs[:,1],\\\n",
    "             vaccs[:,2],\\\n",
    "             vaccs[:,3],\\\n",
    "             vaccs[:,4],\\\n",
    "             vaccs[:,5],\\\n",
    "             vaccs[:,6],\\\n",
    "             vaccs[:,7],\\\n",
    "             vaccs[:,8],\\\n",
    "             labels=labels)\n",
    "handles, labels = axs[1].get_legend_handles_labels()\n",
    "axs[1].legend(handles[::-1], labels[::-1], loc='upper left')\n",
    "axs[1].tick_params('x', labelrotation=30)\n",
    "axs[1].set_title('First vaccination dose per age class')\n",
    "\n",
    "# plt.savefig('vaccinations-per-province-and-age.png', dpi=400, bbox_inches='tight')"
   ]
  },
  {
   "cell_type": "code",
   "execution_count": null,
   "metadata": {
    "ExecuteTime": {
     "end_time": "2021-09-15T08:57:25.150182Z",
     "start_time": "2021-09-15T08:57:24.321853Z"
    },
    "hidden": true
   },
   "outputs": [],
   "source": [
    "# Visualise vaccination degree per region (wallonia, Flanders, Brussels)\n",
    "\n",
    "inhabitants = pd.read_csv('../../data/raw/GIS/inhabitants.csv')\n",
    "pop_flanders = inhabitants[inhabitants['NIS']==2000]['inhabitants'].values[0]\n",
    "pop_wallonia = inhabitants[inhabitants['NIS']==3000]['inhabitants'].values[0]\n",
    "pop_brussels = inhabitants[inhabitants['NIS']==4000]['inhabitants'].values[0]\n",
    "\n",
    "vaccs_flanders = vaccs_prov[:,0] + vaccs_prov[:,1] + vaccs_prov[:,4] + vaccs_prov[:,5] + vaccs_prov[:,8]\n",
    "vaccs_wallonia = vaccs_prov[:,2] + vaccs_prov[:,6] + vaccs_prov[:,7] + vaccs_prov[:,9] + vaccs_prov[:,10]\n",
    "vaccs_brussels = vaccs_prov[:,3]\n",
    "\n",
    "rel_vaccs_flanders = (vaccs_flanders / pop_flanders)*100\n",
    "rel_vaccs_wallonia = (vaccs_wallonia / pop_wallonia)*100\n",
    "rel_vaccs_brussels = (vaccs_brussels / pop_brussels)*100\n",
    "\n",
    "fig, ax = plt.subplots(figsize=(16,5))\n",
    "ax.grid(False)\n",
    "labels = ['Flanders', 'Wallonia', 'Brussels']\n",
    "ax.plot(dates_vacc, rel_vaccs_flanders, label=labels[0])\n",
    "ax.plot(dates_vacc, rel_vaccs_wallonia ,label=labels[1])\n",
    "ax.plot(dates_vacc, rel_vaccs_brussels ,label=labels[2])\n",
    "ax.legend(loc='upper left', fontsize=24)\n",
    "ax.tick_params('x', labelrotation=30)\n",
    "ax.set_title('Population percentage of first vaccination dose per region (all ages)')\n",
    "ax.set_ylabel('Percentage')\n",
    "\n",
    "plt.savefig('relative-vaccination-per-region.png', dpi=400, bbox_inches='tight')"
   ]
  },
  {
   "cell_type": "markdown",
   "metadata": {
    "heading_collapsed": true
   },
   "source": [
    "# Visualise hospitalisations per province"
   ]
  },
  {
   "cell_type": "code",
   "execution_count": null,
   "metadata": {
    "ExecuteTime": {
     "end_time": "2021-09-15T12:05:31.356262Z",
     "start_time": "2021-09-15T12:05:30.963150Z"
    },
    "hidden": true
   },
   "outputs": [],
   "source": [
    "values = 'hospitalised_IN'\n",
    "df_sciensano = sciensano.get_sciensano_COVID19_data_spatial(agg=agg, values=values, moving_avg=False)\n",
    "\n",
    "fig,ax=plt.subplots(figsize=(16,5))\n",
    "df_sciensano.plot(kind='area', stacked=True,ax=ax)\n",
    "ax.grid(False)\n",
    "\n",
    "handles, labels = ax.get_legend_handles_labels()\n",
    "ax.legend(handles[::-1], labels[::-1], loc='upper right', fontsize=14)\n",
    "ax.set_title('Daily new hospitalisations per province')\n",
    "ax.set_ylabel(\"new hospitalisations\")\n",
    "ax.set_xlabel(None)\n",
    "\n",
    "# plt.savefig('daily-new-hospitalisations.png', dpi=400, bbox_inches='tight')\n",
    "\n",
    "df_sciensano"
   ]
  },
  {
   "cell_type": "markdown",
   "metadata": {},
   "source": [
    "# Initialise model"
   ]
  },
  {
   "cell_type": "code",
   "execution_count": null,
   "metadata": {
    "ExecuteTime": {
     "end_time": "2021-09-15T12:08:29.197686Z",
     "start_time": "2021-09-15T12:08:29.070876Z"
    }
   },
   "outputs": [],
   "source": [
    "# Model initial condition on August 27th\n",
    "\n",
    "# Problem! These are the initial states for arrondissements.\n",
    "# We are only interested in provinces for now, so we need to **aggregate**\n",
    "\n",
    "##############################\n",
    "# STARTING IN SEPTEMBER 2020 #\n",
    "##############################\n",
    "\n",
    "# partial\n",
    "\n",
    "init_states_name = 'arr_WAVE1_job-FULL_1000xPSO_20000xMCMC_arr_3-index-in-frac_2021-06-10_states_2020-08-27_full-manual-fix.json'\n",
    "with open(f'../../data/interim/model_parameters/COVID19_SEIRD/calibrations/arr/{init_states_name}', 'r') as fp:\n",
    "    initial_states = json.load(fp)\n",
    "\n",
    "initial_states_prov_sept = dict()\n",
    "for key in initial_states:\n",
    "    initial_states_prov_sept[key] = np.zeros([11,9])\n",
    "    initial_states_prov_sept[key][0] = np.array(initial_states[key][0:3]).sum(axis=0) # 1000 Antwerp\n",
    "    initial_states_prov_sept[key][1] = np.array(initial_states[key][4:6]).sum(axis=0) # 20001 Vlaams-Brabant\n",
    "    initial_states_prov_sept[key][2] = np.array(initial_states[key][6]) # 20002 Waals-Brabant\n",
    "    initial_states_prov_sept[key][3] = np.array(initial_states[key][3]) # 21000 Brussel\n",
    "    initial_states_prov_sept[key][4] = np.array(initial_states[key][7:15]).sum(axis=0) # 30000 West-Vlaanderen\n",
    "    initial_states_prov_sept[key][5] = np.array(initial_states[key][15:21]).sum(axis=0) # 40000 Oost-Vlaanderen\n",
    "    initial_states_prov_sept[key][6] = np.array(initial_states[key][21:28]).sum(axis=0) # 50000 Hainaut\n",
    "    initial_states_prov_sept[key][7] = np.array(initial_states[key][28:33]).sum(axis=0) # 60000 Liege\n",
    "    initial_states_prov_sept[key][8] = np.array(initial_states[key][33:36]).sum(axis=0) # 70000 Limburg\n",
    "    initial_states_prov_sept[key][9] = np.array(initial_states[key][36:41]).sum(axis=0) # 80000 Luxembourg\n",
    "    initial_states_prov_sept[key][10] = np.array(initial_states[key][41:]).sum(axis=0) # 90000 \n",
    "\n",
    "# Add empty entries for vaccination states\n",
    "vacc_states = ['S_v', 'E_v', 'I_v', 'A_v', 'M_v', 'C_v', 'C_icurec_v', 'ICU_v', 'R_v']\n",
    "for state in vacc_states:\n",
    "    initial_states_prov_sept[state]=np.zeros([11, 9])\n",
    "    \n",
    "    \n",
    "##########################\n",
    "# STARTING IN MARCH 2020 #\n",
    "##########################\n",
    "\n",
    "# complete\n",
    "\n",
    "age=40\n",
    "dist='frac'\n",
    "init_number = 3 # if warmup = 54 and start_date = 2020-03-05\n",
    "initE = initial_state(dist='frac', agg=agg, age=age, number=init_number) # 40-somethings dropped in Brussels (arrival by plane)\n",
    "initial_states_prov_march = {'S': initN, 'E': initE}"
   ]
  },
  {
   "cell_type": "code",
   "execution_count": null,
   "metadata": {
    "ExecuteTime": {
     "end_time": "2021-09-15T12:08:29.691334Z",
     "start_time": "2021-09-15T12:08:29.459086Z"
    }
   },
   "outputs": [],
   "source": [
    "# Add definition of function that controls seasonality\n",
    "\n",
    "\n",
    "dates = pd.date_range(start = '2020-03-01', end = '2022-01-01', freq='D')\n",
    "ref_date = pd.to_datetime('2021-01-01')\n",
    "\n",
    "# Note that this definition is different from Tijs's definition of seasonality\n",
    "def seasonality(t, states, param, amplitude, peak_shift):\n",
    "    # If peak_shift = 0, the max is on the first of January\n",
    "    maxdate = pd.Timedelta(days=peak_shift) + ref_date\n",
    "    # One period is one year long (seasonality)\n",
    "    t = (t - pd.to_datetime(maxdate))/pd.Timedelta(days=1)/365\n",
    "    return 1+amplitude*np.cos( 2*np.pi*(t))\n",
    "\n",
    "\n",
    "season_effects = []\n",
    "amplitude = 0.1\n",
    "peak_shift = 50 # days\n",
    "for date in dates:\n",
    "    season_effect = seasonality(date, {}, {}, amplitude, peak_shift)\n",
    "    season_effects.append(season_effect)\n",
    "    \n",
    "fig, ax = plt.subplots(figsize=(16,3))\n",
    "ax.plot(dates, season_effects)\n",
    "ax.grid(False)\n",
    "ax.set_ylim([0.75, 1.25])\n",
    "ax.set_ylabel('Rescaling')\n",
    "ax.axhline(1, color='k', linewidth=1, linestyle='--')\n",
    "ax.axvline(ref_date, color='k', linewidth=1, linestyle='--')\n",
    "title=ax.set_title(f'Seasonality with amplitude {amplitude}, phase {peak_shift} days')"
   ]
  },
  {
   "cell_type": "code",
   "execution_count": null,
   "metadata": {
    "ExecuteTime": {
     "end_time": "2021-09-15T12:08:30.640397Z",
     "start_time": "2021-09-15T12:08:30.555017Z"
    }
   },
   "outputs": [],
   "source": [
    "# Model set-up\n",
    "\n",
    "params.update({'l' : 5,\n",
    "               'prev_schools' : 1,\n",
    "               'prev_work' : 1,\n",
    "               'prev_rest_lockdown' : 1,\n",
    "               'prev_rest_relaxation' : 1,\n",
    "               'prev_home' : 1,\n",
    "               'initN' : initN,\n",
    "               'daily_first_dose' : 60000, # copy default values from vaccination_function, which are curently not used I think\n",
    "               'delay_immunity' : 21,\n",
    "               'vacc_order' : [8, 7, 6, 5, 4, 3, 2, 1, 0],\n",
    "               'stop_idx' : 9,\n",
    "               'refusal' : [0.3, 0.3, 0.3, 0.3, 0.3, 0.3, 0.3, 0.3, 0.3]})\n",
    "params.update({'season_factor' : 1})\n",
    "# params.update({'season_factor' : 1,\n",
    "#                'amplitude' : 0.1,\n",
    "#                'peak_shift' : 0})\n",
    "\n",
    "params.update({'beta_R' : 0.015,\n",
    "               'beta_U' : 0.015,\n",
    "               'beta_M' : 0.015})\n",
    "\n",
    "model = models.COVID19_SEIRD_spatial_vacc(initial_states_prov_march, params, spatial=agg,\n",
    "                        time_dependent_parameters={'Nc' : policies_WAVE2_no_relaxation, \n",
    "                                                   'N_vacc' : vaccination_function, \n",
    "                                                   'alpha' : VOC_function})\n",
    "#                                                    'season_factor' : seasonality})"
   ]
  },
  {
   "cell_type": "code",
   "execution_count": null,
   "metadata": {
    "ExecuteTime": {
     "end_time": "2021-09-15T12:08:35.604914Z",
     "start_time": "2021-09-15T12:08:31.131491Z"
    }
   },
   "outputs": [],
   "source": [
    "# -------------------\n",
    "# Perform simulations\n",
    "# -------------------\n",
    "\n",
    "n_samples = 1\n",
    "n_draws_per_sample = 1\n",
    "\n",
    "warmup = 43 # 0\n",
    "start_sim = '2020-03-05' # '2020-08-27' # Date of initial conditions\n",
    "end_sim = '2022-01-01'\n",
    "\n",
    "print('\\n1) Simulating COVID-19 SEIRD '+str(n_samples)+' times')\n",
    "out = model.sim(end_sim,start_date=start_sim,warmup=warmup)"
   ]
  },
  {
   "cell_type": "code",
   "execution_count": null,
   "metadata": {
    "ExecuteTime": {
     "end_time": "2021-09-15T12:08:35.883965Z",
     "start_time": "2021-09-15T12:08:35.607952Z"
    }
   },
   "outputs": [],
   "source": [
    "# Inspect output of single simulation pre-calibration\n",
    "\n",
    "fig,ax=plt.subplots(figsize=(16,5))\n",
    "\n",
    "today = pd.Timestamp.today()\n",
    "ax.axvline(today, color='k', linestyle='--', linewidth=1.5)\n",
    "\n",
    "comp = 'H_in'\n",
    "\n",
    "out[comp].sum(dim='Nc').sum(dim='place').plot(ax=ax, label='National simulation')\n",
    "out[comp].sum(dim='Nc').sel(place=10000).plot(ax=ax, label='Antwerp simulation')\n",
    "out[comp].sum(dim='Nc').sel(place=21000).plot(ax=ax, label='Brussels simulation')\n",
    "\n",
    "# reset_index to make it into a DataFrame instead of a Series\n",
    "df_sciensano.sum(axis=1).reset_index().plot(kind='scatter', x='DATE', y=0, ax=ax, label='National data', color='k', linewidth=1)\n",
    "\n",
    "ax.set_title('New daily hospitalisations (simulation and data)')\n",
    "ax.legend(loc='center')\n",
    "ax.grid(False)\n",
    "ax.set_ylabel(comp)"
   ]
  },
  {
   "cell_type": "markdown",
   "metadata": {},
   "source": [
    "# Calibration"
   ]
  },
  {
   "cell_type": "code",
   "execution_count": null,
   "metadata": {
    "ExecuteTime": {
     "end_time": "2021-09-15T12:08:39.945989Z",
     "start_time": "2021-09-15T12:08:39.877924Z"
    }
   },
   "outputs": [],
   "source": [
    "# ------------------\n",
    "# Calibration set-up\n",
    "# ------------------\n",
    "\n",
    "# Start data of recalibration ramp\n",
    "start_calibration = '2020-03-02' # first data available\n",
    "# Last datapoint used to calibrate warmup and beta\n",
    "end_calibration = '2021-08-27' # last data available\n",
    "\n",
    "# Spatial unit: depends on aggregation\n",
    "spatial_unit = f'{agg}_FULL-CALIBRATION'\n",
    "\n",
    "# PSO settings\n",
    "processes = int(os.getenv('SLURM_CPUS_ON_NODE', mp.cpu_count()))\n",
    "sys.stdout.flush()\n",
    "multiplier = 10\n",
    "maxiter = 100\n",
    "popsize = multiplier*processes\n",
    "\n",
    "# MCMC settings\n",
    "max_n = 1000\n",
    "print_n = 10\n",
    "\n",
    "# Offset needed to deal with zeros in data in a Poisson distribution-based calibration\n",
    "poisson_offset = 1"
   ]
  },
  {
   "cell_type": "code",
   "execution_count": null,
   "metadata": {
    "ExecuteTime": {
     "end_time": "2021-09-15T12:08:40.379856Z",
     "start_time": "2021-09-15T12:08:40.309046Z"
    }
   },
   "outputs": [],
   "source": [
    "# -------------------------\n",
    "# Print statement to stdout\n",
    "# -------------------------\n",
    "\n",
    "print('\\n------------------------------------------')\n",
    "print('PERFORMING CALIBRATION OF WARMUP and BETAs')\n",
    "print('------------------------------------------\\n')\n",
    "print('Using data from '+start_calibration+' until '+end_calibration+'\\n')\n",
    "print('1) Particle swarm optimization')\n",
    "print('~~~~~~~~~~~~~~~~~~~~~~~~~~~~~~\\n')\n",
    "print(f'Using {str(processes)} cores for a population of {popsize}, for maximally {maxiter} iterations.\\n')\n",
    "sys.stdout.flush()"
   ]
  },
  {
   "cell_type": "code",
   "execution_count": null,
   "metadata": {
    "ExecuteTime": {
     "end_time": "2021-09-15T12:08:41.109169Z",
     "start_time": "2021-09-15T12:08:41.033930Z"
    }
   },
   "outputs": [],
   "source": [
    "# --------------\n",
    "# define dataset\n",
    "# --------------\n",
    "\n",
    "# Only use hospitalisation data\n",
    "data=[df_sciensano[start_calibration:end_calibration]]\n",
    "states = [\"H_in\"]\n",
    "weights = [1]"
   ]
  },
  {
   "cell_type": "code",
   "execution_count": null,
   "metadata": {
    "ExecuteTime": {
     "start_time": "2021-09-15T12:08:41.696Z"
    }
   },
   "outputs": [],
   "source": [
    "# CALIBRATION WITHOUT SEASONALITY. Takes a long time (at least 3 minutes per iteration at present). And it seems to get stuck :(\n",
    "\n",
    "# -----------\n",
    "# Perform PSO\n",
    "# -----------\n",
    "\n",
    "pars = ['warmup','beta_R', 'beta_U', 'beta_M']\n",
    "bounds=((0.0,50.0),(0.005,0.060), (0.005,0.060), (0.005,0.060))\n",
    "\n",
    "# run optimisation\n",
    "theta = pso.fit_pso(model, data, pars, states, bounds, weights=weights, maxiter=maxiter, popsize=popsize, dist='poisson',\n",
    "                    poisson_offset=poisson_offset, agg=agg, start_date=start_calibration, processes=processes)\n",
    "\n",
    "# Assign estimate.\n",
    "# warmup, pars_PSO = assign_PSO(model.parameters, pars, theta)\n",
    "# model.parameters = pars_PSO\n",
    "\n",
    "# Perform simulation with best-fit results\n",
    "# out = model.sim(end_calibration,start_date=start_calibration,warmup=warmup)\n",
    "\n",
    "# Print statement to stdout once\n",
    "print(f'\\nPSO RESULTS:')\n",
    "print(f'------------')\n",
    "print(f'warmup: {warmup}')\n",
    "print(f'infectivities {pars[1:4]}: {theta[1:4]}.')\n",
    "# print(f'seasonality {pars[4:6]}: {theta[4:6]}.')\n",
    "sys.stdout.flush()"
   ]
  },
  {
   "cell_type": "code",
   "execution_count": null,
   "metadata": {
    "ExecuteTime": {
     "end_time": "2021-09-15T12:03:08.930782Z",
     "start_time": "2021-09-15T12:03:08.096197Z"
    }
   },
   "outputs": [],
   "source": [
    "# plot result of best-fit\n",
    "\n",
    "warmup = int(theta[0])\n",
    "params.update({'beta_R' : theta[1],\n",
    "               'beta_U' : theta[2],\n",
    "               'beta_M' : theta[3]})\n",
    "\n",
    "out = model.sim(end_calibration,start_date=start_calibration,warmup=warmup)\n",
    "\n",
    "# Inspect output of single simulation pre-calibration\n",
    "\n",
    "fig,ax=plt.subplots(figsize=(16,5))\n",
    "\n",
    "today = pd.Timestamp.today()\n",
    "ax.axvline(today, color='k', linestyle='--', linewidth=1.5)\n",
    "\n",
    "comp = 'H_in'\n",
    "\n",
    "out[comp].sum(dim='Nc').sum(dim='place').plot(ax=ax, label='National simulation')\n",
    "out[comp].sum(dim='Nc').sel(place=10000).plot(ax=ax, label='Antwerp simulation')\n",
    "out[comp].sum(dim='Nc').sel(place=21000).plot(ax=ax, label='Brussels simulation')\n",
    "\n",
    "# reset_index to make it into a DataFrame instead of a Series\n",
    "df_sciensano.sum(axis=1).reset_index().plot(kind='scatter', x='DATE', y=0, ax=ax, label='National data', color='k', linewidth=1)\n",
    "\n",
    "ax.set_title('New daily hospitalisations (simulation and data)')\n",
    "ax.legend(loc='center')\n",
    "ax.grid(False)\n",
    "ax.set_ylabel(comp)"
   ]
  },
  {
   "cell_type": "code",
   "execution_count": null,
   "metadata": {
    "ExecuteTime": {
     "start_time": "2021-09-15T11:00:12.288Z"
    }
   },
   "outputs": [],
   "source": [
    "# NOTE: I changed the boundaries\n",
    "\n",
    "# -----------\n",
    "# Perform PSO\n",
    "# -----------\n",
    "\n",
    "pars = ['warmup','beta_R', 'beta_U', 'beta_M', 'amplitude', 'peak_shift']\n",
    "bounds=((20.0,80.0),(0.005,0.060), (0.005,0.060), (0.005,0.060), (0.5, 1.5), (-182.0, 183.0))\n",
    "\n",
    "# run optimisation\n",
    "theta = pso.fit_pso(model, data, pars, states, bounds, weights=weights, maxiter=maxiter, popsize=popsize, dist='poisson',\n",
    "                    poisson_offset=poisson_offset, agg=agg, start_date=start_calibration, processes=processes)\n",
    "\n",
    "# Assign estimate.\n",
    "warmup, pars_PSO = assign_PSO(model.parameters, pars, theta)\n",
    "model.parameters = pars_PSO\n",
    "\n",
    "# Perform simulation with best-fit results\n",
    "out = model.sim(end_calibration,start_date=start_calibration,warmup=warmup)\n",
    "\n",
    "# Print statement to stdout once\n",
    "print(f'\\nPSO RESULTS:')\n",
    "print(f'------------')\n",
    "print(f'warmup: {warmup}')\n",
    "print(f'infectivities {pars[1:4]}: {theta[1:4]}.')\n",
    "print(f'seasonality {pars[4:6]}: {theta[4:6]}.')\n",
    "sys.stdout.flush()"
   ]
  }
 ],
 "metadata": {
  "kernelspec": {
   "display_name": "Python 3 (ipykernel)",
   "language": "python",
   "name": "python3"
  },
  "language_info": {
   "codemirror_mode": {
    "name": "ipython",
    "version": 3
   },
   "file_extension": ".py",
   "mimetype": "text/x-python",
   "name": "python",
   "nbconvert_exporter": "python",
   "pygments_lexer": "ipython3",
   "version": "3.7.3"
  },
  "toc": {
   "base_numbering": 1,
   "nav_menu": {},
   "number_sections": true,
   "sideBar": true,
   "skip_h1_title": false,
   "title_cell": "Table of Contents",
   "title_sidebar": "Contents",
   "toc_cell": false,
   "toc_position": {},
   "toc_section_display": true,
   "toc_window_display": false
  }
 },
 "nbformat": 4,
 "nbformat_minor": 2
}
