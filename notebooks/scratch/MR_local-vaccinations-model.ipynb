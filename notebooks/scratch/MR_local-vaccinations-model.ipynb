{
 "cells": [
  {
   "cell_type": "markdown",
   "metadata": {},
   "source": [
    "Goal:\n",
    "- Allow the spatial model to include local vaccinations\n",
    "    - From the data\n",
    "    - From a prediction into the future (many scenarios possible, but keep it simple). This is included in the `__call__` function of the `make_vaccination_function`, \n",
    "- Allow the model to include local measures (no priority)\n",
    "- Allow the model to include local spread of VOCs (no priority)\n",
    "- Main question: what is the distribution of hospitalisations in Belgium and how is this linked to the degree of vaccination?\n",
    "- Side questions\n",
    "    - How does the increase in Brussels affect the rest of the country?\n",
    "    - How can this be alleviated with local measures? How is this different from national measures?\n",
    "    - How can this be alleviated with isolation of Brussels?\n",
    "    - How would the situation have been if Brussels was vaccinated as the rest-of-the-country average? And if Belgium was vaccinated as Brussels? \n",
    "\n",
    "**Remarks**\n",
    "\n",
    "- Why are the vaccine-eligible subjects only those from class S and R? Would make sense to also include E and A\n",
    "- Why do subjects from R become dS_v?\n",
    "- `dD_v = (m_ICU/dICU_D)*ICU_v + (m_C/dc_D)*C_v` seems incomplete, unless the chance of dying once a subject is hospitalised is the same with or without vaccination. Not sure if there is data available on this.\n",
    "- Note: `N_vacc` must be age and space stratified. It is not yet obvious how this is implemented into the main model (we'd have to dig deep into the code). The same problem goes with `Nc` if we are to stratify this spatially (per province).\n",
    "- What type of vaccination does `get_public_spatial_vaccination_data` return? First vaccination, I suppose?"
   ]
  },
  {
   "cell_type": "markdown",
   "metadata": {},
   "source": [
    "# Load packages and functions"
   ]
  },
  {
   "cell_type": "code",
   "execution_count": 71,
   "metadata": {
    "ExecuteTime": {
     "end_time": "2021-09-10T12:10:52.405942Z",
     "start_time": "2021-09-10T12:10:52.327278Z"
    }
   },
   "outputs": [
    {
     "name": "stdout",
     "output_type": "stream",
     "text": [
      "The autoreload extension is already loaded. To reload it, use:\n",
      "  %reload_ext autoreload\n"
     ]
    }
   ],
   "source": [
    "# Preamble\n",
    "import corner\n",
    "import pandas as pd\n",
    "import json\n",
    "import numpy as np\n",
    "from IPython.display import IFrame\n",
    "import matplotlib.pyplot as plt\n",
    "\n",
    "from covid19model.models import models\n",
    "from covid19model.models.time_dependant_parameter_fncs import make_mobility_update_function, make_contact_matrix_function, make_VOC_function, make_vaccination_function\n",
    "from covid19model.models.utils import initial_state\n",
    "# from covid19model.optimization.run_optimization import checkplots, calculate_R0\n",
    "# from covid19model.optimization.objective_fcns import prior_custom, prior_uniform\n",
    "from covid19model.data import mobility, sciensano, model_parameters\n",
    "# from covid19model.optimization import pso, objective_fcns\n",
    "from covid19model.visualization.output import _apply_tick_locator \n",
    "from covid19model.visualization.optimization import autocorrelation_plot, traceplot, plot_fit, plot_calibration_fit\n",
    "from covid19model.visualization.utils import moving_avg\n",
    "from covid19model.optimization.utils import perturbate_PSO, run_MCMC\n",
    "from covid19model.optimization.utils import samples_dict_to_emcee_chain # used for corner plots\n",
    "import random\n",
    "import datetime\n",
    "\n",
    "# OPTIONAL: Load the \"autoreload\" extension so that package code can change\n",
    "%load_ext autoreload\n",
    "# OPTIONAL: always reload modules so that as you change code in src, it gets loaded\n",
    "# This may be useful because the `covid19model` package is under construction\n",
    "%autoreload 2\n",
    "\n",
    "# Copied from mrollier-calibration-WAVE2_spatial.ipynb\n",
    "import gc\n",
    "import sys, getopt\n",
    "import os\n",
    "import ujson as json\n",
    "import random\n",
    "import emcee\n",
    "import datetime\n",
    "import corner\n",
    "import argparse\n",
    "import numpy as np\n",
    "import pandas as pd\n",
    "import matplotlib.pyplot as plt\n",
    "import multiprocessing as mp\n",
    "from multiprocessing import Pool\n",
    "\n",
    "from covid19model.models import models\n",
    "from covid19model.optimization.objective_fcns import prior_custom, prior_uniform\n",
    "from covid19model.data import mobility, sciensano, model_parameters, VOC\n",
    "from covid19model.optimization import pso, objective_fcns\n",
    "from covid19model.models.time_dependant_parameter_fncs import ramp_fun\n",
    "from covid19model.visualization.output import _apply_tick_locator \n",
    "from covid19model.visualization.optimization import autocorrelation_plot, traceplot\n",
    "from covid19model.models.utils import initial_state\n",
    "\n",
    "\n",
    "agg='prov'"
   ]
  },
  {
   "cell_type": "code",
   "execution_count": 72,
   "metadata": {
    "ExecuteTime": {
     "end_time": "2021-09-10T12:10:56.363941Z",
     "start_time": "2021-09-10T12:10:54.267328Z"
    }
   },
   "outputs": [
    {
     "name": "stderr",
     "output_type": "stream",
     "text": [
      "c:\\users\\mrollier\\documents\\github\\covid19-model\\src\\covid19model\\models\\time_dependant_parameter_fncs.py:264: FutureWarning: The 'freq' argument in Timestamp is deprecated and will be removed in a future version.\n",
      "  self.df_start = pd.Timestamp(df['INCIDENCE'].ne(0).idxmax()[0], freq='D')\n",
      "c:\\users\\mrollier\\documents\\github\\covid19-model\\src\\covid19model\\models\\time_dependant_parameter_fncs.py:265: FutureWarning: The 'freq' argument in Timestamp is deprecated and will be removed in a future version.\n",
      "  self.df_end = pd.Timestamp(df.index[-1][0], freq='D')\n"
     ]
    }
   ],
   "source": [
    "# Total population and contact matrices\n",
    "initN, Nc_all = model_parameters.get_integrated_willem2012_interaction_matrices(spatial=agg)\n",
    "\n",
    "# Google Mobility data (for social contact Nc)\n",
    "df_google = mobility.get_google_mobility_data(update=False)\n",
    "\n",
    "# Load and format mobility dataframe (for mobility place)\n",
    "proximus_mobility_data, proximus_mobility_data_avg = mobility.get_proximus_mobility_data(agg, dtype='fractional', beyond_borders=False)\n",
    "# Converting the index as date. Probably not necessary because it's already done.\n",
    "# all_mobility_data.index = pd.to_datetime(all_mobility_data.index)\n",
    "\n",
    "# Load and format national VOC data (for time-dependent VOC fraction)\n",
    "df_VOC_abc = VOC.get_abc_data()\n",
    "\n",
    "# Load and format local vaccination data\n",
    "public_spatial_vaccination_data = sciensano.get_public_spatial_vaccination_data(update=False,agg=agg)\n",
    "\n",
    "params = model_parameters.get_COVID19_SEIRD_parameters(spatial=agg, vaccination=True,VOC=True)\n",
    "\n",
    "\n",
    "### TIME-DEPENDENT FUNCTIONS ###\n",
    "# Define time-dependent social contact matrix\n",
    "contact_matrix_function = make_contact_matrix_function(df_google, Nc_all)\n",
    "ramp_fun = make_contact_matrix_function(df_google, Nc_all).ramp_fun\n",
    "# Covers the entire pandemic period\n",
    "policies_WAVE2_no_relaxation = make_contact_matrix_function(df_google, Nc_all).policies_WAVE2_no_relaxation\n",
    "\n",
    "# Mobility update function from class __call__ and function wrapper to get the right signature\n",
    "mobility_wrapper_function = make_mobility_update_function(proximus_mobility_data, proximus_mobility_data_avg).mobility_wrapper_func\n",
    "\n",
    "# function to update VOC fraction\n",
    "VOC_function = make_VOC_function(df_VOC_abc)\n",
    "\n",
    "# function to update local vaccination level (first dose only)\n",
    "vaccination_function = make_vaccination_function(public_spatial_vaccination_data, spatial=True)\n",
    "sciensano_spatial_first_dose = vaccination_function.get_sciensano_spatial_first_dose"
   ]
  },
  {
   "cell_type": "markdown",
   "metadata": {
    "heading_collapsed": true
   },
   "source": [
    "# Visualise raw vaccination data"
   ]
  },
  {
   "cell_type": "code",
   "execution_count": null,
   "metadata": {
    "ExecuteTime": {
     "end_time": "2021-09-10T07:04:46.881581Z",
     "start_time": "2021-09-10T07:04:46.553758Z"
    },
    "hidden": true
   },
   "outputs": [],
   "source": [
    "# Visualise vaccination data per age\n",
    "fig, ax = plt.subplots(figsize=(12,4))\n",
    "# public_spatial_vaccination_data[['CUMULATIVE']].groupby(['start_week', 'age']).sum().plot(ax=ax)\n",
    "\n",
    "df = public_spatial_vaccination_data[['CUMULATIVE']].groupby(['start_week','age']).sum()\n",
    "df.unstack().plot(kind='area', stacked=True, ax=ax)\n",
    "handles, labels = ax.get_legend_handles_labels()\n",
    "ax.legend(handles[::-1], labels[::-1], loc='upper left')\n",
    "ax.grid(False)\n",
    "ax.set_xlabel(None)\n",
    "ax.set_ylabel('First vaccination per age')"
   ]
  },
  {
   "cell_type": "code",
   "execution_count": null,
   "metadata": {
    "ExecuteTime": {
     "end_time": "2021-09-10T07:04:47.207548Z",
     "start_time": "2021-09-10T07:04:46.882582Z"
    },
    "hidden": true
   },
   "outputs": [],
   "source": [
    "# Visualise vaccination data per province\n",
    "fig, ax = plt.subplots(figsize=(12,5))\n",
    "# public_spatial_vaccination_data[['CUMULATIVE']].groupby(['start_week', 'age']).sum().plot(ax=ax)\n",
    "\n",
    "df = public_spatial_vaccination_data[['CUMULATIVE']].groupby(['start_week','NIS']).sum()\n",
    "df.unstack().plot(kind='area', stacked=True, ax=ax)\n",
    "handles, labels = ax.get_legend_handles_labels()\n",
    "ax.legend(handles[::-1], labels[::-1], loc='upper left')\n",
    "ax.grid(False)\n",
    "ax.set_xlabel(None)\n",
    "ax.set_ylabel('First vaccination per province')"
   ]
  },
  {
   "cell_type": "markdown",
   "metadata": {
    "heading_collapsed": true
   },
   "source": [
    "# Visualise VOCs"
   ]
  },
  {
   "cell_type": "code",
   "execution_count": null,
   "metadata": {
    "ExecuteTime": {
     "end_time": "2021-09-10T07:04:47.563036Z",
     "start_time": "2021-09-10T07:04:47.208223Z"
    },
    "hidden": true
   },
   "outputs": [],
   "source": [
    "### EXTRA -- may delete ###\n",
    "\n",
    "# ------------------\n",
    "# Visualize variants\n",
    "# ------------------\n",
    "\n",
    "# Call VOC function and save data\n",
    "dates = pd.date_range(start = '2020-09-01', end = '2021-09-01', freq='D')\n",
    "wt=[]\n",
    "alpha=[]\n",
    "delta=[]\n",
    "for date in dates:\n",
    "    wt.append(VOC_function(date, {}, {})[0])\n",
    "    alpha.append(VOC_function(date, {}, {})[1])\n",
    "    delta.append(VOC_function(date, {}, {})[2])\n",
    "        \n",
    "# Make figure\n",
    "fig,ax=plt.subplots(figsize=(12,4))\n",
    "ax.plot(dates,np.array(wt)*100, color='black')\n",
    "ax.plot(dates,np.array(alpha)*100, color='red')\n",
    "ax.plot(dates,np.array(delta)*100, color='green')\n",
    "ax.set_ylabel('Prevalence of variant (%)')\n",
    "ax.legend(['WT','alpha, beta, gamma','delta'], bbox_to_anchor=(1.05, 1), loc='upper left', fontsize=13)\n",
    "ax.grid(False)"
   ]
  },
  {
   "cell_type": "markdown",
   "metadata": {
    "heading_collapsed": true
   },
   "source": [
    "# Visualise processed vaccination data"
   ]
  },
  {
   "cell_type": "code",
   "execution_count": null,
   "metadata": {
    "ExecuteTime": {
     "end_time": "2021-09-10T07:37:23.650546Z",
     "start_time": "2021-09-10T07:37:23.293237Z"
    },
    "hidden": true
   },
   "outputs": [],
   "source": [
    "# Per province\n",
    "\n",
    "dates_vacc = pd.date_range(start = '2020-09-01', end = '2021-09-01', freq='W-MON')\n",
    "vaccs=[]\n",
    "for date in dates_vacc:\n",
    "    vacc = sciensano_spatial_first_dose(date).sum(axis=1)\n",
    "    vaccs.append(vacc)\n",
    "vaccs=np.array(vaccs).cumsum(axis=0)\n",
    "\n",
    "fig, axs = plt.subplots(1, 2, figsize=(16,5), sharey=True)\n",
    "axs[0].grid(False)\n",
    "labels = ['Antwerpen', 'Vlaams-Brabant', 'Waals-Brabant', 'Brussels', 'West-Vlaanderen', 'Oost-Vlaanderen',\\\n",
    "          'Hainaut', 'Liège', 'Limburg', 'Luxembourg', 'Namur']\n",
    "axs[0].stackplot(dates_vacc, vaccs[:,0],\\\n",
    "             vaccs[:,1],\\\n",
    "             vaccs[:,2],\\\n",
    "             vaccs[:,3],\\\n",
    "             vaccs[:,4],\\\n",
    "             vaccs[:,5],\\\n",
    "             vaccs[:,6],\\\n",
    "             vaccs[:,7],\\\n",
    "             vaccs[:,8],\\\n",
    "             vaccs[:,9],\\\n",
    "             vaccs[:,10],\\\n",
    "             labels=labels)\n",
    "handles, labels = axs[0].get_legend_handles_labels()\n",
    "axs[0].legend(handles[::-1], labels[::-1], loc='upper left')\n",
    "axs[0].tick_params('x', labelrotation=30)\n",
    "axs[0].set_title('First vaccination dose per province')\n",
    "\n",
    "# Per age\n",
    "\n",
    "vaccs = []\n",
    "for date in dates_vacc:\n",
    "    vacc = sciensano_spatial_first_dose(date).sum(axis=0)\n",
    "    vaccs.append(vacc)\n",
    "vaccs=np.array(vaccs).cumsum(axis=0)\n",
    "\n",
    "axs[1].grid(False)\n",
    "labels = ['0-9', '10-19', '20-29', '30-39', '40-49', '50-59', '60-69', '70-79', '80+']\n",
    "axs[1].stackplot(dates_vacc, vaccs[:,0],\\\n",
    "             vaccs[:,1],\\\n",
    "             vaccs[:,2],\\\n",
    "             vaccs[:,3],\\\n",
    "             vaccs[:,4],\\\n",
    "             vaccs[:,5],\\\n",
    "             vaccs[:,6],\\\n",
    "             vaccs[:,7],\\\n",
    "             vaccs[:,8],\\\n",
    "             labels=labels)\n",
    "handles, labels = axs[1].get_legend_handles_labels()\n",
    "axs[1].legend(handles[::-1], labels[::-1], loc='upper left')\n",
    "axs[1].tick_params('x', labelrotation=30)\n",
    "axs[1].set_title('First vaccination dose per age class')"
   ]
  },
  {
   "cell_type": "markdown",
   "metadata": {},
   "source": [
    "# Initialise model"
   ]
  },
  {
   "cell_type": "code",
   "execution_count": 73,
   "metadata": {
    "ExecuteTime": {
     "end_time": "2021-09-10T12:11:00.264085Z",
     "start_time": "2021-09-10T12:11:00.128167Z"
    }
   },
   "outputs": [],
   "source": [
    "# Model initial condition on August 27th\n",
    "\n",
    "# Problem! These are the initial states for arrondissements.\n",
    "# We are only interested in provinces for now, so we need to **aggregate**\n",
    "\n",
    "##############################\n",
    "# STARTING IN SEPTEMBER 2020 #\n",
    "##############################\n",
    "\n",
    "init_states_name = 'arr_WAVE1_job-FULL_1000xPSO_20000xMCMC_arr_3-index-in-frac_2021-06-10_states_2020-08-27_full-manual-fix.json'\n",
    "with open(f'../../data/interim/model_parameters/COVID19_SEIRD/calibrations/arr/{init_states_name}', 'r') as fp:\n",
    "    initial_states = json.load(fp)\n",
    "\n",
    "initial_states_prov_sept = dict()\n",
    "for key in initial_states:\n",
    "    initial_states_prov_sept[key] = np.zeros([11,9])\n",
    "    initial_states_prov_sept[key][0] = np.array(initial_states[key][0:3]).sum(axis=0) # 1000 Antwerp\n",
    "    initial_states_prov_sept[key][1] = np.array(initial_states[key][4:6]).sum(axis=0) # 20001 Vlaams-Brabant\n",
    "    initial_states_prov_sept[key][2] = np.array(initial_states[key][6]) # 20002 Waals-Brabant\n",
    "    initial_states_prov_sept[key][3] = np.array(initial_states[key][3]) # 21000 Brussel\n",
    "    initial_states_prov_sept[key][4] = np.array(initial_states[key][7:15]).sum(axis=0) # 30000 West-Vlaanderen\n",
    "    initial_states_prov_sept[key][5] = np.array(initial_states[key][15:21]).sum(axis=0) # 40000 Oost-Vlaanderen\n",
    "    initial_states_prov_sept[key][6] = np.array(initial_states[key][21:28]).sum(axis=0) # 50000 Hainaut\n",
    "    initial_states_prov_sept[key][7] = np.array(initial_states[key][28:33]).sum(axis=0) # 60000 Liege\n",
    "    initial_states_prov_sept[key][8] = np.array(initial_states[key][33:36]).sum(axis=0) # 70000 Limburg\n",
    "    initial_states_prov_sept[key][9] = np.array(initial_states[key][36:41]).sum(axis=0) # 80000 Luxembourg\n",
    "    initial_states_prov_sept[key][10] = np.array(initial_states[key][41:]).sum(axis=0) # 90000 \n",
    "\n",
    "# Add empty entries for vaccination states\n",
    "vacc_states = ['S_v', 'E_v', 'I_v', 'A_v', 'M_v', 'C_v', 'C_icurec_v', 'ICU_v', 'R_v']\n",
    "for state in vacc_states:\n",
    "    initial_states_prov_sept[state]=np.zeros([11, 9])\n",
    "    \n",
    "    \n",
    "#####################\n",
    "# STARTING IN MARCH #\n",
    "#####################\n",
    "\n",
    "age=40\n",
    "dist='frac'\n",
    "init_number = 3 # if warmup = 54 and start_date = 2020-03-05\n",
    "initE = initial_state(dist='frac', agg=agg, age=age, number=init_number) # 40-somethings dropped in Brussels (arrival by plane)\n",
    "initial_states_prov_march = {'S': initN, 'E': initE}"
   ]
  },
  {
   "cell_type": "code",
   "execution_count": 74,
   "metadata": {
    "ExecuteTime": {
     "end_time": "2021-09-10T12:11:01.385610Z",
     "start_time": "2021-09-10T12:11:01.313470Z"
    }
   },
   "outputs": [],
   "source": [
    "# Model set-up\n",
    "\n",
    "params.update({'l' : 5,\n",
    "               'prev_schools' : 1,\n",
    "               'prev_work' : 1,\n",
    "               'prev_rest_lockdown' : 1,\n",
    "               'prev_rest_relaxation' : 1,\n",
    "               'prev_home' : 1,\n",
    "               'initN' : initN,\n",
    "               'daily_first_dose' : 60000, # copy default values from vaccination_function, which are curently not used I think\n",
    "               'delay_immunity' : 21,\n",
    "               'vacc_order' : [8, 7, 6, 5, 4, 3, 2, 1, 0],\n",
    "               'stop_idx' : 9,\n",
    "               'refusal' : [0.3, 0.3, 0.3, 0.3, 0.3, 0.3, 0.3, 0.3, 0.3]})\n",
    "\n",
    "model = models.COVID19_SEIRD_spatial_vacc(initial_states_prov_march, params, spatial=agg,\n",
    "                        time_dependent_parameters={'Nc': policies_WAVE2_no_relaxation, \\\n",
    "                                                   'N_vacc': vaccination_function, \\\n",
    "                                                   'alpha': VOC_function})"
   ]
  },
  {
   "cell_type": "code",
   "execution_count": 75,
   "metadata": {
    "ExecuteTime": {
     "end_time": "2021-09-10T12:11:07.864462Z",
     "start_time": "2021-09-10T12:11:02.750737Z"
    }
   },
   "outputs": [
    {
     "name": "stdout",
     "output_type": "stream",
     "text": [
      "\n",
      "1) Simulating COVID-19 SEIRD 1 times\n"
     ]
    }
   ],
   "source": [
    "# -------------------\n",
    "# Perform simulations\n",
    "# -------------------\n",
    "\n",
    "n_samples = 1\n",
    "n_draws_per_sample = 1\n",
    "\n",
    "warmup = 54 # 0\n",
    "start_sim = '2020-03-05' # '2020-08-27' # Date of initial conditions\n",
    "end_sim = '2022-01-01'\n",
    "\n",
    "print('\\n1) Simulating COVID-19 SEIRD '+str(n_samples)+' times')\n",
    "out = model.sim(end_sim,start_date=start_sim,warmup=warmup)"
   ]
  },
  {
   "cell_type": "code",
   "execution_count": 76,
   "metadata": {
    "ExecuteTime": {
     "end_time": "2021-09-10T12:11:22.831703Z",
     "start_time": "2021-09-10T12:11:22.609756Z"
    }
   },
   "outputs": [
    {
     "data": {
      "image/png": "[encoded data removed]",
      "text/plain": [
       "<Figure size 1008x288 with 1 Axes>"
      ]
     },
     "metadata": {
      "needs_background": "light"
     },
     "output_type": "display_data"
    }
   ],
   "source": [
    "fig,ax=plt.subplots(figsize=(14,4))\n",
    "\n",
    "today = pd.Timestamp.today()\n",
    "ax.axvline(today, color='k', linestyle='--')\n",
    "\n",
    "out['S_v'].sum(dim='Nc').sum(dim='place').plot(ax=ax, label='National')\n",
    "out['S_v'].sum(dim='Nc').sel(place=10000).plot(ax=ax, label='Antwerp')\n",
    "out['S_v'].sum(dim='Nc').sel(place=21000).plot(ax=ax, label='Brussels')\n",
    "\n",
    "ax.set_title('Susceptible and recovered subjects that are now immune')\n",
    "ax.legend()\n",
    "ax.grid(False)"
   ]
  },
  {
   "cell_type": "code",
   "execution_count": 79,
   "metadata": {
    "ExecuteTime": {
     "end_time": "2021-09-10T12:12:45.598475Z",
     "start_time": "2021-09-10T12:12:45.373802Z"
    }
   },
   "outputs": [
    {
     "data": {
      "image/png": "[encoded data removed]",
      "text/plain": [
       "<Figure size 1008x288 with 1 Axes>"
      ]
     },
     "metadata": {
      "needs_background": "light"
     },
     "output_type": "display_data"
    }
   ],
   "source": [
    "fig,ax=plt.subplots(figsize=(14,4))\n",
    "\n",
    "today = pd.Timestamp.today()\n",
    "ax.axvline(today, color='k', linestyle='--')\n",
    "\n",
    "out['H_in'].sum(dim='Nc').sum(dim='place').plot(ax=ax, label='National')\n",
    "out['H_in'].sum(dim='Nc').sel(place=10000).plot(ax=ax, label='Antwerp')\n",
    "out['H_in'].sum(dim='Nc').sel(place=21000).plot(ax=ax, label='Brussels')\n",
    "\n",
    "ax.set_title('New daily hospitalisations')\n",
    "ax.legend()\n",
    "ax.grid(False)"
   ]
  },
  {
   "cell_type": "code",
   "execution_count": 70,
   "metadata": {
    "ExecuteTime": {
     "end_time": "2021-09-10T11:58:07.205602Z",
     "start_time": "2021-09-10T11:58:07.131155Z"
    }
   },
   "outputs": [
    {
     "ename": "NameError",
     "evalue": "name 'sciensano_df' is not defined",
     "output_type": "error",
     "traceback": [
      "\u001b[1;31m---------------------------------------------------------------------------\u001b[0m",
      "\u001b[1;31mNameError\u001b[0m                                 Traceback (most recent call last)",
      "\u001b[1;32m~\\AppData\\Local\\Temp/ipykernel_8532/1582226251.py\u001b[0m in \u001b[0;36m<module>\u001b[1;34m\u001b[0m\n\u001b[1;32m----> 1\u001b[1;33m \u001b[0msciensano_df\u001b[0m\u001b[1;33m\u001b[0m\u001b[1;33m\u001b[0m\u001b[0m\n\u001b[0m",
      "\u001b[1;31mNameError\u001b[0m: name 'sciensano_df' is not defined"
     ]
    }
   ],
   "source": [
    "df_sciensano = sciensano."
   ]
  }
 ],
 "metadata": {
  "kernelspec": {
   "display_name": "Python 3 (ipykernel)",
   "language": "python",
   "name": "python3"
  },
  "language_info": {
   "codemirror_mode": {
    "name": "ipython",
    "version": 3
   },
   "file_extension": ".py",
   "mimetype": "text/x-python",
   "name": "python",
   "nbconvert_exporter": "python",
   "pygments_lexer": "ipython3",
   "version": "3.7.3"
  },
  "toc": {
   "base_numbering": 1,
   "nav_menu": {},
   "number_sections": true,
   "sideBar": true,
   "skip_h1_title": false,
   "title_cell": "Table of Contents",
   "title_sidebar": "Contents",
   "toc_cell": false,
   "toc_position": {},
   "toc_section_display": true,
   "toc_window_display": false
  }
 },
 "nbformat": 4,
 "nbformat_minor": 2
}
