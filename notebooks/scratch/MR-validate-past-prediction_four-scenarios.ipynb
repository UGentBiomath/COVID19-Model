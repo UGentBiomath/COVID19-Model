{
 "cells": [
  {
   "cell_type": "markdown",
   "metadata": {},
   "source": [
    "In this Notebook we want to show that our model is capable of 'predicting the future' by ...\n",
    "1. Calibrating up to a particular point in the past.\n",
    "2. Defining a number of possible scenarios, based on variations in social contact, vaccination strategy, rise of VOCs, ...\n",
    "3. Simulating the future in these three possible scenarios\n",
    "4. Comparing the outcome of these scenarios with real-life scenario\n",
    "\n",
    "Ideally, the prediction and the real-life outcome should overlap. This overlap will not be perfect, so this requires a discussion.\n",
    "\n",
    "Try to _keep it simple_ for the paper. For actual detailed predictions, refer to the progress reports (published on Research Gate)\n",
    "\n",
    "The first couple of paragraphs here are roughly copied from `models/utils.py`'s `initialize_COVID19_SEIQRD_spatial_rescaling` function\n",
    "\n",
    "We define three future approaches where we alter social contact"
   ]
  },
  {
   "cell_type": "markdown",
   "metadata": {},
   "source": [
    "# Load Python packages"
   ]
  },
  {
   "cell_type": "code",
   "execution_count": 1,
   "metadata": {
    "ExecuteTime": {
     "end_time": "2022-04-15T10:25:14.980169Z",
     "start_time": "2022-04-15T10:25:14.959256Z"
    }
   },
   "outputs": [
    {
     "name": "stdout",
     "output_type": "stream",
     "text": [
      "3.7.13\n"
     ]
    }
   ],
   "source": [
    "from platform import python_version\n",
    "print(python_version())"
   ]
  },
  {
   "cell_type": "code",
   "execution_count": 1,
   "metadata": {
    "ExecuteTime": {
     "end_time": "2022-04-15T10:14:19.093309Z",
     "start_time": "2022-04-15T10:14:13.226084Z"
    }
   },
   "outputs": [],
   "source": [
    "import numpy as np\n",
    "import os\n",
    "import pickle\n",
    "import pandas as pd\n",
    "import json\n",
    "import random\n",
    "import matplotlib.pyplot as plt\n",
    "\n",
    "# Import the file with the model definitions\n",
    "from covid19model.models.models import COVID19_SEIQRD_spatial_rescaling\n",
    "from covid19model.models.utils import initialize_COVID19_SEIQRD_spatial_rescaling\n",
    "# Import time-dependent parameter functions for resp. P, Nc, alpha, N_vacc, season_factor\n",
    "from covid19model.models.time_dependant_parameter_fncs import make_mobility_update_function, \\\n",
    "                                                      make_contact_matrix_function, \\\n",
    "                                                      make_VOC_function, \\\n",
    "                                                      make_vaccination_rescaling_function, \\\n",
    "                                                      make_seasonality_function_NEW\n",
    "# Import packages containing functions to load in data used in the model and the time-dependent parameter functions\n",
    "from covid19model.data import mobility, sciensano, model_parameters\n",
    "from covid19model.data.utils import convert_age_stratified_quantity\n",
    "from covid19model.optimization.utils import samples_dict_to_emcee_chain\n",
    "\n",
    "from covid19model.visualization.output import color_timeframes\n",
    "\n",
    "# OPTIONAL: Load the \"autoreload\" extension so that package code can change\n",
    "%load_ext autoreload\n",
    "# OPTIONAL: always reload modules so that as you change code in src, it gets loaded\n",
    "# This may be useful because the `covid19model` package is under construction\n",
    "%autoreload 2\n",
    "\n",
    "# Spatial stratification\n",
    "agg = 'prov'"
   ]
  },
  {
   "cell_type": "markdown",
   "metadata": {},
   "source": [
    " # Load necessary data"
   ]
  },
  {
   "cell_type": "code",
   "execution_count": 2,
   "metadata": {
    "ExecuteTime": {
     "end_time": "2022-04-15T10:14:26.392716Z",
     "start_time": "2022-04-15T10:14:22.009155Z"
    }
   },
   "outputs": [
    {
     "ename": "ValueError",
     "evalue": "unsupported pickle protocol: 5",
     "output_type": "error",
     "traceback": [
      "\u001b[1;31m---------------------------------------------------------------------------\u001b[0m",
      "\u001b[1;31mValueError\u001b[0m                                Traceback (most recent call last)",
      "\u001b[1;32m~\\AppData\\Local\\Temp\\ipykernel_16108\\1471848205.py\u001b[0m in \u001b[0;36m<module>\u001b[1;34m\u001b[0m\n\u001b[0;32m      1\u001b[0m \u001b[0mstart_date\u001b[0m \u001b[1;33m=\u001b[0m \u001b[1;34m'2020-03-21'\u001b[0m\u001b[1;33m\u001b[0m\u001b[1;33m\u001b[0m\u001b[0m\n\u001b[1;32m----> 2\u001b[1;33m \u001b[0mmodel\u001b[0m\u001b[1;33m,\u001b[0m \u001b[0mBASE_samples_dict\u001b[0m\u001b[1;33m,\u001b[0m \u001b[0minitN\u001b[0m \u001b[1;33m=\u001b[0m \u001b[0minitialize_COVID19_SEIQRD_spatial_rescaling\u001b[0m\u001b[1;33m(\u001b[0m\u001b[0magg\u001b[0m\u001b[1;33m=\u001b[0m\u001b[0magg\u001b[0m\u001b[1;33m,\u001b[0m \u001b[0mstart_date\u001b[0m\u001b[1;33m=\u001b[0m\u001b[0mstart_date\u001b[0m\u001b[1;33m)\u001b[0m\u001b[1;33m\u001b[0m\u001b[1;33m\u001b[0m\u001b[0m\n\u001b[0m",
      "\u001b[1;32mc:\\users\\mrollier\\documents\\github\\covid19-model\\src\\covid19model\\models\\utils.py\u001b[0m in \u001b[0;36minitialize_COVID19_SEIQRD_spatial_rescaling\u001b[1;34m(age_stratification_size, agg, VOCs, start_date, virgin, update_data)\u001b[0m\n\u001b[0;32m    356\u001b[0m         \u001b[0mvaccination_rescaling_function\u001b[0m \u001b[1;33m=\u001b[0m \u001b[0mmake_vaccination_rescaling_function\u001b[0m\u001b[1;33m(\u001b[0m\u001b[0mupdate\u001b[0m\u001b[1;33m=\u001b[0m\u001b[0mrescaling_update\u001b[0m\u001b[1;33m,\u001b[0m \u001b[0magg\u001b[0m\u001b[1;33m=\u001b[0m\u001b[0magg\u001b[0m\u001b[1;33m,\u001b[0m \u001b[0mage_classes\u001b[0m\u001b[1;33m=\u001b[0m\u001b[0mage_classes\u001b[0m\u001b[1;33m,\u001b[0m \u001b[0mdf_incidences\u001b[0m\u001b[1;33m=\u001b[0m\u001b[0mdf_vacc\u001b[0m\u001b[1;33m,\u001b[0m \u001b[0mVOC_function\u001b[0m\u001b[1;33m=\u001b[0m\u001b[0mVOC_function\u001b[0m\u001b[1;33m,\u001b[0m \u001b[0mvaccine_params\u001b[0m\u001b[1;33m=\u001b[0m\u001b[0mvaccine_params\u001b[0m\u001b[1;33m)\u001b[0m\u001b[1;33m\u001b[0m\u001b[1;33m\u001b[0m\u001b[0m\n\u001b[0;32m    357\u001b[0m     \u001b[1;32melse\u001b[0m\u001b[1;33m:\u001b[0m\u001b[1;33m\u001b[0m\u001b[1;33m\u001b[0m\u001b[0m\n\u001b[1;32m--> 358\u001b[1;33m         \u001b[0mvaccination_rescaling_function\u001b[0m \u001b[1;33m=\u001b[0m \u001b[0mmake_vaccination_rescaling_function\u001b[0m\u001b[1;33m(\u001b[0m\u001b[0mupdate\u001b[0m\u001b[1;33m=\u001b[0m\u001b[0mrescaling_update\u001b[0m\u001b[1;33m,\u001b[0m \u001b[0magg\u001b[0m\u001b[1;33m=\u001b[0m\u001b[0magg\u001b[0m\u001b[1;33m,\u001b[0m \u001b[0mage_classes\u001b[0m\u001b[1;33m=\u001b[0m\u001b[0mage_classes\u001b[0m\u001b[1;33m)\u001b[0m\u001b[1;33m\u001b[0m\u001b[1;33m\u001b[0m\u001b[0m\n\u001b[0m\u001b[0;32m    359\u001b[0m \u001b[1;33m\u001b[0m\u001b[0m\n\u001b[0;32m    360\u001b[0m     \u001b[1;31m##################################################\u001b[0m\u001b[1;33m\u001b[0m\u001b[1;33m\u001b[0m\u001b[1;33m\u001b[0m\u001b[0m\n",
      "\u001b[1;32mc:\\users\\mrollier\\documents\\github\\covid19-model\\src\\covid19model\\models\\time_dependant_parameter_fncs.py\u001b[0m in \u001b[0;36m__init__\u001b[1;34m(self, update, agg, age_classes, df_incidences, VOC_function, vaccine_params)\u001b[0m\n\u001b[0;32m    557\u001b[0m             \u001b[1;32mif\u001b[0m \u001b[0magg\u001b[0m\u001b[1;33m:\u001b[0m\u001b[1;33m\u001b[0m\u001b[1;33m\u001b[0m\u001b[0m\n\u001b[0;32m    558\u001b[0m                 \u001b[0mdir_abs\u001b[0m \u001b[1;33m=\u001b[0m \u001b[0mos\u001b[0m\u001b[1;33m.\u001b[0m\u001b[0mpath\u001b[0m\u001b[1;33m.\u001b[0m\u001b[0mjoin\u001b[0m\u001b[1;33m(\u001b[0m\u001b[0mos\u001b[0m\u001b[1;33m.\u001b[0m\u001b[0mpath\u001b[0m\u001b[1;33m.\u001b[0m\u001b[0mdirname\u001b[0m\u001b[1;33m(\u001b[0m\u001b[0m__file__\u001b[0m\u001b[1;33m)\u001b[0m\u001b[1;33m,\u001b[0m \u001b[1;34mf\"../../../data/interim/sciensano/vacc_rescaling_values_{agg}.pkl\"\u001b[0m\u001b[1;33m)\u001b[0m\u001b[1;33m\u001b[0m\u001b[1;33m\u001b[0m\u001b[0m\n\u001b[1;32m--> 559\u001b[1;33m                 \u001b[0mdf_efficacies\u001b[0m \u001b[1;33m=\u001b[0m \u001b[0mpd\u001b[0m\u001b[1;33m.\u001b[0m\u001b[0mread_pickle\u001b[0m\u001b[1;33m(\u001b[0m\u001b[0mdir_abs\u001b[0m\u001b[1;33m)\u001b[0m\u001b[1;33m.\u001b[0m\u001b[0mgroupby\u001b[0m\u001b[1;33m(\u001b[0m\u001b[1;33m[\u001b[0m\u001b[1;34m'date'\u001b[0m\u001b[1;33m,\u001b[0m \u001b[1;34m'NIS'\u001b[0m\u001b[1;33m,\u001b[0m \u001b[1;34m'age'\u001b[0m\u001b[1;33m]\u001b[0m\u001b[1;33m)\u001b[0m\u001b[1;33m.\u001b[0m\u001b[0mfirst\u001b[0m\u001b[1;33m(\u001b[0m\u001b[1;33m)\u001b[0m\u001b[1;33m\u001b[0m\u001b[1;33m\u001b[0m\u001b[0m\n\u001b[0m\u001b[0;32m    560\u001b[0m             \u001b[1;32melse\u001b[0m\u001b[1;33m:\u001b[0m\u001b[1;33m\u001b[0m\u001b[1;33m\u001b[0m\u001b[0m\n\u001b[0;32m    561\u001b[0m                 \u001b[0mdir_abs\u001b[0m \u001b[1;33m=\u001b[0m \u001b[0mos\u001b[0m\u001b[1;33m.\u001b[0m\u001b[0mpath\u001b[0m\u001b[1;33m.\u001b[0m\u001b[0mjoin\u001b[0m\u001b[1;33m(\u001b[0m\u001b[0mos\u001b[0m\u001b[1;33m.\u001b[0m\u001b[0mpath\u001b[0m\u001b[1;33m.\u001b[0m\u001b[0mdirname\u001b[0m\u001b[1;33m(\u001b[0m\u001b[0m__file__\u001b[0m\u001b[1;33m)\u001b[0m\u001b[1;33m,\u001b[0m \u001b[1;34m\"../../../data/interim/sciensano/vacc_rescaling_values_national.pkl\"\u001b[0m\u001b[1;33m)\u001b[0m\u001b[1;33m\u001b[0m\u001b[1;33m\u001b[0m\u001b[0m\n",
      "\u001b[1;32m~\\AppData\\Roaming\\Python\\Python37\\site-packages\\pandas\\io\\pickle.py\u001b[0m in \u001b[0;36mread_pickle\u001b[1;34m(filepath_or_buffer, compression, storage_options)\u001b[0m\n\u001b[0;32m    215\u001b[0m                     \u001b[1;31m# RawIOBase, BufferedIOBase, TextIOBase, TextIOWrapper, mmap]\";\u001b[0m\u001b[1;33m\u001b[0m\u001b[1;33m\u001b[0m\u001b[1;33m\u001b[0m\u001b[0m\n\u001b[0;32m    216\u001b[0m                     \u001b[1;31m# expected \"IO[bytes]\"\u001b[0m\u001b[1;33m\u001b[0m\u001b[1;33m\u001b[0m\u001b[1;33m\u001b[0m\u001b[0m\n\u001b[1;32m--> 217\u001b[1;33m                     \u001b[1;32mreturn\u001b[0m \u001b[0mpickle\u001b[0m\u001b[1;33m.\u001b[0m\u001b[0mload\u001b[0m\u001b[1;33m(\u001b[0m\u001b[0mhandles\u001b[0m\u001b[1;33m.\u001b[0m\u001b[0mhandle\u001b[0m\u001b[1;33m)\u001b[0m  \u001b[1;31m# type: ignore[arg-type]\u001b[0m\u001b[1;33m\u001b[0m\u001b[1;33m\u001b[0m\u001b[0m\n\u001b[0m\u001b[0;32m    218\u001b[0m             \u001b[1;32mexcept\u001b[0m \u001b[0mexcs_to_catch\u001b[0m\u001b[1;33m:\u001b[0m\u001b[1;33m\u001b[0m\u001b[1;33m\u001b[0m\u001b[0m\n\u001b[0;32m    219\u001b[0m                 \u001b[1;31m# e.g.\u001b[0m\u001b[1;33m\u001b[0m\u001b[1;33m\u001b[0m\u001b[1;33m\u001b[0m\u001b[0m\n",
      "\u001b[1;31mValueError\u001b[0m: unsupported pickle protocol: 5"
     ]
    }
   ],
   "source": [
    "start_date = '2020-03-21'\n",
    "model, BASE_samples_dict, initN = initialize_COVID19_SEIQRD_spatial_rescaling(agg=agg, start_date=start_date)"
   ]
  },
  {
   "cell_type": "code",
   "execution_count": null,
   "metadata": {
    "ExecuteTime": {
     "end_time": "2022-04-13T10:04:43.840059Z",
     "start_time": "2022-04-13T10:04:41.939822Z"
    }
   },
   "outputs": [],
   "source": [
    "# Population size, interaction matrices and the model parameters\n",
    "initN, Nc_dict, params, CORE_samples_dict = model_parameters.get_COVID19_SEIQRD_parameters(spatial='prov')\n",
    "\n",
    "# Google Mobility data (for social contact Nc)\n",
    "df_google = mobility.get_google_mobility_data(update=False, provincial=True)\n",
    "\n",
    "# Load and format mobility dataframe (for mobility place)\n",
    "proximus_mobility_data = mobility.get_proximus_mobility_data(agg)\n",
    "\n",
    "# Variants of concern\n",
    "VOCs = ['WT', 'abc', 'delta']\n",
    "VOC_logistic_growth_parameters, VOC_params = model_parameters.get_COVID19_SEIQRD_VOC_parameters(VOCs=VOCs)\n",
    "params.update(VOC_params)\n",
    "\n",
    "# Load and format local vaccination-induced rescaling data, which is also under the sciensano object\n",
    "# rescaling_df = sciensano.get_vaccination_rescaling_values(spatial=True)\n",
    "\n",
    "\n",
    "# Remove superfluous parameters from default params dict\n",
    "superfluous_params = ['f_immune_escape', 'e_s', 'e_h', 'e_i', 'doses', 'd_vacc', 'N_vacc', 'daily_doses', 'delay_immunity', 'vacc_order', 'stop_idx', 'refusal', 'initN', 'default_mobility', 'onset_days']\n",
    "# superfluous_params += ['amplitude', 'peak_shift']\n",
    "for key in superfluous_params:\n",
    "    if key in params:\n",
    "        params.pop(key)\n",
    "\n",
    "# Add new parameters (these will be time-dependent soon)\n",
    "params['E_susc'] = np.ones([11, 10])\n",
    "params['E_inf'] = np.ones([11, 10])\n",
    "params['E_hosp'] = np.ones([11, 10])\n",
    "\n",
    "# Add seasonality parameter\n",
    "params['seasonality'] = 1"
   ]
  },
  {
   "cell_type": "markdown",
   "metadata": {},
   "source": [
    "# Load time-dependent parameter functions"
   ]
  },
  {
   "cell_type": "code",
   "execution_count": null,
   "metadata": {
    "ExecuteTime": {
     "end_time": "2022-04-13T10:04:47.415189Z",
     "start_time": "2022-04-13T10:04:47.315758Z"
    }
   },
   "outputs": [],
   "source": [
    "# Time-dependent social contact matrix over all policies, updating Nc\n",
    "# policies used in best-fit\n",
    "policy_function_actual = make_contact_matrix_function(df_google, Nc_dict).policies_all_spatial\n",
    "policy_function_work_actual = make_contact_matrix_function(df_google, Nc_dict).policies_all_work_only\n",
    "# policies used in various scenarios\n",
    "policy_function = make_contact_matrix_function(df_google, Nc_dict).policies_all_spatial_scenarios\n",
    "policy_function_work = make_contact_matrix_function(df_google, Nc_dict).policies_all_work_only_scenarios\n",
    "\n",
    "# Time-dependent mobility function, updating P (place)\n",
    "mobility_function = \\\n",
    "    make_mobility_update_function(proximus_mobility_data).mobility_wrapper_func\n",
    "\n",
    "# Time-dependent VOC function, updating alpha\n",
    "VOC_function = make_VOC_function(VOC_logistic_growth_parameters)\n",
    "\n",
    "# Time-dependent vaccination-induced rescaling parameter functions, updating E_susc^g, E_inf^g, E_hosp^g\n",
    "E_susc_function = make_vaccination_rescaling_function(agg=agg).E_susc\n",
    "E_inf_function = make_vaccination_rescaling_function(agg=agg).E_inf\n",
    "E_hosp_function = make_vaccination_rescaling_function(agg=agg).E_hosp\n",
    "\n",
    "# Time-dependent seasonality function, updating season_factor\n",
    "seasonality_function = make_seasonality_function_NEW()"
   ]
  },
  {
   "cell_type": "markdown",
   "metadata": {},
   "source": [
    "# Define initial conditions"
   ]
  },
  {
   "cell_type": "code",
   "execution_count": null,
   "metadata": {
    "ExecuteTime": {
     "end_time": "2022-03-25T12:46:11.688133Z",
     "start_time": "2022-03-25T12:46:09.392549Z"
    }
   },
   "outputs": [],
   "source": [
    "# Get correct initial condition\n",
    "start_date = '2020-03-17'\n",
    "age_classes = pd.IntervalIndex.from_tuples([(0,12),(12,18),(18,25),(25,35),(35,45),(45,55),(55,65),(65,75),(75,85),(85,120)], closed='left')\n",
    "\n",
    "samples_path = '../../data/interim/model_parameters/COVID19_SEIQRD/initial_conditions/'+agg+'/'\n",
    "\n",
    "with open(samples_path+'initial_states-COVID19_SEIQRD_spatial.pickle', 'rb') as handle:\n",
    "    load = pickle.load(handle)\n",
    "    initial_states = load[start_date]\n",
    "    \n",
    "for key,value in initial_states.items():\n",
    "    converted_value = np.zeros([value.shape[0], len(age_classes)])\n",
    "    for i in range(value.shape[0]):\n",
    "        column = value[i,:]\n",
    "        data = pd.Series(index=age_classes, data=column)\n",
    "        converted_value[i,:] = convert_age_stratified_quantity(data, age_classes).values\n",
    "    initial_states.update({key: converted_value})"
   ]
  },
  {
   "cell_type": "markdown",
   "metadata": {},
   "source": [
    "# Initialise models\n",
    "Using the particular types of \"future\" time-dependent parameter functions"
   ]
  },
  {
   "cell_type": "code",
   "execution_count": null,
   "metadata": {
    "ExecuteTime": {
     "end_time": "2022-03-25T12:46:17.568470Z",
     "start_time": "2022-03-25T12:46:16.000424Z"
    }
   },
   "outputs": [],
   "source": [
    "\n",
    "# Initiate model with initial states, defined parameters, and proper time dependent functions\n",
    "\n",
    "params['scenario'] = 'S0'    \n",
    "model_S0 = COVID19_SEIQRD_spatial_rescaling(initial_states, params, spatial='prov', time_dependent_parameters={'Nc' : policy_function,\n",
    "                                                                                                            'Nc_work' : policy_function_work,\n",
    "                                                                                                            'place' : mobility_function,\n",
    "                                                                                                            'f_VOC' : VOC_function,\n",
    "                                                                                                            'E_susc' : E_susc_function,\n",
    "                                                                                                            'E_inf' : E_inf_function,\n",
    "                                                                                                            'E_hosp' : E_hosp_function,\n",
    "                                                                                                            'seasonality' : seasonality_function})\n",
    "params['scenario'] = 'S1'\n",
    "model_S1 = COVID19_SEIQRD_spatial_rescaling(initial_states, params, spatial='prov', time_dependent_parameters={'Nc' : policy_function,\n",
    "                                                                                                            'Nc_work' : policy_function_work,\n",
    "                                                                                                            'place' : mobility_function,\n",
    "                                                                                                            'f_VOC' : VOC_function,\n",
    "                                                                                                            'E_susc' : E_susc_function,\n",
    "                                                                                                            'E_inf' : E_inf_function,\n",
    "                                                                                                            'E_hosp' : E_hosp_function,\n",
    "                                                                                                            'seasonality' : seasonality_function})\n",
    "\n",
    "params['scenario'] = 'S2'\n",
    "model_S2 = COVID19_SEIQRD_spatial_rescaling(initial_states, params, spatial='prov', time_dependent_parameters={'Nc' : policy_function,\n",
    "                                                                                                            'Nc_work' : policy_function_work,\n",
    "                                                                                                            'place' : mobility_function,\n",
    "                                                                                                            'f_VOC' : VOC_function,\n",
    "                                                                                                            'E_susc' : E_susc_function,\n",
    "                                                                                                            'E_inf' : E_inf_function,\n",
    "                                                                                                            'E_hosp' : E_hosp_function,\n",
    "                                                                                                            'seasonality' : seasonality_function})\n",
    "    \n",
    "params['scenario'] = 'S3'\n",
    "model_S3 = COVID19_SEIQRD_spatial_rescaling(initial_states, params, spatial='prov', time_dependent_parameters={'Nc' : policy_function,\n",
    "                                                                                                            'Nc_work' : policy_function_work,\n",
    "                                                                                                            'place' : mobility_function,\n",
    "                                                                                                            'f_VOC' : VOC_function,\n",
    "                                                                                                            'E_susc' : E_susc_function,\n",
    "                                                                                                            'E_inf' : E_inf_function,\n",
    "                                                                                                            'E_hosp' : E_hosp_function,\n",
    "                                                                                                            'seasonality' : seasonality_function})\n",
    "\n",
    "    \n",
    "# hard-code social intertia values\n",
    "model_S0.parameters['l1'] = 14 # 21\n",
    "model_S0.parameters['l2'] = 14\n",
    "model_S1.parameters['l1'] = 14 # 21\n",
    "model_S1.parameters['l2'] = 14\n",
    "model_S2.parameters['l1'] = 14 # 21\n",
    "model_S2.parameters['l2'] = 14\n",
    "model_S3.parameters['l1'] = 14 # 21\n",
    "model_S3.parameters['l2'] = 14\n",
    "\n",
    "# hard-code increase in hospitalisation propensity\n",
    "model_S0.parameters['K_hosp'] = np.array([1.61,1.61], np.float64)\n",
    "model_S1.parameters['K_hosp'] = np.array([1.61,1.61], np.float64)\n",
    "model_S2.parameters['K_hosp'] = np.array([1.61,1.61], np.float64)\n",
    "model_S3.parameters['K_hosp'] = np.array([1.61,1.61], np.float64)"
   ]
  },
  {
   "cell_type": "markdown",
   "metadata": {},
   "source": [
    "# Define parameter dictionary and draw function"
   ]
  },
  {
   "cell_type": "code",
   "execution_count": null,
   "metadata": {
    "ExecuteTime": {
     "end_time": "2022-03-25T12:46:21.499615Z",
     "start_time": "2022-03-25T12:46:21.405866Z"
    }
   },
   "outputs": [],
   "source": [
    "# Identify sampels dict (output from calibration up to the desired point)\n",
    "json_name = 'prov_test_rescaling_SAMPLES_2022-03-11.json'\n",
    "json_loc = f\"../../data/interim/model_parameters/COVID19_SEIQRD/calibrations/{agg}\"\n",
    "\n",
    "# Load dict and thin/discard\n",
    "samples_dict = json.load(open(f'{json_loc}/{json_name}'))\n",
    "print(\"Keys in samples_dict: \", samples_dict.keys())\n",
    "print(\"====================\")\n",
    "print(\"This calibration ends in\", samples_dict['end_calibration'])"
   ]
  },
  {
   "cell_type": "code",
   "execution_count": null,
   "metadata": {
    "ExecuteTime": {
     "end_time": "2022-03-25T12:46:23.819791Z",
     "start_time": "2022-03-25T12:46:23.726513Z"
    }
   },
   "outputs": [],
   "source": [
    "# match the draw function with the available keys in the params dict\n",
    "def draw_fcn(param_dict,samples_dict):\n",
    "    # pick one random value from the dictionary\n",
    "    idx, param_dict['beta_R'] = random.choice(list(enumerate(samples_dict['beta_R'])))\n",
    "    # take out the other parameters that belong to the same iteration\n",
    "    param_dict['beta_U'] = samples_dict['beta_U'][idx]\n",
    "    param_dict['beta_M'] = samples_dict['beta_M'][idx]\n",
    "    # param_dict['l1'] = samples_dict['l1'][idx] # hard-coded to 14\n",
    "    # param_dict['l2'] = samples_dict['l2'][idx] # hard-coded to 14\n",
    "    param_dict['eff_schools'] = samples_dict['eff_schools'][idx]\n",
    "    param_dict['eff_work'] = samples_dict['eff_work'][idx]\n",
    "    param_dict['eff_rest'] = samples_dict['eff_rest'][idx]\n",
    "    param_dict['mentality'] = samples_dict['mentality'][idx]\n",
    "    param_dict['eff_home'] = samples_dict['eff_home'][idx]\n",
    "    # param_dict['K_inf'] = np.array([samples_dict['K_inf_abc'][idx], samples_dict['K_inf_delta'][idx]], np.float64)\n",
    "    param_dict['K_inf'] = np.array([samples_dict['K_inf_abc'][idx], samples_dict['K_inf_abc'][idx]], np.float64)\n",
    "    param_dict['amplitude'] = samples_dict['amplitude'][idx]\n",
    "    param_dict['zeta'] = samples_dict['zeta'][idx]\n",
    "    return param_dict"
   ]
  },
  {
   "cell_type": "markdown",
   "metadata": {},
   "source": [
    "# Make simulation\n",
    "\n",
    "**Question**! Shouldn't we als thin out the param dict when we sample this making time series?"
   ]
  },
  {
   "cell_type": "code",
   "execution_count": null,
   "metadata": {
    "ExecuteTime": {
     "end_time": "2022-03-25T13:09:06.239650Z",
     "start_time": "2022-03-25T12:48:16.160983Z"
    }
   },
   "outputs": [],
   "source": [
    "start_date = samples_dict['start_calibration']\n",
    "end_date = pd.Timestamp(2021, 9, 1) # to be changed\n",
    "\n",
    "warmup = int(samples_dict['warmup'])\n",
    "\n",
    "# remove amplitude\n",
    "# if 'amplitude' in samples_dict:\n",
    "#     samples_dict.pop('amplitude')\n",
    "\n",
    "N=25 # number of simulations with independent draws from the posterior of the sampled parameter values\n",
    "\n",
    "print(\"Working on S0                    \")\n",
    "out_S0 = model_S0.sim(end_date, start_date=start_date, warmup=warmup, N=N, \\\n",
    "                draw_fcn=draw_fcn, samples=samples_dict, verbose=True)\n",
    "print(\"Working on S1                    \")\n",
    "out_S1 = model_S1.sim(end_date, start_date=start_date, warmup=warmup, N=N, \\\n",
    "                draw_fcn=draw_fcn, samples=samples_dict, verbose=True)\n",
    "print(\"Working on S2                    \")\n",
    "out_S2 = model_S2.sim(end_date, start_date=start_date, warmup=warmup, N=N, \\\n",
    "                draw_fcn=draw_fcn, samples=samples_dict, verbose=True)\n",
    "print(\"Working on S3                    \")\n",
    "out_S3 = model_S3.sim(end_date, start_date=start_date, warmup=warmup, N=N, \\\n",
    "                draw_fcn=draw_fcn, samples=samples_dict, verbose=True)"
   ]
  },
  {
   "cell_type": "markdown",
   "metadata": {},
   "source": [
    "# Make graphs"
   ]
  },
  {
   "cell_type": "markdown",
   "metadata": {},
   "source": [
    "## Load Sciensano data"
   ]
  },
  {
   "cell_type": "code",
   "execution_count": null,
   "metadata": {
    "ExecuteTime": {
     "end_time": "2022-03-25T13:20:14.693231Z",
     "start_time": "2022-03-25T13:20:14.545593Z"
    }
   },
   "outputs": [],
   "source": [
    "from covid19model.data import sciensano\n",
    "nonpublic_ts = sciensano.get_sciensano_COVID19_data_spatial(agg=agg, values='hospitalised_IN', moving_avg=False)\n",
    "all_dates = nonpublic_ts.sum(axis=1).index\n",
    "plot_dates = all_dates[all_dates <= end_date]\n",
    "plot_dates = plot_dates[plot_dates >= start_date]\n",
    "plot_values = nonpublic_ts[start_date : end_date].sum(axis=1).values"
   ]
  },
  {
   "cell_type": "markdown",
   "metadata": {},
   "source": [
    "## Plot model simulations and social contact behaviour"
   ]
  },
  {
   "cell_type": "code",
   "execution_count": null,
   "metadata": {
    "ExecuteTime": {
     "end_time": "2022-03-25T14:32:11.380940Z",
     "start_time": "2022-03-25T14:32:07.844886Z"
    }
   },
   "outputs": [],
   "source": [
    "fig, (ax0, ax1) = plt.subplots(2,1, figsize=(15,4), gridspec_kw={'height_ratios': [3, 2]}, sharex=True)\n",
    "scenario_start = pd.Timestamp(2021, 3, 1)\n",
    "\n",
    "# Background\n",
    "week_color='blanchedalmond'#'white'\n",
    "weekend_color='blanchedalmond'#'lightgrey'\n",
    "vacation_color='khaki'#weekend_color\n",
    "color_timeframes(start_date, end_date, ax=ax0, week_color=week_color, weekend_color=weekend_color, vacation_color=vacation_color)\n",
    "color_timeframes(start_date, end_date, ax=ax1, week_color=week_color, weekend_color=weekend_color, vacation_color=vacation_color)\n",
    "\n",
    "### Simulations\n",
    "color_S0 = 'maroon'\n",
    "color_S1 = 'olive'\n",
    "color_S2 = 'blue'\n",
    "color_S3 = 'deeppink'\n",
    "# out_S0['H_in'].sum(dim='place').sum(dim='Nc').plot.line(x='time', color=color_S0, alpha=2/N, ax=ax, linewidth=1)\n",
    "# out_S1['H_in'].sum(dim='place').sum(dim='Nc').plot.line(x='time', color=color_S1, alpha=2/N, ax=ax, linewidth=1)\n",
    "# out_S2['H_in'].sum(dim='place').sum(dim='Nc').plot.line(x='time', color=color_S2, alpha=2/N, ax=ax, linewidth=1)\n",
    "# out_S3['H_in'].sum(dim='place').sum(dim='Nc').plot.line(x='time', color=color_S3, alpha=2/N, ax=ax, linewidth=1)\n",
    "\n",
    "S0_values = out_S0['H_in'].sum(dim='place').sum(dim='Nc').values\n",
    "S1_values = out_S1['H_in'].sum(dim='place').sum(dim='Nc').values\n",
    "S2_values = out_S2['H_in'].sum(dim='place').sum(dim='Nc').values\n",
    "S3_values = out_S3['H_in'].sum(dim='place').sum(dim='Nc').values\n",
    "\n",
    "# Currently the Poisson errors are taken. This should be generalised to negative binomial error\n",
    "dispersal = 1/0.20\n",
    "S0_errors = np.sqrt(np.mean(S0_values,axis=0) + np.mean(S0_values,axis=0)**2/dispersal)\n",
    "S1_errors = np.sqrt(np.mean(S1_values,axis=0) + np.mean(S1_values,axis=0)**2/dispersal)\n",
    "S2_errors = np.sqrt(np.mean(S2_values,axis=0) + np.mean(S2_values,axis=0)**2/dispersal)\n",
    "S3_errors = np.sqrt(np.mean(S3_values,axis=0) + np.mean(S3_values,axis=0)**2/dispersal)\n",
    "\n",
    "S0_dates = out_S0.time.values\n",
    "S1_dates = out_S1.time.values\n",
    "S2_dates = out_S2.time.values\n",
    "S3_dates = out_S3.time.values\n",
    "\n",
    "N = S0_values.shape[0]\n",
    "alpha_rescale = 4\n",
    "linewidth = 1\n",
    "error_alpha = 0.15\n",
    "cutoff_index = np.where(np.array(S0_dates)>scenario_start)[0][0]\n",
    "ax0.plot(S0_dates[:cutoff_index], S0_values[0,:cutoff_index], color='grey', alpha=alpha_rescale/N, linewidth=linewidth)\n",
    "ax0.fill_between(S0_dates[:cutoff_index], np.max(S0_values[:,:cutoff_index],axis=0) + S0_errors[:cutoff_index], \\\n",
    "                np.min(S0_values[:,:cutoff_index],axis=0) - S0_errors[:cutoff_index], color='grey', alpha=error_alpha)\n",
    "ax0.plot(S0_dates[cutoff_index-1:], S0_values[0,cutoff_index-1:], color=color_S0, alpha=alpha_rescale/N, label='S0', linewidth=linewidth)\n",
    "ax0.fill_between(S0_dates[cutoff_index-1:], np.max(S0_values[:,cutoff_index-1:],axis=0) + S0_errors[cutoff_index-1:], \\\n",
    "                np.min(S0_values[:,cutoff_index-1:],axis=0) - S0_errors[cutoff_index-1:], color=color_S0, alpha=error_alpha)\n",
    "ax0.plot(S1_dates[cutoff_index-1:], S1_values[0,cutoff_index-1:], color=color_S1, alpha=alpha_rescale/N, label='S1', linewidth=linewidth)\n",
    "ax0.fill_between(S1_dates[cutoff_index-1:], np.max(S1_values[:,cutoff_index-1:],axis=0) + S1_errors[cutoff_index-1:], \\\n",
    "                np.min(S1_values[:,cutoff_index-1:],axis=0) - S1_errors[cutoff_index-1:], color=color_S1, alpha=error_alpha)\n",
    "ax0.plot(S2_dates[cutoff_index-1:], S2_values[0,cutoff_index-1:], color=color_S2, alpha=alpha_rescale/N, label='S2', linewidth=linewidth)\n",
    "ax0.fill_between(S2_dates[cutoff_index-1:], np.max(S2_values[:,cutoff_index-1:],axis=0) + S2_errors[cutoff_index-1:], \\\n",
    "                np.min(S2_values[:,cutoff_index-1:],axis=0) - S2_errors[cutoff_index-1:], color=color_S2, alpha=error_alpha)\n",
    "ax0.plot(S3_dates[cutoff_index-1:], S3_values[0,cutoff_index-1:], color=color_S3, alpha=alpha_rescale/N, label='S3', linewidth=linewidth)\n",
    "ax0.fill_between(S3_dates[cutoff_index-1:], np.max(S3_values[:,cutoff_index-1:],axis=0) + S3_errors[cutoff_index-1:], \\\n",
    "                np.min(S3_values[:,cutoff_index-1:],axis=0) - S3_errors[cutoff_index-1:], color=color_S3, alpha=error_alpha)\n",
    "for i in range(1,N):\n",
    "    ax0.plot(S0_dates[:cutoff_index], S0_values[i,:cutoff_index], color='grey', alpha=alpha_rescale/N)\n",
    "    ax0.plot(S0_dates[cutoff_index-1:], S0_values[i,cutoff_index-1:], color=color_S0, alpha=alpha_rescale/N)\n",
    "    ax0.plot(S1_dates[cutoff_index-1:], S1_values[i,cutoff_index-1:], color=color_S1, alpha=alpha_rescale/N)\n",
    "    ax0.plot(S2_dates[cutoff_index-1:], S2_values[i,cutoff_index-1:], color=color_S2, alpha=alpha_rescale/N)\n",
    "    ax0.plot(S3_dates[cutoff_index-1:], S3_values[i,cutoff_index-1:], color=color_S3, alpha=alpha_rescale/N)\n",
    "\n",
    "leg = ax0.legend(ncol=2, bbox_to_anchor=(0.33, 0.4))\n",
    "for lh in leg.legendHandles: \n",
    "    lh.set_alpha(1)\n",
    "    lh.set_linewidth(4)\n",
    "ax0.set_title(None)\n",
    "ax0.set_xlim([pd.Timestamp(2020, 9, 1), pd.Timestamp(2021, 9, 1)])\n",
    "\n",
    "xticks=[pd.Timestamp(2020, 9, 1).date(), pd.Timestamp(2020, 11, 1).date(), pd.Timestamp(2021, 1, 1).date(), \\\n",
    "               pd.Timestamp(2021, 3, 1).date(), pd.Timestamp(2021, 5, 1).date(), pd.Timestamp(2021, 7, 1).date(), \\\n",
    "               pd.Timestamp(2021, 9, 1).date()]\n",
    "\n",
    "# Scatter data\n",
    "ax0.scatter(plot_dates[:cutoff_index], plot_values[:cutoff_index], s=20, color='k', marker='x', linewidth=1)\n",
    "# ax0.scatter(plot_dates[cutoff_index-1:], plot_values[cutoff_index-1:], s=20, color='k', marker='x', linewidth=1, alpha=0.2)\n",
    "\n",
    "\n",
    "### Social policies\n",
    "recalculate = False\n",
    "if recalculate:\n",
    "    l1 = model_S1.parameters['l1']\n",
    "    l2 = model_S1.parameters['l2']\n",
    "    eff_schools = np.median(samples_dict['eff_schools'])\n",
    "    eff_work = np.median(samples_dict['eff_work'])\n",
    "    eff_rest = np.median(samples_dict['eff_rest'])\n",
    "    eff_home = np.median(samples_dict['eff_home'])\n",
    "    mentality = np.median(samples_dict['mentality'])\n",
    "\n",
    "    days = []\n",
    "    behaviours_actual = []\n",
    "    behaviours_S0 = []\n",
    "    behaviours_S1 = []\n",
    "    behaviours_S2 = []\n",
    "    behaviours_S3 = []\n",
    "\n",
    "    for d in range(400):\n",
    "        print(f\"Working on day {d}.\", end='\\r')\n",
    "        day = pd.Timestamp(2020, 8, 1) + pd.Timedelta(days=d)\n",
    "        days.append(day)\n",
    "        behaviour_actual = np.mean(np.sum(policy_function_actual(day, 0, 0, l1, l2, eff_schools, eff_work, eff_rest, eff_home, mentality)[0], axis=0))\n",
    "        behaviour_S0 = np.mean(np.sum(policy_function(day, 0, 0, l1, l2, eff_schools, eff_work, eff_rest, eff_home, mentality, 'S0')[0], axis=0))\n",
    "        behaviour_S1 = np.mean(np.sum(policy_function(day, 0, 0, l1, l2, eff_schools, eff_work, eff_rest, eff_home, mentality, 'S1')[0], axis=0))\n",
    "        behaviour_S2 = np.mean(np.sum(policy_function(day, 0, 0, l1, l2, eff_schools, eff_work, eff_rest, eff_home, mentality, 'S2')[0], axis=0))\n",
    "        behaviour_S3 = np.mean(np.sum(policy_function(day, 0, 0, l1, l2, eff_schools, eff_work, eff_rest, eff_home, mentality, 'S3')[0], axis=0))\n",
    "        behaviours_actual.append(behaviour_actual)\n",
    "        behaviours_S0.append(behaviour_S0)\n",
    "        behaviours_S1.append(behaviour_S1)\n",
    "        behaviours_S2.append(behaviour_S2)\n",
    "        behaviours_S3.append(behaviour_S3)\n",
    "\n",
    "# Social interaction time series\n",
    "linewidth=2\n",
    "cutoff_index = np.where(np.array(days)>scenario_start)[0][0]\n",
    "color_actual = 'orange'\n",
    "ax1.plot(days[:cutoff_index], behaviours_actual[:cutoff_index], linewidth=linewidth, color=color_actual)\n",
    "ax1.plot(days[cutoff_index-1:], behaviours_actual[cutoff_index-1:], linewidth=linewidth, color=color_actual, alpha=0.5)\n",
    "ax1.plot(days[cutoff_index-1:], behaviours_S0[cutoff_index-1:], linewidth=linewidth, label='S0', color=color_S0)\n",
    "ax1.plot(days[cutoff_index-1:], behaviours_S1[cutoff_index-1:], linewidth=linewidth, label='S1', color=color_S1)\n",
    "ax1.plot(days[cutoff_index-1:], behaviours_S2[cutoff_index-1:], linewidth=linewidth, label='S2', color=color_S2)\n",
    "ax1.plot(days[cutoff_index-1:], behaviours_S3[cutoff_index-1:], linewidth=linewidth, label='S3', color=color_S3)\n",
    "\n",
    "# Formatting\n",
    "ticklabelsize=14\n",
    "ax0.set_xticks(ticks=xticks, rotation=0, size=ticklabelsize, ha='center')\n",
    "ax0.set_xticklabels(xticks, rotation=0, size=ticklabelsize, ha='center')\n",
    "ax1.set_xticks(ticks=xticks, rotation=0, size=ticklabelsize, ha='center')\n",
    "ax1.set_xticklabels(xticks, rotation=0, size=ticklabelsize, ha='center')\n",
    "ax0.set_xlabel(None)\n",
    "ax0.set_ylabel('Daily hosp.')\n",
    "ax1.set_xlabel(None)\n",
    "ax1.set_ylabel('# contacts')\n",
    "ax0.yaxis.set_label_coords(-0.045, .5)\n",
    "ax1.yaxis.set_label_coords(-0.045, .5)\n",
    "\n",
    "ax0.grid(False)\n",
    "ax1.grid(False)\n",
    "\n",
    "ax0.set_ylim([0, 1000])\n",
    "ax1.set_ylim([0, 14])\n",
    "\n",
    "# Vertical line\n",
    "ax0.axvline(scenario_start, linestyle='--', color='k', linewidth=1)\n",
    "ax1.axvline(scenario_start, linestyle='--', color='k', linewidth=1)\n",
    "\n",
    "# plt.savefig(\"four_projected_scenarios_1mar2021.png\", dpi=800, bbox_inches='tight')"
   ]
  },
  {
   "cell_type": "markdown",
   "metadata": {
    "heading_collapsed": true
   },
   "source": [
    "# Visualising the social contact (extra)"
   ]
  },
  {
   "cell_type": "code",
   "execution_count": null,
   "metadata": {
    "ExecuteTime": {
     "end_time": "2022-03-24T15:34:33.934028Z",
     "start_time": "2022-03-24T15:34:33.436715Z"
    },
    "hidden": true
   },
   "outputs": [],
   "source": [
    "# ALL SOCIAL CONTACT (in home province)\n",
    "\n",
    "# l1 = model_S1.parameters['l1']\n",
    "# l2 = model_S1.parameters['l2']\n",
    "# eff_schools = np.median(samples_dict['eff_schools'])\n",
    "# eff_work = np.median(samples_dict['eff_work'])\n",
    "# eff_rest = np.median(samples_dict['eff_rest'])\n",
    "# eff_home = np.median(samples_dict['eff_home'])\n",
    "# mentality = np.median(samples_dict['mentality'])\n",
    "\n",
    "# days = []\n",
    "# behaviours_actual = []\n",
    "# behaviours_S0 = []\n",
    "# behaviours_S1 = []\n",
    "# behaviours_S2 = []\n",
    "# behaviours_S3 = []\n",
    "\n",
    "# for d in range(400):\n",
    "#     print(f\"Working on day {d}.\", end='\\r')\n",
    "#     day = pd.Timestamp(2020, 8, 1) + pd.Timedelta(days=d)\n",
    "#     days.append(day)\n",
    "#     behaviour_actual = np.mean(np.sum(policy_function_actual(day, 0, 0, l1, l2, eff_schools, eff_work, eff_rest, eff_home, mentality)[0], axis=0))\n",
    "#     behaviour_S0 = np.mean(np.sum(policy_function(day, 0, 0, l1, l2, eff_schools, eff_work, eff_rest, eff_home, mentality, 'S0')[0], axis=0))\n",
    "#     behaviour_S1 = np.mean(np.sum(policy_function(day, 0, 0, l1, l2, eff_schools, eff_work, eff_rest, eff_home, mentality, 'S1')[0], axis=0))\n",
    "#     behaviour_S2 = np.mean(np.sum(policy_function(day, 0, 0, l1, l2, eff_schools, eff_work, eff_rest, eff_home, mentality, 'S2')[0], axis=0))\n",
    "#     behaviour_S3 = np.mean(np.sum(policy_function(day, 0, 0, l1, l2, eff_schools, eff_work, eff_rest, eff_home, mentality, 'S3')[0], axis=0))\n",
    "#     behaviours_actual.append(behaviour_actual)\n",
    "#     behaviours_S0.append(behaviour_S0)\n",
    "#     behaviours_S1.append(behaviour_S1)\n",
    "#     behaviours_S2.append(behaviour_S2)\n",
    "#     behaviours_S3.append(behaviour_S3)\n",
    "\n",
    "fig, ax = plt.subplots(figsize=(15,3))\n",
    "\n",
    "# Background\n",
    "week_color='blanchedalmond'#'white'\n",
    "weekend_color='blanchedalmond'#'lightgrey'\n",
    "vacation_color='khaki'#weekend_color\n",
    "color_timeframes(start_date, end_date, ax=ax, week_color=week_color, weekend_color=weekend_color, vacation_color=vacation_color)\n",
    "\n",
    "# Social interaction time series\n",
    "linewidth=2\n",
    "cutoff_index = np.where(np.array(days)>pd.Timestamp(2021, 2, 23))[0][0]\n",
    "color_actual = 'orange'\n",
    "ax.plot(days[:cutoff_index], behaviours_actual[:cutoff_index], linewidth=linewidth, color=color_actual)\n",
    "ax.plot(days[cutoff_index:], behaviours_actual[cutoff_index:], linewidth=linewidth, color=color_actual, alpha=0.5)\n",
    "ax.plot(days[cutoff_index:], behaviours_S0[cutoff_index:], linewidth=linewidth, label='S0', color=color_S0)\n",
    "ax.plot(days[cutoff_index:], behaviours_S1[cutoff_index:], linewidth=linewidth, label='S1', color=color_S1)\n",
    "ax.plot(days[cutoff_index:], behaviours_S2[cutoff_index:], linewidth=linewidth, label='S2', color=color_S2)\n",
    "ax.plot(days[cutoff_index:], behaviours_S3[cutoff_index:], linewidth=linewidth, label='S3', color=color_S3)\n",
    "\n",
    "ax.axvline(pd.Timestamp(2021, 2, 23), linestyle='--', color='k', linewidth=1)\n",
    "\n",
    "ax.grid(False)\n",
    "ax.set_xlim([pd.Timestamp(2020, 9, 1), pd.Timestamp(2021, 7, 1)])\n",
    "ax.legend(ncol=2, bbox_to_anchor=(0.3, 0.5))\n",
    "\n",
    "# Formatting\n",
    "xticks=[pd.Timestamp(2020, 9, 1).date(), pd.Timestamp(2020, 11, 1).date(), pd.Timestamp(2021, 1, 1).date(), \\\n",
    "               pd.Timestamp(2021, 3, 1).date(), pd.Timestamp(2021, 5, 1).date(), pd.Timestamp(2021, 7, 1).date()]\n",
    "ticklabelsize=14\n",
    "ax.set_xticks(ticks=xticks, rotation=0, size=ticklabelsize, ha='center')\n",
    "ax.set_xticklabels(xticks, rotation=0, size=ticklabelsize, ha='center')\n",
    "ax.set_xlabel(None)\n",
    "ax.set_ylabel('Avg. daily interactions')"
   ]
  },
  {
   "cell_type": "code",
   "execution_count": null,
   "metadata": {
    "ExecuteTime": {
     "end_time": "2022-03-24T13:59:38.654243Z",
     "start_time": "2022-03-24T13:59:36.690771Z"
    },
    "hidden": true
   },
   "outputs": [],
   "source": [
    "# WORK SOCIAL CONTACT (in visited province)\n",
    "\n",
    "eff_work = np.median(samples_dict['eff_work'])\n",
    "mentality = np.median(samples_dict['mentality'])\n",
    "\n",
    "days_work = []\n",
    "behaviours_actual_work = []\n",
    "behaviours_S0_work = []\n",
    "behaviours_S1_work = []\n",
    "behaviours_S2_work = []\n",
    "behaviours_S3_work = []\n",
    "\n",
    "for d in range(400):\n",
    "    print(f\"Working on day {d}.\", end='\\r')\n",
    "    day_work = pd.Timestamp(2020, 8, 1) + pd.Timedelta(days=d)\n",
    "    days_work.append(day_work)\n",
    "    behaviour_actual_work = np.mean(np.sum(policy_function_work_actual(day_work, 0, 0, eff_work, mentality)[0], axis=0))\n",
    "    behaviour_S0_work = np.mean(np.sum(policy_function_work(day_work, 0, 0, eff_work, mentality, 'S0')[0], axis=0))\n",
    "    behaviour_S1_work = np.mean(np.sum(policy_function_work(day_work, 0, 0, eff_work, mentality, 'S1')[0], axis=0))\n",
    "    behaviour_S2_work = np.mean(np.sum(policy_function_work(day_work, 0, 0, eff_work, mentality, 'S2')[0], axis=0))\n",
    "    behaviour_S3_work = np.mean(np.sum(policy_function_work(day_work, 0, 0, eff_work, mentality, 'S3')[0], axis=0))\n",
    "    behaviours_actual_work.append(behaviour_actual_work)\n",
    "    behaviours_S0_work.append(behaviour_S0_work)\n",
    "    behaviours_S1_work.append(behaviour_S1_work)\n",
    "    behaviours_S2_work.append(behaviour_S2_work)\n",
    "    behaviours_S3_work.append(behaviour_S3_work)\n",
    "\n",
    "fig, ax = plt.subplots(figsize=(15,3))\n",
    "linewidth=2\n",
    "cutoff_index_work = np.where(np.array(days_work)>pd.Timestamp(2021, 2, 23))[0][0]\n",
    "color_actual_work = 'orange'\n",
    "ax.plot(days_work[:cutoff_index_work], behaviours_actual_work[:cutoff_index], linewidth=linewidth, color=color_actual_work)\n",
    "ax.plot(days_work[cutoff_index:], behaviours_actual_work[cutoff_index_work:], linewidth=linewidth, color=color_actual_work, alpha=0.5)\n",
    "ax.plot(days_work[cutoff_index_work:], behaviours_S0_work[cutoff_index_work:], linewidth=linewidth, label='S0', color=color_S0)\n",
    "ax.plot(days_work[cutoff_index_work:], behaviours_S1_work[cutoff_index_work:], linewidth=linewidth, label='S1', color=color_S1)\n",
    "ax.plot(days_work[cutoff_index_work:], behaviours_S2_work[cutoff_index_work:], linewidth=linewidth, label='S2', color=color_S2)\n",
    "ax.plot(days_work[cutoff_index_work:], behaviours_S3_work[cutoff_index_work:], linewidth=linewidth, label='S3', color=color_S3)\n",
    "\n",
    "plt.axvline(pd.Timestamp(2021, 2, 23), linestyle='--', color='k', linewidth=1)\n",
    "\n",
    "ax.grid(False)\n",
    "ax.set_xlim([pd.Timestamp(2020, 9, 1), pd.Timestamp(2021, 7, 1)])\n",
    "ax.legend(bbox_to_anchor=(0.14, 0.8), ncol=4)"
   ]
  },
  {
   "cell_type": "code",
   "execution_count": null,
   "metadata": {
    "ExecuteTime": {
     "end_time": "2022-03-24T13:04:14.123274Z",
     "start_time": "2022-03-24T13:04:13.668825Z"
    },
    "hidden": true
   },
   "outputs": [],
   "source": [
    "(pd.Timestamp(2021, 1, 30) - pd.Timestamp(2021, 1, 20)).days"
   ]
  }
 ],
 "metadata": {
  "kernelspec": {
   "display_name": "Python 3 (ipykernel)",
   "language": "python",
   "name": "python3"
  },
  "language_info": {
   "codemirror_mode": {
    "name": "ipython",
    "version": 3
   },
   "file_extension": ".py",
   "mimetype": "text/x-python",
   "name": "python",
   "nbconvert_exporter": "python",
   "pygments_lexer": "ipython3",
   "version": "3.7.13"
  },
  "toc": {
   "base_numbering": 1,
   "nav_menu": {},
   "number_sections": true,
   "sideBar": true,
   "skip_h1_title": false,
   "title_cell": "Table of Contents",
   "title_sidebar": "Contents",
   "toc_cell": false,
   "toc_position": {},
   "toc_section_display": true,
   "toc_window_display": false
  }
 },
 "nbformat": 4,
 "nbformat_minor": 2
}
