{
 "cells": [
  {
   "cell_type": "markdown",
   "metadata": {},
   "source": [
    "**Calibration of the age-stratified deterministic model**\n",
    "\n",
    "*Original code by Ryan S. McGee. Modified by T.W. Alleman in consultation with the BIOMATH research unit headed by prof. Ingmar Nopens.*\n",
    "\n",
    "Copyright (c) 2020 by T.W. Alleman, BIOMATH, Ghent University. All Rights Reserved.\n",
    "\n",
    "This notebook accompanies our preprint: \"*A deterministic, age-stratified, extended SEIRD model for assessing the effect of non-pharmaceutical interventions on SARS-CoV-2 spread in Belgium*\"(https://doi.org/10.1101/2020.07.17.20156034)"
   ]
  },
  {
   "cell_type": "markdown",
   "metadata": {},
   "source": [
    "# Load required packages"
   ]
  },
  {
   "cell_type": "code",
   "execution_count": 1,
   "metadata": {
    "ExecuteTime": {
     "end_time": "2020-08-17T19:35:13.108096Z",
     "start_time": "2020-08-17T19:35:11.543335Z"
    }
   },
   "outputs": [],
   "source": [
    "import random\n",
    "import os\n",
    "import numpy as np\n",
    "%matplotlib inline\n",
    "import matplotlib.pyplot as plt\n",
    "from IPython.display import Image\n",
    "from ipywidgets import interact,fixed,FloatSlider,IntSlider,ToggleButtons\n",
    "import pandas as pd\n",
    "import datetime\n",
    "import scipy\n",
    "from scipy.integrate import odeint\n",
    "import matplotlib.dates as mdates\n",
    "import matplotlib\n",
    "import scipy.stats as st\n",
    "\n",
    "import math\n",
    "import xarray as xr\n",
    "import emcee\n",
    "import json\n",
    "\n",
    "from covid19model.optimization import objective_fcns\n",
    "from covid19model.optimization import MCMC\n",
    "from covid19model.models import models\n",
    "from covid19model.data import google\n",
    "from covid19model.data import sciensano\n",
    "from covid19model.data import polymod\n",
    "from covid19model.data import parameters\n",
    "from covid19model.visualization.output import population_status, infected\n",
    "from covid19model.visualization.optimization import plot_fit, traceplot\n",
    "\n",
    "# OPTIONAL: Load the \"autoreload\" extension so that package code can change\n",
    "%load_ext autoreload\n",
    "# OPTIONAL: always reload modules so that as you change code in src, it gets loaded\n",
    "%autoreload 2"
   ]
  },
  {
   "cell_type": "markdown",
   "metadata": {},
   "source": [
    "# Load data"
   ]
  },
  {
   "cell_type": "code",
   "execution_count": 2,
   "metadata": {
    "ExecuteTime": {
     "end_time": "2020-08-17T19:35:13.164959Z",
     "start_time": "2020-08-17T19:35:13.110246Z"
    }
   },
   "outputs": [],
   "source": [
    "initN, Nc_home, Nc_work, Nc_schools, Nc_transport, Nc_leisure, Nc_others, Nc_total = polymod.get_interaction_matrices()\n",
    "levels = initN.size"
   ]
  },
  {
   "cell_type": "code",
   "execution_count": 3,
   "metadata": {
    "ExecuteTime": {
     "end_time": "2020-08-17T19:35:14.298542Z",
     "start_time": "2020-08-17T19:35:14.186869Z"
    }
   },
   "outputs": [
    {
     "data": {
      "text/html": [
       "<div>\n",
       "<style scoped>\n",
       "    .dataframe tbody tr th:only-of-type {\n",
       "        vertical-align: middle;\n",
       "    }\n",
       "\n",
       "    .dataframe tbody tr th {\n",
       "        vertical-align: top;\n",
       "    }\n",
       "\n",
       "    .dataframe thead th {\n",
       "        text-align: right;\n",
       "    }\n",
       "</style>\n",
       "<table border=\"1\" class=\"dataframe\">\n",
       "  <thead>\n",
       "    <tr style=\"text-align: right;\">\n",
       "      <th></th>\n",
       "      <th>H_tot</th>\n",
       "      <th>ICU_tot</th>\n",
       "      <th>H_in</th>\n",
       "      <th>H_out</th>\n",
       "      <th>H_tot_cumsum</th>\n",
       "      <th>D_tot</th>\n",
       "      <th>D_25_44</th>\n",
       "      <th>D_45_64</th>\n",
       "      <th>D_65_74</th>\n",
       "      <th>D_75_84</th>\n",
       "      <th>D_85+</th>\n",
       "    </tr>\n",
       "    <tr>\n",
       "      <th>DATE</th>\n",
       "      <th></th>\n",
       "      <th></th>\n",
       "      <th></th>\n",
       "      <th></th>\n",
       "      <th></th>\n",
       "      <th></th>\n",
       "      <th></th>\n",
       "      <th></th>\n",
       "      <th></th>\n",
       "      <th></th>\n",
       "      <th></th>\n",
       "    </tr>\n",
       "  </thead>\n",
       "  <tbody>\n",
       "    <tr>\n",
       "      <th>2020-08-06</th>\n",
       "      <td>278</td>\n",
       "      <td>65</td>\n",
       "      <td>28</td>\n",
       "      <td>39</td>\n",
       "      <td>687</td>\n",
       "      <td>2</td>\n",
       "      <td>0.0</td>\n",
       "      <td>0.0</td>\n",
       "      <td>0</td>\n",
       "      <td>1.0</td>\n",
       "      <td>1</td>\n",
       "    </tr>\n",
       "    <tr>\n",
       "      <th>2020-08-07</th>\n",
       "      <td>285</td>\n",
       "      <td>69</td>\n",
       "      <td>27</td>\n",
       "      <td>28</td>\n",
       "      <td>686</td>\n",
       "      <td>4</td>\n",
       "      <td>0.0</td>\n",
       "      <td>0.0</td>\n",
       "      <td>0</td>\n",
       "      <td>1.0</td>\n",
       "      <td>3</td>\n",
       "    </tr>\n",
       "    <tr>\n",
       "      <th>2020-08-08</th>\n",
       "      <td>281</td>\n",
       "      <td>67</td>\n",
       "      <td>31</td>\n",
       "      <td>39</td>\n",
       "      <td>678</td>\n",
       "      <td>2</td>\n",
       "      <td>0.0</td>\n",
       "      <td>0.0</td>\n",
       "      <td>0</td>\n",
       "      <td>2.0</td>\n",
       "      <td>0</td>\n",
       "    </tr>\n",
       "    <tr>\n",
       "      <th>2020-08-09</th>\n",
       "      <td>285</td>\n",
       "      <td>69</td>\n",
       "      <td>20</td>\n",
       "      <td>14</td>\n",
       "      <td>684</td>\n",
       "      <td>4</td>\n",
       "      <td>1.0</td>\n",
       "      <td>0.0</td>\n",
       "      <td>0</td>\n",
       "      <td>1.0</td>\n",
       "      <td>2</td>\n",
       "    </tr>\n",
       "    <tr>\n",
       "      <th>2020-08-10</th>\n",
       "      <td>312</td>\n",
       "      <td>73</td>\n",
       "      <td>33</td>\n",
       "      <td>12</td>\n",
       "      <td>705</td>\n",
       "      <td>3</td>\n",
       "      <td>0.0</td>\n",
       "      <td>1.0</td>\n",
       "      <td>1</td>\n",
       "      <td>0.0</td>\n",
       "      <td>1</td>\n",
       "    </tr>\n",
       "  </tbody>\n",
       "</table>\n",
       "</div>"
      ],
      "text/plain": [
       "            H_tot  ICU_tot  H_in  H_out  H_tot_cumsum  D_tot  D_25_44  \\\n",
       "DATE                                                                    \n",
       "2020-08-06    278       65    28     39           687      2      0.0   \n",
       "2020-08-07    285       69    27     28           686      4      0.0   \n",
       "2020-08-08    281       67    31     39           678      2      0.0   \n",
       "2020-08-09    285       69    20     14           684      4      1.0   \n",
       "2020-08-10    312       73    33     12           705      3      0.0   \n",
       "\n",
       "            D_45_64  D_65_74  D_75_84  D_85+  \n",
       "DATE                                          \n",
       "2020-08-06      0.0        0      1.0      1  \n",
       "2020-08-07      0.0        0      1.0      3  \n",
       "2020-08-08      0.0        0      2.0      0  \n",
       "2020-08-09      0.0        0      1.0      2  \n",
       "2020-08-10      1.0        1      0.0      1  "
      ]
     },
     "execution_count": 3,
     "metadata": {},
     "output_type": "execute_result"
    }
   ],
   "source": [
    "df_sciensano = sciensano.get_sciensano_COVID19_data(update=False)\n",
    "df_sciensano.tail()"
   ]
  },
  {
   "cell_type": "code",
   "execution_count": 4,
   "metadata": {
    "ExecuteTime": {
     "end_time": "2020-08-17T19:35:14.434779Z",
     "start_time": "2020-08-17T19:35:14.356916Z"
    }
   },
   "outputs": [],
   "source": [
    "nonpublic_ts = pd.read_csv('../../data/interim/non_public/all_nonpublic_timeseries.csv', parse_dates=['DATE'])\n",
    "# deceased_hosp = nonpublic_ts[['DATE','deceased_hosp']].groupby('DATE').sum()['2020-03-15':].reset_index()\n",
    "# deceased_hosp['D_cumsum'] = deceased_hosp.deceased_hosp.cumsum()"
   ]
  },
  {
   "cell_type": "code",
   "execution_count": 8,
   "metadata": {
    "ExecuteTime": {
     "end_time": "2020-08-17T19:37:40.444767Z",
     "start_time": "2020-08-17T19:37:40.404504Z"
    },
    "scrolled": true
   },
   "outputs": [
    {
     "data": {
      "text/plain": [
       "array(['Antwerpen', 'Mechelen', 'Turnhout', 'Brussel-Hoofdstad',\n",
       "       'Halle-Vilvoorde', 'Leuven', 'Nijvel', 'Brugge', 'Diksmuide',\n",
       "       'Ieper', 'Kortrijk', 'Oostende', 'Roeselare', 'Tielt', 'Veurne',\n",
       "       'Aalst', 'Dendermonde', 'Eeklo', 'Gent', 'Oudenaarde',\n",
       "       'Sint-Niklaas', 'Aat', 'Charleroi', 'Bergen', 'Zinnik', 'Thuin',\n",
       "       'Doornik-Moeskroen', 'Hoei', 'Luik', 'Verviers', 'Borgworm',\n",
       "       'Hasselt', 'Maaseik', 'Tongeren', 'Aarlen', 'Bastenaken',\n",
       "       'Marche-en-Famenne', 'Neufchâteau', 'Virton', 'Dinant', 'Namen',\n",
       "       'Philippeville'], dtype=object)"
      ]
     },
     "execution_count": 8,
     "metadata": {},
     "output_type": "execute_result"
    }
   ],
   "source": [
    "nonpublic_ts.Arrondissement.unique()"
   ]
  },
  {
   "cell_type": "code",
   "execution_count": 5,
   "metadata": {
    "ExecuteTime": {
     "end_time": "2020-08-17T19:35:14.587895Z",
     "start_time": "2020-08-17T19:35:14.520930Z"
    }
   },
   "outputs": [
    {
     "data": {
      "text/html": [
       "<div>\n",
       "<style scoped>\n",
       "    .dataframe tbody tr th:only-of-type {\n",
       "        vertical-align: middle;\n",
       "    }\n",
       "\n",
       "    .dataframe tbody tr th {\n",
       "        vertical-align: top;\n",
       "    }\n",
       "\n",
       "    .dataframe thead th {\n",
       "        text-align: right;\n",
       "    }\n",
       "</style>\n",
       "<table border=\"1\" class=\"dataframe\">\n",
       "  <thead>\n",
       "    <tr style=\"text-align: right;\">\n",
       "      <th></th>\n",
       "      <th>Unnamed: 0</th>\n",
       "      <th>Arrondissement</th>\n",
       "      <th>Province</th>\n",
       "      <th>NIS</th>\n",
       "      <th>inhabitants</th>\n",
       "      <th>DATE</th>\n",
       "      <th>confirmed_cases</th>\n",
       "      <th>tested_cases</th>\n",
       "      <th>confirmed_per_tested_5days_window</th>\n",
       "      <th>hospitalised_IN</th>\n",
       "      <th>recovered</th>\n",
       "      <th>deceased_hosp</th>\n",
       "      <th>ICU</th>\n",
       "      <th>confirmed_cases_per_100k</th>\n",
       "      <th>hospitalised_IN_per_100k</th>\n",
       "      <th>recovered_per_100k</th>\n",
       "      <th>deceased_hosp_per_100k</th>\n",
       "      <th>ICU_per_100k</th>\n",
       "    </tr>\n",
       "  </thead>\n",
       "  <tbody>\n",
       "    <tr>\n",
       "      <th>8941</th>\n",
       "      <td>11125</td>\n",
       "      <td>Philippeville</td>\n",
       "      <td>Namen</td>\n",
       "      <td>93000</td>\n",
       "      <td>66315.0</td>\n",
       "      <td>2020-08-01</td>\n",
       "      <td>0.0</td>\n",
       "      <td>89.0</td>\n",
       "      <td>NaN</td>\n",
       "      <td>NaN</td>\n",
       "      <td>NaN</td>\n",
       "      <td>NaN</td>\n",
       "      <td>NaN</td>\n",
       "      <td>0.0</td>\n",
       "      <td>NaN</td>\n",
       "      <td>NaN</td>\n",
       "      <td>NaN</td>\n",
       "      <td>NaN</td>\n",
       "    </tr>\n",
       "    <tr>\n",
       "      <th>8942</th>\n",
       "      <td>11126</td>\n",
       "      <td>Philippeville</td>\n",
       "      <td>Namen</td>\n",
       "      <td>93000</td>\n",
       "      <td>66315.0</td>\n",
       "      <td>2020-08-02</td>\n",
       "      <td>0.0</td>\n",
       "      <td>26.0</td>\n",
       "      <td>NaN</td>\n",
       "      <td>NaN</td>\n",
       "      <td>NaN</td>\n",
       "      <td>NaN</td>\n",
       "      <td>NaN</td>\n",
       "      <td>0.0</td>\n",
       "      <td>NaN</td>\n",
       "      <td>NaN</td>\n",
       "      <td>NaN</td>\n",
       "      <td>NaN</td>\n",
       "    </tr>\n",
       "    <tr>\n",
       "      <th>8943</th>\n",
       "      <td>11127</td>\n",
       "      <td>Philippeville</td>\n",
       "      <td>Namen</td>\n",
       "      <td>93000</td>\n",
       "      <td>66315.0</td>\n",
       "      <td>2020-08-03</td>\n",
       "      <td>NaN</td>\n",
       "      <td>0.0</td>\n",
       "      <td>NaN</td>\n",
       "      <td>NaN</td>\n",
       "      <td>NaN</td>\n",
       "      <td>NaN</td>\n",
       "      <td>NaN</td>\n",
       "      <td>NaN</td>\n",
       "      <td>NaN</td>\n",
       "      <td>NaN</td>\n",
       "      <td>NaN</td>\n",
       "      <td>NaN</td>\n",
       "    </tr>\n",
       "    <tr>\n",
       "      <th>8944</th>\n",
       "      <td>11128</td>\n",
       "      <td>Philippeville</td>\n",
       "      <td>Namen</td>\n",
       "      <td>93000</td>\n",
       "      <td>66315.0</td>\n",
       "      <td>2020-08-28</td>\n",
       "      <td>NaN</td>\n",
       "      <td>0.0</td>\n",
       "      <td>NaN</td>\n",
       "      <td>NaN</td>\n",
       "      <td>NaN</td>\n",
       "      <td>NaN</td>\n",
       "      <td>NaN</td>\n",
       "      <td>NaN</td>\n",
       "      <td>NaN</td>\n",
       "      <td>NaN</td>\n",
       "      <td>NaN</td>\n",
       "      <td>NaN</td>\n",
       "    </tr>\n",
       "    <tr>\n",
       "      <th>8945</th>\n",
       "      <td>11129</td>\n",
       "      <td>Philippeville</td>\n",
       "      <td>Namen</td>\n",
       "      <td>93000</td>\n",
       "      <td>66315.0</td>\n",
       "      <td>2020-11-12</td>\n",
       "      <td>NaN</td>\n",
       "      <td>0.0</td>\n",
       "      <td>NaN</td>\n",
       "      <td>NaN</td>\n",
       "      <td>NaN</td>\n",
       "      <td>NaN</td>\n",
       "      <td>NaN</td>\n",
       "      <td>NaN</td>\n",
       "      <td>NaN</td>\n",
       "      <td>NaN</td>\n",
       "      <td>NaN</td>\n",
       "      <td>NaN</td>\n",
       "    </tr>\n",
       "  </tbody>\n",
       "</table>\n",
       "</div>"
      ],
      "text/plain": [
       "      Unnamed: 0 Arrondissement Province    NIS  inhabitants       DATE  \\\n",
       "8941       11125  Philippeville    Namen  93000      66315.0 2020-08-01   \n",
       "8942       11126  Philippeville    Namen  93000      66315.0 2020-08-02   \n",
       "8943       11127  Philippeville    Namen  93000      66315.0 2020-08-03   \n",
       "8944       11128  Philippeville    Namen  93000      66315.0 2020-08-28   \n",
       "8945       11129  Philippeville    Namen  93000      66315.0 2020-11-12   \n",
       "\n",
       "      confirmed_cases  tested_cases  confirmed_per_tested_5days_window  \\\n",
       "8941              0.0          89.0                                NaN   \n",
       "8942              0.0          26.0                                NaN   \n",
       "8943              NaN           0.0                                NaN   \n",
       "8944              NaN           0.0                                NaN   \n",
       "8945              NaN           0.0                                NaN   \n",
       "\n",
       "      hospitalised_IN  recovered  deceased_hosp  ICU  \\\n",
       "8941              NaN        NaN            NaN  NaN   \n",
       "8942              NaN        NaN            NaN  NaN   \n",
       "8943              NaN        NaN            NaN  NaN   \n",
       "8944              NaN        NaN            NaN  NaN   \n",
       "8945              NaN        NaN            NaN  NaN   \n",
       "\n",
       "      confirmed_cases_per_100k  hospitalised_IN_per_100k  recovered_per_100k  \\\n",
       "8941                       0.0                       NaN                 NaN   \n",
       "8942                       0.0                       NaN                 NaN   \n",
       "8943                       NaN                       NaN                 NaN   \n",
       "8944                       NaN                       NaN                 NaN   \n",
       "8945                       NaN                       NaN                 NaN   \n",
       "\n",
       "      deceased_hosp_per_100k  ICU_per_100k  \n",
       "8941                     NaN           NaN  \n",
       "8942                     NaN           NaN  \n",
       "8943                     NaN           NaN  \n",
       "8944                     NaN           NaN  \n",
       "8945                     NaN           NaN  "
      ]
     },
     "execution_count": 5,
     "metadata": {},
     "output_type": "execute_result"
    }
   ],
   "source": [
    "nonpublic_ts.tail()"
   ]
  },
  {
   "cell_type": "code",
   "execution_count": 10,
   "metadata": {
    "ExecuteTime": {
     "end_time": "2020-08-17T19:37:55.862162Z",
     "start_time": "2020-08-17T19:37:55.825285Z"
    }
   },
   "outputs": [],
   "source": [
    "# H_in = nonpublic_ts[['DATE','hospitalised_IN']].groupby('DATE').sum()['2020-03-15':].reset_index()\n",
    "\n",
    "# fig,ax = plt.subplots()\n",
    "# H_in.plot('DATE','hospitalised_IN', ax=ax)\n",
    "# df_sciensano.reset_index().plot('DATE', 'H_in', ax=ax)"
   ]
  },
  {
   "cell_type": "code",
   "execution_count": 11,
   "metadata": {
    "ExecuteTime": {
     "end_time": "2020-08-17T19:37:59.138442Z",
     "start_time": "2020-08-17T19:37:59.099107Z"
    }
   },
   "outputs": [],
   "source": [
    "arrondissement = 'Gent'\n",
    "readin_date = str(datetime.date.today()) #'2020-08-17'"
   ]
  },
  {
   "cell_type": "code",
   "execution_count": 12,
   "metadata": {
    "ExecuteTime": {
     "end_time": "2020-08-17T19:38:01.694139Z",
     "start_time": "2020-08-17T19:38:01.642302Z"
    }
   },
   "outputs": [],
   "source": [
    "arrond_ts = nonpublic_ts.pivot(index='DATE', columns='Arrondissement', values='hospitalised_IN')[arrondissement]"
   ]
  },
  {
   "cell_type": "markdown",
   "metadata": {},
   "source": [
    "# Initialize the model"
   ]
  },
  {
   "cell_type": "code",
   "execution_count": 13,
   "metadata": {
    "ExecuteTime": {
     "end_time": "2020-08-17T19:38:03.574937Z",
     "start_time": "2020-08-17T19:38:03.511130Z"
    }
   },
   "outputs": [],
   "source": [
    "# Load the parameters using `get_COVID19_SEIRD_parameters()`.\n",
    "params = parameters.get_COVID19_SEIRD_parameters()\n",
    "# Add the delayed ramp parameters to the parameter dictionary.\n",
    "params.update({'l': 1,\n",
    "              'tau': 5})\n",
    "# Define the initial condition: one exposed inidividual in every age category\n",
    "initial_states = {'S': initN, 'E': np.ones(levels)}\n",
    "# Load the compliance model\n",
    "from covid19model.models.compliance import ramp_2\n",
    "# Initialize the model\n",
    "model = models.COVID19_SEIRD(initial_states, params, compliance=ramp_2)"
   ]
  },
  {
   "cell_type": "markdown",
   "metadata": {},
   "source": [
    "# Policies translated to checkpoints"
   ]
  },
  {
   "cell_type": "markdown",
   "metadata": {},
   "source": [
    "chk_beta_pso = {   \n",
    "    'time':  [lag_time],    \n",
    "    'Nc':    [0.2 *Nc_home + ((1-0.70) *Nc_work + (1-0.80) *Nc_transport)],   \n",
    "}"
   ]
  },
  {
   "cell_type": "markdown",
   "metadata": {},
   "source": [
    "Hier geen school want alles dicht van 15 tot 22 maart!"
   ]
  },
  {
   "cell_type": "markdown",
   "metadata": {
    "ExecuteTime": {
     "end_time": "2020-08-11T13:16:18.653938Z",
     "start_time": "2020-08-11T13:16:18.518835Z"
    }
   },
   "source": [
    "chk_beta_MCMC = {   \n",
    "    'time':  [lag_time],   \n",
    "    'Nc':    [prevention *(1.0 *Nc_home + (1-0.60) *Nc_work + (1-0.70) *Nc_transport +(1-0.30) *Nc_others + (1-0.80) *Nc_leisure)],   \n",
    "}"
   ]
  },
  {
   "cell_type": "markdown",
   "metadata": {},
   "source": [
    "tot 20 april nog steeds geen school!"
   ]
  },
  {
   "cell_type": "markdown",
   "metadata": {},
   "source": [
    "chk_ramp_MCMC also used for final plot"
   ]
  },
  {
   "cell_type": "markdown",
   "metadata": {},
   "source": [
    "# Calibrating $\\beta$ and lag_time\n",
    "\n",
    "**Skip this section when parameters were previously calibrated**\n",
    "\n",
    "Use the function `fit_pso` to obtain a good starting estimate for the MCMC sampler."
   ]
  },
  {
   "cell_type": "markdown",
   "metadata": {},
   "source": [
    "JV: \n",
    "- **lag_time = excess time?**\n",
    "- sigma_H_in = variance on the data (**waarom moet dit geschat worden?**)"
   ]
  },
  {
   "cell_type": "code",
   "execution_count": 14,
   "metadata": {
    "ExecuteTime": {
     "end_time": "2020-08-17T19:38:06.233915Z",
     "start_time": "2020-08-17T19:38:06.194580Z"
    }
   },
   "outputs": [],
   "source": [
    "start_date = '2020-03-15'\n",
    "end_beta = '2020-03-22'\n",
    "end_ramp = '2020-04-20'"
   ]
  },
  {
   "cell_type": "markdown",
   "metadata": {},
   "source": [
    "## Initial guess with PSO"
   ]
  },
  {
   "cell_type": "code",
   "execution_count": 15,
   "metadata": {
    "ExecuteTime": {
     "end_time": "2020-08-17T19:39:34.720956Z",
     "start_time": "2020-08-17T19:38:08.392177Z"
    }
   },
   "outputs": [
    {
     "name": "stdout",
     "output_type": "stream",
     "text": [
      "No constraints given.\n",
      "New best for swarm at iteration 1: [10.37414444 30.          0.03700948] 18.981434519118864\n",
      "Best after iteration 1: [10.37414444 30.          0.03700948] 18.981434519118864\n",
      "Best after iteration 2: [10.37414444 30.          0.03700948] 18.981434519118864\n",
      "New best for swarm at iteration 3: [ 6.67437276 30.          0.0399198 ] 15.822670227372399\n",
      "Best after iteration 3: [ 6.67437276 30.          0.0399198 ] 15.822670227372399\n",
      "New best for swarm at iteration 4: [ 3.03917891 30.          0.0390831 ] 11.462358140929616\n",
      "Best after iteration 4: [ 3.03917891 30.          0.0390831 ] 11.462358140929616\n",
      "Best after iteration 5: [ 3.03917891 30.          0.0390831 ] 11.462358140929616\n",
      "Best after iteration 6: [ 3.03917891 30.          0.0390831 ] 11.462358140929616\n",
      "New best for swarm at iteration 7: [ 2.1982485  30.          0.03903813] 11.190829794103687\n",
      "Best after iteration 7: [ 2.1982485  30.          0.03903813] 11.190829794103687\n",
      "New best for swarm at iteration 8: [ 2.26656053 30.          0.03878313] 11.071973254715562\n",
      "Best after iteration 8: [ 2.26656053 30.          0.03878313] 11.071973254715562\n",
      "New best for swarm at iteration 9: [ 2.20490135 31.07574417  0.03739262] 11.008777852978465\n",
      "Best after iteration 9: [ 2.20490135 31.07574417  0.03739262] 11.008777852978465\n",
      "Best after iteration 10: [ 2.20490135 31.07574417  0.03739262] 11.008777852978465\n",
      "Best after iteration 11: [ 2.20490135 31.07574417  0.03739262] 11.008777852978465\n",
      "Best after iteration 12: [ 2.20490135 31.07574417  0.03739262] 11.008777852978465\n",
      "Best after iteration 13: [ 2.20490135 31.07574417  0.03739262] 11.008777852978465\n",
      "Best after iteration 14: [ 2.20490135 31.07574417  0.03739262] 11.008777852978465\n",
      "Best after iteration 15: [ 2.20490135 31.07574417  0.03739262] 11.008777852978465\n",
      "New best for swarm at iteration 16: [ 2.4178528  30.74558264  0.03749261] 10.947475668853563\n",
      "Best after iteration 16: [ 2.4178528  30.74558264  0.03749261] 10.947475668853563\n",
      "Best after iteration 17: [ 2.4178528  30.74558264  0.03749261] 10.947475668853563\n",
      "Best after iteration 18: [ 2.4178528  30.74558264  0.03749261] 10.947475668853563\n",
      "Best after iteration 19: [ 2.4178528  30.74558264  0.03749261] 10.947475668853563\n",
      "Best after iteration 20: [ 2.4178528  30.74558264  0.03749261] 10.947475668853563\n",
      "Best after iteration 21: [ 2.4178528  30.74558264  0.03749261] 10.947475668853563\n",
      "Best after iteration 22: [ 2.4178528  30.74558264  0.03749261] 10.947475668853563\n",
      "Best after iteration 23: [ 2.4178528  30.74558264  0.03749261] 10.947475668853563\n",
      "Best after iteration 24: [ 2.4178528  30.74558264  0.03749261] 10.947475668853563\n",
      "Best after iteration 25: [ 2.4178528  30.74558264  0.03749261] 10.947475668853563\n",
      "Best after iteration 26: [ 2.4178528  30.74558264  0.03749261] 10.947475668853563\n",
      "Best after iteration 27: [ 2.4178528  30.74558264  0.03749261] 10.947475668853563\n",
      "New best for swarm at iteration 28: [ 2.36263307 30.73336703  0.03749623] 10.946144005280921\n",
      "Best after iteration 28: [ 2.36263307 30.73336703  0.03749623] 10.946144005280921\n",
      "New best for swarm at iteration 29: [ 2.38197389 30.72068923  0.03760479] 10.94570245035322\n",
      "Best after iteration 29: [ 2.38197389 30.72068923  0.03760479] 10.94570245035322\n",
      "Best after iteration 30: [ 2.38197389 30.72068923  0.03760479] 10.94570245035322\n",
      "New best for swarm at iteration 31: [ 2.39527003 30.54414764  0.03753661] 10.944466891236582\n",
      "Best after iteration 31: [ 2.39527003 30.54414764  0.03753661] 10.944466891236582\n",
      "Best after iteration 32: [ 2.39527003 30.54414764  0.03753661] 10.944466891236582\n",
      "Best after iteration 33: [ 2.39527003 30.54414764  0.03753661] 10.944466891236582\n",
      "Best after iteration 34: [ 2.39527003 30.54414764  0.03753661] 10.944466891236582\n",
      "Best after iteration 35: [ 2.39527003 30.54414764  0.03753661] 10.944466891236582\n",
      "New best for swarm at iteration 36: [ 2.39188709 30.55450743  0.03756873] 10.944460408557344\n",
      "Best after iteration 36: [ 2.39188709 30.55450743  0.03756873] 10.944460408557344\n",
      "Best after iteration 37: [ 2.39188709 30.55450743  0.03756873] 10.944460408557344\n",
      "Best after iteration 38: [ 2.39188709 30.55450743  0.03756873] 10.944460408557344\n",
      "Best after iteration 39: [ 2.39188709 30.55450743  0.03756873] 10.944460408557344\n",
      "Best after iteration 40: [ 2.39188709 30.55450743  0.03756873] 10.944460408557344\n",
      "Best after iteration 41: [ 2.39188709 30.55450743  0.03756873] 10.944460408557344\n",
      "New best for swarm at iteration 42: [ 2.38574443 30.62944344  0.0375481 ] 10.944162470987582\n",
      "Best after iteration 42: [ 2.38574443 30.62944344  0.0375481 ] 10.944162470987582\n",
      "Best after iteration 43: [ 2.38574443 30.62944344  0.0375481 ] 10.944162470987582\n",
      "Best after iteration 44: [ 2.38574443 30.62944344  0.0375481 ] 10.944162470987582\n",
      "New best for swarm at iteration 45: [ 2.3821862  30.61591961  0.03755365] 10.944151976121647\n",
      "Best after iteration 45: [ 2.3821862  30.61591961  0.03755365] 10.944151976121647\n",
      "Best after iteration 46: [ 2.3821862  30.61591961  0.03755365] 10.944151976121647\n",
      "Best after iteration 47: [ 2.3821862  30.61591961  0.03755365] 10.944151976121647\n",
      "Best after iteration 48: [ 2.3821862  30.61591961  0.03755365] 10.944151976121647\n",
      "Best after iteration 49: [ 2.3821862  30.61591961  0.03755365] 10.944151976121647\n",
      "Best after iteration 50: [ 2.3821862  30.61591961  0.03755365] 10.944151976121647\n",
      "Stopping search: maximum iterations reached --> 50\n"
     ]
    }
   ],
   "source": [
    "# define dataset\n",
    "data=[arrond_ts[start_date:end_beta]]\n",
    "# set optimisation settings\n",
    "parNames = ['sigma_H_in','extraTime','beta'] # must be a list!\n",
    "states = [[\"H_in\"]]\n",
    "bounds=((1,100),(30,60),(0.02,0.06)) # must be a list!\n",
    "# run optimisation\n",
    "theta = MCMC.fit_pso(model,data,parNames,states,bounds,maxiter=50,popsize=50)"
   ]
  },
  {
   "cell_type": "code",
   "execution_count": 16,
   "metadata": {
    "ExecuteTime": {
     "end_time": "2020-08-17T19:39:34.781635Z",
     "start_time": "2020-08-17T19:39:34.726120Z"
    }
   },
   "outputs": [],
   "source": [
    "lag_time = int(round(theta[1]))\n",
    "# Assign 'extraTime' or lag_time as a model attribute --> is needed to perform the optimalization\n",
    "model.extraTime = int(round(theta[1]))\n",
    "\n",
    "model.parameters.update({\n",
    "    'beta': theta[2],\n",
    "}\n",
    ")"
   ]
  },
  {
   "cell_type": "markdown",
   "metadata": {},
   "source": [
    "## MCMC calibration"
   ]
  },
  {
   "cell_type": "code",
   "execution_count": 17,
   "metadata": {
    "ExecuteTime": {
     "end_time": "2020-08-17T20:14:57.242663Z",
     "start_time": "2020-08-17T19:40:39.616144Z"
    }
   },
   "outputs": [
    {
     "name": "stderr",
     "output_type": "stream",
     "text": [
      "  0%|          | 0/10000 [00:00<?, ?it/s]/Applications/miniconda3/envs/work/lib/python3.8/site-packages/emcee/moves/red_blue.py:99: RuntimeWarning: invalid value encountered in double_scalars\n",
      "  lnpdiff = f + nlp - state.log_prob[j]\n",
      "100%|██████████| 10000/10000 [34:17<00:00,  4.86it/s] \n"
     ]
    }
   ],
   "source": [
    "parNames = ['sigma_ICU','beta'] # must be a list!\n",
    "bounds=((1,200),(0.01,0.10))\n",
    "\n",
    "pos = [theta[0],theta[2]] + [1, 1e-2 ]* np.random.randn(4, 2)\n",
    "nwalkers, ndim = pos.shape\n",
    "sampler = emcee.EnsembleSampler(nwalkers, ndim, objective_fcns.log_probability,\n",
    "                                args=(model,bounds,data,states,parNames))\n",
    "sampler.run_mcmc(pos, 10000, progress=True);"
   ]
  },
  {
   "cell_type": "code",
   "execution_count": 18,
   "metadata": {
    "ExecuteTime": {
     "end_time": "2020-08-17T20:27:46.085318Z",
     "start_time": "2020-08-17T20:27:45.987244Z"
    }
   },
   "outputs": [],
   "source": [
    "samples = sampler.get_chain(discard=100,flat=False)\n",
    "flat_samples = sampler.get_chain(discard=100,flat=True)"
   ]
  },
  {
   "cell_type": "code",
   "execution_count": 19,
   "metadata": {
    "ExecuteTime": {
     "end_time": "2020-08-17T20:27:46.683437Z",
     "start_time": "2020-08-17T20:27:46.610599Z"
    },
    "scrolled": true
   },
   "outputs": [
    {
     "data": {
      "text/plain": [
       "array([66.42877897, 67.76223992])"
      ]
     },
     "execution_count": 19,
     "metadata": {},
     "output_type": "execute_result"
    }
   ],
   "source": [
    "sampler.get_autocorr_time()"
   ]
  },
  {
   "cell_type": "code",
   "execution_count": 20,
   "metadata": {
    "ExecuteTime": {
     "end_time": "2020-08-17T20:27:47.634335Z",
     "start_time": "2020-08-17T20:27:47.586070Z"
    }
   },
   "outputs": [
    {
     "name": "stdout",
     "output_type": "stream",
     "text": [
      "0.036754581453694285 0.03476270538516587 0.038789991277306014\n"
     ]
    }
   ],
   "source": [
    "mean = np.mean(flat_samples[:,1])\n",
    "p10 = np.percentile(flat_samples[:,1],10)\n",
    "p90 = np.percentile(flat_samples[:,1],90)\n",
    "print(mean,p10,p90)"
   ]
  },
  {
   "cell_type": "markdown",
   "metadata": {},
   "source": [
    "Initialize a dictionary of samples and write them to `parameters.json`"
   ]
  },
  {
   "cell_type": "code",
   "execution_count": 21,
   "metadata": {
    "ExecuteTime": {
     "end_time": "2020-08-17T20:27:52.917601Z",
     "start_time": "2020-08-17T20:27:52.874277Z"
    }
   },
   "outputs": [],
   "source": [
    "samples_dict={'lag_time': int(round(theta[1])), 'beta': flat_samples[:,1].tolist(), \n",
    "              'start_date':start_date, 'end_beta':end_beta,\n",
    "              'calibration_data':'H_in'}"
   ]
  },
  {
   "cell_type": "code",
   "execution_count": 22,
   "metadata": {
    "ExecuteTime": {
     "end_time": "2020-08-17T20:27:53.936865Z",
     "start_time": "2020-08-17T20:27:53.820089Z"
    }
   },
   "outputs": [],
   "source": [
    "with open('../../data/interim/model_parameters/arrondissements/'+arrondissement+'_'+str(datetime.date.today())+'.json', 'w') as fp:\n",
    "    json.dump(samples_dict, fp)"
   ]
  },
  {
   "cell_type": "markdown",
   "metadata": {},
   "source": [
    "Make some diagnostic visualisations"
   ]
  },
  {
   "cell_type": "code",
   "execution_count": 23,
   "metadata": {
    "ExecuteTime": {
     "end_time": "2020-08-17T20:27:56.565839Z",
     "start_time": "2020-08-17T20:27:56.104810Z"
    }
   },
   "outputs": [
    {
     "data": {
      "text/plain": [
       "<matplotlib.axes._subplots.AxesSubplot at 0x11c1d3670>"
      ]
     },
     "execution_count": 23,
     "metadata": {},
     "output_type": "execute_result"
    },
    {
     "data": {
      "image/png": "[encoded data removed]",
      "text/plain": [
       "<Figure size 720x336 with 2 Axes>"
      ]
     },
     "metadata": {
      "needs_background": "light"
     },
     "output_type": "display_data"
    }
   ],
   "source": [
    "traceplot(samples,labels=[\"sigma2_ICU\",\"beta\"],plt_kwargs={'linewidth':2,'color': 'red','alpha': 0.15})"
   ]
  },
  {
   "cell_type": "code",
   "execution_count": null,
   "metadata": {
    "ExecuteTime": {
     "end_time": "2020-08-17T07:41:15.929771Z",
     "start_time": "2020-08-17T07:41:15.881313Z"
    }
   },
   "outputs": [],
   "source": [
    "import corner\n",
    "\n",
    "fig = corner.corner(\n",
    "    flat_samples,labels=['$\\sigma_{data}$','$\\\\beta$']\n",
    ");\n",
    "fig.set_size_inches(8, 8)\n",
    "plt.savefig('corner_beta.pdf', dpi=600, bbox_inches='tight',\n",
    "                    orientation='portrait', papertype='a4')"
   ]
  },
  {
   "cell_type": "code",
   "execution_count": null,
   "metadata": {
    "ExecuteTime": {
     "end_time": "2020-08-17T20:28:04.807456Z",
     "start_time": "2020-08-17T20:27:59.448909Z"
    }
   },
   "outputs": [],
   "source": [
    "T = 9\n",
    "fig,ax=plt.subplots()\n",
    "\n",
    "for i in range(100):\n",
    "    model.parameters['beta'] = np.random.choice(samples_dict['beta'],1,replace=False)\n",
    "    y_model = model.sim(data[0].size+lag_time-1+T)\n",
    "    ax = plot_fit(y_model,data,start_date,lag_time,states,T=T,ax=ax,plt_kwargs={'color':'blue','linewidth': 2,'alpha': 0.05})\n",
    "\n",
    "plt.scatter(pd.date_range('15-03-2020',freq='D',periods=df_sciensano[\"H_in\"][8:18].size)+datetime.timedelta(days=data[0].size),df_sciensano[\"H_in\"][8:18], marker='o',color='red',linestyle='None',facecolors='none')\n",
    "#legend_text=['daily \\nhospitalizations']\n",
    "#leg=ax.legend(legend_text, loc=\"upper left\", bbox_to_anchor=(1,1))\n",
    "#plt.savefig('plot_fit_beta.pdf', dpi=600, bbox_inches='tight',orientation='portrait', papertype='a4')"
   ]
  },
  {
   "cell_type": "markdown",
   "metadata": {},
   "source": [
    "# Calibrating the compliance ramp parameters"
   ]
  },
  {
   "cell_type": "markdown",
   "metadata": {},
   "source": [
    "## Loading $\\beta$ and lag_time\n",
    "\n",
    "Load the previously calibrated parameters."
   ]
  },
  {
   "cell_type": "code",
   "execution_count": 25,
   "metadata": {
    "ExecuteTime": {
     "end_time": "2020-08-17T20:28:12.865355Z",
     "start_time": "2020-08-17T20:28:12.791835Z"
    }
   },
   "outputs": [],
   "source": [
    "with open('../../data/interim/model_parameters/arrondissements/'+arrondissement+'_'+readin_date+'.json', 'r') as fp:\n",
    "    samples_dict = json.load(fp)\n",
    "\n",
    "lag_time = samples_dict['lag_time']\n",
    "model.extraTime = samples_dict['lag_time']\n",
    "model.parameters['beta'] = np.mean(samples_dict['beta'])"
   ]
  },
  {
   "cell_type": "code",
   "execution_count": 26,
   "metadata": {
    "ExecuteTime": {
     "end_time": "2020-08-17T20:28:14.518895Z",
     "start_time": "2020-08-17T20:28:14.476547Z"
    }
   },
   "outputs": [
    {
     "data": {
      "text/plain": [
       "dict_keys(['lag_time', 'beta', 'start_date', 'end_beta', 'calibration_data'])"
      ]
     },
     "execution_count": 26,
     "metadata": {},
     "output_type": "execute_result"
    }
   ],
   "source": [
    "samples_dict.keys()"
   ]
  },
  {
   "cell_type": "code",
   "execution_count": 27,
   "metadata": {
    "ExecuteTime": {
     "end_time": "2020-08-17T20:28:15.232812Z",
     "start_time": "2020-08-17T20:28:15.188794Z"
    }
   },
   "outputs": [],
   "source": [
    "samples_beta = {'beta': samples_dict['beta']}"
   ]
  },
  {
   "cell_type": "markdown",
   "metadata": {},
   "source": [
    "## Initial guess with PSO"
   ]
  },
  {
   "cell_type": "code",
   "execution_count": 28,
   "metadata": {
    "ExecuteTime": {
     "end_time": "2020-08-17T20:30:51.593615Z",
     "start_time": "2020-08-17T20:28:20.254588Z"
    }
   },
   "outputs": [
    {
     "name": "stdout",
     "output_type": "stream",
     "text": [
      "No constraints given.\n",
      "Best after iteration 1: [16.36926882 10.3384933  10.97592118  0.44224627] 108.85301906145808\n",
      "Best after iteration 2: [16.36926882 10.3384933  10.97592118  0.44224627] 108.85301906145808\n",
      "Best after iteration 3: [16.36926882 10.3384933  10.97592118  0.44224627] 108.85301906145808\n",
      "New best for swarm at iteration 4: [11.34521568 13.06474785  2.87821012  0.33852419] 96.25695958088652\n",
      "Best after iteration 4: [11.34521568 13.06474785  2.87821012  0.33852419] 96.25695958088652\n",
      "New best for swarm at iteration 5: [6.50448266 8.20451477 0.         0.2673398 ] 92.78908660430773\n",
      "Best after iteration 5: [6.50448266 8.20451477 0.         0.2673398 ] 92.78908660430773\n",
      "New best for swarm at iteration 6: [4.96951458 7.39530303 3.30495869 0.18065568] 78.40330938634558\n",
      "Best after iteration 6: [4.96951458 7.39530303 3.30495869 0.18065568] 78.40330938634558\n",
      "Best after iteration 7: [4.96951458 7.39530303 3.30495869 0.18065568] 78.40330938634558\n",
      "New best for swarm at iteration 8: [4.15803431 8.9384133  1.88234626 0.14207365] 77.51254395447012\n",
      "Best after iteration 8: [4.15803431 8.9384133  1.88234626 0.14207365] 77.51254395447012\n",
      "Best after iteration 9: [4.15803431 8.9384133  1.88234626 0.14207365] 77.51254395447012\n",
      "Best after iteration 10: [4.15803431 8.9384133  1.88234626 0.14207365] 77.51254395447012\n",
      "Best after iteration 11: [4.15803431 8.9384133  1.88234626 0.14207365] 77.51254395447012\n",
      "New best for swarm at iteration 12: [ 5.35401943 13.4217018   1.85573532  0.03018446] 76.38822598202528\n",
      "Best after iteration 12: [ 5.35401943 13.4217018   1.85573532  0.03018446] 76.38822598202528\n",
      "New best for swarm at iteration 13: [ 3.9554717  11.1302418   1.54930046  0.07092928] 72.14488778422302\n",
      "Best after iteration 13: [ 3.9554717  11.1302418   1.54930046  0.07092928] 72.14488778422302\n",
      "Best after iteration 14: [ 3.9554717  11.1302418   1.54930046  0.07092928] 72.14488778422302\n",
      "Best after iteration 15: [ 3.9554717  11.1302418   1.54930046  0.07092928] 72.14488778422302\n",
      "Best after iteration 16: [ 3.9554717  11.1302418   1.54930046  0.07092928] 72.14488778422302\n",
      "Best after iteration 17: [ 3.9554717  11.1302418   1.54930046  0.07092928] 72.14488778422302\n",
      "New best for swarm at iteration 18: [3.99599077 9.40070404 1.38420698 0.07311969] 71.69485708430304\n",
      "Best after iteration 18: [3.99599077 9.40070404 1.38420698 0.07311969] 71.69485708430304\n",
      "New best for swarm at iteration 19: [ 4.29663206 10.90995534  0.83556576  0.12732487] 71.55922778254731\n",
      "Best after iteration 19: [ 4.29663206 10.90995534  0.83556576  0.12732487] 71.55922778254731\n",
      "Best after iteration 20: [ 4.29663206 10.90995534  0.83556576  0.12732487] 71.55922778254731\n",
      "Best after iteration 21: [ 4.29663206 10.90995534  0.83556576  0.12732487] 71.55922778254731\n",
      "Best after iteration 22: [ 4.29663206 10.90995534  0.83556576  0.12732487] 71.55922778254731\n",
      "New best for swarm at iteration 23: [ 4.12217129 10.8456899   0.56451714  0.11837729] 71.2072700954945\n",
      "Best after iteration 23: [ 4.12217129 10.8456899   0.56451714  0.11837729] 71.2072700954945\n",
      "Best after iteration 24: [ 4.12217129 10.8456899   0.56451714  0.11837729] 71.2072700954945\n",
      "Best after iteration 25: [ 4.12217129 10.8456899   0.56451714  0.11837729] 71.2072700954945\n",
      "Best after iteration 26: [ 4.12217129 10.8456899   0.56451714  0.11837729] 71.2072700954945\n",
      "Best after iteration 27: [ 4.12217129 10.8456899   0.56451714  0.11837729] 71.2072700954945\n",
      "Best after iteration 28: [ 4.12217129 10.8456899   0.56451714  0.11837729] 71.2072700954945\n",
      "Best after iteration 29: [ 4.12217129 10.8456899   0.56451714  0.11837729] 71.2072700954945\n",
      "Best after iteration 30: [ 4.12217129 10.8456899   0.56451714  0.11837729] 71.2072700954945\n",
      "New best for swarm at iteration 31: [ 4.08987564 10.90672085  0.47152574  0.11913388] 71.0832450719851\n",
      "Best after iteration 31: [ 4.08987564 10.90672085  0.47152574  0.11913388] 71.0832450719851\n",
      "Best after iteration 32: [ 4.08987564 10.90672085  0.47152574  0.11913388] 71.0832450719851\n",
      "Best after iteration 33: [ 4.08987564 10.90672085  0.47152574  0.11913388] 71.0832450719851\n",
      "Best after iteration 34: [ 4.08987564 10.90672085  0.47152574  0.11913388] 71.0832450719851\n",
      "Best after iteration 35: [ 4.08987564 10.90672085  0.47152574  0.11913388] 71.0832450719851\n",
      "Best after iteration 36: [ 4.08987564 10.90672085  0.47152574  0.11913388] 71.0832450719851\n",
      "Best after iteration 37: [ 4.08987564 10.90672085  0.47152574  0.11913388] 71.0832450719851\n",
      "Best after iteration 38: [ 4.08987564 10.90672085  0.47152574  0.11913388] 71.0832450719851\n",
      "Best after iteration 39: [ 4.08987564 10.90672085  0.47152574  0.11913388] 71.0832450719851\n",
      "Best after iteration 40: [ 4.08987564 10.90672085  0.47152574  0.11913388] 71.0832450719851\n",
      "New best for swarm at iteration 41: [ 4.13400121 10.99715193  0.3846965   0.12287571] 71.05189665223257\n",
      "Best after iteration 41: [ 4.13400121 10.99715193  0.3846965   0.12287571] 71.05189665223257\n",
      "Best after iteration 42: [ 4.13400121 10.99715193  0.3846965   0.12287571] 71.05189665223257\n",
      "Best after iteration 43: [ 4.13400121 10.99715193  0.3846965   0.12287571] 71.05189665223257\n",
      "Best after iteration 44: [ 4.13400121 10.99715193  0.3846965   0.12287571] 71.05189665223257\n",
      "Best after iteration 45: [ 4.13400121 10.99715193  0.3846965   0.12287571] 71.05189665223257\n",
      "Best after iteration 46: [ 4.13400121 10.99715193  0.3846965   0.12287571] 71.05189665223257\n",
      "Best after iteration 47: [ 4.13400121 10.99715193  0.3846965   0.12287571] 71.05189665223257\n",
      "Best after iteration 48: [ 4.13400121 10.99715193  0.3846965   0.12287571] 71.05189665223257\n",
      "Best after iteration 49: [ 4.13400121 10.99715193  0.3846965   0.12287571] 71.05189665223257\n",
      "Best after iteration 50: [ 4.13400121 10.99715193  0.3846965   0.12287571] 71.05189665223257\n",
      "Stopping search: maximum iterations reached --> 50\n"
     ]
    }
   ],
   "source": [
    "# Create checkpoints dictionary\n",
    "chk_beta_pso = {\n",
    "    'time':  [lag_time], \n",
    "    'Nc':    [0.2*Nc_home + 0.3*Nc_work + 0.2*Nc_transport],\n",
    "}\n",
    "# define dataset\n",
    "data=[arrond_ts[start_date:end_ramp]]\n",
    "# set optimisation settings\n",
    "parNames = ['sigma_H_in','l','tau','prevention'] # must be a list!\n",
    "states = [[\"H_in\"]]\n",
    "bounds=((1,100),(0.1,20),(0,20),(0,1)) # must be a list!\n",
    "# run optimisation\n",
    "theta = MCMC.fit_pso(model,data,parNames,states,bounds,checkpoints=chk_beta_pso,samples=samples_beta,maxiter=50,popsize=50)"
   ]
  },
  {
   "cell_type": "code",
   "execution_count": 29,
   "metadata": {
    "ExecuteTime": {
     "end_time": "2020-08-17T20:39:32.982388Z",
     "start_time": "2020-08-17T20:39:32.869328Z"
    }
   },
   "outputs": [],
   "source": [
    "model.parameters.update({\n",
    "    'l': theta[1],\n",
    "    'tau': theta[2]\n",
    "\n",
    "}\n",
    ")\n",
    "prevention = theta[2]\n",
    "# Create checkpoints dictionary\n",
    "chk_beta_MCMC = {\n",
    "    'time':  [lag_time], \n",
    "    'Nc':    [prevention*(1.0*Nc_home + 0.4*Nc_work + 0.3*Nc_transport + 0.7*Nc_others\n",
    "                          + 0.2*Nc_leisure)],\n",
    "}"
   ]
  },
  {
   "cell_type": "markdown",
   "metadata": {},
   "source": [
    "## MCMC calibration"
   ]
  },
  {
   "cell_type": "code",
   "execution_count": 30,
   "metadata": {
    "ExecuteTime": {
     "end_time": "2020-08-17T20:39:45.095906Z",
     "start_time": "2020-08-17T20:39:45.051456Z"
    }
   },
   "outputs": [],
   "source": [
    "bounds=((1,100),(0.001,20),(0,20),(0,1)) # must be a list!\n",
    "pos = theta + [1, 0.1, 0.1, 0.1 ]* np.random.randn(8, 4)\n",
    "nwalkers, ndim = pos.shape\n",
    "sampler = emcee.EnsembleSampler(nwalkers, ndim, objective_fcns.log_probability,\n",
    "                                args=(model,bounds,data,states,parNames,chk_beta_MCMC,samples_beta))\n"
   ]
  },
  {
   "cell_type": "code",
   "execution_count": null,
   "metadata": {
    "ExecuteTime": {
     "start_time": "2020-08-17T20:39:47.902Z"
    }
   },
   "outputs": [
    {
     "name": "stderr",
     "output_type": "stream",
     "text": [
      "  0%|          | 0/1000 [00:00<?, ?it/s]/Applications/miniconda3/envs/work/lib/python3.8/site-packages/emcee/moves/red_blue.py:99: RuntimeWarning: invalid value encountered in double_scalars\n",
      "  lnpdiff = f + nlp - state.log_prob[j]\n",
      "  2%|▏         | 15/1000 [00:12<12:34,  1.31it/s]"
     ]
    }
   ],
   "source": [
    "sampler.run_mcmc(pos, 1000, progress=True);#only 500 instead of 10000 steps (for a trial)"
   ]
  },
  {
   "cell_type": "code",
   "execution_count": null,
   "metadata": {
    "ExecuteTime": {
     "end_time": "2020-08-17T15:39:49.779074Z",
     "start_time": "2020-08-17T15:39:49.461512Z"
    }
   },
   "outputs": [],
   "source": [
    "sampler.get_autocorr_time()"
   ]
  },
  {
   "cell_type": "code",
   "execution_count": null,
   "metadata": {
    "ExecuteTime": {
     "end_time": "2020-08-17T15:39:52.847919Z",
     "start_time": "2020-08-17T15:39:52.809410Z"
    }
   },
   "outputs": [],
   "source": [
    "samples = sampler.get_chain(discard=200,flat=False)\n",
    "flat_samples = sampler.get_chain(discard=200,flat=True)"
   ]
  },
  {
   "cell_type": "code",
   "execution_count": null,
   "metadata": {
    "ExecuteTime": {
     "end_time": "2020-08-17T15:40:48.400985Z",
     "start_time": "2020-08-17T15:40:48.363049Z"
    }
   },
   "outputs": [],
   "source": [
    "samples_dict.update({'l': flat_samples[:,1].tolist(),'tau':flat_samples[:,2].tolist(),'prevention':flat_samples[:,3].tolist(), 'end_ramp':end_ramp})"
   ]
  },
  {
   "cell_type": "code",
   "execution_count": null,
   "metadata": {
    "ExecuteTime": {
     "end_time": "2020-08-17T15:41:28.201755Z",
     "start_time": "2020-08-17T15:41:28.066233Z"
    }
   },
   "outputs": [],
   "source": [
    "with open('../../data/interim/model_parameters/deterministic_'+str(datetime.date.today())+'.json', 'w') as fp:\n",
    "    json.dump(samples_dict, fp)"
   ]
  },
  {
   "cell_type": "code",
   "execution_count": null,
   "metadata": {
    "ExecuteTime": {
     "end_time": "2020-08-17T15:41:29.987986Z",
     "start_time": "2020-08-17T15:41:29.947355Z"
    }
   },
   "outputs": [],
   "source": [
    "mean = np.mean(flat_samples[:,3])\n",
    "p10 = np.percentile(flat_samples[:,3],10)\n",
    "p90 = np.percentile(flat_samples[:,3],90)\n",
    "print(mean,p10,p90)"
   ]
  },
  {
   "cell_type": "code",
   "execution_count": null,
   "metadata": {
    "ExecuteTime": {
     "end_time": "2020-08-17T15:41:31.668120Z",
     "start_time": "2020-08-17T15:41:31.005426Z"
    }
   },
   "outputs": [],
   "source": [
    "traceplot(samples=sampler.get_chain(discard=200),labels=[\"sigma_data\",\"l\",\"tau\",\"prevention\"],plt_kwargs={'linewidth':2,'color': 'red','alpha': 0.15})"
   ]
  },
  {
   "cell_type": "code",
   "execution_count": null,
   "metadata": {
    "ExecuteTime": {
     "end_time": "2020-08-17T15:41:34.784646Z",
     "start_time": "2020-08-17T15:41:34.738062Z"
    }
   },
   "outputs": [],
   "source": [
    "import corner\n",
    "\n",
    "fig = corner.corner(\n",
    "    flat_samples, labels=[\"$\\sigma_{data}$\",\"l\",\"$\\\\tau$\",\"$\\Omega$\"],\n",
    ");\n",
    "fig.set_size_inches(9, 9)\n",
    "plt.savefig('corner_compliance_delayed_ramp.pdf', dpi=600, bbox_inches='tight',\n",
    "                    orientation='portrait', papertype='a4')"
   ]
  },
  {
   "cell_type": "code",
   "execution_count": null,
   "metadata": {
    "ExecuteTime": {
     "end_time": "2020-08-17T15:42:32.082351Z",
     "start_time": "2020-08-17T15:42:27.915795Z"
    }
   },
   "outputs": [],
   "source": [
    "fig,ax=plt.subplots()\n",
    "t = np.linspace(0,20,400)\n",
    "for i in range(1000):\n",
    "    idx,l= random.choice(list(enumerate(flat_samples[:,1])))\n",
    "    tau = samples_dict['tau'][idx]\n",
    "    y=[]\n",
    "    for j in range(len(t)):\n",
    "        y.append(100*ramp_2(t[j],0,1,l,tau))\n",
    "    ax.plot(t,y,color='blue',linewidth=0.1,alpha=0.05)\n",
    "ax.set_xlabel('days since policy change')\n",
    "ax.set_ylabel('social compliance (%)')\n",
    "#plt.savefig('compliance_delayed_ramp.pdf', dpi=600, bbox_inches='tight',orientation='portrait', papertype='a4')"
   ]
  },
  {
   "cell_type": "markdown",
   "metadata": {},
   "source": [
    "## Result"
   ]
  },
  {
   "cell_type": "code",
   "execution_count": null,
   "metadata": {
    "ExecuteTime": {
     "end_time": "2020-08-17T15:52:07.413089Z",
     "start_time": "2020-08-17T15:52:07.370179Z"
    }
   },
   "outputs": [],
   "source": [
    "data_after_calib"
   ]
  },
  {
   "cell_type": "code",
   "execution_count": null,
   "metadata": {
    "ExecuteTime": {
     "end_time": "2020-08-17T15:57:40.663452Z",
     "start_time": "2020-08-17T15:56:38.701427Z"
    },
    "scrolled": false
   },
   "outputs": [],
   "source": [
    "states = [['H_in']]\n",
    "start_date = '15-03-2020'\n",
    "end_date = '2020-09-20'\n",
    "data=[arrond_ts[start_date:end_ramp].values]\n",
    "fig,ax=plt.subplots()\n",
    "for i in range(200):\n",
    "    idx,model.parameters['beta'] = random.choice(list(enumerate(samples_dict['beta'])))\n",
    "    idx,model.parameters['l'] = random.choice(list(enumerate(samples_dict['l'])))\n",
    "    model.parameters['tau'] = samples_dict['tau'][idx]\n",
    "    prevention = samples_dict['prevention'][idx]\n",
    "    # Create a dictionary of past policies\n",
    "    chk = {'time':   [start_date], \n",
    "          'Nc':      [prevention*(Nc_home + 0.4*Nc_work + 0.3*Nc_transport + 0.7*Nc_others + 0.2*Nc_leisure)]\n",
    "          }\n",
    "    y_model = model.sim(time=end_date, excess_time=lag_time,checkpoints=chk)\n",
    "    ax = plot_fit(y_model,data,start_date,lag_time,states,end_date=end_date,with_ints=False,ax=ax,plt_kwargs={'color':'blue','linewidth': 2,'alpha': 0.05})\n",
    "\n",
    "data_after_calib = arrond_ts[pd.to_datetime(end_ramp)+pd.to_timedelta('1d'):end_date]\n",
    "plt.scatter(data_after_calib.index, data_after_calib.values, marker='o',color='red',linestyle='None',facecolors='none')\n",
    "legend_text=['daily \\nhospitalizations']\n",
    "#leg=ax.legend(legend_text, loc=\"upper left\", bbox_to_anchor=(1,1))\n",
    "#ax.set_ylim([0,850])\n",
    "ax.set_xlim(start_date, '2020-08-03')\n",
    "#plt.savefig('plot_fit_compliance.pdf', dpi=600, bbox_inches='tight',orientation='portrait', papertype='a4')\n",
    "fig.savefig('../../results/calibrations_arrondissements/'+arrondissement+'_'+str(datetime.date.today())+'.png',\n",
    "            bbox_inches='tight')"
   ]
  },
  {
   "cell_type": "code",
   "execution_count": null,
   "metadata": {
    "ExecuteTime": {
     "end_time": "2020-08-17T16:06:13.623577Z",
     "start_time": "2020-08-17T16:06:13.578146Z"
    }
   },
   "outputs": [],
   "source": []
  },
  {
   "cell_type": "code",
   "execution_count": null,
   "metadata": {
    "ExecuteTime": {
     "end_time": "2020-08-17T16:06:18.803535Z",
     "start_time": "2020-08-17T16:06:15.706169Z"
    }
   },
   "outputs": [],
   "source": [
    "fig.savefig('../../results/calibrations_arrondissements/'+arrondissement+'_'+str(datetime.date.today())+'.png',\n",
    "            bbox_inches='tight', dpi=600)"
   ]
  },
  {
   "cell_type": "markdown",
   "metadata": {},
   "source": [
    "# (Calibration of hospitalization parameters)"
   ]
  },
  {
   "cell_type": "markdown",
   "metadata": {},
   "source": [
    "Load the previously calibrated parameters: $\\beta$, lag_time, k, t0, prevention"
   ]
  },
  {
   "cell_type": "code",
   "execution_count": null,
   "metadata": {},
   "outputs": [],
   "source": [
    "with open('parameters_deterministic.json', 'r') as fp:\n",
    "    samples_dict = json.load(fp)\n",
    "\n",
    "lag_time = samples_dict['lag_time']\n",
    "model.extraTime = samples_dict['lag_time']\n",
    "model.parameters['beta'] = np.mean(samples_dict['beta'])\n",
    "model.parameters['l'] = np.mean(samples_dict['l'])\n",
    "model.parameters['tau'] = np.mean(samples_dict['tau'])\n",
    "prevention = np.mean(samples_dict['prevention'])"
   ]
  },
  {
   "cell_type": "code",
   "execution_count": null,
   "metadata": {},
   "outputs": [],
   "source": [
    "# Create checkpoints dictionary\n",
    "chk = {'time':  [lag_time], \n",
    "       'Nc':    [prevention*(1.0*Nc_home + (1-0.60)*Nc_work + (1-0.70)*Nc_transport + (1-0.30)*Nc_others + (1-0.80)*Nc_leisure)],\n",
    "      }\n",
    "\n",
    "model.parameters['dICUrec'] = 8\n",
    "\n",
    "# define dataset\n",
    "data=[df_sciensano[\"H_out\"].values[:55],df_sciensano[\"ICU_tot\"].values[:55],df_sciensano[\"H_tot\"].values[:55]]\n",
    "# set optimisation settings\n",
    "parNames = ['sigma_H_out','sigma_ICU_tot','sigma_H_tot','dc','dICU'] # must be a list!\n",
    "states = [[\"H_out\"],[\"ICU\"],[\"H_tot\"]]\n",
    "bounds=((1,200),(1,300),(1,600),(2,30),(2,20)) # must be a list!\n",
    "# run optimisation\n",
    "theta = MCMC.fit_pso(model,data,parNames,states,bounds,checkpoints=chk,maxiter=50,popsize=50)"
   ]
  },
  {
   "cell_type": "code",
   "execution_count": null,
   "metadata": {},
   "outputs": [],
   "source": [
    "model.parameters.update({\n",
    "    'dc': theta[3],\n",
    "    'dICU': theta[4]\n",
    "}\n",
    ")"
   ]
  },
  {
   "cell_type": "code",
   "execution_count": null,
   "metadata": {},
   "outputs": [],
   "source": [
    "T = 3\n",
    "fig,ax=plt.subplots()\n",
    "for i in range(1):\n",
    "    y_model = model.sim(data[0].size+lag_time-1+T,checkpoints=chk)\n",
    "    ax = plot_fit(y_model,data,'15-03-2020',lag_time,states,T=T,ax=ax,plt_kwargs={'color':'blue','linewidth': 2,'alpha': 1})"
   ]
  },
  {
   "cell_type": "code",
   "execution_count": null,
   "metadata": {},
   "outputs": [],
   "source": [
    "pos = theta + [5,5,5,3,3]* np.random.randn(10, 5)\n",
    "bounds=((1,500),(1,500),(1,1000),(1,30),(1,30)) \n",
    "nwalkers, ndim = pos.shape\n",
    "sampler = emcee.EnsembleSampler(nwalkers, ndim, objective_fcns.log_probability,\n",
    "                                args=(model,bounds,data,states,parNames,chk))\n",
    "sampler.run_mcmc(pos, 16000, progress=True);"
   ]
  },
  {
   "cell_type": "code",
   "execution_count": null,
   "metadata": {},
   "outputs": [],
   "source": [
    "sampler.get_autocorr_time()"
   ]
  },
  {
   "cell_type": "code",
   "execution_count": null,
   "metadata": {},
   "outputs": [],
   "source": [
    "samples = sampler.get_chain(discard=50,flat=False)\n",
    "flat_samples = sampler.get_chain(discard=50,flat=True)"
   ]
  },
  {
   "cell_type": "code",
   "execution_count": null,
   "metadata": {},
   "outputs": [],
   "source": [
    "mean = np.mean(samples_dict['dICU'])\n",
    "p10 = np.percentile(samples_dict['dICU'],10)\n",
    "p90 = np.percentile(samples_dict['dICU'],90)\n",
    "print(mean,p10,p90)"
   ]
  },
  {
   "cell_type": "code",
   "execution_count": null,
   "metadata": {},
   "outputs": [],
   "source": [
    "samples_dict.update({'dc': flat_samples[:,3].tolist(), 'dICU': flat_samples[:,4].tolist()})"
   ]
  },
  {
   "cell_type": "code",
   "execution_count": null,
   "metadata": {},
   "outputs": [],
   "source": [
    "traceplot(samples=sampler.get_chain(discard=50),labels=[\"sigma_H_out\",\"sigma H_tot\",\"sigma_ICU_tot\",\"dc\",\"dICU\"],plt_kwargs={'linewidth':2,'color': 'red','alpha': 0.15})"
   ]
  },
  {
   "cell_type": "code",
   "execution_count": null,
   "metadata": {},
   "outputs": [],
   "source": [
    "import corner\n",
    "\n",
    "fig = corner.corner(\n",
    "    flat_samples, labels=[\"sigma_H_out\",\"sigma H_tot\",\"sigma_ICU_tot\",\"dc\",\"dICU\"],\n",
    ");\n",
    "fig.set_size_inches(12, 12)\n",
    "plt.savefig('corner_compliance_hospitalization.pdf', dpi=600, bbox_inches='tight',\n",
    "                    orientation='portrait', papertype='a4')"
   ]
  },
  {
   "cell_type": "code",
   "execution_count": null,
   "metadata": {},
   "outputs": [],
   "source": [
    "T = 21\n",
    "\n",
    "fig,ax=plt.subplots()\n",
    "for i in range(300):\n",
    "    model.parameters['beta'] = np.random.choice(samples_dict['beta'],1,replace=False)\n",
    "    model.parameters['l'] = np.random.choice(samples_dict['l'],1,replace=False)\n",
    "    prevention = np.random.choice(samples_dict['prevention'],1,replace=False)\n",
    "    model.parameters['dc'] = np.random.choice(samples_dict['dc'],1,replace=False)\n",
    "    model.parameters['dICU'] = np.random.choice(samples_dict['dICU'],1,replace=False)\n",
    "    # Create checkpoints dictionary\n",
    "    chk = {'time':  [lag_time], \n",
    "           'Nc':    [prevention*(1.3*Nc_home + (1-0.60)*Nc_work + (1-0.70)*Nc_transport + (1-0.30)*Nc_others + (1-0.80)*Nc_leisure)],\n",
    "      }\n",
    "    y_model = model.sim(data[0].size+lag_time-1+T,checkpoints=chk)\n",
    "    ax = plot_fit(y_model,data,'15-03-2020',lag_time,states,T=T,ax=ax,\n",
    "                  legend_text=['Hospital discharges','Intensive care units (total)','Hospitals (total)'],\n",
    "                  plt_kwargs={'linewidth': 0.10,'alpha': 0.15})"
   ]
  },
  {
   "cell_type": "code",
   "execution_count": null,
   "metadata": {},
   "outputs": [],
   "source": [
    "with open('parameters_deterministic.json', 'w') as fp:\n",
    "    json.dump(samples_dict, fp)"
   ]
  },
  {
   "cell_type": "code",
   "execution_count": null,
   "metadata": {},
   "outputs": [],
   "source": [
    "R_0 =[]\n",
    "for i in range(len(samples_dict['beta'])):\n",
    "    R_0.append(sum((model.parameters['a']*model.parameters['da']+model.parameters['omega'])*samples_dict['beta'][i]*model.parameters['s']*np.sum(Nc_total,axis=1)*(initN/sum(initN))))\n",
    "\n",
    "plt.hist(R_0,bins=30)\n",
    "mean = np.mean(R_0)\n",
    "p10 = np.percentile(R_0,10)\n",
    "p90 = np.percentile(R_0,90)\n",
    "print(mean,p10,p90)"
   ]
  },
  {
   "cell_type": "code",
   "execution_count": null,
   "metadata": {},
   "outputs": [],
   "source": [
    "R_0 = np.zeros([initN.size,len(samples_dict['beta'])])\n",
    "for i in range(len(samples_dict['beta'])):\n",
    "    R_0[:,i]= (model.parameters['a']*model.parameters['da']+model.parameters['omega'])*samples_dict['beta'][i]*model.parameters['s']*np.sum(Nc_total,axis=1)\n",
    "plt.hist(R_0[8,:],bins=30)\n",
    "\n",
    "for i in range(R_0.shape[0]):\n",
    "    mean = np.mean(R_0[i,:])\n",
    "    p10 = np.percentile(R_0[i,:],10)\n",
    "    p90 = np.percentile(R_0[i,:],90)\n",
    "    print(mean,p10,p90)"
   ]
  }
 ],
 "metadata": {
  "kernelspec": {
   "display_name": "Python 3",
   "language": "python",
   "name": "python3"
  },
  "language_info": {
   "codemirror_mode": {
    "name": "ipython",
    "version": 3
   },
   "file_extension": ".py",
   "mimetype": "text/x-python",
   "name": "python",
   "nbconvert_exporter": "python",
   "pygments_lexer": "ipython3",
   "version": "3.8.2"
  },
  "toc": {
   "base_numbering": 1,
   "nav_menu": {},
   "number_sections": true,
   "sideBar": true,
   "skip_h1_title": false,
   "title_cell": "Table of Contents",
   "title_sidebar": "Contents",
   "toc_cell": false,
   "toc_position": {
    "height": "calc(100% - 180px)",
    "left": "10px",
    "top": "150px",
    "width": "288px"
   },
   "toc_section_display": true,
   "toc_window_display": true
  }
 },
 "nbformat": 4,
 "nbformat_minor": 4
}
