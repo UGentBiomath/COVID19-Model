{
 "cells": [
  {
   "cell_type": "markdown",
   "metadata": {},
   "source": [
    "**Calibration of the age-stratified deterministic model**\n",
    "\n",
    "*Original code by Ryan S. McGee. Modified by T.W. Alleman in consultation with the BIOMATH research unit headed by prof. Ingmar Nopens.*\n",
    "\n",
    "Copyright (c) 2020 by T.W. Alleman, BIOMATH, Ghent University. All Rights Reserved.\n",
    "\n",
    "This notebook accompanies our preprint: \"*A deterministic, age-stratified, extended SEIRD model for assessing the effect of non-pharmaceutical interventions on SARS-CoV-2 spread in Belgium*\"(https://doi.org/10.1101/2020.07.17.20156034)"
   ]
  },
  {
   "cell_type": "markdown",
   "metadata": {},
   "source": [
    "# Load required packages"
   ]
  },
  {
   "cell_type": "code",
   "execution_count": null,
   "metadata": {
    "ExecuteTime": {
     "end_time": "2020-08-18T05:56:38.422845Z",
     "start_time": "2020-08-18T05:56:35.483822Z"
    }
   },
   "outputs": [],
   "source": [
    "import random\n",
    "import os\n",
    "import numpy as np\n",
    "%matplotlib inline\n",
    "import matplotlib.pyplot as plt\n",
    "from IPython.display import Image\n",
    "from ipywidgets import interact,fixed,FloatSlider,IntSlider,ToggleButtons\n",
    "import pandas as pd\n",
    "import datetime\n",
    "import scipy\n",
    "from scipy.integrate import odeint\n",
    "import matplotlib.dates as mdates\n",
    "import matplotlib\n",
    "import scipy.stats as st\n",
    "\n",
    "import math\n",
    "import xarray as xr\n",
    "import emcee\n",
    "import json\n",
    "\n",
    "from covid19model.optimization import objective_fcns\n",
    "from covid19model.optimization import MCMC\n",
    "from covid19model.models import models\n",
    "from covid19model.data import google\n",
    "from covid19model.data import sciensano\n",
    "from covid19model.data import polymod\n",
    "from covid19model.data import parameters\n",
    "from covid19model.visualization.output import population_status, infected\n",
    "from covid19model.visualization.optimization import plot_fit, traceplot\n",
    "\n",
    "# OPTIONAL: Load the \"autoreload\" extension so that package code can change\n",
    "%load_ext autoreload\n",
    "# OPTIONAL: always reload modules so that as you change code in src, it gets loaded\n",
    "%autoreload 2"
   ]
  },
  {
   "cell_type": "markdown",
   "metadata": {},
   "source": [
    "# Load data"
   ]
  },
  {
   "cell_type": "code",
   "execution_count": 2,
   "metadata": {
    "ExecuteTime": {
     "end_time": "2020-08-18T05:56:38.479171Z",
     "start_time": "2020-08-18T05:56:38.429507Z"
    }
   },
   "outputs": [],
   "source": [
    "initN, Nc_home, Nc_work, Nc_schools, Nc_transport, Nc_leisure, Nc_others, Nc_total = polymod.get_interaction_matrices()\n",
    "levels = initN.size"
   ]
  },
  {
   "cell_type": "code",
   "execution_count": 3,
   "metadata": {
    "ExecuteTime": {
     "end_time": "2020-08-18T05:56:38.646170Z",
     "start_time": "2020-08-18T05:56:38.483001Z"
    },
    "collapsed": true
   },
   "outputs": [
    {
     "data": {
      "text/html": [
       "<div>\n",
       "<style scoped>\n",
       "    .dataframe tbody tr th:only-of-type {\n",
       "        vertical-align: middle;\n",
       "    }\n",
       "\n",
       "    .dataframe tbody tr th {\n",
       "        vertical-align: top;\n",
       "    }\n",
       "\n",
       "    .dataframe thead th {\n",
       "        text-align: right;\n",
       "    }\n",
       "</style>\n",
       "<table border=\"1\" class=\"dataframe\">\n",
       "  <thead>\n",
       "    <tr style=\"text-align: right;\">\n",
       "      <th></th>\n",
       "      <th>H_tot</th>\n",
       "      <th>ICU_tot</th>\n",
       "      <th>H_in</th>\n",
       "      <th>H_out</th>\n",
       "      <th>H_tot_cumsum</th>\n",
       "      <th>D_tot</th>\n",
       "      <th>D_25_44</th>\n",
       "      <th>D_45_64</th>\n",
       "      <th>D_65_74</th>\n",
       "      <th>D_75_84</th>\n",
       "      <th>D_85+</th>\n",
       "    </tr>\n",
       "    <tr>\n",
       "      <th>DATE</th>\n",
       "      <th></th>\n",
       "      <th></th>\n",
       "      <th></th>\n",
       "      <th></th>\n",
       "      <th></th>\n",
       "      <th></th>\n",
       "      <th></th>\n",
       "      <th></th>\n",
       "      <th></th>\n",
       "      <th></th>\n",
       "      <th></th>\n",
       "    </tr>\n",
       "  </thead>\n",
       "  <tbody>\n",
       "    <tr>\n",
       "      <th>2020-08-06</th>\n",
       "      <td>278</td>\n",
       "      <td>65</td>\n",
       "      <td>28</td>\n",
       "      <td>39</td>\n",
       "      <td>687</td>\n",
       "      <td>2</td>\n",
       "      <td>0.0</td>\n",
       "      <td>0.0</td>\n",
       "      <td>0</td>\n",
       "      <td>1.0</td>\n",
       "      <td>1</td>\n",
       "    </tr>\n",
       "    <tr>\n",
       "      <th>2020-08-07</th>\n",
       "      <td>285</td>\n",
       "      <td>69</td>\n",
       "      <td>27</td>\n",
       "      <td>28</td>\n",
       "      <td>686</td>\n",
       "      <td>4</td>\n",
       "      <td>0.0</td>\n",
       "      <td>0.0</td>\n",
       "      <td>0</td>\n",
       "      <td>1.0</td>\n",
       "      <td>3</td>\n",
       "    </tr>\n",
       "    <tr>\n",
       "      <th>2020-08-08</th>\n",
       "      <td>281</td>\n",
       "      <td>67</td>\n",
       "      <td>31</td>\n",
       "      <td>39</td>\n",
       "      <td>678</td>\n",
       "      <td>2</td>\n",
       "      <td>0.0</td>\n",
       "      <td>0.0</td>\n",
       "      <td>0</td>\n",
       "      <td>2.0</td>\n",
       "      <td>0</td>\n",
       "    </tr>\n",
       "    <tr>\n",
       "      <th>2020-08-09</th>\n",
       "      <td>285</td>\n",
       "      <td>69</td>\n",
       "      <td>20</td>\n",
       "      <td>14</td>\n",
       "      <td>684</td>\n",
       "      <td>4</td>\n",
       "      <td>1.0</td>\n",
       "      <td>0.0</td>\n",
       "      <td>0</td>\n",
       "      <td>1.0</td>\n",
       "      <td>2</td>\n",
       "    </tr>\n",
       "    <tr>\n",
       "      <th>2020-08-10</th>\n",
       "      <td>312</td>\n",
       "      <td>73</td>\n",
       "      <td>33</td>\n",
       "      <td>12</td>\n",
       "      <td>705</td>\n",
       "      <td>3</td>\n",
       "      <td>0.0</td>\n",
       "      <td>1.0</td>\n",
       "      <td>1</td>\n",
       "      <td>0.0</td>\n",
       "      <td>1</td>\n",
       "    </tr>\n",
       "  </tbody>\n",
       "</table>\n",
       "</div>"
      ],
      "text/plain": [
       "            H_tot  ICU_tot  H_in  H_out  H_tot_cumsum  D_tot  D_25_44  \\\n",
       "DATE                                                                    \n",
       "2020-08-06    278       65    28     39           687      2      0.0   \n",
       "2020-08-07    285       69    27     28           686      4      0.0   \n",
       "2020-08-08    281       67    31     39           678      2      0.0   \n",
       "2020-08-09    285       69    20     14           684      4      1.0   \n",
       "2020-08-10    312       73    33     12           705      3      0.0   \n",
       "\n",
       "            D_45_64  D_65_74  D_75_84  D_85+  \n",
       "DATE                                          \n",
       "2020-08-06      0.0        0      1.0      1  \n",
       "2020-08-07      0.0        0      1.0      3  \n",
       "2020-08-08      0.0        0      2.0      0  \n",
       "2020-08-09      0.0        0      1.0      2  \n",
       "2020-08-10      1.0        1      0.0      1  "
      ]
     },
     "execution_count": 3,
     "metadata": {},
     "output_type": "execute_result"
    }
   ],
   "source": [
    "df_sciensano = sciensano.get_sciensano_COVID19_data(update=False)\n",
    "df_sciensano.tail()"
   ]
  },
  {
   "cell_type": "code",
   "execution_count": 4,
   "metadata": {
    "ExecuteTime": {
     "end_time": "2020-08-18T05:56:38.797975Z",
     "start_time": "2020-08-18T05:56:38.697632Z"
    }
   },
   "outputs": [],
   "source": [
    "nonpublic_ts = pd.read_csv('../../data/interim/non_public/all_nonpublic_timeseries.csv', parse_dates=['DATE'])\n",
    "# deceased_hosp = nonpublic_ts[['DATE','deceased_hosp']].groupby('DATE').sum()['2020-03-15':].reset_index()\n",
    "# deceased_hosp['D_cumsum'] = deceased_hosp.deceased_hosp.cumsum()"
   ]
  },
  {
   "cell_type": "code",
   "execution_count": 5,
   "metadata": {
    "ExecuteTime": {
     "end_time": "2020-08-18T05:56:41.215775Z",
     "start_time": "2020-08-18T05:56:41.172182Z"
    },
    "scrolled": true
   },
   "outputs": [
    {
     "data": {
      "text/plain": [
       "array(['Antwerpen', 'Mechelen', 'Turnhout', 'Brussel-Hoofdstad',\n",
       "       'Halle-Vilvoorde', 'Leuven', 'Nijvel', 'Brugge', 'Diksmuide',\n",
       "       'Ieper', 'Kortrijk', 'Oostende', 'Roeselare', 'Tielt', 'Veurne',\n",
       "       'Aalst', 'Dendermonde', 'Eeklo', 'Gent', 'Oudenaarde',\n",
       "       'Sint-Niklaas', 'Aat', 'Charleroi', 'Bergen', 'Zinnik', 'Thuin',\n",
       "       'Doornik-Moeskroen', 'Hoei', 'Luik', 'Verviers', 'Borgworm',\n",
       "       'Hasselt', 'Maaseik', 'Tongeren', 'Aarlen', 'Bastenaken',\n",
       "       'Marche-en-Famenne', 'Neufchâteau', 'Virton', 'Dinant', 'Namen',\n",
       "       'Philippeville'], dtype=object)"
      ]
     },
     "execution_count": 5,
     "metadata": {},
     "output_type": "execute_result"
    }
   ],
   "source": [
    "nonpublic_ts.Arrondissement.unique()"
   ]
  },
  {
   "cell_type": "code",
   "execution_count": null,
   "metadata": {
    "ExecuteTime": {
     "end_time": "2020-08-17T19:35:14.587895Z",
     "start_time": "2020-08-17T19:35:14.520930Z"
    }
   },
   "outputs": [],
   "source": [
    "nonpublic_ts.tail()"
   ]
  },
  {
   "cell_type": "code",
   "execution_count": null,
   "metadata": {
    "ExecuteTime": {
     "end_time": "2020-08-17T19:37:55.862162Z",
     "start_time": "2020-08-17T19:37:55.825285Z"
    }
   },
   "outputs": [],
   "source": [
    "# H_in = nonpublic_ts[['DATE','hospitalised_IN']].groupby('DATE').sum()['2020-03-15':].reset_index()\n",
    "\n",
    "# fig,ax = plt.subplots()\n",
    "# H_in.plot('DATE','hospitalised_IN', ax=ax)\n",
    "# df_sciensano.reset_index().plot('DATE', 'H_in', ax=ax)"
   ]
  },
  {
   "cell_type": "code",
   "execution_count": 69,
   "metadata": {
    "ExecuteTime": {
     "end_time": "2020-08-18T07:13:52.209602Z",
     "start_time": "2020-08-18T07:13:52.172235Z"
    }
   },
   "outputs": [],
   "source": [
    "arrondissement = 'Gent'\n",
    "readin_date = '2020-08-17' #str(datetime.date.today()) #'2020-08-17'"
   ]
  },
  {
   "cell_type": "code",
   "execution_count": 70,
   "metadata": {
    "ExecuteTime": {
     "end_time": "2020-08-18T07:13:52.552301Z",
     "start_time": "2020-08-18T07:13:52.504344Z"
    }
   },
   "outputs": [],
   "source": [
    "arrond_ts = nonpublic_ts.pivot(index='DATE', columns='Arrondissement', values='hospitalised_IN')[arrondissement]"
   ]
  },
  {
   "cell_type": "code",
   "execution_count": 71,
   "metadata": {
    "ExecuteTime": {
     "end_time": "2020-08-18T07:13:54.738487Z",
     "start_time": "2020-08-18T07:13:54.510127Z"
    }
   },
   "outputs": [
    {
     "data": {
      "text/plain": [
       "<matplotlib.axes._subplots.AxesSubplot at 0x1141698b0>"
      ]
     },
     "execution_count": 71,
     "metadata": {},
     "output_type": "execute_result"
    },
    {
     "data": {
      "image/png": "[encoded data removed]",
      "text/plain": [
       "<Figure size 432x288 with 1 Axes>"
      ]
     },
     "metadata": {
      "needs_background": "light"
     },
     "output_type": "display_data"
    }
   ],
   "source": [
    "arrond_ts.plot()"
   ]
  },
  {
   "cell_type": "markdown",
   "metadata": {},
   "source": [
    "# Initialize the model"
   ]
  },
  {
   "cell_type": "code",
   "execution_count": 16,
   "metadata": {
    "ExecuteTime": {
     "end_time": "2020-08-18T05:58:38.234242Z",
     "start_time": "2020-08-18T05:58:38.166797Z"
    }
   },
   "outputs": [],
   "source": [
    "# Load the parameters using `get_COVID19_SEIRD_parameters()`.\n",
    "params = parameters.get_COVID19_SEIRD_parameters()\n",
    "# Add the delayed ramp parameters to the parameter dictionary.\n",
    "params.update({'l': 1,\n",
    "              'tau': 5})\n",
    "# Define the initial condition: one exposed inidividual in every age category\n",
    "initial_states = {'S': initN, 'E': np.ones(levels)}\n",
    "# Load the compliance model\n",
    "from covid19model.models.compliance import ramp_2\n",
    "# Initialize the model\n",
    "model = models.COVID19_SEIRD(initial_states, params, compliance=ramp_2)"
   ]
  },
  {
   "cell_type": "markdown",
   "metadata": {},
   "source": [
    "# Calibration function"
   ]
  },
  {
   "cell_type": "code",
   "execution_count": null,
   "metadata": {},
   "outputs": [],
   "source": []
  },
  {
   "cell_type": "code",
   "execution_count": null,
   "metadata": {},
   "outputs": [],
   "source": []
  },
  {
   "cell_type": "markdown",
   "metadata": {},
   "source": [
    "# Policies translated to checkpoints"
   ]
  },
  {
   "cell_type": "markdown",
   "metadata": {},
   "source": [
    "chk_beta_pso = {   \n",
    "    'time':  [lag_time],    \n",
    "    'Nc':    [0.2 *Nc_home + ((1-0.70) *Nc_work + (1-0.80) *Nc_transport)],   \n",
    "}"
   ]
  },
  {
   "cell_type": "markdown",
   "metadata": {},
   "source": [
    "Hier geen school want alles dicht van 15 tot 22 maart!"
   ]
  },
  {
   "cell_type": "markdown",
   "metadata": {
    "ExecuteTime": {
     "end_time": "2020-08-11T13:16:18.653938Z",
     "start_time": "2020-08-11T13:16:18.518835Z"
    }
   },
   "source": [
    "chk_beta_MCMC = {   \n",
    "    'time':  [lag_time],   \n",
    "    'Nc':    [prevention *(1.0 *Nc_home + (1-0.60) *Nc_work + (1-0.70) *Nc_transport +(1-0.30) *Nc_others + (1-0.80) *Nc_leisure)],   \n",
    "}"
   ]
  },
  {
   "cell_type": "markdown",
   "metadata": {},
   "source": [
    "tot 20 april nog steeds geen school!"
   ]
  },
  {
   "cell_type": "markdown",
   "metadata": {},
   "source": [
    "chk_ramp_MCMC also used for final plot"
   ]
  },
  {
   "cell_type": "markdown",
   "metadata": {},
   "source": [
    "# Calibrating $\\beta$ and lag_time\n",
    "\n",
    "**Skip this section when parameters were previously calibrated**\n",
    "\n",
    "Use the function `fit_pso` to obtain a good starting estimate for the MCMC sampler."
   ]
  },
  {
   "cell_type": "markdown",
   "metadata": {},
   "source": [
    "JV: \n",
    "- **lag_time = excess time?**\n",
    "- sigma_H_in = variance on the data (**waarom moet dit geschat worden?**)"
   ]
  },
  {
   "cell_type": "code",
   "execution_count": 17,
   "metadata": {
    "ExecuteTime": {
     "end_time": "2020-08-18T05:58:42.444095Z",
     "start_time": "2020-08-18T05:58:42.405309Z"
    }
   },
   "outputs": [],
   "source": [
    "start_date = '2020-03-15'\n",
    "end_beta = '2020-03-22'\n",
    "end_ramp = '2020-04-20'"
   ]
  },
  {
   "cell_type": "markdown",
   "metadata": {},
   "source": [
    "## Initial guess with PSO"
   ]
  },
  {
   "cell_type": "code",
   "execution_count": 18,
   "metadata": {
    "ExecuteTime": {
     "end_time": "2020-08-18T06:00:24.623981Z",
     "start_time": "2020-08-18T05:58:44.049553Z"
    },
    "scrolled": true
   },
   "outputs": [
    {
     "name": "stdout",
     "output_type": "stream",
     "text": [
      "No constraints given.\n",
      "Best after iteration 1: [9.64565440e+00 3.66524647e+01 2.69731887e-02] 21.242623474538128\n",
      "Best after iteration 2: [9.64565440e+00 3.66524647e+01 2.69731887e-02] 21.242623474538128\n",
      "New best for swarm at iteration 3: [1.00000000e+00 5.37034692e+01 2.66133719e-02] 16.382795138433274\n",
      "Best after iteration 3: [1.00000000e+00 5.37034692e+01 2.66133719e-02] 16.382795138433274\n",
      "Best after iteration 4: [1.00000000e+00 5.37034692e+01 2.66133719e-02] 16.382795138433274\n",
      "New best for swarm at iteration 5: [1.00000000e+00 6.00000000e+01 2.44453226e-02] 12.813388645115069\n",
      "Best after iteration 5: [1.00000000e+00 6.00000000e+01 2.44453226e-02] 12.813388645115069\n",
      "Best after iteration 6: [1.00000000e+00 6.00000000e+01 2.44453226e-02] 12.813388645115069\n",
      "New best for swarm at iteration 7: [3.70941187e+00 5.40837742e+01 2.61060926e-02] 11.566716986372942\n",
      "Best after iteration 7: [3.70941187e+00 5.40837742e+01 2.61060926e-02] 11.566716986372942\n",
      "Best after iteration 8: [3.70941187e+00 5.40837742e+01 2.61060926e-02] 11.566716986372942\n",
      "Best after iteration 9: [3.70941187e+00 5.40837742e+01 2.61060926e-02] 11.566716986372942\n",
      "Best after iteration 10: [3.70941187e+00 5.40837742e+01 2.61060926e-02] 11.566716986372942\n",
      "Best after iteration 11: [3.70941187e+00 5.40837742e+01 2.61060926e-02] 11.566716986372942\n",
      "Best after iteration 12: [3.70941187e+00 5.40837742e+01 2.61060926e-02] 11.566716986372942\n",
      "New best for swarm at iteration 13: [2.37795842e+00 5.52420617e+01 2.62784669e-02] 9.889803966364589\n",
      "Best after iteration 13: [2.37795842e+00 5.52420617e+01 2.62784669e-02] 9.889803966364589\n",
      "New best for swarm at iteration 14: [1.92768218e+00 5.35165335e+01 2.65491623e-02] 9.244874861587821\n",
      "Best after iteration 14: [1.92768218e+00 5.35165335e+01 2.65491623e-02] 9.244874861587821\n",
      "Best after iteration 15: [1.92768218e+00 5.35165335e+01 2.65491623e-02] 9.244874861587821\n",
      "Best after iteration 16: [1.92768218e+00 5.35165335e+01 2.65491623e-02] 9.244874861587821\n",
      "New best for swarm at iteration 17: [1.70380601e+00 5.75686448e+01 2.51465200e-02] 8.762478345422144\n",
      "Best after iteration 17: [1.70380601e+00 5.75686448e+01 2.51465200e-02] 8.762478345422144\n",
      "Best after iteration 18: [1.70380601e+00 5.75686448e+01 2.51465200e-02] 8.762478345422144\n",
      "Best after iteration 19: [1.70380601e+00 5.75686448e+01 2.51465200e-02] 8.762478345422144\n",
      "New best for swarm at iteration 20: [1.92359958e+00 5.89738233e+01 2.47049512e-02] 8.758899243674067\n",
      "Best after iteration 20: [1.92359958e+00 5.89738233e+01 2.47049512e-02] 8.758899243674067\n",
      "New best for swarm at iteration 21: [1.66715314e+00 5.81492945e+01 2.50528409e-02] 8.642182860735652\n",
      "Best after iteration 21: [1.66715314e+00 5.81492945e+01 2.50528409e-02] 8.642182860735652\n",
      "Best after iteration 22: [1.66715314e+00 5.81492945e+01 2.50528409e-02] 8.642182860735652\n",
      "New best for swarm at iteration 23: [1.8302093e+00 5.6628456e+01 2.5370652e-02] 8.611937494706973\n",
      "Best after iteration 23: [1.8302093e+00 5.6628456e+01 2.5370652e-02] 8.611937494706973\n",
      "Best after iteration 24: [1.8302093e+00 5.6628456e+01 2.5370652e-02] 8.611937494706973\n",
      "Best after iteration 25: [1.8302093e+00 5.6628456e+01 2.5370652e-02] 8.611937494706973\n",
      "New best for swarm at iteration 26: [1.77357262e+00 5.74876156e+01 2.53713794e-02] 8.605799729860404\n",
      "Best after iteration 26: [1.77357262e+00 5.74876156e+01 2.53713794e-02] 8.605799729860404\n",
      "Best after iteration 27: [1.77357262e+00 5.74876156e+01 2.53713794e-02] 8.605799729860404\n",
      "Best after iteration 28: [1.77357262e+00 5.74876156e+01 2.53713794e-02] 8.605799729860404\n",
      "Best after iteration 29: [1.77357262e+00 5.74876156e+01 2.53713794e-02] 8.605799729860404\n",
      "New best for swarm at iteration 30: [1.79038217e+00 5.74853414e+01 2.53670212e-02] 8.604634006429235\n",
      "Best after iteration 30: [1.79038217e+00 5.74853414e+01 2.53670212e-02] 8.604634006429235\n",
      "New best for swarm at iteration 31: [1.77040864e+00 5.72302220e+01 2.53562159e-02] 8.603315692491556\n",
      "Best after iteration 31: [1.77040864e+00 5.72302220e+01 2.53562159e-02] 8.603315692491556\n",
      "Best after iteration 32: [1.77040864e+00 5.72302220e+01 2.53562159e-02] 8.603315692491556\n",
      "Best after iteration 33: [1.77040864e+00 5.72302220e+01 2.53562159e-02] 8.603315692491556\n",
      "Best after iteration 34: [1.77040864e+00 5.72302220e+01 2.53562159e-02] 8.603315692491556\n",
      "New best for swarm at iteration 35: [1.77663025e+00 5.68478885e+01 2.53595994e-02] 8.603119488596452\n",
      "Best after iteration 35: [1.77663025e+00 5.68478885e+01 2.53595994e-02] 8.603119488596452\n",
      "Best after iteration 36: [1.77663025e+00 5.68478885e+01 2.53595994e-02] 8.603119488596452\n",
      "Best after iteration 37: [1.77663025e+00 5.68478885e+01 2.53595994e-02] 8.603119488596452\n",
      "Best after iteration 38: [1.77663025e+00 5.68478885e+01 2.53595994e-02] 8.603119488596452\n",
      "Best after iteration 39: [1.77663025e+00 5.68478885e+01 2.53595994e-02] 8.603119488596452\n",
      "Best after iteration 40: [1.77663025e+00 5.68478885e+01 2.53595994e-02] 8.603119488596452\n",
      "Best after iteration 41: [1.77663025e+00 5.68478885e+01 2.53595994e-02] 8.603119488596452\n",
      "New best for swarm at iteration 42: [1.77859856e+00 5.72696491e+01 2.53596277e-02] 8.603118436116388\n",
      "Best after iteration 42: [1.77859856e+00 5.72696491e+01 2.53596277e-02] 8.603118436116388\n",
      "Best after iteration 43: [1.77859856e+00 5.72696491e+01 2.53596277e-02] 8.603118436116388\n",
      "Best after iteration 44: [1.77859856e+00 5.72696491e+01 2.53596277e-02] 8.603118436116388\n",
      "New best for swarm at iteration 45: [1.77855692e+00 5.72538055e+01 2.53589816e-02] 8.60310110064414\n",
      "Best after iteration 45: [1.77855692e+00 5.72538055e+01 2.53589816e-02] 8.60310110064414\n",
      "Best after iteration 46: [1.77855692e+00 5.72538055e+01 2.53589816e-02] 8.60310110064414\n",
      "Best after iteration 47: [1.77855692e+00 5.72538055e+01 2.53589816e-02] 8.60310110064414\n",
      "New best for swarm at iteration 48: [1.77836492e+00 5.70517095e+01 2.53580800e-02] 8.603098531881212\n",
      "Best after iteration 48: [1.77836492e+00 5.70517095e+01 2.53580800e-02] 8.603098531881212\n",
      "Best after iteration 49: [1.77836492e+00 5.70517095e+01 2.53580800e-02] 8.603098531881212\n",
      "Best after iteration 50: [1.77836492e+00 5.70517095e+01 2.53580800e-02] 8.603098531881212\n",
      "Stopping search: maximum iterations reached --> 50\n"
     ]
    }
   ],
   "source": [
    "# define dataset\n",
    "data=[arrond_ts[start_date:end_beta]]\n",
    "# set optimisation settings\n",
    "parNames = ['sigma_H_in','extraTime','beta'] # must be a list!\n",
    "states = [[\"H_in\"]]\n",
    "bounds=((1,100),(30,60),(0.02,0.06)) # must be a list!\n",
    "# run optimisation\n",
    "theta = MCMC.fit_pso(model,data,parNames,states,bounds,maxiter=50,popsize=50)"
   ]
  },
  {
   "cell_type": "code",
   "execution_count": 19,
   "metadata": {
    "ExecuteTime": {
     "end_time": "2020-08-18T06:11:47.362368Z",
     "start_time": "2020-08-18T06:11:47.271877Z"
    }
   },
   "outputs": [],
   "source": [
    "lag_time = int(round(theta[1]))\n",
    "# Assign 'extraTime' or lag_time as a model attribute --> is needed to perform the optimalization\n",
    "model.extraTime = int(round(theta[1]))\n",
    "\n",
    "model.parameters.update({\n",
    "    'beta': theta[2],\n",
    "}\n",
    ")"
   ]
  },
  {
   "cell_type": "markdown",
   "metadata": {},
   "source": [
    "## MCMC calibration"
   ]
  },
  {
   "cell_type": "code",
   "execution_count": 20,
   "metadata": {
    "ExecuteTime": {
     "end_time": "2020-08-18T06:16:29.976380Z",
     "start_time": "2020-08-18T06:12:01.271965Z"
    }
   },
   "outputs": [
    {
     "name": "stderr",
     "output_type": "stream",
     "text": [
      "  0%|          | 0/1000 [00:00<?, ?it/s]/Applications/miniconda3/envs/work/lib/python3.8/site-packages/emcee/moves/red_blue.py:99: RuntimeWarning: invalid value encountered in double_scalars\n",
      "  lnpdiff = f + nlp - state.log_prob[j]\n",
      "100%|██████████| 1000/1000 [04:28<00:00,  3.73it/s]\n"
     ]
    }
   ],
   "source": [
    "parNames = ['sigma_ICU','beta'] # must be a list!\n",
    "bounds=((1,200),(0.01,0.10))\n",
    "\n",
    "pos = [theta[0],theta[2]] + [1, 1e-2 ]* np.random.randn(4, 2)\n",
    "nwalkers, ndim = pos.shape\n",
    "sampler = emcee.EnsembleSampler(nwalkers, ndim, objective_fcns.log_probability,\n",
    "                                args=(model,bounds,data,states,parNames))\n",
    "sampler.run_mcmc(pos, 1000, progress=True); # nsteps=1000 ipv 10,000"
   ]
  },
  {
   "cell_type": "code",
   "execution_count": 21,
   "metadata": {
    "ExecuteTime": {
     "end_time": "2020-08-18T06:25:23.444436Z",
     "start_time": "2020-08-18T06:25:23.330932Z"
    }
   },
   "outputs": [],
   "source": [
    "samples = sampler.get_chain(discard=100,flat=False)\n",
    "flat_samples = sampler.get_chain(discard=100,flat=True)"
   ]
  },
  {
   "cell_type": "code",
   "execution_count": null,
   "metadata": {
    "ExecuteTime": {
     "end_time": "2020-08-17T20:27:46.683437Z",
     "start_time": "2020-08-17T20:27:46.610599Z"
    },
    "scrolled": true
   },
   "outputs": [],
   "source": [
    "sampler.get_autocorr_time()"
   ]
  },
  {
   "cell_type": "code",
   "execution_count": 22,
   "metadata": {
    "ExecuteTime": {
     "end_time": "2020-08-18T06:25:25.911038Z",
     "start_time": "2020-08-18T06:25:25.859679Z"
    }
   },
   "outputs": [
    {
     "name": "stdout",
     "output_type": "stream",
     "text": [
      "0.02528870818652045 0.0249474184999343 0.025585010467142604\n"
     ]
    }
   ],
   "source": [
    "mean = np.mean(flat_samples[:,1])\n",
    "p10 = np.percentile(flat_samples[:,1],10)\n",
    "p90 = np.percentile(flat_samples[:,1],90)\n",
    "print(mean,p10,p90)"
   ]
  },
  {
   "cell_type": "markdown",
   "metadata": {},
   "source": [
    "Initialize a dictionary of samples and write them to `parameters.json`"
   ]
  },
  {
   "cell_type": "code",
   "execution_count": 23,
   "metadata": {
    "ExecuteTime": {
     "end_time": "2020-08-18T06:25:27.645296Z",
     "start_time": "2020-08-18T06:25:27.596467Z"
    }
   },
   "outputs": [],
   "source": [
    "samples_dict={'lag_time': int(round(theta[1])), 'beta': flat_samples[:,1].tolist(), \n",
    "              'start_date':start_date, 'end_beta':end_beta,\n",
    "              'calibration_data':'H_in'}"
   ]
  },
  {
   "cell_type": "code",
   "execution_count": 25,
   "metadata": {
    "ExecuteTime": {
     "end_time": "2020-08-18T06:25:36.831214Z",
     "start_time": "2020-08-18T06:25:36.775588Z"
    }
   },
   "outputs": [],
   "source": [
    "with open('../../data/interim/model_parameters/arrondissements/'+arrondissement+'_'+str(datetime.date.today())+'.json', 'w') as fp:\n",
    "    json.dump(samples_dict, fp)"
   ]
  },
  {
   "cell_type": "markdown",
   "metadata": {},
   "source": [
    "Make some diagnostic visualisations"
   ]
  },
  {
   "cell_type": "code",
   "execution_count": 26,
   "metadata": {
    "ExecuteTime": {
     "end_time": "2020-08-18T06:25:39.292140Z",
     "start_time": "2020-08-18T06:25:38.903852Z"
    }
   },
   "outputs": [
    {
     "data": {
      "text/plain": [
       "<matplotlib.axes._subplots.AxesSubplot at 0x1188ec610>"
      ]
     },
     "execution_count": 26,
     "metadata": {},
     "output_type": "execute_result"
    },
    {
     "data": {
      "image/png": "[encoded data removed]",
      "text/plain": [
       "<Figure size 720x336 with 2 Axes>"
      ]
     },
     "metadata": {
      "needs_background": "light"
     },
     "output_type": "display_data"
    }
   ],
   "source": [
    "traceplot(samples,labels=[\"sigma2_ICU\",\"beta\"],plt_kwargs={'linewidth':2,'color': 'red','alpha': 0.15})"
   ]
  },
  {
   "cell_type": "code",
   "execution_count": null,
   "metadata": {
    "ExecuteTime": {
     "end_time": "2020-08-17T07:41:15.929771Z",
     "start_time": "2020-08-17T07:41:15.881313Z"
    }
   },
   "outputs": [],
   "source": [
    "import corner\n",
    "\n",
    "fig = corner.corner(\n",
    "    flat_samples,labels=['$\\sigma_{data}$','$\\\\beta$']\n",
    ");\n",
    "fig.set_size_inches(8, 8)\n",
    "plt.savefig('corner_beta.pdf', dpi=600, bbox_inches='tight',\n",
    "                    orientation='portrait', papertype='a4')"
   ]
  },
  {
   "cell_type": "code",
   "execution_count": null,
   "metadata": {
    "ExecuteTime": {
     "end_time": "2020-08-17T20:28:04.807456Z",
     "start_time": "2020-08-17T20:27:59.448909Z"
    }
   },
   "outputs": [],
   "source": [
    "T = 9\n",
    "fig,ax=plt.subplots()\n",
    "\n",
    "for i in range(100):\n",
    "    model.parameters['beta'] = np.random.choice(samples_dict['beta'],1,replace=False)\n",
    "    y_model = model.sim(data[0].size+lag_time-1+T)\n",
    "    ax = plot_fit(y_model,data,start_date,lag_time,states,T=T,ax=ax,plt_kwargs={'color':'blue','linewidth': 2,'alpha': 0.05})\n",
    "\n",
    "plt.scatter(pd.date_range('15-03-2020',freq='D',periods=df_sciensano[\"H_in\"][8:18].size)+datetime.timedelta(days=data[0].size),df_sciensano[\"H_in\"][8:18], marker='o',color='red',linestyle='None',facecolors='none')\n",
    "#legend_text=['daily \\nhospitalizations']\n",
    "#leg=ax.legend(legend_text, loc=\"upper left\", bbox_to_anchor=(1,1))\n",
    "#plt.savefig('plot_fit_beta.pdf', dpi=600, bbox_inches='tight',orientation='portrait', papertype='a4')"
   ]
  },
  {
   "cell_type": "markdown",
   "metadata": {},
   "source": [
    "# Calibrating the compliance ramp parameters"
   ]
  },
  {
   "cell_type": "markdown",
   "metadata": {},
   "source": [
    "## Loading $\\beta$ and lag_time\n",
    "\n",
    "Load the previously calibrated parameters."
   ]
  },
  {
   "cell_type": "code",
   "execution_count": 72,
   "metadata": {
    "ExecuteTime": {
     "end_time": "2020-08-18T07:13:58.432596Z",
     "start_time": "2020-08-18T07:13:58.294284Z"
    }
   },
   "outputs": [],
   "source": [
    "with open('../../data/interim/model_parameters/arrondissements/'+arrondissement+'_'+readin_date+'.json', 'r') as fp:\n",
    "    samples_dict = json.load(fp)\n",
    "\n",
    "lag_time = samples_dict['lag_time']\n",
    "model.extraTime = samples_dict['lag_time']\n",
    "model.parameters['beta'] = np.mean(samples_dict['beta'])"
   ]
  },
  {
   "cell_type": "code",
   "execution_count": 74,
   "metadata": {
    "ExecuteTime": {
     "end_time": "2020-08-18T07:14:08.557290Z",
     "start_time": "2020-08-18T07:14:08.518314Z"
    }
   },
   "outputs": [
    {
     "data": {
      "text/plain": [
       "dict_keys(['lag_time', 'beta', 'start_date', 'end_beta', 'calibration_data'])"
      ]
     },
     "execution_count": 74,
     "metadata": {},
     "output_type": "execute_result"
    }
   ],
   "source": [
    "samples_dict.keys()"
   ]
  },
  {
   "cell_type": "code",
   "execution_count": 63,
   "metadata": {
    "ExecuteTime": {
     "end_time": "2020-08-18T07:11:25.090356Z",
     "start_time": "2020-08-18T07:11:25.045069Z"
    }
   },
   "outputs": [],
   "source": [
    "samples_beta = {'beta': samples_dict['beta']}"
   ]
  },
  {
   "cell_type": "markdown",
   "metadata": {},
   "source": [
    "## Initial guess with PSO"
   ]
  },
  {
   "cell_type": "code",
   "execution_count": 30,
   "metadata": {
    "ExecuteTime": {
     "end_time": "2020-08-18T06:28:56.830434Z",
     "start_time": "2020-08-18T06:25:45.472015Z"
    }
   },
   "outputs": [
    {
     "name": "stdout",
     "output_type": "stream",
     "text": [
      "No constraints given.\n",
      "Best after iteration 1: [6.8011121  4.60733059 4.17679151 0.09638871] 87.80206933719248\n",
      "Best after iteration 2: [6.8011121  4.60733059 4.17679151 0.09638871] 87.80206933719248\n",
      "Best after iteration 3: [6.8011121  4.60733059 4.17679151 0.09638871] 87.80206933719248\n",
      "Best after iteration 4: [6.8011121  4.60733059 4.17679151 0.09638871] 87.80206933719248\n",
      "Best after iteration 5: [6.8011121  4.60733059 4.17679151 0.09638871] 87.80206933719248\n",
      "New best for swarm at iteration 6: [7.37786547 5.39540745 6.40386508 0.        ] 87.1527243912132\n",
      "Best after iteration 6: [7.37786547 5.39540745 6.40386508 0.        ] 87.1527243912132\n",
      "New best for swarm at iteration 7: [7.85788232 3.93666821 4.21404088 0.02330458] 87.12074922532958\n",
      "Best after iteration 7: [7.85788232 3.93666821 4.21404088 0.02330458] 87.12074922532958\n",
      "Best after iteration 8: [7.85788232 3.93666821 4.21404088 0.02330458] 87.12074922532958\n",
      "Best after iteration 9: [7.85788232 3.93666821 4.21404088 0.02330458] 87.12074922532958\n",
      "New best for swarm at iteration 10: [6.85983327 3.45988176 4.44844565 0.13111652] 85.78332232873626\n",
      "Best after iteration 10: [6.85983327 3.45988176 4.44844565 0.13111652] 85.78332232873626\n",
      "New best for swarm at iteration 11: [4.63120397 5.95159986 4.25789938 0.12251019] 83.12477382601104\n",
      "Best after iteration 11: [4.63120397 5.95159986 4.25789938 0.12251019] 83.12477382601104\n",
      "New best for swarm at iteration 12: [5.52018151 1.09878319 7.15612368 0.17676079] 81.54665659058529\n",
      "Best after iteration 12: [5.52018151 1.09878319 7.15612368 0.17676079] 81.54665659058529\n",
      "Best after iteration 13: [5.52018151 1.09878319 7.15612368 0.17676079] 81.54665659058529\n",
      "Best after iteration 14: [5.52018151 1.09878319 7.15612368 0.17676079] 81.54665659058529\n",
      "Best after iteration 15: [5.52018151 1.09878319 7.15612368 0.17676079] 81.54665659058529\n",
      "Best after iteration 16: [5.52018151 1.09878319 7.15612368 0.17676079] 81.54665659058529\n",
      "New best for swarm at iteration 17: [5.65829812 0.80479321 6.95251565 0.22559258] 81.4295124692256\n",
      "Best after iteration 17: [5.65829812 0.80479321 6.95251565 0.22559258] 81.4295124692256\n",
      "New best for swarm at iteration 18: [5.66236818 1.53602225 5.72908464 0.19963831] 80.09553295942182\n",
      "Best after iteration 18: [5.66236818 1.53602225 5.72908464 0.19963831] 80.09553295942182\n",
      "New best for swarm at iteration 19: [5.39190571 1.07294718 5.23307415 0.17119686] 78.49042494789572\n",
      "Best after iteration 19: [5.39190571 1.07294718 5.23307415 0.17119686] 78.49042494789572\n",
      "Best after iteration 20: [5.39190571 1.07294718 5.23307415 0.17119686] 78.49042494789572\n",
      "Best after iteration 21: [5.39190571 1.07294718 5.23307415 0.17119686] 78.49042494789572\n",
      "Best after iteration 22: [5.39190571 1.07294718 5.23307415 0.17119686] 78.49042494789572\n",
      "Best after iteration 23: [5.39190571 1.07294718 5.23307415 0.17119686] 78.49042494789572\n",
      "Best after iteration 24: [5.39190571 1.07294718 5.23307415 0.17119686] 78.49042494789572\n",
      "Best after iteration 25: [5.39190571 1.07294718 5.23307415 0.17119686] 78.49042494789572\n",
      "Best after iteration 26: [5.39190571 1.07294718 5.23307415 0.17119686] 78.49042494789572\n",
      "Best after iteration 27: [5.39190571 1.07294718 5.23307415 0.17119686] 78.49042494789572\n",
      "Best after iteration 28: [5.39190571 1.07294718 5.23307415 0.17119686] 78.49042494789572\n",
      "Best after iteration 29: [5.39190571 1.07294718 5.23307415 0.17119686] 78.49042494789572\n",
      "Best after iteration 30: [5.39190571 1.07294718 5.23307415 0.17119686] 78.49042494789572\n",
      "Best after iteration 31: [5.39190571 1.07294718 5.23307415 0.17119686] 78.49042494789572\n",
      "Best after iteration 32: [5.39190571 1.07294718 5.23307415 0.17119686] 78.49042494789572\n",
      "Best after iteration 33: [5.39190571 1.07294718 5.23307415 0.17119686] 78.49042494789572\n",
      "Best after iteration 34: [5.39190571 1.07294718 5.23307415 0.17119686] 78.49042494789572\n",
      "Best after iteration 35: [5.39190571 1.07294718 5.23307415 0.17119686] 78.49042494789572\n",
      "Best after iteration 36: [5.39190571 1.07294718 5.23307415 0.17119686] 78.49042494789572\n",
      "Best after iteration 37: [5.39190571 1.07294718 5.23307415 0.17119686] 78.49042494789572\n",
      "Best after iteration 38: [5.39190571 1.07294718 5.23307415 0.17119686] 78.49042494789572\n",
      "Best after iteration 39: [5.39190571 1.07294718 5.23307415 0.17119686] 78.49042494789572\n",
      "Best after iteration 40: [5.39190571 1.07294718 5.23307415 0.17119686] 78.49042494789572\n",
      "Best after iteration 41: [5.39190571 1.07294718 5.23307415 0.17119686] 78.49042494789572\n",
      "Best after iteration 42: [5.39190571 1.07294718 5.23307415 0.17119686] 78.49042494789572\n",
      "Best after iteration 43: [5.39190571 1.07294718 5.23307415 0.17119686] 78.49042494789572\n",
      "Best after iteration 44: [5.39190571 1.07294718 5.23307415 0.17119686] 78.49042494789572\n",
      "Best after iteration 45: [5.39190571 1.07294718 5.23307415 0.17119686] 78.49042494789572\n",
      "Best after iteration 46: [5.39190571 1.07294718 5.23307415 0.17119686] 78.49042494789572\n",
      "Best after iteration 47: [5.39190571 1.07294718 5.23307415 0.17119686] 78.49042494789572\n",
      "Best after iteration 48: [5.39190571 1.07294718 5.23307415 0.17119686] 78.49042494789572\n",
      "Best after iteration 49: [5.39190571 1.07294718 5.23307415 0.17119686] 78.49042494789572\n",
      "Best after iteration 50: [5.39190571 1.07294718 5.23307415 0.17119686] 78.49042494789572\n",
      "Stopping search: maximum iterations reached --> 50\n"
     ]
    }
   ],
   "source": [
    "# Create checkpoints dictionary\n",
    "chk_beta_pso = {\n",
    "    'time':  [lag_time], \n",
    "    'Nc':    [0.2*Nc_home + 0.3*Nc_work + 0.2*Nc_transport],\n",
    "}\n",
    "# define dataset\n",
    "data=[arrond_ts[start_date:end_ramp]]\n",
    "# set optimisation settings\n",
    "parNames = ['sigma_H_in','l','tau','prevention'] # must be a list!\n",
    "states = [[\"H_in\"]]\n",
    "bounds=((1,100),(0.1,20),(0,20),(0,1)) # must be a list!\n",
    "# run optimisation\n",
    "theta = MCMC.fit_pso(model,data,parNames,states,bounds,checkpoints=chk_beta_pso,samples=samples_beta,maxiter=50,popsize=50)"
   ]
  },
  {
   "cell_type": "code",
   "execution_count": 31,
   "metadata": {
    "ExecuteTime": {
     "end_time": "2020-08-18T06:29:45.464319Z",
     "start_time": "2020-08-18T06:29:45.324377Z"
    }
   },
   "outputs": [],
   "source": [
    "model.parameters.update({\n",
    "    'l': theta[1],\n",
    "    'tau': theta[2]\n",
    "\n",
    "}\n",
    ")\n",
    "prevention = theta[2]\n",
    "# Create checkpoints dictionary\n",
    "chk_beta_MCMC = {\n",
    "    'time':  [lag_time], \n",
    "    'Nc':    [prevention*(1.0*Nc_home + 0.4*Nc_work + 0.3*Nc_transport + 0.7*Nc_others\n",
    "                          + 0.2*Nc_leisure)],\n",
    "}"
   ]
  },
  {
   "cell_type": "markdown",
   "metadata": {},
   "source": [
    "## MCMC calibration"
   ]
  },
  {
   "cell_type": "code",
   "execution_count": 35,
   "metadata": {
    "ExecuteTime": {
     "end_time": "2020-08-18T06:30:11.059251Z",
     "start_time": "2020-08-18T06:30:11.016515Z"
    }
   },
   "outputs": [],
   "source": [
    "bounds=((1,100),(0.001,20),(0,20),(0,1)) # must be a list!\n",
    "pos = theta + [1, 0.1, 0.1, 0.1 ]* np.random.randn(8, 4)\n",
    "nwalkers, ndim = pos.shape\n",
    "sampler = emcee.EnsembleSampler(nwalkers, ndim, objective_fcns.log_probability,\n",
    "                                args=(model,bounds,data,states,parNames,chk_beta_MCMC,samples_beta))\n"
   ]
  },
  {
   "cell_type": "code",
   "execution_count": 36,
   "metadata": {
    "ExecuteTime": {
     "end_time": "2020-08-18T06:36:53.190504Z",
     "start_time": "2020-08-18T06:30:11.407948Z"
    }
   },
   "outputs": [
    {
     "name": "stderr",
     "output_type": "stream",
     "text": [
      "100%|██████████| 500/500 [06:40<00:00,  1.25it/s]\n"
     ]
    }
   ],
   "source": [
    "sampler.run_mcmc(pos, 500, progress=True);#only 500 instead of 10000 steps (for a trial)"
   ]
  },
  {
   "cell_type": "code",
   "execution_count": 39,
   "metadata": {
    "ExecuteTime": {
     "end_time": "2020-08-18T06:37:23.652425Z",
     "start_time": "2020-08-18T06:37:23.587274Z"
    }
   },
   "outputs": [
    {
     "ename": "AutocorrError",
     "evalue": "The chain is shorter than 50 times the integrated autocorrelation time for 4 parameter(s). Use this estimate with caution and run a longer chain!\nN/50 = 10;\ntau: [55.30237316 41.16068801 38.87498196 41.29326774]",
     "output_type": "error",
     "traceback": [
      "\u001b[0;31m---------------------------------------------------------------------------\u001b[0m",
      "\u001b[0;31mAutocorrError\u001b[0m                             Traceback (most recent call last)",
      "\u001b[0;32m<ipython-input-39-5c662610fd07>\u001b[0m in \u001b[0;36m<module>\u001b[0;34m\u001b[0m\n\u001b[0;32m----> 1\u001b[0;31m \u001b[0msampler\u001b[0m\u001b[0;34m.\u001b[0m\u001b[0mget_autocorr_time\u001b[0m\u001b[0;34m(\u001b[0m\u001b[0;34m)\u001b[0m\u001b[0;34m\u001b[0m\u001b[0;34m\u001b[0m\u001b[0m\n\u001b[0m",
      "\u001b[0;32m/Applications/miniconda3/envs/work/lib/python3.8/site-packages/emcee/ensemble.py\u001b[0m in \u001b[0;36mget_autocorr_time\u001b[0;34m(self, **kwargs)\u001b[0m\n\u001b[1;32m    524\u001b[0m \u001b[0;34m\u001b[0m\u001b[0m\n\u001b[1;32m    525\u001b[0m     \u001b[0;32mdef\u001b[0m \u001b[0mget_autocorr_time\u001b[0m\u001b[0;34m(\u001b[0m\u001b[0mself\u001b[0m\u001b[0;34m,\u001b[0m \u001b[0;34m**\u001b[0m\u001b[0mkwargs\u001b[0m\u001b[0;34m)\u001b[0m\u001b[0;34m:\u001b[0m\u001b[0;34m\u001b[0m\u001b[0;34m\u001b[0m\u001b[0m\n\u001b[0;32m--> 526\u001b[0;31m         \u001b[0;32mreturn\u001b[0m \u001b[0mself\u001b[0m\u001b[0;34m.\u001b[0m\u001b[0mbackend\u001b[0m\u001b[0;34m.\u001b[0m\u001b[0mget_autocorr_time\u001b[0m\u001b[0;34m(\u001b[0m\u001b[0;34m**\u001b[0m\u001b[0mkwargs\u001b[0m\u001b[0;34m)\u001b[0m\u001b[0;34m\u001b[0m\u001b[0;34m\u001b[0m\u001b[0m\n\u001b[0m\u001b[1;32m    527\u001b[0m \u001b[0;34m\u001b[0m\u001b[0m\n\u001b[1;32m    528\u001b[0m     \u001b[0mget_autocorr_time\u001b[0m\u001b[0;34m.\u001b[0m\u001b[0m__doc__\u001b[0m \u001b[0;34m=\u001b[0m \u001b[0mBackend\u001b[0m\u001b[0;34m.\u001b[0m\u001b[0mget_autocorr_time\u001b[0m\u001b[0;34m.\u001b[0m\u001b[0m__doc__\u001b[0m\u001b[0;34m\u001b[0m\u001b[0;34m\u001b[0m\u001b[0m\n",
      "\u001b[0;32m/Applications/miniconda3/envs/work/lib/python3.8/site-packages/emcee/backends/backend.py\u001b[0m in \u001b[0;36mget_autocorr_time\u001b[0;34m(self, discard, thin, **kwargs)\u001b[0m\n\u001b[1;32m    148\u001b[0m         \"\"\"\n\u001b[1;32m    149\u001b[0m         \u001b[0mx\u001b[0m \u001b[0;34m=\u001b[0m \u001b[0mself\u001b[0m\u001b[0;34m.\u001b[0m\u001b[0mget_chain\u001b[0m\u001b[0;34m(\u001b[0m\u001b[0mdiscard\u001b[0m\u001b[0;34m=\u001b[0m\u001b[0mdiscard\u001b[0m\u001b[0;34m,\u001b[0m \u001b[0mthin\u001b[0m\u001b[0;34m=\u001b[0m\u001b[0mthin\u001b[0m\u001b[0;34m)\u001b[0m\u001b[0;34m\u001b[0m\u001b[0;34m\u001b[0m\u001b[0m\n\u001b[0;32m--> 150\u001b[0;31m         \u001b[0;32mreturn\u001b[0m \u001b[0mthin\u001b[0m \u001b[0;34m*\u001b[0m \u001b[0mautocorr\u001b[0m\u001b[0;34m.\u001b[0m\u001b[0mintegrated_time\u001b[0m\u001b[0;34m(\u001b[0m\u001b[0mx\u001b[0m\u001b[0;34m,\u001b[0m \u001b[0;34m**\u001b[0m\u001b[0mkwargs\u001b[0m\u001b[0;34m)\u001b[0m\u001b[0;34m\u001b[0m\u001b[0;34m\u001b[0m\u001b[0m\n\u001b[0m\u001b[1;32m    151\u001b[0m \u001b[0;34m\u001b[0m\u001b[0m\n\u001b[1;32m    152\u001b[0m     \u001b[0;34m@\u001b[0m\u001b[0mproperty\u001b[0m\u001b[0;34m\u001b[0m\u001b[0;34m\u001b[0m\u001b[0m\n",
      "\u001b[0;32m/Applications/miniconda3/envs/work/lib/python3.8/site-packages/emcee/autocorr.py\u001b[0m in \u001b[0;36mintegrated_time\u001b[0;34m(x, c, tol, quiet)\u001b[0m\n\u001b[1;32m    108\u001b[0m         \u001b[0mmsg\u001b[0m \u001b[0;34m+=\u001b[0m \u001b[0;34m\"N/{0} = {1:.0f};\\ntau: {2}\"\u001b[0m\u001b[0;34m.\u001b[0m\u001b[0mformat\u001b[0m\u001b[0;34m(\u001b[0m\u001b[0mtol\u001b[0m\u001b[0;34m,\u001b[0m \u001b[0mn_t\u001b[0m \u001b[0;34m/\u001b[0m \u001b[0mtol\u001b[0m\u001b[0;34m,\u001b[0m \u001b[0mtau_est\u001b[0m\u001b[0;34m)\u001b[0m\u001b[0;34m\u001b[0m\u001b[0;34m\u001b[0m\u001b[0m\n\u001b[1;32m    109\u001b[0m         \u001b[0;32mif\u001b[0m \u001b[0;32mnot\u001b[0m \u001b[0mquiet\u001b[0m\u001b[0;34m:\u001b[0m\u001b[0;34m\u001b[0m\u001b[0;34m\u001b[0m\u001b[0m\n\u001b[0;32m--> 110\u001b[0;31m             \u001b[0;32mraise\u001b[0m \u001b[0mAutocorrError\u001b[0m\u001b[0;34m(\u001b[0m\u001b[0mtau_est\u001b[0m\u001b[0;34m,\u001b[0m \u001b[0mmsg\u001b[0m\u001b[0;34m)\u001b[0m\u001b[0;34m\u001b[0m\u001b[0;34m\u001b[0m\u001b[0m\n\u001b[0m\u001b[1;32m    111\u001b[0m         \u001b[0mlogging\u001b[0m\u001b[0;34m.\u001b[0m\u001b[0mwarning\u001b[0m\u001b[0;34m(\u001b[0m\u001b[0mmsg\u001b[0m\u001b[0;34m)\u001b[0m\u001b[0;34m\u001b[0m\u001b[0;34m\u001b[0m\u001b[0m\n\u001b[1;32m    112\u001b[0m \u001b[0;34m\u001b[0m\u001b[0m\n",
      "\u001b[0;31mAutocorrError\u001b[0m: The chain is shorter than 50 times the integrated autocorrelation time for 4 parameter(s). Use this estimate with caution and run a longer chain!\nN/50 = 10;\ntau: [55.30237316 41.16068801 38.87498196 41.29326774]"
     ]
    }
   ],
   "source": [
    "sampler.get_autocorr_time()"
   ]
  },
  {
   "cell_type": "code",
   "execution_count": 37,
   "metadata": {
    "ExecuteTime": {
     "end_time": "2020-08-18T06:37:20.535668Z",
     "start_time": "2020-08-18T06:37:20.409742Z"
    }
   },
   "outputs": [],
   "source": [
    "samples = sampler.get_chain(discard=200,flat=False)\n",
    "flat_samples = sampler.get_chain(discard=200,flat=True)"
   ]
  },
  {
   "cell_type": "code",
   "execution_count": 38,
   "metadata": {
    "ExecuteTime": {
     "end_time": "2020-08-18T06:37:20.875226Z",
     "start_time": "2020-08-18T06:37:20.830538Z"
    }
   },
   "outputs": [],
   "source": [
    "samples_dict.update({'l': flat_samples[:,1].tolist(),'tau':flat_samples[:,2].tolist(),'prevention':flat_samples[:,3].tolist(), 'end_ramp':end_ramp})"
   ]
  },
  {
   "cell_type": "code",
   "execution_count": 40,
   "metadata": {
    "ExecuteTime": {
     "end_time": "2020-08-18T06:37:34.643130Z",
     "start_time": "2020-08-18T06:37:34.578325Z"
    }
   },
   "outputs": [],
   "source": [
    "with open('../../data/interim/model_parameters/arrondissements/'+arrondissement+'_'+str(datetime.date.today())+'.json', 'w') as fp:\n",
    "    json.dump(samples_dict, fp)"
   ]
  },
  {
   "cell_type": "code",
   "execution_count": 41,
   "metadata": {
    "ExecuteTime": {
     "end_time": "2020-08-18T06:37:35.306170Z",
     "start_time": "2020-08-18T06:37:35.260408Z"
    }
   },
   "outputs": [
    {
     "name": "stdout",
     "output_type": "stream",
     "text": [
      "0.19295443522452718 0.07181892134344778 0.3130459417349797\n"
     ]
    }
   ],
   "source": [
    "mean = np.mean(flat_samples[:,3])\n",
    "p10 = np.percentile(flat_samples[:,3],10)\n",
    "p90 = np.percentile(flat_samples[:,3],90)\n",
    "print(mean,p10,p90)"
   ]
  },
  {
   "cell_type": "code",
   "execution_count": 42,
   "metadata": {
    "ExecuteTime": {
     "end_time": "2020-08-18T06:37:40.376923Z",
     "start_time": "2020-08-18T06:37:36.848704Z"
    }
   },
   "outputs": [
    {
     "data": {
      "text/plain": [
       "<matplotlib.axes._subplots.AxesSubplot at 0x11833d4c0>"
      ]
     },
     "execution_count": 42,
     "metadata": {},
     "output_type": "execute_result"
    },
    {
     "data": {
      "image/png": "[encoded data removed]",
      "text/plain": [
       "<Figure size 720x672 with 4 Axes>"
      ]
     },
     "metadata": {
      "needs_background": "light"
     },
     "output_type": "display_data"
    }
   ],
   "source": [
    "traceplot(samples=sampler.get_chain(discard=200),labels=[\"sigma_data\",\"l\",\"tau\",\"prevention\"],plt_kwargs={'linewidth':2,'color': 'red','alpha': 0.15})"
   ]
  },
  {
   "cell_type": "code",
   "execution_count": null,
   "metadata": {
    "ExecuteTime": {
     "end_time": "2020-08-17T15:41:34.784646Z",
     "start_time": "2020-08-17T15:41:34.738062Z"
    }
   },
   "outputs": [],
   "source": [
    "import corner\n",
    "\n",
    "fig = corner.corner(\n",
    "    flat_samples, labels=[\"$\\sigma_{data}$\",\"l\",\"$\\\\tau$\",\"$\\Omega$\"],\n",
    ");\n",
    "fig.set_size_inches(9, 9)\n",
    "plt.savefig('corner_compliance_delayed_ramp.pdf', dpi=600, bbox_inches='tight',\n",
    "                    orientation='portrait', papertype='a4')"
   ]
  },
  {
   "cell_type": "code",
   "execution_count": null,
   "metadata": {
    "ExecuteTime": {
     "end_time": "2020-08-17T15:42:32.082351Z",
     "start_time": "2020-08-17T15:42:27.915795Z"
    }
   },
   "outputs": [],
   "source": [
    "fig,ax=plt.subplots()\n",
    "t = np.linspace(0,20,400)\n",
    "for i in range(1000):\n",
    "    idx,l= random.choice(list(enumerate(flat_samples[:,1])))\n",
    "    tau = samples_dict['tau'][idx]\n",
    "    y=[]\n",
    "    for j in range(len(t)):\n",
    "        y.append(100*ramp_2(t[j],0,1,l,tau))\n",
    "    ax.plot(t,y,color='blue',linewidth=0.1,alpha=0.05)\n",
    "ax.set_xlabel('days since policy change')\n",
    "ax.set_ylabel('social compliance (%)')\n",
    "#plt.savefig('compliance_delayed_ramp.pdf', dpi=600, bbox_inches='tight',orientation='portrait', papertype='a4')"
   ]
  },
  {
   "cell_type": "markdown",
   "metadata": {},
   "source": [
    "## Result"
   ]
  },
  {
   "cell_type": "code",
   "execution_count": 68,
   "metadata": {
    "ExecuteTime": {
     "end_time": "2020-08-18T07:13:00.360406Z",
     "start_time": "2020-08-18T07:12:58.433852Z"
    },
    "scrolled": false
   },
   "outputs": [
    {
     "data": {
      "text/plain": [
       "(737494.0, 737640.0)"
      ]
     },
     "execution_count": 68,
     "metadata": {},
     "output_type": "execute_result"
    },
    {
     "data": {
      "image/png": "[encoded data removed]",
      "text/plain": [
       "<Figure size 432x288 with 1 Axes>"
      ]
     },
     "metadata": {
      "needs_background": "light"
     },
     "output_type": "display_data"
    }
   ],
   "source": [
    "states = [['H_in']]\n",
    "start_date = '15-03-2020'\n",
    "end_date = '2020-09-20'\n",
    "data=[arrond_ts[start_date:end_ramp].values]\n",
    "fig,ax=plt.subplots()\n",
    "for i in range(5):\n",
    "    idx,model.parameters['beta'] = random.choice(list(enumerate(samples_dict['beta'])))\n",
    "    idx,model.parameters['l'] = random.choice(list(enumerate(samples_dict['l'])))\n",
    "    model.parameters['tau'] = samples_dict['tau'][idx]\n",
    "    prevention = samples_dict['prevention'][idx]\n",
    "    # Create a dictionary of past policies\n",
    "    chk = {'time':   [start_date], \n",
    "          'Nc':      [prevention*(Nc_home + 0.4*Nc_work + 0.3*Nc_transport + 0.7*Nc_others + 0.2*Nc_leisure)]\n",
    "          }\n",
    "    y_model = model.sim(time=end_date, excess_time=lag_time,checkpoints=chk)\n",
    "    ax = plot_fit(y_model,data,start_date,lag_time,states,end_date=end_date,with_ints=False,ax=ax,plt_kwargs={'color':'blue','linewidth': 2,'alpha': 0.05})\n",
    "\n",
    "data_after_calib = arrond_ts[pd.to_datetime(end_ramp)+pd.to_timedelta('1d'):end_date]\n",
    "plt.scatter(data_after_calib.index, data_after_calib.values, marker='o',color='red',linestyle='None',facecolors='none')\n",
    "legend_text=['daily \\nhospitalizations']\n",
    "#leg=ax.legend(legend_text, loc=\"upper left\", bbox_to_anchor=(1,1))\n",
    "#ax.set_ylim([0,850])\n",
    "ax.set_xlim('2020-03-10', '2020-08-03')\n",
    "#plt.savefig('plot_fit_compliance.pdf', dpi=600, bbox_inches='tight',orientation='portrait', papertype='a4')\n",
    "# fig.savefig('../../results/calibrations_arrondissements/'+arrondissement+'_'+str(datetime.date.today())+'.png',\n",
    "#             bbox_inches='tight', dpi=600)"
   ]
  },
  {
   "cell_type": "markdown",
   "metadata": {},
   "source": [
    "# (Calibration of hospitalization parameters)"
   ]
  },
  {
   "cell_type": "markdown",
   "metadata": {},
   "source": [
    "Load the previously calibrated parameters: $\\beta$, lag_time, k, t0, prevention"
   ]
  },
  {
   "cell_type": "code",
   "execution_count": null,
   "metadata": {},
   "outputs": [],
   "source": [
    "with open('parameters_deterministic.json', 'r') as fp:\n",
    "    samples_dict = json.load(fp)\n",
    "\n",
    "lag_time = samples_dict['lag_time']\n",
    "model.extraTime = samples_dict['lag_time']\n",
    "model.parameters['beta'] = np.mean(samples_dict['beta'])\n",
    "model.parameters['l'] = np.mean(samples_dict['l'])\n",
    "model.parameters['tau'] = np.mean(samples_dict['tau'])\n",
    "prevention = np.mean(samples_dict['prevention'])"
   ]
  },
  {
   "cell_type": "code",
   "execution_count": null,
   "metadata": {},
   "outputs": [],
   "source": [
    "# Create checkpoints dictionary\n",
    "chk = {'time':  [lag_time], \n",
    "       'Nc':    [prevention*(1.0*Nc_home + (1-0.60)*Nc_work + (1-0.70)*Nc_transport + (1-0.30)*Nc_others + (1-0.80)*Nc_leisure)],\n",
    "      }\n",
    "\n",
    "model.parameters['dICUrec'] = 8\n",
    "\n",
    "# define dataset\n",
    "data=[df_sciensano[\"H_out\"].values[:55],df_sciensano[\"ICU_tot\"].values[:55],df_sciensano[\"H_tot\"].values[:55]]\n",
    "# set optimisation settings\n",
    "parNames = ['sigma_H_out','sigma_ICU_tot','sigma_H_tot','dc','dICU'] # must be a list!\n",
    "states = [[\"H_out\"],[\"ICU\"],[\"H_tot\"]]\n",
    "bounds=((1,200),(1,300),(1,600),(2,30),(2,20)) # must be a list!\n",
    "# run optimisation\n",
    "theta = MCMC.fit_pso(model,data,parNames,states,bounds,checkpoints=chk,maxiter=50,popsize=50)"
   ]
  },
  {
   "cell_type": "code",
   "execution_count": null,
   "metadata": {},
   "outputs": [],
   "source": [
    "model.parameters.update({\n",
    "    'dc': theta[3],\n",
    "    'dICU': theta[4]\n",
    "}\n",
    ")"
   ]
  },
  {
   "cell_type": "code",
   "execution_count": null,
   "metadata": {},
   "outputs": [],
   "source": [
    "T = 3\n",
    "fig,ax=plt.subplots()\n",
    "for i in range(1):\n",
    "    y_model = model.sim(data[0].size+lag_time-1+T,checkpoints=chk)\n",
    "    ax = plot_fit(y_model,data,'15-03-2020',lag_time,states,T=T,ax=ax,plt_kwargs={'color':'blue','linewidth': 2,'alpha': 1})"
   ]
  },
  {
   "cell_type": "code",
   "execution_count": null,
   "metadata": {},
   "outputs": [],
   "source": [
    "pos = theta + [5,5,5,3,3]* np.random.randn(10, 5)\n",
    "bounds=((1,500),(1,500),(1,1000),(1,30),(1,30)) \n",
    "nwalkers, ndim = pos.shape\n",
    "sampler = emcee.EnsembleSampler(nwalkers, ndim, objective_fcns.log_probability,\n",
    "                                args=(model,bounds,data,states,parNames,chk))\n",
    "sampler.run_mcmc(pos, 16000, progress=True);"
   ]
  },
  {
   "cell_type": "code",
   "execution_count": null,
   "metadata": {},
   "outputs": [],
   "source": [
    "sampler.get_autocorr_time()"
   ]
  },
  {
   "cell_type": "code",
   "execution_count": null,
   "metadata": {},
   "outputs": [],
   "source": [
    "samples = sampler.get_chain(discard=50,flat=False)\n",
    "flat_samples = sampler.get_chain(discard=50,flat=True)"
   ]
  },
  {
   "cell_type": "code",
   "execution_count": null,
   "metadata": {},
   "outputs": [],
   "source": [
    "mean = np.mean(samples_dict['dICU'])\n",
    "p10 = np.percentile(samples_dict['dICU'],10)\n",
    "p90 = np.percentile(samples_dict['dICU'],90)\n",
    "print(mean,p10,p90)"
   ]
  },
  {
   "cell_type": "code",
   "execution_count": null,
   "metadata": {},
   "outputs": [],
   "source": [
    "samples_dict.update({'dc': flat_samples[:,3].tolist(), 'dICU': flat_samples[:,4].tolist()})"
   ]
  },
  {
   "cell_type": "code",
   "execution_count": null,
   "metadata": {},
   "outputs": [],
   "source": [
    "traceplot(samples=sampler.get_chain(discard=50),labels=[\"sigma_H_out\",\"sigma H_tot\",\"sigma_ICU_tot\",\"dc\",\"dICU\"],plt_kwargs={'linewidth':2,'color': 'red','alpha': 0.15})"
   ]
  },
  {
   "cell_type": "code",
   "execution_count": null,
   "metadata": {},
   "outputs": [],
   "source": [
    "import corner\n",
    "\n",
    "fig = corner.corner(\n",
    "    flat_samples, labels=[\"sigma_H_out\",\"sigma H_tot\",\"sigma_ICU_tot\",\"dc\",\"dICU\"],\n",
    ");\n",
    "fig.set_size_inches(12, 12)\n",
    "plt.savefig('corner_compliance_hospitalization.pdf', dpi=600, bbox_inches='tight',\n",
    "                    orientation='portrait', papertype='a4')"
   ]
  },
  {
   "cell_type": "code",
   "execution_count": null,
   "metadata": {},
   "outputs": [],
   "source": [
    "T = 21\n",
    "\n",
    "fig,ax=plt.subplots()\n",
    "for i in range(300):\n",
    "    model.parameters['beta'] = np.random.choice(samples_dict['beta'],1,replace=False)\n",
    "    model.parameters['l'] = np.random.choice(samples_dict['l'],1,replace=False)\n",
    "    prevention = np.random.choice(samples_dict['prevention'],1,replace=False)\n",
    "    model.parameters['dc'] = np.random.choice(samples_dict['dc'],1,replace=False)\n",
    "    model.parameters['dICU'] = np.random.choice(samples_dict['dICU'],1,replace=False)\n",
    "    # Create checkpoints dictionary\n",
    "    chk = {'time':  [lag_time], \n",
    "           'Nc':    [prevention*(1.3*Nc_home + (1-0.60)*Nc_work + (1-0.70)*Nc_transport + (1-0.30)*Nc_others + (1-0.80)*Nc_leisure)],\n",
    "      }\n",
    "    y_model = model.sim(data[0].size+lag_time-1+T,checkpoints=chk)\n",
    "    ax = plot_fit(y_model,data,'15-03-2020',lag_time,states,T=T,ax=ax,\n",
    "                  legend_text=['Hospital discharges','Intensive care units (total)','Hospitals (total)'],\n",
    "                  plt_kwargs={'linewidth': 0.10,'alpha': 0.15})"
   ]
  },
  {
   "cell_type": "code",
   "execution_count": null,
   "metadata": {},
   "outputs": [],
   "source": [
    "with open('parameters_deterministic.json', 'w') as fp:\n",
    "    json.dump(samples_dict, fp)"
   ]
  },
  {
   "cell_type": "code",
   "execution_count": 76,
   "metadata": {
    "ExecuteTime": {
     "end_time": "2020-08-20T14:53:22.600008Z",
     "start_time": "2020-08-20T14:53:22.541438Z"
    }
   },
   "outputs": [
    {
     "data": {
      "text/plain": [
       "[2.9752357047369644,\n",
       " 2.8825163258832016,\n",
       " 2.883660362505601,\n",
       " 2.8232530058949736,\n",
       " 2.9752357047369644,\n",
       " 2.8674161665762674,\n",
       " 2.8882554411648322,\n",
       " 2.833054277888703,\n",
       " 2.9441549817033357,\n",
       " 2.8623061978611672,\n",
       " 2.882061871070287,\n",
       " 2.8606560988331893,\n",
       " 2.9441549817033357,\n",
       " 2.8617493837228896,\n",
       " 2.8475497081232524,\n",
       " 2.8609807552496505,\n",
       " 2.9175022767552337,\n",
       " 2.7858024501858316,\n",
       " 2.8483840639562947,\n",
       " 2.8609807552496505,\n",
       " 2.9216365858451168,\n",
       " 2.7274660579513705,\n",
       " 2.807005582623996,\n",
       " 2.8720447029840503,\n",
       " 2.9216365858451168,\n",
       " 2.628418318216291,\n",
       " 2.8089407559459185,\n",
       " 2.9273911534378776,\n",
       " 2.809656216348811,\n",
       " 2.6641853819999066,\n",
       " 2.8998975097763577,\n",
       " 3.012005631322405,\n",
       " 2.930888330132514,\n",
       " 2.6641853819999066,\n",
       " 2.8333756996848902,\n",
       " 2.9401898305773844,\n",
       " 2.930888330132514,\n",
       " 2.5932512259611,\n",
       " 2.760733721432368,\n",
       " 2.9401898305773844,\n",
       " 2.8952964955192395,\n",
       " 2.6385365587011798,\n",
       " 2.8382383481707847,\n",
       " 3.0139481007485767,\n",
       " 2.8952964955192395,\n",
       " 2.707445138571728,\n",
       " 2.880339792693236,\n",
       " 2.928291388253065,\n",
       " 2.891163465747728,\n",
       " 2.68710671510488,\n",
       " 2.8762537230183587,\n",
       " 2.94033379992065,\n",
       " 2.8793220162610726,\n",
       " 2.68710671510488,\n",
       " 2.9072680998954756,\n",
       " 2.9685870961706935,\n",
       " 2.897261066932491,\n",
       " 2.7447546374828242,\n",
       " 2.9331163378182885,\n",
       " 2.9188281390235926,\n",
       " 2.897261066932491,\n",
       " 2.732903974828372,\n",
       " 2.9271077399642715,\n",
       " 2.9182939368149716,\n",
       " 2.897261066932491,\n",
       " 2.732903974828372,\n",
       " 2.9271077399642715,\n",
       " 3.0513973895568345,\n",
       " 2.897261066932491,\n",
       " 2.5990884189495316,\n",
       " 2.897572582896564,\n",
       " 3.0289795259082775,\n",
       " 2.897374294893207,\n",
       " 2.579195739586615,\n",
       " 2.897572582896564,\n",
       " 3.0289795259082775,\n",
       " 2.8503953072946033,\n",
       " 2.2964344528174006,\n",
       " 2.897572582896564,\n",
       " 3.0328215256478357,\n",
       " 2.8503953072946033,\n",
       " 2.5548134250141223,\n",
       " 2.9611998784570543,\n",
       " 3.0306344937349654,\n",
       " 2.9408254859049863,\n",
       " 2.577269379249156,\n",
       " 2.9416485308307476,\n",
       " 3.0821238063586986,\n",
       " 2.9408254859049863,\n",
       " 2.5230456610779024,\n",
       " 2.809040042641049,\n",
       " 3.060785678963186,\n",
       " 2.852824319417587,\n",
       " 2.600782008310764,\n",
       " 3.032909957440997,\n",
       " 3.0176575760288493,\n",
       " 2.852824319417587,\n",
       " 2.600782008310764,\n",
       " 3.032909957440997,\n",
       " 3.0176575760288493,\n",
       " 2.863995177718324,\n",
       " 2.7741072018203887,\n",
       " 3.0112162945560073,\n",
       " 2.975213052859965,\n",
       " 2.7984200311376997,\n",
       " 2.660347955317342,\n",
       " 3.0112162945560073,\n",
       " 2.975213052859965,\n",
       " 2.7984200311376997,\n",
       " 2.6006571690563827,\n",
       " 3.0261047343149476,\n",
       " 2.975213052859965,\n",
       " 2.770866415212272,\n",
       " 2.6847776237050756,\n",
       " 3.0533445394159746,\n",
       " 2.9783261259222162,\n",
       " 2.73904829692701,\n",
       " 2.6220885147366193,\n",
       " 3.022470001238845,\n",
       " 2.9783261259222162,\n",
       " 2.8507893779904925,\n",
       " 2.450945604471001,\n",
       " 3.022470001238845,\n",
       " 2.9362093938876375,\n",
       " 2.9381589937405574,\n",
       " 2.527874550585655,\n",
       " 3.022470001238845,\n",
       " 2.9362093938876375,\n",
       " 2.956903883793769,\n",
       " 2.5660550957344386,\n",
       " 3.0354335673724457,\n",
       " 2.9362093938876375,\n",
       " 2.9812408916691964,\n",
       " 2.511810164984777,\n",
       " 3.038584735322891,\n",
       " 2.9362093938876375,\n",
       " 2.970518221129721,\n",
       " 2.511810164984777,\n",
       " 3.087709607218151,\n",
       " 2.9362093938876375,\n",
       " 2.970518221129721,\n",
       " 2.511810164984777,\n",
       " 3.065572787369416,\n",
       " 2.9362093938876375,\n",
       " 2.9097939495414216,\n",
       " 2.6639075456373122,\n",
       " 3.160814111696413,\n",
       " 2.9753226156600303,\n",
       " 2.8676780802070523,\n",
       " 2.6639075456373122,\n",
       " 3.0863733142335206,\n",
       " 2.9792671345778885,\n",
       " 2.742148411097317,\n",
       " 2.8533005277316006,\n",
       " 3.0863733142335206,\n",
       " 2.9979928478598215,\n",
       " 2.7838507688315905,\n",
       " 2.800016512375038,\n",
       " 3.020251636753653,\n",
       " 2.9960136583575707,\n",
       " 2.7838507688315905,\n",
       " 2.7998794904996136,\n",
       " 3.020251636753653,\n",
       " 2.9948360196906876,\n",
       " 2.7715483559380076,\n",
       " 2.7998794904996136,\n",
       " 3.006564704859087,\n",
       " 2.9948360196906876,\n",
       " 2.86220652424415,\n",
       " 2.8519506156554315,\n",
       " 3.0507399287240506,\n",
       " 2.9931717277504695,\n",
       " 2.86220652424415,\n",
       " 2.85050886324845,\n",
       " 3.0417359752308815,\n",
       " 2.9931717277504695,\n",
       " 2.86220652424415,\n",
       " 2.8498582536999026,\n",
       " 3.0197276208621475,\n",
       " 2.9931717277504695,\n",
       " 2.86220652424415,\n",
       " 2.8498582536999026,\n",
       " 3.0064567545434797,\n",
       " 2.9931717277504695,\n",
       " 2.869808211170412,\n",
       " 2.827124330324014,\n",
       " 3.121588965015014,\n",
       " 2.949642490868993,\n",
       " 2.7925102384746534,\n",
       " 2.9323305440233103,\n",
       " 3.121714374113295,\n",
       " 2.949642490868993,\n",
       " 2.7925102384746534,\n",
       " 2.9424105604540727,\n",
       " 3.121714374113295,\n",
       " 2.9635915121535645,\n",
       " 2.7772954544366804,\n",
       " 2.9424105604540727,\n",
       " 3.1079117090327077,\n",
       " 2.966846144271248,\n",
       " 2.70715132288578,\n",
       " 2.9424105604540727,\n",
       " 3.1079117090327077,\n",
       " 2.966846144271248,\n",
       " 2.7624044345159646,\n",
       " 2.952112093069784,\n",
       " 3.1079117090327077,\n",
       " 2.9578482601604614,\n",
       " 2.7624044345159646,\n",
       " 2.952112093069784,\n",
       " 3.062687958878284,\n",
       " 2.9578482601604614,\n",
       " 2.7624044345159646,\n",
       " 2.931732119738328,\n",
       " 3.018644428419186,\n",
       " 2.9578482601604614,\n",
       " 2.7624044345159646,\n",
       " 2.9815403164017615,\n",
       " 3.0277392811188513,\n",
       " 2.9578482601604614,\n",
       " 2.753964343911536,\n",
       " 2.9758805268277926,\n",
       " 3.039965200165534,\n",
       " 2.9419816280673676,\n",
       " 2.753964343911536,\n",
       " 3.0008341644988095,\n",
       " 3.0385824499015115,\n",
       " 2.9550932097667877,\n",
       " 2.753964343911536,\n",
       " 3.0008341644988095,\n",
       " 3.052955525615389,\n",
       " 2.9550932097667877,\n",
       " 2.753964343911536,\n",
       " 3.0008341644988095,\n",
       " 3.052955525615389,\n",
       " 2.9550932097667877,\n",
       " 2.7569268576085615,\n",
       " 3.0008341644988095,\n",
       " 3.012469289403544,\n",
       " 2.9550932097667877,\n",
       " 2.816791718435909,\n",
       " 3.0008341644988095,\n",
       " 3.012469289403544,\n",
       " 2.9575429945782252,\n",
       " 2.6921515577800235,\n",
       " 3.0755659518642746,\n",
       " 3.00935676131018,\n",
       " 2.9575429945782252,\n",
       " 2.6921515577800235,\n",
       " 3.0753665981831895,\n",
       " 2.8830939147955794,\n",
       " 2.928459879591306,\n",
       " 2.689192161323058,\n",
       " 3.1004615896722005,\n",
       " 2.965066562957915,\n",
       " 2.928459879591306,\n",
       " 2.6621965143222837,\n",
       " 3.195046283542728,\n",
       " 2.965066562957915,\n",
       " 2.928459879591306,\n",
       " 2.6621965143222837,\n",
       " 3.195046283542728,\n",
       " 2.965066562957915,\n",
       " 2.928459879591306,\n",
       " 2.6621965143222837,\n",
       " 3.195046283542728,\n",
       " 2.987739917803443,\n",
       " 2.9326789702545333,\n",
       " 2.6621965143222837,\n",
       " 3.195046283542728,\n",
       " 2.987739917803443,\n",
       " 2.9326789702545333,\n",
       " 2.5474503290531,\n",
       " 3.195046283542728,\n",
       " 2.9217149949765266,\n",
       " 2.9326789702545333,\n",
       " 2.5474503290531,\n",
       " 3.16043674870118,\n",
       " 3.0170212955138056,\n",
       " 2.9326789702545333,\n",
       " 2.5474503290531,\n",
       " 2.9991238980781394,\n",
       " 3.008285024071565,\n",
       " 2.7964555614947635,\n",
       " 2.5474503290531,\n",
       " 2.9991238980781394,\n",
       " 3.008285024071565,\n",
       " 2.7964555614947635,\n",
       " 2.651104789578868,\n",
       " 3.0045990732191235,\n",
       " 2.9161252448618797,\n",
       " 2.7964555614947635,\n",
       " 2.7308486271557495,\n",
       " 2.9895441352775887,\n",
       " 2.862758836497138,\n",
       " 2.846200407240034,\n",
       " 2.7308486271557495,\n",
       " 2.874660908163779,\n",
       " 2.862758836497138,\n",
       " 2.8465732515822517,\n",
       " 2.740022734794407,\n",
       " 2.874660908163779,\n",
       " 2.8835163221030684,\n",
       " 2.836107953585457,\n",
       " 2.7992848956281904,\n",
       " 2.874660908163779,\n",
       " 2.8835163221030684,\n",
       " 2.820867647393011,\n",
       " 2.7992848956281904,\n",
       " 2.8671983898564286,\n",
       " 2.8835163221030684,\n",
       " 2.820867647393011,\n",
       " 2.763848080331472,\n",
       " 2.8551710609044627,\n",
       " 2.904938574033318,\n",
       " 2.8390510009042025,\n",
       " 2.8285903957407226,\n",
       " 2.8644028164168853,\n",
       " 2.898037083448775,\n",
       " 2.8390510009042025,\n",
       " 2.7806518560591478,\n",
       " 2.8620604006927794,\n",
       " 2.898037083448775,\n",
       " 2.8390510009042025,\n",
       " 2.7079520270679427,\n",
       " 2.8599560837885853,\n",
       " 2.8858849714334465,\n",
       " 2.8390510009042025,\n",
       " 2.692810606778539,\n",
       " 2.885768815834836,\n",
       " 2.91659576358084,\n",
       " 2.8390510009042025,\n",
       " 2.7366187755070945,\n",
       " 2.880432367011584,\n",
       " 2.91659576358084,\n",
       " 2.8390510009042025,\n",
       " 2.767937368058849,\n",
       " 2.9034195878153595,\n",
       " 2.912196739764896,\n",
       " 2.8390510009042025,\n",
       " 2.7515621071474263,\n",
       " 2.9034195878153595,\n",
       " 3.0308539486842574,\n",
       " 2.886036458463081,\n",
       " 2.7411872654793825,\n",
       " 2.9493463155655952,\n",
       " 3.0417379619119917,\n",
       " 2.919004812753515,\n",
       " 2.7411872654793825,\n",
       " 2.9493463155655952,\n",
       " 3.0271026232117975,\n",
       " 2.919004812753515,\n",
       " 2.7411872654793825,\n",
       " 2.911251460954194,\n",
       " 3.0271026232117975,\n",
       " 2.9146893390013964,\n",
       " 2.7862916343624096,\n",
       " 2.9119697096401604,\n",
       " 3.009455861819322,\n",
       " 2.9146893390013964,\n",
       " 2.727242282571557,\n",
       " 2.9126671954547674,\n",
       " 3.009455861819322,\n",
       " 2.9164537082665665,\n",
       " 2.7740478054242854,\n",
       " 2.9128214844404043,\n",
       " 2.9633218240021213,\n",
       " 2.9164537082665665,\n",
       " 2.7740478054242854,\n",
       " 2.9111761037657096,\n",
       " 3.008816750101338,\n",
       " 2.917004764736948,\n",
       " 2.7740478054242854,\n",
       " 2.8658801809389036,\n",
       " 3.008816750101338,\n",
       " 2.917004764736948,\n",
       " 2.7740478054242854,\n",
       " 2.8658801809389036,\n",
       " 3.008816750101338,\n",
       " 2.9267629978279306,\n",
       " 2.7962761702231282,\n",
       " 2.822333230982383,\n",
       " 2.9426080912160457,\n",
       " 2.9113728024164485,\n",
       " 2.7877812321637343,\n",
       " 2.822333230982383,\n",
       " 2.8963663484125024,\n",
       " 2.904554469430135,\n",
       " 2.824903413244889,\n",
       " 2.847133438952424,\n",
       " 2.8775374252715578,\n",
       " 2.974307633029875,\n",
       " 2.8248240205567643,\n",
       " 2.857920030340196,\n",
       " 2.8484153737786033,\n",
       " 2.94865838102277,\n",
       " 2.8248240205567643,\n",
       " 2.857920030340196,\n",
       " 2.797471970999415,\n",
       " 2.94865838102277,\n",
       " 2.812218510876431,\n",
       " 2.8600353325152867,\n",
       " 2.8250128999406177,\n",
       " 2.9472016762181803,\n",
       " 2.837186641090294,\n",
       " 2.855485169744779,\n",
       " 2.825021028005051,\n",
       " 2.9472016762181803,\n",
       " 2.837186641090294,\n",
       " 2.831997143169234,\n",
       " 2.825021028005051,\n",
       " 3.014425767697205,\n",
       " 2.8371331234793997,\n",
       " 2.826858629463648,\n",
       " 2.7909775097898804,\n",
       " 3.008404318834219,\n",
       " 2.8371331234793997,\n",
       " 2.9053014664669266,\n",
       " 2.830650014290361,\n",
       " 3.008404318834219,\n",
       " 2.8371331234793997,\n",
       " 2.9565606777977136,\n",
       " 2.906291601531882,\n",
       " 3.008404318834219,\n",
       " 2.863811489307935,\n",
       " 2.9188644856895904,\n",
       " 2.9490009835779656,\n",
       " 3.008404318834219,\n",
       " 2.8188995226175817,\n",
       " 2.9188644856895904,\n",
       " 2.962930648884789,\n",
       " 3.008404318834219,\n",
       " 2.901648849699222,\n",
       " 2.939704613899851,\n",
       " 2.962930648884789,\n",
       " 3.0098428753244986,\n",
       " 2.9077247146858136,\n",
       " 2.9467649689162463,\n",
       " 2.9683145580429935,\n",
       " 2.9605579375805333,\n",
       " 2.9077247146858136,\n",
       " 2.954291236435388,\n",
       " 2.963881989634403,\n",
       " 2.9561294698341456,\n",
       " 2.9077247146858136,\n",
       " 2.954291236435388,\n",
       " 2.9610829057051995,\n",
       " 2.951536342818482,\n",
       " 2.9077247146858136,\n",
       " 2.9384637589076825,\n",
       " 2.9610829057051995,\n",
       " 2.951536342818482,\n",
       " 2.9077247146858136,\n",
       " 2.9367713752298066,\n",
       " 2.9610829057051995,\n",
       " 2.951536342818482,\n",
       " 2.8895182810670823,\n",
       " 2.929194958859004,\n",
       " 2.9569916105742418,\n",
       " 2.951536342818482,\n",
       " 2.8927315423913726,\n",
       " 2.929194958859004,\n",
       " 2.998342377477606,\n",
       " 2.951536342818482,\n",
       " 2.8872632041720356,\n",
       " 2.934166305486816,\n",
       " 2.999282225066641,\n",
       " 2.951536342818482,\n",
       " 2.877343758182695,\n",
       " 2.885239913875643,\n",
       " 2.9901095574806784,\n",
       " 2.937646064100959,\n",
       " 2.877343758182695,\n",
       " 2.897608397944816,\n",
       " 2.9979227782761817,\n",
       " 2.9210529750034446,\n",
       " 2.8876216027496415,\n",
       " 2.9129009283211156,\n",
       " 2.9664214346319295,\n",
       " 2.9548006548923187,\n",
       " 2.8439240917161697,\n",
       " 2.896250001028634,\n",
       " 2.964183131673304,\n",
       " 2.952581786228762,\n",
       " 2.8725805202113666,\n",
       " 2.888888214396681,\n",
       " 2.97280383178593,\n",
       " 2.952581786228762,\n",
       " 2.8746576848846823,\n",
       " 2.8953571750635416,\n",
       " 2.97280383178593,\n",
       " 2.952581786228762,\n",
       " 2.919694375701898,\n",
       " 2.9149530396337986,\n",
       " 2.9847411996114634,\n",
       " 2.952581786228762,\n",
       " 2.929783403000721,\n",
       " 2.9094205546710965,\n",
       " 2.994524674059041,\n",
       " 2.9347983575394823,\n",
       " 2.9234344349465884,\n",
       " 2.90628906341513,\n",
       " 2.994524674059041,\n",
       " 2.939062614794892,\n",
       " 2.9217529122656885,\n",
       " 2.8302905471801463,\n",
       " 2.994524674059041,\n",
       " 2.961336634370152,\n",
       " 2.9094920887801132,\n",
       " 2.849347749854213,\n",
       " 2.991217969408443,\n",
       " 2.955045039599203,\n",
       " 2.8735497179927196,\n",
       " 2.834607409421284,\n",
       " 2.991217969408443,\n",
       " 2.955045039599203,\n",
       " 2.810380695144645,\n",
       " 2.760517995467314,\n",
       " 3.0316517436624766,\n",
       " 2.9590106365029993,\n",
       " 2.810380695144645,\n",
       " 2.760517995467314,\n",
       " 3.0316517436624766,\n",
       " 2.935119768767219,\n",
       " 2.8653853805505687,\n",
       " 2.760517995467314,\n",
       " 3.0316517436624766,\n",
       " 2.8953274180352206,\n",
       " 2.836626976342674,\n",
       " 2.735773498685561,\n",
       " 3.0316517436624766,\n",
       " 2.898520576692279,\n",
       " 2.828740398390038,\n",
       " 2.7907058320760636,\n",
       " 3.028986263984332,\n",
       " 2.898520576692279,\n",
       " 2.8622544221689403,\n",
       " 2.841840211588455,\n",
       " 3.034375640830053,\n",
       " 2.9328736416768706,\n",
       " 2.788038001694614,\n",
       " 2.8425564176303406,\n",
       " 3.032347734443037,\n",
       " 3.0017300593242524,\n",
       " 2.903846276899119,\n",
       " 2.8425564176303406,\n",
       " 2.995561635522762,\n",
       " 3.0629960618283114,\n",
       " 2.8067633291662157,\n",
       " 2.8425564176303406,\n",
       " 3.0522115022587766,\n",
       " 3.19103980234508,\n",
       " 2.8067633291662157,\n",
       " 2.8425564176303406,\n",
       " 3.079577184500434,\n",
       " 3.19103980234508,\n",
       " 2.8067633291662157,\n",
       " 2.8425564176303406,\n",
       " 3.0169098162522987,\n",
       " 3.219374810972888,\n",
       " 2.8066544708392778,\n",
       " 2.954934911510813,\n",
       " 3.022465225924845,\n",
       " 3.1261870740252604,\n",
       " 2.7862503756286405,\n",
       " 2.954934911510813,\n",
       " 3.0134118122333855,\n",
       " 3.1261870740252604,\n",
       " 2.8864655624616913,\n",
       " 2.954934911510813,\n",
       " 3.0134118122333855,\n",
       " 3.1261870740252604,\n",
       " 2.8864655624616913,\n",
       " 2.889165211961285,\n",
       " 3.043166763369184,\n",
       " 3.1332845635049345,\n",
       " 2.8864655624616913,\n",
       " 2.88871384870888,\n",
       " 3.0634467364468003,\n",
       " 3.112356671970799,\n",
       " 2.9528369538734105,\n",
       " 2.9257082876944147,\n",
       " 3.0631253249342287,\n",
       " 3.112356671970799,\n",
       " 2.9528369538734105,\n",
       " 2.9385922366177835,\n",
       " 3.042020233867,\n",
       " 3.112356671970799,\n",
       " 2.9499617157021305,\n",
       " 2.9439870668895467,\n",
       " 3.042020233867,\n",
       " 3.1502143077984335,\n",
       " 2.9499617157021305,\n",
       " 2.941438586605513,\n",
       " 3.042020233867,\n",
       " 3.1502143077984335,\n",
       " 2.7144857600843864,\n",
       " 2.941438586605513,\n",
       " 3.042020233867,\n",
       " 3.192657755602644,\n",
       " 2.7144857600843864,\n",
       " 2.8803670769864964,\n",
       " 3.042020233867,\n",
       " 3.192657755602644,\n",
       " 2.9241896230251245,\n",
       " 2.9075099151831654,\n",
       " 3.042020233867,\n",
       " 3.192657755602644,\n",
       " 2.92293527069877,\n",
       " 2.9062953461686045,\n",
       " 3.042020233867,\n",
       " 3.068863320196878,\n",
       " 2.92293527069877,\n",
       " 2.9179641281226663,\n",
       " 3.001347148098713,\n",
       " 3.084293410963173,\n",
       " 2.9429517540661436,\n",
       " 2.7580360576084533,\n",
       " 3.001347148098713,\n",
       " 3.084293410963173,\n",
       " 2.9429517540661436,\n",
       " 2.7789891801228097,\n",
       " 3.001347148098713,\n",
       " 3.039086896609916,\n",
       " 2.8888396380403045,\n",
       " 2.7350872718746473,\n",
       " 3.08852701024159,\n",
       " 3.07094582168131,\n",
       " 2.8713633965687246,\n",
       " 2.7350872718746473,\n",
       " 3.0330146437504957,\n",
       " 2.9076679624979853,\n",
       " 2.8713633965687246,\n",
       " 2.730230934621364,\n",
       " 3.0344267605774493,\n",
       " 2.9076679624979853,\n",
       " 2.9400571824991677,\n",
       " 2.730230934621364,\n",
       " 3.0344267605774493,\n",
       " 2.9384409234631046,\n",
       " 2.9400571824991677,\n",
       " 2.8313262433211723,\n",
       " 3.0113010187841613,\n",
       " 2.969029085324897,\n",
       " 2.974340544082422,\n",
       " 2.8313262433211723,\n",
       " 3.0113010187841613,\n",
       " 2.969618748680424,\n",
       " 2.972787882104272,\n",
       " 2.8313262433211723,\n",
       " 3.022529892121468,\n",
       " 2.968358743280022,\n",
       " 2.9719696354754612,\n",
       " 2.8313262433211723,\n",
       " 3.0124721750227597,\n",
       " 2.9878946344680037,\n",
       " 2.9719696354754612,\n",
       " 2.8313262433211723,\n",
       " 3.040070675301428,\n",
       " 2.972013416511844,\n",
       " 2.978930461308512,\n",
       " 2.8313262433211723,\n",
       " 2.9808753506142263,\n",
       " 2.9254957858589865,\n",
       " 2.9791258128989915,\n",
       " 2.8313262433211723,\n",
       " 2.9727921851970334,\n",
       " 2.9010235040108308,\n",
       " 2.9792679488432334,\n",
       " 2.835176748518595,\n",
       " 2.970667694030735,\n",
       " 2.914122509987131,\n",
       " 2.979466513941717,\n",
       " 2.8599703067895312,\n",
       " 2.9653379683273795,\n",
       " 2.902070591341383,\n",
       " 2.9769093326424247,\n",
       " 2.849559353128477,\n",
       " 2.9544661496481712,\n",
       " 2.9362946441750575,\n",
       " 2.9700201908056347,\n",
       " 2.849559353128477,\n",
       " 2.93314220631634,\n",
       " 2.9862215404610275,\n",
       " 2.979567766968521,\n",
       " 2.815721383315111,\n",
       " 2.8892649021827945,\n",
       " 2.9857781320919807,\n",
       " 2.9441987886744783,\n",
       " 2.7900120134707413,\n",
       " 2.8725528376863037,\n",
       " 2.940678679501188,\n",
       " 2.935903157816236,\n",
       " 2.747371499428718,\n",
       " 2.8823779988597464,\n",
       " 2.9385784137791213,\n",
       " 2.9453664542218436,\n",
       " 2.747371499428718,\n",
       " 2.852338628187016,\n",
       " 3.0312405668492217,\n",
       " 2.9136465099282423,\n",
       " 2.742644402711452,\n",
       " 2.803153111133841,\n",
       " 3.0312405668492217,\n",
       " 2.877988103055729,\n",
       " 2.5701287968152178,\n",
       " 2.741812261375531,\n",
       " 3.0312405668492217,\n",
       " 2.877988103055729,\n",
       " 2.654561430301651,\n",
       " 2.741812261375531,\n",
       " 3.0312405668492217,\n",
       " 2.877988103055729,\n",
       " 2.5879651817266422,\n",
       " 2.867797627672257,\n",
       " 3.0312405668492217,\n",
       " 2.8945306593998508,\n",
       " 2.648486383905908,\n",
       " 2.9103988933561653,\n",
       " 3.0321483385263677,\n",
       " 2.8916815975625694,\n",
       " 2.458964697509657,\n",
       " 2.9149991255776118,\n",
       " 2.9916784680246535,\n",
       " 2.9199275133435547,\n",
       " 2.5602607209732082,\n",
       " 2.9149991255776118,\n",
       " 3.0274401723096123,\n",
       " 2.926603671755042,\n",
       " 2.3661042395903005,\n",
       " 2.903698609992509,\n",
       " 3.0274401723096123,\n",
       " 2.939777827592532,\n",
       " 2.353647087107284,\n",
       " 2.886795926812099,\n",
       " 3.0274401723096123,\n",
       " 2.902140172965945,\n",
       " 2.4069624783867085,\n",
       " 2.886795926812099,\n",
       " 3.0274401723096123,\n",
       " 2.9474003537368603,\n",
       " 2.073155995723153,\n",
       " 2.886795926812099,\n",
       " 3.013861835447455,\n",
       " 2.867156846710937,\n",
       " 1.6166284817865484,\n",
       " 2.886795926812099,\n",
       " 3.013861835447455,\n",
       " 2.867156846710937,\n",
       " 1.6166284817865484,\n",
       " 2.8543190825891775,\n",
       " 3.013861835447455,\n",
       " 2.855223608684311,\n",
       " 1.6166284817865484,\n",
       " 2.8543190825891775,\n",
       " 3.0909118078604383,\n",
       " 2.861376859549621,\n",
       " 0.859628669526779,\n",
       " 2.8544575135537595,\n",
       " 3.050342187822763,\n",
       " 2.861376859549621,\n",
       " 0.859628669526779,\n",
       " 2.8544575135537595,\n",
       " 3.050342187822763,\n",
       " 2.861376859549621,\n",
       " 1.535100544826783,\n",
       " 2.909050270443205,\n",
       " 3.050342187822763,\n",
       " 2.8751655397401152,\n",
       " 2.1115335702227367,\n",
       " 2.909050270443205,\n",
       " 3.0084595951495916,\n",
       " 2.8751655397401152,\n",
       " 1.957899403095364,\n",
       " 2.909050270443205,\n",
       " 2.98663361846869,\n",
       " 2.8965474394201896,\n",
       " 2.2313169546667058,\n",
       " 2.9285836574802504,\n",
       " 3.0014094439544503,\n",
       " 2.8881586952214793,\n",
       " 1.5490850164678613,\n",
       " 2.910820094435557,\n",
       " 3.0014094439544503,\n",
       " 2.8881586952214793,\n",
       " 1.7716019228489006,\n",
       " 2.910820094435557,\n",
       " 2.9625762292882087,\n",
       " 2.8759145119019167,\n",
       " 2.072644186762794,\n",
       " 2.910820094435557,\n",
       " 3.025217577823138,\n",
       " 2.8571973320082096,\n",
       " 1.6156489248838133,\n",
       " 2.9012052387664835,\n",
       " 3.025217577823138,\n",
       " 2.7298138124783784,\n",
       " 1.316565646600704,\n",
       " 2.8948743823193377,\n",
       " 3.025217577823138,\n",
       " 2.7298138124783784,\n",
       " 1.7098841887744922,\n",
       " 2.8948743823193377,\n",
       " 2.959440357181854,\n",
       " 2.7298138124783784,\n",
       " 1.6351768553101735,\n",
       " 2.8948743823193377,\n",
       " 2.959440357181854,\n",
       " 2.7298138124783784,\n",
       " 2.0353149384765654,\n",
       " 2.9761129616868387,\n",
       " 2.959440357181854,\n",
       " 2.582568984966005,\n",
       " 1.4361420089437387,\n",
       " 3.026679292274487,\n",
       " 2.913954346304057,\n",
       " 2.582568984966005,\n",
       " 1.7198198614416345,\n",
       " 3.022368035675562,\n",
       " 2.913954346304057,\n",
       " 2.582568984966005,\n",
       " 2.102221036674049,\n",
       " 3.022368035675562,\n",
       " 2.913954346304057,\n",
       " 2.582568984966005,\n",
       " 2.1569874050444753,\n",
       " 3.022368035675562,\n",
       " 2.913954346304057,\n",
       " 2.582568984966005,\n",
       " 2.2485782446575664,\n",
       " 3.014012430707119,\n",
       " 2.913954346304057,\n",
       " 2.582568984966005,\n",
       " 2.4463442191658324,\n",
       " 2.989553718868453,\n",
       " 2.8533791239310555,\n",
       " 2.592207773767087,\n",
       " 2.285094804613556,\n",
       " 2.9221282069013834,\n",
       " 2.8533791239310555,\n",
       " 2.592207773767087,\n",
       " 2.441793419748478,\n",
       " 2.9309830009118114,\n",
       " 2.8533791239310555,\n",
       " 2.615044912686761,\n",
       " 2.3396477976457244,\n",
       " 2.909022929817983,\n",
       " 2.8533791239310555,\n",
       " 2.5920659190111954,\n",
       " 2.311866882349097,\n",
       " 2.9542761079981634,\n",
       " 2.8838122616309922,\n",
       " 2.5891416343101,\n",
       " 2.3483636685498444,\n",
       " 2.9542761079981634,\n",
       " 2.8838122616309922,\n",
       " 2.5891416343101,\n",
       " 2.34955084479954,\n",
       " 2.9542761079981634,\n",
       " 2.843372937177801,\n",
       " 2.522324280579411,\n",
       " 2.3766345635221735,\n",
       " 2.958234104780437,\n",
       " 2.843372937177801,\n",
       " 2.522324280579411,\n",
       " 2.3766345635221735,\n",
       " 2.958234104780437,\n",
       " 2.8859269785983215,\n",
       " 2.5320234463437687,\n",
       " 2.31418066002848,\n",
       " 2.984998139761488,\n",
       " 2.8859269785983215,\n",
       " 2.5282567906287423,\n",
       " 2.31418066002848,\n",
       " 2.893870141768545,\n",
       " 2.8876291281187205,\n",
       " 2.5282567906287423,\n",
       " 2.35809341267609,\n",
       " 2.893870141768545,\n",
       " 2.8876291281187205,\n",
       " 2.5884331216213927,\n",
       " 2.4585389566243174,\n",
       " 2.893870141768545,\n",
       " 2.8885006619500184,\n",
       " 2.5768790449573635,\n",
       " 2.511177803945465,\n",
       " 3.075509933578194,\n",
       " 2.9777494405876794,\n",
       " 2.6263615516102976,\n",
       " 2.69973422694581,\n",
       " 3.075509933578194,\n",
       " 2.941691253796475,\n",
       " 2.6263615516102976,\n",
       " 2.708984842022439,\n",
       " 3.0956392144312734,\n",
       " 2.941691253796475,\n",
       " 2.6263615516102976,\n",
       " 2.708984842022439,\n",
       " 3.0602555830131264,\n",
       " 2.941691253796475,\n",
       " 2.6263615516102976,\n",
       " 2.7694309664548387,\n",
       " 3.0009907867488024,\n",
       " 2.941691253796475,\n",
       " 2.703630498491585,\n",
       " 2.7694309664548387,\n",
       " 3.0009907867488024,\n",
       " 2.9153696192256375,\n",
       " 2.703630498491585,\n",
       " 2.8279282695017463,\n",
       " 3.04959727738754,\n",
       " 2.9153696192256375,\n",
       " 2.711955325912293,\n",
       " 2.8136320245358295,\n",
       " 3.0621660080393505,\n",
       " 2.9002390462824215,\n",
       " 2.711955325912293,\n",
       " 2.7688123863193885,\n",
       " 2.9724799110859954,\n",
       " 2.9108341047380426,\n",
       " 2.711955325912293,\n",
       " 2.7688123863193885,\n",
       " 3.0858635315154186,\n",
       " 2.9108341047380426,\n",
       " 2.718741608985324,\n",
       " 2.7688123863193885,\n",
       " 3.06693656319952,\n",
       " 2.896015314348119,\n",
       " 2.718741608985324,\n",
       " 2.7688123863193885,\n",
       " 3.0899059926569885,\n",
       " 2.888325987624997,\n",
       " 2.718741608985324,\n",
       " 2.7807302582537394,\n",
       " 3.0899059926569885,\n",
       " 2.9394446161284287,\n",
       " 2.718741608985324,\n",
       " 2.824406554864795,\n",
       " 3.0899059926569885,\n",
       " 2.9394446161284287,\n",
       " 2.718741608985324,\n",
       " 2.824406554864795,\n",
       " 3.0899059926569885,\n",
       " 2.9394446161284287,\n",
       " 2.5485598980562942,\n",
       " 2.872832051163626,\n",
       " 3.1060805766794375,\n",
       " 2.9416734412635615,\n",
       " 2.701843694322424,\n",
       " 2.910356571165904,\n",
       " 3.1060805766794375,\n",
       " 2.9416734412635615,\n",
       " 2.701843694322424,\n",
       " 2.911282344974226,\n",
       " 3.1060805766794375,\n",
       " 2.9356729698010837,\n",
       " 2.701885559216759,\n",
       " 2.87688005974128,\n",
       " 3.0414099811885134,\n",
       " 2.943421371302025,\n",
       " 2.818392859349563,\n",
       " 2.8943206707812545,\n",
       " 3.031489001506411,\n",
       " 2.926789137976796,\n",
       " 2.818392859349563,\n",
       " 2.8161434601366393,\n",
       " 3.1276617458308675,\n",
       " 3.003310189683199,\n",
       " 2.81924320428481,\n",
       " 2.8157542350856635,\n",
       " 3.0419698823826535,\n",
       " 2.88703267157062,\n",
       " 2.8201218733495734,\n",
       " 2.8925506397063394,\n",
       " 3.0419698823826535,\n",
       " 2.886456935921656,\n",
       " 2.8201218733495734,\n",
       " 2.8925506397063394,\n",
       " 3.055385928676022,\n",
       " 2.82395698233364,\n",
       " 2.837901030681309,\n",
       " 2.8925506397063394,\n",
       " 3.055385928676022,\n",
       " 2.82395698233364,\n",
       " 2.837901030681309,\n",
       " 2.9408479332010664,\n",
       " 3.055385928676022,\n",
       " 2.82395698233364,\n",
       " 2.911140525435247,\n",
       " 2.9408479332010664,\n",
       " 2.992427001032051,\n",
       " 2.82395698233364,\n",
       " 2.911140525435247,\n",
       " 2.9431855376267118,\n",
       " 2.9126677389760065,\n",
       " 2.8290541995183522,\n",
       " 2.911140525435247,\n",
       " 2.9510910902935823,\n",
       " 2.9126677389760065,\n",
       " 2.8241542777970587,\n",
       " ...]"
      ]
     },
     "execution_count": 76,
     "metadata": {},
     "output_type": "execute_result"
    }
   ],
   "source": [
    "R_0"
   ]
  },
  {
   "cell_type": "code",
   "execution_count": 78,
   "metadata": {
    "ExecuteTime": {
     "end_time": "2020-08-20T14:54:50.902427Z",
     "start_time": "2020-08-20T14:54:50.862607Z"
    }
   },
   "outputs": [
    {
     "data": {
      "text/plain": [
       "array([0.11311051, 0.11256897, 0.12092431, 0.1298633 , 0.13208328,\n",
       "       0.13882016, 0.11679157, 0.07875027, 0.05708765], dtype=float32)"
      ]
     },
     "execution_count": 78,
     "metadata": {},
     "output_type": "execute_result"
    }
   ],
   "source": [
    "initN/sum(initN)"
   ]
  },
  {
   "cell_type": "code",
   "execution_count": 86,
   "metadata": {
    "ExecuteTime": {
     "end_time": "2020-08-20T15:00:35.689582Z",
     "start_time": "2020-08-20T15:00:34.216184Z"
    }
   },
   "outputs": [
    {
     "name": "stdout",
     "output_type": "stream",
     "text": [
      "2.8594112497577053 2.704448450204432 3.017760862712358\n"
     ]
    },
    {
     "data": {
      "image/png": "[encoded data removed]",
      "text/plain": [
       "<Figure size 432x288 with 1 Axes>"
      ]
     },
     "metadata": {
      "needs_background": "light"
     },
     "output_type": "display_data"
    }
   ],
   "source": [
    "R_0 =[]\n",
    "for i in range(len(samples_dict['beta'])):\n",
    "    R_0.append(sum((model.parameters['a']*model.parameters['da']+model.parameters['omega'])*samples_dict['beta'][i]*model.parameters['s']*np.sum(Nc_total,axis=1)*(initN/sum(initN))))\n",
    "\n",
    "plt.hist(R_0,bins=30)\n",
    "mean = np.mean(R_0)\n",
    "p10 = np.percentile(R_0,10)\n",
    "p90 = np.percentile(R_0,90)\n",
    "print(mean,p10,p90)"
   ]
  },
  {
   "cell_type": "code",
   "execution_count": 81,
   "metadata": {
    "ExecuteTime": {
     "end_time": "2020-08-20T14:57:27.241681Z",
     "start_time": "2020-08-20T14:57:26.407542Z"
    }
   },
   "outputs": [
    {
     "name": "stdout",
     "output_type": "stream",
     "text": [
      "1.6364416036073395 1.54775636386719 1.7270651173030591\n",
      "2.0047509958078096 1.8961056140901866 2.1157708934470594\n",
      "4.412457956671965 4.1733294165100885 4.656812807579433\n",
      "5.17519161924537 4.894727526642091 5.461785438145364\n",
      "4.066562740316255 3.8461796293342867 4.291762468420931\n",
      "2.987006454523246 2.8251287664097084 3.1524220854531744\n",
      "1.476533784762233 1.3965145818787252 1.5583018596942249\n",
      "0.8363211848732974 0.7909976336895849 0.8826353119306365\n",
      "0.9268198897688122 0.8765918560040287 0.9781456900838248\n"
     ]
    },
    {
     "data": {
      "image/png": "[encoded data removed]",
      "text/plain": [
       "<Figure size 432x288 with 1 Axes>"
      ]
     },
     "metadata": {
      "needs_background": "light"
     },
     "output_type": "display_data"
    }
   ],
   "source": [
    "R_0_stratified = np.zeros([initN.size,len(samples_dict['beta'])])\n",
    "for i in range(len(samples_dict['beta'])):\n",
    "    R_0_stratified[:,i]= (model.parameters['a']*model.parameters['da']+model.parameters['omega'])*samples_dict['beta'][i]*model.parameters['s']*np.sum(Nc_total,axis=1)\n",
    "plt.hist(R_0_stratified[8,:],bins=30)\n",
    "\n",
    "for i in range(R_0_stratified.shape[0]):\n",
    "    mean = np.mean(R_0_stratified[i,:])\n",
    "    p10 = np.percentile(R_0_stratified[i,:],10)\n",
    "    p90 = np.percentile(R_0_stratified[i,:],90)\n",
    "    print(mean,p10,p90)"
   ]
  },
  {
   "cell_type": "code",
   "execution_count": 82,
   "metadata": {
    "ExecuteTime": {
     "end_time": "2020-08-20T14:57:31.351164Z",
     "start_time": "2020-08-20T14:57:31.311462Z"
    }
   },
   "outputs": [
    {
     "data": {
      "text/plain": [
       "array([[1.70272796, 1.64966464, 1.65031938, ..., 1.77225626, 1.68513806,\n",
       "        1.72942742],\n",
       "       [2.08595624, 2.02095011, 2.0217522 , ..., 2.17113308, 2.06440743,\n",
       "        2.11866487],\n",
       "       [4.59119074, 4.44811221, 4.44987761, ..., 4.778665  , 4.5437618 ,\n",
       "        4.66318246],\n",
       "       ...,\n",
       "       [1.53634285, 1.48846471, 1.48905547, ..., 1.59907706, 1.52047178,\n",
       "        1.56043333],\n",
       "       [0.87019755, 0.84307896, 0.84341357, ..., 0.90573073, 0.86120804,\n",
       "        0.88384259],\n",
       "       [0.96436203, 0.93430893, 0.93467975, ..., 1.00374028, 0.95439976,\n",
       "        0.97948361]])"
      ]
     },
     "execution_count": 82,
     "metadata": {},
     "output_type": "execute_result"
    }
   ],
   "source": [
    "R_0_stratified"
   ]
  },
  {
   "cell_type": "code",
   "execution_count": null,
   "metadata": {},
   "outputs": [],
   "source": []
  }
 ],
 "metadata": {
  "kernelspec": {
   "display_name": "Python 3",
   "language": "python",
   "name": "python3"
  },
  "language_info": {
   "codemirror_mode": {
    "name": "ipython",
    "version": 3
   },
   "file_extension": ".py",
   "mimetype": "text/x-python",
   "name": "python",
   "nbconvert_exporter": "python",
   "pygments_lexer": "ipython3",
   "version": "3.8.2"
  },
  "toc": {
   "base_numbering": 1,
   "nav_menu": {},
   "number_sections": true,
   "sideBar": true,
   "skip_h1_title": false,
   "title_cell": "Table of Contents",
   "title_sidebar": "Contents",
   "toc_cell": false,
   "toc_position": {
    "height": "calc(100% - 180px)",
    "left": "10px",
    "top": "150px",
    "width": "288px"
   },
   "toc_section_display": true,
   "toc_window_display": true
  }
 },
 "nbformat": 4,
 "nbformat_minor": 4
}
