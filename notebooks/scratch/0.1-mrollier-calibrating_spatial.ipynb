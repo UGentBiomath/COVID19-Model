{
 "cells": [
  {
   "cell_type": "markdown",
   "metadata": {},
   "source": [
    "**CONTENT**\n",
    "\n",
    "The calibration process is slightly different for the spatial model. In this notebook we will first explore the various challenges and options concerning calibration of the spatial model. Next, this is the scratch environment for the creation of new functions, if need be.\n",
    "\n",
    "**OPEN TASKS**\n",
    "\n",
    "*short term*  \n",
    "1. Think about another way to downgrade the number of contacts (which is now done with the `prevention` parameter). Or as Tijs says it:\n",
    ">die 'downgrade' de contacten omdat slechts 1/3 contacten tot transmissie lijkt te leiden. Dit wil ik zelf wegdoen in een volgende modelversie omdat hier ook het effect van het weer inzit ed. Als je een andere oplossing kan bedenken is die meer dan welkom. Ik dacht eraan om bvb te spelen met de contactintensiteiten in de modellen (bvb calibratie op enkel 5 min plus) of tijdens de lockdown alle contacten eruit onder 1h in lengte. Die optie zit in de contact matrix inlaadfunctie.\n",
    "2. Aggregate Belgian arrondissements in three regions: metropolitan, urban and rural\n",
    "3. Fix the model attributes to be `parameters` again (rather than taking 29 individual parameters), because this structure is used in the `MLE` function. Just put this restructuring of `parameters` dictionary in the save and open functions. Otherwise this will never work.\n",
    "4. CURRENT ERROR,\n",
    "```\n",
    "    operands could not be broadcast together with shapes (7,) (12,38)\n",
    "```\n",
    "is associated with the `obj` function in `pso.py`, which is associated with `func`, which is the `MLE` in our case. The map from `obj` to `x` cannot happen because `obj` and `x` do not have the same dimensions.\n",
    "\n",
    "*long term*  \n",
    "1. test\n",
    "\n",
    "**OPEN QUESTIONS**\n",
    "\n",
    "1. What are the parameters sigma_H_in and extraTime that the MCMC is running over?\n",
    "2. What does `emcee.Ensemblesampler` do exactly? Reference: [this link](https://emcee.readthedocs.io/en/stable/user/sampler/)\n",
    "3. Is it fair to start with an initialised model and only shift it horizontally? Isn't it possible to also run an MCMC on different initialisations?\n",
    "4. What goes wrong when executing `fit_pso`? Arguably the model is not good.\n",
    "5. Would it be useful to use constraining functions in the PSO optimisation?\n",
    "6. What is the effect of using other `objective_fcn`s? Instead of `MLE` use `SSE`, for example. Are these 'choices', or is there a strong preference/necessity for one?\n",
    ">An explanation of the difference between SSE and MLE can be found [here](https://emcee.readthedocs.io/en/stable/tutorials/line/). Brief summary: if measurement noise is unbiased, Gaussian and independent than the MLE and SSE are identical.\n",
    "\n",
    "7. The example use in the function description of `MLE` function says `MLE(model,thetas,data,parNames,positions)`, but this does not correspond to the look of the function itself (`def MLE(thetas,BaseModel,data,states,parNames,samples=None):`). Is this some Python magic?\n",
    "8. PROBLEM -- For full calibration of every arrondissement *I will quite certainly need supercomputer time*. To calculate the maximum likelihood, a simulation is made every time. For 43 arrondissements and 5000 MCMC steps this means that on my pc this will need at least 20 hours to run. This problem **cannot** be circumvented by aggregating results, because this only happens a posteriori."
   ]
  },
  {
   "cell_type": "markdown",
   "metadata": {},
   "source": [
    "# Load packages"
   ]
  },
  {
   "cell_type": "code",
   "execution_count": 17,
   "metadata": {
    "ExecuteTime": {
     "end_time": "2020-10-29T14:07:30.229390Z",
     "start_time": "2020-10-29T14:07:30.159967Z"
    }
   },
   "outputs": [
    {
     "name": "stdout",
     "output_type": "stream",
     "text": [
      "The autoreload extension is already loaded. To reload it, use:\n",
      "  %reload_ext autoreload\n"
     ]
    }
   ],
   "source": [
    "# Established packages\n",
    "import os\n",
    "import numpy as np\n",
    "import pandas as pd\n",
    "import geopandas as gp\n",
    "import datetime\n",
    "import math\n",
    "import xarray as xr # labels in the form of dimensions, coordinates and attributes\n",
    "import matplotlib.pyplot as plt\n",
    "import zarr\n",
    "\n",
    "# Custom package covid19model\n",
    "from covid19model.models import models\n",
    "from covid19model.models.utils import name2nis, social_policy_func, save_sim, open_sim\n",
    "from covid19model.data import model_parameters #, sciensano, google\n",
    "from covid19model.visualization.output import population_status, infected, show_map, show_graphs\n",
    "\n",
    "# Download function for complete calibration\n",
    "from covid19model.optimization.run_optimization import full_calibration_wave1, full_calibration_wave2\n",
    "\n",
    "\n",
    "# OPTIONAL: Load the \"autoreload\" extension so that package code can change\n",
    "%load_ext autoreload\n",
    "# OPTIONAL: always reload modules so that as you change code in src, it gets loaded\n",
    "# This may be useful because the `covid19model` package is under construction\n",
    "%autoreload 2"
   ]
  },
  {
   "cell_type": "markdown",
   "metadata": {},
   "source": [
    "# Explore `0.1-twallema-calibration-stochastic.ipynb`"
   ]
  },
  {
   "cell_type": "markdown",
   "metadata": {},
   "source": [
    "*Steps*  \n",
    "1. Hospitalisation data from 15-21 March is taken\n",
    "2. Parameters that are being varied over are `sigma_H_in`, `extraTime` and `beta`. `sigma_H_in` is the uncertainty on `H_in`, `extraTime` is the time between day 0 of the initialised simulation (with e.g. E=10 people) and day 0 of the time series. Not sure if I like this.\n",
    "3. Bounds for flat priors are given\n",
    "4. Particle Swarm Optimisation (`MCMC.fit_pso`) is executed to find the maximum likelihood estimates of model parameters mentioned above\n",
    "5. Resulting extraTime is added as model attribute and the other parameter values are used as initial values for the MCMC (typically: four slightly different initial points (nwalkers)). The MCMC happens in two dimensions with four walkers  (paths)\n",
    "6. Ensemble sampler is used from the `emcee` sampler. I'm not entirely sure what this means\n",
    "7. It appears that the beta parameter is *first* calibrated, and only *later on* the compliance parameters. The reason is that beta is best calibrated to data before any measures ('pure beta')"
   ]
  },
  {
   "cell_type": "markdown",
   "metadata": {},
   "source": [
    "# Explore `run_optimization.py`"
   ]
  },
  {
   "cell_type": "markdown",
   "metadata": {},
   "source": [
    "This function summarises much of the notebook described above. Difference between `full_calibration_wave1` and `full_calibration_wave2` is that the first one focuses on the March/April wave, whilst the latter focuses on the October/November wave.\n",
    "\n",
    "**input**\n",
    "Contains a function called `full_calibration_wave1` that takes in the following arguments:\n",
    "1. `model`: initialised model object (such as the output of the `COVID19_SEIRD_sto_spatial` function)\n",
    "2. `timeseries`: `pandas` Series Sciensano data to fit with date in index. Take from private data (if such is already available)\n",
    "3. `spatial_unit`: name of the resulting files (e.g. Gent, Flanders, ...). Simply for *naming*\n",
    "4. `start_date`: YYYY-MM-DD string for first day in the data to fit on\n",
    "5. `end_beta`: YYYY-MM-DD string for last day to fit beta on\n",
    "6. `end_ramp`: YYYY-MM-DD string for last day to fit compliance parameters on\n",
    "7. `fig_path`: directory to save output figures in\n",
    "8. `samples_path`: directory to save samples in. This is of the shape\n",
    "```\n",
    "    samples_dict={'calibration_data':states[0][0], 'start_date':start_date,\n",
    "                  'end_beta':end_beta, 'end_ramp':end_ramp,\n",
    "                  'maxiter': maxiter, 'popsize':popsize, 'steps_mcmc':steps_mcmc,\n",
    "                  'R0':R0, 'R0_stratified_dict':R0_stratified_dict,\n",
    "                  'lag_time': lag_time, 'beta': samples_beta['beta'],\n",
    "                  'l': flat_samples_ramp[:,1].tolist(),'tau':flat_samples_ramp[:,2].tolist(),\n",
    "                  'prevention':flat_samples_ramp[:,3].tolist()}\n",
    "```\n",
    "9. `initN`: total initial population\n",
    "10. `Nc_total`: total interaction matrix\n",
    "11. `maxiter`: maximal number of particle swarm steps\n",
    "12. `popsize`: maximal number of particles in the swarm\n",
    "13. `steps_mcmc`: iterations of the Monte Carlo simulation. 5000 steps in the national model takes about half an hour. Default is 10000\n",
    "\n",
    "**output**\n",
    "\n",
    "**notes**\n",
    "1. `H_in` is hardcoded: if we want to choose e.g. the number of exposed people we need to fill in another string value here\n",
    "2. Prior bounds of the PSO are hardcoded and may be adjusted (but probably these boundaries are wide enough)\n",
    "3. PSO optimisation happens with the `fit_pso` function in `MCMC.py`, which contains all aid functions for executing the Markov Chain Monte Carlo simulation. `fit_pso` basically addresses the main function in `pso.py` called `optim`: it *only* takes the first return value of this function, which is needed for the MCMC. Description of `fit_pso`:\n",
    "```\n",
    "    A function to compute the mimimum of the absolute value of the maximum likelihood estimator using a particle swarm optimization\n",
    "```\n",
    "it must take in a certain function and boundaries for the function's varied parameters. \n",
    "4. The function this particle swarm attempts to minimize is called `MLE` in the module `objective_fcns.py`:\n",
    "```\n",
    "    A function to return the maximum likelihood estimator given a model object and a dataset\n",
    "```\n",
    "5. The args given to the `optim` function are \"additional arguments passed to objective and constraint functions\". They are\n",
    "```\n",
    "    args=(model,data,states,parNames,samples)\n",
    "```\n",
    "6. Additional arguments are hardcoded and not very important:\n",
    "```\n",
    "    processes=mp.cpu_count()-1),minfunc=1e-9, minstep=1e-9,debug=True, particle_output=True\n",
    "```\n",
    "`multiprocessing.cpu_count()-1` returns the number of processors in the system minus 1. If there are more than two processors, some fancy `multiprocessing.Pool` object is created (computer stuff)  \n",
    "\n",
    "7. What happens to the `args` arguments (model,data,states,parNames,samples) in `fit_pso`?\n",
    "    * They run through `functools`'s `partial` function, which fixes some function arguments:\n",
    "    >The partial() is used for partial function application which “freezes” some portion of a function’s arguments and/or keywords resulting in a new object with a simplified signature. For example, partial() can be used to create a callable that behaves like the int() function where the base argument defaults to two\n",
    "    * The effect here is that the arguments `args` are fixed to the `MLE` function, so in effect `MLE(args)` is executed. QUESTION: why this detour? Code-technical stuff.\n",
    "    * No constraining functions are given, so \"No constraints given\" is printed.\n",
    "    * `is_feasible = partial(_is_feasible_wrapper, cons)` checks whether no additional constraints are violated. In our case, this is always `True`\n",
    "    * Then the actual PSO is coded (raw) and returns a coordinate array of \"The swarm's best known position (optimal design)\"\n",
    "7. **the secret is in the `MLE` function**, which takes as arguments `model, data, states, parNames, samples`:\n",
    "> A function to return the maximum likelihood estimator given a model object and a dataset\n",
    "\n",
    "    * returns the total sum of squared errors, which is why it is minimised!\n",
    "    * In the first step, updates the parameters to initial guesses. In the special case where the parameter is called `extraTime`, the model attribute `extraTime` is set to its value (rather than a parameter in the `parameter` attribute)\n",
    "    * the `extraTime` magic happens at line 130: `T = max(data_length)+BaseModel.extraTime-1`"
   ]
  },
  {
   "cell_type": "markdown",
   "metadata": {},
   "source": [
    "**Load model**"
   ]
  },
  {
   "cell_type": "code",
   "execution_count": 57,
   "metadata": {
    "ExecuteTime": {
     "end_time": "2020-10-29T16:36:12.299202Z",
     "start_time": "2020-10-29T16:36:12.026455Z"
    }
   },
   "outputs": [],
   "source": [
    "# Load model parameters\n",
    "spatial = 'arr'\n",
    "initN, Nc_home, Nc_work, Nc_schools, Nc_transport, Nc_leisure, Nc_others, Nc_total = model_parameters.get_interaction_matrices(spatial=spatial)\n",
    "params = model_parameters.get_COVID19_SEIRD_parameters(spatial=spatial)\n",
    "\n",
    "# Load initial state: one thirty year old exposed individual in every arrondissement\n",
    "G, N = initN.shape[0], initN.shape[1]\n",
    "E = np.zeros([G,N])\n",
    "for g in range(G):\n",
    "    E[g,3] = 1\n",
    "states = dict({'S' : initN, 'E' : E})\n",
    "\n",
    "# Load model\n",
    "model = models.COVID19_SEIRD_sto_spatial(states, params, discrete=True, spatial=spatial)"
   ]
  },
  {
   "cell_type": "markdown",
   "metadata": {
    "ExecuteTime": {
     "end_time": "2020-10-29T14:10:53.933927Z",
     "start_time": "2020-10-29T14:10:53.864115Z"
    }
   },
   "source": [
    "**Load (private) data**"
   ]
  },
  {
   "cell_type": "code",
   "execution_count": 44,
   "metadata": {
    "ExecuteTime": {
     "end_time": "2020-10-29T14:26:31.748816Z",
     "start_time": "2020-10-29T14:26:31.598182Z"
    }
   },
   "outputs": [
    {
     "data": {
      "text/plain": [
       "[<matplotlib.lines.Line2D at 0x1ce9093b3c8>]"
      ]
     },
     "execution_count": 44,
     "metadata": {},
     "output_type": "execute_result"
    },
    {
     "data": {
      "image/png": "[encoded data removed]",
      "text/plain": [
       "<Figure size 432x288 with 1 Axes>"
      ]
     },
     "metadata": {
      "needs_background": "light"
     },
     "output_type": "display_data"
    }
   ],
   "source": [
    "NIS = 21000\n",
    "ts = 'hospitalised_IN'\n",
    "\n",
    "all_timeseries = pd.read_csv(\"../../../COVID19_spatial_private/interim/all_nonpublic_timeseries_arr.csv\").fillna(0)\n",
    "timeseries = all_timeseries[all_timeseries['NIS_arr']==NIS].set_index('DATE')[ts]\n",
    "# plt.grid(False)\n",
    "# plt.xticks([])\n",
    "# plt.plot(timeseries['2020-03-05':'2020-04-05'])"
   ]
  },
  {
   "cell_type": "markdown",
   "metadata": {},
   "source": [
    "**Execute calibration**"
   ]
  },
  {
   "cell_type": "code",
   "execution_count": 58,
   "metadata": {
    "ExecuteTime": {
     "end_time": "2020-10-29T17:08:11.910881Z",
     "start_time": "2020-10-29T17:07:42.395518Z"
    }
   },
   "outputs": [
    {
     "name": "stdout",
     "output_type": "stream",
     "text": [
      "No constraints given.\n"
     ]
    },
    {
     "ename": "ValueError",
     "evalue": "operands could not be broadcast together with shapes (7,) (12,38) ",
     "output_type": "error",
     "traceback": [
      "\u001b[1;31m---------------------------------------------------------------------------\u001b[0m",
      "\u001b[1;31mRemoteTraceback\u001b[0m                           Traceback (most recent call last)",
      "\u001b[1;31mRemoteTraceback\u001b[0m: \n\"\"\"\nTraceback (most recent call last):\n  File \"C:\\Anaconda3\\lib\\multiprocessing\\pool.py\", line 121, in worker\n    result = (True, func(*args, **kwds))\n  File \"C:\\Anaconda3\\lib\\multiprocessing\\pool.py\", line 44, in mapstar\n    return list(map(*args))\n  File \"c:\\users\\mrollier\\documents\\github\\covid19-model\\src\\covid19model\\optimization\\pso.py\", line 6, in _obj_wrapper\n    return func(x, *args, **kwargs)\n  File \"c:\\users\\mrollier\\documents\\github\\covid19-model\\src\\covid19model\\optimization\\objective_fcns.py\", line 150, in MLE\n    MLE = MLE - 0.5 * np.sum((data[i] - ymodel[i]) ** 2 / sigma[i]**2 + np.log(sigma[i]**2))\n  File \"C:\\Users\\mrollier\\AppData\\Roaming\\Python\\Python37\\site-packages\\pandas\\core\\ops\\common.py\", line 65, in new_method\n    return method(self, other)\n  File \"C:\\Users\\mrollier\\AppData\\Roaming\\Python\\Python37\\site-packages\\pandas\\core\\ops\\__init__.py\", line 343, in wrapper\n    result = arithmetic_op(lvalues, rvalues, op)\n  File \"C:\\Users\\mrollier\\AppData\\Roaming\\Python\\Python37\\site-packages\\pandas\\core\\ops\\array_ops.py\", line 189, in arithmetic_op\n    res_values = na_arithmetic_op(lvalues, rvalues, op)\n  File \"C:\\Users\\mrollier\\AppData\\Roaming\\Python\\Python37\\site-packages\\pandas\\core\\ops\\array_ops.py\", line 142, in na_arithmetic_op\n    result = expressions.evaluate(op, left, right)\n  File \"C:\\Users\\mrollier\\AppData\\Roaming\\Python\\Python37\\site-packages\\pandas\\core\\computation\\expressions.py\", line 230, in evaluate\n    return _evaluate(op, op_str, a, b)  # type: ignore\n  File \"C:\\Users\\mrollier\\AppData\\Roaming\\Python\\Python37\\site-packages\\pandas\\core\\computation\\expressions.py\", line 119, in _evaluate_numexpr\n    result = _evaluate_standard(op, op_str, a, b)\n  File \"C:\\Users\\mrollier\\AppData\\Roaming\\Python\\Python37\\site-packages\\pandas\\core\\computation\\expressions.py\", line 68, in _evaluate_standard\n    return op(a, b)\nValueError: operands could not be broadcast together with shapes (7,) (12,38) \n\"\"\"",
      "\nThe above exception was the direct cause of the following exception:\n",
      "\u001b[1;31mValueError\u001b[0m                                Traceback (most recent call last)",
      "\u001b[1;32m<ipython-input-58-464ee5f5c741>\u001b[0m in \u001b[0;36m<module>\u001b[1;34m\u001b[0m\n\u001b[0;32m     11\u001b[0m \u001b[1;33m\u001b[0m\u001b[0m\n\u001b[0;32m     12\u001b[0m full_calibration_wave1(model, timeseries, str(NIS), start_date, end_beta, end_ramp, \\\n\u001b[1;32m---> 13\u001b[1;33m                        fig_path, samples_path, initN, Nc_total, maxiter=maxiter, popsize=popsize, steps_mcmc=steps_mcmc)\n\u001b[0m",
      "\u001b[1;32mc:\\users\\mrollier\\documents\\github\\covid19-model\\src\\covid19model\\optimization\\run_optimization.py\u001b[0m in \u001b[0;36mfull_calibration_wave1\u001b[1;34m(model, timeseries, spatial_unit, start_date, end_beta, end_ramp, fig_path, samples_path, initN, Nc_total, maxiter, popsize, steps_mcmc)\u001b[0m\n\u001b[0;32m     66\u001b[0m     \u001b[0mbounds_pso\u001b[0m\u001b[1;33m=\u001b[0m\u001b[1;33m(\u001b[0m\u001b[1;33m(\u001b[0m\u001b[1;36m1\u001b[0m\u001b[1;33m,\u001b[0m\u001b[1;36m100\u001b[0m\u001b[1;33m)\u001b[0m\u001b[1;33m,\u001b[0m\u001b[1;33m(\u001b[0m\u001b[1;36m30\u001b[0m\u001b[1;33m,\u001b[0m\u001b[1;36m60\u001b[0m\u001b[1;33m)\u001b[0m\u001b[1;33m,\u001b[0m\u001b[1;33m(\u001b[0m\u001b[1;36m0.02\u001b[0m\u001b[1;33m,\u001b[0m\u001b[1;36m0.06\u001b[0m\u001b[1;33m)\u001b[0m\u001b[1;33m)\u001b[0m \u001b[1;31m# must be a list!\u001b[0m\u001b[1;33m\u001b[0m\u001b[1;33m\u001b[0m\u001b[0m\n\u001b[0;32m     67\u001b[0m     \u001b[1;31m# run pso optimisation\u001b[0m\u001b[1;33m\u001b[0m\u001b[1;33m\u001b[0m\u001b[1;33m\u001b[0m\u001b[0m\n\u001b[1;32m---> 68\u001b[1;33m     \u001b[0mtheta\u001b[0m \u001b[1;33m=\u001b[0m \u001b[0mMCMC\u001b[0m\u001b[1;33m.\u001b[0m\u001b[0mfit_pso\u001b[0m\u001b[1;33m(\u001b[0m\u001b[0mmodel\u001b[0m\u001b[1;33m,\u001b[0m\u001b[0mdata\u001b[0m\u001b[1;33m,\u001b[0m\u001b[0mparNames_pso\u001b[0m\u001b[1;33m,\u001b[0m\u001b[0mstates\u001b[0m\u001b[1;33m,\u001b[0m\u001b[0mbounds_pso\u001b[0m\u001b[1;33m,\u001b[0m\u001b[0mmaxiter\u001b[0m\u001b[1;33m=\u001b[0m\u001b[0mmaxiter\u001b[0m\u001b[1;33m,\u001b[0m\u001b[0mpopsize\u001b[0m\u001b[1;33m=\u001b[0m\u001b[0mpopsize\u001b[0m\u001b[1;33m)\u001b[0m\u001b[1;33m\u001b[0m\u001b[1;33m\u001b[0m\u001b[0m\n\u001b[0m\u001b[0;32m     69\u001b[0m \u001b[1;33m\u001b[0m\u001b[0m\n\u001b[0;32m     70\u001b[0m     \u001b[0msigma_data\u001b[0m \u001b[1;33m=\u001b[0m \u001b[0mtheta\u001b[0m\u001b[1;33m[\u001b[0m\u001b[1;36m0\u001b[0m\u001b[1;33m]\u001b[0m\u001b[1;33m\u001b[0m\u001b[1;33m\u001b[0m\u001b[0m\n",
      "\u001b[1;32mc:\\users\\mrollier\\documents\\github\\covid19-model\\src\\covid19model\\optimization\\MCMC.py\u001b[0m in \u001b[0;36mfit_pso\u001b[1;34m(model, data, parNames, states, bounds, samples, disp, maxiter, popsize, processes)\u001b[0m\n\u001b[0;32m     46\u001b[0m     \u001b[1;31m# -------------------------------------------\u001b[0m\u001b[1;33m\u001b[0m\u001b[1;33m\u001b[0m\u001b[1;33m\u001b[0m\u001b[0m\n\u001b[0;32m     47\u001b[0m     p_hat, obj_fun_val, pars_final_swarm, obj_fun_val_final_swarm = pso.optim(objective_fcns.MLE, bounds, args=(model,data,states,parNames,samples), swarmsize=popsize, maxiter=maxiter,\n\u001b[1;32m---> 48\u001b[1;33m                                                                                 processes=processes,minfunc=1e-9, minstep=1e-9,debug=True, particle_output=True)\n\u001b[0m\u001b[0;32m     49\u001b[0m     \u001b[0mtheta_hat\u001b[0m \u001b[1;33m=\u001b[0m \u001b[0mp_hat\u001b[0m\u001b[1;33m\u001b[0m\u001b[1;33m\u001b[0m\u001b[0m\n\u001b[0;32m     50\u001b[0m \u001b[1;33m\u001b[0m\u001b[0m\n",
      "\u001b[1;32mc:\\users\\mrollier\\documents\\github\\covid19-model\\src\\covid19model\\optimization\\pso.py\u001b[0m in \u001b[0;36moptim\u001b[1;34m(func, bounds, ieqcons, f_ieqcons, args, kwargs, swarmsize, omega, phip, phig, maxiter, minstep, minfunc, debug, processes, particle_output, transform_pars)\u001b[0m\n\u001b[0;32m    155\u001b[0m     \u001b[1;31m# Calculate objective and constraints for each particle\u001b[0m\u001b[1;33m\u001b[0m\u001b[1;33m\u001b[0m\u001b[1;33m\u001b[0m\u001b[0m\n\u001b[0;32m    156\u001b[0m     \u001b[1;32mif\u001b[0m \u001b[0mprocesses\u001b[0m \u001b[1;33m>\u001b[0m \u001b[1;36m1\u001b[0m\u001b[1;33m:\u001b[0m\u001b[1;33m\u001b[0m\u001b[1;33m\u001b[0m\u001b[0m\n\u001b[1;32m--> 157\u001b[1;33m         \u001b[0mfx\u001b[0m \u001b[1;33m=\u001b[0m \u001b[0mnp\u001b[0m\u001b[1;33m.\u001b[0m\u001b[0marray\u001b[0m\u001b[1;33m(\u001b[0m\u001b[0mmp_pool\u001b[0m\u001b[1;33m.\u001b[0m\u001b[0mmap\u001b[0m\u001b[1;33m(\u001b[0m\u001b[0mobj\u001b[0m\u001b[1;33m,\u001b[0m \u001b[0mx\u001b[0m\u001b[1;33m)\u001b[0m\u001b[1;33m)\u001b[0m\u001b[1;33m\u001b[0m\u001b[1;33m\u001b[0m\u001b[0m\n\u001b[0m\u001b[0;32m    158\u001b[0m         \u001b[0mfs\u001b[0m \u001b[1;33m=\u001b[0m \u001b[0mnp\u001b[0m\u001b[1;33m.\u001b[0m\u001b[0marray\u001b[0m\u001b[1;33m(\u001b[0m\u001b[0mmp_pool\u001b[0m\u001b[1;33m.\u001b[0m\u001b[0mmap\u001b[0m\u001b[1;33m(\u001b[0m\u001b[0mis_feasible\u001b[0m\u001b[1;33m,\u001b[0m \u001b[0mx\u001b[0m\u001b[1;33m)\u001b[0m\u001b[1;33m)\u001b[0m\u001b[1;33m\u001b[0m\u001b[1;33m\u001b[0m\u001b[0m\n\u001b[0;32m    159\u001b[0m     \u001b[1;32melse\u001b[0m\u001b[1;33m:\u001b[0m\u001b[1;33m\u001b[0m\u001b[1;33m\u001b[0m\u001b[0m\n",
      "\u001b[1;32mC:\\Anaconda3\\lib\\multiprocessing\\pool.py\u001b[0m in \u001b[0;36mmap\u001b[1;34m(self, func, iterable, chunksize)\u001b[0m\n\u001b[0;32m    266\u001b[0m         \u001b[1;32min\u001b[0m \u001b[0ma\u001b[0m \u001b[0mlist\u001b[0m \u001b[0mthat\u001b[0m \u001b[1;32mis\u001b[0m \u001b[0mreturned\u001b[0m\u001b[1;33m.\u001b[0m\u001b[1;33m\u001b[0m\u001b[1;33m\u001b[0m\u001b[0m\n\u001b[0;32m    267\u001b[0m         '''\n\u001b[1;32m--> 268\u001b[1;33m         \u001b[1;32mreturn\u001b[0m \u001b[0mself\u001b[0m\u001b[1;33m.\u001b[0m\u001b[0m_map_async\u001b[0m\u001b[1;33m(\u001b[0m\u001b[0mfunc\u001b[0m\u001b[1;33m,\u001b[0m \u001b[0miterable\u001b[0m\u001b[1;33m,\u001b[0m \u001b[0mmapstar\u001b[0m\u001b[1;33m,\u001b[0m \u001b[0mchunksize\u001b[0m\u001b[1;33m)\u001b[0m\u001b[1;33m.\u001b[0m\u001b[0mget\u001b[0m\u001b[1;33m(\u001b[0m\u001b[1;33m)\u001b[0m\u001b[1;33m\u001b[0m\u001b[1;33m\u001b[0m\u001b[0m\n\u001b[0m\u001b[0;32m    269\u001b[0m \u001b[1;33m\u001b[0m\u001b[0m\n\u001b[0;32m    270\u001b[0m     \u001b[1;32mdef\u001b[0m \u001b[0mstarmap\u001b[0m\u001b[1;33m(\u001b[0m\u001b[0mself\u001b[0m\u001b[1;33m,\u001b[0m \u001b[0mfunc\u001b[0m\u001b[1;33m,\u001b[0m \u001b[0miterable\u001b[0m\u001b[1;33m,\u001b[0m \u001b[0mchunksize\u001b[0m\u001b[1;33m=\u001b[0m\u001b[1;32mNone\u001b[0m\u001b[1;33m)\u001b[0m\u001b[1;33m:\u001b[0m\u001b[1;33m\u001b[0m\u001b[1;33m\u001b[0m\u001b[0m\n",
      "\u001b[1;32mC:\\Anaconda3\\lib\\multiprocessing\\pool.py\u001b[0m in \u001b[0;36mget\u001b[1;34m(self, timeout)\u001b[0m\n\u001b[0;32m    655\u001b[0m             \u001b[1;32mreturn\u001b[0m \u001b[0mself\u001b[0m\u001b[1;33m.\u001b[0m\u001b[0m_value\u001b[0m\u001b[1;33m\u001b[0m\u001b[1;33m\u001b[0m\u001b[0m\n\u001b[0;32m    656\u001b[0m         \u001b[1;32melse\u001b[0m\u001b[1;33m:\u001b[0m\u001b[1;33m\u001b[0m\u001b[1;33m\u001b[0m\u001b[0m\n\u001b[1;32m--> 657\u001b[1;33m             \u001b[1;32mraise\u001b[0m \u001b[0mself\u001b[0m\u001b[1;33m.\u001b[0m\u001b[0m_value\u001b[0m\u001b[1;33m\u001b[0m\u001b[1;33m\u001b[0m\u001b[0m\n\u001b[0m\u001b[0;32m    658\u001b[0m \u001b[1;33m\u001b[0m\u001b[0m\n\u001b[0;32m    659\u001b[0m     \u001b[1;32mdef\u001b[0m \u001b[0m_set\u001b[0m\u001b[1;33m(\u001b[0m\u001b[0mself\u001b[0m\u001b[1;33m,\u001b[0m \u001b[0mi\u001b[0m\u001b[1;33m,\u001b[0m \u001b[0mobj\u001b[0m\u001b[1;33m)\u001b[0m\u001b[1;33m:\u001b[0m\u001b[1;33m\u001b[0m\u001b[1;33m\u001b[0m\u001b[0m\n",
      "\u001b[1;31mValueError\u001b[0m: operands could not be broadcast together with shapes (7,) (12,38) "
     ]
    }
   ],
   "source": [
    "start_date = '2020-03-15'\n",
    "end_beta = '2020-03-21'\n",
    "end_ramp = '2020-03-21'\n",
    "fig_path = './'\n",
    "samples_path = './'\n",
    "maxiter = 10 # Way too low for now\n",
    "popsize = 10 # Way too low for now\n",
    "steps_mcmc = 10 # Way too low for now: should run in three minutes\n",
    "\n",
    "# Fix the issue with model attributes!\n",
    "\n",
    "full_calibration_wave1(model, timeseries, str(NIS), start_date, end_beta, end_ramp, \\\n",
    "                       fig_path, samples_path, initN, Nc_total, maxiter=maxiter, popsize=popsize, steps_mcmc=steps_mcmc)"
   ]
  }
 ],
 "metadata": {
  "kernelspec": {
   "display_name": "Python 3",
   "language": "python",
   "name": "python3"
  },
  "language_info": {
   "codemirror_mode": {
    "name": "ipython",
    "version": 3
   },
   "file_extension": ".py",
   "mimetype": "text/x-python",
   "name": "python",
   "nbconvert_exporter": "python",
   "pygments_lexer": "ipython3",
   "version": "3.7.3"
  },
  "toc": {
   "base_numbering": 1,
   "nav_menu": {},
   "number_sections": true,
   "sideBar": true,
   "skip_h1_title": false,
   "title_cell": "Table of Contents",
   "title_sidebar": "Contents",
   "toc_cell": false,
   "toc_position": {},
   "toc_section_display": true,
   "toc_window_display": false
  }
 },
 "nbformat": 4,
 "nbformat_minor": 2
}
