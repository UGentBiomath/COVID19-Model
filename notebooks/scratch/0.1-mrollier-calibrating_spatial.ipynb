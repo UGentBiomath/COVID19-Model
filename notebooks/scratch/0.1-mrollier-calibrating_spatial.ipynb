{
 "cells": [
  {
   "cell_type": "markdown",
   "metadata": {},
   "source": [
    "**CONTENT**\n",
    "\n",
    "The calibration process is slightly different for the spatial model. In this notebook we will first explore the various challenges and options concerning calibration of the spatial model. Next, this is the scratch environment for the creation of new functions, if need be.\n",
    "\n",
    "**OPEN TASKS**\n",
    "\n",
    "*short term*  \n",
    "1. Think about another way to downgrade the number of contacts (which is now done with the `prevention` parameter). Or as Tijs says it:\n",
    ">die 'downgrade' de contacten omdat slechts 1/3 contacten tot transmissie lijkt te leiden. Dit wil ik zelf wegdoen in een volgende modelversie omdat hier ook het effect van het weer inzit ed. Als je een andere oplossing kan bedenken is die meer dan welkom. Ik dacht eraan om bvb te spelen met de contactintensiteiten in de modellen (bvb calibratie op enkel 5 min plus) of tijdens de lockdown alle contacten eruit onder 1h in lengte. Die optie zit in de contact matrix inlaadfunctie.\n",
    "2. Aggregate Belgian arrondissements in three regions: metropolitan, urban and rural\n",
    "3. \n",
    "\n",
    "*long term*  \n",
    "1. test\n",
    "\n",
    "**OPEN QUESTIONS**\n",
    "\n",
    "1. What are the parameters sigma_H_in and extraTime that the MCMC is running over?\n",
    "2. What does `emcee.Ensemblesampler` do exactly? Reference: [this link](https://emcee.readthedocs.io/en/stable/user/sampler/)\n",
    "3. "
   ]
  },
  {
   "cell_type": "markdown",
   "metadata": {},
   "source": [
    "# Load packages"
   ]
  },
  {
   "cell_type": "code",
   "execution_count": 2,
   "metadata": {
    "ExecuteTime": {
     "end_time": "2020-10-29T10:09:48.476767Z",
     "start_time": "2020-10-29T10:09:48.261736Z"
    }
   },
   "outputs": [],
   "source": [
    "# Established packages\n",
    "import os\n",
    "import numpy as np\n",
    "import pandas as pd\n",
    "import geopandas as gp\n",
    "import datetime\n",
    "import math\n",
    "import xarray as xr # labels in the form of dimensions, coordinates and attributes\n",
    "import matplotlib.pyplot as plt\n",
    "import zarr\n",
    "\n",
    "# Custom package covid19model\n",
    "from covid19model.models import models\n",
    "from covid19model.models.utils import name2nis, social_policy_func, save_sim, open_sim\n",
    "from covid19model.data import model_parameters #, sciensano, google\n",
    "from covid19model.visualization.output import population_status, infected, show_map, show_graphs\n",
    "\n",
    "# Download function for complete calibration\n",
    "from covid19model.optimization.run_optimization import full_calibration\n",
    "\n",
    "\n",
    "# OPTIONAL: Load the \"autoreload\" extension so that package code can change\n",
    "%load_ext autoreload\n",
    "# OPTIONAL: always reload modules so that as you change code in src, it gets loaded\n",
    "# This may be useful because the `covid19model` package is under construction\n",
    "%autoreload 2"
   ]
  },
  {
   "cell_type": "markdown",
   "metadata": {},
   "source": [
    "# Explore `0.1-twallema-calibration-stochastic.ipynb`"
   ]
  },
  {
   "cell_type": "markdown",
   "metadata": {},
   "source": [
    "*Steps*  \n",
    "1. Hospitalisation data from 15-21 March is taken\n",
    "2. Parameters that are being varied over are `sigma_H_in`, `extraTime` and `beta`. `sigma_H_in` is the uncertainty on `H_in`, `extraTime` is the time between the initialisation of the simulation and \n",
    "3. Bounds for flat priors are given\n",
    "4. Particle Swarm Optimisation (`MCMC.fit_pso`) is executed to find the maximum likelihood estimates of model parameters mentioned above\n",
    "5. Resulting extraTime is added as model attribute and the other parameter values are used as initial values for the MCMC (typically: four slightly different initial points (nwalkers)). The MCMC happens in two dimensions with four walkers  (paths)\n",
    "6. Ensemble sampler is used from the `emcee` sampler. I'm not entirely sure what this means\n",
    "7. It appears that the beta parameter is *first* calibrated, and only *later on* the compliance parameters. The reason is that beta is best calibrated to data before any measures ('pure beta')"
   ]
  },
  {
   "cell_type": "markdown",
   "metadata": {},
   "source": [
    "# Explore `run_optimization.py`"
   ]
  },
  {
   "cell_type": "markdown",
   "metadata": {},
   "source": [
    "This function summarises much of the notebook described above.\n",
    "\n",
    "**input**\n",
    "Contains a single function called `full_calibration` that takes in the following arguments:\n",
    "1. `model`: initialised model object (such as the output of the `COVID19_SEIRD_sto_spatial` function)\n",
    "2. `timeseries`: `pandas` Series Sciensano data to fit with date in index. Take from private data (if such is already available)\n",
    "3. `spatial_unit`: name of the resulting files (e.g. Gent, Flanders, ...). Simply for *naming*\n",
    "4. `start_date`: YYYY-MM-DD string for first day in the data to fit on\n",
    "5. `end_beta`: YYYY-MM-DD string for last day to fit beta on\n",
    "6. `end_ramp`: YYYY-MM-DD string for last day to fit compliance parameters on\n",
    "7. `fig_path`: directory to save output figures in\n",
    "8. `samples_path`: directory to save samples in. This is of the shape\n",
    "```\n",
    "    samples_dict={'calibration_data':states[0][0], 'start_date':start_date,\n",
    "                  'end_beta':end_beta, 'end_ramp':end_ramp,\n",
    "                  'maxiter': maxiter, 'popsize':popsize, 'steps_mcmc':steps_mcmc,\n",
    "                  'R0':R0, 'R0_stratified_dict':R0_stratified_dict,\n",
    "                  'lag_time': lag_time, 'beta': samples_beta['beta'],\n",
    "                  'l': flat_samples_ramp[:,1].tolist(),'tau':flat_samples_ramp[:,2].tolist(),\n",
    "                  'prevention':flat_samples_ramp[:,3].tolist()}\n",
    "```\n",
    "9. `maxiter`: maximal number of particle swarm steps\n",
    "10. `popsize`: maximal number of particles in the swarm\n",
    "11. `steps_mcmc`: iterations of the Monte Carlo simulation. 5000 steps in the national model takes about half an hour. Default is 10000\n",
    "\n",
    "**output**\n",
    "\n",
    "**notes**\n",
    "1. `H_in` is hardcoded: if we want to choose e.g. the number of exposed people we need to fill in another string value here\n",
    "2. Prior bounds of the PSO are hardcoded and may be adjusted (but probably these boundaries are wide enough)\n",
    "3. "
   ]
  },
  {
   "cell_type": "code",
   "execution_count": 14,
   "metadata": {
    "ExecuteTime": {
     "end_time": "2020-10-29T11:07:09.762362Z",
     "start_time": "2020-10-29T11:07:09.489348Z"
    }
   },
   "outputs": [],
   "source": [
    "# Load model parameters\n",
    "spatial = 'arr'\n",
    "initN, Nc_home, Nc_work, Nc_schools, Nc_transport, Nc_leisure, Nc_others, Nc_total = model_parameters.get_interaction_matrices(spatial=spatial)\n",
    "params = model_parameters.get_COVID19_SEIRD_parameters(spatial=spatial)\n",
    "\n",
    "# Load initial state: one thirty year old exposed individual in every arrondissement\n",
    "G, N = initN.shape[0], initN.shape[1]\n",
    "E = np.zeros([G,N])\n",
    "for g in range(G):\n",
    "    E[g,3] = 1\n",
    "states = dict({'S' : initN, 'E' : E})\n",
    "\n",
    "# Load model\n",
    "model = models.COVID19_SEIRD_sto_spatial(states, params, discrete=True, spatial=spatial)"
   ]
  },
  {
   "cell_type": "code",
   "execution_count": null,
   "metadata": {},
   "outputs": [],
   "source": []
  }
 ],
 "metadata": {
  "kernelspec": {
   "display_name": "Python 3",
   "language": "python",
   "name": "python3"
  },
  "language_info": {
   "codemirror_mode": {
    "name": "ipython",
    "version": 3
   },
   "file_extension": ".py",
   "mimetype": "text/x-python",
   "name": "python",
   "nbconvert_exporter": "python",
   "pygments_lexer": "ipython3",
   "version": "3.7.3"
  },
  "toc": {
   "base_numbering": 1,
   "nav_menu": {},
   "number_sections": true,
   "sideBar": true,
   "skip_h1_title": false,
   "title_cell": "Table of Contents",
   "title_sidebar": "Contents",
   "toc_cell": false,
   "toc_position": {},
   "toc_section_display": true,
   "toc_window_display": false
  }
 },
 "nbformat": 4,
 "nbformat_minor": 2
}
