{
 "cells": [
  {
   "cell_type": "code",
   "execution_count": 1,
   "id": "eb517926",
   "metadata": {},
   "outputs": [],
   "source": [
    "import sys\n",
    "import numpy as np\n",
    "import pandas as pd\n",
    "import matplotlib.pyplot as plt\n",
    "from covid19model.data import sciensano\n",
    "from covid19model.models.utils import initialize_COVID19_SEIQRD_hybrid_vacc\n",
    "\n",
    "# OPTIONAL: Load the \"autoreload\" extension so that package code can change\n",
    "%load_ext autoreload\n",
    "# OPTIONAL: always reload modules so that as you change code in src, it gets loaded\n",
    "%autoreload 2"
   ]
  },
  {
   "cell_type": "code",
   "execution_count": 2,
   "id": "da528134",
   "metadata": {},
   "outputs": [],
   "source": [
    "# Number of age groups used in the model\n",
    "age_stratification_size=10\n",
    "# Startdate of model\n",
    "start_date = '2020-03-15'"
   ]
  },
  {
   "cell_type": "code",
   "execution_count": 3,
   "id": "8ad1e6f5",
   "metadata": {},
   "outputs": [],
   "source": [
    "#model, BASE_samples_dict, initN = initialize_COVID19_SEIQRD_hybrid_vacc(age_stratification_size=age_stratification_size, start_date=start_date, update_data=False)"
   ]
  },
  {
   "cell_type": "code",
   "execution_count": 10,
   "id": "51628e74",
   "metadata": {},
   "outputs": [],
   "source": [
    "df = sciensano.get_public_spatial_vaccination_data(agg='prov', update=False)\n",
    "df = df['INCIDENCE']"
   ]
  },
  {
   "cell_type": "code",
   "execution_count": 42,
   "id": "3d9ea17d",
   "metadata": {},
   "outputs": [],
   "source": [
    "from covid19model.data.utils import construct_initN\n",
    "\n",
    "class make_N_vacc_function():\n",
    "    \"\"\"A new function to return the right amount of vaccine transitionings at eacht timestep\"\"\"\n",
    "    \n",
    "    def __init__(self, update=False, agg=None, df_incidences=None, age_classes=pd.IntervalIndex.from_tuples([(0,12),(12,18),(18,25),(25,35),(35,45),(45,55),(55,65),(65,75),(75,85),(85,120)], closed='left')):\n",
    "        \n",
    "        if update == False:\n",
    "            print(\"We'll just load the data then\")\n",
    "        else:\n",
    "            \n",
    "            filter_length = 31\n",
    "            \n",
    "            ##########################################\n",
    "            ## Assign revelant input data to object ##\n",
    "            ##########################################\n",
    "\n",
    "            # Input dataframe\n",
    "            self.df = df_incidences\n",
    "            # Start- and enddate\n",
    "            self.df_start = pd.Timestamp(self.df.index.get_level_values('date').min())\n",
    "            self.df_end = pd.Timestamp(self.df.index.get_level_values('date').max())\n",
    "            # Number of age groups and spatial patches\n",
    "            if 'NIS' in self.df.index.names:\n",
    "                self.G = len(self.df.index.get_level_values('NIS').unique().values)\n",
    "            self.N = len(age_classes)\n",
    "\n",
    "            ##########################################################\n",
    "            ## Step 1: Weekly data to daily data smoothed using EMA ##\n",
    "            ##########################################################\n",
    "            \n",
    "            # 1A: Make a dataframe with the desired format\n",
    "            iterables=[]\n",
    "            for index_name in df.index.names:\n",
    "                if index_name != 'date':\n",
    "                    iterables += [df.index.get_level_values(index_name).unique()]\n",
    "                else:\n",
    "                    iterables += [pd.date_range(start=self.df_start, end=self.df_end, freq='D'),]\n",
    "            index = pd.MultiIndex.from_product(iterables, names=df.index.names)\n",
    "            df_new = pd.Series(index=index, name = self.df.name, dtype=float)\n",
    "            df_new_nf = pd.Series(index=index, name = self.df.name, dtype=float)\n",
    "            \n",
    "            # 1B: Loop over (NIS),age,dose\n",
    "            for age in self.df.index.get_level_values('age').unique():\n",
    "                for dose in self.df.index.get_level_values('dose').unique():\n",
    "                    if agg:\n",
    "                        for NIS in self.df.index.get_level_values('NIS').unique():\n",
    "                             # Convert weekly to daily data\n",
    "                            daily_data = df.loc[slice(None), NIS, age, dose].resample('D').bfill().apply(lambda x : x/7)\n",
    "                            # Apply an exponential moving average\n",
    "                            daily_data_EMA = daily_data.ewm(span=filter_length, adjust=False).mean()\n",
    "                            # Assign to new dataframe\n",
    "                            df_new_nf.loc[slice(None), NIS, age, dose] = daily_data.values\n",
    "                            df_new.loc[slice(None), NIS, age, dose] = daily_data_EMA.values\n",
    "                    else:\n",
    "                        # Convert weekly to daily data\n",
    "                        daily_data = df.loc[slice(None), age, dose].resample('D').bfill().apply(lambda x : x/7)\n",
    "                        # Apply an exponential moving average\n",
    "                        daily_data_EMA = daily_data.ewm(span=filter_length, adjust=False).mean()\n",
    "                        # Assign to new dataframe\n",
    "                        df_new.loc[slice(None), age, dose] = daily_data_EMA.values\n",
    "                        \n",
    "            self.df = df_new\n",
    "            self.df_nf = df_new_nf\n",
    "    \n",
    "        ############################\n",
    "        ## Step 2: Age conversion ##\n",
    "        ############################\n",
    "        \n",
    "        # DO\n",
    "    \n",
    "    # @lru_cache()\n",
    "    # get_data(self, t):\n",
    "    # pass\n",
    "    \n",
    "    # __call__(self, ...):\n",
    "    # pass\n",
    "            "
   ]
  },
  {
   "cell_type": "code",
   "execution_count": 43,
   "id": "6f24cecd",
   "metadata": {},
   "outputs": [],
   "source": [
    "output = make_N_vacc_function(update=True, agg='prov', df_incidences=df)"
   ]
  },
  {
   "cell_type": "code",
   "execution_count": 44,
   "id": "bb09a946",
   "metadata": {},
   "outputs": [
    {
     "data": {
      "image/png": "[encoded data removed]",
      "text/plain": [
       "<Figure size 864x288 with 2 Axes>"
      ]
     },
     "metadata": {
      "needs_background": "light"
     },
     "output_type": "display_data"
    }
   ],
   "source": [
    "raw_data = output.df\n",
    "raw_data_nf = output.df_nf\n",
    "\n",
    "agg = 'prov'\n",
    "age_classes = raw_data.index.get_level_values('age').unique()\n",
    "age_class = age_classes[1]\n",
    "dose = 'A'\n",
    "NIS = 30000\n",
    "N = construct_initN(age_classes, agg).loc[NIS,age_class]\n",
    "\n",
    "series = raw_data.loc[slice(None), NIS, age_class, dose]\n",
    "series_nf = raw_data_nf.loc[slice(None), NIS, age_class, dose]\n",
    "\n",
    "fig,ax=plt.subplots(nrows=2,ncols=1,sharex=True,figsize=(12,4))\n",
    "ax[0].plot(series/N*100)\n",
    "ax[0].plot(series_nf/N*100)\n",
    "ax[1].plot(series.cumsum()/N*100)\n",
    "ax[1].plot(series_nf.cumsum()/N*100)\n",
    "ax[0].set_xlim([None, pd.Timestamp('2022-03-01')])\n",
    "ax[1].set_xlim([None, pd.Timestamp('2022-03-01')])\n",
    "ax[1].set_ylim([0,100])\n",
    "ax[0].grid(False)\n",
    "ax[1].grid(False)\n",
    "ax[0].set_ylabel('First dose (%)')\n",
    "ax[1].set_ylabel('First dose (%)')\n",
    "from matplotlib.ticker import MaxNLocator\n",
    "ax[0].xaxis.set_major_locator(MaxNLocator(5)) \n",
    "ax[1].xaxis.set_major_locator(MaxNLocator(5))\n",
    "fig.suptitle('Vaccine incidence West-Flanders (12-18 yo)\\nFilter length 31 days')\n",
    "plt.show()\n",
    "plt.close()\n",
    "fig.savefig('smooth_vaccine_incidence_31days.png', dpi=400)"
   ]
  },
  {
   "cell_type": "code",
   "execution_count": null,
   "id": "c01230b2",
   "metadata": {},
   "outputs": [],
   "source": []
  }
 ],
 "metadata": {
  "kernelspec": {
   "display_name": "Python 3 (ipykernel)",
   "language": "python",
   "name": "python3"
  },
  "language_info": {
   "codemirror_mode": {
    "name": "ipython",
    "version": 3
   },
   "file_extension": ".py",
   "mimetype": "text/x-python",
   "name": "python",
   "nbconvert_exporter": "python",
   "pygments_lexer": "ipython3",
   "version": "3.10.2"
  }
 },
 "nbformat": 4,
 "nbformat_minor": 5
}
