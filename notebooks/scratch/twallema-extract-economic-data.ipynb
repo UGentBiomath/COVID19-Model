{
 "cells": [
  {
   "cell_type": "markdown",
   "metadata": {},
   "source": [
    "# Belgian economic production model\n",
    "\n",
    "## Data extraction and conversion\n",
    "\n",
    "*Original code by Cyril Garneau. Modified by T.W. Alleman in consultation with the BIOMATH research unit headed by prof. Ingmar Nopens.*\n",
    "\n",
    "Copyright (c) 2020 by T.W. Alleman, BIOMATH, Ghent University. All Rights Reserved."
   ]
  },
  {
   "cell_type": "code",
   "execution_count": null,
   "metadata": {},
   "outputs": [],
   "source": [
    "import os\n",
    "import numpy as np\n",
    "import pandas as pd\n",
    "import matplotlib.pyplot as plt"
   ]
  },
  {
   "cell_type": "code",
   "execution_count": null,
   "metadata": {},
   "outputs": [],
   "source": [
    "# OPTIONAL: Load the \"autoreload\" extension so that package code can change\n",
    "%load_ext autoreload\n",
    "# OPTIONAL: always reload modules so that as you change code in src, it gets loaded\n",
    "%autoreload 2"
   ]
  },
  {
   "cell_type": "markdown",
   "metadata": {},
   "source": [
    "### NACE Conversion matrices\n",
    "\n",
    "https://www.nbb.be/doc/dq/e/method/b_necd10.pdf"
   ]
  },
  {
   "cell_type": "markdown",
   "metadata": {},
   "source": [
    "#### NACE 21 to NACE 10\n",
    "\n",
    "National-level production model so U (extraterritorial activities must be removed)."
   ]
  },
  {
   "cell_type": "code",
   "execution_count": null,
   "metadata": {},
   "outputs": [],
   "source": [
    "columns = ['A','B','C','D','E','F','G','H','I','J','K','L','M','N','O','P','Q','R','S','T']\n",
    "index = ['A','B, C, D, E','F','G-H-I','J','K','L','M-N','O, P, Q','R, S, T']"
   ]
  },
  {
   "cell_type": "code",
   "execution_count": null,
   "metadata": {},
   "outputs": [],
   "source": [
    "NACE_21to10_mat = np.zeros([10,20])\n",
    "NACE_21to10_mat[0,0] = 1\n",
    "NACE_21to10_mat[1,1:5] = 1\n",
    "NACE_21to10_mat[2,5] = 1\n",
    "NACE_21to10_mat[3,6:9] = 1\n",
    "NACE_21to10_mat[4,9] = 1\n",
    "NACE_21to10_mat[5,10] = 1\n",
    "NACE_21to10_mat[6,11] = 1\n",
    "NACE_21to10_mat[7,12:14] = 1\n",
    "NACE_21to10_mat[8,14:17] = 1\n",
    "NACE_21to10_mat[9,17:20] = 1"
   ]
  },
  {
   "cell_type": "code",
   "execution_count": null,
   "metadata": {},
   "outputs": [],
   "source": [
    "NACE21to10 = pd.DataFrame(data=NACE_21to10_mat,columns=columns,index=index)\n",
    "NACE21to10.head()"
   ]
  },
  {
   "cell_type": "markdown",
   "metadata": {},
   "source": [
    "#### NACE 38 to NACE 21\n",
    "\n",
    "National-level production model so U (extraterritorial activities must be removed)."
   ]
  },
  {
   "cell_type": "code",
   "execution_count": null,
   "metadata": {},
   "outputs": [],
   "source": [
    "columns = ['AA','BB','CA','CB','CC','CD','CE','CF','CG','CH','CI','CJ','CK','CL','CM','DD','EE','FF','GG','HH','II','JA','JB','JC','KK','LL','MA','MB','MC','NN','OO','PP','QA','QB','RR','SS','TT']\n",
    "index = ['A','B','C','D','E','F','G','H','I','J','K','L','M','N','O','P','Q','R','S','T']"
   ]
  },
  {
   "cell_type": "code",
   "execution_count": null,
   "metadata": {},
   "outputs": [],
   "source": [
    "NACE_38to21_mat = np.zeros([20,37])\n",
    "NACE_38to21_mat[0,0] = 1\n",
    "NACE_38to21_mat[1,1] = 1\n",
    "NACE_38to21_mat[2,2:15] = 1\n",
    "NACE_38to21_mat[3,15] = 1\n",
    "NACE_38to21_mat[4,16] = 1\n",
    "NACE_38to21_mat[5,17] = 1\n",
    "NACE_38to21_mat[6,18] = 1\n",
    "NACE_38to21_mat[7,19] = 1\n",
    "NACE_38to21_mat[8,20] = 1\n",
    "NACE_38to21_mat[9,21:24] = 1\n",
    "NACE_38to21_mat[10,24] = 1\n",
    "NACE_38to21_mat[11,25] = 1\n",
    "NACE_38to21_mat[12,26:29] = 1\n",
    "NACE_38to21_mat[13,29] = 1\n",
    "NACE_38to21_mat[14,30] = 1\n",
    "NACE_38to21_mat[15,31] = 1\n",
    "NACE_38to21_mat[16,32:34] = 1\n",
    "NACE_38to21_mat[17,34] = 1\n",
    "NACE_38to21_mat[18,35] = 1\n",
    "NACE_38to21_mat[19,36] = 1"
   ]
  },
  {
   "cell_type": "code",
   "execution_count": null,
   "metadata": {},
   "outputs": [],
   "source": [
    "NACE38to21 = pd.DataFrame(data=NACE_38to21_mat,columns=columns,index=index)\n",
    "NACE38to21.head()"
   ]
  },
  {
   "cell_type": "markdown",
   "metadata": {},
   "source": [
    "#### NACE 64 to NACE 38\n",
    "\n",
    "National-level production model so U (extraterritorial activities must be removed)."
   ]
  },
  {
   "cell_type": "code",
   "execution_count": null,
   "metadata": {},
   "outputs": [],
   "source": [
    "index = ['AA','BB','CA','CB','CC','CD','CE','CF','CG','CH','CI','CJ','CK','CL','CM','DD','EE','FF','GG','HH','II','JA','JB','JC','KK','LL','MA','MB','MC','NN','OO','PP','QA','QB','RR','SS','TT']"
   ]
  },
  {
   "cell_type": "code",
   "execution_count": null,
   "metadata": {},
   "outputs": [],
   "source": [
    "IO_df = pd.read_excel(\"../../data/raw/economical/input-output.xlsx\", sheet_name='tbl_8',index_col=[0], header=[0])\n",
    "codes64 = list(IO_df.index.values[1:-19])\n",
    "codes64[-1] = '97-98'\n",
    "codes64.remove('68a')\n",
    "codes64[codes64.index('68_')]='68'\n",
    "codes64 = np.array(codes64)\n",
    "columns = codes64"
   ]
  },
  {
   "cell_type": "code",
   "execution_count": null,
   "metadata": {},
   "outputs": [],
   "source": [
    "NACE_64to38_mat = np.zeros([37,63])\n",
    "NACE_64to38_mat[0,0:3] = 1\n",
    "NACE_64to38_mat[1,3] = 1\n",
    "NACE_64to38_mat[2,4] = 1\n",
    "NACE_64to38_mat[3,5] = 1\n",
    "NACE_64to38_mat[4,6:9] = 1\n",
    "NACE_64to38_mat[5,9] = 1\n",
    "NACE_64to38_mat[6,10] = 1\n",
    "NACE_64to38_mat[7,11] = 1\n",
    "NACE_64to38_mat[8,12:14] = 1\n",
    "NACE_64to38_mat[9,14:16] = 1\n",
    "NACE_64to38_mat[10,16] = 1\n",
    "NACE_64to38_mat[11,17] = 1\n",
    "NACE_64to38_mat[12,18] = 1\n",
    "NACE_64to38_mat[13,19:21] = 1\n",
    "NACE_64to38_mat[14,21:23] = 1\n",
    "NACE_64to38_mat[15,23] = 1\n",
    "NACE_64to38_mat[16,24:26] = 1\n",
    "NACE_64to38_mat[17,26] = 1\n",
    "NACE_64to38_mat[18,27:30] = 1\n",
    "NACE_64to38_mat[19,30:35] = 1\n",
    "NACE_64to38_mat[20,35] = 1\n",
    "NACE_64to38_mat[21,36:38] = 1\n",
    "NACE_64to38_mat[22,38] = 1\n",
    "NACE_64to38_mat[23,39] = 1\n",
    "NACE_64to38_mat[24,40:43] = 1\n",
    "NACE_64to38_mat[25,43] = 1\n",
    "NACE_64to38_mat[26,44:46] = 1\n",
    "NACE_64to38_mat[27,46] = 1\n",
    "NACE_64to38_mat[28,47:49] = 1\n",
    "NACE_64to38_mat[29,49:53] = 1\n",
    "NACE_64to38_mat[30,53] = 1\n",
    "NACE_64to38_mat[31,54] = 1\n",
    "NACE_64to38_mat[32,55] = 1\n",
    "NACE_64to38_mat[33,56] = 1\n",
    "NACE_64to38_mat[34,57:59] = 1\n",
    "NACE_64to38_mat[35,59:62] = 1\n",
    "NACE_64to38_mat[36,62] = 1"
   ]
  },
  {
   "cell_type": "code",
   "execution_count": null,
   "metadata": {},
   "outputs": [],
   "source": [
    "NACE64to38 = pd.DataFrame(data=NACE_64to38_mat,columns=columns,index=index)\n",
    "NACE64to38.head()"
   ]
  },
  {
   "cell_type": "markdown",
   "metadata": {},
   "source": [
    "#### WIOD 55 to NACE 64\n",
    "\n",
    "National-level production model so U (extraterritorial activities must be removed)."
   ]
  },
  {
   "cell_type": "code",
   "execution_count": null,
   "metadata": {},
   "outputs": [],
   "source": [
    "abs_dir = os.getcwd()\n",
    "rel_dir = os.path.join(abs_dir, '../../data/raw/economical/IHS_Markit_results_compact.csv')\n",
    "IHS_df = pd.read_csv(rel_dir,header=[0],index_col=[0])\n",
    "index = IHS_df.index.values[:]"
   ]
  },
  {
   "cell_type": "code",
   "execution_count": null,
   "metadata": {},
   "outputs": [],
   "source": [
    "WIOD55toNACE64_mat = np.zeros([55,63])\n",
    "for i in range(49):\n",
    "    WIOD55toNACE64_mat[i,i]=1\n",
    "WIOD55toNACE64_mat[49,49:53]=1\n",
    "WIOD55toNACE64_mat[50,53]=1\n",
    "WIOD55toNACE64_mat[51,54]=1\n",
    "WIOD55toNACE64_mat[52,55:57]=1\n",
    "WIOD55toNACE64_mat[53,57:62]=1\n",
    "WIOD55toNACE64_mat[54,62]=1"
   ]
  },
  {
   "cell_type": "code",
   "execution_count": null,
   "metadata": {},
   "outputs": [],
   "source": [
    "WIOD55toNACE64 = pd.DataFrame(data=WIOD55toNACE64_mat,columns=columns,index=index)\n",
    "WIOD55toNACE64.tail()"
   ]
  },
  {
   "cell_type": "markdown",
   "metadata": {},
   "source": [
    "#### Create a multi-sheet excel with all conversion matrices"
   ]
  },
  {
   "cell_type": "code",
   "execution_count": null,
   "metadata": {},
   "outputs": [],
   "source": [
    "with pd.ExcelWriter('../../data/interim/economical/conversion_matrices.xlsx') as writer:\n",
    "    NACE21to10.to_excel(writer, sheet_name='NACE 21 to NACE 10')\n",
    "    NACE38to21.to_excel(writer, sheet_name='NACE 38 to NACE 21')\n",
    "    NACE64to38.to_excel(writer, sheet_name='NACE 64 to NACE 38')\n",
    "    WIOD55toNACE64.to_excel(writer, sheet_name='NACE 64 to WIOD 55')"
   ]
  },
  {
   "cell_type": "markdown",
   "metadata": {},
   "source": [
    "### Input-output matrix $(Z_{i,j})$"
   ]
  },
  {
   "cell_type": "code",
   "execution_count": null,
   "metadata": {},
   "outputs": [],
   "source": [
    "IO_df = pd.read_excel(\"../../data/raw/economical/input-output.xlsx\", sheet_name='tbl_8',index_col=[0], header=[0])"
   ]
  },
  {
   "cell_type": "code",
   "execution_count": null,
   "metadata": {},
   "outputs": [],
   "source": [
    "codes64 = list(IO_df.index.values[1:-19])\n",
    "codes64[-1] = '97-98'\n",
    "codes64.remove('68a')\n",
    "codes64[codes64.index('68_')]='68'\n",
    "codes64 = np.array(codes64)\n",
    "print(codes64.shape)"
   ]
  },
  {
   "cell_type": "code",
   "execution_count": null,
   "metadata": {},
   "outputs": [],
   "source": [
    "IO = IO_df.values[1:-19,1:-10]\n",
    "print(IO.shape)"
   ]
  },
  {
   "cell_type": "code",
   "execution_count": null,
   "metadata": {},
   "outputs": [],
   "source": [
    "IO=np.delete(IO,45,axis=0) # remove row 68a (adding not necessary since row 68a contains zeros only)\n",
    "IO[1:-19:44] = IO[1:-19:44] + IO[1:-19:45] # Add column 68a to column 68_\n",
    "IO=np.delete(IO,45,axis=1)\n",
    "print(IO.shape)"
   ]
  },
  {
   "cell_type": "code",
   "execution_count": null,
   "metadata": {},
   "outputs": [],
   "source": [
    "IO_new = pd.DataFrame(data=IO,columns=codes64,index=codes64)\n",
    "IO_new.head()"
   ]
  },
  {
   "cell_type": "code",
   "execution_count": null,
   "metadata": {},
   "outputs": [],
   "source": [
    "IO_new.to_csv('../../data/interim/economical/IO_NACE64.csv', index=True)"
   ]
  },
  {
   "cell_type": "markdown",
   "metadata": {},
   "source": [
    "### Sectoral output during business-as-usual $(x_{i,0}^{\\text{cap}})$"
   ]
  },
  {
   "cell_type": "code",
   "execution_count": null,
   "metadata": {},
   "outputs": [],
   "source": [
    "x_0 = IO_df.values[1:-19,-1]\n",
    "x_0[43] = x_0[43] + x_0[44] # Confirm with Koen or Gert that this needs to be added togheter\n",
    "x_0 = np.delete(x_0,44) \n",
    "print(x_0.shape)"
   ]
  },
  {
   "cell_type": "markdown",
   "metadata": {},
   "source": [
    "### Houshold demand during business-as-usual $(c_{i,0}^d)$"
   ]
  },
  {
   "cell_type": "code",
   "execution_count": null,
   "metadata": {},
   "outputs": [],
   "source": [
    "c_0 = IO_df.values[1:-19,-9]\n",
    "c_0[43] = c_0[43] + c_0[44] # Confirm with Koen or Gert that this needs to be added togheter\n",
    "c_0 = np.delete(c_0,44)\n",
    "print(c_0.shape)"
   ]
  },
  {
   "cell_type": "markdown",
   "metadata": {},
   "source": [
    "### Other final demand $(f_{i,0}^d)$"
   ]
  },
  {
   "cell_type": "code",
   "execution_count": null,
   "metadata": {},
   "outputs": [],
   "source": [
    "f_0 = np.sum(IO_df.values[1:-19,-8:-1],axis=1)\n",
    "# \"Changes in inventories and acquisition less disposals of valuables\" can be negative\n",
    "# Do I just sum the columns?\n",
    "f_0[43] = f_0[43] + f_0[44] # Confirm with Koen or Gert that this needs to be added togheter\n",
    "f_0 = np.delete(f_0,44)\n",
    "print(f_0.shape)"
   ]
  },
  {
   "cell_type": "markdown",
   "metadata": {},
   "source": [
    "### Desired stock $(n_j)$ --> table 8"
   ]
  },
  {
   "cell_type": "code",
   "execution_count": null,
   "metadata": {},
   "outputs": [],
   "source": [
    "nj_df = pd.read_csv(\"../../data/raw/economical/table_ratio_inv_go.csv\", index_col=[0], header=[0])"
   ]
  },
  {
   "cell_type": "code",
   "execution_count": null,
   "metadata": {},
   "outputs": [],
   "source": [
    "nj55 = nj_df['ratio_all_inv_go_monthly'].values[:-1]*30\n",
    "print(nj55.shape)"
   ]
  },
  {
   "cell_type": "code",
   "execution_count": null,
   "metadata": {},
   "outputs": [],
   "source": [
    "# Convert to NACE64\n",
    "nj64 = np.zeros(63)\n",
    "for i in range(nj55.size):\n",
    "    nj64[WIOD55toNACE64_mat[i,:] == 1] = nj55[i]\n",
    "print(nj64.shape)"
   ]
  },
  {
   "cell_type": "markdown",
   "metadata": {},
   "source": [
    "### Consumer demand shock $(\\epsilon^D)$"
   ]
  },
  {
   "cell_type": "code",
   "execution_count": null,
   "metadata": {},
   "outputs": [],
   "source": [
    "ed_df = pd.read_csv(\"../../data/raw/economical/WIOD_shockdata.csv\", index_col=[0], header=[0])\n",
    "ed_df.head()\n",
    "ed55 = ed_df['demand.shock.household'].values\n",
    "print(ed55.shape)"
   ]
  },
  {
   "cell_type": "code",
   "execution_count": null,
   "metadata": {},
   "outputs": [],
   "source": [
    "# Convert to NACE64\n",
    "ed64 = np.zeros(63)\n",
    "for i in range(nj55.size):\n",
    "    ed64[WIOD55toNACE64_mat[i,:] == 1] = ed55[i]\n",
    "print(ed64.shape)"
   ]
  },
  {
   "cell_type": "markdown",
   "metadata": {},
   "source": [
    "### Other demand shock $(f^D)$"
   ]
  },
  {
   "cell_type": "code",
   "execution_count": null,
   "metadata": {},
   "outputs": [],
   "source": [
    "fd55=np.array([-20,-23,-32,-33,-32,-27,-16,-30,-18,-33,-32,-31,-28,-27,-33,-18,-28,-30,-30,-29,-31,-25,-17,-20,-11,-16,-6,-23,-30,-28,-28,-32,-32,-26,-30,-32,-24,-15,-22,-13,-32,-31,-33,-8,-25,-19,-11,-30,-30,-29,-1,-2,1,-10,-32])\n",
    "print(fd55.shape)"
   ]
  },
  {
   "cell_type": "code",
   "execution_count": null,
   "metadata": {},
   "outputs": [],
   "source": [
    "# Convert to NACE64\n",
    "fd64 = np.zeros(63)\n",
    "for i in range(fd55.size):\n",
    "    fd64[WIOD55toNACE64_mat[i,:] == 1] = fd55[i]\n",
    "print(fd64.shape)"
   ]
  },
  {
   "cell_type": "markdown",
   "metadata": {},
   "source": [
    "### Sectoral employees during business-as-usual $(l_{i,0})$"
   ]
  },
  {
   "cell_type": "code",
   "execution_count": null,
   "metadata": {},
   "outputs": [],
   "source": [
    "sectoral64_df = pd.read_excel(\"../../data/raw/economical/Employees_NACE64.xlsx\",sheet_name = 'Binnenlands concept - A64', index_col=[0], header=[0])"
   ]
  },
  {
   "cell_type": "code",
   "execution_count": null,
   "metadata": {},
   "outputs": [],
   "source": [
    "l0_64 = sectoral64_df.values[7:-1,-1]\n",
    "print(l0_64.shape)"
   ]
  },
  {
   "cell_type": "markdown",
   "metadata": {},
   "source": [
    "### Sectoral employees during lockdown $(l_{i,\\text{lockdown}})$\n",
    "\n",
    "Survey 25-04-2020\n",
    "\n",
    "#### NACE 38"
   ]
  },
  {
   "cell_type": "code",
   "execution_count": null,
   "metadata": {},
   "outputs": [],
   "source": [
    "sectoral38_lockdown_df = pd.read_excel(\"../../data/raw/economical/Employees_25-04-2020_NACE38.xlsx\",sheet_name = 'Formated data', index_col=[0], header=[0])"
   ]
  },
  {
   "cell_type": "code",
   "execution_count": null,
   "metadata": {},
   "outputs": [],
   "source": [
    "l_lockdown38 = (sectoral38_lockdown_df['telework'] + sectoral38_lockdown_df['mix telework-workplace'] + sectoral38_lockdown_df['at workplace']).values[1:]"
   ]
  },
  {
   "cell_type": "markdown",
   "metadata": {},
   "source": [
    "#### NACE 64"
   ]
  },
  {
   "cell_type": "code",
   "execution_count": null,
   "metadata": {},
   "outputs": [],
   "source": [
    "# Telework\n",
    "telework38 = sectoral38_lockdown_df['telework'].values[1:]\n",
    "telework64 = np.zeros(63)\n",
    "for i in range(l_lockdown38.size):\n",
    "    telework64[NACE_64to38_mat[i,:] == 1] = telework38[i]\n",
    "\n",
    "# Mix\n",
    "mix38 = sectoral38_lockdown_df['mix telework-workplace'].values[1:]\n",
    "mix64 = np.zeros(63)\n",
    "for i in range(l_lockdown38.size):\n",
    "    mix64[NACE_64to38_mat[i,:] == 1] = mix38[i]\n",
    "\n",
    "# Workplace\n",
    "workplace38 = sectoral38_lockdown_df['at workplace'].values[1:]\n",
    "workplace64 = np.zeros(63)\n",
    "for i in range(l_lockdown38.size):\n",
    "    workplace64[NACE_64to38_mat[i,:] == 1] = workplace38[i]\n",
    "\n",
    "# Absent\n",
    "absent38 = sectoral38_lockdown_df['absent'].values[1:]\n",
    "absent64 = np.zeros(63)\n",
    "for i in range(l_lockdown38.size):\n",
    "    absent64[NACE_64to38_mat[i,:] == 1] = absent38[i]"
   ]
  },
  {
   "cell_type": "markdown",
   "metadata": {},
   "source": [
    "#### Group into dataframe"
   ]
  },
  {
   "cell_type": "code",
   "execution_count": null,
   "metadata": {},
   "outputs": [],
   "source": [
    "tuples = [('Business-as-usual', 'Sectoral output (M€)'),\n",
    "            ('Business-as-usual', 'Household demand (M€)'),\n",
    "            ('Business-as-usual', 'Other demand (M€)'),\n",
    "            ('Business-as-usual', 'Desired stock (days)'),\n",
    "            ('Business-as-usual', 'Employees (x1000)'),\n",
    "            ('Lockdown', 'Consumer demand shock (%)'),\n",
    "            ('Lockdown', 'Other demand shock (%)'),\n",
    "            ('Lockdown', 'Telework (%)'),\n",
    "            ('Lockdown', 'Mix (%)'),\n",
    "            ('Lockdown', 'Workplace (%)'),\n",
    "            ('Lockdown', 'Absent (%)'),]\n",
    "\n",
    "colnames = pd.MultiIndex.from_tuples(tuples, names=['',''])"
   ]
  },
  {
   "cell_type": "code",
   "execution_count": null,
   "metadata": {},
   "outputs": [],
   "source": [
    "data = {\n",
    "    ('Business-as-usual','Sectoral output (M€)'): list(x_0),\n",
    "    ('Business-as-usual','Household demand (M€)'): list(c_0),\n",
    "    ('Business-as-usual','Other demand (M€)'): list(f_0),\n",
    "    ('Business-as-usual','Desired stock (days)'): list(nj64),\n",
    "    ('Business-as-usual','Employees (x1000)'): list(l0_64),\n",
    "    ('Lockdown', 'Consumer demand shock (%)'): list(ed64*100),\n",
    "    ('Lockdown', 'Other demand shock (%)'): list(fd64),\n",
    "    ('Lockdown', 'Telework (%)'): list(telework64),\n",
    "    ('Lockdown', 'Mix (%)'): list(mix64),\n",
    "    ('Lockdown', 'Workplace (%)'): list(workplace64),\n",
    "    ('Lockdown', 'Absent (%)'): list(absent64),\n",
    "}\n",
    "df = pd.DataFrame(data=data,columns=colnames,index=codes64)\n",
    "df.head()"
   ]
  },
  {
   "cell_type": "markdown",
   "metadata": {},
   "source": [
    "#### Write dataframe to xlsx"
   ]
  },
  {
   "cell_type": "code",
   "execution_count": null,
   "metadata": {},
   "outputs": [],
   "source": [
    "df.to_csv('../../data/interim/economical/others.csv', index=True)"
   ]
  },
  {
   "cell_type": "markdown",
   "metadata": {},
   "source": [
    "### Critical inputs\n",
    "\n",
    "WIOD 55\n",
    "\n",
    "https://zenodo.figshare.com/articles/software/Production_networks_and_epidemic_spreading_How_to_restart_the_UK_economy_/12345527/1"
   ]
  },
  {
   "cell_type": "markdown",
   "metadata": {},
   "source": [
    "#### Matrix is not square by default and contains NaN"
   ]
  },
  {
   "cell_type": "code",
   "execution_count": null,
   "metadata": {},
   "outputs": [],
   "source": [
    "IHS_mat = IHS_df.values\n",
    "new_last_column= np.expand_dims(np.append(IHS_mat[-1,:],1),axis=1)\n",
    "IHS_mat = np.append(IHS_mat,new_last_column,axis=1)"
   ]
  },
  {
   "cell_type": "code",
   "execution_count": null,
   "metadata": {},
   "outputs": [],
   "source": [
    "abs_dir = os.getcwd()\n",
    "rel_dir = os.path.join(abs_dir, '../../data/raw/economical/IHS_Markit_results_compact.csv')\n",
    "IHS_df = pd.read_csv(rel_dir,header=[0],index_col=[0])\n",
    "IHS_df.fillna(0)\n",
    "IHS_df.head()"
   ]
  },
  {
   "cell_type": "code",
   "execution_count": null,
   "metadata": {},
   "outputs": [],
   "source": [
    "IHS_df['T']=new_last_column\n",
    "IHS_df.head()"
   ]
  },
  {
   "cell_type": "markdown",
   "metadata": {},
   "source": [
    "#### Convert to NACE 64\n",
    "\n",
    "Assumptions"
   ]
  },
  {
   "cell_type": "code",
   "execution_count": null,
   "metadata": {},
   "outputs": [],
   "source": [
    "NACE64toWIOD55_mat = WIOD55toNACE64_mat"
   ]
  },
  {
   "cell_type": "code",
   "execution_count": null,
   "metadata": {},
   "outputs": [],
   "source": [
    "IHS_mat = IHS_df.fillna(0).values\n",
    "# Convert to all entries  before sector N using the conversion matrix\n",
    "new64_mat = np.zeros([63,63])\n",
    "for j in range(49): # row 49 is sector N\n",
    "    new64 = np.zeros(63)\n",
    "    orig55 = IHS_mat[j,:]\n",
    "    for i in range(orig55.size):\n",
    "        new64[NACE64toWIOD55_mat[i,:] == 1] = orig55[i]\n",
    "    new64_mat[j,:]=new64\n",
    "    \n",
    "# Now we're at row N\n",
    "# First convert row N using the matrix\n",
    "new64 = np.zeros(63)\n",
    "orig55 = IHS_mat[49,:]\n",
    "for i in range(orig55.size):\n",
    "    new64[NACE64toWIOD55_mat[i,:] == 1] = orig55[i]\n",
    "    new64_mat[49:53,:]=new64\n",
    "# Then modify the diagonal (i.e. no dependency of sector 77 to sector 78 etc.)\n",
    "new64_mat[49,50:53]=0\n",
    "new64_mat[50,49]=0\n",
    "new64_mat[50,51:53]=0\n",
    "new64_mat[51,49:51]=0\n",
    "new64_mat[51,52:53]=0\n",
    "new64_mat[52,49:52]=0\n",
    "\n",
    "# Then go on from index 50 to 51 (sectors 84 and 85)\n",
    "for j in range(50,52): # 49 or 63\n",
    "    new64 = np.zeros(63)\n",
    "    orig55 = IHS_mat[j,:]\n",
    "    for i in range(orig55.size):\n",
    "        new64[NACE64toWIOD55_mat[i,:] == 1] = orig55[i]\n",
    "    new64_mat[j+3,:]=new64\n",
    "    \n",
    "print(orig55)\n",
    "print(new64)\n",
    "\n",
    "# Now we're at sectors Q (index 52)\n",
    "# First convert row Q using the conversion matrix\n",
    "new64 = np.zeros(63)\n",
    "orig55 = IHS_mat[52,:]\n",
    "for i in range(orig55.size):\n",
    "    new64[NACE64toWIOD55_mat[i,:] == 1] = orig55[i]\n",
    "    new64_mat[55:57,:]=new64\n",
    "# Then modify the diagonal (i.e. no dependency of sector 93 to sector 94 etc.)\n",
    "new64_mat[55,56]=0\n",
    "new64_mat[56,55]=0\n",
    "\n",
    "# Now we're at sectors R_S (index 54)\n",
    "# First convert row R_S using the conversion matrix\n",
    "new64 = np.zeros(63)\n",
    "orig55 = IHS_mat[53,:]\n",
    "for i in range(orig55.size):\n",
    "    new64[NACE64toWIOD55_mat[i,:] == 1] = orig55[i]\n",
    "    new64_mat[57:62,:]=new64\n",
    "# Then modify the diagonal (i.e. no dependency of sector 93 to sector 94 etc.)\n",
    "new64_mat[57,58:62]=0\n",
    "new64_mat[58,57]=0\n",
    "new64_mat[58,59:62]=0\n",
    "new64_mat[59,57:59]=0\n",
    "new64_mat[59,60:62]=0\n",
    "new64_mat[60,57:60]=0\n",
    "new64_mat[60,61:62]=0\n",
    "new64_mat[61,57:61]=0\n",
    "\n",
    "# Convert and insert row T using the conversion matrix\n",
    "new64 = np.zeros(63)\n",
    "orig55 = IHS_mat[54,:]\n",
    "for i in range(orig55.size):\n",
    "    new64[NACE64toWIOD55_mat[i,:] == 1] = orig55[i]\n",
    "    new64_mat[62,:]=new64\n",
    "print(new64_mat)"
   ]
  },
  {
   "cell_type": "code",
   "execution_count": null,
   "metadata": {},
   "outputs": [],
   "source": [
    "np.diag(new64_mat)"
   ]
  },
  {
   "cell_type": "code",
   "execution_count": null,
   "metadata": {},
   "outputs": [],
   "source": [
    "plt.imshow(new64_mat)"
   ]
  },
  {
   "cell_type": "code",
   "execution_count": null,
   "metadata": {},
   "outputs": [],
   "source": [
    "plt.imshow(IHS_mat)"
   ]
  },
  {
   "cell_type": "code",
   "execution_count": null,
   "metadata": {},
   "outputs": [],
   "source": [
    "columns = codes64\n",
    "index = codes64\n",
    "IHS_critical = pd.DataFrame(data = new64_mat, index=index, columns=columns)\n",
    "IHS_critical.head()"
   ]
  },
  {
   "cell_type": "code",
   "execution_count": null,
   "metadata": {},
   "outputs": [],
   "source": [
    "IHS_critical.to_csv('../../data/interim/economical/IHS_critical_NACE64.csv', index=True)"
   ]
  },
  {
   "cell_type": "markdown",
   "metadata": {},
   "source": [
    "### Census 2011: Employees in every sector per arrondissement\n",
    "\n",
    "NACE 21 classification"
   ]
  },
  {
   "cell_type": "code",
   "execution_count": null,
   "metadata": {},
   "outputs": [],
   "source": [
    "abs_dir = os.getcwd()\n",
    "rel_dir = os.path.join(abs_dir, '../../data/raw/census_2011/census_arbeidsmarkt_nl_24oct14.xlsx')\n",
    "df = pd.read_excel(rel_dir, sheet_name=\"Tabel3_2011\")"
   ]
  },
  {
   "cell_type": "code",
   "execution_count": null,
   "metadata": {},
   "outputs": [],
   "source": [
    "codes=df['00.55 - Werkende bevolking van belgische en vreemde nationaliteit naar geslacht en economische sector'].loc[5:1943].dropna().values\n",
    "codes_int = [int(i) for i in codes]\n",
    "\n",
    "names = df.iloc[5:,1].dropna().values\n",
    "rows=[]\n",
    "for i in df['00.55 - Werkende bevolking van belgische en vreemde nationaliteit naar geslacht en economische sector'].loc[5:1943].dropna().index:\n",
    "    intra_row = np.array([])\n",
    "    intra_row = np.append(intra_row,df.iloc[i+2,3]) # A\n",
    "    intra_row = np.append(intra_row,df.iloc[i+2,5:10]) # B, C, D, F\n",
    "    intra_row = np.append(intra_row,df.iloc[i+2,11:17]) # G, H, I, J, K , L\n",
    "    intra_row = np.append(intra_row,df.iloc[i+2,18:20]) # M, N\n",
    "    intra_row = np.append(intra_row,df.iloc[i+2,21:24]) # O, P, Q\n",
    "    intra_row = np.append(intra_row,df.iloc[i+2,25:29]) # R, S, T, U\n",
    "    rows.append(intra_row)\n",
    "matrix = np.zeros([len(rows),21])\n",
    "for j in range(len(rows)):\n",
    "    matrix[j,:]=rows[j]\n",
    "    \n",
    "economic_df=pd.DataFrame(matrix,index=codes_int,columns=['A','B','C','D','E','F','G','H','I','J','K','L','M','N','O','P','Q','R','S','T','U'])\n",
    "economic_df.index.name = 'NIS'\n",
    "economic_df.head()"
   ]
  },
  {
   "cell_type": "code",
   "execution_count": null,
   "metadata": {},
   "outputs": [],
   "source": [
    "idx_arrondisement=[]\n",
    "for idx in economic_df.index:\n",
    "    if ((str(idx)[-3:] == '000') & (len(str(idx)) != 4) & (str(idx)[-4:] != '0000') & (str(idx)[0] != '0')):\n",
    "        idx_arrondisement.append(idx)\n",
    "print(idx_arrondisement)"
   ]
  },
  {
   "cell_type": "code",
   "execution_count": null,
   "metadata": {},
   "outputs": [],
   "source": [
    "economic_df.loc[idx_arrondisement,:]"
   ]
  },
  {
   "cell_type": "code",
   "execution_count": null,
   "metadata": {},
   "outputs": [],
   "source": [
    "economic_df.loc[idx_arrondisement,:].to_csv('../../data/interim/economical/census2011_NACE21.csv', index=True)"
   ]
  },
  {
   "cell_type": "markdown",
   "metadata": {},
   "source": [
    "### Test function to load economic data and conversion matrices"
   ]
  },
  {
   "cell_type": "code",
   "execution_count": null,
   "metadata": {},
   "outputs": [],
   "source": [
    "from covid19model.data.economic_parameters import get_economic_parameters, get_conversion_matrix"
   ]
  },
  {
   "cell_type": "code",
   "execution_count": null,
   "metadata": {},
   "outputs": [],
   "source": [
    "pars = get_economic_parameters()"
   ]
  },
  {
   "cell_type": "code",
   "execution_count": null,
   "metadata": {},
   "outputs": [],
   "source": [
    "mat = get_conversion_matrix('WIOD55_NACE6')"
   ]
  }
 ],
 "metadata": {
  "kernelspec": {
   "display_name": "Python 3",
   "language": "python",
   "name": "python3"
  },
  "language_info": {
   "codemirror_mode": {
    "name": "ipython",
    "version": 3
   },
   "file_extension": ".py",
   "mimetype": "text/x-python",
   "name": "python",
   "nbconvert_exporter": "python",
   "pygments_lexer": "ipython3",
   "version": "3.8.2"
  }
 },
 "nbformat": 4,
 "nbformat_minor": 4
}
