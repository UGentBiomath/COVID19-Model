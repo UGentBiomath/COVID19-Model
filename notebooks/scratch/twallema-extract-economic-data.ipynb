{
 "cells": [
  {
   "cell_type": "markdown",
   "metadata": {},
   "source": [
    "# Belgian economic production model\n",
    "\n",
    "## Data extraction and conversion\n",
    "\n",
    "*Original code by Cyril Garneau. Modified by T.W. Alleman in consultation with the BIOMATH research unit headed by prof. Ingmar Nopens.*\n",
    "\n",
    "Copyright (c) 2020 by T.W. Alleman, BIOMATH, Ghent University. All Rights Reserved."
   ]
  },
  {
   "cell_type": "code",
   "execution_count": 1,
   "metadata": {},
   "outputs": [],
   "source": [
    "import os\n",
    "import numpy as np\n",
    "import pandas as pd\n",
    "import matplotlib.pyplot as plt"
   ]
  },
  {
   "cell_type": "code",
   "execution_count": 2,
   "metadata": {},
   "outputs": [],
   "source": [
    "# OPTIONAL: Load the \"autoreload\" extension so that package code can change\n",
    "%load_ext autoreload\n",
    "# OPTIONAL: always reload modules so that as you change code in src, it gets loaded\n",
    "%autoreload 2"
   ]
  },
  {
   "cell_type": "markdown",
   "metadata": {},
   "source": [
    "### NACE Conversion matrices\n",
    "\n",
    "https://www.nbb.be/doc/dq/e/method/b_necd10.pdf"
   ]
  },
  {
   "cell_type": "markdown",
   "metadata": {},
   "source": [
    "#### NACE 21 to NACE 10\n",
    "\n",
    "National-level production model so U (extraterritorial activities must be removed)."
   ]
  },
  {
   "cell_type": "code",
   "execution_count": 3,
   "metadata": {},
   "outputs": [],
   "source": [
    "columns = ['A','B','C','D','E','F','G','H','I','J','K','L','M','N','O','P','Q','R','S','T']\n",
    "index = ['A','B, C, D, E','F','G-H-I','J','K','L','M-N','O, P, Q','R, S, T']"
   ]
  },
  {
   "cell_type": "code",
   "execution_count": 4,
   "metadata": {},
   "outputs": [],
   "source": [
    "NACE_21to10_mat = np.zeros([10,20])\n",
    "NACE_21to10_mat[0,0] = 1\n",
    "NACE_21to10_mat[1,1:5] = 1\n",
    "NACE_21to10_mat[2,5] = 1\n",
    "NACE_21to10_mat[3,6:9] = 1\n",
    "NACE_21to10_mat[4,9] = 1\n",
    "NACE_21to10_mat[5,10] = 1\n",
    "NACE_21to10_mat[6,11] = 1\n",
    "NACE_21to10_mat[7,12:14] = 1\n",
    "NACE_21to10_mat[8,14:17] = 1\n",
    "NACE_21to10_mat[9,17:20] = 1"
   ]
  },
  {
   "cell_type": "code",
   "execution_count": 5,
   "metadata": {},
   "outputs": [
    {
     "data": {
      "text/html": [
       "<div>\n",
       "<style scoped>\n",
       "    .dataframe tbody tr th:only-of-type {\n",
       "        vertical-align: middle;\n",
       "    }\n",
       "\n",
       "    .dataframe tbody tr th {\n",
       "        vertical-align: top;\n",
       "    }\n",
       "\n",
       "    .dataframe thead th {\n",
       "        text-align: right;\n",
       "    }\n",
       "</style>\n",
       "<table border=\"1\" class=\"dataframe\">\n",
       "  <thead>\n",
       "    <tr style=\"text-align: right;\">\n",
       "      <th></th>\n",
       "      <th>A</th>\n",
       "      <th>B</th>\n",
       "      <th>C</th>\n",
       "      <th>D</th>\n",
       "      <th>E</th>\n",
       "      <th>F</th>\n",
       "      <th>G</th>\n",
       "      <th>H</th>\n",
       "      <th>I</th>\n",
       "      <th>J</th>\n",
       "      <th>K</th>\n",
       "      <th>L</th>\n",
       "      <th>M</th>\n",
       "      <th>N</th>\n",
       "      <th>O</th>\n",
       "      <th>P</th>\n",
       "      <th>Q</th>\n",
       "      <th>R</th>\n",
       "      <th>S</th>\n",
       "      <th>T</th>\n",
       "    </tr>\n",
       "  </thead>\n",
       "  <tbody>\n",
       "    <tr>\n",
       "      <th>A</th>\n",
       "      <td>1.0</td>\n",
       "      <td>0.0</td>\n",
       "      <td>0.0</td>\n",
       "      <td>0.0</td>\n",
       "      <td>0.0</td>\n",
       "      <td>0.0</td>\n",
       "      <td>0.0</td>\n",
       "      <td>0.0</td>\n",
       "      <td>0.0</td>\n",
       "      <td>0.0</td>\n",
       "      <td>0.0</td>\n",
       "      <td>0.0</td>\n",
       "      <td>0.0</td>\n",
       "      <td>0.0</td>\n",
       "      <td>0.0</td>\n",
       "      <td>0.0</td>\n",
       "      <td>0.0</td>\n",
       "      <td>0.0</td>\n",
       "      <td>0.0</td>\n",
       "      <td>0.0</td>\n",
       "    </tr>\n",
       "    <tr>\n",
       "      <th>B, C, D, E</th>\n",
       "      <td>0.0</td>\n",
       "      <td>1.0</td>\n",
       "      <td>1.0</td>\n",
       "      <td>1.0</td>\n",
       "      <td>1.0</td>\n",
       "      <td>0.0</td>\n",
       "      <td>0.0</td>\n",
       "      <td>0.0</td>\n",
       "      <td>0.0</td>\n",
       "      <td>0.0</td>\n",
       "      <td>0.0</td>\n",
       "      <td>0.0</td>\n",
       "      <td>0.0</td>\n",
       "      <td>0.0</td>\n",
       "      <td>0.0</td>\n",
       "      <td>0.0</td>\n",
       "      <td>0.0</td>\n",
       "      <td>0.0</td>\n",
       "      <td>0.0</td>\n",
       "      <td>0.0</td>\n",
       "    </tr>\n",
       "    <tr>\n",
       "      <th>F</th>\n",
       "      <td>0.0</td>\n",
       "      <td>0.0</td>\n",
       "      <td>0.0</td>\n",
       "      <td>0.0</td>\n",
       "      <td>0.0</td>\n",
       "      <td>1.0</td>\n",
       "      <td>0.0</td>\n",
       "      <td>0.0</td>\n",
       "      <td>0.0</td>\n",
       "      <td>0.0</td>\n",
       "      <td>0.0</td>\n",
       "      <td>0.0</td>\n",
       "      <td>0.0</td>\n",
       "      <td>0.0</td>\n",
       "      <td>0.0</td>\n",
       "      <td>0.0</td>\n",
       "      <td>0.0</td>\n",
       "      <td>0.0</td>\n",
       "      <td>0.0</td>\n",
       "      <td>0.0</td>\n",
       "    </tr>\n",
       "    <tr>\n",
       "      <th>G-H-I</th>\n",
       "      <td>0.0</td>\n",
       "      <td>0.0</td>\n",
       "      <td>0.0</td>\n",
       "      <td>0.0</td>\n",
       "      <td>0.0</td>\n",
       "      <td>0.0</td>\n",
       "      <td>1.0</td>\n",
       "      <td>1.0</td>\n",
       "      <td>1.0</td>\n",
       "      <td>0.0</td>\n",
       "      <td>0.0</td>\n",
       "      <td>0.0</td>\n",
       "      <td>0.0</td>\n",
       "      <td>0.0</td>\n",
       "      <td>0.0</td>\n",
       "      <td>0.0</td>\n",
       "      <td>0.0</td>\n",
       "      <td>0.0</td>\n",
       "      <td>0.0</td>\n",
       "      <td>0.0</td>\n",
       "    </tr>\n",
       "    <tr>\n",
       "      <th>J</th>\n",
       "      <td>0.0</td>\n",
       "      <td>0.0</td>\n",
       "      <td>0.0</td>\n",
       "      <td>0.0</td>\n",
       "      <td>0.0</td>\n",
       "      <td>0.0</td>\n",
       "      <td>0.0</td>\n",
       "      <td>0.0</td>\n",
       "      <td>0.0</td>\n",
       "      <td>1.0</td>\n",
       "      <td>0.0</td>\n",
       "      <td>0.0</td>\n",
       "      <td>0.0</td>\n",
       "      <td>0.0</td>\n",
       "      <td>0.0</td>\n",
       "      <td>0.0</td>\n",
       "      <td>0.0</td>\n",
       "      <td>0.0</td>\n",
       "      <td>0.0</td>\n",
       "      <td>0.0</td>\n",
       "    </tr>\n",
       "  </tbody>\n",
       "</table>\n",
       "</div>"
      ],
      "text/plain": [
       "              A    B    C    D    E    F    G    H    I    J    K    L    M  \\\n",
       "A           1.0  0.0  0.0  0.0  0.0  0.0  0.0  0.0  0.0  0.0  0.0  0.0  0.0   \n",
       "B, C, D, E  0.0  1.0  1.0  1.0  1.0  0.0  0.0  0.0  0.0  0.0  0.0  0.0  0.0   \n",
       "F           0.0  0.0  0.0  0.0  0.0  1.0  0.0  0.0  0.0  0.0  0.0  0.0  0.0   \n",
       "G-H-I       0.0  0.0  0.0  0.0  0.0  0.0  1.0  1.0  1.0  0.0  0.0  0.0  0.0   \n",
       "J           0.0  0.0  0.0  0.0  0.0  0.0  0.0  0.0  0.0  1.0  0.0  0.0  0.0   \n",
       "\n",
       "              N    O    P    Q    R    S    T  \n",
       "A           0.0  0.0  0.0  0.0  0.0  0.0  0.0  \n",
       "B, C, D, E  0.0  0.0  0.0  0.0  0.0  0.0  0.0  \n",
       "F           0.0  0.0  0.0  0.0  0.0  0.0  0.0  \n",
       "G-H-I       0.0  0.0  0.0  0.0  0.0  0.0  0.0  \n",
       "J           0.0  0.0  0.0  0.0  0.0  0.0  0.0  "
      ]
     },
     "execution_count": 5,
     "metadata": {},
     "output_type": "execute_result"
    }
   ],
   "source": [
    "NACE21to10 = pd.DataFrame(data=NACE_21to10_mat,columns=columns,index=index)\n",
    "NACE21to10.head()"
   ]
  },
  {
   "cell_type": "markdown",
   "metadata": {},
   "source": [
    "#### NACE 38 to NACE 21\n",
    "\n",
    "National-level production model so U (extraterritorial activities must be removed)."
   ]
  },
  {
   "cell_type": "code",
   "execution_count": 6,
   "metadata": {},
   "outputs": [],
   "source": [
    "columns = ['AA','BB','CA','CB','CC','CD','CE','CF','CG','CH','CI','CJ','CK','CL','CM','DD','EE','FF','GG','HH','II','JA','JB','JC','KK','LL','MA','MB','MC','NN','OO','PP','QA','QB','RR','SS','TT']\n",
    "index = ['A','B','C','D','E','F','G','H','I','J','K','L','M','N','O','P','Q','R','S','T']"
   ]
  },
  {
   "cell_type": "code",
   "execution_count": 7,
   "metadata": {},
   "outputs": [],
   "source": [
    "NACE_38to21_mat = np.zeros([20,37])\n",
    "NACE_38to21_mat[0,0] = 1\n",
    "NACE_38to21_mat[1,1] = 1\n",
    "NACE_38to21_mat[2,2:15] = 1\n",
    "NACE_38to21_mat[3,15] = 1\n",
    "NACE_38to21_mat[4,16] = 1\n",
    "NACE_38to21_mat[5,17] = 1\n",
    "NACE_38to21_mat[6,18] = 1\n",
    "NACE_38to21_mat[7,19] = 1\n",
    "NACE_38to21_mat[8,20] = 1\n",
    "NACE_38to21_mat[9,21:24] = 1\n",
    "NACE_38to21_mat[10,24] = 1\n",
    "NACE_38to21_mat[11,25] = 1\n",
    "NACE_38to21_mat[12,26:29] = 1\n",
    "NACE_38to21_mat[13,29] = 1\n",
    "NACE_38to21_mat[14,30] = 1\n",
    "NACE_38to21_mat[15,31] = 1\n",
    "NACE_38to21_mat[16,32:34] = 1\n",
    "NACE_38to21_mat[17,34] = 1\n",
    "NACE_38to21_mat[18,35] = 1\n",
    "NACE_38to21_mat[19,36] = 1"
   ]
  },
  {
   "cell_type": "code",
   "execution_count": 8,
   "metadata": {},
   "outputs": [
    {
     "data": {
      "text/html": [
       "<div>\n",
       "<style scoped>\n",
       "    .dataframe tbody tr th:only-of-type {\n",
       "        vertical-align: middle;\n",
       "    }\n",
       "\n",
       "    .dataframe tbody tr th {\n",
       "        vertical-align: top;\n",
       "    }\n",
       "\n",
       "    .dataframe thead th {\n",
       "        text-align: right;\n",
       "    }\n",
       "</style>\n",
       "<table border=\"1\" class=\"dataframe\">\n",
       "  <thead>\n",
       "    <tr style=\"text-align: right;\">\n",
       "      <th></th>\n",
       "      <th>AA</th>\n",
       "      <th>BB</th>\n",
       "      <th>CA</th>\n",
       "      <th>CB</th>\n",
       "      <th>CC</th>\n",
       "      <th>CD</th>\n",
       "      <th>CE</th>\n",
       "      <th>CF</th>\n",
       "      <th>CG</th>\n",
       "      <th>CH</th>\n",
       "      <th>...</th>\n",
       "      <th>MB</th>\n",
       "      <th>MC</th>\n",
       "      <th>NN</th>\n",
       "      <th>OO</th>\n",
       "      <th>PP</th>\n",
       "      <th>QA</th>\n",
       "      <th>QB</th>\n",
       "      <th>RR</th>\n",
       "      <th>SS</th>\n",
       "      <th>TT</th>\n",
       "    </tr>\n",
       "  </thead>\n",
       "  <tbody>\n",
       "    <tr>\n",
       "      <th>A</th>\n",
       "      <td>1.0</td>\n",
       "      <td>0.0</td>\n",
       "      <td>0.0</td>\n",
       "      <td>0.0</td>\n",
       "      <td>0.0</td>\n",
       "      <td>0.0</td>\n",
       "      <td>0.0</td>\n",
       "      <td>0.0</td>\n",
       "      <td>0.0</td>\n",
       "      <td>0.0</td>\n",
       "      <td>...</td>\n",
       "      <td>0.0</td>\n",
       "      <td>0.0</td>\n",
       "      <td>0.0</td>\n",
       "      <td>0.0</td>\n",
       "      <td>0.0</td>\n",
       "      <td>0.0</td>\n",
       "      <td>0.0</td>\n",
       "      <td>0.0</td>\n",
       "      <td>0.0</td>\n",
       "      <td>0.0</td>\n",
       "    </tr>\n",
       "    <tr>\n",
       "      <th>B</th>\n",
       "      <td>0.0</td>\n",
       "      <td>1.0</td>\n",
       "      <td>0.0</td>\n",
       "      <td>0.0</td>\n",
       "      <td>0.0</td>\n",
       "      <td>0.0</td>\n",
       "      <td>0.0</td>\n",
       "      <td>0.0</td>\n",
       "      <td>0.0</td>\n",
       "      <td>0.0</td>\n",
       "      <td>...</td>\n",
       "      <td>0.0</td>\n",
       "      <td>0.0</td>\n",
       "      <td>0.0</td>\n",
       "      <td>0.0</td>\n",
       "      <td>0.0</td>\n",
       "      <td>0.0</td>\n",
       "      <td>0.0</td>\n",
       "      <td>0.0</td>\n",
       "      <td>0.0</td>\n",
       "      <td>0.0</td>\n",
       "    </tr>\n",
       "    <tr>\n",
       "      <th>C</th>\n",
       "      <td>0.0</td>\n",
       "      <td>0.0</td>\n",
       "      <td>1.0</td>\n",
       "      <td>1.0</td>\n",
       "      <td>1.0</td>\n",
       "      <td>1.0</td>\n",
       "      <td>1.0</td>\n",
       "      <td>1.0</td>\n",
       "      <td>1.0</td>\n",
       "      <td>1.0</td>\n",
       "      <td>...</td>\n",
       "      <td>0.0</td>\n",
       "      <td>0.0</td>\n",
       "      <td>0.0</td>\n",
       "      <td>0.0</td>\n",
       "      <td>0.0</td>\n",
       "      <td>0.0</td>\n",
       "      <td>0.0</td>\n",
       "      <td>0.0</td>\n",
       "      <td>0.0</td>\n",
       "      <td>0.0</td>\n",
       "    </tr>\n",
       "    <tr>\n",
       "      <th>D</th>\n",
       "      <td>0.0</td>\n",
       "      <td>0.0</td>\n",
       "      <td>0.0</td>\n",
       "      <td>0.0</td>\n",
       "      <td>0.0</td>\n",
       "      <td>0.0</td>\n",
       "      <td>0.0</td>\n",
       "      <td>0.0</td>\n",
       "      <td>0.0</td>\n",
       "      <td>0.0</td>\n",
       "      <td>...</td>\n",
       "      <td>0.0</td>\n",
       "      <td>0.0</td>\n",
       "      <td>0.0</td>\n",
       "      <td>0.0</td>\n",
       "      <td>0.0</td>\n",
       "      <td>0.0</td>\n",
       "      <td>0.0</td>\n",
       "      <td>0.0</td>\n",
       "      <td>0.0</td>\n",
       "      <td>0.0</td>\n",
       "    </tr>\n",
       "    <tr>\n",
       "      <th>E</th>\n",
       "      <td>0.0</td>\n",
       "      <td>0.0</td>\n",
       "      <td>0.0</td>\n",
       "      <td>0.0</td>\n",
       "      <td>0.0</td>\n",
       "      <td>0.0</td>\n",
       "      <td>0.0</td>\n",
       "      <td>0.0</td>\n",
       "      <td>0.0</td>\n",
       "      <td>0.0</td>\n",
       "      <td>...</td>\n",
       "      <td>0.0</td>\n",
       "      <td>0.0</td>\n",
       "      <td>0.0</td>\n",
       "      <td>0.0</td>\n",
       "      <td>0.0</td>\n",
       "      <td>0.0</td>\n",
       "      <td>0.0</td>\n",
       "      <td>0.0</td>\n",
       "      <td>0.0</td>\n",
       "      <td>0.0</td>\n",
       "    </tr>\n",
       "  </tbody>\n",
       "</table>\n",
       "<p>5 rows × 37 columns</p>\n",
       "</div>"
      ],
      "text/plain": [
       "    AA   BB   CA   CB   CC   CD   CE   CF   CG   CH  ...   MB   MC   NN   OO  \\\n",
       "A  1.0  0.0  0.0  0.0  0.0  0.0  0.0  0.0  0.0  0.0  ...  0.0  0.0  0.0  0.0   \n",
       "B  0.0  1.0  0.0  0.0  0.0  0.0  0.0  0.0  0.0  0.0  ...  0.0  0.0  0.0  0.0   \n",
       "C  0.0  0.0  1.0  1.0  1.0  1.0  1.0  1.0  1.0  1.0  ...  0.0  0.0  0.0  0.0   \n",
       "D  0.0  0.0  0.0  0.0  0.0  0.0  0.0  0.0  0.0  0.0  ...  0.0  0.0  0.0  0.0   \n",
       "E  0.0  0.0  0.0  0.0  0.0  0.0  0.0  0.0  0.0  0.0  ...  0.0  0.0  0.0  0.0   \n",
       "\n",
       "    PP   QA   QB   RR   SS   TT  \n",
       "A  0.0  0.0  0.0  0.0  0.0  0.0  \n",
       "B  0.0  0.0  0.0  0.0  0.0  0.0  \n",
       "C  0.0  0.0  0.0  0.0  0.0  0.0  \n",
       "D  0.0  0.0  0.0  0.0  0.0  0.0  \n",
       "E  0.0  0.0  0.0  0.0  0.0  0.0  \n",
       "\n",
       "[5 rows x 37 columns]"
      ]
     },
     "execution_count": 8,
     "metadata": {},
     "output_type": "execute_result"
    }
   ],
   "source": [
    "NACE38to21 = pd.DataFrame(data=NACE_38to21_mat,columns=columns,index=index)\n",
    "NACE38to21.head()"
   ]
  },
  {
   "cell_type": "markdown",
   "metadata": {},
   "source": [
    "#### NACE 64 to NACE 38\n",
    "\n",
    "National-level production model so U (extraterritorial activities must be removed)."
   ]
  },
  {
   "cell_type": "code",
   "execution_count": 9,
   "metadata": {},
   "outputs": [],
   "source": [
    "index = ['AA','BB','CA','CB','CC','CD','CE','CF','CG','CH','CI','CJ','CK','CL','CM','DD','EE','FF','GG','HH','II','JA','JB','JC','KK','LL','MA','MB','MC','NN','OO','PP','QA','QB','RR','SS','TT']"
   ]
  },
  {
   "cell_type": "code",
   "execution_count": 10,
   "metadata": {},
   "outputs": [],
   "source": [
    "IO_df = pd.read_excel(\"../../data/raw/economical/input-output.xlsx\", sheet_name='tbl_8',index_col=[0], header=[0])\n",
    "codes64 = list(IO_df.index.values[1:-19])\n",
    "codes64[-1] = '97-98'\n",
    "codes64.remove('68a')\n",
    "codes64[codes64.index('68_')]='68'\n",
    "codes64 = np.array(codes64)\n",
    "columns = codes64"
   ]
  },
  {
   "cell_type": "code",
   "execution_count": 11,
   "metadata": {},
   "outputs": [],
   "source": [
    "NACE_64to38_mat = np.zeros([37,63])\n",
    "NACE_64to38_mat[0,0:3] = 1\n",
    "NACE_64to38_mat[1,3] = 1\n",
    "NACE_64to38_mat[2,4] = 1\n",
    "NACE_64to38_mat[3,5] = 1\n",
    "NACE_64to38_mat[4,6:9] = 1\n",
    "NACE_64to38_mat[5,9] = 1\n",
    "NACE_64to38_mat[6,10] = 1\n",
    "NACE_64to38_mat[7,11] = 1\n",
    "NACE_64to38_mat[8,12:14] = 1\n",
    "NACE_64to38_mat[9,14:16] = 1\n",
    "NACE_64to38_mat[10,16] = 1\n",
    "NACE_64to38_mat[11,17] = 1\n",
    "NACE_64to38_mat[12,18] = 1\n",
    "NACE_64to38_mat[13,19:21] = 1\n",
    "NACE_64to38_mat[14,21:23] = 1\n",
    "NACE_64to38_mat[15,23] = 1\n",
    "NACE_64to38_mat[16,24:26] = 1\n",
    "NACE_64to38_mat[17,26] = 1\n",
    "NACE_64to38_mat[18,27:30] = 1\n",
    "NACE_64to38_mat[19,30:35] = 1\n",
    "NACE_64to38_mat[20,35] = 1\n",
    "NACE_64to38_mat[21,36:38] = 1\n",
    "NACE_64to38_mat[22,38] = 1\n",
    "NACE_64to38_mat[23,39] = 1\n",
    "NACE_64to38_mat[24,40:43] = 1\n",
    "NACE_64to38_mat[25,43] = 1\n",
    "NACE_64to38_mat[26,44:46] = 1\n",
    "NACE_64to38_mat[27,46] = 1\n",
    "NACE_64to38_mat[28,47:49] = 1\n",
    "NACE_64to38_mat[29,49:53] = 1\n",
    "NACE_64to38_mat[30,53] = 1\n",
    "NACE_64to38_mat[31,54] = 1\n",
    "NACE_64to38_mat[32,55] = 1\n",
    "NACE_64to38_mat[33,56] = 1\n",
    "NACE_64to38_mat[34,57:59] = 1\n",
    "NACE_64to38_mat[35,59:62] = 1\n",
    "NACE_64to38_mat[36,62] = 1"
   ]
  },
  {
   "cell_type": "code",
   "execution_count": 12,
   "metadata": {},
   "outputs": [
    {
     "data": {
      "text/html": [
       "<div>\n",
       "<style scoped>\n",
       "    .dataframe tbody tr th:only-of-type {\n",
       "        vertical-align: middle;\n",
       "    }\n",
       "\n",
       "    .dataframe tbody tr th {\n",
       "        vertical-align: top;\n",
       "    }\n",
       "\n",
       "    .dataframe thead th {\n",
       "        text-align: right;\n",
       "    }\n",
       "</style>\n",
       "<table border=\"1\" class=\"dataframe\">\n",
       "  <thead>\n",
       "    <tr style=\"text-align: right;\">\n",
       "      <th></th>\n",
       "      <th>01</th>\n",
       "      <th>02</th>\n",
       "      <th>03</th>\n",
       "      <th>05-09</th>\n",
       "      <th>10-12</th>\n",
       "      <th>13-15</th>\n",
       "      <th>16</th>\n",
       "      <th>17</th>\n",
       "      <th>18</th>\n",
       "      <th>19</th>\n",
       "      <th>...</th>\n",
       "      <th>84</th>\n",
       "      <th>85</th>\n",
       "      <th>86</th>\n",
       "      <th>87-88</th>\n",
       "      <th>90-92</th>\n",
       "      <th>93</th>\n",
       "      <th>94</th>\n",
       "      <th>95</th>\n",
       "      <th>96</th>\n",
       "      <th>97-98</th>\n",
       "    </tr>\n",
       "  </thead>\n",
       "  <tbody>\n",
       "    <tr>\n",
       "      <th>AA</th>\n",
       "      <td>1.0</td>\n",
       "      <td>1.0</td>\n",
       "      <td>1.0</td>\n",
       "      <td>0.0</td>\n",
       "      <td>0.0</td>\n",
       "      <td>0.0</td>\n",
       "      <td>0.0</td>\n",
       "      <td>0.0</td>\n",
       "      <td>0.0</td>\n",
       "      <td>0.0</td>\n",
       "      <td>...</td>\n",
       "      <td>0.0</td>\n",
       "      <td>0.0</td>\n",
       "      <td>0.0</td>\n",
       "      <td>0.0</td>\n",
       "      <td>0.0</td>\n",
       "      <td>0.0</td>\n",
       "      <td>0.0</td>\n",
       "      <td>0.0</td>\n",
       "      <td>0.0</td>\n",
       "      <td>0.0</td>\n",
       "    </tr>\n",
       "    <tr>\n",
       "      <th>BB</th>\n",
       "      <td>0.0</td>\n",
       "      <td>0.0</td>\n",
       "      <td>0.0</td>\n",
       "      <td>1.0</td>\n",
       "      <td>0.0</td>\n",
       "      <td>0.0</td>\n",
       "      <td>0.0</td>\n",
       "      <td>0.0</td>\n",
       "      <td>0.0</td>\n",
       "      <td>0.0</td>\n",
       "      <td>...</td>\n",
       "      <td>0.0</td>\n",
       "      <td>0.0</td>\n",
       "      <td>0.0</td>\n",
       "      <td>0.0</td>\n",
       "      <td>0.0</td>\n",
       "      <td>0.0</td>\n",
       "      <td>0.0</td>\n",
       "      <td>0.0</td>\n",
       "      <td>0.0</td>\n",
       "      <td>0.0</td>\n",
       "    </tr>\n",
       "    <tr>\n",
       "      <th>CA</th>\n",
       "      <td>0.0</td>\n",
       "      <td>0.0</td>\n",
       "      <td>0.0</td>\n",
       "      <td>0.0</td>\n",
       "      <td>1.0</td>\n",
       "      <td>0.0</td>\n",
       "      <td>0.0</td>\n",
       "      <td>0.0</td>\n",
       "      <td>0.0</td>\n",
       "      <td>0.0</td>\n",
       "      <td>...</td>\n",
       "      <td>0.0</td>\n",
       "      <td>0.0</td>\n",
       "      <td>0.0</td>\n",
       "      <td>0.0</td>\n",
       "      <td>0.0</td>\n",
       "      <td>0.0</td>\n",
       "      <td>0.0</td>\n",
       "      <td>0.0</td>\n",
       "      <td>0.0</td>\n",
       "      <td>0.0</td>\n",
       "    </tr>\n",
       "    <tr>\n",
       "      <th>CB</th>\n",
       "      <td>0.0</td>\n",
       "      <td>0.0</td>\n",
       "      <td>0.0</td>\n",
       "      <td>0.0</td>\n",
       "      <td>0.0</td>\n",
       "      <td>1.0</td>\n",
       "      <td>0.0</td>\n",
       "      <td>0.0</td>\n",
       "      <td>0.0</td>\n",
       "      <td>0.0</td>\n",
       "      <td>...</td>\n",
       "      <td>0.0</td>\n",
       "      <td>0.0</td>\n",
       "      <td>0.0</td>\n",
       "      <td>0.0</td>\n",
       "      <td>0.0</td>\n",
       "      <td>0.0</td>\n",
       "      <td>0.0</td>\n",
       "      <td>0.0</td>\n",
       "      <td>0.0</td>\n",
       "      <td>0.0</td>\n",
       "    </tr>\n",
       "    <tr>\n",
       "      <th>CC</th>\n",
       "      <td>0.0</td>\n",
       "      <td>0.0</td>\n",
       "      <td>0.0</td>\n",
       "      <td>0.0</td>\n",
       "      <td>0.0</td>\n",
       "      <td>0.0</td>\n",
       "      <td>1.0</td>\n",
       "      <td>1.0</td>\n",
       "      <td>1.0</td>\n",
       "      <td>0.0</td>\n",
       "      <td>...</td>\n",
       "      <td>0.0</td>\n",
       "      <td>0.0</td>\n",
       "      <td>0.0</td>\n",
       "      <td>0.0</td>\n",
       "      <td>0.0</td>\n",
       "      <td>0.0</td>\n",
       "      <td>0.0</td>\n",
       "      <td>0.0</td>\n",
       "      <td>0.0</td>\n",
       "      <td>0.0</td>\n",
       "    </tr>\n",
       "  </tbody>\n",
       "</table>\n",
       "<p>5 rows × 63 columns</p>\n",
       "</div>"
      ],
      "text/plain": [
       "     01   02   03  05-09  10-12  13-15   16   17   18   19  ...   84   85  \\\n",
       "AA  1.0  1.0  1.0    0.0    0.0    0.0  0.0  0.0  0.0  0.0  ...  0.0  0.0   \n",
       "BB  0.0  0.0  0.0    1.0    0.0    0.0  0.0  0.0  0.0  0.0  ...  0.0  0.0   \n",
       "CA  0.0  0.0  0.0    0.0    1.0    0.0  0.0  0.0  0.0  0.0  ...  0.0  0.0   \n",
       "CB  0.0  0.0  0.0    0.0    0.0    1.0  0.0  0.0  0.0  0.0  ...  0.0  0.0   \n",
       "CC  0.0  0.0  0.0    0.0    0.0    0.0  1.0  1.0  1.0  0.0  ...  0.0  0.0   \n",
       "\n",
       "     86  87-88  90-92   93   94   95   96  97-98  \n",
       "AA  0.0    0.0    0.0  0.0  0.0  0.0  0.0    0.0  \n",
       "BB  0.0    0.0    0.0  0.0  0.0  0.0  0.0    0.0  \n",
       "CA  0.0    0.0    0.0  0.0  0.0  0.0  0.0    0.0  \n",
       "CB  0.0    0.0    0.0  0.0  0.0  0.0  0.0    0.0  \n",
       "CC  0.0    0.0    0.0  0.0  0.0  0.0  0.0    0.0  \n",
       "\n",
       "[5 rows x 63 columns]"
      ]
     },
     "execution_count": 12,
     "metadata": {},
     "output_type": "execute_result"
    }
   ],
   "source": [
    "NACE64to38 = pd.DataFrame(data=NACE_64to38_mat,columns=columns,index=index)\n",
    "NACE64to38.head()"
   ]
  },
  {
   "cell_type": "markdown",
   "metadata": {},
   "source": [
    "#### WIOD 55 to NACE 64\n",
    "\n",
    "National-level production model so U (extraterritorial activities must be removed)."
   ]
  },
  {
   "cell_type": "code",
   "execution_count": 13,
   "metadata": {},
   "outputs": [],
   "source": [
    "abs_dir = os.getcwd()\n",
    "rel_dir = os.path.join(abs_dir, '../../data/raw/economical/IHS_Markit_results_compact.csv')\n",
    "IHS_df = pd.read_csv(rel_dir,header=[0],index_col=[0])\n",
    "index = IHS_df.index.values[:]"
   ]
  },
  {
   "cell_type": "code",
   "execution_count": 14,
   "metadata": {},
   "outputs": [],
   "source": [
    "WIOD55toNACE64_mat = np.zeros([55,63])\n",
    "for i in range(49):\n",
    "    WIOD55toNACE64_mat[i,i]=1\n",
    "WIOD55toNACE64_mat[49,49:53]=1\n",
    "WIOD55toNACE64_mat[50,53]=1\n",
    "WIOD55toNACE64_mat[51,54]=1\n",
    "WIOD55toNACE64_mat[52,55:57]=1\n",
    "WIOD55toNACE64_mat[53,57:62]=1\n",
    "WIOD55toNACE64_mat[54,62]=1"
   ]
  },
  {
   "cell_type": "code",
   "execution_count": 15,
   "metadata": {},
   "outputs": [
    {
     "data": {
      "text/html": [
       "<div>\n",
       "<style scoped>\n",
       "    .dataframe tbody tr th:only-of-type {\n",
       "        vertical-align: middle;\n",
       "    }\n",
       "\n",
       "    .dataframe tbody tr th {\n",
       "        vertical-align: top;\n",
       "    }\n",
       "\n",
       "    .dataframe thead th {\n",
       "        text-align: right;\n",
       "    }\n",
       "</style>\n",
       "<table border=\"1\" class=\"dataframe\">\n",
       "  <thead>\n",
       "    <tr style=\"text-align: right;\">\n",
       "      <th></th>\n",
       "      <th>01</th>\n",
       "      <th>02</th>\n",
       "      <th>03</th>\n",
       "      <th>05-09</th>\n",
       "      <th>10-12</th>\n",
       "      <th>13-15</th>\n",
       "      <th>16</th>\n",
       "      <th>17</th>\n",
       "      <th>18</th>\n",
       "      <th>19</th>\n",
       "      <th>...</th>\n",
       "      <th>84</th>\n",
       "      <th>85</th>\n",
       "      <th>86</th>\n",
       "      <th>87-88</th>\n",
       "      <th>90-92</th>\n",
       "      <th>93</th>\n",
       "      <th>94</th>\n",
       "      <th>95</th>\n",
       "      <th>96</th>\n",
       "      <th>97-98</th>\n",
       "    </tr>\n",
       "  </thead>\n",
       "  <tbody>\n",
       "    <tr>\n",
       "      <th>O84</th>\n",
       "      <td>0.0</td>\n",
       "      <td>0.0</td>\n",
       "      <td>0.0</td>\n",
       "      <td>0.0</td>\n",
       "      <td>0.0</td>\n",
       "      <td>0.0</td>\n",
       "      <td>0.0</td>\n",
       "      <td>0.0</td>\n",
       "      <td>0.0</td>\n",
       "      <td>0.0</td>\n",
       "      <td>...</td>\n",
       "      <td>1.0</td>\n",
       "      <td>0.0</td>\n",
       "      <td>0.0</td>\n",
       "      <td>0.0</td>\n",
       "      <td>0.0</td>\n",
       "      <td>0.0</td>\n",
       "      <td>0.0</td>\n",
       "      <td>0.0</td>\n",
       "      <td>0.0</td>\n",
       "      <td>0.0</td>\n",
       "    </tr>\n",
       "    <tr>\n",
       "      <th>P85</th>\n",
       "      <td>0.0</td>\n",
       "      <td>0.0</td>\n",
       "      <td>0.0</td>\n",
       "      <td>0.0</td>\n",
       "      <td>0.0</td>\n",
       "      <td>0.0</td>\n",
       "      <td>0.0</td>\n",
       "      <td>0.0</td>\n",
       "      <td>0.0</td>\n",
       "      <td>0.0</td>\n",
       "      <td>...</td>\n",
       "      <td>0.0</td>\n",
       "      <td>1.0</td>\n",
       "      <td>0.0</td>\n",
       "      <td>0.0</td>\n",
       "      <td>0.0</td>\n",
       "      <td>0.0</td>\n",
       "      <td>0.0</td>\n",
       "      <td>0.0</td>\n",
       "      <td>0.0</td>\n",
       "      <td>0.0</td>\n",
       "    </tr>\n",
       "    <tr>\n",
       "      <th>Q</th>\n",
       "      <td>0.0</td>\n",
       "      <td>0.0</td>\n",
       "      <td>0.0</td>\n",
       "      <td>0.0</td>\n",
       "      <td>0.0</td>\n",
       "      <td>0.0</td>\n",
       "      <td>0.0</td>\n",
       "      <td>0.0</td>\n",
       "      <td>0.0</td>\n",
       "      <td>0.0</td>\n",
       "      <td>...</td>\n",
       "      <td>0.0</td>\n",
       "      <td>0.0</td>\n",
       "      <td>1.0</td>\n",
       "      <td>1.0</td>\n",
       "      <td>0.0</td>\n",
       "      <td>0.0</td>\n",
       "      <td>0.0</td>\n",
       "      <td>0.0</td>\n",
       "      <td>0.0</td>\n",
       "      <td>0.0</td>\n",
       "    </tr>\n",
       "    <tr>\n",
       "      <th>R_S</th>\n",
       "      <td>0.0</td>\n",
       "      <td>0.0</td>\n",
       "      <td>0.0</td>\n",
       "      <td>0.0</td>\n",
       "      <td>0.0</td>\n",
       "      <td>0.0</td>\n",
       "      <td>0.0</td>\n",
       "      <td>0.0</td>\n",
       "      <td>0.0</td>\n",
       "      <td>0.0</td>\n",
       "      <td>...</td>\n",
       "      <td>0.0</td>\n",
       "      <td>0.0</td>\n",
       "      <td>0.0</td>\n",
       "      <td>0.0</td>\n",
       "      <td>1.0</td>\n",
       "      <td>1.0</td>\n",
       "      <td>1.0</td>\n",
       "      <td>1.0</td>\n",
       "      <td>1.0</td>\n",
       "      <td>0.0</td>\n",
       "    </tr>\n",
       "    <tr>\n",
       "      <th>T</th>\n",
       "      <td>0.0</td>\n",
       "      <td>0.0</td>\n",
       "      <td>0.0</td>\n",
       "      <td>0.0</td>\n",
       "      <td>0.0</td>\n",
       "      <td>0.0</td>\n",
       "      <td>0.0</td>\n",
       "      <td>0.0</td>\n",
       "      <td>0.0</td>\n",
       "      <td>0.0</td>\n",
       "      <td>...</td>\n",
       "      <td>0.0</td>\n",
       "      <td>0.0</td>\n",
       "      <td>0.0</td>\n",
       "      <td>0.0</td>\n",
       "      <td>0.0</td>\n",
       "      <td>0.0</td>\n",
       "      <td>0.0</td>\n",
       "      <td>0.0</td>\n",
       "      <td>0.0</td>\n",
       "      <td>1.0</td>\n",
       "    </tr>\n",
       "  </tbody>\n",
       "</table>\n",
       "<p>5 rows × 63 columns</p>\n",
       "</div>"
      ],
      "text/plain": [
       "      01   02   03  05-09  10-12  13-15   16   17   18   19  ...   84   85  \\\n",
       "O84  0.0  0.0  0.0    0.0    0.0    0.0  0.0  0.0  0.0  0.0  ...  1.0  0.0   \n",
       "P85  0.0  0.0  0.0    0.0    0.0    0.0  0.0  0.0  0.0  0.0  ...  0.0  1.0   \n",
       "Q    0.0  0.0  0.0    0.0    0.0    0.0  0.0  0.0  0.0  0.0  ...  0.0  0.0   \n",
       "R_S  0.0  0.0  0.0    0.0    0.0    0.0  0.0  0.0  0.0  0.0  ...  0.0  0.0   \n",
       "T    0.0  0.0  0.0    0.0    0.0    0.0  0.0  0.0  0.0  0.0  ...  0.0  0.0   \n",
       "\n",
       "      86  87-88  90-92   93   94   95   96  97-98  \n",
       "O84  0.0    0.0    0.0  0.0  0.0  0.0  0.0    0.0  \n",
       "P85  0.0    0.0    0.0  0.0  0.0  0.0  0.0    0.0  \n",
       "Q    1.0    1.0    0.0  0.0  0.0  0.0  0.0    0.0  \n",
       "R_S  0.0    0.0    1.0  1.0  1.0  1.0  1.0    0.0  \n",
       "T    0.0    0.0    0.0  0.0  0.0  0.0  0.0    1.0  \n",
       "\n",
       "[5 rows x 63 columns]"
      ]
     },
     "execution_count": 15,
     "metadata": {},
     "output_type": "execute_result"
    }
   ],
   "source": [
    "WIOD55toNACE64 = pd.DataFrame(data=WIOD55toNACE64_mat,columns=columns,index=index)\n",
    "WIOD55toNACE64.tail()"
   ]
  },
  {
   "cell_type": "markdown",
   "metadata": {},
   "source": [
    "#### Create a multi-sheet excel with all conversion matrices"
   ]
  },
  {
   "cell_type": "code",
   "execution_count": 16,
   "metadata": {},
   "outputs": [],
   "source": [
    "with pd.ExcelWriter('../../data/interim/economical/conversion_matrices.xlsx') as writer:\n",
    "    NACE21to10.to_excel(writer, sheet_name='NACE 21 to NACE 10')\n",
    "    NACE38to21.to_excel(writer, sheet_name='NACE 38 to NACE 21')\n",
    "    NACE64to38.to_excel(writer, sheet_name='NACE 64 to NACE 38')\n",
    "    WIOD55toNACE64.to_excel(writer, sheet_name='NACE 64 to WIOD 55')"
   ]
  },
  {
   "cell_type": "markdown",
   "metadata": {},
   "source": [
    "### Input-output matrix $(Z_{i,j})$"
   ]
  },
  {
   "cell_type": "code",
   "execution_count": 17,
   "metadata": {},
   "outputs": [],
   "source": [
    "IO_df = pd.read_excel(\"../../data/raw/economical/input-output.xlsx\", sheet_name='tbl_8',index_col=[0], header=[0])"
   ]
  },
  {
   "cell_type": "code",
   "execution_count": 18,
   "metadata": {},
   "outputs": [
    {
     "data": {
      "text/html": [
       "<div>\n",
       "<style scoped>\n",
       "    .dataframe tbody tr th:only-of-type {\n",
       "        vertical-align: middle;\n",
       "    }\n",
       "\n",
       "    .dataframe tbody tr th {\n",
       "        vertical-align: top;\n",
       "    }\n",
       "\n",
       "    .dataframe thead th {\n",
       "        text-align: right;\n",
       "    }\n",
       "</style>\n",
       "<table border=\"1\" class=\"dataframe\">\n",
       "  <thead>\n",
       "    <tr style=\"text-align: right;\">\n",
       "      <th></th>\n",
       "      <th>Unnamed: 1</th>\n",
       "      <th>01</th>\n",
       "      <th>02</th>\n",
       "      <th>03</th>\n",
       "      <th>05-09</th>\n",
       "      <th>10-12</th>\n",
       "      <th>13-15</th>\n",
       "      <th>16</th>\n",
       "      <th>17</th>\n",
       "      <th>18</th>\n",
       "      <th>...</th>\n",
       "      <th>Unnamed: 66</th>\n",
       "      <th>P.31/S14</th>\n",
       "      <th>P.31/S15</th>\n",
       "      <th>P3./S13</th>\n",
       "      <th>P.51</th>\n",
       "      <th>P.52+P.53</th>\n",
       "      <th>P.6/S21i</th>\n",
       "      <th>P.6/S21x</th>\n",
       "      <th>P.6/S22</th>\n",
       "      <th>Unnamed: 75</th>\n",
       "    </tr>\n",
       "  </thead>\n",
       "  <tbody>\n",
       "    <tr>\n",
       "      <th>NaN</th>\n",
       "      <td>NaN</td>\n",
       "      <td>NaN</td>\n",
       "      <td>NaN</td>\n",
       "      <td>NaN</td>\n",
       "      <td>NaN</td>\n",
       "      <td>NaN</td>\n",
       "      <td>NaN</td>\n",
       "      <td>NaN</td>\n",
       "      <td>NaN</td>\n",
       "      <td>NaN</td>\n",
       "      <td>...</td>\n",
       "      <td>Total</td>\n",
       "      <td>Final consumption expenditure by households</td>\n",
       "      <td>Final consumption expenditure by NPISH</td>\n",
       "      <td>Final consumption expenditure by government</td>\n",
       "      <td>Gross fixed capital formation</td>\n",
       "      <td>Changes in inventories and acquisition less di...</td>\n",
       "      <td>Intra EA exports</td>\n",
       "      <td>Intra EU non-EA exports</td>\n",
       "      <td>Extra EU exports</td>\n",
       "      <td>Total use basic prices</td>\n",
       "    </tr>\n",
       "    <tr>\n",
       "      <th>01</th>\n",
       "      <td>NaN</td>\n",
       "      <td>1135.360954</td>\n",
       "      <td>52.53487</td>\n",
       "      <td>0.0</td>\n",
       "      <td>3.054806</td>\n",
       "      <td>8645.471002</td>\n",
       "      <td>51.263227</td>\n",
       "      <td>0.000000</td>\n",
       "      <td>0.000000</td>\n",
       "      <td>0.0</td>\n",
       "      <td>...</td>\n",
       "      <td>11019.2</td>\n",
       "      <td>2489.48</td>\n",
       "      <td>0</td>\n",
       "      <td>0</td>\n",
       "      <td>62.1795</td>\n",
       "      <td>-329.568</td>\n",
       "      <td>2887.61</td>\n",
       "      <td>389.535</td>\n",
       "      <td>353.405</td>\n",
       "      <td>16871.9</td>\n",
       "    </tr>\n",
       "    <tr>\n",
       "      <th>02</th>\n",
       "      <td>NaN</td>\n",
       "      <td>7.486584</td>\n",
       "      <td>0.00000</td>\n",
       "      <td>0.0</td>\n",
       "      <td>0.000000</td>\n",
       "      <td>0.368798</td>\n",
       "      <td>0.000000</td>\n",
       "      <td>264.460687</td>\n",
       "      <td>77.017536</td>\n",
       "      <td>0.0</td>\n",
       "      <td>...</td>\n",
       "      <td>391.283</td>\n",
       "      <td>93.0727</td>\n",
       "      <td>0</td>\n",
       "      <td>0</td>\n",
       "      <td>0</td>\n",
       "      <td>18.2043</td>\n",
       "      <td>101.608</td>\n",
       "      <td>8.46383</td>\n",
       "      <td>35.1685</td>\n",
       "      <td>647.801</td>\n",
       "    </tr>\n",
       "    <tr>\n",
       "      <th>03</th>\n",
       "      <td>NaN</td>\n",
       "      <td>0.000000</td>\n",
       "      <td>0.00000</td>\n",
       "      <td>0.0</td>\n",
       "      <td>0.000000</td>\n",
       "      <td>32.105076</td>\n",
       "      <td>0.000000</td>\n",
       "      <td>0.000000</td>\n",
       "      <td>0.000000</td>\n",
       "      <td>0.0</td>\n",
       "      <td>...</td>\n",
       "      <td>146.488</td>\n",
       "      <td>205.664</td>\n",
       "      <td>0</td>\n",
       "      <td>0</td>\n",
       "      <td>0</td>\n",
       "      <td>3.02254</td>\n",
       "      <td>68.8357</td>\n",
       "      <td>3.03205</td>\n",
       "      <td>2.05752</td>\n",
       "      <td>429.1</td>\n",
       "    </tr>\n",
       "    <tr>\n",
       "      <th>05-09</th>\n",
       "      <td>NaN</td>\n",
       "      <td>3.281892</td>\n",
       "      <td>0.00000</td>\n",
       "      <td>0.0</td>\n",
       "      <td>70.524424</td>\n",
       "      <td>72.012662</td>\n",
       "      <td>1.779141</td>\n",
       "      <td>0.000000</td>\n",
       "      <td>8.651364</td>\n",
       "      <td>0.0</td>\n",
       "      <td>...</td>\n",
       "      <td>14779.2</td>\n",
       "      <td>24.9084</td>\n",
       "      <td>0</td>\n",
       "      <td>0</td>\n",
       "      <td>0</td>\n",
       "      <td>23.0377</td>\n",
       "      <td>739.976</td>\n",
       "      <td>86.0331</td>\n",
       "      <td>8598.32</td>\n",
       "      <td>24251.5</td>\n",
       "    </tr>\n",
       "  </tbody>\n",
       "</table>\n",
       "<p>5 rows × 75 columns</p>\n",
       "</div>"
      ],
      "text/plain": [
       "      Unnamed: 1           01        02   03      05-09        10-12  \\\n",
       "NaN          NaN          NaN       NaN  NaN        NaN          NaN   \n",
       "01           NaN  1135.360954  52.53487  0.0   3.054806  8645.471002   \n",
       "02           NaN     7.486584   0.00000  0.0   0.000000     0.368798   \n",
       "03           NaN     0.000000   0.00000  0.0   0.000000    32.105076   \n",
       "05-09        NaN     3.281892   0.00000  0.0  70.524424    72.012662   \n",
       "\n",
       "           13-15          16         17   18  ...  Unnamed: 66  \\\n",
       "NaN          NaN         NaN        NaN  NaN  ...        Total   \n",
       "01     51.263227    0.000000   0.000000  0.0  ...      11019.2   \n",
       "02      0.000000  264.460687  77.017536  0.0  ...      391.283   \n",
       "03      0.000000    0.000000   0.000000  0.0  ...      146.488   \n",
       "05-09   1.779141    0.000000   8.651364  0.0  ...      14779.2   \n",
       "\n",
       "                                          P.31/S14  \\\n",
       "NaN    Final consumption expenditure by households   \n",
       "01                                         2489.48   \n",
       "02                                         93.0727   \n",
       "03                                         205.664   \n",
       "05-09                                      24.9084   \n",
       "\n",
       "                                     P.31/S15  \\\n",
       "NaN    Final consumption expenditure by NPISH   \n",
       "01                                          0   \n",
       "02                                          0   \n",
       "03                                          0   \n",
       "05-09                                       0   \n",
       "\n",
       "                                           P3./S13  \\\n",
       "NaN    Final consumption expenditure by government   \n",
       "01                                               0   \n",
       "02                                               0   \n",
       "03                                               0   \n",
       "05-09                                            0   \n",
       "\n",
       "                                P.51  \\\n",
       "NaN    Gross fixed capital formation   \n",
       "01                           62.1795   \n",
       "02                                 0   \n",
       "03                                 0   \n",
       "05-09                              0   \n",
       "\n",
       "                                               P.52+P.53          P.6/S21i  \\\n",
       "NaN    Changes in inventories and acquisition less di...  Intra EA exports   \n",
       "01                                              -329.568           2887.61   \n",
       "02                                               18.2043           101.608   \n",
       "03                                               3.02254           68.8357   \n",
       "05-09                                            23.0377           739.976   \n",
       "\n",
       "                      P.6/S21x           P.6/S22             Unnamed: 75  \n",
       "NaN    Intra EU non-EA exports  Extra EU exports  Total use basic prices  \n",
       "01                     389.535           353.405                 16871.9  \n",
       "02                     8.46383           35.1685                 647.801  \n",
       "03                     3.03205           2.05752                   429.1  \n",
       "05-09                  86.0331           8598.32                 24251.5  \n",
       "\n",
       "[5 rows x 75 columns]"
      ]
     },
     "execution_count": 18,
     "metadata": {},
     "output_type": "execute_result"
    }
   ],
   "source": [
    "IO_df.head()"
   ]
  },
  {
   "cell_type": "code",
   "execution_count": 18,
   "metadata": {},
   "outputs": [
    {
     "name": "stdout",
     "output_type": "stream",
     "text": [
      "(63,)\n"
     ]
    }
   ],
   "source": [
    "codes64 = list(IO_df.index.values[1:-19])\n",
    "codes64[-1] = '97-98'\n",
    "codes64.remove('68a')\n",
    "codes64[codes64.index('68_')]='68'\n",
    "codes64 = np.array(codes64)\n",
    "print(codes64.shape)"
   ]
  },
  {
   "cell_type": "code",
   "execution_count": 21,
   "metadata": {},
   "outputs": [
    {
     "name": "stdout",
     "output_type": "stream",
     "text": [
      "(64, 64)\n"
     ]
    }
   ],
   "source": [
    "IO = IO_df.values[1:-19,1:-10]\n",
    "print(IO.shape)"
   ]
  },
  {
   "cell_type": "code",
   "execution_count": 20,
   "metadata": {},
   "outputs": [
    {
     "name": "stdout",
     "output_type": "stream",
     "text": [
      "(63, 63)\n"
     ]
    }
   ],
   "source": [
    "IO=np.delete(IO,45,axis=0) # remove row 68a (adding not necessary since row 68a contains zeros only)\n",
    "IO[1:-19:44] = IO[1:-19:44] + IO[1:-19:45] # Add column 68a to column 68_\n",
    "IO=np.delete(IO,45,axis=1)\n",
    "print(IO.shape)"
   ]
  },
  {
   "cell_type": "code",
   "execution_count": 21,
   "metadata": {},
   "outputs": [
    {
     "data": {
      "text/html": [
       "<div>\n",
       "<style scoped>\n",
       "    .dataframe tbody tr th:only-of-type {\n",
       "        vertical-align: middle;\n",
       "    }\n",
       "\n",
       "    .dataframe tbody tr th {\n",
       "        vertical-align: top;\n",
       "    }\n",
       "\n",
       "    .dataframe thead th {\n",
       "        text-align: right;\n",
       "    }\n",
       "</style>\n",
       "<table border=\"1\" class=\"dataframe\">\n",
       "  <thead>\n",
       "    <tr style=\"text-align: right;\">\n",
       "      <th></th>\n",
       "      <th>01</th>\n",
       "      <th>02</th>\n",
       "      <th>03</th>\n",
       "      <th>05-09</th>\n",
       "      <th>10-12</th>\n",
       "      <th>13-15</th>\n",
       "      <th>16</th>\n",
       "      <th>17</th>\n",
       "      <th>18</th>\n",
       "      <th>19</th>\n",
       "      <th>...</th>\n",
       "      <th>84</th>\n",
       "      <th>85</th>\n",
       "      <th>86</th>\n",
       "      <th>87-88</th>\n",
       "      <th>90-92</th>\n",
       "      <th>93</th>\n",
       "      <th>94</th>\n",
       "      <th>95</th>\n",
       "      <th>96</th>\n",
       "      <th>97-98</th>\n",
       "    </tr>\n",
       "  </thead>\n",
       "  <tbody>\n",
       "    <tr>\n",
       "      <th>01</th>\n",
       "      <td>1135.36</td>\n",
       "      <td>52.5349</td>\n",
       "      <td>0</td>\n",
       "      <td>3.05481</td>\n",
       "      <td>8645.47</td>\n",
       "      <td>51.2632</td>\n",
       "      <td>0</td>\n",
       "      <td>0</td>\n",
       "      <td>0</td>\n",
       "      <td>0</td>\n",
       "      <td>...</td>\n",
       "      <td>18.827</td>\n",
       "      <td>0</td>\n",
       "      <td>10.0982</td>\n",
       "      <td>91.7385</td>\n",
       "      <td>0.102878</td>\n",
       "      <td>2.78215</td>\n",
       "      <td>16.7001</td>\n",
       "      <td>0</td>\n",
       "      <td>1.37227</td>\n",
       "      <td>0</td>\n",
       "    </tr>\n",
       "    <tr>\n",
       "      <th>02</th>\n",
       "      <td>14.9732</td>\n",
       "      <td>0</td>\n",
       "      <td>0</td>\n",
       "      <td>0</td>\n",
       "      <td>0.737597</td>\n",
       "      <td>0</td>\n",
       "      <td>528.921</td>\n",
       "      <td>154.035</td>\n",
       "      <td>0</td>\n",
       "      <td>0</td>\n",
       "      <td>...</td>\n",
       "      <td>0</td>\n",
       "      <td>0</td>\n",
       "      <td>0</td>\n",
       "      <td>0</td>\n",
       "      <td>0</td>\n",
       "      <td>0</td>\n",
       "      <td>0</td>\n",
       "      <td>0</td>\n",
       "      <td>1.95909</td>\n",
       "      <td>0</td>\n",
       "    </tr>\n",
       "    <tr>\n",
       "      <th>03</th>\n",
       "      <td>0</td>\n",
       "      <td>0</td>\n",
       "      <td>0</td>\n",
       "      <td>0</td>\n",
       "      <td>32.1051</td>\n",
       "      <td>0</td>\n",
       "      <td>0</td>\n",
       "      <td>0</td>\n",
       "      <td>0</td>\n",
       "      <td>0</td>\n",
       "      <td>...</td>\n",
       "      <td>0</td>\n",
       "      <td>0</td>\n",
       "      <td>0</td>\n",
       "      <td>0</td>\n",
       "      <td>0</td>\n",
       "      <td>0</td>\n",
       "      <td>0</td>\n",
       "      <td>0</td>\n",
       "      <td>0</td>\n",
       "      <td>0</td>\n",
       "    </tr>\n",
       "    <tr>\n",
       "      <th>05-09</th>\n",
       "      <td>3.28189</td>\n",
       "      <td>0</td>\n",
       "      <td>0</td>\n",
       "      <td>70.5244</td>\n",
       "      <td>72.0127</td>\n",
       "      <td>1.77914</td>\n",
       "      <td>0</td>\n",
       "      <td>8.65136</td>\n",
       "      <td>0</td>\n",
       "      <td>10792.9</td>\n",
       "      <td>...</td>\n",
       "      <td>5.66646</td>\n",
       "      <td>0</td>\n",
       "      <td>1.0824</td>\n",
       "      <td>0</td>\n",
       "      <td>4.08543</td>\n",
       "      <td>0.158955</td>\n",
       "      <td>1.21494</td>\n",
       "      <td>0</td>\n",
       "      <td>0</td>\n",
       "      <td>0</td>\n",
       "    </tr>\n",
       "    <tr>\n",
       "      <th>10-12</th>\n",
       "      <td>2180.09</td>\n",
       "      <td>0.168358</td>\n",
       "      <td>0.02898</td>\n",
       "      <td>0.167061</td>\n",
       "      <td>9434.97</td>\n",
       "      <td>10.2272</td>\n",
       "      <td>1.6863</td>\n",
       "      <td>42.4287</td>\n",
       "      <td>1.31281</td>\n",
       "      <td>100.51</td>\n",
       "      <td>...</td>\n",
       "      <td>223.437</td>\n",
       "      <td>39.5996</td>\n",
       "      <td>318.511</td>\n",
       "      <td>385.203</td>\n",
       "      <td>29.0127</td>\n",
       "      <td>89.4219</td>\n",
       "      <td>7.46886</td>\n",
       "      <td>1.95809</td>\n",
       "      <td>16.1913</td>\n",
       "      <td>0</td>\n",
       "    </tr>\n",
       "  </tbody>\n",
       "</table>\n",
       "<p>5 rows × 63 columns</p>\n",
       "</div>"
      ],
      "text/plain": [
       "            01        02       03     05-09     10-12    13-15       16  \\\n",
       "01     1135.36   52.5349        0   3.05481   8645.47  51.2632        0   \n",
       "02     14.9732         0        0         0  0.737597        0  528.921   \n",
       "03           0         0        0         0   32.1051        0        0   \n",
       "05-09  3.28189         0        0   70.5244   72.0127  1.77914        0   \n",
       "10-12  2180.09  0.168358  0.02898  0.167061   9434.97  10.2272   1.6863   \n",
       "\n",
       "            17       18       19  ...       84       85       86    87-88  \\\n",
       "01           0        0        0  ...   18.827        0  10.0982  91.7385   \n",
       "02     154.035        0        0  ...        0        0        0        0   \n",
       "03           0        0        0  ...        0        0        0        0   \n",
       "05-09  8.65136        0  10792.9  ...  5.66646        0   1.0824        0   \n",
       "10-12  42.4287  1.31281   100.51  ...  223.437  39.5996  318.511  385.203   \n",
       "\n",
       "          90-92        93       94       95       96 97-98  \n",
       "01     0.102878   2.78215  16.7001        0  1.37227     0  \n",
       "02            0         0        0        0  1.95909     0  \n",
       "03            0         0        0        0        0     0  \n",
       "05-09   4.08543  0.158955  1.21494        0        0     0  \n",
       "10-12   29.0127   89.4219  7.46886  1.95809  16.1913     0  \n",
       "\n",
       "[5 rows x 63 columns]"
      ]
     },
     "execution_count": 21,
     "metadata": {},
     "output_type": "execute_result"
    }
   ],
   "source": [
    "IO_new = pd.DataFrame(data=IO,columns=codes64,index=codes64)\n",
    "IO_new.head()"
   ]
  },
  {
   "cell_type": "code",
   "execution_count": 22,
   "metadata": {},
   "outputs": [],
   "source": [
    "IO_new.to_csv('../../data/interim/economical/IO_NACE64.csv', index=True)"
   ]
  },
  {
   "cell_type": "markdown",
   "metadata": {},
   "source": [
    "### Labor compensation $(l_{i,0})$"
   ]
  },
  {
   "cell_type": "code",
   "execution_count": 25,
   "metadata": {},
   "outputs": [],
   "source": [
    "n_0 = IO_df.values[-15,1:-10]\n",
    "n_0 = np.delete(n_0,44) "
   ]
  },
  {
   "cell_type": "markdown",
   "metadata": {},
   "source": [
    "### Sectoral output during business-as-usual $(x_{i,0}^{\\text{cap}})$"
   ]
  },
  {
   "cell_type": "code",
   "execution_count": 26,
   "metadata": {},
   "outputs": [
    {
     "name": "stdout",
     "output_type": "stream",
     "text": [
      "(63,)\n"
     ]
    }
   ],
   "source": [
    "x_0 = IO_df.values[1:-19,-1]\n",
    "x_0[43] = x_0[43] + x_0[44] # Confirm with Koen or Gert that this needs to be added togheter\n",
    "x_0 = np.delete(x_0,44) \n",
    "print(x_0.shape)"
   ]
  },
  {
   "cell_type": "markdown",
   "metadata": {},
   "source": [
    "### Houshold demand during business-as-usual $(c_{i,0}^d)$"
   ]
  },
  {
   "cell_type": "code",
   "execution_count": 27,
   "metadata": {},
   "outputs": [
    {
     "name": "stdout",
     "output_type": "stream",
     "text": [
      "(63,)\n"
     ]
    }
   ],
   "source": [
    "c_0 = IO_df.values[1:-19,-9]\n",
    "c_0[43] = c_0[43] + c_0[44] # Confirm with Koen or Gert that this needs to be added togheter\n",
    "c_0 = np.delete(c_0,44)\n",
    "print(c_0.shape)"
   ]
  },
  {
   "cell_type": "markdown",
   "metadata": {},
   "source": [
    "### Other final demand $(f_{i,0}^d)$"
   ]
  },
  {
   "cell_type": "code",
   "execution_count": 28,
   "metadata": {},
   "outputs": [
    {
     "name": "stdout",
     "output_type": "stream",
     "text": [
      "(63,)\n"
     ]
    }
   ],
   "source": [
    "f_0 = np.sum(IO_df.values[1:-19,-8:-1],axis=1)\n",
    "# \"Changes in inventories and acquisition less disposals of valuables\" can be negative\n",
    "# Do I just sum the columns?\n",
    "f_0[43] = f_0[43] + f_0[44] # Confirm with Koen or Gert that this needs to be added togheter\n",
    "f_0 = np.delete(f_0,44)\n",
    "print(f_0.shape)"
   ]
  },
  {
   "cell_type": "markdown",
   "metadata": {},
   "source": [
    "### Desired stock $(n_j)$ --> table 8"
   ]
  },
  {
   "cell_type": "code",
   "execution_count": 29,
   "metadata": {},
   "outputs": [],
   "source": [
    "nj_df = pd.read_csv(\"../../data/raw/economical/table_ratio_inv_go.csv\", index_col=[0], header=[0])"
   ]
  },
  {
   "cell_type": "code",
   "execution_count": 30,
   "metadata": {},
   "outputs": [
    {
     "name": "stdout",
     "output_type": "stream",
     "text": [
      "(55,)\n"
     ]
    }
   ],
   "source": [
    "nj55 = nj_df['ratio_all_inv_go_monthly'].values[:-1]*30\n",
    "print(nj55.shape)"
   ]
  },
  {
   "cell_type": "code",
   "execution_count": 31,
   "metadata": {},
   "outputs": [
    {
     "name": "stdout",
     "output_type": "stream",
     "text": [
      "(63,)\n"
     ]
    }
   ],
   "source": [
    "# Convert to NACE64\n",
    "nj64 = np.zeros(63)\n",
    "for i in range(nj55.size):\n",
    "    nj64[WIOD55toNACE64_mat[i,:] == 1] = nj55[i]\n",
    "print(nj64.shape)"
   ]
  },
  {
   "cell_type": "markdown",
   "metadata": {},
   "source": [
    "### Consumer demand shock $(\\epsilon^D)$"
   ]
  },
  {
   "cell_type": "code",
   "execution_count": 32,
   "metadata": {},
   "outputs": [
    {
     "name": "stdout",
     "output_type": "stream",
     "text": [
      "(55,)\n"
     ]
    }
   ],
   "source": [
    "ed_df = pd.read_csv(\"../../data/raw/economical/WIOD_shockdata.csv\", index_col=[0], header=[0])\n",
    "ed_df.head()\n",
    "ed55 = ed_df['demand.shock.household'].values\n",
    "print(ed55.shape)"
   ]
  },
  {
   "cell_type": "code",
   "execution_count": 33,
   "metadata": {},
   "outputs": [
    {
     "name": "stdout",
     "output_type": "stream",
     "text": [
      "(63,)\n"
     ]
    }
   ],
   "source": [
    "# Convert to NACE64\n",
    "ed64 = np.zeros(63)\n",
    "for i in range(nj55.size):\n",
    "    ed64[WIOD55toNACE64_mat[i,:] == 1] = ed55[i]\n",
    "print(ed64.shape)"
   ]
  },
  {
   "cell_type": "markdown",
   "metadata": {},
   "source": [
    "### Other demand shock $(f^D)$"
   ]
  },
  {
   "cell_type": "code",
   "execution_count": 34,
   "metadata": {},
   "outputs": [
    {
     "name": "stdout",
     "output_type": "stream",
     "text": [
      "(55,)\n"
     ]
    }
   ],
   "source": [
    "fd55=np.array([-20,-23,-32,-33,-32,-27,-16,-30,-18,-33,-32,-31,-28,-27,-33,-18,-28,-30,-30,-29,-31,-25,-17,-20,-11,-16,-6,-23,-30,-28,-28,-32,-32,-26,-30,-32,-24,-15,-22,-13,-32,-31,-33,-8,-25,-19,-11,-30,-30,-29,-1,-2,1,-10,-32])\n",
    "print(fd55.shape)"
   ]
  },
  {
   "cell_type": "code",
   "execution_count": 35,
   "metadata": {},
   "outputs": [
    {
     "name": "stdout",
     "output_type": "stream",
     "text": [
      "(63,)\n"
     ]
    }
   ],
   "source": [
    "# Convert to NACE64\n",
    "fd64 = np.zeros(63)\n",
    "for i in range(fd55.size):\n",
    "    fd64[WIOD55toNACE64_mat[i,:] == 1] = fd55[i]\n",
    "print(fd64.shape)"
   ]
  },
  {
   "cell_type": "markdown",
   "metadata": {},
   "source": [
    "### On-site consumption"
   ]
  },
  {
   "cell_type": "code",
   "execution_count": 36,
   "metadata": {},
   "outputs": [
    {
     "name": "stdout",
     "output_type": "stream",
     "text": [
      "[0. 0. 0. 0. 0. 0. 0. 0. 0. 0. 0. 0. 0. 0. 0. 0. 0. 0. 0. 0. 0. 0. 0. 0.\n",
      " 0. 0. 0. 1. 0. 1. 1. 1. 1. 1. 1. 1. 0. 0. 0. 0. 0. 0. 0. 1. 1. 0. 0. 0.\n",
      " 0. 0. 1. 1. 0. 1. 1.]\n",
      "[0. 0. 0. 0. 0. 0. 0. 0. 0. 0. 0. 0. 0. 0. 0. 0. 0. 0. 0. 0. 0. 0. 0. 0.\n",
      " 0. 0. 0. 1. 0. 1. 1. 1. 1. 1. 1. 1. 0. 0. 0. 0. 0. 0. 0. 1. 1. 0. 0. 0.\n",
      " 0. 0. 0. 0. 0. 1. 1. 0. 0. 1. 1. 1. 1. 1. 1.]\n"
     ]
    }
   ],
   "source": [
    "IHS_df.index.values[:]\n",
    "names = ['G45','G47','H49','H50','H51','H52','H53','I','L68','M69_M70','O84','P85','R_S','T']\n",
    "on_site55 = np.zeros(55)\n",
    "for name in names:\n",
    "    on_site55[np.where(IHS_df.index.values[:]==name)] = 1\n",
    "print(on_site55)\n",
    "\n",
    "on_site64 = np.zeros([63])\n",
    "for i in range(on_site55.size):\n",
    "    on_site64[WIOD55toNACE64_mat[i,:] == 1] = on_site55[i]\n",
    "\n",
    "print(on_site64)"
   ]
  },
  {
   "cell_type": "markdown",
   "metadata": {},
   "source": [
    "### Sectoral employees during business-as-usual $(n_{i,0})$"
   ]
  },
  {
   "cell_type": "code",
   "execution_count": 37,
   "metadata": {},
   "outputs": [],
   "source": [
    "sectoral64_df = pd.read_excel(\"../../data/raw/economical/Employees_NACE64.xlsx\",sheet_name = 'Binnenlands concept - A64', index_col=[0], header=[0])"
   ]
  },
  {
   "cell_type": "code",
   "execution_count": 38,
   "metadata": {},
   "outputs": [
    {
     "name": "stdout",
     "output_type": "stream",
     "text": [
      "(63,)\n"
     ]
    }
   ],
   "source": [
    "l0_64 = sectoral64_df.values[7:-1,-1]\n",
    "print(l0_64.shape)"
   ]
  },
  {
   "cell_type": "markdown",
   "metadata": {},
   "source": [
    "### Sectoral employees during lockdown $(n_{i,\\text{lockdown}})$\n",
    "\n",
    "Survey 25-04-2020\n",
    "\n",
    "#### NACE 38"
   ]
  },
  {
   "cell_type": "code",
   "execution_count": 39,
   "metadata": {},
   "outputs": [],
   "source": [
    "sectoral38_lockdown_df = pd.read_excel(\"../../data/raw/economical/Employees_25-04-2020_NACE38.xlsx\",sheet_name = 'Formated data', index_col=[0], header=[0])"
   ]
  },
  {
   "cell_type": "code",
   "execution_count": 40,
   "metadata": {},
   "outputs": [],
   "source": [
    "l_lockdown38 = (sectoral38_lockdown_df['telework'] + sectoral38_lockdown_df['mix telework-workplace'] + sectoral38_lockdown_df['at workplace']).values[1:]"
   ]
  },
  {
   "cell_type": "markdown",
   "metadata": {},
   "source": [
    "#### NACE 64"
   ]
  },
  {
   "cell_type": "code",
   "execution_count": 41,
   "metadata": {},
   "outputs": [],
   "source": [
    "# Telework\n",
    "telework38 = sectoral38_lockdown_df['telework'].values[1:]\n",
    "telework64 = np.zeros(63)\n",
    "for i in range(l_lockdown38.size):\n",
    "    telework64[NACE_64to38_mat[i,:] == 1] = telework38[i]\n",
    "\n",
    "# Mix\n",
    "mix38 = sectoral38_lockdown_df['mix telework-workplace'].values[1:]\n",
    "mix64 = np.zeros(63)\n",
    "for i in range(l_lockdown38.size):\n",
    "    mix64[NACE_64to38_mat[i,:] == 1] = mix38[i]\n",
    "\n",
    "# Workplace\n",
    "workplace38 = sectoral38_lockdown_df['at workplace'].values[1:]\n",
    "workplace64 = np.zeros(63)\n",
    "for i in range(l_lockdown38.size):\n",
    "    workplace64[NACE_64to38_mat[i,:] == 1] = workplace38[i]\n",
    "\n",
    "# Absent\n",
    "absent38 = sectoral38_lockdown_df['absent'].values[1:]\n",
    "absent64 = np.zeros(63)\n",
    "for i in range(l_lockdown38.size):\n",
    "    absent64[NACE_64to38_mat[i,:] == 1] = absent38[i]"
   ]
  },
  {
   "cell_type": "markdown",
   "metadata": {},
   "source": [
    "#### Group into dataframe"
   ]
  },
  {
   "cell_type": "code",
   "execution_count": 43,
   "metadata": {},
   "outputs": [],
   "source": [
    "tuples = [('Business-as-usual', 'Sectoral output (M€/y)'),\n",
    "            ('Business-as-usual', 'Household demand (M€/y)'),\n",
    "            ('Business-as-usual', 'Other demand (M€/y)'),\n",
    "            ('Business-as-usual', 'Desired stock (days)'),\n",
    "            ('Business-as-usual', 'Employees (x1000)'),\n",
    "            ('Business-as-usual', 'Labor compensation (M€/y)'),\n",
    "            ('Business-as-usual','On-site consumption (-)'),\n",
    "            ('Lockdown', 'Consumer demand shock (%)'),\n",
    "            ('Lockdown', 'Other demand shock (%)'),\n",
    "            ('Lockdown', 'Telework (%)'),\n",
    "            ('Lockdown', 'Mix (%)'),\n",
    "            ('Lockdown', 'Workplace (%)'),\n",
    "            ('Lockdown', 'Absent (%)'),]\n",
    "\n",
    "colnames = pd.MultiIndex.from_tuples(tuples, names=['',''])"
   ]
  },
  {
   "cell_type": "code",
   "execution_count": 45,
   "metadata": {},
   "outputs": [
    {
     "data": {
      "text/html": [
       "<div>\n",
       "<style scoped>\n",
       "    .dataframe tbody tr th:only-of-type {\n",
       "        vertical-align: middle;\n",
       "    }\n",
       "\n",
       "    .dataframe tbody tr th {\n",
       "        vertical-align: top;\n",
       "    }\n",
       "\n",
       "    .dataframe thead tr th {\n",
       "        text-align: left;\n",
       "    }\n",
       "</style>\n",
       "<table border=\"1\" class=\"dataframe\">\n",
       "  <thead>\n",
       "    <tr>\n",
       "      <th></th>\n",
       "      <th colspan=\"7\" halign=\"left\">Business-as-usual</th>\n",
       "      <th colspan=\"6\" halign=\"left\">Lockdown</th>\n",
       "    </tr>\n",
       "    <tr>\n",
       "      <th></th>\n",
       "      <th>Sectoral output (M€/y)</th>\n",
       "      <th>Household demand (M€/y)</th>\n",
       "      <th>Other demand (M€/y)</th>\n",
       "      <th>Desired stock (days)</th>\n",
       "      <th>Employees (x1000)</th>\n",
       "      <th>Labor compensation (M€/y)</th>\n",
       "      <th>On-site consumption (-)</th>\n",
       "      <th>Consumer demand shock (%)</th>\n",
       "      <th>Other demand shock (%)</th>\n",
       "      <th>Telework (%)</th>\n",
       "      <th>Mix (%)</th>\n",
       "      <th>Workplace (%)</th>\n",
       "      <th>Absent (%)</th>\n",
       "    </tr>\n",
       "  </thead>\n",
       "  <tbody>\n",
       "    <tr>\n",
       "      <th>01</th>\n",
       "      <td>16871.857620</td>\n",
       "      <td>2489.480808</td>\n",
       "      <td>3363.158014</td>\n",
       "      <td>128.879069</td>\n",
       "      <td>56.0</td>\n",
       "      <td>491.237614</td>\n",
       "      <td>0.0</td>\n",
       "      <td>-10.0</td>\n",
       "      <td>-20.0</td>\n",
       "      <td>0.448430</td>\n",
       "      <td>1.255605</td>\n",
       "      <td>95.964126</td>\n",
       "      <td>2.331839</td>\n",
       "    </tr>\n",
       "    <tr>\n",
       "      <th>02</th>\n",
       "      <td>647.800878</td>\n",
       "      <td>93.072674</td>\n",
       "      <td>163.445080</td>\n",
       "      <td>128.879069</td>\n",
       "      <td>2.3</td>\n",
       "      <td>22.510493</td>\n",
       "      <td>0.0</td>\n",
       "      <td>-10.0</td>\n",
       "      <td>-23.0</td>\n",
       "      <td>0.448430</td>\n",
       "      <td>1.255605</td>\n",
       "      <td>95.964126</td>\n",
       "      <td>2.331839</td>\n",
       "    </tr>\n",
       "    <tr>\n",
       "      <th>03</th>\n",
       "      <td>429.100000</td>\n",
       "      <td>205.663831</td>\n",
       "      <td>76.947850</td>\n",
       "      <td>128.879069</td>\n",
       "      <td>0.4</td>\n",
       "      <td>27.503006</td>\n",
       "      <td>0.0</td>\n",
       "      <td>-10.0</td>\n",
       "      <td>-32.0</td>\n",
       "      <td>0.448430</td>\n",
       "      <td>1.255605</td>\n",
       "      <td>95.964126</td>\n",
       "      <td>2.331839</td>\n",
       "    </tr>\n",
       "    <tr>\n",
       "      <th>05-09</th>\n",
       "      <td>24251.454892</td>\n",
       "      <td>24.908402</td>\n",
       "      <td>9447.361630</td>\n",
       "      <td>16.045759</td>\n",
       "      <td>2.5</td>\n",
       "      <td>265.614096</td>\n",
       "      <td>0.0</td>\n",
       "      <td>-10.0</td>\n",
       "      <td>-33.0</td>\n",
       "      <td>28.559993</td>\n",
       "      <td>4.389402</td>\n",
       "      <td>29.913807</td>\n",
       "      <td>4.765007</td>\n",
       "    </tr>\n",
       "    <tr>\n",
       "      <th>10-12</th>\n",
       "      <td>56386.414811</td>\n",
       "      <td>14791.984811</td>\n",
       "      <td>23096.125921</td>\n",
       "      <td>35.503271</td>\n",
       "      <td>98.6</td>\n",
       "      <td>4323.527159</td>\n",
       "      <td>0.0</td>\n",
       "      <td>-10.0</td>\n",
       "      <td>-32.0</td>\n",
       "      <td>19.253406</td>\n",
       "      <td>8.415096</td>\n",
       "      <td>54.645352</td>\n",
       "      <td>7.429082</td>\n",
       "    </tr>\n",
       "  </tbody>\n",
       "</table>\n",
       "</div>"
      ],
      "text/plain": [
       "           Business-as-usual                                              \\\n",
       "      Sectoral output (M€/y) Household demand (M€/y) Other demand (M€/y)   \n",
       "01              16871.857620             2489.480808         3363.158014   \n",
       "02                647.800878               93.072674          163.445080   \n",
       "03                429.100000              205.663831           76.947850   \n",
       "05-09           24251.454892               24.908402         9447.361630   \n",
       "10-12           56386.414811            14791.984811        23096.125921   \n",
       "\n",
       "                                                                        \\\n",
       "      Desired stock (days) Employees (x1000) Labor compensation (M€/y)   \n",
       "01              128.879069              56.0                491.237614   \n",
       "02              128.879069               2.3                 22.510493   \n",
       "03              128.879069               0.4                 27.503006   \n",
       "05-09            16.045759               2.5                265.614096   \n",
       "10-12            35.503271              98.6               4323.527159   \n",
       "\n",
       "                                               Lockdown  \\\n",
       "      On-site consumption (-) Consumer demand shock (%)   \n",
       "01                        0.0                     -10.0   \n",
       "02                        0.0                     -10.0   \n",
       "03                        0.0                     -10.0   \n",
       "05-09                     0.0                     -10.0   \n",
       "10-12                     0.0                     -10.0   \n",
       "\n",
       "                                                                              \n",
       "      Other demand shock (%) Telework (%)   Mix (%) Workplace (%) Absent (%)  \n",
       "01                     -20.0     0.448430  1.255605     95.964126   2.331839  \n",
       "02                     -23.0     0.448430  1.255605     95.964126   2.331839  \n",
       "03                     -32.0     0.448430  1.255605     95.964126   2.331839  \n",
       "05-09                  -33.0    28.559993  4.389402     29.913807   4.765007  \n",
       "10-12                  -32.0    19.253406  8.415096     54.645352   7.429082  "
      ]
     },
     "execution_count": 45,
     "metadata": {},
     "output_type": "execute_result"
    }
   ],
   "source": [
    "data = {\n",
    "    ('Business-as-usual','Sectoral output (M€/y)'): list(x_0),\n",
    "    ('Business-as-usual','Household demand (M€/y)'): list(c_0),\n",
    "    ('Business-as-usual','Other demand (M€/y)'): list(f_0),\n",
    "    ('Business-as-usual','Desired stock (days)'): list(nj64),\n",
    "    ('Business-as-usual','Employees (x1000)'): list(l0_64),\n",
    "    ('Business-as-usual', 'Labor compensation (M€/y)'): list(n_0),\n",
    "    ('Business-as-usual','On-site consumption (-)') : list(on_site64),\n",
    "    ('Lockdown', 'Consumer demand shock (%)'): list(ed64*100),\n",
    "    ('Lockdown', 'Other demand shock (%)'): list(fd64),\n",
    "    ('Lockdown', 'Telework (%)'): list(telework64),\n",
    "    ('Lockdown', 'Mix (%)'): list(mix64),\n",
    "    ('Lockdown', 'Workplace (%)'): list(workplace64),\n",
    "    ('Lockdown', 'Absent (%)'): list(absent64),\n",
    "}\n",
    "df = pd.DataFrame(data=data,columns=colnames,index=codes64)\n",
    "df.head()"
   ]
  },
  {
   "cell_type": "markdown",
   "metadata": {},
   "source": [
    "#### Write dataframe to xlsx"
   ]
  },
  {
   "cell_type": "code",
   "execution_count": 46,
   "metadata": {},
   "outputs": [],
   "source": [
    "df.to_csv('../../data/interim/economical/others.csv', index=True)"
   ]
  },
  {
   "cell_type": "markdown",
   "metadata": {},
   "source": [
    "### Critical inputs\n",
    "\n",
    "WIOD 55\n",
    "\n",
    "https://zenodo.figshare.com/articles/software/Production_networks_and_epidemic_spreading_How_to_restart_the_UK_economy_/12345527/1"
   ]
  },
  {
   "cell_type": "markdown",
   "metadata": {},
   "source": [
    "#### Matrix is not square by default and contains NaN"
   ]
  },
  {
   "cell_type": "code",
   "execution_count": null,
   "metadata": {},
   "outputs": [],
   "source": [
    "IHS_mat = IHS_df.values\n",
    "new_last_column= np.expand_dims(np.append(IHS_mat[-1,:],1),axis=1)\n",
    "IHS_mat = np.append(IHS_mat,new_last_column,axis=1)"
   ]
  },
  {
   "cell_type": "code",
   "execution_count": null,
   "metadata": {},
   "outputs": [],
   "source": [
    "abs_dir = os.getcwd()\n",
    "rel_dir = os.path.join(abs_dir, '../../data/raw/economical/IHS_Markit_results_compact.csv')\n",
    "IHS_df = pd.read_csv(rel_dir,header=[0],index_col=[0])\n",
    "IHS_df.fillna(0)\n",
    "IHS_df.head()"
   ]
  },
  {
   "cell_type": "code",
   "execution_count": null,
   "metadata": {},
   "outputs": [],
   "source": [
    "IHS_df['T']=new_last_column\n",
    "IHS_df.head()"
   ]
  },
  {
   "cell_type": "markdown",
   "metadata": {},
   "source": [
    "#### Convert to NACE 64\n",
    "\n",
    "Assumptions"
   ]
  },
  {
   "cell_type": "code",
   "execution_count": null,
   "metadata": {},
   "outputs": [],
   "source": [
    "NACE64toWIOD55_mat = WIOD55toNACE64_mat"
   ]
  },
  {
   "cell_type": "code",
   "execution_count": null,
   "metadata": {},
   "outputs": [],
   "source": [
    "IHS_mat = IHS_df.fillna(0).values\n",
    "# Convert to all entries  before sector N using the conversion matrix\n",
    "new64_mat = np.zeros([63,63])\n",
    "for j in range(49): # row 49 is sector N\n",
    "    new64 = np.zeros(63)\n",
    "    orig55 = IHS_mat[j,:]\n",
    "    for i in range(orig55.size):\n",
    "        new64[NACE64toWIOD55_mat[i,:] == 1] = orig55[i]\n",
    "    new64_mat[j,:]=new64\n",
    "    \n",
    "# Now we're at row N\n",
    "# First convert row N using the matrix\n",
    "new64 = np.zeros(63)\n",
    "orig55 = IHS_mat[49,:]\n",
    "for i in range(orig55.size):\n",
    "    new64[NACE64toWIOD55_mat[i,:] == 1] = orig55[i]\n",
    "    new64_mat[49:53,:]=new64\n",
    "# Then modify the diagonal (i.e. no dependency of sector 77 to sector 78 etc.)\n",
    "new64_mat[49,50:53]=0\n",
    "new64_mat[50,49]=0\n",
    "new64_mat[50,51:53]=0\n",
    "new64_mat[51,49:51]=0\n",
    "new64_mat[51,52:53]=0\n",
    "new64_mat[52,49:52]=0\n",
    "\n",
    "# Then go on from index 50 to 51 (sectors 84 and 85)\n",
    "for j in range(50,52): # 49 or 63\n",
    "    new64 = np.zeros(63)\n",
    "    orig55 = IHS_mat[j,:]\n",
    "    for i in range(orig55.size):\n",
    "        new64[NACE64toWIOD55_mat[i,:] == 1] = orig55[i]\n",
    "    new64_mat[j+3,:]=new64\n",
    "    \n",
    "print(orig55)\n",
    "print(new64)\n",
    "\n",
    "# Now we're at sectors Q (index 52)\n",
    "# First convert row Q using the conversion matrix\n",
    "new64 = np.zeros(63)\n",
    "orig55 = IHS_mat[52,:]\n",
    "for i in range(orig55.size):\n",
    "    new64[NACE64toWIOD55_mat[i,:] == 1] = orig55[i]\n",
    "    new64_mat[55:57,:]=new64\n",
    "# Then modify the diagonal (i.e. no dependency of sector 93 to sector 94 etc.)\n",
    "new64_mat[55,56]=0\n",
    "new64_mat[56,55]=0\n",
    "\n",
    "# Now we're at sectors R_S (index 54)\n",
    "# First convert row R_S using the conversion matrix\n",
    "new64 = np.zeros(63)\n",
    "orig55 = IHS_mat[53,:]\n",
    "for i in range(orig55.size):\n",
    "    new64[NACE64toWIOD55_mat[i,:] == 1] = orig55[i]\n",
    "    new64_mat[57:62,:]=new64\n",
    "# Then modify the diagonal (i.e. no dependency of sector 93 to sector 94 etc.)\n",
    "new64_mat[57,58:62]=0\n",
    "new64_mat[58,57]=0\n",
    "new64_mat[58,59:62]=0\n",
    "new64_mat[59,57:59]=0\n",
    "new64_mat[59,60:62]=0\n",
    "new64_mat[60,57:60]=0\n",
    "new64_mat[60,61:62]=0\n",
    "new64_mat[61,57:61]=0\n",
    "\n",
    "# Convert and insert row T using the conversion matrix\n",
    "new64 = np.zeros(63)\n",
    "orig55 = IHS_mat[54,:]\n",
    "for i in range(orig55.size):\n",
    "    new64[NACE64toWIOD55_mat[i,:] == 1] = orig55[i]\n",
    "    new64_mat[62,:]=new64\n",
    "print(new64_mat)"
   ]
  },
  {
   "cell_type": "code",
   "execution_count": null,
   "metadata": {},
   "outputs": [],
   "source": [
    "np.diag(new64_mat)"
   ]
  },
  {
   "cell_type": "code",
   "execution_count": null,
   "metadata": {},
   "outputs": [],
   "source": [
    "plt.imshow(new64_mat)"
   ]
  },
  {
   "cell_type": "code",
   "execution_count": null,
   "metadata": {},
   "outputs": [],
   "source": [
    "plt.imshow(IHS_mat)"
   ]
  },
  {
   "cell_type": "code",
   "execution_count": null,
   "metadata": {},
   "outputs": [],
   "source": [
    "columns = codes64\n",
    "index = codes64\n",
    "IHS_critical = pd.DataFrame(data = new64_mat, index=index, columns=columns)\n",
    "IHS_critical.head()"
   ]
  },
  {
   "cell_type": "code",
   "execution_count": null,
   "metadata": {},
   "outputs": [],
   "source": [
    "IHS_critical.to_csv('../../data/interim/economical/IHS_critical_NACE64.csv', index=True)"
   ]
  },
  {
   "cell_type": "markdown",
   "metadata": {},
   "source": [
    "### Census 2011: Employees in every sector per arrondissement\n",
    "\n",
    "NACE 21 classification"
   ]
  },
  {
   "cell_type": "code",
   "execution_count": null,
   "metadata": {},
   "outputs": [],
   "source": [
    "abs_dir = os.getcwd()\n",
    "rel_dir = os.path.join(abs_dir, '../../data/raw/census_2011/census_arbeidsmarkt_nl_24oct14.xlsx')\n",
    "df = pd.read_excel(rel_dir, sheet_name=\"Tabel3_2011\")"
   ]
  },
  {
   "cell_type": "code",
   "execution_count": null,
   "metadata": {},
   "outputs": [],
   "source": [
    "codes=df['00.55 - Werkende bevolking van belgische en vreemde nationaliteit naar geslacht en economische sector'].loc[5:1943].dropna().values\n",
    "codes_int = [int(i) for i in codes]\n",
    "\n",
    "names = df.iloc[5:,1].dropna().values\n",
    "rows=[]\n",
    "for i in df['00.55 - Werkende bevolking van belgische en vreemde nationaliteit naar geslacht en economische sector'].loc[5:1943].dropna().index:\n",
    "    intra_row = np.array([])\n",
    "    intra_row = np.append(intra_row,df.iloc[i+2,3]) # A\n",
    "    intra_row = np.append(intra_row,df.iloc[i+2,5:10]) # B, C, D, F\n",
    "    intra_row = np.append(intra_row,df.iloc[i+2,11:17]) # G, H, I, J, K , L\n",
    "    intra_row = np.append(intra_row,df.iloc[i+2,18:20]) # M, N\n",
    "    intra_row = np.append(intra_row,df.iloc[i+2,21:24]) # O, P, Q\n",
    "    intra_row = np.append(intra_row,df.iloc[i+2,25:29]) # R, S, T, U\n",
    "    rows.append(intra_row)\n",
    "matrix = np.zeros([len(rows),21])\n",
    "for j in range(len(rows)):\n",
    "    matrix[j,:]=rows[j]\n",
    "    \n",
    "economic_df=pd.DataFrame(matrix,index=codes_int,columns=['A','B','C','D','E','F','G','H','I','J','K','L','M','N','O','P','Q','R','S','T','U'])\n",
    "economic_df.index.name = 'NIS'\n",
    "economic_df.head()"
   ]
  },
  {
   "cell_type": "code",
   "execution_count": null,
   "metadata": {},
   "outputs": [],
   "source": [
    "idx_arrondisement=[]\n",
    "for idx in economic_df.index:\n",
    "    if ((str(idx)[-3:] == '000') & (len(str(idx)) != 4) & (str(idx)[-4:] != '0000') & (str(idx)[0] != '0')):\n",
    "        idx_arrondisement.append(idx)\n",
    "print(idx_arrondisement)"
   ]
  },
  {
   "cell_type": "code",
   "execution_count": null,
   "metadata": {},
   "outputs": [],
   "source": [
    "economic_df.loc[idx_arrondisement,:]"
   ]
  },
  {
   "cell_type": "code",
   "execution_count": null,
   "metadata": {},
   "outputs": [],
   "source": [
    "economic_df.loc[idx_arrondisement,:].to_csv('../../data/interim/economical/census2011_NACE21.csv', index=True)"
   ]
  },
  {
   "cell_type": "markdown",
   "metadata": {},
   "source": [
    "### Test function to load economic data and conversion matrices"
   ]
  },
  {
   "cell_type": "code",
   "execution_count": null,
   "metadata": {},
   "outputs": [],
   "source": [
    "from covid19model.data.economic_parameters import get_economic_parameters, get_conversion_matrix"
   ]
  },
  {
   "cell_type": "code",
   "execution_count": null,
   "metadata": {},
   "outputs": [],
   "source": [
    "pars = get_economic_parameters()"
   ]
  },
  {
   "cell_type": "code",
   "execution_count": null,
   "metadata": {},
   "outputs": [],
   "source": [
    "mat = get_conversion_matrix('WIOD55_NACE6')"
   ]
  }
 ],
 "metadata": {
  "kernelspec": {
   "display_name": "Python 3",
   "language": "python",
   "name": "python3"
  },
  "language_info": {
   "codemirror_mode": {
    "name": "ipython",
    "version": 3
   },
   "file_extension": ".py",
   "mimetype": "text/x-python",
   "name": "python",
   "nbconvert_exporter": "python",
   "pygments_lexer": "ipython3",
   "version": "3.8.2"
  }
 },
 "nbformat": 4,
 "nbformat_minor": 4
}
