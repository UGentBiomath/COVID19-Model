{
 "cells": [
  {
   "cell_type": "code",
   "execution_count": 31,
   "metadata": {},
   "outputs": [],
   "source": [
    "import numpy as np\n",
    "import pandas as pd\n",
    "import matplotlib.pyplot as plt"
   ]
  },
  {
   "cell_type": "code",
   "execution_count": 2,
   "metadata": {},
   "outputs": [],
   "source": [
    "import os\n",
    "abs_dir = os.getcwd()\n",
    "rel_dir = os.path.join(abs_dir, '../../data/raw/hospital/AZmariaMiddelares.xlsx')\n",
    "df = pd.read_excel(rel_dir, sheet_name=\"Sheet1\")"
   ]
  },
  {
   "cell_type": "markdown",
   "metadata": {},
   "source": [
    "### Reformat dataset and write to excel"
   ]
  },
  {
   "cell_type": "code",
   "execution_count": 123,
   "metadata": {},
   "outputs": [],
   "source": [
    "patients_dict={}\n",
    "id_group=df.groupby(['Opnamenummer'])\n",
    "for g_idx, group in id_group:\n",
    "    # filter out 'ZZ-Niet ingevuld' in column 'Bestemming'\n",
    "    if group['Bestemming na ontslag'].values[0] != 'ZZ-Niet ingevuld':\n",
    "        # add patient ID\n",
    "        patients_dict.update({g_idx: {}})\n",
    "        # add patient age\n",
    "        patients_dict[g_idx].update({'Age':group['Leeftijd'].values[0]})\n",
    "        # add patient sex\n",
    "        if group['Geslacht'].values[0] == 'Man':\n",
    "            patients_dict[g_idx].update({'Sex': 'M'})\n",
    "        else:\n",
    "            patients_dict[g_idx].update({'Sex': 'F'})\n",
    "        # add patient recovered or dead\n",
    "        if group['Bestemming na ontslag'].values[0] != 'Overleden':\n",
    "            patients_dict[g_idx].update({'Status': 'R'})\n",
    "        else:\n",
    "            patients_dict[g_idx].update({'Status': 'D'})\n",
    "        # add patients wards as list, neglect emergency room and buffer\n",
    "        wards=[]\n",
    "        lengths=[]\n",
    "        for r_idx, row in group.iterrows(): \n",
    "            if (group['Afdeling'][r_idx] != 'Spoed' and group['Afdeling'][r_idx] != 'Bufferafdeling'):\n",
    "                wards.append(group['Afdeling'][r_idx])\n",
    "                lengths.append(group['Ligduur'][r_idx])\n",
    "        patients_dict[g_idx].update({'Wards': wards[::-1]})\n",
    "        patients_dict[g_idx].update({'Lengths': lengths[::-1]})"
   ]
  },
  {
   "cell_type": "code",
   "execution_count": 217,
   "metadata": {},
   "outputs": [],
   "source": [
    "age_R=[]\n",
    "sex_R=[]\n",
    "dICU_R=[]\n",
    "dICUrec_R=[]\n",
    "\n",
    "age_D=[]\n",
    "sex_D=[]\n",
    "dICU_D=[]\n",
    "dICUrec_D=[]\n",
    "\n",
    "age_C_R=[]\n",
    "sex_C_R=[]\n",
    "dC_R=[]\n",
    "\n",
    "age_C_D=[]\n",
    "sex_C_D=[]\n",
    "dC_D=[]\n",
    "\n",
    "age_ER=[]\n",
    "sex_ER=[]\n",
    "ER_status=[]\n",
    "\n",
    "age_merged=[]\n",
    "sex_merged=[]\n",
    "icu_merged=[]\n",
    "\n",
    "for ID in patients_dict:\n",
    "    # if any entry in wards is ICU,\n",
    "    if any(patients_dict[ID]['Wards'][idx] == 'IZ' for idx,ward in enumerate(patients_dict[ID]['Wards'])):\n",
    "        age_merged.append(patients_dict[ID]['Age'])\n",
    "        sex_merged.append(patients_dict[ID]['Sex'])\n",
    "        icu_merged.append(1)\n",
    "        # loop over wards and indices\n",
    "        for idx,ward in enumerate(patients_dict[ID]['Wards']):\n",
    "            # get index of ICU in wards\n",
    "            if ward == 'IZ':\n",
    "                # if recovered\n",
    "                if patients_dict[ID]['Status'] == 'R':\n",
    "                    # check if patient had a recovery stay in cohort or not and extract total length\n",
    "                    if len(patients_dict[ID]['Wards'])-1 > idx:\n",
    "                        dICUrec = sum(patients_dict[ID]['Lengths'][idx+1:])\n",
    "                    else:\n",
    "                        dICUrec=0\n",
    "                    # add patient data to lists\n",
    "                    age_R.append(patients_dict[ID]['Age'])\n",
    "                    sex_R.append(patients_dict[ID]['Sex'])\n",
    "                    dICU_R.append(patients_dict[ID]['Lengths'][idx])\n",
    "                    dICUrec_R.append(dICUrec)\n",
    "                # if dead\n",
    "                else:\n",
    "                    # check if patient had a recovery stay in cohort or not and extract total length\n",
    "                    if len(patients_dict[ID]['Wards'])-1 > idx:\n",
    "                         dICUrec = sum(patients_dict[ID]['Lengths'][idx+1:])\n",
    "                    else:\n",
    "                        dICUrec=0\n",
    "                    # add patient data to lists\n",
    "                    age_D.append(patients_dict[ID]['Age'])\n",
    "                    sex_D.append(patients_dict[ID]['Sex'])\n",
    "                    dICU_D.append(patients_dict[ID]['Lengths'][idx])\n",
    "                    dICUrec_D.append(dICUrec)\n",
    "    # if the patient didn't stay in ICU but did stay in Cohort\n",
    "    elif any( (patients_dict[ID]['Wards'][idx] == 'Cohort-afdeling D501') or (patients_dict[ID]['Wards'][idx] == 'Cohort-afdeling D601') for idx,ward in enumerate(patients_dict[ID]['Wards'])):\n",
    "        age_merged.append(patients_dict[ID]['Age'])\n",
    "        sex_merged.append(patients_dict[ID]['Sex'])\n",
    "        icu_merged.append(0)\n",
    "        if patients_dict[ID]['Status'] == 'R':\n",
    "            # sum length over all wards\n",
    "            dC_R.append(sum(patients_dict[ID]['Lengths']))\n",
    "            age_C_R.append(patients_dict[ID]['Age'])\n",
    "            sex_C_R.append(patients_dict[ID]['Sex'])\n",
    "        else:\n",
    "            dC_D.append(sum(patients_dict[ID]['Lengths']))\n",
    "            age_C_D.append(patients_dict[ID]['Age'])\n",
    "            sex_C_D.append(patients_dict[ID]['Sex'])\n",
    "    else:\n",
    "        age_ER.append(patients_dict[ID]['Age'])\n",
    "        sex_ER.append(patients_dict[ID]['Sex'])\n",
    "        ER_status.append(patients_dict[ID]['Status'])\n",
    "\n",
    "        \n",
    "ICU_R_dict={\n",
    "    'age': age_R,\n",
    "    'sex': sex_R,\n",
    "    'dICU': dICU_R,\n",
    "    'dC_{ICU,rec}': dICUrec_R\n",
    "}\n",
    "\n",
    "ICU_D_dict={\n",
    "    'age': age_D,\n",
    "    'sex': sex_D,\n",
    "    'dICU': dICU_D,\n",
    "    'dC_{ICU,rec}': dICUrec_D\n",
    "}\n",
    "\n",
    "C_R_dict={\n",
    "    'age': age_C_R,\n",
    "    'sex': sex_C_R,\n",
    "    'dC': dC_R,\n",
    "}\n",
    "\n",
    "\n",
    "C_D_dict={\n",
    "    'age': age_C_D,\n",
    "    'sex': sex_C_D,\n",
    "    'dC': dC_D,\n",
    "}\n",
    "\n",
    "ER_dict={\n",
    "    'age': age_ER,\n",
    "    'sex': sex_ER,\n",
    "    'recovered': ER_status\n",
    "}\n",
    "\n",
    "merged_dict={\n",
    "    'age': age_merged,\n",
    "    'sex': sex_merged,\n",
    "    'icu': icu_merged\n",
    "}\n",
    "\n",
    "df_ICU_R = pd.DataFrame(ICU_R_dict)\n",
    "df_ICU_D = pd.DataFrame(ICU_D_dict)\n",
    "df_C_R = pd.DataFrame(C_R_dict)\n",
    "df_C_D = pd.DataFrame(C_D_dict)\n",
    "df_ER = pd.DataFrame(ER_dict)\n",
    "df_merged = pd.DataFrame(merged_dict)"
   ]
  },
  {
   "cell_type": "code",
   "execution_count": 207,
   "metadata": {},
   "outputs": [],
   "source": [
    "# Create a Pandas Excel writer using XlsxWriter as the engine.\n",
    "writer = pd.ExcelWriter('twallema_AZMM.xlsx')\n",
    "\n",
    "# Write each dataframe to a different worksheet.\n",
    "df_ICU_R.to_excel(writer, sheet_name='ICU (recovered)',index=False)\n",
    "df_ICU_D.to_excel(writer, sheet_name='ICU (dead)',index=False)\n",
    "df_C_R.to_excel(writer, sheet_name='Cohort (recovered)',index=False)\n",
    "df_C_D.to_excel(writer, sheet_name='Cohort (dead)',index=False)\n",
    "df_ER.to_excel(writer, sheet_name='Emergency room',index=False)\n",
    "# Close the Pandas Excel writer and output the Excel file.\n",
    "writer.save()"
   ]
  },
  {
   "cell_type": "code",
   "execution_count": 218,
   "metadata": {},
   "outputs": [
    {
     "name": "stdout",
     "output_type": "stream",
     "text": [
      "           count\n",
      "age             \n",
      "(0, 10]        0\n",
      "(10, 20]       1\n",
      "(20, 30]       0\n",
      "(30, 40]       2\n",
      "(40, 50]      14\n",
      "(50, 60]      14\n",
      "(60, 70]      26\n",
      "(70, 80]      47\n",
      "(80, 120]     72\n"
     ]
    }
   ],
   "source": [
    "df_merged.head()\n",
    "bins = pd.cut(df_merged['age'], [0, 10, 20, 30, 40, 50, 60, 70, 80,120])\n",
    "counts = df_merged.groupby(bins)['age'].agg(['count'])\n",
    "print(counts)"
   ]
  },
  {
   "cell_type": "code",
   "execution_count": 219,
   "metadata": {},
   "outputs": [
    {
     "name": "stdout",
     "output_type": "stream",
     "text": [
      "age\n",
      "(0, 10]       0\n",
      "(10, 20]      0\n",
      "(20, 30]      0\n",
      "(30, 40]      0\n",
      "(40, 50]      5\n",
      "(50, 60]      2\n",
      "(60, 70]     14\n",
      "(70, 80]     18\n",
      "(80, 120]     9\n",
      "Name: icu, dtype: int64\n"
     ]
    }
   ],
   "source": [
    "df_merged.head()\n",
    "bins = pd.cut(df_merged['age'], [0, 10, 20, 30, 40, 50, 60, 70, 80,120])\n",
    "icu = df_merged.groupby(bins)['icu'].sum()\n",
    "print(icu)"
   ]
  },
  {
   "cell_type": "code",
   "execution_count": 194,
   "metadata": {},
   "outputs": [
    {
     "name": "stdout",
     "output_type": "stream",
     "text": [
      "                 age       dICU\n",
      "age                            \n",
      "(0, 10]          NaN        NaN\n",
      "(10, 20]         NaN        NaN\n",
      "(20, 30]         NaN        NaN\n",
      "(30, 40]         NaN        NaN\n",
      "(40, 50]   46.666667  17.021526\n",
      "(50, 60]   57.000000   6.015276\n",
      "(60, 70]   66.181818   8.854292\n",
      "(70, 80]   74.750000   7.836023\n",
      "(80, 120]  82.000000  13.019084\n"
     ]
    },
    {
     "name": "stderr",
     "output_type": "stream",
     "text": [
      "<ipython-input-194-724a02e69f0d>:2: FutureWarning: Indexing with multiple keys (implicitly converted to a tuple of keys) will be deprecated, use a list instead.\n",
      "  counts = df_ICU_R.groupby(bins)['age','dICU'].mean()\n"
     ]
    }
   ],
   "source": [
    "bins = pd.cut(df_ICU_R['age'], [0, 10, 20, 30, 40, 50, 60, 70, 80,120])\n",
    "counts = df_ICU_R.groupby(bins)['age','dICU'].mean()\n",
    "print(counts)"
   ]
  }
 ],
 "metadata": {
  "kernelspec": {
   "display_name": "Python 3",
   "language": "python",
   "name": "python3"
  },
  "language_info": {
   "codemirror_mode": {
    "name": "ipython",
    "version": 3
   },
   "file_extension": ".py",
   "mimetype": "text/x-python",
   "name": "python",
   "nbconvert_exporter": "python",
   "pygments_lexer": "ipython3",
   "version": "3.8.2"
  }
 },
 "nbformat": 4,
 "nbformat_minor": 4
}
