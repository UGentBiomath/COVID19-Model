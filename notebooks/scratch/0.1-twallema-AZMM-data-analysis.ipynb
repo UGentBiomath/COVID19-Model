{
 "cells": [
  {
   "cell_type": "code",
   "execution_count": 87,
   "metadata": {},
   "outputs": [],
   "source": [
    "import pandas as pd\n",
    "import matplotlib.pyplot as plt"
   ]
  },
  {
   "cell_type": "code",
   "execution_count": 88,
   "metadata": {},
   "outputs": [],
   "source": [
    "import os\n",
    "abs_dir = os.getcwd()\n",
    "rel_dir = os.path.join(abs_dir, '../../data/raw/hospital/AZmariaMiddelares.xlsx')\n",
    "df = pd.read_excel(rel_dir, sheet_name=\"Sheet1\")"
   ]
  },
  {
   "cell_type": "markdown",
   "metadata": {},
   "source": [
    "### Sample size"
   ]
  },
  {
   "cell_type": "code",
   "execution_count": 89,
   "metadata": {},
   "outputs": [
    {
     "name": "stdout",
     "output_type": "stream",
     "text": [
      "           count\n",
      "Leeftijd        \n",
      "(0, 10]        0\n",
      "(10, 20]       4\n",
      "(20, 30]       4\n",
      "(30, 40]       8\n",
      "(40, 50]      44\n",
      "(50, 60]      44\n",
      "(60, 70]      77\n",
      "(70, 80]     145\n",
      "(80, 120]    213\n"
     ]
    }
   ],
   "source": [
    "bins = pd.cut(df['Leeftijd'], [0, 10, 20, 30, 40, 50, 60, 70, 80,120])\n",
    "counts = df.groupby(bins)['Leeftijd'].agg(['count'])\n",
    "print(counts)"
   ]
  },
  {
   "cell_type": "code",
   "execution_count": 66,
   "metadata": {},
   "outputs": [
    {
     "name": "stdout",
     "output_type": "stream",
     "text": [
      "9.940549793103447 29 21.007198736842106 19\n"
     ]
    }
   ],
   "source": [
    "ICU_alive = df.loc[(df['Bestemming na ontslag'] != 'Overleden') & ( df['Afdeling'] == 'IZ')]['Ligduur']\n",
    "ICU_dead = df.loc[(df['Bestemming na ontslag'] == 'Overleden') & ( df['Afdeling'] == 'IZ')]['Ligduur']\n",
    "print(ICU_alive.mean(),len(ICU_alive),ICU_dead.mean(),len(ICU_dead))"
   ]
  },
  {
   "cell_type": "code",
   "execution_count": 71,
   "metadata": {},
   "outputs": [
    {
     "data": {
      "text/plain": [
       "(array([3., 4., 2., 2., 3., 2., 0., 0., 1., 2.]),\n",
       " array([ 1.294444 ,  6.6977074, 12.1009708, 17.5042342, 22.9074976,\n",
       "        28.310761 , 33.7140244, 39.1172878, 44.5205512, 49.9238146,\n",
       "        55.327078 ]),\n",
       " <a list of 10 Patch objects>)"
      ]
     },
     "execution_count": 71,
     "metadata": {},
     "output_type": "execute_result"
    },
    {
     "data": {
      "image/png": "[encoded data removed]",
      "text/plain": [
       "<Figure size 432x288 with 1 Axes>"
      ]
     },
     "metadata": {
      "needs_background": "light"
     },
     "output_type": "display_data"
    }
   ],
   "source": [
    "plt.hist(ICU_alive,alpha=0.2,color='green')\n",
    "plt.hist(ICU_dead,alpha=0.2,color='red')"
   ]
  },
  {
   "cell_type": "code",
   "execution_count": 68,
   "metadata": {},
   "outputs": [
    {
     "name": "stdout",
     "output_type": "stream",
     "text": [
      "6.944776248062016 129 4.70486 43\n"
     ]
    }
   ],
   "source": [
    "Cohort_alive = df.loc[(df['Bestemming na ontslag'] != 'Overleden') & ( (df['Afdeling'] == 'Cohort-afdeling D501')|(df['Afdeling'] == 'Cohort-afdeling D601'))]['Ligduur']\n",
    "Cohort_dead = df.loc[(df['Bestemming na ontslag'] == 'Overleden') & ( (df['Afdeling'] == 'Cohort-afdeling D501')|(df['Afdeling'] == 'Cohort-afdeling D601'))]['Ligduur']\n",
    "print(Cohort_alive.mean(),len(Cohort_alive),Cohort_dead.mean(),len(Cohort_dead))"
   ]
  },
  {
   "cell_type": "code",
   "execution_count": 69,
   "metadata": {},
   "outputs": [
    {
     "data": {
      "text/plain": [
       "(array([14., 11.,  4.,  5.,  4.,  1.,  0.,  1.,  1.,  2.]),\n",
       " array([ 0.409721,  2.086457,  3.763193,  5.439929,  7.116665,  8.793401,\n",
       "        10.470137, 12.146873, 13.823609, 15.500345, 17.177081]),\n",
       " <a list of 10 Patch objects>)"
      ]
     },
     "execution_count": 69,
     "metadata": {},
     "output_type": "execute_result"
    },
    {
     "data": {
      "image/png": "[encoded data removed]",
      "text/plain": [
       "<Figure size 432x288 with 1 Axes>"
      ]
     },
     "metadata": {
      "needs_background": "light"
     },
     "output_type": "display_data"
    }
   ],
   "source": [
    "plt.hist(Cohort_alive,color='green')\n",
    "plt.hist(Cohort_dead,color='red')"
   ]
  },
  {
   "cell_type": "code",
   "execution_count": 154,
   "metadata": {},
   "outputs": [],
   "source": [
    "patients_dict={}"
   ]
  },
  {
   "cell_type": "code",
   "execution_count": 179,
   "metadata": {},
   "outputs": [],
   "source": [
    "id_group=df.groupby(['Opnamenummer'])\n",
    "for g_idx, group in id_group:\n",
    "    # add patient ID\n",
    "    patients_dict.update({g_idx: {}})\n",
    "    # add patient age\n",
    "    patients_dict[g_idx].update({'Age':group['Leeftijd'].values[0]})\n",
    "    # add patient sex\n",
    "    if group['Geslacht'].values[0] == 'Man':\n",
    "        patients_dict[g_idx].update({'Sex': 'M'})\n",
    "    else:\n",
    "        patients_dict[g_idx].update({'Sex': 'F'})\n",
    "    # add patient recovered or dead\n",
    "    if group['Bestemming na ontslag'].values[0] != 'Overleden':\n",
    "        patients_dict[g_idx].update({'Status': 'R'})\n",
    "    else:\n",
    "        patients_dict[g_idx].update({'Status': 'D'})\n",
    "    # add patients wards as list, neglect emergency room and buffer\n",
    "    wards=[]\n",
    "    lengths=[]\n",
    "    for r_idx, row in group.iterrows(): \n",
    "        if (group['Afdeling'][r_idx] != 'Spoed' and group['Afdeling'][r_idx] != 'Bufferafdeling'):\n",
    "            wards.append(group['Afdeling'][r_idx])\n",
    "            lengths.append(group['Ligduur'][r_idx])\n",
    "    patients_dict[g_idx].update({'Wards': wards[::-1]})\n",
    "    patients_dict[g_idx].update({'Lenghts': lengths[::-1]})"
   ]
  },
  {
   "cell_type": "code",
   "execution_count": 180,
   "metadata": {},
   "outputs": [
    {
     "name": "stdout",
     "output_type": "stream",
     "text": [
      "{2016322226: {'Age': 73, 'Sex': 'M', 'Status': 'R', 'Wards': ['IZ', 'Cohort-afdeling D501'], 'Lenghts': [2.92361, 12.977777]}, 2022936111: {'Age': 84, 'Sex': 'F', 'Status': 'R', 'Wards': ['Cohort-afdeling D501'], 'Lenghts': [18.568744]}, 2023253076: {'Age': 88, 'Sex': 'F', 'Status': 'R', 'Wards': ['Cohort-afdeling D601'], 'Lenghts': [14.11736]}, 2024158715: {'Age': 79, 'Sex': 'M', 'Status': 'D', 'Wards': ['Cohort-afdeling D501'], 'Lenghts': [2.90972]}, 2024849738: {'Age': 63, 'Sex': 'M', 'Status': 'R', 'Wards': ['IZ', 'Cohort-afdeling D501'], 'Lenghts': [0.729166, 8.968749]}, 2025024439: {'Age': 89, 'Sex': 'M', 'Status': 'D', 'Wards': ['IZ'], 'Lenghts': [8.790972]}, 2025214904: {'Age': 43, 'Sex': 'M', 'Status': 'R', 'Wards': ['Cohort-afdeling D501'], 'Lenghts': [4.997222]}, 2025250973: {'Age': 81, 'Sex': 'F', 'Status': 'R', 'Wards': ['IZ', 'Cohort-afdeling D501'], 'Lenghts': [4.020832, 11.008332]}, 2025272191: {'Age': 81, 'Sex': 'F', 'Status': 'R', 'Wards': ['Cohort-afdeling D601', 'Cohort-afdeling D501'], 'Lenghts': [3.046527, 7.922221]}, 2025315035: {'Age': 89, 'Sex': 'M', 'Status': 'D', 'Wards': ['Cohort-afdeling D501'], 'Lenghts': [4.408332000000001]}, 2025316449: {'Age': 49, 'Sex': 'F', 'Status': 'R', 'Wards': [], 'Lenghts': []}, 2025352623: {'Age': 42, 'Sex': 'F', 'Status': 'R', 'Wards': ['Cohort-afdeling D501'], 'Lenghts': [2.981249]}, 2025372124: {'Age': 85, 'Sex': 'M', 'Status': 'R', 'Wards': ['Cohort-afdeling D501'], 'Lenghts': [4.024999]}, 2025379295: {'Age': 78, 'Sex': 'F', 'Status': 'R', 'Wards': ['Cohort-afdeling D501', 'Cohort-afdeling D601'], 'Lenghts': [0.909027, 12.962499]}, 2025407789: {'Age': 72, 'Sex': 'F', 'Status': 'R', 'Wards': ['Cohort-afdeling D501'], 'Lenghts': [0.878471]}, 2025455683: {'Age': 77, 'Sex': 'M', 'Status': 'R', 'Wards': ['Cohort-afdeling D501'], 'Lenghts': [8.708333]}, 2025456592: {'Age': 47, 'Sex': 'M', 'Status': 'R', 'Wards': ['Cohort-afdeling D501'], 'Lenghts': [4.901388]}, 2025460535: {'Age': 68, 'Sex': 'F', 'Status': 'R', 'Wards': ['IZ', 'Cohort-afdeling D501'], 'Lenghts': [1.701388, 4.39236]}, 2025467205: {'Age': 72, 'Sex': 'F', 'Status': 'D', 'Wards': ['Cohort-afdeling D501', 'IZ'], 'Lenghts': [1.781944, 55.32707800000001]}, 2025480844: {'Age': 65, 'Sex': 'F', 'Status': 'R', 'Wards': ['Cohort-afdeling D501'], 'Lenghts': [8.916666]}, 2025498022: {'Age': 68, 'Sex': 'M', 'Status': 'R', 'Wards': ['Cohort-afdeling D501'], 'Lenghts': [8.915971999999998]}, 2025510853: {'Age': 74, 'Sex': 'F', 'Status': 'R', 'Wards': ['Cohort-afdeling D501'], 'Lenghts': [3.9625]}, 2025531263: {'Age': 55, 'Sex': 'M', 'Status': 'R', 'Wards': ['Cohort-afdeling D501'], 'Lenghts': [5.749305]}, 2025531768: {'Age': 61, 'Sex': 'M', 'Status': 'R', 'Wards': ['IZ', 'Cohort-afdeling D501'], 'Lenghts': [1.043749, 3.993749]}, 2025539347: {'Age': 64, 'Sex': 'F', 'Status': 'R', 'Wards': ['Cohort-afdeling D501'], 'Lenghts': [0.7361099999999998]}, 2025562080: {'Age': 72, 'Sex': 'M', 'Status': 'R', 'Wards': ['Cohort-afdeling D501'], 'Lenghts': [8.771527]}, 2025562484: {'Age': 78, 'Sex': 'F', 'Status': 'D', 'Wards': ['Cohort-afdeling D501', 'IZ'], 'Lenghts': [2.96875, 24.202083]}, 2025601385: {'Age': 37, 'Sex': 'F', 'Status': 'R', 'Wards': ['Cohort-afdeling D501'], 'Lenghts': [0.931249]}, 2025621593: {'Age': 51, 'Sex': 'M', 'Status': 'R', 'Wards': ['Cohort-afdeling D501'], 'Lenghts': [7.645832]}, 2025633620: {'Age': 74, 'Sex': 'M', 'Status': 'R', 'Wards': ['Cohort-afdeling D501'], 'Lenghts': [8.606249]}, 2025642916: {'Age': 88, 'Sex': 'M', 'Status': 'D', 'Wards': ['Cohort-afdeling D501'], 'Lenghts': [1.312499]}, 2025700005: {'Age': 84, 'Sex': 'M', 'Status': 'D', 'Wards': ['Cohort-afdeling D501'], 'Lenghts': [7.170833]}, 2025707681: {'Age': 84, 'Sex': 'M', 'Status': 'D', 'Wards': ['IZ'], 'Lenghts': [29.282638]}, 2025735872: {'Age': 59, 'Sex': 'M', 'Status': 'R', 'Wards': ['Cohort-afdeling D501'], 'Lenghts': [3.817361]}, 2025758205: {'Age': 70, 'Sex': 'M', 'Status': 'D', 'Wards': ['Cohort-afdeling D501', 'IZ'], 'Lenghts': [1.760416, 53.249304]}, 2025759316: {'Age': 72, 'Sex': 'F', 'Status': 'R', 'Wards': ['IZ', 'Cohort-afdeling D501'], 'Lenghts': [2.713888, 14.158332]}, 2025808927: {'Age': 73, 'Sex': 'M', 'Status': 'D', 'Wards': ['Cohort-afdeling D501', 'IZ'], 'Lenghts': [1.952777, 23.247915]}, 2025827519: {'Age': 59, 'Sex': 'M', 'Status': 'R', 'Wards': ['Cohort-afdeling D501'], 'Lenghts': [4.912499]}, 2025832973: {'Age': 72, 'Sex': 'F', 'Status': 'R', 'Wards': ['Cohort-afdeling D501'], 'Lenghts': [7.929164999999998]}, 2025839037: {'Age': 82, 'Sex': 'F', 'Status': 'R', 'Wards': ['Cohort-afdeling D501'], 'Lenghts': [4.249999]}, 2025861972: {'Age': 48, 'Sex': 'M', 'Status': 'R', 'Wards': ['Cohort-afdeling D501'], 'Lenghts': [8.879166]}, 2025866016: {'Age': 88, 'Sex': 'M', 'Status': 'D', 'Wards': ['Cohort-afdeling D501', 'Cohort-afdeling D601'], 'Lenghts': [2.865277, 3.339583]}, 2025879352: {'Age': 56, 'Sex': 'M', 'Status': 'R', 'Wards': ['Cohort-afdeling D501', 'IZ'], 'Lenghts': [5.977777, 11.056942]}, 2025911078: {'Age': 60, 'Sex': 'M', 'Status': 'R', 'Wards': ['Cohort-afdeling D501'], 'Lenghts': [4.104166]}, 2025912593: {'Age': 77, 'Sex': 'F', 'Status': 'R', 'Wards': ['IZ'], 'Lenghts': [35.970135]}, 2025913304: {'Age': 47, 'Sex': 'M', 'Status': 'R', 'Wards': ['Cohort-afdeling D501'], 'Lenghts': [2.895832]}, 2025954730: {'Age': 46, 'Sex': 'M', 'Status': 'R', 'Wards': ['Cohort-afdeling D501'], 'Lenghts': [3.906944]}, 2025966854: {'Age': 91, 'Sex': 'M', 'Status': 'D', 'Wards': ['Cohort-afdeling D501', 'Cohort-afdeling D601'], 'Lenghts': [1.841665, 6.347915000000001]}, 2025977867: {'Age': 69, 'Sex': 'F', 'Status': 'R', 'Wards': ['Cohort-afdeling D501'], 'Lenghts': [5.972221]}, 2025978372: {'Age': 87, 'Sex': 'M', 'Status': 'R', 'Wards': ['Cohort-afdeling D501', 'Cohort-afdeling D601'], 'Lenghts': [0.8625, 11.99861]}, 2025979180: {'Age': 61, 'Sex': 'F', 'Status': 'R', 'Wards': ['Cohort-afdeling D501'], 'Lenghts': [6.978471]}, 2025979281: {'Age': 62, 'Sex': 'M', 'Status': 'R', 'Wards': ['Cohort-afdeling D501'], 'Lenghts': [6.977082]}, 2025982517: {'Age': 69, 'Sex': 'M', 'Status': 'R', 'Wards': ['Cohort-afdeling D501'], 'Lenghts': [6.010415999999998]}, 2025987870: {'Age': 80, 'Sex': 'M', 'Status': 'D', 'Wards': ['IZ'], 'Lenghts': [8.237498]}, 2026040515: {'Age': 73, 'Sex': 'M', 'Status': 'D', 'Wards': ['Cohort-afdeling D501'], 'Lenghts': [2.090277]}, 2026041525: {'Age': 75, 'Sex': 'F', 'Status': 'R', 'Wards': ['Cohort-afdeling D501'], 'Lenghts': [10.170832]}, 2026042434: {'Age': 38, 'Sex': 'F', 'Status': 'R', 'Wards': [], 'Lenghts': []}, 2026045363: {'Age': 77, 'Sex': 'M', 'Status': 'D', 'Wards': ['Cohort-afdeling D601'], 'Lenghts': [5.569443000000001]}, 2026045868: {'Age': 80, 'Sex': 'M', 'Status': 'R', 'Wards': ['Cohort-afdeling D601'], 'Lenghts': [7.862499]}, 2026048393: {'Age': 49, 'Sex': 'M', 'Status': 'R', 'Wards': ['Cohort-afdeling D501', 'IZ'], 'Lenghts': [9.434026, 12.461803]}, 2026049508: {'Age': 88, 'Sex': 'F', 'Status': 'D', 'Wards': ['Cohort-afdeling D601'], 'Lenghts': [7.559721]}, 2026060117: {'Age': 87, 'Sex': 'M', 'Status': 'R', 'Wards': ['Cohort-afdeling D601'], 'Lenghts': [3.76736]}, 2026063349: {'Age': 90, 'Sex': 'F', 'Status': 'R', 'Wards': ['Cohort-afdeling D501', 'Cohort-afdeling D601'], 'Lenghts': [0.790277, 11.949305]}, 2026064056: {'Age': 56, 'Sex': 'M', 'Status': 'R', 'Wards': ['Cohort-afdeling D501'], 'Lenghts': [5.624999]}, 2026066682: {'Age': 79, 'Sex': 'F', 'Status': 'D', 'Wards': ['Cohort-afdeling D601', 'IZ'], 'Lenghts': [0.873611, 11.234722]}, 2026068302: {'Age': 0, 'Sex': 'M', 'Status': 'R', 'Wards': [], 'Lenghts': []}, 2026072645: {'Age': 87, 'Sex': 'F', 'Status': 'D', 'Wards': ['Cohort-afdeling D601'], 'Lenghts': [4.497915000000001]}, 2026073049: {'Age': 45, 'Sex': 'M', 'Status': 'R', 'Wards': ['Cohort-afdeling D501'], 'Lenghts': [2.854166]}, 2026131249: {'Age': 70, 'Sex': 'F', 'Status': 'R', 'Wards': ['Cohort-afdeling D501'], 'Lenghts': [9.264581999999999]}, 2026153982: {'Age': 59, 'Sex': 'M', 'Status': 'R', 'Wards': [], 'Lenghts': []}, 2026196220: {'Age': 84, 'Sex': 'M', 'Status': 'R', 'Wards': ['Cohort-afdeling D601'], 'Lenghts': [10.864583]}, 2026198644: {'Age': 41, 'Sex': 'M', 'Status': 'R', 'Wards': ['IZ'], 'Lenghts': [28.630553]}, 2026257854: {'Age': 44, 'Sex': 'M', 'Status': 'R', 'Wards': ['Cohort-afdeling D501'], 'Lenghts': [4.254165]}, 2026258561: {'Age': 50, 'Sex': 'M', 'Status': 'D', 'Wards': ['IZ'], 'Lenghts': [49.465275]}, 2026281395: {'Age': 78, 'Sex': 'F', 'Status': 'R', 'Wards': ['IZ', 'Cohort-afdeling D601'], 'Lenghts': [11.335416, 16.71597]}, 2026294230: {'Age': 58, 'Sex': 'M', 'Status': 'R', 'Wards': ['IZ', 'Cohort-afdeling D501'], 'Lenghts': [0.973611, 4.84236]}, 2026304738: {'Age': 72, 'Sex': 'F', 'Status': 'R', 'Wards': ['Cohort-afdeling D501'], 'Lenghts': [6.706944]}, 2026305546: {'Age': 71, 'Sex': 'M', 'Status': 'D', 'Wards': ['IZ'], 'Lenghts': [30.72222]}, 2026306455: {'Age': 90, 'Sex': 'M', 'Status': 'R', 'Wards': ['Cohort-afdeling D601'], 'Lenghts': [12.983333]}, 2026306556: {'Age': 21, 'Sex': 'F', 'Status': 'R', 'Wards': [], 'Lenghts': []}, 2026306859: {'Age': 84, 'Sex': 'M', 'Status': 'D', 'Wards': [], 'Lenghts': []}, 2026320906: {'Age': 27, 'Sex': 'F', 'Status': 'R', 'Wards': [], 'Lenghts': []}, 2026329794: {'Age': 70, 'Sex': 'M', 'Status': 'R', 'Wards': ['IZ', 'Cohort-afdeling D501'], 'Lenghts': [7.174304, 11.940277]}, 2026332222: {'Age': 75, 'Sex': 'M', 'Status': 'R', 'Wards': ['Cohort-afdeling D501'], 'Lenghts': [8.203471]}, 2026353945: {'Age': 69, 'Sex': 'M', 'Status': 'R', 'Wards': ['Cohort-afdeling D501', 'IZ'], 'Lenghts': [4.127082, 10.966664]}, 2026438316: {'Age': 88, 'Sex': 'F', 'Status': 'R', 'Wards': ['Cohort-afdeling D601'], 'Lenghts': [13.656944]}, 2026522683: {'Age': 83, 'Sex': 'M', 'Status': 'R', 'Wards': ['Cohort-afdeling D601'], 'Lenghts': [13.963888]}, 2026523895: {'Age': 73, 'Sex': 'M', 'Status': 'R', 'Wards': ['Cohort-afdeling D501'], 'Lenghts': [4.862499]}, 2026544915: {'Age': 0, 'Sex': 'M', 'Status': 'R', 'Wards': [], 'Lenghts': []}, 2026578560: {'Age': 82, 'Sex': 'M', 'Status': 'R', 'Wards': [], 'Lenghts': []}, 2026667375: {'Age': 49, 'Sex': 'M', 'Status': 'D', 'Wards': ['IZ'], 'Lenghts': [17.114581]}, 2026671217: {'Age': 93, 'Sex': 'F', 'Status': 'R', 'Wards': ['Cohort-afdeling D601'], 'Lenghts': [3.857637999999999]}, 2026681523: {'Age': 53, 'Sex': 'F', 'Status': 'D', 'Wards': ['Cohort-afdeling D501'], 'Lenghts': [1.381944]}, 2026681624: {'Age': 84, 'Sex': 'F', 'Status': 'D', 'Wards': ['Cohort-afdeling D601'], 'Lenghts': [0.863888]}, 2026689405: {'Age': 65, 'Sex': 'M', 'Status': 'R', 'Wards': ['IZ'], 'Lenghts': [20.786111]}, 2026698192: {'Age': 78, 'Sex': 'F', 'Status': 'R', 'Wards': ['Cohort-afdeling D601'], 'Lenghts': [5.901388]}, 2026703347: {'Age': 78, 'Sex': 'M', 'Status': 'R', 'Wards': ['Cohort-afdeling D601'], 'Lenghts': [14.781249]}, 2026707589: {'Age': 72, 'Sex': 'M', 'Status': 'D', 'Wards': ['Cohort-afdeling D501'], 'Lenghts': [4.996525]}, 2026709916: {'Age': 72, 'Sex': 'M', 'Status': 'R', 'Wards': ['Cohort-afdeling D501'], 'Lenghts': [9.731943]}, 2026718505: {'Age': 66, 'Sex': 'M', 'Status': 'R', 'Wards': ['IZ'], 'Lenghts': [24.066666]}, 2026730932: {'Age': 35, 'Sex': 'M', 'Status': 'R', 'Wards': ['Cohort-afdeling D501'], 'Lenghts': [6.688194]}, 2026752655: {'Age': 83, 'Sex': 'M', 'Status': 'D', 'Wards': ['Cohort-afdeling D601'], 'Lenghts': [7.61736]}, 2026852584: {'Age': 77, 'Sex': 'M', 'Status': 'R', 'Wards': ['Cohort-afdeling D601'], 'Lenghts': [13.701388]}, 2026910582: {'Age': 89, 'Sex': 'F', 'Status': 'D', 'Wards': ['Cohort-afdeling D601'], 'Lenghts': [3.107638]}, 2026911390: {'Age': 53, 'Sex': 'F', 'Status': 'R', 'Wards': ['Cohort-afdeling D501'], 'Lenghts': [5.031249]}, 2026938672: {'Age': 77, 'Sex': 'F', 'Status': 'R', 'Wards': ['Cohort-afdeling D601'], 'Lenghts': [8.858331999999999]}, 2026949180: {'Age': 77, 'Sex': 'F', 'Status': 'R', 'Wards': [], 'Lenghts': []}, 2026952517: {'Age': 96, 'Sex': 'F', 'Status': 'D', 'Wards': ['Cohort-afdeling D601'], 'Lenghts': [2.968748]}, 2027016474: {'Age': 94, 'Sex': 'M', 'Status': 'R', 'Wards': [], 'Lenghts': []}, 2027134894: {'Age': 88, 'Sex': 'F', 'Status': 'R', 'Wards': ['Cohort-afdeling D601'], 'Lenghts': [11.01736]}, 2027137928: {'Age': 71, 'Sex': 'M', 'Status': 'D', 'Wards': ['Cohort-afdeling D501', 'IZ'], 'Lenghts': [1.206249, 12.48472]}, 2027149244: {'Age': 71, 'Sex': 'M', 'Status': 'D', 'Wards': ['IZ'], 'Lenghts': [22.424305]}, 2027160762: {'Age': 85, 'Sex': 'M', 'Status': 'R', 'Wards': ['Cohort-afdeling D601'], 'Lenghts': [1.937499]}, 2027244123: {'Age': 89, 'Sex': 'M', 'Status': 'D', 'Wards': [], 'Lenghts': []}, 2027246749: {'Age': 54, 'Sex': 'M', 'Status': 'R', 'Wards': ['Cohort-afdeling D501'], 'Lenghts': [3.952082]}, 2027249375: {'Age': 79, 'Sex': 'F', 'Status': 'R', 'Wards': ['Cohort-afdeling D601'], 'Lenghts': [2.920138]}, 2027294744: {'Age': 54, 'Sex': 'F', 'Status': 'R', 'Wards': ['Cohort-afdeling D501'], 'Lenghts': [5.934027]}, 2027300101: {'Age': 88, 'Sex': 'M', 'Status': 'R', 'Wards': ['Cohort-afdeling D601'], 'Lenghts': [13.190971]}, 2027342335: {'Age': 63, 'Sex': 'F', 'Status': 'R', 'Wards': ['Cohort-afdeling D501'], 'Lenghts': [3.996527]}, 2027348601: {'Age': 95, 'Sex': 'M', 'Status': 'D', 'Wards': ['Cohort-afdeling D601'], 'Lenghts': [15.760416]}, 2027355772: {'Age': 68, 'Sex': 'M', 'Status': 'R', 'Wards': ['IZ'], 'Lenghts': [0.372916]}, 2027377293: {'Age': 77, 'Sex': 'F', 'Status': 'R', 'Wards': ['Cohort-afdeling D601'], 'Lenghts': [13.029859]}, 2027380327: {'Age': 96, 'Sex': 'F', 'Status': 'D', 'Wards': ['Cohort-afdeling D601'], 'Lenghts': [5.222915]}, 2027732759: {'Age': 63, 'Sex': 'M', 'Status': 'R', 'Wards': ['Cohort-afdeling D501'], 'Lenghts': [1.354166]}, 2027752866: {'Age': 85, 'Sex': 'M', 'Status': 'R', 'Wards': ['Cohort-afdeling D601'], 'Lenghts': [12.008333]}, 2027769438: {'Age': 82, 'Sex': 'M', 'Status': 'R', 'Wards': ['Cohort-afdeling D601'], 'Lenghts': [7.855554]}, 2027802275: {'Age': 50, 'Sex': 'F', 'Status': 'R', 'Wards': ['Cohort-afdeling D501'], 'Lenghts': [2.720138]}, 2027809349: {'Age': 84, 'Sex': 'F', 'Status': 'R', 'Wards': ['Cohort-afdeling D601'], 'Lenghts': [8.255555]}, 2027889575: {'Age': 83, 'Sex': 'F', 'Status': 'R', 'Wards': ['Cohort-afdeling D601'], 'Lenghts': [11.020138]}, 2027904127: {'Age': 86, 'Sex': 'F', 'Status': 'R', 'Wards': ['Cohort-afdeling D601'], 'Lenghts': [11.407638]}, 2027916049: {'Age': 82, 'Sex': 'F', 'Status': 'R', 'Wards': ['Cohort-afdeling D601'], 'Lenghts': [9.871527]}, 2027942725: {'Age': 82, 'Sex': 'M', 'Status': 'D', 'Wards': ['IZ'], 'Lenghts': [2.169443]}, 2027944442: {'Age': 81, 'Sex': 'M', 'Status': 'R', 'Wards': ['IZ', 'Cohort-afdeling D601'], 'Lenghts': [5.653471, 11.120832]}, 2027945553: {'Age': 97, 'Sex': 'F', 'Status': 'D', 'Wards': ['Cohort-afdeling D601'], 'Lenghts': [14.444443]}, 2027950304: {'Age': 71, 'Sex': 'M', 'Status': 'R', 'Wards': ['Cohort-afdeling D501'], 'Lenghts': [3.070138]}, 2027950910: {'Age': 18, 'Sex': 'M', 'Status': 'R', 'Wards': ['Cohort-afdeling D501'], 'Lenghts': [4.247221]}, 2027953233: {'Age': 80, 'Sex': 'M', 'Status': 'R', 'Wards': ['IZ', 'Cohort-afdeling D601'], 'Lenghts': [1.522221, 13.45347]}, 2027958485: {'Age': 87, 'Sex': 'F', 'Status': 'R', 'Wards': ['Cohort-afdeling D601'], 'Lenghts': [13.91736]}, 2027958586: {'Age': 88, 'Sex': 'M', 'Status': 'D', 'Wards': ['Cohort-afdeling D601'], 'Lenghts': [3.245138]}, 2027960307: {'Age': 68, 'Sex': 'F', 'Status': 'R', 'Wards': ['IZ'], 'Lenghts': [23.288193]}, 2027962327: {'Age': 70, 'Sex': 'M', 'Status': 'R', 'Wards': ['Cohort-afdeling D501'], 'Lenghts': [2.72361]}, 2027973542: {'Age': 93, 'Sex': 'F', 'Status': 'R', 'Wards': ['Cohort-afdeling D601'], 'Lenghts': [9.663193]}, 2028034267: {'Age': 71, 'Sex': 'F', 'Status': 'R', 'Wards': ['IZ', 'Cohort-afdeling D501'], 'Lenghts': [0.828471, 6.143055]}, 2028133489: {'Age': 70, 'Sex': 'M', 'Status': 'R', 'Wards': [], 'Lenghts': []}, 2028220183: {'Age': 76, 'Sex': 'M', 'Status': 'D', 'Wards': ['IZ', 'Cohort-afdeling D601'], 'Lenghts': [7.083332, 13.762499]}, 2028233220: {'Age': 89, 'Sex': 'M', 'Status': 'R', 'Wards': ['Cohort-afdeling D601'], 'Lenghts': [12.19236]}, 2028261209: {'Age': 91, 'Sex': 'F', 'Status': 'R', 'Wards': ['Cohort-afdeling D501'], 'Lenghts': [5.451388]}, 2028261411: {'Age': 91, 'Sex': 'M', 'Status': 'R', 'Wards': ['Cohort-afdeling D501'], 'Lenghts': [5.451387]}, 2028261512: {'Age': 90, 'Sex': 'M', 'Status': 'D', 'Wards': ['Cohort-afdeling D601'], 'Lenghts': [6.479166]}, 2028460158: {'Age': 50, 'Sex': 'F', 'Status': 'R', 'Wards': ['Cohort-afdeling D501', 'IZ'], 'Lenghts': [4.208332, 9.972222]}, 2028461269: {'Age': 69, 'Sex': 'M', 'Status': 'D', 'Wards': ['IZ'], 'Lenghts': [23.604165]}, 2028491884: {'Age': 88, 'Sex': 'F', 'Status': 'R', 'Wards': ['Cohort-afdeling D601'], 'Lenghts': [12.87361]}, 2028535839: {'Age': 50, 'Sex': 'M', 'Status': 'R', 'Wards': [], 'Lenghts': []}, 2028543519: {'Age': 89, 'Sex': 'F', 'Status': 'R', 'Wards': ['Cohort-afdeling D601'], 'Lenghts': [5.159721]}, 2028544832: {'Age': 94, 'Sex': 'F', 'Status': 'R', 'Wards': ['Cohort-afdeling D601'], 'Lenghts': [6.547222]}, 2028557360: {'Age': 57, 'Sex': 'M', 'Status': 'R', 'Wards': [], 'Lenghts': []}, 2028559683: {'Age': 85, 'Sex': 'F', 'Status': 'R', 'Wards': [], 'Lenghts': []}, 2028559784: {'Age': 72, 'Sex': 'M', 'Status': 'R', 'Wards': [], 'Lenghts': []}, 2028569484: {'Age': 66, 'Sex': 'F', 'Status': 'R', 'Wards': ['IZ'], 'Lenghts': [0.595138]}, 2028575144: {'Age': 94, 'Sex': 'F', 'Status': 'D', 'Wards': ['Cohort-afdeling D501', 'Cohort-afdeling D601'], 'Lenghts': [2.39236, 9.215277]}, 2028578275: {'Age': 80, 'Sex': 'F', 'Status': 'R', 'Wards': ['Cohort-afdeling D601'], 'Lenghts': [8.788194]}, 2028578376: {'Age': 91, 'Sex': 'F', 'Status': 'D', 'Wards': ['IZ', 'Cohort-afdeling D501'], 'Lenghts': [1.294444, 1.61111]}, 2028657491: {'Age': 78, 'Sex': 'M', 'Status': 'D', 'Wards': ['IZ'], 'Lenghts': [17.784026]}, 2028703769: {'Age': 83, 'Sex': 'F', 'Status': 'R', 'Wards': ['Cohort-afdeling D601', 'IZ'], 'Lenghts': [0.445833, 47.72736800000001]}, 2028703971: {'Age': 80, 'Sex': 'M', 'Status': 'R', 'Wards': ['Cohort-afdeling D601'], 'Lenghts': [8.913194]}, 2028765912: {'Age': 64, 'Sex': 'M', 'Status': 'R', 'Wards': ['Cohort-afdeling D501', 'IZ'], 'Lenghts': [2.009027, 6.672916]}, 2028871804: {'Age': 53, 'Sex': 'M', 'Status': 'R', 'Wards': [], 'Lenghts': []}, 2028896153: {'Age': 90, 'Sex': 'F', 'Status': 'R', 'Wards': ['Cohort-afdeling D601'], 'Lenghts': [5.968749]}, 2028912018: {'Age': 89, 'Sex': 'F', 'Status': 'R', 'Wards': ['Cohort-afdeling D601'], 'Lenghts': [6.802082]}, 2029059235: {'Age': 74, 'Sex': 'M', 'Status': 'R', 'Wards': ['IZ', 'Cohort-afdeling D501', 'Cohort-afdeling D601'], 'Lenghts': [6.500693, 6.874999, 13.50972]}, 2029162602: {'Age': 68, 'Sex': 'M', 'Status': 'D', 'Wards': ['Cohort-afdeling D601', 'IZ'], 'Lenghts': [0.409721, 1.418055]}, 2029190082: {'Age': 86, 'Sex': 'M', 'Status': 'R', 'Wards': ['Cohort-afdeling D601'], 'Lenghts': [1.013888]}, 2029266874: {'Age': 95, 'Sex': 'M', 'Status': 'D', 'Wards': ['Cohort-afdeling D601', 'Cohort-afdeling D501'], 'Lenghts': [6.131942, 6.684027]}, 2029296277: {'Age': 85, 'Sex': 'F', 'Status': 'R', 'Wards': ['Cohort-afdeling D601', 'Cohort-afdeling D501'], 'Lenghts': [3.013888, 7.861804]}, 2029478153: {'Age': 51, 'Sex': 'M', 'Status': 'R', 'Wards': [], 'Lenghts': []}, 2029596270: {'Age': 89, 'Sex': 'M', 'Status': 'R', 'Wards': ['Cohort-afdeling D601', 'Cohort-afdeling D501'], 'Lenghts': [2.997221, 3.683332]}, 2029801586: {'Age': 89, 'Sex': 'F', 'Status': 'D', 'Wards': ['Cohort-afdeling D601', 'Cohort-afdeling D501'], 'Lenghts': [1.220832, 3.439582]}, 2029980129: {'Age': 96, 'Sex': 'F', 'Status': 'R', 'Wards': ['Cohort-afdeling D601', 'Cohort-afdeling D501'], 'Lenghts': [0.861111, 5.857638]}, 2030079351: {'Age': 83, 'Sex': 'M', 'Status': 'R', 'Wards': ['IZ', 'Cohort-afdeling D501'], 'Lenghts': [0.881944, 12.051386]}, 2030314070: {'Age': 77, 'Sex': 'F', 'Status': 'R', 'Wards': ['Cohort-afdeling D501'], 'Lenghts': [0.640972]}, 2030352971: {'Age': 78, 'Sex': 'F', 'Status': 'D', 'Wards': ['Cohort-afdeling D501'], 'Lenghts': [17.177081]}, 2030364590: {'Age': 86, 'Sex': 'M', 'Status': 'R', 'Wards': ['Cohort-afdeling D501'], 'Lenghts': [13.72222]}, 2030375910: {'Age': 85, 'Sex': 'F', 'Status': 'D', 'Wards': ['Cohort-afdeling D501'], 'Lenghts': [2.84722]}, 2030507363: {'Age': 95, 'Sex': 'F', 'Status': 'D', 'Wards': ['Cohort-afdeling D601', 'Cohort-afdeling D501'], 'Lenghts': [1.59375, 1.959027]}, 2032083817: {'Age': 20, 'Sex': 'F', 'Status': 'R', 'Wards': [], 'Lenghts': []}, 2032179605: {'Age': 25, 'Sex': 'M', 'Status': 'R', 'Wards': [], 'Lenghts': []}, 2032220829: {'Age': 59, 'Sex': 'F', 'Status': 'R', 'Wards': ['Cohort-afdeling D501'], 'Lenghts': [6.930554]}, 2032715832: {'Age': 62, 'Sex': 'M', 'Status': 'R', 'Wards': ['Cohort-afdeling D501'], 'Lenghts': [0.7034710000000002]}, 2032999253: {'Age': 79, 'Sex': 'F', 'Status': 'D', 'Wards': ['Cohort-afdeling D501'], 'Lenghts': [7.319444]}, 2033878115: {'Age': 82, 'Sex': 'F', 'Status': 'R', 'Wards': ['Cohort-afdeling D501'], 'Lenghts': [5.083331]}, 2034367256: {'Age': 82, 'Sex': 'F', 'Status': 'R', 'Wards': ['IZ'], 'Lenghts': [6.811803000000001]}, 2034491336: {'Age': 73, 'Sex': 'F', 'Status': 'R', 'Wards': ['IZ', 'Cohort-afdeling D501'], 'Lenghts': [0.89375, 9.095832]}, 2034634412: {'Age': 84, 'Sex': 'M', 'Status': 'R', 'Wards': ['Cohort-afdeling D501'], 'Lenghts': [0.816666]}, 2034971484: {'Age': 90, 'Sex': 'M', 'Status': 'R', 'Wards': ['Cohort-afdeling D501'], 'Lenghts': [1.856249]}, 2035412937: {'Age': 55, 'Sex': 'F', 'Status': 'R', 'Wards': ['Cohort-afdeling D501'], 'Lenghts': [3.697916]}, 2035829027: {'Age': 75, 'Sex': 'F', 'Status': 'R', 'Wards': [], 'Lenghts': []}, 2037767512: {'Age': 93, 'Sex': 'F', 'Status': 'R', 'Wards': [], 'Lenghts': []}, 2038073868: {'Age': 87, 'Sex': 'M', 'Status': 'R', 'Wards': ['Cohort-afdeling D501'], 'Lenghts': [2.945426]}, 2038130250: {'Age': 85, 'Sex': 'F', 'Status': 'R', 'Wards': [], 'Lenghts': []}, 2038704772: {'Age': 95, 'Sex': 'F', 'Status': 'R', 'Wards': ['Cohort-afdeling D501'], 'Lenghts': [0.421121]}}\n"
     ]
    }
   ],
   "source": [
    "print(patients_dict)"
   ]
  },
  {
   "cell_type": "code",
   "execution_count": 182,
   "metadata": {},
   "outputs": [],
   "source": [
    "age = []\n",
    "age_R = []\n",
    "age_D = []\n",
    "IZ_R = []\n",
    "\n",
    "for ID in patients_dict:\n",
    "    age.append(patients_dict[ID]['Age'])\n",
    "    if patients_dict[ID]['Status'] == 'R':\n",
    "        age_R.append(patients_dict[ID]['Age'])\n",
    "    else:\n",
    "        age_D.append(patients_dict[ID]['Age'])\n",
    "        "
   ]
  },
  {
   "cell_type": "code",
   "execution_count": 148,
   "metadata": {},
   "outputs": [
    {
     "data": {
      "text/plain": [
       "(array([ 2.,  1.,  4.,  3.,  9., 20., 18., 48., 54., 41.]),\n",
       " array([ 0. ,  9.7, 19.4, 29.1, 38.8, 48.5, 58.2, 67.9, 77.6, 87.3, 97. ]),\n",
       " <a list of 10 Patch objects>)"
      ]
     },
     "execution_count": 148,
     "metadata": {},
     "output_type": "execute_result"
    },
    {
     "data": {
      "image/png": "[encoded data removed]",
      "text/plain": [
       "<Figure size 432x288 with 1 Axes>"
      ]
     },
     "metadata": {
      "needs_background": "light"
     },
     "output_type": "display_data"
    }
   ],
   "source": [
    "plt.hist(age)"
   ]
  },
  {
   "cell_type": "code",
   "execution_count": 152,
   "metadata": {},
   "outputs": [
    {
     "data": {
      "text/plain": [
       "(array([ 3.,  0.,  0.,  1.,  7.,  4.,  8.,  7., 12.,  7.]),\n",
       " array([49. , 53.8, 58.6, 63.4, 68.2, 73. , 77.8, 82.6, 87.4, 92.2, 97. ]),\n",
       " <a list of 10 Patch objects>)"
      ]
     },
     "execution_count": 152,
     "metadata": {},
     "output_type": "execute_result"
    },
    {
     "data": {
      "image/png": "[encoded data removed]",
      "text/plain": [
       "<Figure size 432x288 with 1 Axes>"
      ]
     },
     "metadata": {
      "needs_background": "light"
     },
     "output_type": "display_data"
    }
   ],
   "source": [
    "plt.hist(age_R)\n",
    "plt.hist(age_D)"
   ]
  },
  {
   "cell_type": "code",
   "execution_count": null,
   "metadata": {},
   "outputs": [],
   "source": []
  }
 ],
 "metadata": {
  "kernelspec": {
   "display_name": "Python 3",
   "language": "python",
   "name": "python3"
  },
  "language_info": {
   "codemirror_mode": {
    "name": "ipython",
    "version": 3
   },
   "file_extension": ".py",
   "mimetype": "text/x-python",
   "name": "python",
   "nbconvert_exporter": "python",
   "pygments_lexer": "ipython3",
   "version": "3.8.2"
  }
 },
 "nbformat": 4,
 "nbformat_minor": 4
}
