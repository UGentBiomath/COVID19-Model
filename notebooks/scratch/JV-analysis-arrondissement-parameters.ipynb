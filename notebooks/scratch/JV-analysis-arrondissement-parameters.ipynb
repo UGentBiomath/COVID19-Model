{
 "cells": [
  {
   "cell_type": "code",
   "execution_count": 6,
   "metadata": {
    "ExecuteTime": {
     "end_time": "2020-08-31T08:42:34.003277Z",
     "start_time": "2020-08-31T08:42:33.995636Z"
    }
   },
   "outputs": [],
   "source": [
    "import pandas as pd\n",
    "import numpy as np\n",
    "%matplotlib inline\n",
    "import matplotlib.pyplot as plt\n",
    "import matplotlib\n",
    "import matplotlib.patches as mpatches\n",
    "import os\n",
    "import glob\n",
    "import json\n",
    "import geopandas as gp\n",
    "import matplotlib.pyplot as plt\n"
   ]
  },
  {
   "cell_type": "code",
   "execution_count": 7,
   "metadata": {
    "ExecuteTime": {
     "end_time": "2020-08-31T08:42:34.254088Z",
     "start_time": "2020-08-31T08:42:34.246050Z"
    }
   },
   "outputs": [],
   "source": [
    "NIS_name = pd.read_csv('../../data/raw/GIS/NIS_name.csv')"
   ]
  },
  {
   "cell_type": "code",
   "execution_count": 9,
   "metadata": {
    "ExecuteTime": {
     "end_time": "2020-08-31T08:45:15.491732Z",
     "start_time": "2020-08-31T08:45:15.454443Z"
    }
   },
   "outputs": [],
   "source": [
    "NIS_arrondissement = pd.read_csv('../../data/raw/GIS/NIS_arrondissement.csv')"
   ]
  },
  {
   "cell_type": "code",
   "execution_count": 14,
   "metadata": {
    "ExecuteTime": {
     "end_time": "2020-08-31T08:47:00.288570Z",
     "start_time": "2020-08-31T08:47:00.284779Z"
    }
   },
   "outputs": [],
   "source": [
    "arr_list = []"
   ]
  },
  {
   "cell_type": "code",
   "execution_count": 15,
   "metadata": {
    "ExecuteTime": {
     "end_time": "2020-08-31T08:47:07.999843Z",
     "start_time": "2020-08-31T08:47:07.991678Z"
    },
    "scrolled": true
   },
   "outputs": [
    {
     "name": "stdout",
     "output_type": "stream",
     "text": [
      "11000\n",
      "12000\n",
      "13000\n",
      "21000\n",
      "23000\n",
      "24000\n",
      "25000\n",
      "31000\n",
      "32000\n",
      "33000\n",
      "34000\n",
      "35000\n",
      "36000\n",
      "37000\n",
      "38000\n",
      "41000\n",
      "42000\n",
      "43000\n",
      "44000\n",
      "45000\n",
      "46000\n",
      "51000\n",
      "52000\n",
      "53000\n",
      "55000\n",
      "56000\n",
      "57000\n",
      "61000\n",
      "62000\n",
      "63000\n",
      "64000\n",
      "71000\n",
      "72000\n",
      "73000\n",
      "81000\n",
      "82000\n",
      "83000\n",
      "84000\n",
      "85000\n",
      "91000\n",
      "92000\n",
      "93000\n"
     ]
    }
   ],
   "source": [
    "for filename in glob.glob('../../data/interim/model_parameters/arrondissements/*.json'):\n",
    "    name = filename.split('/')[-1].split('_')[0]\n",
    "    arr_list.append(name)\n",
    "    print(name)"
   ]
  },
  {
   "cell_type": "code",
   "execution_count": 24,
   "metadata": {
    "ExecuteTime": {
     "end_time": "2020-08-31T08:48:25.319903Z",
     "start_time": "2020-08-31T08:48:25.306157Z"
    },
    "scrolled": true
   },
   "outputs": [
    {
     "data": {
      "text/html": [
       "<div>\n",
       "<style scoped>\n",
       "    .dataframe tbody tr th:only-of-type {\n",
       "        vertical-align: middle;\n",
       "    }\n",
       "\n",
       "    .dataframe tbody tr th {\n",
       "        vertical-align: top;\n",
       "    }\n",
       "\n",
       "    .dataframe thead th {\n",
       "        text-align: right;\n",
       "    }\n",
       "</style>\n",
       "<table border=\"1\" class=\"dataframe\">\n",
       "  <thead>\n",
       "    <tr style=\"text-align: right;\">\n",
       "      <th></th>\n",
       "      <th>NIS</th>\n",
       "      <th>Arrondissement</th>\n",
       "      <th>short_NIS</th>\n",
       "    </tr>\n",
       "  </thead>\n",
       "  <tbody>\n",
       "    <tr>\n",
       "      <th>27</th>\n",
       "      <td>58000</td>\n",
       "      <td>La Louvière</td>\n",
       "      <td>58</td>\n",
       "    </tr>\n",
       "  </tbody>\n",
       "</table>\n",
       "</div>"
      ],
      "text/plain": [
       "      NIS Arrondissement  short_NIS\n",
       "27  58000    La Louvière         58"
      ]
     },
     "execution_count": 24,
     "metadata": {},
     "output_type": "execute_result"
    }
   ],
   "source": [
    "NIS_arrondissement[NIS_arrondissement.NIS=='58000']"
   ]
  },
  {
   "cell_type": "code",
   "execution_count": 20,
   "metadata": {
    "ExecuteTime": {
     "end_time": "2020-08-31T08:47:38.951335Z",
     "start_time": "2020-08-31T08:47:38.945412Z"
    }
   },
   "outputs": [],
   "source": [
    "NIS_arrondissement.NIS = NIS_arrondissement.NIS.astype(str)"
   ]
  },
  {
   "cell_type": "code",
   "execution_count": 25,
   "metadata": {
    "ExecuteTime": {
     "end_time": "2020-08-31T08:50:58.930961Z",
     "start_time": "2020-08-31T08:50:58.882018Z"
    }
   },
   "outputs": [],
   "source": [
    "nonpublic_ts = pd.read_csv('../../data/interim/non_public/all_nonpublic_timeseries.csv', parse_dates=['DATE'])"
   ]
  },
  {
   "cell_type": "code",
   "execution_count": 29,
   "metadata": {
    "ExecuteTime": {
     "end_time": "2020-08-31T08:51:29.952713Z",
     "start_time": "2020-08-31T08:51:29.942637Z"
    }
   },
   "outputs": [
    {
     "data": {
      "text/plain": [
       "array(['Antwerpen', 'Mechelen', 'Turnhout', 'Brussel-Hoofdstad',\n",
       "       'Halle-Vilvoorde', 'Leuven', 'Nijvel', 'Brugge', 'Diksmuide',\n",
       "       'Ieper', 'Kortrijk', 'Oostende', 'Roeselare', 'Tielt', 'Veurne',\n",
       "       'Aalst', 'Dendermonde', 'Eeklo', 'Gent', 'Oudenaarde',\n",
       "       'Sint-Niklaas', 'Aat', 'Charleroi', 'Bergen', 'Zinnik', 'Thuin',\n",
       "       'Doornik-Moeskroen', 'La Louvière', 'Hoei', 'Luik', 'Verviers',\n",
       "       'Borgworm', 'Hasselt', 'Maaseik', 'Tongeren', 'Aarlen',\n",
       "       'Bastenaken', 'Marche-en-Famenne', 'Neufchâteau', 'Virton',\n",
       "       'Dinant', 'Namen', 'Philippeville'], dtype=object)"
      ]
     },
     "execution_count": 29,
     "metadata": {},
     "output_type": "execute_result"
    }
   ],
   "source": [
    "nonpublic_ts.Arrondissement.unique()"
   ]
  },
  {
   "cell_type": "code",
   "execution_count": 28,
   "metadata": {
    "ExecuteTime": {
     "end_time": "2020-08-31T08:51:18.802954Z",
     "start_time": "2020-08-31T08:51:18.764912Z"
    }
   },
   "outputs": [
    {
     "data": {
      "text/html": [
       "<div>\n",
       "<style scoped>\n",
       "    .dataframe tbody tr th:only-of-type {\n",
       "        vertical-align: middle;\n",
       "    }\n",
       "\n",
       "    .dataframe tbody tr th {\n",
       "        vertical-align: top;\n",
       "    }\n",
       "\n",
       "    .dataframe thead th {\n",
       "        text-align: right;\n",
       "    }\n",
       "</style>\n",
       "<table border=\"1\" class=\"dataframe\">\n",
       "  <thead>\n",
       "    <tr style=\"text-align: right;\">\n",
       "      <th></th>\n",
       "      <th>Unnamed: 0</th>\n",
       "      <th>Arrondissement</th>\n",
       "      <th>Province</th>\n",
       "      <th>NIS</th>\n",
       "      <th>inhabitants</th>\n",
       "      <th>DATE</th>\n",
       "      <th>confirmed_cases</th>\n",
       "      <th>tested_cases</th>\n",
       "      <th>confirmed_per_tested_5days_window</th>\n",
       "      <th>hospitalised_IN</th>\n",
       "      <th>recovered</th>\n",
       "      <th>deceased_hosp</th>\n",
       "      <th>ICU</th>\n",
       "      <th>confirmed_cases_per_100k</th>\n",
       "      <th>hospitalised_IN_per_100k</th>\n",
       "      <th>recovered_per_100k</th>\n",
       "      <th>deceased_hosp_per_100k</th>\n",
       "      <th>ICU_per_100k</th>\n",
       "    </tr>\n",
       "  </thead>\n",
       "  <tbody>\n",
       "    <tr>\n",
       "      <th>0</th>\n",
       "      <td>52</td>\n",
       "      <td>Antwerpen</td>\n",
       "      <td>Antwerpen</td>\n",
       "      <td>11000</td>\n",
       "      <td>1057736.0</td>\n",
       "      <td>2020-01-03</td>\n",
       "      <td>NaN</td>\n",
       "      <td>NaN</td>\n",
       "      <td>NaN</td>\n",
       "      <td>0.0</td>\n",
       "      <td>NaN</td>\n",
       "      <td>NaN</td>\n",
       "      <td>0.0</td>\n",
       "      <td>NaN</td>\n",
       "      <td>0.000000</td>\n",
       "      <td>NaN</td>\n",
       "      <td>NaN</td>\n",
       "      <td>0.0</td>\n",
       "    </tr>\n",
       "    <tr>\n",
       "      <th>1</th>\n",
       "      <td>53</td>\n",
       "      <td>Antwerpen</td>\n",
       "      <td>Antwerpen</td>\n",
       "      <td>11000</td>\n",
       "      <td>1057736.0</td>\n",
       "      <td>2020-01-04</td>\n",
       "      <td>NaN</td>\n",
       "      <td>NaN</td>\n",
       "      <td>NaN</td>\n",
       "      <td>0.0</td>\n",
       "      <td>NaN</td>\n",
       "      <td>NaN</td>\n",
       "      <td>NaN</td>\n",
       "      <td>NaN</td>\n",
       "      <td>0.000000</td>\n",
       "      <td>NaN</td>\n",
       "      <td>NaN</td>\n",
       "      <td>NaN</td>\n",
       "    </tr>\n",
       "    <tr>\n",
       "      <th>2</th>\n",
       "      <td>54</td>\n",
       "      <td>Antwerpen</td>\n",
       "      <td>Antwerpen</td>\n",
       "      <td>11000</td>\n",
       "      <td>1057736.0</td>\n",
       "      <td>2020-01-05</td>\n",
       "      <td>NaN</td>\n",
       "      <td>NaN</td>\n",
       "      <td>NaN</td>\n",
       "      <td>0.0</td>\n",
       "      <td>NaN</td>\n",
       "      <td>NaN</td>\n",
       "      <td>NaN</td>\n",
       "      <td>NaN</td>\n",
       "      <td>0.000000</td>\n",
       "      <td>NaN</td>\n",
       "      <td>NaN</td>\n",
       "      <td>NaN</td>\n",
       "    </tr>\n",
       "    <tr>\n",
       "      <th>3</th>\n",
       "      <td>55</td>\n",
       "      <td>Antwerpen</td>\n",
       "      <td>Antwerpen</td>\n",
       "      <td>11000</td>\n",
       "      <td>1057736.0</td>\n",
       "      <td>2020-01-06</td>\n",
       "      <td>NaN</td>\n",
       "      <td>NaN</td>\n",
       "      <td>NaN</td>\n",
       "      <td>0.0</td>\n",
       "      <td>NaN</td>\n",
       "      <td>NaN</td>\n",
       "      <td>NaN</td>\n",
       "      <td>NaN</td>\n",
       "      <td>0.000000</td>\n",
       "      <td>NaN</td>\n",
       "      <td>NaN</td>\n",
       "      <td>NaN</td>\n",
       "    </tr>\n",
       "    <tr>\n",
       "      <th>4</th>\n",
       "      <td>56</td>\n",
       "      <td>Antwerpen</td>\n",
       "      <td>Antwerpen</td>\n",
       "      <td>11000</td>\n",
       "      <td>1057736.0</td>\n",
       "      <td>2020-01-07</td>\n",
       "      <td>NaN</td>\n",
       "      <td>NaN</td>\n",
       "      <td>NaN</td>\n",
       "      <td>1.0</td>\n",
       "      <td>NaN</td>\n",
       "      <td>NaN</td>\n",
       "      <td>NaN</td>\n",
       "      <td>NaN</td>\n",
       "      <td>0.094542</td>\n",
       "      <td>NaN</td>\n",
       "      <td>NaN</td>\n",
       "      <td>NaN</td>\n",
       "    </tr>\n",
       "    <tr>\n",
       "      <th>...</th>\n",
       "      <td>...</td>\n",
       "      <td>...</td>\n",
       "      <td>...</td>\n",
       "      <td>...</td>\n",
       "      <td>...</td>\n",
       "      <td>...</td>\n",
       "      <td>...</td>\n",
       "      <td>...</td>\n",
       "      <td>...</td>\n",
       "      <td>...</td>\n",
       "      <td>...</td>\n",
       "      <td>...</td>\n",
       "      <td>...</td>\n",
       "      <td>...</td>\n",
       "      <td>...</td>\n",
       "      <td>...</td>\n",
       "      <td>...</td>\n",
       "      <td>...</td>\n",
       "    </tr>\n",
       "    <tr>\n",
       "      <th>9842</th>\n",
       "      <td>12078</td>\n",
       "      <td>Philippeville</td>\n",
       "      <td>Namen</td>\n",
       "      <td>93000</td>\n",
       "      <td>66315.0</td>\n",
       "      <td>2020-08-17</td>\n",
       "      <td>0.0</td>\n",
       "      <td>51.0</td>\n",
       "      <td>NaN</td>\n",
       "      <td>NaN</td>\n",
       "      <td>NaN</td>\n",
       "      <td>NaN</td>\n",
       "      <td>NaN</td>\n",
       "      <td>0.000000</td>\n",
       "      <td>NaN</td>\n",
       "      <td>NaN</td>\n",
       "      <td>NaN</td>\n",
       "      <td>NaN</td>\n",
       "    </tr>\n",
       "    <tr>\n",
       "      <th>9843</th>\n",
       "      <td>12079</td>\n",
       "      <td>Philippeville</td>\n",
       "      <td>Namen</td>\n",
       "      <td>93000</td>\n",
       "      <td>66315.0</td>\n",
       "      <td>2020-08-18</td>\n",
       "      <td>7.0</td>\n",
       "      <td>61.0</td>\n",
       "      <td>NaN</td>\n",
       "      <td>NaN</td>\n",
       "      <td>NaN</td>\n",
       "      <td>NaN</td>\n",
       "      <td>NaN</td>\n",
       "      <td>10.555681</td>\n",
       "      <td>NaN</td>\n",
       "      <td>NaN</td>\n",
       "      <td>NaN</td>\n",
       "      <td>NaN</td>\n",
       "    </tr>\n",
       "    <tr>\n",
       "      <th>9844</th>\n",
       "      <td>12080</td>\n",
       "      <td>Philippeville</td>\n",
       "      <td>Namen</td>\n",
       "      <td>93000</td>\n",
       "      <td>66315.0</td>\n",
       "      <td>2020-08-19</td>\n",
       "      <td>NaN</td>\n",
       "      <td>94.0</td>\n",
       "      <td>NaN</td>\n",
       "      <td>NaN</td>\n",
       "      <td>NaN</td>\n",
       "      <td>NaN</td>\n",
       "      <td>NaN</td>\n",
       "      <td>NaN</td>\n",
       "      <td>NaN</td>\n",
       "      <td>NaN</td>\n",
       "      <td>NaN</td>\n",
       "      <td>NaN</td>\n",
       "    </tr>\n",
       "    <tr>\n",
       "      <th>9845</th>\n",
       "      <td>12081</td>\n",
       "      <td>Philippeville</td>\n",
       "      <td>Namen</td>\n",
       "      <td>93000</td>\n",
       "      <td>66315.0</td>\n",
       "      <td>2020-08-28</td>\n",
       "      <td>NaN</td>\n",
       "      <td>0.0</td>\n",
       "      <td>NaN</td>\n",
       "      <td>NaN</td>\n",
       "      <td>NaN</td>\n",
       "      <td>NaN</td>\n",
       "      <td>NaN</td>\n",
       "      <td>NaN</td>\n",
       "      <td>NaN</td>\n",
       "      <td>NaN</td>\n",
       "      <td>NaN</td>\n",
       "      <td>NaN</td>\n",
       "    </tr>\n",
       "    <tr>\n",
       "      <th>9846</th>\n",
       "      <td>12082</td>\n",
       "      <td>Philippeville</td>\n",
       "      <td>Namen</td>\n",
       "      <td>93000</td>\n",
       "      <td>66315.0</td>\n",
       "      <td>2020-11-12</td>\n",
       "      <td>NaN</td>\n",
       "      <td>0.0</td>\n",
       "      <td>NaN</td>\n",
       "      <td>NaN</td>\n",
       "      <td>NaN</td>\n",
       "      <td>NaN</td>\n",
       "      <td>NaN</td>\n",
       "      <td>NaN</td>\n",
       "      <td>NaN</td>\n",
       "      <td>NaN</td>\n",
       "      <td>NaN</td>\n",
       "      <td>NaN</td>\n",
       "    </tr>\n",
       "  </tbody>\n",
       "</table>\n",
       "<p>9847 rows × 18 columns</p>\n",
       "</div>"
      ],
      "text/plain": [
       "      Unnamed: 0 Arrondissement   Province    NIS  inhabitants       DATE  \\\n",
       "0             52      Antwerpen  Antwerpen  11000    1057736.0 2020-01-03   \n",
       "1             53      Antwerpen  Antwerpen  11000    1057736.0 2020-01-04   \n",
       "2             54      Antwerpen  Antwerpen  11000    1057736.0 2020-01-05   \n",
       "3             55      Antwerpen  Antwerpen  11000    1057736.0 2020-01-06   \n",
       "4             56      Antwerpen  Antwerpen  11000    1057736.0 2020-01-07   \n",
       "...          ...            ...        ...    ...          ...        ...   \n",
       "9842       12078  Philippeville      Namen  93000      66315.0 2020-08-17   \n",
       "9843       12079  Philippeville      Namen  93000      66315.0 2020-08-18   \n",
       "9844       12080  Philippeville      Namen  93000      66315.0 2020-08-19   \n",
       "9845       12081  Philippeville      Namen  93000      66315.0 2020-08-28   \n",
       "9846       12082  Philippeville      Namen  93000      66315.0 2020-11-12   \n",
       "\n",
       "      confirmed_cases  tested_cases  confirmed_per_tested_5days_window  \\\n",
       "0                 NaN           NaN                                NaN   \n",
       "1                 NaN           NaN                                NaN   \n",
       "2                 NaN           NaN                                NaN   \n",
       "3                 NaN           NaN                                NaN   \n",
       "4                 NaN           NaN                                NaN   \n",
       "...               ...           ...                                ...   \n",
       "9842              0.0          51.0                                NaN   \n",
       "9843              7.0          61.0                                NaN   \n",
       "9844              NaN          94.0                                NaN   \n",
       "9845              NaN           0.0                                NaN   \n",
       "9846              NaN           0.0                                NaN   \n",
       "\n",
       "      hospitalised_IN  recovered  deceased_hosp  ICU  \\\n",
       "0                 0.0        NaN            NaN  0.0   \n",
       "1                 0.0        NaN            NaN  NaN   \n",
       "2                 0.0        NaN            NaN  NaN   \n",
       "3                 0.0        NaN            NaN  NaN   \n",
       "4                 1.0        NaN            NaN  NaN   \n",
       "...               ...        ...            ...  ...   \n",
       "9842              NaN        NaN            NaN  NaN   \n",
       "9843              NaN        NaN            NaN  NaN   \n",
       "9844              NaN        NaN            NaN  NaN   \n",
       "9845              NaN        NaN            NaN  NaN   \n",
       "9846              NaN        NaN            NaN  NaN   \n",
       "\n",
       "      confirmed_cases_per_100k  hospitalised_IN_per_100k  recovered_per_100k  \\\n",
       "0                          NaN                  0.000000                 NaN   \n",
       "1                          NaN                  0.000000                 NaN   \n",
       "2                          NaN                  0.000000                 NaN   \n",
       "3                          NaN                  0.000000                 NaN   \n",
       "4                          NaN                  0.094542                 NaN   \n",
       "...                        ...                       ...                 ...   \n",
       "9842                  0.000000                       NaN                 NaN   \n",
       "9843                 10.555681                       NaN                 NaN   \n",
       "9844                       NaN                       NaN                 NaN   \n",
       "9845                       NaN                       NaN                 NaN   \n",
       "9846                       NaN                       NaN                 NaN   \n",
       "\n",
       "      deceased_hosp_per_100k  ICU_per_100k  \n",
       "0                        NaN           0.0  \n",
       "1                        NaN           NaN  \n",
       "2                        NaN           NaN  \n",
       "3                        NaN           NaN  \n",
       "4                        NaN           NaN  \n",
       "...                      ...           ...  \n",
       "9842                     NaN           NaN  \n",
       "9843                     NaN           NaN  \n",
       "9844                     NaN           NaN  \n",
       "9845                     NaN           NaN  \n",
       "9846                     NaN           NaN  \n",
       "\n",
       "[9847 rows x 18 columns]"
      ]
     },
     "execution_count": 28,
     "metadata": {},
     "output_type": "execute_result"
    }
   ],
   "source": [
    "nonpublic_ts#.NIS.unique()"
   ]
  },
  {
   "cell_type": "code",
   "execution_count": 21,
   "metadata": {
    "ExecuteTime": {
     "end_time": "2020-08-31T08:47:39.628849Z",
     "start_time": "2020-08-31T08:47:39.623673Z"
    }
   },
   "outputs": [
    {
     "data": {
      "text/plain": [
       "{'58000'}"
      ]
     },
     "execution_count": 21,
     "metadata": {},
     "output_type": "execute_result"
    }
   ],
   "source": [
    "set(NIS_arrondissement.NIS) - set(arr_list)"
   ]
  },
  {
   "cell_type": "code",
   "execution_count": null,
   "metadata": {
    "ExecuteTime": {
     "end_time": "2020-08-27T15:40:27.335006Z",
     "start_time": "2020-08-27T15:40:27.330968Z"
    }
   },
   "outputs": [],
   "source": [
    "samples_path = '../../data/interim/model_parameters/arrondissements/'"
   ]
  },
  {
   "cell_type": "code",
   "execution_count": null,
   "metadata": {
    "ExecuteTime": {
     "end_time": "2020-08-27T15:40:27.583261Z",
     "start_time": "2020-08-27T15:40:27.580296Z"
    }
   },
   "outputs": [],
   "source": [
    "sample_dicts = {}"
   ]
  },
  {
   "cell_type": "code",
   "execution_count": null,
   "metadata": {
    "ExecuteTime": {
     "end_time": "2020-08-27T15:40:40.225888Z",
     "start_time": "2020-08-27T15:40:28.309115Z"
    }
   },
   "outputs": [],
   "source": [
    "for filename in glob.glob(os.path.join(samples_path+'*.json')):\n",
    "    arr = filename.split('/')[-1].split('_2020')[0]\n",
    "    with open(filename, 'r') as fp:\n",
    "        sample_dicts[arr] = json.load(fp)"
   ]
  },
  {
   "cell_type": "code",
   "execution_count": null,
   "metadata": {
    "ExecuteTime": {
     "end_time": "2020-08-27T15:40:40.326325Z",
     "start_time": "2020-08-27T15:40:40.228451Z"
    }
   },
   "outputs": [],
   "source": [
    "R0_dict = {arr:np.mean(sample_dicts[arr]['R0']).round(2) for arr in sample_dicts.keys()}"
   ]
  },
  {
   "cell_type": "code",
   "execution_count": null,
   "metadata": {
    "ExecuteTime": {
     "end_time": "2020-08-27T15:40:40.446285Z",
     "start_time": "2020-08-27T15:40:40.329666Z"
    }
   },
   "outputs": [],
   "source": [
    "beta_dict = {arr:np.mean(sample_dicts[arr]['beta']).round(2) for arr in sample_dicts.keys()}"
   ]
  },
  {
   "cell_type": "markdown",
   "metadata": {},
   "source": [
    "Basis reproductiegetal zegt iets over hoe snel initiële verspreiding was in een arrondissement (of maw hoeveel within-contacts er zijn). Maar om evolutie op te volgen => niet beter effectief reproductiegetal te berekenen?"
   ]
  },
  {
   "cell_type": "code",
   "execution_count": null,
   "metadata": {
    "ExecuteTime": {
     "end_time": "2020-08-27T15:58:58.172794Z",
     "start_time": "2020-08-27T15:58:58.168362Z"
    }
   },
   "outputs": [],
   "source": [
    "## Create arrondissements shapefile\n",
    "# gemeentes = gp.read_file(\"../../data/raw/geopandas/BE/AD_2_Municipality.shp\")\n",
    "# gemeentes['short_nis'] = gemeentes.NISCode.apply(lambda x: str(x)[:2])\n",
    "# # select the columns that you with to use for the dissolve and that will be retained\n",
    "# gemeentes_new = gemeentes[['short_nis','geometry']]\n",
    "# # dissolve the state boundary by region \n",
    "# arrondissementen = gemeentes_new.dissolve(by='short_nis').reset_index()\n",
    "# arrondissementen['NIS'] = arrondissementen.short_nis.apply(lambda x: x+'000')\n",
    "# arrondissementen = arrondissementen[['NIS','geometry']]\n",
    "# arrondissementen.to_file('../../data/raw/geopandas/BE/Arrondissements.shp')"
   ]
  },
  {
   "cell_type": "code",
   "execution_count": null,
   "metadata": {
    "ExecuteTime": {
     "end_time": "2020-08-28T08:21:08.290518Z",
     "start_time": "2020-08-28T08:21:07.823755Z"
    }
   },
   "outputs": [],
   "source": [
    "# Read arrondissements shapefile\n",
    "arrondissementen = gp.read_file(\"../../data/raw/geopandas/BE/Arrondissements.shp\")\n",
    "provinces = gp.read_file(\"../../data/raw/geopandas/BE/AD_4_Province.shp\")"
   ]
  },
  {
   "cell_type": "code",
   "execution_count": null,
   "metadata": {
    "ExecuteTime": {
     "end_time": "2020-08-28T08:21:18.863921Z",
     "start_time": "2020-08-28T08:21:18.843006Z"
    }
   },
   "outputs": [],
   "source": [
    "R0_df"
   ]
  },
  {
   "cell_type": "code",
   "execution_count": null,
   "metadata": {
    "ExecuteTime": {
     "end_time": "2020-08-27T16:00:30.228142Z",
     "start_time": "2020-08-27T16:00:30.221807Z"
    },
    "scrolled": true
   },
   "outputs": [],
   "source": [
    "R0_df = pd.DataFrame.from_dict(R0_dict, orient='index').reset_index().rename(columns={'index':'NIS',0:'R0'})\n",
    "R0_df_geom = gp.GeoDataFrame(pd.merge(R0_df, arrondissementen, on='NIS'))"
   ]
  },
  {
   "cell_type": "code",
   "execution_count": null,
   "metadata": {
    "ExecuteTime": {
     "end_time": "2020-08-28T08:19:53.901241Z",
     "start_time": "2020-08-28T08:19:53.845210Z"
    },
    "scrolled": true
   },
   "outputs": [],
   "source": [
    "beta_df = pd.DataFrame.from_dict(beta_dict, orient='index').reset_index().rename(columns={'index':'NIS',0:'beta'})\n",
    "beta_df_geom = gp.GeoDataFrame(pd.merge(beta_df, arrondissementen, on='NIS'))"
   ]
  },
  {
   "cell_type": "code",
   "execution_count": null,
   "metadata": {
    "ExecuteTime": {
     "end_time": "2020-08-28T08:19:21.201497Z",
     "start_time": "2020-08-28T08:19:20.730346Z"
    }
   },
   "outputs": [],
   "source": [
    "fig,ax = plt.subplots(figsize=(8,6))\n",
    "R0_df_geom.plot(column='R0', cmap='viridis', ax=ax, legend=True)\n",
    "ax.set_title('R0 per arrondissement')"
   ]
  },
  {
   "cell_type": "code",
   "execution_count": null,
   "metadata": {
    "ExecuteTime": {
     "end_time": "2020-08-28T08:20:05.683237Z",
     "start_time": "2020-08-28T08:20:05.199612Z"
    }
   },
   "outputs": [],
   "source": [
    "fig,ax = plt.subplots(figsize=(8,6))\n",
    "beta_df_geom.plot(column='beta', cmap='viridis', ax=ax, legend=True)\n",
    "ax.set_title('beta per arrondissement')"
   ]
  },
  {
   "cell_type": "code",
   "execution_count": null,
   "metadata": {
    "ExecuteTime": {
     "end_time": "2020-08-28T09:07:00.300747Z",
     "start_time": "2020-08-28T09:06:55.684868Z"
    }
   },
   "outputs": [],
   "source": [
    "fig,ax = plt.subplots(figsize=(8,6))\n",
    "provinces.plot(ax=ax)"
   ]
  },
  {
   "cell_type": "code",
   "execution_count": null,
   "metadata": {},
   "outputs": [],
   "source": []
  }
 ],
 "metadata": {
  "kernelspec": {
   "display_name": "Python 3",
   "language": "python",
   "name": "python3"
  },
  "language_info": {
   "codemirror_mode": {
    "name": "ipython",
    "version": 3
   },
   "file_extension": ".py",
   "mimetype": "text/x-python",
   "name": "python",
   "nbconvert_exporter": "python",
   "pygments_lexer": "ipython3",
   "version": "3.8.2"
  },
  "toc": {
   "base_numbering": 1,
   "nav_menu": {},
   "number_sections": true,
   "sideBar": true,
   "skip_h1_title": false,
   "title_cell": "Table of Contents",
   "title_sidebar": "Contents",
   "toc_cell": false,
   "toc_position": {},
   "toc_section_display": true,
   "toc_window_display": false
  }
 },
 "nbformat": 4,
 "nbformat_minor": 4
}
