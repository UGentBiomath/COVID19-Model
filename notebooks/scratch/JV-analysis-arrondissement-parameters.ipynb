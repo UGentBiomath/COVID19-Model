{
 "cells": [
  {
   "cell_type": "code",
   "execution_count": 1,
   "metadata": {
    "ExecuteTime": {
     "end_time": "2020-09-10T08:06:04.674306Z",
     "start_time": "2020-09-10T08:06:01.211574Z"
    }
   },
   "outputs": [],
   "source": [
    "import pandas as pd\n",
    "import numpy as np\n",
    "%matplotlib inline\n",
    "import matplotlib.pyplot as plt\n",
    "import matplotlib\n",
    "import matplotlib.patches as mpatches\n",
    "import os\n",
    "import glob\n",
    "import json\n",
    "import geopandas as gp\n",
    "import matplotlib.pyplot as plt\n",
    "plt.rcParams.update({'font.size': 12})\n",
    "from scipy import stats\n",
    "\n"
   ]
  },
  {
   "cell_type": "markdown",
   "metadata": {},
   "source": [
    "# Data"
   ]
  },
  {
   "cell_type": "code",
   "execution_count": 2,
   "metadata": {
    "ExecuteTime": {
     "end_time": "2020-09-10T08:06:04.682201Z",
     "start_time": "2020-09-10T08:06:04.676775Z"
    }
   },
   "outputs": [],
   "source": [
    "data_path = '../../data/'\n",
    "start_wave1 = '2020-03-01'\n",
    "end_wave1 = '2020-06-04'"
   ]
  },
  {
   "cell_type": "code",
   "execution_count": 3,
   "metadata": {
    "ExecuteTime": {
     "end_time": "2020-09-10T08:06:04.720960Z",
     "start_time": "2020-09-10T08:06:04.688191Z"
    }
   },
   "outputs": [],
   "source": [
    "NIS_name = pd.read_csv(data_path+'raw/GIS/NIS_name.csv')\n",
    "NIS_arrondissement = pd.read_csv(data_path+'raw/GIS/NIS_arrondissement.csv')\n",
    "inhabitants = pd.read_csv(data_path+'raw/GIS/inhabitants.csv')\n",
    "inhabitants.NIS = inhabitants.NIS.astype(str)\n"
   ]
  },
  {
   "cell_type": "code",
   "execution_count": 4,
   "metadata": {
    "ExecuteTime": {
     "end_time": "2020-09-10T08:06:05.594269Z",
     "start_time": "2020-09-10T08:06:05.211962Z"
    }
   },
   "outputs": [],
   "source": [
    "# Read arrondissements shapefile\n",
    "arrondissementen = gp.read_file(data_path+\"raw/GIS/shapefiles/BE/Arrondissements.shp\")\n",
    "provinces = gp.read_file(data_path+\"raw/GIS/shapefiles/BE/AD_4_Province.shp\")\n",
    "arrondissementen['area'] = arrondissementen.geometry.area"
   ]
  },
  {
   "cell_type": "code",
   "execution_count": 5,
   "metadata": {
    "ExecuteTime": {
     "end_time": "2020-09-10T08:06:05.782943Z",
     "start_time": "2020-09-10T08:06:05.649109Z"
    },
    "scrolled": true
   },
   "outputs": [],
   "source": [
    "arr_age_structure = pd.read_csv(data_path+'interim/demographic/age_structure_per_arrondissement.csv')\n",
    "arr_age_structure.NIS = arr_age_structure.NIS.astype(str)\n",
    "\n",
    "age_over_60 = arr_age_structure.groupby('NIS').apply(\n",
    "    lambda x: x.loc[x.age>60, 'number'].sum()/x.number.sum()).reset_index().rename(columns={0:'age_over_60'})\n",
    "\n",
    "# median: number.sum()/2\n",
    "# x[x.number.cumsum().gt(x.number.sum()/2)].index[0] = position of first cumsum number larger than\n",
    "median_age = arr_age_structure.groupby('NIS').apply(\n",
    "    lambda x: x.loc[x[x.number.cumsum()>x.number.sum()/2].index[0], 'age']).reset_index().rename(columns={0:'median_age'})"
   ]
  },
  {
   "cell_type": "markdown",
   "metadata": {},
   "source": [
    "https://statbel.fgov.be/nl/open-data/census-2011-leeftijd-arbeidsmarktsituatie-opleidingsniveau-verblijfplaats-0"
   ]
  },
  {
   "cell_type": "code",
   "execution_count": null,
   "metadata": {
    "ExecuteTime": {
     "end_time": "2020-09-08T11:53:41.213183Z",
     "start_time": "2020-09-08T11:53:41.071840Z"
    },
    "scrolled": true
   },
   "outputs": [],
   "source": [
    "socio_economic = pd.read_csv(data_path+'raw/census_2011/socio_economic.txt', delimiter='|')"
   ]
  },
  {
   "cell_type": "code",
   "execution_count": null,
   "metadata": {
    "ExecuteTime": {
     "end_time": "2020-09-08T12:15:16.584921Z",
     "start_time": "2020-09-08T12:15:16.422870Z"
    }
   },
   "outputs": [],
   "source": [
    "socio_economic"
   ]
  },
  {
   "cell_type": "markdown",
   "metadata": {},
   "source": [
    "# Timeseries"
   ]
  },
  {
   "cell_type": "code",
   "execution_count": 6,
   "metadata": {
    "ExecuteTime": {
     "end_time": "2020-09-10T08:06:09.714967Z",
     "start_time": "2020-09-10T08:06:09.662370Z"
    }
   },
   "outputs": [],
   "source": [
    "nonpublic_ts = pd.read_csv(data_path+'/interim/non_public/all_nonpublic_timeseries.csv', parse_dates=['DATE'])\n",
    "nonpublic_ts.NIS = nonpublic_ts.NIS.astype(str)"
   ]
  },
  {
   "cell_type": "code",
   "execution_count": 7,
   "metadata": {
    "ExecuteTime": {
     "end_time": "2020-09-10T08:06:10.651218Z",
     "start_time": "2020-09-10T08:06:10.033781Z"
    }
   },
   "outputs": [],
   "source": [
    "hospitalised =  nonpublic_ts.groupby('NIS').apply(lambda group: \n",
    "                      group.set_index('DATE')[start_wave1:end_wave1].hospitalised_IN.agg([sum, max])).rename(\n",
    "                      columns={'sum':'hosp_sum','max':'hosp_max'})\n",
    "\n",
    "confirmed =  nonpublic_ts.groupby('NIS').apply(lambda group: \n",
    "                      group.set_index('DATE')[start_wave1:end_wave1].confirmed_cases.agg([sum, max])).rename(\n",
    "                      columns={'sum':'conf_sum','max':'conf_max'})\n",
    "\n",
    "deceased_hosp =  nonpublic_ts.groupby('NIS').apply(lambda group: \n",
    "                      group.set_index('DATE')[start_wave1:end_wave1].deceased_hosp.agg([sum, max])).rename(\n",
    "                      columns={'sum':'deceased_sum','max':'deceased_max'})"
   ]
  },
  {
   "cell_type": "code",
   "execution_count": 8,
   "metadata": {
    "ExecuteTime": {
     "end_time": "2020-09-10T08:06:10.678273Z",
     "start_time": "2020-09-10T08:06:10.653436Z"
    },
    "scrolled": true
   },
   "outputs": [],
   "source": [
    "data_cols = ['deceased_sum', 'deceased_max', 'conf_sum', 'conf_max','hosp_sum', 'hosp_max']\n",
    "COVID_data = pd.merge(hospitalised, inhabitants[['NIS','inhabitants']], on='NIS')\n",
    "COVID_data = pd.merge(confirmed, COVID_data, on='NIS')\n",
    "COVID_data = pd.merge(deceased_hosp, COVID_data, on='NIS')\n",
    "COVID_per_100k = COVID_data.copy()\n",
    "COVID_per_100k[data_cols] = COVID_per_100k[data_cols]/COVID_per_100k[['inhabitants']].values*100000"
   ]
  },
  {
   "cell_type": "markdown",
   "metadata": {},
   "source": [
    "# Model parameters"
   ]
  },
  {
   "cell_type": "code",
   "execution_count": 9,
   "metadata": {
    "ExecuteTime": {
     "end_time": "2020-09-10T08:06:27.383467Z",
     "start_time": "2020-09-10T08:06:12.422213Z"
    }
   },
   "outputs": [],
   "source": [
    "samples_path = data_path+'/interim/model_parameters/arrondissements/'\n",
    "sample_dicts = {}\n",
    "for filename in glob.glob(os.path.join(samples_path+'*.json')):\n",
    "    arr = filename.split('/')[-1].split('_2020')[0]\n",
    "    with open(filename, 'r') as fp:\n",
    "        sample_dicts[arr] = json.load(fp)"
   ]
  },
  {
   "cell_type": "code",
   "execution_count": 20,
   "metadata": {
    "ExecuteTime": {
     "end_time": "2020-09-10T08:11:46.675381Z",
     "start_time": "2020-09-10T08:11:46.377569Z"
    }
   },
   "outputs": [],
   "source": [
    "R0_dict = {arr:np.mean(sample_dicts[arr]['R0']) for arr in sample_dicts.keys()}\n",
    "R0_df = pd.DataFrame.from_dict(R0_dict, orient='index').reset_index().rename(columns={'index':'NIS',0:'R0'})\n",
    "beta_dict = {arr:np.mean(sample_dicts[arr]['beta']) for arr in sample_dicts.keys()}\n",
    "beta_df = pd.DataFrame.from_dict(beta_dict, orient='index').reset_index().rename(columns={'index':'NIS',0:'beta'})\n"
   ]
  },
  {
   "cell_type": "markdown",
   "metadata": {},
   "source": [
    "Calculation of $R_0$:"
   ]
  },
  {
   "cell_type": "markdown",
   "metadata": {
    "ExecuteTime": {
     "end_time": "2020-09-10T08:16:16.421732Z",
     "start_time": "2020-09-10T08:16:16.415453Z"
    }
   },
   "source": [
    "\\begin{equation}\n",
    "    R_{0,i} = (a_i d_a + \\omega) \\beta s_i \\sum_{j=1}^{N} N_{c,ij}\n",
    "\\end{equation}"
   ]
  },
  {
   "cell_type": "markdown",
   "metadata": {},
   "source": [
    "with:   \n",
    "$a_i$: probablity of an asymptotic case in age class i   \n",
    "$d_a$: duration of the infection in case of asymptomatic   \n",
    "$\\omega$: length of the pre-symptomatic infectious period   \n",
    "$\\beta$: probability of infection when encountering an infected person   \n",
    "$s_i$: relative susceptibility to infection in age class i   \n",
    "$N_{c,ij}$: contact matrix between age class i and j"
   ]
  },
  {
   "cell_type": "markdown",
   "metadata": {},
   "source": [
    "Note that only $\\beta$ is different among arrondissements, hence $R_0$ and $\\beta$ are perfectly correlated."
   ]
  },
  {
   "cell_type": "markdown",
   "metadata": {},
   "source": [
    "# Merge all data"
   ]
  },
  {
   "cell_type": "code",
   "execution_count": 21,
   "metadata": {
    "ExecuteTime": {
     "end_time": "2020-09-10T08:11:48.911655Z",
     "start_time": "2020-09-10T08:11:48.858665Z"
    }
   },
   "outputs": [],
   "source": [
    "arrondissementen_ext = pd.merge(arrondissementen, COVID_per_100k, on='NIS')\n",
    "arrondissementen_ext = pd.merge(arrondissementen_ext, median_age, on='NIS')\n",
    "arrondissementen_ext = pd.merge(arrondissementen_ext, age_over_60, on='NIS')\n",
    "arrondissementen_ext = gp.GeoDataFrame(pd.merge(arrondissementen_ext, R0_df, on='NIS'))\n",
    "arrondissementen_ext = gp.GeoDataFrame(pd.merge(arrondissementen_ext, beta_df, on='NIS'))\n",
    "arrondissementen_ext['density_per_km2'] = arrondissementen_ext.inhabitants/arrondissementen_ext.area*1e6\n",
    "# Omit outlier Brussels capital region (also in relative terms!)\n",
    "arrondissementen_ext = arrondissementen_ext[arrondissementen_ext.density_per_km2<6000]"
   ]
  },
  {
   "cell_type": "markdown",
   "metadata": {},
   "source": [
    "# Linear correlation figures"
   ]
  },
  {
   "cell_type": "code",
   "execution_count": 22,
   "metadata": {
    "ExecuteTime": {
     "end_time": "2020-09-10T08:11:50.827838Z",
     "start_time": "2020-09-10T08:11:50.820899Z"
    }
   },
   "outputs": [],
   "source": [
    "def fig_lin_corr(ax,x,y):\n",
    "    slope, intercept, r_value, p_value, std_err = stats.linregress(arrondissementen_ext[x],arrondissementen_ext[y])\n",
    "    pd.DataFrame(arrondissementen_ext).plot(x, y, kind='scatter', ax=ax)\n",
    "    ax.set_title(y+' vs '+x+': \\n R$^2$ = {:.2f}, p = {:.3f}'.format(r_value**2, p_value))\n",
    "    return"
   ]
  },
  {
   "cell_type": "markdown",
   "metadata": {},
   "source": [
    "## Relations with population density"
   ]
  },
  {
   "cell_type": "markdown",
   "metadata": {},
   "source": [
    "More meaningful to take absolute values of max/total COVID cases, or per 100000?"
   ]
  },
  {
   "cell_type": "code",
   "execution_count": 15,
   "metadata": {
    "ExecuteTime": {
     "end_time": "2020-09-10T08:08:03.299237Z",
     "start_time": "2020-09-10T08:08:03.291359Z"
    }
   },
   "outputs": [
    {
     "data": {
      "text/plain": [
       "7490706.319702602"
      ]
     },
     "execution_count": 15,
     "metadata": {},
     "output_type": "execute_result"
    }
   ],
   "source": [
    "1209e6/161.4"
   ]
  },
  {
   "cell_type": "code",
   "execution_count": 23,
   "metadata": {
    "ExecuteTime": {
     "end_time": "2020-09-10T08:11:53.976308Z",
     "start_time": "2020-09-10T08:11:53.509823Z"
    }
   },
   "outputs": [
    {
     "data": {
      "image/png": "[encoded data removed]",
      "text/plain": [
       "<Figure size 1008x432 with 2 Axes>"
      ]
     },
     "metadata": {
      "needs_background": "light"
     },
     "output_type": "display_data"
    }
   ],
   "source": [
    "fig, (ax1, ax2) = plt.subplots(1, 2, figsize=(14,6))\n",
    "fig_lin_corr(ax1, 'density_per_km2','R0')\n",
    "fig_lin_corr(ax2, 'density_per_km2','beta')\n"
   ]
  },
  {
   "cell_type": "code",
   "execution_count": null,
   "metadata": {
    "ExecuteTime": {
     "end_time": "2020-09-09T12:18:51.133679Z",
     "start_time": "2020-09-09T12:18:50.685669Z"
    },
    "scrolled": true
   },
   "outputs": [],
   "source": [
    "fig, (ax1, ax2) = plt.subplots(1, 2, figsize=(14,6))\n",
    "fig_lin_corr(ax1,'density_per_km2','hosp_sum')\n",
    "fig_lin_corr(ax2,'density_per_km2','hosp_max')\n"
   ]
  },
  {
   "cell_type": "code",
   "execution_count": null,
   "metadata": {
    "ExecuteTime": {
     "end_time": "2020-09-09T12:18:54.666375Z",
     "start_time": "2020-09-09T12:18:54.246992Z"
    }
   },
   "outputs": [],
   "source": [
    "fig, (ax1, ax2) = plt.subplots(1, 2, figsize=(14,6))\n",
    "fig_lin_corr(ax1,'density_per_km2','conf_sum')\n",
    "fig_lin_corr(ax2,'density_per_km2','conf_max')\n"
   ]
  },
  {
   "cell_type": "code",
   "execution_count": null,
   "metadata": {
    "ExecuteTime": {
     "end_time": "2020-09-09T12:18:56.968778Z",
     "start_time": "2020-09-09T12:18:56.551671Z"
    }
   },
   "outputs": [],
   "source": [
    "fig, (ax1, ax2) = plt.subplots(1, 2, figsize=(14,6))\n",
    "fig_lin_corr(ax1,'density_per_km2','deceased_sum')\n",
    "fig_lin_corr(ax2,'density_per_km2','deceased_max')\n"
   ]
  },
  {
   "cell_type": "markdown",
   "metadata": {},
   "source": [
    "## Relations with demographics"
   ]
  },
  {
   "cell_type": "code",
   "execution_count": null,
   "metadata": {
    "ExecuteTime": {
     "end_time": "2020-09-09T12:18:59.982356Z",
     "start_time": "2020-09-09T12:18:58.941593Z"
    }
   },
   "outputs": [],
   "source": [
    "fig, (ax1, ax2) = plt.subplots(1, 2, figsize=(14,6))\n",
    "fig_lin_corr(ax1, 'median_age','R0')\n",
    "fig_lin_corr(ax2, 'median_age','beta')"
   ]
  },
  {
   "cell_type": "code",
   "execution_count": null,
   "metadata": {
    "ExecuteTime": {
     "end_time": "2020-09-09T12:19:03.198458Z",
     "start_time": "2020-09-09T12:19:02.807683Z"
    }
   },
   "outputs": [],
   "source": [
    "fig, (ax1, ax2) = plt.subplots(1, 2, figsize=(14,6))\n",
    "fig_lin_corr(ax1, 'age_over_60','R0')\n",
    "fig_lin_corr(ax2, 'age_over_60','beta')"
   ]
  },
  {
   "cell_type": "code",
   "execution_count": null,
   "metadata": {
    "ExecuteTime": {
     "end_time": "2020-09-09T12:19:05.522345Z",
     "start_time": "2020-09-09T12:19:05.120063Z"
    }
   },
   "outputs": [],
   "source": [
    "fig, (ax1, ax2) = plt.subplots(1, 2, figsize=(14,6))\n",
    "fig_lin_corr(ax1,'age_over_60','deceased_sum')\n",
    "fig_lin_corr(ax2,'age_over_60','deceased_max')\n"
   ]
  },
  {
   "cell_type": "code",
   "execution_count": null,
   "metadata": {
    "ExecuteTime": {
     "end_time": "2020-09-09T12:19:08.070150Z",
     "start_time": "2020-09-09T12:19:07.661069Z"
    }
   },
   "outputs": [],
   "source": [
    "fig, (ax1, ax2) = plt.subplots(1, 2, figsize=(14,6))\n",
    "fig_lin_corr(ax1,'age_over_60','hosp_sum')\n",
    "fig_lin_corr(ax2,'age_over_60','hosp_max')\n"
   ]
  },
  {
   "cell_type": "markdown",
   "metadata": {},
   "source": [
    "# Maps"
   ]
  },
  {
   "cell_type": "code",
   "execution_count": null,
   "metadata": {
    "ExecuteTime": {
     "end_time": "2020-09-09T12:19:10.427090Z",
     "start_time": "2020-09-09T12:19:09.934672Z"
    }
   },
   "outputs": [],
   "source": [
    "fig,ax = plt.subplots(figsize=(8,6))\n",
    "arrondissementen_ext.plot(column='R0', cmap='viridis', ax=ax, legend=True)\n",
    "ax.set_title('R0 per arrondissement')"
   ]
  },
  {
   "cell_type": "code",
   "execution_count": null,
   "metadata": {
    "ExecuteTime": {
     "end_time": "2020-09-09T12:19:14.265485Z",
     "start_time": "2020-09-09T12:19:13.785646Z"
    }
   },
   "outputs": [],
   "source": [
    "fig,ax = plt.subplots(figsize=(8,6))\n",
    "arrondissementen_ext.plot(column='beta', cmap='viridis', ax=ax, legend=True)\n",
    "ax.set_title('beta per arrondissement')"
   ]
  },
  {
   "cell_type": "code",
   "execution_count": null,
   "metadata": {
    "ExecuteTime": {
     "end_time": "2020-08-28T09:07:00.300747Z",
     "start_time": "2020-08-28T09:06:55.684868Z"
    }
   },
   "outputs": [],
   "source": [
    "fig,ax = plt.subplots(figsize=(8,6))\n",
    "provinces.plot(ax=ax)"
   ]
  },
  {
   "cell_type": "code",
   "execution_count": null,
   "metadata": {},
   "outputs": [],
   "source": []
  }
 ],
 "metadata": {
  "kernelspec": {
   "display_name": "Python 3",
   "language": "python",
   "name": "python3"
  },
  "language_info": {
   "codemirror_mode": {
    "name": "ipython",
    "version": 3
   },
   "file_extension": ".py",
   "mimetype": "text/x-python",
   "name": "python",
   "nbconvert_exporter": "python",
   "pygments_lexer": "ipython3",
   "version": "3.8.2"
  },
  "toc": {
   "base_numbering": 1,
   "nav_menu": {},
   "number_sections": true,
   "sideBar": true,
   "skip_h1_title": false,
   "title_cell": "Table of Contents",
   "title_sidebar": "Contents",
   "toc_cell": false,
   "toc_position": {},
   "toc_section_display": true,
   "toc_window_display": true
  }
 },
 "nbformat": 4,
 "nbformat_minor": 4
}
