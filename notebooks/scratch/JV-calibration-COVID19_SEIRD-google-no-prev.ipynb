{
 "cells": [
  {
   "cell_type": "markdown",
   "metadata": {},
   "source": [
    "# Covid-19: From model prediction to model predictive control\n",
    "\n",
    "## Calibration of the age-stratified national model (google)\n",
    "\n",
    "*Original code by Ryan S. McGee. Modified by T.W. Alleman in consultation with the BIOMATH research unit headed by prof. Ingmar Nopens.*\n",
    "\n",
    "Copyright (c) 2020 by T.W. Alleman, BIOMATH, Ghent University. All Rights Reserved.\n",
    "\n",
    "This notebook accompanies our preprint: \"*A deterministic, age-stratified, extended SEIRD model for assessing the effect of non-pharmaceutical interventions on SARS-CoV-2 spread in Belgium*\"(https://doi.org/10.1101/2020.07.17.20156034)"
   ]
  },
  {
   "cell_type": "markdown",
   "metadata": {},
   "source": [
    "### Load required packages"
   ]
  },
  {
   "cell_type": "code",
   "execution_count": 10,
   "metadata": {
    "ExecuteTime": {
     "end_time": "2020-11-13T20:15:26.518527Z",
     "start_time": "2020-11-13T20:15:26.296430Z"
    }
   },
   "outputs": [
    {
     "name": "stdout",
     "output_type": "stream",
     "text": [
      "The autoreload extension is already loaded. To reload it, use:\n",
      "  %reload_ext autoreload\n"
     ]
    }
   ],
   "source": [
    "import random\n",
    "import os\n",
    "import numpy as np\n",
    "import json\n",
    "import corner\n",
    "import random\n",
    "\n",
    "import pandas as pd\n",
    "import datetime\n",
    "import scipy\n",
    "import matplotlib.dates as mdates\n",
    "import matplotlib\n",
    "import math\n",
    "import xarray as xr\n",
    "import emcee\n",
    "import matplotlib.pyplot as plt\n",
    "import datetime\n",
    "\n",
    "from covid19model.optimization import objective_fcns,pso\n",
    "from covid19model.models import models\n",
    "from covid19model.models.utils import draw_sample_COVID19_SEIRD_google\n",
    "from covid19model.models.time_dependant_parameter_fncs import google_lockdown_no_prev\n",
    "from covid19model.data import google\n",
    "from covid19model.data import sciensano\n",
    "from covid19model.data import model_parameters\n",
    "from covid19model.visualization.output import population_status, infected, _apply_tick_locator \n",
    "from covid19model.visualization.optimization import plot_fit, traceplot\n",
    "\n",
    "# OPTIONAL: Load the \"autoreload\" extension so that package code can change\n",
    "%load_ext autoreload\n",
    "# OPTIONAL: always reload modules so that as you change code in src, it gets loaded\n",
    "%autoreload 2"
   ]
  },
  {
   "cell_type": "markdown",
   "metadata": {},
   "source": [
    "# Load data\n",
    "\n",
    "### Load interaction matrices"
   ]
  },
  {
   "cell_type": "code",
   "execution_count": 2,
   "metadata": {
    "ExecuteTime": {
     "end_time": "2020-11-13T20:13:43.688552Z",
     "start_time": "2020-11-13T20:13:43.362989Z"
    }
   },
   "outputs": [],
   "source": [
    "initN, Nc_home, Nc_work, Nc_schools, Nc_transport, Nc_leisure, Nc_others, Nc_total = model_parameters.get_interaction_matrices(dataset='willem_2012')\n",
    "levels = initN.size"
   ]
  },
  {
   "cell_type": "code",
   "execution_count": 3,
   "metadata": {
    "ExecuteTime": {
     "end_time": "2020-11-13T20:13:44.543898Z",
     "start_time": "2020-11-13T20:13:43.691073Z"
    }
   },
   "outputs": [],
   "source": [
    "initN, Nc_home, Nc_work, Nc_schools, Nc_transport, Nc_leisure, Nc_others, Nc_total = model_parameters.get_interaction_matrices(dataset='willem_2012',intensity='all')\n",
    "initN, Nc_home_15, Nc_work_15, Nc_schools_15, Nc_transport_15, Nc_leisure_15, Nc_others_15, Nc_total_15 = model_parameters.get_interaction_matrices(dataset='willem_2012',intensity='more_15_min')\n",
    "initN, Nc_home_1hr, Nc_work_1hr, Nc_schools_1hr, Nc_transport_1hr, Nc_leisure_1hr, Nc_others_1hr, Nc_total_1hr = model_parameters.get_interaction_matrices(dataset='willem_2012',intensity='more_one_hour')"
   ]
  },
  {
   "cell_type": "code",
   "execution_count": 4,
   "metadata": {
    "ExecuteTime": {
     "end_time": "2020-11-13T20:13:44.585632Z",
     "start_time": "2020-11-13T20:13:44.545976Z"
    }
   },
   "outputs": [],
   "source": [
    "Nc_all = {'total': Nc_total, 'home':Nc_home, 'work': Nc_work, 'schools': Nc_schools, 'transport': Nc_transport, 'leisure': Nc_leisure, 'others': Nc_others}\n",
    "Nc_15min = {'total': Nc_total_15, 'home': Nc_home_15, 'work': Nc_work_15, 'schools': Nc_schools_15, 'transport': Nc_transport_15, 'leisure': Nc_leisure_15, 'others': Nc_others_15}\n",
    "Nc_1hr = {'total': Nc_total_1hr, 'home': Nc_home_1hr, 'work': Nc_work_1hr, 'schools': Nc_schools_1hr, 'transport': Nc_transport_1hr, 'leisure': Nc_leisure_1hr, 'others': Nc_others_1hr}"
   ]
  },
  {
   "cell_type": "markdown",
   "metadata": {},
   "source": [
    "### Scrape high-level Sciensano data"
   ]
  },
  {
   "cell_type": "code",
   "execution_count": 5,
   "metadata": {
    "ExecuteTime": {
     "end_time": "2020-11-13T20:13:46.018597Z",
     "start_time": "2020-11-13T20:13:45.897590Z"
    }
   },
   "outputs": [
    {
     "data": {
      "text/html": [
       "<div>\n",
       "<style scoped>\n",
       "    .dataframe tbody tr th:only-of-type {\n",
       "        vertical-align: middle;\n",
       "    }\n",
       "\n",
       "    .dataframe tbody tr th {\n",
       "        vertical-align: top;\n",
       "    }\n",
       "\n",
       "    .dataframe thead th {\n",
       "        text-align: right;\n",
       "    }\n",
       "</style>\n",
       "<table border=\"1\" class=\"dataframe\">\n",
       "  <thead>\n",
       "    <tr style=\"text-align: right;\">\n",
       "      <th></th>\n",
       "      <th>H_tot</th>\n",
       "      <th>ICU_tot</th>\n",
       "      <th>H_in</th>\n",
       "      <th>H_out</th>\n",
       "      <th>H_tot_cumsum</th>\n",
       "      <th>D_tot</th>\n",
       "      <th>D_25_44</th>\n",
       "      <th>D_45_64</th>\n",
       "      <th>D_65_74</th>\n",
       "      <th>D_75_84</th>\n",
       "      <th>D_85+</th>\n",
       "    </tr>\n",
       "    <tr>\n",
       "      <th>DATE</th>\n",
       "      <th></th>\n",
       "      <th></th>\n",
       "      <th></th>\n",
       "      <th></th>\n",
       "      <th></th>\n",
       "      <th></th>\n",
       "      <th></th>\n",
       "      <th></th>\n",
       "      <th></th>\n",
       "      <th></th>\n",
       "      <th></th>\n",
       "    </tr>\n",
       "  </thead>\n",
       "  <tbody>\n",
       "    <tr>\n",
       "      <th>2020-11-08</th>\n",
       "      <td>6955</td>\n",
       "      <td>1470</td>\n",
       "      <td>403</td>\n",
       "      <td>295</td>\n",
       "      <td>5669</td>\n",
       "      <td>204</td>\n",
       "      <td>1.0</td>\n",
       "      <td>11.0</td>\n",
       "      <td>29</td>\n",
       "      <td>55</td>\n",
       "      <td>107</td>\n",
       "    </tr>\n",
       "    <tr>\n",
       "      <th>2020-11-09</th>\n",
       "      <td>7221</td>\n",
       "      <td>1474</td>\n",
       "      <td>434</td>\n",
       "      <td>145</td>\n",
       "      <td>5958</td>\n",
       "      <td>185</td>\n",
       "      <td>0.0</td>\n",
       "      <td>13.0</td>\n",
       "      <td>25</td>\n",
       "      <td>58</td>\n",
       "      <td>89</td>\n",
       "    </tr>\n",
       "    <tr>\n",
       "      <th>2020-11-10</th>\n",
       "      <td>7058</td>\n",
       "      <td>1470</td>\n",
       "      <td>609</td>\n",
       "      <td>708</td>\n",
       "      <td>5859</td>\n",
       "      <td>163</td>\n",
       "      <td>1.0</td>\n",
       "      <td>15.0</td>\n",
       "      <td>21</td>\n",
       "      <td>47</td>\n",
       "      <td>78</td>\n",
       "    </tr>\n",
       "    <tr>\n",
       "      <th>2020-11-11</th>\n",
       "      <td>6879</td>\n",
       "      <td>1463</td>\n",
       "      <td>544</td>\n",
       "      <td>626</td>\n",
       "      <td>5777</td>\n",
       "      <td>121</td>\n",
       "      <td>1.0</td>\n",
       "      <td>10.0</td>\n",
       "      <td>15</td>\n",
       "      <td>46</td>\n",
       "      <td>49</td>\n",
       "    </tr>\n",
       "    <tr>\n",
       "      <th>2020-11-12</th>\n",
       "      <td>7010</td>\n",
       "      <td>1452</td>\n",
       "      <td>399</td>\n",
       "      <td>242</td>\n",
       "      <td>5934</td>\n",
       "      <td>19</td>\n",
       "      <td>0.0</td>\n",
       "      <td>2.0</td>\n",
       "      <td>3</td>\n",
       "      <td>5</td>\n",
       "      <td>9</td>\n",
       "    </tr>\n",
       "  </tbody>\n",
       "</table>\n",
       "</div>"
      ],
      "text/plain": [
       "            H_tot  ICU_tot  H_in  H_out  H_tot_cumsum  D_tot  D_25_44  \\\n",
       "DATE                                                                    \n",
       "2020-11-08   6955     1470   403    295          5669    204      1.0   \n",
       "2020-11-09   7221     1474   434    145          5958    185      0.0   \n",
       "2020-11-10   7058     1470   609    708          5859    163      1.0   \n",
       "2020-11-11   6879     1463   544    626          5777    121      1.0   \n",
       "2020-11-12   7010     1452   399    242          5934     19      0.0   \n",
       "\n",
       "            D_45_64  D_65_74  D_75_84  D_85+  \n",
       "DATE                                          \n",
       "2020-11-08     11.0       29       55    107  \n",
       "2020-11-09     13.0       25       58     89  \n",
       "2020-11-10     15.0       21       47     78  \n",
       "2020-11-11     10.0       15       46     49  \n",
       "2020-11-12      2.0        3        5      9  "
      ]
     },
     "execution_count": 5,
     "metadata": {},
     "output_type": "execute_result"
    }
   ],
   "source": [
    "df_sciensano = sciensano.get_sciensano_COVID19_data(update=False)\n",
    "df_sciensano.tail()"
   ]
  },
  {
   "cell_type": "markdown",
   "metadata": {},
   "source": [
    "### Scrape Google Community Mobility Reports"
   ]
  },
  {
   "cell_type": "code",
   "execution_count": 6,
   "metadata": {
    "ExecuteTime": {
     "end_time": "2020-11-13T20:13:46.756979Z",
     "start_time": "2020-11-13T20:13:46.700443Z"
    }
   },
   "outputs": [],
   "source": [
    "df_google = google.get_google_mobility_data(update=False, plot=False)"
   ]
  },
  {
   "cell_type": "markdown",
   "metadata": {},
   "source": [
    "### Load time-dependant parameters"
   ]
  },
  {
   "cell_type": "code",
   "execution_count": 7,
   "metadata": {
    "ExecuteTime": {
     "end_time": "2020-11-13T20:13:51.330710Z",
     "start_time": "2020-11-13T20:13:51.290005Z"
    }
   },
   "outputs": [],
   "source": [
    "from covid19model.models.time_dependant_parameter_fncs import google_lockdown\n",
    "\n",
    "def switch_beta(t,param,samples_dict):\n",
    "    if t < pd.to_datetime('2020-05-04'):\n",
    "        return np.random.choice(samples_dict['beta'],1,replace=False)\n",
    "    elif pd.to_datetime('2020-05-04') < t <= pd.to_datetime('2020-09-01'):\n",
    "        return np.random.choice(samples_dict['beta_summer'],1,replace=False)\n",
    "    else:\n",
    "        return np.random.choice(samples_dict['beta'],1,replace=False)"
   ]
  },
  {
   "cell_type": "markdown",
   "metadata": {},
   "source": [
    "# Wave 2: September 2020 - present"
   ]
  },
  {
   "cell_type": "markdown",
   "metadata": {},
   "source": [
    "## Recalibrate ramp as final calibration step"
   ]
  },
  {
   "cell_type": "code",
   "execution_count": 8,
   "metadata": {
    "ExecuteTime": {
     "end_time": "2020-11-13T20:13:59.539733Z",
     "start_time": "2020-11-13T20:13:59.211519Z"
    }
   },
   "outputs": [],
   "source": [
    "# Load samples dictionary of the first wave\n",
    "with open('../../data/interim/model_parameters/COVID19_SEIRD/calibrations/national/google/BE_2020-11-10_WAVE1_GOOGLE.json', 'r') as fp:\n",
    "    samples_dict = json.load(fp)\n",
    "\n",
    "with open('../../data/interim/model_parameters/COVID19_SEIRD/calibrations/national/google/initial_states_2020-09-01.json', 'r') as fp:\n",
    "    initial_states = json.load(fp)    "
   ]
  },
  {
   "cell_type": "code",
   "execution_count": 16,
   "metadata": {
    "ExecuteTime": {
     "end_time": "2020-11-13T20:16:26.052743Z",
     "start_time": "2020-11-13T20:16:26.002190Z"
    }
   },
   "outputs": [],
   "source": [
    "# Start of data collection\n",
    "start_data = '2020-09-01'\n",
    "# Start data of recalibration ramp\n",
    "start_calibration = '2020-09-01'\n",
    "# Last datapoint used to recalibrate the ramp\n",
    "end_calibration = '2020-11-12'\n",
    "# Path where figures should be stored\n",
    "fig_path = '../../results/calibrations/COVID19_SEIRD/national/'\n",
    "# Path where MCMC samples should be saved\n",
    "samples_path = '../../data/interim/model_parameters/COVID19_SEIRD/calibrations/national/'\n",
    "# Spatial unit: Belgium\n",
    "spatial_unit = 'BE_no_prev'"
   ]
  },
  {
   "cell_type": "code",
   "execution_count": 17,
   "metadata": {
    "ExecuteTime": {
     "end_time": "2020-11-13T20:16:28.742661Z",
     "start_time": "2020-11-13T20:16:28.243880Z"
    }
   },
   "outputs": [],
   "source": [
    "# Load the model parameters using `get_COVID19_SEIRD_parameters()`.\n",
    "params = model_parameters.get_COVID19_SEIRD_parameters()\n",
    "\n",
    "params.update({'df_google': df_google,\n",
    "              'Nc_all' : Nc_all,\n",
    "              'Nc_15min' : Nc_15min,\n",
    "              'Nc_1hr' : Nc_1hr,\n",
    "               'l' : 5,\n",
    "               'tau' : 5,\n",
    "              })\n",
    "\n",
    "# Initialize the model\n",
    "model = models.COVID19_SEIRD(initial_states, params, time_dependent_parameters={'Nc': google_lockdown_no_prev})"
   ]
  },
  {
   "cell_type": "code",
   "execution_count": null,
   "metadata": {
    "ExecuteTime": {
     "start_time": "2020-11-13T20:21:00.849Z"
    }
   },
   "outputs": [
    {
     "name": "stdout",
     "output_type": "stream",
     "text": [
      "------------------------------------\n",
      "CALIBRATING BETA AND COMPLIANCE RAMP\n",
      "------------------------------------\n",
      "\n",
      "Using data from 2020-09-01 until 2020-11-12\n",
      "\n",
      "1) Particle swarm optimization\n",
      "\n",
      "No constraints given.\n",
      "Best after iteration 1: [1.24747930e+02 4.22775603e-02 6.39815437e+00 7.11236861e+00] 373.8517369306902\n",
      "Best after iteration 2: [1.24747930e+02 4.22775603e-02 6.39815437e+00 7.11236861e+00] 373.8517369306902\n",
      "Best after iteration 3: [1.24747930e+02 4.22775603e-02 6.39815437e+00 7.11236861e+00] 373.8517369306902\n",
      "New best for swarm at iteration 4: [8.38811273e+01 4.28216264e-02 1.39968299e+01 1.19169771e+00] 362.78646235045903\n",
      "Best after iteration 4: [8.38811273e+01 4.28216264e-02 1.39968299e+01 1.19169771e+00] 362.78646235045903\n",
      "Best after iteration 5: [8.38811273e+01 4.28216264e-02 1.39968299e+01 1.19169771e+00] 362.78646235045903\n",
      "Best after iteration 6: [8.38811273e+01 4.28216264e-02 1.39968299e+01 1.19169771e+00] 362.78646235045903\n",
      "New best for swarm at iteration 7: [9.29882209e+01 4.31677287e-02 1.34297573e+01 1.00000000e-01] 357.1384411883749\n",
      "Best after iteration 7: [9.29882209e+01 4.31677287e-02 1.34297573e+01 1.00000000e-01] 357.1384411883749\n",
      "Best after iteration 8: [9.29882209e+01 4.31677287e-02 1.34297573e+01 1.00000000e-01] 357.1384411883749\n",
      "New best for swarm at iteration 9: [6.66672306e+01 4.37081259e-02 4.83845689e+00 1.00000000e-01] 339.66335665978266\n",
      "Best after iteration 9: [6.66672306e+01 4.37081259e-02 4.83845689e+00 1.00000000e-01] 339.66335665978266\n",
      "Best after iteration 10: [6.66672306e+01 4.37081259e-02 4.83845689e+00 1.00000000e-01] 339.66335665978266\n",
      "Best after iteration 11: [6.66672306e+01 4.37081259e-02 4.83845689e+00 1.00000000e-01] 339.66335665978266\n",
      "Best after iteration 12: [6.66672306e+01 4.37081259e-02 4.83845689e+00 1.00000000e-01] 339.66335665978266\n",
      "Best after iteration 13: [6.66672306e+01 4.37081259e-02 4.83845689e+00 1.00000000e-01] 339.66335665978266\n",
      "New best for swarm at iteration 14: [5.65276316e+01 4.37842058e-02 4.34069380e+00 1.00000000e-01] 339.0161916534552\n",
      "Best after iteration 14: [5.65276316e+01 4.37842058e-02 4.34069380e+00 1.00000000e-01] 339.0161916534552\n",
      "Best after iteration 15: [5.65276316e+01 4.37842058e-02 4.34069380e+00 1.00000000e-01] 339.0161916534552\n",
      "Best after iteration 16: [5.65276316e+01 4.37842058e-02 4.34069380e+00 1.00000000e-01] 339.0161916534552\n",
      "Best after iteration 17: [5.65276316e+01 4.37842058e-02 4.34069380e+00 1.00000000e-01] 339.0161916534552\n",
      "Best after iteration 18: [5.65276316e+01 4.37842058e-02 4.34069380e+00 1.00000000e-01] 339.0161916534552\n",
      "New best for swarm at iteration 19: [5.79537172e+01 4.42392941e-02 4.04472663e+00 1.00000000e-01] 338.67759126973016\n",
      "Best after iteration 19: [5.79537172e+01 4.42392941e-02 4.04472663e+00 1.00000000e-01] 338.67759126973016\n",
      "New best for swarm at iteration 20: [6.29707743e+01 4.40589444e-02 4.30750230e+00 1.00000000e-01] 338.1518895502527\n",
      "Best after iteration 20: [6.29707743e+01 4.40589444e-02 4.30750230e+00 1.00000000e-01] 338.1518895502527\n",
      "Best after iteration 21: [6.29707743e+01 4.40589444e-02 4.30750230e+00 1.00000000e-01] 338.1518895502527\n",
      "Best after iteration 22: [6.29707743e+01 4.40589444e-02 4.30750230e+00 1.00000000e-01] 338.1518895502527\n",
      "Best after iteration 23: [6.29707743e+01 4.40589444e-02 4.30750230e+00 1.00000000e-01] 338.1518895502527\n",
      "New best for swarm at iteration 24: [6.44716235e+01 4.42219842e-02 3.99884240e+00 1.00000000e-01] 337.9665714178701\n",
      "Best after iteration 24: [6.44716235e+01 4.42219842e-02 3.99884240e+00 1.00000000e-01] 337.9665714178701\n",
      "Best after iteration 25: [6.44716235e+01 4.42219842e-02 3.99884240e+00 1.00000000e-01] 337.9665714178701\n",
      "New best for swarm at iteration 26: [5.81128357e+01 4.40883932e-02 4.04567103e+00 1.00000000e-01] 337.55640524231416\n",
      "Best after iteration 26: [5.81128357e+01 4.40883932e-02 4.04567103e+00 1.00000000e-01] 337.55640524231416\n",
      "Best after iteration 27: [5.81128357e+01 4.40883932e-02 4.04567103e+00 1.00000000e-01] 337.55640524231416\n",
      "New best for swarm at iteration 28: [5.98482655e+01 4.41184656e-02 4.05398152e+00 1.00000000e-01] 337.4859516160586\n",
      "Best after iteration 28: [5.98482655e+01 4.41184656e-02 4.05398152e+00 1.00000000e-01] 337.4859516160586\n",
      "Best after iteration 29: [5.98482655e+01 4.41184656e-02 4.05398152e+00 1.00000000e-01] 337.4859516160586\n",
      "Best after iteration 30: [5.98482655e+01 4.41184656e-02 4.05398152e+00 1.00000000e-01] 337.4859516160586\n",
      "Best after iteration 31: [5.98482655e+01 4.41184656e-02 4.05398152e+00 1.00000000e-01] 337.4859516160586\n",
      "New best for swarm at iteration 32: [6.30109114e+01 4.40998582e-02 4.06130981e+00 1.00000000e-01] 337.3908894953175\n",
      "Best after iteration 32: [6.30109114e+01 4.40998582e-02 4.06130981e+00 1.00000000e-01] 337.3908894953175\n",
      "New best for swarm at iteration 33: [6.26533344e+01 4.40842539e-02 4.04990917e+00 1.00000000e-01] 337.3164669160393\n",
      "Best after iteration 33: [6.26533344e+01 4.40842539e-02 4.04990917e+00 1.00000000e-01] 337.3164669160393\n",
      "Best after iteration 34: [6.26533344e+01 4.40842539e-02 4.04990917e+00 1.00000000e-01] 337.3164669160393\n",
      "Best after iteration 35: [6.26533344e+01 4.40842539e-02 4.04990917e+00 1.00000000e-01] 337.3164669160393\n",
      "Best after iteration 36: [6.26533344e+01 4.40842539e-02 4.04990917e+00 1.00000000e-01] 337.3164669160393\n",
      "Best after iteration 37: [6.26533344e+01 4.40842539e-02 4.04990917e+00 1.00000000e-01] 337.3164669160393\n",
      "Best after iteration 38: [6.26533344e+01 4.40842539e-02 4.04990917e+00 1.00000000e-01] 337.3164669160393\n",
      "New best for swarm at iteration 39: [6.26550480e+01 4.41062478e-02 4.00629247e+00 1.00000000e-01] 337.31586217941214\n",
      "Best after iteration 39: [6.26550480e+01 4.41062478e-02 4.00629247e+00 1.00000000e-01] 337.31586217941214\n",
      "New best for swarm at iteration 40: [6.11792599e+01 4.40947559e-02 4.02541412e+00 1.00000000e-01] 337.29155951003435\n",
      "Best after iteration 40: [6.11792599e+01 4.40947559e-02 4.02541412e+00 1.00000000e-01] 337.29155951003435\n",
      "New best for swarm at iteration 41: [6.20494722e+01 4.41047095e-02 3.97963956e+00 1.12803754e-01] 337.2749286543571\n",
      "Best after iteration 41: [6.20494722e+01 4.41047095e-02 3.97963956e+00 1.12803754e-01] 337.2749286543571\n",
      "Best after iteration 42: [6.20494722e+01 4.41047095e-02 3.97963956e+00 1.12803754e-01] 337.2749286543571\n",
      "New best for swarm at iteration 43: [6.09968588e+01 4.40704768e-02 3.95382629e+00 1.05882736e-01] 337.17446097486487\n",
      "Best after iteration 43: [6.09968588e+01 4.40704768e-02 3.95382629e+00 1.05882736e-01] 337.17446097486487\n",
      "New best for swarm at iteration 44: [6.15501535e+01 4.40739033e-02 3.93820200e+00 1.19990767e-01] 337.16622448833596\n",
      "Best after iteration 44: [6.15501535e+01 4.40739033e-02 3.93820200e+00 1.19990767e-01] 337.16622448833596\n",
      "New best for swarm at iteration 45: [6.10422703e+01 4.40465088e-02 3.92146746e+00 1.23244893e-01] 337.15750203516507\n",
      "Best after iteration 45: [6.10422703e+01 4.40465088e-02 3.92146746e+00 1.23244893e-01] 337.15750203516507\n",
      "Best after iteration 46: [6.10422703e+01 4.40465088e-02 3.92146746e+00 1.23244893e-01] 337.15750203516507\n",
      "New best for swarm at iteration 47: [6.21779405e+01 4.40484896e-02 3.90335760e+00 1.18960450e-01] 337.1482935283442\n",
      "Best after iteration 47: [6.21779405e+01 4.40484896e-02 3.90335760e+00 1.18960450e-01] 337.1482935283442\n",
      "New best for swarm at iteration 48: [6.13705053e+01 4.40420609e-02 3.89985053e+00 1.20634649e-01] 337.14475363612274\n",
      "Best after iteration 48: [6.13705053e+01 4.40420609e-02 3.89985053e+00 1.20634649e-01] 337.14475363612274\n",
      "Best after iteration 49: [6.13705053e+01 4.40420609e-02 3.89985053e+00 1.20634649e-01] 337.14475363612274\n",
      "Best after iteration 50: [6.13705053e+01 4.40420609e-02 3.89985053e+00 1.20634649e-01] 337.14475363612274\n",
      "New best for swarm at iteration 51: [6.12278105e+01 4.40566485e-02 3.90816081e+00 1.14478062e-01] 337.13501852093333\n",
      "Best after iteration 51: [6.12278105e+01 4.40566485e-02 3.90816081e+00 1.14478062e-01] 337.13501852093333\n",
      "Best after iteration 52: [6.12278105e+01 4.40566485e-02 3.90816081e+00 1.14478062e-01] 337.13501852093333\n",
      "Best after iteration 53: [6.12278105e+01 4.40566485e-02 3.90816081e+00 1.14478062e-01] 337.13501852093333\n",
      "Best after iteration 54: [6.12278105e+01 4.40566485e-02 3.90816081e+00 1.14478062e-01] 337.13501852093333\n"
     ]
    },
    {
     "name": "stdout",
     "output_type": "stream",
     "text": [
      "Best after iteration 55: [6.12278105e+01 4.40566485e-02 3.90816081e+00 1.14478062e-01] 337.13501852093333\n",
      "New best for swarm at iteration 56: [6.14438469e+01 4.40623397e-02 3.90697603e+00 1.15995312e-01] 337.1307257177758\n",
      "Best after iteration 56: [6.14438469e+01 4.40623397e-02 3.90697603e+00 1.15995312e-01] 337.1307257177758\n",
      "Best after iteration 57: [6.14438469e+01 4.40623397e-02 3.90697603e+00 1.15995312e-01] 337.1307257177758\n",
      "Best after iteration 58: [6.14438469e+01 4.40623397e-02 3.90697603e+00 1.15995312e-01] 337.1307257177758\n",
      "Best after iteration 59: [6.14438469e+01 4.40623397e-02 3.90697603e+00 1.15995312e-01] 337.1307257177758\n",
      "Best after iteration 60: [6.14438469e+01 4.40623397e-02 3.90697603e+00 1.15995312e-01] 337.1307257177758\n",
      "Best after iteration 61: [6.14438469e+01 4.40623397e-02 3.90697603e+00 1.15995312e-01] 337.1307257177758\n",
      "Best after iteration 62: [6.14438469e+01 4.40623397e-02 3.90697603e+00 1.15995312e-01] 337.1307257177758\n",
      "Best after iteration 63: [6.14438469e+01 4.40623397e-02 3.90697603e+00 1.15995312e-01] 337.1307257177758\n",
      "Best after iteration 64: [6.14438469e+01 4.40623397e-02 3.90697603e+00 1.15995312e-01] 337.1307257177758\n",
      "Best after iteration 65: [6.14438469e+01 4.40623397e-02 3.90697603e+00 1.15995312e-01] 337.1307257177758\n",
      "Best after iteration 66: [6.14438469e+01 4.40623397e-02 3.90697603e+00 1.15995312e-01] 337.1307257177758\n",
      "Best after iteration 67: [6.14438469e+01 4.40623397e-02 3.90697603e+00 1.15995312e-01] 337.1307257177758\n",
      "Best after iteration 68: [6.14438469e+01 4.40623397e-02 3.90697603e+00 1.15995312e-01] 337.1307257177758\n",
      "New best for swarm at iteration 69: [6.13785772e+01 4.40628895e-02 3.90697016e+00 1.16023386e-01] 337.130669146719\n",
      "Best after iteration 69: [6.13785772e+01 4.40628895e-02 3.90697016e+00 1.16023386e-01] 337.130669146719\n",
      "Best after iteration 70: [6.13785772e+01 4.40628895e-02 3.90697016e+00 1.16023386e-01] 337.130669146719\n",
      "Best after iteration 71: [6.13785772e+01 4.40628895e-02 3.90697016e+00 1.16023386e-01] 337.130669146719\n",
      "New best for swarm at iteration 72: [6.13557477e+01 4.40619773e-02 3.90605543e+00 1.17112641e-01] 337.13061098301733\n",
      "Best after iteration 72: [6.13557477e+01 4.40619773e-02 3.90605543e+00 1.17112641e-01] 337.13061098301733\n",
      "New best for swarm at iteration 73: [6.14292042e+01 4.40622557e-02 3.90642898e+00 1.16454457e-01] 337.1304520325675\n",
      "Best after iteration 73: [6.14292042e+01 4.40622557e-02 3.90642898e+00 1.16454457e-01] 337.1304520325675\n",
      "Best after iteration 74: [6.14292042e+01 4.40622557e-02 3.90642898e+00 1.16454457e-01] 337.1304520325675\n",
      "Best after iteration 75: [6.14292042e+01 4.40622557e-02 3.90642898e+00 1.16454457e-01] 337.1304520325675\n",
      "Best after iteration 76: [6.14292042e+01 4.40622557e-02 3.90642898e+00 1.16454457e-01] 337.1304520325675\n",
      "Best after iteration 77: [6.14292042e+01 4.40622557e-02 3.90642898e+00 1.16454457e-01] 337.1304520325675\n",
      "Best after iteration 78: [6.14292042e+01 4.40622557e-02 3.90642898e+00 1.16454457e-01] 337.1304520325675\n",
      "Best after iteration 79: [6.14292042e+01 4.40622557e-02 3.90642898e+00 1.16454457e-01] 337.1304520325675\n",
      "Best after iteration 80: [6.14292042e+01 4.40622557e-02 3.90642898e+00 1.16454457e-01] 337.1304520325675\n",
      "New best for swarm at iteration 81: [6.14165291e+01 4.40618530e-02 3.90619546e+00 1.16525375e-01] 337.13042126300525\n",
      "Best after iteration 81: [6.14165291e+01 4.40618530e-02 3.90619546e+00 1.16525375e-01] 337.13042126300525\n",
      "New best for swarm at iteration 82: [6.14003226e+01 4.40622428e-02 3.90625128e+00 1.16631236e-01] 337.13040495214193\n",
      "Best after iteration 82: [6.14003226e+01 4.40622428e-02 3.90625128e+00 1.16631236e-01] 337.13040495214193\n",
      "Best after iteration 83: [6.14003226e+01 4.40622428e-02 3.90625128e+00 1.16631236e-01] 337.13040495214193\n",
      "New best for swarm at iteration 84: [6.13992126e+01 4.40621314e-02 3.90618334e+00 1.16665287e-01] 337.13039580766906\n",
      "Best after iteration 84: [6.13992126e+01 4.40621314e-02 3.90618334e+00 1.16665287e-01] 337.13039580766906\n",
      "Best after iteration 85: [6.13992126e+01 4.40621314e-02 3.90618334e+00 1.16665287e-01] 337.13039580766906\n",
      "New best for swarm at iteration 86: [6.14646707e+01 4.40626604e-02 3.90626375e+00 1.17035148e-01] 337.1303909281065\n",
      "Best after iteration 86: [6.14646707e+01 4.40626604e-02 3.90626375e+00 1.17035148e-01] 337.1303909281065\n",
      "New best for swarm at iteration 87: [6.14113460e+01 4.40624793e-02 3.90632693e+00 1.16656658e-01] 337.1303881277178\n",
      "Best after iteration 87: [6.14113460e+01 4.40624793e-02 3.90632693e+00 1.16656658e-01] 337.1303881277178\n",
      "Best after iteration 88: [6.14113460e+01 4.40624793e-02 3.90632693e+00 1.16656658e-01] 337.1303881277178\n",
      "New best for swarm at iteration 89: [6.14323098e+01 4.40610241e-02 3.90478276e+00 1.18200854e-01] 337.1300562149818\n",
      "Best after iteration 89: [6.14323098e+01 4.40610241e-02 3.90478276e+00 1.18200854e-01] 337.1300562149818\n",
      "Best after iteration 90: [6.14323098e+01 4.40610241e-02 3.90478276e+00 1.18200854e-01] 337.1300562149818\n",
      "Best after iteration 91: [6.14323098e+01 4.40610241e-02 3.90478276e+00 1.18200854e-01] 337.1300562149818\n",
      "Best after iteration 92: [6.14323098e+01 4.40610241e-02 3.90478276e+00 1.18200854e-01] 337.1300562149818\n",
      "New best for swarm at iteration 93: [6.13641291e+01 4.40603055e-02 3.90366103e+00 1.19221872e-01] 337.1298514606297\n",
      "Best after iteration 93: [6.13641291e+01 4.40603055e-02 3.90366103e+00 1.19221872e-01] 337.1298514606297\n",
      "Best after iteration 94: [6.13641291e+01 4.40603055e-02 3.90366103e+00 1.19221872e-01] 337.1298514606297\n",
      "New best for swarm at iteration 95: [6.14072565e+01 4.40608625e-02 3.90380099e+00 1.19412475e-01] 337.1297088759889\n",
      "Best after iteration 95: [6.14072565e+01 4.40608625e-02 3.90380099e+00 1.19412475e-01] 337.1297088759889\n",
      "Best after iteration 96: [6.14072565e+01 4.40608625e-02 3.90380099e+00 1.19412475e-01] 337.1297088759889\n",
      "New best for swarm at iteration 97: [6.13929958e+01 4.40616160e-02 3.90375275e+00 1.19994884e-01] 337.12963603059706\n",
      "Best after iteration 97: [6.13929958e+01 4.40616160e-02 3.90375275e+00 1.19994884e-01] 337.12963603059706\n",
      "Best after iteration 98: [6.13929958e+01 4.40616160e-02 3.90375275e+00 1.19994884e-01] 337.12963603059706\n",
      "New best for swarm at iteration 99: [6.14666116e+01 4.40631101e-02 3.90357560e+00 1.21377810e-01] 337.12955609195785\n",
      "Best after iteration 99: [6.14666116e+01 4.40631101e-02 3.90357560e+00 1.21377810e-01] 337.12955609195785\n",
      "New best for swarm at iteration 100: [6.14253315e+01 4.40620635e-02 3.90311904e+00 1.21289298e-01] 337.12936743010755\n",
      "Best after iteration 100: [6.14253315e+01 4.40620635e-02 3.90311904e+00 1.21289298e-01] 337.12936743010755\n",
      "Stopping search: maximum iterations reached --> 100\n",
      "\n",
      "2) Markov-Chain Monte-Carlo sampling\n",
      "\n"
     ]
    },
    {
     "name": "stderr",
     "output_type": "stream",
     "text": [
      " 12%|█▏        | 362/3000 [28:32<3:31:43,  4.82s/it]"
     ]
    }
   ],
   "source": [
    "warmup=0\n",
    "maxiter = 100\n",
    "popsize = 100\n",
    "steps_mcmc = 3000\n",
    "discard = 1000\n",
    "\n",
    "# define dataset\n",
    "data=[df_sciensano['H_in'][start_calibration:end_calibration]]\n",
    "states = [[\"H_in\"]]\n",
    "\n",
    "####################################################\n",
    "####### CALIBRATING BETA AND COMPLIANCE RAMP #######\n",
    "####################################################\n",
    "\n",
    "print('------------------------------------')\n",
    "print('CALIBRATING BETA AND COMPLIANCE RAMP')\n",
    "print('------------------------------------\\n')\n",
    "print('Using data from '+start_calibration+' until '+end_calibration+'\\n')\n",
    "print('1) Particle swarm optimization\\n')\n",
    "\n",
    "# set PSO optimisation settings\n",
    "parNames = ['sigma_data','beta','l','tau']\n",
    "bounds=((1,2000),(0.010,0.060),(0.1,20),(0.1,20))\n",
    "# run PSO optimisation\n",
    "theta = pso.fit_pso(model,data,parNames,states,bounds,maxiter=maxiter,popsize=popsize,start_date=start_calibration,warmup=warmup)\n",
    "\n",
    "# run MCMC sampler\n",
    "print('\\n2) Markov-Chain Monte-Carlo sampling\\n')\n",
    "parNames_mcmc = parNames\n",
    "bounds_mcmc=((1,2000),(0.020,0.060),(0.001,20),(0.001,20))\n",
    "\n",
    "pos = theta + [1, 1e-3, 1e-3, 1e-3]* np.random.randn(10, 4)\n",
    "nwalkers, ndim = pos.shape\n",
    "sampler = emcee.EnsembleSampler(nwalkers, ndim, objective_fcns.log_probability,\n",
    "                    args=(model, bounds_mcmc, data, states, parNames_mcmc, None, start_calibration, warmup))\n",
    "sampler.run_mcmc(pos, steps_mcmc, progress=True)\n",
    "\n",
    "try:\n",
    "    sampler.get_autocorr_time()\n",
    "except:\n",
    "    print('Warning: The chain is shorter than 50 times the integrated autocorrelation time for 4 parameter(s).\\nUse this estimate with caution and run a longer chain!')\n",
    "\n",
    "from covid19model.optimization.run_optimization import checkplots\n",
    "checkplots(sampler.get_chain(discard=discard,flat=False), sampler.get_chain(discard=discard,flat=True), fig_path, spatial_unit, \n",
    "            figname='BETA_RAMP_GOOGLE_WAVE2', labels=['$\\sigma_{data}$','$\\\\beta$','l','$\\\\tau$'])\n",
    "\n",
    "#############################################\n",
    "####### Output to dictionary ################\n",
    "#############################################\n",
    "\n",
    "samples_dict_wave2 = {\n",
    "    'beta': sampler.get_chain(discard=discard,flat=True)[:,1].tolist(),\n",
    "    'l' : sampler.get_chain(discard=discard,flat=True)[:,2].tolist(),\n",
    "    'tau' : sampler.get_chain(discard=discard,flat=True)[:,3].tolist(),\n",
    "}\n",
    "\n",
    "with open(samples_path+str(spatial_unit)+'_'+str(datetime.date.today())+'_WAVE2_GOOGLE.json', 'w') as fp:\n",
    "    json.dump(samples_dict_wave2, fp)"
   ]
  },
  {
   "cell_type": "markdown",
   "metadata": {},
   "source": [
    "## Visualize fit"
   ]
  },
  {
   "cell_type": "code",
   "execution_count": null,
   "metadata": {},
   "outputs": [],
   "source": [
    "end_sim = '2021-01-01'\n",
    "\n",
    "fig,ax=plt.subplots(figsize=(10,4))\n",
    "for i in range(200):\n",
    "    # Sampling\n",
    "    model.parameters['beta'] = np.random.choice(sampler.get_chain(discard=discard,flat=True)[:,1].tolist(),1,replace=False)[0]\n",
    "    idx,model.parameters['l'] = random.choice(list(enumerate(sampler.get_chain(discard=discard,flat=True)[:,2].tolist())))\n",
    "    model.parameters['tau'] = sampler.get_chain(discard=discard,flat=True)[:,3].tolist()[idx]    \n",
    "    model.parameters['prevention'] = sampler.get_chain(discard=discard,flat=True)[:,4].tolist()[idx]    \n",
    "    # Simulate\n",
    "    y_model = model.sim(end_sim,start_date=start_calibration,warmup=0)\n",
    "    # Plot\n",
    "    ax.plot(y_model['time'],y_model[\"H_in\"].sum(dim=\"Nc\"),color='blue',alpha=0.01)\n",
    "\n",
    "ax.scatter(df_sciensano[start_calibration:end_calibration].index,df_sciensano['H_in'][start_calibration:end_calibration],color='black',alpha=0.6,linestyle='None',facecolors='none')\n",
    "ax = _apply_tick_locator(ax)\n",
    "ax.set_xlim('2020-09-01',end_sim)\n",
    "plt.savefig(fig_path+'others/BETA_RAMP_FIT_WAVE2_GOOGLE.pdf', dpi=400, bbox_inches='tight',orientation='portrait', papertype='a4')"
   ]
  },
  {
   "cell_type": "markdown",
   "metadata": {},
   "source": [
    "## Make a prediction under current contact behaviour"
   ]
  },
  {
   "cell_type": "code",
   "execution_count": null,
   "metadata": {},
   "outputs": [],
   "source": [
    "end_sim = '2021-02-01'\n",
    "n=200\n",
    "percentile = 0.95\n",
    "\n",
    "y_model = model.sim(end_sim,start_date=start_calibration,warmup=0,N=n,draw_fcn=draw_sample_COVID19_SEIRD_google,samples=samples_dict_wave2)\n",
    "\n",
    "fig,ax = plt.subplots(figsize=(10,4))\n",
    "ax.fill_between(pd.to_datetime(y_model['time'].values),y_model[\"H_tot\"].quantile(1-percentile,dim=\"draws\").sum(dim=\"Nc\"), y_model[\"H_tot\"].quantile(percentile,dim=\"draws\").sum(dim=\"Nc\"),alpha=0.20, color = 'blue')\n",
    "ax.fill_between(pd.to_datetime(y_model['time'].values),y_model[\"H_tot\"].quantile(1-0.68,dim=\"draws\").sum(dim=\"Nc\"), y_model[\"H_tot\"].quantile(0.68,dim=\"draws\").sum(dim=\"Nc\"),alpha=0.35, color = 'blue')\n",
    "ax.plot(y_model['time'],y_model[\"H_tot\"].mean(dim=\"draws\").sum(dim=\"Nc\"),'--', color='blue')\n",
    "ax.scatter(df_sciensano[start_calibration:end_calibration].index,df_sciensano['H_tot'][start_calibration:end_calibration],color='black',alpha=0.4,linestyle='None',facecolors='none')\n",
    "ax.set_ylabel('Total patients in Belgian hospitals')\n",
    "ax = _apply_tick_locator(ax)\n",
    "plt.savefig(fig_path+'others/LOCKDOWN_WAVE2_GOOGLE.pdf', dpi=400, bbox_inches='tight',orientation='portrait', papertype='a4')"
   ]
  },
  {
   "cell_type": "code",
   "execution_count": null,
   "metadata": {},
   "outputs": [],
   "source": []
  }
 ],
 "metadata": {
  "kernelspec": {
   "display_name": "COVID19",
   "language": "python",
   "name": "python3"
  },
  "language_info": {
   "codemirror_mode": {
    "name": "ipython",
    "version": 3
   },
   "file_extension": ".py",
   "mimetype": "text/x-python",
   "name": "python",
   "nbconvert_exporter": "python",
   "pygments_lexer": "ipython3",
   "version": "3.7.7"
  },
  "toc": {
   "base_numbering": 1,
   "nav_menu": {},
   "number_sections": true,
   "sideBar": true,
   "skip_h1_title": false,
   "title_cell": "Table of Contents",
   "title_sidebar": "Contents",
   "toc_cell": false,
   "toc_position": {},
   "toc_section_display": true,
   "toc_window_display": true
  }
 },
 "nbformat": 4,
 "nbformat_minor": 4
}
