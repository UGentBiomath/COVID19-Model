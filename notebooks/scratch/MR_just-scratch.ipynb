{
 "cells": [
  {
   "cell_type": "code",
   "execution_count": null,
   "metadata": {
    "ExecuteTime": {
     "end_time": "2021-05-27T15:26:30.622959Z",
     "start_time": "2021-05-27T15:26:30.617010Z"
    }
   },
   "outputs": [],
   "source": [
    "import numpy as np"
   ]
  },
  {
   "cell_type": "code",
   "execution_count": 5,
   "metadata": {
    "ExecuteTime": {
     "end_time": "2021-06-03T12:00:07.843760Z",
     "start_time": "2021-06-03T12:00:07.829798Z"
    }
   },
   "outputs": [
    {
     "data": {
      "text/plain": [
       "9"
      ]
     },
     "execution_count": 5,
     "metadata": {},
     "output_type": "execute_result"
    }
   ],
   "source": [
    "import json\n",
    "from covid19model.optimization.utils import samples_dict_to_emcee_chain # used for corner plots\n",
    "\n",
    "json_loc = '../../data/interim/model_parameters/COVID19_SEIRD/calibrations/national'\n",
    "json_name = 'initial_states_2020-09-01.json'\n",
    "\n",
    "# Load dict and thin/discard\n",
    "states_dict = json.load(open(f'{json_loc}/{json_name}'))\n",
    "# nwalkers=samples_dict[f'n_chains_FULL']\n",
    "# discard=0\n",
    "# thin=50\n",
    "# samples,flat_samples = samples_dict_to_emcee_chain(samples_dict, parNames_mcmc, nwalkers, discard=discard, thin=thin)\n",
    "states_dict['E']"
   ]
  },
  {
   "cell_type": "code",
   "execution_count": 10,
   "metadata": {
    "ExecuteTime": {
     "end_time": "2021-06-01T14:50:33.401465Z",
     "start_time": "2021-06-01T14:50:31.321243Z"
    }
   },
   "outputs": [
    {
     "data": {
      "text/plain": [
       "array([[1.11605717e-04, 1.26126907e-04, 1.18990779e-04, ...,\n",
       "        1.58405437e-04, 1.38822575e-04, 8.59654442e-05],\n",
       "       [1.79157881e-02, 1.53091966e-02, 1.89179920e-02, ...,\n",
       "        1.26108969e-02, 9.04516888e-03, 7.18465688e-03],\n",
       "       [1.12443268e-04, 1.40912185e-04, 1.35988315e-04, ...,\n",
       "        1.56668566e-04, 1.04654602e-04, 8.37057768e-05],\n",
       "       ...,\n",
       "       [3.60270011e-04, 4.15696167e-04, 3.75492688e-04, ...,\n",
       "        4.76586873e-04, 3.14601982e-04, 2.10775521e-04],\n",
       "       [1.19341981e-04, 1.43730670e-04, 1.36121399e-04, ...,\n",
       "        1.58103737e-04, 1.02107308e-04, 5.40453333e-05],\n",
       "       [1.08559860e-04, 1.21493750e-04, 1.44393095e-04, ...,\n",
       "        1.71957122e-04, 1.22129843e-04, 7.29386560e-05]])"
      ]
     },
     "execution_count": 10,
     "metadata": {},
     "output_type": "execute_result"
    }
   ],
   "source": [
    "from covid19model.models.utils import initial_state\n",
    "\n",
    "initial_state(dist='frac', agg='mun', number=3, age=-1)"
   ]
  },
  {
   "cell_type": "code",
   "execution_count": 94,
   "metadata": {
    "ExecuteTime": {
     "end_time": "2021-06-15T09:56:09.282969Z",
     "start_time": "2021-06-15T09:56:09.273992Z"
    }
   },
   "outputs": [
    {
     "data": {
      "text/plain": [
       "11"
      ]
     },
     "execution_count": 94,
     "metadata": {},
     "output_type": "execute_result"
    }
   ],
   "source": [
    "import datetime\n",
    "\n",
    "initial_time = datetime.datetime(2021, 6, 14, 0, 0, 0)\n",
    "intermediate_time = datetime.datetime.now()\n",
    "\n",
    "runtime = intermediate_time - initial_time\n",
    "totalMinute, second = divmod(runtime.seconds, 60)\n",
    "hour, minute = divmod(totalMinute, 60)\n",
    "runtime.days\n",
    "\n",
    "# runtime = (intermediate_time - initial_time)\n",
    "# totalMinute, second = divmod(runtime.seconds, 60)\n",
    "# hour, minute = divmod(totalMinute, 60)\n",
    "# print(f\"Run time PSO: {hour}h{minute:02}m{second:02}s\")"
   ]
  },
  {
   "cell_type": "code",
   "execution_count": 105,
   "metadata": {
    "ExecuteTime": {
     "end_time": "2021-06-15T18:14:14.303772Z",
     "start_time": "2021-06-15T18:14:14.124761Z"
    }
   },
   "outputs": [
    {
     "data": {
      "text/plain": [
       "dict_keys(['Nc', 'h', 'c', 'm_C', 'm_ICU', 'dc_R', 'dc_D', 'dICU_R', 'dICU_D', 'dICUrec', 'a', 's', 'da', 'dm', 'dhospital', 'sigma', 'omega', 'zeta', 'beta', 'alpha', 'K_inf1', 'K_inf2', 'K_hosp'])"
      ]
     },
     "execution_count": 105,
     "metadata": {},
     "output_type": "execute_result"
    }
   ],
   "source": [
    "from covid19model.data.model_parameters import get_COVID19_SEIRD_parameters\n",
    "\n",
    "params = get_COVID19_SEIRD_parameters(spatial=None)\n",
    "\n",
    "params.keys()"
   ]
  },
  {
   "cell_type": "code",
   "execution_count": 141,
   "metadata": {
    "ExecuteTime": {
     "end_time": "2021-06-15T19:09:31.361782Z",
     "start_time": "2021-06-15T19:09:31.355798Z"
    }
   },
   "outputs": [
    {
     "data": {
      "text/plain": [
       "0.66"
      ]
     },
     "execution_count": 141,
     "metadata": {},
     "output_type": "execute_result"
    }
   ],
   "source": [
    "params['omega']"
   ]
  },
  {
   "cell_type": "code",
   "execution_count": 135,
   "metadata": {
    "ExecuteTime": {
     "end_time": "2021-06-15T19:04:37.842962Z",
     "start_time": "2021-06-15T19:04:37.835980Z"
    }
   },
   "outputs": [
    {
     "data": {
      "text/plain": [
       "12.569820585708385"
      ]
     },
     "execution_count": 135,
     "metadata": {},
     "output_type": "execute_result"
    }
   ],
   "source": [
    "import numpy as np\n",
    "sum(np.array([1305219, 1298970,1395385,1498535,1524152,1601891,1347696,908725,658753])*params['dICU_D'])/11539326"
   ]
  },
  {
   "cell_type": "code",
   "execution_count": 142,
   "metadata": {
    "ExecuteTime": {
     "end_time": "2021-06-15T19:12:15.017861Z",
     "start_time": "2021-06-15T19:12:15.007914Z"
    }
   },
   "outputs": [
    {
     "data": {
      "text/plain": [
       "array([[ 7.70501356,  1.22596453,  1.03380337,  2.39695359,  1.3644924 ,\n",
       "         1.05753481,  0.58895731,  0.23580222,  0.11883674],\n",
       "       [ 1.20142591, 10.37362046,  2.44065057,  2.32222936,  2.83390018,\n",
       "         0.9293163 ,  0.37101187,  0.30359433,  0.08273862],\n",
       "       [ 0.93217498,  2.24567041,  6.06208243,  3.56617275,  3.5130545 ,\n",
       "         2.95018367,  0.65363268,  0.30727808,  0.37229272],\n",
       "       [ 2.03131528,  2.00818506,  3.35166488,  5.52533572,  4.90135922,\n",
       "         3.21770998,  1.34628637,  0.55425187,  0.32999622],\n",
       "       [ 1.03330221,  2.18988695,  2.95040493,  4.37980786,  5.5590411 ,\n",
       "         3.3626401 ,  1.479064  ,  0.99669675,  0.33434559],\n",
       "       [ 0.88581138,  0.79431186,  2.74053997,  3.18035626,  3.71938158,\n",
       "         3.82337919,  1.43651785,  0.62789418,  0.4146591 ],\n",
       "       [ 0.64878605,  0.41704834,  0.79853129,  1.74999747,  2.15153499,\n",
       "         1.88921822,  1.96345279,  0.91675176,  0.37831674],\n",
       "       [ 0.33820334,  0.4443289 ,  0.48876723,  0.93803589,  1.88771663,\n",
       "         1.07515201,  1.19361444,  1.50296116,  0.36336634],\n",
       "       [ 0.26476782,  0.18810643,  0.91989767,  0.86757241,  0.98367999,\n",
       "         1.10295829,  0.76516016,  0.56445481,  1.27443982]])"
      ]
     },
     "execution_count": 142,
     "metadata": {},
     "output_type": "execute_result"
    }
   ],
   "source": [
    "params['Nc']"
   ]
  }
 ],
 "metadata": {
  "kernelspec": {
   "display_name": "Python 3",
   "language": "python",
   "name": "python3"
  },
  "language_info": {
   "codemirror_mode": {
    "name": "ipython",
    "version": 3
   },
   "file_extension": ".py",
   "mimetype": "text/x-python",
   "name": "python",
   "nbconvert_exporter": "python",
   "pygments_lexer": "ipython3",
   "version": "3.7.3"
  },
  "toc": {
   "base_numbering": 1,
   "nav_menu": {},
   "number_sections": true,
   "sideBar": true,
   "skip_h1_title": false,
   "title_cell": "Table of Contents",
   "title_sidebar": "Contents",
   "toc_cell": false,
   "toc_position": {},
   "toc_section_display": true,
   "toc_window_display": false
  }
 },
 "nbformat": 4,
 "nbformat_minor": 2
}
