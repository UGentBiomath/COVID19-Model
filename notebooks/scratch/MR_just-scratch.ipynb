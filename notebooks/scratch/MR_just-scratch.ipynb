{
 "cells": [
  {
   "cell_type": "code",
   "execution_count": null,
   "metadata": {
    "ExecuteTime": {
     "end_time": "2021-05-27T15:26:30.622959Z",
     "start_time": "2021-05-27T15:26:30.617010Z"
    }
   },
   "outputs": [],
   "source": [
    "import numpy as np"
   ]
  },
  {
   "cell_type": "code",
   "execution_count": 5,
   "metadata": {
    "ExecuteTime": {
     "end_time": "2021-06-03T12:00:07.843760Z",
     "start_time": "2021-06-03T12:00:07.829798Z"
    }
   },
   "outputs": [
    {
     "data": {
      "text/plain": [
       "9"
      ]
     },
     "execution_count": 5,
     "metadata": {},
     "output_type": "execute_result"
    }
   ],
   "source": [
    "import json\n",
    "from covid19model.optimization.utils import samples_dict_to_emcee_chain # used for corner plots\n",
    "\n",
    "json_loc = '../../data/interim/model_parameters/COVID19_SEIRD/calibrations/national'\n",
    "json_name = 'initial_states_2020-09-01.json'\n",
    "\n",
    "# Load dict and thin/discard\n",
    "states_dict = json.load(open(f'{json_loc}/{json_name}'))\n",
    "# nwalkers=samples_dict[f'n_chains_FULL']\n",
    "# discard=0\n",
    "# thin=50\n",
    "# samples,flat_samples = samples_dict_to_emcee_chain(samples_dict, parNames_mcmc, nwalkers, discard=discard, thin=thin)\n",
    "states_dict['E']"
   ]
  },
  {
   "cell_type": "code",
   "execution_count": 10,
   "metadata": {
    "ExecuteTime": {
     "end_time": "2021-06-01T14:50:33.401465Z",
     "start_time": "2021-06-01T14:50:31.321243Z"
    }
   },
   "outputs": [
    {
     "data": {
      "text/plain": [
       "array([[1.11605717e-04, 1.26126907e-04, 1.18990779e-04, ...,\n",
       "        1.58405437e-04, 1.38822575e-04, 8.59654442e-05],\n",
       "       [1.79157881e-02, 1.53091966e-02, 1.89179920e-02, ...,\n",
       "        1.26108969e-02, 9.04516888e-03, 7.18465688e-03],\n",
       "       [1.12443268e-04, 1.40912185e-04, 1.35988315e-04, ...,\n",
       "        1.56668566e-04, 1.04654602e-04, 8.37057768e-05],\n",
       "       ...,\n",
       "       [3.60270011e-04, 4.15696167e-04, 3.75492688e-04, ...,\n",
       "        4.76586873e-04, 3.14601982e-04, 2.10775521e-04],\n",
       "       [1.19341981e-04, 1.43730670e-04, 1.36121399e-04, ...,\n",
       "        1.58103737e-04, 1.02107308e-04, 5.40453333e-05],\n",
       "       [1.08559860e-04, 1.21493750e-04, 1.44393095e-04, ...,\n",
       "        1.71957122e-04, 1.22129843e-04, 7.29386560e-05]])"
      ]
     },
     "execution_count": 10,
     "metadata": {},
     "output_type": "execute_result"
    }
   ],
   "source": [
    "from covid19model.models.utils import initial_state\n",
    "\n",
    "initial_state(dist='frac', agg='mun', number=3, age=-1)"
   ]
  }
 ],
 "metadata": {
  "kernelspec": {
   "display_name": "Python 3",
   "language": "python",
   "name": "python3"
  },
  "language_info": {
   "codemirror_mode": {
    "name": "ipython",
    "version": 3
   },
   "file_extension": ".py",
   "mimetype": "text/x-python",
   "name": "python",
   "nbconvert_exporter": "python",
   "pygments_lexer": "ipython3",
   "version": "3.7.3"
  },
  "toc": {
   "base_numbering": 1,
   "nav_menu": {},
   "number_sections": true,
   "sideBar": true,
   "skip_h1_title": false,
   "title_cell": "Table of Contents",
   "title_sidebar": "Contents",
   "toc_cell": false,
   "toc_position": {},
   "toc_section_display": true,
   "toc_window_display": false
  }
 },
 "nbformat": 4,
 "nbformat_minor": 2
}
