{
 "cells": [
  {
   "cell_type": "code",
   "execution_count": 28,
   "metadata": {
    "ExecuteTime": {
     "end_time": "2021-05-19T09:14:59.439891Z",
     "start_time": "2021-05-19T09:14:59.415243Z"
    }
   },
   "outputs": [
    {
     "data": {
      "text/plain": [
       "False"
      ]
     },
     "execution_count": 28,
     "metadata": {},
     "output_type": "execute_result"
    }
   ],
   "source": [
    "import numpy as np\n",
    "np.clip?\n",
    "\n",
    "values=[-1, -.5, 0, .5, 1, 1.5, 2]\n",
    "lower=[0, 0, 0, 0, 0, 0, 0]\n",
    "upper=[1, 1, 1, 1, 1, 1, 1]\n",
    "\n",
    "np.clip(values, lower, upper)\n",
    "\n",
    "bounds=((0.0, 1), (0.01, 1), (0.01, 1))\n",
    "\n",
    "[bounds[i][0] for i in range(len(bounds))]"
   ]
  }
 ],
 "metadata": {
  "kernelspec": {
   "display_name": "Python 3",
   "language": "python",
   "name": "python3"
  },
  "language_info": {
   "codemirror_mode": {
    "name": "ipython",
    "version": 3
   },
   "file_extension": ".py",
   "mimetype": "text/x-python",
   "name": "python",
   "nbconvert_exporter": "python",
   "pygments_lexer": "ipython3",
   "version": "3.7.3"
  },
  "toc": {
   "base_numbering": 1,
   "nav_menu": {},
   "number_sections": true,
   "sideBar": true,
   "skip_h1_title": false,
   "title_cell": "Table of Contents",
   "title_sidebar": "Contents",
   "toc_cell": false,
   "toc_position": {},
   "toc_section_display": true,
   "toc_window_display": false
  }
 },
 "nbformat": 4,
 "nbformat_minor": 2
}
