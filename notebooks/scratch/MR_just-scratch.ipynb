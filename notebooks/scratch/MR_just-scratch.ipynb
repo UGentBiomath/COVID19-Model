{
 "cells": [
  {
   "cell_type": "code",
   "execution_count": 1,
   "metadata": {
    "ExecuteTime": {
     "end_time": "2022-03-16T13:51:23.472081Z",
     "start_time": "2022-03-16T13:51:22.398530Z"
    }
   },
   "outputs": [],
   "source": [
    "import numpy as np\n",
    "import pandas as pd\n",
    "from covid19model.data import sciensano \n",
    "from covid19model.models.time_dependant_parameter_fncs import make_vaccination_rescaling_function\n"
   ]
  },
  {
   "cell_type": "code",
   "execution_count": 2,
   "metadata": {
    "ExecuteTime": {
     "end_time": "2022-03-16T13:51:24.805561Z",
     "start_time": "2022-03-16T13:51:24.725912Z"
    }
   },
   "outputs": [],
   "source": [
    "rescaling_df = sciensano.get_vaccination_rescaling_values(spatial=True)\n",
    "E_susc_function = make_vaccination_rescaling_function(rescaling_df).E_susc\n",
    "E_inf_function = make_vaccination_rescaling_function(rescaling_df).E_inf\n",
    "E_hosp_function = make_vaccination_rescaling_function(rescaling_df).E_hosp"
   ]
  },
  {
   "cell_type": "code",
   "execution_count": 15,
   "metadata": {
    "ExecuteTime": {
     "end_time": "2022-03-16T13:52:35.752987Z",
     "start_time": "2022-03-16T13:52:35.736000Z"
    }
   },
   "outputs": [
    {
     "data": {
      "text/plain": [
       "array([[1.        , 0.32992705, 0.45490337, 0.45690154, 0.44528378,\n",
       "        0.45302818, 0.44225036, 0.44468677, 0.49789776, 0.51950935],\n",
       "       [1.        , 0.33536206, 0.45321467, 0.46348641, 0.45267802,\n",
       "        0.45555111, 0.44771642, 0.45563464, 0.49578723, 0.52873131],\n",
       "       [1.        , 0.4820527 , 0.49259676, 0.52691256, 0.50133923,\n",
       "        0.50281572, 0.49553717, 0.49340694, 0.51371086, 0.56967703],\n",
       "       [1.        , 0.70907682, 0.65812527, 0.60809697, 0.59040873,\n",
       "        0.56561181, 0.55433988, 0.55594777, 0.5614063 , 0.60699031],\n",
       "       [1.        , 0.26542068, 0.42122072, 0.43758369, 0.43789869,\n",
       "        0.45050985, 0.44077518, 0.44989768, 0.49523321, 0.5220936 ],\n",
       "       [1.        , 0.27146842, 0.4193206 , 0.42910527, 0.43293122,\n",
       "        0.44198647, 0.43371847, 0.44995121, 0.49202831, 0.5164089 ],\n",
       "       [1.        , 0.50890488, 0.51982089, 0.5643038 , 0.53845327,\n",
       "        0.51359964, 0.49838483, 0.49462527, 0.52260289, 0.59716616],\n",
       "       [1.        , 0.56079353, 0.55146865, 0.584047  , 0.54794222,\n",
       "        0.53050821, 0.51248314, 0.50100161, 0.53072873, 0.59660544],\n",
       "       [1.        , 0.30579039, 0.43684404, 0.45305306, 0.43994985,\n",
       "        0.44931919, 0.43162408, 0.43313135, 0.48733681, 0.51319022],\n",
       "       [1.        , 0.48588755, 0.50143949, 0.55439687, 0.54983907,\n",
       "        0.5391496 , 0.51050733, 0.49046765, 0.54799602, 0.60715796],\n",
       "       [1.        , 0.47393015, 0.4998224 , 0.54021355, 0.52402379,\n",
       "        0.51177017, 0.49942414, 0.4867738 , 0.51958696, 0.57447332]])"
      ]
     },
     "execution_count": 15,
     "metadata": {},
     "output_type": "execute_result"
    }
   ],
   "source": [
    "E_susc_function(pd.Timestamp(2021, 10, 1), 0, 0)"
   ]
  }
 ],
 "metadata": {
  "kernelspec": {
   "display_name": "Python 3 (ipykernel)",
   "language": "python",
   "name": "python3"
  },
  "language_info": {
   "codemirror_mode": {
    "name": "ipython",
    "version": 3
   },
   "file_extension": ".py",
   "mimetype": "text/x-python",
   "name": "python",
   "nbconvert_exporter": "python",
   "pygments_lexer": "ipython3",
   "version": "3.7.3"
  },
  "toc": {
   "base_numbering": 1,
   "nav_menu": {},
   "number_sections": true,
   "sideBar": true,
   "skip_h1_title": false,
   "title_cell": "Table of Contents",
   "title_sidebar": "Contents",
   "toc_cell": false,
   "toc_position": {},
   "toc_section_display": true,
   "toc_window_display": false
  }
 },
 "nbformat": 4,
 "nbformat_minor": 2
}
