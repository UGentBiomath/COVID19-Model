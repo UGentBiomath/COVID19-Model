{
 "cells": [
  {
   "cell_type": "code",
   "execution_count": 54,
   "metadata": {
    "ExecuteTime": {
     "end_time": "2021-04-13T11:53:26.976424Z",
     "start_time": "2021-04-13T11:53:26.905657Z"
    }
   },
   "outputs": [
    {
     "name": "stdout",
     "output_type": "stream",
     "text": [
      "The autoreload extension is already loaded. To reload it, use:\n",
      "  %reload_ext autoreload\n"
     ]
    }
   ],
   "source": [
    "# Load packages\n",
    "# Established packages\n",
    "import os\n",
    "import numpy as np\n",
    "import pandas as pd\n",
    "import geopandas as gp\n",
    "import datetime\n",
    "import math\n",
    "import xarray as xr # labels in the form of dimensions, coordinates and attributes\n",
    "import matplotlib.pyplot as plt\n",
    "import zarr\n",
    "\n",
    "# Custom package covid19model\n",
    "from covid19model.models import models\n",
    "from covid19model.data import model_parameters, mobility #, sciensano, google\n",
    "from covid19model.visualization.output import population_status, infected, show_map, show_graphs\n",
    "from covid19model.models.time_dependant_parameter_fncs import lockdown_func, mobility_update_func, policies_wave1_4prev\n",
    "\n",
    "# Moving average for visualisation\n",
    "from covid19model.visualization.utils import moving_avg\n",
    "from covid19model.models.utils import read_pops, read_coordinates_nis, initial_state\n",
    "\n",
    "# Download function for complete calibration\n",
    "# covid19model.optimization.run_optimization import full_calibration_wave1, full_calibration_wave2\n",
    "\n",
    "\n",
    "# OPTIONAL: Load the \"autoreload\" extension so that package code can change\n",
    "%load_ext autoreload\n",
    "# OPTIONAL: always reload modules so that as you change code in src, it gets loaded\n",
    "# This may be useful because the `covid19model` package is under construction\n",
    "%autoreload 2\n",
    "\n",
    "# Age stratification\n",
    "stratification = 'phases'\n",
    "# Spatial stratification\n",
    "agg = 'arr'"
   ]
  },
  {
   "cell_type": "code",
   "execution_count": 55,
   "metadata": {
    "ExecuteTime": {
     "end_time": "2021-04-13T11:53:29.897532Z",
     "start_time": "2021-04-13T11:53:29.732733Z"
    }
   },
   "outputs": [],
   "source": [
    "initN, Nc_home, Nc_work, Nc_schools, Nc_transport, Nc_leisure, Nc_others, Nc_total = \\\n",
    "    model_parameters.get_interaction_matrices(stratification=stratification, spatial=agg)"
   ]
  },
  {
   "cell_type": "code",
   "execution_count": 63,
   "metadata": {
    "ExecuteTime": {
     "end_time": "2021-04-13T12:05:53.743320Z",
     "start_time": "2021-04-13T12:05:53.667451Z"
    }
   },
   "outputs": [
    {
     "data": {
      "text/plain": [
       "(10, 10)"
      ]
     },
     "execution_count": 63,
     "metadata": {},
     "output_type": "execute_result"
    }
   ],
   "source": [
    "# Check shape of initN\n",
    "Nc_total.shape"
   ]
  },
  {
   "cell_type": "code",
   "execution_count": 62,
   "metadata": {
    "ExecuteTime": {
     "end_time": "2021-04-13T11:56:05.976448Z",
     "start_time": "2021-04-13T11:56:05.913122Z"
    }
   },
   "outputs": [
    {
     "name": "stdout",
     "output_type": "stream",
     "text": [
      "This value should be zero or very small: 4.3357678558564317e-14\n"
     ]
    }
   ],
   "source": [
    "# Check if the contact matrices sum up to (approximately) the correct values:\n",
    "value = abs(((Nc_home + Nc_work + Nc_schools + Nc_transport + Nc_leisure + Nc_others) - Nc_total).sum())\n",
    "print(f\"This value should be zero or very small: {value}\")"
   ]
  },
  {
   "cell_type": "code",
   "execution_count": 72,
   "metadata": {
    "ExecuteTime": {
     "end_time": "2021-04-14T00:54:12.389638Z",
     "start_time": "2021-04-14T00:54:12.145134Z"
    }
   },
   "outputs": [
    {
     "data": {
      "text/plain": [
       "{'Nc': array([[ 8.61114956,  0.83393502,  0.56828012,  1.7558695 ,  2.11664332,\n",
       "          1.07760315,  0.93044761,  0.3881439 ,  0.19455493,  0.02083997],\n",
       "        [ 1.62464949, 10.202451  ,  2.35316446,  3.11148901,  2.15810763,\n",
       "          1.83025707,  0.38144829,  0.34986797,  0.11154411,  0.09183087],\n",
       "        [ 0.90480164,  1.92316139,  6.15189471,  3.12873167,  2.21255394,\n",
       "          3.27484973,  0.84221058,  0.33679633,  0.15444674,  0.10279999],\n",
       "        [ 1.83312729,  1.66740536,  2.0515296 ,  5.27218355,  4.17086695,\n",
       "          4.43751606,  2.2350914 ,  0.52389886,  0.31051015,  0.20396881],\n",
       "        [ 2.0506185 ,  1.07320534,  1.34629471,  3.87046495,  5.38623365,\n",
       "          4.03246549,  2.18372574,  0.9693051 ,  0.45428855,  0.16407803],\n",
       "        [ 1.00280449,  0.87426288,  1.91407025,  3.95545971,  3.87338694,\n",
       "          5.24028779,  2.52785647,  1.22236571,  0.76377765,  0.14512842],\n",
       "        [ 1.02952013,  0.21664622,  0.58529214,  2.36885139,  2.49404232,\n",
       "          3.00564658,  2.58577059,  0.81215398,  0.46192475,  0.19157637],\n",
       "        [ 0.61937176,  0.28657306,  0.33754763,  0.80076615,  1.59654788,\n",
       "          2.09605361,  1.17126213,  1.99325316,  0.84709413,  0.12385785],\n",
       "        [ 0.39848572,  0.11727075,  0.19868192,  0.60918043,  0.96042868,\n",
       "          1.68104777,  0.85506442,  1.08728539,  0.9135868 ,  0.30237013],\n",
       "        [ 0.12536059,  0.28354706,  0.38838826,  1.17524198,  1.01877237,\n",
       "          0.93812126,  1.04150884,  0.46690531,  0.8880395 ,  1.12414684]]),\n",
       " 'c': array([1.        , 1.        , 0.75      , 1.        , 0.86666667,\n",
       "        0.79245283, 0.68333333, 0.53521127, 0.74647887, 0.96825397]),\n",
       " 'm_C': array([0.        , 0.        , 0.        , 0.        , 0.07692308,\n",
       "        0.04761905, 0.        , 0.05263158, 0.28301887, 0.39344262]),\n",
       " 'm_ICU': array([0.        , 0.        , 0.        , 0.        , 0.        ,\n",
       "        0.18181818, 0.        , 0.33333333, 0.5       , 1.        ]),\n",
       " 'dc_R': array(8.01029195),\n",
       " 'dc_D': array(6.11322507),\n",
       " 'dICU_R': array(9.86672215),\n",
       " 'dICU_D': array(19.33903233),\n",
       " 'dICUrec': array(6.47233499),\n",
       " 'h': array([0.00134013, 0.003     , 0.00663206, 0.02229189, 0.04053474,\n",
       "        0.07623707, 0.13134777, 0.19733286, 0.24874506, 0.273     ]),\n",
       " 'a': array([0.72360526, 0.79      , 0.76578628, 0.69912434, 0.63485694,\n",
       "        0.55374837, 0.44580176, 0.34558478, 0.31      , 0.31      ]),\n",
       " 's': array([1., 1., 1., 1., 1., 1., 1., 1., 1., 1.]),\n",
       " 'place': array([[8.37023275e-01, 4.97415549e-02, 2.11411249e-03, 4.98035322e-02,\n",
       "         7.58601408e-03, 2.88813935e-02, 2.77382577e-03, 2.90053479e-03,\n",
       "         1.71208680e-02, 5.38513345e-04, 1.51637645e-03],\n",
       "        [7.72755053e-02, 5.55218159e-01, 1.72278946e-02, 2.71517773e-01,\n",
       "         7.31683342e-03, 3.00665439e-02, 7.03048538e-03, 4.77602882e-03,\n",
       "         2.59957005e-02, 7.28691646e-04, 2.84638496e-03],\n",
       "        [1.32599877e-02, 5.87378067e-02, 5.18255458e-01, 3.05248855e-01,\n",
       "         3.39376912e-03, 6.47901377e-03, 4.52874529e-02, 1.51242632e-02,\n",
       "         2.89487849e-03, 2.29752261e-03, 2.90209928e-02],\n",
       "        [2.07158867e-02, 7.85247572e-02, 3.42049854e-02, 8.18830401e-01,\n",
       "         4.32520546e-03, 1.14514705e-02, 1.38259866e-02, 6.92793588e-03,\n",
       "         3.97473341e-03, 1.27148000e-03, 5.94715751e-03],\n",
       "        [2.16744795e-02, 1.37258994e-02, 1.72777769e-03, 3.29000177e-02,\n",
       "         8.48916778e-01, 5.96735483e-02, 1.24195309e-02, 2.16925399e-03,\n",
       "         5.11309820e-03, 4.87630637e-04, 1.19198600e-03],\n",
       "        [7.70058398e-02, 4.80608100e-02, 2.59616605e-03, 9.49489019e-02,\n",
       "         4.04373492e-02, 7.20229783e-01, 5.77948458e-03, 2.81357116e-03,\n",
       "         5.88898058e-03, 5.45893107e-04, 1.69322077e-03],\n",
       "        [9.60156974e-03, 2.18302720e-02, 4.77440453e-02, 1.09600480e-01,\n",
       "         1.39946585e-02, 1.29874094e-02, 7.38645010e-01, 1.13413637e-02,\n",
       "         2.51158228e-03, 3.06099090e-03, 2.86826184e-02],\n",
       "        [9.32800649e-03, 1.26542724e-02, 1.19440836e-02, 5.13479383e-02,\n",
       "         3.39082849e-03, 4.77763344e-03, 1.19673262e-02, 8.49561362e-01,\n",
       "         8.48869250e-03, 1.01466604e-02, 2.63931966e-02],\n",
       "        [6.48806221e-02, 5.63232259e-02, 2.64794901e-03, 3.38185949e-02,\n",
       "         6.84591696e-03, 1.14049689e-02, 2.65675594e-03, 1.20449388e-02,\n",
       "         8.07098969e-01, 8.24915380e-04, 1.45314275e-03],\n",
       "        [7.52544838e-03, 6.73776054e-03, 7.14978187e-03, 3.23557925e-02,\n",
       "         4.73824527e-03, 4.59282598e-03, 1.08216190e-02, 5.21691711e-02,\n",
       "         2.54483762e-03, 8.20419292e-01, 5.09452254e-02],\n",
       "        [8.96642281e-03, 1.51405526e-02, 6.10231262e-02, 9.59562666e-02,\n",
       "         3.97138034e-03, 5.56314816e-03, 1.05217461e-01, 3.54369322e-02,\n",
       "         2.96379666e-03, 3.28965351e-02, 6.32864378e-01]]),\n",
       " 'area': array([2876.12065981, 2118.34830185, 1097.17985532,  162.41985043,\n",
       "        3196.57605875, 3007.07580227, 3813.03546228, 3857.11249438,\n",
       "        2427.42879484, 4459.25015065, 3674.8219081 ]),\n",
       " 'p': array([1., 1., 1., 1., 1., 1., 1., 1., 1., 1., 1.]),\n",
       " 'sg': array([2.3, 2.3, 2.3, 2.3, 2.3, 2.3, 2.3, 2.3, 2.3, 2.3, 2.3]),\n",
       " 'xi': 0.01,\n",
       " 'da': 5.29,\n",
       " 'dm': 7.0,\n",
       " 'der': 2.8,\n",
       " 'dhospital': 7.5428,\n",
       " 'sigma': 3.2,\n",
       " 'omega': 0.35,\n",
       " 'zeta': 0.0,\n",
       " 'beta_R': 0.03492,\n",
       " 'beta_U': 0.03492,\n",
       " 'beta_M': 0.03492,\n",
       " 'K_inf': 0,\n",
       " 'K_hosp': 0,\n",
       " 'injection_day': 0,\n",
       " 'injection_ratio': 0}"
      ]
     },
     "execution_count": 72,
     "metadata": {},
     "output_type": "execute_result"
    }
   ],
   "source": [
    "param_dict = model_parameters.get_COVID19_SEIRD_parameters(spatial='prov', stratification='phases', vaccination=False, intensity='all')\n",
    "\n",
    "param_dict"
   ]
  }
 ],
 "metadata": {
  "kernelspec": {
   "display_name": "Python 3",
   "language": "python",
   "name": "python3"
  },
  "language_info": {
   "codemirror_mode": {
    "name": "ipython",
    "version": 3
   },
   "file_extension": ".py",
   "mimetype": "text/x-python",
   "name": "python",
   "nbconvert_exporter": "python",
   "pygments_lexer": "ipython3",
   "version": "3.7.3"
  },
  "toc": {
   "base_numbering": 1,
   "nav_menu": {},
   "number_sections": true,
   "sideBar": true,
   "skip_h1_title": false,
   "title_cell": "Table of Contents",
   "title_sidebar": "Contents",
   "toc_cell": false,
   "toc_position": {},
   "toc_section_display": true,
   "toc_window_display": false
  }
 },
 "nbformat": 4,
 "nbformat_minor": 2
}
