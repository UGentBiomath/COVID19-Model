{
 "cells": [
  {
   "cell_type": "code",
   "execution_count": 42,
   "metadata": {
    "ExecuteTime": {
     "end_time": "2021-04-13T10:24:09.181509Z",
     "start_time": "2021-04-13T10:24:09.107705Z"
    }
   },
   "outputs": [
    {
     "name": "stdout",
     "output_type": "stream",
     "text": [
      "The autoreload extension is already loaded. To reload it, use:\n",
      "  %reload_ext autoreload\n"
     ]
    }
   ],
   "source": [
    "# Load packages\n",
    "# Established packages\n",
    "import os\n",
    "import numpy as np\n",
    "import pandas as pd\n",
    "import geopandas as gp\n",
    "import datetime\n",
    "import math\n",
    "import xarray as xr # labels in the form of dimensions, coordinates and attributes\n",
    "import matplotlib.pyplot as plt\n",
    "import zarr\n",
    "\n",
    "# Custom package covid19model\n",
    "from covid19model.models import models\n",
    "from covid19model.data import model_parameters, mobility #, sciensano, google\n",
    "from covid19model.visualization.output import population_status, infected, show_map, show_graphs\n",
    "from covid19model.models.time_dependant_parameter_fncs import lockdown_func, mobility_update_func, policies_wave1_4prev\n",
    "\n",
    "# Moving average for visualisation\n",
    "from covid19model.visualization.utils import moving_avg\n",
    "from covid19model.models.utils import read_pops, read_coordinates_nis, initial_state\n",
    "\n",
    "# Download function for complete calibration\n",
    "# covid19model.optimization.run_optimization import full_calibration_wave1, full_calibration_wave2\n",
    "\n",
    "\n",
    "# OPTIONAL: Load the \"autoreload\" extension so that package code can change\n",
    "%load_ext autoreload\n",
    "# OPTIONAL: always reload modules so that as you change code in src, it gets loaded\n",
    "# This may be useful because the `covid19model` package is under construction\n",
    "%autoreload 2\n",
    "\n",
    "# Spatial stratification\n",
    "agg = 'arr'"
   ]
  },
  {
   "cell_type": "code",
   "execution_count": 43,
   "metadata": {
    "ExecuteTime": {
     "end_time": "2021-04-13T10:24:10.998755Z",
     "start_time": "2021-04-13T10:24:10.831122Z"
    }
   },
   "outputs": [],
   "source": [
    "initN, Nc_home, Nc_work, Nc_schools, Nc_transport, Nc_leisure, Nc_others, Nc_total = model_parameters.get_interaction_matrices(decades=False, spatial=agg)"
   ]
  },
  {
   "cell_type": "code",
   "execution_count": 44,
   "metadata": {
    "ExecuteTime": {
     "end_time": "2021-04-13T10:24:12.310743Z",
     "start_time": "2021-04-13T10:24:12.242552Z"
    }
   },
   "outputs": [
    {
     "data": {
      "text/plain": [
       "(43, 10)"
      ]
     },
     "execution_count": 44,
     "metadata": {},
     "output_type": "execute_result"
    }
   ],
   "source": [
    "# Check shape of initN\n",
    "initN.shape"
   ]
  },
  {
   "cell_type": "code",
   "execution_count": 45,
   "metadata": {
    "ExecuteTime": {
     "end_time": "2021-04-13T10:24:14.300102Z",
     "start_time": "2021-04-13T10:24:14.236308Z"
    }
   },
   "outputs": [
    {
     "data": {
      "text/plain": [
       "array([[ 7.10542736e-15,  1.11022302e-16,  1.11022302e-16,\n",
       "         1.55431223e-15, -6.66133815e-15, -1.99840144e-15,\n",
       "         9.99200722e-16,  5.55111512e-17,  5.82867088e-16,\n",
       "        -3.81639165e-17],\n",
       "       [-2.44249065e-15,  3.73034936e-14,  6.21724894e-15,\n",
       "         0.00000000e+00, -1.77635684e-15, -2.22044605e-16,\n",
       "         1.11022302e-16,  5.55111512e-17,  5.55111512e-17,\n",
       "         9.71445147e-17],\n",
       "       [-1.11022302e-15,  3.10862447e-15, -9.76996262e-15,\n",
       "        -7.99360578e-15,  3.55271368e-15,  3.10862447e-15,\n",
       "        -3.33066907e-16,  2.22044605e-16,  2.77555756e-17,\n",
       "        -5.27355937e-16],\n",
       "       [-1.77635684e-15, -4.66293670e-15, -8.43769499e-15,\n",
       "        -2.66453526e-15,  8.88178420e-16,  2.66453526e-15,\n",
       "         1.33226763e-15,  0.00000000e+00, -3.88578059e-16,\n",
       "         4.44089210e-16],\n",
       "       [ 0.00000000e+00,  2.22044605e-16,  1.77635684e-15,\n",
       "        -4.44089210e-16,  7.99360578e-15, -3.55271368e-15,\n",
       "         3.99680289e-15, -1.11022302e-16,  7.77156117e-16,\n",
       "         1.38777878e-16],\n",
       "       [-1.99840144e-15,  1.11022302e-15,  1.77635684e-15,\n",
       "        -1.33226763e-15,  6.66133815e-15, -6.21724894e-15,\n",
       "         3.55271368e-15,  4.21884749e-15,  3.33066907e-16,\n",
       "         3.33066907e-16],\n",
       "       [ 3.55271368e-15, -3.05311332e-16,  1.11022302e-15,\n",
       "        -4.44089210e-16,  4.44089210e-16,  8.88178420e-16,\n",
       "         3.99680289e-15, -2.22044605e-16, -1.11022302e-16,\n",
       "         1.66533454e-16],\n",
       "       [ 3.33066907e-16, -2.77555756e-16,  6.66133815e-16,\n",
       "        -9.99200722e-16,  2.44249065e-15, -3.55271368e-15,\n",
       "        -1.55431223e-15,  5.55111512e-15,  4.44089210e-16,\n",
       "        -2.91433544e-16],\n",
       "       [-5.55111512e-17, -1.80411242e-16,  4.99600361e-16,\n",
       "         0.00000000e+00, -6.66133815e-16, -3.10862447e-15,\n",
       "         0.00000000e+00, -2.66453526e-15, -3.33066907e-16,\n",
       "         1.66533454e-16],\n",
       "       [-4.44089210e-16,  2.22044605e-16, -6.10622664e-16,\n",
       "         4.88498131e-15, -1.77635684e-15, -6.66133815e-16,\n",
       "        -2.88657986e-15,  3.33066907e-16,  0.00000000e+00,\n",
       "         6.66133815e-16]])"
      ]
     },
     "execution_count": 45,
     "metadata": {},
     "output_type": "execute_result"
    }
   ],
   "source": [
    "# Check if the contact matrices sum up to (approximately) the correct values:\n",
    "(Nc_home + Nc_work + Nc_schools + Nc_transport + Nc_leisure + Nc_others) - Nc_total"
   ]
  },
  {
   "cell_type": "code",
   "execution_count": null,
   "metadata": {},
   "outputs": [],
   "source": []
  }
 ],
 "metadata": {
  "kernelspec": {
   "display_name": "Python 3",
   "language": "python",
   "name": "python3"
  },
  "language_info": {
   "codemirror_mode": {
    "name": "ipython",
    "version": 3
   },
   "file_extension": ".py",
   "mimetype": "text/x-python",
   "name": "python",
   "nbconvert_exporter": "python",
   "pygments_lexer": "ipython3",
   "version": "3.7.3"
  },
  "toc": {
   "base_numbering": 1,
   "nav_menu": {},
   "number_sections": true,
   "sideBar": true,
   "skip_h1_title": false,
   "title_cell": "Table of Contents",
   "title_sidebar": "Contents",
   "toc_cell": false,
   "toc_position": {},
   "toc_section_display": true,
   "toc_window_display": false
  }
 },
 "nbformat": 4,
 "nbformat_minor": 2
}
