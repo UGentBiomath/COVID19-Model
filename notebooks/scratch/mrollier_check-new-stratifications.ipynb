{
 "cells": [
  {
   "cell_type": "code",
   "execution_count": null,
   "metadata": {
    "ExecuteTime": {
     "start_time": "2021-04-09T11:39:41.378Z"
    }
   },
   "outputs": [],
   "source": [
    "# Load packages\n",
    "# Established packages\n",
    "import os\n",
    "import numpy as np\n",
    "import pandas as pd\n",
    "import geopandas as gp\n",
    "import datetime\n",
    "import math\n",
    "import xarray as xr # labels in the form of dimensions, coordinates and attributes\n",
    "import matplotlib.pyplot as plt\n",
    "import zarr\n",
    "\n",
    "# Custom package covid19model\n",
    "from covid19model.models import models\n",
    "from covid19model.data import model_parameters, mobility #, sciensano, google\n",
    "from covid19model.visualization.output import population_status, infected, show_map, show_graphs\n",
    "from covid19model.models.time_dependant_parameter_fncs import lockdown_func, mobility_update_func, policies_wave1_4prev\n",
    "\n",
    "# Moving average for visualisation\n",
    "from covid19model.visualization.utils import moving_avg\n",
    "from covid19model.models.utils import read_pops, read_coordinates_nis, initial_state\n",
    "\n",
    "# Download function for complete calibration\n",
    "# covid19model.optimization.run_optimization import full_calibration_wave1, full_calibration_wave2\n",
    "\n",
    "\n",
    "# OPTIONAL: Load the \"autoreload\" extension so that package code can change\n",
    "%load_ext autoreload\n",
    "# OPTIONAL: always reload modules so that as you change code in src, it gets loaded\n",
    "# This may be useful because the `covid19model` package is under construction\n",
    "%autoreload 2\n",
    "\n",
    "# Spatial stratification\n",
    "agg = 'arr'"
   ]
  },
  {
   "cell_type": "code",
   "execution_count": 5,
   "metadata": {
    "ExecuteTime": {
     "end_time": "2021-04-09T11:33:13.961791Z",
     "start_time": "2021-04-09T11:33:13.785167Z"
    }
   },
   "outputs": [],
   "source": [
    "initN, Nc_home, Nc_work, Nc_schools, Nc_transport, Nc_leisure, Nc_others, Nc_total = model_parameters.get_interaction_matrices()"
   ]
  },
  {
   "cell_type": "code",
   "execution_count": 7,
   "metadata": {
    "ExecuteTime": {
     "end_time": "2021-04-09T11:33:30.434991Z",
     "start_time": "2021-04-09T11:33:30.360912Z"
    }
   },
   "outputs": [
    {
     "data": {
      "text/plain": [
       "array([[7.60755599e-01, 2.63738152e-01, 1.67624352e-01, 1.00581656e+00,\n",
       "        3.56382432e-01, 8.64238434e-02, 2.44658542e-02, 4.97860003e-03,\n",
       "        2.58860267e-04],\n",
       "       [2.58459232e-01, 7.98102855e-01, 2.36229252e-01, 2.09384315e-01,\n",
       "        1.32831035e+00, 2.08403680e-01, 2.14381199e-02, 1.02639519e-02,\n",
       "        2.02943185e-04],\n",
       "       [1.51145984e-01, 2.17357227e-01, 4.94673915e-01, 1.17539487e-01,\n",
       "        2.90168285e-01, 5.80887721e-01, 6.82418080e-02, 9.03044332e-03,\n",
       "        2.03603314e-02],\n",
       "       [8.52386360e-01, 1.81068443e-01, 1.10469402e-01, 5.08076015e-01,\n",
       "        1.34826577e-01, 1.03636028e-01, 6.34215703e-02, 1.96874250e-02,\n",
       "        3.33153916e-02],\n",
       "       [2.69881133e-01, 1.02644741e+00, 2.43695035e-01, 1.20479743e-01,\n",
       "        6.20731645e-01, 1.31380732e-01, 2.14330776e-02, 3.01626659e-02,\n",
       "        3.96869834e-02],\n",
       "       [7.23902642e-02, 1.78128281e-01, 5.39609121e-01, 1.02432938e-01,\n",
       "        1.45318874e-01, 7.27902019e-01, 1.48161135e-01, 1.41967137e-02,\n",
       "        2.40752190e-02],\n",
       "       [2.69511975e-02, 2.40982380e-02, 8.33697904e-02, 8.24398065e-02,\n",
       "        3.11778371e-02, 1.94852236e-01, 5.32496773e-01, 9.32384858e-02,\n",
       "        2.79308062e-02],\n",
       "       [7.14064159e-03, 1.50219225e-02, 1.43641380e-02, 3.33197092e-02,\n",
       "        5.71272718e-02, 2.43092318e-02, 1.21396880e-01, 3.81541664e-01,\n",
       "        9.51527996e-02],\n",
       "       [5.76739730e-04, 4.61391784e-04, 5.03083203e-02, 8.75874103e-02,\n",
       "        1.16763291e-01, 6.40380556e-02, 5.64911301e-02, 1.47810759e-01,\n",
       "        9.77251856e-01]])"
      ]
     },
     "execution_count": 7,
     "metadata": {},
     "output_type": "execute_result"
    }
   ],
   "source": [
    "Nc_home"
   ]
  }
 ],
 "metadata": {
  "kernelspec": {
   "display_name": "Python 3",
   "language": "python",
   "name": "python3"
  },
  "language_info": {
   "codemirror_mode": {
    "name": "ipython",
    "version": 3
   },
   "file_extension": ".py",
   "mimetype": "text/x-python",
   "name": "python",
   "nbconvert_exporter": "python",
   "pygments_lexer": "ipython3",
   "version": "3.7.3"
  },
  "toc": {
   "base_numbering": 1,
   "nav_menu": {},
   "number_sections": true,
   "sideBar": true,
   "skip_h1_title": false,
   "title_cell": "Table of Contents",
   "title_sidebar": "Contents",
   "toc_cell": false,
   "toc_position": {},
   "toc_section_display": true,
   "toc_window_display": false
  }
 },
 "nbformat": 4,
 "nbformat_minor": 2
}
