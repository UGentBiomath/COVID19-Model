{
 "cells": [
  {
   "cell_type": "markdown",
   "metadata": {},
   "source": [
    "# Covid-19: From model prediction to model predictive control\n",
    "\n",
    "## JPGMs tryout of the QALY calculation\n",
    "\n",
    "*Original code by Juan Pablo Gallo. Modified by T.W. Alleman in consultation with the BIOMATH research unit headed by prof. Ingmar Nopens.*\n",
    "\n",
    "Copyright (c) 2020 by BIOMATH, Ghent University. All Rights Reserved."
   ]
  },
  {
   "cell_type": "markdown",
   "metadata": {},
   "source": [
    "This notebook contains a demo calculation of the number of *Quality adjusted life years* lost due to COVID-19. The calculation is performed ex-post simulation. The calculation is a simple manipulation of the number of predicted deaths. \n",
    "\n",
    "For this demo, the deterministic national-level model was used. All details with regard to the model can be found in our preprint *A deterministic, age-stratified, extended SEIRD model for assessing the effect of non-pharmaceutical interventions on SARS-CoV-2 spread in Belgium*, which can be found here: https://www.medrxiv.org/content/10.1101/2020.07.17.20156034v2"
   ]
  },
  {
   "cell_type": "code",
   "execution_count": 1,
   "metadata": {
    "ExecuteTime": {
     "end_time": "2020-05-01T09:38:06.888712Z",
     "start_time": "2020-05-01T09:38:06.875510Z"
    }
   },
   "outputs": [],
   "source": [
    "import numpy as np\n",
    "import matplotlib\n",
    "import matplotlib.pyplot as plt\n",
    "import matplotlib.dates as mdates\n",
    "from matplotlib import cm\n",
    "import pandas as pd\n",
    "import datetime\n",
    "import scipy\n",
    "import json\n",
    "import random"
   ]
  },
  {
   "cell_type": "markdown",
   "metadata": {},
   "source": [
    "Load the covid 19 custom development code"
   ]
  },
  {
   "cell_type": "code",
   "execution_count": 2,
   "metadata": {},
   "outputs": [],
   "source": [
    "from covid19model.optimization import objective_fcns\n",
    "from covid19model.models import models\n",
    "from covid19model.models.utils import draw_sample_COVID19_SEIRD\n",
    "from covid19model.data import google, sciensano, model_parameters\n",
    "from covid19model.visualization.output import population_status, infected\n",
    "from covid19model.visualization.optimization import plot_fit, traceplot\n",
    "from covid19model.visualization.output import _apply_tick_locator"
   ]
  },
  {
   "cell_type": "code",
   "execution_count": 3,
   "metadata": {},
   "outputs": [],
   "source": [
    "# OPTIONAL: Load the \"autoreload\" extension so that package code can change\n",
    "%load_ext autoreload\n",
    "# OPTIONAL: always reload modules so that as you change code in src, it gets loaded\n",
    "%autoreload 2"
   ]
  },
  {
   "cell_type": "markdown",
   "metadata": {},
   "source": [
    "## Model initialization"
   ]
  },
  {
   "cell_type": "code",
   "execution_count": 4,
   "metadata": {},
   "outputs": [],
   "source": [
    "# Load the interaction matrices (size: 9x9)\n",
    "initN, Nc_home, Nc_work, Nc_schools, Nc_transport, Nc_leisure, Nc_others, Nc_total = model_parameters.get_interaction_matrices()\n",
    "# Define the number of age categories\n",
    "levels = initN.size"
   ]
  },
  {
   "cell_type": "code",
   "execution_count": 5,
   "metadata": {},
   "outputs": [],
   "source": [
    "def lockdown_release_func(t,param,policy_time,policy1,policy2,policy3,policy4,policy5,policy6,policy7,policy8,policy9,l,tau,prevention):\n",
    "    if t <= policy_time + tau:\n",
    "        return policy1\n",
    "    elif policy_time + tau < t <= policy_time + tau + l:\n",
    "        return policy1 + (prevention*policy2-policy1)/l*(t-policy_time-tau)\n",
    "    elif policy_time + tau + l < t <= policy_time + 50: \n",
    "        return prevention*policy2\n",
    "    elif policy_time + 50 < t <= policy_time + 52:\n",
    "        return prevention*policy3\n",
    "    elif policy_time + 52 < t <= policy_time + 57:\n",
    "        return prevention*policy4\n",
    "    elif policy_time + 57 < t <= policy_time + 64:\n",
    "        return prevention*policy5\n",
    "    elif policy_time + 64 < t <= policy_time + 81:\n",
    "        return prevention*policy6\n",
    "    elif policy_time + 81 < t <= policy_time + 108:\n",
    "        return prevention*policy7\n",
    "    elif policy_time + 108 < t <= policy_time + 170:\n",
    "        return prevention*policy8\n",
    "    else:\n",
    "        return prevention*policy9"
   ]
  },
  {
   "cell_type": "code",
   "execution_count": 6,
   "metadata": {},
   "outputs": [],
   "source": [
    "# Load the dictionary containing the posterior parameter distributions obtained from calibrating the model to Belgian hospitalization data\n",
    "with open('../../data/interim/model_parameters/deterministic_2020-10-14.json', 'r') as fp:\n",
    "    samples_dict = json.load(fp)"
   ]
  },
  {
   "cell_type": "code",
   "execution_count": 7,
   "metadata": {},
   "outputs": [],
   "source": [
    "# Load the model parameters using `get_COVID19_SEIRD_parameters()`.\n",
    "params = model_parameters.get_COVID19_SEIRD_parameters()\n",
    "# Add the delayed ramp parameters and policy changes during lockdown to model parameters dictionary\n",
    "params.update({'policy1': Nc_total,\n",
    "              'policy2': 1.0*Nc_home + (1-0.60)*Nc_work + (1-0.70)*Nc_transport + (1-0.30)*Nc_others + (1-0.80)*Nc_leisure,\n",
    "              'policy3': 1.0*Nc_home + (1-0.50)*Nc_work + (1-0.60)*Nc_transport + (1-0.30)*Nc_others + (1-0.70)*Nc_leisure,\n",
    "              'policy4': 1.0*Nc_home + (1-0.40)*Nc_work + (1-0.55)*Nc_transport + (1-0.25)*Nc_others + (1-0.65)*Nc_leisure,\n",
    "              'policy5': 1.0*Nc_home + (1-0.30)*Nc_work + (1-0.50)*Nc_transport + (1-0.20)*Nc_others + (1-0.60)*Nc_leisure,\n",
    "              'policy6': 1.0*Nc_home + (1-0.30)*Nc_work + (1-0.45)*Nc_transport + (1-0.15)*Nc_others + (1-0.85)*Nc_schools + (1-0.50)*Nc_leisure,\n",
    "              'policy7': 1.0*Nc_home + (1-0.25)*Nc_work + (1-0.35)*Nc_transport + (1-0.10)*Nc_others + (1-0.35)*Nc_schools + (1-0.30)*Nc_leisure,\n",
    "              'policy8': 1.0*Nc_home + (1-0.20)*Nc_work + (1-0.15)*Nc_transport + (1-0.00)*Nc_others + (1-0.00)*Nc_leisure,\n",
    "              'policy9': 1.0*Nc_home + (1-0.10)*Nc_work + (1-0.15)*Nc_transport + (1-0.00)*Nc_others + (1-0.00)*Nc_schools + (1-0.00)*Nc_leisure,\n",
    "               'policy_time': samples_dict['lag_time'],\n",
    "              'l': 1,\n",
    "              'tau': 5,\n",
    "              'prevention': 0.5})\n",
    "#Define the initial condition: one exposed inidividual in every age category\n",
    "initial_states = {'S': initN, 'E': np.ones(levels)}"
   ]
  },
  {
   "cell_type": "code",
   "execution_count": 8,
   "metadata": {},
   "outputs": [],
   "source": [
    "# Initialize the model\n",
    "model = models.COVID19_SEIRD(initial_states, params, time_dependent_parameters={'Nc': lockdown_release_func})"
   ]
  },
  {
   "cell_type": "markdown",
   "metadata": {},
   "source": [
    "## Data extraction: deaths in hospitals"
   ]
  },
  {
   "cell_type": "code",
   "execution_count": 9,
   "metadata": {},
   "outputs": [],
   "source": [
    "df_sciensano = sciensano.get_sciensano_COVID19_data(update=False)"
   ]
  },
  {
   "cell_type": "code",
   "execution_count": 10,
   "metadata": {},
   "outputs": [],
   "source": [
    "df_deaths = pd.read_csv('../../data/raw/sciensano/all_nonpublic_timeseries_prov.csv', parse_dates=['DATE'])\n",
    "df_deaths = df_deaths.resample('D', on='DATE').sum()"
   ]
  },
  {
   "cell_type": "markdown",
   "metadata": {},
   "source": [
    "## Perform simulation"
   ]
  },
  {
   "cell_type": "code",
   "execution_count": 11,
   "metadata": {},
   "outputs": [],
   "source": [
    "# Simulation time\n",
    "start_date = '2020-03-15'\n",
    "end_date = '2020-06-01'"
   ]
  },
  {
   "cell_type": "code",
   "execution_count": 12,
   "metadata": {},
   "outputs": [],
   "source": [
    "out=model.sim(end_date,excess_time=samples_dict['lag_time'], start_date=start_date,N=200,draw_fcn=draw_sample_COVID19_SEIRD,samples=samples_dict)"
   ]
  },
  {
   "cell_type": "code",
   "execution_count": 13,
   "metadata": {},
   "outputs": [],
   "source": [
    "start_date = datetime.datetime.strptime(start_date, '%Y-%m-%d') - datetime.timedelta(days=samples_dict['lag_time'])\n",
    "dates = pd.date_range(start_date, periods=len(out[\"time\"].values)).date"
   ]
  },
  {
   "cell_type": "markdown",
   "metadata": {},
   "source": [
    "## Visualize the total number of patients in the hospital and the predicted number of deaths in the hospital"
   ]
  },
  {
   "cell_type": "code",
   "execution_count": 14,
   "metadata": {},
   "outputs": [
    {
     "data": {
      "image/png": "[encoded data removed]",
      "text/plain": [
       "<Figure size 864x360 with 1 Axes>"
      ]
     },
     "metadata": {
      "needs_background": "light"
     },
     "output_type": "display_data"
    }
   ],
   "source": [
    "fig,ax = plt.subplots(figsize=(12,5))\n",
    "\n",
    "ax.plot(dates[40:],out['H_tot'].sum(dim=\"Nc\").mean(dim=\"draws\")[40:],'--')\n",
    "ax.plot(dates[40:],out['D'].sum(dim=\"Nc\").mean(dim=\"draws\")[40:],'--',color='black')\n",
    "ax.plot(df_sciensano.index[:-127],df_sciensano['H_tot'][:-127],'o',color='black',mfc='none')\n",
    "ax.plot(df_deaths.index[60:-94],df_deaths['deceased_hosp'][60:-94].cumsum(axis=0),'^',color='black',mfc='none')\n",
    "ax.fill_between(dates[40:],out['H_tot'].sum(dim=\"Nc\").quantile(0.95,dim=\"draws\")[40:],out['H_tot'].sum(dim=\"Nc\").quantile(0.05,dim=\"draws\")[40:],alpha=0.2)\n",
    "ax.fill_between(dates[40:],out['D'].sum(dim=\"Nc\").quantile(0.95,dim=\"draws\")[40:],out['D'].sum(dim=\"Nc\").quantile(0.05,dim=\"draws\")[40:],alpha=0.2,color='black')\n",
    "\n",
    "# add custom legend\n",
    "ax.legend(('$\\hat{H}_{tot}$', '$\\hat{D}_{tot}$',\n",
    "               '$H_{tot,\\ obs}$', '$D_{tot,\\ obs}$'),\n",
    "              loc=\"upper left\", bbox_to_anchor=(1,1))\n",
    "\n",
    "# limit the number of ticks on the axis\n",
    "ax = _apply_tick_locator(ax)\n",
    "\n",
    "# save figure\n",
    "plt.savefig('../../results/QALYs/model_prediction.pdf',bbox_inches='tight')"
   ]
  },
  {
   "cell_type": "markdown",
   "metadata": {},
   "source": [
    "## Do a close-up of the number of deaths on June 1st"
   ]
  },
  {
   "cell_type": "code",
   "execution_count": 15,
   "metadata": {},
   "outputs": [
    {
     "data": {
      "text/plain": [
       "2600.0"
      ]
     },
     "execution_count": 15,
     "metadata": {},
     "output_type": "execute_result"
    }
   ],
   "source": [
    "df_deaths['deceased_hosp'].cumsum(axis=0)[-94]"
   ]
  },
  {
   "cell_type": "code",
   "execution_count": 16,
   "metadata": {},
   "outputs": [],
   "source": [
    "df_deaths_full = pd.read_csv('../../data/raw/sciensano/COVID19BE_MORT_RAW.csv', parse_dates=['DATE'])"
   ]
  },
  {
   "cell_type": "code",
   "execution_count": 17,
   "metadata": {},
   "outputs": [
    {
     "data": {
      "text/html": [
       "<div>\n",
       "<style scoped>\n",
       "    .dataframe tbody tr th:only-of-type {\n",
       "        vertical-align: middle;\n",
       "    }\n",
       "\n",
       "    .dataframe tbody tr th {\n",
       "        vertical-align: top;\n",
       "    }\n",
       "\n",
       "    .dataframe thead th {\n",
       "        text-align: right;\n",
       "    }\n",
       "</style>\n",
       "<table border=\"1\" class=\"dataframe\">\n",
       "  <thead>\n",
       "    <tr style=\"text-align: right;\">\n",
       "      <th></th>\n",
       "      <th>ID</th>\n",
       "      <th>DATE</th>\n",
       "      <th>REGION</th>\n",
       "      <th>PLACE</th>\n",
       "      <th>STATUS</th>\n",
       "      <th>STATUS3</th>\n",
       "      <th>AGE</th>\n",
       "      <th>SEX</th>\n",
       "      <th>NEW</th>\n",
       "      <th>age_class</th>\n",
       "    </tr>\n",
       "  </thead>\n",
       "  <tbody>\n",
       "    <tr>\n",
       "      <th>0</th>\n",
       "      <td>10368</td>\n",
       "      <td>2020-03-17</td>\n",
       "      <td>Flanders</td>\n",
       "      <td>Hospital</td>\n",
       "      <td>Confirmed</td>\n",
       "      <td>ConfirmedLab</td>\n",
       "      <td>82.0</td>\n",
       "      <td>NaN</td>\n",
       "      <td>2</td>\n",
       "      <td>[80, 120)</td>\n",
       "    </tr>\n",
       "    <tr>\n",
       "      <th>1</th>\n",
       "      <td>10367</td>\n",
       "      <td>2020-03-21</td>\n",
       "      <td>Flanders</td>\n",
       "      <td>Hospital</td>\n",
       "      <td>Confirmed</td>\n",
       "      <td>ConfirmedLab</td>\n",
       "      <td>88.0</td>\n",
       "      <td>NaN</td>\n",
       "      <td>2</td>\n",
       "      <td>[80, 120)</td>\n",
       "    </tr>\n",
       "    <tr>\n",
       "      <th>2</th>\n",
       "      <td>10366</td>\n",
       "      <td>2020-03-22</td>\n",
       "      <td>Flanders</td>\n",
       "      <td>Hospital</td>\n",
       "      <td>Confirmed</td>\n",
       "      <td>ConfirmedLab</td>\n",
       "      <td>93.0</td>\n",
       "      <td>NaN</td>\n",
       "      <td>2</td>\n",
       "      <td>[80, 120)</td>\n",
       "    </tr>\n",
       "    <tr>\n",
       "      <th>3</th>\n",
       "      <td>10365</td>\n",
       "      <td>2020-03-18</td>\n",
       "      <td>Flanders</td>\n",
       "      <td>Hospital</td>\n",
       "      <td>Confirmed</td>\n",
       "      <td>ConfirmedLab</td>\n",
       "      <td>90.0</td>\n",
       "      <td>NaN</td>\n",
       "      <td>2</td>\n",
       "      <td>[80, 120)</td>\n",
       "    </tr>\n",
       "    <tr>\n",
       "      <th>4</th>\n",
       "      <td>10364</td>\n",
       "      <td>2020-03-19</td>\n",
       "      <td>Flanders</td>\n",
       "      <td>Hospital</td>\n",
       "      <td>Confirmed</td>\n",
       "      <td>ConfirmedLab</td>\n",
       "      <td>88.0</td>\n",
       "      <td>NaN</td>\n",
       "      <td>2</td>\n",
       "      <td>[80, 120)</td>\n",
       "    </tr>\n",
       "  </tbody>\n",
       "</table>\n",
       "</div>"
      ],
      "text/plain": [
       "      ID       DATE    REGION     PLACE     STATUS       STATUS3   AGE  SEX  \\\n",
       "0  10368 2020-03-17  Flanders  Hospital  Confirmed  ConfirmedLab  82.0  NaN   \n",
       "1  10367 2020-03-21  Flanders  Hospital  Confirmed  ConfirmedLab  88.0  NaN   \n",
       "2  10366 2020-03-22  Flanders  Hospital  Confirmed  ConfirmedLab  93.0  NaN   \n",
       "3  10365 2020-03-18  Flanders  Hospital  Confirmed  ConfirmedLab  90.0  NaN   \n",
       "4  10364 2020-03-19  Flanders  Hospital  Confirmed  ConfirmedLab  88.0  NaN   \n",
       "\n",
       "   NEW  age_class  \n",
       "0    2  [80, 120)  \n",
       "1    2  [80, 120)  \n",
       "2    2  [80, 120)  \n",
       "3    2  [80, 120)  \n",
       "4    2  [80, 120)  "
      ]
     },
     "execution_count": 17,
     "metadata": {},
     "output_type": "execute_result"
    }
   ],
   "source": [
    "age_classes = pd.IntervalIndex.from_tuples([(0,10),(10,20),(20,30),(30,40),(40,50),(50,60),(60,70),(70,80),(80,120)], \n",
    "                                           closed='left')\n",
    "df_deaths_full['age_class'] = pd.cut(df_deaths_full.AGE, bins=age_classes)\n",
    "df_deaths_full.head()"
   ]
  },
  {
   "cell_type": "code",
   "execution_count": 18,
   "metadata": {},
   "outputs": [],
   "source": [
    "deaths = df_deaths_full.groupby(by='age_class').apply(lambda x: x[((x.PLACE=='Hospital')&(x.STATUS=='Confirmed')&(x.STATUS3=='ConfirmedLab')&(x.DATE <='2020-06-01'))].age_class.count())"
   ]
  },
  {
   "cell_type": "code",
   "execution_count": 19,
   "metadata": {},
   "outputs": [
    {
     "data": {
      "text/plain": [
       "age_class\n",
       "[0, 10)         0\n",
       "[10, 20)        1\n",
       "[20, 30)        2\n",
       "[30, 40)       11\n",
       "[40, 50)       44\n",
       "[50, 60)      156\n",
       "[60, 70)      456\n",
       "[70, 80)      979\n",
       "[80, 120)    2379\n",
       "dtype: int64"
      ]
     },
     "execution_count": 19,
     "metadata": {},
     "output_type": "execute_result"
    }
   ],
   "source": [
    "deaths"
   ]
  },
  {
   "cell_type": "code",
   "execution_count": 20,
   "metadata": {},
   "outputs": [
    {
     "data": {
      "image/png": "[encoded data removed]",
      "text/plain": [
       "<Figure size 864x360 with 1 Axes>"
      ]
     },
     "metadata": {
      "needs_background": "light"
     },
     "output_type": "display_data"
    }
   ],
   "source": [
    "fig,ax = plt.subplots(figsize=(12,5))\n",
    "age_group=['0-9','10-19','20-29','30-39','40-59','50-59','60-69','70-79','80+']\n",
    "ax.bar(age_group,out[\"D\"].mean(dim=\"draws\").isel(time=out[\"time\"][-1]))\n",
    "ax.plot(age_group,deaths,'^',color='black',markersize='12')\n",
    "plt.show()"
   ]
  },
  {
   "cell_type": "markdown",
   "metadata": {},
   "source": [
    "## QALY calculations"
   ]
  },
  {
   "cell_type": "code",
   "execution_count": 21,
   "metadata": {},
   "outputs": [],
   "source": [
    "# Obtain the number of QALYs that would be lost if a person of a given age dies\n",
    "from covid19model.models.QALY import *"
   ]
  },
  {
   "cell_type": "markdown",
   "metadata": {},
   "source": [
    "### Quality of life parameters"
   ]
  },
  {
   "cell_type": "code",
   "execution_count": 22,
   "metadata": {},
   "outputs": [],
   "source": [
    "#Standarized Mortality ratio. It is used to adjust for increased mortality\n",
    "#due to comorbidities. It modifies l(x), the term in life tables that \\n\n",
    "#corresponds to the number of people per 100000 hab that survives to age x\n",
    "SMR=1\n",
    "\n",
    "#Adjustment paramter to account for additional impact on quality of life \n",
    "#due to comorbidity\n",
    "qCM=1\n",
    "\n",
    "#Disccount rate. It is included due to the time preference. Things in the present\n",
    "#are valued more than in the future. 5% is standard practice\n",
    "r=0.03\n",
    "\n",
    "##Import input data##\n",
    "#Belgian life table information\n",
    "#x: Age\n",
    "#q_x: Probability that someone aged exactly x will die before reaching age x+1\n",
    "input_life_table=pd.read_csv('../../data/interim/QALYs/Life_table_Belgium_2019.csv',sep=';')\n",
    "\n",
    "#Belgian EQ-5D QoL Survey data\n",
    "input_QoL=pd.read_csv('../../data/interim/QALYs/QoL_scores_Belgium_2018_v3.csv',sep=';')\n",
    "\n",
    "#Calculate and output age-stratified parameters\n",
    "lost_QALY_pp=get_QALY_parameters(input_life_table,input_QoL,SMR,qCM,r)"
   ]
  },
  {
   "cell_type": "markdown",
   "metadata": {},
   "source": [
    "### Perform the QALY calculation and add to the xarray output of the model"
   ]
  },
  {
   "cell_type": "code",
   "execution_count": 23,
   "metadata": {},
   "outputs": [],
   "source": [
    "out = QALY2xarray(out,lost_QALY_pp)"
   ]
  },
  {
   "cell_type": "markdown",
   "metadata": {},
   "source": [
    "### Visualize number of QALYs lost"
   ]
  },
  {
   "cell_type": "code",
   "execution_count": 24,
   "metadata": {},
   "outputs": [],
   "source": [
    "sim_time = len(out[\"time\"].values)-1"
   ]
  },
  {
   "cell_type": "code",
   "execution_count": null,
   "metadata": {},
   "outputs": [],
   "source": [
    "#Plot\n",
    "\n",
    "Palette=cm.get_cmap('tab10_r', levels).colors\n",
    "age_group=['0-9','10-19','20-29','30-39','40-59','50-59','60-69','70-79','80+']\n",
    "\n",
    "fig, ax = plt.subplots(figsize=(12,5))\n",
    "\n",
    "for i in range(levels):\n",
    "               \n",
    "    ax.plot(dates[40:],out['QALYs_lost'].mean(dim=\"draws\")[i][40:],linewidth=3, label=age_group[i],color=Palette[i])\n",
    "    ax.fill_between(dates[40:],out['QALYs_lost'][40:].quantile(0.05,dim=\"draws\")[i][40:],\n",
    "                    out['QALYs_lost'].quantile(0.95,dim=\"draws\")[i][40:], alpha = 0.15, color=Palette[i],)\n",
    "    \n",
    "#ax.set_xlim(left=50,right=sim_time)\n",
    "ax.set_ylim(bottom=0)\n",
    "ax.set_ylabel('Lost QALYs')\n",
    "ax.spines['top'].set_visible(False)\n",
    "ax.spines['right'].set_visible(False)\n",
    "#ax.tick_params(labelsize=25)\n",
    "ax.spines[\"bottom\"].set_linewidth(2)\n",
    "ax.spines[\"left\"].set_linewidth(2)\n",
    "ax.set_axisbelow(True)\n",
    "ax.legend(fancybox=True, frameon=True, framealpha=1, fontsize=15,title='Age Group', loc=\"upper left\", bbox_to_anchor=(1,1))  \n",
    "# limit the number of ticks on the axis\n",
    "ax = _apply_tick_locator(ax)\n",
    "# save figure\n",
    "plt.savefig('../../results/QALYs/QALY_prediction.pdf',bbox_inches='tight')"
   ]
  },
  {
   "cell_type": "markdown",
   "metadata": {},
   "source": [
    "###  The effect of hospital care reduction vs. COVID-19\n",
    "+ In the folowing example, the loss of life due to a constant average percentual reduction in regular hospital is calculated and compared with the overall loss of life to Covid-19.\n",
    "+ The provided function can be used to investigate the effect of time-dependent changes in hospital care as well as reductions in the treatment of different disease categories."
   ]
  },
  {
   "cell_type": "code",
   "execution_count": null,
   "metadata": {},
   "outputs": [],
   "source": [
    "from covid19model.models.QALY import lost_QALY_hospital_care\n",
    "\n",
    "# Define percentual reduction range\n",
    "reduction_range=np.linspace(0.02,0.20,100)\n",
    "# Calculate QALYs lost due to hospital care reduction\n",
    "lost_hospital=lost_QALY_hospital_care(reduction_range)/365\n",
    "# Calculate how much QALYs are lost over a time period delta_T\n",
    "delta_T = sim_time\n",
    "QALY_indirect = lost_hospital*delta_T\n",
    "# Extract direct QALY loss from model\n",
    "QALY_direct_mean = out['QALYs_lost'].mean(dim=\"draws\").sum(dim=\"Nc\").isel(time=sim_time).values\n",
    "QALY_direct_lower = out['QALYs_lost'].quantile(0.05,dim=\"draws\").sum(dim=\"Nc\").isel(time=sim_time).values\n",
    "QALY_direct_upper = out['QALYs_lost'].quantile(0.95,dim=\"draws\").sum(dim=\"Nc\").isel(time=sim_time).values\n",
    "# Calculate ratio\n",
    "ratio_mean = QALY_direct_mean/QALY_indirect\n",
    "ratio_upper = QALY_direct_lower/QALY_indirect\n",
    "ratio_lower = QALY_direct_upper/QALY_indirect"
   ]
  },
  {
   "cell_type": "code",
   "execution_count": null,
   "metadata": {},
   "outputs": [],
   "source": [
    "from covid19model.visualization.output import _apply_tick_locator\n",
    "\n",
    "# Initialize plot\n",
    "fig,ax = plt.subplots(figsize=(12,6))\n",
    "\n",
    "# Add lines\n",
    "ax.plot(reduction_range*100,ratio_mean,'--',color='black')\n",
    "ax.fill_between(reduction_range*100,ratio_lower,ratio_upper,alpha=0.2,color='black')\n",
    "\n",
    "# limit the number of ticks on the axis\n",
    "ax = _apply_tick_locator(ax)\n",
    "\n",
    "# labels and title\n",
    "ax.set_xlabel('Reduction of hospital care (%)')\n",
    "ax.set_ylabel('QALY loss ratio (direct/indirect)')\n",
    "plt.title('Comparison of qualitative life years lost\\n directly vs. indirectly to SARS-CoV-2')\n",
    "\n",
    "# save figure\n",
    "plt.savefig('../../results/QALYs/QALYratio.pdf',dpi=300)"
   ]
  },
  {
   "cell_type": "code",
   "execution_count": null,
   "metadata": {},
   "outputs": [],
   "source": [
    "from covid19model.models.QALY import lost_QALY_hospital_care\n",
    "\n",
    "#Define percentual reduction range\n",
    "reduction_range=np.linspace(0.05,0.2,200)\n",
    "#Calculate QALYs lost due to hospital care reduction\n",
    "#The function output is annualized\n",
    "lost_hospital=lost_QALY_hospital_care(reduction_range)/365\n",
    "#Convert results into time series\n",
    "lost_hospital_time=np.zeros((lost_hospital.size,sim_time+1))\n",
    "time=np.array(out['QALYs_lost']['time'])\n",
    "for i in range(sim_time+1):     \n",
    "    lost_hospital_time[:,i]=time[i]*lost_hospital\n",
    "    \n",
    "#Plot\n",
    "fig, ax = plt.subplots(figsize=(20,12))\n",
    "ax.plot(out['QALYs_lost'].sum(dim='Nc').mean(dim=\"draws\"),color='k',linewidth=4,label='Covid-19')\n",
    "ax.fill_between(time, lost_hospital_time[0,:], lost_hospital_time[-1,:],color='darkorange',\n",
    "            alpha=0.3,label='Reduced hospital care')\n",
    "\n",
    "ax.set_xlim(left=50,right=sim_time)\n",
    "ax.set_ylim(bottom=0)\n",
    "\n",
    "arrow_limit_upper=trans = (ax.transData + ax.transAxes.inverted()).transform((1,lost_hospital_time[-1,-1]))\n",
    "arrow_limit_lower=trans = (ax.transData + ax.transAxes.inverted()).transform((1,lost_hospital_time[0,-1]))\n",
    "ax.annotate(\"{0}%\".format(int(reduction_range[-1]*100)), xy=(1.025, arrow_limit_lower[1]+0.025), \n",
    "            xycoords='axes fraction', xytext=(1.01, arrow_limit_upper[1]), \n",
    "            arrowprops=dict(arrowstyle=\"wedge\", color='darkorange'))\n",
    "\n",
    "ax.text(1.02,arrow_limit_lower[1],\"{0}%\".format(int(reduction_range[0]*100)),transform=ax.transAxes)\n",
    "#Calculate interection point\n",
    "Intersect_point=np.argwhere(np.diff(np.sign(out['QALYs_lost'].sum(dim='Nc') - lost_hospital_time[0,:]))).flatten()\n",
    "ax.annotate((\"If regular hospital care is reduced\\nby {0}%, the loss of life associated with reduced care\"  \n",
    "            \"\\nwith will be higher than that\\nrelated \"\n",
    "            \"to Covid-19 during the first\\n{1} days.\").format(int(reduction_range[0]*100),time[Intersect_point[1]]), \n",
    "            xy=(time[Intersect_point[1]], lost_hospital_time[0,Intersect_point[1]]), \n",
    "            xytext=(0.55*time[Intersect_point[1]], 1.5*lost_hospital_time[-1,Intersect_point[1]]), \n",
    "            arrowprops=dict(color='darkorange'))\n",
    "\n",
    "ax.set_xlabel('Time',fontsize=25)\n",
    "ax.set_ylabel('Lost QALYs',fontsize=25)\n",
    "ax.spines['top'].set_visible(False)\n",
    "ax.spines['right'].set_visible(False)\n",
    "ax.tick_params(labelsize=25)\n",
    "ax.spines[\"bottom\"].set_linewidth(2)\n",
    "ax.spines[\"left\"].set_linewidth(2)\n",
    "ax.set_axisbelow(True)\n",
    "ax.legend(loc='best', fancybox=True, frameon=True, framealpha=1, fontsize=15)  "
   ]
  },
  {
   "cell_type": "code",
   "execution_count": null,
   "metadata": {},
   "outputs": [],
   "source": []
  }
 ],
 "metadata": {
  "kernelspec": {
   "display_name": "Python 3",
   "language": "python",
   "name": "python3"
  },
  "language_info": {
   "codemirror_mode": {
    "name": "ipython",
    "version": 3
   },
   "file_extension": ".py",
   "mimetype": "text/x-python",
   "name": "python",
   "nbconvert_exporter": "python",
   "pygments_lexer": "ipython3",
   "version": "3.8.2"
  },
  "nav_menu": {},
  "toc": {
   "navigate_menu": true,
   "number_sections": true,
   "sideBar": true,
   "threshold": "3",
   "toc_cell": true,
   "toc_section_display": "block",
   "toc_window_display": true
  }
 },
 "nbformat": 4,
 "nbformat_minor": 4
}
