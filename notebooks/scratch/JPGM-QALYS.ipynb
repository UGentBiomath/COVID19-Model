{
 "cells": [
  {
   "cell_type": "markdown",
   "metadata": {},
   "source": [
    "# Covid-19: From model prediction to model predictive control\n",
    "\n",
    "## JPGMs tryout of the QALY calculation\n",
    "\n",
    "*Original code by Juan Pablo Gallo. Modified by T.W. Alleman in consultation with the BIOMATH research unit headed by prof. Ingmar Nopens.*\n",
    "\n",
    "Copyright (c) 2020 by BIOMATH, Ghent University. All Rights Reserved."
   ]
  },
  {
   "cell_type": "markdown",
   "metadata": {},
   "source": [
    "This notebook contains a demo calculation of the number of *Quality adjusted life years* lost due to COVID-19. The calculation is performed ex-post simulation. The calculation is a simple manipulation of the number of predicted deaths. \n",
    "\n",
    "For this demo, the deterministic national-level model was used. All details with regard to the model can be found in our preprint *A deterministic, age-stratified, extended SEIRD model for assessing the effect of non-pharmaceutical interventions on SARS-CoV-2 spread in Belgium*, which can be found here: https://www.medrxiv.org/content/10.1101/2020.07.17.20156034v2"
   ]
  },
  {
   "cell_type": "code",
   "execution_count": null,
   "metadata": {
    "ExecuteTime": {
     "end_time": "2020-05-01T09:38:06.888712Z",
     "start_time": "2020-05-01T09:38:06.875510Z"
    }
   },
   "outputs": [],
   "source": [
    "import numpy as np\n",
    "import matplotlib\n",
    "import matplotlib.pyplot as plt\n",
    "import matplotlib.dates as mdates\n",
    "from matplotlib import cm\n",
    "import pandas as pd\n",
    "import datetime\n",
    "import scipy\n",
    "import json\n",
    "import random"
   ]
  },
  {
   "cell_type": "markdown",
   "metadata": {},
   "source": [
    "Load the covid 19 custom development code"
   ]
  },
  {
   "cell_type": "code",
   "execution_count": null,
   "metadata": {},
   "outputs": [],
   "source": [
    "from covid19model.optimization import objective_fcns\n",
    "from covid19model.models import models\n",
    "from covid19model.data import google, sciensano, model_parameters\n",
    "from covid19model.visualization.output import population_status, infected\n",
    "from covid19model.visualization.optimization import plot_fit, traceplot"
   ]
  },
  {
   "cell_type": "code",
   "execution_count": null,
   "metadata": {},
   "outputs": [],
   "source": [
    "# OPTIONAL: Load the \"autoreload\" extension so that package code can change\n",
    "%load_ext autoreload\n",
    "# OPTIONAL: always reload modules so that as you change code in src, it gets loaded\n",
    "%autoreload 2"
   ]
  },
  {
   "cell_type": "markdown",
   "metadata": {},
   "source": [
    "## Model initialization"
   ]
  },
  {
   "cell_type": "code",
   "execution_count": null,
   "metadata": {},
   "outputs": [],
   "source": [
    "# Load the interaction matrices (size: 9x9)\n",
    "initN, Nc_home, Nc_work, Nc_schools, Nc_transport, Nc_leisure, Nc_others, Nc_total = model_parameters.get_interaction_matrices()\n",
    "# Define the number of age categories\n",
    "levels = initN.size"
   ]
  },
  {
   "cell_type": "code",
   "execution_count": null,
   "metadata": {},
   "outputs": [],
   "source": [
    "# Define the compliance and lockdown function\n",
    "def lockdown_func(t,param,policy_time,policy1,policy2,l,tau,prevention):\n",
    "    if t <= policy_time + tau:\n",
    "        return policy1\n",
    "    elif policy_time + tau < t <= policy_time + tau + l:\n",
    "        return policy1 + (prevention*policy2-policy1)/l*(t-policy_time-tau)\n",
    "    else:\n",
    "        return prevention*policy2"
   ]
  },
  {
   "cell_type": "code",
   "execution_count": null,
   "metadata": {},
   "outputs": [],
   "source": [
    "# Load the model parameters using `get_COVID19_SEIRD_parameters()`.\n",
    "params = model_parameters.get_COVID19_SEIRD_parameters()\n",
    "# Add the delayed ramp parameters and policy changes during lockdown to model parameters dictionary\n",
    "params.update({'policy1': Nc_total,\n",
    "              'policy2': 1.0*Nc_home + (1-0.60)*Nc_work + (1-0.70)*Nc_transport + (1-0.30)*Nc_others + (1-0.80)*Nc_leisure,\n",
    "              'policy_time': 53,\n",
    "              'l': 1,\n",
    "              'tau': 5,\n",
    "              'prevention': 0.5})\n",
    "# Define the initial condition: one exposed inidividual in every age category\n",
    "initial_states = {'S': initN, 'E': np.ones(levels)}"
   ]
  },
  {
   "cell_type": "code",
   "execution_count": null,
   "metadata": {},
   "outputs": [],
   "source": [
    "# Initialize the model\n",
    "model = models.COVID19_SEIRD(initial_states, params, time_dependent_parameters={'Nc': lockdown_func})"
   ]
  },
  {
   "cell_type": "code",
   "execution_count": null,
   "metadata": {},
   "outputs": [],
   "source": [
    "# Load the dictionary containing the posterior parameter distributions obtained from calibrating the model to Belgian hospitalization data\n",
    "with open('../../data/interim/model_parameters/deterministic_22072020.json', 'r') as fp:\n",
    "    samples_dict = json.load(fp)\n",
    "\n",
    "lag_time = samples_dict['lag_time']\n",
    "model.extraTime = samples_dict['lag_time']\n",
    "model.parameters['beta'] = np.mean(samples_dict['beta'])\n",
    "model.parameters['l'] = np.mean(samples_dict['l'])\n",
    "model.parameters['tau'] = np.mean(samples_dict['tau'])\n",
    "prevention = np.mean(samples_dict['prevention'])"
   ]
  },
  {
   "cell_type": "markdown",
   "metadata": {},
   "source": [
    "## Simulate the model"
   ]
  },
  {
   "cell_type": "code",
   "execution_count": null,
   "metadata": {},
   "outputs": [],
   "source": [
    "sim_time=150\n",
    "out=model.sim(sim_time)"
   ]
  },
  {
   "cell_type": "code",
   "execution_count": null,
   "metadata": {},
   "outputs": [],
   "source": [
    "infected(out)"
   ]
  },
  {
   "cell_type": "markdown",
   "metadata": {},
   "source": [
    "## QALY calculations"
   ]
  },
  {
   "cell_type": "code",
   "execution_count": null,
   "metadata": {},
   "outputs": [],
   "source": [
    "# Obtain the number of QALYs that would be lost if a person of a given age dies\n",
    "from covid19model.models.QALY import *"
   ]
  },
  {
   "cell_type": "markdown",
   "metadata": {},
   "source": [
    "### Quality of life parameters"
   ]
  },
  {
   "cell_type": "code",
   "execution_count": null,
   "metadata": {},
   "outputs": [],
   "source": [
    "#Standarized Mortality ratio. It is used to adjust for increased mortality\n",
    "#due to comorbidities. It modifies l(x), the term in life tables that \\n\n",
    "#corresponds to the number of people per 100000 hab that survives to age x\n",
    "SMR=1\n",
    "\n",
    "#Adjustment paramter to account for additional impact on quality of life \n",
    "#due to comorbidity\n",
    "qCM=1\n",
    "\n",
    "#Disccount rate. It is included due to the time preference. Things in the present\n",
    "#are valued more than in the future. 5% is standard practice\n",
    "r=0.05\n",
    "\n",
    "##Import input data##\n",
    "#Belgian life table information\n",
    "#x: Age\n",
    "#q_x: Probability that someone aged exactly x will die before reaching age x+1\n",
    "input_life_table=pd.read_csv('../../data/interim/QALYs/Life_table_Belgium_2019.csv',sep=';')\n",
    "\n",
    "#Belgian EQ-5D QoL Survey data\n",
    "input_QoL=pd.read_csv('../../data/interim/QALYs/QoL_scores_Belgium_2018_v3.csv',sep=';')\n",
    "\n",
    "#Calculate and output age-stratified parameters\n",
    "lost_QALY_pp=get_QALY_parameters(input_life_table,input_QoL,SMR,qCM,r)"
   ]
  },
  {
   "cell_type": "markdown",
   "metadata": {},
   "source": [
    "### Perform the QALY calculation and add to the xarray output of the model"
   ]
  },
  {
   "cell_type": "code",
   "execution_count": null,
   "metadata": {},
   "outputs": [],
   "source": [
    "out = QALY2xarray(out,lost_QALY_pp)"
   ]
  },
  {
   "cell_type": "markdown",
   "metadata": {},
   "source": [
    "### Visualize number of QALYs lost"
   ]
  },
  {
   "cell_type": "code",
   "execution_count": null,
   "metadata": {},
   "outputs": [],
   "source": [
    "#Plot\n",
    "\n",
    "Palette=cm.get_cmap('tab10_r', levels).colors\n",
    "age_group=['0-9','10-19','20-29','30-39','40-59','50-59','60-69','70-79','80+']\n",
    "\n",
    "fig, ax = plt.subplots(figsize=(10,6))\n",
    "\n",
    "for i in range(levels):\n",
    "               \n",
    "    ax.plot(out['QALYs_lost'][i],linewidth=3, label=age_group[i],color=Palette[i])\n",
    "    \n",
    "#ax.plot(out['QALYs_lost'].sum(dim='Nc'),color='k',linewidth=4,label='Total')\n",
    "\n",
    "ax.set_xlim(left=50,right=sim_time)\n",
    "ax.set_ylim(bottom=0)\n",
    "ax.set_xlabel('Time',fontsize=25)\n",
    "ax.set_ylabel('Lost QALYs',fontsize=25)\n",
    "ax.spines['top'].set_visible(False)\n",
    "ax.spines['right'].set_visible(False)\n",
    "ax.tick_params(labelsize=25)\n",
    "ax.spines[\"bottom\"].set_linewidth(2)\n",
    "ax.spines[\"left\"].set_linewidth(2)\n",
    "ax.set_axisbelow(True)\n",
    "ax.legend(loc='best', fancybox=True, frameon=True, framealpha=1, fontsize=15,title='Age Group')  \n"
   ]
  },
  {
   "cell_type": "markdown",
   "metadata": {},
   "source": [
    "###  The effect of hospital care reduction vs. COVID-19\n",
    "+ In the folowing example, the loss of life due to a constant average percentual reduction in regular hospital is calculated and compared with the overall loss of life to Covid-19.\n",
    "+ The provided function can be used to investigate the effect of time-dependent changes in hospital care as well as reductions in the treatment of different disease categories."
   ]
  },
  {
   "cell_type": "code",
   "execution_count": null,
   "metadata": {},
   "outputs": [],
   "source": [
    "from covid19model.models.QALY import lost_QALY_hospital_care\n",
    "\n",
    "#Define percentual reduction range\n",
    "reduction_range=np.linspace(0.05,0.2,200)\n",
    "#Calculate QALYs lost due to hospital care reduction\n",
    "#The function output is annualized\n",
    "lost_hospital=lost_QALY_hospital_care(reduction_range)/365\n",
    "#Convert results into time series\n",
    "lost_hospital_time=np.zeros((lost_hospital.size,sim_time+1))\n",
    "time=np.array(out['QALYs_lost']['time'])\n",
    "for i in range(sim_time+1):     \n",
    "    lost_hospital_time[:,i]=time[i]*lost_hospital\n",
    "    \n",
    "#Plot\n",
    "fig, ax = plt.subplots(figsize=(20,12))\n",
    "ax.plot(out['QALYs_lost'].sum(dim='Nc'),color='k',linewidth=4,label='Covid-19')\n",
    "ax.fill_between(time, lost_hospital_time[0,:], lost_hospital_time[-1,:],color='darkorange',\n",
    "            alpha=0.3,label='Reduced hospital care')\n",
    "\n",
    "ax.set_xlim(left=50,right=sim_time)\n",
    "ax.set_ylim(bottom=0)\n",
    "\n",
    "arrow_limit_upper=trans = (ax.transData + ax.transAxes.inverted()).transform((1,lost_hospital_time[-1,-1]))\n",
    "arrow_limit_lower=trans = (ax.transData + ax.transAxes.inverted()).transform((1,lost_hospital_time[0,-1]))\n",
    "ax.annotate(\"{0}%\".format(int(reduction_range[-1]*100)), xy=(1.025, arrow_limit_lower[1]+0.025), \n",
    "            xycoords='axes fraction', xytext=(1.01, arrow_limit_upper[1]), \n",
    "            arrowprops=dict(arrowstyle=\"wedge\", color='darkorange'))\n",
    "\n",
    "ax.text(1.02,arrow_limit_lower[1],\"{0}%\".format(int(reduction_range[0]*100)),transform=ax.transAxes)\n",
    "#Calculate interection point\n",
    "Intersect_point=np.argwhere(np.diff(np.sign(out['QALYs_lost'].sum(dim='Nc') - lost_hospital_time[0,:]))).flatten()\n",
    "ax.annotate((\"If regular hospital care is reduced\\nby {0}%, the loss of life associated with reduced care\"  \n",
    "            \"\\nwith will be higher than that\\nrelated \"\n",
    "            \"to Covid-19 during the first\\n{1} days.\").format(int(reduction_range[0]*100),time[Intersect_point[1]]), \n",
    "            xy=(time[Intersect_point[1]], lost_hospital_time[0,Intersect_point[1]]), \n",
    "            xytext=(0.55*time[Intersect_point[1]], 1.5*lost_hospital_time[-1,Intersect_point[1]]), \n",
    "            arrowprops=dict(color='darkorange'))\n",
    "\n",
    "ax.set_xlabel('Time',fontsize=25)\n",
    "ax.set_ylabel('Lost QALYs',fontsize=25)\n",
    "ax.spines['top'].set_visible(False)\n",
    "ax.spines['right'].set_visible(False)\n",
    "ax.tick_params(labelsize=25)\n",
    "ax.spines[\"bottom\"].set_linewidth(2)\n",
    "ax.spines[\"left\"].set_linewidth(2)\n",
    "ax.set_axisbelow(True)\n",
    "ax.legend(loc='best', fancybox=True, frameon=True, framealpha=1, fontsize=15)  "
   ]
  }
 ],
 "metadata": {
  "kernelspec": {
   "display_name": "Python 3",
   "language": "python",
   "name": "python3"
  },
  "language_info": {
   "codemirror_mode": {
    "name": "ipython",
    "version": 3
   },
   "file_extension": ".py",
   "mimetype": "text/x-python",
   "name": "python",
   "nbconvert_exporter": "python",
   "pygments_lexer": "ipython3",
   "version": "3.8.2"
  },
  "nav_menu": {},
  "toc": {
   "navigate_menu": true,
   "number_sections": true,
   "sideBar": true,
   "threshold": "3",
   "toc_cell": true,
   "toc_section_display": "block",
   "toc_window_display": true
  }
 },
 "nbformat": 4,
 "nbformat_minor": 4
}
