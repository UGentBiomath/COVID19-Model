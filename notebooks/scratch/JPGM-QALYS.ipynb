{
 "cells": [
  {
   "cell_type": "markdown",
   "metadata": {},
   "source": [
    "# Covid-19: From model prediction to model predictive control\n",
    "\n",
    "## JPGMs tryout of the QALY calculation\n",
    "\n",
    "*Original code by Juan Pablo. Modified by T.W. Alleman in consultation with the BIOMATH research unit headed by prof. Ingmar Nopens.*\n",
    "\n",
    "Copyright (c) 2020 by BIOMATH, Ghent University. All Rights Reserved."
   ]
  },
  {
   "cell_type": "markdown",
   "metadata": {},
   "source": [
    "In `src/covid19model/models.py`, two national-level extended SEIRD compartmental models are coded,\n",
    "1. COVID19_SEIRD: a deterministic model, using ordinary differential equations (ODEs). The equations are integrated using Scipy's `odeint` with a variable timestep, it is a 'continuous-time' model.\n",
    "2. COVID19_SEIRD_sto: a stochastic model, using stochastic difference equations (SDEs). The equations are iterated using a fixed timestep of one day and is said to be a 'discrete-time' model.\n",
    "\n",
    "The deterministic model was used for all results detailed in our first COVID-19 related preprint: *A deterministic, age-stratified, extended SEIRD model for assessing the effect of non-pharmaceutical interventions on SARS-CoV-2 spread in Belgium*, which can be found here: https://www.medrxiv.org/content/10.1101/2020.07.17.20156034v2\n",
    "\n",
    "The documentation given in this tutorial has been redrafted from the above preprint. References have been omitted for the sake of simplicity."
   ]
  },
  {
   "cell_type": "code",
   "execution_count": null,
   "metadata": {
    "ExecuteTime": {
     "end_time": "2020-05-01T09:38:06.888712Z",
     "start_time": "2020-05-01T09:38:06.875510Z"
    }
   },
   "outputs": [],
   "source": [
    "import numpy as np\n",
    "import matplotlib\n",
    "import matplotlib.pyplot as plt\n",
    "import matplotlib.dates as mdates\n",
    "from matplotlib import cm\n",
    "import pandas as pd\n",
    "import datetime\n",
    "import scipy\n",
    "import json\n",
    "import random"
   ]
  },
  {
   "cell_type": "markdown",
   "metadata": {},
   "source": [
    "Load the covid 19 custom development code"
   ]
  },
  {
   "cell_type": "code",
   "execution_count": null,
   "metadata": {},
   "outputs": [],
   "source": [
    "from covid19model.optimization import objective_fcns\n",
    "from covid19model.models import models\n",
    "from covid19model.data import google, sciensano, polymod, model_parameters\n",
    "from covid19model.visualization.output import population_status, infected\n",
    "from covid19model.visualization.optimization import plot_fit, traceplot"
   ]
  },
  {
   "cell_type": "code",
   "execution_count": null,
   "metadata": {},
   "outputs": [],
   "source": [
    "# OPTIONAL: Load the \"autoreload\" extension so that package code can change\n",
    "%load_ext autoreload\n",
    "# OPTIONAL: always reload modules so that as you change code in src, it gets loaded\n",
    "%autoreload 2"
   ]
  },
  {
   "cell_type": "markdown",
   "metadata": {},
   "source": [
    "## Model initialization"
   ]
  },
  {
   "cell_type": "code",
   "execution_count": null,
   "metadata": {},
   "outputs": [],
   "source": [
    "# Load the interaction matrices (size: 9x9)\n",
    "initN, Nc_home, Nc_work, Nc_schools, Nc_transport, Nc_leisure, Nc_others, Nc_total = polymod.get_interaction_matrices()\n",
    "# Define the number of age categories\n",
    "levels = initN.size"
   ]
  },
  {
   "cell_type": "code",
   "execution_count": null,
   "metadata": {},
   "outputs": [],
   "source": [
    "# Load the compliance model\n",
    "from covid19model.models.compliance import ramp_2"
   ]
  },
  {
   "cell_type": "code",
   "execution_count": null,
   "metadata": {},
   "outputs": [],
   "source": [
    "# Load the model parameters using `get_COVID19_SEIRD_parameters()`.\n",
    "params = model_parameters.get_COVID19_SEIRD_parameters()\n",
    "# Add the delayed ramp parameters to the parameter dictionary to use compliance.\n",
    "params.update({'l': 1,\n",
    "              'tau': 5})\n",
    "# Define the initial condition: one exposed inidividual in every age category\n",
    "initial_states = {'S': initN, 'E': np.ones(levels)}\n",
    "# Initialize the model\n",
    "model = models.COVID19_SEIRD(initial_states, params, compliance=ramp_2)"
   ]
  },
  {
   "cell_type": "code",
   "execution_count": null,
   "metadata": {},
   "outputs": [],
   "source": [
    "# Load the dictionary containing the posterior parameter distributions obtained from calibrating the model to Belgian hospitalization data\n",
    "with open('../../data/interim/model_parameters/deterministic_22072020.json', 'r') as fp:\n",
    "    samples_dict = json.load(fp)\n",
    "\n",
    "lag_time = samples_dict['lag_time']\n",
    "model.extraTime = samples_dict['lag_time']\n",
    "model.parameters['beta'] = np.mean(samples_dict['beta'])\n",
    "model.parameters['l'] = np.mean(samples_dict['l'])\n",
    "model.parameters['tau'] = np.mean(samples_dict['tau'])\n",
    "prevention = np.mean(samples_dict['prevention'])"
   ]
  },
  {
   "cell_type": "markdown",
   "metadata": {},
   "source": [
    "## Simulate the model"
   ]
  },
  {
   "cell_type": "code",
   "execution_count": null,
   "metadata": {},
   "outputs": [],
   "source": [
    "sim_time=150\n",
    "out=model.sim(sim_time)"
   ]
  },
  {
   "cell_type": "markdown",
   "metadata": {},
   "source": [
    "## QALY calculations"
   ]
  },
  {
   "cell_type": "code",
   "execution_count": null,
   "metadata": {},
   "outputs": [],
   "source": [
    "from covid19model.models.QALY import create_life_table"
   ]
  },
  {
   "cell_type": "markdown",
   "metadata": {},
   "source": [
    "#### Quality of life parameters"
   ]
  },
  {
   "cell_type": "code",
   "execution_count": null,
   "metadata": {},
   "outputs": [],
   "source": [
    "# Standarized Mortality ratio. It is used to adjust for increased mortality \n",
    "#due to comorbidities. It modifies l(x), the term in life tables that \n",
    "# corresponds to the number of people per 100000 hab that survives to age x\n",
    "SMR=1 \n",
    "#Adjustment paramter to account for additional impact on quality of life \n",
    "#due to comorbidity\n",
    "qCM=1\n",
    "#Disccount rate. It is included due to the time preference. Things in the present\n",
    "#are valued more than in the future. 5% is standard practice\n",
    "r=0.05\n",
    "\n",
    "##Import input data##\n",
    "#Belgian life table information\n",
    "#x: AGe\n",
    "#q_x: Probability that someone aged exactly x will die before reaching age x+1\n",
    "input_life_table=pd.read_csv('../../data/raw/QALYs/Life_table_Belgium_2018.csv',sep=';')\n",
    "#Belgian EQ-5D QoL Survey data\n",
    "input_QoL=pd.read_csv('../../data/raw/QALYs/QoL_scores_Belgium_2018_v3.csv',sep=';')\n",
    "\n",
    "#Deaths per age group dataframe initialization\n",
    "deaths_input=pd.DataFrame({'age_group':['0-9','10-19','20-29','30-39','40-59','50-59','60-69','70-79','80+'],\n",
    "                          'group_limit':[9,19,29,39,49,59,69,89,110],\n",
    "                          'deaths':[np.nan,np.nan,np.nan,np.nan,np.nan,np.nan,np.nan,np.nan,np.nan]})"
   ]
  },
  {
   "cell_type": "code",
   "execution_count": null,
   "metadata": {},
   "outputs": [],
   "source": [
    "#Create life Belgium's life table\n",
    "life_table_1=create_life_table(input_life_table,input_QoL,SMR,qCM,r)\n",
    "#Extraact death information\n",
    "total_deaths=out['D']\n",
    "\n",
    "low_limit=0\n",
    "#Calculate average number of lost QALYs per person for the available age groups\n",
    "for i in range(len(deaths_input['group_limit'])):\n",
    "    avg_dQALY=np.mean(life_table_1.loc[low_limit:deaths_input.loc[i,'group_limit'],'QALY_x'])\n",
    "    deaths_input.loc[i,'lost_QALY_pp']=avg_dQALY\n",
    "    low_limit=deaths_input.loc[i,'group_limit']+1\n",
    "\n",
    "#Initialize output array\n",
    "lost_QALY=np.zeros((sim_time,len(deaths_input['group_limit'])))\n",
    "\n",
    "#Calculate total number of lost QALYs for each age group for each time step                   \n",
    "for j in range(sim_time):\n",
    "    deaths_time=deaths_input.copy()\n",
    "    for a in range(len(deaths_time['group_limit'])):\n",
    "        \n",
    "        deaths_time.loc[a,'deaths']=np.array(total_deaths[a][j])\n",
    "        deaths_time['lost_QALY']=deaths_time['deaths']*deaths_time['lost_QALY_pp']\n",
    "        lost_QALY[j,:]=deaths_time['lost_QALY']"
   ]
  },
  {
   "cell_type": "code",
   "execution_count": null,
   "metadata": {},
   "outputs": [],
   "source": [
    "#Plot\n",
    "Palette=cm.get_cmap('tab10_r', len(lost_QALY[j,:])).colors\n",
    "\n",
    "\n",
    "fig, ax = plt.subplots(figsize=(20,12))\n",
    "\n",
    "for i in range(len(lost_QALY[j,:])):\n",
    "               \n",
    "    ax.plot(lost_QALY[:,i],linewidth=3,label=deaths_input['age_group'][i],color=Palette[i])\n",
    "    \n",
    "#ax.plot(lost_QALY.sum(axis=1),color='k',linewidth=4,label='Total')\n",
    "\n",
    "ax.set_xlim(left=50,right=sim_time)\n",
    "ax.set_ylim(bottom=0)\n",
    "ax.set_xlabel('Time',fontsize=25)\n",
    "ax.set_ylabel('Lost QALYs',fontsize=25)\n",
    "ax.spines['top'].set_visible(False)\n",
    "ax.spines['right'].set_visible(False)\n",
    "ax.tick_params(labelsize=25)\n",
    "ax.spines[\"bottom\"].set_linewidth(2)\n",
    "ax.spines[\"left\"].set_linewidth(2)\n",
    "ax.set_axisbelow(True)\n",
    "ax.legend(loc='best', fancybox=True, frameon=True, framealpha=1, fontsize=15,title='Age Group')  \n"
   ]
  },
  {
   "cell_type": "code",
   "execution_count": null,
   "metadata": {},
   "outputs": [],
   "source": []
  }
 ],
 "metadata": {
  "kernelspec": {
   "display_name": "Python 3",
   "language": "python",
   "name": "python3"
  },
  "language_info": {
   "codemirror_mode": {
    "name": "ipython",
    "version": 3
   },
   "file_extension": ".py",
   "mimetype": "text/x-python",
   "name": "python",
   "nbconvert_exporter": "python",
   "pygments_lexer": "ipython3",
   "version": "3.8.2"
  },
  "nav_menu": {},
  "toc": {
   "navigate_menu": true,
   "number_sections": true,
   "sideBar": true,
   "threshold": "3",
   "toc_cell": true,
   "toc_section_display": "block",
   "toc_window_display": true
  }
 },
 "nbformat": 4,
 "nbformat_minor": 4
}
