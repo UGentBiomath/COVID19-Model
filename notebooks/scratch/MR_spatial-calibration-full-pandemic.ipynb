{
 "cells": [
  {
   "cell_type": "markdown",
   "id": "993595f6",
   "metadata": {},
   "source": [
    "**TUTORIAL**\n",
    "\n",
    "This Notebook guides the reader through the various steps required for the full-pandemic calibration of the spatially explicit SEIQRD model with VOCs, vaccinations, and seasonality.\n",
    "\n",
    "**Remaining Questions**\n",
    "- Q1\n",
    "- Q2\n",
    "\n",
    "**Remaining Problems and errors**\n",
    "- P1\n",
    "- P2\n",
    "\n",
    "**Research opportunities**\n",
    "- O1\n",
    "- O2"
   ]
  },
  {
   "cell_type": "markdown",
   "id": "62f9ca52",
   "metadata": {},
   "source": [
    "# Load required packages and functions"
   ]
  },
  {
   "cell_type": "code",
   "execution_count": 1,
   "id": "82c2f42e",
   "metadata": {
    "ExecuteTime": {
     "end_time": "2021-09-16T13:02:06.251520Z",
     "start_time": "2021-09-16T13:02:04.219887Z"
    }
   },
   "outputs": [],
   "source": [
    "# Load standard packages\n",
    "import pandas as pd\n",
    "import json\n",
    "import numpy as np\n",
    "import matplotlib.pyplot as plt\n",
    "\n",
    "# Import the spatially explicit SEIQRD model with VOCs, vaccinations, seasonality\n",
    "from covid19model.models import models\n",
    "\n",
    "# \n",
    "from covid19model.models.time_dependant_parameter_fncs import make_mobility_update_function, \\\n",
    "                                                              make_contact_matrix_function, \\\n",
    "                                                              make_VOC_function, \\\n",
    "                                                              make_vaccination_function\n",
    "from covid19model.models.utils import initial_state\n",
    "# from covid19model.optimization.run_optimization import checkplots, calculate_R0\n",
    "# from covid19model.optimization.objective_fcns import prior_custom, prior_uniform\n",
    "from covid19model.data import mobility, sciensano, model_parameters\n",
    "# from covid19model.optimization import pso, objective_fcns\n",
    "from covid19model.visualization.output import _apply_tick_locator \n",
    "from covid19model.visualization.optimization import autocorrelation_plot, traceplot, plot_fit, plot_calibration_fit\n",
    "from covid19model.visualization.utils import moving_avg\n",
    "from covid19model.optimization.utils import perturbate_PSO, run_MCMC\n",
    "from covid19model.optimization.utils import samples_dict_to_emcee_chain # used for corner plots\n",
    "import random\n",
    "import datetime\n",
    "\n",
    "# OPTIONAL: Load the \"autoreload\" extension so that package code can change\n",
    "%load_ext autoreload\n",
    "# OPTIONAL: always reload modules so that as you change code in src, it gets loaded\n",
    "# This may be useful because the `covid19model` package is under construction\n",
    "%autoreload 2\n",
    "\n",
    "# Copied from mrollier-calibration-WAVE2_spatial.ipynb\n",
    "import gc\n",
    "import sys, getopt\n",
    "import os\n",
    "import ujson as json\n",
    "import random\n",
    "import emcee\n",
    "import datetime\n",
    "import corner\n",
    "import argparse\n",
    "import numpy as np\n",
    "import pandas as pd\n",
    "import matplotlib.pyplot as plt\n",
    "import multiprocessing as mp\n",
    "from multiprocessing import Pool\n",
    "\n",
    "from covid19model.models import models\n",
    "from covid19model.optimization.objective_fcns import prior_custom, prior_uniform\n",
    "from covid19model.data import mobility, sciensano, model_parameters, VOC\n",
    "from covid19model.optimization import pso, objective_fcns\n",
    "from covid19model.models.time_dependant_parameter_fncs import ramp_fun\n",
    "from covid19model.visualization.output import _apply_tick_locator \n",
    "from covid19model.visualization.optimization import autocorrelation_plot, traceplot\n",
    "from covid19model.models.utils import initial_state\n",
    "\n",
    "\n",
    "agg='prov'"
   ]
  }
 ],
 "metadata": {
  "kernelspec": {
   "display_name": "Python 3 (ipykernel)",
   "language": "python",
   "name": "python3"
  },
  "language_info": {
   "codemirror_mode": {
    "name": "ipython",
    "version": 3
   },
   "file_extension": ".py",
   "mimetype": "text/x-python",
   "name": "python",
   "nbconvert_exporter": "python",
   "pygments_lexer": "ipython3",
   "version": "3.7.3"
  },
  "toc": {
   "base_numbering": 1,
   "nav_menu": {},
   "number_sections": true,
   "sideBar": true,
   "skip_h1_title": false,
   "title_cell": "Table of Contents",
   "title_sidebar": "Contents",
   "toc_cell": false,
   "toc_position": {},
   "toc_section_display": true,
   "toc_window_display": false
  }
 },
 "nbformat": 4,
 "nbformat_minor": 5
}
