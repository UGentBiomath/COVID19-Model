{
 "cells": [
  {
   "cell_type": "code",
   "execution_count": 1,
   "metadata": {
    "ExecuteTime": {
     "end_time": "2022-04-01T11:47:27.469381Z",
     "start_time": "2022-04-01T11:47:23.126687Z"
    }
   },
   "outputs": [],
   "source": [
    "from datetime import date, datetime, timedelta\n",
    "import pandas as pd\n",
    "import numpy as np\n",
    "import glob\n",
    "%matplotlib notebook\n",
    "import matplotlib.pyplot as plt\n",
    "import sys\n",
    "import datetime\n",
    "# sys.path.insert(0, \"../tools\")\n",
    "from covid19model.data.mobility import * # contains all necessary functions\n",
    "from covid19model.visualization.output import *\n",
    "from covid19model.data.sciensano import get_sciensano_COVID19_data_spatial, get_sciensano_COVID19_data\n",
    "from covid19model.data.mobility import get_google_mobility_data\n",
    "\n",
    "# OPTIONAL: Load the \"autoreload\" extension so that package code can change\n",
    "%load_ext autoreload\n",
    "# OPTIONAL: always reload modules so that as you change code in src, it gets loaded\n",
    "%autoreload 2\n",
    "\n",
    "%matplotlib inline"
   ]
  },
  {
   "cell_type": "code",
   "execution_count": 3,
   "metadata": {
    "ExecuteTime": {
     "end_time": "2022-04-01T11:47:37.432858Z",
     "start_time": "2022-04-01T11:47:30.380569Z"
    }
   },
   "outputs": [
    {
     "data": {
      "text/html": [
       "<div>\n",
       "<style scoped>\n",
       "    .dataframe tbody tr th:only-of-type {\n",
       "        vertical-align: middle;\n",
       "    }\n",
       "\n",
       "    .dataframe tbody tr th {\n",
       "        vertical-align: top;\n",
       "    }\n",
       "\n",
       "    .dataframe thead th {\n",
       "        text-align: right;\n",
       "    }\n",
       "</style>\n",
       "<table border=\"1\" class=\"dataframe\">\n",
       "  <thead>\n",
       "    <tr style=\"text-align: right;\">\n",
       "      <th></th>\n",
       "      <th></th>\n",
       "      <th>H_tot</th>\n",
       "      <th>ICU_tot</th>\n",
       "      <th>H_in</th>\n",
       "      <th>H_out</th>\n",
       "    </tr>\n",
       "    <tr>\n",
       "      <th>date</th>\n",
       "      <th>NIS</th>\n",
       "      <th></th>\n",
       "      <th></th>\n",
       "      <th></th>\n",
       "      <th></th>\n",
       "    </tr>\n",
       "  </thead>\n",
       "  <tbody>\n",
       "    <tr>\n",
       "      <th rowspan=\"5\" valign=\"top\">2020-03-15</th>\n",
       "      <th>10000</th>\n",
       "      <td>50</td>\n",
       "      <td>9</td>\n",
       "      <td>7</td>\n",
       "      <td>4</td>\n",
       "    </tr>\n",
       "    <tr>\n",
       "      <th>20001</th>\n",
       "      <td>13</td>\n",
       "      <td>2</td>\n",
       "      <td>2</td>\n",
       "      <td>0</td>\n",
       "    </tr>\n",
       "    <tr>\n",
       "      <th>20002</th>\n",
       "      <td>5</td>\n",
       "      <td>2</td>\n",
       "      <td>1</td>\n",
       "      <td>0</td>\n",
       "    </tr>\n",
       "    <tr>\n",
       "      <th>21000</th>\n",
       "      <td>58</td>\n",
       "      <td>11</td>\n",
       "      <td>7</td>\n",
       "      <td>2</td>\n",
       "    </tr>\n",
       "    <tr>\n",
       "      <th>30000</th>\n",
       "      <td>19</td>\n",
       "      <td>3</td>\n",
       "      <td>6</td>\n",
       "      <td>2</td>\n",
       "    </tr>\n",
       "    <tr>\n",
       "      <th>...</th>\n",
       "      <th>...</th>\n",
       "      <td>...</td>\n",
       "      <td>...</td>\n",
       "      <td>...</td>\n",
       "      <td>...</td>\n",
       "    </tr>\n",
       "    <tr>\n",
       "      <th rowspan=\"5\" valign=\"top\">2022-03-04</th>\n",
       "      <th>50000</th>\n",
       "      <td>261</td>\n",
       "      <td>27</td>\n",
       "      <td>9</td>\n",
       "      <td>49</td>\n",
       "    </tr>\n",
       "    <tr>\n",
       "      <th>60000</th>\n",
       "      <td>192</td>\n",
       "      <td>24</td>\n",
       "      <td>21</td>\n",
       "      <td>28</td>\n",
       "    </tr>\n",
       "    <tr>\n",
       "      <th>70000</th>\n",
       "      <td>147</td>\n",
       "      <td>7</td>\n",
       "      <td>14</td>\n",
       "      <td>25</td>\n",
       "    </tr>\n",
       "    <tr>\n",
       "      <th>80000</th>\n",
       "      <td>21</td>\n",
       "      <td>5</td>\n",
       "      <td>0</td>\n",
       "      <td>9</td>\n",
       "    </tr>\n",
       "    <tr>\n",
       "      <th>90000</th>\n",
       "      <td>64</td>\n",
       "      <td>15</td>\n",
       "      <td>1</td>\n",
       "      <td>10</td>\n",
       "    </tr>\n",
       "  </tbody>\n",
       "</table>\n",
       "<p>7920 rows × 4 columns</p>\n",
       "</div>"
      ],
      "text/plain": [
       "                  H_tot  ICU_tot  H_in  H_out\n",
       "date       NIS                               \n",
       "2020-03-15 10000     50        9     7      4\n",
       "           20001     13        2     2      0\n",
       "           20002      5        2     1      0\n",
       "           21000     58       11     7      2\n",
       "           30000     19        3     6      2\n",
       "...                 ...      ...   ...    ...\n",
       "2022-03-04 50000    261       27     9     49\n",
       "           60000    192       24    21     28\n",
       "           70000    147        7    14     25\n",
       "           80000     21        5     0      9\n",
       "           90000     64       15     1     10\n",
       "\n",
       "[7920 rows x 4 columns]"
      ]
     },
     "execution_count": 3,
     "metadata": {},
     "output_type": "execute_result"
    }
   ],
   "source": [
    "# df_hosp, df_mort, df_cases, df_vacc = get_sciensano_COVID19_data(update=False)\n",
    "df_hosp"
   ]
  },
  {
   "cell_type": "code",
   "execution_count": 4,
   "metadata": {
    "ExecuteTime": {
     "end_time": "2022-04-01T11:47:59.669213Z",
     "start_time": "2022-04-01T11:47:59.427727Z"
    }
   },
   "outputs": [],
   "source": [
    "# Import Sciensano data\n",
    "sciensano_df = get_sciensano_COVID19_data_spatial(agg='arr', values='hospitalised_IN', moving_avg=True).sum(axis=1)\n",
    "sciensano_values= sciensano_df.values\n",
    "sciensano_dates = sciensano_df.index"
   ]
  },
  {
   "cell_type": "code",
   "execution_count": 7,
   "metadata": {
    "ExecuteTime": {
     "end_time": "2022-04-01T11:48:11.353445Z",
     "start_time": "2022-04-01T11:48:11.284460Z"
    }
   },
   "outputs": [],
   "source": [
    "# All key dates copied from tdpf\n",
    "\n",
    "t0 = pd.Timestamp('2020-02-15') # first Google date\n",
    "\n",
    "# Define key dates of first wave\n",
    "t1 = pd.Timestamp('2020-03-15') # start of lockdown\n",
    "t2 = pd.Timestamp('2020-05-15') # gradual re-opening of schools (assume 50% of nominal scenario)\n",
    "t3 = pd.Timestamp('2020-07-01') # start of summer holidays\n",
    "t4 = pd.Timestamp('2020-08-03') # Summer lockdown in Antwerp\n",
    "t5 = pd.Timestamp('2020-08-24') # End of summer lockdown in Antwerp\n",
    "t6 = pd.Timestamp('2020-09-01') # end of summer holidays\n",
    "t7 = pd.Timestamp('2020-09-21') # Opening universities\n",
    "\n",
    "# Define key dates of winter 2020-2021\n",
    "t8 = pd.Timestamp('2020-10-19') # lockdown (1)\n",
    "t9 = pd.Timestamp('2020-11-02') # lockdown (2)\n",
    "t10 = pd.Timestamp('2020-11-16') # schools re-open\n",
    "t11 = pd.Timestamp('2020-12-18') # Christmas holiday starts\n",
    "t12 = pd.Timestamp('2021-01-04') # Christmas holiday ends\n",
    "t13 = pd.Timestamp('2021-02-15') # Spring break starts\n",
    "t14 = pd.Timestamp('2021-02-21') # Spring break ends\n",
    "t15 = pd.Timestamp('2021-02-28') # Contact increase in children\n",
    "t16 = pd.Timestamp('2021-03-26') # Start of Easter holiday\n",
    "t17 = pd.Timestamp('2021-04-18') # End of Easter holiday\n",
    "t18 = pd.Timestamp('2021-06-01') # Start of relaxations\n",
    "t19 = pd.Timestamp('2021-07-01') # Start of Summer holiday\n",
    "\n",
    "# Define key dates of winter 2021-2022\n",
    "t20 = pd.Timestamp('2021-09-01') # End of Summer holiday\n",
    "t21 = pd.Timestamp('2021-09-21') # Opening of universities\n",
    "t22 = pd.Timestamp('2021-10-01') # Flanders releases all measures\n",
    "t23 = pd.Timestamp('2021-11-01') # Start of autumn break\n",
    "t24 = pd.Timestamp('2021-11-07') # End of autumn break\n",
    "t25 = pd.Timestamp('2021-11-17') # Overlegcommite 1 out of 3\n",
    "t26 = pd.Timestamp('2021-12-03') # Overlegcommite 3 out of 3\n",
    "t27 = pd.Timestamp('2021-12-20') # Start of Christmass break (one week earlier than normal)\n",
    "t28 = pd.Timestamp('2022-01-10') # End of Christmass break\n",
    "t29 = pd.Timestamp('2022-02-28') # Start of Spring Break\n",
    "t30 = pd.Timestamp('2022-03-06') # End of Spring Break\n",
    "t31 = pd.Timestamp('2022-04-04') # Start of Easter Break\n",
    "t32 = pd.Timestamp('2022-04-17') # End of Easter Break\n",
    "t33 = pd.Timestamp('2022-07-01') # Start of summer holidays\n",
    "\n",
    "# all_dates = np.array([t1, t2, t3, t4, t5, t6, t7, t8, t9, t10, t11, t12, t13, t14, t15, t16, t17, t18, t19, t20, t21, t22, t23, t24, t25, t26])"
   ]
  },
  {
   "cell_type": "markdown",
   "metadata": {
    "heading_collapsed": true
   },
   "source": [
    "# Google Mobility Data per activity"
   ]
  },
  {
   "cell_type": "markdown",
   "metadata": {
    "hidden": true
   },
   "source": [
    "**Insert Google Mobility parameters per province**"
   ]
  },
  {
   "cell_type": "code",
   "execution_count": null,
   "metadata": {
    "ExecuteTime": {
     "end_time": "2022-01-26T18:53:12.879796Z",
     "start_time": "2022-01-26T18:53:12.517505Z"
    },
    "hidden": true
   },
   "outputs": [],
   "source": [
    "NIS = 60000\n",
    "\n",
    "# google_df = get_google_mobility_data(update=False, provincial=True)\n",
    "# google_df_dates = google_df.index.values\n",
    "# google_df.columns\n",
    "\n",
    "google_df = google_df.reset_index().set_index('date')\n",
    "google_df = google_df[google_df['NIS']==NIS].drop(columns=['NIS', 'parks', 'residential'])\n",
    "\n",
    "google_df['g_home'] = 1\n",
    "google_df['g_school'] = 0\n",
    "google_df['g_work'] = 1 + google_df.work/100\n",
    "google_df['g_transport'] = 1 + google_df.transport/100\n",
    "google_df['g_leisure'] = 1 + google_df.retail_recreation/100\n",
    "google_df['g_other'] = 1 + google_df.grocery/100\n",
    "\n",
    "google_df = google_df.drop(columns=['work', 'transport', 'retail_recreation', 'grocery'])\n",
    "\n",
    "# google_df.plot()"
   ]
  },
  {
   "cell_type": "markdown",
   "metadata": {
    "hidden": true
   },
   "source": [
    "**Insert Google Mobility parameters nationally**"
   ]
  },
  {
   "cell_type": "code",
   "execution_count": null,
   "metadata": {
    "ExecuteTime": {
     "end_time": "2022-02-02T09:45:31.182703Z",
     "start_time": "2022-02-02T09:45:31.097635Z"
    },
    "hidden": true
   },
   "outputs": [],
   "source": [
    "google_df = get_google_mobility_data(update=False, provincial=False)\n",
    "google_df = google_df.drop(columns=['parks', 'residential'])\n",
    "\n",
    "google_df['g_home'] = 1\n",
    "google_df['g_school'] = 0\n",
    "google_df['g_work'] = 1 + google_df.work/100\n",
    "google_df['g_transport'] = 1 + google_df.transport/100\n",
    "google_df['g_leisure'] = 1 + google_df.retail_recreation/100\n",
    "google_df['g_other'] = 1 + google_df.grocery/100\n",
    "\n",
    "google_df = google_df.drop(columns=['work', 'transport', 'retail_recreation', 'grocery'])\n",
    "\n",
    "google_df.head()"
   ]
  },
  {
   "cell_type": "code",
   "execution_count": null,
   "metadata": {
    "ExecuteTime": {
     "end_time": "2022-02-02T10:41:35.959791Z",
     "start_time": "2022-02-02T10:41:35.882704Z"
    },
    "hidden": true
   },
   "outputs": [],
   "source": [
    "# Manually add school values\n",
    "\n",
    "google_df.loc[google_df.index>=t0, 'g_school'] = 1\n",
    "google_df.loc[google_df.index>=t1, 'g_school'] = 0 # ramp l1\n",
    "google_df.loc[google_df.index>=t2, 'g_school'] = 0 # ramp l custom\n",
    "google_df.loc[google_df.index>=t3, 'g_school'] = 0 # ramp l custom\n",
    "google_df.loc[google_df.index>=t4, 'g_school'] = 0\n",
    "google_df.loc[google_df.index>=t5, 'g_school'] = 0\n",
    "google_df.loc[google_df.index>=t6, 'g_school'] = 0.7\n",
    "google_df.loc[google_df.index>=t7, 'g_school'] = 1\n",
    "google_df.loc[google_df.index>=t8, 'g_school'] = 1 # ramp l2\n",
    "google_df.loc[google_df.index>=t9, 'g_school'] = 0\n",
    "google_df.loc[google_df.index>=t10,'g_school'] = 1\n",
    "google_df.loc[google_df.index>=t11,'g_school'] = 0\n",
    "google_df.loc[google_df.index>=t12,'g_school'] = 1\n",
    "google_df.loc[google_df.index>=t13,'g_school'] = 0\n",
    "google_df.loc[google_df.index>=t14,'g_school'] = 1\n",
    "google_df.loc[google_df.index>=t15,'g_school'] = 1\n",
    "google_df.loc[google_df.index>=t16,'g_school'] = 0\n",
    "google_df.loc[google_df.index>=t17,'g_school'] = 1\n",
    "google_df.loc[google_df.index>=t18,'g_school'] = 1 # ramp l custom\n",
    "google_df.loc[google_df.index>=t19,'g_school'] = 0 # ramp l custom\n",
    "google_df.loc[google_df.index>=t20,'g_school'] = 0.7\n",
    "google_df.loc[google_df.index>=t21,'g_school'] = 1\n",
    "google_df.loc[google_df.index>=t22,'g_school'] = 1\n",
    "google_df.loc[google_df.index>=t23,'g_school'] = 0\n",
    "google_df.loc[google_df.index>=t24,'g_school'] = 1\n",
    "google_df.loc[google_df.index>=t25,'g_school'] = 1\n",
    "google_df.loc[google_df.index>=t26,'g_school'] = 1\n",
    "google_df.loc[google_df.index>=t27,'g_school'] = 0"
   ]
  },
  {
   "cell_type": "code",
   "execution_count": null,
   "metadata": {
    "ExecuteTime": {
     "end_time": "2022-02-02T10:41:36.175663Z",
     "start_time": "2022-02-02T10:41:36.053431Z"
    },
    "hidden": true
   },
   "outputs": [],
   "source": [
    "# Manually add intertia slope\n",
    "\n",
    "l1 = 18\n",
    "l2 = 9\n",
    "\n",
    "def ramp_fun(Nc_old, Nc_new, t, t_start, l):\n",
    "    return Nc_old + (Nc_new-Nc_old)/l * float( (t-t_start)/pd.Timedelta('1D') )\n",
    "\n",
    "# Alter values after t1\n",
    "for day in range(0, l1):\n",
    "    time = t1+pd.Timedelta(days=day)\n",
    "    value = ramp_fun(1, 0, time, t1, l1)\n",
    "    google_df.loc[google_df.index==time, 'g_school'] = value\n",
    "\n",
    "# Alter values after t2\n",
    "l = (t3 - t2)/pd.Timedelta(days=1)\n",
    "for day in range(0, int(l)):\n",
    "    time = t2+pd.Timedelta(days=day)\n",
    "    value = ramp_fun(0, 0, time, t2, l)\n",
    "    google_df.loc[google_df.index==time, 'g_school'] = value\n",
    "    \n",
    "# Alter values after t3\n",
    "l = (t4 - t3)/pd.Timedelta(days=1)\n",
    "for day in range(0, int(l)):\n",
    "    time = t3+pd.Timedelta(days=day)\n",
    "    value = ramp_fun(0, 0, time, t3, l)\n",
    "    google_df.loc[google_df.index==time, 'g_school'] = value\n",
    "    \n",
    "# Alter values after t8\n",
    "for day in range(0, l2):\n",
    "    time = t8+pd.Timedelta(days=day)\n",
    "    value = ramp_fun(1, 1, time, t8, l2)\n",
    "    google_df.loc[google_df.index==time, 'g_school'] = value\n",
    "    \n",
    "# Alter values after t18\n",
    "l = (t19 - t18)/pd.Timedelta(days=1)\n",
    "for day in range(0, int(l)):\n",
    "    time = t18 + pd.Timedelta(days=day)\n",
    "    value = ramp_fun(1, 1, time, t18, l)\n",
    "    google_df.loc[google_df.index==time, 'g_school'] = value\n",
    "    \n",
    "# Alter values after t19\n",
    "l = (t20 - t19)/pd.Timedelta(days=1)\n",
    "for day in range(0, int(l)):\n",
    "    time = t19 + pd.Timedelta(days=day)\n",
    "    value = ramp_fun(0, 0, time, t19, l)\n",
    "    google_df.loc[google_df.index==time, 'g_school'] = value"
   ]
  },
  {
   "cell_type": "code",
   "execution_count": null,
   "metadata": {
    "ExecuteTime": {
     "end_time": "2022-02-02T10:41:56.804896Z",
     "start_time": "2022-02-02T10:41:56.231320Z"
    },
    "hidden": true
   },
   "outputs": [],
   "source": [
    "from covid19model.visualization.utils import moving_avg\n",
    "from covid19model.visualization.output import *\n",
    "from covid19model.data import sciensano\n",
    "\n",
    "start_date = datetime.datetime(2020, 1, 1, 0, 0)\n",
    "end_date = datetime.datetime(2022, 1, 1, 0, 0)\n",
    "\n",
    "fig, ax = plt.subplots(figsize=(10,3))\n",
    "ticklabelsize = 12\n",
    "ax.grid(False)\n",
    "ax.set_xlim(start_date, end_date)\n",
    "ylim=1.7\n",
    "ax.set_ylim(-0.1, ylim)\n",
    "\n",
    "week_color='blanchedalmond'#'white'\n",
    "weekend_color='blanchedalmond'#'lightgrey'\n",
    "vacation_color='khaki'#weekend_color\n",
    "color_timeframes(start_date, end_date, ax=ax, week_color=week_color, weekend_color=weekend_color, vacation_color=vacation_color)\n",
    "\n",
    "# ax.set_title('test', size=14)\n",
    "\n",
    "ax.plot(google_df.index, google_df.values[:,0:1], linewidth=1, linestyle='--')\n",
    "ax.plot(google_df.index, google_df.values[:,1:2], linewidth=1, linestyle='-.')\n",
    "ax.plot(google_df.index, google_df.values[:,2:], linewidth=1, linestyle='-')#, color=['k', 'blue', 'k', 'blue', 'k', 'blue'])\n",
    "# google_df.plot(ax=ax, legend=False, linewidth=1.5)#, color=['k', 'blue', 'k', 'blue', 'k', 'blue'])\n",
    "ax.set_xlabel(None, size=ticklabelsize)\n",
    "ax.set_ylabel('$G^{k}(t)$', size=ticklabelsize)\n",
    "plt.xticks(rotation=0, size=ticklabelsize)\n",
    "\n",
    "ax.set_xlim(start_date, end_date)\n",
    "\n",
    "ax.grid(False)\n",
    "\n",
    "ax.legend(['home', 'school', 'work', 'transport', 'leisure', 'other'], loc='center', ncol=3,  bbox_to_anchor=(0.38, 0.9), fontsize=ticklabelsize)\n",
    "# plt.savefig(\"GCM_resulting_timeseries.png\", bbox_inches='tight', dpi=400)"
   ]
  },
  {
   "cell_type": "markdown",
   "metadata": {
    "heading_collapsed": true
   },
   "source": [
    "# Effectivity parameters time series\n",
    "\n",
    "Taken from `policies_all` tdpf used in the latest calibration.\n",
    "\n",
    "NOTE: in the latest update all these values are fixed for dates in the past and calibrated over the _entire_ past. The only values that change are ones in the future, simulating particular future scenarios."
   ]
  },
  {
   "cell_type": "code",
   "execution_count": null,
   "metadata": {
    "ExecuteTime": {
     "end_time": "2022-02-02T10:44:08.189670Z",
     "start_time": "2022-02-02T10:44:08.113768Z"
    },
    "hidden": true
   },
   "outputs": [],
   "source": [
    "# Use the Google dataframe with new columns\n",
    "google_df_bis = get_google_mobility_data(update=False, provincial=False)\n",
    "google_df_bis = google_df_bis.drop(columns=['parks', 'residential'])\n",
    "\n",
    "google_df_bis['omega_home'] = 0\n",
    "google_df_bis['omega_school'] = 0\n",
    "google_df_bis['omega_work'] = 0\n",
    "google_df_bis['omega_rest'] = 0\n",
    "\n",
    "google_df_bis.drop(columns=['retail_recreation', 'grocery', 'transport', 'work'], inplace=True)"
   ]
  },
  {
   "cell_type": "code",
   "execution_count": null,
   "metadata": {
    "ExecuteTime": {
     "end_time": "2022-02-02T10:44:13.011296Z",
     "start_time": "2022-02-02T10:44:12.951396Z"
    },
    "hidden": true
   },
   "outputs": [],
   "source": [
    "# calibration values\n",
    "prev_home_cal = 0.446\n",
    "prev_home_cal = 0.046\n",
    "prev_home_cal = 0.051\n",
    "\n",
    "google_df_bis.loc[google_df.index>=t0, 'omega_home'] = 1\n",
    "google_df_bis.loc[google_df.index>=t1, 'omega_home'] = 1\n",
    "google_df_bis.loc[google_df.index>=t2, 'omega_home'] = 1\n",
    "google_df_bis.loc[google_df.index>=t3, 'omega_home'] = 1\n",
    "google_df_bis.loc[google_df.index>=t4, 'omega_home'] = 1\n",
    "google_df_bis.loc[google_df.index>=t5, 'omega_home'] = 1\n",
    "google_df_bis.loc[google_df.index>=t6, 'omega_home'] = 1\n",
    "google_df_bis.loc[google_df.index>=t7, 'omega_home'] = 1\n",
    "google_df_bis.loc[google_df.index>=t8, 'omega_home'] = 1\n",
    "google_df_bis.loc[google_df.index>=t9, 'omega_home'] = 1\n",
    "google_df_bis.loc[google_df.index>=t10,'omega_home'] = 1\n",
    "google_df_bis.loc[google_df.index>=t11,'omega_home'] = 1\n",
    "google_df_bis.loc[google_df.index>=t12,'omega_home'] = 1\n",
    "google_df_bis.loc[google_df.index>=t13,'omega_home'] = 1\n",
    "google_df_bis.loc[google_df.index>=t14,'omega_home'] = 1\n",
    "google_df_bis.loc[google_df.index>=t15,'omega_home'] = 1\n",
    "google_df_bis.loc[google_df.index>=t16,'omega_home'] = 1\n",
    "google_df_bis.loc[google_df.index>=t17,'omega_home'] = 1\n",
    "google_df_bis.loc[google_df.index>=t18,'omega_home'] = 1\n",
    "google_df_bis.loc[google_df.index>=t19,'omega_home'] = 1\n",
    "google_df_bis.loc[google_df.index>=t20,'omega_home'] = 1\n",
    "google_df_bis.loc[google_df.index>=t21,'omega_home'] = 1\n",
    "google_df_bis.loc[google_df.index>=t22,'omega_home'] = 1\n",
    "google_df_bis.loc[google_df.index>=t23,'omega_home'] = 1\n",
    "google_df_bis.loc[google_df.index>=t24,'omega_home'] = 1\n",
    "google_df_bis.loc[google_df.index>=t25,'omega_home'] = 1\n",
    "google_df_bis.loc[google_df.index>=t26,'omega_home'] = 1\n",
    "google_df_bis.loc[google_df.index>=t27,'omega_home'] = 1\n",
    "google_df_bis.loc[google_df.index>=t28,'omega_home'] = 1\n",
    "google_df_bis.loc[google_df.index>=t29,'omega_home'] = 1"
   ]
  },
  {
   "cell_type": "code",
   "execution_count": null,
   "metadata": {
    "ExecuteTime": {
     "end_time": "2022-02-02T10:44:13.212362Z",
     "start_time": "2022-02-02T10:44:13.145367Z"
    },
    "hidden": true
   },
   "outputs": [],
   "source": [
    "# calibration values\n",
    "prev_school_cal = 0.446\n",
    "prev_school_cal = 0.046\n",
    "prev_school_cal = 0.051\n",
    "\n",
    "google_df_bis.loc[google_df.index>=t0, 'omega_school'] = 1\n",
    "google_df_bis.loc[google_df.index>=t1, 'omega_school'] = 1\n",
    "google_df_bis.loc[google_df.index>=t2, 'omega_school'] = 1\n",
    "google_df_bis.loc[google_df.index>=t3, 'omega_school'] = 1\n",
    "google_df_bis.loc[google_df.index>=t4, 'omega_school'] = 1\n",
    "google_df_bis.loc[google_df.index>=t5, 'omega_school'] = 1\n",
    "google_df_bis.loc[google_df.index>=t6, 'omega_school'] = 1\n",
    "google_df_bis.loc[google_df.index>=t7, 'omega_school'] = 1\n",
    "google_df_bis.loc[google_df.index>=t8, 'omega_school'] = 1\n",
    "google_df_bis.loc[google_df.index>=t9, 'omega_school'] = 1\n",
    "google_df_bis.loc[google_df.index>=t10,'omega_school'] = 1\n",
    "google_df_bis.loc[google_df.index>=t11,'omega_school'] = 1\n",
    "google_df_bis.loc[google_df.index>=t12,'omega_school'] = 1\n",
    "google_df_bis.loc[google_df.index>=t13,'omega_school'] = 1\n",
    "google_df_bis.loc[google_df.index>=t14,'omega_school'] = 1\n",
    "google_df_bis.loc[google_df.index>=t15,'omega_school'] = 1\n",
    "google_df_bis.loc[google_df.index>=t16,'omega_school'] = 1\n",
    "google_df_bis.loc[google_df.index>=t17,'omega_school'] = 1\n",
    "google_df_bis.loc[google_df.index>=t18,'omega_school'] = 1\n",
    "google_df_bis.loc[google_df.index>=t19,'omega_school'] = 1\n",
    "google_df_bis.loc[google_df.index>=t20,'omega_school'] = 1\n",
    "google_df_bis.loc[google_df.index>=t21,'omega_school'] = 1\n",
    "google_df_bis.loc[google_df.index>=t22,'omega_school'] = 1\n",
    "google_df_bis.loc[google_df.index>=t23,'omega_school'] = 1\n",
    "google_df_bis.loc[google_df.index>=t24,'omega_school'] = 1\n",
    "google_df_bis.loc[google_df.index>=t25,'omega_school'] = 1\n",
    "google_df_bis.loc[google_df.index>=t26,'omega_school'] = 1\n",
    "google_df_bis.loc[google_df.index>=t27,'omega_school'] = 1\n",
    "google_df_bis.loc[google_df.index>=t28,'omega_school'] = 1\n",
    "google_df_bis.loc[google_df.index>=t29,'omega_school'] = 1"
   ]
  },
  {
   "cell_type": "code",
   "execution_count": null,
   "metadata": {
    "ExecuteTime": {
     "end_time": "2022-02-02T10:44:13.414722Z",
     "start_time": "2022-02-02T10:44:13.344565Z"
    },
    "hidden": true
   },
   "outputs": [],
   "source": [
    "# calibration values\n",
    "prev_work_cal = 0.446\n",
    "prev_work_cal = 0.046\n",
    "prev_work_cal = 0.051\n",
    "\n",
    "google_df_bis.loc[google_df.index>=t0, 'omega_work'] = 1\n",
    "google_df_bis.loc[google_df.index>=t1, 'omega_work'] = 1\n",
    "google_df_bis.loc[google_df.index>=t2, 'omega_work'] = 1\n",
    "google_df_bis.loc[google_df.index>=t3, 'omega_work'] = 1\n",
    "google_df_bis.loc[google_df.index>=t4, 'omega_work'] = 1\n",
    "google_df_bis.loc[google_df.index>=t5, 'omega_work'] = 1\n",
    "google_df_bis.loc[google_df.index>=t6, 'omega_work'] = 1\n",
    "google_df_bis.loc[google_df.index>=t7, 'omega_work'] = 1\n",
    "google_df_bis.loc[google_df.index>=t8, 'omega_work'] = 1\n",
    "google_df_bis.loc[google_df.index>=t9, 'omega_work'] = 1\n",
    "google_df_bis.loc[google_df.index>=t10,'omega_work'] = 1\n",
    "google_df_bis.loc[google_df.index>=t11,'omega_work'] = 1\n",
    "google_df_bis.loc[google_df.index>=t12,'omega_work'] = 1\n",
    "google_df_bis.loc[google_df.index>=t13,'omega_work'] = 1\n",
    "google_df_bis.loc[google_df.index>=t14,'omega_work'] = 1\n",
    "google_df_bis.loc[google_df.index>=t15,'omega_work'] = 1\n",
    "google_df_bis.loc[google_df.index>=t16,'omega_work'] = 1\n",
    "google_df_bis.loc[google_df.index>=t17,'omega_work'] = 1\n",
    "google_df_bis.loc[google_df.index>=t18,'omega_work'] = 1\n",
    "google_df_bis.loc[google_df.index>=t19,'omega_work'] = 1\n",
    "google_df_bis.loc[google_df.index>=t20,'omega_work'] = 1\n",
    "google_df_bis.loc[google_df.index>=t21,'omega_work'] = 1\n",
    "google_df_bis.loc[google_df.index>=t22,'omega_work'] = 1\n",
    "google_df_bis.loc[google_df.index>=t23,'omega_work'] = 1\n",
    "google_df_bis.loc[google_df.index>=t24,'omega_work'] = 1\n",
    "google_df_bis.loc[google_df.index>=t25,'omega_work'] = 1\n",
    "google_df_bis.loc[google_df.index>=t26,'omega_work'] = 1\n",
    "google_df_bis.loc[google_df.index>=t27,'omega_work'] = 1\n",
    "google_df_bis.loc[google_df.index>=t28,'omega_work'] = 1\n",
    "google_df_bis.loc[google_df.index>=t29,'omega_work'] = 1"
   ]
  },
  {
   "cell_type": "code",
   "execution_count": null,
   "metadata": {
    "ExecuteTime": {
     "end_time": "2022-02-02T10:44:13.571884Z",
     "start_time": "2022-02-02T10:44:13.512077Z"
    },
    "hidden": true
   },
   "outputs": [],
   "source": [
    "# calibration values\n",
    "prev_rest_cal = 0.446\n",
    "prev_rest_cal = 0.046\n",
    "prev_rest_cal = 0.051\n",
    "\n",
    "google_df_bis.loc[google_df.index>=t0, 'omega_rest'] = 1\n",
    "google_df_bis.loc[google_df.index>=t1, 'omega_rest'] = 1\n",
    "google_df_bis.loc[google_df.index>=t2, 'omega_rest'] = 1\n",
    "google_df_bis.loc[google_df.index>=t3, 'omega_rest'] = 1\n",
    "google_df_bis.loc[google_df.index>=t4, 'omega_rest'] = 1\n",
    "google_df_bis.loc[google_df.index>=t5, 'omega_rest'] = 1\n",
    "google_df_bis.loc[google_df.index>=t6, 'omega_rest'] = 1\n",
    "google_df_bis.loc[google_df.index>=t7, 'omega_rest'] = 1\n",
    "google_df_bis.loc[google_df.index>=t8, 'omega_rest'] = 1\n",
    "google_df_bis.loc[google_df.index>=t9, 'omega_rest'] = 1\n",
    "google_df_bis.loc[google_df.index>=t10,'omega_rest'] = 1\n",
    "google_df_bis.loc[google_df.index>=t11,'omega_rest'] = 1\n",
    "google_df_bis.loc[google_df.index>=t12,'omega_rest'] = 1\n",
    "google_df_bis.loc[google_df.index>=t13,'omega_rest'] = 1\n",
    "google_df_bis.loc[google_df.index>=t14,'omega_rest'] = 1\n",
    "google_df_bis.loc[google_df.index>=t15,'omega_rest'] = 1\n",
    "google_df_bis.loc[google_df.index>=t16,'omega_rest'] = 1\n",
    "google_df_bis.loc[google_df.index>=t17,'omega_rest'] = 1\n",
    "google_df_bis.loc[google_df.index>=t18,'omega_rest'] = 1\n",
    "google_df_bis.loc[google_df.index>=t19,'omega_rest'] = 1\n",
    "google_df_bis.loc[google_df.index>=t20,'omega_rest'] = 1\n",
    "google_df_bis.loc[google_df.index>=t21,'omega_rest'] = 1\n",
    "google_df_bis.loc[google_df.index>=t22,'omega_rest'] = 1\n",
    "google_df_bis.loc[google_df.index>=t23,'omega_rest'] = 1\n",
    "google_df_bis.loc[google_df.index>=t24,'omega_rest'] = 1\n",
    "google_df_bis.loc[google_df.index>=t25,'omega_rest'] = 1\n",
    "google_df_bis.loc[google_df.index>=t26,'omega_rest'] = 1\n",
    "google_df_bis.loc[google_df.index>=t27,'omega_rest'] = 1\n",
    "google_df_bis.loc[google_df.index>=t28,'omega_rest'] = 1\n",
    "google_df_bis.loc[google_df.index>=t29,'omega_rest'] = 1"
   ]
  },
  {
   "cell_type": "code",
   "execution_count": null,
   "metadata": {
    "ExecuteTime": {
     "end_time": "2022-02-01T13:24:48.602631Z",
     "start_time": "2022-02-01T13:24:48.421186Z"
    },
    "hidden": true
   },
   "outputs": [],
   "source": [
    "from covid19model.visualization.utils import moving_avg\n",
    "from covid19model.visualization.output import *\n",
    "from covid19model.data import sciensano\n",
    "\n",
    "start_date = datetime.datetime(2020, 1, 1, 0, 0)\n",
    "end_date = datetime.datetime(2022, 1, 1, 0, 0)\n",
    "\n",
    "fig, ax = plt.subplots(figsize=(10,3))\n",
    "ticklabelsize = 12\n",
    "ax.grid(False)\n",
    "ax.set_xlim(start_date, end_date)\n",
    "ylim=1.1\n",
    "ax.set_ylim(-0.1, ylim)\n",
    "\n",
    "week_color='blanchedalmond'#'white'\n",
    "weekend_color='blanchedalmond'#'lightgrey'\n",
    "vacation_color='khaki'#weekend_color\n",
    "color_timeframes(start_date, end_date, ax=ax, week_color=week_color, weekend_color=weekend_color, vacation_color=vacation_color)\n",
    "\n",
    "# ax.set_title('test', size=14)\n",
    "\n",
    "ax.plot(google_df_bis.index, google_df_bis.values, linewidth=1, linestyle='--')\n",
    "# google_df.plot(ax=ax, legend=False, linewidth=1.5)#, color=['k', 'blue', 'k', 'blue', 'k', 'blue'])\n",
    "ax.set_xlabel(None, size=ticklabelsize)\n",
    "ax.set_ylabel('$\\Omega^{k}(t)$', size=ticklabelsize)\n",
    "plt.xticks(rotation=0, size=ticklabelsize)\n",
    "\n",
    "ax.set_xlim(start_date, end_date)\n",
    "\n",
    "ax.grid(False)\n",
    "\n",
    "ax.legend(['home', 'school', 'work', 'rest'], loc='center', ncol=2,  bbox_to_anchor=(0.38, 0.9), fontsize=ticklabelsize)\n",
    "# plt.savefig(\"GCM_resulting_timeseries.png\", bbox_inches='tight', dpi=400)"
   ]
  },
  {
   "cell_type": "markdown",
   "metadata": {},
   "source": [
    "# Mentality\n",
    "Note: it would be nice to add the ramps. And it would be _super_ nice to mark areas where values are reminiscent of a calibration."
   ]
  },
  {
   "cell_type": "markdown",
   "metadata": {},
   "source": [
    "## National mentality: all the same values"
   ]
  },
  {
   "cell_type": "code",
   "execution_count": 5,
   "metadata": {
    "ExecuteTime": {
     "end_time": "2022-04-01T11:48:03.786368Z",
     "start_time": "2022-04-01T11:48:03.633939Z"
    }
   },
   "outputs": [
    {
     "data": {
      "text/html": [
       "<div>\n",
       "<style scoped>\n",
       "    .dataframe tbody tr th:only-of-type {\n",
       "        vertical-align: middle;\n",
       "    }\n",
       "\n",
       "    .dataframe tbody tr th {\n",
       "        vertical-align: top;\n",
       "    }\n",
       "\n",
       "    .dataframe thead th {\n",
       "        text-align: right;\n",
       "    }\n",
       "</style>\n",
       "<table border=\"1\" class=\"dataframe\">\n",
       "  <thead>\n",
       "    <tr style=\"text-align: right;\">\n",
       "      <th></th>\n",
       "      <th>mentality</th>\n",
       "    </tr>\n",
       "    <tr>\n",
       "      <th>date</th>\n",
       "      <th></th>\n",
       "    </tr>\n",
       "  </thead>\n",
       "  <tbody>\n",
       "    <tr>\n",
       "      <th>2020-02-15</th>\n",
       "      <td>0</td>\n",
       "    </tr>\n",
       "    <tr>\n",
       "      <th>2020-02-16</th>\n",
       "      <td>0</td>\n",
       "    </tr>\n",
       "    <tr>\n",
       "      <th>2020-02-17</th>\n",
       "      <td>0</td>\n",
       "    </tr>\n",
       "    <tr>\n",
       "      <th>2020-02-18</th>\n",
       "      <td>0</td>\n",
       "    </tr>\n",
       "    <tr>\n",
       "      <th>2020-02-19</th>\n",
       "      <td>0</td>\n",
       "    </tr>\n",
       "  </tbody>\n",
       "</table>\n",
       "</div>"
      ],
      "text/plain": [
       "            mentality\n",
       "date                 \n",
       "2020-02-15          0\n",
       "2020-02-16          0\n",
       "2020-02-17          0\n",
       "2020-02-18          0\n",
       "2020-02-19          0"
      ]
     },
     "execution_count": 5,
     "metadata": {},
     "output_type": "execute_result"
    }
   ],
   "source": [
    "# Use the Google dataframe with new columns\n",
    "google_df_ment_nat = get_google_mobility_data(update=False, provincial=False)\n",
    "google_df_ment_nat = google_df_ment_nat.drop(columns=['parks', 'residential'])\n",
    "google_df_ment_nat.drop(columns=['retail_recreation', 'grocery', 'transport', 'work'], inplace=True)\n",
    "\n",
    "google_df_ment_nat['mentality'] = 0\n",
    "\n",
    "google_df_ment_nat.head()"
   ]
  },
  {
   "cell_type": "code",
   "execution_count": 8,
   "metadata": {
    "ExecuteTime": {
     "end_time": "2022-04-01T11:48:17.959948Z",
     "start_time": "2022-04-01T11:48:17.890237Z"
    }
   },
   "outputs": [],
   "source": [
    "# Manually add mentality values\n",
    "\n",
    "mentality_cal = 0.305\n",
    "\n",
    "google_df_ment_nat.loc[google_df_ment_nat.index>=t0] = 1\n",
    "google_df_ment_nat.loc[google_df_ment_nat.index>=t1] = mentality_cal # ramp l1\n",
    "google_df_ment_nat.loc[google_df_ment_nat.index>=t2] = 0 # ramp l custom\n",
    "google_df_ment_nat.loc[google_df_ment_nat.index>=t3] = 0 # ramp l custom\n",
    "google_df_ment_nat.loc[google_df_ment_nat.index>=t4] = np.nan\n",
    "google_df_ment_nat.loc[google_df_ment_nat.index>=t5] = 1\n",
    "google_df_ment_nat.loc[google_df_ment_nat.index>=t6] = 1\n",
    "google_df_ment_nat.loc[google_df_ment_nat.index>=t7] = 1\n",
    "google_df_ment_nat.loc[google_df_ment_nat.index>=t8] = mentality_cal # ramp l2\n",
    "google_df_ment_nat.loc[google_df_ment_nat.index>=t9] = mentality_cal\n",
    "google_df_ment_nat.loc[google_df_ment_nat.index>=t10] = mentality_cal\n",
    "google_df_ment_nat.loc[google_df_ment_nat.index>=t11] = mentality_cal\n",
    "google_df_ment_nat.loc[google_df_ment_nat.index>=t12] = mentality_cal\n",
    "google_df_ment_nat.loc[google_df_ment_nat.index>=t13] = mentality_cal\n",
    "google_df_ment_nat.loc[google_df_ment_nat.index>=t14] = mentality_cal\n",
    "google_df_ment_nat.loc[google_df_ment_nat.index>=t15] = mentality_cal\n",
    "google_df_ment_nat.loc[google_df_ment_nat.index>=t16] = mentality_cal\n",
    "google_df_ment_nat.loc[google_df_ment_nat.index>=t17] = mentality_cal\n",
    "google_df_ment_nat.loc[google_df_ment_nat.index>=t18] = mentality_cal # ramp l custom\n",
    "google_df_ment_nat.loc[google_df_ment_nat.index>=t19] = 1 # ramp l custom\n",
    "google_df_ment_nat.loc[google_df_ment_nat.index>=t20] = 1\n",
    "google_df_ment_nat.loc[google_df_ment_nat.index>=t21] = 1\n",
    "google_df_ment_nat.loc[google_df_ment_nat.index>=t22] = 1\n",
    "google_df_ment_nat.loc[google_df_ment_nat.index>=t23] = 1\n",
    "google_df_ment_nat.loc[google_df_ment_nat.index>=t24] = 1\n",
    "google_df_ment_nat.loc[google_df_ment_nat.index>=t25] = mentality_cal\n",
    "google_df_ment_nat.loc[google_df_ment_nat.index>=t26] = mentality_cal\n",
    "google_df_ment_nat.loc[google_df_ment_nat.index>=t27] = mentality_cal"
   ]
  },
  {
   "cell_type": "code",
   "execution_count": 9,
   "metadata": {
    "ExecuteTime": {
     "end_time": "2022-04-01T11:48:34.124778Z",
     "start_time": "2022-04-01T11:48:34.027035Z"
    }
   },
   "outputs": [],
   "source": [
    "# Manually add intertia slope\n",
    "\n",
    "l1 = 18\n",
    "l2 = 9\n",
    "\n",
    "def ramp_fun(Nc_old, Nc_new, t, t_start, l):\n",
    "    return Nc_old + (Nc_new-Nc_old)/l * float( (t-t_start)/pd.Timedelta('1D') )\n",
    "\n",
    "# Alter values after t1\n",
    "for day in range(0, l1):\n",
    "    time = t1+pd.Timedelta(days=day)\n",
    "    value = ramp_fun(1, mentality_cal, time, t1, l1)\n",
    "    google_df_ment_nat.loc[google_df_ment_nat.index==time] = value\n",
    "\n",
    "# Alter values after t2\n",
    "l = (t3 - t2)/pd.Timedelta(days=1)\n",
    "r = (t3 - t2)/(t4 - t2)\n",
    "for day in range(0, int(l)):\n",
    "    time = t2 + pd.Timedelta(days=day)\n",
    "    value = ramp_fun(mentality_cal, mentality_cal + r*(1-mentality_cal), time, t2, l)\n",
    "    google_df_ment_nat.loc[google_df_ment_nat.index==time] = value\n",
    "    \n",
    "# Alter values after t3\n",
    "l = (t4 - t3)/pd.Timedelta(days=1)\n",
    "r = (t3 - t2)/(t4 - t2)\n",
    "for day in range(0, int(l)):\n",
    "    time = t3 + pd.Timedelta(days=day)\n",
    "    value = ramp_fun(mentality_cal + r*(1-mentality_cal), 1, time, t3, l)\n",
    "    google_df_ment_nat.loc[google_df_ment_nat.index==time] = value\n",
    "    \n",
    "# Alter values after t8\n",
    "for day in range(0, l2):\n",
    "    time = t8 + pd.Timedelta(days=day)\n",
    "    value = ramp_fun(1, mentality_cal, time, t8, l2)\n",
    "    google_df_ment_nat.loc[google_df_ment_nat.index==time] = value\n",
    "    \n",
    "# Alter values after t18\n",
    "l = (t19 - t18)/pd.Timedelta(days=1)\n",
    "r = (t19 - t18)/(t20 - t18)\n",
    "for day in range(0, int(l)):\n",
    "    time = t18 + pd.Timedelta(days=day)\n",
    "    value = ramp_fun(mentality_cal, mentality_cal + r*(1-mentality_cal), time, t18, l)\n",
    "    google_df_ment_nat.loc[google_df_ment_nat.index==time] = value\n",
    "    \n",
    "# Alter values after t19\n",
    "l = (t20 - t19)/pd.Timedelta(days=1)\n",
    "r = (t19 - t18)/(t20 - t18)\n",
    "for day in range(0, int(l)):\n",
    "    time = t19 + pd.Timedelta(days=day)\n",
    "    value = ramp_fun(mentality_cal + r*(1-mentality_cal), 1, time, t19, l)\n",
    "    google_df_ment_nat.loc[google_df_ment_nat.index==time] = value"
   ]
  },
  {
   "cell_type": "code",
   "execution_count": 11,
   "metadata": {
    "ExecuteTime": {
     "end_time": "2022-04-01T11:48:42.514170Z",
     "start_time": "2022-04-01T11:48:41.930432Z"
    }
   },
   "outputs": [
    {
     "data": {
      "image/png": "[encoded data removed]",
      "text/plain": [
       "<Figure size 720x144 with 1 Axes>"
      ]
     },
     "metadata": {
      "needs_background": "light"
     },
     "output_type": "display_data"
    }
   ],
   "source": [
    "from covid19model.visualization.output import *\n",
    "\n",
    "start_date = datetime.datetime(2020, 1, 1, 0, 0)\n",
    "end_date = datetime.datetime(2022, 1, 1, 0, 0)\n",
    "\n",
    "fig, ax = plt.subplots(figsize=(10,2))\n",
    "ticklabelsize = 12\n",
    "ax.grid(False)\n",
    "ax.set_xlim(start_date, end_date)\n",
    "ylim=1.1\n",
    "ax.set_ylim(-0.1, ylim)\n",
    "\n",
    "week_color='blanchedalmond'#'white'\n",
    "weekend_color='blanchedalmond'#'lightgrey'\n",
    "vacation_color='khaki'#weekend_color\n",
    "color_timeframes(start_date, end_date, ax=ax, week_color=week_color, weekend_color=weekend_color, vacation_color=vacation_color)\n",
    "\n",
    "# ax.set_title('test', size=14)\n",
    "\n",
    "ax.plot(google_df_ment_nat.index, google_df_ment_nat.values, linewidth=2, color='gray')#, linestyle='-.', color='gray')\n",
    "# google_df_ment.plot(ax=ax, legend=False, linewidth=1.5)#, color=['k', 'blue', 'k', 'blue', 'k', 'blue'])\n",
    "ax.set_xlabel(None, size=ticklabelsize)\n",
    "ax.set_ylabel('$M(t)$', size=ticklabelsize)\n",
    "plt.xticks(rotation=0, size=ticklabelsize)\n",
    "\n",
    "ax.set_xlim(start_date, end_date)\n",
    "\n",
    "ax.axhline(mentality_cal, linewidth=1, linestyle='--', color='k')\n",
    "ax.axvspan(t4, t5, facecolor='gray', hatch='////', alpha=0.2)\n",
    "\n",
    "ax.grid(False)\n",
    "\n",
    "# plt.savefig(\"mentality_timeseries.png\", bbox_inches='tight', dpi=400)"
   ]
  },
  {
   "cell_type": "markdown",
   "metadata": {},
   "source": [
    "## Provincial tweaking: summer of 2020"
   ]
  },
  {
   "cell_type": "code",
   "execution_count": 24,
   "metadata": {
    "ExecuteTime": {
     "end_time": "2022-02-02T13:00:26.857170Z",
     "start_time": "2022-02-02T13:00:26.474844Z"
    }
   },
   "outputs": [
    {
     "data": {
      "text/html": [
       "<div>\n",
       "<style scoped>\n",
       "    .dataframe tbody tr th:only-of-type {\n",
       "        vertical-align: middle;\n",
       "    }\n",
       "\n",
       "    .dataframe tbody tr th {\n",
       "        vertical-align: top;\n",
       "    }\n",
       "\n",
       "    .dataframe thead th {\n",
       "        text-align: right;\n",
       "    }\n",
       "</style>\n",
       "<table border=\"1\" class=\"dataframe\">\n",
       "  <thead>\n",
       "    <tr style=\"text-align: right;\">\n",
       "      <th>NIS</th>\n",
       "      <th>10000</th>\n",
       "      <th>20001</th>\n",
       "      <th>20002</th>\n",
       "      <th>21000</th>\n",
       "      <th>30000</th>\n",
       "      <th>40000</th>\n",
       "      <th>50000</th>\n",
       "      <th>60000</th>\n",
       "      <th>70000</th>\n",
       "      <th>80000</th>\n",
       "      <th>90000</th>\n",
       "    </tr>\n",
       "    <tr>\n",
       "      <th>date</th>\n",
       "      <th></th>\n",
       "      <th></th>\n",
       "      <th></th>\n",
       "      <th></th>\n",
       "      <th></th>\n",
       "      <th></th>\n",
       "      <th></th>\n",
       "      <th></th>\n",
       "      <th></th>\n",
       "      <th></th>\n",
       "      <th></th>\n",
       "    </tr>\n",
       "  </thead>\n",
       "  <tbody>\n",
       "    <tr>\n",
       "      <th>2020-02-15</th>\n",
       "      <td>1</td>\n",
       "      <td>1</td>\n",
       "      <td>1</td>\n",
       "      <td>1</td>\n",
       "      <td>1</td>\n",
       "      <td>1</td>\n",
       "      <td>1</td>\n",
       "      <td>1</td>\n",
       "      <td>1</td>\n",
       "      <td>1</td>\n",
       "      <td>1</td>\n",
       "    </tr>\n",
       "    <tr>\n",
       "      <th>2020-02-16</th>\n",
       "      <td>0</td>\n",
       "      <td>0</td>\n",
       "      <td>0</td>\n",
       "      <td>0</td>\n",
       "      <td>0</td>\n",
       "      <td>0</td>\n",
       "      <td>0</td>\n",
       "      <td>0</td>\n",
       "      <td>0</td>\n",
       "      <td>0</td>\n",
       "      <td>0</td>\n",
       "    </tr>\n",
       "    <tr>\n",
       "      <th>2020-02-17</th>\n",
       "      <td>0</td>\n",
       "      <td>0</td>\n",
       "      <td>0</td>\n",
       "      <td>0</td>\n",
       "      <td>0</td>\n",
       "      <td>0</td>\n",
       "      <td>0</td>\n",
       "      <td>0</td>\n",
       "      <td>0</td>\n",
       "      <td>0</td>\n",
       "      <td>0</td>\n",
       "    </tr>\n",
       "    <tr>\n",
       "      <th>2020-02-18</th>\n",
       "      <td>0</td>\n",
       "      <td>0</td>\n",
       "      <td>0</td>\n",
       "      <td>0</td>\n",
       "      <td>0</td>\n",
       "      <td>0</td>\n",
       "      <td>0</td>\n",
       "      <td>0</td>\n",
       "      <td>0</td>\n",
       "      <td>0</td>\n",
       "      <td>0</td>\n",
       "    </tr>\n",
       "    <tr>\n",
       "      <th>2020-02-19</th>\n",
       "      <td>0</td>\n",
       "      <td>0</td>\n",
       "      <td>0</td>\n",
       "      <td>0</td>\n",
       "      <td>0</td>\n",
       "      <td>0</td>\n",
       "      <td>0</td>\n",
       "      <td>0</td>\n",
       "      <td>0</td>\n",
       "      <td>0</td>\n",
       "      <td>0</td>\n",
       "    </tr>\n",
       "  </tbody>\n",
       "</table>\n",
       "</div>"
      ],
      "text/plain": [
       "NIS         10000  20001  20002  21000  30000  40000  50000  60000  70000  \\\n",
       "date                                                                        \n",
       "2020-02-15      1      1      1      1      1      1      1      1      1   \n",
       "2020-02-16      0      0      0      0      0      0      0      0      0   \n",
       "2020-02-17      0      0      0      0      0      0      0      0      0   \n",
       "2020-02-18      0      0      0      0      0      0      0      0      0   \n",
       "2020-02-19      0      0      0      0      0      0      0      0      0   \n",
       "\n",
       "NIS         80000  90000  \n",
       "date                      \n",
       "2020-02-15      1      1  \n",
       "2020-02-16      0      0  \n",
       "2020-02-17      0      0  \n",
       "2020-02-18      0      0  \n",
       "2020-02-19      0      0  "
      ]
     },
     "execution_count": 24,
     "metadata": {},
     "output_type": "execute_result"
    }
   ],
   "source": [
    "# Use the Google dataframe with new columns\n",
    "google_df_ment = get_google_mobility_data(update=False, provincial=True)\n",
    "google_df_ment = google_df_ment.drop(columns=['parks', 'residential'])\n",
    "google_df_ment.drop(columns=['retail_recreation', 'grocery', 'transport', 'work'], inplace=True)\n",
    "\n",
    "google_df_ment['mentality'] = 0\n",
    "google_df_ment = google_df_ment.unstack().mentality\n",
    "\n",
    "# Example\n",
    "google_df_ment.loc['2020-02-15'] = np.ones(11)\n",
    "\n",
    "google_df_ment.head()"
   ]
  },
  {
   "cell_type": "code",
   "execution_count": 25,
   "metadata": {
    "ExecuteTime": {
     "end_time": "2022-02-02T13:00:27.092505Z",
     "start_time": "2022-02-02T13:00:27.038628Z"
    }
   },
   "outputs": [],
   "source": [
    "mentality_summer_2020_lockdown = np.array([1.8, 1, # F\n",
    "                                        1.4, # W\n",
    "                                        1.3, # Bxl\n",
    "                                        0.7, 1.7, # F\n",
    "                                        1.8, 1.8, # W\n",
    "                                        1, # F\n",
    "                                        1, 1]) # W"
   ]
  },
  {
   "cell_type": "code",
   "execution_count": 26,
   "metadata": {
    "ExecuteTime": {
     "end_time": "2022-02-02T13:00:28.695276Z",
     "start_time": "2022-02-02T13:00:28.630234Z"
    }
   },
   "outputs": [],
   "source": [
    "# calibration values\n",
    "\n",
    "agg_dim=11\n",
    "\n",
    "mentality_cal = 0.28*np.ones(agg_dim) # estimate\n",
    "mentality_cal_min = 0.25*np.ones(agg_dim) # estimate\n",
    "mentality_cal_max = 0.35*np.ones(agg_dim) # estimate\n",
    "\n",
    "\n",
    "# google_df_ment.loc[google_df_ment.index>=t0] = mentality_cal\n",
    "# google_df_ment.loc[google_df_ment.index>=t1] = mentality_cal\n",
    "# google_df_ment.loc[google_df_ment.index>=t2] = mentality_cal\n",
    "google_df_ment.loc[google_df_ment.index>=t3] = np.ones(agg_dim)\n",
    "google_df_ment.loc[google_df_ment.index>=t4] = mentality_summer_2020_lockdown\n",
    "google_df_ment.loc[google_df_ment.index>=t5] = np.ones(agg_dim)\n",
    "# google_df_ment.loc[google_df_ment.index>=t6] = mentality_cal\n",
    "# google_df_ment.loc[google_df_ment.index>=t7] = mentality_cal\n",
    "# google_df_ment.loc[google_df_ment.index>=t8] = mentality_cal\n",
    "# google_df_ment.loc[google_df_ment.index>=t9] = mentality_cal\n",
    "# google_df_ment.loc[google_df_ment.index>=t10] = mentality_cal\n",
    "# google_df_ment.loc[google_df_ment.index>=t11] = mentality_cal\n",
    "# google_df_ment.loc[google_df_ment.index>=t12] = mentality_cal\n",
    "# google_df_ment.loc[google_df_ment.index>=t13] = mentality_cal\n",
    "# google_df_ment.loc[google_df_ment.index>=t14] = mentality_cal\n",
    "# google_df_ment.loc[google_df_ment.index>=t15] = mentality_cal\n",
    "# google_df_ment.loc[google_df_ment.index>=t16] = mentality_cal\n",
    "# google_df_ment.loc[google_df_ment.index>=t17] = mentality_cal\n",
    "# google_df_ment.loc[google_df_ment.index>=t18] = mentality_cal\n",
    "# google_df_ment.loc[google_df_ment.index>=t19] = mentality_cal\n",
    "# google_df_ment.loc[google_df_ment.index>=t20] = mentality_cal\n",
    "# google_df_ment.loc[google_df_ment.index>=t21] = mentality_cal\n",
    "# google_df_ment.loc[google_df_ment.index>=t22] = mentality_cal\n",
    "# google_df_ment.loc[google_df_ment.index>=t23] = mentality_cal\n",
    "# google_df_ment.loc[google_df_ment.index>=t24] = mentality_cal\n",
    "# google_df_ment.loc[google_df_ment.index>=t25] = mentality_cal\n",
    "# google_df_ment.loc[google_df_ment.index>=t26] = mentality_cal\n",
    "# google_df_ment.loc[google_df_ment.index>=t27] = mentality_cal\n",
    "# google_df_ment.loc[google_df_ment.index>=t28] = mentality_cal\n",
    "# google_df_ment.loc[google_df_ment.index>=t29] = mentality_cal"
   ]
  },
  {
   "cell_type": "code",
   "execution_count": 30,
   "metadata": {
    "ExecuteTime": {
     "end_time": "2022-02-02T13:01:22.346026Z",
     "start_time": "2022-02-02T13:01:21.940434Z"
    }
   },
   "outputs": [
    {
     "data": {
      "image/png": "[encoded data removed]",
      "text/plain": [
       "<Figure size 720x144 with 1 Axes>"
      ]
     },
     "metadata": {
      "needs_background": "light"
     },
     "output_type": "display_data"
    }
   ],
   "source": [
    "from covid19model.visualization.utils import moving_avg\n",
    "from covid19model.visualization.output import *\n",
    "from covid19model.data import sciensano\n",
    "\n",
    "start_date = t4 - pd.Timedelta(days=2)\n",
    "end_date = t5 + pd.Timedelta(days=1)\n",
    "\n",
    "fig, ax = plt.subplots(figsize=(10,2))\n",
    "ticklabelsize = 12\n",
    "ax.grid(False)\n",
    "ax.set_xlim(start_date, end_date)\n",
    "ylim=2\n",
    "ax.set_ylim(-0.1, ylim)\n",
    "\n",
    "# week_color='blanchedalmond'#'white'\n",
    "# weekend_color='blanchedalmond'#'lightgrey'\n",
    "vacation_color='khaki'#weekend_color\n",
    "# color_timeframes(start_date, end_date, ax=ax, week_color=week_color, weekend_color=weekend_color, vacation_color=vacation_color)\n",
    "\n",
    "ax.axvspan(start_date, end_date, facecolor=vacation_color, alpha=0.5)\n",
    "\n",
    "# ax.set_title('test', size=14)\n",
    "\n",
    "labels = google_df_ment.columns\n",
    "ax.plot(google_df_ment.index, google_df_ment.values, linewidth=2, label=labels)#, linestyle='-.', color='gray')\n",
    "# google_df_ment.plot(ax=ax, legend=False, linewidth=1.5)#, color=['k', 'blue', 'k', 'blue', 'k', 'blue'])\n",
    "ax.set_xlabel(None, size=ticklabelsize)\n",
    "ax.set_ylabel('$M^g(t)$', size=ticklabelsize)\n",
    "plt.xticks([pd.Timestamp(2020, 8, 1), pd.Timestamp(2020, 8, 8), pd.Timestamp(2020, 8, 15), pd.Timestamp(2020, 8, 22), pd.Timestamp(2020, 8, 29)], rotation=0, size=ticklabelsize)\n",
    "\n",
    "ax.set_xlim(start_date, end_date)\n",
    "\n",
    "ax.grid(False)\n",
    "\n",
    "plt.legend(loc='center', ncol=6,  bbox_to_anchor=(0.50, 0.188), fontsize=ticklabelsize-1)\n",
    "\n",
    "# plt.savefig(\"mentality_timeseries_summer2020.png\", bbox_inches='tight', dpi=400)"
   ]
  },
  {
   "cell_type": "markdown",
   "metadata": {},
   "source": [
    "# Social intertia"
   ]
  },
  {
   "cell_type": "code",
   "execution_count": null,
   "metadata": {
    "ExecuteTime": {
     "end_time": "2022-01-26T19:57:09.394148Z",
     "start_time": "2022-01-26T19:57:09.094624Z"
    }
   },
   "outputs": [],
   "source": [
    "days = np.array([i for i in range(0, 10)])\n",
    "policy = np.zeros(len(days))\n",
    "\n",
    "t0 = 1\n",
    "l = 7\n",
    "policy_1 = 0.1\n",
    "policy_2 = 0.9\n",
    "\n",
    "for t in days:\n",
    "    if t < t0:\n",
    "        policy[t] = policy_1\n",
    "    if t >= t0 and t < t0+l:\n",
    "        policy[t] = policy_1 + (policy_2 - policy_1)/(l-t0)*(t-t0)\n",
    "    if t >= t0+l:\n",
    "        policy[t] = policy_2\n",
    "    \n",
    "fig, ax = plt.subplots(figsize=(12, 2))\n",
    "ax.plot(days, policy)\n",
    "ax.grid(False)\n",
    "ax.set_xlabel('Days', size=ticklabelsize)\n",
    "# ax.set_ylabel('Policy value', size=ticklabelsize)\n",
    "\n",
    "ax.set_ylim([0, 1])\n",
    "ax.axvline(0, 0, 0.1, linestyle='--', color='k', linewidth=1)\n",
    "ax.axvline(7, 0, 0.9, linestyle='--', color='k', linewidth=1)\n",
    "ax.axhline(0.1, xmin=0.0, xmax=0.05, linestyle='--', color='k', linewidth=1)\n",
    "ax.axhline(0.9, xmin=0.0, xmax=0.8, linestyle='--', color='k', linewidth=1)\n",
    "# ax.set_title('Effect of vaccine waning', size=ticklabelsize+2)\n",
    "\n",
    "plt.yticks([0.1, 0.9], [\"policy 1\", \"policy 2\"])\n",
    "plt.xticks([1, 7], [\"$t$\", \"$t+l$\"])\n",
    "\n",
    "ax.annotate(\"\", xy=(1.2, 0.1), xytext=(6.8, 0.1), arrowprops=dict(arrowstyle=\"<->\", color='maroon'))\n",
    "ax.annotate(\"\", xy=(0, 0.1), xytext=(0, 0.9), arrowprops=dict(arrowstyle=\"<->\", color='maroon'))\n",
    "# ax.arrow(0.5, 0.1, 6, 0)\n",
    "\n",
    "# _ = plt.xticks(rotation=0, size=ticklabelsize)\n",
    "\n",
    "# ax.legend(['$E_{inf}(t)$', '$E_{susc}(t)$', '$E_{hosp}(t)$'], fontsize=ticklabelsize, ncol=3, loc='center', bbox_to_anchor=(0.22, 0.95))\n",
    "\n",
    "# plt.savefig('social_intertia.png', dpi=400, bbox_inches='tight')"
   ]
  },
  {
   "cell_type": "markdown",
   "metadata": {},
   "source": [
    "# Resulting social contact matrix"
   ]
  },
  {
   "cell_type": "code",
   "execution_count": 67,
   "metadata": {
    "ExecuteTime": {
     "end_time": "2022-02-02T13:29:07.826670Z",
     "start_time": "2022-02-02T13:29:05.868100Z"
    }
   },
   "outputs": [],
   "source": [
    "from covid19model.models.time_dependant_parameter_fncs import *\n",
    "from covid19model.data.model_parameters import *\n",
    "\n",
    "Nc_dict = get_interaction_matrices()\n",
    "google_df_CMF = get_google_mobility_data(update=False, provincial=True)\n",
    "\n",
    "CMF = make_contact_matrix_function(google_df_CMF, Nc_dict)\n",
    "\n",
    "eff_home_cal = 0.45 # estimate\n",
    "eff_schools_cal = 0.13\n",
    "eff_work_cal = 0.75\n",
    "eff_rest_cal = 0.25\n",
    "mentality_cal = 0.28\n",
    "\n",
    "l1 = 18\n",
    "l2 = 9\n",
    "\n",
    "states = 0\n",
    "param = 0\n",
    "\n",
    "###################\n",
    "# MAKE TWO EXAMPLES\n",
    "# [g, i, j]\n",
    "# ages: 0-12, 12-18, 18-25, 25-35, 35-45, 45-55, 55-65, 65-75, 75-85, 85+\n",
    "\n",
    "gg1 = 3\n",
    "ii1 = 2\n",
    "jj1 = 3\n",
    "\n",
    "gg2 = 3\n",
    "ii2 = 5\n",
    "jj2 = 7\n",
    "\n",
    "###################\n",
    "\n",
    "dates = google_df_CMF.unstack().index\n",
    "\n",
    "CMF1 = np.zeros(len(dates))\n",
    "CMF2 = np.zeros(len(dates))\n",
    "for i, date in enumerate(dates):\n",
    "    CMF_value1 = CMF.policies_all_spatial(date, states, param, l1, l2, eff_schools_cal,\n",
    "                     eff_work_cal, eff_rest_cal, eff_home_cal, mentality_cal)[gg1, ii1, jj1]\n",
    "    CMF_value2 = CMF.policies_all_spatial(date, states, param, l1, l2, eff_schools_cal,\n",
    "                     eff_work_cal, eff_rest_cal, eff_home_cal, mentality_cal)[gg2, ii2, jj2]\n",
    "    CMF1[i] = CMF_value1\n",
    "    CMF2[i] = CMF_value2"
   ]
  },
  {
   "cell_type": "code",
   "execution_count": 92,
   "metadata": {
    "ExecuteTime": {
     "end_time": "2022-02-02T13:42:24.381887Z",
     "start_time": "2022-02-02T13:42:23.509533Z"
    }
   },
   "outputs": [
    {
     "data": {
      "image/png": "[encoded data removed]",
      "text/plain": [
       "<Figure size 1080x216 with 1 Axes>"
      ]
     },
     "metadata": {
      "needs_background": "light"
     },
     "output_type": "display_data"
    }
   ],
   "source": [
    "from covid19model.visualization.utils import moving_avg\n",
    "from covid19model.visualization.output import *\n",
    "from covid19model.data import sciensano\n",
    "\n",
    "start_date = datetime.datetime(2020, 1, 1, 0, 0)\n",
    "end_date = datetime.datetime(2022, 1, 1, 0, 0)\n",
    "\n",
    "fig, ax = plt.subplots(figsize=(15,3))\n",
    "ticklabelsize = 16\n",
    "ax.grid(False)\n",
    "ax.set_xlim(start_date, end_date)\n",
    "# ylim=2\n",
    "# ax.set_ylim(-0.1, ylim)\n",
    "\n",
    "week_color='blanchedalmond'#'white'\n",
    "weekend_color='blanchedalmond'#'lightgrey'\n",
    "vacation_color='khaki'#weekend_color\n",
    "color_timeframes(start_date, end_date, ax=ax, week_color=week_color, weekend_color=weekend_color, vacation_color=vacation_color)\n",
    "\n",
    "# ax.set_title('test', size=14)\n",
    "\n",
    "labels = google_df_ment.columns\n",
    "ax.plot(dates, CMF1, linewidth=2, label='18-25y with 25-35y')\n",
    "ax.plot(dates, CMF2, linewidth=2, label='45-55y with 65-75y')\n",
    "ax.set_xlabel(None, size=ticklabelsize)\n",
    "ax.set_ylabel('$\\\\tilde{N}^g_{c,ij}(t)$', size=ticklabelsize+2)\n",
    "plt.xticks(rotation=0, size=ticklabelsize)\n",
    "plt.yticks([0,1,2,3], size=ticklabelsize)\n",
    "\n",
    "ax.grid(False)\n",
    "\n",
    "plt.legend(loc=9, ncol=2, fontsize=ticklabelsize+2)\n",
    "\n",
    "# plt.savefig(\"resulting_Nc_21000_18-25-with-25-35_45-55-with-65-75.png\", bbox_inches='tight', dpi=400)"
   ]
  }
 ],
 "metadata": {
  "kernelspec": {
   "display_name": "Python 3 (ipykernel)",
   "language": "python",
   "name": "python3"
  },
  "language_info": {
   "codemirror_mode": {
    "name": "ipython",
    "version": 3
   },
   "file_extension": ".py",
   "mimetype": "text/x-python",
   "name": "python",
   "nbconvert_exporter": "python",
   "pygments_lexer": "ipython3",
   "version": "3.7.3"
  },
  "toc": {
   "base_numbering": 1,
   "nav_menu": {},
   "number_sections": true,
   "sideBar": true,
   "skip_h1_title": false,
   "title_cell": "Table of Contents",
   "title_sidebar": "Contents",
   "toc_cell": false,
   "toc_position": {},
   "toc_section_display": true,
   "toc_window_display": false
  }
 },
 "nbformat": 4,
 "nbformat_minor": 2
}
