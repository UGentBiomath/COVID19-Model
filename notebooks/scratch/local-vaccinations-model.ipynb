{
 "cells": [
  {
   "cell_type": "markdown",
   "metadata": {},
   "source": [
    "Goal:\n",
    "- Allow the spatial model to include local vaccinations\n",
    "- Allow the model to include local measures (no priority)\n",
    "- Allow the model to include local spread of VOCs (no priority)\n",
    "- Main question: what is the distribution of hospitalisations in Belgium and how is this linked to the degree of vaccination?\n",
    "- Side questions\n",
    "    - How does the increase in Brussels affect the rest of the country?\n",
    "    - How can this be alleviated with local measures? How is this different from national measures?\n",
    "    - How can this be alleviated with isolation of Brussels?\n",
    "    - How would the situation have been if Brussels was vaccinated as the rest-of-the-country average? And if Belgium was vaccinated as Brussels? \n",
    "\n"
   ]
  },
  {
   "cell_type": "code",
   "execution_count": 1,
   "metadata": {
    "ExecuteTime": {
     "end_time": "2021-08-25T10:21:28.415885Z",
     "start_time": "2021-08-25T10:21:26.892513Z"
    }
   },
   "outputs": [],
   "source": [
    "# Preamble\n",
    "import corner\n",
    "import pandas as pd\n",
    "import json\n",
    "import numpy as np\n",
    "from IPython.display import IFrame\n",
    "import matplotlib.pyplot as plt\n",
    "\n",
    "from covid19model.models import models\n",
    "from covid19model.models.time_dependant_parameter_fncs import make_mobility_update_function, make_contact_matrix_function\n",
    "from covid19model.models.utils import initial_state\n",
    "# from covid19model.optimization.run_optimization import checkplots, calculate_R0\n",
    "# from covid19model.optimization.objective_fcns import prior_custom, prior_uniform\n",
    "from covid19model.data import mobility, sciensano, model_parameters\n",
    "# from covid19model.optimization import pso, objective_fcns\n",
    "from covid19model.visualization.output import _apply_tick_locator \n",
    "from covid19model.visualization.optimization import autocorrelation_plot, traceplot, plot_fit, plot_calibration_fit\n",
    "from covid19model.visualization.utils import moving_avg\n",
    "from covid19model.optimization.utils import perturbate_PSO, run_MCMC\n",
    "from covid19model.optimization.utils import samples_dict_to_emcee_chain # used for corner plots\n",
    "import random\n",
    "import datetime\n",
    "\n",
    "# OPTIONAL: Load the \"autoreload\" extension so that package code can change\n",
    "%load_ext autoreload\n",
    "# OPTIONAL: always reload modules so that as you change code in src, it gets loaded\n",
    "# This may be useful because the `covid19model` package is under construction\n",
    "%autoreload 2\n",
    "\n",
    "# Copied from mrollier-calibration-WAVE2_spatial.ipynb\n",
    "import gc\n",
    "import sys, getopt\n",
    "import os\n",
    "import ujson as json\n",
    "import random\n",
    "import emcee\n",
    "import datetime\n",
    "import corner\n",
    "import argparse\n",
    "import numpy as np\n",
    "import pandas as pd\n",
    "import matplotlib.pyplot as plt\n",
    "import multiprocessing as mp\n",
    "from multiprocessing import Pool\n",
    "\n",
    "from covid19model.models import models\n",
    "from covid19model.optimization.objective_fcns import prior_custom, prior_uniform\n",
    "from covid19model.data import mobility, sciensano, model_parameters\n",
    "from covid19model.optimization import pso, objective_fcns\n",
    "from covid19model.models.time_dependant_parameter_fncs import ramp_fun\n",
    "from covid19model.visualization.output import _apply_tick_locator \n",
    "from covid19model.visualization.optimization import autocorrelation_plot, traceplot\n",
    "from covid19model.models.utils import initial_state\n",
    "\n",
    "spatial='arr'"
   ]
  },
  {
   "cell_type": "code",
   "execution_count": null,
   "metadata": {},
   "outputs": [],
   "source": []
  }
 ],
 "metadata": {
  "kernelspec": {
   "display_name": "Python 3",
   "language": "python",
   "name": "python3"
  },
  "language_info": {
   "codemirror_mode": {
    "name": "ipython",
    "version": 3
   },
   "file_extension": ".py",
   "mimetype": "text/x-python",
   "name": "python",
   "nbconvert_exporter": "python",
   "pygments_lexer": "ipython3",
   "version": "3.7.3"
  },
  "toc": {
   "base_numbering": 1,
   "nav_menu": {},
   "number_sections": true,
   "sideBar": true,
   "skip_h1_title": false,
   "title_cell": "Table of Contents",
   "title_sidebar": "Contents",
   "toc_cell": false,
   "toc_position": {},
   "toc_section_display": true,
   "toc_window_display": false
  }
 },
 "nbformat": 4,
 "nbformat_minor": 2
}
