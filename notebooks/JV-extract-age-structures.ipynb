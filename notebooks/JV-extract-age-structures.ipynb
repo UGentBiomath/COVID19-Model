{
 "cells": [
  {
   "cell_type": "code",
   "execution_count": null,
   "metadata": {
    "ExecuteTime": {
     "end_time": "2020-09-08T13:34:26.173398Z",
     "start_time": "2020-09-08T13:34:25.126774Z"
    }
   },
   "outputs": [],
   "source": [
    "import os\n",
    "import numpy as np\n",
    "import pandas as pd\n",
    "import matplotlib.pyplot as plt"
   ]
  },
  {
   "cell_type": "code",
   "execution_count": null,
   "metadata": {
    "ExecuteTime": {
     "end_time": "2020-09-08T13:08:16.784520Z",
     "start_time": "2020-09-08T13:08:16.762442Z"
    }
   },
   "outputs": [],
   "source": [
    "age_classes = pd.IntervalIndex.from_tuples([(0,10),(10,20),(20,30),(30,40),(40,50),(50,60),(60,70),(70,80),(80,110)], \n",
    "                                           closed='left')"
   ]
  },
  {
   "cell_type": "code",
   "execution_count": null,
   "metadata": {
    "ExecuteTime": {
     "end_time": "2020-09-08T13:16:02.970356Z",
     "start_time": "2020-09-08T13:16:02.935764Z"
    },
    "scrolled": true
   },
   "outputs": [],
   "source": [
    "age_struct_arrond = pd.read_csv('../data/interim/demographic/age_structure_per_arrondissement.csv')\n",
    "age_struct_arrond['age_class'] = pd.cut(age_struct_arrond.age, bins=age_classes)\n",
    "age_piramid_per_arr = age_struct_arrond.groupby(['NIS','age_class']).sum().reset_index()\n",
    "initN_arrond = age_piramid_per_arr.pivot(index='NIS', columns='age_class', values='number')\n",
    "initN_arrond.columns = initN_arrond.columns.astype(str)\n",
    "initN_arrond['total'] = initN_arrond.sum(axis=1)\n",
    "initN_arrond.reset_index().to_csv('../data/interim/demographic/initN_arrond.csv', index=False)"
   ]
  },
  {
   "cell_type": "code",
   "execution_count": null,
   "metadata": {
    "ExecuteTime": {
     "end_time": "2020-09-08T13:16:03.324458Z",
     "start_time": "2020-09-08T13:16:03.110946Z"
    },
    "scrolled": true
   },
   "outputs": [],
   "source": [
    "age_struct_municip = pd.read_csv('../data/interim/demographic/age_structure_per_municipality.csv')\n",
    "age_struct_municip['age_class'] = pd.cut(age_struct_municip.age, bins=age_classes)\n",
    "age_piramid_per_arr = age_struct_municip.groupby(['NIS','age_class']).sum().reset_index()\n",
    "initN_municip = age_piramid_per_arr.pivot(index='NIS', columns='age_class', values='number')\n",
    "initN_municip.columns = initN_municip.columns.astype(str)\n",
    "initN_municip['total'] = initN_municip.sum(axis=1)\n",
    "initN_municip.reset_index().to_csv('../data/interim/demographic/initN_municip.csv', index=False)"
   ]
  },
  {
   "cell_type": "code",
   "execution_count": null,
   "metadata": {
    "ExecuteTime": {
     "end_time": "2020-09-08T13:16:03.570618Z",
     "start_time": "2020-09-08T13:16:03.503662Z"
    },
    "scrolled": true
   },
   "outputs": [],
   "source": [
    "age_struct_province = pd.read_csv('../data/interim/demographic/age_structure_per_province.csv')\n",
    "age_struct_province['age_class'] = pd.cut(age_struct_province.age, bins=age_classes)\n",
    "age_piramid_per_arr = age_struct_province.groupby(['NIS','age_class']).sum().reset_index()\n",
    "initN_province = age_piramid_per_arr.pivot(index='NIS', columns='age_class', values='number')\n",
    "initN_province.columns = initN_province.columns.astype(str)\n",
    "initN_province['total'] = initN_province.sum(axis=1)\n",
    "initN_province.reset_index().to_csv('../data/interim/demographic/initN_province.csv', index=False)"
   ]
  }
 ],
 "metadata": {
  "kernelspec": {
   "display_name": "Python 3",
   "language": "python",
   "name": "python3"
  },
  "language_info": {
   "codemirror_mode": {
    "name": "ipython",
    "version": 3
   },
   "file_extension": ".py",
   "mimetype": "text/x-python",
   "name": "python",
   "nbconvert_exporter": "python",
   "pygments_lexer": "ipython3",
   "version": "3.8.2"
  },
  "toc": {
   "base_numbering": 1,
   "nav_menu": {},
   "number_sections": true,
   "sideBar": true,
   "skip_h1_title": false,
   "title_cell": "Table of Contents",
   "title_sidebar": "Contents",
   "toc_cell": false,
   "toc_position": {},
   "toc_section_display": true,
   "toc_window_display": false
  }
 },
 "nbformat": 4,
 "nbformat_minor": 4
}
