{
 "cells": [
  {
   "cell_type": "markdown",
   "metadata": {},
   "source": [
    "The aim of this small Notebook is:\n",
    "1. to load CSV files from https://lwillem.shinyapps.io/socrates_rshiny/ and paste them into separate sheets in an XLXS file.\n",
    "2. to load data from `/raw/interaction_matrices/demographic/TF_SOC_POP_STRUCT_2020.xlsx` and create initial populations per region and per new age stratification"
   ]
  },
  {
   "cell_type": "code",
   "execution_count": 22,
   "metadata": {
    "ExecuteTime": {
     "end_time": "2021-04-13T23:17:59.295224Z",
     "start_time": "2021-04-13T23:17:59.281955Z"
    }
   },
   "outputs": [],
   "source": [
    "# Define various choices for age stratification.\n",
    "age_lims_phases = [12, 18, 25, 35, 45, 55, 65, 75, 85]\n",
    "age_lims_decades = [10,20,30,40,50,60,70,80]\n",
    "age_lims=dict({'phases' : age_lims_phases,\n",
    "               'decades': age_lims_decades})\n",
    "\n",
    "age_names_phases = ['[0, 12)', '[12, 18)', '[18, 25)', '[25, 35)', '[35, 45)', '[45, 55)', '[55, 65)', '[65, 75)', '[75, 85)', '85+']\n",
    "age_names_decades = ['[0, 10)', '[10, 20)', '[20, 30)', '[30, 40)', '[40, 50)', '[50, 60)', '[60, 70)', '[70, 80)', '80+']\n",
    "age_names=dict({'phases' : age_names_phases,\n",
    "                'decades': age_names_decades})"
   ]
  },
  {
   "cell_type": "markdown",
   "metadata": {
    "heading_collapsed": true
   },
   "source": [
    "# Interaction matrices (same in every region)\n",
    "\n",
    "Note: this code should be augmented for the CoMix data!"
   ]
  },
  {
   "cell_type": "code",
   "execution_count": 2,
   "metadata": {
    "ExecuteTime": {
     "end_time": "2021-04-13T08:01:12.806724Z",
     "start_time": "2021-04-13T08:01:09.521012Z"
    },
    "hidden": true
   },
   "outputs": [],
   "source": [
    "import pandas as pd\n",
    "\n",
    "######### USER INPUT ###########\n",
    "# Choose dataset\n",
    "dataset = 'willem_2012'\n",
    "# Choose age stratification: decades or life phases\n",
    "stratification = 'phases'\n",
    "######### USER INPUT ###########\n",
    "\n",
    "# All possible subdirectories to loop over\n",
    "# All XLSX files\n",
    "locations = ['total', 'home', 'work', 'school', 'transport', 'leisure', 'otherplace']\n",
    "# All sheets within XLSX files\n",
    "contacts = ['all', 'physical_only', 'less_5_min', 'less_15_min', 'more_15_min', 'more_one_hour', 'more_four_hours']\n",
    "\n",
    "# Define directory of raw data\n",
    "interaction_raw = f'../../data/raw/interaction_matrices/{dataset}/CSVs/{stratification}'\n",
    "# Define directory of interim data (target)\n",
    "interaction_interim = f'../../data/interim/interaction_matrices/{dataset}/{stratification}'"
   ]
  },
  {
   "cell_type": "code",
   "execution_count": 78,
   "metadata": {
    "ExecuteTime": {
     "end_time": "2021-04-13T10:16:24.562164Z",
     "start_time": "2021-04-13T10:16:24.541221Z"
    },
    "hidden": true
   },
   "outputs": [],
   "source": [
    "# Define function to create the more_5_min DataFrame\n",
    "def create_more_5_min(CSV_dir, dataset, stratification, loc):\n",
    "    contact_df_all = pd.read_csv(f'{CSV_dir}/{loc}/{dataset}_{stratification}_{loc}_all.csv')\n",
    "    contact_df_less_5_min = pd.read_csv(f'{CSV_dir}/{loc}/{dataset}_{stratification}_{loc}_less_5_min.csv')\n",
    "    contact_df_more_5_min = contact_df_all - contact_df_less_5_min\n",
    "    return contact_df_more_5_min\n",
    "\n",
    "# Define function to give proper names to the DataFrame\n",
    "def clean_df(raw_df, age_names):\n",
    "    clean_df = raw_df.copy()\n",
    "    clean_df['age_group']=age_names\n",
    "    clean_df = clean_df.set_index('age_group')\n",
    "    return clean_df\n",
    "\n",
    "# Define function that collects the CSVs into an XLSX file and immediately saves it there\n",
    "def create_XLSX(source_dir, target_dir, stratification, dataset, locations, contacts):\n",
    "    for loc in locations:\n",
    "        print(f\"Working on social environment {loc}       \", end='\\r')\n",
    "        engine='openpyxl'\n",
    "        with pd.ExcelWriter(f'{target_dir}/{loc}_{stratification}.xlsx', engine=engine) as XLSX:\n",
    "            for con in contacts:\n",
    "                # Create a sheet with name {con} inside the excel file XLSX\n",
    "                contact_df = pd.read_csv(f'{source_dir}/{loc}/{dataset}_{stratification}_{loc}_{con}.csv')\n",
    "                contact_df = clean_df(contact_df, age_names[stratification])\n",
    "                contact_df.to_excel(XLSX, sheet_name=con)\n",
    "                if con=='less_5_min':\n",
    "                    # Create more_5_min sheet right after less_5_min\n",
    "                    contact_df = create_more_5_min(source_dir, dataset, stratification, loc)\n",
    "                    contact_df = clean_df(contact_df, age_names[stratification])\n",
    "                    contact_df.to_excel(XLSX, sheet_name='more_5_min')\n",
    "    print(\"Done.\", \" \"*40)\n",
    "    return"
   ]
  },
  {
   "cell_type": "code",
   "execution_count": 77,
   "metadata": {
    "ExecuteTime": {
     "end_time": "2021-04-13T10:15:48.247021Z",
     "start_time": "2021-04-13T10:15:47.753580Z"
    },
    "hidden": true
   },
   "outputs": [
    {
     "name": "stdout",
     "output_type": "stream",
     "text": [
      "Done.                                          \n"
     ]
    }
   ],
   "source": [
    "# Create the XLSX files. Uncomment to execute.\n",
    "\n",
    "create_XLSX(interaction_raw, interaction_interim, stratification, dataset, locations, contacts)"
   ]
  },
  {
   "cell_type": "markdown",
   "metadata": {
    "heading_collapsed": true
   },
   "source": [
    "# Population per age per region\n",
    "\n",
    "Note that this code is not optimised, but considering this code is only executed once or twice, that's not too bad."
   ]
  },
  {
   "cell_type": "code",
   "execution_count": 61,
   "metadata": {
    "ExecuteTime": {
     "end_time": "2021-04-13T09:56:18.167553Z",
     "start_time": "2021-04-13T09:56:18.152566Z"
    },
    "hidden": true
   },
   "outputs": [],
   "source": [
    "import pandas as pd\n",
    "import numpy as np\n",
    "\n",
    "######### USER INPUT ###########\n",
    "# Choose age stratification: decades or life phases\n",
    "stratification = 'phases'\n",
    "# Choose aggregation level: 'mun', 'arr', or 'prov'\n",
    "agg = 'prov'\n",
    "######### USER INPUT ###########\n",
    "\n",
    "# define column name based on aggregation level\n",
    "NIS_col = dict({'mun' : 'CD_REFNIS',\n",
    "                'arr' : 'CD_DSTR_REFNIS',\n",
    "                'prov' : 'CD_PROV_REFNIS'})\n",
    "\n",
    "# Define directory of raw data\n",
    "population_raw = f'../../data/raw/interaction_matrices/demographic/TF_SOC_POP_STRUCT_2020.xlsx'\n",
    "# Define directory of interim data (target)\n",
    "population_interim = f'../../data/interim/demographic/{stratification}'\n",
    "\n",
    "# Load raw file -- takes a while\n",
    "# raw_df = pd.read_excel(population_raw)\n",
    "# raw_df.head()\n",
    "# -----------------"
   ]
  },
  {
   "cell_type": "code",
   "execution_count": 62,
   "metadata": {
    "ExecuteTime": {
     "end_time": "2021-04-13T09:56:18.372139Z",
     "start_time": "2021-04-13T09:56:18.348203Z"
    },
    "hidden": true
   },
   "outputs": [],
   "source": [
    "def create_initN(age_names, stratification, agg):\n",
    "    # Define column names and add 'total' column\n",
    "    col_names = age_names[stratification] + ['total']\n",
    "\n",
    "    # Load list of NIS values of user-defined aggregation level. Location hard-coded.\n",
    "    NIS_list_df = pd.read_csv(f\"../../data/interim/demographic/area_{agg}.csv\")\n",
    "    NIS_list = NIS_list_df['NIS'].sort_index().values\n",
    "\n",
    "    # Initialise doubly stratified population matrix with correct dimensions\n",
    "    initN = np.zeros([len(NIS_list), len(col_names)], dtype=int)\n",
    "\n",
    "    # Iterate over NIS values (rows)\n",
    "    for g in range(len(NIS_list)):\n",
    "        nis = NIS_list[g]\n",
    "        # Special case for provincial aggregation: add arrondissement Brussels as de facto 11th province\n",
    "        if (agg=='prov') & (nis == 21000):\n",
    "            # Hardcode column name 'CD_DSTR_REFNIS', because that is the place to look for if condition is met\n",
    "            region = raw_df[raw_df['CD_DSTR_REFNIS']==nis]\n",
    "            age_previous=0\n",
    "            for i in range(len(age_lims[stratification])):\n",
    "                age = age_lims[stratification][i]\n",
    "                # Choose subset of all entries with particular age range\n",
    "                region_age = region[(region['CD_AGE'] < age) & (region['CD_AGE'] >= age_previous)]\n",
    "                # Sum population over all entries that obey the conditions\n",
    "                pop = region_age['MS_POPULATION'].sum(axis=0)\n",
    "                # Add this population to the initN matrix\n",
    "                initN[g,i] = pop\n",
    "                # Update age limits for next iteration\n",
    "                age_previous = age\n",
    "            # Add rest category (anything > final age limit) to penultimate column\n",
    "            region_old = region[(region['CD_AGE'] >= age_lims[stratification][-1])]\n",
    "            pop = region_old['MS_POPULATION'].sum(axis=0)\n",
    "            initN[g,-2] = pop\n",
    "            # Add total population over all ages to final column\n",
    "            initN[g,-1] = initN[g,:-1].sum()\n",
    "        # All other NIS values or spatial aggregations\n",
    "        else:\n",
    "            # Choose subset of all entries with particular NIS code\n",
    "            region = raw_df[raw_df[NIS_col[agg]]==nis]\n",
    "            # Iterate over all age limits according to the chosen stratification\n",
    "            age_previous=0\n",
    "            for i in range(len(age_lims[stratification])):\n",
    "                age = age_lims[stratification][i]\n",
    "                # Choose subset of all entries with particular age range\n",
    "                region_age = region[(region['CD_AGE'] < age) & (region['CD_AGE'] >= age_previous)]\n",
    "                # Sum population over all entries that obey the conditions\n",
    "                pop = region_age['MS_POPULATION'].sum(axis=0)\n",
    "                # Add this population to the initN matrix\n",
    "                initN[g,i] = pop\n",
    "                # Update age limits for next iteration\n",
    "                age_previous = age\n",
    "            # Add rest category (anything > final age limit) to penultimate column\n",
    "            region_old = region[(region['CD_AGE'] >= age_lims[stratification][-1])]\n",
    "            pop = region_old['MS_POPULATION'].sum(axis=0)\n",
    "            initN[g,-2] = pop\n",
    "            # Add total population over all ages to final column\n",
    "            initN[g,-1] = initN[g,:-1].sum()\n",
    "\n",
    "    initN_df = pd.DataFrame(initN, columns=col_names, index=NIS_list)\n",
    "    initN_df.index.name = 'NIS'\n",
    "    return initN_df"
   ]
  },
  {
   "cell_type": "code",
   "execution_count": 63,
   "metadata": {
    "ExecuteTime": {
     "end_time": "2021-04-13T09:56:19.027337Z",
     "start_time": "2021-04-13T09:56:18.501506Z"
    },
    "hidden": true
   },
   "outputs": [
    {
     "data": {
      "text/plain": [
       "<matplotlib.axes._subplots.AxesSubplot at 0x2423ef19710>"
      ]
     },
     "execution_count": 63,
     "metadata": {},
     "output_type": "execute_result"
    },
    {
     "data": {
      "image/png": "[encoded data removed]",
      "text/plain": [
       "<Figure size 1152x360 with 1 Axes>"
      ]
     },
     "metadata": {
      "needs_background": "light"
     },
     "output_type": "display_data"
    }
   ],
   "source": [
    "# Create, plot and save the resulting initial population\n",
    "initN_df = create_initN(age_names, stratification, agg)\n",
    "\n",
    "# Save to the proper location\n",
    "initN_df.to_csv(f\"{population_interim}/initN_{stratification}_{agg}.csv\")\n",
    "\n",
    "import matplotlib.pyplot as plt\n",
    "fig, ax = plt.subplots(figsize=(16, 5))\n",
    "initN_df_plot = initN_df.drop('total',axis='columns')\n",
    "# Plot sum over all regions\n",
    "initN_df_plot.sum(axis=0).plot(ax=ax, kind='bar')"
   ]
  },
  {
   "cell_type": "markdown",
   "metadata": {},
   "source": [
    "# Model parameters (hospital parameters) per age class"
   ]
  },
  {
   "cell_type": "markdown",
   "metadata": {},
   "source": [
    "## UZ Gent parameters"
   ]
  },
  {
   "cell_type": "code",
   "execution_count": 81,
   "metadata": {
    "ExecuteTime": {
     "end_time": "2021-04-13T11:29:05.671762Z",
     "start_time": "2021-04-13T11:29:05.659487Z"
    }
   },
   "outputs": [],
   "source": [
    "# Uncomment line below to create new dataset for model parameters from UZ Gent hospital data\n",
    "\n",
    "# %run ./AZMM-UZG-data-analysis.py"
   ]
  },
  {
   "cell_type": "markdown",
   "metadata": {},
   "source": [
    "## Hospitalisation and asymptomatic fraction per age\n",
    "A.k.a. Davies data and Verity data."
   ]
  },
  {
   "cell_type": "markdown",
   "metadata": {},
   "source": [
    "### Verity et al."
   ]
  },
  {
   "cell_type": "markdown",
   "metadata": {},
   "source": [
    "*NOTE*: I am not sure what the `CFR` column in `verity_etal.csv` denotes.\n",
    "\n",
    "These are resampled from the decades-based data. That is to say: this is a _temporary fix_! These we will use whilst awaiting better suited data from Sciensano (found in the raw data file `S:\\fbw_covid19\\data\\raw\\sciensano\\Data_SurveillanceSciensano\\Data_Hospitals\\IndHospitalSurvey\\COVID19BE_CLINIC.csv`\n",
    "\n",
    "The rationale behind this _naïve_ resampling is as follows:\n",
    "\n",
    "**Assumptions**:\n",
    "- We assume (because there is no other quick way) that every age within every age group has equal representation within the age class. That is to say: if ages 0 to 9 represent 10 percent of the population, we say that the age of 0 represents 10/10 = 1 percent of the population.\n",
    "- We assume (again, because there is no other quick way) that every subject within the age class, regardless of their age, has the same parameter values as the age class average.\n",
    "- The maximum age is assumed to be 109 (so 80+ includes 30 ages)\n",
    "\n",
    "**Mathematics**:\n",
    "- Take two age classes, $A_0 = [a_0, a_1[$ and $A_1 = [a_1, a_2[$\n",
    "- These age classes have age fractions $f_0$ and $f_1$, so fraction-per-year of $\\phi_0 = \\frac{f_0}{a_1-a_0}$ and $\\phi_1=\\frac{f_1}{a_2-a_1}$, resp.\n",
    "- These age classes have a corresponding percentage parameter $\\beta_0$ and $\\beta_1$\n",
    "- We define a new age class $A_0' = [a_0', a_1'[$ with $a_0' \\in A_0$ and $a_1' \\in A_1$.\n",
    "- The corresponding percentage parameter $\\beta_0'$ is calculated as follows, which always produces a value $\\text{min}(\\beta_0, \\beta_1) < \\beta_0' < \\text{max}(\\beta_0, \\beta_1)$\n",
    "\n",
    "$$\\beta_0' = \\beta_0 \\frac{\\phi_0(a_1 - a_0')}{\\phi_0(a_1-a_0') + \\phi_1(a_1'-a_1)} + \\beta_1\\frac{\\phi_1(a_1' - a_1)}{\\phi_0(a_1-a_0') + \\phi_1(a_1'-a_1)}$$\n",
    "\n",
    "In the case that $\\beta_0 = \\beta_1 = \\beta$, this reduces to\n",
    "\n",
    "$$\\beta_0' = \\frac{\\beta\\phi_0(a_1 - a_0') + \\beta\\phi_1(a_1' - a_1)}{\\phi_0(a_1-a_0') + \\phi_1(a_1'-a_1)} = \\beta,$$\n",
    "\n",
    "as it should. In the case where $A_0' = A_0$, i.e. where $a_0' = a_0$ and $a_1' = a_1$, this reduces to\n",
    "\n",
    "$$\\beta_0' = \\beta_0 \\frac{\\phi_0(a_1 - a_0)}{\\phi_0(a_1-a_0) + \\phi_1(a_1-a_1)} + \\beta_1\\frac{\\phi_1(a_1 - a_1)}{\\phi_0(a_1-a_0) + \\phi_1(a_1-a_1)} = \\beta_0,$$\n",
    "\n",
    "as it should. In the case where $A_0' = A_1$, i.e. where $a_0 = a_1$ and $a_1 = a_2$, this reduces to\n",
    "\n",
    "$$\\beta_0' = \\beta_0 \\frac{\\phi_0(a_1 - a_1)}{\\phi_0(a_1-a_1) + \\phi_1(a_2-a_1)} + \\beta_1\\frac{\\phi_1(a_2 - a_1)}{\\phi_0(a_1-a_1) + \\phi_1(a_2-a_1)} = \\beta_1,$$\n",
    "\n",
    "again, as it should. This is therefore a robust mathematical method that takes a population-weighted parameter value for a newly defined age class.\n",
    "\n",
    "**Example**\n",
    "- Age class $A_0 = [0, 10[$ has $\\beta_0=$ `symptomatic_hospitalized` value 0.1 and fraction-per-year of $\\phi_0 = 0.110424/10=0.0110424$\n",
    "- Age class $A_1 = [10, 20[$ has $\\beta_1=$ `symptomatic_hospitalized` value 0.3 and fraction-per-year of $\\phi_1 = 0.113138/10=0.0113138$\n",
    "- We define a new age class $[0, 12[$\n",
    "- The calculated corresponding denominator is then\n",
    "\n",
    "$$\\phi_0(a_1-a_0') + \\phi_1(a_1'-a_1) = 0.0110424 \\times (10 - 0) + 0.0113138 \\times (12-10) = 0.1330516$$\n",
    "\n",
    "- The calculated `symptomatic_hospitalized` parameter is then\n",
    "\n",
    "$$\\beta_0' = 0.1 \\times \\frac{0.0110424 \\times (10-0)}{0.1330516} + 0.3 \\times \\frac{0.0113138 \\times (12-10)}{0.1330516} = 0.1340132$$\n",
    "\n",
    "**Problem**\n",
    "\n",
    "If both $a_0', a_1' \\in A_0$, the corresponding parameter $\\beta_0$ should take the same value as the value belonging to the age class $A_0$. This should be hard-coded in the algorithm. This is the case for life phase $[12, 18[$, which is completely withing $[10, 20[$, and life phase 85+, which is completely withing 80+."
   ]
  },
  {
   "cell_type": "code",
   "execution_count": 20,
   "metadata": {
    "ExecuteTime": {
     "end_time": "2021-04-13T23:16:55.949276Z",
     "start_time": "2021-04-13T23:16:55.742805Z"
    }
   },
   "outputs": [
    {
     "data": {
      "text/html": [
       "<div>\n",
       "<style scoped>\n",
       "    .dataframe tbody tr th:only-of-type {\n",
       "        vertical-align: middle;\n",
       "    }\n",
       "\n",
       "    .dataframe tbody tr th {\n",
       "        vertical-align: top;\n",
       "    }\n",
       "\n",
       "    .dataframe thead th {\n",
       "        text-align: right;\n",
       "    }\n",
       "</style>\n",
       "<table border=\"1\" class=\"dataframe\">\n",
       "  <thead>\n",
       "    <tr style=\"text-align: right;\">\n",
       "      <th></th>\n",
       "      <th>age_group</th>\n",
       "      <th>symptomatic_hospitalized</th>\n",
       "      <th>hospitalized_ICU</th>\n",
       "      <th>CFR</th>\n",
       "      <th>age_fraction</th>\n",
       "    </tr>\n",
       "  </thead>\n",
       "  <tbody>\n",
       "    <tr>\n",
       "      <th>0</th>\n",
       "      <td>0-9</td>\n",
       "      <td>0.1</td>\n",
       "      <td>5.0</td>\n",
       "      <td>0.003</td>\n",
       "      <td>0.110424</td>\n",
       "    </tr>\n",
       "    <tr>\n",
       "      <th>1</th>\n",
       "      <td>10-19</td>\n",
       "      <td>0.3</td>\n",
       "      <td>5.0</td>\n",
       "      <td>0.015</td>\n",
       "      <td>0.113138</td>\n",
       "    </tr>\n",
       "    <tr>\n",
       "      <th>2</th>\n",
       "      <td>20-29</td>\n",
       "      <td>1.2</td>\n",
       "      <td>5.0</td>\n",
       "      <td>0.060</td>\n",
       "      <td>0.122482</td>\n",
       "    </tr>\n",
       "    <tr>\n",
       "      <th>3</th>\n",
       "      <td>30-39</td>\n",
       "      <td>3.2</td>\n",
       "      <td>5.0</td>\n",
       "      <td>0.146</td>\n",
       "      <td>0.129847</td>\n",
       "    </tr>\n",
       "    <tr>\n",
       "      <th>4</th>\n",
       "      <td>40-49</td>\n",
       "      <td>4.9</td>\n",
       "      <td>6.3</td>\n",
       "      <td>0.295</td>\n",
       "      <td>0.130913</td>\n",
       "    </tr>\n",
       "    <tr>\n",
       "      <th>5</th>\n",
       "      <td>50-59</td>\n",
       "      <td>10.2</td>\n",
       "      <td>12.2</td>\n",
       "      <td>1.250</td>\n",
       "      <td>0.138404</td>\n",
       "    </tr>\n",
       "    <tr>\n",
       "      <th>6</th>\n",
       "      <td>60-69</td>\n",
       "      <td>16.6</td>\n",
       "      <td>27.4</td>\n",
       "      <td>3.990</td>\n",
       "      <td>0.117218</td>\n",
       "    </tr>\n",
       "    <tr>\n",
       "      <th>7</th>\n",
       "      <td>70-79</td>\n",
       "      <td>24.3</td>\n",
       "      <td>43.2</td>\n",
       "      <td>8.610</td>\n",
       "      <td>0.080425</td>\n",
       "    </tr>\n",
       "    <tr>\n",
       "      <th>8</th>\n",
       "      <td>80+</td>\n",
       "      <td>27.3</td>\n",
       "      <td>70.9</td>\n",
       "      <td>13.400</td>\n",
       "      <td>0.057148</td>\n",
       "    </tr>\n",
       "  </tbody>\n",
       "</table>\n",
       "</div>"
      ],
      "text/plain": [
       "  age_group  symptomatic_hospitalized  hospitalized_ICU     CFR  age_fraction\n",
       "0       0-9                       0.1               5.0   0.003      0.110424\n",
       "1     10-19                       0.3               5.0   0.015      0.113138\n",
       "2     20-29                       1.2               5.0   0.060      0.122482\n",
       "3     30-39                       3.2               5.0   0.146      0.129847\n",
       "4     40-49                       4.9               6.3   0.295      0.130913\n",
       "5     50-59                      10.2              12.2   1.250      0.138404\n",
       "6     60-69                      16.6              27.4   3.990      0.117218\n",
       "7     70-79                      24.3              43.2   8.610      0.080425\n",
       "8       80+                      27.3              70.9  13.400      0.057148"
      ]
     },
     "execution_count": 20,
     "metadata": {},
     "output_type": "execute_result"
    }
   ],
   "source": [
    "import pandas as pd\n",
    "import numpy as np\n",
    "\n",
    "# Load 'decades' and only focus on making the 'phases' dataset\n",
    "raw_dir = '../../data/raw/model_parameters'\n",
    "verity_decades = pd.read_csv(f\"{raw_dir}/verity_etal.csv\")\n",
    "\n",
    "# Add column with weights based on the total Belgian population\n",
    "from covid19model.data import model_parameters\n",
    "initN = model_parameters.get_interaction_matrices(stratification='decades', spatial=None)[0]\n",
    "total_pop = initN.sum()\n",
    "verity_decades['age_fraction'] = initN/total_pop\n",
    "\n",
    "verity_decades"
   ]
  },
  {
   "cell_type": "code",
   "execution_count": 65,
   "metadata": {
    "ExecuteTime": {
     "end_time": "2021-04-14T00:31:20.010743Z",
     "start_time": "2021-04-14T00:31:19.982841Z"
    }
   },
   "outputs": [
    {
     "data": {
      "text/plain": [
       "array([ 0.13401316,  0.3       ,  0.6632058 ,  2.22918859,  4.05347422,\n",
       "        7.62370712, 13.13477652, 19.73328639, 24.87450622, 27.3       ])"
      ]
     },
     "execution_count": 65,
     "metadata": {},
     "output_type": "execute_result"
    }
   ],
   "source": [
    "# This needs to be tweaked if another age stratification that 'phases' is chosen\n",
    "\n",
    "# Define empty array for parameter values for new age class\n",
    "# N = len(age_lims['phases'])\n",
    "# sympt_hosp_array = np.zeros(N+1)\n",
    "# hosp_ICU_array = np.zeros(N+1)\n",
    "# CFR_array = np.zeros(N+1)\n",
    "\n",
    "sympt_hosp_array = np.array([])\n",
    "hosp_ICU_array = np.array([])\n",
    "CFR_array = np.array([])\n",
    "\n",
    "previous_age_decades=0\n",
    "previous_age_phases=0\n",
    "idx=0\n",
    "for age_phases in age_lims['phases']:\n",
    "    # Define symptomatic_hospitalized, hospitalized_ICU, and CFR parameter value of corresponding decade\n",
    "    sympt_hosp_lower = verity_decades.iloc[idx]['symptomatic_hospitalized']\n",
    "    hosp_ICU_lower = verity_decades.iloc[idx]['hospitalized_ICU']\n",
    "    CFR_lower = verity_decades.iloc[idx]['CFR']\n",
    "    # Special case for non-overlapping age class\n",
    "    if age_phases==18:\n",
    "        sympt_hosp_array = np.append(sympt_hosp_array, sympt_hosp_lower)\n",
    "        hosp_ICU_array = np.append(hosp_ICU_array, hosp_ICU_lower)\n",
    "        CFR_array = np.append(CFR_array, CFR_lower)\n",
    "        continue\n",
    "    age_decades_middle = age_lims['decades'][idx]\n",
    "    sympt_hosp_upper = verity_decades.iloc[idx+1]['symptomatic_hospitalized']\n",
    "    hosp_ICU_upper = verity_decades.iloc[idx+1]['hospitalized_ICU']\n",
    "    CFR_upper = verity_decades.iloc[idx+1]['CFR']\n",
    "    # Define age fraction for overlapping classes\n",
    "    age_fraction_lower = verity_decades.iloc[idx]['age_fraction']\n",
    "    age_fraction_upper = verity_decades.iloc[idx+1]['age_fraction']\n",
    "    # Define fraction-per-age for overlapping age classes\n",
    "    fraction_per_age_lower = age_fraction_lower / (age_decades_middle - previous_age_decades)\n",
    "    try:\n",
    "        fraction_per_age_upper = age_fraction_upper / (age_lims['decades'][idx+1] - age_decades_middle)\n",
    "    except:\n",
    "        # limit case: upper bound is age 110\n",
    "        fraction_per_age_upper = age_fraction_upper / (110 - age_decades_middle)\n",
    "    # Define denominator (see mathematical formula above)\n",
    "    denom = fraction_per_age_lower * (age_decades_middle - previous_age_phases) \\\n",
    "                                + fraction_per_age_upper * (age_phases - age_decades_middle)\n",
    "    # Calculate new parameters\n",
    "    sympt_hosp_phases = sympt_hosp_lower * fraction_per_age_lower * (age_decades_middle - previous_age_phases) / denom \\\n",
    "                                + sympt_hosp_upper * fraction_per_age_upper * (age_phases - age_decades_middle) / denom\n",
    "    hosp_ICU_phases = hosp_ICU_lower * fraction_per_age_lower * (age_decades_middle - previous_age_phases) / denom \\\n",
    "                                + hosp_ICU_upper * fraction_per_age_upper * (age_phases - age_decades_middle) / denom\n",
    "    CFR_phases = CFR_lower * fraction_per_age_lower * (age_decades_middle - previous_age_phases) / denom \\\n",
    "                                + CFR_upper * fraction_per_age_upper * (age_phases - age_decades_middle) / denom\n",
    "    # Add values to arrays\n",
    "    sympt_hosp_array = np.append(sympt_hosp_array, sympt_hosp_phases)\n",
    "    hosp_ICU_array = np.append(hosp_ICU_array, hosp_ICU_phases)\n",
    "    CFR_array = np.append(CFR_array, CFR_phases)\n",
    "    # Update lower bound of age class\n",
    "    previous_age_decades = age_decades_middle\n",
    "    previous_age_phases = age_phases\n",
    "    # Update idx value\n",
    "    idx += 1\n",
    "    \n",
    "# Add final value for 85+, which is equal to the value for 80+\n",
    "sympt_hosp_array = np.append(sympt_hosp_array, verity_decades.iloc[8]['symptomatic_hospitalized'])\n",
    "hosp_ICU_array = np.append(hosp_ICU_array, verity_decades.iloc[8]['hospitalized_ICU'])\n",
    "CFR_array = np.append(CFR_array, verity_decades.iloc[8]['CFR'])"
   ]
  },
  {
   "cell_type": "code",
   "execution_count": 66,
   "metadata": {
    "ExecuteTime": {
     "end_time": "2021-04-14T00:35:25.117709Z",
     "start_time": "2021-04-14T00:35:25.106738Z"
    }
   },
   "outputs": [
    {
     "data": {
      "text/html": [
       "<div>\n",
       "<style scoped>\n",
       "    .dataframe tbody tr th:only-of-type {\n",
       "        vertical-align: middle;\n",
       "    }\n",
       "\n",
       "    .dataframe tbody tr th {\n",
       "        vertical-align: top;\n",
       "    }\n",
       "\n",
       "    .dataframe thead th {\n",
       "        text-align: right;\n",
       "    }\n",
       "</style>\n",
       "<table border=\"1\" class=\"dataframe\">\n",
       "  <thead>\n",
       "    <tr style=\"text-align: right;\">\n",
       "      <th></th>\n",
       "      <th>age_group</th>\n",
       "      <th>symptomatic_hospitalized</th>\n",
       "      <th>hospitalized_ICU</th>\n",
       "      <th>CFR</th>\n",
       "    </tr>\n",
       "  </thead>\n",
       "  <tbody>\n",
       "    <tr>\n",
       "      <th>0</th>\n",
       "      <td>0-11</td>\n",
       "      <td>0.134013</td>\n",
       "      <td>5.000000</td>\n",
       "      <td>0.005041</td>\n",
       "    </tr>\n",
       "    <tr>\n",
       "      <th>1</th>\n",
       "      <td>12-17</td>\n",
       "      <td>0.300000</td>\n",
       "      <td>5.000000</td>\n",
       "      <td>0.015000</td>\n",
       "    </tr>\n",
       "    <tr>\n",
       "      <th>2</th>\n",
       "      <td>18-24</td>\n",
       "      <td>0.663206</td>\n",
       "      <td>5.000000</td>\n",
       "      <td>0.033160</td>\n",
       "    </tr>\n",
       "    <tr>\n",
       "      <th>3</th>\n",
       "      <td>25-34</td>\n",
       "      <td>2.229189</td>\n",
       "      <td>5.000000</td>\n",
       "      <td>0.104255</td>\n",
       "    </tr>\n",
       "    <tr>\n",
       "      <th>4</th>\n",
       "      <td>35-44</td>\n",
       "      <td>4.053474</td>\n",
       "      <td>5.652657</td>\n",
       "      <td>0.220805</td>\n",
       "    </tr>\n",
       "    <tr>\n",
       "      <th>5</th>\n",
       "      <td>45-54</td>\n",
       "      <td>7.623707</td>\n",
       "      <td>9.332051</td>\n",
       "      <td>0.785781</td>\n",
       "    </tr>\n",
       "    <tr>\n",
       "      <th>6</th>\n",
       "      <td>55-64</td>\n",
       "      <td>13.134777</td>\n",
       "      <td>19.170094</td>\n",
       "      <td>2.506451</td>\n",
       "    </tr>\n",
       "    <tr>\n",
       "      <th>7</th>\n",
       "      <td>65-74</td>\n",
       "      <td>19.733286</td>\n",
       "      <td>33.829341</td>\n",
       "      <td>5.869972</td>\n",
       "    </tr>\n",
       "    <tr>\n",
       "      <th>8</th>\n",
       "      <td>75-84</td>\n",
       "      <td>24.874506</td>\n",
       "      <td>48.504607</td>\n",
       "      <td>9.527295</td>\n",
       "    </tr>\n",
       "    <tr>\n",
       "      <th>9</th>\n",
       "      <td>85+</td>\n",
       "      <td>27.300000</td>\n",
       "      <td>70.900000</td>\n",
       "      <td>13.400000</td>\n",
       "    </tr>\n",
       "  </tbody>\n",
       "</table>\n",
       "</div>"
      ],
      "text/plain": [
       "  age_group  symptomatic_hospitalized  hospitalized_ICU        CFR\n",
       "0      0-11                  0.134013          5.000000   0.005041\n",
       "1     12-17                  0.300000          5.000000   0.015000\n",
       "2     18-24                  0.663206          5.000000   0.033160\n",
       "3     25-34                  2.229189          5.000000   0.104255\n",
       "4     35-44                  4.053474          5.652657   0.220805\n",
       "5     45-54                  7.623707          9.332051   0.785781\n",
       "6     55-64                 13.134777         19.170094   2.506451\n",
       "7     65-74                 19.733286         33.829341   5.869972\n",
       "8     75-84                 24.874506         48.504607   9.527295\n",
       "9       85+                 27.300000         70.900000  13.400000"
      ]
     },
     "execution_count": 66,
     "metadata": {},
     "output_type": "execute_result"
    }
   ],
   "source": [
    "# Create new DataFrame with the new age stratification in the same conventions\n",
    "age_group = np.array(['0-11', '12-17', '18-24', '25-34', '35-44', '45-54', '55-64', '65-74', '75-84', '85+'])\n",
    "verity_phases = pd.DataFrame({'age_group' : age_group,\n",
    "                              'symptomatic_hospitalized' : sympt_hosp_array,\n",
    "                              'hospitalized_ICU' : hosp_ICU_array,\n",
    "                              'CFR' : CFR_array})\n",
    "\n",
    "verity_phases.to_csv()"
   ]
  }
 ],
 "metadata": {
  "kernelspec": {
   "display_name": "Python 3",
   "language": "python",
   "name": "python3"
  },
  "language_info": {
   "codemirror_mode": {
    "name": "ipython",
    "version": 3
   },
   "file_extension": ".py",
   "mimetype": "text/x-python",
   "name": "python",
   "nbconvert_exporter": "python",
   "pygments_lexer": "ipython3",
   "version": "3.7.3"
  },
  "toc": {
   "base_numbering": 1,
   "nav_menu": {},
   "number_sections": true,
   "sideBar": true,
   "skip_h1_title": false,
   "title_cell": "Table of Contents",
   "title_sidebar": "Contents",
   "toc_cell": false,
   "toc_position": {},
   "toc_section_display": true,
   "toc_window_display": false
  }
 },
 "nbformat": 4,
 "nbformat_minor": 2
}
