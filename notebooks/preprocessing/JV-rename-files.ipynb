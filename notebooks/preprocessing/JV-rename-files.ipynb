{
 "cells": [
  {
   "cell_type": "code",
   "execution_count": 77,
   "metadata": {
    "ExecuteTime": {
     "end_time": "2020-08-31T08:03:53.858308Z",
     "start_time": "2020-08-31T08:03:53.835996Z"
    }
   },
   "outputs": [],
   "source": [
    "import os\n",
    "import glob\n",
    "import pandas as pd"
   ]
  },
  {
   "cell_type": "code",
   "execution_count": 78,
   "metadata": {
    "ExecuteTime": {
     "end_time": "2020-08-31T08:03:54.338125Z",
     "start_time": "2020-08-31T08:03:54.273082Z"
    }
   },
   "outputs": [],
   "source": [
    "NIS_name = pd.read_csv('../../data/interim/census_2011/NIS_name.csv')\n",
    "NIS_arr = NIS_name[NIS_name.name.str.startswith('Arrond')].copy()\n",
    "NIS_arr.name = NIS_arr.name.apply(lambda x: x.split('Arrondissement ')[-1])"
   ]
  },
  {
   "cell_type": "code",
   "execution_count": 81,
   "metadata": {
    "ExecuteTime": {
     "end_time": "2020-08-31T08:05:34.523137Z",
     "start_time": "2020-08-31T08:05:34.511704Z"
    }
   },
   "outputs": [
    {
     "data": {
      "text/html": [
       "<div>\n",
       "<style scoped>\n",
       "    .dataframe tbody tr th:only-of-type {\n",
       "        vertical-align: middle;\n",
       "    }\n",
       "\n",
       "    .dataframe tbody tr th {\n",
       "        vertical-align: top;\n",
       "    }\n",
       "\n",
       "    .dataframe thead th {\n",
       "        text-align: right;\n",
       "    }\n",
       "</style>\n",
       "<table border=\"1\" class=\"dataframe\">\n",
       "  <thead>\n",
       "    <tr style=\"text-align: right;\">\n",
       "      <th></th>\n",
       "      <th>NIS</th>\n",
       "      <th>name</th>\n",
       "    </tr>\n",
       "  </thead>\n",
       "  <tbody>\n",
       "    <tr>\n",
       "      <th>386</th>\n",
       "      <td>55022</td>\n",
       "      <td>La Louvière</td>\n",
       "    </tr>\n",
       "  </tbody>\n",
       "</table>\n",
       "</div>"
      ],
      "text/plain": [
       "       NIS         name\n",
       "386  55022  La Louvière"
      ]
     },
     "execution_count": 81,
     "metadata": {},
     "output_type": "execute_result"
    }
   ],
   "source": [
    "NIS_name[NIS_name.name=='La Louvière']"
   ]
  },
  {
   "cell_type": "code",
   "execution_count": 69,
   "metadata": {
    "ExecuteTime": {
     "end_time": "2020-08-27T15:34:32.694075Z",
     "start_time": "2020-08-27T15:34:32.689832Z"
    }
   },
   "outputs": [],
   "source": [
    "path='../../data/interim/model_parameters/arrondissements/'"
   ]
  },
  {
   "cell_type": "code",
   "execution_count": 74,
   "metadata": {
    "ExecuteTime": {
     "end_time": "2020-08-27T15:35:23.988265Z",
     "start_time": "2020-08-27T15:35:23.903765Z"
    }
   },
   "outputs": [
    {
     "name": "stdout",
     "output_type": "stream",
     "text": [
      "../../data/interim/model_parameters/arrondissements/41000_2020-08-22.json\n",
      "../../data/interim/model_parameters/arrondissements/81000_2020-08-22.json\n",
      "../../data/interim/model_parameters/arrondissements/51000_2020-08-22.json\n",
      "../../data/interim/model_parameters/arrondissements/11000_2020-08-22.json\n",
      "../../data/interim/model_parameters/arrondissements/82000_2020-08-22.json\n",
      "../../data/interim/model_parameters/arrondissements/53000_2020-08-22.json\n",
      "../../data/interim/model_parameters/arrondissements/64000_2020-08-22.json\n",
      "../../data/interim/model_parameters/arrondissements/31000_2020-08-22.json\n",
      "../../data/interim/model_parameters/arrondissements/21000_2020-08-22.json\n",
      "../../data/interim/model_parameters/arrondissements/52000_2020-08-22.json\n",
      "../../data/interim/model_parameters/arrondissements/42000_2020-08-22.json\n",
      "../../data/interim/model_parameters/arrondissements/32000_2020-08-22.json\n",
      "../../data/interim/model_parameters/arrondissements/91000_2020-08-22.json\n",
      "../../data/interim/model_parameters/arrondissements/57000_2020-08-22.json\n",
      "../../data/interim/model_parameters/arrondissements/43000_2020-08-22.json\n",
      "../../data/interim/model_parameters/arrondissements/44000_2020-08-22.json\n",
      "../../data/interim/model_parameters/arrondissements/23000_2020-08-22.json\n",
      "../../data/interim/model_parameters/arrondissements/71000_2020-08-22.json\n",
      "../../data/interim/model_parameters/arrondissements/61000_2020-08-22.json\n",
      "../../data/interim/model_parameters/arrondissements/33000_2020-08-22.json\n",
      "../../data/interim/model_parameters/arrondissements/34000_2020-08-22.json\n",
      "../../data/interim/model_parameters/arrondissements/24000_2020-08-22.json\n",
      "../../data/interim/model_parameters/arrondissements/62000_2020-08-22.json\n",
      "../../data/interim/model_parameters/arrondissements/72000_2020-08-22.json\n",
      "../../data/interim/model_parameters/arrondissements/83000_2020-08-22.json\n",
      "../../data/interim/model_parameters/arrondissements/12000_2020-08-22.json\n",
      "../../data/interim/model_parameters/arrondissements/92000_2020-08-22.json\n",
      "../../data/interim/model_parameters/arrondissements/25000_2020-08-22.json\n",
      "../../data/interim/model_parameters/arrondissements/35000_2020-08-22.json\n",
      "../../data/interim/model_parameters/arrondissements/45000_2020-08-22.json\n",
      "../../data/interim/model_parameters/arrondissements/93000_2020-08-22.json\n",
      "../../data/interim/model_parameters/arrondissements/36000_2020-08-22.json\n",
      "../../data/interim/model_parameters/arrondissements/46000_2020-08-22.json\n",
      "../../data/interim/model_parameters/arrondissements/56000_2020-08-22.json\n",
      "../../data/interim/model_parameters/arrondissements/37000_2020-08-22.json\n",
      "../../data/interim/model_parameters/arrondissements/73000_2020-08-22.json\n",
      "../../data/interim/model_parameters/arrondissements/13000_2020-08-22.json\n",
      "../../data/interim/model_parameters/arrondissements/63000_2020-08-22.json\n",
      "../../data/interim/model_parameters/arrondissements/38000_2020-08-22.json\n",
      "../../data/interim/model_parameters/arrondissements/85000_2020-08-22.json\n",
      "../../data/interim/model_parameters/arrondissements/55000_2020-08-22.json\n"
     ]
    }
   ],
   "source": [
    "for filename in glob.glob(path+\"*.json\"):\n",
    "    arr = filename.split('/')[-1].split('_')[0]\n",
    "    rest_name = filename.split('/')[-1].split('_')[1]\n",
    "    NIS = NIS_arr.loc[NIS_arr.name==arr].NIS.item()\n",
    "    new_name = path+str(NIS)+'_'+rest_name\n",
    "    os.rename(filename, new_name)\n",
    "    print(new_name)\n"
   ]
  },
  {
   "cell_type": "code",
   "execution_count": null,
   "metadata": {},
   "outputs": [],
   "source": []
  }
 ],
 "metadata": {
  "kernelspec": {
   "display_name": "Python 3",
   "language": "python",
   "name": "python3"
  },
  "language_info": {
   "codemirror_mode": {
    "name": "ipython",
    "version": 3
   },
   "file_extension": ".py",
   "mimetype": "text/x-python",
   "name": "python",
   "nbconvert_exporter": "python",
   "pygments_lexer": "ipython3",
   "version": "3.8.2"
  },
  "toc": {
   "base_numbering": 1,
   "nav_menu": {},
   "number_sections": true,
   "sideBar": true,
   "skip_h1_title": false,
   "title_cell": "Table of Contents",
   "title_sidebar": "Contents",
   "toc_cell": false,
   "toc_position": {},
   "toc_section_display": true,
   "toc_window_display": false
  }
 },
 "nbformat": 4,
 "nbformat_minor": 4
}
