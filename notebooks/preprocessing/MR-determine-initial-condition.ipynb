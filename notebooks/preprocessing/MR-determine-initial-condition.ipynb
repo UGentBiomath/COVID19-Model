{
 "cells": [
  {
   "cell_type": "markdown",
   "metadata": {},
   "source": [
    "This notebook justifies the `dist=arenas` option in the `initial_state` function.\n",
    "\n",
    "In Arenas' paper, the initial condition is justified as follows:\n",
    "- Plants seeds according to the first reported cases\n",
    "- Adds in additional seeds for particular hotspots\n",
    "- This boils down to 47 seeds = 0.2 percent of the total March 20 2020 reported cases\n",
    "- These seeds are added to the 'asymptomatic infectious class', which is the first class after 'susceptible'.\n",
    "\n",
    "Our approach is slightly different:\n",
    "- Take a fixed number of people\n",
    "- Distribute these people as 'seeds' according the the number of hospitalisations at March 20th 2020\n",
    "- These are generally _not_ whole numbers, but the model does not see a difference between whole or fractional numbers"
   ]
  },
  {
   "cell_type": "code",
   "execution_count": 41,
   "metadata": {
    "ExecuteTime": {
     "end_time": "2021-06-01T14:43:56.242077Z",
     "start_time": "2021-06-01T14:43:56.186262Z"
    }
   },
   "outputs": [
    {
     "name": "stdout",
     "output_type": "stream",
     "text": [
      "The autoreload extension is already loaded. To reload it, use:\n",
      "  %reload_ext autoreload\n"
     ]
    }
   ],
   "source": [
    "import pandas as pd\n",
    "import numpy as np\n",
    "# import glob\n",
    "%matplotlib notebook\n",
    "import matplotlib.pyplot as plt\n",
    "import sys\n",
    "import datetime\n",
    "# sys.path.insert(0, \"../tools\")\n",
    "\n",
    "from covid19model.data.mobility import * # contains all necessary functions\n",
    "from covid19model.visualization.utils import moving_avg\n",
    "from covid19model.data.sciensano import *\n",
    "\n",
    "# OPTIONAL: Load the \"autoreload\" extension so that package code can change\n",
    "%load_ext autoreload\n",
    "# OPTIONAL: always reload modules so that as you change code in src, it gets loaded\n",
    "%autoreload 2"
   ]
  },
  {
   "cell_type": "code",
   "execution_count": 40,
   "metadata": {
    "ExecuteTime": {
     "end_time": "2021-06-01T14:39:16.044563Z",
     "start_time": "2021-06-01T14:39:15.902995Z"
    }
   },
   "outputs": [
    {
     "data": {
      "text/plain": [
       "0.12609736632083005"
      ]
     },
     "execution_count": 40,
     "metadata": {},
     "output_type": "execute_result"
    }
   ],
   "source": [
    "max_date = '2020-03-20'\n",
    "values = 'hospitalised_IN'\n",
    "agg = 'arr'\n",
    "df = get_sciensano_COVID19_data_spatial(agg=agg, values=values, moving_avg=True)\n",
    "\n",
    "max_value = df.loc[max_date].sum()\n",
    "\n",
    "df_new = (df.loc[max_date] / max_value * 2)\n",
    "\n",
    "# Now properly scale this to the desired total number of people in the initial condition\n",
    "# Add particular seeds for special events (if needed in Belgium?)\n",
    "\n",
    "df_new.loc[11000]\n",
    "    "
   ]
  }
 ],
 "metadata": {
  "kernelspec": {
   "display_name": "Python 3",
   "language": "python",
   "name": "python3"
  },
  "language_info": {
   "codemirror_mode": {
    "name": "ipython",
    "version": 3
   },
   "file_extension": ".py",
   "mimetype": "text/x-python",
   "name": "python",
   "nbconvert_exporter": "python",
   "pygments_lexer": "ipython3",
   "version": "3.7.3"
  },
  "toc": {
   "base_numbering": 1,
   "nav_menu": {},
   "number_sections": true,
   "sideBar": true,
   "skip_h1_title": false,
   "title_cell": "Table of Contents",
   "title_sidebar": "Contents",
   "toc_cell": false,
   "toc_position": {},
   "toc_section_display": true,
   "toc_window_display": false
  }
 },
 "nbformat": 4,
 "nbformat_minor": 2
}
