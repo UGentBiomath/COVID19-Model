{
 "cells": [
  {
   "cell_type": "code",
   "execution_count": 7,
   "metadata": {
    "ExecuteTime": {
     "end_time": "2021-03-31T21:10:01.987905Z",
     "start_time": "2021-03-31T21:09:11.499234Z"
    }
   },
   "outputs": [
    {
     "name": "stdout",
     "output_type": "stream",
     "text": [
      "The autoreload extension is already loaded. To reload it, use:\n",
      "  %reload_ext autoreload\n",
      "\n",
      "Scanning interim directory ../../data/interim/mobility/prov/fractional/.\n",
      "Scanning raw directory ../../data/raw/mobility/proximus/postalcodes/.\n",
      "\n",
      "New dates to be processed: ['20210323', '20210324', '20210325', '20210326', '20210327', '20210328', '20210329', '20210330']\n",
      "\n",
      "Saved P for date 20210330: fractional-mobility-matrix_staytime_prov_20210330.csv\r"
     ]
    }
   ],
   "source": [
    "from covid19model.data.mobility import update_staytime_mobility_matrix\n",
    "# OPTIONAL: Load the \"autoreload\" extension so that package code can change\n",
    "%load_ext autoreload\n",
    "# OPTIONAL: always reload modules so that as you change code in src, it gets loaded\n",
    "%autoreload 2\n",
    "\n",
    "\n",
    "agg = 'prov'\n",
    "normalise = True\n",
    "\n",
    "\n",
    "if normalise:\n",
    "    directory='fractional'\n",
    "else:\n",
    "    directory='staytime'\n",
    "\n",
    "raw_dir = '../../data/raw/mobility/proximus/postalcodes/'\n",
    "interim_dir = f'../../data/interim/mobility/{agg}/{directory}/'\n",
    "verbose = True\n",
    "\n",
    "update_staytime_mobility_matrix(raw_dir, interim_dir, agg=agg, verbose=verbose, normalise=normalise)"
   ]
  },
  {
   "cell_type": "markdown",
   "metadata": {},
   "source": [
    "# Scratches"
   ]
  }
 ],
 "metadata": {
  "kernelspec": {
   "display_name": "Python 3",
   "language": "python",
   "name": "python3"
  },
  "language_info": {
   "codemirror_mode": {
    "name": "ipython",
    "version": 3
   },
   "file_extension": ".py",
   "mimetype": "text/x-python",
   "name": "python",
   "nbconvert_exporter": "python",
   "pygments_lexer": "ipython3",
   "version": "3.7.3"
  },
  "toc": {
   "base_numbering": 1,
   "nav_menu": {},
   "number_sections": true,
   "sideBar": true,
   "skip_h1_title": false,
   "title_cell": "Table of Contents",
   "title_sidebar": "Contents",
   "toc_cell": false,
   "toc_position": {},
   "toc_section_display": true,
   "toc_window_display": false
  }
 },
 "nbformat": 4,
 "nbformat_minor": 2
}
