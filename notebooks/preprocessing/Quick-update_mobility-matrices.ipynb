{
 "cells": [
  {
   "cell_type": "code",
   "execution_count": 8,
   "metadata": {
    "ExecuteTime": {
     "end_time": "2021-02-23T11:09:04.125081Z",
     "start_time": "2021-02-23T11:09:04.019737Z"
    }
   },
   "outputs": [
    {
     "name": "stdout",
     "output_type": "stream",
     "text": [
      "The autoreload extension is already loaded. To reload it, use:\n",
      "  %reload_ext autoreload\n",
      "\n",
      "Scanning interim directory ../../data/interim/mobility/arr/staytime/.\n",
      "Scanning raw directory ../../data/raw/mobility/proximus/postalcodes/.\n",
      "\n",
      "New dates to be processed: []\n",
      "\n"
     ]
    }
   ],
   "source": [
    "from covid19model.data.mobility import update_staytime_mobility_matrix\n",
    "# OPTIONAL: Load the \"autoreload\" extension so that package code can change\n",
    "%load_ext autoreload\n",
    "# OPTIONAL: always reload modules so that as you change code in src, it gets loaded\n",
    "%autoreload 2\n",
    "\n",
    "\n",
    "\n",
    "raw_dir = '../../data/raw/mobility/proximus/postalcodes/'\n",
    "interim_dir = '../../data/interim/mobility/arr/staytime/'\n",
    "agg = 'arr'\n",
    "verbose = True\n",
    "\n",
    "\n",
    "\n",
    "update_staytime_mobility_matrix(raw_dir, interim_dir, agg=agg, verbose=verbose)"
   ]
  }
 ],
 "metadata": {
  "kernelspec": {
   "display_name": "Python 3",
   "language": "python",
   "name": "python3"
  },
  "language_info": {
   "codemirror_mode": {
    "name": "ipython",
    "version": 3
   },
   "file_extension": ".py",
   "mimetype": "text/x-python",
   "name": "python",
   "nbconvert_exporter": "python",
   "pygments_lexer": "ipython3",
   "version": "3.7.3"
  },
  "toc": {
   "base_numbering": 1,
   "nav_menu": {},
   "number_sections": true,
   "sideBar": true,
   "skip_h1_title": false,
   "title_cell": "Table of Contents",
   "title_sidebar": "Contents",
   "toc_cell": false,
   "toc_position": {},
   "toc_section_display": true,
   "toc_window_display": false
  }
 },
 "nbformat": 4,
 "nbformat_minor": 2
}
