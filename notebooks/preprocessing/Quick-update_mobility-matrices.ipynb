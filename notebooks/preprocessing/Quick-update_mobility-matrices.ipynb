{
 "cells": [
  {
   "cell_type": "code",
   "execution_count": 9,
   "metadata": {
    "ExecuteTime": {
     "end_time": "2021-04-07T09:43:19.283107Z",
     "start_time": "2021-04-07T09:43:19.174112Z"
    }
   },
   "outputs": [
    {
     "name": "stdout",
     "output_type": "stream",
     "text": [
      "The autoreload extension is already loaded. To reload it, use:\n",
      "  %reload_ext autoreload\n",
      "\n",
      "Scanning interim directory ../../data/interim/mobility/prov/staytime/.\n",
      "Scanning raw directory ../../data/raw/mobility/proximus/postalcodes/.\n",
      "\n",
      "New dates to be processed: []\n",
      "\n"
     ]
    }
   ],
   "source": [
    "from covid19model.data.mobility import update_staytime_mobility_matrix\n",
    "# OPTIONAL: Load the \"autoreload\" extension so that package code can change\n",
    "%load_ext autoreload\n",
    "# OPTIONAL: always reload modules so that as you change code in src, it gets loaded\n",
    "%autoreload 2\n",
    "\n",
    "\n",
    "agg = 'prov'\n",
    "normalise = False\n",
    "\n",
    "\n",
    "if normalise:\n",
    "    directory='fractional'\n",
    "else:\n",
    "    directory='staytime'\n",
    "\n",
    "raw_dir = '../../data/raw/mobility/proximus/postalcodes/'\n",
    "interim_dir = f'../../data/interim/mobility/{agg}/{directory}/'\n",
    "verbose = True\n",
    "\n",
    "update_staytime_mobility_matrix(raw_dir, interim_dir, agg=agg, verbose=verbose, normalise=normalise)"
   ]
  },
  {
   "cell_type": "code",
   "execution_count": 11,
   "metadata": {
    "ExecuteTime": {
     "end_time": "2021-04-07T10:20:02.659528Z",
     "start_time": "2021-04-07T10:20:02.559474Z"
    }
   },
   "outputs": [
    {
     "name": "stdout",
     "output_type": "stream",
     "text": [
      "The autoreload extension is already loaded. To reload it, use:\n",
      "  %reload_ext autoreload\n",
      "\n",
      "Scanning interim directory ../../data/interim/mobility/prov/visits/.\n",
      "Scanning raw directory ../../data/raw/mobility/proximus/postalcodes/.\n",
      "\n",
      "New dates to be processed: []\n",
      "\n"
     ]
    }
   ],
   "source": [
    "from covid19model.data.mobility import update_visits_mobility_matrix\n",
    "# OPTIONAL: Load the \"autoreload\" extension so that package code can change\n",
    "%load_ext autoreload\n",
    "# OPTIONAL: always reload modules so that as you change code in src, it gets loaded\n",
    "%autoreload 2\n",
    "\n",
    "interim_dir = f'../../data/interim/mobility/{agg}/visits/'\n",
    "update_visits_mobility_matrix(raw_dir, interim_dir, agg=agg)"
   ]
  }
 ],
 "metadata": {
  "kernelspec": {
   "display_name": "Python 3",
   "language": "python",
   "name": "python3"
  },
  "language_info": {
   "codemirror_mode": {
    "name": "ipython",
    "version": 3
   },
   "file_extension": ".py",
   "mimetype": "text/x-python",
   "name": "python",
   "nbconvert_exporter": "python",
   "pygments_lexer": "ipython3",
   "version": "3.7.3"
  },
  "toc": {
   "base_numbering": 1,
   "nav_menu": {},
   "number_sections": true,
   "sideBar": true,
   "skip_h1_title": false,
   "title_cell": "Table of Contents",
   "title_sidebar": "Contents",
   "toc_cell": false,
   "toc_position": {},
   "toc_section_display": true,
   "toc_window_display": false
  }
 },
 "nbformat": 4,
 "nbformat_minor": 2
}
