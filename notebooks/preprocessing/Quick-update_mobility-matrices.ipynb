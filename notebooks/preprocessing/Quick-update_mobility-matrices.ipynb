{
 "cells": [
  {
   "cell_type": "code",
   "execution_count": 9,
   "metadata": {
    "ExecuteTime": {
     "end_time": "2021-06-30T10:28:57.919852Z",
     "start_time": "2021-06-30T10:26:19.045282Z"
    }
   },
   "outputs": [
    {
     "name": "stdout",
     "output_type": "stream",
     "text": [
      "The autoreload extension is already loaded. To reload it, use:\n",
      "  %reload_ext autoreload\n",
      "\n",
      "Scanning interim directory ../../data/interim/mobility/prov/staytime/.\n",
      "Scanning raw directory ../../data/raw/mobility/proximus/postalcodes/.\n",
      "\n",
      "New dates to be processed: ['20210505', '20210506', '20210507', '20210508', '20210509', '20210510', '20210511', '20210512', '20210513', '20210514', '20210515', '20210516', '20210517', '20210518', '20210519', '20210520', '20210521', '20210522', '20210523', '20210524', '20210525', '20210526', '20210527', '20210528', '20210529', '20210530', '20210531', '20210601', '20210602', '20210603', '20210604', '20210605', '20210606', '20210607', '20210608', '20210609', '20210610', '20210611', '20210612', '20210613', '20210614', '20210615', '20210616', '20210617', '20210618', '20210619', '20210620', '20210621', '20210622', '20210623', '20210624', '20210625', '20210626', '20210627', '20210628']\n",
      "\n",
      "Saved P for date 20210628: absolute-mobility-matrix_staytime_prov_20210628.csv\r"
     ]
    }
   ],
   "source": [
    "from covid19model.data.mobility import update_staytime_mobility_matrix\n",
    "# OPTIONAL: Load the \"autoreload\" extension so that package code can change\n",
    "%load_ext autoreload\n",
    "# OPTIONAL: always reload modules so that as you change code in src, it gets loaded\n",
    "%autoreload 2\n",
    "\n",
    "\n",
    "agg = 'prov'\n",
    "normalise = False\n",
    "\n",
    "\n",
    "if normalise:\n",
    "    directory='fractional'\n",
    "else:\n",
    "    directory='staytime'\n",
    "\n",
    "raw_dir = '../../data/raw/mobility/proximus/postalcodes/'\n",
    "interim_dir = f'../../data/interim/mobility/{agg}/{directory}/'\n",
    "verbose = True\n",
    "\n",
    "update_staytime_mobility_matrix(raw_dir, interim_dir, agg=agg, verbose=verbose, normalise=normalise)"
   ]
  },
  {
   "cell_type": "markdown",
   "metadata": {
    "heading_collapsed": true
   },
   "source": [
    "# Scratches"
   ]
  }
 ],
 "metadata": {
  "kernelspec": {
   "display_name": "Python 3",
   "language": "python",
   "name": "python3"
  },
  "language_info": {
   "codemirror_mode": {
    "name": "ipython",
    "version": 3
   },
   "file_extension": ".py",
   "mimetype": "text/x-python",
   "name": "python",
   "nbconvert_exporter": "python",
   "pygments_lexer": "ipython3",
   "version": "3.7.3"
  },
  "toc": {
   "base_numbering": 1,
   "nav_menu": {},
   "number_sections": true,
   "sideBar": true,
   "skip_h1_title": false,
   "title_cell": "Table of Contents",
   "title_sidebar": "Contents",
   "toc_cell": false,
   "toc_position": {},
   "toc_section_display": true,
   "toc_window_display": false
  }
 },
 "nbformat": 4,
 "nbformat_minor": 2
}
