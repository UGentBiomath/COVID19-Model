{
 "cells": [
  {
   "cell_type": "markdown",
   "metadata": {},
   "source": [
    "The aim of this small Notebook is:\n",
    "1. to load CSV files from https://lwillem.shinyapps.io/socrates_rshiny/ and paste them into separate sheets in an XLXS file.\n",
    "2. to load data from `/raw/interaction_matrices/demographic/TF_SOC_POP_STRUCT_2020.xlsx` and create initial populations per region and per new age stratification"
   ]
  },
  {
   "cell_type": "code",
   "execution_count": 8,
   "metadata": {
    "ExecuteTime": {
     "end_time": "2021-04-13T08:26:52.485654Z",
     "start_time": "2021-04-13T08:26:52.479634Z"
    }
   },
   "outputs": [],
   "source": [
    "# Define various choices for age stratification.\n",
    "age_lims_phases = [12, 18, 25, 35, 45, 55, 65, 75, 85]\n",
    "age_lims_decades = [10,20,30,40,50,60,70,80]\n",
    "age_lims=dict({'phases' : age_lims_phases,\n",
    "               'decades': age_lims_decades})\n",
    "\n",
    "age_names_phases = ['[0, 12)', '[12, 18)', '[18, 25)', '[25, 35)', '[35, 45)', '[45, 55)', '[55, 65)', '[65, 75)', '[75, 85)', '85+']\n",
    "age_names_decades = ['[0, 10)', '[10, 20)', '[20, 30)', '[30, 40)', '[40, 50)', '[50, 60)', '[60, 70)', '[70, 80)', '80+']\n",
    "age_names=dict({'phases' : age_names_phases,\n",
    "                'decades': age_names_decades})"
   ]
  },
  {
   "cell_type": "markdown",
   "metadata": {},
   "source": [
    "# Interaction matrices (same in every region)\n",
    "\n",
    "Note: this code should be augmented for the CoMix data!"
   ]
  },
  {
   "cell_type": "code",
   "execution_count": 2,
   "metadata": {
    "ExecuteTime": {
     "end_time": "2021-04-13T08:01:12.806724Z",
     "start_time": "2021-04-13T08:01:09.521012Z"
    }
   },
   "outputs": [],
   "source": [
    "import pandas as pd\n",
    "\n",
    "######### USER INPUT ###########\n",
    "# Choose dataset\n",
    "dataset = 'willem_2012'\n",
    "# Choose age stratification: decades or life phases\n",
    "stratification = 'phases'\n",
    "######### USER INPUT ###########\n",
    "\n",
    "# All possible subdirectories to loop over\n",
    "# All XLSX files\n",
    "locations = ['total', 'home', 'work', 'school', 'transport', 'leisure', 'otherplace']\n",
    "# All sheets within XLSX files\n",
    "contacts = ['all', 'physical_only', 'less_5_min', 'less_15_min', 'more_15_min', 'more_one_hour', 'more_four_hours']\n",
    "\n",
    "# Define directory of raw data\n",
    "interaction_raw = f'../../data/raw/interaction_matrices/{dataset}/CSVs/{stratification}'\n",
    "# Define directory of interim data (target)\n",
    "interaction_interim = f'../../data/interim/interaction_matrices/{dataset}/{stratification}'"
   ]
  },
  {
   "cell_type": "code",
   "execution_count": 78,
   "metadata": {
    "ExecuteTime": {
     "end_time": "2021-04-13T10:16:24.562164Z",
     "start_time": "2021-04-13T10:16:24.541221Z"
    }
   },
   "outputs": [],
   "source": [
    "# Define function to create the more_5_min DataFrame\n",
    "def create_more_5_min(CSV_dir, dataset, stratification, loc):\n",
    "    contact_df_all = pd.read_csv(f'{CSV_dir}/{loc}/{dataset}_{stratification}_{loc}_all.csv')\n",
    "    contact_df_less_5_min = pd.read_csv(f'{CSV_dir}/{loc}/{dataset}_{stratification}_{loc}_less_5_min.csv')\n",
    "    contact_df_more_5_min = contact_df_all - contact_df_less_5_min\n",
    "    return contact_df_more_5_min\n",
    "\n",
    "# Define function to give proper names to the DataFrame\n",
    "def clean_df(raw_df, age_names):\n",
    "    clean_df = raw_df.copy()\n",
    "    clean_df['age_group']=age_names\n",
    "    clean_df = clean_df.set_index('age_group')\n",
    "    return clean_df\n",
    "\n",
    "# Define function that collects the CSVs into an XLSX file and immediately saves it there\n",
    "def create_XLSX(source_dir, target_dir, stratification, dataset, locations, contacts):\n",
    "    for loc in locations:\n",
    "        print(f\"Working on social environment {loc}       \", end='\\r')\n",
    "        engine='openpyxl'\n",
    "        with pd.ExcelWriter(f'{target_dir}/{loc}_{stratification}.xlsx', engine=engine) as XLSX:\n",
    "            for con in contacts:\n",
    "                # Create a sheet with name {con} inside the excel file XLSX\n",
    "                contact_df = pd.read_csv(f'{source_dir}/{loc}/{dataset}_{stratification}_{loc}_{con}.csv')\n",
    "                contact_df = clean_df(contact_df, age_names[stratification])\n",
    "                contact_df.to_excel(XLSX, sheet_name=con)\n",
    "                if con=='less_5_min':\n",
    "                    # Create more_5_min sheet right after less_5_min\n",
    "                    contact_df = create_more_5_min(source_dir, dataset, stratification, loc)\n",
    "                    contact_df = clean_df(contact_df, age_names[stratification])\n",
    "                    contact_df.to_excel(XLSX, sheet_name='more_5_min')\n",
    "    print(\"Done.\", \" \"*40)\n",
    "    return"
   ]
  },
  {
   "cell_type": "code",
   "execution_count": 77,
   "metadata": {
    "ExecuteTime": {
     "end_time": "2021-04-13T10:15:48.247021Z",
     "start_time": "2021-04-13T10:15:47.753580Z"
    }
   },
   "outputs": [
    {
     "name": "stdout",
     "output_type": "stream",
     "text": [
      "Done.                                          \n"
     ]
    }
   ],
   "source": [
    "# Create the XLSX files. Uncomment to execute.\n",
    "\n",
    "create_XLSX(interaction_raw, interaction_interim, stratification, dataset, locations, contacts)"
   ]
  },
  {
   "cell_type": "markdown",
   "metadata": {
    "heading_collapsed": true
   },
   "source": [
    "# Population per age per region\n",
    "\n",
    "Note that this code is not optimised, but considering this code is only executed once or twice, that's not too bad."
   ]
  },
  {
   "cell_type": "code",
   "execution_count": 61,
   "metadata": {
    "ExecuteTime": {
     "end_time": "2021-04-13T09:56:18.167553Z",
     "start_time": "2021-04-13T09:56:18.152566Z"
    },
    "hidden": true
   },
   "outputs": [],
   "source": [
    "import pandas as pd\n",
    "import numpy as np\n",
    "\n",
    "######### USER INPUT ###########\n",
    "# Choose age stratification: decades or life phases\n",
    "stratification = 'phases'\n",
    "# Choose aggregation level: 'mun', 'arr', or 'prov'\n",
    "agg = 'prov'\n",
    "######### USER INPUT ###########\n",
    "\n",
    "# define column name based on aggregation level\n",
    "NIS_col = dict({'mun' : 'CD_REFNIS',\n",
    "                'arr' : 'CD_DSTR_REFNIS',\n",
    "                'prov' : 'CD_PROV_REFNIS'})\n",
    "\n",
    "# Define directory of raw data\n",
    "population_raw = f'../../data/raw/interaction_matrices/demographic/TF_SOC_POP_STRUCT_2020.xlsx'\n",
    "# Define directory of interim data (target)\n",
    "population_interim = f'../../data/interim/demographic/{stratification}'\n",
    "\n",
    "# Load raw file -- takes a while\n",
    "# raw_df = pd.read_excel(population_raw)\n",
    "# raw_df.head()\n",
    "# -----------------"
   ]
  },
  {
   "cell_type": "code",
   "execution_count": 62,
   "metadata": {
    "ExecuteTime": {
     "end_time": "2021-04-13T09:56:18.372139Z",
     "start_time": "2021-04-13T09:56:18.348203Z"
    },
    "hidden": true
   },
   "outputs": [],
   "source": [
    "def create_initN(age_names, stratification, agg):\n",
    "    # Define column names and add 'total' column\n",
    "    col_names = age_names[stratification] + ['total']\n",
    "\n",
    "    # Load list of NIS values of user-defined aggregation level. Location hard-coded.\n",
    "    NIS_list_df = pd.read_csv(f\"../../data/interim/demographic/area_{agg}.csv\")\n",
    "    NIS_list = NIS_list_df['NIS'].sort_index().values\n",
    "\n",
    "    # Initialise doubly stratified population matrix with correct dimensions\n",
    "    initN = np.zeros([len(NIS_list), len(col_names)], dtype=int)\n",
    "\n",
    "    # Iterate over NIS values (rows)\n",
    "    for g in range(len(NIS_list)):\n",
    "        nis = NIS_list[g]\n",
    "        # Special case for provincial aggregation: add arrondissement Brussels as de facto 11th province\n",
    "        if (agg=='prov') & (nis == 21000):\n",
    "            # Hardcode column name 'CD_DSTR_REFNIS', because that is the place to look for if condition is met\n",
    "            region = raw_df[raw_df['CD_DSTR_REFNIS']==nis]\n",
    "            age_previous=0\n",
    "            for i in range(len(age_lims[stratification])):\n",
    "                age = age_lims[stratification][i]\n",
    "                # Choose subset of all entries with particular age range\n",
    "                region_age = region[(region['CD_AGE'] < age) & (region['CD_AGE'] >= age_previous)]\n",
    "                # Sum population over all entries that obey the conditions\n",
    "                pop = region_age['MS_POPULATION'].sum(axis=0)\n",
    "                # Add this population to the initN matrix\n",
    "                initN[g,i] = pop\n",
    "                # Update age limits for next iteration\n",
    "                age_previous = age\n",
    "            # Add rest category (anything > final age limit) to penultimate column\n",
    "            region_old = region[(region['CD_AGE'] >= age_lims[stratification][-1])]\n",
    "            pop = region_old['MS_POPULATION'].sum(axis=0)\n",
    "            initN[g,-2] = pop\n",
    "            # Add total population over all ages to final column\n",
    "            initN[g,-1] = initN[g,:-1].sum()\n",
    "        # All other NIS values or spatial aggregations\n",
    "        else:\n",
    "            # Choose subset of all entries with particular NIS code\n",
    "            region = raw_df[raw_df[NIS_col[agg]]==nis]\n",
    "            # Iterate over all age limits according to the chosen stratification\n",
    "            age_previous=0\n",
    "            for i in range(len(age_lims[stratification])):\n",
    "                age = age_lims[stratification][i]\n",
    "                # Choose subset of all entries with particular age range\n",
    "                region_age = region[(region['CD_AGE'] < age) & (region['CD_AGE'] >= age_previous)]\n",
    "                # Sum population over all entries that obey the conditions\n",
    "                pop = region_age['MS_POPULATION'].sum(axis=0)\n",
    "                # Add this population to the initN matrix\n",
    "                initN[g,i] = pop\n",
    "                # Update age limits for next iteration\n",
    "                age_previous = age\n",
    "            # Add rest category (anything > final age limit) to penultimate column\n",
    "            region_old = region[(region['CD_AGE'] >= age_lims[stratification][-1])]\n",
    "            pop = region_old['MS_POPULATION'].sum(axis=0)\n",
    "            initN[g,-2] = pop\n",
    "            # Add total population over all ages to final column\n",
    "            initN[g,-1] = initN[g,:-1].sum()\n",
    "\n",
    "    initN_df = pd.DataFrame(initN, columns=col_names, index=NIS_list)\n",
    "    initN_df.index.name = 'NIS'\n",
    "    return initN_df"
   ]
  },
  {
   "cell_type": "code",
   "execution_count": 63,
   "metadata": {
    "ExecuteTime": {
     "end_time": "2021-04-13T09:56:19.027337Z",
     "start_time": "2021-04-13T09:56:18.501506Z"
    },
    "hidden": true
   },
   "outputs": [
    {
     "data": {
      "text/plain": [
       "<matplotlib.axes._subplots.AxesSubplot at 0x2423ef19710>"
      ]
     },
     "execution_count": 63,
     "metadata": {},
     "output_type": "execute_result"
    },
    {
     "data": {
      "image/png": "[encoded data removed]",
      "text/plain": [
       "<Figure size 1152x360 with 1 Axes>"
      ]
     },
     "metadata": {
      "needs_background": "light"
     },
     "output_type": "display_data"
    }
   ],
   "source": [
    "# Create, plot and save the resulting initial population\n",
    "initN_df = create_initN(age_names, stratification, agg)\n",
    "\n",
    "# Save to the proper location\n",
    "initN_df.to_csv(f\"{population_interim}/initN_{stratification}_{agg}.csv\")\n",
    "\n",
    "import matplotlib.pyplot as plt\n",
    "fig, ax = plt.subplots(figsize=(16, 5))\n",
    "initN_df_plot = initN_df.drop('total',axis='columns')\n",
    "# Plot sum over all regions\n",
    "initN_df_plot.sum(axis=0).plot(ax=ax, kind='bar')"
   ]
  },
  {
   "cell_type": "markdown",
   "metadata": {},
   "source": [
    "# Viral parameters (hospital parameters) per age class"
   ]
  },
  {
   "cell_type": "code",
   "execution_count": null,
   "metadata": {},
   "outputs": [],
   "source": []
  }
 ],
 "metadata": {
  "kernelspec": {
   "display_name": "Python 3",
   "language": "python",
   "name": "python3"
  },
  "language_info": {
   "codemirror_mode": {
    "name": "ipython",
    "version": 3
   },
   "file_extension": ".py",
   "mimetype": "text/x-python",
   "name": "python",
   "nbconvert_exporter": "python",
   "pygments_lexer": "ipython3",
   "version": "3.7.3"
  },
  "toc": {
   "base_numbering": 1,
   "nav_menu": {},
   "number_sections": true,
   "sideBar": true,
   "skip_h1_title": false,
   "title_cell": "Table of Contents",
   "title_sidebar": "Contents",
   "toc_cell": false,
   "toc_position": {},
   "toc_section_display": true,
   "toc_window_display": false
  }
 },
 "nbformat": 4,
 "nbformat_minor": 2
}
