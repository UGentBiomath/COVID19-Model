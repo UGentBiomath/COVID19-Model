{
 "cells": [
  {
   "cell_type": "markdown",
   "metadata": {},
   "source": [
    "The aim of this small Notebook is to load CSV files from https://lwillem.shinyapps.io/socrates_rshiny/ and paste them into separate sheets in an XLXS file."
   ]
  },
  {
   "cell_type": "code",
   "execution_count": 31,
   "metadata": {
    "ExecuteTime": {
     "end_time": "2021-04-09T17:06:49.137624Z",
     "start_time": "2021-04-09T17:06:49.121988Z"
    }
   },
   "outputs": [],
   "source": [
    "import pandas as pd\n",
    "\n",
    "######### USER INPUT ###########\n",
    "# Choose dataset\n",
    "dataset = 'willem_2012'\n",
    "# Choose age stratification: decades or life phases\n",
    "stratification = 'phases'\n",
    "######### USER INPUT ###########\n",
    "\n",
    "# All possible subdirectories to loop over\n",
    "# All XLSX files\n",
    "locations = ['total', 'home', 'work', 'school', 'transport', 'leisure', 'otherplace']\n",
    "# All sheets within XLSX files\n",
    "contacts = ['all', 'physical_only', 'less_5_min', 'less_15_min', 'more_15_min', 'more_one_hour', 'more_four_hours']\n",
    "\n",
    "# Define directory of raw data\n",
    "interaction_raw = f'../../data/raw/interaction_matrices/{dataset}/CSVs/{stratification}'\n",
    "# Define directory of interim data (target)\n",
    "interaction_interim = f'../../data/interim/interaction_matrices/{dataset}/{stratification}'\n",
    "\n",
    "# Define row names\n",
    "row_names_phases = ['[0, 12)', '[12, 18)', '[18, 25)', '[25, 35)', '[35, 45)', '[45, 55)', '[55, 65)', '[65, 75)', '[75, 85)', '85+']\n",
    "row_names_decades = ['[0, 10)', '[10, 20)', '[20, 30)', '[30, 40)', '[40, 50)', '[50, 60)', '[60, 70)', '[70, 80)', '80+']\n",
    "    \n",
    "row_names=dict({'phases' : row_names_phases,\n",
    "                'decades': row_names_decades})"
   ]
  },
  {
   "cell_type": "code",
   "execution_count": 32,
   "metadata": {
    "ExecuteTime": {
     "end_time": "2021-04-09T17:06:51.712602Z",
     "start_time": "2021-04-09T17:06:51.680577Z"
    }
   },
   "outputs": [],
   "source": [
    "# Define function to create the more_5_min DataFrame\n",
    "def create_more_5_min(CSV_dir, dataset, stratification, loc):\n",
    "    contact_df_all = pd.read_csv(f'{CSV_dir}/{loc}/{dataset}_{stratification}_{loc}_all.csv')\n",
    "    contact_df_less_5_min = pd.read_csv(f'{CSV_dir}/{loc}/{dataset}_{stratification}_{loc}_less_5_min.csv')\n",
    "    contact_df_more_5_min = contact_df_all - contact_df_less_5_min\n",
    "    return contact_df_more_5_min\n",
    "\n",
    "def clean_df(raw_df, row_names):\n",
    "    clean_df = raw_df.copy()\n",
    "    clean_df['age_group']=row_names\n",
    "    clean_df = clean_df.set_index('age_group')\n",
    "    return clean_df\n",
    "\n",
    "def create_XLSX(source_dir, target_dir, stratification, dataset, locations, contacts):\n",
    "    for loc in locations:\n",
    "        with pd.ExcelWriter(f'{target_dir}/{loc}_{stratification}.xlsx', engine='xlsxwriter') as XLSX:\n",
    "            for con in contacts:\n",
    "                # Create a sheet with name {con} inside the excel file XLSX\n",
    "                contact_df = pd.read_csv(f'{source_dir}/{loc}/{dataset}_{stratification}_{loc}_{con}.csv')\n",
    "                contact_df = clean_df(contact_df, row_names[stratification])\n",
    "                contact_df.to_excel(XLSX, sheet_name=con)\n",
    "                if con=='less_5_min':\n",
    "                    # Create more_5_min sheet right after less_5_min\n",
    "                    contact_df = create_more_5_min(source_dir, dataset, stratification, loc)\n",
    "                    contact_df = clean_df(contact_df, row_names[stratification])\n",
    "                    contact_df.to_excel(XLSX, sheet_name='more_5_min')\n",
    "    return"
   ]
  },
  {
   "cell_type": "code",
   "execution_count": 33,
   "metadata": {
    "ExecuteTime": {
     "end_time": "2021-04-09T17:06:54.789791Z",
     "start_time": "2021-04-09T17:06:54.092364Z"
    }
   },
   "outputs": [],
   "source": [
    "# Create the XLSX files\n",
    "create_XLSX(interaction_raw, interaction_interim, stratification, dataset, locations, contacts)"
   ]
  }
 ],
 "metadata": {
  "kernelspec": {
   "display_name": "Python 3",
   "language": "python",
   "name": "python3"
  },
  "language_info": {
   "codemirror_mode": {
    "name": "ipython",
    "version": 3
   },
   "file_extension": ".py",
   "mimetype": "text/x-python",
   "name": "python",
   "nbconvert_exporter": "python",
   "pygments_lexer": "ipython3",
   "version": "3.7.3"
  },
  "toc": {
   "base_numbering": 1,
   "nav_menu": {},
   "number_sections": true,
   "sideBar": true,
   "skip_h1_title": false,
   "title_cell": "Table of Contents",
   "title_sidebar": "Contents",
   "toc_cell": false,
   "toc_position": {},
   "toc_section_display": true,
   "toc_window_display": false
  }
 },
 "nbformat": 4,
 "nbformat_minor": 2
}
