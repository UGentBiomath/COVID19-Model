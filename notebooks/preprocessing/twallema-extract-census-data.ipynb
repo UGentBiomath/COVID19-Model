{
 "cells": [
  {
   "cell_type": "code",
   "execution_count": null,
   "metadata": {},
   "outputs": [],
   "source": [
    "import os\n",
    "import numpy as np\n",
    "import pandas as pd\n",
    "import matplotlib.pyplot as plt"
   ]
  },
  {
   "cell_type": "markdown",
   "metadata": {},
   "source": [
    "## Extract recurrent mobility matrix\n",
    "\n",
    "First, the raw spreadsheet `data/raw/census_2011/Pop_LPW_NL_25FEB15.xlsx` was modified in MS Excel. The format of the data is as follows:\n",
    "\n",
    "- rows: municipality of residence\n",
    "- columns: municipality of work\n",
    "\n",
    "The dataset contained, for each Belgian province, a column of 'unknowns', indicating we know where these individuals live but not where they work. These 10 columns were removed manually. Further, the column `Werkt in Belgie` was renamed `Belgie` to make name-based row and column matching easier. The resulting dataset was placed in `data/raw/census_2011/Pop_LPW_NL_25FEB15_remove_unknowns.xlsx`. The recurrent mobility matrix extracted from the resulting spreadsheet thus has two assumptions,\n",
    "\n",
    "- People working abroad are ignored. These 92.000 individuals account for 2% of the working population.\n",
    "- People whos workplace is unknown are ignored. An alternative assumptions could be the following: the unknowns work in their place of residence."
   ]
  },
  {
   "cell_type": "code",
   "execution_count": null,
   "metadata": {},
   "outputs": [],
   "source": [
    "abs_dir = os.getcwd()\n",
    "rel_dir = os.path.join(abs_dir, '../data/interim/census_2011/Pop_LPW_NL_25FEB15_delete_unknown.xlsx')\n",
    "df = pd.read_excel(rel_dir, sheet_name=\"Tabel1_2011\")"
   ]
  },
  {
   "cell_type": "code",
   "execution_count": null,
   "metadata": {},
   "outputs": [],
   "source": [
    "codes=df['00.24 - Werkende bevolking volgens geslacht, verblijfplaats en plaats van tewerkstelling'].loc[5:1942].dropna().values\n",
    "codes_int = [int(i) for i in codes]\n",
    "mobility_df=pd.DataFrame(np.zeros([len(codes),len(codes)]),index=codes,columns=codes)\n",
    "names = df.iloc[5:,1].dropna().values\n",
    "rows=[]\n",
    "for i in df['00.24 - Werkende bevolking volgens geslacht, verblijfplaats en plaats van tewerkstelling'].loc[5:1942].dropna().index:\n",
    "    rows.append(df.iloc[i+2,4:-1].values)\n",
    "\n",
    "matrix = np.zeros([len(rows),len(rows)])\n",
    "for j in range(len(rows)):\n",
    "    matrix[j,:]=rows[j]"
   ]
  },
  {
   "cell_type": "code",
   "execution_count": null,
   "metadata": {},
   "outputs": [],
   "source": [
    "mobility_df=pd.DataFrame(matrix,index=codes_int,columns=codes_int)\n",
    "mobility_df.head()"
   ]
  },
  {
   "cell_type": "code",
   "execution_count": null,
   "metadata": {},
   "outputs": [],
   "source": [
    "idx_arrondisement=[]\n",
    "for idx in mobility_df.index:\n",
    "    if ((str(idx)[-3:] == '000') & (len(str(idx)) != 4) & (str(idx)[-4:] != '0000') & (str(idx)[0] != '0')):\n",
    "        idx_arrondisement.append(idx)\n",
    "print(idx_arrondisement)"
   ]
  },
  {
   "cell_type": "code",
   "execution_count": null,
   "metadata": {},
   "outputs": [],
   "source": [
    "mobility_df.loc[idx_arrondisement,idx_arrondisement]"
   ]
  },
  {
   "cell_type": "code",
   "execution_count": null,
   "metadata": {},
   "outputs": [],
   "source": [
    "mobility_df.loc[idx_arrondisement,idx_arrondisement].to_csv('../data/interim/census_2011/recurrent_mobility.csv', index=True)"
   ]
  }
 ],
 "metadata": {
  "kernelspec": {
   "display_name": "Python 3",
   "language": "python",
   "name": "python3"
  },
  "language_info": {
   "codemirror_mode": {
    "name": "ipython",
    "version": 3
   },
   "file_extension": ".py",
   "mimetype": "text/x-python",
   "name": "python",
   "nbconvert_exporter": "python",
   "pygments_lexer": "ipython3",
   "version": "3.8.2"
  },
  "toc": {
   "base_numbering": 1,
   "nav_menu": {},
   "number_sections": true,
   "sideBar": true,
   "skip_h1_title": false,
   "title_cell": "Table of Contents",
   "title_sidebar": "Contents",
   "toc_cell": false,
   "toc_position": {},
   "toc_section_display": true,
   "toc_window_display": false
  }
 },
 "nbformat": 4,
 "nbformat_minor": 4
}
