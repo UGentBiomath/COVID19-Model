{
 "cells": [
  {
   "cell_type": "markdown",
   "metadata": {
    "toc": true
   },
   "source": [
    "<h1>Table of Contents<span class=\"tocSkip\"></span></h1>\n",
    "<div class=\"toc\"><ul class=\"toc-item\"><li><span><a href=\"#Data,-policy-and-model-initialization\" data-toc-modified-id=\"Data,-policy-and-model-initialization-1\"><span class=\"toc-item-num\">1&nbsp;&nbsp;</span>Data, policy and model initialization</a></span><ul class=\"toc-item\"><li><span><a href=\"#Load-contact-data\" data-toc-modified-id=\"Load-contact-data-1.1\"><span class=\"toc-item-num\">1.1&nbsp;&nbsp;</span>Load contact data</a></span></li><li><span><a href=\"#Load-publically-available-data-from-Sciensano\" data-toc-modified-id=\"Load-publically-available-data-from-Sciensano-1.2\"><span class=\"toc-item-num\">1.2&nbsp;&nbsp;</span>Load publically available data from Sciensano</a></span></li><li><span><a href=\"#(Run-model-until-August-1)\" data-toc-modified-id=\"(Run-model-until-August-1)-1.3\"><span class=\"toc-item-num\">1.3&nbsp;&nbsp;</span>(Run model until August 1)</a></span></li><li><span><a href=\"#Load-posterior-parameter-distributions-of-calibrated-parameters\" data-toc-modified-id=\"Load-posterior-parameter-distributions-of-calibrated-parameters-1.4\"><span class=\"toc-item-num\">1.4&nbsp;&nbsp;</span>Load posterior parameter distributions of calibrated parameters</a></span></li></ul></li><li><span><a href=\"#Functions\" data-toc-modified-id=\"Functions-2\"><span class=\"toc-item-num\">2&nbsp;&nbsp;</span>Functions</a></span></li><li><span><a href=\"#Scenarios\" data-toc-modified-id=\"Scenarios-3\"><span class=\"toc-item-num\">3&nbsp;&nbsp;</span>Scenarios</a></span><ul class=\"toc-item\"><li><span><a href=\"#S1-(worst-case):-continuation-of-september-contact-behaviour\" data-toc-modified-id=\"S1-(worst-case):-continuation-of-september-contact-behaviour-3.1\"><span class=\"toc-item-num\">3.1&nbsp;&nbsp;</span>S1 (worst-case): continuation of september contact behaviour</a></span></li><li><span><a href=\"#S2:-Contacts-reduced-only-half-as-much-as-in-previous-lockdown\" data-toc-modified-id=\"S2:-Contacts-reduced-only-half-as-much-as-in-previous-lockdown-3.2\"><span class=\"toc-item-num\">3.2&nbsp;&nbsp;</span>S2: Contacts reduced only half as much as in previous lockdown</a></span></li><li><span><a href=\"#S3:-Contacts-reduced-as-much-as-in-previous-lockdown\" data-toc-modified-id=\"S3:-Contacts-reduced-as-much-as-in-previous-lockdown-3.3\"><span class=\"toc-item-num\">3.3&nbsp;&nbsp;</span>S3: Contacts reduced as much as in previous lockdown</a></span></li></ul></li><li><span><a href=\"#Summary\" data-toc-modified-id=\"Summary-4\"><span class=\"toc-item-num\">4&nbsp;&nbsp;</span>Summary</a></span></li><li><span><a href=\"#Make-a-dataframe-to-output\" data-toc-modified-id=\"Make-a-dataframe-to-output-5\"><span class=\"toc-item-num\">5&nbsp;&nbsp;</span>Make a dataframe to output</a></span></li></ul></div>"
   ]
  },
  {
   "cell_type": "markdown",
   "metadata": {},
   "source": [
    "\n",
    "*Authored by T.W. Alleman in consultation with the BIOMATH research unit headed by prof. Ingmar Nopens.*\n",
    "\n",
    "Copyright (c) 2020 by T.W. Alleman, BIOMATH, Ghent University. All Rights Reserved."
   ]
  },
  {
   "cell_type": "code",
   "execution_count": 14,
   "metadata": {
    "ExecuteTime": {
     "end_time": "2020-11-02T09:25:40.973245Z",
     "start_time": "2020-11-02T09:25:40.885793Z"
    }
   },
   "outputs": [
    {
     "name": "stdout",
     "output_type": "stream",
     "text": [
      "The autoreload extension is already loaded. To reload it, use:\n",
      "  %reload_ext autoreload\n"
     ]
    }
   ],
   "source": [
    "import numpy as np\n",
    "%matplotlib notebook\n",
    "import matplotlib\n",
    "import matplotlib.pyplot as plt\n",
    "import matplotlib.dates as mdates\n",
    "import pandas as pd\n",
    "import datetime\n",
    "import scipy\n",
    "import json\n",
    "import random\n",
    "\n",
    "from covid19model.optimization import objective_fcns\n",
    "from covid19model.models import models\n",
    "from covid19model.models.utils import draw_sample_COVID19_SEIRD\n",
    "from covid19model.data import google, sciensano, model_parameters\n",
    "from covid19model.visualization.output import population_status, infected, _apply_tick_locator\n",
    "from covid19model.visualization.optimization import plot_fit, traceplot\n",
    "\n",
    "\n",
    "# OPTIONAL: Load the \"autoreload\" extension so that package code can change\n",
    "%load_ext autoreload\n",
    "# OPTIONAL: always reload modules so that as you change code in src, it gets loaded\n",
    "%autoreload 2"
   ]
  },
  {
   "cell_type": "markdown",
   "metadata": {},
   "source": [
    "# Data, policy and model initialization"
   ]
  },
  {
   "cell_type": "markdown",
   "metadata": {},
   "source": [
    "## Load contact data"
   ]
  },
  {
   "cell_type": "code",
   "execution_count": 2,
   "metadata": {
    "ExecuteTime": {
     "end_time": "2020-11-02T09:24:52.847420Z",
     "start_time": "2020-11-02T09:24:52.449335Z"
    }
   },
   "outputs": [],
   "source": [
    "# Load the interaction matrices (size: 9x9)\n",
    "initN, Nc_home, Nc_work, Nc_schools, Nc_transport, Nc_leisure, Nc_others, Nc_total = model_parameters.get_interaction_matrices(dataset='willem_2012')\n",
    "# Define the number of age categories\n",
    "levels = initN.size\n",
    "#province_names = pd.read_csv('../data/raw/GIS/NIS_province.csv')\n",
    "initN_province = pd.read_csv('../data/interim/demographic/initN_province.csv')\n",
    "initN = np.array(list(initN_province.set_index('NIS').loc[60000].iloc[:9]))"
   ]
  },
  {
   "cell_type": "markdown",
   "metadata": {},
   "source": [
    "## Load publically available data from Sciensano"
   ]
  },
  {
   "cell_type": "code",
   "execution_count": 3,
   "metadata": {
    "ExecuteTime": {
     "end_time": "2020-11-02T09:24:52.909102Z",
     "start_time": "2020-11-02T09:24:52.850839Z"
    }
   },
   "outputs": [],
   "source": [
    "#df_sciensano = sciensano.get_sciensano_COVID19_data(update=True)\n",
    "raw_hosp_data = pd.read_csv('../data/raw/sciensano/COVID19BE_HOSP.csv', parse_dates=['DATE'])\n",
    "Luik_hosp_data = raw_hosp_data[raw_hosp_data.PROVINCE=='Liège']\n",
    "# TOTAL_IN = H_tot !"
   ]
  },
  {
   "cell_type": "markdown",
   "metadata": {
    "heading_collapsed": true
   },
   "source": [
    "## (Run model until August 1)"
   ]
  },
  {
   "cell_type": "code",
   "execution_count": null,
   "metadata": {
    "ExecuteTime": {
     "end_time": "2020-10-29T10:36:09.792872Z",
     "start_time": "2020-10-29T10:36:09.738923Z"
    },
    "hidden": true
   },
   "outputs": [],
   "source": [
    "# Define the compliance and lockdown function\n",
    "def lockdown_func(t,param,policy_time,policy1,policy2,l,tau,prevention):\n",
    "    if t <= policy_time + tau:\n",
    "        return policy1\n",
    "    elif policy_time + tau < t <= policy_time + tau + l:\n",
    "        return policy1 + (prevention*policy2-policy1)/l*(t-policy_time-tau)\n",
    "    else:\n",
    "        return prevention*policy2"
   ]
  },
  {
   "cell_type": "code",
   "execution_count": null,
   "metadata": {
    "ExecuteTime": {
     "end_time": "2020-10-29T10:36:09.792872Z",
     "start_time": "2020-10-29T10:36:09.738923Z"
    },
    "hidden": true
   },
   "outputs": [],
   "source": [
    "# Define the compliance and lockdown function\n",
    "def lockdown_func(t,param,policy_time,policy1,policy2,l,tau,prevention):\n",
    "    if t <= policy_time + tau:\n",
    "        return policy1\n",
    "    elif policy_time + tau < t <= policy_time + tau + l:\n",
    "        return policy1 + (prevention*policy2-policy1)/l*(t-policy_time-tau)\n",
    "    else:\n",
    "        return prevention*policy2"
   ]
  },
  {
   "cell_type": "code",
   "execution_count": null,
   "metadata": {
    "ExecuteTime": {
     "end_time": "2020-10-29T10:36:10.174507Z",
     "start_time": "2020-10-29T10:36:09.896234Z"
    },
    "hidden": true
   },
   "outputs": [],
   "source": [
    "# Load the parameters using `get_COVID19_SEIRD_parameters()`.\n",
    "params = model_parameters.get_COVID19_SEIRD_parameters()\n",
    "params.update({'policy1': Nc_total,\n",
    "              'policy2': 1.0*Nc_home + (1-0.60)*Nc_work + (1-0.70)*Nc_transport + (1-0.30)*Nc_others + (1-0.80)*Nc_leisure,\n",
    "              'policy_time': 500,\n",
    "              'l': 1,\n",
    "              'tau': 5,\n",
    "              'prevention': 0.5})\n",
    "# Define the initial condition: one exposed inidividual in every age category\n",
    "initial_states = {'S': initN, 'E': np.ones(levels)}\n",
    "model = models.COVID19_SEIRD(initial_states, params, time_dependent_parameters={'Nc': lockdown_func})"
   ]
  },
  {
   "cell_type": "code",
   "execution_count": null,
   "metadata": {
    "ExecuteTime": {
     "end_time": "2020-10-29T10:36:10.411750Z",
     "start_time": "2020-10-29T10:36:10.338412Z"
    },
    "hidden": true
   },
   "outputs": [],
   "source": [
    "# Load the dictionary containing the posterior parameter distributions obtained from calibrating the model to Belgian hospitalization data\n",
    "with open('../data/interim/model_parameters/provinces/Luik_wave1_1000steps_2020-10-28.json', 'r') as fp:\n",
    "    samples_dict_wave1 = json.load(fp)"
   ]
  },
  {
   "cell_type": "code",
   "execution_count": null,
   "metadata": {
    "ExecuteTime": {
     "end_time": "2020-10-29T10:36:10.908162Z",
     "start_time": "2020-10-29T10:36:10.833373Z"
    },
    "hidden": true
   },
   "outputs": [],
   "source": [
    "# Update this parameter here, the rest is updated by draw_sample_COVID19_SEIRD\n",
    "model.parameters['policy_time'] = samples_dict_wave1['lag_time']"
   ]
  },
  {
   "cell_type": "code",
   "execution_count": null,
   "metadata": {
    "ExecuteTime": {
     "end_time": "2020-10-29T10:40:29.544427Z",
     "start_time": "2020-10-29T10:40:29.510472Z"
    },
    "hidden": true
   },
   "outputs": [],
   "source": [
    "# out_aug = model.sim(time='2020-08-01', excess_time=samples_dict_wave1['lag_time'],start_date='2020-03-15',\n",
    "#                    N=100, draw_fcn=draw_sample_COVID19_SEIRD,samples=samples_dict_wave1)\n",
    "# states = out_aug.isel(time=-1).mean(dim=\"draws\")\n",
    "# initial_states_aug = {key:states[key].values for key in initial_states.keys()}"
   ]
  },
  {
   "cell_type": "code",
   "execution_count": null,
   "metadata": {
    "ExecuteTime": {
     "end_time": "2020-10-29T10:48:13.210294Z",
     "start_time": "2020-10-29T10:48:09.725877Z"
    },
    "hidden": true
   },
   "outputs": [],
   "source": [
    "## To work with Tijs' lockdown function, use int here:\n",
    "t = (pd.to_datetime('2020-08-01') - pd.to_datetime('2020-03-15'))/pd.to_timedelta('1D')\n",
    "out_aug = model.sim(time=139,start_date='2020-03-15',\n",
    "                   N=100, draw_fcn=draw_sample_COVID19_SEIRD,samples=samples_dict_wave1)\n",
    "states = out_aug.isel(time=-1).mean(dim=\"draws\")\n",
    "initial_states_aug = {key:states[key].values for key in initial_states.keys()}"
   ]
  },
  {
   "cell_type": "markdown",
   "metadata": {},
   "source": [
    "## Load posterior parameter distributions of calibrated parameters"
   ]
  },
  {
   "cell_type": "code",
   "execution_count": 4,
   "metadata": {
    "ExecuteTime": {
     "end_time": "2020-11-02T09:24:53.000237Z",
     "start_time": "2020-11-02T09:24:52.911171Z"
    }
   },
   "outputs": [],
   "source": [
    "# Load the dictionary containing the posterior parameter distributions obtained from calibrating the model to Belgian hospitalization data\n",
    "with open('../data/interim/model_parameters/provinces/Luik_wave1_1000steps_2020-10-28.json', 'r') as fp:\n",
    "    samples_dict_wave1 = json.load(fp)\n",
    "\n",
    "with open('../data/interim/model_parameters/provinces/Luik_wave2_from_aug_1000steps_2020-10-29.json', 'r') as fp:\n",
    "    samples_dict_wave2 = json.load(fp)"
   ]
  },
  {
   "cell_type": "code",
   "execution_count": 5,
   "metadata": {
    "ExecuteTime": {
     "end_time": "2020-11-02T09:24:53.052241Z",
     "start_time": "2020-11-02T09:24:53.002641Z"
    }
   },
   "outputs": [],
   "source": [
    "samples_dict_wave2.update({'l':samples_dict_wave1['l'],\n",
    "                           'tau':samples_dict_wave1['tau']})\n",
    "                          # 'prevention':samples_dict_wave1['prevention']"
   ]
  },
  {
   "cell_type": "code",
   "execution_count": null,
   "metadata": {
    "ExecuteTime": {
     "end_time": "2020-10-29T15:10:54.761456Z",
     "start_time": "2020-10-29T15:10:54.584736Z"
    }
   },
   "outputs": [],
   "source": [
    "fig,ax = plt.subplots()\n",
    "pd.Series(samples_dict_wave2['beta']).hist()\n",
    "pd.Series(samples_dict_wave1['beta']).hist()"
   ]
  },
  {
   "cell_type": "markdown",
   "metadata": {},
   "source": [
    "# Functions"
   ]
  },
  {
   "cell_type": "code",
   "execution_count": 6,
   "metadata": {
    "ExecuteTime": {
     "end_time": "2020-11-02T09:24:56.799955Z",
     "start_time": "2020-11-02T09:24:56.760798Z"
    }
   },
   "outputs": [],
   "source": [
    "def ramp_fun(Nc_old, Nc_new, t, tau_days, l, t_start):\n",
    "    \"\"\"\n",
    "    t : current date\n",
    "    tau : number of days before measures start having an effect\n",
    "    l : number of additional days after the time delay until full compliance is reached\n",
    "    \"\"\"\n",
    "    return Nc_old + (Nc_new-Nc_old)/l * (t-t_start-tau_days)/pd.Timedelta('1D')"
   ]
  },
  {
   "cell_type": "code",
   "execution_count": 16,
   "metadata": {
    "ExecuteTime": {
     "end_time": "2020-11-02T09:26:38.673513Z",
     "start_time": "2020-11-02T09:26:38.635059Z"
    }
   },
   "outputs": [],
   "source": [
    "def draw_sample_COVID19_SEIRD(parameter_dictionary,samples_dict):\n",
    "    \"\"\"\n",
    "    A function to draw parameter samples obtained with MCMC during model calibration and assign them to the parameter dictionary of the model.\n",
    "    Tailor-made for the BIOMATH COVID-19 SEIRD model.\n",
    "\n",
    "    Parameters\n",
    "    ----------\n",
    "    model : object\n",
    "        BIOMATH model object\n",
    "    \n",
    "    samples_dict : dictionary\n",
    "        Dictionary containing the samples of the sampled parameters: beta, l and tau.\n",
    "\n",
    "    Returns\n",
    "    ----------\n",
    "    model : object\n",
    "        BIOMATH model object\n",
    "\n",
    "    \"\"\"\n",
    "    # Use posterior samples of fitted parameters\n",
    "    parameter_dictionary['beta'] = np.random.choice(samples_dict['beta'],1,replace=False)\n",
    "    idx,parameter_dictionary['l'] = random.choice(list(enumerate(samples_dict['l'])))\n",
    "    parameter_dictionary['tau'] = samples_dict['tau'][idx]\n",
    "    return parameter_dictionary"
   ]
  },
  {
   "cell_type": "code",
   "execution_count": 8,
   "metadata": {
    "ExecuteTime": {
     "end_time": "2020-11-02T09:24:58.992020Z",
     "start_time": "2020-11-02T09:24:58.947386Z"
    }
   },
   "outputs": [],
   "source": [
    "def draw_sample_beta_COVID19_SEIRD(parameter_dictionary,samples_dict):\n",
    "    \"\"\"\n",
    "    A function to draw parameter samples obtained with MCMC during model calibration and assign them to the parameter dictionary of the model.\n",
    "    Tailor-made for the BIOMATH COVID-19 SEIRD model.\n",
    "\n",
    "    Parameters\n",
    "    ----------\n",
    "    model : object\n",
    "        BIOMATH model object\n",
    "    \n",
    "    samples_dict : dictionary\n",
    "        Dictionary containing the samples of the sampled parameters: beta, l and tau.\n",
    "\n",
    "    Returns\n",
    "    ----------\n",
    "    model : object\n",
    "        BIOMATH model object\n",
    "\n",
    "    \"\"\"\n",
    "    # Use posterior samples of fitted parameters\n",
    "    parameter_dictionary['beta'] = np.random.choice(samples_dict['beta'],1,replace=False)\n",
    "    return parameter_dictionary"
   ]
  },
  {
   "cell_type": "markdown",
   "metadata": {},
   "source": [
    "# Scenarios"
   ]
  },
  {
   "cell_type": "code",
   "execution_count": 9,
   "metadata": {
    "ExecuteTime": {
     "end_time": "2020-11-02T09:25:00.142781Z",
     "start_time": "2020-11-02T09:25:00.095810Z"
    }
   },
   "outputs": [],
   "source": [
    "start_date = '2020-08-01'\n",
    "n_draws = 100\n",
    "percentile = 0.95\n",
    "end_date = '2021-01-01'\n",
    "dates_full = pd.date_range(start_date, end_date)"
   ]
  },
  {
   "cell_type": "code",
   "execution_count": 10,
   "metadata": {
    "ExecuteTime": {
     "end_time": "2020-11-02T09:25:00.330657Z",
     "start_time": "2020-11-02T09:25:00.281786Z"
    }
   },
   "outputs": [],
   "source": [
    "initial_states_aug = np.load('../data/interim/prediction_provinces/Luik_initial_states_aug.npy', allow_pickle=True).item()"
   ]
  },
  {
   "cell_type": "markdown",
   "metadata": {
    "heading_collapsed": true
   },
   "source": [
    "## S1 (worst-case): continuation of september contact behaviour"
   ]
  },
  {
   "cell_type": "code",
   "execution_count": null,
   "metadata": {
    "ExecuteTime": {
     "end_time": "2020-10-30T10:58:14.986576Z",
     "start_time": "2020-10-30T10:58:05.586924Z"
    },
    "hidden": true
   },
   "outputs": [],
   "source": [
    "# Load the model parameters using `get_COVID19_SEIRD_parameters()`.\n",
    "params = model_parameters.get_COVID19_SEIRD_parameters()\n",
    "\n",
    "# Define the initial condition: one exposed inidividual in every age category\n",
    "initial_states = initial_states_aug\n",
    "# Initialize the model\n",
    "\n",
    "model = models.COVID19_SEIRD(initial_states, params)\n",
    "# Run simulation\n",
    "out_S1 = model.sim(time=end_date, excess_time=0, start_date=start_date,\n",
    "                   N=n_draws,draw_fcn=draw_sample_beta_COVID19_SEIRD,samples=samples_dict_wave2)\n",
    "# Save results\n",
    "# New hospitalisations\n",
    "S1_incidences_mean = out_S1[\"H_in\"].sum(dim=\"Nc\").mean(dim=\"draws\").values\n",
    "S1_incidences_median = out_S1[\"H_in\"].sum(dim=\"Nc\").median(dim=\"draws\").values\n",
    "S1_incidences_LL = out_S1[\"H_in\"].sum(dim=\"Nc\").quantile(0.2,dim=\"draws\").values\n",
    "S1_incidences_UL = out_S1[\"H_in\"].sum(dim=\"Nc\").quantile(0.8,dim=\"draws\").values\n",
    "# Hospital totals\n",
    "S1_load_mean = out_S1[\"H_tot\"].sum(dim=\"Nc\").mean(dim=\"draws\").values\n",
    "S1_load_median = out_S1[\"H_tot\"].sum(dim=\"Nc\").median(dim=\"draws\").values\n",
    "S1_load_LL = out_S1[\"H_tot\"].sum(dim=\"Nc\").quantile(0.2,dim=\"draws\").values\n",
    "S1_load_UL = out_S1[\"H_tot\"].sum(dim=\"Nc\").quantile(0.8,dim=\"draws\").values"
   ]
  },
  {
   "cell_type": "code",
   "execution_count": null,
   "metadata": {
    "ExecuteTime": {
     "end_time": "2020-10-29T11:10:10.935514Z",
     "start_time": "2020-10-29T11:10:10.506159Z"
    },
    "hidden": true
   },
   "outputs": [],
   "source": [
    "fig,ax =plt.subplots()\n",
    "ax.fill_between(dates_full, out_S1[\"H_tot\"].quantile(1-percentile,dim=\"draws\").sum(dim=\"Nc\"), out_S1[\"H_tot\"].quantile(percentile,dim=\"draws\").sum(dim=\"Nc\"),alpha=0.30)\n",
    "ax.plot(dates_full,out_S1[\"H_tot\"].mean(dim=\"draws\").sum(dim=\"Nc\"),'--')\n",
    "ax.plot(Luik_hosp_data.DATE,Luik_hosp_data[\"TOTAL_IN\"],'o',color='black')\n",
    "# limit the number of ticks on the axis\n",
    "ax = _apply_tick_locator(ax)\n",
    "ax.set_ylabel('hospital load')\n",
    "fig.tight_layout()\n"
   ]
  },
  {
   "cell_type": "code",
   "execution_count": null,
   "metadata": {
    "ExecuteTime": {
     "end_time": "2020-10-29T11:08:52.575903Z",
     "start_time": "2020-10-29T11:08:52.140544Z"
    },
    "hidden": true
   },
   "outputs": [],
   "source": [
    "fig,ax =plt.subplots()\n",
    "ax.fill_between(dates_full, out_S1[\"H_in\"].quantile(1-percentile,dim=\"draws\").sum(dim=\"Nc\"), out_S1[\"H_in\"].quantile(percentile,dim=\"draws\").sum(dim=\"Nc\"),alpha=0.30)\n",
    "ax.plot(dates_full,out_S1[\"H_in\"].mean(dim=\"draws\").sum(dim=\"Nc\"),'--')\n",
    "ax.plot(Luik_hosp_data.DATE,Luik_hosp_data[\"NEW_IN\"],'o',color='black')\n",
    "# limit the number of ticks on the axis\n",
    "ax = _apply_tick_locator(ax)\n",
    "ax.set_ylabel('daily hospitalisations')\n",
    "fig.tight_layout()\n"
   ]
  },
  {
   "cell_type": "markdown",
   "metadata": {},
   "source": [
    "## S2: Contacts reduced only half as much as in previous lockdown"
   ]
  },
  {
   "cell_type": "code",
   "execution_count": 11,
   "metadata": {
    "ExecuteTime": {
     "end_time": "2020-11-02T09:25:05.225348Z",
     "start_time": "2020-11-02T09:25:05.185222Z"
    }
   },
   "outputs": [],
   "source": [
    "def contact_reduction_half(t, param, policy0, policy_half, policy_half_school_vacation, l, tau):\n",
    "    \"\"\"\n",
    "    policy0 : before any measures are take, so full contacts\n",
    "    policy_half : half contact reduction as compared to first lockdown (schools open)\n",
    "    policy_half_school_vacation : policy_half, but schools closed\n",
    "    tau : number of days before measures start having an effect\n",
    "    l : number of additional days after the time delay until full compliance is reached\n",
    "    \"\"\"\n",
    "    t1 = pd.to_datetime('2020-10-19') # start measures\n",
    "    t2 = pd.to_datetime('2020-11-02') # start autumn vacation\n",
    "    t3 = pd.to_datetime('2020-11-11') # end autumn vacation\n",
    "    t4 = pd.to_datetime('2020-12-21') # start Christmas vacation\n",
    "    tau_days = pd.to_timedelta(tau, unit='D')\n",
    "    l_days = pd.to_timedelta(l, unit='D')\n",
    "    \n",
    "    if t <= t1 + tau_days:\n",
    "        return policy0\n",
    "    elif (t1 + tau_days) < t <= (t1 + tau_days + l_days):\n",
    "        return ramp_fun(policy0, policy_half, t, tau_days, l, t1)\n",
    "    elif (t1 + tau_days + l_days) < t < t2:\n",
    "        return policy_half\n",
    "    elif t2 <= t <= t3:\n",
    "        return policy_half_school_vacation\n",
    "    elif t3 < t < t4 :\n",
    "        return policy_half\n",
    "    elif t4 <= t:\n",
    "        return policy_half_school_vacation"
   ]
  },
  {
   "cell_type": "code",
   "execution_count": 12,
   "metadata": {
    "ExecuteTime": {
     "end_time": "2020-11-02T09:25:16.320232Z",
     "start_time": "2020-11-02T09:25:16.282880Z"
    }
   },
   "outputs": [],
   "source": [
    "n_draws=3"
   ]
  },
  {
   "cell_type": "code",
   "execution_count": 17,
   "metadata": {
    "ExecuteTime": {
     "end_time": "2020-11-02T09:26:46.489497Z",
     "start_time": "2020-11-02T09:26:45.102066Z"
    }
   },
   "outputs": [],
   "source": [
    "# Load the model parameters using `get_COVID19_SEIRD_parameters()`.\n",
    "params = model_parameters.get_COVID19_SEIRD_parameters()\n",
    "\n",
    "params.update({      'policy0': Nc_total,\n",
    "                 'policy_half': 1.0*Nc_home + (1-0.30)*Nc_work + (1-0.35)*Nc_transport + (1-0.15)*Nc_others + 1*Nc_schools + (1-0.40)*Nc_leisure,\n",
    " 'policy_half_school_vacation': 1.0*Nc_home + (1-0.30)*Nc_work + (1-0.35)*Nc_transport + (1-0.15)*Nc_others + 0*Nc_schools + (1-0.40)*Nc_leisure,\n",
    "                          'l': 1,\n",
    "                        'tau': 5})\n",
    "\n",
    "\n",
    "# Define the initial condition: one exposed inidividual in every age category\n",
    "initial_states = initial_states_aug\n",
    "# Initialize the model\n",
    "model = models.COVID19_SEIRD(initial_states, params, time_dependent_parameters={'Nc': contact_reduction_half})\n",
    "# Run simulation\n",
    "out_S2 = model.sim(time=end_date, excess_time=0, start_date=start_date,\n",
    "                   N=n_draws,draw_fcn=draw_sample_COVID19_SEIRD,samples=samples_dict_wave2)\n",
    "# Save results\n",
    "# New hospitalisations\n",
    "S2_incidences_mean = out_S2[\"H_in\"].sum(dim=\"Nc\").mean(dim=\"draws\").values\n",
    "S2_incidences_median = out_S2[\"H_in\"].sum(dim=\"Nc\").median(dim=\"draws\").values\n",
    "S2_incidences_LL = out_S2[\"H_in\"].sum(dim=\"Nc\").quantile(0.2,dim=\"draws\").values\n",
    "S2_incidences_UL = out_S2[\"H_in\"].sum(dim=\"Nc\").quantile(0.8,dim=\"draws\").values\n",
    "# Hospital totals\n",
    "S2_load_mean = out_S2[\"H_tot\"].sum(dim=\"Nc\").mean(dim=\"draws\").values\n",
    "S2_load_median = out_S2[\"H_tot\"].sum(dim=\"Nc\").median(dim=\"draws\").values\n",
    "S2_load_LL = out_S2[\"H_tot\"].sum(dim=\"Nc\").quantile(0.2,dim=\"draws\").values\n",
    "S2_load_UL = out_S2[\"H_tot\"].sum(dim=\"Nc\").quantile(0.8,dim=\"draws\").values"
   ]
  },
  {
   "cell_type": "code",
   "execution_count": 25,
   "metadata": {
    "ExecuteTime": {
     "end_time": "2020-11-02T09:29:40.376218Z",
     "start_time": "2020-11-02T09:29:39.940601Z"
    }
   },
   "outputs": [
    {
     "data": {
      "application/javascript": [
       "/* Put everything inside the global mpl namespace */\n",
       "window.mpl = {};\n",
       "\n",
       "\n",
       "mpl.get_websocket_type = function() {\n",
       "    if (typeof(WebSocket) !== 'undefined') {\n",
       "        return WebSocket;\n",
       "    } else if (typeof(MozWebSocket) !== 'undefined') {\n",
       "        return MozWebSocket;\n",
       "    } else {\n",
       "        alert('Your browser does not have WebSocket support. ' +\n",
       "              'Please try Chrome, Safari or Firefox ≥ 6. ' +\n",
       "              'Firefox 4 and 5 are also supported but you ' +\n",
       "              'have to enable WebSockets in about:config.');\n",
       "    };\n",
       "}\n",
       "\n",
       "mpl.figure = function(figure_id, websocket, ondownload, parent_element) {\n",
       "    this.id = figure_id;\n",
       "\n",
       "    this.ws = websocket;\n",
       "\n",
       "    this.supports_binary = (this.ws.binaryType != undefined);\n",
       "\n",
       "    if (!this.supports_binary) {\n",
       "        var warnings = document.getElementById(\"mpl-warnings\");\n",
       "        if (warnings) {\n",
       "            warnings.style.display = 'block';\n",
       "            warnings.textContent = (\n",
       "                \"This browser does not support binary websocket messages. \" +\n",
       "                    \"Performance may be slow.\");\n",
       "        }\n",
       "    }\n",
       "\n",
       "    this.imageObj = new Image();\n",
       "\n",
       "    this.context = undefined;\n",
       "    this.message = undefined;\n",
       "    this.canvas = undefined;\n",
       "    this.rubberband_canvas = undefined;\n",
       "    this.rubberband_context = undefined;\n",
       "    this.format_dropdown = undefined;\n",
       "\n",
       "    this.image_mode = 'full';\n",
       "\n",
       "    this.root = $('<div/>');\n",
       "    this._root_extra_style(this.root)\n",
       "    this.root.attr('style', 'display: inline-block');\n",
       "\n",
       "    $(parent_element).append(this.root);\n",
       "\n",
       "    this._init_header(this);\n",
       "    this._init_canvas(this);\n",
       "    this._init_toolbar(this);\n",
       "\n",
       "    var fig = this;\n",
       "\n",
       "    this.waiting = false;\n",
       "\n",
       "    this.ws.onopen =  function () {\n",
       "            fig.send_message(\"supports_binary\", {value: fig.supports_binary});\n",
       "            fig.send_message(\"send_image_mode\", {});\n",
       "            if (mpl.ratio != 1) {\n",
       "                fig.send_message(\"set_dpi_ratio\", {'dpi_ratio': mpl.ratio});\n",
       "            }\n",
       "            fig.send_message(\"refresh\", {});\n",
       "        }\n",
       "\n",
       "    this.imageObj.onload = function() {\n",
       "            if (fig.image_mode == 'full') {\n",
       "                // Full images could contain transparency (where diff images\n",
       "                // almost always do), so we need to clear the canvas so that\n",
       "                // there is no ghosting.\n",
       "                fig.context.clearRect(0, 0, fig.canvas.width, fig.canvas.height);\n",
       "            }\n",
       "            fig.context.drawImage(fig.imageObj, 0, 0);\n",
       "        };\n",
       "\n",
       "    this.imageObj.onunload = function() {\n",
       "        fig.ws.close();\n",
       "    }\n",
       "\n",
       "    this.ws.onmessage = this._make_on_message_function(this);\n",
       "\n",
       "    this.ondownload = ondownload;\n",
       "}\n",
       "\n",
       "mpl.figure.prototype._init_header = function() {\n",
       "    var titlebar = $(\n",
       "        '<div class=\"ui-dialog-titlebar ui-widget-header ui-corner-all ' +\n",
       "        'ui-helper-clearfix\"/>');\n",
       "    var titletext = $(\n",
       "        '<div class=\"ui-dialog-title\" style=\"width: 100%; ' +\n",
       "        'text-align: center; padding: 3px;\"/>');\n",
       "    titlebar.append(titletext)\n",
       "    this.root.append(titlebar);\n",
       "    this.header = titletext[0];\n",
       "}\n",
       "\n",
       "\n",
       "\n",
       "mpl.figure.prototype._canvas_extra_style = function(canvas_div) {\n",
       "\n",
       "}\n",
       "\n",
       "\n",
       "mpl.figure.prototype._root_extra_style = function(canvas_div) {\n",
       "\n",
       "}\n",
       "\n",
       "mpl.figure.prototype._init_canvas = function() {\n",
       "    var fig = this;\n",
       "\n",
       "    var canvas_div = $('<div/>');\n",
       "\n",
       "    canvas_div.attr('style', 'position: relative; clear: both; outline: 0');\n",
       "\n",
       "    function canvas_keyboard_event(event) {\n",
       "        return fig.key_event(event, event['data']);\n",
       "    }\n",
       "\n",
       "    canvas_div.keydown('key_press', canvas_keyboard_event);\n",
       "    canvas_div.keyup('key_release', canvas_keyboard_event);\n",
       "    this.canvas_div = canvas_div\n",
       "    this._canvas_extra_style(canvas_div)\n",
       "    this.root.append(canvas_div);\n",
       "\n",
       "    var canvas = $('<canvas/>');\n",
       "    canvas.addClass('mpl-canvas');\n",
       "    canvas.attr('style', \"left: 0; top: 0; z-index: 0; outline: 0\")\n",
       "\n",
       "    this.canvas = canvas[0];\n",
       "    this.context = canvas[0].getContext(\"2d\");\n",
       "\n",
       "    var backingStore = this.context.backingStorePixelRatio ||\n",
       "\tthis.context.webkitBackingStorePixelRatio ||\n",
       "\tthis.context.mozBackingStorePixelRatio ||\n",
       "\tthis.context.msBackingStorePixelRatio ||\n",
       "\tthis.context.oBackingStorePixelRatio ||\n",
       "\tthis.context.backingStorePixelRatio || 1;\n",
       "\n",
       "    mpl.ratio = (window.devicePixelRatio || 1) / backingStore;\n",
       "\n",
       "    var rubberband = $('<canvas/>');\n",
       "    rubberband.attr('style', \"position: absolute; left: 0; top: 0; z-index: 1;\")\n",
       "\n",
       "    var pass_mouse_events = true;\n",
       "\n",
       "    canvas_div.resizable({\n",
       "        start: function(event, ui) {\n",
       "            pass_mouse_events = false;\n",
       "        },\n",
       "        resize: function(event, ui) {\n",
       "            fig.request_resize(ui.size.width, ui.size.height);\n",
       "        },\n",
       "        stop: function(event, ui) {\n",
       "            pass_mouse_events = true;\n",
       "            fig.request_resize(ui.size.width, ui.size.height);\n",
       "        },\n",
       "    });\n",
       "\n",
       "    function mouse_event_fn(event) {\n",
       "        if (pass_mouse_events)\n",
       "            return fig.mouse_event(event, event['data']);\n",
       "    }\n",
       "\n",
       "    rubberband.mousedown('button_press', mouse_event_fn);\n",
       "    rubberband.mouseup('button_release', mouse_event_fn);\n",
       "    // Throttle sequential mouse events to 1 every 20ms.\n",
       "    rubberband.mousemove('motion_notify', mouse_event_fn);\n",
       "\n",
       "    rubberband.mouseenter('figure_enter', mouse_event_fn);\n",
       "    rubberband.mouseleave('figure_leave', mouse_event_fn);\n",
       "\n",
       "    canvas_div.on(\"wheel\", function (event) {\n",
       "        event = event.originalEvent;\n",
       "        event['data'] = 'scroll'\n",
       "        if (event.deltaY < 0) {\n",
       "            event.step = 1;\n",
       "        } else {\n",
       "            event.step = -1;\n",
       "        }\n",
       "        mouse_event_fn(event);\n",
       "    });\n",
       "\n",
       "    canvas_div.append(canvas);\n",
       "    canvas_div.append(rubberband);\n",
       "\n",
       "    this.rubberband = rubberband;\n",
       "    this.rubberband_canvas = rubberband[0];\n",
       "    this.rubberband_context = rubberband[0].getContext(\"2d\");\n",
       "    this.rubberband_context.strokeStyle = \"#000000\";\n",
       "\n",
       "    this._resize_canvas = function(width, height) {\n",
       "        // Keep the size of the canvas, canvas container, and rubber band\n",
       "        // canvas in synch.\n",
       "        canvas_div.css('width', width)\n",
       "        canvas_div.css('height', height)\n",
       "\n",
       "        canvas.attr('width', width * mpl.ratio);\n",
       "        canvas.attr('height', height * mpl.ratio);\n",
       "        canvas.attr('style', 'width: ' + width + 'px; height: ' + height + 'px;');\n",
       "\n",
       "        rubberband.attr('width', width);\n",
       "        rubberband.attr('height', height);\n",
       "    }\n",
       "\n",
       "    // Set the figure to an initial 600x600px, this will subsequently be updated\n",
       "    // upon first draw.\n",
       "    this._resize_canvas(600, 600);\n",
       "\n",
       "    // Disable right mouse context menu.\n",
       "    $(this.rubberband_canvas).bind(\"contextmenu\",function(e){\n",
       "        return false;\n",
       "    });\n",
       "\n",
       "    function set_focus () {\n",
       "        canvas.focus();\n",
       "        canvas_div.focus();\n",
       "    }\n",
       "\n",
       "    window.setTimeout(set_focus, 100);\n",
       "}\n",
       "\n",
       "mpl.figure.prototype._init_toolbar = function() {\n",
       "    var fig = this;\n",
       "\n",
       "    var nav_element = $('<div/>');\n",
       "    nav_element.attr('style', 'width: 100%');\n",
       "    this.root.append(nav_element);\n",
       "\n",
       "    // Define a callback function for later on.\n",
       "    function toolbar_event(event) {\n",
       "        return fig.toolbar_button_onclick(event['data']);\n",
       "    }\n",
       "    function toolbar_mouse_event(event) {\n",
       "        return fig.toolbar_button_onmouseover(event['data']);\n",
       "    }\n",
       "\n",
       "    for(var toolbar_ind in mpl.toolbar_items) {\n",
       "        var name = mpl.toolbar_items[toolbar_ind][0];\n",
       "        var tooltip = mpl.toolbar_items[toolbar_ind][1];\n",
       "        var image = mpl.toolbar_items[toolbar_ind][2];\n",
       "        var method_name = mpl.toolbar_items[toolbar_ind][3];\n",
       "\n",
       "        if (!name) {\n",
       "            // put a spacer in here.\n",
       "            continue;\n",
       "        }\n",
       "        var button = $('<button/>');\n",
       "        button.addClass('ui-button ui-widget ui-state-default ui-corner-all ' +\n",
       "                        'ui-button-icon-only');\n",
       "        button.attr('role', 'button');\n",
       "        button.attr('aria-disabled', 'false');\n",
       "        button.click(method_name, toolbar_event);\n",
       "        button.mouseover(tooltip, toolbar_mouse_event);\n",
       "\n",
       "        var icon_img = $('<span/>');\n",
       "        icon_img.addClass('ui-button-icon-primary ui-icon');\n",
       "        icon_img.addClass(image);\n",
       "        icon_img.addClass('ui-corner-all');\n",
       "\n",
       "        var tooltip_span = $('<span/>');\n",
       "        tooltip_span.addClass('ui-button-text');\n",
       "        tooltip_span.html(tooltip);\n",
       "\n",
       "        button.append(icon_img);\n",
       "        button.append(tooltip_span);\n",
       "\n",
       "        nav_element.append(button);\n",
       "    }\n",
       "\n",
       "    var fmt_picker_span = $('<span/>');\n",
       "\n",
       "    var fmt_picker = $('<select/>');\n",
       "    fmt_picker.addClass('mpl-toolbar-option ui-widget ui-widget-content');\n",
       "    fmt_picker_span.append(fmt_picker);\n",
       "    nav_element.append(fmt_picker_span);\n",
       "    this.format_dropdown = fmt_picker[0];\n",
       "\n",
       "    for (var ind in mpl.extensions) {\n",
       "        var fmt = mpl.extensions[ind];\n",
       "        var option = $(\n",
       "            '<option/>', {selected: fmt === mpl.default_extension}).html(fmt);\n",
       "        fmt_picker.append(option);\n",
       "    }\n",
       "\n",
       "    // Add hover states to the ui-buttons\n",
       "    $( \".ui-button\" ).hover(\n",
       "        function() { $(this).addClass(\"ui-state-hover\");},\n",
       "        function() { $(this).removeClass(\"ui-state-hover\");}\n",
       "    );\n",
       "\n",
       "    var status_bar = $('<span class=\"mpl-message\"/>');\n",
       "    nav_element.append(status_bar);\n",
       "    this.message = status_bar[0];\n",
       "}\n",
       "\n",
       "mpl.figure.prototype.request_resize = function(x_pixels, y_pixels) {\n",
       "    // Request matplotlib to resize the figure. Matplotlib will then trigger a resize in the client,\n",
       "    // which will in turn request a refresh of the image.\n",
       "    this.send_message('resize', {'width': x_pixels, 'height': y_pixels});\n",
       "}\n",
       "\n",
       "mpl.figure.prototype.send_message = function(type, properties) {\n",
       "    properties['type'] = type;\n",
       "    properties['figure_id'] = this.id;\n",
       "    this.ws.send(JSON.stringify(properties));\n",
       "}\n",
       "\n",
       "mpl.figure.prototype.send_draw_message = function() {\n",
       "    if (!this.waiting) {\n",
       "        this.waiting = true;\n",
       "        this.ws.send(JSON.stringify({type: \"draw\", figure_id: this.id}));\n",
       "    }\n",
       "}\n",
       "\n",
       "\n",
       "mpl.figure.prototype.handle_save = function(fig, msg) {\n",
       "    var format_dropdown = fig.format_dropdown;\n",
       "    var format = format_dropdown.options[format_dropdown.selectedIndex].value;\n",
       "    fig.ondownload(fig, format);\n",
       "}\n",
       "\n",
       "\n",
       "mpl.figure.prototype.handle_resize = function(fig, msg) {\n",
       "    var size = msg['size'];\n",
       "    if (size[0] != fig.canvas.width || size[1] != fig.canvas.height) {\n",
       "        fig._resize_canvas(size[0], size[1]);\n",
       "        fig.send_message(\"refresh\", {});\n",
       "    };\n",
       "}\n",
       "\n",
       "mpl.figure.prototype.handle_rubberband = function(fig, msg) {\n",
       "    var x0 = msg['x0'] / mpl.ratio;\n",
       "    var y0 = (fig.canvas.height - msg['y0']) / mpl.ratio;\n",
       "    var x1 = msg['x1'] / mpl.ratio;\n",
       "    var y1 = (fig.canvas.height - msg['y1']) / mpl.ratio;\n",
       "    x0 = Math.floor(x0) + 0.5;\n",
       "    y0 = Math.floor(y0) + 0.5;\n",
       "    x1 = Math.floor(x1) + 0.5;\n",
       "    y1 = Math.floor(y1) + 0.5;\n",
       "    var min_x = Math.min(x0, x1);\n",
       "    var min_y = Math.min(y0, y1);\n",
       "    var width = Math.abs(x1 - x0);\n",
       "    var height = Math.abs(y1 - y0);\n",
       "\n",
       "    fig.rubberband_context.clearRect(\n",
       "        0, 0, fig.canvas.width / mpl.ratio, fig.canvas.height / mpl.ratio);\n",
       "\n",
       "    fig.rubberband_context.strokeRect(min_x, min_y, width, height);\n",
       "}\n",
       "\n",
       "mpl.figure.prototype.handle_figure_label = function(fig, msg) {\n",
       "    // Updates the figure title.\n",
       "    fig.header.textContent = msg['label'];\n",
       "}\n",
       "\n",
       "mpl.figure.prototype.handle_cursor = function(fig, msg) {\n",
       "    var cursor = msg['cursor'];\n",
       "    switch(cursor)\n",
       "    {\n",
       "    case 0:\n",
       "        cursor = 'pointer';\n",
       "        break;\n",
       "    case 1:\n",
       "        cursor = 'default';\n",
       "        break;\n",
       "    case 2:\n",
       "        cursor = 'crosshair';\n",
       "        break;\n",
       "    case 3:\n",
       "        cursor = 'move';\n",
       "        break;\n",
       "    }\n",
       "    fig.rubberband_canvas.style.cursor = cursor;\n",
       "}\n",
       "\n",
       "mpl.figure.prototype.handle_message = function(fig, msg) {\n",
       "    fig.message.textContent = msg['message'];\n",
       "}\n",
       "\n",
       "mpl.figure.prototype.handle_draw = function(fig, msg) {\n",
       "    // Request the server to send over a new figure.\n",
       "    fig.send_draw_message();\n",
       "}\n",
       "\n",
       "mpl.figure.prototype.handle_image_mode = function(fig, msg) {\n",
       "    fig.image_mode = msg['mode'];\n",
       "}\n",
       "\n",
       "mpl.figure.prototype.updated_canvas_event = function() {\n",
       "    // Called whenever the canvas gets updated.\n",
       "    this.send_message(\"ack\", {});\n",
       "}\n",
       "\n",
       "// A function to construct a web socket function for onmessage handling.\n",
       "// Called in the figure constructor.\n",
       "mpl.figure.prototype._make_on_message_function = function(fig) {\n",
       "    return function socket_on_message(evt) {\n",
       "        if (evt.data instanceof Blob) {\n",
       "            /* FIXME: We get \"Resource interpreted as Image but\n",
       "             * transferred with MIME type text/plain:\" errors on\n",
       "             * Chrome.  But how to set the MIME type?  It doesn't seem\n",
       "             * to be part of the websocket stream */\n",
       "            evt.data.type = \"image/png\";\n",
       "\n",
       "            /* Free the memory for the previous frames */\n",
       "            if (fig.imageObj.src) {\n",
       "                (window.URL || window.webkitURL).revokeObjectURL(\n",
       "                    fig.imageObj.src);\n",
       "            }\n",
       "\n",
       "            fig.imageObj.src = (window.URL || window.webkitURL).createObjectURL(\n",
       "                evt.data);\n",
       "            fig.updated_canvas_event();\n",
       "            fig.waiting = false;\n",
       "            return;\n",
       "        }\n",
       "        else if (typeof evt.data === 'string' && evt.data.slice(0, 21) == \"data:image/png;base64\") {\n",
       "            fig.imageObj.src = evt.data;\n",
       "            fig.updated_canvas_event();\n",
       "            fig.waiting = false;\n",
       "            return;\n",
       "        }\n",
       "\n",
       "        var msg = JSON.parse(evt.data);\n",
       "        var msg_type = msg['type'];\n",
       "\n",
       "        // Call the  \"handle_{type}\" callback, which takes\n",
       "        // the figure and JSON message as its only arguments.\n",
       "        try {\n",
       "            var callback = fig[\"handle_\" + msg_type];\n",
       "        } catch (e) {\n",
       "            console.log(\"No handler for the '\" + msg_type + \"' message type: \", msg);\n",
       "            return;\n",
       "        }\n",
       "\n",
       "        if (callback) {\n",
       "            try {\n",
       "                // console.log(\"Handling '\" + msg_type + \"' message: \", msg);\n",
       "                callback(fig, msg);\n",
       "            } catch (e) {\n",
       "                console.log(\"Exception inside the 'handler_\" + msg_type + \"' callback:\", e, e.stack, msg);\n",
       "            }\n",
       "        }\n",
       "    };\n",
       "}\n",
       "\n",
       "// from http://stackoverflow.com/questions/1114465/getting-mouse-location-in-canvas\n",
       "mpl.findpos = function(e) {\n",
       "    //this section is from http://www.quirksmode.org/js/events_properties.html\n",
       "    var targ;\n",
       "    if (!e)\n",
       "        e = window.event;\n",
       "    if (e.target)\n",
       "        targ = e.target;\n",
       "    else if (e.srcElement)\n",
       "        targ = e.srcElement;\n",
       "    if (targ.nodeType == 3) // defeat Safari bug\n",
       "        targ = targ.parentNode;\n",
       "\n",
       "    // jQuery normalizes the pageX and pageY\n",
       "    // pageX,Y are the mouse positions relative to the document\n",
       "    // offset() returns the position of the element relative to the document\n",
       "    var x = e.pageX - $(targ).offset().left;\n",
       "    var y = e.pageY - $(targ).offset().top;\n",
       "\n",
       "    return {\"x\": x, \"y\": y};\n",
       "};\n",
       "\n",
       "/*\n",
       " * return a copy of an object with only non-object keys\n",
       " * we need this to avoid circular references\n",
       " * http://stackoverflow.com/a/24161582/3208463\n",
       " */\n",
       "function simpleKeys (original) {\n",
       "  return Object.keys(original).reduce(function (obj, key) {\n",
       "    if (typeof original[key] !== 'object')\n",
       "        obj[key] = original[key]\n",
       "    return obj;\n",
       "  }, {});\n",
       "}\n",
       "\n",
       "mpl.figure.prototype.mouse_event = function(event, name) {\n",
       "    var canvas_pos = mpl.findpos(event)\n",
       "\n",
       "    if (name === 'button_press')\n",
       "    {\n",
       "        this.canvas.focus();\n",
       "        this.canvas_div.focus();\n",
       "    }\n",
       "\n",
       "    var x = canvas_pos.x * mpl.ratio;\n",
       "    var y = canvas_pos.y * mpl.ratio;\n",
       "\n",
       "    this.send_message(name, {x: x, y: y, button: event.button,\n",
       "                             step: event.step,\n",
       "                             guiEvent: simpleKeys(event)});\n",
       "\n",
       "    /* This prevents the web browser from automatically changing to\n",
       "     * the text insertion cursor when the button is pressed.  We want\n",
       "     * to control all of the cursor setting manually through the\n",
       "     * 'cursor' event from matplotlib */\n",
       "    event.preventDefault();\n",
       "    return false;\n",
       "}\n",
       "\n",
       "mpl.figure.prototype._key_event_extra = function(event, name) {\n",
       "    // Handle any extra behaviour associated with a key event\n",
       "}\n",
       "\n",
       "mpl.figure.prototype.key_event = function(event, name) {\n",
       "\n",
       "    // Prevent repeat events\n",
       "    if (name == 'key_press')\n",
       "    {\n",
       "        if (event.which === this._key)\n",
       "            return;\n",
       "        else\n",
       "            this._key = event.which;\n",
       "    }\n",
       "    if (name == 'key_release')\n",
       "        this._key = null;\n",
       "\n",
       "    var value = '';\n",
       "    if (event.ctrlKey && event.which != 17)\n",
       "        value += \"ctrl+\";\n",
       "    if (event.altKey && event.which != 18)\n",
       "        value += \"alt+\";\n",
       "    if (event.shiftKey && event.which != 16)\n",
       "        value += \"shift+\";\n",
       "\n",
       "    value += 'k';\n",
       "    value += event.which.toString();\n",
       "\n",
       "    this._key_event_extra(event, name);\n",
       "\n",
       "    this.send_message(name, {key: value,\n",
       "                             guiEvent: simpleKeys(event)});\n",
       "    return false;\n",
       "}\n",
       "\n",
       "mpl.figure.prototype.toolbar_button_onclick = function(name) {\n",
       "    if (name == 'download') {\n",
       "        this.handle_save(this, null);\n",
       "    } else {\n",
       "        this.send_message(\"toolbar_button\", {name: name});\n",
       "    }\n",
       "};\n",
       "\n",
       "mpl.figure.prototype.toolbar_button_onmouseover = function(tooltip) {\n",
       "    this.message.textContent = tooltip;\n",
       "};\n",
       "mpl.toolbar_items = [[\"Home\", \"Reset original view\", \"fa fa-home icon-home\", \"home\"], [\"Back\", \"Back to previous view\", \"fa fa-arrow-left icon-arrow-left\", \"back\"], [\"Forward\", \"Forward to next view\", \"fa fa-arrow-right icon-arrow-right\", \"forward\"], [\"\", \"\", \"\", \"\"], [\"Pan\", \"Pan axes with left mouse, zoom with right\", \"fa fa-arrows icon-move\", \"pan\"], [\"Zoom\", \"Zoom to rectangle\", \"fa fa-square-o icon-check-empty\", \"zoom\"], [\"\", \"\", \"\", \"\"], [\"Download\", \"Download plot\", \"fa fa-floppy-o icon-save\", \"download\"]];\n",
       "\n",
       "mpl.extensions = [\"eps\", \"jpeg\", \"pdf\", \"png\", \"ps\", \"raw\", \"svg\", \"tif\"];\n",
       "\n",
       "mpl.default_extension = \"png\";var comm_websocket_adapter = function(comm) {\n",
       "    // Create a \"websocket\"-like object which calls the given IPython comm\n",
       "    // object with the appropriate methods. Currently this is a non binary\n",
       "    // socket, so there is still some room for performance tuning.\n",
       "    var ws = {};\n",
       "\n",
       "    ws.close = function() {\n",
       "        comm.close()\n",
       "    };\n",
       "    ws.send = function(m) {\n",
       "        //console.log('sending', m);\n",
       "        comm.send(m);\n",
       "    };\n",
       "    // Register the callback with on_msg.\n",
       "    comm.on_msg(function(msg) {\n",
       "        //console.log('receiving', msg['content']['data'], msg);\n",
       "        // Pass the mpl event to the overridden (by mpl) onmessage function.\n",
       "        ws.onmessage(msg['content']['data'])\n",
       "    });\n",
       "    return ws;\n",
       "}\n",
       "\n",
       "mpl.mpl_figure_comm = function(comm, msg) {\n",
       "    // This is the function which gets called when the mpl process\n",
       "    // starts-up an IPython Comm through the \"matplotlib\" channel.\n",
       "\n",
       "    var id = msg.content.data.id;\n",
       "    // Get hold of the div created by the display call when the Comm\n",
       "    // socket was opened in Python.\n",
       "    var element = $(\"#\" + id);\n",
       "    var ws_proxy = comm_websocket_adapter(comm)\n",
       "\n",
       "    function ondownload(figure, format) {\n",
       "        window.open(figure.imageObj.src);\n",
       "    }\n",
       "\n",
       "    var fig = new mpl.figure(id, ws_proxy,\n",
       "                           ondownload,\n",
       "                           element.get(0));\n",
       "\n",
       "    // Call onopen now - mpl needs it, as it is assuming we've passed it a real\n",
       "    // web socket which is closed, not our websocket->open comm proxy.\n",
       "    ws_proxy.onopen();\n",
       "\n",
       "    fig.parent_element = element.get(0);\n",
       "    fig.cell_info = mpl.find_output_cell(\"<div id='\" + id + \"'></div>\");\n",
       "    if (!fig.cell_info) {\n",
       "        console.error(\"Failed to find cell for figure\", id, fig);\n",
       "        return;\n",
       "    }\n",
       "\n",
       "    var output_index = fig.cell_info[2]\n",
       "    var cell = fig.cell_info[0];\n",
       "\n",
       "};\n",
       "\n",
       "mpl.figure.prototype.handle_close = function(fig, msg) {\n",
       "    var width = fig.canvas.width/mpl.ratio\n",
       "    fig.root.unbind('remove')\n",
       "\n",
       "    // Update the output cell to use the data from the current canvas.\n",
       "    fig.push_to_output();\n",
       "    var dataURL = fig.canvas.toDataURL();\n",
       "    // Re-enable the keyboard manager in IPython - without this line, in FF,\n",
       "    // the notebook keyboard shortcuts fail.\n",
       "    IPython.keyboard_manager.enable()\n",
       "    $(fig.parent_element).html('<img src=\"' + dataURL + '\" width=\"' + width + '\">');\n",
       "    fig.close_ws(fig, msg);\n",
       "}\n",
       "\n",
       "mpl.figure.prototype.close_ws = function(fig, msg){\n",
       "    fig.send_message('closing', msg);\n",
       "    // fig.ws.close()\n",
       "}\n",
       "\n",
       "mpl.figure.prototype.push_to_output = function(remove_interactive) {\n",
       "    // Turn the data on the canvas into data in the output cell.\n",
       "    var width = this.canvas.width/mpl.ratio\n",
       "    var dataURL = this.canvas.toDataURL();\n",
       "    this.cell_info[1]['text/html'] = '<img src=\"' + dataURL + '\" width=\"' + width + '\">';\n",
       "}\n",
       "\n",
       "mpl.figure.prototype.updated_canvas_event = function() {\n",
       "    // Tell IPython that the notebook contents must change.\n",
       "    IPython.notebook.set_dirty(true);\n",
       "    this.send_message(\"ack\", {});\n",
       "    var fig = this;\n",
       "    // Wait a second, then push the new image to the DOM so\n",
       "    // that it is saved nicely (might be nice to debounce this).\n",
       "    setTimeout(function () { fig.push_to_output() }, 1000);\n",
       "}\n",
       "\n",
       "mpl.figure.prototype._init_toolbar = function() {\n",
       "    var fig = this;\n",
       "\n",
       "    var nav_element = $('<div/>');\n",
       "    nav_element.attr('style', 'width: 100%');\n",
       "    this.root.append(nav_element);\n",
       "\n",
       "    // Define a callback function for later on.\n",
       "    function toolbar_event(event) {\n",
       "        return fig.toolbar_button_onclick(event['data']);\n",
       "    }\n",
       "    function toolbar_mouse_event(event) {\n",
       "        return fig.toolbar_button_onmouseover(event['data']);\n",
       "    }\n",
       "\n",
       "    for(var toolbar_ind in mpl.toolbar_items){\n",
       "        var name = mpl.toolbar_items[toolbar_ind][0];\n",
       "        var tooltip = mpl.toolbar_items[toolbar_ind][1];\n",
       "        var image = mpl.toolbar_items[toolbar_ind][2];\n",
       "        var method_name = mpl.toolbar_items[toolbar_ind][3];\n",
       "\n",
       "        if (!name) { continue; };\n",
       "\n",
       "        var button = $('<button class=\"btn btn-default\" href=\"#\" title=\"' + name + '\"><i class=\"fa ' + image + ' fa-lg\"></i></button>');\n",
       "        button.click(method_name, toolbar_event);\n",
       "        button.mouseover(tooltip, toolbar_mouse_event);\n",
       "        nav_element.append(button);\n",
       "    }\n",
       "\n",
       "    // Add the status bar.\n",
       "    var status_bar = $('<span class=\"mpl-message\" style=\"text-align:right; float: right;\"/>');\n",
       "    nav_element.append(status_bar);\n",
       "    this.message = status_bar[0];\n",
       "\n",
       "    // Add the close button to the window.\n",
       "    var buttongrp = $('<div class=\"btn-group inline pull-right\"></div>');\n",
       "    var button = $('<button class=\"btn btn-mini btn-primary\" href=\"#\" title=\"Stop Interaction\"><i class=\"fa fa-power-off icon-remove icon-large\"></i></button>');\n",
       "    button.click(function (evt) { fig.handle_close(fig, {}); } );\n",
       "    button.mouseover('Stop Interaction', toolbar_mouse_event);\n",
       "    buttongrp.append(button);\n",
       "    var titlebar = this.root.find($('.ui-dialog-titlebar'));\n",
       "    titlebar.prepend(buttongrp);\n",
       "}\n",
       "\n",
       "mpl.figure.prototype._root_extra_style = function(el){\n",
       "    var fig = this\n",
       "    el.on(\"remove\", function(){\n",
       "\tfig.close_ws(fig, {});\n",
       "    });\n",
       "}\n",
       "\n",
       "mpl.figure.prototype._canvas_extra_style = function(el){\n",
       "    // this is important to make the div 'focusable\n",
       "    el.attr('tabindex', 0)\n",
       "    // reach out to IPython and tell the keyboard manager to turn it's self\n",
       "    // off when our div gets focus\n",
       "\n",
       "    // location in version 3\n",
       "    if (IPython.notebook.keyboard_manager) {\n",
       "        IPython.notebook.keyboard_manager.register_events(el);\n",
       "    }\n",
       "    else {\n",
       "        // location in version 2\n",
       "        IPython.keyboard_manager.register_events(el);\n",
       "    }\n",
       "\n",
       "}\n",
       "\n",
       "mpl.figure.prototype._key_event_extra = function(event, name) {\n",
       "    var manager = IPython.notebook.keyboard_manager;\n",
       "    if (!manager)\n",
       "        manager = IPython.keyboard_manager;\n",
       "\n",
       "    // Check for shift+enter\n",
       "    if (event.shiftKey && event.which == 13) {\n",
       "        this.canvas_div.blur();\n",
       "        // select the cell after this one\n",
       "        var index = IPython.notebook.find_cell_index(this.cell_info[0]);\n",
       "        IPython.notebook.select(index + 1);\n",
       "    }\n",
       "}\n",
       "\n",
       "mpl.figure.prototype.handle_save = function(fig, msg) {\n",
       "    fig.ondownload(fig, null);\n",
       "}\n",
       "\n",
       "\n",
       "mpl.find_output_cell = function(html_output) {\n",
       "    // Return the cell and output element which can be found *uniquely* in the notebook.\n",
       "    // Note - this is a bit hacky, but it is done because the \"notebook_saving.Notebook\"\n",
       "    // IPython event is triggered only after the cells have been serialised, which for\n",
       "    // our purposes (turning an active figure into a static one), is too late.\n",
       "    var cells = IPython.notebook.get_cells();\n",
       "    var ncells = cells.length;\n",
       "    for (var i=0; i<ncells; i++) {\n",
       "        var cell = cells[i];\n",
       "        if (cell.cell_type === 'code'){\n",
       "            for (var j=0; j<cell.output_area.outputs.length; j++) {\n",
       "                var data = cell.output_area.outputs[j];\n",
       "                if (data.data) {\n",
       "                    // IPython >= 3 moved mimebundle to data attribute of output\n",
       "                    data = data.data;\n",
       "                }\n",
       "                if (data['text/html'] == html_output) {\n",
       "                    return [cell, data, j];\n",
       "                }\n",
       "            }\n",
       "        }\n",
       "    }\n",
       "}\n",
       "\n",
       "// Register the function which deals with the matplotlib target/channel.\n",
       "// The kernel may be null if the page has been refreshed.\n",
       "if (IPython.notebook.kernel != null) {\n",
       "    IPython.notebook.kernel.comm_manager.register_target('matplotlib', mpl.mpl_figure_comm);\n",
       "}\n"
      ],
      "text/plain": [
       "<IPython.core.display.Javascript object>"
      ]
     },
     "metadata": {},
     "output_type": "display_data"
    },
    {
     "data": {
      "text/html": [
       "<img src=\"data:image/png;base64,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\" width=\"640\">"
      ],
      "text/plain": [
       "<IPython.core.display.HTML object>"
      ]
     },
     "metadata": {},
     "output_type": "display_data"
    }
   ],
   "source": [
    "fig,ax =plt.subplots()\n",
    "ax.fill_between(out_S2[\"time\"].values, out_S2[\"H_tot\"].quantile(1-percentile,dim=\"draws\").sum(dim=\"Nc\"), out_S2[\"H_tot\"].quantile(percentile,dim=\"draws\").sum(dim=\"Nc\"),alpha=0.30)\n",
    "ax.plot(out_S2[\"time\"],out_S2[\"H_tot\"].mean(dim=\"draws\").sum(dim=\"Nc\"),'--')\n",
    "ax.plot(Luik_hosp_data.DATE,Luik_hosp_data[\"TOTAL_IN\"],'o',color='black')\n",
    "# limit the number of ticks on the axis\n",
    "ax = _apply_tick_locator(ax)\n",
    "ax.set_ylabel('hospital load')\n",
    "fig.tight_layout()"
   ]
  },
  {
   "cell_type": "markdown",
   "metadata": {},
   "source": [
    "## S3: Contacts reduced as much as in previous lockdown"
   ]
  },
  {
   "cell_type": "code",
   "execution_count": null,
   "metadata": {
    "ExecuteTime": {
     "end_time": "2020-10-30T10:51:06.617034Z",
     "start_time": "2020-10-30T10:51:06.571575Z"
    }
   },
   "outputs": [],
   "source": [
    "def contact_reduction_full(t, param, policy0, policy_full, policy_full_school_vacation, l, tau):\n",
    "    \"\"\"\n",
    "    policy0 : before any measures are take, so full contacts\n",
    "    policy_full : same contact reduction as first lockdown (schools open)\n",
    "    policy_full_school_vacation : policy_full, but schools closed\n",
    "    tau : number of days before measures start having an effect\n",
    "    l : number of additional days after the time delay until full compliance is reached \n",
    "    \"\"\"\n",
    "    t1 = pd.to_datetime('2020-10-19') # start measures\n",
    "    t2 = pd.to_datetime('2020-11-02') # start autumn vacation\n",
    "    t3 = pd.to_datetime('2020-11-11') # end autumn vacation\n",
    "    t4 = pd.to_datetime('2020-12-21') # start Christmas vacation\n",
    "    tau_days = pd.to_timedelta(tau, unit='D')\n",
    "    l_days = pd.to_timedelta(l, unit='D')\n",
    "    \n",
    "    if t <= t1 + tau_days:\n",
    "        return policy0\n",
    "    elif (t1 + tau_days) < t <= (t1 + tau_days + l_days):\n",
    "        return ramp_fun(policy0, policy_full, t, tau_days, l, t1)\n",
    "    elif (t1 + tau_days + l_days) < t < t2:\n",
    "        return policy_full\n",
    "    elif t2 <= t <= t3:\n",
    "        return policy_full_school_vacation\n",
    "    elif t3 < t < t4 :\n",
    "        return policy_full\n",
    "    elif t4 <= t:\n",
    "        return policy_full_school_vacation"
   ]
  },
  {
   "cell_type": "code",
   "execution_count": null,
   "metadata": {
    "ExecuteTime": {
     "end_time": "2020-10-30T10:51:52.340911Z",
     "start_time": "2020-10-30T10:51:07.708644Z"
    }
   },
   "outputs": [],
   "source": [
    "# Load the model parameters using `get_COVID19_SEIRD_parameters()`.\n",
    "params = model_parameters.get_COVID19_SEIRD_parameters()\n",
    "\n",
    "params.update({     'policy0': Nc_total,\n",
    "                'policy_full': 1.0*Nc_home + (1-0.60)*Nc_work + (1-0.70)*Nc_transport + (1-0.30)*Nc_others + 1*Nc_schools + (1-0.80)*Nc_leisure,\n",
    "'policy_full_school_vacation': 1.0*Nc_home + (1-0.60)*Nc_work + (1-0.70)*Nc_transport + (1-0.30)*Nc_others + 0*Nc_schools + (1-0.80)*Nc_leisure,\n",
    "                          'l': 1,\n",
    "                        'tau': 5})\n",
    "# Define the initial condition: one exposed inidividual in every age category\n",
    "initial_states = initial_states_aug\n",
    "# Initialize the model\n",
    "model = models.COVID19_SEIRD(initial_states, params, time_dependent_parameters={'Nc': contact_reduction_full})\n",
    "# Run simulation\n",
    "out_S3 = model.sim(time=end_date, excess_time=0, start_date=start_date,\n",
    "                   N=n_draws,draw_fcn=draw_sample_COVID19_SEIRD,samples=samples_dict_wave2)\n",
    "# Save results\n",
    "# New hospitalisations\n",
    "S3_incidences_mean = out_S3[\"H_in\"].sum(dim=\"Nc\").mean(dim=\"draws\").values\n",
    "S3_incidences_median = out_S3[\"H_in\"].sum(dim=\"Nc\").median(dim=\"draws\").values\n",
    "S3_incidences_LL = out_S3[\"H_in\"].sum(dim=\"Nc\").quantile(0.2,dim=\"draws\").values\n",
    "S3_incidences_UL = out_S3[\"H_in\"].sum(dim=\"Nc\").quantile(0.8,dim=\"draws\").values\n",
    "# Hospital totals\n",
    "S3_load_mean = out_S3[\"H_tot\"].sum(dim=\"Nc\").mean(dim=\"draws\").values\n",
    "S3_load_median = out_S3[\"H_tot\"].sum(dim=\"Nc\").median(dim=\"draws\").values\n",
    "S3_load_LL = out_S3[\"H_tot\"].sum(dim=\"Nc\").quantile(0.2,dim=\"draws\").values\n",
    "S3_load_UL = out_S3[\"H_tot\"].sum(dim=\"Nc\").quantile(0.8,dim=\"draws\").values"
   ]
  },
  {
   "cell_type": "code",
   "execution_count": null,
   "metadata": {
    "ExecuteTime": {
     "end_time": "2020-10-30T10:51:58.487024Z",
     "start_time": "2020-10-30T10:51:58.033576Z"
    }
   },
   "outputs": [],
   "source": [
    "fig,ax =plt.subplots()\n",
    "ax.fill_between(dates_full, out_S3[\"H_tot\"].quantile(1-percentile,dim=\"draws\").sum(dim=\"Nc\"), out_S3[\"H_tot\"].quantile(percentile,dim=\"draws\").sum(dim=\"Nc\"),alpha=0.30)\n",
    "ax.plot(dates_full,out_S3[\"H_tot\"].mean(dim=\"draws\").sum(dim=\"Nc\"),'--')\n",
    "ax.plot(Luik_hosp_data.DATE,Luik_hosp_data[\"TOTAL_IN\"],'o',color='black')\n",
    "# limit the number of ticks on the axis\n",
    "ax = _apply_tick_locator(ax)\n",
    "ax.set_ylabel('hospital load')\n",
    "fig.tight_layout()"
   ]
  },
  {
   "cell_type": "markdown",
   "metadata": {},
   "source": [
    "# Summary"
   ]
  },
  {
   "cell_type": "code",
   "execution_count": null,
   "metadata": {
    "ExecuteTime": {
     "end_time": "2020-10-30T10:52:21.307550Z",
     "start_time": "2020-10-30T10:52:19.863858Z"
    }
   },
   "outputs": [],
   "source": [
    "fig,ax =plt.subplots(figsize=(8,4))\n",
    "# ax.fill_between(dates_full, out_S1[\"H_tot\"].quantile(1-percentile,dim=\"draws\").sum(dim=\"Nc\"),\n",
    "#                 out_S1[\"H_tot\"].quantile(percentile,dim=\"draws\").sum(dim=\"Nc\"),alpha=0.30, color='C0')\n",
    "# ax.plot(dates_full,out_S1[\"H_tot\"].mean(dim=\"draws\").sum(dim=\"Nc\"),'-', color='C0', label='S1')\n",
    "\n",
    "ax.fill_between(dates_full, out_S2[\"H_tot\"].quantile(1-percentile,dim=\"draws\").sum(dim=\"Nc\"),\n",
    "                out_S2[\"H_tot\"].quantile(percentile,dim=\"draws\").sum(dim=\"Nc\"),alpha=0.30, color='C0')\n",
    "ax.plot(dates_full,out_S2[\"H_tot\"].mean(dim=\"draws\").sum(dim=\"Nc\"),'-', color='C0', label='half contact reduction')\n",
    "\n",
    "ax.fill_between(dates_full, out_S3[\"H_tot\"].quantile(1-percentile,dim=\"draws\").sum(dim=\"Nc\"), \n",
    "                out_S3[\"H_tot\"].quantile(percentile,dim=\"draws\").sum(dim=\"Nc\"),alpha=0.30, color='C1')\n",
    "ax.plot(dates_full,out_S3[\"H_tot\"].mean(dim=\"draws\").sum(dim=\"Nc\"),'-', color='C1', label='full contact reduction')\n",
    "\n",
    "ax.plot(Luik_hosp_data.DATE,Luik_hosp_data[\"TOTAL_IN\"],'.',color='black', markersize=9, alpha=0.3, label='data')\n",
    "# limit the number of ticks on the axis\n",
    "ax = _apply_tick_locator(ax)\n",
    "ax.set_ylabel('Hospital load')\n",
    "fig.tight_layout()\n",
    "ax.set_xlabel('Time')\n",
    "plt.legend()\n",
    "#ax.legend(loc='upper center', bbox_to_anchor=(0.5, 1.1), ncol=3)\n",
    "plt.savefig('../results/predictions_provinces/Luik_combined_results_compliance.jpg', dpi=400, bbox_inches='tight')"
   ]
  },
  {
   "cell_type": "markdown",
   "metadata": {},
   "source": [
    "# Make a dataframe to output"
   ]
  },
  {
   "cell_type": "code",
   "execution_count": null,
   "metadata": {
    "ExecuteTime": {
     "end_time": "2020-10-27T20:53:39.303474Z",
     "start_time": "2020-10-27T20:53:39.257480Z"
    }
   },
   "outputs": [],
   "source": [
    "start_date = datetime.datetime.strptime('15-03-2020', '%d-%m-%Y') - datetime.timedelta(days=samples_dict['lag_time'])\n",
    "index = pd.date_range(start_date, periods=simtime+1).date"
   ]
  },
  {
   "cell_type": "code",
   "execution_count": null,
   "metadata": {},
   "outputs": [],
   "source": [
    "columns = ['S1_incidences_mean','S1_incidences_median','S1_incidences_LL','S1_incidences_UL','S1_load_mean','S1_load_LL','S1_load_UL','S2_incidences_mean','S2_incidences_median','S2_incidences_LL','S2_incidences_UL','S2_load_mean','S2_load_LL','S2_load_UL','S3_incidences_mean','S3_incidences_median','S3_incidences_LL','S3_incidences_UL','S3_load_mean','S3_load_LL','S3_load_UL','S4_incidences_mean','S4_incidences_median','S4_incidences_LL','S4_incidences_UL','S4_load_mean','S4_load_LL','S4_load_UL']"
   ]
  },
  {
   "cell_type": "code",
   "execution_count": null,
   "metadata": {},
   "outputs": [],
   "source": [
    "data = np.transpose(np.array([S1_incidences_mean,S1_incidences_median,S1_incidences_LL,S1_incidences_UL,S1_load_mean,S1_load_LL,S1_load_UL,S2_incidences_mean,S2_incidences_median,S2_incidences_LL,S2_incidences_UL,S2_load_mean,S2_load_LL,S2_load_UL,S3_incidences_mean,S3_incidences_median,S3_incidences_LL,S3_incidences_UL,S3_load_mean,S3_load_LL,S3_load_UL,S4_incidences_mean,S4_incidences_median,S4_incidences_LL,S4_incidences_UL,S4_load_mean,S4_load_LL,S4_load_UL]))"
   ]
  },
  {
   "cell_type": "code",
   "execution_count": null,
   "metadata": {},
   "outputs": [],
   "source": [
    "df = pd.DataFrame(data,columns=columns,index=index)\n",
    "df.head()"
   ]
  },
  {
   "cell_type": "code",
   "execution_count": null,
   "metadata": {},
   "outputs": [],
   "source": [
    "df.to_csv('../results/FAGG-long-term-predictions/'+datetime.datetime.today().strftime('%Y-%m-%d')+'recalibration.csv',index=True)"
   ]
  }
 ],
 "metadata": {
  "kernelspec": {
   "display_name": "Python 3",
   "language": "python",
   "name": "python3"
  },
  "language_info": {
   "codemirror_mode": {
    "name": "ipython",
    "version": 3
   },
   "file_extension": ".py",
   "mimetype": "text/x-python",
   "name": "python",
   "nbconvert_exporter": "python",
   "pygments_lexer": "ipython3",
   "version": "3.8.2"
  },
  "nav_menu": {},
  "toc": {
   "base_numbering": 1,
   "nav_menu": {},
   "number_sections": true,
   "sideBar": true,
   "skip_h1_title": false,
   "title_cell": "Table of Contents",
   "title_sidebar": "Contents",
   "toc_cell": true,
   "toc_position": {
    "height": "calc(100% - 180px)",
    "left": "10px",
    "top": "150px",
    "width": "253px"
   },
   "toc_section_display": "block",
   "toc_window_display": true
  }
 },
 "nbformat": 4,
 "nbformat_minor": 4
}
