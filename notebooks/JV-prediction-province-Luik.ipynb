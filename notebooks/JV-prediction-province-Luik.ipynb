{
 "cells": [
  {
   "cell_type": "markdown",
   "metadata": {
    "toc": true
   },
   "source": [
    "<h1>Table of Contents<span class=\"tocSkip\"></span></h1>\n",
    "<div class=\"toc\"><ul class=\"toc-item\"><li><span><a href=\"#Data,-policy-and-model-initialization\" data-toc-modified-id=\"Data,-policy-and-model-initialization-1\"><span class=\"toc-item-num\">1&nbsp;&nbsp;</span>Data, policy and model initialization</a></span><ul class=\"toc-item\"><li><span><a href=\"#Load-contact-data\" data-toc-modified-id=\"Load-contact-data-1.1\"><span class=\"toc-item-num\">1.1&nbsp;&nbsp;</span>Load contact data</a></span></li><li><span><a href=\"#Load-publically-available-data-from-Sciensano\" data-toc-modified-id=\"Load-publically-available-data-from-Sciensano-1.2\"><span class=\"toc-item-num\">1.2&nbsp;&nbsp;</span>Load publically available data from Sciensano</a></span></li><li><span><a href=\"#(Run-model-until-August-1)\" data-toc-modified-id=\"(Run-model-until-August-1)-1.3\"><span class=\"toc-item-num\">1.3&nbsp;&nbsp;</span>(Run model until August 1)</a></span></li><li><span><a href=\"#Load-posterior-parameter-distributions-of-calibrated-parameters\" data-toc-modified-id=\"Load-posterior-parameter-distributions-of-calibrated-parameters-1.4\"><span class=\"toc-item-num\">1.4&nbsp;&nbsp;</span>Load posterior parameter distributions of calibrated parameters</a></span></li></ul></li><li><span><a href=\"#Functions\" data-toc-modified-id=\"Functions-2\"><span class=\"toc-item-num\">2&nbsp;&nbsp;</span>Functions</a></span></li><li><span><a href=\"#Scenarios\" data-toc-modified-id=\"Scenarios-3\"><span class=\"toc-item-num\">3&nbsp;&nbsp;</span>Scenarios</a></span><ul class=\"toc-item\"><li><span><a href=\"#S1-(worst-case):-continuation-of-september-contact-behaviour\" data-toc-modified-id=\"S1-(worst-case):-continuation-of-september-contact-behaviour-3.1\"><span class=\"toc-item-num\">3.1&nbsp;&nbsp;</span>S1 (worst-case): continuation of september contact behaviour</a></span></li><li><span><a href=\"#S2:-Contacts-reduced-only-half-as-much-as-in-previous-lockdown\" data-toc-modified-id=\"S2:-Contacts-reduced-only-half-as-much-as-in-previous-lockdown-3.2\"><span class=\"toc-item-num\">3.2&nbsp;&nbsp;</span>S2: Contacts reduced only half as much as in previous lockdown</a></span></li><li><span><a href=\"#S3:-Contacts-reduced-as-much-as-in-previous-lockdown\" data-toc-modified-id=\"S3:-Contacts-reduced-as-much-as-in-previous-lockdown-3.3\"><span class=\"toc-item-num\">3.3&nbsp;&nbsp;</span>S3: Contacts reduced as much as in previous lockdown</a></span></li></ul></li><li><span><a href=\"#Summary\" data-toc-modified-id=\"Summary-4\"><span class=\"toc-item-num\">4&nbsp;&nbsp;</span>Summary</a></span></li><li><span><a href=\"#Make-a-dataframe-to-output\" data-toc-modified-id=\"Make-a-dataframe-to-output-5\"><span class=\"toc-item-num\">5&nbsp;&nbsp;</span>Make a dataframe to output</a></span></li></ul></div>"
   ]
  },
  {
   "cell_type": "markdown",
   "metadata": {},
   "source": [
    "\n",
    "*Authored by T.W. Alleman in consultation with the BIOMATH research unit headed by prof. Ingmar Nopens.*\n",
    "\n",
    "Copyright (c) 2020 by T.W. Alleman, BIOMATH, Ghent University. All Rights Reserved."
   ]
  },
  {
   "cell_type": "code",
   "execution_count": null,
   "metadata": {
    "ExecuteTime": {
     "end_time": "2020-10-30T07:54:32.961310Z",
     "start_time": "2020-10-30T07:54:31.489611Z"
    }
   },
   "outputs": [],
   "source": [
    "import numpy as np\n",
    "%matplotlib notebook\n",
    "import matplotlib\n",
    "import matplotlib.pyplot as plt\n",
    "import matplotlib.dates as mdates\n",
    "import pandas as pd\n",
    "import datetime\n",
    "import scipy\n",
    "import json\n",
    "import random\n",
    "\n",
    "from covid19model.optimization import objective_fcns\n",
    "from covid19model.models import models\n",
    "from covid19model.models.utils import draw_sample_COVID19_SEIRD\n",
    "from covid19model.data import google, sciensano, model_parameters\n",
    "from covid19model.visualization.output import population_status, infected, _apply_tick_locator\n",
    "from covid19model.visualization.optimization import plot_fit, traceplot\n",
    "\n",
    "\n",
    "# OPTIONAL: Load the \"autoreload\" extension so that package code can change\n",
    "%load_ext autoreload\n",
    "# OPTIONAL: always reload modules so that as you change code in src, it gets loaded\n",
    "%autoreload 2"
   ]
  },
  {
   "cell_type": "code",
   "execution_count": null,
   "metadata": {
    "ExecuteTime": {
     "end_time": "2020-10-30T07:27:03.544196Z",
     "start_time": "2020-10-30T07:27:03.505763Z"
    }
   },
   "outputs": [],
   "source": [
    "sigma_data = 5\n",
    "beta = 0.03"
   ]
  },
  {
   "cell_type": "code",
   "execution_count": null,
   "metadata": {
    "ExecuteTime": {
     "end_time": "2020-10-30T07:27:03.960857Z",
     "start_time": "2020-10-30T07:27:03.916640Z"
    }
   },
   "outputs": [],
   "source": [
    "pos = [sigma_data,beta] + [1, 1e-2 ]* np.random.randn(4, 2)"
   ]
  },
  {
   "cell_type": "code",
   "execution_count": null,
   "metadata": {
    "ExecuteTime": {
     "end_time": "2020-10-30T07:27:31.049699Z",
     "start_time": "2020-10-30T07:27:31.011044Z"
    }
   },
   "outputs": [],
   "source": [
    "[1, 1e-2 ]* np.random.randn(4, 2)"
   ]
  },
  {
   "cell_type": "code",
   "execution_count": null,
   "metadata": {
    "ExecuteTime": {
     "end_time": "2020-10-30T07:34:58.104876Z",
     "start_time": "2020-10-30T07:34:57.959819Z"
    }
   },
   "outputs": [],
   "source": [
    "pos"
   ]
  },
  {
   "cell_type": "code",
   "execution_count": null,
   "metadata": {
    "ExecuteTime": {
     "end_time": "2020-10-30T07:31:24.150210Z",
     "start_time": "2020-10-30T07:31:24.032140Z"
    }
   },
   "outputs": [],
   "source": [
    "nwalkers, ndim = pos.shape"
   ]
  },
  {
   "cell_type": "code",
   "execution_count": null,
   "metadata": {
    "ExecuteTime": {
     "end_time": "2020-10-30T07:31:26.613858Z",
     "start_time": "2020-10-30T07:31:26.573176Z"
    }
   },
   "outputs": [],
   "source": [
    "nwalkers"
   ]
  },
  {
   "cell_type": "markdown",
   "metadata": {},
   "source": [
    "# Data, policy and model initialization"
   ]
  },
  {
   "cell_type": "markdown",
   "metadata": {},
   "source": [
    "## Load contact data"
   ]
  },
  {
   "cell_type": "code",
   "execution_count": null,
   "metadata": {
    "ExecuteTime": {
     "end_time": "2020-10-30T07:54:35.197808Z",
     "start_time": "2020-10-30T07:54:34.681421Z"
    }
   },
   "outputs": [],
   "source": [
    "# Load the interaction matrices (size: 9x9)\n",
    "initN, Nc_home, Nc_work, Nc_schools, Nc_transport, Nc_leisure, Nc_others, Nc_total = model_parameters.get_interaction_matrices(dataset='willem_2012')\n",
    "# Define the number of age categories\n",
    "levels = initN.size\n",
    "#province_names = pd.read_csv('../data/raw/GIS/NIS_province.csv')\n",
    "initN_province = pd.read_csv('../data/interim/demographic/initN_province.csv')\n",
    "initN = np.array(list(initN_province.set_index('NIS').loc[60000].iloc[:9]))"
   ]
  },
  {
   "cell_type": "markdown",
   "metadata": {},
   "source": [
    "## Load publically available data from Sciensano"
   ]
  },
  {
   "cell_type": "code",
   "execution_count": null,
   "metadata": {
    "ExecuteTime": {
     "end_time": "2020-10-30T07:54:35.860745Z",
     "start_time": "2020-10-30T07:54:35.802689Z"
    }
   },
   "outputs": [],
   "source": [
    "#df_sciensano = sciensano.get_sciensano_COVID19_data(update=True)\n",
    "raw_hosp_data = pd.read_csv('../data/raw/sciensano/COVID19BE_HOSP.csv', parse_dates=['DATE'])\n",
    "Luik_hosp_data = raw_hosp_data[raw_hosp_data.PROVINCE=='Liège']\n",
    "# TOTAL_IN = H_tot !"
   ]
  },
  {
   "cell_type": "markdown",
   "metadata": {
    "heading_collapsed": true
   },
   "source": [
    "## (Run model until August 1)"
   ]
  },
  {
   "cell_type": "code",
   "execution_count": null,
   "metadata": {
    "ExecuteTime": {
     "end_time": "2020-10-29T10:36:09.792872Z",
     "start_time": "2020-10-29T10:36:09.738923Z"
    },
    "hidden": true
   },
   "outputs": [],
   "source": [
    "# Define the compliance and lockdown function\n",
    "def lockdown_func(t,param,policy_time,policy1,policy2,l,tau,prevention):\n",
    "    if t <= policy_time + tau:\n",
    "        return policy1\n",
    "    elif policy_time + tau < t <= policy_time + tau + l:\n",
    "        return policy1 + (prevention*policy2-policy1)/l*(t-policy_time-tau)\n",
    "    else:\n",
    "        return prevention*policy2"
   ]
  },
  {
   "cell_type": "code",
   "execution_count": null,
   "metadata": {
    "ExecuteTime": {
     "end_time": "2020-10-29T10:36:09.792872Z",
     "start_time": "2020-10-29T10:36:09.738923Z"
    },
    "hidden": true
   },
   "outputs": [],
   "source": [
    "# Define the compliance and lockdown function\n",
    "def lockdown_func(t,param,policy_time,policy1,policy2,l,tau,prevention):\n",
    "    if t <= policy_time + tau:\n",
    "        return policy1\n",
    "    elif policy_time + tau < t <= policy_time + tau + l:\n",
    "        return policy1 + (prevention*policy2-policy1)/l*(t-policy_time-tau)\n",
    "    else:\n",
    "        return prevention*policy2"
   ]
  },
  {
   "cell_type": "code",
   "execution_count": null,
   "metadata": {
    "ExecuteTime": {
     "end_time": "2020-10-29T10:36:10.174507Z",
     "start_time": "2020-10-29T10:36:09.896234Z"
    },
    "hidden": true
   },
   "outputs": [],
   "source": [
    "# Load the parameters using `get_COVID19_SEIRD_parameters()`.\n",
    "params = model_parameters.get_COVID19_SEIRD_parameters()\n",
    "params.update({'policy1': Nc_total,\n",
    "              'policy2': 1.0*Nc_home + (1-0.60)*Nc_work + (1-0.70)*Nc_transport + (1-0.30)*Nc_others + (1-0.80)*Nc_leisure,\n",
    "              'policy_time': 500,\n",
    "              'l': 1,\n",
    "              'tau': 5,\n",
    "              'prevention': 0.5})\n",
    "# Define the initial condition: one exposed inidividual in every age category\n",
    "initial_states = {'S': initN, 'E': np.ones(levels)}\n",
    "model = models.COVID19_SEIRD(initial_states, params, time_dependent_parameters={'Nc': lockdown_func})"
   ]
  },
  {
   "cell_type": "code",
   "execution_count": null,
   "metadata": {
    "ExecuteTime": {
     "end_time": "2020-10-29T10:36:10.411750Z",
     "start_time": "2020-10-29T10:36:10.338412Z"
    },
    "hidden": true
   },
   "outputs": [],
   "source": [
    "# Load the dictionary containing the posterior parameter distributions obtained from calibrating the model to Belgian hospitalization data\n",
    "with open('../data/interim/model_parameters/provinces/Luik_wave1_1000steps_2020-10-28.json', 'r') as fp:\n",
    "    samples_dict_wave1 = json.load(fp)"
   ]
  },
  {
   "cell_type": "code",
   "execution_count": null,
   "metadata": {
    "ExecuteTime": {
     "end_time": "2020-10-29T10:36:10.908162Z",
     "start_time": "2020-10-29T10:36:10.833373Z"
    },
    "hidden": true
   },
   "outputs": [],
   "source": [
    "# Update this parameter here, the rest is updated by draw_sample_COVID19_SEIRD\n",
    "model.parameters['policy_time'] = samples_dict_wave1['lag_time']"
   ]
  },
  {
   "cell_type": "code",
   "execution_count": null,
   "metadata": {
    "ExecuteTime": {
     "end_time": "2020-10-29T10:40:29.544427Z",
     "start_time": "2020-10-29T10:40:29.510472Z"
    },
    "hidden": true
   },
   "outputs": [],
   "source": [
    "# out_aug = model.sim(time='2020-08-01', excess_time=samples_dict_wave1['lag_time'],start_date='2020-03-15',\n",
    "#                    N=100, draw_fcn=draw_sample_COVID19_SEIRD,samples=samples_dict_wave1)\n",
    "# states = out_aug.isel(time=-1).mean(dim=\"draws\")\n",
    "# initial_states_aug = {key:states[key].values for key in initial_states.keys()}"
   ]
  },
  {
   "cell_type": "code",
   "execution_count": null,
   "metadata": {
    "ExecuteTime": {
     "end_time": "2020-10-29T10:48:13.210294Z",
     "start_time": "2020-10-29T10:48:09.725877Z"
    },
    "hidden": true
   },
   "outputs": [],
   "source": [
    "## To work with Tijs' lockdown function, use int here:\n",
    "t = (pd.to_datetime('2020-08-01') - pd.to_datetime('2020-03-15'))/pd.to_timedelta('1D')\n",
    "out_aug = model.sim(time=139,start_date='2020-03-15',\n",
    "                   N=100, draw_fcn=draw_sample_COVID19_SEIRD,samples=samples_dict_wave1)\n",
    "states = out_aug.isel(time=-1).mean(dim=\"draws\")\n",
    "initial_states_aug = {key:states[key].values for key in initial_states.keys()}"
   ]
  },
  {
   "cell_type": "markdown",
   "metadata": {},
   "source": [
    "## Load posterior parameter distributions of calibrated parameters"
   ]
  },
  {
   "cell_type": "code",
   "execution_count": null,
   "metadata": {
    "ExecuteTime": {
     "end_time": "2020-10-30T09:37:50.131455Z",
     "start_time": "2020-10-30T09:37:50.043321Z"
    }
   },
   "outputs": [],
   "source": [
    "# Load the dictionary containing the posterior parameter distributions obtained from calibrating the model to Belgian hospitalization data\n",
    "with open('../data/interim/model_parameters/provinces/Luik_wave1_1000steps_2020-10-28.json', 'r') as fp:\n",
    "    samples_dict_wave1 = json.load(fp)\n",
    "\n",
    "with open('../data/interim/model_parameters/provinces/Luik_wave2_from_aug_1000steps_2020-10-29.json', 'r') as fp:\n",
    "    samples_dict_wave2 = json.load(fp)"
   ]
  },
  {
   "cell_type": "code",
   "execution_count": null,
   "metadata": {
    "ExecuteTime": {
     "end_time": "2020-10-30T09:37:50.295628Z",
     "start_time": "2020-10-30T09:37:50.251772Z"
    }
   },
   "outputs": [],
   "source": [
    "samples_dict_wave2.update({'l':samples_dict_wave1['l'],\n",
    "                           'tau':samples_dict_wave1['tau']})\n",
    "                          # 'prevention':samples_dict_wave1['prevention']"
   ]
  },
  {
   "cell_type": "code",
   "execution_count": null,
   "metadata": {
    "ExecuteTime": {
     "end_time": "2020-10-29T15:10:54.761456Z",
     "start_time": "2020-10-29T15:10:54.584736Z"
    }
   },
   "outputs": [],
   "source": [
    "fig,ax = plt.subplots()\n",
    "pd.Series(samples_dict_wave2['beta']).hist()\n",
    "pd.Series(samples_dict_wave1['beta']).hist()"
   ]
  },
  {
   "cell_type": "markdown",
   "metadata": {},
   "source": [
    "# Functions"
   ]
  },
  {
   "cell_type": "code",
   "execution_count": null,
   "metadata": {
    "ExecuteTime": {
     "end_time": "2020-10-30T10:41:35.286436Z",
     "start_time": "2020-10-30T10:41:35.245529Z"
    }
   },
   "outputs": [],
   "source": [
    "def ramp_fun(Nc_old, Nc_new, t, tau_days, l, t_start):\n",
    "    \"\"\"\n",
    "    t : current date\n",
    "    tau : number of days before measures start having an effect\n",
    "    l : number of additional days after the time delay until full compliance is reached\n",
    "    \"\"\"\n",
    "    return Nc_old + (Nc_new-Nc_old)/l * (t-t_start-tau_days)/pd.Timedelta('1D')"
   ]
  },
  {
   "cell_type": "code",
   "execution_count": null,
   "metadata": {
    "ExecuteTime": {
     "end_time": "2020-10-30T09:38:49.653729Z",
     "start_time": "2020-10-30T09:38:49.469579Z"
    }
   },
   "outputs": [],
   "source": [
    "def draw_sample_COVID19_SEIRD(parameter_dictionary,samples_dict):\n",
    "    \"\"\"\n",
    "    A function to draw parameter samples obtained with MCMC during model calibration and assign them to the parameter dictionary of the model.\n",
    "    Tailor-made for the BIOMATH COVID-19 SEIRD model.\n",
    "\n",
    "    Parameters\n",
    "    ----------\n",
    "    model : object\n",
    "        BIOMATH model object\n",
    "    \n",
    "    samples_dict : dictionary\n",
    "        Dictionary containing the samples of the sampled parameters: beta, l and tau.\n",
    "\n",
    "    Returns\n",
    "    ----------\n",
    "    model : object\n",
    "        BIOMATH model object\n",
    "\n",
    "    \"\"\"\n",
    "    # Use posterior samples of fitted parameters\n",
    "    parameter_dictionary['beta'] = np.random.choice(samples_dict['beta'],1,replace=False)\n",
    "    idx,parameter_dictionary['l'] = random.choice(list(enumerate(samples_dict['l'])))\n",
    "    parameter_dictionary['tau'] = samples_dict['tau'][idx]\n",
    "    return parameter_dictionary"
   ]
  },
  {
   "cell_type": "code",
   "execution_count": null,
   "metadata": {
    "ExecuteTime": {
     "end_time": "2020-10-30T10:58:01.721512Z",
     "start_time": "2020-10-30T10:58:01.674125Z"
    }
   },
   "outputs": [],
   "source": [
    "def draw_sample_beta_COVID19_SEIRD(parameter_dictionary,samples_dict):\n",
    "    \"\"\"\n",
    "    A function to draw parameter samples obtained with MCMC during model calibration and assign them to the parameter dictionary of the model.\n",
    "    Tailor-made for the BIOMATH COVID-19 SEIRD model.\n",
    "\n",
    "    Parameters\n",
    "    ----------\n",
    "    model : object\n",
    "        BIOMATH model object\n",
    "    \n",
    "    samples_dict : dictionary\n",
    "        Dictionary containing the samples of the sampled parameters: beta, l and tau.\n",
    "\n",
    "    Returns\n",
    "    ----------\n",
    "    model : object\n",
    "        BIOMATH model object\n",
    "\n",
    "    \"\"\"\n",
    "    # Use posterior samples of fitted parameters\n",
    "    parameter_dictionary['beta'] = np.random.choice(samples_dict['beta'],1,replace=False)\n",
    "    return parameter_dictionary"
   ]
  },
  {
   "cell_type": "markdown",
   "metadata": {},
   "source": [
    "# Scenarios"
   ]
  },
  {
   "cell_type": "code",
   "execution_count": null,
   "metadata": {
    "ExecuteTime": {
     "end_time": "2020-10-30T07:54:45.310007Z",
     "start_time": "2020-10-30T07:54:45.262332Z"
    }
   },
   "outputs": [],
   "source": [
    "start_date = '2020-08-01'\n",
    "n_draws = 100\n",
    "percentile = 0.95\n",
    "end_date = '2021-01-01'\n",
    "dates_full = pd.date_range(start_date, end_date)"
   ]
  },
  {
   "cell_type": "code",
   "execution_count": null,
   "metadata": {
    "ExecuteTime": {
     "end_time": "2020-10-30T07:54:45.794439Z",
     "start_time": "2020-10-30T07:54:45.742876Z"
    }
   },
   "outputs": [],
   "source": [
    "initial_states_aug = np.load('../data/interim/prediction_provinces/Luik_initial_states_aug.npy', allow_pickle=True).item()"
   ]
  },
  {
   "cell_type": "markdown",
   "metadata": {},
   "source": [
    "## S1 (worst-case): continuation of september contact behaviour"
   ]
  },
  {
   "cell_type": "code",
   "execution_count": null,
   "metadata": {
    "ExecuteTime": {
     "end_time": "2020-10-30T10:58:14.986576Z",
     "start_time": "2020-10-30T10:58:05.586924Z"
    }
   },
   "outputs": [],
   "source": [
    "# Load the model parameters using `get_COVID19_SEIRD_parameters()`.\n",
    "params = model_parameters.get_COVID19_SEIRD_parameters()\n",
    "\n",
    "# Define the initial condition: one exposed inidividual in every age category\n",
    "initial_states = initial_states_aug\n",
    "# Initialize the model\n",
    "\n",
    "model = models.COVID19_SEIRD(initial_states, params)\n",
    "# Run simulation\n",
    "out_S1 = model.sim(time=end_date, excess_time=0, start_date=start_date,\n",
    "                   N=n_draws,draw_fcn=draw_sample_beta_COVID19_SEIRD,samples=samples_dict_wave2)\n",
    "# Save results\n",
    "# New hospitalisations\n",
    "S1_incidences_mean = out_S1[\"H_in\"].sum(dim=\"Nc\").mean(dim=\"draws\").values\n",
    "S1_incidences_median = out_S1[\"H_in\"].sum(dim=\"Nc\").median(dim=\"draws\").values\n",
    "S1_incidences_LL = out_S1[\"H_in\"].sum(dim=\"Nc\").quantile(0.2,dim=\"draws\").values\n",
    "S1_incidences_UL = out_S1[\"H_in\"].sum(dim=\"Nc\").quantile(0.8,dim=\"draws\").values\n",
    "# Hospital totals\n",
    "S1_load_mean = out_S1[\"H_tot\"].sum(dim=\"Nc\").mean(dim=\"draws\").values\n",
    "S1_load_median = out_S1[\"H_tot\"].sum(dim=\"Nc\").median(dim=\"draws\").values\n",
    "S1_load_LL = out_S1[\"H_tot\"].sum(dim=\"Nc\").quantile(0.2,dim=\"draws\").values\n",
    "S1_load_UL = out_S1[\"H_tot\"].sum(dim=\"Nc\").quantile(0.8,dim=\"draws\").values"
   ]
  },
  {
   "cell_type": "code",
   "execution_count": null,
   "metadata": {
    "ExecuteTime": {
     "end_time": "2020-10-29T11:10:10.935514Z",
     "start_time": "2020-10-29T11:10:10.506159Z"
    }
   },
   "outputs": [],
   "source": [
    "fig,ax =plt.subplots()\n",
    "ax.fill_between(dates_full, out_S1[\"H_tot\"].quantile(1-percentile,dim=\"draws\").sum(dim=\"Nc\"), out_S1[\"H_tot\"].quantile(percentile,dim=\"draws\").sum(dim=\"Nc\"),alpha=0.30)\n",
    "ax.plot(dates_full,out_S1[\"H_tot\"].mean(dim=\"draws\").sum(dim=\"Nc\"),'--')\n",
    "ax.plot(Luik_hosp_data.DATE,Luik_hosp_data[\"TOTAL_IN\"],'o',color='black')\n",
    "# limit the number of ticks on the axis\n",
    "ax = _apply_tick_locator(ax)\n",
    "ax.set_ylabel('hospital load')\n",
    "fig.tight_layout()\n"
   ]
  },
  {
   "cell_type": "code",
   "execution_count": null,
   "metadata": {
    "ExecuteTime": {
     "end_time": "2020-10-29T11:08:52.575903Z",
     "start_time": "2020-10-29T11:08:52.140544Z"
    }
   },
   "outputs": [],
   "source": [
    "fig,ax =plt.subplots()\n",
    "ax.fill_between(dates_full, out_S1[\"H_in\"].quantile(1-percentile,dim=\"draws\").sum(dim=\"Nc\"), out_S1[\"H_in\"].quantile(percentile,dim=\"draws\").sum(dim=\"Nc\"),alpha=0.30)\n",
    "ax.plot(dates_full,out_S1[\"H_in\"].mean(dim=\"draws\").sum(dim=\"Nc\"),'--')\n",
    "ax.plot(Luik_hosp_data.DATE,Luik_hosp_data[\"NEW_IN\"],'o',color='black')\n",
    "# limit the number of ticks on the axis\n",
    "ax = _apply_tick_locator(ax)\n",
    "ax.set_ylabel('daily hospitalisations')\n",
    "fig.tight_layout()\n"
   ]
  },
  {
   "cell_type": "markdown",
   "metadata": {},
   "source": [
    "## S2: Contacts reduced only half as much as in previous lockdown"
   ]
  },
  {
   "cell_type": "code",
   "execution_count": null,
   "metadata": {
    "ExecuteTime": {
     "end_time": "2020-10-30T10:41:35.899426Z",
     "start_time": "2020-10-30T10:41:35.852907Z"
    }
   },
   "outputs": [],
   "source": [
    "def contact_reduction_half(t, param, policy0, policy_half, policy_half_school_vacation, l, tau):\n",
    "    \"\"\"\n",
    "    policy0 : before any measures are take, so full contacts\n",
    "    policy_half : half contact reduction as compared to first lockdown (schools open)\n",
    "    policy_half_school_vacation : policy_half, but schools closed\n",
    "    tau : number of days before measures start having an effect\n",
    "    l : number of additional days after the time delay until full compliance is reached\n",
    "    \"\"\"\n",
    "    t1 = pd.to_datetime('2020-10-19') # start measures\n",
    "    t2 = pd.to_datetime('2020-11-02') # start autumn vacation\n",
    "    t3 = pd.to_datetime('2020-11-11') # end autumn vacation\n",
    "    t4 = pd.to_datetime('2020-12-21') # start Christmas vacation\n",
    "    tau_days = pd.to_timedelta(tau, unit='D')\n",
    "    l_days = pd.to_timedelta(l, unit='D')\n",
    "    \n",
    "    if t <= t1 + tau_days:\n",
    "        return policy0\n",
    "    elif (t1 + tau_days) < t <= (t1 + tau_days + l_days):\n",
    "        return ramp_fun(policy0, policy_half, t, tau_days, l, t1)\n",
    "    elif (t1 + tau_days + l_days) < t < t2:\n",
    "        return policy_half\n",
    "    elif t2 <= t <= t3:\n",
    "        return policy_half_school_vacation\n",
    "    elif t3 < t < t4 :\n",
    "        return policy_half\n",
    "    elif t4 <= t:\n",
    "        return policy_half_school_vacation"
   ]
  },
  {
   "cell_type": "code",
   "execution_count": null,
   "metadata": {
    "ExecuteTime": {
     "end_time": "2020-10-30T10:42:17.705495Z",
     "start_time": "2020-10-30T10:41:38.277233Z"
    }
   },
   "outputs": [],
   "source": [
    "# Load the model parameters using `get_COVID19_SEIRD_parameters()`.\n",
    "params = model_parameters.get_COVID19_SEIRD_parameters()\n",
    "\n",
    "params.update({      'policy0': Nc_total,\n",
    "                 'policy_half': 1.0*Nc_home + (1-0.30)*Nc_work + (1-0.35)*Nc_transport + (1-0.15)*Nc_others + 1*Nc_schools + (1-0.40)*Nc_leisure,\n",
    " 'policy_half_school_vacation': 1.0*Nc_home + (1-0.30)*Nc_work + (1-0.35)*Nc_transport + (1-0.15)*Nc_others + 0*Nc_schools + (1-0.40)*Nc_leisure,\n",
    "                          'l': 1,\n",
    "                        'tau': 5})\n",
    "\n",
    "\n",
    "# Define the initial condition: one exposed inidividual in every age category\n",
    "initial_states = initial_states_aug\n",
    "# Initialize the model\n",
    "model = models.COVID19_SEIRD(initial_states, params, time_dependent_parameters={'Nc': contact_reduction_half})\n",
    "# Run simulation\n",
    "out_S2 = model.sim(time=end_date, excess_time=0, start_date=start_date,\n",
    "                   N=n_draws,draw_fcn=draw_sample_COVID19_SEIRD,samples=samples_dict_wave2)\n",
    "# Save results\n",
    "# New hospitalisations\n",
    "S2_incidences_mean = out_S2[\"H_in\"].sum(dim=\"Nc\").mean(dim=\"draws\").values\n",
    "S2_incidences_median = out_S2[\"H_in\"].sum(dim=\"Nc\").median(dim=\"draws\").values\n",
    "S2_incidences_LL = out_S2[\"H_in\"].sum(dim=\"Nc\").quantile(0.2,dim=\"draws\").values\n",
    "S2_incidences_UL = out_S2[\"H_in\"].sum(dim=\"Nc\").quantile(0.8,dim=\"draws\").values\n",
    "# Hospital totals\n",
    "S2_load_mean = out_S2[\"H_tot\"].sum(dim=\"Nc\").mean(dim=\"draws\").values\n",
    "S2_load_median = out_S2[\"H_tot\"].sum(dim=\"Nc\").median(dim=\"draws\").values\n",
    "S2_load_LL = out_S2[\"H_tot\"].sum(dim=\"Nc\").quantile(0.2,dim=\"draws\").values\n",
    "S2_load_UL = out_S2[\"H_tot\"].sum(dim=\"Nc\").quantile(0.8,dim=\"draws\").values"
   ]
  },
  {
   "cell_type": "code",
   "execution_count": null,
   "metadata": {
    "ExecuteTime": {
     "end_time": "2020-10-30T10:42:18.242073Z",
     "start_time": "2020-10-30T10:42:17.717243Z"
    },
    "scrolled": false
   },
   "outputs": [],
   "source": [
    "fig,ax =plt.subplots()\n",
    "ax.fill_between(dates_full, out_S2[\"H_tot\"].quantile(1-percentile,dim=\"draws\").sum(dim=\"Nc\"), out_S2[\"H_tot\"].quantile(percentile,dim=\"draws\").sum(dim=\"Nc\"),alpha=0.30)\n",
    "ax.plot(dates_full,out_S2[\"H_tot\"].mean(dim=\"draws\").sum(dim=\"Nc\"),'--')\n",
    "ax.plot(Luik_hosp_data.DATE,Luik_hosp_data[\"TOTAL_IN\"],'o',color='black')\n",
    "# limit the number of ticks on the axis\n",
    "ax = _apply_tick_locator(ax)\n",
    "ax.set_ylabel('hospital load')\n",
    "fig.tight_layout()"
   ]
  },
  {
   "cell_type": "markdown",
   "metadata": {},
   "source": [
    "## S3: Contacts reduced as much as in previous lockdown"
   ]
  },
  {
   "cell_type": "code",
   "execution_count": null,
   "metadata": {
    "ExecuteTime": {
     "end_time": "2020-10-30T10:51:06.617034Z",
     "start_time": "2020-10-30T10:51:06.571575Z"
    }
   },
   "outputs": [],
   "source": [
    "def contact_reduction_full(t, param, policy0, policy_full, policy_full_school_vacation, l, tau):\n",
    "    \"\"\"\n",
    "    policy0 : before any measures are take, so full contacts\n",
    "    policy_full : same contact reduction as first lockdown (schools open)\n",
    "    policy_full_school_vacation : policy_full, but schools closed\n",
    "    tau : number of days before measures start having an effect\n",
    "    l : number of additional days after the time delay until full compliance is reached \n",
    "    \"\"\"\n",
    "    t1 = pd.to_datetime('2020-10-19') # start measures\n",
    "    t2 = pd.to_datetime('2020-11-02') # start autumn vacation\n",
    "    t3 = pd.to_datetime('2020-11-11') # end autumn vacation\n",
    "    t4 = pd.to_datetime('2020-12-21') # start Christmas vacation\n",
    "    tau_days = pd.to_timedelta(tau, unit='D')\n",
    "    l_days = pd.to_timedelta(l, unit='D')\n",
    "    \n",
    "    if t <= t1 + tau_days:\n",
    "        return policy0\n",
    "    elif (t1 + tau_days) < t <= (t1 + tau_days + l_days):\n",
    "        return ramp_fun(policy0, policy_full, t, tau_days, l, t1)\n",
    "    elif (t1 + tau_days + l_days) < t < t2:\n",
    "        return policy_full\n",
    "    elif t2 <= t <= t3:\n",
    "        return policy_full_school_vacation\n",
    "    elif t3 < t < t4 :\n",
    "        return policy_full\n",
    "    elif t4 <= t:\n",
    "        return policy_full_school_vacation"
   ]
  },
  {
   "cell_type": "code",
   "execution_count": null,
   "metadata": {
    "ExecuteTime": {
     "end_time": "2020-10-30T10:51:52.340911Z",
     "start_time": "2020-10-30T10:51:07.708644Z"
    }
   },
   "outputs": [],
   "source": [
    "# Load the model parameters using `get_COVID19_SEIRD_parameters()`.\n",
    "params = model_parameters.get_COVID19_SEIRD_parameters()\n",
    "\n",
    "params.update({     'policy0': Nc_total,\n",
    "                'policy_full': 1.0*Nc_home + (1-0.60)*Nc_work + (1-0.70)*Nc_transport + (1-0.30)*Nc_others + 1*Nc_schools + (1-0.80)*Nc_leisure,\n",
    "'policy_full_school_vacation': 1.0*Nc_home + (1-0.60)*Nc_work + (1-0.70)*Nc_transport + (1-0.30)*Nc_others + 0*Nc_schools + (1-0.80)*Nc_leisure,\n",
    "                          'l': 1,\n",
    "                        'tau': 5})\n",
    "# Define the initial condition: one exposed inidividual in every age category\n",
    "initial_states = initial_states_aug\n",
    "# Initialize the model\n",
    "model = models.COVID19_SEIRD(initial_states, params, time_dependent_parameters={'Nc': contact_reduction_full})\n",
    "# Run simulation\n",
    "out_S3 = model.sim(time=end_date, excess_time=0, start_date=start_date,\n",
    "                   N=n_draws,draw_fcn=draw_sample_COVID19_SEIRD,samples=samples_dict_wave2)\n",
    "# Save results\n",
    "# New hospitalisations\n",
    "S3_incidences_mean = out_S3[\"H_in\"].sum(dim=\"Nc\").mean(dim=\"draws\").values\n",
    "S3_incidences_median = out_S3[\"H_in\"].sum(dim=\"Nc\").median(dim=\"draws\").values\n",
    "S3_incidences_LL = out_S3[\"H_in\"].sum(dim=\"Nc\").quantile(0.2,dim=\"draws\").values\n",
    "S3_incidences_UL = out_S3[\"H_in\"].sum(dim=\"Nc\").quantile(0.8,dim=\"draws\").values\n",
    "# Hospital totals\n",
    "S3_load_mean = out_S3[\"H_tot\"].sum(dim=\"Nc\").mean(dim=\"draws\").values\n",
    "S3_load_median = out_S3[\"H_tot\"].sum(dim=\"Nc\").median(dim=\"draws\").values\n",
    "S3_load_LL = out_S3[\"H_tot\"].sum(dim=\"Nc\").quantile(0.2,dim=\"draws\").values\n",
    "S3_load_UL = out_S3[\"H_tot\"].sum(dim=\"Nc\").quantile(0.8,dim=\"draws\").values"
   ]
  },
  {
   "cell_type": "code",
   "execution_count": null,
   "metadata": {
    "ExecuteTime": {
     "end_time": "2020-10-30T10:51:58.487024Z",
     "start_time": "2020-10-30T10:51:58.033576Z"
    }
   },
   "outputs": [],
   "source": [
    "fig,ax =plt.subplots()\n",
    "ax.fill_between(dates_full, out_S3[\"H_tot\"].quantile(1-percentile,dim=\"draws\").sum(dim=\"Nc\"), out_S3[\"H_tot\"].quantile(percentile,dim=\"draws\").sum(dim=\"Nc\"),alpha=0.30)\n",
    "ax.plot(dates_full,out_S3[\"H_tot\"].mean(dim=\"draws\").sum(dim=\"Nc\"),'--')\n",
    "ax.plot(Luik_hosp_data.DATE,Luik_hosp_data[\"TOTAL_IN\"],'o',color='black')\n",
    "# limit the number of ticks on the axis\n",
    "ax = _apply_tick_locator(ax)\n",
    "ax.set_ylabel('hospital load')\n",
    "fig.tight_layout()"
   ]
  },
  {
   "cell_type": "markdown",
   "metadata": {},
   "source": [
    "# Summary"
   ]
  },
  {
   "cell_type": "code",
   "execution_count": null,
   "metadata": {
    "ExecuteTime": {
     "end_time": "2020-10-30T10:52:21.307550Z",
     "start_time": "2020-10-30T10:52:19.863858Z"
    }
   },
   "outputs": [],
   "source": [
    "fig,ax =plt.subplots(figsize=(8,4))\n",
    "# ax.fill_between(dates_full, out_S1[\"H_tot\"].quantile(1-percentile,dim=\"draws\").sum(dim=\"Nc\"),\n",
    "#                 out_S1[\"H_tot\"].quantile(percentile,dim=\"draws\").sum(dim=\"Nc\"),alpha=0.30, color='C0')\n",
    "# ax.plot(dates_full,out_S1[\"H_tot\"].mean(dim=\"draws\").sum(dim=\"Nc\"),'-', color='C0', label='S1')\n",
    "\n",
    "ax.fill_between(dates_full, out_S2[\"H_tot\"].quantile(1-percentile,dim=\"draws\").sum(dim=\"Nc\"),\n",
    "                out_S2[\"H_tot\"].quantile(percentile,dim=\"draws\").sum(dim=\"Nc\"),alpha=0.30, color='C0')\n",
    "ax.plot(dates_full,out_S2[\"H_tot\"].mean(dim=\"draws\").sum(dim=\"Nc\"),'-', color='C0', label='half contact reduction')\n",
    "\n",
    "ax.fill_between(dates_full, out_S3[\"H_tot\"].quantile(1-percentile,dim=\"draws\").sum(dim=\"Nc\"), \n",
    "                out_S3[\"H_tot\"].quantile(percentile,dim=\"draws\").sum(dim=\"Nc\"),alpha=0.30, color='C1')\n",
    "ax.plot(dates_full,out_S3[\"H_tot\"].mean(dim=\"draws\").sum(dim=\"Nc\"),'-', color='C1', label='full contact reduction')\n",
    "\n",
    "ax.plot(Luik_hosp_data.DATE,Luik_hosp_data[\"TOTAL_IN\"],'.',color='black', markersize=9, alpha=0.3, label='data')\n",
    "# limit the number of ticks on the axis\n",
    "ax = _apply_tick_locator(ax)\n",
    "ax.set_ylabel('Hospital load')\n",
    "fig.tight_layout()\n",
    "ax.set_xlabel('Time')\n",
    "plt.legend()\n",
    "#ax.legend(loc='upper center', bbox_to_anchor=(0.5, 1.1), ncol=3)\n",
    "plt.savefig('../results/predictions_provinces/Luik_combined_results_compliance.jpg', dpi=400, bbox_inches='tight')"
   ]
  },
  {
   "cell_type": "markdown",
   "metadata": {},
   "source": [
    "# Make a dataframe to output"
   ]
  },
  {
   "cell_type": "code",
   "execution_count": null,
   "metadata": {
    "ExecuteTime": {
     "end_time": "2020-10-27T20:53:39.303474Z",
     "start_time": "2020-10-27T20:53:39.257480Z"
    }
   },
   "outputs": [],
   "source": [
    "start_date = datetime.datetime.strptime('15-03-2020', '%d-%m-%Y') - datetime.timedelta(days=samples_dict['lag_time'])\n",
    "index = pd.date_range(start_date, periods=simtime+1).date"
   ]
  },
  {
   "cell_type": "code",
   "execution_count": null,
   "metadata": {},
   "outputs": [],
   "source": [
    "columns = ['S1_incidences_mean','S1_incidences_median','S1_incidences_LL','S1_incidences_UL','S1_load_mean','S1_load_LL','S1_load_UL','S2_incidences_mean','S2_incidences_median','S2_incidences_LL','S2_incidences_UL','S2_load_mean','S2_load_LL','S2_load_UL','S3_incidences_mean','S3_incidences_median','S3_incidences_LL','S3_incidences_UL','S3_load_mean','S3_load_LL','S3_load_UL','S4_incidences_mean','S4_incidences_median','S4_incidences_LL','S4_incidences_UL','S4_load_mean','S4_load_LL','S4_load_UL']"
   ]
  },
  {
   "cell_type": "code",
   "execution_count": null,
   "metadata": {},
   "outputs": [],
   "source": [
    "data = np.transpose(np.array([S1_incidences_mean,S1_incidences_median,S1_incidences_LL,S1_incidences_UL,S1_load_mean,S1_load_LL,S1_load_UL,S2_incidences_mean,S2_incidences_median,S2_incidences_LL,S2_incidences_UL,S2_load_mean,S2_load_LL,S2_load_UL,S3_incidences_mean,S3_incidences_median,S3_incidences_LL,S3_incidences_UL,S3_load_mean,S3_load_LL,S3_load_UL,S4_incidences_mean,S4_incidences_median,S4_incidences_LL,S4_incidences_UL,S4_load_mean,S4_load_LL,S4_load_UL]))"
   ]
  },
  {
   "cell_type": "code",
   "execution_count": null,
   "metadata": {},
   "outputs": [],
   "source": [
    "df = pd.DataFrame(data,columns=columns,index=index)\n",
    "df.head()"
   ]
  },
  {
   "cell_type": "code",
   "execution_count": null,
   "metadata": {},
   "outputs": [],
   "source": [
    "df.to_csv('../results/FAGG-long-term-predictions/'+datetime.datetime.today().strftime('%Y-%m-%d')+'recalibration.csv',index=True)"
   ]
  }
 ],
 "metadata": {
  "kernelspec": {
   "display_name": "Python 3",
   "language": "python",
   "name": "python3"
  },
  "language_info": {
   "codemirror_mode": {
    "name": "ipython",
    "version": 3
   },
   "file_extension": ".py",
   "mimetype": "text/x-python",
   "name": "python",
   "nbconvert_exporter": "python",
   "pygments_lexer": "ipython3",
   "version": "3.8.2"
  },
  "nav_menu": {},
  "toc": {
   "base_numbering": 1,
   "nav_menu": {},
   "number_sections": true,
   "sideBar": true,
   "skip_h1_title": false,
   "title_cell": "Table of Contents",
   "title_sidebar": "Contents",
   "toc_cell": true,
   "toc_position": {
    "height": "calc(100% - 180px)",
    "left": "10px",
    "top": "150px",
    "width": "253px"
   },
   "toc_section_display": "block",
   "toc_window_display": true
  }
 },
 "nbformat": 4,
 "nbformat_minor": 4
}
