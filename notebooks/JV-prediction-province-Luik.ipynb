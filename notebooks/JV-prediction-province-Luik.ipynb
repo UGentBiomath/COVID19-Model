{
 "cells": [
  {
   "cell_type": "markdown",
   "metadata": {
    "toc": true
   },
   "source": [
    "<h1>Table of Contents<span class=\"tocSkip\"></span></h1>\n",
    "<div class=\"toc\"><ul class=\"toc-item\"><li><span><a href=\"#Covid-19:-From-model-prediction-to-model-predictive-control\" data-toc-modified-id=\"Covid-19:-From-model-prediction-to-model-predictive-control-1\"><span class=\"toc-item-num\">1&nbsp;&nbsp;</span>Covid-19: From model prediction to model predictive control</a></span><ul class=\"toc-item\"><li><span><a href=\"#Long-term-predictions-for-FAGG\" data-toc-modified-id=\"Long-term-predictions-for-FAGG-1.1\"><span class=\"toc-item-num\">1.1&nbsp;&nbsp;</span>Long term predictions for FAGG</a></span></li><li><span><a href=\"#Data,-policy-and-model-initialization\" data-toc-modified-id=\"Data,-policy-and-model-initialization-1.2\"><span class=\"toc-item-num\">1.2&nbsp;&nbsp;</span>Data, policy and model initialization</a></span><ul class=\"toc-item\"><li><span><a href=\"#Load-contact-data\" data-toc-modified-id=\"Load-contact-data-1.2.1\"><span class=\"toc-item-num\">1.2.1&nbsp;&nbsp;</span>Load contact data</a></span></li><li><span><a href=\"#Load-publically-available-data-from-Sciensano\" data-toc-modified-id=\"Load-publically-available-data-from-Sciensano-1.2.2\"><span class=\"toc-item-num\">1.2.2&nbsp;&nbsp;</span>Load publically available data from Sciensano</a></span></li><li><span><a href=\"#Load-posterior-parameter-distributions-of-calibrated-parameters\" data-toc-modified-id=\"Load-posterior-parameter-distributions-of-calibrated-parameters-1.2.3\"><span class=\"toc-item-num\">1.2.3&nbsp;&nbsp;</span>Load posterior parameter distributions of calibrated parameters</a></span></li><li><span><a href=\"#Define-social-policy\" data-toc-modified-id=\"Define-social-policy-1.2.4\"><span class=\"toc-item-num\">1.2.4&nbsp;&nbsp;</span>Define social policy</a></span></li><li><span><a href=\"#Initialize-model\" data-toc-modified-id=\"Initialize-model-1.2.5\"><span class=\"toc-item-num\">1.2.5&nbsp;&nbsp;</span>Initialize model</a></span></li></ul></li><li><span><a href=\"#Run-model-until-September-1st\" data-toc-modified-id=\"Run-model-until-September-1st-1.3\"><span class=\"toc-item-num\">1.3&nbsp;&nbsp;</span>Run model until September 1st</a></span></li><li><span><a href=\"#Re-initialize-model-with-September-1st-as-initial-condition\" data-toc-modified-id=\"Re-initialize-model-with-September-1st-as-initial-condition-1.4\"><span class=\"toc-item-num\">1.4&nbsp;&nbsp;</span>Re-initialize model with September 1st as initial condition</a></span></li><li><span><a href=\"#Simulations\" data-toc-modified-id=\"Simulations-1.5\"><span class=\"toc-item-num\">1.5&nbsp;&nbsp;</span>Simulations</a></span><ul class=\"toc-item\"><li><span><a href=\"#S1:-all-contacts/no-contact-reduction\" data-toc-modified-id=\"S1:-all-contacts/no-contact-reduction-1.5.1\"><span class=\"toc-item-num\">1.5.1&nbsp;&nbsp;</span>S1: all contacts/no contact reduction</a></span></li><li><span><a href=\"#S1:-all-contacts-and-full-pandemic-simulation\" data-toc-modified-id=\"S1:-all-contacts-and-full-pandemic-simulation-1.5.2\"><span class=\"toc-item-num\">1.5.2&nbsp;&nbsp;</span>S1: all contacts and full pandemic simulation</a></span></li></ul></li><li><span><a href=\"#Lockdown-scenarios:-one-month-lockdown\" data-toc-modified-id=\"Lockdown-scenarios:-one-month-lockdown-1.6\"><span class=\"toc-item-num\">1.6&nbsp;&nbsp;</span>Lockdown scenarios: one month lockdown</a></span><ul class=\"toc-item\"><li><span><a href=\"#lockdown-as-strict-as-March-May-2020-lockdown\" data-toc-modified-id=\"lockdown-as-strict-as-March-May-2020-lockdown-1.6.1\"><span class=\"toc-item-num\">1.6.1&nbsp;&nbsp;</span>lockdown as strict as March-May 2020 lockdown</a></span></li><li><span><a href=\"#Half-as-strict-as-March-May-2020-lockdown\" data-toc-modified-id=\"Half-as-strict-as-March-May-2020-lockdown-1.6.2\"><span class=\"toc-item-num\">1.6.2&nbsp;&nbsp;</span>Half as strict as March-May 2020 lockdown</a></span></li></ul></li><li><span><a href=\"#Lockdown-scenarios:-prolonged-lockdown\" data-toc-modified-id=\"Lockdown-scenarios:-prolonged-lockdown-1.7\"><span class=\"toc-item-num\">1.7&nbsp;&nbsp;</span>Lockdown scenarios: prolonged lockdown</a></span><ul class=\"toc-item\"><li><span><a href=\"#As-strict-as-March-May-2020-lockdown\" data-toc-modified-id=\"As-strict-as-March-May-2020-lockdown-1.7.1\"><span class=\"toc-item-num\">1.7.1&nbsp;&nbsp;</span>As strict as March-May 2020 lockdown</a></span></li></ul></li><li><span><a href=\"#Scenario:-prolonged--lockdown,-half-as-strict-as-March-May-2020-lockdown\" data-toc-modified-id=\"Scenario:-prolonged--lockdown,-half-as-strict-as-March-May-2020-lockdown-1.8\"><span class=\"toc-item-num\">1.8&nbsp;&nbsp;</span>Scenario: prolonged  lockdown, half as strict as March-May 2020 lockdown</a></span><ul class=\"toc-item\"><li><span><a href=\"#S2:--10%-contacts-starting-October-16th\" data-toc-modified-id=\"S2:--10%-contacts-starting-October-16th-1.8.1\"><span class=\"toc-item-num\">1.8.1&nbsp;&nbsp;</span>S2: -10% contacts starting October 16th</a></span></li><li><span><a href=\"#S3:--20%-contacts\" data-toc-modified-id=\"S3:--20%-contacts-1.8.2\"><span class=\"toc-item-num\">1.8.2&nbsp;&nbsp;</span>S3: -20% contacts</a></span></li></ul></li><li><span><a href=\"#Make-a-dataframe\" data-toc-modified-id=\"Make-a-dataframe-1.9\"><span class=\"toc-item-num\">1.9&nbsp;&nbsp;</span>Make a dataframe</a></span></li><li><span><a href=\"#Write-output-to-excel-file\" data-toc-modified-id=\"Write-output-to-excel-file-1.10\"><span class=\"toc-item-num\">1.10&nbsp;&nbsp;</span>Write output to excel file</a></span></li></ul></li></ul></div>"
   ]
  },
  {
   "cell_type": "markdown",
   "metadata": {},
   "source": [
    "# Covid-19: From model prediction to model predictive control\n",
    "\n",
    "## Long term predictions for FAGG\n",
    "\n",
    "*Authored by T.W. Alleman in consultation with the BIOMATH research unit headed by prof. Ingmar Nopens.*\n",
    "\n",
    "Copyright (c) 2020 by T.W. Alleman, BIOMATH, Ghent University. All Rights Reserved."
   ]
  },
  {
   "cell_type": "code",
   "execution_count": 1,
   "metadata": {
    "ExecuteTime": {
     "end_time": "2020-10-27T07:43:00.619913Z",
     "start_time": "2020-10-27T07:42:59.773244Z"
    }
   },
   "outputs": [],
   "source": [
    "import numpy as np\n",
    "import matplotlib\n",
    "import matplotlib.pyplot as plt\n",
    "import matplotlib.dates as mdates\n",
    "import pandas as pd\n",
    "import datetime\n",
    "import scipy\n",
    "import json\n",
    "import random"
   ]
  },
  {
   "cell_type": "markdown",
   "metadata": {},
   "source": [
    "Load the covid 19 custom development code"
   ]
  },
  {
   "cell_type": "code",
   "execution_count": 2,
   "metadata": {
    "ExecuteTime": {
     "end_time": "2020-10-27T07:43:02.399449Z",
     "start_time": "2020-10-27T07:43:01.851297Z"
    }
   },
   "outputs": [],
   "source": [
    "from covid19model.optimization import objective_fcns\n",
    "from covid19model.models import models\n",
    "from covid19model.models.utils import draw_sample_COVID19_SEIRD\n",
    "from covid19model.data import google, sciensano, model_parameters\n",
    "from covid19model.visualization.output import population_status, infected\n",
    "from covid19model.visualization.optimization import plot_fit, traceplot"
   ]
  },
  {
   "cell_type": "code",
   "execution_count": 3,
   "metadata": {
    "ExecuteTime": {
     "end_time": "2020-10-27T07:43:02.453552Z",
     "start_time": "2020-10-27T07:43:02.401785Z"
    }
   },
   "outputs": [],
   "source": [
    "# OPTIONAL: Load the \"autoreload\" extension so that package code can change\n",
    "%load_ext autoreload\n",
    "# OPTIONAL: always reload modules so that as you change code in src, it gets loaded\n",
    "%autoreload 2"
   ]
  },
  {
   "cell_type": "markdown",
   "metadata": {},
   "source": [
    "## Data, policy and model initialization"
   ]
  },
  {
   "cell_type": "markdown",
   "metadata": {},
   "source": [
    "### Load contact data"
   ]
  },
  {
   "cell_type": "code",
   "execution_count": 4,
   "metadata": {
    "ExecuteTime": {
     "end_time": "2020-10-27T07:43:05.067215Z",
     "start_time": "2020-10-27T07:43:04.747933Z"
    }
   },
   "outputs": [],
   "source": [
    "# Load the interaction matrices (size: 9x9)\n",
    "initN, Nc_home, Nc_work, Nc_schools, Nc_transport, Nc_leisure, Nc_others, Nc_total = model_parameters.get_interaction_matrices(dataset='willem_2012')\n",
    "# Define the number of age categories\n",
    "levels = initN.size"
   ]
  },
  {
   "cell_type": "markdown",
   "metadata": {},
   "source": [
    "### Load publically available data from Sciensano"
   ]
  },
  {
   "cell_type": "code",
   "execution_count": 5,
   "metadata": {
    "ExecuteTime": {
     "end_time": "2020-10-27T07:43:05.560237Z",
     "start_time": "2020-10-27T07:43:05.510059Z"
    }
   },
   "outputs": [],
   "source": [
    "#df_sciensano = sciensano.get_sciensano_COVID19_data(update=True)\n",
    "raw_hosp_data = pd.read_csv('../data/raw/sciensano/COVID19BE_HOSP.csv', parse_dates=['DATE'])\n",
    "Luik_hosp_data = raw_hosp_data[raw_hosp_data.PROVINCE=='Liège']\n",
    "# TOTAL_IN = H_tot !"
   ]
  },
  {
   "cell_type": "code",
   "execution_count": 43,
   "metadata": {
    "ExecuteTime": {
     "end_time": "2020-10-27T08:40:53.650028Z",
     "start_time": "2020-10-27T08:40:53.596055Z"
    },
    "collapsed": true
   },
   "outputs": [
    {
     "data": {
      "text/html": [
       "<div>\n",
       "<style scoped>\n",
       "    .dataframe tbody tr th:only-of-type {\n",
       "        vertical-align: middle;\n",
       "    }\n",
       "\n",
       "    .dataframe tbody tr th {\n",
       "        vertical-align: top;\n",
       "    }\n",
       "\n",
       "    .dataframe thead th {\n",
       "        text-align: right;\n",
       "    }\n",
       "</style>\n",
       "<table border=\"1\" class=\"dataframe\">\n",
       "  <thead>\n",
       "    <tr style=\"text-align: right;\">\n",
       "      <th></th>\n",
       "      <th>DATE</th>\n",
       "      <th>PROVINCE</th>\n",
       "      <th>REGION</th>\n",
       "      <th>NR_REPORTING</th>\n",
       "      <th>TOTAL_IN</th>\n",
       "      <th>TOTAL_IN_ICU</th>\n",
       "      <th>TOTAL_IN_RESP</th>\n",
       "      <th>TOTAL_IN_ECMO</th>\n",
       "      <th>NEW_IN</th>\n",
       "      <th>NEW_OUT</th>\n",
       "    </tr>\n",
       "  </thead>\n",
       "  <tbody>\n",
       "    <tr>\n",
       "      <th>4</th>\n",
       "      <td>2020-03-15</td>\n",
       "      <td>Liège</td>\n",
       "      <td>Wallonia</td>\n",
       "      <td>12</td>\n",
       "      <td>22</td>\n",
       "      <td>2</td>\n",
       "      <td>1</td>\n",
       "      <td>0</td>\n",
       "      <td>4</td>\n",
       "      <td>1</td>\n",
       "    </tr>\n",
       "    <tr>\n",
       "      <th>15</th>\n",
       "      <td>2020-03-16</td>\n",
       "      <td>Liège</td>\n",
       "      <td>Wallonia</td>\n",
       "      <td>13</td>\n",
       "      <td>24</td>\n",
       "      <td>2</td>\n",
       "      <td>2</td>\n",
       "      <td>0</td>\n",
       "      <td>2</td>\n",
       "      <td>1</td>\n",
       "    </tr>\n",
       "    <tr>\n",
       "      <th>26</th>\n",
       "      <td>2020-03-17</td>\n",
       "      <td>Liège</td>\n",
       "      <td>Wallonia</td>\n",
       "      <td>12</td>\n",
       "      <td>29</td>\n",
       "      <td>5</td>\n",
       "      <td>3</td>\n",
       "      <td>0</td>\n",
       "      <td>5</td>\n",
       "      <td>2</td>\n",
       "    </tr>\n",
       "    <tr>\n",
       "      <th>37</th>\n",
       "      <td>2020-03-18</td>\n",
       "      <td>Liège</td>\n",
       "      <td>Wallonia</td>\n",
       "      <td>12</td>\n",
       "      <td>41</td>\n",
       "      <td>2</td>\n",
       "      <td>2</td>\n",
       "      <td>0</td>\n",
       "      <td>13</td>\n",
       "      <td>4</td>\n",
       "    </tr>\n",
       "    <tr>\n",
       "      <th>48</th>\n",
       "      <td>2020-03-19</td>\n",
       "      <td>Liège</td>\n",
       "      <td>Wallonia</td>\n",
       "      <td>13</td>\n",
       "      <td>59</td>\n",
       "      <td>5</td>\n",
       "      <td>2</td>\n",
       "      <td>0</td>\n",
       "      <td>21</td>\n",
       "      <td>4</td>\n",
       "    </tr>\n",
       "    <tr>\n",
       "      <th>...</th>\n",
       "      <td>...</td>\n",
       "      <td>...</td>\n",
       "      <td>...</td>\n",
       "      <td>...</td>\n",
       "      <td>...</td>\n",
       "      <td>...</td>\n",
       "      <td>...</td>\n",
       "      <td>...</td>\n",
       "      <td>...</td>\n",
       "      <td>...</td>\n",
       "    </tr>\n",
       "    <tr>\n",
       "      <th>2424</th>\n",
       "      <td>2020-10-21</td>\n",
       "      <td>Liège</td>\n",
       "      <td>Wallonia</td>\n",
       "      <td>12</td>\n",
       "      <td>644</td>\n",
       "      <td>95</td>\n",
       "      <td>44</td>\n",
       "      <td>2</td>\n",
       "      <td>64</td>\n",
       "      <td>53</td>\n",
       "    </tr>\n",
       "    <tr>\n",
       "      <th>2435</th>\n",
       "      <td>2020-10-22</td>\n",
       "      <td>Liège</td>\n",
       "      <td>Wallonia</td>\n",
       "      <td>12</td>\n",
       "      <td>715</td>\n",
       "      <td>108</td>\n",
       "      <td>49</td>\n",
       "      <td>2</td>\n",
       "      <td>92</td>\n",
       "      <td>51</td>\n",
       "    </tr>\n",
       "    <tr>\n",
       "      <th>2446</th>\n",
       "      <td>2020-10-23</td>\n",
       "      <td>Liège</td>\n",
       "      <td>Wallonia</td>\n",
       "      <td>12</td>\n",
       "      <td>809</td>\n",
       "      <td>120</td>\n",
       "      <td>60</td>\n",
       "      <td>2</td>\n",
       "      <td>125</td>\n",
       "      <td>73</td>\n",
       "    </tr>\n",
       "    <tr>\n",
       "      <th>2457</th>\n",
       "      <td>2020-10-24</td>\n",
       "      <td>Liège</td>\n",
       "      <td>Wallonia</td>\n",
       "      <td>12</td>\n",
       "      <td>832</td>\n",
       "      <td>127</td>\n",
       "      <td>65</td>\n",
       "      <td>2</td>\n",
       "      <td>91</td>\n",
       "      <td>64</td>\n",
       "    </tr>\n",
       "    <tr>\n",
       "      <th>2468</th>\n",
       "      <td>2020-10-25</td>\n",
       "      <td>Liège</td>\n",
       "      <td>Wallonia</td>\n",
       "      <td>12</td>\n",
       "      <td>952</td>\n",
       "      <td>136</td>\n",
       "      <td>72</td>\n",
       "      <td>2</td>\n",
       "      <td>100</td>\n",
       "      <td>34</td>\n",
       "    </tr>\n",
       "  </tbody>\n",
       "</table>\n",
       "<p>225 rows × 10 columns</p>\n",
       "</div>"
      ],
      "text/plain": [
       "           DATE PROVINCE    REGION  NR_REPORTING  TOTAL_IN  TOTAL_IN_ICU  \\\n",
       "4    2020-03-15    Liège  Wallonia            12        22             2   \n",
       "15   2020-03-16    Liège  Wallonia            13        24             2   \n",
       "26   2020-03-17    Liège  Wallonia            12        29             5   \n",
       "37   2020-03-18    Liège  Wallonia            12        41             2   \n",
       "48   2020-03-19    Liège  Wallonia            13        59             5   \n",
       "...         ...      ...       ...           ...       ...           ...   \n",
       "2424 2020-10-21    Liège  Wallonia            12       644            95   \n",
       "2435 2020-10-22    Liège  Wallonia            12       715           108   \n",
       "2446 2020-10-23    Liège  Wallonia            12       809           120   \n",
       "2457 2020-10-24    Liège  Wallonia            12       832           127   \n",
       "2468 2020-10-25    Liège  Wallonia            12       952           136   \n",
       "\n",
       "      TOTAL_IN_RESP  TOTAL_IN_ECMO  NEW_IN  NEW_OUT  \n",
       "4                 1              0       4        1  \n",
       "15                2              0       2        1  \n",
       "26                3              0       5        2  \n",
       "37                2              0      13        4  \n",
       "48                2              0      21        4  \n",
       "...             ...            ...     ...      ...  \n",
       "2424             44              2      64       53  \n",
       "2435             49              2      92       51  \n",
       "2446             60              2     125       73  \n",
       "2457             65              2      91       64  \n",
       "2468             72              2     100       34  \n",
       "\n",
       "[225 rows x 10 columns]"
      ]
     },
     "execution_count": 43,
     "metadata": {},
     "output_type": "execute_result"
    }
   ],
   "source": [
    "Luik_hosp_data"
   ]
  },
  {
   "cell_type": "markdown",
   "metadata": {},
   "source": [
    "### Load posterior parameter distributions of calibrated parameters"
   ]
  },
  {
   "cell_type": "code",
   "execution_count": 6,
   "metadata": {
    "ExecuteTime": {
     "end_time": "2020-10-27T07:43:07.555943Z",
     "start_time": "2020-10-27T07:43:07.500169Z"
    }
   },
   "outputs": [],
   "source": [
    "# Load the dictionary containing the posterior parameter distributions obtained from calibrating the model to Belgian hospitalization data\n",
    "with open('../data/interim/model_parameters/provinces/Luik_2020-10-26.json', 'r') as fp:\n",
    "    samples_dict = json.load(fp)"
   ]
  },
  {
   "cell_type": "markdown",
   "metadata": {},
   "source": [
    "### Define social policy"
   ]
  },
  {
   "cell_type": "code",
   "execution_count": 10,
   "metadata": {
    "ExecuteTime": {
     "end_time": "2020-10-27T07:43:42.658659Z",
     "start_time": "2020-10-27T07:43:42.618045Z"
    }
   },
   "outputs": [],
   "source": [
    "def lockdown_release(t,param,policy_time,policy1,policy2,policy3,policy4,policy5,policy6,policy7,policy8,l,tau,prevention):\n",
    "    if t <= policy_time + tau:\n",
    "        return policy1\n",
    "    elif policy_time + tau < t <= policy_time + tau + l:\n",
    "        return policy1 + (prevention*policy2-policy1)/l*(t-policy_time-tau)\n",
    "    elif policy_time + tau + l < t <= policy_time + 50: \n",
    "        return prevention*policy2\n",
    "    elif policy_time + 50 < t <= policy_time + 52:\n",
    "        return prevention*policy3\n",
    "    elif policy_time + 52 < t <= policy_time + 57:\n",
    "        return prevention*policy4\n",
    "    elif policy_time + 57 < t <= policy_time + 64:\n",
    "        return prevention*policy5\n",
    "    elif policy_time + 64 < t <= policy_time + 81:\n",
    "        return prevention*policy6\n",
    "    elif policy_time + 81 < t <= policy_time + 108:\n",
    "        return prevention*policy7\n",
    "    elif policy_time + 108 < t <= policy_time + 170:\n",
    "        return prevention*policy8"
   ]
  },
  {
   "cell_type": "code",
   "execution_count": 11,
   "metadata": {
    "ExecuteTime": {
     "end_time": "2020-10-27T07:43:42.894581Z",
     "start_time": "2020-10-27T07:43:42.850594Z"
    }
   },
   "outputs": [],
   "source": [
    "def full_pandemic(t,policy_time,policy1,policy2,policy3,policy4,policy5,policy6,policy7,policy8,policy9,policy10,policy11,policy12,policy13,policy14,policy15,l,tau,prevention):\n",
    "    if t <= policy_time + tau:\n",
    "        return policy1\n",
    "    elif policy_time + tau < t <= policy_time + tau + l:\n",
    "        return policy1 + (prevention*policy2-policy1)/l*(t-policy_time-tau)\n",
    "    elif policy_time + tau + l < t <= policy_time + 50: \n",
    "        return prevention*policy2\n",
    "    elif policy_time + 50 < t <= policy_time + 52:\n",
    "        return prevention*policy3\n",
    "    elif policy_time + 52 < t <= policy_time + 57:\n",
    "        return prevention*policy4\n",
    "    elif policy_time + 57 < t <= policy_time + 64:\n",
    "        return prevention*policy5\n",
    "    elif policy_time + 64 < t <= policy_time + 81:\n",
    "        return prevention*policy6\n",
    "    elif policy_time + 81 < t <= policy_time + 108:\n",
    "        return prevention*policy7\n",
    "    elif policy_time + 108 < t <= policy_time + 170:\n",
    "        return prevention*policy8\n",
    "    elif policy_time + 170 < t <= policy_time + 232:\n",
    "        return prevention*policy9\n",
    "    elif policy_time + 232 < t <= policy_time + 239:\n",
    "        return prevention*policy10\n",
    "    elif policy_time + 239 < t <= policy_time + 281:\n",
    "        return prevention*policy11    \n",
    "    elif policy_time + 281 < t <= policy_time + 291:\n",
    "        return prevention*policy12\n",
    "    elif policy_time + 291 < t <= policy_time + 337:\n",
    "        return prevention*policy13\n",
    "    elif policy_time + 337 < t <= policy_time + 343:\n",
    "        return prevention*policy14\n",
    "    else:\n",
    "        return prevention*policy15"
   ]
  },
  {
   "cell_type": "code",
   "execution_count": 12,
   "metadata": {
    "ExecuteTime": {
     "end_time": "2020-10-27T07:43:43.435869Z",
     "start_time": "2020-10-27T07:43:43.392934Z"
    }
   },
   "outputs": [],
   "source": [
    "def full_pandemic_new_lockdown(t,policy_time,policy1,policy2,policy3,policy4,policy5,policy6,policy7,policy8,policy9,policy10,policy11,policy12,l,tau,prevention):\n",
    "    if t <= policy_time + tau:\n",
    "        return policy1\n",
    "    elif policy_time + tau < t <= policy_time + tau + l:\n",
    "        return policy1 + (prevention*policy2-policy1)/l*(t-policy_time-tau)\n",
    "    elif policy_time + tau + l < t <= policy_time + 50: \n",
    "        return prevention*policy2\n",
    "    elif policy_time + 50 < t <= policy_time + 52:\n",
    "        return prevention*policy3\n",
    "    elif policy_time + 52 < t <= policy_time + 57:\n",
    "        return prevention*policy4\n",
    "    elif policy_time + 57 < t <= policy_time + 64:\n",
    "        return prevention*policy5\n",
    "    elif policy_time + 64 < t <= policy_time + 81:\n",
    "        return prevention*policy6\n",
    "    elif policy_time + 81 < t <= policy_time + 108:\n",
    "        return prevention*policy7\n",
    "    elif policy_time + 108 < t <= policy_time + 138:\n",
    "        return prevention*policy8\n",
    "    elif policy_time + 138 < t <= policy_time + 170:\n",
    "        return prevention*policy9\n",
    "    elif policy_time + 170 < t <= policy_time + 218 + tau:\n",
    "        return prevention*policy10\n",
    "    elif policy_time + 218 + tau < t <= policy_time + 218 + tau + l:\n",
    "        return policy10 + (prevention*policy11-policy10)/l*(t - policy_time - 218 - tau)\n",
    "    elif policy_time + 218 + tau + l < t <= policy_time + 218 + 31:\n",
    "        return prevention*policy11\n",
    "    else:\n",
    "        return prevention*policy12"
   ]
  },
  {
   "cell_type": "code",
   "execution_count": 13,
   "metadata": {
    "ExecuteTime": {
     "end_time": "2020-10-27T07:43:43.819433Z",
     "start_time": "2020-10-27T07:43:43.781633Z"
    }
   },
   "outputs": [],
   "source": [
    "def no_contact_reduction(t,policy1,policy2,policy3,policy4,policy5,policy6,policy7,l,tau,prevention):\n",
    "    if 0 < t <=  62:\n",
    "        return prevention*policy1\n",
    "    elif 62 < t <= 69:\n",
    "        return prevention*policy2\n",
    "    elif 69 < t <= 111:\n",
    "        return prevention*policy3\n",
    "    elif 111 < t <= 121:\n",
    "        return prevention*policy4\n",
    "    elif 121 < t <= 167:\n",
    "        return prevention*policy5\n",
    "    elif 167 < t <= 173:\n",
    "        return prevention*policy6 \n",
    "    else:\n",
    "        return prevention*policy7"
   ]
  },
  {
   "cell_type": "markdown",
   "metadata": {},
   "source": [
    "### Initialize model"
   ]
  },
  {
   "cell_type": "code",
   "execution_count": 14,
   "metadata": {
    "ExecuteTime": {
     "end_time": "2020-10-27T07:43:47.852081Z",
     "start_time": "2020-10-27T07:43:47.631721Z"
    }
   },
   "outputs": [],
   "source": [
    "# Load the model parameters using `get_COVID19_SEIRD_parameters()`.\n",
    "params = model_parameters.get_COVID19_SEIRD_parameters()\n",
    "\n",
    "params.update({'policy1': Nc_total,\n",
    "              'policy2': 1.0*Nc_home + (1-0.60)*Nc_work + (1-0.70)*Nc_transport + (1-0.30)*Nc_others + (1-0.80)*Nc_leisure,\n",
    "              'policy3': 1.0*Nc_home + (1-0.50)*Nc_work + (1-0.60)*Nc_transport + (1-0.30)*Nc_others + (1-0.70)*Nc_leisure,\n",
    "              'policy4': 1.0*Nc_home + (1-0.40)*Nc_work + (1-0.55)*Nc_transport + (1-0.25)*Nc_others + (1-0.65)*Nc_leisure,\n",
    "              'policy5': 1.0*Nc_home + (1-0.30)*Nc_work + (1-0.50)*Nc_transport + (1-0.20)*Nc_others + (1-0.60)*Nc_leisure,\n",
    "              'policy6': 1.0*Nc_home + (1-0.30)*Nc_work + (1-0.45)*Nc_transport + (1-0.15)*Nc_others + (1-0.85)*Nc_schools + (1-0.50)*Nc_leisure,\n",
    "              'policy7': 1.0*Nc_home + (1-0.25)*Nc_work + (1-0.35)*Nc_transport + (1-0.10)*Nc_others + (1-0.35)*Nc_schools + (1-0.30)*Nc_leisure,\n",
    "              'policy8': 1.0*Nc_home + (1-0.20)*Nc_work + (1-0.15)*Nc_transport + (1-0.00)*Nc_others + (1-0.00)*Nc_leisure,\n",
    "               'policy_time': samples_dict['lag_time'],\n",
    "              'l': 1,\n",
    "              'tau': 5,\n",
    "              'prevention': 0.5})\n",
    "\n",
    "# Define the initial condition: one exposed inidividual in every age category\n",
    "initial_states = {'S': initN, 'E': np.ones(levels)}\n",
    "# Initialize the model\n",
    "model = models.COVID19_SEIRD(initial_states, params, time_dependent_parameters={'Nc': lockdown_release})"
   ]
  },
  {
   "cell_type": "markdown",
   "metadata": {},
   "source": [
    "## Run model until September 1st"
   ]
  },
  {
   "cell_type": "code",
   "execution_count": 47,
   "metadata": {
    "ExecuteTime": {
     "end_time": "2020-10-27T08:46:52.777163Z",
     "start_time": "2020-10-27T08:46:52.743113Z"
    }
   },
   "outputs": [],
   "source": [
    "end_date = '2020-09-01'"
   ]
  },
  {
   "cell_type": "code",
   "execution_count": 48,
   "metadata": {
    "ExecuteTime": {
     "end_time": "2020-10-27T08:47:22.278608Z",
     "start_time": "2020-10-27T08:46:53.183687Z"
    }
   },
   "outputs": [],
   "source": [
    "out = model.sim(time=end_date, excess_time=samples_dict['lag_time'],N=200,draw_fcn=draw_sample_COVID19_SEIRD,samples=samples_dict)"
   ]
  },
  {
   "cell_type": "code",
   "execution_count": 49,
   "metadata": {
    "ExecuteTime": {
     "end_time": "2020-10-27T08:47:22.321630Z",
     "start_time": "2020-10-27T08:47:22.280675Z"
    }
   },
   "outputs": [],
   "source": [
    "start_date = datetime.datetime.strptime('15-03-2020', '%d-%m-%Y') - datetime.timedelta(days=samples_dict['lag_time'])\n",
    "dates_sep = pd.date_range(start_date, periods=len(out[\"time\"].values)).date"
   ]
  },
  {
   "cell_type": "code",
   "execution_count": 50,
   "metadata": {
    "ExecuteTime": {
     "end_time": "2020-10-27T08:47:22.997439Z",
     "start_time": "2020-10-27T08:47:22.326003Z"
    }
   },
   "outputs": [
    {
     "data": {
      "image/png": "[encoded data removed]",
      "text/plain": [
       "<Figure size 864x288 with 1 Axes>"
      ]
     },
     "metadata": {
      "needs_background": "light"
     },
     "output_type": "display_data"
    }
   ],
   "source": [
    "fig,ax =plt.subplots(figsize=(12,4))\n",
    "ax.fill_between(dates_sep, out[\"H_tot\"].quantile(1-0.90,dim=\"draws\").sum(dim=\"Nc\"), out[\"H_tot\"].quantile(0.90,dim=\"draws\").sum(dim=\"Nc\"),alpha=0.30)\n",
    "ax.plot(dates_sep,out[\"H_tot\"].mean(dim=\"draws\").sum(dim=\"Nc\"),'--')\n",
    "# limit the number of ticks on the axis\n",
    "from covid19model.visualization.output import _apply_tick_locator\n",
    "ax = _apply_tick_locator(ax)"
   ]
  },
  {
   "cell_type": "markdown",
   "metadata": {},
   "source": [
    "## Re-initialize model with September 1st as initial condition"
   ]
  },
  {
   "cell_type": "code",
   "execution_count": 51,
   "metadata": {
    "ExecuteTime": {
     "end_time": "2020-10-27T08:47:28.750357Z",
     "start_time": "2020-10-27T08:47:28.713445Z"
    }
   },
   "outputs": [],
   "source": [
    "def no_contact_reduction(t,policy1,policy2,policy3,policy4,policy5,policy6,policy7,l,tau,prevention):\n",
    "    if 0 < t <=  62:\n",
    "        return prevention*policy1\n",
    "    elif 62 < t <= 69:\n",
    "        return prevention*policy2\n",
    "    elif 69 < t <= 111:\n",
    "        return prevention*policy3\n",
    "    elif 111 < t <= 121:\n",
    "        return prevention*policy4\n",
    "    elif 121 < t <= 167:\n",
    "        return prevention*policy5\n",
    "    elif 167 < t <= 173:\n",
    "        return prevention*policy6 \n",
    "    else:\n",
    "        return prevention*policy7"
   ]
  },
  {
   "cell_type": "code",
   "execution_count": 52,
   "metadata": {
    "ExecuteTime": {
     "end_time": "2020-10-27T08:47:28.938887Z",
     "start_time": "2020-10-27T08:47:28.901812Z"
    }
   },
   "outputs": [],
   "source": [
    "def susceptibility_increase(t,param):\n",
    "    if 0 < t <= 23:\n",
    "        return param\n",
    "    else:\n",
    "        return param*1.20"
   ]
  },
  {
   "cell_type": "code",
   "execution_count": 53,
   "metadata": {
    "ExecuteTime": {
     "end_time": "2020-10-27T08:47:29.087075Z",
     "start_time": "2020-10-27T08:47:29.048052Z"
    }
   },
   "outputs": [],
   "source": [
    "def susceptibility_increase_full(t,param):\n",
    "    if 0 < t <= 170+31:\n",
    "        return param\n",
    "    else:\n",
    "        return param*1.35"
   ]
  },
  {
   "cell_type": "code",
   "execution_count": 54,
   "metadata": {
    "ExecuteTime": {
     "end_time": "2020-10-27T08:47:29.618353Z",
     "start_time": "2020-10-27T08:47:29.392211Z"
    }
   },
   "outputs": [],
   "source": [
    "# Load the model parameters using `get_COVID19_SEIRD_parameters()`.\n",
    "params = model_parameters.get_COVID19_SEIRD_parameters()\n",
    "\n",
    "params.update({'policy1': 1.0*Nc_home + (1-0.00)*Nc_work + (1-0.00)*Nc_transport + (1-0.00)*Nc_others + (1-0.00)*Nc_schools + (1-0.00)*Nc_leisure,\n",
    "              'policy2': 1.0*Nc_home + (1-0.00)*Nc_work + (1-0.00)*Nc_transport + (1-0.00)*Nc_others + (1-1.00)*Nc_schools + (1-0.00)*Nc_leisure,\n",
    "              'policy3': 1.0*Nc_home + (1-0.00)*Nc_work + (1-0.00)*Nc_transport + (1-0.00)*Nc_others + (1-0.00)*Nc_schools + (1-0.00)*Nc_leisure,\n",
    "              'policy4': 1.0*Nc_home + (1-0.00)*Nc_work + (1-0.00)*Nc_transport + (1-0.00)*Nc_others + (1-1.00)*Nc_schools + (1-0.00)*Nc_leisure,\n",
    "              'policy5': 1.0*Nc_home + (1-0.00)*Nc_work + (1-0.00)*Nc_transport + (1-0.00)*Nc_others + (1-0.00)*Nc_schools + (1-0.00)*Nc_leisure,\n",
    "              'policy6': 1.0*Nc_home + (1-0.00)*Nc_work + (1-0.00)*Nc_transport + (1-0.00)*Nc_others + (1-1.00)*Nc_schools + (1-0.00)*Nc_leisure,\n",
    "              'policy7': 1.0*Nc_home + (1-0.00)*Nc_work + (1-0.00)*Nc_transport + (1-0.00)*Nc_others + (1-0.00)*Nc_schools + (1-0.00)*Nc_leisure,\n",
    "              'l' : 0.5,\n",
    "              'tau': 0.5,\n",
    "              'prevention' : 0.5})"
   ]
  },
  {
   "cell_type": "code",
   "execution_count": 55,
   "metadata": {
    "ExecuteTime": {
     "end_time": "2020-10-27T08:47:30.841481Z",
     "start_time": "2020-10-27T08:47:30.756608Z"
    }
   },
   "outputs": [],
   "source": [
    "initial_states = {'S': out['S'].mean(dim=\"draws\").isel(time=170),\n",
    "                  'E': out['E'].mean(dim=\"draws\").isel(time=170),\n",
    "                  'I': out['I'].mean(dim=\"draws\").isel(time=170),\n",
    "                  'A': out['A'].mean(dim=\"draws\").isel(time=170),\n",
    "                  'M': out['M'].mean(dim=\"draws\").isel(time=170),\n",
    "                  'ER': out['ER'].mean(dim=\"draws\").isel(time=170),\n",
    "                  'C': out['C'].mean(dim=\"draws\").isel(time=170),\n",
    "                  'C_icurec': out['C_icurec'].mean(dim=\"draws\").isel(time=170),\n",
    "                  'ICU': out['ICU'].mean(dim=\"draws\").isel(time=170),\n",
    "                  'R': out['R'].mean(dim=\"draws\").isel(time=170),\n",
    "                  'D': out['D'].mean(dim=\"draws\").isel(time=170),\n",
    "                  'H_in': out['H_in'].mean(dim=\"draws\").isel(time=170),\n",
    "                  'H_out': out['H_out'].mean(dim=\"draws\").isel(time=170),\n",
    "                  'H_tot': out['H_tot'].mean(dim=\"draws\").isel(time=170)}\n",
    "\n",
    "# Initialize the model\n",
    "model = models.COVID19_SEIRD(initial_states, params, time_dependent_parameters={'Nc': no_contact_reduction, 's' : susceptibility_increase})"
   ]
  },
  {
   "cell_type": "markdown",
   "metadata": {},
   "source": [
    "## Simulations\n",
    "\n",
    "### S1: all contacts/no contact reduction"
   ]
  },
  {
   "cell_type": "code",
   "execution_count": 23,
   "metadata": {
    "ExecuteTime": {
     "end_time": "2020-10-27T07:46:29.058644Z",
     "start_time": "2020-10-27T07:46:11.981861Z"
    }
   },
   "outputs": [],
   "source": [
    "MC_out_1 = model.sim(300,N=100,draw_fcn=draw_sample_COVID19_SEIRD,samples=samples_dict)"
   ]
  },
  {
   "cell_type": "code",
   "execution_count": 24,
   "metadata": {
    "ExecuteTime": {
     "end_time": "2020-10-27T07:46:29.107488Z",
     "start_time": "2020-10-27T07:46:29.060728Z"
    }
   },
   "outputs": [],
   "source": [
    "start_date = datetime.datetime.strptime('01-09-2020', '%d-%m-%Y')\n",
    "dates = pd.date_range(start_date, periods=len(MC_out_1[\"time\"].values)).date"
   ]
  },
  {
   "cell_type": "code",
   "execution_count": 25,
   "metadata": {
    "ExecuteTime": {
     "end_time": "2020-10-27T07:46:31.032319Z",
     "start_time": "2020-10-27T07:46:30.981332Z"
    },
    "collapsed": true
   },
   "outputs": [
    {
     "data": {
      "text/html": [
       "<div>\n",
       "<style scoped>\n",
       "    .dataframe tbody tr th:only-of-type {\n",
       "        vertical-align: middle;\n",
       "    }\n",
       "\n",
       "    .dataframe tbody tr th {\n",
       "        vertical-align: top;\n",
       "    }\n",
       "\n",
       "    .dataframe thead th {\n",
       "        text-align: right;\n",
       "    }\n",
       "</style>\n",
       "<table border=\"1\" class=\"dataframe\">\n",
       "  <thead>\n",
       "    <tr style=\"text-align: right;\">\n",
       "      <th></th>\n",
       "      <th>DATE</th>\n",
       "      <th>PROVINCE</th>\n",
       "      <th>REGION</th>\n",
       "      <th>NR_REPORTING</th>\n",
       "      <th>TOTAL_IN</th>\n",
       "      <th>TOTAL_IN_ICU</th>\n",
       "      <th>TOTAL_IN_RESP</th>\n",
       "      <th>TOTAL_IN_ECMO</th>\n",
       "      <th>NEW_IN</th>\n",
       "      <th>NEW_OUT</th>\n",
       "    </tr>\n",
       "  </thead>\n",
       "  <tbody>\n",
       "    <tr>\n",
       "      <th>4</th>\n",
       "      <td>2020-03-15</td>\n",
       "      <td>Liège</td>\n",
       "      <td>Wallonia</td>\n",
       "      <td>12</td>\n",
       "      <td>22</td>\n",
       "      <td>2</td>\n",
       "      <td>1</td>\n",
       "      <td>0</td>\n",
       "      <td>4</td>\n",
       "      <td>1</td>\n",
       "    </tr>\n",
       "    <tr>\n",
       "      <th>15</th>\n",
       "      <td>2020-03-16</td>\n",
       "      <td>Liège</td>\n",
       "      <td>Wallonia</td>\n",
       "      <td>13</td>\n",
       "      <td>24</td>\n",
       "      <td>2</td>\n",
       "      <td>2</td>\n",
       "      <td>0</td>\n",
       "      <td>2</td>\n",
       "      <td>1</td>\n",
       "    </tr>\n",
       "    <tr>\n",
       "      <th>26</th>\n",
       "      <td>2020-03-17</td>\n",
       "      <td>Liège</td>\n",
       "      <td>Wallonia</td>\n",
       "      <td>12</td>\n",
       "      <td>29</td>\n",
       "      <td>5</td>\n",
       "      <td>3</td>\n",
       "      <td>0</td>\n",
       "      <td>5</td>\n",
       "      <td>2</td>\n",
       "    </tr>\n",
       "    <tr>\n",
       "      <th>37</th>\n",
       "      <td>2020-03-18</td>\n",
       "      <td>Liège</td>\n",
       "      <td>Wallonia</td>\n",
       "      <td>12</td>\n",
       "      <td>41</td>\n",
       "      <td>2</td>\n",
       "      <td>2</td>\n",
       "      <td>0</td>\n",
       "      <td>13</td>\n",
       "      <td>4</td>\n",
       "    </tr>\n",
       "    <tr>\n",
       "      <th>48</th>\n",
       "      <td>2020-03-19</td>\n",
       "      <td>Liège</td>\n",
       "      <td>Wallonia</td>\n",
       "      <td>13</td>\n",
       "      <td>59</td>\n",
       "      <td>5</td>\n",
       "      <td>2</td>\n",
       "      <td>0</td>\n",
       "      <td>21</td>\n",
       "      <td>4</td>\n",
       "    </tr>\n",
       "    <tr>\n",
       "      <th>...</th>\n",
       "      <td>...</td>\n",
       "      <td>...</td>\n",
       "      <td>...</td>\n",
       "      <td>...</td>\n",
       "      <td>...</td>\n",
       "      <td>...</td>\n",
       "      <td>...</td>\n",
       "      <td>...</td>\n",
       "      <td>...</td>\n",
       "      <td>...</td>\n",
       "    </tr>\n",
       "    <tr>\n",
       "      <th>2424</th>\n",
       "      <td>2020-10-21</td>\n",
       "      <td>Liège</td>\n",
       "      <td>Wallonia</td>\n",
       "      <td>12</td>\n",
       "      <td>644</td>\n",
       "      <td>95</td>\n",
       "      <td>44</td>\n",
       "      <td>2</td>\n",
       "      <td>64</td>\n",
       "      <td>53</td>\n",
       "    </tr>\n",
       "    <tr>\n",
       "      <th>2435</th>\n",
       "      <td>2020-10-22</td>\n",
       "      <td>Liège</td>\n",
       "      <td>Wallonia</td>\n",
       "      <td>12</td>\n",
       "      <td>715</td>\n",
       "      <td>108</td>\n",
       "      <td>49</td>\n",
       "      <td>2</td>\n",
       "      <td>92</td>\n",
       "      <td>51</td>\n",
       "    </tr>\n",
       "    <tr>\n",
       "      <th>2446</th>\n",
       "      <td>2020-10-23</td>\n",
       "      <td>Liège</td>\n",
       "      <td>Wallonia</td>\n",
       "      <td>12</td>\n",
       "      <td>809</td>\n",
       "      <td>120</td>\n",
       "      <td>60</td>\n",
       "      <td>2</td>\n",
       "      <td>125</td>\n",
       "      <td>73</td>\n",
       "    </tr>\n",
       "    <tr>\n",
       "      <th>2457</th>\n",
       "      <td>2020-10-24</td>\n",
       "      <td>Liège</td>\n",
       "      <td>Wallonia</td>\n",
       "      <td>12</td>\n",
       "      <td>832</td>\n",
       "      <td>127</td>\n",
       "      <td>65</td>\n",
       "      <td>2</td>\n",
       "      <td>91</td>\n",
       "      <td>64</td>\n",
       "    </tr>\n",
       "    <tr>\n",
       "      <th>2468</th>\n",
       "      <td>2020-10-25</td>\n",
       "      <td>Liège</td>\n",
       "      <td>Wallonia</td>\n",
       "      <td>12</td>\n",
       "      <td>952</td>\n",
       "      <td>136</td>\n",
       "      <td>72</td>\n",
       "      <td>2</td>\n",
       "      <td>100</td>\n",
       "      <td>34</td>\n",
       "    </tr>\n",
       "  </tbody>\n",
       "</table>\n",
       "<p>225 rows × 10 columns</p>\n",
       "</div>"
      ],
      "text/plain": [
       "           DATE PROVINCE    REGION  NR_REPORTING  TOTAL_IN  TOTAL_IN_ICU  \\\n",
       "4    2020-03-15    Liège  Wallonia            12        22             2   \n",
       "15   2020-03-16    Liège  Wallonia            13        24             2   \n",
       "26   2020-03-17    Liège  Wallonia            12        29             5   \n",
       "37   2020-03-18    Liège  Wallonia            12        41             2   \n",
       "48   2020-03-19    Liège  Wallonia            13        59             5   \n",
       "...         ...      ...       ...           ...       ...           ...   \n",
       "2424 2020-10-21    Liège  Wallonia            12       644            95   \n",
       "2435 2020-10-22    Liège  Wallonia            12       715           108   \n",
       "2446 2020-10-23    Liège  Wallonia            12       809           120   \n",
       "2457 2020-10-24    Liège  Wallonia            12       832           127   \n",
       "2468 2020-10-25    Liège  Wallonia            12       952           136   \n",
       "\n",
       "      TOTAL_IN_RESP  TOTAL_IN_ECMO  NEW_IN  NEW_OUT  \n",
       "4                 1              0       4        1  \n",
       "15                2              0       2        1  \n",
       "26                3              0       5        2  \n",
       "37                2              0      13        4  \n",
       "48                2              0      21        4  \n",
       "...             ...            ...     ...      ...  \n",
       "2424             44              2      64       53  \n",
       "2435             49              2      92       51  \n",
       "2446             60              2     125       73  \n",
       "2457             65              2      91       64  \n",
       "2468             72              2     100       34  \n",
       "\n",
       "[225 rows x 10 columns]"
      ]
     },
     "execution_count": 25,
     "metadata": {},
     "output_type": "execute_result"
    }
   ],
   "source": [
    "Luik_hosp_data"
   ]
  },
  {
   "cell_type": "code",
   "execution_count": 26,
   "metadata": {
    "ExecuteTime": {
     "end_time": "2020-10-27T07:46:35.571367Z",
     "start_time": "2020-10-27T07:46:34.446878Z"
    }
   },
   "outputs": [
    {
     "data": {
      "image/png": "[encoded data removed]",
      "text/plain": [
       "<Figure size 864x432 with 1 Axes>"
      ]
     },
     "metadata": {
      "needs_background": "light"
     },
     "output_type": "display_data"
    }
   ],
   "source": [
    "fig,ax =plt.subplots(figsize=(12,6))\n",
    "ax.fill_between(dates, MC_out_1[\"H_tot\"].quantile(1-0.80,dim=\"draws\").sum(dim=\"Nc\"), MC_out_1[\"H_tot\"].quantile(0.80,dim=\"draws\").sum(dim=\"Nc\"),alpha=0.30)\n",
    "ax.plot(dates,MC_out_1[\"H_tot\"].mean(dim=\"draws\").sum(dim=\"Nc\"),'--')\n",
    "ax.plot(Luik_hosp_data.DATE,Luik_hosp_data[\"TOTAL_IN\"],'o',color='black')\n",
    "ax.fill_between(dates_sep, out[\"H_tot\"].quantile(1-0.90,dim=\"draws\").sum(dim=\"Nc\"), out[\"H_tot\"].quantile(0.90,dim=\"draws\").sum(dim=\"Nc\"),alpha=0.30)\n",
    "ax.plot(dates_sep,out[\"H_tot\"].mean(dim=\"draws\").sum(dim=\"Nc\"),'--')\n",
    "# limit the number of ticks on the axis\n",
    "from covid19model.visualization.output import _apply_tick_locator\n",
    "ax = _apply_tick_locator(ax)"
   ]
  },
  {
   "cell_type": "code",
   "execution_count": null,
   "metadata": {
    "ExecuteTime": {
     "end_time": "2020-10-26T21:21:22.227677Z",
     "start_time": "2020-10-26T21:21:22.040018Z"
    }
   },
   "outputs": [],
   "source": [
    "# New hospitalisations\n",
    "S1_incidences_mean = MC_out_1[\"H_in\"].sum(dim=\"Nc\").mean(dim=\"draws\").values\n",
    "S1_incidences_LL = MC_out_1[\"H_in\"].sum(dim=\"Nc\").quantile(0.2,dim=\"draws\").values\n",
    "S1_incidences_UL = MC_out_1[\"H_in\"].sum(dim=\"Nc\").quantile(0.8,dim=\"draws\").values\n",
    "# Hospital totals\n",
    "S1_load_mean = MC_out_1[\"H_tot\"].sum(dim=\"Nc\").mean(dim=\"draws\").values\n",
    "S1_load_LL = MC_out_1[\"H_tot\"].sum(dim=\"Nc\").quantile(0.2,dim=\"draws\").values\n",
    "S1_load_UL = MC_out_1[\"H_tot\"].sum(dim=\"Nc\").quantile(0.8,dim=\"draws\").values"
   ]
  },
  {
   "cell_type": "markdown",
   "metadata": {},
   "source": [
    "### S1: all contacts and full pandemic simulation"
   ]
  },
  {
   "cell_type": "code",
   "execution_count": 27,
   "metadata": {
    "ExecuteTime": {
     "end_time": "2020-10-27T07:51:16.748172Z",
     "start_time": "2020-10-27T07:51:16.506461Z"
    }
   },
   "outputs": [],
   "source": [
    "# Load the model parameters using `get_COVID19_SEIRD_parameters()`.\n",
    "params = model_parameters.get_COVID19_SEIRD_parameters()\n",
    "\n",
    "params.update({'policy1': Nc_total,\n",
    "              'policy2': 1.0*Nc_home + (1-0.60)*Nc_work + (1-0.70)*Nc_transport + (1-0.30)*Nc_others + (1-0.80)*Nc_leisure,\n",
    "              'policy3': 1.0*Nc_home + (1-0.50)*Nc_work + (1-0.60)*Nc_transport + (1-0.30)*Nc_others + (1-0.70)*Nc_leisure,\n",
    "              'policy4': 1.0*Nc_home + (1-0.40)*Nc_work + (1-0.55)*Nc_transport + (1-0.25)*Nc_others + (1-0.65)*Nc_leisure,\n",
    "              'policy5': 1.0*Nc_home + (1-0.30)*Nc_work + (1-0.50)*Nc_transport + (1-0.20)*Nc_others + (1-0.60)*Nc_leisure,\n",
    "              'policy6': 1.0*Nc_home + (1-0.30)*Nc_work + (1-0.45)*Nc_transport + (1-0.15)*Nc_others + (1-0.85)*Nc_schools + (1-0.50)*Nc_leisure,\n",
    "              'policy7': 1.0*Nc_home + (1-0.25)*Nc_work + (1-0.35)*Nc_transport + (1-0.10)*Nc_others + (1-0.35)*Nc_schools + (1-0.30)*Nc_leisure,\n",
    "              'policy8': 1.0*Nc_home + (1-0.20)*Nc_work + (1-0.15)*Nc_transport + (1-0.00)*Nc_others + (1-0.00)*Nc_leisure,\n",
    "              'policy9': 1.0*Nc_home + (1-0.00)*Nc_work + (1-0.00)*Nc_transport + (1-0.00)*Nc_others + (1-0.00)*Nc_schools + (1-0.00)*Nc_leisure,\n",
    "              'policy10': 1.0*Nc_home + (1-0.00)*Nc_work + (1-0.00)*Nc_transport + (1-0.00)*Nc_others + (1-1.00)*Nc_schools + (1-0.00)*Nc_leisure,\n",
    "              'policy11': 1.0*Nc_home + (1-0.00)*Nc_work + (1-0.00)*Nc_transport + (1-0.00)*Nc_others + (1-0.00)*Nc_schools + (1-0.00)*Nc_leisure,\n",
    "              'policy12': 1.0*Nc_home + (1-0.00)*Nc_work + (1-0.00)*Nc_transport + (1-0.00)*Nc_others + (1-1.00)*Nc_schools + (1-0.00)*Nc_leisure,\n",
    "              'policy13': 1.0*Nc_home + (1-0.00)*Nc_work + (1-0.00)*Nc_transport + (1-0.00)*Nc_others + (1-0.00)*Nc_schools + (1-0.00)*Nc_leisure,\n",
    "              'policy14': 1.0*Nc_home + (1-0.00)*Nc_work + (1-0.00)*Nc_transport + (1-0.00)*Nc_others + (1-1.00)*Nc_schools + (1-0.00)*Nc_leisure,\n",
    "              'policy15': 1.0*Nc_home + (1-0.00)*Nc_work + (1-0.00)*Nc_transport + (1-0.00)*Nc_others + (1-0.00)*Nc_schools + (1-0.00)*Nc_leisure,\n",
    "              'policy_time': samples_dict['lag_time'],\n",
    "              'l': 1,\n",
    "              'tau': 5,\n",
    "              'prevention': 0.5})\n",
    "\n",
    "# Define the initial condition: one exposed inidividual in every age category\n",
    "initial_states = {'S': initN, 'E': np.ones(levels)}\n",
    "# Initialize the model\n",
    "model = models.COVID19_SEIRD(initial_states, params, time_dependent_parameters={'Nc': full_pandemic, 's' : susceptibility_increase_full})"
   ]
  },
  {
   "cell_type": "code",
   "execution_count": 28,
   "metadata": {
    "ExecuteTime": {
     "end_time": "2020-10-27T07:51:31.543579Z",
     "start_time": "2020-10-27T07:51:16.750760Z"
    }
   },
   "outputs": [],
   "source": [
    "out_full = model.sim(500,N=50,draw_fcn=draw_sample_COVID19_SEIRD,samples=samples_dict)"
   ]
  },
  {
   "cell_type": "code",
   "execution_count": 29,
   "metadata": {
    "ExecuteTime": {
     "end_time": "2020-10-27T07:51:31.601953Z",
     "start_time": "2020-10-27T07:51:31.546197Z"
    }
   },
   "outputs": [],
   "source": [
    "start_date = datetime.datetime.strptime('15-03-2020', '%d-%m-%Y') - datetime.timedelta(days=samples_dict['lag_time'])\n",
    "dates_full = pd.date_range(start_date, periods=len(out_full[\"time\"].values)).date"
   ]
  },
  {
   "cell_type": "code",
   "execution_count": 31,
   "metadata": {
    "ExecuteTime": {
     "end_time": "2020-10-27T07:53:09.768637Z",
     "start_time": "2020-10-27T07:53:08.465350Z"
    }
   },
   "outputs": [
    {
     "data": {
      "image/png": "[encoded data removed]",
      "text/plain": [
       "<Figure size 864x432 with 1 Axes>"
      ]
     },
     "metadata": {
      "needs_background": "light"
     },
     "output_type": "display_data"
    }
   ],
   "source": [
    "fig,ax =plt.subplots(figsize=(12,6))\n",
    "ax.fill_between(dates_full, out_full[\"H_tot\"].quantile(1-0.80,dim=\"draws\").sum(dim=\"Nc\"), out_full[\"H_tot\"].quantile(0.80,dim=\"draws\").sum(dim=\"Nc\"),alpha=0.30)\n",
    "ax.plot(dates_full,out_full[\"H_tot\"].mean(dim=\"draws\").sum(dim=\"Nc\"),'--')\n",
    "ax.plot(Luik_hosp_data.DATE,Luik_hosp_data[\"TOTAL_IN\"],'o',color='black')\n",
    "# limit the number of ticks on the axis\n",
    "from covid19model.visualization.output import _apply_tick_locator\n",
    "ax = _apply_tick_locator(ax)"
   ]
  },
  {
   "cell_type": "markdown",
   "metadata": {},
   "source": [
    "## Lockdown scenarios: one month lockdown"
   ]
  },
  {
   "cell_type": "markdown",
   "metadata": {},
   "source": [
    "### lockdown as strict as March-May 2020 lockdown"
   ]
  },
  {
   "cell_type": "code",
   "execution_count": 35,
   "metadata": {
    "ExecuteTime": {
     "end_time": "2020-10-27T08:29:28.301722Z",
     "start_time": "2020-10-27T08:29:27.902552Z"
    }
   },
   "outputs": [],
   "source": [
    "# Load the model parameters using `get_COVID19_SEIRD_parameters()`.\n",
    "params = model_parameters.get_COVID19_SEIRD_parameters()\n",
    "\n",
    "params.update({'policy1': Nc_total,\n",
    "              'policy2': 1.0*Nc_home + (1-0.60)*Nc_work + (1-0.70)*Nc_transport + (1-0.30)*Nc_others + (1-0.80)*Nc_leisure,\n",
    "              'policy3': 1.0*Nc_home + (1-0.50)*Nc_work + (1-0.60)*Nc_transport + (1-0.30)*Nc_others + (1-0.70)*Nc_leisure,\n",
    "              'policy4': 1.0*Nc_home + (1-0.40)*Nc_work + (1-0.55)*Nc_transport + (1-0.25)*Nc_others + (1-0.65)*Nc_leisure,\n",
    "              'policy5': 1.0*Nc_home + (1-0.30)*Nc_work + (1-0.50)*Nc_transport + (1-0.20)*Nc_others + (1-0.60)*Nc_leisure,\n",
    "              'policy6': 1.0*Nc_home + (1-0.30)*Nc_work + (1-0.45)*Nc_transport + (1-0.15)*Nc_others + (1-0.85)*Nc_schools + (1-0.50)*Nc_leisure,\n",
    "              'policy7': 1.0*Nc_home + (1-0.25)*Nc_work + (1-0.35)*Nc_transport + (1-0.10)*Nc_others + (1-0.35)*Nc_schools + (1-0.30)*Nc_leisure,\n",
    "              'policy8': 1.0*Nc_home + (1-0.20)*Nc_work + (1-0.25)*Nc_transport + (1-0.05)*Nc_others + (1-0.30)*Nc_leisure,\n",
    "              'policy9': 1.0*Nc_home + (1-0.30)*Nc_work + (1-0.35)*Nc_transport + (1-0.15)*Nc_others + (1-0.40)*Nc_leisure,\n",
    "              'policy10': 1.0*Nc_home + (1-0.00)*Nc_work + (1-0.00)*Nc_transport + (1-0.00)*Nc_others + (1-0.00)*Nc_schools + (1-0.00)*Nc_leisure,\n",
    "              'policy11': 1.0*Nc_home + (1-0.60)*Nc_work + (1-0.70)*Nc_transport + (1-0.30)*Nc_others + (1-0.00)*Nc_schools + (1-0.80)*Nc_leisure,\n",
    "              'policy12': 1.0*Nc_home + (1-0.00)*Nc_work + (1-0.00)*Nc_transport + (1-0.00)*Nc_others + (1-0.00)*Nc_schools + (1-0.00)*Nc_leisure,\n",
    "              'policy_time': samples_dict['lag_time'],\n",
    "              'l': 1,\n",
    "              'tau': 5,\n",
    "              'prevention': 0.5})\n",
    "\n",
    "# Define the initial condition: one exposed inidividual in every age category\n",
    "initial_states = {'S': initN, 'E': np.ones(levels)}\n",
    "# Initialize the model\n",
    "model = models.COVID19_SEIRD(initial_states, params, time_dependent_parameters={'Nc': full_pandemic_new_lockdown, 's' : susceptibility_increase_full})"
   ]
  },
  {
   "cell_type": "code",
   "execution_count": 36,
   "metadata": {
    "ExecuteTime": {
     "end_time": "2020-10-27T08:36:23.018574Z",
     "start_time": "2020-10-27T08:29:28.304488Z"
    }
   },
   "outputs": [],
   "source": [
    "full = model.sim(360,N=1000,draw_fcn=draw_sample_COVID19_SEIRD,samples=samples_dict)"
   ]
  },
  {
   "cell_type": "markdown",
   "metadata": {},
   "source": [
    "### Half as strict as March-May 2020 lockdown"
   ]
  },
  {
   "cell_type": "code",
   "execution_count": 32,
   "metadata": {
    "ExecuteTime": {
     "end_time": "2020-10-27T07:55:39.034265Z",
     "start_time": "2020-10-27T07:55:38.697953Z"
    }
   },
   "outputs": [],
   "source": [
    "# Load the model parameters using `get_COVID19_SEIRD_parameters()`.\n",
    "params = model_parameters.get_COVID19_SEIRD_parameters()\n",
    "\n",
    "params.update({'policy1': Nc_total,\n",
    "              'policy2': 1.0*Nc_home + (1-0.60)*Nc_work + (1-0.70)*Nc_transport + (1-0.30)*Nc_others + (1-0.80)*Nc_leisure,\n",
    "              'policy3': 1.0*Nc_home + (1-0.50)*Nc_work + (1-0.60)*Nc_transport + (1-0.30)*Nc_others + (1-0.70)*Nc_leisure,\n",
    "              'policy4': 1.0*Nc_home + (1-0.40)*Nc_work + (1-0.55)*Nc_transport + (1-0.25)*Nc_others + (1-0.65)*Nc_leisure,\n",
    "              'policy5': 1.0*Nc_home + (1-0.30)*Nc_work + (1-0.50)*Nc_transport + (1-0.20)*Nc_others + (1-0.60)*Nc_leisure,\n",
    "              'policy6': 1.0*Nc_home + (1-0.30)*Nc_work + (1-0.45)*Nc_transport + (1-0.15)*Nc_others + (1-0.85)*Nc_schools + (1-0.50)*Nc_leisure,\n",
    "              'policy7': 1.0*Nc_home + (1-0.25)*Nc_work + (1-0.35)*Nc_transport + (1-0.10)*Nc_others + (1-0.35)*Nc_schools + (1-0.30)*Nc_leisure,\n",
    "              'policy8': 1.0*Nc_home + (1-0.20)*Nc_work + (1-0.25)*Nc_transport + (1-0.05)*Nc_others + (1-0.30)*Nc_leisure,\n",
    "              'policy9': 1.0*Nc_home + (1-0.30)*Nc_work + (1-0.35)*Nc_transport + (1-0.15)*Nc_others + (1-0.40)*Nc_leisure,\n",
    "              'policy10': 1.0*Nc_home + (1-0.00)*Nc_work + (1-0.00)*Nc_transport + (1-0.00)*Nc_others + (1-0.00)*Nc_schools + (1-0.00)*Nc_leisure,\n",
    "              'policy11': 1.0*Nc_home + (1-0.30)*Nc_work + (1-0.35)*Nc_transport + (1-0.15)*Nc_others + (1-0.00)*Nc_schools + (1-0.40)*Nc_leisure,\n",
    "              'policy12': 1.0*Nc_home + (1-0.00)*Nc_work + (1-0.00)*Nc_transport + (1-0.00)*Nc_others + (1-0.00)*Nc_schools + (1-0.00)*Nc_leisure,\n",
    "              'policy_time': samples_dict['lag_time'],\n",
    "              'l': 1,\n",
    "              'tau': 5,\n",
    "              'prevention': 0.5})\n",
    "\n",
    "# Define the initial condition: one exposed inidividual in every age category\n",
    "initial_states = {'S': initN, 'E': np.ones(levels)}\n",
    "# Initialize the model\n",
    "model = models.COVID19_SEIRD(initial_states, params, time_dependent_parameters={'Nc': full_pandemic_new_lockdown, 's' : susceptibility_increase_full})"
   ]
  },
  {
   "cell_type": "code",
   "execution_count": 33,
   "metadata": {
    "ExecuteTime": {
     "end_time": "2020-10-27T08:02:46.848202Z",
     "start_time": "2020-10-27T07:55:39.265903Z"
    }
   },
   "outputs": [],
   "source": [
    "half = model.sim(360,N=1000,draw_fcn=draw_sample_COVID19_SEIRD,samples=samples_dict)"
   ]
  },
  {
   "cell_type": "code",
   "execution_count": 37,
   "metadata": {
    "ExecuteTime": {
     "end_time": "2020-10-27T08:36:23.169022Z",
     "start_time": "2020-10-27T08:36:23.023849Z"
    }
   },
   "outputs": [],
   "source": [
    "start_date = datetime.datetime.strptime('15-03-2020', '%d-%m-%Y') - datetime.timedelta(days=samples_dict['lag_time'])\n",
    "dates_full = pd.date_range(start_date, periods=len(full[\"time\"].values)).date"
   ]
  },
  {
   "cell_type": "code",
   "execution_count": 40,
   "metadata": {
    "ExecuteTime": {
     "end_time": "2020-10-27T08:38:07.921004Z",
     "start_time": "2020-10-27T08:38:05.760137Z"
    },
    "scrolled": false
   },
   "outputs": [
    {
     "data": {
      "image/png": "[encoded data removed]",
      "text/plain": [
       "<Figure size 864x432 with 2 Axes>"
      ]
     },
     "metadata": {
      "needs_background": "light"
     },
     "output_type": "display_data"
    }
   ],
   "source": [
    "from covid19model.visualization.output import _apply_tick_locator\n",
    "\n",
    "fig,axs =plt.subplots(2,figsize=(12,6),sharex=True)\n",
    "\n",
    "clr = ['red', 'orange']\n",
    "out = [half, full]\n",
    "titles=['50% intensity','100% intensity']\n",
    "plt.suptitle('Lockdown length: one month')\n",
    "im = matplotlib.image.imread('../docs/_static/figs/logo_ugent.png')\n",
    "\n",
    "for i in range(len(axs)):\n",
    "    ax = axs[i]    \n",
    "    ax.plot(Luik_hosp_data.DATE,Luik_hosp_data[\"TOTAL_IN\"],'o',color='black')\n",
    "    ax.fill_between(dates_full[samples_dict['lag_time']:], out[i][\"H_tot\"].quantile(0.20,dim=\"draws\").sum(dim=\"Nc\")[samples_dict['lag_time']:], out[i][\"H_tot\"].quantile(0.80,dim=\"draws\").sum(dim=\"Nc\")[samples_dict['lag_time']:],alpha=0.30,color=clr[i])\n",
    "    ax.plot(dates_full[samples_dict['lag_time']:],out[i][\"H_tot\"].mean(dim=\"draws\").sum(dim=\"Nc\")[samples_dict['lag_time']:],'--',color=clr[i])\n",
    "    ax.set_ylabel('Hospital total')\n",
    "    ax.set_ylim(0,6000)\n",
    "    ax.set_title(titles[i])\n",
    "    ax = _apply_tick_locator(ax)\n",
    "\n",
    "# plt.savefig('../results/FAGG-long-term-predictions/one_month_lockdown.jpg', dpi=400, bbox_inches='tight',orientation='portrait', papertype='a4')\n",
    "# plt.savefig('../results/FAGG-long-term-predictions/one_month_lockdown.pdf',bbox_inches='tight',orientation='portrait', papertype='a4')"
   ]
  },
  {
   "cell_type": "markdown",
   "metadata": {},
   "source": [
    "## Lockdown scenarios: prolonged lockdown"
   ]
  },
  {
   "cell_type": "markdown",
   "metadata": {},
   "source": [
    "### As strict as March-May 2020 lockdown"
   ]
  },
  {
   "cell_type": "code",
   "execution_count": null,
   "metadata": {},
   "outputs": [],
   "source": [
    "# Load the model parameters using `get_COVID19_SEIRD_parameters()`.\n",
    "params = model_parameters.get_COVID19_SEIRD_parameters()\n",
    "\n",
    "params.update({'policy1': Nc_total,\n",
    "              'policy2': 1.0*Nc_home + (1-0.60)*Nc_work + (1-0.70)*Nc_transport + (1-0.30)*Nc_others + (1-0.80)*Nc_leisure,\n",
    "              'policy3': 1.0*Nc_home + (1-0.50)*Nc_work + (1-0.60)*Nc_transport + (1-0.30)*Nc_others + (1-0.70)*Nc_leisure,\n",
    "              'policy4': 1.0*Nc_home + (1-0.40)*Nc_work + (1-0.55)*Nc_transport + (1-0.25)*Nc_others + (1-0.65)*Nc_leisure,\n",
    "              'policy5': 1.0*Nc_home + (1-0.30)*Nc_work + (1-0.50)*Nc_transport + (1-0.20)*Nc_others + (1-0.60)*Nc_leisure,\n",
    "              'policy6': 1.0*Nc_home + (1-0.30)*Nc_work + (1-0.45)*Nc_transport + (1-0.15)*Nc_others + (1-0.85)*Nc_schools + (1-0.50)*Nc_leisure,\n",
    "              'policy7': 1.0*Nc_home + (1-0.25)*Nc_work + (1-0.35)*Nc_transport + (1-0.10)*Nc_others + (1-0.35)*Nc_schools + (1-0.30)*Nc_leisure,\n",
    "              'policy8': 1.0*Nc_home + (1-0.20)*Nc_work + (1-0.25)*Nc_transport + (1-0.05)*Nc_others + (1-0.30)*Nc_leisure,\n",
    "              'policy9': 1.0*Nc_home + (1-0.30)*Nc_work + (1-0.35)*Nc_transport + (1-0.15)*Nc_others + (1-0.40)*Nc_leisure,\n",
    "              'policy10': 1.0*Nc_home + (1-0.00)*Nc_work + (1-0.00)*Nc_transport + (1-0.00)*Nc_others + (1-0.00)*Nc_schools + (1-0.00)*Nc_leisure,\n",
    "              'policy11': 1.0*Nc_home + (1-0.60)*Nc_work + (1-0.70)*Nc_transport + (1-0.30)*Nc_others + (1-0.00)*Nc_schools + (1-0.80)*Nc_leisure,\n",
    "              'policy12': 1.0*Nc_home + (1-0.60)*Nc_work + (1-0.70)*Nc_transport + (1-0.30)*Nc_others + (1-0.00)*Nc_schools + (1-0.80)*Nc_leisure,\n",
    "              'policy_time': samples_dict['lag_time'],\n",
    "              'l': 1,\n",
    "              'tau': 5,\n",
    "              'prevention': 0.5})\n",
    "\n",
    "# Define the initial condition: one exposed inidividual in every age category\n",
    "initial_states = {'S': initN, 'E': np.ones(levels)}\n",
    "# Initialize the model\n",
    "model = models.COVID19_SEIRD(initial_states, params, time_dependent_parameters={'Nc': full_pandemic_new_lockdown, 's' : susceptibility_increase_full})"
   ]
  },
  {
   "cell_type": "code",
   "execution_count": null,
   "metadata": {},
   "outputs": [],
   "source": [
    "full = model.sim(500,N=1000,draw_fcn=draw_sample_COVID19_SEIRD,samples=samples_dict)"
   ]
  },
  {
   "cell_type": "markdown",
   "metadata": {},
   "source": [
    "## Scenario: prolonged  lockdown, half as strict as March-May 2020 lockdown"
   ]
  },
  {
   "cell_type": "code",
   "execution_count": null,
   "metadata": {},
   "outputs": [],
   "source": [
    "# Load the model parameters using `get_COVID19_SEIRD_parameters()`.\n",
    "params = model_parameters.get_COVID19_SEIRD_parameters()\n",
    "\n",
    "params.update({'policy1': Nc_total,\n",
    "              'policy2': 1.0*Nc_home + (1-0.60)*Nc_work + (1-0.70)*Nc_transport + (1-0.30)*Nc_others + (1-0.80)*Nc_leisure,\n",
    "              'policy3': 1.0*Nc_home + (1-0.50)*Nc_work + (1-0.60)*Nc_transport + (1-0.30)*Nc_others + (1-0.70)*Nc_leisure,\n",
    "              'policy4': 1.0*Nc_home + (1-0.40)*Nc_work + (1-0.55)*Nc_transport + (1-0.25)*Nc_others + (1-0.65)*Nc_leisure,\n",
    "              'policy5': 1.0*Nc_home + (1-0.30)*Nc_work + (1-0.50)*Nc_transport + (1-0.20)*Nc_others + (1-0.60)*Nc_leisure,\n",
    "              'policy6': 1.0*Nc_home + (1-0.30)*Nc_work + (1-0.45)*Nc_transport + (1-0.15)*Nc_others + (1-0.85)*Nc_schools + (1-0.50)*Nc_leisure,\n",
    "              'policy7': 1.0*Nc_home + (1-0.25)*Nc_work + (1-0.35)*Nc_transport + (1-0.10)*Nc_others + (1-0.35)*Nc_schools + (1-0.30)*Nc_leisure,\n",
    "              'policy8': 1.0*Nc_home + (1-0.20)*Nc_work + (1-0.25)*Nc_transport + (1-0.05)*Nc_others + (1-0.30)*Nc_leisure,\n",
    "              'policy9': 1.0*Nc_home + (1-0.30)*Nc_work + (1-0.35)*Nc_transport + (1-0.15)*Nc_others + (1-0.40)*Nc_leisure,\n",
    "              'policy10': 1.0*Nc_home + (1-0.00)*Nc_work + (1-0.00)*Nc_transport + (1-0.00)*Nc_others + (1-0.00)*Nc_schools + (1-0.00)*Nc_leisure,\n",
    "              'policy11': 1.0*Nc_home + (1-0.30)*Nc_work + (1-0.35)*Nc_transport + (1-0.15)*Nc_others + (1-0.00)*Nc_schools + (1-0.40)*Nc_leisure,\n",
    "              'policy12': 1.0*Nc_home + (1-0.30)*Nc_work + (1-0.35)*Nc_transport + (1-0.15)*Nc_others + (1-0.00)*Nc_schools + (1-0.40)*Nc_leisure,\n",
    "              'policy_time': samples_dict['lag_time'],\n",
    "              'l': 1,\n",
    "              'tau': 5,\n",
    "              'prevention': 0.5})\n",
    "\n",
    "# Define the initial condition: one exposed inidividual in every age category\n",
    "initial_states = {'S': initN, 'E': np.ones(levels)}\n",
    "# Initialize the model\n",
    "model = models.COVID19_SEIRD(initial_states, params, time_dependent_parameters={'Nc': full_pandemic_new_lockdown, 's' : susceptibility_increase_full})"
   ]
  },
  {
   "cell_type": "code",
   "execution_count": null,
   "metadata": {},
   "outputs": [],
   "source": [
    "half = model.sim(500,N=1000,draw_fcn=draw_sample_COVID19_SEIRD,samples=samples_dict)"
   ]
  },
  {
   "cell_type": "code",
   "execution_count": null,
   "metadata": {},
   "outputs": [],
   "source": [
    "start_date = datetime.datetime.strptime('15-03-2020', '%d-%m-%Y') - datetime.timedelta(days=samples_dict['lag_time'])\n",
    "dates_full = pd.date_range(start_date, periods=len(full[\"time\"].values)).date"
   ]
  },
  {
   "cell_type": "code",
   "execution_count": null,
   "metadata": {},
   "outputs": [],
   "source": [
    "from covid19model.visualization.output import _apply_tick_locator\n",
    "\n",
    "fig,axs =plt.subplots(2,figsize=(12,6),sharex=True)\n",
    "\n",
    "clr = ['red', 'orange']\n",
    "out = [half, full]\n",
    "titles=['50% intensity','100% intensity']\n",
    "plt.suptitle('Lockdown length: prolonged')\n",
    "\n",
    "for i in range(len(axs)):\n",
    "    ax = axs[i]    \n",
    "    ax.plot(df_sciensano.index,df_sciensano[\"H_tot\"],'o',color='black')\n",
    "    ax.fill_between(dates_full[samples_dict['lag_time']:], out[i][\"H_tot\"].quantile(0.20,dim=\"draws\").sum(dim=\"Nc\")[samples_dict['lag_time']:], out[i][\"H_tot\"].quantile(0.80,dim=\"draws\").sum(dim=\"Nc\")[samples_dict['lag_time']:],alpha=0.30,color=clr[i])\n",
    "    ax.plot(dates_full[samples_dict['lag_time']:],out[i][\"H_tot\"].mean(dim=\"draws\").sum(dim=\"Nc\")[samples_dict['lag_time']:],'--',color=clr[i])\n",
    "    ax.set_ylabel('Hospital total')\n",
    "    ax.set_ylim(0,18000)\n",
    "    ax.set_title(titles[i])\n",
    "    ax = _apply_tick_locator(ax)\n",
    "    \n",
    "plt.savefig('../results/FAGG-long-term-predictions/prolonged_lockdown.jpg', dpi=400, bbox_inches='tight',orientation='portrait', papertype='a4')\n",
    "plt.savefig('../results/FAGG-long-term-predictions/prolonged_lockdown.pdf',bbox_inches='tight',orientation='portrait', papertype='a4')"
   ]
  },
  {
   "cell_type": "markdown",
   "metadata": {},
   "source": [
    "### S2: -10% contacts starting October 16th"
   ]
  },
  {
   "cell_type": "code",
   "execution_count": null,
   "metadata": {},
   "outputs": [],
   "source": [
    "def contact_reduction(t,param,policy1,policy2,policy3,policy4,policy5,policy6,policy7,policy8,l,tau,prevention):\n",
    "    if 0 < t <= 45:\n",
    "        return prevention*policy1\n",
    "    elif 45 < t <=  62:\n",
    "        return prevention*policy2\n",
    "    elif 62 < t <= 69:\n",
    "        return prevention*policy3\n",
    "    elif 69 < t <= 111:\n",
    "        return prevention*policy4\n",
    "    elif 111 < t <= 121:\n",
    "        return prevention*policy5\n",
    "    elif 121 < t <= 167:\n",
    "        return prevention*policy6\n",
    "    elif 167 < t <= 173:\n",
    "        return prevention*policy7 \n",
    "    else:\n",
    "        return prevention*policy8"
   ]
  },
  {
   "cell_type": "code",
   "execution_count": null,
   "metadata": {},
   "outputs": [],
   "source": [
    "# Load the model parameters using `get_COVID19_SEIRD_parameters()`.\n",
    "params = model_parameters.get_COVID19_SEIRD_parameters()\n",
    "\n",
    "params.update({'policy1': 1.0*Nc_home + (1-0.00)*Nc_work + (1-0.00)*Nc_transport + (1-0.00)*Nc_others + (1-0.00)*Nc_schools + (1-0.00)*Nc_leisure,\n",
    "              'policy2': 1.0*Nc_home + (1-0.10)*Nc_work + (1-0.10)*Nc_transport + (1-0.10)*Nc_others + (1-1.00)*Nc_schools + (1-0.10)*Nc_leisure,\n",
    "              'policy3': 1.0*Nc_home + (1-0.10)*Nc_work + (1-0.10)*Nc_transport + (1-0.10)*Nc_others + (1-1.00)*Nc_schools + (1-0.10)*Nc_leisure,\n",
    "              'policy4': 1.0*Nc_home + (1-0.10)*Nc_work + (1-0.10)*Nc_transport + (1-0.10)*Nc_others + (1-0.00)*Nc_schools + (1-0.10)*Nc_leisure,\n",
    "              'policy5': 1.0*Nc_home + (1-0.10)*Nc_work + (1-0.10)*Nc_transport + (1-0.10)*Nc_others + (1-1.00)*Nc_schools + (1-0.10)*Nc_leisure,\n",
    "              'policy6': 1.0*Nc_home + (1-0.10)*Nc_work + (1-0.10)*Nc_transport + (1-0.10)*Nc_others + (1-0.00)*Nc_schools + (1-0.10)*Nc_leisure,\n",
    "              'policy7': 1.0*Nc_home + (1-0.10)*Nc_work + (1-0.10)*Nc_transport + (1-0.10)*Nc_others + (1-1.00)*Nc_schools + (1-0.10)*Nc_leisure,\n",
    "              'policy8': 1.0*Nc_home + (1-0.10)*Nc_work + (1-0.10)*Nc_transport + (1-0.10)*Nc_others + (1-0.00)*Nc_schools + (1-0.10)*Nc_leisure,\n",
    "              'l' : 1,\n",
    "              'tau' : 5,\n",
    "              'prevention': 0.5})\n",
    "\n",
    "# Re-initialize the model\n",
    "model = models.COVID19_SEIRD(initial_states, params, time_dependent_parameters={'Nc': contact_reduction})"
   ]
  },
  {
   "cell_type": "code",
   "execution_count": null,
   "metadata": {},
   "outputs": [],
   "source": [
    "model.parameters['s']=model.parameters['s']*1.10"
   ]
  },
  {
   "cell_type": "code",
   "execution_count": null,
   "metadata": {},
   "outputs": [],
   "source": [
    "MC_out_2 = model.sim(300,N=100,draw_fcn=draw_sample_COVID19_SEIRD,samples=samples_dict)"
   ]
  },
  {
   "cell_type": "code",
   "execution_count": null,
   "metadata": {},
   "outputs": [],
   "source": [
    "fig,ax =plt.subplots(figsize=(12,4))\n",
    "ax.fill_between(dates, MC_out_2[\"H_tot\"].quantile(1-0.80,dim=\"draws\").sum(dim=\"Nc\"), MC_out_2[\"H_tot\"].quantile(0.80,dim=\"draws\").sum(dim=\"Nc\"),alpha=0.30)\n",
    "ax.plot(dates,MC_out_2[\"H_tot\"].mean(dim=\"draws\").sum(dim=\"Nc\"),'--')\n",
    "# limit the number of ticks on the axis\n",
    "from covid19model.visualization.output import _apply_tick_locator\n",
    "ax = _apply_tick_locator(ax)"
   ]
  },
  {
   "cell_type": "code",
   "execution_count": null,
   "metadata": {},
   "outputs": [],
   "source": [
    "# New hospitalisations\n",
    "S2_incidences_mean = MC_out_2[\"H_in\"].sum(dim=\"Nc\").mean(dim=\"draws\").values\n",
    "S2_incidences_LL = MC_out_2[\"H_in\"].sum(dim=\"Nc\").quantile(0.2,dim=\"draws\").values\n",
    "S2_incidences_UL = MC_out_2[\"H_in\"].sum(dim=\"Nc\").quantile(0.8,dim=\"draws\").values\n",
    "# Hospital totals\n",
    "S2_load_mean = MC_out_2[\"H_tot\"].sum(dim=\"Nc\").mean(dim=\"draws\").values\n",
    "S2_load_LL = MC_out_2[\"H_tot\"].sum(dim=\"Nc\").quantile(0.2,dim=\"draws\").values\n",
    "S2_load_UL = MC_out_2[\"H_tot\"].sum(dim=\"Nc\").quantile(0.8,dim=\"draws\").values"
   ]
  },
  {
   "cell_type": "markdown",
   "metadata": {},
   "source": [
    "### S3: -20% contacts"
   ]
  },
  {
   "cell_type": "code",
   "execution_count": null,
   "metadata": {},
   "outputs": [],
   "source": [
    "# Load the model parameters using `get_COVID19_SEIRD_parameters()`.\n",
    "params = model_parameters.get_COVID19_SEIRD_parameters()\n",
    "\n",
    "params.update({'policy1': 1.0*Nc_home + (1-0.00)*Nc_work + (1-0.00)*Nc_transport + (1-0.00)*Nc_others + (1-0.00)*Nc_schools + (1-0.00)*Nc_leisure,\n",
    "              'policy2': 1.0*Nc_home + (1-0.20)*Nc_work + (1-0.20)*Nc_transport + (1-0.20)*Nc_others + (1-1.00)*Nc_schools + (1-0.20)*Nc_leisure,\n",
    "              'policy3': 1.0*Nc_home + (1-0.20)*Nc_work + (1-0.20)*Nc_transport + (1-0.20)*Nc_others + (1-1.00)*Nc_schools + (1-0.20)*Nc_leisure,\n",
    "              'policy4': 1.0*Nc_home + (1-0.20)*Nc_work + (1-0.20)*Nc_transport + (1-0.20)*Nc_others + (1-0.00)*Nc_schools + (1-0.20)*Nc_leisure,\n",
    "              'policy5': 1.0*Nc_home + (1-0.20)*Nc_work + (1-0.20)*Nc_transport + (1-0.20)*Nc_others + (1-1.00)*Nc_schools + (1-0.20)*Nc_leisure,\n",
    "              'policy6': 1.0*Nc_home + (1-0.20)*Nc_work + (1-0.20)*Nc_transport + (1-0.20)*Nc_others + (1-0.00)*Nc_schools + (1-0.20)*Nc_leisure,\n",
    "              'policy7': 1.0*Nc_home + (1-0.20)*Nc_work + (1-0.20)*Nc_transport + (1-0.20)*Nc_others + (1-1.00)*Nc_schools + (1-0.20)*Nc_leisure,\n",
    "              'policy8': 1.0*Nc_home + (1-0.20)*Nc_work + (1-0.20)*Nc_transport + (1-0.20)*Nc_others + (1-0.00)*Nc_schools + (1-0.20)*Nc_leisure,\n",
    "              'l' : 1,\n",
    "              'tau' : 5,\n",
    "              'prevention': 0.5})"
   ]
  },
  {
   "cell_type": "code",
   "execution_count": null,
   "metadata": {},
   "outputs": [],
   "source": [
    "model.parameters['s']=model.parameters['s']*1.10"
   ]
  },
  {
   "cell_type": "code",
   "execution_count": null,
   "metadata": {},
   "outputs": [],
   "source": [
    "# Re-initialize the model\n",
    "model = models.COVID19_SEIRD(initial_states, params, time_dependent_parameters={'Nc': contact_reduction})"
   ]
  },
  {
   "cell_type": "code",
   "execution_count": null,
   "metadata": {},
   "outputs": [],
   "source": [
    "MC_out_3 = model.sim(300,N=100,draw_fcn=draw_sample_COVID19_SEIRD,samples=samples_dict)"
   ]
  },
  {
   "cell_type": "code",
   "execution_count": null,
   "metadata": {},
   "outputs": [],
   "source": [
    "fig,ax =plt.subplots(figsize=(12,4))\n",
    "ax.fill_between(dates, MC_out_3[\"H_tot\"].quantile(1-0.80,dim=\"draws\").sum(dim=\"Nc\"), MC_out_3[\"H_tot\"].quantile(0.80,dim=\"draws\").sum(dim=\"Nc\"),alpha=0.30)\n",
    "ax.plot(dates,MC_out_3[\"H_tot\"].mean(dim=\"draws\").sum(dim=\"Nc\"),'--')\n",
    "# limit the number of ticks on the axis\n",
    "from covid19model.visualization.output import _apply_tick_locator\n",
    "ax = _apply_tick_locator(ax)"
   ]
  },
  {
   "cell_type": "code",
   "execution_count": null,
   "metadata": {},
   "outputs": [],
   "source": [
    "# New hospitalisations\n",
    "S3_incidences_mean = MC_out_3[\"H_in\"].sum(dim=\"Nc\").mean(dim=\"MC\").values\n",
    "S3_incidences_LL = MC_out_3[\"H_in\"].sum(dim=\"Nc\").quantile(0.2,dim=\"MC\").values\n",
    "S3_incidences_UL = MC_out_3[\"H_in\"].sum(dim=\"Nc\").quantile(0.8,dim=\"MC\").values\n",
    "# Hospital totals\n",
    "S3_load_mean = MC_out_3[\"H_tot\"].sum(dim=\"Nc\").mean(dim=\"MC\").values\n",
    "S3_load_LL = MC_out_3[\"H_tot\"].sum(dim=\"Nc\").quantile(0.2,dim=\"MC\").values\n",
    "S3_load_UL = MC_out_3[\"H_tot\"].sum(dim=\"Nc\").quantile(0.8,dim=\"MC\").values"
   ]
  },
  {
   "cell_type": "markdown",
   "metadata": {},
   "source": [
    "## Make a dataframe"
   ]
  },
  {
   "cell_type": "code",
   "execution_count": null,
   "metadata": {},
   "outputs": [],
   "source": [
    "start_date = datetime.datetime.strptime('15-03-2020', '%d-%m-%Y') - datetime.timedelta(days=samples_dict['lag_time'])\n",
    "index = pd.date_range(start_date, periods=len(MC_out_1[\"time\"].values)).date"
   ]
  },
  {
   "cell_type": "code",
   "execution_count": null,
   "metadata": {},
   "outputs": [],
   "source": [
    "columns = ['S1_incidences_mean','S1_incidences_LL','S1_incidences_UL','S1_load_mean','S1_load_LL','S1_load_UL','S2_incidences_mean','S2_incidences_LL','S2_incidences_UL','S2_load_mean','S2_load_LL','S2_load_UL','S3_incidences_mean','S3_incidences_LL','S3_incidences_UL','S3_load_mean','S3_load_LL','S3_load_UL']"
   ]
  },
  {
   "cell_type": "code",
   "execution_count": null,
   "metadata": {},
   "outputs": [],
   "source": [
    "data = np.transpose(np.array([S1_incidences_mean,S1_incidences_LL,S1_incidences_UL,S1_load_mean,S1_load_LL,S1_load_UL,S2_incidences_mean,S2_incidences_LL,S2_incidences_UL,S2_load_mean,S2_load_LL,S2_load_UL,S3_incidences_mean,S3_incidences_LL,S3_incidences_UL,S3_load_mean,S3_load_LL,S3_load_UL]))"
   ]
  },
  {
   "cell_type": "code",
   "execution_count": null,
   "metadata": {},
   "outputs": [],
   "source": [
    "df = pd.DataFrame(data,columns=columns,index=index)\n",
    "df.head()"
   ]
  },
  {
   "cell_type": "markdown",
   "metadata": {},
   "source": [
    "## Write output to excel file"
   ]
  },
  {
   "cell_type": "code",
   "execution_count": null,
   "metadata": {},
   "outputs": [],
   "source": [
    "df.to_csv('../results/FAGG-long-term-predictions/'+datetime.datetime.today().strftime('%Y-%m-%d')+'.csv',index=True)"
   ]
  },
  {
   "cell_type": "code",
   "execution_count": null,
   "metadata": {},
   "outputs": [],
   "source": []
  }
 ],
 "metadata": {
  "kernelspec": {
   "display_name": "Python 3",
   "language": "python",
   "name": "python3"
  },
  "language_info": {
   "codemirror_mode": {
    "name": "ipython",
    "version": 3
   },
   "file_extension": ".py",
   "mimetype": "text/x-python",
   "name": "python",
   "nbconvert_exporter": "python",
   "pygments_lexer": "ipython3",
   "version": "3.8.2"
  },
  "nav_menu": {},
  "toc": {
   "base_numbering": 1,
   "nav_menu": {},
   "number_sections": true,
   "sideBar": true,
   "skip_h1_title": false,
   "title_cell": "Table of Contents",
   "title_sidebar": "Contents",
   "toc_cell": true,
   "toc_position": {},
   "toc_section_display": "block",
   "toc_window_display": true
  }
 },
 "nbformat": 4,
 "nbformat_minor": 4
}
