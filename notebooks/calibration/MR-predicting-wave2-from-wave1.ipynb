{
 "cells": [
  {
   "cell_type": "markdown",
   "metadata": {},
   "source": [
    "In this Notebook we will attempt to predict the dynamics of the second COVID-19 wave in Belgium at the level of arrondissements, based on ...\n",
    "- Expectation values of all calibrated parameters except $\\beta^R$, $\\beta^U$ and $\\beta^M$, calibrated on the entire first wave\n",
    "- Calibrated values of parameters $\\beta^R$, $\\beta^U$, and $\\beta^M$ (and `warmup`), calibrated on the ascending part of the second wave\n",
    "- Initial condition for all states, based on calibration on first wave.\n",
    "- Knowledge of the timing and severity of non-pharmaceutical measures in the near future\n",
    "- Uncertainties in the first-wave parameter values (from previous calibration), and uncertainties in the second-wave parameter values (from new calibration)\n",
    "\n",
    "**Some side notes (criticism)**\n",
    "- The expectation values of each parameter do *not* correspond to the same run"
   ]
  },
  {
   "cell_type": "code",
   "execution_count": 3,
   "metadata": {
    "ExecuteTime": {
     "end_time": "2021-08-11T12:20:54.788763Z",
     "start_time": "2021-08-11T12:20:47.857072Z"
    }
   },
   "outputs": [],
   "source": [
    "# Preamble\n",
    "import corner\n",
    "import pandas as pd\n",
    "import json\n",
    "import numpy as np\n",
    "from IPython.display import IFrame\n",
    "import matplotlib.pyplot as plt\n",
    "\n",
    "from covid19model.models import models\n",
    "from covid19model.models.time_dependant_parameter_fncs import make_mobility_update_function, make_contact_matrix_function\n",
    "from covid19model.models.utils import initial_state\n",
    "# from covid19model.optimization.run_optimization import checkplots, calculate_R0\n",
    "# from covid19model.optimization.objective_fcns import prior_custom, prior_uniform\n",
    "from covid19model.data import mobility, sciensano, model_parameters\n",
    "# from covid19model.optimization import pso, objective_fcns\n",
    "from covid19model.visualization.output import _apply_tick_locator \n",
    "from covid19model.visualization.optimization import autocorrelation_plot, traceplot, plot_fit, plot_calibration_fit\n",
    "from covid19model.visualization.utils import moving_avg\n",
    "from covid19model.optimization.utils import perturbate_PSO, run_MCMC\n",
    "from covid19model.optimization.utils import samples_dict_to_emcee_chain # used for corner plots\n",
    "import random\n",
    "import datetime\n",
    "\n",
    "# OPTIONAL: Load the \"autoreload\" extension so that package code can change\n",
    "%load_ext autoreload\n",
    "# OPTIONAL: always reload modules so that as you change code in src, it gets loaded\n",
    "# This may be useful because the `covid19model` package is under construction\n",
    "%autoreload 2\n",
    "\n",
    "# Copied from mrollier-calibration-WAVE2_spatial.ipynb\n",
    "import gc\n",
    "import sys, getopt\n",
    "import os\n",
    "import ujson as json\n",
    "import random\n",
    "import emcee\n",
    "import datetime\n",
    "import corner\n",
    "import argparse\n",
    "import numpy as np\n",
    "import pandas as pd\n",
    "import matplotlib.pyplot as plt\n",
    "import multiprocessing as mp\n",
    "from multiprocessing import Pool\n",
    "\n",
    "from covid19model.models import models\n",
    "from covid19model.optimization.objective_fcns import prior_custom, prior_uniform\n",
    "from covid19model.data import mobility, sciensano, model_parameters\n",
    "from covid19model.optimization import pso, objective_fcns\n",
    "from covid19model.models.time_dependant_parameter_fncs import ramp_fun\n",
    "from covid19model.visualization.output import _apply_tick_locator \n",
    "from covid19model.visualization.optimization import autocorrelation_plot, traceplot\n",
    "from covid19model.models.utils import initial_state\n",
    "\n",
    "spatial='arr'"
   ]
  },
  {
   "cell_type": "markdown",
   "metadata": {},
   "source": [
    "# Calibrate transmission coefficients over ascending part"
   ]
  },
  {
   "cell_type": "code",
   "execution_count": 8,
   "metadata": {
    "ExecuteTime": {
     "end_time": "2021-08-11T12:21:28.389539Z",
     "start_time": "2021-08-11T12:21:28.332693Z"
    }
   },
   "outputs": [],
   "source": [
    "# Choose to show progress bar. This cannot be shown on HPC\n",
    "progress = True\n",
    "\n",
    "# User-defined initial states json file\n",
    "initial_states_date = '2020-08-27'\n",
    "initial_states_loc = '../../data/interim/model_parameters/COVID19_SEIRD/calibrations/arr'\n",
    "# arr_WAVE1_job-FULL_1000xPSO_20000xMCMC_arr_3-index-in-frac_2021-06-10_states_2020-08-27_fiddling-08aug21.json\n",
    "initial_states_json = f'arr_WAVE1_job-FULL_1000xPSO_20000xMCMC_arr_3-index-in-frac_2021-06-10_states_{initial_states_date}_fiddling-08aug21.json'"
   ]
  },
  {
   "cell_type": "code",
   "execution_count": 9,
   "metadata": {
    "ExecuteTime": {
     "end_time": "2021-08-11T12:21:28.747580Z",
     "start_time": "2021-08-11T12:21:28.681576Z"
    }
   },
   "outputs": [],
   "source": [
    "backend = None # None or True\n",
    "job = 'R0' # R0 or FULL\n",
    "warmup = None # warmup must be defined if job == FULL \n",
    "maxiter_PSO = 200 # 50 # defaults is 50 (which isn't much)\n",
    "maxn_MCMC = 1000 # default is 100 (which isn't much)\n",
    "signature = 'predict-wave2-from-wave1_new-init-states'\n",
    "agg = spatial\n",
    "\n",
    "# Date at which script is started\n",
    "run_date = str(datetime.date.today())"
   ]
  },
  {
   "cell_type": "code",
   "execution_count": 10,
   "metadata": {
    "ExecuteTime": {
     "end_time": "2021-08-11T12:21:34.788218Z",
     "start_time": "2021-08-11T12:21:28.844690Z"
    }
   },
   "outputs": [],
   "source": [
    "# ---------\n",
    "# Load data\n",
    "# ---------\n",
    "\n",
    "# Time-integrated contact matrices\n",
    "initN, Nc_all = model_parameters.get_integrated_willem2012_interaction_matrices(spatial=agg)\n",
    "G, N = initN.shape\n",
    "# Sciensano spatially stratified data\n",
    "moving_avg=False\n",
    "df_sciensano = sciensano.get_sciensano_COVID19_data_spatial(agg=agg, values='hospitalised_IN', moving_avg=moving_avg)\n",
    "# Google Mobility data\n",
    "df_google = mobility.get_google_mobility_data(update=False)\n",
    "# Load and format mobility dataframe\n",
    "proximus_mobility_data, proximus_mobility_data_avg = mobility.get_proximus_mobility_data(agg, dtype='fractional', beyond_borders=False)"
   ]
  },
  {
   "cell_type": "code",
   "execution_count": 11,
   "metadata": {
    "ExecuteTime": {
     "end_time": "2021-08-11T12:21:34.850816Z",
     "start_time": "2021-08-11T12:21:34.789934Z"
    }
   },
   "outputs": [],
   "source": [
    "# ------------------------\n",
    "# Define results locations\n",
    "# ------------------------\n",
    "\n",
    "# Path where traceplot and autocorrelation figures should be stored.\n",
    "# This directory is split up further into autocorrelation, traceplots\n",
    "fig_path = f'../../results/calibrations/COVID19_SEIRD/{agg}/'\n",
    "# Path where MCMC samples should be saved\n",
    "samples_path = f'../../data/interim/model_parameters/COVID19_SEIRD/calibrations/{agg}/'\n",
    "# Path where samples backend should be stored\n",
    "backend_folder = f'../../results/calibrations/COVID19_SEIRD/{agg}/backends/'\n",
    "\n",
    "# Verify that these paths exists\n",
    "if not (os.path.exists(fig_path) and os.path.exists(samples_path) and os.path.exists(backend_folder)):\n",
    "    raise Exception(\"Some of the results location directories do not exist.\")\n",
    "\n",
    "# Verify that the fig_path subdirectories used in the code exist\n",
    "if not (os.path.exists(fig_path+\"autocorrelation/\") and os.path.exists(fig_path+\"traceplots/\") \\\n",
    "       and os.path.exists(fig_path+\"pso/\")):\n",
    "    raise Exception(f\"The directory {fig_path} should have subdirectories 'autocorrelation', 'traceplots' and 'pso'.\")"
   ]
  },
  {
   "cell_type": "code",
   "execution_count": 12,
   "metadata": {
    "ExecuteTime": {
     "end_time": "2021-08-11T12:21:34.927638Z",
     "start_time": "2021-08-11T12:21:34.853769Z"
    }
   },
   "outputs": [],
   "source": [
    "# -----------------------\n",
    "# Define helper functions\n",
    "# -----------------------\n",
    "\n",
    "from covid19model.optimization.utils import assign_PSO, plot_PSO, perturbate_PSO, run_MCMC"
   ]
  },
  {
   "cell_type": "code",
   "execution_count": 13,
   "metadata": {
    "ExecuteTime": {
     "end_time": "2021-08-11T12:21:34.990474Z",
     "start_time": "2021-08-11T12:21:34.928642Z"
    }
   },
   "outputs": [],
   "source": [
    "# ------------------------------------------------------\n",
    "# Define time-dependant parameter functions from classes\n",
    "# ------------------------------------------------------\n",
    "\n",
    "# Load both classes\n",
    "from covid19model.models.time_dependant_parameter_fncs import make_contact_matrix_function, make_mobility_update_function\n",
    "\n",
    "### ATTENTION ###\n",
    "\n",
    "# Define contact matrix functions based on 4 prevention parameters (effectivity parameters)\n",
    "policies_WAVE2_full_relaxation = make_contact_matrix_function(df_google, Nc_all).policies_WAVE2_full_relaxation # with delayed-ramp function\n",
    "\n",
    "# Mobility update function from class __call__ and function wrapper to get the right signature\n",
    "mobility_wrapper_function = make_mobility_update_function(proximus_mobility_data, proximus_mobility_data_avg).mobility_wrapper_func"
   ]
  },
  {
   "cell_type": "code",
   "execution_count": 20,
   "metadata": {
    "ExecuteTime": {
     "end_time": "2021-08-11T12:22:14.664347Z",
     "start_time": "2021-08-11T12:22:14.241022Z"
    }
   },
   "outputs": [],
   "source": [
    "# ---------------------\n",
    "# Load model parameters ... from WAVE1 data (taken from corner plots)\n",
    "# ---------------------\n",
    "\n",
    "### ATTENTION ###\n",
    "\n",
    "# Load the model parameters dictionary\n",
    "params = model_parameters.get_COVID19_SEIRD_parameters(spatial=agg, VOC=False)\n",
    "# Add the time-dependant parameter function arguments\n",
    "# Copy best-fit values from MR-postprocessing-calibration.ipynb\n",
    "# Note how these parameters do not affect the calibration, because we are only looking at the ascending part\n",
    "params.update({'l' : 8.23,\n",
    "               'prev_schools': 1.0, # was not calibrated because schools were closed all the time\n",
    "               'prev_work': 0.651,\n",
    "               'prev_rest': 0.00786,\n",
    "               'prev_home' : 0.446,\n",
    "               'relaxdate' : '2021-07-01', # new parameter, only relevant for 2021\n",
    "               'l_relax' : 31 # new parameter, only relevant for 2021\n",
    "              })\n",
    "# Add parameters for the daily update of proximus mobility\n",
    "# mobility defaults to average mobility of 2020 if no data is available\n",
    "params.update({'default_mobility' : None})"
   ]
  },
  {
   "cell_type": "code",
   "execution_count": 21,
   "metadata": {
    "ExecuteTime": {
     "end_time": "2021-08-11T12:22:14.735169Z",
     "start_time": "2021-08-11T12:22:14.664347Z"
    }
   },
   "outputs": [],
   "source": [
    "# --------------------\n",
    "# Model initialisation\n",
    "# --------------------\n",
    "\n",
    "# Model initial condition on September 1st\n",
    "# This contains a dict with all states, and values for these states per age\n",
    "# This needs to be modified in such a way that we have the output per region as well\n",
    "with open(f'{initial_states_loc}/{initial_states_json}', 'r') as fp:\n",
    "    initial_states = json.load(fp) \n",
    "\n",
    "# Initiate model with initial states, defined parameters, and proper time dependent functions\n",
    "model = models.COVID19_SEIRD_spatial(initial_states, params, time_dependent_parameters = \\\n",
    "                                           {'Nc' : policies_WAVE2_full_relaxation, 'place' : mobility_wrapper_function}, spatial=agg)"
   ]
  },
  {
   "cell_type": "code",
   "execution_count": 10,
   "metadata": {
    "ExecuteTime": {
     "end_time": "2021-08-11T08:02:40.724440Z",
     "start_time": "2021-08-11T08:02:40.488036Z"
    }
   },
   "outputs": [
    {
     "name": "stdout",
     "output_type": "stream",
     "text": [
      "Let's say the government is getting worried again early September, and gathers data until October, which is when a decision is to be made on how to act.\n"
     ]
    },
    {
     "data": {
      "image/png": "[encoded data removed]",
      "text/plain": [
       "<Figure size 432x288 with 1 Axes>"
      ]
     },
     "metadata": {
      "needs_background": "light"
     },
     "output_type": "display_data"
    }
   ],
   "source": [
    "# Check the time series data and decide on a natural reference point, e.g. one full month of data\n",
    "df_sciensano.sum(axis=1)['2020-08-01':'2020-11-01'].plot()\n",
    "\n",
    "print(\"Let's say the government is getting worried again early September, and gathers data until October, which is when a decision is to be made on how to act.\")"
   ]
  },
  {
   "cell_type": "code",
   "execution_count": 11,
   "metadata": {
    "ExecuteTime": {
     "end_time": "2021-08-11T08:02:40.788322Z",
     "start_time": "2021-08-11T08:02:40.726333Z"
    }
   },
   "outputs": [],
   "source": [
    "# ------------------\n",
    "# Calibration set-up\n",
    "# ------------------\n",
    "\n",
    "# Start data of recalibration ramp\n",
    "start_calibration = '2020-09-01'\n",
    "# Last datapoint used to calibrate warmup and beta\n",
    "end_calibration = '2020-10-01' # date of lockdown\n",
    "\n",
    "# Spatial unit: depends on aggregation\n",
    "spatial_unit = f'{agg}_WAVE2-{job}_{signature}'\n",
    "\n",
    "# PSO settings\n",
    "processes = int(os.getenv('SLURM_CPUS_ON_NODE', mp.cpu_count()))\n",
    "sys.stdout.flush()\n",
    "multiplier = 10\n",
    "maxiter = maxiter_PSO\n",
    "popsize = multiplier*processes\n",
    "\n",
    "# MCMC settings\n",
    "max_n = maxn_MCMC\n",
    "print_n = 100\n",
    "\n",
    "# Offset needed to deal with zeros in data in a Poisson distribution-based calibration\n",
    "poisson_offset = 1"
   ]
  },
  {
   "cell_type": "code",
   "execution_count": 12,
   "metadata": {
    "ExecuteTime": {
     "end_time": "2021-08-11T08:02:40.866967Z",
     "start_time": "2021-08-11T08:02:40.789190Z"
    }
   },
   "outputs": [
    {
     "name": "stdout",
     "output_type": "stream",
     "text": [
      "\n",
      "------------------------------------------\n",
      "PERFORMING CALIBRATION OF WARMUP and BETAs\n",
      "------------------------------------------\n",
      "\n",
      "Using data from 2020-09-01 until 2020-10-01\n",
      "\n",
      "1) Particle swarm optimization\n",
      "~~~~~~~~~~~~~~~~~~~~~~~~~~~~~~\n",
      "\n",
      "Using 12 cores for a population of 120, for maximally 200 iterations.\n",
      "\n"
     ]
    }
   ],
   "source": [
    "# -------------------------\n",
    "# Print statement to stdout\n",
    "# -------------------------\n",
    "\n",
    "print('\\n------------------------------------------')\n",
    "print('PERFORMING CALIBRATION OF WARMUP and BETAs')\n",
    "print('------------------------------------------\\n')\n",
    "print('Using data from '+start_calibration+' until '+end_calibration+'\\n')\n",
    "print('1) Particle swarm optimization')\n",
    "print('~~~~~~~~~~~~~~~~~~~~~~~~~~~~~~\\n')\n",
    "print(f'Using {str(processes)} cores for a population of {popsize}, for maximally {maxiter} iterations.\\n')\n",
    "sys.stdout.flush()"
   ]
  },
  {
   "cell_type": "code",
   "execution_count": 13,
   "metadata": {
    "ExecuteTime": {
     "end_time": "2021-08-11T08:02:40.928806Z",
     "start_time": "2021-08-11T08:02:40.868963Z"
    }
   },
   "outputs": [],
   "source": [
    "# --------------\n",
    "# define dataset\n",
    "# --------------\n",
    "\n",
    "# Only use hospitalisation data\n",
    "data=[df_sciensano[start_calibration:end_calibration]]\n",
    "states = [\"H_in\"]\n",
    "weights = [1]"
   ]
  },
  {
   "cell_type": "code",
   "execution_count": 14,
   "metadata": {
    "ExecuteTime": {
     "end_time": "2021-08-11T08:06:01.535496Z",
     "start_time": "2021-08-11T08:02:40.929785Z"
    }
   },
   "outputs": [
    {
     "name": "stdout",
     "output_type": "stream",
     "text": [
      "No constraints given.\n",
      "Best after iteration 1: [9.81632326e+00 1.16287783e-02 9.11584235e-03 1.74463238e-02] -626.8381912619271\n",
      "Best after iteration 2: [9.81632326e+00 1.16287783e-02 9.11584235e-03 1.74463238e-02] -626.8381912619271\n",
      "New best for swarm at iteration 3: [8.41610069 0.01656524 0.01100334 0.01692336] -684.54664914756\n",
      "Best after iteration 3: [8.41610069 0.01656524 0.01100334 0.01692336] -684.54664914756\n",
      "Best after iteration 4: [8.41610069 0.01656524 0.01100334 0.01692336] -684.54664914756\n",
      "New best for swarm at iteration 5: [1.00000000e+01 5.00000000e-03 1.43893966e-02 1.78750651e-02] -762.7211134495553\n",
      "Best after iteration 5: [1.00000000e+01 5.00000000e-03 1.43893966e-02 1.78750651e-02] -762.7211134495553\n",
      "New best for swarm at iteration 6: [1.00000000e+01 8.59022552e-03 1.22286314e-02 1.85004822e-02] -797.7590862193107\n",
      "Best after iteration 6: [1.00000000e+01 8.59022552e-03 1.22286314e-02 1.85004822e-02] -797.7590862193107\n",
      "Best after iteration 7: [1.00000000e+01 8.59022552e-03 1.22286314e-02 1.85004822e-02] -797.7590862193107\n",
      "Best after iteration 8: [1.00000000e+01 8.59022552e-03 1.22286314e-02 1.85004822e-02] -797.7590862193107\n",
      "Best after iteration 9: [1.00000000e+01 8.59022552e-03 1.22286314e-02 1.85004822e-02] -797.7590862193107\n",
      "New best for swarm at iteration 10: [1.00000000e+01 8.39214665e-03 1.31900046e-02 1.79087097e-02] -814.0901417052162\n",
      "Best after iteration 10: [1.00000000e+01 8.39214665e-03 1.31900046e-02 1.79087097e-02] -814.0901417052162\n",
      "Best after iteration 11: [1.00000000e+01 8.39214665e-03 1.31900046e-02 1.79087097e-02] -814.0901417052162\n",
      "New best for swarm at iteration 12: [6.42968194 0.00755666 0.0134959  0.01787903] -824.705767059108\n",
      "Best after iteration 12: [6.42968194 0.00755666 0.0134959  0.01787903] -824.705767059108\n",
      "Best after iteration 13: [6.42968194 0.00755666 0.0134959  0.01787903] -824.705767059108\n",
      "Best after iteration 14: [6.42968194 0.00755666 0.0134959  0.01787903] -824.705767059108\n",
      "New best for swarm at iteration 15: [6.3458778  0.00815267 0.01342611 0.01853643] -827.3468876974459\n",
      "Best after iteration 15: [6.3458778  0.00815267 0.01342611 0.01853643] -827.3468876974459\n",
      "New best for swarm at iteration 16: [5.03500418 0.00872551 0.01337611 0.01774863] -829.8387703926759\n",
      "Best after iteration 16: [5.03500418 0.00872551 0.01337611 0.01774863] -829.8387703926759\n",
      "New best for swarm at iteration 17: [4.12481598 0.00893869 0.01341412 0.01837988] -837.7284115354619\n",
      "Best after iteration 17: [4.12481598 0.00893869 0.01341412 0.01837988] -837.7284115354619\n",
      "New best for swarm at iteration 18: [3.02191794 0.00935445 0.01299337 0.01854048] -839.2181513814586\n",
      "Best after iteration 18: [3.02191794 0.00935445 0.01299337 0.01854048] -839.2181513814586\n",
      "New best for swarm at iteration 19: [2.0857907  0.01033835 0.01276349 0.01887675] -843.0517667637511\n",
      "Best after iteration 19: [2.0857907  0.01033835 0.01276349 0.01887675] -843.0517667637511\n",
      "New best for swarm at iteration 20: [0.57264    0.01028657 0.01328562 0.01857097] -845.5432092422031\n",
      "Best after iteration 20: [0.57264    0.01028657 0.01328562 0.01857097] -845.5432092422031\n",
      "New best for swarm at iteration 21: [0.20138852 0.01101203 0.01284613 0.01910565] -847.6207570459674\n",
      "Best after iteration 21: [0.20138852 0.01101203 0.01284613 0.01910565] -847.6207570459674\n"
     ]
    },
    {
     "ename": "KeyboardInterrupt",
     "evalue": "",
     "output_type": "error",
     "traceback": [
      "\u001b[1;31m---------------------------------------------------------------------------\u001b[0m",
      "\u001b[1;31mKeyboardInterrupt\u001b[0m                         Traceback (most recent call last)",
      "\u001b[1;32m<ipython-input-14-ddc7b729001e>\u001b[0m in \u001b[0;36m<module>\u001b[1;34m\u001b[0m\n\u001b[0;32m     13\u001b[0m \u001b[1;31m# run optimisation\u001b[0m\u001b[1;33m\u001b[0m\u001b[1;33m\u001b[0m\u001b[1;33m\u001b[0m\u001b[0m\n\u001b[0;32m     14\u001b[0m theta = pso.fit_pso(model, data, pars, states, bounds, weights=weights, maxiter=maxiter, popsize=popsize, dist='poisson',\n\u001b[1;32m---> 15\u001b[1;33m                     poisson_offset=poisson_offset, agg=agg, start_date=start_calibration, processes=processes)\n\u001b[0m\u001b[0;32m     16\u001b[0m \u001b[1;31m# Fill in line below if you want to skip PSO\u001b[0m\u001b[1;33m\u001b[0m\u001b[1;33m\u001b[0m\u001b[1;33m\u001b[0m\u001b[0m\n\u001b[0;32m     17\u001b[0m \u001b[1;31m# theta = np.array([48, 0.01896, 0.02153, 0.02599])\u001b[0m\u001b[1;33m\u001b[0m\u001b[1;33m\u001b[0m\u001b[1;33m\u001b[0m\u001b[0m\n",
      "\u001b[1;32mc:\\users\\mrollier\\documents\\github\\covid19-model\\src\\covid19model\\optimization\\pso.py\u001b[0m in \u001b[0;36mfit_pso\u001b[1;34m(model, data, parNames, states, bounds, weights, draw_fcn, samples, start_date, dist, warmup, disp, maxiter, popsize, processes, omega, phip, phig, agg, poisson_offset)\u001b[0m\n\u001b[0;32m    334\u001b[0m     \u001b[1;31m# -------------------------------------------\u001b[0m\u001b[1;33m\u001b[0m\u001b[1;33m\u001b[0m\u001b[1;33m\u001b[0m\u001b[0m\n\u001b[0;32m    335\u001b[0m \u001b[1;33m\u001b[0m\u001b[0m\n\u001b[1;32m--> 336\u001b[1;33m     \u001b[0mp_hat\u001b[0m\u001b[1;33m,\u001b[0m \u001b[0mobj_fun_val\u001b[0m\u001b[1;33m,\u001b[0m \u001b[0mpars_final_swarm\u001b[0m\u001b[1;33m,\u001b[0m \u001b[0mobj_fun_val_final_swarm\u001b[0m \u001b[1;33m=\u001b[0m \u001b[0moptim\u001b[0m\u001b[1;33m(\u001b[0m\u001b[0mobjective_fcns\u001b[0m\u001b[1;33m.\u001b[0m\u001b[0mMLE\u001b[0m\u001b[1;33m,\u001b[0m \u001b[0mbounds\u001b[0m\u001b[1;33m,\u001b[0m \u001b[0margs\u001b[0m\u001b[1;33m=\u001b[0m\u001b[1;33m(\u001b[0m\u001b[0mmodel\u001b[0m\u001b[1;33m,\u001b[0m\u001b[0mdata\u001b[0m\u001b[1;33m,\u001b[0m\u001b[0mstates\u001b[0m\u001b[1;33m,\u001b[0m\u001b[0mparNames\u001b[0m\u001b[1;33m)\u001b[0m\u001b[1;33m,\u001b[0m \u001b[0mkwargs\u001b[0m\u001b[1;33m=\u001b[0m\u001b[1;33m{\u001b[0m\u001b[1;34m'weights'\u001b[0m\u001b[1;33m:\u001b[0m \u001b[0mweights\u001b[0m\u001b[1;33m,\u001b[0m \u001b[1;34m'draw_fcn'\u001b[0m\u001b[1;33m:\u001b[0m\u001b[0mdraw_fcn\u001b[0m\u001b[1;33m,\u001b[0m \u001b[1;34m'samples'\u001b[0m\u001b[1;33m:\u001b[0m\u001b[0msamples\u001b[0m\u001b[1;33m,\u001b[0m \u001b[1;34m'start_date'\u001b[0m\u001b[1;33m:\u001b[0m\u001b[0mstart_date\u001b[0m\u001b[1;33m,\u001b[0m \u001b[1;34m'warmup'\u001b[0m\u001b[1;33m:\u001b[0m\u001b[0mwarmup\u001b[0m\u001b[1;33m,\u001b[0m \u001b[1;34m'dist'\u001b[0m\u001b[1;33m:\u001b[0m\u001b[0mdist\u001b[0m\u001b[1;33m,\u001b[0m \u001b[1;34m'agg'\u001b[0m\u001b[1;33m:\u001b[0m\u001b[0magg\u001b[0m\u001b[1;33m,\u001b[0m \u001b[1;34m'poisson_offset'\u001b[0m\u001b[1;33m:\u001b[0m\u001b[0mpoisson_offset\u001b[0m\u001b[1;33m}\u001b[0m\u001b[1;33m,\u001b[0m \u001b[0mswarmsize\u001b[0m\u001b[1;33m=\u001b[0m\u001b[0mpopsize\u001b[0m\u001b[1;33m,\u001b[0m \u001b[0mmaxiter\u001b[0m\u001b[1;33m=\u001b[0m\u001b[0mmaxiter\u001b[0m\u001b[1;33m,\u001b[0m \u001b[0mprocesses\u001b[0m\u001b[1;33m=\u001b[0m\u001b[0mprocesses\u001b[0m\u001b[1;33m,\u001b[0m\u001b[0mminfunc\u001b[0m\u001b[1;33m=\u001b[0m\u001b[1;36m1e-9\u001b[0m\u001b[1;33m,\u001b[0m \u001b[0mminstep\u001b[0m\u001b[1;33m=\u001b[0m\u001b[1;36m1e-9\u001b[0m\u001b[1;33m,\u001b[0m\u001b[0mdebug\u001b[0m\u001b[1;33m=\u001b[0m\u001b[1;32mTrue\u001b[0m\u001b[1;33m,\u001b[0m \u001b[0mparticle_output\u001b[0m\u001b[1;33m=\u001b[0m\u001b[1;32mTrue\u001b[0m\u001b[1;33m,\u001b[0m \u001b[0momega\u001b[0m\u001b[1;33m=\u001b[0m\u001b[0momega\u001b[0m\u001b[1;33m,\u001b[0m \u001b[0mphip\u001b[0m\u001b[1;33m=\u001b[0m\u001b[0mphip\u001b[0m\u001b[1;33m,\u001b[0m \u001b[0mphig\u001b[0m\u001b[1;33m=\u001b[0m\u001b[0mphig\u001b[0m\u001b[1;33m)\u001b[0m\u001b[1;33m\u001b[0m\u001b[1;33m\u001b[0m\u001b[0m\n\u001b[0m\u001b[0;32m    337\u001b[0m \u001b[1;33m\u001b[0m\u001b[0m\n\u001b[0;32m    338\u001b[0m     \u001b[0mtheta_hat\u001b[0m \u001b[1;33m=\u001b[0m \u001b[0mp_hat\u001b[0m\u001b[1;33m\u001b[0m\u001b[1;33m\u001b[0m\u001b[0m\n",
      "\u001b[1;32mc:\\users\\mrollier\\documents\\github\\covid19-model\\src\\covid19model\\optimization\\pso.py\u001b[0m in \u001b[0;36moptim\u001b[1;34m(func, bounds, ieqcons, f_ieqcons, args, kwargs, swarmsize, omega, phip, phig, maxiter, minstep, minfunc, debug, processes, particle_output, transform_pars)\u001b[0m\n\u001b[0;32m    216\u001b[0m         \u001b[1;32mif\u001b[0m \u001b[0mprocesses\u001b[0m \u001b[1;33m>\u001b[0m \u001b[1;36m1\u001b[0m\u001b[1;33m:\u001b[0m\u001b[1;33m\u001b[0m\u001b[1;33m\u001b[0m\u001b[0m\n\u001b[0;32m    217\u001b[0m \u001b[1;31m#             print(f'CHECKPOINT: processes == {processes} in optim function')\u001b[0m\u001b[1;33m\u001b[0m\u001b[1;33m\u001b[0m\u001b[1;33m\u001b[0m\u001b[0m\n\u001b[1;32m--> 218\u001b[1;33m             \u001b[0mfx\u001b[0m \u001b[1;33m=\u001b[0m \u001b[0mnp\u001b[0m\u001b[1;33m.\u001b[0m\u001b[0marray\u001b[0m\u001b[1;33m(\u001b[0m\u001b[0mmp_pool\u001b[0m\u001b[1;33m.\u001b[0m\u001b[0mmap\u001b[0m\u001b[1;33m(\u001b[0m\u001b[0mobj\u001b[0m\u001b[1;33m,\u001b[0m \u001b[0mx\u001b[0m\u001b[1;33m)\u001b[0m\u001b[1;33m)\u001b[0m\u001b[1;33m\u001b[0m\u001b[1;33m\u001b[0m\u001b[0m\n\u001b[0m\u001b[0;32m    219\u001b[0m             \u001b[0mfs\u001b[0m \u001b[1;33m=\u001b[0m \u001b[0mnp\u001b[0m\u001b[1;33m.\u001b[0m\u001b[0marray\u001b[0m\u001b[1;33m(\u001b[0m\u001b[0mmp_pool\u001b[0m\u001b[1;33m.\u001b[0m\u001b[0mmap\u001b[0m\u001b[1;33m(\u001b[0m\u001b[0mis_feasible\u001b[0m\u001b[1;33m,\u001b[0m \u001b[0mx\u001b[0m\u001b[1;33m)\u001b[0m\u001b[1;33m)\u001b[0m\u001b[1;33m\u001b[0m\u001b[1;33m\u001b[0m\u001b[0m\n\u001b[0;32m    220\u001b[0m         \u001b[1;32melse\u001b[0m\u001b[1;33m:\u001b[0m\u001b[1;33m\u001b[0m\u001b[1;33m\u001b[0m\u001b[0m\n",
      "\u001b[1;32mC:\\Anaconda3\\lib\\multiprocessing\\pool.py\u001b[0m in \u001b[0;36mmap\u001b[1;34m(self, func, iterable, chunksize)\u001b[0m\n\u001b[0;32m    266\u001b[0m         \u001b[1;32min\u001b[0m \u001b[0ma\u001b[0m \u001b[0mlist\u001b[0m \u001b[0mthat\u001b[0m \u001b[1;32mis\u001b[0m \u001b[0mreturned\u001b[0m\u001b[1;33m.\u001b[0m\u001b[1;33m\u001b[0m\u001b[1;33m\u001b[0m\u001b[0m\n\u001b[0;32m    267\u001b[0m         '''\n\u001b[1;32m--> 268\u001b[1;33m         \u001b[1;32mreturn\u001b[0m \u001b[0mself\u001b[0m\u001b[1;33m.\u001b[0m\u001b[0m_map_async\u001b[0m\u001b[1;33m(\u001b[0m\u001b[0mfunc\u001b[0m\u001b[1;33m,\u001b[0m \u001b[0miterable\u001b[0m\u001b[1;33m,\u001b[0m \u001b[0mmapstar\u001b[0m\u001b[1;33m,\u001b[0m \u001b[0mchunksize\u001b[0m\u001b[1;33m)\u001b[0m\u001b[1;33m.\u001b[0m\u001b[0mget\u001b[0m\u001b[1;33m(\u001b[0m\u001b[1;33m)\u001b[0m\u001b[1;33m\u001b[0m\u001b[1;33m\u001b[0m\u001b[0m\n\u001b[0m\u001b[0;32m    269\u001b[0m \u001b[1;33m\u001b[0m\u001b[0m\n\u001b[0;32m    270\u001b[0m     \u001b[1;32mdef\u001b[0m \u001b[0mstarmap\u001b[0m\u001b[1;33m(\u001b[0m\u001b[0mself\u001b[0m\u001b[1;33m,\u001b[0m \u001b[0mfunc\u001b[0m\u001b[1;33m,\u001b[0m \u001b[0miterable\u001b[0m\u001b[1;33m,\u001b[0m \u001b[0mchunksize\u001b[0m\u001b[1;33m=\u001b[0m\u001b[1;32mNone\u001b[0m\u001b[1;33m)\u001b[0m\u001b[1;33m:\u001b[0m\u001b[1;33m\u001b[0m\u001b[1;33m\u001b[0m\u001b[0m\n",
      "\u001b[1;32mC:\\Anaconda3\\lib\\multiprocessing\\pool.py\u001b[0m in \u001b[0;36mget\u001b[1;34m(self, timeout)\u001b[0m\n\u001b[0;32m    649\u001b[0m \u001b[1;33m\u001b[0m\u001b[0m\n\u001b[0;32m    650\u001b[0m     \u001b[1;32mdef\u001b[0m \u001b[0mget\u001b[0m\u001b[1;33m(\u001b[0m\u001b[0mself\u001b[0m\u001b[1;33m,\u001b[0m \u001b[0mtimeout\u001b[0m\u001b[1;33m=\u001b[0m\u001b[1;32mNone\u001b[0m\u001b[1;33m)\u001b[0m\u001b[1;33m:\u001b[0m\u001b[1;33m\u001b[0m\u001b[1;33m\u001b[0m\u001b[0m\n\u001b[1;32m--> 651\u001b[1;33m         \u001b[0mself\u001b[0m\u001b[1;33m.\u001b[0m\u001b[0mwait\u001b[0m\u001b[1;33m(\u001b[0m\u001b[0mtimeout\u001b[0m\u001b[1;33m)\u001b[0m\u001b[1;33m\u001b[0m\u001b[1;33m\u001b[0m\u001b[0m\n\u001b[0m\u001b[0;32m    652\u001b[0m         \u001b[1;32mif\u001b[0m \u001b[1;32mnot\u001b[0m \u001b[0mself\u001b[0m\u001b[1;33m.\u001b[0m\u001b[0mready\u001b[0m\u001b[1;33m(\u001b[0m\u001b[1;33m)\u001b[0m\u001b[1;33m:\u001b[0m\u001b[1;33m\u001b[0m\u001b[1;33m\u001b[0m\u001b[0m\n\u001b[0;32m    653\u001b[0m             \u001b[1;32mraise\u001b[0m \u001b[0mTimeoutError\u001b[0m\u001b[1;33m\u001b[0m\u001b[1;33m\u001b[0m\u001b[0m\n",
      "\u001b[1;32mC:\\Anaconda3\\lib\\multiprocessing\\pool.py\u001b[0m in \u001b[0;36mwait\u001b[1;34m(self, timeout)\u001b[0m\n\u001b[0;32m    646\u001b[0m \u001b[1;33m\u001b[0m\u001b[0m\n\u001b[0;32m    647\u001b[0m     \u001b[1;32mdef\u001b[0m \u001b[0mwait\u001b[0m\u001b[1;33m(\u001b[0m\u001b[0mself\u001b[0m\u001b[1;33m,\u001b[0m \u001b[0mtimeout\u001b[0m\u001b[1;33m=\u001b[0m\u001b[1;32mNone\u001b[0m\u001b[1;33m)\u001b[0m\u001b[1;33m:\u001b[0m\u001b[1;33m\u001b[0m\u001b[1;33m\u001b[0m\u001b[0m\n\u001b[1;32m--> 648\u001b[1;33m         \u001b[0mself\u001b[0m\u001b[1;33m.\u001b[0m\u001b[0m_event\u001b[0m\u001b[1;33m.\u001b[0m\u001b[0mwait\u001b[0m\u001b[1;33m(\u001b[0m\u001b[0mtimeout\u001b[0m\u001b[1;33m)\u001b[0m\u001b[1;33m\u001b[0m\u001b[1;33m\u001b[0m\u001b[0m\n\u001b[0m\u001b[0;32m    649\u001b[0m \u001b[1;33m\u001b[0m\u001b[0m\n\u001b[0;32m    650\u001b[0m     \u001b[1;32mdef\u001b[0m \u001b[0mget\u001b[0m\u001b[1;33m(\u001b[0m\u001b[0mself\u001b[0m\u001b[1;33m,\u001b[0m \u001b[0mtimeout\u001b[0m\u001b[1;33m=\u001b[0m\u001b[1;32mNone\u001b[0m\u001b[1;33m)\u001b[0m\u001b[1;33m:\u001b[0m\u001b[1;33m\u001b[0m\u001b[1;33m\u001b[0m\u001b[0m\n",
      "\u001b[1;32mC:\\Anaconda3\\lib\\threading.py\u001b[0m in \u001b[0;36mwait\u001b[1;34m(self, timeout)\u001b[0m\n\u001b[0;32m    550\u001b[0m             \u001b[0msignaled\u001b[0m \u001b[1;33m=\u001b[0m \u001b[0mself\u001b[0m\u001b[1;33m.\u001b[0m\u001b[0m_flag\u001b[0m\u001b[1;33m\u001b[0m\u001b[1;33m\u001b[0m\u001b[0m\n\u001b[0;32m    551\u001b[0m             \u001b[1;32mif\u001b[0m \u001b[1;32mnot\u001b[0m \u001b[0msignaled\u001b[0m\u001b[1;33m:\u001b[0m\u001b[1;33m\u001b[0m\u001b[1;33m\u001b[0m\u001b[0m\n\u001b[1;32m--> 552\u001b[1;33m                 \u001b[0msignaled\u001b[0m \u001b[1;33m=\u001b[0m \u001b[0mself\u001b[0m\u001b[1;33m.\u001b[0m\u001b[0m_cond\u001b[0m\u001b[1;33m.\u001b[0m\u001b[0mwait\u001b[0m\u001b[1;33m(\u001b[0m\u001b[0mtimeout\u001b[0m\u001b[1;33m)\u001b[0m\u001b[1;33m\u001b[0m\u001b[1;33m\u001b[0m\u001b[0m\n\u001b[0m\u001b[0;32m    553\u001b[0m             \u001b[1;32mreturn\u001b[0m \u001b[0msignaled\u001b[0m\u001b[1;33m\u001b[0m\u001b[1;33m\u001b[0m\u001b[0m\n\u001b[0;32m    554\u001b[0m \u001b[1;33m\u001b[0m\u001b[0m\n",
      "\u001b[1;32mC:\\Anaconda3\\lib\\threading.py\u001b[0m in \u001b[0;36mwait\u001b[1;34m(self, timeout)\u001b[0m\n\u001b[0;32m    294\u001b[0m         \u001b[1;32mtry\u001b[0m\u001b[1;33m:\u001b[0m    \u001b[1;31m# restore state no matter what (e.g., KeyboardInterrupt)\u001b[0m\u001b[1;33m\u001b[0m\u001b[1;33m\u001b[0m\u001b[0m\n\u001b[0;32m    295\u001b[0m             \u001b[1;32mif\u001b[0m \u001b[0mtimeout\u001b[0m \u001b[1;32mis\u001b[0m \u001b[1;32mNone\u001b[0m\u001b[1;33m:\u001b[0m\u001b[1;33m\u001b[0m\u001b[1;33m\u001b[0m\u001b[0m\n\u001b[1;32m--> 296\u001b[1;33m                 \u001b[0mwaiter\u001b[0m\u001b[1;33m.\u001b[0m\u001b[0macquire\u001b[0m\u001b[1;33m(\u001b[0m\u001b[1;33m)\u001b[0m\u001b[1;33m\u001b[0m\u001b[1;33m\u001b[0m\u001b[0m\n\u001b[0m\u001b[0;32m    297\u001b[0m                 \u001b[0mgotit\u001b[0m \u001b[1;33m=\u001b[0m \u001b[1;32mTrue\u001b[0m\u001b[1;33m\u001b[0m\u001b[1;33m\u001b[0m\u001b[0m\n\u001b[0;32m    298\u001b[0m             \u001b[1;32melse\u001b[0m\u001b[1;33m:\u001b[0m\u001b[1;33m\u001b[0m\u001b[1;33m\u001b[0m\u001b[0m\n",
      "\u001b[1;31mKeyboardInterrupt\u001b[0m: "
     ]
    }
   ],
   "source": [
    "# NOTE: I changed the boundaries\n",
    "\n",
    "# -----------\n",
    "# Perform PSO\n",
    "# -----------\n",
    "\n",
    "# set optimisation settings\n",
    "# NOTE: the initial states are from August 27th, so the warmup time should be the number of days\n",
    "# between August 27th and September 1st, i.e. 5.\n",
    "pars = ['warmup','beta_R', 'beta_U', 'beta_M']\n",
    "bounds=((0.0,10.0),(0.005,0.060), (0.005,0.060), (0.005,0.060))\n",
    "\n",
    "# run optimisation\n",
    "theta = pso.fit_pso(model, data, pars, states, bounds, weights=weights, maxiter=maxiter, popsize=popsize, dist='poisson',\n",
    "                    poisson_offset=poisson_offset, agg=agg, start_date=start_calibration, processes=processes)\n",
    "# Fill in line below if you want to skip PSO\n",
    "# theta = np.array([48, 0.01896, 0.02153, 0.02599])\n",
    "# Assign estimate.\n",
    "warmup, pars_PSO = assign_PSO(model.parameters, pars, theta)\n",
    "model.parameters = pars_PSO\n",
    "\n",
    "# Perform simulation with best-fit results\n",
    "out = model.sim(end_calibration,start_date=start_calibration,warmup=warmup)\n",
    "\n",
    "# Print statement to stdout once\n",
    "print(f'\\nPSO RESULTS:')\n",
    "print(f'------------')\n",
    "print(f'warmup: {warmup}')\n",
    "print(f'infectivities {pars[1:]}: {theta[1:]}.')\n",
    "sys.stdout.flush()"
   ]
  },
  {
   "cell_type": "code",
   "execution_count": null,
   "metadata": {
    "ExecuteTime": {
     "end_time": "2021-08-11T08:06:01.537459Z",
     "start_time": "2021-08-11T08:02:26.144Z"
    }
   },
   "outputs": [],
   "source": [
    "# Visualize fit and save in order to check the validity of the first step\n",
    "ax = plot_PSO(out, theta, pars, data, states, pd.to_datetime(start_calibration), pd.to_datetime(end_calibration))\n",
    "title=f'warmup: {round(warmup)}; {pars[1:]}: {[round(th,3) for th in theta[1:]]}.'\n",
    "ax.set_title(title)\n",
    "ax.set_ylabel('New national hosp./day')\n",
    "pso_figname = f'{spatial_unit}_PSO-fit_{run_date}'\n",
    "# plt.savefig(f'{fig_path}/pso/{pso_figname}.png',dpi=400, bbox_inches='tight')\n",
    "print(f'\\nSaved figure /pso/{pso_figname}.png with results of calibration for job==R0.\\n')\n",
    "sys.stdout.flush()\n",
    "# plt.close()"
   ]
  },
  {
   "cell_type": "code",
   "execution_count": null,
   "metadata": {
    "ExecuteTime": {
     "end_time": "2021-08-11T08:06:01.538456Z",
     "start_time": "2021-08-11T08:02:26.146Z"
    }
   },
   "outputs": [],
   "source": [
    "# ------------------\n",
    "# Setup MCMC sampler\n",
    "# ------------------\n",
    "\n",
    "# Define priors\n",
    "log_prior_fcn = [prior_uniform, prior_uniform, prior_uniform]\n",
    "log_prior_fcn_args = bounds[1:]\n",
    "# Perturbate PSO estimate\n",
    "pars = ['beta_R', 'beta_U', 'beta_M']\n",
    "pert = [0.02, 0.02, 0.02]\n",
    "ndim, nwalkers, pos = perturbate_PSO(theta[1:], pert, multiplier=processes, bounds=log_prior_fcn_args, verbose=False)\n",
    "\n",
    "# Set up the sampler backend if needed\n",
    "if backend:\n",
    "    filename = f'{spatial_unit}_backend_{run_date}'\n",
    "    backend = emcee.backends.HDFBackend(results_folder+filename)\n",
    "    backend.reset(nwalkers, ndim)\n",
    "\n",
    "# Labels for traceplots\n",
    "labels = ['$\\\\beta_R$', '$\\\\beta_U$', '$\\\\beta_M$']\n",
    "# Arguments of chosen objective function\n",
    "objective_fcn = objective_fcns.log_probability\n",
    "objective_fcn_args = (model, log_prior_fcn, log_prior_fcn_args, data, states, pars)\n",
    "objective_fcn_kwargs = {'weights':weights, 'draw_fcn':None, 'samples':{}, 'start_date':start_calibration, \\\n",
    "                        'warmup':warmup, 'dist':'poisson', 'poisson_offset':poisson_offset, 'agg':agg}"
   ]
  },
  {
   "cell_type": "code",
   "execution_count": null,
   "metadata": {
    "ExecuteTime": {
     "end_time": "2021-08-11T08:06:01.538456Z",
     "start_time": "2021-08-11T08:02:26.148Z"
    }
   },
   "outputs": [],
   "source": [
    "print('\\n2) Markov-Chain Monte-Carlo sampling')\n",
    "print('~~~~~~~~~~~~~~~~~~~~~~~~~~~~~~~~~~~~\\n')\n",
    "print(f'Using {processes} cores for {ndim} parameters, in {nwalkers} chains.\\n')\n",
    "sys.stdout.flush()\n",
    "\n",
    "\n",
    "# ----------------\n",
    "# Run MCMC sampler\n",
    "# ----------------\n",
    "\n",
    "# Print autocorrelation and traceplot every print_n'th iteration\n",
    "sampler = run_MCMC(pos, max_n, print_n, labels, objective_fcn, objective_fcn_args, \\\n",
    "                   objective_fcn_kwargs, backend, spatial_unit, run_date, job, progress=progress, agg=agg)"
   ]
  },
  {
   "cell_type": "code",
   "execution_count": null,
   "metadata": {
    "ExecuteTime": {
     "end_time": "2021-08-11T08:06:01.539454Z",
     "start_time": "2021-08-11T08:02:26.150Z"
    }
   },
   "outputs": [],
   "source": [
    "# ---------------\n",
    "# Process results\n",
    "# ---------------\n",
    "\n",
    "thin = 1\n",
    "try:\n",
    "    autocorr = sampler.get_autocorr_time()\n",
    "    thin = max(1,int(0.5 * np.min(autocorr)))\n",
    "    print(f'Convergence: the chain is longer than 50 times the intergrated autocorrelation time.\\nPreparing to save samples with thinning value {thin}.')\n",
    "    sys.stdout.flush()\n",
    "except:\n",
    "    print('Warning: The chain is shorter than 50 times the integrated autocorrelation time.\\nUse this estimate with caution and run a longer chain! Saving all samples (thinning=1).\\n')\n",
    "    sys.stdout.flush()"
   ]
  },
  {
   "cell_type": "code",
   "execution_count": null,
   "metadata": {
    "ExecuteTime": {
     "end_time": "2021-08-11T08:06:01.540451Z",
     "start_time": "2021-08-11T08:02:26.151Z"
    }
   },
   "outputs": [],
   "source": [
    "print('\\n3) Sending samples to dictionary')\n",
    "sys.stdout.flush()\n",
    "\n",
    "flat_samples = sampler.get_chain(discard=0,thin=thin,flat=True)\n",
    "samples_dict = {}\n",
    "for count,name in enumerate(pars):\n",
    "    samples_dict[name] = flat_samples[:,count].tolist()\n",
    "\n",
    "samples_dict.update({\n",
    "    'warmup' : warmup,\n",
    "    'start_date_R0' : start_calibration,\n",
    "    'end_date_R0' : end_calibration,\n",
    "    'n_chains_R0': int(nwalkers)\n",
    "})\n",
    "\n",
    "json_file = f'{samples_path}{str(spatial_unit)}_{run_date}.json'\n",
    "with open(json_file, 'w') as fp:\n",
    "    json.dump(samples_dict, fp)\n",
    "\n",
    "print('DONE!')\n",
    "print(f'SAMPLES DICTIONARY SAVED IN \"{json_file}\"')\n",
    "print('-------------------------------------------------------------------------------------------------------------------------------\\n')\n",
    "sys.stdout.flush()"
   ]
  },
  {
   "cell_type": "markdown",
   "metadata": {},
   "source": [
    "# Make predictions for future of the 2nd wave\n",
    "\n",
    "We will be loading a hybrid data set: (1) calibrated parameter values for the `beta` values from the ascending part of the 2nd wave, and (2) calibrated parameter values for the data associated with 'lockdown', used to predict the future.\n",
    "\n",
    "User-defined data (i.e. defined by politicians) include date and severity of non-pharmaceutical interventions.\n",
    "\n",
    "Based on Notebook `MR-postprocessing-calibration.ipynb`"
   ]
  },
  {
   "cell_type": "markdown",
   "metadata": {},
   "source": [
    "## Show cornerplot of results of calibration of ascending part of wave 2"
   ]
  },
  {
   "cell_type": "code",
   "execution_count": 4,
   "metadata": {
    "ExecuteTime": {
     "end_time": "2021-08-11T12:21:01.247838Z",
     "start_time": "2021-08-11T12:21:01.121897Z"
    }
   },
   "outputs": [
    {
     "data": {
      "text/plain": [
       "dict_keys(['beta_R', 'beta_U', 'beta_M', 'warmup', 'start_date_R0', 'end_date_R0', 'n_chains_R0'])"
      ]
     },
     "execution_count": 4,
     "metadata": {},
     "output_type": "execute_result"
    }
   ],
   "source": [
    "##################\n",
    "### USER INPUT ###\n",
    "##################\n",
    "\n",
    "# can take a while\n",
    "\n",
    "# Simulation properties\n",
    "agg = 'arr'\n",
    "job = 'R0'\n",
    "maxiter = 50\n",
    "number = 100\n",
    "date = '2021-08-05' # Date of calibration execution\n",
    "\n",
    "moving_avg = False\n",
    "\n",
    "###################\n",
    "\n",
    "# Automated name\n",
    "# arr_WAVE2-R0_predict-wave2-from-wave1_2021-08-04\n",
    "json_name = f\"{agg}_WAVE2-{job}_predict-wave2-from-wave1_new-init-states_{date}.json\"\n",
    "json_loc = f\"../../data/interim/model_parameters/COVID19_SEIRD/calibrations/{agg}\"\n",
    "\n",
    "# Load dict and thin/discard\n",
    "samples_dict = json.load(open(f'{json_loc}/{json_name}'))\n",
    "parNames_mcmc = ['beta_R', 'beta_U', 'beta_M']\n",
    "labels = ['$\\\\beta^R$', '$\\\\beta^U$', '$\\\\beta^M$']\n",
    "if job == 'FULL':\n",
    "    parNames_mcmc += ['l', 'prev_schools', 'prev_work', 'prev_rest', 'prev_home']\n",
    "    labels += ['$l$', '$\\Omega^{schools}$', '$\\Omega^{work}$', '$\\Omega^{rest}$', '$\\Omega^{home}$']\n",
    "nwalkers=int(samples_dict[f'n_chains_{job}'])\n",
    "discard=0\n",
    "thin=1\n",
    "samples,flat_samples = samples_dict_to_emcee_chain(samples_dict, parNames_mcmc, nwalkers, discard=discard, thin=thin)\n",
    "\n",
    "samples_dict.keys()\n",
    "\n",
    "# arr_WAVE2-R0_predict-wave2-from-wave1_new-init-states_2021-08-05.json"
   ]
  },
  {
   "cell_type": "code",
   "execution_count": 5,
   "metadata": {
    "ExecuteTime": {
     "end_time": "2021-08-11T12:21:03.939070Z",
     "start_time": "2021-08-11T12:21:03.266245Z"
    }
   },
   "outputs": [
    {
     "name": "stderr",
     "output_type": "stream",
     "text": [
      "C:\\Anaconda3\\lib\\site-packages\\ipykernel_launcher.py:25: UserWarning: Matplotlib is currently using module://ipykernel.pylab.backend_inline, which is a non-GUI backend, so cannot show the figure.\n"
     ]
    },
    {
     "data": {
      "image/png": "[encoded data removed]",
      "text/plain": [
       "<Figure size 547.2x547.2 with 9 Axes>"
      ]
     },
     "metadata": {
      "needs_background": "light"
     },
     "output_type": "display_data"
    }
   ],
   "source": [
    "CORNER_KWARGS = dict(\n",
    "    smooth=0.9,\n",
    "    label_kwargs=dict(fontsize=16),\n",
    "    title_kwargs=dict(fontsize=14),\n",
    "    quantiles=[0.0455, 0.9545],\n",
    "    levels=(1 - np.exp(-0.5), 1 - np.exp(-2), 1 - np.exp(-9 / 2.)),\n",
    "    plot_density=True,\n",
    "    plot_datapoints=False,\n",
    "    fill_contours=True,\n",
    "    show_titles=True,\n",
    "    max_n_ticks=4,\n",
    "    title_fmt=\".3\",\n",
    "    range=[(0.005, 0.025), (0.005, 0.025), (0.005, 0.025)]\n",
    ")\n",
    "    # range=[(0.01425, 0.01500), (0.01395, 0.0144), (0.01525, 0.01600), (0.0, 4.0), (0.85, 1.0), (0.0, 0.75), (0.0, 0.2),(0.6,1.0)]\n",
    "    # range=[(0.02075, 0.02150), (0.02080, 0.02120), (0.02200, 0.02275), (7.2, 9.1), (0.3, 0.9), (0.0, 0.06), (0.25, 0.75)]\n",
    "\n",
    "# Cornerplots of samples\n",
    "fig = corner.corner(flat_samples, labels=labels, **CORNER_KWARGS)\n",
    "\n",
    "for idx,ax in enumerate(fig.get_axes()):\n",
    "    ax.tick_params(axis='both', labelsize=11, rotation=35)\n",
    "\n",
    "# Save figure\n",
    "fig.show()\n",
    "savename = f'../../results/calibrations/COVID19_SEIRD/arr/cornerplots/{json_name[:-5]}_CORNER.png'\n",
    "# fig.savefig(savename_WAVE2, dpi=400, bbox_inches='tight')\n",
    "# plt.close()"
   ]
  },
  {
   "cell_type": "markdown",
   "metadata": {},
   "source": [
    "## Fit to existing data and mock prediction\n",
    "\n",
    "Copied from `MR-postprocessing-calibration.ipynb`. Much of this is already loaded earlier\n",
    "\n",
    "NOTE: When creating the fit plots, samples are taken from a 'raw' dictionary, i.e. a dictionary that is not flattened (thin and discard). Why would you do this? I suppose this is a mistake.\n",
    "\n",
    "NOTE: these simulations depend on the definition of the social policy function defined in `policies_WAVE2_full_prediction`. Note how we added `SB='2a'`, which indicates that we take the average social behaviour in September, which is also the period we used to calibrate over. Also, we do not know the mobility patterns of the future, so we will also rely on the average mobility in September."
   ]
  },
  {
   "cell_type": "markdown",
   "metadata": {},
   "source": [
    "### Redefine time-dependent social contact"
   ]
  },
  {
   "cell_type": "code",
   "execution_count": 6,
   "metadata": {
    "ExecuteTime": {
     "end_time": "2021-08-11T12:21:07.056911Z",
     "start_time": "2021-08-11T12:21:06.974207Z"
    }
   },
   "outputs": [],
   "source": [
    "# COPY DEFINITION OF POLICIES RIGHT AFTER \n",
    "\n",
    "def contact_matrix(t, prev_home=1, prev_schools=1, prev_work=1, prev_rest = 1,\n",
    "                   school=None, work=None, transport=None, leisure=None, others=None, home=None, SB=False):\n",
    "\n",
    "    \"\"\"\n",
    "    t : timestamp\n",
    "        current date\n",
    "    prev_... : float [0,1]\n",
    "        prevention parameter to estimate\n",
    "    school, work, transport, leisure, others : float [0,1]\n",
    "        level of opening of these sectors\n",
    "        if None, it is calculated from google mobility data\n",
    "        only school cannot be None!\n",
    "    SB : str '2a', '2b' or '2c'\n",
    "        '2a': september behaviour overall\n",
    "        '2b': september behaviour, but work = lockdown behaviour\n",
    "        '2c': september behaviour, but leisure = lockdown behaviour\n",
    "\n",
    "    \"\"\"\n",
    "\n",
    "    if t < pd.Timestamp('2020-03-15'):\n",
    "        CM = Nc_all['total']\n",
    "    else:\n",
    "\n",
    "        if school is None:\n",
    "            raise ValueError(\n",
    "            \"Please indicate to which extent schools are open\")\n",
    "\n",
    "        if pd.Timestamp('2020-03-15') <= t <= df_google.index[-1]:\n",
    "            #take t.date() because t can be more than a date! (e.g. when tau_days is added)\n",
    "            idx = int((t - df_google.index[0]) / pd.Timedelta(\"1 day\"))\n",
    "            row = -df_google.values[idx]/100\n",
    "        else:\n",
    "            row = -df_google[-7:-1].mean()/100 # Extrapolate mean of last week\n",
    "\n",
    "        if SB == '2a':\n",
    "            row = -df_google['2020-09-01':'2020-10-01'].mean()/100\n",
    "        elif SB == '2b':\n",
    "            row = -df_google['2020-09-01':'2020-10-01'].mean()/100\n",
    "            row[4] = -df_google['2020-03-15':'2020-04-01'].mean()[4]/100\n",
    "        elif SB == '2c':\n",
    "            row = -df_google['2020-09-01':'2020-10-01'].mean()/100\n",
    "            row[0] = -df_google['2020-03-15':'2020-04-01'].mean()[0]/100\n",
    "\n",
    "        # columns: retail_recreation grocery parks transport work residential\n",
    "        if work is None:\n",
    "            work= 1-row[4]\n",
    "        if transport is None:\n",
    "            transport=1-row[3]\n",
    "        if leisure is None:\n",
    "            leisure=1-row[0]\n",
    "        if others is None:\n",
    "            others=1-row[1]\n",
    "\n",
    "        CM = (prev_home*Nc_all['home'] +\n",
    "              prev_schools*school*Nc_all['schools'] +\n",
    "              prev_work*work*Nc_all['work'] +\n",
    "              prev_rest*transport*Nc_all['transport'] +\n",
    "              prev_rest*leisure*Nc_all['leisure'] +\n",
    "              prev_rest*others*Nc_all['others'])\n",
    "\n",
    "    return CM\n",
    "\n",
    "def ramp_fun(Nc_old, Nc_new, t, t_start, l):\n",
    "    \"\"\"\n",
    "    t : timestamp\n",
    "        current simulation time\n",
    "    t_start : timestamp\n",
    "        start of policy change\n",
    "    l : int\n",
    "        number of additional days after the time delay until full compliance is reached\n",
    "    \"\"\"\n",
    "    return Nc_old + (Nc_new-Nc_old)/l * (t-t_start)/pd.Timedelta('1D')\n",
    "\n",
    "def policies_WAVE2_prediction(t, states, param, l , l_relax, prev_schools, prev_work, prev_rest, prev_home, relaxdate):\n",
    "    '''\n",
    "    Function that returns the time-dependant social contact matrix Nc for the second 2020 COVID-19 wave. Includes a full relaxation of measures on relaxdate.\n",
    "\n",
    "    Input\n",
    "    -----\n",
    "    t : Timestamp\n",
    "        simulation time\n",
    "    states : xarray\n",
    "        model states\n",
    "    param : dict\n",
    "        model parameter dictionary\n",
    "    l : float\n",
    "        Compliance parameter for ramp_fun\n",
    "    l_relax : float\n",
    "        Additional days added after relaxdate\n",
    "    tau : float\n",
    "        Compliance parameter for ramp_fun\n",
    "    prev_{location} : float\n",
    "        Effectivity of contacts at {location}\n",
    "    relaxdate : str\n",
    "        String containing a date (YYYY-MM-DD) on which all measures are relaxed\n",
    "\n",
    "    Returns\n",
    "    -------\n",
    "    CM : np.array (9x9)\n",
    "        Effective contact matrix (output of __call__ function)\n",
    "    '''\n",
    "    t = pd.Timestamp(t.date())\n",
    "\n",
    "    # Convert compliance tau and l to dates\n",
    "    l_days = pd.Timedelta(l, unit='D')\n",
    "\n",
    "    # Convert relaxation l to dates\n",
    "    l_relax_days = pd.Timedelta(l_relax, unit='D')\n",
    "\n",
    "    # Define key dates of first wave\n",
    "    t1 = pd.Timestamp('2020-03-15') # start of lockdown\n",
    "    t2 = pd.Timestamp('2020-05-15') # gradual re-opening of schools (assume 50% of nominal scenario)\n",
    "    t3 = pd.Timestamp('2020-07-01') # start of summer holidays\n",
    "    t4 = pd.Timestamp('2020-09-01') # end of summer holidays\n",
    "\n",
    "    # Define key dates of second wave\n",
    "    # Note that for days in the future, policies are estimated rather than observed\n",
    "    \n",
    "    ### THIS IS USER-DEFINED AND DETERMINES THE POLICIES IN OCTOBER/NOVEMBER\n",
    "    ########################################################################\n",
    "    t5 = pd.Timestamp('2020-10-19') # lockdown (1)\n",
    "    t6 = pd.Timestamp('2020-11-02') # lockdown (2)\n",
    "    t7 = pd.Timestamp('2020-11-16') # schools re-open\n",
    "    t8 = pd.Timestamp('2020-12-18') # Christmas holiday starts\n",
    "    t9 = pd.Timestamp('2021-01-04') # Christmas holiday ends\n",
    "    t10 = pd.Timestamp('2021-02-15') # Spring break starts\n",
    "    t11 = pd.Timestamp('2021-02-21') # Spring break ends\n",
    "    t12 = pd.Timestamp('2021-02-28') # Contact increase in children\n",
    "    t13 = pd.Timestamp('2021-03-26') # Start of Easter holiday\n",
    "    t14 = pd.Timestamp('2021-04-18') # End of Easter holiday\n",
    "    t15 = pd.Timestamp(relaxdate) # Relaxation date\n",
    "    t16 = pd.Timestamp('2021-07-01') # Start of Summer holiday\n",
    "    t17 = pd.Timestamp('2021-09-01')\n",
    "    ########################################################################\n",
    "\n",
    "    # Second wave\n",
    "    \n",
    "    ### THIS IS USER-DEFINED AND DETERMINES THE POLICIES IN OCTOBER/NOVEMBER\n",
    "    ########################################################################\n",
    "    if t4 < t <= t5:\n",
    "        return contact_matrix(t, school=1)\n",
    "    elif t5  < t <= t5 + l_days:\n",
    "        policy_old = contact_matrix(t, school=1, SB='2a')\n",
    "        policy_new = contact_matrix(t, prev_schools, prev_work, prev_rest, \n",
    "                                    school=1, SB='2a')\n",
    "        return ramp_fun(policy_old, policy_new, t, t5, l)\n",
    "    elif t5 + l_days < t <= t6:\n",
    "        return contact_matrix(t, prev_home, prev_schools, prev_work, prev_rest, \n",
    "                            school=1, SB='2a')\n",
    "    elif t6 < t <= t7:\n",
    "        return contact_matrix(t, prev_home, prev_schools, prev_work, prev_rest, \n",
    "                            school=0, SB='2a')\n",
    "    ########################################################################\n",
    "    elif t7 < t <= t8:\n",
    "        return contact_matrix(t, prev_home, prev_schools, prev_work, prev_rest, \n",
    "                            school=1) \n",
    "    elif t8 < t <= t9:\n",
    "        return contact_matrix(t, prev_home, prev_schools, prev_work, prev_rest, \n",
    "                            school=0)\n",
    "    elif t9 < t <= t10:\n",
    "        return contact_matrix(t, prev_home, prev_schools, prev_work, prev_rest, \n",
    "                            school=1)\n",
    "    elif t10 < t <= t11:\n",
    "        return contact_matrix(t, prev_home, prev_schools, prev_work, prev_rest, \n",
    "                            school=0)    \n",
    "    elif t11 < t <= t12:\n",
    "        return contact_matrix(t, prev_home, prev_schools, prev_work, prev_rest, \n",
    "                            school=1)\n",
    "    elif t12 < t <= t13:\n",
    "        return contact_matrix(t, prev_home, prev_schools, prev_work, prev_rest,\n",
    "                            school=1)\n",
    "    elif t13 < t <= t14:\n",
    "        return contact_matrix(t, prev_home, prev_schools, prev_work, prev_rest, \n",
    "                                school=0)                           \n",
    "    elif t14 < t <= t15:\n",
    "        return contact_matrix(t, prev_home, prev_schools, prev_work, prev_rest, \n",
    "                            school=1)   \n",
    "    elif t15 < t <= t15 + l_relax_days:\n",
    "        policy_old = contact_matrix(t, prev_home, prev_schools, prev_work, prev_rest, \n",
    "                            school=1)\n",
    "        policy_new = contact_matrix(t, prev_schools, prev_work, prev_rest, \n",
    "                            work=1, leisure=1, transport=1, others=1, school=1)\n",
    "        return ramp_fun(policy_old, policy_new, t, t15, l_relax)\n",
    "    elif t15 + l_relax_days < t <= t16:\n",
    "        return contact_matrix(t, prev_home, prev_schools, prev_work, prev_rest, \n",
    "                            work=1, leisure=1, transport=1, others=1, school=1)\n",
    "    elif t16 < t <= t17:\n",
    "        return contact_matrix(t, prev_home, prev_schools, prev_work, prev_rest, \n",
    "                            work=0.8, leisure=1, transport=0.90, others=1, school=0)                                      \n",
    "    else:\n",
    "        return contact_matrix(t, prev_home, prev_schools, prev_work, prev_rest, \n",
    "                            work=1, leisure=1, transport=1, others=1, school=1)"
   ]
  },
  {
   "cell_type": "markdown",
   "metadata": {},
   "source": [
    "### Redefine time-dependent mobility"
   ]
  },
  {
   "cell_type": "code",
   "execution_count": 14,
   "metadata": {
    "ExecuteTime": {
     "end_time": "2021-08-11T12:21:42.681433Z",
     "start_time": "2021-08-11T12:21:42.601744Z"
    }
   },
   "outputs": [],
   "source": [
    "d1 = pd.to_datetime('2020-09-01')\n",
    "d2 = pd.to_datetime('2020-09-30')\n",
    "n_days = (d2-d1).days + 1\n",
    "\n",
    "mobility_sum = 0\n",
    "for date in [d1 + datetime.timedelta(days=x) for x in range(n_days)]:\n",
    "    mobility_sum += mobility_wrapper_function(date, 0, 0)\n",
    "\n",
    "september_mobility = mobility_sum / n_days"
   ]
  },
  {
   "cell_type": "markdown",
   "metadata": {},
   "source": [
    "### Redefine future model setup and simulate from parameter dictionaries"
   ]
  },
  {
   "cell_type": "code",
   "execution_count": 22,
   "metadata": {
    "ExecuteTime": {
     "end_time": "2021-08-11T12:22:24.781992Z",
     "start_time": "2021-08-11T12:22:24.713223Z"
    }
   },
   "outputs": [],
   "source": [
    "# Initiate model with initial states, defined parameters, and proper time dependent functions\n",
    "params['place'] = september_mobility\n",
    "if 'default_mobility' in params.keys():\n",
    "    params.pop('default_mobility')\n",
    "model = models.COVID19_SEIRD_spatial(initial_states, params, time_dependent_parameters = \\\n",
    "                                           {'Nc' : policies_WAVE2_prediction}, spatial=agg)"
   ]
  },
  {
   "cell_type": "code",
   "execution_count": 23,
   "metadata": {
    "ExecuteTime": {
     "end_time": "2021-08-11T12:22:38.294090Z",
     "start_time": "2021-08-11T12:22:26.977503Z"
    }
   },
   "outputs": [
    {
     "data": {
      "text/plain": [
       "dict_keys(['beta_R', 'beta_U', 'beta_M', 'l', 'prev_work', 'prev_rest', 'prev_home', 'warmup', 'start_date_FULL', 'end_date_FULL', 'n_chains_FULL'])"
      ]
     },
     "execution_count": 23,
     "metadata": {},
     "output_type": "execute_result"
    }
   ],
   "source": [
    "# Load samples_dict from first-wave full calibration of everything but the beta values\n",
    "\n",
    "##################\n",
    "### USER INPUT ###\n",
    "##################\n",
    "\n",
    "# NOTE: MAKE SURE THAT THE THINNING AND DISCARD VALUES ARE GOOD\n",
    "# ideal thinning is defined by max(1,int(0.5 * np.min(autocorr)))\n",
    "\n",
    "# can take a while\n",
    "\n",
    "# Simulation properties\n",
    "agg = 'arr'\n",
    "job_WAVE1 = 'FULL'\n",
    "maxiter_WAVE1 = 1000\n",
    "number_WAVE1 = 20000\n",
    "date_WAVE1 = '2021-06-10' # Date of calibration execution\n",
    "\n",
    "init_number_WAVE1 = 3\n",
    "init_WAVE1 = 'frac'\n",
    "\n",
    "moving_avg = False\n",
    "\n",
    "thin_WAVE1=50 # Check whether it has been thinned automatically yet!\n",
    "discard_WAVE1=10000 # Check traceplot for this. If thinning has already taken place, discard should be very small!\n",
    "\n",
    "###################\n",
    "\n",
    "# Automated name\n",
    "json_name_WAVE1 = f\"{agg}_WAVE1-{job_WAVE1}_job-{job_WAVE1}_{str(maxiter_WAVE1)}xPSO_{str(number_WAVE1)}xMCMC_{agg}_{str(init_number_WAVE1)}-index-in-{init_WAVE1}_{date_WAVE1}.json\"\n",
    "json_loc_WAVE1 = f\"../../data/interim/model_parameters/COVID19_SEIRD/calibrations/{agg}\"\n",
    "\n",
    "# Load dict and thin/discard\n",
    "samples_dict_WAVE1 = json.load(open(f'{json_loc_WAVE1}/{json_name_WAVE1}'))\n",
    "parNames_mcmc_WAVE1 = ['beta_R', 'beta_U', 'beta_M']\n",
    "labels_WAVE1 = ['$\\\\beta^R$', '$\\\\beta^U$', '$\\\\beta^M$']\n",
    "if job_WAVE1 == 'FULL':\n",
    "    parNames_mcmc_WAVE1 += ['l', 'prev_work', 'prev_rest', 'prev_home']\n",
    "    labels_WAVE1 += ['$l$', '$\\Omega^{work}$', '$\\Omega^{rest}$', '$\\Omega^{home}$']\n",
    "nwalkers_WAVE1=int(samples_dict_WAVE1[f'n_chains_{job_WAVE1}'])\n",
    "samples_WAVE1,flat_samples_WAVE1 = samples_dict_to_emcee_chain(samples_dict_WAVE1, parNames_mcmc_WAVE1, \\\n",
    "                                    nwalkers_WAVE1, discard=discard_WAVE1, thin=thin_WAVE1)\n",
    "\n",
    "# len(samples_dict['beta_R'])/50\n",
    "# samples_dict['warmup']\n",
    "\n",
    "samples_dict_WAVE1.keys()"
   ]
  },
  {
   "cell_type": "code",
   "execution_count": 24,
   "metadata": {
    "ExecuteTime": {
     "end_time": "2021-08-11T12:22:38.371267Z",
     "start_time": "2021-08-11T12:22:38.296085Z"
    }
   },
   "outputs": [
    {
     "name": "stdout",
     "output_type": "stream",
     "text": [
      "Samples from first-wave calibration:  5040000.\n",
      "Samples from second-wave calibration: 36000.\n"
     ]
    }
   ],
   "source": [
    "samples_dict_prediction = dict({})\n",
    "for key_wave1 in ['l', 'prev_work', 'prev_rest', 'prev_home']:\n",
    "    samples_dict_prediction[key_wave1] = samples_dict_WAVE1[key_wave1]\n",
    "for key_wave2 in ['beta_R', 'beta_U', 'beta_M']:\n",
    "    samples_dict_prediction[key_wave2] = samples_dict[key_wave2]\n",
    "    \n",
    "print(f\"Samples from first-wave calibration:  {len(samples_dict_prediction[key_wave1])}.\")\n",
    "print(f\"Samples from second-wave calibration: {len(samples_dict_prediction[key_wave2])}.\")"
   ]
  },
  {
   "cell_type": "code",
   "execution_count": 25,
   "metadata": {
    "ExecuteTime": {
     "end_time": "2021-08-11T12:22:38.448735Z",
     "start_time": "2021-08-11T12:22:38.375211Z"
    }
   },
   "outputs": [],
   "source": [
    "# Define a draw function that takes into account the fact that the number of samples for beta is not the same\n",
    "# as the number of samples for prev and l parameters\n",
    "\n",
    "def draw_fcn(param_dict,samples_dict):\n",
    "    number_of_samples_dict = dict({'beta_R' : len(samples_dict['beta_R']),\n",
    "                               'l' : len(samples_dict['l']) })\n",
    "    key, mod = min(number_of_samples_dict.items())\n",
    "    if key == 'l':\n",
    "        # Choose random value in largest samples collection\n",
    "        idx, param_dict['beta_R'] = random.choice(list(enumerate(samples_dict['beta_R'])))\n",
    "        # take out the other parameters that belong to the same iteration\n",
    "        param_dict['beta_U'] = samples_dict['beta_U'][idx]\n",
    "        param_dict['beta_M'] = samples_dict['beta_M'][idx]\n",
    "        # Make sure to stay within range\n",
    "        param_dict['l'] = samples_dict['l'][idx%mod]\n",
    "        param_dict['prev_home'] = samples_dict['prev_home'][idx%mod]\n",
    "        param_dict['prev_work'] = samples_dict['prev_work'][idx%mod]\n",
    "        param_dict['prev_rest'] = samples_dict['prev_rest'][idx%mod]\n",
    "    elif key == 'beta_R':\n",
    "        idx, param_dict['l'] = random.choice(list(enumerate(samples_dict['l'])))\n",
    "        param_dict['prev_home'] = samples_dict['prev_home'][idx]\n",
    "        param_dict['prev_work'] = samples_dict['prev_work'][idx]\n",
    "        param_dict['prev_rest'] = samples_dict['prev_rest'][idx]\n",
    "        # Make sure to stay within range\n",
    "        param_dict['beta_R'] = samples_dict['beta_R'][idx%mod]\n",
    "        param_dict['beta_U'] = samples_dict['beta_U'][idx%mod]\n",
    "        param_dict['beta_M'] = samples_dict['beta_M'][idx%mod]\n",
    "    return param_dict"
   ]
  },
  {
   "cell_type": "code",
   "execution_count": 26,
   "metadata": {
    "ExecuteTime": {
     "end_time": "2021-08-11T12:25:28.952542Z",
     "start_time": "2021-08-11T12:22:38.449733Z"
    }
   },
   "outputs": [
    {
     "name": "stdout",
     "output_type": "stream",
     "text": [
      "Simulating draw 100/100\r"
     ]
    }
   ],
   "source": [
    "start_sim = samples_dict[f'start_date_{job}']\n",
    "# Note that we can choose to simulate further than the calibration date\n",
    "end_sim = '2020-12-31'\n",
    "warmup = samples_dict['warmup']\n",
    "n_samples = 100\n",
    "out = model.sim(end_sim,start_date=start_sim,warmup=warmup,N=n_samples,draw_fcn=draw_fcn,samples=samples_dict_prediction, verbose=True)"
   ]
  },
  {
   "cell_type": "markdown",
   "metadata": {},
   "source": [
    "# Compare predictions with actual data\n",
    "\n",
    "The rural simulations are quite on point, while the urban and metropolitan simulations are far out. This is most probably due to the fact the the initial conditions at these regions (see in particular Antwerp and Brussels) are not at all representative for the situation at hand.\n",
    "\n",
    "**Wrong initial condition $\\rightarrow$ compensation in calibration by too high beta value $\\rightarrow$ overestimation in prediction**"
   ]
  },
  {
   "cell_type": "code",
   "execution_count": 31,
   "metadata": {
    "ExecuteTime": {
     "end_time": "2021-08-11T12:27:09.994920Z",
     "start_time": "2021-08-11T12:27:08.275407Z"
    }
   },
   "outputs": [
    {
     "data": {
      "image/png": "[encoded data removed]",
      "text/plain": [
       "<Figure size 1080x360 with 1 Axes>"
      ]
     },
     "metadata": {
      "needs_background": "light"
     },
     "output_type": "display_data"
    }
   ],
   "source": [
    "savename = f'../../results/calibrations/COVID19_SEIRD/arr/others/{json_name_WAVE1[:-5]}_FIT.png'\n",
    "savename=None\n",
    "NIS=21000\n",
    "if NIS:\n",
    "    savename = f'insufficient-calibration_{NIS}.png'\n",
    "else:\n",
    "    savename = f'insufficient-calibration_national.png'\n",
    "\n",
    "start_calibration = samples_dict[f'start_date_{job}']\n",
    "end_calibration = samples_dict[f'end_date_{job}']\n",
    "\n",
    "fig, ax = plt.subplots(figsize=(15,5))\n",
    "\n",
    "ax, median_draw = plot_calibration_fit(out, df_sciensano, 'H_in', start_sim, end_sim, \\\n",
    "            start_calibration=start_calibration, end_calibration=end_calibration, NIS=NIS, \\\n",
    "            savename=None, conf_int=0.05, show_all=True, ax=ax)\n",
    "ax.grid(False)\n",
    "ax.set_xticks([pd.to_datetime('2020-09-01'), pd.to_datetime('2020-10-01'), pd.to_datetime('2020-11-01'), \\\n",
    "              pd.to_datetime('2020-12-01'), pd.to_datetime('2020-12-31')])\n",
    "ax.tick_params(axis='both', labelsize=16)\n",
    "if NIS==None:\n",
    "    ax.set_ylabel(r'$H_{in}$ (national)', fontsize=16)\n",
    "else:\n",
    "    ax.set_ylabel(r'$H_{in}$ ('+str(NIS)+')', fontsize=16)\n",
    "# ax.set_ylim([0, 800])\n",
    "\n",
    "subset=False\n",
    "if subset:\n",
    "    ax.set_xlim([pd.to_datetime('2020-09-01'), pd.to_datetime('2020-10-01')])\n",
    "    ax.set_ylim(0, 200)\n",
    "\n",
    "if savename:\n",
    "    plt.savefig(savename, dpi=400, bbox_inches='tight')"
   ]
  },
  {
   "cell_type": "markdown",
   "metadata": {},
   "source": [
    "**Discussion**\n",
    "\n",
    "Possible problems/solutions:\n",
    "- bad initial conditions: you can see that the hospitalisations go down before going up, which causes the need for rather high beta values. This in turn backfires when looking at far-out extrapolations. *Experiment with different initial conditions*\n",
    "- Longer calibration times are needed. We have very few iterations now.\n",
    "- Possibly the values from the first-wave calibration no longer correspond with the actual values (this can be inspected from a total recalibration)\n",
    "- Possibly the estimated social contact and mobility matrices are not realistic for the actual valeus (this can be inspected by comparing the estimate with the actual data)"
   ]
  }
 ],
 "metadata": {
  "kernelspec": {
   "display_name": "Python 3",
   "language": "python",
   "name": "python3"
  },
  "language_info": {
   "codemirror_mode": {
    "name": "ipython",
    "version": 3
   },
   "file_extension": ".py",
   "mimetype": "text/x-python",
   "name": "python",
   "nbconvert_exporter": "python",
   "pygments_lexer": "ipython3",
   "version": "3.7.3"
  },
  "toc": {
   "base_numbering": 1,
   "nav_menu": {},
   "number_sections": true,
   "sideBar": true,
   "skip_h1_title": false,
   "title_cell": "Table of Contents",
   "title_sidebar": "Contents",
   "toc_cell": false,
   "toc_position": {},
   "toc_section_display": true,
   "toc_window_display": false
  }
 },
 "nbformat": 4,
 "nbformat_minor": 2
}
