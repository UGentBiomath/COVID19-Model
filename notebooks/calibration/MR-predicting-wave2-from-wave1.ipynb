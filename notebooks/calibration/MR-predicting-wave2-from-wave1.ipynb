{
 "cells": [
  {
   "cell_type": "markdown",
   "metadata": {},
   "source": [
    "In this Notebook we will attempt to predict the dynamics of the second COVID-19 wave in Belgium at the level of arrondissements, based on ...\n",
    "- Expectation values of all calibrated parameters except $\\beta^R$, $\\beta^U$ and $\\beta^M$, calibrated on the entire first wave\n",
    "- Calibrated values of parameters $\\beta^R$, $\\beta^U$, and $\\beta^M$ (and `warmup`), calibrated on the ascending part of the second wave\n",
    "- Initial condition for all states, based on calibration on first wave.\n",
    "- Knowledge of the timing and severity of non-pharmaceutical measures in the near future\n",
    "- Uncertainties in the first-wave parameter values (from previous calibration), and uncertainties in the second-wave parameter values (from new calibration)\n",
    "\n",
    "**Some side notes (criticism)**\n",
    "- The expectation values of each parameter do *not* correspond to the same run"
   ]
  },
  {
   "cell_type": "code",
   "execution_count": 12,
   "metadata": {
    "ExecuteTime": {
     "end_time": "2021-08-04T10:29:00.481892Z",
     "start_time": "2021-08-04T10:29:00.024960Z"
    }
   },
   "outputs": [
    {
     "name": "stdout",
     "output_type": "stream",
     "text": [
      "The autoreload extension is already loaded. To reload it, use:\n",
      "  %reload_ext autoreload\n"
     ]
    }
   ],
   "source": [
    "# Preamble\n",
    "import corner\n",
    "import pandas as pd\n",
    "import json\n",
    "import numpy as np\n",
    "from IPython.display import IFrame\n",
    "import matplotlib.pyplot as plt\n",
    "\n",
    "from covid19model.models import models\n",
    "from covid19model.models.time_dependant_parameter_fncs import make_mobility_update_function, make_contact_matrix_function\n",
    "from covid19model.models.utils import initial_state\n",
    "# from covid19model.optimization.run_optimization import checkplots, calculate_R0\n",
    "# from covid19model.optimization.objective_fcns import prior_custom, prior_uniform\n",
    "from covid19model.data import mobility, sciensano, model_parameters\n",
    "# from covid19model.optimization import pso, objective_fcns\n",
    "from covid19model.visualization.output import _apply_tick_locator \n",
    "from covid19model.visualization.optimization import autocorrelation_plot, traceplot, plot_fit, plot_calibration_fit\n",
    "from covid19model.visualization.utils import moving_avg\n",
    "from covid19model.optimization.utils import perturbate_PSO, run_MCMC\n",
    "from covid19model.optimization.utils import samples_dict_to_emcee_chain # used for corner plots\n",
    "import random\n",
    "import datetime\n",
    "\n",
    "# OPTIONAL: Load the \"autoreload\" extension so that package code can change\n",
    "%load_ext autoreload\n",
    "# OPTIONAL: always reload modules so that as you change code in src, it gets loaded\n",
    "# This may be useful because the `covid19model` package is under construction\n",
    "%autoreload 2\n",
    "\n",
    "# Copied from mrollier-calibration-WAVE2_spatial.ipynb\n",
    "import gc\n",
    "import sys, getopt\n",
    "import os\n",
    "import ujson as json\n",
    "import random\n",
    "import emcee\n",
    "import datetime\n",
    "import corner\n",
    "import argparse\n",
    "import numpy as np\n",
    "import pandas as pd\n",
    "import matplotlib.pyplot as plt\n",
    "import multiprocessing as mp\n",
    "from multiprocessing import Pool\n",
    "\n",
    "from covid19model.models import models\n",
    "from covid19model.optimization.objective_fcns import prior_custom, prior_uniform\n",
    "from covid19model.data import mobility, sciensano, model_parameters\n",
    "from covid19model.optimization import pso, objective_fcns\n",
    "from covid19model.models.time_dependant_parameter_fncs import ramp_fun\n",
    "from covid19model.visualization.output import _apply_tick_locator \n",
    "from covid19model.visualization.optimization import autocorrelation_plot, traceplot\n",
    "from covid19model.models.utils import initial_state\n",
    "\n",
    "spatial='arr'"
   ]
  },
  {
   "cell_type": "code",
   "execution_count": 23,
   "metadata": {
    "ExecuteTime": {
     "end_time": "2021-08-04T11:17:29.185619Z",
     "start_time": "2021-08-04T11:17:29.122754Z"
    }
   },
   "outputs": [],
   "source": [
    "# Time the runtime\n",
    "initial_time = datetime.datetime.now()\n",
    "\n",
    "# Choose to show progress bar. This cannot be shown on HPC\n",
    "progress = True\n",
    "\n",
    "# User-defined initial states json file\n",
    "initial_states_date = '2020-08-27'\n",
    "initial_states_loc = '../../data/interim/model_parameters/COVID19_SEIRD/calibrations/arr'\n",
    "initial_states_json = f'arr_WAVE1_job-FULL_1000xPSO_20000xMCMC_arr_3-index-in-frac_2021-06-02_states_{initial_states_date}.json'"
   ]
  },
  {
   "cell_type": "code",
   "execution_count": 14,
   "metadata": {
    "ExecuteTime": {
     "end_time": "2021-08-04T10:35:39.160677Z",
     "start_time": "2021-08-04T10:35:39.073908Z"
    }
   },
   "outputs": [],
   "source": [
    "backend = None # None or True\n",
    "job = 'R0' # R0 or FULL\n",
    "warmup = None # warmup must be defined if job == FULL \n",
    "maxiter_PSO = 50 # defaults is 50 (which isn't much)\n",
    "maxn_MCMC = 100 # default is 100 (which isn't much)\n",
    "signature = 'predict-wave2-from-wave1'\n",
    "agg = spatial\n",
    "\n",
    "# Date at which script is started\n",
    "run_date = str(datetime.date.today())"
   ]
  },
  {
   "cell_type": "code",
   "execution_count": 16,
   "metadata": {
    "ExecuteTime": {
     "end_time": "2021-08-04T10:46:37.843714Z",
     "start_time": "2021-08-04T10:46:31.636798Z"
    }
   },
   "outputs": [],
   "source": [
    "# ---------\n",
    "# Load data\n",
    "# ---------\n",
    "\n",
    "# Time-integrated contact matrices\n",
    "initN, Nc_all = model_parameters.get_integrated_willem2012_interaction_matrices(spatial=agg)\n",
    "G, N = initN.shape\n",
    "# Sciensano spatially stratified data\n",
    "moving_avg=False\n",
    "df_sciensano = sciensano.get_sciensano_COVID19_data_spatial(agg=agg, values='hospitalised_IN', moving_avg=moving_avg)\n",
    "# Google Mobility data\n",
    "df_google = mobility.get_google_mobility_data(update=False)\n",
    "# Load and format mobility dataframe\n",
    "proximus_mobility_data, proximus_mobility_data_avg = mobility.get_proximus_mobility_data(agg, dtype='fractional', beyond_borders=False)"
   ]
  },
  {
   "cell_type": "code",
   "execution_count": 18,
   "metadata": {
    "ExecuteTime": {
     "end_time": "2021-08-04T10:56:48.129990Z",
     "start_time": "2021-08-04T10:56:48.044921Z"
    }
   },
   "outputs": [],
   "source": [
    "# ------------------------\n",
    "# Define results locations\n",
    "# ------------------------\n",
    "\n",
    "# Path where traceplot and autocorrelation figures should be stored.\n",
    "# This directory is split up further into autocorrelation, traceplots\n",
    "fig_path = f'../../results/calibrations/COVID19_SEIRD/{agg}/'\n",
    "# Path where MCMC samples should be saved\n",
    "samples_path = f'../../data/interim/model_parameters/COVID19_SEIRD/calibrations/{agg}/'\n",
    "# Path where samples backend should be stored\n",
    "backend_folder = f'../../results/calibrations/COVID19_SEIRD/{agg}/backends/'\n",
    "\n",
    "# Verify that these paths exists\n",
    "if not (os.path.exists(fig_path) and os.path.exists(samples_path) and os.path.exists(backend_folder)):\n",
    "    raise Exception(\"Some of the results location directories do not exist.\")\n",
    "\n",
    "# Verify that the fig_path subdirectories used in the code exist\n",
    "if not (os.path.exists(fig_path+\"autocorrelation/\") and os.path.exists(fig_path+\"traceplots/\") \\\n",
    "       and os.path.exists(fig_path+\"pso/\")):\n",
    "    raise Exception(f\"The directory {fig_path} should have subdirectories 'autocorrelation', 'traceplots' and 'pso'.\")"
   ]
  },
  {
   "cell_type": "code",
   "execution_count": 19,
   "metadata": {
    "ExecuteTime": {
     "end_time": "2021-08-04T10:57:02.573167Z",
     "start_time": "2021-08-04T10:57:02.486762Z"
    }
   },
   "outputs": [],
   "source": [
    "# -----------------------\n",
    "# Define helper functions\n",
    "# -----------------------\n",
    "\n",
    "from covid19model.optimization.utils import assign_PSO, plot_PSO, perturbate_PSO, run_MCMC"
   ]
  },
  {
   "cell_type": "code",
   "execution_count": 20,
   "metadata": {
    "ExecuteTime": {
     "end_time": "2021-08-04T10:57:17.123504Z",
     "start_time": "2021-08-04T10:57:17.040266Z"
    }
   },
   "outputs": [],
   "source": [
    "# ------------------------------------------------------\n",
    "# Define time-dependant parameter functions from classes\n",
    "# ------------------------------------------------------\n",
    "\n",
    "# Load both classes\n",
    "from covid19model.models.time_dependant_parameter_fncs import make_contact_matrix_function, make_mobility_update_function\n",
    "\n",
    "### ATTENTION ###\n",
    "\n",
    "# Define contact matrix functions based on 4 prevention parameters (effectivity parameters)\n",
    "policies_WAVE2_full_relaxation = make_contact_matrix_function(df_google, Nc_all).policies_WAVE2_full_relaxation # with delayed-ramp function\n",
    "\n",
    "# Mobility update function from class __call__ and function wrapper to get the right signature\n",
    "mobility_wrapper_function = make_mobility_update_function(proximus_mobility_data, proximus_mobility_data_avg).mobility_wrapper_func"
   ]
  },
  {
   "cell_type": "code",
   "execution_count": 21,
   "metadata": {
    "ExecuteTime": {
     "end_time": "2021-08-04T11:00:39.603419Z",
     "start_time": "2021-08-04T11:00:39.329879Z"
    }
   },
   "outputs": [],
   "source": [
    "# ---------------------\n",
    "# Load model parameters ... from WAVE1 data (taken from corner plots)\n",
    "# ---------------------\n",
    "\n",
    "### ATTENTION ###\n",
    "\n",
    "# Load the model parameters dictionary\n",
    "params = model_parameters.get_COVID19_SEIRD_parameters(spatial=agg, VOC=False)\n",
    "# Add the time-dependant parameter function arguments\n",
    "# Copy best-fit values from MR-postprocessing-calibration.ipynb\n",
    "params.update({'l' : 8.23,\n",
    "               'prev_schools': 1.0, # was not calibrated because schools were closed all the time\n",
    "               'prev_work': 0.651,\n",
    "               'prev_rest': 0.00786,\n",
    "               'prev_home' : 0.446,\n",
    "               'relaxdate' : '2021-07-01', # new parameter, only relevant for 2021\n",
    "               'l_relax' : 31 # new parameter, only relevant for 2021\n",
    "              })\n",
    "# Add parameters for the daily update of proximus mobility\n",
    "# mobility defaults to average mobility of 2020 if no data is available\n",
    "params.update({'default_mobility' : None})"
   ]
  },
  {
   "cell_type": "code",
   "execution_count": 24,
   "metadata": {
    "ExecuteTime": {
     "end_time": "2021-08-04T11:17:31.938961Z",
     "start_time": "2021-08-04T11:17:31.827723Z"
    }
   },
   "outputs": [],
   "source": [
    "# --------------------\n",
    "# Model initialisation\n",
    "# --------------------\n",
    "\n",
    "# Model initial condition on September 1st\n",
    "# This contains a dict with all states, and values for these states per age\n",
    "# This needs to be modified in such a way that we have the output per region as well\n",
    "with open(f'{initial_states_loc}/{initial_states_json}', 'r') as fp:\n",
    "    initial_states = json.load(fp) \n",
    "\n",
    "# Initiate model with initial states, defined parameters, and proper time dependent functions\n",
    "model = models.COVID19_SEIRD_spatial(initial_states, params, time_dependent_parameters = \\\n",
    "                                           {'Nc' : policies_WAVE2_full_relaxation, 'place' : mobility_wrapper_function}, spatial=agg)"
   ]
  },
  {
   "cell_type": "code",
   "execution_count": 38,
   "metadata": {
    "ExecuteTime": {
     "end_time": "2021-08-04T11:23:16.403501Z",
     "start_time": "2021-08-04T11:23:16.196707Z"
    }
   },
   "outputs": [
    {
     "name": "stdout",
     "output_type": "stream",
     "text": [
      "Let's say the government is getting worried again early September, and gathers data until October, which is when a decision is to be made on how to act.\n"
     ]
    },
    {
     "data": {
      "image/png": "[encoded data removed]",
      "text/plain": [
       "<Figure size 432x288 with 1 Axes>"
      ]
     },
     "metadata": {
      "needs_background": "light"
     },
     "output_type": "display_data"
    }
   ],
   "source": [
    "# Check the time series data and decide on a natural reference point, e.g. one full month of data\n",
    "df_sciensano.sum(axis=1)['2020-08-01':'2020-11-01'].plot()\n",
    "\n",
    "print(\"Let's say the government is getting worried again early September, and gathers data until October, which is when a decision is to be made on how to act.\")"
   ]
  },
  {
   "cell_type": "code",
   "execution_count": 43,
   "metadata": {
    "ExecuteTime": {
     "end_time": "2021-08-04T11:27:26.680717Z",
     "start_time": "2021-08-04T11:27:26.609561Z"
    }
   },
   "outputs": [],
   "source": [
    "# ------------------\n",
    "# Calibration set-up\n",
    "# ------------------\n",
    "\n",
    "# Start data of recalibration ramp\n",
    "start_calibration = '2020-09-01'\n",
    "# Last datapoint used to calibrate warmup and beta\n",
    "end_calibration = '2020-10-01' # date of lockdown\n",
    "\n",
    "# Spatial unit: depends on aggregation\n",
    "spatial_unit = f'{agg}_WAVE2-{job}_{signature}'\n",
    "\n",
    "# PSO settings\n",
    "processes = int(os.getenv('SLURM_CPUS_ON_NODE', mp.cpu_count()))\n",
    "sys.stdout.flush()\n",
    "multiplier = 10\n",
    "maxiter = maxiter_PSO\n",
    "popsize = multiplier*processes\n",
    "\n",
    "# MCMC settings\n",
    "max_n = maxn_MCMC\n",
    "print_n = 100\n",
    "\n",
    "# Offset needed to deal with zeros in data in a Poisson distribution-based calibration\n",
    "poisson_offset = 1"
   ]
  },
  {
   "cell_type": "code",
   "execution_count": 40,
   "metadata": {
    "ExecuteTime": {
     "end_time": "2021-08-04T11:27:00.661905Z",
     "start_time": "2021-08-04T11:27:00.582117Z"
    }
   },
   "outputs": [
    {
     "name": "stdout",
     "output_type": "stream",
     "text": [
      "\n",
      "------------------------------------------\n",
      "PERFORMING CALIBRATION OF WARMUP and BETAs\n",
      "------------------------------------------\n",
      "\n",
      "Using data from 2020-09-01 until 2020-10-01\n",
      "\n",
      "1) Particle swarm optimization\n",
      "~~~~~~~~~~~~~~~~~~~~~~~~~~~~~~\n",
      "\n",
      "Using 12 cores for a population of 120, for maximally 50 iterations.\n",
      "\n"
     ]
    }
   ],
   "source": [
    "# -------------------------\n",
    "# Print statement to stdout\n",
    "# -------------------------\n",
    "\n",
    "print('\\n------------------------------------------')\n",
    "print('PERFORMING CALIBRATION OF WARMUP and BETAs')\n",
    "print('------------------------------------------\\n')\n",
    "print('Using data from '+start_calibration+' until '+end_calibration+'\\n')\n",
    "print('1) Particle swarm optimization')\n",
    "print('~~~~~~~~~~~~~~~~~~~~~~~~~~~~~~\\n')\n",
    "print(f'Using {str(processes)} cores for a population of {popsize}, for maximally {maxiter} iterations.\\n')\n",
    "sys.stdout.flush()"
   ]
  },
  {
   "cell_type": "code",
   "execution_count": 42,
   "metadata": {
    "ExecuteTime": {
     "end_time": "2021-08-04T11:27:22.007620Z",
     "start_time": "2021-08-04T11:27:21.929853Z"
    }
   },
   "outputs": [],
   "source": [
    "# --------------\n",
    "# define dataset\n",
    "# --------------\n",
    "\n",
    "# Only use hospitalisation data\n",
    "data=[df_sciensano[start_calibration:end_calibration]]\n",
    "states = [\"H_in\"]\n",
    "weights = [1]"
   ]
  },
  {
   "cell_type": "code",
   "execution_count": null,
   "metadata": {},
   "outputs": [],
   "source": [
    "# -----------\n",
    "# Perform PSO\n",
    "# -----------\n",
    "\n",
    "# set optimisation settings\n",
    "# NOTE: the initial states are from August 27th, so the warmup time should be the number of days\n",
    "# between August 27th and September 1st, i.e. 5.\n",
    "pars = ['warmup','beta_R', 'beta_U', 'beta_M']\n",
    "bounds=((0.0,10.0),(0.010,0.060), (0.010,0.060), (0.010,0.060))\n",
    "# run optimisation\n",
    "theta = pso.fit_pso(model, data, pars, states, bounds, weights=weights, maxiter=maxiter, popsize=popsize, dist='poisson',\n",
    "                    poisson_offset=poisson_offset, agg=agg, start_date=start_calibration, processes=processes)\n",
    "# Fill in line below if you want to skip PSO\n",
    "# theta = np.array([48, 0.01896, 0.02153, 0.02599])\n",
    "# Assign estimate.\n",
    "warmup, pars_PSO = assign_PSO(model.parameters, pars, theta)\n",
    "model.parameters = pars_PSO\n",
    "\n",
    "# Perform simulation with best-fit results\n",
    "out = model.sim(end_calibration,start_date=start_calibration,warmup=warmup)\n",
    "\n",
    "# Print statement to stdout once\n",
    "print(f'\\nPSO RESULTS:')\n",
    "print(f'------------')\n",
    "print(f'warmup: {warmup}')\n",
    "print(f'infectivities {pars[1:]}: {theta[1:]}.')\n",
    "sys.stdout.flush()"
   ]
  }
 ],
 "metadata": {
  "kernelspec": {
   "display_name": "Python 3",
   "language": "python",
   "name": "python3"
  },
  "language_info": {
   "codemirror_mode": {
    "name": "ipython",
    "version": 3
   },
   "file_extension": ".py",
   "mimetype": "text/x-python",
   "name": "python",
   "nbconvert_exporter": "python",
   "pygments_lexer": "ipython3",
   "version": "3.7.3"
  },
  "toc": {
   "base_numbering": 1,
   "nav_menu": {},
   "number_sections": true,
   "sideBar": true,
   "skip_h1_title": false,
   "title_cell": "Table of Contents",
   "title_sidebar": "Contents",
   "toc_cell": false,
   "toc_position": {},
   "toc_section_display": true,
   "toc_window_display": false
  }
 },
 "nbformat": 4,
 "nbformat_minor": 2
}
