{
 "cells": [
  {
   "cell_type": "markdown",
   "metadata": {},
   "source": [
    "**Calibration of the age-stratified deterministic model**\n",
    "\n",
    "*Original code by Ryan S. McGee. Modified by T.W. Alleman in consultation with the BIOMATH research unit headed by prof. Ingmar Nopens.*\n",
    "\n",
    "Copyright (c) 2020 by T.W. Alleman, BIOMATH, Ghent University. All Rights Reserved.\n",
    "\n",
    "This notebook accompanies our preprint: \"*A deterministic, age-stratified, extended SEIRD model for assessing the effect of non-pharmaceutical interventions on SARS-CoV-2 spread in Belgium*\"(https://doi.org/10.1101/2020.07.17.20156034)"
   ]
  },
  {
   "cell_type": "markdown",
   "metadata": {},
   "source": [
    "# Load required packages"
   ]
  },
  {
   "cell_type": "code",
   "execution_count": 2,
   "metadata": {
    "ExecuteTime": {
     "end_time": "2020-09-07T06:37:07.775333Z",
     "start_time": "2020-09-07T06:37:07.698092Z"
    }
   },
   "outputs": [],
   "source": [
    "import random\n",
    "import os\n",
    "import numpy as np\n",
    "%matplotlib inline\n",
    "import matplotlib.pyplot as plt\n",
    "from IPython.display import Image\n",
    "from ipywidgets import interact,fixed,FloatSlider,IntSlider,ToggleButtons\n",
    "import pandas as pd\n",
    "import datetime\n",
    "import scipy\n",
    "from scipy.integrate import odeint\n",
    "import matplotlib.dates as mdates\n",
    "import matplotlib\n",
    "import scipy.stats as st\n",
    "\n",
    "import math\n",
    "import xarray as xr\n",
    "import emcee\n",
    "import json\n",
    "import corner\n",
    "\n",
    "from covid19model.optimization import objective_fcns\n",
    "from covid19model.optimization import MCMC\n",
    "from covid19model.models import models\n",
    "from covid19model.data import google\n",
    "from covid19model.data import sciensano\n",
    "from covid19model.data import model_parameters\n",
    "from covid19model.visualization.output import population_status, infected\n",
    "from covid19model.visualization.optimization import plot_fit, traceplot\n",
    "from covid19model.optimization.run_optimization import full_calibration\n",
    "\n",
    "# OPTIONAL: Load the \"autoreload\" extension so that package code can change\n",
    "%load_ext autoreload\n",
    "# OPTIONAL: always reload modules so that as you change code in src, it gets loaded\n",
    "%autoreload 2"
   ]
  },
  {
   "cell_type": "markdown",
   "metadata": {},
   "source": [
    "# Load data"
   ]
  },
  {
   "cell_type": "code",
   "execution_count": 3,
   "metadata": {
    "ExecuteTime": {
     "end_time": "2020-09-07T06:37:09.683609Z",
     "start_time": "2020-09-07T06:37:09.641331Z"
    }
   },
   "outputs": [],
   "source": [
    "initN, Nc_home, Nc_work, Nc_schools, Nc_transport, Nc_leisure, Nc_others, Nc_total = model_parameters.get_interaction_matrices()\n",
    "levels = initN.size"
   ]
  },
  {
   "cell_type": "code",
   "execution_count": 4,
   "metadata": {
    "ExecuteTime": {
     "end_time": "2020-09-07T06:37:10.467213Z",
     "start_time": "2020-09-07T06:37:10.362064Z"
    }
   },
   "outputs": [
    {
     "data": {
      "text/html": [
       "<div>\n",
       "<style scoped>\n",
       "    .dataframe tbody tr th:only-of-type {\n",
       "        vertical-align: middle;\n",
       "    }\n",
       "\n",
       "    .dataframe tbody tr th {\n",
       "        vertical-align: top;\n",
       "    }\n",
       "\n",
       "    .dataframe thead th {\n",
       "        text-align: right;\n",
       "    }\n",
       "</style>\n",
       "<table border=\"1\" class=\"dataframe\">\n",
       "  <thead>\n",
       "    <tr style=\"text-align: right;\">\n",
       "      <th></th>\n",
       "      <th>H_tot</th>\n",
       "      <th>ICU_tot</th>\n",
       "      <th>H_in</th>\n",
       "      <th>H_out</th>\n",
       "      <th>H_tot_cumsum</th>\n",
       "      <th>D_tot</th>\n",
       "      <th>D_25_44</th>\n",
       "      <th>D_45_64</th>\n",
       "      <th>D_65_74</th>\n",
       "      <th>D_75_84</th>\n",
       "      <th>D_85+</th>\n",
       "    </tr>\n",
       "    <tr>\n",
       "      <th>DATE</th>\n",
       "      <th></th>\n",
       "      <th></th>\n",
       "      <th></th>\n",
       "      <th></th>\n",
       "      <th></th>\n",
       "      <th></th>\n",
       "      <th></th>\n",
       "      <th></th>\n",
       "      <th></th>\n",
       "      <th></th>\n",
       "      <th></th>\n",
       "    </tr>\n",
       "  </thead>\n",
       "  <tbody>\n",
       "    <tr>\n",
       "      <th>2020-08-06</th>\n",
       "      <td>278</td>\n",
       "      <td>65</td>\n",
       "      <td>28</td>\n",
       "      <td>39</td>\n",
       "      <td>687</td>\n",
       "      <td>2</td>\n",
       "      <td>0.0</td>\n",
       "      <td>0.0</td>\n",
       "      <td>0</td>\n",
       "      <td>1.0</td>\n",
       "      <td>1</td>\n",
       "    </tr>\n",
       "    <tr>\n",
       "      <th>2020-08-07</th>\n",
       "      <td>285</td>\n",
       "      <td>69</td>\n",
       "      <td>27</td>\n",
       "      <td>28</td>\n",
       "      <td>686</td>\n",
       "      <td>4</td>\n",
       "      <td>0.0</td>\n",
       "      <td>0.0</td>\n",
       "      <td>0</td>\n",
       "      <td>1.0</td>\n",
       "      <td>3</td>\n",
       "    </tr>\n",
       "    <tr>\n",
       "      <th>2020-08-08</th>\n",
       "      <td>281</td>\n",
       "      <td>67</td>\n",
       "      <td>31</td>\n",
       "      <td>39</td>\n",
       "      <td>678</td>\n",
       "      <td>2</td>\n",
       "      <td>0.0</td>\n",
       "      <td>0.0</td>\n",
       "      <td>0</td>\n",
       "      <td>2.0</td>\n",
       "      <td>0</td>\n",
       "    </tr>\n",
       "    <tr>\n",
       "      <th>2020-08-09</th>\n",
       "      <td>285</td>\n",
       "      <td>69</td>\n",
       "      <td>20</td>\n",
       "      <td>14</td>\n",
       "      <td>684</td>\n",
       "      <td>4</td>\n",
       "      <td>1.0</td>\n",
       "      <td>0.0</td>\n",
       "      <td>0</td>\n",
       "      <td>1.0</td>\n",
       "      <td>2</td>\n",
       "    </tr>\n",
       "    <tr>\n",
       "      <th>2020-08-10</th>\n",
       "      <td>312</td>\n",
       "      <td>73</td>\n",
       "      <td>33</td>\n",
       "      <td>12</td>\n",
       "      <td>705</td>\n",
       "      <td>3</td>\n",
       "      <td>0.0</td>\n",
       "      <td>1.0</td>\n",
       "      <td>1</td>\n",
       "      <td>0.0</td>\n",
       "      <td>1</td>\n",
       "    </tr>\n",
       "  </tbody>\n",
       "</table>\n",
       "</div>"
      ],
      "text/plain": [
       "            H_tot  ICU_tot  H_in  H_out  H_tot_cumsum  D_tot  D_25_44  \\\n",
       "DATE                                                                    \n",
       "2020-08-06    278       65    28     39           687      2      0.0   \n",
       "2020-08-07    285       69    27     28           686      4      0.0   \n",
       "2020-08-08    281       67    31     39           678      2      0.0   \n",
       "2020-08-09    285       69    20     14           684      4      1.0   \n",
       "2020-08-10    312       73    33     12           705      3      0.0   \n",
       "\n",
       "            D_45_64  D_65_74  D_75_84  D_85+  \n",
       "DATE                                          \n",
       "2020-08-06      0.0        0      1.0      1  \n",
       "2020-08-07      0.0        0      1.0      3  \n",
       "2020-08-08      0.0        0      2.0      0  \n",
       "2020-08-09      0.0        0      1.0      2  \n",
       "2020-08-10      1.0        1      0.0      1  "
      ]
     },
     "execution_count": 4,
     "metadata": {},
     "output_type": "execute_result"
    }
   ],
   "source": [
    "df_sciensano = sciensano.get_sciensano_COVID19_data(update=False)\n",
    "df_sciensano.tail()"
   ]
  },
  {
   "cell_type": "code",
   "execution_count": 5,
   "metadata": {
    "ExecuteTime": {
     "end_time": "2020-09-07T06:37:11.905814Z",
     "start_time": "2020-09-07T06:37:11.829474Z"
    }
   },
   "outputs": [],
   "source": [
    "nonpublic_ts = pd.read_csv('../../data/interim/non_public/all_nonpublic_timeseries.csv', parse_dates=['DATE'])\n",
    "# deceased_hosp = nonpublic_ts[['DATE','deceased_hosp']].groupby('DATE').sum()['2020-03-15':].reset_index()\n",
    "# deceased_hosp['D_cumsum'] = deceased_hosp.deceased_hosp.cumsum()"
   ]
  },
  {
   "cell_type": "code",
   "execution_count": null,
   "metadata": {
    "ExecuteTime": {
     "end_time": "2020-08-21T11:44:36.332612Z",
     "start_time": "2020-08-21T11:44:36.277253Z"
    },
    "scrolled": true
   },
   "outputs": [],
   "source": [
    "nonpublic_ts.Arrondissement.unique()"
   ]
  },
  {
   "cell_type": "code",
   "execution_count": null,
   "metadata": {
    "ExecuteTime": {
     "end_time": "2020-08-21T11:44:37.994822Z",
     "start_time": "2020-08-21T11:44:37.915381Z"
    }
   },
   "outputs": [],
   "source": [
    "nonpublic_ts.tail()"
   ]
  },
  {
   "cell_type": "code",
   "execution_count": null,
   "metadata": {
    "ExecuteTime": {
     "end_time": "2020-08-21T11:44:38.156758Z",
     "start_time": "2020-08-21T11:44:38.107383Z"
    }
   },
   "outputs": [],
   "source": [
    "# H_in = nonpublic_ts[['DATE','hospitalised_IN']].groupby('DATE').sum()['2020-03-15':].reset_index()\n",
    "\n",
    "# fig,ax = plt.subplots()\n",
    "# H_in.plot('DATE','hospitalised_IN', ax=ax)\n",
    "# df_sciensano.reset_index().plot('DATE', 'H_in', ax=ax)"
   ]
  },
  {
   "cell_type": "code",
   "execution_count": 12,
   "metadata": {
    "ExecuteTime": {
     "end_time": "2020-09-07T06:37:38.380891Z",
     "start_time": "2020-09-07T06:37:38.343795Z"
    }
   },
   "outputs": [],
   "source": [
    "arrondissement = 'La Louvière'\n",
    "#readin_date = '2020-08-17' #str(datetime.date.today()) #'2020-08-17'"
   ]
  },
  {
   "cell_type": "code",
   "execution_count": 13,
   "metadata": {
    "ExecuteTime": {
     "end_time": "2020-09-07T06:37:40.625979Z",
     "start_time": "2020-09-07T06:37:40.576095Z"
    }
   },
   "outputs": [],
   "source": [
    "arrond_ts = nonpublic_ts.pivot(index='DATE', columns='Arrondissement', values='hospitalised_IN')[arrondissement]"
   ]
  },
  {
   "cell_type": "code",
   "execution_count": 14,
   "metadata": {
    "ExecuteTime": {
     "end_time": "2020-09-07T06:37:42.671058Z",
     "start_time": "2020-09-07T06:37:42.625317Z"
    }
   },
   "outputs": [
    {
     "data": {
      "text/plain": [
       "DATE\n",
       "2020-01-03    0.0\n",
       "2020-01-04    0.0\n",
       "2020-01-05    0.0\n",
       "2020-01-06    0.0\n",
       "2020-01-07    0.0\n",
       "             ... \n",
       "2020-08-17    NaN\n",
       "2020-08-18    NaN\n",
       "2020-08-19    NaN\n",
       "2020-08-28    NaN\n",
       "2020-11-12    NaN\n",
       "Name: La Louvière, Length: 229, dtype: float64"
      ]
     },
     "execution_count": 14,
     "metadata": {},
     "output_type": "execute_result"
    }
   ],
   "source": [
    "arrond_ts"
   ]
  },
  {
   "cell_type": "code",
   "execution_count": null,
   "metadata": {
    "ExecuteTime": {
     "end_time": "2020-08-21T11:44:39.686362Z",
     "start_time": "2020-08-21T11:44:39.371021Z"
    }
   },
   "outputs": [],
   "source": [
    "arrond_ts.plot()"
   ]
  },
  {
   "cell_type": "markdown",
   "metadata": {},
   "source": [
    "# Initialize the model"
   ]
  },
  {
   "cell_type": "code",
   "execution_count": 8,
   "metadata": {
    "ExecuteTime": {
     "end_time": "2020-09-07T06:37:24.586107Z",
     "start_time": "2020-09-07T06:37:24.513315Z"
    }
   },
   "outputs": [],
   "source": [
    "# Load the parameters using `get_COVID19_SEIRD_parameters()`.\n",
    "params = model_parameters.get_COVID19_SEIRD_parameters()\n",
    "# Add the delayed ramp parameters to the parameter dictionary.\n",
    "params.update({'l': 1,\n",
    "              'tau': 5})\n",
    "# Define the initial condition: one exposed inidividual in every age category\n",
    "initial_states = {'S': initN, 'E': np.ones(levels)}\n",
    "# Load the compliance model\n",
    "from covid19model.models.compliance import ramp_2\n",
    "# Initialize the model\n",
    "model = models.COVID19_SEIRD(initial_states, params, compliance=ramp_2)"
   ]
  },
  {
   "cell_type": "code",
   "execution_count": 9,
   "metadata": {
    "ExecuteTime": {
     "end_time": "2020-09-07T06:37:25.759167Z",
     "start_time": "2020-09-07T06:37:25.710136Z"
    }
   },
   "outputs": [],
   "source": [
    "start_date = '2020-03-15'\n",
    "end_beta = '2020-03-22'\n",
    "end_ramp = '2020-04-20'"
   ]
  },
  {
   "cell_type": "markdown",
   "metadata": {},
   "source": [
    "# Calibration function"
   ]
  },
  {
   "cell_type": "code",
   "execution_count": 10,
   "metadata": {
    "ExecuteTime": {
     "end_time": "2020-09-07T06:37:27.738471Z",
     "start_time": "2020-09-07T06:37:27.701421Z"
    }
   },
   "outputs": [],
   "source": [
    "fig_path = '../../results/calibrations_arrondissements/'\n",
    "samples_path = '../../data/interim/model_parameters/arrondissements/'"
   ]
  },
  {
   "cell_type": "code",
   "execution_count": null,
   "metadata": {
    "ExecuteTime": {
     "start_time": "2020-09-07T06:37:46.981Z"
    },
    "scrolled": false
   },
   "outputs": [
    {
     "name": "stdout",
     "output_type": "stream",
     "text": [
      "No constraints given.\n",
      "New best for swarm at iteration 1: [1.0000000e+00 3.0000000e+01 2.9894475e-02] 7.870504153510955\n",
      "Best after iteration 1: [1.0000000e+00 3.0000000e+01 2.9894475e-02] 7.870504153510955\n",
      "Best after iteration 2: [1.0000000e+00 3.0000000e+01 2.9894475e-02] 7.870504153510955\n",
      "Best after iteration 3: [1.0000000e+00 3.0000000e+01 2.9894475e-02] 7.870504153510955\n",
      "New best for swarm at iteration 4: [1.00000000e+00 5.66562634e+01 2.00000000e-02] 7.667931562888328\n",
      "Best after iteration 4: [1.00000000e+00 5.66562634e+01 2.00000000e-02] 7.667931562888328\n",
      "Best after iteration 5: [1.00000000e+00 5.66562634e+01 2.00000000e-02] 7.667931562888328\n",
      "New best for swarm at iteration 6: [1.00000000e+00 5.56730092e+01 2.00000000e-02] 7.610752739398591\n",
      "Best after iteration 6: [1.00000000e+00 5.56730092e+01 2.00000000e-02] 7.610752739398591\n",
      "Best after iteration 7: [1.00000000e+00 5.56730092e+01 2.00000000e-02] 7.610752739398591\n",
      "Best after iteration 8: [1.00000000e+00 5.56730092e+01 2.00000000e-02] 7.610752739398591\n",
      "Best after iteration 9: [1.00000000e+00 5.56730092e+01 2.00000000e-02] 7.610752739398591\n"
     ]
    },
    {
     "name": "stderr",
     "output_type": "stream",
     "text": [
      "\r",
      "  0%|          | 0/250 [00:00<?, ?it/s]"
     ]
    },
    {
     "name": "stdout",
     "output_type": "stream",
     "text": [
      "Best after iteration 10: [1.00000000e+00 5.56730092e+01 2.00000000e-02] 7.610752739398591\n",
      "Stopping search: maximum iterations reached --> 10\n"
     ]
    },
    {
     "name": "stderr",
     "output_type": "stream",
     "text": [
      "/Applications/miniconda3/envs/work/lib/python3.8/site-packages/emcee/moves/red_blue.py:99: RuntimeWarning: invalid value encountered in double_scalars\n",
      "  lnpdiff = f + nlp - state.log_prob[j]\n",
      "100%|██████████| 250/250 [00:38<00:00,  6.44it/s]\n"
     ]
    },
    {
     "name": "stdout",
     "output_type": "stream",
     "text": [
      "Calibrating beta. Warning: The chain is shorter than 50 times the integrated autocorrelation time for 4 parameter(s). Use this estimate with caution and run a longer chain!\n",
      "No constraints given.\n",
      "New best for swarm at iteration 1: [ 1.          0.1        10.23955443  0.85587944] 65.16400151107558\n",
      "Best after iteration 1: [ 1.          0.1        10.23955443  0.85587944] 65.16400151107558\n",
      "Best after iteration 2: [ 1.          0.1        10.23955443  0.85587944] 65.16400151107558\n",
      "Best after iteration 3: [ 1.          0.1        10.23955443  0.85587944] 65.16400151107558\n",
      "Best after iteration 4: [ 1.          0.1        10.23955443  0.85587944] 65.16400151107558\n",
      "Best after iteration 5: [ 1.          0.1        10.23955443  0.85587944] 65.16400151107558\n",
      "Best after iteration 6: [ 1.          0.1        10.23955443  0.85587944] 65.16400151107558\n",
      "New best for swarm at iteration 7: [ 1.3794598  12.86180555  9.77412501  0.4211577 ] 49.585069996358015\n",
      "Best after iteration 7: [ 1.3794598  12.86180555  9.77412501  0.4211577 ] 49.585069996358015\n",
      "Best after iteration 8: [ 1.3794598  12.86180555  9.77412501  0.4211577 ] 49.585069996358015\n",
      "New best for swarm at iteration 9: [ 1.46312755 20.          9.08541445  0.10259042] 49.013909416996036\n",
      "Best after iteration 9: [ 1.46312755 20.          9.08541445  0.10259042] 49.013909416996036\n",
      "Best after iteration 10: [ 1.46312755 20.          9.08541445  0.10259042] 49.013909416996036\n",
      "Stopping search: maximum iterations reached --> 10\n"
     ]
    },
    {
     "name": "stderr",
     "output_type": "stream",
     "text": [
      "  0%|          | 0/250 [00:00<?, ?it/s]/Applications/miniconda3/envs/work/lib/python3.8/site-packages/emcee/moves/red_blue.py:99: RuntimeWarning: invalid value encountered in double_scalars\n",
      "  lnpdiff = f + nlp - state.log_prob[j]\n",
      " 41%|████      | 102/250 [00:48<01:35,  1.55it/s]"
     ]
    }
   ],
   "source": [
    "samples_dict = full_calibration(model, arrond_ts, arrondissement, start_date, end_beta, end_ramp, \n",
    "                                fig_path, samples_path,\n",
    "                                maxiter=10, popsize=10, steps_mcmc=250)"
   ]
  },
  {
   "cell_type": "code",
   "execution_count": null,
   "metadata": {
    "ExecuteTime": {
     "end_time": "2020-08-21T10:56:44.575590Z",
     "start_time": "2020-08-21T10:55:35.574190Z"
    }
   },
   "outputs": [],
   "source": [
    "states = [['H_in']]\n",
    "start_date = '15-03-2020'\n",
    "end_date = '2020-09-20'\n",
    "data=[arrond_ts[start_date:end_ramp].values]\n",
    "fig,ax=plt.subplots()\n",
    "for i in range(200):\n",
    "    idx,model.parameters['beta'] = random.choice(list(enumerate(samples_dict['beta'])))\n",
    "    idx,model.parameters['l'] = random.choice(list(enumerate(samples_dict['l'])))\n",
    "    model.parameters['tau'] = samples_dict['tau'][idx]\n",
    "    prevention = samples_dict['prevention'][idx]\n",
    "    # Create a dictionary of past policies\n",
    "    chk = {'time':   [start_date], \n",
    "          'Nc':      [prevention*(Nc_home + 0.4*Nc_work + 0.3*Nc_transport + 0.7*Nc_others + 0.2*Nc_leisure)]\n",
    "          }\n",
    "    y_model = model.sim(time=end_date, excess_time=samples_dict['lag_time'],checkpoints=chk)\n",
    "    ax = plot_fit(y_model,data,start_date,samples_dict['lag_time'],states,end_date=end_date,with_ints=False,ax=ax,plt_kwargs={'color':'blue','linewidth': 2,'alpha': 0.05})\n",
    "\n",
    "data_after_calib = arrond_ts[pd.to_datetime(end_ramp)+pd.to_timedelta('1d'):end_date]\n",
    "plt.scatter(data_after_calib.index, data_after_calib.values, marker='o',color='red',linestyle='None',facecolors='none')\n",
    "legend_text=['daily \\nhospitalizations']\n",
    "#leg=ax.legend(legend_text, loc=\"upper left\", bbox_to_anchor=(1,1))\n",
    "#ax.set_ylim([0,850])\n",
    "ax.set_xlim('2020-03-10', '2020-08-03')\n",
    "# fig.savefig('../../results/calibrations_arrondissements/'+arrondissement+'_'+str(datetime.date.today())+'.pdf',\n",
    "#             bbox_inches='tight', dpi=600)"
   ]
  },
  {
   "cell_type": "markdown",
   "metadata": {},
   "source": [
    "# Policies translated to checkpoints"
   ]
  },
  {
   "cell_type": "markdown",
   "metadata": {},
   "source": [
    "chk_beta_pso = {   \n",
    "    'time':  [lag_time],    \n",
    "    'Nc':    [0.2 *Nc_home + ((1-0.70) *Nc_work + (1-0.80) *Nc_transport)],   \n",
    "}"
   ]
  },
  {
   "cell_type": "markdown",
   "metadata": {},
   "source": [
    "Hier geen school want alles dicht van 15 tot 22 maart!"
   ]
  },
  {
   "cell_type": "markdown",
   "metadata": {
    "ExecuteTime": {
     "end_time": "2020-08-11T13:16:18.653938Z",
     "start_time": "2020-08-11T13:16:18.518835Z"
    }
   },
   "source": [
    "chk_beta_MCMC = {   \n",
    "    'time':  [lag_time],   \n",
    "    'Nc':    [prevention *(1.0 *Nc_home + (1-0.60) *Nc_work + (1-0.70) *Nc_transport +(1-0.30) *Nc_others + (1-0.80) *Nc_leisure)],   \n",
    "}"
   ]
  },
  {
   "cell_type": "markdown",
   "metadata": {},
   "source": [
    "tot 20 april nog steeds geen school!"
   ]
  },
  {
   "cell_type": "markdown",
   "metadata": {},
   "source": [
    "chk_ramp_MCMC also used for final plot"
   ]
  },
  {
   "cell_type": "markdown",
   "metadata": {},
   "source": [
    "# Calibrating $\\beta$ and lag_time\n",
    "\n",
    "**Skip this section when parameters were previously calibrated**\n",
    "\n",
    "Use the function `fit_pso` to obtain a good starting estimate for the MCMC sampler."
   ]
  },
  {
   "cell_type": "markdown",
   "metadata": {},
   "source": [
    "JV: \n",
    "- **lag_time = excess time?**\n",
    "- sigma_H_in = variance on the data (**waarom moet dit geschat worden?**)"
   ]
  },
  {
   "cell_type": "markdown",
   "metadata": {},
   "source": [
    "## Initial guess with PSO"
   ]
  },
  {
   "cell_type": "code",
   "execution_count": null,
   "metadata": {
    "ExecuteTime": {
     "end_time": "2020-08-18T06:00:24.623981Z",
     "start_time": "2020-08-18T05:58:44.049553Z"
    },
    "scrolled": true
   },
   "outputs": [],
   "source": [
    "# define dataset\n",
    "data=[arrond_ts[start_date:end_beta]]\n",
    "# set optimisation settings\n",
    "parNames = ['sigma_H_in','extraTime','beta'] # must be a list!\n",
    "states = [[\"H_in\"]]\n",
    "bounds=((1,100),(30,60),(0.02,0.06)) # must be a list!\n",
    "# run optimisation\n",
    "theta = MCMC.fit_pso(model,data,parNames,states,bounds,maxiter=50,popsize=50)"
   ]
  },
  {
   "cell_type": "code",
   "execution_count": null,
   "metadata": {
    "ExecuteTime": {
     "end_time": "2020-08-18T06:11:47.362368Z",
     "start_time": "2020-08-18T06:11:47.271877Z"
    }
   },
   "outputs": [],
   "source": [
    "lag_time = int(round(theta[1]))\n",
    "# Assign 'extraTime' or lag_time as a model attribute --> is needed to perform the optimalization\n",
    "model.extraTime = int(round(theta[1]))\n",
    "\n",
    "model.parameters.update({\n",
    "    'beta': theta[2],\n",
    "}\n",
    ")"
   ]
  },
  {
   "cell_type": "markdown",
   "metadata": {},
   "source": [
    "## MCMC calibration"
   ]
  },
  {
   "cell_type": "code",
   "execution_count": null,
   "metadata": {
    "ExecuteTime": {
     "end_time": "2020-08-18T06:16:29.976380Z",
     "start_time": "2020-08-18T06:12:01.271965Z"
    }
   },
   "outputs": [],
   "source": [
    "parNames = ['sigma_ICU','beta'] # must be a list!\n",
    "bounds=((1,200),(0.01,0.10))\n",
    "\n",
    "pos = [theta[0],theta[2]] + [1, 1e-2 ]* np.random.randn(4, 2)\n",
    "nwalkers, ndim = pos.shape\n",
    "sampler = emcee.EnsembleSampler(nwalkers, ndim, objective_fcns.log_probability,\n",
    "                                args=(model,bounds,data,states,parNames))\n",
    "sampler.run_mcmc(pos, 1000, progress=True); # nsteps=1000 ipv 10,000"
   ]
  },
  {
   "cell_type": "code",
   "execution_count": null,
   "metadata": {
    "ExecuteTime": {
     "end_time": "2020-08-18T06:25:23.444436Z",
     "start_time": "2020-08-18T06:25:23.330932Z"
    }
   },
   "outputs": [],
   "source": [
    "samples = sampler.get_chain(discard=100,flat=False)\n",
    "flat_samples = sampler.get_chain(discard=100,flat=True)"
   ]
  },
  {
   "cell_type": "code",
   "execution_count": null,
   "metadata": {
    "ExecuteTime": {
     "end_time": "2020-08-17T20:27:46.683437Z",
     "start_time": "2020-08-17T20:27:46.610599Z"
    },
    "scrolled": true
   },
   "outputs": [],
   "source": [
    "sampler.get_autocorr_time()"
   ]
  },
  {
   "cell_type": "code",
   "execution_count": null,
   "metadata": {
    "ExecuteTime": {
     "end_time": "2020-08-18T06:25:25.911038Z",
     "start_time": "2020-08-18T06:25:25.859679Z"
    }
   },
   "outputs": [],
   "source": [
    "mean = np.mean(flat_samples[:,1])\n",
    "p10 = np.percentile(flat_samples[:,1],10)\n",
    "p90 = np.percentile(flat_samples[:,1],90)\n",
    "print(mean,p10,p90)"
   ]
  },
  {
   "cell_type": "markdown",
   "metadata": {},
   "source": [
    "Initialize a dictionary of samples and write them to `parameters.json`"
   ]
  },
  {
   "cell_type": "code",
   "execution_count": null,
   "metadata": {
    "ExecuteTime": {
     "end_time": "2020-08-18T06:25:27.645296Z",
     "start_time": "2020-08-18T06:25:27.596467Z"
    }
   },
   "outputs": [],
   "source": [
    "samples_dict={'lag_time': int(round(theta[1])), 'beta': flat_samples[:,1].tolist(), \n",
    "              'start_date':start_date, 'end_beta':end_beta,\n",
    "              'calibration_data':'H_in'}"
   ]
  },
  {
   "cell_type": "code",
   "execution_count": null,
   "metadata": {
    "ExecuteTime": {
     "end_time": "2020-08-18T06:25:36.831214Z",
     "start_time": "2020-08-18T06:25:36.775588Z"
    }
   },
   "outputs": [],
   "source": [
    "with open('../../data/interim/model_parameters/arrondissements/'+arrondissement+'_'+str(datetime.date.today())+'.json', 'w') as fp:\n",
    "    json.dump(samples_dict, fp)"
   ]
  },
  {
   "cell_type": "markdown",
   "metadata": {},
   "source": [
    "Make some diagnostic visualisations"
   ]
  },
  {
   "cell_type": "code",
   "execution_count": null,
   "metadata": {
    "ExecuteTime": {
     "end_time": "2020-08-18T06:25:39.292140Z",
     "start_time": "2020-08-18T06:25:38.903852Z"
    }
   },
   "outputs": [],
   "source": [
    "traceplot(samples,labels=[\"sigma2_ICU\",\"beta\"],plt_kwargs={'linewidth':2,'color': 'red','alpha': 0.15})"
   ]
  },
  {
   "cell_type": "code",
   "execution_count": null,
   "metadata": {
    "ExecuteTime": {
     "end_time": "2020-08-21T06:35:53.102597Z",
     "start_time": "2020-08-21T06:35:51.129978Z"
    }
   },
   "outputs": [],
   "source": [
    "\n",
    "fig = corner.corner(\n",
    "    flat_samples,labels=['$\\sigma_{data}$','$\\\\beta$']\n",
    ");\n",
    "fig.set_size_inches(8, 8)\n",
    "# plt.savefig('corner_beta.pdf', dpi=600, bbox_inches='tight',\n",
    "#                     orientation='portrait', papertype='a4')"
   ]
  },
  {
   "cell_type": "code",
   "execution_count": null,
   "metadata": {
    "ExecuteTime": {
     "end_time": "2020-08-17T20:28:04.807456Z",
     "start_time": "2020-08-17T20:27:59.448909Z"
    }
   },
   "outputs": [],
   "source": [
    "T = 9\n",
    "fig,ax=plt.subplots()\n",
    "\n",
    "for i in range(100):\n",
    "    model.parameters['beta'] = np.random.choice(samples_dict['beta'],1,replace=False)\n",
    "    y_model = model.sim(data[0].size+lag_time-1+T)\n",
    "    ax = plot_fit(y_model,data,start_date,lag_time,states,T=T,ax=ax,plt_kwargs={'color':'blue','linewidth': 2,'alpha': 0.05})\n",
    "\n",
    "plt.scatter(pd.date_range('15-03-2020',freq='D',periods=df_sciensano[\"H_in\"][8:18].size)+datetime.timedelta(days=data[0].size),df_sciensano[\"H_in\"][8:18], marker='o',color='red',linestyle='None',facecolors='none')\n",
    "#legend_text=['daily \\nhospitalizations']\n",
    "#leg=ax.legend(legend_text, loc=\"upper left\", bbox_to_anchor=(1,1))\n",
    "#plt.savefig('plot_fit_beta.pdf', dpi=600, bbox_inches='tight',orientation='portrait', papertype='a4')"
   ]
  },
  {
   "cell_type": "markdown",
   "metadata": {},
   "source": [
    "# Calibrating the compliance ramp parameters"
   ]
  },
  {
   "cell_type": "markdown",
   "metadata": {},
   "source": [
    "## Loading $\\beta$ and lag_time\n",
    "\n",
    "Load the previously calibrated parameters."
   ]
  },
  {
   "cell_type": "code",
   "execution_count": null,
   "metadata": {
    "ExecuteTime": {
     "end_time": "2020-08-18T07:13:58.432596Z",
     "start_time": "2020-08-18T07:13:58.294284Z"
    }
   },
   "outputs": [],
   "source": [
    "with open('../../data/interim/model_parameters/arrondissements/'+arrondissement+'_'+readin_date+'.json', 'r') as fp:\n",
    "    samples_dict = json.load(fp)\n",
    "\n",
    "lag_time = samples_dict['lag_time']\n",
    "model.extraTime = samples_dict['lag_time']\n",
    "model.parameters['beta'] = np.mean(samples_dict['beta'])"
   ]
  },
  {
   "cell_type": "code",
   "execution_count": null,
   "metadata": {
    "ExecuteTime": {
     "end_time": "2020-08-18T07:14:08.557290Z",
     "start_time": "2020-08-18T07:14:08.518314Z"
    }
   },
   "outputs": [],
   "source": [
    "samples_dict.keys()"
   ]
  },
  {
   "cell_type": "code",
   "execution_count": null,
   "metadata": {
    "ExecuteTime": {
     "end_time": "2020-08-18T07:11:25.090356Z",
     "start_time": "2020-08-18T07:11:25.045069Z"
    }
   },
   "outputs": [],
   "source": [
    "samples_beta = {'beta': samples_dict['beta']}"
   ]
  },
  {
   "cell_type": "markdown",
   "metadata": {},
   "source": [
    "## Initial guess with PSO"
   ]
  },
  {
   "cell_type": "code",
   "execution_count": null,
   "metadata": {
    "ExecuteTime": {
     "end_time": "2020-08-18T06:28:56.830434Z",
     "start_time": "2020-08-18T06:25:45.472015Z"
    },
    "scrolled": true
   },
   "outputs": [],
   "source": [
    "# Create checkpoints dictionary\n",
    "chk_beta_pso = {\n",
    "    'time':  [lag_time], \n",
    "    'Nc':    [0.2*Nc_home + 0.3*Nc_work + 0.2*Nc_transport],\n",
    "}\n",
    "# define dataset\n",
    "data=[arrond_ts[start_date:end_ramp]]\n",
    "# set optimisation settings\n",
    "parNames = ['sigma_H_in','l','tau','prevention'] # must be a list!\n",
    "states = [[\"H_in\"]]\n",
    "bounds=((1,100),(0.1,20),(0,20),(0,1)) # must be a list!\n",
    "# run optimisation\n",
    "theta = MCMC.fit_pso(model,data,parNames,states,bounds,checkpoints=chk_beta_pso,samples=samples_beta,maxiter=50,popsize=50)"
   ]
  },
  {
   "cell_type": "code",
   "execution_count": null,
   "metadata": {
    "ExecuteTime": {
     "end_time": "2020-08-18T06:29:45.464319Z",
     "start_time": "2020-08-18T06:29:45.324377Z"
    }
   },
   "outputs": [],
   "source": [
    "model.parameters.update({\n",
    "    'l': theta[1],\n",
    "    'tau': theta[2]\n",
    "\n",
    "}\n",
    ")\n",
    "prevention = theta[2]\n",
    "# Create checkpoints dictionary\n",
    "chk_beta_MCMC = {\n",
    "    'time':  [lag_time], \n",
    "    'Nc':    [prevention*(1.0*Nc_home + 0.4*Nc_work + 0.3*Nc_transport + 0.7*Nc_others\n",
    "                          + 0.2*Nc_leisure)],\n",
    "}"
   ]
  },
  {
   "cell_type": "markdown",
   "metadata": {},
   "source": [
    "## MCMC calibration"
   ]
  },
  {
   "cell_type": "code",
   "execution_count": null,
   "metadata": {
    "ExecuteTime": {
     "end_time": "2020-08-18T06:30:11.059251Z",
     "start_time": "2020-08-18T06:30:11.016515Z"
    }
   },
   "outputs": [],
   "source": [
    "bounds=((1,100),(0.001,20),(0,20),(0,1)) # must be a list!\n",
    "pos = theta + [1, 0.1, 0.1, 0.1 ]* np.random.randn(8, 4)\n",
    "nwalkers, ndim = pos.shape\n",
    "sampler = emcee.EnsembleSampler(nwalkers, ndim, objective_fcns.log_probability,\n",
    "                                args=(model,bounds,data,states,parNames,chk_beta_MCMC,samples_beta))\n"
   ]
  },
  {
   "cell_type": "code",
   "execution_count": null,
   "metadata": {
    "ExecuteTime": {
     "end_time": "2020-08-18T06:36:53.190504Z",
     "start_time": "2020-08-18T06:30:11.407948Z"
    }
   },
   "outputs": [],
   "source": [
    "sampler.run_mcmc(pos, 500, progress=True);#only 500 instead of 10000 steps (for a trial)"
   ]
  },
  {
   "cell_type": "code",
   "execution_count": null,
   "metadata": {
    "ExecuteTime": {
     "end_time": "2020-08-18T06:37:23.652425Z",
     "start_time": "2020-08-18T06:37:23.587274Z"
    }
   },
   "outputs": [],
   "source": [
    "sampler.get_autocorr_time()"
   ]
  },
  {
   "cell_type": "code",
   "execution_count": null,
   "metadata": {
    "ExecuteTime": {
     "end_time": "2020-08-18T06:37:20.535668Z",
     "start_time": "2020-08-18T06:37:20.409742Z"
    }
   },
   "outputs": [],
   "source": [
    "samples = sampler.get_chain(discard=200,flat=False)\n",
    "flat_samples = sampler.get_chain(discard=200,flat=True)"
   ]
  },
  {
   "cell_type": "code",
   "execution_count": null,
   "metadata": {
    "ExecuteTime": {
     "end_time": "2020-08-18T06:37:20.875226Z",
     "start_time": "2020-08-18T06:37:20.830538Z"
    }
   },
   "outputs": [],
   "source": [
    "samples_dict.update({'l': flat_samples[:,1].tolist(),'tau':flat_samples[:,2].tolist(),'prevention':flat_samples[:,3].tolist(), 'end_ramp':end_ramp})"
   ]
  },
  {
   "cell_type": "code",
   "execution_count": null,
   "metadata": {
    "ExecuteTime": {
     "end_time": "2020-08-18T06:37:34.643130Z",
     "start_time": "2020-08-18T06:37:34.578325Z"
    }
   },
   "outputs": [],
   "source": [
    "with open('../../data/interim/model_parameters/arrondissements/'+arrondissement+'_'+str(datetime.date.today())+'.json', 'w') as fp:\n",
    "    json.dump(samples_dict, fp)"
   ]
  },
  {
   "cell_type": "code",
   "execution_count": null,
   "metadata": {
    "ExecuteTime": {
     "end_time": "2020-08-18T06:37:35.306170Z",
     "start_time": "2020-08-18T06:37:35.260408Z"
    }
   },
   "outputs": [],
   "source": [
    "mean = np.mean(flat_samples[:,3])\n",
    "p10 = np.percentile(flat_samples[:,3],10)\n",
    "p90 = np.percentile(flat_samples[:,3],90)\n",
    "print(mean,p10,p90)"
   ]
  },
  {
   "cell_type": "code",
   "execution_count": null,
   "metadata": {
    "ExecuteTime": {
     "end_time": "2020-08-18T06:37:40.376923Z",
     "start_time": "2020-08-18T06:37:36.848704Z"
    }
   },
   "outputs": [],
   "source": [
    "traceplot(samples=sampler.get_chain(discard=200),labels=[\"sigma_data\",\"l\",\"tau\",\"prevention\"],plt_kwargs={'linewidth':2,'color': 'red','alpha': 0.15})"
   ]
  },
  {
   "cell_type": "code",
   "execution_count": null,
   "metadata": {
    "ExecuteTime": {
     "end_time": "2020-08-17T15:41:34.784646Z",
     "start_time": "2020-08-17T15:41:34.738062Z"
    }
   },
   "outputs": [],
   "source": [
    "import corner\n",
    "\n",
    "fig = corner.corner(\n",
    "    flat_samples, labels=[\"$\\sigma_{data}$\",\"l\",\"$\\\\tau$\",\"$\\Omega$\"],\n",
    ");\n",
    "fig.set_size_inches(9, 9)\n",
    "plt.savefig('corner_compliance_delayed_ramp.pdf', dpi=600, bbox_inches='tight',\n",
    "                    orientation='portrait', papertype='a4')"
   ]
  },
  {
   "cell_type": "code",
   "execution_count": null,
   "metadata": {
    "ExecuteTime": {
     "end_time": "2020-08-17T15:42:32.082351Z",
     "start_time": "2020-08-17T15:42:27.915795Z"
    }
   },
   "outputs": [],
   "source": [
    "fig,ax=plt.subplots()\n",
    "t = np.linspace(0,20,400)\n",
    "for i in range(1000):\n",
    "    idx,l= random.choice(list(enumerate(flat_samples[:,1])))\n",
    "    tau = samples_dict['tau'][idx]\n",
    "    y=[]\n",
    "    for j in range(len(t)):\n",
    "        y.append(100*ramp_2(t[j],0,1,l,tau))\n",
    "    ax.plot(t,y,color='blue',linewidth=0.1,alpha=0.05)\n",
    "ax.set_xlabel('days since policy change')\n",
    "ax.set_ylabel('social compliance (%)')\n",
    "#plt.savefig('compliance_delayed_ramp.pdf', dpi=600, bbox_inches='tight',orientation='portrait', papertype='a4')"
   ]
  },
  {
   "cell_type": "markdown",
   "metadata": {},
   "source": [
    "## Result"
   ]
  },
  {
   "cell_type": "code",
   "execution_count": null,
   "metadata": {
    "ExecuteTime": {
     "end_time": "2020-08-18T07:13:00.360406Z",
     "start_time": "2020-08-18T07:12:58.433852Z"
    },
    "scrolled": false
   },
   "outputs": [],
   "source": [
    "states = [['H_in']]\n",
    "start_date = '15-03-2020'\n",
    "end_date = '2020-09-20'\n",
    "data=[arrond_ts[start_date:end_ramp].values]\n",
    "fig,ax=plt.subplots()\n",
    "for i in range(5):\n",
    "    idx,model.parameters['beta'] = random.choice(list(enumerate(samples_dict['beta'])))\n",
    "    idx,model.parameters['l'] = random.choice(list(enumerate(samples_dict['l'])))\n",
    "    model.parameters['tau'] = samples_dict['tau'][idx]\n",
    "    prevention = samples_dict['prevention'][idx]\n",
    "    # Create a dictionary of past policies\n",
    "    chk = {'time':   [start_date], \n",
    "          'Nc':      [prevention*(Nc_home + 0.4*Nc_work + 0.3*Nc_transport + 0.7*Nc_others + 0.2*Nc_leisure)]\n",
    "          }\n",
    "    y_model = model.sim(time=end_date, excess_time=lag_time,checkpoints=chk)\n",
    "    ax = plot_fit(y_model,data,start_date,lag_time,states,end_date=end_date,with_ints=False,ax=ax,plt_kwargs={'color':'blue','linewidth': 2,'alpha': 0.05})\n",
    "\n",
    "data_after_calib = arrond_ts[pd.to_datetime(end_ramp)+pd.to_timedelta('1d'):end_date]\n",
    "plt.scatter(data_after_calib.index, data_after_calib.values, marker='o',color='red',linestyle='None',facecolors='none')\n",
    "legend_text=['daily \\nhospitalizations']\n",
    "#leg=ax.legend(legend_text, loc=\"upper left\", bbox_to_anchor=(1,1))\n",
    "#ax.set_ylim([0,850])\n",
    "ax.set_xlim('2020-03-10', '2020-08-03')\n",
    "#plt.savefig('plot_fit_compliance.pdf', dpi=600, bbox_inches='tight',orientation='portrait', papertype='a4')\n",
    "# fig.savefig('../../results/calibrations_arrondissements/'+arrondissement+'_'+str(datetime.date.today())+'.png',\n",
    "#             bbox_inches='tight', dpi=600)"
   ]
  },
  {
   "cell_type": "markdown",
   "metadata": {},
   "source": [
    "# (Calibration of hospitalization parameters)"
   ]
  },
  {
   "cell_type": "markdown",
   "metadata": {},
   "source": [
    "Load the previously calibrated parameters: $\\beta$, lag_time, k, t0, prevention"
   ]
  },
  {
   "cell_type": "code",
   "execution_count": null,
   "metadata": {},
   "outputs": [],
   "source": [
    "with open('parameters_deterministic.json', 'r') as fp:\n",
    "    samples_dict = json.load(fp)\n",
    "\n",
    "lag_time = samples_dict['lag_time']\n",
    "model.extraTime = samples_dict['lag_time']\n",
    "model.parameters['beta'] = np.mean(samples_dict['beta'])\n",
    "model.parameters['l'] = np.mean(samples_dict['l'])\n",
    "model.parameters['tau'] = np.mean(samples_dict['tau'])\n",
    "prevention = np.mean(samples_dict['prevention'])"
   ]
  },
  {
   "cell_type": "code",
   "execution_count": null,
   "metadata": {},
   "outputs": [],
   "source": [
    "# Create checkpoints dictionary\n",
    "chk = {'time':  [lag_time], \n",
    "       'Nc':    [prevention*(1.0*Nc_home + (1-0.60)*Nc_work + (1-0.70)*Nc_transport + (1-0.30)*Nc_others + (1-0.80)*Nc_leisure)],\n",
    "      }\n",
    "\n",
    "model.parameters['dICUrec'] = 8\n",
    "\n",
    "# define dataset\n",
    "data=[df_sciensano[\"H_out\"].values[:55],df_sciensano[\"ICU_tot\"].values[:55],df_sciensano[\"H_tot\"].values[:55]]\n",
    "# set optimisation settings\n",
    "parNames = ['sigma_H_out','sigma_ICU_tot','sigma_H_tot','dc','dICU'] # must be a list!\n",
    "states = [[\"H_out\"],[\"ICU\"],[\"H_tot\"]]\n",
    "bounds=((1,200),(1,300),(1,600),(2,30),(2,20)) # must be a list!\n",
    "# run optimisation\n",
    "theta = MCMC.fit_pso(model,data,parNames,states,bounds,checkpoints=chk,maxiter=50,popsize=50)"
   ]
  },
  {
   "cell_type": "code",
   "execution_count": null,
   "metadata": {},
   "outputs": [],
   "source": [
    "model.parameters.update({\n",
    "    'dc': theta[3],\n",
    "    'dICU': theta[4]\n",
    "}\n",
    ")"
   ]
  },
  {
   "cell_type": "code",
   "execution_count": null,
   "metadata": {},
   "outputs": [],
   "source": [
    "T = 3\n",
    "fig,ax=plt.subplots()\n",
    "for i in range(1):\n",
    "    y_model = model.sim(data[0].size+lag_time-1+T,checkpoints=chk)\n",
    "    ax = plot_fit(y_model,data,'15-03-2020',lag_time,states,T=T,ax=ax,plt_kwargs={'color':'blue','linewidth': 2,'alpha': 1})"
   ]
  },
  {
   "cell_type": "code",
   "execution_count": null,
   "metadata": {},
   "outputs": [],
   "source": [
    "pos = theta + [5,5,5,3,3]* np.random.randn(10, 5)\n",
    "bounds=((1,500),(1,500),(1,1000),(1,30),(1,30)) \n",
    "nwalkers, ndim = pos.shape\n",
    "sampler = emcee.EnsembleSampler(nwalkers, ndim, objective_fcns.log_probability,\n",
    "                                args=(model,bounds,data,states,parNames,chk))\n",
    "sampler.run_mcmc(pos, 16000, progress=True);"
   ]
  },
  {
   "cell_type": "code",
   "execution_count": null,
   "metadata": {},
   "outputs": [],
   "source": [
    "sampler.get_autocorr_time()"
   ]
  },
  {
   "cell_type": "code",
   "execution_count": null,
   "metadata": {},
   "outputs": [],
   "source": [
    "samples = sampler.get_chain(discard=50,flat=False)\n",
    "flat_samples = sampler.get_chain(discard=50,flat=True)"
   ]
  },
  {
   "cell_type": "code",
   "execution_count": null,
   "metadata": {},
   "outputs": [],
   "source": [
    "mean = np.mean(samples_dict['dICU'])\n",
    "p10 = np.percentile(samples_dict['dICU'],10)\n",
    "p90 = np.percentile(samples_dict['dICU'],90)\n",
    "print(mean,p10,p90)"
   ]
  },
  {
   "cell_type": "code",
   "execution_count": null,
   "metadata": {},
   "outputs": [],
   "source": [
    "samples_dict.update({'dc': flat_samples[:,3].tolist(), 'dICU': flat_samples[:,4].tolist()})"
   ]
  },
  {
   "cell_type": "code",
   "execution_count": null,
   "metadata": {},
   "outputs": [],
   "source": [
    "traceplot(samples=sampler.get_chain(discard=50),labels=[\"sigma_H_out\",\"sigma H_tot\",\"sigma_ICU_tot\",\"dc\",\"dICU\"],plt_kwargs={'linewidth':2,'color': 'red','alpha': 0.15})"
   ]
  },
  {
   "cell_type": "code",
   "execution_count": null,
   "metadata": {},
   "outputs": [],
   "source": [
    "import corner\n",
    "\n",
    "fig = corner.corner(\n",
    "    flat_samples, labels=[\"sigma_H_out\",\"sigma H_tot\",\"sigma_ICU_tot\",\"dc\",\"dICU\"],\n",
    ");\n",
    "fig.set_size_inches(12, 12)\n",
    "plt.savefig('corner_compliance_hospitalization.pdf', dpi=600, bbox_inches='tight',\n",
    "                    orientation='portrait', papertype='a4')"
   ]
  },
  {
   "cell_type": "code",
   "execution_count": null,
   "metadata": {},
   "outputs": [],
   "source": [
    "T = 21\n",
    "\n",
    "fig,ax=plt.subplots()\n",
    "for i in range(300):\n",
    "    model.parameters['beta'] = np.random.choice(samples_dict['beta'],1,replace=False)\n",
    "    model.parameters['l'] = np.random.choice(samples_dict['l'],1,replace=False)\n",
    "    prevention = np.random.choice(samples_dict['prevention'],1,replace=False)\n",
    "    model.parameters['dc'] = np.random.choice(samples_dict['dc'],1,replace=False)\n",
    "    model.parameters['dICU'] = np.random.choice(samples_dict['dICU'],1,replace=False)\n",
    "    # Create checkpoints dictionary\n",
    "    chk = {'time':  [lag_time], \n",
    "           'Nc':    [prevention*(1.3*Nc_home + (1-0.60)*Nc_work + (1-0.70)*Nc_transport + (1-0.30)*Nc_others + (1-0.80)*Nc_leisure)],\n",
    "      }\n",
    "    y_model = model.sim(data[0].size+lag_time-1+T,checkpoints=chk)\n",
    "    ax = plot_fit(y_model,data,'15-03-2020',lag_time,states,T=T,ax=ax,\n",
    "                  legend_text=['Hospital discharges','Intensive care units (total)','Hospitals (total)'],\n",
    "                  plt_kwargs={'linewidth': 0.10,'alpha': 0.15})"
   ]
  },
  {
   "cell_type": "code",
   "execution_count": null,
   "metadata": {},
   "outputs": [],
   "source": [
    "with open('parameters_deterministic.json', 'w') as fp:\n",
    "    json.dump(samples_dict, fp)"
   ]
  },
  {
   "cell_type": "code",
   "execution_count": null,
   "metadata": {
    "ExecuteTime": {
     "end_time": "2020-08-20T14:53:22.600008Z",
     "start_time": "2020-08-20T14:53:22.541438Z"
    }
   },
   "outputs": [],
   "source": [
    "R_0"
   ]
  },
  {
   "cell_type": "code",
   "execution_count": null,
   "metadata": {
    "ExecuteTime": {
     "end_time": "2020-08-20T14:54:50.902427Z",
     "start_time": "2020-08-20T14:54:50.862607Z"
    }
   },
   "outputs": [],
   "source": [
    "initN/sum(initN)"
   ]
  },
  {
   "cell_type": "code",
   "execution_count": null,
   "metadata": {
    "ExecuteTime": {
     "end_time": "2020-08-20T15:00:35.689582Z",
     "start_time": "2020-08-20T15:00:34.216184Z"
    }
   },
   "outputs": [],
   "source": [
    "R_0 =[]\n",
    "for i in range(len(samples_dict['beta'])):\n",
    "    R_0.append(sum((model.parameters['a']*model.parameters['da']+model.parameters['omega'])*samples_dict['beta'][i]*model.parameters['s']*np.sum(Nc_total,axis=1)*(initN/sum(initN))))\n",
    "\n",
    "plt.hist(R_0,bins=30)\n",
    "mean = np.mean(R_0)\n",
    "p10 = np.percentile(R_0,10)\n",
    "p90 = np.percentile(R_0,90)\n",
    "print(mean,p10,p90)"
   ]
  },
  {
   "cell_type": "code",
   "execution_count": null,
   "metadata": {
    "ExecuteTime": {
     "end_time": "2020-08-20T14:57:27.241681Z",
     "start_time": "2020-08-20T14:57:26.407542Z"
    }
   },
   "outputs": [],
   "source": [
    "R_0_stratified = np.zeros([initN.size,len(samples_dict['beta'])])\n",
    "for i in range(len(samples_dict['beta'])):\n",
    "    R_0_stratified[:,i]= (model.parameters['a']*model.parameters['da']+model.parameters['omega'])*samples_dict['beta'][i]*model.parameters['s']*np.sum(Nc_total,axis=1)\n",
    "plt.hist(R_0_stratified[8,:],bins=30)\n",
    "\n",
    "for i in range(R_0_stratified.shape[0]):\n",
    "    mean = np.mean(R_0_stratified[i,:])\n",
    "    p10 = np.percentile(R_0_stratified[i,:],10)\n",
    "    p90 = np.percentile(R_0_stratified[i,:],90)\n",
    "    print(mean,p10,p90)"
   ]
  },
  {
   "cell_type": "code",
   "execution_count": null,
   "metadata": {
    "ExecuteTime": {
     "end_time": "2020-08-20T14:57:31.351164Z",
     "start_time": "2020-08-20T14:57:31.311462Z"
    }
   },
   "outputs": [],
   "source": [
    "R_0_stratified"
   ]
  },
  {
   "cell_type": "code",
   "execution_count": null,
   "metadata": {},
   "outputs": [],
   "source": []
  }
 ],
 "metadata": {
  "kernelspec": {
   "display_name": "Python 3",
   "language": "python",
   "name": "python3"
  },
  "language_info": {
   "codemirror_mode": {
    "name": "ipython",
    "version": 3
   },
   "file_extension": ".py",
   "mimetype": "text/x-python",
   "name": "python",
   "nbconvert_exporter": "python",
   "pygments_lexer": "ipython3",
   "version": "3.8.2"
  },
  "toc": {
   "base_numbering": 1,
   "nav_menu": {},
   "number_sections": true,
   "sideBar": true,
   "skip_h1_title": false,
   "title_cell": "Table of Contents",
   "title_sidebar": "Contents",
   "toc_cell": false,
   "toc_position": {
    "height": "calc(100% - 180px)",
    "left": "10px",
    "top": "150px",
    "width": "288px"
   },
   "toc_section_display": true,
   "toc_window_display": true
  }
 },
 "nbformat": 4,
 "nbformat_minor": 4
}
