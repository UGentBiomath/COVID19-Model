{
 "cells": [
  {
   "cell_type": "markdown",
   "metadata": {},
   "source": [
    "# Covid-19: From model prediction to model predictive control\n",
    "\n",
    "## Calibration of the age-stratified national model (google)\n",
    "\n",
    "*Original code by Ryan S. McGee. Modified by T.W. Alleman in consultation with the BIOMATH research unit headed by prof. Ingmar Nopens.*\n",
    "\n",
    "Copyright (c) 2020 by T.W. Alleman, BIOMATH, Ghent University. All Rights Reserved.\n",
    "\n",
    "This notebook accompanies our preprint: \"*A deterministic, age-stratified, extended SEIRD model for assessing the effect of non-pharmaceutical interventions on SARS-CoV-2 spread in Belgium*\"(https://doi.org/10.1101/2020.07.17.20156034)"
   ]
  },
  {
   "cell_type": "markdown",
   "metadata": {},
   "source": [
    "### Load required packages"
   ]
  },
  {
   "cell_type": "code",
   "execution_count": 1,
   "metadata": {
    "ExecuteTime": {
     "end_time": "2020-11-27T08:40:11.524344Z",
     "start_time": "2020-11-27T08:40:09.203240Z"
    }
   },
   "outputs": [],
   "source": [
    "import random\n",
    "import os\n",
    "import numpy as np\n",
    "import json\n",
    "import corner\n",
    "import random\n",
    "\n",
    "import pandas as pd\n",
    "import datetime\n",
    "import scipy\n",
    "import matplotlib.dates as mdates\n",
    "import matplotlib\n",
    "import math\n",
    "import xarray as xr\n",
    "import emcee\n",
    "import matplotlib.pyplot as plt\n",
    "import datetime\n",
    "\n",
    "from covid19model.optimization import objective_fcns,pso\n",
    "from covid19model.models import models\n",
    "from covid19model.models.utils import draw_sample_COVID19_SEIRD_google\n",
    "from covid19model.models.time_dependant_parameter_fncs import google_lockdown, google_lockdown_no_prev\n",
    "from covid19model.data import google\n",
    "from covid19model.data import sciensano\n",
    "from covid19model.data import model_parameters\n",
    "from covid19model.visualization.output import population_status, infected, _apply_tick_locator \n",
    "from covid19model.visualization.optimization import plot_fit, traceplot\n",
    "\n",
    "# OPTIONAL: Load the \"autoreload\" extension so that package code can change\n",
    "%load_ext autoreload\n",
    "# OPTIONAL: always reload modules so that as you change code in src, it gets loaded\n",
    "%autoreload 2"
   ]
  },
  {
   "cell_type": "markdown",
   "metadata": {},
   "source": [
    "# Load data\n",
    "\n",
    "### Load interaction matrices"
   ]
  },
  {
   "cell_type": "code",
   "execution_count": 2,
   "metadata": {
    "ExecuteTime": {
     "end_time": "2020-11-27T08:40:59.995968Z",
     "start_time": "2020-11-27T08:40:59.513536Z"
    }
   },
   "outputs": [],
   "source": [
    "initN, Nc_home, Nc_work, Nc_schools, Nc_transport, Nc_leisure, Nc_others, Nc_total = model_parameters.get_interaction_matrices(dataset='willem_2012')\n",
    "levels = initN.size"
   ]
  },
  {
   "cell_type": "markdown",
   "metadata": {},
   "source": [
    "### Scrape high-level Sciensano data"
   ]
  },
  {
   "cell_type": "code",
   "execution_count": 3,
   "metadata": {
    "ExecuteTime": {
     "end_time": "2020-11-27T08:41:00.439770Z",
     "start_time": "2020-11-27T08:41:00.314466Z"
    }
   },
   "outputs": [
    {
     "data": {
      "text/html": [
       "<div>\n",
       "<style scoped>\n",
       "    .dataframe tbody tr th:only-of-type {\n",
       "        vertical-align: middle;\n",
       "    }\n",
       "\n",
       "    .dataframe tbody tr th {\n",
       "        vertical-align: top;\n",
       "    }\n",
       "\n",
       "    .dataframe thead th {\n",
       "        text-align: right;\n",
       "    }\n",
       "</style>\n",
       "<table border=\"1\" class=\"dataframe\">\n",
       "  <thead>\n",
       "    <tr style=\"text-align: right;\">\n",
       "      <th></th>\n",
       "      <th>H_tot</th>\n",
       "      <th>ICU_tot</th>\n",
       "      <th>H_in</th>\n",
       "      <th>H_out</th>\n",
       "      <th>H_tot_cumsum</th>\n",
       "      <th>D_tot</th>\n",
       "      <th>D_25_44</th>\n",
       "      <th>D_45_64</th>\n",
       "      <th>D_65_74</th>\n",
       "      <th>D_75_84</th>\n",
       "      <th>D_85+</th>\n",
       "    </tr>\n",
       "    <tr>\n",
       "      <th>DATE</th>\n",
       "      <th></th>\n",
       "      <th></th>\n",
       "      <th></th>\n",
       "      <th></th>\n",
       "      <th></th>\n",
       "      <th></th>\n",
       "      <th></th>\n",
       "      <th></th>\n",
       "      <th></th>\n",
       "      <th></th>\n",
       "      <th></th>\n",
       "    </tr>\n",
       "  </thead>\n",
       "  <tbody>\n",
       "    <tr>\n",
       "      <th>2020-11-24</th>\n",
       "      <td>4820</td>\n",
       "      <td>1105</td>\n",
       "      <td>286</td>\n",
       "      <td>528</td>\n",
       "      <td>4594</td>\n",
       "      <td>83</td>\n",
       "      <td>0.0</td>\n",
       "      <td>12.0</td>\n",
       "      <td>10</td>\n",
       "      <td>24</td>\n",
       "      <td>37</td>\n",
       "    </tr>\n",
       "    <tr>\n",
       "      <th>2020-11-25</th>\n",
       "      <td>4570</td>\n",
       "      <td>1071</td>\n",
       "      <td>272</td>\n",
       "      <td>429</td>\n",
       "      <td>4437</td>\n",
       "      <td>17</td>\n",
       "      <td>1.0</td>\n",
       "      <td>4.0</td>\n",
       "      <td>3</td>\n",
       "      <td>3</td>\n",
       "      <td>6</td>\n",
       "    </tr>\n",
       "  </tbody>\n",
       "</table>\n",
       "</div>"
      ],
      "text/plain": [
       "            H_tot  ICU_tot  H_in  H_out  H_tot_cumsum  D_tot  D_25_44  \\\n",
       "DATE                                                                    \n",
       "2020-11-24   4820     1105   286    528          4594     83      0.0   \n",
       "2020-11-25   4570     1071   272    429          4437     17      1.0   \n",
       "\n",
       "            D_45_64  D_65_74  D_75_84  D_85+  \n",
       "DATE                                          \n",
       "2020-11-24     12.0       10       24     37  \n",
       "2020-11-25      4.0        3        3      6  "
      ]
     },
     "execution_count": 3,
     "metadata": {},
     "output_type": "execute_result"
    }
   ],
   "source": [
    "df_sciensano = sciensano.get_sciensano_COVID19_data(update=False)\n",
    "df_sciensano.tail(2)"
   ]
  },
  {
   "cell_type": "markdown",
   "metadata": {},
   "source": [
    "### Scrape Google Community Mobility Reports"
   ]
  },
  {
   "cell_type": "code",
   "execution_count": 4,
   "metadata": {
    "ExecuteTime": {
     "end_time": "2020-11-27T08:41:01.327444Z",
     "start_time": "2020-11-27T08:41:01.255001Z"
    }
   },
   "outputs": [
    {
     "data": {
      "text/html": [
       "<div>\n",
       "<style scoped>\n",
       "    .dataframe tbody tr th:only-of-type {\n",
       "        vertical-align: middle;\n",
       "    }\n",
       "\n",
       "    .dataframe tbody tr th {\n",
       "        vertical-align: top;\n",
       "    }\n",
       "\n",
       "    .dataframe thead th {\n",
       "        text-align: right;\n",
       "    }\n",
       "</style>\n",
       "<table border=\"1\" class=\"dataframe\">\n",
       "  <thead>\n",
       "    <tr style=\"text-align: right;\">\n",
       "      <th></th>\n",
       "      <th>retail_recreation</th>\n",
       "      <th>grocery</th>\n",
       "      <th>parks</th>\n",
       "      <th>transport</th>\n",
       "      <th>work</th>\n",
       "      <th>residential</th>\n",
       "    </tr>\n",
       "    <tr>\n",
       "      <th>date</th>\n",
       "      <th></th>\n",
       "      <th></th>\n",
       "      <th></th>\n",
       "      <th></th>\n",
       "      <th></th>\n",
       "      <th></th>\n",
       "    </tr>\n",
       "  </thead>\n",
       "  <tbody>\n",
       "    <tr>\n",
       "      <th>2020-11-21</th>\n",
       "      <td>-58.0</td>\n",
       "      <td>-11.0</td>\n",
       "      <td>13.0</td>\n",
       "      <td>-41.0</td>\n",
       "      <td>-20.0</td>\n",
       "      <td>13.0</td>\n",
       "    </tr>\n",
       "    <tr>\n",
       "      <th>2020-11-22</th>\n",
       "      <td>-63.0</td>\n",
       "      <td>-18.0</td>\n",
       "      <td>-11.0</td>\n",
       "      <td>-45.0</td>\n",
       "      <td>-21.0</td>\n",
       "      <td>10.0</td>\n",
       "    </tr>\n",
       "  </tbody>\n",
       "</table>\n",
       "</div>"
      ],
      "text/plain": [
       "            retail_recreation  grocery  parks  transport  work  residential\n",
       "date                                                                       \n",
       "2020-11-21              -58.0    -11.0   13.0      -41.0 -20.0         13.0\n",
       "2020-11-22              -63.0    -18.0  -11.0      -45.0 -21.0         10.0"
      ]
     },
     "execution_count": 4,
     "metadata": {},
     "output_type": "execute_result"
    }
   ],
   "source": [
    "df_google = google.get_google_mobility_data(update=False, plot=False)\n",
    "df_google.tail(2)"
   ]
  },
  {
   "cell_type": "markdown",
   "metadata": {},
   "source": [
    "### Load time-dependant parameters"
   ]
  },
  {
   "cell_type": "code",
   "execution_count": 5,
   "metadata": {
    "ExecuteTime": {
     "end_time": "2020-11-27T08:41:03.797546Z",
     "start_time": "2020-11-27T08:41:03.756355Z"
    }
   },
   "outputs": [],
   "source": [
    "from covid19model.models.time_dependant_parameter_fncs import google_lockdown\n",
    "\n",
    "def switch_beta(t,param,samples_dict):\n",
    "    if t < pd.to_datetime('2020-05-04'):\n",
    "        return np.random.choice(samples_dict['beta'],1,replace=False)\n",
    "    elif pd.to_datetime('2020-05-04') < t <= pd.to_datetime('2020-09-01'):\n",
    "        return np.random.choice(samples_dict['beta_summer'],1,replace=False)\n",
    "    else:\n",
    "        return np.random.choice(samples_dict['beta'],1,replace=False)"
   ]
  },
  {
   "cell_type": "markdown",
   "metadata": {},
   "source": [
    "# Wave 1 - March 2020 - September 2020\n",
    "\n",
    "### Initialize the model using the google lockdown function"
   ]
  },
  {
   "cell_type": "code",
   "execution_count": 7,
   "metadata": {
    "ExecuteTime": {
     "end_time": "2020-11-27T08:42:04.225806Z",
     "start_time": "2020-11-27T08:42:04.033180Z"
    }
   },
   "outputs": [],
   "source": [
    "# Load samples dictionary of the first wave\n",
    "with open('../../data/interim/model_parameters/COVID19_SEIRD/calibrations/national/classical/BE_2020-11-05.json', 'r') as fp:\n",
    "    samples_dict = json.load(fp)"
   ]
  },
  {
   "cell_type": "code",
   "execution_count": 8,
   "metadata": {
    "ExecuteTime": {
     "end_time": "2020-11-27T08:42:07.540495Z",
     "start_time": "2020-11-27T08:42:06.624779Z"
    }
   },
   "outputs": [],
   "source": [
    "initN, Nc_home, Nc_work, Nc_schools, Nc_transport, Nc_leisure, Nc_others, Nc_total = model_parameters.get_interaction_matrices(dataset='willem_2012',intensity='all')\n",
    "initN, Nc_home_15, Nc_work_15, Nc_schools_15, Nc_transport_15, Nc_leisure_15, Nc_others_15, Nc_total_15 = model_parameters.get_interaction_matrices(dataset='willem_2012',intensity='more_15_min')\n",
    "initN, Nc_home_1hr, Nc_work_1hr, Nc_schools_1hr, Nc_transport_1hr, Nc_leisure_1hr, Nc_others_1hr, Nc_total_1hr = model_parameters.get_interaction_matrices(dataset='willem_2012',intensity='more_one_hour')"
   ]
  },
  {
   "cell_type": "code",
   "execution_count": 9,
   "metadata": {
    "ExecuteTime": {
     "end_time": "2020-11-27T08:42:07.593016Z",
     "start_time": "2020-11-27T08:42:07.543414Z"
    }
   },
   "outputs": [],
   "source": [
    "Nc_all = {'total': Nc_total, 'home':Nc_home, 'work': Nc_work, 'schools': Nc_schools, 'transport': Nc_transport, 'leisure': Nc_leisure, 'others': Nc_others}\n",
    "Nc_15min = {'total': Nc_total_15, 'home': Nc_home_15, 'work': Nc_work_15, 'schools': Nc_schools_15, 'transport': Nc_transport_15, 'leisure': Nc_leisure_15, 'others': Nc_others_15}\n",
    "Nc_1hr = {'total': Nc_total_1hr, 'home': Nc_home_1hr, 'work': Nc_work_1hr, 'schools': Nc_schools_1hr, 'transport': Nc_transport_1hr, 'leisure': Nc_leisure_1hr, 'others': Nc_others_1hr}"
   ]
  },
  {
   "cell_type": "code",
   "execution_count": 11,
   "metadata": {
    "ExecuteTime": {
     "end_time": "2020-11-27T08:42:16.994978Z",
     "start_time": "2020-11-27T08:42:16.639357Z"
    }
   },
   "outputs": [],
   "source": [
    "# Load the model parameters using `get_COVID19_SEIRD_parameters()`.\n",
    "params = model_parameters.get_COVID19_SEIRD_parameters()\n",
    "\n",
    "params.update({'df_google': df_google,\n",
    "              'Nc_all' : Nc_all,\n",
    "              'Nc_15min' : Nc_15min,\n",
    "              'Nc_1hr' : Nc_1hr,\n",
    "               'l' : 5,\n",
    "               'tau' : 5,\n",
    "              })\n",
    "\n",
    "# Define the initial condition: one exposed inidividual in every age category\n",
    "initial_states = {'S': initN, 'E': np.ones(levels)}\n",
    "# Initialize the model\n",
    "model = models.COVID19_SEIRD(initial_states, params, time_dependent_parameters={'Nc': google_lockdown_no_prev})"
   ]
  },
  {
   "cell_type": "markdown",
   "metadata": {},
   "source": [
    "## Perform calibration"
   ]
  },
  {
   "cell_type": "code",
   "execution_count": 12,
   "metadata": {
    "ExecuteTime": {
     "end_time": "2020-11-27T08:42:43.961556Z",
     "start_time": "2020-11-27T08:42:43.886288Z"
    }
   },
   "outputs": [],
   "source": [
    "# Date of first data collection\n",
    "start_data = '2020-03-15'\n",
    "# Last datapoint used to calibrate basic reproduction number\n",
    "end_calibration = '2020-05-04'\n",
    "# Start of recalibration beta\n",
    "start_recalibrate_beta = end_calibration\n",
    "# End of recalibration beta\n",
    "end_recalibrate_beta = '2020-09-01'\n",
    "\n",
    "# Path where figures should be stored\n",
    "fig_path = '../../results/calibrations/COVID19_SEIRD/national/'\n",
    "# Path where MCMC samples should be saved\n",
    "samples_path = '../../data/interim/model_parameters/COVID19_SEIRD/calibrations/national/'\n",
    "# Spatial unit: Belgium\n",
    "spatial_unit = 'BE_no_prev'"
   ]
  },
  {
   "cell_type": "code",
   "execution_count": null,
   "metadata": {},
   "outputs": [],
   "source": [
    "start_data"
   ]
  },
  {
   "cell_type": "code",
   "execution_count": 22,
   "metadata": {
    "ExecuteTime": {
     "end_time": "2020-11-27T14:30:01.047538Z",
     "start_time": "2020-11-27T08:51:44.526565Z"
    }
   },
   "outputs": [
    {
     "name": "stdout",
     "output_type": "stream",
     "text": [
      "------------------------------------\n",
      "CALIBRATING BETA AND COMPLIANCE RAMP\n",
      "------------------------------------\n",
      "\n",
      "Using data from 2020-03-15 until 2020-05-04\n",
      "\n",
      "1) Particle swarm optimization\n",
      "\n",
      "No constraints given.\n",
      "Best after iteration 1: [7.82710369e+01 3.95086576e-02 2.16930304e+00 9.70991078e+00] 239.27004777699824\n",
      "Best after iteration 2: [7.82710369e+01 3.95086576e-02 2.16930304e+00 9.70991078e+00] 239.27004777699824\n",
      "New best for swarm at iteration 3: [7.99819011e+01 3.99606185e-02 1.00000000e-02 1.08104879e+01] 235.83841007979845\n",
      "Best after iteration 3: [7.99819011e+01 3.99606185e-02 1.00000000e-02 1.08104879e+01] 235.83841007979845\n",
      "New best for swarm at iteration 4: [5.42384704e+01 4.00000000e-02 1.00000000e-02 1.06652661e+01] 231.24265488301805\n",
      "Best after iteration 4: [5.42384704e+01 4.00000000e-02 1.00000000e-02 1.06652661e+01] 231.24265488301805\n",
      "Best after iteration 5: [5.42384704e+01 4.00000000e-02 1.00000000e-02 1.06652661e+01] 231.24265488301805\n",
      "Best after iteration 6: [5.42384704e+01 4.00000000e-02 1.00000000e-02 1.06652661e+01] 231.24265488301805\n",
      "New best for swarm at iteration 7: [5.81753622e+01 4.00000000e-02 1.00000000e-02 9.71416020e+00] 230.92880840125838\n",
      "Best after iteration 7: [5.81753622e+01 4.00000000e-02 1.00000000e-02 9.71416020e+00] 230.92880840125838\n",
      "Best after iteration 8: [5.81753622e+01 4.00000000e-02 1.00000000e-02 9.71416020e+00] 230.92880840125838\n",
      "Best after iteration 9: [5.81753622e+01 4.00000000e-02 1.00000000e-02 9.71416020e+00] 230.92880840125838\n",
      "New best for swarm at iteration 10: [5.94753051e+01 3.98960479e-02 1.00000000e-02 1.10895454e+01] 230.77063937671602\n",
      "Best after iteration 10: [5.94753051e+01 3.98960479e-02 1.00000000e-02 1.10895454e+01] 230.77063937671602\n",
      "Best after iteration 11: [5.94753051e+01 3.98960479e-02 1.00000000e-02 1.10895454e+01] 230.77063937671602\n",
      "Best after iteration 12: [5.94753051e+01 3.98960479e-02 1.00000000e-02 1.10895454e+01] 230.77063937671602\n",
      "New best for swarm at iteration 13: [5.94915759e+01 3.98496809e-02 1.00000000e-02 1.05009362e+01] 230.38188393510586\n",
      "Best after iteration 13: [5.94915759e+01 3.98496809e-02 1.00000000e-02 1.05009362e+01] 230.38188393510586\n",
      "Best after iteration 14: [5.94915759e+01 3.98496809e-02 1.00000000e-02 1.05009362e+01] 230.38188393510586\n",
      "New best for swarm at iteration 15: [5.44322682e+01 3.99106364e-02 1.00000000e-02 1.08753296e+01] 230.0990338491579\n",
      "Best after iteration 15: [5.44322682e+01 3.99106364e-02 1.00000000e-02 1.08753296e+01] 230.0990338491579\n",
      "New best for swarm at iteration 16: [5.55545889e+01 3.98801334e-02 1.00000000e-02 1.01138246e+01] 230.04317277665206\n",
      "Best after iteration 16: [5.55545889e+01 3.98801334e-02 1.00000000e-02 1.01138246e+01] 230.04317277665206\n",
      "New best for swarm at iteration 17: [5.48210356e+01 3.98865637e-02 1.00000000e-02 1.10567896e+01] 230.01118114255644\n",
      "Best after iteration 17: [5.48210356e+01 3.98865637e-02 1.00000000e-02 1.10567896e+01] 230.01118114255644\n",
      "Best after iteration 18: [5.48210356e+01 3.98865637e-02 1.00000000e-02 1.10567896e+01] 230.01118114255644\n",
      "Best after iteration 19: [5.48210356e+01 3.98865637e-02 1.00000000e-02 1.10567896e+01] 230.01118114255644\n",
      "Best after iteration 20: [5.48210356e+01 3.98865637e-02 1.00000000e-02 1.10567896e+01] 230.01118114255644\n",
      "Best after iteration 21: [5.48210356e+01 3.98865637e-02 1.00000000e-02 1.10567896e+01] 230.01118114255644\n",
      "Best after iteration 22: [5.48210356e+01 3.98865637e-02 1.00000000e-02 1.10567896e+01] 230.01118114255644\n",
      "Best after iteration 23: [5.48210356e+01 3.98865637e-02 1.00000000e-02 1.10567896e+01] 230.01118114255644\n",
      "Best after iteration 24: [5.48210356e+01 3.98865637e-02 1.00000000e-02 1.10567896e+01] 230.01118114255644\n",
      "Best after iteration 25: [5.48210356e+01 3.98865637e-02 1.00000000e-02 1.10567896e+01] 230.01118114255644\n",
      "Best after iteration 26: [5.48210356e+01 3.98865637e-02 1.00000000e-02 1.10567896e+01] 230.01118114255644\n",
      "Best after iteration 27: [5.48210356e+01 3.98865637e-02 1.00000000e-02 1.10567896e+01] 230.01118114255644\n",
      "Best after iteration 28: [5.48210356e+01 3.98865637e-02 1.00000000e-02 1.10567896e+01] 230.01118114255644\n",
      "Best after iteration 29: [5.48210356e+01 3.98865637e-02 1.00000000e-02 1.10567896e+01] 230.01118114255644\n",
      "Best after iteration 30: [5.48210356e+01 3.98865637e-02 1.00000000e-02 1.10567896e+01] 230.01118114255644\n",
      "Best after iteration 31: [5.48210356e+01 3.98865637e-02 1.00000000e-02 1.10567896e+01] 230.01118114255644\n",
      "Best after iteration 32: [5.48210356e+01 3.98865637e-02 1.00000000e-02 1.10567896e+01] 230.01118114255644\n",
      "Best after iteration 33: [5.48210356e+01 3.98865637e-02 1.00000000e-02 1.10567896e+01] 230.01118114255644\n",
      "Best after iteration 34: [5.48210356e+01 3.98865637e-02 1.00000000e-02 1.10567896e+01] 230.01118114255644\n",
      "Best after iteration 35: [5.48210356e+01 3.98865637e-02 1.00000000e-02 1.10567896e+01] 230.01118114255644\n",
      "Best after iteration 36: [5.48210356e+01 3.98865637e-02 1.00000000e-02 1.10567896e+01] 230.01118114255644\n",
      "Best after iteration 37: [5.48210356e+01 3.98865637e-02 1.00000000e-02 1.10567896e+01] 230.01118114255644\n",
      "Best after iteration 38: [5.48210356e+01 3.98865637e-02 1.00000000e-02 1.10567896e+01] 230.01118114255644\n",
      "Best after iteration 39: [5.48210356e+01 3.98865637e-02 1.00000000e-02 1.10567896e+01] 230.01118114255644\n",
      "New best for swarm at iteration 40: [5.53685303e+01 3.98460694e-02 1.00000000e-02 1.10549002e+01] 230.00358841769935\n",
      "Best after iteration 40: [5.53685303e+01 3.98460694e-02 1.00000000e-02 1.10549002e+01] 230.00358841769935\n",
      "Best after iteration 41: [5.53685303e+01 3.98460694e-02 1.00000000e-02 1.10549002e+01] 230.00358841769935\n",
      "New best for swarm at iteration 42: [5.58296649e+01 3.98402789e-02 1.00000000e-02 1.10543501e+01] 229.9750448239992\n",
      "Best after iteration 42: [5.58296649e+01 3.98402789e-02 1.00000000e-02 1.10543501e+01] 229.9750448239992\n",
      "New best for swarm at iteration 43: [5.54996377e+01 3.98264555e-02 1.00000000e-02 1.10539948e+01] 229.94312362145763\n",
      "Best after iteration 43: [5.54996377e+01 3.98264555e-02 1.00000000e-02 1.10539948e+01] 229.94312362145763\n",
      "Best after iteration 44: [5.54996377e+01 3.98264555e-02 1.00000000e-02 1.10539948e+01] 229.94312362145763\n",
      "Best after iteration 45: [5.54996377e+01 3.98264555e-02 1.00000000e-02 1.10539948e+01] 229.94312362145763\n",
      "Best after iteration 46: [5.54996377e+01 3.98264555e-02 1.00000000e-02 1.10539948e+01] 229.94312362145763\n",
      "Best after iteration 47: [5.54996377e+01 3.98264555e-02 1.00000000e-02 1.10539948e+01] 229.94312362145763\n",
      "Best after iteration 48: [5.54996377e+01 3.98264555e-02 1.00000000e-02 1.10539948e+01] 229.94312362145763\n",
      "Best after iteration 49: [5.54996377e+01 3.98264555e-02 1.00000000e-02 1.10539948e+01] 229.94312362145763\n",
      "Best after iteration 50: [5.54996377e+01 3.98264555e-02 1.00000000e-02 1.10539948e+01] 229.94312362145763\n",
      "New best for swarm at iteration 51: [5.54288282e+01 3.98432352e-02 1.00000000e-02 1.10542849e+01] 229.86798245000796\n",
      "Best after iteration 51: [5.54288282e+01 3.98432352e-02 1.00000000e-02 1.10542849e+01] 229.86798245000796\n",
      "Best after iteration 52: [5.54288282e+01 3.98432352e-02 1.00000000e-02 1.10542849e+01] 229.86798245000796\n",
      "Best after iteration 53: [5.54288282e+01 3.98432352e-02 1.00000000e-02 1.10542849e+01] 229.86798245000796\n",
      "New best for swarm at iteration 54: [5.54214356e+01 3.98454294e-02 1.00000000e-02 1.10544488e+01] 229.82701213843515\n",
      "Best after iteration 54: [5.54214356e+01 3.98454294e-02 1.00000000e-02 1.10544488e+01] 229.82701213843515\n",
      "Best after iteration 55: [5.54214356e+01 3.98454294e-02 1.00000000e-02 1.10544488e+01] 229.82701213843515\n",
      "Best after iteration 56: [5.54214356e+01 3.98454294e-02 1.00000000e-02 1.10544488e+01] 229.82701213843515\n",
      "New best for swarm at iteration 57: [5.53392630e+01 3.98483437e-02 1.00000000e-02 1.10545139e+01] 229.8117522087092\n",
      "Best after iteration 57: [5.53392630e+01 3.98483437e-02 1.00000000e-02 1.10545139e+01] 229.8117522087092\n",
      "Best after iteration 58: [5.53392630e+01 3.98483437e-02 1.00000000e-02 1.10545139e+01] 229.8117522087092\n",
      "Best after iteration 59: [5.53392630e+01 3.98483437e-02 1.00000000e-02 1.10545139e+01] 229.8117522087092\n",
      "Best after iteration 60: [5.53392630e+01 3.98483437e-02 1.00000000e-02 1.10545139e+01] 229.8117522087092\n",
      "Best after iteration 61: [5.53392630e+01 3.98483437e-02 1.00000000e-02 1.10545139e+01] 229.8117522087092\n"
     ]
    },
    {
     "name": "stdout",
     "output_type": "stream",
     "text": [
      "Best after iteration 62: [5.53392630e+01 3.98483437e-02 1.00000000e-02 1.10545139e+01] 229.8117522087092\n",
      "Best after iteration 63: [5.53392630e+01 3.98483437e-02 1.00000000e-02 1.10545139e+01] 229.8117522087092\n",
      "Best after iteration 64: [5.53392630e+01 3.98483437e-02 1.00000000e-02 1.10545139e+01] 229.8117522087092\n",
      "Best after iteration 65: [5.53392630e+01 3.98483437e-02 1.00000000e-02 1.10545139e+01] 229.8117522087092\n",
      "Best after iteration 66: [5.53392630e+01 3.98483437e-02 1.00000000e-02 1.10545139e+01] 229.8117522087092\n",
      "Best after iteration 67: [5.53392630e+01 3.98483437e-02 1.00000000e-02 1.10545139e+01] 229.8117522087092\n",
      "Best after iteration 68: [5.53392630e+01 3.98483437e-02 1.00000000e-02 1.10545139e+01] 229.8117522087092\n",
      "Best after iteration 69: [5.53392630e+01 3.98483437e-02 1.00000000e-02 1.10545139e+01] 229.8117522087092\n",
      "Best after iteration 70: [5.53392630e+01 3.98483437e-02 1.00000000e-02 1.10545139e+01] 229.8117522087092\n",
      "Best after iteration 71: [5.53392630e+01 3.98483437e-02 1.00000000e-02 1.10545139e+01] 229.8117522087092\n",
      "Best after iteration 72: [5.53392630e+01 3.98483437e-02 1.00000000e-02 1.10545139e+01] 229.8117522087092\n",
      "Best after iteration 73: [5.53392630e+01 3.98483437e-02 1.00000000e-02 1.10545139e+01] 229.8117522087092\n",
      "Best after iteration 74: [5.53392630e+01 3.98483437e-02 1.00000000e-02 1.10545139e+01] 229.8117522087092\n",
      "Best after iteration 75: [5.53392630e+01 3.98483437e-02 1.00000000e-02 1.10545139e+01] 229.8117522087092\n",
      "Best after iteration 76: [5.53392630e+01 3.98483437e-02 1.00000000e-02 1.10545139e+01] 229.8117522087092\n",
      "Best after iteration 77: [5.53392630e+01 3.98483437e-02 1.00000000e-02 1.10545139e+01] 229.8117522087092\n",
      "Best after iteration 78: [5.53392630e+01 3.98483437e-02 1.00000000e-02 1.10545139e+01] 229.8117522087092\n",
      "Best after iteration 79: [5.53392630e+01 3.98483437e-02 1.00000000e-02 1.10545139e+01] 229.8117522087092\n",
      "Best after iteration 80: [5.53392630e+01 3.98483437e-02 1.00000000e-02 1.10545139e+01] 229.8117522087092\n",
      "Best after iteration 81: [5.53392630e+01 3.98483437e-02 1.00000000e-02 1.10545139e+01] 229.8117522087092\n",
      "Best after iteration 82: [5.53392630e+01 3.98483437e-02 1.00000000e-02 1.10545139e+01] 229.8117522087092\n",
      "Best after iteration 83: [5.53392630e+01 3.98483437e-02 1.00000000e-02 1.10545139e+01] 229.8117522087092\n",
      "Best after iteration 84: [5.53392630e+01 3.98483437e-02 1.00000000e-02 1.10545139e+01] 229.8117522087092\n",
      "Best after iteration 85: [5.53392630e+01 3.98483437e-02 1.00000000e-02 1.10545139e+01] 229.8117522087092\n",
      "Best after iteration 86: [5.53392630e+01 3.98483437e-02 1.00000000e-02 1.10545139e+01] 229.8117522087092\n",
      "Best after iteration 87: [5.53392630e+01 3.98483437e-02 1.00000000e-02 1.10545139e+01] 229.8117522087092\n",
      "Best after iteration 88: [5.53392630e+01 3.98483437e-02 1.00000000e-02 1.10545139e+01] 229.8117522087092\n",
      "Best after iteration 89: [5.53392630e+01 3.98483437e-02 1.00000000e-02 1.10545139e+01] 229.8117522087092\n",
      "Best after iteration 90: [5.53392630e+01 3.98483437e-02 1.00000000e-02 1.10545139e+01] 229.8117522087092\n",
      "Best after iteration 91: [5.53392630e+01 3.98483437e-02 1.00000000e-02 1.10545139e+01] 229.8117522087092\n",
      "New best for swarm at iteration 92: [5.53423885e+01 3.98492127e-02 1.00000000e-02 1.10545621e+01] 229.8115921921842\n",
      "Best after iteration 92: [5.53423885e+01 3.98492127e-02 1.00000000e-02 1.10545621e+01] 229.8115921921842\n",
      "Best after iteration 93: [5.53423885e+01 3.98492127e-02 1.00000000e-02 1.10545621e+01] 229.8115921921842\n",
      "Best after iteration 94: [5.53423885e+01 3.98492127e-02 1.00000000e-02 1.10545621e+01] 229.8115921921842\n",
      "New best for swarm at iteration 95: [5.52897994e+01 3.98492487e-02 1.00000000e-02 1.10545635e+01] 229.81088628484434\n",
      "Best after iteration 95: [5.52897994e+01 3.98492487e-02 1.00000000e-02 1.10545635e+01] 229.81088628484434\n",
      "Best after iteration 96: [5.52897994e+01 3.98492487e-02 1.00000000e-02 1.10545635e+01] 229.81088628484434\n",
      "Best after iteration 97: [5.52897994e+01 3.98492487e-02 1.00000000e-02 1.10545635e+01] 229.81088628484434\n",
      "Best after iteration 98: [5.52897994e+01 3.98492487e-02 1.00000000e-02 1.10545635e+01] 229.81088628484434\n",
      "New best for swarm at iteration 99: [5.52764814e+01 3.98493398e-02 1.00000000e-02 1.10545688e+01] 229.81072606329798\n",
      "Best after iteration 99: [5.52764814e+01 3.98493398e-02 1.00000000e-02 1.10545688e+01] 229.81072606329798\n",
      "Best after iteration 100: [5.52764814e+01 3.98493398e-02 1.00000000e-02 1.10545688e+01] 229.81072606329798\n",
      "Stopping search: maximum iterations reached --> 100\n",
      "\n",
      "2) Markov-Chain Monte-Carlo sampling\n",
      "\n"
     ]
    },
    {
     "name": "stderr",
     "output_type": "stream",
     "text": [
      "  0%|          | 0/5000 [00:00<?, ?it/s]/home/data/jvergeyn/.conda/envs/COVID_MODEL/lib/python3.7/site-packages/emcee/moves/red_blue.py:99: RuntimeWarning: invalid value encountered in double_scalars\n",
      "  lnpdiff = f + nlp - state.log_prob[j]\n",
      "100%|██████████| 5000/5000 [5:33:56<00:00,  4.01s/it]  "
     ]
    },
    {
     "name": "stdout",
     "output_type": "stream",
     "text": [
      "Warning: The chain is shorter than 50 times the integrated autocorrelation time for 4 parameter(s).\n",
      "Use this estimate with caution and run a longer chain!\n"
     ]
    },
    {
     "name": "stderr",
     "output_type": "stream",
     "text": [
      "\n"
     ]
    },
    {
     "ename": "ValueError",
     "evalue": "slice step cannot be zero",
     "output_type": "error",
     "traceback": [
      "\u001b[0;31m---------------------------------------------------------------------------\u001b[0m",
      "\u001b[0;31mValueError\u001b[0m                                Traceback (most recent call last)",
      "\u001b[0;32m<ipython-input-22-312a4270caf4>\u001b[0m in \u001b[0;36m<module>\u001b[0;34m\u001b[0m\n\u001b[1;32m      3\u001b[0m                         \u001b[0mend_recalibrate_beta\u001b[0m\u001b[0;34m,\u001b[0m \u001b[0mfig_path\u001b[0m\u001b[0;34m,\u001b[0m\u001b[0;34m\u001b[0m\u001b[0;34m\u001b[0m\u001b[0m\n\u001b[1;32m      4\u001b[0m                         \u001b[0msamples_path\u001b[0m\u001b[0;34m,\u001b[0m \u001b[0minitN\u001b[0m\u001b[0;34m,\u001b[0m \u001b[0mNc_total\u001b[0m\u001b[0;34m,\u001b[0m\u001b[0mwarmup\u001b[0m\u001b[0;34m=\u001b[0m\u001b[0msamples_dict\u001b[0m\u001b[0;34m[\u001b[0m\u001b[0;34m'warmup'\u001b[0m\u001b[0;34m]\u001b[0m\u001b[0;34m,\u001b[0m\u001b[0mmaxiter\u001b[0m\u001b[0;34m=\u001b[0m\u001b[0;36m100\u001b[0m\u001b[0;34m,\u001b[0m \u001b[0mpopsize\u001b[0m\u001b[0;34m=\u001b[0m\u001b[0;36m100\u001b[0m\u001b[0;34m,\u001b[0m \u001b[0msteps_mcmc\u001b[0m\u001b[0;34m=\u001b[0m\u001b[0;36m5000\u001b[0m\u001b[0;34m,\u001b[0m\u001b[0;34m\u001b[0m\u001b[0;34m\u001b[0m\u001b[0m\n\u001b[0;32m----> 5\u001b[0;31m                         discard=1000, omega=0.8, phip=0.8, phig=0.8, processes=32)\n\u001b[0m",
      "\u001b[0;32m~/Documents/COVID19-Model/src/covid19model/optimization/run_optimization.py\u001b[0m in \u001b[0;36mgoogle_calibration_wave1\u001b[0;34m(model, timeseries, spatial_unit, start_data, end_beta_ramp, start_recalibrate_beta, end_recalibrate_beta, fig_path, samples_path, initN, Nc_total, warmup, maxiter, popsize, n, steps_mcmc, discard, omega, phip, phig, processes)\u001b[0m\n\u001b[1;32m    166\u001b[0m     \u001b[0;31m# Make and save diagnostic visualizations\u001b[0m\u001b[0;34m\u001b[0m\u001b[0;34m\u001b[0m\u001b[0;34m\u001b[0m\u001b[0m\n\u001b[1;32m    167\u001b[0m     checkplots(sampler, discard, thin, fig_path, spatial_unit, \n\u001b[0;32m--> 168\u001b[0;31m                 figname='BETA_RAMP_GOOGLE_WAVE1_ ', labels=['$\\sigma_{data}$','$\\\\beta$','l','$\\\\tau$'])\n\u001b[0m\u001b[1;32m    169\u001b[0m \u001b[0;34m\u001b[0m\u001b[0m\n\u001b[1;32m    170\u001b[0m     \u001b[0;31m# Save output in parameter dictionary\u001b[0m\u001b[0;34m\u001b[0m\u001b[0;34m\u001b[0m\u001b[0;34m\u001b[0m\u001b[0m\n",
      "\u001b[0;32m~/Documents/COVID19-Model/src/covid19model/optimization/run_optimization.py\u001b[0m in \u001b[0;36mcheckplots\u001b[0;34m(sampler, discard, thin, fig_path, spatial_unit, figname, labels)\u001b[0m\n\u001b[1;32m     29\u001b[0m \u001b[0;32mdef\u001b[0m \u001b[0mcheckplots\u001b[0m\u001b[0;34m(\u001b[0m\u001b[0msampler\u001b[0m\u001b[0;34m,\u001b[0m \u001b[0mdiscard\u001b[0m\u001b[0;34m,\u001b[0m \u001b[0mthin\u001b[0m\u001b[0;34m,\u001b[0m \u001b[0mfig_path\u001b[0m\u001b[0;34m,\u001b[0m \u001b[0mspatial_unit\u001b[0m\u001b[0;34m,\u001b[0m \u001b[0mfigname\u001b[0m\u001b[0;34m,\u001b[0m \u001b[0mlabels\u001b[0m\u001b[0;34m)\u001b[0m\u001b[0;34m:\u001b[0m\u001b[0;34m\u001b[0m\u001b[0;34m\u001b[0m\u001b[0m\n\u001b[1;32m     30\u001b[0m \u001b[0;34m\u001b[0m\u001b[0m\n\u001b[0;32m---> 31\u001b[0;31m     \u001b[0msamples\u001b[0m \u001b[0;34m=\u001b[0m \u001b[0msampler\u001b[0m\u001b[0;34m.\u001b[0m\u001b[0mget_chain\u001b[0m\u001b[0;34m(\u001b[0m\u001b[0mdiscard\u001b[0m\u001b[0;34m=\u001b[0m\u001b[0mdiscard\u001b[0m\u001b[0;34m,\u001b[0m\u001b[0mthin\u001b[0m\u001b[0;34m=\u001b[0m\u001b[0mthin\u001b[0m\u001b[0;34m,\u001b[0m\u001b[0mflat\u001b[0m\u001b[0;34m=\u001b[0m\u001b[0;32mFalse\u001b[0m\u001b[0;34m)\u001b[0m\u001b[0;34m\u001b[0m\u001b[0;34m\u001b[0m\u001b[0m\n\u001b[0m\u001b[1;32m     32\u001b[0m     \u001b[0mflatsamples\u001b[0m \u001b[0;34m=\u001b[0m \u001b[0msampler\u001b[0m\u001b[0;34m.\u001b[0m\u001b[0mget_chain\u001b[0m\u001b[0;34m(\u001b[0m\u001b[0mdiscard\u001b[0m\u001b[0;34m=\u001b[0m\u001b[0mdiscard\u001b[0m\u001b[0;34m,\u001b[0m\u001b[0mthin\u001b[0m\u001b[0;34m=\u001b[0m\u001b[0mthin\u001b[0m\u001b[0;34m,\u001b[0m\u001b[0mflat\u001b[0m\u001b[0;34m=\u001b[0m\u001b[0;32mTrue\u001b[0m\u001b[0;34m)\u001b[0m\u001b[0;34m\u001b[0m\u001b[0;34m\u001b[0m\u001b[0m\n\u001b[1;32m     33\u001b[0m \u001b[0;34m\u001b[0m\u001b[0m\n",
      "\u001b[0;32m~/.conda/envs/COVID_MODEL/lib/python3.7/site-packages/emcee/ensemble.py\u001b[0m in \u001b[0;36mget_chain\u001b[0;34m(self, **kwargs)\u001b[0m\n\u001b[1;32m    501\u001b[0m \u001b[0;34m\u001b[0m\u001b[0m\n\u001b[1;32m    502\u001b[0m     \u001b[0;32mdef\u001b[0m \u001b[0mget_chain\u001b[0m\u001b[0;34m(\u001b[0m\u001b[0mself\u001b[0m\u001b[0;34m,\u001b[0m \u001b[0;34m**\u001b[0m\u001b[0mkwargs\u001b[0m\u001b[0;34m)\u001b[0m\u001b[0;34m:\u001b[0m\u001b[0;34m\u001b[0m\u001b[0;34m\u001b[0m\u001b[0m\n\u001b[0;32m--> 503\u001b[0;31m         \u001b[0;32mreturn\u001b[0m \u001b[0mself\u001b[0m\u001b[0;34m.\u001b[0m\u001b[0mget_value\u001b[0m\u001b[0;34m(\u001b[0m\u001b[0;34m\"chain\"\u001b[0m\u001b[0;34m,\u001b[0m \u001b[0;34m**\u001b[0m\u001b[0mkwargs\u001b[0m\u001b[0;34m)\u001b[0m\u001b[0;34m\u001b[0m\u001b[0;34m\u001b[0m\u001b[0m\n\u001b[0m\u001b[1;32m    504\u001b[0m \u001b[0;34m\u001b[0m\u001b[0m\n\u001b[1;32m    505\u001b[0m     \u001b[0mget_chain\u001b[0m\u001b[0;34m.\u001b[0m\u001b[0m__doc__\u001b[0m \u001b[0;34m=\u001b[0m \u001b[0mBackend\u001b[0m\u001b[0;34m.\u001b[0m\u001b[0mget_chain\u001b[0m\u001b[0;34m.\u001b[0m\u001b[0m__doc__\u001b[0m\u001b[0;34m\u001b[0m\u001b[0;34m\u001b[0m\u001b[0m\n",
      "\u001b[0;32m~/.conda/envs/COVID_MODEL/lib/python3.7/site-packages/emcee/ensemble.py\u001b[0m in \u001b[0;36mget_value\u001b[0;34m(self, name, **kwargs)\u001b[0m\n\u001b[1;32m    521\u001b[0m \u001b[0;34m\u001b[0m\u001b[0m\n\u001b[1;32m    522\u001b[0m     \u001b[0;32mdef\u001b[0m \u001b[0mget_value\u001b[0m\u001b[0;34m(\u001b[0m\u001b[0mself\u001b[0m\u001b[0;34m,\u001b[0m \u001b[0mname\u001b[0m\u001b[0;34m,\u001b[0m \u001b[0;34m**\u001b[0m\u001b[0mkwargs\u001b[0m\u001b[0;34m)\u001b[0m\u001b[0;34m:\u001b[0m\u001b[0;34m\u001b[0m\u001b[0;34m\u001b[0m\u001b[0m\n\u001b[0;32m--> 523\u001b[0;31m         \u001b[0;32mreturn\u001b[0m \u001b[0mself\u001b[0m\u001b[0;34m.\u001b[0m\u001b[0mbackend\u001b[0m\u001b[0;34m.\u001b[0m\u001b[0mget_value\u001b[0m\u001b[0;34m(\u001b[0m\u001b[0mname\u001b[0m\u001b[0;34m,\u001b[0m \u001b[0;34m**\u001b[0m\u001b[0mkwargs\u001b[0m\u001b[0;34m)\u001b[0m\u001b[0;34m\u001b[0m\u001b[0;34m\u001b[0m\u001b[0m\n\u001b[0m\u001b[1;32m    524\u001b[0m \u001b[0;34m\u001b[0m\u001b[0m\n\u001b[1;32m    525\u001b[0m     \u001b[0;32mdef\u001b[0m \u001b[0mget_autocorr_time\u001b[0m\u001b[0;34m(\u001b[0m\u001b[0mself\u001b[0m\u001b[0;34m,\u001b[0m \u001b[0;34m**\u001b[0m\u001b[0mkwargs\u001b[0m\u001b[0;34m)\u001b[0m\u001b[0;34m:\u001b[0m\u001b[0;34m\u001b[0m\u001b[0;34m\u001b[0m\u001b[0m\n",
      "\u001b[0;32m~/.conda/envs/COVID_MODEL/lib/python3.7/site-packages/emcee/backends/backend.py\u001b[0m in \u001b[0;36mget_value\u001b[0;34m(self, name, flat, thin, discard)\u001b[0m\n\u001b[1;32m     51\u001b[0m             \u001b[0;32mreturn\u001b[0m \u001b[0;32mNone\u001b[0m\u001b[0;34m\u001b[0m\u001b[0;34m\u001b[0m\u001b[0m\n\u001b[1;32m     52\u001b[0m \u001b[0;34m\u001b[0m\u001b[0m\n\u001b[0;32m---> 53\u001b[0;31m         \u001b[0mv\u001b[0m \u001b[0;34m=\u001b[0m \u001b[0mgetattr\u001b[0m\u001b[0;34m(\u001b[0m\u001b[0mself\u001b[0m\u001b[0;34m,\u001b[0m \u001b[0mname\u001b[0m\u001b[0;34m)\u001b[0m\u001b[0;34m[\u001b[0m\u001b[0mdiscard\u001b[0m \u001b[0;34m+\u001b[0m \u001b[0mthin\u001b[0m \u001b[0;34m-\u001b[0m \u001b[0;36m1\u001b[0m \u001b[0;34m:\u001b[0m \u001b[0mself\u001b[0m\u001b[0;34m.\u001b[0m\u001b[0miteration\u001b[0m \u001b[0;34m:\u001b[0m \u001b[0mthin\u001b[0m\u001b[0;34m]\u001b[0m\u001b[0;34m\u001b[0m\u001b[0;34m\u001b[0m\u001b[0m\n\u001b[0m\u001b[1;32m     54\u001b[0m         \u001b[0;32mif\u001b[0m \u001b[0mflat\u001b[0m\u001b[0;34m:\u001b[0m\u001b[0;34m\u001b[0m\u001b[0;34m\u001b[0m\u001b[0m\n\u001b[1;32m     55\u001b[0m             \u001b[0ms\u001b[0m \u001b[0;34m=\u001b[0m \u001b[0mlist\u001b[0m\u001b[0;34m(\u001b[0m\u001b[0mv\u001b[0m\u001b[0;34m.\u001b[0m\u001b[0mshape\u001b[0m\u001b[0;34m[\u001b[0m\u001b[0;36m1\u001b[0m\u001b[0;34m:\u001b[0m\u001b[0;34m]\u001b[0m\u001b[0;34m)\u001b[0m\u001b[0;34m\u001b[0m\u001b[0;34m\u001b[0m\u001b[0m\n",
      "\u001b[0;31mValueError\u001b[0m: slice step cannot be zero"
     ]
    }
   ],
   "source": [
    "from covid19model.optimization.run_optimization import google_calibration_wave1\n",
    "samples_dict = google_calibration_wave1(model, df_sciensano['H_in'], spatial_unit, start_data, end_calibration, start_recalibrate_beta,\n",
    "                        end_recalibrate_beta, fig_path, \n",
    "                        samples_path, initN, Nc_total,warmup=samples_dict['warmup'],maxiter=100, popsize=100, steps_mcmc=5000,\n",
    "                        discard=1000, omega=0.8, phip=0.8, phig=0.8, processes=32)"
   ]
  },
  {
   "cell_type": "markdown",
   "metadata": {},
   "source": [
    "## Visualizations\n",
    "\n",
    "### Goodness-of-fit: $\\beta$, $l$ and $\\tau$"
   ]
  },
  {
   "cell_type": "code",
   "execution_count": null,
   "metadata": {},
   "outputs": [],
   "source": [
    "params.update({'samples_dict': samples_dict})\n",
    "\n",
    "# Re-initialize the model\n",
    "model = models.COVID19_SEIRD(initial_states, params, time_dependent_parameters={'Nc': google_lockdown, 'beta': switch_beta})"
   ]
  },
  {
   "cell_type": "code",
   "execution_count": null,
   "metadata": {},
   "outputs": [],
   "source": [
    "end_sim = '2020-09-01'\n",
    "\n",
    "fig,ax=plt.subplots(figsize=(10,4))\n",
    "for i in range(10):\n",
    "    model.parameters = draw_sample_COVID19_SEIRD_google(model.parameters,samples_dict)\n",
    "    y_model = model.sim(end_sim,start_date=start_data,excess_time=samples_dict['warmup'])\n",
    "    ax.plot(y_model['time'],y_model[\"H_in\"].sum(dim=\"Nc\"),color='blue',alpha=0.01)\n",
    "\n",
    "ax.scatter(df_sciensano[:end_calibration].index,df_sciensano['H_in'][:end_calibration],color='black',alpha=0.6,linestyle='None',facecolors='none')\n",
    "ax.scatter(df_sciensano[end_calibration:end_sim].index,df_sciensano['H_in'][end_calibration:end_sim],color='red',alpha=0.6,linestyle='None',facecolors='none')\n",
    "ax = _apply_tick_locator(ax)\n",
    "ax.set_xlim('2020-03-01',end_sim)\n",
    "\n",
    "plt.savefig(fig_path+'others/BETA_RAMP_FIT_WAVE1_GOOGLE.pdf', dpi=400, bbox_inches='tight',orientation='portrait', papertype='a4')"
   ]
  },
  {
   "cell_type": "markdown",
   "metadata": {},
   "source": [
    "### $R_0$"
   ]
  },
  {
   "cell_type": "code",
   "execution_count": null,
   "metadata": {},
   "outputs": [],
   "source": [
    "fig,ax=plt.subplots(figsize=(10,4))\n",
    "ax.hist(samples_dict['R0'],bins=30)\n",
    "plt.savefig(fig_path+'others/R0_GOOGLE.pdf', dpi=400, bbox_inches='tight',orientation='portrait', papertype='a4')"
   ]
  },
  {
   "cell_type": "markdown",
   "metadata": {},
   "source": [
    "### Seroprelevance"
   ]
  },
  {
   "cell_type": "code",
   "execution_count": null,
   "metadata": {},
   "outputs": [],
   "source": [
    "end_sim = '2020-06-01'\n",
    "\n",
    "fig,ax=plt.subplots(figsize=(10,4))\n",
    "for i in range(10):\n",
    "    model.parameters = draw_sample_COVID19_SEIRD_google(model.parameters,samples_dict)\n",
    "    y_model = model.sim(end_sim,start_date=start_data,excess_time=samples_dict['warmup'])\n",
    "    ax.plot((1-y_model[\"S\"].sel(time=end_sim)/y_model[\"S\"].isel(time=0))*100,alpha=0.03,color='blue',linewidth=2)\n",
    "\n",
    "ax.set_xlabel('age')\n",
    "ax.set_ylabel(\"seroprelevance (%)\" )\n",
    "ax.set_ylim()\n",
    "plt.xticks(np.arange(9), ('[0-10[', '[10-20[', '[20-30[', '[30-40[', '[40-50[', '[50-60[', '[60-70[', '[70-80[', '[80-$\\infty$['))\n",
    "\n",
    "plt.savefig(fig_path+'others/SEROPRELEVANCE_'+end_sim+'_GOOGLE.pdf', dpi=400, bbox_inches='tight',orientation='portrait', papertype='a4')"
   ]
  },
  {
   "cell_type": "markdown",
   "metadata": {},
   "source": [
    "### Lockdown release"
   ]
  },
  {
   "cell_type": "code",
   "execution_count": null,
   "metadata": {},
   "outputs": [],
   "source": [
    "end_sim = '2020-09-01'\n",
    "n=100\n",
    "percentile = 0.99\n",
    "\n",
    "y_model = model.sim(end_sim,start_date=start_data,excess_time=samples_dict['warmup'],N=n,draw_fcn=draw_sample_COVID19_SEIRD_google,samples=samples_dict)\n",
    "\n",
    "fig,ax = plt.subplots(figsize=(10,4))\n",
    "ax.fill_between(pd.to_datetime(y_model['time'].values),y_model[\"H_tot\"].quantile(1-percentile,dim=\"draws\").sum(dim=\"Nc\"), y_model[\"H_tot\"].quantile(percentile,dim=\"draws\").sum(dim=\"Nc\"),alpha=0.30)\n",
    "ax.plot(y_model['time'],y_model[\"H_tot\"].mean(dim=\"draws\").sum(dim=\"Nc\"),'--')\n",
    "ax.scatter(df_sciensano[:end_sim].index,df_sciensano['H_tot'][:end_sim],color='black',alpha=0.4,linestyle='None',facecolors='none')\n",
    "ax = _apply_tick_locator(ax)\n",
    "plt.savefig(fig_path+'others/LOCKDOWN_RELEASE_WAVE1_GOOGLE.pdf', dpi=400, bbox_inches='tight',orientation='portrait', papertype='a4')"
   ]
  },
  {
   "cell_type": "markdown",
   "metadata": {},
   "source": [
    "### Save results to a .csv"
   ]
  },
  {
   "cell_type": "code",
   "execution_count": null,
   "metadata": {},
   "outputs": [],
   "source": [
    "index = y_model['time'].values\n",
    "columns = ['WAVE1_INCIDENCES_MEAN','WAVE1_INCIDENCES_MEDIAN','WAVE1_INCIDENCES_LL','WAVE1_INCIDENCES_UL']\n",
    "data = np.transpose(np.array([\n",
    "        y_model[\"H_tot\"].mean(dim=\"draws\").sum(dim=\"Nc\").values.tolist(),\n",
    "        y_model[\"H_tot\"].median(dim=\"draws\").sum(dim=\"Nc\").values.tolist(),\n",
    "        y_model[\"H_tot\"].quantile(1-percentile,dim=\"draws\").sum(dim=\"Nc\").values.tolist(),\n",
    "        y_model[\"H_tot\"].quantile(percentile,dim=\"draws\").sum(dim=\"Nc\").values.tolist()\n",
    "       ]))"
   ]
  },
  {
   "cell_type": "code",
   "execution_count": null,
   "metadata": {},
   "outputs": [],
   "source": [
    "df = pd.DataFrame(data,columns=columns,index=index)\n",
    "df.head()"
   ]
  },
  {
   "cell_type": "code",
   "execution_count": null,
   "metadata": {},
   "outputs": [],
   "source": [
    "df.to_csv('../../results/predictions/FAGG/COVID19_SEIRD/WAVE1.csv',index=True)"
   ]
  },
  {
   "cell_type": "markdown",
   "metadata": {},
   "source": [
    "# Wave 2: September 2020 - present"
   ]
  },
  {
   "cell_type": "markdown",
   "metadata": {},
   "source": [
    "## Recalibrate ramp as final calibration step"
   ]
  },
  {
   "cell_type": "code",
   "execution_count": null,
   "metadata": {
    "ExecuteTime": {
     "end_time": "2020-11-26T21:03:32.801190Z",
     "start_time": "2020-11-26T21:03:32.395557Z"
    }
   },
   "outputs": [],
   "source": [
    "# Load samples dictionary of the first wave\n",
    "with open('../../data/interim/model_parameters/COVID19_SEIRD/calibrations/national/google/BE_2020-11-10_WAVE1_GOOGLE.json', 'r') as fp:\n",
    "    samples_dict = json.load(fp)\n",
    "\n",
    "with open('../../data/interim/model_parameters/COVID19_SEIRD/calibrations/national/google/initial_states_2020-09-01.json', 'r') as fp:\n",
    "    initial_states = json.load(fp)    "
   ]
  },
  {
   "cell_type": "code",
   "execution_count": null,
   "metadata": {
    "ExecuteTime": {
     "end_time": "2020-11-26T21:03:35.498009Z",
     "start_time": "2020-11-26T21:03:35.440224Z"
    }
   },
   "outputs": [],
   "source": [
    "# Start of data collection\n",
    "start_data = '2020-09-01'\n",
    "# Start data of recalibration ramp\n",
    "start_calibration = '2020-09-01'\n",
    "# Last datapoint used to recalibrate the ramp\n",
    "end_calibration = '2020-11-23'\n",
    "# Path where figures should be stored\n",
    "fig_path = '../../results/calibrations/COVID19_SEIRD/national/'\n",
    "# Path where MCMC samples should be saved\n",
    "samples_path = '../../data/interim/model_parameters/COVID19_SEIRD/calibrations/national/'\n",
    "# Spatial unit: Belgium\n",
    "spatial_unit = 'BE'"
   ]
  },
  {
   "cell_type": "code",
   "execution_count": null,
   "metadata": {
    "ExecuteTime": {
     "end_time": "2020-11-26T21:05:57.400462Z",
     "start_time": "2020-11-26T21:05:56.933859Z"
    }
   },
   "outputs": [],
   "source": [
    "# Load the model parameters using `get_COVID19_SEIRD_parameters()`.\n",
    "params = model_parameters.get_COVID19_SEIRD_parameters()\n",
    "\n",
    "params.update({'df_google': df_google,\n",
    "              'Nc_all' : Nc_all,\n",
    "              'Nc_15min' : Nc_15min,\n",
    "              'Nc_1hr' : Nc_1hr,\n",
    "               'l' : 5,\n",
    "               'tau' : 5,\n",
    "               'prevention': 0.8\n",
    "              })\n",
    "\n",
    "# Initialize the model\n",
    "model = models.COVID19_SEIRD(initial_states, params, time_dependent_parameters={'Nc': google_lockdown})"
   ]
  },
  {
   "cell_type": "code",
   "execution_count": null,
   "metadata": {
    "ExecuteTime": {
     "end_time": "2020-11-26T13:49:07.923355Z",
     "start_time": "2020-11-26T13:45:45.094674Z"
    }
   },
   "outputs": [],
   "source": [
    "warmup=0\n",
    "maxiter = 100\n",
    "popsize = 100\n",
    "steps_mcmc = 3000\n",
    "discard = 1000\n",
    "\n",
    "# define dataset\n",
    "data=[df_sciensano['H_in'][start_calibration:end_calibration]]\n",
    "states = [[\"H_in\"]]\n",
    "\n",
    "####################################################\n",
    "####### CALIBRATING BETA AND COMPLIANCE RAMP #######\n",
    "####################################################\n",
    "\n",
    "print('------------------------------------')\n",
    "print('CALIBRATING BETA AND COMPLIANCE RAMP')\n",
    "print('------------------------------------\\n')\n",
    "print('Using data from '+start_calibration+' until '+end_calibration+'\\n')\n",
    "print('1) Particle swarm optimization\\n')\n",
    "\n",
    "# set PSO optimisation settings\n",
    "parNames = ['sigma_data','beta','l','tau','prevention']\n",
    "bounds=((1,2000),(0.010,0.060),(0.1,20),(0.1,20),(0,1))\n",
    "# run PSO optimisation\n",
    "theta = pso.fit_pso(model,data,parNames,states,bounds,maxiter=maxiter,popsize=popsize,start_date=start_calibration,warmup=warmup)\n"
   ]
  },
  {
   "cell_type": "code",
   "execution_count": null,
   "metadata": {
    "ExecuteTime": {
     "end_time": "2020-11-26T21:02:46.277664Z",
     "start_time": "2020-11-26T20:09:59.929272Z"
    },
    "scrolled": true
   },
   "outputs": [],
   "source": [
    "\n",
    "# run MCMC sampler\n",
    "print('\\n2) Markov-Chain Monte-Carlo sampling\\n')\n",
    "parNames_mcmc = parNames\n",
    "bounds_mcmc=((1,2000),(0.020,0.060),(0.001,20),(0.001,20),(0,1))\n",
    "\n",
    "pos = theta + [1, 1e-3, 1e-3, 1e-3, 1e-3 ]* np.random.randn(10, 5)\n",
    "nwalkers, ndim = pos.shape\n",
    "sampler = emcee.EnsembleSampler(nwalkers, ndim, objective_fcns.log_probability,\n",
    "                    args=(model, bounds_mcmc, data, states, parNames_mcmc, None, start_calibration, warmup))\n",
    "sampler.run_mcmc(pos, steps_mcmc, progress=True)\n",
    "\n",
    "try:\n",
    "    sampler.get_autocorr_time()\n",
    "except:\n",
    "    print('Warning: The chain is shorter than 50 times the integrated autocorrelation time for 4 parameter(s).\\nUse this estimate with caution and run a longer chain!')\n",
    "from covid19model.optimization.run_optimization import checkplots\n",
    "checkplots(sampler, discard, fig_path, spatial_unit, \n",
    "            figname='BETA_RAMP_GOOGLE_WAVE2', labels=['$\\sigma_{data}$','$\\\\beta$','l','$\\\\tau$','$\\Sigma$'])\n",
    "\n",
    "#############################################\n",
    "####### Output to dictionary ################\n",
    "#############################################\n",
    "\n",
    "samples_dict_wave2 = {\n",
    "    'beta': sampler.get_chain(discard=discard,flat=True)[:,1].tolist(),\n",
    "    'l' : sampler.get_chain(discard=discard,flat=True)[:,2].tolist(),\n",
    "    'tau' : sampler.get_chain(discard=discard,flat=True)[:,3].tolist(),\n",
    "    'prevention': sampler.get_chain(discard=discard,flat=True)[:,4].tolist(),\n",
    "}\n",
    "\n",
    "with open(samples_path+str(spatial_unit)+'_'+str(datetime.date.today())+'_WAVE2_GOOGLE.json', 'w') as fp:\n",
    "    json.dump(samples_dict_wave2, fp)"
   ]
  },
  {
   "cell_type": "markdown",
   "metadata": {},
   "source": [
    "## Visualize fit"
   ]
  },
  {
   "cell_type": "code",
   "execution_count": null,
   "metadata": {
    "ExecuteTime": {
     "end_time": "2020-11-26T21:04:21.360198Z",
     "start_time": "2020-11-26T21:04:21.206550Z"
    }
   },
   "outputs": [],
   "source": [
    "# Load samples dictionary of the first wave\n",
    "with open('../../data/interim/model_parameters/COVID19_SEIRD/calibrations/national/BE_2020-11-26_WAVE2_GOOGLE.json', 'r') as fp:\n",
    "    samples_dict_wave2 = json.load(fp)"
   ]
  },
  {
   "cell_type": "code",
   "execution_count": null,
   "metadata": {
    "ExecuteTime": {
     "end_time": "2020-11-26T21:08:24.911334Z",
     "start_time": "2020-11-26T21:07:00.852954Z"
    }
   },
   "outputs": [],
   "source": [
    "end_sim = '2021-01-01'\n",
    "\n",
    "fig,ax=plt.subplots(figsize=(10,4))\n",
    "for i in range(100):\n",
    "    # Sampling\n",
    "    idx, model.parameters['beta'] = random.choice(list(enumerate(samples_dict_wave2['beta'])))\n",
    "    model.parameters['l'] = samples_dict_wave2['l'][idx] \n",
    "    model.parameters['tau'] = samples_dict_wave2['tau'][idx]  \n",
    "    model.parameters['prevention'] = samples_dict_wave2['prevention'][idx]  \n",
    "   \n",
    "    # Simulate\n",
    "    y_model = model.sim(end_sim,start_date=start_calibration,warmup=0)\n",
    "    # Plot\n",
    "    ax.plot(y_model['time'],y_model[\"H_in\"].sum(dim=\"Nc\"),color='blue',alpha=0.1)\n",
    "\n",
    "ax.scatter(df_sciensano[start_calibration:end_calibration].index,df_sciensano['H_in'][start_calibration:end_calibration],color='black',alpha=0.6,linestyle='None',facecolors='none')\n",
    "ax = _apply_tick_locator(ax)\n",
    "ax.set_xlim('2020-09-01',end_sim)\n",
    "plt.savefig(fig_path+'others/BETA_RAMP_FIT_WAVE2_GOOGLE.pdf', dpi=400, bbox_inches='tight',orientation='portrait', papertype='a4')"
   ]
  },
  {
   "cell_type": "markdown",
   "metadata": {},
   "source": [
    "## Make a prediction under current contact behaviour"
   ]
  },
  {
   "cell_type": "code",
   "execution_count": null,
   "metadata": {},
   "outputs": [],
   "source": [
    "end_sim = '2021-02-01'\n",
    "n=200\n",
    "percentile = 0.95\n",
    "\n",
    "y_model = model.sim(end_sim,start_date=start_calibration,warmup=0,N=n,draw_fcn=draw_sample_COVID19_SEIRD_google,samples=samples_dict_wave2)\n",
    "\n",
    "fig,ax = plt.subplots(figsize=(10,4))\n",
    "ax.fill_between(pd.to_datetime(y_model['time'].values),y_model[\"H_tot\"].quantile(1-percentile,dim=\"draws\").sum(dim=\"Nc\"), y_model[\"H_tot\"].quantile(percentile,dim=\"draws\").sum(dim=\"Nc\"),alpha=0.20, color = 'blue')\n",
    "ax.fill_between(pd.to_datetime(y_model['time'].values),y_model[\"H_tot\"].quantile(1-0.68,dim=\"draws\").sum(dim=\"Nc\"), y_model[\"H_tot\"].quantile(0.68,dim=\"draws\").sum(dim=\"Nc\"),alpha=0.35, color = 'blue')\n",
    "ax.plot(y_model['time'],y_model[\"H_tot\"].mean(dim=\"draws\").sum(dim=\"Nc\"),'--', color='blue')\n",
    "ax.scatter(df_sciensano[start_calibration:end_calibration].index,df_sciensano['H_tot'][start_calibration:end_calibration],color='black',alpha=0.4,linestyle='None',facecolors='none')\n",
    "ax.set_ylabel('Total patients in Belgian hospitals')\n",
    "ax = _apply_tick_locator(ax)\n",
    "plt.savefig(fig_path+'others/LOCKDOWN_WAVE2_GOOGLE.pdf', dpi=400, bbox_inches='tight',orientation='portrait', papertype='a4')"
   ]
  },
  {
   "cell_type": "code",
   "execution_count": null,
   "metadata": {},
   "outputs": [],
   "source": []
  }
 ],
 "metadata": {
  "kernelspec": {
   "display_name": "COVID19",
   "language": "python",
   "name": "python3"
  },
  "toc": {
   "base_numbering": 1,
   "nav_menu": {},
   "number_sections": true,
   "sideBar": true,
   "skip_h1_title": false,
   "title_cell": "Table of Contents",
   "title_sidebar": "Contents",
   "toc_cell": false,
   "toc_position": {},
   "toc_section_display": true,
   "toc_window_display": false
  }
 },
 "nbformat": 4,
 "nbformat_minor": 4
}
