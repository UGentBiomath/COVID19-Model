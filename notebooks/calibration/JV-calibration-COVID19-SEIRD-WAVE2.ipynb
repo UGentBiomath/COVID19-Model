{
 "cells": [
  {
   "cell_type": "markdown",
   "metadata": {},
   "source": [
    "\n",
    "\n",
    "*Original code by Ryan S. McGee. Modified by T.W. Alleman in consultation with the BIOMATH research unit headed by prof. Ingmar Nopens.*\n",
    "\n",
    "Copyright (c) 2020 by T.W. Alleman, BIOMATH, Ghent University. All Rights Reserved.\n",
    "\n",
    "This notebook accompanies our preprint: \"*A deterministic, age-stratified, extended SEIRD model for assessing the effect of non-pharmaceutical interventions on SARS-CoV-2 spread in Belgium*\"(https://doi.org/10.1101/2020.07.17.20156034)"
   ]
  },
  {
   "cell_type": "markdown",
   "metadata": {},
   "source": [
    "# Load required packages"
   ]
  },
  {
   "cell_type": "code",
   "execution_count": 1,
   "metadata": {
    "ExecuteTime": {
     "end_time": "2020-12-08T19:54:56.510044Z",
     "start_time": "2020-12-08T19:54:54.138653Z"
    }
   },
   "outputs": [],
   "source": [
    "import random\n",
    "import os\n",
    "import numpy as np\n",
    "import json\n",
    "import corner\n",
    "import random\n",
    "\n",
    "import pandas as pd\n",
    "import datetime\n",
    "import scipy\n",
    "import matplotlib.dates as mdates\n",
    "import matplotlib\n",
    "import math\n",
    "import xarray as xr\n",
    "import emcee\n",
    "import matplotlib.pyplot as plt\n",
    "import datetime\n",
    "\n",
    "from covid19model.optimization import objective_fcns,pso\n",
    "from covid19model.models import models\n",
    "from covid19model.models.utils import draw_sample_COVID19_SEIRD_google\n",
    "from covid19model.models.time_dependant_parameter_fncs import google_lockdown, ramp_fun, contact_matrix\n",
    "from covid19model.data import google\n",
    "from covid19model.data import sciensano\n",
    "from covid19model.data import model_parameters\n",
    "from covid19model.visualization.output import population_status, infected, _apply_tick_locator \n",
    "from covid19model.visualization.optimization import plot_fit, traceplot\n",
    "\n",
    "\n",
    "# OPTIONAL: Load the \"autoreload\" extension so that package code can change\n",
    "%load_ext autoreload\n",
    "# OPTIONAL: always reload modules so that as you change code in src, it gets loaded\n",
    "%autoreload 2"
   ]
  },
  {
   "cell_type": "markdown",
   "metadata": {},
   "source": [
    "# Load data"
   ]
  },
  {
   "cell_type": "code",
   "execution_count": 2,
   "metadata": {
    "ExecuteTime": {
     "end_time": "2020-12-08T19:54:56.838725Z",
     "start_time": "2020-12-08T19:54:56.512706Z"
    }
   },
   "outputs": [],
   "source": [
    "initN, Nc_home, Nc_work, Nc_schools, Nc_transport, Nc_leisure, Nc_others, Nc_total = model_parameters.get_interaction_matrices(dataset='willem_2012')\n",
    "levels = initN.size\n",
    "Nc_all = {'total': Nc_total, 'home':Nc_home, 'work': Nc_work, 'schools': Nc_schools, 'transport': Nc_transport, 'leisure': Nc_leisure, 'others': Nc_others}\n"
   ]
  },
  {
   "cell_type": "code",
   "execution_count": 3,
   "metadata": {
    "ExecuteTime": {
     "end_time": "2020-12-08T19:55:03.040044Z",
     "start_time": "2020-12-08T19:55:02.919169Z"
    }
   },
   "outputs": [
    {
     "data": {
      "text/html": [
       "<div>\n",
       "<style scoped>\n",
       "    .dataframe tbody tr th:only-of-type {\n",
       "        vertical-align: middle;\n",
       "    }\n",
       "\n",
       "    .dataframe tbody tr th {\n",
       "        vertical-align: top;\n",
       "    }\n",
       "\n",
       "    .dataframe thead th {\n",
       "        text-align: right;\n",
       "    }\n",
       "</style>\n",
       "<table border=\"1\" class=\"dataframe\">\n",
       "  <thead>\n",
       "    <tr style=\"text-align: right;\">\n",
       "      <th></th>\n",
       "      <th>H_tot</th>\n",
       "      <th>ICU_tot</th>\n",
       "      <th>H_in</th>\n",
       "      <th>H_out</th>\n",
       "      <th>H_tot_cumsum</th>\n",
       "      <th>D_tot</th>\n",
       "      <th>D_25_44</th>\n",
       "      <th>D_45_64</th>\n",
       "      <th>D_65_74</th>\n",
       "      <th>D_75_84</th>\n",
       "      <th>D_85+</th>\n",
       "    </tr>\n",
       "    <tr>\n",
       "      <th>DATE</th>\n",
       "      <th></th>\n",
       "      <th></th>\n",
       "      <th></th>\n",
       "      <th></th>\n",
       "      <th></th>\n",
       "      <th></th>\n",
       "      <th></th>\n",
       "      <th></th>\n",
       "      <th></th>\n",
       "      <th></th>\n",
       "      <th></th>\n",
       "    </tr>\n",
       "  </thead>\n",
       "  <tbody>\n",
       "    <tr>\n",
       "      <th>2020-12-07</th>\n",
       "      <td>3276</td>\n",
       "      <td>723</td>\n",
       "      <td>144</td>\n",
       "      <td>65</td>\n",
       "      <td>3539</td>\n",
       "      <td>73</td>\n",
       "      <td>1.0</td>\n",
       "      <td>8.0</td>\n",
       "      <td>12</td>\n",
       "      <td>17</td>\n",
       "      <td>35</td>\n",
       "    </tr>\n",
       "    <tr>\n",
       "      <th>2020-12-08</th>\n",
       "      <td>3143</td>\n",
       "      <td>676</td>\n",
       "      <td>207</td>\n",
       "      <td>320</td>\n",
       "      <td>3426</td>\n",
       "      <td>10</td>\n",
       "      <td>0.0</td>\n",
       "      <td>0.0</td>\n",
       "      <td>2</td>\n",
       "      <td>4</td>\n",
       "      <td>4</td>\n",
       "    </tr>\n",
       "  </tbody>\n",
       "</table>\n",
       "</div>"
      ],
      "text/plain": [
       "            H_tot  ICU_tot  H_in  H_out  H_tot_cumsum  D_tot  D_25_44  \\\n",
       "DATE                                                                    \n",
       "2020-12-07   3276      723   144     65          3539     73      1.0   \n",
       "2020-12-08   3143      676   207    320          3426     10      0.0   \n",
       "\n",
       "            D_45_64  D_65_74  D_75_84  D_85+  \n",
       "DATE                                          \n",
       "2020-12-07      8.0       12       17     35  \n",
       "2020-12-08      0.0        2        4      4  "
      ]
     },
     "execution_count": 3,
     "metadata": {},
     "output_type": "execute_result"
    }
   ],
   "source": [
    "df_sciensano = sciensano.get_sciensano_COVID19_data(update=False)\n",
    "df_sciensano.tail(2)"
   ]
  },
  {
   "cell_type": "code",
   "execution_count": 4,
   "metadata": {
    "ExecuteTime": {
     "end_time": "2020-12-08T19:55:04.751996Z",
     "start_time": "2020-12-08T19:55:04.683439Z"
    }
   },
   "outputs": [],
   "source": [
    "df_google = google.get_google_mobility_data(update=False, plot=False)"
   ]
  },
  {
   "cell_type": "markdown",
   "metadata": {},
   "source": [
    "# Contact matrix function"
   ]
  },
  {
   "cell_type": "code",
   "execution_count": 5,
   "metadata": {
    "ExecuteTime": {
     "end_time": "2020-12-08T20:01:33.540554Z",
     "start_time": "2020-12-08T20:01:33.502253Z"
    }
   },
   "outputs": [],
   "source": [
    "from functools import lru_cache"
   ]
  },
  {
   "cell_type": "code",
   "execution_count": 6,
   "metadata": {
    "ExecuteTime": {
     "end_time": "2020-12-08T20:01:36.090374Z",
     "start_time": "2020-12-08T20:01:36.040217Z"
    }
   },
   "outputs": [],
   "source": [
    "def make_contact_matrix_function(df_google, Nc_all):\n",
    "    \"\"\"\n",
    "    Nc_all : dictionnary\n",
    "            contact matrices for home, schools, work, transport, leisure and others\n",
    "    df_google : dataframe\n",
    "            google mobility data\n",
    "    \"\"\"\n",
    "\n",
    "    \n",
    "    df_google_array = df_google.values\n",
    "    df_google_start = df_google.index[0]\n",
    "    df_google_end = df_google.index[-1]\n",
    "\n",
    "    @lru_cache() # once the function is run for a set of parameters, it doesn't need to compile again\n",
    "    def contact_matrix(t, prev_home=1, prev_schools=1, prev_work=1, prev_transport=1, \n",
    "                       prev_leisure=1, prev_others=1,\n",
    "                       school=None, work=None, transport=None, leisure=None, others=None):\n",
    "        \"\"\"\n",
    "        t : timestamp\n",
    "            current date\n",
    "        prev_... : float [0,1]\n",
    "            prevention parameter to estimate\n",
    "        school, work, transport, leisure, others : float [0,1]\n",
    "            level of opening of these sectors\n",
    "            if None, it is calculated from google mobility data\n",
    "            only school cannot be None!\n",
    "        \"\"\"\n",
    "\n",
    "        if t < pd.Timestamp('2020-03-15'):\n",
    "            CM = Nc_all['total']\n",
    "        else:\n",
    "\n",
    "            if school is None:\n",
    "                raise ValueError(\n",
    "                \"Please indicate to which extend schools are open\")\n",
    "\n",
    "            if pd.Timestamp('2020-03-15') <= t <= df_google_end:\n",
    "                #take t.date() because t can be more than a date! (e.g. when tau_days is added)\n",
    "                idx = int((t - df_google_start) / pd.Timedelta(\"1 day\")) \n",
    "                row = -df_google_array[idx]/100\n",
    "            else:\n",
    "                row = -df_google_array[-1]/100\n",
    "\n",
    "            # columns: retail_recreation grocery parks transport work residential\n",
    "            if work is None:\n",
    "                work= 1-row[4]\n",
    "            if transport is None:\n",
    "                transport=1-row[3]\n",
    "            if leisure is None:\n",
    "                leisure=1-row[0]\n",
    "            if others is None:\n",
    "                others=1-row[1]\n",
    "\n",
    "            CM = (prev_home*(1/2.3)*Nc_all['home'] + \n",
    "                  prev_schools*school*Nc_all['schools'] + \n",
    "                  prev_work*work*Nc_all['work'] + \n",
    "                  prev_transport*transport*Nc_all['transport'] + \n",
    "                  prev_leisure*leisure*Nc_all['leisure'] + \n",
    "                  prev_others*others*Nc_all['others']) \n",
    "\n",
    "\n",
    "        return CM\n",
    "\n",
    "    \n",
    "    @lru_cache() # once the function is run for a set of parameters, it doesn't need to compile again\n",
    "    def contact_matrix_4prev(t, prev_home=1, prev_schools=1, prev_work=1, prev_rest = 1,\n",
    "                       school=None, work=None, transport=None, leisure=None, others=None):\n",
    "        \"\"\"\n",
    "        t : timestamp\n",
    "            current date\n",
    "        prev_... : float [0,1]\n",
    "            prevention parameter to estimate\n",
    "        school, work, transport, leisure, others : float [0,1]\n",
    "            level of opening of these sectors\n",
    "            if None, it is calculated from google mobility data\n",
    "            only school cannot be None!\n",
    "        \"\"\"\n",
    "\n",
    "        if t < pd.Timestamp('2020-03-15'):\n",
    "            CM = Nc_all['total']\n",
    "        else:\n",
    "\n",
    "            if school is None:\n",
    "                raise ValueError(\n",
    "                \"Please indicate to which extend schools are open\")\n",
    "\n",
    "            if pd.Timestamp('2020-03-15') <= t <= df_google_end:\n",
    "                #take t.date() because t can be more than a date! (e.g. when tau_days is added)\n",
    "                idx = int((t - df_google_start) / pd.Timedelta(\"1 day\")) \n",
    "                row = -df_google_array[idx]/100\n",
    "            else:\n",
    "                row = -df_google_array[-1]/100\n",
    "\n",
    "            # columns: retail_recreation grocery parks transport work residential\n",
    "            if work is None:\n",
    "                work= 1-row[4]\n",
    "            if transport is None:\n",
    "                transport=1-row[3]\n",
    "            if leisure is None:\n",
    "                leisure=1-row[0]\n",
    "            if others is None:\n",
    "                others=1-row[1]\n",
    "\n",
    "            CM = (prev_home*(1/2.3)*Nc_all['home'] + \n",
    "                  prev_schools*school*Nc_all['schools'] + \n",
    "                  prev_work*work*Nc_all['work'] + \n",
    "                  prev_rest*transport*Nc_all['transport'] + \n",
    "                  prev_rest*leisure*Nc_all['leisure'] + \n",
    "                  prev_rest*others*Nc_all['others']) \n",
    "\n",
    "\n",
    "        return CM\n",
    "\n",
    "    return contact_matrix, contact_matrix_4prev\n"
   ]
  },
  {
   "cell_type": "code",
   "execution_count": 5,
   "metadata": {
    "ExecuteTime": {
     "end_time": "2020-12-08T20:01:38.319967Z",
     "start_time": "2020-12-08T20:01:38.279522Z"
    }
   },
   "outputs": [],
   "source": [
    "from covid19model.models.time_dependant_parameter_fncs import make_contact_matrix_function\n",
    "contact_matrix_6prev, contact_matrix_4prev = make_contact_matrix_function(df_google, Nc_all)"
   ]
  },
  {
   "cell_type": "markdown",
   "metadata": {},
   "source": [
    "# Wave 2: September 2020 - present"
   ]
  },
  {
   "cell_type": "code",
   "execution_count": 5,
   "metadata": {
    "ExecuteTime": {
     "end_time": "2020-12-08T19:55:14.180773Z",
     "start_time": "2020-12-08T19:55:14.142696Z"
    }
   },
   "outputs": [],
   "source": [
    "with open('../../data/interim/model_parameters/COVID19_SEIRD/calibrations/national/google/initial_states_2020-09-01.json', 'r') as fp:\n",
    "    initial_states = json.load(fp)    "
   ]
  },
  {
   "cell_type": "code",
   "execution_count": 6,
   "metadata": {
    "ExecuteTime": {
     "end_time": "2020-12-08T19:55:14.515848Z",
     "start_time": "2020-12-08T19:55:14.478813Z"
    }
   },
   "outputs": [],
   "source": [
    "# Start of data collection\n",
    "start_data = '2020-09-01'\n",
    "# Start data of recalibration ramp\n",
    "start_calibration = '2020-09-01'\n",
    "# Last datapoint used to recalibrate the ramp\n",
    "end_calibration = '2020-12-08'\n",
    "# Path where figures should be stored\n",
    "fig_path = '../../results/calibrations/COVID19_SEIRD/national/'\n",
    "# Path where MCMC samples should be saved\n",
    "samples_path = '../../data/interim/model_parameters/COVID19_SEIRD/calibrations/national/'"
   ]
  },
  {
   "cell_type": "markdown",
   "metadata": {},
   "source": [
    "## 6 prevention parameters"
   ]
  },
  {
   "cell_type": "code",
   "execution_count": 10,
   "metadata": {
    "ExecuteTime": {
     "end_time": "2020-12-08T20:01:32.251920Z",
     "start_time": "2020-12-08T20:01:32.066724Z"
    }
   },
   "outputs": [],
   "source": [
    "# Spatial unit: Belgium\n",
    "spatial_unit = 'BE_6_prev_faster'"
   ]
  },
  {
   "cell_type": "code",
   "execution_count": 11,
   "metadata": {
    "ExecuteTime": {
     "end_time": "2020-12-08T20:01:39.473353Z",
     "start_time": "2020-12-08T20:01:39.419809Z"
    }
   },
   "outputs": [],
   "source": [
    "def wave2_policies(t, param, l , tau, \n",
    "                   prev_schools, prev_work, prev_transport, prev_leisure, prev_others, prev_home):\n",
    "    \n",
    "    # Convert tau and l to dates\n",
    "    tau_days = pd.Timedelta(tau, unit='D')\n",
    "    l_days = pd.Timedelta(l, unit='D')\n",
    "\n",
    "    # Define additional dates where intensity or school policy changes\n",
    "    t1 = pd.Timestamp('2020-03-15') # start of lockdown\n",
    "    t2 = pd.Timestamp('2020-05-15') # gradual re-opening of schools (assume 50% of nominal scenario)\n",
    "    t3 = pd.Timestamp('2020-07-01') # start of summer: COVID-urgency very low\n",
    "    t4 = pd.Timestamp('2020-08-01')\n",
    "    t5 = pd.Timestamp('2020-09-01') # september: lockdown relaxation narrative in newspapers reduces sense of urgency\n",
    "    t6 = pd.Timestamp('2020-10-19') # lockdown\n",
    "    t7 = pd.Timestamp('2020-11-16') # schools re-open\n",
    "    t8 = pd.Timestamp('2020-12-18') # schools close\n",
    "    t9 = pd.Timestamp('2021-01-04') # schools re-open\n",
    "\n",
    "    if t5 < t <= t6 + tau_days:\n",
    "        t = pd.Timestamp(t.date())\n",
    "        return contact_matrix(t, school=1)\n",
    "    elif t6 + tau_days < t <= t6 + tau_days + l_days:\n",
    "        t = pd.Timestamp(t.date())\n",
    "        policy_old = contact_matrix(t, school=1)\n",
    "        policy_new = contact_matrix(t, prev_home, prev_schools, prev_work, prev_transport, \n",
    "                                    prev_leisure, prev_others, school=0)\n",
    "        return ramp_fun(policy_old, policy_new, t, tau_days, l, t6)\n",
    "    elif t6 + tau_days + l_days < t <= t7:\n",
    "        t = pd.Timestamp(t.date())\n",
    "        return contact_matrix(t, prev_home, prev_schools, prev_work, prev_transport, \n",
    "                              prev_leisure, prev_others, school=0)\n",
    "    elif t7 < t <= t8:\n",
    "        t = pd.Timestamp(t.date())\n",
    "        return contact_matrix(t, prev_home, prev_schools, prev_work, prev_transport, \n",
    "                              prev_leisure, prev_others, school=1)\n",
    "    elif t8 < t <= t9:\n",
    "        t = pd.Timestamp(t.date())\n",
    "        return contact_matrix(t, prev_home, prev_schools, prev_work, prev_transport, \n",
    "                              prev_leisure, prev_others, school=0)\n",
    "    else:\n",
    "        t = pd.Timestamp(t.date())\n",
    "        return contact_matrix(t, prev_home, prev_schools, prev_work, prev_transport, \n",
    "                              prev_leisure, prev_others, school=1)\n",
    "\n"
   ]
  },
  {
   "cell_type": "code",
   "execution_count": 12,
   "metadata": {
    "ExecuteTime": {
     "end_time": "2020-12-08T20:01:42.012388Z",
     "start_time": "2020-12-08T20:01:41.670243Z"
    }
   },
   "outputs": [],
   "source": [
    "# Load the model parameters using `get_COVID19_SEIRD_parameters()`.\n",
    "params = model_parameters.get_COVID19_SEIRD_parameters()\n",
    "\n",
    "params.update({\n",
    "               'l' : 5,\n",
    "               'tau' : 5,\n",
    "               'prev_schools': 0.5,\n",
    "               'prev_work': 0.5,\n",
    "               'prev_transport': 0.5,\n",
    "               'prev_leisure': 0.5,\n",
    "               'prev_others': 0.5,\n",
    "               'prev_home' : 0.5\n",
    "              })\n",
    "\n",
    "# Initialize the model\n",
    "model = models.COVID19_SEIRD(initial_states, params, time_dependent_parameters={'Nc': wave2_policies})"
   ]
  },
  {
   "cell_type": "code",
   "execution_count": 13,
   "metadata": {
    "ExecuteTime": {
     "end_time": "2020-12-08T20:01:56.235982Z",
     "start_time": "2020-12-08T20:01:56.195427Z"
    }
   },
   "outputs": [],
   "source": [
    "# Set up the backend\n",
    "results_folder = \"../../results/calibrations/COVID19_SEIRD/national/backends/\"\n",
    "filename = spatial_unit+'_'+str(datetime.date.today())\n",
    "backend = emcee.backends.HDFBackend(results_folder+filename)\n",
    "\n",
    "# backend = emcee.backends.HDFBackend(filename) kan twee dingen doen:\n",
    "# a) als filename al bestaat: leest die de sampler in filename in\n",
    "# b) als filename nog niet bestaat: maakt die een file aan\n",
    "## => geeft ws probleem als datetime verschillend is... dus dat uit filename laten?\n",
    "## => wordt backend continu aangevuld tijdens runnen van emcee? => checken!"
   ]
  },
  {
   "cell_type": "code",
   "execution_count": 14,
   "metadata": {
    "ExecuteTime": {
     "end_time": "2020-12-08T20:04:04.944861Z",
     "start_time": "2020-12-08T20:02:08.649076Z"
    }
   },
   "outputs": [
    {
     "name": "stdout",
     "output_type": "stream",
     "text": [
      "------------------------------------\n",
      "CALIBRATING BETA AND COMPLIANCE RAMP\n",
      "------------------------------------\n",
      "\n",
      "Using data from 2020-09-01 until 2020-12-08\n",
      "\n",
      "1) Particle swarm optimization\n",
      "\n",
      "No constraints given.\n",
      "Best after iteration 1: [2.31134166e+02 2.55863054e-02 1.70084592e+01 9.85902511e+00\n",
      " 2.35703296e-01 8.98555151e-01 8.18758337e-01 6.35420081e-02\n",
      " 1.19868015e-01 7.93379150e-01] 557.9979795808258\n",
      "Best after iteration 2: [2.31134166e+02 2.55863054e-02 1.70084592e+01 9.85902511e+00\n",
      " 2.35703296e-01 8.98555151e-01 8.18758337e-01 6.35420081e-02\n",
      " 1.19868015e-01 7.93379150e-01] 557.9979795808258\n",
      "Best after iteration 3: [2.31134166e+02 2.55863054e-02 1.70084592e+01 9.85902511e+00\n",
      " 2.35703296e-01 8.98555151e-01 8.18758337e-01 6.35420081e-02\n",
      " 1.19868015e-01 7.93379150e-01] 557.9979795808258\n",
      "Best after iteration 4: [2.31134166e+02 2.55863054e-02 1.70084592e+01 9.85902511e+00\n",
      " 2.35703296e-01 8.98555151e-01 8.18758337e-01 6.35420081e-02\n",
      " 1.19868015e-01 7.93379150e-01] 557.9979795808258\n"
     ]
    },
    {
     "name": "stderr",
     "output_type": "stream",
     "text": [
      "Process ForkPoolWorker-3:\n",
      "Process ForkPoolWorker-6:\n",
      "Process ForkPoolWorker-1:\n",
      "Process ForkPoolWorker-2:\n",
      "Process ForkPoolWorker-5:\n",
      "Traceback (most recent call last):\n",
      "Traceback (most recent call last):\n",
      "Traceback (most recent call last):\n",
      "Traceback (most recent call last):\n",
      "  File \"/home/twallema/anaconda3/envs/COVID_MODEL/lib/python3.8/multiprocessing/process.py\", line 315, in _bootstrap\n",
      "    self.run()\n",
      "  File \"/home/twallema/anaconda3/envs/COVID_MODEL/lib/python3.8/multiprocessing/process.py\", line 315, in _bootstrap\n",
      "    self.run()\n",
      "  File \"/home/twallema/anaconda3/envs/COVID_MODEL/lib/python3.8/multiprocessing/process.py\", line 315, in _bootstrap\n",
      "    self.run()\n",
      "  File \"/home/twallema/anaconda3/envs/COVID_MODEL/lib/python3.8/multiprocessing/process.py\", line 315, in _bootstrap\n",
      "    self.run()\n",
      "  File \"/home/twallema/anaconda3/envs/COVID_MODEL/lib/python3.8/multiprocessing/process.py\", line 108, in run\n",
      "    self._target(*self._args, **self._kwargs)\n",
      "Traceback (most recent call last):\n",
      "  File \"/home/twallema/anaconda3/envs/COVID_MODEL/lib/python3.8/multiprocessing/process.py\", line 108, in run\n",
      "    self._target(*self._args, **self._kwargs)\n",
      "  File \"/home/twallema/anaconda3/envs/COVID_MODEL/lib/python3.8/multiprocessing/process.py\", line 108, in run\n",
      "    self._target(*self._args, **self._kwargs)\n",
      "  File \"/home/twallema/anaconda3/envs/COVID_MODEL/lib/python3.8/multiprocessing/process.py\", line 108, in run\n",
      "    self._target(*self._args, **self._kwargs)\n",
      "  File \"/home/twallema/anaconda3/envs/COVID_MODEL/lib/python3.8/multiprocessing/pool.py\", line 125, in worker\n",
      "    result = (True, func(*args, **kwds))\n",
      "  File \"/home/twallema/anaconda3/envs/COVID_MODEL/lib/python3.8/multiprocessing/pool.py\", line 125, in worker\n",
      "    result = (True, func(*args, **kwds))\n",
      "  File \"/home/twallema/anaconda3/envs/COVID_MODEL/lib/python3.8/multiprocessing/pool.py\", line 125, in worker\n",
      "    result = (True, func(*args, **kwds))\n",
      "  File \"/home/twallema/anaconda3/envs/COVID_MODEL/lib/python3.8/multiprocessing/process.py\", line 315, in _bootstrap\n",
      "    self.run()\n",
      "  File \"/home/twallema/anaconda3/envs/COVID_MODEL/lib/python3.8/multiprocessing/pool.py\", line 48, in mapstar\n",
      "    return list(map(*args))\n",
      "  File \"/home/twallema/anaconda3/envs/COVID_MODEL/lib/python3.8/multiprocessing/pool.py\", line 48, in mapstar\n",
      "    return list(map(*args))\n",
      "Process ForkPoolWorker-4:\n",
      "  File \"/home/twallema/anaconda3/envs/COVID_MODEL/lib/python3.8/multiprocessing/pool.py\", line 48, in mapstar\n",
      "    return list(map(*args))\n",
      "  File \"/home/twallema/anaconda3/envs/COVID_MODEL/lib/python3.8/multiprocessing/pool.py\", line 125, in worker\n",
      "    result = (True, func(*args, **kwds))\n",
      "  File \"/home/twallema/anaconda3/envs/COVID_MODEL/lib/python3.8/multiprocessing/process.py\", line 108, in run\n",
      "    self._target(*self._args, **self._kwargs)\n",
      "  File \"/home/twallema/Documents/PhD/Corona/Python/git/COVID19-Model/src/covid19model/optimization/pso.py\", line 7, in _obj_wrapper\n",
      "    return func(x, *args, **kwargs)\n",
      "  File \"/home/twallema/anaconda3/envs/COVID_MODEL/lib/python3.8/multiprocessing/pool.py\", line 48, in mapstar\n",
      "    return list(map(*args))\n",
      "  File \"/home/twallema/anaconda3/envs/COVID_MODEL/lib/python3.8/multiprocessing/pool.py\", line 125, in worker\n",
      "    result = (True, func(*args, **kwds))\n",
      "  File \"/home/twallema/Documents/PhD/Corona/Python/git/COVID19-Model/src/covid19model/optimization/objective_fcns.py\", line 136, in MLE\n",
      "    out = model.sim(T, start_date=start_date, warmup=warmup)\n",
      "  File \"/home/twallema/Documents/PhD/Corona/Python/git/COVID19-Model/src/covid19model/optimization/pso.py\", line 7, in _obj_wrapper\n",
      "    return func(x, *args, **kwargs)\n",
      "  File \"/home/twallema/anaconda3/envs/COVID_MODEL/lib/python3.8/multiprocessing/pool.py\", line 48, in mapstar\n",
      "    return list(map(*args))\n",
      "  File \"/home/twallema/Documents/PhD/Corona/Python/git/COVID19-Model/src/covid19model/optimization/objective_fcns.py\", line 136, in MLE\n",
      "    out = model.sim(T, start_date=start_date, warmup=warmup)\n",
      "  File \"/home/twallema/Documents/PhD/Corona/Python/git/COVID19-Model/src/covid19model/models/base.py\", line 435, in sim\n",
      "    out = self._sim_single(time, actual_start_date)\n",
      "  File \"/home/twallema/Documents/PhD/Corona/Python/git/COVID19-Model/src/covid19model/optimization/pso.py\", line 7, in _obj_wrapper\n",
      "    return func(x, *args, **kwargs)\n",
      "  File \"/home/twallema/Documents/PhD/Corona/Python/git/COVID19-Model/src/covid19model/models/base.py\", line 321, in _sim_single\n",
      "    output = solve_ivp(fun, time,\n",
      "Traceback (most recent call last):\n",
      "  File \"/home/twallema/Documents/PhD/Corona/Python/git/COVID19-Model/src/covid19model/optimization/pso.py\", line 7, in _obj_wrapper\n",
      "    return func(x, *args, **kwargs)\n",
      "  File \"/home/twallema/Documents/PhD/Corona/Python/git/COVID19-Model/src/covid19model/models/base.py\", line 435, in sim\n",
      "    out = self._sim_single(time, actual_start_date)\n",
      "  File \"/home/twallema/Documents/PhD/Corona/Python/git/COVID19-Model/src/covid19model/optimization/objective_fcns.py\", line 136, in MLE\n",
      "    out = model.sim(T, start_date=start_date, warmup=warmup)\n",
      "  File \"/home/twallema/anaconda3/envs/COVID_MODEL/lib/python3.8/site-packages/scipy/integrate/_ivp/ivp.py\", line 576, in solve_ivp\n",
      "    message = solver.step()\n",
      "  File \"/home/twallema/Documents/PhD/Corona/Python/git/COVID19-Model/src/covid19model/optimization/objective_fcns.py\", line 136, in MLE\n",
      "    out = model.sim(T, start_date=start_date, warmup=warmup)\n",
      "  File \"/home/twallema/anaconda3/envs/COVID_MODEL/lib/python3.8/multiprocessing/process.py\", line 315, in _bootstrap\n",
      "    self.run()\n",
      "  File \"/home/twallema/Documents/PhD/Corona/Python/git/COVID19-Model/src/covid19model/models/base.py\", line 435, in sim\n",
      "    out = self._sim_single(time, actual_start_date)\n",
      "  File \"/home/twallema/anaconda3/envs/COVID_MODEL/lib/python3.8/site-packages/scipy/integrate/_ivp/base.py\", line 181, in step\n",
      "    success, message = self._step_impl()\n",
      "  File \"/home/twallema/Documents/PhD/Corona/Python/git/COVID19-Model/src/covid19model/models/base.py\", line 435, in sim\n",
      "    out = self._sim_single(time, actual_start_date)\n",
      "  File \"/home/twallema/anaconda3/envs/COVID_MODEL/lib/python3.8/multiprocessing/process.py\", line 108, in run\n",
      "    self._target(*self._args, **self._kwargs)\n",
      "  File \"/home/twallema/Documents/PhD/Corona/Python/git/COVID19-Model/src/covid19model/models/base.py\", line 321, in _sim_single\n",
      "    output = solve_ivp(fun, time,\n",
      "  File \"/home/twallema/anaconda3/envs/COVID_MODEL/lib/python3.8/site-packages/scipy/integrate/_ivp/rk.py\", line 144, in _step_impl\n",
      "    y_new, f_new = rk_step(self.fun, t, y, self.f, h, self.A,\n",
      "  File \"/home/twallema/Documents/PhD/Corona/Python/git/COVID19-Model/src/covid19model/models/base.py\", line 321, in _sim_single\n",
      "    output = solve_ivp(fun, time,\n",
      "  File \"/home/twallema/Documents/PhD/Corona/Python/git/COVID19-Model/src/covid19model/models/base.py\", line 321, in _sim_single\n",
      "    output = solve_ivp(fun, time,\n",
      "  File \"/home/twallema/anaconda3/envs/COVID_MODEL/lib/python3.8/multiprocessing/pool.py\", line 125, in worker\n",
      "    result = (True, func(*args, **kwds))\n",
      "  File \"/home/twallema/anaconda3/envs/COVID_MODEL/lib/python3.8/site-packages/scipy/integrate/_ivp/ivp.py\", line 576, in solve_ivp\n",
      "    message = solver.step()\n",
      "  File \"/home/twallema/anaconda3/envs/COVID_MODEL/lib/python3.8/site-packages/scipy/integrate/_ivp/rk.py\", line 64, in rk_step\n",
      "    K[s] = fun(t + c * h, y + dy)\n",
      "  File \"/home/twallema/anaconda3/envs/COVID_MODEL/lib/python3.8/site-packages/scipy/integrate/_ivp/ivp.py\", line 576, in solve_ivp\n",
      "    message = solver.step()\n",
      "  File \"/home/twallema/anaconda3/envs/COVID_MODEL/lib/python3.8/site-packages/scipy/integrate/_ivp/ivp.py\", line 634, in solve_ivp\n",
      "    ys.append(sol(t_eval_step))\n",
      "  File \"/home/twallema/anaconda3/envs/COVID_MODEL/lib/python3.8/site-packages/scipy/integrate/_ivp/base.py\", line 181, in step\n",
      "    success, message = self._step_impl()\n",
      "  File \"/home/twallema/anaconda3/envs/COVID_MODEL/lib/python3.8/site-packages/scipy/integrate/_ivp/base.py\", line 138, in fun\n",
      "    return self.fun_single(t, y)\n",
      "  File \"/home/twallema/anaconda3/envs/COVID_MODEL/lib/python3.8/multiprocessing/pool.py\", line 48, in mapstar\n",
      "    return list(map(*args))\n",
      "  File \"/home/twallema/anaconda3/envs/COVID_MODEL/lib/python3.8/site-packages/scipy/integrate/_ivp/base.py\", line 181, in step\n",
      "    success, message = self._step_impl()\n"
     ]
    },
    {
     "name": "stderr",
     "output_type": "stream",
     "text": [
      "  File \"/home/twallema/anaconda3/envs/COVID_MODEL/lib/python3.8/site-packages/scipy/integrate/_ivp/base.py\", line 252, in __call__\n",
      "    return self._call_impl(t)\n",
      "  File \"/home/twallema/anaconda3/envs/COVID_MODEL/lib/python3.8/site-packages/scipy/integrate/_ivp/rk.py\", line 144, in _step_impl\n",
      "    y_new, f_new = rk_step(self.fun, t, y, self.f, h, self.A,\n",
      "  File \"/home/twallema/anaconda3/envs/COVID_MODEL/lib/python3.8/site-packages/scipy/integrate/_ivp/base.py\", line 20, in fun_wrapped\n",
      "    return np.asarray(fun(t, y), dtype=dtype)\n",
      "  File \"/home/twallema/anaconda3/envs/COVID_MODEL/lib/python3.8/site-packages/scipy/integrate/_ivp/rk.py\", line 544, in _call_impl\n",
      "    y += self.y_old[:, None]\n",
      "  File \"/home/twallema/Documents/PhD/Corona/Python/git/COVID19-Model/src/covid19model/optimization/pso.py\", line 7, in _obj_wrapper\n",
      "    return func(x, *args, **kwargs)\n",
      "  File \"/home/twallema/anaconda3/envs/COVID_MODEL/lib/python3.8/site-packages/scipy/integrate/_ivp/rk.py\", line 64, in rk_step\n",
      "    K[s] = fun(t + c * h, y + dy)\n",
      "  File \"/home/twallema/anaconda3/envs/COVID_MODEL/lib/python3.8/site-packages/scipy/integrate/_ivp/rk.py\", line 144, in _step_impl\n",
      "    y_new, f_new = rk_step(self.fun, t, y, self.f, h, self.A,\n",
      "  File \"/home/twallema/anaconda3/envs/COVID_MODEL/lib/python3.8/site-packages/scipy/integrate/_ivp/ivp.py\", line 514, in <lambda>\n",
      "    fun = lambda t, x, fun=fun: fun(t, x, *args)\n",
      "KeyboardInterrupt\n",
      "  File \"/home/twallema/anaconda3/envs/COVID_MODEL/lib/python3.8/site-packages/scipy/integrate/_ivp/rk.py\", line 63, in rk_step\n",
      "    dy = np.dot(K[:s].T, a[:s]) * h\n",
      "  File \"/home/twallema/Documents/PhD/Corona/Python/git/COVID19-Model/src/covid19model/optimization/objective_fcns.py\", line 136, in MLE\n",
      "    out = model.sim(T, start_date=start_date, warmup=warmup)\n",
      "  File \"/home/twallema/Documents/PhD/Corona/Python/git/COVID19-Model/src/covid19model/models/base.py\", line 302, in func\n",
      "    dstates = self.integrate(t, *y_reshaped, *model_pars)\n",
      "  File \"/home/twallema/anaconda3/envs/COVID_MODEL/lib/python3.8/site-packages/scipy/integrate/_ivp/base.py\", line 138, in fun\n",
      "    return self.fun_single(t, y)\n",
      "KeyboardInterrupt\n",
      "KeyboardInterrupt\n",
      "  File \"/home/twallema/anaconda3/envs/COVID_MODEL/lib/python3.8/site-packages/scipy/integrate/_ivp/base.py\", line 20, in fun_wrapped\n",
      "    return np.asarray(fun(t, y), dtype=dtype)\n",
      "  File \"/home/twallema/Documents/PhD/Corona/Python/git/COVID19-Model/src/covid19model/models/base.py\", line 435, in sim\n",
      "    out = self._sim_single(time, actual_start_date)\n",
      "  File \"/home/twallema/Documents/PhD/Corona/Python/git/COVID19-Model/src/covid19model/models/base.py\", line 321, in _sim_single\n",
      "    output = solve_ivp(fun, time,\n",
      "  File \"/home/twallema/anaconda3/envs/COVID_MODEL/lib/python3.8/site-packages/scipy/integrate/_ivp/ivp.py\", line 576, in solve_ivp\n",
      "    message = solver.step()\n",
      "  File \"/home/twallema/anaconda3/envs/COVID_MODEL/lib/python3.8/site-packages/scipy/integrate/_ivp/base.py\", line 181, in step\n",
      "    success, message = self._step_impl()\n",
      "  File \"/home/twallema/anaconda3/envs/COVID_MODEL/lib/python3.8/site-packages/scipy/integrate/_ivp/rk.py\", line 144, in _step_impl\n",
      "    y_new, f_new = rk_step(self.fun, t, y, self.f, h, self.A,\n",
      "  File \"/home/twallema/anaconda3/envs/COVID_MODEL/lib/python3.8/site-packages/scipy/integrate/_ivp/rk.py\", line 64, in rk_step\n",
      "    K[s] = fun(t + c * h, y + dy)\n",
      "  File \"/home/twallema/anaconda3/envs/COVID_MODEL/lib/python3.8/site-packages/scipy/integrate/_ivp/ivp.py\", line 514, in <lambda>\n",
      "    fun = lambda t, x, fun=fun: fun(t, x, *args)\n",
      "  File \"/home/twallema/Documents/PhD/Corona/Python/git/COVID19-Model/src/covid19model/models/base.py\", line 302, in func\n",
      "    dstates = self.integrate(t, *y_reshaped, *model_pars)\n",
      "  File \"/home/twallema/anaconda3/envs/COVID_MODEL/lib/python3.8/site-packages/scipy/integrate/_ivp/base.py\", line 138, in fun\n",
      "    return self.fun_single(t, y)\n",
      "  File \"/home/twallema/Documents/PhD/Corona/Python/git/COVID19-Model/src/covid19model/models/models.py\", line 140, in integrate\n",
      "    dS  = - beta*s*np.matmul(Nc,((I+A)/T))*S + zeta*R - v*e*S\n",
      "  File \"/home/twallema/anaconda3/envs/COVID_MODEL/lib/python3.8/site-packages/scipy/integrate/_ivp/base.py\", line 20, in fun_wrapped\n",
      "    return np.asarray(fun(t, y), dtype=dtype)\n",
      "  File \"/home/twallema/Documents/PhD/Corona/Python/git/COVID19-Model/src/covid19model/optimization/pso.py\", line 7, in _obj_wrapper\n",
      "    return func(x, *args, **kwargs)\n",
      "KeyboardInterrupt\n",
      "  File \"/home/twallema/anaconda3/envs/COVID_MODEL/lib/python3.8/site-packages/scipy/integrate/_ivp/ivp.py\", line 514, in <lambda>\n",
      "    fun = lambda t, x, fun=fun: fun(t, x, *args)\n",
      "  File \"/home/twallema/Documents/PhD/Corona/Python/git/COVID19-Model/src/covid19model/optimization/objective_fcns.py\", line 136, in MLE\n",
      "    out = model.sim(T, start_date=start_date, warmup=warmup)\n",
      "  File \"/home/twallema/Documents/PhD/Corona/Python/git/COVID19-Model/src/covid19model/models/base.py\", line 435, in sim\n",
      "    out = self._sim_single(time, actual_start_date)\n",
      "  File \"/home/twallema/Documents/PhD/Corona/Python/git/COVID19-Model/src/covid19model/models/base.py\", line 288, in func\n",
      "    params[param] = param_func(date, pars[param], **func_params)\n",
      "  File \"/home/twallema/Documents/PhD/Corona/Python/git/COVID19-Model/src/covid19model/models/base.py\", line 321, in _sim_single\n",
      "    output = solve_ivp(fun, time,\n",
      "  File \"<ipython-input-11-a7014828a4e1>\", line 27, in wave2_policies\n",
      "    return ramp_fun(policy_old, policy_new, t, tau_days, l, t6)\n",
      "  File \"/home/twallema/anaconda3/envs/COVID_MODEL/lib/python3.8/site-packages/scipy/integrate/_ivp/ivp.py\", line 576, in solve_ivp\n",
      "    message = solver.step()\n",
      "  File \"/home/twallema/Documents/PhD/Corona/Python/git/COVID19-Model/src/covid19model/models/time_dependant_parameter_fncs.py\", line 16, in ramp_fun\n",
      "    return Nc_old + (Nc_new-Nc_old)/l * (t-t_start-tau_days)/pd.Timedelta('1D')\n",
      "  File \"/home/twallema/anaconda3/envs/COVID_MODEL/lib/python3.8/site-packages/scipy/integrate/_ivp/base.py\", line 181, in step\n",
      "    success, message = self._step_impl()\n",
      "KeyboardInterrupt\n",
      "  File \"/home/twallema/anaconda3/envs/COVID_MODEL/lib/python3.8/site-packages/scipy/integrate/_ivp/rk.py\", line 144, in _step_impl\n",
      "    y_new, f_new = rk_step(self.fun, t, y, self.f, h, self.A,\n",
      "  File \"/home/twallema/anaconda3/envs/COVID_MODEL/lib/python3.8/site-packages/scipy/integrate/_ivp/rk.py\", line 64, in rk_step\n",
      "    K[s] = fun(t + c * h, y + dy)\n",
      "  File \"/home/twallema/anaconda3/envs/COVID_MODEL/lib/python3.8/site-packages/scipy/integrate/_ivp/base.py\", line 138, in fun\n",
      "    return self.fun_single(t, y)\n",
      "  File \"/home/twallema/anaconda3/envs/COVID_MODEL/lib/python3.8/site-packages/scipy/integrate/_ivp/base.py\", line 20, in fun_wrapped\n",
      "    return np.asarray(fun(t, y), dtype=dtype)\n",
      "  File \"/home/twallema/anaconda3/envs/COVID_MODEL/lib/python3.8/site-packages/scipy/integrate/_ivp/ivp.py\", line 514, in <lambda>\n",
      "    fun = lambda t, x, fun=fun: fun(t, x, *args)\n",
      "  File \"/home/twallema/Documents/PhD/Corona/Python/git/COVID19-Model/src/covid19model/models/base.py\", line 288, in func\n",
      "    params[param] = param_func(date, pars[param], **func_params)\n",
      "  File \"<ipython-input-11-a7014828a4e1>\", line 6, in wave2_policies\n",
      "    l_days = pd.Timedelta(l, unit='D')\n",
      "  File \"pandas/_libs/tslibs/timedeltas.pyx\", line 1191, in pandas._libs.tslibs.timedeltas.Timedelta.__new__\n",
      "  File \"pandas/_libs/tslibs/timedeltas.pyx\", line 209, in pandas._libs.tslibs.timedeltas.convert_to_timedelta64\n",
      "  File \"pandas/_libs/tslibs/conversion.pyx\", line 120, in pandas._libs.tslibs.conversion.cast_from_unit\n",
      "KeyboardInterrupt\n"
     ]
    },
    {
     "ename": "KeyboardInterrupt",
     "evalue": "",
     "output_type": "error",
     "traceback": [
      "\u001b[0;31m---------------------------------------------------------------------------\u001b[0m",
      "\u001b[0;31mKeyboardInterrupt\u001b[0m                         Traceback (most recent call last)",
      "\u001b[0;32m<ipython-input-14-00151f706227>\u001b[0m in \u001b[0;36m<module>\u001b[0;34m\u001b[0m\n\u001b[1;32m     27\u001b[0m \u001b[0;34m\u001b[0m\u001b[0m\n\u001b[1;32m     28\u001b[0m \u001b[0;31m# run PSO optimisation\u001b[0m\u001b[0;34m\u001b[0m\u001b[0;34m\u001b[0m\u001b[0;34m\u001b[0m\u001b[0m\n\u001b[0;32m---> 29\u001b[0;31m theta = pso.fit_pso(model,data,parNames,states,bounds,maxiter=maxiter,popsize=popsize,\n\u001b[0m\u001b[1;32m     30\u001b[0m                     start_date=start_calibration,warmup=warmup, processes=processes) ## PROCESSES=1 to debug!\n",
      "\u001b[0;32m~/Documents/PhD/Corona/Python/git/COVID19-Model/src/covid19model/optimization/pso.py\u001b[0m in \u001b[0;36mfit_pso\u001b[0;34m(model, data, parNames, states, bounds, draw_fcn, samples, start_date, warmup, disp, maxiter, popsize, processes, omega, phip, phig)\u001b[0m\n\u001b[1;32m    301\u001b[0m     \u001b[0;31m# Run pso algorithm on MLE objective function\u001b[0m\u001b[0;34m\u001b[0m\u001b[0;34m\u001b[0m\u001b[0;34m\u001b[0m\u001b[0m\n\u001b[1;32m    302\u001b[0m     \u001b[0;31m# -------------------------------------------\u001b[0m\u001b[0;34m\u001b[0m\u001b[0;34m\u001b[0m\u001b[0;34m\u001b[0m\u001b[0m\n\u001b[0;32m--> 303\u001b[0;31m     \u001b[0mp_hat\u001b[0m\u001b[0;34m,\u001b[0m \u001b[0mobj_fun_val\u001b[0m\u001b[0;34m,\u001b[0m \u001b[0mpars_final_swarm\u001b[0m\u001b[0;34m,\u001b[0m \u001b[0mobj_fun_val_final_swarm\u001b[0m \u001b[0;34m=\u001b[0m \u001b[0moptim\u001b[0m\u001b[0;34m(\u001b[0m\u001b[0mobjective_fcns\u001b[0m\u001b[0;34m.\u001b[0m\u001b[0mMLE\u001b[0m\u001b[0;34m,\u001b[0m \u001b[0mbounds\u001b[0m\u001b[0;34m,\u001b[0m \u001b[0margs\u001b[0m\u001b[0;34m=\u001b[0m\u001b[0;34m(\u001b[0m\u001b[0mmodel\u001b[0m\u001b[0;34m,\u001b[0m\u001b[0mdata\u001b[0m\u001b[0;34m,\u001b[0m\u001b[0mstates\u001b[0m\u001b[0;34m,\u001b[0m\u001b[0mparNames\u001b[0m\u001b[0;34m,\u001b[0m\u001b[0mdraw_fcn\u001b[0m\u001b[0;34m,\u001b[0m\u001b[0msamples\u001b[0m\u001b[0;34m,\u001b[0m \u001b[0mstart_date\u001b[0m\u001b[0;34m,\u001b[0m \u001b[0mwarmup\u001b[0m\u001b[0;34m)\u001b[0m\u001b[0;34m,\u001b[0m \u001b[0mswarmsize\u001b[0m\u001b[0;34m=\u001b[0m\u001b[0mpopsize\u001b[0m\u001b[0;34m,\u001b[0m \u001b[0mmaxiter\u001b[0m\u001b[0;34m=\u001b[0m\u001b[0mmaxiter\u001b[0m\u001b[0;34m,\u001b[0m \u001b[0mprocesses\u001b[0m\u001b[0;34m=\u001b[0m\u001b[0mprocesses\u001b[0m\u001b[0;34m,\u001b[0m\u001b[0mminfunc\u001b[0m\u001b[0;34m=\u001b[0m\u001b[0;36m1e-9\u001b[0m\u001b[0;34m,\u001b[0m \u001b[0mminstep\u001b[0m\u001b[0;34m=\u001b[0m\u001b[0;36m1e-9\u001b[0m\u001b[0;34m,\u001b[0m\u001b[0mdebug\u001b[0m\u001b[0;34m=\u001b[0m\u001b[0;32mTrue\u001b[0m\u001b[0;34m,\u001b[0m \u001b[0mparticle_output\u001b[0m\u001b[0;34m=\u001b[0m\u001b[0;32mTrue\u001b[0m\u001b[0;34m,\u001b[0m \u001b[0momega\u001b[0m\u001b[0;34m=\u001b[0m\u001b[0momega\u001b[0m\u001b[0;34m,\u001b[0m \u001b[0mphip\u001b[0m\u001b[0;34m=\u001b[0m\u001b[0mphip\u001b[0m\u001b[0;34m,\u001b[0m \u001b[0mphig\u001b[0m\u001b[0;34m=\u001b[0m\u001b[0mphig\u001b[0m\u001b[0;34m)\u001b[0m\u001b[0;34m\u001b[0m\u001b[0;34m\u001b[0m\u001b[0m\n\u001b[0m\u001b[1;32m    304\u001b[0m     \u001b[0mtheta_hat\u001b[0m \u001b[0;34m=\u001b[0m \u001b[0mp_hat\u001b[0m\u001b[0;34m\u001b[0m\u001b[0;34m\u001b[0m\u001b[0m\n\u001b[1;32m    305\u001b[0m \u001b[0;34m\u001b[0m\u001b[0m\n",
      "\u001b[0;32m~/Documents/PhD/Corona/Python/git/COVID19-Model/src/covid19model/optimization/pso.py\u001b[0m in \u001b[0;36moptim\u001b[0;34m(func, bounds, ieqcons, f_ieqcons, args, kwargs, swarmsize, omega, phip, phig, maxiter, minstep, minfunc, debug, processes, particle_output, transform_pars)\u001b[0m\n\u001b[1;32m    202\u001b[0m         \u001b[0;31m# Update objectives and constraints\u001b[0m\u001b[0;34m\u001b[0m\u001b[0;34m\u001b[0m\u001b[0;34m\u001b[0m\u001b[0m\n\u001b[1;32m    203\u001b[0m         \u001b[0;32mif\u001b[0m \u001b[0mprocesses\u001b[0m \u001b[0;34m>\u001b[0m \u001b[0;36m1\u001b[0m\u001b[0;34m:\u001b[0m\u001b[0;34m\u001b[0m\u001b[0;34m\u001b[0m\u001b[0m\n\u001b[0;32m--> 204\u001b[0;31m             \u001b[0mfx\u001b[0m \u001b[0;34m=\u001b[0m \u001b[0mnp\u001b[0m\u001b[0;34m.\u001b[0m\u001b[0marray\u001b[0m\u001b[0;34m(\u001b[0m\u001b[0mmp_pool\u001b[0m\u001b[0;34m.\u001b[0m\u001b[0mmap\u001b[0m\u001b[0;34m(\u001b[0m\u001b[0mobj\u001b[0m\u001b[0;34m,\u001b[0m \u001b[0mx\u001b[0m\u001b[0;34m)\u001b[0m\u001b[0;34m)\u001b[0m\u001b[0;34m\u001b[0m\u001b[0;34m\u001b[0m\u001b[0m\n\u001b[0m\u001b[1;32m    205\u001b[0m             \u001b[0mfs\u001b[0m \u001b[0;34m=\u001b[0m \u001b[0mnp\u001b[0m\u001b[0;34m.\u001b[0m\u001b[0marray\u001b[0m\u001b[0;34m(\u001b[0m\u001b[0mmp_pool\u001b[0m\u001b[0;34m.\u001b[0m\u001b[0mmap\u001b[0m\u001b[0;34m(\u001b[0m\u001b[0mis_feasible\u001b[0m\u001b[0;34m,\u001b[0m \u001b[0mx\u001b[0m\u001b[0;34m)\u001b[0m\u001b[0;34m)\u001b[0m\u001b[0;34m\u001b[0m\u001b[0;34m\u001b[0m\u001b[0m\n\u001b[1;32m    206\u001b[0m         \u001b[0;32melse\u001b[0m\u001b[0;34m:\u001b[0m\u001b[0;34m\u001b[0m\u001b[0;34m\u001b[0m\u001b[0m\n",
      "\u001b[0;32m~/anaconda3/envs/COVID_MODEL/lib/python3.8/multiprocessing/pool.py\u001b[0m in \u001b[0;36mmap\u001b[0;34m(self, func, iterable, chunksize)\u001b[0m\n\u001b[1;32m    362\u001b[0m         \u001b[0;32min\u001b[0m \u001b[0ma\u001b[0m \u001b[0mlist\u001b[0m \u001b[0mthat\u001b[0m \u001b[0;32mis\u001b[0m \u001b[0mreturned\u001b[0m\u001b[0;34m.\u001b[0m\u001b[0;34m\u001b[0m\u001b[0;34m\u001b[0m\u001b[0m\n\u001b[1;32m    363\u001b[0m         '''\n\u001b[0;32m--> 364\u001b[0;31m         \u001b[0;32mreturn\u001b[0m \u001b[0mself\u001b[0m\u001b[0;34m.\u001b[0m\u001b[0m_map_async\u001b[0m\u001b[0;34m(\u001b[0m\u001b[0mfunc\u001b[0m\u001b[0;34m,\u001b[0m \u001b[0miterable\u001b[0m\u001b[0;34m,\u001b[0m \u001b[0mmapstar\u001b[0m\u001b[0;34m,\u001b[0m \u001b[0mchunksize\u001b[0m\u001b[0;34m)\u001b[0m\u001b[0;34m.\u001b[0m\u001b[0mget\u001b[0m\u001b[0;34m(\u001b[0m\u001b[0;34m)\u001b[0m\u001b[0;34m\u001b[0m\u001b[0;34m\u001b[0m\u001b[0m\n\u001b[0m\u001b[1;32m    365\u001b[0m \u001b[0;34m\u001b[0m\u001b[0m\n\u001b[1;32m    366\u001b[0m     \u001b[0;32mdef\u001b[0m \u001b[0mstarmap\u001b[0m\u001b[0;34m(\u001b[0m\u001b[0mself\u001b[0m\u001b[0;34m,\u001b[0m \u001b[0mfunc\u001b[0m\u001b[0;34m,\u001b[0m \u001b[0miterable\u001b[0m\u001b[0;34m,\u001b[0m \u001b[0mchunksize\u001b[0m\u001b[0;34m=\u001b[0m\u001b[0;32mNone\u001b[0m\u001b[0;34m)\u001b[0m\u001b[0;34m:\u001b[0m\u001b[0;34m\u001b[0m\u001b[0;34m\u001b[0m\u001b[0m\n",
      "\u001b[0;32m~/anaconda3/envs/COVID_MODEL/lib/python3.8/multiprocessing/pool.py\u001b[0m in \u001b[0;36mget\u001b[0;34m(self, timeout)\u001b[0m\n\u001b[1;32m    760\u001b[0m \u001b[0;34m\u001b[0m\u001b[0m\n\u001b[1;32m    761\u001b[0m     \u001b[0;32mdef\u001b[0m \u001b[0mget\u001b[0m\u001b[0;34m(\u001b[0m\u001b[0mself\u001b[0m\u001b[0;34m,\u001b[0m \u001b[0mtimeout\u001b[0m\u001b[0;34m=\u001b[0m\u001b[0;32mNone\u001b[0m\u001b[0;34m)\u001b[0m\u001b[0;34m:\u001b[0m\u001b[0;34m\u001b[0m\u001b[0;34m\u001b[0m\u001b[0m\n\u001b[0;32m--> 762\u001b[0;31m         \u001b[0mself\u001b[0m\u001b[0;34m.\u001b[0m\u001b[0mwait\u001b[0m\u001b[0;34m(\u001b[0m\u001b[0mtimeout\u001b[0m\u001b[0;34m)\u001b[0m\u001b[0;34m\u001b[0m\u001b[0;34m\u001b[0m\u001b[0m\n\u001b[0m\u001b[1;32m    763\u001b[0m         \u001b[0;32mif\u001b[0m \u001b[0;32mnot\u001b[0m \u001b[0mself\u001b[0m\u001b[0;34m.\u001b[0m\u001b[0mready\u001b[0m\u001b[0;34m(\u001b[0m\u001b[0;34m)\u001b[0m\u001b[0;34m:\u001b[0m\u001b[0;34m\u001b[0m\u001b[0;34m\u001b[0m\u001b[0m\n\u001b[1;32m    764\u001b[0m             \u001b[0;32mraise\u001b[0m \u001b[0mTimeoutError\u001b[0m\u001b[0;34m\u001b[0m\u001b[0;34m\u001b[0m\u001b[0m\n",
      "\u001b[0;32m~/anaconda3/envs/COVID_MODEL/lib/python3.8/multiprocessing/pool.py\u001b[0m in \u001b[0;36mwait\u001b[0;34m(self, timeout)\u001b[0m\n\u001b[1;32m    757\u001b[0m \u001b[0;34m\u001b[0m\u001b[0m\n\u001b[1;32m    758\u001b[0m     \u001b[0;32mdef\u001b[0m \u001b[0mwait\u001b[0m\u001b[0;34m(\u001b[0m\u001b[0mself\u001b[0m\u001b[0;34m,\u001b[0m \u001b[0mtimeout\u001b[0m\u001b[0;34m=\u001b[0m\u001b[0;32mNone\u001b[0m\u001b[0;34m)\u001b[0m\u001b[0;34m:\u001b[0m\u001b[0;34m\u001b[0m\u001b[0;34m\u001b[0m\u001b[0m\n\u001b[0;32m--> 759\u001b[0;31m         \u001b[0mself\u001b[0m\u001b[0;34m.\u001b[0m\u001b[0m_event\u001b[0m\u001b[0;34m.\u001b[0m\u001b[0mwait\u001b[0m\u001b[0;34m(\u001b[0m\u001b[0mtimeout\u001b[0m\u001b[0;34m)\u001b[0m\u001b[0;34m\u001b[0m\u001b[0;34m\u001b[0m\u001b[0m\n\u001b[0m\u001b[1;32m    760\u001b[0m \u001b[0;34m\u001b[0m\u001b[0m\n\u001b[1;32m    761\u001b[0m     \u001b[0;32mdef\u001b[0m \u001b[0mget\u001b[0m\u001b[0;34m(\u001b[0m\u001b[0mself\u001b[0m\u001b[0;34m,\u001b[0m \u001b[0mtimeout\u001b[0m\u001b[0;34m=\u001b[0m\u001b[0;32mNone\u001b[0m\u001b[0;34m)\u001b[0m\u001b[0;34m:\u001b[0m\u001b[0;34m\u001b[0m\u001b[0;34m\u001b[0m\u001b[0m\n",
      "\u001b[0;32m~/anaconda3/envs/COVID_MODEL/lib/python3.8/threading.py\u001b[0m in \u001b[0;36mwait\u001b[0;34m(self, timeout)\u001b[0m\n\u001b[1;32m    556\u001b[0m             \u001b[0msignaled\u001b[0m \u001b[0;34m=\u001b[0m \u001b[0mself\u001b[0m\u001b[0;34m.\u001b[0m\u001b[0m_flag\u001b[0m\u001b[0;34m\u001b[0m\u001b[0;34m\u001b[0m\u001b[0m\n\u001b[1;32m    557\u001b[0m             \u001b[0;32mif\u001b[0m \u001b[0;32mnot\u001b[0m \u001b[0msignaled\u001b[0m\u001b[0;34m:\u001b[0m\u001b[0;34m\u001b[0m\u001b[0;34m\u001b[0m\u001b[0m\n\u001b[0;32m--> 558\u001b[0;31m                 \u001b[0msignaled\u001b[0m \u001b[0;34m=\u001b[0m \u001b[0mself\u001b[0m\u001b[0;34m.\u001b[0m\u001b[0m_cond\u001b[0m\u001b[0;34m.\u001b[0m\u001b[0mwait\u001b[0m\u001b[0;34m(\u001b[0m\u001b[0mtimeout\u001b[0m\u001b[0;34m)\u001b[0m\u001b[0;34m\u001b[0m\u001b[0;34m\u001b[0m\u001b[0m\n\u001b[0m\u001b[1;32m    559\u001b[0m             \u001b[0;32mreturn\u001b[0m \u001b[0msignaled\u001b[0m\u001b[0;34m\u001b[0m\u001b[0;34m\u001b[0m\u001b[0m\n\u001b[1;32m    560\u001b[0m \u001b[0;34m\u001b[0m\u001b[0m\n",
      "\u001b[0;32m~/anaconda3/envs/COVID_MODEL/lib/python3.8/threading.py\u001b[0m in \u001b[0;36mwait\u001b[0;34m(self, timeout)\u001b[0m\n\u001b[1;32m    300\u001b[0m         \u001b[0;32mtry\u001b[0m\u001b[0;34m:\u001b[0m    \u001b[0;31m# restore state no matter what (e.g., KeyboardInterrupt)\u001b[0m\u001b[0;34m\u001b[0m\u001b[0;34m\u001b[0m\u001b[0m\n\u001b[1;32m    301\u001b[0m             \u001b[0;32mif\u001b[0m \u001b[0mtimeout\u001b[0m \u001b[0;32mis\u001b[0m \u001b[0;32mNone\u001b[0m\u001b[0;34m:\u001b[0m\u001b[0;34m\u001b[0m\u001b[0;34m\u001b[0m\u001b[0m\n\u001b[0;32m--> 302\u001b[0;31m                 \u001b[0mwaiter\u001b[0m\u001b[0;34m.\u001b[0m\u001b[0macquire\u001b[0m\u001b[0;34m(\u001b[0m\u001b[0;34m)\u001b[0m\u001b[0;34m\u001b[0m\u001b[0;34m\u001b[0m\u001b[0m\n\u001b[0m\u001b[1;32m    303\u001b[0m                 \u001b[0mgotit\u001b[0m \u001b[0;34m=\u001b[0m \u001b[0;32mTrue\u001b[0m\u001b[0;34m\u001b[0m\u001b[0;34m\u001b[0m\u001b[0m\n\u001b[1;32m    304\u001b[0m             \u001b[0;32melse\u001b[0m\u001b[0;34m:\u001b[0m\u001b[0;34m\u001b[0m\u001b[0;34m\u001b[0m\u001b[0m\n",
      "\u001b[0;31mKeyboardInterrupt\u001b[0m: "
     ]
    }
   ],
   "source": [
    "warmup=0\n",
    "maxiter = 100\n",
    "popsize = 100\n",
    "processes = 6 # voor eraser!!\n",
    "steps_mcmc = 30000#3000\n",
    "discard = 1000\n",
    "\n",
    "# define dataset\n",
    "data=[df_sciensano['H_in'][start_calibration:end_calibration]]\n",
    "states = [[\"H_in\"]]\n",
    "\n",
    "####################################################\n",
    "####### CALIBRATING BETA AND COMPLIANCE RAMP #######\n",
    "####################################################\n",
    "\n",
    "print('------------------------------------')\n",
    "print('CALIBRATING BETA AND COMPLIANCE RAMP')\n",
    "print('------------------------------------\\n')\n",
    "print('Using data from '+start_calibration+' until '+end_calibration+'\\n')\n",
    "print('1) Particle swarm optimization\\n')\n",
    "\n",
    "# set PSO optimisation settings\n",
    "parNames = ['sigma_data','beta','l','tau',\n",
    "            'prev_schools', 'prev_work', 'prev_transport', 'prev_leisure', 'prev_others', 'prev_home']\n",
    "bounds=((1,2000),(0.010,0.060),(0.1,20),(0.1,20),\n",
    "        (0,1),(0,1),(0,1),(0,1),(0,1),(0,1))\n",
    "\n",
    "# run PSO optimisation\n",
    "theta = pso.fit_pso(model,data,parNames,states,bounds,maxiter=maxiter,popsize=popsize,\n",
    "                    start_date=start_calibration,warmup=warmup, processes=processes) ## PROCESSES=1 to debug!\n"
   ]
  },
  {
   "cell_type": "code",
   "execution_count": null,
   "metadata": {
    "ExecuteTime": {
     "start_time": "2020-12-08T20:05:14.919Z"
    }
   },
   "outputs": [
    {
     "name": "stdout",
     "output_type": "stream",
     "text": [
      "\n",
      "2) Markov-Chain Monte-Carlo sampling\n",
      "\n"
     ]
    },
    {
     "name": "stderr",
     "output_type": "stream",
     "text": [
      "  0%|          | 0/30000 [00:00<?, ?it/s]/home/data/jvergeyn/.conda/envs/COVID_MODEL/lib/python3.7/site-packages/emcee/moves/red_blue.py:99: RuntimeWarning: invalid value encountered in double_scalars\n",
      "  lnpdiff = f + nlp - state.log_prob[j]\n",
      " 11%|█         | 3207/30000 [2:33:46<22:24:26,  3.01s/it]IOPub message rate exceeded.\n",
      "The notebook server will temporarily stop sending output\n",
      "to the client in order to avoid crashing it.\n",
      "To change this limit, set the config variable\n",
      "`--NotebookApp.iopub_msg_rate_limit`.\n",
      "\n",
      "Current values:\n",
      "NotebookApp.iopub_msg_rate_limit=1000.0 (msgs/sec)\n",
      "NotebookApp.rate_limit_window=3.0 (secs)\n",
      "\n",
      " 28%|██▊       | 8485/30000 [6:35:54<14:43:44,  2.46s/it]IOPub message rate exceeded.\n",
      "The notebook server will temporarily stop sending output\n",
      "to the client in order to avoid crashing it.\n",
      "To change this limit, set the config variable\n",
      "`--NotebookApp.iopub_msg_rate_limit`.\n",
      "\n",
      "Current values:\n",
      "NotebookApp.iopub_msg_rate_limit=1000.0 (msgs/sec)\n",
      "NotebookApp.rate_limit_window=3.0 (secs)\n",
      "\n",
      " 46%|████▌     | 13765/30000 [10:38:40<12:51:25,  2.85s/it]IOPub message rate exceeded.\n",
      "The notebook server will temporarily stop sending output\n",
      "to the client in order to avoid crashing it.\n",
      "To change this limit, set the config variable\n",
      "`--NotebookApp.iopub_msg_rate_limit`.\n",
      "\n",
      "Current values:\n",
      "NotebookApp.iopub_msg_rate_limit=1000.0 (msgs/sec)\n",
      "NotebookApp.rate_limit_window=3.0 (secs)\n",
      "\n",
      " 55%|█████▍    | 16456/30000 [12:40:00<10:05:50,  2.68s/it]"
     ]
    }
   ],
   "source": [
    "\n",
    "# run MCMC sampler\n",
    "print('\\n2) Markov-Chain Monte-Carlo sampling\\n')\n",
    "parNames_mcmc = parNames\n",
    "bounds_mcmc=((1,2000),(0.020,0.060),(0.001,20),(0.001,20),\n",
    "             (0,1),(0,1),(0,1),(0,1),(0,1),(0,1))\n",
    "\n",
    "ndim = len(theta)\n",
    "nwalkers = ndim*2\n",
    "perturbations = ([1]+(ndim-1)*[1e-3]) * np.random.randn(nwalkers, ndim)\n",
    "pos = theta + perturbations\n",
    "\n",
    "sampler = emcee.EnsembleSampler(nwalkers, ndim, objective_fcns.log_probability, backend=backend,\n",
    "                    args=(model, bounds_mcmc, data, states, parNames_mcmc, None, start_calibration, warmup))\n",
    "sampler.run_mcmc(pos, steps_mcmc, progress=True)\n",
    "\n",
    "thin = 0\n",
    "try:\n",
    "    autocorr = sampler.get_autocorr_time()\n",
    "    thin = int(0.5 * np.min(autocorr))\n",
    "except:\n",
    "    print('Warning: The chain is shorter than 50 times the integrated autocorrelation time for 4 parameter(s).\\nUse this estimate with caution and run a longer chain!')\n",
    "    sampler.run_mcmc(initial_state=None, nsteps=steps_mcmc, progress=True)\n",
    "from covid19model.optimization.run_optimization import checkplots\n",
    "checkplots(sampler, discard, thin, fig_path, spatial_unit, figname='BETA_RAMP_GOOGLE_WAVE2', \n",
    "           labels=['$\\sigma_{data}$','$\\\\beta$','l','$\\\\tau$',\n",
    "                   'prev_schools', 'prev_work', 'prev_transport', 'prev_leisure', 'prev_others', 'prev_home'])\n",
    "\n",
    "#############################################\n",
    "####### Output to dictionary ################\n",
    "#############################################\n",
    "\n",
    "flat_samples = sampler.get_chain(discard=discard,thin=thin,flat=True)\n",
    "\n",
    "samples_dict_wave2 = {}\n",
    "for count,name in enumerate(parNames_mcmc):\n",
    "    samples_dict_wave2[name] = flat_samples[:,count].tolist()\n",
    "\n",
    "samples_dict_wave2.update({\n",
    "    'theta_pso' : list(theta_pso),\n",
    "    'warmup' : warmup,\n",
    "    'calibration_data' : states[0][0],\n",
    "    'start_date' : start_calibration,\n",
    "    'end_date' : end_calibration,\n",
    "    'maxiter' : maxiter,\n",
    "    'popsize': popsize,\n",
    "    'steps_mcmc': steps_mcmc,\n",
    "    'discard' : discard,\n",
    "})\n",
    "\n",
    "with open(samples_path+str(spatial_unit)+'_'+str(datetime.date.today())+'_WAVE2_GOOGLE.json', 'w') as fp:\n",
    "    json.dump(samples_dict_wave2, fp)"
   ]
  },
  {
   "cell_type": "code",
   "execution_count": null,
   "metadata": {},
   "outputs": [],
   "source": [
    "# Checken waar stopcriterium zit\n",
    "chains = sampler.get_chain()\n",
    "step_autocorr = 100\n",
    "tau_vect = np.empty((len(chains)//step_autocorr-1,ndim))\n",
    "index = 0\n",
    "for i in range(step_autocorr, len(chains), step_autocorr):\n",
    "    tau_vect[index] = emcee.autocorr.integrated_time(chains[:i], tol = 0)\n",
    "    index += 1\n",
    "n = step_autocorr * np.arange(1, index + 1)\n",
    "plt.plot(n, n / step_autocorr, \"--k\")\n",
    "plt.plot(n, tau_vect)\n",
    "plt.xlim(0, n.max())\n",
    "plt.xlabel(\"number of steps\")\n",
    "plt.ylabel(r\"$\\hat{\\tau}$\");"
   ]
  },
  {
   "cell_type": "code",
   "execution_count": null,
   "metadata": {
    "ExecuteTime": {
     "end_time": "2020-11-20T08:53:36.579871Z",
     "start_time": "2020-11-20T08:53:35.937765Z"
    }
   },
   "outputs": [],
   "source": [
    "fig,ax = plt.subplots()\n",
    "plt.hist(samples_dict_wave2['prev_schools'])"
   ]
  },
  {
   "cell_type": "code",
   "execution_count": null,
   "metadata": {
    "ExecuteTime": {
     "end_time": "2020-11-20T08:58:17.750235Z",
     "start_time": "2020-11-20T08:56:55.942479Z"
    }
   },
   "outputs": [],
   "source": [
    "end_sim = '2021-01-01'\n",
    "\n",
    "fig,ax=plt.subplots(figsize=(10,4))\n",
    "for i in range(100):\n",
    "    # Sampling\n",
    "    idx, model.parameters['beta'] = random.choice(list(enumerate(samples_dict_wave2['beta'])))\n",
    "    model.parameters['l'] = samples_dict_wave2['l'][idx] \n",
    "    model.parameters['tau'] = samples_dict_wave2['tau'][idx]    \n",
    "    model.parameters['prev_schools'] = samples_dict_wave2['prev_schools'][idx]    \n",
    "    model.parameters['prev_work'] = samples_dict_wave2['prev_work'][idx]     \n",
    "    model.parameters['prev_transport'] = samples_dict_wave2['prev_transport'][idx]    \n",
    "    model.parameters['prev_leisure'] = samples_dict_wave2['prev_leisure'][idx]     \n",
    "    model.parameters['prev_others'] = samples_dict_wave2['prev_others'][idx]      \n",
    "\n",
    "    # Simulate\n",
    "    y_model = model.sim(end_sim,start_date=start_calibration,warmup=0)\n",
    "    # Plot\n",
    "    ax.plot(y_model['time'],y_model[\"H_in\"].sum(dim=\"Nc\"),color='blue',alpha=0.05)\n",
    "\n",
    "ax.scatter(df_sciensano[start_calibration:end_calibration].index,df_sciensano['H_in'][start_calibration:end_calibration],color='black',alpha=0.6,linestyle='None',facecolors='none')\n",
    "ax = _apply_tick_locator(ax)\n",
    "ax.set_xlim('2020-09-01',end_sim)\n",
    "fig.savefig(fig_path+'others/FIT_WAVE2_GOOGLE_'+spatial_unit+'_'+str(datetime.date.today())+'.pdf', dpi=400, bbox_inches='tight')"
   ]
  },
  {
   "cell_type": "markdown",
   "metadata": {},
   "source": [
    "## 4 prevention parameters"
   ]
  },
  {
   "cell_type": "code",
   "execution_count": 7,
   "metadata": {},
   "outputs": [],
   "source": [
    "from covid19model.models.time_dependant_parameter_fncs import wave2_policies_4prev, make_contact_matrix_function\n",
    "contact_matrix_6prev, contact_matrix_4prev = make_contact_matrix_function(df_google, Nc_all)"
   ]
  },
  {
   "cell_type": "code",
   "execution_count": 8,
   "metadata": {
    "ExecuteTime": {
     "end_time": "2020-12-08T20:01:39.473353Z",
     "start_time": "2020-12-08T20:01:39.419809Z"
    }
   },
   "outputs": [],
   "source": [
    "def wave2_policies_4prev(t, param, l , tau, \n",
    "                   prev_schools, prev_work, prev_rest, prev_home):\n",
    "    \n",
    "    # Convert tau and l to dates\n",
    "    tau_days = pd.Timedelta(tau, unit='D')\n",
    "    l_days = pd.Timedelta(l, unit='D')\n",
    "\n",
    "    # Define additional dates where intensity or school policy changes\n",
    "    t1 = pd.Timestamp('2020-03-15') # start of lockdown\n",
    "    t2 = pd.Timestamp('2020-05-15') # gradual re-opening of schools (assume 50% of nominal scenario)\n",
    "    t3 = pd.Timestamp('2020-07-01') # start of summer: COVID-urgency very low\n",
    "    t4 = pd.Timestamp('2020-08-01')\n",
    "    t5 = pd.Timestamp('2020-09-01') # september: lockdown relaxation narrative in newspapers reduces sense of urgency\n",
    "    t6 = pd.Timestamp('2020-10-19') # lockdown\n",
    "    t7 = pd.Timestamp('2020-11-16') # schools re-open\n",
    "    t8 = pd.Timestamp('2020-12-18') # schools close\n",
    "    t9 = pd.Timestamp('2021-01-04') # schools re-open\n",
    "\n",
    "    if t5 < t <= t6 + tau_days:\n",
    "        t = pd.Timestamp(t.date())\n",
    "        return contact_matrix_4prev(t, school=1)\n",
    "    elif t6 + tau_days < t <= t6 + tau_days + l_days:\n",
    "        t = pd.Timestamp(t.date())\n",
    "        policy_old = contact_matrix_4prev(t, school=1)\n",
    "        policy_new = contact_matrix_4prev(t, prev_home, prev_schools, prev_work, prev_rest, \n",
    "                                    school=0)\n",
    "        return ramp_fun(policy_old, policy_new, t, tau_days, l, t6)\n",
    "    elif t6 + tau_days + l_days < t <= t7:\n",
    "        t = pd.Timestamp(t.date())\n",
    "        return contact_matrix_4prev(t, prev_home, prev_schools, prev_work, prev_rest, \n",
    "                              school=0)\n",
    "    elif t7 < t <= t8:\n",
    "        t = pd.Timestamp(t.date())\n",
    "        return contact_matrix_4prev(t, prev_home, prev_schools, prev_work, prev_rest, \n",
    "                              school=1)\n",
    "    elif t8 < t <= t9:\n",
    "        t = pd.Timestamp(t.date())\n",
    "        return contact_matrix_4prev(t, prev_home, prev_schools, prev_work, prev_rest, \n",
    "                              school=0)\n",
    "    else:\n",
    "        t = pd.Timestamp(t.date())\n",
    "        return contact_matrix_4prev(t, prev_home, prev_schools, prev_work, prev_rest, \n",
    "                              school=1)\n",
    "\n"
   ]
  },
  {
   "cell_type": "code",
   "execution_count": 8,
   "metadata": {
    "ExecuteTime": {
     "end_time": "2020-11-23T12:48:25.263384Z",
     "start_time": "2020-11-23T12:48:25.078860Z"
    }
   },
   "outputs": [],
   "source": [
    "# Spatial unit: Belgium\n",
    "spatial_unit = 'BE_4_prev_full'"
   ]
  },
  {
   "cell_type": "code",
   "execution_count": 9,
   "metadata": {
    "ExecuteTime": {
     "end_time": "2020-11-23T10:16:16.383637Z",
     "start_time": "2020-11-23T10:16:16.047364Z"
    }
   },
   "outputs": [],
   "source": [
    "# Load the model parameters using `get_COVID19_SEIRD_parameters()`.\n",
    "params = model_parameters.get_COVID19_SEIRD_parameters()\n",
    "\n",
    "params.update({'l' : 5,\n",
    "               'tau' : 5,\n",
    "               'prev_schools': 0.5,\n",
    "               'prev_work': 0.5,\n",
    "               'prev_rest': 0.5,\n",
    "               'prev_home' : 0.5,\n",
    "              })\n",
    "\n",
    "# Initialize the model\n",
    "model = models.COVID19_SEIRD(initial_states, params, time_dependent_parameters={'Nc': wave2_policies_4prev})"
   ]
  },
  {
   "cell_type": "code",
   "execution_count": 10,
   "metadata": {
    "ExecuteTime": {
     "end_time": "2020-11-23T12:48:55.228071Z",
     "start_time": "2020-11-23T12:48:55.185588Z"
    }
   },
   "outputs": [],
   "source": [
    "warmup=0\n",
    "maxiter = 100\n",
    "popsize = 100\n",
    "processes = 6 # voor eraser!!\n",
    "steps_mcmc = 3000#3000\n",
    "discard = 1000#1000\n",
    "\n",
    "# define dataset\n",
    "data=[df_sciensano['H_in'][start_calibration:end_calibration]]\n",
    "states = [[\"H_in\"]]"
   ]
  },
  {
   "cell_type": "code",
   "execution_count": 11,
   "metadata": {
    "ExecuteTime": {
     "end_time": "2020-11-23T10:23:38.851239Z",
     "start_time": "2020-11-23T10:16:17.035602Z"
    }
   },
   "outputs": [
    {
     "name": "stdout",
     "output_type": "stream",
     "text": [
      "------------------------------------\n",
      "CALIBRATING BETA AND COMPLIANCE RAMP\n",
      "------------------------------------\n",
      "\n",
      "Using data from 2020-09-01 until 2020-12-08\n",
      "\n",
      "1) Particle swarm optimization\n",
      "\n",
      "No constraints given.\n"
     ]
    },
    {
     "ename": "NameError",
     "evalue": "name 'contact_matrix_4prev' is not defined",
     "output_type": "error",
     "traceback": [
      "\u001b[0;31m---------------------------------------------------------------------------\u001b[0m",
      "\u001b[0;31mRemoteTraceback\u001b[0m                           Traceback (most recent call last)",
      "\u001b[0;31mRemoteTraceback\u001b[0m: \n\"\"\"\nTraceback (most recent call last):\n  File \"/home/twallema/anaconda3/envs/COVID_MODEL/lib/python3.8/multiprocessing/pool.py\", line 125, in worker\n    result = (True, func(*args, **kwds))\n  File \"/home/twallema/anaconda3/envs/COVID_MODEL/lib/python3.8/multiprocessing/pool.py\", line 48, in mapstar\n    return list(map(*args))\n  File \"/home/twallema/Documents/PhD/Corona/Python/git/COVID19-Model/src/covid19model/optimization/pso.py\", line 7, in _obj_wrapper\n    return func(x, *args, **kwargs)\n  File \"/home/twallema/Documents/PhD/Corona/Python/git/COVID19-Model/src/covid19model/optimization/objective_fcns.py\", line 136, in MLE\n    out = model.sim(T, start_date=start_date, warmup=warmup)\n  File \"/home/twallema/Documents/PhD/Corona/Python/git/COVID19-Model/src/covid19model/models/base.py\", line 435, in sim\n    out = self._sim_single(time, actual_start_date)\n  File \"/home/twallema/Documents/PhD/Corona/Python/git/COVID19-Model/src/covid19model/models/base.py\", line 321, in _sim_single\n    output = solve_ivp(fun, time,\n  File \"/home/twallema/anaconda3/envs/COVID_MODEL/lib/python3.8/site-packages/scipy/integrate/_ivp/ivp.py\", line 542, in solve_ivp\n    solver = method(fun, t0, y0, tf, vectorized=vectorized, **options)\n  File \"/home/twallema/anaconda3/envs/COVID_MODEL/lib/python3.8/site-packages/scipy/integrate/_ivp/rk.py\", line 94, in __init__\n    self.f = self.fun(self.t, self.y)\n  File \"/home/twallema/anaconda3/envs/COVID_MODEL/lib/python3.8/site-packages/scipy/integrate/_ivp/base.py\", line 138, in fun\n    return self.fun_single(t, y)\n  File \"/home/twallema/anaconda3/envs/COVID_MODEL/lib/python3.8/site-packages/scipy/integrate/_ivp/base.py\", line 20, in fun_wrapped\n    return np.asarray(fun(t, y), dtype=dtype)\n  File \"/home/twallema/anaconda3/envs/COVID_MODEL/lib/python3.8/site-packages/scipy/integrate/_ivp/ivp.py\", line 514, in <lambda>\n    fun = lambda t, x, fun=fun: fun(t, x, *args)\n  File \"/home/twallema/Documents/PhD/Corona/Python/git/COVID19-Model/src/covid19model/models/base.py\", line 288, in func\n    params[param] = param_func(date, pars[param], **func_params)\n  File \"/home/twallema/Documents/PhD/Corona/Python/git/COVID19-Model/src/covid19model/models/time_dependant_parameter_fncs.py\", line 397, in wave2_policies_4prev\n    return contact_matrix_4prev(t, prev_home, prev_schools, prev_work, prev_rest,\nNameError: name 'contact_matrix_4prev' is not defined\n\"\"\"",
      "\nThe above exception was the direct cause of the following exception:\n",
      "\u001b[0;31mNameError\u001b[0m                                 Traceback (most recent call last)",
      "\u001b[0;32m<ipython-input-11-3decd935a24c>\u001b[0m in \u001b[0;36m<module>\u001b[0;34m\u001b[0m\n\u001b[1;32m     16\u001b[0m \u001b[0;34m\u001b[0m\u001b[0m\n\u001b[1;32m     17\u001b[0m \u001b[0;31m# run PSO optimisation\u001b[0m\u001b[0;34m\u001b[0m\u001b[0;34m\u001b[0m\u001b[0;34m\u001b[0m\u001b[0m\n\u001b[0;32m---> 18\u001b[0;31m theta = pso.fit_pso(model,data,parNames,states,bounds,maxiter=maxiter,popsize=popsize,\n\u001b[0m\u001b[1;32m     19\u001b[0m                     start_date=start_calibration,warmup=warmup, processes=processes) ## PROCESSES=1 to debug!\n\u001b[1;32m     20\u001b[0m \u001b[0;34m\u001b[0m\u001b[0m\n",
      "\u001b[0;32m~/Documents/PhD/Corona/Python/git/COVID19-Model/src/covid19model/optimization/pso.py\u001b[0m in \u001b[0;36mfit_pso\u001b[0;34m(model, data, parNames, states, bounds, draw_fcn, samples, start_date, warmup, disp, maxiter, popsize, processes, omega, phip, phig)\u001b[0m\n\u001b[1;32m    301\u001b[0m     \u001b[0;31m# Run pso algorithm on MLE objective function\u001b[0m\u001b[0;34m\u001b[0m\u001b[0;34m\u001b[0m\u001b[0;34m\u001b[0m\u001b[0m\n\u001b[1;32m    302\u001b[0m     \u001b[0;31m# -------------------------------------------\u001b[0m\u001b[0;34m\u001b[0m\u001b[0;34m\u001b[0m\u001b[0;34m\u001b[0m\u001b[0m\n\u001b[0;32m--> 303\u001b[0;31m     \u001b[0mp_hat\u001b[0m\u001b[0;34m,\u001b[0m \u001b[0mobj_fun_val\u001b[0m\u001b[0;34m,\u001b[0m \u001b[0mpars_final_swarm\u001b[0m\u001b[0;34m,\u001b[0m \u001b[0mobj_fun_val_final_swarm\u001b[0m \u001b[0;34m=\u001b[0m \u001b[0moptim\u001b[0m\u001b[0;34m(\u001b[0m\u001b[0mobjective_fcns\u001b[0m\u001b[0;34m.\u001b[0m\u001b[0mMLE\u001b[0m\u001b[0;34m,\u001b[0m \u001b[0mbounds\u001b[0m\u001b[0;34m,\u001b[0m \u001b[0margs\u001b[0m\u001b[0;34m=\u001b[0m\u001b[0;34m(\u001b[0m\u001b[0mmodel\u001b[0m\u001b[0;34m,\u001b[0m\u001b[0mdata\u001b[0m\u001b[0;34m,\u001b[0m\u001b[0mstates\u001b[0m\u001b[0;34m,\u001b[0m\u001b[0mparNames\u001b[0m\u001b[0;34m,\u001b[0m\u001b[0mdraw_fcn\u001b[0m\u001b[0;34m,\u001b[0m\u001b[0msamples\u001b[0m\u001b[0;34m,\u001b[0m \u001b[0mstart_date\u001b[0m\u001b[0;34m,\u001b[0m \u001b[0mwarmup\u001b[0m\u001b[0;34m)\u001b[0m\u001b[0;34m,\u001b[0m \u001b[0mswarmsize\u001b[0m\u001b[0;34m=\u001b[0m\u001b[0mpopsize\u001b[0m\u001b[0;34m,\u001b[0m \u001b[0mmaxiter\u001b[0m\u001b[0;34m=\u001b[0m\u001b[0mmaxiter\u001b[0m\u001b[0;34m,\u001b[0m \u001b[0mprocesses\u001b[0m\u001b[0;34m=\u001b[0m\u001b[0mprocesses\u001b[0m\u001b[0;34m,\u001b[0m\u001b[0mminfunc\u001b[0m\u001b[0;34m=\u001b[0m\u001b[0;36m1e-9\u001b[0m\u001b[0;34m,\u001b[0m \u001b[0mminstep\u001b[0m\u001b[0;34m=\u001b[0m\u001b[0;36m1e-9\u001b[0m\u001b[0;34m,\u001b[0m\u001b[0mdebug\u001b[0m\u001b[0;34m=\u001b[0m\u001b[0;32mTrue\u001b[0m\u001b[0;34m,\u001b[0m \u001b[0mparticle_output\u001b[0m\u001b[0;34m=\u001b[0m\u001b[0;32mTrue\u001b[0m\u001b[0;34m,\u001b[0m \u001b[0momega\u001b[0m\u001b[0;34m=\u001b[0m\u001b[0momega\u001b[0m\u001b[0;34m,\u001b[0m \u001b[0mphip\u001b[0m\u001b[0;34m=\u001b[0m\u001b[0mphip\u001b[0m\u001b[0;34m,\u001b[0m \u001b[0mphig\u001b[0m\u001b[0;34m=\u001b[0m\u001b[0mphig\u001b[0m\u001b[0;34m)\u001b[0m\u001b[0;34m\u001b[0m\u001b[0;34m\u001b[0m\u001b[0m\n\u001b[0m\u001b[1;32m    304\u001b[0m     \u001b[0mtheta_hat\u001b[0m \u001b[0;34m=\u001b[0m \u001b[0mp_hat\u001b[0m\u001b[0;34m\u001b[0m\u001b[0;34m\u001b[0m\u001b[0m\n\u001b[1;32m    305\u001b[0m \u001b[0;34m\u001b[0m\u001b[0m\n",
      "\u001b[0;32m~/Documents/PhD/Corona/Python/git/COVID19-Model/src/covid19model/optimization/pso.py\u001b[0m in \u001b[0;36moptim\u001b[0;34m(func, bounds, ieqcons, f_ieqcons, args, kwargs, swarmsize, omega, phip, phig, maxiter, minstep, minfunc, debug, processes, particle_output, transform_pars)\u001b[0m\n\u001b[1;32m    157\u001b[0m     \u001b[0;31m# Calculate objective and constraints for each particle\u001b[0m\u001b[0;34m\u001b[0m\u001b[0;34m\u001b[0m\u001b[0;34m\u001b[0m\u001b[0m\n\u001b[1;32m    158\u001b[0m     \u001b[0;32mif\u001b[0m \u001b[0mprocesses\u001b[0m \u001b[0;34m>\u001b[0m \u001b[0;36m1\u001b[0m\u001b[0;34m:\u001b[0m\u001b[0;34m\u001b[0m\u001b[0;34m\u001b[0m\u001b[0m\n\u001b[0;32m--> 159\u001b[0;31m         \u001b[0mfx\u001b[0m \u001b[0;34m=\u001b[0m \u001b[0mnp\u001b[0m\u001b[0;34m.\u001b[0m\u001b[0marray\u001b[0m\u001b[0;34m(\u001b[0m\u001b[0mmp_pool\u001b[0m\u001b[0;34m.\u001b[0m\u001b[0mmap\u001b[0m\u001b[0;34m(\u001b[0m\u001b[0mobj\u001b[0m\u001b[0;34m,\u001b[0m \u001b[0mx\u001b[0m\u001b[0;34m)\u001b[0m\u001b[0;34m)\u001b[0m\u001b[0;34m\u001b[0m\u001b[0;34m\u001b[0m\u001b[0m\n\u001b[0m\u001b[1;32m    160\u001b[0m         \u001b[0mfs\u001b[0m \u001b[0;34m=\u001b[0m \u001b[0mnp\u001b[0m\u001b[0;34m.\u001b[0m\u001b[0marray\u001b[0m\u001b[0;34m(\u001b[0m\u001b[0mmp_pool\u001b[0m\u001b[0;34m.\u001b[0m\u001b[0mmap\u001b[0m\u001b[0;34m(\u001b[0m\u001b[0mis_feasible\u001b[0m\u001b[0;34m,\u001b[0m \u001b[0mx\u001b[0m\u001b[0;34m)\u001b[0m\u001b[0;34m)\u001b[0m\u001b[0;34m\u001b[0m\u001b[0;34m\u001b[0m\u001b[0m\n\u001b[1;32m    161\u001b[0m     \u001b[0;32melse\u001b[0m\u001b[0;34m:\u001b[0m\u001b[0;34m\u001b[0m\u001b[0;34m\u001b[0m\u001b[0m\n",
      "\u001b[0;32m~/anaconda3/envs/COVID_MODEL/lib/python3.8/multiprocessing/pool.py\u001b[0m in \u001b[0;36mmap\u001b[0;34m(self, func, iterable, chunksize)\u001b[0m\n\u001b[1;32m    362\u001b[0m         \u001b[0;32min\u001b[0m \u001b[0ma\u001b[0m \u001b[0mlist\u001b[0m \u001b[0mthat\u001b[0m \u001b[0;32mis\u001b[0m \u001b[0mreturned\u001b[0m\u001b[0;34m.\u001b[0m\u001b[0;34m\u001b[0m\u001b[0;34m\u001b[0m\u001b[0m\n\u001b[1;32m    363\u001b[0m         '''\n\u001b[0;32m--> 364\u001b[0;31m         \u001b[0;32mreturn\u001b[0m \u001b[0mself\u001b[0m\u001b[0;34m.\u001b[0m\u001b[0m_map_async\u001b[0m\u001b[0;34m(\u001b[0m\u001b[0mfunc\u001b[0m\u001b[0;34m,\u001b[0m \u001b[0miterable\u001b[0m\u001b[0;34m,\u001b[0m \u001b[0mmapstar\u001b[0m\u001b[0;34m,\u001b[0m \u001b[0mchunksize\u001b[0m\u001b[0;34m)\u001b[0m\u001b[0;34m.\u001b[0m\u001b[0mget\u001b[0m\u001b[0;34m(\u001b[0m\u001b[0;34m)\u001b[0m\u001b[0;34m\u001b[0m\u001b[0;34m\u001b[0m\u001b[0m\n\u001b[0m\u001b[1;32m    365\u001b[0m \u001b[0;34m\u001b[0m\u001b[0m\n\u001b[1;32m    366\u001b[0m     \u001b[0;32mdef\u001b[0m \u001b[0mstarmap\u001b[0m\u001b[0;34m(\u001b[0m\u001b[0mself\u001b[0m\u001b[0;34m,\u001b[0m \u001b[0mfunc\u001b[0m\u001b[0;34m,\u001b[0m \u001b[0miterable\u001b[0m\u001b[0;34m,\u001b[0m \u001b[0mchunksize\u001b[0m\u001b[0;34m=\u001b[0m\u001b[0;32mNone\u001b[0m\u001b[0;34m)\u001b[0m\u001b[0;34m:\u001b[0m\u001b[0;34m\u001b[0m\u001b[0;34m\u001b[0m\u001b[0m\n",
      "\u001b[0;32m~/anaconda3/envs/COVID_MODEL/lib/python3.8/multiprocessing/pool.py\u001b[0m in \u001b[0;36mget\u001b[0;34m(self, timeout)\u001b[0m\n\u001b[1;32m    766\u001b[0m             \u001b[0;32mreturn\u001b[0m \u001b[0mself\u001b[0m\u001b[0;34m.\u001b[0m\u001b[0m_value\u001b[0m\u001b[0;34m\u001b[0m\u001b[0;34m\u001b[0m\u001b[0m\n\u001b[1;32m    767\u001b[0m         \u001b[0;32melse\u001b[0m\u001b[0;34m:\u001b[0m\u001b[0;34m\u001b[0m\u001b[0;34m\u001b[0m\u001b[0m\n\u001b[0;32m--> 768\u001b[0;31m             \u001b[0;32mraise\u001b[0m \u001b[0mself\u001b[0m\u001b[0;34m.\u001b[0m\u001b[0m_value\u001b[0m\u001b[0;34m\u001b[0m\u001b[0;34m\u001b[0m\u001b[0m\n\u001b[0m\u001b[1;32m    769\u001b[0m \u001b[0;34m\u001b[0m\u001b[0m\n\u001b[1;32m    770\u001b[0m     \u001b[0;32mdef\u001b[0m \u001b[0m_set\u001b[0m\u001b[0;34m(\u001b[0m\u001b[0mself\u001b[0m\u001b[0;34m,\u001b[0m \u001b[0mi\u001b[0m\u001b[0;34m,\u001b[0m \u001b[0mobj\u001b[0m\u001b[0;34m)\u001b[0m\u001b[0;34m:\u001b[0m\u001b[0;34m\u001b[0m\u001b[0;34m\u001b[0m\u001b[0m\n",
      "\u001b[0;31mNameError\u001b[0m: name 'contact_matrix_4prev' is not defined"
     ]
    }
   ],
   "source": [
    "####################################################\n",
    "####### CALIBRATING BETA AND COMPLIANCE RAMP #######\n",
    "####################################################\n",
    "\n",
    "print('------------------------------------')\n",
    "print('CALIBRATING BETA AND COMPLIANCE RAMP')\n",
    "print('------------------------------------\\n')\n",
    "print('Using data from '+start_calibration+' until '+end_calibration+'\\n')\n",
    "print('1) Particle swarm optimization\\n')\n",
    "\n",
    "# set PSO optimisation settings\n",
    "parNames = ['sigma_data','beta','l','tau',\n",
    "            'prev_schools', 'prev_work', 'prev_rest', 'prev_home']\n",
    "bounds=((1,2000),(0.010,0.060),(0.1,20),(0.1,20),\n",
    "        (0,1),(0,1),(0,1),(0,1))\n",
    "\n",
    "# run PSO optimisation\n",
    "theta = pso.fit_pso(model,data,parNames,states,bounds,maxiter=maxiter,popsize=popsize,\n",
    "                    start_date=start_calibration,warmup=warmup, processes=processes) ## PROCESSES=1 to debug!\n",
    "\n"
   ]
  },
  {
   "cell_type": "code",
   "execution_count": null,
   "metadata": {
    "ExecuteTime": {
     "end_time": "2020-11-23T17:51:30.738776Z",
     "start_time": "2020-11-23T12:49:04.013095Z"
    }
   },
   "outputs": [],
   "source": [
    "# run MCMC sampler\n",
    "print('\\n2) Markov-Chain Monte-Carlo sampling\\n')\n",
    "parNames_mcmc = parNames\n",
    "bounds_mcmc=((1,2000),(0.020,0.060),(0.001,20),(0.001,20),\n",
    "             (0,1),(0,1),(0,1),(0,1))\n",
    "\n",
    "ndim = len(theta)\n",
    "nwalkers = ndim*2\n",
    "perturbations = ([1]+(ndim-1)*[1e-3]) * np.random.randn(nwalkers, ndim)\n",
    "pos = theta + perturbations\n",
    "\n",
    "sampler = emcee.EnsembleSampler(nwalkers, ndim, objective_fcns.log_probability,\n",
    "                    args=(model, bounds_mcmc, data, states, parNames_mcmc, None, start_calibration, warmup))\n",
    "sampler.run_mcmc(pos, steps_mcmc, progress=True)\n",
    "\n",
    "thin = 0\n",
    "try:\n",
    "    autocorr = sampler.get_autocorr_time()\n",
    "    thin = int(0.5 * np.min(autocorr))\n",
    "except:\n",
    "    print('Warning: The chain is shorter than 50 times the integrated autocorrelation time for 4 parameter(s).\\nUse this estimate with caution and run a longer chain!')\n",
    "from covid19model.optimization.run_optimization import checkplots\n",
    "checkplots(sampler, discard, thin, fig_path, spatial_unit, figname='BETA_RAMP_GOOGLE_WAVE2', \n",
    "           labels=['$\\sigma_{data}$','$\\\\beta$','l','$\\\\tau$',\n",
    "                   'prev_schools', 'prev_work', 'prev_rest', 'prev_home'])\n",
    "\n",
    "#############################################\n",
    "####### Output to dictionary ################\n",
    "#############################################\n",
    "\n",
    "flat_samples = sampler.get_chain(discard=discard,thin=thin,flat=True)\n",
    "\n",
    "samples_dict_wave2 = {}\n",
    "for count,name in enumerate(parNames_mcmc):\n",
    "    samples_dict_wave2[name] = flat_samples[:,count].tolist()\n",
    "\n",
    "samples_dict_wave2.update({\n",
    "    'theta_pso' : list(theta_pso),\n",
    "    'warmup' : warmup,\n",
    "    'calibration_data' : states[0][0],\n",
    "    'start_date' : start_calibration,\n",
    "    'end_date' : end_calibration,\n",
    "    'maxiter' : maxiter,\n",
    "    'popsize': popsize,\n",
    "    'steps_mcmc': steps_mcmc,\n",
    "    'discard' : discard,\n",
    "})\n",
    "\n",
    "with open(samples_path+str(spatial_unit)+'_'+str(datetime.date.today())+'_WAVE2_GOOGLE.json', 'w') as fp:\n",
    "    json.dump(samples_dict_wave2, fp)"
   ]
  },
  {
   "cell_type": "code",
   "execution_count": null,
   "metadata": {
    "ExecuteTime": {
     "end_time": "2020-11-24T06:59:17.840420Z",
     "start_time": "2020-11-24T06:59:17.285182Z"
    }
   },
   "outputs": [],
   "source": [
    "fig,ax = plt.subplots()\n",
    "plt.hist(samples_dict_wave2['prev_rest'])"
   ]
  },
  {
   "cell_type": "code",
   "execution_count": null,
   "metadata": {
    "ExecuteTime": {
     "end_time": "2020-11-24T07:00:58.648567Z",
     "start_time": "2020-11-24T06:59:37.643843Z"
    }
   },
   "outputs": [],
   "source": [
    "end_sim = '2021-01-01'\n",
    "\n",
    "fig,ax=plt.subplots(figsize=(10,4))\n",
    "for i in range(100):\n",
    "    # Sampling\n",
    "    idx, model.parameters['beta'] = random.choice(list(enumerate(samples_dict_wave2['beta'])))\n",
    "    model.parameters['l'] = samples_dict_wave2['l'][idx] \n",
    "    model.parameters['tau'] = samples_dict_wave2['tau'][idx]    \n",
    "    model.parameters['prev_schools'] = samples_dict_wave2['prev_schools'][idx]    \n",
    "    model.parameters['prev_work'] = samples_dict_wave2['prev_work'][idx]       \n",
    "    model.parameters['prev_rest'] = samples_dict_wave2['prev_rest'][idx]      \n",
    "\n",
    "    # Simulate\n",
    "    y_model = model.sim(end_sim,start_date=start_calibration,warmup=0)\n",
    "    # Plot\n",
    "    ax.plot(y_model['time'],y_model[\"H_in\"].sum(dim=\"Nc\"),color='blue',alpha=0.05)\n",
    "\n",
    "ax.scatter(df_sciensano[start_calibration:end_calibration].index,df_sciensano['H_in'][start_calibration:end_calibration],color='black',alpha=0.6,linestyle='None',facecolors='none')\n",
    "ax = _apply_tick_locator(ax)\n",
    "ax.set_xlim('2020-09-01',end_sim)\n",
    "fig.savefig(fig_path+'others/FIT_WAVE2_GOOGLE_'+spatial_unit+'_'+str(datetime.date.today())+'.pdf', dpi=400, bbox_inches='tight')"
   ]
  },
  {
   "cell_type": "code",
   "execution_count": null,
   "metadata": {},
   "outputs": [],
   "source": []
  }
 ],
 "metadata": {
  "kernelspec": {
   "display_name": "Python 3",
   "language": "python",
   "name": "python3"
  },
  "language_info": {
   "codemirror_mode": {
    "name": "ipython",
    "version": 3
   },
   "file_extension": ".py",
   "mimetype": "text/x-python",
   "name": "python",
   "nbconvert_exporter": "python",
   "pygments_lexer": "ipython3",
   "version": "3.8.2"
  },
  "toc": {
   "base_numbering": 1,
   "nav_menu": {},
   "number_sections": true,
   "sideBar": true,
   "skip_h1_title": false,
   "title_cell": "Table of Contents",
   "title_sidebar": "Contents",
   "toc_cell": false,
   "toc_position": {
    "height": "calc(100% - 180px)",
    "left": "10px",
    "top": "150px",
    "width": "170px"
   },
   "toc_section_display": true,
   "toc_window_display": true
  }
 },
 "nbformat": 4,
 "nbformat_minor": 4
}
