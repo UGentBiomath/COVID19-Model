{
 "cells": [
  {
   "cell_type": "markdown",
   "metadata": {},
   "source": [
    "# Covid-19: From model prediction to model predictive control\n",
    "\n",
    "## Calibration of the age-stratified national model\n",
    "\n",
    "*Original code by Ryan S. McGee. Modified by T.W. Alleman in consultation with the BIOMATH research unit headed by prof. Ingmar Nopens.*\n",
    "\n",
    "Copyright (c) 2020 by T.W. Alleman, BIOMATH, Ghent University. All Rights Reserved.\n",
    "\n",
    "This notebook accompanies our preprint: \"*A deterministic, age-stratified, extended SEIRD model for assessing the effect of non-pharmaceutical interventions on SARS-CoV-2 spread in Belgium*\"(https://doi.org/10.1101/2020.07.17.20156034)."
   ]
  },
  {
   "cell_type": "markdown",
   "metadata": {},
   "source": [
    "### Load required packages"
   ]
  },
  {
   "cell_type": "code",
   "execution_count": 1,
   "metadata": {
    "ExecuteTime": {
     "end_time": "2020-06-03T08:12:49.791967Z",
     "start_time": "2020-06-03T08:12:49.674216Z"
    }
   },
   "outputs": [],
   "source": [
    "import random\n",
    "import os\n",
    "import numpy as np\n",
    "import json\n",
    "import corner\n",
    "import random\n",
    "\n",
    "import pandas as pd\n",
    "import datetime\n",
    "import scipy\n",
    "import matplotlib.dates as mdates\n",
    "import matplotlib\n",
    "import math\n",
    "import xarray as xr\n",
    "import emcee\n",
    "import matplotlib.pyplot as plt\n",
    "import datetime\n",
    "\n",
    "from covid19model.visualization.output import _apply_tick_locator\n",
    "from covid19model.optimization import objective_fcns, pso\n",
    "from covid19model.models import models\n",
    "from covid19model.models.utils import draw_sample_COVID19_SEIRD\n",
    "from covid19model.data import google\n",
    "from covid19model.data import sciensano\n",
    "from covid19model.data import model_parameters\n",
    "from covid19model.visualization.output import population_status, infected\n",
    "from covid19model.visualization.optimization import plot_fit, traceplot\n",
    "\n",
    "# OPTIONAL: Load the \"autoreload\" extension so that package code can change\n",
    "%load_ext autoreload\n",
    "# OPTIONAL: always reload modules so that as you change code in src, it gets loaded\n",
    "%autoreload 2"
   ]
  },
  {
   "cell_type": "markdown",
   "metadata": {},
   "source": [
    "## Load data and initialize model\n",
    "\n",
    "### Load interaction matrices"
   ]
  },
  {
   "cell_type": "code",
   "execution_count": 2,
   "metadata": {},
   "outputs": [],
   "source": [
    "initN, Nc_home, Nc_work, Nc_schools, Nc_transport, Nc_leisure, Nc_others, Nc_total = model_parameters.get_interaction_matrices(dataset='willem_2012')\n",
    "levels = initN.size"
   ]
  },
  {
   "cell_type": "markdown",
   "metadata": {},
   "source": [
    "### Scrape high-level Sciensano data"
   ]
  },
  {
   "cell_type": "code",
   "execution_count": 3,
   "metadata": {
    "ExecuteTime": {
     "end_time": "2020-06-03T08:36:23.126977Z",
     "start_time": "2020-06-03T08:36:03.724446Z"
    }
   },
   "outputs": [
    {
     "data": {
      "text/html": [
       "<div>\n",
       "<style scoped>\n",
       "    .dataframe tbody tr th:only-of-type {\n",
       "        vertical-align: middle;\n",
       "    }\n",
       "\n",
       "    .dataframe tbody tr th {\n",
       "        vertical-align: top;\n",
       "    }\n",
       "\n",
       "    .dataframe thead th {\n",
       "        text-align: right;\n",
       "    }\n",
       "</style>\n",
       "<table border=\"1\" class=\"dataframe\">\n",
       "  <thead>\n",
       "    <tr style=\"text-align: right;\">\n",
       "      <th></th>\n",
       "      <th>H_tot</th>\n",
       "      <th>ICU_tot</th>\n",
       "      <th>H_in</th>\n",
       "      <th>H_out</th>\n",
       "      <th>H_tot_cumsum</th>\n",
       "      <th>D_tot</th>\n",
       "      <th>D_25_44</th>\n",
       "      <th>D_45_64</th>\n",
       "      <th>D_65_74</th>\n",
       "      <th>D_75_84</th>\n",
       "      <th>D_85+</th>\n",
       "    </tr>\n",
       "    <tr>\n",
       "      <th>DATE</th>\n",
       "      <th></th>\n",
       "      <th></th>\n",
       "      <th></th>\n",
       "      <th></th>\n",
       "      <th></th>\n",
       "      <th></th>\n",
       "      <th></th>\n",
       "      <th></th>\n",
       "      <th></th>\n",
       "      <th></th>\n",
       "      <th></th>\n",
       "    </tr>\n",
       "  </thead>\n",
       "  <tbody>\n",
       "    <tr>\n",
       "      <th>2020-11-08</th>\n",
       "      <td>6955</td>\n",
       "      <td>1470</td>\n",
       "      <td>403</td>\n",
       "      <td>295</td>\n",
       "      <td>5669</td>\n",
       "      <td>204</td>\n",
       "      <td>1.0</td>\n",
       "      <td>11.0</td>\n",
       "      <td>29</td>\n",
       "      <td>55</td>\n",
       "      <td>107</td>\n",
       "    </tr>\n",
       "    <tr>\n",
       "      <th>2020-11-09</th>\n",
       "      <td>7221</td>\n",
       "      <td>1474</td>\n",
       "      <td>434</td>\n",
       "      <td>145</td>\n",
       "      <td>5958</td>\n",
       "      <td>185</td>\n",
       "      <td>0.0</td>\n",
       "      <td>13.0</td>\n",
       "      <td>25</td>\n",
       "      <td>58</td>\n",
       "      <td>89</td>\n",
       "    </tr>\n",
       "    <tr>\n",
       "      <th>2020-11-10</th>\n",
       "      <td>7058</td>\n",
       "      <td>1470</td>\n",
       "      <td>609</td>\n",
       "      <td>708</td>\n",
       "      <td>5859</td>\n",
       "      <td>163</td>\n",
       "      <td>1.0</td>\n",
       "      <td>15.0</td>\n",
       "      <td>21</td>\n",
       "      <td>47</td>\n",
       "      <td>78</td>\n",
       "    </tr>\n",
       "    <tr>\n",
       "      <th>2020-11-11</th>\n",
       "      <td>6879</td>\n",
       "      <td>1463</td>\n",
       "      <td>544</td>\n",
       "      <td>626</td>\n",
       "      <td>5777</td>\n",
       "      <td>121</td>\n",
       "      <td>1.0</td>\n",
       "      <td>10.0</td>\n",
       "      <td>15</td>\n",
       "      <td>46</td>\n",
       "      <td>49</td>\n",
       "    </tr>\n",
       "    <tr>\n",
       "      <th>2020-11-12</th>\n",
       "      <td>7010</td>\n",
       "      <td>1452</td>\n",
       "      <td>399</td>\n",
       "      <td>242</td>\n",
       "      <td>5934</td>\n",
       "      <td>19</td>\n",
       "      <td>0.0</td>\n",
       "      <td>2.0</td>\n",
       "      <td>3</td>\n",
       "      <td>5</td>\n",
       "      <td>9</td>\n",
       "    </tr>\n",
       "  </tbody>\n",
       "</table>\n",
       "</div>"
      ],
      "text/plain": [
       "            H_tot  ICU_tot  H_in  H_out  H_tot_cumsum  D_tot  D_25_44  \\\n",
       "DATE                                                                    \n",
       "2020-11-08   6955     1470   403    295          5669    204      1.0   \n",
       "2020-11-09   7221     1474   434    145          5958    185      0.0   \n",
       "2020-11-10   7058     1470   609    708          5859    163      1.0   \n",
       "2020-11-11   6879     1463   544    626          5777    121      1.0   \n",
       "2020-11-12   7010     1452   399    242          5934     19      0.0   \n",
       "\n",
       "            D_45_64  D_65_74  D_75_84  D_85+  \n",
       "DATE                                          \n",
       "2020-11-08     11.0       29       55    107  \n",
       "2020-11-09     13.0       25       58     89  \n",
       "2020-11-10     15.0       21       47     78  \n",
       "2020-11-11     10.0       15       46     49  \n",
       "2020-11-12      2.0        3        5      9  "
      ]
     },
     "execution_count": 3,
     "metadata": {},
     "output_type": "execute_result"
    }
   ],
   "source": [
    "df_sciensano = sciensano.get_sciensano_COVID19_data(update=False)\n",
    "df_sciensano.tail()"
   ]
  },
  {
   "cell_type": "markdown",
   "metadata": {},
   "source": [
    "### Initialize the model without time-dependent parameters"
   ]
  },
  {
   "cell_type": "code",
   "execution_count": 4,
   "metadata": {},
   "outputs": [],
   "source": [
    "from covid19model.models.time_dependant_parameter_fncs import lockdown_func"
   ]
  },
  {
   "cell_type": "code",
   "execution_count": 5,
   "metadata": {},
   "outputs": [],
   "source": [
    "# Load the parameters using `get_COVID19_SEIRD_parameters()`.\n",
    "params = model_parameters.get_COVID19_SEIRD_parameters()\n",
    "params.update({'policy0': Nc_total,\n",
    "              'policy1': 1.0*Nc_home + (1-0.60)*Nc_work + (1-0.70)*Nc_transport + (1-0.30)*Nc_others + (1-0.80)*Nc_leisure,\n",
    "               'l': 1,\n",
    "              'tau': 5,\n",
    "              'prevention': 0.5,\n",
    "              'start_date': pd.to_datetime('2020-03-15')})\n",
    "# Define the initial condition: one exposed inidividual in every age category\n",
    "initial_states = {'S': initN, 'E': np.ones(levels)}\n",
    "model = models.COVID19_SEIRD(initial_states, params, time_dependent_parameters={'Nc': lockdown_func})"
   ]
  },
  {
   "cell_type": "markdown",
   "metadata": {},
   "source": [
    "To calibrate the stochastic model use,\n",
    "\n",
    "```\n",
    "model = models.COVID19_SEIRD_sto(initial_states, params, time_dependent_parameters={'Nc': lockdown_func},discrete=True)\n",
    "```"
   ]
  },
  {
   "cell_type": "markdown",
   "metadata": {},
   "source": [
    "## Perform calibration"
   ]
  },
  {
   "cell_type": "code",
   "execution_count": 11,
   "metadata": {},
   "outputs": [],
   "source": [
    "# Date of first data collection\n",
    "start_date = '2020-03-15'\n",
    "# Last datapoint used to calibrate basic reproduction number\n",
    "end_beta = '2020-03-25'\n",
    "# Last datapoint used to calibrate the compliance ramp\n",
    "end_ramp = '2020-05-01'\n",
    "# Path where figures should be stored\n",
    "fig_path = '../results/calibrations/COVID19_SEIRD/national/'\n",
    "# Path where MCMC samples should be saved\n",
    "samples_path = '../data/interim/model_parameters/COVID19_SEIRD/calibrations/national/'\n",
    "# Spatial unit: Belgium\n",
    "spatial_unit = 'BE'"
   ]
  },
  {
   "cell_type": "markdown",
   "metadata": {},
   "source": [
    "To calibrate the stochastic model use,\n",
    "\n",
    "```\n",
    "fig_path = '../results/calibrations/COVID19_SEIRD_sto/national/'\n",
    "samples_path = '../data/interim/model_parameters/COVID19_SEIRD_sto/calibrations/national/'\n",
    "```"
   ]
  },
  {
   "cell_type": "code",
   "execution_count": 9,
   "metadata": {},
   "outputs": [
    {
     "name": "stdout",
     "output_type": "stream",
     "text": [
      "---------------------------\n",
      "CALIBRATING BETA AND WARMUP\n",
      "---------------------------\n",
      "\n",
      "1) Particle swarm optimization\n",
      "\n",
      "No constraints given.\n",
      "Best after iteration 1: [4.92853579e+01 6.51692657e+01 3.13156979e-02] 51.9946522559561\n",
      "Best after iteration 2: [4.92853579e+01 6.51692657e+01 3.13156979e-02] 51.9946522559561\n",
      "New best for swarm at iteration 3: [6.96327507e+01 7.00000000e+01 2.94819381e-02] 51.157323550099484\n",
      "Best after iteration 3: [6.96327507e+01 7.00000000e+01 2.94819381e-02] 51.157323550099484\n",
      "New best for swarm at iteration 4: [6.14551051e+01 7.00000000e+01 2.92687650e-02] 50.96587280750394\n",
      "Best after iteration 4: [6.14551051e+01 7.00000000e+01 2.92687650e-02] 50.96587280750394\n",
      "Best after iteration 5: [6.14551051e+01 7.00000000e+01 2.92687650e-02] 50.96587280750394\n",
      "New best for swarm at iteration 6: [6.51198084e+01 6.67285358e+01 3.05211234e-02] 50.93577648975691\n",
      "Best after iteration 6: [6.51198084e+01 6.67285358e+01 3.05211234e-02] 50.93577648975691\n",
      "Best after iteration 7: [6.51198084e+01 6.67285358e+01 3.05211234e-02] 50.93577648975691\n",
      "New best for swarm at iteration 8: [5.63797265e+01 7.00000000e+01 2.94175388e-02] 50.93227542334543\n",
      "Best after iteration 8: [5.63797265e+01 7.00000000e+01 2.94175388e-02] 50.93227542334543\n",
      "New best for swarm at iteration 9: [6.40290912e+01 6.73217959e+01 3.03722790e-02] 50.490702800343264\n",
      "Best after iteration 9: [6.40290912e+01 6.73217959e+01 3.03722790e-02] 50.490702800343264\n"
     ]
    },
    {
     "name": "stderr",
     "output_type": "stream",
     "text": [
      "Process ForkPoolWorker-6:\n",
      "Process ForkPoolWorker-1:\n",
      "Process ForkPoolWorker-2:\n",
      "Process ForkPoolWorker-10:\n",
      "Process ForkPoolWorker-11:\n",
      "Process ForkPoolWorker-8:\n",
      "Process ForkPoolWorker-7:\n",
      "Process ForkPoolWorker-9:\n",
      "Process ForkPoolWorker-3:\n",
      "Process ForkPoolWorker-4:\n",
      "Process ForkPoolWorker-5:\n",
      "Traceback (most recent call last):\n",
      "Traceback (most recent call last):\n",
      "Traceback (most recent call last):\n",
      "Traceback (most recent call last):\n",
      "Traceback (most recent call last):\n",
      "Traceback (most recent call last):\n",
      "Traceback (most recent call last):\n"
     ]
    }
   ],
   "source": [
    "from covid19model.optimization.run_optimization import full_calibration_wave1\n",
    "samples_dict = full_calibration_wave1(model, df_sciensano['H_in'], spatial_unit, start_date, end_beta, end_ramp, \n",
    "                                fig_path=fig_path, samples_path=samples_path,\n",
    "                                initN=initN, Nc_total=Nc_total,\n",
    "                                maxiter=50, popsize=50, steps_mcmc=500, discard=200)"
   ]
  },
  {
   "cell_type": "markdown",
   "metadata": {},
   "source": [
    "## Visualize fit\n",
    "\n",
    "### $\\beta$"
   ]
  },
  {
   "cell_type": "code",
   "execution_count": 8,
   "metadata": {},
   "outputs": [],
   "source": [
    "# Load samples dictionary of the first wave\n",
    "with open('../data/interim/model_parameters/COVID19_SEIRD/calibrations/national/classical/BE_2020-11-05.json', 'r') as fp:\n",
    "    samples_dict = json.load(fp)"
   ]
  },
  {
   "cell_type": "code",
   "execution_count": 13,
   "metadata": {},
   "outputs": [
    {
     "name": "stderr",
     "output_type": "stream",
     "text": [
      "<ipython-input-13-8dbf01a25c6c>:14: MatplotlibDeprecationWarning: savefig() got unexpected keyword argument \"papertype\" which is no longer supported as of 3.3 and will become an error two minor releases later\n",
      "  plt.savefig(fig_path+'others/BETA.pdf', dpi=400, bbox_inches='tight',orientation='portrait', papertype='a4')\n"
     ]
    },
    {
     "data": {
      "image/png": "[encoded data removed]",
      "text/plain": [
       "<Figure size 720x288 with 1 Axes>"
      ]
     },
     "metadata": {
      "needs_background": "light"
     },
     "output_type": "display_data"
    }
   ],
   "source": [
    "end_sim = '2020-04-01'\n",
    "\n",
    "fig,ax=plt.subplots(figsize=(10,4))\n",
    "for i in range(10):\n",
    "    model.parameters = draw_sample_COVID19_SEIRD(model.parameters,samples_dict)\n",
    "    y_model = model.sim(end_sim,start_date=start_date,warmup=samples_dict['warmup'])\n",
    "    ax.plot(y_model['time'],y_model[\"H_in\"].sum(dim=\"Nc\"),color='blue',alpha=0.01)\n",
    "\n",
    "ax.scatter(df_sciensano[:end_beta].index,df_sciensano['H_in'][:end_beta],color='black',alpha=0.6,linestyle='None',facecolors='none')\n",
    "ax.scatter(df_sciensano[end_beta:end_sim].index,df_sciensano['H_in'][end_beta:end_sim],color='red',alpha=0.6,linestyle='None',facecolors='none')\n",
    "ax = _apply_tick_locator(ax)\n",
    "ax.set_xlim('2020-03-01',end_sim)\n",
    "\n",
    "plt.savefig(fig_path+'others/BETA.pdf', dpi=400, bbox_inches='tight',orientation='portrait', papertype='a4')"
   ]
  },
  {
   "cell_type": "markdown",
   "metadata": {},
   "source": [
    "### $R_0$"
   ]
  },
  {
   "cell_type": "code",
   "execution_count": 14,
   "metadata": {},
   "outputs": [
    {
     "name": "stderr",
     "output_type": "stream",
     "text": [
      "<ipython-input-14-7c3c253d16fa>:3: MatplotlibDeprecationWarning: savefig() got unexpected keyword argument \"papertype\" which is no longer supported as of 3.3 and will become an error two minor releases later\n",
      "  plt.savefig(fig_path+'others/R0.pdf', dpi=400, bbox_inches='tight',orientation='portrait', papertype='a4')\n"
     ]
    },
    {
     "data": {
      "image/png": "[encoded data removed]",
      "text/plain": [
       "<Figure size 720x288 with 1 Axes>"
      ]
     },
     "metadata": {
      "needs_background": "light"
     },
     "output_type": "display_data"
    }
   ],
   "source": [
    "fig,ax=plt.subplots(figsize=(10,4))\n",
    "ax.hist(samples_dict['R0'],bins=30)\n",
    "plt.savefig(fig_path+'others/R0.pdf', dpi=400, bbox_inches='tight',orientation='portrait', papertype='a4')"
   ]
  },
  {
   "cell_type": "markdown",
   "metadata": {},
   "source": [
    "### $l$ and $\\tau$"
   ]
  },
  {
   "cell_type": "code",
   "execution_count": 15,
   "metadata": {},
   "outputs": [
    {
     "name": "stderr",
     "output_type": "stream",
     "text": [
      "<ipython-input-15-b4692056853d>:14: MatplotlibDeprecationWarning: savefig() got unexpected keyword argument \"papertype\" which is no longer supported as of 3.3 and will become an error two minor releases later\n",
      "  plt.savefig(fig_path+'others/RAMP.pdf', dpi=400, bbox_inches='tight',orientation='portrait', papertype='a4')\n"
     ]
    },
    {
     "data": {
      "image/png": "[encoded data removed]",
      "text/plain": [
       "<Figure size 720x288 with 1 Axes>"
      ]
     },
     "metadata": {
      "needs_background": "light"
     },
     "output_type": "display_data"
    }
   ],
   "source": [
    "end_sim = '2020-06-01'\n",
    "\n",
    "fig,ax=plt.subplots(figsize=(10,4))\n",
    "for i in range(10):\n",
    "    model.parameters = draw_sample_COVID19_SEIRD(model.parameters,samples_dict)\n",
    "    y_model = model.sim(end_sim,start_date=start_date,warmup=samples_dict['warmup'])\n",
    "    ax.plot(y_model['time'],y_model[\"H_in\"].sum(dim=\"Nc\"),color='blue',alpha=0.01)\n",
    "\n",
    "ax.scatter(df_sciensano[:end_ramp].index,df_sciensano['H_in'][:end_ramp],color='black',alpha=0.6,linestyle='None',facecolors='none')\n",
    "ax.scatter(df_sciensano[end_ramp:end_sim].index,df_sciensano['H_in'][end_ramp:end_sim],color='red',alpha=0.6,linestyle='None',facecolors='none')\n",
    "ax = _apply_tick_locator(ax)\n",
    "ax.set_xlim('2020-03-01',end_sim)\n",
    "\n",
    "plt.savefig(fig_path+'others/RAMP.pdf', dpi=400, bbox_inches='tight',orientation='portrait', papertype='a4')"
   ]
  },
  {
   "cell_type": "markdown",
   "metadata": {},
   "source": [
    "## Other visualisations used in the preprint"
   ]
  },
  {
   "cell_type": "markdown",
   "metadata": {},
   "source": [
    "### Load the posterior samples"
   ]
  },
  {
   "cell_type": "code",
   "execution_count": null,
   "metadata": {},
   "outputs": [],
   "source": [
    "# Load previous samples\n",
    "with open('../data/interim/model_parameters/COVID19_SEIRD/calibrations/national/BE_2020-11-05.json', 'r') as fp:\n",
    "    samples_dict = json.load(fp)"
   ]
  },
  {
   "cell_type": "markdown",
   "metadata": {},
   "source": [
    "### Seroprelevance"
   ]
  },
  {
   "cell_type": "code",
   "execution_count": null,
   "metadata": {},
   "outputs": [],
   "source": [
    "end_sim = '2020-06-01'\n",
    "\n",
    "fig,ax=plt.subplots(figsize=(10,4))\n",
    "for i in range(100):\n",
    "    model.parameters = draw_sample_COVID19_SEIRD(model.parameters,samples_dict,beta_only=False)\n",
    "    y_model = model.sim(end_sim,start_date=start_date,excess_time=samples_dict['warmup'])\n",
    "    ax.plot((1-y_model[\"S\"].sel(time=end_sim)/y_model[\"S\"].isel(time=0))*100,alpha=0.03,color='blue',linewidth=2)\n",
    "\n",
    "ax.set_xlabel('age')\n",
    "ax.set_ylabel(\"seroprelevance (%)\" )\n",
    "ax.set_ylim()\n",
    "plt.xticks(np.arange(9), ('[0-10[', '[10-20[', '[20-30[', '[30-40[', '[40-50[', '[50-60[', '[60-70[', '[70-80[', '[80-$\\infty$['))\n",
    "\n",
    "plt.savefig(fig_path+'others/SEROPRELEVANCE.pdf', dpi=400, bbox_inches='tight',orientation='portrait', papertype='a4')"
   ]
  },
  {
   "cell_type": "markdown",
   "metadata": {},
   "source": [
    "### Cumulative hospitalisations vs. $R_0$"
   ]
  },
  {
   "cell_type": "code",
   "execution_count": 20,
   "metadata": {},
   "outputs": [
    {
     "name": "stderr",
     "output_type": "stream",
     "text": [
      "<ipython-input-20-a9011cdaabc7>:35: MatplotlibDeprecationWarning: savefig() got unexpected keyword argument \"papertype\" which is no longer supported as of 3.3 and will become an error two minor releases later\n",
      "  plt.savefig(fig_path+'others/HOSP_R0.pdf', dpi=400, bbox_inches='tight',orientation='portrait', papertype='a4')\n"
     ]
    },
    {
     "data": {
      "image/png": "[encoded data removed]",
      "text/plain": [
       "<Figure size 1008x288 with 2 Axes>"
      ]
     },
     "metadata": {
      "needs_background": "light"
     },
     "output_type": "display_data"
    }
   ],
   "source": [
    "end_sim = '2020-05-04'\n",
    "n=100\n",
    "\n",
    "csum_save=np.zeros([n,9])\n",
    "for i in range(n):\n",
    "    model.parameters = draw_sample_COVID19_SEIRD(model.parameters,samples_dict)\n",
    "    y_model = model.sim(end_sim,start_date=start_date,warmup=samples_dict['warmup'])\n",
    "    csum_iplus = y_model['H_in'].cumsum(dim=\"time\")[:,-1].values\n",
    "    csum_save[i,:]=np.reshape((csum_iplus/sum(csum_iplus)),(1,(csum_iplus/sum(csum_iplus)).size))*100\n",
    "    \n",
    "csum_hosp_mean = csum_save.mean(axis=0)\n",
    "csum_hosp_p10 = np.percentile(csum_save,10,axis=0)\n",
    "csum_hosp_p90 = np.percentile(csum_save,90,axis=0)\n",
    "\n",
    "R0_age = []\n",
    "for key in samples_dict['R0_stratified_dict']:\n",
    "    R0_age.append(np.mean(samples_dict['R0_stratified_dict'][key]))\n",
    "\n",
    "\n",
    "fig,ax1=plt.subplots()\n",
    "\n",
    "ax1.bar(np.arange(9),R0_age,1,color='blue')\n",
    "ax1.set_xlabel('age')\n",
    "ax1.set_ylabel('$R_0$ (-)')\n",
    "ax1.grid(False)\n",
    "\n",
    "ax2 = ax1.twinx()  # instantiate a second axes that shares the same x-axis\n",
    "ax2.bar(np.arange(9),csum_hosp_mean,1,alpha=0.6,hatch=\"\\\\\")\n",
    "ax2.set_xlabel('age')\n",
    "ax2.set_ylabel('Fraction of hospitalizations (%)')\n",
    "ax2.grid(False)\n",
    "plt.xticks(np.arange(9), ('[0-10[', '[10-20[', '[20-30[', '[30-40[', '[40-50[', '[50-60[', '[60-70[', '[70-80[', '[80-$\\infty$['))\n",
    "\n",
    "fig.set_size_inches(14, 4)\n",
    "plt.savefig(fig_path+'others/HOSP_R0.pdf', dpi=400, bbox_inches='tight',orientation='portrait', papertype='a4')"
   ]
  },
  {
   "cell_type": "markdown",
   "metadata": {},
   "source": [
    "### Lockdown release"
   ]
  },
  {
   "cell_type": "code",
   "execution_count": null,
   "metadata": {},
   "outputs": [],
   "source": [
    "from covid19model.models.utils import policies_until_september"
   ]
  },
  {
   "cell_type": "code",
   "execution_count": null,
   "metadata": {},
   "outputs": [],
   "source": [
    "# Load the parameters using `get_COVID19_SEIRD_parameters()`.\n",
    "params = model_parameters.get_COVID19_SEIRD_parameters()\n",
    "params.update({'policy0': Nc_total,\n",
    "              'policy1': 1.0*Nc_home + (1-0.60)*Nc_work + (1-0.70)*Nc_transport + (1-0.30)*Nc_others + (1-0.80)*Nc_leisure,\n",
    "              'policy2': 1.0*Nc_home + (1-0.50)*Nc_work + (1-0.60)*Nc_transport + (1-0.30)*Nc_others + (1-0.70)*Nc_leisure,\n",
    "              'policy3': 1.0*Nc_home + (1-0.40)*Nc_work + (1-0.55)*Nc_transport + (1-0.25)*Nc_others + (1-0.65)*Nc_leisure,\n",
    "              'policy4': 1.0*Nc_home + (1-0.30)*Nc_work + (1-0.50)*Nc_transport + (1-0.20)*Nc_others + (1-0.60)*Nc_leisure,\n",
    "              'policy5': 1.0*Nc_home + (1-0.30)*Nc_work + (1-0.45)*Nc_transport + (1-0.15)*Nc_others + (1-0.85)*Nc_schools + (1-0.50)*Nc_leisure,\n",
    "              'policy6': 1.0*Nc_home + (1-0.25)*Nc_work + (1-0.35)*Nc_transport + (1-0.10)*Nc_others + (1-0.35)*Nc_schools + (1-0.30)*Nc_leisure,\n",
    "              'policy7': 1.0*Nc_home + (1-0.20)*Nc_work + (1-0.15)*Nc_transport + (1-0.00)*Nc_others + (1-0.00)*Nc_leisure,\n",
    "               'policy8': 1.0*Nc_home + (1-0.20)*Nc_work + (1-0.15)*Nc_transport + (1-0.00)*Nc_others + (1-0.00)*Nc_leisure,\n",
    "               'policy9': 1.0*Nc_home + (1-0.20)*Nc_work + (1-0.15)*Nc_transport + (1-0.00)*Nc_others + (1-0.00)*Nc_leisure,\n",
    "               'l': np.mean(samples_dict['l']),\n",
    "              'tau': np.mean(samples_dict['tau']),\n",
    "              'prevention': np.mean(samples_dict['prevention']),\n",
    "              'start_date': pd.to_datetime('2020-03-15')})\n",
    "# Define the initial condition: one exposed inidividual in every age category\n",
    "initial_states = {'S': initN, 'E': np.ones(levels)}\n",
    "model = models.COVID19_SEIRD(initial_states, params, time_dependent_parameters={'Nc': policies_until_september})"
   ]
  },
  {
   "cell_type": "code",
   "execution_count": null,
   "metadata": {},
   "outputs": [],
   "source": [
    "end_sim = '2020-10-01'\n",
    "n=100\n",
    "percentile = 0.99\n",
    "\n",
    "y_model = model.sim(end_sim,start_date=start_date,excess_time=samples_dict['warmup'],N=n,draw_fcn=draw_sample_COVID19_SEIRD,samples=samples_dict)\n",
    "\n",
    "fig,ax = plt.subplots(figsize=(10,4))\n",
    "ax.fill_between(pd.to_datetime(y_model['time'].values),y_model[\"H_tot\"].quantile(1-percentile,dim=\"draws\").sum(dim=\"Nc\"), y_model[\"H_tot\"].quantile(percentile,dim=\"draws\").sum(dim=\"Nc\"),alpha=0.30)\n",
    "ax.plot(y_model['time'],y_model[\"H_tot\"].mean(dim=\"draws\").sum(dim=\"Nc\"),'--')\n",
    "ax.scatter(df_sciensano[:end_sim].index,df_sciensano['H_tot'][:end_sim],color='black',alpha=0.4,linestyle='None',facecolors='none')\n",
    "ax = _apply_tick_locator(ax)\n",
    "plt.savefig(fig_path+'others/lockdown_release.pdf', dpi=400, bbox_inches='tight',orientation='portrait', papertype='a4')"
   ]
  },
  {
   "cell_type": "markdown",
   "metadata": {},
   "source": [
    "### Continuation of lockdown"
   ]
  },
  {
   "cell_type": "code",
   "execution_count": null,
   "metadata": {},
   "outputs": [],
   "source": [
    "# Load the parameters using `get_COVID19_SEIRD_parameters()`.\n",
    "params = model_parameters.get_COVID19_SEIRD_parameters()\n",
    "\n",
    "lockdown_policy = 1.0*Nc_home + (1-0.60)*Nc_work + (1-0.70)*Nc_transport + (1-0.30)*Nc_others + (1-0.80)*Nc_leisure\n",
    "params.update({'policy0': Nc_total,\n",
    "              'policy1': lockdown_policy,\n",
    "              'policy2': lockdown_policy,\n",
    "              'policy3': lockdown_policy,\n",
    "              'policy4': lockdown_policy,\n",
    "              'policy5': lockdown_policy,\n",
    "              'policy6': lockdown_policy,\n",
    "              'policy7': lockdown_policy,\n",
    "              'policy8': lockdown_policy,\n",
    "              'policy9': lockdown_policy,\n",
    "              'l': np.mean(samples_dict['l']),\n",
    "              'tau': np.mean(samples_dict['tau']),\n",
    "              'prevention': np.mean(samples_dict['prevention']),\n",
    "              'start_date': pd.to_datetime('2020-03-15')})\n",
    "# Define the initial condition: one exposed inidividual in every age category\n",
    "initial_states = {'S': initN, 'E': np.ones(levels)}\n",
    "model = models.COVID19_SEIRD(initial_states, params, time_dependent_parameters={'Nc': policies_until_september})"
   ]
  },
  {
   "cell_type": "code",
   "execution_count": null,
   "metadata": {},
   "outputs": [],
   "source": [
    "end_sim = '2020-10-01'\n",
    "n=100\n",
    "percentile = 0.99\n",
    "\n",
    "y_model = model.sim(end_sim,start_date=start_date,excess_time=samples_dict['warmup'],N=n,draw_fcn=draw_sample_COVID19_SEIRD,samples=samples_dict)\n",
    "\n",
    "fig,ax = plt.subplots(figsize=(10,4))\n",
    "ax.fill_between(pd.to_datetime(y_model['time'].values),y_model[\"H_tot\"].quantile(1-percentile,dim=\"draws\").sum(dim=\"Nc\"), y_model[\"H_tot\"].quantile(percentile,dim=\"draws\").sum(dim=\"Nc\"),alpha=0.30)\n",
    "ax.plot(y_model['time'],y_model[\"H_tot\"].mean(dim=\"draws\").sum(dim=\"Nc\"),'--')\n",
    "ax.scatter(df_sciensano[:end_sim].index,df_sciensano['H_tot'][:end_sim],color='black',alpha=0.4,linestyle='None',facecolors='none')\n",
    "ax = _apply_tick_locator(ax)\n",
    "plt.savefig(fig_path+'others/continued_lockdown.pdf', dpi=400, bbox_inches='tight',orientation='portrait', papertype='a4')"
   ]
  },
  {
   "cell_type": "markdown",
   "metadata": {},
   "source": [
    "### (Legacy) Re-estimating beta"
   ]
  },
  {
   "cell_type": "code",
   "execution_count": null,
   "metadata": {},
   "outputs": [],
   "source": [
    "# Define the compliance and lockdown function\n",
    "def lockdown_func(t,param,policy_time,policy1,policy2,l,tau,prevention):\n",
    "    if t <= policy_time + tau:\n",
    "        return policy1\n",
    "    elif policy_time + tau < t <= policy_time + tau + l:\n",
    "        return policy1 + (prevention*policy2-policy1)/l*(t-policy_time-tau)\n",
    "    else:\n",
    "        return prevention*policy2"
   ]
  },
  {
   "cell_type": "code",
   "execution_count": null,
   "metadata": {},
   "outputs": [],
   "source": [
    "def beta_reestimate_func(t,param,change_beta_time,beta_old,beta_new):\n",
    "    if t <= change_beta_time:\n",
    "        return beta_old\n",
    "    elif change_beta_time < t <= change_beta_time+120:\n",
    "        return beta_new\n",
    "    else:\n",
    "        return beta_new"
   ]
  },
  {
   "cell_type": "code",
   "execution_count": null,
   "metadata": {},
   "outputs": [],
   "source": [
    "# Load previous samples\n",
    "with open('../data/interim/model_parameters/deterministic_'+datetime.datetime.today().strftime('%Y-%m-%d') +'.json', 'r') as fp:\n",
    "    samples_dict = json.load(fp)"
   ]
  },
  {
   "cell_type": "code",
   "execution_count": null,
   "metadata": {},
   "outputs": [],
   "source": [
    "# Load the parameters using `get_COVID19_SEIRD_parameters()`.\n",
    "params = model_parameters.get_COVID19_SEIRD_parameters()\n",
    "# Define the initial condition: one exposed inidividual in every age category\n",
    "initial_states = {'S': initN, 'E': np.ones(levels)}\n",
    "# Add all time-dependent parameters to function definition\n",
    "params.update({'policy1': Nc_total,\n",
    "              'policy2': 1.0*Nc_home + (1-0.60)*Nc_work + (1-0.70)*Nc_transport + (1-0.30)*Nc_others + (1-0.80)*Nc_leisure,\n",
    "              'policy_time': samples_dict['lag_time'],\n",
    "              'l': np.mean(samples_dict['l']),\n",
    "              'tau': np.mean(samples_dict['tau']),\n",
    "              'prevention': np.mean(samples_dict['prevention']),\n",
    "               'change_beta_time': np.mean(samples_dict['lag_time'])+50,\n",
    "               'beta_old': np.mean(samples_dict['beta']),\n",
    "               'beta_new': 0.06})\n",
    "# Initialise the model\n",
    "model = models.COVID19_SEIRD(initial_states, params, time_dependent_parameters={'Nc': lockdown_func, 'beta': beta_reestimate_func})"
   ]
  },
  {
   "cell_type": "code",
   "execution_count": null,
   "metadata": {},
   "outputs": [],
   "source": [
    "model.extraTime = samples_dict['lag_time']\n",
    "model.parameters['beta'] = np.mean(samples_dict['beta'])\n",
    "model.parameters['l'] = np.mean(samples_dict['l'])\n",
    "model.parameters['tau'] = np.mean(samples_dict['tau'])\n",
    "model.parameters['prevention'] = np.mean(samples_dict['prevention'])"
   ]
  },
  {
   "cell_type": "code",
   "execution_count": null,
   "metadata": {},
   "outputs": [],
   "source": [
    "T = 62\n",
    "from copy import deepcopy\n",
    "# define dataset\n",
    "data=[df_sciensano[\"H_in\"].values[:]]\n",
    "# Redine lag_time\n",
    "model.extraTime = samples_dict['lag_time']\n",
    "# define samples_dict without lag_time\n",
    "smpls=deepcopy(samples_dict)\n",
    "del smpls['lag_time']\n",
    "# set optimisation settings\n",
    "parNames = ['sigma_H_in','beta_new'] # must be a list!\n",
    "states = [[\"H_in\"]]\n",
    "bounds=((1,500),(0.001,0.06)) # must be a list!"
   ]
  },
  {
   "cell_type": "code",
   "execution_count": null,
   "metadata": {},
   "outputs": [],
   "source": [
    "# run optimisation\n",
    "theta = MCMC.fit_pso(model,data,parNames,states,bounds,samples=smpls,maxiter=50,popsize=20)"
   ]
  },
  {
   "cell_type": "code",
   "execution_count": null,
   "metadata": {},
   "outputs": [],
   "source": [
    "parNames = ['sigma_ICU','beta_new'] # must be a list!\n",
    "bounds=((1,200),(0.0001,0.20))\n",
    "\n",
    "pos = [theta[0],theta[1]] + [1, 1e-2 ]* np.random.randn(8, 2)\n",
    "nwalkers, ndim = pos.shape\n",
    "sampler = emcee.EnsembleSampler(nwalkers, ndim, objective_fcns.log_probability,\n",
    "                                args=(model,bounds,data,states,parNames,smpls))\n",
    "sampler.run_mcmc(pos, 1000, progress=True);"
   ]
  },
  {
   "cell_type": "code",
   "execution_count": null,
   "metadata": {},
   "outputs": [],
   "source": [
    "samples = sampler.get_chain(discard=100,flat=False)\n",
    "flat_samples = sampler.get_chain(discard=100,flat=True)"
   ]
  },
  {
   "cell_type": "code",
   "execution_count": null,
   "metadata": {},
   "outputs": [],
   "source": [
    "# Calculate the autocorrelation time\n",
    "try:\n",
    "    print(sampler.get_autocorr_time())\n",
    "except:\n",
    "    print('The chain is shorter than 50 times the integrated autocorrelation time.')"
   ]
  },
  {
   "cell_type": "code",
   "execution_count": null,
   "metadata": {},
   "outputs": [],
   "source": [
    "mean = np.mean(flat_samples[:,1])\n",
    "p10 = np.percentile(flat_samples[:,1],10)\n",
    "p90 = np.percentile(flat_samples[:,1],90)\n",
    "print(mean,p10,p90)"
   ]
  },
  {
   "cell_type": "code",
   "execution_count": null,
   "metadata": {},
   "outputs": [],
   "source": [
    "samples_dict.update({'beta_new': flat_samples[:,1].tolist()})"
   ]
  },
  {
   "cell_type": "code",
   "execution_count": null,
   "metadata": {},
   "outputs": [],
   "source": [
    "with open('../data/interim/model_parameters/deterministic_'+ datetime.datetime.today().strftime('%Y-%m-%d')+'.json', 'w') as fp:\n",
    "    json.dump(samples_dict, fp)"
   ]
  },
  {
   "cell_type": "code",
   "execution_count": null,
   "metadata": {},
   "outputs": [],
   "source": [
    "traceplot(samples,labels=[\"sigma2_ICU\",\"beta_new\"],plt_kwargs={'linewidth':2,'color': 'red','alpha': 0.15})"
   ]
  },
  {
   "cell_type": "code",
   "execution_count": null,
   "metadata": {},
   "outputs": [],
   "source": [
    "import corner\n",
    "\n",
    "fig = corner.corner(\n",
    "    flat_samples,labels=['$\\sigma_{data}$','$\\\\beta_{new}$']\n",
    ");\n",
    "fig.set_size_inches(8, 8)\n",
    "plt.savefig('../results/calibration_non_spatial_deterministic/corner_beta.pdf', dpi=600, bbox_inches='tight',\n",
    "                    orientation='portrait', papertype='a4')"
   ]
  },
  {
   "cell_type": "code",
   "execution_count": null,
   "metadata": {},
   "outputs": [],
   "source": [
    "# define dataset\n",
    "data=[df_sciensano[\"H_tot\"].values[:],df_sciensano[\"ICU_tot\"].values[:]]\n",
    "states = [[\"H_tot\"],[\"ICU\"]]"
   ]
  },
  {
   "cell_type": "code",
   "execution_count": null,
   "metadata": {},
   "outputs": [],
   "source": [
    "T = 1\n",
    "start_date='15-03-2020'\n",
    "#data=[df_sciensano[\"H_in\"].values[:]]\n",
    "\n",
    "fig,ax=plt.subplots()\n",
    "for i in range(100):\n",
    "    model.parameters['beta'] = np.random.choice(samples_dict['beta'],1,replace=False)\n",
    "    idx,model.parameters['l'] = random.choice(list(enumerate(samples_dict['l'])))\n",
    "    model.parameters['tau'] = samples_dict['tau'][idx]\n",
    "    model.parameters['prevention'] = samples_dict['prevention'][idx]\n",
    "    model.parameters['beta_new'] = np.random.choice(samples_dict['beta_new'],1,replace=False)\n",
    "\n",
    "    y_model = model.sim(data[0].size+samples_dict['lag_time']-1+T)\n",
    "    ax = plot_fit(y_model,data,start_date,samples_dict['lag_time'],states,T=T,ax=ax,plt_kwargs={'linewidth': 2,'alpha': 0.05})\n",
    "    \n",
    "#plt.scatter(pd.date_range('15-03-2020',freq='D',periods=df_sciensano[\"H_in\"][:50].size),df_sciensano[\"H_in\"][:50], marker='o',color='red',linestyle='None',facecolors='none')\n",
    "legend_text=['daily \\nhospitalizations']\n",
    "leg=ax.legend(legend_text, loc=\"upper left\", bbox_to_anchor=(1,1))\n",
    "plt.savefig('../results/calibration_non_spatial_deterministic/plot_fit_beta.pdf', dpi=600, bbox_inches='tight',orientation='portrait', papertype='a4')"
   ]
  },
  {
   "cell_type": "markdown",
   "metadata": {},
   "source": [
    "#### Re-compute the basic reproduction number"
   ]
  },
  {
   "cell_type": "code",
   "execution_count": null,
   "metadata": {},
   "outputs": [],
   "source": [
    "R_0 = (model.parameters['a']*model.parameters['da']+model.parameters['omega'])*mean*model.parameters['s']*np.sum(Nc_total,axis=1)"
   ]
  }
 ],
 "metadata": {
  "kernelspec": {
   "display_name": "Python 3",
   "language": "python",
   "name": "python3"
  },
  "language_info": {
   "codemirror_mode": {
    "name": "ipython",
    "version": 3
   },
   "file_extension": ".py",
   "mimetype": "text/x-python",
   "name": "python",
   "nbconvert_exporter": "python",
   "pygments_lexer": "ipython3",
   "version": "3.8.2"
  },
  "toc": {
   "base_numbering": 1,
   "nav_menu": {},
   "number_sections": true,
   "sideBar": true,
   "skip_h1_title": false,
   "title_cell": "Table of Contents",
   "title_sidebar": "Contents",
   "toc_cell": false,
   "toc_position": {},
   "toc_section_display": true,
   "toc_window_display": false
  }
 },
 "nbformat": 4,
 "nbformat_minor": 4
}
