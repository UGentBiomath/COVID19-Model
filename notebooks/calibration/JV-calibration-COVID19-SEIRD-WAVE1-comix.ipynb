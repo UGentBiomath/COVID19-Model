{
 "cells": [
  {
   "cell_type": "markdown",
   "metadata": {},
   "source": [
    "\n",
    "\n",
    "*Original code by Ryan S. McGee. Modified by T.W. Alleman in consultation with the BIOMATH research unit headed by prof. Ingmar Nopens.*\n",
    "\n",
    "Copyright (c) 2020 by T.W. Alleman, BIOMATH, Ghent University. All Rights Reserved.\n",
    "\n",
    "This notebook accompanies our preprint: \"*A deterministic, age-stratified, extended SEIRD model for assessing the effect of non-pharmaceutical interventions on SARS-CoV-2 spread in Belgium*\"(https://doi.org/10.1101/2020.07.17.20156034)"
   ]
  },
  {
   "cell_type": "markdown",
   "metadata": {},
   "source": [
    "# Load required packages"
   ]
  },
  {
   "cell_type": "code",
   "execution_count": 1,
   "metadata": {
    "ExecuteTime": {
     "end_time": "2020-11-24T07:11:21.429463Z",
     "start_time": "2020-11-24T07:11:18.912303Z"
    }
   },
   "outputs": [],
   "source": [
    "import random\n",
    "import os\n",
    "import numpy as np\n",
    "import json\n",
    "import corner\n",
    "import random\n",
    "\n",
    "import pandas as pd\n",
    "import datetime\n",
    "import scipy\n",
    "import matplotlib.dates as mdates\n",
    "import matplotlib\n",
    "import math\n",
    "import xarray as xr\n",
    "import emcee\n",
    "import matplotlib.pyplot as plt\n",
    "import datetime\n",
    "\n",
    "from covid19model.optimization import objective_fcns,pso\n",
    "from covid19model.models import models\n",
    "from covid19model.models.utils import draw_sample_COVID19_SEIRD_google\n",
    "from covid19model.models.time_dependant_parameter_fncs import google_lockdown, ramp_fun, contact_matrix\n",
    "from covid19model.data import google\n",
    "from covid19model.data import sciensano\n",
    "from covid19model.data import model_parameters\n",
    "from covid19model.visualization.output import population_status, infected, _apply_tick_locator \n",
    "from covid19model.visualization.optimization import plot_fit, traceplot\n",
    "\n",
    "\n",
    "# OPTIONAL: Load the \"autoreload\" extension so that package code can change\n",
    "%load_ext autoreload\n",
    "# OPTIONAL: always reload modules so that as you change code in src, it gets loaded\n",
    "%autoreload 2"
   ]
  },
  {
   "cell_type": "markdown",
   "metadata": {},
   "source": [
    "# Load data"
   ]
  },
  {
   "cell_type": "code",
   "execution_count": 18,
   "metadata": {
    "ExecuteTime": {
     "end_time": "2020-11-24T07:23:32.898767Z",
     "start_time": "2020-11-24T07:23:32.828927Z"
    }
   },
   "outputs": [
    {
     "data": {
      "text/plain": [
       "'02-07-2020'"
      ]
     },
     "execution_count": 18,
     "metadata": {},
     "output_type": "execute_result"
    }
   ],
   "source": [
    "initN, Nc, date = model_parameters.get_interaction_matrices(dataset='comix', intensity='all', wave=6)\n",
    "date"
   ]
  },
  {
   "cell_type": "code",
   "execution_count": null,
   "metadata": {
    "ExecuteTime": {
     "end_time": "2020-11-24T07:08:05.658007Z",
     "start_time": "2020-11-24T07:08:05.533054Z"
    }
   },
   "outputs": [],
   "source": [
    "df_sciensano = sciensano.get_sciensano_COVID19_data(update=False)\n",
    "df_sciensano.tail(2)"
   ]
  },
  {
   "cell_type": "code",
   "execution_count": null,
   "metadata": {
    "ExecuteTime": {
     "end_time": "2020-11-24T07:08:05.730260Z",
     "start_time": "2020-11-24T07:08:05.660153Z"
    }
   },
   "outputs": [],
   "source": [
    "df_google = google.get_google_mobility_data(update=False, plot=False)\n",
    "df_google.tail(2)"
   ]
  },
  {
   "cell_type": "code",
   "execution_count": null,
   "metadata": {},
   "outputs": [],
   "source": [
    "\n",
    "# def switch_beta(t,states,param,samples_dict):\n",
    "#     if t < pd.to_datetime('2020-05-04'):\n",
    "#         return np.random.choice(samples_dict['beta'],1,replace=False)\n",
    "#     elif pd.to_datetime('2020-05-04') < t <= pd.to_datetime('2020-09-01'):\n",
    "#         return np.random.choice(samples_dict['beta_summer'],1,replace=False)\n",
    "#     else:\n",
    "#         return np.random.choice(samples_dict['beta'],1,replace=False)"
   ]
  },
  {
   "cell_type": "markdown",
   "metadata": {},
   "source": [
    "# Wave 1 - March 2020 - June 2020"
   ]
  },
  {
   "cell_type": "code",
   "execution_count": null,
   "metadata": {
    "ExecuteTime": {
     "end_time": "2020-11-24T07:08:20.544416Z",
     "start_time": "2020-11-24T07:08:20.494065Z"
    }
   },
   "outputs": [],
   "source": [
    "def wave1_policies(t,states,param,df_google, Nc_all, l , tau, \n",
    "                   prev_schools, prev_work, prev_transport, prev_leisure, prev_others, prev_home):\n",
    "    \n",
    "    # Convert tau and l to dates\n",
    "    tau_days = pd.Timedelta(tau, unit='D')\n",
    "    l_days = pd.Timedelta(l, unit='D')\n",
    "\n",
    "    # Define additional dates where intensity or school policy changes\n",
    "    t1 = pd.Timestamp('2020-03-15') # start of lockdown\n",
    "    t2 = pd.Timestamp('2020-05-18') # gradual re-opening of schools (15%)\n",
    "    t3 = pd.Timestamp('2020-06-04') # further re-opening of schools (65%)\n",
    "    t4 = pd.Timestamp('2020-07-01') # closing schools (end calibration wave1)\n",
    "\n",
    "    if t <= t1 + tau_days:\n",
    "        return contact_matrix(t, df_google, Nc_all, school=1)\n",
    "    elif t1 + tau_days < t <= t1 + tau_days + l_days:\n",
    "        policy_old = contact_matrix(t, df_google, Nc_all, school=1)\n",
    "        policy_new = contact_matrix(t, df_google, Nc_all, prev_home, prev_schools, prev_work, prev_transport, \n",
    "                                    prev_leisure, prev_others, school=0)\n",
    "        return ramp_fun(policy_old, policy_new, t, tau_days, l, t1)\n",
    "    elif t1 + tau_days + l_days < t <= t2:\n",
    "        return contact_matrix(t, df_google, Nc_all, prev_home, prev_schools, prev_work, prev_transport, \n",
    "                              prev_leisure, prev_others, school=0)\n",
    "    elif t2 < t <= t3:\n",
    "        return contact_matrix(t, df_google, Nc_all, prev_home, prev_schools, prev_work, prev_transport, \n",
    "                              prev_leisure, prev_others, school=0.15)\n",
    "    elif t3 < t <= t4:\n",
    "        return contact_matrix(t, df_google, Nc_all, prev_home, prev_schools, prev_work, prev_transport, \n",
    "                              prev_leisure, prev_others, school=0.65)\n",
    "    else:\n",
    "        return contact_matrix(t, df_google, Nc_all, prev_home, prev_schools, prev_work, prev_transport, \n",
    "                              prev_leisure, prev_others, school=0)\n"
   ]
  },
  {
   "cell_type": "code",
   "execution_count": null,
   "metadata": {
    "ExecuteTime": {
     "end_time": "2020-11-24T07:08:30.399867Z",
     "start_time": "2020-11-24T07:08:30.059489Z"
    }
   },
   "outputs": [],
   "source": [
    "#### Load the model parameters using `get_COVID19_SEIRD_parameters()`.\n",
    "params = model_parameters.get_COVID19_SEIRD_parameters()\n",
    "\n",
    "params.update({'df_google': df_google,\n",
    "              'Nc_all' : Nc_all,\n",
    "               'l' : 5,\n",
    "               'tau' : 5,\n",
    "               'prev_schools': 0.5,\n",
    "               'prev_work': 0.5,\n",
    "               'prev_transport': 0.5,\n",
    "               'prev_leisure': 0.5,\n",
    "               'prev_others': 0.5,\n",
    "               'prev_home' : 0.5\n",
    "              })\n",
    "\n",
    "# Define the initial condition: one exposed inidividual in every age category\n",
    "initial_states = {'S': initN, 'E': np.ones(levels)}\n",
    "# Initialize the model\n",
    "model = models.COVID19_SEIRD(initial_states, params, time_dependent_parameters={'Nc': wave1_policies})"
   ]
  },
  {
   "cell_type": "markdown",
   "metadata": {},
   "source": [
    "## Perform calibration"
   ]
  },
  {
   "cell_type": "code",
   "execution_count": null,
   "metadata": {
    "ExecuteTime": {
     "end_time": "2020-11-24T07:09:11.404810Z",
     "start_time": "2020-11-24T07:09:11.212327Z"
    }
   },
   "outputs": [],
   "source": [
    "# Date of first data collection\n",
    "start_calibration = '2020-03-15'\n",
    "# Last datapoint used to calibrate basic reproduction number\n",
    "end_calibration = '2020-07-01'\n",
    "\n",
    "# Path where figures should be stored\n",
    "fig_path = '../../results/calibrations/COVID19_SEIRD/national/'\n",
    "# Path where MCMC samples should be saved\n",
    "samples_path = '../../data/interim/model_parameters/COVID19_SEIRD/calibrations/national/'\n",
    "# Spatial unit: Belgium\n",
    "spatial_unit = 'BE_6_prev_full'"
   ]
  },
  {
   "cell_type": "code",
   "execution_count": null,
   "metadata": {
    "ExecuteTime": {
     "start_time": "2020-11-24T07:09:18.313Z"
    }
   },
   "outputs": [],
   "source": [
    "init_warmup = 30\n",
    "maxiter = 100\n",
    "popsize = 100\n",
    "processes = 32 # voor eraser!! ## PROCESSES=1 to debug!\n",
    "steps_mcmc = 3000#3000\n",
    "discard = 1000#1000\n",
    "\n",
    "# define dataset\n",
    "data=[df_sciensano['H_in'][start_calibration:end_calibration]]\n",
    "states = [[\"H_in\"]]\n",
    "\n",
    "####################################################\n",
    "####### CALIBRATING BETA AND COMPLIANCE RAMP #######\n",
    "####################################################\n",
    "\n",
    "print('------------------------------------')\n",
    "print('CALIBRATING BETA AND COMPLIANCE RAMP')\n",
    "print('------------------------------------\\n')\n",
    "print('Using data from '+start_calibration+' until '+end_calibration+'\\n')\n",
    "print('1) Particle swarm optimization\\n')\n",
    "\n",
    "# set PSO optimisation settings\n",
    "parNames = ['sigma_data','beta','l','tau',\n",
    "            'prev_schools', 'prev_work', 'prev_transport', 'prev_leisure', 'prev_others', 'prev_home', 'warmup']\n",
    "bounds=((1,2000),(0.010,0.060),(0.1,20),(0.1,20),\n",
    "        (0,1),(0,1),(0,1),(0,1),(0,1),(0,1), (30,60))\n",
    "\n",
    "# run PSO optimisation\n",
    "theta_pso = pso.fit_pso(model,data,parNames,states,bounds,maxiter=maxiter,popsize=popsize,\n",
    "                    start_date=start_calibration,warmup=init_warmup, processes=processes) \n",
    "warmup = int(theta_pso[-1])\n",
    "\n",
    "# run MCMC sampler\n",
    "print('\\n2) Markov-Chain Monte-Carlo sampling\\n')\n",
    "parNames_mcmc = parNames[:-1]\n",
    "bounds_mcmc=((1,2000),(0.020,0.060),(0.001,20),(0.001,20),\n",
    "             (0,1),(0,1),(0,1),(0,1),(0,1),(0,1))\n",
    "\n",
    "theta = theta_pso[:-1]\n",
    "ndim = len(theta)\n",
    "nwalkers = ndim*2\n",
    "perturbations = ([1]+(ndim-1)*[1e-3]) * np.random.randn(nwalkers, ndim)\n",
    "pos = theta + perturbations\n",
    "\n",
    "sampler = emcee.EnsembleSampler(nwalkers, ndim, objective_fcns.log_probability,\n",
    "                    args=(model, bounds_mcmc, data, states, parNames_mcmc, None, start_calibration, warmup))\n",
    "sampler.run_mcmc(pos, steps_mcmc, progress=True)\n",
    "\n",
    "try:\n",
    "    sampler.get_autocorr_time()\n",
    "except:\n",
    "    print('Warning: The chain is shorter than 50 times the integrated autocorrelation time for 4 parameter(s).\\nUse this estimate with caution and run a longer chain!')\n",
    "from covid19model.optimization.run_optimization import checkplots\n",
    "checkplots(sampler, discard, fig_path, spatial_unit, figname='BETA_RAMP_GOOGLE_WAVE1', \n",
    "           labels=['$\\sigma_{data}$','$\\\\beta$','l','$\\\\tau$',\n",
    "                   'prev_schools', 'prev_work', 'prev_transport', 'prev_leisure', 'prev_others', 'prev_home'])\n",
    "\n",
    "#############################################\n",
    "####### Output to dictionary ################\n",
    "#############################################\n",
    "\n",
    "samples_dict_wave1 = {\n",
    "    'theta_pso' : theta_pso,\n",
    "    'warmup' : warmup,\n",
    "    'sigma_data' : sampler.get_chain(discard=discard,flat=True)[:,0].tolist(),\n",
    "    'beta': sampler.get_chain(discard=discard,flat=True)[:,1].tolist(),\n",
    "    'l' : sampler.get_chain(discard=discard,flat=True)[:,2].tolist(),\n",
    "    'tau' : sampler.get_chain(discard=discard,flat=True)[:,3].tolist(),\n",
    "    'prev_schools': sampler.get_chain(discard=discard,flat=True)[:,4].tolist(),\n",
    "    'prev_work': sampler.get_chain(discard=discard,flat=True)[:,5].tolist(),\n",
    "    'prev_transport': sampler.get_chain(discard=discard,flat=True)[:,6].tolist(),\n",
    "    'prev_leisure': sampler.get_chain(discard=discard,flat=True)[:,7].tolist(),\n",
    "    'prev_others': sampler.get_chain(discard=discard,flat=True)[:,8].tolist(),\n",
    "    'prev_home': sampler.get_chain(discard=discard,flat=True)[:,9].tolist(),\n",
    "    'calibration_data' : states[0][0],\n",
    "    'start_date' : start_calibration,\n",
    "    'end_date' : end_calibration,\n",
    "    'maxiter' : maxiter,\n",
    "    'popsize': popsize,\n",
    "    'steps_mcmc': steps_mcmc,\n",
    "    'discard' : discard,\n",
    "\n",
    "}\n",
    "\n",
    "with open(samples_path+str(spatial_unit)+'_'+str(datetime.date.today())+'_WAVE1_GOOGLE.json', 'w') as fp:\n",
    "    json.dump(samples_dict_wave1, fp)"
   ]
  },
  {
   "cell_type": "code",
   "execution_count": null,
   "metadata": {
    "ExecuteTime": {
     "end_time": "2020-11-20T14:50:04.072084Z",
     "start_time": "2020-11-20T14:48:28.099003Z"
    }
   },
   "outputs": [],
   "source": [
    "end_sim = '2020-07-01'\n",
    "\n",
    "fig,ax=plt.subplots(figsize=(10,4))\n",
    "for i in range(100):\n",
    "    # Sampling\n",
    "    idx, model.parameters['beta'] = random.choice(list(enumerate(samples_dict_wave1['beta'])))\n",
    "    model.parameters['l'] = samples_dict_wave1['l'][idx] \n",
    "    model.parameters['tau'] = samples_dict_wave1['tau'][idx]    \n",
    "    model.parameters['prev_schools'] = samples_dict_wave1['prev_schools'][idx]    \n",
    "    model.parameters['prev_work'] = samples_dict_wave1['prev_work'][idx]     \n",
    "    model.parameters['prev_transport'] = samples_dict_wave1['prev_transport'][idx]    \n",
    "    model.parameters['prev_leisure'] = samples_dict_wave1['prev_leisure'][idx]     \n",
    "    model.parameters['prev_others'] = samples_dict_wave1['prev_others'][idx]      \n",
    "\n",
    "    # Simulate\n",
    "    y_model = model.sim(end_sim,start_date=start_calibration,warmup=theta_pso[-1])\n",
    "    # Plot\n",
    "    ax.plot(y_model['time'],y_model[\"H_in\"].sum(dim=\"Nc\"),color='blue',alpha=0.1)\n",
    "\n",
    "ax.scatter(df_sciensano[start_calibration:end_calibration].index,df_sciensano['H_in'][start_calibration:end_calibration],color='black',alpha=0.6,linestyle='None',facecolors='none')\n",
    "ax = _apply_tick_locator(ax)\n",
    "ax.set_xlim('2020-02-15',end_sim)\n",
    "fig.savefig(fig_path+'others/FIT_WAVE1_GOOGLE_'+spatial_unit+'_'+str(datetime.date.today())+'.pdf', dpi=400, bbox_inches='tight')"
   ]
  },
  {
   "cell_type": "markdown",
   "metadata": {},
   "source": [
    "## Visualizations\n",
    "\n",
    "### Goodness-of-fit: $\\beta$, $l$ and $\\tau$"
   ]
  },
  {
   "cell_type": "code",
   "execution_count": null,
   "metadata": {
    "ExecuteTime": {
     "end_time": "2020-11-20T07:47:07.542990Z",
     "start_time": "2020-11-20T07:47:07.346133Z"
    }
   },
   "outputs": [],
   "source": [
    "old_theta = {name:par for name,par in zip(parNames, theta) } \n",
    "old_theta"
   ]
  },
  {
   "cell_type": "code",
   "execution_count": null,
   "metadata": {},
   "outputs": [],
   "source": [
    "params.update({'samples_dict': samples_dict})\n",
    "\n",
    "# Re-initialize the model\n",
    "model = models.COVID19_SEIRD(initial_states, params, time_dependent_parameters={'Nc': google_lockdown, 'beta': switch_beta})"
   ]
  },
  {
   "cell_type": "code",
   "execution_count": null,
   "metadata": {
    "ExecuteTime": {
     "end_time": "2020-11-20T07:44:44.019193Z",
     "start_time": "2020-11-20T07:44:34.715735Z"
    }
   },
   "outputs": [],
   "source": [
    "end_sim = end_calibration\n",
    "\n",
    "fig,ax=plt.subplots(figsize=(10,4))\n",
    "for i in range(10):\n",
    "    # Sampling\n",
    "    idx, model.parameters['beta'] = random.choice(list(enumerate(samples_dict_wave1['beta'])))\n",
    "    model.parameters['l'] = samples_dict_wave1['l'][idx] \n",
    "    model.parameters['tau'] = samples_dict_wave1['tau'][idx]    \n",
    "    model.parameters['prev_schools'] = samples_dict_wave1['prev_schools'][idx]    \n",
    "    model.parameters['prev_work'] = samples_dict_wave1['prev_work'][idx]     \n",
    "    model.parameters['prev_transport'] = samples_dict_wave1['prev_transport'][idx]    \n",
    "    model.parameters['prev_leisure'] = samples_dict_wave1['prev_leisure'][idx]     \n",
    "    model.parameters['prev_others'] = samples_dict_wave1['prev_others'][idx]      \n",
    "\n",
    "    # Simulate\n",
    "    y_model = model.sim(end_sim,start_date=start_calibration,warmup=51)\n",
    "    # Plot\n",
    "    ax.plot(y_model['time'],y_model[\"H_in\"].sum(dim=\"Nc\"),color='blue',alpha=0.1)\n",
    "\n",
    "ax.scatter(df_sciensano[start_calibration:end_calibration].index,df_sciensano['H_in'][start_calibration:end_calibration],color='black',alpha=0.6,linestyle='None',facecolors='none')\n",
    "ax = _apply_tick_locator(ax)\n",
    "ax.set_xlim('2020-03-15',end_sim)\n",
    "#plt.savefig(fig_path+'others/FIT_WAVE1_GOOGLE_'+spatial_unit+'_'+str(datetime.date.today())+'.pdf', dpi=400, bbox_inches='tight')"
   ]
  },
  {
   "cell_type": "markdown",
   "metadata": {},
   "source": [
    "### $R_0$"
   ]
  },
  {
   "cell_type": "code",
   "execution_count": null,
   "metadata": {},
   "outputs": [],
   "source": [
    "fig,ax=plt.subplots(figsize=(10,4))\n",
    "ax.hist(samples_dict['R0'],bins=30)\n",
    "plt.savefig(fig_path+'others/R0_GOOGLE.pdf', dpi=400, bbox_inches='tight',orientation='portrait', papertype='a4')"
   ]
  },
  {
   "cell_type": "markdown",
   "metadata": {},
   "source": [
    "### Seroprelevance"
   ]
  },
  {
   "cell_type": "code",
   "execution_count": null,
   "metadata": {},
   "outputs": [],
   "source": [
    "end_sim = '2020-06-01'\n",
    "\n",
    "fig,ax=plt.subplots(figsize=(10,4))\n",
    "for i in range(10):\n",
    "    model.parameters = draw_sample_COVID19_SEIRD_google(model.parameters,samples_dict)\n",
    "    y_model = model.sim(end_sim,start_date=start_data,excess_time=samples_dict['warmup'])\n",
    "    ax.plot((1-y_model[\"S\"].sel(time=end_sim)/y_model[\"S\"].isel(time=0))*100,alpha=0.03,color='blue',linewidth=2)\n",
    "\n",
    "ax.set_xlabel('age')\n",
    "ax.set_ylabel(\"seroprelevance (%)\" )\n",
    "ax.set_ylim()\n",
    "plt.xticks(np.arange(9), ('[0-10[', '[10-20[', '[20-30[', '[30-40[', '[40-50[', '[50-60[', '[60-70[', '[70-80[', '[80-$\\infty$['))\n",
    "\n",
    "plt.savefig(fig_path+'others/SEROPRELEVANCE_'+end_sim+'_GOOGLE.pdf', dpi=400, bbox_inches='tight',orientation='portrait', papertype='a4')"
   ]
  },
  {
   "cell_type": "markdown",
   "metadata": {},
   "source": [
    "### Lockdown release"
   ]
  },
  {
   "cell_type": "code",
   "execution_count": null,
   "metadata": {},
   "outputs": [],
   "source": [
    "end_sim = '2020-09-01'\n",
    "n=100\n",
    "percentile = 0.99\n",
    "\n",
    "y_model = model.sim(end_sim,start_date=start_data,excess_time=samples_dict['warmup'],N=n,draw_fcn=draw_sample_COVID19_SEIRD_google,samples=samples_dict)\n",
    "\n",
    "fig,ax = plt.subplots(figsize=(10,4))\n",
    "ax.fill_between(pd.to_datetime(y_model['time'].values),y_model[\"H_tot\"].quantile(1-percentile,dim=\"draws\").sum(dim=\"Nc\"), y_model[\"H_tot\"].quantile(percentile,dim=\"draws\").sum(dim=\"Nc\"),alpha=0.30)\n",
    "ax.plot(y_model['time'],y_model[\"H_tot\"].mean(dim=\"draws\").sum(dim=\"Nc\"),'--')\n",
    "ax.scatter(df_sciensano[:end_sim].index,df_sciensano['H_tot'][:end_sim],color='black',alpha=0.4,linestyle='None',facecolors='none')\n",
    "ax = _apply_tick_locator(ax)\n",
    "plt.savefig(fig_path+'others/LOCKDOWN_RELEASE_WAVE1_GOOGLE.pdf', dpi=400, bbox_inches='tight',orientation='portrait', papertype='a4')"
   ]
  },
  {
   "cell_type": "markdown",
   "metadata": {},
   "source": [
    "### Save results to a .csv"
   ]
  },
  {
   "cell_type": "code",
   "execution_count": null,
   "metadata": {},
   "outputs": [],
   "source": [
    "index = y_model['time'].values\n",
    "columns = ['WAVE1_INCIDENCES_MEAN','WAVE1_INCIDENCES_MEDIAN','WAVE1_INCIDENCES_LL','WAVE1_INCIDENCES_UL']\n",
    "data = np.transpose(np.array([\n",
    "        y_model[\"H_tot\"].mean(dim=\"draws\").sum(dim=\"Nc\").values.tolist(),\n",
    "        y_model[\"H_tot\"].median(dim=\"draws\").sum(dim=\"Nc\").values.tolist(),\n",
    "        y_model[\"H_tot\"].quantile(1-percentile,dim=\"draws\").sum(dim=\"Nc\").values.tolist(),\n",
    "        y_model[\"H_tot\"].quantile(percentile,dim=\"draws\").sum(dim=\"Nc\").values.tolist()\n",
    "       ]))"
   ]
  },
  {
   "cell_type": "code",
   "execution_count": null,
   "metadata": {},
   "outputs": [],
   "source": [
    "df = pd.DataFrame(data,columns=columns,index=index)\n",
    "df.head()"
   ]
  },
  {
   "cell_type": "code",
   "execution_count": null,
   "metadata": {},
   "outputs": [],
   "source": [
    "df.to_csv('../../results/predictions/FAGG/COVID19_SEIRD/WAVE1.csv',index=True)"
   ]
  },
  {
   "cell_type": "code",
   "execution_count": null,
   "metadata": {},
   "outputs": [],
   "source": []
  }
 ],
 "metadata": {
  "kernelspec": {
   "display_name": "COVID19",
   "language": "python",
   "name": "python3"
  },
  "language_info": {
   "codemirror_mode": {
    "name": "ipython",
    "version": 3
   },
   "file_extension": ".py",
   "mimetype": "text/x-python",
   "name": "python",
   "nbconvert_exporter": "python",
   "pygments_lexer": "ipython3",
   "version": "3.7.7"
  },
  "toc": {
   "base_numbering": 1,
   "nav_menu": {},
   "number_sections": true,
   "sideBar": true,
   "skip_h1_title": false,
   "title_cell": "Table of Contents",
   "title_sidebar": "Contents",
   "toc_cell": false,
   "toc_position": {
    "height": "calc(100% - 180px)",
    "left": "10px",
    "top": "150px",
    "width": "170px"
   },
   "toc_section_display": true,
   "toc_window_display": true
  }
 },
 "nbformat": 4,
 "nbformat_minor": 4
}
