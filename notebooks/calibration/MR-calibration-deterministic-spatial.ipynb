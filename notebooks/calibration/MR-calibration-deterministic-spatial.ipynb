{
 "cells": [
  {
   "cell_type": "markdown",
   "metadata": {},
   "source": [
    "**Calibration of spatial deterministic model** (focus on arrondissements)\n",
    "\n",
    "Notes:\n",
    "1. Based on calibration of national deterministic model found in ...\n",
    "2. Includes Proximus mobility matrices that is updated every day\n",
    "3. Includes three-fold stratified $\\beta$ parameter (rural/urban/metropolitan)\n",
    "\n",
    "NOTE: an updated version of this is found in `../hpc/mrollier-calibration-WAVE1_arr.py`."
   ]
  },
  {
   "cell_type": "markdown",
   "metadata": {},
   "source": [
    "# Load Python packages"
   ]
  },
  {
   "cell_type": "code",
   "execution_count": 1,
   "metadata": {
    "ExecuteTime": {
     "end_time": "2021-05-03T06:30:00.514847Z",
     "start_time": "2021-05-03T06:29:30.397786Z"
    }
   },
   "outputs": [],
   "source": [
    "# Load packages\n",
    "# Established packages\n",
    "import os\n",
    "import numpy as np\n",
    "import pandas as pd\n",
    "import geopandas as gp\n",
    "import datetime\n",
    "import math\n",
    "import xarray as xr # labels in the form of dimensions, coordinates and attributes\n",
    "import matplotlib.pyplot as plt\n",
    "import zarr\n",
    "\n",
    "# diagnosis Notebook tool\n",
    "import snakeviz\n",
    "\n",
    "# Custom package covid19model\n",
    "from covid19model.models import models\n",
    "from covid19model.data import model_parameters, mobility, sciensano\n",
    "from covid19model.visualization.output import population_status, infected, show_map, show_graphs\n",
    "import covid19model.models.time_dependant_parameter_fncs as tdpf\n",
    "# Had to import ALL functions, to avoid pickle error\n",
    "# from covid19model.models.time_dependant_parameter_fncs import mobility_update_func\n",
    "# from covid19model.models.time_dependant_parameter_fncs import google_lockdown, delayed_ramp_fun, contact_matrix\n",
    "\n",
    "# Import date_to_YYYYMMD function\n",
    "from covid19model.data.mobility import date_to_YYYYMMDD\n",
    "\n",
    "# Functions for calibration (PSO first, MCMC later)\n",
    "from covid19model.optimization import pso, objective_fcns\n",
    "\n",
    "# Moving average for visualisation\n",
    "from covid19model.visualization.utils import moving_avg\n",
    "\n",
    "# Additional functions needed to simplify Notebook code\n",
    "from covid19model.models.utils import read_pops, read_coordinates_nis, initial_state\n",
    "\n",
    "# Download function for complete calibration\n",
    "# covid19model.optimization.run_optimization import full_calibration_wave1, full_calibration_wave2\n",
    "\n",
    "\n",
    "# OPTIONAL: Load the \"autoreload\" extension so that package code can change\n",
    "%load_ext autoreload\n",
    "# OPTIONAL: always reload modules so that as you change code in src, it gets loaded\n",
    "# This may be useful because the `covid19model` package is under construction\n",
    "%autoreload 2\n",
    "\n",
    "# Spatial stratification\n",
    "agg = 'arr'"
   ]
  },
  {
   "cell_type": "markdown",
   "metadata": {},
   "source": [
    "# Load model parameter values\n",
    "The model is supported by many parameters, which must be loaded into the model later on"
   ]
  },
  {
   "cell_type": "code",
   "execution_count": 2,
   "metadata": {
    "ExecuteTime": {
     "end_time": "2021-05-03T06:30:03.648986Z",
     "start_time": "2021-05-03T06:30:00.517060Z"
    }
   },
   "outputs": [],
   "source": [
    "# Load interaction matrices. Data taken from willem2012. No CoMix data used yet!\n",
    "initN, Nc_home, Nc_work, Nc_schools, Nc_transport, Nc_leisure, Nc_others, Nc_total = model_parameters.get_interaction_matrices(dataset='willem_2012', spatial=agg)\n",
    "# levels = initN.size\n",
    "Nc_all = {'total': Nc_total, 'home':Nc_home, 'work': Nc_work, 'schools': Nc_schools, 'transport': Nc_transport, 'leisure': Nc_leisure, 'others': Nc_others}"
   ]
  },
  {
   "cell_type": "code",
   "execution_count": 3,
   "metadata": {
    "ExecuteTime": {
     "end_time": "2021-05-03T06:30:03.865859Z",
     "start_time": "2021-05-03T06:30:03.651429Z"
    }
   },
   "outputs": [
    {
     "data": {
      "text/html": [
       "<div>\n",
       "<style scoped>\n",
       "    .dataframe tbody tr th:only-of-type {\n",
       "        vertical-align: middle;\n",
       "    }\n",
       "\n",
       "    .dataframe tbody tr th {\n",
       "        vertical-align: top;\n",
       "    }\n",
       "\n",
       "    .dataframe thead th {\n",
       "        text-align: right;\n",
       "    }\n",
       "</style>\n",
       "<table border=\"1\" class=\"dataframe\">\n",
       "  <thead>\n",
       "    <tr style=\"text-align: right;\">\n",
       "      <th></th>\n",
       "      <th>retail_recreation</th>\n",
       "      <th>grocery</th>\n",
       "      <th>parks</th>\n",
       "      <th>transport</th>\n",
       "      <th>work</th>\n",
       "      <th>residential</th>\n",
       "    </tr>\n",
       "    <tr>\n",
       "      <th>date</th>\n",
       "      <th></th>\n",
       "      <th></th>\n",
       "      <th></th>\n",
       "      <th></th>\n",
       "      <th></th>\n",
       "      <th></th>\n",
       "    </tr>\n",
       "  </thead>\n",
       "  <tbody>\n",
       "    <tr>\n",
       "      <th>2021-04-23</th>\n",
       "      <td>-39.0</td>\n",
       "      <td>15.0</td>\n",
       "      <td>72.0</td>\n",
       "      <td>-24.0</td>\n",
       "      <td>-22.0</td>\n",
       "      <td>11.0</td>\n",
       "    </tr>\n",
       "    <tr>\n",
       "      <th>2021-04-24</th>\n",
       "      <td>-39.0</td>\n",
       "      <td>9.0</td>\n",
       "      <td>84.0</td>\n",
       "      <td>-22.0</td>\n",
       "      <td>-3.0</td>\n",
       "      <td>8.0</td>\n",
       "    </tr>\n",
       "  </tbody>\n",
       "</table>\n",
       "</div>"
      ],
      "text/plain": [
       "            retail_recreation  grocery  parks  transport  work  residential\n",
       "date                                                                       \n",
       "2021-04-23              -39.0     15.0   72.0      -24.0 -22.0         11.0\n",
       "2021-04-24              -39.0      9.0   84.0      -22.0  -3.0          8.0"
      ]
     },
     "execution_count": 3,
     "metadata": {},
     "output_type": "execute_result"
    }
   ],
   "source": [
    "# Daily mobility reduction in 6 categories from Google compared to baseline (what baseline?)\n",
    "df_google = mobility.get_google_mobility_data(update=False, plot=False)\n",
    "df_google.tail(2)\n",
    "# df_google.head()"
   ]
  },
  {
   "cell_type": "code",
   "execution_count": 19,
   "metadata": {
    "ExecuteTime": {
     "end_time": "2021-05-03T07:31:36.270769Z",
     "start_time": "2021-05-03T07:31:36.033661Z"
    }
   },
   "outputs": [],
   "source": [
    "# Define the sloped functions defining the changes in interaction patterns. Copied from JV-calibration-COVID19-SEIRD-WAVE1-comix.ipynb\n",
    "def policies_wave1_4prev(t, states, param, l , tau, prev_schools, prev_work, prev_rest, prev_home, df_google, Nc_all):\n",
    "\n",
    "    contact_matrix_4prev = tdpf.make_contact_matrix_function(df_google, Nc_all)\n",
    "    \n",
    "    def all_contact(t):\n",
    "        return Nc_all['total']\n",
    "\n",
    "    def all_contact_no_schools(t):\n",
    "        return Nc_all['total'] - Nc_all['schools']\n",
    "    \n",
    "    # Convert tau and l to dates\n",
    "    tau_days = pd.Timedelta(tau, unit='D')\n",
    "    l_days = pd.Timedelta(l, unit='D')\n",
    "\n",
    "    # Define additional dates where intensity or school policy changes\n",
    "    t1 = pd.Timestamp('2020-03-15') # start of lockdown\n",
    "    t2 = pd.Timestamp('2020-05-15') # gradual re-opening of schools (assume 50% of nominal scenario)\n",
    "    t3 = pd.Timestamp('2020-07-01') # start of summer holidays\n",
    "    t4 = pd.Timestamp('2020-09-01') # end of summer holidays\n",
    "\n",
    "    if t <= t1:\n",
    "        t = pd.Timestamp(t.date())\n",
    "        return all_contact(t)\n",
    "    elif t1 < t < t1 + tau_days:\n",
    "        t = pd.Timestamp(t.date())\n",
    "        return all_contact(t)\n",
    "    elif t1 + tau_days < t <= t1 + tau_days + l_days:\n",
    "        t = pd.Timestamp(t.date())\n",
    "        policy_old = all_contact(t)\n",
    "        policy_new = contact_matrix_4prev(t, prev_home, prev_schools, prev_work, prev_rest, \n",
    "                                    school=0)\n",
    "        return tdpf.delayed_ramp_fun(policy_old, policy_new, t, tau_days, l, t1)\n",
    "    elif t1 + tau_days + l_days < t <= t2:\n",
    "        t = pd.Timestamp(t.date())\n",
    "        return contact_matrix_4prev(t, prev_home, prev_schools, prev_work, prev_rest, \n",
    "                              school=0)\n",
    "    elif t2 < t <= t3:\n",
    "        t = pd.Timestamp(t.date())\n",
    "        return contact_matrix_4prev(t, prev_home, prev_schools, prev_work, prev_rest, \n",
    "                              school=0)\n",
    "    elif t3 < t <= t4:\n",
    "        t = pd.Timestamp(t.date())\n",
    "        return contact_matrix_4prev(t, prev_home, prev_schools, prev_work, prev_rest, \n",
    "                              school=0)                     \n",
    "    else:\n",
    "        t = pd.Timestamp(t.date())\n",
    "        return contact_matrix_4prev(t, prev_home, prev_schools, prev_work, prev_rest, \n",
    "                              school=0)"
   ]
  },
  {
   "cell_type": "code",
   "execution_count": null,
   "metadata": {
    "ExecuteTime": {
     "end_time": "2021-04-29T08:46:33.349596Z",
     "start_time": "2021-04-29T08:46:33.280801Z"
    }
   },
   "outputs": [],
   "source": [
    "# # Define the sloped functions defining the changes in interaction patterns. Copied from JV-calibration-COVID19-SEIRD-WAVE1-comix.ipynb\n",
    "# def wave1_policies(t, states, param, df_google, Nc_all, l , tau, \n",
    "#                    prev_schools, prev_work, prev_transport, prev_leisure, prev_others, prev_home):\n",
    "    \n",
    "#     # Convert tau and l to dates\n",
    "#     tau_days = pd.Timedelta(tau, unit='D')\n",
    "#     l_days = pd.Timedelta(l, unit='D')\n",
    "\n",
    "#     # Define additional dates where intensity or school policy changes\n",
    "#     t1 = pd.Timestamp('2020-03-15') # start of lockdown\n",
    "#     t2 = pd.Timestamp('2020-05-18') # gradual re-opening of schools (15%)\n",
    "#     t3 = pd.Timestamp('2020-06-04') # further re-opening of schools (65%)\n",
    "#     t4 = pd.Timestamp('2020-07-01') # closing schools (end calibration wave1)\n",
    "\n",
    "#     if t <= t1 + tau_days:\n",
    "#         return tdpf.contact_matrix(t, df_google, Nc_all, school=1)\n",
    "#     elif t1 + tau_days < t <= t1 + tau_days + l_days:\n",
    "#         policy_old = tdpf.contact_matrix(t, df_google, Nc_all, school=1)\n",
    "#         policy_new = tdpf.contact_matrix(t, df_google, Nc_all, prev_home, prev_schools, prev_work, prev_transport, \n",
    "#                                     prev_leisure, prev_others, school=0)\n",
    "#         return tdpf.delayed_ramp_fun(policy_old, policy_new, t, tau_days, l, t1)\n",
    "#     elif t1 + tau_days + l_days < t <= t2:\n",
    "#         return tdpf.contact_matrix(t, df_google, Nc_all, prev_home, prev_schools, prev_work, prev_transport, \n",
    "#                               prev_leisure, prev_others, school=0)\n",
    "#     elif t2 < t <= t3:\n",
    "#         return tdpf.contact_matrix(t, df_google, Nc_all, prev_home, prev_schools, prev_work, prev_transport, \n",
    "#                               prev_leisure, prev_others, school=0.15)\n",
    "#     elif t3 < t <= t4:\n",
    "#         return tdpf.contact_matrix(t, df_google, Nc_all, prev_home, prev_schools, prev_work, prev_transport, \n",
    "#                               prev_leisure, prev_others, school=0.65)\n",
    "#     else:\n",
    "#         return tdpf.contact_matrix(t, df_google, Nc_all, prev_home, prev_schools, prev_work, prev_transport, \n",
    "#                               prev_leisure, prev_others, school=0)"
   ]
  },
  {
   "cell_type": "code",
   "execution_count": 5,
   "metadata": {
    "ExecuteTime": {
     "end_time": "2021-05-03T06:30:30.227526Z",
     "start_time": "2021-05-03T06:30:13.515920Z"
    }
   },
   "outputs": [
    {
     "data": {
      "text/plain": [
       "0"
      ]
     },
     "execution_count": 5,
     "metadata": {},
     "output_type": "execute_result"
    }
   ],
   "source": [
    "# Load the parameters using `get_COVID19_SEIRD_parameters()`.\n",
    "params = model_parameters.get_COVID19_SEIRD_parameters(spatial=agg)\n",
    "\n",
    "# Add the social effect of the first lockdown (test values)\n",
    "params.update({'df_google': df_google,\n",
    "              'Nc_all' : Nc_all,\n",
    "               'l' : 5,\n",
    "               'tau' : 5,\n",
    "               'prev_schools': 0.5,\n",
    "               'prev_work': 0.5,\n",
    "               'prev_home' : 0.5,\n",
    "               'prev_rest' : 0.5\n",
    "              })\n",
    "\n",
    "\n",
    "# Add parameters for the daily update of proximus mobility\n",
    "# all_mobility_data, average_mobility_data = tdpf.load_all_mobility_data(agg)\n",
    "mobility_update_func = tdpf.make_mobility_update_func(agg, dtype='fractional', beyond_borders=False)\n",
    "params.update({'default_mobility' : None,\n",
    "               'mobility_update_func' : mobility_update_func}) # mobility defaults to average mobility of 2020 if no data is available\n",
    "#                'agg' : agg})\n",
    "\n",
    "# NOTE: the params updates below will have to be changed after the spatial vaccination update\n",
    "# Add missing parameters for vaccination (not used now, but formally necessary) {'e', 'K', 'N_vacc', 'leakiness', 'v'}\n",
    "params.update({'e' : np.zeros(initN.shape[1]),\n",
    "               'K' : 1,\n",
    "               'N_vacc' : np.zeros(initN.shape[1]),\n",
    "               'leakiness' : np.zeros(initN.shape[1]),\n",
    "               'v' : np.zeros(initN.shape[1]),\n",
    "               'injection_day' : 500, # Doesn't really matter\n",
    "               'injection_ratio' : 0})\n",
    "\n",
    "# Remove superfluous parameters\n",
    "params.pop('alpha')\n",
    "\n",
    "# Add clearly distinct infectivity parameters for demonstration for SANITY CHECK. Comment out for default beta values\n",
    "# beta_R = .01\n",
    "# beta_U = .02\n",
    "# beta_M = .03\n",
    "# params.update({'beta_R' : beta_R,\n",
    "#                'beta_U' : beta_U,\n",
    "#                'beta_M' : beta_M})"
   ]
  },
  {
   "cell_type": "markdown",
   "metadata": {
    "ExecuteTime": {
     "end_time": "2021-02-23T16:03:42.698469Z",
     "start_time": "2021-02-23T16:03:42.633642Z"
    }
   },
   "source": [
    "# Initialise model\n",
    "The spatial model must have an initial condition. There are many choices, all included in the `initial_state` function. We choose the initial distribution to be only in Brussels, and the initial exposed individual is 40-50 years old. This is to some extent an arbitrary choice, but inspired by the idea that the first case is imported by plane (Brussels-Zaventem).\n",
    "\n",
    "Other choices for initial conditions can be explored by inspection of the function description (`initial_state?`).\n",
    "\n",
    "The simulation is run and plotted once for the default parameter values to demonstrate its effect."
   ]
  },
  {
   "cell_type": "markdown",
   "metadata": {},
   "source": [
    "**THIS IS WHERE THE ERROR USED TO OCCUR**\n",
    "\n",
    "It has been fixed by removing `@lru_cache` from the function definition, and moving the mobility_dict to the model parameters."
   ]
  },
  {
   "cell_type": "code",
   "execution_count": 6,
   "metadata": {
    "ExecuteTime": {
     "end_time": "2021-05-03T06:30:47.560108Z",
     "start_time": "2021-05-03T06:30:47.509166Z"
    }
   },
   "outputs": [],
   "source": [
    "%load_ext snakeviz"
   ]
  },
  {
   "cell_type": "code",
   "execution_count": 21,
   "metadata": {
    "ExecuteTime": {
     "end_time": "2021-05-03T07:32:49.725880Z",
     "start_time": "2021-05-03T07:32:42.451713Z"
    }
   },
   "outputs": [
    {
     "name": "stdout",
     "output_type": "stream",
     "text": [
      " \n",
      "*** Profile stats marshalled to file '/var/folders/w7/zdpn9hy13k9c360rk5fb5zf80000gn/T/tmp_33jrffu'. \n",
      "Embedding SnakeViz in this document...\n"
     ]
    },
    {
     "data": {
      "text/html": [
       "\n",
       "<iframe id='snakeviz-c17d7eea-abe1-11eb-849b-acbc32bc3fb5' frameborder=0 seamless width='100%' height='1000'></iframe>\n",
       "<script>document.getElementById(\"snakeviz-c17d7eea-abe1-11eb-849b-acbc32bc3fb5\").setAttribute(\"src\", \"http://\" + document.location.hostname + \":8080/snakeviz/%2Fvar%2Ffolders%2Fw7%2Fzdpn9hy13k9c360rk5fb5zf80000gn%2FT%2Ftmp_33jrffu\")</script>\n"
      ],
      "text/plain": [
       "<IPython.core.display.HTML object>"
      ]
     },
     "metadata": {},
     "output_type": "display_data"
    }
   ],
   "source": [
    "%%snakeviz\n",
    "# Initial states: single 30 year old exposed individual in Brussels\n",
    "initE = initial_state(dist='bxl', agg=agg, age=40, number=10) # 10 40-somethings dropped in Brussels (arrival by plane)\n",
    "initial_states = {'S': initN, 'E': initE}\n",
    "\n",
    "# Initiate model with initial states, defined parameters, and wave1_policies determining the evolution of Nc\n",
    "model_wave1 = models.COVID19_SEIRD_spatial(initial_states, params, time_dependent_parameters = \\\n",
    "                                           {'Nc' : policies_wave1_4prev, 'place' : tdpf.mobility_wrapper_func}, spatial=agg)\n",
    "\n",
    "# Temporal range of the simulation\n",
    "# Note: lockdown date is defined inside the wave1_policies function\n",
    "end_date = pd.to_datetime('2020-06-15') # end simulation before gradual reopening of schools (May 18th)\n",
    "start_date = pd.to_datetime('2020-01-15')\n",
    "out = model_wave1.sim(end_date, start_date=start_date)"
   ]
  },
  {
   "cell_type": "code",
   "execution_count": null,
   "metadata": {
    "ExecuteTime": {
     "end_time": "2021-04-29T09:23:19.433655Z",
     "start_time": "2021-04-29T09:23:19.121690Z"
    }
   },
   "outputs": [],
   "source": [
    "fig, (ax1,ax2) = plt.subplots(2, 1, figsize=(14,5))\n",
    "\n",
    "place1=81000 # Arlon\n",
    "place2=21000 # Brussels\n",
    "\n",
    "infected(out.sel(place=place1), ax=ax1)\n",
    "ax1.grid(False)\n",
    "ax1.set_xlabel(None)\n",
    "ax1.set_title(f\"Evolution in {place1}.\", fontsize=14)\n",
    "ax1.set_ylabel(None)\n",
    "\n",
    "infected(out.sel(place=place2), ax=ax2)\n",
    "ax2.grid(False)\n",
    "ax2.set_xlabel(None)\n",
    "ax2.set_title(f\"Evolution in {place2}.\", fontsize=14)\n",
    "ax2.get_legend().remove()\n",
    "ax2.set_ylabel(None)\n",
    "\n",
    "for ax in fig.get_axes():\n",
    "    ax.label_outer()\n",
    "\n",
    "plt.tight_layout()\n",
    "# plt.savefig(\"test\", dpi=200)"
   ]
  },
  {
   "cell_type": "markdown",
   "metadata": {},
   "source": [
    "# Load and show all hospitalisation data per arrondissement\n",
    "The model is calibrated on daily new hospitalisations (`H_in`). This data is found in the nonpublic repository. 7-day averaged data is available from March 5th 2020. This is almost two weeks prior to the first lockdown (March 18th). Mobility data is available for this date."
   ]
  },
  {
   "cell_type": "code",
   "execution_count": null,
   "metadata": {
    "ExecuteTime": {
     "end_time": "2021-03-31T20:26:30.244383Z",
     "start_time": "2021-03-31T20:26:29.653128Z"
    }
   },
   "outputs": [],
   "source": [
    "nonpublic_ts = sciensano.get_sciensano_COVID19_data_spatial(agg=agg, values='hospitalised_IN', moving_avg=True)\n",
    "nonpublic_ts.tail(2)"
   ]
  },
  {
   "cell_type": "code",
   "execution_count": null,
   "metadata": {
    "ExecuteTime": {
     "end_time": "2021-03-31T20:27:03.737850Z",
     "start_time": "2021-03-31T20:27:01.267273Z"
    }
   },
   "outputs": [],
   "source": [
    "# Show all 43 time series and one selection\n",
    "fig, (ax2, ax3) = plt.subplots(2, 1, figsize=(16, 4))\n",
    "\n",
    "nonpublic_ts.plot(ax=ax2, linewidth=0, kind='area')\n",
    "ax2.legend().remove()\n",
    "ax2.grid(False)\n",
    "xlabel=ax2.set_xlabel(None)\n",
    "title=ax2.set_title(f'Daily new hospitalisations per {agg} (7-day moving average)')\n",
    "ylim=ax2.set_ylim([0, 600])\n",
    "\n",
    "# Add data for one NIS\n",
    "NIS_choice=21000\n",
    "nonpublic_ts[[NIS_choice]].plot(ax=ax3)\n",
    "# ax3.legend().remove()\n",
    "ax3.grid(False)\n",
    "# title=ax3.set_title(f'Daily new hospitalisations for NIS {NIS_choice} (7-day moving average)')\n",
    "\n",
    "for ax in fig.get_axes():\n",
    "    ax.label_outer()"
   ]
  },
  {
   "cell_type": "markdown",
   "metadata": {},
   "source": [
    "# Calibration\n",
    "\n",
    "The code below is mostly copied from `JV-calibration-COVID19-SEIRD-WAVE1.ipynb` and the functions used there."
   ]
  },
  {
   "cell_type": "code",
   "execution_count": null,
   "metadata": {
    "ExecuteTime": {
     "end_time": "2021-03-29T11:02:42.379615Z",
     "start_time": "2021-03-29T11:02:42.297448Z"
    }
   },
   "outputs": [],
   "source": [
    "# Date of first data collection\n",
    "start_calibration = '2020-03-05' # first available date\n",
    "# Last datapoint used to calibrate prevention parameters\n",
    "end_calibration = '2020-07-01'\n",
    "\n",
    "# Path where figures should be stored\n",
    "fig_path = '../../results/calibrations/COVID19_SEIRD/national/'\n",
    "# Path where MCMC samples should be saved\n",
    "samples_path = '../../data/interim/model_parameters/COVID19_SEIRD/calibrations/national/'\n",
    "# Spatial unit: identifier\n",
    "spatial_unit = f'{agg}_willem2012_prev_thin'"
   ]
  },
  {
   "cell_type": "code",
   "execution_count": null,
   "metadata": {
    "ExecuteTime": {
     "end_time": "2021-03-29T11:02:42.459929Z",
     "start_time": "2021-03-29T11:02:42.379615Z"
    }
   },
   "outputs": [],
   "source": [
    "# define dataset from the start and end date\n",
    "data=[nonpublic_ts[start_calibration:end_calibration]]\n",
    "\n",
    "# Define the compartment that the calibration will be looking at\n",
    "states = [[\"H_in\"]]"
   ]
  },
  {
   "cell_type": "code",
   "execution_count": null,
   "metadata": {
    "ExecuteTime": {
     "end_time": "2021-03-29T11:02:42.539722Z",
     "start_time": "2021-03-29T11:02:42.459929Z"
    }
   },
   "outputs": [],
   "source": [
    "# Initial value for warmup time\n",
    "init_warmup = 30\n",
    "\n",
    "# Parameters for PSO\n",
    "maxiter = 100\n",
    "popsize = 5\n",
    "\n",
    "# Number of parallel processors used\n",
    "processes = 4\n",
    "\n",
    "# Parameters for MCMC\n",
    "steps_mcmc = 3000 #3000\n",
    "discard = 1000 #1000"
   ]
  },
  {
   "cell_type": "code",
   "execution_count": null,
   "metadata": {
    "ExecuteTime": {
     "end_time": "2021-03-29T11:02:42.619850Z",
     "start_time": "2021-03-29T11:02:42.539722Z"
    }
   },
   "outputs": [],
   "source": [
    "############################################################\n",
    "####### CALIBRATING WARMUP, BETA AND COMPLIANCE RAMP #######\n",
    "############################################################\n",
    "\n",
    "print('------------------------------------')\n",
    "print('CALIBRATING BETA AND COMPLIANCE RAMP')\n",
    "print('------------------------------------\\n')\n",
    "print('Using data from '+start_calibration+' until '+end_calibration+'\\n')\n",
    "print('1) Particle swarm optimization\\n')\n",
    "\n",
    "# set PSO optimisation settings\n",
    "parNames = ['warmup', 'beta_R', 'beta_U', 'beta_M', 'l', 'tau']\n",
    "bounds=((10,80), (0.010,0.060), (0.010,0.060), (0.010,0.060), (0.1,20), (0.1,20))\n",
    "\n",
    "# run PSO optimisation\n",
    "# theta_pso = pso.fit_pso(model_wave1,data,parNames,states,bounds,maxiter=maxiter,popsize=popsize,\n",
    "#                     start_date=start_calibration,warmup=init_warmup, processes=processes, dist='poisson', poisson_offset=1, agg=agg) \n",
    "# warmup = int(theta_pso[-1])"
   ]
  },
  {
   "cell_type": "markdown",
   "metadata": {},
   "source": [
    "# Scratches"
   ]
  },
  {
   "cell_type": "markdown",
   "metadata": {},
   "source": [
    "## Only show upper graph of H_in timeseries"
   ]
  },
  {
   "cell_type": "code",
   "execution_count": null,
   "metadata": {
    "ExecuteTime": {
     "end_time": "2021-03-31T20:34:40.924516Z",
     "start_time": "2021-03-31T20:34:35.635244Z"
    }
   },
   "outputs": [],
   "source": [
    "# Show all 43 time series and one selection\n",
    "fig, ax69 = plt.subplots(figsize=(12, 7))\n",
    "\n",
    "nonpublic_ts.plot(ax=ax69, linewidth=0, kind='area')\n",
    "ax69.legend().remove()\n",
    "ax69.grid(False)\n",
    "xlabel=ax69.set_xlabel(None)\n",
    "ylabel=ax69.set_ylabel(r'$H_{in}$',size=18)\n",
    "title=ax69.set_title(f'Daily new hospitalisations per arrondissement (7-day moving average)', size=18)\n",
    "ylim=ax69.set_ylim([0, 650])\n",
    "\n",
    "plt.savefig(\"daily-new-hosp_arr_until-31032021\", dpi=400, bbox_inches='tight')"
   ]
  },
  {
   "cell_type": "markdown",
   "metadata": {},
   "source": [
    "## Plot preliminary results from PSO"
   ]
  },
  {
   "cell_type": "code",
   "execution_count": null,
   "metadata": {
    "ExecuteTime": {
     "end_time": "2021-03-31T11:51:26.747064Z",
     "start_time": "2021-03-31T11:51:16.577998Z"
    }
   },
   "outputs": [],
   "source": [
    "# Fill in data from PSO (ran from console)\n",
    "#initial conditions\n",
    "initE = initial_state(dist='bxl', agg=agg, age=40, number=1) # 1 40-somethings dropped in Brussels (arrival by plane)\n",
    "initial_states = {'S': initN, 'E': initE}\n",
    "#parameters\n",
    "params.update({\"beta_R\": 0.05911714228791011, # taken from corner plot\n",
    "               \"beta_U\": 0.05807289680441654, # taken from corner plot\n",
    "               \"beta_M\": 0.05370565085646678, # taken from corner plot\n",
    "               \"l\": 12.93255574616446, # taken from corner plot\n",
    "               \"tau\": 0.1}) # fixed\n",
    "warmup=35 # taken from PSO\n",
    "start_calibration = '2020-03-05'\n",
    "\n",
    "# Execute simulation with these data\n",
    "#initiate model with initial states, defined parameters, and wave1_policies determining the evolution of Nc\n",
    "model_wave1 = models.COVID19_SEIRD_spatial(initial_states, params, time_dependent_parameters = \\\n",
    "                                           {'Nc' : tdpf.wave1_policies, 'place' : tdpf.mobility_update_func}, spatial=agg)\n",
    "#simulate\n",
    "out = model_wave1.sim(end_date, start_date=start_calibration, warmup=warmup)#, N=2)"
   ]
  },
  {
   "cell_type": "code",
   "execution_count": null,
   "metadata": {
    "ExecuteTime": {
     "end_time": "2021-03-31T11:51:37.133403Z",
     "start_time": "2021-03-31T11:51:36.875754Z"
    }
   },
   "outputs": [],
   "source": [
    "# sum total\n",
    "fig, ax = plt.subplots(figsize=(16,5))\n",
    "\n",
    "out[\"H_in\"].sum(dim='Nc').sum(dim='place').plot(ax=ax, label='simulation')\n",
    "nonpublic_ts.sum(axis=1).plot(ax=ax, label='data', style='.')\n",
    "plt.plot()\n",
    "ax.grid(False)\n",
    "ax.legend()\n",
    "title=ax.set_title(\"Comparison between preliminary PSO results and Sciensano data. Summed over all NIS codes.\")"
   ]
  },
  {
   "cell_type": "code",
   "execution_count": null,
   "metadata": {
    "ExecuteTime": {
     "end_time": "2021-03-31T12:03:21.576911Z",
     "start_time": "2021-03-31T12:03:21.328613Z"
    }
   },
   "outputs": [],
   "source": [
    "# Individual\n",
    "NIS=11000\n",
    "\n",
    "fig, ax = plt.subplots(figsize=(16,5))\n",
    "\n",
    "out[\"H_in\"].sum(dim='Nc').sel(place=NIS).plot(ax=ax, label='simulation')\n",
    "nonpublic_ts[[NIS]].plot(ax=ax, label='data', style='.')\n",
    "plt.plot()\n",
    "ax.grid(False)\n",
    "ax.legend()\n",
    "title=ax.set_title(\"Comparison between preliminary PSO results and Sciensano data. For one NIS code.\")"
   ]
  },
  {
   "cell_type": "code",
   "execution_count": null,
   "metadata": {
    "ExecuteTime": {
     "end_time": "2021-03-30T22:05:42.701257Z",
     "start_time": "2021-03-30T22:05:42.382450Z"
    }
   },
   "outputs": [],
   "source": [
    "df_sciensano = sciensano.get_sciensano_COVID19_data_spatial(agg=agg, moving_avg=True, values='hospitalised_IN')\n",
    "\n",
    "fig,ax = plt.subplots(figsize=(10,5))\n",
    "ax.scatter(df_sciensano.index, df_sciensano[[32000]], color='black', alpha=0.6, linestyle='None', facecolors='none', s=60, linewidth=2)"
   ]
  },
  {
   "cell_type": "markdown",
   "metadata": {},
   "source": [
    "## Test the relation between length of `l` and execution time\n",
    "I suspect that low `l` values imply that the discontinuity is 'stronger', meaning that the ODE solver needs more time steps"
   ]
  },
  {
   "cell_type": "code",
   "execution_count": null,
   "metadata": {
    "ExecuteTime": {
     "end_time": "2021-03-30T21:10:16.527986Z",
     "start_time": "2021-03-30T21:06:52.077623Z"
    }
   },
   "outputs": [],
   "source": [
    "# Fill in data from PSO (ran from console)\n",
    "#initial conditions\n",
    "initE = initial_state(dist='bxl', agg=agg, age=40, number=1) # 1 40-somethings dropped in Brussels (arrival by plane)\n",
    "initial_states = {'S': initN, 'E': initE}\n",
    "\n",
    "import time\n",
    "\n",
    "lrange = list(np.arange(1,20,1))\n",
    "times = np.array([])\n",
    "\n",
    "for l in np.arange(1, 20, 1):\n",
    "    start_time = time.time()\n",
    "    # execute code\n",
    "    params.update({\"beta_R\": 0.0502,\n",
    "                   \"beta_U\": 0.0350,\n",
    "                   \"beta_M\": 0.035,\n",
    "                   \"l\": l, #\n",
    "                   \"tau\": 0.1}) # fixed\n",
    "    warmup=59\n",
    "    start_calibration = '2020-03-05'\n",
    "\n",
    "    # Execute simulation with these data\n",
    "    #initiate model with initial states, defined parameters, and wave1_policies determining the evolution of Nc\n",
    "    model_wave1 = models.COVID19_SEIRD_spatial(initial_states, params, time_dependent_parameters = \\\n",
    "                                               {'Nc' : tdpf.wave1_policies, 'place' : tdpf.mobility_update_func}, spatial=agg)\n",
    "    #simulate\n",
    "    out = model_wave1.sim(end_date, start_date=start_calibration, warmup=warmup)#, N=2)\n",
    "    \n",
    "    time_it_took = time.time() - start_time\n",
    "    times = np.append(times, time_it_took)"
   ]
  },
  {
   "cell_type": "code",
   "execution_count": null,
   "metadata": {
    "ExecuteTime": {
     "end_time": "2021-03-30T21:12:18.463573Z",
     "start_time": "2021-03-30T21:12:17.760747Z"
    }
   },
   "outputs": [],
   "source": [
    "# Actually kind of the opposite of what I was expecting\n",
    "fig, ax = plt.subplots(figsize=(15,5))\n",
    "ax.plot(lrange,times)\n",
    "ax.set_xlabel('$l$ compliance value', size=18)\n",
    "ax.set_ylabel('Computation time (s)', size=18)"
   ]
  },
  {
   "cell_type": "code",
   "execution_count": null,
   "metadata": {
    "ExecuteTime": {
     "end_time": "2021-03-31T15:58:04.693780Z",
     "start_time": "2021-03-31T15:58:04.624674Z"
    }
   },
   "outputs": [],
   "source": [
    "test = np.array([[1, 2, 3], [4, np.nan, 6]])\n",
    "np.nanmin(test)"
   ]
  },
  {
   "cell_type": "markdown",
   "metadata": {},
   "source": [
    "## Manual code for plotting from samples_dict"
   ]
  },
  {
   "cell_type": "code",
   "execution_count": null,
   "metadata": {
    "ExecuteTime": {
     "end_time": "2021-03-31T11:51:02.123364Z",
     "start_time": "2021-03-31T11:51:02.046435Z"
    }
   },
   "outputs": [],
   "source": [
    "import json\n",
    "import random\n",
    "\n",
    "dict_file = \"../../data/interim/model_parameters/COVID19_SEIRD/calibrations/arr/arr_willem2012_warmup_betas_comp_BETAs-comp_2021-03-31.json\"\n",
    "\n",
    "# Copied from mrollier-calibration_wave1\n",
    "def draw_fcn(param_dict,samples_dict):\n",
    "    # pick one random value from the dictionary\n",
    "    idx, param_dict['beta_R'] = random.choice(list(enumerate(samples_dict['beta_R'])))\n",
    "    # take out the other parameters that belong to the same iteration\n",
    "    param_dict['beta_U'] = samples_dict['beta_U'][idx]\n",
    "    param_dict['beta_M'] = samples_dict['beta_M'][idx]\n",
    "    param_dict['l'] = samples_dict['l'][idx]\n",
    "    return param_dict\n",
    "\n",
    "with open(dict_file) as json_file:\n",
    "    param_dict = json.load(json_file)\n",
    "    \n",
    "np.median(param_dict['l'])"
   ]
  },
  {
   "cell_type": "code",
   "execution_count": null,
   "metadata": {
    "ExecuteTime": {
     "end_time": "2021-03-31T18:18:02.184464Z",
     "start_time": "2021-03-31T18:18:02.104886Z"
    }
   },
   "outputs": [],
   "source": [
    "theta_pso = np.array([0.05, 0.04, 0.03, 15])\n",
    "nwalkers=50\n",
    "\n",
    "perturbation_beta_fraction = 1e-2\n",
    "perturbation_comp_fraction = 10e-2\n",
    "perturbations_beta = theta_pso[:3] * perturbation_beta_fraction * np.random.uniform(low=-1,high=1,size=(nwalkers,3))\n",
    "perturbations_comp = theta_pso[3:] * perturbation_comp_fraction * np.random.uniform(low=-1,high=1,size=(nwalkers,1))\n",
    "perturbations = np.concatenate((perturbations_beta,perturbations_comp), axis=1)\n",
    "pos = theta_pso + perturbations\n",
    "\n",
    "np.linalg.cond(pos)\n",
    "\n",
    "# np.linalg.cond(np.array([[1, 2], [2, 4]]))"
   ]
  },
  {
   "cell_type": "code",
   "execution_count": null,
   "metadata": {
    "ExecuteTime": {
     "end_time": "2021-03-31T20:53:36.926522Z",
     "start_time": "2021-03-31T20:53:33.250879Z"
    }
   },
   "outputs": [],
   "source": [
    "fig, ax = plt.subplots(figsize=(12,5))\n",
    "df_google[['retail_recreation']].plot(ax=ax)\n",
    "df_google[['work']].plot(ax=ax)\n",
    "ax.set_ylabel('percentage to baseline', size=20)\n",
    "ax.set_xlabel(None)\n",
    "plt.legend(prop={'size':18})\n",
    "ax.grid(False)\n",
    "\n",
    "plt.savefig(\"Google-mob-data_retail-and-work.png\", dpi=400, bbox_inches='tight')"
   ]
  },
  {
   "cell_type": "markdown",
   "metadata": {},
   "source": [
    "## Sketch book"
   ]
  }
 ],
 "metadata": {
  "kernelspec": {
   "display_name": "Python 3",
   "language": "python",
   "name": "python3"
  },
  "language_info": {
   "codemirror_mode": {
    "name": "ipython",
    "version": 3
   },
   "file_extension": ".py",
   "mimetype": "text/x-python",
   "name": "python",
   "nbconvert_exporter": "python",
   "pygments_lexer": "ipython3",
   "version": "3.8.2"
  },
  "toc": {
   "base_numbering": 1,
   "nav_menu": {},
   "number_sections": true,
   "sideBar": true,
   "skip_h1_title": false,
   "title_cell": "Table of Contents",
   "title_sidebar": "Contents",
   "toc_cell": false,
   "toc_position": {},
   "toc_section_display": true,
   "toc_window_display": false
  }
 },
 "nbformat": 4,
 "nbformat_minor": 2
}
