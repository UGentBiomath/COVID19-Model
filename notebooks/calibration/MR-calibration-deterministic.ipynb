{
 "cells": [
  {
   "cell_type": "markdown",
   "metadata": {},
   "source": [
    "**Calibration of the age-stratified deterministic model**\n",
    "\n",
    "*Original code by Ryan S. McGee. Modified by T.W. Alleman in consultation with the BIOMATH research unit headed by prof. Ingmar Nopens.*\n",
    "\n",
    "*Based on the structure in JV-calibration-deterministic-provinces*\n",
    "\n",
    "Copyright (c) 2020 by T.W. Alleman, BIOMATH, Ghent University. All Rights Reserved.\n",
    "\n",
    "This notebook accompanies our preprint: \"*A deterministic, age-stratified, extended SEIRD model for assessing the effect of non-pharmaceutical interventions on SARS-CoV-2 spread in Belgium*\"(https://doi.org/10.1101/2020.07.17.20156034)"
   ]
  },
  {
   "cell_type": "markdown",
   "metadata": {},
   "source": [
    "# Load required packages"
   ]
  },
  {
   "cell_type": "code",
   "execution_count": 1,
   "metadata": {
    "ExecuteTime": {
     "end_time": "2020-11-12T07:48:05.078860Z",
     "start_time": "2020-11-12T07:48:03.287799Z"
    }
   },
   "outputs": [],
   "source": [
    "import random\n",
    "import os\n",
    "import numpy as np\n",
    "%matplotlib notebook\n",
    "import matplotlib.pyplot as plt\n",
    "from IPython.display import Image\n",
    "from ipywidgets import interact,fixed,FloatSlider,IntSlider,ToggleButtons\n",
    "import pandas as pd\n",
    "from datetime import datetime, timedelta\n",
    "import datetime\n",
    "import scipy\n",
    "from scipy.integrate import odeint\n",
    "from scipy.stats import norm\n",
    "import matplotlib.dates as mdates\n",
    "import matplotlib\n",
    "import scipy.stats as st\n",
    "\n",
    "import math\n",
    "import xarray as xr\n",
    "import emcee\n",
    "import json\n",
    "import corner\n",
    "\n",
    "from covid19model.optimization import objective_fcns\n",
    "from covid19model.models import models\n",
    "from covid19model.data import google\n",
    "from covid19model.data import sciensano\n",
    "from covid19model.data import model_parameters\n",
    "from covid19model.visualization.output import population_status, infected\n",
    "from covid19model.visualization.optimization import plot_fit, traceplot\n",
    "from covid19model.optimization.run_optimization import full_calibration_wave1, full_calibration_wave2\n",
    "from covid19model.models.utils import draw_sample_COVID19_SEIRD\n",
    "from covid19model.models.time_dependant_parameter_fncs import ramp_fun, lockdown_func, policies_until_september\n",
    "\n",
    "# OPTIONAL: Load the \"autoreload\" extension so that package code can change\n",
    "%load_ext autoreload\n",
    "# OPTIONAL: always reload modules so that as you change code in src, it gets loaded\n",
    "%autoreload 2"
   ]
  },
  {
   "cell_type": "markdown",
   "metadata": {},
   "source": [
    "# Get public data"
   ]
  },
  {
   "cell_type": "code",
   "execution_count": 2,
   "metadata": {
    "ExecuteTime": {
     "end_time": "2020-11-12T07:48:12.793650Z",
     "start_time": "2020-11-12T07:48:12.727401Z"
    }
   },
   "outputs": [],
   "source": [
    "#df_sciensano = sciensano.get_sciensano_COVID19_data(update=True)"
   ]
  },
  {
   "cell_type": "code",
   "execution_count": 3,
   "metadata": {
    "ExecuteTime": {
     "end_time": "2020-11-12T07:48:13.120205Z",
     "start_time": "2020-11-12T07:48:13.002833Z"
    }
   },
   "outputs": [],
   "source": [
    "raw_hosp_data = pd.read_csv('../data/raw/sciensano/COVID19BE_HOSP.csv', parse_dates=['DATE'])\n",
    "timeseries_H_in_national = pd.pivot_table(raw_hosp_data, values='NEW_IN', index='DATE', aggfunc=np.sum)\n",
    "\n",
    "Hainaut_hosp_data = raw_hosp_data[raw_hosp_data.PROVINCE=='Hainaut']\n",
    "Hainaut_ts = Hainaut_hosp_data[['DATE','NEW_IN']].set_index('DATE')\n",
    "timeseries_H_in_hainaut = Hainaut_ts[['NEW_IN']]"
   ]
  },
  {
   "cell_type": "code",
   "execution_count": 4,
   "metadata": {
    "ExecuteTime": {
     "end_time": "2020-11-12T07:48:13.482129Z",
     "start_time": "2020-11-12T07:48:13.340507Z"
    }
   },
   "outputs": [
    {
     "data": {
      "application/javascript": [
       "/* Put everything inside the global mpl namespace */\n",
       "window.mpl = {};\n",
       "\n",
       "\n",
       "mpl.get_websocket_type = function() {\n",
       "    if (typeof(WebSocket) !== 'undefined') {\n",
       "        return WebSocket;\n",
       "    } else if (typeof(MozWebSocket) !== 'undefined') {\n",
       "        return MozWebSocket;\n",
       "    } else {\n",
       "        alert('Your browser does not have WebSocket support. ' +\n",
       "              'Please try Chrome, Safari or Firefox ≥ 6. ' +\n",
       "              'Firefox 4 and 5 are also supported but you ' +\n",
       "              'have to enable WebSockets in about:config.');\n",
       "    };\n",
       "}\n",
       "\n",
       "mpl.figure = function(figure_id, websocket, ondownload, parent_element) {\n",
       "    this.id = figure_id;\n",
       "\n",
       "    this.ws = websocket;\n",
       "\n",
       "    this.supports_binary = (this.ws.binaryType != undefined);\n",
       "\n",
       "    if (!this.supports_binary) {\n",
       "        var warnings = document.getElementById(\"mpl-warnings\");\n",
       "        if (warnings) {\n",
       "            warnings.style.display = 'block';\n",
       "            warnings.textContent = (\n",
       "                \"This browser does not support binary websocket messages. \" +\n",
       "                    \"Performance may be slow.\");\n",
       "        }\n",
       "    }\n",
       "\n",
       "    this.imageObj = new Image();\n",
       "\n",
       "    this.context = undefined;\n",
       "    this.message = undefined;\n",
       "    this.canvas = undefined;\n",
       "    this.rubberband_canvas = undefined;\n",
       "    this.rubberband_context = undefined;\n",
       "    this.format_dropdown = undefined;\n",
       "\n",
       "    this.image_mode = 'full';\n",
       "\n",
       "    this.root = $('<div/>');\n",
       "    this._root_extra_style(this.root)\n",
       "    this.root.attr('style', 'display: inline-block');\n",
       "\n",
       "    $(parent_element).append(this.root);\n",
       "\n",
       "    this._init_header(this);\n",
       "    this._init_canvas(this);\n",
       "    this._init_toolbar(this);\n",
       "\n",
       "    var fig = this;\n",
       "\n",
       "    this.waiting = false;\n",
       "\n",
       "    this.ws.onopen =  function () {\n",
       "            fig.send_message(\"supports_binary\", {value: fig.supports_binary});\n",
       "            fig.send_message(\"send_image_mode\", {});\n",
       "            if (mpl.ratio != 1) {\n",
       "                fig.send_message(\"set_dpi_ratio\", {'dpi_ratio': mpl.ratio});\n",
       "            }\n",
       "            fig.send_message(\"refresh\", {});\n",
       "        }\n",
       "\n",
       "    this.imageObj.onload = function() {\n",
       "            if (fig.image_mode == 'full') {\n",
       "                // Full images could contain transparency (where diff images\n",
       "                // almost always do), so we need to clear the canvas so that\n",
       "                // there is no ghosting.\n",
       "                fig.context.clearRect(0, 0, fig.canvas.width, fig.canvas.height);\n",
       "            }\n",
       "            fig.context.drawImage(fig.imageObj, 0, 0);\n",
       "        };\n",
       "\n",
       "    this.imageObj.onunload = function() {\n",
       "        fig.ws.close();\n",
       "    }\n",
       "\n",
       "    this.ws.onmessage = this._make_on_message_function(this);\n",
       "\n",
       "    this.ondownload = ondownload;\n",
       "}\n",
       "\n",
       "mpl.figure.prototype._init_header = function() {\n",
       "    var titlebar = $(\n",
       "        '<div class=\"ui-dialog-titlebar ui-widget-header ui-corner-all ' +\n",
       "        'ui-helper-clearfix\"/>');\n",
       "    var titletext = $(\n",
       "        '<div class=\"ui-dialog-title\" style=\"width: 100%; ' +\n",
       "        'text-align: center; padding: 3px;\"/>');\n",
       "    titlebar.append(titletext)\n",
       "    this.root.append(titlebar);\n",
       "    this.header = titletext[0];\n",
       "}\n",
       "\n",
       "\n",
       "\n",
       "mpl.figure.prototype._canvas_extra_style = function(canvas_div) {\n",
       "\n",
       "}\n",
       "\n",
       "\n",
       "mpl.figure.prototype._root_extra_style = function(canvas_div) {\n",
       "\n",
       "}\n",
       "\n",
       "mpl.figure.prototype._init_canvas = function() {\n",
       "    var fig = this;\n",
       "\n",
       "    var canvas_div = $('<div/>');\n",
       "\n",
       "    canvas_div.attr('style', 'position: relative; clear: both; outline: 0');\n",
       "\n",
       "    function canvas_keyboard_event(event) {\n",
       "        return fig.key_event(event, event['data']);\n",
       "    }\n",
       "\n",
       "    canvas_div.keydown('key_press', canvas_keyboard_event);\n",
       "    canvas_div.keyup('key_release', canvas_keyboard_event);\n",
       "    this.canvas_div = canvas_div\n",
       "    this._canvas_extra_style(canvas_div)\n",
       "    this.root.append(canvas_div);\n",
       "\n",
       "    var canvas = $('<canvas/>');\n",
       "    canvas.addClass('mpl-canvas');\n",
       "    canvas.attr('style', \"left: 0; top: 0; z-index: 0; outline: 0\")\n",
       "\n",
       "    this.canvas = canvas[0];\n",
       "    this.context = canvas[0].getContext(\"2d\");\n",
       "\n",
       "    var backingStore = this.context.backingStorePixelRatio ||\n",
       "\tthis.context.webkitBackingStorePixelRatio ||\n",
       "\tthis.context.mozBackingStorePixelRatio ||\n",
       "\tthis.context.msBackingStorePixelRatio ||\n",
       "\tthis.context.oBackingStorePixelRatio ||\n",
       "\tthis.context.backingStorePixelRatio || 1;\n",
       "\n",
       "    mpl.ratio = (window.devicePixelRatio || 1) / backingStore;\n",
       "\n",
       "    var rubberband = $('<canvas/>');\n",
       "    rubberband.attr('style', \"position: absolute; left: 0; top: 0; z-index: 1;\")\n",
       "\n",
       "    var pass_mouse_events = true;\n",
       "\n",
       "    canvas_div.resizable({\n",
       "        start: function(event, ui) {\n",
       "            pass_mouse_events = false;\n",
       "        },\n",
       "        resize: function(event, ui) {\n",
       "            fig.request_resize(ui.size.width, ui.size.height);\n",
       "        },\n",
       "        stop: function(event, ui) {\n",
       "            pass_mouse_events = true;\n",
       "            fig.request_resize(ui.size.width, ui.size.height);\n",
       "        },\n",
       "    });\n",
       "\n",
       "    function mouse_event_fn(event) {\n",
       "        if (pass_mouse_events)\n",
       "            return fig.mouse_event(event, event['data']);\n",
       "    }\n",
       "\n",
       "    rubberband.mousedown('button_press', mouse_event_fn);\n",
       "    rubberband.mouseup('button_release', mouse_event_fn);\n",
       "    // Throttle sequential mouse events to 1 every 20ms.\n",
       "    rubberband.mousemove('motion_notify', mouse_event_fn);\n",
       "\n",
       "    rubberband.mouseenter('figure_enter', mouse_event_fn);\n",
       "    rubberband.mouseleave('figure_leave', mouse_event_fn);\n",
       "\n",
       "    canvas_div.on(\"wheel\", function (event) {\n",
       "        event = event.originalEvent;\n",
       "        event['data'] = 'scroll'\n",
       "        if (event.deltaY < 0) {\n",
       "            event.step = 1;\n",
       "        } else {\n",
       "            event.step = -1;\n",
       "        }\n",
       "        mouse_event_fn(event);\n",
       "    });\n",
       "\n",
       "    canvas_div.append(canvas);\n",
       "    canvas_div.append(rubberband);\n",
       "\n",
       "    this.rubberband = rubberband;\n",
       "    this.rubberband_canvas = rubberband[0];\n",
       "    this.rubberband_context = rubberband[0].getContext(\"2d\");\n",
       "    this.rubberband_context.strokeStyle = \"#000000\";\n",
       "\n",
       "    this._resize_canvas = function(width, height) {\n",
       "        // Keep the size of the canvas, canvas container, and rubber band\n",
       "        // canvas in synch.\n",
       "        canvas_div.css('width', width)\n",
       "        canvas_div.css('height', height)\n",
       "\n",
       "        canvas.attr('width', width * mpl.ratio);\n",
       "        canvas.attr('height', height * mpl.ratio);\n",
       "        canvas.attr('style', 'width: ' + width + 'px; height: ' + height + 'px;');\n",
       "\n",
       "        rubberband.attr('width', width);\n",
       "        rubberband.attr('height', height);\n",
       "    }\n",
       "\n",
       "    // Set the figure to an initial 600x600px, this will subsequently be updated\n",
       "    // upon first draw.\n",
       "    this._resize_canvas(600, 600);\n",
       "\n",
       "    // Disable right mouse context menu.\n",
       "    $(this.rubberband_canvas).bind(\"contextmenu\",function(e){\n",
       "        return false;\n",
       "    });\n",
       "\n",
       "    function set_focus () {\n",
       "        canvas.focus();\n",
       "        canvas_div.focus();\n",
       "    }\n",
       "\n",
       "    window.setTimeout(set_focus, 100);\n",
       "}\n",
       "\n",
       "mpl.figure.prototype._init_toolbar = function() {\n",
       "    var fig = this;\n",
       "\n",
       "    var nav_element = $('<div/>');\n",
       "    nav_element.attr('style', 'width: 100%');\n",
       "    this.root.append(nav_element);\n",
       "\n",
       "    // Define a callback function for later on.\n",
       "    function toolbar_event(event) {\n",
       "        return fig.toolbar_button_onclick(event['data']);\n",
       "    }\n",
       "    function toolbar_mouse_event(event) {\n",
       "        return fig.toolbar_button_onmouseover(event['data']);\n",
       "    }\n",
       "\n",
       "    for(var toolbar_ind in mpl.toolbar_items) {\n",
       "        var name = mpl.toolbar_items[toolbar_ind][0];\n",
       "        var tooltip = mpl.toolbar_items[toolbar_ind][1];\n",
       "        var image = mpl.toolbar_items[toolbar_ind][2];\n",
       "        var method_name = mpl.toolbar_items[toolbar_ind][3];\n",
       "\n",
       "        if (!name) {\n",
       "            // put a spacer in here.\n",
       "            continue;\n",
       "        }\n",
       "        var button = $('<button/>');\n",
       "        button.addClass('ui-button ui-widget ui-state-default ui-corner-all ' +\n",
       "                        'ui-button-icon-only');\n",
       "        button.attr('role', 'button');\n",
       "        button.attr('aria-disabled', 'false');\n",
       "        button.click(method_name, toolbar_event);\n",
       "        button.mouseover(tooltip, toolbar_mouse_event);\n",
       "\n",
       "        var icon_img = $('<span/>');\n",
       "        icon_img.addClass('ui-button-icon-primary ui-icon');\n",
       "        icon_img.addClass(image);\n",
       "        icon_img.addClass('ui-corner-all');\n",
       "\n",
       "        var tooltip_span = $('<span/>');\n",
       "        tooltip_span.addClass('ui-button-text');\n",
       "        tooltip_span.html(tooltip);\n",
       "\n",
       "        button.append(icon_img);\n",
       "        button.append(tooltip_span);\n",
       "\n",
       "        nav_element.append(button);\n",
       "    }\n",
       "\n",
       "    var fmt_picker_span = $('<span/>');\n",
       "\n",
       "    var fmt_picker = $('<select/>');\n",
       "    fmt_picker.addClass('mpl-toolbar-option ui-widget ui-widget-content');\n",
       "    fmt_picker_span.append(fmt_picker);\n",
       "    nav_element.append(fmt_picker_span);\n",
       "    this.format_dropdown = fmt_picker[0];\n",
       "\n",
       "    for (var ind in mpl.extensions) {\n",
       "        var fmt = mpl.extensions[ind];\n",
       "        var option = $(\n",
       "            '<option/>', {selected: fmt === mpl.default_extension}).html(fmt);\n",
       "        fmt_picker.append(option);\n",
       "    }\n",
       "\n",
       "    // Add hover states to the ui-buttons\n",
       "    $( \".ui-button\" ).hover(\n",
       "        function() { $(this).addClass(\"ui-state-hover\");},\n",
       "        function() { $(this).removeClass(\"ui-state-hover\");}\n",
       "    );\n",
       "\n",
       "    var status_bar = $('<span class=\"mpl-message\"/>');\n",
       "    nav_element.append(status_bar);\n",
       "    this.message = status_bar[0];\n",
       "}\n",
       "\n",
       "mpl.figure.prototype.request_resize = function(x_pixels, y_pixels) {\n",
       "    // Request matplotlib to resize the figure. Matplotlib will then trigger a resize in the client,\n",
       "    // which will in turn request a refresh of the image.\n",
       "    this.send_message('resize', {'width': x_pixels, 'height': y_pixels});\n",
       "}\n",
       "\n",
       "mpl.figure.prototype.send_message = function(type, properties) {\n",
       "    properties['type'] = type;\n",
       "    properties['figure_id'] = this.id;\n",
       "    this.ws.send(JSON.stringify(properties));\n",
       "}\n",
       "\n",
       "mpl.figure.prototype.send_draw_message = function() {\n",
       "    if (!this.waiting) {\n",
       "        this.waiting = true;\n",
       "        this.ws.send(JSON.stringify({type: \"draw\", figure_id: this.id}));\n",
       "    }\n",
       "}\n",
       "\n",
       "\n",
       "mpl.figure.prototype.handle_save = function(fig, msg) {\n",
       "    var format_dropdown = fig.format_dropdown;\n",
       "    var format = format_dropdown.options[format_dropdown.selectedIndex].value;\n",
       "    fig.ondownload(fig, format);\n",
       "}\n",
       "\n",
       "\n",
       "mpl.figure.prototype.handle_resize = function(fig, msg) {\n",
       "    var size = msg['size'];\n",
       "    if (size[0] != fig.canvas.width || size[1] != fig.canvas.height) {\n",
       "        fig._resize_canvas(size[0], size[1]);\n",
       "        fig.send_message(\"refresh\", {});\n",
       "    };\n",
       "}\n",
       "\n",
       "mpl.figure.prototype.handle_rubberband = function(fig, msg) {\n",
       "    var x0 = msg['x0'] / mpl.ratio;\n",
       "    var y0 = (fig.canvas.height - msg['y0']) / mpl.ratio;\n",
       "    var x1 = msg['x1'] / mpl.ratio;\n",
       "    var y1 = (fig.canvas.height - msg['y1']) / mpl.ratio;\n",
       "    x0 = Math.floor(x0) + 0.5;\n",
       "    y0 = Math.floor(y0) + 0.5;\n",
       "    x1 = Math.floor(x1) + 0.5;\n",
       "    y1 = Math.floor(y1) + 0.5;\n",
       "    var min_x = Math.min(x0, x1);\n",
       "    var min_y = Math.min(y0, y1);\n",
       "    var width = Math.abs(x1 - x0);\n",
       "    var height = Math.abs(y1 - y0);\n",
       "\n",
       "    fig.rubberband_context.clearRect(\n",
       "        0, 0, fig.canvas.width, fig.canvas.height);\n",
       "\n",
       "    fig.rubberband_context.strokeRect(min_x, min_y, width, height);\n",
       "}\n",
       "\n",
       "mpl.figure.prototype.handle_figure_label = function(fig, msg) {\n",
       "    // Updates the figure title.\n",
       "    fig.header.textContent = msg['label'];\n",
       "}\n",
       "\n",
       "mpl.figure.prototype.handle_cursor = function(fig, msg) {\n",
       "    var cursor = msg['cursor'];\n",
       "    switch(cursor)\n",
       "    {\n",
       "    case 0:\n",
       "        cursor = 'pointer';\n",
       "        break;\n",
       "    case 1:\n",
       "        cursor = 'default';\n",
       "        break;\n",
       "    case 2:\n",
       "        cursor = 'crosshair';\n",
       "        break;\n",
       "    case 3:\n",
       "        cursor = 'move';\n",
       "        break;\n",
       "    }\n",
       "    fig.rubberband_canvas.style.cursor = cursor;\n",
       "}\n",
       "\n",
       "mpl.figure.prototype.handle_message = function(fig, msg) {\n",
       "    fig.message.textContent = msg['message'];\n",
       "}\n",
       "\n",
       "mpl.figure.prototype.handle_draw = function(fig, msg) {\n",
       "    // Request the server to send over a new figure.\n",
       "    fig.send_draw_message();\n",
       "}\n",
       "\n",
       "mpl.figure.prototype.handle_image_mode = function(fig, msg) {\n",
       "    fig.image_mode = msg['mode'];\n",
       "}\n",
       "\n",
       "mpl.figure.prototype.updated_canvas_event = function() {\n",
       "    // Called whenever the canvas gets updated.\n",
       "    this.send_message(\"ack\", {});\n",
       "}\n",
       "\n",
       "// A function to construct a web socket function for onmessage handling.\n",
       "// Called in the figure constructor.\n",
       "mpl.figure.prototype._make_on_message_function = function(fig) {\n",
       "    return function socket_on_message(evt) {\n",
       "        if (evt.data instanceof Blob) {\n",
       "            /* FIXME: We get \"Resource interpreted as Image but\n",
       "             * transferred with MIME type text/plain:\" errors on\n",
       "             * Chrome.  But how to set the MIME type?  It doesn't seem\n",
       "             * to be part of the websocket stream */\n",
       "            evt.data.type = \"image/png\";\n",
       "\n",
       "            /* Free the memory for the previous frames */\n",
       "            if (fig.imageObj.src) {\n",
       "                (window.URL || window.webkitURL).revokeObjectURL(\n",
       "                    fig.imageObj.src);\n",
       "            }\n",
       "\n",
       "            fig.imageObj.src = (window.URL || window.webkitURL).createObjectURL(\n",
       "                evt.data);\n",
       "            fig.updated_canvas_event();\n",
       "            fig.waiting = false;\n",
       "            return;\n",
       "        }\n",
       "        else if (typeof evt.data === 'string' && evt.data.slice(0, 21) == \"data:image/png;base64\") {\n",
       "            fig.imageObj.src = evt.data;\n",
       "            fig.updated_canvas_event();\n",
       "            fig.waiting = false;\n",
       "            return;\n",
       "        }\n",
       "\n",
       "        var msg = JSON.parse(evt.data);\n",
       "        var msg_type = msg['type'];\n",
       "\n",
       "        // Call the  \"handle_{type}\" callback, which takes\n",
       "        // the figure and JSON message as its only arguments.\n",
       "        try {\n",
       "            var callback = fig[\"handle_\" + msg_type];\n",
       "        } catch (e) {\n",
       "            console.log(\"No handler for the '\" + msg_type + \"' message type: \", msg);\n",
       "            return;\n",
       "        }\n",
       "\n",
       "        if (callback) {\n",
       "            try {\n",
       "                // console.log(\"Handling '\" + msg_type + \"' message: \", msg);\n",
       "                callback(fig, msg);\n",
       "            } catch (e) {\n",
       "                console.log(\"Exception inside the 'handler_\" + msg_type + \"' callback:\", e, e.stack, msg);\n",
       "            }\n",
       "        }\n",
       "    };\n",
       "}\n",
       "\n",
       "// from http://stackoverflow.com/questions/1114465/getting-mouse-location-in-canvas\n",
       "mpl.findpos = function(e) {\n",
       "    //this section is from http://www.quirksmode.org/js/events_properties.html\n",
       "    var targ;\n",
       "    if (!e)\n",
       "        e = window.event;\n",
       "    if (e.target)\n",
       "        targ = e.target;\n",
       "    else if (e.srcElement)\n",
       "        targ = e.srcElement;\n",
       "    if (targ.nodeType == 3) // defeat Safari bug\n",
       "        targ = targ.parentNode;\n",
       "\n",
       "    // jQuery normalizes the pageX and pageY\n",
       "    // pageX,Y are the mouse positions relative to the document\n",
       "    // offset() returns the position of the element relative to the document\n",
       "    var x = e.pageX - $(targ).offset().left;\n",
       "    var y = e.pageY - $(targ).offset().top;\n",
       "\n",
       "    return {\"x\": x, \"y\": y};\n",
       "};\n",
       "\n",
       "/*\n",
       " * return a copy of an object with only non-object keys\n",
       " * we need this to avoid circular references\n",
       " * http://stackoverflow.com/a/24161582/3208463\n",
       " */\n",
       "function simpleKeys (original) {\n",
       "  return Object.keys(original).reduce(function (obj, key) {\n",
       "    if (typeof original[key] !== 'object')\n",
       "        obj[key] = original[key]\n",
       "    return obj;\n",
       "  }, {});\n",
       "}\n",
       "\n",
       "mpl.figure.prototype.mouse_event = function(event, name) {\n",
       "    var canvas_pos = mpl.findpos(event)\n",
       "\n",
       "    if (name === 'button_press')\n",
       "    {\n",
       "        this.canvas.focus();\n",
       "        this.canvas_div.focus();\n",
       "    }\n",
       "\n",
       "    var x = canvas_pos.x * mpl.ratio;\n",
       "    var y = canvas_pos.y * mpl.ratio;\n",
       "\n",
       "    this.send_message(name, {x: x, y: y, button: event.button,\n",
       "                             step: event.step,\n",
       "                             guiEvent: simpleKeys(event)});\n",
       "\n",
       "    /* This prevents the web browser from automatically changing to\n",
       "     * the text insertion cursor when the button is pressed.  We want\n",
       "     * to control all of the cursor setting manually through the\n",
       "     * 'cursor' event from matplotlib */\n",
       "    event.preventDefault();\n",
       "    return false;\n",
       "}\n",
       "\n",
       "mpl.figure.prototype._key_event_extra = function(event, name) {\n",
       "    // Handle any extra behaviour associated with a key event\n",
       "}\n",
       "\n",
       "mpl.figure.prototype.key_event = function(event, name) {\n",
       "\n",
       "    // Prevent repeat events\n",
       "    if (name == 'key_press')\n",
       "    {\n",
       "        if (event.which === this._key)\n",
       "            return;\n",
       "        else\n",
       "            this._key = event.which;\n",
       "    }\n",
       "    if (name == 'key_release')\n",
       "        this._key = null;\n",
       "\n",
       "    var value = '';\n",
       "    if (event.ctrlKey && event.which != 17)\n",
       "        value += \"ctrl+\";\n",
       "    if (event.altKey && event.which != 18)\n",
       "        value += \"alt+\";\n",
       "    if (event.shiftKey && event.which != 16)\n",
       "        value += \"shift+\";\n",
       "\n",
       "    value += 'k';\n",
       "    value += event.which.toString();\n",
       "\n",
       "    this._key_event_extra(event, name);\n",
       "\n",
       "    this.send_message(name, {key: value,\n",
       "                             guiEvent: simpleKeys(event)});\n",
       "    return false;\n",
       "}\n",
       "\n",
       "mpl.figure.prototype.toolbar_button_onclick = function(name) {\n",
       "    if (name == 'download') {\n",
       "        this.handle_save(this, null);\n",
       "    } else {\n",
       "        this.send_message(\"toolbar_button\", {name: name});\n",
       "    }\n",
       "};\n",
       "\n",
       "mpl.figure.prototype.toolbar_button_onmouseover = function(tooltip) {\n",
       "    this.message.textContent = tooltip;\n",
       "};\n",
       "mpl.toolbar_items = [[\"Home\", \"Reset original view\", \"fa fa-home icon-home\", \"home\"], [\"Back\", \"Back to previous view\", \"fa fa-arrow-left icon-arrow-left\", \"back\"], [\"Forward\", \"Forward to next view\", \"fa fa-arrow-right icon-arrow-right\", \"forward\"], [\"\", \"\", \"\", \"\"], [\"Pan\", \"Pan axes with left mouse, zoom with right\", \"fa fa-arrows icon-move\", \"pan\"], [\"Zoom\", \"Zoom to rectangle\", \"fa fa-square-o icon-check-empty\", \"zoom\"], [\"\", \"\", \"\", \"\"], [\"Download\", \"Download plot\", \"fa fa-floppy-o icon-save\", \"download\"]];\n",
       "\n",
       "mpl.extensions = [\"eps\", \"jpeg\", \"pdf\", \"png\", \"ps\", \"raw\", \"svg\", \"tif\"];\n",
       "\n",
       "mpl.default_extension = \"png\";var comm_websocket_adapter = function(comm) {\n",
       "    // Create a \"websocket\"-like object which calls the given IPython comm\n",
       "    // object with the appropriate methods. Currently this is a non binary\n",
       "    // socket, so there is still some room for performance tuning.\n",
       "    var ws = {};\n",
       "\n",
       "    ws.close = function() {\n",
       "        comm.close()\n",
       "    };\n",
       "    ws.send = function(m) {\n",
       "        //console.log('sending', m);\n",
       "        comm.send(m);\n",
       "    };\n",
       "    // Register the callback with on_msg.\n",
       "    comm.on_msg(function(msg) {\n",
       "        //console.log('receiving', msg['content']['data'], msg);\n",
       "        // Pass the mpl event to the overridden (by mpl) onmessage function.\n",
       "        ws.onmessage(msg['content']['data'])\n",
       "    });\n",
       "    return ws;\n",
       "}\n",
       "\n",
       "mpl.mpl_figure_comm = function(comm, msg) {\n",
       "    // This is the function which gets called when the mpl process\n",
       "    // starts-up an IPython Comm through the \"matplotlib\" channel.\n",
       "\n",
       "    var id = msg.content.data.id;\n",
       "    // Get hold of the div created by the display call when the Comm\n",
       "    // socket was opened in Python.\n",
       "    var element = $(\"#\" + id);\n",
       "    var ws_proxy = comm_websocket_adapter(comm)\n",
       "\n",
       "    function ondownload(figure, format) {\n",
       "        window.open(figure.imageObj.src);\n",
       "    }\n",
       "\n",
       "    var fig = new mpl.figure(id, ws_proxy,\n",
       "                           ondownload,\n",
       "                           element.get(0));\n",
       "\n",
       "    // Call onopen now - mpl needs it, as it is assuming we've passed it a real\n",
       "    // web socket which is closed, not our websocket->open comm proxy.\n",
       "    ws_proxy.onopen();\n",
       "\n",
       "    fig.parent_element = element.get(0);\n",
       "    fig.cell_info = mpl.find_output_cell(\"<div id='\" + id + \"'></div>\");\n",
       "    if (!fig.cell_info) {\n",
       "        console.error(\"Failed to find cell for figure\", id, fig);\n",
       "        return;\n",
       "    }\n",
       "\n",
       "    var output_index = fig.cell_info[2]\n",
       "    var cell = fig.cell_info[0];\n",
       "\n",
       "};\n",
       "\n",
       "mpl.figure.prototype.handle_close = function(fig, msg) {\n",
       "    var width = fig.canvas.width/mpl.ratio\n",
       "    fig.root.unbind('remove')\n",
       "\n",
       "    // Update the output cell to use the data from the current canvas.\n",
       "    fig.push_to_output();\n",
       "    var dataURL = fig.canvas.toDataURL();\n",
       "    // Re-enable the keyboard manager in IPython - without this line, in FF,\n",
       "    // the notebook keyboard shortcuts fail.\n",
       "    IPython.keyboard_manager.enable()\n",
       "    $(fig.parent_element).html('<img src=\"' + dataURL + '\" width=\"' + width + '\">');\n",
       "    fig.close_ws(fig, msg);\n",
       "}\n",
       "\n",
       "mpl.figure.prototype.close_ws = function(fig, msg){\n",
       "    fig.send_message('closing', msg);\n",
       "    // fig.ws.close()\n",
       "}\n",
       "\n",
       "mpl.figure.prototype.push_to_output = function(remove_interactive) {\n",
       "    // Turn the data on the canvas into data in the output cell.\n",
       "    var width = this.canvas.width/mpl.ratio\n",
       "    var dataURL = this.canvas.toDataURL();\n",
       "    this.cell_info[1]['text/html'] = '<img src=\"' + dataURL + '\" width=\"' + width + '\">';\n",
       "}\n",
       "\n",
       "mpl.figure.prototype.updated_canvas_event = function() {\n",
       "    // Tell IPython that the notebook contents must change.\n",
       "    IPython.notebook.set_dirty(true);\n",
       "    this.send_message(\"ack\", {});\n",
       "    var fig = this;\n",
       "    // Wait a second, then push the new image to the DOM so\n",
       "    // that it is saved nicely (might be nice to debounce this).\n",
       "    setTimeout(function () { fig.push_to_output() }, 1000);\n",
       "}\n",
       "\n",
       "mpl.figure.prototype._init_toolbar = function() {\n",
       "    var fig = this;\n",
       "\n",
       "    var nav_element = $('<div/>');\n",
       "    nav_element.attr('style', 'width: 100%');\n",
       "    this.root.append(nav_element);\n",
       "\n",
       "    // Define a callback function for later on.\n",
       "    function toolbar_event(event) {\n",
       "        return fig.toolbar_button_onclick(event['data']);\n",
       "    }\n",
       "    function toolbar_mouse_event(event) {\n",
       "        return fig.toolbar_button_onmouseover(event['data']);\n",
       "    }\n",
       "\n",
       "    for(var toolbar_ind in mpl.toolbar_items){\n",
       "        var name = mpl.toolbar_items[toolbar_ind][0];\n",
       "        var tooltip = mpl.toolbar_items[toolbar_ind][1];\n",
       "        var image = mpl.toolbar_items[toolbar_ind][2];\n",
       "        var method_name = mpl.toolbar_items[toolbar_ind][3];\n",
       "\n",
       "        if (!name) { continue; };\n",
       "\n",
       "        var button = $('<button class=\"btn btn-default\" href=\"#\" title=\"' + name + '\"><i class=\"fa ' + image + ' fa-lg\"></i></button>');\n",
       "        button.click(method_name, toolbar_event);\n",
       "        button.mouseover(tooltip, toolbar_mouse_event);\n",
       "        nav_element.append(button);\n",
       "    }\n",
       "\n",
       "    // Add the status bar.\n",
       "    var status_bar = $('<span class=\"mpl-message\" style=\"text-align:right; float: right;\"/>');\n",
       "    nav_element.append(status_bar);\n",
       "    this.message = status_bar[0];\n",
       "\n",
       "    // Add the close button to the window.\n",
       "    var buttongrp = $('<div class=\"btn-group inline pull-right\"></div>');\n",
       "    var button = $('<button class=\"btn btn-mini btn-primary\" href=\"#\" title=\"Stop Interaction\"><i class=\"fa fa-power-off icon-remove icon-large\"></i></button>');\n",
       "    button.click(function (evt) { fig.handle_close(fig, {}); } );\n",
       "    button.mouseover('Stop Interaction', toolbar_mouse_event);\n",
       "    buttongrp.append(button);\n",
       "    var titlebar = this.root.find($('.ui-dialog-titlebar'));\n",
       "    titlebar.prepend(buttongrp);\n",
       "}\n",
       "\n",
       "mpl.figure.prototype._root_extra_style = function(el){\n",
       "    var fig = this\n",
       "    el.on(\"remove\", function(){\n",
       "\tfig.close_ws(fig, {});\n",
       "    });\n",
       "}\n",
       "\n",
       "mpl.figure.prototype._canvas_extra_style = function(el){\n",
       "    // this is important to make the div 'focusable\n",
       "    el.attr('tabindex', 0)\n",
       "    // reach out to IPython and tell the keyboard manager to turn it's self\n",
       "    // off when our div gets focus\n",
       "\n",
       "    // location in version 3\n",
       "    if (IPython.notebook.keyboard_manager) {\n",
       "        IPython.notebook.keyboard_manager.register_events(el);\n",
       "    }\n",
       "    else {\n",
       "        // location in version 2\n",
       "        IPython.keyboard_manager.register_events(el);\n",
       "    }\n",
       "\n",
       "}\n",
       "\n",
       "mpl.figure.prototype._key_event_extra = function(event, name) {\n",
       "    var manager = IPython.notebook.keyboard_manager;\n",
       "    if (!manager)\n",
       "        manager = IPython.keyboard_manager;\n",
       "\n",
       "    // Check for shift+enter\n",
       "    if (event.shiftKey && event.which == 13) {\n",
       "        this.canvas_div.blur();\n",
       "        event.shiftKey = false;\n",
       "        // Send a \"J\" for go to next cell\n",
       "        event.which = 74;\n",
       "        event.keyCode = 74;\n",
       "        manager.command_mode();\n",
       "        manager.handle_keydown(event);\n",
       "    }\n",
       "}\n",
       "\n",
       "mpl.figure.prototype.handle_save = function(fig, msg) {\n",
       "    fig.ondownload(fig, null);\n",
       "}\n",
       "\n",
       "\n",
       "mpl.find_output_cell = function(html_output) {\n",
       "    // Return the cell and output element which can be found *uniquely* in the notebook.\n",
       "    // Note - this is a bit hacky, but it is done because the \"notebook_saving.Notebook\"\n",
       "    // IPython event is triggered only after the cells have been serialised, which for\n",
       "    // our purposes (turning an active figure into a static one), is too late.\n",
       "    var cells = IPython.notebook.get_cells();\n",
       "    var ncells = cells.length;\n",
       "    for (var i=0; i<ncells; i++) {\n",
       "        var cell = cells[i];\n",
       "        if (cell.cell_type === 'code'){\n",
       "            for (var j=0; j<cell.output_area.outputs.length; j++) {\n",
       "                var data = cell.output_area.outputs[j];\n",
       "                if (data.data) {\n",
       "                    // IPython >= 3 moved mimebundle to data attribute of output\n",
       "                    data = data.data;\n",
       "                }\n",
       "                if (data['text/html'] == html_output) {\n",
       "                    return [cell, data, j];\n",
       "                }\n",
       "            }\n",
       "        }\n",
       "    }\n",
       "}\n",
       "\n",
       "// Register the function which deals with the matplotlib target/channel.\n",
       "// The kernel may be null if the page has been refreshed.\n",
       "if (IPython.notebook.kernel != null) {\n",
       "    IPython.notebook.kernel.comm_manager.register_target('matplotlib', mpl.mpl_figure_comm);\n",
       "}\n"
      ],
      "text/plain": [
       "<IPython.core.display.Javascript object>"
      ]
     },
     "metadata": {},
     "output_type": "display_data"
    },
    {
     "data": {
      "text/html": [
       "<img src=\"data:image/png;base64,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\" width=\"640\">"
      ],
      "text/plain": [
       "<IPython.core.display.HTML object>"
      ]
     },
     "metadata": {},
     "output_type": "display_data"
    },
    {
     "data": {
      "text/plain": [
       "(18475, 18571)"
      ]
     },
     "execution_count": 4,
     "metadata": {},
     "output_type": "execute_result"
    }
   ],
   "source": [
    "fig,ax = plt.subplots()\n",
    "timeseries_H_in_national.reset_index().plot('DATE','NEW_IN', logy=True, ax=ax, label='National')\n",
    "timeseries_H_in_hainaut.reset_index().plot('DATE', 'NEW_IN', logy=True, ax=ax, label='Hainaut')\n",
    "ax.set_xlim('2020-08-01', '2020-11-05')"
   ]
  },
  {
   "cell_type": "markdown",
   "metadata": {},
   "source": [
    "# Load contact and geographic data"
   ]
  },
  {
   "cell_type": "code",
   "execution_count": 5,
   "metadata": {
    "ExecuteTime": {
     "end_time": "2020-11-12T07:48:17.660630Z",
     "start_time": "2020-11-12T07:48:17.398530Z"
    }
   },
   "outputs": [],
   "source": [
    "# Load the interaction matrices (size: 9x9)\n",
    "initN, Nc_home, Nc_work, Nc_schools, Nc_transport, Nc_leisure, Nc_others, Nc_total = model_parameters.get_interaction_matrices(dataset='willem_2012')\n",
    "\n",
    "# Define the number of age categories\n",
    "levels = initN.size\n",
    "province_names = pd.read_csv('../data/raw/GIS/NIS_province.csv')\n",
    "initN_province = pd.read_csv('../data/interim/demographic/initN_prov.csv')\n",
    "initN = np.array(list(initN_province.set_index('NIS').loc[50000].iloc[:9]))"
   ]
  },
  {
   "cell_type": "code",
   "execution_count": 6,
   "metadata": {
    "ExecuteTime": {
     "end_time": "2020-11-12T07:48:17.723425Z",
     "start_time": "2020-11-12T07:48:17.661467Z"
    }
   },
   "outputs": [],
   "source": [
    "# Output for calibration\n",
    "fig_path = '../results/calibrations/COVID19_SEIRD/provinces/'\n",
    "samples_path = '../data/interim/model_parameters/COVID19_SEIRD/calibrations/provinces/'"
   ]
  },
  {
   "cell_type": "markdown",
   "metadata": {},
   "source": [
    "# Model initialisations"
   ]
  },
  {
   "cell_type": "markdown",
   "metadata": {},
   "source": [
    "## Jenna's original code for the national model"
   ]
  },
  {
   "cell_type": "code",
   "execution_count": 7,
   "metadata": {
    "ExecuteTime": {
     "end_time": "2020-11-12T07:48:19.755481Z",
     "start_time": "2020-11-12T07:48:19.574784Z"
    }
   },
   "outputs": [],
   "source": [
    "### FIRST WAVE ONLY (NO ADDITIONAL POLICIES)\n",
    "\n",
    "# Load the parameters using `get_COVID19_SEIRD_parameters()`.\n",
    "params_wave1 = model_parameters.get_COVID19_SEIRD_parameters()\n",
    "params_wave1.update({'policy0': Nc_total,\n",
    "              'policy1': 1.0*Nc_home + (1-0.60)*Nc_work + (1-0.70)*Nc_transport + (1-0.30)*Nc_others + (1-0.80)*Nc_leisure,\n",
    "              'l': 1,\n",
    "              'tau': 5,\n",
    "              'prevention': 0.5,\n",
    "              'start_date': pd.to_datetime('2020-03-15')}) # Start of lockdown\n",
    "# Usage:\n",
    "initial_states = {'S': initN, 'E': np.ones(levels)}\n",
    "\n",
    "# lockdown_func should be a global variable in multicore processing\n",
    "global lockdown_func\n",
    "model_wave1 = models.COVID19_SEIRD(initial_states, params_wave1, time_dependent_parameters={'Nc': lockdown_func})"
   ]
  },
  {
   "cell_type": "code",
   "execution_count": 8,
   "metadata": {
    "ExecuteTime": {
     "end_time": "2020-11-12T07:48:21.366444Z",
     "start_time": "2020-11-12T07:48:21.190651Z"
    }
   },
   "outputs": [],
   "source": [
    "### ALL MEASURES UNTIL SEPTEMBER\n",
    "\n",
    "# Load the model parameters using `get_COVID19_SEIRD_parameters()`.\n",
    "params_until_sept = model_parameters.get_COVID19_SEIRD_parameters()\n",
    "\n",
    "params_until_sept.update({'policy0': Nc_total,\n",
    "              'policy1': 1.0*Nc_home + (1-0.60)*Nc_work + (1-0.70)*Nc_transport + (1-0.30)*Nc_others + (1-0.80)*Nc_leisure,\n",
    "              'policy2': 1.0*Nc_home + (1-0.50)*Nc_work + (1-0.60)*Nc_transport + (1-0.30)*Nc_others + (1-0.70)*Nc_leisure,\n",
    "              'policy3': 1.0*Nc_home + (1-0.40)*Nc_work + (1-0.55)*Nc_transport + (1-0.25)*Nc_others + (1-0.65)*Nc_leisure,\n",
    "              'policy4': 1.0*Nc_home + (1-0.30)*Nc_work + (1-0.50)*Nc_transport + (1-0.20)*Nc_others + (1-0.60)*Nc_leisure,\n",
    "              'policy5': 1.0*Nc_home + (1-0.30)*Nc_work + (1-0.45)*Nc_transport + (1-0.15)*Nc_others + (1-0.85)*Nc_schools + (1-0.50)*Nc_leisure,\n",
    "              'policy6': 1.0*Nc_home + (1-0.25)*Nc_work + (1-0.35)*Nc_transport + (1-0.10)*Nc_others + (1-0.35)*Nc_schools + (1-0.30)*Nc_leisure,\n",
    "              'policy7': 1.0*Nc_home + (1-0.20)*Nc_work + (1-0.25)*Nc_transport + (1-0.05)*Nc_others + (1-0.30)*Nc_leisure,\n",
    "              'policy8': 1.0*Nc_home + (1-0.30)*Nc_work + (1-0.35)*Nc_transport + (1-0.15)*Nc_others + (1-0.40)*Nc_leisure,\n",
    "              'policy9': 1.0*Nc_home + (1-0.00)*Nc_work + (1-0.00)*Nc_transport + (1-0.00)*Nc_others + (1-0.00)*Nc_schools + (1-0.00)*Nc_leisure,\n",
    "              'l': 1,\n",
    "              'tau': 5,\n",
    "              'prevention': 0.5,\n",
    "              'start_date':pd.to_datetime('2020-03-15')})\n",
    "\n",
    "# Usage:\n",
    "initial_states = {'S': initN, 'E': np.ones(levels)}\n",
    "model_wave1_with_policies = models.COVID19_SEIRD(initial_states, params_until_sept, time_dependent_parameters={'Nc': policies_until_september})"
   ]
  },
  {
   "cell_type": "markdown",
   "metadata": {},
   "source": [
    "# Plotfunctions"
   ]
  },
  {
   "cell_type": "code",
   "execution_count": 9,
   "metadata": {
    "ExecuteTime": {
     "end_time": "2020-11-12T07:48:26.107650Z",
     "start_time": "2020-11-12T07:48:26.038528Z"
    }
   },
   "outputs": [],
   "source": [
    "### DEFINE FUNCTION TO PLOT THE RESULT OF THE SIMULATION\n",
    "# this should probably go in the optimization.visualization module as well\n",
    "\n",
    "def plot_simulations(start_date, end_ramp, end_date, model, samples_dict, timeseries, \n",
    "                    spatial_unit, n_lines=200, save=False):\n",
    "\n",
    "    states = [['H_in']]\n",
    "    data=[timeseries[start_date:end_ramp].values]\n",
    "\n",
    "    fig,ax=plt.subplots()\n",
    "    for i in range(n_lines):\n",
    "        idx,model.parameters['beta'] = random.choice(list(enumerate(samples_dict['beta'])))\n",
    "        if 'l' in model.parameters.keys():\n",
    "            idx,model.parameters['l'] = random.choice(list(enumerate(samples_dict['l'])))\n",
    "            model.parameters['tau'] = samples_dict['tau'][idx] # idx takes the same index\n",
    "            model.parameters['prevention'] = samples_dict['prevention'][idx]\n",
    "        y_model = model.sim(time=end_date, excess_time=samples_dict['warmup'], start_date=start_date)\n",
    "        ax = plot_fit(y_model,data,start_date,samples_dict['warmup'],states,end_date=end_date,with_ints=False,ax=ax,plt_kwargs={'color':'blue','linewidth': 2,'alpha': 0.05})\n",
    "    \n",
    "    # plot mean line\n",
    "    model.parameters['beta'] = np.mean(samples_dict['beta'])\n",
    "    if 'l' in model.parameters.keys():\n",
    "        model.parameters['l'] = np.mean(samples_dict['l'])\n",
    "        model.parameters['tau'] = np.mean(samples_dict['tau'])\n",
    "        model.parameters['prevention'] = np.mean(samples_dict['prevention'])\n",
    "    y_model = model.sim(time=end_date, excess_time=samples_dict['warmup'], start_date=start_date)\n",
    "    ax.plot(y_model['time'],y_model['H_in'].sum(dim='Nc'), c='green', linestyle='--', lw=2, alpha=0.5)\n",
    "    \n",
    "    data_after_calib = timeseries[pd.to_datetime(end_ramp)+pd.to_timedelta('1d'):end_date]\n",
    "    plt.scatter(data_after_calib.index, data_after_calib.values, marker='o',color='red',linestyle='None',facecolors='none')\n",
    "    legend_text=['daily \\nhospitalizations']\n",
    "    ax.set_xlim(start_date, end_date)\n",
    "    fig.tight_layout()\n",
    "    if save==True:\n",
    "        fig.savefig(fig_path+spatial_unit +'_'+str(datetime.date.today())+'.pdf',bbox_inches='tight', dpi=600)\n",
    "    return"
   ]
  },
  {
   "cell_type": "markdown",
   "metadata": {},
   "source": [
    "# Calibration on first wave"
   ]
  },
  {
   "cell_type": "code",
   "execution_count": 10,
   "metadata": {
    "ExecuteTime": {
     "end_time": "2020-11-12T07:48:31.835273Z",
     "start_time": "2020-11-12T07:48:31.767502Z"
    }
   },
   "outputs": [],
   "source": [
    "## First wave\n",
    "start_date = '2020-03-15'\n",
    "end_beta = '2020-03-25'\n",
    "end_ramp = '2020-05-23'#'2020-05-23'"
   ]
  },
  {
   "cell_type": "code",
   "execution_count": 11,
   "metadata": {
    "ExecuteTime": {
     "end_time": "2020-11-12T07:48:32.163165Z",
     "start_time": "2020-11-12T07:48:32.103325Z"
    }
   },
   "outputs": [
    {
     "data": {
      "text/plain": [
       "11"
      ]
     },
     "execution_count": 11,
     "metadata": {},
     "output_type": "execute_result"
    }
   ],
   "source": [
    "len(Hainaut_ts.loc[start_date:end_beta])"
   ]
  },
  {
   "cell_type": "code",
   "execution_count": 12,
   "metadata": {
    "ExecuteTime": {
     "end_time": "2020-11-12T07:48:32.507652Z",
     "start_time": "2020-11-12T07:48:32.438650Z"
    }
   },
   "outputs": [
    {
     "data": {
      "text/plain": [
       "60"
      ]
     },
     "execution_count": 12,
     "metadata": {},
     "output_type": "execute_result"
    }
   ],
   "source": [
    "len(Hainaut_ts.loc[end_beta:end_ramp])"
   ]
  },
  {
   "cell_type": "code",
   "execution_count": 20,
   "metadata": {
    "ExecuteTime": {
     "end_time": "2020-11-12T08:14:40.404717Z",
     "start_time": "2020-11-12T08:14:40.326351Z"
    }
   },
   "outputs": [],
   "source": [
    "from multiprocessing import Pool\n",
    "Pool?"
   ]
  },
  {
   "cell_type": "code",
   "execution_count": 16,
   "metadata": {
    "ExecuteTime": {
     "end_time": "2020-11-12T08:10:56.672712Z",
     "start_time": "2020-11-12T08:10:53.191023Z"
    },
    "scrolled": true
   },
   "outputs": [
    {
     "name": "stdout",
     "output_type": "stream",
     "text": [
      "---------------------------\n",
      "CALIBRATING BETA AND WARMUP\n",
      "---------------------------\n",
      "\n",
      "1) Particle swarm optimization\n",
      "\n",
      "No constraints given.\n"
     ]
    },
    {
     "ename": "TypeError",
     "evalue": "time must be int, list of ints [start, stop], string or timestamp",
     "output_type": "error",
     "traceback": [
      "\u001b[1;31m---------------------------------------------------------------------------\u001b[0m",
      "\u001b[1;31mRemoteTraceback\u001b[0m                           Traceback (most recent call last)",
      "\u001b[1;31mRemoteTraceback\u001b[0m: \n\"\"\"\nTraceback (most recent call last):\n  File \"C:\\Anaconda3\\lib\\multiprocessing\\pool.py\", line 121, in worker\n    result = (True, func(*args, **kwds))\n  File \"C:\\Anaconda3\\lib\\multiprocessing\\pool.py\", line 44, in mapstar\n    return list(map(*args))\n  File \"c:\\users\\mrollier\\documents\\github\\covid19-model\\src\\covid19model\\optimization\\pso.py\", line 7, in _obj_wrapper\n    return func(x, *args, **kwargs)\n  File \"c:\\users\\mrollier\\documents\\github\\covid19-model\\src\\covid19model\\optimization\\objective_fcns.py\", line 139, in MLE\n    out = model.sim(T, start_date=start_date, warmup=warmup)\n  File \"c:\\users\\mrollier\\documents\\github\\covid19-model\\src\\covid19model\\models\\base.py\", line 426, in sim\n    'time must be int, list of ints [start, stop], string or timestamp'\nTypeError: time must be int, list of ints [start, stop], string or timestamp\n\"\"\"",
      "\nThe above exception was the direct cause of the following exception:\n",
      "\u001b[1;31mTypeError\u001b[0m                                 Traceback (most recent call last)",
      "\u001b[1;32m<ipython-input-16-ebd7d7a59fc7>\u001b[0m in \u001b[0;36m<module>\u001b[1;34m\u001b[0m\n\u001b[0;32m      4\u001b[0m                                 \u001b[0mfig_path\u001b[0m\u001b[1;33m=\u001b[0m\u001b[0mfig_path\u001b[0m\u001b[1;33m,\u001b[0m \u001b[0msamples_path\u001b[0m\u001b[1;33m=\u001b[0m\u001b[0msamples_path\u001b[0m\u001b[1;33m,\u001b[0m\u001b[1;33m\u001b[0m\u001b[1;33m\u001b[0m\u001b[0m\n\u001b[0;32m      5\u001b[0m                                 \u001b[0minitN\u001b[0m\u001b[1;33m=\u001b[0m\u001b[0minitN\u001b[0m\u001b[1;33m,\u001b[0m \u001b[0mNc_total\u001b[0m\u001b[1;33m=\u001b[0m\u001b[0mNc_total\u001b[0m\u001b[1;33m,\u001b[0m \u001b[0mtheta_init\u001b[0m \u001b[1;33m=\u001b[0m \u001b[1;32mNone\u001b[0m\u001b[1;33m,\u001b[0m\u001b[0mpso\u001b[0m\u001b[1;33m=\u001b[0m\u001b[1;32mTrue\u001b[0m\u001b[1;33m,\u001b[0m\u001b[1;33m\u001b[0m\u001b[1;33m\u001b[0m\u001b[0m\n\u001b[1;32m----> 6\u001b[1;33m                                 maxiter=100, popsize=500, steps_mcmc=1000)#popsize increased to 500\n\u001b[0m",
      "\u001b[1;32mc:\\users\\mrollier\\documents\\github\\covid19-model\\src\\covid19model\\optimization\\run_optimization.py\u001b[0m in \u001b[0;36mfull_calibration_wave1\u001b[1;34m(model, timeseries, spatial_unit, start_date, end_beta, end_ramp, fig_path, samples_path, initN, Nc_total, theta_init, pso, maxiter, popsize, steps_mcmc, discard, omega, phip, phig)\u001b[0m\n\u001b[0;32m    114\u001b[0m     \u001b[1;31m# run pso optimisation\u001b[0m\u001b[1;33m\u001b[0m\u001b[1;33m\u001b[0m\u001b[1;33m\u001b[0m\u001b[0m\n\u001b[0;32m    115\u001b[0m         theta = PSO.fit_pso(model,data,parNames_pso,states,bounds_pso,maxiter=maxiter,popsize=popsize,\n\u001b[1;32m--> 116\u001b[1;33m                         start_date=start_date, omega=omega, phip=phip, phig=phig)\n\u001b[0m\u001b[0;32m    117\u001b[0m     \u001b[1;32melse\u001b[0m\u001b[1;33m:\u001b[0m\u001b[1;33m\u001b[0m\u001b[1;33m\u001b[0m\u001b[0m\n\u001b[0;32m    118\u001b[0m         \u001b[0mtheta\u001b[0m \u001b[1;33m=\u001b[0m \u001b[0mtheta_init\u001b[0m\u001b[1;33m\u001b[0m\u001b[1;33m\u001b[0m\u001b[0m\n",
      "\u001b[1;32mc:\\users\\mrollier\\documents\\github\\covid19-model\\src\\covid19model\\optimization\\pso.py\u001b[0m in \u001b[0;36mfit_pso\u001b[1;34m(model, data, parNames, states, bounds, draw_fcn, samples, start_date, warmup, disp, maxiter, popsize, processes, omega, phip, phig)\u001b[0m\n\u001b[0;32m    296\u001b[0m     \u001b[1;31m# Run pso algorithm on MLE objective function\u001b[0m\u001b[1;33m\u001b[0m\u001b[1;33m\u001b[0m\u001b[1;33m\u001b[0m\u001b[0m\n\u001b[0;32m    297\u001b[0m     \u001b[1;31m# -------------------------------------------\u001b[0m\u001b[1;33m\u001b[0m\u001b[1;33m\u001b[0m\u001b[1;33m\u001b[0m\u001b[0m\n\u001b[1;32m--> 298\u001b[1;33m     \u001b[0mp_hat\u001b[0m\u001b[1;33m,\u001b[0m \u001b[0mobj_fun_val\u001b[0m\u001b[1;33m,\u001b[0m \u001b[0mpars_final_swarm\u001b[0m\u001b[1;33m,\u001b[0m \u001b[0mobj_fun_val_final_swarm\u001b[0m \u001b[1;33m=\u001b[0m \u001b[0moptim\u001b[0m\u001b[1;33m(\u001b[0m\u001b[0mobjective_fcns\u001b[0m\u001b[1;33m.\u001b[0m\u001b[0mMLE\u001b[0m\u001b[1;33m,\u001b[0m \u001b[0mbounds\u001b[0m\u001b[1;33m,\u001b[0m \u001b[0margs\u001b[0m\u001b[1;33m=\u001b[0m\u001b[1;33m(\u001b[0m\u001b[0mmodel\u001b[0m\u001b[1;33m,\u001b[0m\u001b[0mdata\u001b[0m\u001b[1;33m,\u001b[0m\u001b[0mstates\u001b[0m\u001b[1;33m,\u001b[0m\u001b[0mparNames\u001b[0m\u001b[1;33m,\u001b[0m\u001b[0mdraw_fcn\u001b[0m\u001b[1;33m,\u001b[0m\u001b[0msamples\u001b[0m\u001b[1;33m,\u001b[0m \u001b[0mstart_date\u001b[0m\u001b[1;33m,\u001b[0m \u001b[0mwarmup\u001b[0m\u001b[1;33m)\u001b[0m\u001b[1;33m,\u001b[0m \u001b[0mswarmsize\u001b[0m\u001b[1;33m=\u001b[0m\u001b[0mpopsize\u001b[0m\u001b[1;33m,\u001b[0m \u001b[0mmaxiter\u001b[0m\u001b[1;33m=\u001b[0m\u001b[0mmaxiter\u001b[0m\u001b[1;33m,\u001b[0m \u001b[0mprocesses\u001b[0m\u001b[1;33m=\u001b[0m\u001b[0mprocesses\u001b[0m\u001b[1;33m,\u001b[0m\u001b[0mminfunc\u001b[0m\u001b[1;33m=\u001b[0m\u001b[1;36m1e-9\u001b[0m\u001b[1;33m,\u001b[0m \u001b[0mminstep\u001b[0m\u001b[1;33m=\u001b[0m\u001b[1;36m1e-9\u001b[0m\u001b[1;33m,\u001b[0m\u001b[0mdebug\u001b[0m\u001b[1;33m=\u001b[0m\u001b[1;32mTrue\u001b[0m\u001b[1;33m,\u001b[0m \u001b[0mparticle_output\u001b[0m\u001b[1;33m=\u001b[0m\u001b[1;32mTrue\u001b[0m\u001b[1;33m,\u001b[0m \u001b[0momega\u001b[0m\u001b[1;33m=\u001b[0m\u001b[0momega\u001b[0m\u001b[1;33m,\u001b[0m \u001b[0mphip\u001b[0m\u001b[1;33m=\u001b[0m\u001b[0mphip\u001b[0m\u001b[1;33m,\u001b[0m \u001b[0mphig\u001b[0m\u001b[1;33m=\u001b[0m\u001b[0mphig\u001b[0m\u001b[1;33m)\u001b[0m\u001b[1;33m\u001b[0m\u001b[1;33m\u001b[0m\u001b[0m\n\u001b[0m\u001b[0;32m    299\u001b[0m     \u001b[0mtheta_hat\u001b[0m \u001b[1;33m=\u001b[0m \u001b[0mp_hat\u001b[0m\u001b[1;33m\u001b[0m\u001b[1;33m\u001b[0m\u001b[0m\n\u001b[0;32m    300\u001b[0m \u001b[1;33m\u001b[0m\u001b[0m\n",
      "\u001b[1;32mc:\\users\\mrollier\\documents\\github\\covid19-model\\src\\covid19model\\optimization\\pso.py\u001b[0m in \u001b[0;36moptim\u001b[1;34m(func, bounds, ieqcons, f_ieqcons, args, kwargs, swarmsize, omega, phip, phig, maxiter, minstep, minfunc, debug, processes, particle_output, transform_pars)\u001b[0m\n\u001b[0;32m    157\u001b[0m     \u001b[1;31m# Calculate objective and constraints for each particle\u001b[0m\u001b[1;33m\u001b[0m\u001b[1;33m\u001b[0m\u001b[1;33m\u001b[0m\u001b[0m\n\u001b[0;32m    158\u001b[0m     \u001b[1;32mif\u001b[0m \u001b[0mprocesses\u001b[0m \u001b[1;33m>\u001b[0m \u001b[1;36m1\u001b[0m\u001b[1;33m:\u001b[0m\u001b[1;33m\u001b[0m\u001b[1;33m\u001b[0m\u001b[0m\n\u001b[1;32m--> 159\u001b[1;33m         \u001b[0mfx\u001b[0m \u001b[1;33m=\u001b[0m \u001b[0mnp\u001b[0m\u001b[1;33m.\u001b[0m\u001b[0marray\u001b[0m\u001b[1;33m(\u001b[0m\u001b[0mmp_pool\u001b[0m\u001b[1;33m.\u001b[0m\u001b[0mmap\u001b[0m\u001b[1;33m(\u001b[0m\u001b[0mobj\u001b[0m\u001b[1;33m,\u001b[0m \u001b[0mx\u001b[0m\u001b[1;33m)\u001b[0m\u001b[1;33m)\u001b[0m\u001b[1;33m\u001b[0m\u001b[1;33m\u001b[0m\u001b[0m\n\u001b[0m\u001b[0;32m    160\u001b[0m         \u001b[0mfs\u001b[0m \u001b[1;33m=\u001b[0m \u001b[0mnp\u001b[0m\u001b[1;33m.\u001b[0m\u001b[0marray\u001b[0m\u001b[1;33m(\u001b[0m\u001b[0mmp_pool\u001b[0m\u001b[1;33m.\u001b[0m\u001b[0mmap\u001b[0m\u001b[1;33m(\u001b[0m\u001b[0mis_feasible\u001b[0m\u001b[1;33m,\u001b[0m \u001b[0mx\u001b[0m\u001b[1;33m)\u001b[0m\u001b[1;33m)\u001b[0m\u001b[1;33m\u001b[0m\u001b[1;33m\u001b[0m\u001b[0m\n\u001b[0;32m    161\u001b[0m     \u001b[1;32melse\u001b[0m\u001b[1;33m:\u001b[0m\u001b[1;33m\u001b[0m\u001b[1;33m\u001b[0m\u001b[0m\n",
      "\u001b[1;32mC:\\Anaconda3\\lib\\multiprocessing\\pool.py\u001b[0m in \u001b[0;36mmap\u001b[1;34m(self, func, iterable, chunksize)\u001b[0m\n\u001b[0;32m    266\u001b[0m         \u001b[1;32min\u001b[0m \u001b[0ma\u001b[0m \u001b[0mlist\u001b[0m \u001b[0mthat\u001b[0m \u001b[1;32mis\u001b[0m \u001b[0mreturned\u001b[0m\u001b[1;33m.\u001b[0m\u001b[1;33m\u001b[0m\u001b[1;33m\u001b[0m\u001b[0m\n\u001b[0;32m    267\u001b[0m         '''\n\u001b[1;32m--> 268\u001b[1;33m         \u001b[1;32mreturn\u001b[0m \u001b[0mself\u001b[0m\u001b[1;33m.\u001b[0m\u001b[0m_map_async\u001b[0m\u001b[1;33m(\u001b[0m\u001b[0mfunc\u001b[0m\u001b[1;33m,\u001b[0m \u001b[0miterable\u001b[0m\u001b[1;33m,\u001b[0m \u001b[0mmapstar\u001b[0m\u001b[1;33m,\u001b[0m \u001b[0mchunksize\u001b[0m\u001b[1;33m)\u001b[0m\u001b[1;33m.\u001b[0m\u001b[0mget\u001b[0m\u001b[1;33m(\u001b[0m\u001b[1;33m)\u001b[0m\u001b[1;33m\u001b[0m\u001b[1;33m\u001b[0m\u001b[0m\n\u001b[0m\u001b[0;32m    269\u001b[0m \u001b[1;33m\u001b[0m\u001b[0m\n\u001b[0;32m    270\u001b[0m     \u001b[1;32mdef\u001b[0m \u001b[0mstarmap\u001b[0m\u001b[1;33m(\u001b[0m\u001b[0mself\u001b[0m\u001b[1;33m,\u001b[0m \u001b[0mfunc\u001b[0m\u001b[1;33m,\u001b[0m \u001b[0miterable\u001b[0m\u001b[1;33m,\u001b[0m \u001b[0mchunksize\u001b[0m\u001b[1;33m=\u001b[0m\u001b[1;32mNone\u001b[0m\u001b[1;33m)\u001b[0m\u001b[1;33m:\u001b[0m\u001b[1;33m\u001b[0m\u001b[1;33m\u001b[0m\u001b[0m\n",
      "\u001b[1;32mC:\\Anaconda3\\lib\\multiprocessing\\pool.py\u001b[0m in \u001b[0;36mget\u001b[1;34m(self, timeout)\u001b[0m\n\u001b[0;32m    655\u001b[0m             \u001b[1;32mreturn\u001b[0m \u001b[0mself\u001b[0m\u001b[1;33m.\u001b[0m\u001b[0m_value\u001b[0m\u001b[1;33m\u001b[0m\u001b[1;33m\u001b[0m\u001b[0m\n\u001b[0;32m    656\u001b[0m         \u001b[1;32melse\u001b[0m\u001b[1;33m:\u001b[0m\u001b[1;33m\u001b[0m\u001b[1;33m\u001b[0m\u001b[0m\n\u001b[1;32m--> 657\u001b[1;33m             \u001b[1;32mraise\u001b[0m \u001b[0mself\u001b[0m\u001b[1;33m.\u001b[0m\u001b[0m_value\u001b[0m\u001b[1;33m\u001b[0m\u001b[1;33m\u001b[0m\u001b[0m\n\u001b[0m\u001b[0;32m    658\u001b[0m \u001b[1;33m\u001b[0m\u001b[0m\n\u001b[0;32m    659\u001b[0m     \u001b[1;32mdef\u001b[0m \u001b[0m_set\u001b[0m\u001b[1;33m(\u001b[0m\u001b[0mself\u001b[0m\u001b[1;33m,\u001b[0m \u001b[0mi\u001b[0m\u001b[1;33m,\u001b[0m \u001b[0mobj\u001b[0m\u001b[1;33m)\u001b[0m\u001b[1;33m:\u001b[0m\u001b[1;33m\u001b[0m\u001b[1;33m\u001b[0m\u001b[0m\n",
      "\u001b[1;31mTypeError\u001b[0m: time must be int, list of ints [start, stop], string or timestamp"
     ]
    }
   ],
   "source": [
    "spatial_unit = 'Hainaut_wave1_1000_pso'\n",
    "\n",
    "samples_dict = full_calibration_wave1(model_wave1, timeseries_H_in_hainaut, spatial_unit, start_date, end_beta, end_ramp, \n",
    "                                fig_path=fig_path, samples_path=samples_path,\n",
    "                                initN=initN, Nc_total=Nc_total, theta_init = None,pso=True,\n",
    "                                maxiter=100, popsize=500, steps_mcmc=1000)#popsize increased to 500"
   ]
  },
  {
   "cell_type": "code",
   "execution_count": null,
   "metadata": {
    "ExecuteTime": {
     "end_time": "2020-11-06T07:32:49.416956Z",
     "start_time": "2020-11-06T07:32:49.147890Z"
    }
   },
   "outputs": [],
   "source": [
    "fig, ax = plt.subplots()\n",
    "pd.Series(samples_dict['beta']).hist(ax=ax)"
   ]
  },
  {
   "cell_type": "code",
   "execution_count": null,
   "metadata": {
    "ExecuteTime": {
     "end_time": "2020-11-06T07:32:54.713111Z",
     "start_time": "2020-11-06T07:32:54.674561Z"
    }
   },
   "outputs": [],
   "source": [
    "samples_dict['warmup']"
   ]
  },
  {
   "cell_type": "code",
   "execution_count": null,
   "metadata": {
    "ExecuteTime": {
     "end_time": "2020-11-06T07:34:10.053322Z",
     "start_time": "2020-11-06T07:33:27.521983Z"
    },
    "scrolled": false
   },
   "outputs": [],
   "source": [
    "end_date = '2020-09-01'\n",
    "plot_simulations(start_date, end_ramp, end_date, model_wave1, samples_dict, \n",
    "                timeseries, spatial_unit, n_lines=100, save=True)"
   ]
  },
  {
   "cell_type": "markdown",
   "metadata": {
    "heading_collapsed": true
   },
   "source": [
    "# Step-by-step calibration"
   ]
  },
  {
   "cell_type": "markdown",
   "metadata": {
    "hidden": true
   },
   "source": [
    "## Simulation until 1 July"
   ]
  },
  {
   "cell_type": "code",
   "execution_count": null,
   "metadata": {
    "ExecuteTime": {
     "end_time": "2020-11-04T07:19:16.150131Z",
     "start_time": "2020-11-04T07:19:16.060356Z"
    },
    "hidden": true
   },
   "outputs": [],
   "source": [
    "# Load the dictionary containing the posterior parameter distributions obtained from calibrating the model to Belgian hospitalization data\n",
    "with open('../data/interim/model_parameters/provinces/Hainaut_wave1_2020-11-03.json', 'r') as fp:\n",
    "    samples_dict_wave1 = json.load(fp)"
   ]
  },
  {
   "cell_type": "code",
   "execution_count": null,
   "metadata": {
    "ExecuteTime": {
     "end_time": "2020-11-04T07:19:22.820625Z",
     "start_time": "2020-11-04T07:19:22.771179Z"
    },
    "hidden": true
   },
   "outputs": [],
   "source": [
    "samples_dict = samples_dict_wave1"
   ]
  },
  {
   "cell_type": "code",
   "execution_count": null,
   "metadata": {
    "ExecuteTime": {
     "end_time": "2020-11-03T08:39:39.983397Z",
     "start_time": "2020-11-03T08:39:39.883194Z"
    },
    "hidden": true
   },
   "outputs": [],
   "source": [
    "fig, ax = plt.subplots()\n",
    "pd.Series(samples_dict_wave1['beta']).hist(ax=ax)"
   ]
  },
  {
   "cell_type": "code",
   "execution_count": null,
   "metadata": {
    "ExecuteTime": {
     "end_time": "2020-11-03T07:52:44.577607Z",
     "start_time": "2020-11-03T07:52:44.535637Z"
    },
    "hidden": true
   },
   "outputs": [],
   "source": [
    "np.mean(samples_dict_wave1['beta'])"
   ]
  },
  {
   "cell_type": "code",
   "execution_count": null,
   "metadata": {
    "ExecuteTime": {
     "end_time": "2020-11-03T08:04:29.763619Z",
     "start_time": "2020-11-03T08:04:29.707048Z"
    },
    "hidden": true
   },
   "outputs": [],
   "source": [
    "samples_dict_wave1['lag_time']"
   ]
  },
  {
   "cell_type": "code",
   "execution_count": null,
   "metadata": {
    "ExecuteTime": {
     "end_time": "2020-10-30T16:46:49.392786Z",
     "start_time": "2020-10-30T16:46:49.356002Z"
    },
    "hidden": true
   },
   "outputs": [],
   "source": [
    "# Update this parameter here, the rest is updated by draw_sample_COVID19_SEIRD\n",
    "model.parameters['policy_time'] = samples_dict_wave1['lag_time']"
   ]
  },
  {
   "cell_type": "code",
   "execution_count": null,
   "metadata": {
    "ExecuteTime": {
     "end_time": "2020-10-30T16:47:19.255536Z",
     "start_time": "2020-10-30T16:46:49.918556Z"
    },
    "hidden": true
   },
   "outputs": [],
   "source": [
    "out_july = model.sim(time='2020-07-01', excess_time=samples_dict_wave1['lag_time'],start_date='2020-03-15',\n",
    "                   N=100, draw_fcn=draw_sample_COVID19_SEIRD,samples=samples_dict_wave1)\n",
    "states = out_july.isel(time=-1).mean(dim=\"draws\")\n",
    "initial_states_july1 = {key:states[key].values for key in initial_states.keys()}"
   ]
  },
  {
   "cell_type": "code",
   "execution_count": null,
   "metadata": {
    "ExecuteTime": {
     "end_time": "2020-10-30T16:56:35.394679Z",
     "start_time": "2020-10-30T16:56:35.351424Z"
    },
    "hidden": true
   },
   "outputs": [],
   "source": [
    "np.save('../data/interim/prediction_provinces/Luik_initial_states_july1.npy', initial_states_july1)"
   ]
  },
  {
   "cell_type": "markdown",
   "metadata": {
    "hidden": true
   },
   "source": [
    "## Calibration month July"
   ]
  },
  {
   "cell_type": "code",
   "execution_count": null,
   "metadata": {
    "ExecuteTime": {
     "end_time": "2020-10-30T16:56:33.278642Z",
     "start_time": "2020-10-30T16:56:33.224878Z"
    },
    "hidden": true
   },
   "outputs": [],
   "source": [
    "initial_states_july1 = np.load('../data/interim/prediction_provinces/Luik_initial_states_july1.npy', allow_pickle=True).item()"
   ]
  },
  {
   "cell_type": "code",
   "execution_count": null,
   "metadata": {
    "ExecuteTime": {
     "end_time": "2020-10-30T16:48:17.210748Z",
     "start_time": "2020-10-30T16:48:17.160083Z"
    },
    "hidden": true
   },
   "outputs": [],
   "source": [
    "# Second wave\n",
    "start_date = '2020-07-01'\n",
    "end_beta = '2020-08-01'"
   ]
  },
  {
   "cell_type": "code",
   "execution_count": null,
   "metadata": {
    "ExecuteTime": {
     "end_time": "2020-10-30T16:48:18.968763Z",
     "start_time": "2020-10-30T16:48:18.919319Z"
    },
    "hidden": true
   },
   "outputs": [],
   "source": [
    "len(Luik_ts.loc[start_date:end_beta])"
   ]
  },
  {
   "cell_type": "code",
   "execution_count": null,
   "metadata": {
    "ExecuteTime": {
     "end_time": "2020-10-30T16:48:20.509851Z",
     "start_time": "2020-10-30T16:48:20.188149Z"
    },
    "hidden": true
   },
   "outputs": [],
   "source": [
    "# Load the parameters using `get_COVID19_SEIRD_parameters()`.\n",
    "params = model_parameters.get_COVID19_SEIRD_parameters()\n",
    "#model_sept = models.COVID19_SEIRD(initial_states_sept, params)\n",
    "model_july = models.COVID19_SEIRD(initial_states_july1, params)"
   ]
  },
  {
   "cell_type": "code",
   "execution_count": null,
   "metadata": {
    "ExecuteTime": {
     "end_time": "2020-10-30T16:48:20.699738Z",
     "start_time": "2020-10-30T16:48:20.663234Z"
    },
    "hidden": true
   },
   "outputs": [],
   "source": [
    "# function parameters \n",
    "timeseries = Luik_ts['NEW_IN']\n",
    "spatial_unit = 'Luik_July'"
   ]
  },
  {
   "cell_type": "code",
   "execution_count": null,
   "metadata": {
    "ExecuteTime": {
     "end_time": "2020-10-30T16:48:22.470225Z",
     "start_time": "2020-10-30T16:48:22.432509Z"
    },
    "hidden": true
   },
   "outputs": [],
   "source": [
    "beta_init = np.mean(samples_dict_wave1['beta'])\n",
    "sigma_data_init = np.mean(samples_dict_wave1['sigma_data'])"
   ]
  },
  {
   "cell_type": "code",
   "execution_count": null,
   "metadata": {
    "ExecuteTime": {
     "end_time": "2020-10-30T16:51:21.133944Z",
     "start_time": "2020-10-30T16:48:26.896155Z"
    },
    "hidden": true,
    "scrolled": true
   },
   "outputs": [],
   "source": [
    "samples_dict = full_calibration_wave2(model_july, timeseries, spatial_unit, start_date, end_beta, \n",
    "                                      beta_init, sigma_data_init, None,None,\n",
    "                                      fig_path=fig_path, samples_path=samples_path,\n",
    "                                      initN=initN, Nc_total=Nc_total,steps_mcmc=1000)"
   ]
  },
  {
   "cell_type": "code",
   "execution_count": null,
   "metadata": {
    "ExecuteTime": {
     "end_time": "2020-10-30T16:52:49.951381Z",
     "start_time": "2020-10-30T16:52:49.843952Z"
    },
    "hidden": true,
    "scrolled": false
   },
   "outputs": [],
   "source": [
    "fig,ax = plt.subplots(figsize=(4,4))\n",
    "pd.Series(samples_dict['beta']).hist(ax=ax)"
   ]
  },
  {
   "cell_type": "code",
   "execution_count": null,
   "metadata": {
    "ExecuteTime": {
     "end_time": "2020-10-30T16:55:10.441581Z",
     "start_time": "2020-10-30T16:54:47.961115Z"
    },
    "hidden": true
   },
   "outputs": [],
   "source": [
    "states = [['H_in']]\n",
    "end_date = end_beta\n",
    "data=[timeseries[start_date:end_beta].values]\n",
    "\n",
    "fig,ax=plt.subplots(figsize=(8,8))\n",
    "for i in range(200):\n",
    "    idx,model_july.parameters['beta'] = random.choice(list(enumerate(samples_dict['beta'])))\n",
    "    y_model = model_july.sim(time=end_date, excess_time=0, start_date=start_date)\n",
    "    ax = plot_fit(y_model,data,start_date,lag_time=0,states=states,end_date=end_date,\n",
    "                  with_ints=False,ax=ax,plt_kwargs={'color':'blue','linewidth': 2,'alpha': 0.05})\n",
    "plt.setp(plt.gca().xaxis.get_majorticklabels(),'rotation', 0)\n",
    "#data_after_calib = timeseries[pd.to_datetime(end_ramp)+pd.to_timedelta('1d'):end_date]\n",
    "#plt.scatter(data_after_calib.index, data_after_calib.values, marker='o',color='red',linestyle='None',facecolors='none')\n",
    "legend_text=['daily \\nhospitalizations']\n",
    "ax.set_xlim(start_date, end_date)\n",
    "ax.set_ylabel('daily hospitalizations')\n",
    "fig.savefig(fig_path+spatial_unit+'.pdf',\n",
    "            bbox_inches='tight', dpi=600)"
   ]
  },
  {
   "cell_type": "markdown",
   "metadata": {
    "hidden": true
   },
   "source": [
    "## Simulation until 1 August"
   ]
  },
  {
   "cell_type": "code",
   "execution_count": null,
   "metadata": {
    "ExecuteTime": {
     "end_time": "2020-10-30T16:57:18.704357Z",
     "start_time": "2020-10-30T16:57:18.651429Z"
    },
    "hidden": true
   },
   "outputs": [],
   "source": [
    "# Load the dictionary containing the posterior parameter distributions obtained from calibrating the model to Belgian hospitalization data\n",
    "with open('../data/interim/model_parameters/provinces/Luik_July_2020-10-30.json', 'r') as fp:\n",
    "    samples_dict_july = json.load(fp)"
   ]
  },
  {
   "cell_type": "code",
   "execution_count": null,
   "metadata": {
    "ExecuteTime": {
     "end_time": "2020-10-30T16:46:49.392786Z",
     "start_time": "2020-10-30T16:46:49.356002Z"
    },
    "hidden": true
   },
   "outputs": [],
   "source": [
    "# Update this parameter here, the rest is updated by draw_sample_COVID19_SEIRD\n",
    "# model.parameters['policy_time'] = samples_dict_wave1['lag_time']"
   ]
  },
  {
   "cell_type": "code",
   "execution_count": null,
   "metadata": {
    "ExecuteTime": {
     "end_time": "2020-10-30T17:01:08.718045Z",
     "start_time": "2020-10-30T17:01:03.129460Z"
    },
    "hidden": true
   },
   "outputs": [],
   "source": [
    "out_aug = model_july.sim(time='2020-08-01', excess_time=0,start_date='2020-07-01',\n",
    "                   N=100, draw_fcn=draw_sample_beta_COVID19_SEIRD,samples=samples_dict_july)\n",
    "states = out_aug.isel(time=-1).mean(dim=\"draws\")\n",
    "initial_states_aug1 = {key:states[key].values for key in initial_states.keys()}"
   ]
  },
  {
   "cell_type": "code",
   "execution_count": null,
   "metadata": {
    "ExecuteTime": {
     "end_time": "2020-10-30T17:01:31.713350Z",
     "start_time": "2020-10-30T17:01:31.672096Z"
    },
    "hidden": true
   },
   "outputs": [],
   "source": [
    "np.save('../data/interim/prediction_provinces/Luik_initial_states_aug1.npy', initial_states_aug1)"
   ]
  },
  {
   "cell_type": "markdown",
   "metadata": {
    "hidden": true
   },
   "source": [
    "## Calibration month August"
   ]
  },
  {
   "cell_type": "code",
   "execution_count": null,
   "metadata": {
    "ExecuteTime": {
     "end_time": "2020-10-30T17:02:03.014165Z",
     "start_time": "2020-10-30T17:02:02.815531Z"
    },
    "hidden": true
   },
   "outputs": [],
   "source": [
    "initial_states_aug1 = np.load('../data/interim/prediction_provinces/Luik_initial_states_aug1.npy', allow_pickle=True).item()"
   ]
  },
  {
   "cell_type": "code",
   "execution_count": null,
   "metadata": {
    "ExecuteTime": {
     "end_time": "2020-10-30T17:02:09.305370Z",
     "start_time": "2020-10-30T17:02:09.267629Z"
    },
    "hidden": true
   },
   "outputs": [],
   "source": [
    "# Second wave\n",
    "start_date = '2020-08-01'\n",
    "end_beta = '2020-09-01'"
   ]
  },
  {
   "cell_type": "code",
   "execution_count": null,
   "metadata": {
    "ExecuteTime": {
     "end_time": "2020-10-30T17:02:09.879670Z",
     "start_time": "2020-10-30T17:02:09.837543Z"
    },
    "hidden": true
   },
   "outputs": [],
   "source": [
    "len(Luik_ts.loc[start_date:end_beta])"
   ]
  },
  {
   "cell_type": "code",
   "execution_count": null,
   "metadata": {
    "ExecuteTime": {
     "end_time": "2020-10-30T17:02:20.592714Z",
     "start_time": "2020-10-30T17:02:20.259567Z"
    },
    "hidden": true
   },
   "outputs": [],
   "source": [
    "# Load the parameters using `get_COVID19_SEIRD_parameters()`.\n",
    "params = model_parameters.get_COVID19_SEIRD_parameters()\n",
    "#model_sept = models.COVID19_SEIRD(initial_states_sept, params)\n",
    "model_aug = models.COVID19_SEIRD(initial_states_aug1, params)"
   ]
  },
  {
   "cell_type": "code",
   "execution_count": null,
   "metadata": {
    "ExecuteTime": {
     "end_time": "2020-10-30T17:02:24.887844Z",
     "start_time": "2020-10-30T17:02:24.845045Z"
    },
    "hidden": true
   },
   "outputs": [],
   "source": [
    "# function parameters \n",
    "timeseries = Luik_ts['NEW_IN']\n",
    "spatial_unit = 'Luik_Aug'"
   ]
  },
  {
   "cell_type": "code",
   "execution_count": null,
   "metadata": {
    "ExecuteTime": {
     "end_time": "2020-10-30T17:06:53.236522Z",
     "start_time": "2020-10-30T17:06:53.197798Z"
    },
    "hidden": true
   },
   "outputs": [],
   "source": [
    "beta_init = np.mean(samples_dict_july['beta'])\n",
    "sigma_data_init = np.mean(samples_dict_wave1['sigma_data'])"
   ]
  },
  {
   "cell_type": "code",
   "execution_count": null,
   "metadata": {
    "ExecuteTime": {
     "end_time": "2020-10-30T17:07:09.535256Z",
     "start_time": "2020-10-30T17:07:09.493727Z"
    },
    "hidden": true
   },
   "outputs": [],
   "source": [
    "mu_beta, std_beta = norm.fit(samples_dict_july['beta'])\n",
    "mu_sigma_data, std_sigma_data = norm.fit(samples_dict_wave1['sigma_data']) # should be on july!\n",
    "beta_norm_params = (mu_beta, std_beta)\n",
    "sigma_data_norm_params = (mu_sigma_data, std_sigma_data)"
   ]
  },
  {
   "cell_type": "code",
   "execution_count": null,
   "metadata": {
    "ExecuteTime": {
     "end_time": "2020-10-30T17:45:38.944138Z",
     "start_time": "2020-10-30T17:42:39.898370Z"
    },
    "hidden": true
   },
   "outputs": [],
   "source": [
    "samples_dict = full_calibration_wave2(model_aug, timeseries, spatial_unit, start_date, end_beta, \n",
    "                                      beta_init, sigma_data_init, None, None,\n",
    "                                      fig_path=fig_path, samples_path=samples_path,\n",
    "                                      initN=initN, Nc_total=Nc_total,steps_mcmc=1000)"
   ]
  },
  {
   "cell_type": "code",
   "execution_count": null,
   "metadata": {
    "ExecuteTime": {
     "end_time": "2020-10-30T17:45:56.766698Z",
     "start_time": "2020-10-30T17:45:56.509328Z"
    },
    "hidden": true
   },
   "outputs": [],
   "source": [
    "fig,ax = plt.subplots(figsize=(4,4))\n",
    "pd.Series(samples_dict['beta']).hist(ax=ax)"
   ]
  },
  {
   "cell_type": "code",
   "execution_count": null,
   "metadata": {
    "ExecuteTime": {
     "end_time": "2020-10-30T17:49:01.217041Z",
     "start_time": "2020-10-30T17:48:58.606651Z"
    },
    "hidden": true
   },
   "outputs": [],
   "source": [
    "## Deze herrunnen!\n",
    "states = [['H_in']]\n",
    "end_date = end_beta\n",
    "data=[timeseries[start_date:end_beta].values]\n",
    "\n",
    "fig,ax=plt.subplots(figsize=(8,8))\n",
    "for i in range(20):\n",
    "    idx,model_aug.parameters['beta'] = random.choice(list(enumerate(samples_dict_aug['beta'])))\n",
    "    y_model = model_aug.sim(time=end_date, excess_time=0, start_date=start_date)\n",
    "    ax = plot_fit(y_model,data,start_date,lag_time=0,states=states,end_date=end_date,\n",
    "                  with_ints=False,ax=ax,plt_kwargs={'color':'blue','linewidth': 2,'alpha': 0.05})\n",
    "plt.setp(plt.gca().xaxis.get_majorticklabels(),'rotation', 0)\n",
    "#data_after_calib = timeseries[pd.to_datetime(end_ramp)+pd.to_timedelta('1d'):end_date]\n",
    "#plt.scatter(data_after_calib.index, data_after_calib.values, marker='o',color='red',linestyle='None',facecolors='none')\n",
    "legend_text=['daily \\nhospitalizations']\n",
    "ax.set_xlim(start_date, end_date)\n",
    "ax.set_ylabel('daily hospitalizations')\n",
    "# fig.savefig(fig_path+spatial_unit+'.pdf',\n",
    "#             bbox_inches='tight', dpi=600)"
   ]
  },
  {
   "cell_type": "code",
   "execution_count": null,
   "metadata": {
    "hidden": true
   },
   "outputs": [],
   "source": []
  },
  {
   "cell_type": "markdown",
   "metadata": {
    "hidden": true
   },
   "source": [
    "## Simulation until 1 September"
   ]
  },
  {
   "cell_type": "code",
   "execution_count": null,
   "metadata": {
    "ExecuteTime": {
     "end_time": "2020-10-30T17:51:15.869769Z",
     "start_time": "2020-10-30T17:51:15.655962Z"
    },
    "hidden": true
   },
   "outputs": [],
   "source": [
    "# Load the dictionary containing the posterior parameter distributions obtained from calibrating the model to Belgian hospitalization data\n",
    "with open('../data/interim/model_parameters/provinces/Luik_Aug_2020-10-30.json', 'r') as fp:\n",
    "    samples_dict_aug = json.load(fp)"
   ]
  },
  {
   "cell_type": "code",
   "execution_count": null,
   "metadata": {
    "ExecuteTime": {
     "end_time": "2020-10-30T16:46:49.392786Z",
     "start_time": "2020-10-30T16:46:49.356002Z"
    },
    "hidden": true
   },
   "outputs": [],
   "source": [
    "# Update this parameter here, the rest is updated by draw_sample_COVID19_SEIRD\n",
    "# model.parameters['policy_time'] = samples_dict_wave1['lag_time']"
   ]
  },
  {
   "cell_type": "code",
   "execution_count": null,
   "metadata": {
    "ExecuteTime": {
     "end_time": "2020-10-30T17:51:24.928761Z",
     "start_time": "2020-10-30T17:51:19.336448Z"
    },
    "hidden": true
   },
   "outputs": [],
   "source": [
    "out_sept = model_aug.sim(time='2020-09-01', excess_time=0,start_date='2020-08-01',\n",
    "                   N=100, draw_fcn=draw_sample_beta_COVID19_SEIRD,samples=samples_dict_aug)\n",
    "states = out_sept.isel(time=-1).mean(dim=\"draws\")\n",
    "initial_states_sept1 = {key:states[key].values for key in initial_states.keys()}"
   ]
  },
  {
   "cell_type": "code",
   "execution_count": null,
   "metadata": {
    "ExecuteTime": {
     "end_time": "2020-10-30T17:51:33.711786Z",
     "start_time": "2020-10-30T17:51:33.673224Z"
    },
    "hidden": true
   },
   "outputs": [],
   "source": [
    "np.save('../data/interim/prediction_provinces/Luik_initial_states_sept1.npy', initial_states_sept1)"
   ]
  },
  {
   "cell_type": "code",
   "execution_count": null,
   "metadata": {
    "ExecuteTime": {
     "end_time": "2020-10-30T17:51:25.318521Z",
     "start_time": "2020-10-30T17:51:25.271583Z"
    },
    "hidden": true
   },
   "outputs": [],
   "source": [
    "initial_states_sept1"
   ]
  },
  {
   "cell_type": "markdown",
   "metadata": {
    "hidden": true
   },
   "source": [
    "## Calibration month September"
   ]
  },
  {
   "cell_type": "code",
   "execution_count": null,
   "metadata": {
    "ExecuteTime": {
     "end_time": "2020-10-30T17:51:58.368440Z",
     "start_time": "2020-10-30T17:51:58.330641Z"
    },
    "hidden": true
   },
   "outputs": [],
   "source": [
    "initial_states_sept1 = np.load('../data/interim/prediction_provinces/Luik_initial_states_sept1.npy', allow_pickle=True).item()"
   ]
  },
  {
   "cell_type": "code",
   "execution_count": null,
   "metadata": {
    "ExecuteTime": {
     "end_time": "2020-10-30T17:52:06.817390Z",
     "start_time": "2020-10-30T17:52:06.780931Z"
    },
    "hidden": true
   },
   "outputs": [],
   "source": [
    "# Second wave\n",
    "start_date = '2020-09-01'\n",
    "end_beta = '2020-10-01'"
   ]
  },
  {
   "cell_type": "code",
   "execution_count": null,
   "metadata": {
    "ExecuteTime": {
     "end_time": "2020-10-30T17:52:08.496601Z",
     "start_time": "2020-10-30T17:52:08.455785Z"
    },
    "hidden": true
   },
   "outputs": [],
   "source": [
    "len(Luik_ts.loc[start_date:end_beta])"
   ]
  },
  {
   "cell_type": "code",
   "execution_count": null,
   "metadata": {
    "ExecuteTime": {
     "end_time": "2020-10-30T17:52:15.480377Z",
     "start_time": "2020-10-30T17:52:15.157707Z"
    },
    "hidden": true
   },
   "outputs": [],
   "source": [
    "# Load the parameters using `get_COVID19_SEIRD_parameters()`.\n",
    "params = model_parameters.get_COVID19_SEIRD_parameters()\n",
    "#model_sept = models.COVID19_SEIRD(initial_states_sept, params)\n",
    "model_sept = models.COVID19_SEIRD(initial_states_sept1, params)"
   ]
  },
  {
   "cell_type": "code",
   "execution_count": null,
   "metadata": {
    "ExecuteTime": {
     "end_time": "2020-10-30T17:52:18.721870Z",
     "start_time": "2020-10-30T17:52:18.524171Z"
    },
    "hidden": true
   },
   "outputs": [],
   "source": [
    "# function parameters \n",
    "timeseries = Luik_ts['NEW_IN']\n",
    "spatial_unit = 'Luik_Sept'"
   ]
  },
  {
   "cell_type": "code",
   "execution_count": null,
   "metadata": {
    "ExecuteTime": {
     "end_time": "2020-10-30T18:02:55.232222Z",
     "start_time": "2020-10-30T18:02:55.194458Z"
    },
    "hidden": true
   },
   "outputs": [],
   "source": [
    "beta_init = 0.03\n",
    "sigma_data_init = np.mean(samples_dict_wave1['sigma_data'])"
   ]
  },
  {
   "cell_type": "code",
   "execution_count": null,
   "metadata": {
    "ExecuteTime": {
     "end_time": "2020-10-30T17:52:31.456104Z",
     "start_time": "2020-10-30T17:52:31.416945Z"
    },
    "hidden": true
   },
   "outputs": [],
   "source": [
    "# mu_beta, std_beta = norm.fit(samples_dict_aug['beta'])\n",
    "# mu_sigma_data, std_sigma_data = norm.fit(samples_dict_wave1['sigma_data']) # should be on aug!\n",
    "# beta_norm_params = (mu_beta, std_beta)\n",
    "# sigma_data_norm_params = (mu_sigma_data, std_sigma_data)"
   ]
  },
  {
   "cell_type": "code",
   "execution_count": null,
   "metadata": {
    "ExecuteTime": {
     "end_time": "2020-10-30T18:06:18.300489Z",
     "start_time": "2020-10-30T18:02:59.457873Z"
    },
    "hidden": true
   },
   "outputs": [],
   "source": [
    "samples_dict = full_calibration_wave2(model_aug, timeseries, spatial_unit, start_date, end_beta, \n",
    "                                      beta_init, sigma_data_init, None, None,\n",
    "                                      fig_path=fig_path, samples_path=samples_path,\n",
    "                                      initN=initN, Nc_total=Nc_total,steps_mcmc=1000)"
   ]
  },
  {
   "cell_type": "code",
   "execution_count": null,
   "metadata": {
    "ExecuteTime": {
     "end_time": "2020-10-30T18:07:19.956638Z",
     "start_time": "2020-10-30T18:07:19.689726Z"
    },
    "hidden": true
   },
   "outputs": [],
   "source": [
    "fig,ax = plt.subplots(figsize=(4,4))\n",
    "pd.Series(samples_dict['beta']).hist(ax=ax)"
   ]
  },
  {
   "cell_type": "code",
   "execution_count": null,
   "metadata": {
    "ExecuteTime": {
     "end_time": "2020-10-30T18:07:28.841956Z",
     "start_time": "2020-10-30T18:07:25.461128Z"
    },
    "hidden": true
   },
   "outputs": [],
   "source": [
    "states = [['H_in']]\n",
    "end_date = end_beta\n",
    "data=[timeseries[start_date:end_beta].values]\n",
    "\n",
    "fig,ax=plt.subplots(figsize=(8,8))\n",
    "for i in range(20):\n",
    "    idx,model_sept.parameters['beta'] = random.choice(list(enumerate(samples_dict['beta'])))\n",
    "    y_model = model_sept.sim(time=end_date, excess_time=0, start_date=start_date)\n",
    "    ax = plot_fit(y_model,data,start_date,lag_time=0,states=states,end_date=end_date,\n",
    "                  with_ints=False,ax=ax,plt_kwargs={'color':'blue','linewidth': 2,'alpha': 0.05})\n",
    "plt.setp(plt.gca().xaxis.get_majorticklabels(),'rotation', 0)\n",
    "#data_after_calib = timeseries[pd.to_datetime(end_ramp)+pd.to_timedelta('1d'):end_date]\n",
    "#plt.scatter(data_after_calib.index, data_after_calib.values, marker='o',color='red',linestyle='None',facecolors='none')\n",
    "legend_text=['daily \\nhospitalizations']\n",
    "ax.set_xlim(start_date, end_date)\n",
    "ax.set_ylabel('daily hospitalizations')\n",
    "fig.savefig(fig_path+spatial_unit+'.pdf',\n",
    "            bbox_inches='tight', dpi=600)"
   ]
  },
  {
   "cell_type": "markdown",
   "metadata": {
    "heading_collapsed": true
   },
   "source": [
    "# Calibration on October"
   ]
  },
  {
   "cell_type": "markdown",
   "metadata": {
    "hidden": true
   },
   "source": [
    "## Simulation until end September"
   ]
  },
  {
   "cell_type": "code",
   "execution_count": null,
   "metadata": {
    "ExecuteTime": {
     "end_time": "2020-11-04T12:37:57.965760Z",
     "start_time": "2020-11-04T12:37:57.898046Z"
    },
    "hidden": true
   },
   "outputs": [],
   "source": [
    "# Load the dictionary containing the posterior parameter distributions obtained from calibrating the model to Belgian hospitalization data\n",
    "with open('../data/interim/model_parameters/provinces/Hainaut_wave1_2020-11-03.json', 'r') as fp:\n",
    "    samples_dict_wave1 = json.load(fp)"
   ]
  },
  {
   "cell_type": "code",
   "execution_count": null,
   "metadata": {
    "ExecuteTime": {
     "end_time": "2020-11-04T09:16:21.094032Z",
     "start_time": "2020-11-04T09:15:58.236100Z"
    },
    "hidden": true,
    "scrolled": false
   },
   "outputs": [],
   "source": [
    "states = [['H_in']]\n",
    "end_date = '2020-09-28'\n",
    "data=[timeseries[start_date:end_ramp].values]\n",
    "\n",
    "fig,ax=plt.subplots()\n",
    "for i in range(20):\n",
    "    idx,model.parameters['beta'] = random.choice(list(enumerate(samples_dict_wave1['beta'])))\n",
    "    idx,model.parameters['l'] = random.choice(list(enumerate(samples_dict_wave1['l'])))\n",
    "    model.parameters['tau'] = samples_dict_wave1['tau'][idx]\n",
    "    model.parameters['policy_time'] = samples_dict_wave1['warmup']\n",
    "    model.parameters['prevention'] = samples_dict_wave1['prevention'][idx]\n",
    "    y_model = model.sim(time=end_date, excess_time=samples_dict_wave1['warmup'], start_date=start_date)\n",
    "    ax = plot_fit(y_model,data,start_date,samples_dict_wave1['warmup'],states,end_date=end_date,with_ints=False,ax=ax,plt_kwargs={'color':'blue','linewidth': 2,'alpha': 0.05})\n",
    "\n",
    "data_after_calib = timeseries[pd.to_datetime(end_ramp)+pd.to_timedelta('1d'):end_date]\n",
    "plt.scatter(data_after_calib.index, data_after_calib.values, marker='o',color='red',linestyle='None',facecolors='none')\n",
    "legend_text=['daily \\nhospitalizations']\n",
    "ax.set_xlim('2020-03-10', end_date)"
   ]
  },
  {
   "cell_type": "code",
   "execution_count": null,
   "metadata": {
    "ExecuteTime": {
     "end_time": "2020-11-04T07:23:51.371705Z",
     "start_time": "2020-11-04T07:23:19.644810Z"
    },
    "hidden": true
   },
   "outputs": [],
   "source": [
    "out_sept28 = model.sim(time='2020-09-28', excess_time=samples_dict_wave1['warmup'],start_date='2020-03-15',\n",
    "                   N=10, draw_fcn=draw_sample_COVID19_SEIRD,samples=samples_dict_wave1)\n",
    "states = out_sept28.isel(time=-1).mean(dim=\"draws\")\n",
    "initial_states_sept28 = {key:states[key].values for key in initial_states.keys()}"
   ]
  },
  {
   "cell_type": "code",
   "execution_count": null,
   "metadata": {
    "ExecuteTime": {
     "end_time": "2020-11-04T07:25:25.232184Z",
     "start_time": "2020-11-04T07:24:44.939509Z"
    },
    "hidden": true
   },
   "outputs": [],
   "source": [
    "out_sept28.isel(time=-1).mean(dim=\"draws\")"
   ]
  },
  {
   "cell_type": "code",
   "execution_count": null,
   "metadata": {
    "ExecuteTime": {
     "end_time": "2020-11-03T12:22:51.354146Z",
     "start_time": "2020-11-03T12:22:51.148133Z"
    },
    "hidden": true
   },
   "outputs": [],
   "source": [
    "np.save('../data/interim/prediction_provinces/Hainaut_initial_states_Sept28.npy', initial_states_sept28)"
   ]
  },
  {
   "cell_type": "markdown",
   "metadata": {
    "hidden": true
   },
   "source": [
    "## Calibration starting September 28"
   ]
  },
  {
   "cell_type": "code",
   "execution_count": null,
   "metadata": {
    "ExecuteTime": {
     "end_time": "2020-11-04T07:21:16.761589Z",
     "start_time": "2020-11-04T07:21:16.550870Z"
    },
    "hidden": true
   },
   "outputs": [],
   "source": [
    "initial_states_sept28 = np.load('../data/interim/prediction_provinces/Hainaut_initial_states_Sept28.npy', allow_pickle=True).item()"
   ]
  },
  {
   "cell_type": "code",
   "execution_count": null,
   "metadata": {
    "ExecuteTime": {
     "end_time": "2020-11-04T07:21:20.147849Z",
     "start_time": "2020-11-04T07:21:20.100278Z"
    },
    "hidden": true
   },
   "outputs": [],
   "source": [
    "initial_states_sept28"
   ]
  },
  {
   "cell_type": "code",
   "execution_count": null,
   "metadata": {
    "ExecuteTime": {
     "end_time": "2020-11-03T12:28:56.548419Z",
     "start_time": "2020-11-03T12:28:56.512449Z"
    },
    "hidden": true
   },
   "outputs": [],
   "source": [
    "# Second wave\n",
    "start_date = '2020-09-28'\n",
    "end_beta = '2020-10-30'"
   ]
  },
  {
   "cell_type": "code",
   "execution_count": null,
   "metadata": {
    "ExecuteTime": {
     "end_time": "2020-11-03T12:28:57.818586Z",
     "start_time": "2020-11-03T12:28:57.778655Z"
    },
    "hidden": true
   },
   "outputs": [],
   "source": [
    "len(Hainaut_ts.loc[start_date:end_beta])"
   ]
  },
  {
   "cell_type": "code",
   "execution_count": null,
   "metadata": {
    "ExecuteTime": {
     "end_time": "2020-11-03T12:29:01.024174Z",
     "start_time": "2020-11-03T12:29:00.690190Z"
    },
    "hidden": true
   },
   "outputs": [],
   "source": [
    "# Load the parameters using `get_COVID19_SEIRD_parameters()`.\n",
    "params = model_parameters.get_COVID19_SEIRD_parameters()\n",
    "model = models.COVID19_SEIRD(initial_states_sept28, params)"
   ]
  },
  {
   "cell_type": "code",
   "execution_count": null,
   "metadata": {
    "ExecuteTime": {
     "end_time": "2020-11-03T12:29:25.898218Z",
     "start_time": "2020-11-03T12:29:25.861606Z"
    },
    "hidden": true
   },
   "outputs": [],
   "source": [
    "# function parameters \n",
    "timeseries = Hainaut_ts['NEW_IN']\n",
    "spatial_unit = 'Hainaut_wave2_from_sept28'\n"
   ]
  },
  {
   "cell_type": "code",
   "execution_count": null,
   "metadata": {
    "ExecuteTime": {
     "end_time": "2020-10-30T16:45:43.424521Z",
     "start_time": "2020-10-30T16:45:43.386749Z"
    },
    "hidden": true
   },
   "outputs": [],
   "source": [
    "# mu_beta, std_beta = norm.fit(samples_dict_wave1['beta'])\n",
    "# mu_sigma_data, std_sigma_data = norm.fit(samples_dict_wave1['beta'])\n",
    "# beta_norm_params = (mu_beta, std_beta)\n",
    "# sigma_data_norm_params = (mu_sigma_data, std_sigma_data)"
   ]
  },
  {
   "cell_type": "code",
   "execution_count": null,
   "metadata": {
    "ExecuteTime": {
     "end_time": "2020-11-03T12:29:46.952670Z",
     "start_time": "2020-11-03T12:29:46.914543Z"
    },
    "hidden": true
   },
   "outputs": [],
   "source": [
    "beta_init = np.mean(samples_dict_wave1['beta'])\n",
    "sigma_data_init = np.mean(samples_dict_wave1['sigma_data'])\n"
   ]
  },
  {
   "cell_type": "code",
   "execution_count": null,
   "metadata": {
    "ExecuteTime": {
     "end_time": "2020-11-03T13:28:04.611571Z",
     "start_time": "2020-11-03T13:24:26.645535Z"
    },
    "hidden": true,
    "scrolled": true
   },
   "outputs": [],
   "source": [
    "samples_dict = full_calibration_wave2(model, timeseries, spatial_unit, start_date, end_beta, \n",
    "                                      beta_init, sigma_data_init, None, None,\n",
    "                                      fig_path=fig_path, samples_path=samples_path,\n",
    "                                      initN=initN, Nc_total=Nc_total, \n",
    "                                      maxiter=100, popsize=200, steps_mcmc=1000)"
   ]
  },
  {
   "cell_type": "code",
   "execution_count": null,
   "metadata": {
    "ExecuteTime": {
     "end_time": "2020-11-03T13:28:08.553596Z",
     "start_time": "2020-11-03T13:28:08.297760Z"
    },
    "hidden": true
   },
   "outputs": [],
   "source": [
    "fig, ax = plt.subplots()\n",
    "pd.Series(samples_dict['beta']).hist(ax=ax)"
   ]
  },
  {
   "cell_type": "code",
   "execution_count": null,
   "metadata": {
    "ExecuteTime": {
     "end_time": "2020-11-03T13:28:18.990064Z",
     "start_time": "2020-11-03T13:28:14.766876Z"
    },
    "hidden": true,
    "scrolled": false
   },
   "outputs": [],
   "source": [
    "states = [['H_in']]\n",
    "end_date = '2021-01-01' #end_beta\n",
    "data=[timeseries[start_date:end_beta].values]\n",
    "\n",
    "fig,ax=plt.subplots(figsize=(8,8))\n",
    "for i in range(20):\n",
    "    idx,model.parameters['beta'] = random.choice(list(enumerate(samples_dict['beta'])))\n",
    "    y_model = model.sim(time=end_date, excess_time=0, start_date=start_date)\n",
    "    ax = plot_fit(y_model,data,start_date,lag_time=0,states=states,end_date=end_date,\n",
    "                  with_ints=False,ax=ax,plt_kwargs={'color':'blue','linewidth': 2,'alpha': 0.05})\n",
    "plt.setp(plt.gca().xaxis.get_majorticklabels(),'rotation', 0)\n",
    "#data_after_calib = timeseries[pd.to_datetime(end_ramp)+pd.to_timedelta('1d'):end_date]\n",
    "#plt.scatter(data_after_calib.index, data_after_calib.values, marker='o',color='red',linestyle='None',facecolors='none')\n",
    "legend_text=['daily \\nhospitalizations']\n",
    "ax.set_xlim('2020-09-01', '2021-01-01')\n",
    "ax.set_ylabel('daily hospitalizations')\n",
    "# fig.savefig(fig_path+spatial_unit+'.pdf',\n",
    "#             bbox_inches='tight', dpi=600)"
   ]
  },
  {
   "cell_type": "code",
   "execution_count": null,
   "metadata": {
    "ExecuteTime": {
     "end_time": "2020-11-03T16:34:58.686772Z",
     "start_time": "2020-11-03T16:34:58.210403Z"
    },
    "hidden": true
   },
   "outputs": [],
   "source": [
    "fig.savefig(fig_path+spatial_unit+'.pdf',\n",
    "            bbox_inches='tight', dpi=600)"
   ]
  },
  {
   "cell_type": "markdown",
   "metadata": {
    "heading_collapsed": true
   },
   "source": [
    "# Calibration from August 1"
   ]
  },
  {
   "cell_type": "code",
   "execution_count": 8,
   "metadata": {
    "ExecuteTime": {
     "end_time": "2020-11-09T08:51:37.254806Z",
     "start_time": "2020-11-09T08:51:37.187172Z"
    },
    "hidden": true
   },
   "outputs": [],
   "source": [
    "# Load the dictionary containing the posterior parameter distributions obtained from calibrating the model to Belgian hospitalization data\n",
    "with open('../data/interim/model_parameters/COVID19_SEIRD/calibrations/provinces/Hainaut_wave1_2020-11-04.json', 'r') as fp:\n",
    "    samples_dict_wave1 = json.load(fp)"
   ]
  },
  {
   "cell_type": "markdown",
   "metadata": {
    "heading_collapsed": true,
    "hidden": true
   },
   "source": [
    "## Simulation until August 1 with policies"
   ]
  },
  {
   "cell_type": "code",
   "execution_count": null,
   "metadata": {
    "ExecuteTime": {
     "end_time": "2020-11-04T07:46:01.543927Z",
     "start_time": "2020-11-04T07:44:20.007513Z"
    },
    "hidden": true
   },
   "outputs": [],
   "source": [
    "out_aug1 = model_wave1_with_policies.sim(time='2020-08-01', excess_time=samples_dict_wave1['warmup'],start_date='2020-03-15',\n",
    "                   N=100, draw_fcn=draw_sample_COVID19_SEIRD,samples=samples_dict_wave1)\n",
    "states = out_aug1.isel(time=-1).mean(dim=\"draws\")\n",
    "initial_states_aug1 = {key:states[key].values for key in initial_states.keys()}"
   ]
  },
  {
   "cell_type": "code",
   "execution_count": null,
   "metadata": {
    "ExecuteTime": {
     "end_time": "2020-11-04T07:46:23.517716Z",
     "start_time": "2020-11-04T07:46:23.479741Z"
    },
    "hidden": true
   },
   "outputs": [],
   "source": [
    "np.save('../data/interim/prediction_provinces/Hainaut_initial_states_Aug1.npy', initial_states_aug1)"
   ]
  },
  {
   "cell_type": "markdown",
   "metadata": {
    "hidden": true
   },
   "source": [
    "## Simulation until August 1 without policies"
   ]
  },
  {
   "cell_type": "code",
   "execution_count": null,
   "metadata": {
    "ExecuteTime": {
     "end_time": "2020-11-04T16:15:26.444071Z",
     "start_time": "2020-11-04T16:14:59.299799Z"
    },
    "hidden": true
   },
   "outputs": [],
   "source": [
    "out_aug1 = model_wave1.sim(time='2020-08-01', excess_time=samples_dict_wave1['warmup'],start_date='2020-03-15',\n",
    "                   N=100, draw_fcn=draw_sample_COVID19_SEIRD,samples=samples_dict_wave1)\n",
    "states = out_aug1.isel(time=-1).mean(dim=\"draws\")\n",
    "initial_states_aug1 = {key:states[key].values for key in initial_states.keys()}"
   ]
  },
  {
   "cell_type": "code",
   "execution_count": null,
   "metadata": {
    "ExecuteTime": {
     "end_time": "2020-11-04T16:15:45.259605Z",
     "start_time": "2020-11-04T16:15:45.219491Z"
    },
    "hidden": true
   },
   "outputs": [],
   "source": [
    "np.save('../data/interim/initial_states_provinces/'+spatial_unit+'_Aug1.npy', initial_states_aug1)"
   ]
  },
  {
   "cell_type": "markdown",
   "metadata": {
    "hidden": true
   },
   "source": [
    "## Calibration starting August 1"
   ]
  },
  {
   "cell_type": "code",
   "execution_count": null,
   "metadata": {
    "ExecuteTime": {
     "end_time": "2020-11-04T21:56:37.295812Z",
     "start_time": "2020-11-04T21:56:37.102012Z"
    },
    "hidden": true
   },
   "outputs": [],
   "source": [
    "initial_states_aug1 = np.load('../data/interim/initial_states_provinces/Hainaut_wave1_Aug1.npy', allow_pickle=True).item()"
   ]
  },
  {
   "cell_type": "code",
   "execution_count": null,
   "metadata": {
    "ExecuteTime": {
     "end_time": "2020-11-04T21:56:37.790605Z",
     "start_time": "2020-11-04T21:56:37.753166Z"
    },
    "hidden": true
   },
   "outputs": [],
   "source": [
    "# Second wave\n",
    "start_date = '2020-08-01'\n",
    "end_beta = '2020-10-31'"
   ]
  },
  {
   "cell_type": "code",
   "execution_count": null,
   "metadata": {
    "ExecuteTime": {
     "end_time": "2020-11-04T21:56:38.665039Z",
     "start_time": "2020-11-04T21:56:38.622402Z"
    },
    "hidden": true
   },
   "outputs": [],
   "source": [
    "len(Hainaut_ts.loc[start_date:end_beta])"
   ]
  },
  {
   "cell_type": "code",
   "execution_count": null,
   "metadata": {
    "ExecuteTime": {
     "end_time": "2020-11-04T21:56:40.383577Z",
     "start_time": "2020-11-04T21:56:40.041597Z"
    },
    "hidden": true
   },
   "outputs": [],
   "source": [
    "# Load the parameters using `get_COVID19_SEIRD_parameters()`.\n",
    "params = model_parameters.get_COVID19_SEIRD_parameters()\n",
    "model_wave2_from_aug1 = models.COVID19_SEIRD(initial_states_aug1, params)"
   ]
  },
  {
   "cell_type": "code",
   "execution_count": null,
   "metadata": {
    "ExecuteTime": {
     "end_time": "2020-11-04T08:03:11.766086Z",
     "start_time": "2020-11-04T08:03:11.719303Z"
    },
    "hidden": true
   },
   "outputs": [],
   "source": [
    "# mu_beta, std_beta = norm.fit(samples_dict_wave1['beta'])\n",
    "# mu_sigma_data, std_sigma_data = norm.fit(samples_dict_wave1['beta'])\n",
    "# beta_norm_params = (mu_beta, std_beta)\n",
    "# sigma_data_norm_params = (mu_sigma_data, std_sigma_data)"
   ]
  },
  {
   "cell_type": "code",
   "execution_count": null,
   "metadata": {
    "ExecuteTime": {
     "end_time": "2020-11-04T21:56:42.603556Z",
     "start_time": "2020-11-04T21:56:42.562349Z"
    },
    "hidden": true
   },
   "outputs": [],
   "source": [
    "beta_init = np.mean(samples_dict_wave1['beta'])\n",
    "sigma_data_init = np.mean(samples_dict_wave1['sigma_data'])\n"
   ]
  },
  {
   "cell_type": "code",
   "execution_count": null,
   "metadata": {
    "ExecuteTime": {
     "end_time": "2020-11-04T22:56:50.353622Z",
     "start_time": "2020-11-04T21:56:50.488837Z"
    },
    "hidden": true,
    "scrolled": true
   },
   "outputs": [],
   "source": [
    "spatial_unit = 'Hainaut_wave2_from_aug1_no_policies_10000'\n",
    "samples_dict = full_calibration_wave2(model_wave2_from_aug1, timeseries, spatial_unit, start_date, end_beta, \n",
    "                                      beta_init, sigma_data_init, None, None,\n",
    "                                      fig_path=fig_path, samples_path=samples_path,\n",
    "                                      initN=initN, Nc_total=Nc_total, pso=False,\n",
    "                                      maxiter=100, popsize=200, steps_mcmc=10000)"
   ]
  },
  {
   "cell_type": "code",
   "execution_count": null,
   "metadata": {
    "ExecuteTime": {
     "end_time": "2020-11-05T07:09:48.112116Z",
     "start_time": "2020-11-05T07:09:47.829247Z"
    },
    "hidden": true
   },
   "outputs": [],
   "source": [
    "fig, ax = plt.subplots()\n",
    "pd.Series(samples_dict['beta']).hist(ax=ax)"
   ]
  },
  {
   "cell_type": "code",
   "execution_count": null,
   "metadata": {
    "ExecuteTime": {
     "end_time": "2020-11-05T07:10:47.617660Z",
     "start_time": "2020-11-05T07:10:00.360252Z"
    },
    "hidden": true
   },
   "outputs": [],
   "source": [
    "end_date = '2021-01-01'\n",
    "plot_simulations(start_date, end_ramp, end_date, model_wave2_from_aug1, samples_dict, \n",
    "                timeseries, spatial_unit, n_lines=200, save=True)"
   ]
  },
  {
   "cell_type": "code",
   "execution_count": null,
   "metadata": {
    "hidden": true
   },
   "outputs": [],
   "source": []
  }
 ],
 "metadata": {
  "kernelspec": {
   "display_name": "Python 3",
   "language": "python",
   "name": "python3"
  },
  "language_info": {
   "codemirror_mode": {
    "name": "ipython",
    "version": 3
   },
   "file_extension": ".py",
   "mimetype": "text/x-python",
   "name": "python",
   "nbconvert_exporter": "python",
   "pygments_lexer": "ipython3",
   "version": "3.7.3"
  },
  "toc": {
   "base_numbering": 1,
   "nav_menu": {},
   "number_sections": true,
   "sideBar": true,
   "skip_h1_title": false,
   "title_cell": "Table of Contents",
   "title_sidebar": "Contents",
   "toc_cell": false,
   "toc_position": {
    "height": "calc(100% - 180px)",
    "left": "10px",
    "top": "150px",
    "width": "288px"
   },
   "toc_section_display": true,
   "toc_window_display": true
  }
 },
 "nbformat": 4,
 "nbformat_minor": 4
}
