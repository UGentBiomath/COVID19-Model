{
 "cells": [
  {
   "cell_type": "markdown",
   "metadata": {},
   "source": [
    "**Calibration of the age-stratified deterministic model**\n",
    "\n",
    "*Original code by Ryan S. McGee. Modified by T.W. Alleman in consultation with the BIOMATH research unit headed by prof. Ingmar Nopens.*\n",
    "\n",
    "*Based on the structure in JV-calibration-deterministic-provinces*\n",
    "\n",
    "Copyright (c) 2020 by T.W. Alleman, BIOMATH, Ghent University. All Rights Reserved.\n",
    "\n",
    "This notebook accompanies our preprint: \"*A deterministic, age-stratified, extended SEIRD model for assessing the effect of non-pharmaceutical interventions on SARS-CoV-2 spread in Belgium*\"(https://doi.org/10.1101/2020.07.17.20156034)"
   ]
  },
  {
   "cell_type": "markdown",
   "metadata": {},
   "source": [
    "# Load required packages"
   ]
  },
  {
   "cell_type": "code",
   "execution_count": 1,
   "metadata": {
    "ExecuteTime": {
     "end_time": "2020-12-04T18:08:08.119429Z",
     "start_time": "2020-12-04T18:08:06.636346Z"
    }
   },
   "outputs": [],
   "source": [
    "import random\n",
    "import os\n",
    "import numpy as np\n",
    "%matplotlib notebook\n",
    "import matplotlib.pyplot as plt\n",
    "from IPython.display import Image\n",
    "from ipywidgets import interact,fixed,FloatSlider,IntSlider,ToggleButtons\n",
    "import pandas as pd\n",
    "from datetime import datetime, timedelta\n",
    "import datetime\n",
    "import scipy\n",
    "from scipy.integrate import odeint\n",
    "from scipy.stats import norm\n",
    "import matplotlib.dates as mdates\n",
    "import matplotlib\n",
    "import scipy.stats as st\n",
    "\n",
    "import math\n",
    "import xarray as xr\n",
    "import emcee\n",
    "import json\n",
    "import corner\n",
    "\n",
    "from covid19model.optimization import objective_fcns\n",
    "from covid19model.models import models\n",
    "from covid19model.data import google\n",
    "from covid19model.data import sciensano\n",
    "from covid19model.data import model_parameters\n",
    "from covid19model.visualization.output import population_status, infected\n",
    "from covid19model.visualization.optimization import plot_fit, traceplot\n",
    "from covid19model.optimization.run_optimization import full_calibration_wave1, full_calibration_wave2\n",
    "from covid19model.models.utils import draw_sample_COVID19_SEIRD\n",
    "from covid19model.models.time_dependant_parameter_fncs import ramp_fun, lockdown_func, policies_until_september\n",
    "\n",
    "# OPTIONAL: Load the \"autoreload\" extension so that package code can change\n",
    "%load_ext autoreload\n",
    "# OPTIONAL: always reload modules so that as you change code in src, it gets loaded\n",
    "%autoreload 2"
   ]
  },
  {
   "cell_type": "markdown",
   "metadata": {},
   "source": [
    "# Get public data"
   ]
  },
  {
   "cell_type": "code",
   "execution_count": 2,
   "metadata": {
    "ExecuteTime": {
     "end_time": "2020-12-04T18:08:08.182382Z",
     "start_time": "2020-12-04T18:08:08.121396Z"
    }
   },
   "outputs": [],
   "source": [
    "#df_sciensano = sciensano.get_sciensano_COVID19_data(update=True)"
   ]
  },
  {
   "cell_type": "code",
   "execution_count": 3,
   "metadata": {
    "ExecuteTime": {
     "end_time": "2020-12-04T18:08:08.260935Z",
     "start_time": "2020-12-04T18:08:08.183336Z"
    }
   },
   "outputs": [],
   "source": [
    "raw_hosp_data = pd.read_csv('../../data/raw/sciensano/COVID19BE_HOSP.csv', parse_dates=['DATE'])\n",
    "timeseries_H_in_national = pd.pivot_table(raw_hosp_data, values='NEW_IN', index='DATE', aggfunc=np.sum)\n",
    "\n",
    "Hainaut_hosp_data = raw_hosp_data[raw_hosp_data.PROVINCE=='Hainaut']\n",
    "Hainaut_ts = Hainaut_hosp_data[['DATE','NEW_IN']].set_index('DATE')\n",
    "timeseries_H_in_hainaut = Hainaut_ts[['NEW_IN']]"
   ]
  },
  {
   "cell_type": "code",
   "execution_count": 4,
   "metadata": {
    "ExecuteTime": {
     "end_time": "2020-12-04T18:08:08.480554Z",
     "start_time": "2020-12-04T18:08:08.344898Z"
    }
   },
   "outputs": [
    {
     "data": {
      "application/javascript": [
       "/* Put everything inside the global mpl namespace */\n",
       "window.mpl = {};\n",
       "\n",
       "\n",
       "mpl.get_websocket_type = function() {\n",
       "    if (typeof(WebSocket) !== 'undefined') {\n",
       "        return WebSocket;\n",
       "    } else if (typeof(MozWebSocket) !== 'undefined') {\n",
       "        return MozWebSocket;\n",
       "    } else {\n",
       "        alert('Your browser does not have WebSocket support. ' +\n",
       "              'Please try Chrome, Safari or Firefox ≥ 6. ' +\n",
       "              'Firefox 4 and 5 are also supported but you ' +\n",
       "              'have to enable WebSockets in about:config.');\n",
       "    };\n",
       "}\n",
       "\n",
       "mpl.figure = function(figure_id, websocket, ondownload, parent_element) {\n",
       "    this.id = figure_id;\n",
       "\n",
       "    this.ws = websocket;\n",
       "\n",
       "    this.supports_binary = (this.ws.binaryType != undefined);\n",
       "\n",
       "    if (!this.supports_binary) {\n",
       "        var warnings = document.getElementById(\"mpl-warnings\");\n",
       "        if (warnings) {\n",
       "            warnings.style.display = 'block';\n",
       "            warnings.textContent = (\n",
       "                \"This browser does not support binary websocket messages. \" +\n",
       "                    \"Performance may be slow.\");\n",
       "        }\n",
       "    }\n",
       "\n",
       "    this.imageObj = new Image();\n",
       "\n",
       "    this.context = undefined;\n",
       "    this.message = undefined;\n",
       "    this.canvas = undefined;\n",
       "    this.rubberband_canvas = undefined;\n",
       "    this.rubberband_context = undefined;\n",
       "    this.format_dropdown = undefined;\n",
       "\n",
       "    this.image_mode = 'full';\n",
       "\n",
       "    this.root = $('<div/>');\n",
       "    this._root_extra_style(this.root)\n",
       "    this.root.attr('style', 'display: inline-block');\n",
       "\n",
       "    $(parent_element).append(this.root);\n",
       "\n",
       "    this._init_header(this);\n",
       "    this._init_canvas(this);\n",
       "    this._init_toolbar(this);\n",
       "\n",
       "    var fig = this;\n",
       "\n",
       "    this.waiting = false;\n",
       "\n",
       "    this.ws.onopen =  function () {\n",
       "            fig.send_message(\"supports_binary\", {value: fig.supports_binary});\n",
       "            fig.send_message(\"send_image_mode\", {});\n",
       "            if (mpl.ratio != 1) {\n",
       "                fig.send_message(\"set_dpi_ratio\", {'dpi_ratio': mpl.ratio});\n",
       "            }\n",
       "            fig.send_message(\"refresh\", {});\n",
       "        }\n",
       "\n",
       "    this.imageObj.onload = function() {\n",
       "            if (fig.image_mode == 'full') {\n",
       "                // Full images could contain transparency (where diff images\n",
       "                // almost always do), so we need to clear the canvas so that\n",
       "                // there is no ghosting.\n",
       "                fig.context.clearRect(0, 0, fig.canvas.width, fig.canvas.height);\n",
       "            }\n",
       "            fig.context.drawImage(fig.imageObj, 0, 0);\n",
       "        };\n",
       "\n",
       "    this.imageObj.onunload = function() {\n",
       "        fig.ws.close();\n",
       "    }\n",
       "\n",
       "    this.ws.onmessage = this._make_on_message_function(this);\n",
       "\n",
       "    this.ondownload = ondownload;\n",
       "}\n",
       "\n",
       "mpl.figure.prototype._init_header = function() {\n",
       "    var titlebar = $(\n",
       "        '<div class=\"ui-dialog-titlebar ui-widget-header ui-corner-all ' +\n",
       "        'ui-helper-clearfix\"/>');\n",
       "    var titletext = $(\n",
       "        '<div class=\"ui-dialog-title\" style=\"width: 100%; ' +\n",
       "        'text-align: center; padding: 3px;\"/>');\n",
       "    titlebar.append(titletext)\n",
       "    this.root.append(titlebar);\n",
       "    this.header = titletext[0];\n",
       "}\n",
       "\n",
       "\n",
       "\n",
       "mpl.figure.prototype._canvas_extra_style = function(canvas_div) {\n",
       "\n",
       "}\n",
       "\n",
       "\n",
       "mpl.figure.prototype._root_extra_style = function(canvas_div) {\n",
       "\n",
       "}\n",
       "\n",
       "mpl.figure.prototype._init_canvas = function() {\n",
       "    var fig = this;\n",
       "\n",
       "    var canvas_div = $('<div/>');\n",
       "\n",
       "    canvas_div.attr('style', 'position: relative; clear: both; outline: 0');\n",
       "\n",
       "    function canvas_keyboard_event(event) {\n",
       "        return fig.key_event(event, event['data']);\n",
       "    }\n",
       "\n",
       "    canvas_div.keydown('key_press', canvas_keyboard_event);\n",
       "    canvas_div.keyup('key_release', canvas_keyboard_event);\n",
       "    this.canvas_div = canvas_div\n",
       "    this._canvas_extra_style(canvas_div)\n",
       "    this.root.append(canvas_div);\n",
       "\n",
       "    var canvas = $('<canvas/>');\n",
       "    canvas.addClass('mpl-canvas');\n",
       "    canvas.attr('style', \"left: 0; top: 0; z-index: 0; outline: 0\")\n",
       "\n",
       "    this.canvas = canvas[0];\n",
       "    this.context = canvas[0].getContext(\"2d\");\n",
       "\n",
       "    var backingStore = this.context.backingStorePixelRatio ||\n",
       "\tthis.context.webkitBackingStorePixelRatio ||\n",
       "\tthis.context.mozBackingStorePixelRatio ||\n",
       "\tthis.context.msBackingStorePixelRatio ||\n",
       "\tthis.context.oBackingStorePixelRatio ||\n",
       "\tthis.context.backingStorePixelRatio || 1;\n",
       "\n",
       "    mpl.ratio = (window.devicePixelRatio || 1) / backingStore;\n",
       "\n",
       "    var rubberband = $('<canvas/>');\n",
       "    rubberband.attr('style', \"position: absolute; left: 0; top: 0; z-index: 1;\")\n",
       "\n",
       "    var pass_mouse_events = true;\n",
       "\n",
       "    canvas_div.resizable({\n",
       "        start: function(event, ui) {\n",
       "            pass_mouse_events = false;\n",
       "        },\n",
       "        resize: function(event, ui) {\n",
       "            fig.request_resize(ui.size.width, ui.size.height);\n",
       "        },\n",
       "        stop: function(event, ui) {\n",
       "            pass_mouse_events = true;\n",
       "            fig.request_resize(ui.size.width, ui.size.height);\n",
       "        },\n",
       "    });\n",
       "\n",
       "    function mouse_event_fn(event) {\n",
       "        if (pass_mouse_events)\n",
       "            return fig.mouse_event(event, event['data']);\n",
       "    }\n",
       "\n",
       "    rubberband.mousedown('button_press', mouse_event_fn);\n",
       "    rubberband.mouseup('button_release', mouse_event_fn);\n",
       "    // Throttle sequential mouse events to 1 every 20ms.\n",
       "    rubberband.mousemove('motion_notify', mouse_event_fn);\n",
       "\n",
       "    rubberband.mouseenter('figure_enter', mouse_event_fn);\n",
       "    rubberband.mouseleave('figure_leave', mouse_event_fn);\n",
       "\n",
       "    canvas_div.on(\"wheel\", function (event) {\n",
       "        event = event.originalEvent;\n",
       "        event['data'] = 'scroll'\n",
       "        if (event.deltaY < 0) {\n",
       "            event.step = 1;\n",
       "        } else {\n",
       "            event.step = -1;\n",
       "        }\n",
       "        mouse_event_fn(event);\n",
       "    });\n",
       "\n",
       "    canvas_div.append(canvas);\n",
       "    canvas_div.append(rubberband);\n",
       "\n",
       "    this.rubberband = rubberband;\n",
       "    this.rubberband_canvas = rubberband[0];\n",
       "    this.rubberband_context = rubberband[0].getContext(\"2d\");\n",
       "    this.rubberband_context.strokeStyle = \"#000000\";\n",
       "\n",
       "    this._resize_canvas = function(width, height) {\n",
       "        // Keep the size of the canvas, canvas container, and rubber band\n",
       "        // canvas in synch.\n",
       "        canvas_div.css('width', width)\n",
       "        canvas_div.css('height', height)\n",
       "\n",
       "        canvas.attr('width', width * mpl.ratio);\n",
       "        canvas.attr('height', height * mpl.ratio);\n",
       "        canvas.attr('style', 'width: ' + width + 'px; height: ' + height + 'px;');\n",
       "\n",
       "        rubberband.attr('width', width);\n",
       "        rubberband.attr('height', height);\n",
       "    }\n",
       "\n",
       "    // Set the figure to an initial 600x600px, this will subsequently be updated\n",
       "    // upon first draw.\n",
       "    this._resize_canvas(600, 600);\n",
       "\n",
       "    // Disable right mouse context menu.\n",
       "    $(this.rubberband_canvas).bind(\"contextmenu\",function(e){\n",
       "        return false;\n",
       "    });\n",
       "\n",
       "    function set_focus () {\n",
       "        canvas.focus();\n",
       "        canvas_div.focus();\n",
       "    }\n",
       "\n",
       "    window.setTimeout(set_focus, 100);\n",
       "}\n",
       "\n",
       "mpl.figure.prototype._init_toolbar = function() {\n",
       "    var fig = this;\n",
       "\n",
       "    var nav_element = $('<div/>');\n",
       "    nav_element.attr('style', 'width: 100%');\n",
       "    this.root.append(nav_element);\n",
       "\n",
       "    // Define a callback function for later on.\n",
       "    function toolbar_event(event) {\n",
       "        return fig.toolbar_button_onclick(event['data']);\n",
       "    }\n",
       "    function toolbar_mouse_event(event) {\n",
       "        return fig.toolbar_button_onmouseover(event['data']);\n",
       "    }\n",
       "\n",
       "    for(var toolbar_ind in mpl.toolbar_items) {\n",
       "        var name = mpl.toolbar_items[toolbar_ind][0];\n",
       "        var tooltip = mpl.toolbar_items[toolbar_ind][1];\n",
       "        var image = mpl.toolbar_items[toolbar_ind][2];\n",
       "        var method_name = mpl.toolbar_items[toolbar_ind][3];\n",
       "\n",
       "        if (!name) {\n",
       "            // put a spacer in here.\n",
       "            continue;\n",
       "        }\n",
       "        var button = $('<button/>');\n",
       "        button.addClass('ui-button ui-widget ui-state-default ui-corner-all ' +\n",
       "                        'ui-button-icon-only');\n",
       "        button.attr('role', 'button');\n",
       "        button.attr('aria-disabled', 'false');\n",
       "        button.click(method_name, toolbar_event);\n",
       "        button.mouseover(tooltip, toolbar_mouse_event);\n",
       "\n",
       "        var icon_img = $('<span/>');\n",
       "        icon_img.addClass('ui-button-icon-primary ui-icon');\n",
       "        icon_img.addClass(image);\n",
       "        icon_img.addClass('ui-corner-all');\n",
       "\n",
       "        var tooltip_span = $('<span/>');\n",
       "        tooltip_span.addClass('ui-button-text');\n",
       "        tooltip_span.html(tooltip);\n",
       "\n",
       "        button.append(icon_img);\n",
       "        button.append(tooltip_span);\n",
       "\n",
       "        nav_element.append(button);\n",
       "    }\n",
       "\n",
       "    var fmt_picker_span = $('<span/>');\n",
       "\n",
       "    var fmt_picker = $('<select/>');\n",
       "    fmt_picker.addClass('mpl-toolbar-option ui-widget ui-widget-content');\n",
       "    fmt_picker_span.append(fmt_picker);\n",
       "    nav_element.append(fmt_picker_span);\n",
       "    this.format_dropdown = fmt_picker[0];\n",
       "\n",
       "    for (var ind in mpl.extensions) {\n",
       "        var fmt = mpl.extensions[ind];\n",
       "        var option = $(\n",
       "            '<option/>', {selected: fmt === mpl.default_extension}).html(fmt);\n",
       "        fmt_picker.append(option);\n",
       "    }\n",
       "\n",
       "    // Add hover states to the ui-buttons\n",
       "    $( \".ui-button\" ).hover(\n",
       "        function() { $(this).addClass(\"ui-state-hover\");},\n",
       "        function() { $(this).removeClass(\"ui-state-hover\");}\n",
       "    );\n",
       "\n",
       "    var status_bar = $('<span class=\"mpl-message\"/>');\n",
       "    nav_element.append(status_bar);\n",
       "    this.message = status_bar[0];\n",
       "}\n",
       "\n",
       "mpl.figure.prototype.request_resize = function(x_pixels, y_pixels) {\n",
       "    // Request matplotlib to resize the figure. Matplotlib will then trigger a resize in the client,\n",
       "    // which will in turn request a refresh of the image.\n",
       "    this.send_message('resize', {'width': x_pixels, 'height': y_pixels});\n",
       "}\n",
       "\n",
       "mpl.figure.prototype.send_message = function(type, properties) {\n",
       "    properties['type'] = type;\n",
       "    properties['figure_id'] = this.id;\n",
       "    this.ws.send(JSON.stringify(properties));\n",
       "}\n",
       "\n",
       "mpl.figure.prototype.send_draw_message = function() {\n",
       "    if (!this.waiting) {\n",
       "        this.waiting = true;\n",
       "        this.ws.send(JSON.stringify({type: \"draw\", figure_id: this.id}));\n",
       "    }\n",
       "}\n",
       "\n",
       "\n",
       "mpl.figure.prototype.handle_save = function(fig, msg) {\n",
       "    var format_dropdown = fig.format_dropdown;\n",
       "    var format = format_dropdown.options[format_dropdown.selectedIndex].value;\n",
       "    fig.ondownload(fig, format);\n",
       "}\n",
       "\n",
       "\n",
       "mpl.figure.prototype.handle_resize = function(fig, msg) {\n",
       "    var size = msg['size'];\n",
       "    if (size[0] != fig.canvas.width || size[1] != fig.canvas.height) {\n",
       "        fig._resize_canvas(size[0], size[1]);\n",
       "        fig.send_message(\"refresh\", {});\n",
       "    };\n",
       "}\n",
       "\n",
       "mpl.figure.prototype.handle_rubberband = function(fig, msg) {\n",
       "    var x0 = msg['x0'] / mpl.ratio;\n",
       "    var y0 = (fig.canvas.height - msg['y0']) / mpl.ratio;\n",
       "    var x1 = msg['x1'] / mpl.ratio;\n",
       "    var y1 = (fig.canvas.height - msg['y1']) / mpl.ratio;\n",
       "    x0 = Math.floor(x0) + 0.5;\n",
       "    y0 = Math.floor(y0) + 0.5;\n",
       "    x1 = Math.floor(x1) + 0.5;\n",
       "    y1 = Math.floor(y1) + 0.5;\n",
       "    var min_x = Math.min(x0, x1);\n",
       "    var min_y = Math.min(y0, y1);\n",
       "    var width = Math.abs(x1 - x0);\n",
       "    var height = Math.abs(y1 - y0);\n",
       "\n",
       "    fig.rubberband_context.clearRect(\n",
       "        0, 0, fig.canvas.width, fig.canvas.height);\n",
       "\n",
       "    fig.rubberband_context.strokeRect(min_x, min_y, width, height);\n",
       "}\n",
       "\n",
       "mpl.figure.prototype.handle_figure_label = function(fig, msg) {\n",
       "    // Updates the figure title.\n",
       "    fig.header.textContent = msg['label'];\n",
       "}\n",
       "\n",
       "mpl.figure.prototype.handle_cursor = function(fig, msg) {\n",
       "    var cursor = msg['cursor'];\n",
       "    switch(cursor)\n",
       "    {\n",
       "    case 0:\n",
       "        cursor = 'pointer';\n",
       "        break;\n",
       "    case 1:\n",
       "        cursor = 'default';\n",
       "        break;\n",
       "    case 2:\n",
       "        cursor = 'crosshair';\n",
       "        break;\n",
       "    case 3:\n",
       "        cursor = 'move';\n",
       "        break;\n",
       "    }\n",
       "    fig.rubberband_canvas.style.cursor = cursor;\n",
       "}\n",
       "\n",
       "mpl.figure.prototype.handle_message = function(fig, msg) {\n",
       "    fig.message.textContent = msg['message'];\n",
       "}\n",
       "\n",
       "mpl.figure.prototype.handle_draw = function(fig, msg) {\n",
       "    // Request the server to send over a new figure.\n",
       "    fig.send_draw_message();\n",
       "}\n",
       "\n",
       "mpl.figure.prototype.handle_image_mode = function(fig, msg) {\n",
       "    fig.image_mode = msg['mode'];\n",
       "}\n",
       "\n",
       "mpl.figure.prototype.updated_canvas_event = function() {\n",
       "    // Called whenever the canvas gets updated.\n",
       "    this.send_message(\"ack\", {});\n",
       "}\n",
       "\n",
       "// A function to construct a web socket function for onmessage handling.\n",
       "// Called in the figure constructor.\n",
       "mpl.figure.prototype._make_on_message_function = function(fig) {\n",
       "    return function socket_on_message(evt) {\n",
       "        if (evt.data instanceof Blob) {\n",
       "            /* FIXME: We get \"Resource interpreted as Image but\n",
       "             * transferred with MIME type text/plain:\" errors on\n",
       "             * Chrome.  But how to set the MIME type?  It doesn't seem\n",
       "             * to be part of the websocket stream */\n",
       "            evt.data.type = \"image/png\";\n",
       "\n",
       "            /* Free the memory for the previous frames */\n",
       "            if (fig.imageObj.src) {\n",
       "                (window.URL || window.webkitURL).revokeObjectURL(\n",
       "                    fig.imageObj.src);\n",
       "            }\n",
       "\n",
       "            fig.imageObj.src = (window.URL || window.webkitURL).createObjectURL(\n",
       "                evt.data);\n",
       "            fig.updated_canvas_event();\n",
       "            fig.waiting = false;\n",
       "            return;\n",
       "        }\n",
       "        else if (typeof evt.data === 'string' && evt.data.slice(0, 21) == \"data:image/png;base64\") {\n",
       "            fig.imageObj.src = evt.data;\n",
       "            fig.updated_canvas_event();\n",
       "            fig.waiting = false;\n",
       "            return;\n",
       "        }\n",
       "\n",
       "        var msg = JSON.parse(evt.data);\n",
       "        var msg_type = msg['type'];\n",
       "\n",
       "        // Call the  \"handle_{type}\" callback, which takes\n",
       "        // the figure and JSON message as its only arguments.\n",
       "        try {\n",
       "            var callback = fig[\"handle_\" + msg_type];\n",
       "        } catch (e) {\n",
       "            console.log(\"No handler for the '\" + msg_type + \"' message type: \", msg);\n",
       "            return;\n",
       "        }\n",
       "\n",
       "        if (callback) {\n",
       "            try {\n",
       "                // console.log(\"Handling '\" + msg_type + \"' message: \", msg);\n",
       "                callback(fig, msg);\n",
       "            } catch (e) {\n",
       "                console.log(\"Exception inside the 'handler_\" + msg_type + \"' callback:\", e, e.stack, msg);\n",
       "            }\n",
       "        }\n",
       "    };\n",
       "}\n",
       "\n",
       "// from http://stackoverflow.com/questions/1114465/getting-mouse-location-in-canvas\n",
       "mpl.findpos = function(e) {\n",
       "    //this section is from http://www.quirksmode.org/js/events_properties.html\n",
       "    var targ;\n",
       "    if (!e)\n",
       "        e = window.event;\n",
       "    if (e.target)\n",
       "        targ = e.target;\n",
       "    else if (e.srcElement)\n",
       "        targ = e.srcElement;\n",
       "    if (targ.nodeType == 3) // defeat Safari bug\n",
       "        targ = targ.parentNode;\n",
       "\n",
       "    // jQuery normalizes the pageX and pageY\n",
       "    // pageX,Y are the mouse positions relative to the document\n",
       "    // offset() returns the position of the element relative to the document\n",
       "    var x = e.pageX - $(targ).offset().left;\n",
       "    var y = e.pageY - $(targ).offset().top;\n",
       "\n",
       "    return {\"x\": x, \"y\": y};\n",
       "};\n",
       "\n",
       "/*\n",
       " * return a copy of an object with only non-object keys\n",
       " * we need this to avoid circular references\n",
       " * http://stackoverflow.com/a/24161582/3208463\n",
       " */\n",
       "function simpleKeys (original) {\n",
       "  return Object.keys(original).reduce(function (obj, key) {\n",
       "    if (typeof original[key] !== 'object')\n",
       "        obj[key] = original[key]\n",
       "    return obj;\n",
       "  }, {});\n",
       "}\n",
       "\n",
       "mpl.figure.prototype.mouse_event = function(event, name) {\n",
       "    var canvas_pos = mpl.findpos(event)\n",
       "\n",
       "    if (name === 'button_press')\n",
       "    {\n",
       "        this.canvas.focus();\n",
       "        this.canvas_div.focus();\n",
       "    }\n",
       "\n",
       "    var x = canvas_pos.x * mpl.ratio;\n",
       "    var y = canvas_pos.y * mpl.ratio;\n",
       "\n",
       "    this.send_message(name, {x: x, y: y, button: event.button,\n",
       "                             step: event.step,\n",
       "                             guiEvent: simpleKeys(event)});\n",
       "\n",
       "    /* This prevents the web browser from automatically changing to\n",
       "     * the text insertion cursor when the button is pressed.  We want\n",
       "     * to control all of the cursor setting manually through the\n",
       "     * 'cursor' event from matplotlib */\n",
       "    event.preventDefault();\n",
       "    return false;\n",
       "}\n",
       "\n",
       "mpl.figure.prototype._key_event_extra = function(event, name) {\n",
       "    // Handle any extra behaviour associated with a key event\n",
       "}\n",
       "\n",
       "mpl.figure.prototype.key_event = function(event, name) {\n",
       "\n",
       "    // Prevent repeat events\n",
       "    if (name == 'key_press')\n",
       "    {\n",
       "        if (event.which === this._key)\n",
       "            return;\n",
       "        else\n",
       "            this._key = event.which;\n",
       "    }\n",
       "    if (name == 'key_release')\n",
       "        this._key = null;\n",
       "\n",
       "    var value = '';\n",
       "    if (event.ctrlKey && event.which != 17)\n",
       "        value += \"ctrl+\";\n",
       "    if (event.altKey && event.which != 18)\n",
       "        value += \"alt+\";\n",
       "    if (event.shiftKey && event.which != 16)\n",
       "        value += \"shift+\";\n",
       "\n",
       "    value += 'k';\n",
       "    value += event.which.toString();\n",
       "\n",
       "    this._key_event_extra(event, name);\n",
       "\n",
       "    this.send_message(name, {key: value,\n",
       "                             guiEvent: simpleKeys(event)});\n",
       "    return false;\n",
       "}\n",
       "\n",
       "mpl.figure.prototype.toolbar_button_onclick = function(name) {\n",
       "    if (name == 'download') {\n",
       "        this.handle_save(this, null);\n",
       "    } else {\n",
       "        this.send_message(\"toolbar_button\", {name: name});\n",
       "    }\n",
       "};\n",
       "\n",
       "mpl.figure.prototype.toolbar_button_onmouseover = function(tooltip) {\n",
       "    this.message.textContent = tooltip;\n",
       "};\n",
       "mpl.toolbar_items = [[\"Home\", \"Reset original view\", \"fa fa-home icon-home\", \"home\"], [\"Back\", \"Back to previous view\", \"fa fa-arrow-left icon-arrow-left\", \"back\"], [\"Forward\", \"Forward to next view\", \"fa fa-arrow-right icon-arrow-right\", \"forward\"], [\"\", \"\", \"\", \"\"], [\"Pan\", \"Pan axes with left mouse, zoom with right\", \"fa fa-arrows icon-move\", \"pan\"], [\"Zoom\", \"Zoom to rectangle\", \"fa fa-square-o icon-check-empty\", \"zoom\"], [\"\", \"\", \"\", \"\"], [\"Download\", \"Download plot\", \"fa fa-floppy-o icon-save\", \"download\"]];\n",
       "\n",
       "mpl.extensions = [\"eps\", \"jpeg\", \"pdf\", \"png\", \"ps\", \"raw\", \"svg\", \"tif\"];\n",
       "\n",
       "mpl.default_extension = \"png\";var comm_websocket_adapter = function(comm) {\n",
       "    // Create a \"websocket\"-like object which calls the given IPython comm\n",
       "    // object with the appropriate methods. Currently this is a non binary\n",
       "    // socket, so there is still some room for performance tuning.\n",
       "    var ws = {};\n",
       "\n",
       "    ws.close = function() {\n",
       "        comm.close()\n",
       "    };\n",
       "    ws.send = function(m) {\n",
       "        //console.log('sending', m);\n",
       "        comm.send(m);\n",
       "    };\n",
       "    // Register the callback with on_msg.\n",
       "    comm.on_msg(function(msg) {\n",
       "        //console.log('receiving', msg['content']['data'], msg);\n",
       "        // Pass the mpl event to the overridden (by mpl) onmessage function.\n",
       "        ws.onmessage(msg['content']['data'])\n",
       "    });\n",
       "    return ws;\n",
       "}\n",
       "\n",
       "mpl.mpl_figure_comm = function(comm, msg) {\n",
       "    // This is the function which gets called when the mpl process\n",
       "    // starts-up an IPython Comm through the \"matplotlib\" channel.\n",
       "\n",
       "    var id = msg.content.data.id;\n",
       "    // Get hold of the div created by the display call when the Comm\n",
       "    // socket was opened in Python.\n",
       "    var element = $(\"#\" + id);\n",
       "    var ws_proxy = comm_websocket_adapter(comm)\n",
       "\n",
       "    function ondownload(figure, format) {\n",
       "        window.open(figure.imageObj.src);\n",
       "    }\n",
       "\n",
       "    var fig = new mpl.figure(id, ws_proxy,\n",
       "                           ondownload,\n",
       "                           element.get(0));\n",
       "\n",
       "    // Call onopen now - mpl needs it, as it is assuming we've passed it a real\n",
       "    // web socket which is closed, not our websocket->open comm proxy.\n",
       "    ws_proxy.onopen();\n",
       "\n",
       "    fig.parent_element = element.get(0);\n",
       "    fig.cell_info = mpl.find_output_cell(\"<div id='\" + id + \"'></div>\");\n",
       "    if (!fig.cell_info) {\n",
       "        console.error(\"Failed to find cell for figure\", id, fig);\n",
       "        return;\n",
       "    }\n",
       "\n",
       "    var output_index = fig.cell_info[2]\n",
       "    var cell = fig.cell_info[0];\n",
       "\n",
       "};\n",
       "\n",
       "mpl.figure.prototype.handle_close = function(fig, msg) {\n",
       "    var width = fig.canvas.width/mpl.ratio\n",
       "    fig.root.unbind('remove')\n",
       "\n",
       "    // Update the output cell to use the data from the current canvas.\n",
       "    fig.push_to_output();\n",
       "    var dataURL = fig.canvas.toDataURL();\n",
       "    // Re-enable the keyboard manager in IPython - without this line, in FF,\n",
       "    // the notebook keyboard shortcuts fail.\n",
       "    IPython.keyboard_manager.enable()\n",
       "    $(fig.parent_element).html('<img src=\"' + dataURL + '\" width=\"' + width + '\">');\n",
       "    fig.close_ws(fig, msg);\n",
       "}\n",
       "\n",
       "mpl.figure.prototype.close_ws = function(fig, msg){\n",
       "    fig.send_message('closing', msg);\n",
       "    // fig.ws.close()\n",
       "}\n",
       "\n",
       "mpl.figure.prototype.push_to_output = function(remove_interactive) {\n",
       "    // Turn the data on the canvas into data in the output cell.\n",
       "    var width = this.canvas.width/mpl.ratio\n",
       "    var dataURL = this.canvas.toDataURL();\n",
       "    this.cell_info[1]['text/html'] = '<img src=\"' + dataURL + '\" width=\"' + width + '\">';\n",
       "}\n",
       "\n",
       "mpl.figure.prototype.updated_canvas_event = function() {\n",
       "    // Tell IPython that the notebook contents must change.\n",
       "    IPython.notebook.set_dirty(true);\n",
       "    this.send_message(\"ack\", {});\n",
       "    var fig = this;\n",
       "    // Wait a second, then push the new image to the DOM so\n",
       "    // that it is saved nicely (might be nice to debounce this).\n",
       "    setTimeout(function () { fig.push_to_output() }, 1000);\n",
       "}\n",
       "\n",
       "mpl.figure.prototype._init_toolbar = function() {\n",
       "    var fig = this;\n",
       "\n",
       "    var nav_element = $('<div/>');\n",
       "    nav_element.attr('style', 'width: 100%');\n",
       "    this.root.append(nav_element);\n",
       "\n",
       "    // Define a callback function for later on.\n",
       "    function toolbar_event(event) {\n",
       "        return fig.toolbar_button_onclick(event['data']);\n",
       "    }\n",
       "    function toolbar_mouse_event(event) {\n",
       "        return fig.toolbar_button_onmouseover(event['data']);\n",
       "    }\n",
       "\n",
       "    for(var toolbar_ind in mpl.toolbar_items){\n",
       "        var name = mpl.toolbar_items[toolbar_ind][0];\n",
       "        var tooltip = mpl.toolbar_items[toolbar_ind][1];\n",
       "        var image = mpl.toolbar_items[toolbar_ind][2];\n",
       "        var method_name = mpl.toolbar_items[toolbar_ind][3];\n",
       "\n",
       "        if (!name) { continue; };\n",
       "\n",
       "        var button = $('<button class=\"btn btn-default\" href=\"#\" title=\"' + name + '\"><i class=\"fa ' + image + ' fa-lg\"></i></button>');\n",
       "        button.click(method_name, toolbar_event);\n",
       "        button.mouseover(tooltip, toolbar_mouse_event);\n",
       "        nav_element.append(button);\n",
       "    }\n",
       "\n",
       "    // Add the status bar.\n",
       "    var status_bar = $('<span class=\"mpl-message\" style=\"text-align:right; float: right;\"/>');\n",
       "    nav_element.append(status_bar);\n",
       "    this.message = status_bar[0];\n",
       "\n",
       "    // Add the close button to the window.\n",
       "    var buttongrp = $('<div class=\"btn-group inline pull-right\"></div>');\n",
       "    var button = $('<button class=\"btn btn-mini btn-primary\" href=\"#\" title=\"Stop Interaction\"><i class=\"fa fa-power-off icon-remove icon-large\"></i></button>');\n",
       "    button.click(function (evt) { fig.handle_close(fig, {}); } );\n",
       "    button.mouseover('Stop Interaction', toolbar_mouse_event);\n",
       "    buttongrp.append(button);\n",
       "    var titlebar = this.root.find($('.ui-dialog-titlebar'));\n",
       "    titlebar.prepend(buttongrp);\n",
       "}\n",
       "\n",
       "mpl.figure.prototype._root_extra_style = function(el){\n",
       "    var fig = this\n",
       "    el.on(\"remove\", function(){\n",
       "\tfig.close_ws(fig, {});\n",
       "    });\n",
       "}\n",
       "\n",
       "mpl.figure.prototype._canvas_extra_style = function(el){\n",
       "    // this is important to make the div 'focusable\n",
       "    el.attr('tabindex', 0)\n",
       "    // reach out to IPython and tell the keyboard manager to turn it's self\n",
       "    // off when our div gets focus\n",
       "\n",
       "    // location in version 3\n",
       "    if (IPython.notebook.keyboard_manager) {\n",
       "        IPython.notebook.keyboard_manager.register_events(el);\n",
       "    }\n",
       "    else {\n",
       "        // location in version 2\n",
       "        IPython.keyboard_manager.register_events(el);\n",
       "    }\n",
       "\n",
       "}\n",
       "\n",
       "mpl.figure.prototype._key_event_extra = function(event, name) {\n",
       "    var manager = IPython.notebook.keyboard_manager;\n",
       "    if (!manager)\n",
       "        manager = IPython.keyboard_manager;\n",
       "\n",
       "    // Check for shift+enter\n",
       "    if (event.shiftKey && event.which == 13) {\n",
       "        this.canvas_div.blur();\n",
       "        event.shiftKey = false;\n",
       "        // Send a \"J\" for go to next cell\n",
       "        event.which = 74;\n",
       "        event.keyCode = 74;\n",
       "        manager.command_mode();\n",
       "        manager.handle_keydown(event);\n",
       "    }\n",
       "}\n",
       "\n",
       "mpl.figure.prototype.handle_save = function(fig, msg) {\n",
       "    fig.ondownload(fig, null);\n",
       "}\n",
       "\n",
       "\n",
       "mpl.find_output_cell = function(html_output) {\n",
       "    // Return the cell and output element which can be found *uniquely* in the notebook.\n",
       "    // Note - this is a bit hacky, but it is done because the \"notebook_saving.Notebook\"\n",
       "    // IPython event is triggered only after the cells have been serialised, which for\n",
       "    // our purposes (turning an active figure into a static one), is too late.\n",
       "    var cells = IPython.notebook.get_cells();\n",
       "    var ncells = cells.length;\n",
       "    for (var i=0; i<ncells; i++) {\n",
       "        var cell = cells[i];\n",
       "        if (cell.cell_type === 'code'){\n",
       "            for (var j=0; j<cell.output_area.outputs.length; j++) {\n",
       "                var data = cell.output_area.outputs[j];\n",
       "                if (data.data) {\n",
       "                    // IPython >= 3 moved mimebundle to data attribute of output\n",
       "                    data = data.data;\n",
       "                }\n",
       "                if (data['text/html'] == html_output) {\n",
       "                    return [cell, data, j];\n",
       "                }\n",
       "            }\n",
       "        }\n",
       "    }\n",
       "}\n",
       "\n",
       "// Register the function which deals with the matplotlib target/channel.\n",
       "// The kernel may be null if the page has been refreshed.\n",
       "if (IPython.notebook.kernel != null) {\n",
       "    IPython.notebook.kernel.comm_manager.register_target('matplotlib', mpl.mpl_figure_comm);\n",
       "}\n"
      ],
      "text/plain": [
       "<IPython.core.display.Javascript object>"
      ]
     },
     "metadata": {},
     "output_type": "display_data"
    },
    {
     "data": {
      "text/html": [
       "<img src=\"data:image/png;base64,iVBORw0KGgoAAAANSUhEUgAAAoAAAAHgCAYAAAA10dzkAAAgAElEQVR4XuydBZRb1dbH/0kmk5GMS9291N2VltKWthQKxd0e9kEfLqVYcXd5OAXaUgq0VKBK3b3UXcZdI9/ad5gkdyaZ3OTkzkT2WYv1XnPPPvK7+977nyP7aKxWqxWcmAATYAJMgAkwASbABEKGgIYFYMjca+4oE2ACTIAJMAEmwAQkAiwA2RGYABNgAkyACTABJhBiBFgAhtgN5+4yASbABJgAE2ACTIAFIPsAE2ACTIAJMAEmwARCjAALwBC74dxdJsAEmAATYAJMgAmwAGQfYAJMgAkwASbABJhAiBFgARhiN5y7ywSYABNgAkyACTABFoDsA0yACTABJsAEmAATCDECLABD7IZzd5kAE2ACTIAJMAEmwAKQfYAJMAEmwASYABNgAiFGgAVgiN1w7i4TYAJMgAkwASbABFgAsg8wASbABJgAE2ACTCDECLAADLEbzt1lAkyACTABJsAEmAALQPYBJsAEmAATYAJMgAmEGAEWgCF2w7m7TIAJMAEmwASYABNgAcg+wASYABNgAkyACTCBECPAAjDEbjh3lwkwASbABJgAE2ACLADZB5gAE2ACTIAJMAEmEGIEWACG2A3n7jIBJsAEmAATYAJMgAUg+wATYAJMgAkwASbABEKMAAvAELvh3F0mwASYABNgAkyACbAAZB9gAkyACTABJsAEmECIEWABGGI3nLvLBJgAE2ACTIAJMAEWgOwDTIAJMAEmwASYABMIMQIsAEPshnN3mQATYAJMgAkwASbAApB9gAkwASbABJgAE2ACIUaABWCI3XDuLhNgAkyACTABJsAEWACyDzABJsAEmAATYAJMIMQIsAAMsRvO3WUCTIAJMAEmwASYAAtA9gEmwASYABNgAkyACYQYARaAIXbDubtMgAkwASbABJgAE2AByD7ABJgAE2ACTIAJMIEQI8ACMMRuOHeXCTABJsAEmAATYAIsANkHmAATYAJMgAkwASYQYgRYAIbYDefuMgEmwASYABNgAkyABSD7ABNgAkyACTABJsAEQowAC8AQu+HcXSbABJgAE2ACTIAJsABkH2ACTIAJMAEmwASYQIgRYAEYYjecu8sEmAATYAJMgAkwARaA7ANMgAkwASbABJgAEwgxAiwAQ+yGc3eZABNgAkyACTABJsACkH2ACTABJsAEmAATYAIhRoAFYIjdcO4uE2ACTIAJMAEmwARYALIPMAEmwASYABNgAkwgxAiwAAyxG87dZQJMgAkwASbABJgAC0D2ASbABJgAE2ACTIAJhBgBFoAhdsO5u0yACTABJsAEmAATYAHIPsAEmAATYAJMgAkwgRAjwAIwxG44d5cJMAEmwASYABNgAiwA2QeYABNgAkyACTABJhBiBFgAhtgN5+4yASbABJgAE2ACTIAFIPsAE2ACTIAJMAEmwARCjAALwBC74dxdJsAEmAATYAJMgAmwAGQfYAJMgAkwASbABJhAiBFgARhiN5y7ywSYABNgAkyACTABFoDsA0yACTABJsAEmAATCDECLAAFbrjVakV+fj5iYmKg0WgESmJTJsAEmAATYAJMgAnUHgEWgAKs8/LyEBcXh4yMDCQlJQmUxKZMwHMC5eXlWLhwIcaOHQu9Xu95AWzBBBQSYF9TCIqzqUJADf+jMkP9vRmSAnDOnDl45ZVXcOjQIRQVFaFx48aYOnUqnn76aYSHhyt2YBaAilFxRhUIqPFSVKGZXGQQEGBfC4KbGMBdUMP/WAACISkAly1bhqysLHTo0AHR0dHYtm0b7rjjDkkEvvPOO4ofExaAilFxRhUIqPFSVKGZXGQQEGBfC4KbGMBdUMP/WAD6oQDcsmULli5dio0bN2LDhg04c+YMDAYDSkpKanRfuj5z5kzMmjULJ06cQGJiIsaMGYNnn31WGuFzlx544AH8+eef2LVrl7ustussABWj4owqEFDjpahCM7nIICDAvhYENzGAu6CG/7EA9EMBOGnSJMyfP1/mqu4EIIm/kSNHYu3atWjQoAEGDx6MY8eOSSIyJSUF69atQ6tWrVy6/759+3DppZdi9OjRPAIYwC+JUGu6Gi/FUGPI/VVGgH1NGSfOpQ4BNfyPBaAfCsCXX35ZWpfXu3dv6b/69eu7HQGktXvPPfcc+vfvjyVLlsBoNEpe+MYbb2DatGkYMmQIVq5cWc0zKR85QVlZmTQF/P7770On0yn2YB4BVIyKM6pAQI2XogrN5CKDgAD7WhDcxADughr+xwLQDwVgVR+l8Co1jQDSTUxNTUVOTg62bt2K7t27y4ro2rUrdu7cic2bN6Nnz56ya7QJpLi4WLr26KOP4s4778SMGTMUPyYsABWj4owqEFDjpahCM7nIICDAvhYENzGAu6CG/7EADAIBuHz5cowYMUKa4iVBVzXRyCCNEE6fPh3PPPOMy0fgq6++ws033wwSdbQxREliAaiEEudRi4AaL0W12srlBjYB9rXAvn+B3no1/I8FYBAIwLfeegu0gWPKlCn46aefqvn5ggULMH78eNDawnnz5tUoAG+66SZpd3B8fLyi54UFoCJMnEklAmq8FFVqKhcb4ATY1wL8BgZ489XwPxaAQSAAH3zwQbz55puSCKQ1f1XTjh070K1bN/To0QO0w5gSjQr27dsXLVu2BJ3mQZtFaK0grSGsSSSWlpaC/qtMJACbNGmCs2fPehQImuok57NYLAH+WHLz65KAyWSSNj4NGDAAYWFhLptC12q6Xpd94LoDgwC9ryg6w6hRo0I+eG5g3LHgaqUa/kdlRkVFBRcoD3vj93EA3a0BvP322/Hpp5/iiSeewPPPP1+t+zQt3KZNG7Rt2xb//POPdP3xxx/H3LlzcfLkSenD2Lx5c1xzzTW47777EBkZ6RIhTSE7WyP4/fffK3Ik2mBCG0+oDvr/fHych97K2b0iQH9w0B8udGyh4x8wXhXGRkyACTCBICEwceLEIOmJd90IeAF422234bPPPsOTTz4pjexVTQcPHpTEn6MA9A4VpI+ntyOAtNmEYhqS8KPj40gEarVaFoHe3gy2k0avCwsLpTWrrv6YoDw0Upibm4uCggJpVz2dXc2JCXhCQI0RGE/q57yhTUAN/+MRwBCdAvbVo+TJGkAKTk0f4mbNmnkUasZXbeVygo8ALSEgH4yNjZX+mKgpkRA8deqUtPSAlj5wYgKeEFBjDZYn9XPe0Caghv/xGsAgEIC+2gTizeOlVACS8KORSApSrXSDiTftYZvQIuCJACQy5K+nT59G69ateR1XaLmKcG/V+AALN4oLCBkCavgfC8AgEIBKw8BQKBhPYvwpebKUCkA6qeTo0aPSWsOa1hgqqZPzMIFKAp4KQFqGQCfktGjRAhEREQySCSgmoMYHWHHlnDHkCSj1v7Lzq1F8+FuEJXZDVLs7oNG4nhlhARgEApBO8aBA0LTGqaZA0LTTl04W8UWiE0PoP7PZjAMHDiAjI6PGXcCVApA/vL6gz2V4KwDZD9l3vCWg9APsbflsxwRqIqDE/0x5B5E+vwtgLpGKiun1Koyd/uuyWBaAQSAA6e7SBpAXXnhBCodBR8FVBnKuPApu0KBBWL16tc+fME9HAFkA+vwWhHSBno4AsgAMaXcR6rySD7BQBWzMBGogoMT/8rY+gcKdL9pK0UY2QOqUk9BonR/vygLQDwUgBW523M27YcMGaYdjnz59bDf2qaeewrhx42z/pg/bsGHDQHlpnd3gwYNx/Phx6d9JSUlYv369tO7J14kFoK+JcnmeEGAB6AktzitCQMkHWKR8tmUCoiOAGb/3QXnGJlkxiRf9BUODEU6LZgHohwLwyy+/BJ3IUVP64osvcOONN8qy0PqmmTNngmLyUXy/hIQEjBkzRhKTFKxZjcQCUIxqZegS2hhDaySdbZCpjL1I95bOa1YzkU/RkYC0rpT+oPD3dOTIEekIxKFDh2LFihVum8sjgG4RcQYXBFgAsmvUJQF3/mcpzcb5WUkArLJmRra5BfEDP2MB6OLm+X0cwLp0Ond1swB0R6jm646x61xt0vGlAKRNODQyTCFRnCUWgGL3k62Dl4C7D3Dw9px75g8E3Plf8fGfkbP8smpN1ejjUG/qeWh0hmrXeATQD0cA/cHZlLaBBaBSUs7zkQCk+HV0GgvtSqUdqjRy65hqUwDSkX60mahp06aKTnYR6724NY8AijPkEpQRcPcBVlYK52IC3hFw53+56+5C0T8fOS08Yfg8RDSbxALQCR0eAfTCH3kXsBfQnDmfRgODwYBbbrkFH3zwgdPTXGpTAPqmV7VXCgvA2mMd6jW5+wCHOh/uv7oE3Plf2tw2MOcfctqIiOZXIGHYjywAWQD61kl5BFCMZ+U5z4cPH5bWsoWHh0ujgImJibaCXQlAGq375ptvQJuG6Lzn9PR0yY52gj/22GOykD+0Pm748OFOG0sns1CdlGqaAqZ1pXTW9KJFi3Du3DnpOD/aXV61LiqnMtYerc37448/pPiTs2bNkuxoPSodX/jwww9XO76Ndqr/+OOPWLVqlbSOldbsUfsmTZokrX+sukaSBaCY/7G1cgLuPsDKS+KcwU7AUl6AsvOrEBbbDmGxrXzS3Zr8z5R/DOlzW7iuRxeBelPToNXLj8DkKWCeAhZyThaAQvgkAUQjgCR07r33Xrz33nt4/PHHpZA+lcmVAPzoo49w1113Sbu7STzScWgkBLdt2yadcvH7779j9OjRUjH79+/HSy+9hDlz5khn595www228pOTk/Haa6/VKAB37dqFESNGSPEe27dvj27duoGO9lu7dq00fU0bj6ZMmWIrs1IA9u/fXzr2b8+ePbZd7CtXrpT6+8QTT0iC0jH169cP27dvR6dOnSThR+dOU2xLErsXXHCBtJvdaDTaTFgAivkfWysnwAJQOatQzllycgFy19wMS0kaoAlDbN93Ed3+TmEkNflf0YHPkLv2NlsdmvB4WMsLAKvJ9lvc4K8R1eo6WTtYALIAFHJMXwhAq9UCS2mmUDvqwlhrSKoxyrqSNjkKwDNnzkhCjsQb7Qim8D2UXAlAEmW0maNLly6yqhYvXowJEyZII210/J7jRhNvNoFQHV27dgXVR6N9JE4ryyRBeeWVV0pxJ6muevXqSW2pFID0/ykk0c8//wwSmpQ2b94MEoY02nn+/HmZoFu4cKF0zXEdJInA++67D5988ok0kkibZSoTC0AlXsZ5fEGABaAvKAZvGVZTEfI2P4Si/R9U62RMr1dg7PRQtd9LTv2Bwj1vSL9Htb4RES2m1hizj96PY8eOrXaMZfaKqSg5Zp/ipSlfq6kQpacW2Oo0NBqDxFF/sACschd4DaDAM+kLAWguSUfaD6kCragb09SpadBFpAhV7igAqaD7778f77zzjjTdSWFfahKANVV87bXX4rvvvsPOnTvRuXNnW1ZvBGDlUYMUxJtEHo3oOabLLrtMEniOYWoqBSBtcNm3bx/atm0rsyGB+ttvvykON0MhjmiEk8Tuli1bWAAKeR0be0OABaA31ELDpjxzO3JWXQ1T7j6XHTZ2fRrGbs9IfzxTyJa8jf+H4sNfy/Lr4tojpuvTIAFXNXizK/+jAZS0H+rBUpphKytuwKfQhEUhZ9U19vI1OqReeVb2zeIRQB4BFHpCWQD6VgDSVGfLli2laVUaBaRRs5o2gdDoGK3Jo2P+aA0gHQtIiaaBSfzNnTsXkydPFhKAzz77LKZPny4TpY5O88svv+DSSy+V/jKl9YiUKgUg9YXWN1ZN//3vf/H6669LU8dXXXWV7PLp06clcUjT1uRfFOyZ0uzZsyXxSb9VJh4BFHp82dgDAiwAPYAVQlkL976DvM3/BSzlbnsd3fEBhNcfitx1d8JSfM5l/rD4jjB2nY6I5pfbZplc+V955jZk/NZDVlbKZUehjUhG2o/1QCOTlSm23/uIbv8f279ZALIAdOu0NWVgAehbAUisH3jgAbz11lvSJomXX365xilgGkmr3MDh7D5RUHHH9X7ejADeeeed+Pjjj0FrDu+4445q1dCave7du0vrAkl4OgrAIUOGgNb8VU2VorZqQHM6upCmmSuFrLM+OcYwZAEo9PiysQcEWAB6ACtEspacmI/sZdXDq0AXicjml6P48DdCJCJb34i4gZ9LItCV/xXsfhX5mx+21aOLaYXUyyp2A2evvBolR2fZrulTByJ57N8sAB3uCk8Be+GivgwDw1PAFZtAKhPtlKWRM5o+pVFAYk1r3xynWEkEdezYURolI4FG/5ENbZCgKQbaSEL5qwosEQFIIvD22293KQBJBNKGDUcB6OqEDmcCkDZ40Po/2l389ttvSyeR1K9fX9okQ6lhw4bSZhAWgF48sGwiTIAFoDDCoCsgY8EAlKevk/UrLKkHEgZ/h7D49ij65xNptK/q6RyOBhp9LHTG5jBl73TKJ37YbElMuvK/zCUXoezMEpttVLs7Edf/Q+nfJSd/Q/ZfE2Tl0uhgWExz6TceAeQRQKGH0hcjgLwJRC4A6YZMmzYNNBpGU6W0waKqAKR1dSQAe/XqhU2b5Gc/kv3UqVOlcCq+EIDupoDnz58vhWlxNgXsiQB85JFH8Morr+Ddd9/FPffcI/NLWgNIHEj8sQAUemTZ2EsCLAC9BBekZuU5e5HxywWy3kV1uB+xvV6BRhdu+7348HfI+fsGwGquRsLQeCzi+n8MbVQjlJ6Yj/ztz8CUvUMuKOM7IXniDphMZlTdBGI1leDcrATAbB9AiB82B5HNK04EsZrLcP7H+rCWZdvKjOkxE8YuFUeKsgBkASj0ePpCAAo1IMCNq24CqexOWloaaNMFpeuvv16afnUcAaTwKwMHDpSE17x582QUsrOzpdAwWVlZ1QQgbcagjRz04NM6w6rJWRxAd5tAKPwL7QZ2tgnEEwFIo4uffvopaE3hxIkTZU37+uuvbVPZLAAD3OkDtPksAAP0xqnU7LxN02w7eKkKbUQ9pF5xEhqtvlqNJcfnIXvlVMBSsUabwrTE9nkbka2uk0VpoMGQon3vShtEHBOJurBGE6oJwNKzy5C1eKRDVg3qXZUJrcF+mlTu2jtQdOATWx5ddFMkT9oDrd7IApDuhdXVwagqOU4wFcsCUOxuuhKAVOpDDz0kxeeLjIwEjYA5CiwSiA0aNJCmfCmsSps2baSG0FQyrfn76aefpH9XHQGkaVVak7d7924prp4SAegYBoamlil2X2UYGBJrtAs4KipKEpY0ZUvJMRA0BaGumpxNAVNfqc+XXHKJtHmFwuFQ2rt3L0aOHCkFkabEAlDM59jaOwIsAL3jFoxWNLKW9lMj2c7b6E4PI7bXyy67W561A4X734cuqhGi2t4GXVRDp3lJBGbM7wJTzh7b9bCEzoi7eBP++GORLAxM3pbHUbirIloEJX1ybySP3ygrt/TcSmQtGib7LardXYjr/wELQBaAYo8nC0AxfjUJQNrVS6OAFLiZkqMApH9XjpiRQKQgzfS/dJKG2WzG+PHjQRtAnG2yoOllitdHJ4PQtCrtNKYg0ZRcnQRCMQApf2ZmJjp06GALBL1mzZoaA0F7MgJIZVMAaBJ61O/evXtLo5gkWGmkk3Y6Hz9+nAWgmMuxtZcEWAB6CS4IzYqPzUXOistlPUu5dD/C4tr5pLfFR39CzsorZWXFDP4Bf+2OkAnAjN96ozxzsy1fdJfHEdvDfogAXaA/mEkA0skkjilx9FJoU4ZWiynokw4EUCE8Aihws1gACsCjvz4cTgJxVlLlujhnApCEHm2W+Pzzz0G7YWnzxIUXXigFaibhR+sGqwpAk8lkO5aNTvKgj5rSo+Aov6uj4Pr06SNrvjcjgFTAqVOnQH0m0UeCkIQgTYHTyCAFyWYBKOZvbO09ARaA3rPzF0sSQxSrz1KcBo02TDqpA9owaDRh0BmbyaZOa2pz1tKxKD1tD6qsTx2E5LGrfdbNilHAzjDl7LWVqYvvjHWYgbHjxkuizVKahfOzKLi+1ZYn8aJlMDSofuSnKe8wMn7tIgsJQ1PBceO2whBVceBAqCYWgAJ3ngWgADw2FSZAMQLJBylINO2adpdoipx2VpOwjIiIcJedrzMBGwEWgIHtDFaLGTkrp6Lk+BwXHdGg4sSO/9bYUXPhKaTNaQZYK+KTUoob+AWi2tzoU0DORgEPRj+C/pOeQ1iYDgXbpqNgp8NRmrpI1L86GxpdRdSEqqlw33vI23Cv7GdD61uQOOgzn7Y70ApjAejFHfNlGBgvqmcTJiARYAHIjlBbBFgA1hZpdeopOvA5ctfe6rZwV6NolYb5O55HwbanbOVo9DFIveIstPpot2V7ksHZKGChrjkaj12Awo13ouy8fMTR0PAiJI5e5LIKKo82jJSdk6/JbnCjfQTRk/YFS14WgAJ3kkcABeCxqTABFoDCCLkAhQRYACoE5YfZLGW5SP+5LSwlaW5bp4tuhuSJO6ENj62Wl0RU+tzWMBcctV2LbHsb4gfYd9m6rcCDDMVHf5RGLWWJpq2tpmqlxPb/CNHtqgfqd8xoyj8qTS3TOcGViQUg7wL2wCXlWVkAeo2ODX1AgAWgDyByEYoIsABUhMkvM+VtegiFe16T6yh9nBSbz0pHuFlKZdci29yC+IHVp0arh10BksatR3hKX1X6TdPWtHbPcS2gs4qk+IO9X692frCzvIX7P0Le+rtYAP5LgEcABVyXBaAAPDYVJsACUBghF6CQAAtAhaD8LJsp9wDS53eSndVraDIBiSPnSy2VpkYXjUDZefmRlQkjf0dEk3Gy3mSvugYlR763/RYWfwGSJ+6SxfLzdfeLj/yAnFXy89Ir66ATROIG/s/pxg9X7ZB2BS8ZhbKzf0lZeASQRwC99lkWgF6jY0MfEGAB6AOIXIQiAiwAFWHyu0xZf16C0lO/29ul1SNl0l6Exba2/VYxNUq7ZAtsv2kj6yNl4m5oIyp2yVpKs3H+xway0cKY3m/AeMEDqvZZGgWkHcG5+2T1RLX/D2J6viwFdPY0mQqOV0wFl+ezAORA0J66jz0/C0Dv2bGlOAEWgOIMuQRlBFgAKuPkT7lKTi1C9p8Xy5rkKmBz0YHPkLv2NlneiBZTYez6FEqOzUbxkVkw5/0jE5L1rjgDbQSFYlE3laWtQ+biCwFzEbTGFtL0tKHBCKFKaRNJ7oYHkDLBHkdQqMAANeYpYIEbxwJQAB6bChNgASiMkAtQSIAFoEJQfpKN1valz+8Cc+5+W4vouLaUyQdcbPCwIvvPcbL4fjV1JaLZ5UgYPrvWeltamIFVi77G0PH/QbjBNyGs+CxgPgpOyIFZAArhY2NBAiwABQGyuWICLAAVo/KLjIV73kLeJvn0LK2Xi2pzk8v2mYvOIP2XTrCWZbvtQ+JFy2FoID9iza2RQAY1/I8FIAtAAZeEFISXTqDIyMhAUpLriOIcgFcIMxu7IMACkF2jtgio8QGurbaHWj3m4jQp7Iu1PNfWdX1STySN3wiNpuaA8TVtuqDCtFENYezyFKLb31mrWNXwPxaALAC9cmIOBO0VNjbyMQEWgD4GysW5JKDGB5hxq0Mge8VUlBz7UVZ40tg1CE8doKjCnL9vQvGhL215SfTRlG9k8yugT+3vVkQqqsTDTGr4HwtAFoAeuqE8O48ACuFjY0ECLAAFAbK5YgJqfIAVV84ZFRMoOf4LspdfKssf0eIqJAy1h29xVxgFBik+8h0sxecQntK/zkSfYzvV8D8WgCwA3T0LNV5nASiEj40FCbAAFATI5ooJqPEBVlw5Z1REgEK1pP/SURJulUkTniCFfdFF1VdUhr9mUsP/WACyABTydxaAQvjYWJAAC0BBgGyumIAaH2DFlXNGRQSqTt2SUdzgrxHV6jpF9v6cSQ3/YwHIAlDI51kACuFjY0ECLAAFAbK5YgJqfIAVV84Z3RIoPb0YWUvHyPIZGo8Fneih0Wjc2vt7BjX8jwUgC0Ahv2cBKITP9mKq6TCaZ555BjNmzMD06dNB/18kDRs2DCtXrsTRo0fRvHlzkaL8wpYFoF/chpBohBof4JAAVwudtJTnI+OXTjAXnrDVptHHIGXSHuiim9RCC9SvQg3/YwHIAlDIc1kACuFjAagAH/313qxZMxw7dqxabhaACgByFp8QUOMD7JOGhXghFPA5b/09KDrwiYxEXP+PEdXu9qCho4b/sQBkASj0gLAAFMJX6wLwxIkTKCoqQqtWraDX68UaX0vWLABrCTRXUyMBNT7AjNw7Aqb8Iyg9vQSlZxaj7OwyWMvzZAWFNxiBxNF/BsXUb2XH1PA/FoAsAL17Av+1YgEohK/WBaBYa+vGmgVg3XDnWuUE1PgAM2PPCJgLTyFn1dWgc2xdJU1YFJIn7kJYTEvPCvfz3Gr4HwtAFoBCbs8CUAifkAA8e/YsvvnmGyxYsACHDh1Ceno6EhMTMWDAADz22GPo3bt3tca5WgNYKbIOHz6M119/HZ999hmOHz+O1NRUXH311Xj22WdhMBhk5W3fvh3ff/89/vrrL9DIIvlCo0aNMGbMGDz55JNo2LChLP+KFSswfPhw3HDDDfjyS3uQ1cpMN954I7766issX74c1E7Kc9NNzo9tGjp0KKg8ngIW8z+2Vk5AjQ+w8to5JxHI+ftmFB/6okYYsX3eRnTH+4IOmBr+xwKQBaDQg+ILAWixWlFQZhVqR10YG8M10AruLqvcnebNJpCPPvoId911F1q3bi1N6cbGxkpCcNu2bdL07u+//47Ro0fL0LgTgP369ZPs+vTpg+joaKxevRq5ubm45ppr8O2338rKmjp1KubMmYNOnTpJG0qoLyQKaa1egwYNsHnzZpkI9FQA/v3335IQJVFIbbn88stt9bdv3x6PPvooC8C6cPwQrVOND3CIovSq2/SOTPuxASwl553ahyV0RVTbWxDV/p6gmvqt7Kwa/scCkAWgVw+jL4+Cyyu14LY/M7xqR10afaPY/u8AACAASURBVHphMmINNZ8r6a59IgJw165doJdily5dZNUsXrwYEyZMQJMmTXDw4EHZy7AmAUiFdOjQAQsXLrTtEKbdwj179kR2drYkLkloVqZly5ZJ+UnsVSYakXv++eelHcs0eve///3Pds1TAVhpyFPA7ryIr9cGATU+wLXR7mCpw5R3COk/t5F1J6L5laBQL4aGowM+0LO7+6SG/7EAZAHozu9qvO6LEUAWgMpugSdhYK699lp899132LlzJzp37myrwJ0A/PPPPzFy5EhZg+677z68++67+OKLL0DTtEpS48aNUVxcjMzMTBaASoBxHr8noMYH2O877UcNLDr4JXLX2JeEaCPqIfXKs0E52ucMuxr+xwKQBaDQI84C0DcjgLQuzlWiadUdO3Y4jQNYWlqKRYsWYePGjdIawLKyMqkYmgYm8Td37lxMnjxZkQCkaWMSbTqdTtaU9957D/feey9efPFFaW2hYyKB9+uvv2L37t3IycmB2WyWLv/xxx9IS0uTBCCtS6TEI4BCjxob1zEBNT7AddylgKo+Z81tKD74ma3NEc0uQ8LwOQHVB5HGquF/LABZAIr4pLTwPy4uDhkZGUhKSnJZVklJiRR8uEWLFoiIiJDl4xFASFO5rpKrQNA0BUxTvc7i41WWRRspHMVlTSOATZs2lTZ+VE2VmzGqjkDOmjULt99+OwoKCly2ndpGMfxYAAo9ZmzsBwTU+AD7QbcCpglp8zrAnLvf1t6Y3m/AeMEDAdN+0Yaq4X8sAFkACvmlLwQgbwLxXACSYOzYsSP279+PO++8U/qvZcuWMBqN0pTI448/jpkzZ1abtnW3CcSZmHQmAEkotm3bVhKur776KsaNGyftAI6MjJT8iXYir1u3TnbiiLsRwOuvv17a1Vy5C7jSMXkNoNAjysY+IqDGB9hHTQuoYuidUZ6xCbqohtBFN1bUdnNJOtJ+SJXlTRq/EeHJ1SMdKCowADOp4X8sAFkACj0KvhCAQg0IcGNvN4Hs27dPEoC9evXCpk2bqlGgHbo//vijagLwww8/xH/+8x9MmzYNr732WrX669evj/Pnz8sE4Nq1azFw4EBcdtll0u7hqolCxJBIZAEY4E4dpM1X4wMcpKhcdovEX/aySSg9+auUJ27w14hqdZ1bDCUn5kt2tj8Kw6JQ7+ocaLSBEczebQcVZFDD/1gAsgBU4Hqus7AAFMLndRzASjE1adIkzJs3T9YI2rFLoWGysrJUE4C0HvCJJ57AW2+9hfvvv19W/6pVq0Bx+ig5njlM/59GKWlTCq1PdEy0VpCukT9VFYDh4eFSPMJTp05Vg81xAMX8j62VE1DjA6y89uDIWXpuJbIWDbMLufAE1KONHDp5jNGqvc3b/DAKd79q+5lO+ki66K/ggKKwF2r4HwtAFoAK3c95NhaAQvi8FoC0wYLCr9CUL8Xba9OmIjwCrbWkNX8//fST9O+qO3d9NQVMI3hTpkyRRiBp1I7i9FE6ffo0Ro0aBRqhrCoA6d+0HpCCRv/yyy+YOHGilKewsBDXXXedTchWFYAUY5DKpU0u8fHxMuAsAMX8j62VE1DjA6y89uDImbflMRTueknWmYTh8xDRzD6656ynGQsGoDx9ne2SsetTiOn+bHBAUdgLNfyPBSALQIXuxwJQCJQLY2+ngKk42oDx6aefSuvuRowYIf0vBW6mnbjjx4+XTtJQSwDSbuMePXpgz549oOlemtol8UnirVu3blJvaZTScQSwUpDefPPN0k7jIUOGSAKWdjBTEGuKKUg7iqsKwMowNLSBiNYW0iaidu3a4aGHHuJA0Go4JZfplIAaH+BQQ53+W0+YMrfKuh3R7HIkDJ/tEoXVVIxz38cBlnJbnsRRi2FoJA9yH+ws1fA/FoAsAIWeGx4BFMLn9Qgg1UpC7+2338bnn3+OI0eOSLuxL7zwQrzwwguS8JsxY4ZqApDqp6lmmgamkC90LB1tAqFRwaeffhpjx47FypUrqwlAsiNhSsfNHThwAAkJCbjkkkvw0ksvSesJHY+CqyRLI4R06sf8+fOlekwmkzTFzEfBifkeW3tGQI0PsGctCOzczjZySD3SGlBv6nlow+OcdrD03CpkLapYUiIljRb1rsqGNjw2sIF42Ho1/I8FIAtAD91Qnp0FoBA+NhYkwFPAggDZXDEBNT7AiisPgozFR35AzqqrnPYkbuDniGpzs9NrBTtnIn/r47ZrYYndkTJBPooYBHjcdkEN/2MByALQrePVlIEFoBA+NhYkwAJQECCbKyagxgdYceVBkDHn75tRfOgLpz0Jrz8cSWOWOb2W9ec4lJ5aaLsW1eFexPV9JwiIeNYFNfyPBSALQM+8sEpuFoBC+NhYkAALQEGAbK6YgBofYMWVB3hGCv+SNrsJLEWnXfREg9QpJ6rFBbRaLTj/fSKs5bk2u/ihPyCyxZUBTsTz5qvhfywAWQB67okOFiwAhfCxsSABFoCCANlcMQE1PsCKKw/wjOU5+5DxS0d5L7ThgKXi6EpKMb1egbHTQ7I85dm7kDG/i+y31CknFQeQDnBschbl5Vi4cKG0vpqO7fRFYgHIAlDIj1gACuFjY0ECLAAFAbK5YgIsABWjqpaxcO/byNv4f7bftdFNYGhwoWxKOCyhK1ImbpfZFu7/CHnr77L9pjM2R+rlR71vSABbquF/LABZAHr1SLz//vug/2gnKu3mFDkL2KsGsBETADgMDHtBrRFQ4wNca41XuSKa4i05MQ+lpxfB0PAiRDa/TFZj1XV8kW1uRmTLa5C1eKQsX/LEXdAndLL9lr3qWpQc+c7278iW1yJ+yDcq98Y/i1fD/1gAsgAU8nYeARTCx8aCBHgEUBAgmysmoMYHWHHlfpyRxF8+BXje/bKtlXGDvkRU6xukf1vNpTg/KxFWU5HtOq3jo/h/aXOaydYFRnd+FLE9Z9rypc1uDnPhcdu/Y/t/hOh2d/gxDfWapob/sQBkASjksSwAhfCxsSABFoCCANlcMQE1PsCKK/fjjPnbZ6Bg+zOyFmrCE5Ay+R/oIlJQenYFshYPd7iuQb2padBGJCNv00Mo3GM/S5ymhlMvPwaNRgtz4Slp44hjqjpC6MdYfN40NfyPBSALQCFH9VQA0rFedGIFJybgCwKeCsDi4mIcO3YMdKoInSjCiQkoJaDGB1hp3f6ar2DnS8jf+pjT5kW2uh7xg79C3pbHUbjLPqqnT+qJ5Es2SzblWTuQ8WvFyUGVKXHMChjqD0Xx0R+Rs3Kq7XdNeDzqXZUpicNQTGr4HwtAFoBCz5JSAUinNxw8eFA6v7bqea5CDWDjkCbgqQAkf6VzhVu3bu2znXQhfQNCqPNqfIADGV/hnreQt+mBGruQeNEy5G9+COWZW2z5ojs/htieL0r/punjjPmdYcrZIxN6Wn0cLGU5svAvhsbjkHjh74GMTKjtavgfC0AWgEJOqVQAUiUnTpyQjvFq1qyZdBYsJyYgSsATAUgfm1OnToFeei1bthStmu1DjIAaH+BARVi4/0Pkrf9P9ebrIgBzie13XUxLmPNp167VPsJ30XIYGgyz/bumUUTHCmJ6zISxy6OBiky43Wr4HwtAFoBCjumJACwqKsLJkycl8Ufn1tJUMP1/jUYj1AY2Dl0CJAALCgpgNBqh1TqfGiLhRy+63NxcKS+dWRwbG1rniIauh/iu52p8gH3XutorqeT4L8hefmm1CmP7vAVowpC34R6XjdGERaHeVVnQ6Ay2POaCE0ib01wmEp0VkDR2HcJT+9VeR/2sJjX8jwUgC0AhN/dEAFJFZWVlSEtLA4lBCiHDiQmIECBxR+v66I8Jd39IGAwGJCcns/gTAR7Ctmp8gAMNp9VUjLR57WApPClrekzPl2Ds/AisFjMyF/ZHecYmp10zNB6LxAsXVLuWv+1pFOx4ziWOiBZXIWHo94GGy6ftVcP/WACyABRyUk8FYGVllaMyNILDiQl4S4BeYKtWrcKQIUNqXNNHI82+ip7vbVvZLrAJqPEBDjQizqZrjV2nI6a7fRdweeY2ZPzeC7BWf7fTKGF0x/uddtuUdxim3P3VrumMzWSxAQONma/aq4b/sQBkASjkn94KQKFK2ZgJ/EtAjZciw2UCzgiEuq+ZS9KRPrc1rOV5Njzh9Ycj8aK/qo2+5218AIV736qGMXnSHujjqxwJx+6miIAa/scCkAWgIudzlYkFoBA+NhYkoMZLUbBJbB6kBELd13I33I+ife/I7m7y+M3QJ/esdsct5flIn9dBFuRZG9UIdI6vu6UaQeo+wt1Sw/9YALIAFHJMFoBC+NhYkIAaL0XBJrF5kBIIZV8z5R2SBB2sJtvdjWh5DRKGfOvybpccn4fs5ZNt16M7PYLYXi8FqXeo3y01/I8FIAtAIc9lASiEj40FCajxUhRsEpsHKYFQ9rXs5VNQcnyO/c5qDdJJH2HGZjXe7aJDX6P48FfQJ3SFsfuz0OqNQeod6ndLDf9jAcgCUMhzWQAK4WNjQQJqvBQFm8TmQUogVH2tLG0dMhcOkN3V6E4PIbbXK0F6p/2zW2r4HwtAFoBC3s4CUAgfGwsSUOOlKNgkNg9SAqHoaxStIfOPQShPW2u7qxpDIlInH4bWEB+kd9o/u6WG/7EAZAEo5O0sAIXwsbEgATVeioJNYvMgJRCKvlZ8/GfkLL9Mdkdjer8B4wU1HwEXpC5Qp91Sw/9YALIAFHJqFoBC+NhYkIAaL0XBJrF5kBIINV+rOKe3C0w5u213VGdsgZRL98lO8gjS2+133VLD/1gAsgAUcnQWgEL42FiQgBovRcEmsXmQEgg1Xys9uxxZi0fI7mb80B8Q2eLKIL3D/t0tNfyPBSALQCGvZwEohI+NBQmo8VIUbBKbBymBUPO1rGWTUXpinn30L7YdUi7dC43G+ZnbQXrb/aZbavgfC0AWgEIOzgJQCB8bCxJQ46Uo2CQ2D1ICoeRrpoLjSJ/bUnacW2zfdxHd4Z4gvbv+3y01/I8FIAtArzz//fffB/1nNptx4MABZGRkICkpyauy2IgJeEtAjZeit21hu+AmEEq+lrflMRTusgdt1oQZkXrFaWjDY4P7Jvtx79TwPxaALACFXJ5HAIXwsbEgATVeioJNYvMgJRAqvmY1FeP87Cawlmba7mRU+3sQ1+/dIL2zgdEtNfyPBSALQCHvZwEohI+NBQmo8VIUbBKbBymBUPG1ooNfInfNTbK7mDJpH8Li2wfpnQ2MbqnhfywAWQAKeT8LQCF8bCxIQI2XomCT2DxICYSCr0mhX37vBVPmVttdDG84CkmjlwTpXQ2cbin1P4vVilP5ZqRGaRERVvOGHRaALACFngAWgEL42FiQgNKXomA1bM4EEAq+Vpa2FpkLB8rudsKI+YhoOoE9oI4JKPG/onILXtiYg0M5JkToNHiibzzaJuhdtpwFIAtAIbdmASiEj40FCSh5KQpWweZMQCIQCr6WvfJqlBydZbvjOmNzpEw+BI1Wx15QxwSU+N8Xe/Kx6FixraUNonV4bUgiwrQap61nAcgCUMitWQAK4WNjQQJKXoqCVbA5EwgJAWguOou02U0Bq8l2x2N6vQJjp4fYA/yAgLt33dHccjz2dzasVdp6Y0cjLm4RxQLQxT3UWGnhAyevCLAA9AobG/mIgLuXoo+q4WKYQNCPAOZvn4GC7c/Y77QuAvUo9Ishke++HxCo6V1H6/6eXpuNgzl28V7ZZKNeg7eHJ8Gor74ekEcAeQRQyLVZAArhY2NBAiwABQGyuWICgeprNL5hzjsIbVQjaPXRTvtrNZcibU5zWIrP2a5HtrkF8QM/U8yHM3pO4FhuOb7/p1AynNouGi3jal6vt3DhQowdOxZ6vTzfshPF+HhXvssGjGsRies7xlS7zgKQBaDnXutgwQJQCB8bCxII1I+yYLfZvA4IBKKvWUoykLXsUpSn/Q2NIRFJo5dCn9SjGj1noV+SL9kGfVK3OiAdGlVmFJvx8KosFJoqJiCTI7V4e1hSjev1nAnAgjIL/m9FJvLLXU9k6jTAG0MTUT86TAaXBSALQKGnjQWgED42FiQQiB9lwS6zeR0RCDRfo4DOmUsuRHnaWhuxsPiOSJ6wU7apQwr9Mr8LTDm7bfnC6w1B0sUr64h08FdLU7bPrc/B3qxyWWcf7R2H7qkGpwBc+d+nu/Lw54kSmc3NFxjx1d4CmB00Yd/6BjzYM44FYBW6vAZQ4HljASgAj02FCQTaR1m4w1xAnREIJF+zWi3IWXEFSo7PrcYrbvA3iGp1re330tOLkbV0jCxfwshfEdHkkjpjHewVzztUiB/+nfp17OvwxhG4s6vz4/ac+d+hnHI8uUa+8aNS6H2zNx+/H7XvCKZ6nukfjw6J4bYqeQSQRwCFnjUWgEL42FiQQCB9lAW7yuZ1TCCQfC1v0zQU7nnDKTFdTEukXLofGm3FOrLMJaNRdmapLa8uth1SLt0LjabmIMJ1fDsCtnoSbbRhw3F0rrIztGHj4wuTnU4DV/U/GkV8Yk02juTaN34YdBppqjc5UoeCcgvuX56JAoep4ZZxYXhhYAK0moqwMCwAWQAKPUgsAIXwsbEggUD6KAt2lc3rmECg+FrhvneRt+G+GmnF9v8I0e3uQHnWDmT8Kl/nFzfgE0S1va2OaQdn9SUmCx5ZnY1zRWaXHXyiTzy6pNhH6SozVvW/1adL8N72PFk5V7ePxsRW9o0+fxwtwpd7C2R5/tM1BkMbR7IA/JcKTwELPGssAAXgsakwgUD5KAt3lAuocwKB4GslJ+Yje9mlgGM0OE0YdMZmMOcftjGkHcGpkw8id90dKD78jf33iBSkXn4CmrCIOucdqA3IKjHj230F2HiuFAkGLTonh6NzSjg6J4Xjm30FWHFKvl6PNmg4jgaObBqB2ztXnwau6n9vbs3F+rOlNkyNjDq8Mlge9NlkseK/q7JwttAuOOl0uP/rHofe9Q08AggeARR6zlgACuFjY0ECgfBRFuwim/sJAX/3tfLMrchYOAgwy9d9xQ36CrroxshaPFJGMvqCB1G49x1Z4GdjtxmI6fa0nxAPrGbQlOziY8X48UAhiv/d2evYA5p0rbpPt018GHrWM8jWA8aGa/DRyGToqpze4eh/YWFhuOuvTGSXWmxV3NE5BiOaVozsOaYt50vxyuZc2W9U9L3dYtE7RVctpExgURdvLY8ACjBkASgAj02FCfj7R1m4g1yA3xDwZ1+zlGYj47ceMBcck/FyFHSZi0ei7Owy1zwp8POUk9BGJPsN80BpyOGccny2O1+2Hs9d2yPDNHh5cCJoF/b9K7Jk2Z/qG49OyfJpYEf/yzVpcfeyTJnNm0MT0dAoD/NCGaj8D3fmY2WVkUcSpLddEIWRzY3umhrU11kACtxeFoAC8NhUmIA/f5SFO8cF+BUBf/U12vGb/ddElJ76XcYrsvVNiBv4OTT/LvgvS1uPzIX9XTKNancn4vp/6FfM/b0xZosV3+0vwMKjxdVG99y1/e6uMRjy71q8R1Zn4ViefTPHqKaRuLWzPHCzo/9tTDfjnW329X+0eeSzUcm2e121bhqd/GRXPpaflE8/U74fx6W6a2pQX2cBKHB7WQAKwGNTYQL++lEW7hgX4HcE6srXLGV5KNz9KszF5xDZ6loY6g+VsSnYORP5Wx+X/aZPHYCki5ZDo5OPImX9NQGlJ39zwlYj7QwOi2vrd9z9uUH/252PxcflU+6V7R3aOAJNYsKwK6MM+zLLUGafrcUwCvfSJcYm2KqGhYkzaPHRyCTbbl0q09H/vj1QgkXH7PX2SA3HI73ja0RFIpBiAzrasQDkNYBCzxcLQCF8bCxIoK4+yoLNZvMAJFBXvpa9fApKjs+xEYtofiVie78OXXQjlJ5djqwlFwJWu7rQRqSATvGg61WTs12/lMfQdBISR8wLwLtSd01eerxYmvatmmgzxq2dYtAxyS6+y8xWHMgux9FcExIjtBjQ0CAbrTtTYMIDK+XTwNP7xcvKcPS/pzfIp5vpGLlLWzs/5s+xfTQdPOufQsw/XGT7mUcAiQonrwiwAPQKGxv5iEBdfZR91HwuJoAI1IWvlWfvQcb8TtUoacKMiO78MIr2vQdLSZr9ukaLxFFLYGgo3/DhWED2yqtQcvQHWZlJF/+N8HoDA+hu1G1T92SW4YUNObLdu7S79vI20bikZZTL49xqavVDq7JwIt8+DTymeSRuusA+DVzpfyNGX4zbl+fA4qBaqorFmuohufPzoSL8dKDiDGIWgCwAvX6aWAB6jY4NfUCgLj7KPmg2FxGABOrC13LW3o7iA58qpmXs/jxiuj5RY35T7gGkz+8CWCpCiNCxb4ljVrhcP6a48hDJeL7IjMf/zpIFWKau39MtFoMbeR8+Z+7BQpsoo/IohMwHDtPAlf7XvN8ovLjZHtuPdvR+eVEKKAi0J2nB0SJ8s7cAP/AaQB4B9MRxHPOyAPSWHNv5gkBdfJR90W4uI/AI1LavWUoycX52Y8BcfeG+M3qGxuNAR7gpOcGDjn8r2P0qtJH1ENvrNeiiGgTeDamDFheVW/DU2mycKpAHcp7YKgpXtxfbTXsq34Rpq+TTwDP6x6P9v0e3VfpfefvhmH3I7hN0usfMQYle0dh5vghd6kV5ZRssRrwJROBOsgAUgMemwgRq+6Ms3GAuIGAJ1LavVdvcodUjssVUWeDmSpg6Y3MkX7IFWoN3QiBgb0otNpw2Uby6ORdb08pktfZMDcd/e8XJNmx426xpKzNl4nJsi0jc0LFiGrjS//bWH4LtGeW2KqpOFXtSN5Wp11ccCRiqiQWgwJ1nASgAj02FCdT2R1m4wVxAwBKoTV+zWsqRNqc5LEVnbLwiW16L+CHfoCx9A/LW343yzC3SNU1YFBLHrER4cq+AZRsIDacp06+rHKvWJEaH5wYkIJIWAPogzT5QgDkH7Rs0kiK0eG9ExW5g8r8FCxfit8gBsunn+7rHYmBD76aeWQCG8C7gL774Al9//TV2796NkpIStG3bFg8++CCuueYaxa7MAlAxKs6oAoHa/Cir0HwuMoAI1KavFR+ZhZxVV8voJI/fDH1yT+k3q8WMkhO/wJSzBxHNLoM+4YIAIhmYTX1gRSbOOBypFqPX4MVBiUiN0vmsQ7QJhDaDOKYn+8ZLx8mR/81auAwLwrrLrr8/IgnJkd61gQVgCAvAa6+9Fj179sSgQYOQkJCAefPm4ZFHHsGsWbNw5ZVXKnJqFoCKMHEmlQjU5kdZpS5wsQFCoLZ8jfYkZi7oi/KMTTYy+tRBSB67OkBIBV8zzxWaqp3W8WjvOHRPNfi0s3TvaR3gaYc1hl1TwvF4n3hJAL77xyZs0LW21UkhZT4YkeT1Bh4WgH4qALds2YKlS5di48aN2LBhA86cOQODwSCN1NWU6PrMmTMlEXfixAkkJiZizJgxePbZZ9G4cWO3zjp27FhERkZi7ty5bvNSBhaAijBxJpUI1NZHWaXmc7EBRKC2fK0sbR0yFw6QkYkfNgeRzS8LIFrB1dSq07/OAjX7qsdLjhfh8932Xb5U7iuDE9Ew0orpi/bjsLaerap+DQx4oEec11WzAPRTAThp0iTMnz9fdmPdCUASfyNHjsTatWvRoEEDDB48GMeOHZNEZEpKCtatW4dWrVrV6CwDBgxA586d8fHHHytyKhaAijBxJpUI1NZHWaXmc7EBRKC2fC17xZUoOfaTjYwuuhlSLjsEjbb6Oa8BhC+gm/rc+mzszrRvvBhOJ3l0jVWlTxQ0+u5lGcgrswf6o/Ayd1wQif8sPo08jX3X7vUdjRjXwvtdvCwA/VQAvvzyyygqKkLv3r2l/+rXr+92BPDpp5/Gc889h/79+2PJkiUwGiu2pb/xxhuYNm0ahgwZgpUrV7p02q+++gq33XYb1q9fjx49eihybhaAijBxJpUI1NZHWaXmc7EBRKA2fM1ccAJpc1sCVnuYkZher8HYaVoAkQquplLol1uXZsiCPk/rGYc+9X07/etIbc7BQsz+N1Az/U4h/p7tF4Mn1slPHnlhYAJax3u/i5cFoJ8KwKqPEB3oXdMIIN3I1NRU5OTkYOvWrejeXb5QtGvXrti5cyc2b94srfurmmi0kdb9ffjhh7jpppsUP8EsABWj4owqEKiNj7IKzeYiA5BAbfha3uZHULj7FRsdTVg0UqecgtZQ8zmvAYgzYJq87kwJ3tqWZ2svbfj9fFQyIny089cZiLwyC+7+K0N2fnBTow4nHNYG6rUVAaDDKBK0l4kFYJAIwOXLl2PEiBHSFO+hQ4equQONDNII4fTp0/HMM8/Irv/www+48cYb8dFHH0n/60liAegJLc7rawK18VH2dZu5vMAkoLavWUoykDa3NazluTZAUe3vQVy/dwMTmB+2uthkwfa0MtAavg6JekWbJ97bnovVpytOTaHULSUcj/VRX5D/b3c+Fh8vdkmxfaIeM/onCFFmARgkAvCtt97CAw88gClTpuCnn+zrRyq9Y8GCBRg/fjxobSHt9q1Mn376Ke699158+eWXmDp1qsfOxALQY2Rs4EMCan+UfdhULirACajta7lr70TRAfna65RL/0FYXNsAJ+cfzd+WVoqPd+Yju9QiNejKttGY3Ca6xsZR8OfblmbI4u7dfIERFzX3ft2dUhppRWbctzwTDkf+ykwntIzCNR3ETh9hARgkApDi97355puSCKQ1f1XTjh070K1bN2ltH+0wpkT5Hn74Ybz//vuYOHGizUSn00mbRpyl0tJS0H+ViQRgkyZNcPbsWSQlJSn1bc7HBHxCgF5gtFt+1KhRIR/R3idAuRCXBNT0NVPWNuT80Y8i/NnqD292BWIHfct3RAEBEkv/5JhQL1KH1vE62akcJSYrZh0owl+n5Cd40Lq6NwbHgYItu0r/ZJvw3Cb5uru3Bsd6HXdPQVdkWd7dUYAN5+2bTxwvxKzvoAAAIABJREFUPtAtGnQKiUgin46KUl/MirRRbduAOAnE3RrA22+/HTSa98QTT+D555+vxoymhdu0aSMFe/7nn3+k682bN8fx48er5W3WrJm0e9hZounjGTNmVLv0/fffh7wjqe2oXD4TYAJBSMBqRYeCxxFj2mfrnBkG7Ip7D2Va53+IByEFr7uUgygs0nWGRVMh5AzWcjS0ZqORNRvhMGGjthUKNM5PymhjOYfelqMu696ubYq92ka26/HWQow17/S6rZ4aZiIai8O6ODWbbNqECJg8LbJafsfBH+HCArCAoBCAtHv3s88+w5NPPintBK6aDh48KIk/RwHozb3iEUBvqLGNWgTUHJVRq81cbmASUMvXSo/9iPw118mgRHV5BlGdHw9MULXc6g93FWLNWfnontImuBsFfGRNLk4XVkwZU5rQIgJXtIlUWrxP8r24KR97s+VCr16UFq8P8j7+X2XDeAQwhKeAfeGdvAbQFxS5DG8JqL0uy9t2sV3wEVDD1yzlhUif1w6WotM2YDpjC6RM2gtNmHfnuwYfedc9MlusuO3PDBSWu1opJ7c16ACLFSi3azqMahqJWzvHVKvk/L9r8Bwv0Lm/bRO8D7vizb2htYsvbbJvDKIyhjSKwN3dxOMQ8hrAIBGA3m4C8cYhHW1YAIoSZHsRAmp8lEXaw7bBS0ANX8vf+iQKdr4gg5YwfB4imk0KXpA+7NnezDLMWJ+jqEQSbnd3jcGiY8X445h9dy2NAr4zvPp5un8cLcKXe+0ncsSGa/Dxhcmy9YWKKhbMRMfDPbQ6Cyfz7bEh7+wSg+FNxEciWQAGiQBUGgaGQsE4W8PnrY+yAPSWHNv5goAaH2VftIvLCD4Ckq8tWICx48b5ZMORKf8I0ud1BCz2TXXhDS5E4uglisKTBB9hz3v09d58LDhqF3ONjTpc2DQSW9NKsSezXAreTOH6Lm8TjYmtoiTxllVSsbvW3Sjg8xuysSvDvgFjaOMI/Eel0z/c9fxgdjnoNBLawNw8RocXBiUKxf+rrI8FYJAIwLKyMikQdG5ubo2BoOlYODpZRDTRzmH6z2w248CBA8jIyOBdwKJQ2d5jAiwAPUbGBh4QsFpMKDu3UjqarfjErzCV5CCm+zOI6/qIB6UA5sKTKD42B+b8wzAXnoK56CTM+UdgLXMYvdLokDxxJ/TxHT0qO1Qz08jY/SuyQFO1lenyNlGY0rYiNAqd4HEi34QG0WFS3D/H9OWe/BpHAZ2d/vFgj1j0bVB30/I5RaX4eelqXHPxEBjCxXb/sgC0e0NQbAKh7tAGkBdeeAF0ni8dBRcdXRHjqPIouEGDBmH16tU+fV/wCKBPcXJhHhJgAeghMM4uI0AigkKwkChzTFZLGcrO/oWS43NhKUmvRi15wnboE7sqokkjfZm/94WlNKPG/FEd7kdc37cUlcmZgJP5Jvx3VZYMxcxBCWgZ536NnrtRwPVnS/DmVvvpHzRN/PnoZESqePqHu3uqxruORwD9dASQAjc77ubdsGGDNC3Qp08fm5889dRTGDdunO3fJSUlGDZsGChvgwYNMHjwYCnMC/2bYvTRGb+tW7d252ceXWcB6BEuzuxjAmq8FH3cRC7OCwLmknQU7nxRsozu8jh0Eb4Ph0LiL2fF5Sg5/rPHLYzqcB/i+r7t1o7qyFoyGmVn/6wxr9aQjJTJB/nIN7dE7RnmHSrED/8U2n6geH7vj0hSPH3ubBRwfMso0HTroZxy2TFsXZL1eKKv2KkbHnTNaVY13nUsAP1UANLJHO7O5P3iiy+qHd1WXFyMmTNnguLynTx5EgkJCRgzZowkJilgs68TC0BfE+XyPCGgxkvRk/o5r+8JWE1FSP+1O8x5B6TCdcbmSL5kK7QG336AS8/8iawlo7zqgMaQhHpXnIFGV/NUXNGhr5H79w011qEJj0fCsJ9gaOhdW7zqQBAYPbkmCwdz7OFRRjeLxC2dqu/mddVVZ6OArvLe2NGIi1vUbcBkNd51LAD9VAAGyvPJAjBQ7lRwtlONl2JwkgqcXuVteRyFu2bKGhzRbDLih81RPLqjpLfOjl5zZReW2A2mrO2yy/HD5yKy2WSXVdEoZvq8DrCWZtryaKMaIqrNrdBFN4Y2qrH0v2GxbaHRGZQ0mfP8SyCnxIw7/5Ifk/ZYnzh0S/GMY9VRQGeAw7XA28OTkBihq1P+arzrWACyABRyahaAQvjYWJCAGi9FwSaxuQCB8px9yPi1K2CpfvxVbL8PEN3+LoHS7aZWixlpPzWEpSTNLs4iUqHR289W1UbUQ0STSxDR/AqExbZC+oLBMKX/bctvaDweiRf+5rI92auuRcmR72TXE0b+KpXJSYzAXyeK8cku+xFtkWEafHphMvS0WM+D5G4UsGmMDlPbGdGznmfC0oMmKM6qxruOBSALQMUO6JiRdwF7hY2NfExAjZeij5vIxSkkIK2XWzwCZedWOLfQGpA8fiP0ic6PxlJYjZSt9NxKZC0aJjNJmXxIEnquUv7+T1Gw/nb7ZY0OqVNOQRdVv5pJ6enFyFo6RvZ7RPMp0lQvJ3ECr2zKwZY0++kf/RoY8EAP707GoEDLH+/MR2G5BS3i9GiXoEf7RD3aJOgRS8N/fpLUeNexAGQBKOTePAIohI+NBQmo8VIUbBKbe0mg6PC3yF0tPxKtalFhcR2QNH4TtPqKCAfeptz196Jo/3s2c5riTZmwrcbiSouykP5TQ+hgj9sX0+tVGDv9V2ZHp3tkzO8Ec4H9PHVa55cyaZ9TsehtH0LVrsRkxa1L02Vx/O7pGovBjcVCtNAfILTR0l+TGu86FoAsAIX8nQWgED42FiSgxktRsEls7gUBS2lOxZFoDlOyuuimMDS6GEUHPpaVGNnmFsQP/MyLWipMrFYL0mY3gaXojK0MY/fnENP1yRrLJF/bP/siJJcttwvH+I5InrhbJhzyNk1D4Z43ZGXFDfgUUW1v9brNbGgnsOlcKV7bYj8aTauBNP1r9KPROjXulxrvOhaALACFfJUFoBA+NhYkoMZLUbBJbO4Fgdz1d6No/wcyy4QR82FodBEyFg6AKXOr7Fr8kFmIbDnVi5qAsrR1yFw4QGabPGkv9PEd3ArA1fNfRoeCp2T5ksZvRHhyRXD90jNLK6Z+rfbDZsPrDUHimOXQaPxnOtErcH5i9NGOPCw/VWJrTcdEPab39+0OcT/pqqwZarzrWACyABTydRaAQvjYWJCAGi9FwSaxuYcEyjI2SYGSAavN0tBkAhJHzpf+bco7iIxfe8Bqsp/LqtHHIfXyY17Fzas6QhcW3xEpk/a4bXXFUXC/o59pGiwFR235o9rdhbj+H6Dk1EJkL5ssO9oNWgNSJu5AWFw7t+VzBvcELFYr7vgzA3lldl+5voMR41rWbYgW9y0Xz6HGu44FIAtAIc9kASiEj40FCajxUhRsEpu7IUBrrcz5h0AbJei/snPLYTXZA/pCF4mUSXsRFtPcVpKz9YFxg75CVOvrPeJNdafPaQFz4XGbnbHrU4jp/qzbcip9bVjjLSja9ZwtP63vi+v3AXIo3l+V3ctKppbdVswZbAT+ySrH0+uyZUTeHpaI+tFhQU9JjXcdC0AWgEIPDgtAIXxsLEhAjZeiYJPYvAYChfs/QuGeV6VzcF2lmB4zYezyaLXLWUvHovT0H7bfI5pdjoThsz3iXZaxGZm/y89CV3qsW6WvXTSkI7Lnt3Vbb0TzKxE/5DtotHUbP85tQwMow3f7CvDrkSJbixsbdXh9aFIA9cD7pqrxrmMByALQK4/kMDBeYWMjHxNQ46Xo4yZycf8SKD42BzkrptTIg3b5kiBzdsJG0cH/IXfNLfaRtzAj6l2V4VEQ5bwtj6Fw10u2MnQxrZEy+YCi3Z+Ovpb310XSyKWrFNnqesQN/B+LPx96P43e3r8iE+eL7OsrJ7WKwlXt7bEbfVid3xWlxruOBSALQCFH5xFAIXxsLEhAjZeiYJPY3AkBS0kG0n+5QLbLV55Ng/B6gxE34BOX6+XMxeeR9mMD2VrBxFGLYWg0WhFzafr357bS9HNliu70CGJ72QVhTQU5+lr5iR+Qu9r59HNU29sR2/9D3vQB4FhuOdaeLUWCQYvuqeFCU7V0Pu8Ta+TTvy8MTEDreL2i+x/omdR417EAZAEo9FywABTCx8aCBNR4KQo2ic2dEHB2KoY2sj4MDUfD0GgMwhteCF1Eilt2GQv6ozx9vS1fVPt7ENfvXbd2lKE8a2fFKSMOyXEHr7tCHH1NhzKk/dQA1nL7aRRkH9XhPsT2eUvRiKK7+gL9+tlCEx5ZnYVSs70njYw69Eg1oGe9cLSN10NHMVwUpq/35mPB0WJb7npROtD6P3+O3aewa4qyqfGuYwHIAlCR87nKxAJQCB8bCxJQ46Uo2CQ2r0Kg5ORvyP5rguxXQ5OJSBgxz+OPd8HOF5G/9QlbWRQrMOXyY4rKyd82HQU77Js9PLGVBCTtAl64EGPHjoVer0fepv+icM/rtrZEd3oYMT1fUtSWUHCSz3fnY8lxu2Cr2ufkSC3u7x6HtgnuR/Bo9+/dyzKRVWKf/p3cOgpXtguN6V9n/ucLH2IByAJQyI9YAArhY2NBAiwABQGqbC4FeJ5/gSzocsWpGHuhi6LpXM9SefZuZMzvLDNKnrBD0fFwNAVtytlrF2wdH0BsH3nA5ppaU9XXrJZySYyWZ+1AVOsbENHiKhZ//wIsNVeEayk22cO1OGPbJEaH14a438SxN7MMM9bnyIp4bUgimsQE/+7fyk6r8a5jAcgC0LM3cJXcLACF8LGxIAE1XoqCTWJzBwI5a25F8cHPZUziBn6BqDY3esVJWsc3t6XsmDVj9+cR09U+KuisYFPOfqT/Ig/0nHTx3wivN1BxO9jXFKPCipPF+HCnfHrclfUbQxPRyFizkPtsVz6WnrCPJioVjspb7P851fA/FoAsAIU8nwWgED42FiSgxktRsElsXjkKRKdiLJFv0DA0vAgJo/4QGinL3XAfivbZ1/3pk/sgefyGGrlXnf7VRjZA6hWnPNqowb6m3LWfWpOFAzkmm0HXlHBMaRONrWmlWHSsGEUOI4NXtYvGpNauz3Y2Way4868M5DsEf57aLhqX1mCjvKWBk1MN/2MByALQqyeAw8B4hY2NfExAjZeij5sYksVZyguQ8UsnWcBlTZhROnFDZ2wqxKT0zJ/IWjJKVkbqFWehi6rvtFw6+zd9bivZqGFUh3sR1/cdj9rBvqYM14l8Ex5alSXLPK1nHPrUN0i/VR3NaxMfhucHJrosfHt6KWZutJ/9SxlDJfizIxQ1/I8FIAtAZU+1i1w8AiiEj40FCajxUhRsEpsDyN/2NAp22E/LICix/T5AdPu7hPlYzWU4/0MKrOV5trLiBnyKqLa3Oi279NwqZC0aKruWNH4TwpN7edQW9jVluL7ck48/jtmna+MNWrw/Iglh/+74rSroaB/wRyOTEB/hPGD2BzvysNLh7N9WcWF4cZBrwaislYGXSw3/YwHIAlDoSWABKISPjQUJqPFSFGxS0Jub8o/AWpaDsMRuTqdQLaXZSJvTXCbQwusNReKYZR5NudYEMnvFFSg5Zj8FxPHs4Kp2OWtuQfHB/9l+prN/kyfu9ngamn3NvWuXma24888MFDpM8V7aKgpTHYI1l5utuK3KBpHbO8dgZNPIahVQebdXyXtdByPGh8DZv1VhqOF/LABZALp/qmvIwQJQCB8bCxJQ46Uo2KSgNi/c9x7yNj4AWE2QQrkMnw2NVh7Go+p6O0CD5Em7oY/v6DM21c4G1kWi/lWZ0ITJRYTVVITzP9aXxeuL6fkyjJ0f9rgt7Gvuka06VYz3d8g3f7wzPAkUs88xvbU1F+vOltp+6p4Sjkf7xFerYNO5Ury2xT79S6OFH4xMQqKL0UL3LQzcHGr4HwtAFoBCTwQLQCF8bCxIQI2XomCTgta8Yu0dbeqwh/Ywdn8OMV2ftPWZwr5UjP7ZP9p0Jm7CsB98ysVSkonzP6YCVntcuISRvyGiyXhZPcVHvkfOqmvsv2m0SL38BHTRjTxuD/uae2TT12Vjf1a5LWOXZD2e6JtQzXDN6RK8s90+ha/XAp+NSkZEmLZGodghUY9n+lcvz33LAj+HGv7HApAFoNCTwQJQCB8bCxJQ46Uo2KSgNDcXnkLGr91hKc2Q90+rR/IlW6BPqIjNl799Bgq2P+OQR4PkibugT7jA51wy/xiCsvOrbeXSEWxxAz6W1ZO55CKUnVli+y284WgkjV7sVVvY12rGdirfhGlVNn880CMW/RpEVDMsLLfgtqUZMDuECXywRyz6OuQtMdH0b7rsJJFbOhkxulmUV/cv0I3U8D8WgCwAhZ4LFoBC+NhYkIAaL0XBJgWdOQU8zlw0DOVpa532TZ/UE0nj1sNqKqwY/SuzB+yNaD4FCcN+UoVJwe7XkL/5IVvZVUO7mAtPI21OU9koYfzgbxHZymFE0IOWsa/VDKvqUW2x4Rp8ODLZtvmjqvXzG7KxK8M+Wji4kQH3dIuzZas6Skh7SD4emYxYg3yU0INbGNBZ1fA/FoAsAIUeChaAQvjYWJCAGi9FwSYFnXnepmko3FPziRkxPV6E1WpCwbanZf1PnrjTNjroazCm3H+QPq+9rNj4YbMR2fxy6beCXa8gf8sjtusafQzqXXkOmjDvRpDY15zfwaJyC47lmfD6llwUlNuH9Ca0jMI1HVwf1bb4WBH+t6fAVmi0XoNPLqwQjHT027Prc7DPYTqZYgk+7mSdoK/9yl/LU8P/WACyABTydxaAQvjYWJCAGi9FwSYFlXnx8Z+Rs/wyWZ90xhaAzgBz7n7779pwaHSR8rV/zS5DwvA5qvJI+7ktzHkHHdqhR8Kw2aBdwRnzO8mOfotsczPiB8pPJfGkcexrFbRInK0/W4qN50ol4Xe20OwU41vDEtEg2vUJHxnFZul8X8f0VN94dEoOx7f7CvDbkSLZtbu6xGBYk+o7hT25h4GcVw3/YwHIAtCrZyIYA0HTiELJ8XnQJ3UHrRXSaGjPGSd/JqDGS9Gf+1sbbaPj1ixFZ1CWvh65a26WhXOB1oDkcWshTQsvHCCbXq3aNqVn9Ir0qXDvO8jbeL+8CE0YjF2eQMGOGbLfE8esgKG+PB6gJ3Wzr1XQ+uNoEb7cax+5c8bwgiQ9nu7nfrPGo6uzcDTPfmLIxc0j0SIuDB9U2UkcZ9BKwZ8jq2wS8eT+BXpeNfyPBSALQKHnIlhGAM1FZ5A+vzOspRUR7OOHfIfIllcLsWFj9Qmo8VJUv9W1V0N55jaUnl0GQ4Ph0Cf1cFmxpSwPRfs/QFnaGpRnboal+JzTvHH9P0ZUu9ula3mbH0Hh7lec5jM0vRSJI35WvaN0ykfu2ttkcf6cVaozNkfKZYeF4hCyr1WM/t2zLBOZJfbd1854P9k3Hp2Tw93e/7kHC/HTgUJbvhi9BsVmK0wOxes0AJXXMcl9eW4rDOAMavgfC0AWgEKPRLAIwPztz6Jg+3QbC1rYnnzJZiE2bKw+ATVeiuq3unZqKEvfgMwF/SvCtmi0iBv0JaJaXVetclP+UWT+MRiWotM1Niyy1XWIG/SVbWTcaipB+q/dYM77p5pd8iXboE/qVisdrRCBd6D44Gcu6zN2fQox3Z8Vag/7GrAzowwvbLBv8qkESiKtSUwYWsSGYUjjCMVi7XieCQ+vlh8bV/UmuQoSLXQzA9BYDf9jAcgCUOhRCBYBmLFgAMrT19lZaMJQ/5pcrxeMC0FlY8UE1HgpKq7czzPmrL4exYe/cfBpHRKG/4yIphNsv5mLziLzj0Ew5x+psTdhCZ2RNHYdtPpoWb6ytHXIXDhQFhuQAkQnjvylVumQCMxbdxeKDnzitN6UyQcRFttaqE3sa8B723Ox+rQ9gHNjow53d4tFE2MY9KQCPUy03ODe5ZlIL3Y+oji2RSRu6BjjYanBmV0N/2MByAJQ6GkJBgFIR1ed/yG52nqmpItXIbzeYCE+bKwuATVeiuq2uHZKpw9r2pxmsBSelFeoNSBx9GJpLRz5feaioTBl73LaKNo1SyPh4amDEN3xfmgjkp3my9vyGAp3vVRxTReB5HEboE/sUjsddahFEoHr70HRPx/K6tanDkTy2L+F2xPqvlZssuCOPzNkcfmu72DEOMFj2b7am4+FR+1nB1feqG4p4Xi4Vxx0/54hLHwDA7wANfyPBSALQKHHIhgEYPGxOchZMaUaB2+PjBICysYeEVDjpehRA/w0M53Xmz63lUthl3jhAuRtebRabD8a6TN2fhT6pF7QxbZWtGaOxGbxwc9Rnr0TkS2uQngqTTvXTaK25G24F0X737c1IGHEL4hoOlG4QaHua8tPFuOjnfZj3kiXUZy/eMG4fHsyy6SQL46pkVGH5wckIIqOCOEkEVDD/1gAsgAUeryCQQDmrKFF5NXXDxmaTkLiiHlCfNhYXQJqvBTVbXHtlF504HPkrr3Vo8p0Ma2QdPHf0EXV98jO3zKTCCw5PgelpxbC0PAiRLac6pMmhrqvzViXjb0Ocfl6pIbjkd7Vz+/1FLbZYpVOEKkMJ2PUa/DCwATUryGEjKd1BEN+NfyPBSALQKFnI9AFoDRVNrspLEWnqnHQRtRD6pVnq4WDoeOn8jY/LE0Zx/R6FYb6Q4QYsrH3BNR4KXrfGv+xzFl1HYqPfGtvkCYMsNrDbVRtKZ2ikTR2DcJiWvhPJ/ysJaHsa2lFZmmtnmNydcybN7ftZL4Js//dDXxF22g0jnEdP9Cb8oPBRg3/YwHIAlDo2fC1ACw58au0cD0soROMnR6BJqz6OZJCDa5iXJ6zFxm/uD6nNOWyowiLaW6zspqKkTa3FSzFZ6XftFGNkErhJXQGXzaLy1JIQI2XosKq6ywbhWzJ3/Y0LCXnEd3x/xCe0lfWFmd/1MT0fgOlp35H2dll1dqtCU8ArXfVJ3Sqsz4FQsWh6GuV92XOwUKbQKPf6NQOOpbNm40fgXCv/bGNavgfC0AWgEK+7ksBWFWMGbtOR0x3x4PlhZrq1Lhgz5vI3/Sgy4Ljh3yPyJZX2a6XnPwd2X9dIssvGmDW970KnRLVeCmK0Cs9sxTlWTsR0ewy2R8OImU62pK4y1oyCmVn/5J+1hgSkTJpH3SRqbZsprzDSP9ZvuM1edJe6KIbI2vRCCnOX2XShEUjcfSfCE/t56smBm05/uZrtQWafO7+FVk4X2Q/8WNU00jc2pl359bWPaB61PA/FoAsAIV82JcCsGD3q8inqdV/ky66GVIuP6rqiRxZS8ag9MxilwyiOtyLuL7v2K47Wy9YG0JV6CYFsbEaL0VvcRUd+gq5f99YIcz0MaDQI7rIet4W59Su5PgvyF5+qexaTK/XYOw0zfZb1fV/jksZLCUZyFo2Udr8oY1IQfyQWTA0HOnTNgZrYf7ka7XJeH9WGaavk2/SoA0abRL0tdmMkK9LDf9jAcgCUOjB8qUAzF1/t3QagWNKmXwAYbFthNroypimc8/NSgTMJbYsYYndYcraZvs37YZMvmST9G+rxYy0nxrCUpImK5JCxdAUGqfaJ6DGS9HbXmT83g/lGRts5rG930T0Bf/nbXHV7KzmMqTP7yQ/+xZAWHwnJE/caftDqer6v4jmVyJh2A+28ihcCsX900bWg1bPozhKb5A/+ZrSNvsi38c787DspP0d2TBahzeGJqr6h7kv2h1sZajhfywAWQB69ZyocRZw1p/jpJ17jim273uI7nC3V210Z1R6ejGylo6xZ9NoET9sNnKWX+bwGwWEzoMmLBJlaWv/DXpbpWStHvWuyq4WJNdd/XxdnIAaL0VvWkXi7Nx3sYDFHiQ3stX1iB/8lTfFObUp3Pcu8jbc5/Ra8iVbpKPeKtb/NZGd6hHb70NEt7/TZ+0I1YL8xddqk3+Z2Yrb/8xAsclqq3Zqu2hc2loeELw22xSqdanhfywAWQAKPU++HAFMn9cRptx9svYYmkxA4sj5Qm10ZZy38UEU7n3Tdlmf0h+Jo5fg/PdxsqDQSRevRni9QTWefZo4ajEMjUar0k4u1DUBNV6K3vCmM3czfpOftRuW0AUpE3d4U1w1G0tpDtJ+bg1rqXwnZmXGyqUKprxDSP9ZPmJOawTD4tv7pB2hXIi/+Fpt3oM1Z0rwzrY8W5V01sf7I5KQFKmrzWZwXbwGUDUf0Fjpz2ZOXhHwlQCkW3Du22jALI8Irwkzot7VWdBofb/eJP2XC2DK2Wvrt7HbM4jpNh3p87vBlG3/cMf0+n/2rgK6jWNrf5JlyZKMAjvM3DAzc9qmSZs2ZWbmV3ql16ZMf1NMuUnTtE0xzMwMDTOYGWRbsv4z60gLWlkLWke2Z8/Jaa2de2fm7tXsp5l7v/sWYjs+ifS57UTrnhIF1o5PI77nhWoIiixJhZRYIFJeysWHvkTe+rv4UyDlBG8oDEuGeP6WJ1G0752gJtKZ7Ei5+hxKjn6PvPV3+tsFozJSYuu6LhMpvladz2Ha5lzszCjzd9nJEY3n+yRV5xBoXxcsoIX/0R1AugOo6gsWLgDoKUlD+s/iBLRalGTzFJ1m+P+4F6l1SrIh89bfg+JDn/tvmZpMQnz315HxR/ugtop29IbjUjb+S5VRqbBkC2ixKErunNMwb/3donVofUezSnT6ZNwFx5Hxezuggn0RRyf3D6jiQer8lpz8Da5jM/3dCeP/1IyjrstGiq9V13Mgx7+3Ls6Am1Om94Eu8RjUSFtqruqaX03rRwv/owCQAkBV34NwAcCyjE3ImidORRHb+XnEdX9V1TiFwsWHZvB2SggXWsrUDOj0UeBmcxI5vbkew7dWsO0/rBqdnl87WKdHyrXZ0BsT/G0IX1vehnuY3URz69sRe0lwuhmpk2NJqL2I7/UOczRdly8tFkUl9sz4qzsvecinI2HAV7C0vk2JSr9MzsqpcJ34mdWhj4bziv2SuISrAAAgAElEQVTIW3cbiD/4LhIuUZ61jcb/qbJ2cOFI8TWNpheg9t/sMrzEyf4lx79fjXbASsuzVdcj4PWjhf9RAEgBoCpnDhcALDk2G7mrWb497qC02F3LWTGFKRflu2KaXY2koZUvWXfeIWT83pZnl6jYZvAUnvB/Zm55M0qO/8TblUka8RdiGrMcgcJszKThfyKmyeWK7c2A5IVD/VnLeksDJF95LCxHjIoHdZEFtVgU5U7J63YhdWacaKUNIY2QXN1l6RuRNZ9fW5f8GInv/T4Cy72RVzQ/moXG/8m1OAWAPgvMPVyEny9U5yCfNYs34M1BtvAZlGqSZQEt1joKACkAlOWEwsbhAoCFu99AwfZngoxFh5RrM6E3hWfx8Va4kTbbCW8Zy23F3akh8YjM/SAB92SQtlELUbjnDZSlrvSP2fdiZkAkIeP9vQ1vl5AAWfuEjYroE9wFJ5A1r08ABU3SyAWIacTJZFb1NGuesBaLolwrlGVsZp6N2KWGIoj4YdaCQShPX+dXrTMmMpVnyHeB7DCnkbAJQdysrzGN/5P7JKtuHwm+Ft4ZVa3t9c252MWJ/xvXzIxbLqG0QdX5DLh9aeF/FABSAKjKn8MFAIVxd8JBJQ6dA3OzKarG6hMWo3NJnnKaqZTgu7KXXorSM/NE+yMkv+S4uHDvWyjc8V9/G0NSFzgn7mT+zttwL4oPfhYgbxuzHKb6w2TNg2SAZi0YwEtY8SmwtL0HCf0+laWvNjXWYlGUa5+iA58gf6M4VRHjK9flQkdCBmRepCxizvKJPKm4Xu/yQglyVt/Ai/njNqbxfzINHqJ5JPhaeGcUXJunwovbFmfC5WF3lMNZ+7e65lGb+tHC/ygApABQ1XckXAAwa/EYlJ1bHHQs5tZ3IHHAl6rG6hMu2PkyCneyJeYMiZfAecVenu6CXf9D4Y4XRPvzHReXpa1ldmi4FwGGXq8H6b805XHC+dqYGoyBbfRCyfPwVpQje8l4lJ1fKirDHANPOa0IYEgeRAQ31GJRlDvd3LW3oeTIN0HFnJOPwBDfUpZaQjqe+VcXuHP3+eWiYpvDOelf3pF/6bmlTGk4sSu+32ewtr1bVr+0cXALRIKvVdfzOZpbjmfX5fC6+3ykA4km+T9kqmvMtb0fLfyPAkAKAFV9b8IFANPntoUn/5B/LKQCB7dmaZS1CZxXnVB0fCqcoLD8G/fo1te29NwyZC8eKWqbxMEzYW5xHQj5b9pPSfC6i/3tCJF0edZ2FO2ZFtSujsu2I9reLaTdyREgofQoOfxVlW3tEzbB6OwdUl9tbKDFoijXThl/dII7l/8DgqsjceivMDfjkItL6ECYiEREfH7HFWeq0/zaDBXFZwK0OicdgCGBH8sqoWvaJIgFIsHXquvhzDtWjO//LfR3R6p/vD/UXl3d035ELKCF/1EASAGgqi9bOAAgKU2V+oOZl1CR0J/wqrF8ZmSQoV5ohC4jf9MDqChJh7XzMzA3nRwwt8r4Pge8pdksaBvyM8zNr+a1rSgvQNqsRH6mL2mhMzDHv3pTItNeCCZjWlyP0tP/wFueF9SuMc2nImnITyHtLqyNTARIXJcuygRP0Sm/vLXzs4jv/lpIfbWxgRaLohw7VZQXIW1WPM9PdCYbz7/kZrF7PaXImNuG94xJeIHj8u2iO735254N+MFBMteTrz4Xlh9McuxRm9tebF+rTtu+szUXW9JY2qHhjWNwd+f46hwC7UtgAS38jwJACgBVfdHCAQA9xeeQPqchbxzJV59F5j+9UFF8zv95fJ+PYG3/oOh4SZwcqcTgKTxeeT8qhgmWj7I04LV3FxxDxm/84zjnlcdgiGseoDfjzy5w5+zmfW6sPxL2MUv8nxXueQsF256uwoY6mFvegJKjP7BtdHo4J5Eax8GPBT2uDKTPacw/Ro4ywz52JVwnf0PR3rf8+sSOsFU91BokrMWiKGf6ZWnrkLWAQ8WjiwKJyyw+MN2vxtToUthG/i1ZbdG+D5C/5VFe+6SR8xHTaJyoDnfewUqeQM4l9UeG5EHRhrjYvlZdj6DC68VdSzJRUM7G/93fJQ6DG5mrawi0HxELaOF/FABSAKjqyxYOABiQlKE3od6NxchbdztKjnwb8kVKdvVyVlyJ0lO/8+YixsEmpJvRmxxInpouulMilpgS3+f/YG3/gL+fssytyPqnV1AbxjSdjIT+MxjSaa+bPVKxtL0XCf0+CSrnOvUncpZfwbmvQ9Kw3xDTdJJoTWLn5MMwxLdS9SxrorAWi6IcOxTt/xD5mx9hwXhSZ8R2ehq5q6/3f6a3NETK1YFHtGL9kMxe8gOlojTTf9uYMhi2sSur3M3LnNcf5Rkb/DLE5yxtbpczFdo2hAUutq9V1wM6U+DG46vZExLS78fD7HBaaPm36noGYv1o4X8UAFIAqMqnwwEAS47ORO6aG/zjiIpvi+TJB1By7Cfkrr7O/7nOYGXIlnVRRt6YxXZMSANzq1uQOJAfnJ+/5XEU7XuPBZUNx8E2ar6oDcTisJKvOomoWLaCCInBSvvJHvTI1xefl7/lCRTte5ftR29C8pSTiDKniPZduO99FGxhiaOjkwfCMb6S9JeJ+5rTEBWuNL9sXM93ENvxcVXPsiYKa7EoyrGDMAuXEH5bL3kMmX9cwlNDfmRExThDqi7Y8SIKd73Ca+erUFOVMIk7JQlJJB412tEL9nFrA74nITunDaq0wMX2tep6PEtOlmDG3gJ/d/YYPT4Z4aiu7mk/QSyghf9RAEgBoKIv3PTp00H+eTweHDp0CJmZmbDblQUJF+x6DYU7nmdB2YVMWeYYdHYyb3xkJ8RUb4j/M4Ycef5AURLeqLiWSL7yCE8+a8FgXvWE2C7/RVy3l0Vt4Ck+j4y5reF1FzH3jfVHwD4mMBs3e9lElJ7+K0CHsd4w2McuZz73FJ1F+m/NgYpyf7uqYvfyNj2E4n//z9/W3PImJA76zv937jqSHDLD/7cavjlFDhAhQlosinKmJqwPHd/3U1ja3FFJDO1x+VXZRi+BqYF4UpGvESmHSHb/fP5GPjc1uQK24fyd7WDjI/GInoIjMCR1prF/ch6ixLYX29ckDlN1s4925GHduVK/noENTHiwG1vhSHUHVIEiC2jhfxQAUgCoyBl9QuHYAcxddwcv05XLbZfxdw+4s7ZzgNCNiO/9QSURbmk2Mv/qxguWF06GBMJHWeozHzME0LMSeFm7SSP+QUzjCUFt4Dr5Bwr3vokoS0PE93qPt/vnExIeA/o+J2TRpoZjOKDtdpQc/tr/ty46AclTTkFvDAyuFvIQxnZ9CXFdX/TLuk7/g5xlbNUR6PRIviZV0i6TqgceYcJaLIpSp8gQMc/ivxjtl26B0dETmf/0QXnmZr+quJ5vI7bjE1WqFoJ+8kwdE/cgOrGD1CHRdhpa4GL6mobT4qkm4TT3Lc9CtostAHxHxziMakrj/6rrGQTrRwv/owCQAkBVfh0OAJi1aCTKzi9jX5Y93mDiqMiVv+0ZFO15gz9GfTRMDcfCW5aPsrRVVY4/kZPhW56zB5l/dua1T74mDVFm/i6jXIOI6TXYuoLQveh0pDxX5eXOPYCMP8jLnA2uFsYU+tpm/N4B7rx//bIJA7+DpdVN/r+97pLKaiUXdifJjYQBX8PS+lbBgl5RqzkCtVgUpT7/0vMrkb2IQ+qtj0a96wuYLO289Xej+NAXflUkOzxp8I9BVTPJSSSRg7NDbG51KxIHsj8YpI6LttPGAhfT17SZUaDW9GIPHlyRxbvx7mAbGsUZqmsItJ8gFtDC/ygApABQ1RcuHAAw/beW8BQc848jcchsmJtfw/wd8JKtYrQkWB56I4802dLuAST0rTxKLT78NZNY4rsItyCJw1N7ERobJiavJJWdw+CfYG4xNUB19vJJKD31BwcYXIekwTMFoM2L1B8tvCNE+7g1MKZwsk0BJvHFdXKuX9bUeCJsIyp1l6VvQP7mhxkiYRILSYCmkmoUam2jtbwWi6LUMQtpeqLtPeC4bCsjXnTgU+RvvM+vypDYAc4rWFJnYR/CutEgMaKTD4nuOEsdH20XXgtcTF8L70yCa1t1pgSf7GLj/+KMOnw50kFDCqrrAVTRjxb+RwEgBYCqXFstACQJDak/xPBi+LjExkyG75JxKD23qMpx6mOccFy+k8kaLtj+HPvitXWF8/IdzN/C8mwxTa9C0rBfVM3fJ8wkjKy7jeGDMzW+HEnD5kKnD8yaK/p3OsNV6LsI4bXjsi28MZDYw/Q5fPqa5ClnEGXlU+UUH/keeWtvZmWjzEiZms5QkDA28Hr89xL6fQ5L27vCMtdIUqLFoih1fjkrr4HrxBx/c0ubu5HQv7L8HwHgWfP7s6p0etS7vhA6Q+BRWnn2bmT+1ZW3M0wSSeJ7cZKGpA6KttPMAhfT1zSblEDxZ7vzseI0G7vaK8WEJ3rS+L/qsn9V/WjhfxQAUgCoyrd9APDU2hfReABbXk2qUk/RaYYihXsJj2UJSHSd+gOu47PgOj1PpMSaDrbRi2BqMIpJ8CCJHpw3L1Kuy4HemIDMv0l1kW3+W3E93kRsp6ekDjVkO3fBCXjLsiuD8PXiRyal55Yge/Fov67KWrF5vF/YwWhxhDt4Fa4spP2cwgN6JIPak38wYKx6a2MkTz7MKyMWckI1oIEWi6LUaQt3rrnUKwxBNEkE4Rz32y/dDKMjkDJIGO+pi45nOCz1MTTzUuqzqI52F9PXqmN+pI9HVmbhfBH7w/GmDrGY0NxSXd3TfqqwgBb+RwEgBYCqvnQ+AHjwE6DRiC+ZDEg5V2nqamQvZLN6dQYLUshOCSd2jquvoiyvEgwe+wml55cygIYcb1pa38Y087pdSCWB+RUsiz0h0TXVG4ZUUrGBE2NlG7McpvqcGC45A1fY1l14Ehm/NuMDXk6iCrlRfPRH5K250d8mKqEdkiex8YBc4ayFw1CWulLSaOL7Toe1HXssKUkowhtpsShKmTJJQCL0P9yL7EBH27r4PxJmCCf0/wKWNvzqNoE/WIDYbq8irgubFS9lPLSN9ha4WL6m/cwqe8h1eXD3Mn7837SBSWiREF1dQ6D9UABY7T6g85JzRnopsgAXAMZZDJU7cfWHS9YlPMYMFSvFVUxi78iRq3C3LXP+QJSnr/M3tXZ6BjFNJiJrXl+OuA4p1+WKZuBKHryChkzZux+tfIoQAbVNwa5XUbjjv37tpiq4CoNxIIoNTW9pgOTJR6EzxCgYeWSKXKyXcunZxchewmZ4k8oz9a7Ph07PvixzVk6F68TPfsMJyb/JskOqiJSnr/e3IaX+nFcegT46NjINXodHdbF8rbpMvuG8Cx9sz/d3Zzbo8PVoB/RBfoxX17hoP5UW0ML/6A4g3QFU9f3iAUAzoDMmwjF+AwyJ/NJU5EiMEBdHxTbn7e4V7HwZhTvZo2NTowmwjfxH3ZgEmcOERJkkleRvYsvIGRLawzlpv6p+lApn/NkZ7pw9fnFhfF7u2lt5FVAs7e5HQt+PRbsj9Y8zfmsRcE9vrg9r+4dQsP0Z3j1CoWPt8LDSoUecXGlRBtYs/A79BwyAwcAeu+sNcYhKaKNZ4kvh7td5sabRzr5wTGArcRBDFe5+g2f/aGc/OCawYM916i/kLJ/Ifz59Poa1/f0RZ2c6IHUvYFJeLbOkAvFGPWIMLDNAJNn1670FWHSyxD+krk4jnuldWfOcXhffAhQAavMM6A6gCrsKASBRFRXXAo4Jm6Az2VGesRHFBz9FyfE5TOyeMWUIbKMX+6sUyAE7UofpOjMfOUs53H56I2KaTOLtxgiJlaXqDke7nBVT4Dr5q1+V9ZLHEd/rHf/fWQuG8uhtQlX5yJw/COXpa/3yhCKH0MYQehshxQ7ZYUq+6hjIUXtNv0pO/FpZKYZzrM+dEwH+duJrIokXaueevXwyr/QgN9vcp7v07CJkLxnr74qpZEPiPfVRTDWXzL+6MFnavot8b5xX/EsreKh9OBrJK30Buyu8eH1zLvZllSPRpMd/eiWgeYQdq5IxPrUmG2cL2fi/qW2tmNTKqpE1qVq5FlDqf1X1Q3cA6Q6gXD/ktRcDgKSBwdaNOZ515+wK0B/f9xNY293LfC6MYZNCmBtqwBWluUj7ycYLwAc5muMAhfiLuNOSv/05FO1+nQVsjS6FbeTf/r/TfmmCiqLT/r9JRjGpARzscucfQf6mh+ApPsvEmFna3eff+QpIKAEQClCGsm+k3E//rTVT+aKqi0spFM5xC5+RkKeR9EUqe6T/XI/XrX38OmYXnNR6zt9Y+R3wXYmDZ8Lcgi19GM7xUl3qLaD0BbzhnAsf7GCPVvvVN+GR7tWbWetyV8AUpRONrS4sq8D72/OwN4utUkSs9XK/RLSz8ctuqrci1aDUAkr9r6r+KACkAFCpPzJywQBgVUq5x2XpvzSDp4jl4ksc+ivMza5UNSYinPFnV1Hw6VPMpZpR3ZlMBcK4x6j4NkieXJm56/WUIvUHQhXChqU6LtuBaDuhCVF2ZRManbML/cKEMsd55bEaHWcmViZQzDqxnZ9DXPf/KTNcEKkKVyZDws29mIodSR0DJNJ+rs/jhww2EENSFzguJ8Th+rCOlSoLnwWUvoB//LcQfx8r9g+kvjUKHwxVVjZTzmzKPV5sPF+KhSeLcSTXjSSTHiOaxGBkEzOSYiopqs4VuvHW1jxe5i/53Bajx0dD7YiOiszjajl2qC1tlfpfVfOnAJACQFXfDx8APLn8EZgyfkVF8RlJ+pwMyW3zCxyA7LGD49KtiHb0kKSjqkZ5Gx9E8QHxuDmyG+ir2KC6IwUKytI3Imt+P1ZSZ0C9G4uZBAJ3/mFkzG3D01qZrKJ8x6AsYzOy5vXh6YzrPg2xnf+jYPSRIRKQhAEwx9peTxmPUzKm+VQkDfkprIMWUvkgynwhASSQ+kcIvoMNhGSqxzQaF9ZxUmXhtYDSF/DbW3OxNY1lJSCY6sdxTs2SK7JdHiw9VYKlp1zIK2VLuvmsQfrvW9+ES+xGzPy3EEVufg5ktB4M919Xpym8BqTaVFlAqf9RAFi12WkMoAq39AHAs7t+hLNRR2TNHwivu5CnkQA9QpvhLc/zfx7b5UWYW90ckMCQcm0WU+dX7VVy/GfkrgqsxEH0ipEvq+1PjrwYhYhz0kEYEtogIG7MZEe9azPlqBdtm730MpSeYZNrdCYbkq88Xu1Z0KonckFB4Z43UbCNBbAGe284L9uEAKJtR284Lt0Urm4ZPcK+ox194Lh0o2gfwmQRsUZMXOzYFbTaQlifUviVKX0BP7oyC+c43HpkZNOH2+EwBxLFqxk1ieP7dl8hlp8ugUchrwXZJSTgr1UipX5R8yy0kFXqfxQAUgCohT8yOn0AMPXISqS0HILS1FXIW3srKkozYaw3DIT6wtRwNPI3PczbkYuKawnCi5a9aIR/bGKkyEoH7ik+x5RnE7uEdBxK+1Ajl/aTk7GR70oa8RdiGl+GogOf8WLDwgVWy7O2I/Nv/s5qOOIt1dhAjaywCkdM67uRNOAzuM4sQM7S8X7VepMDKddmqOkqQDYUvQtXoKI0Bzkrr0LZ+eWiYyA1o23D/6Ql38L6hLRRpuQF7Knw4saFGQGA7L99E5kduHBe5JiZHDcrvZrHG/BkzwTYwwxMlY6HyvEtoMT/QtmQHgHTI+BQPlLlfR8ATD93DM76zZm2hN9MSOQsdgxpbn0HSg7P8OsnFTScEwOTRpQOUFipwacnYcDXsLS+VanasMgJuQp9iRn5W59C0d63/X3ENLsaSUNZLjk1nQszV8MFLtWMSals+tw28OQf9ovH9vkUce3vgTvvIDJ+51MQkcxbvTFeaVcBcsK+xQiehUKEBolLTs7c10WFdVxhmyBVJGoBJS/g1CI3Hl6ZHaDvns5xGNY4sCygUtMTmpmHVmQhoyTwyLeDLRpDG8fgQHY51px1oTywCfrUM+G+LvERS1Gj1C61SU6J/4WaPwWAFACG8hFJADAzMxN2e/DAZgIKyYvZk3+I1SfIzCU1dG0j/lQ1Hq5w7ppbUHL0uwB9jol7EZ10Sdj6UaIod+1tKDnyjV/U3OZOJPb/AgEUMR2fRnzPN5R0ESBTem4psheP4n3uvPI4DHH8yiRh6UxDJRVl+Ugj1V44V+LYjTDX6yOeRCOo0KFmaGJ9hytuVc24qKz2FlDyAt6RXoo3trChL75RTmplwdS24SP73pleimmCfoY1jsH4ZhY0iWdjUwvKKpgj4iUnSxiwSOIBr2hpwVVtrJrFJGr/ZOpGD0r8L5RlKACkADCUj4QFABIlBbv+h8IdLwTVZ2n/EBL6fKhqPFzh4kNfIW89vzQdl4stbB0pUCSMIyNxYPZxK5Hxdw+4s7b7NQpJohV05RfxVpSDZKV6S9lyT+GghKkoL2Qqm1RX7Vph+bQKRME5NRfGmMoXqpCiJXHYbzA3nazGdH7ZgNJtJIHnhsJaV2M5LMaqZUqUvIDnHSvG9yLHsv0bmPBwN+WJXULTvrM1F1s4iSZN4w14c2BS8JKaXi/D+WeN1sF2ISO4lj2uWjcdJf4XyggUAFIAGMpHwgYAg1Wt8HUQ3+t9WC95RNV4uMLuvEPI+L0tT58xZTDs41aFrQ+lilwnf0fOChaU6M31kHLNeaTOSoK3LNevlpBmmxrwd+2U9knkcteRY/ev/CqE1Snk6nadnofc1dfCW14Ac+vbkNDvM145NLn6pLQv2v8h8jezflIU1QxNpx5CdHRl4HogkfbbiO34hBTVIdsU7f8I+ZvZSiqEvsU5cWdIOdqg5ltAyQt4xp4CLDnFVtfwWaFVogGvDVCf7Eb0kazf+5dnoYKT+HFHxziMahq+I+aa//Rq/gyU+F+oWVMASAFgKB8JGwAkioRVK7jKk4b9jpimV6gaD1eYHDsTIt4KV7r/Y+slTyC+FxtjF7bOZCoqz92PzD/4x9DOq04g41f+caxz8hEY4lvK1B68uevMQuQs5dONJE85jShrI0V9pP/eHp68A37ZmKaTQciXuTVxFSmuQkh4tJ9hHI72Uxb6AaDweD2cST/Cvs2tbkHiQPYoP9xzpfoixwJKXsCvbMxhKoAIrzijDjNG8bkklc7018NF+OVQkV+cED5/NsIOC+FzoVetsYAS/ws1eQoAKQAM5SOi96dPnw7yz+Px4NChQwgVA+hTUnzwC+RtuFtUpyOMsVq+DvLW343iQ1/4+7ONWQFT/aGK5hxOIYbw+UcLUy3Fd5HjXp5tdHrUu9EVVjBFePLSZifzKHnie38Ia4eHZE/PU5KO9J9TAuRimk1B4uBZ0OkDefFkdyIiIKylfNJ8B3pM/sQPAIWhBqYGY2AbzRJhqxmDsO/4Ph/B2p6tMa1GN5WNbAsoeQHfuywT2S6RrAsA34x2qAZpJMv4wRVZyOL0Qcie7+oUvqSnyH4qdWd0SvwvlHUoAKQAMJSPVHnflwUsFQASWow0Uh6rgiVG9XWQcm0O9KbwFh+vcGUhd+3NKM/aBkubuxDX7WVV8w2nsDBL2dRkEq++bJS1KZKnnAhnl4yu3DU3o+To9369xpRBsI9bLbsfIeUKV0FMs2uQOPjHsINAr9uF1JmxpGSKv7v9ca9j8OVP+AFgybFZyF19vf9+VFwrJF/JZgzLnugFAbG+7ePWwJgyUKlKKleDLCD3BUzKr928KDiH55uDktAsXh3f3ra0UqaSB/eaNjAJLSKs1nANeswRO1S5/idlIhQAUgAoxU+CtpELAIminBVXwXXyN55OnTER9a7LUTWWmiYsrBJBeBBJLJ3vIjyK9rHi/HFq5uo6/Tdyll3OUaFD8tXnEGXh160N1UfBzldQuPPFoM1iml+LxEHfhxUElmVuQdY/vXlj35o4C2MnXOkHgGUZm5A1ry/bhqm0QnZS1RHvivWdcn0e9NFxoUxF79cCC8h9AR/PK8d/1gZf0x7rHo8+9WNUWeaNzbnYkcH+mG6ZYMDrA8MTW6hqYFQ47BaQ639SBkABIAWAUvwkrADQdepP5Cznx/oZbN3gvJzNflU1qBoinLfpERT/GzzrmSRVJA5gEzbCNS2yk5X2MzkGZsFmfN9PYG13r6wuspddjtLTf1ctE2WGTscCL11UDExNLkdCn+nQGeS//IQhBFFxrbHB8DbGjx/vB4BidYJJfKUhtilvrIW730Dx4S8RbeuKhAHfhOTkC+ibU8NZluFo4xppAbkv4HXnXPhoR37Qud7QLhaXtbQotkVGsYc5/uUW/bi7UxyGN6HJH4qNGsGCcv1PylQoAKQAUIqfhBUAMnFocwgdCUuQSo4/bcPnqhpLTRMuOvAJ8jfeH3TYsd3+h7guz2kyrZzV18N1bJZft7H+cNjHLJPVV9rPDVBRct4vwxB7H/uRoYQJdcX3+RjW9sHnHkw+b/09KD70OTvupldjbf51PABIkn/SZsbzShLaxiyHqf4wv1xp6mpkLxzCjr3ljcxuZVWXsG8t6gyHshu9f/EsIPcFLEzOEI58VBMz7uikfPd49sFC/H6kmPVhA0n+cFAy54vnIpr2LNf/pAyGAkAKAKX4SVgBIFGWt/EBFB+Y7tcb2+0VxHUJzhGoapARKlx6bhmyF48MOrrEwTNhbnGdJqMvOTkXuSuuZHXr9Ei+JhVRMdIyE8VK7TknHYCn8CTIziAqSqsct7nlzUgc9K3suWX+0wflmZv9cpaur2PlyQ48AEhuZvzZBe6c3f52Cf1nwNLmdv/f+VueRNG+dzjzN4DJhq7iGFzYd1yPNxHb6SnZc6ACNdMCcl/AH+3Iw7pz7PdAR6okcabexWnEs72VxTyTur+E+iW3lE0wGdPUjNs6KgeUNfOp1J1Ry/U/KZahAJACQCl+EnYAWFGajcx5/eHJPwhDYgfYx66GPiZ4JRFVg4xQYU/RaaT/0iTo6OzjN8CYzIllC+M8vO5ipM12gvzXdyX0/xKWNtfo5wsAACAASURBVHzi7GBdCo/xK+s450Kn06P07CKQWr3e8sAKCD59xgajYR+9SNaMvBVupM6M4+0wxg9fgKU7SgMAYPZyklDzh1+/tdMziO/xuv/vrAVDUJbGT3yp6keIWN+20UtgahAcwMuaHG0c8RaQ+wJ+Zm02juW5/fNqk2jAoVz273qWKHw4TP6aR8q+kbq/sw6w1C+kk7cH2XhVPyLeoHSAsiwg1/+kKKcAkAJAKX4SdgBIFJKjOk/hCUTFNmWAQ127vN4KpM2M44Ewrg2YHTlzIM1KuOyUs/JquE784lcnhy6lYPsLKNz9P7+ssd5Q2Meu8P9NSqa5CT/gBZqb0rMLUbiLzcBWUve5PGcvMv/sxJu+7arzWLhsUwAAzN/yOIr2vedvS7KSk4bOZv4mYI6UkuOCX/K53tIQyVedEE1aEes7ZWpmnfvREi7fq4l65LyAydp26+JMlLjZPb+r21gxh8PXR8qw/TjOKasE26Gccny7rwBHOcCS2LJNUjRe7Z9UE81KxyzRAnL8T6JKUABIAaBUXxFtpyQLWFWHtUw448+ucOfsCpiVzmBByvWFQUs5hcMMJcfnIHfVNawqnQGOibs5Wa066C31RcG5MIPZ2vFJxPd8K+iwyK5g9pKx/vv6mGSkTE2TNY3iI98jb+3NfpkoaxMkXXEE8+fPDwCAwvjKaEcvOC6tPDouz9mDzD87i/adNGwuYppOCrgn1nfylJOyxk8b12wLyHkB57o8uHsZW3KRzPz1AUl4dh0/K/jjYXY4LfzsdHK8m8c52iWyLo+Xifdbc1Y8vvbBrvEY2FB+UlXNfiJ1a/Ry/E+qZSgApABQqq9QAKjKUuLC5KjUdWJOwE1DYkc4r9ijQY+sSlLDlxwDV5W0oTfXR9LQX2BMGeAXZCqszE5GRSnLcZY45GeYm18ddLzl2buR+VcXzn0d6t1UJosiJn/zoyja/4Ffh6nxRMQN/kUUAAornuhMdtS7tnK8xYdmIG/9naJjNdYfCfuYJQH3xPq2jWCPmDV9UFR5RFhAzgt4f1YZXt7IlnQkRTm+H+vErYsyGTDnu17ok4iODqP/bwLwyA5fYTk3WrDq6ZNkkts7xmr6YzEiHkAdH4Qc/5NqKgoAKQCU6isUAKqylLiw8CjV18rU+DLYRvylQY98lcJYObEOo+JawDn5sH8n0F14MrBk3ZVHYYhrEXS8YlVDkq8+iyhLA8lzFMbtxXZ9GTGXPCMKAMXqQJMYRb0xAbnr70LJoS+D9kuSWQwJ/BrSYn3Hdf2v5LHThjXfAnJewMtOleCLPSzNUpO4KLw92I4nV2fjVAEbB8ilbSkur8C9y7J4ALEqqzWwRuHmDrHommyq+calMwhpATn+F1LZhQYUAFIAKNVXKABUZSlx4eKjPyJvzY0BNy3tH0ZCH3a3S4OuGZUlJ35F7sopIdXbxq6Cqd5gURmdyQYSD6fTkTxH8YvEO6Z+b+RV8HBctg3R9u4h+yYNmHjJWUnwlrO8akkj/kJUvbGiAJAptfcD4UNjd1Icl21HtL0bgh27+wYitH2wvmMaXyZp7LRR7bCAnBfwD/sL8M/xEv/E+9Qz4bEeCXhnay62pLHEzVe0tODadrFMuy2ppXhnW/DEKZ8ys0GHKa2tGNPMDIM++HeudlidzsJnATn+J9VqFABSACjVVygAVGUpceGyjM3Imtcn4GZ87w9g7fCwBj3yVZLj3PxND6H48FeAh31hCTs2t7kTif0rayrnb/0Piva+6W8iNaM3bU5DVBSf88sljZyHmEbjJc3RnX8EGXNb89omTzmDCmOyKAAkDdN+aYKKotN+mcShv8LUcCyTAMItJRedPADl6ev87XTRCSC7k/poK/NZsL6jrA0ljZ02qh0WkPMCfmtLLrals0BvUksLpraLxff7CzCPAwz71Tfhke4JjIFm7CnAklPBv4MxUToMaGDCNW1jkWCqe0lztcOLlM9Cjv9J7YUCQAoApfoKBYCqLCUuXFGai7SfArP3yO5Wde4wEXJuL4fAmcTaccu8EVCUck0qU70ja9FIlJ1nSaOtnZ9FfPfXQlon4+8ecGex1V6E3HxVKSg58QtyV7IxhvoYJ5KvSYPb7Q4KALMWDkNZ6kq/2rieb8Ho7IesBYPYrnRRcFy+60J2MbtbyKXECdZ3VTueIY1BG9Q4C8h5AT+yMgvni9h61fd1icOQRmYsOlGMr/cV+ufuK91GfoiRqh4ZJSyv3zVtrBjbjK3qYYrSIYru+NU4vwnXgOX4n9Q+KQCkAFCqr1AAqMpSwYXTZqegwpXOa+CYuAfRSR016jG0Wk/hKaT/yi+dljj0F8Q0vfLCUSx7VBUsc1bYS/bSCSg9M9//sZxKJ/nbnkHRnjf8sj7KmqoWxdx1t6Pk8Nd+GUvbexAV3xoFWx73f2ZI6gLnxJ3IXnopSs/MYz+3dQU5MiYgL1jfoa1IW9QmC0h9AZMs3psWZoCT68FQtBCqlp3ppZi2hf3uxEXrMGO0E+cK3Xh0FVsZidjtrUE2NI031CYT0rmosIBU/5PTBQWAFADK8ZeAtpQGRpX5GOGsBYNRlraGp4hQwPiOINX3oEyDcAeNZN3G93obGXPb8BQmTzmFKGvjkJ3krrsDJeSo+cJlafcAEvr+X0g50iB78ViUnmOJo62d/oP4HtMYHisxGhgiU7DrNRTueN6vnxxV642JvKxr39G268x85CydwBuLtcOj0JH2x2fDnfev/56vb0kDp41qjQWkvoDFwNxXoxyINepFgd43ox1YdcaFb/ezO4NJJj0+HWGnmb21xnvUT0Sq/8npiQJACgDl+AsFgKqsJS4sBEb6mBSkTE3VoCd5KosPf428dWz5NOijEd/rPeRvetCviIw1+Zrzkl5UBdufR+Fu9qiY7CYmDfs15KBInGT24lG8BJDEoXNgbjalSgBYcuwn5K5mS+lFxbVkYv8I+bjv8h31eis8TIyhp/B4yPH4+g7ZkDaoVRaQ+gLellaKt7ZydvmMOswYVVlisdzjxY0LM3gl4d4YmMQQRG/nxAwOaRSD+7rE1yr70cmos4BU/5PTCwWAFADK8RcKAFVZS1y4cO/bKNjK1pSNdvaDY8J6DXqSp7KiLA9pP9fj8QQSAmfucbWp0QTYRv4jSXHRvx/zwCNJvnCMXxtUloCywj3TULjzJV7SBhEgtDSG+FZVAsCyjE3ImscppUeqzVyoTOLrlMT/RdsqSaEL97yFgm1Ph5yLr++QDWmDWmUBqS9gUqbtx3/Z3by2SdF4hVOl4/7lmcjkxPoREucv9uSjlA0ZxEPd4jGgASV2rlUOpHIyUv1PTjcUAFIAKMdfKABUZS1xYXfBscoM1wvgJK7nO4jtyMapadClZJXBiKp9CmK7vIi4bi9J0ieknCE7cslXHhGVJVyDuatvQHl6IEAkZeQcl+9kdh2rWhQ9rgyGsDrYxVRbuS7PT0Zd4cpCxp+dUFFyPqiMgRMbKGnStFGtsYDUFzABc8tOsRU7hjaKwb2c3byXN+Rgf3a53y5dnEbsymAzhgmxy5ejHIgz0kzfWuM8YZiIVP+T0xUFgBQAyvEXCgBVWSu4cFn6epQc/QGGpE6wtLkbOj2/PJRG3YZU6zr9D3KWBee7SxrxN2IaXxpSD2lQlrYOWQsG+tvqDFbUu4HdKfHdcJ3+mwF/XM4/371oZ18kDfkZUbFNmI+qWhRJZiVT87ecJeTlDtSYMhj2cat4Yy/P2YfiQ5+jovhswJxI6Tlrx6cQZakvab60Ue2ygNQXsBDgXdfOioktKymFyPXZrnysOCNe0o3c92UG1y7r0dmotYBU/5PTDwWAFADK8RcKAFVZq+YJeyvKkU74+1wZooNPvvo8oiz1JE3MnX8UGXNb8dqmXJ/PqT1MTpszkD6nEVDB7ogwAjo9Yju/gNguz/PKx4VaFKsifbZe8gST1EIvagEpFgjlaz4d9yzNRA6nlu/jPRLQux5brWPu4SL8fKgoaJeTW1kYrj96UQtwLSDV/+RYjQJACgDl+AsFgKqsVTOF8whR9L+B2bp6SyOkXM0SLYeaXUV5EdJm8l9szsmHYIhnCZ7J7l/Osst5qqJimyFx8EwYk/sHdBFqUcxePhmlp34XHRpN5gj1xOh9uS9gUs7t1sVsjWwi/+5gGxrFsXQu68658NEOtqKN0Mov90tEOxtbH5g+BWoBYoFQa50SK1EASAGgEr/xy1AaGFXmqxHCZZlbkPVP74CxmppcAdtwcXAVbGKpM+N5R7L2cathTGGJmYv2fYD8LY/6xQ0J7WGfsBF6o3hGZKhFMX/LEyja967ocJxXnYAhls91WCMeCB3kRbFAKF8jgzqWV45n1ub4x0fi+X4Y60R0FFuy7UhuOZ5bx7bhTsZiIBnDDkr4fFGecGR3KsX/5M6AAkAKAOX6DK89BYCqzFcjhEksXcbv7eHJP8gbrxwiZ59g+tw28OQf9utJHPIzzM3ZCh/C3UZzyxuROOj7oHYKtSgWHfgE+RvvD5An2czJpLJJFfWLa8TDiYBBkl2vmQcKcarAA5LwMKIJW70iAobnH8LSUyVYdboETeINuLF9LGIM8pIsQvka6WjtWRf+bye7u5di0eOjYQ7+mllWgTuX8HcJfQ3IUTE5MqYXtYDQAlL8T67VKACkAFCuz1AAqMpiNVO4YNf/ULjjBd7gbaMWwtRwjKwJCUmv43t/CGuHh/w6AqqFhMgyDrUolp5dhOwlYwPGaGp8GWwj/pI1dtpY3AKE8oRQn/iu1wckoWVidESZ62huOZ7l7LqREmu3XhIna4yhfI0o+/lgIeYeYW3R1WnEM70Tef2QH1TkmLjEzZYe9DW4s1McRkYogJZlLNo47BaQ4n9yO6UAsA4DwNWrV+Pdd9/Fzp07cerUKbz44ot46SVplB4+R6M7gHK/cjWzvbvgBDJ+a84OXmdgagPrY+yyJpSz8mq4Tvzil7F2egbxPV73/51OdhrzDvj/Thj0PSwtbwzaR6hF0Z1/OKByCVEW2+1VxHVhq4TImgRtzLPAoyuzcI5T95bUsJ3cms16jQRzLThezKu0YTbo8PlIB0h9XalXKF8jep5cnY1TBW6/ygnNzbipQyDQfGpNNk7ms+18Ah8Ps8NpiQwGAKl2oe2qxwJS/E/uSCgArMMAkJTQWrNmDbp27YpHHnkEd999NwWAcr9Bdag9t5JHbOfnEdf9Vdmzz9v0MIr//cgvZ251KxIHVtbr9XorkPqDBago9d+3j1sLY8oAxQDQ6ylD6g+EUJe/22IbtQimhqNlj58K8C3gclfglkWZPOsObhiD+7tGVhWL348UYfZBfubtw93i0V8G2XKoFzABdATYca8X+iSioyMwoePdbXnYnMr6OZFpYI3C+0Pl/aCi/lh3LBDK/5RYggLACAWA27Ztw5IlS7B582Zs2rQJ586dg8lkgssVnD+KOAC5P23aNPz000/Mrp7NZsPYsWPxyiuvoFGjRkF9pFmzZrjlllsoAFTyLaojMuToylNwFIQaJjqxvaJZF+6ehoLtz/plTQ3HwjZqAfO3p+gM0n/h1xQORTMjZVFM/6UpPEWneONNuTYLepNN0RyoEGuBA9lleHFDLs8krRINeG1AZNl29sFC/M45miUD7p5sxNO9+MezVT3bUL4mPAq3x+jx8XA79CJxpsK2pN9xzcy4ReaxNPXFumOBUP6nxBIUAEYoALziiivw559/8p5pKABIwN+IESOwfv161K9fH4MGDcKJEycYEOl0OrFhwwa0bNlS1E8oAFTy9aEyci1QfPgb5K27zS9GKms4L9/B/F2augrZC4f67zGVOq4vrDJRQ8qimLVwGMpSV/r1RsW3RvLkQ3KHTtuLWGDhiWJ8s49P5m016PDVaEdEJdh8t78A84+X8Gag1wGfjXAgwSQtGaQqX6vwenHfsiwe/9/ElhZc106cz2/xyWJ8tZdvt//0SkC3ZJYvkDoctQDXAlLWOrkWowAwQgHgm2++ieLiYvTq1Yv5V69evZA7gP/973/x6quvol+/fli8eDFiYysXn/feew+PP/44Bg8ejFWr+JUPfA5DAaDcrw5tr8QCrjMLkbN0nF9Ub66HlGsqS68VH/4aeetuZ8FhYkc4r9hTZTdSFsXcdXeg5PBXfj0xLa5H0uAflQyfyggs8OmufKwUqWrx5UgH4iUCq+ow6he787HsdODpyS0dYjGuuUXSEKrytd2ZZXhtE38n9J3BNjTm8P9xO9mVUYrXN+f5P4rWA1+NdsqKSZQ0aNqo1lhAylond7IUAEYoABQ+SEJXUdUOIHmQycnJyM3Nxfbt29GtWzeeii5dumD37t3YunUrevToEeAnFADK/erQ9kosUJ61E5l/c3xTp0e9G8uY0nfcGEOi29R4Imwj/lANAEvPLUP24pF+PbYxy2CqP1zJ8KmMwAJPr8nGCZFkhkgjM/6/HXlYe44fc0emIqfsWlUv4Ok787H6LAswm8Ub8Oag4MfgZR4vHlyRhdwLFUNGNInBXZ0iK26SOntkWYACQG2eh85Lgpsi/AoFAFesWIHhw4czR7xHjhwJmA3ZGSQ7hMEyfSkAjHAHqCXD8xSnIn0Ov5auL84vZ9W1cB2f7Z+ptcOjiO/9nmoASBS4zixA2fllMNYfiZhGgbQwtcS81TqNco8XNy/KgEdk9byncxyGNY4cPsB3tuZiS5qgvOAFa70/xIYGsWyljmBGDPYCdrm9uGtpJko5hiA8g5e2qHpnMaPYgyWnSpBg1GNkUzPd/atW7615nVEAqM0zqxUA8IMPPsCjjz6KKVOmYM6cOQGWmjdvHi699FKQ2MLffw+s3kABoDbORbXyLeCt8CD1ByPgrfDfcFy2A9H2rsj8pw/KMzf7P4/v8zGs7QNJnLkatVgU6TOTZgFh1QuuVFXxb9K0S2tFwNecQ4U4XeDG4EZmDGpIMr4Dr9c25WB3ZrnovUmtLJgaovZutsuDmfsLcORsOm7u1Qjd67Hgbs1ZFz7mkD8TYplPR9iRFEPpXKQ9RdpKigW0WOvoEXAtOQJ+7LHH8P777zMgkMT8Ca9du3YxdC/du3cHyTAmV2FhoX+3cPz48bj88stxzz33wGg0okOHDqI+WVpaCvLPdxEewMaNG+P8+fOw2ymFgZQvcl1vk/VbE3hdqSzQG/Y3jA3GIOvX+vCWZrGfD/0LxoZV79aRBYxky48aNQrR0ZFFPlzbn/OKM6X4aj9Lesydb4/kaDzaVTwBIpx2mX2oGP+cYNej1/rFoalI3N3Lm/NxONcj2rUjRo/3BsWLZuv6BN7eXoBdmZW8fQTg3dvJiv71K+ld3tpWgN1ZLKdfJ7sBT/eQRzIdTptQXbXTAlqsdUSnxSItBrZ2WrWWAMC77roLX375JZ577jn873//C3hW5Fi4devWaNOmDQ4erCzptXLlSgwbNiygbdOmTZnsYbGLEEW//PLLAbdmzZpV5x2ptn5Bwj2vS/IfhdVz3K/2mOVB5Bj7okfu9byudsdPhyuqYbi7p/rCZIEt+uY4rK8nqi3BW4wJnl1h6klcDTl5/j2qB1w6lmevh+c42nrZHxc+yQVRnZGjC05OPdK9F8koEO3IBQPmRvUEOHQuOq8X/SsOI9mbjz+iesDLudfPcxjNveKl3jQ1CFVOLaDAAhMnTlQgVXtEasUR8J133okZM2bg+eefZzKBhdfhw4cZ8McFgEoeId0BVGI1KsO1QN7yy1B+fpH/I0uXV2FsMBq5C/pwmulgn5oPXVTVtBha/CqmT0uaBV7alI8jeeK7agYd8PXIxCp31aT1ErzVsTw3/ruJD9qubhWDy1sExh4+sTYPqcVs2IFQ67CGRtx+iThAXHOuFJ/vDdzpJDQyne3R2Mk5WjZFAdOHJCKGGIBe1AJhtIAWax3dAawlO4BKjoDD4Zu0FFw4rFi3dOSuvQ0lR75hAWD7h2BMGYzclVf5P4uyNkHylJMhDaNFXEzITmkDEN67mxdmoCw4psJHw+xI0bCs2S+HivDrYX51j0ktLZgqwr13z9JMHkdfB1s09mezMYGWC6XhjCKl4T7YnocN5wMziMXcgMQgPhBhVVCou9YOC2ix1tEYwFoCANUmgSj9ilAAqNRydVcuf9uzKNozzW+AmGZTEG3viYJtT/s/M9YbCvvYFSGNpMWiGLJT2gBnCtx4fDW/7BnhsivnAEKtiY2fW5eNI7n8errBqmncuigDxW42XfnBrvH4P07iBnmkj3aPR9/6/CQST4UXdyzJ5MlW9fif652Izs7A0m/UZagF1FpAi7WOAsBaAgCl0sAQKhixGD6lzkkBoFLL1V25ov0fIX/zwyzYSxkEQ0IHFB/63P+ZufXtSBwwI6SRtFgUQ3ZKG0CY+WqL0YOUPjvMAWQ3d4jFeIkky3JNmldagbuX8msQEx3DGsfgns6BfHrXzU/n0dVMG5iEH/YX8nYBeyQb8ZSgNNz+rDK8vJFP8Ny/nhHrUwMpZZJMenwyQrz0m9z50fbUAkILaLHWUQBYSwBgWVkZQwSdl5dXJRE0KQtHKouovaZPnw7yz+Px4NChQ8jMzKRZwGqNWkfkS078gtyVV/tnS0qzRVmbouz8Uv9ncd1fQ2xntmZwMNNosSjWkcegaprf7y/APE5pNQKerNF6HhnyqCZm3NFJm2zYVWdK8MmuwKSN/g1MeLhbAm9u7govrl+QwfuMcP8dzCnHZ7tZHSSm7+NhdtjNLH3LzH8L8dcxNv4vyVuEj0Y3xPcHSxkOP+51aXMzbuygzXxVPSwqXCssoMVaRwFgLQGAxMNJAshrr72G/v37M6XgrNbKoGZfKbiBAwdizZo1Yf0y0B3AsJqzTigrS1uDrAWD/XPVGWKhNyfDU3DM/1nikNkwN78mpD20WBRDdkob4JWNOdiXxcbQXdnagmi9DrMPsjF5He3ReKFvkibWen97HjaKxOV1TzbiacEuXlF5BW5bzM/K/WS4HWaDDvcsy+IROF/ZyoKrOZyAj6/KwplCNtHlkoozeGZsJ0QZDJixtwDLTlVW/4iL1mHaQBucGsY8amJIqrTGWECLtY4CwAgFgIS4mZvNu2nTJqa4eu/evf0O+8ILL2DChAn+v10uF4YOHQrStn79+hg0aBBOnjzJ/E04+jZu3IhWrVqF1eEpAAyrOeuEMnf+YWTMbcOfq07PI4e2X7oZRkfonWotFsU68RBUTJIUTrp9cSaKODF1T/RIgMfrxfvb8/2ayZHwJyMcKnoSFyU7encGicsjyR0v9uODTkLifO8yll+SaP1qtAOx0XrM2FPA28lLNOkxfbgdBr0OpFLHAyv4cqPce3Dz+MEM5ySxA6kBTErh9Ug2oVGQur9hNwBVWCctoMVaRwFghALAb7/9FrfeemuVjv7NN9/glltu4bUpKSnBtGnTQHj5Tp8+jaSkJIwdO5YBk4SwOdwXBYDhtmjt11dRXoC0mVXXPU25Ngt6U/Baqj4rabEo1v4noG6G6cUepo4t9yKgqbjciyfX8BNDvhvjDDslilhcnm8sYrV9zxe58chK/rh+HOtEdJQOJ/PdeEow5ke6xaNfgxgsPlmMr/YW+qcZG63DpSXrcen48ZR0XJ0LUWkFFtBiraMAMEIBoAL/uCgiFABeFLPX+E5Tf4yF182n8PBNShedgJTrcpgd71CXFotiqD7r+v1N5114j7PTR44/vxzlYDKAb1qYAW5p4DcHJqFZQngrtPz4byH+5sTlcZ9Hw9govDeEX5HoRF45nl6b429GYv1mjXP6/evF9Tk4kMMeZ/t2Ed/ckovt6WyyB6n80ez0KpCqSbTqTF3/FlT//LVY6ygApABQlSdTAKjKfHVWOP23VvAUHBWdv8HeHc7LKssVhrq0WBRD9VnX788+WIjfj7CJEZ0d0XiuT+Wx6wPLM5FRwnLB+HbTwmkzYVweV7fDTI5w+cfOB7LL8OIGNpOXxP59O8bpF1t31oWPBJQwrw9Iwksbcng8h/d1siJ3x1IKAMP5MKkuyRbQYq2jAJACQMkOyG1Is4AVmY0KXbBA5vyBKE9fJ2qPmKZXIWnYL5JspcWiKKnjOtxo2uZc7Mxgd8Yub2HB9e0r6/6+tikHuzmVMa5uY8WVrYOXYJNrRrHjZ64Ockz71WgW3JF7uzPK8NpmFgASupbPRrIgsdzjxf3LM5FXxu5dkp3Es5zkD7IX/emwBKxespACQLkPjbYPiwW0WOsoAKQAUJVz0h1AVears8I5K6bAdfJX0flbOz6N+J5vSLKNFouipI7rcCPCv5dbyu7yPdwtHv0bVBIof723AItOsvQogxqa8EBXPi2LGtMtOlGMr/excXlCXQY9MHNcMu/jLamleGdbnv8zUp2EVCnhXrMPFOL3o4Hl3nxt2iVF4/lesZg/fz4FgGoeIJVVbAEt1joKACkAVOyQRJACQFXmq7PCeRsfRPGBj0Xnn9Dvc1ja3iXJNlosipI6rqONclwehjqFexFOvQaxBuajBceL8e1+FqCJJWWoMd0bm3Oxg7P72CLBAFITmHvNHOdksnh9l5C0ukmcAW8P5icYZZZ48MDyLF78Ilfn1LZWXNrUSAGgmodHZVVZQIu1jgJACgBVOSUFgKrMV2eFC3a9hsIdz4vO3zZ6KUwNRkiyjRaLoqSO62ijHemleGMLu5sWE6XDN2Mc0F9I2NmZUYppm9n7pMbu16MdkhJ6Qpm01EPoZzJ45eaub2fFzAP8ZCLSHyGl9l1LT5Xgyz0s4XObRANeHRCYYf721lxsTQus8EH0vDXIhgZmLwWAoR4Sva+ZBbRY6ygApABQlcNSAKjKfHVWuPjQV8hbf4fo/J1XHoMhrrkk22ixKErquI42+u1wEeYcYgEXORp9uT/LuycWo/f5SAcIv57vIkDOoAOiOLt0YuZ0ub3ILWVJmEnlDm71D7LH9+EwOx4SUNJ8OsIOWwxbzWPe8WJ8z9mVDEZQ3iaY6AAAIABJREFUvSujFK9zwKtvTITPkNDcuN1uCgDrqN9HwrS1WOsoAKQAUJVvUwCoynx1Vth1Zj5ylrIk5n5D6Ayod2MJdPrKI8VQlxaLYqg+6/L9d7flYXNqqd8E45qZccslbPmzCq+XoYIhlDC+66V+iWhvM6LM48XHO/OxKbUU9a1ReLJnAhpeODoW2pRw8H27r5BXv1fYhoDPF/omipZ58x1JE5m5h4vwMwe09kwx4smeiQGPkYz90ZXZSC1mQSdpNLJJDO7sFA/qa3XZ8y/+3LXwPwoAKQBU5dkUAKoyX50VLs/ajsy/ewTMPyquJZKvPCLZLlosipI7r2MNSZzcE6uzUcKpAHJv5zgMbWzmWeKJ1Vk4XcCCqLs6xWFEEzN+2F+Afzj1gwc0MOEhQd1eoojs/N21NAOczT9RS1/b1oorWllx/YJ0uDmAc9rAJLTgcA/+dKAQf3ASPIL1Szr551gxfviXn2TyVM8E9EgxUQBYx/w90qarxVpHASAFgIr8nNLAKDIbFbpgAU/xOaTPaRhgD2OD0bCPXiTZTlosipI7r0MNSdkzcjxKSp9xrw+H2lDPyt+tFe4SXtbCgh4pRry8IZeXZBGsVNyhnHK8sJ4lbhYzMzk9fndwZfLJbYszUFTOUri82DcRHexGv9i3+wqw4ASbmTy8cQzu7ixeiaawrAL3L8+Cy1OpzxqtwyfDHUw1E+prdcjhI3CqWvgfBYAUAKpydboDqMp8dVbYW+FG6vfkJc2tGwFY2t6DhH6fSraLFoui5M7rUMMlJ0swYy+bSEGmPrhhDO7vGgikhDtuJOaOkEOnCY5WiY4ZoxyIM7LxgeQzYQk2oZkTjDqGW3BMMwtz675lmchysVuA/+mVgG7JJr/Y57vzsfy0y/+38NhaqH9bWikIaCSeeeslcczuH7mor9Uhh4/AqWrhfxQAUgCoytUpAFRlvjotnDY7BRWudJ4N4nq+jdiOT0i2ixaLouTO60hDkthBjn5J8obvssXo8c5gGy/b1ndv5ekSfLqbDxaDmeqFPono6GB360i7L/bkY9kpFrD1b2DCvZwdO8L158s6Ju0fW5XFI21+pHs8+tWv5CUk10c78rDuHBu3eEVLC65tV0lcXdVFdj255Qipr4WyGL2vpQW08D8KACkAVOWzFACqMl+dFs74swvcObt5Nkgc9hvMTSdLtosWi6LkzutAQ5IY8erGXOzPZmvlkmk/0ysBXTm7bFxTSDnC9bW/sX0sLm1RuZPnu55bl40juSy3H6F6ubxl8Goiz6zN5nEB3tM5DsM4cYlCepdr2lgxWUF1EuprdcDhI3iKWvgfBYAUAKpyeQoAVZmvTgtnLx6L0nP8eD/H5TsRbesi2S5aLIqSO68DDYXEzmTKIxrH4K4gMXTkfkFZBe5YkinJOoMaxuABzjEyAZw3L8zg1eB9rnciOjv5u4Rc5S9vyOEB1Fs6xGJccxZUvroxB3uzWAB7U4dYTODclzRQegQs1Uy0nUYW0GKtowCQAkBV7lqbACDJciQ1ThvHGtDWFq3KLlQ4tAVy19yCkqPf8RqmXJ8PfTRLKxJKixaLYqg+q7q/P6sMpwvc6F3PhCQOF50anRdL9lyhG0+vyeaBMadZz1TRMJNz2CquOxZnoICTmOFr2izegBP57O6esCrH2UI3HluVzdP8xUgHEjg8gsJu39ySi+3pbHKKLzvY1+6Fddk4xNlRvLNTHEY24WcuS7FxpPmalDHTNrXHAlr4HwWAFACq+obUFgBIapsS+oqCCwXhufVNVRmICge1QP7W/6Bo75v++/oYJ1Km8mMCQ5lPi0UxVJ/B7q8768JHO/OZ2yR79IMhdsRXAVyU9lMdciT+7aUNuTiQwz/6FYvZExuPEHSRNpfYo3FVayte3pjrF4nSAd+NcSKa/A+Adedc+GhHpQ3JlWTS47ORjiqn/MH2PGw4z8b4TWplwdS2bIzfk6uzcaqABZ1kx5HsPMq9IsnX5I6dtq/5FtDC/ygApABQ1TejtgDAVWdKeFUGOtii8WI/tsKBKiNRYVELFO3/CPmbH/bfi3b2hWPCBlnW0mJRlDUATuPXN+diF6dO7XXtrJhYReya0n6qQ27tWRf+7wKY9fU3pqkZt3WUtjv7ya58rDrDJnKQknFk5zA2WodbF/OPh98YmITmF3j7Zh0oxJ8czr6uTiOe6R1I2sy1wWe78rGC09f45mbc3IEdJ6kUws1AfqJHAnrVY7OEpdozknxN6phpu9pjAS38jwJACgAVfUNqGw/gwhPF+GYfSwBLqCa+GOVUZBsqJM0C7oLjyJjbCvBWUnjE9XoXsZc8Jk34QistFkVZA+A0Jsel3OPNLk4jng0BXpT2paUcyfZ9dGUWj1olxaLHW4PsDB+elEtYVu3uTnEYfuHY9aEVmUgrZmlbuGTS0zbnMmEYvktKxm4onr97lmYip5TtL1RMYbD5RZKvSXkGtE3tsoAW/kcBIAWAqr4ltWUHUAgAiVGEReVVGYoKi1qgLH09So7NhCGxIyxt7oJOz9ZwlWIyLRZFKf2KtXlweSbSS1igYYoiPuSEIUTNW6X9aSX3y6Ei/HqYrfdL+iFl23pe4MOT0i85Qt6aVsbsiJIEDhIT6buqKid399JMkHAM3yUlFGP2gUL8ztk1JLQxD3MqjNyyKINXveTlfoloZwueVEIBoJQnTNtUtwW0WOsoAKQAUJUf12YA+NqAJLRKpMkgqhxEY2EtFkWlQ759cQYKBYkPSsGG0jGolcsq8eCRlVm8xA9C5Px8n0QeJ56afgi4JCDTd/nCLQjwIwCQe70/pLLaR1XX70eKMPsgq69HshFP9ao8NiZA9LoFGajg8I2/OTAJzTil4qTOJZJ8TeqYabvaYwEt/I8CQAoAVX1DajMAfKBLPAY1kh8srsqgVFiWBbRYFGUN4EJjMaBBbl3dxspUragp18c787DmLJtQQQ583xpkQ5P4qkGYnPltTSvF21vz/CJWgw5fjXYwZeZIuTnfRXZQvx3j5JE+i/UjpKohySb/7VsZv1vu8eKGhRk8sQ+G2lBfUL5OyvgjxdekjJW2qX0W0ML/KACkAFDVN6U2A8DJrSy4hpNNqMpQVFgTC2ixKCoZqMvtxc2L+ECD6KlJyURiBM6jmphxRydpiR9S7Ubolki9Xe718TA71p93YdYBdievVaIBrw2whVS7/FQJPt/DVh7hyhWWV+B2QdLJpyPssCmg6IkUXwtpENqgVlpAC/+jAJACQFVfltoMAPvVN+GR7gmq7EOFtbWAFouikhFnuzy4dxkf1BA9hC7vm9FOGC/QnCjRXR0yZAfz+fU5vAocFoMOHw4NP5UN6ev2JZko4hyXk8zcDeddvJJtI5vE4M5OgbWGhfZYf86FDznUMY1io/DuEDvTjBxp3ycAm0pjeyPF16rDH2gfkWcBLfyPAkAKAFV5uhAAksWdlI0i8Ty9U0x+fi9VnVSDsFgSSNN4A3P8RS/5FjiaW44zhW50SzYh3lg1abB87ayEFouikvGcKXDj8dV8AmOfHhI/10lQ71ZqH+4KL7akliKjxBMgkmSKQo8UIyzR6u275qwLHwtoX8TKtEkdd6h2wuodU9pYseGcC2cK2Xne0TEOo5qGJmzenlaKNzlHyg6zHtOHV3IHEjLrRwXE0jPHKUvMiRRfC2Vber92WkAL/6MAkAJAVd8WIQDkBmS3SDDg9QFJYQseVzXQEMJiAFBqDJKW46qJujedd+H97fkgcffxRh0+GGqHNQwgRcwWWiyKSmxeVf3bSS0tmNqOJSaWo//97XnYyCE5FsqS79jL/ZJU7TCWebxM4keWi82+rWchu2g2zTKYv9tfgPnHS/zTIXx/JGOYk6uBV/snoU1S6CSsfVlleIVDLh0XrcOM0ZUUTsfyyvHM2hx/P2Qjdtb4ZDmPwN82UnxN0eCpUI23gBb+RwEgBYCqvhhcAKizJuKB5VnwcFZxAgBb1oBMWjEASAwzfbgdDrM8ahJVBq0FwkIut7s6xWGEgtJbUkyhxaIopV9hm50ZpZjGSWDg3m+TaMCrEmLZhDql1tSVulMWbF6LTxbjq70sByZpJ5f2Ra7NhMTrhCmHm6lLkk++HeNATIiSc6Rfstv87DoW5JHfGj+OqwR5B7LL8OIGtvIIOdb+Zowyfs9I8TW5tqbta4cFtPA/CgApAFT07RAjgl6QbsLfx4p5+pSy7isalAqhYABQzfGdiuHUaFFh6a2JLS24TuEOWChDaLEohupT7D6JX/tgO1vCjNuGgBsSdxaqfq5Qr3D3Kti4CEnz+0PsiFLAN+ipqNz94/IXkixaUvJNp5NG+qzEXifyyvE0Z2dOqKO+NYrZOZZyiR2/zxrnZOwhBOZSSssF6zNSfE2KTWib2mcBLfyPAkAKAFV9U3w7gCfPp+OFnYCLu/0HgMvyr6ojjYWDAcDbLonFmGYWjXuvXervX56JTA4h8sAGJjzIIeYN52y1WBSVjG/ZqRJ8wclEFer4T68EJh5SzkVi/97ZxqdFaW8zgsQF7s3i1+iVQpgs1rew9i5pI7Xer5y5CNuSOdy0MIN3WsBt07e+CY9KTMASyyr+ZrSDiY0k4QjvcYC5HGApHHOk+Joau1PZmmsBLfyPAkAKAFV9I3wA8LutpzEvNZBd/6b2sZjQIvIBVDAAOK6ZGbdcEl4aDFUGrwHCwsoL7WzRTJyaFpcWi6KScZKd7x//5R+jcvVc2tyMGzn1aaX0IeS3I/FwJC6OJFqRI89jeW6/mmbxBpCaunJ27Ygesgt3Mp/V0zKBUK/I0yNlLmJtnlqTzeub22ZqWysmtZLGn1hYVsFkFXMvH9XL6jMlmL6LpYghdnpTYWJXpPiaUntTuZptAS38jwJACgBVfSt8APCmuUfhMgYGul/Z2oKr2ygLgFc1MJnCwQCglGL0Mruq1c3JkSKpvMC9nGY9Pr6QlRnuyWuxKCoZ45yDhfjtCD/8gatHCfAggJIbUsGlJdp4IdGG28ezvRPQxSl9l3FneimmbWF3GImux7rHo0/96iE/n74zH6vPukTNLWfHlOwmXi/wOV8FkSUnSzBjLwsAfSBayTOOFF9TMnYqU/MtoIX/UQBIAaCqb4YPAE6acwTRlsCdsrHNzLi1BuygBQOAJL7qo2GVlBL0Cm0BscQFknn547jQFR1Caw9socWiqGQc3+4rwIITbFYryaJNLWYpTUg03YxRDsTKoMT5YHseNnAygC9rYcEN7St/TFV4vXhsVTbOF7F9cCtgSJmDkIqFHI++N8QWsvKGFN1S2sw7Vozvg+yayiVrvm5+Ou84edrAJLRIiMY/x4rxA6ePzo5oPNdH2W50pPiaFNvSNrXPAlr4HwWAFACq+qaEAoCDGsbgga6hyVxVDSIMwsEAIHlx/zDWWWP4DMNgClUqUovceHhlIB/eZyPsSFJQfSHUYLRYFEP1KXb/k135WHWG3c0a09SM5adLUM4yq+DxHgnoXU/6Dt0L63NA6GV81y0dYjGuORtOIRZ3KLV+9eGccob4mXvd3SkOwzXK1haz2d7MMry6ic3Q9bWJM+rw5UiHrOPs2xZloMjN0g+81C8RJF7yt8NFmMOpO9wrxYgnelbWCZZ7RYqvyR03bV87LKCF/1EASAGgqm9HKADYPdmIpy8UZlfVkcbCwQAg6fbdwTY0igtfLVSNp3JR1QspOXyDkQpM5A5ei0VR7hhI+3e25mJLWplflBAbEwqSPZksgCOg8LaO0uNJ71uWyePmEwJIUuf2wRVZyCllUSYBmKRdqOudrXnYksbW/CXZsf83zF6tP3TEYvfIuDs5ovG8zF06oa18R8izDhTiz6Ps0byahKRI8bVQz5ber50W0ML/KACkAFDVtyUUAGybFI1X+is7clE1MJnCVQFAuTs3MruuVc13Z5Thtc2BuzpaxZZpsSgqeSCvbMzBPk5m7s0dYlHq8WL2Qba2LbdEWag+yBEviWvjcuP5jjW5sn8dLcJMTv1csmNNCJwbxgb/wSJGm3JDu1hc1rL6k7WEwI3MTUnCzKMrs3COcxz+aPd49K0fg2/2FWAh52h+ROMY3NVZ2YlEpPhaKN+h92unBbTwPwoAKQBU9W0RAsA+9UzYlMruLMh56akayAVhcrSVX1aBLk6jrCoGVQHA69pZMbElm5FIEh2O5rnh8XrRLila1lFVOOaoRgepWXs0142WiQbYNDiSDcaHd1OHWEzgHF+qmQNXVotFUcnY/rMmG8c52bSE/oiAMOEx6+cj7EiUYHexGrZfjHQgwcQv+1ZcXoH7l2ehmHP8SRKXelVx1EzoZXZmsLuVVoMOHw+3h6WknFzbvbUlF9vS2bEQ+Qe6xGNQI3mJKM+szeZlRfvopz7blY8VnKP58c3NuFlmNrZvTpHia3JtTNvXDgto4X8UAFIAqOrbwQWATZyJILQv3LqcaohX5Q6MG/BNsv1e6psomRy3KgA4tFEM7u3C7hp8vbcAi05WBvyPbmrG7TKO9eTOKZztyc4PASQlbi/MBh3+1z8p7EfbS0+V4EsRPrwJzc24SeGLtyobaLEoKrH5QyuykMZJ+iA7nj1TTAw9CbG373qoazwGNAwNboSl5Uh1CxKLKkbz8tOBQvzBOeaUO341perk9iVsL5Y9/fZgG5rIDLkQJrTcekksxjazQJhIM6mVBVPbKmMliBRfU2tzKl8zLaCF/1EASAGgqm8DFwA+0KcBAyhI8LrvIvV0vx+rrPam3IE9sDwTGRwCYjlVSKoCgNxjbGFxeVJ8gQSsy8nulDuvcLUX1l9VsxsSbEx/Hi3CLM6RpK8d2Rl+TEJsmty5arEoyh0DaX/nkgzkl7FAz1dB5s0tudjO2eGSCoTXn3Phwx1sZZEUSxQ+GiZeGSO3tALE97kJJ1LnQIAloehJFOwsSpVX205I1Ewqv303xilr956M4Y3NudjB2dX07doL7S+HX1A4t0jxNbU2p/I10wJa+B8FgBQAKvo2CEvBERqYWZNaIMvlYegpuNfMcfIXdLmDIqS2hH+OGzMlNSCe9FUVACRZiTNGVdYP/flgIeYK+N5e6ZeEtrbQRevlzinc7f+3KYeXlKCGEiPY2IRB9752rRIJwbAt3FOCFouikkFevyAdbk7Gr68G9ld7C7D4wm4x0St1x/jvo8X48QBLLN3BFo0XqyDT/n5/AeYdZ2lopM5BSbydVN1S2hVdOML27ZIq/aEg3Omb3MqCa9rG4tWNObyqKSQ2c7zCUIRI8TUpdqVtap8FtPA/CgApAFT1TfHtAF7z6xHMvrIlyG7E3Uv5rPyfj9R+h4G8SG5bzO+X7CaQvmPJNkeIqyoASES/GkVKS+lAjvq4u4zk3j2d4zCssTlUFxf9vjDg3mHWY3qYCZq/3JOPpacCyX21CgXQYlGU+6DKPF7cuJBPfv3BUBvqWw1QCgCFvIKh6JQIGTKhPPk3uzxoeTXuvAg3IwGVk1tbZe+2ybVPqPbkuJuEb5D4ximtrYhXsBv56a58rOTE+vl2Wp9bl40juWylk7s6xWGEQqqbSPC1ULak92uvBbTwPwoAKQBU9Y3xAcDb/zyGGZc3B6GmuEHwMvSx8qvqKIRwMP65OzrGYVTT0OAsFAAkJbhI0sdLGwIzXCe2tOC6dsriirS0CVc3yUgltVeFF4krMxI0EKZLuBPjU0t6IGTQBnJmHsZLi0VR7vDEfvT4EjaUAkAhTcvFjNOTa4+L0T5Ytu8Tq7NwuoAly5Yagyk2h0jwtYthW9pnZFhAC/+jAJACQFXe7QOAD80/jg/HNWN03bggHWWc4zACnkhShpbXkdxyPLeOT2xL+pNKQxMKAN7XJQ4Hs8ux7HTg7lavFBOe6Bmae03L+YfSfSK/HE+vCbTPW4NsaBofPo7D1zblYncmP6vTN7aPh9nhtESFGqqs+1osirIGAEAYF0rkf7xAHq4UAAqzWqX+kJE79trSXhh6MKCBCQ91S8BDKzKRVswuRnLigoW2iQRfqy3Pi85DvgW08D8KACkAlO+JHAkfAHx26XG8NqISAN6zNJNHTvtMrwR0TZZeAUHJgHakl+INQV1Tnx4SPE+C6Ku6QgFAEiu1/LSLR7fh01fdVDdK7BOMnsXHl6ZEp5iM8MiN2+blfoloZzOGqytGjxaLotwBCn98kIiDH8dVJj4pBYB3Lc1EHofgWU5tXLnjrw3t5x4uws+cih89U4x4smcihHZ8rk8iOjuU+WAk+FpteFZ0DsosoIX/UQBIAaAyb7wg5QOAr688gWeGNGU+fXxVFs4UhufYRergVp8pwfRdbNF3rtzVbay4sjXL4yemMxQAJFxp3FJTXB3khf/9WG1q3Uqdf6h2wpJYvvbXtLEycWDhuh5ZmcWrT8vVq+b4Ldj4tFgU5dqC7HiSnU/flWDU4YsLSUNKAKBYGMXbg2xoEsadWrlzjPT2848X47v9bNJMR3s0XuibhJsXZsDlYbOz1ZxGRIKvRfpzoOPTzgJa+B8FgBQAqvJYHwD8aN0pPNi/MaPrv+tzcJBTw/T2jrEY3VTbKgPzjhfje84LgDspUuSexCGKcaj52oUCgKGMRMpoJYf5eDNUn3Luf7wzH2vOBh5fD24Yg/vDWKtZSIfCHaOQUFvO+CMZAAqpTIi/fTC0krJFCQAkfIIk2Yh7fT3aAauEZKZw2LQm6hDWRSZZ54Tn8tr5GWDhH6Am5EGLF3BNtDUd88WxgBb+RwEgBYCqvNkHAL/afBq39WrE6Aon95bUwYnRs3BlycugdRVxiEIASPIiOBsHIYdRHcfcIQdRRYNgR7PhpGchVDykfFkwu8mthStlvlosilL65bZZcboEn+1md59bJBgwbWAl5Y0SALgvqwyvbGR3FGOidPh2jKNGVZyRa0O17dedc+EjDm8iCcsgz0CYnf3hUBvqWZXFvEaCr6m1E5WvuRbQwv8oAKQAUNU3wgcA5+w4gyldGzK6Pt6ZhzVn2XJwl7Ww4Ib22mbJzthTgCWngvOghQIfQgDYwBrFqy3KNRLZiHGa+fdv6RCLcQr5xVQ9AAnCBJjdvjhT9AibHG1/NTo84MLlrsDNi/hUPNzh+eKyJAxZchMtFkXJnV9oOO9YMb7/N/D4USkAFIYzNIyNwntDxEmg5Y61trbfllaKt7bm+afnNOsZAHjHEr4/fjbCjiQJpfjE7BQJvlZbnx+dV2gLaOF/FABSABja86po4QOA8/aew/hL6jMthZQMwxvH4G6FBdilDu797XnYeJ4FnaYoHQj1ie+Ki9bhs5GOoDQkQgBIONJIbVduGS+frn71TSAcg1yQK5XgV+p8wtmOJBOQYPhgF6lkooR7TahPrH4tt02zeAPeHBReMmgtFkW5tv/lUBF+PVzkF+NmhSvZAfz9SBFmH2T1kaQFkrxAr+AW2JtZhlc5cZiEvP2NgTamTjL3+mY04fMMzQtKASD1tkizgBZrHQWAFACq8nMfAFx58DyGtKnH6BLW91TK7i9nYELGf7Lj56vX69PzVM8E9EgRz0YWA4AkePxYHksiy9VzIt+NOZysw06OaDzfJ0nOkKut7YHsMrwowl/oG0C4snNP5bvx5Bp+FRjuJLkVVcI1eS0WRbljE1bhGNIoBvddqB2tBAAKd7OHNY7BPRr/gJI750hrL5aJTQDg46v5/jhrnFNyfXDhHCPB1yLN7nQ81WcBLfyPAkAKAFV5sA8Abj2Wih7NUxhdVR2JKe2sxF0Bo14XdPF+ak02TuazYI3w9i09WYJDnCoAfeub8Gh3cb4+MQCYFKPHunPsriIZOwExn41wYEtqKT74//auA8yKIuveyXmGSSAISBIQRLKAJImC2TUHVBQDigETZsWEGQMYMa5p3VVX91cEBBFUMghKFBBBQJhhYBgmB/7v9ExPV9fr97r6vdczw3u3vo9v3XnV1VWnb3efvnXvuULMUWZ8JL0yLEtpeVWHDxOqR0CAOTIiuMLIVhOYt72YXv/VOkMa/b1VMikqr6L4aPU5rs8rsxTKFucUbOFpNx6KShdR6PTa6oP0vVCFYnSrBLqyc4rWwx8CKMfQnndsEp3fPniZ2k7XdyT0/6ugwoPsPd4/3aQNCq/9hzXyPP6sqSHYmj/z5mNCAwE37I8JIBPAgO4OnQBu2LGHOjSv1j6Tg+Jbp0bTkwFs/UHk9astRZQYHUG39kyz1PEaPzeX8koMwddJvdIot6SS3vrNiM3Czg9Kw1llU1oRwM5ZsYTtPbHpsYRWwsqQgsHWs69WUFalxSqh/FX7RtF0Z+9GlBrr35aU6oX7cP0h+mprkdfuVpVMgPn/thYREhBu65lGXRS005bvKaVnhDgsbLsXlIs5mER6iTTVudv1c+OhaHdO+ffnV+TTkr+ND4Vzj02kC9pXx7z6QwDvXJBH2wuMj5kjpdSgU9yC2T+3uNJjuxcefzEuMCkmgt4eWV3T25/WEGzNn3nzMaGBgBv2xwSQCWBAd4dOAHf8nUPNm1R7wOAde3aFEZDdOCGSXvaz5iy8evDu6c0bmbxs5l4qF6qPIOv3qKQorS6xmJV6a/dU6tcs3mPNVgRw+DEJpsxCHASvQrtGMVRScZiumGUuraYiMfHllkL6aINBKi8/LplOa+OuRM4zyw/Q8j1GdQ5QVJGW9W4SS3f0MmLMZMxVM4V/+KuYXhG0GBHzt7eo0iSe/UCfRnS8AplUNUo3Hoqq59b7PbZkP/2aW1572Jjjkun0mmvqDwG8anYOFQrEORDxYqdrOVL748NKTvgAcRazs5146a1waAi2dqReH5534Ai4YX9MAJkA+mWZ06dPJ/yrrKykTZs2UU5ODmVlVRNAWcYikC9vmTDBwfbh6GyTJIZVnVtd7uGBn/dr3ja9XdU5mU5p5Um4rAgg9PGgx6YTyBYpUQRBXl1P8Ia5ubRP8Dre2iOV+jX1JJciwC+tyjdtK9dF8shtP+yjnYIwd8eMGNoLCeblAAAgAElEQVSQZ2AiVzKRMVeN3ZPFeDtnxtDBsipTLVZszQ9ubl+bWdUo3Xgoqp5b73fvj3m0RYgVva5LCg1tWb1GpwTQKpO6LmppO11zQ+tvJZ59UYckUzINMvun1ugz+jP/hmBr/sybjwkNBNywPyaATAADujt0D2Bubi5lZlZLVcjbo/A4fXSqf5Uynlh6gFbnmGvLvjUii5KFbVOr7R9ImyTHRNLkRftpnUB2nBDAh/ql06xtRVqGJ6QjbuqWSi1SDA0x2fOjUlXjkcX7ae0+g3y5TQArqw5rWmiiF/TSjkn0oeCFRGwUYvP0eEQZc1UC+O9Nh+g/vxtbzciGLa86TL8I10+lKosTg3Tjoejk/OgrVz8Ry+s5JYBWsWwqoQVO5xxq/SF1dMnMHKoSXNuntk6gb/4wpKECzUJvCLYWateN16OOgBv2xwSQCaC6BVr0tCKAVoTMH/mFiqrDhO2wUqOqnDaD5wZlUHOBiP2RX053/7i/dnYi4QyUAGJQvFysqojIL/eBR8fTBJuqGrI3zm0C+HdhBd0y35wJ+fzgDLrtB/Pf9HrJVpirEsB31xbQzG3GC3dI83iKjCSau92oQDKsRTxdG8SMVjceik5vCLne7L0nplHX7Opsc6cEcHVOKT2x1AifSI6BTqP/cWtO13Ik9x87K8cUbtC/WZzJ294xPYYmn+R/pn5DsLUj+frw3ANDwA37YwLIBDAgq7QigMgeHTvbrDvnT6k0b/Il9/dpZEpKkGuxpsZG0Js1tViDQQC9ATTzjyJ6Vyg/pxIrd9WsHJMgs9sEcNXeUnpymZlQzBiRRVfPyTXFmd3dO426N44jK8xVCeD0Xw7SAqHc3GmtE7SEG1Eup1t2LN1zYvA07dx4KDq9IaziT/WqM04JoJyxfUxqtFa+jJs9AnIiGOoB/yZ427tmx9K9AdheQ7A1exS4R6gi4Ib9MQFkAhjQ/WJFAOExk2twPjUgnVqlxTg6F7Ze5SxcDAAvG7xtevt5Vwm9KEiyiLE+bhLAX/aW0hSBXNlV1YD0i1yaym0CKNdIPhY1UvtnkFwa7vJOyXRa60T67PdCE2EDxqoEUE42wXZvVkKkKTFEjjd0ZBAWnd14KDqZEzymKH8nNnhYj06uDhVwSgDlbfQejWNpUu/gEWYnazvS+spb8S1Tomh7gbF9IAp0+7O2+rY1f+bMx4QOAm7YHxNAJoAB3SFWBBADXj07hw4JmYz+ZH/K5E2fKMrKobyc3hCn9/ZaQ+6lQ3oMPVKz1eMmAUSG603fmysN+KqqkVNUSROk/m4TQFlUWBcplr11I1om0LguKR4xk04I4EOL9puSS8Z2TqbmydGmCg0J0ahrG7wtTTceik5uCCS5XOOj3JhTAihrCurXxcmcwrXv3QvztOo9ekuLiyRUwdHbwKPjaEI3ax1QFczq29ZU5sh9QhcBN+yPCSATwIDuGG8EENmze4qMr+/beqRSH5sMWXEi8JaNnZ1DFYK0i/776a0TaEynaqFdNNlTKNacdZMAQtD58m9zTPIzvqpqIBsZWclic5sAyhVSkBl5Trsk+vz3QvqXoHGI7TJ4mqwwV/UA3rFgnynjF55aeBzlGER/4kG9GakbD0UnN4RVjKWYtOGUAD6+ZD+tESRl9OvlZE7h2lf+AJHljoa3jKdruqT6DU9925rfE+cDQwIBN+yPCSATwIBuDm8E8J4f80xl1JyK2f6aW0aPCbU9xUkOaBZHN3U3vuStkg+urynF5SYBxJxu/2Ef/SVIrPhap6yPiOPdJoByXJROxBfvLqGpKw/WwgqNtPFdUy0xVyWAsiwO4go7Z8Z6bHs/OyjDlE0diAG68VB0Mp+t+eV0j5CAJMsUOSWAE+fvo12FxofThK6pNLC5b2khJ/MN5b5Tlh4wZZzLa0VM6uXCh6NTLOrb1pzOl/uHFgJu2B8TQCaAAd0l3gigLJEib9vanfSTDYfoiy3W1SvgrXqgr5HN9/KqfPpRKNmG7WGcD81tAvjs8nxatseoAnFmm0S6tObc8hrn/FlMM34zl2RzkwBaacpBx7BlarRWNk8U2MZcUcJMzOLV569KAOENhSaj3h7pl04dMmLomjk5dLDM+LuecGJnAyq/u/FQVDmv3ue33DLTFjeqn8wQsnadEEDEzkJcXMx6f6hvI+qUGetkSmHbd+rKfFq821y6UQTjH+0S6cIO1c8Ff1p925o/c+ZjQgcBN+yPCSATwIDuEG8EUH4YO3343v9THv0u1PEVJyknEsi6dZd0TKKz2lbXTnWbAKJk2pcCUZWraojz/nTTIfpM0MnDb24SQCt5HGxPogaxVUIKBLvFChROCKBVMoQu1yPHZl3TJYWG1wglB2R8ROTGQ9HJnGSvbpPESHppiFET2gkBPFRWpWVni82f7Hkn8w+lvq+sPkg/CDWZ5bVd3CGJzm7nf03l+ra1ULpWvBbnCLhhf0wAmQA6t0ThCG8E8I01B2nuDkP/Ta+hq3Ky4ooqump2rknUVTxO1kaTt5uv7ZJCw2oIhtsEUK57fHRyFD0/uFoQW25v/HrQpInnNgGUs6OzEyJpmlCS78Z5uZRbbBFkKU1cxQN4sLSKrvnOTF5eG5apCWjL2cFOPwZ82YwbD0UVG9X7WJW/e0qQbXFCAK0E1D8YnU3Rkb7rSzuZbyj3ffu3Apr1p6FDKa/1yk7JNLq1/2UX69vWQvna8drsEXDD/pgAMgG0tzwfPbwRwA/XH6KvthpbuHLcnq+Tytp1Vn0/GJVNMQi4IqKb5uXSXoHI3NEzjXofVS3E6zYB3JhXTg8uMhI7MCW8tPWqGuLcZSLkNgGUk2NOyIol1JXVm5xw4O2aqBDA3YUVdKskOI3qIvA2vrO2gL4VBKL1TOSADK/mYDceik7mJWtBdsqIIVSQ0ZsTArhiTyk9vdzQbGwUF0mvDze8iU7mFY59ZW+8jIHTOGT5+Pq2tXC8prxmAwE37I8JIBPAgO4xbwTwi82Fpjqc3bNj6W5FEdZ/riug/xNKOGHLV0y0wISnD82krIQobe5Xzsqh4gojxuzhfo3ouIzquCm3CaCVDIheh1gGVq4Z6zYBlGMjZS+sncdEn78KAdx8oJzu+8kgwjGRIMKNtSG+2lJoKj0nx3AGYoBuPBSdzEfWTRQz0DGOEwI4+88ieus3Q86obVo0PTGARaBVr4eVhqV47M3dU6l/M/8Taurb1lRx4H6hiYAb9scEkAlgQHeLNwIoJzy0bxRNj/ZXe5lNWphH2wQ9r/OOTaQvNheZ6tk+3j+d2jWKIV+xZ3VBAHEOWfPQW5KDnCXrNgGUt8ahyzeqlbEFJnuvvBmCCgH8JaeUpgglzETv1U+7SuglQai7aVIUvXCy9Ta5U2N046HoZA7yx4pcDtAJAfx4wyH6rxBPeuJRcXR7T/9165ysIxT6fr21iN5fbxBoeU139Uqjnk2qdwb8afVta/7MmY8JHQTcsD8mgEwAA7pDvBFAOf7MV2ycOIGCGmFdoaY7IRNy2i8HaV+JEa92Z6806tUkjg6UVNJ1c81izNg2AwGpKwIoJ6zoVTXEdSHDExUjhCRZ7We3kkBwPpTjEz2jYo1anFsmbYEQQF/XWy4vB+8gtoet6is7NUY3HopO5mAX6+qEAE77JZ8W7jSyWJGVfWVnQ+/SybzCse/c7cX0xq/mLHsRB3/E6MXj69vWwvGa8poNBNywPyaATAADuse8EUBfHiFfJ1yyu4SeF/TpYiOJ3h6ZTRB53ZJvqPzrmaQ7CirojgV5piE/FALn3d4Cxonl7EOr6g1WGZ5uEkArYjxtSCZlJ1Zvm6NZVTKxujYqHkBfHt/c4kq6cZ5UMWVEFqXi4gbY3HgoOpnSCyvzaZEgPXJOu0S6SJAacUIAZVt1Kp3kZN6h2PennSX00i+GtqW8xsdOSie9RrM/669vW/NnznxM6CDghv0xAWQCGNAd4o0A+ooJ83VCOS7thKwYuq9Pukcm6fntk+i8Y5No3b4ymrz4QO2QidER9I5QaqwuCKAc72gV42ZFVN0kgDIu8LpBAkZMTrGqZII5xUWRSYtOhQD+d3MhfbyxsPY6iDGflTX1ckWv7pQB6dTGYW1oK7tx46Ho5IaQJYgu7ZhEZ9ZIEGEcJwRQTma6tXsq9QsgZs3JOkKh7/I9pfSMkEQjr0nXwPR3rfVta/7Om48LDQTcsD8mgEwAA7o7vBHAXYcqaOIPZs+cnhXq64RyZQ1du0uWUNG9bLLHUNZhqwsCKM8BVTVeGWbO3vRW2cStLWB5O6xlShQ9M8gz7k4u34Zr0zU7llbnlNVeJhUCKGd9928WRzcL1Vrk+EcxUzsQA3TjoehkPvL2v6xxqEoAQcYvk0IEHj0pndqnxziZTlj3lUW5ZTBeGpJJTQQPuFOw6tvWnM6X+4cWAm7YHxNAJoAB3SXeCKAvXThvJ7TattS3bWQRZV1wWSY6cuZkXRDA7Qcr6M6FZrL73inZFB9t6Lct3FmixTHKzSkBBNl8a211oPu441MIiQJW7YP1h+h/ggxPn6Pi6DaLhILnVuTT0r/N1RMgpP3RBsObp0IA7WLhHvgpjzYJwt5yQoqdEXpbd7AfikgkgHxOWlwkoZYxEo18tdt+2Ec7hVKAt3RPpZMEr50qAbSy/VeHZVJGvLFlb4dRuP/++/5yul+qtS1iIsYG+4NVsG3NnznwMeGLgBv2xwSQCWBAd5Q3AmiXnWt10kW7S+gFIf4vITqC3hqRRVGRESTHmB3bKJoe659B8tZjt+xYukeQm6kLAoiqGiiDJm5xPjUgnVoJW5z/21JEH2zwzFB0QgDLKw/T+Hm5VFBTVg3E7NWhWbV6iCKmsubgOW0T6aKOnmWwZO00YA6i+LhQh1mFANpVfpFj5XyVzJNtw9e6g/lQREzkzd/vq72Ouo35ukGu/y6X9pcayUn39E6jbo0NUq5KALccKKd7BRkdX3qSAd2wIXywtzALfcnvnZJF8dH+x50G09ZC+DLw0lxCwA37YwLIBNAvc50+fTrhX2VlJW3atIlyc3MpM9O8xeitNqy3E87aVkRv13i30KdjegxNPqlaVFcuuaVXtZA9XQOPjqMJ3QzpjLoggJjfhHm5lCOIUcueIFkuRMfACQG08jQ+MyiDWqZEe0A6cf4+2lVYWfv3G7qm0ODmCR79ZFzhKTylVQI9IsRVqhBAu9rPM34toDnbjSoNwVp3MB+KslwN/Ld2lThkG5e3bVUJoEdN4dgImjEi2697M1wPyimqpAnfm5ONRCw+PtVaoF0Vr2Damuo5uR8joCPghv0xAWQCGNAd5s0DiEHluC9v+nj6BGQCKFZV2LS/nB4Qtnd0KZFX1xSY6n/K0hl1RQDhMVuTa8TNXdA+ic491qg7Kosy+0MAF+8uoamChxRj3NYjlfo0NYvbIulizLdmyRlv8WTo++Kqg7Tk71I6KjGKJvVO0zxaTgmgrDkoV11QJUJWxuhr3cF8KP57U6G2/Ss2vZ6x1byA3SUzc0w/PTsog1oIhFx13TIBTI2NoDeZADp6NlmJsusDiMLkjgYVOgfT1vydAx8Xvgi4YX9MAJkABnRH+SKAcoIBYqoglOut+SKAVpIlb4/Moum/HKQVe70Tr7oigHL2slz67tHF++m3feUeS3fiCZOzjTHYRR2S6BypwL1VWTZspSd7kV2BZmBpJRFekthuX7uvzDEBxNbpniLD4ygTU1UiZGUbvtYdzIfiS6vy6add5nhIX8kqVtI+rwzNpMyaCjVYi+q6mQAG9BjSDkYoBj58rFpKTATNGBmYRzWYthb4anmEcEPADftjAsgEMKD7yBcBhHbfhjyD9FzVOZlOESpRyCf2RQCtHu7PD86g19YUELyDepPPUVcE8NttRfSOsH0tJ6PI2c36fJ0QQJDdBTtLTLBZ1dVduaeUnhLkMFS2cMVB/SGA42bnUEG5EQUpi+6qEiErY/S17mA+FGUvJuaChJizBFkXcX5WHyXvnpJFCUKcmeq6mQAG9BjSDsaHzMXfmGNx9VGtMvOdnjGYtub03NyfEXDD/pgAMgEM6M7yRQCfXnbAp3fOCQFE36tm5VChUPMXJGPGbwW0W4h1k7XT6ooArs4ppSeEUmhIpnhnZFZttQu5XJw/BFCWHMEYViX2/m9rEf1TKIkFKRFsAas2pwQQL15shVYJWTBPDkin1kISjCoRspqjr3UH66FoVTkFcxnSIp6uPyHVErptB8tp0kKj/jFiBhFnJlY4UV03E0BV6/TdT64LrvdulhRFUwMsPxgsWwvOSnmUcEPADftjAsgEMKD7yBcBlD03p7VOoMs7eS9t5csDiEnKiQ03d0uld9YWmDxP9/dpRF2yYmvXVFcE0CoAXZedQBbrZV62plQ9gCAoV8/JpULBy4ZFJsdE0FvS1tabvx6k77YbnsKTm8fT+K7WJMbq4jslgEXlVVrZObG9PCSTGguaa6pESJ6P3bqD9VDcX1JJ10slBTEXMRFJnpsstp0UHUFvCyLk6K+6biaAAT2Gag+Ws7L1H9qkRdOUAWq1yL3NJFi2FpyV8ijhhoAb9scEkAlgQPeRLwL47toCmrnNyPwc0jyervdBROwI4COL99NaIY4OpbIgQOxLfqWuCKBVVQ3UMO6UGUtWpdCcegB9BbjPGJFFKUJ8n7xmXUxb9UI7JYBW64P3MxFBhTVNlQjJc7Rbd3xEJX3zzTd06qmnUkyM/6LJMpnT55EWG0FveEnGWLGnlJ4Wttr1zHRxDarrZgKoap2++906f59pR0DvfVxGDD3cT90LbnUWN17AwVk1jxIOCLhhf0wAmQAGdO/4IoD/3nSI/vN7Ue34vZvE0R29DIkW+cR2BFAO0h/aIp7m7TDHxE0fmklZQhB+XRFArOXOBftoe4GRCHFtlxQa1jKB5LJ44rpVPYAb8srooUVGyTtxjEf6pVOHDIP8yF6Q23umeRWMtrr4Tgmg1VboR5LkhioRkudjt+42KRQUAvjd9mJ689cCy3sByUZJApnVOy38q4SmrTbEvSHHA1keJoABPVICOnjSwjzadtCoGa4PJuuD+nMSN17A/syDjwlPBNywPyaATAADupt8EcBv/iii99YZ4sedM2Powb7ev8LtCOD76wro6z8MjyKEen8XqktgIah3GwcV3ZpWlwTw+RX5mpyK3s5ok0jwUvqqUapKAL/fUawlvFg1UXKluKKKrpxl3o6VpUnsLrhTAuixFRoTQW9L29L+EkBf6x5/Qgr1Pyo6KATQm04jsHq8f7plRRAP3cqMGJoseZlU180eQDurVPv9oZ/30wYhKUw/ylslHLVRq3u58QJ2cn7uG94IuGF/TACZAAZ0V/kigD/8VUyvrDZIS6vUaHpqoPc4HDsC+OWWQlOJMiRaFAtJIdgF/efoxqb11CUB/GTDIfpii+Hx7NUklu7s1cijiok4QVUCKFfsEMc4q20iXVJT5WNrfjnd86M5MQE1mGMEUmx3wZ0SQFlMunFCJL081FwLWZUIyXOzW/f5beOCQgCfWnaAVgpyQuI8buyaQoMsRLRleZoejWNpUu9GpiWorpsJoJ1Vqv0+ZekB+kWoY60fNejoeLqxm3ocrNXZ3HgBq62KezEC7nyAMAFkAhjQveWLAMqeL6sYKfHkdgRwwV/FNF0glPLEraQe6pIAyoRXzzy0EhjW565KAJ9dnk/L9pg16vQxxK31n3aW0EtCzWErMmZ3wZ0SQNlL1zo1mp6UiL4qEZLn5mvdqIN88wmJQSGA3mLHMJ9/tEukCzt4ltFD/OlXQr3l/s3i6Obu5hAH1XUzAbSzSrXfZS+8ftSIlgk0rov3BDSV0ZkAqqDEfdxCwA37YwLIBDAge/VFAOWtwURIo0hZkk4I4JqcMnp8qXUcHMY5JjWanpaIR10SQLlaCZxu8L5BH1Asg+aPB9CbjiDGap4cRc8Nri7DJ5NNf2KfnBLAr7cW0fuC7MzxmTH0gLTVr0qEZGO0W/eTJ6UGTABRtxol3SrFbCJhIn2bxtHEHp6xq3K2tRXJUF03E8CAHkO1B7+y+qCpMpD+w+mtE2iMDwUClbO78QJWOS/3YQSAgBv2xwSQCWBAd5cvAmhVu9ZXPU47D6DVeOLkrYhHXRJAq8oQL5ycQahXvHyPUa3EKQFEhjEqHFRUWV8q5Ccg9jEyIoLkRBm5NJ7KxXZKAD/deIg+22xsfVvFW6kSIXF+Kut+a1gj+nbmzICygHcdqqCJP+R5hcbqwwKdX1yVTz8LlUPErXh9MNV1MwFUsUz7PnJFHv2Ic49NpAvae3px7Uc0erjxAnZyfu4b3gi4YX9MAJkABnRX+SKA+4or6YZ55uLsb43MomSLjEpMwo4A+pIEwfH9msbRrZKnpi4JIOYwbk4OFZQZrqRJvdLos82FtFlKVtFBV9kCRok1lFrz1XTdPbmahV31FasxnRJAaDF+K8j9IDv7Okk8WZUIifNRWffzA1Jp+fxZARFAWc5FxgSxpe/VEGzxNznezEpuR3XdTAADegzVHixvy+s/+KroonpmN17AqufmfoyAG/bHBJAJYEB3li8CWFJRRVdIGakvDcmkJoJAsHhyOwIIj9BlM71v1VltwdU1AXzg5/2m0nRjjksmlInLKbZ236kQwF/2ltKUZfm1UEFwGE2sinJP7zTqmh2rZQCXCHuZ9/VpRCcIwtgqF9spAZz2Sz4t3OmZ/SyeS5UIiceorPvOHsm0c+mcgAjg/7YWaV5avSFucq90vWR5IfR98Of9tFHIOL36+GQaeUyiCWLVdTMBVLFM+z6f/V5In24q9Ojoz4eQPIgbL2D7FXEPRqAaATfsjwkgE8CA7i9fBBBVHC6VCNuUAenURigR5oQAou/4ubmUV2JNpqyC9euaAL66+iDN/8vQJhzWMp4W/FVC5V62b1UIoCyn065RtAab6FW8slMyIVZNrmZhRVzsLrhTAihn0F7UIYnOaZfkFxESD1JZ95gOCVS5dl5ABPCNNQdprqAnicopi3eX2hLpOxbsox2C7uNN3VJpwNHxfq2bCaCdVar9LpdB1I8SpZLURvLs5cYL2N+58HHhh4Ab9scEkAlgQHeSLwKIgeUtUblUm1MCKG9xisdf0SmZTm1t9sDUNQH87+ZC+nij4YGA9I2VMK0+bxUCKHuRIGmBTeaFOw2iiXFAAB9ZbCTJeNu6tLvgTgmg7Amz8raoesLEuamse3iLOGr8x/yACKBsI9guXLSrlP4QBIWt1nTD3FzaJ3yMYLu/R5M4JoB2Bubi794EveUa4f5MwY0XsD/z4GPCEwE37I8JIBPAgO4mOwIoy2tM7JFKfZuavST6BOy2gNHPl17bhK6pNLC5eey6JoBL/y6l51YY27XYrPWSXKotW4UAPrp4P/0mlMC7sH2SNqa41dUlK0bDVaxm4S15we6COyWAcqYuajT399MTJs5NZd3HZ0TTCXsXBkQA5copd/RMo593l5gSPKySaa6clWPSoZzcrxF1zDDqUGMtqsSXPYB2Vqn2Oz6KpgkySPpRVuRcbUSjlxsvYKdz4P7hi4Ab9scEkAlgQHeUHQG898c82pJvlGbSy6NZnVSFAL6+5qBH+Td9rLt7p1H3xmYPTF0TwB0FFXTHAu8ZpfK6VQig7Gm6tUeqxipfWGWUIYMGIjyAYqUUb/IldhfcKQGUCZTVdVAlQuLc1NYdQacc+tlvAlhUXkVjZ5srpzw3KIMW7S4xlTGU5XQQj3rJNzkmcv/MwAxqmVq9Pa831XUzAbSzSrXfZVFy/agH+jSi4x3GwspndOMFrLYq7sUIcAygWzYQcRjBatz8QsCOAD6+5ACtyTUkUC7tmERntjXHh+knViGA/9p4iD4XJEfESVuV7KprAlheWS3ZompQdgSwpOIwXTErx3RtoHV4mA7TpIVGxQ90gAyO6Cn0JmBsd6GdEsAxM/dSmRDj+OhJ6dQ+3ahNjPOpEiF9bk7WfUHFEjrz1FEUE2M+p9068bu3yiko6fey4ElqkhhJLw0xqptYEcdpQzIpW0pwUl03E0CVq2Xf59fcMnpsiadWqLdyfvYjGj2YADpBi/sGGwE37I89gOwBDMhO7QjgCyvzadFuI0P0nLaJdFFN2TL5xCoEUO4jjmGVYVzXBBDzuWlerkcWqTeQ7QjgtoPlHkQPmn/4ZJGJIYSnRTFjbyXM7C64EwIIwnvZt2aCOnVwBjVL9s8Tps/NybpHV6ymS0892S8C+OPOEkuiZ1dSL7e4km6UJI7eHplFSZLEERNAO2sL7u+yGLs+utN62FazcuMFHNzV82ihjIAb9scEkAlgQPeMHQFUqZbgxAO4ZHcJPb/S2PoUJ//OyCxKlF7A9UEAvdUjtQLajgAu2lVi2urNSoik6TV1duUtUnl8f70eTgjggdIquu478xbq68OzqFFcpGk6qkRIP8jJugdUbqTrR/f1iwD+e9Mhy61eb1vDzVOqia2qyLnqutkDGNBjqPbg7QUVdKdFCIaukxnIWdx4AQcyHz42vBBww/6YADIBDOgusiOAH204RF9uMapEnNQsjm6R6qU6IYAb88rpwUXmrU8cD+/Xh6OzKSKiWiNPb/VBAN9dW0AzBWFkXwDbEUBZ1wzJHvf3SdeGlJMk5PNYeaRULrYTArjzUAXdJlXR+GBUNsXggghNlQjphzhZ9wmV2+mu0V39IoByNQ8x2UOObby9Zxqh/jDahrwyemiRsdWYEB1B71qUOVRdNxNAFcu077O3qJJushBNf2N4FqVJHyX2o5l7uPECdjoH7h++CLhhf0wAmQAGdEfZEcAvtxTSRxsMWRRftWlVtoC9PeDTYiPojRHZHmupDwLoa5tanqAdAZRFlk85JoGuOr66qL1MLsSxveGhcrGdEEB5yw3SM/8c3djjNKpESD/QybpbVeXQY6Pa+0UA716YZ5J7EcWcreRhzqqJX125p5SeWm5keyMJ55VhRoygvl81cmUAACAASURBVA7VdTMBVLFM+z4HS6voGskjjaPeOyWb4msE1O1Hse7hxgvY37nwceGHgBv2xwSQCWBAd5IdAZR1uSBi/Hj/DMtzqhDA0srDdLkUc4bBmidH0XODMxsEAUTSC5JfrBo8RcUVRoqIHQG876c8D8Hn0TVah7JQsni+jukxNPmkak+h0+aEAK7aW0pPClVK0uMi6bXh/hMhfa5O1p15uIBePKWlYwKI3C+5coqoU/nGrwdp7nZDaxEC0eO7pmpT/GlnCb0kJIl4sz8mgE6tL7D+ZTVJWPIovmqQq57RjRew6rm5HyPghv0xAQxjAjh79my65557aO3atZSZmUljx46lyZMnU1RUlPLdZkcAIafxghCz1ywpiqae7EnUcEIVAoh+sv4a/tYxI4Ym9/MkPPXhAbRKENABbZoURbsLK2vx9UUAQVCump1LRQJhvOfENOqWXb0NKZdKEy/akBbxdL1Uj1f1ojohgMEmQpij03XHHK4gbHfHxpo1+OzWm1dSSePnmmssvzI0kzITqu1fLhHXIT2GHqkh1XP+LKYZvxXUngJZz8h+lhsTQLurENzfYTsXS/I8cVFE74/y9Eo7PbMbL2Cnc+D+4YuAG/bHBDBMCeCqVauoT58+dOONN9K1115L69ato6uvvpquv/56evLJJ5XvMjsCuCanjB5fanjDfG1NqhLAifP30S6BRGGyvZvE0h29GnnMuz4IIDTirvg2xySNok/suIwYWp9XrkQA80ur6FppO0sMZt9TVEk3W8Q7YXBUs9C3K5UvZk1HJwRQvmYiSRLPq0qEcIw/654+OI2yks0akHbrlrddQRQQxxdZE0e6Yk8pPS1s86bERtCMmjAD1dAG1XXzFrDd1VL/Xf5AFK+b+iiePd14AQcyHz42vBBww/6YADZAArhixQqaM2cOLV26lJYsWUK7du2iuLg4KikxtqOsTB+/T5kyhT7++GPavn07ZWRk0KhRo+iRRx6h5s2bmw659NJLacOGDYRz6e2ll16iu+++m/bu3UvJyclKd5cdAdxyoJzu/clI2oiOJEKSgJysgZOpEkCZ1OFYbx6v+iCAmM9dC/PoT6GUmA5mv6ZxJlkcXx7A9Xll9LCQaIAEZ0jA6AQFRBOagxUWdYZRzaJ3TcKC0oUUOjkhgF9sLqRPhNJ3PRrH0qTenkRclQhhGv6s+4HeKXR84wRHS5W9eCjb99RAIzxh16EKmigluLw1IouSYyPp4w2H6L8KyU2q62YC6OjS+eyMrHRkp+stOyGSptVkzgdyFjdewIHMh48NLwTcsD8mgA2QAJ599tn05ZdfmqzbjgCC/A0bNox+/vlnatq0KQ0cOJC2bdumkcjs7GxatGgRtW3btnbMVq1a0ZgxY+jRRx+t/duWLVuoXbt2NH/+fBo8eLDS3WVHAP8urKBb5psrY4DExElZok4IoKwtiGPPaptIl1joC9YXAZy6Mp8WC/qHmCOWPLRFAs3ZXlyLrS8COG97Mb3+q7HNaBVnJpdh0wdGNQtdskTpQvpJAD9Yf0jbKtXbwKPjaEK3NI9TqhIhHOjPusd1SqQRrdU+WvTJvb+uwFQ5BeT81h7G3CuqquNNRW1FXeRaXs+wlvF0bZfq+ECxqa6bCaBTK/Xe/5bv99HfRUaYhbf4TKdndOMF7HQO3D98EXDD/pgANkAC+NRTT1FRURH17t1b+3fUUUfZegAffPBBjcz169ePENune/Cef/55uv3222nQoEH0ww8/1N49IJRTp06lG264ofZvhYWF2nEfffQRXXzxxUp3mh0BLCironFzzDpxrw7LpIx4zzhDVQ+glcyKtwoj9UUArSqWZMRHUq8mcTT7TzUCKJMrSJBAikRszy7Pp2V7DKFt/AYBlg9GZ1N0pFmKRemCEpETD+Braw7S9zsMz/SoVgk0tnN1lrI/RAjH+LPu01vF0ZjOnsTT15rlutLntkukCzqYSaRcy/qGrik0uHkCvbwqn37cZeB+RptEuuw4TwLKBFDV6oLXT/a+t02LpicGWCeeOTmrGy9gJ+fnvuGNgBv2xwSwARJA2cyxXerLA4iL2LhxYzpw4ACtXLmSunfvbhqia9eutGbNGlq+fDn17NlT+82KAIJ0JiUlaVvIF110kdLdZkcAK6sO0yUzzZUivKnyqxJAOf4KE73+hBQa0sJzC7C+COCCv4pp+mrDe4c5tkmLpnaNYpQJ4DPLD9DyPUYZPSsvp6yziPM0SYwiVEXxtzkhgM+vyCeUTdObFYnCb6pECH39WXfP7Bi660RnWc+yp2hC11Qa2DzeBNvTyw7Qir3GNdAr2cjk8cL2SfSPYz1LHKqumz2A/lqr53EP/ryfNu434mw7ZcTQQxYJYk7P6MYL2OkcuH/4IuCG/TEBDAEC+P3339PQoUO1Ld7Nmzd73CHwDMJD+NBDD9HDDz+s/V5XW8A4lxyUPblfI+qY4ZmxqUoAf/irmF6RyJW3mLf6IoCbD5TTfULsI3BAfFxWQpQyAZSTXcafkEInSyT3+x3F9NoaM9Hsnh1Ld5/oGYen+uh0QgBlMerLj0um09okepxKlQjhQH/W3Swpkqae7Ck/423N2N5F/GSVULTZqnKK7I3sc1Qc3dYzjR5atJ82CMk8Yzsn06hW/q+bCaCqddr3e2LpAVqdY5D2QO8H/YxuvIDtV8M9GIFqBNywPyaAIUAAX3jhBZo4cSKdf/759Omnn3rcL19//TWdfvrphNjCL774QvsdSSAbN27UvIJ6e/nll2nSpElBTQLB2DfOy6XcYiMo+65eadSziWfGpioB/CWnlKYsNUR4cQ5vpLK+CGBheZUm4SK2oS3itW1ZlS1geE5BUMT4s0f6pVOHjBjTmHJFCvx4ausEuqKT5zas6oPUCQGUhZStSCrOq0oA/V034itBsFVbWRWZSAKOsyolOHd7Mb0hxGEmxUQQPEpr95Wb5Hm81V1WXTcTQNUrZ9/vuRX5tFTwSvdtGkcThdhO+xGse7jxAvZ3Lnxc+CHghv0xAQwBAnjbbbdp8XwggYj5k9vq1aupW7du1KNHj9qsX2wV9+3bl2666SYaN24crV+/XpOBue6663zKwJSWlhL+6Q1bwC1atKDdu3drWoJW7d6fD9L2Q0ZQ9vXHJ9KAZp4EcM72EnpvgxEfd1x6NN3X25PIoN7nvYvMXq+n+6cSNAbl9tiyAtqwv6L2z1d0TKARLc3bfPhx9vYSel/h3E4eOzfMP0AHywwX09lt4ulQ+WH6boeB3/AWcXTlcZ6eIwSx3/GjuebxqyenUQpKbQgNMZbj55vJ8NjjEmlYC2eSKOKY6/LK6Ynlh2r/lBITQa8OsfYoTlyYTzkCub+1WxL1siBi764vcn3dTq6N3BfyRNNP9lwjvHyPCVh4O8fEbknUM4B1y5inxkTQK14wD2Sd4XDsa78W0o+7DQ/gwGaxdN3xntvzTrHAyxLqDCNGjHAsOu70XNyfEZARcMP+MGZiouf7J5zQjzgM9dAG3OxiAKHj9+abb9J9991Hjz32mMdKsC187LHHUvv27TWvn95mzZrlIQQNyRhfQtDYQoZYtNyQOOLNkOZEdaacCCNDslflVmp/eI/HGJsimtDyqDa1f29clU/Dq9Z59CulaPosqhdRjV5bxOHDdG7lMoolg2TqB30X1Yn2RhjJAd7OvTHiKFoR1dr23E7MRD73iZVbaH9EEv0eeVTtMMdW/U29q/7wGHYPpdLc6M61f4fY8fmVyzz6wXA/j+pFpRGGZ3BYxVpqQmby6GTeeyJSaW6Uce64w+V0bqXhKRbHwnUQzz20ci0dddjz3MsiW7u+bidrlPs2PpxPwys9ba2Eounz6N62Q4+s+JWyyCDN+gHK63aAue1kwrzDqshjaH1ks1oUjqvaSd2rtoc5Krx8RsAagbPOOiusoTniCeA111xDM2bMoPvvv98k66Jf1d9//10jfzIB9Oeq++MBVPXCqXoAMe+XVx+iJXuqA737NImhm7paS4ContsND+Div8to2prqOsjJMRH0TP9U+mxLiZInzIlH6LPNxfTF1upM3BbJUfR4v5RarUB/rrETD+D47w9QQbnx/XRvr2Rti1Ruqh5AJ+v+9Pdi+uoP39qYqusf3yWR+je19ppOXXWIVuQYSQXymEcnRdIT/VIpyiLr2o11q64pXPv9cbCCHllaQOVVRNDOfOjEFILGY6DNDQ9MoHPi48MHATfsjz2AYboFHKzbxi4LGOdRjcNTjQHEmIgVW/x3qSZ5ghgfXRxZXpfqub/dVkTvrDU8OMHKHNy0v5x2FFRo8Wnp8VHKsXByHF5qbAS9WVOFQl4jHNir9pZRflkVQcsuHmrbATQnMYDj5uRQgbDN/WDfRtQ50zMWTzUWzum6l+wqorkr1lP7Du0pMlK9hKEODzgbqpd0spiz3qe88jChpKG41a3/1igukpAYAnFoq6a6bo4BDMBgLQ79q6CCcO8hZvbo5MDJH07hRgxWcFfNo4UyAm7YH8cAhgAB9CcJJFg3Sn0RQNX51zcBlOepSgicECFVLFT7HSkE8Eh4KatebyaAqtZZf/3ceAHX32r4zEcaAm7YHxPAECCAqjIwkIKxit8L5EZgAugMPVVCwASwGldfnk8mgM5sj3sHhoAbL+DAZsRHhxMCbtgfE8AQIIBlZWWaEHR+fr5PIWiUhUNlkWA2JoDO0GQCWI2XtxJ4TomvGw9FZ1fUd2/V680ewGCi7s5YDd3W3Fk1j9pQEHDD/pgAhgABhIEiAeTxxx+nk046SSsFh4oeaHopuAEDBtDChQuDZsvTp08n/KusrKRNmzZRbm6uVxkY1W1YJzGAqgtRPbdbMYDyPFUJgVMipIqHSj/eAlZBSa2P6vVmAqiGZ332cuMFXJ/r4XMfWQi4YX9MABsgAYRwM6p36G3JkiUEKZgTTzyx9m8PPPAAnXbaabX/v6SkhE4++WRC36ZNm9LAgQPpzz//1P4/9PkWL15M7dq1C7rFswfQGaSqhIAJYDWuvAXszL64t3sIuPECdm+2PHKoIeCG/TEBbIAE8N1336WxY8f6tN933nmHrrzySlOf4uJimjJlCkGTb8eOHZSenk6jRo3SyCTEmt1oTACdocoEsBov3gI22w17AJ3dR/XR240XcH2sg895ZCLghv0xAWyABPBIMk8mgM6uFhNAJoBXH+9Z3YYJoLP7qD56u/ECro918DmPTATcsD8mgEwAA7obmAA6g48JIBNAJoDO7pmG0tuNF3BDWRvPo+Ej4Ib9MQFkAuiX5XMSiF+wuSIE7d9MvB/FSSDBQ1SV8LMHMHiYuzWSGy9gt+bK44YeAm7YHxNAJoAB3SnsAXQGnyoh4CSQalw5CcSZfXFv9xBw4wXs3mx55FBDwA37YwLIBDCg+4QJoDP4mADyFjBvATu7ZxpKbzdewA1lbTyPho+AG/bHBJAJYECWzwTQGXxMAJkAMgF0ds80lN5uvIAbytp4Hg0fATfsjwkgE8CALJ8JoDP4mAAyAWQC6OyeaSi93XgBN5S18TwaPgJu2B8TQCaAAVk+ys81atSI/vjjD8rIyLAca8rS/bRxf0Xtb5d1TKLhxyR69P3uzyL6YENh7d87pEfTPSemBzQ/1XPP+bOIPgzyua0m/v66Apq3o6T2pyHN4+mKzp6yIOvzyuipZfm1/VJiIujloVkBYaF6sHzu5JgImubl3BPm5dKh8sO1Q0/qnUbHZcR6nMqtdeMBhso3I0eOpJiYGNUl1lk/1XWv21dGTy+vn+tdZ2Ac4Sdq6LZ2hMPL07dBwA370wlgSkqKVmwiHFvE4cOHjTdYOCIQwJq3bt1Kbdu2DWAEPpQRYAQYAUaAEWAE6guBvXv3UnZ2dn2dvl7PywQwAPgPHDigVRzZvn07paWl+Rypd+/etGzZsgDOFvxDG9qceD6+r7GMD0IQUOUGlW9SU1ODbyA2I/L1soc8VDByy9ZCBR97S/CvB+NTjZsv+/MXI31MvMft3t/+Xb2GfxQTwACukR4DiK1guxdwp06daN26dQGcLfiHNrQ58Xx8X2MZHyf2F3zrIeLrZY9qqGDklq2FCj72luBfD8bHIIAgaVbvWn8xcsum/bvS9XMUE8AAcHdiQBCPvvHGGwM4W/APbWhz4vn4vsYyPk7sL/jWQ8TXyx7VUMHILVsLFXzsLcG/HoyPPQH0FyO3bNq/K10/RzEBDAB3NqAAwONDA0aA7S9gCHkARQTY1hSB4m6uIOCG/bkxpiuLd3FQJoABgFtaWkpTpkyhe+65h+Li4gIYiQ9lBJwjwPbnHDM+wj8E2Nb8w42PCg4CbtifG2MGZ7V1NwoTwLrDms/ECDACjAAjwAgwAoxAg0CACWCDuAw8CUaAEWAEGAFGgBFgBOoOASaAdYc1n4kRYAQYAUaAEWAEGIEGgQATwAZxGXgSjAAjwAgwAowAI8AI1B0CTACJaMmSJdS3b18N9SeeeEJL6uDGCNQFAnPmzNHkVBYvXkx5eXmEskRNmjSh7t2708knn0xXXHEFxcZ6lperi7nxOUITgdzcXHrxxRfp//7v/7QylmVlZdSsWTMaOnQo3XzzzXT88ceH5sJ5VfWCgF5mTS+biv+V28MPP0yTJ0/WkirvvvvueplnOJ6UCSARTZgwQXsJox133HENTrA5HA0zHNb80EMP0SOPPKItFS/d9u3bU1RUFG3cuJF+/fVXQpXG3bt301FHHRUOcPAa6wCB7777js4//3xC9QOUv+rXr5+mYAB727Bhg2Z/jz32WEAvYf1l/s4779CVV15ZB6viUzRkBMQ6uw8++KBG9JgANowrFvYEEAWh8fW7b98+zfPy999/04oVK6hHjx4N4wrxLEISgeXLlxNKGMG798UXX9Cpp55qWufOnTvpzTffpFtuuUUrN8iNEQgUAZSiHDBgAOGZh52OO+64g6Kjo2uH/eabb+iyyy6j/fv3ax5CeAP9aUwA/UEtdI8BAYyMjNRsLT4+nrZt2+bxTGMPYP1c/7AngF999RWdddZZNHjwYO0fPDK33norTZ06tX6uCJ81LBC47777tJcwXrj//Oc/w2LNvMj6QwDe5M6dO9P69evp0Ucfpfvvv99yMgsWLNBCD+AVhEfwmGOOcTxpJoCOIQvpA0AAYU9XX301vfLKK5rtwQbFxgSwfkwg7AkgtkP+85//aN4WEEBsw8ETCA8MtkPEBkPGAxFfMHJ79913aezYsYRtPRiz2LZu3aptqWD7BfE23bp1owceeEC7KYYMGaLFeeF4buGDwLXXXqvZ3MSJE+n5559XXnhOTg499dRT9L///Y/+/PNPSkhI0OJXEbc6aNAg0zjz58+vtS9dsHzmzJlaYXWEOuBD5/LLL1c+N3c8chGAd++0006jo48+Wov7i4mJ8bqYCy+8kD799FO688476emnn67tV1hYSC+99BL9+9//pt9//10LUWjZsiWNHDlSs2M8G1u1aqXZpVX7/vvvNXLJLbwQ0Angli1bqG3bttquB96hGRkZtUD4IoBFRUX03HPP0b/+9S/CGDi+a9eudMMNN9BFF11UOwY82wiXgZ1iJ88q1nDp0qXUp08fOumkk+inn34KrwthsdqwJoAoLA2DwYNMNxgYB4wEL8pRo0YFTADxoISxIfC6Q4cOWnA/jB/ngAFPmzaNCWAY3obwNONjAS9QbAcjHsuuwSMzfPhw7eMED9ITTjhBC11AAklFRYXmSbzkkktqh9EJ4BlnnEGrV68mKN/jIwdbfHgZ4xg8eDEPbqGNgB7nrLK78eWXX9LZZ5+txaUiNhANsaiwvXXr1mkvbmwlg0Ru3ryZ1qxZQ2+//bYW74dtZXzowt769+9P7dq1qwUWH8EdO3YMbaB5dR4I6ASwpKSEbrrpJu2dd++999Ljjz9uSwALCgq0j1iEZeEZiecXCN68efO05xlCZF544YXaca6//np6/fXXacaMGZrHUW6wf4Q3IOYf799wb2FNAOGBgSfm3HPP1byAaC+//LIW+3LppZfSBx98EDABxENz7ty5muHDUBELgYaXte59YQ9g+N2G+JLFCxYPxdTUVO2FO3DgQC0ov1OnTiQGTgOdyspKzXP822+/aQ8w2JPeZ9WqVTRixAhtLHibGzdurAGqE0D8N35HrGFSUpL2G+LBkPWJr2s8XDE2t9BFAIQNHg88dxB24Kv99ddf1KJFC+1ZBZsC0dOfYxdffLHmudbtCOPgIxf2qZM73gIOXTvyZ2UiAdy1a5f28Qqbgic6MzNTG9KbB1AnjLA/PL+Sk5O1/vgYBhncu3cvff3117Ux1AsXLtR2QvBsw3tXbFVVVdS8eXPCLgo+aLKysvxZTkgdE9YEEIYCg4Fh4QWMBuNAUgjczHv27Kk1OPzmdAsYX8fHHnus9sW8fft200MT48GAEXPDBDCk7inlxcyePVsLG8BDUWwgcLAJfCXr2xj//e9/6ZxzziG8gD/66COPc4AU4usWWyW33XabiQDCbhH7BQ+02OCRwXYyPoLw1cwtdBHAlj9emrNmzdK2bH01eFYQrI+GnRFs6WJnBLsleKaJ5M9qHCaAoWtH/qxMJIA4Hl47hBLg+YPQFG8EEJ4+eP1gj7BdvEvFpjtrTjnlFPr222+1n7Cb17p1a9qxY4f2D+9yvcEzjQ9hhEJAAokbUdgSQGzDtmnTRstGwteAqLV2+umna18V77//Po0ZM6bWTpwSQByPF7m3QH+4wvGFwwQwfG9FPNyQiAQ9QOhRwsOHL1U0bJ/9/PPP2kPwxhtv1AKoEQdzwQUXeAAGL16vXr20mJiPP/7YRACR0Y7f5YZtOnj+4HFcu3Zt+F6EMFg5vHOQF8KLEi9MXw1eP8SWouEjGNtpSFq6/fbb6dlnn7VFiwmgLURh1UEmgHjf4t2LrGB4AeGJs/IAwjkCJwlinBctWuSBGaSM8P6GVxBxzfqOCOKhn3zySdPHMA6+6qqrCNJE+IDGhzS3MCaA0LpCIgZiBl599VWTLXzyySeageBrAV4avTklgDBCGCP+IeNTbnoGMhNAvhV1BOCBRkIQHojYnh03bpy25YavVgTy2zVslYBMoulbwPAcfv755x6HIgYWHkb8Q1wgt9BFQN8Clj9qrVYMzwliU/G8wwcKQmJee+017QNk/PjxtiAxAbSFKKw6yAQQi0fSEEKi7rrrLm0XwooA6u9h8aNWBg7PLjzHQAbT0tK0n/ER3aVLF03KTf/whR0juRNxz9g2TkxMDKtr4G2xYesB1L+I4VbWY6Z0kGAsCMxHDAziYZo2bar95IsAIggaQadiFrBOAOWAV/08erA1E0C+F2UEdO8wbA9bxEhIwvbd6NGjPexVPBZ2rSvpMwFku9IR0D3IctC8FUJ6uIGeBALSBwKID2V8MNs1JoB2CIXX71YEEKEF8ALiHQsvIJIy5EogOgH0FvYCFHUCCBKIWGq9IUsYyUkIfcEzER/AiPVn2S2z7YUlAdRTwVVuQ2x5YOsDDdvEMDJk9MoNxqtnVOoyMO+9956WGcdbwCpIcx8RAf0rFsHSkA6CJ/Ctt94ifDSceeaZSmDpBNDbFjAekHhQ8hawEpxHdCfEPCEbXEUGBiEGkHpBRu8zzzyj7V7wFvARffnrdfJWBBATwnsVEliwM8SVygTQbgtY38HAscgWFhPnIF80adIkbZcPigvnnXceffbZZ5bqHvUKTj2fPCwJoJ5ZJOtcidcC22gIlkaMFLIs0aBzhWQOSG+IGkb4DZIHiNcSPYDIjoOuIPpiW0V2O0MT64cffuAYwHq+Cerj9AhWljN9xXno3mFdd1L/GkbSCLzNKk0ngPjKxpcwbFFseqzMNddcQ2+88YbKkNznCEUAcaUg+ogDVBGCxocH+kLXT/9gRhIIstftts90wojQBXy4cAtvBLwRQGzFImEDDYoY8DKLtYDtkkDgNYS8kZgEoiONnTuEMcDLuHLlSm37F84bSGiJ1W/C+8qEYQwgYgCQGYRYKxgGdPmsGmQN0A9GCi0sbIfASCGjIGpp4UWOrV5s86LJQtBIR4fmGrZeUF1Ef+l/+OGHtXIMvAUcfrch1PDh2cP2mv4Q1FHAhwO2evGy1YWiYbeIa8FLGQ9JZPqKYr4YC14ehDSgH5ooA4OHJLZB9Jc3YmOgr4WHLF7wPXv2DL+LEGYrhl4klA9gS7AheF5EsXton0L+CvGg8MzA9vSmP8ewm4GMcZEEIjMYY+oyMLoovu5BDDOYebkSAt4IILrBCYNdNiQdFRcXmwggftf1K2UZq02bNmkJIthKxnMPMdJy0x0sCFsAuYTjB9nH3AwEws4DiAoK2EKDJAZSy301PW4GrmSQPGRKon4rDBWeQegZgRzCuwfPDIKkZQKIFzaEoPPy8rQHpC4EjYcxXv44hj0w4XdL6oKkeDjCFiHTAUIHDzMIGTw2IGXQstKDm2GvIHLog9hACEHjqxb2h98QCC1KGukEEFnt2O4FSQQBwNYJhFShnG9Vlin8rkb4rBhZwAiqhw0g9hm6k6hIhOcYvMTwFmMrTi4VB88JSCBevNBuE4WgkU2uC0EDSV3rDfaFFzc+pGHneNnLUkThg3z4rtQXAYQjBh/A+BBFEz2A+P+iEDTsVRSCRrY6EpQggWXVdJ1f/Te8cyFnxC2MCaAe32JVsk02jB9//FET54V4JLSw8HCEEWHrDC9puJKx9QujxTaxt1Jw+ELGMXopOMRd4QGLL218UYt6SGyc4YEA4kjhcUFiB16geGlCygBBzfDgIWYF22eiPBGQgc3gKxZED3YFDzTIIOq8ItsXx+liqWIpOGzL4UMG58N58DECEooYVW7hhQBeunhpwnMC4XAQNdjQsGHDNC8JPiysGuwGuxgQzYd3Gs8/CEbjowS2hC03vUE9AbFXsO1Dhw5pf+ZScOFlZ/pqfRFA9MFzSS85KBNA/A5y6K0UnC85F3wQI2wBSZ1wuezCcQAAB2FJREFU1uB5yc2MQNh5ABuSAejZdYjvQv1NboxAMBEQCSDXmg4msjwWI8AIMAJHPgJMAF2+hnBTI80dW3xiQ0YStmKQwYSAVd1r4/J0ePgwQoAJYBhdbF4qI8AIMAIOEWAC6BAwp90RpIrtFWy5IUAfcV6ItdHjbZBUcskllzgdlvszArYIMAG0hYg7MAKMACMQtggwAXT50iNhBFpEkJVBsD6CWiELg+BrZMkhmJobI+AGAkwA3UCVx2QEGAFGIDQQYAIYGteRV8EIMAKMACPACDACjIAyAkwAlaHijowAI8AIMAKMACPACIQGAkwAQ+M68ioYAUaAEWAEGAFGgBFQRiCkCWBRURFBjwriz8uWLaNt27YRKny0a9dOKwyNagresm/ff/99mjZtGq1bt07TYuvbt6+m3QdRZ7lBhBelu3AuVHHYs2cPpaena32hpg8tQW8NGcAPPvggQaAVYtHQ0kJ2MCqLxMfHK19I7sgIMAKMACPACDACjIAqAiFNAGfMmKFV2UCDUC5qYULMFDV7kYyBzFzU4oXCuNhADCF4ivI0qAcMKRdUZIDoLoqkQ3BXbBCKhlI+qjJAaRzkD8Txt99+0xTwUVYJQqlyg5gqkkEgzIpSc5jf8uXLNXFW/B3CqVDp58YIMAKMACPACDACjEAwEQhpAggvHip3wAsHCRa97d69W6sdiOodUBL/6KOPan9DiSwo4qPc0aJFi2qPw3+jtiBIIXT9QPL0BpKIKiDwKoqVG1AzE3UIUW8TpbhA8MSGsjYLFiwwlbNBTU1UK0GlB3gGUZaJGyPACDACjAAjwAgwAsFEIKQJoC+gQOiwRQsPG7yCOnEDMfzmm280D6Dstbvlllu0MlwoXn377bcrXQeUScLW8MMPP6zVCdYbtqRPPPFEzfuI2q6ipw9byCixhO1p/De0A7kxAowAI8AIMAKMACMQLATClgAiPhBVONBQhxVizdjqRS1W1A6EZh+2dsW2cOFCGjRokFaQGhprKu2uu+6iZ555hq699lqCR1BvIIOolXn11VcTtqrlBi8kvJFcP1MFZe7DCDACjAAjwAgwAk4QCFsCiPi8Ll26aN41xAPCA/fLL79Q9+7dKTs7m/bu3euBI4pSwyuH7V8kbKi08847j1D2Td7OPfvss7XEkenTp9MNN9zgMdSdd96peRpfeOEFgueRGyPACDACjAAjwAgwAsFCIGwJIJJD4Hk744wz6KuvvtLwxP+eddZZGglcuXKlJcYgfwcOHNC2jVNSUnxeByR5IPkEHkUkd/Ts2bO2f48ePbQYRJDAM88802OcF198UduCRkLKc889F6zrzeMwAowAI8AIMAKMACNAYUkAEeN3+umnU3R0tCYP07VrV80UkAxy6aWXUv/+/enHH3+0NA8941ffNvZmQ0jmGDJkiDbOhRdeSJ988ompa/v27TXJGJSIGz58uMcwegazvHXMNssIMAKMACPACDACjECgCIQdAVy/fr1G8Pbv3++xvfrhhx/SZZddptXnRbyfVTv66KO1mEE7Ajh+/Hh67bXXqE2bNhrJRP1fsSErefPmzfTdd99pWcdye/PNN7W4QSaAgZo4H88IMAKMACPACDACMgJhRQAhugzyh6xbq63VYG0BI7kDSR5NmjTRPIAQnpYbbwHzzcgIMAKMACPACDAC9YVA2BDA3NxcrSIHqnZAs++tt97SRJrFppoEgkxheBCtGpI6JkyYQGlpaVqmcLdu3Sz7cRJIfZk8n5cRYAQYAUaAEWAEwoIAIst36NChWiLGP/7xD/r00081cWa5FRcXaxm+djIwkIJBBRG5YQt5zJgxmlg0tP/gbfTWVGVgIAWDWEJujAAjwAgwAowAI8AIBAuBkCeAIHOjR4/W9PQgyoxtXrFahwzkqaeeSjNnzvQpBP30008TZFrEhsQSZBBHRkZqtYdRHcRXW7p0qVY2zpcQdGJiolYmjoWgg2XuPA4jwAgwAowAI8AIAIGQJoCVlZV0/vnna2XVsP377bffEkiVr4akjBEjRliWgoMnDnqBKAUnJnX89NNP2jHl5eVarWBs76o0JJvgWOj8Qe8PDdnDyBr+/PPP6f7776dHH31UZSjuwwgwAowAI8AIMAKMgDICIU0AdS09oHHOOedQamqqJTAQXM7Kyqr9Dfp7OBZkEcSurKxMk2upqqrSto9R81dsujZg69attUohVg1kb9y4caafIAPTr18/2rdvnyZKjVrByBjeunWr5h1EDGF8fLzyxeSOjAAjwAgwAowAI8AIqCAQ0gQQ9XcnT55siwM8eq1atTL1e/fdd2natGkE2Rhswfbt21fzyIHIyU1OJrE64RVXXEEYU24oOYcqIfBOoroIagBffPHFdO+992qxhNwYAUaAEWAEGAFGgBEINgIhTQCDDRaPxwgwAowAI8AIMAKMQCggwAQwFK4ir4ERYAQYAUaAEWAEGAEHCDABdAAWd2UEGAFGgBFgBBgBRiAUEGACGApXkdfACDACjAAjwAgwAoyAAwT+H4qCuRz7Rk2AAAAAAElFTkSuQmCC\" width=\"640\">"
      ],
      "text/plain": [
       "<IPython.core.display.HTML object>"
      ]
     },
     "metadata": {},
     "output_type": "display_data"
    },
    {
     "data": {
      "text/plain": [
       "(18475, 18571)"
      ]
     },
     "execution_count": 4,
     "metadata": {},
     "output_type": "execute_result"
    }
   ],
   "source": [
    "fig,ax = plt.subplots()\n",
    "timeseries_H_in_national.reset_index().plot('DATE','NEW_IN', logy=True, ax=ax, label='National')\n",
    "timeseries_H_in_hainaut.reset_index().plot('DATE', 'NEW_IN', logy=True, ax=ax, label='Hainaut')\n",
    "ax.set_xlim('2020-08-01', '2020-11-05')"
   ]
  },
  {
   "cell_type": "markdown",
   "metadata": {},
   "source": [
    "# Load contact and geographic data"
   ]
  },
  {
   "cell_type": "code",
   "execution_count": 5,
   "metadata": {
    "ExecuteTime": {
     "end_time": "2020-12-04T18:08:11.376951Z",
     "start_time": "2020-12-04T18:08:11.193973Z"
    }
   },
   "outputs": [],
   "source": [
    "# Load the interaction matrices (size: 9x9)\n",
    "initN, Nc_home, Nc_work, Nc_schools, Nc_transport, Nc_leisure, Nc_others, Nc_total = model_parameters.get_interaction_matrices(dataset='willem_2012')\n",
    "\n",
    "# Define the number of age categories\n",
    "levels = initN.size\n",
    "province_names = pd.read_csv('../../data/raw/GIS/NIS_province.csv')\n",
    "initN_province = pd.read_csv('../../data/interim/demographic/initN_prov.csv')\n",
    "initN = np.array(list(initN_province.set_index('NIS').loc[50000].iloc[:9]))"
   ]
  },
  {
   "cell_type": "code",
   "execution_count": 6,
   "metadata": {
    "ExecuteTime": {
     "end_time": "2020-12-04T18:08:11.484316Z",
     "start_time": "2020-12-04T18:08:11.418049Z"
    }
   },
   "outputs": [],
   "source": [
    "# Output for calibration\n",
    "fig_path = '../../results/calibrations/COVID19_SEIRD/provinces/'\n",
    "samples_path = '../../data/interim/model_parameters/COVID19_SEIRD/calibrations/provinces/'"
   ]
  },
  {
   "cell_type": "markdown",
   "metadata": {},
   "source": [
    "# Model initialisations"
   ]
  },
  {
   "cell_type": "markdown",
   "metadata": {},
   "source": [
    "## Jenna's original code for the national model"
   ]
  },
  {
   "cell_type": "code",
   "execution_count": 7,
   "metadata": {
    "ExecuteTime": {
     "end_time": "2020-12-04T18:08:14.673625Z",
     "start_time": "2020-12-04T18:08:14.489392Z"
    }
   },
   "outputs": [],
   "source": [
    "### FIRST WAVE ONLY (NO ADDITIONAL POLICIES)\n",
    "\n",
    "# Load the parameters using `get_COVID19_SEIRD_parameters()`.\n",
    "params_wave1 = model_parameters.get_COVID19_SEIRD_parameters()\n",
    "params_wave1.update({'policy0': Nc_total,\n",
    "              'policy1': 1.0*Nc_home + (1-0.60)*Nc_work + (1-0.70)*Nc_transport + (1-0.30)*Nc_others + (1-0.80)*Nc_leisure,\n",
    "              'l': 1,\n",
    "              'tau': 5,\n",
    "              'prevention': 0.5,\n",
    "              'start_date': pd.to_datetime('2020-03-15')}) # Start of lockdown\n",
    "# Usage:\n",
    "initial_states = {'S': initN, 'E': np.ones(levels)}\n",
    "\n",
    "# lockdown_func should be a global variable in multicore processing\n",
    "global lockdown_func\n",
    "model_wave1 = models.COVID19_SEIRD(initial_states, params_wave1, time_dependent_parameters={'Nc': lockdown_func})"
   ]
  },
  {
   "cell_type": "code",
   "execution_count": 8,
   "metadata": {
    "ExecuteTime": {
     "end_time": "2020-12-04T18:08:14.893323Z",
     "start_time": "2020-12-04T18:08:14.713474Z"
    }
   },
   "outputs": [],
   "source": [
    "### ALL MEASURES UNTIL SEPTEMBER\n",
    "\n",
    "# Load the model parameters using `get_COVID19_SEIRD_parameters()`.\n",
    "params_until_sept = model_parameters.get_COVID19_SEIRD_parameters()\n",
    "\n",
    "params_until_sept.update({'policy0': Nc_total,\n",
    "              'policy1': 1.0*Nc_home + (1-0.60)*Nc_work + (1-0.70)*Nc_transport + (1-0.30)*Nc_others + (1-0.80)*Nc_leisure,\n",
    "              'policy2': 1.0*Nc_home + (1-0.50)*Nc_work + (1-0.60)*Nc_transport + (1-0.30)*Nc_others + (1-0.70)*Nc_leisure,\n",
    "              'policy3': 1.0*Nc_home + (1-0.40)*Nc_work + (1-0.55)*Nc_transport + (1-0.25)*Nc_others + (1-0.65)*Nc_leisure,\n",
    "              'policy4': 1.0*Nc_home + (1-0.30)*Nc_work + (1-0.50)*Nc_transport + (1-0.20)*Nc_others + (1-0.60)*Nc_leisure,\n",
    "              'policy5': 1.0*Nc_home + (1-0.30)*Nc_work + (1-0.45)*Nc_transport + (1-0.15)*Nc_others + (1-0.85)*Nc_schools + (1-0.50)*Nc_leisure,\n",
    "              'policy6': 1.0*Nc_home + (1-0.25)*Nc_work + (1-0.35)*Nc_transport + (1-0.10)*Nc_others + (1-0.35)*Nc_schools + (1-0.30)*Nc_leisure,\n",
    "              'policy7': 1.0*Nc_home + (1-0.20)*Nc_work + (1-0.25)*Nc_transport + (1-0.05)*Nc_others + (1-0.30)*Nc_leisure,\n",
    "              'policy8': 1.0*Nc_home + (1-0.30)*Nc_work + (1-0.35)*Nc_transport + (1-0.15)*Nc_others + (1-0.40)*Nc_leisure,\n",
    "              'policy9': 1.0*Nc_home + (1-0.00)*Nc_work + (1-0.00)*Nc_transport + (1-0.00)*Nc_others + (1-0.00)*Nc_schools + (1-0.00)*Nc_leisure,\n",
    "              'l': 1,\n",
    "              'tau': 5,\n",
    "              'prevention': 0.5,\n",
    "              'start_date':pd.to_datetime('2020-03-15')})\n",
    "\n",
    "# Usage:\n",
    "initial_states = {'S': initN, 'E': np.ones(levels)}\n",
    "model_wave1_with_policies = models.COVID19_SEIRD(initial_states, params_until_sept, time_dependent_parameters={'Nc': policies_until_september})"
   ]
  },
  {
   "cell_type": "markdown",
   "metadata": {},
   "source": [
    "# Plotfunctions"
   ]
  },
  {
   "cell_type": "code",
   "execution_count": 9,
   "metadata": {
    "ExecuteTime": {
     "end_time": "2020-12-04T18:08:18.044052Z",
     "start_time": "2020-12-04T18:08:17.963724Z"
    }
   },
   "outputs": [],
   "source": [
    "### DEFINE FUNCTION TO PLOT THE RESULT OF THE SIMULATION\n",
    "# this should probably go in the optimization.visualization module as well\n",
    "\n",
    "def plot_simulations(start_date, end_ramp, end_date, model, samples_dict, timeseries, \n",
    "                    spatial_unit, n_lines=200, save=False):\n",
    "\n",
    "    states = [['H_in']]\n",
    "    data=[timeseries[start_date:end_ramp].values]\n",
    "\n",
    "    fig,ax=plt.subplots()\n",
    "    for i in range(n_lines):\n",
    "        idx,model.parameters['beta'] = random.choice(list(enumerate(samples_dict['beta'])))\n",
    "        if 'l' in model.parameters.keys():\n",
    "            idx,model.parameters['l'] = random.choice(list(enumerate(samples_dict['l'])))\n",
    "            model.parameters['tau'] = samples_dict['tau'][idx] # idx takes the same index\n",
    "            model.parameters['prevention'] = samples_dict['prevention'][idx]\n",
    "        y_model = model.sim(time=end_date, excess_time=samples_dict['warmup'], start_date=start_date)\n",
    "        ax = plot_fit(y_model,data,start_date,samples_dict['warmup'],states,end_date=end_date,with_ints=False,ax=ax,plt_kwargs={'color':'blue','linewidth': 2,'alpha': 0.05})\n",
    "    \n",
    "    # plot mean line\n",
    "    model.parameters['beta'] = np.mean(samples_dict['beta'])\n",
    "    if 'l' in model.parameters.keys():\n",
    "        model.parameters['l'] = np.mean(samples_dict['l'])\n",
    "        model.parameters['tau'] = np.mean(samples_dict['tau'])\n",
    "        model.parameters['prevention'] = np.mean(samples_dict['prevention'])\n",
    "    y_model = model.sim(time=end_date, excess_time=samples_dict['warmup'], start_date=start_date)\n",
    "    ax.plot(y_model['time'],y_model['H_in'].sum(dim='Nc'), c='green', linestyle='--', lw=2, alpha=0.5)\n",
    "    \n",
    "    data_after_calib = timeseries[pd.to_datetime(end_ramp)+pd.to_timedelta('1d'):end_date]\n",
    "    plt.scatter(data_after_calib.index, data_after_calib.values, marker='o',color='red',linestyle='None',facecolors='none')\n",
    "    legend_text=['daily \\nhospitalizations']\n",
    "    ax.set_xlim(start_date, end_date)\n",
    "    fig.tight_layout()\n",
    "    if save==True:\n",
    "        fig.savefig(fig_path+spatial_unit +'_'+str(datetime.date.today())+'.pdf',bbox_inches='tight', dpi=600)\n",
    "    return"
   ]
  },
  {
   "cell_type": "markdown",
   "metadata": {},
   "source": [
    "# Calibration on first wave"
   ]
  },
  {
   "cell_type": "code",
   "execution_count": 10,
   "metadata": {
    "ExecuteTime": {
     "end_time": "2020-12-04T18:08:20.303747Z",
     "start_time": "2020-12-04T18:08:20.233498Z"
    }
   },
   "outputs": [],
   "source": [
    "## First wave\n",
    "start_date = '2020-03-15'\n",
    "end_beta = '2020-03-25'\n",
    "end_ramp = '2020-05-23'#'2020-05-23'"
   ]
  },
  {
   "cell_type": "code",
   "execution_count": 11,
   "metadata": {
    "ExecuteTime": {
     "end_time": "2020-12-04T18:08:20.476963Z",
     "start_time": "2020-12-04T18:08:20.409148Z"
    }
   },
   "outputs": [
    {
     "data": {
      "text/plain": [
       "11"
      ]
     },
     "execution_count": 11,
     "metadata": {},
     "output_type": "execute_result"
    }
   ],
   "source": [
    "len(Hainaut_ts.loc[start_date:end_beta])"
   ]
  },
  {
   "cell_type": "code",
   "execution_count": 12,
   "metadata": {
    "ExecuteTime": {
     "end_time": "2020-12-04T18:08:20.912516Z",
     "start_time": "2020-12-04T18:08:20.841697Z"
    }
   },
   "outputs": [
    {
     "data": {
      "text/plain": [
       "60"
      ]
     },
     "execution_count": 12,
     "metadata": {},
     "output_type": "execute_result"
    }
   ],
   "source": [
    "len(Hainaut_ts.loc[end_beta:end_ramp])"
   ]
  },
  {
   "cell_type": "code",
   "execution_count": 13,
   "metadata": {
    "ExecuteTime": {
     "end_time": "2020-12-04T18:08:21.239556Z",
     "start_time": "2020-12-04T18:08:21.160839Z"
    }
   },
   "outputs": [
    {
     "data": {
      "text/plain": [
       "'NEW_IN'"
      ]
     },
     "execution_count": 13,
     "metadata": {},
     "output_type": "execute_result"
    }
   ],
   "source": [
    "from multiprocessing import Pool\n",
    "Pool?"
   ]
  },
  {
   "cell_type": "code",
   "execution_count": 15,
   "metadata": {
    "ExecuteTime": {
     "end_time": "2020-12-04T18:08:40.791455Z",
     "start_time": "2020-12-04T18:08:37.000635Z"
    },
    "scrolled": true
   },
   "outputs": [
    {
     "name": "stdout",
     "output_type": "stream",
     "text": [
      "Using all but one logical processors\n",
      "\n",
      "---------------------------\n",
      "CALIBRATING BETA AND WARMUP\n",
      "---------------------------\n",
      "\n",
      "1) Particle swarm optimization\n",
      "\n",
      "No constraints given.\n"
     ]
    },
    {
     "ename": "ValueError",
     "evalue": "operands could not be broadcast together with shapes (68,) (1,11) ",
     "output_type": "error",
     "traceback": [
      "\u001b[1;31m---------------------------------------------------------------------------\u001b[0m",
      "\u001b[1;31mRemoteTraceback\u001b[0m                           Traceback (most recent call last)",
      "\u001b[1;31mRemoteTraceback\u001b[0m: \n\"\"\"\nTraceback (most recent call last):\n  File \"C:\\Anaconda3\\lib\\multiprocessing\\pool.py\", line 121, in worker\n    result = (True, func(*args, **kwds))\n  File \"C:\\Anaconda3\\lib\\multiprocessing\\pool.py\", line 44, in mapstar\n    return list(map(*args))\n  File \"c:\\users\\mrollier\\documents\\github\\covid19-model\\src\\covid19model\\optimization\\pso.py\", line 7, in _obj_wrapper\n    return func(x, *args, **kwargs)\n  File \"c:\\users\\mrollier\\documents\\github\\covid19-model\\src\\covid19model\\optimization\\objective_fcns.py\", line 172, in MLE\n    MLE = - np.sum(ymodel) - np.sum(ymodel*data)\nValueError: operands could not be broadcast together with shapes (68,) (1,11) \n\"\"\"",
      "\nThe above exception was the direct cause of the following exception:\n",
      "\u001b[1;31mValueError\u001b[0m                                Traceback (most recent call last)",
      "\u001b[1;32m<ipython-input-15-ac3e8104114a>\u001b[0m in \u001b[0;36m<module>\u001b[1;34m\u001b[0m\n\u001b[0;32m      4\u001b[0m                                 \u001b[0mfig_path\u001b[0m\u001b[1;33m=\u001b[0m\u001b[0mfig_path\u001b[0m\u001b[1;33m,\u001b[0m \u001b[0msamples_path\u001b[0m\u001b[1;33m=\u001b[0m\u001b[0msamples_path\u001b[0m\u001b[1;33m,\u001b[0m\u001b[1;33m\u001b[0m\u001b[1;33m\u001b[0m\u001b[0m\n\u001b[0;32m      5\u001b[0m                                 \u001b[0minitN\u001b[0m\u001b[1;33m=\u001b[0m\u001b[0minitN\u001b[0m\u001b[1;33m,\u001b[0m \u001b[0mNc_total\u001b[0m\u001b[1;33m=\u001b[0m\u001b[0mNc_total\u001b[0m\u001b[1;33m,\u001b[0m\u001b[1;33m\u001b[0m\u001b[1;33m\u001b[0m\u001b[0m\n\u001b[1;32m----> 6\u001b[1;33m                                 maxiter=100, popsize=500, steps_mcmc=1000)#popsize increased to 500\n\u001b[0m",
      "\u001b[1;32mc:\\users\\mrollier\\documents\\github\\covid19-model\\src\\covid19model\\optimization\\run_optimization.py\u001b[0m in \u001b[0;36mfull_calibration_wave1\u001b[1;34m(model, timeseries, spatial_unit, start_date, end_beta, end_ramp, fig_path, samples_path, initN, Nc_total, avg_window, dist, maxiter, popsize, steps_mcmc, discard, omega, phip, phig, processes)\u001b[0m\n\u001b[0;32m    418\u001b[0m     \u001b[1;32mif\u001b[0m \u001b[0mprocesses\u001b[0m \u001b[1;33m==\u001b[0m \u001b[1;33m-\u001b[0m\u001b[1;36m1\u001b[0m\u001b[1;33m:\u001b[0m\u001b[1;33m\u001b[0m\u001b[1;33m\u001b[0m\u001b[0m\n\u001b[0;32m    419\u001b[0m         theta = pso.fit_pso(model,data,parNames_pso,states,bounds_pso,maxiter=maxiter,popsize=popsize,\n\u001b[1;32m--> 420\u001b[1;33m                         start_date=start_date, omega=omega, phip=phip, phig=phig)\n\u001b[0m\u001b[0;32m    421\u001b[0m     \u001b[1;32melse\u001b[0m\u001b[1;33m:\u001b[0m\u001b[1;33m\u001b[0m\u001b[1;33m\u001b[0m\u001b[0m\n\u001b[0;32m    422\u001b[0m         theta = pso.fit_pso(model,data,parNames_pso,states,bounds_pso,maxiter=maxiter,popsize=popsize,\n",
      "\u001b[1;32mc:\\users\\mrollier\\documents\\github\\covid19-model\\src\\covid19model\\optimization\\pso.py\u001b[0m in \u001b[0;36mfit_pso\u001b[1;34m(model, data, parNames, states, bounds, draw_fcn, samples, start_date, warmup, disp, maxiter, popsize, processes, omega, phip, phig)\u001b[0m\n\u001b[0;32m    301\u001b[0m     \u001b[1;31m# Run pso algorithm on MLE objective function\u001b[0m\u001b[1;33m\u001b[0m\u001b[1;33m\u001b[0m\u001b[1;33m\u001b[0m\u001b[0m\n\u001b[0;32m    302\u001b[0m     \u001b[1;31m# -------------------------------------------\u001b[0m\u001b[1;33m\u001b[0m\u001b[1;33m\u001b[0m\u001b[1;33m\u001b[0m\u001b[0m\n\u001b[1;32m--> 303\u001b[1;33m     \u001b[0mp_hat\u001b[0m\u001b[1;33m,\u001b[0m \u001b[0mobj_fun_val\u001b[0m\u001b[1;33m,\u001b[0m \u001b[0mpars_final_swarm\u001b[0m\u001b[1;33m,\u001b[0m \u001b[0mobj_fun_val_final_swarm\u001b[0m \u001b[1;33m=\u001b[0m \u001b[0moptim\u001b[0m\u001b[1;33m(\u001b[0m\u001b[0mobjective_fcns\u001b[0m\u001b[1;33m.\u001b[0m\u001b[0mMLE\u001b[0m\u001b[1;33m,\u001b[0m \u001b[0mbounds\u001b[0m\u001b[1;33m,\u001b[0m \u001b[0margs\u001b[0m\u001b[1;33m=\u001b[0m\u001b[1;33m(\u001b[0m\u001b[0mmodel\u001b[0m\u001b[1;33m,\u001b[0m\u001b[0mdata\u001b[0m\u001b[1;33m,\u001b[0m\u001b[0mstates\u001b[0m\u001b[1;33m,\u001b[0m\u001b[0mparNames\u001b[0m\u001b[1;33m,\u001b[0m\u001b[0mdraw_fcn\u001b[0m\u001b[1;33m,\u001b[0m\u001b[0msamples\u001b[0m\u001b[1;33m,\u001b[0m \u001b[0mstart_date\u001b[0m\u001b[1;33m,\u001b[0m \u001b[0mwarmup\u001b[0m\u001b[1;33m)\u001b[0m\u001b[1;33m,\u001b[0m \u001b[0mswarmsize\u001b[0m\u001b[1;33m=\u001b[0m\u001b[0mpopsize\u001b[0m\u001b[1;33m,\u001b[0m \u001b[0mmaxiter\u001b[0m\u001b[1;33m=\u001b[0m\u001b[0mmaxiter\u001b[0m\u001b[1;33m,\u001b[0m \u001b[0mprocesses\u001b[0m\u001b[1;33m=\u001b[0m\u001b[0mprocesses\u001b[0m\u001b[1;33m,\u001b[0m\u001b[0mminfunc\u001b[0m\u001b[1;33m=\u001b[0m\u001b[1;36m1e-9\u001b[0m\u001b[1;33m,\u001b[0m \u001b[0mminstep\u001b[0m\u001b[1;33m=\u001b[0m\u001b[1;36m1e-9\u001b[0m\u001b[1;33m,\u001b[0m\u001b[0mdebug\u001b[0m\u001b[1;33m=\u001b[0m\u001b[1;32mTrue\u001b[0m\u001b[1;33m,\u001b[0m \u001b[0mparticle_output\u001b[0m\u001b[1;33m=\u001b[0m\u001b[1;32mTrue\u001b[0m\u001b[1;33m,\u001b[0m \u001b[0momega\u001b[0m\u001b[1;33m=\u001b[0m\u001b[0momega\u001b[0m\u001b[1;33m,\u001b[0m \u001b[0mphip\u001b[0m\u001b[1;33m=\u001b[0m\u001b[0mphip\u001b[0m\u001b[1;33m,\u001b[0m \u001b[0mphig\u001b[0m\u001b[1;33m=\u001b[0m\u001b[0mphig\u001b[0m\u001b[1;33m)\u001b[0m\u001b[1;33m\u001b[0m\u001b[1;33m\u001b[0m\u001b[0m\n\u001b[0m\u001b[0;32m    304\u001b[0m     \u001b[0mtheta_hat\u001b[0m \u001b[1;33m=\u001b[0m \u001b[0mp_hat\u001b[0m\u001b[1;33m\u001b[0m\u001b[1;33m\u001b[0m\u001b[0m\n\u001b[0;32m    305\u001b[0m \u001b[1;33m\u001b[0m\u001b[0m\n",
      "\u001b[1;32mc:\\users\\mrollier\\documents\\github\\covid19-model\\src\\covid19model\\optimization\\pso.py\u001b[0m in \u001b[0;36moptim\u001b[1;34m(func, bounds, ieqcons, f_ieqcons, args, kwargs, swarmsize, omega, phip, phig, maxiter, minstep, minfunc, debug, processes, particle_output, transform_pars)\u001b[0m\n\u001b[0;32m    157\u001b[0m     \u001b[1;31m# Calculate objective and constraints for each particle\u001b[0m\u001b[1;33m\u001b[0m\u001b[1;33m\u001b[0m\u001b[1;33m\u001b[0m\u001b[0m\n\u001b[0;32m    158\u001b[0m     \u001b[1;32mif\u001b[0m \u001b[0mprocesses\u001b[0m \u001b[1;33m>\u001b[0m \u001b[1;36m1\u001b[0m\u001b[1;33m:\u001b[0m\u001b[1;33m\u001b[0m\u001b[1;33m\u001b[0m\u001b[0m\n\u001b[1;32m--> 159\u001b[1;33m         \u001b[0mfx\u001b[0m \u001b[1;33m=\u001b[0m \u001b[0mnp\u001b[0m\u001b[1;33m.\u001b[0m\u001b[0marray\u001b[0m\u001b[1;33m(\u001b[0m\u001b[0mmp_pool\u001b[0m\u001b[1;33m.\u001b[0m\u001b[0mmap\u001b[0m\u001b[1;33m(\u001b[0m\u001b[0mobj\u001b[0m\u001b[1;33m,\u001b[0m \u001b[0mx\u001b[0m\u001b[1;33m)\u001b[0m\u001b[1;33m)\u001b[0m\u001b[1;33m\u001b[0m\u001b[1;33m\u001b[0m\u001b[0m\n\u001b[0m\u001b[0;32m    160\u001b[0m         \u001b[0mfs\u001b[0m \u001b[1;33m=\u001b[0m \u001b[0mnp\u001b[0m\u001b[1;33m.\u001b[0m\u001b[0marray\u001b[0m\u001b[1;33m(\u001b[0m\u001b[0mmp_pool\u001b[0m\u001b[1;33m.\u001b[0m\u001b[0mmap\u001b[0m\u001b[1;33m(\u001b[0m\u001b[0mis_feasible\u001b[0m\u001b[1;33m,\u001b[0m \u001b[0mx\u001b[0m\u001b[1;33m)\u001b[0m\u001b[1;33m)\u001b[0m\u001b[1;33m\u001b[0m\u001b[1;33m\u001b[0m\u001b[0m\n\u001b[0;32m    161\u001b[0m     \u001b[1;32melse\u001b[0m\u001b[1;33m:\u001b[0m\u001b[1;33m\u001b[0m\u001b[1;33m\u001b[0m\u001b[0m\n",
      "\u001b[1;32mC:\\Anaconda3\\lib\\multiprocessing\\pool.py\u001b[0m in \u001b[0;36mmap\u001b[1;34m(self, func, iterable, chunksize)\u001b[0m\n\u001b[0;32m    266\u001b[0m         \u001b[1;32min\u001b[0m \u001b[0ma\u001b[0m \u001b[0mlist\u001b[0m \u001b[0mthat\u001b[0m \u001b[1;32mis\u001b[0m \u001b[0mreturned\u001b[0m\u001b[1;33m.\u001b[0m\u001b[1;33m\u001b[0m\u001b[1;33m\u001b[0m\u001b[0m\n\u001b[0;32m    267\u001b[0m         '''\n\u001b[1;32m--> 268\u001b[1;33m         \u001b[1;32mreturn\u001b[0m \u001b[0mself\u001b[0m\u001b[1;33m.\u001b[0m\u001b[0m_map_async\u001b[0m\u001b[1;33m(\u001b[0m\u001b[0mfunc\u001b[0m\u001b[1;33m,\u001b[0m \u001b[0miterable\u001b[0m\u001b[1;33m,\u001b[0m \u001b[0mmapstar\u001b[0m\u001b[1;33m,\u001b[0m \u001b[0mchunksize\u001b[0m\u001b[1;33m)\u001b[0m\u001b[1;33m.\u001b[0m\u001b[0mget\u001b[0m\u001b[1;33m(\u001b[0m\u001b[1;33m)\u001b[0m\u001b[1;33m\u001b[0m\u001b[1;33m\u001b[0m\u001b[0m\n\u001b[0m\u001b[0;32m    269\u001b[0m \u001b[1;33m\u001b[0m\u001b[0m\n\u001b[0;32m    270\u001b[0m     \u001b[1;32mdef\u001b[0m \u001b[0mstarmap\u001b[0m\u001b[1;33m(\u001b[0m\u001b[0mself\u001b[0m\u001b[1;33m,\u001b[0m \u001b[0mfunc\u001b[0m\u001b[1;33m,\u001b[0m \u001b[0miterable\u001b[0m\u001b[1;33m,\u001b[0m \u001b[0mchunksize\u001b[0m\u001b[1;33m=\u001b[0m\u001b[1;32mNone\u001b[0m\u001b[1;33m)\u001b[0m\u001b[1;33m:\u001b[0m\u001b[1;33m\u001b[0m\u001b[1;33m\u001b[0m\u001b[0m\n",
      "\u001b[1;32mC:\\Anaconda3\\lib\\multiprocessing\\pool.py\u001b[0m in \u001b[0;36mget\u001b[1;34m(self, timeout)\u001b[0m\n\u001b[0;32m    655\u001b[0m             \u001b[1;32mreturn\u001b[0m \u001b[0mself\u001b[0m\u001b[1;33m.\u001b[0m\u001b[0m_value\u001b[0m\u001b[1;33m\u001b[0m\u001b[1;33m\u001b[0m\u001b[0m\n\u001b[0;32m    656\u001b[0m         \u001b[1;32melse\u001b[0m\u001b[1;33m:\u001b[0m\u001b[1;33m\u001b[0m\u001b[1;33m\u001b[0m\u001b[0m\n\u001b[1;32m--> 657\u001b[1;33m             \u001b[1;32mraise\u001b[0m \u001b[0mself\u001b[0m\u001b[1;33m.\u001b[0m\u001b[0m_value\u001b[0m\u001b[1;33m\u001b[0m\u001b[1;33m\u001b[0m\u001b[0m\n\u001b[0m\u001b[0;32m    658\u001b[0m \u001b[1;33m\u001b[0m\u001b[0m\n\u001b[0;32m    659\u001b[0m     \u001b[1;32mdef\u001b[0m \u001b[0m_set\u001b[0m\u001b[1;33m(\u001b[0m\u001b[0mself\u001b[0m\u001b[1;33m,\u001b[0m \u001b[0mi\u001b[0m\u001b[1;33m,\u001b[0m \u001b[0mobj\u001b[0m\u001b[1;33m)\u001b[0m\u001b[1;33m:\u001b[0m\u001b[1;33m\u001b[0m\u001b[1;33m\u001b[0m\u001b[0m\n",
      "\u001b[1;31mValueError\u001b[0m: operands could not be broadcast together with shapes (68,) (1,11) "
     ]
    }
   ],
   "source": [
    "spatial_unit = 'test_delete-me'\n",
    "\n",
    "samples_dict = full_calibration_wave1(model_wave1, timeseries_H_in_hainaut, spatial_unit, start_date, end_beta, end_ramp, \n",
    "                                fig_path=fig_path, samples_path=samples_path,\n",
    "                                initN=initN, Nc_total=Nc_total,\n",
    "                                maxiter=100, popsize=500, steps_mcmc=1000)#popsize increased to 500"
   ]
  },
  {
   "cell_type": "code",
   "execution_count": null,
   "metadata": {
    "ExecuteTime": {
     "end_time": "2020-11-06T07:32:49.416956Z",
     "start_time": "2020-11-06T07:32:49.147890Z"
    }
   },
   "outputs": [],
   "source": [
    "fig, ax = plt.subplots()\n",
    "pd.Series(samples_dict['beta']).hist(ax=ax)"
   ]
  },
  {
   "cell_type": "code",
   "execution_count": null,
   "metadata": {
    "ExecuteTime": {
     "end_time": "2020-11-06T07:32:54.713111Z",
     "start_time": "2020-11-06T07:32:54.674561Z"
    }
   },
   "outputs": [],
   "source": [
    "samples_dict['warmup']"
   ]
  },
  {
   "cell_type": "code",
   "execution_count": null,
   "metadata": {
    "ExecuteTime": {
     "end_time": "2020-11-06T07:34:10.053322Z",
     "start_time": "2020-11-06T07:33:27.521983Z"
    },
    "scrolled": false
   },
   "outputs": [],
   "source": [
    "end_date = '2020-09-01'\n",
    "plot_simulations(start_date, end_ramp, end_date, model_wave1, samples_dict, \n",
    "                timeseries, spatial_unit, n_lines=100, save=True)"
   ]
  },
  {
   "cell_type": "markdown",
   "metadata": {
    "heading_collapsed": true
   },
   "source": [
    "# Step-by-step calibration"
   ]
  },
  {
   "cell_type": "markdown",
   "metadata": {
    "hidden": true
   },
   "source": [
    "## Simulation until 1 July"
   ]
  },
  {
   "cell_type": "code",
   "execution_count": null,
   "metadata": {
    "ExecuteTime": {
     "end_time": "2020-11-04T07:19:16.150131Z",
     "start_time": "2020-11-04T07:19:16.060356Z"
    },
    "hidden": true
   },
   "outputs": [],
   "source": [
    "# Load the dictionary containing the posterior parameter distributions obtained from calibrating the model to Belgian hospitalization data\n",
    "with open('../data/interim/model_parameters/provinces/Hainaut_wave1_2020-11-03.json', 'r') as fp:\n",
    "    samples_dict_wave1 = json.load(fp)"
   ]
  },
  {
   "cell_type": "code",
   "execution_count": null,
   "metadata": {
    "ExecuteTime": {
     "end_time": "2020-11-04T07:19:22.820625Z",
     "start_time": "2020-11-04T07:19:22.771179Z"
    },
    "hidden": true
   },
   "outputs": [],
   "source": [
    "samples_dict = samples_dict_wave1"
   ]
  },
  {
   "cell_type": "code",
   "execution_count": null,
   "metadata": {
    "ExecuteTime": {
     "end_time": "2020-11-03T08:39:39.983397Z",
     "start_time": "2020-11-03T08:39:39.883194Z"
    },
    "hidden": true
   },
   "outputs": [],
   "source": [
    "fig, ax = plt.subplots()\n",
    "pd.Series(samples_dict_wave1['beta']).hist(ax=ax)"
   ]
  },
  {
   "cell_type": "code",
   "execution_count": null,
   "metadata": {
    "ExecuteTime": {
     "end_time": "2020-11-03T07:52:44.577607Z",
     "start_time": "2020-11-03T07:52:44.535637Z"
    },
    "hidden": true
   },
   "outputs": [],
   "source": [
    "np.mean(samples_dict_wave1['beta'])"
   ]
  },
  {
   "cell_type": "code",
   "execution_count": null,
   "metadata": {
    "ExecuteTime": {
     "end_time": "2020-11-03T08:04:29.763619Z",
     "start_time": "2020-11-03T08:04:29.707048Z"
    },
    "hidden": true
   },
   "outputs": [],
   "source": [
    "samples_dict_wave1['lag_time']"
   ]
  },
  {
   "cell_type": "code",
   "execution_count": null,
   "metadata": {
    "ExecuteTime": {
     "end_time": "2020-10-30T16:46:49.392786Z",
     "start_time": "2020-10-30T16:46:49.356002Z"
    },
    "hidden": true
   },
   "outputs": [],
   "source": [
    "# Update this parameter here, the rest is updated by draw_sample_COVID19_SEIRD\n",
    "model.parameters['policy_time'] = samples_dict_wave1['lag_time']"
   ]
  },
  {
   "cell_type": "code",
   "execution_count": null,
   "metadata": {
    "ExecuteTime": {
     "end_time": "2020-10-30T16:47:19.255536Z",
     "start_time": "2020-10-30T16:46:49.918556Z"
    },
    "hidden": true
   },
   "outputs": [],
   "source": [
    "out_july = model.sim(time='2020-07-01', excess_time=samples_dict_wave1['lag_time'],start_date='2020-03-15',\n",
    "                   N=100, draw_fcn=draw_sample_COVID19_SEIRD,samples=samples_dict_wave1)\n",
    "states = out_july.isel(time=-1).mean(dim=\"draws\")\n",
    "initial_states_july1 = {key:states[key].values for key in initial_states.keys()}"
   ]
  },
  {
   "cell_type": "code",
   "execution_count": null,
   "metadata": {
    "ExecuteTime": {
     "end_time": "2020-10-30T16:56:35.394679Z",
     "start_time": "2020-10-30T16:56:35.351424Z"
    },
    "hidden": true
   },
   "outputs": [],
   "source": [
    "np.save('../data/interim/prediction_provinces/Luik_initial_states_july1.npy', initial_states_july1)"
   ]
  },
  {
   "cell_type": "markdown",
   "metadata": {
    "hidden": true
   },
   "source": [
    "## Calibration month July"
   ]
  },
  {
   "cell_type": "code",
   "execution_count": null,
   "metadata": {
    "ExecuteTime": {
     "end_time": "2020-10-30T16:56:33.278642Z",
     "start_time": "2020-10-30T16:56:33.224878Z"
    },
    "hidden": true
   },
   "outputs": [],
   "source": [
    "initial_states_july1 = np.load('../data/interim/prediction_provinces/Luik_initial_states_july1.npy', allow_pickle=True).item()"
   ]
  },
  {
   "cell_type": "code",
   "execution_count": null,
   "metadata": {
    "ExecuteTime": {
     "end_time": "2020-10-30T16:48:17.210748Z",
     "start_time": "2020-10-30T16:48:17.160083Z"
    },
    "hidden": true
   },
   "outputs": [],
   "source": [
    "# Second wave\n",
    "start_date = '2020-07-01'\n",
    "end_beta = '2020-08-01'"
   ]
  },
  {
   "cell_type": "code",
   "execution_count": null,
   "metadata": {
    "ExecuteTime": {
     "end_time": "2020-10-30T16:48:18.968763Z",
     "start_time": "2020-10-30T16:48:18.919319Z"
    },
    "hidden": true
   },
   "outputs": [],
   "source": [
    "len(Luik_ts.loc[start_date:end_beta])"
   ]
  },
  {
   "cell_type": "code",
   "execution_count": null,
   "metadata": {
    "ExecuteTime": {
     "end_time": "2020-10-30T16:48:20.509851Z",
     "start_time": "2020-10-30T16:48:20.188149Z"
    },
    "hidden": true
   },
   "outputs": [],
   "source": [
    "# Load the parameters using `get_COVID19_SEIRD_parameters()`.\n",
    "params = model_parameters.get_COVID19_SEIRD_parameters()\n",
    "#model_sept = models.COVID19_SEIRD(initial_states_sept, params)\n",
    "model_july = models.COVID19_SEIRD(initial_states_july1, params)"
   ]
  },
  {
   "cell_type": "code",
   "execution_count": null,
   "metadata": {
    "ExecuteTime": {
     "end_time": "2020-10-30T16:48:20.699738Z",
     "start_time": "2020-10-30T16:48:20.663234Z"
    },
    "hidden": true
   },
   "outputs": [],
   "source": [
    "# function parameters \n",
    "timeseries = Luik_ts['NEW_IN']\n",
    "spatial_unit = 'Luik_July'"
   ]
  },
  {
   "cell_type": "code",
   "execution_count": null,
   "metadata": {
    "ExecuteTime": {
     "end_time": "2020-10-30T16:48:22.470225Z",
     "start_time": "2020-10-30T16:48:22.432509Z"
    },
    "hidden": true
   },
   "outputs": [],
   "source": [
    "beta_init = np.mean(samples_dict_wave1['beta'])\n",
    "sigma_data_init = np.mean(samples_dict_wave1['sigma_data'])"
   ]
  },
  {
   "cell_type": "code",
   "execution_count": null,
   "metadata": {
    "ExecuteTime": {
     "end_time": "2020-10-30T16:51:21.133944Z",
     "start_time": "2020-10-30T16:48:26.896155Z"
    },
    "hidden": true,
    "scrolled": true
   },
   "outputs": [],
   "source": [
    "samples_dict = full_calibration_wave2(model_july, timeseries, spatial_unit, start_date, end_beta, \n",
    "                                      beta_init, sigma_data_init, None,None,\n",
    "                                      fig_path=fig_path, samples_path=samples_path,\n",
    "                                      initN=initN, Nc_total=Nc_total,steps_mcmc=1000)"
   ]
  },
  {
   "cell_type": "code",
   "execution_count": null,
   "metadata": {
    "ExecuteTime": {
     "end_time": "2020-10-30T16:52:49.951381Z",
     "start_time": "2020-10-30T16:52:49.843952Z"
    },
    "hidden": true,
    "scrolled": false
   },
   "outputs": [],
   "source": [
    "fig,ax = plt.subplots(figsize=(4,4))\n",
    "pd.Series(samples_dict['beta']).hist(ax=ax)"
   ]
  },
  {
   "cell_type": "code",
   "execution_count": null,
   "metadata": {
    "ExecuteTime": {
     "end_time": "2020-10-30T16:55:10.441581Z",
     "start_time": "2020-10-30T16:54:47.961115Z"
    },
    "hidden": true
   },
   "outputs": [],
   "source": [
    "states = [['H_in']]\n",
    "end_date = end_beta\n",
    "data=[timeseries[start_date:end_beta].values]\n",
    "\n",
    "fig,ax=plt.subplots(figsize=(8,8))\n",
    "for i in range(200):\n",
    "    idx,model_july.parameters['beta'] = random.choice(list(enumerate(samples_dict['beta'])))\n",
    "    y_model = model_july.sim(time=end_date, excess_time=0, start_date=start_date)\n",
    "    ax = plot_fit(y_model,data,start_date,lag_time=0,states=states,end_date=end_date,\n",
    "                  with_ints=False,ax=ax,plt_kwargs={'color':'blue','linewidth': 2,'alpha': 0.05})\n",
    "plt.setp(plt.gca().xaxis.get_majorticklabels(),'rotation', 0)\n",
    "#data_after_calib = timeseries[pd.to_datetime(end_ramp)+pd.to_timedelta('1d'):end_date]\n",
    "#plt.scatter(data_after_calib.index, data_after_calib.values, marker='o',color='red',linestyle='None',facecolors='none')\n",
    "legend_text=['daily \\nhospitalizations']\n",
    "ax.set_xlim(start_date, end_date)\n",
    "ax.set_ylabel('daily hospitalizations')\n",
    "fig.savefig(fig_path+spatial_unit+'.pdf',\n",
    "            bbox_inches='tight', dpi=600)"
   ]
  },
  {
   "cell_type": "markdown",
   "metadata": {
    "hidden": true
   },
   "source": [
    "## Simulation until 1 August"
   ]
  },
  {
   "cell_type": "code",
   "execution_count": null,
   "metadata": {
    "ExecuteTime": {
     "end_time": "2020-10-30T16:57:18.704357Z",
     "start_time": "2020-10-30T16:57:18.651429Z"
    },
    "hidden": true
   },
   "outputs": [],
   "source": [
    "# Load the dictionary containing the posterior parameter distributions obtained from calibrating the model to Belgian hospitalization data\n",
    "with open('../data/interim/model_parameters/provinces/Luik_July_2020-10-30.json', 'r') as fp:\n",
    "    samples_dict_july = json.load(fp)"
   ]
  },
  {
   "cell_type": "code",
   "execution_count": null,
   "metadata": {
    "ExecuteTime": {
     "end_time": "2020-10-30T16:46:49.392786Z",
     "start_time": "2020-10-30T16:46:49.356002Z"
    },
    "hidden": true
   },
   "outputs": [],
   "source": [
    "# Update this parameter here, the rest is updated by draw_sample_COVID19_SEIRD\n",
    "# model.parameters['policy_time'] = samples_dict_wave1['lag_time']"
   ]
  },
  {
   "cell_type": "code",
   "execution_count": null,
   "metadata": {
    "ExecuteTime": {
     "end_time": "2020-10-30T17:01:08.718045Z",
     "start_time": "2020-10-30T17:01:03.129460Z"
    },
    "hidden": true
   },
   "outputs": [],
   "source": [
    "out_aug = model_july.sim(time='2020-08-01', excess_time=0,start_date='2020-07-01',\n",
    "                   N=100, draw_fcn=draw_sample_beta_COVID19_SEIRD,samples=samples_dict_july)\n",
    "states = out_aug.isel(time=-1).mean(dim=\"draws\")\n",
    "initial_states_aug1 = {key:states[key].values for key in initial_states.keys()}"
   ]
  },
  {
   "cell_type": "code",
   "execution_count": null,
   "metadata": {
    "ExecuteTime": {
     "end_time": "2020-10-30T17:01:31.713350Z",
     "start_time": "2020-10-30T17:01:31.672096Z"
    },
    "hidden": true
   },
   "outputs": [],
   "source": [
    "np.save('../data/interim/prediction_provinces/Luik_initial_states_aug1.npy', initial_states_aug1)"
   ]
  },
  {
   "cell_type": "markdown",
   "metadata": {
    "hidden": true
   },
   "source": [
    "## Calibration month August"
   ]
  },
  {
   "cell_type": "code",
   "execution_count": null,
   "metadata": {
    "ExecuteTime": {
     "end_time": "2020-10-30T17:02:03.014165Z",
     "start_time": "2020-10-30T17:02:02.815531Z"
    },
    "hidden": true
   },
   "outputs": [],
   "source": [
    "initial_states_aug1 = np.load('../data/interim/prediction_provinces/Luik_initial_states_aug1.npy', allow_pickle=True).item()"
   ]
  },
  {
   "cell_type": "code",
   "execution_count": null,
   "metadata": {
    "ExecuteTime": {
     "end_time": "2020-10-30T17:02:09.305370Z",
     "start_time": "2020-10-30T17:02:09.267629Z"
    },
    "hidden": true
   },
   "outputs": [],
   "source": [
    "# Second wave\n",
    "start_date = '2020-08-01'\n",
    "end_beta = '2020-09-01'"
   ]
  },
  {
   "cell_type": "code",
   "execution_count": null,
   "metadata": {
    "ExecuteTime": {
     "end_time": "2020-10-30T17:02:09.879670Z",
     "start_time": "2020-10-30T17:02:09.837543Z"
    },
    "hidden": true
   },
   "outputs": [],
   "source": [
    "len(Luik_ts.loc[start_date:end_beta])"
   ]
  },
  {
   "cell_type": "code",
   "execution_count": null,
   "metadata": {
    "ExecuteTime": {
     "end_time": "2020-10-30T17:02:20.592714Z",
     "start_time": "2020-10-30T17:02:20.259567Z"
    },
    "hidden": true
   },
   "outputs": [],
   "source": [
    "# Load the parameters using `get_COVID19_SEIRD_parameters()`.\n",
    "params = model_parameters.get_COVID19_SEIRD_parameters()\n",
    "#model_sept = models.COVID19_SEIRD(initial_states_sept, params)\n",
    "model_aug = models.COVID19_SEIRD(initial_states_aug1, params)"
   ]
  },
  {
   "cell_type": "code",
   "execution_count": null,
   "metadata": {
    "ExecuteTime": {
     "end_time": "2020-10-30T17:02:24.887844Z",
     "start_time": "2020-10-30T17:02:24.845045Z"
    },
    "hidden": true
   },
   "outputs": [],
   "source": [
    "# function parameters \n",
    "timeseries = Luik_ts['NEW_IN']\n",
    "spatial_unit = 'Luik_Aug'"
   ]
  },
  {
   "cell_type": "code",
   "execution_count": null,
   "metadata": {
    "ExecuteTime": {
     "end_time": "2020-10-30T17:06:53.236522Z",
     "start_time": "2020-10-30T17:06:53.197798Z"
    },
    "hidden": true
   },
   "outputs": [],
   "source": [
    "beta_init = np.mean(samples_dict_july['beta'])\n",
    "sigma_data_init = np.mean(samples_dict_wave1['sigma_data'])"
   ]
  },
  {
   "cell_type": "code",
   "execution_count": null,
   "metadata": {
    "ExecuteTime": {
     "end_time": "2020-10-30T17:07:09.535256Z",
     "start_time": "2020-10-30T17:07:09.493727Z"
    },
    "hidden": true
   },
   "outputs": [],
   "source": [
    "mu_beta, std_beta = norm.fit(samples_dict_july['beta'])\n",
    "mu_sigma_data, std_sigma_data = norm.fit(samples_dict_wave1['sigma_data']) # should be on july!\n",
    "beta_norm_params = (mu_beta, std_beta)\n",
    "sigma_data_norm_params = (mu_sigma_data, std_sigma_data)"
   ]
  },
  {
   "cell_type": "code",
   "execution_count": null,
   "metadata": {
    "ExecuteTime": {
     "end_time": "2020-10-30T17:45:38.944138Z",
     "start_time": "2020-10-30T17:42:39.898370Z"
    },
    "hidden": true
   },
   "outputs": [],
   "source": [
    "samples_dict = full_calibration_wave2(model_aug, timeseries, spatial_unit, start_date, end_beta, \n",
    "                                      beta_init, sigma_data_init, None, None,\n",
    "                                      fig_path=fig_path, samples_path=samples_path,\n",
    "                                      initN=initN, Nc_total=Nc_total,steps_mcmc=1000)"
   ]
  },
  {
   "cell_type": "code",
   "execution_count": null,
   "metadata": {
    "ExecuteTime": {
     "end_time": "2020-10-30T17:45:56.766698Z",
     "start_time": "2020-10-30T17:45:56.509328Z"
    },
    "hidden": true
   },
   "outputs": [],
   "source": [
    "fig,ax = plt.subplots(figsize=(4,4))\n",
    "pd.Series(samples_dict['beta']).hist(ax=ax)"
   ]
  },
  {
   "cell_type": "code",
   "execution_count": null,
   "metadata": {
    "ExecuteTime": {
     "end_time": "2020-10-30T17:49:01.217041Z",
     "start_time": "2020-10-30T17:48:58.606651Z"
    },
    "hidden": true
   },
   "outputs": [],
   "source": [
    "## Deze herrunnen!\n",
    "states = [['H_in']]\n",
    "end_date = end_beta\n",
    "data=[timeseries[start_date:end_beta].values]\n",
    "\n",
    "fig,ax=plt.subplots(figsize=(8,8))\n",
    "for i in range(20):\n",
    "    idx,model_aug.parameters['beta'] = random.choice(list(enumerate(samples_dict_aug['beta'])))\n",
    "    y_model = model_aug.sim(time=end_date, excess_time=0, start_date=start_date)\n",
    "    ax = plot_fit(y_model,data,start_date,lag_time=0,states=states,end_date=end_date,\n",
    "                  with_ints=False,ax=ax,plt_kwargs={'color':'blue','linewidth': 2,'alpha': 0.05})\n",
    "plt.setp(plt.gca().xaxis.get_majorticklabels(),'rotation', 0)\n",
    "#data_after_calib = timeseries[pd.to_datetime(end_ramp)+pd.to_timedelta('1d'):end_date]\n",
    "#plt.scatter(data_after_calib.index, data_after_calib.values, marker='o',color='red',linestyle='None',facecolors='none')\n",
    "legend_text=['daily \\nhospitalizations']\n",
    "ax.set_xlim(start_date, end_date)\n",
    "ax.set_ylabel('daily hospitalizations')\n",
    "# fig.savefig(fig_path+spatial_unit+'.pdf',\n",
    "#             bbox_inches='tight', dpi=600)"
   ]
  },
  {
   "cell_type": "code",
   "execution_count": null,
   "metadata": {
    "hidden": true
   },
   "outputs": [],
   "source": []
  },
  {
   "cell_type": "markdown",
   "metadata": {
    "hidden": true
   },
   "source": [
    "## Simulation until 1 September"
   ]
  },
  {
   "cell_type": "code",
   "execution_count": null,
   "metadata": {
    "ExecuteTime": {
     "end_time": "2020-10-30T17:51:15.869769Z",
     "start_time": "2020-10-30T17:51:15.655962Z"
    },
    "hidden": true
   },
   "outputs": [],
   "source": [
    "# Load the dictionary containing the posterior parameter distributions obtained from calibrating the model to Belgian hospitalization data\n",
    "with open('../data/interim/model_parameters/provinces/Luik_Aug_2020-10-30.json', 'r') as fp:\n",
    "    samples_dict_aug = json.load(fp)"
   ]
  },
  {
   "cell_type": "code",
   "execution_count": null,
   "metadata": {
    "ExecuteTime": {
     "end_time": "2020-10-30T16:46:49.392786Z",
     "start_time": "2020-10-30T16:46:49.356002Z"
    },
    "hidden": true
   },
   "outputs": [],
   "source": [
    "# Update this parameter here, the rest is updated by draw_sample_COVID19_SEIRD\n",
    "# model.parameters['policy_time'] = samples_dict_wave1['lag_time']"
   ]
  },
  {
   "cell_type": "code",
   "execution_count": null,
   "metadata": {
    "ExecuteTime": {
     "end_time": "2020-10-30T17:51:24.928761Z",
     "start_time": "2020-10-30T17:51:19.336448Z"
    },
    "hidden": true
   },
   "outputs": [],
   "source": [
    "out_sept = model_aug.sim(time='2020-09-01', excess_time=0,start_date='2020-08-01',\n",
    "                   N=100, draw_fcn=draw_sample_beta_COVID19_SEIRD,samples=samples_dict_aug)\n",
    "states = out_sept.isel(time=-1).mean(dim=\"draws\")\n",
    "initial_states_sept1 = {key:states[key].values for key in initial_states.keys()}"
   ]
  },
  {
   "cell_type": "code",
   "execution_count": null,
   "metadata": {
    "ExecuteTime": {
     "end_time": "2020-10-30T17:51:33.711786Z",
     "start_time": "2020-10-30T17:51:33.673224Z"
    },
    "hidden": true
   },
   "outputs": [],
   "source": [
    "np.save('../data/interim/prediction_provinces/Luik_initial_states_sept1.npy', initial_states_sept1)"
   ]
  },
  {
   "cell_type": "code",
   "execution_count": null,
   "metadata": {
    "ExecuteTime": {
     "end_time": "2020-10-30T17:51:25.318521Z",
     "start_time": "2020-10-30T17:51:25.271583Z"
    },
    "hidden": true
   },
   "outputs": [],
   "source": [
    "initial_states_sept1"
   ]
  },
  {
   "cell_type": "markdown",
   "metadata": {
    "hidden": true
   },
   "source": [
    "## Calibration month September"
   ]
  },
  {
   "cell_type": "code",
   "execution_count": null,
   "metadata": {
    "ExecuteTime": {
     "end_time": "2020-10-30T17:51:58.368440Z",
     "start_time": "2020-10-30T17:51:58.330641Z"
    },
    "hidden": true
   },
   "outputs": [],
   "source": [
    "initial_states_sept1 = np.load('../data/interim/prediction_provinces/Luik_initial_states_sept1.npy', allow_pickle=True).item()"
   ]
  },
  {
   "cell_type": "code",
   "execution_count": null,
   "metadata": {
    "ExecuteTime": {
     "end_time": "2020-10-30T17:52:06.817390Z",
     "start_time": "2020-10-30T17:52:06.780931Z"
    },
    "hidden": true
   },
   "outputs": [],
   "source": [
    "# Second wave\n",
    "start_date = '2020-09-01'\n",
    "end_beta = '2020-10-01'"
   ]
  },
  {
   "cell_type": "code",
   "execution_count": null,
   "metadata": {
    "ExecuteTime": {
     "end_time": "2020-10-30T17:52:08.496601Z",
     "start_time": "2020-10-30T17:52:08.455785Z"
    },
    "hidden": true
   },
   "outputs": [],
   "source": [
    "len(Luik_ts.loc[start_date:end_beta])"
   ]
  },
  {
   "cell_type": "code",
   "execution_count": null,
   "metadata": {
    "ExecuteTime": {
     "end_time": "2020-10-30T17:52:15.480377Z",
     "start_time": "2020-10-30T17:52:15.157707Z"
    },
    "hidden": true
   },
   "outputs": [],
   "source": [
    "# Load the parameters using `get_COVID19_SEIRD_parameters()`.\n",
    "params = model_parameters.get_COVID19_SEIRD_parameters()\n",
    "#model_sept = models.COVID19_SEIRD(initial_states_sept, params)\n",
    "model_sept = models.COVID19_SEIRD(initial_states_sept1, params)"
   ]
  },
  {
   "cell_type": "code",
   "execution_count": null,
   "metadata": {
    "ExecuteTime": {
     "end_time": "2020-10-30T17:52:18.721870Z",
     "start_time": "2020-10-30T17:52:18.524171Z"
    },
    "hidden": true
   },
   "outputs": [],
   "source": [
    "# function parameters \n",
    "timeseries = Luik_ts['NEW_IN']\n",
    "spatial_unit = 'Luik_Sept'"
   ]
  },
  {
   "cell_type": "code",
   "execution_count": null,
   "metadata": {
    "ExecuteTime": {
     "end_time": "2020-10-30T18:02:55.232222Z",
     "start_time": "2020-10-30T18:02:55.194458Z"
    },
    "hidden": true
   },
   "outputs": [],
   "source": [
    "beta_init = 0.03\n",
    "sigma_data_init = np.mean(samples_dict_wave1['sigma_data'])"
   ]
  },
  {
   "cell_type": "code",
   "execution_count": null,
   "metadata": {
    "ExecuteTime": {
     "end_time": "2020-10-30T17:52:31.456104Z",
     "start_time": "2020-10-30T17:52:31.416945Z"
    },
    "hidden": true
   },
   "outputs": [],
   "source": [
    "# mu_beta, std_beta = norm.fit(samples_dict_aug['beta'])\n",
    "# mu_sigma_data, std_sigma_data = norm.fit(samples_dict_wave1['sigma_data']) # should be on aug!\n",
    "# beta_norm_params = (mu_beta, std_beta)\n",
    "# sigma_data_norm_params = (mu_sigma_data, std_sigma_data)"
   ]
  },
  {
   "cell_type": "code",
   "execution_count": null,
   "metadata": {
    "ExecuteTime": {
     "end_time": "2020-10-30T18:06:18.300489Z",
     "start_time": "2020-10-30T18:02:59.457873Z"
    },
    "hidden": true
   },
   "outputs": [],
   "source": [
    "samples_dict = full_calibration_wave2(model_aug, timeseries, spatial_unit, start_date, end_beta, \n",
    "                                      beta_init, sigma_data_init, None, None,\n",
    "                                      fig_path=fig_path, samples_path=samples_path,\n",
    "                                      initN=initN, Nc_total=Nc_total,steps_mcmc=1000)"
   ]
  },
  {
   "cell_type": "code",
   "execution_count": null,
   "metadata": {
    "ExecuteTime": {
     "end_time": "2020-10-30T18:07:19.956638Z",
     "start_time": "2020-10-30T18:07:19.689726Z"
    },
    "hidden": true
   },
   "outputs": [],
   "source": [
    "fig,ax = plt.subplots(figsize=(4,4))\n",
    "pd.Series(samples_dict['beta']).hist(ax=ax)"
   ]
  },
  {
   "cell_type": "code",
   "execution_count": null,
   "metadata": {
    "ExecuteTime": {
     "end_time": "2020-10-30T18:07:28.841956Z",
     "start_time": "2020-10-30T18:07:25.461128Z"
    },
    "hidden": true
   },
   "outputs": [],
   "source": [
    "states = [['H_in']]\n",
    "end_date = end_beta\n",
    "data=[timeseries[start_date:end_beta].values]\n",
    "\n",
    "fig,ax=plt.subplots(figsize=(8,8))\n",
    "for i in range(20):\n",
    "    idx,model_sept.parameters['beta'] = random.choice(list(enumerate(samples_dict['beta'])))\n",
    "    y_model = model_sept.sim(time=end_date, excess_time=0, start_date=start_date)\n",
    "    ax = plot_fit(y_model,data,start_date,lag_time=0,states=states,end_date=end_date,\n",
    "                  with_ints=False,ax=ax,plt_kwargs={'color':'blue','linewidth': 2,'alpha': 0.05})\n",
    "plt.setp(plt.gca().xaxis.get_majorticklabels(),'rotation', 0)\n",
    "#data_after_calib = timeseries[pd.to_datetime(end_ramp)+pd.to_timedelta('1d'):end_date]\n",
    "#plt.scatter(data_after_calib.index, data_after_calib.values, marker='o',color='red',linestyle='None',facecolors='none')\n",
    "legend_text=['daily \\nhospitalizations']\n",
    "ax.set_xlim(start_date, end_date)\n",
    "ax.set_ylabel('daily hospitalizations')\n",
    "fig.savefig(fig_path+spatial_unit+'.pdf',\n",
    "            bbox_inches='tight', dpi=600)"
   ]
  },
  {
   "cell_type": "markdown",
   "metadata": {
    "heading_collapsed": true
   },
   "source": [
    "# Calibration on October"
   ]
  },
  {
   "cell_type": "markdown",
   "metadata": {
    "hidden": true
   },
   "source": [
    "## Simulation until end September"
   ]
  },
  {
   "cell_type": "code",
   "execution_count": null,
   "metadata": {
    "ExecuteTime": {
     "end_time": "2020-11-04T12:37:57.965760Z",
     "start_time": "2020-11-04T12:37:57.898046Z"
    },
    "hidden": true
   },
   "outputs": [],
   "source": [
    "# Load the dictionary containing the posterior parameter distributions obtained from calibrating the model to Belgian hospitalization data\n",
    "with open('../data/interim/model_parameters/provinces/Hainaut_wave1_2020-11-03.json', 'r') as fp:\n",
    "    samples_dict_wave1 = json.load(fp)"
   ]
  },
  {
   "cell_type": "code",
   "execution_count": null,
   "metadata": {
    "ExecuteTime": {
     "end_time": "2020-11-04T09:16:21.094032Z",
     "start_time": "2020-11-04T09:15:58.236100Z"
    },
    "hidden": true,
    "scrolled": false
   },
   "outputs": [],
   "source": [
    "states = [['H_in']]\n",
    "end_date = '2020-09-28'\n",
    "data=[timeseries[start_date:end_ramp].values]\n",
    "\n",
    "fig,ax=plt.subplots()\n",
    "for i in range(20):\n",
    "    idx,model.parameters['beta'] = random.choice(list(enumerate(samples_dict_wave1['beta'])))\n",
    "    idx,model.parameters['l'] = random.choice(list(enumerate(samples_dict_wave1['l'])))\n",
    "    model.parameters['tau'] = samples_dict_wave1['tau'][idx]\n",
    "    model.parameters['policy_time'] = samples_dict_wave1['warmup']\n",
    "    model.parameters['prevention'] = samples_dict_wave1['prevention'][idx]\n",
    "    y_model = model.sim(time=end_date, excess_time=samples_dict_wave1['warmup'], start_date=start_date)\n",
    "    ax = plot_fit(y_model,data,start_date,samples_dict_wave1['warmup'],states,end_date=end_date,with_ints=False,ax=ax,plt_kwargs={'color':'blue','linewidth': 2,'alpha': 0.05})\n",
    "\n",
    "data_after_calib = timeseries[pd.to_datetime(end_ramp)+pd.to_timedelta('1d'):end_date]\n",
    "plt.scatter(data_after_calib.index, data_after_calib.values, marker='o',color='red',linestyle='None',facecolors='none')\n",
    "legend_text=['daily \\nhospitalizations']\n",
    "ax.set_xlim('2020-03-10', end_date)"
   ]
  },
  {
   "cell_type": "code",
   "execution_count": null,
   "metadata": {
    "ExecuteTime": {
     "end_time": "2020-11-04T07:23:51.371705Z",
     "start_time": "2020-11-04T07:23:19.644810Z"
    },
    "hidden": true
   },
   "outputs": [],
   "source": [
    "out_sept28 = model.sim(time='2020-09-28', excess_time=samples_dict_wave1['warmup'],start_date='2020-03-15',\n",
    "                   N=10, draw_fcn=draw_sample_COVID19_SEIRD,samples=samples_dict_wave1)\n",
    "states = out_sept28.isel(time=-1).mean(dim=\"draws\")\n",
    "initial_states_sept28 = {key:states[key].values for key in initial_states.keys()}"
   ]
  },
  {
   "cell_type": "code",
   "execution_count": null,
   "metadata": {
    "ExecuteTime": {
     "end_time": "2020-11-04T07:25:25.232184Z",
     "start_time": "2020-11-04T07:24:44.939509Z"
    },
    "hidden": true
   },
   "outputs": [],
   "source": [
    "out_sept28.isel(time=-1).mean(dim=\"draws\")"
   ]
  },
  {
   "cell_type": "code",
   "execution_count": null,
   "metadata": {
    "ExecuteTime": {
     "end_time": "2020-11-03T12:22:51.354146Z",
     "start_time": "2020-11-03T12:22:51.148133Z"
    },
    "hidden": true
   },
   "outputs": [],
   "source": [
    "np.save('../data/interim/prediction_provinces/Hainaut_initial_states_Sept28.npy', initial_states_sept28)"
   ]
  },
  {
   "cell_type": "markdown",
   "metadata": {
    "hidden": true
   },
   "source": [
    "## Calibration starting September 28"
   ]
  },
  {
   "cell_type": "code",
   "execution_count": null,
   "metadata": {
    "ExecuteTime": {
     "end_time": "2020-11-04T07:21:16.761589Z",
     "start_time": "2020-11-04T07:21:16.550870Z"
    },
    "hidden": true
   },
   "outputs": [],
   "source": [
    "initial_states_sept28 = np.load('../data/interim/prediction_provinces/Hainaut_initial_states_Sept28.npy', allow_pickle=True).item()"
   ]
  },
  {
   "cell_type": "code",
   "execution_count": null,
   "metadata": {
    "ExecuteTime": {
     "end_time": "2020-11-04T07:21:20.147849Z",
     "start_time": "2020-11-04T07:21:20.100278Z"
    },
    "hidden": true
   },
   "outputs": [],
   "source": [
    "initial_states_sept28"
   ]
  },
  {
   "cell_type": "code",
   "execution_count": null,
   "metadata": {
    "ExecuteTime": {
     "end_time": "2020-11-03T12:28:56.548419Z",
     "start_time": "2020-11-03T12:28:56.512449Z"
    },
    "hidden": true
   },
   "outputs": [],
   "source": [
    "# Second wave\n",
    "start_date = '2020-09-28'\n",
    "end_beta = '2020-10-30'"
   ]
  },
  {
   "cell_type": "code",
   "execution_count": null,
   "metadata": {
    "ExecuteTime": {
     "end_time": "2020-11-03T12:28:57.818586Z",
     "start_time": "2020-11-03T12:28:57.778655Z"
    },
    "hidden": true
   },
   "outputs": [],
   "source": [
    "len(Hainaut_ts.loc[start_date:end_beta])"
   ]
  },
  {
   "cell_type": "code",
   "execution_count": null,
   "metadata": {
    "ExecuteTime": {
     "end_time": "2020-11-03T12:29:01.024174Z",
     "start_time": "2020-11-03T12:29:00.690190Z"
    },
    "hidden": true
   },
   "outputs": [],
   "source": [
    "# Load the parameters using `get_COVID19_SEIRD_parameters()`.\n",
    "params = model_parameters.get_COVID19_SEIRD_parameters()\n",
    "model = models.COVID19_SEIRD(initial_states_sept28, params)"
   ]
  },
  {
   "cell_type": "code",
   "execution_count": null,
   "metadata": {
    "ExecuteTime": {
     "end_time": "2020-11-03T12:29:25.898218Z",
     "start_time": "2020-11-03T12:29:25.861606Z"
    },
    "hidden": true
   },
   "outputs": [],
   "source": [
    "# function parameters \n",
    "timeseries = Hainaut_ts['NEW_IN']\n",
    "spatial_unit = 'Hainaut_wave2_from_sept28'\n"
   ]
  },
  {
   "cell_type": "code",
   "execution_count": null,
   "metadata": {
    "ExecuteTime": {
     "end_time": "2020-10-30T16:45:43.424521Z",
     "start_time": "2020-10-30T16:45:43.386749Z"
    },
    "hidden": true
   },
   "outputs": [],
   "source": [
    "# mu_beta, std_beta = norm.fit(samples_dict_wave1['beta'])\n",
    "# mu_sigma_data, std_sigma_data = norm.fit(samples_dict_wave1['beta'])\n",
    "# beta_norm_params = (mu_beta, std_beta)\n",
    "# sigma_data_norm_params = (mu_sigma_data, std_sigma_data)"
   ]
  },
  {
   "cell_type": "code",
   "execution_count": null,
   "metadata": {
    "ExecuteTime": {
     "end_time": "2020-11-03T12:29:46.952670Z",
     "start_time": "2020-11-03T12:29:46.914543Z"
    },
    "hidden": true
   },
   "outputs": [],
   "source": [
    "beta_init = np.mean(samples_dict_wave1['beta'])\n",
    "sigma_data_init = np.mean(samples_dict_wave1['sigma_data'])\n"
   ]
  },
  {
   "cell_type": "code",
   "execution_count": null,
   "metadata": {
    "ExecuteTime": {
     "end_time": "2020-11-03T13:28:04.611571Z",
     "start_time": "2020-11-03T13:24:26.645535Z"
    },
    "hidden": true,
    "scrolled": true
   },
   "outputs": [],
   "source": [
    "samples_dict = full_calibration_wave2(model, timeseries, spatial_unit, start_date, end_beta, \n",
    "                                      beta_init, sigma_data_init, None, None,\n",
    "                                      fig_path=fig_path, samples_path=samples_path,\n",
    "                                      initN=initN, Nc_total=Nc_total, \n",
    "                                      maxiter=100, popsize=200, steps_mcmc=1000)"
   ]
  },
  {
   "cell_type": "code",
   "execution_count": null,
   "metadata": {
    "ExecuteTime": {
     "end_time": "2020-11-03T13:28:08.553596Z",
     "start_time": "2020-11-03T13:28:08.297760Z"
    },
    "hidden": true
   },
   "outputs": [],
   "source": [
    "fig, ax = plt.subplots()\n",
    "pd.Series(samples_dict['beta']).hist(ax=ax)"
   ]
  },
  {
   "cell_type": "code",
   "execution_count": null,
   "metadata": {
    "ExecuteTime": {
     "end_time": "2020-11-03T13:28:18.990064Z",
     "start_time": "2020-11-03T13:28:14.766876Z"
    },
    "hidden": true,
    "scrolled": false
   },
   "outputs": [],
   "source": [
    "states = [['H_in']]\n",
    "end_date = '2021-01-01' #end_beta\n",
    "data=[timeseries[start_date:end_beta].values]\n",
    "\n",
    "fig,ax=plt.subplots(figsize=(8,8))\n",
    "for i in range(20):\n",
    "    idx,model.parameters['beta'] = random.choice(list(enumerate(samples_dict['beta'])))\n",
    "    y_model = model.sim(time=end_date, excess_time=0, start_date=start_date)\n",
    "    ax = plot_fit(y_model,data,start_date,lag_time=0,states=states,end_date=end_date,\n",
    "                  with_ints=False,ax=ax,plt_kwargs={'color':'blue','linewidth': 2,'alpha': 0.05})\n",
    "plt.setp(plt.gca().xaxis.get_majorticklabels(),'rotation', 0)\n",
    "#data_after_calib = timeseries[pd.to_datetime(end_ramp)+pd.to_timedelta('1d'):end_date]\n",
    "#plt.scatter(data_after_calib.index, data_after_calib.values, marker='o',color='red',linestyle='None',facecolors='none')\n",
    "legend_text=['daily \\nhospitalizations']\n",
    "ax.set_xlim('2020-09-01', '2021-01-01')\n",
    "ax.set_ylabel('daily hospitalizations')\n",
    "# fig.savefig(fig_path+spatial_unit+'.pdf',\n",
    "#             bbox_inches='tight', dpi=600)"
   ]
  },
  {
   "cell_type": "code",
   "execution_count": null,
   "metadata": {
    "ExecuteTime": {
     "end_time": "2020-11-03T16:34:58.686772Z",
     "start_time": "2020-11-03T16:34:58.210403Z"
    },
    "hidden": true
   },
   "outputs": [],
   "source": [
    "fig.savefig(fig_path+spatial_unit+'.pdf',\n",
    "            bbox_inches='tight', dpi=600)"
   ]
  },
  {
   "cell_type": "markdown",
   "metadata": {
    "heading_collapsed": true
   },
   "source": [
    "# Calibration from August 1"
   ]
  },
  {
   "cell_type": "code",
   "execution_count": 8,
   "metadata": {
    "ExecuteTime": {
     "end_time": "2020-11-09T08:51:37.254806Z",
     "start_time": "2020-11-09T08:51:37.187172Z"
    },
    "hidden": true
   },
   "outputs": [],
   "source": [
    "# Load the dictionary containing the posterior parameter distributions obtained from calibrating the model to Belgian hospitalization data\n",
    "with open('../data/interim/model_parameters/COVID19_SEIRD/calibrations/provinces/Hainaut_wave1_2020-11-04.json', 'r') as fp:\n",
    "    samples_dict_wave1 = json.load(fp)"
   ]
  },
  {
   "cell_type": "markdown",
   "metadata": {
    "heading_collapsed": true,
    "hidden": true
   },
   "source": [
    "## Simulation until August 1 with policies"
   ]
  },
  {
   "cell_type": "code",
   "execution_count": null,
   "metadata": {
    "ExecuteTime": {
     "end_time": "2020-11-04T07:46:01.543927Z",
     "start_time": "2020-11-04T07:44:20.007513Z"
    },
    "hidden": true
   },
   "outputs": [],
   "source": [
    "out_aug1 = model_wave1_with_policies.sim(time='2020-08-01', excess_time=samples_dict_wave1['warmup'],start_date='2020-03-15',\n",
    "                   N=100, draw_fcn=draw_sample_COVID19_SEIRD,samples=samples_dict_wave1)\n",
    "states = out_aug1.isel(time=-1).mean(dim=\"draws\")\n",
    "initial_states_aug1 = {key:states[key].values for key in initial_states.keys()}"
   ]
  },
  {
   "cell_type": "code",
   "execution_count": null,
   "metadata": {
    "ExecuteTime": {
     "end_time": "2020-11-04T07:46:23.517716Z",
     "start_time": "2020-11-04T07:46:23.479741Z"
    },
    "hidden": true
   },
   "outputs": [],
   "source": [
    "np.save('../data/interim/prediction_provinces/Hainaut_initial_states_Aug1.npy', initial_states_aug1)"
   ]
  },
  {
   "cell_type": "markdown",
   "metadata": {
    "hidden": true
   },
   "source": [
    "## Simulation until August 1 without policies"
   ]
  },
  {
   "cell_type": "code",
   "execution_count": null,
   "metadata": {
    "ExecuteTime": {
     "end_time": "2020-11-04T16:15:26.444071Z",
     "start_time": "2020-11-04T16:14:59.299799Z"
    },
    "hidden": true
   },
   "outputs": [],
   "source": [
    "out_aug1 = model_wave1.sim(time='2020-08-01', excess_time=samples_dict_wave1['warmup'],start_date='2020-03-15',\n",
    "                   N=100, draw_fcn=draw_sample_COVID19_SEIRD,samples=samples_dict_wave1)\n",
    "states = out_aug1.isel(time=-1).mean(dim=\"draws\")\n",
    "initial_states_aug1 = {key:states[key].values for key in initial_states.keys()}"
   ]
  },
  {
   "cell_type": "code",
   "execution_count": null,
   "metadata": {
    "ExecuteTime": {
     "end_time": "2020-11-04T16:15:45.259605Z",
     "start_time": "2020-11-04T16:15:45.219491Z"
    },
    "hidden": true
   },
   "outputs": [],
   "source": [
    "np.save('../data/interim/initial_states_provinces/'+spatial_unit+'_Aug1.npy', initial_states_aug1)"
   ]
  },
  {
   "cell_type": "markdown",
   "metadata": {
    "hidden": true
   },
   "source": [
    "## Calibration starting August 1"
   ]
  },
  {
   "cell_type": "code",
   "execution_count": null,
   "metadata": {
    "ExecuteTime": {
     "end_time": "2020-11-04T21:56:37.295812Z",
     "start_time": "2020-11-04T21:56:37.102012Z"
    },
    "hidden": true
   },
   "outputs": [],
   "source": [
    "initial_states_aug1 = np.load('../data/interim/initial_states_provinces/Hainaut_wave1_Aug1.npy', allow_pickle=True).item()"
   ]
  },
  {
   "cell_type": "code",
   "execution_count": null,
   "metadata": {
    "ExecuteTime": {
     "end_time": "2020-11-04T21:56:37.790605Z",
     "start_time": "2020-11-04T21:56:37.753166Z"
    },
    "hidden": true
   },
   "outputs": [],
   "source": [
    "# Second wave\n",
    "start_date = '2020-08-01'\n",
    "end_beta = '2020-10-31'"
   ]
  },
  {
   "cell_type": "code",
   "execution_count": null,
   "metadata": {
    "ExecuteTime": {
     "end_time": "2020-11-04T21:56:38.665039Z",
     "start_time": "2020-11-04T21:56:38.622402Z"
    },
    "hidden": true
   },
   "outputs": [],
   "source": [
    "len(Hainaut_ts.loc[start_date:end_beta])"
   ]
  },
  {
   "cell_type": "code",
   "execution_count": null,
   "metadata": {
    "ExecuteTime": {
     "end_time": "2020-11-04T21:56:40.383577Z",
     "start_time": "2020-11-04T21:56:40.041597Z"
    },
    "hidden": true
   },
   "outputs": [],
   "source": [
    "# Load the parameters using `get_COVID19_SEIRD_parameters()`.\n",
    "params = model_parameters.get_COVID19_SEIRD_parameters()\n",
    "model_wave2_from_aug1 = models.COVID19_SEIRD(initial_states_aug1, params)"
   ]
  },
  {
   "cell_type": "code",
   "execution_count": null,
   "metadata": {
    "ExecuteTime": {
     "end_time": "2020-11-04T08:03:11.766086Z",
     "start_time": "2020-11-04T08:03:11.719303Z"
    },
    "hidden": true
   },
   "outputs": [],
   "source": [
    "# mu_beta, std_beta = norm.fit(samples_dict_wave1['beta'])\n",
    "# mu_sigma_data, std_sigma_data = norm.fit(samples_dict_wave1['beta'])\n",
    "# beta_norm_params = (mu_beta, std_beta)\n",
    "# sigma_data_norm_params = (mu_sigma_data, std_sigma_data)"
   ]
  },
  {
   "cell_type": "code",
   "execution_count": null,
   "metadata": {
    "ExecuteTime": {
     "end_time": "2020-11-04T21:56:42.603556Z",
     "start_time": "2020-11-04T21:56:42.562349Z"
    },
    "hidden": true
   },
   "outputs": [],
   "source": [
    "beta_init = np.mean(samples_dict_wave1['beta'])\n",
    "sigma_data_init = np.mean(samples_dict_wave1['sigma_data'])\n"
   ]
  },
  {
   "cell_type": "code",
   "execution_count": null,
   "metadata": {
    "ExecuteTime": {
     "end_time": "2020-11-04T22:56:50.353622Z",
     "start_time": "2020-11-04T21:56:50.488837Z"
    },
    "hidden": true,
    "scrolled": true
   },
   "outputs": [],
   "source": [
    "spatial_unit = 'Hainaut_wave2_from_aug1_no_policies_10000'\n",
    "samples_dict = full_calibration_wave2(model_wave2_from_aug1, timeseries, spatial_unit, start_date, end_beta, \n",
    "                                      beta_init, sigma_data_init, None, None,\n",
    "                                      fig_path=fig_path, samples_path=samples_path,\n",
    "                                      initN=initN, Nc_total=Nc_total, pso=False,\n",
    "                                      maxiter=100, popsize=200, steps_mcmc=10000)"
   ]
  },
  {
   "cell_type": "code",
   "execution_count": null,
   "metadata": {
    "ExecuteTime": {
     "end_time": "2020-11-05T07:09:48.112116Z",
     "start_time": "2020-11-05T07:09:47.829247Z"
    },
    "hidden": true
   },
   "outputs": [],
   "source": [
    "fig, ax = plt.subplots()\n",
    "pd.Series(samples_dict['beta']).hist(ax=ax)"
   ]
  },
  {
   "cell_type": "code",
   "execution_count": null,
   "metadata": {
    "ExecuteTime": {
     "end_time": "2020-11-05T07:10:47.617660Z",
     "start_time": "2020-11-05T07:10:00.360252Z"
    },
    "hidden": true
   },
   "outputs": [],
   "source": [
    "end_date = '2021-01-01'\n",
    "plot_simulations(start_date, end_ramp, end_date, model_wave2_from_aug1, samples_dict, \n",
    "                timeseries, spatial_unit, n_lines=200, save=True)"
   ]
  },
  {
   "cell_type": "code",
   "execution_count": null,
   "metadata": {
    "hidden": true
   },
   "outputs": [],
   "source": []
  }
 ],
 "metadata": {
  "kernelspec": {
   "display_name": "Python 3",
   "language": "python",
   "name": "python3"
  },
  "language_info": {
   "codemirror_mode": {
    "name": "ipython",
    "version": 3
   },
   "file_extension": ".py",
   "mimetype": "text/x-python",
   "name": "python",
   "nbconvert_exporter": "python",
   "pygments_lexer": "ipython3",
   "version": "3.7.3"
  },
  "toc": {
   "base_numbering": 1,
   "nav_menu": {},
   "number_sections": true,
   "sideBar": true,
   "skip_h1_title": false,
   "title_cell": "Table of Contents",
   "title_sidebar": "Contents",
   "toc_cell": false,
   "toc_position": {
    "height": "calc(100% - 180px)",
    "left": "10px",
    "top": "150px",
    "width": "288px"
   },
   "toc_section_display": true,
   "toc_window_display": true
  }
 },
 "nbformat": 4,
 "nbformat_minor": 4
}
