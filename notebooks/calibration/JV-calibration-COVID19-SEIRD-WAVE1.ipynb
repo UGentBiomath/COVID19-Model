{
 "cells": [
  {
   "cell_type": "markdown",
   "metadata": {},
   "source": [
    "\n",
    "\n",
    "*Original code by Ryan S. McGee. Modified by T.W. Alleman in consultation with the BIOMATH research unit headed by prof. Ingmar Nopens.*\n",
    "\n",
    "Copyright (c) 2020 by T.W. Alleman, BIOMATH, Ghent University. All Rights Reserved.\n",
    "\n",
    "This notebook accompanies our preprint: \"*A deterministic, age-stratified, extended SEIRD model for assessing the effect of non-pharmaceutical interventions on SARS-CoV-2 spread in Belgium*\"(https://doi.org/10.1101/2020.07.17.20156034)"
   ]
  },
  {
   "cell_type": "markdown",
   "metadata": {},
   "source": [
    "# Load required packages"
   ]
  },
  {
   "cell_type": "code",
   "execution_count": 1,
   "metadata": {
    "ExecuteTime": {
     "end_time": "2020-11-26T20:55:21.238087Z",
     "start_time": "2020-11-26T20:55:18.875309Z"
    }
   },
   "outputs": [],
   "source": [
    "import random\n",
    "import os\n",
    "import numpy as np\n",
    "import json\n",
    "import corner\n",
    "import random\n",
    "\n",
    "import pandas as pd\n",
    "import datetime\n",
    "import scipy\n",
    "import matplotlib.dates as mdates\n",
    "import matplotlib\n",
    "import math\n",
    "import xarray as xr\n",
    "import emcee\n",
    "import matplotlib.pyplot as plt\n",
    "import datetime\n",
    "\n",
    "from covid19model.optimization import objective_fcns,pso\n",
    "from covid19model.models import models\n",
    "from covid19model.models.utils import draw_sample_COVID19_SEIRD_google\n",
    "from covid19model.models.time_dependant_parameter_fncs import google_lockdown, ramp_fun, contact_matrix\n",
    "from covid19model.data import google\n",
    "from covid19model.data import sciensano\n",
    "from covid19model.data import model_parameters\n",
    "from covid19model.visualization.output import population_status, infected, _apply_tick_locator \n",
    "from covid19model.visualization.optimization import plot_fit, traceplot\n",
    "\n",
    "\n",
    "# OPTIONAL: Load the \"autoreload\" extension so that package code can change\n",
    "%load_ext autoreload\n",
    "# OPTIONAL: always reload modules so that as you change code in src, it gets loaded\n",
    "%autoreload 2"
   ]
  },
  {
   "cell_type": "markdown",
   "metadata": {},
   "source": [
    "# Load data"
   ]
  },
  {
   "cell_type": "code",
   "execution_count": 2,
   "metadata": {
    "ExecuteTime": {
     "end_time": "2020-11-26T20:55:21.567111Z",
     "start_time": "2020-11-26T20:55:21.240539Z"
    }
   },
   "outputs": [],
   "source": [
    "initN, Nc_home, Nc_work, Nc_schools, Nc_transport, Nc_leisure, Nc_others, Nc_total = model_parameters.get_interaction_matrices(dataset='willem_2012')\n",
    "levels = initN.size\n",
    "Nc_all = {'total': Nc_total, 'home':Nc_home, 'work': Nc_work, 'schools': Nc_schools, 'transport': Nc_transport, 'leisure': Nc_leisure, 'others': Nc_others}\n"
   ]
  },
  {
   "cell_type": "code",
   "execution_count": 3,
   "metadata": {
    "ExecuteTime": {
     "end_time": "2020-11-26T20:55:22.633911Z",
     "start_time": "2020-11-26T20:55:22.513054Z"
    }
   },
   "outputs": [
    {
     "data": {
      "text/html": [
       "<div>\n",
       "<style scoped>\n",
       "    .dataframe tbody tr th:only-of-type {\n",
       "        vertical-align: middle;\n",
       "    }\n",
       "\n",
       "    .dataframe tbody tr th {\n",
       "        vertical-align: top;\n",
       "    }\n",
       "\n",
       "    .dataframe thead th {\n",
       "        text-align: right;\n",
       "    }\n",
       "</style>\n",
       "<table border=\"1\" class=\"dataframe\">\n",
       "  <thead>\n",
       "    <tr style=\"text-align: right;\">\n",
       "      <th></th>\n",
       "      <th>H_tot</th>\n",
       "      <th>ICU_tot</th>\n",
       "      <th>H_in</th>\n",
       "      <th>H_out</th>\n",
       "      <th>H_tot_cumsum</th>\n",
       "      <th>D_tot</th>\n",
       "      <th>D_25_44</th>\n",
       "      <th>D_45_64</th>\n",
       "      <th>D_65_74</th>\n",
       "      <th>D_75_84</th>\n",
       "      <th>D_85+</th>\n",
       "    </tr>\n",
       "    <tr>\n",
       "      <th>DATE</th>\n",
       "      <th></th>\n",
       "      <th></th>\n",
       "      <th></th>\n",
       "      <th></th>\n",
       "      <th></th>\n",
       "      <th></th>\n",
       "      <th></th>\n",
       "      <th></th>\n",
       "      <th></th>\n",
       "      <th></th>\n",
       "      <th></th>\n",
       "    </tr>\n",
       "  </thead>\n",
       "  <tbody>\n",
       "    <tr>\n",
       "      <th>2020-11-24</th>\n",
       "      <td>4820</td>\n",
       "      <td>1105</td>\n",
       "      <td>286</td>\n",
       "      <td>528</td>\n",
       "      <td>4594</td>\n",
       "      <td>83</td>\n",
       "      <td>0.0</td>\n",
       "      <td>12.0</td>\n",
       "      <td>10</td>\n",
       "      <td>24</td>\n",
       "      <td>37</td>\n",
       "    </tr>\n",
       "    <tr>\n",
       "      <th>2020-11-25</th>\n",
       "      <td>4570</td>\n",
       "      <td>1071</td>\n",
       "      <td>272</td>\n",
       "      <td>429</td>\n",
       "      <td>4437</td>\n",
       "      <td>17</td>\n",
       "      <td>1.0</td>\n",
       "      <td>4.0</td>\n",
       "      <td>3</td>\n",
       "      <td>3</td>\n",
       "      <td>6</td>\n",
       "    </tr>\n",
       "  </tbody>\n",
       "</table>\n",
       "</div>"
      ],
      "text/plain": [
       "            H_tot  ICU_tot  H_in  H_out  H_tot_cumsum  D_tot  D_25_44  \\\n",
       "DATE                                                                    \n",
       "2020-11-24   4820     1105   286    528          4594     83      0.0   \n",
       "2020-11-25   4570     1071   272    429          4437     17      1.0   \n",
       "\n",
       "            D_45_64  D_65_74  D_75_84  D_85+  \n",
       "DATE                                          \n",
       "2020-11-24     12.0       10       24     37  \n",
       "2020-11-25      4.0        3        3      6  "
      ]
     },
     "execution_count": 3,
     "metadata": {},
     "output_type": "execute_result"
    }
   ],
   "source": [
    "df_sciensano = sciensano.get_sciensano_COVID19_data(update=False)\n",
    "df_sciensano.tail(2)"
   ]
  },
  {
   "cell_type": "code",
   "execution_count": 4,
   "metadata": {
    "ExecuteTime": {
     "end_time": "2020-11-26T20:55:22.785019Z",
     "start_time": "2020-11-26T20:55:22.713982Z"
    }
   },
   "outputs": [
    {
     "data": {
      "text/html": [
       "<div>\n",
       "<style scoped>\n",
       "    .dataframe tbody tr th:only-of-type {\n",
       "        vertical-align: middle;\n",
       "    }\n",
       "\n",
       "    .dataframe tbody tr th {\n",
       "        vertical-align: top;\n",
       "    }\n",
       "\n",
       "    .dataframe thead th {\n",
       "        text-align: right;\n",
       "    }\n",
       "</style>\n",
       "<table border=\"1\" class=\"dataframe\">\n",
       "  <thead>\n",
       "    <tr style=\"text-align: right;\">\n",
       "      <th></th>\n",
       "      <th>retail_recreation</th>\n",
       "      <th>grocery</th>\n",
       "      <th>parks</th>\n",
       "      <th>transport</th>\n",
       "      <th>work</th>\n",
       "      <th>residential</th>\n",
       "    </tr>\n",
       "    <tr>\n",
       "      <th>date</th>\n",
       "      <th></th>\n",
       "      <th></th>\n",
       "      <th></th>\n",
       "      <th></th>\n",
       "      <th></th>\n",
       "      <th></th>\n",
       "    </tr>\n",
       "  </thead>\n",
       "  <tbody>\n",
       "    <tr>\n",
       "      <th>2020-11-21</th>\n",
       "      <td>-58.0</td>\n",
       "      <td>-11.0</td>\n",
       "      <td>13.0</td>\n",
       "      <td>-41.0</td>\n",
       "      <td>-20.0</td>\n",
       "      <td>13.0</td>\n",
       "    </tr>\n",
       "    <tr>\n",
       "      <th>2020-11-22</th>\n",
       "      <td>-63.0</td>\n",
       "      <td>-18.0</td>\n",
       "      <td>-11.0</td>\n",
       "      <td>-45.0</td>\n",
       "      <td>-21.0</td>\n",
       "      <td>10.0</td>\n",
       "    </tr>\n",
       "  </tbody>\n",
       "</table>\n",
       "</div>"
      ],
      "text/plain": [
       "            retail_recreation  grocery  parks  transport  work  residential\n",
       "date                                                                       \n",
       "2020-11-21              -58.0    -11.0   13.0      -41.0 -20.0         13.0\n",
       "2020-11-22              -63.0    -18.0  -11.0      -45.0 -21.0         10.0"
      ]
     },
     "execution_count": 4,
     "metadata": {},
     "output_type": "execute_result"
    }
   ],
   "source": [
    "df_google = google.get_google_mobility_data(update=False, plot=False)\n",
    "df_google.tail(2)"
   ]
  },
  {
   "cell_type": "code",
   "execution_count": null,
   "metadata": {},
   "outputs": [],
   "source": [
    "\n",
    "# def switch_beta(t,param,samples_dict):\n",
    "#     if t < pd.to_datetime('2020-05-04'):\n",
    "#         return np.random.choice(samples_dict['beta'],1,replace=False)\n",
    "#     elif pd.to_datetime('2020-05-04') < t <= pd.to_datetime('2020-09-01'):\n",
    "#         return np.random.choice(samples_dict['beta_summer'],1,replace=False)\n",
    "#     else:\n",
    "#         return np.random.choice(samples_dict['beta'],1,replace=False)"
   ]
  },
  {
   "cell_type": "markdown",
   "metadata": {},
   "source": [
    "# Wave 1 - March 2020 - June 2020"
   ]
  },
  {
   "cell_type": "code",
   "execution_count": 5,
   "metadata": {
    "ExecuteTime": {
     "end_time": "2020-11-26T20:55:36.991470Z",
     "start_time": "2020-11-26T20:55:36.939171Z"
    }
   },
   "outputs": [],
   "source": [
    "def wave1_policies(t,param,df_google, Nc_all, l , tau, \n",
    "                   prev_schools, prev_work, prev_transport, prev_leisure, prev_others, prev_home):\n",
    "    \n",
    "    # Convert tau and l to dates\n",
    "    tau_days = pd.Timedelta(tau, unit='D')\n",
    "    l_days = pd.Timedelta(l, unit='D')\n",
    "\n",
    "    # Define additional dates where intensity or school policy changes\n",
    "    t1 = pd.Timestamp('2020-03-15') # start of lockdown\n",
    "    t2 = pd.Timestamp('2020-05-18') # gradual re-opening of schools (15%)\n",
    "    t3 = pd.Timestamp('2020-06-04') # further re-opening of schools (65%)\n",
    "    t4 = pd.Timestamp('2020-07-01') # closing schools (end calibration wave1)\n",
    "\n",
    "    if t <= t1 + tau_days:\n",
    "        return contact_matrix(t, df_google, Nc_all, school=1)\n",
    "    elif t1 + tau_days < t <= t1 + tau_days + l_days:\n",
    "        policy_old = contact_matrix(t, df_google, Nc_all, school=1)\n",
    "        policy_new = contact_matrix(t, df_google, Nc_all, prev_home, prev_schools, prev_work, prev_transport, \n",
    "                                    prev_leisure, prev_others, school=0)\n",
    "        return ramp_fun(policy_old, policy_new, t, tau_days, l, t1)\n",
    "    elif t1 + tau_days + l_days < t <= t2:\n",
    "        return contact_matrix(t, df_google, Nc_all, prev_home, prev_schools, prev_work, prev_transport, \n",
    "                              prev_leisure, prev_others, school=0)\n",
    "    elif t2 < t <= t3:\n",
    "        return contact_matrix(t, df_google, Nc_all, prev_home, prev_schools, prev_work, prev_transport, \n",
    "                              prev_leisure, prev_others, school=0.15)\n",
    "    elif t3 < t <= t4:\n",
    "        return contact_matrix(t, df_google, Nc_all, prev_home, prev_schools, prev_work, prev_transport, \n",
    "                              prev_leisure, prev_others, school=0.65)\n",
    "    else:\n",
    "        return contact_matrix(t, df_google, Nc_all, prev_home, prev_schools, prev_work, prev_transport, \n",
    "                              prev_leisure, prev_others, school=0)\n"
   ]
  },
  {
   "cell_type": "code",
   "execution_count": 6,
   "metadata": {
    "ExecuteTime": {
     "end_time": "2020-11-26T20:55:38.655295Z",
     "start_time": "2020-11-26T20:55:38.324581Z"
    }
   },
   "outputs": [],
   "source": [
    "#### Load the model parameters using `get_COVID19_SEIRD_parameters()`.\n",
    "params = model_parameters.get_COVID19_SEIRD_parameters()\n",
    "\n",
    "params.update({'df_google': df_google,\n",
    "              'Nc_all' : Nc_all,\n",
    "               'l' : 5,\n",
    "               'tau' : 5,\n",
    "               'prev_schools': 0.5,\n",
    "               'prev_work': 0.5,\n",
    "               'prev_transport': 0.5,\n",
    "               'prev_leisure': 0.5,\n",
    "               'prev_others': 0.5,\n",
    "               'prev_home' : 0.5\n",
    "              })\n",
    "\n",
    "# Define the initial condition: one exposed inidividual in every age category\n",
    "initial_states = {'S': initN, 'E': np.ones(levels)}\n",
    "# Initialize the model\n",
    "model = models.COVID19_SEIRD(initial_states, params, time_dependent_parameters={'Nc': wave1_policies})"
   ]
  },
  {
   "cell_type": "markdown",
   "metadata": {},
   "source": [
    "## Perform calibration"
   ]
  },
  {
   "cell_type": "code",
   "execution_count": 8,
   "metadata": {
    "ExecuteTime": {
     "end_time": "2020-11-26T20:55:48.368281Z",
     "start_time": "2020-11-26T20:55:48.329710Z"
    }
   },
   "outputs": [],
   "source": [
    "# Date of first data collection\n",
    "start_calibration = '2020-03-15'\n",
    "# Last datapoint used to calibrate basic reproduction number\n",
    "end_calibration = '2020-07-01'\n",
    "\n",
    "# Path where figures should be stored\n",
    "fig_path = '../../results/calibrations/COVID19_SEIRD/national/'\n",
    "# Path where MCMC samples should be saved\n",
    "samples_path = '../../data/interim/model_parameters/COVID19_SEIRD/calibrations/national/'\n",
    "# Spatial unit: Belgium\n",
    "spatial_unit = 'BE_6_prev_thin'"
   ]
  },
  {
   "cell_type": "code",
   "execution_count": null,
   "metadata": {
    "ExecuteTime": {
     "start_time": "2020-11-26T20:56:09.114Z"
    },
    "scrolled": true
   },
   "outputs": [
    {
     "name": "stdout",
     "output_type": "stream",
     "text": [
      "------------------------------------\n",
      "CALIBRATING BETA AND COMPLIANCE RAMP\n",
      "------------------------------------\n",
      "\n",
      "Using data from 2020-03-15 until 2020-07-01\n",
      "\n",
      "1) Particle swarm optimization\n",
      "\n",
      "No constraints given.\n",
      "New best for swarm at iteration 1: [2.65289788e+02 2.69473058e-02 5.37532374e+00 1.00000000e-01\n",
      " 4.56774435e-01 0.00000000e+00 1.00000000e+00 8.37298794e-01\n",
      " 5.13722791e-01 1.00000000e+00 5.30626002e+01] 651.1880886005232\n",
      "Best after iteration 1: [2.65289788e+02 2.69473058e-02 5.37532374e+00 1.00000000e-01\n",
      " 4.56774435e-01 0.00000000e+00 1.00000000e+00 8.37298794e-01\n",
      " 5.13722791e-01 1.00000000e+00 5.30626002e+01] 651.1880886005232\n",
      "New best for swarm at iteration 2: [2.28996455e+02 3.50345375e-02 1.00000000e-01 7.03733590e+00\n",
      " 4.49056491e-01 0.00000000e+00 4.98273078e-01 3.30448221e-01\n",
      " 5.60061175e-01 0.00000000e+00 3.28667112e+01] 650.5547626353508\n",
      "Best after iteration 2: [2.28996455e+02 3.50345375e-02 1.00000000e-01 7.03733590e+00\n",
      " 4.49056491e-01 0.00000000e+00 4.98273078e-01 3.30448221e-01\n",
      " 5.60061175e-01 0.00000000e+00 3.28667112e+01] 650.5547626353508\n",
      "New best for swarm at iteration 3: [2.39782665e+02 3.24152322e-02 1.00000000e-01 9.01333659e+00\n",
      " 5.35383619e-01 4.11888973e-01 6.21822460e-01 5.34326782e-01\n",
      " 5.46755603e-01 5.09227808e-01 4.47423178e+01] 646.9164996186463\n",
      "Best after iteration 3: [2.39782665e+02 3.24152322e-02 1.00000000e-01 9.01333659e+00\n",
      " 5.35383619e-01 4.11888973e-01 6.21822460e-01 5.34326782e-01\n",
      " 5.46755603e-01 5.09227808e-01 4.47423178e+01] 646.9164996186463\n",
      "New best for swarm at iteration 4: [1.71093237e+02 4.29312440e-02 1.00000000e-01 1.64639823e+01\n",
      " 9.90652749e-02 2.46195423e-01 6.30608779e-01 5.80916187e-01\n",
      " 6.16676426e-01 2.28118933e-01 4.37509044e+01] 580.473996866883\n",
      "Best after iteration 4: [1.71093237e+02 4.29312440e-02 1.00000000e-01 1.64639823e+01\n",
      " 9.90652749e-02 2.46195423e-01 6.30608779e-01 5.80916187e-01\n",
      " 6.16676426e-01 2.28118933e-01 4.37509044e+01] 580.473996866883\n",
      "Best after iteration 5: [1.71093237e+02 4.29312440e-02 1.00000000e-01 1.64639823e+01\n",
      " 9.90652749e-02 2.46195423e-01 6.30608779e-01 5.80916187e-01\n",
      " 6.16676426e-01 2.28118933e-01 4.37509044e+01] 580.473996866883\n",
      "New best for swarm at iteration 6: [1.28350174e+02 4.20794519e-02 1.00000000e-01 2.00000000e+01\n",
      " 0.00000000e+00 0.00000000e+00 3.89348784e-01 4.38026014e-01\n",
      " 5.66001215e-01 8.71076821e-03 4.41044148e+01] 561.3169456467398\n",
      "Best after iteration 6: [1.28350174e+02 4.20794519e-02 1.00000000e-01 2.00000000e+01\n",
      " 0.00000000e+00 0.00000000e+00 3.89348784e-01 4.38026014e-01\n",
      " 5.66001215e-01 8.71076821e-03 4.41044148e+01] 561.3169456467398\n",
      "Best after iteration 7: [1.28350174e+02 4.20794519e-02 1.00000000e-01 2.00000000e+01\n",
      " 0.00000000e+00 0.00000000e+00 3.89348784e-01 4.38026014e-01\n",
      " 5.66001215e-01 8.71076821e-03 4.41044148e+01] 561.3169456467398\n",
      "New best for swarm at iteration 8: [1.27644308e+02 4.52998238e-02 1.55430070e+00 1.80697633e+01\n",
      " 2.64550545e-02 0.00000000e+00 2.93161366e-01 4.33429075e-01\n",
      " 5.77854470e-01 1.43658083e-01 4.07436830e+01] 557.4624989487819\n",
      "Best after iteration 8: [1.27644308e+02 4.52998238e-02 1.55430070e+00 1.80697633e+01\n",
      " 2.64550545e-02 0.00000000e+00 2.93161366e-01 4.33429075e-01\n",
      " 5.77854470e-01 1.43658083e-01 4.07436830e+01] 557.4624989487819\n",
      "New best for swarm at iteration 9: [9.86704374e+01 4.08078532e-02 1.00000000e-01 8.66882966e+00\n",
      " 0.00000000e+00 0.00000000e+00 4.33652179e-01 3.91064402e-01\n",
      " 4.80374280e-01 9.87496195e-02 5.12020264e+01] 524.846194335327\n",
      "Best after iteration 9: [9.86704374e+01 4.08078532e-02 1.00000000e-01 8.66882966e+00\n",
      " 0.00000000e+00 0.00000000e+00 4.33652179e-01 3.91064402e-01\n",
      " 4.80374280e-01 9.87496195e-02 5.12020264e+01] 524.846194335327\n",
      "Best after iteration 10: [9.86704374e+01 4.08078532e-02 1.00000000e-01 8.66882966e+00\n",
      " 0.00000000e+00 0.00000000e+00 4.33652179e-01 3.91064402e-01\n",
      " 4.80374280e-01 9.87496195e-02 5.12020264e+01] 524.846194335327\n",
      "New best for swarm at iteration 11: [5.70067141e+01 4.27119859e-02 1.00000000e-01 1.33855065e+01\n",
      " 0.00000000e+00 0.00000000e+00 4.89203025e-01 4.95927156e-01\n",
      " 5.49209314e-01 1.16980480e-01 4.73091225e+01] 496.7723829455115\n",
      "Best after iteration 11: [5.70067141e+01 4.27119859e-02 1.00000000e-01 1.33855065e+01\n",
      " 0.00000000e+00 0.00000000e+00 4.89203025e-01 4.95927156e-01\n",
      " 5.49209314e-01 1.16980480e-01 4.73091225e+01] 496.7723829455115\n",
      "Best after iteration 12: [5.70067141e+01 4.27119859e-02 1.00000000e-01 1.33855065e+01\n",
      " 0.00000000e+00 0.00000000e+00 4.89203025e-01 4.95927156e-01\n",
      " 5.49209314e-01 1.16980480e-01 4.73091225e+01] 496.7723829455115\n",
      "Best after iteration 13: [5.70067141e+01 4.27119859e-02 1.00000000e-01 1.33855065e+01\n",
      " 0.00000000e+00 0.00000000e+00 4.89203025e-01 4.95927156e-01\n",
      " 5.49209314e-01 1.16980480e-01 4.73091225e+01] 496.7723829455115\n",
      "New best for swarm at iteration 14: [4.00819299e+01 4.28416776e-02 1.00000000e-01 1.18715763e+01\n",
      " 0.00000000e+00 0.00000000e+00 5.13965714e-01 5.02134677e-01\n",
      " 3.81147154e-01 1.11575483e-01 4.74623579e+01] 483.073768724697\n",
      "Best after iteration 14: [4.00819299e+01 4.28416776e-02 1.00000000e-01 1.18715763e+01\n",
      " 0.00000000e+00 0.00000000e+00 5.13965714e-01 5.02134677e-01\n",
      " 3.81147154e-01 1.11575483e-01 4.74623579e+01] 483.073768724697\n",
      "Best after iteration 15: [4.00819299e+01 4.28416776e-02 1.00000000e-01 1.18715763e+01\n",
      " 0.00000000e+00 0.00000000e+00 5.13965714e-01 5.02134677e-01\n",
      " 3.81147154e-01 1.11575483e-01 4.74623579e+01] 483.073768724697\n",
      "New best for swarm at iteration 16: [4.97516935e+01 4.29544057e-02 1.00000000e-01 1.22989463e+01\n",
      " 0.00000000e+00 0.00000000e+00 5.24927072e-01 5.49503514e-01\n",
      " 5.59868190e-01 1.46401156e-01 4.60823638e+01] 469.48776815836845\n",
      "Best after iteration 16: [4.97516935e+01 4.29544057e-02 1.00000000e-01 1.22989463e+01\n",
      " 0.00000000e+00 0.00000000e+00 5.24927072e-01 5.49503514e-01\n",
      " 5.59868190e-01 1.46401156e-01 4.60823638e+01] 469.48776815836845\n",
      "Best after iteration 17: [4.97516935e+01 4.29544057e-02 1.00000000e-01 1.22989463e+01\n",
      " 0.00000000e+00 0.00000000e+00 5.24927072e-01 5.49503514e-01\n",
      " 5.59868190e-01 1.46401156e-01 4.60823638e+01] 469.48776815836845\n",
      "Best after iteration 18: [4.97516935e+01 4.29544057e-02 1.00000000e-01 1.22989463e+01\n",
      " 0.00000000e+00 0.00000000e+00 5.24927072e-01 5.49503514e-01\n",
      " 5.59868190e-01 1.46401156e-01 4.60823638e+01] 469.48776815836845\n",
      "New best for swarm at iteration 19: [3.60137470e+01 4.34312211e-02 1.00000000e-01 1.12714421e+01\n",
      " 0.00000000e+00 0.00000000e+00 4.65698266e-01 5.74743700e-01\n",
      " 4.96640673e-01 1.40058427e-01 4.59629331e+01] 466.9993670589325\n",
      "Best after iteration 19: [3.60137470e+01 4.34312211e-02 1.00000000e-01 1.12714421e+01\n",
      " 0.00000000e+00 0.00000000e+00 4.65698266e-01 5.74743700e-01\n",
      " 4.96640673e-01 1.40058427e-01 4.59629331e+01] 466.9993670589325\n",
      "New best for swarm at iteration 20: [4.49353219e+01 4.30827483e-02 1.00000000e-01 1.19199154e+01\n",
      " 0.00000000e+00 0.00000000e+00 4.90878973e-01 5.78770102e-01\n",
      " 5.68362321e-01 1.68774131e-01 4.61219211e+01] 464.717536690871\n",
      "Best after iteration 20: [4.49353219e+01 4.30827483e-02 1.00000000e-01 1.19199154e+01\n",
      " 0.00000000e+00 0.00000000e+00 4.90878973e-01 5.78770102e-01\n",
      " 5.68362321e-01 1.68774131e-01 4.61219211e+01] 464.717536690871\n",
      "New best for swarm at iteration 21: [4.31835346e+01 4.35596040e-02 1.00000000e-01 1.13299133e+01\n",
      " 0.00000000e+00 0.00000000e+00 4.96064898e-01 5.85975894e-01\n",
      " 5.42213750e-01 1.55856278e-01 4.61033957e+01] 458.4939973695965\n",
      "Best after iteration 21: [4.31835346e+01 4.35596040e-02 1.00000000e-01 1.13299133e+01\n",
      " 0.00000000e+00 0.00000000e+00 4.96064898e-01 5.85975894e-01\n",
      " 5.42213750e-01 1.55856278e-01 4.61033957e+01] 458.4939973695965\n",
      "Best after iteration 22: [4.31835346e+01 4.35596040e-02 1.00000000e-01 1.13299133e+01\n",
      " 0.00000000e+00 0.00000000e+00 4.96064898e-01 5.85975894e-01\n",
      " 5.42213750e-01 1.55856278e-01 4.61033957e+01] 458.4939973695965\n",
      "Best after iteration 23: [4.31835346e+01 4.35596040e-02 1.00000000e-01 1.13299133e+01\n",
      " 0.00000000e+00 0.00000000e+00 4.96064898e-01 5.85975894e-01\n",
      " 5.42213750e-01 1.55856278e-01 4.61033957e+01] 458.4939973695965\n",
      "Best after iteration 24: [4.31835346e+01 4.35596040e-02 1.00000000e-01 1.13299133e+01\n",
      " 0.00000000e+00 0.00000000e+00 4.96064898e-01 5.85975894e-01\n",
      " 5.42213750e-01 1.55856278e-01 4.61033957e+01] 458.4939973695965\n",
      "Best after iteration 25: [4.31835346e+01 4.35596040e-02 1.00000000e-01 1.13299133e+01\n",
      " 0.00000000e+00 0.00000000e+00 4.96064898e-01 5.85975894e-01\n",
      " 5.42213750e-01 1.55856278e-01 4.61033957e+01] 458.4939973695965\n"
     ]
    },
    {
     "name": "stdout",
     "output_type": "stream",
     "text": [
      "New best for swarm at iteration 26: [3.89004200e+01 4.35813052e-02 1.00000000e-01 1.13116076e+01\n",
      " 0.00000000e+00 0.00000000e+00 5.12473010e-01 5.88248019e-01\n",
      " 5.67998711e-01 1.48066745e-01 4.62609759e+01] 455.4185664078193\n",
      "Best after iteration 26: [3.89004200e+01 4.35813052e-02 1.00000000e-01 1.13116076e+01\n",
      " 0.00000000e+00 0.00000000e+00 5.12473010e-01 5.88248019e-01\n",
      " 5.67998711e-01 1.48066745e-01 4.62609759e+01] 455.4185664078193\n",
      "Best after iteration 27: [3.89004200e+01 4.35813052e-02 1.00000000e-01 1.13116076e+01\n",
      " 0.00000000e+00 0.00000000e+00 5.12473010e-01 5.88248019e-01\n",
      " 5.67998711e-01 1.48066745e-01 4.62609759e+01] 455.4185664078193\n",
      "Best after iteration 28: [3.89004200e+01 4.35813052e-02 1.00000000e-01 1.13116076e+01\n",
      " 0.00000000e+00 0.00000000e+00 5.12473010e-01 5.88248019e-01\n",
      " 5.67998711e-01 1.48066745e-01 4.62609759e+01] 455.4185664078193\n",
      "Best after iteration 29: [3.89004200e+01 4.35813052e-02 1.00000000e-01 1.13116076e+01\n",
      " 0.00000000e+00 0.00000000e+00 5.12473010e-01 5.88248019e-01\n",
      " 5.67998711e-01 1.48066745e-01 4.62609759e+01] 455.4185664078193\n",
      "New best for swarm at iteration 30: [3.87350217e+01 4.34778998e-02 1.00000000e-01 1.08760352e+01\n",
      " 0.00000000e+00 0.00000000e+00 5.04041035e-01 5.86931624e-01\n",
      " 5.69698850e-01 1.58916391e-01 4.62778071e+01] 453.82163001951017\n",
      "Best after iteration 30: [3.87350217e+01 4.34778998e-02 1.00000000e-01 1.08760352e+01\n",
      " 0.00000000e+00 0.00000000e+00 5.04041035e-01 5.86931624e-01\n",
      " 5.69698850e-01 1.58916391e-01 4.62778071e+01] 453.82163001951017\n",
      "New best for swarm at iteration 31: [4.15621020e+01 4.33991699e-02 1.00000000e-01 1.10174694e+01\n",
      " 0.00000000e+00 0.00000000e+00 5.10715965e-01 7.34766529e-01\n",
      " 5.74731169e-01 6.62493948e-02 4.63039991e+01] 453.48232154036214\n",
      "Best after iteration 31: [4.15621020e+01 4.33991699e-02 1.00000000e-01 1.10174694e+01\n",
      " 0.00000000e+00 0.00000000e+00 5.10715965e-01 7.34766529e-01\n",
      " 5.74731169e-01 6.62493948e-02 4.63039991e+01] 453.48232154036214\n",
      "New best for swarm at iteration 32: [4.13055957e+01 4.35612599e-02 1.00000000e-01 1.01914494e+01\n",
      " 0.00000000e+00 0.00000000e+00 5.66509348e-01 7.20132359e-01\n",
      " 7.11838061e-01 1.06693059e-01 4.61581361e+01] 451.2721811030595\n",
      "Best after iteration 32: [4.13055957e+01 4.35612599e-02 1.00000000e-01 1.01914494e+01\n",
      " 0.00000000e+00 0.00000000e+00 5.66509348e-01 7.20132359e-01\n",
      " 7.11838061e-01 1.06693059e-01 4.61581361e+01] 451.2721811030595\n",
      "New best for swarm at iteration 33: [4.34567915e+01 4.34727495e-02 1.00000000e-01 1.05857582e+01\n",
      " 4.63162560e-05 0.00000000e+00 3.97422487e-01 6.53509608e-01\n",
      " 6.71838856e-01 1.10554072e-01 4.62963725e+01] 451.1117964084037\n",
      "Best after iteration 33: [4.34567915e+01 4.34727495e-02 1.00000000e-01 1.05857582e+01\n",
      " 4.63162560e-05 0.00000000e+00 3.97422487e-01 6.53509608e-01\n",
      " 6.71838856e-01 1.10554072e-01 4.62963725e+01] 451.1117964084037\n",
      "New best for swarm at iteration 34: [3.75439382e+01 4.39461765e-02 1.00000000e-01 9.18689070e+00\n",
      " 3.58851544e-04 0.00000000e+00 4.70248882e-01 7.49185565e-01\n",
      " 6.74415706e-01 8.43790637e-02 4.64501705e+01] 446.7815057101589\n",
      "Best after iteration 34: [3.75439382e+01 4.39461765e-02 1.00000000e-01 9.18689070e+00\n",
      " 3.58851544e-04 0.00000000e+00 4.70248882e-01 7.49185565e-01\n",
      " 6.74415706e-01 8.43790637e-02 4.64501705e+01] 446.7815057101589\n",
      "Best after iteration 35: [3.75439382e+01 4.39461765e-02 1.00000000e-01 9.18689070e+00\n",
      " 3.58851544e-04 0.00000000e+00 4.70248882e-01 7.49185565e-01\n",
      " 6.74415706e-01 8.43790637e-02 4.64501705e+01] 446.7815057101589\n",
      "New best for swarm at iteration 36: [3.66572357e+01 4.38309513e-02 1.00000000e-01 9.32762379e+00\n",
      " 0.00000000e+00 0.00000000e+00 4.79180033e-01 7.37286851e-01\n",
      " 6.88969340e-01 6.08583945e-02 4.64535629e+01] 445.8875499337612\n",
      "Best after iteration 36: [3.66572357e+01 4.38309513e-02 1.00000000e-01 9.32762379e+00\n",
      " 0.00000000e+00 0.00000000e+00 4.79180033e-01 7.37286851e-01\n",
      " 6.88969340e-01 6.08583945e-02 4.64535629e+01] 445.8875499337612\n",
      "Best after iteration 37: [3.66572357e+01 4.38309513e-02 1.00000000e-01 9.32762379e+00\n",
      " 0.00000000e+00 0.00000000e+00 4.79180033e-01 7.37286851e-01\n",
      " 6.88969340e-01 6.08583945e-02 4.64535629e+01] 445.8875499337612\n",
      "Best after iteration 38: [3.66572357e+01 4.38309513e-02 1.00000000e-01 9.32762379e+00\n",
      " 0.00000000e+00 0.00000000e+00 4.79180033e-01 7.37286851e-01\n",
      " 6.88969340e-01 6.08583945e-02 4.64535629e+01] 445.8875499337612\n",
      "Best after iteration 39: [3.66572357e+01 4.38309513e-02 1.00000000e-01 9.32762379e+00\n",
      " 0.00000000e+00 0.00000000e+00 4.79180033e-01 7.37286851e-01\n",
      " 6.88969340e-01 6.08583945e-02 4.64535629e+01] 445.8875499337612\n",
      "Best after iteration 40: [3.66572357e+01 4.38309513e-02 1.00000000e-01 9.32762379e+00\n",
      " 0.00000000e+00 0.00000000e+00 4.79180033e-01 7.37286851e-01\n",
      " 6.88969340e-01 6.08583945e-02 4.64535629e+01] 445.8875499337612\n",
      "Best after iteration 41: [3.66572357e+01 4.38309513e-02 1.00000000e-01 9.32762379e+00\n",
      " 0.00000000e+00 0.00000000e+00 4.79180033e-01 7.37286851e-01\n",
      " 6.88969340e-01 6.08583945e-02 4.64535629e+01] 445.8875499337612\n",
      "Best after iteration 42: [3.66572357e+01 4.38309513e-02 1.00000000e-01 9.32762379e+00\n",
      " 0.00000000e+00 0.00000000e+00 4.79180033e-01 7.37286851e-01\n",
      " 6.88969340e-01 6.08583945e-02 4.64535629e+01] 445.8875499337612\n",
      "Best after iteration 43: [3.66572357e+01 4.38309513e-02 1.00000000e-01 9.32762379e+00\n",
      " 0.00000000e+00 0.00000000e+00 4.79180033e-01 7.37286851e-01\n",
      " 6.88969340e-01 6.08583945e-02 4.64535629e+01] 445.8875499337612\n",
      "New best for swarm at iteration 44: [3.55531795e+01 4.38240469e-02 1.00000000e-01 9.46479408e+00\n",
      " 0.00000000e+00 0.00000000e+00 4.83431380e-01 7.24273995e-01\n",
      " 6.81840747e-01 6.53089762e-02 4.64531955e+01] 445.83347364143106\n",
      "Best after iteration 44: [3.55531795e+01 4.38240469e-02 1.00000000e-01 9.46479408e+00\n",
      " 0.00000000e+00 0.00000000e+00 4.83431380e-01 7.24273995e-01\n",
      " 6.81840747e-01 6.53089762e-02 4.64531955e+01] 445.83347364143106\n",
      "New best for swarm at iteration 45: [3.63614322e+01 4.38344142e-02 1.00000000e-01 9.41712590e+00\n",
      " 0.00000000e+00 0.00000000e+00 4.75666658e-01 7.14712059e-01\n",
      " 6.81732093e-01 4.62095445e-02 4.64426969e+01] 445.79906733848446\n",
      "Best after iteration 45: [3.63614322e+01 4.38344142e-02 1.00000000e-01 9.41712590e+00\n",
      " 0.00000000e+00 0.00000000e+00 4.75666658e-01 7.14712059e-01\n",
      " 6.81732093e-01 4.62095445e-02 4.64426969e+01] 445.79906733848446\n",
      "Best after iteration 46: [3.63614322e+01 4.38344142e-02 1.00000000e-01 9.41712590e+00\n",
      " 0.00000000e+00 0.00000000e+00 4.75666658e-01 7.14712059e-01\n",
      " 6.81732093e-01 4.62095445e-02 4.64426969e+01] 445.79906733848446\n",
      "Best after iteration 47: [3.63614322e+01 4.38344142e-02 1.00000000e-01 9.41712590e+00\n",
      " 0.00000000e+00 0.00000000e+00 4.75666658e-01 7.14712059e-01\n",
      " 6.81732093e-01 4.62095445e-02 4.64426969e+01] 445.79906733848446\n",
      "Best after iteration 48: [3.63614322e+01 4.38344142e-02 1.00000000e-01 9.41712590e+00\n",
      " 0.00000000e+00 0.00000000e+00 4.75666658e-01 7.14712059e-01\n",
      " 6.81732093e-01 4.62095445e-02 4.64426969e+01] 445.79906733848446\n",
      "Best after iteration 49: [3.63614322e+01 4.38344142e-02 1.00000000e-01 9.41712590e+00\n",
      " 0.00000000e+00 0.00000000e+00 4.75666658e-01 7.14712059e-01\n",
      " 6.81732093e-01 4.62095445e-02 4.64426969e+01] 445.79906733848446\n",
      "Best after iteration 50: [3.63614322e+01 4.38344142e-02 1.00000000e-01 9.41712590e+00\n",
      " 0.00000000e+00 0.00000000e+00 4.75666658e-01 7.14712059e-01\n",
      " 6.81732093e-01 4.62095445e-02 4.64426969e+01] 445.79906733848446\n",
      "New best for swarm at iteration 51: [3.66436608e+01 4.38351341e-02 1.00000000e-01 9.39824249e+00\n",
      " 0.00000000e+00 0.00000000e+00 5.13194692e-01 7.11345604e-01\n",
      " 6.81016530e-01 4.36153410e-02 4.64466122e+01] 445.7873054110995\n",
      "Best after iteration 51: [3.66436608e+01 4.38351341e-02 1.00000000e-01 9.39824249e+00\n",
      " 0.00000000e+00 0.00000000e+00 5.13194692e-01 7.11345604e-01\n",
      " 6.81016530e-01 4.36153410e-02 4.64466122e+01] 445.7873054110995\n",
      "Best after iteration 52: [3.66436608e+01 4.38351341e-02 1.00000000e-01 9.39824249e+00\n",
      " 0.00000000e+00 0.00000000e+00 5.13194692e-01 7.11345604e-01\n",
      " 6.81016530e-01 4.36153410e-02 4.64466122e+01] 445.7873054110995\n",
      "Best after iteration 53: [3.66436608e+01 4.38351341e-02 1.00000000e-01 9.39824249e+00\n",
      " 0.00000000e+00 0.00000000e+00 5.13194692e-01 7.11345604e-01\n",
      " 6.81016530e-01 4.36153410e-02 4.64466122e+01] 445.7873054110995\n",
      "New best for swarm at iteration 54: [3.67148769e+01 4.38343665e-02 1.00000000e-01 9.37239561e+00\n",
      " 0.00000000e+00 0.00000000e+00 5.27979811e-01 7.09442816e-01\n",
      " 6.80918669e-01 4.28426553e-02 4.64468878e+01] 445.75508763317896\n",
      "Best after iteration 54: [3.67148769e+01 4.38343665e-02 1.00000000e-01 9.37239561e+00\n",
      " 0.00000000e+00 0.00000000e+00 5.27979811e-01 7.09442816e-01\n",
      " 6.80918669e-01 4.28426553e-02 4.64468878e+01] 445.75508763317896\n"
     ]
    },
    {
     "name": "stdout",
     "output_type": "stream",
     "text": [
      "Best after iteration 55: [3.67148769e+01 4.38343665e-02 1.00000000e-01 9.37239561e+00\n",
      " 0.00000000e+00 0.00000000e+00 5.27979811e-01 7.09442816e-01\n",
      " 6.80918669e-01 4.28426553e-02 4.64468878e+01] 445.75508763317896\n",
      "Best after iteration 56: [3.67148769e+01 4.38343665e-02 1.00000000e-01 9.37239561e+00\n",
      " 0.00000000e+00 0.00000000e+00 5.27979811e-01 7.09442816e-01\n",
      " 6.80918669e-01 4.28426553e-02 4.64468878e+01] 445.75508763317896\n",
      "Best after iteration 57: [3.67148769e+01 4.38343665e-02 1.00000000e-01 9.37239561e+00\n",
      " 0.00000000e+00 0.00000000e+00 5.27979811e-01 7.09442816e-01\n",
      " 6.80918669e-01 4.28426553e-02 4.64468878e+01] 445.75508763317896\n",
      "Best after iteration 58: [3.67148769e+01 4.38343665e-02 1.00000000e-01 9.37239561e+00\n",
      " 0.00000000e+00 0.00000000e+00 5.27979811e-01 7.09442816e-01\n",
      " 6.80918669e-01 4.28426553e-02 4.64468878e+01] 445.75508763317896\n",
      "Best after iteration 59: [3.67148769e+01 4.38343665e-02 1.00000000e-01 9.37239561e+00\n",
      " 0.00000000e+00 0.00000000e+00 5.27979811e-01 7.09442816e-01\n",
      " 6.80918669e-01 4.28426553e-02 4.64468878e+01] 445.75508763317896\n",
      "New best for swarm at iteration 60: [3.59202665e+01 4.38340541e-02 1.00000000e-01 9.44173833e+00\n",
      " 0.00000000e+00 0.00000000e+00 5.51272206e-01 7.12042230e-01\n",
      " 6.81625968e-01 4.40565478e-02 4.64046941e+01] 445.7547204280315\n",
      "Best after iteration 60: [3.59202665e+01 4.38340541e-02 1.00000000e-01 9.44173833e+00\n",
      " 0.00000000e+00 0.00000000e+00 5.51272206e-01 7.12042230e-01\n",
      " 6.81625968e-01 4.40565478e-02 4.64046941e+01] 445.7547204280315\n",
      "New best for swarm at iteration 61: [3.63394110e+01 4.38342151e-02 1.00000000e-01 9.40222298e+00\n",
      " 0.00000000e+00 0.00000000e+00 5.34242055e-01 7.09908516e-01\n",
      " 6.81190081e-01 4.39176745e-02 4.64429517e+01] 445.73664418462107\n",
      "Best after iteration 61: [3.63394110e+01 4.38342151e-02 1.00000000e-01 9.40222298e+00\n",
      " 0.00000000e+00 0.00000000e+00 5.34242055e-01 7.09908516e-01\n",
      " 6.81190081e-01 4.39176745e-02 4.64429517e+01] 445.73664418462107\n",
      "Best after iteration 62: [3.63394110e+01 4.38342151e-02 1.00000000e-01 9.40222298e+00\n",
      " 0.00000000e+00 0.00000000e+00 5.34242055e-01 7.09908516e-01\n",
      " 6.81190081e-01 4.39176745e-02 4.64429517e+01] 445.73664418462107\n",
      "Best after iteration 63: [3.63394110e+01 4.38342151e-02 1.00000000e-01 9.40222298e+00\n",
      " 0.00000000e+00 0.00000000e+00 5.34242055e-01 7.09908516e-01\n",
      " 6.81190081e-01 4.39176745e-02 4.64429517e+01] 445.73664418462107\n",
      "Best after iteration 64: [3.63394110e+01 4.38342151e-02 1.00000000e-01 9.40222298e+00\n",
      " 0.00000000e+00 0.00000000e+00 5.34242055e-01 7.09908516e-01\n",
      " 6.81190081e-01 4.39176745e-02 4.64429517e+01] 445.73664418462107\n",
      "New best for swarm at iteration 65: [3.62921924e+01 4.38342995e-02 1.00000000e-01 9.39049716e+00\n",
      " 0.00000000e+00 0.00000000e+00 5.29417107e-01 7.08648022e-01\n",
      " 6.81136834e-01 4.32080889e-02 4.64449150e+01] 445.7356802408957\n",
      "Best after iteration 65: [3.62921924e+01 4.38342995e-02 1.00000000e-01 9.39049716e+00\n",
      " 0.00000000e+00 0.00000000e+00 5.29417107e-01 7.08648022e-01\n",
      " 6.81136834e-01 4.32080889e-02 4.64449150e+01] 445.7356802408957\n",
      "Best after iteration 66: [3.62921924e+01 4.38342995e-02 1.00000000e-01 9.39049716e+00\n",
      " 0.00000000e+00 0.00000000e+00 5.29417107e-01 7.08648022e-01\n",
      " 6.81136834e-01 4.32080889e-02 4.64449150e+01] 445.7356802408957\n",
      "New best for swarm at iteration 67: [3.62708441e+01 4.38298708e-02 1.00000000e-01 9.41289827e+00\n",
      " 0.00000000e+00 0.00000000e+00 5.31817633e-01 7.08872205e-01\n",
      " 6.81221846e-01 4.36388508e-02 4.63950795e+01] 445.7332015366976\n",
      "Best after iteration 67: [3.62708441e+01 4.38298708e-02 1.00000000e-01 9.41289827e+00\n",
      " 0.00000000e+00 0.00000000e+00 5.31817633e-01 7.08872205e-01\n",
      " 6.81221846e-01 4.36388508e-02 4.63950795e+01] 445.7332015366976\n",
      "Best after iteration 68: [3.62708441e+01 4.38298708e-02 1.00000000e-01 9.41289827e+00\n",
      " 0.00000000e+00 0.00000000e+00 5.31817633e-01 7.08872205e-01\n",
      " 6.81221846e-01 4.36388508e-02 4.63950795e+01] 445.7332015366976\n",
      "New best for swarm at iteration 69: [3.61962894e+01 4.38314375e-02 1.00000000e-01 9.42712017e+00\n",
      " 0.00000000e+00 0.00000000e+00 5.29630540e-01 7.08748452e-01\n",
      " 6.81202140e-01 4.39450906e-02 4.63966780e+01] 445.7329414215034\n",
      "Best after iteration 69: [3.61962894e+01 4.38314375e-02 1.00000000e-01 9.42712017e+00\n",
      " 0.00000000e+00 0.00000000e+00 5.29630540e-01 7.08748452e-01\n",
      " 6.81202140e-01 4.39450906e-02 4.63966780e+01] 445.7329414215034\n",
      "Best after iteration 70: [3.61962894e+01 4.38314375e-02 1.00000000e-01 9.42712017e+00\n",
      " 0.00000000e+00 0.00000000e+00 5.29630540e-01 7.08748452e-01\n",
      " 6.81202140e-01 4.39450906e-02 4.63966780e+01] 445.7329414215034\n",
      "New best for swarm at iteration 71: [3.61618861e+01 4.38308631e-02 1.00000000e-01 9.45201756e+00\n",
      " 0.00000000e+00 0.00000000e+00 5.35826548e-01 7.12302089e-01\n",
      " 6.80662403e-01 4.46032965e-02 4.63929181e+01] 445.73193738492915\n",
      "Best after iteration 71: [3.61618861e+01 4.38308631e-02 1.00000000e-01 9.45201756e+00\n",
      " 0.00000000e+00 0.00000000e+00 5.35826548e-01 7.12302089e-01\n",
      " 6.80662403e-01 4.46032965e-02 4.63929181e+01] 445.73193738492915\n",
      "Best after iteration 72: [3.61618861e+01 4.38308631e-02 1.00000000e-01 9.45201756e+00\n",
      " 0.00000000e+00 0.00000000e+00 5.35826548e-01 7.12302089e-01\n",
      " 6.80662403e-01 4.46032965e-02 4.63929181e+01] 445.73193738492915\n",
      "Best after iteration 73: [3.61618861e+01 4.38308631e-02 1.00000000e-01 9.45201756e+00\n",
      " 0.00000000e+00 0.00000000e+00 5.35826548e-01 7.12302089e-01\n",
      " 6.80662403e-01 4.46032965e-02 4.63929181e+01] 445.73193738492915\n",
      "New best for swarm at iteration 74: [3.62129997e+01 4.38296942e-02 1.00000000e-01 9.41434714e+00\n",
      " 0.00000000e+00 0.00000000e+00 5.35535539e-01 7.12137762e-01\n",
      " 6.81171098e-01 4.43083218e-02 4.63950273e+01] 445.7314323304642\n",
      "Best after iteration 74: [3.62129997e+01 4.38296942e-02 1.00000000e-01 9.41434714e+00\n",
      " 0.00000000e+00 0.00000000e+00 5.35535539e-01 7.12137762e-01\n",
      " 6.81171098e-01 4.43083218e-02 4.63950273e+01] 445.7314323304642\n",
      "New best for swarm at iteration 75: [3.62529972e+01 4.38289256e-02 1.00000000e-01 9.42841951e+00\n",
      " 0.00000000e+00 0.00000000e+00 5.35203720e-01 7.12025404e-01\n",
      " 6.81084694e-01 4.45164423e-02 4.63925097e+01] 445.73106222053804\n",
      "Best after iteration 75: [3.62529972e+01 4.38289256e-02 1.00000000e-01 9.42841951e+00\n",
      " 0.00000000e+00 0.00000000e+00 5.35203720e-01 7.12025404e-01\n",
      " 6.81084694e-01 4.45164423e-02 4.63925097e+01] 445.73106222053804\n",
      "Best after iteration 76: [3.62529972e+01 4.38289256e-02 1.00000000e-01 9.42841951e+00\n",
      " 0.00000000e+00 0.00000000e+00 5.35203720e-01 7.12025404e-01\n",
      " 6.81084694e-01 4.45164423e-02 4.63925097e+01] 445.73106222053804\n",
      "Best after iteration 77: [3.62529972e+01 4.38289256e-02 1.00000000e-01 9.42841951e+00\n",
      " 0.00000000e+00 0.00000000e+00 5.35203720e-01 7.12025404e-01\n",
      " 6.81084694e-01 4.45164423e-02 4.63925097e+01] 445.73106222053804\n",
      "New best for swarm at iteration 78: [3.62239403e+01 4.38303059e-02 1.00000000e-01 9.41635510e+00\n",
      " 0.00000000e+00 0.00000000e+00 5.31315592e-01 7.10939456e-01\n",
      " 6.81158799e-01 4.44339507e-02 4.64110973e+01] 445.7307872855892\n",
      "Best after iteration 78: [3.62239403e+01 4.38303059e-02 1.00000000e-01 9.41635510e+00\n",
      " 0.00000000e+00 0.00000000e+00 5.31315592e-01 7.10939456e-01\n",
      " 6.81158799e-01 4.44339507e-02 4.64110973e+01] 445.7307872855892\n",
      "Best after iteration 79: [3.62239403e+01 4.38303059e-02 1.00000000e-01 9.41635510e+00\n",
      " 0.00000000e+00 0.00000000e+00 5.31315592e-01 7.10939456e-01\n",
      " 6.81158799e-01 4.44339507e-02 4.64110973e+01] 445.7307872855892\n",
      "Best after iteration 80: [3.62239403e+01 4.38303059e-02 1.00000000e-01 9.41635510e+00\n",
      " 0.00000000e+00 0.00000000e+00 5.31315592e-01 7.10939456e-01\n",
      " 6.81158799e-01 4.44339507e-02 4.64110973e+01] 445.7307872855892\n",
      "Best after iteration 81: [3.62239403e+01 4.38303059e-02 1.00000000e-01 9.41635510e+00\n",
      " 0.00000000e+00 0.00000000e+00 5.31315592e-01 7.10939456e-01\n",
      " 6.81158799e-01 4.44339507e-02 4.64110973e+01] 445.7307872855892\n",
      "New best for swarm at iteration 82: [3.62347134e+01 4.38303404e-02 1.00000000e-01 9.43321830e+00\n",
      " 0.00000000e+00 0.00000000e+00 5.32671535e-01 7.11024326e-01\n",
      " 6.81158350e-01 4.44319286e-02 4.64037597e+01] 445.7307821903501\n",
      "Best after iteration 82: [3.62347134e+01 4.38303404e-02 1.00000000e-01 9.43321830e+00\n",
      " 0.00000000e+00 0.00000000e+00 5.32671535e-01 7.11024326e-01\n",
      " 6.81158350e-01 4.44319286e-02 4.64037597e+01] 445.7307821903501\n",
      "Best after iteration 83: [3.62347134e+01 4.38303404e-02 1.00000000e-01 9.43321830e+00\n",
      " 0.00000000e+00 0.00000000e+00 5.32671535e-01 7.11024326e-01\n",
      " 6.81158350e-01 4.44319286e-02 4.64037597e+01] 445.7307821903501\n"
     ]
    },
    {
     "name": "stdout",
     "output_type": "stream",
     "text": [
      "Best after iteration 84: [3.62347134e+01 4.38303404e-02 1.00000000e-01 9.43321830e+00\n",
      " 0.00000000e+00 0.00000000e+00 5.32671535e-01 7.11024326e-01\n",
      " 6.81158350e-01 4.44319286e-02 4.64037597e+01] 445.7307821903501\n",
      "New best for swarm at iteration 85: [3.62375606e+01 4.38301096e-02 1.00000000e-01 9.43353440e+00\n",
      " 0.00000000e+00 0.00000000e+00 5.32562525e-01 7.10935263e-01\n",
      " 6.81158648e-01 4.43548334e-02 4.64112482e+01] 445.7307256693293\n",
      "Best after iteration 85: [3.62375606e+01 4.38301096e-02 1.00000000e-01 9.43353440e+00\n",
      " 0.00000000e+00 0.00000000e+00 5.32562525e-01 7.10935263e-01\n",
      " 6.81158648e-01 4.43548334e-02 4.64112482e+01] 445.7307256693293\n",
      "New best for swarm at iteration 86: [3.61978278e+01 4.38296552e-02 1.00000000e-01 9.43918160e+00\n",
      " 0.00000000e+00 0.00000000e+00 5.33834784e-01 7.10966514e-01\n",
      " 6.81309169e-01 4.44471029e-02 4.64078646e+01] 445.7305552654074\n",
      "Best after iteration 86: [3.61978278e+01 4.38296552e-02 1.00000000e-01 9.43918160e+00\n",
      " 0.00000000e+00 0.00000000e+00 5.33834784e-01 7.10966514e-01\n",
      " 6.81309169e-01 4.44471029e-02 4.64078646e+01] 445.7305552654074\n",
      "New best for swarm at iteration 87: [3.61368473e+01 4.38271445e-02 1.00000000e-01 9.42169472e+00\n",
      " 0.00000000e+00 0.00000000e+00 5.32682779e-01 7.18002047e-01\n",
      " 6.79833041e-01 4.45333378e-02 4.64193865e+01] 445.7286860333805\n",
      "Best after iteration 87: [3.61368473e+01 4.38271445e-02 1.00000000e-01 9.42169472e+00\n",
      " 0.00000000e+00 0.00000000e+00 5.32682779e-01 7.18002047e-01\n",
      " 6.79833041e-01 4.45333378e-02 4.64193865e+01] 445.7286860333805\n",
      "New best for swarm at iteration 88: [3.61495708e+01 4.38285911e-02 1.00000000e-01 9.42025612e+00\n",
      " 0.00000000e+00 0.00000000e+00 5.33100061e-01 7.15373920e-01\n",
      " 6.80839053e-01 4.35832039e-02 4.64465150e+01] 445.7277453886979\n",
      "Best after iteration 88: [3.61495708e+01 4.38285911e-02 1.00000000e-01 9.42025612e+00\n",
      " 0.00000000e+00 0.00000000e+00 5.33100061e-01 7.15373920e-01\n",
      " 6.80839053e-01 4.35832039e-02 4.64465150e+01] 445.7277453886979\n",
      "Best after iteration 89: [3.61495708e+01 4.38285911e-02 1.00000000e-01 9.42025612e+00\n",
      " 0.00000000e+00 0.00000000e+00 5.33100061e-01 7.15373920e-01\n",
      " 6.80839053e-01 4.35832039e-02 4.64465150e+01] 445.7277453886979\n",
      "Best after iteration 90: [3.61495708e+01 4.38285911e-02 1.00000000e-01 9.42025612e+00\n",
      " 0.00000000e+00 0.00000000e+00 5.33100061e-01 7.15373920e-01\n",
      " 6.80839053e-01 4.35832039e-02 4.64465150e+01] 445.7277453886979\n",
      "Best after iteration 91: [3.61495708e+01 4.38285911e-02 1.00000000e-01 9.42025612e+00\n",
      " 0.00000000e+00 0.00000000e+00 5.33100061e-01 7.15373920e-01\n",
      " 6.80839053e-01 4.35832039e-02 4.64465150e+01] 445.7277453886979\n",
      "Best after iteration 92: [3.61495708e+01 4.38285911e-02 1.00000000e-01 9.42025612e+00\n",
      " 0.00000000e+00 0.00000000e+00 5.33100061e-01 7.15373920e-01\n",
      " 6.80839053e-01 4.35832039e-02 4.64465150e+01] 445.7277453886979\n",
      "Best after iteration 93: [3.61495708e+01 4.38285911e-02 1.00000000e-01 9.42025612e+00\n",
      " 0.00000000e+00 0.00000000e+00 5.33100061e-01 7.15373920e-01\n",
      " 6.80839053e-01 4.35832039e-02 4.64465150e+01] 445.7277453886979\n",
      "Best after iteration 94: [3.61495708e+01 4.38285911e-02 1.00000000e-01 9.42025612e+00\n",
      " 0.00000000e+00 0.00000000e+00 5.33100061e-01 7.15373920e-01\n",
      " 6.80839053e-01 4.35832039e-02 4.64465150e+01] 445.7277453886979\n",
      "Best after iteration 95: [3.61495708e+01 4.38285911e-02 1.00000000e-01 9.42025612e+00\n",
      " 0.00000000e+00 0.00000000e+00 5.33100061e-01 7.15373920e-01\n",
      " 6.80839053e-01 4.35832039e-02 4.64465150e+01] 445.7277453886979\n",
      "Best after iteration 96: [3.61495708e+01 4.38285911e-02 1.00000000e-01 9.42025612e+00\n",
      " 0.00000000e+00 0.00000000e+00 5.33100061e-01 7.15373920e-01\n",
      " 6.80839053e-01 4.35832039e-02 4.64465150e+01] 445.7277453886979\n",
      "Best after iteration 97: [3.61495708e+01 4.38285911e-02 1.00000000e-01 9.42025612e+00\n",
      " 0.00000000e+00 0.00000000e+00 5.33100061e-01 7.15373920e-01\n",
      " 6.80839053e-01 4.35832039e-02 4.64465150e+01] 445.7277453886979\n",
      "Best after iteration 98: [3.61495708e+01 4.38285911e-02 1.00000000e-01 9.42025612e+00\n",
      " 0.00000000e+00 0.00000000e+00 5.33100061e-01 7.15373920e-01\n",
      " 6.80839053e-01 4.35832039e-02 4.64465150e+01] 445.7277453886979\n",
      "Best after iteration 99: [3.61495708e+01 4.38285911e-02 1.00000000e-01 9.42025612e+00\n",
      " 0.00000000e+00 0.00000000e+00 5.33100061e-01 7.15373920e-01\n",
      " 6.80839053e-01 4.35832039e-02 4.64465150e+01] 445.7277453886979\n",
      "New best for swarm at iteration 100: [3.62428053e+01 4.38283810e-02 1.00000000e-01 9.42033462e+00\n",
      " 0.00000000e+00 0.00000000e+00 5.32290438e-01 7.15216797e-01\n",
      " 6.80893882e-01 4.38475982e-02 4.64479227e+01] 445.72740054916625\n",
      "Best after iteration 100: [3.62428053e+01 4.38283810e-02 1.00000000e-01 9.42033462e+00\n",
      " 0.00000000e+00 0.00000000e+00 5.32290438e-01 7.15216797e-01\n",
      " 6.80893882e-01 4.38475982e-02 4.64479227e+01] 445.72740054916625\n",
      "Stopping search: maximum iterations reached --> 100\n",
      "\n",
      "2) Markov-Chain Monte-Carlo sampling\n",
      "\n"
     ]
    },
    {
     "name": "stderr",
     "output_type": "stream",
     "text": [
      "  0%|          | 0/3000 [00:00<?, ?it/s]/home/data/jvergeyn/.conda/envs/COVID_MODEL/lib/python3.7/site-packages/emcee/moves/red_blue.py:99: RuntimeWarning: invalid value encountered in double_scalars\n",
      "  lnpdiff = f + nlp - state.log_prob[j]\n",
      "  6%|▋         | 194/3000 [38:45<8:41:47, 11.16s/it] "
     ]
    }
   ],
   "source": [
    "init_warmup = 30\n",
    "maxiter = 100\n",
    "popsize = 100\n",
    "processes = 16 # voor eraser!! ## PROCESSES=1 to debug!\n",
    "steps_mcmc = 3000#3000\n",
    "discard = 1000#1000\n",
    "\n",
    "# define dataset\n",
    "data=[df_sciensano['H_in'][start_calibration:end_calibration]]\n",
    "states = [[\"H_in\"]]\n",
    "\n",
    "####################################################\n",
    "####### CALIBRATING BETA AND COMPLIANCE RAMP #######\n",
    "####################################################\n",
    "\n",
    "print('------------------------------------')\n",
    "print('CALIBRATING BETA AND COMPLIANCE RAMP')\n",
    "print('------------------------------------\\n')\n",
    "print('Using data from '+start_calibration+' until '+end_calibration+'\\n')\n",
    "print('1) Particle swarm optimization\\n')\n",
    "\n",
    "# set PSO optimisation settings\n",
    "parNames = ['sigma_data','beta','l','tau',\n",
    "            'prev_schools', 'prev_work', 'prev_transport', 'prev_leisure', 'prev_others', 'prev_home', 'warmup']\n",
    "bounds=((1,2000),(0.010,0.060),(0.1,20),(0.1,20),\n",
    "        (0,1),(0,1),(0,1),(0,1),(0,1),(0,1), (30,60))\n",
    "\n",
    "# run PSO optimisation\n",
    "theta_pso = pso.fit_pso(model,data,parNames,states,bounds,maxiter=maxiter,popsize=popsize,\n",
    "                    start_date=start_calibration,warmup=init_warmup, processes=processes) \n",
    "warmup = int(theta_pso[-1])\n",
    "\n",
    "# run MCMC sampler\n",
    "print('\\n2) Markov-Chain Monte-Carlo sampling\\n')\n",
    "parNames_mcmc = parNames[:-1]\n",
    "bounds_mcmc=((1,2000),(0.020,0.060),(0.001,20),(0.001,20),\n",
    "             (0,1),(0,1),(0,1),(0,1),(0,1),(0,1))\n",
    "\n",
    "theta = theta_pso[:-1]\n",
    "ndim = len(theta)\n",
    "nwalkers = ndim*2\n",
    "perturbations = ([1]+(ndim-1)*[1e-3]) * np.random.randn(nwalkers, ndim)\n",
    "pos = theta + perturbations\n",
    "\n",
    "sampler = emcee.EnsembleSampler(nwalkers, ndim, objective_fcns.log_probability,\n",
    "                    args=(model, bounds_mcmc, data, states, parNames_mcmc, None, start_calibration, warmup))\n",
    "sampler.run_mcmc(pos, steps_mcmc, progress=True)\n",
    "\n",
    "thin = 0\n",
    "try:\n",
    "    autocorr = sampler.get_autocorr_time()\n",
    "    thin = int(0.5 * np.min(autocorr))\n",
    "except:\n",
    "    print('Warning: The chain is shorter than 50 times the integrated autocorrelation time for 4 parameter(s).\\nUse this estimate with caution and run a longer chain!')\n",
    "\n",
    "from covid19model.optimization.run_optimization import checkplots\n",
    "\n",
    "checkplots(sampler, discard, thin, fig_path, spatial_unit, figname='BETA_RAMP_GOOGLE_WAVE1', \n",
    "           labels=['$\\sigma_{data}$','$\\\\beta$','l','$\\\\tau$',\n",
    "                   'prev_schools', 'prev_work', 'prev_transport', 'prev_leisure', 'prev_others', 'prev_home'])\n",
    "\n",
    "#############################################\n",
    "####### Output to dictionary ################\n",
    "#############################################\n",
    "\n",
    "flat_samples = sampler.get_chain(discard=discard,thin=thin,flat=True)\n",
    "\n",
    "samples_dict_wave1 = {}\n",
    "for count,name in enumerate(parNames_mcmc):\n",
    "    samples_dict_wave1[name] = flat_samples[:,count].tolist()\n",
    "\n",
    "samples_dict_wave1.update({\n",
    "    'theta_pso' : list(theta_pso),\n",
    "    'warmup' : warmup,\n",
    "    'calibration_data' : states[0][0],\n",
    "    'start_date' : start_calibration,\n",
    "    'end_date' : end_calibration,\n",
    "    'maxiter' : maxiter,\n",
    "    'popsize': popsize,\n",
    "    'steps_mcmc': steps_mcmc,\n",
    "    'discard' : discard,\n",
    "})\n",
    "\n",
    "with open(samples_path+str(spatial_unit)+'_'+str(datetime.date.today())+'_WAVE1_GOOGLE.json', 'w') as fp:\n",
    "    json.dump(samples_dict_wave1, fp)"
   ]
  },
  {
   "cell_type": "code",
   "execution_count": 14,
   "metadata": {
    "ExecuteTime": {
     "end_time": "2020-11-27T07:20:17.594702Z",
     "start_time": "2020-11-27T07:20:17.367746Z"
    }
   },
   "outputs": [
    {
     "name": "stdout",
     "output_type": "stream",
     "text": [
      "Warning: The chain is shorter than 50 times the integrated autocorrelation time for 4 parameter(s).\n",
      "Use this estimate with caution and run a longer chain!\n"
     ]
    }
   ],
   "source": [
    "try:\n",
    "    autocorr = sampler.get_autocorr_time()\n",
    "    thin = int(0.5 * np.min(autocorr))\n",
    "except:\n",
    "    print('Warning: The chain is shorter than 50 times the integrated autocorrelation time for 4 parameter(s).\\nUse this estimate with caution and run a longer chain!')\n"
   ]
  },
  {
   "cell_type": "code",
   "execution_count": 18,
   "metadata": {
    "ExecuteTime": {
     "end_time": "2020-11-27T07:24:40.648159Z",
     "start_time": "2020-11-27T07:24:40.231423Z"
    },
    "scrolled": true
   },
   "outputs": [
    {
     "ename": "AutocorrError",
     "evalue": "The chain is shorter than 50 times the integrated autocorrelation time for 10 parameter(s). Use this estimate with caution and run a longer chain!\nN/50 = 60;\ntau: [186.39577168 166.70247533 342.88954401 274.79700689 326.87068555\n 229.37915011 197.78877642 231.79068483 194.01718685 171.4504142 ]",
     "output_type": "error",
     "traceback": [
      "\u001b[0;31m---------------------------------------------------------------------------\u001b[0m",
      "\u001b[0;31mAutocorrError\u001b[0m                             Traceback (most recent call last)",
      "\u001b[0;32m<ipython-input-18-5c662610fd07>\u001b[0m in \u001b[0;36m<module>\u001b[0;34m\u001b[0m\n\u001b[0;32m----> 1\u001b[0;31m \u001b[0msampler\u001b[0m\u001b[0;34m.\u001b[0m\u001b[0mget_autocorr_time\u001b[0m\u001b[0;34m(\u001b[0m\u001b[0;34m)\u001b[0m\u001b[0;34m\u001b[0m\u001b[0;34m\u001b[0m\u001b[0m\n\u001b[0m",
      "\u001b[0;32m~/.conda/envs/COVID_MODEL/lib/python3.7/site-packages/emcee/ensemble.py\u001b[0m in \u001b[0;36mget_autocorr_time\u001b[0;34m(self, **kwargs)\u001b[0m\n\u001b[1;32m    524\u001b[0m \u001b[0;34m\u001b[0m\u001b[0m\n\u001b[1;32m    525\u001b[0m     \u001b[0;32mdef\u001b[0m \u001b[0mget_autocorr_time\u001b[0m\u001b[0;34m(\u001b[0m\u001b[0mself\u001b[0m\u001b[0;34m,\u001b[0m \u001b[0;34m**\u001b[0m\u001b[0mkwargs\u001b[0m\u001b[0;34m)\u001b[0m\u001b[0;34m:\u001b[0m\u001b[0;34m\u001b[0m\u001b[0;34m\u001b[0m\u001b[0m\n\u001b[0;32m--> 526\u001b[0;31m         \u001b[0;32mreturn\u001b[0m \u001b[0mself\u001b[0m\u001b[0;34m.\u001b[0m\u001b[0mbackend\u001b[0m\u001b[0;34m.\u001b[0m\u001b[0mget_autocorr_time\u001b[0m\u001b[0;34m(\u001b[0m\u001b[0;34m**\u001b[0m\u001b[0mkwargs\u001b[0m\u001b[0;34m)\u001b[0m\u001b[0;34m\u001b[0m\u001b[0;34m\u001b[0m\u001b[0m\n\u001b[0m\u001b[1;32m    527\u001b[0m \u001b[0;34m\u001b[0m\u001b[0m\n\u001b[1;32m    528\u001b[0m     \u001b[0mget_autocorr_time\u001b[0m\u001b[0;34m.\u001b[0m\u001b[0m__doc__\u001b[0m \u001b[0;34m=\u001b[0m \u001b[0mBackend\u001b[0m\u001b[0;34m.\u001b[0m\u001b[0mget_autocorr_time\u001b[0m\u001b[0;34m.\u001b[0m\u001b[0m__doc__\u001b[0m\u001b[0;34m\u001b[0m\u001b[0;34m\u001b[0m\u001b[0m\n",
      "\u001b[0;32m~/.conda/envs/COVID_MODEL/lib/python3.7/site-packages/emcee/backends/backend.py\u001b[0m in \u001b[0;36mget_autocorr_time\u001b[0;34m(self, discard, thin, **kwargs)\u001b[0m\n\u001b[1;32m    148\u001b[0m         \"\"\"\n\u001b[1;32m    149\u001b[0m         \u001b[0mx\u001b[0m \u001b[0;34m=\u001b[0m \u001b[0mself\u001b[0m\u001b[0;34m.\u001b[0m\u001b[0mget_chain\u001b[0m\u001b[0;34m(\u001b[0m\u001b[0mdiscard\u001b[0m\u001b[0;34m=\u001b[0m\u001b[0mdiscard\u001b[0m\u001b[0;34m,\u001b[0m \u001b[0mthin\u001b[0m\u001b[0;34m=\u001b[0m\u001b[0mthin\u001b[0m\u001b[0;34m)\u001b[0m\u001b[0;34m\u001b[0m\u001b[0;34m\u001b[0m\u001b[0m\n\u001b[0;32m--> 150\u001b[0;31m         \u001b[0;32mreturn\u001b[0m \u001b[0mthin\u001b[0m \u001b[0;34m*\u001b[0m \u001b[0mautocorr\u001b[0m\u001b[0;34m.\u001b[0m\u001b[0mintegrated_time\u001b[0m\u001b[0;34m(\u001b[0m\u001b[0mx\u001b[0m\u001b[0;34m,\u001b[0m \u001b[0;34m**\u001b[0m\u001b[0mkwargs\u001b[0m\u001b[0;34m)\u001b[0m\u001b[0;34m\u001b[0m\u001b[0;34m\u001b[0m\u001b[0m\n\u001b[0m\u001b[1;32m    151\u001b[0m \u001b[0;34m\u001b[0m\u001b[0m\n\u001b[1;32m    152\u001b[0m     \u001b[0;34m@\u001b[0m\u001b[0mproperty\u001b[0m\u001b[0;34m\u001b[0m\u001b[0;34m\u001b[0m\u001b[0m\n",
      "\u001b[0;32m~/.conda/envs/COVID_MODEL/lib/python3.7/site-packages/emcee/autocorr.py\u001b[0m in \u001b[0;36mintegrated_time\u001b[0;34m(x, c, tol, quiet)\u001b[0m\n\u001b[1;32m    108\u001b[0m         \u001b[0mmsg\u001b[0m \u001b[0;34m+=\u001b[0m \u001b[0;34m\"N/{0} = {1:.0f};\\ntau: {2}\"\u001b[0m\u001b[0;34m.\u001b[0m\u001b[0mformat\u001b[0m\u001b[0;34m(\u001b[0m\u001b[0mtol\u001b[0m\u001b[0;34m,\u001b[0m \u001b[0mn_t\u001b[0m \u001b[0;34m/\u001b[0m \u001b[0mtol\u001b[0m\u001b[0;34m,\u001b[0m \u001b[0mtau_est\u001b[0m\u001b[0;34m)\u001b[0m\u001b[0;34m\u001b[0m\u001b[0;34m\u001b[0m\u001b[0m\n\u001b[1;32m    109\u001b[0m         \u001b[0;32mif\u001b[0m \u001b[0;32mnot\u001b[0m \u001b[0mquiet\u001b[0m\u001b[0;34m:\u001b[0m\u001b[0;34m\u001b[0m\u001b[0;34m\u001b[0m\u001b[0m\n\u001b[0;32m--> 110\u001b[0;31m             \u001b[0;32mraise\u001b[0m \u001b[0mAutocorrError\u001b[0m\u001b[0;34m(\u001b[0m\u001b[0mtau_est\u001b[0m\u001b[0;34m,\u001b[0m \u001b[0mmsg\u001b[0m\u001b[0;34m)\u001b[0m\u001b[0;34m\u001b[0m\u001b[0;34m\u001b[0m\u001b[0m\n\u001b[0m\u001b[1;32m    111\u001b[0m         \u001b[0mlogging\u001b[0m\u001b[0;34m.\u001b[0m\u001b[0mwarning\u001b[0m\u001b[0;34m(\u001b[0m\u001b[0mmsg\u001b[0m\u001b[0;34m)\u001b[0m\u001b[0;34m\u001b[0m\u001b[0;34m\u001b[0m\u001b[0m\n\u001b[1;32m    112\u001b[0m \u001b[0;34m\u001b[0m\u001b[0m\n",
      "\u001b[0;31mAutocorrError\u001b[0m: The chain is shorter than 50 times the integrated autocorrelation time for 10 parameter(s). Use this estimate with caution and run a longer chain!\nN/50 = 60;\ntau: [186.39577168 166.70247533 342.88954401 274.79700689 326.87068555\n 229.37915011 197.78877642 231.79068483 194.01718685 171.4504142 ]"
     ]
    }
   ],
   "source": [
    "sampler.get_autocorr_time()"
   ]
  },
  {
   "cell_type": "code",
   "execution_count": 13,
   "metadata": {
    "ExecuteTime": {
     "end_time": "2020-11-27T07:19:56.350275Z",
     "start_time": "2020-11-27T07:19:56.287691Z"
    }
   },
   "outputs": [
    {
     "ename": "ValueError",
     "evalue": "slice step cannot be zero",
     "output_type": "error",
     "traceback": [
      "\u001b[0;31m---------------------------------------------------------------------------\u001b[0m",
      "\u001b[0;31mValueError\u001b[0m                                Traceback (most recent call last)",
      "\u001b[0;32m<ipython-input-13-8faaceb0a2a6>\u001b[0m in \u001b[0;36m<module>\u001b[0;34m\u001b[0m\n\u001b[1;32m      1\u001b[0m checkplots(sampler, discard, thin, fig_path, spatial_unit, figname='BETA_RAMP_GOOGLE_WAVE1', \n\u001b[1;32m      2\u001b[0m            labels=['$\\sigma_{data}$','$\\\\beta$','l','$\\\\tau$',\n\u001b[0;32m----> 3\u001b[0;31m                    'prev_schools', 'prev_work', 'prev_transport', 'prev_leisure', 'prev_others', 'prev_home'])\n\u001b[0m",
      "\u001b[0;32m~/Documents/COVID19-Model/src/covid19model/optimization/run_optimization.py\u001b[0m in \u001b[0;36mcheckplots\u001b[0;34m(sampler, discard, thin, fig_path, spatial_unit, figname, labels)\u001b[0m\n\u001b[1;32m     29\u001b[0m \u001b[0;32mdef\u001b[0m \u001b[0mcheckplots\u001b[0m\u001b[0;34m(\u001b[0m\u001b[0msampler\u001b[0m\u001b[0;34m,\u001b[0m \u001b[0mdiscard\u001b[0m\u001b[0;34m,\u001b[0m \u001b[0mthin\u001b[0m\u001b[0;34m,\u001b[0m \u001b[0mfig_path\u001b[0m\u001b[0;34m,\u001b[0m \u001b[0mspatial_unit\u001b[0m\u001b[0;34m,\u001b[0m \u001b[0mfigname\u001b[0m\u001b[0;34m,\u001b[0m \u001b[0mlabels\u001b[0m\u001b[0;34m)\u001b[0m\u001b[0;34m:\u001b[0m\u001b[0;34m\u001b[0m\u001b[0;34m\u001b[0m\u001b[0m\n\u001b[1;32m     30\u001b[0m \u001b[0;34m\u001b[0m\u001b[0m\n\u001b[0;32m---> 31\u001b[0;31m     \u001b[0msamples\u001b[0m \u001b[0;34m=\u001b[0m \u001b[0msampler\u001b[0m\u001b[0;34m.\u001b[0m\u001b[0mget_chain\u001b[0m\u001b[0;34m(\u001b[0m\u001b[0mdiscard\u001b[0m\u001b[0;34m=\u001b[0m\u001b[0mdiscard\u001b[0m\u001b[0;34m,\u001b[0m\u001b[0mthin\u001b[0m\u001b[0;34m=\u001b[0m\u001b[0mthin\u001b[0m\u001b[0;34m,\u001b[0m\u001b[0mflat\u001b[0m\u001b[0;34m=\u001b[0m\u001b[0;32mFalse\u001b[0m\u001b[0;34m)\u001b[0m\u001b[0;34m\u001b[0m\u001b[0;34m\u001b[0m\u001b[0m\n\u001b[0m\u001b[1;32m     32\u001b[0m     \u001b[0mflatsamples\u001b[0m \u001b[0;34m=\u001b[0m \u001b[0msampler\u001b[0m\u001b[0;34m.\u001b[0m\u001b[0mget_chain\u001b[0m\u001b[0;34m(\u001b[0m\u001b[0mdiscard\u001b[0m\u001b[0;34m=\u001b[0m\u001b[0mdiscard\u001b[0m\u001b[0;34m,\u001b[0m\u001b[0mthin\u001b[0m\u001b[0;34m=\u001b[0m\u001b[0mthin\u001b[0m\u001b[0;34m,\u001b[0m\u001b[0mflat\u001b[0m\u001b[0;34m=\u001b[0m\u001b[0;32mTrue\u001b[0m\u001b[0;34m)\u001b[0m\u001b[0;34m\u001b[0m\u001b[0;34m\u001b[0m\u001b[0m\n\u001b[1;32m     33\u001b[0m \u001b[0;34m\u001b[0m\u001b[0m\n",
      "\u001b[0;32m~/.conda/envs/COVID_MODEL/lib/python3.7/site-packages/emcee/ensemble.py\u001b[0m in \u001b[0;36mget_chain\u001b[0;34m(self, **kwargs)\u001b[0m\n\u001b[1;32m    501\u001b[0m \u001b[0;34m\u001b[0m\u001b[0m\n\u001b[1;32m    502\u001b[0m     \u001b[0;32mdef\u001b[0m \u001b[0mget_chain\u001b[0m\u001b[0;34m(\u001b[0m\u001b[0mself\u001b[0m\u001b[0;34m,\u001b[0m \u001b[0;34m**\u001b[0m\u001b[0mkwargs\u001b[0m\u001b[0;34m)\u001b[0m\u001b[0;34m:\u001b[0m\u001b[0;34m\u001b[0m\u001b[0;34m\u001b[0m\u001b[0m\n\u001b[0;32m--> 503\u001b[0;31m         \u001b[0;32mreturn\u001b[0m \u001b[0mself\u001b[0m\u001b[0;34m.\u001b[0m\u001b[0mget_value\u001b[0m\u001b[0;34m(\u001b[0m\u001b[0;34m\"chain\"\u001b[0m\u001b[0;34m,\u001b[0m \u001b[0;34m**\u001b[0m\u001b[0mkwargs\u001b[0m\u001b[0;34m)\u001b[0m\u001b[0;34m\u001b[0m\u001b[0;34m\u001b[0m\u001b[0m\n\u001b[0m\u001b[1;32m    504\u001b[0m \u001b[0;34m\u001b[0m\u001b[0m\n\u001b[1;32m    505\u001b[0m     \u001b[0mget_chain\u001b[0m\u001b[0;34m.\u001b[0m\u001b[0m__doc__\u001b[0m \u001b[0;34m=\u001b[0m \u001b[0mBackend\u001b[0m\u001b[0;34m.\u001b[0m\u001b[0mget_chain\u001b[0m\u001b[0;34m.\u001b[0m\u001b[0m__doc__\u001b[0m\u001b[0;34m\u001b[0m\u001b[0;34m\u001b[0m\u001b[0m\n",
      "\u001b[0;32m~/.conda/envs/COVID_MODEL/lib/python3.7/site-packages/emcee/ensemble.py\u001b[0m in \u001b[0;36mget_value\u001b[0;34m(self, name, **kwargs)\u001b[0m\n\u001b[1;32m    521\u001b[0m \u001b[0;34m\u001b[0m\u001b[0m\n\u001b[1;32m    522\u001b[0m     \u001b[0;32mdef\u001b[0m \u001b[0mget_value\u001b[0m\u001b[0;34m(\u001b[0m\u001b[0mself\u001b[0m\u001b[0;34m,\u001b[0m \u001b[0mname\u001b[0m\u001b[0;34m,\u001b[0m \u001b[0;34m**\u001b[0m\u001b[0mkwargs\u001b[0m\u001b[0;34m)\u001b[0m\u001b[0;34m:\u001b[0m\u001b[0;34m\u001b[0m\u001b[0;34m\u001b[0m\u001b[0m\n\u001b[0;32m--> 523\u001b[0;31m         \u001b[0;32mreturn\u001b[0m \u001b[0mself\u001b[0m\u001b[0;34m.\u001b[0m\u001b[0mbackend\u001b[0m\u001b[0;34m.\u001b[0m\u001b[0mget_value\u001b[0m\u001b[0;34m(\u001b[0m\u001b[0mname\u001b[0m\u001b[0;34m,\u001b[0m \u001b[0;34m**\u001b[0m\u001b[0mkwargs\u001b[0m\u001b[0;34m)\u001b[0m\u001b[0;34m\u001b[0m\u001b[0;34m\u001b[0m\u001b[0m\n\u001b[0m\u001b[1;32m    524\u001b[0m \u001b[0;34m\u001b[0m\u001b[0m\n\u001b[1;32m    525\u001b[0m     \u001b[0;32mdef\u001b[0m \u001b[0mget_autocorr_time\u001b[0m\u001b[0;34m(\u001b[0m\u001b[0mself\u001b[0m\u001b[0;34m,\u001b[0m \u001b[0;34m**\u001b[0m\u001b[0mkwargs\u001b[0m\u001b[0;34m)\u001b[0m\u001b[0;34m:\u001b[0m\u001b[0;34m\u001b[0m\u001b[0;34m\u001b[0m\u001b[0m\n",
      "\u001b[0;32m~/.conda/envs/COVID_MODEL/lib/python3.7/site-packages/emcee/backends/backend.py\u001b[0m in \u001b[0;36mget_value\u001b[0;34m(self, name, flat, thin, discard)\u001b[0m\n\u001b[1;32m     51\u001b[0m             \u001b[0;32mreturn\u001b[0m \u001b[0;32mNone\u001b[0m\u001b[0;34m\u001b[0m\u001b[0;34m\u001b[0m\u001b[0m\n\u001b[1;32m     52\u001b[0m \u001b[0;34m\u001b[0m\u001b[0m\n\u001b[0;32m---> 53\u001b[0;31m         \u001b[0mv\u001b[0m \u001b[0;34m=\u001b[0m \u001b[0mgetattr\u001b[0m\u001b[0;34m(\u001b[0m\u001b[0mself\u001b[0m\u001b[0;34m,\u001b[0m \u001b[0mname\u001b[0m\u001b[0;34m)\u001b[0m\u001b[0;34m[\u001b[0m\u001b[0mdiscard\u001b[0m \u001b[0;34m+\u001b[0m \u001b[0mthin\u001b[0m \u001b[0;34m-\u001b[0m \u001b[0;36m1\u001b[0m \u001b[0;34m:\u001b[0m \u001b[0mself\u001b[0m\u001b[0;34m.\u001b[0m\u001b[0miteration\u001b[0m \u001b[0;34m:\u001b[0m \u001b[0mthin\u001b[0m\u001b[0;34m]\u001b[0m\u001b[0;34m\u001b[0m\u001b[0;34m\u001b[0m\u001b[0m\n\u001b[0m\u001b[1;32m     54\u001b[0m         \u001b[0;32mif\u001b[0m \u001b[0mflat\u001b[0m\u001b[0;34m:\u001b[0m\u001b[0;34m\u001b[0m\u001b[0;34m\u001b[0m\u001b[0m\n\u001b[1;32m     55\u001b[0m             \u001b[0ms\u001b[0m \u001b[0;34m=\u001b[0m \u001b[0mlist\u001b[0m\u001b[0;34m(\u001b[0m\u001b[0mv\u001b[0m\u001b[0;34m.\u001b[0m\u001b[0mshape\u001b[0m\u001b[0;34m[\u001b[0m\u001b[0;36m1\u001b[0m\u001b[0;34m:\u001b[0m\u001b[0;34m]\u001b[0m\u001b[0;34m)\u001b[0m\u001b[0;34m\u001b[0m\u001b[0;34m\u001b[0m\u001b[0m\n",
      "\u001b[0;31mValueError\u001b[0m: slice step cannot be zero"
     ]
    }
   ],
   "source": [
    "checkplots(sampler, discard, thin, fig_path, spatial_unit, figname='BETA_RAMP_GOOGLE_WAVE1', \n",
    "           labels=['$\\sigma_{data}$','$\\\\beta$','l','$\\\\tau$',\n",
    "                   'prev_schools', 'prev_work', 'prev_transport', 'prev_leisure', 'prev_others', 'prev_home'])\n"
   ]
  },
  {
   "cell_type": "code",
   "execution_count": 11,
   "metadata": {
    "ExecuteTime": {
     "end_time": "2020-11-27T07:18:15.805960Z",
     "start_time": "2020-11-27T07:18:15.514162Z"
    }
   },
   "outputs": [
    {
     "ename": "NameError",
     "evalue": "name 'samples_dict_wave1' is not defined",
     "output_type": "error",
     "traceback": [
      "\u001b[0;31m---------------------------------------------------------------------------\u001b[0m",
      "\u001b[0;31mNameError\u001b[0m                                 Traceback (most recent call last)",
      "\u001b[0;32m<ipython-input-11-ea176b90af44>\u001b[0m in \u001b[0;36m<module>\u001b[0;34m\u001b[0m\n\u001b[1;32m      4\u001b[0m \u001b[0;32mfor\u001b[0m \u001b[0mi\u001b[0m \u001b[0;32min\u001b[0m \u001b[0mrange\u001b[0m\u001b[0;34m(\u001b[0m\u001b[0;36m100\u001b[0m\u001b[0;34m)\u001b[0m\u001b[0;34m:\u001b[0m\u001b[0;34m\u001b[0m\u001b[0;34m\u001b[0m\u001b[0m\n\u001b[1;32m      5\u001b[0m     \u001b[0;31m# Sampling\u001b[0m\u001b[0;34m\u001b[0m\u001b[0;34m\u001b[0m\u001b[0;34m\u001b[0m\u001b[0m\n\u001b[0;32m----> 6\u001b[0;31m     \u001b[0midx\u001b[0m\u001b[0;34m,\u001b[0m \u001b[0mmodel\u001b[0m\u001b[0;34m.\u001b[0m\u001b[0mparameters\u001b[0m\u001b[0;34m[\u001b[0m\u001b[0;34m'beta'\u001b[0m\u001b[0;34m]\u001b[0m \u001b[0;34m=\u001b[0m \u001b[0mrandom\u001b[0m\u001b[0;34m.\u001b[0m\u001b[0mchoice\u001b[0m\u001b[0;34m(\u001b[0m\u001b[0mlist\u001b[0m\u001b[0;34m(\u001b[0m\u001b[0menumerate\u001b[0m\u001b[0;34m(\u001b[0m\u001b[0msamples_dict_wave1\u001b[0m\u001b[0;34m[\u001b[0m\u001b[0;34m'beta'\u001b[0m\u001b[0;34m]\u001b[0m\u001b[0;34m)\u001b[0m\u001b[0;34m)\u001b[0m\u001b[0;34m)\u001b[0m\u001b[0;34m\u001b[0m\u001b[0;34m\u001b[0m\u001b[0m\n\u001b[0m\u001b[1;32m      7\u001b[0m     \u001b[0mmodel\u001b[0m\u001b[0;34m.\u001b[0m\u001b[0mparameters\u001b[0m\u001b[0;34m[\u001b[0m\u001b[0;34m'l'\u001b[0m\u001b[0;34m]\u001b[0m \u001b[0;34m=\u001b[0m \u001b[0msamples_dict_wave1\u001b[0m\u001b[0;34m[\u001b[0m\u001b[0;34m'l'\u001b[0m\u001b[0;34m]\u001b[0m\u001b[0;34m[\u001b[0m\u001b[0midx\u001b[0m\u001b[0;34m]\u001b[0m\u001b[0;34m\u001b[0m\u001b[0;34m\u001b[0m\u001b[0m\n\u001b[1;32m      8\u001b[0m     \u001b[0mmodel\u001b[0m\u001b[0;34m.\u001b[0m\u001b[0mparameters\u001b[0m\u001b[0;34m[\u001b[0m\u001b[0;34m'tau'\u001b[0m\u001b[0;34m]\u001b[0m \u001b[0;34m=\u001b[0m \u001b[0msamples_dict_wave1\u001b[0m\u001b[0;34m[\u001b[0m\u001b[0;34m'tau'\u001b[0m\u001b[0;34m]\u001b[0m\u001b[0;34m[\u001b[0m\u001b[0midx\u001b[0m\u001b[0;34m]\u001b[0m\u001b[0;34m\u001b[0m\u001b[0;34m\u001b[0m\u001b[0m\n",
      "\u001b[0;31mNameError\u001b[0m: name 'samples_dict_wave1' is not defined"
     ]
    },
    {
     "data": {
      "image/png": "[encoded data removed]",
      "text/plain": [
       "<Figure size 720x288 with 1 Axes>"
      ]
     },
     "metadata": {
      "needs_background": "light"
     },
     "output_type": "display_data"
    }
   ],
   "source": [
    "end_sim = '2020-07-01'\n",
    "\n",
    "fig,ax=plt.subplots(figsize=(10,4))\n",
    "for i in range(100):\n",
    "    # Sampling\n",
    "    idx, model.parameters['beta'] = random.choice(list(enumerate(samples_dict_wave1['beta'])))\n",
    "    model.parameters['l'] = samples_dict_wave1['l'][idx] \n",
    "    model.parameters['tau'] = samples_dict_wave1['tau'][idx]    \n",
    "    model.parameters['prev_schools'] = samples_dict_wave1['prev_schools'][idx]    \n",
    "    model.parameters['prev_work'] = samples_dict_wave1['prev_work'][idx]     \n",
    "    model.parameters['prev_transport'] = samples_dict_wave1['prev_transport'][idx]    \n",
    "    model.parameters['prev_leisure'] = samples_dict_wave1['prev_leisure'][idx]     \n",
    "    model.parameters['prev_others'] = samples_dict_wave1['prev_others'][idx]      \n",
    "\n",
    "    # Simulate\n",
    "    y_model = model.sim(end_sim,start_date=start_calibration,warmup=theta_pso[-1])\n",
    "    # Plot\n",
    "    ax.plot(y_model['time'],y_model[\"H_in\"].sum(dim=\"Nc\"),color='blue',alpha=0.1)\n",
    "\n",
    "ax.scatter(df_sciensano[start_calibration:end_calibration].index,df_sciensano['H_in'][start_calibration:end_calibration],color='black',alpha=0.6,linestyle='None',facecolors='none')\n",
    "ax = _apply_tick_locator(ax)\n",
    "ax.set_xlim('2020-02-15',end_sim)\n",
    "fig.savefig(fig_path+'others/FIT_WAVE1_GOOGLE_'+spatial_unit+'_'+str(datetime.date.today())+'.pdf', dpi=400, bbox_inches='tight')"
   ]
  },
  {
   "cell_type": "markdown",
   "metadata": {},
   "source": [
    "## Visualizations\n",
    "\n",
    "### Goodness-of-fit: $\\beta$, $l$ and $\\tau$"
   ]
  },
  {
   "cell_type": "code",
   "execution_count": null,
   "metadata": {
    "ExecuteTime": {
     "end_time": "2020-11-20T07:47:07.542990Z",
     "start_time": "2020-11-20T07:47:07.346133Z"
    }
   },
   "outputs": [],
   "source": [
    "old_theta = {name:par for name,par in zip(parNames, theta) } \n",
    "old_theta"
   ]
  },
  {
   "cell_type": "code",
   "execution_count": null,
   "metadata": {},
   "outputs": [],
   "source": [
    "params.update({'samples_dict': samples_dict})\n",
    "\n",
    "# Re-initialize the model\n",
    "model = models.COVID19_SEIRD(initial_states, params, time_dependent_parameters={'Nc': google_lockdown, 'beta': switch_beta})"
   ]
  },
  {
   "cell_type": "code",
   "execution_count": null,
   "metadata": {
    "ExecuteTime": {
     "end_time": "2020-11-20T07:44:44.019193Z",
     "start_time": "2020-11-20T07:44:34.715735Z"
    }
   },
   "outputs": [],
   "source": [
    "end_sim = end_calibration\n",
    "\n",
    "fig,ax=plt.subplots(figsize=(10,4))\n",
    "for i in range(10):\n",
    "    # Sampling\n",
    "    idx, model.parameters['beta'] = random.choice(list(enumerate(samples_dict_wave1['beta'])))\n",
    "    model.parameters['l'] = samples_dict_wave1['l'][idx] \n",
    "    model.parameters['tau'] = samples_dict_wave1['tau'][idx]    \n",
    "    model.parameters['prev_schools'] = samples_dict_wave1['prev_schools'][idx]    \n",
    "    model.parameters['prev_work'] = samples_dict_wave1['prev_work'][idx]     \n",
    "    model.parameters['prev_transport'] = samples_dict_wave1['prev_transport'][idx]    \n",
    "    model.parameters['prev_leisure'] = samples_dict_wave1['prev_leisure'][idx]     \n",
    "    model.parameters['prev_others'] = samples_dict_wave1['prev_others'][idx]      \n",
    "\n",
    "    # Simulate\n",
    "    y_model = model.sim(end_sim,start_date=start_calibration,warmup=51)\n",
    "    # Plot\n",
    "    ax.plot(y_model['time'],y_model[\"H_in\"].sum(dim=\"Nc\"),color='blue',alpha=0.1)\n",
    "\n",
    "ax.scatter(df_sciensano[start_calibration:end_calibration].index,df_sciensano['H_in'][start_calibration:end_calibration],color='black',alpha=0.6,linestyle='None',facecolors='none')\n",
    "ax = _apply_tick_locator(ax)\n",
    "ax.set_xlim('2020-03-15',end_sim)\n",
    "#plt.savefig(fig_path+'others/FIT_WAVE1_GOOGLE_'+spatial_unit+'_'+str(datetime.date.today())+'.pdf', dpi=400, bbox_inches='tight')"
   ]
  },
  {
   "cell_type": "markdown",
   "metadata": {},
   "source": [
    "### $R_0$"
   ]
  },
  {
   "cell_type": "code",
   "execution_count": null,
   "metadata": {},
   "outputs": [],
   "source": [
    "fig,ax=plt.subplots(figsize=(10,4))\n",
    "ax.hist(samples_dict['R0'],bins=30)\n",
    "plt.savefig(fig_path+'others/R0_GOOGLE.pdf', dpi=400, bbox_inches='tight',orientation='portrait', papertype='a4')"
   ]
  },
  {
   "cell_type": "markdown",
   "metadata": {},
   "source": [
    "### Seroprelevance"
   ]
  },
  {
   "cell_type": "code",
   "execution_count": null,
   "metadata": {},
   "outputs": [],
   "source": [
    "end_sim = '2020-06-01'\n",
    "\n",
    "fig,ax=plt.subplots(figsize=(10,4))\n",
    "for i in range(10):\n",
    "    model.parameters = draw_sample_COVID19_SEIRD_google(model.parameters,samples_dict)\n",
    "    y_model = model.sim(end_sim,start_date=start_data,excess_time=samples_dict['warmup'])\n",
    "    ax.plot((1-y_model[\"S\"].sel(time=end_sim)/y_model[\"S\"].isel(time=0))*100,alpha=0.03,color='blue',linewidth=2)\n",
    "\n",
    "ax.set_xlabel('age')\n",
    "ax.set_ylabel(\"seroprelevance (%)\" )\n",
    "ax.set_ylim()\n",
    "plt.xticks(np.arange(9), ('[0-10[', '[10-20[', '[20-30[', '[30-40[', '[40-50[', '[50-60[', '[60-70[', '[70-80[', '[80-$\\infty$['))\n",
    "\n",
    "plt.savefig(fig_path+'others/SEROPRELEVANCE_'+end_sim+'_GOOGLE.pdf', dpi=400, bbox_inches='tight',orientation='portrait', papertype='a4')"
   ]
  },
  {
   "cell_type": "markdown",
   "metadata": {},
   "source": [
    "### Lockdown release"
   ]
  },
  {
   "cell_type": "code",
   "execution_count": null,
   "metadata": {},
   "outputs": [],
   "source": [
    "end_sim = '2020-09-01'\n",
    "n=100\n",
    "percentile = 0.99\n",
    "\n",
    "y_model = model.sim(end_sim,start_date=start_data,excess_time=samples_dict['warmup'],N=n,draw_fcn=draw_sample_COVID19_SEIRD_google,samples=samples_dict)\n",
    "\n",
    "fig,ax = plt.subplots(figsize=(10,4))\n",
    "ax.fill_between(pd.to_datetime(y_model['time'].values),y_model[\"H_tot\"].quantile(1-percentile,dim=\"draws\").sum(dim=\"Nc\"), y_model[\"H_tot\"].quantile(percentile,dim=\"draws\").sum(dim=\"Nc\"),alpha=0.30)\n",
    "ax.plot(y_model['time'],y_model[\"H_tot\"].mean(dim=\"draws\").sum(dim=\"Nc\"),'--')\n",
    "ax.scatter(df_sciensano[:end_sim].index,df_sciensano['H_tot'][:end_sim],color='black',alpha=0.4,linestyle='None',facecolors='none')\n",
    "ax = _apply_tick_locator(ax)\n",
    "plt.savefig(fig_path+'others/LOCKDOWN_RELEASE_WAVE1_GOOGLE.pdf', dpi=400, bbox_inches='tight',orientation='portrait', papertype='a4')"
   ]
  },
  {
   "cell_type": "markdown",
   "metadata": {},
   "source": [
    "### Save results to a .csv"
   ]
  },
  {
   "cell_type": "code",
   "execution_count": null,
   "metadata": {},
   "outputs": [],
   "source": [
    "index = y_model['time'].values\n",
    "columns = ['WAVE1_INCIDENCES_MEAN','WAVE1_INCIDENCES_MEDIAN','WAVE1_INCIDENCES_LL','WAVE1_INCIDENCES_UL']\n",
    "data = np.transpose(np.array([\n",
    "        y_model[\"H_tot\"].mean(dim=\"draws\").sum(dim=\"Nc\").values.tolist(),\n",
    "        y_model[\"H_tot\"].median(dim=\"draws\").sum(dim=\"Nc\").values.tolist(),\n",
    "        y_model[\"H_tot\"].quantile(1-percentile,dim=\"draws\").sum(dim=\"Nc\").values.tolist(),\n",
    "        y_model[\"H_tot\"].quantile(percentile,dim=\"draws\").sum(dim=\"Nc\").values.tolist()\n",
    "       ]))"
   ]
  },
  {
   "cell_type": "code",
   "execution_count": null,
   "metadata": {},
   "outputs": [],
   "source": [
    "df = pd.DataFrame(data,columns=columns,index=index)\n",
    "df.head()"
   ]
  },
  {
   "cell_type": "code",
   "execution_count": null,
   "metadata": {},
   "outputs": [],
   "source": [
    "df.to_csv('../../results/predictions/FAGG/COVID19_SEIRD/WAVE1.csv',index=True)"
   ]
  },
  {
   "cell_type": "code",
   "execution_count": null,
   "metadata": {},
   "outputs": [],
   "source": []
  }
 ],
 "metadata": {
  "kernelspec": {
   "display_name": "COVID19",
   "language": "python",
   "name": "python3"
  },
  "language_info": {
   "codemirror_mode": {
    "name": "ipython",
    "version": 3
   },
   "file_extension": ".py",
   "mimetype": "text/x-python",
   "name": "python",
   "nbconvert_exporter": "python",
   "pygments_lexer": "ipython3",
   "version": "3.7.7"
  },
  "toc": {
   "base_numbering": 1,
   "nav_menu": {},
   "number_sections": true,
   "sideBar": true,
   "skip_h1_title": false,
   "title_cell": "Table of Contents",
   "title_sidebar": "Contents",
   "toc_cell": false,
   "toc_position": {
    "height": "calc(100% - 180px)",
    "left": "10px",
    "top": "150px",
    "width": "170px"
   },
   "toc_section_display": true,
   "toc_window_display": true
  }
 },
 "nbformat": 4,
 "nbformat_minor": 4
}
