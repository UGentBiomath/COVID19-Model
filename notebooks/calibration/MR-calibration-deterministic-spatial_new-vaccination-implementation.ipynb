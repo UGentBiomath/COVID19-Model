{
 "cells": [
  {
   "cell_type": "markdown",
   "metadata": {},
   "source": [
    "**Calibration of spatial deterministic model**\n",
    "with vaccination, VOC, and seasonality implemented as rescaling parameters\n",
    "\n",
    "Setup:\n",
    "1. Level of provinces (with the correct P-matrices and TDPF)\n",
    "2. With VOC-induced increased hospitalisation propensity\n",
    "3. ..."
   ]
  },
  {
   "cell_type": "markdown",
   "metadata": {},
   "source": [
    "# Load Python packages"
   ]
  },
  {
   "cell_type": "code",
   "execution_count": 1,
   "metadata": {
    "ExecuteTime": {
     "end_time": "2022-03-10T10:17:17.868364Z",
     "start_time": "2022-03-10T10:17:15.854172Z"
    }
   },
   "outputs": [],
   "source": [
    "# Load packages\n",
    "# Established packages\n",
    "import os\n",
    "import numpy as np\n",
    "import pandas as pd\n",
    "import matplotlib.pyplot as plt\n",
    "\n",
    "import numpy as np\n",
    "import pandas as pd\n",
    "import matplotlib.pyplot as plt\n",
    "\n",
    "from covid19model.models.models import COVID19_SEIQRD_spatial_stratified_rescaling, jit_main_function_spatial\n",
    "from covid19model.models.utils import initialize_COVID19_SEIQRD_stratified_vacc\n",
    "\n",
    "# Import time-dependent parameter functions for resp. P, Nc, alpha, N_vacc, season_factor\n",
    "from covid19model.models.time_dependant_parameter_fncs import make_mobility_update_function, \\\n",
    "                                                          make_contact_matrix_function, \\\n",
    "                                                          make_VOC_function, \\\n",
    "                                                          make_vaccination_rescaling_function, \\\n",
    "                                                          make_seasonality_function_NEW\n",
    "\n",
    "# Import packages containing functions to load in data used in the model and the time-dependent parameter functions\n",
    "from covid19model.data import mobility, sciensano, model_parameters, VOC\n",
    "\n",
    "# OPTIONAL: Load the \"autoreload\" extension so that package code can change\n",
    "%load_ext autoreload\n",
    "# OPTIONAL: always reload modules so that as you change code in src, it gets loaded\n",
    "# This may be useful because the `covid19model` package is under construction\n",
    "%autoreload 2\n",
    "\n",
    "# Spatial stratification\n",
    "agg = 'prov'"
   ]
  },
  {
   "cell_type": "markdown",
   "metadata": {},
   "source": [
    "# Load model parameter values\n",
    "The model is supported by many parameters, which must be loaded into the model later on"
   ]
  },
  {
   "cell_type": "code",
   "execution_count": 2,
   "metadata": {
    "ExecuteTime": {
     "end_time": "2022-03-10T10:17:19.758286Z",
     "start_time": "2022-03-10T10:17:17.868364Z"
    }
   },
   "outputs": [],
   "source": [
    "# Population size, interaction matrices and the model parameters\n",
    "initN, Nc_dict, params, CORE_samples_dict = model_parameters.get_COVID19_SEIQRD_parameters(spatial='prov')\n",
    "\n",
    "# Google Mobility data (for social contact Nc)\n",
    "df_google = mobility.get_google_mobility_data(update=False, provincial=True)\n",
    "\n",
    "# Load and format mobility dataframe (for mobility place)\n",
    "proximus_mobility_data = mobility.get_proximus_mobility_data('prov')\n",
    "\n",
    "# Variants of concern\n",
    "VOCs = ['WT', 'abc', 'delta']\n",
    "VOC_logistic_growth_parameters, VOC_params = model_parameters.get_COVID19_SEIQRD_VOC_parameters(initN, params['h'], VOCs=VOCs)\n",
    "params.update(VOC_params)\n",
    "\n",
    "# Load and format local vaccination-induced rescaling data, which is also under the sciensano object\n",
    "rescaling_df = sciensano.get_vaccination_rescaling_values(spatial=True)"
   ]
  },
  {
   "cell_type": "code",
   "execution_count": 3,
   "metadata": {
    "ExecuteTime": {
     "end_time": "2022-03-10T10:17:19.836372Z",
     "start_time": "2022-03-10T10:17:19.758286Z"
    }
   },
   "outputs": [],
   "source": [
    "# Delete parameters that are superfluous for the new approach\n",
    "\n",
    "superfluous_params = ['f_immune_escape', 'e_s', 'e_h', 'e_i', 'doses', 'd_vacc', 'N_vacc', 'daily_doses', 'delay_immunity', 'vacc_order', 'stop_idx', 'refusal', 'initN', 'default_mobility', 'onset_days']\n",
    "for key in superfluous_params:\n",
    "    if key in params:\n",
    "        params.pop(key)\n",
    "        \n",
    "# Add new parameters (these will be time-dependent soon)\n",
    "params['E_susc'] = np.ones([11, 10])\n",
    "params['E_inf'] = np.ones([11, 10])\n",
    "params['E_hosp'] = np.ones([11, 10])\n",
    "\n",
    "# Add seasonality parameter\n",
    "params['seasonality'] = 1\n",
    "\n",
    "# Change default value of K_inf (by including K_hosp, the default values can no longer be even close to true)\n",
    "params['K_inf'] = np.array([1.5, 1], np.float64)\n",
    "params['K_hosp'] = np.array([1.01, 1], np.float64)"
   ]
  },
  {
   "cell_type": "code",
   "execution_count": 4,
   "metadata": {
    "ExecuteTime": {
     "end_time": "2022-03-10T10:17:28.528826Z",
     "start_time": "2022-03-10T10:17:28.434936Z"
    }
   },
   "outputs": [],
   "source": [
    "##################################################\n",
    "## Construct time-dependent parameter functions ##\n",
    "##################################################\n",
    "\n",
    "# Time-dependent social contact matrix over all policies, updating Nc\n",
    "policy_function = make_contact_matrix_function(df_google, Nc_dict).policies_all_spatial\n",
    "policy_function_work = make_contact_matrix_function(df_google, Nc_dict).policies_all_work_only\n",
    "\n",
    "# Time-dependent mobility function, updating P (place)\n",
    "mobility_function = \\\n",
    "    make_mobility_update_function(proximus_mobility_data).mobility_wrapper_func\n",
    "\n",
    "# Time-dependent VOC function, updating alpha\n",
    "VOC_function = make_VOC_function(VOC_logistic_growth_parameters)\n",
    "\n",
    "# Time-dependent vaccination-induced rescaling parameter functions, updating E_susc^g, E_inf^g, E_hosp^g\n",
    "E_susc_function = make_vaccination_rescaling_function(rescaling_df).E_susc\n",
    "E_inf_function = make_vaccination_rescaling_function(rescaling_df).E_inf\n",
    "E_hosp_function = make_vaccination_rescaling_function(rescaling_df).E_hosp\n",
    "\n",
    "# Time-dependent seasonality function, updating season_factor\n",
    "seasonality_function = make_seasonality_function_NEW()"
   ]
  },
  {
   "cell_type": "markdown",
   "metadata": {
    "ExecuteTime": {
     "end_time": "2021-02-23T16:03:42.698469Z",
     "start_time": "2021-02-23T16:03:42.633642Z"
    }
   },
   "source": [
    "# Initialise model\n",
    "The spatial model must have an initial condition. These choices have been determined with a prior calibration and saved in a `pickle` file that is loaded below"
   ]
  },
  {
   "cell_type": "code",
   "execution_count": 5,
   "metadata": {
    "ExecuteTime": {
     "end_time": "2022-03-10T10:17:33.689917Z",
     "start_time": "2022-03-10T10:17:33.601113Z"
    }
   },
   "outputs": [],
   "source": [
    "####################\n",
    "## Initial states ##\n",
    "####################\n",
    "\n",
    "start_calibration = '2020-03-17'\n",
    "\n",
    "import pickle\n",
    "data_path = \"../../data/\"\n",
    "\n",
    "# Get correct initial condition\n",
    "samples_path = data_path + 'interim/model_parameters/COVID19_SEIQRD/initial_conditions/prov/'\n",
    "\n",
    "with open(samples_path+'initial_states-COVID19_SEIQRD_spatial.pickle', 'rb') as handle:\n",
    "    load = pickle.load(handle)\n",
    "    initial_states = load[start_calibration]"
   ]
  },
  {
   "cell_type": "code",
   "execution_count": 6,
   "metadata": {
    "ExecuteTime": {
     "end_time": "2022-03-10T10:17:35.806224Z",
     "start_time": "2022-03-10T10:17:34.211065Z"
    }
   },
   "outputs": [],
   "source": [
    "##########################\n",
    "## Initialize the model ##\n",
    "##########################\n",
    "\n",
    "# Initiate model with initial states, defined parameters, and proper time dependent functions\n",
    "model = COVID19_SEIQRD_spatial_stratified_rescaling(initial_states, params, spatial='prov',\n",
    "                        time_dependent_parameters={'Nc' : policy_function,\n",
    "                                                'Nc_work' : policy_function_work,\n",
    "                                                'place' : mobility_function,\n",
    "                                                'f_VOC' : VOC_function,\n",
    "                                                'E_susc' : E_susc_function,\n",
    "                                                'E_inf' : E_inf_function,\n",
    "                                                'E_hosp' : E_hosp_function,\n",
    "                                                'seasonality' : seasonality_function})"
   ]
  },
  {
   "cell_type": "code",
   "execution_count": 7,
   "metadata": {
    "ExecuteTime": {
     "end_time": "2022-03-10T10:17:56.541899Z",
     "start_time": "2022-03-10T10:17:39.885644Z"
    }
   },
   "outputs": [],
   "source": [
    "########################\n",
    "## Run the model once ##\n",
    "########################\n",
    "\n",
    "# takes approximately 20 seconds on Michiel's local device\n",
    "# Can be halved by using RK23 with larger relative tolerance\n",
    "\n",
    "end_test_run = '2021-12-31'\n",
    "\n",
    "warmup = 0\n",
    "out = model.sim(end_test_run,start_date=start_calibration,warmup=warmup)"
   ]
  },
  {
   "cell_type": "code",
   "execution_count": 8,
   "metadata": {
    "ExecuteTime": {
     "end_time": "2022-03-10T10:17:58.173205Z",
     "start_time": "2022-03-10T10:17:57.921291Z"
    }
   },
   "outputs": [
    {
     "data": {
      "text/plain": [
       "[<matplotlib.lines.Line2D at 0x29025d25d30>]"
      ]
     },
     "execution_count": 8,
     "metadata": {},
     "output_type": "execute_result"
    },
    {
     "data": {
      "image/png": "[encoded data removed]",
      "text/plain": [
       "<Figure size 432x288 with 1 Axes>"
      ]
     },
     "metadata": {
      "needs_background": "light"
     },
     "output_type": "display_data"
    }
   ],
   "source": [
    "##############################\n",
    "## Show the test run result ##\n",
    "##############################\n",
    "\n",
    "out['H_in'].sum(dim='place').sum(dim='Nc').plot()"
   ]
  },
  {
   "cell_type": "markdown",
   "metadata": {},
   "source": [
    "# Load and show all hospitalisation data per arrondissement\n",
    "The model is calibrated on daily new hospitalisations (`H_in`). This data is found in the nonpublic repository. 7-day averaged data is available from March 5th 2020. This is almost two weeks prior to the first lockdown (March 18th). Mobility data is available for this date."
   ]
  },
  {
   "cell_type": "code",
   "execution_count": null,
   "metadata": {
    "ExecuteTime": {
     "end_time": "2021-03-31T20:26:30.244383Z",
     "start_time": "2021-03-31T20:26:29.653128Z"
    }
   },
   "outputs": [],
   "source": [
    "nonpublic_ts = sciensano.get_sciensano_COVID19_data_spatial(agg=agg, values='hospitalised_IN', moving_avg=True)\n",
    "nonpublic_ts.tail(2)"
   ]
  },
  {
   "cell_type": "code",
   "execution_count": null,
   "metadata": {
    "ExecuteTime": {
     "end_time": "2021-03-31T20:27:03.737850Z",
     "start_time": "2021-03-31T20:27:01.267273Z"
    }
   },
   "outputs": [],
   "source": [
    "# Show all 43 time series and one selection\n",
    "fig, (ax2, ax3) = plt.subplots(2, 1, figsize=(16, 4))\n",
    "\n",
    "nonpublic_ts.plot(ax=ax2, linewidth=0, kind='area')\n",
    "ax2.legend().remove()\n",
    "ax2.grid(False)\n",
    "xlabel=ax2.set_xlabel(None)\n",
    "title=ax2.set_title(f'Daily new hospitalisations per {agg} (7-day moving average)')\n",
    "ylim=ax2.set_ylim([0, 600])\n",
    "\n",
    "# Add data for one NIS\n",
    "NIS_choice=21000\n",
    "nonpublic_ts[[NIS_choice]].plot(ax=ax3)\n",
    "# ax3.legend().remove()\n",
    "ax3.grid(False)\n",
    "# title=ax3.set_title(f'Daily new hospitalisations for NIS {NIS_choice} (7-day moving average)')\n",
    "\n",
    "for ax in fig.get_axes():\n",
    "    ax.label_outer()"
   ]
  },
  {
   "cell_type": "markdown",
   "metadata": {},
   "source": [
    "# Calibration\n",
    "\n",
    "The code below is mostly copied from `JV-calibration-COVID19-SEIRD-WAVE1.ipynb` and the functions used there."
   ]
  },
  {
   "cell_type": "code",
   "execution_count": null,
   "metadata": {
    "ExecuteTime": {
     "end_time": "2021-03-29T11:02:42.379615Z",
     "start_time": "2021-03-29T11:02:42.297448Z"
    }
   },
   "outputs": [],
   "source": [
    "# Date of first data collection\n",
    "start_calibration = '2020-03-05' # first available date\n",
    "# Last datapoint used to calibrate prevention parameters\n",
    "end_calibration = '2020-07-01'\n",
    "\n",
    "# Path where figures should be stored\n",
    "fig_path = '../../results/calibrations/COVID19_SEIRD/national/'\n",
    "# Path where MCMC samples should be saved\n",
    "samples_path = '../../data/interim/model_parameters/COVID19_SEIRD/calibrations/national/'\n",
    "# Spatial unit: identifier\n",
    "spatial_unit = f'{agg}_willem2012_prev_thin'"
   ]
  },
  {
   "cell_type": "code",
   "execution_count": null,
   "metadata": {
    "ExecuteTime": {
     "end_time": "2021-03-29T11:02:42.459929Z",
     "start_time": "2021-03-29T11:02:42.379615Z"
    }
   },
   "outputs": [],
   "source": [
    "# define dataset from the start and end date\n",
    "data=[nonpublic_ts[start_calibration:end_calibration]]\n",
    "\n",
    "# Define the compartment that the calibration will be looking at\n",
    "states = [[\"H_in\"]]"
   ]
  },
  {
   "cell_type": "code",
   "execution_count": null,
   "metadata": {
    "ExecuteTime": {
     "end_time": "2021-03-29T11:02:42.539722Z",
     "start_time": "2021-03-29T11:02:42.459929Z"
    }
   },
   "outputs": [],
   "source": [
    "# Initial value for warmup time\n",
    "init_warmup = 30\n",
    "\n",
    "# Parameters for PSO\n",
    "maxiter = 100\n",
    "popsize = 5\n",
    "\n",
    "# Number of parallel processors used\n",
    "processes = 4\n",
    "\n",
    "# Parameters for MCMC\n",
    "steps_mcmc = 3000 #3000\n",
    "discard = 1000 #1000"
   ]
  },
  {
   "cell_type": "code",
   "execution_count": null,
   "metadata": {
    "ExecuteTime": {
     "end_time": "2021-03-29T11:02:42.619850Z",
     "start_time": "2021-03-29T11:02:42.539722Z"
    }
   },
   "outputs": [],
   "source": [
    "############################################################\n",
    "####### CALIBRATING WARMUP, BETA AND COMPLIANCE RAMP #######\n",
    "############################################################\n",
    "\n",
    "print('------------------------------------')\n",
    "print('CALIBRATING BETA AND COMPLIANCE RAMP')\n",
    "print('------------------------------------\\n')\n",
    "print('Using data from '+start_calibration+' until '+end_calibration+'\\n')\n",
    "print('1) Particle swarm optimization\\n')\n",
    "\n",
    "# set PSO optimisation settings\n",
    "parNames = ['warmup', 'beta_R', 'beta_U', 'beta_M', 'l', 'tau']\n",
    "bounds=((10,80), (0.010,0.060), (0.010,0.060), (0.010,0.060), (0.1,20), (0.1,20))\n",
    "\n",
    "# run PSO optimisation\n",
    "# theta_pso = pso.fit_pso(model_wave1,data,parNames,states,bounds,maxiter=maxiter,popsize=popsize,\n",
    "#                     start_date=start_calibration,warmup=init_warmup, processes=processes, dist='poisson', poisson_offset=1, agg=agg) \n",
    "# warmup = int(theta_pso[-1])"
   ]
  },
  {
   "cell_type": "markdown",
   "metadata": {},
   "source": [
    "# Scratches"
   ]
  },
  {
   "cell_type": "markdown",
   "metadata": {},
   "source": [
    "## Only show upper graph of H_in timeseries"
   ]
  },
  {
   "cell_type": "code",
   "execution_count": null,
   "metadata": {
    "ExecuteTime": {
     "end_time": "2021-03-31T20:34:40.924516Z",
     "start_time": "2021-03-31T20:34:35.635244Z"
    }
   },
   "outputs": [],
   "source": [
    "# Show all 43 time series and one selection\n",
    "fig, ax69 = plt.subplots(figsize=(12, 7))\n",
    "\n",
    "nonpublic_ts.plot(ax=ax69, linewidth=0, kind='area')\n",
    "ax69.legend().remove()\n",
    "ax69.grid(False)\n",
    "xlabel=ax69.set_xlabel(None)\n",
    "ylabel=ax69.set_ylabel(r'$H_{in}$',size=18)\n",
    "title=ax69.set_title(f'Daily new hospitalisations per arrondissement (7-day moving average)', size=18)\n",
    "ylim=ax69.set_ylim([0, 650])\n",
    "\n",
    "plt.savefig(\"daily-new-hosp_arr_until-31032021\", dpi=400, bbox_inches='tight')"
   ]
  },
  {
   "cell_type": "markdown",
   "metadata": {},
   "source": [
    "## Plot preliminary results from PSO"
   ]
  },
  {
   "cell_type": "code",
   "execution_count": null,
   "metadata": {
    "ExecuteTime": {
     "end_time": "2021-03-31T11:51:26.747064Z",
     "start_time": "2021-03-31T11:51:16.577998Z"
    }
   },
   "outputs": [],
   "source": [
    "# Fill in data from PSO (ran from console)\n",
    "#initial conditions\n",
    "initE = initial_state(dist='bxl', agg=agg, age=40, number=1) # 1 40-somethings dropped in Brussels (arrival by plane)\n",
    "initial_states = {'S': initN, 'E': initE}\n",
    "#parameters\n",
    "params.update({\"beta_R\": 0.05911714228791011, # taken from corner plot\n",
    "               \"beta_U\": 0.05807289680441654, # taken from corner plot\n",
    "               \"beta_M\": 0.05370565085646678, # taken from corner plot\n",
    "               \"l\": 12.93255574616446, # taken from corner plot\n",
    "               \"tau\": 0.1}) # fixed\n",
    "warmup=35 # taken from PSO\n",
    "start_calibration = '2020-03-05'\n",
    "\n",
    "# Execute simulation with these data\n",
    "#initiate model with initial states, defined parameters, and wave1_policies determining the evolution of Nc\n",
    "model_wave1 = models.COVID19_SEIRD_spatial(initial_states, params, time_dependent_parameters = \\\n",
    "                                           {'Nc' : tdpf.wave1_policies, 'place' : tdpf.mobility_update_func}, spatial=agg)\n",
    "#simulate\n",
    "out = model_wave1.sim(end_date, start_date=start_calibration, warmup=warmup)#, N=2)"
   ]
  },
  {
   "cell_type": "code",
   "execution_count": null,
   "metadata": {
    "ExecuteTime": {
     "end_time": "2021-03-31T11:51:37.133403Z",
     "start_time": "2021-03-31T11:51:36.875754Z"
    }
   },
   "outputs": [],
   "source": [
    "# sum total\n",
    "fig, ax = plt.subplots(figsize=(16,5))\n",
    "\n",
    "out[\"H_in\"].sum(dim='Nc').sum(dim='place').plot(ax=ax, label='simulation')\n",
    "nonpublic_ts.sum(axis=1).plot(ax=ax, label='data', style='.')\n",
    "plt.plot()\n",
    "ax.grid(False)\n",
    "ax.legend()\n",
    "title=ax.set_title(\"Comparison between preliminary PSO results and Sciensano data. Summed over all NIS codes.\")"
   ]
  },
  {
   "cell_type": "code",
   "execution_count": null,
   "metadata": {
    "ExecuteTime": {
     "end_time": "2021-03-31T12:03:21.576911Z",
     "start_time": "2021-03-31T12:03:21.328613Z"
    }
   },
   "outputs": [],
   "source": [
    "# Individual\n",
    "NIS=11000\n",
    "\n",
    "fig, ax = plt.subplots(figsize=(16,5))\n",
    "\n",
    "out[\"H_in\"].sum(dim='Nc').sel(place=NIS).plot(ax=ax, label='simulation')\n",
    "nonpublic_ts[[NIS]].plot(ax=ax, label='data', style='.')\n",
    "plt.plot()\n",
    "ax.grid(False)\n",
    "ax.legend()\n",
    "title=ax.set_title(\"Comparison between preliminary PSO results and Sciensano data. For one NIS code.\")"
   ]
  },
  {
   "cell_type": "code",
   "execution_count": null,
   "metadata": {
    "ExecuteTime": {
     "end_time": "2021-03-30T22:05:42.701257Z",
     "start_time": "2021-03-30T22:05:42.382450Z"
    }
   },
   "outputs": [],
   "source": [
    "df_sciensano = sciensano.get_sciensano_COVID19_data_spatial(agg=agg, moving_avg=True, values='hospitalised_IN')\n",
    "\n",
    "fig,ax = plt.subplots(figsize=(10,5))\n",
    "ax.scatter(df_sciensano.index, df_sciensano[[32000]], color='black', alpha=0.6, linestyle='None', facecolors='none', s=60, linewidth=2)"
   ]
  },
  {
   "cell_type": "markdown",
   "metadata": {},
   "source": [
    "## Test the relation between length of `l` and execution time\n",
    "I suspect that low `l` values imply that the discontinuity is 'stronger', meaning that the ODE solver needs more time steps"
   ]
  },
  {
   "cell_type": "code",
   "execution_count": null,
   "metadata": {
    "ExecuteTime": {
     "end_time": "2021-03-30T21:10:16.527986Z",
     "start_time": "2021-03-30T21:06:52.077623Z"
    }
   },
   "outputs": [],
   "source": [
    "# Fill in data from PSO (ran from console)\n",
    "#initial conditions\n",
    "initE = initial_state(dist='bxl', agg=agg, age=40, number=1) # 1 40-somethings dropped in Brussels (arrival by plane)\n",
    "initial_states = {'S': initN, 'E': initE}\n",
    "\n",
    "import time\n",
    "\n",
    "lrange = list(np.arange(1,20,1))\n",
    "times = np.array([])\n",
    "\n",
    "for l in np.arange(1, 20, 1):\n",
    "    start_time = time.time()\n",
    "    # execute code\n",
    "    params.update({\"beta_R\": 0.0502,\n",
    "                   \"beta_U\": 0.0350,\n",
    "                   \"beta_M\": 0.035,\n",
    "                   \"l\": l, #\n",
    "                   \"tau\": 0.1}) # fixed\n",
    "    warmup=59\n",
    "    start_calibration = '2020-03-05'\n",
    "\n",
    "    # Execute simulation with these data\n",
    "    #initiate model with initial states, defined parameters, and wave1_policies determining the evolution of Nc\n",
    "    model_wave1 = models.COVID19_SEIRD_spatial(initial_states, params, time_dependent_parameters = \\\n",
    "                                               {'Nc' : tdpf.wave1_policies, 'place' : tdpf.mobility_update_func}, spatial=agg)\n",
    "    #simulate\n",
    "    out = model_wave1.sim(end_date, start_date=start_calibration, warmup=warmup)#, N=2)\n",
    "    \n",
    "    time_it_took = time.time() - start_time\n",
    "    times = np.append(times, time_it_took)"
   ]
  },
  {
   "cell_type": "code",
   "execution_count": null,
   "metadata": {
    "ExecuteTime": {
     "end_time": "2021-03-30T21:12:18.463573Z",
     "start_time": "2021-03-30T21:12:17.760747Z"
    }
   },
   "outputs": [],
   "source": [
    "# Actually kind of the opposite of what I was expecting\n",
    "fig, ax = plt.subplots(figsize=(15,5))\n",
    "ax.plot(lrange,times)\n",
    "ax.set_xlabel('$l$ compliance value', size=18)\n",
    "ax.set_ylabel('Computation time (s)', size=18)"
   ]
  },
  {
   "cell_type": "code",
   "execution_count": null,
   "metadata": {
    "ExecuteTime": {
     "end_time": "2021-03-31T15:58:04.693780Z",
     "start_time": "2021-03-31T15:58:04.624674Z"
    }
   },
   "outputs": [],
   "source": [
    "test = np.array([[1, 2, 3], [4, np.nan, 6]])\n",
    "np.nanmin(test)"
   ]
  },
  {
   "cell_type": "markdown",
   "metadata": {},
   "source": [
    "## Manual code for plotting from samples_dict"
   ]
  },
  {
   "cell_type": "code",
   "execution_count": null,
   "metadata": {
    "ExecuteTime": {
     "end_time": "2021-03-31T11:51:02.123364Z",
     "start_time": "2021-03-31T11:51:02.046435Z"
    }
   },
   "outputs": [],
   "source": [
    "import json\n",
    "import random\n",
    "\n",
    "dict_file = \"../../data/interim/model_parameters/COVID19_SEIRD/calibrations/arr/arr_willem2012_warmup_betas_comp_BETAs-comp_2021-03-31.json\"\n",
    "\n",
    "# Copied from mrollier-calibration_wave1\n",
    "def draw_fcn(param_dict,samples_dict):\n",
    "    # pick one random value from the dictionary\n",
    "    idx, param_dict['beta_R'] = random.choice(list(enumerate(samples_dict['beta_R'])))\n",
    "    # take out the other parameters that belong to the same iteration\n",
    "    param_dict['beta_U'] = samples_dict['beta_U'][idx]\n",
    "    param_dict['beta_M'] = samples_dict['beta_M'][idx]\n",
    "    param_dict['l'] = samples_dict['l'][idx]\n",
    "    return param_dict\n",
    "\n",
    "with open(dict_file) as json_file:\n",
    "    param_dict = json.load(json_file)\n",
    "    \n",
    "np.median(param_dict['l'])"
   ]
  },
  {
   "cell_type": "code",
   "execution_count": null,
   "metadata": {
    "ExecuteTime": {
     "end_time": "2021-03-31T18:18:02.184464Z",
     "start_time": "2021-03-31T18:18:02.104886Z"
    }
   },
   "outputs": [],
   "source": [
    "theta_pso = np.array([0.05, 0.04, 0.03, 15])\n",
    "nwalkers=50\n",
    "\n",
    "perturbation_beta_fraction = 1e-2\n",
    "perturbation_comp_fraction = 10e-2\n",
    "perturbations_beta = theta_pso[:3] * perturbation_beta_fraction * np.random.uniform(low=-1,high=1,size=(nwalkers,3))\n",
    "perturbations_comp = theta_pso[3:] * perturbation_comp_fraction * np.random.uniform(low=-1,high=1,size=(nwalkers,1))\n",
    "perturbations = np.concatenate((perturbations_beta,perturbations_comp), axis=1)\n",
    "pos = theta_pso + perturbations\n",
    "\n",
    "np.linalg.cond(pos)\n",
    "\n",
    "# np.linalg.cond(np.array([[1, 2], [2, 4]]))"
   ]
  },
  {
   "cell_type": "code",
   "execution_count": null,
   "metadata": {
    "ExecuteTime": {
     "end_time": "2021-03-31T20:53:36.926522Z",
     "start_time": "2021-03-31T20:53:33.250879Z"
    }
   },
   "outputs": [],
   "source": [
    "fig, ax = plt.subplots(figsize=(12,5))\n",
    "df_google[['retail_recreation']].plot(ax=ax)\n",
    "df_google[['work']].plot(ax=ax)\n",
    "ax.set_ylabel('percentage to baseline', size=20)\n",
    "ax.set_xlabel(None)\n",
    "plt.legend(prop={'size':18})\n",
    "ax.grid(False)\n",
    "\n",
    "plt.savefig(\"Google-mob-data_retail-and-work.png\", dpi=400, bbox_inches='tight')"
   ]
  },
  {
   "cell_type": "markdown",
   "metadata": {},
   "source": [
    "## Sketch book"
   ]
  },
  {
   "cell_type": "code",
   "execution_count": null,
   "metadata": {
    "ExecuteTime": {
     "end_time": "2021-05-05T13:45:01.734644Z",
     "start_time": "2021-05-05T13:45:00.003726Z"
    }
   },
   "outputs": [],
   "source": [
    "from covid19model.models.time_dependant_parameter_fncs import make_mobility_update_function#, mobility_wrapper_func\n",
    "\n",
    "df_google = mobility.get_google_mobility_data(update=False, plot=False)\n",
    "# Load interaction matrices. Data taken from willem2012. No CoMix data used yet!\n",
    "initN, Nc_home, Nc_work, Nc_schools, Nc_transport, Nc_leisure, Nc_others, Nc_total = model_parameters.get_interaction_matrices(dataset='willem_2012', spatial=agg)\n",
    "# levels = initN.size\n",
    "Nc_all = {'total': Nc_total, 'home':Nc_home, 'work': Nc_work, 'schools': Nc_schools, 'transport': Nc_transport, 'leisure': Nc_leisure, 'others': Nc_others}\n",
    "\n",
    "\n",
    "proximus_mobility_data, proximus_mobility_data_avg = mobility.get_proximus_mobility_data('arr')\n",
    "mobility_update_func = make_mobility_update_function(proximus_mobility_data, proximus_mobility_data_avg)\n"
   ]
  },
  {
   "cell_type": "code",
   "execution_count": null,
   "metadata": {},
   "outputs": [],
   "source": [
    "t = pd.to_datetime('2020-09-01 16:21:00')\n",
    "states = 0\n",
    "param = 0\n",
    "mobility_wrapper_func(t, states, param, mobility_update_func)"
   ]
  },
  {
   "cell_type": "code",
   "execution_count": null,
   "metadata": {
    "ExecuteTime": {
     "end_time": "2021-05-05T14:31:51.191176Z",
     "start_time": "2021-05-05T14:31:51.111391Z"
    }
   },
   "outputs": [],
   "source": [
    "from covid19model.models.time_dependant_parameter_fncs import make_contact_matrix_function\n",
    "\n",
    "policies_wave1_4prev = make_contact_matrix_function(df_google, Nc_all).policies_wave1_4prev\n",
    "\n",
    "policies_wave1_4prev?"
   ]
  },
  {
   "cell_type": "code",
   "execution_count": null,
   "metadata": {
    "ExecuteTime": {
     "end_time": "2021-05-05T14:32:28.978370Z",
     "start_time": "2021-05-05T14:32:28.907560Z"
    }
   },
   "outputs": [],
   "source": [
    "t = pd.to_datetime('2020-04-01 16:21:00')\n",
    "states = 0\n",
    "param = 0\n",
    "l = 5\n",
    "tau = 5\n",
    "prev_schools=0.5\n",
    "prev_work=0.5\n",
    "prev_rest=0.5\n",
    "prev_home=0.5\n",
    "\n",
    "policies_wave1_4prev(t, states, param, l, tau, prev_schools, prev_work, prev_rest, prev_home)"
   ]
  },
  {
   "cell_type": "code",
   "execution_count": null,
   "metadata": {
    "ExecuteTime": {
     "end_time": "2021-05-06T08:12:03.688845Z",
     "start_time": "2021-05-06T08:12:03.451010Z"
    }
   },
   "outputs": [],
   "source": [
    "df_sciensano = sciensano.get_sciensano_COVID19_data_spatial(agg=agg, moving_avg=True, values='hospitalised_IN')\n",
    "df_sciensano[df_sciensano['DATE']<pd.Timestamp('2020-04-20')]"
   ]
  },
  {
   "cell_type": "markdown",
   "metadata": {},
   "source": [
    "## Make corner plots"
   ]
  },
  {
   "cell_type": "code",
   "execution_count": null,
   "metadata": {
    "ExecuteTime": {
     "end_time": "2021-05-05T08:58:17.833700Z",
     "start_time": "2021-05-05T08:58:15.809181Z"
    }
   },
   "outputs": [],
   "source": [
    "from covid19model.optimization.run_optimization import samples_dict_to_emcee_chain # used for corner plots\n",
    "import json\n",
    "import corner\n",
    "\n",
    "# All necessary information to make a corner plot is in the samples_dict dictionary\n",
    "# Based on Notebooks/calibration/emcee-manual-thinning\n",
    "fig_path = f'../../results/calibrations/COVID19_SEIRD/arr/'\n",
    "signature = 'local-run_init-DATA_100xPSO_1000xMCMC'\n",
    "spatial_unit = signature + \"_first\"\n",
    "run_date = '2021-05-01'\n",
    "filename = 'local-run_init-DATA_100xPSO_1000xMCMC_first_BETAs-prelockdown_2021-05-01.json'\n",
    "samples_dict = json.load(open(f'../../data/interim/model_parameters/COVID19_SEIRD/calibrations/arr/{filename}'))\n",
    "\n",
    "parNames_mcmc = ['beta_R', 'beta_U', 'beta_M']\n",
    "labels = ['$\\\\beta_R$', '$\\\\beta_U$', '$\\\\beta_M$']\n",
    "nwalkers=36\n",
    "discard=0\n",
    "thin=50\n",
    "\n",
    "samples,flat_samples = samples_dict_to_emcee_chain(samples_dict, parNames_mcmc, nwalkers, discard=discard, thin=thin)\n",
    "\n",
    "CORNER_KWARGS = dict(\n",
    "    smooth=0.9,\n",
    "    label_kwargs=dict(fontsize=14),\n",
    "    title_kwargs=dict(fontsize=14),\n",
    "    quantiles=[0.05, 0.95],\n",
    "    levels=(1 - np.exp(-0.5), 1 - np.exp(-2), 1 - np.exp(-9 / 2.)),\n",
    "    plot_density=True,\n",
    "    plot_datapoints=False,\n",
    "    fill_contours=True,\n",
    "    show_titles=True,\n",
    "    max_n_ticks=3,\n",
    "    title_fmt=\".3\"\n",
    ")\n",
    "    # range=[(0,0.12),(0,5.2),(0,15)] # add this to CORNER_KWARGS if range is not automatically good\n",
    "\n",
    "# Cornerplots of samples\n",
    "fig = corner.corner(flat_samples, labels=labels, **CORNER_KWARGS)\n",
    "# for control of labelsize of x,y-ticks:\n",
    "# ticks=[[0,0.50,0.10],[0,1,2],[0,4,8,12],[0,4,8,12],[0,1,2],[0,0.25,0.50,1],[0,0.25,0.50,1],[0,0.25,0.50,1],[0,0.25,0.50,1]],\n",
    "for idx,ax in enumerate(fig.get_axes()):\n",
    "    ax.tick_params(axis='both', labelsize=12, rotation=0)\n",
    "\n",
    "# Save figure\n",
    "fig.show()\n",
    "fig.savefig(fig_path+'cornerplots/'+spatial_unit+'_CORNER_BETAs-prelockdown_'+run_date+'.pdf', dpi=400, bbox_inches='tight')\n",
    "# plt.close()"
   ]
  },
  {
   "cell_type": "code",
   "execution_count": null,
   "metadata": {
    "ExecuteTime": {
     "end_time": "2021-05-12T07:53:09.347583Z",
     "start_time": "2021-05-12T07:53:06.019219Z"
    }
   },
   "outputs": [],
   "source": [
    "from covid19model.optimization.run_optimization import samples_dict_to_emcee_chain # used for corner plots\n",
    "import json\n",
    "import corner\n",
    "\n",
    "# All necessary information to make a corner plot is in the samples_dict dictionary\n",
    "# Based on Notebooks/calibration/emcee-manual-thinning\n",
    "fig_path = f'../../results/calibrations/COVID19_SEIRD/arr/'\n",
    "signature = 'test2'\n",
    "spatial_unit = signature\n",
    "run_date = '2021-05-11'\n",
    "filename = 'test2_2021-05-11.json'\n",
    "samples_dict = json.load(open(f'../../data/interim/model_parameters/COVID19_SEIRD/calibrations/arr/{filename}'))\n",
    "\n",
    "parNames_mcmc = ['beta_R', 'beta_U', 'beta_M', 'l', 'prev_home', 'prev_schools', 'prev_work', 'prev_rest']\n",
    "labels = ['$\\\\beta_R$', '$\\\\beta_U$', '$\\\\beta_M$', '$l$', '$\\Omega_{home}$', '$\\Omega_{schools}$', '$\\Omega_{work}$', '$\\Omega_{rest}$']\n",
    "nwalkers=96\n",
    "discard=0\n",
    "thin=50\n",
    "\n",
    "samples,flat_samples = samples_dict_to_emcee_chain(samples_dict, parNames_mcmc, nwalkers, discard=discard, thin=thin)\n",
    "\n",
    "CORNER_KWARGS = dict(\n",
    "    smooth=0.9,\n",
    "    label_kwargs=dict(fontsize=14),\n",
    "    title_kwargs=dict(fontsize=14),\n",
    "    quantiles=[0.05, 0.95],\n",
    "    levels=(1 - np.exp(-0.5), 1 - np.exp(-2), 1 - np.exp(-9 / 2.)),\n",
    "    plot_density=True,\n",
    "    plot_datapoints=False,\n",
    "    fill_contours=True,\n",
    "    show_titles=True,\n",
    "    max_n_ticks=3,\n",
    "    title_fmt=\".3\"\n",
    ")\n",
    "    # range=[(0,0.12),(0,5.2),(0,15)] # add this to CORNER_KWARGS if range is not automatically good\n",
    "\n",
    "# Cornerplots of samples\n",
    "fig = corner.corner(flat_samples, labels=labels, **CORNER_KWARGS)\n",
    "# for control of labelsize of x,y-ticks:\n",
    "# ticks=[[0,0.50,0.10],[0,1,2],[0,4,8,12],[0,4,8,12],[0,1,2],[0,0.25,0.50,1],[0,0.25,0.50,1],[0,0.25,0.50,1],[0,0.25,0.50,1]],\n",
    "for idx,ax in enumerate(fig.get_axes()):\n",
    "    ax.tick_params(axis='both', labelsize=12, rotation=0)\n",
    "\n",
    "# Save figure\n",
    "fig.show()\n",
    "# fig.savefig(fig_path+'cornerplots/'+spatial_unit+'_CORNER_BETAs_comp_postlockdown_'+run_date+'.pdf', dpi=400, bbox_inches='tight')\n",
    "# plt.close()"
   ]
  },
  {
   "cell_type": "markdown",
   "metadata": {},
   "source": [
    "## Make time series fit"
   ]
  },
  {
   "cell_type": "markdown",
   "metadata": {},
   "source": [
    "## Test new contact matrix import function"
   ]
  },
  {
   "cell_type": "code",
   "execution_count": null,
   "metadata": {
    "ExecuteTime": {
     "end_time": "2021-05-11T08:29:05.144227Z",
     "start_time": "2021-05-11T08:29:04.362397Z"
    }
   },
   "outputs": [],
   "source": [
    "from covid19model.data.model_parameters import get_integrated_willem2012_interaction_matrices\n",
    "from covid19model.models.utils import stratify_beta\n",
    "initN, Nc_dict = get_integrated_willem2012_interaction_matrices(spatial='arr')"
   ]
  },
  {
   "cell_type": "code",
   "execution_count": null,
   "metadata": {
    "ExecuteTime": {
     "end_time": "2021-05-11T08:26:24.143816Z",
     "start_time": "2021-05-11T08:26:24.078947Z"
    }
   },
   "outputs": [],
   "source": [
    "# spatial = 'arr'\n",
    "# initN_data = \"../../data/interim/demographic/initN_\" + spatial + \".csv\"\n",
    "# initN_df = pd.read_csv(initN_data, index_col='NIS')\n",
    "# initN = initN_df.values[:,:-1]"
   ]
  },
  {
   "cell_type": "code",
   "execution_count": null,
   "metadata": {
    "ExecuteTime": {
     "end_time": "2021-05-11T11:16:34.724656Z",
     "start_time": "2021-05-11T11:16:34.610995Z"
    }
   },
   "outputs": [],
   "source": [
    "from covid19model.optimization.utils import perturbate_PSO, run_MCMC\n",
    "\n",
    "theta = np.array([1.0, 1.0, 2.0])\n",
    "pert = [0.01, 0.01, 0.05]\n",
    "multiplier = 12\n",
    "bounds=((0.01, 2), (0.01, 1), (1, 2))\n",
    "perturbate_PSO(theta, pert, multiplier=multiplier, bounds=bounds)[2]"
   ]
  },
  {
   "cell_type": "code",
   "execution_count": null,
   "metadata": {},
   "outputs": [],
   "source": [
    "# ------------------\n",
    "# Create corner plot\n",
    "# ------------------\n",
    "\n",
    "# All necessary information to make a corner plot is in the samples_dict dictionary\n",
    "# This should be put in a separate function\n",
    "\n",
    "CORNER_KWARGS = dict(\n",
    "    smooth=0.9,\n",
    "    label_kwargs=dict(fontsize=14),\n",
    "    title_kwargs=dict(fontsize=14),\n",
    "    quantiles=[0.05, 0.95],\n",
    "    levels=(1 - np.exp(-0.5), 1 - np.exp(-2), 1 - np.exp(-9 / 2.)),\n",
    "    plot_density=True,\n",
    "    plot_datapoints=False,\n",
    "    fill_contours=True,\n",
    "    show_titles=True,\n",
    "    max_n_ticks=3,\n",
    "    title_fmt=\".3\"\n",
    ")\n",
    "    # range=[(0,0.12),(0,5.2),(0,15)] # add this to CORNER_KWARGS if range is not automatically good\n",
    "\n",
    "# Cornerplots of samples. Also uses flat_samples taken from get_chain method above\n",
    "fig = corner.corner(flat_samples, labels=labels, **CORNER_KWARGS)\n",
    "# for control of labelsize of x,y-ticks:\n",
    "# ticks=[[0,0.50,0.10],[0,1,2],[0,4,8,12],[0,4,8,12],[0,1,2],[0,0.25,0.50,1],[0,0.25,0.50,1],[0,0.25,0.50,1],[0,0.25,0.50,1]],\n",
    "for idx,ax in enumerate(fig.get_axes()):\n",
    "    ax.tick_params(axis='both', labelsize=12, rotation=0)\n",
    "\n",
    "# Save figure\n",
    "fig.savefig(f'{fig_path}cornerplots/{signature}_CORNER_BETAs_prelockdown_{run_date}.pdf', dpi=400, bbox_inches='tight')\n",
    "plt.close()\n",
    "\n",
    "# ------------------------\n",
    "# Define sampling function\n",
    "# ------------------------\n",
    "\n",
    "# Can't this be taken out of the script?\n",
    "def draw_fcn(param_dict,samples_dict):\n",
    "    # pick one random value from the dictionary\n",
    "    idx, param_dict['beta_R'] = random.choice(list(enumerate(samples_dict['beta_R'])))\n",
    "    # take out the other parameters that belong to the same iteration\n",
    "    param_dict['beta_U'] = samples_dict['beta_U'][idx]\n",
    "    param_dict['beta_M'] = samples_dict['beta_M'][idx]\n",
    "    return param_dict\n",
    "\n",
    "# ----------------\n",
    "# Perform sampling\n",
    "# ----------------\n",
    "\n",
    "# Takes n_samples samples from MCMC to make simulations with, that are saved in the variable `out`\n",
    "print('\\n4) Simulating using sampled parameters\\n')\n",
    "start_sim = start_calibration\n",
    "end_sim = '2020-03-26' # only plot until the peak for this part\n",
    "out = model_wave1.sim(end_sim,start_date=start_sim,warmup=warmup,N=n_samples,draw_fcn=draw_fcn,samples=samples_dict)\n",
    "\n",
    "# ----------------------------------------\n",
    "# Define the simulation output of interest\n",
    "# ----------------------------------------\n",
    "\n",
    "# This is typically set at 0.05 (1.7 sigma i.e. 95% certainty)\n",
    "LL = conf_int/2\n",
    "UL = 1-conf_int/2\n",
    "\n",
    "# Take sum over all ages for hospitalisations\n",
    "H_in_base = out[\"H_in\"].sum(dim='Nc')\n",
    "\n",
    "# Save results for sum over all places. Gives n_samples time series\n",
    "H_in = H_in_base.sum(dim='place').values\n",
    "# Compute mean and median\n",
    "H_in_mean = np.mean(H_in,axis=1)\n",
    "H_in_median = np.median(H_in,axis=1)\n",
    "# Compute quantiles\n",
    "H_in_LL = np.quantile(H_in, q = LL, axis = 1)\n",
    "H_in_UL = np.quantile(H_in, q = UL, axis = 1)\n",
    "\n",
    "# Save results for every individual place. Same strategy.\n",
    "H_in_places = dict({})\n",
    "H_in_places_mean = dict({})\n",
    "H_in_places_median = dict({})\n",
    "H_in_places_LL = dict({})\n",
    "H_in_places_UL = dict({})\n",
    "\n",
    "for NIS in out.place.values:\n",
    "    H_in_places[NIS] = H_in_base.sel(place=NIS).values\n",
    "    # Compute mean and median\n",
    "    H_in_places_mean[NIS] = np.mean(H_in_places[NIS],axis=1)\n",
    "    H_in_places_median[NIS] = np.median(H_in_places[NIS],axis=1)\n",
    "    # Compute quantiles\n",
    "    H_in_places_LL[NIS] = np.quantile(H_in_places[NIS], q = LL, axis = 1)\n",
    "    H_in_places_UL[NIS] = np.quantile(H_in_places[NIS], q = UL, axis = 1)\n",
    "\n",
    "# -----------\n",
    "# Visualising\n",
    "# -----------\n",
    "\n",
    "print('\\n5) Visualizing fit \\n')\n",
    "# This should be taken out of the script for sure\n",
    "\n",
    "# Plot\n",
    "fig,ax = plt.subplots(figsize=(10,5))\n",
    "# Incidence\n",
    "ax.fill_between(pd.to_datetime(out['time'].values),H_in_LL, H_in_UL,alpha=0.20, color = 'blue')\n",
    "ax.plot(out['time'],H_in_mean,'--', color='blue')\n",
    "\n",
    "# Plot result for sum over all places. Black dots for data used for calibration, red dots if not used for calibration.\n",
    "ax.scatter(df_sciensano[start_calibration:end_calibration].index, df_sciensano[start_calibration:end_calibration].sum(axis=1), color='black', alpha=0.6, linestyle='None', facecolors='none', s=60, linewidth=2)\n",
    "ax.scatter(df_sciensano[pd.to_datetime(end_calibration)+datetime.timedelta(days=1):end_sim].index, df_sciensano[pd.to_datetime(end_calibration)+datetime.timedelta(days=1):end_sim].sum(axis=1), color='red', alpha=0.6, linestyle='None', facecolors='none', s=60, linewidth=2)\n",
    "ax = _apply_tick_locator(ax)\n",
    "ax.set_xlim(start_calibration,end_sim)\n",
    "ax.set_ylabel('$H_{in}$ (-)')\n",
    "fig.savefig(f'{fig_path}others/{signature}_FIT_BETAs_prelockdown_SUM_{run_date}.pdf', dpi=400, bbox_inches='tight')\n",
    "plt.close()\n",
    "\n",
    "# Create subdirectory\n",
    "fit_prelockdown_subdir = f'{fig_path}others/{signature}_FIT_BETAs_prelockdown_NIS_{run_date}'\n",
    "os.mkdir(fit_prelockdown_subdir)\n",
    "# Plot result for each NIS\n",
    "for NIS in out.place.values:\n",
    "    fig,ax = plt.subplots(figsize=(10,5))\n",
    "    ax.fill_between(pd.to_datetime(out['time'].values),H_in_places_LL[NIS], H_in_places_UL[NIS],alpha=0.20, color = 'blue')\n",
    "    ax.plot(out['time'],H_in_places_mean[NIS],'--', color='blue')\n",
    "    ax.scatter(df_sciensano[start_calibration:end_calibration].index, df_sciensano[start_calibration:end_calibration][[NIS]], color='black', alpha=0.6, linestyle='None', facecolors='none', s=60, linewidth=2)\n",
    "    ax.scatter(df_sciensano[pd.to_datetime(end_calibration)+datetime.timedelta(days=1):end_sim].index, df_sciensano[pd.to_datetime(end_calibration)+datetime.timedelta(days=1):end_sim][[NIS]], color='red', alpha=0.6, linestyle='None', facecolors='none', s=60, linewidth=2)\n",
    "    ax = _apply_tick_locator(ax)\n",
    "    ax.set_xlim(start_calibration,end_sim)\n",
    "    ax.set_ylabel('$H_{in}$ (-) for NIS ' + str(NIS))\n",
    "    fig.savefig(f'{fit_prelockdown_subdir}/{signature}_FIT_BETAs_prelockdown_{str(NIS)}_{run_date}.pdf', dpi=400, bbox_inches='tight')\n",
    "    plt.close()\n",
    "\n",
    "\n",
    "###############################\n",
    "####### CALCULATING R0 ########\n",
    "###############################\n",
    "\n",
    "\n",
    "print('-----------------------------------')\n",
    "print('COMPUTING BASIC REPRODUCTION NUMBER')\n",
    "print('-----------------------------------\\n')\n",
    "\n",
    "print('1) Computing\\n')\n",
    "\n",
    "# if spatial: R0_stratified_dict produces the R0 values resp. every region, every age, every sample.\n",
    "# Probably better to generalise this to ages and NIS codes (instead of indices)\n",
    "R0, R0_stratified_dict = calculate_R0(samples_dict, model_wave1, initN, Nc_total, agg=agg)\n",
    "\n",
    "print('2) Sending samples to dictionary\\n')\n",
    "\n",
    "samples_dict.update({\n",
    "    'R0': R0,\n",
    "    'R0_stratified_dict': R0_stratified_dict,\n",
    "})\n",
    "\n",
    "print('3) Saving dictionary\\n')\n",
    "\n",
    "with open(f'{samples_path}{str(signature)}_BETAs_prelockdown_{run_date}.json', 'w') as fp:\n",
    "    json.dump(samples_dict, fp)\n",
    "\n"
   ]
  },
  {
   "cell_type": "code",
   "execution_count": null,
   "metadata": {
    "ExecuteTime": {
     "end_time": "2021-05-11T10:29:10.706132Z",
     "start_time": "2021-05-11T10:29:10.634281Z"
    }
   },
   "outputs": [],
   "source": [
    "autocorr = np.zeros([1,3])\n",
    "tau = [np.nan]*3\n",
    "np.append(autocorr,np.transpose(np.expand_dims(tau,axis=1)),axis=0)"
   ]
  },
  {
   "cell_type": "code",
   "execution_count": null,
   "metadata": {
    "ExecuteTime": {
     "end_time": "2021-05-18T13:15:47.047009Z",
     "start_time": "2021-05-18T13:15:42.665562Z"
    }
   },
   "outputs": [],
   "source": [
    "from covid19model.optimization.utils import perturbate_PSO\n",
    "\n",
    "processes=12\n",
    "pert=[0.02, 0.02, 0.02]\n",
    "theta=np.array([0.0451, 0.0413, 0.0501])\n",
    "bounds=[(0.020,0.060), (0.020,0.060), (0.020,0.060)]\n",
    "ndim, nwalkers, pos = perturbate_PSO(theta, pert, multiplier=processes, bounds=bounds)\n",
    "np.linalg.cond(pos)\n",
    "\n",
    "test = np.inf\n",
    "while test == np.inf:\n",
    "    print('nope')\n",
    "    test -= 1"
   ]
  }
 ],
 "metadata": {
  "kernelspec": {
   "display_name": "Python 3 (ipykernel)",
   "language": "python",
   "name": "python3"
  },
  "language_info": {
   "codemirror_mode": {
    "name": "ipython",
    "version": 3
   },
   "file_extension": ".py",
   "mimetype": "text/x-python",
   "name": "python",
   "nbconvert_exporter": "python",
   "pygments_lexer": "ipython3",
   "version": "3.7.3"
  },
  "toc": {
   "base_numbering": 1,
   "nav_menu": {},
   "number_sections": true,
   "sideBar": true,
   "skip_h1_title": false,
   "title_cell": "Table of Contents",
   "title_sidebar": "Contents",
   "toc_cell": false,
   "toc_position": {},
   "toc_section_display": true,
   "toc_window_display": false
  }
 },
 "nbformat": 4,
 "nbformat_minor": 2
}
