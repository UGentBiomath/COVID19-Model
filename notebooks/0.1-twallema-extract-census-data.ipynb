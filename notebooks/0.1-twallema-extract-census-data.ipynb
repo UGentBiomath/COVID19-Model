{
 "cells": [
  {
   "cell_type": "code",
   "execution_count": null,
   "metadata": {},
   "outputs": [],
   "source": [
    "import os\n",
    "import numpy as np\n",
    "import pandas as pd\n",
    "import matplotlib.pyplot as plt"
   ]
  },
  {
   "cell_type": "markdown",
   "metadata": {},
   "source": [
    "## Extract recurrent mobility matrix\n",
    "\n",
    "First, the raw spreadsheet `data/raw/census_2011/Pop_LPW_NL_25FEB15.xlsx` was modified in MS Excel. The format of the data is as follows:\n",
    "\n",
    "- rows: municipality of residence\n",
    "- columns: municipality of work\n",
    "\n",
    "The dataset contained, for each Belgian province, a column of 'unknowns', indicating we know where these individuals live but not where they work. These 10 columns were removed manually. Further, the column `Werkt in Belgie` was renamed `Belgie` to make name-based row and column matching easier. The resulting dataset was placed in `data/raw/census_2011/Pop_LPW_NL_25FEB15_remove_unknowns.xlsx`. The recurrent mobility matrix extracted from the resulting spreadsheet thus has two assumptions,\n",
    "\n",
    "- People working abroad are ignored. These 92.000 individuals account for 2% of the working population.\n",
    "- People whos workplace is unknown are ignored. An alternative assumptions could be the following: the unknowns work in their place of residence."
   ]
  },
  {
   "cell_type": "code",
   "execution_count": null,
   "metadata": {},
   "outputs": [],
   "source": [
    "abs_dir = os.getcwd()\n",
    "rel_dir = os.path.join(abs_dir, '../data/interim/census_2011/Pop_LPW_NL_25FEB15_delete_unknown.xlsx')\n",
    "df = pd.read_excel(rel_dir, sheet_name=\"Tabel1_2011\")"
   ]
  },
  {
   "cell_type": "code",
   "execution_count": null,
   "metadata": {},
   "outputs": [],
   "source": [
    "codes=df['00.24 - Werkende bevolking volgens geslacht, verblijfplaats en plaats van tewerkstelling'].loc[5:1942].dropna().values\n",
    "codes_int = [int(i) for i in codes]\n",
    "mobility_df=pd.DataFrame(np.zeros([len(codes),len(codes)]),index=codes,columns=codes)\n",
    "names = df.iloc[5:,1].dropna().values\n",
    "rows=[]\n",
    "for i in df['00.24 - Werkende bevolking volgens geslacht, verblijfplaats en plaats van tewerkstelling'].loc[5:1942].dropna().index:\n",
    "    rows.append(df.iloc[i+2,4:-1].values)\n",
    "\n",
    "matrix = np.zeros([len(rows),len(rows)])\n",
    "for j in range(len(rows)):\n",
    "    matrix[j,:]=rows[j]"
   ]
  },
  {
   "cell_type": "code",
   "execution_count": null,
   "metadata": {},
   "outputs": [],
   "source": [
    "mobility_df=pd.DataFrame(matrix,index=codes_int,columns=codes_int)\n",
    "mobility_df.head()"
   ]
  },
  {
   "cell_type": "code",
   "execution_count": null,
   "metadata": {},
   "outputs": [],
   "source": [
    "idx_arrondisement=[]\n",
    "for idx in mobility_df.index:\n",
    "    if ((str(idx)[-3:] == '000') & (len(str(idx)) != 4) & (str(idx)[-4:] != '0000') & (str(idx)[0] != '0')):\n",
    "        idx_arrondisement.append(idx)\n",
    "print(idx_arrondisement)"
   ]
  },
  {
   "cell_type": "code",
   "execution_count": null,
   "metadata": {},
   "outputs": [],
   "source": [
    "mobility_df.loc[idx_arrondisement,idx_arrondisement]"
   ]
  },
  {
   "cell_type": "code",
   "execution_count": null,
   "metadata": {},
   "outputs": [],
   "source": [
    "mobility_df.loc[idx_arrondisement,idx_arrondisement].to_csv('../data/interim/census_2011/recurrent_mobility.csv', index=True)"
   ]
  },
  {
   "cell_type": "markdown",
   "metadata": {},
   "source": [
    "## Extract population size (initN)"
   ]
  },
  {
   "cell_type": "code",
   "execution_count": null,
   "metadata": {},
   "outputs": [],
   "source": [
    "abs_dir = os.getcwd()\n",
    "rel_dir = os.path.join(abs_dir, '../data/raw/census_2011/census_demo_nl_04nov14.xlsx')\n",
    "df = pd.read_excel(rel_dir, sheet_name=\"Tabel3_2011\")"
   ]
  },
  {
   "cell_type": "code",
   "execution_count": null,
   "metadata": {},
   "outputs": [],
   "source": [
    "codes=df['00.04 - Bevolking van Belgische en vreemde nationaliteit naar geslacht en leeftijdsklasse'].loc[5:1943].dropna().values\n",
    "names = df.iloc[5:,1].dropna().values\n",
    "columns = ['total','[0,10[','[10,20[','[20,30[','[30,40[','[40,50[','[50,60[','[60,70[','[70,80[','[80,inf[']\n",
    "initN_df=pd.DataFrame(np.zeros([len(codes),len(columns)]),index=codes,columns=columns)\n",
    "initN_df.head()"
   ]
  },
  {
   "cell_type": "code",
   "execution_count": null,
   "metadata": {},
   "outputs": [],
   "source": [
    "rows=np.zeros([len(codes),len(columns)])\n",
    "k=0\n",
    "for i in df['00.04 - Bevolking van Belgische en vreemde nationaliteit naar geslacht en leeftijdsklasse'].loc[5:1943].dropna().index:\n",
    "    rows[k,0] = int(df.iloc[i+2,-1]) # total\n",
    "    vals_raw = df.iloc[i+2,45:-1].values\n",
    "    for j in range(len(vals_raw)-11):\n",
    "        rows[k,j+1] = int(vals_raw[2*j]+vals_raw[2*j+1])\n",
    "        if j == 8:\n",
    "            rows[k,j+1] = int(sum(vals_raw[16:]))\n",
    "    k = k + 1\n",
    "    \n",
    "initN_df=pd.DataFrame(rows,index=codes,columns=columns)\n",
    "initN_df['name']=names\n",
    "cols = initN_df.columns.tolist()\n",
    "cols = cols[-1:] + cols[:-1]\n",
    "initN_df = initN_df[cols]\n",
    "initN_df.index.name = 'NIS-code'\n",
    "initN_df.head()"
   ]
  },
  {
   "cell_type": "code",
   "execution_count": null,
   "metadata": {},
   "outputs": [],
   "source": [
    "idx_arrondisement=[]\n",
    "for idx in initN_df.index:\n",
    "    if ((str(idx)[-3:] == '000') & (len(str(idx)) != 4) & (str(idx)[-4:] != '0000') & (str(idx)[0] != '0')):\n",
    "        idx_arrondisement.append(idx)\n",
    "print(idx_arrondisement)"
   ]
  },
  {
   "cell_type": "code",
   "execution_count": null,
   "metadata": {},
   "outputs": [],
   "source": [
    "initN_df.loc[idx_arrondisement,:]"
   ]
  },
  {
   "cell_type": "code",
   "execution_count": null,
   "metadata": {},
   "outputs": [],
   "source": [
    "initN_df.loc[idx_arrondisement,:].to_csv('../data/interim/census_2011/initN.csv', index=True)"
   ]
  },
  {
   "cell_type": "markdown",
   "metadata": {},
   "source": [
    "## NIS - name list"
   ]
  },
  {
   "cell_type": "code",
   "execution_count": null,
   "metadata": {},
   "outputs": [],
   "source": [
    "name_df = pd.DataFrame(initN_df.index.values,index=np.arange(len(initN_df.index)),columns=['NIS'])\n",
    "name_df['name']=names"
   ]
  },
  {
   "cell_type": "code",
   "execution_count": null,
   "metadata": {},
   "outputs": [],
   "source": [
    "name_df.head()"
   ]
  },
  {
   "cell_type": "code",
   "execution_count": null,
   "metadata": {},
   "outputs": [],
   "source": [
    "name_df.to_csv('../data/interim/census_2011/NIS_name.csv', index=False)"
   ]
  }
 ],
 "metadata": {
  "kernelspec": {
   "display_name": "Python 3",
   "language": "python",
   "name": "python3"
  },
  "language_info": {
   "codemirror_mode": {
    "name": "ipython",
    "version": 3
   },
   "file_extension": ".py",
   "mimetype": "text/x-python",
   "name": "python",
   "nbconvert_exporter": "python",
   "pygments_lexer": "ipython3",
   "version": "3.8.2"
  }
 },
 "nbformat": 4,
 "nbformat_minor": 4
}
