{
 "cells": [
  {
   "cell_type": "markdown",
   "metadata": {},
   "source": [
    "# Covid-19: From model prediction to model predictive control\n",
    "\n",
    "## A demo of a stochastic difference equation (SDE) SIR model\n",
    "\n",
    "*Code by T.W. Alleman in consultation with the BIOMATH research unit headed by prof. Ingmar Nopens and prof. Jan baetens of the KERMIT research unit.*\n",
    "\n",
    "Copyright (c) 2021 by T.W. Alleman, BIOMATH, Ghent University. All Rights Reserved."
   ]
  },
  {
   "cell_type": "code",
   "execution_count": 1,
   "metadata": {
    "ExecuteTime": {
     "end_time": "2020-05-01T09:38:06.888712Z",
     "start_time": "2020-05-01T09:38:06.875510Z"
    }
   },
   "outputs": [],
   "source": [
    "import numpy as np\n",
    "import pandas as pd\n",
    "import matplotlib.pyplot as plt\n",
    "from covid19model.models import models\n",
    "from covid19model.data import mobility, sciensano, model_parameters\n",
    "\n",
    "# OPTIONAL: Load the \"autoreload\" extension so that package code can change\n",
    "%load_ext autoreload\n",
    "# OPTIONAL: always reload modules so that as you change code in src, it gets loaded\n",
    "%autoreload 2"
   ]
  },
  {
   "cell_type": "code",
   "execution_count": 2,
   "metadata": {},
   "outputs": [],
   "source": [
    "###############\n",
    "## Load data ##\n",
    "###############\n",
    "\n",
    "age_classes = pd.IntervalIndex.from_tuples([(0,20),(20,60),(60,120)], closed='left')\n",
    "# Initial conditions, time-integrated prepandemic contact matrices, model parameters of COVID19 SEIQRD\n",
    "Nc_dict, parameters, BASE_samples_dict, initN = model_parameters.get_COVID19_SEIQRD_parameters(age_classes=age_classes)\n",
    "# Google Mobility data\n",
    "df_google = mobility.get_google_mobility_data(update=False)\n",
    "# Sciensano public data\n",
    "df_hosp, df_mort, df_cases, df_vacc = sciensano.get_sciensano_COVID19_data(update=False)\n",
    "# Aggregate the data on the national level\n",
    "df_hosp = df_hosp.groupby(level='date').sum()['H_in']"
   ]
  },
  {
   "cell_type": "code",
   "execution_count": 3,
   "metadata": {},
   "outputs": [],
   "source": [
    "############################\n",
    "## Define a draw function ##\n",
    "############################\n",
    "\n",
    "def draw_fcn(param_dict,samples_dict):\n",
    "    return param_dict"
   ]
  },
  {
   "cell_type": "code",
   "execution_count": 4,
   "metadata": {},
   "outputs": [],
   "source": [
    "###################################\n",
    "## Define social policy function ##\n",
    "###################################\n",
    "\n",
    "from covid19model.models.time_dependant_parameter_fncs import ramp_fun\n",
    "def compliance_func(t, states, param, l_ramp, effectivity):\n",
    "    \n",
    "    l=l_ramp\n",
    "    # Convert tau and l to dates\n",
    "    l_days = pd.Timedelta(l, unit='D')\n",
    "    # Define start and end of measures\n",
    "    start_measures = pd.to_datetime('2020-03-15')\n",
    "    end_measures = pd.to_datetime('2020-09-01')\n",
    "    # List of transitioning dates\n",
    "    change_days = [start_measures,\n",
    "                   start_measures + l_days,\n",
    "                   end_measures]\n",
    "    \n",
    "    # List of transitioning values\n",
    "    change_values = [param,\n",
    "                     ramp_fun(param, effectivity*param, t, start_measures, l),\n",
    "                     param * effectivity,\n",
    "                     param * 2 * effectivity]\n",
    "    # Return appropriate policy\n",
    "    try:\n",
    "        return change_values[[index for index,value in enumerate(change_days) if value > t][0]]\n",
    "    except:\n",
    "        return change_values[-1]"
   ]
  },
  {
   "cell_type": "code",
   "execution_count": 5,
   "metadata": {},
   "outputs": [],
   "source": [
    "######################\n",
    "## Initialize model ##\n",
    "######################\n",
    "\n",
    "# Define parameters\n",
    "l_ramp = 14\n",
    "effectivity = 0.20\n",
    "params = {'beta': 0.016, 'gamma': 1/7, 'Nc': Nc_dict['total'], 'l_ramp': l_ramp, 'effectivity': effectivity}\n",
    "# Define initial states\n",
    "initial_states = {\"S\": initN.values, \"I\": np.ones(3)*df_hosp[0]/3}\n",
    "# Initialize model (SDEs are discrete time models and require the discrete=True flag upon initialization)\n",
    "model = models.simple_stochastic_SIR(initial_states, params, time_dependent_parameters={'Nc': compliance_func})"
   ]
  },
  {
   "cell_type": "code",
   "execution_count": 6,
   "metadata": {},
   "outputs": [
    {
     "ename": "TypeError",
     "evalue": "BaseModel.solve_discrete() got multiple values for argument 'args'",
     "output_type": "error",
     "traceback": [
      "\u001b[0;31m---------------------------------------------------------------------------\u001b[0m",
      "\u001b[0;31mTypeError\u001b[0m                                 Traceback (most recent call last)",
      "Input \u001b[0;32mIn [6]\u001b[0m, in \u001b[0;36m<cell line: 8>\u001b[0;34m()\u001b[0m\n\u001b[1;32m      6\u001b[0m start_sim \u001b[38;5;241m=\u001b[39m \u001b[38;5;124m'\u001b[39m\u001b[38;5;124m2020-03-15\u001b[39m\u001b[38;5;124m'\u001b[39m\n\u001b[1;32m      7\u001b[0m end_sim \u001b[38;5;241m=\u001b[39m \u001b[38;5;124m'\u001b[39m\u001b[38;5;124m2020-11-01\u001b[39m\u001b[38;5;124m'\u001b[39m\n\u001b[0;32m----> 8\u001b[0m out \u001b[38;5;241m=\u001b[39m \u001b[43mmodel\u001b[49m\u001b[38;5;241;43m.\u001b[39;49m\u001b[43msim\u001b[49m\u001b[43m(\u001b[49m\u001b[43mend_sim\u001b[49m\u001b[43m,\u001b[49m\u001b[43mstart_date\u001b[49m\u001b[38;5;241;43m=\u001b[39;49m\u001b[43mstart_sim\u001b[49m\u001b[43m,\u001b[49m\u001b[43mwarmup\u001b[49m\u001b[38;5;241;43m=\u001b[39;49m\u001b[38;5;241;43m0\u001b[39;49m\u001b[43m,\u001b[49m\u001b[43mN\u001b[49m\u001b[38;5;241;43m=\u001b[39;49m\u001b[43mn_draws\u001b[49m\u001b[43m,\u001b[49m\u001b[43mdraw_fcn\u001b[49m\u001b[38;5;241;43m=\u001b[39;49m\u001b[43mdraw_fcn\u001b[49m\u001b[43m,\u001b[49m\u001b[43msamples\u001b[49m\u001b[38;5;241;43m=\u001b[39;49m\u001b[43m{\u001b[49m\u001b[43m}\u001b[49m\u001b[43m,\u001b[49m\u001b[43ml\u001b[49m\u001b[38;5;241;43m=\u001b[39;49m\u001b[38;5;241;43m1\u001b[39;49m\u001b[38;5;241;43m/\u001b[39;49m\u001b[38;5;241;43m2\u001b[39;49m\u001b[43m)\u001b[49m\n",
      "File \u001b[0;32m~/Documents/PhD/Corona/Python/git/COVID19-Model/src/covid19model/models/base.py:647\u001b[0m, in \u001b[0;36mBaseModel.sim\u001b[0;34m(self, time, warmup, start_date, N, draw_fcn, samples, method, rtol, l, processes)\u001b[0m\n\u001b[1;32m    645\u001b[0m     output\u001b[38;5;241m=\u001b[39m[]\n\u001b[1;32m    646\u001b[0m     \u001b[38;5;28;01mfor\u001b[39;00m dictionary \u001b[38;5;129;01min\u001b[39;00m drawn_dictionaries:\n\u001b[0;32m--> 647\u001b[0m         output\u001b[38;5;241m.\u001b[39mappend(\u001b[38;5;28;43mself\u001b[39;49m\u001b[38;5;241;43m.\u001b[39;49m\u001b[43m_mp_sim_single\u001b[49m\u001b[43m(\u001b[49m\u001b[43mdictionary\u001b[49m\u001b[43m,\u001b[49m\u001b[43m \u001b[49m\u001b[43mtime\u001b[49m\u001b[43m,\u001b[49m\u001b[43m \u001b[49m\u001b[43mactual_start_date\u001b[49m\u001b[43m,\u001b[49m\u001b[43m \u001b[49m\u001b[43mmethod\u001b[49m\u001b[38;5;241;43m=\u001b[39;49m\u001b[43mmethod\u001b[49m\u001b[43m,\u001b[49m\u001b[43m \u001b[49m\u001b[43mrtol\u001b[49m\u001b[38;5;241;43m=\u001b[39;49m\u001b[43mrtol\u001b[49m\u001b[43m,\u001b[49m\u001b[43m \u001b[49m\u001b[43ml\u001b[49m\u001b[38;5;241;43m=\u001b[39;49m\u001b[43ml\u001b[49m\u001b[43m)\u001b[49m)\n\u001b[1;32m    649\u001b[0m \u001b[38;5;66;03m# Append results\u001b[39;00m\n\u001b[1;32m    650\u001b[0m out \u001b[38;5;241m=\u001b[39m output[\u001b[38;5;241m0\u001b[39m]\n",
      "File \u001b[0;32m~/Documents/PhD/Corona/Python/git/COVID19-Model/src/covid19model/models/base.py:507\u001b[0m, in \u001b[0;36mBaseModel._mp_sim_single\u001b[0;34m(self, drawn_parameters, time, actual_start_date, method, rtol, l)\u001b[0m\n\u001b[1;32m    503\u001b[0m \u001b[38;5;124;03m\"\"\"\u001b[39;00m\n\u001b[1;32m    504\u001b[0m \u001b[38;5;124;03mA Multiprocessing-compatible wrapper for _sim_single, assigns the drawn dictionary and runs _sim_single\u001b[39;00m\n\u001b[1;32m    505\u001b[0m \u001b[38;5;124;03m\"\"\"\u001b[39;00m\n\u001b[1;32m    506\u001b[0m \u001b[38;5;28mself\u001b[39m\u001b[38;5;241m.\u001b[39mparameters\u001b[38;5;241m.\u001b[39mupdate(drawn_parameters)\n\u001b[0;32m--> 507\u001b[0m out \u001b[38;5;241m=\u001b[39m \u001b[38;5;28;43mself\u001b[39;49m\u001b[38;5;241;43m.\u001b[39;49m\u001b[43m_sim_single\u001b[49m\u001b[43m(\u001b[49m\u001b[43mtime\u001b[49m\u001b[43m,\u001b[49m\u001b[43m \u001b[49m\u001b[43mactual_start_date\u001b[49m\u001b[43m,\u001b[49m\u001b[43m \u001b[49m\u001b[43mmethod\u001b[49m\u001b[43m,\u001b[49m\u001b[43m \u001b[49m\u001b[43mrtol\u001b[49m\u001b[43m,\u001b[49m\u001b[43m \u001b[49m\u001b[43ml\u001b[49m\u001b[43m)\u001b[49m\n\u001b[1;32m    508\u001b[0m \u001b[38;5;28;01mreturn\u001b[39;00m out\n",
      "File \u001b[0;32m~/Documents/PhD/Corona/Python/git/COVID19-Model/src/covid19model/models/base.py:476\u001b[0m, in \u001b[0;36mBaseModel._sim_single\u001b[0;34m(self, time, actual_start_date, method, rtol, l)\u001b[0m\n\u001b[1;32m    474\u001b[0m     output \u001b[38;5;241m=\u001b[39m solve_ivp(fun, time, y0, args\u001b[38;5;241m=\u001b[39m[\u001b[38;5;28mself\u001b[39m\u001b[38;5;241m.\u001b[39mparameters], t_eval\u001b[38;5;241m=\u001b[39mt_eval, method\u001b[38;5;241m=\u001b[39mmethod, rtol\u001b[38;5;241m=\u001b[39mrtol)\n\u001b[1;32m    475\u001b[0m \u001b[38;5;28;01melse\u001b[39;00m:\n\u001b[0;32m--> 476\u001b[0m     output \u001b[38;5;241m=\u001b[39m \u001b[38;5;28;43mself\u001b[39;49m\u001b[38;5;241;43m.\u001b[39;49m\u001b[43msolve_discrete\u001b[49m\u001b[43m(\u001b[49m\u001b[43mfun\u001b[49m\u001b[43m,\u001b[49m\u001b[43m \u001b[49m\u001b[43ml\u001b[49m\u001b[43m,\u001b[49m\u001b[43m \u001b[49m\u001b[43mt_eval\u001b[49m\u001b[43m,\u001b[49m\u001b[43m \u001b[49m\u001b[38;5;28;43mlist\u001b[39;49m\u001b[43m(\u001b[49m\u001b[43mitertools\u001b[49m\u001b[38;5;241;43m.\u001b[39;49m\u001b[43mchain\u001b[49m\u001b[43m(\u001b[49m\u001b[38;5;241;43m*\u001b[39;49m\u001b[38;5;28;43mself\u001b[39;49m\u001b[38;5;241;43m.\u001b[39;49m\u001b[43minitial_states\u001b[49m\u001b[38;5;241;43m.\u001b[39;49m\u001b[43mvalues\u001b[49m\u001b[43m(\u001b[49m\u001b[43m)\u001b[49m\u001b[43m)\u001b[49m\u001b[43m)\u001b[49m\u001b[43m,\u001b[49m\u001b[43m \u001b[49m\u001b[43margs\u001b[49m\u001b[38;5;241;43m=\u001b[39;49m\u001b[38;5;28;43mself\u001b[39;49m\u001b[38;5;241;43m.\u001b[39;49m\u001b[43mparameters\u001b[49m\u001b[43m)\u001b[49m\n\u001b[1;32m    478\u001b[0m \u001b[38;5;66;03m# map to variable names\u001b[39;00m\n\u001b[1;32m    479\u001b[0m \u001b[38;5;28;01mreturn\u001b[39;00m \u001b[38;5;28mself\u001b[39m\u001b[38;5;241m.\u001b[39m_output_to_xarray_dataset(output, actual_start_date)\n",
      "\u001b[0;31mTypeError\u001b[0m: BaseModel.solve_discrete() got multiple values for argument 'args'"
     ]
    }
   ],
   "source": [
    "########################\n",
    "## Perform simulation ##\n",
    "########################\n",
    "\n",
    "n_draws = 2\n",
    "start_sim = '2020-03-15'\n",
    "end_sim = '2020-11-01'\n",
    "out = model.sim(end_sim,start_date=start_sim,warmup=0,N=n_draws,draw_fcn=draw_fcn,samples={},l=1/2)"
   ]
  },
  {
   "cell_type": "code",
   "execution_count": null,
   "metadata": {},
   "outputs": [],
   "source": [
    "#######################\n",
    "## Visualize results ##\n",
    "#######################\n",
    "\n",
    "fig, ax = plt.subplots(figsize=(12,4))\n",
    "for i in range(n_draws):\n",
    "    ax.plot(out['time'],out['I'].sum(dim='Nc').isel(draws=i), color='red', alpha = 0.05, linewidth = 3)\n",
    "ax.scatter(df_hosp[start_sim:end_sim].index,df_hosp[start_sim:end_sim],color='black',alpha=0.8,linestyle='None',facecolors='none')\n",
    "ax.xaxis.set_major_locator(plt.MaxNLocator(5))\n",
    "ax.yaxis.set_major_locator(plt.MaxNLocator(4))\n",
    "ax.grid(False)\n",
    "plt.show()\n",
    "plt.close()"
   ]
  },
  {
   "cell_type": "code",
   "execution_count": null,
   "metadata": {},
   "outputs": [],
   "source": []
  }
 ],
 "metadata": {
  "kernelspec": {
   "display_name": "Python 3 (ipykernel)",
   "language": "python",
   "name": "python3"
  },
  "language_info": {
   "codemirror_mode": {
    "name": "ipython",
    "version": 3
   },
   "file_extension": ".py",
   "mimetype": "text/x-python",
   "name": "python",
   "nbconvert_exporter": "python",
   "pygments_lexer": "ipython3",
   "version": "3.10.2"
  },
  "nav_menu": {},
  "toc": {
   "navigate_menu": true,
   "number_sections": true,
   "sideBar": true,
   "threshold": "3",
   "toc_cell": true,
   "toc_section_display": "block",
   "toc_window_display": true
  }
 },
 "nbformat": 4,
 "nbformat_minor": 4
}
