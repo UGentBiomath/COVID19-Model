{
 "cells": [
  {
   "cell_type": "markdown",
   "metadata": {
    "toc": true
   },
   "source": [
    "<h1>Table of Contents<span class=\"tocSkip\"></span></h1>\n",
    "<div class=\"toc\"><ul class=\"toc-item\"><li><span><a href=\"#Data,-policy-and-model-initialization\" data-toc-modified-id=\"Data,-policy-and-model-initialization-1\"><span class=\"toc-item-num\">1&nbsp;&nbsp;</span>Data, policy and model initialization</a></span><ul class=\"toc-item\"><li><span><a href=\"#Load-contact-data\" data-toc-modified-id=\"Load-contact-data-1.1\"><span class=\"toc-item-num\">1.1&nbsp;&nbsp;</span>Load contact data</a></span></li><li><span><a href=\"#Load-publically-available-data-from-Sciensano\" data-toc-modified-id=\"Load-publically-available-data-from-Sciensano-1.2\"><span class=\"toc-item-num\">1.2&nbsp;&nbsp;</span>Load publically available data from Sciensano</a></span></li><li><span><a href=\"#Load-posterior-parameter-distributions-of-calibrated-parameters\" data-toc-modified-id=\"Load-posterior-parameter-distributions-of-calibrated-parameters-1.3\"><span class=\"toc-item-num\">1.3&nbsp;&nbsp;</span>Load posterior parameter distributions of calibrated parameters</a></span></li><li><span><a href=\"#Settings\" data-toc-modified-id=\"Settings-1.4\"><span class=\"toc-item-num\">1.4&nbsp;&nbsp;</span>Settings</a></span></li></ul></li><li><span><a href=\"#Functions\" data-toc-modified-id=\"Functions-2\"><span class=\"toc-item-num\">2&nbsp;&nbsp;</span>Functions</a></span></li><li><span><a href=\"#Time-dep-functions\" data-toc-modified-id=\"Time-dep-functions-3\"><span class=\"toc-item-num\">3&nbsp;&nbsp;</span>Time-dep functions</a></span></li><li><span><a href=\"#Test-vacc-strategy\" data-toc-modified-id=\"Test-vacc-strategy-4\"><span class=\"toc-item-num\">4&nbsp;&nbsp;</span>Test vacc strategy</a></span></li><li><span><a href=\"#Test-spatial-model\" data-toc-modified-id=\"Test-spatial-model-5\"><span class=\"toc-item-num\">5&nbsp;&nbsp;</span>Test spatial model</a></span></li><li><span><a href=\"#Scenarios\" data-toc-modified-id=\"Scenarios-6\"><span class=\"toc-item-num\">6&nbsp;&nbsp;</span>Scenarios</a></span><ul class=\"toc-item\"><li><span><a href=\"#Run-and-save-all-scenarios\" data-toc-modified-id=\"Run-and-save-all-scenarios-6.1\"><span class=\"toc-item-num\">6.1&nbsp;&nbsp;</span>Run and save all scenarios</a></span></li><li><span><a href=\"#Scenarios-S1-(current-behaviour)\" data-toc-modified-id=\"Scenarios-S1-(current-behaviour)-6.2\"><span class=\"toc-item-num\">6.2&nbsp;&nbsp;</span>Scenarios S1 (current behaviour)</a></span><ul class=\"toc-item\"><li><span><a href=\"#S1a---K-=-1.3\" data-toc-modified-id=\"S1a---K-=-1.3-6.2.1\"><span class=\"toc-item-num\">6.2.1&nbsp;&nbsp;</span>S1a - K = 1.3</a></span></li><li><span><a href=\"#S1b---K-=-1.5\" data-toc-modified-id=\"S1b---K-=-1.5-6.2.2\"><span class=\"toc-item-num\">6.2.2&nbsp;&nbsp;</span>S1b - K = 1.5</a></span></li><li><span><a href=\"#S1c---K-=-1.7\" data-toc-modified-id=\"S1c---K-=-1.7-6.2.3\"><span class=\"toc-item-num\">6.2.3&nbsp;&nbsp;</span>S1c - K = 1.7</a></span></li></ul></li><li><span><a href=\"#Scenarios-S2-(september-behaviour-March-1)\" data-toc-modified-id=\"Scenarios-S2-(september-behaviour-March-1)-6.3\"><span class=\"toc-item-num\">6.3&nbsp;&nbsp;</span>Scenarios S2 (september behaviour March 1)</a></span><ul class=\"toc-item\"><li><span><a href=\"#S2a---K-=-1.3\" data-toc-modified-id=\"S2a---K-=-1.3-6.3.1\"><span class=\"toc-item-num\">6.3.1&nbsp;&nbsp;</span>S2a - K = 1.3</a></span></li><li><span><a href=\"#S2b---K-=-1.5\" data-toc-modified-id=\"S2b---K-=-1.5-6.3.2\"><span class=\"toc-item-num\">6.3.2&nbsp;&nbsp;</span>S2b - K = 1.5</a></span></li></ul></li><li><span><a href=\"#Scenarios-SNV1-(vaccination-effect)\" data-toc-modified-id=\"Scenarios-SNV1-(vaccination-effect)-6.4\"><span class=\"toc-item-num\">6.4&nbsp;&nbsp;</span>Scenarios SNV1 (vaccination effect)</a></span><ul class=\"toc-item\"><li><span><a href=\"#S3a-(S2b-without-vaccination)\" data-toc-modified-id=\"S3a-(S2b-without-vaccination)-6.4.1\"><span class=\"toc-item-num\">6.4.1&nbsp;&nbsp;</span>S3a (S2b without vaccination)</a></span></li><li><span><a href=\"#S4a-(S1b-without-vaccination)\" data-toc-modified-id=\"S4a-(S1b-without-vaccination)-6.4.2\"><span class=\"toc-item-num\">6.4.2&nbsp;&nbsp;</span>S4a (S1b without vaccination)</a></span></li></ul></li></ul></li><li><span><a href=\"#Visualise\" data-toc-modified-id=\"Visualise-7\"><span class=\"toc-item-num\">7&nbsp;&nbsp;</span>Visualise</a></span><ul class=\"toc-item\"><li><span><a href=\"#S1-and-S2\" data-toc-modified-id=\"S1-and-S2-7.1\"><span class=\"toc-item-num\">7.1&nbsp;&nbsp;</span>S1 and S2</a></span></li><li><span><a href=\"#Vaccination-effect\" data-toc-modified-id=\"Vaccination-effect-7.2\"><span class=\"toc-item-num\">7.2&nbsp;&nbsp;</span>Vaccination effect</a></span></li></ul></li><li><span><a href=\"#Alternative-scenarios-A1\" data-toc-modified-id=\"Alternative-scenarios-A1-8\"><span class=\"toc-item-num\">8&nbsp;&nbsp;</span>Alternative scenarios A1</a></span><ul class=\"toc-item\"><li><span><a href=\"#A1a---vacc---old-strain\" data-toc-modified-id=\"A1a---vacc---old-strain-8.1\"><span class=\"toc-item-num\">8.1&nbsp;&nbsp;</span>A1a - vacc - old strain</a></span></li><li><span><a href=\"#A1b---no-vacc---new-strain\" data-toc-modified-id=\"A1b---no-vacc---new-strain-8.2\"><span class=\"toc-item-num\">8.2&nbsp;&nbsp;</span>A1b - no vacc - new strain</a></span></li><li><span><a href=\"#A1c---vaccination---old-strain\" data-toc-modified-id=\"A1c---vaccination---old-strain-8.3\"><span class=\"toc-item-num\">8.3&nbsp;&nbsp;</span>A1c - vaccination - old strain</a></span></li><li><span><a href=\"#A1d---vaccination---new-strain\" data-toc-modified-id=\"A1d---vaccination---new-strain-8.4\"><span class=\"toc-item-num\">8.4&nbsp;&nbsp;</span>A1d - vaccination - new strain</a></span></li><li><span><a href=\"#Visualise\" data-toc-modified-id=\"Visualise-8.5\"><span class=\"toc-item-num\">8.5&nbsp;&nbsp;</span>Visualise</a></span></li></ul></li><li><span><a href=\"#Alternative-scenarios-A2\" data-toc-modified-id=\"Alternative-scenarios-A2-9\"><span class=\"toc-item-num\">9&nbsp;&nbsp;</span>Alternative scenarios A2</a></span><ul class=\"toc-item\"><li><span><a href=\"#A2a---no-vacc---old-strain\" data-toc-modified-id=\"A2a---no-vacc---old-strain-9.1\"><span class=\"toc-item-num\">9.1&nbsp;&nbsp;</span>A2a - no vacc - old strain</a></span></li><li><span><a href=\"#A2b---no-vacc---new-strain\" data-toc-modified-id=\"A2b---no-vacc---new-strain-9.2\"><span class=\"toc-item-num\">9.2&nbsp;&nbsp;</span>A2b - no vacc - new strain</a></span></li><li><span><a href=\"#A2c---vaccination---old-strain\" data-toc-modified-id=\"A2c---vaccination---old-strain-9.3\"><span class=\"toc-item-num\">9.3&nbsp;&nbsp;</span>A2c - vaccination - old strain</a></span></li><li><span><a href=\"#A2d---vaccination---new-strain\" data-toc-modified-id=\"A2d---vaccination---new-strain-9.4\"><span class=\"toc-item-num\">9.4&nbsp;&nbsp;</span>A2d - vaccination - new strain</a></span></li><li><span><a href=\"#Visualise\" data-toc-modified-id=\"Visualise-9.5\"><span class=\"toc-item-num\">9.5&nbsp;&nbsp;</span>Visualise</a></span></li></ul></li><li><span><a href=\"#Save-data\" data-toc-modified-id=\"Save-data-10\"><span class=\"toc-item-num\">10&nbsp;&nbsp;</span>Save data</a></span></li><li><span><a href=\"#Plot-saved-data\" data-toc-modified-id=\"Plot-saved-data-11\"><span class=\"toc-item-num\">11&nbsp;&nbsp;</span>Plot saved data</a></span></li></ul></div>"
   ]
  },
  {
   "cell_type": "markdown",
   "metadata": {},
   "source": [
    "\n",
    "*Authored by J. Vergeynst*\n",
    "\n",
    "Copyright (c) 2021 by J. Vergeynst, BIOMATH, Ghent University. All Rights Reserved."
   ]
  },
  {
   "cell_type": "code",
   "execution_count": null,
   "metadata": {
    "ExecuteTime": {
     "end_time": "2021-02-11T09:24:42.791000Z",
     "start_time": "2021-02-11T09:24:18.791684Z"
    }
   },
   "outputs": [],
   "source": [
    "import numpy as np\n",
    "%matplotlib notebook\n",
    "import matplotlib\n",
    "import matplotlib.pyplot as plt\n",
    "import matplotlib.dates as mdates\n",
    "import pandas as pd\n",
    "import datetime\n",
    "import scipy\n",
    "import json\n",
    "import random\n",
    "from math import floor\n",
    "\n",
    "from covid19model.optimization import objective_fcns\n",
    "from covid19model.models import models\n",
    "from covid19model.models.utils import draw_sample_COVID19_SEIRD\n",
    "from covid19model.models.time_dependant_parameter_fncs import ramp_fun, google_lockdown\n",
    "from covid19model.data import mobility, sciensano, model_parameters\n",
    "from covid19model.visualization.output import population_status, infected, _apply_tick_locator\n",
    "from covid19model.visualization.optimization import plot_fit, traceplot\n",
    "\n",
    "plt.rcParams.update({'font.size': 12, 'axes.grid':True, 'grid.linewidth':0.3})\n",
    "pd.plotting.register_matplotlib_converters()\n",
    "\n",
    "# OPTIONAL: Load the \"autoreload\" extension so that package code can change\n",
    "%load_ext autoreload\n",
    "# OPTIONAL: always reload modules so that as you change code in src, it gets loaded\n",
    "%autoreload 2"
   ]
  },
  {
   "cell_type": "code",
   "execution_count": null,
   "metadata": {
    "ExecuteTime": {
     "end_time": "2021-02-11T09:24:42.853982Z",
     "start_time": "2021-02-11T09:24:42.793204Z"
    }
   },
   "outputs": [],
   "source": [
    "plt.rcParams.update({\n",
    "    \"lines.linewidth\" : 3,\n",
    "    \"axes.spines.top\": True,\n",
    "    \"axes.spines.right\": True,\n",
    "    \"ytick.major.left\": True,\n",
    "    \"axes.grid\": True\n",
    "})"
   ]
  },
  {
   "cell_type": "markdown",
   "metadata": {},
   "source": [
    "# Data, policy and model initialization"
   ]
  },
  {
   "cell_type": "markdown",
   "metadata": {},
   "source": [
    "## Load contact data"
   ]
  },
  {
   "cell_type": "code",
   "execution_count": null,
   "metadata": {
    "ExecuteTime": {
     "end_time": "2021-02-11T09:24:44.093053Z",
     "start_time": "2021-02-11T09:24:42.857250Z"
    }
   },
   "outputs": [],
   "source": [
    "# Load the interaction matrices (size: 9x9)\n",
    "initN, Nc_home, Nc_work, Nc_schools, Nc_transport, Nc_leisure, Nc_others, Nc_total = model_parameters.get_interaction_matrices(dataset='willem_2012',intensity='all')\n",
    "# Define the number of age categories\n",
    "levels = initN.size\n",
    "\n",
    "initN, Nc_home_15, Nc_work_15, Nc_schools_15, Nc_transport_15, Nc_leisure_15, Nc_others_15, Nc_total_15 = model_parameters.get_interaction_matrices(dataset='willem_2012',intensity='more_15_min')\n",
    "initN, Nc_home_1hr, Nc_work_1hr, Nc_schools_1hr, Nc_transport_1hr, Nc_leisure_1hr, Nc_others_1hr, Nc_total_1hr = model_parameters.get_interaction_matrices(dataset='willem_2012',intensity='more_one_hour')"
   ]
  },
  {
   "cell_type": "code",
   "execution_count": null,
   "metadata": {
    "ExecuteTime": {
     "end_time": "2021-02-11T09:24:44.164857Z",
     "start_time": "2021-02-11T09:24:44.095587Z"
    }
   },
   "outputs": [],
   "source": [
    "Nc_all = {'total': Nc_total, 'home':Nc_home, 'work': Nc_work, 'schools': Nc_schools, 'transport': Nc_transport, 'leisure': Nc_leisure, 'others': Nc_others}\n",
    "Nc_15min = {'total': Nc_total_15, 'home': Nc_home_15, 'work': Nc_work_15, 'schools': Nc_schools_15, 'transport': Nc_transport_15, 'leisure': Nc_leisure_15, 'others': Nc_others_15}\n",
    "Nc_1hr = {'total': Nc_total_1hr, 'home': Nc_home_1hr, 'work': Nc_work_1hr, 'schools': Nc_schools_1hr, 'transport': Nc_transport_1hr, 'leisure': Nc_leisure_1hr, 'others': Nc_others_1hr}"
   ]
  },
  {
   "cell_type": "markdown",
   "metadata": {},
   "source": [
    "## Load publically available data from Sciensano"
   ]
  },
  {
   "cell_type": "code",
   "execution_count": null,
   "metadata": {
    "ExecuteTime": {
     "end_time": "2021-02-11T09:24:44.599846Z",
     "start_time": "2021-02-11T09:24:44.168195Z"
    }
   },
   "outputs": [],
   "source": [
    "df_sciensano = sciensano.get_sciensano_COVID19_data(update=False)\n",
    "df_sciensano['D_cum'] = df_sciensano.D_tot.cumsum()"
   ]
  },
  {
   "cell_type": "code",
   "execution_count": null,
   "metadata": {
    "ExecuteTime": {
     "end_time": "2021-02-11T09:24:44.700339Z",
     "start_time": "2021-02-11T09:24:44.602480Z"
    }
   },
   "outputs": [],
   "source": [
    "df_google = mobility.get_google_mobility_data(update=False, plot=False)"
   ]
  },
  {
   "cell_type": "markdown",
   "metadata": {},
   "source": [
    "## Load posterior parameter distributions of calibrated parameters"
   ]
  },
  {
   "cell_type": "code",
   "execution_count": null,
   "metadata": {
    "ExecuteTime": {
     "end_time": "2021-02-11T09:31:44.339277Z",
     "start_time": "2021-02-11T09:31:43.409189Z"
    }
   },
   "outputs": [],
   "source": [
    "# Load samples dictionaries\n",
    "with open('../../data/interim/model_parameters/COVID19_SEIRD/calibrations/national/BE_4_prev_full_2021-01-30_WAVE2_GOOGLE.json', 'r') as fp:\n",
    "    samples_dict = json.load(fp)\n",
    "\n",
    "with open('../../data/interim/model_parameters/COVID19_SEIRD/calibrations/national/google/initial_states_2020-09-01.json', 'r') as fp:\n",
    "    initial_states_sept = json.load(fp) \n",
    "    \n",
    "# Set initial states of VE (vaccine elegible)\n",
    "initial_states_sept['VE'] = (np.array(initial_states_sept['S'])+\n",
    "                             np.array(initial_states_sept['R'])+\n",
    "                             np.array(initial_states_sept['E'])+\n",
    "                             np.array(initial_states_sept['I'])+\n",
    "                             np.array(initial_states_sept['A'])).squeeze()"
   ]
  },
  {
   "cell_type": "code",
   "execution_count": null,
   "metadata": {
    "ExecuteTime": {
     "end_time": "2020-12-02T10:14:49.867274Z",
     "start_time": "2020-12-02T10:14:49.825611Z"
    }
   },
   "outputs": [],
   "source": [
    "# fig,ax = plt.subplots()\n",
    "# pd.Series(samples_dict['beta']).hist()\n",
    "# pd.Series(samples_dict['tau']).hist()"
   ]
  },
  {
   "cell_type": "markdown",
   "metadata": {},
   "source": [
    "## Settings"
   ]
  },
  {
   "cell_type": "code",
   "execution_count": null,
   "metadata": {
    "ExecuteTime": {
     "end_time": "2021-02-11T09:24:46.096354Z",
     "start_time": "2021-02-11T09:24:46.046676Z"
    }
   },
   "outputs": [],
   "source": [
    "UL = 0.975\n",
    "LL = 0.025"
   ]
  },
  {
   "cell_type": "code",
   "execution_count": null,
   "metadata": {
    "ExecuteTime": {
     "end_time": "2021-02-11T09:24:46.230080Z",
     "start_time": "2021-02-11T09:24:46.099482Z"
    }
   },
   "outputs": [],
   "source": [
    "start_calibration = '2021-01-01'\n",
    "end_sim = '2021-09-01'"
   ]
  },
  {
   "cell_type": "markdown",
   "metadata": {},
   "source": [
    "Alle vaccins twee dosissen nodig (Pfizer, Moderna, AstraZeneca, Curevac) behalve Johnson&Johnson (pas vanaf mei)"
   ]
  },
  {
   "cell_type": "code",
   "execution_count": null,
   "metadata": {
    "ExecuteTime": {
     "end_time": "2021-02-11T09:24:46.316478Z",
     "start_time": "2021-02-11T09:24:46.238229Z"
    }
   },
   "outputs": [],
   "source": [
    "# doses per day (Regeringscommissariaat Corona, published by De Tijd)\n",
    "d = {}\n",
    "d['jan'] = 31765\n",
    "d['feb'] = 45897\n",
    "d['mar-apr'] = 128499\n",
    "d['may-aug'] = 78358\n",
    "\n",
    "# proportion of age group living in nursing homes\n",
    "# for simplicity we will use the data for respectively age groups 60+, 70+ and 80+\n",
    "NH = {}\n",
    "NH['65+'] = 0.007\n",
    "NH['75+'] = (0.05+0.029)/2\n",
    "NH['85+'] = (0.137+0.267)/2\n"
   ]
  },
  {
   "cell_type": "markdown",
   "metadata": {},
   "source": [
    "# Functions"
   ]
  },
  {
   "cell_type": "code",
   "execution_count": null,
   "metadata": {
    "ExecuteTime": {
     "end_time": "2021-02-12T08:55:57.662235Z",
     "start_time": "2021-02-12T08:55:57.449597Z"
    }
   },
   "outputs": [],
   "source": [
    "def vacc_strategy(t, states, param, d, NH):\n",
    "    \"\"\"\n",
    "    time-dependent function for vaccination strategy\n",
    "    \n",
    "    states : dictionary\n",
    "        model states, VE = vaccine eligible states = S+R+E+I+A\n",
    "    d : dictionary\n",
    "        daily number of doses for that month\n",
    "    NH : dictionary\n",
    "        proportion of residents in nursing homes per age group\n",
    "    \n",
    "    \"\"\"\n",
    "    if states['VE'].ndim == 1:\n",
    "        states['VE'] = states['VE'][np.newaxis]\n",
    "    N_vacc = np.zeros(states['VE'].shape)\n",
    "\n",
    "    delay = pd.Timedelta('30D')\n",
    "    \n",
    "    t1 = pd.Timestamp('2021-01-01') + delay\n",
    "    t2 = pd.Timestamp('2021-02-01') + delay\n",
    "    t3 = pd.Timestamp('2021-03-01') + delay\n",
    "    t4 = pd.Timestamp('2021-05-01') + delay\n",
    "    \n",
    "    if t < t1:\n",
    "        N_vacc = N_vacc\n",
    "    \n",
    "    elif t1 <= t < t2: # January : nursing homes + part of care personnel\n",
    "        # daily vaccinated persons on immunity date = daily dose on vaccination date / 2\n",
    "        daily_85 = (NH['85+']*states['VE'][:,[8]])/31\n",
    "        daily_75 = (NH['75+']*states['VE'][:,[7]])/31\n",
    "        daily_65 = (NH['65+']*states['VE'][:,[6]])/31\n",
    "        care_personnel_daily_jan = d['jan']/2-daily_85-daily_75-daily_65\n",
    "        N_vacc[:,[8]] = daily_85\n",
    "        N_vacc[:,[7]] = daily_75\n",
    "        N_vacc[:,[6]] = daily_65\n",
    "        N_vacc[:,[5,4,3,2]] = care_personnel_daily_jan/4\n",
    "        \n",
    "    elif t2 <= t < t3: # February : care personnel\n",
    "        N_vacc[:,[5,4,3,2]] = d['feb']/2/4\n",
    "        \n",
    "    elif t3 <= t < t4: # March-April : 65+ and risico patients\n",
    "        plus_65_left_daily = (1-NH['65+'])*states['VE'][:,[6]]/61\n",
    "        plus_75_left_daily = (1-NH['75+'])*states['VE'][:,[7]]/61\n",
    "        plus_85_left_daily = (1-NH['85+'])*states['VE'][:,[8]]/61\n",
    "        rest_daily = d['mar-apr']/2 - plus_65_left_daily - plus_75_left_daily - plus_85_left_daily\n",
    "        N_vacc[:,[8,7,6]] = np.concatenate([plus_85_left_daily, plus_75_left_daily, plus_65_left_daily], axis=1)\n",
    "        N_vacc[:,[5,4,3,2]] = rest_daily/4\n",
    "    \n",
    "    else: # May-August : all 18+\n",
    "        N_vacc[:,[5,4,3,2]] = d['may-aug']/2/4\n",
    "        \n",
    "    return N_vacc.squeeze()"
   ]
  },
  {
   "cell_type": "code",
   "execution_count": null,
   "metadata": {
    "ExecuteTime": {
     "end_time": "2021-02-11T09:24:46.488663Z",
     "start_time": "2021-02-11T09:24:46.429787Z"
    }
   },
   "outputs": [],
   "source": [
    " def plot_band_saved_data(ax, df, mean_col, LL_col, UL_col, color, label):\n",
    "    ax.fill_between(df['time'],df[LL_col], df[UL_col],alpha=0.30, facecolor = color)\n",
    "    ax.plot(df['time'], df[mean_col], color=color, label=label, lw=2)\n",
    "    return"
   ]
  },
  {
   "cell_type": "code",
   "execution_count": null,
   "metadata": {
    "ExecuteTime": {
     "end_time": "2021-02-11T09:24:46.559297Z",
     "start_time": "2021-02-11T09:24:46.495346Z"
    }
   },
   "outputs": [],
   "source": [
    "def plot_band_age(ax, y_model, age_group, var, color, label):\n",
    "    ax.fill_between(pd.to_datetime(y_model['time'].values),y_model[var].quantile(LL,dim=\"draws\").sel(Nc=age_group), \n",
    "                    y_model[var].quantile(UL,dim=\"draws\").sel(Nc=age_group),alpha=0.30, facecolor = color)\n",
    "    ax.plot(y_model['time'],y_model[var].mean(dim=\"draws\").sel(Nc=age_group), color=color, label=label, lw=2)\n",
    "    return"
   ]
  },
  {
   "cell_type": "code",
   "execution_count": null,
   "metadata": {
    "ExecuteTime": {
     "end_time": "2021-02-11T09:24:46.636627Z",
     "start_time": "2021-02-11T09:24:46.575452Z"
    }
   },
   "outputs": [],
   "source": [
    "def check_overtake_duration(sim, dims):\n",
    "    \"\"\"\n",
    "    sim : data array resulting from simulation\n",
    "    dims : list of dimensions over which to average\n",
    "    \n",
    "    Returns\n",
    "    -------\n",
    "    N_days : number of days before new strain takes over (99%)\n",
    "    \"\"\"\n",
    "    end = sim['alpha'].mean(dim=dims)[sim['alpha'].mean(dim=dims)<0.99]['time'][-1].values\n",
    "    start = sim['alpha'].mean(dim=dims)[sim['alpha'].mean(dim=dims)<0.99]['time'][0].values\n",
    "    \n",
    "    N_days = (pd.to_datetime(end)-pd.to_datetime(start))/pd.Timedelta('1D')\n",
    "    \n",
    "    return N_days"
   ]
  },
  {
   "cell_type": "code",
   "execution_count": null,
   "metadata": {
    "ExecuteTime": {
     "end_time": "2021-02-11T09:24:46.710363Z",
     "start_time": "2021-02-11T09:24:46.639579Z"
    }
   },
   "outputs": [],
   "source": [
    "def get_date_of_exceeding_alpha(sim, dims, alpha_limit):\n",
    "    \"\"\"\n",
    "    sim : data array resulting from simulation\n",
    "    dims : list of dimensions over which to average\n",
    "    \"\"\"\n",
    "    return pd.Timestamp(sim['alpha'].mean(dim=dims)[sim['alpha'].mean(dim=dims)>alpha_limit]['time'][0].values)"
   ]
  },
  {
   "cell_type": "code",
   "execution_count": null,
   "metadata": {
    "ExecuteTime": {
     "end_time": "2021-02-11T09:24:46.813647Z",
     "start_time": "2021-02-11T09:24:46.712597Z"
    }
   },
   "outputs": [],
   "source": [
    "def sample_from_binomial(sim_result, variable, n_draws_per_sample, n_samples,\n",
    "                         Y0_new=None):\n",
    "                         #Y0_mean=[], Y0_median=[], Y0_LL=[], Y0_UL=[]):\n",
    "    \"\"\"\n",
    "    Function to sample from binomial, and add the result to an existing list (if given)\n",
    "    \"\"\"\n",
    "    \n",
    "    \n",
    "    Y = sim_result[variable].sum(dim=\"Nc\").values\n",
    "    # Initialize vectors\n",
    "    Y_new = np.zeros((Y.shape[1],n_draws_per_sample*n_samples))\n",
    "    # Loop over dimension draws\n",
    "    for n in range(Y.shape[0]):\n",
    "        binomial_draw = np.random.poisson( np.expand_dims(Y[n,:],axis=1),size = (Y.shape[1],n_draws_per_sample))\n",
    "        Y_new[:,n*n_draws_per_sample:(n+1)*n_draws_per_sample] = binomial_draw\n",
    "    # Compute mean and median\n",
    "    if Y0_new is None:\n",
    "        Y_new = Y_new\n",
    "    else:\n",
    "        Y_new = np.append(Y0_new, Y_new, axis=0)\n",
    "\n",
    "    return Y_new\n",
    "    \n",
    "    "
   ]
  },
  {
   "cell_type": "code",
   "execution_count": null,
   "metadata": {
    "ExecuteTime": {
     "end_time": "2021-02-11T09:24:46.907714Z",
     "start_time": "2021-02-11T09:24:46.826048Z"
    }
   },
   "outputs": [],
   "source": [
    "def plot_band_binom(ax, time, Y_binom, color, label, axis=1):\n",
    "    ax.fill_between(time, np.quantile(Y_binom, q = LL, axis = axis), \n",
    "                    np.quantile(Y_binom, q = UL, axis = axis),alpha=0.30, facecolor = color)\n",
    "    ax.plot(time,np.mean(Y_binom,axis=axis), color=color, label=label, lw=2, linestyle='--')\n",
    "    return"
   ]
  },
  {
   "cell_type": "code",
   "execution_count": null,
   "metadata": {
    "ExecuteTime": {
     "end_time": "2021-02-11T09:24:46.959768Z",
     "start_time": "2021-02-11T09:24:46.910411Z"
    }
   },
   "outputs": [],
   "source": [
    "def draw_fcn(param_dict,samples_dict,to_sample):\n",
    "    # Sample\n",
    "    idx, param_dict['beta'] = random.choice(list(enumerate(samples_dict['beta'])))\n",
    "    param_dict['l'] = samples_dict['l'][idx] \n",
    "    param_dict['tau'] = samples_dict['tau'][idx]    \n",
    "    param_dict['prev_home'] = samples_dict['prev_home'][idx] \n",
    "    param_dict['prev_schools'] = samples_dict['prev_schools'][idx]    \n",
    "    param_dict['prev_work'] = samples_dict['prev_work'][idx]       \n",
    "    param_dict['prev_rest'] = samples_dict['prev_rest'][idx] \n",
    "    #param_dict['K'] = np.random.uniform(infectivity_gain_lower,infectivity_gain_upper)\n",
    "    return param_dict"
   ]
  },
  {
   "cell_type": "code",
   "execution_count": null,
   "metadata": {
    "ExecuteTime": {
     "end_time": "2021-02-11T09:24:47.014606Z",
     "start_time": "2021-02-11T09:24:46.963140Z"
    }
   },
   "outputs": [],
   "source": [
    "def plot_band(ax, y_model, var, color, label):\n",
    "    ax.fill_between(pd.to_datetime(y_model['time'].values),\n",
    "                    y_model[var].sum(dim=\"Nc\").quantile(LL,dim=\"draws\"), \n",
    "                    y_model[var].sum(dim=\"Nc\").quantile(UL,dim=\"draws\"),alpha=0.30, facecolor = color)\n",
    "    ax.plot(y_model['time'],y_model[var].sum(dim=\"Nc\").mean(dim=\"draws\"), color=color, label=label, lw=2)\n",
    "    return"
   ]
  },
  {
   "cell_type": "markdown",
   "metadata": {},
   "source": [
    "# Time-dep functions"
   ]
  },
  {
   "cell_type": "code",
   "execution_count": null,
   "metadata": {
    "ExecuteTime": {
     "end_time": "2021-02-11T09:24:47.080335Z",
     "start_time": "2021-02-11T09:24:47.027260Z"
    }
   },
   "outputs": [],
   "source": [
    "from covid19model.models.time_dependant_parameter_fncs import make_contact_matrix_function\n",
    "contact_matrix_4prev = make_contact_matrix_function(df_google, Nc_all)"
   ]
  },
  {
   "cell_type": "code",
   "execution_count": null,
   "metadata": {
    "ExecuteTime": {
     "end_time": "2021-02-11T09:50:41.138511Z",
     "start_time": "2021-02-11T09:50:40.527356Z"
    }
   },
   "outputs": [],
   "source": [
    "def report7_policy_function(t, states, param, l , tau, prev_home, prev_schools, prev_work, prev_rest,scenario='1a'):\n",
    "    # Convert tau and l to dates\n",
    "    tau_days = pd.Timedelta(tau, unit='D')\n",
    "    l_days = pd.Timedelta(l, unit='D')\n",
    "\n",
    "    # Define key policy dates\n",
    "    t1 = pd.Timestamp('2020-03-15') # start of lockdown\n",
    "    t2 = pd.Timestamp('2020-05-15') # gradual re-opening of schools (assume 50% of nominal scenario)\n",
    "    t3 = pd.Timestamp('2020-07-01') # start of summer: COVID-urgency very low\n",
    "    t4 = pd.Timestamp('2020-08-01')\n",
    "    t5 = pd.Timestamp('2020-09-01') # september: lockdown relaxation narrative in newspapers reduces sense of urgency\n",
    "    t6 = pd.Timestamp('2020-10-19') # lockdown\n",
    "    t7 = pd.Timestamp('2020-11-16') # schools re-open\n",
    "    t8 = pd.Timestamp('2020-12-18') # start Christmas holidays (schools close)\n",
    "    t13 = pd.Timestamp('2020-01-04') # end Christmas holidays (schools open)\n",
    "    #t14 = pd.Timestamp('2021-01-18') # start of alternative policies\n",
    "    t15 = pd.Timestamp('2021-02-15') # Start of Krokus holidays (schools close)\n",
    "    t16 = pd.Timestamp('2021-02-21') # End of Krokus holidays (schools open)\n",
    "    t17 = pd.Timestamp('2021-03-01') # release to SB March 1\n",
    "    t18 = pd.Timestamp('2021-04-01') # release to SB April 1\n",
    "    t19 = pd.Timestamp('2021-04-05') # start Eastern Holidays (schools close)\n",
    "    t20 = pd.Timestamp('2021-04-19') # end Eastern Holidays (schools open)\n",
    "    t21 = pd.Timestamp('2021-05-01') # release to SB May 1\n",
    "\n",
    "    # Average out september mobility\n",
    "\n",
    "    if t5 < t <= t6 + tau_days:\n",
    "        t = pd.Timestamp(t.date())\n",
    "        return contact_matrix_4prev(t, school=1)\n",
    "    elif t6 + tau_days < t <= t6 + tau_days + l_days:\n",
    "        t = pd.Timestamp(t.date())\n",
    "        policy_old = contact_matrix_4prev(t, school=1)\n",
    "        policy_new = contact_matrix_4prev(t, prev_home, prev_schools, prev_work, prev_rest, \n",
    "                                    school=0)\n",
    "        return ramp_fun(policy_old, policy_new, t, tau_days, l, t6)\n",
    "    elif t6 + tau_days + l_days < t <= t7:\n",
    "        t = pd.Timestamp(t.date())\n",
    "        return contact_matrix_4prev(t, prev_home, prev_schools, prev_work, prev_rest, \n",
    "                              school=0)\n",
    "    elif t7 < t <= t8:\n",
    "        t = pd.Timestamp(t.date())\n",
    "        return contact_matrix_4prev(t, prev_home, prev_schools, prev_work, prev_rest, \n",
    "                              school=1)\n",
    "    elif t8 < t <= t13:\n",
    "        t = pd.Timestamp(t.date())\n",
    "        return contact_matrix_4prev(t, prev_home, prev_schools, prev_work, prev_rest, \n",
    "                              school=0)\n",
    "    elif t13 < t <= t15:\n",
    "        t = pd.Timestamp(t.date())\n",
    "        return contact_matrix_4prev(t, prev_home, prev_schools, prev_work, prev_rest, \n",
    "                        school=0.6)\n",
    "    elif t15 < t <= t16:\n",
    "        t = pd.Timestamp(t.date())\n",
    "        return contact_matrix_4prev(t, prev_home, prev_schools, prev_work, prev_rest, \n",
    "                        school=0)    \n",
    "    else:\n",
    "        # Scenario 1: Current contact behaviour\n",
    "        if scenario == '1':\n",
    "            if t16 < t <= t19:\n",
    "                t = pd.Timestamp(t.date())\n",
    "                return contact_matrix_4prev(t, prev_home, prev_schools, prev_work, prev_rest, \n",
    "                                school=0.6)\n",
    "            elif t19 < t <= t20:\n",
    "                t = pd.Timestamp(t.date())\n",
    "                return contact_matrix_4prev(t, prev_home, prev_schools, prev_work, prev_rest, \n",
    "                                school=0)\n",
    "            elif t20 < t:\n",
    "                t = pd.Timestamp(t.date())\n",
    "                return contact_matrix_4prev(t, prev_home, prev_schools, prev_work, prev_rest, \n",
    "                                school=0.6)\n",
    "            else:\n",
    "                raise Exception ('scenario '+scenario+' t:'+str(t))\n",
    "                    \n",
    "        # Scenario 2: increases in work or leisure mobility on March 1\n",
    "        elif scenario == '2':\n",
    "            if t16 < t <= t17:\n",
    "                t = pd.Timestamp(t.date())\n",
    "                return contact_matrix_4prev(t, prev_home, prev_schools, prev_work, prev_rest, \n",
    "                                school=0.6)  \n",
    "            elif t17 < t <= t19:\n",
    "                t = pd.Timestamp(t.date())\n",
    "                return contact_matrix_4prev(t, 1, 1, 1, 1, \n",
    "                                school=0.6,SB='2a')\n",
    "            elif t19 < t <= t20:\n",
    "                t = pd.Timestamp(t.date())\n",
    "                return contact_matrix_4prev(t, 1, 1, 1, 1, \n",
    "                                school=0,SB='2a')\n",
    "            elif t20 < t:\n",
    "                t = pd.Timestamp(t.date())\n",
    "                return contact_matrix_4prev(t, 1, 1, 1, 1, \n",
    "                                school=0.6,SB='2a')\n",
    "            else:\n",
    "                raise Exception ('scenario '+scenario+' t:'+str(t))\n",
    "        # Scenario 3: increases in work or leisure mobility on April 1\n",
    "        elif scenario == '3':\n",
    "            if t16 < t <= t18:\n",
    "                t = pd.Timestamp(t.date())\n",
    "                return contact_matrix_4prev(t, prev_home, prev_schools, prev_work, prev_rest, \n",
    "                                school=0.6)  \n",
    "            elif t18 < t <= t19:\n",
    "                t = pd.Timestamp(t.date())\n",
    "                return contact_matrix_4prev(t, 1, 1, 1, 1, \n",
    "                                school=0.6,SB='2a')\n",
    "            elif t19 < t <= t20:\n",
    "                t = pd.Timestamp(t.date())\n",
    "                return contact_matrix_4prev(t, 1, 1, 1, 1, \n",
    "                                school=0,SB='2a')\n",
    "            elif t20 < t:\n",
    "                t = pd.Timestamp(t.date())\n",
    "                return contact_matrix_4prev(t, 1, 1, 1, 1, \n",
    "                                school=0.6,SB='2a')\n",
    "            \n",
    "            else:\n",
    "                raise Exception ('scenario '+scenario+' t:'+str(t))\n",
    "        # Scenario 4: increases in work or leisure mobility on May 1\n",
    "        elif scenario == '4':\n",
    "            \n",
    "            if t16 < t <= t19:\n",
    "                t = pd.Timestamp(t.date())\n",
    "                return contact_matrix_4prev(t, prev_home, prev_schools, prev_work, prev_rest, \n",
    "                                school=0.6)  \n",
    "            elif t19 < t <= t20:\n",
    "                t = pd.Timestamp(t.date())\n",
    "                return contact_matrix_4prev(t, prev_home, prev_schools, prev_work, prev_rest, \n",
    "                                school=0)  \n",
    "            elif t20 < t <= t21:\n",
    "                t = pd.Timestamp(t.date())\n",
    "                return contact_matrix_4prev(t, prev_home, prev_schools, prev_work, prev_rest, \n",
    "                                school=0.6) \n",
    "            elif t > t21:\n",
    "                t = pd.Timestamp(t.date())\n",
    "                return contact_matrix_4prev(t, 1, 1, 1, 1, \n",
    "                                school=0.6,SB='2a')\n",
    "            else:\n",
    "                raise Exception ('scenario '+scenario+' t:'+str(t))\n",
    "        else:\n",
    "            raise Exception ('scenario '+scenario+' non-existing')"
   ]
  },
  {
   "cell_type": "code",
   "execution_count": null,
   "metadata": {
    "ExecuteTime": {
     "end_time": "2021-02-11T09:42:37.773706Z",
     "start_time": "2021-02-11T09:42:37.709266Z"
    }
   },
   "outputs": [],
   "source": [
    "def vaccin_model(initial_states, scenario, effectivity=None, injection_day=0, injection_ratio=0,\n",
    "                 Nc_fun=None, N_vacc_fun=vacc_strategy, levels=levels):\n",
    "    \"\"\"\n",
    "    Function to initialize the model given a certain vaccination strategy\n",
    "    \"\"\"\n",
    "    params = model_parameters.get_COVID19_SEIRD_parameters()\n",
    "    params.update({\n",
    "            'l' : 5,\n",
    "            'tau' : 5,\n",
    "            'prev_home': 0.5,\n",
    "            'prev_schools': 0.5,\n",
    "            'prev_work': 0.5,\n",
    "            'prev_rest': 0.5,\n",
    "            'scenario': scenario,\n",
    "            'injection_day' : injection_day,\n",
    "            'injection_ratio' : injection_ratio\n",
    "                  })\n",
    "    \n",
    "    tdp = {}\n",
    "    \n",
    "    if Nc_fun is not None:\n",
    "        tdp.update({'Nc': Nc_fun})\n",
    "    if N_vacc_fun is not None:\n",
    "        tdp.update({'N_vacc':N_vacc_fun})\n",
    "        params.update({\n",
    "            'd' : d,\n",
    "            'NH' : NH,\n",
    "            'e' : np.array([effectivity]*levels)\n",
    "        })\n",
    "    return models.COVID19_SEIRD(initial_states, params, time_dependent_parameters=tdp)"
   ]
  },
  {
   "cell_type": "markdown",
   "metadata": {
    "heading_collapsed": true
   },
   "source": [
    "# Test vacc strategy"
   ]
  },
  {
   "cell_type": "code",
   "execution_count": null,
   "metadata": {
    "ExecuteTime": {
     "end_time": "2021-02-11T09:28:35.645064Z",
     "start_time": "2021-02-11T09:28:35.606002Z"
    },
    "hidden": true
   },
   "outputs": [],
   "source": [
    "# Need to initiate I also with the co-infection model, otherwise divison by zero occurs\n",
    "initial_states = {'S': initN, 'E': np.ones(levels), 'I': np.ones(levels), 'alpha':np.zeros(9)}"
   ]
  },
  {
   "cell_type": "code",
   "execution_count": null,
   "metadata": {
    "ExecuteTime": {
     "end_time": "2021-02-11T09:28:36.276064Z",
     "start_time": "2021-02-11T09:28:35.882404Z"
    },
    "hidden": true
   },
   "outputs": [],
   "source": [
    "params = model_parameters.get_COVID19_SEIRD_parameters()\n",
    "dummy_model_no_vacc = models.COVID19_SEIRD(initial_states, params)\n",
    "sim_dummy_model_no_vacc = dummy_model_no_vacc.sim(time=end_sim, start_date=start_calibration)"
   ]
  },
  {
   "cell_type": "code",
   "execution_count": null,
   "metadata": {
    "ExecuteTime": {
     "end_time": "2021-02-11T09:28:43.910015Z",
     "start_time": "2021-02-11T09:28:43.195954Z"
    },
    "hidden": true,
    "scrolled": true
   },
   "outputs": [],
   "source": [
    "params = model_parameters.get_COVID19_SEIRD_parameters()\n",
    "params.update({'d' : d,\n",
    "               'NH' : NH,\n",
    "               'e' : np.array([0.9]*levels)              })\n",
    "dummy_model_vacc = models.COVID19_SEIRD(initial_states, params, time_dependent_parameters={'N_vacc': vacc_strategy})\n",
    "sim_dummy_model_vacc = dummy_model_vacc.sim(time=end_sim, start_date=start_calibration)"
   ]
  },
  {
   "cell_type": "code",
   "execution_count": null,
   "metadata": {
    "ExecuteTime": {
     "end_time": "2021-02-10T15:22:49.614655Z",
     "start_time": "2021-02-10T15:22:48.756818Z"
    },
    "hidden": true
   },
   "outputs": [],
   "source": [
    "injection_day = (pd.Timestamp('2021-01-01') - pd.Timestamp(start_calibration))/pd.Timedelta('1D')\n",
    "params = model_parameters.get_COVID19_SEIRD_parameters()\n",
    "params.update({'d' : d,\n",
    "               'NH' : NH,\n",
    "               'e' : np.array([0.9]*levels),\n",
    "               'K' : 1.6,\n",
    "               'initN' : initN[np.newaxis],\n",
    "               'injection_day': injection_day,\n",
    "               'injection_ratio':0.1,\n",
    "              })\n",
    "\n",
    "dummy_model_vacc_UK = models.COVID19_SEIRD(initial_states, params, time_dependent_parameters={'N_vacc': vacc_strategy})\n",
    "sim_dummy_model_vacc_UK = dummy_model_vacc_UK.sim(time=end_sim, start_date=start_calibration)"
   ]
  },
  {
   "cell_type": "code",
   "execution_count": null,
   "metadata": {
    "ExecuteTime": {
     "end_time": "2021-02-11T09:28:26.624105Z",
     "start_time": "2021-02-11T09:28:26.547718Z"
    },
    "hidden": true
   },
   "outputs": [],
   "source": [
    "timerange = pd.date_range(start_calibration,'2021-09-01')\n",
    "test_dict = {}\n",
    "for t in timerange:\n",
    "    test_dict[t] = np.sum(vacc_strategy(t=t, states=initial_states_sept, param=None, d=d, NH=NH))\n",
    "test_df = pd.DataFrame.from_dict(test_dict, orient='index').reset_index()\n",
    "test_df.columns = ['date','N_vacc']\n",
    "test_df['N_cum'] = test_df.N_vacc.cumsum()"
   ]
  },
  {
   "cell_type": "code",
   "execution_count": null,
   "metadata": {
    "ExecuteTime": {
     "end_time": "2021-02-11T09:28:48.623479Z",
     "start_time": "2021-02-11T09:28:48.530466Z"
    },
    "hidden": true
   },
   "outputs": [],
   "source": [
    "fig,ax = plt.subplots(figsize=(9,5))\n",
    "ax.plot('date', 'N_vacc', data=test_df, c='green', label='time-dep function')\n",
    "ax.plot(sim_dummy_model_vacc['time'], sim_dummy_model_vacc['V_new'].sum(dim='Nc'), c='blue', linestyle='--', label='model')\n",
    "ax.legend()\n",
    "ax.set_ylabel('Daily vaccination number')"
   ]
  },
  {
   "cell_type": "code",
   "execution_count": null,
   "metadata": {
    "ExecuteTime": {
     "end_time": "2021-02-04T14:48:17.563579Z",
     "start_time": "2021-02-04T14:48:16.512345Z"
    },
    "hidden": true
   },
   "outputs": [],
   "source": [
    "fig,ax = plt.subplots(figsize=(11,5))\n",
    "ax.plot('date', 'N_cum', data=test_df, c='black')\n",
    "ax2 = ax.twinx()\n",
    "ax2.plot('date', 'N_vacc', data=test_df, c='gray', linestyle='--')\n",
    "ax.set_ylabel('Total number of people vaccinated')\n",
    "ax2.set_ylabel('Number of people vaccinated daily')\n",
    "ax.grid(False)\n",
    "ax2.grid(False)\n",
    "ax.set_xlabel('Time')\n",
    "ax.set_ylim(0,)\n",
    "ax2.set_ylim(0,)\n",
    "ax2.set_axis_on()\n",
    "yticks = [2,4,6,8]\n",
    "ax.set_yticks([0]+[i*10**6 for i in yticks])\n",
    "ax.set_yticklabels(['0']+[str(i)+'*10$^6$' for i in yticks])\n",
    "yticks2 = [2,4,6]\n",
    "ax2.set_yticks([0]+[i*10**4 for i in yticks2])\n",
    "ax2.set_yticklabels(['0']+[str(i)+'*10$^4$' for i in yticks2])\n",
    "fig.savefig('../../results/predictions/national/restore_v7.0/vacc_strategy', dpi=400)"
   ]
  },
  {
   "cell_type": "code",
   "execution_count": null,
   "metadata": {
    "ExecuteTime": {
     "end_time": "2021-01-25T07:50:42.993565Z",
     "start_time": "2021-01-25T07:50:42.949539Z"
    },
    "hidden": true
   },
   "outputs": [],
   "source": [
    "N = d['jan']/2*31+d['feb']/2*28+d['mar-apr']/2*(31+30)+d['may-aug']/2*(31+30)\n",
    "print('Approximate total number of vaccinations by august 1: {}'.format(N))\n",
    "#pd.to_datetime(end_sim) - pd.to_datetime(start_calibration)\n",
    "V_pool_aug = sim_dummy_model_vacc['V'].sum(dim='Nc').values[-1]\n",
    "print('Number of persons in vaccinated pool by end of simulation: {}'.format(V_pool_aug))\n",
    "V_new_sum = sim_dummy_model_vacc['V_new'].sum(dim='Nc').sum(dim='time').values\n",
    "print('Total number of people vaccinated by end of simulation: {}'.format(V_new_sum))"
   ]
  },
  {
   "cell_type": "code",
   "execution_count": null,
   "metadata": {
    "ExecuteTime": {
     "end_time": "2021-02-03T08:35:43.270898Z",
     "start_time": "2021-02-03T08:35:43.088811Z"
    },
    "hidden": true
   },
   "outputs": [],
   "source": [
    "population_status(sim_dummy_model_no_vacc)"
   ]
  },
  {
   "cell_type": "code",
   "execution_count": null,
   "metadata": {
    "ExecuteTime": {
     "end_time": "2021-02-03T08:35:48.462941Z",
     "start_time": "2021-02-03T08:35:48.320619Z"
    },
    "hidden": true
   },
   "outputs": [],
   "source": [
    "population_status(sim_dummy_model_vacc)"
   ]
  },
  {
   "cell_type": "code",
   "execution_count": null,
   "metadata": {
    "ExecuteTime": {
     "end_time": "2021-02-03T08:35:52.207649Z",
     "start_time": "2021-02-03T08:35:52.060325Z"
    },
    "hidden": true
   },
   "outputs": [],
   "source": [
    "population_status(sim_dummy_model_vacc_UK)"
   ]
  },
  {
   "cell_type": "code",
   "execution_count": null,
   "metadata": {
    "ExecuteTime": {
     "end_time": "2021-02-03T12:29:46.340982Z",
     "start_time": "2021-02-03T12:29:46.157315Z"
    },
    "hidden": true
   },
   "outputs": [],
   "source": [
    "population_status(sim_dummy_model_vacc_UK)"
   ]
  },
  {
   "cell_type": "code",
   "execution_count": null,
   "metadata": {
    "ExecuteTime": {
     "end_time": "2021-01-22T11:36:23.480169Z",
     "start_time": "2021-01-22T11:36:23.261684Z"
    },
    "hidden": true
   },
   "outputs": [],
   "source": [
    "# check evolutie van alpha\n",
    "fig,ax = plt.subplots()\n",
    "sim_dummy_model_vacc_UK['alpha'].mean(dim='Nc').plot(ax=ax)"
   ]
  },
  {
   "cell_type": "code",
   "execution_count": null,
   "metadata": {
    "ExecuteTime": {
     "end_time": "2021-01-25T09:12:46.338422Z",
     "start_time": "2021-01-25T09:12:46.295280Z"
    },
    "hidden": true
   },
   "outputs": [],
   "source": [
    "N_days = check_overtake_duration(sim_dummy_model_vacc_UK, dims='Nc')\n",
    "N_days"
   ]
  },
  {
   "cell_type": "markdown",
   "metadata": {
    "hidden": true
   },
   "source": [
    "duurt altijd ong. 100 dagen..., onafhankelijk van hoeveel je initialiseert. Ws omdat in deze test het virus nog niet verspreid is (en iedereen susceptible), dus de verspreiding wordt direct volledig overgenomen door besmettelijke variant."
   ]
  },
  {
   "cell_type": "markdown",
   "metadata": {},
   "source": [
    "# Test spatial model"
   ]
  },
  {
   "cell_type": "markdown",
   "metadata": {},
   "source": [
    "N_vacc uit vaccination function moet hier 2D zijn! Geo unit x age class!"
   ]
  },
  {
   "cell_type": "code",
   "execution_count": null,
   "metadata": {
    "ExecuteTime": {
     "end_time": "2021-02-12T08:14:42.843411Z",
     "start_time": "2021-02-12T08:14:42.181084Z"
    }
   },
   "outputs": [],
   "source": [
    "geo_unit = 'prov'\n",
    "initN_spatial, Nc_home, Nc_work, Nc_schools, Nc_transport, Nc_leisure, Nc_others, Nc_total = model_parameters.get_interaction_matrices(dataset='willem_2012', spatial=geo_unit)\n",
    "shape = initN_spatial.shape"
   ]
  },
  {
   "cell_type": "code",
   "execution_count": null,
   "metadata": {
    "ExecuteTime": {
     "end_time": "2021-02-12T08:14:44.272088Z",
     "start_time": "2021-02-12T08:14:44.220064Z"
    }
   },
   "outputs": [],
   "source": [
    "# divide daily vaccinations over spatial units according to population fraction in unit\n",
    "fraction_per_arr = initN_spatial.sum(axis=1)/initN_spatial.sum().sum()\n",
    "d_spatial = {key:el*fraction_per_arr[:,np.newaxis] for key,el in d.items()}"
   ]
  },
  {
   "cell_type": "code",
   "execution_count": null,
   "metadata": {
    "ExecuteTime": {
     "end_time": "2021-02-12T08:14:46.425713Z",
     "start_time": "2021-02-12T08:14:46.385804Z"
    }
   },
   "outputs": [],
   "source": [
    "# Need to initiate I also with the co-infection model, otherwise divison by zero occurs\n",
    "initial_states = {'S': initN_spatial, 'E': np.ones(shape), 'I': np.ones(shape), 'alpha':np.zeros(shape)}"
   ]
  },
  {
   "cell_type": "code",
   "execution_count": null,
   "metadata": {
    "ExecuteTime": {
     "end_time": "2021-02-12T08:14:47.815941Z",
     "start_time": "2021-02-12T08:14:46.978801Z"
    }
   },
   "outputs": [],
   "source": [
    "params = model_parameters.get_COVID19_SEIRD_parameters(spatial=geo_unit)\n",
    "dummy_spatial_model = models.COVID19_SEIRD_spatial(initial_states, params, spatial=geo_unit)\n",
    "sim_dummy_spatial_model = dummy_spatial_model.sim(time=end_sim, start_date=start_calibration)"
   ]
  },
  {
   "cell_type": "code",
   "execution_count": null,
   "metadata": {
    "ExecuteTime": {
     "end_time": "2021-02-12T09:21:22.470494Z",
     "start_time": "2021-02-12T08:56:42.155262Z"
    }
   },
   "outputs": [],
   "source": [
    "params = model_parameters.get_COVID19_SEIRD_parameters(spatial=geo_unit)\n",
    "params.update({'d' : d_spatial,\n",
    "               'NH' : NH,\n",
    "               'e' : np.ones(levels)*0.9\n",
    "              })\n",
    "dummy_spatial_model_vacc = models.COVID19_SEIRD_spatial(initial_states, params, spatial=geo_unit, time_dependent_parameters={'N_vacc': vacc_strategy})\n",
    "sim_dummy_spatial_model_vacc = dummy_spatial_model_vacc.sim(time=end_sim, start_date=start_calibration)"
   ]
  },
  {
   "cell_type": "code",
   "execution_count": null,
   "metadata": {
    "ExecuteTime": {
     "end_time": "2021-02-10T07:48:53.404751Z",
     "start_time": "2021-02-10T07:48:53.330911Z"
    },
    "scrolled": true
   },
   "outputs": [],
   "source": [
    "timerange = pd.date_range(start_calibration,'2021-09-01')\n",
    "test_dict = {}\n",
    "for t in timerange:\n",
    "    test_dict[t] = np.sum(vacc_strategy(t=t, param=None, d=d, NH=NH, initN=initN_spatial), axis=1)\n",
    "test_df = pd.DataFrame.from_dict(test_dict, orient='index').reset_index()\n",
    "# test_df.columns = ['date','N_vacc']\n",
    "# test_df['N_cum'] = test_df.N_vacc.cumsum()"
   ]
  },
  {
   "cell_type": "code",
   "execution_count": null,
   "metadata": {
    "ExecuteTime": {
     "end_time": "2021-02-10T07:50:18.231677Z",
     "start_time": "2021-02-10T07:50:18.178076Z"
    }
   },
   "outputs": [],
   "source": [
    "vacc_strategy(t=t, param=None, d=d, NH=NH, initN=initN_spatial).shape"
   ]
  },
  {
   "cell_type": "code",
   "execution_count": null,
   "metadata": {
    "ExecuteTime": {
     "end_time": "2021-02-12T12:23:38.266232Z",
     "start_time": "2021-02-12T12:23:37.065834Z"
    },
    "scrolled": true
   },
   "outputs": [],
   "source": [
    "params = model_parameters.get_COVID19_SEIRD_parameters(spatial=geo_unit)\n",
    "params.update({\n",
    "               'e' : np.ones(levels)*0.9,\n",
    "               'N_vacc': np.ones(shape)*50,\n",
    "              })\n",
    "dummy_spatial_model_vacc = models.COVID19_SEIRD_spatial(initial_states, params, spatial=geo_unit)#, time_dependent_parameters={'N_vacc': vacc_strategy}\n",
    "sim_dummy_spatial_model_vacc = dummy_spatial_model_vacc.sim(time=end_sim, start_date=start_calibration)"
   ]
  },
  {
   "cell_type": "markdown",
   "metadata": {},
   "source": [
    "**double stratified parameters toevoegen?**"
   ]
  },
  {
   "cell_type": "code",
   "execution_count": null,
   "metadata": {
    "ExecuteTime": {
     "end_time": "2021-02-12T09:24:00.301809Z",
     "start_time": "2021-02-12T09:24:00.228872Z"
    }
   },
   "outputs": [],
   "source": [
    "sim_dummy_spatial_model_vacc['V'].sum(dim=['place','Nc'])"
   ]
  },
  {
   "cell_type": "code",
   "execution_count": null,
   "metadata": {
    "ExecuteTime": {
     "end_time": "2021-02-12T09:24:04.459605Z",
     "start_time": "2021-02-12T09:24:04.409178Z"
    },
    "scrolled": true
   },
   "outputs": [],
   "source": [
    "sim_dummy_spatial_model_vacc['V_new'].sum(dim=['place','Nc']).values"
   ]
  },
  {
   "cell_type": "code",
   "execution_count": null,
   "metadata": {
    "ExecuteTime": {
     "end_time": "2021-02-12T09:24:45.843772Z",
     "start_time": "2021-02-12T09:24:45.715351Z"
    }
   },
   "outputs": [],
   "source": [
    "fig,ax = plt.subplots(figsize=(9,5))\n",
    "#ax.plot('date', 'N_vacc', data=test_df, c='green', label='time-dep function')\n",
    "ax.plot(sim_dummy_spatial_model_vacc['time'], sim_dummy_spatial_model_vacc['V_new'].sum(dim=['place','Nc']), c='blue', linestyle='--', label='model')\n",
    "ax.legend()\n",
    "ax.set_ylabel('Daily vaccination number')"
   ]
  },
  {
   "cell_type": "code",
   "execution_count": null,
   "metadata": {
    "ExecuteTime": {
     "end_time": "2021-02-08T18:39:34.049593Z",
     "start_time": "2021-02-08T18:39:33.830437Z"
    }
   },
   "outputs": [],
   "source": [
    "population_status(sim_dummy_spatial_model.mean(dim='place'))"
   ]
  },
  {
   "cell_type": "code",
   "execution_count": null,
   "metadata": {
    "ExecuteTime": {
     "end_time": "2021-02-04T06:25:13.533280Z",
     "start_time": "2021-02-04T06:25:13.277966Z"
    }
   },
   "outputs": [],
   "source": [
    "sim_dummy_spatial_model_vacc.mean(dim='place')"
   ]
  },
  {
   "cell_type": "code",
   "execution_count": null,
   "metadata": {
    "ExecuteTime": {
     "end_time": "2021-02-12T09:23:29.904725Z",
     "start_time": "2021-02-12T09:23:29.541794Z"
    }
   },
   "outputs": [],
   "source": [
    "population_status(sim_dummy_spatial_model_vacc.mean(dim='place'))"
   ]
  },
  {
   "cell_type": "markdown",
   "metadata": {},
   "source": [
    "# Scenarios"
   ]
  },
  {
   "cell_type": "code",
   "execution_count": null,
   "metadata": {
    "ExecuteTime": {
     "end_time": "2021-02-11T09:42:43.701472Z",
     "start_time": "2021-02-11T09:42:43.490870Z"
    }
   },
   "outputs": [],
   "source": [
    "start_sim = '2020-09-01'\n",
    "end_sim = '2021-07-01'\n",
    "warmup = 0\n",
    "n_samples = 3#100\n",
    "n_draws_per_sample = 1000\n",
    "effectivity = 0.9"
   ]
  },
  {
   "cell_type": "code",
   "execution_count": null,
   "metadata": {
    "ExecuteTime": {
     "end_time": "2021-02-11T09:42:44.089228Z",
     "start_time": "2021-02-11T09:42:44.019663Z"
    }
   },
   "outputs": [],
   "source": [
    "Re_1feb = 0.958*1.4\n",
    "# current estimation of UK prevalence between 20 and 40% => take 30%\n",
    "current_UK = 0.3\n",
    "# 5-6 days incubation\n",
    "incubation_period = 5\n",
    "n_periods = 30/incubation_period"
   ]
  },
  {
   "cell_type": "code",
   "execution_count": null,
   "metadata": {
    "ExecuteTime": {
     "end_time": "2021-02-11T09:42:44.724324Z",
     "start_time": "2021-02-11T09:42:44.660387Z"
    }
   },
   "outputs": [],
   "source": [
    "# How much on January 1? (30 days ago)\n",
    "portion_new_strain_introduced = current_UK/(Re_1feb**n_periods) #0.001\n",
    "injection_day = (pd.Timestamp('2021-01-01') - pd.Timestamp(start_sim))/pd.Timedelta('1D')"
   ]
  },
  {
   "cell_type": "markdown",
   "metadata": {},
   "source": [
    "## Run and save all scenarios"
   ]
  },
  {
   "cell_type": "markdown",
   "metadata": {},
   "source": [
    "See python file"
   ]
  },
  {
   "cell_type": "markdown",
   "metadata": {},
   "source": [
    "## Scenarios S1 (current behaviour)"
   ]
  },
  {
   "cell_type": "code",
   "execution_count": null,
   "metadata": {
    "ExecuteTime": {
     "end_time": "2021-02-12T08:56:06.483795Z",
     "start_time": "2021-02-12T08:56:06.443141Z"
    }
   },
   "outputs": [],
   "source": [
    "scenario = '1'"
   ]
  },
  {
   "cell_type": "markdown",
   "metadata": {},
   "source": [
    "### S1a - K = 1.3"
   ]
  },
  {
   "cell_type": "code",
   "execution_count": null,
   "metadata": {
    "ExecuteTime": {
     "end_time": "2021-02-12T08:56:07.407599Z",
     "start_time": "2021-02-12T08:56:07.368041Z"
    }
   },
   "outputs": [],
   "source": [
    "infectivity_gain_lower=1.3\n",
    "infectivity_gain_upper=1.3"
   ]
  },
  {
   "cell_type": "code",
   "execution_count": null,
   "metadata": {
    "ExecuteTime": {
     "end_time": "2021-02-12T08:56:10.974568Z",
     "start_time": "2021-02-12T08:56:07.867972Z"
    }
   },
   "outputs": [],
   "source": [
    "model_S1a = vaccin_model(initial_states_sept, scenario=scenario, effectivity=effectivity, \n",
    "                         injection_day=injection_day, injection_ratio=portion_new_strain_introduced,\n",
    "                         Nc_fun=report7_policy_function, N_vacc_fun=vacc_strategy)\n",
    "model_S1a.parameters.update({'K':K})\n",
    "out_S1a = model_S1a.sim(end_sim,start_date=start_sim,warmup=warmup,N=n_samples,draw_fcn=draw_fcn,samples=samples_dict,verbose=True)\n"
   ]
  },
  {
   "cell_type": "code",
   "execution_count": null,
   "metadata": {
    "ExecuteTime": {
     "end_time": "2021-02-12T08:56:30.597885Z",
     "start_time": "2021-02-12T08:56:30.390137Z"
    }
   },
   "outputs": [],
   "source": [
    "S1a_H_in_binom = sample_from_binomial(out_S1a, 'H_in', n_draws_per_sample, n_samples)\n",
    "S1a_H_tot_binom = sample_from_binomial(out_S1a, 'H_tot', n_draws_per_sample, n_samples)\n",
    "S1a_time = out_S1a[\"time\"].values\n",
    "S1a_alpha = out_S1a['alpha'].mean(dim=\"Nc\").values"
   ]
  },
  {
   "cell_type": "markdown",
   "metadata": {},
   "source": [
    "### S1b - K = 1.5"
   ]
  },
  {
   "cell_type": "code",
   "execution_count": null,
   "metadata": {
    "ExecuteTime": {
     "end_time": "2021-02-11T09:51:14.513241Z",
     "start_time": "2021-02-11T09:51:14.416894Z"
    }
   },
   "outputs": [],
   "source": [
    "K=1.5\n",
    "infectivity_gain_lower=K\n",
    "infectivity_gain_upper=K\n"
   ]
  },
  {
   "cell_type": "code",
   "execution_count": null,
   "metadata": {
    "ExecuteTime": {
     "end_time": "2021-02-11T09:51:21.303312Z",
     "start_time": "2021-02-11T09:51:14.517130Z"
    }
   },
   "outputs": [],
   "source": [
    "model_S1b = vaccin_model(initial_states_sept, scenario=scenario, effectivity=effectivity, \n",
    "                         injection_day=injection_day, injection_ratio=portion_new_strain_introduced,\n",
    "                         Nc_fun=report7_policy_function, N_vacc_fun=vacc_strategy)\n",
    "model_S1b.parameters.update({'K':K})\n",
    "out_S1b = model_S1b.sim(end_sim,start_date=start_sim,warmup=warmup,N=n_samples,draw_fcn=draw_fcn,samples=samples_dict,verbose=True)\n"
   ]
  },
  {
   "cell_type": "code",
   "execution_count": null,
   "metadata": {
    "ExecuteTime": {
     "end_time": "2021-02-11T09:51:21.950977Z",
     "start_time": "2021-02-11T09:51:21.311537Z"
    }
   },
   "outputs": [],
   "source": [
    "S1b_H_in_binom = sample_from_binomial(out_S1b, 'H_in', n_draws_per_sample, n_samples)\n",
    "S1b_H_tot_binom = sample_from_binomial(out_S1b, 'H_tot', n_draws_per_sample, n_samples)\n",
    "S1b_time = out_S1b[\"time\"].values\n",
    "S1b_alpha = out_S1b['alpha'].mean(dim=\"Nc\").values"
   ]
  },
  {
   "cell_type": "markdown",
   "metadata": {},
   "source": [
    "### S1c - K = 1.7"
   ]
  },
  {
   "cell_type": "code",
   "execution_count": null,
   "metadata": {
    "ExecuteTime": {
     "end_time": "2021-02-08T08:00:31.667381Z",
     "start_time": "2021-02-08T08:00:31.551463Z"
    }
   },
   "outputs": [],
   "source": [
    "K=1.7\n",
    "infectivity_gain_lower=K\n",
    "infectivity_gain_upper=K\n"
   ]
  },
  {
   "cell_type": "code",
   "execution_count": null,
   "metadata": {
    "ExecuteTime": {
     "end_time": "2021-02-08T08:06:36.761388Z",
     "start_time": "2021-02-08T08:00:31.673563Z"
    }
   },
   "outputs": [],
   "source": [
    "model_S1c = vaccin_model(initial_states_sept, scenario=scenario, effectivity=effectivity, \n",
    "                         injection_day=injection_day, injection_ratio=portion_new_strain_introduced,\n",
    "                         Nc_fun=report7_policy_function, N_vacc_fun=vacc_strategy)\n",
    "model_S1c.parameters.update({'K':K})\n",
    "out_S1c = model_S1c.sim(end_sim,start_date=start_sim,warmup=warmup,N=n_samples,draw_fcn=draw_fcn,samples=samples_dict,verbose=True)\n"
   ]
  },
  {
   "cell_type": "code",
   "execution_count": null,
   "metadata": {
    "ExecuteTime": {
     "end_time": "2021-02-08T08:06:55.185216Z",
     "start_time": "2021-02-08T08:06:36.781694Z"
    }
   },
   "outputs": [],
   "source": [
    "S1c_H_in_binom = sample_from_binomial(out_S1c, 'H_in', n_draws_per_sample, n_samples)\n",
    "S1c_H_tot_binom = sample_from_binomial(out_S1c, 'H_tot', n_draws_per_sample, n_samples)\n",
    "S1c_time = out_S1c[\"time\"].values\n",
    "S1c_alpha = out_S1c['alpha'].mean(dim=\"Nc\").values"
   ]
  },
  {
   "cell_type": "markdown",
   "metadata": {},
   "source": [
    "## Scenarios S2 (september behaviour March 1)"
   ]
  },
  {
   "cell_type": "code",
   "execution_count": null,
   "metadata": {
    "ExecuteTime": {
     "end_time": "2021-02-11T09:51:22.055067Z",
     "start_time": "2021-02-11T09:51:21.970326Z"
    }
   },
   "outputs": [],
   "source": [
    "scenario = '2'"
   ]
  },
  {
   "cell_type": "markdown",
   "metadata": {},
   "source": [
    "### S2a - K = 1.3"
   ]
  },
  {
   "cell_type": "code",
   "execution_count": null,
   "metadata": {
    "ExecuteTime": {
     "end_time": "2021-02-11T09:51:22.122112Z",
     "start_time": "2021-02-11T09:51:22.068692Z"
    }
   },
   "outputs": [],
   "source": [
    "K=1.3\n",
    "infectivity_gain_lower=K\n",
    "infectivity_gain_upper=K"
   ]
  },
  {
   "cell_type": "code",
   "execution_count": null,
   "metadata": {
    "ExecuteTime": {
     "end_time": "2021-02-11T09:51:29.527417Z",
     "start_time": "2021-02-11T09:51:22.128504Z"
    }
   },
   "outputs": [],
   "source": [
    "model_S2a = vaccin_model(initial_states_sept, scenario=scenario, effectivity=effectivity, \n",
    "                         injection_day=injection_day, injection_ratio=portion_new_strain_introduced,\n",
    "                         Nc_fun=report7_policy_function, N_vacc_fun=vacc_strategy)\n",
    "model_S2a.parameters.update({'K':K})\n",
    "out_S2a = model_S2a.sim(end_sim,start_date=start_sim,warmup=warmup,N=n_samples,draw_fcn=draw_fcn,samples=samples_dict,verbose=True)\n"
   ]
  },
  {
   "cell_type": "code",
   "execution_count": null,
   "metadata": {
    "ExecuteTime": {
     "end_time": "2021-02-11T09:51:29.852554Z",
     "start_time": "2021-02-11T09:51:29.530777Z"
    }
   },
   "outputs": [],
   "source": [
    "S2a_H_in_binom = sample_from_binomial(out_S2a, 'H_in', n_draws_per_sample, n_samples)\n",
    "S2a_H_tot_binom = sample_from_binomial(out_S2a, 'H_tot', n_draws_per_sample, n_samples)\n",
    "S2a_time = out_S2a[\"time\"].values\n",
    "S2a_alpha = out_S2a['alpha'].mean(dim=\"Nc\").values\n"
   ]
  },
  {
   "cell_type": "markdown",
   "metadata": {},
   "source": [
    "### S2b - K = 1.5"
   ]
  },
  {
   "cell_type": "code",
   "execution_count": null,
   "metadata": {
    "ExecuteTime": {
     "end_time": "2021-02-11T09:51:29.927880Z",
     "start_time": "2021-02-11T09:51:29.856068Z"
    }
   },
   "outputs": [],
   "source": [
    "K=1.5\n",
    "infectivity_gain_lower=K\n",
    "infectivity_gain_upper=K"
   ]
  },
  {
   "cell_type": "code",
   "execution_count": null,
   "metadata": {
    "ExecuteTime": {
     "end_time": "2021-02-11T09:51:37.636185Z",
     "start_time": "2021-02-11T09:51:29.933556Z"
    }
   },
   "outputs": [],
   "source": [
    "model_S2b = vaccin_model(initial_states_sept, scenario=scenario, effectivity=effectivity, \n",
    "                         injection_day=injection_day, injection_ratio=portion_new_strain_introduced,\n",
    "                         Nc_fun=report7_policy_function, N_vacc_fun=vacc_strategy)\n",
    "model_S2b.parameters.update({'K':K})\n",
    "out_S2b = model_S2b.sim(end_sim,start_date=start_sim,warmup=warmup,N=n_samples,draw_fcn=draw_fcn,samples=samples_dict,verbose=True)\n"
   ]
  },
  {
   "cell_type": "code",
   "execution_count": null,
   "metadata": {
    "ExecuteTime": {
     "end_time": "2021-02-11T09:51:38.142191Z",
     "start_time": "2021-02-11T09:51:37.649398Z"
    }
   },
   "outputs": [],
   "source": [
    "S2b_H_in_binom = sample_from_binomial(out_S2b, 'H_in', n_draws_per_sample, n_samples)\n",
    "S2b_H_tot_binom = sample_from_binomial(out_S2b, 'H_tot', n_draws_per_sample, n_samples)\n",
    "S2b_time = out_S2b[\"time\"].values\n",
    "S2b_alpha = out_S2b['alpha'].mean(dim=\"Nc\").values"
   ]
  },
  {
   "cell_type": "markdown",
   "metadata": {},
   "source": [
    "## Scenarios SNV1 (vaccination effect)"
   ]
  },
  {
   "cell_type": "markdown",
   "metadata": {},
   "source": [
    "### S3a (S2b without vaccination)"
   ]
  },
  {
   "cell_type": "code",
   "execution_count": null,
   "metadata": {
    "ExecuteTime": {
     "end_time": "2021-02-11T09:34:55.955732Z",
     "start_time": "2021-02-11T09:34:55.898175Z"
    }
   },
   "outputs": [],
   "source": [
    "scenario = '2'"
   ]
  },
  {
   "cell_type": "code",
   "execution_count": null,
   "metadata": {
    "ExecuteTime": {
     "end_time": "2021-02-11T09:34:56.371052Z",
     "start_time": "2021-02-11T09:34:56.318257Z"
    }
   },
   "outputs": [],
   "source": [
    "K=1.5\n",
    "infectivity_gain_lower=K\n",
    "infectivity_gain_upper=K"
   ]
  },
  {
   "cell_type": "code",
   "execution_count": null,
   "metadata": {
    "ExecuteTime": {
     "end_time": "2021-02-11T09:35:02.390052Z",
     "start_time": "2021-02-11T09:34:56.864938Z"
    }
   },
   "outputs": [],
   "source": [
    "model_S3a = vaccin_model(initial_states_sept, scenario=scenario, effectivity=effectivity, \n",
    "                         injection_day=injection_day, injection_ratio=portion_new_strain_introduced,\n",
    "                         Nc_fun=report7_policy_function, N_vacc_fun=None)\n",
    "model_S3a.parameters.update({'K':K})\n",
    "\n",
    "out_S3a = model_S3a.sim(end_sim,start_date=start_sim,warmup=warmup,N=n_samples,draw_fcn=draw_fcn,samples=samples_dict,verbose=True)\n"
   ]
  },
  {
   "cell_type": "code",
   "execution_count": null,
   "metadata": {
    "ExecuteTime": {
     "end_time": "2021-02-11T09:35:02.951938Z",
     "start_time": "2021-02-11T09:35:02.392845Z"
    }
   },
   "outputs": [],
   "source": [
    "S3a_H_in_binom = sample_from_binomial(out_S3a, 'H_in', n_draws_per_sample, n_samples)\n",
    "S3a_H_tot_binom = sample_from_binomial(out_S3a, 'H_tot', n_draws_per_sample, n_samples)\n",
    "S3a_time = out_S3a[\"time\"].values\n",
    "S3a_alpha = out_S3a['alpha'].mean(dim=\"Nc\").values\n"
   ]
  },
  {
   "cell_type": "markdown",
   "metadata": {},
   "source": [
    "### S4a (S1b without vaccination)"
   ]
  },
  {
   "cell_type": "code",
   "execution_count": null,
   "metadata": {
    "ExecuteTime": {
     "end_time": "2021-02-11T09:35:03.071904Z",
     "start_time": "2021-02-11T09:35:02.973490Z"
    }
   },
   "outputs": [],
   "source": [
    "scenario = '1'"
   ]
  },
  {
   "cell_type": "code",
   "execution_count": null,
   "metadata": {
    "ExecuteTime": {
     "end_time": "2021-02-11T09:35:03.179573Z",
     "start_time": "2021-02-11T09:35:03.080098Z"
    }
   },
   "outputs": [],
   "source": [
    "K=1.5\n",
    "infectivity_gain_lower=K\n",
    "infectivity_gain_upper=K"
   ]
  },
  {
   "cell_type": "code",
   "execution_count": null,
   "metadata": {
    "ExecuteTime": {
     "end_time": "2021-02-11T09:35:07.736299Z",
     "start_time": "2021-02-11T09:35:03.190687Z"
    }
   },
   "outputs": [],
   "source": [
    "model_S4a = vaccin_model(initial_states_sept, scenario=scenario, effectivity=effectivity, \n",
    "                         injection_day=injection_day, injection_ratio=portion_new_strain_introduced,\n",
    "                         Nc_fun=report7_policy_function, N_vacc_fun=None)\n",
    "model_S4a.parameters.update({'K':K})\n",
    "\n",
    "out_S4a = model_S4a.sim(end_sim,start_date=start_sim,warmup=warmup,N=n_samples,draw_fcn=draw_fcn,samples=samples_dict,verbose=True)\n"
   ]
  },
  {
   "cell_type": "code",
   "execution_count": null,
   "metadata": {
    "ExecuteTime": {
     "end_time": "2021-02-11T09:35:08.056022Z",
     "start_time": "2021-02-11T09:35:07.739707Z"
    }
   },
   "outputs": [],
   "source": [
    "S4a_H_in_binom = sample_from_binomial(out_S4a, 'H_in', n_draws_per_sample, n_samples)\n",
    "S4a_H_tot_binom = sample_from_binomial(out_S4a, 'H_tot', n_draws_per_sample, n_samples)\n",
    "S4a_time = out_S4a[\"time\"].values\n",
    "S4a_alpha = out_S4a['alpha'].mean(dim=\"Nc\").values\n"
   ]
  },
  {
   "cell_type": "markdown",
   "metadata": {},
   "source": [
    "# Visualise"
   ]
  },
  {
   "cell_type": "markdown",
   "metadata": {},
   "source": [
    "## S1 and S2"
   ]
  },
  {
   "cell_type": "code",
   "execution_count": null,
   "metadata": {
    "ExecuteTime": {
     "end_time": "2021-02-11T09:51:39.199736Z",
     "start_time": "2021-02-11T09:51:38.198180Z"
    },
    "scrolled": false
   },
   "outputs": [],
   "source": [
    "# ----------------\n",
    "# Visualize result\n",
    "# ----------------\n",
    "# Plot\n",
    "fig,(ax1, ax2, ax3) = plt.subplots(3,sharex=True,figsize=(10,15))\n",
    "legend_pos = (0.5, 1.35)\n",
    "legend_col = 2\n",
    "\n",
    "label1 = 'current behaviour - +30%'\n",
    "label2 = 'current behaviour - +50%'\n",
    "label3 = 'SB March 1 - +30%'\n",
    "label4 = 'SB March 1 - +50%'\n",
    "label5 = 'SB May 1 - +50% '\n",
    "\n",
    "# Incidence\n",
    "plot_band_binom(ax1, S1a_time, S1a_H_in_binom, 'green', label=label1)\n",
    "plot_band_binom(ax1, S1b_time, S1b_H_in_binom, 'blue', label=label2)\n",
    "plot_band_binom(ax1, S2a_time, S2a_H_in_binom, 'orange', label=label3)\n",
    "plot_band_binom(ax1, S2b_time, S2b_H_in_binom, 'red', label=label4)\n",
    "#plot_band_binom(ax1, S5b_time, S5b_H_in_binom, 'lightblue', label=label5)\n",
    "\n",
    "ax1.scatter(df_sciensano[start_sim:end_sim].index,df_sciensano['H_in'][start_sim:end_sim],color='black',alpha=0.4,linestyle='None',facecolors='none')\n",
    "ax1.legend(loc='upper center', bbox_to_anchor=legend_pos, ncol=legend_col)\n",
    "\n",
    "# Load\n",
    "plot_band_binom(ax2, S1a_time, S1a_H_tot_binom, 'green', label=label1)\n",
    "plot_band_binom(ax2, S1b_time, S1b_H_tot_binom, 'blue', label=label2)\n",
    "plot_band_binom(ax2, S2a_time, S2a_H_tot_binom, 'orange', label=label3)\n",
    "plot_band_binom(ax2, S2b_time, S2b_H_tot_binom, 'red', label=label4)\n",
    "#plot_band_binom(ax2, S5b_time, S5b_H_tot_binom, 'lightblue', label=label5)\n",
    "\n",
    "\n",
    "ax2.scatter(df_sciensano[start_sim:end_sim].index,df_sciensano['H_tot'][start_sim:end_sim],color='black',alpha=0.4,linestyle='None',facecolors='none')\n",
    "\n",
    "# British variant\n",
    "plot_band_binom(ax3, S1a_time, S1a_alpha*100, 'green', label=label1, axis=0)\n",
    "plot_band_binom(ax3, S1b_time, S1b_alpha*100, 'blue', label=label2, axis=0)\n",
    "plot_band_binom(ax3, S2a_time, S2a_alpha*100, 'orange', label=label3, axis=0)\n",
    "plot_band_binom(ax3, S2b_time, S2b_alpha*100, 'red', label=label4, axis=0)\n",
    "#plot_band_binom(ax3, S5b_time, S5b_alpha*100, 'lightblue', label=label5, axis=0)\n",
    "\n",
    "# Format\n",
    "ax1.set_title('New hospitalizations')\n",
    "ax1.set_ylabel('$H_{in} $(-)')\n",
    "ax1.set_xlim('2020-09-01',end_sim)\n",
    "ax1.axvline(x=pd.to_datetime('2021-01-15'),color='black')\n",
    "ax1.text(pd.Timestamp('2021-01-16'),750, ' introduction \\n new strain', fontsize=10)\n",
    "ax1 = _apply_tick_locator(ax1)\n",
    "ax2.set_title('Total patients in hospital')\n",
    "ax2.set_ylabel('$H_{tot}$ (-)')\n",
    "ax2.set_xlim('2020-09-01',end_sim)\n",
    "ax2.axvline(x=pd.to_datetime('2021-01-15'),color='red')\n",
    "ax2 = _apply_tick_locator(ax2)\n",
    "ax3.set_title('Prevalence of new strain')\n",
    "ax3.set_ylabel('$\\\\alpha$ (%)')\n",
    "ax3.axvline(x=pd.to_datetime('2021-01-15'),color='black')\n",
    "ax3.set_xlim('2020-09-01',end_sim)\n",
    "ax3.set_ylim(0,100)\n",
    "ax3 = _apply_tick_locator(ax3)\n",
    "# date_exceed = get_date_of_exceeding_alpha(out_S1a, ['Nc', 'draws'], 0.25)\n",
    "# ax3.axvline(x=date_exceed, color='gray')\n",
    "# ax3.text(date_exceed+pd.Timedelta('1D'),10, ' exceeding \\n 25% on {}/{}'.format(date_exceed.day, date_exceed.month), \n",
    "#          fontsize=10, color='gray')\n",
    "\n",
    "\n",
    "fig.suptitle('Scenarios current contact behaviour')\n",
    "\n",
    "fig_path =  '../../results/predictions/national/restore_v7.0/'\n",
    "#fig.savefig(fig_path+'Scenarios'+'.jpg', dpi=400, bbox_inches='tight')"
   ]
  },
  {
   "cell_type": "code",
   "execution_count": null,
   "metadata": {
    "ExecuteTime": {
     "end_time": "2021-02-11T09:46:13.421859Z",
     "start_time": "2021-02-11T09:46:13.372532Z"
    }
   },
   "outputs": [],
   "source": [
    "get_date_of_exceeding_alpha(out_S1b, ['Nc', 'draws'], 0.45)"
   ]
  },
  {
   "cell_type": "code",
   "execution_count": null,
   "metadata": {
    "ExecuteTime": {
     "end_time": "2021-02-03T15:01:37.993108Z",
     "start_time": "2021-02-03T15:01:37.728002Z"
    }
   },
   "outputs": [],
   "source": [
    "check_overtake_duration(out_S1a, ['Nc', 'draws'])"
   ]
  },
  {
   "cell_type": "markdown",
   "metadata": {},
   "source": [
    "## Vaccination effect"
   ]
  },
  {
   "cell_type": "code",
   "execution_count": null,
   "metadata": {
    "ExecuteTime": {
     "end_time": "2021-02-11T09:35:11.282400Z",
     "start_time": "2021-02-11T09:35:10.178995Z"
    },
    "scrolled": false
   },
   "outputs": [],
   "source": [
    "# ----------------\n",
    "# Visualize result\n",
    "# ----------------\n",
    "# Plot\n",
    "fig,(ax1, ax2, ax3) = plt.subplots(3,sharex=True,figsize=(10,15))\n",
    "legend_pos = (0.5, 1.35)\n",
    "legend_col = 2\n",
    "\n",
    "label1 = 'current behaviour - +50% - no vaccination'\n",
    "label2 = 'current behaviour - +50%'\n",
    "label3 = 'september behaviour - +30 - no vaccination%'\n",
    "label4 = 'september behaviour - +50%'\n",
    "\n",
    "# Incidence\n",
    "plot_band_binom(ax1, S4a_time, S4a_H_in_binom, 'green', label=label1)\n",
    "plot_band_binom(ax1, S1b_time, S1b_H_in_binom, 'blue', label=label2)\n",
    "plot_band_binom(ax1, S3a_time, S3a_H_in_binom, 'orange', label=label3)\n",
    "plot_band_binom(ax1, S2b_time, S2b_H_in_binom, 'red', label=label4)\n",
    "\n",
    "ax1.scatter(df_sciensano[start_sim:end_sim].index,df_sciensano['H_in'][start_sim:end_sim],color='black',alpha=0.4,linestyle='None',facecolors='none')\n",
    "ax1.legend(loc='upper center', bbox_to_anchor=legend_pos, ncol=legend_col)\n",
    "\n",
    "# Load\n",
    "plot_band_binom(ax2, S4a_time, S4a_H_tot_binom, 'green', label=label1)\n",
    "plot_band_binom(ax2, S1b_time, S1b_H_tot_binom, 'blue', label=label2)\n",
    "plot_band_binom(ax2, S3a_time, S3a_H_tot_binom, 'orange', label=label3)\n",
    "plot_band_binom(ax2, S2b_time, S2b_H_tot_binom, 'red', label=label4)\n",
    "\n",
    "ax2.scatter(df_sciensano[start_sim:end_sim].index,df_sciensano['H_tot'][start_sim:end_sim],color='black',alpha=0.4,linestyle='None',facecolors='none')\n",
    "\n",
    "# British variant\n",
    "plot_band_binom(ax3, S4a_time, S4a_alpha*100, 'green', label=label1, axis=0)\n",
    "plot_band_binom(ax3, S1b_time, S1b_alpha*100, 'blue', label=label2, axis=0)\n",
    "plot_band_binom(ax3, S3a_time, S3a_alpha*100, 'orange', label=label3, axis=0)\n",
    "plot_band_binom(ax3, S2b_time, S2b_alpha*100, 'red', label=label4, axis=0)\n",
    "\n",
    "# Format\n",
    "ax1.set_title('New hospitalizations')\n",
    "ax1.set_ylabel('$H_{in} $(-)')\n",
    "ax1.set_xlim('2020-09-01',end_sim)\n",
    "ax1.axvline(x=pd.to_datetime('2021-01-15'),color='black')\n",
    "ax1.text(pd.Timestamp('2021-01-16'),750, ' introduction \\n new strain', fontsize=10)\n",
    "ax1 = _apply_tick_locator(ax1)\n",
    "ax2.set_title('Total patients in hospital')\n",
    "ax2.set_ylabel('$H_{tot}$ (-)')\n",
    "ax2.set_xlim('2020-09-01',end_sim)\n",
    "ax2.axvline(x=pd.to_datetime('2021-01-15'),color='red')\n",
    "ax2 = _apply_tick_locator(ax2)\n",
    "ax3.set_title('Prevalence of new strain')\n",
    "ax3.set_ylabel('$\\\\alpha$ (%)')\n",
    "ax3.axvline(x=pd.to_datetime('2021-01-15'),color='black')\n",
    "ax3.set_xlim('2020-09-01',end_sim)\n",
    "ax3.set_ylim(0,100)\n",
    "ax3 = _apply_tick_locator(ax3)\n",
    "# date_exceed = get_date_of_exceeding_alpha(out_S4a, ['Nc', 'draws'], 0.25)\n",
    "# ax3.axvline(x=date_exceed, color='gray')\n",
    "# ax3.text(date_exceed+pd.Timedelta('1D'),10, ' exceeding \\n 25% on {}/{}'.format(date_exceed.day, date_exceed.month), \n",
    "#          fontsize=10, color='gray')\n",
    "\n",
    "\n",
    "fig.suptitle('Scenarios current contact behaviour')\n",
    "\n",
    "fig_path =  '../../results/predictions/national/restore_v7.0/'\n",
    "#fig.savefig(fig_path+'Scenarios_vaccination'+'.jpg', dpi=400, bbox_inches='tight')"
   ]
  },
  {
   "cell_type": "markdown",
   "metadata": {
    "heading_collapsed": true
   },
   "source": [
    "# Alternative scenarios A1"
   ]
  },
  {
   "cell_type": "code",
   "execution_count": null,
   "metadata": {
    "ExecuteTime": {
     "end_time": "2021-01-27T09:32:33.725372Z",
     "start_time": "2021-01-27T09:32:33.685124Z"
    },
    "hidden": true
   },
   "outputs": [],
   "source": [
    "start_sim1 = '2020-09-01'\n",
    "end_sim1 = '2021-01-15' # Initiate new strain on 15 Jan\n",
    "end_sim2 = '2021-05-01'\n",
    "warmup = 0\n",
    "n_samples = 5\n",
    "n_draws_per_sample = 50\n",
    "effectivity = 0.9\n",
    "portion_new_strain_introduced = 0.001\n",
    "scenario = '1'"
   ]
  },
  {
   "cell_type": "markdown",
   "metadata": {
    "heading_collapsed": true,
    "hidden": true
   },
   "source": [
    "## A1a - vacc - old strain"
   ]
  },
  {
   "cell_type": "code",
   "execution_count": null,
   "metadata": {
    "ExecuteTime": {
     "end_time": "2021-01-25T12:04:35.340868Z",
     "start_time": "2021-01-25T12:04:25.177737Z"
    },
    "hidden": true
   },
   "outputs": [],
   "source": [
    "model_A1a = vaccin_model(initial_states_sept, scenario=scenario,Nc_fun=report7_policy_function, N_vacc_fun=None)\n",
    "out_A1a = model_A1a.sim(end_sim2,start_date=start_sim1,warmup=warmup,N=n_samples,draw_fcn=draw_fcn,samples=samples_dict,verbose=True)"
   ]
  },
  {
   "cell_type": "code",
   "execution_count": null,
   "metadata": {
    "ExecuteTime": {
     "end_time": "2021-01-25T12:04:35.482019Z",
     "start_time": "2021-01-25T12:04:35.345674Z"
    },
    "hidden": true
   },
   "outputs": [],
   "source": [
    "A1a_H_in_binom = sample_from_binomial(out_A1a, 'H_in', n_draws_per_sample, n_samples, LL, UL)\n",
    "A1a_time = out_A1a[\"time\"].values\n",
    "A1a_alpha = out_A1a['alpha'].mean(dim=\"Nc\").values"
   ]
  },
  {
   "cell_type": "markdown",
   "metadata": {
    "heading_collapsed": true,
    "hidden": true
   },
   "source": [
    "## A1b - no vacc - new strain"
   ]
  },
  {
   "cell_type": "code",
   "execution_count": null,
   "metadata": {
    "ExecuteTime": {
     "end_time": "2021-01-25T12:04:50.728468Z",
     "start_time": "2021-01-25T12:04:35.490290Z"
    },
    "hidden": true
   },
   "outputs": [],
   "source": [
    "model_A1b = vaccin_model(initial_states_sept, scenario=scenario,Nc_fun=report7_policy_function, N_vacc_fun=None)\n",
    "out_A1b = model_A1b.sim(end_sim1,start_date=start_sim1,warmup=warmup,N=n_samples,draw_fcn=draw_fcn,samples=samples_dict,verbose=True)\n",
    "\n",
    "# Average and pass on state variables\n",
    "initial_states_2 = out_A1b.sel(time=end_sim1).mean(dim=\"draws\")\n",
    "# One promille of British variant on January 15th 2021\n",
    "initial_states_2['alpha'].values = portion_new_strain_introduced*np.ones(9)\n",
    "# Re-Initialize\n",
    "model_A1b_part2 = vaccin_model(initial_states_2, scenario=scenario,Nc_fun=report7_policy_function, N_vacc_fun=None)\n",
    "out_A1b_part2 = model_A1b_part2.sim(end_sim2,start_date=end_sim1,warmup=warmup,N=n_samples,draw_fcn=draw_fcn,samples=samples_dict,verbose=True)"
   ]
  },
  {
   "cell_type": "code",
   "execution_count": null,
   "metadata": {
    "ExecuteTime": {
     "end_time": "2021-01-25T12:04:50.835779Z",
     "start_time": "2021-01-25T12:04:50.733020Z"
    },
    "hidden": true
   },
   "outputs": [],
   "source": [
    "A1b_H_in_binom = sample_from_binomial(out_A1b, 'H_in', n_draws_per_sample, n_samples, LL, UL)\n",
    "A1b_H_in_binom = sample_from_binomial(out_A1b_part2, 'H_in', n_draws_per_sample, n_samples, LL, UL, A1b_H_in_binom)"
   ]
  },
  {
   "cell_type": "code",
   "execution_count": null,
   "metadata": {
    "ExecuteTime": {
     "end_time": "2021-01-25T12:01:05.771064Z",
     "start_time": "2021-01-25T12:01:05.672339Z"
    },
    "hidden": true
   },
   "outputs": [],
   "source": [
    "# A1b_H_tot_binom = sample_from_binomial(out_A1b, 'H_tot', n_draws_per_sample, n_samples, LL, UL)\n",
    "# A1b_H_tot_binom = sample_from_binomial(out_A1b_part2, 'H_tot', n_draws_per_sample, n_samples, LL, UL, A1b_H_tot_binom)"
   ]
  },
  {
   "cell_type": "code",
   "execution_count": null,
   "metadata": {
    "ExecuteTime": {
     "end_time": "2021-01-25T12:04:50.960164Z",
     "start_time": "2021-01-25T12:04:50.840293Z"
    },
    "hidden": true
   },
   "outputs": [],
   "source": [
    "A1b_time = out_A1b[\"time\"].values\n",
    "A1b_alpha = out_A1b['alpha'].mean(dim=\"Nc\").values\n",
    "A1b_time = np.append(A1b_time, out_A1b_part2['time'].values)\n",
    "A1b_alpha = np.append(A1b_alpha,out_A1b_part2['alpha'].mean(dim=\"Nc\").values,axis=1)"
   ]
  },
  {
   "cell_type": "markdown",
   "metadata": {
    "heading_collapsed": true,
    "hidden": true
   },
   "source": [
    "## A1c - vaccination - old strain"
   ]
  },
  {
   "cell_type": "code",
   "execution_count": null,
   "metadata": {
    "ExecuteTime": {
     "end_time": "2021-01-25T12:05:01.855812Z",
     "start_time": "2021-01-25T12:04:50.967256Z"
    },
    "hidden": true
   },
   "outputs": [],
   "source": [
    "model_A1c = vaccin_model(initial_states_sept, scenario=scenario, effectivity=effectivity, Nc_fun=report7_policy_function, N_vacc_fun=vacc_strategy)\n",
    "out_A1c = model_A1c.sim(end_sim2,start_date=start_sim1,warmup=warmup,N=n_samples,draw_fcn=draw_fcn,samples=samples_dict,verbose=True)"
   ]
  },
  {
   "cell_type": "code",
   "execution_count": null,
   "metadata": {
    "ExecuteTime": {
     "end_time": "2021-01-25T12:05:01.993746Z",
     "start_time": "2021-01-25T12:05:01.860836Z"
    },
    "hidden": true
   },
   "outputs": [],
   "source": [
    "A1c_H_in_binom = sample_from_binomial(out_A1c, 'H_in', n_draws_per_sample, n_samples, LL, UL)\n",
    "A1c_time = out_A1c[\"time\"].values\n",
    "A1c_alpha = out_A1c['alpha'].mean(dim=\"Nc\").values"
   ]
  },
  {
   "cell_type": "markdown",
   "metadata": {
    "hidden": true
   },
   "source": [
    "## A1d - vaccination - new strain"
   ]
  },
  {
   "cell_type": "code",
   "execution_count": null,
   "metadata": {
    "ExecuteTime": {
     "end_time": "2021-01-27T09:32:51.030056Z",
     "start_time": "2021-01-27T09:32:43.494305Z"
    },
    "hidden": true
   },
   "outputs": [],
   "source": [
    "model_A1d = vaccin_model(initial_states_sept, scenario=scenario, effectivity=effectivity, Nc_fun=report7_policy_function, N_vacc_fun=vacc_strategy)\n",
    "out_A1d = model_A1d.sim(end_sim1,start_date=start_sim1,warmup=warmup,N=n_samples,draw_fcn=draw_fcn,samples=samples_dict,verbose=True)\n",
    "\n",
    "# Average and pass on state variables\n",
    "initial_states_2 = out_A1d.sel(time=end_sim1).mean(dim=\"draws\")\n",
    "# One promille of British variant on January 15th 2021\n",
    "initial_states_2['alpha'].values = portion_new_strain_introduced*np.ones(9)\n",
    "# Re-Initialize\n",
    "model_A1d_part2 = vaccin_model(initial_states_2, scenario=scenario, effectivity=effectivity, Nc_fun=report7_policy_function, N_vacc_fun=vacc_strategy)\n",
    "out_A1d_part2 = model_A1d_part2.sim(end_sim2,start_date=end_sim1,warmup=warmup,N=n_samples,draw_fcn=draw_fcn,samples=samples_dict,verbose=True)"
   ]
  },
  {
   "cell_type": "code",
   "execution_count": null,
   "metadata": {
    "ExecuteTime": {
     "end_time": "2021-01-27T08:49:43.164360Z",
     "start_time": "2021-01-27T08:49:43.112541Z"
    },
    "hidden": true
   },
   "outputs": [],
   "source": [
    "model_A1d_part2.parameters['beta']"
   ]
  },
  {
   "cell_type": "code",
   "execution_count": null,
   "metadata": {
    "ExecuteTime": {
     "end_time": "2021-01-27T09:32:55.404626Z",
     "start_time": "2021-01-27T09:32:55.355098Z"
    },
    "hidden": true
   },
   "outputs": [],
   "source": [
    "A1d_H_in_binom = sample_from_binomial(out_A1d, 'H_in', n_draws_per_sample, n_samples)\n",
    "A1d_H_in_binom = sample_from_binomial(out_A1d_part2, 'H_in', n_draws_per_sample, n_samples, A1d_H_in_binom)"
   ]
  },
  {
   "cell_type": "code",
   "execution_count": null,
   "metadata": {
    "ExecuteTime": {
     "end_time": "2021-01-25T12:02:49.523011Z",
     "start_time": "2021-01-25T12:02:49.403700Z"
    },
    "hidden": true
   },
   "outputs": [],
   "source": [
    "# A1d_H_tot_binom = sample_from_binomial(out_A1d, 'H_tot', n_draws_per_sample, n_samples)\n",
    "# A1d_H_tot_binom = sample_from_binomial(out_A1d_part2, 'H_tot', n_draws_per_sample, n_samples, A1d_H_tot_binom)"
   ]
  },
  {
   "cell_type": "code",
   "execution_count": null,
   "metadata": {
    "ExecuteTime": {
     "end_time": "2021-01-25T12:05:17.785145Z",
     "start_time": "2021-01-25T12:05:17.546313Z"
    },
    "hidden": true
   },
   "outputs": [],
   "source": [
    "A1d_time = out_A1d[\"time\"].values\n",
    "A1d_alpha = out_A1d['alpha'].mean(dim=\"Nc\").values\n",
    "A1d_time = np.append(A1d_time, out_A1d_part2['time'].values)\n",
    "A1d_alpha = np.append(A1d_alpha,out_A1d_part2['alpha'].mean(dim=\"Nc\").values,axis=1)"
   ]
  },
  {
   "cell_type": "markdown",
   "metadata": {
    "hidden": true
   },
   "source": [
    "## Visualise"
   ]
  },
  {
   "cell_type": "code",
   "execution_count": null,
   "metadata": {
    "ExecuteTime": {
     "end_time": "2021-01-25T12:08:36.932017Z",
     "start_time": "2021-01-25T12:08:33.890888Z"
    },
    "hidden": true,
    "scrolled": false
   },
   "outputs": [],
   "source": [
    "# ----------------\n",
    "# Visualize result\n",
    "# ----------------\n",
    "# Plot\n",
    "fig,(ax1, ax3) = plt.subplots(2,sharex=True,figsize=(10,10))\n",
    "legend_pos = (0.5, 1.25)\n",
    "legend_col = 2\n",
    "\n",
    "# Incidence\n",
    "plot_band_binom(ax1, A1a_time, A1a_H_in_binom, 'green', label='no new strain')\n",
    "plot_band_binom(ax1, A1b_time, A1b_H_in_binom, 'blue', label='new strain on 15/1')\n",
    "plot_band_binom(ax1, A1c_time, A1c_H_in_binom, 'orange', label='no new strain - vacc')\n",
    "plot_band_binom(ax1, A1d_time, A1d_H_in_binom, 'red', label='new strain on 15/1 - vacc')\n",
    "\n",
    "ax1.scatter(df_sciensano[start_sim1:end_sim1].index,df_sciensano['H_in'][start_sim1:end_sim1],color='black',alpha=0.4,linestyle='None',facecolors='none')\n",
    "ax1.legend(loc='upper center', bbox_to_anchor=legend_pos, ncol=legend_col)\n",
    "\n",
    "# Load\n",
    "# plot_band_binom(ax2, A1b_time, A1b_H_tot_binom, 'blue', label='H_in')\n",
    "# ax2.scatter(df_sciensano[start_sim1:end_sim1].index,df_sciensano['H_tot'][start_sim1:end_sim1],color='black',alpha=0.4,linestyle='None',facecolors='none')\n",
    "\n",
    "# British variant\n",
    "# ax3.plot(A1a_time,np.mean(A1a_alpha,axis=0)*100,'--', color='green', label='no new strain')\n",
    "# ax3.plot(A1b_time,np.mean(A1b_alpha,axis=0)*100,'--', color='blue', label='new strain on 15/1')\n",
    "# ax3.fill_between(A1b_time,np.quantile(A1b_alpha,UL,axis=0)*100, np.quantile(A1b_alpha,LL,axis=0)*100,alpha=0.20, color = 'blue')\n",
    "plot_band_binom(ax3, A1a_time, A1a_alpha*100, 'green', label='no new strain', axis=0)\n",
    "plot_band_binom(ax3, A1b_time, A1b_alpha*100, 'blue', label='new strain on 15/1', axis=0)\n",
    "plot_band_binom(ax3, A1c_time, A1c_alpha*100, 'orange', label='no new strain - vacc', axis=0)\n",
    "plot_band_binom(ax3, A1d_time, A1d_alpha*100, 'red', label='new strain on 15/1 - vacc', axis=0)\n",
    "\n",
    "# Format\n",
    "ax1.set_title('New hospitalizations')\n",
    "ax1.set_ylabel('$H_{in} $(-)')\n",
    "ax1.set_xlim('2020-09-01',end_sim2)\n",
    "ax1.axvline(x=pd.to_datetime('2021-01-15'),color='black')\n",
    "ax1.text(pd.Timestamp('2021-01-16'),750, ' introduction \\n new strain', fontsize=10)\n",
    "ax1 = _apply_tick_locator(ax1)\n",
    "# ax2.set_title('Total patients in hospital')\n",
    "# ax2.set_ylabel('$H_{tot}$ (-)')\n",
    "# ax2.set_xlim('2020-09-01',end_sim2)\n",
    "# ax2.axvline(x=pd.to_datetime('2021-01-15'),color='red')\n",
    "# ax2 = _apply_tick_locator(ax2)\n",
    "ax3.set_title('Prevalence of new strain')\n",
    "ax3.set_ylabel('$\\\\alpha$ (%)')\n",
    "ax3.axvline(x=pd.to_datetime('2021-01-15'),color='black')\n",
    "ax3.set_xlim('2020-09-01',end_sim2)\n",
    "ax3.set_ylim(0,100)\n",
    "ax3 = _apply_tick_locator(ax3)\n",
    "date_exceed = get_date_of_exceeding_alpha(out_A1b_part2, ['Nc', 'draws'], 0.25)\n",
    "ax3.axvline(x=date_exceed, color='gray')\n",
    "ax3.text(date_exceed+pd.Timedelta('1D'),10, ' exceeding \\n 25% on {}/{}'.format(date_exceed.day, date_exceed.month), \n",
    "         fontsize=10, color='gray')\n",
    "\n",
    "\n",
    "fig.suptitle('Scenarios current contact behaviour')\n",
    "\n",
    "fig_path =  '../../results/predictions/national/restore_v7.0/'\n",
    "#fig.savefig(fig_path+'restore_v7.0_'+'British_variant'+'.pdf', dpi=400, bbox_inches='tight')\n",
    "fig.savefig(fig_path+'A1'+'.jpg', dpi=400, bbox_inches='tight')"
   ]
  },
  {
   "cell_type": "code",
   "execution_count": null,
   "metadata": {
    "ExecuteTime": {
     "end_time": "2021-01-25T10:38:47.401074Z",
     "start_time": "2021-01-25T10:38:47.355453Z"
    },
    "hidden": true,
    "scrolled": false
   },
   "outputs": [],
   "source": [
    "date_exceed = get_date_of_exceeding_alpha(out_A1b_part2, ['Nc', 'draws'], 0.25)"
   ]
  },
  {
   "cell_type": "code",
   "execution_count": null,
   "metadata": {
    "ExecuteTime": {
     "end_time": "2021-01-25T10:35:58.631558Z",
     "start_time": "2021-01-25T10:35:58.585829Z"
    },
    "hidden": true
   },
   "outputs": [],
   "source": [
    "check_overtake_duration(out_A1b_part2, ['Nc', 'draws'])"
   ]
  },
  {
   "cell_type": "markdown",
   "metadata": {
    "heading_collapsed": true
   },
   "source": [
    "# Alternative scenarios A2"
   ]
  },
  {
   "cell_type": "code",
   "execution_count": null,
   "metadata": {
    "ExecuteTime": {
     "end_time": "2021-01-25T12:13:52.125261Z",
     "start_time": "2021-01-25T12:13:52.012131Z"
    },
    "hidden": true
   },
   "outputs": [],
   "source": [
    "start_sim1 = '2020-09-01'\n",
    "end_sim1 = '2021-01-15' # Initiate new strain on 15 Jan\n",
    "end_sim2 = '2021-07-01'\n",
    "warmup = 0\n",
    "n_samples = 5\n",
    "n_draws_per_sample = 50\n",
    "effectivity = 0.9\n",
    "portion_new_strain_introduced = 0.001\n",
    "scenario = '2a'"
   ]
  },
  {
   "cell_type": "markdown",
   "metadata": {
    "heading_collapsed": true,
    "hidden": true
   },
   "source": [
    "## A2a - no vacc - old strain"
   ]
  },
  {
   "cell_type": "code",
   "execution_count": null,
   "metadata": {
    "ExecuteTime": {
     "end_time": "2021-01-25T12:14:06.961439Z",
     "start_time": "2021-01-25T12:13:53.844958Z"
    },
    "hidden": true
   },
   "outputs": [],
   "source": [
    "model_A2a = vaccin_model(initial_states_sept, scenario=scenario,Nc_fun=report7_policy_function, N_vacc_fun=None)\n",
    "out_A2a = model_A2a.sim(end_sim2,start_date=start_sim1,warmup=warmup,N=n_samples,draw_fcn=draw_fcn,samples=samples_dict,verbose=True)"
   ]
  },
  {
   "cell_type": "code",
   "execution_count": null,
   "metadata": {
    "ExecuteTime": {
     "end_time": "2021-01-25T12:14:07.118005Z",
     "start_time": "2021-01-25T12:14:06.965858Z"
    },
    "hidden": true
   },
   "outputs": [],
   "source": [
    "A2a_H_in_binom = sample_from_binomial(out_A2a, 'H_in', n_draws_per_sample, n_samples, LL, UL)\n",
    "A2a_time = out_A2a[\"time\"].values\n",
    "A2a_alpha = out_A2a['alpha'].mean(dim=\"Nc\").values"
   ]
  },
  {
   "cell_type": "markdown",
   "metadata": {
    "heading_collapsed": true,
    "hidden": true
   },
   "source": [
    "## A2b - no vacc - new strain"
   ]
  },
  {
   "cell_type": "code",
   "execution_count": null,
   "metadata": {
    "ExecuteTime": {
     "end_time": "2021-01-25T12:14:26.001631Z",
     "start_time": "2021-01-25T12:14:07.135775Z"
    },
    "hidden": true
   },
   "outputs": [],
   "source": [
    "model_A2b = vaccin_model(initial_states_sept, scenario=scenario,Nc_fun=report7_policy_function, N_vacc_fun=None)\n",
    "out_A2b = model_A2b.sim(end_sim1,start_date=start_sim1,warmup=warmup,N=n_samples,draw_fcn=draw_fcn,samples=samples_dict,verbose=True)\n",
    "\n",
    "# Average and pass on state variables\n",
    "initial_states_2 = out_A2b.sel(time=end_sim1).mean(dim=\"draws\")\n",
    "# One promille of British variant on January 15th 2021\n",
    "initial_states_2['alpha'].values = portion_new_strain_introduced*np.ones(9)\n",
    "# Re-Initialize\n",
    "model_A2b_part2 = vaccin_model(initial_states_2, scenario=scenario,Nc_fun=report7_policy_function, N_vacc_fun=None)\n",
    "out_A2b_part2 = model_A2b_part2.sim(end_sim2,start_date=end_sim1,warmup=warmup,N=n_samples,draw_fcn=draw_fcn,samples=samples_dict,verbose=True)"
   ]
  },
  {
   "cell_type": "code",
   "execution_count": null,
   "metadata": {
    "ExecuteTime": {
     "end_time": "2021-01-25T12:14:26.129311Z",
     "start_time": "2021-01-25T12:14:26.005934Z"
    },
    "hidden": true
   },
   "outputs": [],
   "source": [
    "A2b_H_in_binom = sample_from_binomial(out_A2b, 'H_in', n_draws_per_sample, n_samples, LL, UL)\n",
    "A2b_H_in_binom = sample_from_binomial(out_A2b_part2, 'H_in', n_draws_per_sample, n_samples, LL, UL, A2b_H_in_binom)"
   ]
  },
  {
   "cell_type": "code",
   "execution_count": null,
   "metadata": {
    "ExecuteTime": {
     "end_time": "2021-01-25T12:14:26.274264Z",
     "start_time": "2021-01-25T12:14:26.134697Z"
    },
    "hidden": true
   },
   "outputs": [],
   "source": [
    "# A2b_H_tot_binom = sample_from_binomial(out_A2b, 'H_tot', n_draws_per_sample, n_samples, LL, UL)\n",
    "# A2b_H_tot_binom = sample_from_binomial(out_A2b_part2, 'H_tot', n_draws_per_sample, n_samples, LL, UL, A2b_H_tot_binom)"
   ]
  },
  {
   "cell_type": "code",
   "execution_count": null,
   "metadata": {
    "ExecuteTime": {
     "end_time": "2021-01-25T12:14:26.385523Z",
     "start_time": "2021-01-25T12:14:26.286805Z"
    },
    "hidden": true
   },
   "outputs": [],
   "source": [
    "A2b_time = out_A2b[\"time\"].values\n",
    "A2b_alpha = out_A2b['alpha'].mean(dim=\"Nc\").values\n",
    "A2b_time = np.append(A2b_time, out_A2b_part2['time'].values)\n",
    "A2b_alpha = np.append(A2b_alpha,out_A2b_part2['alpha'].mean(dim=\"Nc\").values,axis=1)"
   ]
  },
  {
   "cell_type": "markdown",
   "metadata": {
    "heading_collapsed": true,
    "hidden": true
   },
   "source": [
    "## A2c - vaccination - old strain"
   ]
  },
  {
   "cell_type": "code",
   "execution_count": null,
   "metadata": {
    "ExecuteTime": {
     "end_time": "2021-01-25T12:14:44.705845Z",
     "start_time": "2021-01-25T12:14:26.394481Z"
    },
    "hidden": true
   },
   "outputs": [],
   "source": [
    "model_A2c = vaccin_model(initial_states_sept, scenario=scenario, effectivity=effectivity, Nc_fun=report7_policy_function, N_vacc_fun=vacc_strategy)\n",
    "out_A2c = model_A2c.sim(end_sim2,start_date=start_sim1,warmup=warmup,N=n_samples,draw_fcn=draw_fcn,samples=samples_dict,verbose=True)"
   ]
  },
  {
   "cell_type": "code",
   "execution_count": null,
   "metadata": {
    "ExecuteTime": {
     "end_time": "2021-01-25T12:14:44.953711Z",
     "start_time": "2021-01-25T12:14:44.716075Z"
    },
    "hidden": true
   },
   "outputs": [],
   "source": [
    "A2c_H_in_binom = sample_from_binomial(out_A2c, 'H_in', n_draws_per_sample, n_samples, LL, UL)\n",
    "A2c_time = out_A2c[\"time\"].values\n",
    "A2c_alpha = out_A2c['alpha'].mean(dim=\"Nc\").values"
   ]
  },
  {
   "cell_type": "markdown",
   "metadata": {
    "heading_collapsed": true,
    "hidden": true
   },
   "source": [
    "## A2d - vaccination - new strain"
   ]
  },
  {
   "cell_type": "code",
   "execution_count": null,
   "metadata": {
    "ExecuteTime": {
     "end_time": "2021-01-25T12:15:07.170053Z",
     "start_time": "2021-01-25T12:14:44.967453Z"
    },
    "hidden": true
   },
   "outputs": [],
   "source": [
    "model_A2d = vaccin_model(initial_states_sept, scenario=scenario, effectivity=effectivity, Nc_fun=report7_policy_function, N_vacc_fun=vacc_strategy)\n",
    "out_A2d = model_A2d.sim(end_sim1,start_date=start_sim1,warmup=warmup,N=n_samples,draw_fcn=draw_fcn,samples=samples_dict,verbose=True)\n",
    "\n",
    "# Average and pass on state variables\n",
    "initial_states_2 = out_A2d.sel(time=end_sim1).mean(dim=\"draws\")\n",
    "# One promille of British variant on January 15th 2021\n",
    "initial_states_2['alpha'].values = portion_new_strain_introduced*np.ones(9)\n",
    "# Re-Initialize\n",
    "model_A2d_part2 = vaccin_model(initial_states_2, scenario=scenario, effectivity=effectivity, Nc_fun=report7_policy_function, N_vacc_fun=vacc_strategy)\n",
    "out_A2d_part2 = model_A2d_part2.sim(end_sim2,start_date=end_sim1,warmup=warmup,N=n_samples,draw_fcn=draw_fcn,samples=samples_dict,verbose=True)"
   ]
  },
  {
   "cell_type": "code",
   "execution_count": null,
   "metadata": {
    "ExecuteTime": {
     "end_time": "2021-01-25T12:15:07.285448Z",
     "start_time": "2021-01-25T12:15:07.173834Z"
    },
    "hidden": true
   },
   "outputs": [],
   "source": [
    "A2d_H_in_binom = sample_from_binomial(out_A2d, 'H_in', n_draws_per_sample, n_samples, LL, UL)\n",
    "A2d_H_in_binom = sample_from_binomial(out_A2d_part2, 'H_in', n_draws_per_sample, n_samples, LL, UL, A2d_H_in_binom)"
   ]
  },
  {
   "cell_type": "code",
   "execution_count": null,
   "metadata": {
    "ExecuteTime": {
     "end_time": "2021-01-25T12:15:07.403353Z",
     "start_time": "2021-01-25T12:15:07.289869Z"
    },
    "hidden": true
   },
   "outputs": [],
   "source": [
    "# A2d_H_tot_binom = sample_from_binomial(out_A2d, 'H_tot', n_draws_per_sample, n_samples, LL, UL)\n",
    "# A2d_H_tot_binom = sample_from_binomial(out_A2d_part2, 'H_tot', n_draws_per_sample, n_samples, LL, UL, A2d_H_tot_binom)"
   ]
  },
  {
   "cell_type": "code",
   "execution_count": null,
   "metadata": {
    "ExecuteTime": {
     "end_time": "2021-01-25T12:15:07.501189Z",
     "start_time": "2021-01-25T12:15:07.407898Z"
    },
    "hidden": true
   },
   "outputs": [],
   "source": [
    "A2d_time = out_A2d[\"time\"].values\n",
    "A2d_alpha = out_A2d['alpha'].mean(dim=\"Nc\").values\n",
    "A2d_time = np.append(A2d_time, out_A2d_part2['time'].values)\n",
    "A2d_alpha = np.append(A2d_alpha,out_A2d_part2['alpha'].mean(dim=\"Nc\").values,axis=1)"
   ]
  },
  {
   "cell_type": "markdown",
   "metadata": {
    "heading_collapsed": true,
    "hidden": true
   },
   "source": [
    "## Visualise"
   ]
  },
  {
   "cell_type": "code",
   "execution_count": null,
   "metadata": {
    "ExecuteTime": {
     "end_time": "2021-01-25T12:15:09.921321Z",
     "start_time": "2021-01-25T12:15:07.510719Z"
    },
    "hidden": true,
    "scrolled": false
   },
   "outputs": [],
   "source": [
    "# ----------------\n",
    "# Visualize result\n",
    "# ----------------\n",
    "# Plot\n",
    "fig,(ax1, ax3) = plt.subplots(2,sharex=True,figsize=(10,10))\n",
    "legend_pos = (0.5, 1.25)\n",
    "legend_col = 2\n",
    "\n",
    "# Incidence\n",
    "plot_band_binom(ax1, A2a_time, A2a_H_in_binom, 'green', label='no new strain')\n",
    "plot_band_binom(ax1, A2b_time, A2b_H_in_binom, 'blue', label='new strain on 15/1')\n",
    "plot_band_binom(ax1, A2c_time, A2c_H_in_binom, 'orange', label='no new strain - vacc')\n",
    "plot_band_binom(ax1, A2d_time, A2d_H_in_binom, 'red', label='new strain on 15/1 - vacc')\n",
    "\n",
    "ax1.scatter(df_sciensano[start_sim1:end_sim1].index,df_sciensano['H_in'][start_sim1:end_sim1],color='black',alpha=0.4,linestyle='None',facecolors='none')\n",
    "ax1.legend(loc='upper center', bbox_to_anchor=legend_pos, ncol=legend_col)\n",
    "\n",
    "# Load\n",
    "# plot_band_binom(ax2, A2b_time, A2b_H_tot_binom, 'blue', label='H_in')\n",
    "# ax2.scatter(df_sciensano[start_sim1:end_sim1].index,df_sciensano['H_tot'][start_sim1:end_sim1],color='black',alpha=0.4,linestyle='None',facecolors='none')\n",
    "\n",
    "# British variant\n",
    "# ax3.plot(A2a_time,np.mean(A2a_alpha,axis=0)*100,'--', color='green', label='no new strain')\n",
    "# ax3.plot(A2b_time,np.mean(A2b_alpha,axis=0)*100,'--', color='blue', label='new strain on 15/1')\n",
    "# ax3.fill_between(A2b_time,np.quantile(A2b_alpha,UL,axis=0)*100, np.quantile(A2b_alpha,LL,axis=0)*100,alpha=0.20, color = 'blue')\n",
    "plot_band_binom(ax3, A2a_time, A2a_alpha*100, 'green', label='no new strain', axis=0)\n",
    "plot_band_binom(ax3, A2b_time, A2b_alpha*100, 'blue', label='new strain on 15/1', axis=0)\n",
    "plot_band_binom(ax3, A2c_time, A2c_alpha*100, 'orange', label='no new strain - vacc', axis=0)\n",
    "plot_band_binom(ax3, A2d_time, A2d_alpha*100, 'red', label='new strain on 15/1 - vacc', axis=0)\n",
    "\n",
    "# Format\n",
    "ax1.set_title('New hospitalizations')\n",
    "ax1.set_ylabel('$H_{in} $(-)')\n",
    "ax1.set_xlim('2020-09-01',end_sim2)\n",
    "ax1.axvline(x=pd.to_datetime('2021-01-15'),color='black')\n",
    "ax1.text(pd.Timestamp('2021-01-16'),750, ' introduction \\n new strain', fontsize=10)\n",
    "ax1 = _apply_tick_locator(ax1)\n",
    "# ax2.set_title('Total patients in hospital')\n",
    "# ax2.set_ylabel('$H_{tot}$ (-)')\n",
    "# ax2.set_xlim('2020-09-01',end_sim2)\n",
    "# ax2.axvline(x=pd.to_datetime('2021-01-15'),color='red')\n",
    "# ax2 = _apply_tick_locator(ax2)\n",
    "ax3.set_title('Prevalence of new strain')\n",
    "ax3.set_ylabel('$\\\\alpha$ (%)')\n",
    "ax3.axvline(x=pd.to_datetime('2021-01-15'),color='black')\n",
    "ax3.set_xlim('2020-09-01',end_sim2)\n",
    "ax3.set_ylim(0,100)\n",
    "ax3 = _apply_tick_locator(ax3)\n",
    "date_exceed = get_date_of_exceeding_alpha(out_A2b_part2, ['Nc', 'draws'], 0.25)\n",
    "ax3.axvline(x=date_exceed, color='gray')\n",
    "ax3.text(date_exceed+pd.Timedelta('1D'),10, ' exceeding \\n 25% on {}/{}'.format(date_exceed.day, date_exceed.month), \n",
    "         fontsize=10, color='gray')\n",
    "\n",
    "\n",
    "fig.suptitle('Scenarios release on  March 1')\n",
    "\n",
    "fig_path =  '../../results/predictions/national/restore_v7.0/'\n",
    "#fig.savefig(fig_path+'restore_v7.0_'+'British_variant'+'.pdf', dpi=400, bbox_inches='tight')\n",
    "fig.savefig(fig_path+'A2'+'.jpg', dpi=400, bbox_inches='tight')"
   ]
  },
  {
   "cell_type": "markdown",
   "metadata": {},
   "source": [
    "# Save data"
   ]
  },
  {
   "cell_type": "code",
   "execution_count": null,
   "metadata": {
    "ExecuteTime": {
     "end_time": "2021-02-08T10:19:25.425795Z",
     "start_time": "2021-02-08T10:18:39.298432Z"
    }
   },
   "outputs": [],
   "source": [
    "results = pd.DataFrame()\n",
    "results['Date'] =  out_S1a['time']\n",
    "for x in ['S1a', 'S1b', 'S2a', 'S2b', 'S3a', 'S4a', 'S5a', 'S5b']:\n",
    "    for var in ['H_in', 'H_tot']:\n",
    "        binom = eval(x+'_'+var+'_binom')\n",
    "        if var == 'H_in':\n",
    "            results[x+'_incidences_mean'] = np.mean(binom, axis=1)\n",
    "            results[x+'_incidences_median'] = np.median(binom, axis=1)\n",
    "            results[x+'_incidences_LL'] = np.quantile(binom, q = LL, axis = 1)\n",
    "            results[x+'_incidences_UL'] = np.quantile(binom, q = UL, axis = 1)\n",
    "        if var == 'H_tot':\n",
    "            results[x+'_load_mean'] = np.mean(binom, axis=1)\n",
    "            results[x+'_load_median'] = np.median(binom, axis=1)\n",
    "            results[x+'_load_LL'] = np.quantile(binom, q = LL, axis = 1)\n",
    "            results[x+'_load_UL'] = np.quantile(binom, q = UL, axis = 1)\n",
    "            \n",
    "results.to_csv('../../results/predictions/national/restore_v7.0/UGent_restore_v7.csv')"
   ]
  },
  {
   "cell_type": "markdown",
   "metadata": {
    "ExecuteTime": {
     "end_time": "2020-12-02T09:47:36.607419Z",
     "start_time": "2020-12-02T09:47:33.398902Z"
    },
    "heading_collapsed": true
   },
   "source": [
    "# Plot saved data"
   ]
  },
  {
   "cell_type": "code",
   "execution_count": null,
   "metadata": {
    "ExecuteTime": {
     "end_time": "2020-12-02T12:05:19.070053Z",
     "start_time": "2020-12-02T12:05:19.026546Z"
    },
    "hidden": true
   },
   "outputs": [],
   "source": [
    "S_results_H_in = pd.read_csv('../../results/vaccinations/national/S_results_H_in.csv', parse_dates=['time'])"
   ]
  },
  {
   "cell_type": "code",
   "execution_count": null,
   "metadata": {
    "hidden": true
   },
   "outputs": [],
   "source": [
    "plot_band_saved_data(ax3, S_results_H_in, 'S1', 'S1_LL', 'S1_UL', 'gray', 'no vaccination')\n"
   ]
  },
  {
   "cell_type": "code",
   "execution_count": null,
   "metadata": {
    "ExecuteTime": {
     "end_time": "2020-12-02T12:05:22.288309Z",
     "start_time": "2020-12-02T12:05:22.083028Z"
    },
    "hidden": true
   },
   "outputs": [],
   "source": [
    "fig,(ax3,ax4) = plt.subplots(figsize=(10,5), nrows=1, ncols=2, sharex=True, sharey=True)\n",
    "\n",
    "ax3.plot('DATE','H_in',data=df_sciensano[start_calibration:end_sim].reset_index(), marker='.', \n",
    "         c='gray', label='data', lw=0, markersize=9, alpha=0.3, markeredgecolor='none')\n",
    "plot_band_saved_data(ax3, S_results_H_in, 'S1', 'S1_LL', 'S1_UL', 'gray', 'no vaccination')\n",
    "plot_band_saved_data(ax3, S_results_H_in, 'S1', 'S1_LL', 'S1_UL', 'gray', 'no vaccination')\n",
    "\n",
    "# plot_band(ax3, y_model_S4a, 'H_in', 'C0', '0% at start')\n",
    "# plot_band(ax3, y_model_S4b, 'H_in', 'C1', '10% at start')\n",
    "# plot_band(ax3, y_model_S4c, 'H_in', 'C2', '30% at start')\n",
    "# plot_band(ax3, y_model_S4d, 'H_in', 'C3', '50% at start')\n",
    "\n",
    "ax3.set_xlim(start_x, end_x)\n",
    "ax3.set_xticks(pd.date_range(start_x, end_grid, periods=4))\n",
    "ax3.xaxis.set_tick_params(which='both', labelbottom=True)\n",
    "ax3.set_title('Vaccination according to age')\n",
    "\n",
    "ax4.plot('DATE','H_in',data=df_sciensano[start_calibration:end_sim].reset_index(), marker='.', \n",
    "         c='gray', label='data', lw=0, markersize=9, alpha=0.3, markeredgecolor='none')\n",
    "# plot_band(ax4, y_model_S1, 'H_in', 'gray', 'no vaccination')\n",
    "# plot_band(ax4, y_model_S5a, 'H_in', 'C0', '0% at start')\n",
    "# plot_band(ax4, y_model_S5b, 'H_in', 'C1', '10% at start')\n",
    "# plot_band(ax4, y_model_S5c, 'H_in', 'C2', '30% at start')\n",
    "# plot_band(ax4, y_model_S5d, 'H_in', 'C3', '50% at start')\n",
    "\n",
    "ax4.set_xlim(start_x, end_x)\n",
    "ax4.set_xticks(pd.date_range(start_x, end_grid, periods=4))\n",
    "ax4.xaxis.set_tick_params(which='both', labelbottom=True)\n",
    "ax4.set_title('Vaccination according to number of contacts')\n",
    "\n",
    "\n",
    "ax3.legend(loc='upper center', bbox_to_anchor=(1, 1.35), ncol=3)\n",
    "ax3.set_ylim(0,800)\n",
    "fig.text(0, 0.5, 'Number of new hospitalizations', va='center', rotation='vertical')\n",
    "fig.text(0.5, 0.01, 'Time', va='center', rotation='horizontal')\n"
   ]
  },
  {
   "cell_type": "code",
   "execution_count": null,
   "metadata": {
    "hidden": true
   },
   "outputs": [],
   "source": []
  },
  {
   "cell_type": "code",
   "execution_count": null,
   "metadata": {
    "hidden": true
   },
   "outputs": [],
   "source": []
  }
 ],
 "metadata": {
  "kernelspec": {
   "display_name": "Python 3",
   "language": "python",
   "name": "python3"
  },
  "language_info": {
   "codemirror_mode": {
    "name": "ipython",
    "version": 3
   },
   "file_extension": ".py",
   "mimetype": "text/x-python",
   "name": "python",
   "nbconvert_exporter": "python",
   "pygments_lexer": "ipython3",
   "version": "3.8.2"
  },
  "nav_menu": {},
  "toc": {
   "base_numbering": 1,
   "nav_menu": {},
   "number_sections": true,
   "sideBar": true,
   "skip_h1_title": false,
   "title_cell": "Table of Contents",
   "title_sidebar": "Contents",
   "toc_cell": true,
   "toc_position": {
    "height": "calc(100% - 180px)",
    "left": "10px",
    "top": "150px",
    "width": "327px"
   },
   "toc_section_display": "block",
   "toc_window_display": true
  }
 },
 "nbformat": 4,
 "nbformat_minor": 4
}
