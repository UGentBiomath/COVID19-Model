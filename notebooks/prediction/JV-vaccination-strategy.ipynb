{
 "cells": [
  {
   "cell_type": "markdown",
   "metadata": {
    "toc": true
   },
   "source": [
    "<h1>Table of Contents<span class=\"tocSkip\"></span></h1>\n",
    "<div class=\"toc\"><ul class=\"toc-item\"><li><span><a href=\"#Data,-policy-and-model-initialization\" data-toc-modified-id=\"Data,-policy-and-model-initialization-1\"><span class=\"toc-item-num\">1&nbsp;&nbsp;</span>Data, policy and model initialization</a></span><ul class=\"toc-item\"><li><span><a href=\"#Load-contact-data\" data-toc-modified-id=\"Load-contact-data-1.1\"><span class=\"toc-item-num\">1.1&nbsp;&nbsp;</span>Load contact data</a></span></li><li><span><a href=\"#Load-publically-available-data-from-Sciensano\" data-toc-modified-id=\"Load-publically-available-data-from-Sciensano-1.2\"><span class=\"toc-item-num\">1.2&nbsp;&nbsp;</span>Load publically available data from Sciensano</a></span></li><li><span><a href=\"#Load-posterior-parameter-distributions-of-calibrated-parameters\" data-toc-modified-id=\"Load-posterior-parameter-distributions-of-calibrated-parameters-1.3\"><span class=\"toc-item-num\">1.3&nbsp;&nbsp;</span>Load posterior parameter distributions of calibrated parameters</a></span></li><li><span><a href=\"#Settings\" data-toc-modified-id=\"Settings-1.4\"><span class=\"toc-item-num\">1.4&nbsp;&nbsp;</span>Settings</a></span></li></ul></li><li><span><a href=\"#Functions\" data-toc-modified-id=\"Functions-2\"><span class=\"toc-item-num\">2&nbsp;&nbsp;</span>Functions</a></span></li><li><span><a href=\"#Test-vacc-strategy\" data-toc-modified-id=\"Test-vacc-strategy-3\"><span class=\"toc-item-num\">3&nbsp;&nbsp;</span>Test vacc strategy</a></span></li><li><span><a href=\"#Test-spatial-model\" data-toc-modified-id=\"Test-spatial-model-4\"><span class=\"toc-item-num\">4&nbsp;&nbsp;</span>Test spatial model</a></span></li><li><span><a href=\"#Time-dep-functions\" data-toc-modified-id=\"Time-dep-functions-5\"><span class=\"toc-item-num\">5&nbsp;&nbsp;</span>Time-dep functions</a></span></li><li><span><a href=\"#Scenarios-S1\" data-toc-modified-id=\"Scenarios-S1-6\"><span class=\"toc-item-num\">6&nbsp;&nbsp;</span>Scenarios S1</a></span><ul class=\"toc-item\"><li><span><a href=\"#S1a---no-vacc---old-strain\" data-toc-modified-id=\"S1a---no-vacc---old-strain-6.1\"><span class=\"toc-item-num\">6.1&nbsp;&nbsp;</span>S1a - no vacc - old strain</a></span></li><li><span><a href=\"#S1b---no-vacc---new-strain\" data-toc-modified-id=\"S1b---no-vacc---new-strain-6.2\"><span class=\"toc-item-num\">6.2&nbsp;&nbsp;</span>S1b - no vacc - new strain</a></span></li><li><span><a href=\"#S1c---vaccination---old-strain\" data-toc-modified-id=\"S1c---vaccination---old-strain-6.3\"><span class=\"toc-item-num\">6.3&nbsp;&nbsp;</span>S1c - vaccination - old strain</a></span></li><li><span><a href=\"#S1d---vaccination---new-strain\" data-toc-modified-id=\"S1d---vaccination---new-strain-6.4\"><span class=\"toc-item-num\">6.4&nbsp;&nbsp;</span>S1d - vaccination - new strain</a></span></li><li><span><a href=\"#Visualise\" data-toc-modified-id=\"Visualise-6.5\"><span class=\"toc-item-num\">6.5&nbsp;&nbsp;</span>Visualise</a></span></li></ul></li><li><span><a href=\"#Scenarios-S2\" data-toc-modified-id=\"Scenarios-S2-7\"><span class=\"toc-item-num\">7&nbsp;&nbsp;</span>Scenarios S2</a></span><ul class=\"toc-item\"><li><span><a href=\"#S2a---no-vacc---old-strain\" data-toc-modified-id=\"S2a---no-vacc---old-strain-7.1\"><span class=\"toc-item-num\">7.1&nbsp;&nbsp;</span>S2a - no vacc - old strain</a></span></li><li><span><a href=\"#S2b---no-vacc---new-strain\" data-toc-modified-id=\"S2b---no-vacc---new-strain-7.2\"><span class=\"toc-item-num\">7.2&nbsp;&nbsp;</span>S2b - no vacc - new strain</a></span></li><li><span><a href=\"#S2c---vaccination---old-strain\" data-toc-modified-id=\"S2c---vaccination---old-strain-7.3\"><span class=\"toc-item-num\">7.3&nbsp;&nbsp;</span>S2c - vaccination - old strain</a></span></li><li><span><a href=\"#S2d---vaccination---new-strain\" data-toc-modified-id=\"S2d---vaccination---new-strain-7.4\"><span class=\"toc-item-num\">7.4&nbsp;&nbsp;</span>S2d - vaccination - new strain</a></span></li><li><span><a href=\"#Visualise\" data-toc-modified-id=\"Visualise-7.5\"><span class=\"toc-item-num\">7.5&nbsp;&nbsp;</span>Visualise</a></span></li></ul></li><li><span><a href=\"#Save-data\" data-toc-modified-id=\"Save-data-8\"><span class=\"toc-item-num\">8&nbsp;&nbsp;</span>Save data</a></span></li><li><span><a href=\"#Plot-saved-data\" data-toc-modified-id=\"Plot-saved-data-9\"><span class=\"toc-item-num\">9&nbsp;&nbsp;</span>Plot saved data</a></span></li></ul></div>"
   ]
  },
  {
   "cell_type": "markdown",
   "metadata": {},
   "source": [
    "\n",
    "*Authored by T.W. Alleman in consultation with the BIOMATH research unit headed by prof. Ingmar Nopens.*\n",
    "\n",
    "Copyright (c) 2020 by T.W. Alleman, BIOMATH, Ghent University. All Rights Reserved."
   ]
  },
  {
   "cell_type": "code",
   "execution_count": 1,
   "metadata": {
    "ExecuteTime": {
     "end_time": "2021-01-25T12:03:44.416339Z",
     "start_time": "2021-01-25T12:03:38.915551Z"
    }
   },
   "outputs": [],
   "source": [
    "import numpy as np\n",
    "%matplotlib notebook\n",
    "import matplotlib\n",
    "import matplotlib.pyplot as plt\n",
    "import matplotlib.dates as mdates\n",
    "import pandas as pd\n",
    "import datetime\n",
    "import scipy\n",
    "import json\n",
    "import random\n",
    "from math import floor\n",
    "\n",
    "from covid19model.optimization import objective_fcns\n",
    "from covid19model.models import models\n",
    "from covid19model.models.utils import draw_sample_COVID19_SEIRD\n",
    "from covid19model.models.time_dependant_parameter_fncs import ramp_fun, google_lockdown\n",
    "from covid19model.data import mobility, sciensano, model_parameters\n",
    "from covid19model.visualization.output import population_status, infected, _apply_tick_locator\n",
    "from covid19model.visualization.optimization import plot_fit, traceplot\n",
    "\n",
    "plt.rcParams.update({'font.size': 12, 'axes.grid':True, 'grid.linewidth':0.3})\n",
    "pd.plotting.register_matplotlib_converters()\n",
    "\n",
    "# OPTIONAL: Load the \"autoreload\" extension so that package code can change\n",
    "%load_ext autoreload\n",
    "# OPTIONAL: always reload modules so that as you change code in src, it gets loaded\n",
    "%autoreload 2"
   ]
  },
  {
   "cell_type": "markdown",
   "metadata": {},
   "source": [
    "# Data, policy and model initialization"
   ]
  },
  {
   "cell_type": "markdown",
   "metadata": {},
   "source": [
    "## Load contact data"
   ]
  },
  {
   "cell_type": "code",
   "execution_count": 2,
   "metadata": {
    "ExecuteTime": {
     "end_time": "2021-01-25T12:03:46.242192Z",
     "start_time": "2021-01-25T12:03:44.422165Z"
    }
   },
   "outputs": [],
   "source": [
    "# Load the interaction matrices (size: 9x9)\n",
    "initN, Nc_home, Nc_work, Nc_schools, Nc_transport, Nc_leisure, Nc_others, Nc_total = model_parameters.get_interaction_matrices(dataset='willem_2012',intensity='all')\n",
    "# Define the number of age categories\n",
    "levels = initN.size\n",
    "\n",
    "initN, Nc_home_15, Nc_work_15, Nc_schools_15, Nc_transport_15, Nc_leisure_15, Nc_others_15, Nc_total_15 = model_parameters.get_interaction_matrices(dataset='willem_2012',intensity='more_15_min')\n",
    "initN, Nc_home_1hr, Nc_work_1hr, Nc_schools_1hr, Nc_transport_1hr, Nc_leisure_1hr, Nc_others_1hr, Nc_total_1hr = model_parameters.get_interaction_matrices(dataset='willem_2012',intensity='more_one_hour')"
   ]
  },
  {
   "cell_type": "code",
   "execution_count": 3,
   "metadata": {
    "ExecuteTime": {
     "end_time": "2021-01-25T12:03:46.501243Z",
     "start_time": "2021-01-25T12:03:46.254609Z"
    }
   },
   "outputs": [],
   "source": [
    "Nc_all = {'total': Nc_total, 'home':Nc_home, 'work': Nc_work, 'schools': Nc_schools, 'transport': Nc_transport, 'leisure': Nc_leisure, 'others': Nc_others}\n",
    "Nc_15min = {'total': Nc_total_15, 'home': Nc_home_15, 'work': Nc_work_15, 'schools': Nc_schools_15, 'transport': Nc_transport_15, 'leisure': Nc_leisure_15, 'others': Nc_others_15}\n",
    "Nc_1hr = {'total': Nc_total_1hr, 'home': Nc_home_1hr, 'work': Nc_work_1hr, 'schools': Nc_schools_1hr, 'transport': Nc_transport_1hr, 'leisure': Nc_leisure_1hr, 'others': Nc_others_1hr}"
   ]
  },
  {
   "cell_type": "markdown",
   "metadata": {},
   "source": [
    "## Load publically available data from Sciensano"
   ]
  },
  {
   "cell_type": "code",
   "execution_count": 4,
   "metadata": {
    "ExecuteTime": {
     "end_time": "2021-01-25T12:03:46.942110Z",
     "start_time": "2021-01-25T12:03:46.520622Z"
    }
   },
   "outputs": [],
   "source": [
    "df_sciensano = sciensano.get_sciensano_COVID19_data(update=False)\n",
    "df_sciensano['D_cum'] = df_sciensano.D_tot.cumsum()"
   ]
  },
  {
   "cell_type": "code",
   "execution_count": 5,
   "metadata": {
    "ExecuteTime": {
     "end_time": "2021-01-25T12:03:47.131069Z",
     "start_time": "2021-01-25T12:03:46.950463Z"
    }
   },
   "outputs": [],
   "source": [
    "df_google = mobility.get_google_mobility_data(update=False, plot=False)"
   ]
  },
  {
   "cell_type": "markdown",
   "metadata": {},
   "source": [
    "## Load posterior parameter distributions of calibrated parameters"
   ]
  },
  {
   "cell_type": "code",
   "execution_count": 6,
   "metadata": {
    "ExecuteTime": {
     "end_time": "2021-01-25T12:04:04.176322Z",
     "start_time": "2021-01-25T12:03:47.138960Z"
    }
   },
   "outputs": [],
   "source": [
    "# Load samples dictionaries\n",
    "with open('../../data/interim/model_parameters/COVID19_SEIRD/calibrations/national/BE_4_prev_full_2021-01-13_WAVE2_GOOGLE.json', 'r') as fp:\n",
    "    samples_dict = json.load(fp)\n",
    "\n",
    "with open('../../data/interim/model_parameters/COVID19_SEIRD/calibrations/national/google/initial_states_2020-09-01.json', 'r') as fp:\n",
    "    initial_states_sept = json.load(fp) "
   ]
  },
  {
   "cell_type": "code",
   "execution_count": null,
   "metadata": {
    "ExecuteTime": {
     "end_time": "2020-12-02T10:14:49.867274Z",
     "start_time": "2020-12-02T10:14:49.825611Z"
    }
   },
   "outputs": [],
   "source": [
    "# fig,ax = plt.subplots()\n",
    "# pd.Series(samples_dict['beta']).hist()\n",
    "# pd.Series(samples_dict['tau']).hist()"
   ]
  },
  {
   "cell_type": "markdown",
   "metadata": {},
   "source": [
    "## Settings"
   ]
  },
  {
   "cell_type": "code",
   "execution_count": 7,
   "metadata": {
    "ExecuteTime": {
     "end_time": "2021-01-25T12:04:04.366723Z",
     "start_time": "2021-01-25T12:04:04.183337Z"
    }
   },
   "outputs": [],
   "source": [
    "UL = 0.975\n",
    "LL = 0.025\n",
    "infectivity_gain_lower = 1.4\n",
    "infectivity_gain_upper = 1.7"
   ]
  },
  {
   "cell_type": "code",
   "execution_count": 8,
   "metadata": {
    "ExecuteTime": {
     "end_time": "2021-01-25T12:04:04.513457Z",
     "start_time": "2021-01-25T12:04:04.376902Z"
    }
   },
   "outputs": [],
   "source": [
    "start_calibration = '2021-01-01'\n",
    "#end_calibration = '2020-11-12'\n",
    "end_sim = '2021-09-01'"
   ]
  },
  {
   "cell_type": "code",
   "execution_count": 9,
   "metadata": {
    "ExecuteTime": {
     "end_time": "2021-01-25T12:04:04.626168Z",
     "start_time": "2021-01-25T12:04:04.519797Z"
    }
   },
   "outputs": [],
   "source": [
    "# for figures\n",
    "start_x = start_calibration\n",
    "end_x = '2021-03-15'\n",
    "end_grid = '2021-02-15'\n",
    "# n=5\n",
    "# label_0 = 'no prior vaccination'\n",
    "# label_10 = 'low prior vaccination'\n",
    "# label_30 = 'medium prior vaccination'\n",
    "# label_50 = 'high prior vaccination'"
   ]
  },
  {
   "cell_type": "markdown",
   "metadata": {},
   "source": [
    "Alle vaccins twee dosissen nodig (Pfizer, Moderna, AstraZeneca, Curevac) behalve Johnson&Johnson (pas vanaf mei)"
   ]
  },
  {
   "cell_type": "code",
   "execution_count": 10,
   "metadata": {
    "ExecuteTime": {
     "end_time": "2021-01-25T12:04:04.735110Z",
     "start_time": "2021-01-25T12:04:04.630716Z"
    }
   },
   "outputs": [],
   "source": [
    "# doses per day (Regeringscommissariaat Corona, published by De Tijd)\n",
    "d = {}\n",
    "d['jan'] = 31765\n",
    "d['feb'] = 45897\n",
    "d['mar-apr'] = 128499\n",
    "d['may-aug'] = 78358\n",
    "\n",
    "# proportion of age group living in nursing homes\n",
    "# for simplicity we will use the data for respectively age groups 60+, 70+ and 80+\n",
    "NH = {}\n",
    "NH['65+'] = 0.007\n",
    "NH['75+'] = (0.05+0.029)/2\n",
    "NH['85+'] = (0.137+0.267)/2\n"
   ]
  },
  {
   "cell_type": "markdown",
   "metadata": {},
   "source": [
    "# Functions"
   ]
  },
  {
   "cell_type": "code",
   "execution_count": 11,
   "metadata": {
    "ExecuteTime": {
     "end_time": "2021-01-25T12:04:05.250573Z",
     "start_time": "2021-01-25T12:04:04.746556Z"
    }
   },
   "outputs": [],
   "source": [
    "def vacc_strategy(t, param, d, NH):\n",
    "    \"\"\"\n",
    "    time-dependent function for vaccination strategy\n",
    "    \n",
    "    d : dictionary\n",
    "        daily number of doses for that month\n",
    "    NH : dictionary\n",
    "        proportion of residents in nursing homes per age group\n",
    "    \n",
    "    \"\"\"\n",
    "    \n",
    "    N_vacc = np.array([0.0]*9)\n",
    "    delay = pd.Timedelta('30D')\n",
    "    \n",
    "    t1 = pd.Timestamp('2021-01-01') + delay\n",
    "    t2 = pd.Timestamp('2021-02-01') + delay\n",
    "    t3 = pd.Timestamp('2021-03-01') + delay\n",
    "    t4 = pd.Timestamp('2021-05-01') + delay\n",
    "    \n",
    "    if t < t1:\n",
    "        N_vacc = np.array([0.0]*9)\n",
    "    \n",
    "    elif t1 <= t < t2: # January : nursing homes + part of care personnel\n",
    "        # daily vaccinated persons on immunity date = daily dose on vaccination date / 2\n",
    "        daily_85 = (NH['85+']*initN[8])/31\n",
    "        daily_75 = (NH['75+']*initN[7])/31\n",
    "        daily_65 = (NH['65+']*initN[6])/31\n",
    "        care_personnel_daily_jan = d['jan']/2-daily_85-daily_75-daily_65\n",
    "        N_vacc[8] = daily_85\n",
    "        N_vacc[7] = daily_75\n",
    "        N_vacc[6] = daily_65\n",
    "        N_vacc[[5,4,3,2]] = care_personnel_daily_jan/4\n",
    "        \n",
    "    elif t2 <= t < t3: # February : care personnel\n",
    "        N_vacc[[5,4,3,2]] = d['feb']/2/4\n",
    "        \n",
    "    elif t3 <= t < t4: # March-April : 65+ and risico patients\n",
    "        plus_65_left_daily = ((1-NH['85+'])*initN[8] + (1-NH['75+'])*initN[7] + (1-NH['65+'])*initN[6])/60\n",
    "        rest_daily = d['mar-apr']/2 - plus_65_left_daily\n",
    "        N_vacc[[8,7,6]] = plus_65_left_daily/3\n",
    "        N_vacc[[5,4,3,2]] = rest_daily/4\n",
    "    \n",
    "    else: # May-August : all 18+\n",
    "        N_vacc[[5,4,3,2]] = d['may-aug']/2/4\n",
    "        \n",
    "    return N_vacc\n",
    "    \n",
    "    "
   ]
  },
  {
   "cell_type": "code",
   "execution_count": null,
   "metadata": {
    "ExecuteTime": {
     "end_time": "2021-01-25T07:47:01.824161Z",
     "start_time": "2021-01-25T07:47:01.778644Z"
    }
   },
   "outputs": [],
   "source": [
    "def plot_band_saved_data(ax, df, mean_col, LL_col, UL_col, color, label):\n",
    "    ax.fill_between(df['time'],df[LL_col], df[UL_col],alpha=0.30, facecolor = color)\n",
    "    ax.plot(df['time'], df[mean_col], color=color, label=label, lw=2)\n",
    "    return"
   ]
  },
  {
   "cell_type": "code",
   "execution_count": 12,
   "metadata": {
    "ExecuteTime": {
     "end_time": "2021-01-25T12:04:05.363208Z",
     "start_time": "2021-01-25T12:04:05.255073Z"
    }
   },
   "outputs": [],
   "source": [
    "def plot_band_age(ax, y_model, age_group, var, color, label):\n",
    "    ax.fill_between(pd.to_datetime(y_model['time'].values),y_model[var].quantile(LL,dim=\"draws\").sel(Nc=age_group), \n",
    "                    y_model[var].quantile(UL,dim=\"draws\").sel(Nc=age_group),alpha=0.30, facecolor = color)\n",
    "    ax.plot(y_model['time'],y_model[var].mean(dim=\"draws\").sel(Nc=age_group), color=color, label=label, lw=2)\n",
    "    return"
   ]
  },
  {
   "cell_type": "code",
   "execution_count": 13,
   "metadata": {
    "ExecuteTime": {
     "end_time": "2021-01-25T12:04:05.477027Z",
     "start_time": "2021-01-25T12:04:05.369073Z"
    }
   },
   "outputs": [],
   "source": [
    "def check_overtake_duration(sim, dims):\n",
    "    \"\"\"\n",
    "    sim : data array resulting from simulation\n",
    "    dims : list of dimensions over which to average\n",
    "    \"\"\"\n",
    "    end = sim['alpha'].mean(dim=dims)[sim['alpha'].mean(dim=dims)<1]['time'][-1].values\n",
    "    start = sim['alpha'].mean(dim=dims)[sim['alpha'].mean(dim=dims)<1]['time'][0].values\n",
    "    \n",
    "    N_days = (pd.to_datetime(end)-pd.to_datetime(start))/pd.Timedelta('1D')\n",
    "    \n",
    "    return N_days"
   ]
  },
  {
   "cell_type": "code",
   "execution_count": 14,
   "metadata": {
    "ExecuteTime": {
     "end_time": "2021-01-25T12:04:05.593603Z",
     "start_time": "2021-01-25T12:04:05.487518Z"
    }
   },
   "outputs": [],
   "source": [
    "def get_date_of_exceeding_alpha(sim, dims, alpha_limit):\n",
    "    \"\"\"\n",
    "    sim : data array resulting from simulation\n",
    "    dims : list of dimensions over which to average\n",
    "    \"\"\"\n",
    "    return pd.Timestamp(sim['alpha'].mean(dim=dims)[sim['alpha'].mean(dim=dims)>alpha_limit]['time'][0].values)"
   ]
  },
  {
   "cell_type": "code",
   "execution_count": 15,
   "metadata": {
    "ExecuteTime": {
     "end_time": "2021-01-25T12:04:05.738836Z",
     "start_time": "2021-01-25T12:04:05.598628Z"
    }
   },
   "outputs": [],
   "source": [
    "def sample_from_binomial(sim_result, variable, n_draws_per_sample, n_samples, LL, UL, \n",
    "                         Y0_new=None):\n",
    "                         #Y0_mean=[], Y0_median=[], Y0_LL=[], Y0_UL=[]):\n",
    "    \"\"\"\n",
    "    Function to sample from binomial, and add the result to an existing list (if given)\n",
    "    \"\"\"\n",
    "    \n",
    "    \n",
    "    Y = sim_result[variable].sum(dim=\"Nc\").values\n",
    "    # Initialize vectors\n",
    "    Y_new = np.zeros((Y.shape[1],n_draws_per_sample*n_samples))\n",
    "    # Loop over dimension draws\n",
    "    for n in range(Y.shape[0]):\n",
    "        binomial_draw = np.random.poisson( np.expand_dims(Y[n,:],axis=1),size = (Y.shape[1],n_draws_per_sample))\n",
    "        Y_new[:,n*n_draws_per_sample:(n+1)*n_draws_per_sample] = binomial_draw\n",
    "    # Compute mean and median\n",
    "    if Y0_new is None:\n",
    "        Y_new = Y_new\n",
    "    else:\n",
    "        Y_new = np.append(Y0_new, Y_new, axis=0)\n",
    "\n",
    "    return Y_new\n",
    "    \n",
    "    "
   ]
  },
  {
   "cell_type": "code",
   "execution_count": 16,
   "metadata": {
    "ExecuteTime": {
     "end_time": "2021-01-25T12:04:05.940027Z",
     "start_time": "2021-01-25T12:04:05.745570Z"
    }
   },
   "outputs": [],
   "source": [
    "def plot_band_binom(ax, time, Y_binom, color, label, axis=1):\n",
    "    ax.fill_between(time, np.quantile(Y_binom, q = LL, axis = axis), \n",
    "                    np.quantile(Y_binom, q = UL, axis = axis),alpha=0.30, facecolor = color)\n",
    "    ax.plot(time,np.mean(Y_binom,axis=axis), color=color, label=label, lw=2, linestyle='--')\n",
    "    return"
   ]
  },
  {
   "cell_type": "code",
   "execution_count": null,
   "metadata": {
    "ExecuteTime": {
     "end_time": "2021-01-25T07:47:01.686633Z",
     "start_time": "2021-01-25T07:47:01.645500Z"
    }
   },
   "outputs": [],
   "source": [
    "# def plot_band(ax, y_model, var, color, label):\n",
    "#     ax.fill_between(pd.to_datetime(y_model['time'].values),y_model[var].quantile(LL,dim=\"draws\").sum(dim=\"Nc\"), \n",
    "#                     y_model[var].quantile(UL,dim=\"draws\").sum(dim=\"Nc\"),alpha=0.30, facecolor = color)\n",
    "#     ax.plot(y_model['time'],y_model[var].mean(dim=\"draws\").sum(dim=\"Nc\"), color=color, label=label, lw=2)\n",
    "#     return"
   ]
  },
  {
   "cell_type": "markdown",
   "metadata": {},
   "source": [
    "# Test vacc strategy"
   ]
  },
  {
   "cell_type": "code",
   "execution_count": null,
   "metadata": {
    "ExecuteTime": {
     "end_time": "2021-01-25T07:50:07.319382Z",
     "start_time": "2021-01-25T07:50:07.279597Z"
    }
   },
   "outputs": [],
   "source": [
    "# Need to initiate I also with the co-infection model, otherwise divison by zero occurs\n",
    "initial_states = {'S': initN, 'E': np.ones(levels), 'I': np.ones(levels), 'alpha':np.zeros(9)}"
   ]
  },
  {
   "cell_type": "code",
   "execution_count": null,
   "metadata": {
    "ExecuteTime": {
     "end_time": "2021-01-25T07:50:07.920566Z",
     "start_time": "2021-01-25T07:50:07.539711Z"
    }
   },
   "outputs": [],
   "source": [
    "params = model_parameters.get_COVID19_SEIRD_parameters()\n",
    "dummy_model_no_vacc = models.COVID19_SEIRD(initial_states, params)\n"
   ]
  },
  {
   "cell_type": "code",
   "execution_count": null,
   "metadata": {
    "ExecuteTime": {
     "end_time": "2021-01-25T07:50:08.387077Z",
     "start_time": "2021-01-25T07:50:08.137503Z"
    }
   },
   "outputs": [],
   "source": [
    "sim_dummy_model_no_vacc = dummy_model_no_vacc.sim(time=end_sim, start_date=start_calibration)"
   ]
  },
  {
   "cell_type": "code",
   "execution_count": null,
   "metadata": {
    "ExecuteTime": {
     "end_time": "2021-01-25T07:50:18.403942Z",
     "start_time": "2021-01-25T07:50:17.779343Z"
    }
   },
   "outputs": [],
   "source": [
    "params = model_parameters.get_COVID19_SEIRD_parameters()\n",
    "params.update({'d' : d,\n",
    "               'NH' : NH,\n",
    "               'e' : np.array([0.9]*levels),\n",
    "              })\n",
    "dummy_model_vacc = models.COVID19_SEIRD(initial_states, params, time_dependent_parameters={'N_vacc': vacc_strategy})\n",
    "sim_dummy_model_vacc = dummy_model_vacc.sim(time=end_sim, start_date=start_calibration)"
   ]
  },
  {
   "cell_type": "code",
   "execution_count": null,
   "metadata": {
    "ExecuteTime": {
     "end_time": "2021-01-25T07:50:20.270125Z",
     "start_time": "2021-01-25T07:50:19.634951Z"
    }
   },
   "outputs": [],
   "source": [
    "# Need to initiate I also with the co-infection model, otherwise divison by zero occurs\n",
    "initial_states = {'S': initN, 'E': np.ones(levels), 'I': np.ones(levels), 'alpha':0.1*np.ones(9)}\n",
    "\n",
    "params = model_parameters.get_COVID19_SEIRD_parameters()\n",
    "params.update({'d' : d,\n",
    "               'NH' : NH,\n",
    "               'e' : np.array([0.9]*levels),\n",
    "               'K' : 1.6\n",
    "              })\n",
    "dummy_model_vacc_UK = models.COVID19_SEIRD(initial_states, params, time_dependent_parameters={'N_vacc': vacc_strategy})\n",
    "sim_dummy_model_vacc_UK = dummy_model_vacc_UK.sim(time=end_sim, start_date=start_calibration)"
   ]
  },
  {
   "cell_type": "code",
   "execution_count": null,
   "metadata": {
    "ExecuteTime": {
     "end_time": "2021-01-25T07:50:38.345907Z",
     "start_time": "2021-01-25T07:50:38.271776Z"
    }
   },
   "outputs": [],
   "source": [
    "timerange = pd.date_range(start_calibration,end_sim)\n",
    "test_dict = {}\n",
    "for t in timerange:\n",
    "    test_dict[t] = np.sum(vacc_strategy(t=t, param=None, d=d, NH=NH))\n",
    "test_df = pd.DataFrame.from_dict(test_dict, orient='index').reset_index()\n",
    "test_df.columns = ['date','N_vacc']"
   ]
  },
  {
   "cell_type": "code",
   "execution_count": null,
   "metadata": {
    "ExecuteTime": {
     "end_time": "2021-01-25T07:50:39.672635Z",
     "start_time": "2021-01-25T07:50:39.482529Z"
    }
   },
   "outputs": [],
   "source": [
    "fig,ax = plt.subplots(figsize=(9,5))\n",
    "ax.plot('date', 'N_vacc', data=test_df, c='green', label='time-dep function')\n",
    "ax.plot(sim_dummy_model_vacc['time'], sim_dummy_model_vacc['V_new'].sum(dim='Nc'), c='blue', linestyle='--', label='model')\n",
    "ax.legend()\n",
    "ax.set_ylabel('Daily vaccination number')"
   ]
  },
  {
   "cell_type": "code",
   "execution_count": null,
   "metadata": {
    "ExecuteTime": {
     "end_time": "2021-01-25T07:50:42.993565Z",
     "start_time": "2021-01-25T07:50:42.949539Z"
    }
   },
   "outputs": [],
   "source": [
    "N = d['jan']/2*31+d['feb']/2*28+d['mar-apr']/2*(31+30)+d['may-aug']/2*(31+30)\n",
    "print('Approximate total number of vaccinations by august 1: {}'.format(N))\n",
    "#pd.to_datetime(end_sim) - pd.to_datetime(start_calibration)\n",
    "V_pool_aug = sim_dummy_model_vacc['V'].sum(dim='Nc').values[-1]\n",
    "print('Number of persons in vaccinated pool by end of simulation: {}'.format(V_pool_aug))\n",
    "V_new_sum = sim_dummy_model_vacc['V_new'].sum(dim='Nc').sum(dim='time').values\n",
    "print('Total number of people vaccinated by end of simulation: {}'.format(V_new_sum))"
   ]
  },
  {
   "cell_type": "code",
   "execution_count": null,
   "metadata": {
    "ExecuteTime": {
     "end_time": "2021-01-21T16:28:40.226194Z",
     "start_time": "2021-01-21T16:28:40.018717Z"
    }
   },
   "outputs": [],
   "source": [
    "population_status(sim_dummy_model_no_vacc)"
   ]
  },
  {
   "cell_type": "code",
   "execution_count": null,
   "metadata": {
    "ExecuteTime": {
     "end_time": "2021-01-21T16:36:05.313241Z",
     "start_time": "2021-01-21T16:36:04.484924Z"
    }
   },
   "outputs": [],
   "source": [
    "population_status(sim_dummy_model_vacc)"
   ]
  },
  {
   "cell_type": "code",
   "execution_count": null,
   "metadata": {
    "ExecuteTime": {
     "end_time": "2021-01-22T11:27:46.919799Z",
     "start_time": "2021-01-22T11:27:46.734279Z"
    }
   },
   "outputs": [],
   "source": [
    "population_status(sim_dummy_model_vacc_UK)"
   ]
  },
  {
   "cell_type": "code",
   "execution_count": null,
   "metadata": {
    "ExecuteTime": {
     "end_time": "2021-01-22T11:36:23.480169Z",
     "start_time": "2021-01-22T11:36:23.261684Z"
    }
   },
   "outputs": [],
   "source": [
    "# check evolutie van alpha\n",
    "fig,ax = plt.subplots()\n",
    "sim_dummy_model_vacc_UK['alpha'].mean(dim='Nc').plot(ax=ax)"
   ]
  },
  {
   "cell_type": "code",
   "execution_count": null,
   "metadata": {
    "ExecuteTime": {
     "end_time": "2021-01-25T09:12:46.338422Z",
     "start_time": "2021-01-25T09:12:46.295280Z"
    }
   },
   "outputs": [],
   "source": [
    "N_days = check_overtake_duration(sim_dummy_model_vacc_UK, dims='Nc')\n",
    "N_days"
   ]
  },
  {
   "cell_type": "markdown",
   "metadata": {},
   "source": [
    "duurt altijd ong. 100 dagen..., onafhankelijk van hoeveel je initialiseert. Ws omdat in deze test het virus nog niet verspreid is (en iedereen susceptible), dus de verspreiding wordt direct volledig overgenomen door besmettelijke variant."
   ]
  },
  {
   "cell_type": "markdown",
   "metadata": {},
   "source": [
    "# Test spatial model"
   ]
  },
  {
   "cell_type": "code",
   "execution_count": 113,
   "metadata": {
    "ExecuteTime": {
     "end_time": "2021-01-27T09:40:57.816732Z",
     "start_time": "2021-01-27T09:40:57.611619Z"
    }
   },
   "outputs": [],
   "source": [
    "initN, Nc_home, Nc_work, Nc_schools, Nc_transport, Nc_leisure, Nc_others, Nc_total = model_parameters.get_interaction_matrices(dataset='willem_2012', spatial='arr')"
   ]
  },
  {
   "cell_type": "code",
   "execution_count": 116,
   "metadata": {
    "ExecuteTime": {
     "end_time": "2021-01-27T09:41:32.412491Z",
     "start_time": "2021-01-27T09:41:32.364678Z"
    }
   },
   "outputs": [],
   "source": [
    "# Need to initiate I also with the co-infection model, otherwise divison by zero occurs\n",
    "initial_states = {'S': initN, 'E': np.ones(initN.shape), 'I': np.ones(initN.shape), 'alpha':np.zeros(initN.shape)}"
   ]
  },
  {
   "cell_type": "code",
   "execution_count": 123,
   "metadata": {
    "ExecuteTime": {
     "end_time": "2021-01-27T09:54:00.911712Z",
     "start_time": "2021-01-27T09:53:58.662513Z"
    }
   },
   "outputs": [],
   "source": [
    "params = model_parameters.get_COVID19_SEIRD_parameters(spatial='arr')\n",
    "dummy_spatial_model = models.COVID19_SEIRD_spatial(initial_states, params, spatial='arr')\n"
   ]
  },
  {
   "cell_type": "code",
   "execution_count": null,
   "metadata": {
    "ExecuteTime": {
     "start_time": "2021-01-27T09:54:02.160Z"
    }
   },
   "outputs": [],
   "source": [
    "sim_dummy_spatial_model = dummy_spatial_model.sim(time=end_sim, start_date=start_calibration)"
   ]
  },
  {
   "cell_type": "code",
   "execution_count": 121,
   "metadata": {
    "ExecuteTime": {
     "end_time": "2021-01-27T09:51:49.516821Z",
     "start_time": "2021-01-27T09:45:43.810194Z"
    }
   },
   "outputs": [
    {
     "name": "stdout",
     "output_type": "stream",
     "text": [
      "> \u001b[0;32m/Users/jennavergeynst/OneDrive - UGent/Corona_Postdoc/COVID19-Model/src/covid19model/models/models.py\u001b[0m(400)\u001b[0;36mintegrate\u001b[0;34m()\u001b[0m\n",
      "\u001b[0;32m    398 \u001b[0;31m                    \u001b[0;31m#term = beta * s[i] * Nc[i,j] * (I_eff[gg,j] + A_eff[gg,j]) / T_eff[gg,j]\u001b[0m\u001b[0;34m\u001b[0m\u001b[0;34m\u001b[0m\u001b[0;34m\u001b[0m\u001b[0m\n",
      "\u001b[0m\u001b[0;32m    399 \u001b[0;31m                    \u001b[0msumj\u001b[0m \u001b[0;34m+=\u001b[0m \u001b[0mterm\u001b[0m\u001b[0;34m\u001b[0m\u001b[0;34m\u001b[0m\u001b[0m\n",
      "\u001b[0m\u001b[0;32m--> 400 \u001b[0;31m                \u001b[0mB\u001b[0m\u001b[0;34m[\u001b[0m\u001b[0mgg\u001b[0m\u001b[0;34m]\u001b[0m\u001b[0;34m[\u001b[0m\u001b[0mi\u001b[0m\u001b[0;34m]\u001b[0m \u001b[0;34m=\u001b[0m \u001b[0msumj\u001b[0m\u001b[0;34m\u001b[0m\u001b[0;34m\u001b[0m\u001b[0m\n",
      "\u001b[0m\u001b[0;32m    401 \u001b[0;31m\u001b[0;34m\u001b[0m\u001b[0m\n",
      "\u001b[0m\u001b[0;32m    402 \u001b[0;31m        \u001b[0;31m# Infection from sum over all patches\u001b[0m\u001b[0;34m\u001b[0m\u001b[0;34m\u001b[0m\u001b[0;34m\u001b[0m\u001b[0m\n",
      "\u001b[0m\n",
      "ipdb> simj\n",
      "*** NameError: name 'simj' is not defined\n",
      "ipdb> sumj\n",
      "array([[7.47007313e-06, 7.47007313e-06, 7.47007313e-06, 7.47007313e-06,\n",
      "        7.47007313e-06, 7.47007313e-06, 7.47007313e-06, 7.47007313e-06,\n",
      "        7.47007313e-06],\n",
      "       [7.47007313e-06, 7.47007313e-06, 7.47007313e-06, 7.47007313e-06,\n",
      "        7.47007313e-06, 7.47007313e-06, 7.47007313e-06, 7.47007313e-06,\n",
      "        7.47007313e-06],\n",
      "       [7.47007313e-06, 7.47007313e-06, 7.47007313e-06, 7.47007313e-06,\n",
      "        7.47007313e-06, 7.47007313e-06, 7.47007313e-06, 7.47007313e-06,\n",
      "        7.47007313e-06],\n",
      "       [7.47007313e-06, 7.47007313e-06, 7.47007313e-06, 7.47007313e-06,\n",
      "        7.47007313e-06, 7.47007313e-06, 7.47007313e-06, 7.47007313e-06,\n",
      "        7.47007313e-06],\n",
      "       [7.47007313e-06, 7.47007313e-06, 7.47007313e-06, 7.47007313e-06,\n",
      "        7.47007313e-06, 7.47007313e-06, 7.47007313e-06, 7.47007313e-06,\n",
      "        7.47007313e-06],\n",
      "       [7.47007313e-06, 7.47007313e-06, 7.47007313e-06, 7.47007313e-06,\n",
      "        7.47007313e-06, 7.47007313e-06, 7.47007313e-06, 7.47007313e-06,\n",
      "        7.47007313e-06],\n",
      "       [7.47007313e-06, 7.47007313e-06, 7.47007313e-06, 7.47007313e-06,\n",
      "        7.47007313e-06, 7.47007313e-06, 7.47007313e-06, 7.47007313e-06,\n",
      "        7.47007313e-06],\n",
      "       [7.47007313e-06, 7.47007313e-06, 7.47007313e-06, 7.47007313e-06,\n",
      "        7.47007313e-06, 7.47007313e-06, 7.47007313e-06, 7.47007313e-06,\n",
      "        7.47007313e-06],\n",
      "       [7.47007313e-06, 7.47007313e-06, 7.47007313e-06, 7.47007313e-06,\n",
      "        7.47007313e-06, 7.47007313e-06, 7.47007313e-06, 7.47007313e-06,\n",
      "        7.47007313e-06],\n",
      "       [7.47007313e-06, 7.47007313e-06, 7.47007313e-06, 7.47007313e-06,\n",
      "        7.47007313e-06, 7.47007313e-06, 7.47007313e-06, 7.47007313e-06,\n",
      "        7.47007313e-06],\n",
      "       [7.47007313e-06, 7.47007313e-06, 7.47007313e-06, 7.47007313e-06,\n",
      "        7.47007313e-06, 7.47007313e-06, 7.47007313e-06, 7.47007313e-06,\n",
      "        7.47007313e-06],\n",
      "       [7.47007313e-06, 7.47007313e-06, 7.47007313e-06, 7.47007313e-06,\n",
      "        7.47007313e-06, 7.47007313e-06, 7.47007313e-06, 7.47007313e-06,\n",
      "        7.47007313e-06],\n",
      "       [7.47007313e-06, 7.47007313e-06, 7.47007313e-06, 7.47007313e-06,\n",
      "        7.47007313e-06, 7.47007313e-06, 7.47007313e-06, 7.47007313e-06,\n",
      "        7.47007313e-06],\n",
      "       [7.47007313e-06, 7.47007313e-06, 7.47007313e-06, 7.47007313e-06,\n",
      "        7.47007313e-06, 7.47007313e-06, 7.47007313e-06, 7.47007313e-06,\n",
      "        7.47007313e-06],\n",
      "       [7.47007313e-06, 7.47007313e-06, 7.47007313e-06, 7.47007313e-06,\n",
      "        7.47007313e-06, 7.47007313e-06, 7.47007313e-06, 7.47007313e-06,\n",
      "        7.47007313e-06],\n",
      "       [7.47007313e-06, 7.47007313e-06, 7.47007313e-06, 7.47007313e-06,\n",
      "        7.47007313e-06, 7.47007313e-06, 7.47007313e-06, 7.47007313e-06,\n",
      "        7.47007313e-06],\n",
      "       [7.47007313e-06, 7.47007313e-06, 7.47007313e-06, 7.47007313e-06,\n",
      "        7.47007313e-06, 7.47007313e-06, 7.47007313e-06, 7.47007313e-06,\n",
      "        7.47007313e-06],\n",
      "       [7.47007313e-06, 7.47007313e-06, 7.47007313e-06, 7.47007313e-06,\n",
      "        7.47007313e-06, 7.47007313e-06, 7.47007313e-06, 7.47007313e-06,\n",
      "        7.47007313e-06],\n",
      "       [7.47007313e-06, 7.47007313e-06, 7.47007313e-06, 7.47007313e-06,\n",
      "        7.47007313e-06, 7.47007313e-06, 7.47007313e-06, 7.47007313e-06,\n",
      "        7.47007313e-06],\n",
      "       [7.47007313e-06, 7.47007313e-06, 7.47007313e-06, 7.47007313e-06,\n",
      "        7.47007313e-06, 7.47007313e-06, 7.47007313e-06, 7.47007313e-06,\n",
      "        7.47007313e-06],\n",
      "       [7.47007313e-06, 7.47007313e-06, 7.47007313e-06, 7.47007313e-06,\n",
      "        7.47007313e-06, 7.47007313e-06, 7.47007313e-06, 7.47007313e-06,\n",
      "        7.47007313e-06],\n",
      "       [7.47007313e-06, 7.47007313e-06, 7.47007313e-06, 7.47007313e-06,\n",
      "        7.47007313e-06, 7.47007313e-06, 7.47007313e-06, 7.47007313e-06,\n",
      "        7.47007313e-06],\n",
      "       [7.47007313e-06, 7.47007313e-06, 7.47007313e-06, 7.47007313e-06,\n",
      "        7.47007313e-06, 7.47007313e-06, 7.47007313e-06, 7.47007313e-06,\n",
      "        7.47007313e-06],\n",
      "       [7.47007313e-06, 7.47007313e-06, 7.47007313e-06, 7.47007313e-06,\n",
      "        7.47007313e-06, 7.47007313e-06, 7.47007313e-06, 7.47007313e-06,\n",
      "        7.47007313e-06],\n",
      "       [7.47007313e-06, 7.47007313e-06, 7.47007313e-06, 7.47007313e-06,\n",
      "        7.47007313e-06, 7.47007313e-06, 7.47007313e-06, 7.47007313e-06,\n",
      "        7.47007313e-06],\n",
      "       [7.47007313e-06, 7.47007313e-06, 7.47007313e-06, 7.47007313e-06,\n",
      "        7.47007313e-06, 7.47007313e-06, 7.47007313e-06, 7.47007313e-06,\n",
      "        7.47007313e-06],\n",
      "       [7.47007313e-06, 7.47007313e-06, 7.47007313e-06, 7.47007313e-06,\n",
      "        7.47007313e-06, 7.47007313e-06, 7.47007313e-06, 7.47007313e-06,\n",
      "        7.47007313e-06],\n",
      "       [7.47007313e-06, 7.47007313e-06, 7.47007313e-06, 7.47007313e-06,\n",
      "        7.47007313e-06, 7.47007313e-06, 7.47007313e-06, 7.47007313e-06,\n",
      "        7.47007313e-06],\n",
      "       [7.47007313e-06, 7.47007313e-06, 7.47007313e-06, 7.47007313e-06,\n",
      "        7.47007313e-06, 7.47007313e-06, 7.47007313e-06, 7.47007313e-06,\n",
      "        7.47007313e-06],\n",
      "       [7.47007313e-06, 7.47007313e-06, 7.47007313e-06, 7.47007313e-06,\n",
      "        7.47007313e-06, 7.47007313e-06, 7.47007313e-06, 7.47007313e-06,\n",
      "        7.47007313e-06],\n",
      "       [7.47007313e-06, 7.47007313e-06, 7.47007313e-06, 7.47007313e-06,\n",
      "        7.47007313e-06, 7.47007313e-06, 7.47007313e-06, 7.47007313e-06,\n",
      "        7.47007313e-06],\n",
      "       [7.47007313e-06, 7.47007313e-06, 7.47007313e-06, 7.47007313e-06,\n",
      "        7.47007313e-06, 7.47007313e-06, 7.47007313e-06, 7.47007313e-06,\n",
      "        7.47007313e-06],\n",
      "       [7.47007313e-06, 7.47007313e-06, 7.47007313e-06, 7.47007313e-06,\n",
      "        7.47007313e-06, 7.47007313e-06, 7.47007313e-06, 7.47007313e-06,\n",
      "        7.47007313e-06],\n",
      "       [7.47007313e-06, 7.47007313e-06, 7.47007313e-06, 7.47007313e-06,\n",
      "        7.47007313e-06, 7.47007313e-06, 7.47007313e-06, 7.47007313e-06,\n",
      "        7.47007313e-06],\n",
      "       [7.47007313e-06, 7.47007313e-06, 7.47007313e-06, 7.47007313e-06,\n",
      "        7.47007313e-06, 7.47007313e-06, 7.47007313e-06, 7.47007313e-06,\n",
      "        7.47007313e-06],\n",
      "       [7.47007313e-06, 7.47007313e-06, 7.47007313e-06, 7.47007313e-06,\n",
      "        7.47007313e-06, 7.47007313e-06, 7.47007313e-06, 7.47007313e-06,\n",
      "        7.47007313e-06],\n",
      "       [7.47007313e-06, 7.47007313e-06, 7.47007313e-06, 7.47007313e-06,\n",
      "        7.47007313e-06, 7.47007313e-06, 7.47007313e-06, 7.47007313e-06,\n",
      "        7.47007313e-06],\n",
      "       [7.47007313e-06, 7.47007313e-06, 7.47007313e-06, 7.47007313e-06,\n",
      "        7.47007313e-06, 7.47007313e-06, 7.47007313e-06, 7.47007313e-06,\n",
      "        7.47007313e-06],\n",
      "       [7.47007313e-06, 7.47007313e-06, 7.47007313e-06, 7.47007313e-06,\n",
      "        7.47007313e-06, 7.47007313e-06, 7.47007313e-06, 7.47007313e-06,\n",
      "        7.47007313e-06],\n",
      "       [7.47007313e-06, 7.47007313e-06, 7.47007313e-06, 7.47007313e-06,\n",
      "        7.47007313e-06, 7.47007313e-06, 7.47007313e-06, 7.47007313e-06,\n",
      "        7.47007313e-06],\n",
      "       [7.47007313e-06, 7.47007313e-06, 7.47007313e-06, 7.47007313e-06,\n",
      "        7.47007313e-06, 7.47007313e-06, 7.47007313e-06, 7.47007313e-06,\n",
      "        7.47007313e-06],\n",
      "       [7.47007313e-06, 7.47007313e-06, 7.47007313e-06, 7.47007313e-06,\n",
      "        7.47007313e-06, 7.47007313e-06, 7.47007313e-06, 7.47007313e-06,\n",
      "        7.47007313e-06],\n",
      "       [7.47007313e-06, 7.47007313e-06, 7.47007313e-06, 7.47007313e-06,\n",
      "        7.47007313e-06, 7.47007313e-06, 7.47007313e-06, 7.47007313e-06,\n",
      "        7.47007313e-06]])\n",
      "ipdb> term\n",
      "array([[1.13229221e-07, 1.13229221e-07, 1.13229221e-07, 1.13229221e-07,\n",
      "        1.13229221e-07, 1.13229221e-07, 1.13229221e-07, 1.13229221e-07,\n",
      "        1.13229221e-07],\n",
      "       [1.13229221e-07, 1.13229221e-07, 1.13229221e-07, 1.13229221e-07,\n",
      "        1.13229221e-07, 1.13229221e-07, 1.13229221e-07, 1.13229221e-07,\n",
      "        1.13229221e-07],\n",
      "       [1.13229221e-07, 1.13229221e-07, 1.13229221e-07, 1.13229221e-07,\n",
      "        1.13229221e-07, 1.13229221e-07, 1.13229221e-07, 1.13229221e-07,\n",
      "        1.13229221e-07],\n",
      "       [1.13229221e-07, 1.13229221e-07, 1.13229221e-07, 1.13229221e-07,\n",
      "        1.13229221e-07, 1.13229221e-07, 1.13229221e-07, 1.13229221e-07,\n",
      "        1.13229221e-07],\n",
      "       [1.13229221e-07, 1.13229221e-07, 1.13229221e-07, 1.13229221e-07,\n",
      "        1.13229221e-07, 1.13229221e-07, 1.13229221e-07, 1.13229221e-07,\n",
      "        1.13229221e-07],\n",
      "       [1.13229221e-07, 1.13229221e-07, 1.13229221e-07, 1.13229221e-07,\n",
      "        1.13229221e-07, 1.13229221e-07, 1.13229221e-07, 1.13229221e-07,\n",
      "        1.13229221e-07],\n",
      "       [1.13229221e-07, 1.13229221e-07, 1.13229221e-07, 1.13229221e-07,\n",
      "        1.13229221e-07, 1.13229221e-07, 1.13229221e-07, 1.13229221e-07,\n",
      "        1.13229221e-07],\n",
      "       [1.13229221e-07, 1.13229221e-07, 1.13229221e-07, 1.13229221e-07,\n",
      "        1.13229221e-07, 1.13229221e-07, 1.13229221e-07, 1.13229221e-07,\n",
      "        1.13229221e-07],\n",
      "       [1.13229221e-07, 1.13229221e-07, 1.13229221e-07, 1.13229221e-07,\n",
      "        1.13229221e-07, 1.13229221e-07, 1.13229221e-07, 1.13229221e-07,\n",
      "        1.13229221e-07],\n",
      "       [1.13229221e-07, 1.13229221e-07, 1.13229221e-07, 1.13229221e-07,\n",
      "        1.13229221e-07, 1.13229221e-07, 1.13229221e-07, 1.13229221e-07,\n",
      "        1.13229221e-07],\n",
      "       [1.13229221e-07, 1.13229221e-07, 1.13229221e-07, 1.13229221e-07,\n",
      "        1.13229221e-07, 1.13229221e-07, 1.13229221e-07, 1.13229221e-07,\n",
      "        1.13229221e-07],\n",
      "       [1.13229221e-07, 1.13229221e-07, 1.13229221e-07, 1.13229221e-07,\n",
      "        1.13229221e-07, 1.13229221e-07, 1.13229221e-07, 1.13229221e-07,\n",
      "        1.13229221e-07],\n",
      "       [1.13229221e-07, 1.13229221e-07, 1.13229221e-07, 1.13229221e-07,\n",
      "        1.13229221e-07, 1.13229221e-07, 1.13229221e-07, 1.13229221e-07,\n",
      "        1.13229221e-07],\n",
      "       [1.13229221e-07, 1.13229221e-07, 1.13229221e-07, 1.13229221e-07,\n",
      "        1.13229221e-07, 1.13229221e-07, 1.13229221e-07, 1.13229221e-07,\n",
      "        1.13229221e-07],\n",
      "       [1.13229221e-07, 1.13229221e-07, 1.13229221e-07, 1.13229221e-07,\n",
      "        1.13229221e-07, 1.13229221e-07, 1.13229221e-07, 1.13229221e-07,\n",
      "        1.13229221e-07],\n",
      "       [1.13229221e-07, 1.13229221e-07, 1.13229221e-07, 1.13229221e-07,\n",
      "        1.13229221e-07, 1.13229221e-07, 1.13229221e-07, 1.13229221e-07,\n",
      "        1.13229221e-07],\n",
      "       [1.13229221e-07, 1.13229221e-07, 1.13229221e-07, 1.13229221e-07,\n",
      "        1.13229221e-07, 1.13229221e-07, 1.13229221e-07, 1.13229221e-07,\n",
      "        1.13229221e-07],\n",
      "       [1.13229221e-07, 1.13229221e-07, 1.13229221e-07, 1.13229221e-07,\n",
      "        1.13229221e-07, 1.13229221e-07, 1.13229221e-07, 1.13229221e-07,\n",
      "        1.13229221e-07],\n",
      "       [1.13229221e-07, 1.13229221e-07, 1.13229221e-07, 1.13229221e-07,\n",
      "        1.13229221e-07, 1.13229221e-07, 1.13229221e-07, 1.13229221e-07,\n",
      "        1.13229221e-07],\n",
      "       [1.13229221e-07, 1.13229221e-07, 1.13229221e-07, 1.13229221e-07,\n",
      "        1.13229221e-07, 1.13229221e-07, 1.13229221e-07, 1.13229221e-07,\n",
      "        1.13229221e-07],\n",
      "       [1.13229221e-07, 1.13229221e-07, 1.13229221e-07, 1.13229221e-07,\n",
      "        1.13229221e-07, 1.13229221e-07, 1.13229221e-07, 1.13229221e-07,\n",
      "        1.13229221e-07],\n",
      "       [1.13229221e-07, 1.13229221e-07, 1.13229221e-07, 1.13229221e-07,\n",
      "        1.13229221e-07, 1.13229221e-07, 1.13229221e-07, 1.13229221e-07,\n",
      "        1.13229221e-07],\n",
      "       [1.13229221e-07, 1.13229221e-07, 1.13229221e-07, 1.13229221e-07,\n",
      "        1.13229221e-07, 1.13229221e-07, 1.13229221e-07, 1.13229221e-07,\n",
      "        1.13229221e-07],\n",
      "       [1.13229221e-07, 1.13229221e-07, 1.13229221e-07, 1.13229221e-07,\n",
      "        1.13229221e-07, 1.13229221e-07, 1.13229221e-07, 1.13229221e-07,\n",
      "        1.13229221e-07],\n",
      "       [1.13229221e-07, 1.13229221e-07, 1.13229221e-07, 1.13229221e-07,\n",
      "        1.13229221e-07, 1.13229221e-07, 1.13229221e-07, 1.13229221e-07,\n",
      "        1.13229221e-07],\n",
      "       [1.13229221e-07, 1.13229221e-07, 1.13229221e-07, 1.13229221e-07,\n",
      "        1.13229221e-07, 1.13229221e-07, 1.13229221e-07, 1.13229221e-07,\n",
      "        1.13229221e-07],\n",
      "       [1.13229221e-07, 1.13229221e-07, 1.13229221e-07, 1.13229221e-07,\n",
      "        1.13229221e-07, 1.13229221e-07, 1.13229221e-07, 1.13229221e-07,\n",
      "        1.13229221e-07],\n",
      "       [1.13229221e-07, 1.13229221e-07, 1.13229221e-07, 1.13229221e-07,\n",
      "        1.13229221e-07, 1.13229221e-07, 1.13229221e-07, 1.13229221e-07,\n",
      "        1.13229221e-07],\n",
      "       [1.13229221e-07, 1.13229221e-07, 1.13229221e-07, 1.13229221e-07,\n",
      "        1.13229221e-07, 1.13229221e-07, 1.13229221e-07, 1.13229221e-07,\n",
      "        1.13229221e-07],\n",
      "       [1.13229221e-07, 1.13229221e-07, 1.13229221e-07, 1.13229221e-07,\n",
      "        1.13229221e-07, 1.13229221e-07, 1.13229221e-07, 1.13229221e-07,\n",
      "        1.13229221e-07],\n",
      "       [1.13229221e-07, 1.13229221e-07, 1.13229221e-07, 1.13229221e-07,\n",
      "        1.13229221e-07, 1.13229221e-07, 1.13229221e-07, 1.13229221e-07,\n",
      "        1.13229221e-07],\n",
      "       [1.13229221e-07, 1.13229221e-07, 1.13229221e-07, 1.13229221e-07,\n",
      "        1.13229221e-07, 1.13229221e-07, 1.13229221e-07, 1.13229221e-07,\n",
      "        1.13229221e-07],\n",
      "       [1.13229221e-07, 1.13229221e-07, 1.13229221e-07, 1.13229221e-07,\n",
      "        1.13229221e-07, 1.13229221e-07, 1.13229221e-07, 1.13229221e-07,\n",
      "        1.13229221e-07],\n",
      "       [1.13229221e-07, 1.13229221e-07, 1.13229221e-07, 1.13229221e-07,\n",
      "        1.13229221e-07, 1.13229221e-07, 1.13229221e-07, 1.13229221e-07,\n",
      "        1.13229221e-07],\n",
      "       [1.13229221e-07, 1.13229221e-07, 1.13229221e-07, 1.13229221e-07,\n",
      "        1.13229221e-07, 1.13229221e-07, 1.13229221e-07, 1.13229221e-07,\n",
      "        1.13229221e-07],\n",
      "       [1.13229221e-07, 1.13229221e-07, 1.13229221e-07, 1.13229221e-07,\n",
      "        1.13229221e-07, 1.13229221e-07, 1.13229221e-07, 1.13229221e-07,\n",
      "        1.13229221e-07],\n",
      "       [1.13229221e-07, 1.13229221e-07, 1.13229221e-07, 1.13229221e-07,\n",
      "        1.13229221e-07, 1.13229221e-07, 1.13229221e-07, 1.13229221e-07,\n",
      "        1.13229221e-07],\n",
      "       [1.13229221e-07, 1.13229221e-07, 1.13229221e-07, 1.13229221e-07,\n",
      "        1.13229221e-07, 1.13229221e-07, 1.13229221e-07, 1.13229221e-07,\n",
      "        1.13229221e-07],\n",
      "       [1.13229221e-07, 1.13229221e-07, 1.13229221e-07, 1.13229221e-07,\n",
      "        1.13229221e-07, 1.13229221e-07, 1.13229221e-07, 1.13229221e-07,\n",
      "        1.13229221e-07],\n",
      "       [1.13229221e-07, 1.13229221e-07, 1.13229221e-07, 1.13229221e-07,\n",
      "        1.13229221e-07, 1.13229221e-07, 1.13229221e-07, 1.13229221e-07,\n",
      "        1.13229221e-07],\n",
      "       [1.13229221e-07, 1.13229221e-07, 1.13229221e-07, 1.13229221e-07,\n",
      "        1.13229221e-07, 1.13229221e-07, 1.13229221e-07, 1.13229221e-07,\n",
      "        1.13229221e-07],\n",
      "       [1.13229221e-07, 1.13229221e-07, 1.13229221e-07, 1.13229221e-07,\n",
      "        1.13229221e-07, 1.13229221e-07, 1.13229221e-07, 1.13229221e-07,\n",
      "        1.13229221e-07],\n",
      "       [1.13229221e-07, 1.13229221e-07, 1.13229221e-07, 1.13229221e-07,\n",
      "        1.13229221e-07, 1.13229221e-07, 1.13229221e-07, 1.13229221e-07,\n",
      "        1.13229221e-07]])\n"
     ]
    },
    {
     "name": "stdout",
     "output_type": "stream",
     "text": [
      "ipdb> B[gg][i]\n",
      "0.0\n",
      "ipdb> q\n"
     ]
    }
   ],
   "source": [
    "%debug"
   ]
  },
  {
   "cell_type": "code",
   "execution_count": null,
   "metadata": {},
   "outputs": [],
   "source": [
    "B[gg][i]\n"
   ]
  },
  {
   "cell_type": "markdown",
   "metadata": {},
   "source": [
    "# Time-dep functions"
   ]
  },
  {
   "cell_type": "code",
   "execution_count": 17,
   "metadata": {
    "ExecuteTime": {
     "end_time": "2021-01-25T12:04:18.631831Z",
     "start_time": "2021-01-25T12:04:18.527526Z"
    }
   },
   "outputs": [],
   "source": [
    "from covid19model.models.time_dependant_parameter_fncs import make_contact_matrix_function\n",
    "contact_matrix_4prev = make_contact_matrix_function(df_google, Nc_all)"
   ]
  },
  {
   "cell_type": "code",
   "execution_count": 18,
   "metadata": {
    "ExecuteTime": {
     "end_time": "2021-01-25T12:04:19.684582Z",
     "start_time": "2021-01-25T12:04:19.208371Z"
    }
   },
   "outputs": [],
   "source": [
    "def report7_policy_function(t, param, l , tau, prev_home, prev_schools, prev_work, prev_rest,scenario='1a'):\n",
    "    # Convert tau and l to dates\n",
    "    tau_days = pd.Timedelta(tau, unit='D')\n",
    "    l_days = pd.Timedelta(l, unit='D')\n",
    "\n",
    "    # Define key policy dates\n",
    "    t1 = pd.Timestamp('2020-03-15') # start of lockdown\n",
    "    t2 = pd.Timestamp('2020-05-15') # gradual re-opening of schools (assume 50% of nominal scenario)\n",
    "    t3 = pd.Timestamp('2020-07-01') # start of summer: COVID-urgency very low\n",
    "    t4 = pd.Timestamp('2020-08-01')\n",
    "    t5 = pd.Timestamp('2020-09-01') # september: lockdown relaxation narrative in newspapers reduces sense of urgency\n",
    "    t6 = pd.Timestamp('2020-10-19') # lockdown\n",
    "    t7 = pd.Timestamp('2020-11-16') # schools re-open\n",
    "    t8 = pd.Timestamp('2020-12-18') # schools close\n",
    "    t9 = pd.Timestamp('2020-12-24')\n",
    "    t10 = pd.Timestamp('2020-12-26')\n",
    "    t11 = pd.Timestamp('2020-12-31')\n",
    "    t12 = pd.Timestamp('2021-01-01')\n",
    "    t13 = pd.Timestamp('2020-01-04') # Opening of schools\n",
    "    #t14 = pd.Timestamp('2021-01-18') # start of alternative policies\n",
    "    t15 = pd.Timestamp('2021-02-15') # Start of spring break\n",
    "    t16 = pd.Timestamp('2021-02-21') # End of spring break\n",
    "    t17 = pd.Timestamp('2021-03-01') # start of alternative policies (release date)\n",
    "\n",
    "    # Average out september mobility\n",
    "\n",
    "    if t5 < t <= t6 + tau_days:\n",
    "        t = pd.Timestamp(t.date())\n",
    "        return contact_matrix_4prev(t, school=1)\n",
    "    elif t6 + tau_days < t <= t6 + tau_days + l_days:\n",
    "        t = pd.Timestamp(t.date())\n",
    "        policy_old = contact_matrix_4prev(t, school=1)\n",
    "        policy_new = contact_matrix_4prev(t, prev_home, prev_schools, prev_work, prev_rest, \n",
    "                                    school=0)\n",
    "        return ramp_fun(policy_old, policy_new, t, tau_days, l, t6)\n",
    "    elif t6 + tau_days + l_days < t <= t7:\n",
    "        t = pd.Timestamp(t.date())\n",
    "        return contact_matrix_4prev(t, prev_home, prev_schools, prev_work, prev_rest, \n",
    "                              school=0)\n",
    "    elif t7 < t <= t8:\n",
    "        t = pd.Timestamp(t.date())\n",
    "        return contact_matrix_4prev(t, prev_home, prev_schools, prev_work, prev_rest, \n",
    "                              school=1)\n",
    "    elif t8 < t <= t9:\n",
    "        t = pd.Timestamp(t.date())\n",
    "        return contact_matrix_4prev(t, prev_home, prev_schools, prev_work, prev_rest, \n",
    "                              school=0)\n",
    "    else:\n",
    "        # Scenario 1: Current contact behaviour + schools open on January 18th\n",
    "        if scenario == '1':\n",
    "            if t9 < t <= t13:\n",
    "                t = pd.Timestamp(t.date())\n",
    "                return contact_matrix_4prev(t, prev_home, prev_schools, prev_work, prev_rest, \n",
    "                                school=0)\n",
    "            elif t13 < t <= t15:\n",
    "                t = pd.Timestamp(t.date())\n",
    "                return contact_matrix_4prev(t, prev_home, prev_schools, prev_work, prev_rest, \n",
    "                                school=0.6)\n",
    "            elif t15 < t <= t16:\n",
    "                t = pd.Timestamp(t.date())\n",
    "                return contact_matrix_4prev(t, prev_home, prev_schools, prev_work, prev_rest, \n",
    "                                school=0)                                    \n",
    "            else:\n",
    "                t = pd.Timestamp(t.date())\n",
    "                return contact_matrix_4prev(t, prev_home, prev_schools, prev_work, prev_rest, \n",
    "                                school=0.6)\n",
    "        # Scenario 2: increases in work or leisure mobility\n",
    "        elif scenario == '2a':\n",
    "            if t9 < t <= t13:\n",
    "                t = pd.Timestamp(t.date())\n",
    "                return contact_matrix_4prev(t, prev_home, prev_schools, prev_work, prev_rest, \n",
    "                              school=0)\n",
    "            elif t13 < t <= t15:\n",
    "                t = pd.Timestamp(t.date())\n",
    "                return contact_matrix_4prev(t, prev_home, prev_schools, prev_work, prev_rest, \n",
    "                                school=0.6)\n",
    "            elif t15 < t <= t16:\n",
    "                t = pd.Timestamp(t.date())\n",
    "                return contact_matrix_4prev(t, prev_home, prev_schools, prev_work, prev_rest, \n",
    "                                school=0,SB='2a') \n",
    "            elif t16 < t <= t17:\n",
    "                t = pd.Timestamp(t.date())\n",
    "                return contact_matrix_4prev(t, prev_home, prev_schools, prev_work, prev_rest, \n",
    "                                school=0.6,SB='2a')  \n",
    "            else:\n",
    "                t = pd.Timestamp(t.date())\n",
    "                return contact_matrix_4prev(t, 1, 1, 1, 1, \n",
    "                                school=0.6,SB='2a')\n",
    "        elif scenario == '2b':\n",
    "            if t9 < t <= t13:\n",
    "                t = pd.Timestamp(t.date())\n",
    "                return contact_matrix_4prev(t, prev_home, prev_schools, prev_work, prev_rest, \n",
    "                              school=0)\n",
    "            elif t13 < t <= t15:\n",
    "                t = pd.Timestamp(t.date())\n",
    "                return contact_matrix_4prev(t, prev_home, prev_schools, prev_work, prev_rest, \n",
    "                                school=0.6)\n",
    "            elif t15 < t <= t16:\n",
    "                t = pd.Timestamp(t.date())\n",
    "                return contact_matrix_4prev(t, prev_home, prev_schools, prev_work, prev_rest, \n",
    "                                school=0,SB='2b')  \n",
    "            elif t16 < t <= t17:\n",
    "                t = pd.Timestamp(t.date())\n",
    "                return contact_matrix_4prev(t, prev_home, prev_schools, prev_work, prev_rest, \n",
    "                                school=0.6,SB='2b')  \n",
    "            else:\n",
    "                t = pd.Timestamp(t.date())\n",
    "                return contact_matrix_4prev(t, 1, 1, prev_work, 1, \n",
    "                                school=0.6,SB='2b')\n",
    "        elif scenario == '2c':\n",
    "            if t9 < t <= t13:\n",
    "                t = pd.Timestamp(t.date())\n",
    "                return contact_matrix_4prev(t, prev_home, prev_schools, prev_work, prev_rest, \n",
    "                              school=0)\n",
    "            elif t13 < t <= t15:\n",
    "                t = pd.Timestamp(t.date())\n",
    "                return contact_matrix_4prev(t, prev_home, prev_schools, prev_work, prev_rest, \n",
    "                                school=0.6)\n",
    "            elif t15 < t <= t16:\n",
    "                t = pd.Timestamp(t.date())\n",
    "                return contact_matrix_4prev(t, prev_home, prev_schools, prev_work, prev_rest, \n",
    "                                school=0,SB='2c')                   \n",
    "            elif t16 < t <= t17:\n",
    "                t = pd.Timestamp(t.date())\n",
    "                return contact_matrix_4prev(t, prev_home, prev_schools, prev_work, prev_rest, \n",
    "                                school=0.6,SB='2c')                                                                                \n",
    "            else:\n",
    "                t = pd.Timestamp(t.date())\n",
    "                return contact_matrix_4prev(t, 1, 1, 1, prev_rest, \n",
    "                                school=0.6,SB='2c')            \n",
    "        # Scenario 3: Christmas mentality change\n",
    "        elif scenario == '3':\n",
    "            if t9 < t <= t10:\n",
    "                t = pd.Timestamp(t.date())\n",
    "                return contact_matrix_4prev(t, 1, prev_schools, prev_work, 1, \n",
    "                              school=0)\n",
    "            elif t10 < t <= t11:\n",
    "                t = pd.Timestamp(t.date())\n",
    "                return contact_matrix_4prev(t, 1, prev_schools, prev_work, 1, \n",
    "                              school=0)\n",
    "            elif t11 < t <= t12:\n",
    "                t = pd.Timestamp(t.date())\n",
    "                return contact_matrix_4prev(t, 1, prev_schools, prev_work, 1, \n",
    "                              school=0)\n",
    "            elif t12 < t <= t13:\n",
    "                t = pd.Timestamp(t.date())\n",
    "                return contact_matrix_4prev(t, prev_home, prev_schools, prev_work, prev_rest, \n",
    "                              school=0)\n",
    "            elif t13 < t <= t15:\n",
    "                t = pd.Timestamp(t.date())\n",
    "                return contact_matrix_4prev(t, prev_home, prev_schools, prev_work, prev_rest, \n",
    "                                school=0.6)\n",
    "\n",
    "            elif t15 < t <= t16:\n",
    "                t = pd.Timestamp(t.date())\n",
    "                return contact_matrix_4prev(t, prev_home, prev_schools, prev_work, prev_rest, \n",
    "                                school=0)                                                                    \n",
    "            else:\n",
    "                t = pd.Timestamp(t.date())\n",
    "                return contact_matrix_4prev(t, prev_home, prev_schools, prev_work, prev_rest, \n",
    "                                school=0.6)\n"
   ]
  },
  {
   "cell_type": "code",
   "execution_count": 19,
   "metadata": {
    "ExecuteTime": {
     "end_time": "2021-01-25T12:04:20.722292Z",
     "start_time": "2021-01-25T12:04:20.631860Z"
    }
   },
   "outputs": [],
   "source": [
    "def draw_fcn(param_dict,samples_dict,to_sample):\n",
    "    # Sample\n",
    "    idx, param_dict['beta'] = random.choice(list(enumerate(samples_dict['beta'])))\n",
    "    param_dict['l'] = samples_dict['l'][idx] \n",
    "    param_dict['tau'] = samples_dict['tau'][idx]    \n",
    "    param_dict['prev_home'] = samples_dict['prev_home'][idx] \n",
    "    param_dict['prev_schools'] = samples_dict['prev_schools'][idx]    \n",
    "    param_dict['prev_work'] = samples_dict['prev_work'][idx]       \n",
    "    param_dict['prev_rest'] = samples_dict['prev_rest'][idx] \n",
    "    param_dict['K'] = np.random.uniform(infectivity_gain_lower,infectivity_gain_upper)\n",
    "    return param_dict"
   ]
  },
  {
   "cell_type": "code",
   "execution_count": 20,
   "metadata": {
    "ExecuteTime": {
     "end_time": "2021-01-25T12:04:21.242195Z",
     "start_time": "2021-01-25T12:04:21.137040Z"
    }
   },
   "outputs": [],
   "source": [
    "def vaccin_model(initial_states, scenario, effectivity=None, K=0, Nc_fun=None, N_vacc_fun=vacc_strategy, levels=levels):\n",
    "    \"\"\"\n",
    "    Function to initialize the model given a certain vaccination strategy\n",
    "    \"\"\"\n",
    "    params = model_parameters.get_COVID19_SEIRD_parameters()\n",
    "    params.update({\n",
    "            'l' : 5,\n",
    "            'tau' : 5,\n",
    "            'prev_home': 0.5,\n",
    "            'prev_schools': 0.5,\n",
    "            'prev_work': 0.5,\n",
    "            'prev_rest': 0.5,\n",
    "            'scenario': scenario,\n",
    "            'K' : 0\n",
    "                  })\n",
    "    \n",
    "    tdp = {}\n",
    "    \n",
    "    if Nc_fun is not None:\n",
    "        tdp.update({'Nc': Nc_fun})\n",
    "    if N_vacc_fun is not None:\n",
    "        tdp.update({'N_vacc':N_vacc_fun})\n",
    "        params.update({\n",
    "            'd' : d,\n",
    "            'NH' : NH,\n",
    "            'e' : np.array([effectivity]*levels),\n",
    "        })\n",
    "    return models.COVID19_SEIRD(initial_states, params, time_dependent_parameters=tdp)"
   ]
  },
  {
   "cell_type": "markdown",
   "metadata": {},
   "source": [
    "# Scenarios S1"
   ]
  },
  {
   "cell_type": "code",
   "execution_count": 92,
   "metadata": {
    "ExecuteTime": {
     "end_time": "2021-01-27T09:32:33.725372Z",
     "start_time": "2021-01-27T09:32:33.685124Z"
    }
   },
   "outputs": [],
   "source": [
    "start_sim1 = '2020-09-01'\n",
    "end_sim1 = '2021-01-15' # Initiate new strain on 15 Jan\n",
    "end_sim2 = '2021-05-01'\n",
    "warmup = 0\n",
    "n_samples = 5\n",
    "n_draws_per_sample = 50\n",
    "effectivity = 0.9\n",
    "portion_new_strain_introduced = 0.001"
   ]
  },
  {
   "cell_type": "code",
   "execution_count": 93,
   "metadata": {
    "ExecuteTime": {
     "end_time": "2021-01-27T09:32:34.485890Z",
     "start_time": "2021-01-27T09:32:34.437113Z"
    }
   },
   "outputs": [],
   "source": [
    "scenario = '1'"
   ]
  },
  {
   "cell_type": "markdown",
   "metadata": {},
   "source": [
    "## S1a - no vacc - old strain"
   ]
  },
  {
   "cell_type": "code",
   "execution_count": 23,
   "metadata": {
    "ExecuteTime": {
     "end_time": "2021-01-25T12:04:35.340868Z",
     "start_time": "2021-01-25T12:04:25.177737Z"
    }
   },
   "outputs": [
    {
     "name": "stdout",
     "output_type": "stream",
     "text": [
      "Simulating draw 5/5\u001b[1K\r"
     ]
    }
   ],
   "source": [
    "model_S1a = vaccin_model(initial_states_sept, scenario=scenario,Nc_fun=report7_policy_function, N_vacc_fun=None)\n",
    "out_S1a = model_S1a.sim(end_sim2,start_date=start_sim1,warmup=warmup,N=n_samples,draw_fcn=draw_fcn,samples=samples_dict,verbose=True)"
   ]
  },
  {
   "cell_type": "code",
   "execution_count": 24,
   "metadata": {
    "ExecuteTime": {
     "end_time": "2021-01-25T12:04:35.482019Z",
     "start_time": "2021-01-25T12:04:35.345674Z"
    }
   },
   "outputs": [],
   "source": [
    "S1a_H_in_binom = sample_from_binomial(out_S1a, 'H_in', n_draws_per_sample, n_samples, LL, UL)\n",
    "S1a_time = out_S1a[\"time\"].values\n",
    "S1a_alpha = out_S1a['alpha'].mean(dim=\"Nc\").values"
   ]
  },
  {
   "cell_type": "markdown",
   "metadata": {},
   "source": [
    "## S1b - no vacc - new strain"
   ]
  },
  {
   "cell_type": "code",
   "execution_count": 25,
   "metadata": {
    "ExecuteTime": {
     "end_time": "2021-01-25T12:04:50.728468Z",
     "start_time": "2021-01-25T12:04:35.490290Z"
    }
   },
   "outputs": [
    {
     "name": "stdout",
     "output_type": "stream",
     "text": [
      "Simulating draw 5/5\u001b[1K\r"
     ]
    }
   ],
   "source": [
    "model_S1b = vaccin_model(initial_states_sept, scenario=scenario,Nc_fun=report7_policy_function, N_vacc_fun=None)\n",
    "out_S1b = model_S1b.sim(end_sim1,start_date=start_sim1,warmup=warmup,N=n_samples,draw_fcn=draw_fcn,samples=samples_dict,verbose=True)\n",
    "\n",
    "# Average and pass on state variables\n",
    "initial_states_2 = out_S1b.sel(time=end_sim1).mean(dim=\"draws\")\n",
    "# One promille of British variant on January 15th 2021\n",
    "initial_states_2['alpha'].values = portion_new_strain_introduced*np.ones(9)\n",
    "# Re-Initialize\n",
    "model_S1b_part2 = vaccin_model(initial_states_2, scenario=scenario,Nc_fun=report7_policy_function, N_vacc_fun=None)\n",
    "out_S1b_part2 = model_S1b_part2.sim(end_sim2,start_date=end_sim1,warmup=warmup,N=n_samples,draw_fcn=draw_fcn,samples=samples_dict,verbose=True)"
   ]
  },
  {
   "cell_type": "code",
   "execution_count": 26,
   "metadata": {
    "ExecuteTime": {
     "end_time": "2021-01-25T12:04:50.835779Z",
     "start_time": "2021-01-25T12:04:50.733020Z"
    }
   },
   "outputs": [],
   "source": [
    "S1b_H_in_binom = sample_from_binomial(out_S1b, 'H_in', n_draws_per_sample, n_samples, LL, UL)\n",
    "S1b_H_in_binom = sample_from_binomial(out_S1b_part2, 'H_in', n_draws_per_sample, n_samples, LL, UL, S1b_H_in_binom)"
   ]
  },
  {
   "cell_type": "code",
   "execution_count": null,
   "metadata": {
    "ExecuteTime": {
     "end_time": "2021-01-25T12:01:05.771064Z",
     "start_time": "2021-01-25T12:01:05.672339Z"
    }
   },
   "outputs": [],
   "source": [
    "# S1b_H_tot_binom = sample_from_binomial(out_S1b, 'H_tot', n_draws_per_sample, n_samples, LL, UL)\n",
    "# S1b_H_tot_binom = sample_from_binomial(out_S1b_part2, 'H_tot', n_draws_per_sample, n_samples, LL, UL, S1b_H_tot_binom)"
   ]
  },
  {
   "cell_type": "code",
   "execution_count": 27,
   "metadata": {
    "ExecuteTime": {
     "end_time": "2021-01-25T12:04:50.960164Z",
     "start_time": "2021-01-25T12:04:50.840293Z"
    }
   },
   "outputs": [],
   "source": [
    "S1b_time = out_S1b[\"time\"].values\n",
    "S1b_alpha = out_S1b['alpha'].mean(dim=\"Nc\").values\n",
    "S1b_time = np.append(S1b_time, out_S1b_part2['time'].values)\n",
    "S1b_alpha = np.append(S1b_alpha,out_S1b_part2['alpha'].mean(dim=\"Nc\").values,axis=1)"
   ]
  },
  {
   "cell_type": "markdown",
   "metadata": {},
   "source": [
    "## S1c - vaccination - old strain"
   ]
  },
  {
   "cell_type": "code",
   "execution_count": 28,
   "metadata": {
    "ExecuteTime": {
     "end_time": "2021-01-25T12:05:01.855812Z",
     "start_time": "2021-01-25T12:04:50.967256Z"
    }
   },
   "outputs": [
    {
     "name": "stdout",
     "output_type": "stream",
     "text": [
      "Simulating draw 5/5\u001b[1K\r"
     ]
    }
   ],
   "source": [
    "model_S1c = vaccin_model(initial_states_sept, scenario=scenario, effectivity=effectivity, Nc_fun=report7_policy_function, N_vacc_fun=vacc_strategy)\n",
    "out_S1c = model_S1c.sim(end_sim2,start_date=start_sim1,warmup=warmup,N=n_samples,draw_fcn=draw_fcn,samples=samples_dict,verbose=True)"
   ]
  },
  {
   "cell_type": "code",
   "execution_count": 29,
   "metadata": {
    "ExecuteTime": {
     "end_time": "2021-01-25T12:05:01.993746Z",
     "start_time": "2021-01-25T12:05:01.860836Z"
    }
   },
   "outputs": [],
   "source": [
    "S1c_H_in_binom = sample_from_binomial(out_S1c, 'H_in', n_draws_per_sample, n_samples, LL, UL)\n",
    "S1c_time = out_S1c[\"time\"].values\n",
    "S1c_alpha = out_S1c['alpha'].mean(dim=\"Nc\").values"
   ]
  },
  {
   "cell_type": "markdown",
   "metadata": {},
   "source": [
    "## S1d - vaccination - new strain"
   ]
  },
  {
   "cell_type": "code",
   "execution_count": 95,
   "metadata": {
    "ExecuteTime": {
     "end_time": "2021-01-27T09:32:51.030056Z",
     "start_time": "2021-01-27T09:32:43.494305Z"
    }
   },
   "outputs": [
    {
     "name": "stdout",
     "output_type": "stream",
     "text": [
      "Simulating draw 5/5\u001b[1K\r"
     ]
    }
   ],
   "source": [
    "model_S1d = vaccin_model(initial_states_sept, scenario=scenario, effectivity=effectivity, Nc_fun=report7_policy_function, N_vacc_fun=vacc_strategy)\n",
    "out_S1d = model_S1d.sim(end_sim1,start_date=start_sim1,warmup=warmup,N=n_samples,draw_fcn=draw_fcn,samples=samples_dict,verbose=True)\n",
    "\n",
    "# Average and pass on state variables\n",
    "initial_states_2 = out_S1d.sel(time=end_sim1).mean(dim=\"draws\")\n",
    "# One promille of British variant on January 15th 2021\n",
    "initial_states_2['alpha'].values = portion_new_strain_introduced*np.ones(9)\n",
    "# Re-Initialize\n",
    "model_S1d_part2 = vaccin_model(initial_states_2, scenario=scenario, effectivity=effectivity, Nc_fun=report7_policy_function, N_vacc_fun=vacc_strategy)\n",
    "out_S1d_part2 = model_S1d_part2.sim(end_sim2,start_date=end_sim1,warmup=warmup,N=n_samples,draw_fcn=draw_fcn,samples=samples_dict,verbose=True)"
   ]
  },
  {
   "cell_type": "code",
   "execution_count": 73,
   "metadata": {
    "ExecuteTime": {
     "end_time": "2021-01-27T08:49:43.164360Z",
     "start_time": "2021-01-27T08:49:43.112541Z"
    }
   },
   "outputs": [
    {
     "data": {
      "text/plain": [
       "0.03492"
      ]
     },
     "execution_count": 73,
     "metadata": {},
     "output_type": "execute_result"
    }
   ],
   "source": [
    "model_S1d_part2.parameters['beta']"
   ]
  },
  {
   "cell_type": "code",
   "execution_count": 98,
   "metadata": {
    "ExecuteTime": {
     "end_time": "2021-01-27T09:32:55.404626Z",
     "start_time": "2021-01-27T09:32:55.355098Z"
    }
   },
   "outputs": [],
   "source": [
    "S1d_H_in_binom = sample_from_binomial(out_S1d, 'H_in', n_draws_per_sample, n_samples, LL, UL)\n",
    "S1d_H_in_binom = sample_from_binomial(out_S1d_part2, 'H_in', n_draws_per_sample, n_samples, LL, UL, S1d_H_in_binom)"
   ]
  },
  {
   "cell_type": "code",
   "execution_count": null,
   "metadata": {
    "ExecuteTime": {
     "end_time": "2021-01-25T12:02:49.523011Z",
     "start_time": "2021-01-25T12:02:49.403700Z"
    }
   },
   "outputs": [],
   "source": [
    "# S1d_H_tot_binom = sample_from_binomial(out_S1d, 'H_tot', n_draws_per_sample, n_samples, LL, UL)\n",
    "# S1d_H_tot_binom = sample_from_binomial(out_S1d_part2, 'H_tot', n_draws_per_sample, n_samples, LL, UL, S1d_H_tot_binom)"
   ]
  },
  {
   "cell_type": "code",
   "execution_count": 32,
   "metadata": {
    "ExecuteTime": {
     "end_time": "2021-01-25T12:05:17.785145Z",
     "start_time": "2021-01-25T12:05:17.546313Z"
    }
   },
   "outputs": [],
   "source": [
    "S1d_time = out_S1d[\"time\"].values\n",
    "S1d_alpha = out_S1d['alpha'].mean(dim=\"Nc\").values\n",
    "S1d_time = np.append(S1d_time, out_S1d_part2['time'].values)\n",
    "S1d_alpha = np.append(S1d_alpha,out_S1d_part2['alpha'].mean(dim=\"Nc\").values,axis=1)"
   ]
  },
  {
   "cell_type": "markdown",
   "metadata": {},
   "source": [
    "## Visualise"
   ]
  },
  {
   "cell_type": "code",
   "execution_count": 36,
   "metadata": {
    "ExecuteTime": {
     "end_time": "2021-01-25T12:08:36.932017Z",
     "start_time": "2021-01-25T12:08:33.890888Z"
    },
    "scrolled": false
   },
   "outputs": [
    {
     "data": {
      "application/javascript": [
       "/* Put everything inside the global mpl namespace */\n",
       "window.mpl = {};\n",
       "\n",
       "\n",
       "mpl.get_websocket_type = function() {\n",
       "    if (typeof(WebSocket) !== 'undefined') {\n",
       "        return WebSocket;\n",
       "    } else if (typeof(MozWebSocket) !== 'undefined') {\n",
       "        return MozWebSocket;\n",
       "    } else {\n",
       "        alert('Your browser does not have WebSocket support. ' +\n",
       "              'Please try Chrome, Safari or Firefox ≥ 6. ' +\n",
       "              'Firefox 4 and 5 are also supported but you ' +\n",
       "              'have to enable WebSockets in about:config.');\n",
       "    };\n",
       "}\n",
       "\n",
       "mpl.figure = function(figure_id, websocket, ondownload, parent_element) {\n",
       "    this.id = figure_id;\n",
       "\n",
       "    this.ws = websocket;\n",
       "\n",
       "    this.supports_binary = (this.ws.binaryType != undefined);\n",
       "\n",
       "    if (!this.supports_binary) {\n",
       "        var warnings = document.getElementById(\"mpl-warnings\");\n",
       "        if (warnings) {\n",
       "            warnings.style.display = 'block';\n",
       "            warnings.textContent = (\n",
       "                \"This browser does not support binary websocket messages. \" +\n",
       "                    \"Performance may be slow.\");\n",
       "        }\n",
       "    }\n",
       "\n",
       "    this.imageObj = new Image();\n",
       "\n",
       "    this.context = undefined;\n",
       "    this.message = undefined;\n",
       "    this.canvas = undefined;\n",
       "    this.rubberband_canvas = undefined;\n",
       "    this.rubberband_context = undefined;\n",
       "    this.format_dropdown = undefined;\n",
       "\n",
       "    this.image_mode = 'full';\n",
       "\n",
       "    this.root = $('<div/>');\n",
       "    this._root_extra_style(this.root)\n",
       "    this.root.attr('style', 'display: inline-block');\n",
       "\n",
       "    $(parent_element).append(this.root);\n",
       "\n",
       "    this._init_header(this);\n",
       "    this._init_canvas(this);\n",
       "    this._init_toolbar(this);\n",
       "\n",
       "    var fig = this;\n",
       "\n",
       "    this.waiting = false;\n",
       "\n",
       "    this.ws.onopen =  function () {\n",
       "            fig.send_message(\"supports_binary\", {value: fig.supports_binary});\n",
       "            fig.send_message(\"send_image_mode\", {});\n",
       "            if (mpl.ratio != 1) {\n",
       "                fig.send_message(\"set_dpi_ratio\", {'dpi_ratio': mpl.ratio});\n",
       "            }\n",
       "            fig.send_message(\"refresh\", {});\n",
       "        }\n",
       "\n",
       "    this.imageObj.onload = function() {\n",
       "            if (fig.image_mode == 'full') {\n",
       "                // Full images could contain transparency (where diff images\n",
       "                // almost always do), so we need to clear the canvas so that\n",
       "                // there is no ghosting.\n",
       "                fig.context.clearRect(0, 0, fig.canvas.width, fig.canvas.height);\n",
       "            }\n",
       "            fig.context.drawImage(fig.imageObj, 0, 0);\n",
       "        };\n",
       "\n",
       "    this.imageObj.onunload = function() {\n",
       "        fig.ws.close();\n",
       "    }\n",
       "\n",
       "    this.ws.onmessage = this._make_on_message_function(this);\n",
       "\n",
       "    this.ondownload = ondownload;\n",
       "}\n",
       "\n",
       "mpl.figure.prototype._init_header = function() {\n",
       "    var titlebar = $(\n",
       "        '<div class=\"ui-dialog-titlebar ui-widget-header ui-corner-all ' +\n",
       "        'ui-helper-clearfix\"/>');\n",
       "    var titletext = $(\n",
       "        '<div class=\"ui-dialog-title\" style=\"width: 100%; ' +\n",
       "        'text-align: center; padding: 3px;\"/>');\n",
       "    titlebar.append(titletext)\n",
       "    this.root.append(titlebar);\n",
       "    this.header = titletext[0];\n",
       "}\n",
       "\n",
       "\n",
       "\n",
       "mpl.figure.prototype._canvas_extra_style = function(canvas_div) {\n",
       "\n",
       "}\n",
       "\n",
       "\n",
       "mpl.figure.prototype._root_extra_style = function(canvas_div) {\n",
       "\n",
       "}\n",
       "\n",
       "mpl.figure.prototype._init_canvas = function() {\n",
       "    var fig = this;\n",
       "\n",
       "    var canvas_div = $('<div/>');\n",
       "\n",
       "    canvas_div.attr('style', 'position: relative; clear: both; outline: 0');\n",
       "\n",
       "    function canvas_keyboard_event(event) {\n",
       "        return fig.key_event(event, event['data']);\n",
       "    }\n",
       "\n",
       "    canvas_div.keydown('key_press', canvas_keyboard_event);\n",
       "    canvas_div.keyup('key_release', canvas_keyboard_event);\n",
       "    this.canvas_div = canvas_div\n",
       "    this._canvas_extra_style(canvas_div)\n",
       "    this.root.append(canvas_div);\n",
       "\n",
       "    var canvas = $('<canvas/>');\n",
       "    canvas.addClass('mpl-canvas');\n",
       "    canvas.attr('style', \"left: 0; top: 0; z-index: 0; outline: 0\")\n",
       "\n",
       "    this.canvas = canvas[0];\n",
       "    this.context = canvas[0].getContext(\"2d\");\n",
       "\n",
       "    var backingStore = this.context.backingStorePixelRatio ||\n",
       "\tthis.context.webkitBackingStorePixelRatio ||\n",
       "\tthis.context.mozBackingStorePixelRatio ||\n",
       "\tthis.context.msBackingStorePixelRatio ||\n",
       "\tthis.context.oBackingStorePixelRatio ||\n",
       "\tthis.context.backingStorePixelRatio || 1;\n",
       "\n",
       "    mpl.ratio = (window.devicePixelRatio || 1) / backingStore;\n",
       "\n",
       "    var rubberband = $('<canvas/>');\n",
       "    rubberband.attr('style', \"position: absolute; left: 0; top: 0; z-index: 1;\")\n",
       "\n",
       "    var pass_mouse_events = true;\n",
       "\n",
       "    canvas_div.resizable({\n",
       "        start: function(event, ui) {\n",
       "            pass_mouse_events = false;\n",
       "        },\n",
       "        resize: function(event, ui) {\n",
       "            fig.request_resize(ui.size.width, ui.size.height);\n",
       "        },\n",
       "        stop: function(event, ui) {\n",
       "            pass_mouse_events = true;\n",
       "            fig.request_resize(ui.size.width, ui.size.height);\n",
       "        },\n",
       "    });\n",
       "\n",
       "    function mouse_event_fn(event) {\n",
       "        if (pass_mouse_events)\n",
       "            return fig.mouse_event(event, event['data']);\n",
       "    }\n",
       "\n",
       "    rubberband.mousedown('button_press', mouse_event_fn);\n",
       "    rubberband.mouseup('button_release', mouse_event_fn);\n",
       "    // Throttle sequential mouse events to 1 every 20ms.\n",
       "    rubberband.mousemove('motion_notify', mouse_event_fn);\n",
       "\n",
       "    rubberband.mouseenter('figure_enter', mouse_event_fn);\n",
       "    rubberband.mouseleave('figure_leave', mouse_event_fn);\n",
       "\n",
       "    canvas_div.on(\"wheel\", function (event) {\n",
       "        event = event.originalEvent;\n",
       "        event['data'] = 'scroll'\n",
       "        if (event.deltaY < 0) {\n",
       "            event.step = 1;\n",
       "        } else {\n",
       "            event.step = -1;\n",
       "        }\n",
       "        mouse_event_fn(event);\n",
       "    });\n",
       "\n",
       "    canvas_div.append(canvas);\n",
       "    canvas_div.append(rubberband);\n",
       "\n",
       "    this.rubberband = rubberband;\n",
       "    this.rubberband_canvas = rubberband[0];\n",
       "    this.rubberband_context = rubberband[0].getContext(\"2d\");\n",
       "    this.rubberband_context.strokeStyle = \"#000000\";\n",
       "\n",
       "    this._resize_canvas = function(width, height) {\n",
       "        // Keep the size of the canvas, canvas container, and rubber band\n",
       "        // canvas in synch.\n",
       "        canvas_div.css('width', width)\n",
       "        canvas_div.css('height', height)\n",
       "\n",
       "        canvas.attr('width', width * mpl.ratio);\n",
       "        canvas.attr('height', height * mpl.ratio);\n",
       "        canvas.attr('style', 'width: ' + width + 'px; height: ' + height + 'px;');\n",
       "\n",
       "        rubberband.attr('width', width);\n",
       "        rubberband.attr('height', height);\n",
       "    }\n",
       "\n",
       "    // Set the figure to an initial 600x600px, this will subsequently be updated\n",
       "    // upon first draw.\n",
       "    this._resize_canvas(600, 600);\n",
       "\n",
       "    // Disable right mouse context menu.\n",
       "    $(this.rubberband_canvas).bind(\"contextmenu\",function(e){\n",
       "        return false;\n",
       "    });\n",
       "\n",
       "    function set_focus () {\n",
       "        canvas.focus();\n",
       "        canvas_div.focus();\n",
       "    }\n",
       "\n",
       "    window.setTimeout(set_focus, 100);\n",
       "}\n",
       "\n",
       "mpl.figure.prototype._init_toolbar = function() {\n",
       "    var fig = this;\n",
       "\n",
       "    var nav_element = $('<div/>');\n",
       "    nav_element.attr('style', 'width: 100%');\n",
       "    this.root.append(nav_element);\n",
       "\n",
       "    // Define a callback function for later on.\n",
       "    function toolbar_event(event) {\n",
       "        return fig.toolbar_button_onclick(event['data']);\n",
       "    }\n",
       "    function toolbar_mouse_event(event) {\n",
       "        return fig.toolbar_button_onmouseover(event['data']);\n",
       "    }\n",
       "\n",
       "    for(var toolbar_ind in mpl.toolbar_items) {\n",
       "        var name = mpl.toolbar_items[toolbar_ind][0];\n",
       "        var tooltip = mpl.toolbar_items[toolbar_ind][1];\n",
       "        var image = mpl.toolbar_items[toolbar_ind][2];\n",
       "        var method_name = mpl.toolbar_items[toolbar_ind][3];\n",
       "\n",
       "        if (!name) {\n",
       "            // put a spacer in here.\n",
       "            continue;\n",
       "        }\n",
       "        var button = $('<button/>');\n",
       "        button.addClass('ui-button ui-widget ui-state-default ui-corner-all ' +\n",
       "                        'ui-button-icon-only');\n",
       "        button.attr('role', 'button');\n",
       "        button.attr('aria-disabled', 'false');\n",
       "        button.click(method_name, toolbar_event);\n",
       "        button.mouseover(tooltip, toolbar_mouse_event);\n",
       "\n",
       "        var icon_img = $('<span/>');\n",
       "        icon_img.addClass('ui-button-icon-primary ui-icon');\n",
       "        icon_img.addClass(image);\n",
       "        icon_img.addClass('ui-corner-all');\n",
       "\n",
       "        var tooltip_span = $('<span/>');\n",
       "        tooltip_span.addClass('ui-button-text');\n",
       "        tooltip_span.html(tooltip);\n",
       "\n",
       "        button.append(icon_img);\n",
       "        button.append(tooltip_span);\n",
       "\n",
       "        nav_element.append(button);\n",
       "    }\n",
       "\n",
       "    var fmt_picker_span = $('<span/>');\n",
       "\n",
       "    var fmt_picker = $('<select/>');\n",
       "    fmt_picker.addClass('mpl-toolbar-option ui-widget ui-widget-content');\n",
       "    fmt_picker_span.append(fmt_picker);\n",
       "    nav_element.append(fmt_picker_span);\n",
       "    this.format_dropdown = fmt_picker[0];\n",
       "\n",
       "    for (var ind in mpl.extensions) {\n",
       "        var fmt = mpl.extensions[ind];\n",
       "        var option = $(\n",
       "            '<option/>', {selected: fmt === mpl.default_extension}).html(fmt);\n",
       "        fmt_picker.append(option);\n",
       "    }\n",
       "\n",
       "    // Add hover states to the ui-buttons\n",
       "    $( \".ui-button\" ).hover(\n",
       "        function() { $(this).addClass(\"ui-state-hover\");},\n",
       "        function() { $(this).removeClass(\"ui-state-hover\");}\n",
       "    );\n",
       "\n",
       "    var status_bar = $('<span class=\"mpl-message\"/>');\n",
       "    nav_element.append(status_bar);\n",
       "    this.message = status_bar[0];\n",
       "}\n",
       "\n",
       "mpl.figure.prototype.request_resize = function(x_pixels, y_pixels) {\n",
       "    // Request matplotlib to resize the figure. Matplotlib will then trigger a resize in the client,\n",
       "    // which will in turn request a refresh of the image.\n",
       "    this.send_message('resize', {'width': x_pixels, 'height': y_pixels});\n",
       "}\n",
       "\n",
       "mpl.figure.prototype.send_message = function(type, properties) {\n",
       "    properties['type'] = type;\n",
       "    properties['figure_id'] = this.id;\n",
       "    this.ws.send(JSON.stringify(properties));\n",
       "}\n",
       "\n",
       "mpl.figure.prototype.send_draw_message = function() {\n",
       "    if (!this.waiting) {\n",
       "        this.waiting = true;\n",
       "        this.ws.send(JSON.stringify({type: \"draw\", figure_id: this.id}));\n",
       "    }\n",
       "}\n",
       "\n",
       "\n",
       "mpl.figure.prototype.handle_save = function(fig, msg) {\n",
       "    var format_dropdown = fig.format_dropdown;\n",
       "    var format = format_dropdown.options[format_dropdown.selectedIndex].value;\n",
       "    fig.ondownload(fig, format);\n",
       "}\n",
       "\n",
       "\n",
       "mpl.figure.prototype.handle_resize = function(fig, msg) {\n",
       "    var size = msg['size'];\n",
       "    if (size[0] != fig.canvas.width || size[1] != fig.canvas.height) {\n",
       "        fig._resize_canvas(size[0], size[1]);\n",
       "        fig.send_message(\"refresh\", {});\n",
       "    };\n",
       "}\n",
       "\n",
       "mpl.figure.prototype.handle_rubberband = function(fig, msg) {\n",
       "    var x0 = msg['x0'] / mpl.ratio;\n",
       "    var y0 = (fig.canvas.height - msg['y0']) / mpl.ratio;\n",
       "    var x1 = msg['x1'] / mpl.ratio;\n",
       "    var y1 = (fig.canvas.height - msg['y1']) / mpl.ratio;\n",
       "    x0 = Math.floor(x0) + 0.5;\n",
       "    y0 = Math.floor(y0) + 0.5;\n",
       "    x1 = Math.floor(x1) + 0.5;\n",
       "    y1 = Math.floor(y1) + 0.5;\n",
       "    var min_x = Math.min(x0, x1);\n",
       "    var min_y = Math.min(y0, y1);\n",
       "    var width = Math.abs(x1 - x0);\n",
       "    var height = Math.abs(y1 - y0);\n",
       "\n",
       "    fig.rubberband_context.clearRect(\n",
       "        0, 0, fig.canvas.width / mpl.ratio, fig.canvas.height / mpl.ratio);\n",
       "\n",
       "    fig.rubberband_context.strokeRect(min_x, min_y, width, height);\n",
       "}\n",
       "\n",
       "mpl.figure.prototype.handle_figure_label = function(fig, msg) {\n",
       "    // Updates the figure title.\n",
       "    fig.header.textContent = msg['label'];\n",
       "}\n",
       "\n",
       "mpl.figure.prototype.handle_cursor = function(fig, msg) {\n",
       "    var cursor = msg['cursor'];\n",
       "    switch(cursor)\n",
       "    {\n",
       "    case 0:\n",
       "        cursor = 'pointer';\n",
       "        break;\n",
       "    case 1:\n",
       "        cursor = 'default';\n",
       "        break;\n",
       "    case 2:\n",
       "        cursor = 'crosshair';\n",
       "        break;\n",
       "    case 3:\n",
       "        cursor = 'move';\n",
       "        break;\n",
       "    }\n",
       "    fig.rubberband_canvas.style.cursor = cursor;\n",
       "}\n",
       "\n",
       "mpl.figure.prototype.handle_message = function(fig, msg) {\n",
       "    fig.message.textContent = msg['message'];\n",
       "}\n",
       "\n",
       "mpl.figure.prototype.handle_draw = function(fig, msg) {\n",
       "    // Request the server to send over a new figure.\n",
       "    fig.send_draw_message();\n",
       "}\n",
       "\n",
       "mpl.figure.prototype.handle_image_mode = function(fig, msg) {\n",
       "    fig.image_mode = msg['mode'];\n",
       "}\n",
       "\n",
       "mpl.figure.prototype.updated_canvas_event = function() {\n",
       "    // Called whenever the canvas gets updated.\n",
       "    this.send_message(\"ack\", {});\n",
       "}\n",
       "\n",
       "// A function to construct a web socket function for onmessage handling.\n",
       "// Called in the figure constructor.\n",
       "mpl.figure.prototype._make_on_message_function = function(fig) {\n",
       "    return function socket_on_message(evt) {\n",
       "        if (evt.data instanceof Blob) {\n",
       "            /* FIXME: We get \"Resource interpreted as Image but\n",
       "             * transferred with MIME type text/plain:\" errors on\n",
       "             * Chrome.  But how to set the MIME type?  It doesn't seem\n",
       "             * to be part of the websocket stream */\n",
       "            evt.data.type = \"image/png\";\n",
       "\n",
       "            /* Free the memory for the previous frames */\n",
       "            if (fig.imageObj.src) {\n",
       "                (window.URL || window.webkitURL).revokeObjectURL(\n",
       "                    fig.imageObj.src);\n",
       "            }\n",
       "\n",
       "            fig.imageObj.src = (window.URL || window.webkitURL).createObjectURL(\n",
       "                evt.data);\n",
       "            fig.updated_canvas_event();\n",
       "            fig.waiting = false;\n",
       "            return;\n",
       "        }\n",
       "        else if (typeof evt.data === 'string' && evt.data.slice(0, 21) == \"data:image/png;base64\") {\n",
       "            fig.imageObj.src = evt.data;\n",
       "            fig.updated_canvas_event();\n",
       "            fig.waiting = false;\n",
       "            return;\n",
       "        }\n",
       "\n",
       "        var msg = JSON.parse(evt.data);\n",
       "        var msg_type = msg['type'];\n",
       "\n",
       "        // Call the  \"handle_{type}\" callback, which takes\n",
       "        // the figure and JSON message as its only arguments.\n",
       "        try {\n",
       "            var callback = fig[\"handle_\" + msg_type];\n",
       "        } catch (e) {\n",
       "            console.log(\"No handler for the '\" + msg_type + \"' message type: \", msg);\n",
       "            return;\n",
       "        }\n",
       "\n",
       "        if (callback) {\n",
       "            try {\n",
       "                // console.log(\"Handling '\" + msg_type + \"' message: \", msg);\n",
       "                callback(fig, msg);\n",
       "            } catch (e) {\n",
       "                console.log(\"Exception inside the 'handler_\" + msg_type + \"' callback:\", e, e.stack, msg);\n",
       "            }\n",
       "        }\n",
       "    };\n",
       "}\n",
       "\n",
       "// from http://stackoverflow.com/questions/1114465/getting-mouse-location-in-canvas\n",
       "mpl.findpos = function(e) {\n",
       "    //this section is from http://www.quirksmode.org/js/events_properties.html\n",
       "    var targ;\n",
       "    if (!e)\n",
       "        e = window.event;\n",
       "    if (e.target)\n",
       "        targ = e.target;\n",
       "    else if (e.srcElement)\n",
       "        targ = e.srcElement;\n",
       "    if (targ.nodeType == 3) // defeat Safari bug\n",
       "        targ = targ.parentNode;\n",
       "\n",
       "    // jQuery normalizes the pageX and pageY\n",
       "    // pageX,Y are the mouse positions relative to the document\n",
       "    // offset() returns the position of the element relative to the document\n",
       "    var x = e.pageX - $(targ).offset().left;\n",
       "    var y = e.pageY - $(targ).offset().top;\n",
       "\n",
       "    return {\"x\": x, \"y\": y};\n",
       "};\n",
       "\n",
       "/*\n",
       " * return a copy of an object with only non-object keys\n",
       " * we need this to avoid circular references\n",
       " * http://stackoverflow.com/a/24161582/3208463\n",
       " */\n",
       "function simpleKeys (original) {\n",
       "  return Object.keys(original).reduce(function (obj, key) {\n",
       "    if (typeof original[key] !== 'object')\n",
       "        obj[key] = original[key]\n",
       "    return obj;\n",
       "  }, {});\n",
       "}\n",
       "\n",
       "mpl.figure.prototype.mouse_event = function(event, name) {\n",
       "    var canvas_pos = mpl.findpos(event)\n",
       "\n",
       "    if (name === 'button_press')\n",
       "    {\n",
       "        this.canvas.focus();\n",
       "        this.canvas_div.focus();\n",
       "    }\n",
       "\n",
       "    var x = canvas_pos.x * mpl.ratio;\n",
       "    var y = canvas_pos.y * mpl.ratio;\n",
       "\n",
       "    this.send_message(name, {x: x, y: y, button: event.button,\n",
       "                             step: event.step,\n",
       "                             guiEvent: simpleKeys(event)});\n",
       "\n",
       "    /* This prevents the web browser from automatically changing to\n",
       "     * the text insertion cursor when the button is pressed.  We want\n",
       "     * to control all of the cursor setting manually through the\n",
       "     * 'cursor' event from matplotlib */\n",
       "    event.preventDefault();\n",
       "    return false;\n",
       "}\n",
       "\n",
       "mpl.figure.prototype._key_event_extra = function(event, name) {\n",
       "    // Handle any extra behaviour associated with a key event\n",
       "}\n",
       "\n",
       "mpl.figure.prototype.key_event = function(event, name) {\n",
       "\n",
       "    // Prevent repeat events\n",
       "    if (name == 'key_press')\n",
       "    {\n",
       "        if (event.which === this._key)\n",
       "            return;\n",
       "        else\n",
       "            this._key = event.which;\n",
       "    }\n",
       "    if (name == 'key_release')\n",
       "        this._key = null;\n",
       "\n",
       "    var value = '';\n",
       "    if (event.ctrlKey && event.which != 17)\n",
       "        value += \"ctrl+\";\n",
       "    if (event.altKey && event.which != 18)\n",
       "        value += \"alt+\";\n",
       "    if (event.shiftKey && event.which != 16)\n",
       "        value += \"shift+\";\n",
       "\n",
       "    value += 'k';\n",
       "    value += event.which.toString();\n",
       "\n",
       "    this._key_event_extra(event, name);\n",
       "\n",
       "    this.send_message(name, {key: value,\n",
       "                             guiEvent: simpleKeys(event)});\n",
       "    return false;\n",
       "}\n",
       "\n",
       "mpl.figure.prototype.toolbar_button_onclick = function(name) {\n",
       "    if (name == 'download') {\n",
       "        this.handle_save(this, null);\n",
       "    } else {\n",
       "        this.send_message(\"toolbar_button\", {name: name});\n",
       "    }\n",
       "};\n",
       "\n",
       "mpl.figure.prototype.toolbar_button_onmouseover = function(tooltip) {\n",
       "    this.message.textContent = tooltip;\n",
       "};\n",
       "mpl.toolbar_items = [[\"Home\", \"Reset original view\", \"fa fa-home icon-home\", \"home\"], [\"Back\", \"Back to previous view\", \"fa fa-arrow-left icon-arrow-left\", \"back\"], [\"Forward\", \"Forward to next view\", \"fa fa-arrow-right icon-arrow-right\", \"forward\"], [\"\", \"\", \"\", \"\"], [\"Pan\", \"Pan axes with left mouse, zoom with right\", \"fa fa-arrows icon-move\", \"pan\"], [\"Zoom\", \"Zoom to rectangle\", \"fa fa-square-o icon-check-empty\", \"zoom\"], [\"\", \"\", \"\", \"\"], [\"Download\", \"Download plot\", \"fa fa-floppy-o icon-save\", \"download\"]];\n",
       "\n",
       "mpl.extensions = [\"eps\", \"jpeg\", \"pdf\", \"png\", \"ps\", \"raw\", \"svg\", \"tif\"];\n",
       "\n",
       "mpl.default_extension = \"png\";var comm_websocket_adapter = function(comm) {\n",
       "    // Create a \"websocket\"-like object which calls the given IPython comm\n",
       "    // object with the appropriate methods. Currently this is a non binary\n",
       "    // socket, so there is still some room for performance tuning.\n",
       "    var ws = {};\n",
       "\n",
       "    ws.close = function() {\n",
       "        comm.close()\n",
       "    };\n",
       "    ws.send = function(m) {\n",
       "        //console.log('sending', m);\n",
       "        comm.send(m);\n",
       "    };\n",
       "    // Register the callback with on_msg.\n",
       "    comm.on_msg(function(msg) {\n",
       "        //console.log('receiving', msg['content']['data'], msg);\n",
       "        // Pass the mpl event to the overridden (by mpl) onmessage function.\n",
       "        ws.onmessage(msg['content']['data'])\n",
       "    });\n",
       "    return ws;\n",
       "}\n",
       "\n",
       "mpl.mpl_figure_comm = function(comm, msg) {\n",
       "    // This is the function which gets called when the mpl process\n",
       "    // starts-up an IPython Comm through the \"matplotlib\" channel.\n",
       "\n",
       "    var id = msg.content.data.id;\n",
       "    // Get hold of the div created by the display call when the Comm\n",
       "    // socket was opened in Python.\n",
       "    var element = $(\"#\" + id);\n",
       "    var ws_proxy = comm_websocket_adapter(comm)\n",
       "\n",
       "    function ondownload(figure, format) {\n",
       "        window.open(figure.imageObj.src);\n",
       "    }\n",
       "\n",
       "    var fig = new mpl.figure(id, ws_proxy,\n",
       "                           ondownload,\n",
       "                           element.get(0));\n",
       "\n",
       "    // Call onopen now - mpl needs it, as it is assuming we've passed it a real\n",
       "    // web socket which is closed, not our websocket->open comm proxy.\n",
       "    ws_proxy.onopen();\n",
       "\n",
       "    fig.parent_element = element.get(0);\n",
       "    fig.cell_info = mpl.find_output_cell(\"<div id='\" + id + \"'></div>\");\n",
       "    if (!fig.cell_info) {\n",
       "        console.error(\"Failed to find cell for figure\", id, fig);\n",
       "        return;\n",
       "    }\n",
       "\n",
       "    var output_index = fig.cell_info[2]\n",
       "    var cell = fig.cell_info[0];\n",
       "\n",
       "};\n",
       "\n",
       "mpl.figure.prototype.handle_close = function(fig, msg) {\n",
       "    var width = fig.canvas.width/mpl.ratio\n",
       "    fig.root.unbind('remove')\n",
       "\n",
       "    // Update the output cell to use the data from the current canvas.\n",
       "    fig.push_to_output();\n",
       "    var dataURL = fig.canvas.toDataURL();\n",
       "    // Re-enable the keyboard manager in IPython - without this line, in FF,\n",
       "    // the notebook keyboard shortcuts fail.\n",
       "    IPython.keyboard_manager.enable()\n",
       "    $(fig.parent_element).html('<img src=\"' + dataURL + '\" width=\"' + width + '\">');\n",
       "    fig.close_ws(fig, msg);\n",
       "}\n",
       "\n",
       "mpl.figure.prototype.close_ws = function(fig, msg){\n",
       "    fig.send_message('closing', msg);\n",
       "    // fig.ws.close()\n",
       "}\n",
       "\n",
       "mpl.figure.prototype.push_to_output = function(remove_interactive) {\n",
       "    // Turn the data on the canvas into data in the output cell.\n",
       "    var width = this.canvas.width/mpl.ratio\n",
       "    var dataURL = this.canvas.toDataURL();\n",
       "    this.cell_info[1]['text/html'] = '<img src=\"' + dataURL + '\" width=\"' + width + '\">';\n",
       "}\n",
       "\n",
       "mpl.figure.prototype.updated_canvas_event = function() {\n",
       "    // Tell IPython that the notebook contents must change.\n",
       "    IPython.notebook.set_dirty(true);\n",
       "    this.send_message(\"ack\", {});\n",
       "    var fig = this;\n",
       "    // Wait a second, then push the new image to the DOM so\n",
       "    // that it is saved nicely (might be nice to debounce this).\n",
       "    setTimeout(function () { fig.push_to_output() }, 1000);\n",
       "}\n",
       "\n",
       "mpl.figure.prototype._init_toolbar = function() {\n",
       "    var fig = this;\n",
       "\n",
       "    var nav_element = $('<div/>');\n",
       "    nav_element.attr('style', 'width: 100%');\n",
       "    this.root.append(nav_element);\n",
       "\n",
       "    // Define a callback function for later on.\n",
       "    function toolbar_event(event) {\n",
       "        return fig.toolbar_button_onclick(event['data']);\n",
       "    }\n",
       "    function toolbar_mouse_event(event) {\n",
       "        return fig.toolbar_button_onmouseover(event['data']);\n",
       "    }\n",
       "\n",
       "    for(var toolbar_ind in mpl.toolbar_items){\n",
       "        var name = mpl.toolbar_items[toolbar_ind][0];\n",
       "        var tooltip = mpl.toolbar_items[toolbar_ind][1];\n",
       "        var image = mpl.toolbar_items[toolbar_ind][2];\n",
       "        var method_name = mpl.toolbar_items[toolbar_ind][3];\n",
       "\n",
       "        if (!name) { continue; };\n",
       "\n",
       "        var button = $('<button class=\"btn btn-default\" href=\"#\" title=\"' + name + '\"><i class=\"fa ' + image + ' fa-lg\"></i></button>');\n",
       "        button.click(method_name, toolbar_event);\n",
       "        button.mouseover(tooltip, toolbar_mouse_event);\n",
       "        nav_element.append(button);\n",
       "    }\n",
       "\n",
       "    // Add the status bar.\n",
       "    var status_bar = $('<span class=\"mpl-message\" style=\"text-align:right; float: right;\"/>');\n",
       "    nav_element.append(status_bar);\n",
       "    this.message = status_bar[0];\n",
       "\n",
       "    // Add the close button to the window.\n",
       "    var buttongrp = $('<div class=\"btn-group inline pull-right\"></div>');\n",
       "    var button = $('<button class=\"btn btn-mini btn-primary\" href=\"#\" title=\"Stop Interaction\"><i class=\"fa fa-power-off icon-remove icon-large\"></i></button>');\n",
       "    button.click(function (evt) { fig.handle_close(fig, {}); } );\n",
       "    button.mouseover('Stop Interaction', toolbar_mouse_event);\n",
       "    buttongrp.append(button);\n",
       "    var titlebar = this.root.find($('.ui-dialog-titlebar'));\n",
       "    titlebar.prepend(buttongrp);\n",
       "}\n",
       "\n",
       "mpl.figure.prototype._root_extra_style = function(el){\n",
       "    var fig = this\n",
       "    el.on(\"remove\", function(){\n",
       "\tfig.close_ws(fig, {});\n",
       "    });\n",
       "}\n",
       "\n",
       "mpl.figure.prototype._canvas_extra_style = function(el){\n",
       "    // this is important to make the div 'focusable\n",
       "    el.attr('tabindex', 0)\n",
       "    // reach out to IPython and tell the keyboard manager to turn it's self\n",
       "    // off when our div gets focus\n",
       "\n",
       "    // location in version 3\n",
       "    if (IPython.notebook.keyboard_manager) {\n",
       "        IPython.notebook.keyboard_manager.register_events(el);\n",
       "    }\n",
       "    else {\n",
       "        // location in version 2\n",
       "        IPython.keyboard_manager.register_events(el);\n",
       "    }\n",
       "\n",
       "}\n",
       "\n",
       "mpl.figure.prototype._key_event_extra = function(event, name) {\n",
       "    var manager = IPython.notebook.keyboard_manager;\n",
       "    if (!manager)\n",
       "        manager = IPython.keyboard_manager;\n",
       "\n",
       "    // Check for shift+enter\n",
       "    if (event.shiftKey && event.which == 13) {\n",
       "        this.canvas_div.blur();\n",
       "        // select the cell after this one\n",
       "        var index = IPython.notebook.find_cell_index(this.cell_info[0]);\n",
       "        IPython.notebook.select(index + 1);\n",
       "    }\n",
       "}\n",
       "\n",
       "mpl.figure.prototype.handle_save = function(fig, msg) {\n",
       "    fig.ondownload(fig, null);\n",
       "}\n",
       "\n",
       "\n",
       "mpl.find_output_cell = function(html_output) {\n",
       "    // Return the cell and output element which can be found *uniquely* in the notebook.\n",
       "    // Note - this is a bit hacky, but it is done because the \"notebook_saving.Notebook\"\n",
       "    // IPython event is triggered only after the cells have been serialised, which for\n",
       "    // our purposes (turning an active figure into a static one), is too late.\n",
       "    var cells = IPython.notebook.get_cells();\n",
       "    var ncells = cells.length;\n",
       "    for (var i=0; i<ncells; i++) {\n",
       "        var cell = cells[i];\n",
       "        if (cell.cell_type === 'code'){\n",
       "            for (var j=0; j<cell.output_area.outputs.length; j++) {\n",
       "                var data = cell.output_area.outputs[j];\n",
       "                if (data.data) {\n",
       "                    // IPython >= 3 moved mimebundle to data attribute of output\n",
       "                    data = data.data;\n",
       "                }\n",
       "                if (data['text/html'] == html_output) {\n",
       "                    return [cell, data, j];\n",
       "                }\n",
       "            }\n",
       "        }\n",
       "    }\n",
       "}\n",
       "\n",
       "// Register the function which deals with the matplotlib target/channel.\n",
       "// The kernel may be null if the page has been refreshed.\n",
       "if (IPython.notebook.kernel != null) {\n",
       "    IPython.notebook.kernel.comm_manager.register_target('matplotlib', mpl.mpl_figure_comm);\n",
       "}\n"
      ],
      "text/plain": [
       "<IPython.core.display.Javascript object>"
      ]
     },
     "metadata": {},
     "output_type": "display_data"
    },
    {
     "data": {
      "text/html": [
       "<img src=\"data:image/png;base64,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\" width=\"1000\">"
      ],
      "text/plain": [
       "<IPython.core.display.HTML object>"
      ]
     },
     "metadata": {},
     "output_type": "display_data"
    }
   ],
   "source": [
    "# ----------------\n",
    "# Visualize result\n",
    "# ----------------\n",
    "# Plot\n",
    "fig,(ax1, ax3) = plt.subplots(2,sharex=True,figsize=(10,10))\n",
    "legend_pos = (0.5, 1.25)\n",
    "legend_col = 2\n",
    "\n",
    "# Incidence\n",
    "plot_band_binom(ax1, S1a_time, S1a_H_in_binom, 'green', label='no new strain')\n",
    "plot_band_binom(ax1, S1b_time, S1b_H_in_binom, 'blue', label='new strain on 15/1')\n",
    "plot_band_binom(ax1, S1c_time, S1c_H_in_binom, 'orange', label='no new strain - vacc')\n",
    "plot_band_binom(ax1, S1d_time, S1d_H_in_binom, 'red', label='new strain on 15/1 - vacc')\n",
    "\n",
    "ax1.scatter(df_sciensano[start_sim1:end_sim1].index,df_sciensano['H_in'][start_sim1:end_sim1],color='black',alpha=0.4,linestyle='None',facecolors='none')\n",
    "ax1.legend(loc='upper center', bbox_to_anchor=legend_pos, ncol=legend_col)\n",
    "\n",
    "# Load\n",
    "# plot_band_binom(ax2, S1b_time, S1b_H_tot_binom, 'blue', label='H_in')\n",
    "# ax2.scatter(df_sciensano[start_sim1:end_sim1].index,df_sciensano['H_tot'][start_sim1:end_sim1],color='black',alpha=0.4,linestyle='None',facecolors='none')\n",
    "\n",
    "# British variant\n",
    "# ax3.plot(S1a_time,np.mean(S1a_alpha,axis=0)*100,'--', color='green', label='no new strain')\n",
    "# ax3.plot(S1b_time,np.mean(S1b_alpha,axis=0)*100,'--', color='blue', label='new strain on 15/1')\n",
    "# ax3.fill_between(S1b_time,np.quantile(S1b_alpha,UL,axis=0)*100, np.quantile(S1b_alpha,LL,axis=0)*100,alpha=0.20, color = 'blue')\n",
    "plot_band_binom(ax3, S1a_time, S1a_alpha*100, 'green', label='no new strain', axis=0)\n",
    "plot_band_binom(ax3, S1b_time, S1b_alpha*100, 'blue', label='new strain on 15/1', axis=0)\n",
    "plot_band_binom(ax3, S1c_time, S1c_alpha*100, 'orange', label='no new strain - vacc', axis=0)\n",
    "plot_band_binom(ax3, S1d_time, S1d_alpha*100, 'red', label='new strain on 15/1 - vacc', axis=0)\n",
    "\n",
    "# Format\n",
    "ax1.set_title('New hospitalizations')\n",
    "ax1.set_ylabel('$H_{in} $(-)')\n",
    "ax1.set_xlim('2020-09-01',end_sim2)\n",
    "ax1.axvline(x=pd.to_datetime('2021-01-15'),color='black')\n",
    "ax1.text(pd.Timestamp('2021-01-16'),750, ' introduction \\n new strain', fontsize=10)\n",
    "ax1 = _apply_tick_locator(ax1)\n",
    "# ax2.set_title('Total patients in hospital')\n",
    "# ax2.set_ylabel('$H_{tot}$ (-)')\n",
    "# ax2.set_xlim('2020-09-01',end_sim2)\n",
    "# ax2.axvline(x=pd.to_datetime('2021-01-15'),color='red')\n",
    "# ax2 = _apply_tick_locator(ax2)\n",
    "ax3.set_title('Prevalence of new strain')\n",
    "ax3.set_ylabel('$\\\\alpha$ (%)')\n",
    "ax3.axvline(x=pd.to_datetime('2021-01-15'),color='black')\n",
    "ax3.set_xlim('2020-09-01',end_sim2)\n",
    "ax3.set_ylim(0,100)\n",
    "ax3 = _apply_tick_locator(ax3)\n",
    "date_exceed = get_date_of_exceeding_alpha(out_S1b_part2, ['Nc', 'draws'], 0.25)\n",
    "ax3.axvline(x=date_exceed, color='gray')\n",
    "ax3.text(date_exceed+pd.Timedelta('1D'),10, ' exceeding \\n 25% on {}/{}'.format(date_exceed.day, date_exceed.month), \n",
    "         fontsize=10, color='gray')\n",
    "\n",
    "\n",
    "fig.suptitle('Scenarios current contact behaviour')\n",
    "\n",
    "fig_path =  '../../results/predictions/national/restore_v7.0/'\n",
    "#fig.savefig(fig_path+'restore_v7.0_'+'British_variant'+'.pdf', dpi=400, bbox_inches='tight')\n",
    "fig.savefig(fig_path+'S1'+'.jpg', dpi=400, bbox_inches='tight')"
   ]
  },
  {
   "cell_type": "code",
   "execution_count": null,
   "metadata": {
    "ExecuteTime": {
     "end_time": "2021-01-25T10:38:47.401074Z",
     "start_time": "2021-01-25T10:38:47.355453Z"
    },
    "scrolled": false
   },
   "outputs": [],
   "source": [
    "date_exceed = get_date_of_exceeding_alpha(out_S1b_part2, ['Nc', 'draws'], 0.25)"
   ]
  },
  {
   "cell_type": "code",
   "execution_count": null,
   "metadata": {
    "ExecuteTime": {
     "end_time": "2021-01-25T10:35:58.631558Z",
     "start_time": "2021-01-25T10:35:58.585829Z"
    }
   },
   "outputs": [],
   "source": [
    "check_overtake_duration(out_S1b_part2, ['Nc', 'draws'])"
   ]
  },
  {
   "cell_type": "markdown",
   "metadata": {},
   "source": [
    "# Scenarios S2"
   ]
  },
  {
   "cell_type": "code",
   "execution_count": 55,
   "metadata": {
    "ExecuteTime": {
     "end_time": "2021-01-25T12:13:52.125261Z",
     "start_time": "2021-01-25T12:13:52.012131Z"
    }
   },
   "outputs": [],
   "source": [
    "start_sim1 = '2020-09-01'\n",
    "end_sim1 = '2021-01-15' # Initiate new strain on 15 Jan\n",
    "end_sim2 = '2021-07-01'\n",
    "warmup = 0\n",
    "n_samples = 5\n",
    "n_draws_per_sample = 50\n",
    "effectivity = 0.9\n",
    "portion_new_strain_introduced = 0.001"
   ]
  },
  {
   "cell_type": "code",
   "execution_count": 56,
   "metadata": {
    "ExecuteTime": {
     "end_time": "2021-01-25T12:13:52.648934Z",
     "start_time": "2021-01-25T12:13:52.555651Z"
    }
   },
   "outputs": [],
   "source": [
    "scenario = '2a'"
   ]
  },
  {
   "cell_type": "markdown",
   "metadata": {},
   "source": [
    "## S2a - no vacc - old strain"
   ]
  },
  {
   "cell_type": "code",
   "execution_count": 57,
   "metadata": {
    "ExecuteTime": {
     "end_time": "2021-01-25T12:14:06.961439Z",
     "start_time": "2021-01-25T12:13:53.844958Z"
    }
   },
   "outputs": [
    {
     "name": "stdout",
     "output_type": "stream",
     "text": [
      "Simulating draw 5/5\u001b[1K\r"
     ]
    }
   ],
   "source": [
    "model_S2a = vaccin_model(initial_states_sept, scenario=scenario,Nc_fun=report7_policy_function, N_vacc_fun=None)\n",
    "out_S2a = model_S2a.sim(end_sim2,start_date=start_sim1,warmup=warmup,N=n_samples,draw_fcn=draw_fcn,samples=samples_dict,verbose=True)"
   ]
  },
  {
   "cell_type": "code",
   "execution_count": 58,
   "metadata": {
    "ExecuteTime": {
     "end_time": "2021-01-25T12:14:07.118005Z",
     "start_time": "2021-01-25T12:14:06.965858Z"
    }
   },
   "outputs": [],
   "source": [
    "S2a_H_in_binom = sample_from_binomial(out_S2a, 'H_in', n_draws_per_sample, n_samples, LL, UL)\n",
    "S2a_time = out_S2a[\"time\"].values\n",
    "S2a_alpha = out_S2a['alpha'].mean(dim=\"Nc\").values"
   ]
  },
  {
   "cell_type": "markdown",
   "metadata": {},
   "source": [
    "## S2b - no vacc - new strain"
   ]
  },
  {
   "cell_type": "code",
   "execution_count": 59,
   "metadata": {
    "ExecuteTime": {
     "end_time": "2021-01-25T12:14:26.001631Z",
     "start_time": "2021-01-25T12:14:07.135775Z"
    }
   },
   "outputs": [
    {
     "name": "stdout",
     "output_type": "stream",
     "text": [
      "Simulating draw 5/5\u001b[1K\r"
     ]
    }
   ],
   "source": [
    "model_S2b = vaccin_model(initial_states_sept, scenario=scenario,Nc_fun=report7_policy_function, N_vacc_fun=None)\n",
    "out_S2b = model_S2b.sim(end_sim1,start_date=start_sim1,warmup=warmup,N=n_samples,draw_fcn=draw_fcn,samples=samples_dict,verbose=True)\n",
    "\n",
    "# Average and pass on state variables\n",
    "initial_states_2 = out_S2b.sel(time=end_sim1).mean(dim=\"draws\")\n",
    "# One promille of British variant on January 15th 2021\n",
    "initial_states_2['alpha'].values = portion_new_strain_introduced*np.ones(9)\n",
    "# Re-Initialize\n",
    "model_S2b_part2 = vaccin_model(initial_states_2, scenario=scenario,Nc_fun=report7_policy_function, N_vacc_fun=None)\n",
    "out_S2b_part2 = model_S2b_part2.sim(end_sim2,start_date=end_sim1,warmup=warmup,N=n_samples,draw_fcn=draw_fcn,samples=samples_dict,verbose=True)"
   ]
  },
  {
   "cell_type": "code",
   "execution_count": 60,
   "metadata": {
    "ExecuteTime": {
     "end_time": "2021-01-25T12:14:26.129311Z",
     "start_time": "2021-01-25T12:14:26.005934Z"
    }
   },
   "outputs": [],
   "source": [
    "S2b_H_in_binom = sample_from_binomial(out_S2b, 'H_in', n_draws_per_sample, n_samples, LL, UL)\n",
    "S2b_H_in_binom = sample_from_binomial(out_S2b_part2, 'H_in', n_draws_per_sample, n_samples, LL, UL, S2b_H_in_binom)"
   ]
  },
  {
   "cell_type": "code",
   "execution_count": 61,
   "metadata": {
    "ExecuteTime": {
     "end_time": "2021-01-25T12:14:26.274264Z",
     "start_time": "2021-01-25T12:14:26.134697Z"
    }
   },
   "outputs": [],
   "source": [
    "# S2b_H_tot_binom = sample_from_binomial(out_S2b, 'H_tot', n_draws_per_sample, n_samples, LL, UL)\n",
    "# S2b_H_tot_binom = sample_from_binomial(out_S2b_part2, 'H_tot', n_draws_per_sample, n_samples, LL, UL, S2b_H_tot_binom)"
   ]
  },
  {
   "cell_type": "code",
   "execution_count": 62,
   "metadata": {
    "ExecuteTime": {
     "end_time": "2021-01-25T12:14:26.385523Z",
     "start_time": "2021-01-25T12:14:26.286805Z"
    }
   },
   "outputs": [],
   "source": [
    "S2b_time = out_S2b[\"time\"].values\n",
    "S2b_alpha = out_S2b['alpha'].mean(dim=\"Nc\").values\n",
    "S2b_time = np.append(S2b_time, out_S2b_part2['time'].values)\n",
    "S2b_alpha = np.append(S2b_alpha,out_S2b_part2['alpha'].mean(dim=\"Nc\").values,axis=1)"
   ]
  },
  {
   "cell_type": "markdown",
   "metadata": {},
   "source": [
    "## S2c - vaccination - old strain"
   ]
  },
  {
   "cell_type": "code",
   "execution_count": 63,
   "metadata": {
    "ExecuteTime": {
     "end_time": "2021-01-25T12:14:44.705845Z",
     "start_time": "2021-01-25T12:14:26.394481Z"
    }
   },
   "outputs": [
    {
     "name": "stdout",
     "output_type": "stream",
     "text": [
      "Simulating draw 5/5\u001b[1K\r"
     ]
    }
   ],
   "source": [
    "model_S2c = vaccin_model(initial_states_sept, scenario=scenario, effectivity=effectivity, Nc_fun=report7_policy_function, N_vacc_fun=vacc_strategy)\n",
    "out_S2c = model_S2c.sim(end_sim2,start_date=start_sim1,warmup=warmup,N=n_samples,draw_fcn=draw_fcn,samples=samples_dict,verbose=True)"
   ]
  },
  {
   "cell_type": "code",
   "execution_count": 64,
   "metadata": {
    "ExecuteTime": {
     "end_time": "2021-01-25T12:14:44.953711Z",
     "start_time": "2021-01-25T12:14:44.716075Z"
    }
   },
   "outputs": [],
   "source": [
    "S2c_H_in_binom = sample_from_binomial(out_S2c, 'H_in', n_draws_per_sample, n_samples, LL, UL)\n",
    "S2c_time = out_S2c[\"time\"].values\n",
    "S2c_alpha = out_S2c['alpha'].mean(dim=\"Nc\").values"
   ]
  },
  {
   "cell_type": "markdown",
   "metadata": {},
   "source": [
    "## S2d - vaccination - new strain"
   ]
  },
  {
   "cell_type": "code",
   "execution_count": 65,
   "metadata": {
    "ExecuteTime": {
     "end_time": "2021-01-25T12:15:07.170053Z",
     "start_time": "2021-01-25T12:14:44.967453Z"
    }
   },
   "outputs": [
    {
     "name": "stdout",
     "output_type": "stream",
     "text": [
      "Simulating draw 5/5\u001b[1K\r"
     ]
    }
   ],
   "source": [
    "model_S2d = vaccin_model(initial_states_sept, scenario=scenario, effectivity=effectivity, Nc_fun=report7_policy_function, N_vacc_fun=vacc_strategy)\n",
    "out_S2d = model_S2d.sim(end_sim1,start_date=start_sim1,warmup=warmup,N=n_samples,draw_fcn=draw_fcn,samples=samples_dict,verbose=True)\n",
    "\n",
    "# Average and pass on state variables\n",
    "initial_states_2 = out_S2d.sel(time=end_sim1).mean(dim=\"draws\")\n",
    "# One promille of British variant on January 15th 2021\n",
    "initial_states_2['alpha'].values = portion_new_strain_introduced*np.ones(9)\n",
    "# Re-Initialize\n",
    "model_S2d_part2 = vaccin_model(initial_states_2, scenario=scenario, effectivity=effectivity, Nc_fun=report7_policy_function, N_vacc_fun=vacc_strategy)\n",
    "out_S2d_part2 = model_S2d_part2.sim(end_sim2,start_date=end_sim1,warmup=warmup,N=n_samples,draw_fcn=draw_fcn,samples=samples_dict,verbose=True)"
   ]
  },
  {
   "cell_type": "code",
   "execution_count": 66,
   "metadata": {
    "ExecuteTime": {
     "end_time": "2021-01-25T12:15:07.285448Z",
     "start_time": "2021-01-25T12:15:07.173834Z"
    }
   },
   "outputs": [],
   "source": [
    "S2d_H_in_binom = sample_from_binomial(out_S2d, 'H_in', n_draws_per_sample, n_samples, LL, UL)\n",
    "S2d_H_in_binom = sample_from_binomial(out_S2d_part2, 'H_in', n_draws_per_sample, n_samples, LL, UL, S2d_H_in_binom)"
   ]
  },
  {
   "cell_type": "code",
   "execution_count": 67,
   "metadata": {
    "ExecuteTime": {
     "end_time": "2021-01-25T12:15:07.403353Z",
     "start_time": "2021-01-25T12:15:07.289869Z"
    }
   },
   "outputs": [],
   "source": [
    "# S2d_H_tot_binom = sample_from_binomial(out_S2d, 'H_tot', n_draws_per_sample, n_samples, LL, UL)\n",
    "# S2d_H_tot_binom = sample_from_binomial(out_S2d_part2, 'H_tot', n_draws_per_sample, n_samples, LL, UL, S2d_H_tot_binom)"
   ]
  },
  {
   "cell_type": "code",
   "execution_count": 68,
   "metadata": {
    "ExecuteTime": {
     "end_time": "2021-01-25T12:15:07.501189Z",
     "start_time": "2021-01-25T12:15:07.407898Z"
    }
   },
   "outputs": [],
   "source": [
    "S2d_time = out_S2d[\"time\"].values\n",
    "S2d_alpha = out_S2d['alpha'].mean(dim=\"Nc\").values\n",
    "S2d_time = np.append(S2d_time, out_S2d_part2['time'].values)\n",
    "S2d_alpha = np.append(S2d_alpha,out_S2d_part2['alpha'].mean(dim=\"Nc\").values,axis=1)"
   ]
  },
  {
   "cell_type": "markdown",
   "metadata": {},
   "source": [
    "## Visualise"
   ]
  },
  {
   "cell_type": "code",
   "execution_count": 69,
   "metadata": {
    "ExecuteTime": {
     "end_time": "2021-01-25T12:15:09.921321Z",
     "start_time": "2021-01-25T12:15:07.510719Z"
    },
    "scrolled": false
   },
   "outputs": [
    {
     "data": {
      "application/javascript": [
       "/* Put everything inside the global mpl namespace */\n",
       "window.mpl = {};\n",
       "\n",
       "\n",
       "mpl.get_websocket_type = function() {\n",
       "    if (typeof(WebSocket) !== 'undefined') {\n",
       "        return WebSocket;\n",
       "    } else if (typeof(MozWebSocket) !== 'undefined') {\n",
       "        return MozWebSocket;\n",
       "    } else {\n",
       "        alert('Your browser does not have WebSocket support. ' +\n",
       "              'Please try Chrome, Safari or Firefox ≥ 6. ' +\n",
       "              'Firefox 4 and 5 are also supported but you ' +\n",
       "              'have to enable WebSockets in about:config.');\n",
       "    };\n",
       "}\n",
       "\n",
       "mpl.figure = function(figure_id, websocket, ondownload, parent_element) {\n",
       "    this.id = figure_id;\n",
       "\n",
       "    this.ws = websocket;\n",
       "\n",
       "    this.supports_binary = (this.ws.binaryType != undefined);\n",
       "\n",
       "    if (!this.supports_binary) {\n",
       "        var warnings = document.getElementById(\"mpl-warnings\");\n",
       "        if (warnings) {\n",
       "            warnings.style.display = 'block';\n",
       "            warnings.textContent = (\n",
       "                \"This browser does not support binary websocket messages. \" +\n",
       "                    \"Performance may be slow.\");\n",
       "        }\n",
       "    }\n",
       "\n",
       "    this.imageObj = new Image();\n",
       "\n",
       "    this.context = undefined;\n",
       "    this.message = undefined;\n",
       "    this.canvas = undefined;\n",
       "    this.rubberband_canvas = undefined;\n",
       "    this.rubberband_context = undefined;\n",
       "    this.format_dropdown = undefined;\n",
       "\n",
       "    this.image_mode = 'full';\n",
       "\n",
       "    this.root = $('<div/>');\n",
       "    this._root_extra_style(this.root)\n",
       "    this.root.attr('style', 'display: inline-block');\n",
       "\n",
       "    $(parent_element).append(this.root);\n",
       "\n",
       "    this._init_header(this);\n",
       "    this._init_canvas(this);\n",
       "    this._init_toolbar(this);\n",
       "\n",
       "    var fig = this;\n",
       "\n",
       "    this.waiting = false;\n",
       "\n",
       "    this.ws.onopen =  function () {\n",
       "            fig.send_message(\"supports_binary\", {value: fig.supports_binary});\n",
       "            fig.send_message(\"send_image_mode\", {});\n",
       "            if (mpl.ratio != 1) {\n",
       "                fig.send_message(\"set_dpi_ratio\", {'dpi_ratio': mpl.ratio});\n",
       "            }\n",
       "            fig.send_message(\"refresh\", {});\n",
       "        }\n",
       "\n",
       "    this.imageObj.onload = function() {\n",
       "            if (fig.image_mode == 'full') {\n",
       "                // Full images could contain transparency (where diff images\n",
       "                // almost always do), so we need to clear the canvas so that\n",
       "                // there is no ghosting.\n",
       "                fig.context.clearRect(0, 0, fig.canvas.width, fig.canvas.height);\n",
       "            }\n",
       "            fig.context.drawImage(fig.imageObj, 0, 0);\n",
       "        };\n",
       "\n",
       "    this.imageObj.onunload = function() {\n",
       "        fig.ws.close();\n",
       "    }\n",
       "\n",
       "    this.ws.onmessage = this._make_on_message_function(this);\n",
       "\n",
       "    this.ondownload = ondownload;\n",
       "}\n",
       "\n",
       "mpl.figure.prototype._init_header = function() {\n",
       "    var titlebar = $(\n",
       "        '<div class=\"ui-dialog-titlebar ui-widget-header ui-corner-all ' +\n",
       "        'ui-helper-clearfix\"/>');\n",
       "    var titletext = $(\n",
       "        '<div class=\"ui-dialog-title\" style=\"width: 100%; ' +\n",
       "        'text-align: center; padding: 3px;\"/>');\n",
       "    titlebar.append(titletext)\n",
       "    this.root.append(titlebar);\n",
       "    this.header = titletext[0];\n",
       "}\n",
       "\n",
       "\n",
       "\n",
       "mpl.figure.prototype._canvas_extra_style = function(canvas_div) {\n",
       "\n",
       "}\n",
       "\n",
       "\n",
       "mpl.figure.prototype._root_extra_style = function(canvas_div) {\n",
       "\n",
       "}\n",
       "\n",
       "mpl.figure.prototype._init_canvas = function() {\n",
       "    var fig = this;\n",
       "\n",
       "    var canvas_div = $('<div/>');\n",
       "\n",
       "    canvas_div.attr('style', 'position: relative; clear: both; outline: 0');\n",
       "\n",
       "    function canvas_keyboard_event(event) {\n",
       "        return fig.key_event(event, event['data']);\n",
       "    }\n",
       "\n",
       "    canvas_div.keydown('key_press', canvas_keyboard_event);\n",
       "    canvas_div.keyup('key_release', canvas_keyboard_event);\n",
       "    this.canvas_div = canvas_div\n",
       "    this._canvas_extra_style(canvas_div)\n",
       "    this.root.append(canvas_div);\n",
       "\n",
       "    var canvas = $('<canvas/>');\n",
       "    canvas.addClass('mpl-canvas');\n",
       "    canvas.attr('style', \"left: 0; top: 0; z-index: 0; outline: 0\")\n",
       "\n",
       "    this.canvas = canvas[0];\n",
       "    this.context = canvas[0].getContext(\"2d\");\n",
       "\n",
       "    var backingStore = this.context.backingStorePixelRatio ||\n",
       "\tthis.context.webkitBackingStorePixelRatio ||\n",
       "\tthis.context.mozBackingStorePixelRatio ||\n",
       "\tthis.context.msBackingStorePixelRatio ||\n",
       "\tthis.context.oBackingStorePixelRatio ||\n",
       "\tthis.context.backingStorePixelRatio || 1;\n",
       "\n",
       "    mpl.ratio = (window.devicePixelRatio || 1) / backingStore;\n",
       "\n",
       "    var rubberband = $('<canvas/>');\n",
       "    rubberband.attr('style', \"position: absolute; left: 0; top: 0; z-index: 1;\")\n",
       "\n",
       "    var pass_mouse_events = true;\n",
       "\n",
       "    canvas_div.resizable({\n",
       "        start: function(event, ui) {\n",
       "            pass_mouse_events = false;\n",
       "        },\n",
       "        resize: function(event, ui) {\n",
       "            fig.request_resize(ui.size.width, ui.size.height);\n",
       "        },\n",
       "        stop: function(event, ui) {\n",
       "            pass_mouse_events = true;\n",
       "            fig.request_resize(ui.size.width, ui.size.height);\n",
       "        },\n",
       "    });\n",
       "\n",
       "    function mouse_event_fn(event) {\n",
       "        if (pass_mouse_events)\n",
       "            return fig.mouse_event(event, event['data']);\n",
       "    }\n",
       "\n",
       "    rubberband.mousedown('button_press', mouse_event_fn);\n",
       "    rubberband.mouseup('button_release', mouse_event_fn);\n",
       "    // Throttle sequential mouse events to 1 every 20ms.\n",
       "    rubberband.mousemove('motion_notify', mouse_event_fn);\n",
       "\n",
       "    rubberband.mouseenter('figure_enter', mouse_event_fn);\n",
       "    rubberband.mouseleave('figure_leave', mouse_event_fn);\n",
       "\n",
       "    canvas_div.on(\"wheel\", function (event) {\n",
       "        event = event.originalEvent;\n",
       "        event['data'] = 'scroll'\n",
       "        if (event.deltaY < 0) {\n",
       "            event.step = 1;\n",
       "        } else {\n",
       "            event.step = -1;\n",
       "        }\n",
       "        mouse_event_fn(event);\n",
       "    });\n",
       "\n",
       "    canvas_div.append(canvas);\n",
       "    canvas_div.append(rubberband);\n",
       "\n",
       "    this.rubberband = rubberband;\n",
       "    this.rubberband_canvas = rubberband[0];\n",
       "    this.rubberband_context = rubberband[0].getContext(\"2d\");\n",
       "    this.rubberband_context.strokeStyle = \"#000000\";\n",
       "\n",
       "    this._resize_canvas = function(width, height) {\n",
       "        // Keep the size of the canvas, canvas container, and rubber band\n",
       "        // canvas in synch.\n",
       "        canvas_div.css('width', width)\n",
       "        canvas_div.css('height', height)\n",
       "\n",
       "        canvas.attr('width', width * mpl.ratio);\n",
       "        canvas.attr('height', height * mpl.ratio);\n",
       "        canvas.attr('style', 'width: ' + width + 'px; height: ' + height + 'px;');\n",
       "\n",
       "        rubberband.attr('width', width);\n",
       "        rubberband.attr('height', height);\n",
       "    }\n",
       "\n",
       "    // Set the figure to an initial 600x600px, this will subsequently be updated\n",
       "    // upon first draw.\n",
       "    this._resize_canvas(600, 600);\n",
       "\n",
       "    // Disable right mouse context menu.\n",
       "    $(this.rubberband_canvas).bind(\"contextmenu\",function(e){\n",
       "        return false;\n",
       "    });\n",
       "\n",
       "    function set_focus () {\n",
       "        canvas.focus();\n",
       "        canvas_div.focus();\n",
       "    }\n",
       "\n",
       "    window.setTimeout(set_focus, 100);\n",
       "}\n",
       "\n",
       "mpl.figure.prototype._init_toolbar = function() {\n",
       "    var fig = this;\n",
       "\n",
       "    var nav_element = $('<div/>');\n",
       "    nav_element.attr('style', 'width: 100%');\n",
       "    this.root.append(nav_element);\n",
       "\n",
       "    // Define a callback function for later on.\n",
       "    function toolbar_event(event) {\n",
       "        return fig.toolbar_button_onclick(event['data']);\n",
       "    }\n",
       "    function toolbar_mouse_event(event) {\n",
       "        return fig.toolbar_button_onmouseover(event['data']);\n",
       "    }\n",
       "\n",
       "    for(var toolbar_ind in mpl.toolbar_items) {\n",
       "        var name = mpl.toolbar_items[toolbar_ind][0];\n",
       "        var tooltip = mpl.toolbar_items[toolbar_ind][1];\n",
       "        var image = mpl.toolbar_items[toolbar_ind][2];\n",
       "        var method_name = mpl.toolbar_items[toolbar_ind][3];\n",
       "\n",
       "        if (!name) {\n",
       "            // put a spacer in here.\n",
       "            continue;\n",
       "        }\n",
       "        var button = $('<button/>');\n",
       "        button.addClass('ui-button ui-widget ui-state-default ui-corner-all ' +\n",
       "                        'ui-button-icon-only');\n",
       "        button.attr('role', 'button');\n",
       "        button.attr('aria-disabled', 'false');\n",
       "        button.click(method_name, toolbar_event);\n",
       "        button.mouseover(tooltip, toolbar_mouse_event);\n",
       "\n",
       "        var icon_img = $('<span/>');\n",
       "        icon_img.addClass('ui-button-icon-primary ui-icon');\n",
       "        icon_img.addClass(image);\n",
       "        icon_img.addClass('ui-corner-all');\n",
       "\n",
       "        var tooltip_span = $('<span/>');\n",
       "        tooltip_span.addClass('ui-button-text');\n",
       "        tooltip_span.html(tooltip);\n",
       "\n",
       "        button.append(icon_img);\n",
       "        button.append(tooltip_span);\n",
       "\n",
       "        nav_element.append(button);\n",
       "    }\n",
       "\n",
       "    var fmt_picker_span = $('<span/>');\n",
       "\n",
       "    var fmt_picker = $('<select/>');\n",
       "    fmt_picker.addClass('mpl-toolbar-option ui-widget ui-widget-content');\n",
       "    fmt_picker_span.append(fmt_picker);\n",
       "    nav_element.append(fmt_picker_span);\n",
       "    this.format_dropdown = fmt_picker[0];\n",
       "\n",
       "    for (var ind in mpl.extensions) {\n",
       "        var fmt = mpl.extensions[ind];\n",
       "        var option = $(\n",
       "            '<option/>', {selected: fmt === mpl.default_extension}).html(fmt);\n",
       "        fmt_picker.append(option);\n",
       "    }\n",
       "\n",
       "    // Add hover states to the ui-buttons\n",
       "    $( \".ui-button\" ).hover(\n",
       "        function() { $(this).addClass(\"ui-state-hover\");},\n",
       "        function() { $(this).removeClass(\"ui-state-hover\");}\n",
       "    );\n",
       "\n",
       "    var status_bar = $('<span class=\"mpl-message\"/>');\n",
       "    nav_element.append(status_bar);\n",
       "    this.message = status_bar[0];\n",
       "}\n",
       "\n",
       "mpl.figure.prototype.request_resize = function(x_pixels, y_pixels) {\n",
       "    // Request matplotlib to resize the figure. Matplotlib will then trigger a resize in the client,\n",
       "    // which will in turn request a refresh of the image.\n",
       "    this.send_message('resize', {'width': x_pixels, 'height': y_pixels});\n",
       "}\n",
       "\n",
       "mpl.figure.prototype.send_message = function(type, properties) {\n",
       "    properties['type'] = type;\n",
       "    properties['figure_id'] = this.id;\n",
       "    this.ws.send(JSON.stringify(properties));\n",
       "}\n",
       "\n",
       "mpl.figure.prototype.send_draw_message = function() {\n",
       "    if (!this.waiting) {\n",
       "        this.waiting = true;\n",
       "        this.ws.send(JSON.stringify({type: \"draw\", figure_id: this.id}));\n",
       "    }\n",
       "}\n",
       "\n",
       "\n",
       "mpl.figure.prototype.handle_save = function(fig, msg) {\n",
       "    var format_dropdown = fig.format_dropdown;\n",
       "    var format = format_dropdown.options[format_dropdown.selectedIndex].value;\n",
       "    fig.ondownload(fig, format);\n",
       "}\n",
       "\n",
       "\n",
       "mpl.figure.prototype.handle_resize = function(fig, msg) {\n",
       "    var size = msg['size'];\n",
       "    if (size[0] != fig.canvas.width || size[1] != fig.canvas.height) {\n",
       "        fig._resize_canvas(size[0], size[1]);\n",
       "        fig.send_message(\"refresh\", {});\n",
       "    };\n",
       "}\n",
       "\n",
       "mpl.figure.prototype.handle_rubberband = function(fig, msg) {\n",
       "    var x0 = msg['x0'] / mpl.ratio;\n",
       "    var y0 = (fig.canvas.height - msg['y0']) / mpl.ratio;\n",
       "    var x1 = msg['x1'] / mpl.ratio;\n",
       "    var y1 = (fig.canvas.height - msg['y1']) / mpl.ratio;\n",
       "    x0 = Math.floor(x0) + 0.5;\n",
       "    y0 = Math.floor(y0) + 0.5;\n",
       "    x1 = Math.floor(x1) + 0.5;\n",
       "    y1 = Math.floor(y1) + 0.5;\n",
       "    var min_x = Math.min(x0, x1);\n",
       "    var min_y = Math.min(y0, y1);\n",
       "    var width = Math.abs(x1 - x0);\n",
       "    var height = Math.abs(y1 - y0);\n",
       "\n",
       "    fig.rubberband_context.clearRect(\n",
       "        0, 0, fig.canvas.width / mpl.ratio, fig.canvas.height / mpl.ratio);\n",
       "\n",
       "    fig.rubberband_context.strokeRect(min_x, min_y, width, height);\n",
       "}\n",
       "\n",
       "mpl.figure.prototype.handle_figure_label = function(fig, msg) {\n",
       "    // Updates the figure title.\n",
       "    fig.header.textContent = msg['label'];\n",
       "}\n",
       "\n",
       "mpl.figure.prototype.handle_cursor = function(fig, msg) {\n",
       "    var cursor = msg['cursor'];\n",
       "    switch(cursor)\n",
       "    {\n",
       "    case 0:\n",
       "        cursor = 'pointer';\n",
       "        break;\n",
       "    case 1:\n",
       "        cursor = 'default';\n",
       "        break;\n",
       "    case 2:\n",
       "        cursor = 'crosshair';\n",
       "        break;\n",
       "    case 3:\n",
       "        cursor = 'move';\n",
       "        break;\n",
       "    }\n",
       "    fig.rubberband_canvas.style.cursor = cursor;\n",
       "}\n",
       "\n",
       "mpl.figure.prototype.handle_message = function(fig, msg) {\n",
       "    fig.message.textContent = msg['message'];\n",
       "}\n",
       "\n",
       "mpl.figure.prototype.handle_draw = function(fig, msg) {\n",
       "    // Request the server to send over a new figure.\n",
       "    fig.send_draw_message();\n",
       "}\n",
       "\n",
       "mpl.figure.prototype.handle_image_mode = function(fig, msg) {\n",
       "    fig.image_mode = msg['mode'];\n",
       "}\n",
       "\n",
       "mpl.figure.prototype.updated_canvas_event = function() {\n",
       "    // Called whenever the canvas gets updated.\n",
       "    this.send_message(\"ack\", {});\n",
       "}\n",
       "\n",
       "// A function to construct a web socket function for onmessage handling.\n",
       "// Called in the figure constructor.\n",
       "mpl.figure.prototype._make_on_message_function = function(fig) {\n",
       "    return function socket_on_message(evt) {\n",
       "        if (evt.data instanceof Blob) {\n",
       "            /* FIXME: We get \"Resource interpreted as Image but\n",
       "             * transferred with MIME type text/plain:\" errors on\n",
       "             * Chrome.  But how to set the MIME type?  It doesn't seem\n",
       "             * to be part of the websocket stream */\n",
       "            evt.data.type = \"image/png\";\n",
       "\n",
       "            /* Free the memory for the previous frames */\n",
       "            if (fig.imageObj.src) {\n",
       "                (window.URL || window.webkitURL).revokeObjectURL(\n",
       "                    fig.imageObj.src);\n",
       "            }\n",
       "\n",
       "            fig.imageObj.src = (window.URL || window.webkitURL).createObjectURL(\n",
       "                evt.data);\n",
       "            fig.updated_canvas_event();\n",
       "            fig.waiting = false;\n",
       "            return;\n",
       "        }\n",
       "        else if (typeof evt.data === 'string' && evt.data.slice(0, 21) == \"data:image/png;base64\") {\n",
       "            fig.imageObj.src = evt.data;\n",
       "            fig.updated_canvas_event();\n",
       "            fig.waiting = false;\n",
       "            return;\n",
       "        }\n",
       "\n",
       "        var msg = JSON.parse(evt.data);\n",
       "        var msg_type = msg['type'];\n",
       "\n",
       "        // Call the  \"handle_{type}\" callback, which takes\n",
       "        // the figure and JSON message as its only arguments.\n",
       "        try {\n",
       "            var callback = fig[\"handle_\" + msg_type];\n",
       "        } catch (e) {\n",
       "            console.log(\"No handler for the '\" + msg_type + \"' message type: \", msg);\n",
       "            return;\n",
       "        }\n",
       "\n",
       "        if (callback) {\n",
       "            try {\n",
       "                // console.log(\"Handling '\" + msg_type + \"' message: \", msg);\n",
       "                callback(fig, msg);\n",
       "            } catch (e) {\n",
       "                console.log(\"Exception inside the 'handler_\" + msg_type + \"' callback:\", e, e.stack, msg);\n",
       "            }\n",
       "        }\n",
       "    };\n",
       "}\n",
       "\n",
       "// from http://stackoverflow.com/questions/1114465/getting-mouse-location-in-canvas\n",
       "mpl.findpos = function(e) {\n",
       "    //this section is from http://www.quirksmode.org/js/events_properties.html\n",
       "    var targ;\n",
       "    if (!e)\n",
       "        e = window.event;\n",
       "    if (e.target)\n",
       "        targ = e.target;\n",
       "    else if (e.srcElement)\n",
       "        targ = e.srcElement;\n",
       "    if (targ.nodeType == 3) // defeat Safari bug\n",
       "        targ = targ.parentNode;\n",
       "\n",
       "    // jQuery normalizes the pageX and pageY\n",
       "    // pageX,Y are the mouse positions relative to the document\n",
       "    // offset() returns the position of the element relative to the document\n",
       "    var x = e.pageX - $(targ).offset().left;\n",
       "    var y = e.pageY - $(targ).offset().top;\n",
       "\n",
       "    return {\"x\": x, \"y\": y};\n",
       "};\n",
       "\n",
       "/*\n",
       " * return a copy of an object with only non-object keys\n",
       " * we need this to avoid circular references\n",
       " * http://stackoverflow.com/a/24161582/3208463\n",
       " */\n",
       "function simpleKeys (original) {\n",
       "  return Object.keys(original).reduce(function (obj, key) {\n",
       "    if (typeof original[key] !== 'object')\n",
       "        obj[key] = original[key]\n",
       "    return obj;\n",
       "  }, {});\n",
       "}\n",
       "\n",
       "mpl.figure.prototype.mouse_event = function(event, name) {\n",
       "    var canvas_pos = mpl.findpos(event)\n",
       "\n",
       "    if (name === 'button_press')\n",
       "    {\n",
       "        this.canvas.focus();\n",
       "        this.canvas_div.focus();\n",
       "    }\n",
       "\n",
       "    var x = canvas_pos.x * mpl.ratio;\n",
       "    var y = canvas_pos.y * mpl.ratio;\n",
       "\n",
       "    this.send_message(name, {x: x, y: y, button: event.button,\n",
       "                             step: event.step,\n",
       "                             guiEvent: simpleKeys(event)});\n",
       "\n",
       "    /* This prevents the web browser from automatically changing to\n",
       "     * the text insertion cursor when the button is pressed.  We want\n",
       "     * to control all of the cursor setting manually through the\n",
       "     * 'cursor' event from matplotlib */\n",
       "    event.preventDefault();\n",
       "    return false;\n",
       "}\n",
       "\n",
       "mpl.figure.prototype._key_event_extra = function(event, name) {\n",
       "    // Handle any extra behaviour associated with a key event\n",
       "}\n",
       "\n",
       "mpl.figure.prototype.key_event = function(event, name) {\n",
       "\n",
       "    // Prevent repeat events\n",
       "    if (name == 'key_press')\n",
       "    {\n",
       "        if (event.which === this._key)\n",
       "            return;\n",
       "        else\n",
       "            this._key = event.which;\n",
       "    }\n",
       "    if (name == 'key_release')\n",
       "        this._key = null;\n",
       "\n",
       "    var value = '';\n",
       "    if (event.ctrlKey && event.which != 17)\n",
       "        value += \"ctrl+\";\n",
       "    if (event.altKey && event.which != 18)\n",
       "        value += \"alt+\";\n",
       "    if (event.shiftKey && event.which != 16)\n",
       "        value += \"shift+\";\n",
       "\n",
       "    value += 'k';\n",
       "    value += event.which.toString();\n",
       "\n",
       "    this._key_event_extra(event, name);\n",
       "\n",
       "    this.send_message(name, {key: value,\n",
       "                             guiEvent: simpleKeys(event)});\n",
       "    return false;\n",
       "}\n",
       "\n",
       "mpl.figure.prototype.toolbar_button_onclick = function(name) {\n",
       "    if (name == 'download') {\n",
       "        this.handle_save(this, null);\n",
       "    } else {\n",
       "        this.send_message(\"toolbar_button\", {name: name});\n",
       "    }\n",
       "};\n",
       "\n",
       "mpl.figure.prototype.toolbar_button_onmouseover = function(tooltip) {\n",
       "    this.message.textContent = tooltip;\n",
       "};\n",
       "mpl.toolbar_items = [[\"Home\", \"Reset original view\", \"fa fa-home icon-home\", \"home\"], [\"Back\", \"Back to previous view\", \"fa fa-arrow-left icon-arrow-left\", \"back\"], [\"Forward\", \"Forward to next view\", \"fa fa-arrow-right icon-arrow-right\", \"forward\"], [\"\", \"\", \"\", \"\"], [\"Pan\", \"Pan axes with left mouse, zoom with right\", \"fa fa-arrows icon-move\", \"pan\"], [\"Zoom\", \"Zoom to rectangle\", \"fa fa-square-o icon-check-empty\", \"zoom\"], [\"\", \"\", \"\", \"\"], [\"Download\", \"Download plot\", \"fa fa-floppy-o icon-save\", \"download\"]];\n",
       "\n",
       "mpl.extensions = [\"eps\", \"jpeg\", \"pdf\", \"png\", \"ps\", \"raw\", \"svg\", \"tif\"];\n",
       "\n",
       "mpl.default_extension = \"png\";var comm_websocket_adapter = function(comm) {\n",
       "    // Create a \"websocket\"-like object which calls the given IPython comm\n",
       "    // object with the appropriate methods. Currently this is a non binary\n",
       "    // socket, so there is still some room for performance tuning.\n",
       "    var ws = {};\n",
       "\n",
       "    ws.close = function() {\n",
       "        comm.close()\n",
       "    };\n",
       "    ws.send = function(m) {\n",
       "        //console.log('sending', m);\n",
       "        comm.send(m);\n",
       "    };\n",
       "    // Register the callback with on_msg.\n",
       "    comm.on_msg(function(msg) {\n",
       "        //console.log('receiving', msg['content']['data'], msg);\n",
       "        // Pass the mpl event to the overridden (by mpl) onmessage function.\n",
       "        ws.onmessage(msg['content']['data'])\n",
       "    });\n",
       "    return ws;\n",
       "}\n",
       "\n",
       "mpl.mpl_figure_comm = function(comm, msg) {\n",
       "    // This is the function which gets called when the mpl process\n",
       "    // starts-up an IPython Comm through the \"matplotlib\" channel.\n",
       "\n",
       "    var id = msg.content.data.id;\n",
       "    // Get hold of the div created by the display call when the Comm\n",
       "    // socket was opened in Python.\n",
       "    var element = $(\"#\" + id);\n",
       "    var ws_proxy = comm_websocket_adapter(comm)\n",
       "\n",
       "    function ondownload(figure, format) {\n",
       "        window.open(figure.imageObj.src);\n",
       "    }\n",
       "\n",
       "    var fig = new mpl.figure(id, ws_proxy,\n",
       "                           ondownload,\n",
       "                           element.get(0));\n",
       "\n",
       "    // Call onopen now - mpl needs it, as it is assuming we've passed it a real\n",
       "    // web socket which is closed, not our websocket->open comm proxy.\n",
       "    ws_proxy.onopen();\n",
       "\n",
       "    fig.parent_element = element.get(0);\n",
       "    fig.cell_info = mpl.find_output_cell(\"<div id='\" + id + \"'></div>\");\n",
       "    if (!fig.cell_info) {\n",
       "        console.error(\"Failed to find cell for figure\", id, fig);\n",
       "        return;\n",
       "    }\n",
       "\n",
       "    var output_index = fig.cell_info[2]\n",
       "    var cell = fig.cell_info[0];\n",
       "\n",
       "};\n",
       "\n",
       "mpl.figure.prototype.handle_close = function(fig, msg) {\n",
       "    var width = fig.canvas.width/mpl.ratio\n",
       "    fig.root.unbind('remove')\n",
       "\n",
       "    // Update the output cell to use the data from the current canvas.\n",
       "    fig.push_to_output();\n",
       "    var dataURL = fig.canvas.toDataURL();\n",
       "    // Re-enable the keyboard manager in IPython - without this line, in FF,\n",
       "    // the notebook keyboard shortcuts fail.\n",
       "    IPython.keyboard_manager.enable()\n",
       "    $(fig.parent_element).html('<img src=\"' + dataURL + '\" width=\"' + width + '\">');\n",
       "    fig.close_ws(fig, msg);\n",
       "}\n",
       "\n",
       "mpl.figure.prototype.close_ws = function(fig, msg){\n",
       "    fig.send_message('closing', msg);\n",
       "    // fig.ws.close()\n",
       "}\n",
       "\n",
       "mpl.figure.prototype.push_to_output = function(remove_interactive) {\n",
       "    // Turn the data on the canvas into data in the output cell.\n",
       "    var width = this.canvas.width/mpl.ratio\n",
       "    var dataURL = this.canvas.toDataURL();\n",
       "    this.cell_info[1]['text/html'] = '<img src=\"' + dataURL + '\" width=\"' + width + '\">';\n",
       "}\n",
       "\n",
       "mpl.figure.prototype.updated_canvas_event = function() {\n",
       "    // Tell IPython that the notebook contents must change.\n",
       "    IPython.notebook.set_dirty(true);\n",
       "    this.send_message(\"ack\", {});\n",
       "    var fig = this;\n",
       "    // Wait a second, then push the new image to the DOM so\n",
       "    // that it is saved nicely (might be nice to debounce this).\n",
       "    setTimeout(function () { fig.push_to_output() }, 1000);\n",
       "}\n",
       "\n",
       "mpl.figure.prototype._init_toolbar = function() {\n",
       "    var fig = this;\n",
       "\n",
       "    var nav_element = $('<div/>');\n",
       "    nav_element.attr('style', 'width: 100%');\n",
       "    this.root.append(nav_element);\n",
       "\n",
       "    // Define a callback function for later on.\n",
       "    function toolbar_event(event) {\n",
       "        return fig.toolbar_button_onclick(event['data']);\n",
       "    }\n",
       "    function toolbar_mouse_event(event) {\n",
       "        return fig.toolbar_button_onmouseover(event['data']);\n",
       "    }\n",
       "\n",
       "    for(var toolbar_ind in mpl.toolbar_items){\n",
       "        var name = mpl.toolbar_items[toolbar_ind][0];\n",
       "        var tooltip = mpl.toolbar_items[toolbar_ind][1];\n",
       "        var image = mpl.toolbar_items[toolbar_ind][2];\n",
       "        var method_name = mpl.toolbar_items[toolbar_ind][3];\n",
       "\n",
       "        if (!name) { continue; };\n",
       "\n",
       "        var button = $('<button class=\"btn btn-default\" href=\"#\" title=\"' + name + '\"><i class=\"fa ' + image + ' fa-lg\"></i></button>');\n",
       "        button.click(method_name, toolbar_event);\n",
       "        button.mouseover(tooltip, toolbar_mouse_event);\n",
       "        nav_element.append(button);\n",
       "    }\n",
       "\n",
       "    // Add the status bar.\n",
       "    var status_bar = $('<span class=\"mpl-message\" style=\"text-align:right; float: right;\"/>');\n",
       "    nav_element.append(status_bar);\n",
       "    this.message = status_bar[0];\n",
       "\n",
       "    // Add the close button to the window.\n",
       "    var buttongrp = $('<div class=\"btn-group inline pull-right\"></div>');\n",
       "    var button = $('<button class=\"btn btn-mini btn-primary\" href=\"#\" title=\"Stop Interaction\"><i class=\"fa fa-power-off icon-remove icon-large\"></i></button>');\n",
       "    button.click(function (evt) { fig.handle_close(fig, {}); } );\n",
       "    button.mouseover('Stop Interaction', toolbar_mouse_event);\n",
       "    buttongrp.append(button);\n",
       "    var titlebar = this.root.find($('.ui-dialog-titlebar'));\n",
       "    titlebar.prepend(buttongrp);\n",
       "}\n",
       "\n",
       "mpl.figure.prototype._root_extra_style = function(el){\n",
       "    var fig = this\n",
       "    el.on(\"remove\", function(){\n",
       "\tfig.close_ws(fig, {});\n",
       "    });\n",
       "}\n",
       "\n",
       "mpl.figure.prototype._canvas_extra_style = function(el){\n",
       "    // this is important to make the div 'focusable\n",
       "    el.attr('tabindex', 0)\n",
       "    // reach out to IPython and tell the keyboard manager to turn it's self\n",
       "    // off when our div gets focus\n",
       "\n",
       "    // location in version 3\n",
       "    if (IPython.notebook.keyboard_manager) {\n",
       "        IPython.notebook.keyboard_manager.register_events(el);\n",
       "    }\n",
       "    else {\n",
       "        // location in version 2\n",
       "        IPython.keyboard_manager.register_events(el);\n",
       "    }\n",
       "\n",
       "}\n",
       "\n",
       "mpl.figure.prototype._key_event_extra = function(event, name) {\n",
       "    var manager = IPython.notebook.keyboard_manager;\n",
       "    if (!manager)\n",
       "        manager = IPython.keyboard_manager;\n",
       "\n",
       "    // Check for shift+enter\n",
       "    if (event.shiftKey && event.which == 13) {\n",
       "        this.canvas_div.blur();\n",
       "        // select the cell after this one\n",
       "        var index = IPython.notebook.find_cell_index(this.cell_info[0]);\n",
       "        IPython.notebook.select(index + 1);\n",
       "    }\n",
       "}\n",
       "\n",
       "mpl.figure.prototype.handle_save = function(fig, msg) {\n",
       "    fig.ondownload(fig, null);\n",
       "}\n",
       "\n",
       "\n",
       "mpl.find_output_cell = function(html_output) {\n",
       "    // Return the cell and output element which can be found *uniquely* in the notebook.\n",
       "    // Note - this is a bit hacky, but it is done because the \"notebook_saving.Notebook\"\n",
       "    // IPython event is triggered only after the cells have been serialised, which for\n",
       "    // our purposes (turning an active figure into a static one), is too late.\n",
       "    var cells = IPython.notebook.get_cells();\n",
       "    var ncells = cells.length;\n",
       "    for (var i=0; i<ncells; i++) {\n",
       "        var cell = cells[i];\n",
       "        if (cell.cell_type === 'code'){\n",
       "            for (var j=0; j<cell.output_area.outputs.length; j++) {\n",
       "                var data = cell.output_area.outputs[j];\n",
       "                if (data.data) {\n",
       "                    // IPython >= 3 moved mimebundle to data attribute of output\n",
       "                    data = data.data;\n",
       "                }\n",
       "                if (data['text/html'] == html_output) {\n",
       "                    return [cell, data, j];\n",
       "                }\n",
       "            }\n",
       "        }\n",
       "    }\n",
       "}\n",
       "\n",
       "// Register the function which deals with the matplotlib target/channel.\n",
       "// The kernel may be null if the page has been refreshed.\n",
       "if (IPython.notebook.kernel != null) {\n",
       "    IPython.notebook.kernel.comm_manager.register_target('matplotlib', mpl.mpl_figure_comm);\n",
       "}\n"
      ],
      "text/plain": [
       "<IPython.core.display.Javascript object>"
      ]
     },
     "metadata": {},
     "output_type": "display_data"
    },
    {
     "data": {
      "text/html": [
       "<img src=\"data:image/png;base64,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\" width=\"1000\">"
      ],
      "text/plain": [
       "<IPython.core.display.HTML object>"
      ]
     },
     "metadata": {},
     "output_type": "display_data"
    }
   ],
   "source": [
    "# ----------------\n",
    "# Visualize result\n",
    "# ----------------\n",
    "# Plot\n",
    "fig,(ax1, ax3) = plt.subplots(2,sharex=True,figsize=(10,10))\n",
    "legend_pos = (0.5, 1.25)\n",
    "legend_col = 2\n",
    "\n",
    "# Incidence\n",
    "plot_band_binom(ax1, S2a_time, S2a_H_in_binom, 'green', label='no new strain')\n",
    "plot_band_binom(ax1, S2b_time, S2b_H_in_binom, 'blue', label='new strain on 15/1')\n",
    "plot_band_binom(ax1, S2c_time, S2c_H_in_binom, 'orange', label='no new strain - vacc')\n",
    "plot_band_binom(ax1, S2d_time, S2d_H_in_binom, 'red', label='new strain on 15/1 - vacc')\n",
    "\n",
    "ax1.scatter(df_sciensano[start_sim1:end_sim1].index,df_sciensano['H_in'][start_sim1:end_sim1],color='black',alpha=0.4,linestyle='None',facecolors='none')\n",
    "ax1.legend(loc='upper center', bbox_to_anchor=legend_pos, ncol=legend_col)\n",
    "\n",
    "# Load\n",
    "# plot_band_binom(ax2, S2b_time, S2b_H_tot_binom, 'blue', label='H_in')\n",
    "# ax2.scatter(df_sciensano[start_sim1:end_sim1].index,df_sciensano['H_tot'][start_sim1:end_sim1],color='black',alpha=0.4,linestyle='None',facecolors='none')\n",
    "\n",
    "# British variant\n",
    "# ax3.plot(S2a_time,np.mean(S2a_alpha,axis=0)*100,'--', color='green', label='no new strain')\n",
    "# ax3.plot(S2b_time,np.mean(S2b_alpha,axis=0)*100,'--', color='blue', label='new strain on 15/1')\n",
    "# ax3.fill_between(S2b_time,np.quantile(S2b_alpha,UL,axis=0)*100, np.quantile(S2b_alpha,LL,axis=0)*100,alpha=0.20, color = 'blue')\n",
    "plot_band_binom(ax3, S2a_time, S2a_alpha*100, 'green', label='no new strain', axis=0)\n",
    "plot_band_binom(ax3, S2b_time, S2b_alpha*100, 'blue', label='new strain on 15/1', axis=0)\n",
    "plot_band_binom(ax3, S2c_time, S2c_alpha*100, 'orange', label='no new strain - vacc', axis=0)\n",
    "plot_band_binom(ax3, S2d_time, S2d_alpha*100, 'red', label='new strain on 15/1 - vacc', axis=0)\n",
    "\n",
    "# Format\n",
    "ax1.set_title('New hospitalizations')\n",
    "ax1.set_ylabel('$H_{in} $(-)')\n",
    "ax1.set_xlim('2020-09-01',end_sim2)\n",
    "ax1.axvline(x=pd.to_datetime('2021-01-15'),color='black')\n",
    "ax1.text(pd.Timestamp('2021-01-16'),750, ' introduction \\n new strain', fontsize=10)\n",
    "ax1 = _apply_tick_locator(ax1)\n",
    "# ax2.set_title('Total patients in hospital')\n",
    "# ax2.set_ylabel('$H_{tot}$ (-)')\n",
    "# ax2.set_xlim('2020-09-01',end_sim2)\n",
    "# ax2.axvline(x=pd.to_datetime('2021-01-15'),color='red')\n",
    "# ax2 = _apply_tick_locator(ax2)\n",
    "ax3.set_title('Prevalence of new strain')\n",
    "ax3.set_ylabel('$\\\\alpha$ (%)')\n",
    "ax3.axvline(x=pd.to_datetime('2021-01-15'),color='black')\n",
    "ax3.set_xlim('2020-09-01',end_sim2)\n",
    "ax3.set_ylim(0,100)\n",
    "ax3 = _apply_tick_locator(ax3)\n",
    "date_exceed = get_date_of_exceeding_alpha(out_S2b_part2, ['Nc', 'draws'], 0.25)\n",
    "ax3.axvline(x=date_exceed, color='gray')\n",
    "ax3.text(date_exceed+pd.Timedelta('1D'),10, ' exceeding \\n 25% on {}/{}'.format(date_exceed.day, date_exceed.month), \n",
    "         fontsize=10, color='gray')\n",
    "\n",
    "\n",
    "fig.suptitle('Scenarios release on  March 1')\n",
    "\n",
    "fig_path =  '../../results/predictions/national/restore_v7.0/'\n",
    "#fig.savefig(fig_path+'restore_v7.0_'+'British_variant'+'.pdf', dpi=400, bbox_inches='tight')\n",
    "fig.savefig(fig_path+'S2'+'.jpg', dpi=400, bbox_inches='tight')"
   ]
  },
  {
   "cell_type": "code",
   "execution_count": null,
   "metadata": {
    "ExecuteTime": {
     "end_time": "2021-01-25T10:38:47.401074Z",
     "start_time": "2021-01-25T10:38:47.355453Z"
    },
    "scrolled": false
   },
   "outputs": [],
   "source": [
    "date_exceed = get_date_of_exceeding_alpha(out_S1b_part2, ['Nc', 'draws'], 0.25)"
   ]
  },
  {
   "cell_type": "code",
   "execution_count": null,
   "metadata": {
    "ExecuteTime": {
     "end_time": "2021-01-25T10:35:58.631558Z",
     "start_time": "2021-01-25T10:35:58.585829Z"
    }
   },
   "outputs": [],
   "source": [
    "check_overtake_duration(out_S1b_part2, ['Nc', 'draws'])"
   ]
  },
  {
   "cell_type": "markdown",
   "metadata": {
    "heading_collapsed": true
   },
   "source": [
    "# Save data"
   ]
  },
  {
   "cell_type": "code",
   "execution_count": null,
   "metadata": {
    "ExecuteTime": {
     "end_time": "2020-12-02T14:16:52.388637Z",
     "start_time": "2020-12-02T14:16:49.210634Z"
    },
    "hidden": true
   },
   "outputs": [],
   "source": [
    "S_results_H_in = pd.DataFrame()\n",
    "S_results_H_in['time'] =  y_model_S1['time']\n",
    "var = 'H_in'\n",
    "for x in ['S1', 'S4a', 'S4b', 'S4c', 'S4d', 'S5a', 'S5b', 'S5c', 'S5d']:\n",
    "    mod = eval('y_model_'+x)\n",
    "    S_results_H_in[x] = mod[var].mean(dim=\"draws\").sum(dim=\"Nc\")\n",
    "    S_results_H_in[x+'_LL'] =  mod[var].quantile(LL,dim=\"draws\").sum(dim=\"Nc\")\n",
    "    S_results_H_in[x+'_UL'] =  mod[var].quantile(UL,dim=\"draws\").sum(dim=\"Nc\")\n",
    "S_results_H_in.to_csv('../../results/vaccinations/national/S_results_H_in.csv', index=None)"
   ]
  },
  {
   "cell_type": "code",
   "execution_count": null,
   "metadata": {
    "ExecuteTime": {
     "end_time": "2020-12-02T14:16:56.516592Z",
     "start_time": "2020-12-02T14:16:52.391009Z"
    },
    "hidden": true
   },
   "outputs": [],
   "source": [
    "S_results_D = pd.DataFrame()\n",
    "S_results_D['time'] =  y_model_S1['time']\n",
    "var = 'D'\n",
    "for x in ['S1', 'S4a', 'S4b', 'S4c', 'S4d', 'S5a', 'S5b', 'S5c', 'S5d']:\n",
    "    mod = eval('y_model_'+x)\n",
    "    S_results_D[x] = mod[var].mean(dim=\"draws\").sum(dim=\"Nc\")\n",
    "    S_results_D[x+'_LL'] =  mod[var].quantile(LL,dim=\"draws\").sum(dim=\"Nc\")\n",
    "    S_results_D[x+'_UL'] =  mod[var].quantile(UL,dim=\"draws\").sum(dim=\"Nc\")\n",
    "S_results_D.to_csv('../../results/vaccinations/national/S_results_D.csv', index=None)"
   ]
  },
  {
   "cell_type": "code",
   "execution_count": null,
   "metadata": {
    "ExecuteTime": {
     "end_time": "2020-12-02T14:17:00.043567Z",
     "start_time": "2020-12-02T14:16:56.519317Z"
    },
    "hidden": true
   },
   "outputs": [],
   "source": [
    "F_results_H_in = pd.DataFrame()\n",
    "F_results_H_in['time'] =  y_model_F1['time']\n",
    "var = 'H_in'\n",
    "for x in ['F1', 'F4a', 'F4b', 'F4c', 'F4d', 'F5a', 'F5b', 'F5c', 'F5d']:\n",
    "    mod = eval('y_model_'+x)\n",
    "    F_results_H_in[x] = mod[var].mean(dim=\"draws\").sum(dim=\"Nc\")\n",
    "    F_results_H_in[x+'_LL'] =  mod[var].quantile(LL,dim=\"draws\").sum(dim=\"Nc\")\n",
    "    F_results_H_in[x+'_UL'] =  mod[var].quantile(UL,dim=\"draws\").sum(dim=\"Nc\")\n",
    "F_results_H_in.to_csv('../../results/vaccinations/national/F_results_H_in.csv', index=None)"
   ]
  },
  {
   "cell_type": "code",
   "execution_count": null,
   "metadata": {
    "ExecuteTime": {
     "end_time": "2020-12-02T14:17:03.740426Z",
     "start_time": "2020-12-02T14:17:00.047958Z"
    },
    "hidden": true
   },
   "outputs": [],
   "source": [
    "F_results_D = pd.DataFrame()\n",
    "F_results_D['time'] =  y_model_F1['time']\n",
    "var = 'D'\n",
    "for x in ['F1', 'F4a', 'F4b', 'F4c', 'F4d', 'F5a', 'F5b', 'F5c', 'F5d']:\n",
    "    mod = eval('y_model_'+x)\n",
    "    F_results_D[x] = mod[var].mean(dim=\"draws\").sum(dim=\"Nc\")\n",
    "    F_results_D[x+'_LL'] =  mod[var].quantile(LL,dim=\"draws\").sum(dim=\"Nc\")\n",
    "    F_results_D[x+'_UL'] =  mod[var].quantile(UL,dim=\"draws\").sum(dim=\"Nc\")\n",
    "F_results_D.to_csv('../../results/vaccinations/national/F_results_D.csv', index=None)"
   ]
  },
  {
   "cell_type": "markdown",
   "metadata": {
    "ExecuteTime": {
     "end_time": "2020-12-02T09:47:36.607419Z",
     "start_time": "2020-12-02T09:47:33.398902Z"
    },
    "heading_collapsed": true
   },
   "source": [
    "# Plot saved data"
   ]
  },
  {
   "cell_type": "code",
   "execution_count": null,
   "metadata": {
    "ExecuteTime": {
     "end_time": "2020-12-02T12:05:19.070053Z",
     "start_time": "2020-12-02T12:05:19.026546Z"
    },
    "hidden": true
   },
   "outputs": [],
   "source": [
    "S_results_H_in = pd.read_csv('../../results/vaccinations/national/S_results_H_in.csv', parse_dates=['time'])"
   ]
  },
  {
   "cell_type": "code",
   "execution_count": null,
   "metadata": {
    "hidden": true
   },
   "outputs": [],
   "source": [
    "plot_band_saved_data(ax3, S_results_H_in, 'S1', 'S1_LL', 'S1_UL', 'gray', 'no vaccination')\n"
   ]
  },
  {
   "cell_type": "code",
   "execution_count": null,
   "metadata": {
    "ExecuteTime": {
     "end_time": "2020-12-02T12:05:22.288309Z",
     "start_time": "2020-12-02T12:05:22.083028Z"
    },
    "hidden": true
   },
   "outputs": [],
   "source": [
    "fig,(ax3,ax4) = plt.subplots(figsize=(10,5), nrows=1, ncols=2, sharex=True, sharey=True)\n",
    "\n",
    "ax3.plot('DATE','H_in',data=df_sciensano[start_calibration:end_sim].reset_index(), marker='.', \n",
    "         c='gray', label='data', lw=0, markersize=9, alpha=0.3, markeredgecolor='none')\n",
    "plot_band_saved_data(ax3, S_results_H_in, 'S1', 'S1_LL', 'S1_UL', 'gray', 'no vaccination')\n",
    "plot_band_saved_data(ax3, S_results_H_in, 'S1', 'S1_LL', 'S1_UL', 'gray', 'no vaccination')\n",
    "\n",
    "# plot_band(ax3, y_model_S4a, 'H_in', 'C0', '0% at start')\n",
    "# plot_band(ax3, y_model_S4b, 'H_in', 'C1', '10% at start')\n",
    "# plot_band(ax3, y_model_S4c, 'H_in', 'C2', '30% at start')\n",
    "# plot_band(ax3, y_model_S4d, 'H_in', 'C3', '50% at start')\n",
    "\n",
    "ax3.set_xlim(start_x, end_x)\n",
    "ax3.set_xticks(pd.date_range(start_x, end_grid, periods=4))\n",
    "ax3.xaxis.set_tick_params(which='both', labelbottom=True)\n",
    "ax3.set_title('Vaccination according to age')\n",
    "\n",
    "ax4.plot('DATE','H_in',data=df_sciensano[start_calibration:end_sim].reset_index(), marker='.', \n",
    "         c='gray', label='data', lw=0, markersize=9, alpha=0.3, markeredgecolor='none')\n",
    "# plot_band(ax4, y_model_S1, 'H_in', 'gray', 'no vaccination')\n",
    "# plot_band(ax4, y_model_S5a, 'H_in', 'C0', '0% at start')\n",
    "# plot_band(ax4, y_model_S5b, 'H_in', 'C1', '10% at start')\n",
    "# plot_band(ax4, y_model_S5c, 'H_in', 'C2', '30% at start')\n",
    "# plot_band(ax4, y_model_S5d, 'H_in', 'C3', '50% at start')\n",
    "\n",
    "ax4.set_xlim(start_x, end_x)\n",
    "ax4.set_xticks(pd.date_range(start_x, end_grid, periods=4))\n",
    "ax4.xaxis.set_tick_params(which='both', labelbottom=True)\n",
    "ax4.set_title('Vaccination according to number of contacts')\n",
    "\n",
    "\n",
    "ax3.legend(loc='upper center', bbox_to_anchor=(1, 1.35), ncol=3)\n",
    "ax3.set_ylim(0,800)\n",
    "fig.text(0, 0.5, 'Number of new hospitalizations', va='center', rotation='vertical')\n",
    "fig.text(0.5, 0.01, 'Time', va='center', rotation='horizontal')\n"
   ]
  },
  {
   "cell_type": "code",
   "execution_count": null,
   "metadata": {
    "hidden": true
   },
   "outputs": [],
   "source": []
  },
  {
   "cell_type": "code",
   "execution_count": null,
   "metadata": {
    "hidden": true
   },
   "outputs": [],
   "source": []
  }
 ],
 "metadata": {
  "kernelspec": {
   "display_name": "Python 3",
   "language": "python",
   "name": "python3"
  },
  "language_info": {
   "codemirror_mode": {
    "name": "ipython",
    "version": 3
   },
   "file_extension": ".py",
   "mimetype": "text/x-python",
   "name": "python",
   "nbconvert_exporter": "python",
   "pygments_lexer": "ipython3",
   "version": "3.8.2"
  },
  "nav_menu": {},
  "toc": {
   "base_numbering": 1,
   "nav_menu": {},
   "number_sections": true,
   "sideBar": true,
   "skip_h1_title": false,
   "title_cell": "Table of Contents",
   "title_sidebar": "Contents",
   "toc_cell": true,
   "toc_position": {
    "height": "calc(100% - 180px)",
    "left": "10px",
    "top": "150px",
    "width": "327px"
   },
   "toc_section_display": "block",
   "toc_window_display": true
  }
 },
 "nbformat": 4,
 "nbformat_minor": 4
}
