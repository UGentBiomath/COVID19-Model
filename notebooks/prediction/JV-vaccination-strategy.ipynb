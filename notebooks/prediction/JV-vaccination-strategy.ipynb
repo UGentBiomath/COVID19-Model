{
 "cells": [
  {
   "cell_type": "markdown",
   "metadata": {
    "toc": true
   },
   "source": [
    "<h1>Table of Contents<span class=\"tocSkip\"></span></h1>\n",
    "<div class=\"toc\"><ul class=\"toc-item\"><li><span><a href=\"#Data,-policy-and-model-initialization\" data-toc-modified-id=\"Data,-policy-and-model-initialization-1\"><span class=\"toc-item-num\">1&nbsp;&nbsp;</span>Data, policy and model initialization</a></span><ul class=\"toc-item\"><li><span><a href=\"#Load-contact-data\" data-toc-modified-id=\"Load-contact-data-1.1\"><span class=\"toc-item-num\">1.1&nbsp;&nbsp;</span>Load contact data</a></span></li><li><span><a href=\"#Load-publically-available-data-from-Sciensano\" data-toc-modified-id=\"Load-publically-available-data-from-Sciensano-1.2\"><span class=\"toc-item-num\">1.2&nbsp;&nbsp;</span>Load publically available data from Sciensano</a></span></li><li><span><a href=\"#Load-posterior-parameter-distributions-of-calibrated-parameters\" data-toc-modified-id=\"Load-posterior-parameter-distributions-of-calibrated-parameters-1.3\"><span class=\"toc-item-num\">1.3&nbsp;&nbsp;</span>Load posterior parameter distributions of calibrated parameters</a></span></li><li><span><a href=\"#Settings\" data-toc-modified-id=\"Settings-1.4\"><span class=\"toc-item-num\">1.4&nbsp;&nbsp;</span>Settings</a></span></li></ul></li><li><span><a href=\"#Functions\" data-toc-modified-id=\"Functions-2\"><span class=\"toc-item-num\">2&nbsp;&nbsp;</span>Functions</a></span></li><li><span><a href=\"#Time-dep-functions\" data-toc-modified-id=\"Time-dep-functions-3\"><span class=\"toc-item-num\">3&nbsp;&nbsp;</span>Time-dep functions</a></span></li><li><span><a href=\"#Test-vacc-strategy\" data-toc-modified-id=\"Test-vacc-strategy-4\"><span class=\"toc-item-num\">4&nbsp;&nbsp;</span>Test vacc strategy</a></span></li><li><span><a href=\"#Test-spatial-model\" data-toc-modified-id=\"Test-spatial-model-5\"><span class=\"toc-item-num\">5&nbsp;&nbsp;</span>Test spatial model</a></span></li><li><span><a href=\"#Scenarios\" data-toc-modified-id=\"Scenarios-6\"><span class=\"toc-item-num\">6&nbsp;&nbsp;</span>Scenarios</a></span><ul class=\"toc-item\"><li><span><a href=\"#Run-and-save-all-scenarios\" data-toc-modified-id=\"Run-and-save-all-scenarios-6.1\"><span class=\"toc-item-num\">6.1&nbsp;&nbsp;</span>Run and save all scenarios</a></span></li><li><span><a href=\"#Scenarios-S1-(current-behaviour)\" data-toc-modified-id=\"Scenarios-S1-(current-behaviour)-6.2\"><span class=\"toc-item-num\">6.2&nbsp;&nbsp;</span>Scenarios S1 (current behaviour)</a></span><ul class=\"toc-item\"><li><span><a href=\"#S1a---K-=-1.3\" data-toc-modified-id=\"S1a---K-=-1.3-6.2.1\"><span class=\"toc-item-num\">6.2.1&nbsp;&nbsp;</span>S1a - K = 1.3</a></span></li><li><span><a href=\"#S1b---K-=-1.5\" data-toc-modified-id=\"S1b---K-=-1.5-6.2.2\"><span class=\"toc-item-num\">6.2.2&nbsp;&nbsp;</span>S1b - K = 1.5</a></span></li><li><span><a href=\"#S1c---K-=-1.7\" data-toc-modified-id=\"S1c---K-=-1.7-6.2.3\"><span class=\"toc-item-num\">6.2.3&nbsp;&nbsp;</span>S1c - K = 1.7</a></span></li></ul></li><li><span><a href=\"#Scenarios-S2-(september-behaviour-March-1)\" data-toc-modified-id=\"Scenarios-S2-(september-behaviour-March-1)-6.3\"><span class=\"toc-item-num\">6.3&nbsp;&nbsp;</span>Scenarios S2 (september behaviour March 1)</a></span><ul class=\"toc-item\"><li><span><a href=\"#S2a---K-=-1.3\" data-toc-modified-id=\"S2a---K-=-1.3-6.3.1\"><span class=\"toc-item-num\">6.3.1&nbsp;&nbsp;</span>S2a - K = 1.3</a></span></li><li><span><a href=\"#S2b---K-=-1.5\" data-toc-modified-id=\"S2b---K-=-1.5-6.3.2\"><span class=\"toc-item-num\">6.3.2&nbsp;&nbsp;</span>S2b - K = 1.5</a></span></li><li><span><a href=\"#S2c---K-=-1.7\" data-toc-modified-id=\"S2c---K-=-1.7-6.3.3\"><span class=\"toc-item-num\">6.3.3&nbsp;&nbsp;</span>S2c - K = 1.7</a></span></li></ul></li><li><span><a href=\"#Scenarios-SNV1-(vaccination-effect)\" data-toc-modified-id=\"Scenarios-SNV1-(vaccination-effect)-6.4\"><span class=\"toc-item-num\">6.4&nbsp;&nbsp;</span>Scenarios SNV1 (vaccination effect)</a></span><ul class=\"toc-item\"><li><span><a href=\"#S3a-(S2b-without-vaccination)\" data-toc-modified-id=\"S3a-(S2b-without-vaccination)-6.4.1\"><span class=\"toc-item-num\">6.4.1&nbsp;&nbsp;</span>S3a (S2b without vaccination)</a></span></li><li><span><a href=\"#S4a-(S1b-without-vaccination)\" data-toc-modified-id=\"S4a-(S1b-without-vaccination)-6.4.2\"><span class=\"toc-item-num\">6.4.2&nbsp;&nbsp;</span>S4a (S1b without vaccination)</a></span></li></ul></li></ul></li><li><span><a href=\"#Visualise\" data-toc-modified-id=\"Visualise-7\"><span class=\"toc-item-num\">7&nbsp;&nbsp;</span>Visualise</a></span><ul class=\"toc-item\"><li><span><a href=\"#S1-and-S2\" data-toc-modified-id=\"S1-and-S2-7.1\"><span class=\"toc-item-num\">7.1&nbsp;&nbsp;</span>S1 and S2</a></span></li><li><span><a href=\"#Vaccination-effect\" data-toc-modified-id=\"Vaccination-effect-7.2\"><span class=\"toc-item-num\">7.2&nbsp;&nbsp;</span>Vaccination effect</a></span></li></ul></li><li><span><a href=\"#Alternative-scenarios-A1\" data-toc-modified-id=\"Alternative-scenarios-A1-8\"><span class=\"toc-item-num\">8&nbsp;&nbsp;</span>Alternative scenarios A1</a></span><ul class=\"toc-item\"><li><span><a href=\"#A1a---vacc---old-strain\" data-toc-modified-id=\"A1a---vacc---old-strain-8.1\"><span class=\"toc-item-num\">8.1&nbsp;&nbsp;</span>A1a - vacc - old strain</a></span></li><li><span><a href=\"#A1b---no-vacc---new-strain\" data-toc-modified-id=\"A1b---no-vacc---new-strain-8.2\"><span class=\"toc-item-num\">8.2&nbsp;&nbsp;</span>A1b - no vacc - new strain</a></span></li><li><span><a href=\"#A1c---vaccination---old-strain\" data-toc-modified-id=\"A1c---vaccination---old-strain-8.3\"><span class=\"toc-item-num\">8.3&nbsp;&nbsp;</span>A1c - vaccination - old strain</a></span></li><li><span><a href=\"#A1d---vaccination---new-strain\" data-toc-modified-id=\"A1d---vaccination---new-strain-8.4\"><span class=\"toc-item-num\">8.4&nbsp;&nbsp;</span>A1d - vaccination - new strain</a></span></li><li><span><a href=\"#Visualise\" data-toc-modified-id=\"Visualise-8.5\"><span class=\"toc-item-num\">8.5&nbsp;&nbsp;</span>Visualise</a></span></li></ul></li><li><span><a href=\"#Alternative-scenarios-A2\" data-toc-modified-id=\"Alternative-scenarios-A2-9\"><span class=\"toc-item-num\">9&nbsp;&nbsp;</span>Alternative scenarios A2</a></span><ul class=\"toc-item\"><li><span><a href=\"#A2a---no-vacc---old-strain\" data-toc-modified-id=\"A2a---no-vacc---old-strain-9.1\"><span class=\"toc-item-num\">9.1&nbsp;&nbsp;</span>A2a - no vacc - old strain</a></span></li><li><span><a href=\"#A2b---no-vacc---new-strain\" data-toc-modified-id=\"A2b---no-vacc---new-strain-9.2\"><span class=\"toc-item-num\">9.2&nbsp;&nbsp;</span>A2b - no vacc - new strain</a></span></li><li><span><a href=\"#A2c---vaccination---old-strain\" data-toc-modified-id=\"A2c---vaccination---old-strain-9.3\"><span class=\"toc-item-num\">9.3&nbsp;&nbsp;</span>A2c - vaccination - old strain</a></span></li><li><span><a href=\"#A2d---vaccination---new-strain\" data-toc-modified-id=\"A2d---vaccination---new-strain-9.4\"><span class=\"toc-item-num\">9.4&nbsp;&nbsp;</span>A2d - vaccination - new strain</a></span></li><li><span><a href=\"#Visualise\" data-toc-modified-id=\"Visualise-9.5\"><span class=\"toc-item-num\">9.5&nbsp;&nbsp;</span>Visualise</a></span></li></ul></li><li><span><a href=\"#Save-data\" data-toc-modified-id=\"Save-data-10\"><span class=\"toc-item-num\">10&nbsp;&nbsp;</span>Save data</a></span></li><li><span><a href=\"#Plot-saved-data\" data-toc-modified-id=\"Plot-saved-data-11\"><span class=\"toc-item-num\">11&nbsp;&nbsp;</span>Plot saved data</a></span></li></ul></div>"
   ]
  },
  {
   "cell_type": "markdown",
   "metadata": {},
   "source": [
    "\n",
    "*Authored by J. Vergeynst*\n",
    "\n",
    "Copyright (c) 2021 by J. Vergeynst, BIOMATH, Ghent University. All Rights Reserved."
   ]
  },
  {
   "cell_type": "code",
   "execution_count": 1,
   "metadata": {
    "ExecuteTime": {
     "end_time": "2021-02-11T09:24:42.791000Z",
     "start_time": "2021-02-11T09:24:18.791684Z"
    }
   },
   "outputs": [],
   "source": [
    "import numpy as np\n",
    "%matplotlib notebook\n",
    "import matplotlib\n",
    "import matplotlib.pyplot as plt\n",
    "import matplotlib.dates as mdates\n",
    "import pandas as pd\n",
    "import datetime\n",
    "import scipy\n",
    "import json\n",
    "import random\n",
    "from math import floor\n",
    "\n",
    "from covid19model.optimization import objective_fcns\n",
    "from covid19model.models import models\n",
    "from covid19model.models.utils import draw_sample_COVID19_SEIRD\n",
    "from covid19model.models.time_dependant_parameter_fncs import ramp_fun, google_lockdown\n",
    "from covid19model.data import mobility, sciensano, model_parameters\n",
    "from covid19model.visualization.output import population_status, infected, _apply_tick_locator\n",
    "from covid19model.visualization.optimization import plot_fit, traceplot\n",
    "\n",
    "plt.rcParams.update({'font.size': 12, 'axes.grid':True, 'grid.linewidth':0.3})\n",
    "pd.plotting.register_matplotlib_converters()\n",
    "\n",
    "# OPTIONAL: Load the \"autoreload\" extension so that package code can change\n",
    "%load_ext autoreload\n",
    "# OPTIONAL: always reload modules so that as you change code in src, it gets loaded\n",
    "%autoreload 2"
   ]
  },
  {
   "cell_type": "code",
   "execution_count": 2,
   "metadata": {
    "ExecuteTime": {
     "end_time": "2021-02-11T09:24:42.853982Z",
     "start_time": "2021-02-11T09:24:42.793204Z"
    }
   },
   "outputs": [],
   "source": [
    "plt.rcParams.update({\n",
    "    \"lines.linewidth\" : 3,\n",
    "    \"axes.spines.top\": True,\n",
    "    \"axes.spines.right\": True,\n",
    "    \"ytick.major.left\": True,\n",
    "    \"axes.grid\": True\n",
    "})"
   ]
  },
  {
   "cell_type": "markdown",
   "metadata": {},
   "source": [
    "# Data, policy and model initialization"
   ]
  },
  {
   "cell_type": "markdown",
   "metadata": {},
   "source": [
    "## Load contact data"
   ]
  },
  {
   "cell_type": "code",
   "execution_count": 3,
   "metadata": {
    "ExecuteTime": {
     "end_time": "2021-02-11T09:24:44.093053Z",
     "start_time": "2021-02-11T09:24:42.857250Z"
    }
   },
   "outputs": [],
   "source": [
    "# Load the interaction matrices (size: 9x9)\n",
    "initN, Nc_home, Nc_work, Nc_schools, Nc_transport, Nc_leisure, Nc_others, Nc_total = model_parameters.get_interaction_matrices(dataset='willem_2012',intensity='all')\n",
    "# Define the number of age categories\n",
    "levels = initN.size\n",
    "\n",
    "initN, Nc_home_15, Nc_work_15, Nc_schools_15, Nc_transport_15, Nc_leisure_15, Nc_others_15, Nc_total_15 = model_parameters.get_interaction_matrices(dataset='willem_2012',intensity='more_15_min')\n",
    "initN, Nc_home_1hr, Nc_work_1hr, Nc_schools_1hr, Nc_transport_1hr, Nc_leisure_1hr, Nc_others_1hr, Nc_total_1hr = model_parameters.get_interaction_matrices(dataset='willem_2012',intensity='more_one_hour')"
   ]
  },
  {
   "cell_type": "code",
   "execution_count": 4,
   "metadata": {
    "ExecuteTime": {
     "end_time": "2021-02-11T09:24:44.164857Z",
     "start_time": "2021-02-11T09:24:44.095587Z"
    }
   },
   "outputs": [],
   "source": [
    "Nc_all = {'total': Nc_total, 'home':Nc_home, 'work': Nc_work, 'schools': Nc_schools, 'transport': Nc_transport, 'leisure': Nc_leisure, 'others': Nc_others}\n",
    "Nc_15min = {'total': Nc_total_15, 'home': Nc_home_15, 'work': Nc_work_15, 'schools': Nc_schools_15, 'transport': Nc_transport_15, 'leisure': Nc_leisure_15, 'others': Nc_others_15}\n",
    "Nc_1hr = {'total': Nc_total_1hr, 'home': Nc_home_1hr, 'work': Nc_work_1hr, 'schools': Nc_schools_1hr, 'transport': Nc_transport_1hr, 'leisure': Nc_leisure_1hr, 'others': Nc_others_1hr}"
   ]
  },
  {
   "cell_type": "markdown",
   "metadata": {},
   "source": [
    "## Load publically available data from Sciensano"
   ]
  },
  {
   "cell_type": "code",
   "execution_count": 5,
   "metadata": {
    "ExecuteTime": {
     "end_time": "2021-02-11T09:24:44.599846Z",
     "start_time": "2021-02-11T09:24:44.168195Z"
    }
   },
   "outputs": [],
   "source": [
    "df_sciensano = sciensano.get_sciensano_COVID19_data(update=False)\n",
    "df_sciensano['D_cum'] = df_sciensano.D_tot.cumsum()"
   ]
  },
  {
   "cell_type": "code",
   "execution_count": 6,
   "metadata": {
    "ExecuteTime": {
     "end_time": "2021-02-11T09:24:44.700339Z",
     "start_time": "2021-02-11T09:24:44.602480Z"
    }
   },
   "outputs": [],
   "source": [
    "df_google = mobility.get_google_mobility_data(update=False, plot=False)"
   ]
  },
  {
   "cell_type": "markdown",
   "metadata": {},
   "source": [
    "## Load posterior parameter distributions of calibrated parameters"
   ]
  },
  {
   "cell_type": "code",
   "execution_count": 66,
   "metadata": {
    "ExecuteTime": {
     "end_time": "2021-02-11T09:31:44.339277Z",
     "start_time": "2021-02-11T09:31:43.409189Z"
    }
   },
   "outputs": [],
   "source": [
    "# Load samples dictionaries\n",
    "with open('../../data/interim/model_parameters/COVID19_SEIRD/calibrations/national/BE_4_prev_full_2021-01-30_WAVE2_GOOGLE.json', 'r') as fp:\n",
    "    samples_dict = json.load(fp)\n",
    "\n",
    "with open('../../data/interim/model_parameters/COVID19_SEIRD/calibrations/national/google/initial_states_2020-09-01.json', 'r') as fp:\n",
    "    initial_states_sept = json.load(fp) \n",
    "    \n",
    "# Set initial states of VE (vaccine elegible)\n",
    "initial_states_sept['VE'] = (np.array(initial_states_sept['S'])+\n",
    "                             np.array(initial_states_sept['R'])+\n",
    "                             np.array(initial_states_sept['E'])+\n",
    "                             np.array(initial_states_sept['I'])+\n",
    "                             np.array(initial_states_sept['A'])).squeeze()"
   ]
  },
  {
   "cell_type": "code",
   "execution_count": null,
   "metadata": {
    "ExecuteTime": {
     "end_time": "2020-12-02T10:14:49.867274Z",
     "start_time": "2020-12-02T10:14:49.825611Z"
    }
   },
   "outputs": [],
   "source": [
    "# fig,ax = plt.subplots()\n",
    "# pd.Series(samples_dict['beta']).hist()\n",
    "# pd.Series(samples_dict['tau']).hist()"
   ]
  },
  {
   "cell_type": "markdown",
   "metadata": {},
   "source": [
    "## Settings"
   ]
  },
  {
   "cell_type": "code",
   "execution_count": 8,
   "metadata": {
    "ExecuteTime": {
     "end_time": "2021-02-11T09:24:46.096354Z",
     "start_time": "2021-02-11T09:24:46.046676Z"
    }
   },
   "outputs": [],
   "source": [
    "UL = 0.975\n",
    "LL = 0.025"
   ]
  },
  {
   "cell_type": "code",
   "execution_count": 9,
   "metadata": {
    "ExecuteTime": {
     "end_time": "2021-02-11T09:24:46.230080Z",
     "start_time": "2021-02-11T09:24:46.099482Z"
    }
   },
   "outputs": [],
   "source": [
    "start_calibration = '2021-01-01'\n",
    "end_sim = '2021-09-01'"
   ]
  },
  {
   "cell_type": "markdown",
   "metadata": {},
   "source": [
    "Alle vaccins twee dosissen nodig (Pfizer, Moderna, AstraZeneca, Curevac) behalve Johnson&Johnson (pas vanaf mei)"
   ]
  },
  {
   "cell_type": "code",
   "execution_count": 10,
   "metadata": {
    "ExecuteTime": {
     "end_time": "2021-02-11T09:24:46.316478Z",
     "start_time": "2021-02-11T09:24:46.238229Z"
    }
   },
   "outputs": [],
   "source": [
    "# doses per day (Regeringscommissariaat Corona, published by De Tijd)\n",
    "d = {}\n",
    "d['jan'] = 31765\n",
    "d['feb'] = 45897\n",
    "d['mar-apr'] = 128499\n",
    "d['may-aug'] = 78358\n",
    "\n",
    "# proportion of age group living in nursing homes\n",
    "# for simplicity we will use the data for respectively age groups 60+, 70+ and 80+\n",
    "NH = {}\n",
    "NH['65+'] = 0.007\n",
    "NH['75+'] = (0.05+0.029)/2\n",
    "NH['85+'] = (0.137+0.267)/2\n"
   ]
  },
  {
   "cell_type": "markdown",
   "metadata": {},
   "source": [
    "# Functions"
   ]
  },
  {
   "cell_type": "code",
   "execution_count": 11,
   "metadata": {
    "ExecuteTime": {
     "end_time": "2021-02-11T09:24:46.427287Z",
     "start_time": "2021-02-11T09:24:46.325734Z"
    }
   },
   "outputs": [],
   "source": [
    "def vacc_strategy(t, states, param, d, NH):\n",
    "    \"\"\"\n",
    "    time-dependent function for vaccination strategy\n",
    "    \n",
    "    states : dictionary\n",
    "        model states, VE = vaccine eligible states = S+R+E+I+A\n",
    "    d : dictionary\n",
    "        daily number of doses for that month\n",
    "    NH : dictionary\n",
    "        proportion of residents in nursing homes per age group\n",
    "    \n",
    "    \"\"\"\n",
    "    if states['VE'].ndim == 1:\n",
    "        states['VE'] = states['VE'][np.newaxis]\n",
    "    N_vacc = np.zeros(states['VE'].shape)\n",
    "\n",
    "    delay = pd.Timedelta('30D')\n",
    "    \n",
    "    t1 = pd.Timestamp('2021-01-01') + delay\n",
    "    t2 = pd.Timestamp('2021-02-01') + delay\n",
    "    t3 = pd.Timestamp('2021-03-01') + delay\n",
    "    t4 = pd.Timestamp('2021-05-01') + delay\n",
    "    \n",
    "    if t < t1:\n",
    "        N_vacc = N_vacc\n",
    "    \n",
    "    elif t1 <= t < t2: # January : nursing homes + part of care personnel\n",
    "        # daily vaccinated persons on immunity date = daily dose on vaccination date / 2\n",
    "        daily_85 = (NH['85+']*states['VE'][:,[8]])/31\n",
    "        daily_75 = (NH['75+']*states['VE'][:,[7]])/31\n",
    "        daily_65 = (NH['65+']*states['VE'][:,[6]])/31\n",
    "        care_personnel_daily_jan = d['jan']/2-daily_85-daily_75-daily_65\n",
    "        N_vacc[:,[8]] = daily_85\n",
    "        N_vacc[:,[7]] = daily_75\n",
    "        N_vacc[:,[6]] = daily_65\n",
    "        N_vacc[:,[5,4,3,2]] = care_personnel_daily_jan/4\n",
    "        \n",
    "    elif t2 <= t < t3: # February : care personnel\n",
    "        N_vacc[:,[5,4,3,2]] = d['feb']/2/4\n",
    "        \n",
    "    elif t3 <= t < t4: # March-April : 65+ and risico patients\n",
    "        plus_65_left_daily = (1-NH['65+'])*states['VE'][:,[6]]/61\n",
    "        plus_75_left_daily = (1-NH['75+'])*states['VE'][:,[7]]/61\n",
    "        plus_85_left_daily = (1-NH['85+'])*states['VE'][:,[8]]/61\n",
    "        rest_daily = d['mar-apr']/2 - plus_65_left_daily - plus_75_left_daily - plus_85_left_daily\n",
    "        N_vacc[:,[8,7,6]] = np.array([plus_85_left_daily, plus_75_left_daily, plus_65_left_daily]).squeeze()\n",
    "        N_vacc[:,[5,4,3,2]] = rest_daily/4\n",
    "    \n",
    "    else: # May-August : all 18+\n",
    "        N_vacc[:,[5,4,3,2]] = d['may-aug']/2/4\n",
    "        \n",
    "    return N_vacc.squeeze()"
   ]
  },
  {
   "cell_type": "code",
   "execution_count": 12,
   "metadata": {
    "ExecuteTime": {
     "end_time": "2021-02-11T09:24:46.488663Z",
     "start_time": "2021-02-11T09:24:46.429787Z"
    }
   },
   "outputs": [],
   "source": [
    " def plot_band_saved_data(ax, df, mean_col, LL_col, UL_col, color, label):\n",
    "    ax.fill_between(df['time'],df[LL_col], df[UL_col],alpha=0.30, facecolor = color)\n",
    "    ax.plot(df['time'], df[mean_col], color=color, label=label, lw=2)\n",
    "    return"
   ]
  },
  {
   "cell_type": "code",
   "execution_count": 13,
   "metadata": {
    "ExecuteTime": {
     "end_time": "2021-02-11T09:24:46.559297Z",
     "start_time": "2021-02-11T09:24:46.495346Z"
    }
   },
   "outputs": [],
   "source": [
    "def plot_band_age(ax, y_model, age_group, var, color, label):\n",
    "    ax.fill_between(pd.to_datetime(y_model['time'].values),y_model[var].quantile(LL,dim=\"draws\").sel(Nc=age_group), \n",
    "                    y_model[var].quantile(UL,dim=\"draws\").sel(Nc=age_group),alpha=0.30, facecolor = color)\n",
    "    ax.plot(y_model['time'],y_model[var].mean(dim=\"draws\").sel(Nc=age_group), color=color, label=label, lw=2)\n",
    "    return"
   ]
  },
  {
   "cell_type": "code",
   "execution_count": 14,
   "metadata": {
    "ExecuteTime": {
     "end_time": "2021-02-11T09:24:46.636627Z",
     "start_time": "2021-02-11T09:24:46.575452Z"
    }
   },
   "outputs": [],
   "source": [
    "def check_overtake_duration(sim, dims):\n",
    "    \"\"\"\n",
    "    sim : data array resulting from simulation\n",
    "    dims : list of dimensions over which to average\n",
    "    \n",
    "    Returns\n",
    "    -------\n",
    "    N_days : number of days before new strain takes over (99%)\n",
    "    \"\"\"\n",
    "    end = sim['alpha'].mean(dim=dims)[sim['alpha'].mean(dim=dims)<0.99]['time'][-1].values\n",
    "    start = sim['alpha'].mean(dim=dims)[sim['alpha'].mean(dim=dims)<0.99]['time'][0].values\n",
    "    \n",
    "    N_days = (pd.to_datetime(end)-pd.to_datetime(start))/pd.Timedelta('1D')\n",
    "    \n",
    "    return N_days"
   ]
  },
  {
   "cell_type": "code",
   "execution_count": 15,
   "metadata": {
    "ExecuteTime": {
     "end_time": "2021-02-11T09:24:46.710363Z",
     "start_time": "2021-02-11T09:24:46.639579Z"
    }
   },
   "outputs": [],
   "source": [
    "def get_date_of_exceeding_alpha(sim, dims, alpha_limit):\n",
    "    \"\"\"\n",
    "    sim : data array resulting from simulation\n",
    "    dims : list of dimensions over which to average\n",
    "    \"\"\"\n",
    "    return pd.Timestamp(sim['alpha'].mean(dim=dims)[sim['alpha'].mean(dim=dims)>alpha_limit]['time'][0].values)"
   ]
  },
  {
   "cell_type": "code",
   "execution_count": 16,
   "metadata": {
    "ExecuteTime": {
     "end_time": "2021-02-11T09:24:46.813647Z",
     "start_time": "2021-02-11T09:24:46.712597Z"
    }
   },
   "outputs": [],
   "source": [
    "def sample_from_binomial(sim_result, variable, n_draws_per_sample, n_samples,\n",
    "                         Y0_new=None):\n",
    "                         #Y0_mean=[], Y0_median=[], Y0_LL=[], Y0_UL=[]):\n",
    "    \"\"\"\n",
    "    Function to sample from binomial, and add the result to an existing list (if given)\n",
    "    \"\"\"\n",
    "    \n",
    "    \n",
    "    Y = sim_result[variable].sum(dim=\"Nc\").values\n",
    "    # Initialize vectors\n",
    "    Y_new = np.zeros((Y.shape[1],n_draws_per_sample*n_samples))\n",
    "    # Loop over dimension draws\n",
    "    for n in range(Y.shape[0]):\n",
    "        binomial_draw = np.random.poisson( np.expand_dims(Y[n,:],axis=1),size = (Y.shape[1],n_draws_per_sample))\n",
    "        Y_new[:,n*n_draws_per_sample:(n+1)*n_draws_per_sample] = binomial_draw\n",
    "    # Compute mean and median\n",
    "    if Y0_new is None:\n",
    "        Y_new = Y_new\n",
    "    else:\n",
    "        Y_new = np.append(Y0_new, Y_new, axis=0)\n",
    "\n",
    "    return Y_new\n",
    "    \n",
    "    "
   ]
  },
  {
   "cell_type": "code",
   "execution_count": 17,
   "metadata": {
    "ExecuteTime": {
     "end_time": "2021-02-11T09:24:46.907714Z",
     "start_time": "2021-02-11T09:24:46.826048Z"
    }
   },
   "outputs": [],
   "source": [
    "def plot_band_binom(ax, time, Y_binom, color, label, axis=1):\n",
    "    ax.fill_between(time, np.quantile(Y_binom, q = LL, axis = axis), \n",
    "                    np.quantile(Y_binom, q = UL, axis = axis),alpha=0.30, facecolor = color)\n",
    "    ax.plot(time,np.mean(Y_binom,axis=axis), color=color, label=label, lw=2, linestyle='--')\n",
    "    return"
   ]
  },
  {
   "cell_type": "code",
   "execution_count": 18,
   "metadata": {
    "ExecuteTime": {
     "end_time": "2021-02-11T09:24:46.959768Z",
     "start_time": "2021-02-11T09:24:46.910411Z"
    }
   },
   "outputs": [],
   "source": [
    "def draw_fcn(param_dict,samples_dict,to_sample):\n",
    "    # Sample\n",
    "    idx, param_dict['beta'] = random.choice(list(enumerate(samples_dict['beta'])))\n",
    "    param_dict['l'] = samples_dict['l'][idx] \n",
    "    param_dict['tau'] = samples_dict['tau'][idx]    \n",
    "    param_dict['prev_home'] = samples_dict['prev_home'][idx] \n",
    "    param_dict['prev_schools'] = samples_dict['prev_schools'][idx]    \n",
    "    param_dict['prev_work'] = samples_dict['prev_work'][idx]       \n",
    "    param_dict['prev_rest'] = samples_dict['prev_rest'][idx] \n",
    "    #param_dict['K'] = np.random.uniform(infectivity_gain_lower,infectivity_gain_upper)\n",
    "    return param_dict"
   ]
  },
  {
   "cell_type": "code",
   "execution_count": 19,
   "metadata": {
    "ExecuteTime": {
     "end_time": "2021-02-11T09:24:47.014606Z",
     "start_time": "2021-02-11T09:24:46.963140Z"
    }
   },
   "outputs": [],
   "source": [
    "def plot_band(ax, y_model, var, color, label):\n",
    "    ax.fill_between(pd.to_datetime(y_model['time'].values),\n",
    "                    y_model[var].sum(dim=\"Nc\").quantile(LL,dim=\"draws\"), \n",
    "                    y_model[var].sum(dim=\"Nc\").quantile(UL,dim=\"draws\"),alpha=0.30, facecolor = color)\n",
    "    ax.plot(y_model['time'],y_model[var].sum(dim=\"Nc\").mean(dim=\"draws\"), color=color, label=label, lw=2)\n",
    "    return"
   ]
  },
  {
   "cell_type": "markdown",
   "metadata": {},
   "source": [
    "# Time-dep functions"
   ]
  },
  {
   "cell_type": "code",
   "execution_count": 20,
   "metadata": {
    "ExecuteTime": {
     "end_time": "2021-02-11T09:24:47.080335Z",
     "start_time": "2021-02-11T09:24:47.027260Z"
    }
   },
   "outputs": [],
   "source": [
    "from covid19model.models.time_dependant_parameter_fncs import make_contact_matrix_function\n",
    "contact_matrix_4prev = make_contact_matrix_function(df_google, Nc_all)"
   ]
  },
  {
   "cell_type": "code",
   "execution_count": 117,
   "metadata": {
    "ExecuteTime": {
     "end_time": "2021-02-11T09:50:41.138511Z",
     "start_time": "2021-02-11T09:50:40.527356Z"
    }
   },
   "outputs": [],
   "source": [
    "def report7_policy_function(t, states, param, l , tau, prev_home, prev_schools, prev_work, prev_rest,scenario='1a'):\n",
    "    # Convert tau and l to dates\n",
    "    tau_days = pd.Timedelta(tau, unit='D')\n",
    "    l_days = pd.Timedelta(l, unit='D')\n",
    "\n",
    "    # Define key policy dates\n",
    "    t1 = pd.Timestamp('2020-03-15') # start of lockdown\n",
    "    t2 = pd.Timestamp('2020-05-15') # gradual re-opening of schools (assume 50% of nominal scenario)\n",
    "    t3 = pd.Timestamp('2020-07-01') # start of summer: COVID-urgency very low\n",
    "    t4 = pd.Timestamp('2020-08-01')\n",
    "    t5 = pd.Timestamp('2020-09-01') # september: lockdown relaxation narrative in newspapers reduces sense of urgency\n",
    "    t6 = pd.Timestamp('2020-10-19') # lockdown\n",
    "    t7 = pd.Timestamp('2020-11-16') # schools re-open\n",
    "    t8 = pd.Timestamp('2020-12-18') # start Christmas holidays (schools close)\n",
    "    t13 = pd.Timestamp('2020-01-04') # end Christmas holidays (schools open)\n",
    "    #t14 = pd.Timestamp('2021-01-18') # start of alternative policies\n",
    "    t15 = pd.Timestamp('2021-02-15') # Start of Krokus holidays (schools close)\n",
    "    t16 = pd.Timestamp('2021-02-21') # End of Krokus holidays (schools open)\n",
    "    t17 = pd.Timestamp('2021-03-01') # release to SB March 1\n",
    "    t18 = pd.Timestamp('2021-04-01') # release to SB April 1\n",
    "    t19 = pd.Timestamp('2021-04-05') # start Eastern Holidays (schools close)\n",
    "    t20 = pd.Timestamp('2021-04-19') # end Eastern Holidays (schools open)\n",
    "    t21 = pd.Timestamp('2021-05-01') # release to SB May 1\n",
    "\n",
    "    # Average out september mobility\n",
    "\n",
    "    if t5 < t <= t6 + tau_days:\n",
    "        t = pd.Timestamp(t.date())\n",
    "        return contact_matrix_4prev(t, school=1)\n",
    "    elif t6 + tau_days < t <= t6 + tau_days + l_days:\n",
    "        t = pd.Timestamp(t.date())\n",
    "        policy_old = contact_matrix_4prev(t, school=1)\n",
    "        policy_new = contact_matrix_4prev(t, prev_home, prev_schools, prev_work, prev_rest, \n",
    "                                    school=0)\n",
    "        return ramp_fun(policy_old, policy_new, t, tau_days, l, t6)\n",
    "    elif t6 + tau_days + l_days < t <= t7:\n",
    "        t = pd.Timestamp(t.date())\n",
    "        return contact_matrix_4prev(t, prev_home, prev_schools, prev_work, prev_rest, \n",
    "                              school=0)\n",
    "    elif t7 < t <= t8:\n",
    "        t = pd.Timestamp(t.date())\n",
    "        return contact_matrix_4prev(t, prev_home, prev_schools, prev_work, prev_rest, \n",
    "                              school=1)\n",
    "    elif t8 < t <= t13:\n",
    "        t = pd.Timestamp(t.date())\n",
    "        return contact_matrix_4prev(t, prev_home, prev_schools, prev_work, prev_rest, \n",
    "                              school=0)\n",
    "    elif t13 < t <= t15:\n",
    "        t = pd.Timestamp(t.date())\n",
    "        return contact_matrix_4prev(t, prev_home, prev_schools, prev_work, prev_rest, \n",
    "                        school=0.6)\n",
    "    elif t15 < t <= t16:\n",
    "        t = pd.Timestamp(t.date())\n",
    "        return contact_matrix_4prev(t, prev_home, prev_schools, prev_work, prev_rest, \n",
    "                        school=0)    \n",
    "    else:\n",
    "        # Scenario 1: Current contact behaviour\n",
    "        if scenario == '1':\n",
    "            if t16 < t <= t19:\n",
    "                t = pd.Timestamp(t.date())\n",
    "                return contact_matrix_4prev(t, prev_home, prev_schools, prev_work, prev_rest, \n",
    "                                school=0.6)\n",
    "            elif t19 < t <= t20:\n",
    "                t = pd.Timestamp(t.date())\n",
    "                return contact_matrix_4prev(t, prev_home, prev_schools, prev_work, prev_rest, \n",
    "                                school=0)\n",
    "            elif t20 < t:\n",
    "                t = pd.Timestamp(t.date())\n",
    "                return contact_matrix_4prev(t, prev_home, prev_schools, prev_work, prev_rest, \n",
    "                                school=0.6)\n",
    "            else:\n",
    "                raise Exception ('scenario '+scenario+' t:'+str(t))\n",
    "                    \n",
    "        # Scenario 2: increases in work or leisure mobility on March 1\n",
    "        elif scenario == '2':\n",
    "            if t16 < t <= t17:\n",
    "                t = pd.Timestamp(t.date())\n",
    "                return contact_matrix_4prev(t, prev_home, prev_schools, prev_work, prev_rest, \n",
    "                                school=0.6)  \n",
    "            elif t17 < t <= t19:\n",
    "                t = pd.Timestamp(t.date())\n",
    "                return contact_matrix_4prev(t, 1, 1, 1, 1, \n",
    "                                school=0.6,SB='2a')\n",
    "            elif t19 < t <= t20:\n",
    "                t = pd.Timestamp(t.date())\n",
    "                return contact_matrix_4prev(t, 1, 1, 1, 1, \n",
    "                                school=0,SB='2a')\n",
    "            elif t20 < t:\n",
    "                t = pd.Timestamp(t.date())\n",
    "                return contact_matrix_4prev(t, 1, 1, 1, 1, \n",
    "                                school=0.6,SB='2a')\n",
    "            else:\n",
    "                raise Exception ('scenario '+scenario+' t:'+str(t))\n",
    "        # Scenario 3: increases in work or leisure mobility on April 1\n",
    "        elif scenario == '3':\n",
    "            if t16 < t <= t18:\n",
    "                t = pd.Timestamp(t.date())\n",
    "                return contact_matrix_4prev(t, prev_home, prev_schools, prev_work, prev_rest, \n",
    "                                school=0.6)  \n",
    "            elif t18 < t <= t19:\n",
    "                t = pd.Timestamp(t.date())\n",
    "                return contact_matrix_4prev(t, 1, 1, 1, 1, \n",
    "                                school=0.6,SB='2a')\n",
    "            elif t19 < t <= t20:\n",
    "                t = pd.Timestamp(t.date())\n",
    "                return contact_matrix_4prev(t, 1, 1, 1, 1, \n",
    "                                school=0,SB='2a')\n",
    "            elif t20 < t:\n",
    "                t = pd.Timestamp(t.date())\n",
    "                return contact_matrix_4prev(t, 1, 1, 1, 1, \n",
    "                                school=0.6,SB='2a')\n",
    "            \n",
    "            else:\n",
    "                raise Exception ('scenario '+scenario+' t:'+str(t))\n",
    "        # Scenario 4: increases in work or leisure mobility on May 1\n",
    "        elif scenario == '4':\n",
    "            \n",
    "            if t16 < t <= t19:\n",
    "                t = pd.Timestamp(t.date())\n",
    "                return contact_matrix_4prev(t, prev_home, prev_schools, prev_work, prev_rest, \n",
    "                                school=0.6)  \n",
    "            elif t19 < t <= t20:\n",
    "                t = pd.Timestamp(t.date())\n",
    "                return contact_matrix_4prev(t, prev_home, prev_schools, prev_work, prev_rest, \n",
    "                                school=0)  \n",
    "            elif t20 < t <= t21:\n",
    "                t = pd.Timestamp(t.date())\n",
    "                return contact_matrix_4prev(t, prev_home, prev_schools, prev_work, prev_rest, \n",
    "                                school=0.6) \n",
    "            elif t > t21:\n",
    "                t = pd.Timestamp(t.date())\n",
    "                return contact_matrix_4prev(t, 1, 1, 1, 1, \n",
    "                                school=0.6,SB='2a')\n",
    "            else:\n",
    "                raise Exception ('scenario '+scenario+' t:'+str(t))\n",
    "        else:\n",
    "            raise Exception ('scenario '+scenario+' non-existing')"
   ]
  },
  {
   "cell_type": "code",
   "execution_count": 95,
   "metadata": {
    "ExecuteTime": {
     "end_time": "2021-02-11T09:42:37.773706Z",
     "start_time": "2021-02-11T09:42:37.709266Z"
    }
   },
   "outputs": [],
   "source": [
    "def vaccin_model(initial_states, scenario, effectivity=None, injection_day=0, injection_ratio=0,\n",
    "                 Nc_fun=None, N_vacc_fun=vacc_strategy, levels=levels):\n",
    "    \"\"\"\n",
    "    Function to initialize the model given a certain vaccination strategy\n",
    "    \"\"\"\n",
    "    params = model_parameters.get_COVID19_SEIRD_parameters()\n",
    "    params.update({\n",
    "            'l' : 5,\n",
    "            'tau' : 5,\n",
    "            'prev_home': 0.5,\n",
    "            'prev_schools': 0.5,\n",
    "            'prev_work': 0.5,\n",
    "            'prev_rest': 0.5,\n",
    "            'scenario': scenario,\n",
    "            'injection_day' : injection_day,\n",
    "            'injection_ratio' : injection_ratio\n",
    "                  })\n",
    "    \n",
    "    tdp = {}\n",
    "    \n",
    "    if Nc_fun is not None:\n",
    "        tdp.update({'Nc': Nc_fun})\n",
    "    if N_vacc_fun is not None:\n",
    "        tdp.update({'N_vacc':N_vacc_fun})\n",
    "        params.update({\n",
    "            'd' : d,\n",
    "            'NH' : NH,\n",
    "            'e' : np.array([effectivity]*levels)\n",
    "        })\n",
    "    return models.COVID19_SEIRD(initial_states, params, time_dependent_parameters=tdp)"
   ]
  },
  {
   "cell_type": "markdown",
   "metadata": {
    "heading_collapsed": true
   },
   "source": [
    "# Test vacc strategy"
   ]
  },
  {
   "cell_type": "code",
   "execution_count": 49,
   "metadata": {
    "ExecuteTime": {
     "end_time": "2021-02-11T09:28:35.645064Z",
     "start_time": "2021-02-11T09:28:35.606002Z"
    },
    "hidden": true
   },
   "outputs": [],
   "source": [
    "# Need to initiate I also with the co-infection model, otherwise divison by zero occurs\n",
    "initial_states = {'S': initN, 'E': np.ones(levels), 'I': np.ones(levels), 'alpha':np.zeros(9)}"
   ]
  },
  {
   "cell_type": "code",
   "execution_count": 50,
   "metadata": {
    "ExecuteTime": {
     "end_time": "2021-02-11T09:28:36.276064Z",
     "start_time": "2021-02-11T09:28:35.882404Z"
    },
    "hidden": true
   },
   "outputs": [],
   "source": [
    "params = model_parameters.get_COVID19_SEIRD_parameters()\n",
    "dummy_model_no_vacc = models.COVID19_SEIRD(initial_states, params)\n",
    "sim_dummy_model_no_vacc = dummy_model_no_vacc.sim(time=end_sim, start_date=start_calibration)"
   ]
  },
  {
   "cell_type": "code",
   "execution_count": 52,
   "metadata": {
    "ExecuteTime": {
     "end_time": "2021-02-11T09:28:43.910015Z",
     "start_time": "2021-02-11T09:28:43.195954Z"
    },
    "hidden": true,
    "scrolled": true
   },
   "outputs": [],
   "source": [
    "params = model_parameters.get_COVID19_SEIRD_parameters()\n",
    "params.update({'d' : d,\n",
    "               'NH' : NH,\n",
    "               'e' : np.array([0.9]*levels)              })\n",
    "dummy_model_vacc = models.COVID19_SEIRD(initial_states, params, time_dependent_parameters={'N_vacc': vacc_strategy})\n",
    "sim_dummy_model_vacc = dummy_model_vacc.sim(time=end_sim, start_date=start_calibration)"
   ]
  },
  {
   "cell_type": "code",
   "execution_count": null,
   "metadata": {
    "ExecuteTime": {
     "end_time": "2021-02-10T15:22:49.614655Z",
     "start_time": "2021-02-10T15:22:48.756818Z"
    },
    "hidden": true
   },
   "outputs": [],
   "source": [
    "injection_day = (pd.Timestamp('2021-01-01') - pd.Timestamp(start_calibration))/pd.Timedelta('1D')\n",
    "params = model_parameters.get_COVID19_SEIRD_parameters()\n",
    "params.update({'d' : d,\n",
    "               'NH' : NH,\n",
    "               'e' : np.array([0.9]*levels),\n",
    "               'K' : 1.6,\n",
    "               'initN' : initN[np.newaxis],\n",
    "               'injection_day': injection_day,\n",
    "               'injection_ratio':0.1,\n",
    "              })\n",
    "\n",
    "dummy_model_vacc_UK = models.COVID19_SEIRD(initial_states, params, time_dependent_parameters={'N_vacc': vacc_strategy})\n",
    "sim_dummy_model_vacc_UK = dummy_model_vacc_UK.sim(time=end_sim, start_date=start_calibration)"
   ]
  },
  {
   "cell_type": "code",
   "execution_count": 47,
   "metadata": {
    "ExecuteTime": {
     "end_time": "2021-02-11T09:28:26.624105Z",
     "start_time": "2021-02-11T09:28:26.547718Z"
    },
    "hidden": true
   },
   "outputs": [],
   "source": [
    "timerange = pd.date_range(start_calibration,'2021-09-01')\n",
    "test_dict = {}\n",
    "for t in timerange:\n",
    "    test_dict[t] = np.sum(vacc_strategy(t=t, states=initial_states_sept, param=None, d=d, NH=NH))\n",
    "test_df = pd.DataFrame.from_dict(test_dict, orient='index').reset_index()\n",
    "test_df.columns = ['date','N_vacc']\n",
    "test_df['N_cum'] = test_df.N_vacc.cumsum()"
   ]
  },
  {
   "cell_type": "code",
   "execution_count": 53,
   "metadata": {
    "ExecuteTime": {
     "end_time": "2021-02-11T09:28:48.623479Z",
     "start_time": "2021-02-11T09:28:48.530466Z"
    },
    "hidden": true
   },
   "outputs": [
    {
     "data": {
      "application/javascript": [
       "/* Put everything inside the global mpl namespace */\n",
       "window.mpl = {};\n",
       "\n",
       "\n",
       "mpl.get_websocket_type = function() {\n",
       "    if (typeof(WebSocket) !== 'undefined') {\n",
       "        return WebSocket;\n",
       "    } else if (typeof(MozWebSocket) !== 'undefined') {\n",
       "        return MozWebSocket;\n",
       "    } else {\n",
       "        alert('Your browser does not have WebSocket support. ' +\n",
       "              'Please try Chrome, Safari or Firefox ≥ 6. ' +\n",
       "              'Firefox 4 and 5 are also supported but you ' +\n",
       "              'have to enable WebSockets in about:config.');\n",
       "    };\n",
       "}\n",
       "\n",
       "mpl.figure = function(figure_id, websocket, ondownload, parent_element) {\n",
       "    this.id = figure_id;\n",
       "\n",
       "    this.ws = websocket;\n",
       "\n",
       "    this.supports_binary = (this.ws.binaryType != undefined);\n",
       "\n",
       "    if (!this.supports_binary) {\n",
       "        var warnings = document.getElementById(\"mpl-warnings\");\n",
       "        if (warnings) {\n",
       "            warnings.style.display = 'block';\n",
       "            warnings.textContent = (\n",
       "                \"This browser does not support binary websocket messages. \" +\n",
       "                    \"Performance may be slow.\");\n",
       "        }\n",
       "    }\n",
       "\n",
       "    this.imageObj = new Image();\n",
       "\n",
       "    this.context = undefined;\n",
       "    this.message = undefined;\n",
       "    this.canvas = undefined;\n",
       "    this.rubberband_canvas = undefined;\n",
       "    this.rubberband_context = undefined;\n",
       "    this.format_dropdown = undefined;\n",
       "\n",
       "    this.image_mode = 'full';\n",
       "\n",
       "    this.root = $('<div/>');\n",
       "    this._root_extra_style(this.root)\n",
       "    this.root.attr('style', 'display: inline-block');\n",
       "\n",
       "    $(parent_element).append(this.root);\n",
       "\n",
       "    this._init_header(this);\n",
       "    this._init_canvas(this);\n",
       "    this._init_toolbar(this);\n",
       "\n",
       "    var fig = this;\n",
       "\n",
       "    this.waiting = false;\n",
       "\n",
       "    this.ws.onopen =  function () {\n",
       "            fig.send_message(\"supports_binary\", {value: fig.supports_binary});\n",
       "            fig.send_message(\"send_image_mode\", {});\n",
       "            if (mpl.ratio != 1) {\n",
       "                fig.send_message(\"set_dpi_ratio\", {'dpi_ratio': mpl.ratio});\n",
       "            }\n",
       "            fig.send_message(\"refresh\", {});\n",
       "        }\n",
       "\n",
       "    this.imageObj.onload = function() {\n",
       "            if (fig.image_mode == 'full') {\n",
       "                // Full images could contain transparency (where diff images\n",
       "                // almost always do), so we need to clear the canvas so that\n",
       "                // there is no ghosting.\n",
       "                fig.context.clearRect(0, 0, fig.canvas.width, fig.canvas.height);\n",
       "            }\n",
       "            fig.context.drawImage(fig.imageObj, 0, 0);\n",
       "        };\n",
       "\n",
       "    this.imageObj.onunload = function() {\n",
       "        fig.ws.close();\n",
       "    }\n",
       "\n",
       "    this.ws.onmessage = this._make_on_message_function(this);\n",
       "\n",
       "    this.ondownload = ondownload;\n",
       "}\n",
       "\n",
       "mpl.figure.prototype._init_header = function() {\n",
       "    var titlebar = $(\n",
       "        '<div class=\"ui-dialog-titlebar ui-widget-header ui-corner-all ' +\n",
       "        'ui-helper-clearfix\"/>');\n",
       "    var titletext = $(\n",
       "        '<div class=\"ui-dialog-title\" style=\"width: 100%; ' +\n",
       "        'text-align: center; padding: 3px;\"/>');\n",
       "    titlebar.append(titletext)\n",
       "    this.root.append(titlebar);\n",
       "    this.header = titletext[0];\n",
       "}\n",
       "\n",
       "\n",
       "\n",
       "mpl.figure.prototype._canvas_extra_style = function(canvas_div) {\n",
       "\n",
       "}\n",
       "\n",
       "\n",
       "mpl.figure.prototype._root_extra_style = function(canvas_div) {\n",
       "\n",
       "}\n",
       "\n",
       "mpl.figure.prototype._init_canvas = function() {\n",
       "    var fig = this;\n",
       "\n",
       "    var canvas_div = $('<div/>');\n",
       "\n",
       "    canvas_div.attr('style', 'position: relative; clear: both; outline: 0');\n",
       "\n",
       "    function canvas_keyboard_event(event) {\n",
       "        return fig.key_event(event, event['data']);\n",
       "    }\n",
       "\n",
       "    canvas_div.keydown('key_press', canvas_keyboard_event);\n",
       "    canvas_div.keyup('key_release', canvas_keyboard_event);\n",
       "    this.canvas_div = canvas_div\n",
       "    this._canvas_extra_style(canvas_div)\n",
       "    this.root.append(canvas_div);\n",
       "\n",
       "    var canvas = $('<canvas/>');\n",
       "    canvas.addClass('mpl-canvas');\n",
       "    canvas.attr('style', \"left: 0; top: 0; z-index: 0; outline: 0\")\n",
       "\n",
       "    this.canvas = canvas[0];\n",
       "    this.context = canvas[0].getContext(\"2d\");\n",
       "\n",
       "    var backingStore = this.context.backingStorePixelRatio ||\n",
       "\tthis.context.webkitBackingStorePixelRatio ||\n",
       "\tthis.context.mozBackingStorePixelRatio ||\n",
       "\tthis.context.msBackingStorePixelRatio ||\n",
       "\tthis.context.oBackingStorePixelRatio ||\n",
       "\tthis.context.backingStorePixelRatio || 1;\n",
       "\n",
       "    mpl.ratio = (window.devicePixelRatio || 1) / backingStore;\n",
       "\n",
       "    var rubberband = $('<canvas/>');\n",
       "    rubberband.attr('style', \"position: absolute; left: 0; top: 0; z-index: 1;\")\n",
       "\n",
       "    var pass_mouse_events = true;\n",
       "\n",
       "    canvas_div.resizable({\n",
       "        start: function(event, ui) {\n",
       "            pass_mouse_events = false;\n",
       "        },\n",
       "        resize: function(event, ui) {\n",
       "            fig.request_resize(ui.size.width, ui.size.height);\n",
       "        },\n",
       "        stop: function(event, ui) {\n",
       "            pass_mouse_events = true;\n",
       "            fig.request_resize(ui.size.width, ui.size.height);\n",
       "        },\n",
       "    });\n",
       "\n",
       "    function mouse_event_fn(event) {\n",
       "        if (pass_mouse_events)\n",
       "            return fig.mouse_event(event, event['data']);\n",
       "    }\n",
       "\n",
       "    rubberband.mousedown('button_press', mouse_event_fn);\n",
       "    rubberband.mouseup('button_release', mouse_event_fn);\n",
       "    // Throttle sequential mouse events to 1 every 20ms.\n",
       "    rubberband.mousemove('motion_notify', mouse_event_fn);\n",
       "\n",
       "    rubberband.mouseenter('figure_enter', mouse_event_fn);\n",
       "    rubberband.mouseleave('figure_leave', mouse_event_fn);\n",
       "\n",
       "    canvas_div.on(\"wheel\", function (event) {\n",
       "        event = event.originalEvent;\n",
       "        event['data'] = 'scroll'\n",
       "        if (event.deltaY < 0) {\n",
       "            event.step = 1;\n",
       "        } else {\n",
       "            event.step = -1;\n",
       "        }\n",
       "        mouse_event_fn(event);\n",
       "    });\n",
       "\n",
       "    canvas_div.append(canvas);\n",
       "    canvas_div.append(rubberband);\n",
       "\n",
       "    this.rubberband = rubberband;\n",
       "    this.rubberband_canvas = rubberband[0];\n",
       "    this.rubberband_context = rubberband[0].getContext(\"2d\");\n",
       "    this.rubberband_context.strokeStyle = \"#000000\";\n",
       "\n",
       "    this._resize_canvas = function(width, height) {\n",
       "        // Keep the size of the canvas, canvas container, and rubber band\n",
       "        // canvas in synch.\n",
       "        canvas_div.css('width', width)\n",
       "        canvas_div.css('height', height)\n",
       "\n",
       "        canvas.attr('width', width * mpl.ratio);\n",
       "        canvas.attr('height', height * mpl.ratio);\n",
       "        canvas.attr('style', 'width: ' + width + 'px; height: ' + height + 'px;');\n",
       "\n",
       "        rubberband.attr('width', width);\n",
       "        rubberband.attr('height', height);\n",
       "    }\n",
       "\n",
       "    // Set the figure to an initial 600x600px, this will subsequently be updated\n",
       "    // upon first draw.\n",
       "    this._resize_canvas(600, 600);\n",
       "\n",
       "    // Disable right mouse context menu.\n",
       "    $(this.rubberband_canvas).bind(\"contextmenu\",function(e){\n",
       "        return false;\n",
       "    });\n",
       "\n",
       "    function set_focus () {\n",
       "        canvas.focus();\n",
       "        canvas_div.focus();\n",
       "    }\n",
       "\n",
       "    window.setTimeout(set_focus, 100);\n",
       "}\n",
       "\n",
       "mpl.figure.prototype._init_toolbar = function() {\n",
       "    var fig = this;\n",
       "\n",
       "    var nav_element = $('<div/>');\n",
       "    nav_element.attr('style', 'width: 100%');\n",
       "    this.root.append(nav_element);\n",
       "\n",
       "    // Define a callback function for later on.\n",
       "    function toolbar_event(event) {\n",
       "        return fig.toolbar_button_onclick(event['data']);\n",
       "    }\n",
       "    function toolbar_mouse_event(event) {\n",
       "        return fig.toolbar_button_onmouseover(event['data']);\n",
       "    }\n",
       "\n",
       "    for(var toolbar_ind in mpl.toolbar_items) {\n",
       "        var name = mpl.toolbar_items[toolbar_ind][0];\n",
       "        var tooltip = mpl.toolbar_items[toolbar_ind][1];\n",
       "        var image = mpl.toolbar_items[toolbar_ind][2];\n",
       "        var method_name = mpl.toolbar_items[toolbar_ind][3];\n",
       "\n",
       "        if (!name) {\n",
       "            // put a spacer in here.\n",
       "            continue;\n",
       "        }\n",
       "        var button = $('<button/>');\n",
       "        button.addClass('ui-button ui-widget ui-state-default ui-corner-all ' +\n",
       "                        'ui-button-icon-only');\n",
       "        button.attr('role', 'button');\n",
       "        button.attr('aria-disabled', 'false');\n",
       "        button.click(method_name, toolbar_event);\n",
       "        button.mouseover(tooltip, toolbar_mouse_event);\n",
       "\n",
       "        var icon_img = $('<span/>');\n",
       "        icon_img.addClass('ui-button-icon-primary ui-icon');\n",
       "        icon_img.addClass(image);\n",
       "        icon_img.addClass('ui-corner-all');\n",
       "\n",
       "        var tooltip_span = $('<span/>');\n",
       "        tooltip_span.addClass('ui-button-text');\n",
       "        tooltip_span.html(tooltip);\n",
       "\n",
       "        button.append(icon_img);\n",
       "        button.append(tooltip_span);\n",
       "\n",
       "        nav_element.append(button);\n",
       "    }\n",
       "\n",
       "    var fmt_picker_span = $('<span/>');\n",
       "\n",
       "    var fmt_picker = $('<select/>');\n",
       "    fmt_picker.addClass('mpl-toolbar-option ui-widget ui-widget-content');\n",
       "    fmt_picker_span.append(fmt_picker);\n",
       "    nav_element.append(fmt_picker_span);\n",
       "    this.format_dropdown = fmt_picker[0];\n",
       "\n",
       "    for (var ind in mpl.extensions) {\n",
       "        var fmt = mpl.extensions[ind];\n",
       "        var option = $(\n",
       "            '<option/>', {selected: fmt === mpl.default_extension}).html(fmt);\n",
       "        fmt_picker.append(option);\n",
       "    }\n",
       "\n",
       "    // Add hover states to the ui-buttons\n",
       "    $( \".ui-button\" ).hover(\n",
       "        function() { $(this).addClass(\"ui-state-hover\");},\n",
       "        function() { $(this).removeClass(\"ui-state-hover\");}\n",
       "    );\n",
       "\n",
       "    var status_bar = $('<span class=\"mpl-message\"/>');\n",
       "    nav_element.append(status_bar);\n",
       "    this.message = status_bar[0];\n",
       "}\n",
       "\n",
       "mpl.figure.prototype.request_resize = function(x_pixels, y_pixels) {\n",
       "    // Request matplotlib to resize the figure. Matplotlib will then trigger a resize in the client,\n",
       "    // which will in turn request a refresh of the image.\n",
       "    this.send_message('resize', {'width': x_pixels, 'height': y_pixels});\n",
       "}\n",
       "\n",
       "mpl.figure.prototype.send_message = function(type, properties) {\n",
       "    properties['type'] = type;\n",
       "    properties['figure_id'] = this.id;\n",
       "    this.ws.send(JSON.stringify(properties));\n",
       "}\n",
       "\n",
       "mpl.figure.prototype.send_draw_message = function() {\n",
       "    if (!this.waiting) {\n",
       "        this.waiting = true;\n",
       "        this.ws.send(JSON.stringify({type: \"draw\", figure_id: this.id}));\n",
       "    }\n",
       "}\n",
       "\n",
       "\n",
       "mpl.figure.prototype.handle_save = function(fig, msg) {\n",
       "    var format_dropdown = fig.format_dropdown;\n",
       "    var format = format_dropdown.options[format_dropdown.selectedIndex].value;\n",
       "    fig.ondownload(fig, format);\n",
       "}\n",
       "\n",
       "\n",
       "mpl.figure.prototype.handle_resize = function(fig, msg) {\n",
       "    var size = msg['size'];\n",
       "    if (size[0] != fig.canvas.width || size[1] != fig.canvas.height) {\n",
       "        fig._resize_canvas(size[0], size[1]);\n",
       "        fig.send_message(\"refresh\", {});\n",
       "    };\n",
       "}\n",
       "\n",
       "mpl.figure.prototype.handle_rubberband = function(fig, msg) {\n",
       "    var x0 = msg['x0'] / mpl.ratio;\n",
       "    var y0 = (fig.canvas.height - msg['y0']) / mpl.ratio;\n",
       "    var x1 = msg['x1'] / mpl.ratio;\n",
       "    var y1 = (fig.canvas.height - msg['y1']) / mpl.ratio;\n",
       "    x0 = Math.floor(x0) + 0.5;\n",
       "    y0 = Math.floor(y0) + 0.5;\n",
       "    x1 = Math.floor(x1) + 0.5;\n",
       "    y1 = Math.floor(y1) + 0.5;\n",
       "    var min_x = Math.min(x0, x1);\n",
       "    var min_y = Math.min(y0, y1);\n",
       "    var width = Math.abs(x1 - x0);\n",
       "    var height = Math.abs(y1 - y0);\n",
       "\n",
       "    fig.rubberband_context.clearRect(\n",
       "        0, 0, fig.canvas.width / mpl.ratio, fig.canvas.height / mpl.ratio);\n",
       "\n",
       "    fig.rubberband_context.strokeRect(min_x, min_y, width, height);\n",
       "}\n",
       "\n",
       "mpl.figure.prototype.handle_figure_label = function(fig, msg) {\n",
       "    // Updates the figure title.\n",
       "    fig.header.textContent = msg['label'];\n",
       "}\n",
       "\n",
       "mpl.figure.prototype.handle_cursor = function(fig, msg) {\n",
       "    var cursor = msg['cursor'];\n",
       "    switch(cursor)\n",
       "    {\n",
       "    case 0:\n",
       "        cursor = 'pointer';\n",
       "        break;\n",
       "    case 1:\n",
       "        cursor = 'default';\n",
       "        break;\n",
       "    case 2:\n",
       "        cursor = 'crosshair';\n",
       "        break;\n",
       "    case 3:\n",
       "        cursor = 'move';\n",
       "        break;\n",
       "    }\n",
       "    fig.rubberband_canvas.style.cursor = cursor;\n",
       "}\n",
       "\n",
       "mpl.figure.prototype.handle_message = function(fig, msg) {\n",
       "    fig.message.textContent = msg['message'];\n",
       "}\n",
       "\n",
       "mpl.figure.prototype.handle_draw = function(fig, msg) {\n",
       "    // Request the server to send over a new figure.\n",
       "    fig.send_draw_message();\n",
       "}\n",
       "\n",
       "mpl.figure.prototype.handle_image_mode = function(fig, msg) {\n",
       "    fig.image_mode = msg['mode'];\n",
       "}\n",
       "\n",
       "mpl.figure.prototype.updated_canvas_event = function() {\n",
       "    // Called whenever the canvas gets updated.\n",
       "    this.send_message(\"ack\", {});\n",
       "}\n",
       "\n",
       "// A function to construct a web socket function for onmessage handling.\n",
       "// Called in the figure constructor.\n",
       "mpl.figure.prototype._make_on_message_function = function(fig) {\n",
       "    return function socket_on_message(evt) {\n",
       "        if (evt.data instanceof Blob) {\n",
       "            /* FIXME: We get \"Resource interpreted as Image but\n",
       "             * transferred with MIME type text/plain:\" errors on\n",
       "             * Chrome.  But how to set the MIME type?  It doesn't seem\n",
       "             * to be part of the websocket stream */\n",
       "            evt.data.type = \"image/png\";\n",
       "\n",
       "            /* Free the memory for the previous frames */\n",
       "            if (fig.imageObj.src) {\n",
       "                (window.URL || window.webkitURL).revokeObjectURL(\n",
       "                    fig.imageObj.src);\n",
       "            }\n",
       "\n",
       "            fig.imageObj.src = (window.URL || window.webkitURL).createObjectURL(\n",
       "                evt.data);\n",
       "            fig.updated_canvas_event();\n",
       "            fig.waiting = false;\n",
       "            return;\n",
       "        }\n",
       "        else if (typeof evt.data === 'string' && evt.data.slice(0, 21) == \"data:image/png;base64\") {\n",
       "            fig.imageObj.src = evt.data;\n",
       "            fig.updated_canvas_event();\n",
       "            fig.waiting = false;\n",
       "            return;\n",
       "        }\n",
       "\n",
       "        var msg = JSON.parse(evt.data);\n",
       "        var msg_type = msg['type'];\n",
       "\n",
       "        // Call the  \"handle_{type}\" callback, which takes\n",
       "        // the figure and JSON message as its only arguments.\n",
       "        try {\n",
       "            var callback = fig[\"handle_\" + msg_type];\n",
       "        } catch (e) {\n",
       "            console.log(\"No handler for the '\" + msg_type + \"' message type: \", msg);\n",
       "            return;\n",
       "        }\n",
       "\n",
       "        if (callback) {\n",
       "            try {\n",
       "                // console.log(\"Handling '\" + msg_type + \"' message: \", msg);\n",
       "                callback(fig, msg);\n",
       "            } catch (e) {\n",
       "                console.log(\"Exception inside the 'handler_\" + msg_type + \"' callback:\", e, e.stack, msg);\n",
       "            }\n",
       "        }\n",
       "    };\n",
       "}\n",
       "\n",
       "// from http://stackoverflow.com/questions/1114465/getting-mouse-location-in-canvas\n",
       "mpl.findpos = function(e) {\n",
       "    //this section is from http://www.quirksmode.org/js/events_properties.html\n",
       "    var targ;\n",
       "    if (!e)\n",
       "        e = window.event;\n",
       "    if (e.target)\n",
       "        targ = e.target;\n",
       "    else if (e.srcElement)\n",
       "        targ = e.srcElement;\n",
       "    if (targ.nodeType == 3) // defeat Safari bug\n",
       "        targ = targ.parentNode;\n",
       "\n",
       "    // jQuery normalizes the pageX and pageY\n",
       "    // pageX,Y are the mouse positions relative to the document\n",
       "    // offset() returns the position of the element relative to the document\n",
       "    var x = e.pageX - $(targ).offset().left;\n",
       "    var y = e.pageY - $(targ).offset().top;\n",
       "\n",
       "    return {\"x\": x, \"y\": y};\n",
       "};\n",
       "\n",
       "/*\n",
       " * return a copy of an object with only non-object keys\n",
       " * we need this to avoid circular references\n",
       " * http://stackoverflow.com/a/24161582/3208463\n",
       " */\n",
       "function simpleKeys (original) {\n",
       "  return Object.keys(original).reduce(function (obj, key) {\n",
       "    if (typeof original[key] !== 'object')\n",
       "        obj[key] = original[key]\n",
       "    return obj;\n",
       "  }, {});\n",
       "}\n",
       "\n",
       "mpl.figure.prototype.mouse_event = function(event, name) {\n",
       "    var canvas_pos = mpl.findpos(event)\n",
       "\n",
       "    if (name === 'button_press')\n",
       "    {\n",
       "        this.canvas.focus();\n",
       "        this.canvas_div.focus();\n",
       "    }\n",
       "\n",
       "    var x = canvas_pos.x * mpl.ratio;\n",
       "    var y = canvas_pos.y * mpl.ratio;\n",
       "\n",
       "    this.send_message(name, {x: x, y: y, button: event.button,\n",
       "                             step: event.step,\n",
       "                             guiEvent: simpleKeys(event)});\n",
       "\n",
       "    /* This prevents the web browser from automatically changing to\n",
       "     * the text insertion cursor when the button is pressed.  We want\n",
       "     * to control all of the cursor setting manually through the\n",
       "     * 'cursor' event from matplotlib */\n",
       "    event.preventDefault();\n",
       "    return false;\n",
       "}\n",
       "\n",
       "mpl.figure.prototype._key_event_extra = function(event, name) {\n",
       "    // Handle any extra behaviour associated with a key event\n",
       "}\n",
       "\n",
       "mpl.figure.prototype.key_event = function(event, name) {\n",
       "\n",
       "    // Prevent repeat events\n",
       "    if (name == 'key_press')\n",
       "    {\n",
       "        if (event.which === this._key)\n",
       "            return;\n",
       "        else\n",
       "            this._key = event.which;\n",
       "    }\n",
       "    if (name == 'key_release')\n",
       "        this._key = null;\n",
       "\n",
       "    var value = '';\n",
       "    if (event.ctrlKey && event.which != 17)\n",
       "        value += \"ctrl+\";\n",
       "    if (event.altKey && event.which != 18)\n",
       "        value += \"alt+\";\n",
       "    if (event.shiftKey && event.which != 16)\n",
       "        value += \"shift+\";\n",
       "\n",
       "    value += 'k';\n",
       "    value += event.which.toString();\n",
       "\n",
       "    this._key_event_extra(event, name);\n",
       "\n",
       "    this.send_message(name, {key: value,\n",
       "                             guiEvent: simpleKeys(event)});\n",
       "    return false;\n",
       "}\n",
       "\n",
       "mpl.figure.prototype.toolbar_button_onclick = function(name) {\n",
       "    if (name == 'download') {\n",
       "        this.handle_save(this, null);\n",
       "    } else {\n",
       "        this.send_message(\"toolbar_button\", {name: name});\n",
       "    }\n",
       "};\n",
       "\n",
       "mpl.figure.prototype.toolbar_button_onmouseover = function(tooltip) {\n",
       "    this.message.textContent = tooltip;\n",
       "};\n",
       "mpl.toolbar_items = [[\"Home\", \"Reset original view\", \"fa fa-home icon-home\", \"home\"], [\"Back\", \"Back to previous view\", \"fa fa-arrow-left icon-arrow-left\", \"back\"], [\"Forward\", \"Forward to next view\", \"fa fa-arrow-right icon-arrow-right\", \"forward\"], [\"\", \"\", \"\", \"\"], [\"Pan\", \"Pan axes with left mouse, zoom with right\", \"fa fa-arrows icon-move\", \"pan\"], [\"Zoom\", \"Zoom to rectangle\", \"fa fa-square-o icon-check-empty\", \"zoom\"], [\"\", \"\", \"\", \"\"], [\"Download\", \"Download plot\", \"fa fa-floppy-o icon-save\", \"download\"]];\n",
       "\n",
       "mpl.extensions = [\"eps\", \"jpeg\", \"pdf\", \"png\", \"ps\", \"raw\", \"svg\", \"tif\"];\n",
       "\n",
       "mpl.default_extension = \"png\";var comm_websocket_adapter = function(comm) {\n",
       "    // Create a \"websocket\"-like object which calls the given IPython comm\n",
       "    // object with the appropriate methods. Currently this is a non binary\n",
       "    // socket, so there is still some room for performance tuning.\n",
       "    var ws = {};\n",
       "\n",
       "    ws.close = function() {\n",
       "        comm.close()\n",
       "    };\n",
       "    ws.send = function(m) {\n",
       "        //console.log('sending', m);\n",
       "        comm.send(m);\n",
       "    };\n",
       "    // Register the callback with on_msg.\n",
       "    comm.on_msg(function(msg) {\n",
       "        //console.log('receiving', msg['content']['data'], msg);\n",
       "        // Pass the mpl event to the overridden (by mpl) onmessage function.\n",
       "        ws.onmessage(msg['content']['data'])\n",
       "    });\n",
       "    return ws;\n",
       "}\n",
       "\n",
       "mpl.mpl_figure_comm = function(comm, msg) {\n",
       "    // This is the function which gets called when the mpl process\n",
       "    // starts-up an IPython Comm through the \"matplotlib\" channel.\n",
       "\n",
       "    var id = msg.content.data.id;\n",
       "    // Get hold of the div created by the display call when the Comm\n",
       "    // socket was opened in Python.\n",
       "    var element = $(\"#\" + id);\n",
       "    var ws_proxy = comm_websocket_adapter(comm)\n",
       "\n",
       "    function ondownload(figure, format) {\n",
       "        window.open(figure.imageObj.src);\n",
       "    }\n",
       "\n",
       "    var fig = new mpl.figure(id, ws_proxy,\n",
       "                           ondownload,\n",
       "                           element.get(0));\n",
       "\n",
       "    // Call onopen now - mpl needs it, as it is assuming we've passed it a real\n",
       "    // web socket which is closed, not our websocket->open comm proxy.\n",
       "    ws_proxy.onopen();\n",
       "\n",
       "    fig.parent_element = element.get(0);\n",
       "    fig.cell_info = mpl.find_output_cell(\"<div id='\" + id + \"'></div>\");\n",
       "    if (!fig.cell_info) {\n",
       "        console.error(\"Failed to find cell for figure\", id, fig);\n",
       "        return;\n",
       "    }\n",
       "\n",
       "    var output_index = fig.cell_info[2]\n",
       "    var cell = fig.cell_info[0];\n",
       "\n",
       "};\n",
       "\n",
       "mpl.figure.prototype.handle_close = function(fig, msg) {\n",
       "    var width = fig.canvas.width/mpl.ratio\n",
       "    fig.root.unbind('remove')\n",
       "\n",
       "    // Update the output cell to use the data from the current canvas.\n",
       "    fig.push_to_output();\n",
       "    var dataURL = fig.canvas.toDataURL();\n",
       "    // Re-enable the keyboard manager in IPython - without this line, in FF,\n",
       "    // the notebook keyboard shortcuts fail.\n",
       "    IPython.keyboard_manager.enable()\n",
       "    $(fig.parent_element).html('<img src=\"' + dataURL + '\" width=\"' + width + '\">');\n",
       "    fig.close_ws(fig, msg);\n",
       "}\n",
       "\n",
       "mpl.figure.prototype.close_ws = function(fig, msg){\n",
       "    fig.send_message('closing', msg);\n",
       "    // fig.ws.close()\n",
       "}\n",
       "\n",
       "mpl.figure.prototype.push_to_output = function(remove_interactive) {\n",
       "    // Turn the data on the canvas into data in the output cell.\n",
       "    var width = this.canvas.width/mpl.ratio\n",
       "    var dataURL = this.canvas.toDataURL();\n",
       "    this.cell_info[1]['text/html'] = '<img src=\"' + dataURL + '\" width=\"' + width + '\">';\n",
       "}\n",
       "\n",
       "mpl.figure.prototype.updated_canvas_event = function() {\n",
       "    // Tell IPython that the notebook contents must change.\n",
       "    IPython.notebook.set_dirty(true);\n",
       "    this.send_message(\"ack\", {});\n",
       "    var fig = this;\n",
       "    // Wait a second, then push the new image to the DOM so\n",
       "    // that it is saved nicely (might be nice to debounce this).\n",
       "    setTimeout(function () { fig.push_to_output() }, 1000);\n",
       "}\n",
       "\n",
       "mpl.figure.prototype._init_toolbar = function() {\n",
       "    var fig = this;\n",
       "\n",
       "    var nav_element = $('<div/>');\n",
       "    nav_element.attr('style', 'width: 100%');\n",
       "    this.root.append(nav_element);\n",
       "\n",
       "    // Define a callback function for later on.\n",
       "    function toolbar_event(event) {\n",
       "        return fig.toolbar_button_onclick(event['data']);\n",
       "    }\n",
       "    function toolbar_mouse_event(event) {\n",
       "        return fig.toolbar_button_onmouseover(event['data']);\n",
       "    }\n",
       "\n",
       "    for(var toolbar_ind in mpl.toolbar_items){\n",
       "        var name = mpl.toolbar_items[toolbar_ind][0];\n",
       "        var tooltip = mpl.toolbar_items[toolbar_ind][1];\n",
       "        var image = mpl.toolbar_items[toolbar_ind][2];\n",
       "        var method_name = mpl.toolbar_items[toolbar_ind][3];\n",
       "\n",
       "        if (!name) { continue; };\n",
       "\n",
       "        var button = $('<button class=\"btn btn-default\" href=\"#\" title=\"' + name + '\"><i class=\"fa ' + image + ' fa-lg\"></i></button>');\n",
       "        button.click(method_name, toolbar_event);\n",
       "        button.mouseover(tooltip, toolbar_mouse_event);\n",
       "        nav_element.append(button);\n",
       "    }\n",
       "\n",
       "    // Add the status bar.\n",
       "    var status_bar = $('<span class=\"mpl-message\" style=\"text-align:right; float: right;\"/>');\n",
       "    nav_element.append(status_bar);\n",
       "    this.message = status_bar[0];\n",
       "\n",
       "    // Add the close button to the window.\n",
       "    var buttongrp = $('<div class=\"btn-group inline pull-right\"></div>');\n",
       "    var button = $('<button class=\"btn btn-mini btn-primary\" href=\"#\" title=\"Stop Interaction\"><i class=\"fa fa-power-off icon-remove icon-large\"></i></button>');\n",
       "    button.click(function (evt) { fig.handle_close(fig, {}); } );\n",
       "    button.mouseover('Stop Interaction', toolbar_mouse_event);\n",
       "    buttongrp.append(button);\n",
       "    var titlebar = this.root.find($('.ui-dialog-titlebar'));\n",
       "    titlebar.prepend(buttongrp);\n",
       "}\n",
       "\n",
       "mpl.figure.prototype._root_extra_style = function(el){\n",
       "    var fig = this\n",
       "    el.on(\"remove\", function(){\n",
       "\tfig.close_ws(fig, {});\n",
       "    });\n",
       "}\n",
       "\n",
       "mpl.figure.prototype._canvas_extra_style = function(el){\n",
       "    // this is important to make the div 'focusable\n",
       "    el.attr('tabindex', 0)\n",
       "    // reach out to IPython and tell the keyboard manager to turn it's self\n",
       "    // off when our div gets focus\n",
       "\n",
       "    // location in version 3\n",
       "    if (IPython.notebook.keyboard_manager) {\n",
       "        IPython.notebook.keyboard_manager.register_events(el);\n",
       "    }\n",
       "    else {\n",
       "        // location in version 2\n",
       "        IPython.keyboard_manager.register_events(el);\n",
       "    }\n",
       "\n",
       "}\n",
       "\n",
       "mpl.figure.prototype._key_event_extra = function(event, name) {\n",
       "    var manager = IPython.notebook.keyboard_manager;\n",
       "    if (!manager)\n",
       "        manager = IPython.keyboard_manager;\n",
       "\n",
       "    // Check for shift+enter\n",
       "    if (event.shiftKey && event.which == 13) {\n",
       "        this.canvas_div.blur();\n",
       "        // select the cell after this one\n",
       "        var index = IPython.notebook.find_cell_index(this.cell_info[0]);\n",
       "        IPython.notebook.select(index + 1);\n",
       "    }\n",
       "}\n",
       "\n",
       "mpl.figure.prototype.handle_save = function(fig, msg) {\n",
       "    fig.ondownload(fig, null);\n",
       "}\n",
       "\n",
       "\n",
       "mpl.find_output_cell = function(html_output) {\n",
       "    // Return the cell and output element which can be found *uniquely* in the notebook.\n",
       "    // Note - this is a bit hacky, but it is done because the \"notebook_saving.Notebook\"\n",
       "    // IPython event is triggered only after the cells have been serialised, which for\n",
       "    // our purposes (turning an active figure into a static one), is too late.\n",
       "    var cells = IPython.notebook.get_cells();\n",
       "    var ncells = cells.length;\n",
       "    for (var i=0; i<ncells; i++) {\n",
       "        var cell = cells[i];\n",
       "        if (cell.cell_type === 'code'){\n",
       "            for (var j=0; j<cell.output_area.outputs.length; j++) {\n",
       "                var data = cell.output_area.outputs[j];\n",
       "                if (data.data) {\n",
       "                    // IPython >= 3 moved mimebundle to data attribute of output\n",
       "                    data = data.data;\n",
       "                }\n",
       "                if (data['text/html'] == html_output) {\n",
       "                    return [cell, data, j];\n",
       "                }\n",
       "            }\n",
       "        }\n",
       "    }\n",
       "}\n",
       "\n",
       "// Register the function which deals with the matplotlib target/channel.\n",
       "// The kernel may be null if the page has been refreshed.\n",
       "if (IPython.notebook.kernel != null) {\n",
       "    IPython.notebook.kernel.comm_manager.register_target('matplotlib', mpl.mpl_figure_comm);\n",
       "}\n"
      ],
      "text/plain": [
       "<IPython.core.display.Javascript object>"
      ]
     },
     "metadata": {},
     "output_type": "display_data"
    },
    {
     "data": {
      "text/html": [
       "<img src=\"data:image/png;base64,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\" width=\"900\">"
      ],
      "text/plain": [
       "<IPython.core.display.HTML object>"
      ]
     },
     "metadata": {},
     "output_type": "display_data"
    },
    {
     "data": {
      "text/plain": [
       "Text(0, 0.5, 'Daily vaccination number')"
      ]
     },
     "execution_count": 53,
     "metadata": {},
     "output_type": "execute_result"
    }
   ],
   "source": [
    "fig,ax = plt.subplots(figsize=(9,5))\n",
    "ax.plot('date', 'N_vacc', data=test_df, c='green', label='time-dep function')\n",
    "ax.plot(sim_dummy_model_vacc['time'], sim_dummy_model_vacc['V_new'].sum(dim='Nc'), c='blue', linestyle='--', label='model')\n",
    "ax.legend()\n",
    "ax.set_ylabel('Daily vaccination number')"
   ]
  },
  {
   "cell_type": "code",
   "execution_count": null,
   "metadata": {
    "ExecuteTime": {
     "end_time": "2021-02-04T14:48:17.563579Z",
     "start_time": "2021-02-04T14:48:16.512345Z"
    },
    "hidden": true
   },
   "outputs": [],
   "source": [
    "fig,ax = plt.subplots(figsize=(11,5))\n",
    "ax.plot('date', 'N_cum', data=test_df, c='black')\n",
    "ax2 = ax.twinx()\n",
    "ax2.plot('date', 'N_vacc', data=test_df, c='gray', linestyle='--')\n",
    "ax.set_ylabel('Total number of people vaccinated')\n",
    "ax2.set_ylabel('Number of people vaccinated daily')\n",
    "ax.grid(False)\n",
    "ax2.grid(False)\n",
    "ax.set_xlabel('Time')\n",
    "ax.set_ylim(0,)\n",
    "ax2.set_ylim(0,)\n",
    "ax2.set_axis_on()\n",
    "yticks = [2,4,6,8]\n",
    "ax.set_yticks([0]+[i*10**6 for i in yticks])\n",
    "ax.set_yticklabels(['0']+[str(i)+'*10$^6$' for i in yticks])\n",
    "yticks2 = [2,4,6]\n",
    "ax2.set_yticks([0]+[i*10**4 for i in yticks2])\n",
    "ax2.set_yticklabels(['0']+[str(i)+'*10$^4$' for i in yticks2])\n",
    "fig.savefig('../../results/predictions/national/restore_v7.0/vacc_strategy', dpi=400)"
   ]
  },
  {
   "cell_type": "code",
   "execution_count": null,
   "metadata": {
    "ExecuteTime": {
     "end_time": "2021-01-25T07:50:42.993565Z",
     "start_time": "2021-01-25T07:50:42.949539Z"
    },
    "hidden": true
   },
   "outputs": [],
   "source": [
    "N = d['jan']/2*31+d['feb']/2*28+d['mar-apr']/2*(31+30)+d['may-aug']/2*(31+30)\n",
    "print('Approximate total number of vaccinations by august 1: {}'.format(N))\n",
    "#pd.to_datetime(end_sim) - pd.to_datetime(start_calibration)\n",
    "V_pool_aug = sim_dummy_model_vacc['V'].sum(dim='Nc').values[-1]\n",
    "print('Number of persons in vaccinated pool by end of simulation: {}'.format(V_pool_aug))\n",
    "V_new_sum = sim_dummy_model_vacc['V_new'].sum(dim='Nc').sum(dim='time').values\n",
    "print('Total number of people vaccinated by end of simulation: {}'.format(V_new_sum))"
   ]
  },
  {
   "cell_type": "code",
   "execution_count": null,
   "metadata": {
    "ExecuteTime": {
     "end_time": "2021-02-03T08:35:43.270898Z",
     "start_time": "2021-02-03T08:35:43.088811Z"
    },
    "hidden": true
   },
   "outputs": [],
   "source": [
    "population_status(sim_dummy_model_no_vacc)"
   ]
  },
  {
   "cell_type": "code",
   "execution_count": null,
   "metadata": {
    "ExecuteTime": {
     "end_time": "2021-02-03T08:35:48.462941Z",
     "start_time": "2021-02-03T08:35:48.320619Z"
    },
    "hidden": true
   },
   "outputs": [],
   "source": [
    "population_status(sim_dummy_model_vacc)"
   ]
  },
  {
   "cell_type": "code",
   "execution_count": null,
   "metadata": {
    "ExecuteTime": {
     "end_time": "2021-02-03T08:35:52.207649Z",
     "start_time": "2021-02-03T08:35:52.060325Z"
    },
    "hidden": true
   },
   "outputs": [],
   "source": [
    "population_status(sim_dummy_model_vacc_UK)"
   ]
  },
  {
   "cell_type": "code",
   "execution_count": null,
   "metadata": {
    "ExecuteTime": {
     "end_time": "2021-02-03T12:29:46.340982Z",
     "start_time": "2021-02-03T12:29:46.157315Z"
    },
    "hidden": true
   },
   "outputs": [],
   "source": [
    "population_status(sim_dummy_model_vacc_UK)"
   ]
  },
  {
   "cell_type": "code",
   "execution_count": null,
   "metadata": {
    "ExecuteTime": {
     "end_time": "2021-01-22T11:36:23.480169Z",
     "start_time": "2021-01-22T11:36:23.261684Z"
    },
    "hidden": true
   },
   "outputs": [],
   "source": [
    "# check evolutie van alpha\n",
    "fig,ax = plt.subplots()\n",
    "sim_dummy_model_vacc_UK['alpha'].mean(dim='Nc').plot(ax=ax)"
   ]
  },
  {
   "cell_type": "code",
   "execution_count": null,
   "metadata": {
    "ExecuteTime": {
     "end_time": "2021-01-25T09:12:46.338422Z",
     "start_time": "2021-01-25T09:12:46.295280Z"
    },
    "hidden": true
   },
   "outputs": [],
   "source": [
    "N_days = check_overtake_duration(sim_dummy_model_vacc_UK, dims='Nc')\n",
    "N_days"
   ]
  },
  {
   "cell_type": "markdown",
   "metadata": {
    "hidden": true
   },
   "source": [
    "duurt altijd ong. 100 dagen..., onafhankelijk van hoeveel je initialiseert. Ws omdat in deze test het virus nog niet verspreid is (en iedereen susceptible), dus de verspreiding wordt direct volledig overgenomen door besmettelijke variant."
   ]
  },
  {
   "cell_type": "markdown",
   "metadata": {
    "heading_collapsed": true
   },
   "source": [
    "# Test spatial model"
   ]
  },
  {
   "cell_type": "markdown",
   "metadata": {
    "hidden": true
   },
   "source": [
    "N_vacc uit vaccination function moet hier 2D zijn! Geo unit x age class!"
   ]
  },
  {
   "cell_type": "code",
   "execution_count": null,
   "metadata": {
    "ExecuteTime": {
     "end_time": "2021-02-10T15:23:56.896238Z",
     "start_time": "2021-02-10T15:23:56.659830Z"
    },
    "hidden": true
   },
   "outputs": [],
   "source": [
    "geo_unit = 'prov'\n",
    "initN_spatial, Nc_home, Nc_work, Nc_schools, Nc_transport, Nc_leisure, Nc_others, Nc_total = model_parameters.get_interaction_matrices(dataset='willem_2012', spatial=geo_unit)\n",
    "shape = initN_spatial.shape"
   ]
  },
  {
   "cell_type": "code",
   "execution_count": null,
   "metadata": {
    "ExecuteTime": {
     "end_time": "2021-02-10T15:23:59.358200Z",
     "start_time": "2021-02-10T15:23:59.283069Z"
    },
    "hidden": true
   },
   "outputs": [],
   "source": [
    "# divide daily vaccinations over spatial units according to population fraction in unit\n",
    "fraction_per_arr = initN_spatial.sum(axis=1)/initN_spatial.sum().sum()\n",
    "d_spatial = {key:el*fraction_per_arr[:,np.newaxis] for key,el in d.items()}"
   ]
  },
  {
   "cell_type": "code",
   "execution_count": null,
   "metadata": {
    "ExecuteTime": {
     "end_time": "2021-02-10T15:23:59.948066Z",
     "start_time": "2021-02-10T15:23:59.851992Z"
    },
    "hidden": true
   },
   "outputs": [],
   "source": [
    "# Need to initiate I also with the co-infection model, otherwise divison by zero occurs\n",
    "initial_states = {'S': initN_spatial, 'E': np.ones(shape), 'I': np.ones(shape), 'alpha':np.zeros(shape)}"
   ]
  },
  {
   "cell_type": "code",
   "execution_count": null,
   "metadata": {
    "ExecuteTime": {
     "end_time": "2021-02-08T18:31:17.207750Z",
     "start_time": "2021-02-08T18:31:16.500741Z"
    },
    "hidden": true
   },
   "outputs": [],
   "source": [
    "params = model_parameters.get_COVID19_SEIRD_parameters(spatial=geo_unit)\n",
    "dummy_spatial_model = models.COVID19_SEIRD_spatial(initial_states, params, spatial=geo_unit)\n",
    "sim_dummy_spatial_model = dummy_spatial_model.sim(time=end_sim, start_date=start_calibration)"
   ]
  },
  {
   "cell_type": "code",
   "execution_count": null,
   "metadata": {
    "ExecuteTime": {
     "end_time": "2021-02-10T15:24:57.432317Z",
     "start_time": "2021-02-10T15:24:04.420793Z"
    },
    "hidden": true
   },
   "outputs": [],
   "source": [
    "params = model_parameters.get_COVID19_SEIRD_parameters(spatial=geo_unit)\n",
    "params.update({'d' : d_spatial,\n",
    "               'NH' : NH,\n",
    "               'e' : np.ones(levels)*0.9,\n",
    "               'initN' : initN_spatial,\n",
    "              })\n",
    "dummy_spatial_model_vacc = models.COVID19_SEIRD_spatial(initial_states, params, spatial=geo_unit, time_dependent_parameters={'N_vacc': vacc_strategy})\n",
    "sim_dummy_spatial_model_vacc = dummy_spatial_model_vacc.sim(time=end_sim, start_date=start_calibration)"
   ]
  },
  {
   "cell_type": "code",
   "execution_count": null,
   "metadata": {
    "ExecuteTime": {
     "end_time": "2021-02-10T07:48:53.404751Z",
     "start_time": "2021-02-10T07:48:53.330911Z"
    },
    "hidden": true,
    "scrolled": true
   },
   "outputs": [],
   "source": [
    "timerange = pd.date_range(start_calibration,'2021-09-01')\n",
    "test_dict = {}\n",
    "for t in timerange:\n",
    "    test_dict[t] = np.sum(vacc_strategy(t=t, param=None, d=d, NH=NH, initN=initN_spatial), axis=1)\n",
    "test_df = pd.DataFrame.from_dict(test_dict, orient='index').reset_index()\n",
    "# test_df.columns = ['date','N_vacc']\n",
    "# test_df['N_cum'] = test_df.N_vacc.cumsum()"
   ]
  },
  {
   "cell_type": "code",
   "execution_count": null,
   "metadata": {
    "ExecuteTime": {
     "end_time": "2021-02-10T07:50:18.231677Z",
     "start_time": "2021-02-10T07:50:18.178076Z"
    },
    "hidden": true
   },
   "outputs": [],
   "source": [
    "vacc_strategy(t=t, param=None, d=d, NH=NH, initN=initN_spatial).shape"
   ]
  },
  {
   "cell_type": "code",
   "execution_count": null,
   "metadata": {
    "ExecuteTime": {
     "end_time": "2021-02-10T07:50:34.153360Z",
     "start_time": "2021-02-10T07:50:34.110543Z"
    },
    "hidden": true
   },
   "outputs": [],
   "source": [
    "(np.ones(shape)*5000).shape"
   ]
  },
  {
   "cell_type": "code",
   "execution_count": null,
   "metadata": {
    "ExecuteTime": {
     "end_time": "2021-02-10T15:27:01.778171Z",
     "start_time": "2021-02-10T15:27:01.690114Z"
    },
    "hidden": true
   },
   "outputs": [],
   "source": [
    "np.sum(np.ones(shape)*50)*16"
   ]
  },
  {
   "cell_type": "code",
   "execution_count": null,
   "metadata": {
    "ExecuteTime": {
     "end_time": "2021-02-10T15:31:27.600752Z",
     "start_time": "2021-02-10T15:31:27.519143Z"
    },
    "hidden": true
   },
   "outputs": [],
   "source": [
    "start_calibration"
   ]
  },
  {
   "cell_type": "code",
   "execution_count": null,
   "metadata": {
    "ExecuteTime": {
     "end_time": "2021-02-10T15:31:34.114385Z",
     "start_time": "2021-02-10T15:31:34.075258Z"
    },
    "hidden": true
   },
   "outputs": [],
   "source": [
    "end_sim"
   ]
  },
  {
   "cell_type": "code",
   "execution_count": null,
   "metadata": {
    "ExecuteTime": {
     "end_time": "2021-02-10T15:33:20.741167Z",
     "start_time": "2021-02-10T15:33:11.746880Z"
    },
    "hidden": true,
    "scrolled": true
   },
   "outputs": [],
   "source": [
    "params = model_parameters.get_COVID19_SEIRD_parameters(spatial=geo_unit)\n",
    "params.update({\n",
    "               'e' : np.ones(levels)*0.9,\n",
    "               'N_vacc': np.ones(shape)*50,\n",
    "              })\n",
    "dummy_spatial_model_vacc = models.COVID19_SEIRD_spatial(initial_states, params, spatial=geo_unit)#, time_dependent_parameters={'N_vacc': vacc_strategy}\n",
    "sim_dummy_spatial_model_vacc = dummy_spatial_model_vacc.sim(time=end_sim, start_date=start_calibration)"
   ]
  },
  {
   "cell_type": "markdown",
   "metadata": {
    "hidden": true
   },
   "source": [
    "**double stratified parameters toevoegen?**"
   ]
  },
  {
   "cell_type": "code",
   "execution_count": null,
   "metadata": {
    "ExecuteTime": {
     "end_time": "2021-02-10T15:33:20.850328Z",
     "start_time": "2021-02-10T15:33:20.746660Z"
    },
    "hidden": true
   },
   "outputs": [],
   "source": [
    "sim_dummy_spatial_model_vacc['V'].sum(dim=['place','Nc'])"
   ]
  },
  {
   "cell_type": "code",
   "execution_count": null,
   "metadata": {
    "ExecuteTime": {
     "end_time": "2021-02-10T15:33:41.318193Z",
     "start_time": "2021-02-10T15:33:41.276320Z"
    },
    "hidden": true
   },
   "outputs": [],
   "source": [
    "sim_dummy_spatial_model_vacc['V_new'].sum(dim=['place','Nc']).values"
   ]
  },
  {
   "cell_type": "code",
   "execution_count": null,
   "metadata": {
    "ExecuteTime": {
     "end_time": "2021-02-10T15:33:45.224485Z",
     "start_time": "2021-02-10T15:33:45.069444Z"
    },
    "hidden": true
   },
   "outputs": [],
   "source": [
    "fig,ax = plt.subplots(figsize=(9,5))\n",
    "#ax.plot('date', 'N_vacc', data=test_df, c='green', label='time-dep function')\n",
    "ax.plot(sim_dummy_spatial_model_vacc['time'], sim_dummy_spatial_model_vacc['V_new'].sum(dim=['place','Nc']), c='blue', linestyle='--', label='model')\n",
    "ax.legend()\n",
    "ax.set_ylabel('Daily vaccination number')"
   ]
  },
  {
   "cell_type": "code",
   "execution_count": null,
   "metadata": {
    "ExecuteTime": {
     "end_time": "2021-02-08T18:39:34.049593Z",
     "start_time": "2021-02-08T18:39:33.830437Z"
    },
    "hidden": true
   },
   "outputs": [],
   "source": [
    "population_status(sim_dummy_spatial_model.mean(dim='place'))"
   ]
  },
  {
   "cell_type": "code",
   "execution_count": null,
   "metadata": {
    "ExecuteTime": {
     "end_time": "2021-02-04T06:25:13.533280Z",
     "start_time": "2021-02-04T06:25:13.277966Z"
    },
    "hidden": true
   },
   "outputs": [],
   "source": [
    "sim_dummy_spatial_model_vacc.mean(dim='place')"
   ]
  },
  {
   "cell_type": "code",
   "execution_count": null,
   "metadata": {
    "ExecuteTime": {
     "end_time": "2021-02-08T18:36:19.760761Z",
     "start_time": "2021-02-08T18:36:19.484685Z"
    },
    "hidden": true
   },
   "outputs": [],
   "source": [
    "population_status(sim_dummy_spatial_model_vacc.mean(dim='place'))"
   ]
  },
  {
   "cell_type": "markdown",
   "metadata": {},
   "source": [
    "# Scenarios"
   ]
  },
  {
   "cell_type": "code",
   "execution_count": 96,
   "metadata": {
    "ExecuteTime": {
     "end_time": "2021-02-11T09:42:43.701472Z",
     "start_time": "2021-02-11T09:42:43.490870Z"
    }
   },
   "outputs": [],
   "source": [
    "start_sim = '2020-09-01'\n",
    "end_sim = '2021-07-01'\n",
    "warmup = 0\n",
    "n_samples = 3#100\n",
    "n_draws_per_sample = 1000\n",
    "effectivity = 0.9"
   ]
  },
  {
   "cell_type": "code",
   "execution_count": 97,
   "metadata": {
    "ExecuteTime": {
     "end_time": "2021-02-11T09:42:44.089228Z",
     "start_time": "2021-02-11T09:42:44.019663Z"
    }
   },
   "outputs": [],
   "source": [
    "Re_1feb = 0.958*1.4\n",
    "# current estimation of UK prevalence between 20 and 40% => take 30%\n",
    "current_UK = 0.3\n",
    "# 5-6 days incubation\n",
    "incubation_period = 5\n",
    "n_periods = 30/incubation_period"
   ]
  },
  {
   "cell_type": "code",
   "execution_count": 98,
   "metadata": {
    "ExecuteTime": {
     "end_time": "2021-02-11T09:42:44.724324Z",
     "start_time": "2021-02-11T09:42:44.660387Z"
    }
   },
   "outputs": [],
   "source": [
    "# How much on January 1? (30 days ago)\n",
    "portion_new_strain_introduced = current_UK/(Re_1feb**n_periods) #0.001\n",
    "injection_day = (pd.Timestamp('2021-01-01') - pd.Timestamp(start_sim))/pd.Timedelta('1D')"
   ]
  },
  {
   "cell_type": "markdown",
   "metadata": {},
   "source": [
    "## Run and save all scenarios"
   ]
  },
  {
   "cell_type": "code",
   "execution_count": null,
   "metadata": {
    "ExecuteTime": {
     "end_time": "2021-02-11T09:07:20.523266Z",
     "start_time": "2021-02-11T09:07:20.431482Z"
    },
    "scrolled": true
   },
   "outputs": [],
   "source": [
    "scenario_settings = pd.DataFrame({\n",
    "    'Scenario_name':['S1a','S1b','S1c','S2a','S2b','S2c','S3a','S3b','S3c','S4a','S4b','S4c',\n",
    "                     'S5a','S5b','S5c','S6a','S6b','S6c','S7a','S7b','S7c','S8a','S8b','S8c',\n",
    "                     'SNV1a','SNV1b','SNV1c'],\n",
    "    'scenario':(3*['1']+3*['2']+3*['3']+3*['4'])*2+3*['1'],\n",
    "    'effectivity':12*[0.9]+12*[0.7]+3*[0.9],\n",
    "    'K':9*[1.3,1.5,1.7],\n",
    "    'vacc_fun':24*[vacc_strategy]+3*[None]})\n",
    "scenario_settings = scenario_settings.set_index('Scenario_name')"
   ]
  },
  {
   "cell_type": "code",
   "execution_count": null,
   "metadata": {
    "ExecuteTime": {
     "end_time": "2021-02-11T09:07:27.204774Z",
     "start_time": "2021-02-11T09:07:23.509317Z"
    }
   },
   "outputs": [],
   "source": [
    "scen='S2a'\n",
    "scenario = scenario_settings.loc[scen,'scenario']\n",
    "effectivity = scenario_settings.loc[scen,'effectivity']\n",
    "K = scenario_settings.loc[scen,'K']\n",
    "vacc_fun = scenario_settings.loc[scen,'vacc_fun']\n",
    "\n",
    "scenario_model = vaccin_model(initial_states_sept, scenario=scenario, effectivity=effectivity, \n",
    "                         injection_day=injection_day, injection_ratio=portion_new_strain_introduced,\n",
    "                         Nc_fun=report7_policy_function, N_vacc_fun=vacc_fun)\n",
    "scenario_model.parameters.update({'K':K})"
   ]
  },
  {
   "cell_type": "code",
   "execution_count": null,
   "metadata": {
    "ExecuteTime": {
     "end_time": "2021-02-11T09:17:11.567092Z",
     "start_time": "2021-02-11T09:17:09.230960Z"
    }
   },
   "outputs": [],
   "source": [
    "out = scenario_model.sim(end_sim,start_date=start_sim,warmup=warmup,N=n_samples,draw_fcn=draw_fcn,samples=samples_dict,verbose=True)\n"
   ]
  },
  {
   "cell_type": "code",
   "execution_count": null,
   "metadata": {
    "ExecuteTime": {
     "end_time": "2021-02-11T09:14:13.586070Z",
     "start_time": "2021-02-11T09:14:13.242888Z"
    }
   },
   "outputs": [],
   "source": [
    "# # Write out and read in xarrays\n",
    "# import pickle\n",
    "# with open('../../results/temp/out.pkl', 'wb') as handle: pickle.dump(out, handle)\n",
    "# with open('../../results/temp/S2c_out.pkl', 'rb') as handle:\n",
    "#     outS2c = pickle.load(handle)"
   ]
  },
  {
   "cell_type": "code",
   "execution_count": null,
   "metadata": {
    "ExecuteTime": {
     "end_time": "2021-02-11T09:16:22.110070Z",
     "start_time": "2021-02-11T09:16:21.967926Z"
    }
   },
   "outputs": [],
   "source": [
    "fig,ax = plt.subplots()\n",
    "out['VE'].plot.line(x='time')"
   ]
  },
  {
   "cell_type": "code",
   "execution_count": null,
   "metadata": {
    "ExecuteTime": {
     "end_time": "2021-02-08T14:40:56.609470Z",
     "start_time": "2021-02-08T14:38:55.366589Z"
    }
   },
   "outputs": [],
   "source": [
    "results = pd.DataFrame()\n",
    "for scen in scenario_settings.index:\n",
    "    scenario = scenario_settings.loc[scen,'scenario']\n",
    "    effectivity = scenario_settings.loc[scen,'effectivity']\n",
    "    K = scenario_settings.loc[scen,'K']\n",
    "    vacc_fun = scenario_settings.loc[scen,'vacc_fun']\n",
    "\n",
    "    scenario_model = vaccin_model(initial_states_sept, scenario=scenario, effectivity=effectivity, \n",
    "                             injection_day=injection_day, injection_ratio=portion_new_strain_introduced,\n",
    "                             Nc_fun=report7_policy_function, N_vacc_fun=vacc_fun)\n",
    "    scenario_model.parameters.update({'K':K})\n",
    "    out = scenario_model.sim(end_sim,start_date=start_sim,warmup=warmup,N=n_samples,draw_fcn=draw_fcn,samples=samples_dict,verbose=True)\n",
    "\n",
    "    H_in_binom = sample_from_binomial(out, 'H_in', n_draws_per_sample, n_samples)\n",
    "    H_tot_binom = sample_from_binomial(out, 'H_tot', n_draws_per_sample, n_samples)\n",
    "    time = out[\"time\"].values\n",
    "    \n",
    "    results['Date'] =  time\n",
    "    results[scen+'_incidences_mean'] = np.mean(H_in_binom, axis=1)\n",
    "    results[scen+'_incidences_median'] = np.median(H_in_binom, axis=1)\n",
    "    results[scen+'_incidences_LL'] = np.quantile(H_in_binom, q = LL, axis = 1)\n",
    "    results[scen+'_incidences_UL'] = np.quantile(H_in_binom, q = UL, axis = 1)\n",
    "    results[scen+'_load_mean'] = np.mean(H_tot_binom, axis=1)\n",
    "    results[scen+'_load_median'] = np.median(H_tot_binom, axis=1)\n",
    "    results[scen+'_load_LL'] = np.quantile(H_tot_binom, q = LL, axis = 1)\n",
    "    results[scen+'_load_UL'] = np.quantile(H_tot_binom, q = UL, axis = 1)"
   ]
  },
  {
   "cell_type": "markdown",
   "metadata": {},
   "source": [
    "## Scenarios S1 (current behaviour)"
   ]
  },
  {
   "cell_type": "code",
   "execution_count": 125,
   "metadata": {
    "ExecuteTime": {
     "end_time": "2021-02-11T09:51:06.224985Z",
     "start_time": "2021-02-11T09:51:06.163921Z"
    }
   },
   "outputs": [],
   "source": [
    "scenario = '1'"
   ]
  },
  {
   "cell_type": "markdown",
   "metadata": {},
   "source": [
    "### S1a - K = 1.3"
   ]
  },
  {
   "cell_type": "code",
   "execution_count": 126,
   "metadata": {
    "ExecuteTime": {
     "end_time": "2021-02-11T09:51:06.309758Z",
     "start_time": "2021-02-11T09:51:06.243138Z"
    }
   },
   "outputs": [],
   "source": [
    "infectivity_gain_lower=1.3\n",
    "infectivity_gain_upper=1.3"
   ]
  },
  {
   "cell_type": "code",
   "execution_count": 127,
   "metadata": {
    "ExecuteTime": {
     "end_time": "2021-02-11T09:51:13.815667Z",
     "start_time": "2021-02-11T09:51:06.312924Z"
    }
   },
   "outputs": [
    {
     "name": "stdout",
     "output_type": "stream",
     "text": [
      "Simulating draw 3/3\u001b[1K\r"
     ]
    }
   ],
   "source": [
    "model_S1a = vaccin_model(initial_states_sept, scenario=scenario, effectivity=effectivity, \n",
    "                         injection_day=injection_day, injection_ratio=portion_new_strain_introduced,\n",
    "                         Nc_fun=report7_policy_function, N_vacc_fun=vacc_strategy)\n",
    "model_S1a.parameters.update({'K':K})\n",
    "out_S1a = model_S1a.sim(end_sim,start_date=start_sim,warmup=warmup,N=n_samples,draw_fcn=draw_fcn,samples=samples_dict,verbose=True)\n"
   ]
  },
  {
   "cell_type": "code",
   "execution_count": 128,
   "metadata": {
    "ExecuteTime": {
     "end_time": "2021-02-11T09:51:14.413282Z",
     "start_time": "2021-02-11T09:51:13.829444Z"
    }
   },
   "outputs": [],
   "source": [
    "S1a_H_in_binom = sample_from_binomial(out_S1a, 'H_in', n_draws_per_sample, n_samples)\n",
    "S1a_H_tot_binom = sample_from_binomial(out_S1a, 'H_tot', n_draws_per_sample, n_samples)\n",
    "S1a_time = out_S1a[\"time\"].values\n",
    "S1a_alpha = out_S1a['alpha'].mean(dim=\"Nc\").values"
   ]
  },
  {
   "cell_type": "markdown",
   "metadata": {},
   "source": [
    "### S1b - K = 1.5"
   ]
  },
  {
   "cell_type": "code",
   "execution_count": 129,
   "metadata": {
    "ExecuteTime": {
     "end_time": "2021-02-11T09:51:14.513241Z",
     "start_time": "2021-02-11T09:51:14.416894Z"
    }
   },
   "outputs": [],
   "source": [
    "K=1.5\n",
    "infectivity_gain_lower=K\n",
    "infectivity_gain_upper=K\n"
   ]
  },
  {
   "cell_type": "code",
   "execution_count": 130,
   "metadata": {
    "ExecuteTime": {
     "end_time": "2021-02-11T09:51:21.303312Z",
     "start_time": "2021-02-11T09:51:14.517130Z"
    }
   },
   "outputs": [
    {
     "name": "stdout",
     "output_type": "stream",
     "text": [
      "Simulating draw 3/3\u001b[1K\r"
     ]
    }
   ],
   "source": [
    "model_S1b = vaccin_model(initial_states_sept, scenario=scenario, effectivity=effectivity, \n",
    "                         injection_day=injection_day, injection_ratio=portion_new_strain_introduced,\n",
    "                         Nc_fun=report7_policy_function, N_vacc_fun=vacc_strategy)\n",
    "model_S1b.parameters.update({'K':K})\n",
    "out_S1b = model_S1b.sim(end_sim,start_date=start_sim,warmup=warmup,N=n_samples,draw_fcn=draw_fcn,samples=samples_dict,verbose=True)\n"
   ]
  },
  {
   "cell_type": "code",
   "execution_count": 131,
   "metadata": {
    "ExecuteTime": {
     "end_time": "2021-02-11T09:51:21.950977Z",
     "start_time": "2021-02-11T09:51:21.311537Z"
    }
   },
   "outputs": [],
   "source": [
    "S1b_H_in_binom = sample_from_binomial(out_S1b, 'H_in', n_draws_per_sample, n_samples)\n",
    "S1b_H_tot_binom = sample_from_binomial(out_S1b, 'H_tot', n_draws_per_sample, n_samples)\n",
    "S1b_time = out_S1b[\"time\"].values\n",
    "S1b_alpha = out_S1b['alpha'].mean(dim=\"Nc\").values"
   ]
  },
  {
   "cell_type": "markdown",
   "metadata": {},
   "source": [
    "### S1c - K = 1.7"
   ]
  },
  {
   "cell_type": "code",
   "execution_count": null,
   "metadata": {
    "ExecuteTime": {
     "end_time": "2021-02-08T08:00:31.667381Z",
     "start_time": "2021-02-08T08:00:31.551463Z"
    }
   },
   "outputs": [],
   "source": [
    "K=1.7\n",
    "infectivity_gain_lower=K\n",
    "infectivity_gain_upper=K\n"
   ]
  },
  {
   "cell_type": "code",
   "execution_count": null,
   "metadata": {
    "ExecuteTime": {
     "end_time": "2021-02-08T08:06:36.761388Z",
     "start_time": "2021-02-08T08:00:31.673563Z"
    }
   },
   "outputs": [],
   "source": [
    "model_S1c = vaccin_model(initial_states_sept, scenario=scenario, effectivity=effectivity, \n",
    "                         injection_day=injection_day, injection_ratio=portion_new_strain_introduced,\n",
    "                         Nc_fun=report7_policy_function, N_vacc_fun=vacc_strategy)\n",
    "model_S1c.parameters.update({'K':K})\n",
    "out_S1c = model_S1c.sim(end_sim,start_date=start_sim,warmup=warmup,N=n_samples,draw_fcn=draw_fcn,samples=samples_dict,verbose=True)\n"
   ]
  },
  {
   "cell_type": "code",
   "execution_count": null,
   "metadata": {
    "ExecuteTime": {
     "end_time": "2021-02-08T08:06:55.185216Z",
     "start_time": "2021-02-08T08:06:36.781694Z"
    }
   },
   "outputs": [],
   "source": [
    "S1c_H_in_binom = sample_from_binomial(out_S1c, 'H_in', n_draws_per_sample, n_samples)\n",
    "S1c_H_tot_binom = sample_from_binomial(out_S1c, 'H_tot', n_draws_per_sample, n_samples)\n",
    "S1c_time = out_S1c[\"time\"].values\n",
    "S1c_alpha = out_S1c['alpha'].mean(dim=\"Nc\").values"
   ]
  },
  {
   "cell_type": "markdown",
   "metadata": {},
   "source": [
    "## Scenarios S2 (september behaviour March 1)"
   ]
  },
  {
   "cell_type": "code",
   "execution_count": 132,
   "metadata": {
    "ExecuteTime": {
     "end_time": "2021-02-11T09:51:22.055067Z",
     "start_time": "2021-02-11T09:51:21.970326Z"
    }
   },
   "outputs": [],
   "source": [
    "scenario = '2'"
   ]
  },
  {
   "cell_type": "markdown",
   "metadata": {},
   "source": [
    "### S2a - K = 1.3"
   ]
  },
  {
   "cell_type": "code",
   "execution_count": 133,
   "metadata": {
    "ExecuteTime": {
     "end_time": "2021-02-11T09:51:22.122112Z",
     "start_time": "2021-02-11T09:51:22.068692Z"
    }
   },
   "outputs": [],
   "source": [
    "K=1.3\n",
    "infectivity_gain_lower=K\n",
    "infectivity_gain_upper=K"
   ]
  },
  {
   "cell_type": "code",
   "execution_count": 134,
   "metadata": {
    "ExecuteTime": {
     "end_time": "2021-02-11T09:51:29.527417Z",
     "start_time": "2021-02-11T09:51:22.128504Z"
    }
   },
   "outputs": [
    {
     "name": "stdout",
     "output_type": "stream",
     "text": [
      "Simulating draw 3/3\u001b[1K\r"
     ]
    }
   ],
   "source": [
    "model_S2a = vaccin_model(initial_states_sept, scenario=scenario, effectivity=effectivity, \n",
    "                         injection_day=injection_day, injection_ratio=portion_new_strain_introduced,\n",
    "                         Nc_fun=report7_policy_function, N_vacc_fun=vacc_strategy)\n",
    "model_S2a.parameters.update({'K':K})\n",
    "out_S2a = model_S2a.sim(end_sim,start_date=start_sim,warmup=warmup,N=n_samples,draw_fcn=draw_fcn,samples=samples_dict,verbose=True)\n"
   ]
  },
  {
   "cell_type": "code",
   "execution_count": 135,
   "metadata": {
    "ExecuteTime": {
     "end_time": "2021-02-11T09:51:29.852554Z",
     "start_time": "2021-02-11T09:51:29.530777Z"
    }
   },
   "outputs": [],
   "source": [
    "S2a_H_in_binom = sample_from_binomial(out_S2a, 'H_in', n_draws_per_sample, n_samples)\n",
    "S2a_H_tot_binom = sample_from_binomial(out_S2a, 'H_tot', n_draws_per_sample, n_samples)\n",
    "S2a_time = out_S2a[\"time\"].values\n",
    "S2a_alpha = out_S2a['alpha'].mean(dim=\"Nc\").values\n"
   ]
  },
  {
   "cell_type": "markdown",
   "metadata": {},
   "source": [
    "### S2b - K = 1.5"
   ]
  },
  {
   "cell_type": "code",
   "execution_count": 136,
   "metadata": {
    "ExecuteTime": {
     "end_time": "2021-02-11T09:51:29.927880Z",
     "start_time": "2021-02-11T09:51:29.856068Z"
    }
   },
   "outputs": [],
   "source": [
    "K=1.5\n",
    "infectivity_gain_lower=K\n",
    "infectivity_gain_upper=K"
   ]
  },
  {
   "cell_type": "code",
   "execution_count": 137,
   "metadata": {
    "ExecuteTime": {
     "end_time": "2021-02-11T09:51:37.636185Z",
     "start_time": "2021-02-11T09:51:29.933556Z"
    }
   },
   "outputs": [
    {
     "name": "stdout",
     "output_type": "stream",
     "text": [
      "Simulating draw 3/3\u001b[1K\r"
     ]
    }
   ],
   "source": [
    "model_S2b = vaccin_model(initial_states_sept, scenario=scenario, effectivity=effectivity, \n",
    "                         injection_day=injection_day, injection_ratio=portion_new_strain_introduced,\n",
    "                         Nc_fun=report7_policy_function, N_vacc_fun=vacc_strategy)\n",
    "model_S2b.parameters.update({'K':K})\n",
    "out_S2b = model_S2b.sim(end_sim,start_date=start_sim,warmup=warmup,N=n_samples,draw_fcn=draw_fcn,samples=samples_dict,verbose=True)\n"
   ]
  },
  {
   "cell_type": "code",
   "execution_count": 138,
   "metadata": {
    "ExecuteTime": {
     "end_time": "2021-02-11T09:51:38.142191Z",
     "start_time": "2021-02-11T09:51:37.649398Z"
    }
   },
   "outputs": [],
   "source": [
    "S2b_H_in_binom = sample_from_binomial(out_S2b, 'H_in', n_draws_per_sample, n_samples)\n",
    "S2b_H_tot_binom = sample_from_binomial(out_S2b, 'H_tot', n_draws_per_sample, n_samples)\n",
    "S2b_time = out_S2b[\"time\"].values\n",
    "S2b_alpha = out_S2b['alpha'].mean(dim=\"Nc\").values"
   ]
  },
  {
   "cell_type": "markdown",
   "metadata": {},
   "source": [
    "## Scenarios SNV1 (vaccination effect)"
   ]
  },
  {
   "cell_type": "markdown",
   "metadata": {},
   "source": [
    "### S3a (S2b without vaccination)"
   ]
  },
  {
   "cell_type": "code",
   "execution_count": 85,
   "metadata": {
    "ExecuteTime": {
     "end_time": "2021-02-11T09:34:55.955732Z",
     "start_time": "2021-02-11T09:34:55.898175Z"
    }
   },
   "outputs": [],
   "source": [
    "scenario = '2'"
   ]
  },
  {
   "cell_type": "code",
   "execution_count": 86,
   "metadata": {
    "ExecuteTime": {
     "end_time": "2021-02-11T09:34:56.371052Z",
     "start_time": "2021-02-11T09:34:56.318257Z"
    }
   },
   "outputs": [],
   "source": [
    "K=1.5\n",
    "infectivity_gain_lower=K\n",
    "infectivity_gain_upper=K"
   ]
  },
  {
   "cell_type": "code",
   "execution_count": 87,
   "metadata": {
    "ExecuteTime": {
     "end_time": "2021-02-11T09:35:02.390052Z",
     "start_time": "2021-02-11T09:34:56.864938Z"
    }
   },
   "outputs": [
    {
     "name": "stdout",
     "output_type": "stream",
     "text": [
      "Simulating draw 3/3\u001b[1K\r"
     ]
    }
   ],
   "source": [
    "model_S3a = vaccin_model(initial_states_sept, scenario=scenario, effectivity=effectivity, \n",
    "                         injection_day=injection_day, injection_ratio=portion_new_strain_introduced,\n",
    "                         Nc_fun=report7_policy_function, N_vacc_fun=None)\n",
    "model_S3a.parameters.update({'K':K})\n",
    "\n",
    "out_S3a = model_S3a.sim(end_sim,start_date=start_sim,warmup=warmup,N=n_samples,draw_fcn=draw_fcn,samples=samples_dict,verbose=True)\n"
   ]
  },
  {
   "cell_type": "code",
   "execution_count": 88,
   "metadata": {
    "ExecuteTime": {
     "end_time": "2021-02-11T09:35:02.951938Z",
     "start_time": "2021-02-11T09:35:02.392845Z"
    }
   },
   "outputs": [],
   "source": [
    "S3a_H_in_binom = sample_from_binomial(out_S3a, 'H_in', n_draws_per_sample, n_samples)\n",
    "S3a_H_tot_binom = sample_from_binomial(out_S3a, 'H_tot', n_draws_per_sample, n_samples)\n",
    "S3a_time = out_S3a[\"time\"].values\n",
    "S3a_alpha = out_S3a['alpha'].mean(dim=\"Nc\").values\n"
   ]
  },
  {
   "cell_type": "markdown",
   "metadata": {},
   "source": [
    "### S4a (S1b without vaccination)"
   ]
  },
  {
   "cell_type": "code",
   "execution_count": 89,
   "metadata": {
    "ExecuteTime": {
     "end_time": "2021-02-11T09:35:03.071904Z",
     "start_time": "2021-02-11T09:35:02.973490Z"
    }
   },
   "outputs": [],
   "source": [
    "scenario = '1'"
   ]
  },
  {
   "cell_type": "code",
   "execution_count": 90,
   "metadata": {
    "ExecuteTime": {
     "end_time": "2021-02-11T09:35:03.179573Z",
     "start_time": "2021-02-11T09:35:03.080098Z"
    }
   },
   "outputs": [],
   "source": [
    "K=1.5\n",
    "infectivity_gain_lower=K\n",
    "infectivity_gain_upper=K"
   ]
  },
  {
   "cell_type": "code",
   "execution_count": 91,
   "metadata": {
    "ExecuteTime": {
     "end_time": "2021-02-11T09:35:07.736299Z",
     "start_time": "2021-02-11T09:35:03.190687Z"
    }
   },
   "outputs": [
    {
     "name": "stdout",
     "output_type": "stream",
     "text": [
      "Simulating draw 3/3\u001b[1K\r"
     ]
    }
   ],
   "source": [
    "model_S4a = vaccin_model(initial_states_sept, scenario=scenario, effectivity=effectivity, \n",
    "                         injection_day=injection_day, injection_ratio=portion_new_strain_introduced,\n",
    "                         Nc_fun=report7_policy_function, N_vacc_fun=None)\n",
    "model_S4a.parameters.update({'K':K})\n",
    "\n",
    "out_S4a = model_S4a.sim(end_sim,start_date=start_sim,warmup=warmup,N=n_samples,draw_fcn=draw_fcn,samples=samples_dict,verbose=True)\n"
   ]
  },
  {
   "cell_type": "code",
   "execution_count": 92,
   "metadata": {
    "ExecuteTime": {
     "end_time": "2021-02-11T09:35:08.056022Z",
     "start_time": "2021-02-11T09:35:07.739707Z"
    }
   },
   "outputs": [],
   "source": [
    "S4a_H_in_binom = sample_from_binomial(out_S4a, 'H_in', n_draws_per_sample, n_samples)\n",
    "S4a_H_tot_binom = sample_from_binomial(out_S4a, 'H_tot', n_draws_per_sample, n_samples)\n",
    "S4a_time = out_S4a[\"time\"].values\n",
    "S4a_alpha = out_S4a['alpha'].mean(dim=\"Nc\").values\n"
   ]
  },
  {
   "cell_type": "markdown",
   "metadata": {},
   "source": [
    "# Visualise"
   ]
  },
  {
   "cell_type": "markdown",
   "metadata": {},
   "source": [
    "## S1 and S2"
   ]
  },
  {
   "cell_type": "code",
   "execution_count": 139,
   "metadata": {
    "ExecuteTime": {
     "end_time": "2021-02-11T09:51:39.199736Z",
     "start_time": "2021-02-11T09:51:38.198180Z"
    },
    "scrolled": false
   },
   "outputs": [
    {
     "data": {
      "application/javascript": [
       "/* Put everything inside the global mpl namespace */\n",
       "window.mpl = {};\n",
       "\n",
       "\n",
       "mpl.get_websocket_type = function() {\n",
       "    if (typeof(WebSocket) !== 'undefined') {\n",
       "        return WebSocket;\n",
       "    } else if (typeof(MozWebSocket) !== 'undefined') {\n",
       "        return MozWebSocket;\n",
       "    } else {\n",
       "        alert('Your browser does not have WebSocket support. ' +\n",
       "              'Please try Chrome, Safari or Firefox ≥ 6. ' +\n",
       "              'Firefox 4 and 5 are also supported but you ' +\n",
       "              'have to enable WebSockets in about:config.');\n",
       "    };\n",
       "}\n",
       "\n",
       "mpl.figure = function(figure_id, websocket, ondownload, parent_element) {\n",
       "    this.id = figure_id;\n",
       "\n",
       "    this.ws = websocket;\n",
       "\n",
       "    this.supports_binary = (this.ws.binaryType != undefined);\n",
       "\n",
       "    if (!this.supports_binary) {\n",
       "        var warnings = document.getElementById(\"mpl-warnings\");\n",
       "        if (warnings) {\n",
       "            warnings.style.display = 'block';\n",
       "            warnings.textContent = (\n",
       "                \"This browser does not support binary websocket messages. \" +\n",
       "                    \"Performance may be slow.\");\n",
       "        }\n",
       "    }\n",
       "\n",
       "    this.imageObj = new Image();\n",
       "\n",
       "    this.context = undefined;\n",
       "    this.message = undefined;\n",
       "    this.canvas = undefined;\n",
       "    this.rubberband_canvas = undefined;\n",
       "    this.rubberband_context = undefined;\n",
       "    this.format_dropdown = undefined;\n",
       "\n",
       "    this.image_mode = 'full';\n",
       "\n",
       "    this.root = $('<div/>');\n",
       "    this._root_extra_style(this.root)\n",
       "    this.root.attr('style', 'display: inline-block');\n",
       "\n",
       "    $(parent_element).append(this.root);\n",
       "\n",
       "    this._init_header(this);\n",
       "    this._init_canvas(this);\n",
       "    this._init_toolbar(this);\n",
       "\n",
       "    var fig = this;\n",
       "\n",
       "    this.waiting = false;\n",
       "\n",
       "    this.ws.onopen =  function () {\n",
       "            fig.send_message(\"supports_binary\", {value: fig.supports_binary});\n",
       "            fig.send_message(\"send_image_mode\", {});\n",
       "            if (mpl.ratio != 1) {\n",
       "                fig.send_message(\"set_dpi_ratio\", {'dpi_ratio': mpl.ratio});\n",
       "            }\n",
       "            fig.send_message(\"refresh\", {});\n",
       "        }\n",
       "\n",
       "    this.imageObj.onload = function() {\n",
       "            if (fig.image_mode == 'full') {\n",
       "                // Full images could contain transparency (where diff images\n",
       "                // almost always do), so we need to clear the canvas so that\n",
       "                // there is no ghosting.\n",
       "                fig.context.clearRect(0, 0, fig.canvas.width, fig.canvas.height);\n",
       "            }\n",
       "            fig.context.drawImage(fig.imageObj, 0, 0);\n",
       "        };\n",
       "\n",
       "    this.imageObj.onunload = function() {\n",
       "        fig.ws.close();\n",
       "    }\n",
       "\n",
       "    this.ws.onmessage = this._make_on_message_function(this);\n",
       "\n",
       "    this.ondownload = ondownload;\n",
       "}\n",
       "\n",
       "mpl.figure.prototype._init_header = function() {\n",
       "    var titlebar = $(\n",
       "        '<div class=\"ui-dialog-titlebar ui-widget-header ui-corner-all ' +\n",
       "        'ui-helper-clearfix\"/>');\n",
       "    var titletext = $(\n",
       "        '<div class=\"ui-dialog-title\" style=\"width: 100%; ' +\n",
       "        'text-align: center; padding: 3px;\"/>');\n",
       "    titlebar.append(titletext)\n",
       "    this.root.append(titlebar);\n",
       "    this.header = titletext[0];\n",
       "}\n",
       "\n",
       "\n",
       "\n",
       "mpl.figure.prototype._canvas_extra_style = function(canvas_div) {\n",
       "\n",
       "}\n",
       "\n",
       "\n",
       "mpl.figure.prototype._root_extra_style = function(canvas_div) {\n",
       "\n",
       "}\n",
       "\n",
       "mpl.figure.prototype._init_canvas = function() {\n",
       "    var fig = this;\n",
       "\n",
       "    var canvas_div = $('<div/>');\n",
       "\n",
       "    canvas_div.attr('style', 'position: relative; clear: both; outline: 0');\n",
       "\n",
       "    function canvas_keyboard_event(event) {\n",
       "        return fig.key_event(event, event['data']);\n",
       "    }\n",
       "\n",
       "    canvas_div.keydown('key_press', canvas_keyboard_event);\n",
       "    canvas_div.keyup('key_release', canvas_keyboard_event);\n",
       "    this.canvas_div = canvas_div\n",
       "    this._canvas_extra_style(canvas_div)\n",
       "    this.root.append(canvas_div);\n",
       "\n",
       "    var canvas = $('<canvas/>');\n",
       "    canvas.addClass('mpl-canvas');\n",
       "    canvas.attr('style', \"left: 0; top: 0; z-index: 0; outline: 0\")\n",
       "\n",
       "    this.canvas = canvas[0];\n",
       "    this.context = canvas[0].getContext(\"2d\");\n",
       "\n",
       "    var backingStore = this.context.backingStorePixelRatio ||\n",
       "\tthis.context.webkitBackingStorePixelRatio ||\n",
       "\tthis.context.mozBackingStorePixelRatio ||\n",
       "\tthis.context.msBackingStorePixelRatio ||\n",
       "\tthis.context.oBackingStorePixelRatio ||\n",
       "\tthis.context.backingStorePixelRatio || 1;\n",
       "\n",
       "    mpl.ratio = (window.devicePixelRatio || 1) / backingStore;\n",
       "\n",
       "    var rubberband = $('<canvas/>');\n",
       "    rubberband.attr('style', \"position: absolute; left: 0; top: 0; z-index: 1;\")\n",
       "\n",
       "    var pass_mouse_events = true;\n",
       "\n",
       "    canvas_div.resizable({\n",
       "        start: function(event, ui) {\n",
       "            pass_mouse_events = false;\n",
       "        },\n",
       "        resize: function(event, ui) {\n",
       "            fig.request_resize(ui.size.width, ui.size.height);\n",
       "        },\n",
       "        stop: function(event, ui) {\n",
       "            pass_mouse_events = true;\n",
       "            fig.request_resize(ui.size.width, ui.size.height);\n",
       "        },\n",
       "    });\n",
       "\n",
       "    function mouse_event_fn(event) {\n",
       "        if (pass_mouse_events)\n",
       "            return fig.mouse_event(event, event['data']);\n",
       "    }\n",
       "\n",
       "    rubberband.mousedown('button_press', mouse_event_fn);\n",
       "    rubberband.mouseup('button_release', mouse_event_fn);\n",
       "    // Throttle sequential mouse events to 1 every 20ms.\n",
       "    rubberband.mousemove('motion_notify', mouse_event_fn);\n",
       "\n",
       "    rubberband.mouseenter('figure_enter', mouse_event_fn);\n",
       "    rubberband.mouseleave('figure_leave', mouse_event_fn);\n",
       "\n",
       "    canvas_div.on(\"wheel\", function (event) {\n",
       "        event = event.originalEvent;\n",
       "        event['data'] = 'scroll'\n",
       "        if (event.deltaY < 0) {\n",
       "            event.step = 1;\n",
       "        } else {\n",
       "            event.step = -1;\n",
       "        }\n",
       "        mouse_event_fn(event);\n",
       "    });\n",
       "\n",
       "    canvas_div.append(canvas);\n",
       "    canvas_div.append(rubberband);\n",
       "\n",
       "    this.rubberband = rubberband;\n",
       "    this.rubberband_canvas = rubberband[0];\n",
       "    this.rubberband_context = rubberband[0].getContext(\"2d\");\n",
       "    this.rubberband_context.strokeStyle = \"#000000\";\n",
       "\n",
       "    this._resize_canvas = function(width, height) {\n",
       "        // Keep the size of the canvas, canvas container, and rubber band\n",
       "        // canvas in synch.\n",
       "        canvas_div.css('width', width)\n",
       "        canvas_div.css('height', height)\n",
       "\n",
       "        canvas.attr('width', width * mpl.ratio);\n",
       "        canvas.attr('height', height * mpl.ratio);\n",
       "        canvas.attr('style', 'width: ' + width + 'px; height: ' + height + 'px;');\n",
       "\n",
       "        rubberband.attr('width', width);\n",
       "        rubberband.attr('height', height);\n",
       "    }\n",
       "\n",
       "    // Set the figure to an initial 600x600px, this will subsequently be updated\n",
       "    // upon first draw.\n",
       "    this._resize_canvas(600, 600);\n",
       "\n",
       "    // Disable right mouse context menu.\n",
       "    $(this.rubberband_canvas).bind(\"contextmenu\",function(e){\n",
       "        return false;\n",
       "    });\n",
       "\n",
       "    function set_focus () {\n",
       "        canvas.focus();\n",
       "        canvas_div.focus();\n",
       "    }\n",
       "\n",
       "    window.setTimeout(set_focus, 100);\n",
       "}\n",
       "\n",
       "mpl.figure.prototype._init_toolbar = function() {\n",
       "    var fig = this;\n",
       "\n",
       "    var nav_element = $('<div/>');\n",
       "    nav_element.attr('style', 'width: 100%');\n",
       "    this.root.append(nav_element);\n",
       "\n",
       "    // Define a callback function for later on.\n",
       "    function toolbar_event(event) {\n",
       "        return fig.toolbar_button_onclick(event['data']);\n",
       "    }\n",
       "    function toolbar_mouse_event(event) {\n",
       "        return fig.toolbar_button_onmouseover(event['data']);\n",
       "    }\n",
       "\n",
       "    for(var toolbar_ind in mpl.toolbar_items) {\n",
       "        var name = mpl.toolbar_items[toolbar_ind][0];\n",
       "        var tooltip = mpl.toolbar_items[toolbar_ind][1];\n",
       "        var image = mpl.toolbar_items[toolbar_ind][2];\n",
       "        var method_name = mpl.toolbar_items[toolbar_ind][3];\n",
       "\n",
       "        if (!name) {\n",
       "            // put a spacer in here.\n",
       "            continue;\n",
       "        }\n",
       "        var button = $('<button/>');\n",
       "        button.addClass('ui-button ui-widget ui-state-default ui-corner-all ' +\n",
       "                        'ui-button-icon-only');\n",
       "        button.attr('role', 'button');\n",
       "        button.attr('aria-disabled', 'false');\n",
       "        button.click(method_name, toolbar_event);\n",
       "        button.mouseover(tooltip, toolbar_mouse_event);\n",
       "\n",
       "        var icon_img = $('<span/>');\n",
       "        icon_img.addClass('ui-button-icon-primary ui-icon');\n",
       "        icon_img.addClass(image);\n",
       "        icon_img.addClass('ui-corner-all');\n",
       "\n",
       "        var tooltip_span = $('<span/>');\n",
       "        tooltip_span.addClass('ui-button-text');\n",
       "        tooltip_span.html(tooltip);\n",
       "\n",
       "        button.append(icon_img);\n",
       "        button.append(tooltip_span);\n",
       "\n",
       "        nav_element.append(button);\n",
       "    }\n",
       "\n",
       "    var fmt_picker_span = $('<span/>');\n",
       "\n",
       "    var fmt_picker = $('<select/>');\n",
       "    fmt_picker.addClass('mpl-toolbar-option ui-widget ui-widget-content');\n",
       "    fmt_picker_span.append(fmt_picker);\n",
       "    nav_element.append(fmt_picker_span);\n",
       "    this.format_dropdown = fmt_picker[0];\n",
       "\n",
       "    for (var ind in mpl.extensions) {\n",
       "        var fmt = mpl.extensions[ind];\n",
       "        var option = $(\n",
       "            '<option/>', {selected: fmt === mpl.default_extension}).html(fmt);\n",
       "        fmt_picker.append(option);\n",
       "    }\n",
       "\n",
       "    // Add hover states to the ui-buttons\n",
       "    $( \".ui-button\" ).hover(\n",
       "        function() { $(this).addClass(\"ui-state-hover\");},\n",
       "        function() { $(this).removeClass(\"ui-state-hover\");}\n",
       "    );\n",
       "\n",
       "    var status_bar = $('<span class=\"mpl-message\"/>');\n",
       "    nav_element.append(status_bar);\n",
       "    this.message = status_bar[0];\n",
       "}\n",
       "\n",
       "mpl.figure.prototype.request_resize = function(x_pixels, y_pixels) {\n",
       "    // Request matplotlib to resize the figure. Matplotlib will then trigger a resize in the client,\n",
       "    // which will in turn request a refresh of the image.\n",
       "    this.send_message('resize', {'width': x_pixels, 'height': y_pixels});\n",
       "}\n",
       "\n",
       "mpl.figure.prototype.send_message = function(type, properties) {\n",
       "    properties['type'] = type;\n",
       "    properties['figure_id'] = this.id;\n",
       "    this.ws.send(JSON.stringify(properties));\n",
       "}\n",
       "\n",
       "mpl.figure.prototype.send_draw_message = function() {\n",
       "    if (!this.waiting) {\n",
       "        this.waiting = true;\n",
       "        this.ws.send(JSON.stringify({type: \"draw\", figure_id: this.id}));\n",
       "    }\n",
       "}\n",
       "\n",
       "\n",
       "mpl.figure.prototype.handle_save = function(fig, msg) {\n",
       "    var format_dropdown = fig.format_dropdown;\n",
       "    var format = format_dropdown.options[format_dropdown.selectedIndex].value;\n",
       "    fig.ondownload(fig, format);\n",
       "}\n",
       "\n",
       "\n",
       "mpl.figure.prototype.handle_resize = function(fig, msg) {\n",
       "    var size = msg['size'];\n",
       "    if (size[0] != fig.canvas.width || size[1] != fig.canvas.height) {\n",
       "        fig._resize_canvas(size[0], size[1]);\n",
       "        fig.send_message(\"refresh\", {});\n",
       "    };\n",
       "}\n",
       "\n",
       "mpl.figure.prototype.handle_rubberband = function(fig, msg) {\n",
       "    var x0 = msg['x0'] / mpl.ratio;\n",
       "    var y0 = (fig.canvas.height - msg['y0']) / mpl.ratio;\n",
       "    var x1 = msg['x1'] / mpl.ratio;\n",
       "    var y1 = (fig.canvas.height - msg['y1']) / mpl.ratio;\n",
       "    x0 = Math.floor(x0) + 0.5;\n",
       "    y0 = Math.floor(y0) + 0.5;\n",
       "    x1 = Math.floor(x1) + 0.5;\n",
       "    y1 = Math.floor(y1) + 0.5;\n",
       "    var min_x = Math.min(x0, x1);\n",
       "    var min_y = Math.min(y0, y1);\n",
       "    var width = Math.abs(x1 - x0);\n",
       "    var height = Math.abs(y1 - y0);\n",
       "\n",
       "    fig.rubberband_context.clearRect(\n",
       "        0, 0, fig.canvas.width / mpl.ratio, fig.canvas.height / mpl.ratio);\n",
       "\n",
       "    fig.rubberband_context.strokeRect(min_x, min_y, width, height);\n",
       "}\n",
       "\n",
       "mpl.figure.prototype.handle_figure_label = function(fig, msg) {\n",
       "    // Updates the figure title.\n",
       "    fig.header.textContent = msg['label'];\n",
       "}\n",
       "\n",
       "mpl.figure.prototype.handle_cursor = function(fig, msg) {\n",
       "    var cursor = msg['cursor'];\n",
       "    switch(cursor)\n",
       "    {\n",
       "    case 0:\n",
       "        cursor = 'pointer';\n",
       "        break;\n",
       "    case 1:\n",
       "        cursor = 'default';\n",
       "        break;\n",
       "    case 2:\n",
       "        cursor = 'crosshair';\n",
       "        break;\n",
       "    case 3:\n",
       "        cursor = 'move';\n",
       "        break;\n",
       "    }\n",
       "    fig.rubberband_canvas.style.cursor = cursor;\n",
       "}\n",
       "\n",
       "mpl.figure.prototype.handle_message = function(fig, msg) {\n",
       "    fig.message.textContent = msg['message'];\n",
       "}\n",
       "\n",
       "mpl.figure.prototype.handle_draw = function(fig, msg) {\n",
       "    // Request the server to send over a new figure.\n",
       "    fig.send_draw_message();\n",
       "}\n",
       "\n",
       "mpl.figure.prototype.handle_image_mode = function(fig, msg) {\n",
       "    fig.image_mode = msg['mode'];\n",
       "}\n",
       "\n",
       "mpl.figure.prototype.updated_canvas_event = function() {\n",
       "    // Called whenever the canvas gets updated.\n",
       "    this.send_message(\"ack\", {});\n",
       "}\n",
       "\n",
       "// A function to construct a web socket function for onmessage handling.\n",
       "// Called in the figure constructor.\n",
       "mpl.figure.prototype._make_on_message_function = function(fig) {\n",
       "    return function socket_on_message(evt) {\n",
       "        if (evt.data instanceof Blob) {\n",
       "            /* FIXME: We get \"Resource interpreted as Image but\n",
       "             * transferred with MIME type text/plain:\" errors on\n",
       "             * Chrome.  But how to set the MIME type?  It doesn't seem\n",
       "             * to be part of the websocket stream */\n",
       "            evt.data.type = \"image/png\";\n",
       "\n",
       "            /* Free the memory for the previous frames */\n",
       "            if (fig.imageObj.src) {\n",
       "                (window.URL || window.webkitURL).revokeObjectURL(\n",
       "                    fig.imageObj.src);\n",
       "            }\n",
       "\n",
       "            fig.imageObj.src = (window.URL || window.webkitURL).createObjectURL(\n",
       "                evt.data);\n",
       "            fig.updated_canvas_event();\n",
       "            fig.waiting = false;\n",
       "            return;\n",
       "        }\n",
       "        else if (typeof evt.data === 'string' && evt.data.slice(0, 21) == \"data:image/png;base64\") {\n",
       "            fig.imageObj.src = evt.data;\n",
       "            fig.updated_canvas_event();\n",
       "            fig.waiting = false;\n",
       "            return;\n",
       "        }\n",
       "\n",
       "        var msg = JSON.parse(evt.data);\n",
       "        var msg_type = msg['type'];\n",
       "\n",
       "        // Call the  \"handle_{type}\" callback, which takes\n",
       "        // the figure and JSON message as its only arguments.\n",
       "        try {\n",
       "            var callback = fig[\"handle_\" + msg_type];\n",
       "        } catch (e) {\n",
       "            console.log(\"No handler for the '\" + msg_type + \"' message type: \", msg);\n",
       "            return;\n",
       "        }\n",
       "\n",
       "        if (callback) {\n",
       "            try {\n",
       "                // console.log(\"Handling '\" + msg_type + \"' message: \", msg);\n",
       "                callback(fig, msg);\n",
       "            } catch (e) {\n",
       "                console.log(\"Exception inside the 'handler_\" + msg_type + \"' callback:\", e, e.stack, msg);\n",
       "            }\n",
       "        }\n",
       "    };\n",
       "}\n",
       "\n",
       "// from http://stackoverflow.com/questions/1114465/getting-mouse-location-in-canvas\n",
       "mpl.findpos = function(e) {\n",
       "    //this section is from http://www.quirksmode.org/js/events_properties.html\n",
       "    var targ;\n",
       "    if (!e)\n",
       "        e = window.event;\n",
       "    if (e.target)\n",
       "        targ = e.target;\n",
       "    else if (e.srcElement)\n",
       "        targ = e.srcElement;\n",
       "    if (targ.nodeType == 3) // defeat Safari bug\n",
       "        targ = targ.parentNode;\n",
       "\n",
       "    // jQuery normalizes the pageX and pageY\n",
       "    // pageX,Y are the mouse positions relative to the document\n",
       "    // offset() returns the position of the element relative to the document\n",
       "    var x = e.pageX - $(targ).offset().left;\n",
       "    var y = e.pageY - $(targ).offset().top;\n",
       "\n",
       "    return {\"x\": x, \"y\": y};\n",
       "};\n",
       "\n",
       "/*\n",
       " * return a copy of an object with only non-object keys\n",
       " * we need this to avoid circular references\n",
       " * http://stackoverflow.com/a/24161582/3208463\n",
       " */\n",
       "function simpleKeys (original) {\n",
       "  return Object.keys(original).reduce(function (obj, key) {\n",
       "    if (typeof original[key] !== 'object')\n",
       "        obj[key] = original[key]\n",
       "    return obj;\n",
       "  }, {});\n",
       "}\n",
       "\n",
       "mpl.figure.prototype.mouse_event = function(event, name) {\n",
       "    var canvas_pos = mpl.findpos(event)\n",
       "\n",
       "    if (name === 'button_press')\n",
       "    {\n",
       "        this.canvas.focus();\n",
       "        this.canvas_div.focus();\n",
       "    }\n",
       "\n",
       "    var x = canvas_pos.x * mpl.ratio;\n",
       "    var y = canvas_pos.y * mpl.ratio;\n",
       "\n",
       "    this.send_message(name, {x: x, y: y, button: event.button,\n",
       "                             step: event.step,\n",
       "                             guiEvent: simpleKeys(event)});\n",
       "\n",
       "    /* This prevents the web browser from automatically changing to\n",
       "     * the text insertion cursor when the button is pressed.  We want\n",
       "     * to control all of the cursor setting manually through the\n",
       "     * 'cursor' event from matplotlib */\n",
       "    event.preventDefault();\n",
       "    return false;\n",
       "}\n",
       "\n",
       "mpl.figure.prototype._key_event_extra = function(event, name) {\n",
       "    // Handle any extra behaviour associated with a key event\n",
       "}\n",
       "\n",
       "mpl.figure.prototype.key_event = function(event, name) {\n",
       "\n",
       "    // Prevent repeat events\n",
       "    if (name == 'key_press')\n",
       "    {\n",
       "        if (event.which === this._key)\n",
       "            return;\n",
       "        else\n",
       "            this._key = event.which;\n",
       "    }\n",
       "    if (name == 'key_release')\n",
       "        this._key = null;\n",
       "\n",
       "    var value = '';\n",
       "    if (event.ctrlKey && event.which != 17)\n",
       "        value += \"ctrl+\";\n",
       "    if (event.altKey && event.which != 18)\n",
       "        value += \"alt+\";\n",
       "    if (event.shiftKey && event.which != 16)\n",
       "        value += \"shift+\";\n",
       "\n",
       "    value += 'k';\n",
       "    value += event.which.toString();\n",
       "\n",
       "    this._key_event_extra(event, name);\n",
       "\n",
       "    this.send_message(name, {key: value,\n",
       "                             guiEvent: simpleKeys(event)});\n",
       "    return false;\n",
       "}\n",
       "\n",
       "mpl.figure.prototype.toolbar_button_onclick = function(name) {\n",
       "    if (name == 'download') {\n",
       "        this.handle_save(this, null);\n",
       "    } else {\n",
       "        this.send_message(\"toolbar_button\", {name: name});\n",
       "    }\n",
       "};\n",
       "\n",
       "mpl.figure.prototype.toolbar_button_onmouseover = function(tooltip) {\n",
       "    this.message.textContent = tooltip;\n",
       "};\n",
       "mpl.toolbar_items = [[\"Home\", \"Reset original view\", \"fa fa-home icon-home\", \"home\"], [\"Back\", \"Back to previous view\", \"fa fa-arrow-left icon-arrow-left\", \"back\"], [\"Forward\", \"Forward to next view\", \"fa fa-arrow-right icon-arrow-right\", \"forward\"], [\"\", \"\", \"\", \"\"], [\"Pan\", \"Pan axes with left mouse, zoom with right\", \"fa fa-arrows icon-move\", \"pan\"], [\"Zoom\", \"Zoom to rectangle\", \"fa fa-square-o icon-check-empty\", \"zoom\"], [\"\", \"\", \"\", \"\"], [\"Download\", \"Download plot\", \"fa fa-floppy-o icon-save\", \"download\"]];\n",
       "\n",
       "mpl.extensions = [\"eps\", \"jpeg\", \"pdf\", \"png\", \"ps\", \"raw\", \"svg\", \"tif\"];\n",
       "\n",
       "mpl.default_extension = \"png\";var comm_websocket_adapter = function(comm) {\n",
       "    // Create a \"websocket\"-like object which calls the given IPython comm\n",
       "    // object with the appropriate methods. Currently this is a non binary\n",
       "    // socket, so there is still some room for performance tuning.\n",
       "    var ws = {};\n",
       "\n",
       "    ws.close = function() {\n",
       "        comm.close()\n",
       "    };\n",
       "    ws.send = function(m) {\n",
       "        //console.log('sending', m);\n",
       "        comm.send(m);\n",
       "    };\n",
       "    // Register the callback with on_msg.\n",
       "    comm.on_msg(function(msg) {\n",
       "        //console.log('receiving', msg['content']['data'], msg);\n",
       "        // Pass the mpl event to the overridden (by mpl) onmessage function.\n",
       "        ws.onmessage(msg['content']['data'])\n",
       "    });\n",
       "    return ws;\n",
       "}\n",
       "\n",
       "mpl.mpl_figure_comm = function(comm, msg) {\n",
       "    // This is the function which gets called when the mpl process\n",
       "    // starts-up an IPython Comm through the \"matplotlib\" channel.\n",
       "\n",
       "    var id = msg.content.data.id;\n",
       "    // Get hold of the div created by the display call when the Comm\n",
       "    // socket was opened in Python.\n",
       "    var element = $(\"#\" + id);\n",
       "    var ws_proxy = comm_websocket_adapter(comm)\n",
       "\n",
       "    function ondownload(figure, format) {\n",
       "        window.open(figure.imageObj.src);\n",
       "    }\n",
       "\n",
       "    var fig = new mpl.figure(id, ws_proxy,\n",
       "                           ondownload,\n",
       "                           element.get(0));\n",
       "\n",
       "    // Call onopen now - mpl needs it, as it is assuming we've passed it a real\n",
       "    // web socket which is closed, not our websocket->open comm proxy.\n",
       "    ws_proxy.onopen();\n",
       "\n",
       "    fig.parent_element = element.get(0);\n",
       "    fig.cell_info = mpl.find_output_cell(\"<div id='\" + id + \"'></div>\");\n",
       "    if (!fig.cell_info) {\n",
       "        console.error(\"Failed to find cell for figure\", id, fig);\n",
       "        return;\n",
       "    }\n",
       "\n",
       "    var output_index = fig.cell_info[2]\n",
       "    var cell = fig.cell_info[0];\n",
       "\n",
       "};\n",
       "\n",
       "mpl.figure.prototype.handle_close = function(fig, msg) {\n",
       "    var width = fig.canvas.width/mpl.ratio\n",
       "    fig.root.unbind('remove')\n",
       "\n",
       "    // Update the output cell to use the data from the current canvas.\n",
       "    fig.push_to_output();\n",
       "    var dataURL = fig.canvas.toDataURL();\n",
       "    // Re-enable the keyboard manager in IPython - without this line, in FF,\n",
       "    // the notebook keyboard shortcuts fail.\n",
       "    IPython.keyboard_manager.enable()\n",
       "    $(fig.parent_element).html('<img src=\"' + dataURL + '\" width=\"' + width + '\">');\n",
       "    fig.close_ws(fig, msg);\n",
       "}\n",
       "\n",
       "mpl.figure.prototype.close_ws = function(fig, msg){\n",
       "    fig.send_message('closing', msg);\n",
       "    // fig.ws.close()\n",
       "}\n",
       "\n",
       "mpl.figure.prototype.push_to_output = function(remove_interactive) {\n",
       "    // Turn the data on the canvas into data in the output cell.\n",
       "    var width = this.canvas.width/mpl.ratio\n",
       "    var dataURL = this.canvas.toDataURL();\n",
       "    this.cell_info[1]['text/html'] = '<img src=\"' + dataURL + '\" width=\"' + width + '\">';\n",
       "}\n",
       "\n",
       "mpl.figure.prototype.updated_canvas_event = function() {\n",
       "    // Tell IPython that the notebook contents must change.\n",
       "    IPython.notebook.set_dirty(true);\n",
       "    this.send_message(\"ack\", {});\n",
       "    var fig = this;\n",
       "    // Wait a second, then push the new image to the DOM so\n",
       "    // that it is saved nicely (might be nice to debounce this).\n",
       "    setTimeout(function () { fig.push_to_output() }, 1000);\n",
       "}\n",
       "\n",
       "mpl.figure.prototype._init_toolbar = function() {\n",
       "    var fig = this;\n",
       "\n",
       "    var nav_element = $('<div/>');\n",
       "    nav_element.attr('style', 'width: 100%');\n",
       "    this.root.append(nav_element);\n",
       "\n",
       "    // Define a callback function for later on.\n",
       "    function toolbar_event(event) {\n",
       "        return fig.toolbar_button_onclick(event['data']);\n",
       "    }\n",
       "    function toolbar_mouse_event(event) {\n",
       "        return fig.toolbar_button_onmouseover(event['data']);\n",
       "    }\n",
       "\n",
       "    for(var toolbar_ind in mpl.toolbar_items){\n",
       "        var name = mpl.toolbar_items[toolbar_ind][0];\n",
       "        var tooltip = mpl.toolbar_items[toolbar_ind][1];\n",
       "        var image = mpl.toolbar_items[toolbar_ind][2];\n",
       "        var method_name = mpl.toolbar_items[toolbar_ind][3];\n",
       "\n",
       "        if (!name) { continue; };\n",
       "\n",
       "        var button = $('<button class=\"btn btn-default\" href=\"#\" title=\"' + name + '\"><i class=\"fa ' + image + ' fa-lg\"></i></button>');\n",
       "        button.click(method_name, toolbar_event);\n",
       "        button.mouseover(tooltip, toolbar_mouse_event);\n",
       "        nav_element.append(button);\n",
       "    }\n",
       "\n",
       "    // Add the status bar.\n",
       "    var status_bar = $('<span class=\"mpl-message\" style=\"text-align:right; float: right;\"/>');\n",
       "    nav_element.append(status_bar);\n",
       "    this.message = status_bar[0];\n",
       "\n",
       "    // Add the close button to the window.\n",
       "    var buttongrp = $('<div class=\"btn-group inline pull-right\"></div>');\n",
       "    var button = $('<button class=\"btn btn-mini btn-primary\" href=\"#\" title=\"Stop Interaction\"><i class=\"fa fa-power-off icon-remove icon-large\"></i></button>');\n",
       "    button.click(function (evt) { fig.handle_close(fig, {}); } );\n",
       "    button.mouseover('Stop Interaction', toolbar_mouse_event);\n",
       "    buttongrp.append(button);\n",
       "    var titlebar = this.root.find($('.ui-dialog-titlebar'));\n",
       "    titlebar.prepend(buttongrp);\n",
       "}\n",
       "\n",
       "mpl.figure.prototype._root_extra_style = function(el){\n",
       "    var fig = this\n",
       "    el.on(\"remove\", function(){\n",
       "\tfig.close_ws(fig, {});\n",
       "    });\n",
       "}\n",
       "\n",
       "mpl.figure.prototype._canvas_extra_style = function(el){\n",
       "    // this is important to make the div 'focusable\n",
       "    el.attr('tabindex', 0)\n",
       "    // reach out to IPython and tell the keyboard manager to turn it's self\n",
       "    // off when our div gets focus\n",
       "\n",
       "    // location in version 3\n",
       "    if (IPython.notebook.keyboard_manager) {\n",
       "        IPython.notebook.keyboard_manager.register_events(el);\n",
       "    }\n",
       "    else {\n",
       "        // location in version 2\n",
       "        IPython.keyboard_manager.register_events(el);\n",
       "    }\n",
       "\n",
       "}\n",
       "\n",
       "mpl.figure.prototype._key_event_extra = function(event, name) {\n",
       "    var manager = IPython.notebook.keyboard_manager;\n",
       "    if (!manager)\n",
       "        manager = IPython.keyboard_manager;\n",
       "\n",
       "    // Check for shift+enter\n",
       "    if (event.shiftKey && event.which == 13) {\n",
       "        this.canvas_div.blur();\n",
       "        // select the cell after this one\n",
       "        var index = IPython.notebook.find_cell_index(this.cell_info[0]);\n",
       "        IPython.notebook.select(index + 1);\n",
       "    }\n",
       "}\n",
       "\n",
       "mpl.figure.prototype.handle_save = function(fig, msg) {\n",
       "    fig.ondownload(fig, null);\n",
       "}\n",
       "\n",
       "\n",
       "mpl.find_output_cell = function(html_output) {\n",
       "    // Return the cell and output element which can be found *uniquely* in the notebook.\n",
       "    // Note - this is a bit hacky, but it is done because the \"notebook_saving.Notebook\"\n",
       "    // IPython event is triggered only after the cells have been serialised, which for\n",
       "    // our purposes (turning an active figure into a static one), is too late.\n",
       "    var cells = IPython.notebook.get_cells();\n",
       "    var ncells = cells.length;\n",
       "    for (var i=0; i<ncells; i++) {\n",
       "        var cell = cells[i];\n",
       "        if (cell.cell_type === 'code'){\n",
       "            for (var j=0; j<cell.output_area.outputs.length; j++) {\n",
       "                var data = cell.output_area.outputs[j];\n",
       "                if (data.data) {\n",
       "                    // IPython >= 3 moved mimebundle to data attribute of output\n",
       "                    data = data.data;\n",
       "                }\n",
       "                if (data['text/html'] == html_output) {\n",
       "                    return [cell, data, j];\n",
       "                }\n",
       "            }\n",
       "        }\n",
       "    }\n",
       "}\n",
       "\n",
       "// Register the function which deals with the matplotlib target/channel.\n",
       "// The kernel may be null if the page has been refreshed.\n",
       "if (IPython.notebook.kernel != null) {\n",
       "    IPython.notebook.kernel.comm_manager.register_target('matplotlib', mpl.mpl_figure_comm);\n",
       "}\n"
      ],
      "text/plain": [
       "<IPython.core.display.Javascript object>"
      ]
     },
     "metadata": {},
     "output_type": "display_data"
    },
    {
     "data": {
      "text/html": [
       "<img src=\"data:image/png;base64,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\" width=\"1000\">"
      ],
      "text/plain": [
       "<IPython.core.display.HTML object>"
      ]
     },
     "metadata": {},
     "output_type": "display_data"
    }
   ],
   "source": [
    "# ----------------\n",
    "# Visualize result\n",
    "# ----------------\n",
    "# Plot\n",
    "fig,(ax1, ax2, ax3) = plt.subplots(3,sharex=True,figsize=(10,15))\n",
    "legend_pos = (0.5, 1.35)\n",
    "legend_col = 2\n",
    "\n",
    "label1 = 'current behaviour - +30%'\n",
    "label2 = 'current behaviour - +50%'\n",
    "label3 = 'SB March 1 - +30%'\n",
    "label4 = 'SB March 1 - +50%'\n",
    "label5 = 'SB May 1 - +50% '\n",
    "\n",
    "# Incidence\n",
    "plot_band_binom(ax1, S1a_time, S1a_H_in_binom, 'green', label=label1)\n",
    "plot_band_binom(ax1, S1b_time, S1b_H_in_binom, 'blue', label=label2)\n",
    "plot_band_binom(ax1, S2a_time, S2a_H_in_binom, 'orange', label=label3)\n",
    "plot_band_binom(ax1, S2b_time, S2b_H_in_binom, 'red', label=label4)\n",
    "#plot_band_binom(ax1, S5b_time, S5b_H_in_binom, 'lightblue', label=label5)\n",
    "\n",
    "ax1.scatter(df_sciensano[start_sim:end_sim].index,df_sciensano['H_in'][start_sim:end_sim],color='black',alpha=0.4,linestyle='None',facecolors='none')\n",
    "ax1.legend(loc='upper center', bbox_to_anchor=legend_pos, ncol=legend_col)\n",
    "\n",
    "# Load\n",
    "plot_band_binom(ax2, S1a_time, S1a_H_tot_binom, 'green', label=label1)\n",
    "plot_band_binom(ax2, S1b_time, S1b_H_tot_binom, 'blue', label=label2)\n",
    "plot_band_binom(ax2, S2a_time, S2a_H_tot_binom, 'orange', label=label3)\n",
    "plot_band_binom(ax2, S2b_time, S2b_H_tot_binom, 'red', label=label4)\n",
    "#plot_band_binom(ax2, S5b_time, S5b_H_tot_binom, 'lightblue', label=label5)\n",
    "\n",
    "\n",
    "ax2.scatter(df_sciensano[start_sim:end_sim].index,df_sciensano['H_tot'][start_sim:end_sim],color='black',alpha=0.4,linestyle='None',facecolors='none')\n",
    "\n",
    "# British variant\n",
    "plot_band_binom(ax3, S1a_time, S1a_alpha*100, 'green', label=label1, axis=0)\n",
    "plot_band_binom(ax3, S1b_time, S1b_alpha*100, 'blue', label=label2, axis=0)\n",
    "plot_band_binom(ax3, S2a_time, S2a_alpha*100, 'orange', label=label3, axis=0)\n",
    "plot_band_binom(ax3, S2b_time, S2b_alpha*100, 'red', label=label4, axis=0)\n",
    "#plot_band_binom(ax3, S5b_time, S5b_alpha*100, 'lightblue', label=label5, axis=0)\n",
    "\n",
    "# Format\n",
    "ax1.set_title('New hospitalizations')\n",
    "ax1.set_ylabel('$H_{in} $(-)')\n",
    "ax1.set_xlim('2020-09-01',end_sim)\n",
    "ax1.axvline(x=pd.to_datetime('2021-01-15'),color='black')\n",
    "ax1.text(pd.Timestamp('2021-01-16'),750, ' introduction \\n new strain', fontsize=10)\n",
    "ax1 = _apply_tick_locator(ax1)\n",
    "ax2.set_title('Total patients in hospital')\n",
    "ax2.set_ylabel('$H_{tot}$ (-)')\n",
    "ax2.set_xlim('2020-09-01',end_sim)\n",
    "ax2.axvline(x=pd.to_datetime('2021-01-15'),color='red')\n",
    "ax2 = _apply_tick_locator(ax2)\n",
    "ax3.set_title('Prevalence of new strain')\n",
    "ax3.set_ylabel('$\\\\alpha$ (%)')\n",
    "ax3.axvline(x=pd.to_datetime('2021-01-15'),color='black')\n",
    "ax3.set_xlim('2020-09-01',end_sim)\n",
    "ax3.set_ylim(0,100)\n",
    "ax3 = _apply_tick_locator(ax3)\n",
    "# date_exceed = get_date_of_exceeding_alpha(out_S1a, ['Nc', 'draws'], 0.25)\n",
    "# ax3.axvline(x=date_exceed, color='gray')\n",
    "# ax3.text(date_exceed+pd.Timedelta('1D'),10, ' exceeding \\n 25% on {}/{}'.format(date_exceed.day, date_exceed.month), \n",
    "#          fontsize=10, color='gray')\n",
    "\n",
    "\n",
    "fig.suptitle('Scenarios current contact behaviour')\n",
    "\n",
    "fig_path =  '../../results/predictions/national/restore_v7.0/'\n",
    "#fig.savefig(fig_path+'Scenarios'+'.jpg', dpi=400, bbox_inches='tight')"
   ]
  },
  {
   "cell_type": "code",
   "execution_count": 115,
   "metadata": {
    "ExecuteTime": {
     "end_time": "2021-02-11T09:46:13.421859Z",
     "start_time": "2021-02-11T09:46:13.372532Z"
    }
   },
   "outputs": [
    {
     "data": {
      "text/plain": [
       "Timestamp('2021-01-28 00:00:00')"
      ]
     },
     "execution_count": 115,
     "metadata": {},
     "output_type": "execute_result"
    }
   ],
   "source": [
    "get_date_of_exceeding_alpha(out_S1b, ['Nc', 'draws'], 0.45)"
   ]
  },
  {
   "cell_type": "code",
   "execution_count": null,
   "metadata": {
    "ExecuteTime": {
     "end_time": "2021-02-03T15:01:37.993108Z",
     "start_time": "2021-02-03T15:01:37.728002Z"
    }
   },
   "outputs": [],
   "source": [
    "check_overtake_duration(out_S1a, ['Nc', 'draws'])"
   ]
  },
  {
   "cell_type": "markdown",
   "metadata": {},
   "source": [
    "## Vaccination effect"
   ]
  },
  {
   "cell_type": "code",
   "execution_count": 93,
   "metadata": {
    "ExecuteTime": {
     "end_time": "2021-02-11T09:35:11.282400Z",
     "start_time": "2021-02-11T09:35:10.178995Z"
    },
    "scrolled": false
   },
   "outputs": [
    {
     "data": {
      "application/javascript": [
       "/* Put everything inside the global mpl namespace */\n",
       "window.mpl = {};\n",
       "\n",
       "\n",
       "mpl.get_websocket_type = function() {\n",
       "    if (typeof(WebSocket) !== 'undefined') {\n",
       "        return WebSocket;\n",
       "    } else if (typeof(MozWebSocket) !== 'undefined') {\n",
       "        return MozWebSocket;\n",
       "    } else {\n",
       "        alert('Your browser does not have WebSocket support. ' +\n",
       "              'Please try Chrome, Safari or Firefox ≥ 6. ' +\n",
       "              'Firefox 4 and 5 are also supported but you ' +\n",
       "              'have to enable WebSockets in about:config.');\n",
       "    };\n",
       "}\n",
       "\n",
       "mpl.figure = function(figure_id, websocket, ondownload, parent_element) {\n",
       "    this.id = figure_id;\n",
       "\n",
       "    this.ws = websocket;\n",
       "\n",
       "    this.supports_binary = (this.ws.binaryType != undefined);\n",
       "\n",
       "    if (!this.supports_binary) {\n",
       "        var warnings = document.getElementById(\"mpl-warnings\");\n",
       "        if (warnings) {\n",
       "            warnings.style.display = 'block';\n",
       "            warnings.textContent = (\n",
       "                \"This browser does not support binary websocket messages. \" +\n",
       "                    \"Performance may be slow.\");\n",
       "        }\n",
       "    }\n",
       "\n",
       "    this.imageObj = new Image();\n",
       "\n",
       "    this.context = undefined;\n",
       "    this.message = undefined;\n",
       "    this.canvas = undefined;\n",
       "    this.rubberband_canvas = undefined;\n",
       "    this.rubberband_context = undefined;\n",
       "    this.format_dropdown = undefined;\n",
       "\n",
       "    this.image_mode = 'full';\n",
       "\n",
       "    this.root = $('<div/>');\n",
       "    this._root_extra_style(this.root)\n",
       "    this.root.attr('style', 'display: inline-block');\n",
       "\n",
       "    $(parent_element).append(this.root);\n",
       "\n",
       "    this._init_header(this);\n",
       "    this._init_canvas(this);\n",
       "    this._init_toolbar(this);\n",
       "\n",
       "    var fig = this;\n",
       "\n",
       "    this.waiting = false;\n",
       "\n",
       "    this.ws.onopen =  function () {\n",
       "            fig.send_message(\"supports_binary\", {value: fig.supports_binary});\n",
       "            fig.send_message(\"send_image_mode\", {});\n",
       "            if (mpl.ratio != 1) {\n",
       "                fig.send_message(\"set_dpi_ratio\", {'dpi_ratio': mpl.ratio});\n",
       "            }\n",
       "            fig.send_message(\"refresh\", {});\n",
       "        }\n",
       "\n",
       "    this.imageObj.onload = function() {\n",
       "            if (fig.image_mode == 'full') {\n",
       "                // Full images could contain transparency (where diff images\n",
       "                // almost always do), so we need to clear the canvas so that\n",
       "                // there is no ghosting.\n",
       "                fig.context.clearRect(0, 0, fig.canvas.width, fig.canvas.height);\n",
       "            }\n",
       "            fig.context.drawImage(fig.imageObj, 0, 0);\n",
       "        };\n",
       "\n",
       "    this.imageObj.onunload = function() {\n",
       "        fig.ws.close();\n",
       "    }\n",
       "\n",
       "    this.ws.onmessage = this._make_on_message_function(this);\n",
       "\n",
       "    this.ondownload = ondownload;\n",
       "}\n",
       "\n",
       "mpl.figure.prototype._init_header = function() {\n",
       "    var titlebar = $(\n",
       "        '<div class=\"ui-dialog-titlebar ui-widget-header ui-corner-all ' +\n",
       "        'ui-helper-clearfix\"/>');\n",
       "    var titletext = $(\n",
       "        '<div class=\"ui-dialog-title\" style=\"width: 100%; ' +\n",
       "        'text-align: center; padding: 3px;\"/>');\n",
       "    titlebar.append(titletext)\n",
       "    this.root.append(titlebar);\n",
       "    this.header = titletext[0];\n",
       "}\n",
       "\n",
       "\n",
       "\n",
       "mpl.figure.prototype._canvas_extra_style = function(canvas_div) {\n",
       "\n",
       "}\n",
       "\n",
       "\n",
       "mpl.figure.prototype._root_extra_style = function(canvas_div) {\n",
       "\n",
       "}\n",
       "\n",
       "mpl.figure.prototype._init_canvas = function() {\n",
       "    var fig = this;\n",
       "\n",
       "    var canvas_div = $('<div/>');\n",
       "\n",
       "    canvas_div.attr('style', 'position: relative; clear: both; outline: 0');\n",
       "\n",
       "    function canvas_keyboard_event(event) {\n",
       "        return fig.key_event(event, event['data']);\n",
       "    }\n",
       "\n",
       "    canvas_div.keydown('key_press', canvas_keyboard_event);\n",
       "    canvas_div.keyup('key_release', canvas_keyboard_event);\n",
       "    this.canvas_div = canvas_div\n",
       "    this._canvas_extra_style(canvas_div)\n",
       "    this.root.append(canvas_div);\n",
       "\n",
       "    var canvas = $('<canvas/>');\n",
       "    canvas.addClass('mpl-canvas');\n",
       "    canvas.attr('style', \"left: 0; top: 0; z-index: 0; outline: 0\")\n",
       "\n",
       "    this.canvas = canvas[0];\n",
       "    this.context = canvas[0].getContext(\"2d\");\n",
       "\n",
       "    var backingStore = this.context.backingStorePixelRatio ||\n",
       "\tthis.context.webkitBackingStorePixelRatio ||\n",
       "\tthis.context.mozBackingStorePixelRatio ||\n",
       "\tthis.context.msBackingStorePixelRatio ||\n",
       "\tthis.context.oBackingStorePixelRatio ||\n",
       "\tthis.context.backingStorePixelRatio || 1;\n",
       "\n",
       "    mpl.ratio = (window.devicePixelRatio || 1) / backingStore;\n",
       "\n",
       "    var rubberband = $('<canvas/>');\n",
       "    rubberband.attr('style', \"position: absolute; left: 0; top: 0; z-index: 1;\")\n",
       "\n",
       "    var pass_mouse_events = true;\n",
       "\n",
       "    canvas_div.resizable({\n",
       "        start: function(event, ui) {\n",
       "            pass_mouse_events = false;\n",
       "        },\n",
       "        resize: function(event, ui) {\n",
       "            fig.request_resize(ui.size.width, ui.size.height);\n",
       "        },\n",
       "        stop: function(event, ui) {\n",
       "            pass_mouse_events = true;\n",
       "            fig.request_resize(ui.size.width, ui.size.height);\n",
       "        },\n",
       "    });\n",
       "\n",
       "    function mouse_event_fn(event) {\n",
       "        if (pass_mouse_events)\n",
       "            return fig.mouse_event(event, event['data']);\n",
       "    }\n",
       "\n",
       "    rubberband.mousedown('button_press', mouse_event_fn);\n",
       "    rubberband.mouseup('button_release', mouse_event_fn);\n",
       "    // Throttle sequential mouse events to 1 every 20ms.\n",
       "    rubberband.mousemove('motion_notify', mouse_event_fn);\n",
       "\n",
       "    rubberband.mouseenter('figure_enter', mouse_event_fn);\n",
       "    rubberband.mouseleave('figure_leave', mouse_event_fn);\n",
       "\n",
       "    canvas_div.on(\"wheel\", function (event) {\n",
       "        event = event.originalEvent;\n",
       "        event['data'] = 'scroll'\n",
       "        if (event.deltaY < 0) {\n",
       "            event.step = 1;\n",
       "        } else {\n",
       "            event.step = -1;\n",
       "        }\n",
       "        mouse_event_fn(event);\n",
       "    });\n",
       "\n",
       "    canvas_div.append(canvas);\n",
       "    canvas_div.append(rubberband);\n",
       "\n",
       "    this.rubberband = rubberband;\n",
       "    this.rubberband_canvas = rubberband[0];\n",
       "    this.rubberband_context = rubberband[0].getContext(\"2d\");\n",
       "    this.rubberband_context.strokeStyle = \"#000000\";\n",
       "\n",
       "    this._resize_canvas = function(width, height) {\n",
       "        // Keep the size of the canvas, canvas container, and rubber band\n",
       "        // canvas in synch.\n",
       "        canvas_div.css('width', width)\n",
       "        canvas_div.css('height', height)\n",
       "\n",
       "        canvas.attr('width', width * mpl.ratio);\n",
       "        canvas.attr('height', height * mpl.ratio);\n",
       "        canvas.attr('style', 'width: ' + width + 'px; height: ' + height + 'px;');\n",
       "\n",
       "        rubberband.attr('width', width);\n",
       "        rubberband.attr('height', height);\n",
       "    }\n",
       "\n",
       "    // Set the figure to an initial 600x600px, this will subsequently be updated\n",
       "    // upon first draw.\n",
       "    this._resize_canvas(600, 600);\n",
       "\n",
       "    // Disable right mouse context menu.\n",
       "    $(this.rubberband_canvas).bind(\"contextmenu\",function(e){\n",
       "        return false;\n",
       "    });\n",
       "\n",
       "    function set_focus () {\n",
       "        canvas.focus();\n",
       "        canvas_div.focus();\n",
       "    }\n",
       "\n",
       "    window.setTimeout(set_focus, 100);\n",
       "}\n",
       "\n",
       "mpl.figure.prototype._init_toolbar = function() {\n",
       "    var fig = this;\n",
       "\n",
       "    var nav_element = $('<div/>');\n",
       "    nav_element.attr('style', 'width: 100%');\n",
       "    this.root.append(nav_element);\n",
       "\n",
       "    // Define a callback function for later on.\n",
       "    function toolbar_event(event) {\n",
       "        return fig.toolbar_button_onclick(event['data']);\n",
       "    }\n",
       "    function toolbar_mouse_event(event) {\n",
       "        return fig.toolbar_button_onmouseover(event['data']);\n",
       "    }\n",
       "\n",
       "    for(var toolbar_ind in mpl.toolbar_items) {\n",
       "        var name = mpl.toolbar_items[toolbar_ind][0];\n",
       "        var tooltip = mpl.toolbar_items[toolbar_ind][1];\n",
       "        var image = mpl.toolbar_items[toolbar_ind][2];\n",
       "        var method_name = mpl.toolbar_items[toolbar_ind][3];\n",
       "\n",
       "        if (!name) {\n",
       "            // put a spacer in here.\n",
       "            continue;\n",
       "        }\n",
       "        var button = $('<button/>');\n",
       "        button.addClass('ui-button ui-widget ui-state-default ui-corner-all ' +\n",
       "                        'ui-button-icon-only');\n",
       "        button.attr('role', 'button');\n",
       "        button.attr('aria-disabled', 'false');\n",
       "        button.click(method_name, toolbar_event);\n",
       "        button.mouseover(tooltip, toolbar_mouse_event);\n",
       "\n",
       "        var icon_img = $('<span/>');\n",
       "        icon_img.addClass('ui-button-icon-primary ui-icon');\n",
       "        icon_img.addClass(image);\n",
       "        icon_img.addClass('ui-corner-all');\n",
       "\n",
       "        var tooltip_span = $('<span/>');\n",
       "        tooltip_span.addClass('ui-button-text');\n",
       "        tooltip_span.html(tooltip);\n",
       "\n",
       "        button.append(icon_img);\n",
       "        button.append(tooltip_span);\n",
       "\n",
       "        nav_element.append(button);\n",
       "    }\n",
       "\n",
       "    var fmt_picker_span = $('<span/>');\n",
       "\n",
       "    var fmt_picker = $('<select/>');\n",
       "    fmt_picker.addClass('mpl-toolbar-option ui-widget ui-widget-content');\n",
       "    fmt_picker_span.append(fmt_picker);\n",
       "    nav_element.append(fmt_picker_span);\n",
       "    this.format_dropdown = fmt_picker[0];\n",
       "\n",
       "    for (var ind in mpl.extensions) {\n",
       "        var fmt = mpl.extensions[ind];\n",
       "        var option = $(\n",
       "            '<option/>', {selected: fmt === mpl.default_extension}).html(fmt);\n",
       "        fmt_picker.append(option);\n",
       "    }\n",
       "\n",
       "    // Add hover states to the ui-buttons\n",
       "    $( \".ui-button\" ).hover(\n",
       "        function() { $(this).addClass(\"ui-state-hover\");},\n",
       "        function() { $(this).removeClass(\"ui-state-hover\");}\n",
       "    );\n",
       "\n",
       "    var status_bar = $('<span class=\"mpl-message\"/>');\n",
       "    nav_element.append(status_bar);\n",
       "    this.message = status_bar[0];\n",
       "}\n",
       "\n",
       "mpl.figure.prototype.request_resize = function(x_pixels, y_pixels) {\n",
       "    // Request matplotlib to resize the figure. Matplotlib will then trigger a resize in the client,\n",
       "    // which will in turn request a refresh of the image.\n",
       "    this.send_message('resize', {'width': x_pixels, 'height': y_pixels});\n",
       "}\n",
       "\n",
       "mpl.figure.prototype.send_message = function(type, properties) {\n",
       "    properties['type'] = type;\n",
       "    properties['figure_id'] = this.id;\n",
       "    this.ws.send(JSON.stringify(properties));\n",
       "}\n",
       "\n",
       "mpl.figure.prototype.send_draw_message = function() {\n",
       "    if (!this.waiting) {\n",
       "        this.waiting = true;\n",
       "        this.ws.send(JSON.stringify({type: \"draw\", figure_id: this.id}));\n",
       "    }\n",
       "}\n",
       "\n",
       "\n",
       "mpl.figure.prototype.handle_save = function(fig, msg) {\n",
       "    var format_dropdown = fig.format_dropdown;\n",
       "    var format = format_dropdown.options[format_dropdown.selectedIndex].value;\n",
       "    fig.ondownload(fig, format);\n",
       "}\n",
       "\n",
       "\n",
       "mpl.figure.prototype.handle_resize = function(fig, msg) {\n",
       "    var size = msg['size'];\n",
       "    if (size[0] != fig.canvas.width || size[1] != fig.canvas.height) {\n",
       "        fig._resize_canvas(size[0], size[1]);\n",
       "        fig.send_message(\"refresh\", {});\n",
       "    };\n",
       "}\n",
       "\n",
       "mpl.figure.prototype.handle_rubberband = function(fig, msg) {\n",
       "    var x0 = msg['x0'] / mpl.ratio;\n",
       "    var y0 = (fig.canvas.height - msg['y0']) / mpl.ratio;\n",
       "    var x1 = msg['x1'] / mpl.ratio;\n",
       "    var y1 = (fig.canvas.height - msg['y1']) / mpl.ratio;\n",
       "    x0 = Math.floor(x0) + 0.5;\n",
       "    y0 = Math.floor(y0) + 0.5;\n",
       "    x1 = Math.floor(x1) + 0.5;\n",
       "    y1 = Math.floor(y1) + 0.5;\n",
       "    var min_x = Math.min(x0, x1);\n",
       "    var min_y = Math.min(y0, y1);\n",
       "    var width = Math.abs(x1 - x0);\n",
       "    var height = Math.abs(y1 - y0);\n",
       "\n",
       "    fig.rubberband_context.clearRect(\n",
       "        0, 0, fig.canvas.width / mpl.ratio, fig.canvas.height / mpl.ratio);\n",
       "\n",
       "    fig.rubberband_context.strokeRect(min_x, min_y, width, height);\n",
       "}\n",
       "\n",
       "mpl.figure.prototype.handle_figure_label = function(fig, msg) {\n",
       "    // Updates the figure title.\n",
       "    fig.header.textContent = msg['label'];\n",
       "}\n",
       "\n",
       "mpl.figure.prototype.handle_cursor = function(fig, msg) {\n",
       "    var cursor = msg['cursor'];\n",
       "    switch(cursor)\n",
       "    {\n",
       "    case 0:\n",
       "        cursor = 'pointer';\n",
       "        break;\n",
       "    case 1:\n",
       "        cursor = 'default';\n",
       "        break;\n",
       "    case 2:\n",
       "        cursor = 'crosshair';\n",
       "        break;\n",
       "    case 3:\n",
       "        cursor = 'move';\n",
       "        break;\n",
       "    }\n",
       "    fig.rubberband_canvas.style.cursor = cursor;\n",
       "}\n",
       "\n",
       "mpl.figure.prototype.handle_message = function(fig, msg) {\n",
       "    fig.message.textContent = msg['message'];\n",
       "}\n",
       "\n",
       "mpl.figure.prototype.handle_draw = function(fig, msg) {\n",
       "    // Request the server to send over a new figure.\n",
       "    fig.send_draw_message();\n",
       "}\n",
       "\n",
       "mpl.figure.prototype.handle_image_mode = function(fig, msg) {\n",
       "    fig.image_mode = msg['mode'];\n",
       "}\n",
       "\n",
       "mpl.figure.prototype.updated_canvas_event = function() {\n",
       "    // Called whenever the canvas gets updated.\n",
       "    this.send_message(\"ack\", {});\n",
       "}\n",
       "\n",
       "// A function to construct a web socket function for onmessage handling.\n",
       "// Called in the figure constructor.\n",
       "mpl.figure.prototype._make_on_message_function = function(fig) {\n",
       "    return function socket_on_message(evt) {\n",
       "        if (evt.data instanceof Blob) {\n",
       "            /* FIXME: We get \"Resource interpreted as Image but\n",
       "             * transferred with MIME type text/plain:\" errors on\n",
       "             * Chrome.  But how to set the MIME type?  It doesn't seem\n",
       "             * to be part of the websocket stream */\n",
       "            evt.data.type = \"image/png\";\n",
       "\n",
       "            /* Free the memory for the previous frames */\n",
       "            if (fig.imageObj.src) {\n",
       "                (window.URL || window.webkitURL).revokeObjectURL(\n",
       "                    fig.imageObj.src);\n",
       "            }\n",
       "\n",
       "            fig.imageObj.src = (window.URL || window.webkitURL).createObjectURL(\n",
       "                evt.data);\n",
       "            fig.updated_canvas_event();\n",
       "            fig.waiting = false;\n",
       "            return;\n",
       "        }\n",
       "        else if (typeof evt.data === 'string' && evt.data.slice(0, 21) == \"data:image/png;base64\") {\n",
       "            fig.imageObj.src = evt.data;\n",
       "            fig.updated_canvas_event();\n",
       "            fig.waiting = false;\n",
       "            return;\n",
       "        }\n",
       "\n",
       "        var msg = JSON.parse(evt.data);\n",
       "        var msg_type = msg['type'];\n",
       "\n",
       "        // Call the  \"handle_{type}\" callback, which takes\n",
       "        // the figure and JSON message as its only arguments.\n",
       "        try {\n",
       "            var callback = fig[\"handle_\" + msg_type];\n",
       "        } catch (e) {\n",
       "            console.log(\"No handler for the '\" + msg_type + \"' message type: \", msg);\n",
       "            return;\n",
       "        }\n",
       "\n",
       "        if (callback) {\n",
       "            try {\n",
       "                // console.log(\"Handling '\" + msg_type + \"' message: \", msg);\n",
       "                callback(fig, msg);\n",
       "            } catch (e) {\n",
       "                console.log(\"Exception inside the 'handler_\" + msg_type + \"' callback:\", e, e.stack, msg);\n",
       "            }\n",
       "        }\n",
       "    };\n",
       "}\n",
       "\n",
       "// from http://stackoverflow.com/questions/1114465/getting-mouse-location-in-canvas\n",
       "mpl.findpos = function(e) {\n",
       "    //this section is from http://www.quirksmode.org/js/events_properties.html\n",
       "    var targ;\n",
       "    if (!e)\n",
       "        e = window.event;\n",
       "    if (e.target)\n",
       "        targ = e.target;\n",
       "    else if (e.srcElement)\n",
       "        targ = e.srcElement;\n",
       "    if (targ.nodeType == 3) // defeat Safari bug\n",
       "        targ = targ.parentNode;\n",
       "\n",
       "    // jQuery normalizes the pageX and pageY\n",
       "    // pageX,Y are the mouse positions relative to the document\n",
       "    // offset() returns the position of the element relative to the document\n",
       "    var x = e.pageX - $(targ).offset().left;\n",
       "    var y = e.pageY - $(targ).offset().top;\n",
       "\n",
       "    return {\"x\": x, \"y\": y};\n",
       "};\n",
       "\n",
       "/*\n",
       " * return a copy of an object with only non-object keys\n",
       " * we need this to avoid circular references\n",
       " * http://stackoverflow.com/a/24161582/3208463\n",
       " */\n",
       "function simpleKeys (original) {\n",
       "  return Object.keys(original).reduce(function (obj, key) {\n",
       "    if (typeof original[key] !== 'object')\n",
       "        obj[key] = original[key]\n",
       "    return obj;\n",
       "  }, {});\n",
       "}\n",
       "\n",
       "mpl.figure.prototype.mouse_event = function(event, name) {\n",
       "    var canvas_pos = mpl.findpos(event)\n",
       "\n",
       "    if (name === 'button_press')\n",
       "    {\n",
       "        this.canvas.focus();\n",
       "        this.canvas_div.focus();\n",
       "    }\n",
       "\n",
       "    var x = canvas_pos.x * mpl.ratio;\n",
       "    var y = canvas_pos.y * mpl.ratio;\n",
       "\n",
       "    this.send_message(name, {x: x, y: y, button: event.button,\n",
       "                             step: event.step,\n",
       "                             guiEvent: simpleKeys(event)});\n",
       "\n",
       "    /* This prevents the web browser from automatically changing to\n",
       "     * the text insertion cursor when the button is pressed.  We want\n",
       "     * to control all of the cursor setting manually through the\n",
       "     * 'cursor' event from matplotlib */\n",
       "    event.preventDefault();\n",
       "    return false;\n",
       "}\n",
       "\n",
       "mpl.figure.prototype._key_event_extra = function(event, name) {\n",
       "    // Handle any extra behaviour associated with a key event\n",
       "}\n",
       "\n",
       "mpl.figure.prototype.key_event = function(event, name) {\n",
       "\n",
       "    // Prevent repeat events\n",
       "    if (name == 'key_press')\n",
       "    {\n",
       "        if (event.which === this._key)\n",
       "            return;\n",
       "        else\n",
       "            this._key = event.which;\n",
       "    }\n",
       "    if (name == 'key_release')\n",
       "        this._key = null;\n",
       "\n",
       "    var value = '';\n",
       "    if (event.ctrlKey && event.which != 17)\n",
       "        value += \"ctrl+\";\n",
       "    if (event.altKey && event.which != 18)\n",
       "        value += \"alt+\";\n",
       "    if (event.shiftKey && event.which != 16)\n",
       "        value += \"shift+\";\n",
       "\n",
       "    value += 'k';\n",
       "    value += event.which.toString();\n",
       "\n",
       "    this._key_event_extra(event, name);\n",
       "\n",
       "    this.send_message(name, {key: value,\n",
       "                             guiEvent: simpleKeys(event)});\n",
       "    return false;\n",
       "}\n",
       "\n",
       "mpl.figure.prototype.toolbar_button_onclick = function(name) {\n",
       "    if (name == 'download') {\n",
       "        this.handle_save(this, null);\n",
       "    } else {\n",
       "        this.send_message(\"toolbar_button\", {name: name});\n",
       "    }\n",
       "};\n",
       "\n",
       "mpl.figure.prototype.toolbar_button_onmouseover = function(tooltip) {\n",
       "    this.message.textContent = tooltip;\n",
       "};\n",
       "mpl.toolbar_items = [[\"Home\", \"Reset original view\", \"fa fa-home icon-home\", \"home\"], [\"Back\", \"Back to previous view\", \"fa fa-arrow-left icon-arrow-left\", \"back\"], [\"Forward\", \"Forward to next view\", \"fa fa-arrow-right icon-arrow-right\", \"forward\"], [\"\", \"\", \"\", \"\"], [\"Pan\", \"Pan axes with left mouse, zoom with right\", \"fa fa-arrows icon-move\", \"pan\"], [\"Zoom\", \"Zoom to rectangle\", \"fa fa-square-o icon-check-empty\", \"zoom\"], [\"\", \"\", \"\", \"\"], [\"Download\", \"Download plot\", \"fa fa-floppy-o icon-save\", \"download\"]];\n",
       "\n",
       "mpl.extensions = [\"eps\", \"jpeg\", \"pdf\", \"png\", \"ps\", \"raw\", \"svg\", \"tif\"];\n",
       "\n",
       "mpl.default_extension = \"png\";var comm_websocket_adapter = function(comm) {\n",
       "    // Create a \"websocket\"-like object which calls the given IPython comm\n",
       "    // object with the appropriate methods. Currently this is a non binary\n",
       "    // socket, so there is still some room for performance tuning.\n",
       "    var ws = {};\n",
       "\n",
       "    ws.close = function() {\n",
       "        comm.close()\n",
       "    };\n",
       "    ws.send = function(m) {\n",
       "        //console.log('sending', m);\n",
       "        comm.send(m);\n",
       "    };\n",
       "    // Register the callback with on_msg.\n",
       "    comm.on_msg(function(msg) {\n",
       "        //console.log('receiving', msg['content']['data'], msg);\n",
       "        // Pass the mpl event to the overridden (by mpl) onmessage function.\n",
       "        ws.onmessage(msg['content']['data'])\n",
       "    });\n",
       "    return ws;\n",
       "}\n",
       "\n",
       "mpl.mpl_figure_comm = function(comm, msg) {\n",
       "    // This is the function which gets called when the mpl process\n",
       "    // starts-up an IPython Comm through the \"matplotlib\" channel.\n",
       "\n",
       "    var id = msg.content.data.id;\n",
       "    // Get hold of the div created by the display call when the Comm\n",
       "    // socket was opened in Python.\n",
       "    var element = $(\"#\" + id);\n",
       "    var ws_proxy = comm_websocket_adapter(comm)\n",
       "\n",
       "    function ondownload(figure, format) {\n",
       "        window.open(figure.imageObj.src);\n",
       "    }\n",
       "\n",
       "    var fig = new mpl.figure(id, ws_proxy,\n",
       "                           ondownload,\n",
       "                           element.get(0));\n",
       "\n",
       "    // Call onopen now - mpl needs it, as it is assuming we've passed it a real\n",
       "    // web socket which is closed, not our websocket->open comm proxy.\n",
       "    ws_proxy.onopen();\n",
       "\n",
       "    fig.parent_element = element.get(0);\n",
       "    fig.cell_info = mpl.find_output_cell(\"<div id='\" + id + \"'></div>\");\n",
       "    if (!fig.cell_info) {\n",
       "        console.error(\"Failed to find cell for figure\", id, fig);\n",
       "        return;\n",
       "    }\n",
       "\n",
       "    var output_index = fig.cell_info[2]\n",
       "    var cell = fig.cell_info[0];\n",
       "\n",
       "};\n",
       "\n",
       "mpl.figure.prototype.handle_close = function(fig, msg) {\n",
       "    var width = fig.canvas.width/mpl.ratio\n",
       "    fig.root.unbind('remove')\n",
       "\n",
       "    // Update the output cell to use the data from the current canvas.\n",
       "    fig.push_to_output();\n",
       "    var dataURL = fig.canvas.toDataURL();\n",
       "    // Re-enable the keyboard manager in IPython - without this line, in FF,\n",
       "    // the notebook keyboard shortcuts fail.\n",
       "    IPython.keyboard_manager.enable()\n",
       "    $(fig.parent_element).html('<img src=\"' + dataURL + '\" width=\"' + width + '\">');\n",
       "    fig.close_ws(fig, msg);\n",
       "}\n",
       "\n",
       "mpl.figure.prototype.close_ws = function(fig, msg){\n",
       "    fig.send_message('closing', msg);\n",
       "    // fig.ws.close()\n",
       "}\n",
       "\n",
       "mpl.figure.prototype.push_to_output = function(remove_interactive) {\n",
       "    // Turn the data on the canvas into data in the output cell.\n",
       "    var width = this.canvas.width/mpl.ratio\n",
       "    var dataURL = this.canvas.toDataURL();\n",
       "    this.cell_info[1]['text/html'] = '<img src=\"' + dataURL + '\" width=\"' + width + '\">';\n",
       "}\n",
       "\n",
       "mpl.figure.prototype.updated_canvas_event = function() {\n",
       "    // Tell IPython that the notebook contents must change.\n",
       "    IPython.notebook.set_dirty(true);\n",
       "    this.send_message(\"ack\", {});\n",
       "    var fig = this;\n",
       "    // Wait a second, then push the new image to the DOM so\n",
       "    // that it is saved nicely (might be nice to debounce this).\n",
       "    setTimeout(function () { fig.push_to_output() }, 1000);\n",
       "}\n",
       "\n",
       "mpl.figure.prototype._init_toolbar = function() {\n",
       "    var fig = this;\n",
       "\n",
       "    var nav_element = $('<div/>');\n",
       "    nav_element.attr('style', 'width: 100%');\n",
       "    this.root.append(nav_element);\n",
       "\n",
       "    // Define a callback function for later on.\n",
       "    function toolbar_event(event) {\n",
       "        return fig.toolbar_button_onclick(event['data']);\n",
       "    }\n",
       "    function toolbar_mouse_event(event) {\n",
       "        return fig.toolbar_button_onmouseover(event['data']);\n",
       "    }\n",
       "\n",
       "    for(var toolbar_ind in mpl.toolbar_items){\n",
       "        var name = mpl.toolbar_items[toolbar_ind][0];\n",
       "        var tooltip = mpl.toolbar_items[toolbar_ind][1];\n",
       "        var image = mpl.toolbar_items[toolbar_ind][2];\n",
       "        var method_name = mpl.toolbar_items[toolbar_ind][3];\n",
       "\n",
       "        if (!name) { continue; };\n",
       "\n",
       "        var button = $('<button class=\"btn btn-default\" href=\"#\" title=\"' + name + '\"><i class=\"fa ' + image + ' fa-lg\"></i></button>');\n",
       "        button.click(method_name, toolbar_event);\n",
       "        button.mouseover(tooltip, toolbar_mouse_event);\n",
       "        nav_element.append(button);\n",
       "    }\n",
       "\n",
       "    // Add the status bar.\n",
       "    var status_bar = $('<span class=\"mpl-message\" style=\"text-align:right; float: right;\"/>');\n",
       "    nav_element.append(status_bar);\n",
       "    this.message = status_bar[0];\n",
       "\n",
       "    // Add the close button to the window.\n",
       "    var buttongrp = $('<div class=\"btn-group inline pull-right\"></div>');\n",
       "    var button = $('<button class=\"btn btn-mini btn-primary\" href=\"#\" title=\"Stop Interaction\"><i class=\"fa fa-power-off icon-remove icon-large\"></i></button>');\n",
       "    button.click(function (evt) { fig.handle_close(fig, {}); } );\n",
       "    button.mouseover('Stop Interaction', toolbar_mouse_event);\n",
       "    buttongrp.append(button);\n",
       "    var titlebar = this.root.find($('.ui-dialog-titlebar'));\n",
       "    titlebar.prepend(buttongrp);\n",
       "}\n",
       "\n",
       "mpl.figure.prototype._root_extra_style = function(el){\n",
       "    var fig = this\n",
       "    el.on(\"remove\", function(){\n",
       "\tfig.close_ws(fig, {});\n",
       "    });\n",
       "}\n",
       "\n",
       "mpl.figure.prototype._canvas_extra_style = function(el){\n",
       "    // this is important to make the div 'focusable\n",
       "    el.attr('tabindex', 0)\n",
       "    // reach out to IPython and tell the keyboard manager to turn it's self\n",
       "    // off when our div gets focus\n",
       "\n",
       "    // location in version 3\n",
       "    if (IPython.notebook.keyboard_manager) {\n",
       "        IPython.notebook.keyboard_manager.register_events(el);\n",
       "    }\n",
       "    else {\n",
       "        // location in version 2\n",
       "        IPython.keyboard_manager.register_events(el);\n",
       "    }\n",
       "\n",
       "}\n",
       "\n",
       "mpl.figure.prototype._key_event_extra = function(event, name) {\n",
       "    var manager = IPython.notebook.keyboard_manager;\n",
       "    if (!manager)\n",
       "        manager = IPython.keyboard_manager;\n",
       "\n",
       "    // Check for shift+enter\n",
       "    if (event.shiftKey && event.which == 13) {\n",
       "        this.canvas_div.blur();\n",
       "        // select the cell after this one\n",
       "        var index = IPython.notebook.find_cell_index(this.cell_info[0]);\n",
       "        IPython.notebook.select(index + 1);\n",
       "    }\n",
       "}\n",
       "\n",
       "mpl.figure.prototype.handle_save = function(fig, msg) {\n",
       "    fig.ondownload(fig, null);\n",
       "}\n",
       "\n",
       "\n",
       "mpl.find_output_cell = function(html_output) {\n",
       "    // Return the cell and output element which can be found *uniquely* in the notebook.\n",
       "    // Note - this is a bit hacky, but it is done because the \"notebook_saving.Notebook\"\n",
       "    // IPython event is triggered only after the cells have been serialised, which for\n",
       "    // our purposes (turning an active figure into a static one), is too late.\n",
       "    var cells = IPython.notebook.get_cells();\n",
       "    var ncells = cells.length;\n",
       "    for (var i=0; i<ncells; i++) {\n",
       "        var cell = cells[i];\n",
       "        if (cell.cell_type === 'code'){\n",
       "            for (var j=0; j<cell.output_area.outputs.length; j++) {\n",
       "                var data = cell.output_area.outputs[j];\n",
       "                if (data.data) {\n",
       "                    // IPython >= 3 moved mimebundle to data attribute of output\n",
       "                    data = data.data;\n",
       "                }\n",
       "                if (data['text/html'] == html_output) {\n",
       "                    return [cell, data, j];\n",
       "                }\n",
       "            }\n",
       "        }\n",
       "    }\n",
       "}\n",
       "\n",
       "// Register the function which deals with the matplotlib target/channel.\n",
       "// The kernel may be null if the page has been refreshed.\n",
       "if (IPython.notebook.kernel != null) {\n",
       "    IPython.notebook.kernel.comm_manager.register_target('matplotlib', mpl.mpl_figure_comm);\n",
       "}\n"
      ],
      "text/plain": [
       "<IPython.core.display.Javascript object>"
      ]
     },
     "metadata": {},
     "output_type": "display_data"
    },
    {
     "data": {
      "text/html": [
       "<img src=\"data:image/png;base64,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\" width=\"1000\">"
      ],
      "text/plain": [
       "<IPython.core.display.HTML object>"
      ]
     },
     "metadata": {},
     "output_type": "display_data"
    }
   ],
   "source": [
    "# ----------------\n",
    "# Visualize result\n",
    "# ----------------\n",
    "# Plot\n",
    "fig,(ax1, ax2, ax3) = plt.subplots(3,sharex=True,figsize=(10,15))\n",
    "legend_pos = (0.5, 1.35)\n",
    "legend_col = 2\n",
    "\n",
    "label1 = 'current behaviour - +50% - no vaccination'\n",
    "label2 = 'current behaviour - +50%'\n",
    "label3 = 'september behaviour - +30 - no vaccination%'\n",
    "label4 = 'september behaviour - +50%'\n",
    "\n",
    "# Incidence\n",
    "plot_band_binom(ax1, S4a_time, S4a_H_in_binom, 'green', label=label1)\n",
    "plot_band_binom(ax1, S1b_time, S1b_H_in_binom, 'blue', label=label2)\n",
    "plot_band_binom(ax1, S3a_time, S3a_H_in_binom, 'orange', label=label3)\n",
    "plot_band_binom(ax1, S2b_time, S2b_H_in_binom, 'red', label=label4)\n",
    "\n",
    "ax1.scatter(df_sciensano[start_sim:end_sim].index,df_sciensano['H_in'][start_sim:end_sim],color='black',alpha=0.4,linestyle='None',facecolors='none')\n",
    "ax1.legend(loc='upper center', bbox_to_anchor=legend_pos, ncol=legend_col)\n",
    "\n",
    "# Load\n",
    "plot_band_binom(ax2, S4a_time, S4a_H_tot_binom, 'green', label=label1)\n",
    "plot_band_binom(ax2, S1b_time, S1b_H_tot_binom, 'blue', label=label2)\n",
    "plot_band_binom(ax2, S3a_time, S3a_H_tot_binom, 'orange', label=label3)\n",
    "plot_band_binom(ax2, S2b_time, S2b_H_tot_binom, 'red', label=label4)\n",
    "\n",
    "ax2.scatter(df_sciensano[start_sim:end_sim].index,df_sciensano['H_tot'][start_sim:end_sim],color='black',alpha=0.4,linestyle='None',facecolors='none')\n",
    "\n",
    "# British variant\n",
    "plot_band_binom(ax3, S4a_time, S4a_alpha*100, 'green', label=label1, axis=0)\n",
    "plot_band_binom(ax3, S1b_time, S1b_alpha*100, 'blue', label=label2, axis=0)\n",
    "plot_band_binom(ax3, S3a_time, S3a_alpha*100, 'orange', label=label3, axis=0)\n",
    "plot_band_binom(ax3, S2b_time, S2b_alpha*100, 'red', label=label4, axis=0)\n",
    "\n",
    "# Format\n",
    "ax1.set_title('New hospitalizations')\n",
    "ax1.set_ylabel('$H_{in} $(-)')\n",
    "ax1.set_xlim('2020-09-01',end_sim)\n",
    "ax1.axvline(x=pd.to_datetime('2021-01-15'),color='black')\n",
    "ax1.text(pd.Timestamp('2021-01-16'),750, ' introduction \\n new strain', fontsize=10)\n",
    "ax1 = _apply_tick_locator(ax1)\n",
    "ax2.set_title('Total patients in hospital')\n",
    "ax2.set_ylabel('$H_{tot}$ (-)')\n",
    "ax2.set_xlim('2020-09-01',end_sim)\n",
    "ax2.axvline(x=pd.to_datetime('2021-01-15'),color='red')\n",
    "ax2 = _apply_tick_locator(ax2)\n",
    "ax3.set_title('Prevalence of new strain')\n",
    "ax3.set_ylabel('$\\\\alpha$ (%)')\n",
    "ax3.axvline(x=pd.to_datetime('2021-01-15'),color='black')\n",
    "ax3.set_xlim('2020-09-01',end_sim)\n",
    "ax3.set_ylim(0,100)\n",
    "ax3 = _apply_tick_locator(ax3)\n",
    "# date_exceed = get_date_of_exceeding_alpha(out_S4a, ['Nc', 'draws'], 0.25)\n",
    "# ax3.axvline(x=date_exceed, color='gray')\n",
    "# ax3.text(date_exceed+pd.Timedelta('1D'),10, ' exceeding \\n 25% on {}/{}'.format(date_exceed.day, date_exceed.month), \n",
    "#          fontsize=10, color='gray')\n",
    "\n",
    "\n",
    "fig.suptitle('Scenarios current contact behaviour')\n",
    "\n",
    "fig_path =  '../../results/predictions/national/restore_v7.0/'\n",
    "#fig.savefig(fig_path+'Scenarios_vaccination'+'.jpg', dpi=400, bbox_inches='tight')"
   ]
  },
  {
   "cell_type": "markdown",
   "metadata": {
    "heading_collapsed": true
   },
   "source": [
    "# Alternative scenarios A1"
   ]
  },
  {
   "cell_type": "code",
   "execution_count": null,
   "metadata": {
    "ExecuteTime": {
     "end_time": "2021-01-27T09:32:33.725372Z",
     "start_time": "2021-01-27T09:32:33.685124Z"
    },
    "hidden": true
   },
   "outputs": [],
   "source": [
    "start_sim1 = '2020-09-01'\n",
    "end_sim1 = '2021-01-15' # Initiate new strain on 15 Jan\n",
    "end_sim2 = '2021-05-01'\n",
    "warmup = 0\n",
    "n_samples = 5\n",
    "n_draws_per_sample = 50\n",
    "effectivity = 0.9\n",
    "portion_new_strain_introduced = 0.001\n",
    "scenario = '1'"
   ]
  },
  {
   "cell_type": "markdown",
   "metadata": {
    "heading_collapsed": true,
    "hidden": true
   },
   "source": [
    "## A1a - vacc - old strain"
   ]
  },
  {
   "cell_type": "code",
   "execution_count": null,
   "metadata": {
    "ExecuteTime": {
     "end_time": "2021-01-25T12:04:35.340868Z",
     "start_time": "2021-01-25T12:04:25.177737Z"
    },
    "hidden": true
   },
   "outputs": [],
   "source": [
    "model_A1a = vaccin_model(initial_states_sept, scenario=scenario,Nc_fun=report7_policy_function, N_vacc_fun=None)\n",
    "out_A1a = model_A1a.sim(end_sim2,start_date=start_sim1,warmup=warmup,N=n_samples,draw_fcn=draw_fcn,samples=samples_dict,verbose=True)"
   ]
  },
  {
   "cell_type": "code",
   "execution_count": null,
   "metadata": {
    "ExecuteTime": {
     "end_time": "2021-01-25T12:04:35.482019Z",
     "start_time": "2021-01-25T12:04:35.345674Z"
    },
    "hidden": true
   },
   "outputs": [],
   "source": [
    "A1a_H_in_binom = sample_from_binomial(out_A1a, 'H_in', n_draws_per_sample, n_samples, LL, UL)\n",
    "A1a_time = out_A1a[\"time\"].values\n",
    "A1a_alpha = out_A1a['alpha'].mean(dim=\"Nc\").values"
   ]
  },
  {
   "cell_type": "markdown",
   "metadata": {
    "heading_collapsed": true,
    "hidden": true
   },
   "source": [
    "## A1b - no vacc - new strain"
   ]
  },
  {
   "cell_type": "code",
   "execution_count": null,
   "metadata": {
    "ExecuteTime": {
     "end_time": "2021-01-25T12:04:50.728468Z",
     "start_time": "2021-01-25T12:04:35.490290Z"
    },
    "hidden": true
   },
   "outputs": [],
   "source": [
    "model_A1b = vaccin_model(initial_states_sept, scenario=scenario,Nc_fun=report7_policy_function, N_vacc_fun=None)\n",
    "out_A1b = model_A1b.sim(end_sim1,start_date=start_sim1,warmup=warmup,N=n_samples,draw_fcn=draw_fcn,samples=samples_dict,verbose=True)\n",
    "\n",
    "# Average and pass on state variables\n",
    "initial_states_2 = out_A1b.sel(time=end_sim1).mean(dim=\"draws\")\n",
    "# One promille of British variant on January 15th 2021\n",
    "initial_states_2['alpha'].values = portion_new_strain_introduced*np.ones(9)\n",
    "# Re-Initialize\n",
    "model_A1b_part2 = vaccin_model(initial_states_2, scenario=scenario,Nc_fun=report7_policy_function, N_vacc_fun=None)\n",
    "out_A1b_part2 = model_A1b_part2.sim(end_sim2,start_date=end_sim1,warmup=warmup,N=n_samples,draw_fcn=draw_fcn,samples=samples_dict,verbose=True)"
   ]
  },
  {
   "cell_type": "code",
   "execution_count": null,
   "metadata": {
    "ExecuteTime": {
     "end_time": "2021-01-25T12:04:50.835779Z",
     "start_time": "2021-01-25T12:04:50.733020Z"
    },
    "hidden": true
   },
   "outputs": [],
   "source": [
    "A1b_H_in_binom = sample_from_binomial(out_A1b, 'H_in', n_draws_per_sample, n_samples, LL, UL)\n",
    "A1b_H_in_binom = sample_from_binomial(out_A1b_part2, 'H_in', n_draws_per_sample, n_samples, LL, UL, A1b_H_in_binom)"
   ]
  },
  {
   "cell_type": "code",
   "execution_count": null,
   "metadata": {
    "ExecuteTime": {
     "end_time": "2021-01-25T12:01:05.771064Z",
     "start_time": "2021-01-25T12:01:05.672339Z"
    },
    "hidden": true
   },
   "outputs": [],
   "source": [
    "# A1b_H_tot_binom = sample_from_binomial(out_A1b, 'H_tot', n_draws_per_sample, n_samples, LL, UL)\n",
    "# A1b_H_tot_binom = sample_from_binomial(out_A1b_part2, 'H_tot', n_draws_per_sample, n_samples, LL, UL, A1b_H_tot_binom)"
   ]
  },
  {
   "cell_type": "code",
   "execution_count": null,
   "metadata": {
    "ExecuteTime": {
     "end_time": "2021-01-25T12:04:50.960164Z",
     "start_time": "2021-01-25T12:04:50.840293Z"
    },
    "hidden": true
   },
   "outputs": [],
   "source": [
    "A1b_time = out_A1b[\"time\"].values\n",
    "A1b_alpha = out_A1b['alpha'].mean(dim=\"Nc\").values\n",
    "A1b_time = np.append(A1b_time, out_A1b_part2['time'].values)\n",
    "A1b_alpha = np.append(A1b_alpha,out_A1b_part2['alpha'].mean(dim=\"Nc\").values,axis=1)"
   ]
  },
  {
   "cell_type": "markdown",
   "metadata": {
    "heading_collapsed": true,
    "hidden": true
   },
   "source": [
    "## A1c - vaccination - old strain"
   ]
  },
  {
   "cell_type": "code",
   "execution_count": null,
   "metadata": {
    "ExecuteTime": {
     "end_time": "2021-01-25T12:05:01.855812Z",
     "start_time": "2021-01-25T12:04:50.967256Z"
    },
    "hidden": true
   },
   "outputs": [],
   "source": [
    "model_A1c = vaccin_model(initial_states_sept, scenario=scenario, effectivity=effectivity, Nc_fun=report7_policy_function, N_vacc_fun=vacc_strategy)\n",
    "out_A1c = model_A1c.sim(end_sim2,start_date=start_sim1,warmup=warmup,N=n_samples,draw_fcn=draw_fcn,samples=samples_dict,verbose=True)"
   ]
  },
  {
   "cell_type": "code",
   "execution_count": null,
   "metadata": {
    "ExecuteTime": {
     "end_time": "2021-01-25T12:05:01.993746Z",
     "start_time": "2021-01-25T12:05:01.860836Z"
    },
    "hidden": true
   },
   "outputs": [],
   "source": [
    "A1c_H_in_binom = sample_from_binomial(out_A1c, 'H_in', n_draws_per_sample, n_samples, LL, UL)\n",
    "A1c_time = out_A1c[\"time\"].values\n",
    "A1c_alpha = out_A1c['alpha'].mean(dim=\"Nc\").values"
   ]
  },
  {
   "cell_type": "markdown",
   "metadata": {
    "hidden": true
   },
   "source": [
    "## A1d - vaccination - new strain"
   ]
  },
  {
   "cell_type": "code",
   "execution_count": null,
   "metadata": {
    "ExecuteTime": {
     "end_time": "2021-01-27T09:32:51.030056Z",
     "start_time": "2021-01-27T09:32:43.494305Z"
    },
    "hidden": true
   },
   "outputs": [],
   "source": [
    "model_A1d = vaccin_model(initial_states_sept, scenario=scenario, effectivity=effectivity, Nc_fun=report7_policy_function, N_vacc_fun=vacc_strategy)\n",
    "out_A1d = model_A1d.sim(end_sim1,start_date=start_sim1,warmup=warmup,N=n_samples,draw_fcn=draw_fcn,samples=samples_dict,verbose=True)\n",
    "\n",
    "# Average and pass on state variables\n",
    "initial_states_2 = out_A1d.sel(time=end_sim1).mean(dim=\"draws\")\n",
    "# One promille of British variant on January 15th 2021\n",
    "initial_states_2['alpha'].values = portion_new_strain_introduced*np.ones(9)\n",
    "# Re-Initialize\n",
    "model_A1d_part2 = vaccin_model(initial_states_2, scenario=scenario, effectivity=effectivity, Nc_fun=report7_policy_function, N_vacc_fun=vacc_strategy)\n",
    "out_A1d_part2 = model_A1d_part2.sim(end_sim2,start_date=end_sim1,warmup=warmup,N=n_samples,draw_fcn=draw_fcn,samples=samples_dict,verbose=True)"
   ]
  },
  {
   "cell_type": "code",
   "execution_count": null,
   "metadata": {
    "ExecuteTime": {
     "end_time": "2021-01-27T08:49:43.164360Z",
     "start_time": "2021-01-27T08:49:43.112541Z"
    },
    "hidden": true
   },
   "outputs": [],
   "source": [
    "model_A1d_part2.parameters['beta']"
   ]
  },
  {
   "cell_type": "code",
   "execution_count": null,
   "metadata": {
    "ExecuteTime": {
     "end_time": "2021-01-27T09:32:55.404626Z",
     "start_time": "2021-01-27T09:32:55.355098Z"
    },
    "hidden": true
   },
   "outputs": [],
   "source": [
    "A1d_H_in_binom = sample_from_binomial(out_A1d, 'H_in', n_draws_per_sample, n_samples)\n",
    "A1d_H_in_binom = sample_from_binomial(out_A1d_part2, 'H_in', n_draws_per_sample, n_samples, A1d_H_in_binom)"
   ]
  },
  {
   "cell_type": "code",
   "execution_count": null,
   "metadata": {
    "ExecuteTime": {
     "end_time": "2021-01-25T12:02:49.523011Z",
     "start_time": "2021-01-25T12:02:49.403700Z"
    },
    "hidden": true
   },
   "outputs": [],
   "source": [
    "# A1d_H_tot_binom = sample_from_binomial(out_A1d, 'H_tot', n_draws_per_sample, n_samples)\n",
    "# A1d_H_tot_binom = sample_from_binomial(out_A1d_part2, 'H_tot', n_draws_per_sample, n_samples, A1d_H_tot_binom)"
   ]
  },
  {
   "cell_type": "code",
   "execution_count": null,
   "metadata": {
    "ExecuteTime": {
     "end_time": "2021-01-25T12:05:17.785145Z",
     "start_time": "2021-01-25T12:05:17.546313Z"
    },
    "hidden": true
   },
   "outputs": [],
   "source": [
    "A1d_time = out_A1d[\"time\"].values\n",
    "A1d_alpha = out_A1d['alpha'].mean(dim=\"Nc\").values\n",
    "A1d_time = np.append(A1d_time, out_A1d_part2['time'].values)\n",
    "A1d_alpha = np.append(A1d_alpha,out_A1d_part2['alpha'].mean(dim=\"Nc\").values,axis=1)"
   ]
  },
  {
   "cell_type": "markdown",
   "metadata": {
    "hidden": true
   },
   "source": [
    "## Visualise"
   ]
  },
  {
   "cell_type": "code",
   "execution_count": null,
   "metadata": {
    "ExecuteTime": {
     "end_time": "2021-01-25T12:08:36.932017Z",
     "start_time": "2021-01-25T12:08:33.890888Z"
    },
    "hidden": true,
    "scrolled": false
   },
   "outputs": [],
   "source": [
    "# ----------------\n",
    "# Visualize result\n",
    "# ----------------\n",
    "# Plot\n",
    "fig,(ax1, ax3) = plt.subplots(2,sharex=True,figsize=(10,10))\n",
    "legend_pos = (0.5, 1.25)\n",
    "legend_col = 2\n",
    "\n",
    "# Incidence\n",
    "plot_band_binom(ax1, A1a_time, A1a_H_in_binom, 'green', label='no new strain')\n",
    "plot_band_binom(ax1, A1b_time, A1b_H_in_binom, 'blue', label='new strain on 15/1')\n",
    "plot_band_binom(ax1, A1c_time, A1c_H_in_binom, 'orange', label='no new strain - vacc')\n",
    "plot_band_binom(ax1, A1d_time, A1d_H_in_binom, 'red', label='new strain on 15/1 - vacc')\n",
    "\n",
    "ax1.scatter(df_sciensano[start_sim1:end_sim1].index,df_sciensano['H_in'][start_sim1:end_sim1],color='black',alpha=0.4,linestyle='None',facecolors='none')\n",
    "ax1.legend(loc='upper center', bbox_to_anchor=legend_pos, ncol=legend_col)\n",
    "\n",
    "# Load\n",
    "# plot_band_binom(ax2, A1b_time, A1b_H_tot_binom, 'blue', label='H_in')\n",
    "# ax2.scatter(df_sciensano[start_sim1:end_sim1].index,df_sciensano['H_tot'][start_sim1:end_sim1],color='black',alpha=0.4,linestyle='None',facecolors='none')\n",
    "\n",
    "# British variant\n",
    "# ax3.plot(A1a_time,np.mean(A1a_alpha,axis=0)*100,'--', color='green', label='no new strain')\n",
    "# ax3.plot(A1b_time,np.mean(A1b_alpha,axis=0)*100,'--', color='blue', label='new strain on 15/1')\n",
    "# ax3.fill_between(A1b_time,np.quantile(A1b_alpha,UL,axis=0)*100, np.quantile(A1b_alpha,LL,axis=0)*100,alpha=0.20, color = 'blue')\n",
    "plot_band_binom(ax3, A1a_time, A1a_alpha*100, 'green', label='no new strain', axis=0)\n",
    "plot_band_binom(ax3, A1b_time, A1b_alpha*100, 'blue', label='new strain on 15/1', axis=0)\n",
    "plot_band_binom(ax3, A1c_time, A1c_alpha*100, 'orange', label='no new strain - vacc', axis=0)\n",
    "plot_band_binom(ax3, A1d_time, A1d_alpha*100, 'red', label='new strain on 15/1 - vacc', axis=0)\n",
    "\n",
    "# Format\n",
    "ax1.set_title('New hospitalizations')\n",
    "ax1.set_ylabel('$H_{in} $(-)')\n",
    "ax1.set_xlim('2020-09-01',end_sim2)\n",
    "ax1.axvline(x=pd.to_datetime('2021-01-15'),color='black')\n",
    "ax1.text(pd.Timestamp('2021-01-16'),750, ' introduction \\n new strain', fontsize=10)\n",
    "ax1 = _apply_tick_locator(ax1)\n",
    "# ax2.set_title('Total patients in hospital')\n",
    "# ax2.set_ylabel('$H_{tot}$ (-)')\n",
    "# ax2.set_xlim('2020-09-01',end_sim2)\n",
    "# ax2.axvline(x=pd.to_datetime('2021-01-15'),color='red')\n",
    "# ax2 = _apply_tick_locator(ax2)\n",
    "ax3.set_title('Prevalence of new strain')\n",
    "ax3.set_ylabel('$\\\\alpha$ (%)')\n",
    "ax3.axvline(x=pd.to_datetime('2021-01-15'),color='black')\n",
    "ax3.set_xlim('2020-09-01',end_sim2)\n",
    "ax3.set_ylim(0,100)\n",
    "ax3 = _apply_tick_locator(ax3)\n",
    "date_exceed = get_date_of_exceeding_alpha(out_A1b_part2, ['Nc', 'draws'], 0.25)\n",
    "ax3.axvline(x=date_exceed, color='gray')\n",
    "ax3.text(date_exceed+pd.Timedelta('1D'),10, ' exceeding \\n 25% on {}/{}'.format(date_exceed.day, date_exceed.month), \n",
    "         fontsize=10, color='gray')\n",
    "\n",
    "\n",
    "fig.suptitle('Scenarios current contact behaviour')\n",
    "\n",
    "fig_path =  '../../results/predictions/national/restore_v7.0/'\n",
    "#fig.savefig(fig_path+'restore_v7.0_'+'British_variant'+'.pdf', dpi=400, bbox_inches='tight')\n",
    "fig.savefig(fig_path+'A1'+'.jpg', dpi=400, bbox_inches='tight')"
   ]
  },
  {
   "cell_type": "code",
   "execution_count": null,
   "metadata": {
    "ExecuteTime": {
     "end_time": "2021-01-25T10:38:47.401074Z",
     "start_time": "2021-01-25T10:38:47.355453Z"
    },
    "hidden": true,
    "scrolled": false
   },
   "outputs": [],
   "source": [
    "date_exceed = get_date_of_exceeding_alpha(out_A1b_part2, ['Nc', 'draws'], 0.25)"
   ]
  },
  {
   "cell_type": "code",
   "execution_count": null,
   "metadata": {
    "ExecuteTime": {
     "end_time": "2021-01-25T10:35:58.631558Z",
     "start_time": "2021-01-25T10:35:58.585829Z"
    },
    "hidden": true
   },
   "outputs": [],
   "source": [
    "check_overtake_duration(out_A1b_part2, ['Nc', 'draws'])"
   ]
  },
  {
   "cell_type": "markdown",
   "metadata": {
    "heading_collapsed": true
   },
   "source": [
    "# Alternative scenarios A2"
   ]
  },
  {
   "cell_type": "code",
   "execution_count": null,
   "metadata": {
    "ExecuteTime": {
     "end_time": "2021-01-25T12:13:52.125261Z",
     "start_time": "2021-01-25T12:13:52.012131Z"
    },
    "hidden": true
   },
   "outputs": [],
   "source": [
    "start_sim1 = '2020-09-01'\n",
    "end_sim1 = '2021-01-15' # Initiate new strain on 15 Jan\n",
    "end_sim2 = '2021-07-01'\n",
    "warmup = 0\n",
    "n_samples = 5\n",
    "n_draws_per_sample = 50\n",
    "effectivity = 0.9\n",
    "portion_new_strain_introduced = 0.001\n",
    "scenario = '2a'"
   ]
  },
  {
   "cell_type": "markdown",
   "metadata": {
    "heading_collapsed": true,
    "hidden": true
   },
   "source": [
    "## A2a - no vacc - old strain"
   ]
  },
  {
   "cell_type": "code",
   "execution_count": null,
   "metadata": {
    "ExecuteTime": {
     "end_time": "2021-01-25T12:14:06.961439Z",
     "start_time": "2021-01-25T12:13:53.844958Z"
    },
    "hidden": true
   },
   "outputs": [],
   "source": [
    "model_A2a = vaccin_model(initial_states_sept, scenario=scenario,Nc_fun=report7_policy_function, N_vacc_fun=None)\n",
    "out_A2a = model_A2a.sim(end_sim2,start_date=start_sim1,warmup=warmup,N=n_samples,draw_fcn=draw_fcn,samples=samples_dict,verbose=True)"
   ]
  },
  {
   "cell_type": "code",
   "execution_count": null,
   "metadata": {
    "ExecuteTime": {
     "end_time": "2021-01-25T12:14:07.118005Z",
     "start_time": "2021-01-25T12:14:06.965858Z"
    },
    "hidden": true
   },
   "outputs": [],
   "source": [
    "A2a_H_in_binom = sample_from_binomial(out_A2a, 'H_in', n_draws_per_sample, n_samples, LL, UL)\n",
    "A2a_time = out_A2a[\"time\"].values\n",
    "A2a_alpha = out_A2a['alpha'].mean(dim=\"Nc\").values"
   ]
  },
  {
   "cell_type": "markdown",
   "metadata": {
    "heading_collapsed": true,
    "hidden": true
   },
   "source": [
    "## A2b - no vacc - new strain"
   ]
  },
  {
   "cell_type": "code",
   "execution_count": null,
   "metadata": {
    "ExecuteTime": {
     "end_time": "2021-01-25T12:14:26.001631Z",
     "start_time": "2021-01-25T12:14:07.135775Z"
    },
    "hidden": true
   },
   "outputs": [],
   "source": [
    "model_A2b = vaccin_model(initial_states_sept, scenario=scenario,Nc_fun=report7_policy_function, N_vacc_fun=None)\n",
    "out_A2b = model_A2b.sim(end_sim1,start_date=start_sim1,warmup=warmup,N=n_samples,draw_fcn=draw_fcn,samples=samples_dict,verbose=True)\n",
    "\n",
    "# Average and pass on state variables\n",
    "initial_states_2 = out_A2b.sel(time=end_sim1).mean(dim=\"draws\")\n",
    "# One promille of British variant on January 15th 2021\n",
    "initial_states_2['alpha'].values = portion_new_strain_introduced*np.ones(9)\n",
    "# Re-Initialize\n",
    "model_A2b_part2 = vaccin_model(initial_states_2, scenario=scenario,Nc_fun=report7_policy_function, N_vacc_fun=None)\n",
    "out_A2b_part2 = model_A2b_part2.sim(end_sim2,start_date=end_sim1,warmup=warmup,N=n_samples,draw_fcn=draw_fcn,samples=samples_dict,verbose=True)"
   ]
  },
  {
   "cell_type": "code",
   "execution_count": null,
   "metadata": {
    "ExecuteTime": {
     "end_time": "2021-01-25T12:14:26.129311Z",
     "start_time": "2021-01-25T12:14:26.005934Z"
    },
    "hidden": true
   },
   "outputs": [],
   "source": [
    "A2b_H_in_binom = sample_from_binomial(out_A2b, 'H_in', n_draws_per_sample, n_samples, LL, UL)\n",
    "A2b_H_in_binom = sample_from_binomial(out_A2b_part2, 'H_in', n_draws_per_sample, n_samples, LL, UL, A2b_H_in_binom)"
   ]
  },
  {
   "cell_type": "code",
   "execution_count": null,
   "metadata": {
    "ExecuteTime": {
     "end_time": "2021-01-25T12:14:26.274264Z",
     "start_time": "2021-01-25T12:14:26.134697Z"
    },
    "hidden": true
   },
   "outputs": [],
   "source": [
    "# A2b_H_tot_binom = sample_from_binomial(out_A2b, 'H_tot', n_draws_per_sample, n_samples, LL, UL)\n",
    "# A2b_H_tot_binom = sample_from_binomial(out_A2b_part2, 'H_tot', n_draws_per_sample, n_samples, LL, UL, A2b_H_tot_binom)"
   ]
  },
  {
   "cell_type": "code",
   "execution_count": null,
   "metadata": {
    "ExecuteTime": {
     "end_time": "2021-01-25T12:14:26.385523Z",
     "start_time": "2021-01-25T12:14:26.286805Z"
    },
    "hidden": true
   },
   "outputs": [],
   "source": [
    "A2b_time = out_A2b[\"time\"].values\n",
    "A2b_alpha = out_A2b['alpha'].mean(dim=\"Nc\").values\n",
    "A2b_time = np.append(A2b_time, out_A2b_part2['time'].values)\n",
    "A2b_alpha = np.append(A2b_alpha,out_A2b_part2['alpha'].mean(dim=\"Nc\").values,axis=1)"
   ]
  },
  {
   "cell_type": "markdown",
   "metadata": {
    "heading_collapsed": true,
    "hidden": true
   },
   "source": [
    "## A2c - vaccination - old strain"
   ]
  },
  {
   "cell_type": "code",
   "execution_count": null,
   "metadata": {
    "ExecuteTime": {
     "end_time": "2021-01-25T12:14:44.705845Z",
     "start_time": "2021-01-25T12:14:26.394481Z"
    },
    "hidden": true
   },
   "outputs": [],
   "source": [
    "model_A2c = vaccin_model(initial_states_sept, scenario=scenario, effectivity=effectivity, Nc_fun=report7_policy_function, N_vacc_fun=vacc_strategy)\n",
    "out_A2c = model_A2c.sim(end_sim2,start_date=start_sim1,warmup=warmup,N=n_samples,draw_fcn=draw_fcn,samples=samples_dict,verbose=True)"
   ]
  },
  {
   "cell_type": "code",
   "execution_count": null,
   "metadata": {
    "ExecuteTime": {
     "end_time": "2021-01-25T12:14:44.953711Z",
     "start_time": "2021-01-25T12:14:44.716075Z"
    },
    "hidden": true
   },
   "outputs": [],
   "source": [
    "A2c_H_in_binom = sample_from_binomial(out_A2c, 'H_in', n_draws_per_sample, n_samples, LL, UL)\n",
    "A2c_time = out_A2c[\"time\"].values\n",
    "A2c_alpha = out_A2c['alpha'].mean(dim=\"Nc\").values"
   ]
  },
  {
   "cell_type": "markdown",
   "metadata": {
    "heading_collapsed": true,
    "hidden": true
   },
   "source": [
    "## A2d - vaccination - new strain"
   ]
  },
  {
   "cell_type": "code",
   "execution_count": null,
   "metadata": {
    "ExecuteTime": {
     "end_time": "2021-01-25T12:15:07.170053Z",
     "start_time": "2021-01-25T12:14:44.967453Z"
    },
    "hidden": true
   },
   "outputs": [],
   "source": [
    "model_A2d = vaccin_model(initial_states_sept, scenario=scenario, effectivity=effectivity, Nc_fun=report7_policy_function, N_vacc_fun=vacc_strategy)\n",
    "out_A2d = model_A2d.sim(end_sim1,start_date=start_sim1,warmup=warmup,N=n_samples,draw_fcn=draw_fcn,samples=samples_dict,verbose=True)\n",
    "\n",
    "# Average and pass on state variables\n",
    "initial_states_2 = out_A2d.sel(time=end_sim1).mean(dim=\"draws\")\n",
    "# One promille of British variant on January 15th 2021\n",
    "initial_states_2['alpha'].values = portion_new_strain_introduced*np.ones(9)\n",
    "# Re-Initialize\n",
    "model_A2d_part2 = vaccin_model(initial_states_2, scenario=scenario, effectivity=effectivity, Nc_fun=report7_policy_function, N_vacc_fun=vacc_strategy)\n",
    "out_A2d_part2 = model_A2d_part2.sim(end_sim2,start_date=end_sim1,warmup=warmup,N=n_samples,draw_fcn=draw_fcn,samples=samples_dict,verbose=True)"
   ]
  },
  {
   "cell_type": "code",
   "execution_count": null,
   "metadata": {
    "ExecuteTime": {
     "end_time": "2021-01-25T12:15:07.285448Z",
     "start_time": "2021-01-25T12:15:07.173834Z"
    },
    "hidden": true
   },
   "outputs": [],
   "source": [
    "A2d_H_in_binom = sample_from_binomial(out_A2d, 'H_in', n_draws_per_sample, n_samples, LL, UL)\n",
    "A2d_H_in_binom = sample_from_binomial(out_A2d_part2, 'H_in', n_draws_per_sample, n_samples, LL, UL, A2d_H_in_binom)"
   ]
  },
  {
   "cell_type": "code",
   "execution_count": null,
   "metadata": {
    "ExecuteTime": {
     "end_time": "2021-01-25T12:15:07.403353Z",
     "start_time": "2021-01-25T12:15:07.289869Z"
    },
    "hidden": true
   },
   "outputs": [],
   "source": [
    "# A2d_H_tot_binom = sample_from_binomial(out_A2d, 'H_tot', n_draws_per_sample, n_samples, LL, UL)\n",
    "# A2d_H_tot_binom = sample_from_binomial(out_A2d_part2, 'H_tot', n_draws_per_sample, n_samples, LL, UL, A2d_H_tot_binom)"
   ]
  },
  {
   "cell_type": "code",
   "execution_count": null,
   "metadata": {
    "ExecuteTime": {
     "end_time": "2021-01-25T12:15:07.501189Z",
     "start_time": "2021-01-25T12:15:07.407898Z"
    },
    "hidden": true
   },
   "outputs": [],
   "source": [
    "A2d_time = out_A2d[\"time\"].values\n",
    "A2d_alpha = out_A2d['alpha'].mean(dim=\"Nc\").values\n",
    "A2d_time = np.append(A2d_time, out_A2d_part2['time'].values)\n",
    "A2d_alpha = np.append(A2d_alpha,out_A2d_part2['alpha'].mean(dim=\"Nc\").values,axis=1)"
   ]
  },
  {
   "cell_type": "markdown",
   "metadata": {
    "heading_collapsed": true,
    "hidden": true
   },
   "source": [
    "## Visualise"
   ]
  },
  {
   "cell_type": "code",
   "execution_count": null,
   "metadata": {
    "ExecuteTime": {
     "end_time": "2021-01-25T12:15:09.921321Z",
     "start_time": "2021-01-25T12:15:07.510719Z"
    },
    "hidden": true,
    "scrolled": false
   },
   "outputs": [],
   "source": [
    "# ----------------\n",
    "# Visualize result\n",
    "# ----------------\n",
    "# Plot\n",
    "fig,(ax1, ax3) = plt.subplots(2,sharex=True,figsize=(10,10))\n",
    "legend_pos = (0.5, 1.25)\n",
    "legend_col = 2\n",
    "\n",
    "# Incidence\n",
    "plot_band_binom(ax1, A2a_time, A2a_H_in_binom, 'green', label='no new strain')\n",
    "plot_band_binom(ax1, A2b_time, A2b_H_in_binom, 'blue', label='new strain on 15/1')\n",
    "plot_band_binom(ax1, A2c_time, A2c_H_in_binom, 'orange', label='no new strain - vacc')\n",
    "plot_band_binom(ax1, A2d_time, A2d_H_in_binom, 'red', label='new strain on 15/1 - vacc')\n",
    "\n",
    "ax1.scatter(df_sciensano[start_sim1:end_sim1].index,df_sciensano['H_in'][start_sim1:end_sim1],color='black',alpha=0.4,linestyle='None',facecolors='none')\n",
    "ax1.legend(loc='upper center', bbox_to_anchor=legend_pos, ncol=legend_col)\n",
    "\n",
    "# Load\n",
    "# plot_band_binom(ax2, A2b_time, A2b_H_tot_binom, 'blue', label='H_in')\n",
    "# ax2.scatter(df_sciensano[start_sim1:end_sim1].index,df_sciensano['H_tot'][start_sim1:end_sim1],color='black',alpha=0.4,linestyle='None',facecolors='none')\n",
    "\n",
    "# British variant\n",
    "# ax3.plot(A2a_time,np.mean(A2a_alpha,axis=0)*100,'--', color='green', label='no new strain')\n",
    "# ax3.plot(A2b_time,np.mean(A2b_alpha,axis=0)*100,'--', color='blue', label='new strain on 15/1')\n",
    "# ax3.fill_between(A2b_time,np.quantile(A2b_alpha,UL,axis=0)*100, np.quantile(A2b_alpha,LL,axis=0)*100,alpha=0.20, color = 'blue')\n",
    "plot_band_binom(ax3, A2a_time, A2a_alpha*100, 'green', label='no new strain', axis=0)\n",
    "plot_band_binom(ax3, A2b_time, A2b_alpha*100, 'blue', label='new strain on 15/1', axis=0)\n",
    "plot_band_binom(ax3, A2c_time, A2c_alpha*100, 'orange', label='no new strain - vacc', axis=0)\n",
    "plot_band_binom(ax3, A2d_time, A2d_alpha*100, 'red', label='new strain on 15/1 - vacc', axis=0)\n",
    "\n",
    "# Format\n",
    "ax1.set_title('New hospitalizations')\n",
    "ax1.set_ylabel('$H_{in} $(-)')\n",
    "ax1.set_xlim('2020-09-01',end_sim2)\n",
    "ax1.axvline(x=pd.to_datetime('2021-01-15'),color='black')\n",
    "ax1.text(pd.Timestamp('2021-01-16'),750, ' introduction \\n new strain', fontsize=10)\n",
    "ax1 = _apply_tick_locator(ax1)\n",
    "# ax2.set_title('Total patients in hospital')\n",
    "# ax2.set_ylabel('$H_{tot}$ (-)')\n",
    "# ax2.set_xlim('2020-09-01',end_sim2)\n",
    "# ax2.axvline(x=pd.to_datetime('2021-01-15'),color='red')\n",
    "# ax2 = _apply_tick_locator(ax2)\n",
    "ax3.set_title('Prevalence of new strain')\n",
    "ax3.set_ylabel('$\\\\alpha$ (%)')\n",
    "ax3.axvline(x=pd.to_datetime('2021-01-15'),color='black')\n",
    "ax3.set_xlim('2020-09-01',end_sim2)\n",
    "ax3.set_ylim(0,100)\n",
    "ax3 = _apply_tick_locator(ax3)\n",
    "date_exceed = get_date_of_exceeding_alpha(out_A2b_part2, ['Nc', 'draws'], 0.25)\n",
    "ax3.axvline(x=date_exceed, color='gray')\n",
    "ax3.text(date_exceed+pd.Timedelta('1D'),10, ' exceeding \\n 25% on {}/{}'.format(date_exceed.day, date_exceed.month), \n",
    "         fontsize=10, color='gray')\n",
    "\n",
    "\n",
    "fig.suptitle('Scenarios release on  March 1')\n",
    "\n",
    "fig_path =  '../../results/predictions/national/restore_v7.0/'\n",
    "#fig.savefig(fig_path+'restore_v7.0_'+'British_variant'+'.pdf', dpi=400, bbox_inches='tight')\n",
    "fig.savefig(fig_path+'A2'+'.jpg', dpi=400, bbox_inches='tight')"
   ]
  },
  {
   "cell_type": "markdown",
   "metadata": {},
   "source": [
    "# Save data"
   ]
  },
  {
   "cell_type": "code",
   "execution_count": null,
   "metadata": {
    "ExecuteTime": {
     "end_time": "2021-02-08T10:19:25.425795Z",
     "start_time": "2021-02-08T10:18:39.298432Z"
    }
   },
   "outputs": [],
   "source": [
    "results = pd.DataFrame()\n",
    "results['Date'] =  out_S1a['time']\n",
    "for x in ['S1a', 'S1b', 'S2a', 'S2b', 'S3a', 'S4a', 'S5a', 'S5b']:\n",
    "    for var in ['H_in', 'H_tot']:\n",
    "        binom = eval(x+'_'+var+'_binom')\n",
    "        if var == 'H_in':\n",
    "            results[x+'_incidences_mean'] = np.mean(binom, axis=1)\n",
    "            results[x+'_incidences_median'] = np.median(binom, axis=1)\n",
    "            results[x+'_incidences_LL'] = np.quantile(binom, q = LL, axis = 1)\n",
    "            results[x+'_incidences_UL'] = np.quantile(binom, q = UL, axis = 1)\n",
    "        if var == 'H_tot':\n",
    "            results[x+'_load_mean'] = np.mean(binom, axis=1)\n",
    "            results[x+'_load_median'] = np.median(binom, axis=1)\n",
    "            results[x+'_load_LL'] = np.quantile(binom, q = LL, axis = 1)\n",
    "            results[x+'_load_UL'] = np.quantile(binom, q = UL, axis = 1)\n",
    "            \n",
    "results.to_csv('../../results/predictions/national/restore_v7.0/UGent_restore_v7.csv')"
   ]
  },
  {
   "cell_type": "markdown",
   "metadata": {
    "ExecuteTime": {
     "end_time": "2020-12-02T09:47:36.607419Z",
     "start_time": "2020-12-02T09:47:33.398902Z"
    },
    "heading_collapsed": true
   },
   "source": [
    "# Plot saved data"
   ]
  },
  {
   "cell_type": "code",
   "execution_count": null,
   "metadata": {
    "ExecuteTime": {
     "end_time": "2020-12-02T12:05:19.070053Z",
     "start_time": "2020-12-02T12:05:19.026546Z"
    },
    "hidden": true
   },
   "outputs": [],
   "source": [
    "S_results_H_in = pd.read_csv('../../results/vaccinations/national/S_results_H_in.csv', parse_dates=['time'])"
   ]
  },
  {
   "cell_type": "code",
   "execution_count": null,
   "metadata": {
    "hidden": true
   },
   "outputs": [],
   "source": [
    "plot_band_saved_data(ax3, S_results_H_in, 'S1', 'S1_LL', 'S1_UL', 'gray', 'no vaccination')\n"
   ]
  },
  {
   "cell_type": "code",
   "execution_count": null,
   "metadata": {
    "ExecuteTime": {
     "end_time": "2020-12-02T12:05:22.288309Z",
     "start_time": "2020-12-02T12:05:22.083028Z"
    },
    "hidden": true
   },
   "outputs": [],
   "source": [
    "fig,(ax3,ax4) = plt.subplots(figsize=(10,5), nrows=1, ncols=2, sharex=True, sharey=True)\n",
    "\n",
    "ax3.plot('DATE','H_in',data=df_sciensano[start_calibration:end_sim].reset_index(), marker='.', \n",
    "         c='gray', label='data', lw=0, markersize=9, alpha=0.3, markeredgecolor='none')\n",
    "plot_band_saved_data(ax3, S_results_H_in, 'S1', 'S1_LL', 'S1_UL', 'gray', 'no vaccination')\n",
    "plot_band_saved_data(ax3, S_results_H_in, 'S1', 'S1_LL', 'S1_UL', 'gray', 'no vaccination')\n",
    "\n",
    "# plot_band(ax3, y_model_S4a, 'H_in', 'C0', '0% at start')\n",
    "# plot_band(ax3, y_model_S4b, 'H_in', 'C1', '10% at start')\n",
    "# plot_band(ax3, y_model_S4c, 'H_in', 'C2', '30% at start')\n",
    "# plot_band(ax3, y_model_S4d, 'H_in', 'C3', '50% at start')\n",
    "\n",
    "ax3.set_xlim(start_x, end_x)\n",
    "ax3.set_xticks(pd.date_range(start_x, end_grid, periods=4))\n",
    "ax3.xaxis.set_tick_params(which='both', labelbottom=True)\n",
    "ax3.set_title('Vaccination according to age')\n",
    "\n",
    "ax4.plot('DATE','H_in',data=df_sciensano[start_calibration:end_sim].reset_index(), marker='.', \n",
    "         c='gray', label='data', lw=0, markersize=9, alpha=0.3, markeredgecolor='none')\n",
    "# plot_band(ax4, y_model_S1, 'H_in', 'gray', 'no vaccination')\n",
    "# plot_band(ax4, y_model_S5a, 'H_in', 'C0', '0% at start')\n",
    "# plot_band(ax4, y_model_S5b, 'H_in', 'C1', '10% at start')\n",
    "# plot_band(ax4, y_model_S5c, 'H_in', 'C2', '30% at start')\n",
    "# plot_band(ax4, y_model_S5d, 'H_in', 'C3', '50% at start')\n",
    "\n",
    "ax4.set_xlim(start_x, end_x)\n",
    "ax4.set_xticks(pd.date_range(start_x, end_grid, periods=4))\n",
    "ax4.xaxis.set_tick_params(which='both', labelbottom=True)\n",
    "ax4.set_title('Vaccination according to number of contacts')\n",
    "\n",
    "\n",
    "ax3.legend(loc='upper center', bbox_to_anchor=(1, 1.35), ncol=3)\n",
    "ax3.set_ylim(0,800)\n",
    "fig.text(0, 0.5, 'Number of new hospitalizations', va='center', rotation='vertical')\n",
    "fig.text(0.5, 0.01, 'Time', va='center', rotation='horizontal')\n"
   ]
  },
  {
   "cell_type": "code",
   "execution_count": null,
   "metadata": {
    "hidden": true
   },
   "outputs": [],
   "source": []
  },
  {
   "cell_type": "code",
   "execution_count": null,
   "metadata": {
    "hidden": true
   },
   "outputs": [],
   "source": []
  }
 ],
 "metadata": {
  "kernelspec": {
   "display_name": "Python 3",
   "language": "python",
   "name": "python3"
  },
  "language_info": {
   "codemirror_mode": {
    "name": "ipython",
    "version": 3
   },
   "file_extension": ".py",
   "mimetype": "text/x-python",
   "name": "python",
   "nbconvert_exporter": "python",
   "pygments_lexer": "ipython3",
   "version": "3.8.2"
  },
  "nav_menu": {},
  "toc": {
   "base_numbering": 1,
   "nav_menu": {},
   "number_sections": true,
   "sideBar": true,
   "skip_h1_title": false,
   "title_cell": "Table of Contents",
   "title_sidebar": "Contents",
   "toc_cell": true,
   "toc_position": {
    "height": "calc(100% - 180px)",
    "left": "10px",
    "top": "150px",
    "width": "327px"
   },
   "toc_section_display": "block",
   "toc_window_display": true
  }
 },
 "nbformat": 4,
 "nbformat_minor": 4
}
