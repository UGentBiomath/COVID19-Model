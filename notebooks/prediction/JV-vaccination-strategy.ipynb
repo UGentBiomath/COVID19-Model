{
 "cells": [
  {
   "cell_type": "markdown",
   "metadata": {
    "toc": true
   },
   "source": [
    "<h1>Table of Contents<span class=\"tocSkip\"></span></h1>\n",
    "<div class=\"toc\"><ul class=\"toc-item\"><li><span><a href=\"#Data,-policy-and-model-initialization\" data-toc-modified-id=\"Data,-policy-and-model-initialization-1\"><span class=\"toc-item-num\">1&nbsp;&nbsp;</span>Data, policy and model initialization</a></span><ul class=\"toc-item\"><li><span><a href=\"#Load-contact-data\" data-toc-modified-id=\"Load-contact-data-1.1\"><span class=\"toc-item-num\">1.1&nbsp;&nbsp;</span>Load contact data</a></span></li><li><span><a href=\"#Load-publically-available-data-from-Sciensano\" data-toc-modified-id=\"Load-publically-available-data-from-Sciensano-1.2\"><span class=\"toc-item-num\">1.2&nbsp;&nbsp;</span>Load publically available data from Sciensano</a></span></li><li><span><a href=\"#Load-posterior-parameter-distributions-of-calibrated-parameters\" data-toc-modified-id=\"Load-posterior-parameter-distributions-of-calibrated-parameters-1.3\"><span class=\"toc-item-num\">1.3&nbsp;&nbsp;</span>Load posterior parameter distributions of calibrated parameters</a></span></li><li><span><a href=\"#Settings\" data-toc-modified-id=\"Settings-1.4\"><span class=\"toc-item-num\">1.4&nbsp;&nbsp;</span>Settings</a></span></li></ul></li><li><span><a href=\"#Functions\" data-toc-modified-id=\"Functions-2\"><span class=\"toc-item-num\">2&nbsp;&nbsp;</span>Functions</a></span></li><li><span><a href=\"#Time-dep-functions\" data-toc-modified-id=\"Time-dep-functions-3\"><span class=\"toc-item-num\">3&nbsp;&nbsp;</span>Time-dep functions</a></span></li><li><span><a href=\"#Test-vacc-strategy\" data-toc-modified-id=\"Test-vacc-strategy-4\"><span class=\"toc-item-num\">4&nbsp;&nbsp;</span>Test vacc strategy</a></span></li><li><span><a href=\"#Test-spatial-model\" data-toc-modified-id=\"Test-spatial-model-5\"><span class=\"toc-item-num\">5&nbsp;&nbsp;</span>Test spatial model</a></span></li><li><span><a href=\"#Scenarios\" data-toc-modified-id=\"Scenarios-6\"><span class=\"toc-item-num\">6&nbsp;&nbsp;</span>Scenarios</a></span><ul class=\"toc-item\"><li><span><a href=\"#Scenarios-S1-(current-behaviour)\" data-toc-modified-id=\"Scenarios-S1-(current-behaviour)-6.1\"><span class=\"toc-item-num\">6.1&nbsp;&nbsp;</span>Scenarios S1 (current behaviour)</a></span><ul class=\"toc-item\"><li><span><a href=\"#S1a---K-=-1.3\" data-toc-modified-id=\"S1a---K-=-1.3-6.1.1\"><span class=\"toc-item-num\">6.1.1&nbsp;&nbsp;</span>S1a - K = 1.3</a></span></li><li><span><a href=\"#S1b---K-=-1.5\" data-toc-modified-id=\"S1b---K-=-1.5-6.1.2\"><span class=\"toc-item-num\">6.1.2&nbsp;&nbsp;</span>S1b - K = 1.5</a></span></li></ul></li><li><span><a href=\"#Scenarios-S2-(september-behaviour)\" data-toc-modified-id=\"Scenarios-S2-(september-behaviour)-6.2\"><span class=\"toc-item-num\">6.2&nbsp;&nbsp;</span>Scenarios S2 (september behaviour)</a></span><ul class=\"toc-item\"><li><span><a href=\"#S2a---K-=-1.3\" data-toc-modified-id=\"S2a---K-=-1.3-6.2.1\"><span class=\"toc-item-num\">6.2.1&nbsp;&nbsp;</span>S2a - K = 1.3</a></span></li><li><span><a href=\"#S2b---K-=-1.5\" data-toc-modified-id=\"S2b---K-=-1.5-6.2.2\"><span class=\"toc-item-num\">6.2.2&nbsp;&nbsp;</span>S2b - K = 1.5</a></span></li></ul></li><li><span><a href=\"#Scenarios-S3-(vaccination-effect)\" data-toc-modified-id=\"Scenarios-S3-(vaccination-effect)-6.3\"><span class=\"toc-item-num\">6.3&nbsp;&nbsp;</span>Scenarios S3 (vaccination effect)</a></span><ul class=\"toc-item\"><li><span><a href=\"#S3a-(S2b-without-vaccination)\" data-toc-modified-id=\"S3a-(S2b-without-vaccination)-6.3.1\"><span class=\"toc-item-num\">6.3.1&nbsp;&nbsp;</span>S3a (S2b without vaccination)</a></span></li><li><span><a href=\"#S4a-(S1b-without-vaccination)\" data-toc-modified-id=\"S4a-(S1b-without-vaccination)-6.3.2\"><span class=\"toc-item-num\">6.3.2&nbsp;&nbsp;</span>S4a (S1b without vaccination)</a></span></li></ul></li></ul></li><li><span><a href=\"#Visualise\" data-toc-modified-id=\"Visualise-7\"><span class=\"toc-item-num\">7&nbsp;&nbsp;</span>Visualise</a></span><ul class=\"toc-item\"><li><span><a href=\"#S1-and-S2\" data-toc-modified-id=\"S1-and-S2-7.1\"><span class=\"toc-item-num\">7.1&nbsp;&nbsp;</span>S1 and S2</a></span></li><li><span><a href=\"#Vaccination-effect\" data-toc-modified-id=\"Vaccination-effect-7.2\"><span class=\"toc-item-num\">7.2&nbsp;&nbsp;</span>Vaccination effect</a></span></li></ul></li><li><span><a href=\"#Alternative-scenarios-A1\" data-toc-modified-id=\"Alternative-scenarios-A1-8\"><span class=\"toc-item-num\">8&nbsp;&nbsp;</span>Alternative scenarios A1</a></span><ul class=\"toc-item\"><li><span><a href=\"#A1a---vacc---old-strain\" data-toc-modified-id=\"A1a---vacc---old-strain-8.1\"><span class=\"toc-item-num\">8.1&nbsp;&nbsp;</span>A1a - vacc - old strain</a></span></li><li><span><a href=\"#A1b---no-vacc---new-strain\" data-toc-modified-id=\"A1b---no-vacc---new-strain-8.2\"><span class=\"toc-item-num\">8.2&nbsp;&nbsp;</span>A1b - no vacc - new strain</a></span></li><li><span><a href=\"#A1c---vaccination---old-strain\" data-toc-modified-id=\"A1c---vaccination---old-strain-8.3\"><span class=\"toc-item-num\">8.3&nbsp;&nbsp;</span>A1c - vaccination - old strain</a></span></li><li><span><a href=\"#A1d---vaccination---new-strain\" data-toc-modified-id=\"A1d---vaccination---new-strain-8.4\"><span class=\"toc-item-num\">8.4&nbsp;&nbsp;</span>A1d - vaccination - new strain</a></span></li><li><span><a href=\"#Visualise\" data-toc-modified-id=\"Visualise-8.5\"><span class=\"toc-item-num\">8.5&nbsp;&nbsp;</span>Visualise</a></span></li></ul></li><li><span><a href=\"#Alternative-scenarios-A2\" data-toc-modified-id=\"Alternative-scenarios-A2-9\"><span class=\"toc-item-num\">9&nbsp;&nbsp;</span>Alternative scenarios A2</a></span><ul class=\"toc-item\"><li><span><a href=\"#A2a---no-vacc---old-strain\" data-toc-modified-id=\"A2a---no-vacc---old-strain-9.1\"><span class=\"toc-item-num\">9.1&nbsp;&nbsp;</span>A2a - no vacc - old strain</a></span></li><li><span><a href=\"#A2b---no-vacc---new-strain\" data-toc-modified-id=\"A2b---no-vacc---new-strain-9.2\"><span class=\"toc-item-num\">9.2&nbsp;&nbsp;</span>A2b - no vacc - new strain</a></span></li><li><span><a href=\"#A2c---vaccination---old-strain\" data-toc-modified-id=\"A2c---vaccination---old-strain-9.3\"><span class=\"toc-item-num\">9.3&nbsp;&nbsp;</span>A2c - vaccination - old strain</a></span></li><li><span><a href=\"#A2d---vaccination---new-strain\" data-toc-modified-id=\"A2d---vaccination---new-strain-9.4\"><span class=\"toc-item-num\">9.4&nbsp;&nbsp;</span>A2d - vaccination - new strain</a></span></li><li><span><a href=\"#Visualise\" data-toc-modified-id=\"Visualise-9.5\"><span class=\"toc-item-num\">9.5&nbsp;&nbsp;</span>Visualise</a></span></li></ul></li><li><span><a href=\"#Save-data\" data-toc-modified-id=\"Save-data-10\"><span class=\"toc-item-num\">10&nbsp;&nbsp;</span>Save data</a></span></li><li><span><a href=\"#Plot-saved-data\" data-toc-modified-id=\"Plot-saved-data-11\"><span class=\"toc-item-num\">11&nbsp;&nbsp;</span>Plot saved data</a></span></li></ul></div>"
   ]
  },
  {
   "cell_type": "markdown",
   "metadata": {},
   "source": [
    "\n",
    "*Authored by J. Vergeynst*\n",
    "\n",
    "Copyright (c) 2021 by J. Vergeynst, BIOMATH, Ghent University. All Rights Reserved."
   ]
  },
  {
   "cell_type": "code",
   "execution_count": 1,
   "metadata": {
    "ExecuteTime": {
     "end_time": "2021-02-04T07:47:52.804951Z",
     "start_time": "2021-02-04T07:47:43.345564Z"
    }
   },
   "outputs": [],
   "source": [
    "import numpy as np\n",
    "%matplotlib notebook\n",
    "import matplotlib\n",
    "import matplotlib.pyplot as plt\n",
    "import matplotlib.dates as mdates\n",
    "import pandas as pd\n",
    "import datetime\n",
    "import scipy\n",
    "import json\n",
    "import random\n",
    "from math import floor\n",
    "\n",
    "from covid19model.optimization import objective_fcns\n",
    "from covid19model.models import models\n",
    "from covid19model.models.utils import draw_sample_COVID19_SEIRD\n",
    "from covid19model.models.time_dependant_parameter_fncs import ramp_fun, google_lockdown\n",
    "from covid19model.data import mobility, sciensano, model_parameters\n",
    "from covid19model.visualization.output import population_status, infected, _apply_tick_locator\n",
    "from covid19model.visualization.optimization import plot_fit, traceplot\n",
    "\n",
    "plt.rcParams.update({'font.size': 12, 'axes.grid':True, 'grid.linewidth':0.3})\n",
    "pd.plotting.register_matplotlib_converters()\n",
    "\n",
    "# OPTIONAL: Load the \"autoreload\" extension so that package code can change\n",
    "%load_ext autoreload\n",
    "# OPTIONAL: always reload modules so that as you change code in src, it gets loaded\n",
    "%autoreload 2"
   ]
  },
  {
   "cell_type": "markdown",
   "metadata": {},
   "source": [
    "# Data, policy and model initialization"
   ]
  },
  {
   "cell_type": "markdown",
   "metadata": {},
   "source": [
    "## Load contact data"
   ]
  },
  {
   "cell_type": "code",
   "execution_count": 2,
   "metadata": {
    "ExecuteTime": {
     "end_time": "2021-02-04T07:47:53.661381Z",
     "start_time": "2021-02-04T07:47:52.807753Z"
    }
   },
   "outputs": [],
   "source": [
    "# Load the interaction matrices (size: 9x9)\n",
    "initN, Nc_home, Nc_work, Nc_schools, Nc_transport, Nc_leisure, Nc_others, Nc_total = model_parameters.get_interaction_matrices(dataset='willem_2012',intensity='all')\n",
    "# Define the number of age categories\n",
    "levels = initN.size\n",
    "\n",
    "initN, Nc_home_15, Nc_work_15, Nc_schools_15, Nc_transport_15, Nc_leisure_15, Nc_others_15, Nc_total_15 = model_parameters.get_interaction_matrices(dataset='willem_2012',intensity='more_15_min')\n",
    "initN, Nc_home_1hr, Nc_work_1hr, Nc_schools_1hr, Nc_transport_1hr, Nc_leisure_1hr, Nc_others_1hr, Nc_total_1hr = model_parameters.get_interaction_matrices(dataset='willem_2012',intensity='more_one_hour')"
   ]
  },
  {
   "cell_type": "code",
   "execution_count": 3,
   "metadata": {
    "ExecuteTime": {
     "end_time": "2021-02-04T07:47:53.727035Z",
     "start_time": "2021-02-04T07:47:53.665175Z"
    }
   },
   "outputs": [],
   "source": [
    "Nc_all = {'total': Nc_total, 'home':Nc_home, 'work': Nc_work, 'schools': Nc_schools, 'transport': Nc_transport, 'leisure': Nc_leisure, 'others': Nc_others}\n",
    "Nc_15min = {'total': Nc_total_15, 'home': Nc_home_15, 'work': Nc_work_15, 'schools': Nc_schools_15, 'transport': Nc_transport_15, 'leisure': Nc_leisure_15, 'others': Nc_others_15}\n",
    "Nc_1hr = {'total': Nc_total_1hr, 'home': Nc_home_1hr, 'work': Nc_work_1hr, 'schools': Nc_schools_1hr, 'transport': Nc_transport_1hr, 'leisure': Nc_leisure_1hr, 'others': Nc_others_1hr}"
   ]
  },
  {
   "cell_type": "markdown",
   "metadata": {},
   "source": [
    "## Load publically available data from Sciensano"
   ]
  },
  {
   "cell_type": "code",
   "execution_count": 4,
   "metadata": {
    "ExecuteTime": {
     "end_time": "2021-02-04T07:47:54.036434Z",
     "start_time": "2021-02-04T07:47:53.733245Z"
    }
   },
   "outputs": [],
   "source": [
    "df_sciensano = sciensano.get_sciensano_COVID19_data(update=False)\n",
    "df_sciensano['D_cum'] = df_sciensano.D_tot.cumsum()"
   ]
  },
  {
   "cell_type": "code",
   "execution_count": 5,
   "metadata": {
    "ExecuteTime": {
     "end_time": "2021-02-04T07:47:54.111035Z",
     "start_time": "2021-02-04T07:47:54.038465Z"
    }
   },
   "outputs": [],
   "source": [
    "df_google = mobility.get_google_mobility_data(update=False, plot=False)"
   ]
  },
  {
   "cell_type": "markdown",
   "metadata": {},
   "source": [
    "## Load posterior parameter distributions of calibrated parameters"
   ]
  },
  {
   "cell_type": "code",
   "execution_count": 6,
   "metadata": {
    "ExecuteTime": {
     "end_time": "2021-02-04T07:47:54.996128Z",
     "start_time": "2021-02-04T07:47:54.114244Z"
    }
   },
   "outputs": [],
   "source": [
    "# Load samples dictionaries\n",
    "with open('../../data/interim/model_parameters/COVID19_SEIRD/calibrations/national/BE_4_prev_full_2021-01-30_WAVE2_GOOGLE.json', 'r') as fp:\n",
    "    samples_dict = json.load(fp)\n",
    "\n",
    "with open('../../data/interim/model_parameters/COVID19_SEIRD/calibrations/national/google/initial_states_2020-09-01.json', 'r') as fp:\n",
    "    initial_states_sept = json.load(fp) "
   ]
  },
  {
   "cell_type": "code",
   "execution_count": null,
   "metadata": {
    "ExecuteTime": {
     "end_time": "2020-12-02T10:14:49.867274Z",
     "start_time": "2020-12-02T10:14:49.825611Z"
    }
   },
   "outputs": [],
   "source": [
    "# fig,ax = plt.subplots()\n",
    "# pd.Series(samples_dict['beta']).hist()\n",
    "# pd.Series(samples_dict['tau']).hist()"
   ]
  },
  {
   "cell_type": "markdown",
   "metadata": {},
   "source": [
    "## Settings"
   ]
  },
  {
   "cell_type": "code",
   "execution_count": 7,
   "metadata": {
    "ExecuteTime": {
     "end_time": "2021-02-04T07:47:59.784934Z",
     "start_time": "2021-02-04T07:47:59.740934Z"
    }
   },
   "outputs": [],
   "source": [
    "UL = 0.975\n",
    "LL = 0.025"
   ]
  },
  {
   "cell_type": "code",
   "execution_count": 8,
   "metadata": {
    "ExecuteTime": {
     "end_time": "2021-02-04T07:48:39.562351Z",
     "start_time": "2021-02-04T07:48:39.523360Z"
    }
   },
   "outputs": [],
   "source": [
    "start_calibration = '2021-01-01'\n",
    "end_sim = '2021-09-01'"
   ]
  },
  {
   "cell_type": "markdown",
   "metadata": {},
   "source": [
    "Alle vaccins twee dosissen nodig (Pfizer, Moderna, AstraZeneca, Curevac) behalve Johnson&Johnson (pas vanaf mei)"
   ]
  },
  {
   "cell_type": "code",
   "execution_count": 9,
   "metadata": {
    "ExecuteTime": {
     "end_time": "2021-02-04T07:48:40.517518Z",
     "start_time": "2021-02-04T07:48:40.474087Z"
    }
   },
   "outputs": [],
   "source": [
    "# doses per day (Regeringscommissariaat Corona, published by De Tijd)\n",
    "d = {}\n",
    "d['jan'] = 31765\n",
    "d['feb'] = 45897\n",
    "d['mar-apr'] = 128499\n",
    "d['may-aug'] = 78358\n",
    "\n",
    "# proportion of age group living in nursing homes\n",
    "# for simplicity we will use the data for respectively age groups 60+, 70+ and 80+\n",
    "NH = {}\n",
    "NH['65+'] = 0.007\n",
    "NH['75+'] = (0.05+0.029)/2\n",
    "NH['85+'] = (0.137+0.267)/2\n"
   ]
  },
  {
   "cell_type": "markdown",
   "metadata": {},
   "source": [
    "# Functions"
   ]
  },
  {
   "cell_type": "code",
   "execution_count": 10,
   "metadata": {
    "ExecuteTime": {
     "end_time": "2021-02-04T07:48:43.502515Z",
     "start_time": "2021-02-04T07:48:43.377545Z"
    }
   },
   "outputs": [],
   "source": [
    "def vacc_strategy(t, param, d, NH, initN):\n",
    "    \"\"\"\n",
    "    time-dependent function for vaccination strategy\n",
    "    \n",
    "    d : dictionary\n",
    "        daily number of doses for that month\n",
    "    NH : dictionary\n",
    "        proportion of residents in nursing homes per age group\n",
    "    initN : 2D array\n",
    "        if needed, add a dimension with initN[np.newaxis]\n",
    "    \n",
    "    \"\"\"\n",
    "    \n",
    "    if len(initN.shape) == 1:\n",
    "         raise ValueError(\n",
    "                \"initN should have 2 dimensions\"\n",
    "            )    \n",
    "    N_vacc = np.zeros(initN.shape)\n",
    "    delay = pd.Timedelta('30D')\n",
    "    \n",
    "    t1 = pd.Timestamp('2021-01-01') + delay\n",
    "    t2 = pd.Timestamp('2021-02-01') + delay\n",
    "    t3 = pd.Timestamp('2021-03-01') + delay\n",
    "    t4 = pd.Timestamp('2021-05-01') + delay\n",
    "    \n",
    "    if t < t1:\n",
    "        N_vacc = np.zeros(initN.shape)\n",
    "    \n",
    "    elif t1 <= t < t2: # January : nursing homes + part of care personnel\n",
    "        # daily vaccinated persons on immunity date = daily dose on vaccination date / 2\n",
    "        daily_85 = (NH['85+']*initN[:,[8]])/31\n",
    "        daily_75 = (NH['75+']*initN[:,[7]])/31\n",
    "        daily_65 = (NH['65+']*initN[:,[6]])/31\n",
    "        care_personnel_daily_jan = d['jan']/2-daily_85-daily_75-daily_65\n",
    "        N_vacc[:,[8]] = daily_85\n",
    "        N_vacc[:,[7]] = daily_75\n",
    "        N_vacc[:,[6]] = daily_65\n",
    "        N_vacc[:,[5,4,3,2]] = care_personnel_daily_jan/4\n",
    "        \n",
    "    elif t2 <= t < t3: # February : care personnel\n",
    "        N_vacc[:,[5,4,3,2]] = d['feb']/2/4\n",
    "        \n",
    "    elif t3 <= t < t4: # March-April : 65+ and risico patients\n",
    "        plus_65_left_daily = ((1-NH['85+'])*initN[:,[8]] + (1-NH['75+'])*initN[:,[7]] + (1-NH['65+'])*initN[:,[6]])/60\n",
    "        rest_daily = d['mar-apr']/2 - plus_65_left_daily\n",
    "        N_vacc[:,[8,7,6]] = plus_65_left_daily/3\n",
    "        N_vacc[:,[5,4,3,2]] = rest_daily/4\n",
    "    \n",
    "    else: # May-August : all 18+\n",
    "        N_vacc[:,[5,4,3,2]] = d['may-aug']/2/4\n",
    "        \n",
    "    return N_vacc.squeeze()\n",
    "    \n",
    "    "
   ]
  },
  {
   "cell_type": "code",
   "execution_count": 11,
   "metadata": {
    "ExecuteTime": {
     "end_time": "2021-02-04T07:48:43.859969Z",
     "start_time": "2021-02-04T07:48:43.816639Z"
    }
   },
   "outputs": [],
   "source": [
    " def plot_band_saved_data(ax, df, mean_col, LL_col, UL_col, color, label):\n",
    "    ax.fill_between(df['time'],df[LL_col], df[UL_col],alpha=0.30, facecolor = color)\n",
    "    ax.plot(df['time'], df[mean_col], color=color, label=label, lw=2)\n",
    "    return"
   ]
  },
  {
   "cell_type": "code",
   "execution_count": 12,
   "metadata": {
    "ExecuteTime": {
     "end_time": "2021-02-04T07:48:44.308410Z",
     "start_time": "2021-02-04T07:48:44.266942Z"
    }
   },
   "outputs": [],
   "source": [
    "def plot_band_age(ax, y_model, age_group, var, color, label):\n",
    "    ax.fill_between(pd.to_datetime(y_model['time'].values),y_model[var].quantile(LL,dim=\"draws\").sel(Nc=age_group), \n",
    "                    y_model[var].quantile(UL,dim=\"draws\").sel(Nc=age_group),alpha=0.30, facecolor = color)\n",
    "    ax.plot(y_model['time'],y_model[var].mean(dim=\"draws\").sel(Nc=age_group), color=color, label=label, lw=2)\n",
    "    return"
   ]
  },
  {
   "cell_type": "code",
   "execution_count": 13,
   "metadata": {
    "ExecuteTime": {
     "end_time": "2021-02-04T07:48:44.529449Z",
     "start_time": "2021-02-04T07:48:44.485961Z"
    }
   },
   "outputs": [],
   "source": [
    "def check_overtake_duration(sim, dims):\n",
    "    \"\"\"\n",
    "    sim : data array resulting from simulation\n",
    "    dims : list of dimensions over which to average\n",
    "    \n",
    "    Returns\n",
    "    -------\n",
    "    N_days : number of days before new strain takes over (99%)\n",
    "    \"\"\"\n",
    "    end = sim['alpha'].mean(dim=dims)[sim['alpha'].mean(dim=dims)<0.99]['time'][-1].values\n",
    "    start = sim['alpha'].mean(dim=dims)[sim['alpha'].mean(dim=dims)<0.99]['time'][0].values\n",
    "    \n",
    "    N_days = (pd.to_datetime(end)-pd.to_datetime(start))/pd.Timedelta('1D')\n",
    "    \n",
    "    return N_days"
   ]
  },
  {
   "cell_type": "code",
   "execution_count": 14,
   "metadata": {
    "ExecuteTime": {
     "end_time": "2021-02-04T07:48:44.975884Z",
     "start_time": "2021-02-04T07:48:44.933245Z"
    }
   },
   "outputs": [],
   "source": [
    "def get_date_of_exceeding_alpha(sim, dims, alpha_limit):\n",
    "    \"\"\"\n",
    "    sim : data array resulting from simulation\n",
    "    dims : list of dimensions over which to average\n",
    "    \"\"\"\n",
    "    return pd.Timestamp(sim['alpha'].mean(dim=dims)[sim['alpha'].mean(dim=dims)>alpha_limit]['time'][0].values)"
   ]
  },
  {
   "cell_type": "code",
   "execution_count": 15,
   "metadata": {
    "ExecuteTime": {
     "end_time": "2021-02-04T07:48:45.378075Z",
     "start_time": "2021-02-04T07:48:45.333964Z"
    }
   },
   "outputs": [],
   "source": [
    "def sample_from_binomial(sim_result, variable, n_draws_per_sample, n_samples,\n",
    "                         Y0_new=None):\n",
    "                         #Y0_mean=[], Y0_median=[], Y0_LL=[], Y0_UL=[]):\n",
    "    \"\"\"\n",
    "    Function to sample from binomial, and add the result to an existing list (if given)\n",
    "    \"\"\"\n",
    "    \n",
    "    \n",
    "    Y = sim_result[variable].sum(dim=\"Nc\").values\n",
    "    # Initialize vectors\n",
    "    Y_new = np.zeros((Y.shape[1],n_draws_per_sample*n_samples))\n",
    "    # Loop over dimension draws\n",
    "    for n in range(Y.shape[0]):\n",
    "        binomial_draw = np.random.poisson( np.expand_dims(Y[n,:],axis=1),size = (Y.shape[1],n_draws_per_sample))\n",
    "        Y_new[:,n*n_draws_per_sample:(n+1)*n_draws_per_sample] = binomial_draw\n",
    "    # Compute mean and median\n",
    "    if Y0_new is None:\n",
    "        Y_new = Y_new\n",
    "    else:\n",
    "        Y_new = np.append(Y0_new, Y_new, axis=0)\n",
    "\n",
    "    return Y_new\n",
    "    \n",
    "    "
   ]
  },
  {
   "cell_type": "code",
   "execution_count": 16,
   "metadata": {
    "ExecuteTime": {
     "end_time": "2021-02-04T07:48:45.802145Z",
     "start_time": "2021-02-04T07:48:45.758840Z"
    }
   },
   "outputs": [],
   "source": [
    "def plot_band_binom(ax, time, Y_binom, color, label, axis=1):\n",
    "    ax.fill_between(time, np.quantile(Y_binom, q = LL, axis = axis), \n",
    "                    np.quantile(Y_binom, q = UL, axis = axis),alpha=0.30, facecolor = color)\n",
    "    ax.plot(time,np.mean(Y_binom,axis=axis), color=color, label=label, lw=2, linestyle='--')\n",
    "    return"
   ]
  },
  {
   "cell_type": "code",
   "execution_count": 17,
   "metadata": {
    "ExecuteTime": {
     "end_time": "2021-02-04T07:48:47.081239Z",
     "start_time": "2021-02-04T07:48:47.023690Z"
    }
   },
   "outputs": [],
   "source": [
    "def draw_fcn(param_dict,samples_dict,to_sample):\n",
    "    # Sample\n",
    "    idx, param_dict['beta'] = random.choice(list(enumerate(samples_dict['beta'])))\n",
    "    param_dict['l'] = samples_dict['l'][idx] \n",
    "    param_dict['tau'] = samples_dict['tau'][idx]    \n",
    "    param_dict['prev_home'] = samples_dict['prev_home'][idx] \n",
    "    param_dict['prev_schools'] = samples_dict['prev_schools'][idx]    \n",
    "    param_dict['prev_work'] = samples_dict['prev_work'][idx]       \n",
    "    param_dict['prev_rest'] = samples_dict['prev_rest'][idx] \n",
    "    param_dict['K'] = np.random.uniform(infectivity_gain_lower,infectivity_gain_upper)\n",
    "    return param_dict"
   ]
  },
  {
   "cell_type": "code",
   "execution_count": 18,
   "metadata": {
    "ExecuteTime": {
     "end_time": "2021-02-04T07:48:47.327334Z",
     "start_time": "2021-02-04T07:48:47.285815Z"
    }
   },
   "outputs": [],
   "source": [
    "def plot_band(ax, y_model, var, color, label):\n",
    "    ax.fill_between(pd.to_datetime(y_model['time'].values),\n",
    "                    y_model[var].sum(dim=\"Nc\").quantile(LL,dim=\"draws\"), \n",
    "                    y_model[var].sum(dim=\"Nc\").quantile(UL,dim=\"draws\"),alpha=0.30, facecolor = color)\n",
    "    ax.plot(y_model['time'],y_model[var].sum(dim=\"Nc\").mean(dim=\"draws\"), color=color, label=label, lw=2)\n",
    "    return"
   ]
  },
  {
   "cell_type": "markdown",
   "metadata": {},
   "source": [
    "# Time-dep functions"
   ]
  },
  {
   "cell_type": "code",
   "execution_count": 19,
   "metadata": {
    "ExecuteTime": {
     "end_time": "2021-02-04T07:48:49.264714Z",
     "start_time": "2021-02-04T07:48:49.222303Z"
    }
   },
   "outputs": [],
   "source": [
    "from covid19model.models.time_dependant_parameter_fncs import make_contact_matrix_function\n",
    "contact_matrix_4prev = make_contact_matrix_function(df_google, Nc_all)"
   ]
  },
  {
   "cell_type": "code",
   "execution_count": 20,
   "metadata": {
    "ExecuteTime": {
     "end_time": "2021-02-04T07:48:49.451189Z",
     "start_time": "2021-02-04T07:48:49.356730Z"
    }
   },
   "outputs": [],
   "source": [
    "def report7_policy_function(t, param, l , tau, prev_home, prev_schools, prev_work, prev_rest,scenario='1a'):\n",
    "    # Convert tau and l to dates\n",
    "    tau_days = pd.Timedelta(tau, unit='D')\n",
    "    l_days = pd.Timedelta(l, unit='D')\n",
    "\n",
    "    # Define key policy dates\n",
    "    t1 = pd.Timestamp('2020-03-15') # start of lockdown\n",
    "    t2 = pd.Timestamp('2020-05-15') # gradual re-opening of schools (assume 50% of nominal scenario)\n",
    "    t3 = pd.Timestamp('2020-07-01') # start of summer: COVID-urgency very low\n",
    "    t4 = pd.Timestamp('2020-08-01')\n",
    "    t5 = pd.Timestamp('2020-09-01') # september: lockdown relaxation narrative in newspapers reduces sense of urgency\n",
    "    t6 = pd.Timestamp('2020-10-19') # lockdown\n",
    "    t7 = pd.Timestamp('2020-11-16') # schools re-open\n",
    "    t8 = pd.Timestamp('2020-12-18') # schools close\n",
    "    t9 = pd.Timestamp('2020-12-24')\n",
    "    t10 = pd.Timestamp('2020-12-26')\n",
    "    t11 = pd.Timestamp('2020-12-31')\n",
    "    t12 = pd.Timestamp('2021-01-01')\n",
    "    t13 = pd.Timestamp('2020-01-04') # Opening of schools\n",
    "    #t14 = pd.Timestamp('2021-01-18') # start of alternative policies\n",
    "    t15 = pd.Timestamp('2021-02-15') # Start of spring break\n",
    "    t16 = pd.Timestamp('2021-02-21') # End of spring break\n",
    "    t17 = pd.Timestamp('2021-03-01') # start of alternative policies (release date)\n",
    "\n",
    "    # Average out september mobility\n",
    "\n",
    "    if t5 < t <= t6 + tau_days:\n",
    "        t = pd.Timestamp(t.date())\n",
    "        return contact_matrix_4prev(t, school=1)\n",
    "    elif t6 + tau_days < t <= t6 + tau_days + l_days:\n",
    "        t = pd.Timestamp(t.date())\n",
    "        policy_old = contact_matrix_4prev(t, school=1)\n",
    "        policy_new = contact_matrix_4prev(t, prev_home, prev_schools, prev_work, prev_rest, \n",
    "                                    school=0)\n",
    "        return ramp_fun(policy_old, policy_new, t, tau_days, l, t6)\n",
    "    elif t6 + tau_days + l_days < t <= t7:\n",
    "        t = pd.Timestamp(t.date())\n",
    "        return contact_matrix_4prev(t, prev_home, prev_schools, prev_work, prev_rest, \n",
    "                              school=0)\n",
    "    elif t7 < t <= t8:\n",
    "        t = pd.Timestamp(t.date())\n",
    "        return contact_matrix_4prev(t, prev_home, prev_schools, prev_work, prev_rest, \n",
    "                              school=1)\n",
    "    elif t8 < t <= t9:\n",
    "        t = pd.Timestamp(t.date())\n",
    "        return contact_matrix_4prev(t, prev_home, prev_schools, prev_work, prev_rest, \n",
    "                              school=0)\n",
    "    else:\n",
    "        # Scenario 1: Current contact behaviour + schools open on January 18th\n",
    "        if scenario == '1':\n",
    "            if t9 < t <= t13:\n",
    "                t = pd.Timestamp(t.date())\n",
    "                return contact_matrix_4prev(t, prev_home, prev_schools, prev_work, prev_rest, \n",
    "                                school=0)\n",
    "            elif t13 < t <= t15:\n",
    "                t = pd.Timestamp(t.date())\n",
    "                return contact_matrix_4prev(t, prev_home, prev_schools, prev_work, prev_rest, \n",
    "                                school=0.6)\n",
    "            elif t15 < t <= t16:\n",
    "                t = pd.Timestamp(t.date())\n",
    "                return contact_matrix_4prev(t, prev_home, prev_schools, prev_work, prev_rest, \n",
    "                                school=0)                                    \n",
    "            else:\n",
    "                t = pd.Timestamp(t.date())\n",
    "                return contact_matrix_4prev(t, prev_home, prev_schools, prev_work, prev_rest, \n",
    "                                school=0.6)\n",
    "        # Scenario 2: increases in work or leisure mobility\n",
    "        elif scenario == '2a':\n",
    "            if t9 < t <= t13:\n",
    "                t = pd.Timestamp(t.date())\n",
    "                return contact_matrix_4prev(t, prev_home, prev_schools, prev_work, prev_rest, \n",
    "                              school=0)\n",
    "            elif t13 < t <= t15:\n",
    "                t = pd.Timestamp(t.date())\n",
    "                return contact_matrix_4prev(t, prev_home, prev_schools, prev_work, prev_rest, \n",
    "                                school=0.6)\n",
    "            elif t15 < t <= t16:\n",
    "                t = pd.Timestamp(t.date())\n",
    "                return contact_matrix_4prev(t, prev_home, prev_schools, prev_work, prev_rest, \n",
    "                                school=0,SB='2a') \n",
    "            elif t16 < t <= t17:\n",
    "                t = pd.Timestamp(t.date())\n",
    "                return contact_matrix_4prev(t, prev_home, prev_schools, prev_work, prev_rest, \n",
    "                                school=0.6,SB='2a')  \n",
    "            else:\n",
    "                t = pd.Timestamp(t.date())\n",
    "                return contact_matrix_4prev(t, 1, 1, 1, 1, \n",
    "                                school=0.6,SB='2a')\n",
    "        elif scenario == '2b':\n",
    "            if t9 < t <= t13:\n",
    "                t = pd.Timestamp(t.date())\n",
    "                return contact_matrix_4prev(t, prev_home, prev_schools, prev_work, prev_rest, \n",
    "                              school=0)\n",
    "            elif t13 < t <= t15:\n",
    "                t = pd.Timestamp(t.date())\n",
    "                return contact_matrix_4prev(t, prev_home, prev_schools, prev_work, prev_rest, \n",
    "                                school=0.6)\n",
    "            elif t15 < t <= t16:\n",
    "                t = pd.Timestamp(t.date())\n",
    "                return contact_matrix_4prev(t, prev_home, prev_schools, prev_work, prev_rest, \n",
    "                                school=0,SB='2b')  \n",
    "            elif t16 < t <= t17:\n",
    "                t = pd.Timestamp(t.date())\n",
    "                return contact_matrix_4prev(t, prev_home, prev_schools, prev_work, prev_rest, \n",
    "                                school=0.6,SB='2b')  \n",
    "            else:\n",
    "                t = pd.Timestamp(t.date())\n",
    "                return contact_matrix_4prev(t, 1, 1, prev_work, 1, \n",
    "                                school=0.6,SB='2b')\n",
    "        elif scenario == '2c':\n",
    "            if t9 < t <= t13:\n",
    "                t = pd.Timestamp(t.date())\n",
    "                return contact_matrix_4prev(t, prev_home, prev_schools, prev_work, prev_rest, \n",
    "                              school=0)\n",
    "            elif t13 < t <= t15:\n",
    "                t = pd.Timestamp(t.date())\n",
    "                return contact_matrix_4prev(t, prev_home, prev_schools, prev_work, prev_rest, \n",
    "                                school=0.6)\n",
    "            elif t15 < t <= t16:\n",
    "                t = pd.Timestamp(t.date())\n",
    "                return contact_matrix_4prev(t, prev_home, prev_schools, prev_work, prev_rest, \n",
    "                                school=0,SB='2c')                   \n",
    "            elif t16 < t <= t17:\n",
    "                t = pd.Timestamp(t.date())\n",
    "                return contact_matrix_4prev(t, prev_home, prev_schools, prev_work, prev_rest, \n",
    "                                school=0.6,SB='2c')                                                                                \n",
    "            else:\n",
    "                t = pd.Timestamp(t.date())\n",
    "                return contact_matrix_4prev(t, 1, 1, 1, prev_rest, \n",
    "                                school=0.6,SB='2c')            \n",
    "        # Scenario 3: Christmas mentality change\n",
    "        elif scenario == '3':\n",
    "            if t9 < t <= t10:\n",
    "                t = pd.Timestamp(t.date())\n",
    "                return contact_matrix_4prev(t, 1, prev_schools, prev_work, 1, \n",
    "                              school=0)\n",
    "            elif t10 < t <= t11:\n",
    "                t = pd.Timestamp(t.date())\n",
    "                return contact_matrix_4prev(t, 1, prev_schools, prev_work, 1, \n",
    "                              school=0)\n",
    "            elif t11 < t <= t12:\n",
    "                t = pd.Timestamp(t.date())\n",
    "                return contact_matrix_4prev(t, 1, prev_schools, prev_work, 1, \n",
    "                              school=0)\n",
    "            elif t12 < t <= t13:\n",
    "                t = pd.Timestamp(t.date())\n",
    "                return contact_matrix_4prev(t, prev_home, prev_schools, prev_work, prev_rest, \n",
    "                              school=0)\n",
    "            elif t13 < t <= t15:\n",
    "                t = pd.Timestamp(t.date())\n",
    "                return contact_matrix_4prev(t, prev_home, prev_schools, prev_work, prev_rest, \n",
    "                                school=0.6)\n",
    "\n",
    "            elif t15 < t <= t16:\n",
    "                t = pd.Timestamp(t.date())\n",
    "                return contact_matrix_4prev(t, prev_home, prev_schools, prev_work, prev_rest, \n",
    "                                school=0)                                                                    \n",
    "            else:\n",
    "                t = pd.Timestamp(t.date())\n",
    "                return contact_matrix_4prev(t, prev_home, prev_schools, prev_work, prev_rest, \n",
    "                                school=0.6)\n"
   ]
  },
  {
   "cell_type": "code",
   "execution_count": 21,
   "metadata": {
    "ExecuteTime": {
     "end_time": "2021-02-04T07:48:50.137102Z",
     "start_time": "2021-02-04T07:48:50.094248Z"
    }
   },
   "outputs": [],
   "source": [
    "def vaccin_model(initial_states, scenario, effectivity=None, injection_day=0, injection_ratio=0,\n",
    "                 Nc_fun=None, N_vacc_fun=vacc_strategy, levels=levels):\n",
    "    \"\"\"\n",
    "    Function to initialize the model given a certain vaccination strategy\n",
    "    \"\"\"\n",
    "    params = model_parameters.get_COVID19_SEIRD_parameters()\n",
    "    params.update({\n",
    "            'l' : 5,\n",
    "            'tau' : 5,\n",
    "            'prev_home': 0.5,\n",
    "            'prev_schools': 0.5,\n",
    "            'prev_work': 0.5,\n",
    "            'prev_rest': 0.5,\n",
    "            'scenario': scenario,\n",
    "            'injection_day' : injection_day,\n",
    "            'injection_ratio' : injection_ratio\n",
    "                  })\n",
    "    \n",
    "    tdp = {}\n",
    "    \n",
    "    if Nc_fun is not None:\n",
    "        tdp.update({'Nc': Nc_fun})\n",
    "    if N_vacc_fun is not None:\n",
    "        tdp.update({'N_vacc':N_vacc_fun})\n",
    "        params.update({\n",
    "            'd' : d,\n",
    "            'NH' : NH,\n",
    "            'e' : np.array([effectivity]*levels),\n",
    "            'initN' : initN[np.newaxis]\n",
    "        })\n",
    "    return models.COVID19_SEIRD(initial_states, params, time_dependent_parameters=tdp)"
   ]
  },
  {
   "cell_type": "markdown",
   "metadata": {
    "heading_collapsed": true
   },
   "source": [
    "# Test vacc strategy"
   ]
  },
  {
   "cell_type": "code",
   "execution_count": null,
   "metadata": {
    "ExecuteTime": {
     "end_time": "2021-02-03T12:33:19.060728Z",
     "start_time": "2021-02-03T12:33:19.000940Z"
    },
    "hidden": true
   },
   "outputs": [],
   "source": [
    "# Need to initiate I also with the co-infection model, otherwise divison by zero occurs\n",
    "initial_states = {'S': initN, 'E': np.ones(levels), 'I': np.ones(levels), 'alpha':np.zeros(9)}"
   ]
  },
  {
   "cell_type": "code",
   "execution_count": null,
   "metadata": {
    "ExecuteTime": {
     "end_time": "2021-02-03T12:32:52.420407Z",
     "start_time": "2021-02-03T12:32:52.044071Z"
    },
    "hidden": true
   },
   "outputs": [],
   "source": [
    "params = model_parameters.get_COVID19_SEIRD_parameters()\n",
    "dummy_model_no_vacc = models.COVID19_SEIRD(initial_states, params)\n",
    "sim_dummy_model_no_vacc = dummy_model_no_vacc.sim(time=end_sim, start_date=start_calibration)"
   ]
  },
  {
   "cell_type": "code",
   "execution_count": null,
   "metadata": {
    "ExecuteTime": {
     "end_time": "2021-02-03T08:35:13.293977Z",
     "start_time": "2021-02-03T08:35:12.526830Z"
    },
    "hidden": true,
    "scrolled": true
   },
   "outputs": [],
   "source": [
    "params = model_parameters.get_COVID19_SEIRD_parameters()\n",
    "params.update({'d' : d,\n",
    "               'NH' : NH,\n",
    "               'e' : np.array([0.9]*levels),\n",
    "               'initN' : initN[np.newaxis]\n",
    "              })\n",
    "dummy_model_vacc = models.COVID19_SEIRD(initial_states, params, time_dependent_parameters={'N_vacc': vacc_strategy})\n",
    "sim_dummy_model_vacc = dummy_model_vacc.sim(time=end_sim, start_date=start_calibration)"
   ]
  },
  {
   "cell_type": "code",
   "execution_count": null,
   "metadata": {
    "ExecuteTime": {
     "end_time": "2021-02-03T12:56:32.702499Z",
     "start_time": "2021-02-03T12:56:32.003665Z"
    },
    "hidden": true
   },
   "outputs": [],
   "source": [
    "injection_day = (pd.Timestamp('2021-01-01') - pd.Timestamp(start_calibration))/pd.Timedelta('1D')\n",
    "params = model_parameters.get_COVID19_SEIRD_parameters()\n",
    "params.update({'d' : d,\n",
    "               'NH' : NH,\n",
    "               'e' : np.array([0.9]*levels),\n",
    "               'K' : 1.6,\n",
    "               'initN' : initN[np.newaxis],\n",
    "               'injection_day': injection_day,\n",
    "               'injection_ratio':0.1,\n",
    "              })\n",
    "\n",
    "dummy_model_vacc_UK = models.COVID19_SEIRD(initial_states, params, time_dependent_parameters={'N_vacc': vacc_strategy})\n",
    "sim_dummy_model_vacc_UK = dummy_model_vacc_UK.sim(time=end_sim, start_date=start_calibration)"
   ]
  },
  {
   "cell_type": "code",
   "execution_count": null,
   "metadata": {
    "ExecuteTime": {
     "end_time": "2021-02-03T08:35:34.627341Z",
     "start_time": "2021-02-03T08:35:34.548267Z"
    },
    "hidden": true
   },
   "outputs": [],
   "source": [
    "timerange = pd.date_range(start_calibration,end_sim)\n",
    "test_dict = {}\n",
    "for t in timerange:\n",
    "    test_dict[t] = np.sum(vacc_strategy(t=t, param=None, d=d, NH=NH, initN=initN[np.newaxis]))\n",
    "test_df = pd.DataFrame.from_dict(test_dict, orient='index').reset_index()\n",
    "test_df.columns = ['date','N_vacc']"
   ]
  },
  {
   "cell_type": "code",
   "execution_count": null,
   "metadata": {
    "ExecuteTime": {
     "end_time": "2021-02-03T08:35:37.027705Z",
     "start_time": "2021-02-03T08:35:36.907103Z"
    },
    "hidden": true
   },
   "outputs": [],
   "source": [
    "fig,ax = plt.subplots(figsize=(9,5))\n",
    "ax.plot('date', 'N_vacc', data=test_df, c='green', label='time-dep function')\n",
    "ax.plot(sim_dummy_model_vacc['time'], sim_dummy_model_vacc['V_new'].sum(dim='Nc'), c='blue', linestyle='--', label='model')\n",
    "ax.legend()\n",
    "ax.set_ylabel('Daily vaccination number')"
   ]
  },
  {
   "cell_type": "code",
   "execution_count": null,
   "metadata": {
    "ExecuteTime": {
     "end_time": "2021-01-25T07:50:42.993565Z",
     "start_time": "2021-01-25T07:50:42.949539Z"
    },
    "hidden": true
   },
   "outputs": [],
   "source": [
    "N = d['jan']/2*31+d['feb']/2*28+d['mar-apr']/2*(31+30)+d['may-aug']/2*(31+30)\n",
    "print('Approximate total number of vaccinations by august 1: {}'.format(N))\n",
    "#pd.to_datetime(end_sim) - pd.to_datetime(start_calibration)\n",
    "V_pool_aug = sim_dummy_model_vacc['V'].sum(dim='Nc').values[-1]\n",
    "print('Number of persons in vaccinated pool by end of simulation: {}'.format(V_pool_aug))\n",
    "V_new_sum = sim_dummy_model_vacc['V_new'].sum(dim='Nc').sum(dim='time').values\n",
    "print('Total number of people vaccinated by end of simulation: {}'.format(V_new_sum))"
   ]
  },
  {
   "cell_type": "code",
   "execution_count": null,
   "metadata": {
    "ExecuteTime": {
     "end_time": "2021-02-03T08:35:43.270898Z",
     "start_time": "2021-02-03T08:35:43.088811Z"
    },
    "hidden": true
   },
   "outputs": [],
   "source": [
    "population_status(sim_dummy_model_no_vacc)"
   ]
  },
  {
   "cell_type": "code",
   "execution_count": null,
   "metadata": {
    "ExecuteTime": {
     "end_time": "2021-02-03T08:35:48.462941Z",
     "start_time": "2021-02-03T08:35:48.320619Z"
    },
    "hidden": true
   },
   "outputs": [],
   "source": [
    "population_status(sim_dummy_model_vacc)"
   ]
  },
  {
   "cell_type": "code",
   "execution_count": null,
   "metadata": {
    "ExecuteTime": {
     "end_time": "2021-02-03T08:35:52.207649Z",
     "start_time": "2021-02-03T08:35:52.060325Z"
    },
    "hidden": true
   },
   "outputs": [],
   "source": [
    "population_status(sim_dummy_model_vacc_UK)"
   ]
  },
  {
   "cell_type": "code",
   "execution_count": null,
   "metadata": {
    "ExecuteTime": {
     "end_time": "2021-02-03T12:29:46.340982Z",
     "start_time": "2021-02-03T12:29:46.157315Z"
    },
    "hidden": true
   },
   "outputs": [],
   "source": [
    "population_status(sim_dummy_model_vacc_UK)"
   ]
  },
  {
   "cell_type": "code",
   "execution_count": null,
   "metadata": {
    "ExecuteTime": {
     "end_time": "2021-01-22T11:36:23.480169Z",
     "start_time": "2021-01-22T11:36:23.261684Z"
    },
    "hidden": true
   },
   "outputs": [],
   "source": [
    "# check evolutie van alpha\n",
    "fig,ax = plt.subplots()\n",
    "sim_dummy_model_vacc_UK['alpha'].mean(dim='Nc').plot(ax=ax)"
   ]
  },
  {
   "cell_type": "code",
   "execution_count": null,
   "metadata": {
    "ExecuteTime": {
     "end_time": "2021-01-25T09:12:46.338422Z",
     "start_time": "2021-01-25T09:12:46.295280Z"
    },
    "hidden": true
   },
   "outputs": [],
   "source": [
    "N_days = check_overtake_duration(sim_dummy_model_vacc_UK, dims='Nc')\n",
    "N_days"
   ]
  },
  {
   "cell_type": "markdown",
   "metadata": {
    "hidden": true
   },
   "source": [
    "duurt altijd ong. 100 dagen..., onafhankelijk van hoeveel je initialiseert. Ws omdat in deze test het virus nog niet verspreid is (en iedereen susceptible), dus de verspreiding wordt direct volledig overgenomen door besmettelijke variant."
   ]
  },
  {
   "cell_type": "markdown",
   "metadata": {
    "heading_collapsed": true
   },
   "source": [
    "# Test spatial model"
   ]
  },
  {
   "cell_type": "code",
   "execution_count": null,
   "metadata": {
    "ExecuteTime": {
     "end_time": "2021-02-03T21:28:30.787167Z",
     "start_time": "2021-02-03T21:28:30.473861Z"
    },
    "hidden": true
   },
   "outputs": [],
   "source": [
    "initN_spatial, Nc_home, Nc_work, Nc_schools, Nc_transport, Nc_leisure, Nc_others, Nc_total = model_parameters.get_interaction_matrices(dataset='willem_2012', spatial='arr')\n",
    "shape = initN_spatial.shape"
   ]
  },
  {
   "cell_type": "code",
   "execution_count": null,
   "metadata": {
    "ExecuteTime": {
     "end_time": "2021-02-03T21:28:30.847209Z",
     "start_time": "2021-02-03T21:28:30.789136Z"
    },
    "hidden": true
   },
   "outputs": [],
   "source": [
    "# divide daily vaccinations over spatial units according to population fraction in unit\n",
    "fraction_per_arr = initN_spatial.sum(axis=1)/initN_spatial.sum().sum()\n",
    "d_spatial = {key:el*fraction_per_arr[:,np.newaxis] for key,el in d.items()}"
   ]
  },
  {
   "cell_type": "code",
   "execution_count": null,
   "metadata": {
    "ExecuteTime": {
     "end_time": "2021-02-03T21:28:33.213729Z",
     "start_time": "2021-02-03T21:28:33.171419Z"
    },
    "hidden": true
   },
   "outputs": [],
   "source": [
    "# Need to initiate I also with the co-infection model, otherwise divison by zero occurs\n",
    "initial_states = {'S': initN_spatial, 'E': np.ones(shape), 'I': np.ones(shape), 'alpha':np.zeros(shape)}"
   ]
  },
  {
   "cell_type": "code",
   "execution_count": null,
   "metadata": {
    "ExecuteTime": {
     "end_time": "2021-02-03T21:29:50.612705Z",
     "start_time": "2021-02-03T21:29:49.127474Z"
    },
    "hidden": true
   },
   "outputs": [],
   "source": [
    "params = model_parameters.get_COVID19_SEIRD_parameters(spatial='arr')\n",
    "dummy_spatial_model = models.COVID19_SEIRD_spatial(initial_states, params, spatial='arr')\n",
    "sim_dummy_spatial_model = dummy_spatial_model.sim(time=end_sim, start_date=start_calibration)"
   ]
  },
  {
   "cell_type": "code",
   "execution_count": null,
   "metadata": {
    "ExecuteTime": {
     "end_time": "2021-02-03T21:45:57.610055Z",
     "start_time": "2021-02-03T21:30:15.990659Z"
    },
    "hidden": true
   },
   "outputs": [],
   "source": [
    "params = model_parameters.get_COVID19_SEIRD_parameters(spatial='arr')\n",
    "params.update({'d' : d_spatial,\n",
    "               'NH' : NH,\n",
    "               'e' : np.ones(levels)*0.9,\n",
    "               'initN' : initN_spatial\n",
    "              })\n",
    "dummy_spatial_model_vacc = models.COVID19_SEIRD_spatial(initial_states, params, spatial='arr', time_dependent_parameters={'N_vacc': vacc_strategy})\n",
    "sim_dummy_spatial_model_vacc = dummy_spatial_model_vacc.sim(time=end_sim, start_date=start_calibration)"
   ]
  },
  {
   "cell_type": "code",
   "execution_count": null,
   "metadata": {
    "ExecuteTime": {
     "end_time": "2021-02-04T06:25:13.533280Z",
     "start_time": "2021-02-04T06:25:13.277966Z"
    },
    "hidden": true
   },
   "outputs": [],
   "source": [
    "sim_dummy_spatial_model_vacc.mean(dim='place')"
   ]
  },
  {
   "cell_type": "code",
   "execution_count": null,
   "metadata": {
    "ExecuteTime": {
     "end_time": "2021-02-04T06:25:19.444791Z",
     "start_time": "2021-02-04T06:25:18.931828Z"
    },
    "hidden": true
   },
   "outputs": [],
   "source": [
    "population_status(sim_dummy_spatial_model_vacc.mean(dim='place'))"
   ]
  },
  {
   "cell_type": "markdown",
   "metadata": {},
   "source": [
    "# Scenarios"
   ]
  },
  {
   "cell_type": "code",
   "execution_count": 22,
   "metadata": {
    "ExecuteTime": {
     "end_time": "2021-02-04T07:49:58.142567Z",
     "start_time": "2021-02-04T07:49:58.091010Z"
    }
   },
   "outputs": [],
   "source": [
    "start_sim = '2020-09-01'\n",
    "end_sim = '2021-07-01'\n",
    "warmup = 0\n",
    "n_samples = 100\n",
    "n_draws_per_sample = 1000\n",
    "effectivity = 0.9"
   ]
  },
  {
   "cell_type": "code",
   "execution_count": 23,
   "metadata": {
    "ExecuteTime": {
     "end_time": "2021-02-04T07:49:59.267179Z",
     "start_time": "2021-02-04T07:49:59.225463Z"
    }
   },
   "outputs": [],
   "source": [
    "Re_1feb = 0.958*1.4\n",
    "# current estimation of UK prevalence between 20 and 40% => take 30%\n",
    "current_UK = 0.3\n",
    "# 5-6 days incubation\n",
    "incubation_period = 5\n",
    "n_periods = 30/incubation_period"
   ]
  },
  {
   "cell_type": "code",
   "execution_count": 24,
   "metadata": {
    "ExecuteTime": {
     "end_time": "2021-02-04T07:50:00.487204Z",
     "start_time": "2021-02-04T07:50:00.439791Z"
    }
   },
   "outputs": [],
   "source": [
    "# How much on January 1? (30 days ago)\n",
    "portion_new_strain_introduced = current_UK/(Re_1feb**n_periods) #0.001\n",
    "injection_day = (pd.Timestamp('2021-01-01') - pd.Timestamp(start_sim))/pd.Timedelta('1D')"
   ]
  },
  {
   "cell_type": "markdown",
   "metadata": {},
   "source": [
    "## Scenarios S1 (current behaviour)"
   ]
  },
  {
   "cell_type": "code",
   "execution_count": 27,
   "metadata": {
    "ExecuteTime": {
     "end_time": "2021-02-04T07:50:57.310481Z",
     "start_time": "2021-02-04T07:50:57.265191Z"
    }
   },
   "outputs": [],
   "source": [
    "scenario = '1'"
   ]
  },
  {
   "cell_type": "markdown",
   "metadata": {},
   "source": [
    "### S1a - K = 1.3"
   ]
  },
  {
   "cell_type": "code",
   "execution_count": 28,
   "metadata": {
    "ExecuteTime": {
     "end_time": "2021-02-04T07:50:59.299758Z",
     "start_time": "2021-02-04T07:50:59.256619Z"
    }
   },
   "outputs": [],
   "source": [
    "infectivity_gain_lower=1.3\n",
    "infectivity_gain_upper=1.3"
   ]
  },
  {
   "cell_type": "code",
   "execution_count": 29,
   "metadata": {
    "ExecuteTime": {
     "end_time": "2021-02-04T07:53:06.041453Z",
     "start_time": "2021-02-04T07:51:00.905987Z"
    }
   },
   "outputs": [
    {
     "name": "stdout",
     "output_type": "stream",
     "text": [
      "Simulating draw 100/100\u001b[1K\r"
     ]
    }
   ],
   "source": [
    "model_S1a = vaccin_model(initial_states_sept, scenario=scenario, effectivity=effectivity, \n",
    "                         injection_day=injection_day, injection_ratio=portion_new_strain_introduced,\n",
    "                         Nc_fun=report7_policy_function, N_vacc_fun=vacc_strategy)\n",
    "out_S1a = model_S1a.sim(end_sim,start_date=start_sim,warmup=warmup,N=n_samples,draw_fcn=draw_fcn,samples=samples_dict,verbose=True)\n"
   ]
  },
  {
   "cell_type": "code",
   "execution_count": 30,
   "metadata": {
    "ExecuteTime": {
     "end_time": "2021-02-04T07:53:13.744143Z",
     "start_time": "2021-02-04T07:53:06.045454Z"
    }
   },
   "outputs": [],
   "source": [
    "S1a_H_in_binom = sample_from_binomial(out_S1a, 'H_in', n_draws_per_sample, n_samples)\n",
    "S1a_H_tot_binom = sample_from_binomial(out_S1a, 'H_tot', n_draws_per_sample, n_samples)\n",
    "S1a_time = out_S1a[\"time\"].values\n",
    "S1a_alpha = out_S1a['alpha'].mean(dim=\"Nc\").values"
   ]
  },
  {
   "cell_type": "markdown",
   "metadata": {},
   "source": [
    "### S1b - K = 1.5"
   ]
  },
  {
   "cell_type": "code",
   "execution_count": 31,
   "metadata": {
    "ExecuteTime": {
     "end_time": "2021-02-04T07:53:13.808997Z",
     "start_time": "2021-02-04T07:53:13.748370Z"
    }
   },
   "outputs": [],
   "source": [
    "K=1.5\n",
    "infectivity_gain_lower=K\n",
    "infectivity_gain_upper=K\n"
   ]
  },
  {
   "cell_type": "code",
   "execution_count": 32,
   "metadata": {
    "ExecuteTime": {
     "end_time": "2021-02-04T08:16:35.868796Z",
     "start_time": "2021-02-04T08:14:40.136444Z"
    }
   },
   "outputs": [
    {
     "name": "stdout",
     "output_type": "stream",
     "text": [
      "Simulating draw 100/100\u001b[1K\r"
     ]
    }
   ],
   "source": [
    "model_S1b = vaccin_model(initial_states_sept, scenario=scenario, effectivity=effectivity, \n",
    "                         injection_day=injection_day, injection_ratio=portion_new_strain_introduced,\n",
    "                         Nc_fun=report7_policy_function, N_vacc_fun=vacc_strategy)\n",
    "out_S1b = model_S1b.sim(end_sim,start_date=start_sim,warmup=warmup,N=n_samples,draw_fcn=draw_fcn,samples=samples_dict,verbose=True)\n"
   ]
  },
  {
   "cell_type": "code",
   "execution_count": 33,
   "metadata": {
    "ExecuteTime": {
     "end_time": "2021-02-04T07:55:40.313477Z",
     "start_time": "2021-02-04T07:55:34.277169Z"
    }
   },
   "outputs": [],
   "source": [
    "S1b_H_in_binom = sample_from_binomial(out_S1b, 'H_in', n_draws_per_sample, n_samples)\n",
    "S1b_H_tot_binom = sample_from_binomial(out_S1b, 'H_tot', n_draws_per_sample, n_samples)\n",
    "S1b_time = out_S1b[\"time\"].values\n",
    "S1b_alpha = out_S1b['alpha'].mean(dim=\"Nc\").values"
   ]
  },
  {
   "cell_type": "markdown",
   "metadata": {},
   "source": [
    "## Scenarios S2 (september behaviour)"
   ]
  },
  {
   "cell_type": "code",
   "execution_count": 34,
   "metadata": {
    "ExecuteTime": {
     "end_time": "2021-02-04T07:55:40.357367Z",
     "start_time": "2021-02-04T07:55:40.315217Z"
    }
   },
   "outputs": [],
   "source": [
    "scenario = '2a'"
   ]
  },
  {
   "cell_type": "markdown",
   "metadata": {},
   "source": [
    "### S2a - K = 1.3"
   ]
  },
  {
   "cell_type": "code",
   "execution_count": 35,
   "metadata": {
    "ExecuteTime": {
     "end_time": "2021-02-04T07:55:40.402502Z",
     "start_time": "2021-02-04T07:55:40.359666Z"
    }
   },
   "outputs": [],
   "source": [
    "K=1.3\n",
    "infectivity_gain_lower=K\n",
    "infectivity_gain_upper=K"
   ]
  },
  {
   "cell_type": "code",
   "execution_count": 36,
   "metadata": {
    "ExecuteTime": {
     "end_time": "2021-02-04T07:58:55.735916Z",
     "start_time": "2021-02-04T07:55:40.410957Z"
    }
   },
   "outputs": [
    {
     "name": "stdout",
     "output_type": "stream",
     "text": [
      "Simulating draw 100/100\u001b[1K\r"
     ]
    }
   ],
   "source": [
    "model_S2a = vaccin_model(initial_states_sept, scenario=scenario, effectivity=effectivity, \n",
    "                         injection_day=injection_day, injection_ratio=portion_new_strain_introduced,\n",
    "                         Nc_fun=report7_policy_function, N_vacc_fun=vacc_strategy)\n",
    "out_S2a = model_S2a.sim(end_sim,start_date=start_sim,warmup=warmup,N=n_samples,draw_fcn=draw_fcn,samples=samples_dict,verbose=True)\n"
   ]
  },
  {
   "cell_type": "code",
   "execution_count": 37,
   "metadata": {
    "ExecuteTime": {
     "end_time": "2021-02-04T07:59:03.333020Z",
     "start_time": "2021-02-04T07:58:55.743185Z"
    }
   },
   "outputs": [],
   "source": [
    "S2a_H_in_binom = sample_from_binomial(out_S2a, 'H_in', n_draws_per_sample, n_samples)\n",
    "S2a_H_tot_binom = sample_from_binomial(out_S2a, 'H_tot', n_draws_per_sample, n_samples)\n",
    "S2a_time = out_S2a[\"time\"].values\n",
    "S2a_alpha = out_S2a['alpha'].mean(dim=\"Nc\").values\n"
   ]
  },
  {
   "cell_type": "markdown",
   "metadata": {},
   "source": [
    "### S2b - K = 1.5"
   ]
  },
  {
   "cell_type": "code",
   "execution_count": 38,
   "metadata": {
    "ExecuteTime": {
     "end_time": "2021-02-04T07:59:03.428851Z",
     "start_time": "2021-02-04T07:59:03.336702Z"
    }
   },
   "outputs": [],
   "source": [
    "K=1.5\n",
    "infectivity_gain_lower=K\n",
    "infectivity_gain_upper=K"
   ]
  },
  {
   "cell_type": "code",
   "execution_count": 41,
   "metadata": {
    "ExecuteTime": {
     "end_time": "2021-02-04T08:16:35.868796Z",
     "start_time": "2021-02-04T08:14:40.136444Z"
    }
   },
   "outputs": [
    {
     "name": "stdout",
     "output_type": "stream",
     "text": [
      "Simulating draw 100/100\u001b[1K\r"
     ]
    }
   ],
   "source": [
    "model_S2b = vaccin_model(initial_states_sept, scenario=scenario, effectivity=effectivity, \n",
    "                         injection_day=injection_day, injection_ratio=portion_new_strain_introduced,\n",
    "                         Nc_fun=report7_policy_function, N_vacc_fun=vacc_strategy)\n",
    "out_S2b = model_S2b.sim(end_sim,start_date=start_sim,warmup=warmup,N=n_samples,draw_fcn=draw_fcn,samples=samples_dict,verbose=True)\n"
   ]
  },
  {
   "cell_type": "code",
   "execution_count": 42,
   "metadata": {
    "ExecuteTime": {
     "end_time": "2021-02-04T08:16:41.387923Z",
     "start_time": "2021-02-04T08:16:35.872659Z"
    }
   },
   "outputs": [],
   "source": [
    "S2b_H_in_binom = sample_from_binomial(out_S2b, 'H_in', n_draws_per_sample, n_samples)\n",
    "S2b_H_tot_binom = sample_from_binomial(out_S2b, 'H_tot', n_draws_per_sample, n_samples)\n",
    "S2b_time = out_S2b[\"time\"].values\n",
    "S2b_alpha = out_S2b['alpha'].mean(dim=\"Nc\").values"
   ]
  },
  {
   "cell_type": "markdown",
   "metadata": {},
   "source": [
    "## Scenarios S3 (vaccination effect)"
   ]
  },
  {
   "cell_type": "markdown",
   "metadata": {},
   "source": [
    "### S3a (S2b without vaccination)"
   ]
  },
  {
   "cell_type": "code",
   "execution_count": 43,
   "metadata": {
    "ExecuteTime": {
     "end_time": "2021-02-04T08:16:41.428990Z",
     "start_time": "2021-02-04T08:16:41.390086Z"
    }
   },
   "outputs": [],
   "source": [
    "scenario = '2a'"
   ]
  },
  {
   "cell_type": "code",
   "execution_count": 44,
   "metadata": {
    "ExecuteTime": {
     "end_time": "2021-02-04T08:16:41.468299Z",
     "start_time": "2021-02-04T08:16:41.431246Z"
    }
   },
   "outputs": [],
   "source": [
    "K=1.5\n",
    "infectivity_gain_lower=K\n",
    "infectivity_gain_upper=K"
   ]
  },
  {
   "cell_type": "code",
   "execution_count": 45,
   "metadata": {
    "ExecuteTime": {
     "end_time": "2021-02-04T08:18:30.815941Z",
     "start_time": "2021-02-04T08:16:41.470049Z"
    }
   },
   "outputs": [
    {
     "name": "stdout",
     "output_type": "stream",
     "text": [
      "Simulating draw 100/100\u001b[1K\r"
     ]
    }
   ],
   "source": [
    "model_S3a = vaccin_model(initial_states_sept, scenario=scenario, effectivity=effectivity, \n",
    "                         injection_day=injection_day, injection_ratio=portion_new_strain_introduced,\n",
    "                         Nc_fun=report7_policy_function, N_vacc_fun=None)\n",
    "out_S3a = model_S3a.sim(end_sim,start_date=start_sim,warmup=warmup,N=n_samples,draw_fcn=draw_fcn,samples=samples_dict,verbose=True)\n"
   ]
  },
  {
   "cell_type": "code",
   "execution_count": 46,
   "metadata": {
    "ExecuteTime": {
     "end_time": "2021-02-04T08:18:36.087700Z",
     "start_time": "2021-02-04T08:18:30.818750Z"
    }
   },
   "outputs": [],
   "source": [
    "S3a_H_in_binom = sample_from_binomial(out_S3a, 'H_in', n_draws_per_sample, n_samples)\n",
    "S3a_H_tot_binom = sample_from_binomial(out_S3a, 'H_tot', n_draws_per_sample, n_samples)\n",
    "S3a_time = out_S3a[\"time\"].values\n",
    "S3a_alpha = out_S3a['alpha'].mean(dim=\"Nc\").values\n"
   ]
  },
  {
   "cell_type": "markdown",
   "metadata": {},
   "source": [
    "### S4a (S1b without vaccination)"
   ]
  },
  {
   "cell_type": "code",
   "execution_count": 47,
   "metadata": {
    "ExecuteTime": {
     "end_time": "2021-02-04T08:18:36.136784Z",
     "start_time": "2021-02-04T08:18:36.091443Z"
    }
   },
   "outputs": [],
   "source": [
    "scenario = '1'"
   ]
  },
  {
   "cell_type": "code",
   "execution_count": 48,
   "metadata": {
    "ExecuteTime": {
     "end_time": "2021-02-04T08:18:36.199556Z",
     "start_time": "2021-02-04T08:18:36.151928Z"
    }
   },
   "outputs": [],
   "source": [
    "K=1.5\n",
    "infectivity_gain_lower=K\n",
    "infectivity_gain_upper=K"
   ]
  },
  {
   "cell_type": "code",
   "execution_count": 49,
   "metadata": {
    "ExecuteTime": {
     "end_time": "2021-02-04T08:19:48.330780Z",
     "start_time": "2021-02-04T08:18:36.202041Z"
    }
   },
   "outputs": [
    {
     "name": "stdout",
     "output_type": "stream",
     "text": [
      "Simulating draw 100/100\u001b[1K\r"
     ]
    }
   ],
   "source": [
    "model_S4a = vaccin_model(initial_states_sept, scenario=scenario, effectivity=effectivity, \n",
    "                         injection_day=injection_day, injection_ratio=portion_new_strain_introduced,\n",
    "                         Nc_fun=report7_policy_function, N_vacc_fun=None)\n",
    "out_S4a = model_S4a.sim(end_sim,start_date=start_sim,warmup=warmup,N=n_samples,draw_fcn=draw_fcn,samples=samples_dict,verbose=True)\n"
   ]
  },
  {
   "cell_type": "code",
   "execution_count": 50,
   "metadata": {
    "ExecuteTime": {
     "end_time": "2021-02-04T08:19:55.047886Z",
     "start_time": "2021-02-04T08:19:48.332834Z"
    }
   },
   "outputs": [],
   "source": [
    "S4a_H_in_binom = sample_from_binomial(out_S4a, 'H_in', n_draws_per_sample, n_samples)\n",
    "S4a_H_tot_binom = sample_from_binomial(out_S4a, 'H_tot', n_draws_per_sample, n_samples)\n",
    "S4a_time = out_S4a[\"time\"].values\n",
    "S4a_alpha = out_S4a['alpha'].mean(dim=\"Nc\").values\n"
   ]
  },
  {
   "cell_type": "markdown",
   "metadata": {},
   "source": [
    "# Visualise"
   ]
  },
  {
   "cell_type": "markdown",
   "metadata": {},
   "source": [
    "## S1 and S2"
   ]
  },
  {
   "cell_type": "code",
   "execution_count": 54,
   "metadata": {
    "ExecuteTime": {
     "end_time": "2021-02-04T08:22:33.338749Z",
     "start_time": "2021-02-04T08:22:13.205273Z"
    },
    "scrolled": false
   },
   "outputs": [
    {
     "data": {
      "application/javascript": [
       "/* Put everything inside the global mpl namespace */\n",
       "window.mpl = {};\n",
       "\n",
       "\n",
       "mpl.get_websocket_type = function() {\n",
       "    if (typeof(WebSocket) !== 'undefined') {\n",
       "        return WebSocket;\n",
       "    } else if (typeof(MozWebSocket) !== 'undefined') {\n",
       "        return MozWebSocket;\n",
       "    } else {\n",
       "        alert('Your browser does not have WebSocket support. ' +\n",
       "              'Please try Chrome, Safari or Firefox ≥ 6. ' +\n",
       "              'Firefox 4 and 5 are also supported but you ' +\n",
       "              'have to enable WebSockets in about:config.');\n",
       "    };\n",
       "}\n",
       "\n",
       "mpl.figure = function(figure_id, websocket, ondownload, parent_element) {\n",
       "    this.id = figure_id;\n",
       "\n",
       "    this.ws = websocket;\n",
       "\n",
       "    this.supports_binary = (this.ws.binaryType != undefined);\n",
       "\n",
       "    if (!this.supports_binary) {\n",
       "        var warnings = document.getElementById(\"mpl-warnings\");\n",
       "        if (warnings) {\n",
       "            warnings.style.display = 'block';\n",
       "            warnings.textContent = (\n",
       "                \"This browser does not support binary websocket messages. \" +\n",
       "                    \"Performance may be slow.\");\n",
       "        }\n",
       "    }\n",
       "\n",
       "    this.imageObj = new Image();\n",
       "\n",
       "    this.context = undefined;\n",
       "    this.message = undefined;\n",
       "    this.canvas = undefined;\n",
       "    this.rubberband_canvas = undefined;\n",
       "    this.rubberband_context = undefined;\n",
       "    this.format_dropdown = undefined;\n",
       "\n",
       "    this.image_mode = 'full';\n",
       "\n",
       "    this.root = $('<div/>');\n",
       "    this._root_extra_style(this.root)\n",
       "    this.root.attr('style', 'display: inline-block');\n",
       "\n",
       "    $(parent_element).append(this.root);\n",
       "\n",
       "    this._init_header(this);\n",
       "    this._init_canvas(this);\n",
       "    this._init_toolbar(this);\n",
       "\n",
       "    var fig = this;\n",
       "\n",
       "    this.waiting = false;\n",
       "\n",
       "    this.ws.onopen =  function () {\n",
       "            fig.send_message(\"supports_binary\", {value: fig.supports_binary});\n",
       "            fig.send_message(\"send_image_mode\", {});\n",
       "            if (mpl.ratio != 1) {\n",
       "                fig.send_message(\"set_dpi_ratio\", {'dpi_ratio': mpl.ratio});\n",
       "            }\n",
       "            fig.send_message(\"refresh\", {});\n",
       "        }\n",
       "\n",
       "    this.imageObj.onload = function() {\n",
       "            if (fig.image_mode == 'full') {\n",
       "                // Full images could contain transparency (where diff images\n",
       "                // almost always do), so we need to clear the canvas so that\n",
       "                // there is no ghosting.\n",
       "                fig.context.clearRect(0, 0, fig.canvas.width, fig.canvas.height);\n",
       "            }\n",
       "            fig.context.drawImage(fig.imageObj, 0, 0);\n",
       "        };\n",
       "\n",
       "    this.imageObj.onunload = function() {\n",
       "        fig.ws.close();\n",
       "    }\n",
       "\n",
       "    this.ws.onmessage = this._make_on_message_function(this);\n",
       "\n",
       "    this.ondownload = ondownload;\n",
       "}\n",
       "\n",
       "mpl.figure.prototype._init_header = function() {\n",
       "    var titlebar = $(\n",
       "        '<div class=\"ui-dialog-titlebar ui-widget-header ui-corner-all ' +\n",
       "        'ui-helper-clearfix\"/>');\n",
       "    var titletext = $(\n",
       "        '<div class=\"ui-dialog-title\" style=\"width: 100%; ' +\n",
       "        'text-align: center; padding: 3px;\"/>');\n",
       "    titlebar.append(titletext)\n",
       "    this.root.append(titlebar);\n",
       "    this.header = titletext[0];\n",
       "}\n",
       "\n",
       "\n",
       "\n",
       "mpl.figure.prototype._canvas_extra_style = function(canvas_div) {\n",
       "\n",
       "}\n",
       "\n",
       "\n",
       "mpl.figure.prototype._root_extra_style = function(canvas_div) {\n",
       "\n",
       "}\n",
       "\n",
       "mpl.figure.prototype._init_canvas = function() {\n",
       "    var fig = this;\n",
       "\n",
       "    var canvas_div = $('<div/>');\n",
       "\n",
       "    canvas_div.attr('style', 'position: relative; clear: both; outline: 0');\n",
       "\n",
       "    function canvas_keyboard_event(event) {\n",
       "        return fig.key_event(event, event['data']);\n",
       "    }\n",
       "\n",
       "    canvas_div.keydown('key_press', canvas_keyboard_event);\n",
       "    canvas_div.keyup('key_release', canvas_keyboard_event);\n",
       "    this.canvas_div = canvas_div\n",
       "    this._canvas_extra_style(canvas_div)\n",
       "    this.root.append(canvas_div);\n",
       "\n",
       "    var canvas = $('<canvas/>');\n",
       "    canvas.addClass('mpl-canvas');\n",
       "    canvas.attr('style', \"left: 0; top: 0; z-index: 0; outline: 0\")\n",
       "\n",
       "    this.canvas = canvas[0];\n",
       "    this.context = canvas[0].getContext(\"2d\");\n",
       "\n",
       "    var backingStore = this.context.backingStorePixelRatio ||\n",
       "\tthis.context.webkitBackingStorePixelRatio ||\n",
       "\tthis.context.mozBackingStorePixelRatio ||\n",
       "\tthis.context.msBackingStorePixelRatio ||\n",
       "\tthis.context.oBackingStorePixelRatio ||\n",
       "\tthis.context.backingStorePixelRatio || 1;\n",
       "\n",
       "    mpl.ratio = (window.devicePixelRatio || 1) / backingStore;\n",
       "\n",
       "    var rubberband = $('<canvas/>');\n",
       "    rubberband.attr('style', \"position: absolute; left: 0; top: 0; z-index: 1;\")\n",
       "\n",
       "    var pass_mouse_events = true;\n",
       "\n",
       "    canvas_div.resizable({\n",
       "        start: function(event, ui) {\n",
       "            pass_mouse_events = false;\n",
       "        },\n",
       "        resize: function(event, ui) {\n",
       "            fig.request_resize(ui.size.width, ui.size.height);\n",
       "        },\n",
       "        stop: function(event, ui) {\n",
       "            pass_mouse_events = true;\n",
       "            fig.request_resize(ui.size.width, ui.size.height);\n",
       "        },\n",
       "    });\n",
       "\n",
       "    function mouse_event_fn(event) {\n",
       "        if (pass_mouse_events)\n",
       "            return fig.mouse_event(event, event['data']);\n",
       "    }\n",
       "\n",
       "    rubberband.mousedown('button_press', mouse_event_fn);\n",
       "    rubberband.mouseup('button_release', mouse_event_fn);\n",
       "    // Throttle sequential mouse events to 1 every 20ms.\n",
       "    rubberband.mousemove('motion_notify', mouse_event_fn);\n",
       "\n",
       "    rubberband.mouseenter('figure_enter', mouse_event_fn);\n",
       "    rubberband.mouseleave('figure_leave', mouse_event_fn);\n",
       "\n",
       "    canvas_div.on(\"wheel\", function (event) {\n",
       "        event = event.originalEvent;\n",
       "        event['data'] = 'scroll'\n",
       "        if (event.deltaY < 0) {\n",
       "            event.step = 1;\n",
       "        } else {\n",
       "            event.step = -1;\n",
       "        }\n",
       "        mouse_event_fn(event);\n",
       "    });\n",
       "\n",
       "    canvas_div.append(canvas);\n",
       "    canvas_div.append(rubberband);\n",
       "\n",
       "    this.rubberband = rubberband;\n",
       "    this.rubberband_canvas = rubberband[0];\n",
       "    this.rubberband_context = rubberband[0].getContext(\"2d\");\n",
       "    this.rubberband_context.strokeStyle = \"#000000\";\n",
       "\n",
       "    this._resize_canvas = function(width, height) {\n",
       "        // Keep the size of the canvas, canvas container, and rubber band\n",
       "        // canvas in synch.\n",
       "        canvas_div.css('width', width)\n",
       "        canvas_div.css('height', height)\n",
       "\n",
       "        canvas.attr('width', width * mpl.ratio);\n",
       "        canvas.attr('height', height * mpl.ratio);\n",
       "        canvas.attr('style', 'width: ' + width + 'px; height: ' + height + 'px;');\n",
       "\n",
       "        rubberband.attr('width', width);\n",
       "        rubberband.attr('height', height);\n",
       "    }\n",
       "\n",
       "    // Set the figure to an initial 600x600px, this will subsequently be updated\n",
       "    // upon first draw.\n",
       "    this._resize_canvas(600, 600);\n",
       "\n",
       "    // Disable right mouse context menu.\n",
       "    $(this.rubberband_canvas).bind(\"contextmenu\",function(e){\n",
       "        return false;\n",
       "    });\n",
       "\n",
       "    function set_focus () {\n",
       "        canvas.focus();\n",
       "        canvas_div.focus();\n",
       "    }\n",
       "\n",
       "    window.setTimeout(set_focus, 100);\n",
       "}\n",
       "\n",
       "mpl.figure.prototype._init_toolbar = function() {\n",
       "    var fig = this;\n",
       "\n",
       "    var nav_element = $('<div/>');\n",
       "    nav_element.attr('style', 'width: 100%');\n",
       "    this.root.append(nav_element);\n",
       "\n",
       "    // Define a callback function for later on.\n",
       "    function toolbar_event(event) {\n",
       "        return fig.toolbar_button_onclick(event['data']);\n",
       "    }\n",
       "    function toolbar_mouse_event(event) {\n",
       "        return fig.toolbar_button_onmouseover(event['data']);\n",
       "    }\n",
       "\n",
       "    for(var toolbar_ind in mpl.toolbar_items) {\n",
       "        var name = mpl.toolbar_items[toolbar_ind][0];\n",
       "        var tooltip = mpl.toolbar_items[toolbar_ind][1];\n",
       "        var image = mpl.toolbar_items[toolbar_ind][2];\n",
       "        var method_name = mpl.toolbar_items[toolbar_ind][3];\n",
       "\n",
       "        if (!name) {\n",
       "            // put a spacer in here.\n",
       "            continue;\n",
       "        }\n",
       "        var button = $('<button/>');\n",
       "        button.addClass('ui-button ui-widget ui-state-default ui-corner-all ' +\n",
       "                        'ui-button-icon-only');\n",
       "        button.attr('role', 'button');\n",
       "        button.attr('aria-disabled', 'false');\n",
       "        button.click(method_name, toolbar_event);\n",
       "        button.mouseover(tooltip, toolbar_mouse_event);\n",
       "\n",
       "        var icon_img = $('<span/>');\n",
       "        icon_img.addClass('ui-button-icon-primary ui-icon');\n",
       "        icon_img.addClass(image);\n",
       "        icon_img.addClass('ui-corner-all');\n",
       "\n",
       "        var tooltip_span = $('<span/>');\n",
       "        tooltip_span.addClass('ui-button-text');\n",
       "        tooltip_span.html(tooltip);\n",
       "\n",
       "        button.append(icon_img);\n",
       "        button.append(tooltip_span);\n",
       "\n",
       "        nav_element.append(button);\n",
       "    }\n",
       "\n",
       "    var fmt_picker_span = $('<span/>');\n",
       "\n",
       "    var fmt_picker = $('<select/>');\n",
       "    fmt_picker.addClass('mpl-toolbar-option ui-widget ui-widget-content');\n",
       "    fmt_picker_span.append(fmt_picker);\n",
       "    nav_element.append(fmt_picker_span);\n",
       "    this.format_dropdown = fmt_picker[0];\n",
       "\n",
       "    for (var ind in mpl.extensions) {\n",
       "        var fmt = mpl.extensions[ind];\n",
       "        var option = $(\n",
       "            '<option/>', {selected: fmt === mpl.default_extension}).html(fmt);\n",
       "        fmt_picker.append(option);\n",
       "    }\n",
       "\n",
       "    // Add hover states to the ui-buttons\n",
       "    $( \".ui-button\" ).hover(\n",
       "        function() { $(this).addClass(\"ui-state-hover\");},\n",
       "        function() { $(this).removeClass(\"ui-state-hover\");}\n",
       "    );\n",
       "\n",
       "    var status_bar = $('<span class=\"mpl-message\"/>');\n",
       "    nav_element.append(status_bar);\n",
       "    this.message = status_bar[0];\n",
       "}\n",
       "\n",
       "mpl.figure.prototype.request_resize = function(x_pixels, y_pixels) {\n",
       "    // Request matplotlib to resize the figure. Matplotlib will then trigger a resize in the client,\n",
       "    // which will in turn request a refresh of the image.\n",
       "    this.send_message('resize', {'width': x_pixels, 'height': y_pixels});\n",
       "}\n",
       "\n",
       "mpl.figure.prototype.send_message = function(type, properties) {\n",
       "    properties['type'] = type;\n",
       "    properties['figure_id'] = this.id;\n",
       "    this.ws.send(JSON.stringify(properties));\n",
       "}\n",
       "\n",
       "mpl.figure.prototype.send_draw_message = function() {\n",
       "    if (!this.waiting) {\n",
       "        this.waiting = true;\n",
       "        this.ws.send(JSON.stringify({type: \"draw\", figure_id: this.id}));\n",
       "    }\n",
       "}\n",
       "\n",
       "\n",
       "mpl.figure.prototype.handle_save = function(fig, msg) {\n",
       "    var format_dropdown = fig.format_dropdown;\n",
       "    var format = format_dropdown.options[format_dropdown.selectedIndex].value;\n",
       "    fig.ondownload(fig, format);\n",
       "}\n",
       "\n",
       "\n",
       "mpl.figure.prototype.handle_resize = function(fig, msg) {\n",
       "    var size = msg['size'];\n",
       "    if (size[0] != fig.canvas.width || size[1] != fig.canvas.height) {\n",
       "        fig._resize_canvas(size[0], size[1]);\n",
       "        fig.send_message(\"refresh\", {});\n",
       "    };\n",
       "}\n",
       "\n",
       "mpl.figure.prototype.handle_rubberband = function(fig, msg) {\n",
       "    var x0 = msg['x0'] / mpl.ratio;\n",
       "    var y0 = (fig.canvas.height - msg['y0']) / mpl.ratio;\n",
       "    var x1 = msg['x1'] / mpl.ratio;\n",
       "    var y1 = (fig.canvas.height - msg['y1']) / mpl.ratio;\n",
       "    x0 = Math.floor(x0) + 0.5;\n",
       "    y0 = Math.floor(y0) + 0.5;\n",
       "    x1 = Math.floor(x1) + 0.5;\n",
       "    y1 = Math.floor(y1) + 0.5;\n",
       "    var min_x = Math.min(x0, x1);\n",
       "    var min_y = Math.min(y0, y1);\n",
       "    var width = Math.abs(x1 - x0);\n",
       "    var height = Math.abs(y1 - y0);\n",
       "\n",
       "    fig.rubberband_context.clearRect(\n",
       "        0, 0, fig.canvas.width / mpl.ratio, fig.canvas.height / mpl.ratio);\n",
       "\n",
       "    fig.rubberband_context.strokeRect(min_x, min_y, width, height);\n",
       "}\n",
       "\n",
       "mpl.figure.prototype.handle_figure_label = function(fig, msg) {\n",
       "    // Updates the figure title.\n",
       "    fig.header.textContent = msg['label'];\n",
       "}\n",
       "\n",
       "mpl.figure.prototype.handle_cursor = function(fig, msg) {\n",
       "    var cursor = msg['cursor'];\n",
       "    switch(cursor)\n",
       "    {\n",
       "    case 0:\n",
       "        cursor = 'pointer';\n",
       "        break;\n",
       "    case 1:\n",
       "        cursor = 'default';\n",
       "        break;\n",
       "    case 2:\n",
       "        cursor = 'crosshair';\n",
       "        break;\n",
       "    case 3:\n",
       "        cursor = 'move';\n",
       "        break;\n",
       "    }\n",
       "    fig.rubberband_canvas.style.cursor = cursor;\n",
       "}\n",
       "\n",
       "mpl.figure.prototype.handle_message = function(fig, msg) {\n",
       "    fig.message.textContent = msg['message'];\n",
       "}\n",
       "\n",
       "mpl.figure.prototype.handle_draw = function(fig, msg) {\n",
       "    // Request the server to send over a new figure.\n",
       "    fig.send_draw_message();\n",
       "}\n",
       "\n",
       "mpl.figure.prototype.handle_image_mode = function(fig, msg) {\n",
       "    fig.image_mode = msg['mode'];\n",
       "}\n",
       "\n",
       "mpl.figure.prototype.updated_canvas_event = function() {\n",
       "    // Called whenever the canvas gets updated.\n",
       "    this.send_message(\"ack\", {});\n",
       "}\n",
       "\n",
       "// A function to construct a web socket function for onmessage handling.\n",
       "// Called in the figure constructor.\n",
       "mpl.figure.prototype._make_on_message_function = function(fig) {\n",
       "    return function socket_on_message(evt) {\n",
       "        if (evt.data instanceof Blob) {\n",
       "            /* FIXME: We get \"Resource interpreted as Image but\n",
       "             * transferred with MIME type text/plain:\" errors on\n",
       "             * Chrome.  But how to set the MIME type?  It doesn't seem\n",
       "             * to be part of the websocket stream */\n",
       "            evt.data.type = \"image/png\";\n",
       "\n",
       "            /* Free the memory for the previous frames */\n",
       "            if (fig.imageObj.src) {\n",
       "                (window.URL || window.webkitURL).revokeObjectURL(\n",
       "                    fig.imageObj.src);\n",
       "            }\n",
       "\n",
       "            fig.imageObj.src = (window.URL || window.webkitURL).createObjectURL(\n",
       "                evt.data);\n",
       "            fig.updated_canvas_event();\n",
       "            fig.waiting = false;\n",
       "            return;\n",
       "        }\n",
       "        else if (typeof evt.data === 'string' && evt.data.slice(0, 21) == \"data:image/png;base64\") {\n",
       "            fig.imageObj.src = evt.data;\n",
       "            fig.updated_canvas_event();\n",
       "            fig.waiting = false;\n",
       "            return;\n",
       "        }\n",
       "\n",
       "        var msg = JSON.parse(evt.data);\n",
       "        var msg_type = msg['type'];\n",
       "\n",
       "        // Call the  \"handle_{type}\" callback, which takes\n",
       "        // the figure and JSON message as its only arguments.\n",
       "        try {\n",
       "            var callback = fig[\"handle_\" + msg_type];\n",
       "        } catch (e) {\n",
       "            console.log(\"No handler for the '\" + msg_type + \"' message type: \", msg);\n",
       "            return;\n",
       "        }\n",
       "\n",
       "        if (callback) {\n",
       "            try {\n",
       "                // console.log(\"Handling '\" + msg_type + \"' message: \", msg);\n",
       "                callback(fig, msg);\n",
       "            } catch (e) {\n",
       "                console.log(\"Exception inside the 'handler_\" + msg_type + \"' callback:\", e, e.stack, msg);\n",
       "            }\n",
       "        }\n",
       "    };\n",
       "}\n",
       "\n",
       "// from http://stackoverflow.com/questions/1114465/getting-mouse-location-in-canvas\n",
       "mpl.findpos = function(e) {\n",
       "    //this section is from http://www.quirksmode.org/js/events_properties.html\n",
       "    var targ;\n",
       "    if (!e)\n",
       "        e = window.event;\n",
       "    if (e.target)\n",
       "        targ = e.target;\n",
       "    else if (e.srcElement)\n",
       "        targ = e.srcElement;\n",
       "    if (targ.nodeType == 3) // defeat Safari bug\n",
       "        targ = targ.parentNode;\n",
       "\n",
       "    // jQuery normalizes the pageX and pageY\n",
       "    // pageX,Y are the mouse positions relative to the document\n",
       "    // offset() returns the position of the element relative to the document\n",
       "    var x = e.pageX - $(targ).offset().left;\n",
       "    var y = e.pageY - $(targ).offset().top;\n",
       "\n",
       "    return {\"x\": x, \"y\": y};\n",
       "};\n",
       "\n",
       "/*\n",
       " * return a copy of an object with only non-object keys\n",
       " * we need this to avoid circular references\n",
       " * http://stackoverflow.com/a/24161582/3208463\n",
       " */\n",
       "function simpleKeys (original) {\n",
       "  return Object.keys(original).reduce(function (obj, key) {\n",
       "    if (typeof original[key] !== 'object')\n",
       "        obj[key] = original[key]\n",
       "    return obj;\n",
       "  }, {});\n",
       "}\n",
       "\n",
       "mpl.figure.prototype.mouse_event = function(event, name) {\n",
       "    var canvas_pos = mpl.findpos(event)\n",
       "\n",
       "    if (name === 'button_press')\n",
       "    {\n",
       "        this.canvas.focus();\n",
       "        this.canvas_div.focus();\n",
       "    }\n",
       "\n",
       "    var x = canvas_pos.x * mpl.ratio;\n",
       "    var y = canvas_pos.y * mpl.ratio;\n",
       "\n",
       "    this.send_message(name, {x: x, y: y, button: event.button,\n",
       "                             step: event.step,\n",
       "                             guiEvent: simpleKeys(event)});\n",
       "\n",
       "    /* This prevents the web browser from automatically changing to\n",
       "     * the text insertion cursor when the button is pressed.  We want\n",
       "     * to control all of the cursor setting manually through the\n",
       "     * 'cursor' event from matplotlib */\n",
       "    event.preventDefault();\n",
       "    return false;\n",
       "}\n",
       "\n",
       "mpl.figure.prototype._key_event_extra = function(event, name) {\n",
       "    // Handle any extra behaviour associated with a key event\n",
       "}\n",
       "\n",
       "mpl.figure.prototype.key_event = function(event, name) {\n",
       "\n",
       "    // Prevent repeat events\n",
       "    if (name == 'key_press')\n",
       "    {\n",
       "        if (event.which === this._key)\n",
       "            return;\n",
       "        else\n",
       "            this._key = event.which;\n",
       "    }\n",
       "    if (name == 'key_release')\n",
       "        this._key = null;\n",
       "\n",
       "    var value = '';\n",
       "    if (event.ctrlKey && event.which != 17)\n",
       "        value += \"ctrl+\";\n",
       "    if (event.altKey && event.which != 18)\n",
       "        value += \"alt+\";\n",
       "    if (event.shiftKey && event.which != 16)\n",
       "        value += \"shift+\";\n",
       "\n",
       "    value += 'k';\n",
       "    value += event.which.toString();\n",
       "\n",
       "    this._key_event_extra(event, name);\n",
       "\n",
       "    this.send_message(name, {key: value,\n",
       "                             guiEvent: simpleKeys(event)});\n",
       "    return false;\n",
       "}\n",
       "\n",
       "mpl.figure.prototype.toolbar_button_onclick = function(name) {\n",
       "    if (name == 'download') {\n",
       "        this.handle_save(this, null);\n",
       "    } else {\n",
       "        this.send_message(\"toolbar_button\", {name: name});\n",
       "    }\n",
       "};\n",
       "\n",
       "mpl.figure.prototype.toolbar_button_onmouseover = function(tooltip) {\n",
       "    this.message.textContent = tooltip;\n",
       "};\n",
       "mpl.toolbar_items = [[\"Home\", \"Reset original view\", \"fa fa-home icon-home\", \"home\"], [\"Back\", \"Back to previous view\", \"fa fa-arrow-left icon-arrow-left\", \"back\"], [\"Forward\", \"Forward to next view\", \"fa fa-arrow-right icon-arrow-right\", \"forward\"], [\"\", \"\", \"\", \"\"], [\"Pan\", \"Pan axes with left mouse, zoom with right\", \"fa fa-arrows icon-move\", \"pan\"], [\"Zoom\", \"Zoom to rectangle\", \"fa fa-square-o icon-check-empty\", \"zoom\"], [\"\", \"\", \"\", \"\"], [\"Download\", \"Download plot\", \"fa fa-floppy-o icon-save\", \"download\"]];\n",
       "\n",
       "mpl.extensions = [\"eps\", \"jpeg\", \"pdf\", \"png\", \"ps\", \"raw\", \"svg\", \"tif\"];\n",
       "\n",
       "mpl.default_extension = \"png\";var comm_websocket_adapter = function(comm) {\n",
       "    // Create a \"websocket\"-like object which calls the given IPython comm\n",
       "    // object with the appropriate methods. Currently this is a non binary\n",
       "    // socket, so there is still some room for performance tuning.\n",
       "    var ws = {};\n",
       "\n",
       "    ws.close = function() {\n",
       "        comm.close()\n",
       "    };\n",
       "    ws.send = function(m) {\n",
       "        //console.log('sending', m);\n",
       "        comm.send(m);\n",
       "    };\n",
       "    // Register the callback with on_msg.\n",
       "    comm.on_msg(function(msg) {\n",
       "        //console.log('receiving', msg['content']['data'], msg);\n",
       "        // Pass the mpl event to the overridden (by mpl) onmessage function.\n",
       "        ws.onmessage(msg['content']['data'])\n",
       "    });\n",
       "    return ws;\n",
       "}\n",
       "\n",
       "mpl.mpl_figure_comm = function(comm, msg) {\n",
       "    // This is the function which gets called when the mpl process\n",
       "    // starts-up an IPython Comm through the \"matplotlib\" channel.\n",
       "\n",
       "    var id = msg.content.data.id;\n",
       "    // Get hold of the div created by the display call when the Comm\n",
       "    // socket was opened in Python.\n",
       "    var element = $(\"#\" + id);\n",
       "    var ws_proxy = comm_websocket_adapter(comm)\n",
       "\n",
       "    function ondownload(figure, format) {\n",
       "        window.open(figure.imageObj.src);\n",
       "    }\n",
       "\n",
       "    var fig = new mpl.figure(id, ws_proxy,\n",
       "                           ondownload,\n",
       "                           element.get(0));\n",
       "\n",
       "    // Call onopen now - mpl needs it, as it is assuming we've passed it a real\n",
       "    // web socket which is closed, not our websocket->open comm proxy.\n",
       "    ws_proxy.onopen();\n",
       "\n",
       "    fig.parent_element = element.get(0);\n",
       "    fig.cell_info = mpl.find_output_cell(\"<div id='\" + id + \"'></div>\");\n",
       "    if (!fig.cell_info) {\n",
       "        console.error(\"Failed to find cell for figure\", id, fig);\n",
       "        return;\n",
       "    }\n",
       "\n",
       "    var output_index = fig.cell_info[2]\n",
       "    var cell = fig.cell_info[0];\n",
       "\n",
       "};\n",
       "\n",
       "mpl.figure.prototype.handle_close = function(fig, msg) {\n",
       "    var width = fig.canvas.width/mpl.ratio\n",
       "    fig.root.unbind('remove')\n",
       "\n",
       "    // Update the output cell to use the data from the current canvas.\n",
       "    fig.push_to_output();\n",
       "    var dataURL = fig.canvas.toDataURL();\n",
       "    // Re-enable the keyboard manager in IPython - without this line, in FF,\n",
       "    // the notebook keyboard shortcuts fail.\n",
       "    IPython.keyboard_manager.enable()\n",
       "    $(fig.parent_element).html('<img src=\"' + dataURL + '\" width=\"' + width + '\">');\n",
       "    fig.close_ws(fig, msg);\n",
       "}\n",
       "\n",
       "mpl.figure.prototype.close_ws = function(fig, msg){\n",
       "    fig.send_message('closing', msg);\n",
       "    // fig.ws.close()\n",
       "}\n",
       "\n",
       "mpl.figure.prototype.push_to_output = function(remove_interactive) {\n",
       "    // Turn the data on the canvas into data in the output cell.\n",
       "    var width = this.canvas.width/mpl.ratio\n",
       "    var dataURL = this.canvas.toDataURL();\n",
       "    this.cell_info[1]['text/html'] = '<img src=\"' + dataURL + '\" width=\"' + width + '\">';\n",
       "}\n",
       "\n",
       "mpl.figure.prototype.updated_canvas_event = function() {\n",
       "    // Tell IPython that the notebook contents must change.\n",
       "    IPython.notebook.set_dirty(true);\n",
       "    this.send_message(\"ack\", {});\n",
       "    var fig = this;\n",
       "    // Wait a second, then push the new image to the DOM so\n",
       "    // that it is saved nicely (might be nice to debounce this).\n",
       "    setTimeout(function () { fig.push_to_output() }, 1000);\n",
       "}\n",
       "\n",
       "mpl.figure.prototype._init_toolbar = function() {\n",
       "    var fig = this;\n",
       "\n",
       "    var nav_element = $('<div/>');\n",
       "    nav_element.attr('style', 'width: 100%');\n",
       "    this.root.append(nav_element);\n",
       "\n",
       "    // Define a callback function for later on.\n",
       "    function toolbar_event(event) {\n",
       "        return fig.toolbar_button_onclick(event['data']);\n",
       "    }\n",
       "    function toolbar_mouse_event(event) {\n",
       "        return fig.toolbar_button_onmouseover(event['data']);\n",
       "    }\n",
       "\n",
       "    for(var toolbar_ind in mpl.toolbar_items){\n",
       "        var name = mpl.toolbar_items[toolbar_ind][0];\n",
       "        var tooltip = mpl.toolbar_items[toolbar_ind][1];\n",
       "        var image = mpl.toolbar_items[toolbar_ind][2];\n",
       "        var method_name = mpl.toolbar_items[toolbar_ind][3];\n",
       "\n",
       "        if (!name) { continue; };\n",
       "\n",
       "        var button = $('<button class=\"btn btn-default\" href=\"#\" title=\"' + name + '\"><i class=\"fa ' + image + ' fa-lg\"></i></button>');\n",
       "        button.click(method_name, toolbar_event);\n",
       "        button.mouseover(tooltip, toolbar_mouse_event);\n",
       "        nav_element.append(button);\n",
       "    }\n",
       "\n",
       "    // Add the status bar.\n",
       "    var status_bar = $('<span class=\"mpl-message\" style=\"text-align:right; float: right;\"/>');\n",
       "    nav_element.append(status_bar);\n",
       "    this.message = status_bar[0];\n",
       "\n",
       "    // Add the close button to the window.\n",
       "    var buttongrp = $('<div class=\"btn-group inline pull-right\"></div>');\n",
       "    var button = $('<button class=\"btn btn-mini btn-primary\" href=\"#\" title=\"Stop Interaction\"><i class=\"fa fa-power-off icon-remove icon-large\"></i></button>');\n",
       "    button.click(function (evt) { fig.handle_close(fig, {}); } );\n",
       "    button.mouseover('Stop Interaction', toolbar_mouse_event);\n",
       "    buttongrp.append(button);\n",
       "    var titlebar = this.root.find($('.ui-dialog-titlebar'));\n",
       "    titlebar.prepend(buttongrp);\n",
       "}\n",
       "\n",
       "mpl.figure.prototype._root_extra_style = function(el){\n",
       "    var fig = this\n",
       "    el.on(\"remove\", function(){\n",
       "\tfig.close_ws(fig, {});\n",
       "    });\n",
       "}\n",
       "\n",
       "mpl.figure.prototype._canvas_extra_style = function(el){\n",
       "    // this is important to make the div 'focusable\n",
       "    el.attr('tabindex', 0)\n",
       "    // reach out to IPython and tell the keyboard manager to turn it's self\n",
       "    // off when our div gets focus\n",
       "\n",
       "    // location in version 3\n",
       "    if (IPython.notebook.keyboard_manager) {\n",
       "        IPython.notebook.keyboard_manager.register_events(el);\n",
       "    }\n",
       "    else {\n",
       "        // location in version 2\n",
       "        IPython.keyboard_manager.register_events(el);\n",
       "    }\n",
       "\n",
       "}\n",
       "\n",
       "mpl.figure.prototype._key_event_extra = function(event, name) {\n",
       "    var manager = IPython.notebook.keyboard_manager;\n",
       "    if (!manager)\n",
       "        manager = IPython.keyboard_manager;\n",
       "\n",
       "    // Check for shift+enter\n",
       "    if (event.shiftKey && event.which == 13) {\n",
       "        this.canvas_div.blur();\n",
       "        // select the cell after this one\n",
       "        var index = IPython.notebook.find_cell_index(this.cell_info[0]);\n",
       "        IPython.notebook.select(index + 1);\n",
       "    }\n",
       "}\n",
       "\n",
       "mpl.figure.prototype.handle_save = function(fig, msg) {\n",
       "    fig.ondownload(fig, null);\n",
       "}\n",
       "\n",
       "\n",
       "mpl.find_output_cell = function(html_output) {\n",
       "    // Return the cell and output element which can be found *uniquely* in the notebook.\n",
       "    // Note - this is a bit hacky, but it is done because the \"notebook_saving.Notebook\"\n",
       "    // IPython event is triggered only after the cells have been serialised, which for\n",
       "    // our purposes (turning an active figure into a static one), is too late.\n",
       "    var cells = IPython.notebook.get_cells();\n",
       "    var ncells = cells.length;\n",
       "    for (var i=0; i<ncells; i++) {\n",
       "        var cell = cells[i];\n",
       "        if (cell.cell_type === 'code'){\n",
       "            for (var j=0; j<cell.output_area.outputs.length; j++) {\n",
       "                var data = cell.output_area.outputs[j];\n",
       "                if (data.data) {\n",
       "                    // IPython >= 3 moved mimebundle to data attribute of output\n",
       "                    data = data.data;\n",
       "                }\n",
       "                if (data['text/html'] == html_output) {\n",
       "                    return [cell, data, j];\n",
       "                }\n",
       "            }\n",
       "        }\n",
       "    }\n",
       "}\n",
       "\n",
       "// Register the function which deals with the matplotlib target/channel.\n",
       "// The kernel may be null if the page has been refreshed.\n",
       "if (IPython.notebook.kernel != null) {\n",
       "    IPython.notebook.kernel.comm_manager.register_target('matplotlib', mpl.mpl_figure_comm);\n",
       "}\n"
      ],
      "text/plain": [
       "<IPython.core.display.Javascript object>"
      ]
     },
     "metadata": {},
     "output_type": "display_data"
    },
    {
     "data": {
      "text/html": [
       "<img src=\"data:image/png;base64,iVBORw0KGgoAAAANSUhEUgAAA+gAAAXcCAYAAACxmKRlAAAgAElEQVR4nOzdeVxU5eI/8IdlNoYdUQR0FBcUFAVLURMS3JfULmhqimkKWmnmfkvJ0Lyldk2/ppnavblhmEtSirigpmSo92oqlplLlqnlkoLK9vn9we+cOJwZGASCK5/363X+4MwzM88MM895PvM85zkCRERERERERFTlRFVXgIiIiIiIiIgY0ImIiIiIiIiqBQZ0IiIiIiIiomqAAZ2IiIiIiIioGmBAJyIiIiIiIqoGGNCJiIiIiIiIqgEGdCIiIiIiIqJqgAGdiIiIiIiIqBpgQCciIiIiIiKqBhjQiYiIiIiIiKoBBnQiIiIiIiKiaoABnYiIiIiIiKgaYEAnIiIiIiIiqgYY0ImIiIiIiIiqAQZ0IiIiIiIiomqAAZ2IiIiIiIioGmBAJyIiIiIiIqoGGNCJiIiIiIiIqgEGdCIiIiIiIqJqgAGdiIiIiIiIqBpgQCciIiIiIiKqBhjQiYiIiIiIiKoBBnQiIiIiIiKiaoABnYiIiIiIiKgaYEAnIiIiIiIiqgYY0ImIiIiIiIiqAQZ0IiIiIiIiomqAAZ2IiIiIiIioGmBAJyIiIiIiIqoGGNCJiAgAEB8fDyEE9u3bV9VVIapyMTExEELgwoULlfYc1fE7Vx3rRERUkzCgE1GNlJeXhxUrViAsLAxubm6wt7eHp6cnWrZsiVGjRmHbtm1VXcW/HDvm1cvHH38MIQQ+/vjjqq5KuVy4cAFCCMTExFTJ85tMJphMpjLfjwF9X1VXhYioRmJAJ6IaJy8vDz169IAQAq6urhg6dCimTZuG0aNHo3PnztBqtejYsWNVV/Mvd+PGDWRmZiIrK6uqq0JgQK8oDOhlw3aAiKhqMaATUY2zZs0aCCHQqlUr3L59W3X7zZs3kZqaWgU1I/oTA3rFYEAnIqL/JQzoRFTjxMXFQQiBf/7zn2W+b2JiIiIiIuDm5gadTgeTyYTnnnsOGRkZqrLr16/H008/DVdXV+h0OjRr1gwJCQl48OCBqqwQAuHh4bhx4wZGjx4NLy8vaLVaBAQEYOXKlaryDx8+xJIlS9CzZ0/Ur18fWq0Wrq6uiIiIQHJystm6S0Hl9u3bGD9+POrXrw97e3vEx8cDKDks7Nq1C926dZNfd+PGjTF16lTcunVLVfbcuXMYNWoU/Pz8oNPp4OrqimbNmmHMmDH47bffSnmH/5SZmYkXXngBJpMJWq0Wnp6eeOqpp/DBBx/IZUoLf+Hh4RBCeajbt28fhBCIj49Heno6evToAVdXV0UYK+29AoDc3FwsXboU7dq1g5OTEwwGA1q3bo0lS5YgPz9f8ZxF63nhwgUMGjQIHh4e0Ol0CAkJUZ1SIdXb3GZtYDxy5AgGDhwIb29vaLVaeHl5oWvXrti4caOqbGJiIp566ik4OztDr9cjMDAQc+fOxf3791VlpfcmKysLkydPRr169aDVatGoUSPMmzcPBQUFclnpM2Vuk354eJTPMgD89NNPeOWVV9C4cWPodDq4ubnhySefxFtvvQXgz/+zuc2aHwukgH7+/HksXLgQ/v7+0Ol08PHxwauvvoo7d+5YrNdLL72Ehg0bQqvVwt3dHX379sU333yjKlv0O5eUlIQnn3wSBoMBbm5uGDhwIH766SfVfY4ePYrx48cjKChI8X2cOHEifv/9d0XZt99+G0IIvP/++2brevnyZdja2uKJJ54wW6fiytIOlPTDiKXnkNrBn3/+GSNGjICXlxdsbW3/53+kIiIqCwZ0IqpxZs6cCSEExo4da/V9CgoK5A57rVq1MGrUKEyfPh1Dhw6Ft7e3IrgBwMiRIyGEQL169TBq1Ci89tpr6NChA4QQePrpp5GTk6MoL43oN23aFC1atMDLL7+MF198UQ6Oq1evVpS/evUqbG1t8dRTT8l1iYmJkct/+OGHqtdgMpng5eWFkJAQNGzYEKNHj8bEiRPlzq+lTvPSpUthY2MDR0dHjBw5EtOmTUPbtm0hhECzZs1w8+ZNuezPP/8sn9P/zDPPYOrUqRg/fjz69u0LBwcHfPvtt1a938nJyTAYDLC1tUWvXr0wffp0xMbGIjQ0FA0aNJDLlSegd+3aFRqNBhEREZg0aRKGDRuGn3/+2ar3KicnB927d5ffg9jYWEyYMAFBQUEQQmDo0KGK55Tq+fTTT8PT0xPt2rXDq6++iuHDh0On08HGxga7d++Wy3/88cfo168fhBDo168f4uPj5c1cGCpuxYoVsLOzg1arRVRUFGbMmIFRo0YhKCgI4eHhirJTp06FEAKenp4YO3YsJk+ejICAAAgh0KlTJzx8+FBR3mQywdvbGx07dkTDhg0xZswYjBs3Dt7e3hBCYNasWYr3esKECfLnu+jr+M9//gPg0T7LGRkZcHd3lwPd1KlT8dJLL6Fz586wtbWV3/P4+Hi4uLjAxcVF8dxbtmwp9T2Uvu/PPPMMXF1dMWbMGEydOhWtWrWCEAJt2rRR/YBx7NgxeHh4wMbGBj169MCkSZMQExMDFxcXaLVafPHFF4ry0ncuOjoaOp0O0dHRmDx5Mjp16gQhBJo2bar6QS82Nha1a9dGdHQ0XnvtNUyYMAEdO3aEEAL+/v74448/5LJXrlyBra0tQkJCzL7GuXPnQgiBJUuWqOpUnnYAePSA3qJFC9SvXx+BgYF4+eWX8dJLL6neNyKixxkDOhHVOP/973+h0WhgY2ODoUOH4tNPP8WPP/5Y4n0+/PBDCCHQtm1b1bT4vLw8/PLLL/Lf0tTkqKgoVQde6pgWH72XRvZGjRqFvLw8ef/p06dhZ2eHZs2aKco/ePDA7OjazZs30bx5c7i5uSE7O1txm8lkghACkZGRuHfvnuq+5jrNFy5cgEajgbOzM7777jtF+djYWAgh8OKLL8r73n//fYuzE+7du6eqkzk3btyAs7MzNBoN9u/fr7r98uXLivo9akAXQmD58uVm72ftezVhwgTF/ysvL0/+caZoCJTqKYTAm2++qXisnTt3QgiBHj16KPY/6hT306dPw97eHm5ubjh16pTq9qLv31dffQUhBEwmE65duybvz83NRa9evSCEwJw5cxT3l96bnj17Kv6f165dg4uLC5ydnRU/QJX2PyrrZ/nhw4do0KABhBBYv359ia9Pqm95prh7eHjg4sWL8v78/Hw8++yzEELIo/VA4XvWqFEj6PV6HDx4UPFYP//8M7y9vVGnTh1FmyB9jpycnHDy5EnFfQYPHgwhBBITExX7L168qPjMSZYvXw4hBObNm6fY37VrVwghzP441qxZM2g0GsXMlopoB4BHD+hCCAwbNgy5ublm70tE9LhjQCeiGikpKQl169ZVTHv18PDAs88+a3a0pkWLFhBC4Pjx46U+duvWraHRaMyOdObl5cHDw0MxpRQo7Jg6ODgoRr8kYWFhEEKYvc2cBQsWQAihCrdSsJJGLosz12lOSEiAEAKvv/66qvzvv/8OR0dH6PV6eZRv8eLFFkc9rSXVf/z48aWWLU9Ab9WqlcXHLem9ys/Ph4eHB+rWrWs2KN26dQs2NjaIiopS1bNBgwZm71O/fn14eHgo9j1qQH/55ZchhMB7771XatlRo0ZBCIGPPvpIddvZs2dha2uLhg0bKvZL780PP/ygus/w4cNVYbA856Cb+yxv2rRJHtm2RnkDetEQLjl//jxsbW0Vszm2bt0KIQSmTJli9vEWLVoEIYRi2r70nXvjjTdU5ffu3QshBCZNmmRVfQsKCuDs7IzOnTsr9q9duxZCCEyePFmx/+uvv4YQAgMGDFDsr4h2AHj0gK7VahU/FhER1TQM6ERUY+Xk5CAlJQUzZ85Enz595Cm1QgiMHDlSPpf23r17EEKgTp06pT5mVlYWbGxs4OnpqZhSW3Tz9vaGo6Oj4n5CCLRu3drsYw4dOhRCCNXI4KlTpxATE4OGDRtCr9erzrMtPrpoMpmg0+kU5wgXZa7TLI0UFp1+XZT044EUZC9evAhHR0fY29sjKioKH374IU6dOmXxOc2JioqCEAI7duwotWx5AvqYMWMsPm5J71VmZiaEEGjSpInF/7GDgwNatGihqmf//v3NPl/Hjh3lqdmSRw3oTzzxBIQQyMzMLLVsSEiIxbANFP5wIIRQ/NhkMpng6upqtvzrr78OIQQOHDgg77MmoJflszx58mQIIbBs2bJSX59U3/IEdHOzOKTHLfreTJs2TZ6ubu4zMWTIEAghsGDBAvkxpO/c1q1bVY9/7tw5uS0qKicnB0uWLEHHjh3h5uYGW1tbxXvVtGlTRfns7Gw4OzvDy8tL8ePQuHHjIIRQrX9QEe2A9P48SkAvXn8iopqGAZ2I6P/Ly8vDxo0bYTQaFZ3mK1euQAhh8TzOoqSy1mxFCSFU5wZLzK0mnZ6eDoPBAI1Ggx49emDChAmYOXMm4uPj5XOXiwc7k8mE+vXrW6y7uU5zZGQkhBBmp0oDwKBBgyCEQFpamrzvzJkzGDhwIJydneXXWq9ePcV5riXp0qULhBCqKb/mlCegFz1XuriS3itpWnhpW3nPlX/UgN64cWOrZ1w0atQIQgiz0/gBoF27dhBCKKZ4lzV4lfbay/pZfvHFFyGEwOeff17q6yutviWRvndnz541e3vx90aqV2lb0VMcSlqQzdL7NmDAAAgh4OfnhxEjRmD69OnyjwAuLi5mX6s0U+LLL78EUHiagLu7Ozw9PVXrYVRUO/CoAT0sLMzsfYiIagoGdCKiYt544w0IIfDKK68AKNsI+t27dyGEQHBwcJmes6wBvXfv3hY79tLKzeYCeklBpaJGziS5ubk4evQo/vGPf8DHxwdCqBe7M6csI+iXLl2CEOpF2STSgl5FFV3F3ZKS3qtvv/3W7NTgkvyVAf2vGEGvyIBe1s9ydR1BnzRpktkR6ZKUNaBnZGRAiMK1EYoH6/z8fBgMBrOv9cCBAxBCYNCgQQCAzz77DEIUrqFgTZ0epR1o2LAhfHx8zJaXFg60tIo7EVFNxoBORFTMO++8AyEEXn75ZXmfdA66pfO3iwoMDIRWq1Vd8qgkZQ3o/v7+cHd3N1teWl28IgK6dO6puXNkb926JV+Wy9yl44qSAkLfvn1LLAf8ed7xq6++WmrZP/74w+Ko2507d2AwGCo8oOfm5sLV1RV169ZVhSRLHiWgf/LJJxBCmL3MXkmkc9AXLVpUallpZNXcc5w7d87iOehlCeiXL1+GEALPP/+82fuU9bMsnYNu6XSB4vz8/ODr62tV2aLKeg56UlIShFCf612Ssgb0DRs2QAiBxYsXq8qnp6dDCGHxfyMtYHf79m0888wzEML8mhoV1Q6EhITA3t7e7HdEWnWeAZ2ISI0BnYhqnPXr12PXrl2qa1UDhZd8kqYIf/rpp/L+FStWQAiB0NBQ1fWPi6/ivmrVKghReHkscwvF3bx5E8eOHVPsK2tAl4LLiRMnFGVXrlwpT6WtiIAurd7s4uKCc+fOKcpLQbDo6s1HjhzBr7/+qnpsKbxER0dbfH6JtIq7VqvFV199pbq9+IrfzZs3h52dHU6fPi3vy8vLk8NnRQd04M9L9cXFxZldmf6XX35R1OdRAvoXX3xRaj3NkVZxd3d3NzuKXvT9O3TokDwd//r16/L+vLw8eXq5uVXcyxLQ7969CxsbG4uf77J+louu4m7umu5XrlxR/P3kk09Cp9OZvaZ7SaxZxX327Nny/pycHDRq1AgGg8HiZcEOHz6MrKws+e+yBnQphD/77LOKsteuXZNnQ1j638yePRtCCLz99tvQaDQICgoyW64i2gEAGDt2LIRQLxgpzQxhQCciMo8BnYhqHGl6pZeXF6KiojBlyhRMmTIFUVFR8ohrv379FAuEFRQUyCtUe3p64sUXX8SMGTMwfPhw1KtXTxWipAWY3N3dMXjwYEybNg2jR49Gly5doNVqERsbqyhf1oC+Y8cOCFF4eSbpOuthYWGwtbWVp4hXREAHCq9/XPS5pk+fjvbt20OIwusfF50pMGHCBNjb2yMyMhKxsbGYPn06oqOjodfrodPpzAZuc5KTk6HX62Fra4s+ffpgxowZGDduHJ566inFqCUA/Otf/4IQAq6urhg9ejReeeUVtGjRAv7+/pUyxR0oDGPSKKSPjw+GDRuG6dOnY+TIkejUqRNsbW0Vl7t6lIB+8+ZNODg4wMXFBS+//DISEhKQkJCgusyfOStWrICtra18be2///3vGDNmDIKDg/H0008rykrXQa9duzbGjRuHKVOmyDNGnnrqKbPXQS/rucWhoaHyZQ3ffPNNJCQkyIH8UT7LGRkZcHNzgxACnTt3xrRp0zB+/Hh07doVdnZ2irLTp0+HEIXXoJ85cyYSEhKsOn9d+t7169cPrq6uiI2NLfU66CdOnICXlxeEEOjQoQPGjRuHyZMnY9CgQfDz84MQAlevXi31/QLMf2by8vLk0ef27dtjypQpGD58ODw9PfHUU0/B29vb4v/mwoULsLGxgUajgRACCxcuNFuuItoBoHAxRek7PHDgQEyaNAldunSBg4MD+vTpw4BORGQBAzoR1TiXL1/G//3f/6F///5o2rQpnJycoNFo4OXlhZ49e2LNmjVmR9eBwksWhYWFwdnZGTqdDg0aNMCQIUNUI+IAsH37dvTu3Ruenp7QaDSoU6cOnnzySbz++uuqkc2yBnTp8du1awdHR0e4uLiga9eu2L9/v8Vzlx81oANASkoKunbtCldXV2i1WjRq1AhTpkxRzRD4+uuvERcXh6CgILi5uUGv16NRo0YYMWKE2eswl+TUqVMYNmwYvL29odFoULt2bYSFhZm9hNvq1asREBAArVaLOnXqYMyYMfjtt99KXCSuPAEdKPzR5pNPPkFERATc3Nyg0Wjg7e2Njh07Yu7cueW+XjtQGF5DQ0PlhQvNfQ4sOXz4MJ599ln581e3bl10794dSUlJqrIbNmxAx44d4ejoCJ1Oh4CAAMyZM8fsqPOjBPRz586hT58+cHd3h42NjerzWdbPMlC4/sDYsWPRoEEDaDQauLu7o23btqoR/3v37iEuLg4+Pj6ws7Mr8f9QlPS9O3/+PBYsWAB/f3/odDp4e3tjwoQJqpk0kmvXrmHatGkIDAyEwWCA0WhE48aN8be//Q1r1qxRXN/7URaJ+/333zF27Fj5SgN+fn6YMWMGsrKySv3cSp8ze3t7szNdSquTte2A5NChQwgLC4PBYICTkxN69eqFEydOlLhIHAM6EdV0DOhERERERERE1QADOhEREREREVE1wIBOREREREREVA0woBMRERERERFVAwzoRERERERERNUAAzoRERERERFRNcCATkRERERERFQNMKATERERERERVQMM6ERERERERETVAAM6ERERERERUTXAgE5ERERERERUDTCgExEREREREVUDDOhERERERERE1QADOhEREREREVE1wIBOREREREREVA0woBMRERERERFVAwzoRERERERERNUAAzoRERERERFRNcCATkRERERERFQNMKATERERERERVQMM6ERERERERETVAAM6ERERERERUTXAgE5ERERERERUDTCgE1WwnJwc3L9/nxs3bty4cePGjVsFbDk5OVXdvSP6yzCgE1WQO3fu4Pz58zhz5gw3bty4cePGjRu3CtzOnz+PO3fuVHV3j6jSMaATVYA7d+7gzJkzuHz5Mu7cuYPs7Owq/7WZGzdu3Lhx48btf33Lzs7GnTt3cPnyZZw5c4YhnR57DOhEFeD8+fO4fPkyCgoKqroqRERERI+dgoICXL58GefPn6/qqhBVKgZ0onLKycnhL7pERERElUyaschz0ulxxoBOVE7379/HmTNnkJ2dXdVVISIiInpsZWdn48yZM7h//35VV4Wo0jCgE5WTFNB5sCAiIiKqPOxzUU3AgE5UTjxYEBEREVU+9rmoJmBAJyonHiz+N50+fRrx8fG4cOGCVeXj4+MhhMCNGzcqrA4xMTEwGo0V9nhlYTKZEBMTUyXPXZXu3buHQYMGoWnTpnB0dISDgwMCAgKQkJCAe/fuqcpfu3YNMTEx8PDwgMFgQGhoKHbv3q0q98EHH8BkMsHV1RVDhw7FrVu3FLfn5uaiVatWmDlzZqW9NvprLV26FB9//HGV1iE8PByBgYGPXR1MJhN69+5doY9pjQsXLkAIUeX/16rwn//8B7169UK9evWg1+vh5uaG0NBQrFmzxmz5Y8eOITIyEkajES4uLhgwYIBq8bb79+9j3LhxqFWrFnx8fDB79mzVYroXL16E0Wg0266awz4X1QQM6ETlxIPF/6akpCQIIbBv3z6ryj9uAf348eP44YcfquS5q9KtW7cwcOBALF++HCkpKUhNTcXMmTOh0WgQGRmpKPvgwQO0aNECvr6+WLt2LXbt2oV+/frB3t4eaWlpcrn9+/fDzs4OixYtQnJyMpo0aYJRo0YpHuudd95BkyZN8ODBg7/kdVLlCwwMRHh4eJXWgQG9Yj148ADp6em4fv36X/7cVW3fvn2IjY3FmjVrsHfvXmzfvh3PPfcchBBISEhQlM3MzISTkxM6deqEL774Ap999hkCAwPh7e2teO9mz54NLy8vJCUlYdWqVXBwcFAF/p49e2L48OFW15N9LqoJGNCJyokHi/KztMBeQUFBpS2+V9MDelXJysqqtMf++OOPIcSjHdamTp0KIYRiBGjp0qUQQuDw4cPyvtzcXAQEBKBt27aK+3br1k3+e926dahTp478948//ggHBwfs3bv3kepG1VNNCugltcOPU0CvSpW50GxMTMwjf1bbtWuHevXqKfZFR0ejVq1aiqvXXLx4ERqNBlOnTpX3tW3bFm+//bb89+jRozFo0CD57w0bNsDDw6NMx1X2uagmYEAnKqeacLDIzMzEc889h9q1a0Or1aJevXoYNmyYPBoohdfipMBUdBq51PH67LPP0Lp1a+h0OkybNg0AIITASy+9hGXLlqFZs2bQaDRYtmwZAODhw4dISEiAv78/tFotatWqhREjRqhGOqTH37FjB4KDg6HX6+Hv749Vq1ap6lV8K2lao/Qajx8/jgEDBsDJyQnOzs4YOnSo2dGWxMREhIaGwsHBAUajEd26dcPx48cVZaSAfu7cOfTs2RNGoxG+vr547bXXVCOtb775Jtq2bQs3Nzc4OTkhODgYK1euVEwX7NevH+rXr4/8/HxVfdq2bYvg4GDF+1R8ivulS5cwdOhQeHp6QqvVolmzZliwYIHi8fbt22f2hw1zU0Ol13fy5El07doVjo6OCA0Ntfgel1d5Avr8+fMhhMClS5fkfV26dIG/v7+q7Ntvvw0hBK5cuQIAGD9+PAYMGCDfvm3bNri4uMh/d+/eHS+88MIj1YtKd/36dYwePRq+vr5y29ChQwekpqYqyqWmpiIiIgJOTk4wGAzo0KGDalqttd9zk8mkaj9MJpN8+507dzBp0iQ0aNAAGo0G3t7emDBhguo0CqnNW716NZo2bQq9Xo82bdogPT0dBQUFePfdd9GgQQMYjUZ07twZ586dU9xfCscHDhxAu3btoNfr4e3tjTfeeAN5eXmKsmVtQ8210eZUZh1KaseBwv/92LFj0bx5cxiNRnh6eqJz5844cOCAXCYnJweenp54/vnnVXW/desW9Ho9Jk6cCMDyFPeDBw8iIiICjo6OMBgMaN++PZKTkxVlKuo4WBnKE9B79+6Nhg0byn/n5ubCYDAgNjZWVbZbt25o0qSJ/HdQUBDef/99+e+JEyeiX79+AArf+zp16uDf//53mepTE/pcRAzoROX0uB8s/vvf/8LR0RENGjTA8uXLsWfPHqxduxYDBw7EH3/8AaDsHZO6devCz88Pq1evxr59+/DNN98AKOys+vj4ICgoCOvXr8fevXtx6tQp5Ofno0ePHjAajZg9ezZSU1OxcuVK+Pj4ICAgQDHyYDKZ4Ovri4CAAHzyySdISUlBdHQ0hBDYv38/gMJOnRSyli5divT09FKnNUqv0WQyYcqUKUhJScF7770Ho9GI4OBgxTVZ586dCxsbG4wcORLJycnYvHkz2rdvD6PRiNOnT8vlYmJioNVq0bx5cyxYsAC7d+/GrFmzYGNjg9mzZyuef8SIEVi1ahVSU1ORmpqKhIQEGAwGRblt27ZBCKEKJpmZmRBCYPHixYr3qWhAv379Onx8fODp6Ynly5dj586dePnllyGEwNixY+VyZQ3oGo0GDRo0wLx587Bnzx6kpKRYfI/LqywBvaCgALm5ubhz5w527NgBLy8vDB48WFHGy8sL0dHRqvsmJydDCCG/lsTERBiNRhw+fBjXrl1DZGQkevbsCaBwNN3T0xO//fZbOV8dWdK9e3d4enpixYoVSEtLw9atWzFr1iwkJibKZdasWQMbGxv0798fmzdvxvbt29GnTx/Y2dkpQrq13/Pjx4/Dz88PwcHBcvsh/QCXlZWF1q1bo1atWnjvvfewe/duvP/++3BxcUFERITiRzXpuTp06IDNmzdjy5YtaNq0Kdzd3eUwk5ycLM/KCAoKUtw/PDwcHh4e8Pb2xuLFi5GSkoLx48fLwV9S1jbUUhttTmXVobR2HADOnj2LsWPHIjExEWlpaUhOTsaoUaNga2uraKMmTpwIg8GgGPEFCteOEELg5MmTAMy3Y2lpadBoNGjTpg02btyIrVu3olu3brCxsVF8xirqOFgZyhLQ8/PzkZubi+vXr2Pp0qWwt7fH8uXL5dvPnj0rHzuLmzx5MmxsbOT+UFxcHFq1aoWLFy/i1KlT8Pb2xjvvvAOgcDQ9IiKizK/lce9zEQEM6ETlVtrBYuHhhfBZ6FPq1nd9X9V9+67va9V9Fx5eqLjfHw/+KPH2soiIiICrq6tV4bU4Sx0TOzs7fPfdd6ryQgi4uLjg5s2biv0bNmyAEAKfffaZYn9GRgaEEPjggw8Uj6/X6xUjoffv34e7u7viF/9HneIujbRI1q1bB94Brk8AACAASURBVCEE1q5dCwC4fPky7O3t8corryjK3b17F15eXhg4cKC8LyYmBkIIfPrpp4qyvXr1MjtyK5E6UG+99RY8PDzkDntubi7q1KmDIUOGKMpPnToVWq1WERKLB/Tp06dDCIEjR44o7jt27FjY2NjI/6+yBnQhBFavXm3xtZRHXl4ecnNz5W3VqlUQQij25ebmmp1RIH2mpO2FF15Abm6uooxGozE7SnT48GEIIbB+/XoAhWFfeq1CCPj7++P777/H77//jtq1a1tcZKnaOLMQ2OxT+pambqOQ1te6+54p1gbl/FF6GSs5Ojri1VdftXh7VlYW3N3d0bevsv75+flo1aqV4nQFa7/ngOUp7vPmzYOtrS0yMjIU+zdt2gQhBL788kt5nxACXl5eipH1rVu3QgiB1q1bK8L4okWLFGESKAzHQghs27ZN8VyjR4+Gra2t3A6WtQ211EabU1l1sKYdL05qEyIjIxWzWk6ePAkhBFasWKEo37ZtW7Rp00b+21w7Fhoaitq1a+Pu3buK55HWp5D+RxV1HKwIxdvA4cOHIywsTLW/+IJtABAbGyu3ZVqtVvF/AYBDhw5BCIENGzao7iv98P3LL78AAH799Vc8+eST8uP16tUL2dnZOHDgAAwGA77//vsyvzYGdKoJGNCJyqm0g0X8vniIN0WpW+hK9dTf0JWhVt03fl+84n53Htwp8XZrZWVlwc7ODmPGjCmxXFk7JkWnWhclhFB0qiRDhw6Fq6srcnJyVB2M4qHXZDKZnUYdGhqKHj16yH8/akA/evSoYn9ubi7s7e3lRcE++ugjCCGQkZGhquugQYNQu3Zt+b4xMTGK0QbJ9OnTodfrFfv27NmDyMhIODs7q6bW/vrrr3K5SZMmQa/X4/bt2wAKO5J169ZVjQQXD+ht27ZFQECA6nUfOXIEQgj5VINHCejFR60ssabzWPw1mDtVofgWHx+vuu/NmzeRkZGBvXv3Yu7cuXB2dsYzzzyjCPMajQZxcXGq+0oBvXgH9fr16zh37pz8GCNHjkTXrl0BFAaEsLAwuLq6ok2bNoopuFXuRDywTpS+7TRzesLOUOvueyJeeb+cO6WXsZL0I2JCQgLS09MVs1mAwqntQghs2rRJ9RmbNm0abGxs5IBs7fccsBzQO3bsiKCgINVz3b17FzY2NopzdIUQqpkb3333HYQQmDFjhmJ/SkoKhBDYvn27vC88PBxOTk6qOkjfU+nHobK2oZbaaHMqqw7WtOMAsGzZMgQHB0On0ym+982aNVOUa9OmDdq3by//febMGdVIcPF27N69e7CxscG4ceNUdXnnnXcghEBmZiaAijsOFifN9im6lUR6DdZs5o5/ly5dQkZGBr744gvExcXB1tYW8+fPl2+XAnrR2QMSKaBfvXpVUf8LFy7g559/BlB4mkPz5s0xd+5cAIU/XAUEBMDNzQ29e/fG5cuXS3x9DOhUEzCgE5XT4zyCfuXKFQgh8NZbb5VYrqwdk169epl9HCGE2Y5Qly5dSuxkFJ0mZ2lxofDwcEVn+lEDunTecVF16tRB//79AQBz5swpsa62trby/SwtElf8/Txy5Ajs7OwQGRmJjRs34tChQ8jIyMDrr7+uen9Pnz4NIYQ8JfGLL75QjdpJ71PRgN6oUSPVKuYA8NNPP0EIgTlz5gAoe0B3cHBQPaY55jqVpf1vTp48iYyMDHmT3rei+zIyMuSOYUkSExMhhMDmzZvlfdZOcTcnLS0NDg4O+OGHH5CTkwM/Pz/MmjUL2dnZ+PDDD+Hm5obff/+91Hr9Jf7HR9Bv3LiBCRMmyD/YODo6YtiwYXJIWLt2balBRQoF1n7PAcsBvXHjxiU+18iRI+WyQiingQN/fheKhiLgz+9eUlKSvC88PByNGzdW1UE6rWXRokUAyt6GWmqjzamsOljTji9cuBBCCMTFxSE5ORlff/01MjIy0KNHD8WaAMCfiz5KgXrKlCnQ6XSKGVvF2zGp/Su+ijlQeNqEEAJfffUVgIo7Dlq6f9GtJA8fPlS1gX369EFISIhqv3SaWkni4uJgb28vz6IryxR3c2bPno3AwEDk5OQgMzMTOp0OO3bsQFZWFmJiYhAWFlZifRjQqSZgQCcqp8f5YJGdnW3VCPq8efMghFAtbCYtvGVucRxzzHVWAeC5556Dh4eHqnMhbWfPni318SsqoJc2srZ8+XJ5tM5SfSXWBvSJEydCr9erPmPmAjpQOBrerl07AEBUVBS8vb1VizWVdQRdCvzp6ekQQmDnzp2KctI0VXOLxFnDXKfSms5jUeVZJO7HH3+EEAL/+Mc/5H1du3ZVjcIBf37eLQX/Bw8ewN/fH/PmzQMAfPvttxBCKF6Pu7u7apEpKr9Lly5hyZIlMBqN6N69OwBg586dEEJgyZIlFr+TDx8+BFAxI+ihoaFo2bKlxecq+n2tiIBuzeh1RbShlvyVdSjejgcHB+Ppp59WlevYsaMqoN+8eVNejC0vLw9eXl6KFcUB8yPotra2JY6gS/WuqONgcb/99pvFY4i1yrNI3OrVqyGEwNdffw3gz0XizM0u6t69u2KRuOLOnj0Lg8GAQ4cOAQCWLFmCkJAQ+fYTJ05ACKE4naC4x7nPRSRhQCcqp8f9YBEREQE3N7cSL4MinVtYfJGbsLCwCgno0giY1EEoibUdu88//9zsyLIlpZ2bKnVCL1y4AHt7e3khnJJYG9Bfe+01ODo6KqbuZmdno379+mYD+rJlyyCEwMGDB6HT6VRTZQF1QJ8xYwaEEDh27Jii3EsvvaQ4B/3q1asQQuDdd99VlJs5c2a5AnpFKE9Al85f37Rpk7xPWkCq6OcuNzcXgYGB8g8g5syaNQstW7aUp6JK579KI7o5OTkwGo2KqcpUsfr37w9PT08Ahes/uLq6KhY7tMTa7zkAhISEKM5fl8yZMwcODg748ccfS32+igjoQpR+/ndFtKGW/JV1KN6Oh4SEyD/ESE6cOAFbW1tVQAeAQYMGoW7duvJ5/sVnwZibCdS+fXt4eXkpFrHLz89Hy5YtFeegV9RxsDKUJ6APGzYMtra2inVoBg4ciNq1ayt+dLx06RK0Wm2pK/4X/R4uXrxYsd6KNH2+pB9nH/c+FxHAgE5Ubo/7wUJaxd3Pzw8rVqzA3r17sWHDBgwePFg+iN65cwfu7u5o2bIltmzZgu3bt+Nvf/sbGjZsWCEBPS8vDz179oS7uztmz56NHTt2YPfu3fjXv/6FmJgYxbRkazt20ohp//79cfDgQWRkZJS40nbx1Z137dqFf/7zn3B0dESrVq3kETig8Dw8e3t7xMbGYsuWLUhLS8PGjRsxadIkzJo1Sy5nbUDfs2cPhBCIiorCrl27sGHDBrRp0wZNmjQxG9Bv374Ng8EAX19fCCHMLkRkaRV3Ly8vrFixQl6J2dz5l126dIGbmxs++ugj7Nq1C9OmTZPrUt0D+vLlyzF06FD8+9//xt69e7F9+3ZMnTpVvuxW0fM7Hzx4gMDAQNSrVw/r1q1DamoqBgwYAHt7e6SlpZl9/MzMTOj1eqSnp8v7Hj58CJPJhP79+yM1NRUvvvgiXFxcynTtXzLv9u3bCA4Oxvz587F9+3akpaVh/vz50Ov1isUS16xZA1tbWwwaNAhJSUnYv38/Nm3ahJkzZypGAsvyPY+JiYFOp0NiYiK++eYbefG2e/fuITg4GL6+vli4cCFSU1ORkpKCjz76CNHR0YqAWhEBXVpBfcmSJUhJScGECRMghPLqCxXRhlryV9aheDsuXfVi1qxZ2LNnDz744AN4eXmhUaNGZgO6dB6/r68vfH19VQtIlrSKe7t27ZCUlIRt27ahe/fuqlXcK+o4WBmsCeijR4/GpEmTsHHjRqSlpWHTpk0YNGgQhBCYMmWKomxmZiYcHR0RFhaGL7/8Eps3b0aLFi3g7e1tcUHZVatWoW7duvL6KEDhKVl2dnaYOXMmdu3ahfbt26Njx44l1vNx73MRAQzoROVWEw4WZ86cQXR0NDw8PKDValG/fn2MGDFCMZXvm2++QYcOHWA0GuHj44P4+HisXLmyQgI6UDhyuWDBArRq1Qp6vR6Ojo5o1qwZYmNjFdcGtrZjBxSuitywYUPY2dmpOmXFSR33Y8eOoW/fvnB0dISTkxMGDx6Ma9euqcpv3boVnTt3hrOzM3Q6HUwmE6KiohSXdLI2oAOF0wz9/f2h0+ng5+eHefPmyaO+xQM6AAwZMgRCCIudneIBHSgcARkyZAg8PDyg0Wjg7++P+fPnqzqxV69eRVRUFNzd3eHi4oLnn38eR48e/Z8I6IcOHUKfPn3g7e0NrVYLBwcHtGrVCgkJCcjKylKV//XXXzF8+HC4u7tDr9cjNDRUdRk7SUFBATp16mT2M3zs2DGEhobCaDSiZcuWqutv06N58OAB4uLiEBQUBGdnZxgMBvj7+yM+Pl71/9y/fz969+4Nd3d3aDQa+Pj4oHfv3orAW5bv+cWLF9GtWzc4OTnJoV5y7949vPHGG/L1vl1cXNCyZUtMnDhRsahjRQT0wMBApKWl4YknnoBOp0PdunXx97//XbWYWHnbUEv+yjoUb8cfPnyIyZMnw8fHB3q9HiEhIdi6dStiYmLMBvT8/HzUq1cPQgi8/vrrqttLuw660WiEwWBAaGio2RkwFXEcrAzWBPTVq1ejU6dOqFWrFuzt7eHq6orw8HCLV6E4evQoIiMj4eDgAGdnZ/Tv3x8//PCD2bLXr1+Hu7u74rMrWbduHZo0aQJHR0d07dq11JknNaHPRcSATlROPFgQET0epIDO2Q1E1RP7XFQTMKATlRMPFkREjwcGdKLqjX0uqgkY0InKiQcLIqLHAwM6UfXGPhfVBAzoROXEgwURERFR5WOfi2oCBnSicuLBgoiIiKjysc9FNQEDOlE58WBBREREVPnY56KagAGdqJx4sCAiIiKqfOxzUU3AgE5UTjxYEBEREVU+9rmoJmBAJyonHiyIiIiIKh/7XFQTMKATlRMPFkRERESVj30uqgkY0InKiQcLIiIiosrHPhfVBAzoROXEg8X/ptOnTyM+Ph4XLlywqnx8fDyEELhx40aF1SEmJgZGo7HCHq8sTCYTYmJiquS5q5oQwuw2b948Vdlr164hJiYGHh4eMBgMCA0Nxe7du1XlPvjgA5hMJri6umLo0KG4deuW4vbc3Fy0atUKM2fOrLTXRX+tpUuX4uOPP67SOoSHhyMwMPCxq4PJZELv3r0r9DGtceHCBQghqvz/WhX27dtnsW1MT09XlT927BgiIyNhNBrh4uKCAQMG4Pz584oy9+/fx7hx41CrVi34+Phg9uzZKCgoUJS5ePEijEaj2XbVHPa5qCZgQCcqJx4s/jclJSVBCIF9+/ZZVf5xC+jHjx/HDz/8UCXPXdWEEIiKikJ6erpi+/nnnxXlHjx4gBYtWsDX1xdr167Frl270K9fP9jb2yMtLU0ut3//ftjZ2WHRokVITk5GkyZNMGrUKMVjvfPOO2jSpAkePHjwl7xGqnyBgYEIDw+v0jowoFesBw8eID09HdevX//Ln7uqSQH97bffVrWNd+/eVZTNzMyEk5MTOnXqhC+++AKfffYZAgMD4e3trXjvZs+eDS8vLyQlJWHVqlVwcHDAmjVrFI/Vs2dPDB8+3Op6ss9FNQEDOlE58WBRftnZ2Wb3FxQUWLytvGp6QK8qWVlZlfbYH3/8MYQo/bAmhMBLL71UarmlS5dCCIHDhw/L+3JzcxEQEIC2bdvK+6ZOnYpu3brJf69btw516tSR//7xxx/h4OCAvXv3WvtS6H9ATQroJbXDj1NAr0qVdawDCo81pX1WpYCelJRU6uNFR0ejVq1auHPnjrzv4sWL0Gg0mDp1qryvbdu2ePvtt+W/R48ejUGDBsl/b9iwAR4eHmU6rrLPRTUBAzpROdWEg0VmZiaee+451K5dG1qtFvXq1cOwYcPk0UApvBYnBaai08iljtdnn32G1q1bQ6fTYdq0aQD+DE7Lli1Ds2bNoNFosGzZMgDAw4cPkZCQAH9/f2i1WtSqVQsjRoxQjXRIj79jxw4EBwdDr9fD398fq1atUtWr+FbStEbpNR4/fhwDBgyAk5MTnJ2dMXToULOjLYmJiQgNDYWDgwOMRiO6deuG48ePK8pIAf3cuXPo2bMnjEYjfH198dprr6lGWt988020bdsWbm5ucHJyQnBwMFauXKmYLtivXz/Ur18f+fn5qvq0bdsWwcHBivep+BT3S5cuYejQofD09IRWq0WzZs2wYMECxeNJnbjiP2yYmxoqvb6TJ0+ia9eucHR0RGhoqMX3uLwqOqB36dIF/v7+qv1vv/02hBC4cuUKAGD8+PEYMGCAfPu2bdvg4uIi/929e3e88MIL1rwEegTXr1/H6NGj4evrK7cNHTp0QGpqqqJcamoqIiIi4OTkBIPBgA4dOqim1Vr7PTeZTKr2w2QyybffuXMHkyZNQoMGDaDRaODt7Y0JEybg3r17iueTPourV69G06ZNodfr0aZNG6Snp6OgoADvvvsuGjRoAKPRiM6dO+PcuXOK+0vh+MCBA2jXrh30ej28vb3xxhtvIC8vT1G2rG2ouTbanMqsQ0ntOFD4vx87diyaN28Oo9EIT09PdO7cGQcOHJDL5OTkwNPTE88//7yq7rdu3YJer8fEiRMBWJ7ifvDgQURERMDR0REGgwHt27dHcnKyokxFHQcrQ0UG9NzcXBgMBsTGxqpu69atG5o0aSL/HRQUhPfff1/+e+LEiejXrx+Awve+Tp06+Pe//12GV1Iz+lxEDOhE5fS4Hyz++9//wtHREQ0aNMDy5cuxZ88erF27FgMHDsQff/wBoOwdk7p168LPzw+rV6/Gvn378M033wAo7Kz6+PggKCgI69evx969e3Hq1Cnk5+ejR48eMBqNmD17NlJTU7Fy5Ur4+PggICBAMfJgMpng6+uLgIAAfPLJJ0hJSUF0dDSEENi/fz+Awk6dFLKWLl0qT+MraVqj9BpNJhOmTJmClJQUvPfeezAajQgODkZOTo5cdu7cubCxscHIkSORnJyMzZs3o3379jAajTh9+rRcLiYmBlqtFs2bN8eCBQuwe/duzJo1CzY2Npg9e7bi+UeMGIFVq1YhNTUVqampSEhIgMFgUJTbtm0bhBCqYJKZmQkhBBYvXqx4n4oG9OvXr8PHxweenp5Yvnw5du7ciZdffhlCCIwdO1YuV9aArtFo0KBBA8ybNw979uxBSkqKxfe4vMoS0N3c3KDX66HVahESEoLVq1erynl5eSE6Olq1Pzk5GUII+bUkJibCaDTi8OHDuHbtGiIjI9GzZ08AhaPpnp6e+O2338r56siS7t27w9PTEytWrEBaWhq2bt2KWbNmITExUS6zZs0a2NjYoH///ti8eTO2b9+OPn36wM7OThHSrf2eHz9+HH5+fggODpbbD+kHuKysLLRu3Rq1atXCe++9h927d+P999+Hi4sLIiIiFD+qSc/VoUMHbN68GVu2bEHTpk3h7u4uh5nk5GR5VkZQUJDi/uHh4fDw8IC3tzcWL16MlJQUjB8/XvUjVFnbUEtttDmVVYfS2nEAOHv2LMaOHYvExESkpaUhOTkZo0aNgq2traKNmjhxIgwGg2LEFyhcO0IIgZMnTwIw346lpaVBo9GgTZs22LhxI7Zu3Ypu3brBxsZG8RmrqONgZShLQK9duzbs7Ozg5OSEbt264eDBg4pyZ8+elY+dxU2ePBk2NjZyfyguLg6tWrXCxYsXcerUKXh7e+Odd94BUDiaHhERUebX8rj3uYgABnSicnvcDxYRERFwdXW1KrwWZ6ljYmdnh++++05VXggBFxcX3Lx5U7F/w4YNEELgs88+U+zPyMiAEAIffPCB4vH1ej0uXbok77t//z7c3d0Vv/g/6hR3aaRFsm7dOgghsHbtWgDA5cuXYW9vj1deeUVR7u7du/Dy8sLAgQPlfTExMRBC4NNPP1WU7dWrl9mRW0l+fj5yc3Px1ltvwcPDQ+6w5+bmok6dOhgyZIii/NSpU6HVahUhsXhAnz59OoQQOHLkiOK+Y8eOhY2Njfz/KmtAF0KYDb8VIS8vD7m5ufK2atUqCCEU+3Jzc1UzCoYMGYJ169bhwIED2LRpE3r27AkhBN544w1FOY1GY3aU6PDhwxBCYP369QAKT8WQXqsQAv7+/vj+++/x+++/o3bt2qpzLqliOTo64tVXX7V4e1ZWFtzd3dG3b1/F/vz8fLRq1UpxuoK133PA8hT3efPmwdbWFhkZGYr9mzZtghACX375pbxPCAEvLy/FyPrWrVshhEDr1q0VYXzRokWKMAkUhmMhBLZt26Z4rtGjR8PW1lZuB8vahlpqo82prDpY044XJ7UJkZGRilktJ0+ehBACK1asUJRv27Yt2rRpI/9trh0LDQ1F7dq1Fedh5+XlyetTSP+jijoOVoTibeDw4cMRFham2l/083X8+HFMmDABW7ZswYEDB7B69Wo0b94cdnZ22Llzp1zu0KFDEEJgw4YNqueVfvj+5ZdfAAC//vornnzySblt7NWrF7Kzs3HgwAEYDAZ8//33ZX5tj3ufiwhgQCcqt9IOFgsXAj4+pW/F+o4ACvdZc9+FC5X3++OPkm+3VlZWFuzs7DBmzJgSy5W1Y1J0qnVRQghFp0oydOhQuLq6IicnR9XBKB56TSaT2WnUoaGh6NGjh/z3owb0o0ePKvbn5ubC3t5eXhTso48+ghACGRkZqroOGjQItWvXlu8bExOjGG2QTJ8+HXq9XrFvz549iIyMhLOzs2pq7a+//iqXmzRpEvR6PW7fvg2gsCNZt25d1Uhw8YDetm1bBAQEqF73kSNHIISQTzV4lIBefNTKkpI6j+aYm2ZsbouPjy/1ufv06QN7e3vFD1EajQZxcXGqslJAL95BvX79Os6dOyf/IDBy5Eh07doVQGFACAsLg6urK9q0aaOYglvlqkMjVY6GSvoRMSEhAenp6YrZLEDh1HYhBDZt2qT6jE2bNg02NjZyQLb2ew5YDugdO3ZEUFCQ6rnu3r0LGxsbxTm6QggMHjxYcf/vvvsOQgjMmDFDsT8lJQVCCGzfvl3eFx4eDicnJ1UdpO+p9ONQWdtQS220OZVVB2vacQBYtmwZgoODodPpFN/7Zs2aKcq1adMG7du3l/8+c+aMaiS4eDt279492NjYYNy4caq6vPPOOxBCIDMzE0DFHQeLKygoUL1fJZFegzVbace/W7duwdfXF0FBQfI+KaAXnT0gkQL61atXFfW/cOGCvAjnw4cP0bx5c8ydOxdA4Q9XAQEBcHNzQ+/evXH58uUS68SATjUBAzpROZV2sIiPB4QofTN3am5oqHX3LZ4/7twp+XZrXblyBUIIvPXWWyWWK2vHpFevXmYfRwhhtiPUpUuXEjsZRafJWVpcKDw8XNGZftSALp13XFSdOnXQv39/AMCcOXNKrKutra18P0uLxBV/P48cOQI7OztERkZi48aNOHToEDIyMvD666+r3t/Tp09DCIHly5cDAL744gvVqJ30PhUN6I0aNUJkZKSqLj/99BOEEJgzZw6Asgd0BwcH1WOaY65TWdr/5uTJk8jIyJA36X0rui8jI0O1Ors5iYmJqvfJ2inu5qSlpcHBwQE//PADcnJy4Ofnh1mzZiE7Oxsffvgh3Nzc8Pvvv5dar79EdWikytFQ3bhxAxMmTJB/sHF0dMSwYcPkkLB27dpSg4oUCqz9ngOWA3rjxo1LfK6RI0fKZYVQr4cgfRfmz5+v2G/uHOHw8HA0btxYVQfptJZFixYBKHsbaqmNNqey6mBNO75w4UIIIRAXF4fk5GR8/fXXyMjIQI8ePRRrAgB/LvooBeopU6ZAp9MpZmwVb8ek9i8hIUFVlzVr1kAIga+++gpAxR0HLd2/6FaShw8fqtrAPn36ICQkRLVfOk2tJHFxcRBCyKcglGWKuzmzZ89GYGAgcnJykJmZCZ1Ohx07diArKwsxMTEICwsrsT4M6FQTMKATldPjPIKenZ1t1Qj6vHnzIIRQLWw2f/58sx0TS6vzmuusAsBzzz0HDw8PVedC2s6ePVvq41dUQC9tZG358uWQRuss1VdibUCfOHEi9Hq96jNmLqADhaPh7dq1AwBERUXB29tbtVhTWUfQpcCfnp4OIYRiyiPw5zRVc4vEWcNcp9KazmNR1p6Dbo40/bbo6+ratatqFA748/NuKfg/ePAA/v7+8nXVv/32WwghFK/H3d1dtchUlakOjVR5GqoiLl26hCVLlsBoNKJ79+4AgJ07d0IIgSVLllj8Tj58+BBAxYygh4aGomXLlhafq+j3tSICujWj1xXRhlryV9aheDseHByMp59+WlWuY8eOqoB+8+ZNeTG2vLw8eHl5KVYUB8yPoNva2pY4gi7Vu6KOg8X99ttvFo8h1rLmHHRLYmNjIYSQjz/SInHmZhd1795dsUhccWfPnoXBYMChQ4cAAEuWLEFISIh8+4kTJyCEUF3WrSgGdKoJGNCJyulxP1hERETAzc2txMugSOGm+CI3YWFhFRLQpRGwr7/+utT6Wtux+/zzz82OLFtS2rmpUif0woULsLe3lxfCKYm1Af21116Do6OjYupudnY26tevbzagL1u2DEIIHDx4EDqdTjVVFlAH9BkzZkAIgWPHjinKvfTSS4pz0K9evQohBN59911FuZkzZ5YroFeE8gT0Xr16QaPRKD7n0gJSRT93ubm5CAwMlH8AMWfWrFlo2bKlPBVVOv9VGtHNycmB0WhUTFWmitW/f394enoCKFz/wdXVVbHYoSXWfs8BICQkRHH+umTOnDlwcHDAjz/+WOrzVURAF6L0878rog215K+sQ/F2PCQkRP4hRnLixAnY2tqqAjoADBo0CHXr1pXP8y8+C8bcTKD27dvDy8tLsYhdfn4+WrZsqTgH0BoZJAAAIABJREFUvaKOg5XhUQP6zZs34ePjg9atWyv2Dxw4ELVr11b86Hjp0iVotdpSV/wv+j1cvHixYr0Vafp8ST/OPu59LiKAAZ2o3B73g4W0irufnx9WrFiBvXv3YsOGDRg8eLB8EL1z5w7c3d3RsmVLbNmyBdu3b8ff/vY3NGzYsEICel5eHnr27Al3d3fMnj0bO3bswO7du/Gvf/0LMTEx2Lx5c6mPX7xj9+OPP0IIgf79++PgwYPIyMgocaXt4qs779q1C//85z/h6OiIVq1aySNwQOF5ePb29oiNjcWWLVuQlpaGjRs3YtKkSZg1a5ZcztqAvmfPHgghEBUVhV27dmHDhg1o06YNmjRpYjag3759GwaDAb6+vhBCmF2IyNIq7l5eXlixYoW8ErO58y+7dOkCNzc3fPTRR9i1axemTZsm16W6B/R3330XI0aMwJo1a7Bv3z5s3LgR3bp1gxACb775pqLsgwcPEBgYiHr16mHdunVITU3FgAEDYG9vj7S0NLOPn5mZCb1ej/T0dHnfw4cPYTKZ0L9/f6SmpuLFF1+Ei4tLma79S+bdvn0bwcHBmD9/PrZv3460tDTMnz8fer1esVjimjVrYGtri0GDBiEpKQn79+/Hpk2bMHPmTMVIYFm+5zExMdDpdEhMTMQ333wjL9527949BAcHw9fXFwsXLkRqaipSUlLw0UcfITo6WhFQKyKgSyuoL1myBCkpKZgwYQKEUF59oSLaUEv+yjoUb8elq17MmjULe/bswQcffAAvLy80atTIbECXzuP39fWFr6+vagHJklZxb9euHZKSkrBt2zZ0795dtYp7RR0HK4M1AX3w4MGYNm0akpKSsG/fPqxYsQL+/v6wt7c3e2UQR0dHhIWF4csvv8TmzZvRokULeHt7W1xQdtWqVahbt668PgpQeEqWnZ0dZs6ciV27dqF9+/bo2LFjifV83PtcRAADOlG51YSDxZkzZxAdHQ0PDw9otVrUr18fI0aMUEzl++abb9ChQwcYjUb4+PggPj4eK1eurJCADhSOXC5YsACtWrWCXq+Ho6MjmjVrhtjYWMW1ga3t2AGFqyI3bNgQdnZ2qk5ZcVLH/dixY+jbty8cHR3h5OSEwYMH49q1a6ryW7duRefOneHs7AydTgeTyYSoqCjFJZ2sDegAsHr1avj7+0On08HPzw/z5s2TVy0vHtCBwpXKhRAWOzvFAzpQOAIyZMgQeHh4QKPRwN/fH/Pnz1d1Yq9evYqoqCi4u7vDxcUFzz//PI4ePfo/EdA///xzPPXUU/D09IS9vT2cnJzQqVMnsysSA4WrEA8fPhzu7u7Q6/UIDQ1VdVYlBQUF6NSpk9nP8LFjxxAaGgqj0YiWLVuqrr9Nj+bBgweIi4tDUFAQnJ2dYTAY4O/vj/j4eGRlZSnK7t+/H71794a7uzs0Gg18fHzQu3dvReAty/f84sWL6NatG5ycnORQL7l37x7eeOMN+XrfLi4uaNmyJSZOnKhY1LEiAnpgYCDS0tLwxBNPQKfToW7duvj73/+uWkysvG2oJX9lHYq34w8fPsTkyZPh4+MDvV6PkJAQbN26FTExMWYDen5+PurVqwchBF5//XXV7aVdB91oNMJgMCA0NNTsDJiKOA5WBmsC+rx589C6dWu4uLjAzs4Onp6eGDBggMXLvx09ehSRkZFwcHCAs7Mz+vfvjx9++MFs2evXr8Pd3d3sNdbXrVuHJk2awNHREV27di115klN6HMRMaATlRMPFkREjwcpoHN2A1H1xD4X1QQM6ETlxIMFEdHjgQGdqHpjn4tqAgZ0onLiwYKI6PHAgE5UvbHPRTUBAzpROfFgQURERFT52OeimoABnaiceLAgIiIiqnzsc1FNwIBOVE48WBARERFVPva5qCZgQCcqJx4siIiIiCof+1xUEzCgE5WTdLDIzs6u6qoQERERPbays7MZ0Omxx4BOVE55eXnIzMzkqr9ERERElejGjRvIzMxEXl5eVVeFqNIwoBNVgF9++QVnzpzBlStX8McffyA7Oxv379/nxo0bN27cuHHjVo4tOzsbf/zxB65cuYIzZ87gl19+qepuH1GlYkAnqgAFBQW4desWvvvuO5w5c4YbN27cuHHjxo1bBW7fffcdbt26hYKCgqru9hFVKgZ0ogpUUFCA3NzcKv+1mRs3bty4cePG7XHZcnNzGcypxmBAJyIiIiIiIqoGGNCJiIiIiIiIqgEGdCIiIiIiIqJqgAGdiIiIiIiIqBpgQCciIiIiIiKqBhjQiYiIiIiIiKoBBnQiIiIiIiKiaoABnYiIiIiIiKgaYEAnIiIiIiIiqgYY0ImIiIiIiIiqAQZ0IiIiIiIiomqAAZ2IiIiIiIioGmBAJyKi/8fenYdlUe//Hx9u4QYkFZVcMreTaan9qqOWdVIrS09lh6w0PXq0ci31aIu5VMfKXL6WmR3teOoIKqiYC4LgbqDlvmbuSoo7Grgrsr1+f9xxDzf3wgzMPfMZ5vW4rs/1vcIRZgbe5+uTe+4ZIiIiIhIAA52IiIiIiIhIAAx0IiIiIiIiIgEw0ImIiIiIiIgEwEAnIiIiIiIiEgADnYiIiIiIiEgADHQiIiIiIiIiATDQiYiIiIiIiATAQCciIiIiIiISAAOdiIiIiIiISAAMdCIiIiIiIiIBMNCJiIiIiIiIBMBAJyIiIiIiIhIAA52IiIiIiIhIAAx0IiIiIiIiIgEw0ImIiIiIiIgEwEAnIiIiIiIiEgADnYiIiIiIiEgADHQiIiIiIiIiATDQiYiIiIiIiATAQCciIiIiIiISAAOdiIiIiIiISAAMdCIiIoUkSUK7du2M3o1Sq1+/PurXr+/Xr3H8+HFIkoTevXu7fLx3796QJAnHjx/369dXKjo6GpIkITo62uhdISIicmKgExGR30mSBEmSUK9ePdy6dcvjNvXr14ckScjNzdV575Qrj4GudaiKEugpKSmQJAljxozx+OcMdCIiEhEDnYiI/K4w0CVJwoQJEzxuw0D3v2PHjuHYsWMuH9Mr0M+ePYuDBw8iJydHk69TkpIC/fLlyzh48CAuX76sy/4QEREpwUAnIiK/kyQJVatWRbVq1VC5cmVcvHjRbRsGujH0CnS9lRToREREImKgExGR30mShDp16mDKlCmQJAmDBw9228ZXoG/ZsgWvvPIKatasiaCgINx9993o378/zpw547Jdt27dIEkSjh496vLx7t27Q5IkPP300y4fv3r1KgIDA9GmTRvFx9GuXTtcvHgR/fr1Q61atWC329G0aVP873//8/h38vPzMX36dLRs2RJhYWGoWLEiWrRogenTpyM/P99t+5SUFLzwwguoU6cOgoKCEBERgZYtW7qFZuEl42lpaZg8eTKaNGmC4OBg1KlTB8OGDcOVK1fcPnfxS9zbtWvncnVD0VV4KfqZM2fw6aef4vHHH3ee/9q1a6Nbt27Yt2+f29dQc4l74ffc2yr6OQ4fPowRI0agRYsWiIiIgN1uR7169dC3b1+kp6d7/FqeVkpKCgDfv5jYvn07OnfujDvvvNP5dQYOHOj281b8uGbMmIHmzZsjODgYNWrUQN++fXHp0iW3v7Nr1y507doV9erVg91uR7Vq1fDAAw/gn//8p25XGBARkZgY6ERE5HeFgZ6Tk4N77rkHQUFBOHz4sMs23gI9KioKFSpUQFhYGLp3747hw4fjpZdegs1mQ+3atV3i7Pvvv4ckSZgxY4bL56hVqxYkSUJISIjLe+CXLVsGSZLwySefKD6OBx98EI0bN0bz5s0xePBg9O3bF+Hh4ZAkCVFRUW5/57XXXnO+/37o0KEYNmyY81hfe+01l22Tk5MREBCA8PBw9OrVC6NGjcKAAQPQtm1b1KhRw2XbwjD829/+hvDwcPTv3x8ffPABHnzwQUiShBYtWri93794oEdHRyMyMhKSJCEyMhJjxoxxrsKwnD9/PkJDQ/H888/j7bffdp7/wMBAVKxYEbt373b5GmoCfcqUKS5fs3D9+c9/hiRJeOutt5zbTpgwAVWqVMFLL72EIUOG4L333kPHjh0REBCAGjVq4NSpU85t4+PjnV+vXbt2Lp+78Ot7C/SlS5ciKCgIdrsdf//73zFy5Eg888wzkCQJtWvXRlpamsfj6tKlCypXrowePXrg3XffxcMPPwxJktC2bVuX7Xfv3o3g4GCEhobitddew8iRI/H222+jQ4cOCAoKwrVr10BERNbFQCciIr8rDHQAWLhwISRJQufOnV228RTohw8fRlBQEO69916cPXvWZft169bBZrMhMjLS+bG0tDRnLBXat28fJEnCs88+C0mSsHbtWuefDRs2DJIkYcOGDYqPQ5Ik9OnTB3l5ec6P79+/HxUqVMB9993nsv3cuXMhSRJatmyJ69evOz9+/fp1Z4TGxsY6P965c2dIkuQWvQDc3hZQGIbVq1fHiRMnnB/Pz8/Hyy+/DEmS8Nlnn7n8ndLcJC4jIwNXr151+/jOnTtRsWJFdOzY0eXjZb1J3OrVqxEYGIhGjRq5HPPp06eRnZ3ttv3y5cths9kwYMAAl4+X5iZx165dQ7Vq1VChQgVs3LjRZfvx48dDkiQ888wzHo+rXr16Lr8sys3NRZs2bSBJErZs2eL8+DvvvANJkhAfH++2T1lZWR6vqiAiIutgoBMRkd8VDXQAeOyxxyBJEn766SfnxzwFemFAJycne/y8ha+kF72cu0GDBoiIiEBBQQEAYOrUqZAkCVu3boXNZsOoUaOc2z7wwAMICwvD7du3FR9HxYoVPQZr27ZtIUmSy5+1b98ekiRhzZo1btuvXr0akiThqaeecn6sMKyLX13gSWEYFo9wwPGLCpvNhgYNGrh8XOu7uHfq1AnBwcEul2WXJdB//fVXVK5cGdWrV8eRI0cU70fz5s3RsGFDl4+VJtBjYmIgSRJ69Ojhtn1OTo7zZ7ToL0QKj8vTWxyioqIgSRL+/e9/Oz/27rvvQpIkrFq1SvHxERGRdTDQiYjI74oH+qZNmyBJEh555BFnSHsK9EcffRSSJGH48OEeL4V+/PHHIUkSduzY4fw7b775JiRJwp49ewAAkZGRqFu3LgCgZcuWeOSRRwAAFy5cQEBAgNsrwCUdx0MPPeTxz3r06AFJknDy5Ennx6pVqwabzebxfcW5ubmoUKECqlSp4vzY4sWLIUkSwsPDMXDgQCxYsMDl0u2iCsNw/fr1Hv+88HwWfQ90aQM9KSkJnTp1Qq1atRAYGOj2vu6iVzeUNtDPnj2LevXqITg42OMVDQUFBYiJiUH79u0RERGBChUquOyD3W532b40gV4Yz97uJ9CrVy+3V78Lj6vw562oNWvWuP0SZdu2bahQoQJCQ0PRq1cvzJ492+3O+kREZF0MdCIi8rvigQ4Ar776KiRJQlxcHADPgd6oUSOfNxErXKmpqc6/U3hZ+eTJk5GXl4fw8HC8/vrrAIARI0agQoUKuHz5MuLi4iBJEiZNmqTqOLzdxd1TgFaoUAERERFeP1/NmjUREBDg8rGkpCQ89dRTCAoKch5fy5YtXS7NL/r1Dh065PFzF/5yo+irvaUJ9MIrEKpWrYquXbvi/fffx7/+9S+MGTPG+X73osdcmkAvvOQ/ICAA8+bN87gfhVdT1K5dGz169MAHH3zg/EVN4c9OUaUJ9D59+kCSJCQlJXn8OyNGjIAkSZg1a5ai4/K2D5s2bcILL7yA0NBQ5/f4vvvuc84CERFZFwOdiIj8zlOgHzt2DEFBQWjYsCFu377tMdBbtGgBSZI83pHcm3PnzkGSJDz//PPYunUrJElCTEwMAPmy8vj4ePTr18/t1Xclx6Em0NW+gl7U9evXsW7dOrzzzjsICQlBcHAwDhw44Pb1/PkKem5uLsLDw1GrVi23ewAAQIcOHcoc6Pn5+XjxxRchSRLGjRvn8VgyMjJgs9nQvHlzj28vaNy4sSaBXpZX0NUEeqHs7Gxs3LgRH3/8McLDwxEQEIB169Z53JaIiKyBgU5ERH7nKdABYOjQoZAkCV9++aXHQB80aJDPVzS9adq0KSpVqoTPPvsMkiQ5H4918+ZNBAcHY/DgwbjnnntQtWpVVTflUhvohe9BL/7qN+C4yV3x96B7U3gckydPdvt6ZX0P+pw5c7xGaeEvO15++WW3P7t27RoiIiLKHOhDhgyBJEl48803vRw9sHnzZkiShHfffdftz06dOuW87L6oDRs2QJIkfPTRRx4/p6/3oPfs2dNt+9zcXPzpT3+CJEkuN4MrS6AXVfh9GDJkSInbEhFR+cVAJyIiv/MW6JmZmQgPD0fVqlVRvXp1t0A/ePCg8y7unm6cdvv2bY/vVx48eDAkSUKNGjVw//33u/zZk08+iRo1akCS3O8kr+Q41AR64eX2rVq1wo0bN5wfv3HjBlq1agVJcr2L+9q1a3Hz5k23z134i4rp06e7fT1fd3H/9NNPXT6Pp0BPTk72GpH5+fmoWLEi6tWr5/L4r5ycHOd7/csS6FOmTIEkSWjfvr3P538X/qLgkUcecbl7/rVr1/DXv/7VuR9F7d+/3+N+FCrpLu6bN2922f6LL76AJHm/i7vSQN+wYQMuX77stm3h5x8+fLiXs0BERFbAQCciIr/zFugAMGnSJJf3kxd/DnpMTAyCgoIQGBiITp064d1338WQIUMQGRmJatWqoUmTJm6fMz4+3vn5Bg8e7PJnY8eOdf7ZtGnTVB+HmkAHgK5du0KSJDRo0ADDhg3DO++8g4YNG0KSJHTt2tVl2wcffBBVqlRBZGQkhg4diuHDh+Ppp5+GJDke45WZmen29SIjIxEeHo4BAwaofg464Hi0V8WKFVGlShUMHjwYY8eOxdixY50ROXLkSOf+Dx06FG+99Rbuu+8+1KhRA0899VSpA/3cuXOw2WwICAjAsGHDPN4EsOil5N26dYMkSWjevDneffdd9OnTB/Xq1UPjxo3x0EMPuQV6Xl4e6tSpg+DgYPTt2xefffYZxo4d6/xlhpLnoPfo0QOjRo1yXspfq1Ytr89BVxrokZGRCA0NxXPPPYdBgwZhxIgR6NSpEypUqIDw8HAcPXrU7fMQEZF1MNCJiMjvfAV6dnY2GjRo4DXQAWDv3r3o3bs36tWrB7vdjqpVq6JZs2bo37+/x/fsXrp0CTabDZIkYcmSJS5/VngHeUmSXN7TrfQ41AZ6fn4+pk+fjhYtWiA0NBShoaH485//jGnTprldXr9gwQJ069YNjRo1QlhYGCpVqoRmzZph9OjRuHDhgsevl5aWhi+//BJNmjRBcHAw7rrrLgwdOtTj+/Y9BToArFixAq1bt0ZYWJjbq+K5ubmYPHky7r//foSEhKBmzZro2bMnTpw44fGYlQZ64Xa+VtHPcePGDYwePRr33HMPgoODcffdd+Ptt9/G77//jnbt2rkFOuC4Y/rTTz+NypUrIyAgAJIkISUlBYDv995v27YNL730EiIiIhAUFIS6deti4MCBzrdK+DquojwF+qpVq/D666/j/vvvR+XKlVGxYkU0btwYQ4YMcbkSgoiIrImBTkREZEJKnitORERE5sJAJyIiMiEGOhERUfnDQCciIjIhBjoREVH5w0AnIiIyIQY6ERFR+cNAJyIiIiIiIhIAA52IiIiIiIhIAAx0IiIiIiIiIgEw0C2moKAAV65cQUFBgdG7QkREREREREUw0C3mypUrkCQJV65c0eXrZWVlISsrS5evRVQecGbM78KFC5AkyWVduHDB6N0qlzgvROpwZojEx0C3GAY6kdg4M+bHQNcP54VIHc4MkfgY6BbDQCcSG2fG/Bjo+uG8EKnDmSESHwPdYhjoRGLjzJgfA10/nBcidTgzROJjoFsMA51IbJwZ82Og64fzQqQOZ4ZIfAx0i2GgE4mNM2N+DHT9cF6I1OHMEImPgW4xDHQisXFmzI+Brh/OC5E6nBki8THQLYaBTiQ2zoz5MdD1w3khUoczQyQ+BrrFMNCJxMaZMT8Gun44L0TqcGaIxMdAtxgGOpHYODPmx0DXD+eFSB3ODJH4GOgWw0AnEhtnxvwY6PrhvBCpw5khEh8D3WIY6ERi48yYHwNdP5wXInU4M0TiY6BbDAOdSGycGfNjoOuH80KkDmeGSHwMdIthoBOJjTNjfgx0/XBeiNThzBCJj4FuMQx0IrFxZsyPga4fzguROpwZIvEx0C2GgU4kNs6M+THQ9cN5saArV4AjRxzr5Eng8mWj98hUODNE4mOgWwwDnUhsnBnzY6Drh/NiIRkZwNq1QGKi+0pNBX77DcjPN3ovhceZIRIfA91iGOhEYuPMmB8DXT+cFwsoKAD27/cc5sXX2rXAuXNG77HQODNE4mOgWwwDnUhsnBnzY6Drh/NiAdu2KYvzomvrViA72+g9FxJnhkh8DPQy+P777yFJEsLCwlw+3rt3b7d/nEmShCZNmnj8PN988w2aNGkCu92OBg0a4JNPPkFOTo7bdhkZGejduzeqV6+O0NBQtG7dGmvXrlW1zwx0IrFxZsyPga4fzks5d+SI+jgvXCtX8tV0DzgzROJjoJfS6dOnUaVKFdx1110eAz00NBSbN292WXv27HH7PJ9//jkCAgIwatQopKSkYNKkSbDb7ejXr5/LdtnZ2WjevDnuvvtuxMbGYvXq1YiMjERgYCBSU1MV7zcDnUhsnBnzY6Drh/NSjmVkAMuWlT7QC9f+/Y7L5AkAZ4bIDBjopdSpUye8+OKL6N27t8dAL/4xT37//XeEhISgf//+Lh8fN24cAgICsH//fufHpk+fDkmSsGnTJufHcnNz0bRpUzzyyCOK95uBTiQ2zoz5MdD1w3kpp7KzgRUryh7nhWvLFsDDlYlWxJkhEh8DvRRiYmJQqVIlnDp1qkyBHhsbC0mSsHnzZpePnz17FpIkYdy4cc6PPfPMMx4vkR8/fjwkScLp06cV7TsDnUhsnBnzY6Drh/NSTu3apV2cF73T++3bRh+Z4TgzROJjoKuUkZGB6tWrY/r06QA8x3jv3r1hs9lQs2ZN2Gw21KlTB4MGDUJmZqbLdiNHjoQkSbh+/brb14mIiED37t2d/12rVi106dLFbbukpCRIkoRVq1Yp2n8GOpHYODPmx0DXD+elHMrK0j7OC1dKiuVvHseZIRIfA12lV155BY8//jgK/ng/k6dA/+qrr/DVV19h9erVWL16NT788ENUrFgR9913H65du+bcrl+/fggODvb4dRo3bowOHTo4/zsoKAgDBgxw227Tpk2QJAnz5s3z+Hmys7Nx5coV5zp16hQkScKJEyec/yPtz5Weno709HRdvhYXV3lYnBnzryNHjrgF+pEjRwzfr/K4OC/lbGVmImvdOmQlJPhvrVmDrIwM44/VoMWZ4fK0SCwMdBUWLVoEu93u8t5wpZezL1q0CJIk4auvvnJ+rF+/fggJCfG4fePGjdGxY0fnfwcFBWHgwIFu2xUG+vz58z1+njFjxni8ozwDnYtLzMWZMf9ioOu3OC/lbB044N84L1ypqY5fBhh9vAYszgyXp0ViYaArdO3aNdSsWRPvvfceLl265Fzdu3dHWFgYLl265PFS9UL5+fkICwtD165dnR8rvMT9xo0bbttrdYm7t1fQeYk7kZg4M+bHS9z1w3kpRwoKgLVr/Xd5e/G1b5/RR2wIzgyR+BjoCh0/ftzjK9FFV2RkpNe/n5+fj4oVK6Jbt27Oj82dOxeSJGHLli0u2547d87tJnHPPvss7rvvPrfPO2HCBEiShDNnzig6Dr4HnUhsnBnzY6Drh/NSjpw5o1+cFy6FN9gtTzgzROJjoCt069YtpKSkuK2OHTsiJCQEKSkp+PXXX73+/QULFkCSJHz99dfOj2VmZiIkJMTt0vUJEya4PWbt22+/dYv53NxcNGvWDI8++qji42CgE4mNM2N+DHT9cF7KkQ0b9A/0FSssd9M4zgyR+BjoZVT8PegnTpzA448/jm+++QbLly/HihUrMHLkSISEhKBZs2Zul8F//vnnCAgIwOjRo5GamoovvvgCwcHB6Nevn8t22dnZaNasGerWrYu5c+dizZo16Ny5MwIDA5Gamqp4fxnoRGLjzJgfA10/nJdy4vff9Y/zwrV9u9FHryvODJH4GOhlVDzQs7Ky0LlzZzRo0AChoaGw2+2499578cEHH+Dy5cseP8fUqVPRuHFj2O121KtXD2PGjEFOTo7bdufPn0evXr1QrVo1hISEoHXr1lizZo2q/WWgE4mNM2N+DHT9cF7Kia1bjQv0xETg/Hmjz4BuODNE4mOgWwwDnUhsnBnzY6Drh/NSDly/bmycJyYCq1cDublGnwldcGaIxMdAtxgGOpHYODPmx0DXD+elHDh40PhAT0x07IcFcGaIxMdAtxgGOpHYODPmx0DXD+elHFizxvg4T0wEkpOBW7eMPht+x5khEh8D3WIY6ERi48yYHwNdP5wXk7t40fgwL7r27DH6jPgdZ4ZIfAx0i2GgE4mNM2N+DHT9cF5Mbvdu46O86Fq2DLh61eiz4lecGSLxMdAthoFOJDbOjPkx0PXDeTGxvDxg+XLjo7z42rrV6DPjV5wZIvEx0C2GgU4kNs6M+THQ9cN5MbFTp4yPcW/Ly2NxywPODJH4GOgWw0AnEhtnxvwY6PrhvJjY5s3Gh7i3tW2b0WfHbzgzROJjoFsMA51IbJwZ82Og64fzYlI5OUBSkvEh7mvp9O8kvXFmiMTHQLcYBjqR2Dgz5sdA1w/nxaROnjQ+wEta27cbfZb8gjNDJD4GusUw0InExpkxPwa6fjgvJrV1q3/jeuZMoFcvoFEj4Kuv3P88IUHZ5ymHd3TnzBCJj4FuMQx0IrFxZsyPga4fzosJ5eb67/L2uDigXTtAkuQ1aZLrNl9/DTRsCEydWvLn27XL6LOlOc4MkfgY6BbDQCcSG2fG/Bjo+uG8mNCZM/6J86lTgdoSQa2rAAAgAElEQVS1XeNckoDJk123e/FFx8ftduC993x/zmXLgJs3jT5jmuLMEImPgW4xDHQisXFmzI+Brh/Oiwnt2KF9nI8Z4wjuwigPCwP+/nfgu+/ct33gAdeAf+UV35e8//qr0WdMU5wZIvEx0C2GgU4kNs6M+THQ9cN5MZm8PCA5Wds4//prIDRUDu5GjTyHeeFatAh49lnXSO/Xz/v2ycnA7dtGnznNcGaIxMdAtxgGOpHYODPmx0DXD+fFZM6f1zbOo6OB6tXl0H7sMUeAK/m7/fvLf89mAz7+2Pu2hw4ZfeY0w5khEh8D3WIY6ERi48yYHwNdP5wXk/n1V20D/aGH5Mhu0gRYuFDd3+/aVf77ISHebxy3YoXj1f9ygDNDJD4GusUw0InExpkxPwa6fjgvJvPjj9oG+uzZQJs2QI0awJw56v/+0qWOv18Y6fXrA4sXe942Lc3os6cJzgyR+BjoFsNAJxIbZ8b8GOj64byYyM2b2sZ50RUXV/q/u2iR47FrhZHes6fn7dasAQoKjD6LZcaZIRIfA91iGOhEYuPMmB8DXT+cFxNJT/dfoJd1TZ0KBAYCTz0FzJvnfbvTp40+i2XGmSESHwPdYhjoRGLjzJgfA10/nBcT2b5dm5geNw6IjdU+0mfMKHmb1FSjz2KZcWaIxMdAtxgGOpHYODPmx0DXD+fFJAoKHDdaK2tEL1wIVK0KVK4MvPeeMa+2Z2QYfTbLhDNDJD4GusUw0InExpkxPwa6fjgvJpGVpU0cv/66/F7xxx/3b4jPn+/5ve0//2z02SwTzgyR+BjoFsNAJxIbZ8b8GOj64byYxOHDZQ/muDigUiVHnAcEANOm+SfMlywBBgxwvEr/8suet/n9d6PPaKlxZojEx0C3GAY6kdg4M+bHQNcP58Ukfv657OH897/Lr54/+aT/XjmfORMICnJ8naAg4H//c99m82ajz2ipcWaIxMdAtxgGOpHYODPmx0DXD+fFBPLygKSkskXzvHlAxYqOaK5QAfjvf/17efvLL8u/DGjf3vM2Jv2548wQiY+BbjEMdCKxcWbMj4GuH86LCVy4UPZg7t1bDuYOHfwb54W/ELjjDvkXAp5eRd+61egzWyqcGSLxMdAthoFOJDbOjPkx0PXDeTGBAwfKFsvx8cCdd8rvPVfyODQtVrdu8i8FXnih3LyKzpkhEh8D3WIY6ERi48yYHwNdP5wXE/jpp7KF8siRcii3bKlPnCcmOp61HhLi+Lp2OzB7tvs2JryjO2eGSHwMdIthoBOJjTNjfgx0/XBeBJebCyxbVrZQfuABOdA//VS/QE9MBCIj5a/9yiuetzl71uizrApnhkh8DHSLYaATiY0zY34MdP1wXgSXkVH2SJ45E3j1VaBpUyAhQd9Aj44GAgMdgR4a6nhvevFt1q0D8vONPtOKcWaIxMdAtxgGOpHYODPmx0DXD+dFcPv3axfLesd54erYUX4VvU8fz9ukpRl9phXjzBCJj4FuMQx0IrFxZsyPga4fzovg1q83Jqq1XNOmAWFhjsvdvT3ebcUKIDvb6LOtCGeGSHwMdIthoBOJjTNjfgx0/XBeBJaTU/b3n4uyFi0qeZvdu40+44pwZojEx0C3GAY6kdg4M+bHQNcP50Vg58+XLYqffBLo3h347jvjA13pysw0+qyXiDNDJD4GusUw0InExpkxPwa6fjgvAtu3r/ShO2OG/L7vunWND2+lKzUVKCgw+sz7xJkhEh8D3WIY6ERi48yYHwNdP5wXgW3YUPrQfe01OdB79zY+vAtXbKxjf954w/s26elGn3mfODNE4mOgWwwDnUhsnBnzY6Drh/MiqLI8/3zpUuDOOx1xbrM5HnVmdJgnJgILFzpuFidJQJUqwOLFnrdbvRrIyzP6O+AVZ4ZIfAx0i2GgE4mNM2N+DHT9cF4EVZbnn48dK7963qKF8WFedD3xhLxvo0Z53+7IEaO/A15xZojEx0C3GAY6kdg4M+bHQNcP50VQBw+WPoKLPnf8/feNj/Ki65NP5H1r1cr7dsuXA7dvG/1d8IgzQyQ+BrrFMNCJxMaZMT8Gun44L4L6+efSBXB8PFCpkiOA7Xbghx+Mj/Li+xcRIV9+P2uW92337TP6u+ARZ4ZIfAx0i2GgE4mNM2N+DHT9cF4ElJcHJCWVLoA//VR+hfovfzE+yD2trl2V3cAuORnIzjb6u+GGM0MkPga6xTDQicTGmTE/Brp+OC8Cunix9PHboYMcvyNGGBPgmzf7vsFd0UfA1akDJCR43/bgQaO/G244M0TiY6BbDAOdSGycGfNjoOuH8yKgQ4dKF8YJCfLl48HBjrum6x3ne/c6jiEtzfd2zZvLkf5//+d9uxUrHHe0Fwhnhkh8DHSLYaATiY0zY34MdP1wXgS0cWPpAzkuznFjuDff1D/Oi7/avXOn922HDpUD/bnnfH/eo0eN+T54wZkhEh8D3WIY6ERi48yYHwNdP5wXweTnO957rXdcl3Vt3ep+LHl5wI8/ev9Fgt3uCPRq1RzPbvf2uVetEuq56JwZIvEx0C2GgU4kNs6M+THQ9cN5EUxWlvGxrXatWOH9Zm6+LnXv0QN4+21g7tySv8Zvv+n7ffCBM0MkPga6xTDQicTGmTE/Brp+OC+COXbM+OBWu86c8X48N29q8zXWrHFcXSAAzgyR+BjoFsNAJxIbZ8b8GOj64bwIZtu20gVsz57A008DI0cCixbpF+c7dpR8TD/9pM3XOnnS/+dfAc4MkfgY6BbDQCcSG2fG/Bjo+uG8CGblytLFa506jvdz22zKLhnXYi1fDty6VfIxaXVVwLp1QEGB/78HJeDMEImPgW4xDHQisXFmzI+Brh/Oi0CuXStduH77rXxH9GbN9Hv1PC1N2XH5usw9IQEYPx7o2BFo06bkr+nrcnqdcGaIxMdAtxgGOpHYODPmx0DXD+dFIOnppQvlN96QA/2NN/SJ89RUda9mb9jgPdBr1pRf/Y+NLfnrGowzQyQ+BrrFMNCJxMaZMT8Gun44LwLZvbt0sdy0qRzoM2boE+iZmeqOzddl7i+/LO//oEElf22D/7eAM0MkPga6xTDQicTGmTE/Brp+OC8CWbdOfSjHxjpeeZYk4O679YnzzZvVH9uNG94/3+TJcqA/9FDJX3/LFu3PvQqcGSLxMdAthoFOJDbOjPkx0PXDeRFEdnbpYvmdd+S4ffllfQL94sXSHaO3X0AkJAA1aii/zD0xEbh6VdvzrwJnhkh8DHSLYaATiY0zY34MdP1wXgRx9mzpYrltWznQJ0zwf5xv2FD6Y9y3z/vn7dxZ3WXuu3drd+5V4swQiY+BbjEMdCKxcWbMj4GuH86LIHzFq7cVHw9UquSI2rAwx3/7O9DPni39MWZkeP+8ai9zT0pyXHVgAM4MkfgY6BbDQCcSG2fG/Bjo+uG8CMLbXc59raJR+9hj/o/zH38s2zHm5wPJyZ4/d2kucz9yRJtzrxJnhkh8DHSLYaATiY0zY34MdP1wXgSQl+d4Rbg0r6BPmgR07w58+KH/A/3EibIf65Yt3j9/0cvcBw/2/y8MSokzQyQ+BrrFMNCJxMaZMT8Gun44LwL4/Xf/x3VZV3IykJtb9mP97TfvX+OLL+RAb9NG2X5dulT2fVKJM0MkPga6xTDQicTGmTE/Brp+OC8COHLE+AAvaWl1U7br171/jaVLga5dgfHjlb+ffu9ebfZLBc4MkfgY6BbDQCcSG2fG/Bjo+uG8CMDXZd+irMxM7Y63NM9797ZWrnS8t11HnBki8THQLYaBTiQ2zoz5MdD1w3kRwIoV6sO0Tx/gjTeAadMcN1jzZ5yvW6ft8e7dq+3+nTun7f6VgDNDJD4GusUw0InExpkxPwa6fjgvBrt6VX2QJiQAERGO92rb7cDChf4N9KNHtT3m8+e13b9t27TdvxJwZojEx0C3GAY6kdg4M+bHQNcP58VgJ06oD9Jvv5Vvpvbww/6N82XLtH/eeG6u77vWz54NDBzoeB76uHEl72NSEpCTo+0++sCZIRIfA91iGOhEYuPMmB8DXT+cF4Pt2qU+mgcOlAP99df9G+j+enV640bvX3P4cPn4OnVStp/p6f7ZTw84M0TiY6BbDAOdSGycGfNjoOuH82KwtWvVR/Njj8kBO2WKfwPdX+/vPnrU+9eMiwMCAx3Hd+edyt5jv2mTf/bTA84MkfgY6BbDQCcSG2fG/Bjo+uG8GCg7W30wL10K3HGHI17vuEP548hKs/x5h/TLl31/7YcfVvdLiGXLgFu3/LOvxXBmiMTHQLcYBjqR2Dgz5sdA1w/nxUBnz6qP5ilT5HB97DH/vnq+b59/j3/VKu9f+6235OPs1k3Z/qal+Xd//8CZIRIfA91iGOhEYuPMmB8DXT+cFwPt26c+ml9/XQ7XgQP9G+j+/neOr/ffR0fLx9mwobL9Xb/ev/v7B84MkfgY6BbDQCcSG2fG/Bjo+uG8GOinn9RHc9FLv7/91n9xnprq/+M/dcr3PjRuLB/rd98p2+/r1/2+25wZIvEx0C2GgU4kNs6M+THQ9cN5MUh+vu9HjXlaixcDwcGOYK1WTdnN00q79LhcvKT34P/jH3Kg9+mjbL8PHfL7bnNmiMTHQLcYBjqR2Dgz5sdA1w/nxSCZmeqjeeFC4O23gSeeAF580X9x7o9nn3uTmup9P6ZNkwO9eXNl+75und93mTNDJD4GusUw0InExpkxPwa6fjgvBvH1mDGj15Yt+p2HAwe870dCAnDXXY5At9mAefOU7f/ly37dZc4MkfgY6BbDQCcSG2fG/Bjo+uG8GGTbNuND3Ns6dUq/83Dxou99GTwYGDAAmDlT+f77+e7znBki8THQLYaBTiQ2zoz5MdD1w3kxyMqVxoe4p5WcDOTm6nce8vMdX1PLY1i9Gigo8Nsuc2aIxMdAtxgGOpHYODPmx0DXD+fFANevq4/O774Dxo51vA/dn4G+c6f+52PLFu2P4/ff/ba7nBki8THQLYaBTiQ2zoz5MdD1w3kxwMmT6oOzZ0/He7ErVABGj/ZfoJ8/r//5SEvT/jh++cVvu8uZIRIfA91iGOhEYuPMmB8DXT+cFwPs2aM+OIs+/3zGDP/E+cqVfr003Ktr13zvV3w8MG4c8NJLwBtvKDuWFSscl8/7AWeGSHwMdIthoBOJjTNjfgx0/XBeDJCSoi6clywBQkL8//zzPXuMOydr1njfr7lzHXdxlySgTh3lx+On/83gzBCJj4FuMQx0IrFxZsyPga4fzovOcnMdzxlXE85ffim/et6mjX/i3I9Bq0hJVxU0bar+CgI//cKBM0MkPga6xTDQicTGmTE/Brp+OC86u3BBfTi//rocp2+95Z849+Ml4YqcOeN7/3r3ls9B377KjslPl+xzZojEx0C3GAY6kdg4M+bHQNcP50Vnhw+rj+dWreQ4nTbNP4G+a5ex5+X2bd9XFvz73/I5eOgh5cd18aLmu8qZIRIfA91iGOhEYuPMmB8DXT+cF51t3qwunOPjgbAwR5hWruy/95+fO2f0mQHWr/e+fwkJwJ13Os5DYCAQF6fsuPbu1Xw3OTNE4mOgWwwDnUhsnBnzY6Drh/OisxUr1IXz11/Lrxw/9ph/4jw52djL2wsdOOB7P597Tj4Xo0YpO7bVqzXfTc4MkfgY6BbDQCcSG2fG/Bjo+uG86OjqVfXx3LevHKX9+vkn0HfsMPrMOJT0/vx//Us+F88+q/z4MjM13U3ODJH4GOgWw0AnEhtnxvwY6PrhvOgoPV19PA8aBNSt64jSr7/2T6CfPm30mXHIzweSkrzv58KFgN2u/nFz+/ZpupucGSLxMdAV2r17N55//nnUrVsXISEhqFq1Klq3bo2YmBi3bXfu3In27dsjLCwMVapUQefOnZGWlubx837zzTdo0qQJ7HY7GjRogE8++QQ5OTlu22VkZKB3796oXr06QkND0bp1a6xdu1b1cTDQicTGmTE/Brp+OC86KulRYr5WTIzj/ehax3lSkuPRb6Io6T36LVvKr6JPmaLsGEvxbz1fODNE4mOgK5SSkoIBAwYgJiYGP/74I5YtW4Zu3bpBkiSMHTvWud3BgwdRqVIltGnTBsnJyVi8eDGaNWuGu+66y+0faJ9//jkCAgIwatQopKSkYNKkSbDb7ejXr5/LdtnZ2WjevDnuvvtuxMbGYvXq1YiMjERgYCBSU1NVHQcDnUhsnBnzY6Drh/Oio5QU/7wCXpa1aZPRZ8XV0aO+9/f994Hnn3dc7r5wofLj1PDfbJwZIvEx0Mvo0UcfRd26dZ3/3aVLF0RERLgE8IkTJxAUFIQPPvjA+bHff/8dISEh6N+/v8vnGzduHAICArB//37nx6ZPnw5JkrCpyP8jys3NRdOmTfHII4+o2l8GOpHYODPmx0DXD+dFJzk5xse4p+Xl6kTDXL7sn+M8dEizXeTMEImPgV5GL7zwAho2bAjAEc2hoaEYMGCA23YdOnTAvffe6/zv2NhYSJKEzZs3u2x39uxZSJKEcePGOT/2zDPPoEmTJm6fc/z48ZAkCadVvP+KgU4kNs6M+THQ9cN50UlJN0DztH74wf+BfuOG0WfG3cqV2h+nyqslfeHMEImPga5Sfn4+cnNzceHCBUyfPh2BgYGYMWMGAODQoUOQJAnTp093+3vvv/8+AgICcOvWLQDAyJEjIUkSrl+/7rZtREQEunfv7vzvWrVqoUuXLm7bJSUlQZIkrFq1SvH+M9CJxMaZMT8Gun44Lzo5dEhdUCYkANWrA3ffDURG+ifOU1KMPiue7dgh9C8jODNE4mOgqzRgwADnP7jsdju+/fZb559t3LgRkiRh/vz5bn+v8NXus2fPAgD69euH4OBgj1+jcePG6NChg/O/g4KCPL4qv2nTJkiShHnz5nnd3+zsbFy5csW5Tp06BUmScOLECef/SPtzpaenIz09XZevxcVVHhZnxvzryJEjboF+5MgRw/erPC7Oi05rwwZkJSQoXpdnzHDeDC3n4YdV/V3Fa9cu48+Lp3XgQIn7fmn2bFz/5z9x4803lR/vr79qsn+cGS5Pi8TCQFcpPT0d27dvR3JyMgYOHAibzYYvvvgCgBzocXFxbn+vMNDPnTsHwBHoISEhHr9G48aN0bFjR+d/BwUFYeDAgW7bFQa6p18IFBozZozbPxQZ6Fxc4i7OjPkXA12/xXnRYWVmIispSVU8Xx8yxBnoN3v29E+g6/TvGNXrzBnf+x0fj/xKlQBJQn5YGLKWLFF2vKmpmuwfZ4bL0yKxMNDLaODAgQgMDMSFCxdKdYn7DQ+XLGl5ibu3V9B5iTuRmDgz5sdL3PXDedHB1avqL8d+6in5cWITJ2p/uffKlUBBgdFnxru1a33vf5s28vmZMEHZMS9bBty+XeZd48wQiY+BXkZRUVGQJAlbtmxx3iTO06vdHTt2dLlJ3Ny5c51/r6hz58653STu2WefxX333ef2OSdMmABJknDmzBnF+8v3oBOJjTNjfgx0/XBedJCerj6ga9Z0xKfdDixerH2g795t9FnxraRnxg8bJgf6q68qP+6TJ8u8a5wZIvEx0MvoH//4B2w2m/MfX127dkWNGjVw9epV5zbp6emw2+0YMWKE82OZmZkICQlxi/kJEya4PWbt22+/dYv53NxcNGvWDI8++qiq/WWgE4mNM2N+DHT9cF50sHu3uniOipLjs3lz7eM8MRH4434+wjp92vf+z54tn6OGDZUf9/btZd41zgyR+BjoCvXr1w/vvfceFixYgNTUVCxatAivvfYaJEnC8OHDndsdPHgQd9xxB9q2bYvly5djyZIlaN68Oe666y63f6B9/vnnCAgIwOjRo5GamoovvvgCwcHB6Nevn8t22dnZaNasGerWrYu5c+dizZo16Ny5MwIDA5Gq8tEbDHQisXFmzI+Brh/Oiw5+/FFdPL/3nhyfXbtqH+dJSUBurtFnxbfs7JKPo1Ej+TxFRys79uXLgfz8Mu0aZ4ZIfAx0haKiotCmTRtEREQgMDAQ4eHhaNeuHWJiYty23bFjB9q3b4+KFSuicuXKeOmll3Ds2DGPn3fq1Klo3Lgx7HY76tWrhzFjxiAnJ8dtu/Pnz6NXr16oVq0aQkJC0Lp1a6xZs0b1cTDQicTGmTE/Brp+OC9+lpOjPqCfe04Oz08/1T7QN282+qwok5rq+zhee00+T4MHKz/+jIwy7RZnhkh8DHSLYaATiY0zY34MdP1wXvwsI0N9QNer54hOmw1YsED7QP/tN6PPijL79vk+jkmT5EB/7DHlx//LL2XaLc4MkfgY6BbDQCcSG2fG/Bjo+uG8+NmhQ+riOS4OCAx0ROe992of54mJwM2bRp8VZUr65UZ8PPDH49YQGgosWaLs+FevLtNucWaIxMdAtxgGOpHYODPmx0DXD+fFzzZvVh/QCxcC48b55/J2lffdMVRenuP98r6Op107+VX0ceOUn4dLl0q9W5wZIvEx0C2GgU4kNs6M+THQ9cN58aOCAsdNyfzxKnhp18GDRp8VdTZt8n08w4cDDzwA9O7tuPu90vNw6FCpd4kzQyQ+BrrFMNCJxMaZMT8Gun44L3505YrxQV58me17ffSof85DGa4k4MwQiY+BbjEMdCKxcWbMj4GuH86LHx0/bnyQF10rVzpe1TcTf/6S49atUu0SZ4ZIfAx0i2GgE4mNM2N+DHT9cF78aOdOdcE4cSLwxBNA//7A//6nfZDu3Gn0GSmdVav8E+gnTpRqdzgzROJjoFsMA51IbJwZ82Og64fz4kdr16oLxqLP9X7vPe2D9NQpo89I6ezaVfKxLV0KTJ4MvP++8vOxdWupdoczQyQ+BrrFMNCJxMaZMT8Gun44L35y65b6gH7gATnQZ87UPtBv3zb6rJTOqVMlH1v9+vLj1hYvVnY+kpMdd4pXiTNDJD4GusUw0InExpkxPwa6fjgvfnL2rLp4XrwYsNsdkVmjhvZxvmGD0Wek9LKzSz6+p56Sf7kxdqzy83L+vOrd4cwQiY+BbjEMdCKxcWbMj4GuH86Ln+zbpy6g/+//5MB86intA70MjxUTQmqq7+MbPlw+fy+9pPy8/PKL6l3hzBCJj4FuMQx0IrFxZsyPga4fzouf/PSTuoDu1UsOzEGDtA90s3+P9+/3fXxz5wI2m+P81a2r/LysXq16VzgzROJjoFsMA51IbJwZ82Og64fz4gf5+UBSkrqAbtlSDvRvv9U2zs34eLXiLlwo+Tjvv18+h99/r/z8XL6salc4M0TiY6BbDAOdSGycGfNjoOuH8+IHmZnqAjo+HqhY0RGWVaoACQnaBrpZH69WVH6+46Zuvo6zZ0850AcOVH5+Dh9WtSucGSLxMdAthoFOJDbOjPkx0PXDefGDo0fVBfTXX8th+fjj2sZ5YqJxj1fLzwFungOu/QZcPghcPgBcOQJcPwFkZwL5ueo+3+bNvo9zyhT5PLZqpfz8qLyBHmeGSHwMdIthoBOJjTNjfgx0/XBe/GDbNnUB3b+/HJZ9+2of6NnZ+h7/zXPAxa3A6STgVKLvdeFn4PpJIF/B486OHfN9nAkJQLVqjvNotwOLFik/R7duKT48zgyR+BjoFsNAJxIbZ8b8GOj64bz4wcqV6gJ6xgygXz/Hq+fffKNtnKem6nfctzKAjPUlR7mndWYFcPUYUJDv/fNfuVLy8bZvL/+y49NPlZ+n9HTFh8mZIRIfA91iGOhEYuPMmB8DXT+cF41du6b9K+BlWQcO+P+Yc28AF7eULsyLr3NrgJs+nk2+apXv4x0xwvE+/qeeclzyrvQ8bdum+HA5M0TiY6BbDAOdSGycGfNjoOuH86Kx9HTjo7zo+v13/x7vtTTgdLI2cV50Ze3xfNn7rl2+jzc+Hli6VP15Sk523IhOAc4MkfjKdaDn5+fjxo0bRu+GUBjoRGLjzJgfA10/nBeN7d5tfJQXruXLFUenagX5QOYu7cPc5dX0dUDuddeve+qU/85XRoaiQ+fMEImvXAX6rVu3EB0djVdffRW1a9dGhQoVYLPZEBoaihYtWmD48OHYs2eP0btpKAY6kdg4M+bHQNcP50Vj69api8IPPwTGj1d3QzOlS8Vl26rk5wAZP/k3zou+Nz27yFUAt275L9D37lV0+JwZIvGVi0C/efMmPvnkE1StWhU2mw1NmzZFz5498e6772L06NEYOHAgOnTogPDwcNhsNjzxxBPYtGmT0bttCAY6kdg4M+bHQNcP50VDt2+rj8KaNR03NAsLc1yerWVwHj+u/THm5wAZG/SJ88J1Ogm4cVrehx9/VHb88+cDEycqP19r1ig6BZwZIvGVi0CvU6cOGjdujMmTJ+P8ee835ygoKMC6devQs2dPBAcH4/vvv9dxL8XAQCcSG2fG/Bjo+uG8aOjcOXUBHRUl33G8eXPtXxHW+i2K+bn6vXLuaV37zbEfv/5a8rG3aQNUqOB43NrChcrPmYJ/23FmiMRXLgJ95syZyMtT8AzKItLS0pCSkuKfHRIYA51IbJwZ82Og64fzoqH9+9UF9HvvyYHetau2cb5unbbHVlAAXNxsXJwXriuHlf0ipEMH+dyOGaP8vB0+XOKp4MwQia9cBDopx0AnEhtnxvwY6PrhvGjop5/URfRzz5Xumd1KlsL3UyuW9YvxcV64ft8LLFvm+/hHjZLPbadOys/b+vUlnwrODJHwyn2gr1+/HtevXy95Q4tgoBOJjTNjfgx0/XBeNJKfDyQlqYvoevUcAWmzAXFx2gb6uXPaHdu1NOOjvPhaMcf38cfFOS5xlySgVi0gIUH5ubt1y+fp4MwQia9cB3peXh5sNht27txp9K4Ig4FOJDbOjPkx0PXDedFIZqa6gI6NlV/hbdRI2zhPSgJyc7U5rlsXgNPLjA/y4ivlW2D+dN/n4YEH5HP8n/8oP38nTvg8JZwZIvGV+0APCAhgoBfBQCcSG2HpI0sAACAASURBVGfG/Bjo+uG8aOToUXURPXq0HI+RkdoG+s8/a3NMuTccjzkzOsY9rb2xQNRHwILvvJ+H11+Xz3HfvsrP35YtPk8LZ4ZIfOU+0PkKuisGOpHYODPmx0DXD+dFI1u3qovoyEg5HkeP1jbQjxwp+/Hk5wHnU40PcW8rfSkw+1+OSF8Y7fk8TJsmn+OHH1Z3BYKPGydzZojEV+4Dna+gu2KgE4mNM2N+DHT9cF40smKFuoj+058c4RgQAMydq22gX7pU9uPJ3GV8hJe0EiY5Aj36Y2BRrPt5SEgA7rzTcZ4DA4EfflB+Dn28h58zQyS+ch3oAHDixAnk5OQYvRvCYKATiY0zY34MdP1wXjRw9aq6gF66FPjrX4G77gIaNtQ2zleudDwSrSxunDY+vpWsn79zBHrUR0D0GGCJhxvt/fWv8qvoH3+s/Dzu2uX19HBmiMRX7gOdXDHQicTGmTE/Brp+OC8aOHGi9EGt5lVdJWvHjrIdS+5Ncd93XnwdWiAHetRHwKxPgfhFrufjww/lG/GpCfQVK7z+ooMzQyQ+BrrFMNCJxMaZMT8Gun44LxrYtUvbyC7LSk8v/XEUFAAXNhof3mrW/LGukT5nHBC/WD4fixYBs2eX7lx6+d8czgyR+MpFoDdr1gxLlixRvP3Zs2cxZMgQTJgwwY97JSYGOpHYODPmx0DXD+dFA2vXGh/mhauEZ3j7JOLzzktaq6e6BnrUR8Cc8cDSJWU/l3v3ejxNnBki8ZWLQP/0009xxx13oG7duhg5ciRWrlyJCxcuoOCPy3tu3ryJX3/9Fd9//z06deqEoKAgPP7449i/f7/Be64/BjqR2Dgz5sdA1w/npYyys9VF38KFjmeg+yPOU1JKfxy514HTycYHt9q1c7Z7oEd9BMRMBJbGl+18rl7t8VRxZojEVy4CHXC8Kv7BBx8gIiICAQEBsNlsqFChAkJCQmCz2WCz2RAQEIC2bdti8eLFRu+uYRjoRGLjzJgfA10/nJcyOntWXfQVPv+8QQPtH6+2b1/pj8Nsl7YXruPxwKyPvUT6JCBhqXx+EhKAmTPVnVMPs8GZIRJfuQn0Qjk5Ofjpp58wadIkDBs2DAMGDMCHH36ImJgYnDp1yujdMxwDnUhsnBnzY6Drh/NSRvv2qQu+F1+U7yr+0UfaBnpGRumO4dpx40O7LGvpJM+BHvUREPuFI9L//negRg3H49biPNzt3dvycKUoZ4ZIfOUu0Mk3BjqR2Dgz5sdA1w/npYzWr1cX0Q0bys8/nzdPuzhPSgLy8tTvf142cGa58ZFdlvXTf70HetRHQOxk4Lnn5F+MjBql/LyuW+d2yjgzROJjoFsMA51IbJwZ82Og64fzUga5ucCyZcpjLzZWjsR77tH21fPNm0t3DFm7jQ/ssq6Dcb4DPeojYPhA+dx36KDu3F6+7HrKODNEwiv3gZ6WloaRI0dixIgRiI6Oxs6dO5GdnW30bhmGgU4kNs6M+THQ9cN5KYMLF9SF3qhRciRGRmob6MeOqd//25eMj2ut1rzPfAf6jBGA3e4491WrAkuXKj+3Bw64nDbODJH4yn2gN2vWDD179sSYMWPw6quvonHjxrDb7WjatKnRu2YIBjqR2Dgz5sdA1w/npQwOHVIX0f58/3lp/k1y4Wfjw1qr5elxa8XXg/fK53/yZOXndu1al9PGmSESX7kP9PDwcLeP3bx5E9u3bzdgb4zHQCcSG2fG/Bjo+uG8lMHGjeoiukEDRxzabNq+/3zVKvX7fuO08VHta52Md//Y7lHAtsHAL/8CDn8LpC+S/2yXl8etFV29npcDvVs3dee4yIxwZojEV+4D/c0338TWrVuN3g1hMNCJxMaZMT8Gun44L6WUnw8kJysPvKLvP2/USNtXz3ftUrfvBfnAuTXGR7hLkCcA+yYC6zoCi2sB6zq4b5PYGJgryWteILDiEWDXB0BanPfHrRWuyf8scg+AP6k7x0UeYceZIRJfuQ/07t27o27duoiKisK5c+eM3h3DMdCJxMaZMT8Gun44L6WUlaUu8EaOlOPwpZe0DXS1j8C9csT4IC9c6UuArQOBxbVd4zu+rvu2Sxu4blN0/VAFWBgJRI3yHen1a8nfh+ho5ed49eoi33rODJHoyn2gT548Ga+//jpatGiB0NBQ1KxZEx07dsQHH3xg9K4ZgoFOJDbOjPkx0PXDeSmlY8fURfQbbzgubZck4OOPtQ10NTfuFeWxaicTgJ3vO14tLx7b84KAZU0d8e5yiftoYOtbwIauwOq2wMJq7n83NhyI7u090P/WRg70/r3VnefMTACcGSIzKLeBfvXqVbeP5efn49ChQ1i0aBHGjBmj/04JgIFOJDbOjPkx0PXDeSmlbdvUh3RcHPDJJ47/q1Wcp6aq2++sX4yP88P/AZIecI/r5P8H7HgHOPGDwsiPB/aOBVb9pUig24CoQd4D/eM3HXEeYge6PAMsWaD8XO/d6ziFnBki4ZXbQK9duzYAoF+/fvjmm2+QmpqKS5cuGbxXxmOgE4mNM2N+DHT9cF5KaeVKbV8FL+3av1/5PudcBU4vMzbOj88D4kLdw/zA5LJ93gNfAckPAfMe832J+/8+BIb3AL7741L4OeOApfHKzvXKlUB+PmeGyATKbaDfvn0bADB16lT06dMHrVq1QlhYGOrUqYPnnnsOI0aMMHgPjcFAJxIbZ8b8GOj64byUwpUrxod54VIzF79vM/7V81OJwE9dHWG+qIbjjuxafu41xR+3NgqY0wyI7us92udNVX6+z5/nzBCZQLkI9IKCAsXbHTlyhJe4M9CJhMWZMT8Gun44L6Xw22/Gh3liouMu8vn5yvY5O9P4MC9c6YuAjf9Qfim7mrUnxjW+Zz/2x6XvQUB0d++RvnC2snO+YwdnhsgEykWgh4WF4bHHHsPgwYMRFRWFPXv2IC8vz+jdEhIDnUhsnBnzY6Drh/NSCtu3qwvp5s2Bdu2Ad97RNtA3b1a+zxd+NibG93wM7ByuY/wvBWb/64/wHgnE1HZ9f/qsv7mG+YwRwMwPgehPgPhFin4pknXxImeGSHDlItC7dOmCRo0awWazISAgADabDSEhIWjVqhUGDBiA7777Djt27EBOTo7Ru2o4BjqR2Dgz5sdA1w/npRTUvP985kz5ruFNm2ob6Glpyvb35jlj4nzbYGCuzfG88l/H6fd1E78sEuEjgDn3ub7nfVZH4J3uwIP3AvZAYMwfl7/HTlJ03rMOHuTMEAmuXAR6oStXriA1NRXjx49HQEAAateu7RLtdrsdDz/8sNG7aSgGOpHYODPmx0DXD+dFpatX1UX00KFyoHfvrm2ge3jajkfnU/WP860DXaN4XQf9vvam74tdwj4amNPSdX/+0bTIc+nbydsu+G/Jgb5+PWeGSHDlKtALXb58GQEBAVi/fj2uXbuGDRs2YMqUKejRowfuv/9+o3fPUAx0IrFxZsyPga4fzotKx4+ri+h27eQQnDhRuzhfvVrZ/t48a3ycp0YCJ5fq9/WPLPTwPvMPgdlPyPs0VZK/Lw3vkreL/hhYPM93oCcmIuvcOX/+lBFRGZX7QCdXDHQisXFmzI+Brh/Oi0o7diiP6IQEIDzcEYGhocCSJdoF+u7dyvZX71fPtw12jfMNXYCTCfr/kmDB514i/XF53+oVifQpw4rcWG6sz0evZSUkIOuXX/z7c0ZEZcJAtxgGOpHYODPmx0DXD+dFpVWrlEf0v/8tB2CrVtpe3n76dMn7euOMvlG8e7TjPefOOH/VmDg/lQisneblju0fArNbO/Yvskigv9HJdbvYyb4DXekVDERkCAa6xTDQicTGmTE/Brp+OC8qXLumLqL79JEDsG9fbQP99u2S9/d8in5BvG8iMN9e7LJ2g+L8VKL749aKR/qc5sCYCPn783Bj9+3i/uM90BMSgMxMv//IEVHplItAj4mJwf79+53PQ2ege8dAJxIbZ8b8GOj64byocOKEuohu2VIOwGnTtItzJf820/PV8+PzgAWV5Dhf007f95x7WulLgTljfET6KOB/w4HKYY7vjz0Q+M8IRc9Hdwb6nj3+/okjolIqF4FeeJf2wueh9+nTBzabDbGxscjPzzd694TCQCcSG2fG/Bjo+uG8qKDm/eeLFwMhIY74q1rV8X50rQL9wIGS91XPV89PJQK7RjheQV/+MJC+2Ng4L1zLJvsI9D9W24fkX6IMedVxx/eifx49BliywHOgL18O5OX5+6eOiEqhXAT68uXL8fnnn+Pll19G/fr1ERAQ4Iz2ihUronXr1hg0aBCioqKwx+K/MWSgE4mNM2N+DHT9cF5UUPP+8wkT5PB78kltL2+/eNH3fhpx5/ZTicDBKcDxOOPDvHBtnVlyoP/zNfn71PYOYPaj7tvMHgvEL3YP9MRE4NQpfX72iEiVchHoxWVmZmLNmjWYOHEiunbtikaNGrk8D93KGOhEYuPMmB8DXT+cF4XUPv986VJgyhSgd2/g00+1i/PkZKCkKxuNeO65iCttseOxab4CfcYIwB7kCPSmf1yiP6uT+3ZzJgIJS90DfeNGXX78iEidchnonly5cgU//vgjJk+ebPSuGIqBTiQ2zoz5MdD1w3lR6LfftH0VvLRryxbf+6nXq+fb/wlsH2p8hJe0lkws+VX0IV2ASe3k99DH2oDo3u7bxU4G/ojzrKJvWbh+XY+fQCJSwTKBTg4MdCKxcWbMj4GuH86LQtu2GR/niYmOXxT4krHe/9G7/0tgXqAjZn98zvgbwvlaG2aUHOjOV8lbFon0MCBqiPs2c6cga+lS10A/eFCfn0EiUoyBbjEMdCKxcWbMj4GuH86LAgUFwIoVxsd5Sa/W3rrg/+BNiwEWRsghm9LJ+Aj3tQ7GKQ/0qFFATAP52GJqAlEfuG2XFfcf10BfvdrxM0JEwmCgWwwDnUhsnBnzY6Drh/OiwOXL6iJ64EDgH/8AJk8G4uO1i/N163zv54WN/o3dkwnAilZywC5rCqQvMT7CS1pxY5VH+sx3gdnh8jHOud/x3PSigT57PLLi/uN6Z/7z5/X5WSQiRRjoFsNAJxIbZ8b8GOj64bwocOyYupCuW9dx0zGbDZg/X7tA37vX+z7ezvJ/6G7pL4frD1WAtNnGx7eStXZayWH+1VDghb8AtaoDL7cCYu3ysc5u6x7os8cDc6fIkb5tm34/j0RUIga6xTDQicTGmTE/Brp+OC8KbNmiPKKjo+XHdjVpou3l7b5epb241b+Re3AqMC9IjtZf/mV8eCtde2NLDvRJg+XvW72awKxuQKwkH290d/dA/+M96UhIAJYtA7KzdfuRJCLfGOgWw0AnEhtnxvwY6PrhvJQgPx9Yvlx5RL/zjhx6XbtqF+dJSUBenud9zLnq38BNXwzE15djNfVF46NbzTqZAMR8UnKkN7xL/t5NHATMbv/HZe4PAFEjPQd6kbu74+hRXX80icg7BrrFMNCJxMaZMT8Gun44LyXIzFQX0k8+KUfe+PHaBfrmzT72cZd/A3fDK3KcL20ApC8yPrrVrpVflxzorz4tf++6tHe893xWN8/vQS8a6IWRvnaNfj+XROQTA91iGOhEYuPMmB8DXT+clxIcPqw8opcuBSpXdgReaCiweLF2gZ6W5nn/cm8Cp5P8F7bH4xzvN58rOR6tdugb42O7NGvn7JIDfcLbcqD/qY7X7TwGemGkX+T/ThGJgIFuMQx0IrFxZsyPga4fzksJNm5UHtFffikHXuvW2r7//OpVz/t3aZ//4zZttuPu7Rt7GR/apV0n4oHZ/wKixwDRH3uP9LtryN/DLz08Bz16IG7FPIGs2Z97/vvr5gAF+br+iBKROwa6xTDQicTGmTE/Brp+OC8+5OU53vutNKK7dZPjbtAg7eJ8jZdLp/NzgDPL9QnckwnAyaXGh7badW4dcHk/cPMcsLnYL1uWLgHifwAWRgGz/3gU20tt5e9h9w7F4rwHEBsMzJVwM+ZJz4E+62Pg3CY+F53IYAx0i2GgE4mNM2N+DHT9cF58yMhQF9KNG8txFxWlXaD/8ovn/btyxPgAFnGdTgIu7QVyrrmer1OnvJ/jhATgh5nA5wPl72Gju4vF92tAbID8fvxZnTxH+sbvgKzd/v/5JCKvGOgWw0AnEhtnxvwY6PrhvPiwf7/yiI6JAQICHGFXv762l7efO+e+bwX5wNlV/gnc43FAyovAb3ONj21VYb4MyNwB5F73/P3MyXE8Ds3XuV44C6hzpxzpXxS7zH1WRznQY22OV9WLB/oP4xz7c3m/X388icg7BrrFMNCJxMaZMT8Gun44Lz6sX688on/4AXjvPcdd3Hv10i7Ok5KA3Fz3fbue7r/QXdfBEaALqwL7Jhof3orCfKfjcXMl2bxZwVsVOjviPNgO/PM1twC/FfNYkUgPBqIHukf63j9+uXHNy839iMivGOgWw0AnEhtnxvwY6PrhvHhx+7a2r4KXdm3c6Hn/zv/on9jdO1aOz7hQ4Mh3xge4r3XhZyBHxb/HTpwo+ZzPnAkM6wf8Z4SXu7h/jtsx9xWJ9HAg6h3X7ZZPkX95cPO8Nj+TRKQYA91iGOhEYuPMmB8DXT+cFy/OnjU+zhMTgaNH3fft5jn/xO6JhcDiWnJ4bn3L+AD3+qp5MnD9pPrv6+3bJV/mXrhiJ/t4zNoYIKamfK5i6gBRRYJ+1sdA2mLHvp5Zru6XCERUZgx0i2GgE4mNM2N+DHT9cF68+OUX4+M8MRHw9G+NCz/7J3o3vCIH57Km4t61/exq4Pbl0n9vlVzmnpgILI2X7+7u8Tno/wRiK8nnbM79QNSH8rY//Vfe53NrgLzs0u8zEanCQLcYBjqR2Dgz5sdA1w/nxYu1a5VH9IcfAqNHA3Fx2sb56tXu+3U7yz/Re/BrYK7NEZrzAoHD3xof4p7W+VQg71bZvrfp6cq/B0viHJe6z/zQQ6B/BET3BWKDgFgJmP2sa6DHjXXd9ws/8xnpRDphoFsMA51IbJwZ82Og64fz4sH16+pCulEjx03FAgOBuXO1C/Q9e9z3LXOH9tF7Mh5IaCS/Evzz340PcU/rwiYg38MN89RSepn7xInAE08A9iDg4zc9B3rh49dmdfH8yLU9Ma7HkOXlkXlEpCkGusUw0InExpkxPwa6fjgvHvz2m/KInj1bfiRXw4bavoJe/PFquTcdNx3TOnw3vynHeXw9IH2x8TFefGXu0PbVZyWXuQ8eLH9vn3nUe6D7Wssmux/L9XTtjoOIPGKgWwwDnUhsnBnzY6Drh/PiwdatyiN66FA54l59Vbs4T04G8vJc9+vyfu3D91gUMD/4j0APAPZPMj7Gi67Ty4ArR7T/Hiu5zH3+fMBud3xv77gD+O9I5YEe/SYQ9QEQ/TFwZGGxY0pyvFWBiPyGgW4xDHQisXFmzI+Brh/OSzH5+Y44VhrSbdrIgT5hgnaBvnVrsf3KA86s0D6ATy4Ftg0C4sKAlOeND/Ki68xK4Jaf5l7pZe7t2snf36GvKwj0D4HZ7YFYGzDn/zk+luLh/fxnV/OmcUR+xEC3GAY6kdg4M+bHQNcP56WYixeVR3R8PBAW5oi3sDDHf2sV6OnFLoO+9pt/Y/jYLOB4nPFR7gzYVUDONf9+r5Vc5v7ZZ3Kgt2wBRI8pIdCHALF2+S0DszoBsZ8C6R7uiH9hI1BQ4N9jJLIoBrrFMNCJxMaZMT8Gun44L8UcOKA8oidOlOPtL3/RLs4TE4HsIq+uFhQA59YZH83lKc4BZZe5x8cDERGO77HNBnw3ueRL3Ge9JAd6bCAQ3R/YHu35WC8f9P9xElkQA91iGOhEYuPMmB8DXT+cl2JSU5VHdJcuRS5/HqpdnG/Y4LpPN8/55xVzo0Pc0zqzEsi5qs/3OidH2WXuRb/Pb76JrNivS34P+pw/y5EeUwNYMs77MfvrMn4iC2OgWwwDnUhsnBnzY6Drh/NSRHa2upBu0EAOt9mztQv0I8VuinbhZ20j+MgMYL4dWPsMkDbH+Ch3xvly4PYlfb/nSi5z/89/5O9zvXrIWhyHrDkTSriD+wgg5k450mc/Dhxa4P2XEmV9tjsRuWCgWwwDnUhsnBnzY6Drh/NSxMmTyiP6u+/kaLv3Xm0vby/674vbl7QP4RWt5HD8qavxYX4q0XFn81sX9f+eK7nMPTERaNrU+f2+MnEisuK+K/kRa9H9HDeLmysBsRKw/B3vx39hE9+PTqQhBroKV69exfDhw/Hss88iIiICkiRhzJgxbtv17t3b7R9nkiShSZMmHj/vN998gyZNmsBut6NBgwb45JNPkJOT47ZdRkYGevfujerVqyM0NBStW7fG2rVrVR0DA51IbJwZ82Og64fzUsSOHcojetYsoGtXoH59oGdP7eK8+L9JMndqG8J7PpbjfGF14ISXV3V1jfNljsv4jZCTAyQllfx9eecdR6DXr4//z955h0dV7A14KaF/oqJerohcGyJFERQQBVGaglcFBRUVRKmCIkUvhN6L0uum9942kAokhBYTCAlJKAFCEggEBEJoISHl/f44Zjdryp4km90sO+/zzAPZPWf37Mz8snnPzPzm9uLFZAf4g+NS3ZLu+H6p9eiPQqp7xfVw+6xx6kAgeAgRgl4F0tLSaNmyJX379mXcuHGVCnrTpk2Jjo7WKgkJCWWOXbZsGfXq1WPOnDlERkayZs0aGjVqxPjx47WOy8vLo3PnzjzzzDO4uLgQHh7OJ598QsOGDdm3b5/szyAEXSCo24iYMX2EoBsOES9/U1wMISHVk2p9Zm9PTtZcU0GuJK/6EuEMH/BtrRHGuF+NL+cXA+FuRsXtYgj+/FN3u3h7w5o1oFKR/XfBx0W3oNtZgnNbTZ3v7Fv5LAJDT/EXCB5ShKBXgeLiYor/nsJz7dq1SgW9efPmOl/v+vXrNGnShAkTJmg9vnz5curVq8eJEyfUj23duhWFQsHhw4fVjxUUFNCxY0d69Ogh+zMIQRcI6jYiZkwfIeiGQ8TL31y/rt9p6tUt169rrinnhH5F+NA3GlHc1QUuqIwv57fPGa/NS8jMrFIbqQU9MBDcNsiQ9CnS1mvOrcB7auX1kbUXigqMXSMCgckjBL2a6EPQXVxcUCgUREdHaz1++fJlFAoFy5cvVz82YMCAcqfIr1ixAoVCQWZmpqzrFoIuENRtRMyYPkLQDYeIl7+pyvZqtVVCQzXrkIseSEnT9CXCZ22lxHCuCnCtD6c3G1/Oc05U3iaGorAQgoOrJ+j+vmC/SMZ69DFS4ji7eXBSx37zNxONXSMCgckjBL2a6BL0+vXr869//Yv69evTpk0bpkyZwo0bN7SOmz17NgqFgrt375Z5jSeeeIKvvvpK/XPr1q0ZMWJEmeN27dqFQqEgLCxM1nULQRcI6jYiZkwfIeiGQ8TL30RGyhfpuXOlzN76FvT4eM313D6rXxkO660ZPd/3X+PL+Y1jRmvqcjl2rEqCfmvtWti2TXrMy1bGKHqpEr5Rd/0YI2GeQPAQIQS9mlQm6OvWrWPdunWEh4cTHh7O3LlzadasGR06dODOnTvq48aPH0/jxo3Lff327dszaNAg9c8WFhZMnDixzHGHDx9GoVDg5uZW7uvk5eVx69Ytdbl48SIKhYL09HT1Hza1WTIyMsjIyDDIe4kiysNQRMyYfjlz5kwZQT9z5ozRr+thLCJessnOylKPiuosPj4UN20KCgUFHTrIP09OOXtWup4bN8g+E0L2aZVeyu3YxWo5L/Jsyc1kV729drXK+f3SZzR2u5cuqamy2ihnxw7yXngBFAry+/TRPOe6kWzHFfKKy2qyk33IOb6j4jo6G0b2jWvGrxdRZBdB3UIIejWpTNDLw8fHB4VCwbp169SPjR8/niZNmpR7fPv27Rk8eLD6ZwsLCyZNmlTmuBJBd3d3L/d1Fi5cWG5GeSHooohSN4uIGdMvQtANV0S8ZJN98qRsib69cKF6u628fv30J+c7d2qk9dIpvQpxXqgmk/jdgz8bV87P7a6b4nnjBtkhIbJu0BS2bAkKBcUNGnDTzk563N+bbKeVsgQ9x3EaBV4vUOT1WOU3SzJijV8vosgugrqFEPRqUlVBLyoqonnz5owcOVL9WMkU93v37pU5Xl9T3CsaQRdT3AWCuomIGdNHTHE3HCJegNhY+dPQBw3S7H8+e7b+prfHxmqu50qkfqeTXwiAI9MgtKf0f2NNa78UDA/uVNgMRic5WVZb5Y4YoekDX3yhec5jh7wp7k4va5Yb7B2kY6r7VWPXikBgkghBrybVEfRmzZrx5Zdfqh9zdXVFoVDw559/ah2blZVVJkncwIED6dChQ5nXXblyJQqFgkuXLsm6DrEGXSCo24iYMX2EoBsOs4+XwkIICpIn0f7+8PfoKY0bS1tv6UvQSxLV5l4x/vrw2iq5l43b1rq4dUtWW920s6O4fn2pH7RsCb6+0nOqAHBaLkPSf5KyupdIetLyiuvschgU5hu7ZgQCk0MIejWpqqB7enqiUCjYsGGD+rEbN27QpEmTMlPXV65cWWabtW3btpWR+YKCAjp16kTPnj1lX7cQdIGgbiNixvQRgm44zD5esrLkS/Ty5ZqR09699Sfnu3ZBwd9ba/110PgiXRvl1mnjtrNc9u2TlSQu/+23NX1h+nTN875uYD9ft6Q7fKARdN9/Q7p3xXV3/Yixa0UgMDmEoFeR4OBgvL29sbOzQ6FQMGLECLy9vfH29ubevXukp6fTu3dvNm3aRHBwMCEhIcyePZsmTZrQqVOnMhnbly1bRr169bC0tGTfvn38/vvvNG7cmPHjx2sdl5eXR6dOnWjbti2urq7s3r2bYcOG0bBhQ/bt2yf7+oWgCwR1GxEzpo8QdMNh9vGSkCBfpIcO1UjZzJn6E/SYGOla8m7oT4hProWkFcYX84uBdS9je2WcPy9L0G+tXKnpCy++CCXbrgUGgttmsN54NwAAIABJREFUGaPoc8H5GY2k7/+s8jq8J28rYIFAICEEvYq0a9eu3KRrCoWCtLQ0srOzGTZsGP/5z39o2rQpjRo14qWXXuK3334jJyen3NfcuHEj7du3p1GjRjz77LMsXLiQBw8elDnuypUrjB49mscff5wmTZrQq1cvdu/eXaXrF4IuENRtRMyYPkLQDYdZx0txMYSFyZPogABo1UoSsoYNwcNDf4J+8aJ0Pddi9CPEF/wh4D+S+IX3hTQd+27XZvnrEBQXGbedq0J+vjSjQYegZwcEwPPPayR9xYpSfcUfHBbL2Bt9Irg21OxNf2p9xfV4KVRMdRcIqoAQdDNDCLpAULcRMWP6CEE3HGYdL9nZ8iV6zRqNjL35pn6ntz94AA9u60+KYyZqRmZVL0jCbgw5z9ptmlJ55IhuQVeppFkUJX3ijTe0j/O2l5cwzrlfqbZ6sfK2uhFn7JoRCEwGIehmhhB0gaBuI2LG9BGCbjjMOl5OnpQv0sOGaWRs2jT9CXpJXpwbx/QjxanO4NlcI33Jq40j55m7IN9E+9XVq/IE3c8PnnpK0y+2b9c+1mWNDEmfA15Pa9rrzwmV16vI6i4QyEIIupkhBF0gqNuImDF9hKAbDrOOl8hI+SK9cCH06gVNm4Krq/4EPSMDCu5B5k79iPHeQRrZ2/O+ceT8YiDcSTV261af4mIID9ct6IGBMGGCNKNixQrtdeiBgeDvJS9hnMc4TZtFfVp5vV4Oh6ICY9eQQFDnEYJuZghBFwjqNiJmTB8h6IbDbOPl7t3qCbU+t1Yrmd5+M1E/UnziD3CtJ4meRzNIdTSOnN84auzWrTmnTskT9H9K+T+L3L3Rwz+HE2vk1W/2cWPXjkBQ5xGCbmYIQRcI6jYiZkwfIeiGw2zj5dw5/Yl2dUtMDBTmSdPBayrFFwIg8CXNSGz0D8aR8yv7oKjQ2K1bc3JzYedO3YKuq6gCwGmFbkFXyZTzknL/mrFrSCCo0whBNzOEoAsEdRsRM6aPEHTDYbbxcvCg8QX90iXIOakfMY6dqpFz/2chw8/wcn4pVJqu/7Dw559VF3SVCvz9tR+Tuzf6aU/5dZ215+G4ESIQ1BJC0M0MIegCQd1GxIzpIwTdcJhlvNy/L1+it2wBS0vw9dWvnAcHw4P7cCm45mJ83g28HtEIetIyw8t55s6Hb1Q3K0u+oPv7w//+By+9BN9+W/Y8OXujh2+U6vKCP8RM0j0L4maysWtIIKizCEE3M4SgCwR1GxEzpo8QdMNhlvGSni5fpIcMkTJ0N28Oq1frT9Dj4+HWaf3I8Vkb2NXl733P+xhezi8Gwq0UY7eq/qkgWVy5gm5lBfXrS33l0UfBx0f7eTl7ozsugFRv2NlBaks3CzijrPymSH6OsWtJIKiTCEE3M4SgCwR1GxEzpo8QdMNhlvESHS1Pov39oWVLSboaNQIPD/0J+tXLcClEf4J8QQVxv8I5O8PL+V+HJZl9GElJkT/F/e23NVuuTZlS9nk5e6Pv3yFlci+ZDRHcTWrbiur+6v6Ht+4FghogBN3MEIIuENRtRMyYPkLQDYfZxcuDB1L2dDkSvXSpRrjeekt/ch4eDjl6Gj03drkcJiW6e1i5f79Mf6lQ0Neu1fSXp58uuxY9MBCcdeyN7rYE0jzA+wmNpB/7X+VtcOe8sWtJIKhzCEE3M4SgCwR1GxEzpo8QdMNhdvFy8aJ8ke7fXyNcv/2mP0FPStDv6LmxSuZOyLtu7BatfeLi5Al6YCB06aLpMzNnln3ez1N3wrgj9hA/WyPo3q0kaa+oHS4FQ+F9Y9eSQFCnEIJuZghBFwjqNiJmTB8h6IbD7OIlNlaeRHt7Q9Omkmg1a6bf/c8vxtVcjtM8pHXnxxcZT9DvpBq7NQ1DTo58QS896+KZZ8ofRXffVrmg+62SprWHvKGR9H2fVN4W148Yu5YEgjqFEHQzQwi6QFC3ETFj+ghBNxxmFS8FBRAUJE+iZ83SiNaAAfqT84g9+hk9jxqmkbfDYwwv5zfijN2ahuXQIXmCrlJBx46Vj6KrAsBxaeWSnuwGZ6zAvdHf7VwfTm2svE3uXzV2LQkEdQYh6GaGEHSBoG4jYsb0EYJuOMwqXjIz5Yv0G29oJGvZMv0JekJYzeU4ZSu4NSiV6dvKsHJ+ZZ/57cFdasu1SgU9MFDqLyV9p02b8kfRfZwrF/Tg9VJdH/pGcyNmZwe4EFBxu4i90QUCNULQzQwh6AJB3UbEjOkjBN1wmFW8yJ3e7uSk2TLriScgIEA/ch7gC6mVCJacckEFQa9ppO3Al4aV80shUHDX2C1peIqLYe9eeYKuUkGnTpWPogcGguv6igXdYT6c9YEMX/Bro2nvIz9X3j45p4xdUwJBnUAIupkhBF0gqNuImDF9hKAbDrOJl4IC+dnbJ0zQyNVnn+lv9HyPa80F+Vip5GE+T0G6t2EFPTfL2C1pPNLT5Ql66VH0Xr1g8+byj/H3BfuFFUt65DapzhOXSlPcI4dCmnvl7ZO5Cx4Y5u9TgaAuIwTdzBCCLhDUbUTMmD5yBd3e3p6WLVsa4QorR6FQ4O/vX6vvERkZiUKh4ObNmzV6HbOJl6pkb9++XRLzJ56ALVv0I+f+3hDnVDM5TvcGn1Lbb8VbGlbOc04auxWNS1ERhIXJE3SVSupHuvqFp3XFgu60ENL9pbqvyjIGsTe6QCAE3dwQgi4Q1G1EzJg+cgU9NzeXq1erlhjp3XffZdq0afq61HLRt6CXd835+flkZWVRXMM/xM0mXmJiqjElXU9T2wMDwWszZNRwevuBkRo5D35dmu5uKDn/65CQPoCzZ+UJutyiUoHTyool/WA18wuIvdEFZo4QdDNDCLpAULcRMWP61OYUdzmCXlxcTEFBQbXfwxCCri/MIl4ePJA/vb02ip8H7N1SM0E+swPcGv6dGK4hpGwznJxfDhP7bJdQUEB2UJD+BD0wEHzdKt4b3W1J+TdiztlDhl/FbXYpGApyjV1bAoHREIJuZghBFwjqNiJmTJ/qTnFfuHAhr732Gk5OTrRr145HHnmEL774gtu3bwMwZsyYMq+blpamni4eGhpK9+7dsbCwICIiAoBt27bx/PPPY2FhQfv27XFyctK6hjNnztCnTx8aN27MK6+8Qnh4uJaglzcVPT4+Xv3eJRw8eJC+ffvStGlTHn30UQYNGkR2drbOay79uj4+PnTs2JFGjRrRrl07/vjjD61rbdeuHcuXL2fs2LG0aNGCtm3bsm7duoc/Xqoyvb02isvvcNqzZpIc2kszer7/M8PJeeZOuH/N2C1Yp8g+dqxqgu7vDzNmwJtvlp/RPTAQ3DZWPIoea6dpjwv+EP0DeDTVvb3etRhjV5VAYDSEoJsZQtAFgrqNiBnTpyaC3qJFC4YPH05SUhL79++ndevWWFpaApCTk8Nbb73F+PHjycrKIisri8LCQrXsvvrqq4SHh3Pu3DmuX7+On58fFhYWbN26lZSUFNauXUuDBg3U8l5UVETnzp3p168f8fHxREVF8frrr1dZ0OPj42ncuDGTJ08mISGB5ORkNm/ezLVr13Rec8nrHj16lPr167NkyRJSUlKwt7enadOm2Nvbq9+3Xbt2PP7442zdupWzZ8+ycuVK6tevz59//qnX9qtzREfLE6klS+Drr8HWVo+jo67gv7rmonxmBwR3B+/HIb2Gsl+VcuuMsVuvzpF99SrZO3fK7wP9+2uSDk6dWv4xAX7gsLh8QfdaoWmPUxulhHGuCnBvDGdtKm+/e5eMXV0CgVEQgm5mCEEXCOo2ImZMn5oIerNmzdQj5gC//vorPXv2VP9c3nTxEtkNCAjQerx3796MHz9e67ERI0YwZMgQAMLCwmjQoAEXL15UPx8SElJlQf/qq694++23K6yPyq655HVHjRrFwIEDtY759ddf6dixo/rndu3a8c0336h/Li4u5sknn2Tt2rUVvrfJk5cHcmXqzTcliapXD9au1Y+gO62CWHv9yPIFFaQ6Gk7OxQhsuWRnZ5N97Jj8PrBqlUbQW7UCb+/yj/O2r3gU/Vipdo8cqplNEdqz8ja8HAZFD4xdZQKBwRGCbmYIQRcI6jYiZkyfmgh6aSEFWLduHc8995z658pkNzMzU+vxxx57DAcHB63HNmzYoH690v8vIScnp8qC/sorr7BgwYIK60OOoL/++ussWrRI65iAgAAsLCwoLCwEJEFfs2aN1jGdOnVi9uzZFb63yZOaKk+i7O219z6vaCpyVYq3PTgvqnlyOGOUrL1C7CogOzub7KtXIThYfl/o0UMj6WPGVHycy5ryBd1npaZt0tzB+zGNpCfMq7wtsxOMXWUCgcERgm5mCEEXCOo2ImZMn5quQS/N+vXradeunfpnObJbwmOPPYajo2OZ13v++efV//+noJd8R5QIelRUFAqFQqtPxsbGagl6t27daizoXbt2ZfHixVrH+Pv7lxH09evXax3TuXNnfvvttwrf2+TZv1+eQH37rUagvvii5nKuCgDHpTVLDnfOAdK9DC/nmUFiL+1KUH/HnD4tvz9s2aK5AdS8Obi6ln+cvzfYLyhf0uNLbdMXN1Mj6D5P6e4nedeNXW0CgUERgm5mCEEXCOo2ImZMn9oU9IEDBzJ16lStYyoS9IqmuA8dOhTQTHG/dEmzzjM0NFRL0E+ePIlCoeDEiRPqY6ysrLQE/bvvvqt0iruca65oinunTp3UP5udoN+9K0+e/P3hqac009utrGou6J47pMzcZ7yrJ8kXVBDUVZKvhPmGFfTcLGO3XJ1G/R3z4AGEhMjvEwMGaG4CDRtWSd9R6h5Fv6CCoNfkJw7M2gvFRcauOoHAYAhBNzOEoAsEdRsRM6ZPbQr6+PHjefPNN0lLS+PatWsUFRVVKOglI9Dbt2/nzJkz6iRxkZGRgJQkrmPHjvTv35+EhAT2799P9+7dtQT9wYMHtG3blhEjRpCSksKuXbt4+eWXtQQ9JSWFRo0aMXnyZI4fP86pU6fYtm0b165dk33NcXFxWkniHBwcyk0SZ1aCLneEc+FCjTh161ZzOff3BfuFsHNt9SU5blapEdInIcPHMHIuksLpROs75swZ+f3C1hYaNZL6mYVFxckIVSpwWqF7FD1le6mt9xrA6U2Vt23OKeNWnEBgQISgmxlC0AWCuo2IGdOnNgU9JSWFXr160bRp00q3LCtB1zZrKSkpvPPOOzRq1Ij27duXGUEHaQu1Ll260KRJE/r06YO3t3eZbdb27dtH7969ady4MY8++iiDBw9WX4/cay7ZZs3CwoJnn32W33//XetazU7Q9+6VJ06l1wdbWtZc0Eu2zDruUj1JLrPGeK5h5Pz6EWO3mEmg9R1TWAjh4fL7xvDhmr7Wv3/Fx/m6l783uu8q7TY78KWmnwS2l7Zhq6h9M3eJpQsCs0EIupkhBF0gqNuImDF95Aq6oOY8tPFy/br8UU19JocrESuv5dUX5apk6dZXydoLRQXGbjWToEzMXLxYhZs3btIadIVC6nebN1d8rPsW3aPoGb7g98zfMy2egDNWlbfz1QNQXGy8yhMIDIQQdDNDCLpAULcRMWP6CEE3HA9tvMjdBuuLLzQjmqNG1Xz03GmVJFHROvanrqicXPuPfa5ta1/OxchqlSg3ZqKi5PeRMWOkXAfvvw92dhUfF+AvJRrUNYqevAoih0Cah7z2vnPeKPUmEBgSIehmhhB0gaBuI2LG9BGCbjgeynh58ACCgnSLkkoF//mPZjTT3r5mcu5tJwmU00JIr2SqcUXlgj+oXtSMnh/+zjCj53czjN1iJkW5MSN3xkZgoLQP+qZN8o71cSl/FD3BufrtfSkYCnKNU3kCgYEQgm5mCEEXGIubN29y4MABXF1dcXZ2JjQ0lIsXLxr7suocImZMHyHohuOhjJe0tKrJ0k8/wWef1UzOA/zBYbEkT5HbqidO0WM1cu7fDjL8al/ObyYbu7VMjgpj5siRms/AKK+U5DQoXfxW1azdr8UYvuIEAgMiBN3MEIIuMAbp6enY2Njg7OzM4cOHOXLkCD4+PiiVSqKjo419eXUKETOmjxB0w/FQxktVphvrTaL+Xi/suABSfasuTCnbwL3R34JeT5q2XNtyfi1GrEeuBhXGzL17sGtX9fpPZbkPAvw0N3/kjKKftYHwdyDVsfL2vydu8AseXoSgmxlC0AWGJjc3F1tbW8LCwigsLNR6LikpCaVSqZUN2twRMWP6CEE3HA9dvNy6ZXg59/PUZNwO31Q9WY63BPcmkqDv+7j25fzKPpEUrppUGjOnTlVdzCdNgqefBheXSmZ6OJYVdK8V0n7opdv1+CJNPwp7u/I+cCkECvMMW3kCgYEQgm5mCEEXGJr4+HhsbGzIyyv/i1SlUrFz504DX1XdRcSM6SMEvXz+ua2cPnjo4iUxUZ4YeXjoT9CdV0vCZD8fznhXX5rPWsOe/pBeg9eQUy6HizXINaDSmKnqtmsjRmiSFH7wQeXHuq4vK+mxdtptm+oMnv+nWSpxbHblfUFsrSd4SBGCbmYIQRcYmpCQEIKDgyt8PikpCWtrawNeUd1GxIzp87AIemX7q1eH3Nxcrl69qpfXKuGhipeCAggO1i1F9vbQuDG8+y6sW1czOfe218hS8PraH/muackMgvwcIzeUaaMzZjIz5fcfe3to2lQS9Hr1YP36SkbbfctOdXdbAhkB2m18dIZG0L0egVSnyvvEvUsGqzuBwFAIQTczhKALDE1YWBi7du2q8PmEhARsbW0NeEV1GxEzpo+5CXp+fr6BrqgsD1W8pKdXfdRy5Mjqy7m/L9gv0sjSSZnbXBlNzndC7hVjt5LJIytmDh+W34/GjNH0x44dpd0FKrwh5FB2FP2AUrudL6ggtJdG0kN7lZ0KX7pcChVT3QUPHULQzQwh6AJDk5ycjLW1NXfv3i33eV9fX0JCQgx8VXUXETOmj1xBL5nyHRoaSocOHWjevDmDBw/m8uXLWsfZ2dnRoUMHGjduzMsvv8zWrVvVzw0fPpypU6eqf542bRoKhYLkZCm7dUFBAS1atCA0NLTca01PT+ejjz7i0UcfpVmzZnTs2JGgoCDS0tLKfIYxY8YA8O677zJlyhSmT59Oq1at6Nu3LwBr166lc+fONGvWjGeeeYbJkydz586dMp+3hIULF/Laa6/h5OREu3bteOSRR/jiiy+4ffu27Lp+qOJl3z55U9ubN5dkqGHDmm2tVnrK8c61VRfm6B8g4kNI9zSMoN86Y+wWeiiQFTN37shPGOfrK61BL5H0mTN19Lt12oLutLBsYsJUJ2n0vETSj06vvG+Iqe6Chwwh6GaGEHSBocnPz8fR0RGVSsX9+/fVjxcVFREdHY1SqeTSJTFFrQQRM6ZPVQTdwsKCAQMGcOTIEeLi4njllVcYNWqU+hgrKyv+/e9/4+vry/nz5/H19eXxxx/HwcEBgE2bNtG5c2f18V27duWJJ55QS/zhw4dp2LChliiXZujQoQwcOJDExERSU1PZuXMnUVFRFBYW4uvri0KhICUlhaysLHJypKnF7777Li1atODXX3/l9OnTnDp1CoD169cTERHB+fPn2bt3Ly+//DKTJ0/W+rz/FPQWLVowfPhwkpKS2L9/P61bt8bS0lJ2XT808XLjhjwZ+v57jQj17199Ofdx0pakE+5Vk+XSWdt9W0O6V+3K+fVYY7fQQ4PsmKlKwrgFCzT9slUr8PSs+Njysrrv3ly2zeNnawTdozmcta28j9zLrP3KEwgMhBB0M0MIusAYXL16FQcHB2xsbAgPDycyMhJnZ2eUSiVJSUnGvrw6hYgZ06cqgq5QKDh37pz6sa1bt/Kvf/1L/XPbtm1xc3PTOm/p0qW89dZbACQmJlKvXj2uXbtGdnY2FhYWLFu2jBEjRgCwYsUKevbsWeG1dunShUWLFpX7XEVT3N999126du2qoxbAy8uLVq1aaX3efwp6s2bNtEbMf/3110qv9588NPESFydvpLJVK40Ibd1aPTkP8AfHJRo5CvyjarKc4QMBz2nkad9/a1fOr0SIjO16RHbMFBXB3r3y+9Wbb2r65rBhlR/r/Y8bRPbz4XQ5MzF299P0s6CuOqa6h0BB+TP1BAJTQwi6mSEEXVATrl69SmRkJL6+vgQEBJCQkKA1Kl4Z9+/fJz4+HpVKhb+/PwcPHuTGjRu1fMWmh4gZ06cqgt6sWTOtx/z8/KhXr57W6zRt2pTmzZurS+PGjXnqqacAKC4u5oknnsDHxweVSsUbb7xBYmKi+vlBgwbx22+/VXit1tbWNGzYkN69e7NgwQKOHz+ufq4yQR83blyZ14qIiGDAgAE8/fTTtGjRgiZNmqBQKNTLW8oT9I4dO2q9xrp163juuecqvN5/8lDES16evOnE06ZpBKhHj+qPnrtt1JajZLeqCXPkUI00+bet3aztl8Oh4J6xW+ihokoxc+2a/H61YwdYWEj9s3592Lixav2wvBtF593A+3FNf0taruNmzj4oKtT9uQSCOo4QdDNDCLqgusTGxqJUKnFzc2P//v3s3r0bGxsbnJycSEtL4+zZs6SmppKbK7a/qQkiZkyfqq5BL42/vz8KhfTVfOXKFRQKBS4uLpw9e1arnD9/Xn1OyTr0GTNmMGvWLIqLi2nVqhWJiYm0aNGi0l0UAC5cuMD27dsZNmwYFhYWbNq0Cahc0KdNm6b1WHp6Ok2aNOGXX34hOjqalJQUbG1ttc6vaA16adavX0+7du0qvd7SPBTxImcqcUAAtG2rEfTVq6s5td1ZW4pUa6omzPGWGllybwSnN9WenF8KgQe3jd06Dx1VjpmEBPn9a9QoTR/t2VPGTI6l2v3xuEvZfnB8IXi3kv6V029uxNVW1QkEBkMIupkhBF1QHVJTU1EqlcTHx1NcXKx+/Nq1a8ybN4/vv/+e7du3o1Qqsba2JioqioICMSWxOoiYMX30JegAbdq0YcmSJZW+X8k69G7duql3TPj0008ZPXo0DRo0qNLv+9mzZ9OlSxcADh06hEKh4Pr161rHlCfoPj4+NGzYkKKiIvVjS5cuFYKui8JCCA3VLT6zZ2tnytbH1Paqrj0/awueLTSCHjO59uQ8MwjyTbhd6zBVjpkHD+Tvje7rK91IGjIE3N1lHO8mTW8v6Y9ey8ufxl7VWRq3z+n+XAJBHUYIupkhBF1QHby8vLCxsSElJUUtGnl5eXh4eKBUKlmyZAnJycnk5uZy/PhxbG1tCQoK0pJ5gTxEzJg++hR0a2trmjZtyoYNG0hJSSExMRE7OzvWrl2rPqZkHbqFhYX6d/uGDRto0KABb775ZqXXOm3aNEJDQzl//jxxcXH06NGDkSNHApCZmUm9evVwcHDgr7/+UieaK0/Q4+PjUSgUbNiwgdTUVJycnGjTpo0QdF2kpckbPf/PfzSCvmBBNae2b9CW86rse37BH3Z21Mh5WO/K1wPXSM53Qu5lnVUnqB7VipmsLPn9zNu7av3SY7t2vzxkpZ8+dP9q7VSgQGAAhKCbGULQBVWhqKiIgwcPMnr0aBYvXoxSqUSpVOLr60tkZCRbtmzh/PnzuLu7s3v3buLj4/Hy8mLdunVMnDiR3bt38+DBA2N/DJNCxIzpo09BB3B1daVr1640atSIxx57jL59++Ln56d+vri4mCeffJI33nhD/ViJMM+aNavSa506dSovvPACjRs35sknn+Tbb7/VGjFfsmQJrVu3pl69elrbrP1T0EFaP/7vf/+bpk2bMnjwYJycnISgV0ZxsbwkXAEBMGuWNDLZvn3l+0xXKE3/2H/aYT6cqcKo5IEvNHLu86S0Nri2Rs/F6GetUu2YOXasejeGdBWVCpzXVL7tmtbNIhXETILEpZX3o0vB8KD83SsEgrqOEHQzQwi6oCpERUWxfft25syZQ0JCAkVFRWRkZLBjxw4GDx7MlClTUCqVjB8/nm+++YYtW7YQERHBsWPHWLBgATNmzMDHx4e8vDxjfxSTQcSM6SNX0AU1x6Tj5fLlqomMvz84OFRdgPx9wH6h7m2tKhs9D3njb0GvD8mra0/ObyYau1UeeqodMwUFsHt31fuflRVYWuroo77aW6+FbSy/f6R7QmgPqS96Pw7ny1mzXrpk7YVC8feHwPQQgm5mCEEXyCU7OxulUsmJEyfw8fEhJCQEgKPHTjBr1mze6Po6348cicPK5bzXqxfv9+7N7OkzST5xjgcPitm7dy+urq44OjqyZ88e9esWFRVx6tQp/Pz8sLe3x8XFhcOHD1e4T7O5IWLG9BGCbjhMOl7276+dEcl/Fpc12nKua4SyXEkPgMNj4fB3tSfn12OlWQWCWqVGMXP9etX63tSp0LQpNG4sZXmv7FhfF+316EnlzNK4ECBtt1YymyO0h+6lFlf2QZGYyScwLYSgmxlC0AVyiYmJwdHRkcLCQk6dSmHu3KVs+tWSGR8O5I+PBzOuV3c+f60jcwb04YMOL2I18mPmDuzL758MJuR/01kwcTw7tmzlaNwxrK2tuXfvHoWFhQQFBaFUKgkJCSEhIYFDhw7h6OiIvb29kBhEzDwMCEE3HCYbL1evypv6W1M599yhLed28+CgHtb46rv8dQiKi3TXm6DG1DhmTpyQ3/+GDNHkTnjlFWkWiNz+6rUCMgLK9pVzDuD1SKlkhZNk9K+DYvs1gUkhBN3MEIIukMu+ffvw9/fn1KmLBP6xgfWffcTYHq/zUaeXWfvJYCb06k6nfz3F1927MK5XD7x/GIfNF58y8723cRo1nBn9euM5ZiQBM37klzHfErF3L0eOHMHGxobMzEyt98rPz8ff3x9XV1etLNDmiIgZ00cIuuEw2Xg5cEC33EyfDt27695PusIRSVftEUm7eeC5rHzpKW+kMtXRMHIuRjgNSo1jpqhI/uwPT09o3Voj6d99J2PGxx+a/rp/R/l9JmG+RtDdLORt93ftT3ETSGBugk+mAAAgAElEQVQyCEE3M4SgC+QSHX2EX3/6lZCfJxIxZSwe309g4aBPiXy7M8v792Rsj9d557lnGdvjdb7uO5DC/9TnVpcWHO/zPM4f9GLm8P8SMmk0O8d/zS9938Luq0+Z/ulHbFu9nJu3b5Z5v+vXr6NUKklLS6v0ui5dukRoaCi2trbY2tqya9cuMjIyaqkWDI+IGdNHCLrhMMl4+esvGXLtC089JUlNvXqwZUvV5DzAr+yWanbzIN5JnjQfHCWNUiatqF05z9oj1ggbGL3EzN27EBwsry+uWiX1YYUCGjaEzZvl913HBRUnM4z8SCPpvq3lJS4Uki4wEYSgmxlC0AUlZGRkqKebL168GEtLS9atW4enpyf7D8TgumQVM/r1ZtWnX+D13nvkt7FQ3wXf/W5n5gzoy5qPB7H0w/f57q2+mjvkJaWxgruvNmHPwM6Mev9txr/VjQHtn8dyQF98powlwmEHmZkasT5//jyzZs1i4cKFuLq6cuDAAXJycrSuOSkpCaVSiY+PD/Hx8Rw/fhx/f3+USiWxsbGGrsJaQcSM6SME3XCYZLzIGT0fN07zu/T116s+el56FLKkBP4hT5rjLbVHJ8/Z146cXw6HgnvGbg2zQ28xk5kpvz8OG6bpz88/L92AqvQGVan90QPWlN9/MnxA9bymrwZ3lxIa6pT0GCHpgjqPEHQzQwi6ACAuLg6lUomXlxdr165l4cKFLFq0iLlz57J+/WZ+/vRTLAf0Y1PfD8n/l0UZ+b7cviWzB/QhaPw3REwZy+pB71NcT1FW0kvJ+s3u/4fTkDeZ1u9Nfn3vbXy++4Ldv0wgfNsGPFzd2LFjB9OnT8fJyYno6GicnJywtbXl4sWLANy4cQOlUkl0dHSZz5OQkIBSqeTSpUuGrkq9I2LG9BGCbjhMLl6uXNEtMx4e8Mgjmt+f69dXTc7LW3de2Uhk6XJ6E3g01UjP4TG1I+eXQuHBbWO3hlmi15g5flxen/TxkbYJLOnTH3+s+xwvG917o5+1Ac//0/TX/SPl9b+/DkNRgX7qQCCoBYSgmxlC0AVXr15FqVQSFxdHZGQkDg4O6n2P9+yJ4qehQ9n82Vcce609/EO6c55uQlC3Nszq3I5Nw4cQPmkMEVPG4v/DV3zfoyvjnnsa927tOd6hDfnNGpYR9eIGCjYNfoelQ/ozb9C77J48hrWfDObzrp2Z8Ol/mfLjZM6dk/bALSgoIDg4GHt7e/Lz8zlw4ADOzs4VrlH38vIiPDzcYPVYW4iYMX2EoBsOk4qX4mKIiNAtJsOHa35v9ulTNTn/ZyZsXWt5tWTHFrxbaWQnvK/uDNnVlnPD/A0iKIteY6aoCKKi5PXNDRvAotQN/7lzdZ/jtlFzgynFq/z+lLhU2v7PVQEBz0kj63L64dX9UJivn3oQCPSMEHQzQwi6ICIiAnd3d3Jzc7G2tub48eMA5OTcI3ieJf97dyh3n26qJda32jYlaGg33L75DNW4UWwaPoQZ/Xrz6/t9mDu4HzP79ebX995m7ScfsGxIf758vTPdn27Nog7Pc7T9MxQ0qQ8KBekvPs6Mfr1Z+8lgpr7Tgxn9evPTB+/xaa8ufNG1M5++1olfR3/Fwf2RANy7dw8rKyuSk5Px9fUlKipK67Ncv36dQ4cOERoayvbt29m8ebOhq1PviJgxfYSgGw6TipfUVN1CsmOHtE5XoZBkxspKvpz/cy/p0tmwdYn2eVfwb6uRc9WLkC5jxF3Iucmh95i5exdCQuT10YkTNX9bPPKIlESusuNVAeC0UurHfqsq7sfR30vbr6V5VK0/XokQyywEdRIh6GaGEHSBp6cnhw4d4uLFiyiVSm7dusW9e/mELlmM29dfU/BoA82Id0MFu996hgUD+7B9xH8Jt5xJvLMdV+PjuHU+jaToaI7u38+Z2Bjunk0hM2ovG3/5mZn//Ygf3nqDgB++Ys+P3+H61ae4dOuMsk9XNg6T5L7bM/9myBt9KW6poKBdfYL7v8bWMSPZ/NlQfhnYF5/Na7l37x4qlYq9e/cSEBCg3k+9uLiYgwcPolQqcXZ2JiQkhCVLljBu3Dh27drFgwemmxFYxIzpIwTdcJhMvOTny5OYHj00AjNihHw5VwWA06qycm4/v/z9pEuXdG/Y2aFUwq1/Q6rMZHJVkvMQyM/RXVeCWqVWYubKFdi5U0Y/VUGvXvDYY7B0qcwbTz6aG08VzQS5oJK3/ry8cjkM8ssmrhUIjIkQdDNDCLrAx8eHffv2kZmZiVKp5OqVa4SvXEXElLHsmTyak6+3AYWCB60aMKdXOxZ98B6bJ4xl3ZKFODk5Vdqep0+fRqlUcurUKXZs2ky8SsXRTWvZP30ygeNGMfO9t7H98lO2f/4R3Z/5N6EDXtMaqS96qh57PuzC7GH9WDqkP7vnTOP3RQvZs3sPcXFx2NrakpeXx/Hjx1EqlSQlJVFUVERhYSFOTk74+PhgZ2eHt7c3p0+fJjU1lfx805rCJmLG9BGCbjhMJl4SE3WLyOLFmt+Hjz+ue3SxdHFdX1bO7ebBni2Vy8kFfwjpoZFzr0fhTC3sk34pWEhQHaHWYubMGXl91c0NHB2ruHTDHewXyLvhpJ4V4gIpW+UdmxkEuVn6rxOBoJoIQTczhKAL9uzZw4IFCwgLC2P+/IWs++lnIqaMJWzSaFYMHUDvZ5/mzzee5sde7RnY6WU2LFnEzZs3yc3NxdvbGw8PD4qLi8t97Z07dxIUFERxcTGurq5ERERIT+TmkrU/iu0TfmDZ0EH89v47DOnYnuCB/bnxVIsya9WL2tRD9WEnfv6gN5+/1pE/xn9H0rEE7O3tUalU2NjYsH//fgDy8vIICwvDxsaGM2fOsH79er7++ms2btyIUqnE1taWI0eOVHjNdQ0RM6aPEHTDYRLxcuOG7tHFgADtJFrTp8uXF09l+XLusRTSdYwqJi4F13qSnHs0hVPr4WIgRRcCyT8fyL0zgdw5FUjOiUBuJAbyV3wgWUcDuXwkkEuxgVz8M5AL0YGkH9Iu5w+UKoeCOZVwg+RkSE6GU6ckl0tLg0uX4No1yMmRZkrn5UlL9QW1R63GTFxc1cS7KsXbURJ096WQpqNfpzpBQDvwailf0i8Gwq0ztVMvAkEVEYJuZghBN1+KiorYv38/Gzdu5IcffsDS0pKvhgyl/4svsvTD91k4uB/Du7xC3+fbMXdAX+Z+MxInezu8vLxwcnLi7t27XLlyBaVSyYULF8p9D29vbw4dOgTAyZMnUSqVxMTEqEexDx8+zOpFi5g4fBiT3utL5NTvcf/2c7b06kJW20fLiHpBuwa4DHmVKe+/ye/DhuD9+ypWrVzNt99+i6urKyEhIdjY2GBra8vx48extbXFx8eHNWvWkJSUxJ07d4iJiUGpVHL48GGD1XVNEDFj+ghBNxx1Pl4KC2HvXnkCsmYNtGsHL78sCbssabEvX87t50Oiq1o8CtIl2c45IUn2pdhAMg4Hkro/kEtBv1Ho1pRzqqUc2xnI0YBAYvz0U6L9QghRZVfJw3buhPBwaTe62FhISoJz5+DyZUnkTXgFU52gVmOmqEjeNoL/vDk1apQ0g0TnzSgrqX8Hr69ctHe/pz0r5NRG+ZJ+4ygUFdZO/QgEMhGCbmYIQTdfoqOj1QnXLly4wPyfZzCndz9yn2rMxFdf4aUnWzHklRcZ9PKLTB8zioCAAPLz87l//z729vb8+eefADg7O3PkyJFy3yM4OJiAgAD1z8eOHcPa2hpbW1u8vb355Zdf+PHHH3F0dGTH9u1kxsQSv3EdtqOGM+Pdt1jasSNX/tWyjKgffusFZvTrzY6R/8V5/GjGjvgcNzcPQkJCiI+PJzc3l7CwMDw8PCgoKMDW1pbExET1dSQkJGBlZcWdO3dqt5L1gIgZ00cIuuGo8/GSnFw1WfHzA3t7mdN+XdUZ2wtt55GvnMfdLfPIWT+Py65bSIkIJDEkkCMyhDvO10VvUl5azoNVN2tlMDUkBPbtkwT+xAnIyJAmKgh5102tx0x+PuzZI/MGk7e0Jl2hgBYtQKnUfY7bFknSo20qmd7uBqoXNJLu2RySV8mX9KtRUHi/9upIINCBEHQzQwi6eXL//n1sbGyIi4sD4PjegzgMH0lBSykhXFFTBT+9/gq/DejL6BHDOXjwoNZ2ZocOHcLFxYXi4mIcHR05evRoue+TmpqKUqlU710OUib2hIQEVCoVlpaWHD16lAcPHmBvb09oaCiFhYXkZV1h16rlfNm9KxN7dWflK6+Q/ffU9+IGCg6M/pRNw4cwe0Afgid8w8z33kY59mvigkN5kF9Ifn6++ubDpUuXUCqVXL58mevXr3PkyBH279/PsmXLiI2Nrd2K1gMiZkwfIeiGo07Hy7VrerXSB76B3HYN5C/bQC5s8uTi8oWkL5zH2bnzSJmjKSeXriDGJ6BCcU7y2aB3GS8r52EEq27VipzrKrt3Q0yMNJX+0iW4c0dMmy+NQWLmzh15SREDAuDNNzU35J99Fjw8dJ/nug4c5sMJ90ok3RUC22sk3b0RJMyvWvK4vBu1W08CQQUIQTczhKCbJ2fPnkWpVJKbm8upmARcv/yG/Mc0+5Tfb9OIsb1e4cieEFxdXYmMjNQ6PykpCRsbG3Xm96ys8pOpFBUVERQUpF73ffPmTXJycjh27Bh2dnaoVCq1+GdkZGBtbY27uzvHjh0jICCAmT/9zKLx41j96VB2TxrN7n7v8udbnYiYMhbPMSMZ2+N1Nnz6Ifb/fYtlX3RDNe5Lwi1nss/Pn21bt5OamoqPjw/u7u6EhoaiVCpxdHTE09OTCRMmYGlpqd5nva4iYsb0EYJuOOpsvMjdemrtWmnU/O+fi1WB5HkHkuMcyBXrQM5vDOTEqkCOLgwkZp5UYuf6cGrOEi0pLymn5y3kiJtX+eLsq+KS5+fgquC814+1JueH/fYQpLprFDmvqOzaJW3XHR8v7XZ3/ToUFBi7kxgHg8XM9etSxetqHHd3aNNGI+lvvgn+/pWfowoA59XSevTzfhVLdrqntP1aiaS71oc/x+vedlCdPG4n3Dot7vAIDI4QdDNDCLr5UVRURHR0NHPmzMFuuzXLBn/E/VaN1F+G+a0b8sewPnw5/FPS09NJTExEqVRy+vRp9WtERERgZ2eHm5sbfn5+lb5fQUEBhw4dwtbWFqVSqU7UduDAAQr+8RfRtWvX2Lt3LzY2NsybN49JkyaRmJhIfs5tkl1ciZr+IxFTxmL75adM7dOTAe2fZ+z7Qyl+TAGNFWT0a8XKUW9j8+UnfPVWDyZ/PRobKymLu52dHefOnaOoqIj8/Hy2bduGlZUVVlZWXLp0qVbqWh+ImDF9hKAbjjoZLw8eQESETjEp3LqD4saNyW/3Ihmzt5G4PJDY+RoRL7fM9ePknOXlynnKnHkcs7GvQM4DuOLxYSlRUdTKSPpBvyh2qe4bXcjllJ07pWY6dgzOn4fsbPOQdoPGzOXL8rZf27YNmjfXSPqgQdKWbJWdE+AHTitAtaZy4c7whfA+Wn2fiCGQUYnY/7P8dVBMeRcYFCHoZoYQdPPh+vXr7Nmzh+XLl/P555/zRvfuTOrZR0vOHzzVgIDxw/B3duTrr7/m6NGjFBcXExUVhVKpxNPTk8DAQH7++WcWLFiAh4eH7HXc+fn5ZGZmkpmZSV5ens7jS6amZ2Zmqh97cPM2zvPmMbZnd8b06MqPvXuwv2dX7TXqjRSk9XiKn/v14NMuHVg+/BOmjfme5ETNDYYjR45gbW3N3bt38ff3Z+fOnVWvUAMhYsb0EYJuOOpcvBQWwuHDZWTivlcg1+0DSd8SyKk1gcQv9OdOm5fVv8euvDGkcjGfF0jMXH9OzFlVoZwnrt9crjTH+vpxzeNdLUFJ85qkdzmP8o8lUFVodPGuadmzR0pGnpYGt249fIOnBo+ZtDR5Fb90KTTUzOzjyy91n+PvA45LIVxHErgLAbB/pLakx8+WL+glU97vXzNcvQnMGiHoZoYQdPMgMzMTGxsbrKysWLBgAZvXb2Jirz7cf0Ij5wVP1Gfl0B6cOHwQd3d3Vq9ejZWVFQcOHODq1aucOHGCHTt2MHXqVCwtLUlMTCwzAq5vfHx88PT05N69e9y9exeVSsXYsWP5YfRohvbswajur7FhQH9iOnSiuIF2IjnqK7j86uPM7tuVd55ry9yPPsBvy3bCQ/egVCrV6+ZL9mqXc9PAGIiYMX2EoBuOOhUveXkUR+3nnoe0TjxtU9np6SXlQr9vNEuMHmvNkd88dch5AMmWv1co5yeWryp33Xmsrw/Z7pp9zotd63POa7re5TzCP5lAVbHR5bo2SlCQlJg8OVkaEK6jXx2yMUrMnD0rr7JnzdL+Xv/hB/mSftBKt2QfmQZuDaUs73KnuZc75b1I92cWCGqAEHQzQwj6w09RURHOzs4EBQURHh7Ots3bcBnzQxk5t/lyAD9PGM+qVatwdnZWrxV3cnJST023sbEhKipKvU1abZOTk4OLiws7duxg/vz5zJo1i9GjR/PHH3/g7+/PoZAQFnw5guVDBxD21Vcc6dSeokb1ymR9z3mlOav6duaDDi8yfeD7uK/byP27UnrfknX0d+7c4c6dO5w7d47U1FRyc3MN8hl1IWLG9BGCbjiMHS937kgZxBMP3yFh7R7dU9TnBXLy2xUU16svJcGsV58T363RIecqkizXVijnpxYsJtbDp4w0H/V1J8f9VbWcF7lakOI9V69i/qffTnYHnDe6RBu67N4NR45I27/duCHtLmYqGC1mzpyRV7k//KD9nT5zpjxJd1oOR+x1S/bJ9ZDuVc4oexWE/Uok5IvvaUHtIQTdzBCC/vBRVFTEvXv3ePD3/jIlmdSzs7PZ8Mc6tn77FcHva7KkFrSqz6S32rN87hymTZvGmjVrtKatFxUVcfXqVbKysowyynz//n3c3NyYOHEiS5YsYfLkyZw4cUKdXC4rK4v1y5YRsMASzzEj+eyl5znQ7SUKm9XX+lKP7fosU97pwabhQ4iYMpaIWT9zxNOfqIgDKJVKgoOD1TcilEol1tbWREZGquvRWIiYMX2EoBsOQ8ZLbq40gnrqFERHSzngdvnmEbkpkT/n79I9RX1eIMemOZDf4jH176nMd76QIefrK5Tz05bziXMsu0Vago8V99zaquW80LUJp7yX6lnOgwgLyDK6LNeFsmsXHDwIJ09CVhbcr8PLlY36HSNX0r/8UoqR554DJyd55/j7gstqSHCu+sh4/BzY1QXOVrJ1W3mj6TeTxJ7pglpBCLqZIQT94eH+/fscOnQIe3t7tWSGhoYSGhqKi4sLmefOM/OD/lh/8QkRU8YS2a8zBU/Ux+XbD1m+YB4XL14kJCSEoKAgY3+UMnh6ehIZGcnly5fLzRofEBBAWFgYLjuUDOvzDqqJ37Fn3Cj29u5KXksLihsq2PFBXzYPH8Ls/n2ImDIWh++/wnPcMGYO7MfE4SPYvkXJqVOnyMvLIzMzE2dnZ6ZOncrEiRPZsWMHLi4u7N69u8KM9bWFiBnTRwi64aiteMnPh6tXISVF2rIrLKyUjPnmEW53kaj1cfy5MFiWmMfMCyTG0p9bz3bSzPT5z2vEWPpXOq29spHzlDnzOGZlV05COBV33F5Uy3mB6/+R7PO7XuX8kF8kQao7epFblar8pN1eXtI22b6+UqJ7f3/decPqUgkPl9ayZ2RISf3rCkb/jklNldcpJk4EV9eqVXqAP7itg0RX+aJ9xgo8mkvx4tEUYn+s2mh61m64f9V49Sl4KBGCbmYIQX84yM3NxcPDAwcHB2JiYsjIyODEiRN4e3szf/58Zv8yg/BfJrNsSH+WDekvjSBPGUvwz6OJjZLWZN+4cQN7e3tiYmKM/XHK4OjoyLFjxyguLsbDw4Ndu3Zp7cseGRmJn58fixYtwtLSksI7dznt78PBOTPYO/FbvD7ow4x+vZnWtxdje7yO+7cjONn7OYpbKTjy3rPMG9wL1YQxHNy4BV97D5RKJb///jvfffcdffv2ZdKkSezYsQMPD+m5+Ph4g312ETOmjxB0w6GPeHnwQNqy/OxZadry7t0Q6F9IkMdtQh2vsEd5jn0bEziw6iDRi0LlC/k/RsKvdPtALed5//cEcdOdK00Il2y5plI5T9iyo0KBTvTZSKFrU3LdniHBp+LjqlP2+ccTqCrE1xccHGDTJim/15IlZX3pm2/gjTfglVegXTt46il49FFo0QKaNNHkBPvgg7LnNm1aZvUS9epBo0bS+Y8/Dq1bw7x52ufZ2UmvN3y49P6TJsGMGTB/PqxcCRs3gq0t+PgYVthDQqSZF6dPw19/GS9jfJ34jklPl5fd/Z+l1JaElcq951Y47iJPsE+uBe8ntBPIBb0GZ62rNgp/46jI9C7QG0LQzQwh6A8H+/btw9HRsUw7FhUVsdpyAQu6v4lf3zdw+eZzZvTrjcOoYUTOnsa1i2mEhobi5eVFVFQU1tbW3L5920ifomJ8fHzYvXs3IK0Zt7a2RqVSkZaWxq1bt9i6dSuLFi3if//7H1u2bKG4JM1uUREXDhzg8NL5eH03kvFvdeeDDi8xbsAnFLfQ/JVX3ERB+hv/YsdH7zPzvbdR/jCOBZOnERQQho+PD1ZWVuzYsQM/Pz9cXFxYvHgx58+fN8hnFzFj+ghBNxxVjZfiYmnd+IULkBBfzL7ge4Q6XWWPVSqRG49zYPUhoheHVU/CKykpI+epf/8U1W9Y+brzuX6VZmuvLGN76XLCexVHfd2qJN9R7kEc9tZ+bNuSQwx97wK9u12lw0t5tG4NzZqVlefWrcu60ltvlT2uvDJwYNlzmzSRd+7//qd93po18s5TKKQbDKXPXbwYPvsMvv8epk+Xft6yRdqquzZG70u2eTNkxvg68x2TmSlvn/SS4u4O7dvDmDHyGsPHHuJlTndPc4e9g7Ql3aMpxEySMsDLlfRLwXD7nEgiJ6gxQtDNDCHopk9+fj42NjZlRnULC4vZb2NPaM9uFNdXUFxPgXv/3mwY9iEzhw7EzckBV1dX5s6dy8aNG7GysiIlJcU4H0IHSUlJWFtbc+PGDUDags3Pzw+lUsmKFSv4+uuvsba2Jjk5GaVSmqr+T9Jio5n31edsHj4Um88+J73dv8r9C+3mCy1weq8XM97ry56pE9k88ScW/vQrc2fPZ/To0VhbWzNhwgRmzJhBbGys5mZAKYqKirh165bsLegqQ8SM6SME3XDoipeCAvjrajGn4+5yZNcV9lmfIWp9HIdW7JO9blwvZa6KzLdHgkLBuU9mVHhc7FxfTs5ZUamcJ63V3r/8mK8jVzyGEutbNlFcSYn2CUSl3I3V8gMsmX6Un0YnM+q/5xjU5yLdOl+jXZs7NG/2AIUCPDZFaJ07b0q8LNlt3rysI/XvX2pHzEbQsqU0it6mjTSi/sIL8PLL0kj3P8994w3o0gU6d4aOHaVR+Jdeks57+ml44gl45BFYuFD7vIUL5Qv6PwdkP/us4mObNJGu+9VXYeTIstfr5gYBAfoZZT9zRhplr42UKHXqO+avvyA4WHfF+PpChw6axvj4Y3mV7ecBR6ow3f34IvD5x2h6YHs48XvVRtOz9kLuZWPXrsCEEYJuZghBN11yc3M5fvw4ISEhzJs3T2tE93b2bfz/Z8m5Dk9r/UVx5ZWWzP/iE7Zs3MBPP/3E6NGjWbRoEbt37+bKlStG/DSVU1BQgK+vLw4ODiQmJnLnzh1ycnKIiIjgjz/+wMfHRy3K+/btw8rKiujoaLKzs7l79y4nTpzA2dkZd3d3LpxMxvp/0/ltYF/m9XyL2A7tys38XtSiHqe7tWV23x4Mf7Ujyz76kJ+GfkyYlSMhvsEsXrwYpVJJbGys1nXGxMTg6OiozgPg7e3NmTNnqv3ZRcyYPkLQDUfpeCkuhtvX8siM/4vTQec4an3M8CKuoySO31jhc0fmenFqztJK5Tx5zVpifFVqeT7lvZgHri3BVcEpq2H8MSeGWeMTUS4/qCXZwXahsqV16+JDWlnaV81P13r+//5PEtVXXoGePaXR788+g7Fjyw5surqCi4vkV/oefa6oeHjA+vWwfDlYWsK0aTB+PIwaBZ9+CoMGQa9e0K1b2XMHDJBXR927lz23XTto0EC6AdGli3RzYtQoaSR+1Sqwt6+ewO/dK61lT02VMsYX1jAnWZ37jsnJkRbsV1YJKhV8+612I/TpIyUp0FWBAf5wyEf+uvI0D9g7WFvSXRUQN7Pqyef+OgT5OcauYYEJIgTdzBCCbprExcVhbW2NjY0N9vb2jB49mpUrVxIdHU1qfBLOwz4jr5WF1pdXYs82eCz4jf379hEREUFcXJxeRngNRV5eHhEREVhbW6vl187OjsOHD1NY6i+U4uJijhw5opUsz8rKirCwMG7evImPjw8ODg78uW8fO9etZvK7b9H3ubb4vv4i+a0aatVZXksLPurYnpnv9SZs4mhm9OvN9pFfsn3Ex8z7+GMcLOezcpYlNy5ep7CwkMDAQGxtbTl8+DCpqakEBQUxd+5cxo4dy9q1azl16pTWtcpBxIzpIwTdMBQ9KCQj8Tynwo9zwiGW2OXhRhfw0uXYz3ayjz0615VTcxbplHOb5VH8NuE433x8GudffqLIuZ5aIDI3P81jzW+gUMBX/z1XZgS9kUVhhcLZrEkBbf99h64dr6vl/pDfXkJUN/DwkKZ5OzmVn8ztYSpWVtJ6+lmzJKn//HN47z147TXppkTJtPtBg8qe26KFbrG3sJBuGJQ+z9sb1q6VbmTImbm9cydERkJ8vDQ1/ubNqkl7nfyOuX9f2mxe14f/6SeoX2rHlvbtwdFRXuNG7YT0nfLlOmkZ+D8rxZdXS0hzq7qgl2R7v3EMCupQpkBBnUcIupkhBN20KCgoQKVSMWPGDLZv305SUhIFBQW4u7uzefMWfhs7nj1vdKG4geYvgKcC/sQAACAASURBVOImCmx7v8DXHw9h69at+Pj4kJqaauyPUm1yc3O5cOECFy9erHQ/9oKCAjIzM8nIyODu3ylz4+LisLW1JTs7m6ysLGxtbXF2cGDOpAkM69GNLv9qxfa3O5PeoRXFDRXEdGzNJ1064Prt57h88zmT+g4g/yULbvznEaK6dWD7e/0Y16Mnjl9/jt333zNn1Nfsd/Hm/JGTODm4YGNjw969e3F0dGT06NFMmzaN1atXk5qaWu7U+PIQMWP6CEGvHe5fv8uV2AzO+BwnYVMUsQt2cmCFigMrVEaXca1i6U/m2yMpbNiIk98s1y3ylracnjOf47MWsWvcJrZ+5sLs/sH83GePZlr77+uI8VXRt0cW/3nyPAcWvK01uhf064c88X9/qb3lvV6XykxzHz44jZFDU/l5TDLLZhxlx9KDeG/ZS6RrUJljI/2TCFQVGl2Y61pRqaSl0C4u2o/7+0tT8p97Treoz52rfW7pNfNNm8Lzz8M770jT6KdNg9Wrwdm5cnnfuVMz0n7uHFy/XnESujr7HVNUJC3I19UI8+drJyh44glYt05eA4YGwbk98uX6gj/8OQGOzij7XPIqyPCtmqhnJ0DBPWPXtMAEEIJuZghBNx2uXLmCvb09Y8eOZenSpeo12I6Ojjja2DLu7Xe51u4RrW/+e20bM7lXB34c/wMbNmxg69atqFQqlEolSUlJxv5IBsfV1ZWoqCiKi4txc3MjMDCQgoIC7t+/T0hICH17v8XbXToyoMMLDHi+NT9168BPfXri/d1IFgzqx69DPoF62n9dFTdUcLPd/xH7+gu4vNMT188/Y/GH7zN/8EBCZ80idNlylk3+kc8/HMovk6Yy7odxjBs3jtWrV3P06FGd+6yXxExeXh63b9+u8gi8wPgIQdcPuVdvc+lwOqfcjnFsdfmj43VN0I9Nc+BWuy7q3xeFFk2In2qjdUzwL6EsHXaUSe+e5NNXk3mz7XmeanGr7Jrnhvmcnj2PpD/WS9PafQOwn7GAO7bN1WL+wLEhy75aSs9Xr/Df/hmM/+I086bEY786qloZ2g/6RRGiyja6CJt6cXeHDRtgzhwp4dzQoZLAt20rzUYofezMmfKm1TdvXnapgINDxTuRlYy0x8VJOxRcvQr37pnA32Xp6bqTx23YIIl5SeU0bCil65c7BeH4Qbi8u3oj4hcD4ZwduFmAz1MQOxUy/Koo6vFiRF1QKULQzQwh6KbB3bt3sbe3x87Ojg0bNnDt2jUA0tPT+Xb4cAZ3fJmMDk9qvpzqKYjr0YaPe72Oh6srBQUFZGdnY2trS2xsLIcPH8ba2pp798znzm1RURFKpZLTp09z4cIFlMr/Z++8o6K60z88ano2ddPLpqmJRmOJvUdjx64I0hEEpFlQukhvAtIZepEO0hREEOm9ioioWMGOYkWkPL8/Zp2EECPZXxLdDZ9z3nN05r537lxm7tzn+zZhL0gKCQlhw4YN6G3dgszKZaxfOJtJX/yLRcOHID12JLazxtHx1sAn3jl1vTSA5KVzSN0gh8Gc6ZgvnM322XPZNH0KihPG8cM337Bs0mSWTZuBhdZmsqKSuHuple6u3lH1EydOkJKS0iOtPz8/n7a2Nm7fvs3Vq1e5ffs2169f5/r16z3Gzz2L6u7u5uLFizQ2Nv7lM+WflvoB/fers+0hLcevcubgCeoCi6mwTusTED8rgF5qGM/Zeao8fPm1n+B8wCCiPtcnSu1Qj21dpYv6XA+eYSGac14d58OtyG97RM3vhb3PkWiHP2R0WtHeA2QkniU5qfupw+3fzRwcYP58GD1a1Al/4GN+ct55p7fv7Nk/9QUYOhRmzgRpaRH0OzmJGtf15tMbHDp0g6oqUV37tWvwG8lpT0c3b0Jm5m+fuJAQUYfBn58kc/O+n/icbLhYCU37fz+gZy3sWZ8e/wGUasK5uN+Z+l4BD28/7bPdr2dQ/YD+N1M/oD/7am9vJzIyEk1NTZycnNi4cSM1NTWcbziBkeQqjOfOQHvaRDyX/Ej3cwI63xyIy8zh/DBlCjExMT32lZ+fT2hoKA8ePCAgIOAvnef9LCgwMJCysjJqamoIDAzs9Xx0dDRpaWmkpqYiLy+PlZUV0lJrWbZgLttlJVk3dQJ+a5ewV34Bh+aO5Ox379DxzqBed07dAwUcUpXBe80Sts2exgE1OY5M+ZLu5wTce/8lzg99l9KxQ4gaPwrbceNQGjGejROnE6EoQ56JMYUOuyjzDSLVwxcHk50EuAkpyynj1IlzlJaWsXv3bvT09HBzc8PQ0BBFRUW0tbVxdnYmNDSU8vJyMai3trZSXFzMwYMHyc7O5sKFC+L0+r7C/MOHDzly5AixsbEEBQURGRlJeXk5bW1t3Lp1i/Pnz3P58uUnpu03NjYSEREhXmwQCoVERUVx5swZzp07R11dHY2NjXT0cSDw/fv3aW1tfWIWwtNWP6A/We232rhSfZFTibUccTtMqel/BsZPE9A9ZAqxmJ1FyGemXHj+ix7XhCbBR0wV5CEQgIlEVQ+/JI2YXvD19it3GP3ROZZ+W4XWtEPYS8QSopdAXvQ+SvYmcy5aqQcQXIlaQFl81P8bzIv37iMroY6UpIdPHVT7TWTx8eDtLcrkXr8eFi0SwfvMmb23/Xlj88fZa6+BjMxPPklJN0hKukF4eM+Ac3o6FBRAdbUoTf7yZVHE/ampo0MU/n/SyVqyRPRGZ8z4/bPw9u+H+lq4Vv77AP2YE6SO7d1ILuYNyF8HjX0c7/bIrhVDW/9vRL9+Uj+g/83UD+jPtu7du0d0dDTq6urs2rWLzMxMNDQ00Fy6HMuZk9k8czL7VGXZtWw+5gtnEz57FIo/TKC2qgplZWWioqJ67K+xsRGhUEh7ezsJCQlkZ2c/pXf2dJSTk0NYWBjV1dX4+fn1ALtHUfWmpiaam5vx8fGhubmZGzduEBwcjJmZGU5OTjSdOUVObDimitIsHPUtyhPHsnXGt+yePJjCCZ9w7ZvXaP7idYznzmDLrCm4LF9IjOJaWr5744l3Th2vDqL028/J0FDAY9ViFg8fiuK8hTgsmI/VnHmESMkSoiCP4oyZLBz7Petmz2bz2rXYaelgoa2DqfZmIrz98XRyIy0lldLSUnEZxP79+4mOjsbLywtXV1fCw8MRCoX4+/uTkZHB1atXxfX9TU1NdHR00NnZyYMHD4iLi8PPz49Dhw5RVVVFVFQUmzZtYu3atRgaGuLi4oKBgQHa2tpYW1vj6upKaGgohw4d4tSpU3R1dXHq1CmEQiHp6elcuXKF9vZ2Ll68SGBgIMrKytja2uLr64tQKCQoKIgjR4489u946dIl9u3bJ4Z8f39/Dh8+/Mw2PewH9F/o4UPunr5C8+EGGsJKqLL/4+aM/1mAnqO/n4gNh3FYU4LOj0fZsbCEEuOer+P+kh4dgt4LdmECGd4VXBE/pDS1QRRlN46l1siJo9t3sHVWOq4rIklQ8qRiS8/O7cdNzKgMCOkJ0/EJ3IkYyoOI9zgWa/mHRM1zEirYn3TvqQNpv/3ntmqVaOzbz7O9f83k5H7ySUq6QXT0DXHa/ODBoobokpKwaZOo5j009CfWTU2F/Hw4ckSUfd7S8hdH3Jua4MCB3z4RpqYQHd3zscTE3oPuH2dZWdDcCNdKfh9YH7WH/d/1BvXIFyBrAZzw+X37u3wY7pyGrr4tWvfrf1f9gP43Uz+gP9tKSUlhz549/+4MXkRedCxpk0bS+doAOt4ehPqU78nSVMJt5SJMly1Eb6M6Ojo6dHR0YGhoiI2NTY/91dTU4OfnR2dnJ+Hh4RQUFDyld/Z01NraKo4A79q1i9raWjo7O2loaCAoKIiUlBQAMjMziYyMFEeEb9y4gbW1NVpaWgiFQhwcHFBTU2PPnj2k7UvGztQICy11po74hiVjRzD36y/ZNHMyi4cNwejH6WhMm8yJSR/w8P1BMOi3Ib1y+IdsnjmZ9RPHsnb0CAwV1ODFnunzD955ntZ/vUrT0Lc59t0nlI0bQtbk79g1ewLWi38kUn41iuPHoDJ5Il7SkmQZ6JG0bQu7lBSQmDCOkV98ztxx47DT0sJGSxvpRYuZPn48y+fNZ6OiMhtk5ZFasQpdtY1s1tTBUM+As6fOcrPlJtHR0bi4uKCqqsrixYtZtWqVeFyfgYEBCxcuRFpaGi0tLSwtLfHx8SEyMhI/Pz8OHjwo/lt0dnaSnZ3N1q1bUVJSwsrKio6ODm7fvk1+fj5CoZCamppef8Nz587h5+dHfHw8DQ0NNDc3U1VVRVhYGGFhYc8kpPcV0FtaWsjNzSUiIoLw8HAyMjK4ePG/fHZudzf3Lt3icuk5GhNqOOpxmHKzPy+K/f8F9ISNB3FYfBiLcUns+DwY87dcsH/BGKFAlX2CRVQJRnFVIKKfcr3IHr6+b23r8V0+LJjJ4jdymTL4MpLjG9kyrxantcUkax+g2kjIccMdv9mlvcHQhPqdltTs8eBMjHovoK6KC6AsPvr/Dea5CSWkJrU+dbjstz/WYmPB3V1U966gIEqbHzlSBO/6+j9tl5R0A1fX3j0PfmmPGtb5+vZ8nfh4EbwfOCAC90cR90uX4M4d0bjDP1zt7U+Opv/SdHXhxRdBVrZv49iSk6GkBFouwPVSUQr674moH5wO4QN7gnrl9v+sxr1pv6ih3IOWP+Fk9uu/Qf2A/jdTP6A/O7p69SoNDQ00NjbS3t7O+fPnMTIyIiAgAN31qsRPGkXHGz2jMwVjPydcaS26ctIYGxnh7OyMo6MjZ8+excvLCw0NDXEac2dnJ1FRUWRkZHDmzBmEQuEzPfv8z9KVK1eIjIwUg6G1tTXe3t6kp6dz584dcdS5vr6+h19RURF+fn40NzcTHR1NfHw8ra2tYpDMz8/H3d2dXbt2MWvWTNauWsHU8eOY8f0YDNdJsmXJAsJU1iE7fhgGM0eQsGQCadOHUjXhU5pHvs3dz1+k660BpI39Fyu/G4b9knkYz52JrZJK34pTBQIOLBjHlllTSFZZx5rR3xI2d5Io5f55AZ1vDKT93ee5++FLtH76D65+8QbNg9/m9NfvUTXsI378+ktmfPUZs4d8wfKR3+AyayYRE0bj8/0YPCZOxH3aDBym/oD19PlYzlzEjpkSuC+VYcmwUaydMIENP/yA1vx5bF0qwfblywjfugWDtZL46W1l+7p1rJg1iyyhH0cTUyiKjcPJeAfSy1agqaiCo5kVkstXsdt+F5cuNAFQUFBAUFBQjyyHrq4uwsLCSEtL65Wef+/ePTHUPmvqC6A3Njbi5+dHWFgYhYWFlJSUEB0djVAopLKy8ikd+e/Xg+t3uFp5gdPJtRz1yaPcYv9fmmb+W4BebJTEQfU4YpcGEzbRneDBlhQrePbYxnbS3j5/32rUPHr4xk914vorn1D+rTyHZPwpNOp9DJVGgU+cbf7I6hxtaYpcS2f4CxAuoC72j6kvfzTPPCehrB/M+42kpBu4uNxi1CjRzPYBA377o//LOnYlJRH3fv45TJ4siuJraYnmzgcGirbJyoLSUjh+HC5eFIH7H9Iu5cqVJ9emJyeLDvqNn2Wxvf02bNwIe/c+2TclRbTqcOsq3Kj5fTXqJ/0geylEvQzRr/Xu8n7cDeoc+j6T/UIyXM6CWyf6u7//zdQP6H8z9QP601djYyPBwcF4eXmJU3ZtbGxQVVVl5YL5xM4Yx8O3n+v1K9k07G3WjBmK+gZVZGVliYyM5Pr16+zbt4+goCB27drFxo0bSUtL4+zZs+zfvx9fX19KSkoICgpi//79T/utPzV1d3dz5swZvL29MTU1xdvbm7179xIQEICvr++vAtGNGzcQCoVUVFSIAb6qqorAwEBaWloIDAyktLSUjo4ObGxs0NDQYO3atUyZMgVPT0/U1NSwtbXFzMSYvWHBZEaGYKapRpqbA9Gm25GZNQWz5QuQ+HYIq74bjo/kErbPnoaXqiL1Yz/i4rA3uf3Fy7S/9xzdL//6nVP28jkojB+NydwZ/Dj0S5J+GNsn0Oh4cSAxCmtZOuIbZMeNQnfGZC6P/WeffI9/9U/cVyxm7egRKE0cg7f8ejo+GkTn6wN5+PZzPHj3ee598CK3Pn6Flk9f5/Lnb3Fm8Hsc//pjnCeMIFpBkgNqcmhOm8DGHxYSMHESofPnEbhqFXpzlxFtakaKqxshTq64OzihpalFZmYmJ0+epK2tjebmZtLT0wkNDcXa2hoNDQ3y8/NpbGykoaGBhoYGbt68+djPwpUrVyguLiYvL4/a2lru3LlDbW0tCQkJREVFsX//fnGafl918+ZNTp8+zYULF+js7HwioN+5c0dcQvDz1+no6CAnJwdXV1dKS0upq6sjNzeXzMxMcnJyOHfu3GPr/puamigrK6OsrIzm5uY+H/vv0cPWe1w/0syZ1GPU+RdSYZX6l8L44wA9yyKZlFmOpH6zicz311H86g80DhrCHcGrvT6/5ePUevi7Lsv47e/KgOe4+fIHXH53BDUqrj1f3/gxkXvjvVQb+XLM0KpPYN5gYkBToCQPw9/oEX27GTn2D6kxz06oZn/S3acOhv32bNijGvRH/4+PBy+vnjXvY8aIGta99VZv/wULfvtn4oUX4F//gpUre/o9GgVXWgp1dXD+vChd/ne3FOnshPr63+70HhkpeiO/7Lj3zjuiFYaoqCefqH37oKYGbt0QAfKl39H1/UyEaAzbLx9Pnyz6fse9B7mroN7198H6lTy40widbX/KNb5fz476Af1vpn5A/+t06dIlysrKKCkp4ezZs9TX1xMYGIiCggJqamo4OjqSnZ1NRXkFG+bPJmfsF3S+3rt96+WhbxAit4S9kXuYOXMmqqqq5OXliV+nvb2dwMBAZGRkMDQ0RF1dHRkZGdTV1XFychLXAT/rjbX+KrW0tFBSUkJOTg5VVVXimem/psLCQtzc3Ni6dSuVlZWkp6fj6OhIaGgo0dHRPHjwAIC4uDhycnLIyclh+fLlKCsrIysri62trXgBRigUkpeXR2lpKVpaWmhoaBAbG8vSpUtZtWIZAW4uWOlvZV9oALtNjfDR30qMiQHLJo5jl+xalKeMYdu0MexdPQf/OWOInjmcTRPGMGfIlywZPpR/vfkG3tO/p/XzV2j74AU63hxI1yuisXC//Ew9+Mdz7FWWZum3X7Nj3izcVi6iZdSTa+YRCDg65F0CpVawbuxIVCaOxV1RDV7rWwQyevwQUlRliFFcy+aZk3FcvLDXNt2DBLT98wUuffUWVd99Suz3X2M/YTRqc2ahsnwFqlLSBLp7k7h3L4aGhkyePJnp06ezdOlSVFRUxOd8//79nD17lvLyckpKSqivrxfXsYeGhuLq6oqKigrTp09n+fLl2NraEhAQgLGxMXJycqiqquLg4EBERAQFBQXiSQqPdP/+fcrKyvDy8mLXrl0IhUJ8fHxwd3dnz549vQD959krpaWlPbIF7t27R25uLv7+/hgaGjJz5kxmz57N6tWrkZeXx8TEBFtbWzQ1Ndm2bRv79+8XQ3hrayuxsbHi9xUaGopQKCQuLu4/vs53d3Ryt+kml0vPcTq5lmP+BVTa9K2r+h9tpQZxVGzwJm+xDVnfbyX7M3mKRyj3APSMnfsoFEzq02ew9EvJHvtP1k6n9p8zqPlMgiOjZamfq0mDpAm1612o2BRCiXFi347TOJ5KowBqjZx6pLIfNzCmXt+IY/oG1OkbcHS7Pke361O7fTtHDTbR5DqP9j2v9wDzrvBBnA2fT2a4F2nhQaTu+cn27wlkX1gA+0L9xZYS6k9yqB9Job4khghJCPYhLjiAgKADuATVsiuoQWwOgfXYBxzDLqDud5t9wDEcAut77O+ROQU14BR0ApfgU2LbHdKIa8hp3ELP4BF6VmyeYefx2dOMX8Ql/COuEBB5laDo60TsvUlcyi2SD9whLfMuGdn3OJzXRm7BA0rKOqiu7uboUTh2TBSZPXlSVBN94QI0N4tSrB/Z5cuiWeCtrXD79k929y7cvw9tbT9Ze7uoH1ln5++3jg6R/8/3d/++6HVu3xa9/o0bIhB9ZFeviqLK58+Ljv/0aVGK+IkTovd17BgcPSpiw4oKEdAWFYkauOXmiqLTBw9CWpoIev+/gP5blpDQ+7E1a+Djj2FQ7/YLPezXmtp9+qnIJkyAZctEk9HMzUUN2fPzReB+7pzoPP375/Xxun8fyst/+w14eMCkX7k2vPqqaAUhKOjJJyElBcrKRB+o+5dEDd1+T/r7I2sMgYhBvevVEz6FPCk45tx3WG9KgasFcPccdPXf2/0vqh/Q/2bqB/Q/X3fv3hXPLA8MDMTKyoply5YxdepUli1bhq6uLseOHSMnKwvlFcuZ+NUX5Iz7otcPSMvg1wiRXoSi7DrMzc0xNDRESkoKc3NzEhMTqauro6GhgfT0dIRCIYmJiZSXl1NUVERmZiZFRUVUVlbS0tJfw/T/UVVVFaqqqhgYGLBjxw7k5eVJS0vj/v37gAjU/Pz8qK2tpaamBl9fXyoqKvD29kZOTo41a9YgJSVFdnY2GRkZaGhoYGJiwpkzZ7h69SpLlixBXl6eDRs2oKysjJubG05OThw5coT29naUlJTQ09PD1NQUOzs77txowdvVBRV5Ocz0NqMkuRpDdVVmjBvLxjUrkZ77A4rz52AmK4nEhO/x11HFUXE5ayd+TeD65Rj9OB6D6aMIkFnN4m+/xmX5QmIV1+IzdxwZs4ZzYNIX5Ez8F2XjP6Fm7AecHPMeZ777J00j3ubSN28QP+ZfJK9fh/y40ahMHIurkhIPPnmejrcG0vXaALpfFqXY/9odm3D05+yRXYWtxFwUxo/CZ+6MPkEVAgFbRo9g2b8j/kZzZ+AwezYx08dhMHky8rMXoiq1jgAPb7w8PElPT2fLli2oqqoSEBBAeHg42traqKqqUlRUREZGBkKhECMjI9GYPT09tm3bhqysLN7e3uzatQsJCQnWrl2LlpaWeIElKyuLhw8fkpubi5ubG4qKiqiqqmJlZYWTk5O4Vn/s2LG9AF0oFNLa2gqIek08Ss2/e/cu4eHhhIaG4u/vj729Pdu3b2fatGls2bKF5ORktLW1UVZWFi8g6OnpIRQKycjIICwsjOjoaHHt+q1bt0hLS8PMzAwLC4snlrU8bL1Hy7HLnM9u5Hh0NTVu2ZSZpTwVGE9d7Uf2MDWKPljO0X9M4PKgj+gS9M6/vfT8Jz0APc8mibjnJHtsc1fwCicHDqHk5Rlk/XMVB75Q4+D32ymQ3k2pcRylxrGUGcdQZhxNqVEEJYahFBsEUWTgT8F2H/K3e5K7zZ3crbvJ3upM1hYnsrY4kLXZlqzNlmRtMuOQrjFZutvI1dUiX1eNPJ0N5Gqrkq21nmyt9RzWUiZLU6mX5epKc9JuHA9CX+lxo969ZwBnQ74jyW8bYb67/iPzFfpi752CqVcRJl4lf6mZ+hSz068Iq+ACHCLzcInPwSMlC58Dh/DLzCAgK4PA7IOE5KUTXpxGdMV+4mr2kXA0heTjyX2y1BOppJ9K59DpQ+SczaHgfAElTSVUXKyg5nIN9dfqabzRyPnW81y8fZGrd69y4/4Nbj+4zf2H93nY+fCJ0yf+29TZKYLZu3dFCwLXr4sWKC5eFPVXO3dONE6toUEEwKWlNygsvEFJiQj6c3JEke30dFFT876CfkKCqD7d3FwE2suWicD7009FY8mlpHpuHx//+BFyAoHI5+OPRfPid+0S+ezfL5rlXloqWri4cEG04NEj3nDzpmgF47cO1sFBdHC/fNG33xY1k+vrm87NFR1E+91/R9UP9R3Qz8ZCmS6kjuldq/7IYt+GQ/PhhO/vqFffB1cLRc3l+mer/8+oH9D/ZuoH9D9Xzc3NmJubo6+vT2RkJP7+/ri7u6OhocGWLVtYsmQJRmuXYrZqEZYS89CcNoEpn3+K8ZypdD8nGtfV/M1buC2azqljRwHRzXxISAhCoZDCwkLOnz/fo6N1bGws9fX1/3M3Hc+S8vPzcXV1pbq6Gi8vL4qLi8XP5eTk4O/vT2trK+Hh4Rw6dAgQpdU/GjOmpKSEmpoaCgoKmJub09zczJkzZ9i6dSs//vgjxsbGxMTEoKqqir6+PgoKCpiYmODl5cWiRYtYs2YNERERBAcHEx4ejqysLBoaGtjY2KCnp4e7uzs7d+7E39+fXbt2oa6uzo0bN9DR0cHBwQFnZ2fU1dXp7OzE3t6ebdu2kZubi4yMDCeON3Du1CnMjAyxs9jJ0oULkJg/j43KSowfPRp9zY3YGRpgvX0bemoqKKxeSeHeWFTWrkFjnRRRLo6orlnFNiV55BcvZNHUKQSbGbBu/lSWTh7GmilDsZP8AaHMj6wZ+w2Sk8ejNnsGKtMn47pmHoXTv6T6+085M+Jdbgx5lfaPn6P7xZ43UZ0vDEBp/GjWjh5B6LqVLBw2hMaJH/fc5u2B3PjqNY6N+YSUyd/i9sNUdOZJEOXhx+m64xgYGGBgYICGhgbW1taUl5cjFAo5ffo0/v7+aGhoEBAQgJGREZ6ensTExBAQEEBBQQE+Pj6UlJTg5+eHq6sr/v7++Pv7ExwcTFtbGwcOHGDDhg1oaWlhbW2NlZVVL0A3MzPDzc2Nhw8fkpKSQmxsLOfOnSM+Pp6wsDDOnTuHUCikrq4OZ2dndHR0SEtLQ1tbm8DAQLy9vSkoKOD4cdF7sbGxQUpKCg0NDfEiXHFxsbgr/qPP3Y4dO8g+fJh7V29zo/4yzbmnOBVfTZ1vPpXWf36KeqlBHJUaPhSvsid7mhGHh6mT99Eaqt6YSfVGnx7buvzLqU+LNR2CQVRud6PSYDdFFu4UWrjgM9aOiBF6RM8yZt86U/J1t1O0eTNFm7Uo1N1Iga46+bpq5OqokqOt8kSI/jMt31qqF5ifCRlFst/W/wjKg31dcfWJxMIr6w+DbTPfYiyDCrHdk49DVK4YQuDvqAAAIABJREFUtr3TRLAdlJPOnqIDRJWnElezj8RjfQPsZ8VST6SS2ZhJ7tlcCs8XUtpUStWlKo5eOcrJlpOcaz3HxdsXuX7vOq1trdxtv0t757M2LPw/05Puy7q7RVkBd+78FPFvbhZF+0+cEEX3KyuhuFjEq5mZok7vv4T3X/ZlCwoSpb6/8MKTv+Z2dj19zc1FKfdjxsDixaCiAhYWolLzsjLRcTXXtnArs5SHe38jrcDTE+bOFa0GCASinf1ym75E1dPSRG3tb9yA9htws/b3pcA3hkKJOqQM/3VQP+n3i5T5KDif0Ld9XzokOp62K9DV+Zd9rvr1x6of0P9m+rsA+p07dzh37hwXLlzo04zl7u5uLl68SENDA8ePH+fEiRMcPXqUwsJCCgoKKC0t7ZXieu/ePWprayktLeXgwYO4urqiqqrK2rVriY6OZseOHSgoKGBvb4+NziZSZ0+m9V+imsja0Z+waPgQ/NcuQ2rMSFQmfU/igunYK8uxw9QUdXV1zMzMyM/Px8zMDG1tbVJTU+ns/Oli29XV1eP//frz9ODBA6KjowkODmbPnj3Y29uLu4i7urpy4MABoqKiCAkJ+dXv1unTp7G3t0dSUpLAwEASExNRVlZGR0eH3NxchEIhmZmZ4tp4ExMTFBUV0dfXx93dncLCQvz8/HBzc2Pt2rV88cUXLFu2TAz+CQkJtLS0EB8fj4WFBXPnziUmJgZ7e3tmzZqFtrY2tra2nD9/HkdHRzZs2IC3tzfq6upUVVWxf/9+VFRUCA8Px8PDg/DwcHR1dZkxYwaampooKCiwdu1ajI2NcXd3x8vLi61bt6Kuro6lpSVGRkaEhYWxceNGvL29yczMJCAggJqaGlasWMH8+fPx8vJCSkqKpUuXoqenx+7du7l9+zY+3j6YGBigobKejUqKxPl4sWz2VHQXTydaagH7Z43kwISvWDPqW6THjGSPzErmDv2KO8Ne6RPMnRj8NnO//ooF3w5nx9o1jBs2mi3z5mK52QgPZze6Ojvx9/dHTU2Nq1evoqSkRFhYGNeuXUMoFHLx4kX8/f0JDw/H2tqa6dOnY2Njg7q6OpGRkdy8eRM/Pz+ys7PR19fH3NycCxcu9AJ0a2trZGRkMDExwcDAAHl5eVxcXJCTk8PR0ZGEhARCQ0O5f/8+KioqBAUFUVdXh4yMDAUFBZSUlIgj+erq6ri4uLB8+XLGjx+PjrYOtuY2mOmZkrknlVNpdTTE1uC9yQX95doYLdHGX9Hhj4Vv4yTK9SIp37ynx+MJ6mmUvDmX4y99x/WB7/7m36Z+pS4VBrsp325P2TZLHEbu7vH8FcG7lAwYT/KLSwl7SxnhZ5vwGbOd0IVbyNqoSJamEhmGm8kw3PyXQ3bfTJHSbUupMppHlqYSqYY6RO22JMx3F9dCP/03mI8m2U/vP4Dy3Xj4hGHrnYaJV/ETYftRVNs5Lge3pMN4pWbhk56J/6H/ftj+Ky2lIYUDJw+Q2ZhJ9pls8s/lU9pU+tjo/c22m9x7eI/OZwiU/qz7sq4uUYr/rVuiXm7nzomi9jU1ouboOTmiKH1iIgQEgJUVaGqKMs0nTxY1nXvxRdHXPySkJw9v2PD4S8nAgaJmd6NHw/LlsD/mLjleR6m2P8Bxx2SOOe7jglcyVwOSuRmazL2oZB76B8Pq1bB7d88XCgsT5e5//rkoBcDF5cmz1Q8dEtUm3L4N7a1w6zhczu47rJ8KgtKNkDYOIp6HxM96b5O9BKL/AQcmQaGSaLzbubi+R9dvnRAtJPQHcv5r1A/ofzP9LwL6zZs3OXPmDCdPnqS0tBRvb29sbW3x8fHBxcWFHTt24O/vT3V1tTgt+edqamoiKioKb29vtm/fjpycHCtXrmTp0qXIysqyfft2vLy8cHJyIjg4mLy8PDw9PdHT08PExAQNDQ0WLFjAjBkzWL16NRs3biQkJARHWUnyJn/N7U9e7vWL0vWPASz4eiiRKuvYLiuFspwMbW1tBAUFUVJSQlpaGpqamoSEhLB582aSkpL6I+RPWW1tbeTl5REYGMjOnTtRVlZGQ0OjR83zbzUnu3jxIubm5uIZ46ampuJFnxMnTuDv74+SkhLu7u7s2LGD2bNno6enx/Hjx+nq6uLWrVskJiaio6PDqlWrxM3E4uLixK/x8OFDysrKmD17NqtWrUJPT4/169eze/duNDQ0kJKSQlZWFikpKXR1dQkJCcHS0hJlZWW0tLTw9/cnKSmJo0ePYm9vj7GxMRoaGqxcuRJzc3OcnZ3R0NBg6tSpzJ49mxUrVrB06VIWLlyIsbExKioq2Nvb4+fnx+nTpwHIzc1lxYoVxMbGEh0dTUhICKampujq6mJubo6MjAwWFhZoamqyYcMGQkJCWLp0KUuXLiU7O5uHDx+Sk5PDsiVLmDl1MpsU5Bnz9dfsmjOOjElDODnyfW59+gpdL/96K+LsYR/ww5AvkB33HYc2KrJy+nzRGLtBArreGcCdL1/m7Ij3KPp+MKmzJuI5bQL+a1aTbm2DnYEhYX6BbNLSZeH8+cyePZthw4ZhaGiItrY2jo6O2NnZ4e7uTltbGyYmJuzcufNXm8RVVlaiqanJuHHj+OGHH5CRkcHNzQ1ra2siIiLYsmULfn5+ZGZksE5qHQVZeWSnZqOwVoGDEQdI9I5j2Q8ShJkJcVQ3R3fZBhaM+YEZ30xEfspqxn/+HdITl+K2zpyif9dN+ys6YL1yOyHrXTBerEWeQXyfATxdKoADs2w5MNaAjCHq5Hy0lpI353Ls5TE0P/cpbYKXQCCg8rPFVBh4Ua6/m/LtDuyRE3JL8FqfFk8Kxi/sAbS+y4zw/FoPzylG+C0zYq+yDoc2/jYEP1uArkDR1pXU7ZzORech3A/4B4QLuBv4JtEu5j0Ae7//JhL8DH8XlIf47sYnIASn4H3YhOWKI9vuyYfFke3g3HQiStKIrdrP3tqUPwW2k+qTSKpPIrE+UWwJxxLEllSf1GP7hGMJxNfF/6r92vb/q7avYR8HTx0k+0w2hecLKW8u58jlIxy/dpzTN07TdKuJq3ev0trWyv2H9+no6vhTfvefdmZjZ6coOv9ziK+uhsJCyMgQjS7/JRMrKIjGvj3psvLllz/zS+wiPfgi44a28uJznXz69h2+/+waC0ZcQG7ySTbNPYrtmnICVQtI3Z7F0V37aZVU7b3Td98FCQkwM+s9a/2XdviwCNZbW6HjPtw9KxrZ1pzaxzT4GGjw6v14wr96R9kjnoOUbyBnOVQZwKngJ++/OVVUQ3/7pGiEW/cf0Vq/X3+G+gH9b6b/RkBvaWmhtraWI0eOcOXKFbq6umhsbCQ5ORlLS0tMTEzYvHkz69atY+bMmaxatQozMzO2b9+OmZkZJiYmqKmpoaenh4uLC7m5uXR1ddHa2kpycjJqamribZ2cnIiLi0NXVxddXV3i4+PFUKKjo8OUKVMYN24cEhISmJiYIC8vj66uLpaWlni4umEwfw4nR3xAx1uP757y4P3nyZ88HMUlS6goKyMxMRE5OTkSExMRCoXcvn2bS5cu4ePjw759+/Dz83smZz3/XdXR0UFrayt37tzh0qVLnD9/vk/fp/b2dgICAqisrCQrK4uEhIQez58/f54dO3YQGxtLVFQUFhYW4l4Gj8zX15eUlBS8vLxobGwkKyuL6OjoHvu5ePEibm5u+Pj4sGXLFrZs2UJcXBz6+vosWrQIRUVFPD09sba2RkVFhdmzZzNy5EgWL16MjY0NQUFB4oZ23d3dnD17FltbW1RVVfHx8RGnfyclJRETE8PWrVtZsWIFDg4OrF+/Hjc3tx4dy69du4aBgQFOTk7s3LkTX19fwsLC2LJlC7a2tgQFBeHr60tAQAC7d+/m1q1bGBsbo66ujr+/P4cPHwbA1tYWSUlJ4uLiWLFiBYmJiRw4cICEhASaG08htWwJJrLL8VwynahJ31A1+jMuffEGPmO/xGz+LOZ+/RUJylLozX1CC+Kfmek3n7L1hylIj/2OpSOGEfzDdFo+fY1LX77FmaHv0jDiY6pGfUbJqC8pHT+CrNHDODB2BHEzp/YC9B1TF7Hru8nsGjML98lL2fndArYPX4jukAW4TNFk65A1yL47F/MpymjNVsRH3hZ/RQcWjVhCwA9W7BipzobPJYlb7IHGlzJsHaaC8ciNaHy2Bv9pZqh/tATHxToYLdYiUGkXJSbJmE03w++rjSQN18P/PSmSPlEg42M5Dr0nSc6bEpS+OoOjL46m8ZXhlBu4U67v9O9otjWxz6/t0zmqfuv7HpC6V1mHo4LhdAoGckHwMSUDxrPvBQn2vC6P3wcb8Rq6FZ9J2wmS2MaBDSr/UVT6sJZ8L0DP0ZGhYPMaCrespmjrSor1VlCybRml25dSpi9Buf5iKgwWUrJtWa99VhnN4+iOmRw1m87RnVOpNZ/EEYuJ1FiOo8ZqLNXWo6m2+Y58/QU9Fwd01nLU+TNOe7zPFd/X6Qh7TF1puIA4X90esG3luQl516XIuS1Gxn0B6zznIuU5h7Ves1jjNZ1VPlNZ6TMJpaD57M/3JqUygqRjIpCV2yvH1ICpTPKfxATfCXwv/J7R3qMZ6TWS4Z7D+cb9G4a4DUE5UbkXWL9j/w5v2b3F67av86r1q7xs9TIvWL7AIPNBDNg5QGw7snb08LXItkCwU9AnSziW0MN3eeTyJ/oMNB/IaO/RvaB2tPdo3nF4h/cd3+fDXR/yifMnfObyGV/s/oIhbkMY7jGcUd6j0EvX6+EXXRuNRLgEK6JWIBkjybq4dSgkKKCSpILGPg10UnXYemArBhkGRByJ6OEbcSQCzxJPfMt9CaoMYk/NHqJqo9h7bO9TWUxIPZFKRmMGOWdzKLpQRMXFCmqv1FJ/rZ6TLSc5e/MsTbeauHTnElfuXuHK3Su9QP/netqA/iR1d8O9e3Dtmgjg6+tFaeyHD8OePaL0d11dkJSE6dNh8GB45d8JVRMm/Hpjur5c8lVn1HNy5XbufDT0sRt1DRxE66cjuCqhyBX/n0Xk438F1g8eFK08XLwoqhlo/3c3+KuFv29027m9kD5FFEF/zPVFbMUbevqeT/zt1PimfXAlRzROrl/PlPoB/W+mPwLQL168SHV1NUeOHHliA7KrV6/S3NzM8ePHKSkpobKykps3b9LY2EhKSgrBwcF4e3vj4+NDcHAwHh4euLu7Y2Zmhp6eHsrKyigpKWFoaMiOHTtQUlJi/vz5SElJISkpyZYtW1BRUUFWVhYLCwu2bduGq6srzs7OaGlpYWlpSXNzM1FRUcjKyqKlpYWEhAQrV65k5cqVSEhIsGnTJvbu3cv69euxsLDAw8ODhIQE8vPzsbCwYPfu3WhpaaGpqYm7uzuLFy/GcLMWu9dIsGPdKnSl1rB4zCgSVWWxnj7+Vy/qbR++QOXEL/BfL4mOlhYODg6sWLGCQ4cO4evri7a2NjIyMjg7O1NbW0t0dDQbNmzAy8uLEydO/Md/q349W8rJySE4OJiUlBT27t0rfryjo4OkpCTCw8NpaWmhsrISoVBIZ2cn165d49ixYzQ0NIg7ziclJREbGyueb9/Y2AhAZ2cnycnJREdH09LSgp2dHX5+fmRkZFBRUcGtW7eor68nJSWF+Ph44uPjycnJwcrKCmdnZzIyMigsLOz1vS4oKCAiIkLctf7nOnbsGH5+fty7d4+8vDzCwsJ6lJWcOHECoVBIQUEBGhoamJmZYWdnh5qaGtnZ2aSkpJCQkEB7ezshISEkJCRgbGyMiYkJZWVlPeqyTU1NCQwMRFFRkbi4OM6cOYOHhweenp7Iy8tz6tQpdu/ejbq6OmfOnEFmnQyRIcFUZaQhMWsmxvLr2LZgJicHv8Ot91+m85Xf6FgkEKA7fCih61aw4JvBGM6ZTu7Mb/t0p3f2jed7Afrpr/uWkl818mN8JZexbfY0zObNZs738+ke2LcFhYip4/CVksZo7jwi5eVwHLW6T37dAgFZGgo94DN78JTHbt/20ovcfPt1rnz6DqVjv+vhd3CjAtXmH3PE5V2Oeb3Jce/XOeHzGieFr3FK+A8afV/ltO+rnPV7hUNGP/TwTTGaxrWg52gJfo7WkEHcDhnIvdCBtIUN4GGYgK49P92IZmn2THE/6Pz+k29ewwVU+bzSC9CPBTwerH9uyfaf9fCL2rrwN7dvCxOQ7itA3UVAfLI62Vlm5OfuoKjAlE1Rc/sEux87fdwL2MYKx/bJd0nEkl6+A80H9sn3rwZ0wU4Bo7xH9Trez1w+65OvQoJCD7/gquA+H69rkWsPX9003d9cSHjJ6iVet32dL3Z/0et4lRKVmOw/mZlBM5kXOg+JcAlWRq1EKlYKhQQFVJNV0dyviV2eXS9fjxIPvEq98K/wJ7Q6lKjaqF7n8v8bvc86nUXWsSxyj+f+Kuj/Wt39s5a99+CBqPS7qUlUe15dLWp2Fx//6+XjkyaJIP1JEXiDRdXiDKJK3SAqZuiSJphPu+D5XhvvFyzkxec6+ejNu4z8pIUErQyOS5txTMebozZJHNTPJGBDMcnbcii2yuC0dyotibncKT1G29nLdLU9EEWw7zRCSwVcynwyqJ9PhOPuonT4zNmw96Pe150j5j196nZB5AuQPBQOzYMiZag2hRM+vcG9X8+U+gH9b6ZHgF5QUEBdXR2NjY09bqYfN/u3vb2diooKnJ2dsbOzIyAgAD8/P+zt7fH396euro5Tp05RUVFBZmYmYWFh2NjYYGFhga6uLioqKlhYWGBiYoKEhIQ4JdbKygp9fX1WrlzJzJkzkZaWZtmyZaioqCApKcnKlStxdHREU1MTJSUlNmzYgLS0NKtXr2b9+vV4enri6OhIQEAAysrK7Nu3j9zcXOTk5CgsLCQqKgpLS0t8fX0xNjbG0NAQBQUFJk6cyKpVq1ixYgXW1tZYW1sTFBTE4cOHxTWf169fR0ZmHQE7jQhavZADk7+lccSH3P/gBfENc974LxFKLuXHoV8SIL0cz1WL6H5RNNrq2levkzp9JAXBgWhpaWFoaIiFhQUlJSV4enry/fffIyEhgby8PF5eXiQnJ5OYmIinpyeqqqo4Ojo+sQNzv/679ODBA2JiYrCxsWHbtm1UVlZSWVlJeHg4gYGBXL58mRs3bog/C4/T9evXCQoKIioqCj8/P5ycnIiNjSUkJARPT0+ysrIICQkhNjaW9vYnNzbKzc0lLCzsV7//XV1d7Nmzh5ycnMe+p4CAAIqKirh58yYBAQGkpqZy584dOjs7iYuLIzIykpiYGMLDw7l//z7t7e3s27cPHx8fdu7cSV1dHd3d3ZSVlaGhoYGKigomJibY2NiIa/FjYmKIjIxETk4ONTU1Nm/ejJ2dHRs2bEBSUhIVFRXCwsKws7NDS0sLAwMDMagD2NnZsXXrVhQUFNDQ0CA6KootOtos/nEcuvMm4D57LAnThpEz4QuOjPmY08P+yc7F8zBcNJf5w4cSKrOS0mmPj6z83E6/9UIvQD87+KU++ZYM/xD3VYvZOG08Pw75kh8nzYQBfQN04fdfEii1HMnR37JhyjgCF/WhS/4AAZ2vDCRXZV0P+CxT+RjWCEBVAHoCsBKAuwBCet4Qprv+s4dfmqYcD/cI+gS8SWZje/iG7BjTJz/CBeIo+iNAj3V5u09+FcIXewH6kT4Ceqrnvyj1UKXMV43y0I3sD18jfq5zj4DjQQJifQSYuAmYYS/gRfOfwG5vliYlxSZi04ue3yd4/GDXB71ga4LvhD5FpCXCJXr5vuf4Hu86vMsHjh/wsdPHfOr8KZ/v/pzBroMZ4jaEoW5DGeo2tBdAOhU48bX712L7xv0bkXn8ZMM8hjHMY1gvqFRPUedbz2/FNsJzBCM8R/Ct57cM8xjGUPehDHYbzKI9i3od70ivkbxt9zZv2L7Bazav8Yr1K7xk9RLPWTzX4/2qJKn08PMr9+szoHuWePbw3bhvY5/83rF/p9fxTgmY0iffOSFzevm+av3qY/+WL1u9zOu2r/OOwzuYHjLt4edV6sUk/0nMDJrJjyE/sih8kThzQDZeFuVEZdRT1NFJ1SG+Lp6kqiSSqkSZAAEVATgWOLK7aPdPWQNVoqyB6NpocdZA2sk0Dp0+RN65vB5d849dPcapllO/Wnf/NDrmP4q+X78uAvhTp0RN7crLRWPckpJEM98tLWHrVlBWhlVL25k7+Q6eOvUUmh8UQ7qvQh4CAbwmuMVqQQxeAnWOC0S/AVsEu3pcRtO099H1nKj7XceLr3DqjTF4CjRQF3gxRZDPG4KbvPhcJ++9dp+vP2hlwhdXmTfqEmpLmymJOk1p+g0qi+9yvOoieWmNVGRWc7bsMLeOJXPvRDLtp5PpOv8r0N4YBtUmopnq+0aKms/9/PnSjY+/pkU8B3s/gQMTIXfNX/p36teT1Q/o/0W6c+cOurq6fPjhh7z44ouMGjWKyMjI37WPR4AuKSmJjo4OVlZWGBkZYW1tjbOzMx4eHlhaWmJnZ4evry9eXl5YWVmhqanJ8uXLUVVVxd7eHmdnZ1xdXTEzM2P+/PnMmDEDCQkJVqxYwfLly1m2bBnr169HSUmJnTt3EhYWhpKSEvLy8igqKqKhoYGioiLy8vK4urri6emJh4cHWlpamJmZYWxsjIWFBSkpKWzbtg1nZ2fMzc3R1tbm5MmTyMvLExYWhrW1Ndra2jx48AAVFRUCAwOprq5GQUGB8vJy9u3bh6ysLGfOnMHa2ho9PT3Cw8NRUFAgKSkJGRkZsg9ns23bNqysrLh1sxUZKSkyp43izicv9+om/Uu7NPQtEtevY9nYUZjISFEYHYH16sXY7jRFX18fGRkZcR25hoaGuG5VVVUVSUlJ1qxZg7u7O2fOnKGlpYW6ujoiIiIICwvrT2v/H1V7eztFRUWoq6ujoaGBt7c3hw8f5saNG3R3d1NcXExAQIA4Kv443bhxg/T0dHx8fNDX10deXh4tLS127dqFr68vGRkZtLW19emYWlpa8PX1Fae1P1J3dzf5+fkIhUKuX7/+WP+qqiqEQiG5ubnU1dWJx4UZGhqirq6Oo6OjuKHaIz18+JDExERkZGRwcHDA398foVBISEiIGN51dXWZM2cOKioqeHt7ExwcTE5ODkVFReIUfkNDQ7S0tJg0aRKrVq3CysoKExMTNm3axKZNm0hKSqK2thYDAwNMTEwwMTHBzMwMaWlppk6dip6eHs7OzsjJyTFnzhyUlJRQUVFBQkKCdevWsWPHDrS1tXF3ccHP25kQoR3Weutx0FiHneQivKQWYT7zO+xmDMPzx5EEz/sO6xkjegF6wI/DKZj1OZU/fE7NzE84Ou0DTkx9n1PT3uHMtLc5P/1Nmqa/TuCswSwcM4I5I77mxxFfI/HjGO7NeZ722YPonDMAfhTAHAHMFoj+PU8ACwWwWMDG4R+iNnkcC4cNwX7JXEJ0RoOyADQEsEkA+gLYIQBrATgLwFcAYQLOBQ3sBa2HvV/oE7QedH27h98BTTnawn7bp2uPgI49AhJ2juWwlhLZ2kpk6ygSbDqOphABZ4MFnAoSAe/RQAHVgQLKAwQUBwgo8BeQ6ycgX1+OPENlsmy2kmWvh5PTx0T7CAj3ERDiLSDQS4C/1wCEXgPx8hyEh+cg3Dyfw837A4pjNlOydzMlKVsoTd+Kpc972Hi/hrXPG1j6vIWl8G0shO9g7vseO33fx8zvQ3b4fUxw4uIekH0wRxf9oGGoB41GNngi8iFTUAqdikrYdNTCZ7Ix4ge0I+ewKWouGfnbKSizIafCmUPVPvgXOrAtfQv6GfoYZRphesgUs8NmWGRbYJ1jjV2eHQ75DrgWu/YCuZDqEAIqAgiuCiasOoyIIxFE1UYRezSWvcf2klif+JenYT8NS6pPIr4unqjaKOLq4no8F18Xz66CXdjm2mKebY7pIVMMMgzYemArOqk6aOzTQCVJBYUEhV4p7lY5VswJmcOMwBlM9p/MON9xjPIexXCP4Qx2Hcynzp/yvuP7fOPxTa9jGuc7rk+A/muLEb9cdHicGWUa9fCzybXp82JEzNGYHoAuGSP5RJ8BOwcw0mtkr+NdsGcBo71HM8lvkjhjYEnEElZHr0YmXob1SevZuG8jbiVuHDx1kEOnD5F7Npf8c/nE1cWRfiqdwvOF1FyqobFF1Fzv0p1LtNxv4U77Hdo62nql5/9RevhQ1Mzu6lURyJ8+LUqlr6qC4sP3KYxtIsu9lhDdcnavK2bHkko0Z9chPfEU0kNLmf3JcT5/5zavv9zOoAFd1Ci7PHEx9KrgHQoEk/lScEr88IiPWyj5d8+QYtMUCmyyGf7ZXfHzAwd28/prXXz04UO+GXyP8aNvMnf6JdYsOoOfXRGncpI5W5BMc2kyF8uSORSVQ3V6Jk1ladxrSKajWJPu+A+efC2P//BPOc/9+s/VD+j/RZo7dy5vvvkmPj4+ZGVloaKigkAgIDw8vM/7eAToaWlp6OrqIicnx6pVq5g+fTrS0tJIS0ujq6uLvLw8c+fOZdGiRcyZMwdpaWlkZGQICgoiIyMDLS0tNm3aJE4nl5WVZd26dejp6aGrq4upqSkGBgb4+/sTGBiIkZERvr6+qKio4OfnR3l5OTIyMsTExKCjo8Pu3btpampCTk6O1NRUzM3NMTAw4N69eygrKxMSEkJQUBAaGho0NTWxefNmfH19iYuLY8OGDVy5cgVzc3OMjIyorq5GQ0ODgoICPF292LZuHak7DAiYO4WDc8dTNnkoJ0d+yPWvXqf9nefoenUAxtKrWTRqJElqcsiOG0XtqE8enw46SMD9D1/k5MgPCZ85jusXL2NpaYm+vr44NbmsrAwdHR1Wr17NtGnTmD9/Pq6urgQEBGBiYoKzszMNDQ2cPHmSmJiYHjXG6enp3L59+0/8JPXrWdC1a9cIDAwUNQbLzCQvL4/IyEjxaK++qq2tjZaWFm7dusWFCxeKH+tDAAAgAElEQVQ4d+4c9+7d+93HU19fj6+vL+Hh4RQVFVFUVER4eDhCoZBjx4490b+2tlY8DtDLywszMzPMzMzYu3cvjY2Nvxqdf/jwIZ6ensTFxVFbW9srY+TevXu4u7uTkZFBU1NTr4kMXV1dXLhwgYaGBoKCgnB1daWhoYH79+9z4sQJLC0tkZeXR1VVFTU1NQoLC+no6ODBgwfibvmPZpI/KiGoqakhKSkJDQ0N1q1bh7u7OyoqKgiFQu7evUt3dzcVFRVs27YNNTU1rK2tWbVqFZs3b8bc3FzcQPKXgF5TU0NERASpqanEx8eTnCxKKTx8+DB79+7lwIED2NjYkJeXR2FhIVVVVZw4cYLr169z69Yt4vfGo6SqhJ7JVpS1ZIlOEVJ3LovS+niE4dvZYb8KGytDNuuqo621gazMJIKiTTF3mYPprpkExkoTkSRHRKIM4QnShCesJXzvGsLjVxKfrEhDzUHqqw9QX53K8ap9hCRvwDNmOR6xK/GIXYV77GrcYtbgGrsWt1hpXOPX4bZXmqRDJjRUx9JQHUt9VTS1lZE4JyrjnLQe5yQVnJJUcUlSYXeSKruTNrA7WR3XfRtx269NfrErxyoDOFbpT32lH4XFLuzJ1Cciy4DIw8ZE55gSl2tGQp45SUWWpJbYkFZiw4ESG6pqvams9aKozI+iUl9Kq3dTXOVMeZUL5VXOVFS7UF7lREWlIxWVjpRX2FNabktpuQ2l5VaUlVlSUmZOcelOikvMKC4xpbjYtAeA/x4rLjalqNSc/DIbcit2cbjSlUPVPqTXBrO/Lobkv0kjtL+7RR6JJLAyEJ8yH9z+j707j4uqXNwAfkBEcMkUM5csq59oinUrF251WyzTNDNzSXO7ZrgbKW5oNyxUNNPMlCt6zUxcSk1WF1AgN1wTt1AUBREUVBQXQBCe3x8TM4wzgzM4c+adc57v5/P+4cyZmXNeeEaeOWfO2bcQ3+35DrN2zkJAfAD8t/vDb6sfxkSPMThCITw5HJ1XdcZbP7+FV5e/irZL2+KF/76A5xY9h2d/eFb7oUDd2XURmBCo99jp8dPNLuib/tqkV9B7rOth1uOMFfSnFzxt1mMHbByg97jQo6FGl6sWWE17lEDjeY3x9IKnsXj/YkSejsTmlM2IORuDH/f/iG5ruqHP+j7496Z/Y1TUKEzYNgFfxX2F2btmY+H+hVj+53Js/GsjruVfw/WC67hZeBP5RfnIuZ2Dq3euoqC4wKI9+/eKS5GfcwvXT2Yi+49kZIYdwIWfdyBtUSTOfh+Bo7MicWrScmS9PQDXPduh8JF6FRb1+k7Z2n++1uwS0joORbFbDdx57Elcf+ZFrK02CAFSAIZKy9BJ2gIv6RjqS5dRRSrWe6qhn+Rh2+8XsT3sLOI3HUP4ikP6B0c5laJm9SI0fOwOXmh2EQPf2YoZgxZi3cSxyFnzL9z97SmUrNF8EJu7rr3Z80HyYEF3ENHR0ZAkCWvWrNG7vWPHjmjUqJHZl9sqK+g///wzQkJCMHLkSMyYMUN72acJEybgm2++0R7KPmTIEKxcuRJDhw7Fzz//jHXr1mHUqFHYtm0bFi1ahFGjRiEzMxO+vr747rvvMG/ePIwaNQqpqano378/Nm/ejMjISAwYMADp6en4/PPPsXDhQiQlJWHIkCE4cOAAJk2ahKCgIKSkpGDUqFGIiYlBSEgIJk6ciOTkZHzh+zl+WvQDQr+bjf/07YmIaZOw+MP38Mv7HbGtR0fEvNISSa80x4rPP8OATz5BfFQkenR5Dys+7mbWYaGQJCzv3RXveD6Dbz/oBL9Ob2Fze0+UOkko8qiCbM86OPTy0wjr/E9smDQKwwcPQEREBLZt24b+/fvj2LFj2kIycuRIzJ07F1FRUZg4cSJmz56N+fPnIyYmBtu2bUN8fDwyMjIM/nPIzc3F5cuXK1WsyHHl5+fjyJEj2LRpEzZs2IC4uDicPXvWbifwuXLlCuLj47FmzRqsWbMG8fHxBpcXrMi9e/eQnp6OM2fOIDs726zHJCQk4JdfftF+v768P/74A8uXLzfrMP2bN29qL3135MgRZGZmIikpCaNHj0b//v0RERGBixcvIiUlBeHh4QgJCanw/A5paWkICQnB+fPncejQISxbtkx7VENubi6WLFmCsLAwLFiwAL/99hsAzYclp0+fxs6dOw0K+tmzZxEfH4/hw4fDz88Pp0+fRnFxMRYvXozg4GCEhITg1KlTFW7jnj17EBISAn9/fwQFBSEhIQGrV6/WrltaWhqmTp2KiRMnIiQkRHuSvYquLuDorH3Cq5LSEhSXFKOo+C6KigtRVJSPwru3UHD3Ju4UXsedgmu4U3AVt/Ov4mb+NeQV5OJGfi5uFNzA9YLruJZ/DVfuXDE6sm9n49KtS8i6maUdF/Mu4sKNC0i/kW4w0q6n4VzuOZy9dlY7zlw7g5SrKUi+kmz2+CvnL5zIPoFjl49ZPI5ePoqkS0k4nHXYopF0KUn72D+z/rT48abGocxDOHDxAPZl7ENiRqLB2HthL3an78au9F3YmbazwpFwPgFx5+Kw49wO7YhNjcW2s9uw9cxW7dicshlRp6MQeTrSYNj7A4GIU5qjBVYcWYGlh5Zi0f5FmL93Pmbvmo1vEr7Blzu+xKSYSfhiyxcYFTVK82FAuYI+dftUdFvTDZ1XddYeNeD9P2+0CdEdNdBsYTOje/wbzWtkVkG//+sHyw8vN/sDhUX7F+k9dkz0GLMeV3d2XYP1/ddP/9JbxuUbF+35BOrOqYsG3zVAk/lN8GnYp/gz608cu3wMf+X8hZSrKei6uis6reqED9Z+gF6/9cKA3wdgaNinGL1pGMZvHA7/34bjm3WjcHxbKEq2x+Fu6K8oCAjC1UGDceq1F3C52ZO4U7sWCqu7Y8O82QidsQghk1bifxNCkdb+TbP+Tt0hvaV3k3+XJGS8/gkuvvYxznUZhd1dZ6C7tAlvSnF4STqE/5NS8JiUjWpSASSpVO+xvy2Kx/7fI7B/YxiObFiGuV+EW+09lKyDBd1BfPbZZ6hZs6bBHqQ1a9ag7Dvl5igr6HM/H4Gdq37CfwZ/gu8+H4nNSxbhi4+6IWzhfEwb9Am+HTsSsVGRGDhwIJKTk+Hr64t5gd8gcuFcTPygMzYF/gdLRgxB0EddEOU/Dgs+fA+/DOqD1f0/Qsj7HZCSkoKxY8di5cqViI2Nxbyub2Pnu96If6UV9rZvjqR/NsfRF59CyotNcK51Q1xo+RguN6+Lnf9sjuioKISuXIkhgwYifnM0imtXfCKnshH+Wmv0aP0cfLxfxpvPNsXMDqZPcqTdG15NQn5DV/w4/N8Y0K8fpn+lOTndoI8+xMCe3dG7d2/4+/tj4sSJGDZsmPaP4pCQEEyYMAETJkzQXic6KCgIY8eOha+vL/r3749p06YhMTGRpZssIvoZdq3tzp07WL16NVatWoWjR48iJycH58+fR3R0NEJCQpCcnGz2c926dQvx8fHaw+VDQkIQHh6OyMhI/PTTT9rbIiIikJGRUeFzlZaWIjo6GsuXL8fhw4cRGRmJH3/8Ed9//z2mTp0Kf39/BAcHY/369QYZN3aZteHDhyM4OFh7Jvzg4GDtUUyWbGdaWpr2yKGhQ4fi+++/R1xcHGJjY7Fs2TJs3LgRBQUFyM/PN/uDW0emtryQeEpKS3Cv5B6KS4q14+69uygoLkB+Ub523L57GzcLb+JGwQ3k5ufi6p2r2lH+A5yyUf4DnLKRfiMd56+fR2puqnacvXYWKVdTcOrKKb0PZk7mnNR+MFP2IcuhzEPYfXo3dp3ahX0Z+7QfdOy5sEf7wUbZhxtlH2CUjfIfYGw7uw2bUzZj418bEXo0FMsOLcPCfQvx7e5vEfhHIL7c8SUmxkzE55s/NyjZK5NWosPPHfDq8lfRZmkbtA5uDc+Fnnjq+6fw+NzHUWd2HdSYWQNVv6mKpYeW6j12WMQwswp6g7lGzt2w7MHnbpCmS+i8qrPBY10DXc167JTYKYg4FYHI05GITo7A/B0z9e53/dLwMXNekXCmjoSSqi4V/r26oVUVPDqlCTy+eAH1hndA44mtkFnb9BWDyo8Rzj/q3fTvMQPxp2djnP5HG2S90h1/NBts7xjRfVjQHYS3tzfatm1rcPuJEycgSRJCQkLMeh7tWdzNCPT6gT0xqF9fbPl9A2b850sEv/uaWW8EpU4SwoN/wNCPPsSUkcPx06xAHKvgkPHyI7tZbQS+1wGz3++Ijs2fRUjvD3D3sYrftMrG9vbN8cWAfuj+9lt478030OGlF3GziTsym9fBXy89iZ2vPIdNHV/Bqr7dETzy31i7+DssXvQjdu/ejfnz5+OTTz5Bv3794O3trT3pVKe/r308YcIE/Oc//8GcOXOwYcMGzJkzB5988gkGDRqELl26oFevXvD19cX333+PX3/9FSdOnLD2rwCphBoLx+3btxEXF4dly5ZpS/TGjRu1J3izVFFREfLy8vS+g19cXIy8vDzk5+eb/TzFxcXYtWuXtvDPnj0bX3zxBb766its2rRJuxf8fsYK+ldffYXFixdjx44diI2Nxdy5cxEYGIjdu3dXqkgXFBTg8OHDWLduHX7++Wft1wSMrY+SqTEvRA/Dlpkp+7CibBTdK9J+WHGn6A5u3b2Fm4U3taP8hxU5t3Nw+dZl7bh06xIyb2YiIy9DO45dPoYtKVuw8eRGrDq6CksPLcUP+37A7F2zMT1+OqbETsEXW7/A1B1TcTz7OI5nH9d+QDEicgRe+d8reGnJS/AK9kLzH5trvz7Q4LsG8JjjgUeCHkG/Df2wK30XEs4nIP58POLPx5t99YOA+ABEnY7SFvvAhECzjxYI278K27f8F3tWfIM/g3yxtH9LBP5LwvJ/SAj3lDD+3fseEyAh38W8o0T79pQg/ccF0qQ6kHyfwsufORkuR0LhT8RBNGvWDJ06dTK4PSsrC5IkYdasWUYfV1hYiLy8PO3IyMgwu6Cv+bAjBr3/Ppb6T8QP433xQ4f2Zh8yviYoEFNHDMOUsWPw07y5+PPlp8x63PWnamLerFmYM2MGZn3zDSaOH49zXo8j95lauNS8Ls63boCTLzbBoXbPYu8bXoh643n88nZ7fN/5LYzt2QO+vr6YOXOm9tJLixcvhq+vLyZOnIjJkydjxowZOHHiBOLj4+Hn54cpU6Zg48aNmDlzJr788kvMmzcPW7duxV9//YWTJ0/i/Pnz2Lp1K5YtW4b//e9/+PbbbzFhwgSMHz8eCxYswIYNG3DgwAFkZWUhMzMTmZmZ2v/8ODgqM9LT05Genm739bDHyM7Oxrlz55CRkWH3dbl/vcreE8zJeEpKikFBP3r0KHbt2oWwsDCEhYVhz549fL+wwlBzXjg4KjOYGcvHmcwzOHnhJI6cP4L9qfuxK2UXdiTvwJaTWxB+NBzrj6zH6kOrkZyRrH3MtWvXkHQ+CV/Hfo1pW6fBL9oPYyPGYvim4fh046cY8NsA9FnbB91Du6PrL11xMfsiMrMzteOb7d/ghcUvoOWPLeH5gyee+f4ZNJnXBA3nNkS9OfXw6KzaaDfWHeMn/ANZ/12Ay4H/Qc7EL3Bt+FCEvvoIVrXWFPuEpyS8NkS/3L/+b/2/vUuquti4xZClWNAdRLNmzdC5c2eD28sKelBQkNHHBQQEGPyhKEkSTjavh4xW9XHhucdwoeXfo0U9XGxZHxkt6iGjRT1sCpgKX19fREZGYsuWLZg7uC/SveojtfXjOPNCI5z6xxM48WITHHu5KY60fRaH23viwD9bYLd3cywLCcG8efO0Z4Gf0aMrfu38KlZ/0AEre72HH7q9g0Wf9EBQn26Y8mFnTOvfCxMG9UbApC8wYsQIDBw4EOPGjcPo0aMxduxY7QnsJk2ahHnz5mHWrFkYM2YMJk+ejKVLlyIyMhLHjh1DSkoKUlJSkJWVpX2TTE1NRWhoKJYsWYIvv/wSvr6+8Pf3x5w5czBv3jxMnDgRX3/9NWJiYnD+/Hmjb86XLl3Cn3/+iQMHDuCvv/5CTk4Orl27Zvf/NDiUN/jHk+MPYwU9JSXF7uulxMG8cHBYNpgZ5Y+0S2k4ffE0Tlw4gaS0JBw6dwiJZxOxK2UX4k7FYduxzdi2ex2SE2NwY98+5Jm4jCrZDwu6g6jsIe6m9qD7+PhgypQpCAoKwujRozFlyhTMnj0bK1euxFdffYXx48fj22+/xZIlSzBz5kx88cUX2LJlC2bOnInOnTvj1VdfxTvvvIPBgwfjq6++wpYtW+Dn54cBAwYgKCgIn3zyCXr06AE/Pz/4+Pjgo48+wmuvvYaPPvoI06dPx8qVK/H1119jyJAh8PHxwfTp0zFv3jztYeRle6zDw8MRFxeHEydOICkpCdu2bUN4eDi2bduGM2fOoKioyOw5zMzMxMGDBxEWFobQ0FD89ttviIqKwpkzZ0xe/51IbmX/wZLjMnaIe05Ojr1XS5GYFyLLMDNE4mNBdxA+Pj5GTxK3du1aVOYkcR07dsS7776r3Qs9efJkjB07Fm+//Ta6du2KPn36oE+fPpg6dSpGjRqFwYMHa69jPnPmTO0Z23/88UeMHz8eAwcOxJAhQzB69Gh8+umn8PX1RVBQEJYuXYro6GgkJSUhIyMD+/btQ1hYGNavX48dO3YgKysLgOa7nnfu3GFRJtXjH0+OjwVdPswLkWWYGSLxsaA7iM2bN0OSJKxbt07v9s6dO1fqMmtnzpxBQkICli9fjpCQECxYsADTp0/H3Llz8cMPP2DBggWYPXs2pk2bpt2zHhERgRMnTuDGjRsANGc5zszMxJkzZ5CamoqzZ88iNTUVt2/f1hZt/kdAZBlmxvGxoMuHeSGyDDNDJD4WdAfSsWNH1KlTB0uXLkVcXBx8fHwgSRJCQ0PNfg7tWdzz8rS33b59Gzdv3rTJ3mv+R0BkGWbG8bGgy4d5IbIMM0MkPhZ0B3Lr1i18/vnnaNCgAVxdXfH8889j7dq1Fj2HsYJuS/yPgMgyzIzjY0GXD/NCZBlmhkh8LOgqw4JOJDZmxvGxoMuHeSGyDDNDJD4WdJVhQScSGzPj+FjQ5cO8EFmGmSESHwu6yrCgE4mNmXF8LOjyYV6ILMPMEImPBV1lWNCJxMbMOD4WdPkwL0SWYWaIxMeCrjIs6ERiY2YcHwu6fJgXIsswM0TiY0FXGRZ0IrExM46PBV0+zAuRZZgZIvGxoKsMCzqR2JgZx8eCLh/mhcgyzAyR+FjQVYYFnUhszIzjY0GXD/NCZBlmhkh8LOgqw4JOJDZmxvGxoMuHeSGyDDNDJD4WdJVhQScSGzPj+FjQ5cO8EFmGmSESHwu6yrCgE4mNmXF8LOjyYV6ILMPMEImPBV1lbty4AUmSkJGRgby8PJuPtLQ0pKWlyfJaHBxKGMyM44/U1FSDgp6ammr39VLiYF44OCwbzAyHqVFaWmrvmkJ/Y0FXmYyMDIM/HDk4ODg4ODg4ODg41Dvy8uQ5upYejAVdZUpKSpCRkYEbN27I8mlc2QcCcu2x5+Bw9MHMcHCYP5gXDg7LBjPDYWpwD7o4WNDJpvLy5P3OO5GjY2aIzMe8EFmGmSESHws62RT/IyCyDDNDZD7mhcgyzAyR+FjQyab4HwGRZZgZIvMxL0SWYWaIxMeCTjZVWFiIgIAAFBYW2ntViBwCM0NkPuaFyDLMDJH4WNCJiIiIiIiIBMCCTkRERERERCQAFnQiIiIiIiIiAbCgExEREREREQmABZ2IiIiIiIhIACzoRERERERERAJgQSciIiIiIiISAAs6ERERERERkQBY0ImIiIiIiIgEwIJOREREREREJAAWdCIiIiIiIiIBsKATERERERERCYAFnYiIiIiIiEgALOhEREREREREAmBBJyIiIiIiIhIACzoRERERERGRAFjQiYiIiIiIiATAgk5EREREREQkABZ0IiIiIiIiIgGwoBMREREREREJgAWdiIiIiIiISAAs6EREREREREQCYEEnIiIiIiIiEgALOhEREREREZEAWNCJiIiIiIiIBMCCTkRERERERCQAFnQiIiIiIiIiAbCgExEREREREQmABZ2IiIiIiIhIACzoRERERERERAJgQSciIiIiIiISAAs6ERERERERkQBY0ImIiIiIiIgEwIJOREREREREJAAWdCIiIiIiIiIBsKATERERERERCYAFnYiIiIiIiEgALOhEREREREREAmBBJyIihxYZGQlJkjB37lx7r4rZfvzxR0iShPXr19t7Vazu+PHjkCQJo0ePttlr+Pn5QZIkHDx40GavYUty/fx79uwJSZJw5coVm74OERFZDws6EREBACRJsmisWLGiUq9j7XIlYkF/0DrZs6C//PLLqFGjhs2enwX9wUz9/D08PNCqVSurvQ4LOhGR42FBJyIiAEBAQIDBqF27NiRJgq+vr8F9R44cqdTrsKAD169fR3JyMm7evCnzmtm+oN+9exfJycm4fPmyzV7D0Qu6qZ8/CzoREbGgExGRSU899RQkScL58+et9pws6PZl64IuB0cv6KawoBMREQs6ERGZZG5BP3HiBPr27YsGDRqgatWqaNy4Mf7973/j3Llzest5eHgYPVy+fGE8efIkJkyYgBdffBEeHh5wdXVF06ZNMWLECGRlZRm8tqVluPzhxRs2bEDbtm1RvXp11K1bF3379jW6rZasU1kpMjbKCmVFh7ifP38ew4YNw1NPPQVXV1d4eHigR48eRo9YKF9UQ0ND8dJLL8HNzQ0eHh7o37+/3l7sskPPjY2uXbtql9u/fz8++ugjNGnSRPv6//jHPzB+/Hiz5tfUIe5l85KTk4MFCxbgueeeQ7Vq1dCgQQOMGjUKt27dMuv5Ld3u8sz9PQWAa9euYerUqWjRogVq1KiBmjVromnTpujbty+OHTtmdHuTkpLQpUsXPProo6hRowbeeOMNJCQkGDz3/T//st9hY6P8PP7666/o27cvnn32Wbi7u6NGjRpo06YNgoODUVpaavA6LOhERI6HBZ2IiEwyp6AnJCSgevXqqFKlCnr16oUpU6bg/fffhyRJqFOnDpKSkrTLzpkzB//85z8hSRJ8fHy0h8vPnDlTu8y0adNQt25dfPTRR/D19cX48ePRoUMHSJKEJ554AtnZ2XqvX9mC/sEHH6Bq1aro168f/P398c4770CSJDz++OMG22vJOv3666/o168fJElCx44d9b4WkJmZqbcO9xf0PXv2oHbt2nB2dsb777+PCRMmYODAgahZsybc3NwQFxent3xZUe3duzfc3d3Rt29f+Pn5wdvbG5Ik4fnnn0dxcTEAIDs7GwEBAWjYsCGqVq2qt16rV68GAOzduxcuLi6oWbMmPvnkE/j7+2PkyJF4++234eLiYtb8Pqig9+7dG3Xr1sXAgQMxbtw4eHl5QZIkdOnSxaznt3S7y1jye1pcXIznn38ekiThX//6F8aPH48JEyagT58+eOyxx/TOv1C2vR06dECNGjXQoUMHTJkyBf3794erqytcXFwQERGhty73//xPnz6NgIAAuLu747HHHtP72URHR2sf17hxY3h5eWHgwIGYPHkyhg0bhqZNm2rzdD8WdCIix8OCTkREJj2ooBcXF+PJJ5+EJEmIiorSu2/p0qWQJAn/+Mc/9G5/0OHJFy5cwN27dw1u37BhAyRJgp+fn97tlS3oTk5OBoV3xowZ2vJuy3UyVtALCgrQuHFj1KxZ02Buzp8/j3r16uGpp57SK55lc1m3bl2cPn1ae3tpaSk++OADoz+Xig5x9/HxgSRJiI2NNbjP3JL3oILerFkzvaMO7t69i5dffhmSJOHEiRNmvYal223p7+mePXsgSRL69+9v8NrFxcW4fv26wfZKkoSAgAC9ZXfu3AknJyfUr18fBQUF2tsre5K4s2fPGl2fHj16QJIkHD9+XO8+FnQiIsfDgk5ERCY9qKBv2bIFkiShU6dOBveVlpbihRdegCRJOHz4sPb2h/n+cNOmTdG6dWu92x5mD/r97t69i8aNG8PZ2Rk5OTk2WydjBS00NBSSJOHrr782+piyDw/KHzJdNpezZ882WD4iIsJoaayooA8bNgySJGHPnj1G7zfHgwr6unXrDB6zcOFCi64MYOl2W/p7unfvXpN7pe9Xtr33l/AyZdu9YcMG7W3WPot7QkICJEnCvHnzjL42CzoRkeNgQSciIpMeVNBnzZplsigBwPjx4yFJEpYtW6a97UEFvaSkBMuXL8ebb74JDw8PVKlSRe87uXXr1tVbvrIF/f4yU6as1JTfi2ztdTJW0EaPHq3da2vsjPq9evWCJElYsmSJ9jFlc7l9+3aD1zhy5AgkScLnn3+ud3tFBT0hIQFOTk6oWbMmPv30U4SGhhr9fnZFHlTQje0F3rRpEyRJwvz58816DUu329Lf08LCQrRo0QKSJOGtt97CvHnzsG/fPoPD5stvb7du3Yw+d9nPetq0aQa3WVrQL1++jPHjx6Nly5aoXr26wffV7z9PAAs6EZHjYUEnIiKTHlTQJ0+eDEmS8PPPPxu9f+7cuZAkCd999532tgcV9M8++0z73e6y79qWldSGDRsalMvKFvTQ0FCj95cV5fJ7PK29TsYKWt++fY2eJOz+Ye5cmirKDzqLe3x8PDp37oxq1appX9PLywthYWEmH2PO61ZUFi39GVq63ZX5Pc3JycHo0aPRsGFD7Tw8+uijmDhxot6e8rLX++yzz4w+9/r16yFJEsaMGaO9rTIFPTs7G40bN4YkSfjnP/+J0aNHY9q0aQgICMDIkSMtnnMiIhITCzoREZkk9x708+fPQ5IktGnTBvn5+Qb3N2rUyGoF3dw96LZYJ2MFbfjw4ZAkCTt27DBrOwDbFPQyBQUF2LlzJ6ZMmYJatWrB2dkZiYmJD3yciAW9Mr+n5Z06dQpLlizRHgo/atQog9ez9R70gIAAk1PQcqcAACAASURBVHMUExPDgk5EpBAs6EREZJK530Hv3Lmz0ftfeuklg++gT5o0CZIkYd++fQbLx8bGQpIkfPXVVwb3paSkQJIkqxV0c7+DXpl12rx5c4WF0FhBW7FiBSRJwvTp083aDqByBb1du3Zwc3Mz+zUAIDg4GJIkwd/f/4HLiljQK/N7akxeXh6qVq2Khg0bGryeNb6DXr9+fbRo0cLoa/fv3x+SJBn9ysG0adNY0ImIFIIFnYiITLLkLO6bN2/Wu6+scN5/Fvc5c+YYLScAcObMGUiShDfeeEPvus43btzAm2++adWCXtFZ3MvvDa3MOu3fv99oYbp/HcrPQX5+Pho3boxatWoZ3YteWlqKnTt3oqioSHtbZQr6e++9Z7K0xcfH4+bNmwa3l+29NXUCO3Ne154F3dLf09OnT+PUqVMGz52amgonJyc8/fTTBq8nScbP4u7s7Gz2Wdyfe+451K5d2+h33ctK+PLly/Vu37t3L9zd3VnQiYgUggWdiIhMMvc66O7u7qhSpQp69+4Nf39/fPDBB3BycjK4vjQAHDx4EJIkoUmTJpgwYQICAwMxZ84c7f1l16Z+8cUX4efnhyFDhqBRo0Z4/vnn0aJFC6sV9O7du+tdB71jx46QJOPXQbd0nQoLC1GvXj1Ur14dw4cPxzfffIPAwEDt5cVMFbT9+/fDw8MDkiTh9ddfx5gxY+Dn54fevXtrfxa3bt3SLl+Zgv7dd99BkiS0b98e06ZNQ2BgoPbM6m+//TZq1KiB999/H2PHjsWkSZPQuXNnODk54bHHHkNGRsYD51fEgg5Y9nu6atUqSJKEdu3aYciQIfD398enn36KunXrQpL0T9RX/jroNWvWRIcOHeDv72/RddDLjBkzBpIkoWPHjvjqq68QGBiIrVu3AgDOnTuHWrVqwcXFBb169cKkSZPQvXt3VKlSBR9//DELOhGRQrCgExGRSeYUdEBTUj7++GPUr18fVatWRaNGjTB48GCkpqYaXX7ZsmXw8vLSnoisfMG9efMmJkyYgGeeeQbVqlXDk08+CV9fX9y4ccPo96crW9DXr1+PjRs3om3btnB3d0edOnXw8ccfG91WS9cJAHbt2oXXX38dtWrV0u5hLSuUpgoaAGRlZcHPzw8tWrSAm5sbatasiWbNmuHjjz/G2rVrUVJSol22MkX17t278PPzw5NPPgkXFxdIkoSuXbtq53LgwIFo3rw5atWqhRo1aqBFixYYN24cLl68aNb8ilrQy+4z5/f03LlzmDRpEtq3b4/69evD1dUVTZo0Qbdu3QzOHF/+9Y4ePYouXbqgdu3aqF69Ol5//XXEx8cbrIepn/+NGzcwdOhQNGzYUHulgPLbceTIEXTu3BkeHh6oUaMG2rZti19++aVSc05ERGJiQSciIlWpqBwTWaqiDwSIiIgsxYJORESqwoJO1sSCTkRE1sSCTkREqsKCTtbEgk5ERNbEgk5ERKrCgk7WxIJORETWxIJOREREREREJAAWdCIiIiIiIiIBsKATERERERERCYAFnYiIiIiIiEgALOgqU1pairy8PJSWltp7VYiIiIiIiKgcFnSVycvLgyRJyMvLk+X1cnNzkZubK8trESkBM6MAOTmAJOmPnBx7r5UiMS9ElmFmiMTHgq4yLOhEYmNmFIAFXTbMC5FlmBki8bGgqwwLOpHYmBkFYEGXDfNCZBlmhkh8LOgqw4JOJDZmRgFY0GXDvBBZhpkhEh8LusqwoBOJjZlRABZ02TAvRJZhZojEx4KuMizoRGJjZhSABV02zAuRZZgZIvGxoKsMCzqR2JgZBWBBlw3zQmQZZoZIfCzoKsOCTiQ2ZkYBWNBlw7wQWYaZIRIfC7rKsKATiY2ZUQAWdNkwL0SWYWaIxMeCrjIs6ERiY2YUgAVdNswLkWWYGSLxsaCrDAs6kdiYGQVgQZcN80JkGWaGSHws6CrDgk4kNmZGAVjQZcO8EFmGmSESHwu6yrCgE4mNmVEAFnTZMC9ElmFmiMTHgq4yLOhEYmNmFIAFXTbMC5FlmBki8bGgqwwLOpHYmBkFYEGXDfNCZBlmhkh8LOgqw4JOJDZmRgFY0GXDvNBDKSgAzp0DEhOBmBhgxw4gIQFITgbu3LH32tkEM0MkPhZ0lWFBJxIbM6MALOiyYV6oUkpLgdRUIDoaiIgwPfbvB27etPfaWhUzQyQ+FnSVYUEnEhszowAs6LJhXshihYXA7t0VF/PyIzISOHoUuHvX3mtuFcwMkfhY0FWGBZ1IbMyMArCgy4Z5IYvcvQvEx5tfzsuPLVs0h8OXltp7Kx4KM0MkPhZ0lWFBJxIbM6MALOiyYV7IbHfvar5fXplyXn7ExwNXrth7ayqNmSESHwu6yrCgE4mNmVEAFnTZMC9kltJSyw5rN2ccPKg5XN7BMDNE4mNBVxkWdCKxMTMKwIIuG+aFzJKcbN1yXja2bXO4bDMzROJjQVcZFnQisTEzCsCCLhvmhR7oyhXNid5sUdDLTiJ3+rS9t9JszAyR+FjQVYYFnUhszIwCsKDLhnmhChUVaa5vbqtyXn789Ze9t9YszAyR+FjQVYYFnUhszIwCsKDLhnmhCp08KU85LxsnT9p7ix+ImSESHwu6yrCgE4mNmVEAFnTZMC9k0p07QFSUvAU9IgI4e9beW14hZoZIfCzoKsOCTiQ2ZkYBWNBlw7yQSYcPy1/Oy76TLnDemRki8bGgqwwLOpHYmBkFYEGXDfNCRl2/bp9yXja2btXswRcQM0MkPhZ0lWFBJxIbM6MALOiyYV7IqMRE+xb0iAhg507N9dcFw8wQiY8FXWVY0InExswoAAu6bJgXMmDvveflh4CXX2NmiMTHgq4yLOhEYmNmFIAFXTbMCxk4eND+xbxsREYCN27Ye0b0MDNE4mNBVxkWdCKxMTMKwIIuG+aF9Ny6pSnF9i7m5Ud8PFBSYu+Z0WJmiMTHgq4yLOhEYmNmFIAFXTbMC+k5csT+hVzwQ92ZGSLxsaCrDAs6kdiYGQVgQZcN80JaBQX2ue65OSM6GsjPt/cMAWBmiBwBC7rKsKATiY2ZUQAWdNkwL6R16pT9i3hF4+BBe88QAGaGyBGwoKsMCzqR2JgZBWBBlw3zQgA0lzOLibF/CX/QEOB9gJkhEh8LusqwoBOJjZlRABZ02TAvBAC4dMn25XrlSmDQIKB1a6BRI6BZM8ufIz7e7tdGZ2aIxMeCrjIs6ERiY2YUgAVdNswLAQD27bNdMV++HHj9dcDFRT/TNWoYLvv998DChRU/X1qaXaeKmSESHwu6yrCgE4mNmVEAFnTZMC+E/HzbXVrN3x+oWdMwz9WrA02aABs36pYNDwdatACcnYEBA4CwMOPPuW0bcO+e3aaLmSESHwu6yrCgE4mNmVEAFnTZMC+E5GTrF/OwMKBbN/0MP/II0LMnsHSp8ccEBuov364dsGaN8WXteNk1ZoZIfCzoKsOCTiQ2ZkYBWNBlw7yQTU4O16WLfn5fecV02S4b69cDffsCTk66xzVpAqxaZbhsdDRQWGiX6WJmiMTHgq4yLOhEYmNmFIAFXTbMi8pdvWqbQ9t9fTWHqjs7AyNHag5fN/ex06cDtWrpsv/MM8bL/bFjdpkyZoZIfCzoKsOCTiQ2ZkYBWNBlw7yoXFKSbQp6RAQwcSIwblzlHhsSAnh46PLfogXw66/6y0RFab4/LzNmhkh8LOgqw4JOJDZmRgFY0GXDvKhYSQmwZYvtCvrDjuBgoHZt3XvAq68a7ok/ckT2aWNmiMTHgq4yLOhEYmNmFIAFXTbMi4plZVmvTIeGArNmWb+kL1igOeN72fvAqFH690dGArduyTptzAyR+FjQVYYFnUhszIwCsKDLhnlRsQMHrFOiw8M1Z1x3dgY++QTYtMm6JX3qVM17QJs2mg8C7r//0CFZp42ZIRIfC7rKsKATiY2ZUQAWdNkwLypVVKT5Drc1CvS4cfqXUlu50vp70gMDTV8XPSICkOlvMoCZIXIELOgqw4JOJDZmRgFY0GXDvKhUerp1ivPatcCjj+pyOm2a9cu5OWP/ftmmjpkhEh8LusqwoBOJjZlRABZ02TAvKrVvn3WKcbduuox6e8tXyNeuBRYt0r/t2jVZpo6ZIRIfC7rKsKATiY2ZUQAWdNkwLypkrcPbFyzQfO9ckgBXV+B//5OnnE+bBtStCzRsCKxfr7t9zx5Zpo+ZIRIfC7rKsKATiY2ZUQAWdNkwLyp04cLDl+TwcMDLS5fPgQPlKefh4cBzz+let2dP/ftleJ9gZojEx4KuMizoRGJjZhSABV02zIsK7d//8EX5m2902WzYENi4UZ6CHhGhuT66i4vmtV1cgKVLdfft3Gnz6WNmiMTHgq4yLOhEYmNmFIAFXTbMi8oUFz/84e3h4UDz5rps+vnJV87LRs+eutd/7TX9+y5dsukUMjNE4mNBVxkWdCKxMTMKwIIuG+ZFZS5efPhyvHIl0KCBJpdPPVXx5c9sNdatA2rX1r0/zJ6tuy8hwaZTyMwQiY8F/T7Lli2DJEmoUaOG3u2DBw+GJEkGo3nz5kafZ+HChWjevDlcXV3RtGlTTJ8+HUVFRQbLZWdnY/DgwfDw8IC7uzu8vb2xfft2o88ZGxsLb29vuLu7w8PDA4MHD0Z2drZF28eCTiQ2ZkYBWNBlw7yozIED1inIv/8OjBkDTJ8ufzkvG6NG6d4fPD31PyjIzLTZFDIzROJjQS/n4sWLqF27Nho1amS0oLu7uyMxMVFvJCUlGTzPjBkz4OTkBH9/f8THx+Pbb7+Fq6srfHx89JYrLCyEl5cXnnjiCYSGhiImJgbdu3eHi4sLEu77BDUhIQEuLi7o3r07YmJiEBoaisaNG8PLywuFhYVmbyMLOpHYmBkFYEGXDfOiIiUlQHS0/Qq1tcemTZo9+GXvEZMn6+6LiwNKS20yjcwMkfhY0Mt5//330a1bNwwePNhoQb//NmOuXr0KNzc3DBs2TO/2mTNnwsnJCSdPntTetnjxYkiShL1792pvKy4uRsuWLdGuXTu9x7dt2xYtW7ZEcXGx9rY9e/ZAkiQEBwebvY0s6ERiY2YUgAVdNsyLily+bP9Sbe0REKB7j3jySf296OnpNplGZoZIfCzof1u1ahVq1aqFjIyMhyrooaGhkCQJiYmJerdnZWVBkiTMnDlTe9s777xj9BD5WbNmQZIkXLx4EYBmz74kSQgKCjJY1tPTEx07djRrGwEWdCLRMTMKwIIuG+ZFRY4efbgyHBICLFli/1JefpQ/YZ2LC/D997r7YmI0Rw1YGTNDJD4WdGi+B+7h4YHFixcDMF7GBw8eDGdnZzz++ONwdnZG48aNMXr0aFy7dk1vuSlTpkCSJNy+fdvgderVq4d+/fpp/92gQQP07t3bYLmoqChIkoRt27YBALZu3QpJkhAdHW2wbK9evdCwYUOzt5UFnUhszIwCsKDLhnlRkZiYhyvDr78OODkB3t7AihX2L+dlIzAQ6NIF+Oknw/vOnLH6NDIzROJjQQfQs2dPvPLKKyj9+/s+xgr6/PnzMX/+fMTExCAmJgbTpk1D9erV0aJFC9y6dUu7nI+PD6pVq2b0dTw9PfHuu+9q/121alUMHz7cYLm9e/dCkiSsWbMGALB69Wqje+UBYNiwYXB1dTW5bYWFhcjLy9OOjIwMSJKEtLQ07Zu0LUd6ejrS09NleS0ODiUMZsbxx/WUFIOCfj0lxe7rpcTBvKhkZGQgNzy80uP6//6HUmdnQJJQ8sgjyP3tt4d6PtlGdDRyc3KsOpfMDIexQWJRfUHfsGEDXF1d9b4bbu7h7Bs2bIAkSZg/f772Nh8fH7i5uRld3tPTE506ddL+u2rVqhgxYoTBcmUFfe3atQB0BX3fvn0Gyw4bNszkBwIAEBAQYPTs8yzoHBxiDmbG8QcLunyDeVHJSEp6qKJb8OGH2izmf/yx/Yu3JePQIavOJTPDYWyQWFRd0G/duoXHH38cfn5+uH79unb069cPNWrUwPXr140eql6mpKQENWrUQJ8+fbS3lR3ifufOHYPl7XGIu6k96DzEnUhMzIwC8BB32TAvKrFzZ+UPIV+/HqhRQ5PDqlU110G392HtD1rfpUt1/46MBKz4NxszQyQ+VRf08+fPG927XH50797d5ONLSkpQvXp19O3bV3ubqb3dly5dMjhJXMeOHdGiRQuD5w0KCoIkScj8+zqYZSeJmz17tsGyzZs350niiBSEmVEAFnTZMC8qUFj4cIX3iy90OXzrLfsXcFNj40ZgwACgdm2gRQv9+3butNpl15gZIvGpuqAXFBQgPj7eYHTq1Alubm6Ij4/H8ePHTT7+119/hSRJWLBggfa2a9euwc3NzeDQ9aCgIIPLrAUHBxuU+eLiYrRq1Qrt27fXe3y7du3g5eWFe/fuaW9LTEyEJEn473//a/Y2s6ATiY2ZUQAWdNkwLypw4cLDFd/nntPlcM4c+xdxUyM8XP+66LNn69+fmmqV6WRmiMSn6oJuyv3fQU9LS8Mrr7yChQsXYvPmzdiyZQumTJkCNzc3tGrVyuAw+BkzZsDJyQlTp05FQkIC5s6di2rVqsHHx0dvucLCQrRq1QpNmjTB6tWrERsbix49esDFxQUJCQl6y8bHx8PFxQU9evRAbGwsVq9ejSZNmsDLywuFhYVmbxsLOpHYmBkFYEGXDfOiAgcPVr70Llqkf53x8HD7F/GKRvm9/e3a6d8XHQ3k5z/0dDIzROJjQTfi/oKem5uLHj16oGnTpnB3d4erqyuaNWuGSZMm4caNG0af44cffoCnpydcXV3x5JNPIiAgAEVFRQbLXb58GYMGDULdunXh5uYGb29vxMbGGn3OmJgYeHt7w83NDXXr1sWgQYOQnZ1t0baxoBOJjZlRABZ02TAvCldaCmzZUvnC262bLoPDhtm/gEdEAJs3A3/8AcTGGt73++9AvXq6dV60SP9+IycLthQzQyQ+FnSVYUEnEhszowAs6LJhXhTu2rXKF+HyJ4dzdQXWrLFvMY+LA65e1W1bTo7x5YYO1b1vdO5seP/f5yeqLGaGSHws6CrDgk4kNmZGAVjQZcO8KFxycuUL8caNwLhxQMuW9j85XHIyUFJiuH27dxsuu24d4O5u+oOFbdsAI0dkmouZIRIfC7rKsKATiY2ZUQAWdNkwLwr3MJdXu7+s26OYR0YC6emmt+/qVeOP69pV994xZIjh/UePVnpKmRki8bGgqwwLOpHYmBkFYEGXDfOiYHfv2nevtzXK+YULD97OxETDxwYH69476tcHNm0yfO5K/h3HzBCJjwVdZVjQicTGzCgAC7psmBcFy8iwf8l+mJGWZt525uYaf/xLL+neP6ZONbx/z55KTSszQyQ+FnSVYUEnEhszowAs6LJhXhTs8OHKl+M+fYCZM4GwMPuU8+PHLdvW+HjD5wgIAGrWBD76CFi+3PjrZGVZPK3MDJH4WNBVhgWdSGzMjAKwoMuGeVGwrVsrV45/+EGXO29v+ct5YqLm8nCWSEkxfJ6wMM2Z6Ct6re3bjZ98rgLMDJH4WNBVhgWdSGzMjAKwoMuGeVGoGzcqX5A//FCXuxEj5C3nMTGVO8N6fn7lXzM11aKXYmaIxMeCrjIs6ERiY2YUgAVdNsyLQp09W7myumkTULeuJnMuLkBoqLwFPTu78tts7JJr5oytW4HiYrNfhpkhEh8LusqwoBOJjZlRABZ02TAvCmXszObmjFmzdJlr107ecn7kyMNtc1qa6edeuRIYOBD48kvj9586ZfbLMDNE4mNBVxkWdCKxMTMKwIIuG+ZFgUpKgOjoypXkLl10mfPzk6+cV/bQ9vKKioCoKMPnDg4GqlTRbFPLlsZff/NmzWXpzMDMEImPBV1lWNCJxMbMKAALumyYFwW6cqVyJXnTJuDRRzV5q1oVWLdOvoKemWmdbT9wwPC5w8OBJk107yWLFhlfhxMnzHoJZoZIfCzoKsOCTiQ2ZkYBWNBlw7woUHJy5UryzJn2OXv77t3W2/aLF42/ho+Pbts++MD4MlFRQEHBA1+CmSESHwu6yrCgE4mNmVEAFnTZMC8KtHNn5Yrye+/Z5/D269ett+3FxcYP71+zRnPSO0kCHnkE2Lix0nvRmRki8bGgqwwLOpHYmBkFYEGXDfOiMEVFQGSk5SV50yagdm1N1lxd5Tu8/c8/rT8HBw8af63XXtO9n0ydanyZ6GigsLDCp2dmiMTHgq4yLOhEYmNmFIAFXTbMi8JkZVWuKIeFaQ5xf+89oFMnecp5dLRZh5RbLDPT+OsFBJh3CP/JkxU+PTNDJD4WdJVhQScSGzOjACzosmFeFObYMXnKtTWGmSdls9i9e8YPcy9/jfcqVYBVq0x/cFDBGd2ZGSLxsaCrDAs6kdiYGQVgQZcN86IwcXH2L97mDDNPyFZphw4Zf92PPtK9pwwdanr9kpNNPjUzQyQ+FnSVYUEnEhszowAs6LJhXhSksND+xdvcceyYbefi0iXjr7t4se49xdPT9Ppt2aI54ZwRzAyR+FjQVYYFnUhszIwCsKDLhnlREFOXGHvQGDcOGDMG+OUXZew9B4CSEmDzZuOv37mzZnvXrq14Pc+eNfrUzAyR+FjQVYYFnUhszIwCsKDLhnlRkKNHK1eYmzTRfS97zRrbF/SjR+WZj8OHH249Y2I0Rf8+zAyR+FjQVYYFnUhszIwCsKDLhnlRkB07LC+hwcG6jLVsaftyHhkJ3Lkjz3yYOszdkpGebvC0zAyR+FjQVYYFnUhszIwCsKDLhnlRiIKCyhXQwYN1Gfv0U9sX9AMH5JuTig5zN3fExRk8LTNDJD4WdJVhQScSGzOjACzosmFeFCIjo3IF1NNTl7GQENsX9GvX5J0XU4e5h4cDs2cDHTsCb75Z8Tpfvqz3lMwMkfhY0FWGBZ1IbMyMArCgy4Z5UYikJMvL8s8/6/L11FO2L+c7d8o/L6YOc7//mugVnSAvMVHvKZkZIvGxoKsMCzqR2JgZBWBBlw3zohDbt1temMeM0eWrTx/bF/TMTPnnpaLD3Hv2NO+a6BERwM2b2qdkZojEx4KuMizoRGJjZhSABV02zIsC5OdXrjB7e+vyNXeubct5bCxQWmqf+TF1mHv5E+T93/9VvP5JSdqnY2aIxMeCrjIs6ERiY2YUgAVdNsyLAly4YHlh3rABcHPTZKt2bSAszLYF/fRp+81PRWdz/7//073HBAebXi4qCrh7FwAzQ+QIWNBVhgWdSGzMjAKwoMuGeVGAI0csL8zTp+uy1aGDbct5ZKTmLPP2UtFh7p9+qpuHvn0r3o6UFADMDJEjYEFXGRZ0IrExMwrAgi4b5kUBKvP98xUrNOW0dWvA39+2BV3OS6uZcuiQ6XlwctK8xzRqpDm7u6ntiIkBSkuZGSIHwIKuMizoRGJjZhSABV02zIuDq+z3z+Uc2dn2niXNCepMrV/r1rr3mXnzKt6WzExmhsgBsKCrDAs6kdiYGQVgQZcN8+LgKnv9c7mGPU8OV969e0B0tPF1LH82++7dK96e3buZGSIHwIKuMizoRGJjZhSABV02zIuDq8z1z+Ucf39vWwgHDhhfxzVrABcXzfuMp+cDtyn3wgVmhkhwLOgqw4JOJDZmRgFY0GXDvDi4HTssL82+vprLqm3aZNtybu+Tw92voqMNRo4EZs8262z2ufv2MTNEgmNBVxkWdCKxMTMKwIIuG+bFgRUUWF6a160DqlTRZKpZM9sW9MREe8+QvqIizeXSHnK7ciMjkSvC9+qJyCQWdJVhQScSGzOjACzosmFeHNjFi5YXzGnTdJnq0sW2Bf3iRXvPkKF9+x6+oIeHI/fYMXtvCRFVgAVdZVjQicTGzCgAC7psmBcHVpnvn7/3ni5TX35pu3K+ebPmxGyiSU83b/0rOPw/NzwcuVu3inHyOyIyigVdZVjQicTGzCgAC7psmBcHVpnvnzdooMmTiwvw66+2K+hJSfaeHePu3tV8N97YOm/cCIwaBbRsCbz2WsUFPTwcuHTJ3ltDRCawoKsMCzqR2JgZBWBBlw3z4qAKCy0vzUuW6PLUurXtynlEBHDtmr1nyLQ9e0zvNa9dWzM/rq6a7+tXVNBF+449EWmxoKsMCzqR2JgZBWBBlw3z4qAyMy0vzcOG6fI0eLDtyvmOHfaenYqlpppe9y5ddHPk61txQY+IAG7ftvfWEJERLOgqw4JOJDZmRgFY0GXDvDio48ctL85t2+rytGCB7Qr6qVP2np2K5eebXvc5c3Rz9OKLDy7oJ07Ye2uIyAgWdJVhQScSGzOjACzosmFeHFRCgmWleeNGwM1Nk6VHHzXret+VHrdu2Xt2HmznTuPrHh4O1K+vmSdnZ2DVqooL+pYtYp4Mj0jlWNBVhgWdSGzMjAKwoMuGeXFARUWmT3RmasyYocvSW2/Zrpz/8Ye9Z8c8Z86Y3oaePXVzNWJExQU9IkJzZngiEgoLusqwoBOJjZlRABZ02TAvDujyZcuL84IFwNtvA3XqAH5+tivoZ8/ae3bMc+tWxXNV9r7TqtWDC7qjfChBpCIs6CrDgk4kNmZGAVjQZcO8OKCTJytfoMPDK7zG90ONyEigoMDes2O+uDjTc/TEE5r3HScn4KefKi7oERHA9ev23hoiKocFXWVY0InExswoAAu6bJgXB7Rrl+32gD/M2LPH3jNjmeRk09vSr5/uvWfo0AcX9CNH7L01RFQOC7rKsKATiY2ZUQAWdNkwLw7m3j0gKsr+ZdzYSEuz9+xY5vp109sSHKzbg/7++w8u6NHRmnMDEJEQWNBVhgWdSGzMjAKwoMuGeXEwV65YXpy/+w5Ys8a25TwyErh7196zY7mYGNPbNG4c8PPPBrcbLegREZrrqxOREFjQVYYFnUhszIwCsKDLhnlxMKdOWVacw8KARx7RXDKsTRvbFfTERHvPTOVU4nryJgt6XJy9t4aI9+mE/wAAIABJREFU/saCrjIs6ERiY2YUgAVdNsyLg9m717JCOW+eLkPe3rYr6I56qbFKHJFgsqBHRADXrtl7i4gILOiqw4JOJDZmRgFY0GXDvDiQkhLNd50tKZQDBugyNGqUbcq5ox7eDgClpcCWLQ/exk2bgN9+e3BB//NPe28REYEFXXVY0InExswoAAu6bJgXB5Kba3l5btlSl6Fly2xT0B318PYyR46Y3rYVK4APPgDq1gX69HlwQY+K4sniiATAgq4yLOhEYmNmFIAFXTbMiwM5c8ay4vzrr0CVKpr8NGpkm3IeEeG4h7eXuXTJ9LatXKn5/r4kAQ0bAn+Xc5MFPSKCJ4sjEgALusqwoBOJjZlRABZ02TAvDmT/fsuKc0CALj+dO9umnDvy4e1l7t2r+KsDzz+vm8f58x9c0HmyOCK7Y0FXGRZ0IrExMwrAgi4b5sVBmPtd6fLjww91+Zk82TYF3dEPby9z8KDpbRw9WjePH3744IIeEcGTxRHZGQu6yrCgE4mNmVEAFnTZMC8OIi/P8vL89NOa7Dg5AaGhtinoaWn2nhnryMgwvY2rV+u+KlCvHnI3bXpwQefJ4ojsigVdZVjQicTGzCgAC7psmBcHcf68ZcU5NFSXnWeesU05j4gACgrsPTPWUVSkOcGbqe1s00Y7n3lBQQ8u6NHRPFkckR2xoKsMCzqR2JgZBWBBlw3z4iAOHbKsOC9cCDz7rGbveY8etinnu3bZe1asKzHR9LaOG6d9Lyro0uXBBT0iAjh3zt5bRKRaLOgqw4JOJDZmRgFY0GXDvDiImJjKlejQUM2ZyG1R0M+etfesWFdFRymsWwe4ugKShJLatZH7++8Pnp/4eHtvEZFqsaCrDAs6kdiYGQVgQZcN8+IAbt+2TcF+2HH7tr1nxroKCire3lde0b4f3fz6a/PmiNkisgsWdJVhQScSGzOjACzosmFeHMCFC/Yv4/ePhAR7z4pt7NplepunTNHsQX/kEdweN868eUpKsvcWEakSC7rKsKATiY2ZUQAWdNkwLw4gKcmy8rx+ve0L+qlT9p4V2zhzpuJ5nT4dub//bt530CMigM2bgeJie28VkeqwoKsMCzqR2JgZBWBBlw3z4gB27LCsPL/xBlC/PvDOO7a7vJpMfwPJzoyvE5h1HfTyIz3d3ltFpDos6CrDgk4kNmZGAVjQZcO8CK6w0LLiHB4O1KmjyYy7O2DOycwsHdu323tWbCs+3roFfedOe28RkeqwoKsMCzqR2JgZBWBBlw3zIrjMTMvK86JFusy0aWObvefHj9t7VmwrOdm8gh4aCmzYoO4jDogExYKuMizoRGJjZhSABV02zIvgjh+3rDz7+Ogy8+mntinoV67Ye1Zs68aNCrc/b84cFL38MlClCjBpEj/UIBIQC7rKsKATiY2ZUQAWdNkwL4JLSLCsPLdrp8vMDz9Yv5xv2QKUltp7VmwvNtbkHNwMDNTNsbe3+fNWUmLvrSJSDRZ0lWFBJxIbM6MALOiyYV4EVlQEREaaX543bQKqV9fk5ZFHgLAw6xf0w4ftPSvyOHHC5Bzk/v47Ssq+51+1KrB2rXlzd/GivbeKSDVY0FWGBZ1IbMyMArCgy4Z5EVh2tmXlee5cXV5ee8365TwiQvOdeDW4etV0QQ8PR8H77+vm2tfXvLnbu9feW0WkGizoKsOCTiQ2ZkYBWNBlw7wI7K+/LCvPAwbo8jJqlPXLeVSUeq7pXVoKbN1qsqDnzZmjm+uXXjJ/Dm/ftveWEakCC7rKsKATiY2ZUQAWdNkwLwLbtcuyAt26tS4vISHWL+iJifaeEX2lpUBJEXCvACi5Z/3nT0oyWdBzw8I015qXJMDZGVi1yrw5/Osv668nERlgQVcZFnQisTEzCsCCLhvmRVD37mn2WJtbnjdt0nzvXJI0xdGS63SbO86ft++cFN0C8lKAK/uBS7FARoT+yIoBcvYCN88ARTcf/vVMfMVAe5m1nj11708jR5o3h9u2qeMke0R2xoKuMizoRGJjZhSABV02zIugrlyxvEBv3AjMng1Mm2b9ch4RAeTnyz8PpaXA7QvA5XjDQv6gcTkBuHUeKKnkYfklJcDmzaYL+oIFuvcnLy/z5/HSJWvOEBEZwYKuMizoRGJjZhSABV02zIugTp+2Tcmu7EhIkH8O7mQCl3ZYXszvH5lbgFvnKrfn+vBh0wU9PBxo3Fjz/uTkBKxYYd5c7t9v9akiIn0s6CrDgk4kNmZGAVjQZcO8CGrvXvuX8vIjOVm+bb9XoDmM/WGLucEe9Xig8Jpl65KZabqgR0QA/fpp3p88PYHvvzdvLiMjgYICm0wdEWmwoKsMCzqR2JgZBWBBlw3zIqCSEiA62v6lvPyQ63ckPwvI3Gz9cl42LkYCN/4CSkvMWx8j5wLQK+grVwJLl1o+nykptp1HIpVTdUE/cuQIunTpgiZNmsDNzQ116tSBt7c3Vq1aZbDs4cOH8fbbb6NGjRqoXbs2evTogdTUVKPPu3DhQjRv3hyurq5o2rQppk+fjqKiIoPlsrOzMXjwYHh4eMDd3R3e3t7Yvn270eeMjY2Ft7c33N3d4eHhgcGDByM7O9vibWZBJxIbM6MALOiyYV4ElJtrWdkLCADatAGGDgWWL7d+OZfjxGalpZribKtifv/I/gMoNvM79QcOmC7olR07dth2PolUTtUFPT4+HsOHD8eqVasQFxeHyMhI9O3bF5IkITAwULtccnIyatWqhX/961+Ijo7Gxo0b0apVKzRq1Ag59/3RNWPGDDg5OcHf3x/x8fH49ttv4erqCh8fH73lCgsL4eXlhSeeeAKhoaGIiYlB9+7d4eLigoT7viuVkJAAFxcXdO/eHTExMQgNDUXjxo3h5eWFwsJCi7aZBZ1IbMyMArCgy4Z5EdCZM5aVva5ddTn58kvrF/QjR2y7vSX3gCv75Cvn2rO+bwPumvG7n5Fh/YIeEQFcvWrbeSVSMYcs6CUlJbhz547Nnr99+/Zo0qSJ9t+9e/dGvXr19EptWloaqlatikmTJmlvu3r1Ktzc3DBs2DC955s5cyacnJxw8uRJ7W2LFy+GJEnYu3ev9rbi4mK0bNkS7dq103t827Zt0bJlSxQX687kuWfPHkiShODgYIu2jQWdSGzMjAKwoMuGeRHQ/v2WFb0mTXTX4163zvoFPSvLdttack9zaTS5y7n2kPcozcnoKlJUpHeYu8mCHh4O/PCD+fP655+2m1cilXOIgl5QUIAVK1agV69eaNiwIapUqQJnZ2e4u7vj5ZdfxsSJE5GUlGS11+vatSuefvppAJrS7O7ujuHDhxss9+6776JZs2baf4eGhkKSJCQmJuotl5WVBUmSMHPmTO1t77zzDpo3b27wnLNmzYIkSbh48SIA4OLFi5AkCUFBQQbLenp6omPHjhZtGws6kdiYGQVgQZcN8yKY0lJgyxbzS96KFbqMNG9u/XIeFQUUV/IyZQ9SUgzk7LZfOS//vfTb6RWva2JixQV9zBigQQPNz2HRIvPmNjpaU/6JyOqELuj5+fmYPn066tSpA2dnZ7Rs2RIDBgzA+PHjMXXqVIwYMQLvvvsuHn30UTg7O+O1117T2yNtrpKSEhQXFyMnJweLFy+Gi4sLlixZAgA4deoUJEnC4sWLDR43YcIEODk5oeDvs1lOmTIFkiTh9u3bBsvWq1cP/fr10/67QYMG6N27t8FyUVFRkCQJ27ZtAwBs3boVkiQhOjraYNmyDywswYJOJDZmRgFY0GXDvAgmL8+yAj1unC4jffpYv6Dft8PEakruATl77F/Oy4+bZ02vb1paxQX9s88q93NIS7PN/BKpnNAFvXHjxvD09MS8efNw+fJlk8uVlpZix44dGDBgAKpVq4Zly5ZZ9DrDhw+HJEmQJAmurq56h42XHUq+du1ag8eV7e3O+vvwKR8fH1SrVs3oa3h6euLdd9/V/rtq1apG98rv3bsXkiRhzZo1AIDVq1cb3SsPAMOGDYOrq2uF21ZYWIi8vDztyMjIgCRJSEtL0/5hY8uRnp6O9PR0WV6Lg0MJg5lx/HE9JcWgoF9PSbH7eilxMC+CjePHtQXQnFHYoYM2IzcDAy16rFnjxAnrb+O1a8g9twu5p8LFGxlHja9zdjZy/y7n6WFhSA8L05un6ytWoNTJCZAk3GvYELn33W9yxMXZ/3eOwyqDxCJ0QV++fDnu3btn0WNSU1MRHx9v0WPS09Nx8OBBREdHY8SIEXB2dsbcuXMB6Ar6unXrDB5XVtAvXboEQFPQ3dzcjL6Gp6cnOnXqpP131apVMWLECIPlygp62QcCZQV93759BssOGzbM5AcCZQICArQfPpQfLOgcHGIOZsbxBwu6fIN5EWzs3m1+eQ4LQ0m9eoAkodTVFbnr11u/oGdlWX8b0/bav4hXpqTHx5ss6Lnh4Shq3Vr7fpU3b575c5yRYf/fO46HHiQWoQu6vYwYMQIuLi7Iycmp1CHuxk5gZ69D3E3tQech7kRiYmYUgIe4y4Z5EczWreYfHr1kiS4fL7xg/cPb4+Ksv303z9r/UHZzRp6R65SfO2f6EPeICGDUKN3Po0cP8+f5xAnrzzORyjlsQf/jjz+MftfbGn766SftXuuyk8QZ29vdqVMnvZPEmdrbfenSJYOTxHXs2BEtWrQweM6goCBIkoTMTM1ZOctOEjd79myDZZs3b86TxBEpDDOjACzosmFeBHLzpmUFeuRIXT4GDbJ+QS935RyrKMjRnJDN3uXb3HEr9b71L6i4oIeGAlWqaH4e9eoBYWHmzfPWrUBJiXXnmkjlHLKg37t3D87Ozjh8+LBNnn/gwIFwdnbWXuO8T58+qF+/Pm7evKldJj09Ha6urpg8ebL2tmvXrsHNzc2gzAcFBRlcZi04ONigzBcXF6NVq1Zo37693uPbtWsHLy8vvcP9ExMTIUkS/vvf/1q0bSzoRGJjZhSABV02zItAzp+3rEC/+qouH/PmWb+gW/M63cV3gMwt9i/dlo7b953ErdxXEIzOWZs2up/JrFn/z96Zx0VV7n98IEVMbTFv1zJbbqbl8tMW0zQrs7wtlmnaLXHJ3JeytFwxInEDURFFAQXZ92WGRZZUVFxwQcV9BQRUREBUZB0+vz+OeBgYZs7AmXPOnPm+X6/nda/DAGfO8/1MvOfZuN/rPD1HvREEYRAmK+gWFhbNFvQpU6Zg3rx5CAkJQUpKCsLDw/G///0PCoUCf/zxx6PnnTt3Dm3btsUHH3yA+Ph4REZGomfPnnj++ecfSXwtDg4OsLCwwOLFi5GSkgInJye0atUKU6ZM0XheeXk5evTogc6dOyMgIADJyckYMWIEWrRogZSUFI3n7t69Gy1atMCIESOQnJyMgIAAdO7cGT179kR5eblBr5kEnSCkDWVGBpCgCwblRUIcPWqYQLu7M9OqBw8GoqL4lfMdO5gj3/igRg3k7xVftpvScmM0z0m/ckW3oM+bx75nDR3K/X4ba7d8gjBTTFbQ+RhB9/LywqBBg9ChQwe0aNECTz31FD788EP4+fk1eO7Ro0cxZMgQPP7443jiiSfwzTff4PJl7UdauLi4oGvXrrCyssKLL74IOzs7VGo5K/LmzZsYP3482rdvD2tra/Tv3x/Jyclaf2ZSUhL69+8Pa2trtG/fHuPHj0d+fr7Br5kEnSCkDWVGBpCgCwblRUIkJvI/Ct7UxucMy+LT4ot2syQ9Fih/OJvgwQPdgh4WBrRuzbxntWkDhIdzu98xMcCDB/zdc4Iwc0xW0PkYQTdHSNAJQtpQZmQACbpgUF4kwr174kt53Zaby8/renBTfMHmo+XtACqZv/tqd3Nv9N4NHsxI+pAhgK8v93t+4QI/95wgCNMUdADIysrSOipN6IYEnSCkDWVGBpCgCwblRSJkZYkv5XVHc/n4+7C6HMhLEF+u+WrXk4CqByjKyNAt6D4+zEi6off9n3+af88JggBgwoJONA0SdIKQNpQZGUCCLhiUF4lw7Bh3kYuMBEaPBuztmyaC+lpqKj+v6fZh8aWa73ZzF4rycnQLenNaQQE/954gzBwSdDODBJ0gpA1lRgaQoAsG5UUiJCVxl7hVq9hcfPQR/5J4UcsZ4IZy/5r4Mm2kVnRlN4r+STaOoNPSU4LgBUkLeo8ePRAZGcn5+devX8fPP/+MlStXGvGqTBsSdIKQNpQZGUCCLhiUFwlw/75hEjdmDJuLn3/mXxKb+/dNdZlpHqnGVdDPK1GUGg4oOZxzHhwMLF3K/d7HxfGzvIAgzBxJC7q9vT3atm2Lzp07Y+HChUhISMCtW7dQ8/DojAcPHuDUqVPw9PTEsGHD0LJlSwwYMEDjvHFCExJ0gpA2lBkZQIIuGJQXCZCdbZhA9+zJ5mLrVn7lvJGTcAyiIE10iTa6oJ8MB/zX6Jb0b78FrKyYfvLw4N4HmZnN7wOCMHMkLegAMyo+f/58dOjQARYWFrC0tMRjjz0Ga2trWFpawtLSEhYWFvjggw8QEREh9uVKHhJ0gpA2lBkZQIIuGJQXCWDI+vOwMKBFCyYTHTvyP3p+8mTzXsuD66ILtCCCfl4JRKwC/J2BxtajjxvHvn+NHcu9D/bs4aeuCMKMkbyg11JZWYl9+/bB0dERv/76K6ZNm4YlS5bAz88POTk5Yl+eyUCCThDShjIjA0jQBYPyIgEMWX9ub89mYuhQ/gX95s2mvw51FbPTuQQkWhBBT/UAvGwbl/StW9m+euGFxkVeWxPob0yCkCsmI+gEP5CgE4S0oczIABJ0waC8iIyh689HjmQz8ccf/Mp5bCxQXd3011KcIbo8c2rXooBL24ALm4ELbsBFDyA7wnBBvxTOCLouSe/Rg+2vtWu598WpU/zVGEGYISToZgYJOkFIG8qMDCBBFwzKi8gYuv68Sxc2E35+/Ar6oUNNfx0Vd4DcGPHlW19TdQUCHwMCFPWaBRDWHoh/C9g/FjjjqF/Qc1RA5Crdkj5rFttfX3/NvS927ADUav7qjCDMDBJ0M4MEnSCkDWVGBpCgCwblRWTS07lLW2AgYGHB5OHll/mVc5UKuHq16a8jf5/48l23ZQYC59ZrF/QGcq6l/TOEm6Dv92AF3csWCFirKemBgeyeAU89BURFce+PvDz+6owgzAwSdDODBJ0gpA1lRgaQoAsG5UVkkg04T3vRoqaNxnJt9+837TVI6czzq/7A3m+BIGsg8gXgmlLz6zv/C0S/AiT0B5IHMyKeOJAR99AnWEE/aaf5fdkRwOHZQFaYpqBfjgC8l9aT9HWakv7ee2y/2dlx74+DB/msNIIwK0jQzQwSdIKQNpQZGUCCLhiUFxEpLTVMoNevB778Eujc2bCztbm0nTub9hrUlcD1RPHFPDsS2D8eCG6tORJ+ehX3n3FNCVx0B47MYX5e3a8dncv8vLCnUbpnMorOhrJfi3bUFPRaSa+9t4sXs+9j779vWL88eMBvzRGEmUCCbmaQoBOEtKHMyAASdMGgvIiIoevP6zZDdgTn0k6fbtprKD4tvpyfcQKiX9IU88AWwK7PmA3g+Pgd9abGq0PbA0d/A65FA4e2NRR0L1sg0IW5t5GRwJNPMu9jLVsy09659sv587yWHEGYCyYr6O+8847Yl2CSkKAThLShzMgAEnTBoLyIiCHnnxu7NSVfVfeB3FjxxPxaFLDve2aDt0fybMlMY7+0jd/fdXYtkDig4Vp1VVcgwxHYvrQRSd/I3N+vvmJmPkyYAAQFce+X5GSgpob30iMIuWNygp6fnw8AaNu2rdav9+vXT8jLMTlI0AlC2lBmZAAJumBQXkTEkPPPjdni4pq2Y/jtI+LJ+eXtQGwvTVlW/ocRaWP+3nMuqIjtW0/ULYGwwYDXAu2SHuwGhIc3fdbDw7/bCYLgjskJ+hNPPIFnn30WLVu2xKxZs+Dh4YG0tDQ8ePAAxcXFaNeundiXKGlI0AlC2lBmZAAJumBQXkTC0PPPHR2B7duNI+iHDxt+/eWF4sl5jgo49rumIO8fy4yoC/C7i84rcfewPRDVWVPU/doDXr9ql/QQ96b3z5Ej/NcfQcgckxN0ALh69Sqsra3h6OiIsWPHolevXmjVqhVatWqFiRMnin15koYEnSCkDWVGBpCgCwblRSSysrgLmlIJdOjA5KBLF/7Xn2dlGX79+XvFFfQcFTO9PewZwzaC40nQi84rH25MN5ZZ7x6gAPxeB7yWaBd0L1sgdFvT+ic2Figv578GCULGmKSgA8DZs2c1/l1ZWYnCwkKRrsZ0IEEnCGlDmZEBJOiCQXkRCUPWn2/ZwuagTx/+R9DLygy79tI88eU8R8Xsup4ZKPjv1ThmLUcFnN/IHNsW69C4nHvZMsexhfkArq7A998bdib65cvGqUOCkCkmK+gAEBQUhN9//x1OTk5ITU0V+3JMAhJ0gpA2lBkZQIIuGJQXkUhM5C5nM2awORg/nl85T0kx7Lpr1MCNncLL+MFJwPFF4n8ooE3Qa1u6Tz0hnwh4T9N8bGg/ti/t7bn3065dxqlDgpApJivov/76K958800sWbIE06dPx8svv4xhw4ahtLRU7EuTNCToBCFtKDMygARdMCgvInDvnmESPWAAmwNnZ34F/dw5A689U3gp3j+OPTrt5J/SFfRrSsDvr4cy/gvg3wbwtwK2/48V9Jnfsn354YeG9dXt28aoRoKQJSYr6B06dNCQzMrKSvz000+YMWOGiFclfUjQCULaUGZkAAm6YFBeRCAzk7uURUcD7doxGWjTxrBp0VyaIX2vrgKuJwo8cv6T5kZs+8dKV9BzVEDSBkbEfXuz1+xvAWz/gnncfSHQxprpTysrIDiYe1+lpxutJAlCbpisoD///PO4c+eOxmPFxcXo0KGDSFdkGpCgE4S0oczIABJ0waC8iMCRI9ylbN06NgP9+vEr5wkJhp2xXXJBWBk+PFtTzg9MEF3O9Qp6RsDD0fIFgO8bmtfv8z6zidzgt9k+nTWTe3/FxQGVlUYrS4KQEyYr6EuXLsXw4cM1RDMvLw/PPvusiFclfUjQCULaUGZkAAm6YFBeBKamBtixg7uUTZjAZmDaNH4F3ZARWXUlkBcvnAinL2SOT6uV29Qxoos5J0HPUQFByx5K+hLAp389Se8L2P7I9mm3VwzblT8z01iVSRCywmQFvbq6Gr/88guefvppfP755/jhhx/QqVMnrFixQuxLkzQk6AQhbSgzMoAEXTAoLwJz545hEt2rF5uBLVv4FfS8PAOu+6xwEnzGEQhsyUptynBmfbcE5JyToO9209wYzmdoPUnvDTz3DNuv65Zy7zNDN/UjCDPFZAW9ltzcXAQGBsLV1RWHDh0S+3IkDwk6QUgbyowMIEEXDMqLwFy6xF3GQkOBFi2Y+v/3v/k9/zwmhvt06epyIDdOGAG+6AGEPsHKbPJgSck5J0E/H9LwiLXtXzFr0Wtf13cd2fe2YQOBEA/ufVdcbNwaJQgZYLKC/s4774h9CSYJCTpBSBvKjAwgQRcMyovAHDzIXcQ8PIDevRlJ/+wzfkfP9+/nfs3Fp4WR3+wIIPIFVmLj/o95TAJSbpCg56iAsBVaJH0E4P9w2v5GBWBpwby3Pd0O2LoECPfj1ncnTxqvPglCJpicoOfn5wMA2rZtq/Xr/fr1E/JyTA4SdIKQNpQZGUCCLhiUFwFRq5mNvgyV6dBQwNeXX0G/fJnbNVeXAbmxwglw+nwgqBUQ1RnIDBRdxpss6Ps9Ggq6ly2wfRQzku7zAdDnNfb97dfvAW87ICpUf9/FxwPV1UYtVYIwdUxO0J944gk8++yzaNmyJWbNmgUPDw+kpaXhwYMHKC4uRrt27cS+RElDgk4Q0oYyIwNI0AWD8iIgt2/zK9nNaffucbvm4gzhJfj8BmaquwRkvMmCfiUC2L5Uu6R7T2f+d87/gD5dgZ+/AzwWPTyezQGIjtTff9euGbdWCcLEMTlBB4CrV6/C2toajo6OGDt2LHr16oVWrVqhVatWmDhxotiXJ2lI0AlC2lBmZAAJumBQXgTk3DnxxVylAnbu5Ha9VQ+EHT03kcZJ0HNUgGqNdkHX2n5n/7//Gv37DezbZ9xaJQgTR9KCXqPjfMuzZ89q/LuyshKFhYXGviSThwSdIKQNZUYGkKALBuVFQPbt4y7RAQFAVJRxBP3UKW7XW3TS+MJ7cQtwbJ7o0m0UQT+6nZuce9sA/tbA9u/Yx4Lc9Pfj3bvGrVeCMGEkLeht2rTBe++9h9mzZ8PLywsnTpxANa1baRYk6AQhbSgzMoAEXTAoLwJRVcXsnM5VogcOBNq1AwYNAvz9+RV0LlmqKjX+6HlWGBD9CrNp2s6hzL8lIOC8CXp2NOBrp0fOJ7Ebx/m3BLwns18L89bdj6dPG7tqCcJkkbSgjx49Gl26dIGlpSUsLCxgaWkJa2tr9O3bF9OmTYOHhweOHj2KSq5HbRAk6AQhcSgzMoAEXTAoLwJx4wZ3gY6KAtq2Zeq+TRt+R9Lj45nN6vRRdML4srvrM3bH9sgXgKwQ0eWbV0HPUQFJG/SMoC8BvN4AflUAfRTAn60BrzkP5f1PIDK48b7csYNbXxKEGSJpQa+lpKQEKSkpWLFiBSwsLPDcc89pSLuVlRXefPNNsS/TJCBBJwhpQ5mRASTogkF5EYiMDO4SvWYNW/cDBvA7en74sP5rFWLtefp8Vs6DrIDzrqKLt1EE/XSg/inuU79i+/sDBeD3HOC1gPmazzLdm8bl5Bi/dgnCBDEJQa/lzp07sLCwwJ49e3Dv3j3s3bsX69atg42NDd544w2xL88kIEEnCGlDmZEBJOiCQXkRiJ07uUu0jQ1b9zNn8ivo2dn6r9XYO7df9gZC2rKCfuQX0aXbaIKeowJCl+sW9C0LgNZWTH+3UgCeCsC358PRdVvA37HxTeNSU41duQRhkpisoBNNgwSdIKQNZUYGkKALBuVFAEpLDZPzDJymAAAgAElEQVTo7t3Zuvf05FfQy8t1X6uxzz2/Fg3E9WHlPOl94JoBsiuBZrCg73PXP4o++G22zyc9vDfbP6uzadzGxvuUNosjiAaQoJsZJOgEIW0oMzKABF0wKC8CkJXFXaCDgwFLS6bmO3XiV865HM1VfMq4gntoCivnYc8AVwNEF26jC/rlCMC7kTPRa5vdJPa97j8P74+/JeD9o/5N42izOIJoAAm6mUGCThDShjIjA0jQBYPyIgBHjnCX6MWL2Zr/8kt+Bf3iRd3XWV0O5MYZT27Pb2TWm9cKesbfosu20QQ9Nxa4kQzcTAHy9wEJnoDvCmC7feOy/mJHtu9X1kp6O8BrPrtpXERQw37dsQOgE5oIQgNJC7qfnx/OnDnz6Dx0EvTmQ4JOENKGMiMDSNAFg/JiZGpqGIHiKtGff87W/NKl/Aq6vr9b7pwxrtzG9WblPOUr0UWbN0HPjQUKDgJ3LwFlt4Dqiob39vp1th+U0czu7KHbAN8669NtPmP7/pO2gL8VsP1bTYn3+RuIimjYt9euGad+CcJEkbSg1+7SXnse+qRJk2BpaQl/f3+o6WiGJkGCThDShjIjA0jQBYPyYmSKigyT6I4PR1FbtABCQviT8+Rk3deprgTy4o0rt5e9mfXnUZ1N5szzRgX9QjxQdBx4cANQcxi9VquBhISG/aKMBoI2MaPqG38HrFoy/W9tBWyepH2kXdumcVyWLxCEGSFpQY+Pj4eDgwNGjhyJl156CRYWFo+k/fHHH0f//v0xa9YseHl54cSJE2JfrklAgk4Q0oYyIwNI0AWD8mJkLl7kLtH+/sBTTzH13rMnv6Pnp07pvs6S88II7rVo4IqP6JLdpJYbAxSkoejGZRQVFhpeC6dPN94/Yb6MpA/qw77n/fhl42vWg9wMnyFBEGaEpAW9PoWFhUhOTsaqVavw3XffoUuXLhrnoRP6IUEnCGlDmZEBJOiCQXkxMqmphom0Ugm4uACOjvwKuq78qKuAvB3iC7BUW24ss3le1QMAzcjM3bu6+yhkC7D0J/Y9b/DbmlK+fSTg9UudTeN8Nb8/I6OJRUoQ8sOkBF0bJSUl2LVrF5ydncW+FJOABJ0gpA1lRgaQoAsG5cWIVFYCMTH8inZTWnw8M8W6Me5eMp7cnrAFMoPFl+wmi/lpZvO8OjQrM/v26e6rgLXAqI8Bh+l15Hw+4Pt/zNp9v5cAr8UPN42zA6LCNPuZNosjCAAyEHTCMEjQCULaUGZkAAm6YFBejEjdjcHEbEeONH6N6mrgeqJxBPfceiDwMSCsA3BiqfjCzVnMY4CiE8yZ8FpoVmays3X3VXQU4LOs3pT2eYD/E+wGez4fsV/zXcGsY6/9/uzspl0XQcgMEnQzgwSdIKQNZUYGkKALBuXFiJw4YdjUdmMJek5O49d476pxJPdaFKB8lZXK1B/EF28u7VYqUHFHZ7c2KzNVVcxIt67+CvdruObcexzgb/Hw6DULwHsi+7VAF/Z76ZQmggBAgm52kKAThLShzMgAEnTBoLwYkeRk7hL92WfA668DY8cCQVrOum5qi4lhptpro0bNnNVtDNE98CMr51EvAtkR4su3zlHzOOB+FqdubXZmuHxwE7COke+tSwDnh+vOfd5n76n/U4DXH3XWo3uz30t5JggSdHODBJ0gpA1lRgaQoAsG5cVI6NsQrP7oefv2TJ1bWQFhYYaLeGPtwIHGr/F+tnFk9+IWIMjqoUxaAGccxRdwXS1/L1B1n3PXNjszxcX6+y0iDPjuU+DZp4HnOwDbljBrz/1eYCXdt2edEXY7ICqU+d709KZfG0HIBBJ0M4MEnSCkDWVGBpCgCwblxUhcvsxdotetY+v8nXf4nd5+5Yr266upAW7s5F92r0UDsT1ZiUz5WnwB19WKTzEzCQyAl8zs2aO/717vwtbFgnEPZXwW4N+Kvb/bhzdcjx4bC1RUNO/6CMLEIUE3M0jQCULaUGZkAAm6YFBejMTBg9wleswYts6nT+dX0EtLtV9faa5xhPfwLFYew58FskLFl3BtLTcOKNWxNl8HvGQmK0t/382dy9ZFvx51jlv7ps5U91aaR6/Vrke/dKl510cQJg4JuplBgk4Q0oYyIwNI0AWD8mIEqquZUUyuEt21K1vn27bxJ+cpKY1f480U/qX3ii8Q0oaVxwx78UVcW7ueCFQUN7l7eckMl83iIiKAJ9oxdfGYJbD+tzqj5T3qTHXvrrmhXJg38M8/zCwJgjBTSNDNDBJ0gpA2lBkZQIIuGJQXI3DzJneJ9vUFLCyYGn/pJX5Hz8+f1359D24aR3yTB7PSmPyR+CKurd3YCVQ1MquAI7xl5uRJ/X04YgT7Hvjt4HpHr7UF/F7VHEGvez76jRvNv0aCMFFI0M0MEnSCkDaUGRlAgi4YlBcjkJHBXaLnzGFrfNQofgX9TiPHhd1K5V98rymBg5OA4NbMKPoVH/FlvH7L3wtUN39tNm+ZKSnR34fu7uwHOO2fADwX15HxnwGvJQ2PZKtdj35gf/OvkSBMFBJ0M4MEnSCkDWVGBpCgCwblxQgYcrzagAFsja9axZ+cJydrv7byQuNK8GUv4KQEp7bfOgCoq3jpXl4zs2+f/r7s25etkZnfahdybS3QFbh3j5/rJAgTgwTdzCBBJwhpQ5mRASTogkF54RlDjleLiAAef5yp73btgKgo/gT91Cnt11eQJr4sC91uHzZ4p3Zd8JqZnBz9fWlvz74Pdu2sQ8p/B7x/0Hzs8E5+rpMgTAwSdDODBJ0gpA1lRgaQoAsG5YVnLl3iLtHOzoClJVPfH37I7/T227cbXltlCf/yey1KfAHXKedHeN8sjdfMqNVAQoLuvlQqgc6d2fdCu8kN5dz7B8C/HeDfAvCezj7uZw+UNbLUgSBkDAm6mUGCThDShjIjA0jQBYPywjOpqYaJtL8/c5wWn9PbExK0S2nhMZ7lXAkkvAvsHgZkBokv4wLIOWCEzJw7p79PZ8wArKyAjwcAq2c1FHSfd9kN+vw6AV511qofDgLU1fxdL0GYACToZgYJOkFIG8qMDCBBFwzKC49UVgIxMfyOhDelnTjR8Nqq7gO5MfwK8PFFrBQquzDCLraU17aCNKMdM8Z7Zh480F83YWFAQAAQFcHs0t5gevsCwK892x8+n7JfC17GfDhDEGYECbqZQYJOENKGMiMDSNAFg/LCI7m54su5SsUc81afohP8CnBWGBDegRXC9PniS3ltu7Wf1zXnDW6lMTJz+DD3/g3x1L4G3Xs84P+wP/xbAl51RtqP+wL3rvB7zQQhYUjQzQwSdIKQNpQZGUCCLhiUFx5JTxdfzuPjmXXNdakuA3Jj+ZXgfd+xch7/pnRGz/P38LZbe2MYJTO3bnHvY6WSOUZN6/Fq79SZ6v4yewyb0pGZQVGuZW8CgpAhJOhmBgk6QUgbyowMIEEXDMoLT9TU6N/sq2577z1g6FDgzz8Z4eJL0I8ebXhtxaf5leCL7kBgS0YCA1sAF9zEF/McFXBjJ1BdbvSuNlpmdu/m1sfBwcCkCcCv32uR9PmA/5OspG//gv3a+RDgeqIg94ggxIYE3cwgQScIaUOZkQEk6IJBeeGJ27e5S7SPD2BhwdR15878jqDn5Wlel7oSyIvnV4R31NmQbM9I8cU8R8WIZ1WpIF1ttMxkZenvX3d3oHVrpnZee7mRqe4/sP3j3wrw+oV5PGkDc69u7Tfa+nyCkAok6GYGCTpBSBvKjAwgQRcMygtPnD7NXaJnzWLrevRo/uQ8Lg6oqje9u+QCvyJ88k9W/sLaA5nB4st5XjxQIdxRYkbLTHU1sGOH/untL73E1s9SLUeuedkCvr3ZfvJ9jZnq7vMncDWSuWd3zvF//QQhIUjQzQwSdIKQNpQZGUCCLhiUF5745x/uIv3222xdOzvzJ+iHD2tek7oayNvBnwhnRwARz7Hid2ye+HKeGwOU5Qva1UbNzJkzhn3AM/Bd7YLuNQ/wbwv4WwHbP2PXou/dwt67MnpPJeQLCbqZQYJOENKGMiMDSNAFg/LCAyUl3CU6OBho0YKp6Q4d+F1/npureV33rvArw2kzWDmP6S6NjeHuZQre3UbNDNcj19q1Y2rI0hJY+0fju7p7zdZ8LMCe7bfrSUB1hXFeB0GIDAm6mUGCThDShjIjA0jQBYPywgMXL3KX6D/+YGv6yy/5k/PYWM3p7TVqRsD4lOFrUcChqUDoE8A5F/HlvPiUKN1t9MwcOaK/v7//nq2jYZ81MoreSDvszd7DgjTjvQ6CEBESdDODBJ0gpA1lRgaQoAsG5YUH9u7lLtKDBrE1vWwZf4KeVk+07mcbT4yzwsSX84JDom10ZvTMFBXp728/P8DKiqkja2vAYzlHQf8dCF9ZbxbCVeO9FoIQCRJ0M4MEnSCkDWVGBpCgCwblpZmUlXGX6PBwdgfutm2ByEj+BD0nh72mmhrmyDGxJdpY7eZuo591rgtBMpOaqr/Pv/iCfX8c8wPgbadDzP8AfN8C/Nsx69MzAtj7mRsHVN417ushCIEhQTczSNAJQtpQZmQACbpgUF6aSWYmd4lesoSt548/5nd6e2Ule02lefzJ8LUo4Nx68aW8tuUlCHacWmMIkpkbN/T3u4cHswZdoQCefBLwc2tc0DV2de8DxDjX+9AjhVkWQRAygQTdzCBBJwhpQ5mRASTogkF5aSYHDnAX6bojnkuXGm96+80U/oT40BQgwALYORS44ieunOfGAGUF4vRzHQTJTE0NsHOn/r5//32mnqysgFWrAN8VjUj6L8yO7rWSvn0scCFU8/7eOWPc10QQAkKCbmaQoBOEtKHMyAASdMGgvDSDigr9O27XbdHRwOrVwIgRQESEcaa3l+XzJ8RXfIHgNqzUnXESV9DvXhavr+sgWGa4zM5Ytw744QfA35/5d0RA46Po2z9n+9L/KSBBS39K4AMQguADEnQzgwSdIKQNZUYGkKALBuWlGWRn8yfZTW1xcZq7t99K5U+I//mEFbp/hogr54XHxOvnegiWGbUaSEw0vCYC1jUi6UsAvxfrTHXvD1yO0LzPdPQaIRNI0M0MEnSCkDaUGRlAgi4YlJdmcPCg+IJ+5Ah7PeW3+RPiM2tYkQtuA1zxEU/Ob6YA6mrx+rkegmbGkCP8altUROMbxnnPAPwfeziKbgEkzm94v28fFua1EYQRIUE3M0jQCULaUGZkAAm6YFBemkhlJbM5m9iCfv06e00FB/kR4mvRgOo1VtAPTRZPzvN2AFX3xetnLQiamcpKID6eez0EBwPbtgEhno1PdfcZXGeq+7PAldCG9/1+ljCvjyCMBAm6mUGCThDShjIjA0jQBYPy0kSuXeMuTXZ2QI8ewNSpgI8Pf3IeHw9UPxxZrijiT4oPz2YFLuolZid3sQS9LF/MXtaK4Jk5c4abmI8cCTz+OPDOO4BSqWPDuEWAX0e2j2O/bnjfc+OAynvCvUaC4BkSdDODBJ0gpA1lRgaQoAsG5aWJpKVxF+nBg9k6XryYP0E/VmdddkEaP0J8NRAIfYKVt1PLxZPzkvPi9a8OBM9MWZn+2RqRkUCHDmydrVsHRAQ2PoruPZmZ4h6gAAJeAbIiG97//D109Bphspi9oN+9exd//PEHPv30U3To0AEKhQJ2dnYNnjdhwgQoFIoGrVu3blp/7oYNG9CtWzdYWVnh5Zdfxl9//YXKuud8PiQ/Px8TJkzAM888g9atW6N///74559/tP7M5ORk9O/fH61bt8YzzzyDCRMmID/fsE9nSdAJQtpQZmQACbpgUF6agCHT28PCgNatmRpu04bf3dtv3nx4PSX8SfHuYaycJw0ST84LDjJHjUkQUTJz4oT+epg+nX2/7N+feSzQRcdU9w+B7f9lNo87uFV7P9w5K+zrJAieMHtBz8zMxJNPPokPPvgAkydP1inorVu3xsGDBzXaiRMnGjzXwcEBFhYWWLRoEXbv3g1HR0dYWVlhypQpGs8rLy9Hz5498cILL8Df3x9JSUkYPnw4WrRogZSUFI3npqSkoEWLFhg+fDiSkpLg7++PTp06oWfPnigvL+f8eknQCULaUGZkAAm6YFBemoAh09sXLGBreMgQ/uQ8IYHZ5RsAbh/hR4qzI4GY1xk5D2oFXPYSR84lvpO4KJkpLdV/pF94ONC+PVtvLi5AdCTg/Vfjkl7bgpcB15QN+0IiZ88ThKGYvaDX1NSg5uGnnAUFBToFvU2bNnp/3u3bt2FtbY2pU6dqPL58+XJYWFjgzJkzjx7btGkTFAoFDhw48OixqqoqdO/eHe+++67G9/ft2xfdu3dHVZ3jSPbv3w+FQgE3NzdOrxUgQScIqUOZkQEk6IJBeWkChuze3r8/W8N//82foGdkMNfC5+h5jorZIO7Iz0DaNHHkPDcGKC8Ut3/1IFpm0tP118XUqWy9DRjAPBa6Tb+ge9kCh71N8gMTgtCG2Qt6XfgQdH9/fygUChw8eFDj8evXr0OhUGD58uWPHvvkk0+0TpFfsWIFFAoFcnNzAQC5ublQKBRYuXJlg+d27doVn376qd7rqoUEnSCkDWVGBpCgCwblxUAqKvSPZNa2oCCgZUumfp96CoiK4k/QCx9KLF+j51Jp966I278cEC0z9+7pr72wMODpp9n3TVdX5nG/1RxG0acCu77QPpJOR68RJgYJeh30CbqlpSX+/e9/w9LSEp06dcKsWbNQWKj5SenChQuhUChw/37DYzU6dOiAH3744dG/O3bsiNGjRzd4XmxsLBQKBRITEwEACQkJUCgUiIuLa/DcUaNG4bnnnuP8GknQCULaUGZkAAm6YFBeDCQzk7tEz5nD1u+wYfzJee0+O5V3xRdqPlvhUVG7liuiZuboUf31MWkSW3eDBjGPRYYA3kt1rEf/gN174OivjXx4clWc10wQTYAEvQ66BH3t2rVYu3YtkpKSkJSUhCVLluDxxx/H66+/jnv32KMcpkyZglatWmn9+V27dsXQoUMf/btly5aYNm1ag+cdOHAACoUCgYGBAICAgACto/IAMHXqVFhZWTX6msrLy1FSUvKo5eTkQKFQICsr69GbtDFbdnY2srOzBfld1KjJoVFmTL8VX7zYQNCLL14U/brk2CgvBraUFBQplZxaZZ8+j+q3ZPVqzt+nt6WnM9eSdQBF55XNbqV7JqPk6EpeflaT2+VkFBXeFr9/pZ6Z3Fz99REaCvWTTwIKBWosLHBn40bm8WAPFPms0Nru+Y5/JOjq4HYoPuXTsI8uxKAo/5ro91+qjZAWJOh10CXo2ggPD4dCocDatWsfPTZlyhRYW1trfX7Xrl3x3//+99G/W7ZsienTpzd4Xq2gBwUFAWAF/dChQw2eO3Xq1EY/EAAAOzs7rbvPk6BToybNRpkx/UaCLlyjvBjQbt7kLNHF27ejxtISUChQ/eyzKIqO5k/Q8/JQdCsXRRdUzRbjO8c3oCbAEghQoDzxv+LI+YUYFN3KE79/TSUzBw7orZHSCRMevXeWf/IJ83h0FIr81zQq6RV+//dI0iviB2rvq0tJKCosEL0PpNgIaUGCXgdDBV2tVqNNmzb47rvvHj1WO8W9tLS0wfPFmOLe2Ag6TXEnCGlCmZEBNMVdMCgvBnDlCvdp6AsXAg8FHd99x9/09r17mWspPNr8KeXXlEBsD3Zqc+oYcaa2l+aI268GInpm7t7VvxY9JATo1AkYOxYIDmYfD/fVsQ79N8C/NVsPxxeb9FIEwrwhQa9DUwT98ccfx/fff//oscZGu2/cuNFgk7hPP/0Ur7/+eoOfu3LlSigUCuTl5QFgN4lbtWpVg+d269aNNokjCBlBmZEBJOiCQXkxgJQUw2Ta1xeYPBlwd+dP0DMz+du5/ehcVsYiOgLZ4cLLeVHDo3aljiQyc+yY/lqJjtb+eMDaxiV9+3C2JkKfAq76N7IePVPc108QeiBBr4Ohgh4SEgKFQoH169c/eqywsBDW1tYNpq6vXLmywTFrbm5uDWS+qqoKPXr0QL9+/TS+/91330XPnj1RXV396LGDBw9CoVBg8+bNnF8jCTpBSBvKjAwgQRcMygtHSkr4k+ymtthYoLKSn53bM4OBsKdZGTuxVHg5v5kCqKv133uJIYnMcNnRvbEWFQ542zUi6UsA3y5sXSQN0t53ubFAxR1x7wFB6IAEHUB8fDzCwsLg5eUFhUKB0aNHIywsDGFhYSgtLUVWVhYGDBiADRs2ID4+Hjt27MDChQthbW2NHj16NNix3cHBARYWFli8eDFSUlLg5OSEVq1aYcqUKRrPKy8vR48ePdC5c2cEBAQgOTkZI0aMQIsWLZCSkqLx3N27d6NFixYYMWIEkpOTERAQgM6dO6Nnz54oLy/n/FpJ0AlC2lBmZAAJumBQXjhy5oz4gn70KH+j5yl1RkoT+gkv53nxQFXD03pMAclkhsu56HWbvz/7/0M8dUx1nwP4W7P1kT5fex/e2AmoK8W+CwShFRJ0AC+99JLWjdQUCgUyMzNRVFSEESNG4OWXX0br1q1hZWWF1157DfPnz8edO9o/gXNxcUHXrl1hZWWFF198EXZ2dqisbPhGcPPmTYwfPx7t27eHtbU1+vfvj+TkZK0/MykpCf3794e1tTXat2+P8ePHIz8/36DXSoJOENKGMiMDSNAFg/LCgZoaICmJ4+hkFBARYRxBz88HCtKaL8fnNwAPN4ZDkBVwyVN4QS/NFbtXm4xkMlNaysyq4CLmw4cDLVsCjo7s436rdEx1/4YV9LAOQHaE9n6k89EJiUKCbmaQoBOEtKHMyAASdMGgvHDg1i3uEr10KfDEE8BXXwGbN/Mn50lJQHlR88X4mhKI6V5nYzgb4eW86KTYPdosJJWZjAz9tTN7Nvs+2qMHoFQyj+s8G30J4PsGEPEf4IKb7v68e1nsu0AQDSBBNzNI0AlC2lBmZAAJumBQXjhgyFTiAQPYmrW15U/Qz50DCg42X46P/lZnY7jnhN8YLn8PUKMWu0ebhaQyU14OxMXpn9XRqRNbl3Z27NeCN+uY6v4HEGzPfKijq09zY4DyQrHvBEFoQIJuZpCgE4S0oczIABJ0waC86KGqSr8A1TZfX+Cxx5h6feopIDKSP0EvzOZHkM+7siPoJ+2ElXMTXndeF8ll5uxZ/fWzYAH7XvrKK+wO78powHe5Dkm3BQ5t09+31xOBau77ORGEsSFBNzNI0AlC2lBmZAAJumBQXvSQnc1don/8ka3Xb7/lT84PHABupfInyteUQMYyYeU8R2XS687rIrnMVFYCO3boriGlEujSha3PefPYr0UE6pjqbgsE2APZ0UBWGHBoMnAtWnv/3ko1+dkRhHwgQTczSNAJQtpQZmQACbpgUF70sHcvN4lWKjWnEW/Zwp+gXz4hvEzz3YozxO5J3pBkZq5c0V9Hy5ax9dmxo+ZmhkEbdY+i/2MLRHVmZl4cmGgW/UyYNiToZgYJOkFIG8qMDCBBFwzKiw4MOft85Uq2Vnv14k/Od+wAru9s5oh5lPBrzeu2/H2yGlmVZGbUauCff/TXU+/ebJ1Onco+Hh0F+CxrXNB9xwEBFoygB7YAzq5tvL/vZ4t9NwiCBN3cIEEnCGlDmZEBJOiCQXnRAZcdsmvb4MFsrc6dy5+gH/mn+YKcNg2IfF6cae3XE4HqMrF7klckm5m8PP315OzM1umTTwJBQXWmuvvrHkWP/pTdYDDyeSArRHuf58YCFRK8P4RZQYJuZpCgE4S0oczIABJ0waC8NEJ1tf51vbUtMBCwsmLqtG1bIDycHzlXRgNXminIl72B4NasWOk7MovPlhsDlN8Wuyd5R9KZ2bdPf129/z77vjpuXL1adtVxNvpiIPpVtpb++UTHBzNJsvtghjAtSNDNDBJ0gpA2lBkZQIIuGJSXRsjJ4S7SkyaxdTpsGH+j58mhzZfkxAGsUO38VNjR85KLYveiUZB0ZoqK9NfV1q1A+/bA5MkNTxrQN9VduQgIsmZrKn1+4/0vs6UNhGlBgm5mkKAThLShzMgAEnTBoLw0ApeRyNo2cyYjPAoF4ObGj5xHRQDHA5onyCeWsiIV+iRwtZk/z5BWcEjsHjQaks9Merr++qq7QVyDrwXo3tV9zzS2roLbAJe2Nl4Hheli3w3CTCFBNzNI0AlC2lBmZAAJumBQXrRw547hQh0ZCTg48Dd6HuXBHIfWVEHOCgXC/8WK1NHfhJPzG8lAdYXYvWg0JJ+ZsjIgLq559adrV/fQ5UDSILa2Yl4HsiPNbiYFIW1I0M0MEnSCkDaUGRlAgi4YlBctnDjBn2g3pUWGAPvcmyfJe75hBSqud/Nk35CWGwtUFIvdg0bFJDJz8aJhNefiojmqrowGfJc3Lun7XYHwZ9kaOzxLd108uC72HSHMDBJ0M4MEnSCkDWVGBpCgCwblpR6Vlc0ffWxuC3AGrkQ0XZLPrQMCLB8eidUSuLhFuNHze5li96DRMYnMqNXAzp36a83fH/jsM8DSEpg4sd4HRcGNT3X3+wvIWA0EWQH7xwLXovV8cBNHO7sTgkKCbmaQoBOEtKHMyAASdMGgvNTj8mXuIm1nB3h68ivn4X5AokvTBTk7Eoh+hR3ZTLURTs7NZL2xyWQmP19/va1bB1hYMO+xrVsDPj6aXw/Z0vgoerIrcMWHe33kJQBV98W+K4SZQIJuZpCgE4S0oczIABJ0waC81IPLqKNKBYSGMkeqWVoCAwYASmXz5VwZDfg6AGeDmy7JZxyZUc0ABRD9EpDdjJF4Q1r+HkBdLXbvCYJJZebwYf11N3Qo+z47ZEi9mlQCfo7aBd17qeG1emOnrPcnIKQDCbqZQYJOENKGMiMDSNAFg/JSh5s3ucv0tGlsbX78MT+j5yEeQLRj82X5wmYgthdwdq0wcp6XAFSVit17gmFSmXnwQP+SDT8/oE0btp5Xr9b8elQ44P2XdkmPXKVZC6dWAClf68zsOHUAACAASURBVN7zIH+f2XyYQ4gHCbqZQYJOENKGMiMDSNAFg/JSh9RUbiIdFQV07MjWpotL8+U8KgLwtgNO+Akj1Xy13BigzLyyaXKZuXRJf/1NmcLW80svNTwfPcyn8anuh7YxtXBoKrv3Qdp03XVz+whQUyP2nSFkDAm6mUGCThDShjIjA0jQBYPy8pCiIu4yvXgxW5e9e/Mzeh64HghdIb5wG9ruXha75wTH5DJTUwOkpOj/0KlLF7aux4/XUqMbtAu6rx1wOQJIX8DufRDYghlN11U7xafFvjOEjCFBNzNI0AlC2lBmZAAJumBQXh5y5Ah3me7ena1LO7vmy3lEACM6h72aJskXNgN7RgJZYcLKeeExsXtNFEwyM8XFQEyM7jpcu5bZU0GhAKysAA8Pza8rowHfFdolPX4dUxMpw1lJD2kHXPTQXUN0RjphJEjQzQwSdIKQNpQZGUCCLhiUFwD37+uXl9rm5MTWZOfOzd8cTqlkpCfAHsjWc1SVtnYtGoh5gxGiyOcZWRdCzm+mmO06YpPNzKlT+uvx66/Z+u7VC4iOrjfSHsosxdAm6cd9gWtRQPybrKRHvQhk6tlI7n6W2HeGkCEk6GYGCTpBSBvKjAwgQRcMyguAjAzuQv3uu2xNzp7d/NHzEHdGblL1jDQ21g5OYmUooqMwo+hmtilcfUw2M1VVQHKy7noMDgY6dGDqu3t3IDCw4XPCvLULeoA9cDUSyAwCIl9g63LHO4y4N1ZPuTFAaZ7Yd4eQGSToZgYJOkFIG8qMDCBBFwyzz0tZGRAby02mN2xg6/GZZ4CIiObJeVQYMxrp9xeQpUNgGmvnNzBrfWtFSN+aXz5abixQflvsXhMVk87MrVv663LZMmDSpIaj53Vb4Ebtkp7owtTJxS1ASFu2NveM0F9XD26KfXcIGUGCbmaQoBOEtKHMyAASdMEw+7xwmfZb2776iq3HyZObP3ruv4aRmr1bDBfl7HDmnPNaAUoZbnw5p+nIAGSQmZMnm1+7SiXgt0q7pNeeRJCxDAh8jK3RI7/Qhz+EYJCgmxkk6AQhbSgzMoAEXTDMOi+GjJ6rVMxO1/PmMWtzw8KaJzi104R97YDMJoye7/mGFZ/olxhhN7acF58SucOkgclnhstU9/pN22h6VASw3b7xqe45KiBtBlOjQdbASXv9NZYXD1SY8L0lJAMJuplBgk4Q0oYyIwNI0AXDrPNiyOg5ny0qAvD+i5GZPU3Y1C1jGRBgwR5ndc7F+HJecIjOrX6ILDJTUMC9XletYs5G37Sp4dciAgHvpY3v6p6jAvb9DzjrzL3WSNIJHiBBNzNI0AlC2lBmZAAJumCYbV4MHT3nswWsY0fPa0caubargUBYB3b0/OBE48v5zd2AukrsHpMMssnM6dP6a9XWFrCwYN6DX3uNmUVS/zmh27RPdT/s3fSay9sBVBSLfYcIE4YE3cwgQScIaUOZkQEk6IJhtnkxZB1u/fOgmzW13YcVmKasPU8dw8p5bC/mmDVjyvn1RLPesV0bssmMWg3s3q2nXsOATp3Y9+ExY7Q/T9umcb52wEUtpwpcUwJp04ErPhwkXQb3mRAFEnQzgwSdIKQNZUYGkKALhlnm5d497ueeu7oClpZA//7Axo3Nn9peu2bX375pO7dfiwL2jwdCnwQubTOunOfGkSBpQVaZKSnRP5PEyYnJgELB/O+qVQ2fo1QC/k4NJT1yFSPkj+o3Gtg9jPmASfkf/Wek58UD5YVi3yXCBCFBNzNI0AlC2lBmZAAJumCYZV6OHOEu1f37szU4cWLzBN3fmRWX/U0897y2ZYUYV85zVMCD62L3lCSRXWauXNFfu99/z+bgX/8CAgIaPic6CvBd0VDSU9zYmrriB4T/i50FEvd/+jc4zI0DygrEvkuEiUGCbmaQoBOEtKHMyAASdMEwu7wUFXEXamdntv7at2/ezu21u7Z72QJBy4BsI09Nb267e0nsnpIsssxMWpqe2R9RQPfubB7692dGzRs8L7zhzu7eS4EMf7a2LrgBIe1YSY9/G8iO0CPpsfSBEWEQJOhmBgk6QUgbyowMIEEXDLPLS2oqN6FWKjWFZPr0ZkxtDwO87epsnuXFXZSvKZkzzk+tEE7O6Tg1ncgyM5WV+o9e8/IC2rVjMzFpkvbnRQZr1nvt0WuX60j4GUfm6LVaSd/Rl4OkxwD3s8W+U4SJQIJuZpCgE4S0oczIABJ0wTCrvOTkcJfqhQvZ2uvUCYiMbJqcK5WA3ypWVMJXGibLh2c+lBhL4NAU48v57SN0nJoeZJuZwkL969FtbdlcWFoCK1dqf164f8Pj1+qvRz+1AghqxUp6Qn8gm8OpBjS7g+AACbqZQYJOiE1FRQUePHiAGvojSiuUGRlAgi4YZpOXykogMZGbVEdEAB07srW3ZEnTR8+DN2tKyqlA7rJ8dh0Q2JIVmPT5xpXzW/uBGrXYPSV5ZJ2Zq1f11/SoUUwuWrViPsjisqyjtv2zUbPmTi0HgqzYGk8cwE3S75wR+04REocE3cwgQSfEIjMzE9HR0XB3d8fq1auxePFirFmzBkqlEsePH8edO3egVtMfV5QZGUCCLhhmk5dTp7hL9aRJbN316qV9rS0n0a83ihi/jrssZwYCER1Zcdn9pXHlPH8PnXXOEdln5tgxPUs2ooChQ4ENG/RnIMRTy/no9ZZ4ZCzTlPSUr7jVbGE6faBENAoJuplBgk4ITW5uLjw8PDBz5kz89ddfWLduHRwcHGBnZ4cZM2bAxsYGNjY2GD9+PBYsWID169cjPj4eFy5cQFUV+wfXjRs3sGfPHiQkJGDv3r3Iz88X8VUZD8qMDCBBFwyzyEtJCfdj1Xx8gDZtmJqzsADWrWuanNc9Us3LFvD5U/uZ0NratShgxzussKhe078+tznt5i6gukLsXjIZZJ+Z6mogJaXps0YaSLq7pqBvX9pwJslJe2a2SMS/gUtbDZv1oa4U+44REoQE3cwgQSeEQq1WIzk5GevXr8fUqVPh5uYGFxcX2NjYwNXVFWfOnMHq1asxY8YMODs74/vvv8fIkSPx22+/YeHChXBzc0NgYCAKCgoQFRUFFxcXBAYGQqVSYcWKFZg9ezaWL1+OtLQ03L9/H3fu3EFGRgZOnDiBnJwck51CT5mRASTogiH7vNTUAHv2cJeJyZPZmhsypGlColQCfo6aUrJ3C3fpSBnOynlIW8OExdB2IxmoLhO7l0wK2WcGAEpLgYQEw+rexaXxrwW7aebB377hB1YZfwOXtjXtA6aqUrHvGCExSNDNDBJ0Qih27doFBwcHuLq6YvPmzaiqqkJgYCDCw8Ph6emJuXPnYteuXfD398e0adMQHR0NNzc3HD9+HA4ODvj7779hY2ODgQMHYuTIkXBwcMCmTZvg4OAAT09PbNu2DdOnT4eNjQ1GjBiBSZMmwdHREV5eXnB3d0dgYCBumaAUUWZkAAm6YMg+LxcuGC7YtrbAf/4D+Pk1TdCD6slIiAP3Y9UebQqnAAIfY6b/GkvOrycCVffF7iGTQ/aZqYXLpnEqFbOB4hdfMDNOdO3XUD8XoSuAzCjdNZoVypydrq+W8xKA8tti3zFCQpCgmxkk6ISxKS8vx44dOzBhwgQsXLgQP//8M3755RdERETA1dUV2dnZUKlUGDduHG7cuIHNmzdjxowZAICtW7dixYoV+OOPPzBixAhMnz4dvXv3xvjx47Ft2zbMmzcPs2fPxs6dO7Fv3z4sXLgQn3zyCUaOHIn//e9/WL16NVxcXODq6orp06dj4sSJUKlUuH3bdP7DR5mRASTogiHrvNy5w00wGhsFb8r3hfk0XHN70p+bMGcsY6S8VtAPzzKenOfFAxV3xO4hk0TWmalPdrb+mp8zh32ftrIC1qzRIembNLOhctLc2b1uy44A4voAkZ24jaznxtIxbMQjSNDNDBJ0whio1WqUlJTgxo0bWL9+PebOnYtZs2YhOzsbCQkJ2LRpE9zd3TF16lRkZmZi9+7dmDZtGk6fPo3Fixfj778dUFJSjSlTZmH27F+xfq0rPv/sS7ht2IJRI0fjb/uVmD7jF/w2dyH27z+OxYtt4eTkBJVKhTFjxmD//v3Yvn07FixYgIkTJ2LNmjU4deoUlixZgqlTp2LBggXw8fFBXFwctmzZAhcXF3h6eiIkJAQnT57UWOsuNpQZGUCCLhiyzYtaze86Wi4tMqTh+c87DNgY7sRS9mzolOFGlnMZ9rlAyDYzjXHunO66j44GBg1i36uffBJwd+c+kp7oor1Od3/BflgV3gE4v5FbfRdn0FGBBAm6uUGCTvBJdXU1jh49Cj8/PyxatAjDhw/HoEGDMHfuXIwbNw4bNmxAbGws3N3dcfHiRfz000/w8fFFXNxODP9qBLY4rMTQd9/FvG++gsfEHzBhwAD4Dx2IkI/7IvyjNxE75C0EDn4L/kPfw9qh7+P3oR9h5aTx+KTfAEwb/jVWz5uP4V8Mwz+J++HisgVTp05Famoq3NzcEB0djUWLFmH06NH44osv8O677+Ljjz+GjY0N5s+fj3Xr1iE2Nhaenp6IiIhARYU0NhmizMgAEnTBkG1eTp7kLtYbNgC//db0UXOVCoiOBHyWaYqH31/AFQM3dzvnAuz6jNkojuRcksg2M7pIT9dd/xERQM+e7Pv1c88xGy429vzgLfr3aLi0FYh8npX04MeBk39xq/Nb+2njQzOHBN3MIEEn+KCmpgbZ2dlYvXo1fv31VyxZsgR2dnZYunQp7OzssHHjRvz+++/Yvn07Nm/ejDVrnLF27Sb89IMNvnr/c2z6dDD29u+K2QPfwVc9usH20w8xfWBfxL7XvaHYaGnqpxVY8mE//P7xQIzo9QaUU2zw3UcfYNTgIUjy2I4xo37A/D+WIiAgCDY2NoiMjISNjQ1mzpyJTZs24fjx41i7di0WLlyItWvXYuLEiXByckJubq7Yt5YyIwdI0AVDlnnJzTVg1DsSePVVpsb69gX8/ZswHT664aZwXrbAEW/exFp9TYWKqyqUXlSh5KwKRadUuHVchRtHVcg7rELOQRWy9qtwdZ8KV/aqcDlFhUspKlzcrcKFXQ9bSjxOHC7CsWOMb504wZw+d+YMs1T/8mUgK4u5ffn5QFERcP8+c4Q8wSLLzOhDrQYOHNCdg8BAoHNn9j375ZeZxxp7foiHZl4OeDas/Ss+gLILK+kBlkDaNG65uZEMVBSLfecIkSBBNzNI0InmUlpaisDAQCxevBhTp06Ft7c3Jk+ejPnz52PlypXYv38/MjIyMG/ePKxa7Yy/l9hj9uej8M/A/8Odrm2Blqy0zOr9Ksa+3RtDu72KUX16wG/QW5wEvbLdY1gw5H1M6NsH3/XpCdVkG5x95wWo/22BG33aI+mDN+A87GOM//xLjBjyXyTH7sGECZMRHR2NiIgIODs7w8nJCTNnzkRCQgKCg4MxZcoUrF69GmlpaaLeX8qMDCBBFwzZ5eXePSAujrtc29iwNda5MzMSaKigB7o0lPNYZ/0CkR2B6rRfUHpBieLTKtxKVyE3jZHsC7tUOJ2owvFYFY5Eq5AW2bx2MHIH4pXFTZ4gEBMDJCYyqwYOHWLk/sIFZonyrVvMba+uFrvzhUF2meFKVRWwd6/uQtm2DfjXv9hMvf46EBra+PNDtwHeS+ucke7dMCdZYUDie3UkXQHs/pLbLBNal262kKCbGSToRFOpqKjAgQMHMHfuXPz4448YO3YsbG1tkZKSgs2bNyM1NRWzZ8/Gxo0bkXe9GDPHzkTgoH6481pbwEK7aIe/2w1fvNENn3fvjk979MCE3t2xs88r2NG3GyLefA2x/Xti78De2PN2V6R1fwEXXu2Agk7tcPGV9vim1xuY+9EAzB7UD/M/HogHL7dq8PNr2ipQ0Osp7Pi4DyZ/PAiOP/+OLY7uGPXtGBw5cgzh4eGIiopCcHAwbGxsMHv2bNjY2CA4OBgFBQWi3GfKjAwgQRcMWeWlogLYuZO7dTo7A489xtSXpSXzb0PNNWRLQzn3+wu4zExtr85mRr2LTqlw/Qgzyn1hlwoZ8VEoCmak42bwF0iLiG62hOuW8ztNlnNDWmIikJrKjNBfuMCMxhcXM24nF2SVGUOprNS/t8Pmzcw69Nr37l69dEt6mC/g/SeTHe+lwNHtDUX7WjSw91tNSY9/C8gM4jaaXpgOqM3kEyQCAAm62UGCTjSFysrKR7uwL1y4EKmpqXB0dISrqyvs7e3x559/Qq1Ww23zVnwycCgO9OsO9ZMWWqW84snHcLH3C0j77r+4ER2NvDPncWDPHvj7+2PixImYNGkSXFxcsGDBAmzfvh0FBQW4fPkyFi9ejPHjxmHge+/hrd69MfabUdj+1wr88s1IDO39FvI7P4Gax3SPvFe98BhCPuyNYf/XA9HLnPH37/aYPv03eHp6wt7eHqdOncLixYsxZcoULFq0CGlpaVCr1YLea8qMDCBBFwzZ5EWtZsyQq0kGBQEdO7L1NXq04TYa5gV42aLGyxYV7ra452qLQmdbZEf74GyyCumqRqQ5IhoFwYMfiUZ1QCucDHczkpwnIl5ZIoic62tJScws6VOngMxMoKCA+UzF1JBNZppKebn+D8LWrwfatGGy9cILutejq1RARCCw3V63pOeogCNzgMAWrKTvH8t9qcjN3UDlXbHvHiEQJOhmBgk6YShFRUVwd3fHpEmTMH/+fMyaNQtnz56Fn58f9u/fj5iYGIwZY4NAd29sn/4Thvd4HQVdntSQk/L2LbD/3VcRNW8mqsvLG/1dJSUlCAgIwLZt2xAdHQ0HBwfMnj0bkyZNwrx587B582Zs27YNERERmD17NiZOnIjVq1dj69at+GXWLAzq8yZmv9EVYb1fRWaXf6Ha2rKBKHm90xXj3umNHVPH4euer2Pihx/gr59mYvEvS7DVMwRz587DnDlzMHfuXPz0009wc3PD1atXBb3flBkThwRdMGSTl6NHuZuiUqm563S3bsxadA7fWx6mQpGPCjc2+iJvxVJk/WWLi4ttcWER0zLWbdAtzRFK3Az+8pFgqANa4FyYvVHk/EBkMuKU90UXcy7ifugQsxY+Jwe4e1fam3DLJjPNoaxMv6SvWcNMcdcn57UtKgzwdWAlvbE9HE6tAELaATGvA9mRhu3nkBsL3BPu7xFCPEjQzQwSdMIQTp48iVWrVmHcuHHYsmULgoOD8fvvv8Pd3R3r1q2Dt7c39uw+is/79sWMgX0ROuE7/PrBe9j68ZuosVAgu1t7rP98AGbNmIGUlBROO6WXlZUhPT0dYWFh8PHxgYeHB0JDQ3Ho0CHk5eU9el5FRQXS09MRFBQEDw8PeHt7Y9OmTfj7778xYcIErFq5Ek62dvhrQF/sfes1FD3XBuqWFvj6tRfx24fvYfmXQzDktf8g6ON+UD9lgctvPYfNQ9/H3B9+wopFjti82Q+jR4/GhAkT8OOPPyIwMBA5OTnGvN0AKDOygARdMEw+LzU1wPHjhhnhzJlsXbVpA3h6NniOOlqFe4Eq3NqmQuYGFc6sUuGonQpptiocXRKA84v+fCTlte3s38uRFq5jqnqEEnkh7DTdmgBLXAxbZBQ53x+5C7HKB6LLd1NbXBywbx+QkcGscy8pkY60m3xm+KKsDNi1S3dHGnoyQnQk4O/ISnpaI+efX/IELntrmQrfyJnq9VvBIaC6TOw7SBgREnQzgwSd4MKtW7cQGhqKCRMmYObMmRgzZgwcHR2RlJQEd3d3pKenY82a9fj74y/w4PlWWDOoL77r0xNT3nsbY/q9A9spk7Hxt8lwdXWFk5OTIGJby7179xAWFoZff/0VDg4OcHR0hJOTE9xcXfHTsK/Q94030L/LKxjatQvef+VF3OjVXnPd+hMKXHmzIzZ/+j7GfDYCvpvCYW/vhDVr1sDDwwNXrlx59LuKioqQn5+PsjL+/kNJmZEBJOiCYdJ5qanRf/xT/bZqFdCiBVtXCxagOkqFuwEq3PBU4fI6FTKWq5C2lJHx+u3okkCcX2TXQM7PL/kTRwKCdcr59ZDhGmtoL4f+ahQ53xeZihhlpeiSbSxpP3WKGWm/d0+csjPpzPBNebn+Nel1W3AwM3vFw0O31AduZPd0SPXgJt3nXABVN+DCZm7Pz9sBlObpf42ESUKCbmaQoBP6KCwshJeXF1xcXLBq1SoUFBRg/fr18PLywpYtW7BixQqs+XsdMnq/8mjzt9LnWmF4n154/6238Oknn2D69OlwdXVFQkICCgsLRXkdWVlZiIqKwubNm2Fra4spU6Zg3rx5WLRoEb4ZPhw/2djA5osvceWNjqhpoX3Nek07Ba70eQ6bh7yP4R98htHDx+LLL7/BokWL8PPPP2PBggVwcXGBp6cnkpOTcY+Hv7goMzKABF0wTDYvarVh09oftppevR7VVPEHX+mU8YZyHoxzWuT8wiJbpHt665DzaNwM/kJDzjNDpxtFzvdEHYZKqRZdpoVqO3Yw0+MvXGDeIoQ4Es5kM2MsKiv17+6uUjEnJPTuzeSvfXvAxUX388O82M3jdrvplu3MICDiOSZfQa2AtOncR9MLj9KZ6TKEBN3MIEEndFFeXg43NzcsWLAAy5Ytw8qVK1FSUoLk5GQEBwdj//4DWP75cFQ+00JDPkqfb4XFY0dh9erVOHfuHAoLC/HgwQOxXw4AZkS9uLgYFRUVKCsrQ2VlJbKzs+Hp6YmffvoJq1evxtJp0+D9fh9kvdYBNS21y/qu3p0xqnd39Oz0Anq/1h02oyfBwWEdXFxcEBwcjGXLlmHZsmXIyspq1vVSZmQACbpgmGReysq4CYFKhbJQFQq8mGnqp1eqcHR+MIpeexd3Xu6NtMVRnMSckfMgnFv0l1Y5z1i/Uac054SMqTOt3QJXQ2cbRc53RZ2BSlkjujSL2WJimAHdjAxmB/nSUv7LzyQzY2yqqoCDB3V3jo+P5jnpbdoAK1fq/p7IYMBnGSPpCeuB7Gjtkn3RHYh8od4u728DlxvZbK5+u54IPLgu9l0keIQE3cwgQScaIz8/H56enhg3bhw8PDywbt06zJw5Ex4eHjhw4ADWuWxC4oA+Gjul17RUIPH9Lvhj7hykp6ejUoiP/3mirKwM4eHhmDNnDmbNmoXly5cjOzsbLraLED3sA2R11ZT1Bf/3KnzGjMRnb3TBxHf74PdPhmDbp4Mx6qPh+Obz7+C8xgOTJ0/BjBkz4OPjgxs3bjTpuigzMoAEXTBMLi9FRcyuYlr+mK+OUqHEX4XczSqcd2LXjDdoS6Jx5I9gA+Q8sNGR8zMrViMtQqlTnI9F+KIssCNqAixxOfQ33sX8UGQMkqOzRJdjqbbERODIEeDKFeDOneavZTe5zAiFWq1/Pwh/f6BrV/Z9vWVLYM4c3d8THQn4OzOSrnQErjayMVxWKLBLc6YKQtoB6Qu5byJ3+zCtTZcJJOhmBgk6oY2Kigps2LABzs7OcHBwwI0bN5CVlQU3NzeoVCr8OW8ebr7+tIZwlLzUGvY2wxAbG8tp8zepcvz4cTg7O2PcuHH4888/MW7cOKxevRphYWHY9PefiBvxMY52fx6LhwzCltFf4dOur8J99Nc4MLAb8yFFGwWyezyL4I8GYPLQbzH4vU8w6ttxmDJlOgICAnD16lXUGPAXFWVGBpCgC4bJ5EWtBs6eZYZIH/7hXh7Gjo6fWtHIVHUDZbx+O7bYX+ua8wuLbHHWfhkOh0RwkugT4VtwIcyWdzk/GJmAhOgC0SXYlFp8PDPYe/EiUFjIlJYhmExmxOL8ed0dEBICvPmm5vv7sGH6T1II3cpsHBfiAFwIbVyyT9oBYU9rinrSIOCKD/e16fezpLMrIdEkSNDNDBJ0oj45OTlwcnLCuHHj4OzsDBsbGzg5OeHixYsICQnBWptRqOrwmMZ/jI71exm2C/7AsWPHxL58XigvL4e/vz8WLVqE6dOnw93dHQEBAVixYgU2btyIOXPm4PThA3CYNRXD3+kN1ZRxKH+xZcM1648pUPyftkh6rxd+6vcBhr43FCOG/QBHRxekpKTg7t27eq+FMiMDSNAFwyTykp+Pml27cT+I2cjt0loV0u05CPYSJW6+8wVK//Ui0n/xMljO0xd74/yipVrl/LytHY4EhmqV5pPhG3E0ItAo09jrtv2RKYhTljbqM0plw0203dyA334DZswAJk4EfvgBGDEC+PxzYPBg4P33gffeA778suHP++IL4LXXmAHQbt2YE7TeeAPo3p1pvXoBb70FTJ/e8Hu/+w4YMwaYNAn4+WdgwQLA3h5wcgI2bQK8vZn9wwzd9JuPFhfHnM9+4QJw+7Z+YTeJzIhNbi5zYxu76RERTNHVfY/v0QPw9dXdWZEhgO8KwNcOOOHXuGRf9QcSB9QbTW8DnFjKfTQ9fx9QcUfsO0k0ERJ0M4MEnajL1atX4ejoiLlz52Lbtm2oqKhAUFAQbG1tsWmTG7Y6bYDLkH6PprWrH7eAx38HwtXVFSdOnBD78nnn3Llz2LhxI2xsbPDtt99i1qxZOHjwIFxdXaFUKrFkyRLY2tridtYl+Ax5G5ndnoG6lfY161AoUPHvlvDo1xMDX3sDn77zIX4cNQXe26KQk3NT4/eq1WpUVVUBoMz8P3vnHRXV+fzhtUUTY3oz5ZtmjKaYRI3RNGOMJnZBQWDpnaVX6b0jYgFpAtJRpIMNsAFSRAFBELH3rlEjosLz++P+JFmxkMREjfs5Z87h7N7h9r33eWfemf+EZID+r+lhvV9u3IAzu89yIHULTYF3SVe/I5xnc3L4L53XT+tzr1I1N73b/rWOUbcF82YHZ3Y5urAtPum20Lwr3Z3ryf35NfVjqjK6F13/s7Y5LZ/oeY24utzAxARUVQV4HjNGAOa33oLnnhOK1ScmSvONltYdf26l7I03urLRrUHPO9nUqV19e/bsnq+9vbRfRARMnAizLskfVAAAIABJREFUZwtwb2kJ7u4QEgKxsd1uX/+nLD8fSkuhqQlOnhSmV/9RD+s989Dp/Pk7TkfpNBMT6a4KL710777pOdmQGgbLXGDTXSq2H8qBakshzT1ZBCm9ofkexeZutSN5cK5OVkTuEZQM0B8zyQBdJoDr169TUlKCkZEREokEY2NjLC0tKSkp4fjx40RERKE+dRqSb0exSl+V9V8P5tc3nsJFVYnY2FjOnz//oHfhH1VdXR3u7u6IxWKioqIwNDTE3NycwsJCIiIi2LlzJxKJhLCwMEpW5RI09nPqh79F2wu9u7yxJX41FK1RX+A2cRyThnzArBFfMferr5nzoyJmuvZYmNnj6OhEaGgoqampVFVVPbDK9zLdJ8kA/V/Tw/KMuXoVjh2DhtrrVKYfpMxv019OS690zOLUZz/9npnToyd7plt2E+xz2OG48I5w3uzowvaY+K7gnJHN4eUqdCT36IzYHVk+58+lq6/MJS96HUv9SvCyqsZEbSezftlHhHfpH+ab5xO14HC3YFckgvBwabYxMuqe32uvdeWiUaOgR497+8rJSftlZXVvnSIReHlJ+7q53X35Hj3g+efh/fchPV3aNyoKQkMhJeXvRebz8oSahI2NArCfPv1w3DOPhK5eFdIT7naAAwOFqu4iEfzwQ/dPVkYKJHhDbhDszbgzZO9NhMJxUKp8e4jvbtr7pb3Q8SfnQ8j0wCQD9MdMMkCXqb29nby8PBYuXIiTkxMNDQ1s3LgRNzc3IiMjibCZS4KVJXN//JafBr+HwaSJ6GlrYW1q8p+Mmt9Jra2tBAUFERwcTFZWFosXL6auro7169fj7OzMrFmziIiIIDAwEC0tLVatWoWJxIhwHQUqfviEC289RUcPEXnK09Aa9QX6X49E7tMhxI8dIbx0Pyni2OAXyP/yE9zGTkQyS8JCr6UE+C8kOTmtM6Iu0yMoGaD/a3pQz5jffoPDh6G2FjYU/EZhzEE2z6ukwiX/r4O5cy5b7ZZzftBIaTifad1NOM9kp2PgneH8Du3UqjOSOZ86Uiqd9lzqKLZm3D4F/qaZazYw+YdDDP/kNK+/epnevdtvC6Gm6g1UZuayJbOI1TnnSEq6O7Q++SS8/DK8+64AqH9kmtBQ0NcX6nLZ2QkA7OsrRKSXLIHoaCHdPCnpHkHMHMjOFuA7M1PIWE5PF2A4LU162exsYR2urmBjAxIJaGoKae/TpsH48UL0/7PPum6vpWX3wL5fv65cN3ny798/9RS8844wyDBtmhCNd3AQ9jsl5c9C+zmKi89RXw9HjwoMKtNd1NEhjG7c7aDGx8PPP3cdZbmX5WRD6hJI8YS6pLtD9q0wfiAdcgZBlQQOZXUP1I8Xw5W/VsBWpn9XMkB/zCQD9MdbV69eJScnBz09Pdzd3TEwMKCyspILFy4QFRVN5sTv6XhCxJYvB7PBVAdrDTUiIiLw8/OjpaXlQW/+v66TJ0+ybNkyYmJiCA0NxdbWFolEwpw5c5g4cSKjR49GTk4ORUVFoqOjWbhwIVVVVaxfvx6xWMzmtFhyQufx84hh+Ez/CYvvx7B3+MDbvqF19BVx9t1n2DLyQ+Z9/z1zvp9BgNMiitds58IF2RvUIyUZoP9r+reeMb/+Cvv3Q3XlDdZnnKMwah+bQraxxavobwG51Jxxszguv/pu5zXT3rMXu+XtuuUrVGr3vCuc10TGdIHs+pUhXE155Q9t1HpSE6FDgF0FpuoNyP+8n1GfnWLyD4e6+H764dluwafCpH1syqoiL+daJxz/8gsoKQkRcUdHYS730qUCKN/PdO8HbWlpsGCBMF/d2hr09ASw/+UXGD1amBP/wgtCWv+tvqNHdw/uv/mmq6+NjRDNX7pUGISQHpw4R07OOanPiouFwaZDh+Dy5X/8dno0derUvVPebzVbW2Ek6V7LZS6HpABYH3bnVmy3Wunv7Q/Jfht2eP65+emtpx/0EZXpLpIB+mMmGaA/vrp06RKpqamYmZnh6+tLcXExFhYWBAQEkLQ0lt3Dfu/v2dFDRKK6AkZGRvj4+FBeXv6gN/+B6cqVK2zfvp2srCxiYmJYsGABy5YtY8WKFTg6OuLo6IiJiQnZ2dmEh4czb948fHx8cHBw4MqVK8ybNw9jY2OuXLyAvrqYpJ+Gc3joi7T3v3uu5am3BjB16GBmDhuGypgfcFM1I9EvjW1Fezl84DceoY52j59kgP6v6Z94xnR0CN3Q9uy6TvW6s2yM3cumkG2Uea+nwiXvvgH5H61JxYNr/Z/tvF6u9+1Po9irW741jtF3LAZ3M629JuoWOM/IZv8Kfa4nPtH5kn864iXGf1x425+kga/81gXQf/rmSOf3A/q38cE7F/hu5HFmT9qHifpOvK2qWeq3hRXxRx44KD/slp3d9TMjI/jxRyEyP3Cg9FTne6Xk/3HZ3r3hzTfhyy9h+nTQ1/8NN7eLREZ2hfebtnYtVFVBS4tQeO7Gjft6iz26amsTDkx3Tmp0tJAOcjP1/V5pHbm5sCIGVgbCztR7Q3bReOkicskiWDUcGoO7D+qntsBV2ZS6h1EyQH/MJAP0x1MXL14kODgYGxsbLC0tSUpKoq2tjfT0dBZZ2/DbwH5ST/zmT1/DwdIUKysr9u3b96A3/6HVtWvX2LJlCx4eHojFYtTV1dHW1mbt2rUEBwezYsUKjI2NSU5OZv/+/aipqbFp0yZycnIw0tehwNGQNWM/4sDQF7n+nHQVopLP3kZ95GeMG/Qu8sOG8uWgD+kYIOLy6/3Y9ckb5H4zghgFDVK8ElmVsokVqavJyipg1apVbN26lcuyMMiDkwzQ/zXdj2fMjRtw+mQ7uyvPsW3lPkoWbf9HYfxWq5VE0NHj9/v/6rOvUGcY1o2U9gwaHOfdFsrr7dxYpbeQsFnJmMlvZdr4gwwbcpbsiEIqM7K4kPq51It9ucdXvPnCoTuOGT7zdBtl6XlSgL580XpSQjZQnLTqtinwJVlbyM+58sDh979iWVlC+r6/P1hZCcX1Jk4EJyfp5WJiuj9n3tNT2jcuToj2x8RIDxrk58OmTbBjhzC147F/vBw+DKtX3/2EqapKH+wBA4QWALcbjfmjZWdBWhhsCL93NL3BX0hzvxXU14yCpgXdB/XTj28Q5mGVDNAfM8kA/fFTc3Mz8+fPR0NDg4SEBNzc3DA3NycuNo7sKb/Q3u8PadZPiCiY/g1eXl5ERkbS1NT0oDf/kdD169fZvHkzISEhaGpqYmBggJKSEg4ODkRHR5Oamkp0dDQ6OjocPHiQxYsXY2xszLVr13BxccHDw4PTJ45hNvU7cqaMpmn4G7iMGIzHLz+iNWo4aiM/w27c93d8y7r2Qm+Of/A8lV+8R+I3o1AfOxG5CXI4WniQEJfB1q07ZPfhvykZoP9r+ivPmLarHZzcc5HmwoNUx9VR5rfpb88d/7t2dIw8iEScf38E26yS7p0O7xhPk4MHzQ7ONNi54vlLNlqjSvnh/V28/fwZevW4cdufixDnCiozczm6fFbny/xCdVOe6H2VF55rZdiQs0z+4RB6Sk14mG9jqd9m1sStoSKjK4Dfubf5agqzDz5woH1cLSVFmCcvJyekyb/9NjzxxO0fH9HR0r6mpr9/17evUAfgu++E6QjW1sKc9+XLhWVXrxb6sTc1wfHj0Nr6z9zjD61aW+8eTc/JEYoQPPWU9EEfOhQWLbr3icxKh6zwbsxNzxaqva98uSuor/0aWmK6B+kyPVSSAfpjJhmgPz46f/48WVlZqKuro6mpiZaWFtXV1ezYsYMQJw8ODX5F6qHR9kpv5mvORlVVFX9/f5qbmx/0LjxyunbtGtXV1QQGBmJpaYmWlhb6+vooKyuTmJjIokWLiIiIwNfXF1dXV/bt24eOjg4pKSnk5+ejoaFBS0sLQUFB2Nracu74QbQUZ2MyR47Y2T/T+mofOnrcOyziMeYzxCOG8dXbbzFu0Ad4fzOavC8/YdG33+I2TQVPMz9WxOdRWb6Ty5fb6Ojo4OjRo+zdu5f6+npqamrYvn07x4/Lisn8JckA/V9Td54xv527ytFtx9mV1Uj14i1UuK16oDC+3XwZW23TpD6rcshk7zRzKp2yuyy/aW4+SXob8JXfisHYBgJn5EtFy5vsXejXu61bEdO5BnVUZuZSlZHB+dQR1KV4kzR/AxuSC+5LC7VNWdvIz7n6wCFVZtKWnS1Ex319wcTkMrNmXeGbb7qmuMvLdy/yPnRo13UkJcGaNVBZKfRkP3HiMYH248fvPjd92TJhlOOPB7BnT2EEJTX13icvIwUKY6Fl5d0B+2AGVBpC+ou/A3rak0JPdRmgP3KSAfpjJhmg//d17Ngx0tPTMTIyYtasWZ3zo62trYmIiCDW2pobz0inUx/+7BWcTQ1wcnIiIiKCtjZZz8y/o46ODg4ePEhKSgr29vYoKChgYWGBvb096urqZGdnk5aWhqOjIwoKCuTn5+Ph4dHZys3CwoJVq1Zx8OBBNDU1Wb16NdXV1YjFYtatiGP+lK9Z8+0QWoa9yqW3+tHxh17sN/r2QDziUyzGjkFz1OdojPycXSPfkDrfHT1EXHu+F+fffpp9Q1+l/Iv3yRj9Oa7ff8/0cVMQy6thIbHBQM8ES0sb4uLiKCgooLa2lubmZg4cOMCxY8dob5e1bLmtZID+r+nWZ0zHjXYuHDjPoU372Jm0jeqA+1fE7e/aNot4jn49mxt9+nLkG8Uu36+yWMNilS3Y/LIDxS/38tV7Jxn47G/0EHVIXUrjBjV1SWkf8sqxzu+f7NPG4LfP8dM3RzBUqmVDgCE14Vqsv08QfjsryyxmTfbpBw6iMru33a5I3E3z8ICZM4X56q+/fuf+7yNGdPUdNEiI1L/9tlC4TlFRSMUPDYX164VI+7FjQgeE/5yuXxcqvefn3/nAe3gIB/XWtPf587t34rJSoDwFDtyjYvvBlVChByuegxLFrt83hdy+6rtMD5VkgP6YSQbo/111dHSwZs0aAgICMDQ0xN/fHysrK1xcXIiKiiI4OJiczBxsZkzlykAh3629fw9SJn2Jg4MAjnl5eVy5cuVB78p/Sm1tbWzevBk3Nzc8PT3x8fHBwsICPT09pk+fzvjx4/nxxx/R1tZGRUWFyMhIgoODqa+vJzc3FzU1Nc6ePUtoaCgSiYSjR49ibm5OYmIiGRkZmJqasqepATuFCcRPHcOaqV8zceTnBKsp4Dr5R34ZMojzQwZ0KyyyZ9BLeE8ej8aXnzNh8CC0x3zD0SEvsn/wK2z/9G3WDh9C4qjhzP/uO1wnTEUyVRk7E3eiI+JZtaqInTt3UldXR3FxMUlJSSQnJxMXF0dsbCxr1qyhtraW8+fPc+2/XuFOBuj/mk4dOcH+rbvZl9dAfXgJVW4PNlW9iznl0KA1j1PDxtPe6/fKXW29+rHNbJnUsipf7elW9PKdF053AfSlc5YRpxRLofNSyldkU5mRw+70uZ0V2tuTe1O7MuK+g3l55hoKs/eRm9P+wMFTZn8f0G+1jAyhfZ2jI2hoCC3lhgwRUt6l/+fv9dDuZC+9BJ9/LlSXX70aysqgvl6oHH/hAvwnxnsvX7572vvKlaCiAn36/H5QVq78cycwPx1qsu7dA/1AOhxYLv3ZviRIfQJWvgJlarA3QQboD6lkgP6YSQbo/001NTUxf/58xGIxpqamqKmpkZOTQ0REBOXl5aSnr0RNXh6bCT/gN/Un/KeN4+TQ51gW6IKPjw+enp4UFhY+6N34T6u1tZWamhry8vKIiYlh0aJFJCQksGjRInR0dHB1dcXW1pbc3FxSU1OJiIjA29sbS0tLjh8/jpGREREREezduxdNTU02bNhAQkICFhYW7Nq1Czs7O6KioqioqEBTU5OGhgYC/P0wlRiS52BE6vcfUzX6XQ59/CKX3+p72yryW4f9D/GIYVh8Pxrbcd8gN+Yb6HVvYmjv1wPPTwcz4p33GDN4KGOGfIzR9+NY//lgMkcOI2b0lwR8/TUOY3/CaNwUDBWUsTS1wM/Pj7S0NLZt20brH3IhW1tbaW5upqioiJSUFBITE1mwYAELFixg+fLlrF27lpqaGo4dO/Zw9ouXAfo/o/Z2Lh06x9GSvTSnVFMbtI4SvxxKfHMePIj/wcodstg0ayGVH2ty+sm3ulwLbaI+hIjMWa23UsrPfnJtl8tmQN9Whg08xIxParD4vpCFcqnk6S7qAui7nFw726jVrwzh19RPpeaidiT3ZO8K0/sG5hWZBazPaupsnSazR8f+DKB311asgK++EqrF9+p190eGi4u074IFQru5ceOENnTBwUIV+WPHeHS7lZw9CyUldz5gUVHCDpubd/3O1/fO5fX/aGtzoX4VHMnrfjG4UmXpOeopvWHd90KxOZkeKskA/TGTDND/O2pvb2fPnj2EhISgo6ODgoIC3t7eFBQU4OPjQ3x8PB6KSpx873kSFKZj/v1oLCeMxcZADyMjIzIzM5FIJDg4OLBmzRpZuvID1IkTJ0hNTcXHxwdzc3MMDQ2ZPn06S5YswcnJCVdXV6ysrFi7di1FRUWIxWIaGhpYvHgxBgYGnDx5EgsLC6Kjo8nJyUEikbBnzx6MjIyIioqipqYGLS0tqqqqiI+PR19fn+bmZsy0lFhmrUuc/Dgyvv+YLH1lJo8ZhZtYgSW6aqiN/bp7ExJFIgJHDmX6xx/yy5BBiEcMI27cqLsu39FDxPWnenLxhX5M+2wE4z79nDljJ6AwbgJeY79h6VefE/DNKNwmTsBk0i+Y6+phbGyMkpISYrEYsViMpaUlAQEBpKamsnfvXm78oRfQ9evXuXz5Ms3NzWzbto2ioiKKi4vZvHkzBw4coLW1lY6Ojn/mhMoA/b7o6plLnNx2mL059TSEb6bao2t0vMT3wQH6etsC1lmvlvqswDCXc6LnbnvNnxM9R4DIlrdEBxGJIFS8Rco3WX8DKl/twXlSKfHiRMrM/Nhlf+e+5jet0cuXrcnLaVgZzLnUUV0KRV1I/YwdK0PvI5g3yOaZP8L2TwD6Hy0zE8LDherymprw009C1P3pp4VbISJCenlLy9s/Jnr2hDfegDFjQF0d/Pzg6FEhSP1P/XTfd504IZS/7+7BW7IEevSAV14RRitWrLi3T9Eq2FkMRwruDej1vrBqBCT36FpQTqaHSrIz8phJBuiPvk6ePMn69euxs7NDTU2NadOmMW/ePKysrPDx8cHLy4t5tvY0ff5eZ0Gx3wb2xVNfm7UFBZSUlGBqaoqTkxOWlpbs2rXrnwMVmbqtjo4Ojhw5QmFhIdHR0RgaGqKmpoaGhgYGBgYEBARgampKaGgo3t7eBAYGEhISgpeXF2vWrEFXV5fo6GgWLVqEgYFB55z14uJicnNz0dHR4dSpU7i5ueHq6kpDQwP6+vps3ryZqKgo7OzsqK+vx9TUlBUrVpCfn4++gR5Vm3Lx1JjJEqUJ5M35iZzvPmTrN4No/vw1jn/4LBf/9yRtr/Qi9Jfv0Bv7NbO/+ISlc2aQ+d2wboH9jX49UP7iU75/722Gv/kaY955i4Ofv3L7ZZ/qwZXXnuDk+8/R9OlbxH41HKXps5g1XR7F2YpIJBJsbW1xcnLC1NQUDQ0NNDQ0mDNnDurq6piammJhYYFYLEZbWxsHBwfmzZvHihUryMvLY9u2bTQ1NbF//34OHTokVYvh+vXrtLa2sn//furq6mhububixYtcuXKl6/3TDUBvbW3l7Nmz/Pbbb1y9elUqg+DPqL29nba2tkf+Hr52/jJndhzlwOpGdi7dwjbv7hVy+6cBfdPcAlZoFhAzIYWIYaFEvelO4gAj8nrNoFo0nI2vKkgtX+aYx27RB79nl4h6UCT6ER1RNAP7neXTN88yZdhBJOMayTT+fX58lVM6tY5LOiuzd8d2ObpQFxpO/Yp5nE8d0eWFuzXlNZrTHanMyJGBucw67Z8G9DuvFxITuwaHNTQEJr3X4+Kll373KSgQAtTe3uDqCunpQs/2hzbOcOLE3SPqN23ChFtSaAYI8wni4+/tW7gOGkvh2Pp7g/ruKNgkDyue+b2YnEwPlWSA/phJBuiPpi5dukRpaSkBAQGoqakxc+ZMxGIx/v7+SCQSFi1ahKOjI7lRUdR//i4dvaWfbNdf6ImX+hxiYmIIDQ3FzMyMqKgoWlpaHvSuyXSLbt4zV65coaSkhGXLljF37lyUlJT48ccf0dTUxN3dHXV1dcLCwsjPz0dXV5cZM2agoKCAlpYWKioquLm54efnR0pKCkFBQUgkEk6ePImenh4xMTHU1tYiFovZvn07YWFhGBsbs3fvXszNzUlPTyc+Ph4LCwtaWlowMjIiKSmJjRs3YmBgQGNjI56enjg7O9PQ0ICenh6lpaUEBQXh5OREXU0tZrOmkK78M7lTvqRo7GBqv3uflpGvcXzY8/z64VO0vd2HjpdFXBrYD4XRowhWmc1PQwbj/PM4zgx9pltw3zzkFXRHj0B/zJf8MOg9vhk8lLZX+3DptX4c/uBFtn3xLlmjPydi0gRi7ezR09DF1NSUsLAwZs+e3QnuU6dOZc6cOUyaNAkFBQU0NDQwMzNDIpFgYmKCjY1NJ/Dr6+tjbW2NkZERampq6OvrY2ZmhpOTE97e3vj7+5OycGGXbd1bUUFpaSnp6en4+Pjg6uqKm5sbBgYGSCQSrK2tMTc3x9bWlrlz5+Lo6IiHhwfOzs4EBgYSFhZGREQEy5YtY/HixSxevBhXV1fs7e3x8vLC1tYWV1dXIiMjSUhIYP369TQ3Nz98BR/b27ly/AInqw+xP7+BxqVlbPdd/ZcB+n4A+hbLFVQ6Sf+PyEEB1Pb8nDOiF+56De7pO7TL/0t/VoeiATOIet8Xv/HriFQvZa3Vmq7rdsqgxnEpOx0D2OXg0m0wb3ZwZqePP1uT06jMzGXvClMpML+a8hL7VxhSlZHxt8F8S+Y6irN3/6VU9pycjjtadk57p/3x8wcFrfn5wrzodeuguBg2bhR4assWqKiArVth2zaorRV6gTc0CDXBdu0SKpa3tMCePbBvH+zfDwcPCnOrDx+GI0eEyO/Ro0La9k07fvzednPZI0cEO3RI+N8HDgjr2btXWHdzs1CErbFR2Lb6eqirg5oaYburqoSWaGVlsGHDOYqKzlFcLOzvmjUC8OblPbhBg/R0WLgQbG1BWVkoev7uu9Lt4T77rKvfkCHSt2TfvkK6/KRJQoG6uDjYvh0emtI6p08LF9SdDoSvr1CB79bfml69hMp7Xl737qO+di3UV8HxKji66t4F5aothaJyMj1UkgH6YyYZoD86amtro6amhoSEBHR0dBCLxcyaNYvAwEDc3NxwcXHB3t6e5ORkssOW0DDsrS5g3tFXRPnYoZQUFnTChqamJvHx8ZySpdw+lLr1nmlvb+fSpUucOnWKjRs34uHhgZubG4sWLeqMBquoqGBgYMD06dORk5NDWVkZHR0dHBwcmDNnDl5eXnh5eeHk5ISVlRVLly4lLS0NiURCXl4e8+fPx8rKivr6ejQ1NUlOTsbf3x8zMzOampoQi8UUFRWRlpaGnp4ep06dwsrKioULF1JeXo6Ojg47duwgICAAR0dH6uvrkUgkFBYWEhMTg62tLfX19Zibm5OamkpZWRnq6uo07tyJi6sj7u7uVFVVoaWlRU1NDZFTf2DDj59S++0g9gx/jZOfPM/ld/tx/cWeUtf41uHvMfHD93Gd+APiEcNQ+OZbuEsbuo4eIq4/15ML7/QnQWUOFvrGuDq44ODggP1cOyQSQ+zt7bGxsUFJSQkjIyOmTJmCvLw806dPx8jIiKCgIMRiMa6urjg6OjJjxgwMDQ2ZNWsWCgoK6OnpMefHH7use/qYMcjJyTFt2jRMTEzQ19dnzpw5+Pv7o6uri7y8PGZmZkybNq2zNeKMGTOwsLBg1qxZzJ49G3l5ecaPH4+ysjKTJ09GX18fY2Nj5OTksLW1RSKRICcnh6amJhoaGri7uxMTE0NNTc0DuZav/XqFc00nOLKxhZbl26hfvIFq97z7GuHuDqBX2aSxWTWSteP9WTXMlsI3NSl9dhKNfYZx9v8BfJtZnJTP0v+53zv7Q9STY0++1wXu72hOWWxzTKLOcQk7Hfz+NJQ3Ozizx9uKhqVebEnPoiw9g5IVKylZnkpr8su0Jr9EU4oOxSnLKExNYl1KImuS41mdHMeqpDgKkmLJT4whL2EpuQnR5CREkR0fSdayCDKXhZOxbAkZcUtIjwslMTaBRUuL8I2uwyd6B17RtXhF1eIRuR2PyO24R2zDLaIat4hqXCO24hJe9f9WifOSv2cu4ZW4hFd1/n/3iG2d6/WMqsErqhbv6Dp8o+sJjKsnJLmesBUNLM3ZybKCnaQWNrJyYxM5pbtYXbmb4u172Fy/l8pdB6jdd5jGQ0fZe+IEh86c4tTFc1xo/ZXLbZe5ev0q19sfwpoW91l3ey9rbxfmfbe2wqVLQvG2s2fh5ElhoODQIWEQYvduYUCgvl4YBKiqEgYzNm8WKravWydA/98F9+xsWLoU3N3Bx6drRP5m2vy9TEtL4OKGBmGA49gxYTtPnXpA6fKXLgkjKKtW3X7HFy6EH364fRn9gQPBwaF7o05bK+HQDji15d5z1WV6qCQD9MdMMkB/uNXa2kp9fT0pKSnY2dkhFouZPn06hoaGREVFYW5uTlBQEA4ODuzfvx9PDw9aPn6djlsKeXX0FVE3+h08TXTR1dXFyckJfX19wsPDqa6uftC7KdNddK975mbtgZKSEkpKSqisrKSlpYVjx47R0dHBiRMn2LBhA8HBwVhZWWFoaIiKigqzZ89mxowZnSBvZ2dHUlISWlpa2Nvbk5CQgLm5OXJycmhpaWFtbY2hoSGenp54eXmxbNkygoODMTExobm5GS0tLZKSksjMzERNTY0TJ07g4+ODlZUVx44dQ0tLi9zc3M6BhF27dqGurk6qhfcFAAAgAElEQVRxcTExMTGYmppy8ODBzvZ/GzZswNDQkPr6etzc3PDw8KCmpgZDQ0MqKiqYP38+Tk5O1NfVYa0xm2QrTbJDfFFVEVOxfgN6YjG2YkWuv9yzW4XtVs8Yx5SPBmP/0zhcp04l4odRdPQR0fZqb04Pfoam4W9S9N1QspV/xkfxZ+Z72hEZGYG5uTnLly/H2dkZPz8/8vLyMDQ0ZNGiRfj5+eHi4kKQnV2X9Tnq6aGpqYmNjQ3BwcH4+PgQEhKCo6MjS5YsISYmBkNDQxISEjqj64sXL8bOzo558+bh4OCAk5MT8+fPx9jYGD8/PwICAnB3dyckJARfX1+Cg4NxdnYmMzOTsrIyFi9ezJo1a4iMjKSuru6fuWBv3KD15K+crT/KkQ27aVm+jYYlm9juXfCPpZ1LAbp3FhUO8VSKF1ChHyP13Yo5Kznb44VuvcFXzJkvDejDQ7kh6smRXm9R1380Za/OZOOHepR8Z0+1YgA1JtFUOWTeEcSrndKodoxjm30YNfZB1M51Z4edHXW2NtTaWFNjY8V2a0uqrc3ZamVGlaUJlZYmlFtI2GJuRJm5IaXmBmw202OLpZgmn+84ufQdOpJ6cCj+YxKj5klZTrQdSVEBXT7/M7YsagGLI5LxWlL8tyH7z5pbVAVecVvwSyolaPlmQjI3Epq3nog1xSwtLiRu01oSt6whpWoVK7YXkFmfR05TLrm7/hlbtXsV6/asY/2+9Ww+sJnyw+VUHami5ngNDScb2HV6F3vO7uHghYMcvXiUU5dPce7KOS61XeLq9au0dzysudb/7ntZRwe0tQnzxi9cEALIx44JkNzSIkT86+qgulqI8G/aBEVFd+bWWwE9MBDMzIT+7aNGCXPWb8e09vZd+ffmd888I0Tn5eXBzk4YECgtFQYl/nF4v35dSIW40zz1pUth1ix49lnpHXJ2/nMjHRs2wO5GONMIJzfLAP0RkAzQHzPJAP3hUnt7O1euXKG2tpbo6GicnJxQU1NDRUWFmTNnEhISgpOTE4GBgVhaWpKVlcWmTZsQi8VUlFcSHxjEoSEvSoF5zZj3sdNWISYmBnNzc5SUlLCxsWH16tX/2nmX6a/rft4z165dY//+/VRVVZGfn09sbCwuLi7o6emhrKyMoaEhHh4e2Nvbo6mpyeTJk5GXl2fChAnIycmhoKCApqYmnp6eKCoqdqZ7SyQS5s6di5OTEwsWLMDZ2Zno6GiCgoLw8vIiMTGxM5Xe29sbMzMzVq5ciba2NmvXrsXZ2RlnZ2fOnj3b2Rc+KysLdXV1Tp8+zYIFCzA1NeXo0aNoaWlRUFCAn58ftra2bN26tbNIXlBQELa2thw6dAiJREJ6ejr5+fmYSHTJCwskQn48Bb98Sc3XH3Dooxe59NaTtA8QJjuma4uZOuxjgmdMwvqHryn8dug9Ia5jgIgz7z5N84YKTPQk+Hp5s2fPHiymypMdHMk8zwBMTEw43djYNR2/tLSzJoC3tzdWVlZcvHgRLS0tEhISKCoqQk1NjX379jF37lw8PDxoaGhALBZTVlaGt7c3NjY27Nq1C7FYTElJCYGBgZiZmXHlyhX09PQIDw+nsbGRqKgoLl68SFJSEps3b6a0tJS4uLi/XPG+/cpVLh85z5kdRzmysYU9GbU0xmyhdl4hW93ub0T8tinoejFsmBJA0Sh71n+gR9mrM6l7+msO9XmXq6K+ncd40wfa0qnmemu5IbpDI+f/j4Af7PE/qp74hvXyi6h0yqLKaSVVjsupsF1Ghe1Syu2jKbNbQqntIjZbB7PZOpBNVr5stPRko6UrG8wd2WBuxwYzSzaambDRVJ9NJjpsMNFmvbHWX7YyS0V2eY3mbPjrdCRJF3RqT+pBRrTz34Lxm5YQFUx4ZCwB4fm4LNlyX2DbJbwC9+hyvJeV4Z9SQnD6JhbmbGDJqmKiigTYTipfQ1r1KlbW5ZPd+M+B9oO0gt0FnZBferCUyiOVbD+2nYaTDTSfaWbfuX0c/vUwJy+f5NyVc1xuu0zbjX++nsSj8l7W3g5Xr8LFi3DmjAD2Bw4I0fuGBiF1vaJCiNoXFv4esc/IgLAwIcispiYUS4+MlOZVW9vuRd6ffBIqK4XBhGPHhEGGm1MJ7nva/K+/CikJa9d2BeyMDGH0YNgwYTL+rRP5bWyEano2NpCScmdQz8sTduhAC5xvhlOlv0fWZXqoJAP0x0wyQH8wunbtGufOnWP37t1s3LiRmJgYAgICsLKyQiwWM2XKFFRUVJCTk0MikXQWAvPz88Pa2pqjh4+waPokmoa9SXXhOuTGjsVo7NcU2UgI/HE07f17sP2bD4j0c6eiogI9PT0kEglGRkYUFRVx+fLlB30IZOqm/o175rfffqOpqYnVq1eTnJxMcnIymZmZVFdXc/jwYU6cOEFFRQWZmZl4e3tjamqKpaUl2trazJkzh8mTJ6OgoMAvv/yCrq5u5xx5X19fFi9ejKKiIhoaGkyfPp2pU6d2pm0HBASgq6uLjY0Nvr6+pKamIpFIiIuLIzIyEnNzc6qqqggNDcXc3Jz8/Hz09PQICwvrrGQfFhbWmQpvYmLC4sWL2blzpzBoVVFBdnY22traHD16FDc3N9zd3SkrK0NbW5v6+npsbW0JcJlLaUkJGhoaNNTuwM3enuyxX9D6yhN09Ln7G9vFV/sRozwDtRGfYfLd10SpqnLhg9/zLG882ZPfXurbxW/9LxNwl5Nj1apVREZGYmVlxb59+7C0tCQuLo7CwkIkEgk7duzonHdeXV2Nnp4e1dXV+Pr64uLiQl1dHQYGBmzevLkzwt7S0oKpqSkpKSlcvHiRyMhIDh8+TElJCenp6fz6669ERkayb98+qeugo+0aV89e5uL+M5zZcZRjZfs4sLqRPenbaYrdwo4FxWz3us99xZ1y2Gq3gipJDJuUwiicGMC6Lx0p+lDCxjeUKXtbuYvPuj6TuvU2Xf7KVKqdUqh2TGCr/VJKbCLZIhpNee+vyX9anrRX9UgYbE3CaCeWT3dlrb4dpeamlJgbsdlMj02mumw00flbYP13ofxo8GB+W/pM1wrL/28XE19ke9wklkd5/i0oj4hcSlB4Dm5LSrsX4Y4ux6sLcK//f+Be1wncGTvy/9HI9uNiq1tWU7S3iM0HNlNxuIJtx7bRcLKB3Wd2s//8fo78eoRTl09xofUCV65d4Ub7jTv82nfVf/m97MYNAZwvXBDS1w8fFubpNzUJ9QOqqoToeFgYTJ8uRM5feunOPyvPPdeVcX/66ffvX34Zhg8HOTmhGv2iRcJAQWOjkDXwl9TRIYTvt28XCiPcugFpaV0/Gz78943q1UsAeV1doZ3bXVPgt8LBffDr/vt5GmS6D5IB+mMmGaD/M+ro6ODixYtcvHiRX3/9lb1797JhwwZSUlLw9PTE2toaLS0tlJWVkZeXR1NTkzlz5jBz5kxsbW3R0dHB3d0dZ2dnkpKS0NPTIzsrmxRzI2o+f5sbz/weBcobNxJ7RXnmTJ9GXU0NoYsXExe+CD09oQ2VgYEBRkZGpKSkcPz48Qd9aGT6k3oY75kbN25w4sQJjh071lnF/CbcOzk5YW1tjaOjI/r6+mhoaGBpaYmNjQ1WVlbMnTsXCwsL1NTUUFVV7axMP27cOOTk5PDw8EAsFjNv3jw2btyItbU11tbWREZGoqamhrKyMjNnzuTnn39m0qRJzJ49Gy0tLYyNjfH29sbHx4eYmBgsLCwoLi7uvH927tzZGXXOy8tDVVWVyspKTExMmD9/PnFxcWhoaHDmzBnmzp2Lp6cnTU1NqIpVKIiJJUpdlaRxX1P5/XCaP3qds/8bwLVne7P3/ZdIcpyL0ndfIxk/lsAZk7n+xj0a//6/FX/+Dj5KqgRo6qD0w08sMLXhxpM9ufJiX86/MYBjb7/IvkFvUjf4PbZ8/AmbRn7DimFjyJ8wB09dE2wkllStKUNDUY20wFTmaXphMcOIoohcdOU1iAuMpD5/K/5WnlQvLyHNfxmhNvNoTt2Kh6Y9eR5J1C9aT23AGrZ55FHp8hcA2z6DCosUSvWXsUk1ig2zQymeEkzheF/WjHFj1ecOFHxoQbkkXsovZdR8TvZ8jVZR18GLP9qFHs8KgO0QQ5V9BJVzF5HRX/m2y/4qGkC96GOKev/Eyv6KpH6k1yVyXSx5MLB9J9tgrEGFjRwNrmPZZj9Z6ruNNuq3hfJfE19iR9x4CpZakBgV9JegPC5qIWERCQSE5+MWXnqHCHdX4P4vR7j/a3YzYr9h/wZKD5ZSfricyiOVbDu2jboTdTSeaqTlbAuNhxppOdrC2StnudR2iWs3HtVm439fN24IIH3ggDBvPixMKC4nLw9ffgnff9+Vaz/9tHvR9ylThAGBhgZhkOD4cfD3h6QkYb7+kSPC+u+q9nYB1mtrbx9Zvxldf/HFO2/IG2/A5MlCnv+douv5+f/K8Zap+5IB+mMmGaD/ObW1tXHmzBnOnz/P8ePHOXToELt27aK2tpa1a9eSlZXFokWLcHZ2xs3NDYlEgrKyMtOmTUNZWZlZs2ZhamqKkpISSkpKeHl5IZFI8PLywsPDg6ioKHR1dcnIyCAyMhIdFSXW6arQPOwNrj97+9TM4x++wKpVq/Dw8MDJyQkDAwMWLFiAgYEB1tbW+Pv709jY+Mi3XXpc9SjeMxcuXOhsTXby5EmOHz8ulbXR1tbG+fPnaWxsZNOmTaxcubIzSm5ubo6zszOmpqbo6uqiqqqKuro6YrEYdXV1zMzMOgH65j0mFouZNm0aOjo6yMnJ4eXlRW5uLhKJBFdXV5YvX46DgwPW1ta4ubkhFos7q7YbGBigpaWFu7s7AQEBhISE4OLigp+fH2lpaWhoaLBlyxaCg4MxNTVl7969mJqasnDhQvLz81ETq7J7925MTU0JDg4mZlkMtV//j5OfPsfl9/py4+We0Pv2L0rLPx+ExdgxBE//mZ8Gv0ew3JTuvemJRLiOHInaVz+SY+jOLx+NouDbL7ss096jB9f69OZKv3782v9pzj39LHteeZvVlgnYT5aQ9/+F0Nb+bxp7nh5Ec/+hNPb/lMYnP2VXv49peWIIe/oMZn+v9zjc839sGGIgBdkZevnd3t7SabZU2AVTbhtAuY0PUZ96dNt3o4GaFLiGDbYh5QU1Yt6SEPmxFRHfziV25lwytc1YZ29JoYPlPwDTGmwyE7PZTIUSc2VKLeZQaqlImaUCW6xmU249i3JreSps5FhvrCnlu9VuGrs8x7DHZySHgj7i5MJ3uBDxMq2xT9H+h3T14yHvs9bGiBwPO9IWeJEYNY8zCa9yI6knR+L/R3nMd8RH6BC4xA7/MBt8w6zxCrPEI9SMxeGunfCdHBNEQqwP9pEa2EWpYrdUGZtYZcyWaSBJ1EMvVYLWClO0VxqhlalHYm2SFNgFbwlm9vLZyKXJMSN1BlOTpzIpaRITEybyU/xPjFs2jrFxY5mcNLkLFCqvVOaTsE8YGjqUwYsHM2jhIN5d8C7/C/kfb85/k4HzBvJK0CvIp8l38X0t6DUG+A64pzkUOXTZ3qd9n2aA7wCe9XuW5/2f58WAF3k58GVeDXqVgfMG8kbwG7w1/y1SdqRI+ZqvNuej0I/4JOwThi0ZxhcRXzAyaiSjl47mu9jvGLdsHBMSJqCaodple63XWKOdrY1+rj6SfAlmq8ywWmOF3To7HIsccVvvhtdGL6Kqo6T8cppySNmRQnpDOjlNOQ8c5HNqcsipkd6OvOY81u5Zy4b9Gyg7VEbVkSpqj9fSdLqJvef2dqbin289z+W2y48N1Hd0CBH5M2eEefONjUKk/GZv9+eeu/NPmYpK10r1ty7Tqxe8/rpQuH3KFNDXFwq135Ls9LvOnxdK9peUSJfdz8oSHKdPh9deu/NGmZh0nch/82+ZHirJAP0x0+MC6NeuXePMmTOcO3eOY8eOceDAAQ4dOsS+ffvYtWsXNTU1bN68mbS0NFJTUwkLCyMwMJD58+fj5uaGk5MTFhYWGBkZYWxsjJaWFurq6syZMwclJSWmTZuGoqJiZ4Vnc3Nz5OXlMTU1RUdHB319fezt7bGwsMDT0xM/P7/O1NusrCzCwsLQ1dWltbW1swDcjq8+6FLs7aZ19BZxYsjzpE/5jnkermhoaHS2aLpZwXvJkiXs3LmTa9cejwfnf1WPIqD/VV27do3GxkbWrFnD8uXLiYmJITMzk8LCQqqqqjh48CCXLl3q4nf69GmKioo6azSoqqqio6ODkZERJiYmGBkZoaCggIKCAsrKyp3t1G4OnInFYjQ0NDqnl9jY2KCpqYm6ujrOzs4YGBh0tkKTSCSEh4cTHByMoaEhhoaGGBsbd2arODg4dKafu7i44OXlRZiHU5d7ePOPnzBfR0xwYBDuTs5oqajgNXsKN17uAU/eG1ptR3yM1qgv0B09HLWRn7Hx2yH39EEk4sqLTxAwfRpuv/zCZjNzSs0tufBh90ofN3z2LqXmRpSaG1JqZkCinh4dPbsH2cXjfpKC1mVT5LjydD8uvDyA0/97nuNDXubw8FfZ/8NAdk9/nSa1N9hp+jpb7d9lvUQaeDcEvseuiGf+3wbQHDGA3REDaIl8mj3Rz7Bv6QAORD9FaeD7XUD76NJ+nInrw7llvbmwrDcX43txKb4nvyX0pDWhB22JPbieJKLI7Uspv1zHb++YZn6rbTQVS/mumv9qt/ya4p7ohOyk6CCSYwP5NuBFnvQQIXK/uxknTqCs1IXycmcqK5zJ2mRzT5+btrhisRScmRSYdMvvhYAXusDetzHfdst3fPz4Lr79ffp3y9d2na2UX1BZULf39VZAV16p3C2/DxZ90GV7h4YO7Zbv7OWzpfxW7lwp9X0fzz709+nP8/7P80rQK7w1/y3eW/geQ0KHsKB8gZTvwvKFTE2einyaPErpSqhnqqOTo4MkX4LlakvsC+1xW++G72bfLtubsTODrMasbgH6X7G85jzWtKxh/b71UlDfeKqRPWf3cPjXw5y4dKJzfv1/EeqvXhUq2xcVCdnkjo7CvPfx44XK839k4fDwbo9REhIiBLULC4WU/MBAoe3cmDFCzThTUwjwvUFq+DlK4/fQklTBpeUFv0N3aCioq8PQocIowM1/fGvKu6OjUBV+3LgHfShlukUyQH/M9CgCekdHB5cuXeLixYtcvnyZU6dOsWfPHrZu3crGjRvJyckhPz+f6OhoFi9ejIuLC2ZmZlhaWqKjo9P54q2qqtr50i4vL8+UKVNQVVVFXl4eNTU1tLS0OufUysnJoaSkhJWVFbNmzcLa2hoDAwO0tbWZO3cuhoaGODo64ujoSFBQEPb29oSGhuLo6IirqytVVVWoqalRWFiIn58fFhYWXL58GdM5iqQoTmPrmKHoaqjT1NiElZERapMnUfLtx9JQ3kfE6Q+eZdWkbwhxd+rcH1tbW+Tl5dHX18fDw4OSkhLOnz9/n86YTA9ajxOg3w+dOXOGuro6cnNzSUlJITo6mrCwMNLT09mwYQO1tbUcOnSIy5cvc+3aNY4ePcqWLVtIS0sjNDQUf39/TExMMDc37yyeN3nyZGbPno22tjZisRh9fX3U1dVRUFBAUVGRcePGIS8vj5KSEioqKigrKzNp0iQ0NDSEKSxTukbGDWfNws/PD2dnZ6ZNm8acOXMYN24cU6ZMYfrMSSgq/YiJ5ngsFUbhp/IVi2cNI2Hmh+RMH0zhL29jpKmJjo4206dORV9Hm+UzhnJ5xBNc+7wXHZ+I4EMRvCuC10XwsgieE8EzIs6/+RQ2s6aSZithvYcN651NuTj0qa7t6HqKoI8I+omgv+C7bcQgKfBMMJ4Nn4ngcxF8JYKxIvhZBDNEoCgCdRHoi8BMRI7Oz1K+id7vdwtajy/r0QWyC5c82S3fosXPdvG9kNA9yM7y/ETKL8npq+4DuoUym8w02WSpyUY7HVIXvHbb5U7Ei6iOEbE8QoTTQhFmS16ldLMrW8pcqPh/0B4U/Eq3INBg+TSK6qJY3ZBEXlMm8TXx3YbWWyHQfLV5t/ye9Xu2C6R9H/u91DK9PHrRx7MP/bz70d+nPwN8B/Cc/3NMS5nWxfe9he8xcN7ALvZ68OtS5rLepQu0vhH8BgPnDeTVoFd5OfBlXgx4kef9n+dZv2cZ4DuA/j79edL7SdLq06R8ldKVurWvQ0OHdtneDxZ90C1flZUqUn4pO1K6fW4CSwOlfO3W2XXLr593vy7b+3Piz4jcRfT27E1/n/684P8Cr817jbfnv83ghYP5dMmnjIwaiWaWZhdfo3wj9HP1MSkwwXqtNY5Fjnhs9MC/xJ+Q8hCWVC0hZlsM6Q3pfxrqbxep33lqJy1nWzh44SDHLx3nzG9nuHj1Iq3XWx/qivh3U3u7kD5/6pQQfa+sBD8/kEhgxgz46isBugcM6Aro8fHSHK2t3T2wf/et6zRnN3IotZSTcQWcS8glyWATWRNC2fG1Pht9y2hasp6zyavpyMkVcvlvOsv0UEl2Rh4z/R1Ab29vp62tjWvXrnH69GnOnj3LlStXuHDhAlevXu2cg33lyhXOnj3L5cuXOXDgAPv27ePgwYM0NTVRXV1NeXk5W7ZsobCwkJKSEnJyckhPTycpKYmQkBBCQ0Px8/PDzc0NBwcHTExMsLKyQiKRoK6ujqKiIioqKqiqqqKiooKioiITJ07sbEk2Z84crK2tmTVrFnPnzsXKygpVVVUcHBzQ1dXF3NwcCwsLLC0t8fb2xsHBAS8vL9zc3AgJCcHGxoZ58+YRHh6OsbExWVlZ2Nra4u/vT15eHmpqalRVVWFra4uXlxe1tbWIxWIqKysJDAzE1taWvbt3Yz9rBisUplDx9Uec+OB5btySsu76zXAWayjjqanK9PE/strXjWsv9mLn8LdIV52Bv5szQUFBKCsr4+joiLa2Njo6OsydO5f8/HxOnz79D1whMj1oyQD9wejMmTMcOXKk87equLiYrKwsVq5cSWxsLGlpaaxfv57q6moOHjxIQ0MDZWVlFBQUkJyczPLly1m0aBHBwcHMmzu3y5uTh4kJxsbG6Ojo4OHhQXh4OLm5uaxdu5bi4mLy8vJITk4mKyuLuLg4EhISSExMJCwsjIiICLy8vHB3d8ff319o5RYURGxsLLGxsaSuSGZJTAAhS6xx9JTHwfNn/BdOIThsIjGJehw9elRqX3OzxrIqdShrEt6hMG4gxXEvsj7uWTbFPkVZbF8qY/uwLbYXBVny7KnZSPPWQprKV7Mu34OzCSIuJ4q4kijiaqKI60ki2pNuA8vR2pRHeVEe6Un5EjdSw4Z2C3ZPxPeg1FOXMg9dytx1KXPXoSji3oB+PUlEUdhzlLroUOqiQ4mrLiXuuuyKE3E0XsShZSL2LxOxJ07ErjgRO2NF7IgVURMrQHPawpGULDKmNMyY0nATEsLGszZKxKooEXlRIrIiRayMFOA6JUJEYriIZeEiYpaI2FJsRmWpI5UVAmR7JA3HeOETaC7ox7T5TzJq3gDeC3yOt4Ne5L15L/NB8KsMmT8QuZjhnT43TTHuS75b8iFjIz5mXNRnjF86kp9iRjMx7nt+ThjPpKRJTE2eisdGDynwWdGwAtUMVTSyNNDK1kInRwf9XH2M8o0wKTDBfJU5lmsssVlr0yWqvKxmGd6bvPHb7EdgaSDzyuYRsiWEhRULCa0MJbwqnKjqKGK2xdw2SnszUvswpG/fy7KbsslszGTlzpWsaFhB6o5UkuqSiKuJI7o6moitEYRWhhKxNaKLr/cmb+zW2WG1xgqzVWZI8iXo5+qjla2FWqYayiuVUVyhiPcm7y6APiJyBJ8u+ZQPF3/Iuwve5Y3gN3g58GWe9XuWJ72fpLdn79sOnlistvjLgyc/xP3QLd/vY7/v4vu8//Pd8jVdZSrlt6RqCa8EClkBgxYO4qOwj/gi4gtGLx3N2LixTEyYyLSUacxePrvL4EnE1ojObIDgsmBCK0OJqo4ivjaelTtXsrZlLZsObKL8cDnVR6vZcWJHZwr+oQuHOHHpROe8+oe91R0I6fOtrULW+v79sHEjJCYKEF9aCsXFv1emV1ODvncv34FIBB988Aewz+lgVeoFPh3cettl+/RqJ+YJA66K+nKkz9sP+nDIdItkgP4I6dKlS5ibmzNw4ED69u3LZ599Rmpq6p/6HzcB3dTUFBcXF5ycnHBzc8PT0xNnZ2e8vLxwcXHB1dUVV1dX7OzsOudyWlhYdM4TNTc3RyKRoK2tjYGBAbq6uhgZGWFoaIiOjk5ntNnS0hJTU1NUVVWZPXs2ysrKKCkpoaCggJKSEhMmTGD27NkoKioyc+ZM9PT0mDp1KmKxGFVVVaZNm4aNjQ2KiopoampiZGSEiooKzs7OGBkZdULyzWi2p6cnCxcuxMLCgpSUFNzc3HBzc6OoqAhNTU1yc3Px9/fH3NyclpYWNDQ0yMzMZOnSpWhra3PhwgX09fWJiIhg9erVqKmpcfjw4c6q09u3b0ddXZ3t27fj5e6Oo4mEXbt2oaenx9q1a4mLjeG31/vScYc5qH+0ojFDiI+Pp6CgQEijXbIEH28v0tLS0NLSQltbG319fcRiMVZWVkRGRtLU1PSXWyXJ9GhIBuj/AZ061eV+b9q8mQMHDtDe/vdeGrvjf/HiRY4fP86FCxf+1rq6rLujnYtXL3LmtzMcu3iMA+cPsPvMbhpONrDtaDVVhyuoOFjClgMbuHpNugfRgTO7KNqZwrr6eNbUL6OgLpa82hiya6PJqInk/9i777io6weO4x9QUXGPXJUzzcyyLMuGO7VcoWYpOBFUhiJOwAE4cISaoqE4ExAVcTMUOPYWwQk5MXMP3Bvevz/88c3zDjn07vgi7+fj8Xk86rjvceh9/PL6zq2pnth84E/sPrQByM1B7rMnyHn2CE+f3Ed45g74pCyDT4qHNLyTl2FjyjJ4RrnDM3ox/kpejqgTO2PxjkYAACAASURBVHHjZiauXT+Kq9cO48q1dGxMWoK/khbBJ3kJNiX/gS0py7D1wDJsO7AM21M9sCt1OXaneiD9hD9On92Lk2d24eTpHTj89yYo0lYgKv1PRKUvR2z6csSnr0BCugeSDi3HgUMeOHBoGQ4eWoa0Q8twMG0JUtMWIyXNHSkH3ZGUuhCJqQsRn7oQsQcWIPrAQkSlLkLUwSWIOLgUirTlCE9fidBDa7Dv8HoEH/VB4LGt2JOhekgyR8kYO47vwM6MnUqP+RzywaK4RXCLdoNrhCucwpwwef9k2AXZYcyeMRixcwRMt5li6PahKq9nus0UHy3/CI2XNsa7i95FzYU1UcmtEoxmGSlFdteNXVWWNZ5rrFGgT9o3SWk59zh3jY8W8DmkfC2EwQGDC1ym9KzSaLGihcr7NfEzQRuvNvh+7ffo8lcX9PDpgb6b+8J0mylG7hqJcUHj4BDmAO90b6RfSpdudXfqxilEno1E6oVUnLh+ApfuXsK9x/fwNEc+v2c9fQrcvfv8HvIZGc+vFbd2LTBrFmBl9fyQ944dn1+4vUcP1eu/vfvuq38dNRKP0FicKuofk17CQC9GunbtiqpVq2LlypVQKBSwsLCAEAK+vr4av8aLgd67d2/ptkm9e/eGlZWV9JipqSn69OkDGxsb9OnTRzpMvF+/fpg+fToGDhwIS0tL6XBrOzs7DB48WIrJX375BWPHjoWdnR0mTJiAyZMnw9zcHLNnz4aDgwNsbW0xffp0TJo0CTNmzICDgwNmzJiB6dOnw93dHbNmzcK0adOwZs0ajBs3DqtWrYK7uzvGjRuH5ORkWFlZwcvLC+vXr8eIESNw6dIlWFtbY+nSpYiIiICZmRnOnDkDFxcXODo64syZMxg+fDj2798PT09P2Nvb4/Tp07CyssKWLVuwfft22NjYICMjAw4ODljk5oaARQuw4Ofu2DO4LwI7tkbi181wutW7uNmoIp5UL4VcQ4GLH1ZHXFgohvzSH/Mn2mGpnQ0e1Sqt/jzy8gI3G1VE2pcNscOkC1ytRmPOnDkYP3481q1bh9GjR+O3336DpaUlzMzMMGnSJCxduhQHDhzAA63fcJPkioH+FlAT6Lh6tajf1VupOM2XnNwcPMt5hifPnuDxs8d4+PQhHjx5gPtP7uPe43u48+gObj+6jVsPb+Hmg5u48eAGrt+/jqv3ruLKvSu4fPcyLt29hIt3LuLCnQs4f/s8/rn1D87dOoes7CycuXkGp2+exskbJ3Hi+gn8ff1vZFzLwPGrx3H0ylEcuXIEhy4fQvqldBy8eBCpF1OR/G8ykv5NQuL5RCScT0DcP3GIOReD6KxoRGVFIfJsJBRnFAg/E47Q06HYf2o/9p3ah5CTIQg+GYygE0EIPBGIvX/vxZ6/9xR55HIUPHal7cKOgzuw9ehWeKd7w/eQr8pznMKcMCFkAmwCbWCxywJDtg/Br1t/xc9+P+NHnx/RaUMnfLvmW5VD8hfGLkS1+dVgPNcYhq6Gr4ztlw+P/3XrrxqFffPlzVXebzOPZhotO9B/oNJyW45sUfs8o9lGqORWCe8sfAfvL34fTZc1xfq09dIt7w5dPgT/Y/4wCzDDyF0jMTZoLKaGToVLhAsWxi7E8qTlWJe2DluObkHQiSCVfwuu3ruKf2//i+v3r+P+k/uFuk1efnJzgceP/7tv/IULz/fM//UXMGcOMG4cMGgQ0K3b84vSNWoEVKv2/BT1ChV4UWG5YaAXE4GBgRBCYNOmTUqPd+3aFfXq1cOzAu/V8FxeoHt4eMDT0xNTp07FvHnzsHz5cowbNw7Lly+X9qR7enrC2toaa9askfaob9myBVZWVtiwYQPc3d0xceJEBAUFwdbWVjoU09raGkFBQRg7dixWrVoFHx8fjBw5EikpKZgwYQLmz5+PsLAwDB48GIcOHcLMmTPh6OiII0eOwMzMDLGxsVi8eDFsbW1x/fp1DB06FNu2bcOGDRswevRoXL58GdbW1li9ejWCg4NhYWGB06dPw8nJCXPnzkVaWhosLS0RHxsL95nT4GJpjt0LZsP95x+xbXBf7O7VAcHtWyGl/Sc43Lo+zrasgx2+PhgzZgyOHz8OR0dHpHz9gUYn/NyvVxahK5fj15494eowFWEhIfjnoxp4WKcM/v2oBhLbNoN/745YOGo4pk6ZjFGjRmHu3Lno27cvTE1NMWTIEPz888/Shd7c3NywcuVKJCcn486dO7r4KJHMFafgoHww0PWG80V+cnNzkZubK22QeJrzFE+ePZE2TDx6+giPnj6SNlC8uJHi3uN7uPv4Lu4+vos7j+5IGy3yNlxkP8xG9sNsaQNG3rh+/zqu37+Oa/ev4eq9q9J4ecNG3rhw5wL+vf0v/r39r7Sh48WNHWezz+Js9llpo8fpm6dx6sYpaeNH3gaQzGuZyLiWIW0IOX71OI5dPSZtEDl8+TAOXz4sbRhJu5QmbRw5cOEAUi6kqGwkif8nHnH/xCH2XKzSxpK8DSYRZyMQfiYcYafDCtxokl+ga+MicQVuCMjYhYBjAdh0eBPWp63HypSVWJq4FAtjF2J21GyVUyLmRM2B6TZT9N/SH718e6Hrxq5ov649vl79NT7z/Ew6GkDdBQcbLGmgUaAP2zFMabmN6Rs13uO/OH6x0rITQiZotFwlt0oIPBGIfaf2IfxMOKKyovCj948qz8u7eGCNBTVQb1E9NPqjEaz2WuH6/evIfpiNO4/u4MGTBxi5ayQGBwyGxS4L2ATawD7k/xcLjHDG3Oi5cI9zx7LEZci8lqk0L28/uo3Q06GIyopC4vlEpF1Kw+FLx3D0wimkZP5bRP9aUH4Y6MWEhYUFKlasqHJ486ZNmyCEQFxcnEavkxfom7u2RcTAnvDr8hUCerbH3n7dsaHTVwgZ3Bfe3b+Hb69OCNywBmZmZlJEz7Aeg8AxQ7GsWzv4mw/C+oE/Y1nPLtg3eSzce3bBXyMGYaOFGdx7dMaFCxdgZWWFtWvXYs+ePZjWtxeCLc2w9qcO8OnTBXvNTLC+S1sEDeyFrT+2w5Zu32B//25Y9lNHKBQKrFmzBpMnT8aRI0cQ9l1LHGrTBMe+aIiMVu/izKf1kPVxLVxoXgNXmlZDdsOKuPdeOfj27AgnJydkZmZi1KhR2Dx9isaXzFw+egR+/O4b+P8+D0N79UDgdx+/8vk5xs/j/HTLOli8eDGmTJkinc++yN0do0aNgqWlJWbMmIGffvpJupq0qakpzMzMMHbsWMyaNQuenp4ICwtDWloaLl68iPv37+vi40PFCIPjLcBA1xvOF6JXe3ljydXrV3Hl2hWljSR5G0byO4ojb8PHy0dxvLiB49ytc9JGjRc3Zrx4JEfexouXN1rkbbB4cWPFyxsq1G2gyNs4sTNjJ/yO+GF92np4JnticfxizIueB5cIFziGOWJCyATYBtqqnOPvc8gHnTd0xndrv8OXXl/ikz8/QTOPZmj4R0PUda+L6guqo8LcCig9qzRWJK1QWtYm0EajQH+Tux903tBZZdmKbhU1WnZW5CykXkxF+qV0HLlyBFuPbn3l80le+DdSTLRt2xZt2rRRefzo0aMQQmDVqlUavY50kTgNonXHiIGwtLBAQnw85s6ZA68+XTWK3VwDgUOHDsHBwQGrVq1CWGgoDn1eX6Nlr3xQBRu9VmLpfDeMMB2E0AB/PH6njEbLhnzfEgN79UT4xvXo3bkTfh9uqnGgrxwzAnZ2dpgzZw5mzZqFlQN64fxHNXG0dX1EftsCAZ3bYE2fH+D8809wmWCHMWPGYODAgZg5cyb69euH3377Df3790fXrl0xaNAgmJubY+zYsRg1ahRmz56NNWvWIDAwEGlpabhx4wYePXrE+5STWgyOtwADXW84X4gKpyTNmdzcXGnDRN7RG/mdWvLikRkvbpS4cu+KykaJf279g7RLadid+fwCjRvTN2J16mp4JHnAPc4dc6LmYFr4NEzaNwlOYU4qGyYm7puILn91wfdrv0cbrzb41PNTNF/eHI3+aIR6i+pJ1wsYsHUAYs/FIvZcrHQkRdnZZTUK9Gnh05SOplgQu4CBXozwb6SYaNq0Kbp3767y+MWLFyGEgJubm9rlHj16hNu3b0vj/PnzGgf6FtN+GD1iOAL+2oBZTg5Y1aOjxsEb7OeLCTZWWOQ2B9u8NyC9dQONlrvRuBJW/7kC61atgs2YMUhPTsbDOkYabRSIbPcJFixYgAULFmDWrFmYO2USrjWpggvNa+BMyzo4/EUDxLZtjuD2rRDQox1W/tQB7n17wHnQLxhuOgj29vYYPnw4bGxsMG7cOOm/zc3NYWFhAWtra4wePRq2trYYP348nJycMGXKFMyfPx+rVq2Cr68vwsPDoVAokJCQgPT0dFy9elVaGXJwaDLOnTuHc+fOFfn74Hj9kX3ihMq/UdknThT5+3obB+cLB0fhBudM8R6Hzx1G8ulkxJ6IhSJTgeBjwdh1aBf80/zhe8AX65LWYVX8Khw+d1hpufSsdEwMnIixu8di1I5RGLZtGEy3mKLfpn4w8TXRccVQYTHQi4mmTZvixx9/VHk8L9DnzZundjlnZ2cIIVRGQKcvENWrPQI7fIbQzl8i4oc2CPn+E8R2/QqKdp8got0n2LnUHba2toiKisLy5csxZ7gZUtp/gvivmyL52+ZI+aYZUr5qgvRvm+PAl42R/lUTHPqqCQ582RgHDxyAs7MzVqxYgZCQEKzo1QXx7T9B9PcfI/L7lojp9DnC2rWEotPnCO30OUI6tsa+rl9hXZ8uWLJkCRYvXgw3NzfMmTMHy8z6w3NgX/wxqC+WjxyCuWa/YfaIwZhjZQG7wYMwbdIEjBkzGlZWVnBycsKwYcNgbW0t3QPdysoKI0eOhI2NDWxsbGBnZ4dx48bBwcEBM2fOhKurKxYtWoQlS5ZgzZo1WLNmDTZs2ICdO3dix44diIiIQFxcHBISEpCamoqjR4/ixIkTOH36NG7cuFHk/1hzvF2DvzwV/8FA19/gfOHgKNzgnOFQN0heGOjFxOse4p7fHvQ//vgDM2bMgIuLC1xdXeHs7Ixp06bB1dUVLi4ucHZ2xowZM6Th7OwMV1dXjB8/HlOmTMHUqVMxdepUTJkyBTY2NnB1dcXUqVMxadIkODs7w9bWFi4uLnBzc5NuhWZhYSHdjm3AgAFwcHCQbqdmb2+Pnj17YtiwYRgwYABMTExgbm6Onj17YuDAgejfvz969uwJU1NTmJqaYvjw4TAzM8OwYcMwatQoTJ48GTNmzICrqyvWrl2LTZs2Yd++fThw4ADS0tKQkZGBzMxMnDx5EqdPn8a1a9dw7do1nvNNssOV5VuAh7jrDecLUeFwzhDJHwO9mLC0tFR7kTg/Pz+8zkXiBgwYgB9//BFDhgzBgAED0LdvXwwfPhw9evTAwIEDYWpqil69emHo0KHo3bs3fvnlFwwePBi9evXCoEGD0LNnT/Tu3RsDBw5Enz59YGpqin79+klXJ+/duzd+++03WFlZwcrKCmZmZvjtt98wfPhwDBs2DObm5hg5ciTs7OwwadIkjBs3DtOnT8esWbOwaNEieHp6YsWKFdi6dSu2bt2KoKAgxMbGIiIiAgcOHMCxY8dw9epV3L59G0+fPsXjx4/f+P7CRHLAX57eAgx0veF8ISoczhki+WOgFxNBQUEQQmDz5s1Kj//444+vdZs1T09P+Pv7Y/Xq1Vi/fj3Wr1+PFStWwMfHB6tXr8batWvh5+eHNWvWwN/fH1u3bsWWLVsQFhaG4OBgxMbGIiEhAZGRkYiPj8f+/fsRFRWFmJgYhIWFITExETExMYiOjkZCQgKOHTuGrKwsXLp0CXfv3sWtW7fw8OFDZGdn83ZiRC/gL09vAQa63nC+EBUO5wyR/DHQi5GuXbuiWrVq8PLygkKhgKWlJYQQ8PHx0fg1pKu4376tw3f6H64IiAqHc+YtwEDXG84XosLhnCGSPwZ6MXL37l2MGzcOderUgZGRET799FP4+fkV6jUY6ETyxjnzFmCg6w3nC1HhcM4QyR8DvYRhoBPJG+fMW4CBrjecL0SFwzlDJH8M9BKGgU4kb5wzbwEGut5wvhAVDucMkfwx0EsYBjqRvHHOvAUY6HrD+UJUOJwzRPLHQC9hGOhE8sY58xZgoOsN5wtR4XDOEMkfA72EYaATyRvnzFuAga43nC9EhcM5QyR/DPQShoFOJG+cM28BBrrecL4QFQ7nDJH8MdBLGAY6kbxxzrwFGOh6w/lCVDicM0Tyx0AvYRjoRPLGOfMWYKDrDecLUeFwzhDJHwO9hGGgE8kb58xbgIGuN5wvRIXDOUMkfwz0EoaBTiRvnDNvAQa63nC+EBUO5wyR/DHQS5hbt25BCIHz58/j9u3bOh9ZWVnIysrSy/fi4HgbBufMWzBOn8ZtIZTH6dNF/77ewsH5wsFRuME5w5HfyM3NLepMof9joJcw58+fhxCCg4ODg4ODg4ODg4MDQujv6FoqGAO9hMnJycH58+dx69YtvWyNy9sgoK899hwcxX1wznBwaD44Xzg4Cjc4ZzjyG9yDLh8MdNKp27f1e847UXHHOUOkOc4XosLhnCGSPwY66RRXBESFwzlDpDnOF6LC4Zwhkj8GOukUVwREhcM5Q6Q5zheiwuGcIZI/Bjrp1KNHj+Ds7IxHjx4V9VshKhY4Z4g0x/lCVDicM0Tyx0AnIiIiIiIikgEGOhEREREREZEMMNCJiIiIiIiIZICBTkRERERERCQDDHQiIiIiIiIiGWCgExEREREREckAA52IiIiIiIhIBhjoRERERERERDLAQCciIiIiIiKSAQY6ERERERERkQww0ImIiIiIiIhkgIFOREREREREJAMMdCIiIiIiIiIZYKATERERERERyQADnYiIiIiIiEgGGOhEREREREREMsBAJyIiIiIiIpIBBjoRERERERGRDDDQiYiIiIiIiGSAgU5EREREREQkAwx0IiIiIiIiIhlgoBMRERERERHJAAOdiIiIiIiISAYY6EREREREREQywEAnIiIiIiIikgEGOhEREREREZEMMNCJiIiIiIiIZICBTkRERERERCQDDHQiIiIiIiIiGWCgExEREREREckAA52IiIiIiIhIBhjoRERERERERDLAQCciIiIiIiKSAQY6ERERERERkQww0ImIiIiIiIhkgIFOREREREREJAMMdCIiIiIiIiIZYKATERERERERyQADnYiIiIiIiEgGGOhERFSinD17FkIIDBs2rKjfiqxdvnwZw4cPx3vvvQdDQ0MIIZCdnV3Ub6tE4meWiKjkYKATEZESIYTSMDQ0RI0aNdC5c2f4+fkV9dt7Y4wdzfz0008wMDCAqakpZs6cCWdnZzx8+LCo35YsdOjQAULo71cofmaJiEoOBjoRESnJC3NnZ2c4OzvDyckJ/fv3R6lSpSCEwKRJk4r6Lb4Rxk7BHj9+DENDQ3Tt2rWo34os6TvQnzx5goyMDFy8eFFv35OIiIoGA52IiJTkBfrLwsLCYGBgAENDQ2RlZRXBO9MOBnrBzp07xz+jV9B3oBMRUcnBtQsRESnJL9AB4KOPPoIQAv7+/gCUYzcjIwP9+/dHzZo1YWBggIiICGm5GzduwMHBAc2bN0e5cuVQuXJldO7cGfv27VN6fTc3NwghsHTpUrXf/59//oGhoSG+/PJL6bELFy7A1dUV3377LWrXro0yZcqgbt26GDhwII4eParyGq8K9Pv378PNzQ2tWrWCsbExKlSogLZt22LTpk0qz42IiJCONEhLS0OPHj1QpUoVlC9fHu3atUNsbKzan+HZs2fw9PTEt99+i8qVK6NcuXJo0qQJRo4ciRMnTig99+nTp1ixYgW+/vprVKpUCeXLl8dnn30GDw8P5OTkqH39/Pz9998YPHgw6tatK/0ZDR48GH///bfS8xo0aKBymoOmsS6EQIcOHXDt2jVYWlqiTp06MDIyQosWLbBmzZp8lwsJCcFPP/2EGjVqwMjICI0bN8akSZNUznlv27YtjIyMcP/+faXHv/nmGwghYG5urvT4sWPHIITAkCFDCnzvALB9+3Z07NgRtWvXhpGREWrXro3vvvsOy5cvB/DfZ0fd6NChg/Q6DRo0QIMGDXDr1i2MGzcO9evXR+nSpeHs7AxAe5/ZYcOGQQiBs2fPYuXKlWjZsiXKli2LWrVqwcLCgtcMICIqhhjoRESk5FWB3rx5c7WB/t1336FKlSr46quvMH78eFhYWODAgQMAgKysLDRs2BBCCLRv3x729vawtLRE3bp1YWBggFWrVkmv/++//8LQ0BCtW7dW+/3nzp0LIQQ8PDykx/z8/FC+fHn06NED1tbWmDx5MkxMTFC6dGkYGxsjLS1N6TXyi53s7Gx8/vnnEELgiy++gK2tLaytrdGkSRMIITBt2jSl5+cFes+ePVG+fHl07twZEydOxIABA2BoaIiyZcvi+PHjSss8fvwYP/zwA4QQeP/992FlZYUpU6bg119/RfXq1bF+/XrpuU+ePEH37t0hhEDz5s0xevRo2NnZ4dNPP4UQAmZmZmr/jNRJTExEpUqVYGBgABMTEzg6OsLExAQGBgaoVKkSEhMTpecuWbIEdnZ2EEKgVatW0qkOO3bsKPD75C3TrFkztGzZEra2trCwsEDVqlUhhMC6detUlnF1dYUQAjVq1MDQoUMxadIkdOvWDUIItGjRArdu3ZKeO23aNAghEBISIj129+5dlC5dGkIINGjQQOm1PTw8IITAhg0bCnzvf/75J4QQqFOnDiwtLeHo6IiRI0eiTZs20gah7OxsODs7Sxsx8v5snJ2dlf7uGjRogDp16qB169Zo1KgRLC0tYW9vLz1HW5/ZvEAfMGAAKleuDDMzM0yYMEH6HLdv377An5uIiOSFgU5EREryC3SFQgFDQ0MYGBjg7NmzAJT3KDo6Oqp9vQ4dOsDAwABbt25Vejw7OxutWrVCuXLlcOnSJenxrl27QgiBI0eOqLxW8+bNUaZMGVy/fl167MqVK7hz547Kc1NTU2FsbIzu3bsrPV5Q7Li7uys9/vDhQ3Tv3h0GBgY4ePCg9HheoKsLwJUrV0IIgTFjxig97ujoCCEEevfujUePHil97dGjR7h69ar0/87OzhBCwM7ODs+ePZMef/bsGczNzSGE0Ciac3Jy8OGHH0IIgc2bNyt9bdOmTRBCoFmzZkp75F/3NIC8P4+RI0cqvedjx46hVKlSaN68udLzFQqFtIHnxRAHgPXr10s/f57w8HAIITB58mTpsb1790IIIX1uTp06JX3NxMQEQgj8888/Bb73zz//HEZGRrhy5YrK165du6b0/wUd4p4X8F26dMG9e/dUvq7tz2z9+vVx7tw56fGnT5+iXbt2EEIobXwhIiL5Y6ATEZESdReJ++WXX6S9lPb29tJz88Khdu3aKsEJAOnp6dIePnV27twJIYR0CDEA+Pj4qL0YXWJiIoQQ6Nu3r8Y/S69evVC2bFk8efJE5T2/GDvXr19HqVKl0KZNG7Wvk/dzvPie8gL9+++/V3n+kydPULp0aXzxxRfSY8+ePZMOgb9w4cIr33dOTg5q1KiBunXrKoVunuzsbBgYGOCXX3555esAQExMjBTB6nz77bcQQiAqKkp67E0C3djYWG18tm/fHkIIpa/lBfSxY8fUvt5nn32Gd955R/r/hw8foly5ckpHWNjb26NMmTKIi4uDEEI6IiMnJwdVq1ZF06ZNNXrvrVu3hrGxMW7evFngczUN9Jf3hGtC088s8F+gqzt9YN26dSpHmxARkfwx0ImISMnL59YaGBigWrVq6NixI7y9vZWemxcO3bp1U/tanp6e0t7NFw8HzhvW1tYQQsDW1lZa5sGDB6hcuTLq1KmjFKd5z921a5fK99m7dy969eqFOnXqSBsSXhwvXv1aXewEBwdDCIE2bdqofZ9OTk4QQqBXr17SMnmBPn78eLU/+7vvvovGjRtL/3/06FEIIfD111/n8yf/n4yMDAgh0LRpU7Xvx9nZGcbGxmjZsmWBr7Vs2TIIITB9+nS1X585cyaEEFiyZIn02JsE+meffab2a2ZmZip7s/POv87vZ2zRogWEEEpHTHTu3BmGhoa4ceMGAKBVq1Zo164dcnNz8c477+DXX38FAKSkpEAIgdGjR2v03hctWgQhBOrWrQt7e3vs2LFD6YiGF2kS6GXLlkVubm6+z3nTzyzwX6Cnp6ervH5oaCiEEJg1a1YBPzkREckJA52IiJS86hz0l+WFw9ChQ9V+fc6cOfleVOvFMXz4cKXlRo4cCSEEgoKCADw/d7t69ep45513lPYsAsDSpUshhEC1atXw66+/YtKkSdJ9u1u1aiVdROvl9/xi7OTttS9odOzYUVrmxYvEqZN3obA8sbGxEEKgX79+Bf655j23oNGwYcMCX2v27NkqRym8KG8jiouLi/TYmwT6ixdLe9GLFzTLoy5M1Y0X7xqQdx2CgIAAXLt2DQYGBtJ7/+2331CzZk3k5uZi/vz5EEKonFrxKn/99Re+/vprGBoaShunOnfujNTUVKXnaRLo9evXz/fr2vjMAur/TPMU9PkkIiJ5YqATEZGS1wn0/EIu7yJd+V2VPT/R0dEQQuC3334DAAQEBEAI5fORgefn2latWhV16tRRe4/ovIuNFRQ7e/bsUTl8vyCFDfTC7EE/cuRIoQ/nz4++96AXJtBr1KiBatWqFep7JCQkQAgBa2trbNmyBUIIxMTEAAC8vLykQ8u7du0KAwMDlfPHNZGdnY3AwEBYWFjA0NAQNWrUUNqbrkmgv3zBujza+swCDHQiorcRA52IiJRoM9DzDjPW5FzplzVp0gTlypXDrVu30KdPHwghlC7SBgCXLl3Kd6/03bt3UbNmTY1i58qVKyq3bytIYQP92bNnqFq1KsqXL682zF6UF3F169ZVOWKgsPLOWDXA2gAAIABJREFUQVd3rjzw37nh2joHvTCB3rNnTwgh1N5aLD/Pnj1D5cqVpSvbV6hQQfozOn36NIQQmDt3LoyNjdGqVatCvX918i7IFxAQID3WuXNnCCHUXh8AeHWga+szCzDQiYjeRgx0IiJSos1AB4B27drB0NAQa9euVfv1w4cPq71ydt7tt9zc3FCmTBl8+umnKs/JycmBsbEx6tevj7t370qPP3nyRAorTWNnyJAh0jm7T58+Vflep06dwpkzZ6T/L2ygA5DOZTcxMcHjx4+Vvvb48WOlvbQzZsyAEM+vBP/gwQOV17948WK+F1d7UW5urnQV97zb4+Xx9/eHENq9inthAj0sLAxCCHzzzTdqL5x37949JCQkqDzeq1cvCCHwzjvv4KefflL6WsOGDVGrVq1CHxERHBys9u8973sFBgZKjw0YMCDfMAZeHeja/Mwy0ImI3j4MdCIiUqLtQD9//jyaNm0KIZ7fI3vUqFGYMmUKTE1N0bJlSwgh1EbY2bNnYWBggDJlykAIgUWLFql9fQcHB+l8bDs7O1hZWaF58+aoVasWOnXqpHHs3L59G23btoUQzy/ONmLECDg4OGDo0KFo06YNhBDw8/OTnv86gf748WN06dIFQjy/Z7e1tTWmTp0KU1NT1KxZU+U+6HlHDrz77rsYMmQIHBwcYG5uLm30mDdvXr5/7i/Kuw+6oaEh+vbtC0dHR/Tr1w+GhoYq90F/1Z9RQQob6AAwf/58GBgYwNjYGL/88gsmT54MKysr9OjRAxUqVFC55Rjw/F7teZ/Tl2+Ll3f9AiEE9u7dq/F7r1KlCmrXro3+/ftj4sSJmDBhgvT33rp1a6UNKnm30fv888/h5OSE2bNnY+PGjdLXXxXogPY+swx0IqK3DwOdiIiUaDvQAeDOnTuYO3cuWrdujQoVKqBcuXJo2LAhevTogVWrVqm9VzTw37m+pUuXxuXLl9U+5+nTp1i0aBE++ugjlCtXDrVr18bgwYORlZWlNmBe9Z4fP34MDw8PfPPNN6hcuTKMjIzw/vvvo3PnzliyZInS1cRfJ9Dz3q+HhwfatGmDChUqwNjYGB988AEsLS1x8uRJpefm5uZi48aN6Ny5M6pVq4YyZcqgXr16+O677zB37lyN7u+dJzMzE4MHD5auGl6nTh2YmZkhMzNT5bn6DHTg+WH4AwYMQN26dVGmTBnUrFkTrVq1gr29PVJSUlSef/jwYelz+vJpD3n3di9durTa273lx9PTEyYmJmjUqBHKly+PatWq4bPPPsOCBQtUXufZs2dwdHREo0aNpAvdvfhzFxTo2vrMMtCJiN4+DHQiIiIiIiIiGWCgExEREREREckAA10H7ty5g8mTJ6Nr167S1VjzO8QsNTUVXbp0QYUKFVClShX07dsXp0+fVvvcZcuW4cMPP4SRkREaNmwIFxeXN766LxEREREREckDA10Hzp49iypVqqB9+/awsLDIN9AzMjJQqVIltGvXDoGBgQgICMDHH3+MevXqKV3JFwDmzJkDAwMDODo6IiIiAgsXLoSRkREsLS319FMRERERERGRLjHQdSA3Nxe5ubkAgGvXruUb6AMGDEDNmjVx+/Zt6bGsrCyUKVMGU6ZMkR67fv06ypUrh1GjRiktP3fuXBgYGGh0mx0iIiIiIiKSNwa6juUX6E+fPkX58uUxevRolWW6deuGpk2bSv/v4+Oj9jZEFy9ehBACc+fO1cl7JyIiIiIiIv1hoOtYfoGemZkJIQRWrFihssykSZNgYGCAhw8fAvjvfqnqbkNUs2ZNDBo0SCfvnYiIiIiIiPSHga5j+QV6XFwchBDw8/NTWcbNzQ1CCFy8eBEAYGlpibJly6p9/WbNmqFbt275fv9Hjx7h9u3b0rh16xauXr0qHYJPRERERERE8sBA17GCAn3z5s0qy+QF+qVLlwA8D/Ry5cqpff1mzZqhe/fu+X5/Z2dnCCFURlZWFm7evKnzce7cOZw7d04v34uD420YnDPFf5w4cULl39wTJ04U2fu5ce0GLp+7jPOZ55F16CxOp5zCibi/8XfUcRwPPYLj+w7jaFA6DmxPgIuLi9JI3BSNtC2JOLg54fnYFP98+MYj1Sfuv+Edq3Yc+CtGGikbopG8PhyJa4ORsGYP4lfvRKzXNsSu2oyYVX6IWemDaM+NiPbcgOg/1yJqxRpErViNyBWrELF8JSKWeyJi+Z+I8FiBCI/liFi2DKErPRG60hMRS5ciYulSKBYvxm5zF2xvbY39tU2Q+O0AKJYu/v9YhLUOG3BMfAQIUeBIbWeC8KXu0nDqu02j5SAE0hY6ICZwDWJD1iA2dA1cP1ym0XJ3y1RGUuI6JCf/NzaWGqrRssc/7YgLwb1xfXdb3N3+AW5710FOFQONls2a9DPgK/4b8zT7OSEELm76SXlZU82WO1+9GW7v/Fh52ZaaLXu450Dl5bw1f7+3VtkpLztZs+VyhAEeRg1VXra7ZsuebdENzwLeV162rmbLXp04QXm5PzT/WR8E2CsvO1Kz5W5UfB9P9ndVXraNZsue+WE4cjeVUl62rIbv12OK8nIzNf9ZH4aNVl62r2bL/VO/LZ7ufulz2FizZS+Yj1VezqsQfze+k5SXtdVsuXtGVfFY0U952fYa/t181R85W6sqL1v1/18nWeHfiI5p8xD3+/fvqzy3oEPcX96Dfv78eQghlC5Mp0t5vyASkWY4Z4q/q1ev4uVAf/nOHNqW8zQH2Wdu4nxsFk7uPIqj65KQ9kckUmYHI2n6bo1G9PQAlUCPnh5Q4HKJTjsR5+CDmCkrET1xMSInzEXE+BlQ2E2BYpwdFLZWUNhaQmEzQusj1NEeIXbjEPDZUERX7IiboqrSL6TnKjRSev4eSysEi+75/gL7RJTGXVEBN0R1pHzaCfsnjEGgkx12z50Cl2GrcdioFdLLfoa0cq1xsPwXSDX+EgcqtEFKxa+RXLEtkit9g9TqbXHIbwySEqdLY9HP7oip1qnAcfDD9krLJSVOx/KmUxFbvRNiq3dAWp0vcaJ+c1z44F2crP/h/x9/PhL79cdTv3LKv3y3E0Br1fF3/Q+hqNoe+6t8j5jqnZC5oLdqBH7xfDxrbYAnn5XCo1al8aBVGQRV+Rw7Kn6FPZW/QXL9zji6dxhubW+IW9sb4chfZXFiRA3c+LgCrreoiOstKuJai0q4+lElnGlSCzsqfo0dldoipFpHxLQbiFOhP+PKns9xYdcniFxTAac61cWVj6qqjLT3mmJPle+xp8r3iKndC5fmrgIiegARPXAt8CvEejbElY+qS+PyCyO61hcIrNoewdU6IPk9EyB8AxD1MxD1M05sb4Ek+6a41LyGyrj44TsIrNoegVXbI6xGV/zdsi9w4k8gygSIMkGy33s4YtJE7bKZjRoiqGp7BFVtj6haPXBq+Cwg0RKIMsHd0K6IXd8AWV/VU7tscr1PpGXj6/TB3Q0bpO/57542iJ3fTO1yl5rXQFiNbxBUtT32Ve+MQ41NgOT10rLHtjXDAQv1P2tW07rS91TU7I7MDpbAkdlAlAmeRfZBgm9dZP7QSO2yh+s3k5aNqd0L/ziuAKL7AVEmuBHSHtGrm+BCy3fULhtb+3MEVW2P4KodkFjXBAjZKL3fMztbIcEx/581uFo7BFVtj9AaPyCjuQlwzEta9uCWhkj/7QO1y51sXF96v5Hv/IQT/R2AA+OBKBM8CP8RcX+9j9Pfvqd22dR3W0jLxtXujRtL10jf81JgW0Qvyf/9RrzzFYKqtkdItU442MAEiPtLWjYj4COk2Khf9nyz2tL3DK/ZDX+3MQOOu0vLJm6qh2M9G6td9liDJtKy0bV64qytOxA3GIgywa39nRCztjHOf14bl5rX0On6iQqPga5jBV0kbsyYMSrLdO/eXekicb6+vhBCIDExUel5ly5dQmEvEnf79m0GOpGMcc4Uf/oK9Oyz2TgdlIn05TFIdt6rcYi/SaAnOAUgZsoqRE6Yjwg7JyjG2kJhO1In8V3Q2NPHHKE1euCeMM43uB8ZlEWE1TCl5TxaOWJT61HY/N1obO02GjtMRmPvYEvsH2WOMDtL7Jk5AdvcZyDgrzkI2TsbURHOSEyYrhLOOh8JTjgSNRLngrsge3sTPNtURimis7c3UVnm3ra60tef+pXDg601cTugAS7vaI4DWz/Ato31MH9lJXzqJiBcno+gqPFITnBEWowNUuInYkZAH1RwFSjz/6+XmVUG9RbVQ4sVLfDNmm/Q3bs7ftnyC8YGjcXuzN1KY2XKSngme2J92nr4HfbDtmPbsOP4DpXn7c7cjT1/70FUVhQOXz6Mc7fOIfthNp7lPNP6PCFlXMcQyR8DXcdedZu1X3/9FbVq1cKdO3ekx86dOwcjIyNMnTpVeuzGjRsoV66cSszPmzev0LdZY6ATyRvnTPGny0B/fPcxzoadQurv4W8c5JoGeuzUdYicMBeKceOhsDUvkhh/ecx7z1ltkF8X1aEo3wV+DYdjU3tr7B06SqPXC3Ich62LXOC3dgGCd89GXMwM/Qf5/8fxiMG4vvMj1b3hL43HmyuoLHskaiQORY9BcrwDQqLtMW1bT3y74gOUcS0lBfnLY3HIKIQeWoPA4/7Ynbkba1PXwiHUAYviF2Fj+kbsytilNrBfZ4SdDsORK0dw+e5lxngR4TqGSP4Y6DoSFBQEf39/rFu3DkIIDBgwAP7+/vD395cOVc/IyEDFihXRvn17BAUFYfv27WjZsiXq1aun8svcnDlzYGBgACcnJ0RGRuL3339H2bJlYWlpWaj3xUAnkjfOmeJPF4H+9NEznA7KRJJzoNbD/FWBHjLWqshjXN2Y+u1K3BaVACFwS1TGnio/w+drG+wbVbgNCIFOdvBbNgeb1i3EvsBZSCiKPeUvjayQbvkEeUVc3/UxzoX8gOMKM6TGTcj3NcJiJqGUq2G+Ud54UR303tgJk/ZNgM8hH60FuLoRfDIYR64cwc0H/HdNDriOIZI/BrqONGjQQOUXtLxx9uxZ6XkHDhxAly5dYGxsjMqVK8PExASnTp1S+5pLly5Fs2bNYGRkhPr168PZ2RlPnjwp1PtioBPJG+dM8aftQL986DIOzNuvszB/ZaAX0eHrKsN6uNL/h1qZY1nV8fBrPBK7xkwq9OuFjh8F/99nwtvLHTu3uiEuVv97zA9FW+Hi3q9xKNpK6fGDsXbI9RV46lceN3Y2x9l9Pz5/TsI0ta+TmDANIdH2Ko+3Wvq+FOTvzKuEX9a3gVuQJTanrdVpkL+4t/zMzTN4mvNUi7OL3hTXMUTyx0AvYRjoRPLGOVP8aSvQc3OBU4GZOg/zpOm7EeewASF2k2QZ6N6fjEGWcSNEW5iqhrajPUId7Qv1esFTbeHz5wL4rP4doSGu+g3zhGk4HjEE2TuaSHvGL+39SuV5RyPNkZTg9MrXio5zgKN/DzRdVBvvLayGxJcC3mX7zxj617dYFzICEamLsPf/h7DreoScDMGZm2eQk5ujg9lFb4rrGCL5Y6CXMAx0InnjnCn+tBHoz57k4PDaZJ2HeYLTNkTau0Bha44Q25GyCvRw6xHYWG+kdH75qVrNVfekFzLQA6eNh/fKhfBdtxARYS56DfNMxSDc3fau2kPXC4rxlw9ft/LthOpuFZQOW18ROFjluXEpcxF81FcvYb47czfSL6XjybPCHdlH+sV1DJH8MdBLGAY6kbxxzhR/bxrouTm5OLohRedxHjt1HRS21lK8yinQw6zNsaa2ldIF4GKqdUTk6CGvHeh7ZkyAt5c7fNf+juhIZ73F+bHI4bgdUF8lzB9tqYJzIV1eeS75i2NvpB3MNrSF8WwjlXPKP15STyXQIw4uxe4M9VdQ1/bYd2ofLt+9rMNZRdrCdQyR/DHQSxgGOpG8cc4Uf28a6BlbD+s8zqMmuqvcHk0ugR5qZY4VtcYrxXlQw34qe88LE+jBU23hvXIhfFb/jvD9+tlznho3Add2tVQJ8/v+tXAq9GckJzhq9DrBUfYYtP5rGM1SvhK7gYtAZ8+PsH6fudLzE5NmYt+RDXrbax6VFYWHTx/qcEaRNnEdQyR/DPQShoFOJG+cM8XfmwT6mbDTOo/zSPvZaiNWLoG+sMEMpTgPbdIn/5jXINBDx4+C75/z4e3ljuDds/W25/xA3CQ82VxBCvMHW6vjZFi/fC/2lt/o7PmRUpgbzSoFkzWfwz/cWuW5CUnOej2kPfnfZN4urZjhOoZI/hjoJQwDnUjeOGeKv9cN9NsX7iLZea/OwjzRaSci7WfmG7JyCPTZrRfgjqgoxXlUk+6vju+CAt3WHJv/mA1vL3fs2OKmtzjPG6f398JTv/I4u++nQp1n/uLw3m8B4SJQdlZpmG1oi6Co8WqfF5/sisBjW/QW56kXU5Gbm6uHGUXaxHUMkfwx0EsYBjqRvHHOFH+vE+i5OblI84jR7Z7z8fnHuRwCfeEP85Epmklxnlq7rdrD2gsT6LtdJknnncfF6PBWagnTcGZ/DxyIm6Ty+IG4iRq9RkLCNLhu/xnLA81UvjZtWy8ERtrlv2ySM4KObdZbnCf9m8Q4L6a4jiGSPwZ6CcNAJ5I3zpni73UCXdeHtkdOnF9gIBdloO+2sIaXoYUU51nlGyFy1JACl3tVoIeOHwUfzwU6P7Q9Nc5eum3a9V0tCn0Ie1LidKwJHo6Pl9SDcBFo+HsNxMVrdn56UuJ0JCbNQPBRH73Fedw/cbyFWjHGdQyR/DHQSxgGOpG8cc4Uf4UN9Ie3HiHJOVBncR492UOjSC7qPejLerhifanhuGVYGXGDf9FomVcFesCC6fD2cseWvxYgIUE3cX400hyPNldSugjc0UhzjZcPihqPbqs+Vrkq+8JdAzR+jX2H1+stzkNPh+Lxs8d6nE2kbVzHEMkfA72EYaATyRvnTPFX2EA/sfOYzuI8zmGjytXa5RroCpsR8B8+HvuHvPqwdk0CPWSKDby93OHt5Q6Fju53fnp/b+RsKvXC/cwrIFMxSLO93gnTMH1bL1SaU04pzBu7v4OlezV7jaTE/99KTU9xvvfvvbj5gP82FXdcxxDJHwO9hGGgE8kb50zxV5hAf3T3CZJcgnQS5wlOO6AYN07j2JVDoBd25BfoWxe5wNvLHf6+87Uf5wnTcCHwW6W95ncC3sPB2PzPEX9xbFfY4CuPRkphXmVueUzZ+hPi4jW/kFxcyly93ed8d+ZunLpxSs8ziXSB6xgi+WOglzAMdCJ545wp/goT6Cf3ZuruvPMJcwsVu/oO9K3D7bH4C2dEDx+o1UDfP3GMtPc8NMRVq3GenOCocm/zy3u+0Pie5nN39EO52WWU4vzHVS2xL3pCod5HYtIMvV4ULuF8gp5nEekK1zFE8sdAL2EY6ETyxjlT/Gka6I/vP0WSa7BO4jx2yloobM1lG+jh1iPw3fsHcEo0xl2DijjUph0UVsO0Eujb5znB28sdfusXavXc85T4qbi1vbEU5rm+Amf3dS/Ua/iFjkZpV0MIF4Ha8ytjyZ6Br/VewtM99Xpo+73H94pgJpEucB1DJH8M9BKGgU4kb5wzxZ+mgX4m9JRO4jzRaWehDm0vikC377ABU8R86artV+u+W+At1TQJ9LBxFvBZuVAnV25Pjp+K2wENAF+BnE2l8Xe45hdye3GM8umAX9e1gSJ28mstH588G7szduot0DOvZep/EpHOcB1DJH8M9BKGgU4kb5wzxZ+mgZ66KEI3V22fuOS1ollfge43dCIalT6DO6IiIARyhAGSfvv5tV7r5UDPu++5z+rfERer/fuep8RPQfaOD3AsYliBz827r3l8gvJ55YmvcRu2F8e+I3/pLc7Dz4TzlmpvGa5jiOSPgV7CMNCJ5I1zpvjTJNBvZt3W0YXhAqCwHSPbQA+3HoGv6h/CWjFC2nv+78cfvvbrKQW6rTk2LZ8Hby937PJ303qcF2ZExE5BR8/mEC4CwzZ+q7XXjT6wUG9xvjtzNy7dvVREs4h0hesYIvljoJcwDHQieeOcKf40CXRd3VotcoLba8euPgLd8YdVaCGOIkcYAELgiZERYswHaSXQg6faavXWaskJjri4ty1SY+0LtVxQ1Hg0X1xXugicoYsBtoZZaSXQA/V4YbjorOgimkGkS1zHEMkfA72EYaATyRvnTPFXUKDn5uQixW2/9veeO26BwtZCtoG+3XwcKpe7g22in7T3/NQ3X7zRa74Y6NvdHOHt5Q7fdQuR+KYXh0uYJl2t/cHWGkiLHavRcv7h1qi3oKoU5xXnlH3tC8G9PKJSF+l17/nlu5eLcBaRrnAdQyR/DPQShoFOJG+cM8VfQYF+NeO6jvaeF+62avoO9O7NY/CFSJHi/JFxeUSOGqK1QPddob3D288HtZeu1p6zqRSORwwpcBmfUEtUczOW4rz2/MrwCxuttcPbg45u0lucR2VFFeEMIl3iOoZI/hjoJQwDnUjeOGeKv4IC/bhfuo7OPR8l20Bf0ncehACCRXcp0P9u3/aNXzcv0EMmW0uHt4fve7N7n58MNVG6lZomV2v33m+BKnPLS3H+gXst7Ikcp7U457nnpC1cxxDJHwO9hGGgE8kb50zx96pAf/YkRyf3Po+a6P7GsavLQN823A4DGu/GNVEDEAIPKlVExJihWgv0HXMcnh/evvb3N7r3+dHIEcjZVEoK9HMhXQpcZuN+C1R+Ic4/XvIuwmImaS3OkxKnI+Soj97iPPJsZBHPINIlrmOI5I+BXsIw0InkjXOm+HtVoF/L1P7h7YlOO6EYay3rQM8bq/pMw6kvP8fRbh208np5gb7JYy68vdyxc8vrH96eGjcBj7ZUluL8yu7PkFTALdESE6ah2aLaUpx/8sd7CH/N+5vnN2IPzNfr3vOs7KwinkGkS1zHEMkfA72EYaATyRvnTPH3qkA/uTdT64EePXm5VmJXX/dB1+YIdbRHsPMU6fD20JDXPLw9YRqydzSR4vxOwHtITnDUaNkdClu8v7A6Pv3jPSi0HOdJidOx//A6vcV50IkgPM15WsQziHSJ6xgi+WOglzAMdCJ545wp/l4V6AeXxWg90CPGTZRtoAdavt492QsT6DsXzoK3lzt8Vv+OhLgZrxXB/wR3lOL8iZ8xDsYW7vzx4Ch7rR/WnpQ4HQlJztidsUNvgX748uEinj2ka1zHEMkfA72EYaATyRvnTPGXX6A/vv8UiTP2aDXO4x02aS12tR3o83stQpVydzD3mwWIGvH69zovKNC3rvgd3l7u8Ped/9p7z2/uaCpdFC5DYfrK58fFOyGhgEPftTUi0pbp9fD224/087sBFR2uY4jkj4FewjDQieSNc6b4yy/QL6Vf1vre88gJbrIM9JDRlqhX+TKEALaJfnhcygj/tPoYURZm2g10pwnwXbMU3l7uCNw55/VjOGEaTu/viX+COxf43AHrvsQPK1sgKm6qzgM96Jif3uI85lxMUU8d0gOuY4jkj4FewjDQieSNc6b4yy/QM7Yd1XqgK2zf/OJwugj0EV9thxBAC3FU+b7no9/svucvj6BZjvBd5wFvL3coQl10HsxTtv4kXRDu0z/e0+me9NgUN73uPf/n1j9FPXVID7iOIZI/BnoJw0AnkjfOmeIvv0A/4B6h1TiPnbJaq7GrrUDfOtwe5Uo/ghCArxgkBfqJ777S6vtV2IzAzoWu8F3n8Ubnn2s61gQPR2lXQynQZ2zrrdPvF3potd7iPPBEIJ7lPCvqqUN6wHUMkfwx0EsYBjqRvHHOFH/qAj3rxHntH94+foYsA/2nj6IhBPCBOIFnwhAQAo/LlUXkqMFaD3R/jwXwXeeBrd6FO/88OcEB2Ts+QIZikEbPD4m2R635laQ4N93wtU7jPDFpBvZkbNdboKdcSCnqaUN6wnUMkfwx0EsYBjqRvHHOFH/qAj09+JBW4zzBKQAKW0vZBbrXrzNhIHIgBLDBcKi09/xU2y+0HucKW3NsWr0Uvus8sGf73EIF8ItXbT8f1P6Vz41PcMJXHo2kOP98aX3ExTvpNNCjDyzU6+HtF+5cKOppQ3rCdQyR/DHQSxgGOpG8cc4Uf+oCPXaVQquBrq17n2sz0MOtR+Dzd49BCKC+yMIzg1KAEHhS1ghRltq9OJzCZgT2TbSC7zoP+K7zQNg+ze9/nhZjg5xNpf9/1XYDHI6yfOXzR/t2kOK8ulsFBEba6TTOnx/evoaHt5NOcB1DJH8M9BKGgU4kb5wzxZ+6QA+fvVOrgR5hN012gb6gt3veDnOsLzNc2nt+ps1n2t97bjMCu50nSoEeF6v5+ed5t1SDr8ClvV+98rlrQoajlKsBhIuAoYsBPIOG6DzOExNnYO/xAB7eTjrBdQyR/DHQSxgGOpG8cc4Uf+oCPXiCr9biPNFpJxS2o2QX6K3qZUAIoK64gKcGpQEh8LRMaUSPNNVJoG9bOAO+6zywxWepxvGbqRgkxfnjzRWREj853+eGx07GuwuqSnvPR3q303mcJyVOR8yBBTy8nXSG6xgi+WOglzAMdCJ545wp/tQFeoi9t2yv3q6tQN8yzB4/twzHKuMx0t7zrNaf6OS9KmxGwHfFPPiu88CubYs1i9+EabjnX1sK9FOhP7/y+cFR9tK555/88Z7OzzvPG2GHvHh4O+kM1zFE8sdAL2EY6ETyxjlT/Ok60CPtXWUZ6Hkj3GIoTn7XBvcrV0LMiIE6ea+h9qPh7eUO33UeCN77u0bheyr0ZynO722riyQN7mGekDAN4zd3xXaFjV7iPClxOvYe99dboCf/m1zU04X0jOsYIvljoJcwDHQieeOcKf50HegKW2tZB7o0rIfrbO95oJOdFOjhoQsKjN7keAc82lJFCvQMhZnegrswIzZlnl4Pbz9361xRTxfSM65jiOSPgV7CMNCJ5I1zpvjTZaDHOfyls+h9nUAPtx6BkDHavd2bJmPn7Knw9nLHpvXLEB1mVDJQAAAgAElEQVTtVmD4ngv5QYrz7O2NX/ncmHiHIgv08PSVeg30B08eFPV0IT3jOoZI/hjoJQwDnUjeOGeKP10GetSEebIK9Pm9FqG6cTYsv9mKwOH6C3X/32fC28sdW32WIiam4EA/GjkC2Ts+QK6veOVt1dx3/4p6C6riz8DBRRLowUc36S3OFWcURT1VqAhwHUMkfwz0EoaBTiRvnDPFny4DXTHOXlaB/tm7xyEEUE3cwL0yFfHvxx8ibugAnQf6Jg83eHu5Y6f/Yo0CPW+kxdjm+7WI2CmoPb+ydNX2tSEj9BrnCUnO2J2xS2+BfvTK0aKeKlQEuI4hkj8GegnDQCeSN86Z4k9XgZ7gFACFrblsAv3PX1yl+54vKWsvXbn9348/1Gmch48dCW8vd3h7uSNwl3uhAv1Vw3TD11Kcf+3RGIkaXEROmyMqdZFeD2+/cu9KUU8VKgJcxxDJHwO9hGGgE8kb50zxp6tAj5niqdPwLWygt2+SLO09f1CqPCAEcgwNETdEt3vQQ6bYSIEeGrJAK4G+cb8FDF0MIFwEys4qjQCFtV7jPClxOkIPrdZbnO/9ey9vr1ZCcR1DJH8M9BKGgU4kb5wzxZ+uAj3SfpZsAt3bbCoMRA6EABaWnqy3vecKmxHYM3OiFOiREfPyDfTkBEfc3NEMJ8L6v/KWagkJ0/DxknrS3nMr3456j/OkxOkIPLZVb4GecD6hqKcJFRGuY4jkj4FewjDQieSNc6b401WgK8aNk02g/9IqRNp7fl+Pe88VNiOwfZ7T/2+xthAxMW75BvqL9z2/sqd1vmE8bVtPKc4buddEbLyj3uM8PnmWXg9vP3XjVFFPEyoiXMcQyR8DvYRhoBPJG+dM8aeLQE9w9EeErW7DV9NADxo1GhXL3oMQwBwDp//2nrdopvM4V9iMwJYls+Dt5Y5tvvPzD/SEabi7ra4U6McjhqgN4/CYSajmVkEK9BVFdPX2yINL9Rrotx/p53cAkh+uY4jkj4FewjDQieSNc6b400Wgx0xeofPw1TTQJ3Za99+V2w0r/H/vuYFe9p4rbEbAx3MBvL3csWf73HwD/VjkMCnO7/nXyfcQd9MNbaU47+z5UZHEeVLidOw/vF5vcR58MriopwgVIa5jiOSPgV7CMNCJ5I1zpvjTRaBH2rvIItDDrUfgg5pZEAJwFTP0vvc81H60dP75/qBZ+Qb69Z0fSYF+KrSP+iiOnohys8tIF4bbocj/Fmy6HnuOB+gt0JP+TSrqKUJFiOsYIvljoJcwDHQieeOcKf50EegRY21lEeghoy1h8kko3i39L+4YVNT73vMgp3H/XSBO4aw20NNibJHrawD4CjzeXAHJCQ75hvHmsDFou7wxzL2/L7I4j0uZo9fD20/eOFnUU4SKENcxRPLHQC9hGOhE8sY5U/xpO9ATHLfoJX4Lc5G4IHNLxLf5EQ8rVtDb3nOFzQjsmjUF3l7u8Fn9OxLip6sN9IuB30h7z88HtS8wkBMTpiE+wanIAl3f55/feHCjqKcIFSGuY4jkj4FewjDQieSNc6b403agR09eLrtAzxsRY4Yi2sJUb4G+beFMeHu5Y/NfC5CUqBroyfEOeOpXHvAVyPEthdTY8UUW3pqO0MNr9Rbne//ei5zcnKKeIlSEuI4hkj8GegnDQCeSN86Z4k/bga7r+5+/SaDre/gtmwNvL3ds3zxPbaCfCjWR9p5f29VSbRBvV9gUya3U8huBxzbrLdBjzsUU9fSgIsZ1DJH8MdBLGAY6kbxxzhR/2g50xTh7WQT6tK4rscvcukgD3XvlQnh7uWPv9jlqA/3S3q9feWu1uHgnNPy9Bt5bWA1zdvRFYj5Xd9fXSEhy1uvh7ceuHivq6UFFjOsYIvljoJcwDHQieeOcKf60GeiJTjugsLUo8kD3+nUmhABcDGYipkZHJJj103uch44fJV0gbl/gLLWBnpQ4HYeirfBPcCe1t1ZzDugj3Vbt0z/eK/JAj079Xa+BfunupaKeHlTEuI4hkj8GegnDQCeSN86Z4k+bgR43db3eAvhVgd7v0/2oIrJxS1QGhMCzUqUQPVJ/554rbEYgeKqtFOiKMJd8Az2/ERfvhPcXVpcC3TNIdQ+7vkd4uqdeA/3xs8dFPT2oiHEdQyR/DPQShoFOJG+cM8WfNgM9euKiIg/0kDGWqFz2LqaLWdJ9zy981FTve9D3zJggBXpM1MxCB/qLe8+/WNagyOM8KXE6Qo546y3OFWcURT01SAa4jiGSPwZ6CcNAJ5I3zpniT5uBHjl+epEH+szuK1BR3MF1Uf35fc8NDBA/uL/eA33HHAfpFmuJCdOVAv1A3CS1h7TLee95YuIM7MnYobdAT7+UXtRTg2SA6xgi+WOglzAMdCJ545wp/i6cv6y1QFeMtSnyQP+24UFMFgukveeXPmyi9zhX2KjeYu3FQL+5oxkebq2G80HtkRI/tVjsPY9LcdPr4e1Z2VlFPTVIBriOIZI/BnoJw0AnkjfOmeLvROpprQR6gqO/XgNYXaD7W45FJYPbuCxqAUIgVwgkmvYtkkDfvPT5LdYC/OYpBXpC5P/Yu+/wqKp9jeMroYOACqKCXRErFo4e9dhQRI/YEFEUMIBwKAkJCRBITyihDUFAEQYBcQjF0NJDQjqphN47oYN0kCIk7/3Dy5KYAGmz99rZ7+d51vNchwk79z775/J7pywfFIQ6AqECl+fXR06Wd5EQzsrywYPjGin16nlOti+SV0/UNNBPXTyl92iQArjHEKmPgW4yDHQitXFmjG99woZKCfR0z6m6B7p7m5lwExPkq+dHHntYlzhPcu6OOT+Ngc1qQcSikUUCfWfMx/JotUPRrxYL4bHhHWWcvzDxAd3D/NqKXz9DsziP2haFgsICvUeDFMA9hkh9DHSTYaATqY0zY3w587IrJdBTPIJ1D/RXHsrDAdFUBnpOp091ifPlbr3kF8TFRQ0vEuhnwu6Xgb4+9X/FQrjl9/fJQA+J7KR7mF9bMZvmaxboKXtS9B4LUgT3GCL1MdBNhoFOpDbOjPGlTUmslEBPdvPUPdD71v1Bxvmxhx/Q7dXzOE9nGeiJ8YEyclcmecg4Px92d4khPH95H3w8/Tm0CLlH93PPr63sHD9EbAnXLND5BXF0DfcYIvUx0E2GgU6kNs6M8SWOiqyUQE9y6aN7oP/YciB2Oz4MCIHcjh/rFuhRfu4y0NNS/GXo5ke2loGeH9fmplGckelt1+guy1qh8RfE7Tm1R++xIEVwjyFSHwPdZBjoRGrjzBhfvPdvFQ70LK8F2r9KfYNvcU/q64S8jz/QLc6TnLtj6fAh8oi1rP8/Yi0nywcXFtwJhAoUhjpg9Qo33cO7tCtF4y+IO3mB/06hv3CPIVIfA91kGOhEauPMGNvVPwsQ6zGnwoGu9RfE3TTQdQzza2vhGD/YrBbM+2WsjNyNKd3lq+enFz+se3SXZSWsm65ZnEdui8TVgqt6jwYpgnsMkfoY6CbDQCdSG2fG2M4e+QNx7rYKB3rKwNEM9OvW/O+H/3XE2tzRMnIPRb0iA31XfLsiAZyYPghPTWiKQQs+QNKKwboH+T9X7MZQzQI9eU+y3mNBCuEeQ6Q+BrrJMNCJ1MaZMbZjm3+vlEBPdvNWItBjndUI9DlTih+xdijq37g6tyYKQh2RlzGwSAC7z28rv7n9y5kv6R7k16/sbD9EbFmiWaCvObxG77EghXCPIVIfA91kGOhEauPMGNv+zH2VE+j9XZQI9IX3fqF7nF9/xFps5PAisZuRGoR1Cb2KPJaV5YP7xt4hA33e8t66R3mR33nlCE0/f7775G69x4IUwj2GSH0MdJNhoBOpjTNjbDtjtlU40LO8FyPJpYcSgW57Vv9X0OMGX3fE2rKgIrGbnh6M9PTgIo9NiOwk4/xfkx7SPcj/uVJXT9A00E9cOKH3WJBCuMcQqY+BbjIMdCK1cWaMbfPcNRUO9BVDZuoTwiUEepiTs+6BHu0z4Loj1gJuGeiv/fiYDPSx4R11D/J/ruVrp2oW5/yCOPon7jFE6mOgmwwDnUhtnBljWzc1s8KBnjZwgjKBrsKXxEUEDpKBnrHCD6sy3LEy07PEQA9P7g+H/4/ze0Y3QGaWOmefX1txG2yaBXri7kS9R4IUwz2GSH0MdJNhoBOpjTNjbCvHJFY40FPcA3UJ4WV9uysZ6IuDvf46A/3nccjJ9sXhqJdxdW51HF/6JHKTPYsEek/bG/LV896hb+ke4yWtyM2LNAv03AO5eo8EKYZ7DJH6GOgmw0AnUhtnxrgKCoAc/6gKB3qSq7suIbyyXVslAz1snD9sVgvmzx6DnCwfXFrQAAgVKAh1RGaqnwz0zCxv3D26AUSggGOgAyJSXHWP8X+uzNwgTT9/vuX3LXqPBSmGewyR+hjoJsNAJ1IbZ8a4/jhxETm+ERUPdJdeuoTwjgefUDLQrz8DfUPqd/Ls89OLHynyFvfrvxzu9R+b6x7jJa20vLGaBvqBMwf0HgtSDPcYIvUx0E2GgU6kNs6McR3fcbLCgZ45NFSXCM7q3AHn69ZVMtBDfxwNm9WCpWHBOBDzugz03cv+WyTQ3ea1QfUgR2W/HC4n2xdJa37QNNDPXNJmryfj4B5DpD4Guo6cnJyK/Ufc9SsrK+umz2vRokWZr8lAJ1IbZ8a4DuQerHCgpw/+UZcI3v3S82oGuksP+QVx0UtH4I/f7gJCBQpDBVavcCv2JXFxae7wmN8WGZleusd4SSth/QzN4jxyWyQKCgv0HgtSDPcYIvUx0HW0c+dOZGVlFVuNGzdGs2bNcPXqX0ejODk5oU6dOsWet3bt2jJfk4FOpDbOjHHtjt9R4UBP9RilTwj3ccKvr/RRLtAT3HvLQE+PcJWvnp9ddB9ysks+Zk3lFbtxrmaBnrQ7Se+RIAVxjyFSHwNdMSkpKRBCwNfXVz7m5OSEevXqVcrfz0AnUhtnxri2/La+woGe7OatWwyreMxa7BAXGeg7lraRgZ4f964hAz1yy2LNAj3vYJ7eI0EK4h5DpD4GumK6du0KBwcH7N69Wz7GQCcyD86Mca3/OafCgZ7k6spAv25F+wyQgX7mt2Yy0Nem95OBHpvsjxWKvqX9+qX1N7hvO75N75EgBXGPIVIfA10hp0+fRp06ddCmTZsijzs5OcHR0RF33303HB0d0axZMzg7O+PEiRNlvgYDnUhtnBnjWjU+uWKB7hOOJJeeDPTrVnjQYNisFiyc7i/j/I+wJjJ609OD0WnmG2g4sg46zGyFqBQ33UP8Rkvrb3A/dPaQ3iNBCuIeQ6Q+BrpCfvrpJwghMG/evCKPh4SEICQkBPHx8YiPj4ePjw/q1q2LJ554AufOnbvp33np0iWcOXNGrv3790MIgb1798p/Sdtz5efnIz8/X5NrcXFVhcWZMe5KHxOF9OBwRHj/WizQI7x/RXpw+E1X6vD5SPBy13St++xD7Lz/WSx4uS8Wuw4qFugxXh6a/07Xr8UhIxE6czKWzfbAhQWN/np7e2Rr+db25UkWNA7+6+zzakGOiEz0kX+m2krInobwNeGarYNHD+o+E1zqLe4xXCUtUgsDXSH/+te/0KhRI1y6dOmWz124cCGEEAgJCbnp8wICAkr8BngGOheXmoszY8x15MAxGdrlDfTkYT9rHsC/P/owIAQgBNrUW6ZcoC+cNBqhMydjwZyJSE8PxsokD+QkD5HRa1nc5++zz394UvcIv9mKy/1FsziPXBuJEydO6D4XXOot7jFcJS1SCwNdEevWrYMQAm5ubqV6fkFBAerVq4cvv/zyps+70SvofIs7kZo4M8Z0cu8Z+Vb18r7FPXXgWE3fPp7e42sUODgAQiBf3I/GDY4p9xb3+d8Ph81qwaK5o0t82/gHU1+QgR68tIPub2O/2YrdGKrZ29tT9qToPRKkKO4xROpjoCvC1dUVQghs2LChVM8vKChA3bp10alTpzJdh59BJ1IbZ8aYDq89UuFATxngr2n8bn3zFfnq+SgxBO8+tUK5QA+dMho2qwXhYcW/qT01YwjqDK8JEShw24haSMsYqnuE32xp+Q3uqw6t0nskSFHcY4jUx0BXwKVLl3DnnXfi5ZdfLvXPLFiwAEIIfP/992W6FgOdSG2cGWPKT8+vcKAnubprGr8nm90rA72lWIvBba1qBbpLD9isFsy1jkT00hHFgnfU0g7y1fNPfn5e9wC/2dL6G9y3H9+u90iQorjHEKmPga6A+fPnQwgBq9Va7M/27t2L1157DZMmTUJMTAxiY2MxdOhQ1K5dG08//TTOnz9fpmsx0InUxpkxpp0x2yoe6C69NIvftO++kW9v3ykegRCFmNfDXalAj/foDZt1HM7aGuHMvHuwP+bNItH77tQnZaBPivpG9wi/2eI3uJMquMcQqY+BroD33nsP9erVw9mzZ4v92cmTJ9G+fXs89NBDqFOnDmrWrInmzZvD09MTp0+fLvO1GOhEauPMGNPm+esqFOhZXgs0jd+N770lXz0fL9zR/K49yh2zFjvEBeHTPeXxaqcXPySDN2WFJ2oNqw4RKNBwZF1kZHrrHuE3W0lrftA00M9eKv7fE0QA9xgiI2CgmwwDnUhtnBljWj8jt0KBvsJzuqbxe+Sxv7+9/S2RjK7/Clcu0KN83ZE38yMZ6PlxbWTwjljS/u+3t1tf0j3Ab7US1v2sWZxHbotEQWGB3iNBiuIeQ6Q+BrrJMNCJ1MaZMabVE9MqFOipAy2ahW9yn29xpWYNQAicEHeguvgTkzuMUC7Qw4M8cfjXR2Wgr0vrK4PXd+FHaDzqNohAge/Dv9M9wG+1tPwG9+W7lus9DqQw7jFE6mOgmwwDnUhtnBljyh0ZX6FAT3EP1Cx8V3/2gXz13CY6o17NP5DQt4dygR45ygMFcxyBUIGLv91RLHozs7wxOaIXklOH6x7gt1pRmxdpFuhZ+7P0HgdSGPcYIvUx0E2GgU6kNs6M8RRcLUS2X2SFAj3ZdaB28duvG1K/6Ih59zrh24Zz8MYjK5Hk3F25QM/64Qv56vnhqJdLDN/09GCkpxc/gk2llZ0ToOnnzzccLd1xrWRO3GOI1MdANxkGOpHaODPGc+HUpSKxXZ5AT3Lpo1sIJ/TtoWSg75nxvAz0LUklf0u7EQJ9xcpgTQN9z6k9eo8EKYx7DJH6GOgmw0AnUhtnxnhO7j1ToUDP8l6kWwRfv9QKdCdctNUDQgWuhNZEbpbXX0GeORTL0jwMFeipqydoGujHzh/TeyRIYdxjiNTHQDcZBjqR2jgzxnNk/dEKBXrG0F90j3PVAj1v6N/f3n5o/lMydseGd4RjoANenPgAJkd9Y4hAT1w7RdNAv/DnBb1HghTGPYZIfQx0k2GgE6mNM2M8+1bkVyjQ0wb/oFn47mnVEhteeA2xH3RBUr9uygb6phFv4uqcakCowIbFn8nYbTe9pTxebXzEV4YI9Pj1MzWL8+jt0XqPAymOewyR+hjoJsNAJ1IbZ8Z4dsZur1CgpwwcrUn0JvdxwpXq1QEhcEjcg3tuO4pJn49UMtCXDeqLedYRSJnhhJQYT+Rk+yIj0xsNR9aBCBSoO7wm0jKGGiLQYzfO1SzQU/ak6D0OpDjuMUTqY6CbDAOdSG2cGePZ8tv6igX6AD9NondV+w/l8Wq/ii4QApj37d/fHq9SoMcM7Q+b1QKb1YLk5YHIyfbFlOgu8tXzd6c+iZxsY3wGPXLLYs0CfeXBlXqPAymOewyR+hjoJsNAJ1IbZ8Z4NszMrVCgJ7t6aBK9u196Xga6k5iFZg2PFPlzlQI9ys9dBnpaij9ysn3x5ayXZKAP+/+3vase6Fk5gZp+/nzL71v0HgdSHPcYIvUx0E2GgU6kNs6M8ayelF6hQNfqiLVT9zaRgX6f2IePnkpWNtDDgwbLQM9Y4YfsLB/cM7oBRKBA9SBHJKYPMkSgr8gbrWmg7zu9T+9xIMVxjyFSHwPdZBjoRGrjzBhPbnBCuQNdqyPWUnt1QYGjAyAEtogWEALwbjNNwUB3wvnpDbFv2tNImfEt5kwfh5xsX9jie8pXz1/54REZwKoHeorGR6ydvMB/d9DNcY8hUh8D3WQY6ERq48wYS0EBkO0XVe5A1+qItXXt2shXzycLZwgBzO06SLlAzxvSTh6vtnd2S8ybNRY52b7oHfqWDPTBv31gmEBPXDtV00D/8+qfeo8EKY57DJH6GOgmw0AnUhtnxlgunL5cLLrLEuhaHbG277mnZKB/KpbgrttOILFf0eeoEOi7R70gAz1rZkeEzRmNnGxfPD2hqQz0pckuhgn0ZetnaRbncTvi9B4HMgDuMUTqY6CbDAOdSG2cGWM5te9shQJdqyPWzja+ExACBcIBDcUptH4su9hzVAj00z81kYG+aLoPFs8fhRWZXnhmQjM4BAo8Nr5JkQBWPdBjNs3XLNDT89P1HgcyAO4xROpjoJsMA51IbZwZYzmy4VjFAl2DI9ZSe3VGocNfnz9fI56DEED/N2zKBXqa6zcomOMAhAqc/vUu2KwWRCz8O75jU90xe9l3hgr0iC1LNAv0VYdW6T0OZADcY4jUx0A3GQY6kdo4M8ayL2NfhQJdiyPWUnt1weZ3XkfqXe/CzzEIQgDWL/2VC/T1fq3lq+ebf3kDNqsF0UtH3DSAVQ70zNwgTT9/ziPWqDS4xxCpj4FuMgx0IrVxZoxl17IdFQp0rY5Yu7bi+/TEj18MQ0LfHsoF+oHxj8tAT5zxHWxWC+Kihxk20NPzxmga6DxijUqDewyR+hjoJsNAJ1IbZ8ZYti7cUO5A1+qItdIufQO9Gy7MuA0IFSiwOWKudeRfr6DH+CI7y8eQgZ6y+ntNA/34H8f1HgcyAO4xROpjoJsMA51IbZwZY9kwa2W5A12rI9aMEOhZAz+Xr57/Pu1+2KwW2KwWdLD+G3ePboAOM1ohOsXNUIGu9RFrF69c1HscyAC4xxCpj4FuMgx0IrVxZoxlzQ8ryh3oWhyxlvFtR6xr1wZp332jdKBvHfaqDPRNE96QgX7/mEYQgQLVghywPH2QoQI9XsMj1qK2Rek9CmQQ3GOI1MdANxkGOpHaODPGsnJMYrkDXYsj1ra//rI8/zyw8XD0fCVMyUBPcu6GXM+PsTO4FZaP6gmb1YLxU7zk2efPT7zfcG9xj904V7NAT9qdpPcokEFwjyFSHwPdZBjoRGrjzBhLTmBM+QPdvfg3qVf2OvroQzLQnxNr8GijfEUD/e+1eJQ3bFYLun3fXgZ639C3DRfoUZsXaRboOQdy9B4FMgjuMUTqY6CbDAOdSG2cGeP481JBid/MXtpAT3YbaN/Y7dcNl+rWAYTAGVEfjuIq2j2Vonygh43zh81qQasxT8lA/+f556oHenaOv6afP99wdIPe40AGwT2GSH0MdJNhoBOpjTNjHOd/v1ChQE/q38+uoZvZ5Qv56nmcaAshAI+3Zykf6AsmDMOsaaNRK6gmRKDAHcH1kHWDb3JXNdAzVo7UNNB3ndyl9ziQQXCPIVIfA91kGOhEauPMGMfJPafLHejZ3kuR5FL8LPLKXBvfe1MGup8IghDA9K9u/LZ6vQL94PjHsTO4FXI9P0GSc3fMnRwMr8l95Kvn/7U+e8MQVjXQU1eN1zTQj5w7ovc4kEFwjyFSHwPdZBjoRGrjzBjH0Q1Hyx3omUPn2j189z33lAz0tiIOtapfQkLfGwe3HoGePqCT/Pb2s9MaIcm5O+ZMHYt2lrdloA9b/JnhAj1pzQ+aBvrZS2f1HgcyCO4xROpjoJsMA51IbZwZ49iftb/cgb7Cc7rdA/30PU1koN8pjuOZe7ff9Pl6BPqmgDdloO8d0xKJ/b/763i1EfdCBAo4BArEpbkbLtAT1lk1DfSCwgK9x4EMgnsMkfoY6CbDQCdSG2fGOPYs31nuQE8bOMGu4Zvc1wlXq1cDhMBO8QiEADo8t0y5QD804TEZ6Ku93ke8R29MmzocdYJqQwQKPDWh6U1DWNVAj9swW7M4j98Zr/cokIFwjyFSHwPdZBjoRGrjzBjH9vDN5Q70FI+Rdg3fnK8+la+ezxWdIATg895UxQK9Gy7OrAeEClz9tRpSXLoidogLbFYLZk0bgwlhPTA56htDBnr0pgWaBfqK/BV6jwIZCPcYIvUx0E2GgU6kNs6McWyeu6bcgZ7s5m3XQF/V/kOcbXwnrohqcBfjIQRg6zxEqUDPGvi5fPX8xI9NkeTcHdE+A2CzWmCzWpCSFHDLEFY10CO2LNUs0NccXqP3KJCBcI8hUh8D3WQY6ERq48wYx/qfc8od6Emu7nYN9GtrdkdPeL/xI9o/m4DEfjd/rtaBvnXYqzLQdwa3QpJzd0QEDJSBviLN35CBnpkbpOnnz7cd36b3KJCBcI8hUh8D3WQY6ERq48wYx5pJaeUPdJc+mgR6WZbWgX500oMy0Fd6fowk5+5YOnyIDPSszFvHsIqBnp43WtNAP3DmgN6jQAbCPYZIfQx0k2GgE6mNM2McK0cvL1egZ3kv1j3G9Q90J/z5S00gVODPX2oiydkJSc7d0XvEB3h+1JPoMuETxKbe+NvbVQ70lNUTNA30ExdO6D0KZCDcY4jUx0A3GQY6kdo4M8aRExBdrkDPGPqrfWO7XzflA32l58fy1fOjkx6Ujz8/7FF5/vm8hN6GDPTEtVM0DfSLVy7qPQpkINxjiNTHQDcZBjqR2jgzxnD5wtUS47w0gZ7u+ZNdA33bG//GhQa3YcM9L2Lmmx5Y2N1NuUBPc/0GmwLfwOEJj2JTwJt/Xd/5W9QMrAERKHDH8AbIzvIxZKDHr5+pWZxHbYvSexTIYLjHEKmPgW4yDHQitXFmjOHc0T/KHeipAy12DfTDjz8qj1h7UeThtlrnb/kFcVoHekkrZMAH8tXzt0NeKFUMqxjosRtDNQv0xN2Jeo8CGQz3GCL1MdBNhoFOpDbOjDGc2GHHQiEAACAASURBVHWq3IGe4j7MrqF7/vaGgBC4JGqihriM55ttVu4V9JJW58EtZaAPmN7RsIEetXmhZoGetT9L71Egg+EeQ6Q+BrrJMNCJ1MaZMYYj646UO9CT3YbaLXJTe3VB4f+/er5StIIQwBfPxRki0J/waSwD3bZgiCEDPTvHDxFbwjUL9LWH1+o9CmQw3GOI1MdANxkGOpHaODPGsC9jX7kDPcnV1W6Rm/f5h/Lt7VbRE0IAQ9tYlQr0db5tsM73XaS6dpaPRbp0hmOAA0SgQLMRdyM2YrghAz0zd7hmcR6xNQLbj2/XexTIYLjHEKmPgW4yDHQitXFmjGF3/I7yB7pLL7sF+tY3X5GB3lf8CCGAGZ18lQr001PvAkIFCmwOSHP7GknO3RHs3ka+ev7euP8gPmaYIQM9PW+spoG+/8x+vUeBDIZ7DJH6GOgmw0AnUhtnxhi2LdlUrkDP8gqz69vEDz71uAz0V0QmalT7E/F9eioT6Gmu36BwjgMQKnBu+u3y8Y6eT8tAd53ohMRlQYYM9JTV32sa6DwDncqKewyR+hjoJsNAJ1IbZ8YYNs5ZXa5Azxg6266BfuauRoAQKBAOqCfOoUWT3aX+WS0Cfb3vO/L8833jnpKPN/dpBBEo4BDogClTg5CSGGDIQE9c+5Omgc4z0KmsuMcQqY+BbjIMdCK1cWaMYZ01u1yBnj54it3iPLmPEwocHQEhsEW0gBBAu6dSlAr0/ZYnZaCv831XPv6L6+fo5/8uPhz3FmxWC9JS/A0Z6PHrZ2gW51HbolBYWKj3KJDBcI8hUh8D3WQY6ERq48wYw6oJqeUKdHuegZ7z1afy7e1zRScIAbi9VfpX7LUI9PPTG/71+fM5DkW+JC7JuTvCgzxhs1pgs1qQmeFnyECP3ThHs0Bfvmu53mNABsQ9hkh9DHSTYaATqY0zYwy5wQnlCnR7noGe0rsr8j7/EEse/wbdG/yC6o5XMLnDCGUCfcWAr+Sr56d/uqvYny8O9oLNasGc6eNKHcSqBXr05jDNAj1zX6beY0AGxD2GSH0MdJNhoBOpjTOjvsJCINsvqnyB7uZlt0D/51rWpycS+vZQJtA3Bb4hA33P6OeK/fnCMX6wWS2YN3OsIQM9O5tnoJP6uMcQqY+BbjIMdCK1cWbUd+n8lRvG+a0CPcl1gGaBXtZl70A/FNJcBvpqrw+Q5NwdS12+QefBLTFuwPuwWbxhs1qw4Ncxhgz0zNxhmsV5xNYIbDu+Te9RIAPiHkOkPga6yTDQidTGmVHfmUPnyx3oyS69dQ9xvQL9wozbgFCBq7ZqSHHpiiTn7gh0by2PV2s36j+wWS1YGDrakIGenjda00DnGehUHtxjiNTHQDcZBjqR2jgz6ju+42S5Aj3Le7Hd4npFt6+w/T8vY9WnHyC1Z+dy/R32DPRkFyfkj30aZ6Y1wokf75WPfzbkSRnoA0O+hc1qwdIFpQ9ulQI9ZfUETQP9+B/H9R4FMiDuMUTqY6CbDAOdSG2cGfUdXnO4XIGeMXSO3QJ9/Qet5Te4T6jpjv88vAozOvkoE+hFYt3ZSf7PD/veDhEo4BjggGlTgmCzWhCxaKQhAz1p7RRNA/3Cnxf0HgUyIO4xROpjoJsMA51IbZwZ9eWn55cr0NM9p9kt0He/9LwM9M/FQggB/PJN2b6QTqtAv7YWu3wtXz1v4dtYHrEWvXS4IQM9gWegkwFwjyFSHwPdZBjoRGrjzKhv17Id5Qr0tIET7Ba7Rx99UAZ6c7ENNar9iYS+ZYtrrQPd3/1tGehfej0nAz0uepghAz1ug02zQOcZ6FRe3GOI1MdANxkGOpHaODPq27ZkU7kCPcVjpN1i9/ztDQEhcEHUhqO4isca7y3z32GvQE917YwMj47FHv9kyBMy0EcM/UgGekJckCEDPXrTb5oFesa+DL3HgAyKewyR+hjoJsNAJ1IbZ0Z9m+euKVegJ7uV7TPhpV0pvbui0MEBEAJ54kUIAbR5PEOZQL92/vmFGbdhvd878vEHfBtCBApUC3DAIq8+MtCTlwcaMtAjtizVLNBXH1qt9xiQQXGPIVIfA91kGOhEauPMqG/9zznlC3RXD7sEeu6Xn8i3t/8ivoUQwP9eXaBMoB8s4fzzsP5fyVfPn/K5C1F+7jLQ01ICDBfoWblBmsV5xNYIbP19q95jQAbFPYZIfQx0k2GgE6mNM6O+1ZPSyxfoLv3sEuib2rwhA32QGAshgOB2IcoE+h8/1wdCBQpsjkjp/9f55z4eb8lA7zy4JcKDBstAz0j3M1ygr9D4DPT80/l6jwEZFPcYIvUx0K9TUFCAP/74Q+9fw64Y6ERq48yoL29sYpkDPdZtNpJcetgl0PNfeEYG+vsiFkIA874dqESgZ7h3lK+en5pyt3x8qtvH+HTIE3jQ93aMG/A+lowYKgM9K6v0YaxKoKeuCtE00I+dP6b3GJBBcY8hUp+pA/3ixYuYNWsWvvjiC9x7772oVq0aHB0dUadOHbRq1QqDBw/G2rVr9f41KxUDnUhtnBn15QTFljnQo93sd8Ta8QeayUBvJvajXs0/kNiv7H+PPQJ9U8CbMtB3j37+hs9bNNoXNqsFoTPHlimMVQn0pDU/aBro5y6f03sMyKC4xxCpz5SBfuHCBQQGBuKOO+6Ao6MjnnrqKXTp0gUeHh7w9vZGnz590LZtW9x+++1wdHTE66+/jszMTL1/7UrBQCdSG2dGbVevFCLbL7LMgR7pUva3nJd27X/2SZy54w4cFXdBiEI8fc/2cv099gj0kj5/XtL6zRIAm9WC+bPHGDLQE9ZZNQ30qwVX9R4FMijuMUTqM2WgN2vWDI8//jjGjx+PI0eO3PB5hYWFSExMRJcuXVCrVi1Mnz5dw9/SPhjoRGrjzKjtwunLN43zGwV6RD/7HbGW5Nwd8X16YnL7YXB/6xf4tv1JmUAv6fPnJa353w+HzWpBWOhoQwb6sg2zNYvzuB1xeo8BGRj3GCL1mTLQZ8yYgatXy/b/fd61axeSk5Pt8wtpiIFOpDbOjNpOHzhXrkBf2sfXroFeGauyA/1Gnz+f7vopFrp0KvLcuZODYbNasGRB2WJblUCP2TRfs0BP3Zuq9xiQgXGPIVKfKQPdzBjoRGrjzKjt920nyhfovcv+pW1GD/Qbff68uU8jiECB+30bIs75WyQ5d8ecn8bAZrUgYqExAz1yy2LNAj33QK7eY0AGxj2GSH0MdJNhoBOpjTOjtkOrD5cr0Jf0crZPWPfrpmyg7xjxEq7+Wr3I58+jXLrAMcABIlDgEd87/nquSw/5De5RS0cYLtCzcwI0/fz5hqMb9B4DMjDuMUTqY6Bf5/LlywgMDMTLL7+Ml156Cf7+/rh06ZLev1alYqATqY0zo7b89PzyBXrPip8nXtI6cV9TnL/jdqy+62WEfBSMRd1dlQn0JOfuSHb5FnlD2iHF5a/Pn48d0Faef/7pkCeQ5NwdCQP+JwM9NmK44QI9Y+UITQN954mdeo8BGRj3GCL1MdCv4+Ligueeew6TJk3CyJEjcc8996BPnz56/1qVioFOpDbOjNp2LdtRrkBf/F0Xu7x6/metWoAQOCjuhRDAi/dtUirQ/7m6Dn5OBrqPx1tIcu6OZQP7ykCPjxlmuEBPyxuraaAfPHtQ7zEgA+MeQ6Q+Uwb68ePHS3z83nvvLfKt7gsXLkTjxo21+rU0wUAnUhtnRm3bl24qX6D3+LrSA31Ft6/k+efLxHsQAvi8ZbzSgf689z0y0Of374gk5+6IHeIiAz1xWZDhAj1l9URNA/3kBf77gcqPewyR+kwZ6I0aNcLs2bOLPf7AAw9g165d8p9nz56Npk2bavmr2R0DnUhtnBm1bZ67RplAX/NJWxnoFuEBIYCBrWcqG+jLnL9FrYBqEIECd/vdJh+P9hkgAz0lMcBwgZ64dqqmgX7pStX66B1pi3sMkfpMGei//fYbmjZtinfeeQc7d/79WS5/f388+OCDGDRoEPr27YsGDRrAy8tLx9+08jHQidTGmVHb+hm5ygT6jv+8JAO9m5gJIYAfOwxXItDPTG2M3yffj23D/y0f+9HtI/nqeZuhj8jHI/09ZKCnpfgbLtDj18/ULM6jtkXpPQJkcNxjiNRnykAH/grV3r17o169ehg5ciSuXLmCwsJC/Pzzz/jiiy/QoUMHWK1WFBQU6P2rVioGOpHaODNqW/PDCmUC/dATzWWg/0vkQgggqldf3QN9hfuXf59//tPf55/3GfSSDPQBA1+Vj4cHecpAz1jhZ7hAj904R7NAT9ydqPcIkMFxjyFSn2kD/ZqMjAw888wzeOaZZ5CZman3r2N3DHQitXFm1JY3NlGZQD/TpDEgBAqEA+qK87in/rEK/X2VFegbrzv/fM/o5+Tj//F6QAb6DNfP5ONLRnrJQM/OKlscqxDo0ZvDNAv0zH1V/79TyL64xxCpz/SBDgBXrlzB8OHDUbduXfTt2xdnz57V+1eyGwY6kdo4M2rLGRanRqD364ar1asDQmCHeBRCAK88tEaJQD84/nEZ6Gu835ePv+Z1P2oEOKK+f00sd/77/PZFY3xhs1oQOnNsmeNY70DPzvZDxJalmgX6msNr9B4BMjjuMUTqM22g7969G9OmTcPEiRORl5cHANi+fTveeecdNG3aFAsXLrT775CcnFzsP+KuraysrCLPXbVqFd59913Uq1cPDRs2RPv27Yt8oV1pMdCJ1MaZUdfVK4XI9otUItAzu3SQb29fLD6DEMDXL0YpEeh//NwACBUosDkipX/Xotdw7lrk1fMk5+74zRIAm9WC+bPHGC7QM3ODNIvziK0R2Pr7Vr3HgAyOewyR+kwZ6OHh4ahVqxYef/xxvPjii6hevTqCgoLkn8+aNQuNGzfGxx9/jP3799vt97gW6MHBwcjKyiqyzp07J5+3ZcsW1K9fH2+88Qaio6OxaNEiPP3002jatCmOHTtWpmsy0InUxplR14XTl28Z51oF+vr/viMDfZjwhRCAz3tTdQ/0G33+/GZr/vfDYbNaEDZntOECfUXeaE0DPf90vt5jQAbHPYZIfaYM9CeffBLe3t7yn5csWYLq1asXeWv78ePH0bVrV9SvX99uv8e1QA8LC7vp8zp27IjGjRsXieq9e/eiRo0a8PT0LNM1GehEauPMqOv0gXPKBHpqr85Y/ekHCHu0Kz5tEIlqjlcw/Ss/3QP9Rp8/v9maOzkYNqsFi+aNMlygp64K0TTQj50v2/9TnuifuMcQqc+Ugd6gQQMkJCTIfz516hQcHBywffv2Ys9NTLTfN6aWJtCvXLmCOnXqoHfv3sX+rG3btmjevHmZrslAJ1IbZ0Zdv287oUyg/3Mt69MTy/v10D3Qb/T588TrPnP+zzXnpzGwWS1YGlb20NY70JPW/KBpoJ+7fO7WNyrRTXCPIVKfKQP9v//9L15//XXk5ORgw4YN6NatG5o2bYqrV69q+ntcC/QmTZqgWrVqqF+/Ptq2bYv09HT5nK1bt0IIgR9//LHYzw8aNAgODg64ePFiqa/JQCdSG2dGXYdWH1Y20CtjVUagl/T58wX9v8SdfnXwptdDCHRvXfRnXHrIb3CPWjzCcIGesM6qaaBfLdD2v1Oo6uEeQ6Q+Uwb6/v370bp1azg6OsLBwQFPPvmkLkesrV69Gm5ubliyZAnS0tIwc+ZMPPnkk6hWrRri4uIA/HUMnBAC8+bNK/bzwcHBEELg0KFDN7zGpUuXcObMGbn2798PIQT27t0r/yVtz5Wfn4/8/HxNrsXFVRUWZ0bdtTl5M9KDw2+5Irx/LRboYW69keDlrvSK8fIoFugxXh6l/vlUv15/f/7c2lQ+7uPzoTxe7Rvfl4v8zDLfQQidORmhMycjOtwig7u0Kzk5BMnJIWX+ucpasSvnIHxNuCYrZn2M7jPAZfzFPYarpEVqMWWgX3PhwgWcPn1a71+jiFOnTuG+++5Dy5YtAfwd6PPnzy/23GuBfvjw4Rv+fQEBASV+SzwDnYtLzcWZUXdtjF2vRKCnOffE5vffwcouHZHk3k+ZQE/wGoCMgG7YPPZdrBv1oXz8E7/nZKAHe7cv8jOxAZ4y0GMjxxku0KNWzdcs0JdvWq77DHAZf3GP4SppkVpMHeiq6tOnD4QQuHDhQoXf4n6jV9D5FnciNXFm1LU9fLMSb3Hf+N5b8hvcR9XxwpuP5uKXb7yUeIt7SetR3zshAgUcAxwQ6dK5yJ/FDnGRb3FPiAsy3FvcIzcv0uzt7bkHcvUeAaoCuMcQqc+Ugf70009j8eLFpX7+oUOH0L9/f4waNcqOv9XfevfuDSEELl68KL8krk+fPsWe9/777/NL4oiqGM6MujbPW6tEoO99saUM9HYiEkIAts5DlAz0CJfOcAj469Xzx3zuLPbn0d5uMtCTlwcaKtCzc/w1/fz5+iPr9R4BqgK4xxCpz5SBHhQUhNtuuw33338/hg4diri4OBw7dgyFhYUA/nrr+4YNGzB9+nR89NFHqFGjBl577TVs2rTJ7r/byZMn0axZMzz//PPysS+//BJNmjQpcgxcfn4+atasiSFDhpTp72egE6mNM6Ou9TNylQj03x+6Xwb6g2IPalW/hIS+FfsGd3sF+ij39+Tb29t7PlnszyP9PWSgp6UEGCrQM3KHaxroO07s0HsEqArgHkOkPlMGOvDXq+Kenp5o3LgxHBwc4OjoiGrVqqF27dpwdHSUXyD35ptvYtGiRXb5Hb7++msMGTIEYWFhSE5OhtVqRYsWLVC9evUix8Bt2bIFt912G958803ExMRg8eLFeOaZZ9C0aVMcO1a2M1EZ6ERq48yoa80PK5QI9Av1bwOEwFlxG4QoxON37amUv7cigb7G+33sGdMSa7zbym9vT3Lujs6DW8pA9/d4u9jPhQd5ykDPSPczVKCn543VNNAPnDmg9whQFcA9hkh9pg30a/7880+kp6dj7NixGDBgAHr37g0fHx/YbDbs37/frtceNWoUnn/+eTRs2BDVqlXDXXfdhfbt2yM3t/jnzPLy8vDuu++ibt26aNCgAT777DPs3LmzzNdkoBOpjTOjrrxxSboHemqvLvLV80zxCoQA3n8iXfdAPzC+xXXnn7eVj7f0vlsG+m/9vyr2c0tGeslAz8osRyTrGOgpq7/XNNBPXDih9whQFcA9hkh9pg90s2GgE6mNM6OunGFxugd6XoePZKBbRU8IAfR5bb7ugX5+esP/P//cASn9u/z19zl/ixoB1SACBe71q1/izy0a7Qub1YI5P48r36vYOgZ64topmgb6hT8v6D0CVAVwjyFSHwPdZBjoRGrjzKip4Gohsv0idQ/0La3/IwO9v5gIIYAxH1t0DfQVA76Sr56f/qmJfHyS29/nn7cd+miJPxtmCYDNasG8WWMNF+gJ62doFueR2yLl9+QQVQT3GCL1MdBNhoFOpDbOjJounv2zVHFu70Df1/IpGeitRSKEABY4uesa6Bv935KBvmdMS/l4grMTprt+iv4D/w3LgPdL/NkFE4bBZrXgt1/HGC7Q4zbYNAv0+J3xeo8AVRHcY4jUx0A3GQY6kdo4M2o6c+i8EoF+stm9MtDvEkdxW63zSOxX8b+3IoF+o8+fl2bNnTwSNqsFi+aONlygR29aoFmgr8hfofcIUBXBPYZIfQx0k2GgE6mNM6Om4ztOKhHoB596HOca3o6D4l4IATx777ZK+XsrEuglff68tGvOlDGwWS1YuqB8ka1noEdsWaJZoOcdzNN7BKiK4B5DpD4Guskw0InUxplR0+G1R5QI9CTn7ljWpycmfjICrm/a4PPeVF0Dvejnz+8q2zVdeshvcI9YNNJQgZ6VE6BZnEdsjcCmY5v0HgGqIrjHEKnP9IE+atQoXLx4Ue9fQzMMdCK1cWbUtD9znzKBbq9VnkC//vPne6/7/Hmwext0H/wCQgZ8gDjnriX+7HK3XjLQo5eOMFSgZ6wM1jTQd5/crfcIUBXBPYZIfaYP9Keffhr33XcfZs6cWewbUvfv349p06bp9JvZBwOdSG2cGTXtXr6LgV7CutHnz98d+oj8Bvcpbh+V+LPxHn1koMdFDTdUoKetsmga6IfPHdZ7BKiK4B5DpD7TB3phYSFmzpyJRo0a4ZlnnkF4eDgOHjyIAwcOwM/PD7Vq1dL7V6xUDHQitXFm1LQ9Yov+gd6vm3KBvsa7LfZbnsRZ651Ive7z50386kEECtQOqI54Z6eSr+fpLAM9ITbIUIGevGaSpoF++uJpvUeAqgjuMUTqM32gL1q0CPXr14eDg4Ncjo6OcvXu3VvvX7FSMdCJ1MaZUdPm+et0D/STTe/B2UZ3YGWTV/H9pyOx9DsX3QO9pDWvf0f56vkL3vfe8Hkx3q4y0JMSAg0V6MvXTtU00C9fvaz3CFAVwT2GSH2mD/THHnsM7733HtLT07Fx40asW7cO/fr1Q40aNfDNN9/o/etVOgY6kdo4M2raMGulvoHerxuu1KgOCIHd4iEIAfzr/g1KBrq3x5sy0L8d/PwNnxfp5yEDPSUpwFCBHr9+lmZxHr09Wu/bn6oQ7jFE6jN9oNeuXRuJiYnFHs/Ly0PTpk3h6+urw29lPwx0IrVxZtS0dkqGroGe0bWjPP88QnwEIYCOz8UpGegfD2khA33cgPdv+LzwoMEy0NNT/Q0V6LEbQzUL9MTdxf8bhai8uMcQqc/0gf7ss89i/PjxJf7ZvHnz0KhRI41/I/tioBOpjTOjplUhKboG+rp2bWSgB4uhEALwfOdnXQN9ne+7WDHgq2KPP+x7O0SggGOAA6Kdb3wu+pIRQ2WgZ2b4GSrQozaHaRbomfsy9b79qQrhHkOkPtMH+k8//YR69eph/vz5xf5s7ty5qF27tg6/lf0w0InUxplRU+7IeF0DfecrrWSgfy1CIQTwU8cg3QI9fUAn+e3tRyY+LB9f6vKNfPW8hU/jm15v0Sgf2KwWzJk+rtyhrEegZ2f7IWJLuGaBvubwGr1vf6pCuMcQqc/0gQ4AHTt2hIODA1q2bAkfHx/8/PPPGDVqFJo0aYKXXnpJ71+vUjHQidTGmVFPYSGQ7Rela6AffvwRGejPinVwEAWI/l9v3QJ9g//b151//qx8fKR7GxnoHTyfuun1wsb5w2a1YN7MsYYK9MzcIM3iPGJrBLb+vlXvEaAqhHsMkfoY6P9v5syZaNWqFRwdHeW3uTdp0gSZmVXrrWUMdCK1cWbUc/nC1VLHub0C/VyjOwAhcEVUQ01xCU0bHKnUOC9roB8Y/4QM9LU+f59/3snzWRnoge6tb3q9BROGwWa1YMGvYwwV6Ol5ozUN9PzT+XqPAFUh3GOI1MdA/4dTp05h5cqVWL16NS5frnrHmjDQidTGmVHPuWMXyhTosW6zKzXQk/s4ocDRERACG8VTEAL4z8OrdA3089MbAqECBXMcipx/PnrAe2g35HE84NsQC1063fR68yaNhM1qQVjoaEMFeuqqEE0D/dj5Y3qPAFUh3GOI1MdANxkGOpHaODPqObnndJkCPdptWqUGevbX7eXb2+eLLyEE0OVfEboF+vWfPz899a5yXy90ymjYrBYsWVD+wNYj0JPW/KBpoJ+7fE7vEaAqhHsMkfoY6CbDQCdSG2dGPUc2HCtToEe6TKjUQN/Q9m0Z6L5iGIQA/NpO0S3Qb/T58zItlx6wTRsHm9WCiIXGCvSEdVZNA/1qwVW9R4CqEO4xROpjoJsMA51IbZwZ9RzMPVCmQI9wDq7UQE/77hus+aQtwh7ugv/eFgdHhwLM6OSjW6Dvt1z/+fP3ynWt5W695BFrUUtHGCrQl22YrVmcx+2I0/v2pyqGewyR+hjoJsNAJ1IbZ0Y9e1P2lCnQw/v6VfqXxBUJ6d69kNC3h26Bfn767SV+/vwHt3ZY4lK6/z3jPXrLQI+NHG6oQI/ZNF+zQE/dm6r37U9VDPcYIvUx0E2GgU6kNs6MenbGbCtToC/tPdiugW6vVZpAv9HnzxOcnVDPvwZEoMDz3vfc+lqezjLQ42ODDBXokVsWaxbouQdy9b79qYrhHkOkPga6yTDQidTGmVHP1oUbyhbovfpX2UDPHtQeJ6fcgwKbY5HPn093/VQer/am14O3vFaMl6sM9MT4QMMEenZOgKafP99wdIPetz9VMdxjiNTHQDcZBjqR2jgz6tn466oyBfrinj0rLdAzunbElrdfQ16Hdkjt1aVcf0dlBvq1ldK/K9Jcv5H/3H/gv2WgOw96+ZbXivJzl4GekhhgmEDPWDlS00DfeWKn3rc/VTHcY4jUx0A3GQY6kdo4M+pZNy2rbIH+XZdKC/TN77wuv8F9RB1fvNs8E6FdB+se6P9crYc+LAN9qtvHt3x+ROAgGehpKf6GCfS0VeM0DfSDZw/qfftTFcM9hkh9DHSTYaATqY0zo57VE9NKHedZ3ouwuMfXlRbo+c8/LQP9PbEMQgC/dXNXKtATnbuhkV9diECBOv7VkeDsdMufWTJiqAz0jBV+hgn05NUTNQ30kxf47wKqXNxjiNTHQDcZBjqR2jgz6lk5enmpAz1j6K+VGugn7m8qA/0ecQgNap9FYr/Kj/PSBHqqa2ckOXcr9nOh/b+Qr5638m5aqmstGuUDm9WCOdPHITur/MGsdaAnrp2qaaBfvHJR79ufqhjuMUTqY6CbDAOdSG2cGfXkBMaUOtDTPadWaqBfqlMHEALHRGMIUYgXmm2yS5yXJtAPhTTH5V9q4ejEh7BiwFfy8aEeb8hA7z74hVJdK2ycP2xWC+bOHFuhYNY60OPXz9QszqO2Rel961MVxD2GSH0MdJNhoBOpjTOjliuXC8r0+fO0gSGVFujp3TvJV88TxLsQAujw3DKdAr0bLs6sB4QKXLVVQ4pLV/lz7YY8LgN9/IAPSnWtBROGwWa1YP7sMYYK9NiNczQL9OW7lut9+1MVxD2GSH0MdJNhXL5BvwAAIABJREFUoBOpjTOjlj9OXipToKd4jKy0QF/zSVsZ6OOFO4QAPN/5WZdAzxrYQZ5/fvLHe4v83AO+DSECBaoFOCDGuWuprjVv0kjYrBaEhY42VKBHbw7TLNAz9mXofftTFcQ9hkh9DHSTYaATqY0zo5ZT+86WKdCT3bwrLdB3vPaSDHQnMQtCAFO/DNAl0LcOe1UG+q7gF//+Gedv8aTPXagW4IAnfe4q9bVCp4yGzWrB4vmjDBPo2dl+iNiyVLNAX31otd63P1VB3GOI1MdANxkGOpHaODNq+X3r8bIFuqtHpQX64RaPykB/QayCo8NVxPXupUugH534kAz0vCEfFfvZaOcusPXvUOpr2aaNg81qQXhYxeJay0DPzA3SLM4jtkZgy+9b9L79qQriHkOkPga6yTDQidTGmVHLodWHyxboLv0qLdDPNroTEAJXRDXUEhfx4B0H7BbnNw/0brj8Sy0gVODK7BpILsUxajdby117yiPWopaMMEygr8gbrWmg7z21V+/bn6og7jFE6mOgmwwDnUhtnBm15KfnlzrOs72XIsmlR+UEer9uOPLYQzhb73ZsEE9DCOCd5lm6BHrO4E/lq+fHJt9f4evEe/SWgR4bMdwwgZ66KkTTQD96/qjetz9VQdxjiNTHQDcZBjqR2jgzatm1bEepAz3Tax6SnLtX6jFrMf/rjZCPR6Lvf+YiuN0EXQJ9x4iXZKBvG/5v+fxE525ILOFc9FteZ7CzDPT4mGGGCfSkNT9oGuhnL53V+/anKoh7DJH6GOgmw0AnUhtnRi3blmwqdaCv8Py50gNdy3WjQD/+w30y0LMHfSafP37AB7jLry7eGfoIQkp5vFqSc3fEeLnKQE9cFmSYQE9YZ9U00K8UXNH79qcqiHsMkfoY6CbDQCdSG2dGLZtC15T+DPRBk6tgoPfAhRn1gVCBS7PqIOm6V8y7DX5Bnn8+1OONUl8nys9dBnry8gDDBPqyDbM1i/PYHbF63/pURXGPIVIfA91kGOhEauPMqGX99OzSn4E+cHTlBXq/sr913F6voCc5d0PO4E+x1qdNkee38m4qAz20/xelvk5E4CAZ6Gkp/oYJ9JhN8zUL9NS9qXrf+lRFcY8hUh8D3WQY6ERq48yoZfXEtNIHuntApQX6hQb1cbLRXUhu9j4mdxiB6P/11jHQiz83wdkJdfyrQwQKNPKrW6bPoi8dPkQGesYKP8MEeuSWxZoFeu6BXL1vfaqiuMcQqY+BbjIMdCK1cWbUsnL08tIfsebmWSmBnt7ja3n+eZJ4G0IAnVtFKBXoP7l9LF89bz304TJdZ9EoHxno2VkVi2atAj07J0DTz59vPLpR71ufqijuMUTqY6CbDAOdSG2cGbXkBMaUPtD7u1ZKoK/55H0Z6N8LVwgBBH4wWalA7zvoJRno/Qf+u0zXWTjWHzarBaEzx1Y4nLUK9IyVIzUN9F0nd+l961MVxT2GSH0MdJNhoBOpjTOjjj8vFZQ6znN8I5Dk0qtSAn3nq/+Sgf6t+AVCAHO7DtIl0A/+8CB2j3oBWQM/L/LcV73ul4E+w/WzMl1nQUgQbFYL5v9inEBPW2XRNNAPnzus9+1PVRT3GCL1MdBNhoFOpDbOjDrOH79Y6jjP8gqTAVrRQD/y2MMy0J8R61G/1jkk9rNvnN8o0M/PrguECmz0f0s+L8HZCbf514QIFGjgXwvLy3gW+rxJI2CzWhA2Z7RhAj15zSRNA/3MJW32aDIf7jFE6mOgmwwDnUhtnBl1nNx7ptSBnjF0dqUF+h8NGwBC4IKojWriCl68b5Pd4/xWgZ4+oJN8ntX1E/nq+RteD5b5OqE/jobNasGieaMME+jL103TNND/vPqn3rc/VVHcY4jUx0A3GQY6kdo4M+o4uun3Ugd6+uAplRLoqb06y1fPs8XLEAL46oUYXQP9nPX2Is9zGfhvGegug8r2+fMk5+6wTRsHm9WCpWEVD2utAn3Zhl80i/OY7TF63/pUhXGPIVIfA91kGOhEauPMqONA7sFSB3rawHGVEuir2v9XBvoU0QdCAH5tp5Q5gisz0PPHPlPkeQnOTvjJ7WP0GfQSbP07lOkay117ym9wj1o8wjCBHrNxrmaBnrInRe9bn6ow7jFE6mOgmwwDnUhtnBl17E3eXYYz0IMqJdC3v/6yDPTvxHQIAfzaeYiugb7a6/1Ku0a8R28Z6LERww0T6JGbF2kW6DkHcvS+9akK4x5DpD4Guskw0InUxplRx87orWU4A31opQT64ccflYH+gliFujUuYHm/HroF+ulZDZDs8m3lXWOwswz0ZdHDDBHo2Tn+mn7+fP2R9Xrf+lSFcY8hUh8D3WQY6ERq48yoY8tv60t/xJqra6UEenr3Tlj14fuYfmcfPFQ/H8813aJJnN8o0PO/f7xSrxHj7SoDPXFZkCECXesz0Hee2Kn3rU9VGPcYIvUx0E2GgU6kNs6MOjb8klfmM9ArGujF3hLep6eugb426M0iz+k5qBV6DmqFyW7tyny8WpJzd0T6echAT0kMMESgp60ap2mgHzx7UO9bn6ow7jFE6mOgmwwDnUhtnBl1rP0ps3RnoHsvLBKhlRnoWq6SAj154N/HqyU6d8Pt/rUhAgXq+ddEgrNTma8RHuQpAz0txd8Qga71GeinLp7S+9anKox7DJH6GOgmw0AnUhtnRh2rQlLKfAZ6VQv0OJfv5J/PdG0vj1d7xev+cl1jyUgvGeiZGX6GCHStz0C/dOWS3rc+VWHcY4jUx0A3GQY6kdo4M+rIHRlfuiPWBhc9Bq28gb6pzZvY9PbrSP+8A5L6lv3VaXsHutvAV2Wg9x70r3JdY+EYP9isFsyZPq5S4lmLQF+2fpZmcR69PVrv256qOO4xROpjoJsMA51IbZwZNRQWAtl+UaUK9NTrzkCvSKCfa3QHIASuiGp4ptEWuL/1i1KB3nrowzLQf3L7uFzX+G18IGxWC+bNHGuYQNfyDPSk3Ul63/pUxXGPIVIfA91kGOhEauPMqOHS+SvlOgO9vIGe2qsLCv//eLVV4gUIAfR8JUyZQE907oY7/OtABArU9a9Rrs+fJzl3x/zvh8NmteC3X8cYJtC1PAM9a3+W3rc+VXHcY4jUx0A3GQY6kdo4M2o4e/h86QPdbUiFA331px/I889/FH0hBBDy2WhNAz1z6Cc3DPRfXD+Xr56/7NWs3NcI/XEUbFYLFs0dbYhA1/oM9HVH1ul961MVxz2GSH0MdJNhoBOpjTOjhhM7T5b+iLX+rkUitDyBvvOVVjLQu4rZcHQoQHSvPpoG+raxz98w0D0GviYD/X/l/Px5knN32KaOhc1qwdIFlRPV9g70jJUjNA30HSd26H3rUxXHPYZIfQx0k2GgE6mNM6OGI+uOlOsM9PIG+rGH7peB3lxswyON9mka50nO3XDcetcNA/2doY/IQP/R7aNyXSOx/3fyG9wjF480RKDzDHSqarjHEKmPgW4yDHQitXFm1LAvY1/pzkD3Kv458TIHer9uuFynNiAETog7IEQhPnoqWdNAzxn8Kc7PrltioCc6d0Mjv7oQgQK1A6ojvpyfP4/36C0DPSZ8uCECnWegU1XDPYZIfQx0k2GgE6mNM6OG3Qk7S3cG+pBZFQ70zK5fyFfPY8QHEAIY/M4MTQN996gXbhjoCc5OGOzxOt4f+hj+O6R5ua8RN9hZBvqy6GGGCPTla6dqGuh/Xv1T71ufqjjuMUTqY6CbDAOdSG2cGTVsD99cqkBPH/xjhQN943tvyUD3F4EQApj1tbemgX52WqMbBnplXSPG21UG+vJlQYYIdC3PQI/dEav3bU8mwD2GSH0MdJNhoBOpjTOjhs3z1pbyDPSxFQ70fS2flIHeVsShfq1zWN6vh2ZxnunxBRAq7B7okX4eMtBTEgMMEegxm+ZpFuipe1P1vu3JBLjHEKmPgW4yDHQitXFm1LB+Rm4pz0APrHCgb2rzBvbd1xyHxD24XZzEfx5epemr5zuDW2kS6OFBnjLQ01L8DRHokVsWaxboKw+u1Pu2JxPgHkOkPga6yTDQidTGmVHDmsnppQr05H+cgV6eQL+2Ir7ri+B2Ifi+fbCmgX522p03DPRfXb/CcPd3EOHSucLXWTLSSwZ6xgo/5QM9KydQ08+fbzq2Se/bnkyAewyR+hjoJsNAJ1IbZ0YNK8ckli7Q/3EGekUCXY+VNbADECqAUIHDU+4rFui9B70KESjgGOAAf/e3K3StRWN8YbNaMGf6uEqLaHsG+oqVozQN9L2n9up925MJcI8hUh8D3WQY6ERq48yoIScotpRnoBd/C7iRAj3JuRtyPT9G/thnsDqwdbFAf9X77/PPZ7t+XqFr/TY+EDarBfNmjjVEoKeunqBpoB87f0zv255MgHsMkfoY6CbDQCdSG2dGf1evFJYqzjO95pcYomUJ9OxOnyG5z7cKhHp3xLl8VyzQGwbUhwgUaOJXD4nO3Sr098//fjhsVgsW/DrGEIGetHaKpoF+/vJ5vW99MgHuMUTqY6CbDAOdSG2cGf39cfJSqQJ9hef0CgV6ch8nXKlRHZcda2B5/bYY/M4MLPnORalArxtYFyJQVOj882sr9MdRsFktWDR3tCECPX79DM3iPHJbJAoLC/W+9ckEuMcQqY+BbjIMdCK1cWb0d2LPmVIFetrACRUK9LwOH8nj1ULF1xACsH7pr2Sg+3q8VeG/3zZ1LGxWC5YuqLygtmegx26co1mgL9+1XO/bnkyCewyR+hjoJsNAJ1IbZ0Z/RzYcK90Rax4jKxToO19tJQO9l5im8fnnTjj5473YMfJfSB/Q6ZaBvsilU4Wul9j/O/kN7pGLRxoi0KM2L9Qs0DP3Zep925NJcI8hUh8D3WQY6ERq48zob1/GvlIeseZdoUA//kAzGejNxTZNzz9f6/Oe/Pb2Y5MeuGmgP+ZzZ4WvF+/RWwZ6TPhw5QM9O8dP08+frz28Vu/bnkyCewyR+hjoJsNAJ1IbZ0Z/u5btKF2gu7qVO9Cvff4cQuCguBdCFKLf63M1C/Sjkx6Ugb7e952bBnrnwS0rfL24wc4y0JdFD1M+0DNWjtA00Lcf3673bU8mwT2GSH0MdJNhoBOpjTOjv62LNpbyiLVe5Q70kj5//ss3XprEebrb1yiwOQKhApdm1UGyi9NNA32i24cVvmaMt6sM9OXLgpQP9LRVFk0D/eDZg3rf9mQS3GOI1MdA11FiYiK6d++OFi1aoG7dumjatCk++eQT5OXlFXmek5NTsf/YE0KgRYsWZb4mA51IbZwZ/W38ddUt4zzLK+yGMVqaQP/n58+bNjiCxH7avHq+fcTL8tXz/LHP/P0qdwmB3sT/diQ4O1X4mpF+HjLQk5cHKB/oyWsmaxropy6e0vu2J5PgHkOkPga6jr744gu0bt0aU6ZMQUpKCsLCwvDKK6+gevXqSExMlM9zcnJCnTp1kJWVVWStXVv2z6wx0InUxpnR39qfMm99xNqQGRUK9H9+/rz9swmaxHmSczecm367DPTsQe1vGuhL+lfOGe3hQYNloKel+Csf6AnrrJoG+uWrl/W+7ckkuMcQqY+BrqOjR48We+zcuXO4++678e6778rHnJycUK9evUq5JgOdSG2cGf3lWZJvfcTaoEnlDvSU3l1xtXq1Ip8/H/OxRZNAXzX0Qxnnp35qUuTPSgr0OJfvKuW6S0Z6yUDPWOGnfKDHbZitWZzH7ojV+5YnE+EeQ6Q+BrqCWrdujccff1z+MwOdyDw4M/rLGRZXiiPWRpU70LM6f47ztzcEhMDPogdqVb+EuN4lf569stfRiQ/JQN8U+IZmgb5ojC9sVgvmTB+H7KzKC2l7BXr0pgWaBXra3jS9b3kyEe4xROpjoCvm9OnTaNiwIdq3by8fc3JygqOjI+6++244OjqiWbNmcHZ2xokTJ8r89zPQidTGmdHXlT8LS3nEmk+5Az3JuTsS+3XH/HYu8Hp+Er55MVKTOM/0+AKFcxyu+3K4om9ft2eg/zY+CDarBfNmjq3UkLZHoGdn+yFiy1LNAn31odV63/ZkItxjiNTHQFdM586dUb169SJfFBcSEoKQkBDEx8cjPj4ePj4+qFu3Lp544gmcO3fupn/fpUuXcObMGbn2798PIQT27t0r/yVtz5Wfn4/8/HxNrsXFVRUWZ0bfdXDPEaQHh99yJfj4I8HLvcQV5ta7WKCHufW+4fO1WmuDP8aVX2sAoQI7Q14t9ucxXh7FAj3Gy6NSrj1/6niEzpyMsDkTZVRXxkpODkFyckil/p2pK8YifE24ZmvtnrW63/dc5lncY7hKWqQWBrpCfH19IYTA5MmTb/nchQsXQgiBkJCQmz4vICCgxG+AZ6Bzcam5ODM6/99/077SBbq3p+ECPcHLHUk+/bDN8iZSfIv/PvYM9LnTJyJ05mQsmj9B+UBPzpyoaaBvO7BN9/ueyzyLewxXSYvUwkBXRGBgIIQQGDlyZKmeX1BQgHr16uHLL7+86fNu9Ao63+JOpCbOjL6OrD966yPWvBfd9O3cN3uLe3KfyvlWdHusxf2/tc9b3F16yC+ICw+r3Lej2+Mt7slrJmn6De5nLmmzHxMB3GOIjICBroBrcR4YGFjqnykoKEDdunXRqVOnMl2Ln0EnUhtnRl/7MvbdMtAzhv5S7kA//kAzHK7XDJH3fI5fvvDUPcqvX34D29gl0BPce8tAj146QvlA1/qItasFV/W+7clEuMcQqY+BrrNhw4ZBCAFfX98y/dyCBQsghMD3339fpp9joBOpjTOjr11x2299xNrgH8oV6Cn/64qr1f46Xm2fuA9CFGJOF/tHet6Qdkgf0OmWz3tvaAu7BHqcp7MM9GXRw5QP9LgNNs3iPH5nvN63PJkM9xgi9THQdWSxWCCEwAcffICsrKxiCwD27t2L1157DZMmTUJMTAxiY2MxdOhQ1K5dG08//TTOnz9fpmsy0InUxpnR19ZFG0txxNrocgX6unZtACEAITBV/A+PNd5r9zhPdvkWF2fWw9VfqyF/7DNIcnYqOaKdu+JO/wZ2CfRobzcZ6MuXBSkf6FGbwzQL9Mx9mXrf8mQy3GOI1MdA19Fbb71V4he4XVvAX/8ibd++PR566CHUqVMHNWvWRPPmzeHp6YnTp0+X+ZoMdCK1cWb0tXF2XimOWPMuV6AffLK5DPRPxFL0evU3uwf61mGvynPPf5983w2fF+zeBnUD69ol0CMCBspAT0kKUDrQs3P8NX17+7oj6/S+5clkuMcQqY+BbjIMdCK1cWb0tXZKxq0D3dWtzIG+pNtXuFy7FiAEzol6qC0u2P3t7ddePb8W6CuHfHTD5/53SHO7BfqSEUNloK9I91M60DNWBmsa6LtO7tL7lieT4R5DpD4Guskw0InUxpnR1ypL0q0D3aVnmQM98f3W8tXzBaIjWjTZZfdXz3eMfOm6V8/vv+HzEpyd0NC/lt0CfdFoXxnoWVmVF+f2CPTUVSGaBvrR80f1vuXJZLjHEKmPgW4yDHQitXFm9JUTFHvTOM/0mnfLIC0p0Nc98ZgM9C/FfPR5bb5d4zzd7WtcmV0DCBUonCOQ6/nJjV/hdvkabYY+ijsC7PMZ9N/GB8JmtWDuzLGVGuf2CPTEtVM0DfTzl8v2PTJEFcU9hkh9DHSTYaATqY0zo58rlwtu+ep5uue0cgX6/jq1ASFwUdRCA3EaC5zc7RroB8a3kK+eHwxpXqqfWepin3PQ500aAZvVggW/jlE+0OPXz9IszqO2RaGwsFDv255MhnsMkfoY6CbDQCdSG2dGP+d/v3DrI9YGjitXoB/7/1fPl4pP8MqDa+0a5zmDP0XhHAcgVODK7BqlOmItybk74ly+s0ugh04ZDZvVgkXzRikf6DGb5mkW6Em7k/S+5cmEuMcQqY+BbjIMdCK1cWb0c3L3qVsfseYeUK5A3ydqAkKgq5iNwA8m2zHQu+HUlLvlq+c7g1uV+mftEuguPeTnz8PDKvc4NHsEeuSWJZoFeu6BXL1veTIh7jFE6mOgmwwDnUhtnBn9HFl35JaBnuQ6sFyBHvZNJyx4/jt89HAClvW5+ZfMVWStGPAV/vi5ARAqcGFGfSS7fHvT51sGvI9o5y52C/SEAf+TgR61dITSgZ6ZG6Tp5883Hduk9y1PJsQ9hkh9DHSTYaATqY0zo5/89PxbB7pLn3IF+uIeX9vxVfOiK8WlK/aOaYk13m1v+rxFLp3gGOCA2gHV0dHzabsEetxgZxnocdHDlA709LyxmgZ6/ul8vW95MiHuMUTqY6CbDAOdSG2cGf3sjN1+0zjP8gorVZTqHeilXf0H/hsiUEAECnTyfNYugR7j7SoDffmyIKUDPXnNJE0D/eQFzjlpj3sMkfoY6CbDQCdSG2dGP1sXbrhpoGd4zqgygZ7o3A2P+t4pA/1n10/tEuiR/gNloKckBigd6AnrrJoG+pWCK3rf8mRC3GOI1MdANxkGOpHaODP6Wf9/7d15fBT1wcfxAblEUfFEtLWtD/WsttqqT1uvKkLrbbWP1gNQQDSBcF8m2U1CCLmUgFxBziRcIRBCEgiQixASQBQtimgVVDzwFqyiHN/njzRDlt1NdkOy+wv7eb9e83rVzc7uhM7P8cPM/GbW5gZmcH+h0YGedv3TWvfsk80S2xuHPqivpnZR9fD7fV5ncsSddpxf9tw5KglrnnvQc+NG2YG+YX200YG++l8ZAYvzde+uC/bujhDFMQYwH4EeYgh0wGyMmeDZ+kJ5AzO4xzY60O856SUV9n+6yeO8NKyXvpl2jpRl6dD8k/Tq2B4+rXfH6IvtQB859M/NFug5Cc/ZgV5V1bRx3tSBnv9mTsACfdOeTcHe3RGiOMYA5iPQQwyBDpiNMRM8m+NW1xvopREjGx/oly5olrPn7034rf1Ite9ndVL5oEcbPqsd/k+1dZwky2np1Oh2WhX2eLMF+pIUhzLSU5Q1O6nJ47wpA70qwDO47/h8R7B3d4QojjGA+Qj0EEOgA2ZjzATHTwcONzyD+8BnGx3okx6IaPI43/Zcdx3JrInzw5mt9PKoO31a75nh19lnz/8+8nL79eYI9EVp45SRnqLF8xONDvRAz+C+59s9wd7lEaI4xgDmI9BDDIEOmI0xExzffvxd/TO4j81RSbhv95AHYpK4jUP/rp/mtbPPnr87/hqf1isO660LI0+zA33uoAeaNdCzpkxQRnqKchZMMDrQS159MaCBvu/AvmDv8ghRHGMA8xHoIYZAB8zGmAmOvW983iQzuJeE9dHKh+9t1kAvG/iY9qd3tuP8s0k/V0lYb5/WTRjS3Y7z347t4vKzJg/08Cft+89zs5vmPvHmCvQ1r88KWJzn78zX4SOHg73LI0RxjAHMR6CHGAIdMBtjJjg+qPyggRncU30P06uvb8ZA761P035px/l3M0/36b7z2qUg7DE9M/w6nR3VUbFD/tKsgb52cH870PNzxxkd6IVvLAxYoJfuKg327o4QxjEGMB+BHmIIdMBsjJng+HfhzvoniBsS7VuYPttb2zp0bbZAfyf+93acH5zXVlXDHmjU56wOe0Lrjjnr3tSBvnrEs3agr86PMzbQq6ujlLcjN2CBvvXjrcHe3RHCOMYA5iPQQwyBDpiNMRMcby7cVn+gDxriU5RWP3ivPjsmzpsy0N8ed52OZLaSsiy9HvmXJvnM5gr0gucG24G+dnWMEYHudDqVtyJKm6ojVVpS88+r18UF9P7zt794O9i7O0IYxxjAfAR6iCHQAbMxZoJj2/Qqr3FePTZXJeF9fYrS0jv+rk2tf9Gs96C/MqaH3on/vV/rFPtwj3pTB/qKmBF2oJeVOIwL9OqqSK0vj1TpltSABvon+z8J9u6OEMYxBjAfgR5iCHTAbIyZ4Hg5ucT7BHGjM/0K02V9Hm72Wdz9XXqM/h/dM+pSZQ58MGCBvixhrB3olRuijAv02qV42/SABvp/fvpPsHd3hDCOMYD5CPQQQ6ADZmPMBN6RI9ImR4H3CeJGTPYvTJv0MWu9tWnEvccV59Mi7rZnbj8z6mStCet13IG+PGKAnh87WrGOaI2PilT6yKFaG1bzGLr8Qf0U64jWzAlOZaSnKGtWslbkRik21qF1a4+G8dKlUUpJcSgmxqGEBIdmz462f7ahIlKzXorW+PEOxcU5NGlStNaucY3tvLwopabGKDbWqcREhzIzo1S18ejPS4ojlZbmUGysQ8nJDhXkR3m8xD2nIl15b+UpqzxLTqdTmWWZSkpLUkxcjJInJ2vJ5iUugT0jZ4bGJYxT7LhYTZ4/WdMWT1PixESf4rzw7cJg7+4IcRxjAPMR6CGGQAfMxpgJvB++/bHe+8/Lho4LWqDvjLteRzJb6d/jr5Wvj1KruxSH9dZvx3axAz182PXHfQZ95aD+iouO1vzhg1QwqJ+WRwxQynNjNG30cPs9mcMGKjbGqdlTk5Q1e4Li4x1atOjomeslS2qCffGiKJUUR6qoKNL+eXVVpNImOjR1SrTWFNWE9ry50YqPd6hifc36+SujNG6cQ0uWxGnNmngV5EfZkV77GSkpR8N+VWGknn/e4THQl1TOdwn0pMlJylqfpcWbFitlSoqSX0y2A3vu6rmKiYvRnMI5WrJ5iWYsnaHY+FifA33D+xuCvbsjxHGMAcxHoIcYAh0wG2Mm8L7a9U39E8RFjGgwhNf16aX5t0Wo+NmmC/StY/6qwxmt7Fnbt47+m9+fMX7I7XacXxDZSUVhTxx3oE8dPVzTRw1zO6PudDi0rs5rSQmxmjA+VilJMZo8OVrVVUfPbickOJQxP9rjZeiFBTXxvXGj6+tJSQ5lZ9fEdVqaQwuyolwucV+2LEoJCTX3uufnRykmxqGysqPr56/0fAZ9UdUitzPotUGdUZIhp9Op3DdqZnlPmpykKVlTXKI7+cVknwN9+97twd7dEeI4xgDmI9BDDIHnVMZcAAAgAElEQVQOmI0xE3gfv/JJvYFeEj6gwRBecekjkmXptZOu0tTfP3ncgV455B/6cU4HO853J13pd5yvDeulX0SeYQe6Y8it9b7f10BPihyrGIdDsY5ol8XpdCp/UL+a7x7cX3OmJSk2xqm4OKfK64Ty+vKaMC4s8Hxf+sKFUXI6ay5tr7s4nQ7Nm1cT9XFxNZeux8U5/7vU/LPT6dTGykgtXlRzRr3u526o8DyL+7GBnrMtxw7qRVWL5HQ6tXTrUuW9lae4+DjNWTXHJbqnLpzqc6Dv+XZPsHd3hDiOMYD5CPQQQ6ADZmPMBN7u0ve8xnnVmMU+xfC2tldLliVZll78U9/jCvTS8Cf0zfRz7Dj/ckpXlXq5b7y+JWz4dXacX/bcOQ3O5O5roCdGPqf0kUNVMLCf21J7Bn31yDDNmDRBTqdTMTFOrSk6GsqVG+oP9AULas6ElxRHui21l7jHxjq0cEGUioriVVQU7/Ke6qqay+XdAn2Db4G+7PVlboGe/XK290Bf4Hugf/fjd8He3RHiOMYA5iPQQwyBDpiNMRN4b+e+4TXQK0bOaDCEs/82wI7z7Sddrpw+x3eJ+wfJl9tx/v2sU7U+wv/L4xcMfEgdHG3sQJ8U0fDl8b4G+pTRIzRx7Kh6Pys3cqjiYmOUlhKv6dOcSk52aGPl0VhOTPR+iXvBfy9PLy3xPhv7xIkOvTQz2uss7rWXuJc34hL3+gL9eC5xX/XOqmDv6gDHGKAFINBDDIEOmI0xE3jb573sNdDLhyU2HOjnPmIHes4vHz2ue9Bfi7zNjvPDGa21eeTdfsd5cVhvXT/mQjvO7x51iU/r+RroeYP6K9YRrRmjhilvUH8VDOqn7CHPKn3UUPs9E52RSoiP1fwZySotrplFve4s7Tk5rpPErSmK1OLFdSaJS3MoNdWh/JVRKi2J1OpVkcqYH22fic9fWRPg8+bFatWqcSpeF6nc5VF29NdOEjd5csOTxPkT6PYkcavmaMmWJZqR4/skcRs/2BjsXR3gGAO0AAR6iCHQAbMxZgLv1ckV9UwQN7r+qH26r3ZbF0mWpUNWa61+pHejA71yyEP6aW47O9B3xt3gd5yXhPVR6uCedpyfFdVReeGPNmmgl4T10YqIpzVx7CjFRdfcf54cOVZzR0SoJKyPFg4NV6zToVlTk5SRnqKqyiitKYpUTIxDK1cevaw9e0mUkpOPPmZtTp2Ar9wQqTmzo5WQUPPzCRMcSp8RrbJS1zPiL7xQ85i1ceMceuEFh5ZmH/382sesxcQ4lJzkcDuDXlLm9DvQ897K04yldR6zNm+ypiyYouTJyQ0G+pufvRnsXR3gGAO0AAR6iCHQAbMxZgJvy/g1jZ4gbtb1Q+yz55s61jzCrLGB/uWUrnac7510kRrzWLXaM+hRQ29W5+gOih3yF5/X8yfQG1qWpMYoIz1FC2Yneb1MvSkWb5e4+7KUb0316b7xhpbUaamaNGdSg+/7ZP8nwd7VAY4xQAtAoIcYAh0wG2MmsA4dPKLqqJUe43zj6AUNhmhOpwftQM//3cPHFeibRtyn72aeUXPf+aB/NiqM6y754Y/59f6mDPQFk8crIz1F2ZkTjA304m3T/Y7x3O25mpk7U4s3LdaSzUs0PXu626PZvC0/HPwh2Ls7wDEGaAEI9BBDoANmY8wE1v7Pvvd69nz98En1x/nj4frCOlOyLH1ndVRJ38ePK9BLwvqobOBjqhr2wHHHeWOWJgv08CeVMSNZGekpyl3cuHgORKCv3t5wVHsK9NRpqYobH6fYuFglpiVq3tp5Da5X9O+iYO/qgCSOMUBLQKCHGAIdMBtjJrA+/ddnXgO9bIij3hB98dIR9tnzys432a8fT6A3dkkY0l0jh/65wUepBSLQ1w55WhnpKcpIT1F+7jgjA726OkordyxvkkvcfVk27dkU7F0dkMQxBmgJCPQQQ6ADZmPMBNauEu/PQC8ZNKjeEM2+pb8qTrlJP1ptVXzLg40I9N7aHn2zSsP9f8Z53WXWoPvUMbqtLKel20dfrFVhjwc10FeNCrcDvagg1shAr9wSH7A4z3srTzu/2BnsXR2QxDEGaAkI9BBDoANmY8wE1o4lr3uM86qxOSoJf9KnIF3zRC+VDjga2b4G+vbom6UsS/tmnKlNI+5tVFQvC39E50edas/aftOYi7SukWfRmyrQV0YNtQO9ZJ3TyEAveyUtoIH+2XefBXtXByRxjAFaAgI9xBDogNkYM4G1bdpGj4G+YeTMRp/R9iXQKwY/rB/ntrdnbf9X9K1+f09h2OO64rlz7Tjv9txZKgjzb2K45gj03LhRdqBXlEc3eZQ3RaCvfX1WwOI8f2e+Dh0+FOxdHZDEMQZoCQj0EEOgA2ZjzATW5njPj1grH5rQrIG+d9JFRx+plvYLv7+jKOwJXTf2gjrPOz9Ziwf+o9Hb7E+gLxs8QJPHjNT4qEj7GegLh4bbP89JjFT65Alun+V0OlW87mgkF+RHKSnJoXHjHJqZHq2qjUd/tqEiUklJDpfnnjdloBe8sajeqJ63dp5Sp6XazztPnpyszFLPk8pNz56utNlpWvbaMk3JmqKE1ATFxMUoPileU7KmqOydsmDv5oCNYwxgPgI9xBDogNkYM4Hzw76fvN9/HjHSa8jOvXuE5l/1jFY92a9Rgf6v6FvsOP9xbntVDH7Yr5BeG9ZLN4/+hR3np0S31YyIe44rzv0J9LkjIjR7xGAtjxiggoH9lDF8kJwOh7KHPKuSsD5a/EKsHeglxZFaX350qa767yRtVZEaP96hRQujtG5tpJKTHVqyOMoO6FmzorVoYVSDod2YQK/aHNPgWe8pC6YofXm6FlYu1JItSzRt8TTFxMZoUZV72CemJWpu0Vwtrl6siS9N1Pzi+crekq2s8iwlpCbopYyXgr2rAzaOMYD5CPQQQ6ADZmPMBM4X73zlPdDDPcd3SVgfTT9noGRZ+tLqrMI/ut9bXl+gV0Q84nJp+/bom/2O89tHX2zHeXvHSUqL+Ntxx7k/ge5pmTRmpKaNGq6SsD7KnJZoB/qGCs+RvL48Uk6nUxsra/553rxozZ5dczn86lWRev55hx3zDQX6qlXjNGlStGJjHYqPd2jWS9Gq3HD0PTPTozV1arQWLoxSQoJD4+Jj9GLmi1rx5gq/LlWf8PwEzVg6w+W1pVuXKiY2RsteX+b5TPyaeYqNi9Xhw4eDvbsDkjjGAC0BgR5iCHTAbIyZwPmg8gOPcV45ep7XEC3o/7S2Wr+zH6+2/uGH/Ar0T9N+cfTS9kkXqcTPCd3+b+SVdpyf5Gil8UNub5I4P95Af/650Xpp5BCtHdxfGekpdqAnJjqUkODQ5EnRKiw4eka8uipSCQkO5eVFaWNlpCZOdCh7SZSqNkYqNcWhNUU+TvZWFq+EBKemTYvWurWRKiyIUmJizSXzdQN93DiHZs2KVvG6SC0uelGxcbGaXTDb5zhfsWOF4pPi9VLeSy6vz1o5S6nTUr2uN6dwjpKSkoK9qwM2jjGA+Qj0EEOgA2ZjzATO2yve9Hz/+bBEryE68X8ddpy/3eHXHt/jLdBfj/qLHec/NeLS9pKwPlo48CGdH3Wq2jhaK27IX5oszo8n0BcPCVOMw6GVg/qrcMwgZaSnaNbUJGXMjdGaopoz4rNnRcvpdGhV4dG4XrUqUi8871BiokOzZ9fcg56ZGaW5c2pie+JEh5KTXC99P3ZZtChO48Y5Xc6Yr1wZJafTofXlRwM9ccLRM/L5b2Zr4qyJSpvt+0zuM5fPVNz4OOVsy3F5PXVaqlu01y7LXlumCckTVFxcHOxdHbBxjAHMR6CHGAIdMBtjJnBen7XZY6CXDhrmNUZnn9bXDvSy39zpc6Cv6Pugfpjd8eil7Y6bGh3SCwY+pAmDuzdpnDc20JcNHqBYR7Q9SdyKmJH2DO5lJQ6XmJ4yJVpTp3if1b2kuGZiuMoNNZe4L8uJ0vrymnvV1671vM6sWbGaODHG5bUNFTWXz9f+ZcDM9GhN+e/3Vm6Os+8xT5ma4lOczy2aq9i4WGWWuU4St/xfyxUTG6Psrdlu6yz/13IlTU7SjNkzdOgQM7jDHBxjAPMR6CGGQAfMxpgJnC2JxV6ef+45SnN6D9S71i8ly9Ihq7XW9/Z8BtxToOf2fVDvJ1+hw5mt9MWLF8jXS9vzwh89rkenNWegLxs8QHHR0coaNtB+bWlSlDLSU5Q5M9llVvZN1ZHKyopScrLDY2hXV0VqUlrNJe8bNrjenz59WrQWezmLPmtWrNLSGg70qVNrAr30v88/n7JgilKmNBzoc9fMVUxcjDJKMjz+LHFiosc4T56crNRpqfr020+DvZsDLjjGAOYj0EMMgQ6YjTETGAd/PKzqqJVugV4xYqrXIE29Oto+e/56p996D9d67kHfNOJebRz6oE/BvDT8Yf3Pc2fq2rFdtTrsCaMCvfbMeWadOC8J66OFk8YpIz1Fi+YlusX0tGnRmjTJ8xn0pdlRmjYt2iWwayeYmzo1WosWeQ50Xy9xrw30on/N9TnQ5xbVxPn8dfM9/jxtdpqmZ0/3GOcpU1K04o0VOnyEyeFgFo4xgPkI9BBDoANmY8wExtcf7PN4eXvZEKfXgF1w8qN2oJffcHejAt3XZcHAh3Rh5Gn2hHB3jfJ8v3swAr02zmeNHKLV4U/ZS9HAvsqYkVwzSdy0OOWtiFJJcaTWrY3U/HnRcjqdWpHrHtrryyOVOMGh8rKjryUnO5SZGaXVqyIVF+dQ0Wrvk8SNH9/wJHFTp0arujpKK3cs8ynQ5xbNlTPGqVkrZynn1Rx7Wf768ppJ495cobj4OC3auMglzpMmJ2nCCxOUvSVbZTvLtH//fu3fv59Z3GEMjjGA+Qj0EEOgA2ZjzATGRy9/7PnxagPDPMbr/EdG6HPrLMmy9L3VQeX9vF92fryBPnfQ/TonqqMd5+dGnaK5gx4wJtCnjR7u9j6n06nnI8fa95/PSo9RUpLDfvRZWppDK1d6Pgs+Y3q020RwRatrIj0+vibUm+Ixaxu2jHd5znl9gZ4yJcXj7zhp7iTlvZWnzLJMxSfGu6yTVZ7lcR2n06mvv/462Ls8IIljDNASEOghhkAHzMaYCYx/r3rbLc43js7yGq+p//OcffZ8y9n/W2/oegr05U/9n0+RPC3ibp0e3d6O8wsjT9PCge6PcgtmoHtb8iOH2IFeXBTjNaqbcqmoGK+KivE+vbdk21S/nnte3zIla4pezHyx3vf8cPCHYO/mgBuOMYD5CPQQQ6ADZmPMBMYbGVvdAn39sFSv8Zl7Xz8VnH+fPmp1vipuu9fvQN8adVmDgfvC4L+qY3RbO87/57kzlRPu/6PYghXoy8eNtgO9otz7bO3BCvTCNxY1WaDPzp+txdWLvf58/e71wd7FAY84xgDmI9BDDIEOmI0xExgvJ5e4P14tYkTDIfpsb5U808vvQM/rf1+96yQOvkPtHCfZcX7V2POUF/5owOK8KQJ9SaqzZgb3l5IDEuf+BHrt49UCtbzz5TvB3sUBjzjGAOYj0EMMgQ6YjTHT/H7Y95P749XGLFZJ+JNNErq5Tz3k1z3okyL+praO1nacXz/mQq0Kezygcd4UgZ41JUEZ6SnKzppgXKA35eXtvizf/fhdsHdzwCOOMYD5CPQQQ6ADZmPMNL9Ptn3qFujlw1KaLHS3RF7pV6AXhj2uq8d2keW0dOOYi1QUgEeqNXWgr4voZ1/enrfUt0vOAxnoTXl5e0NL6a7SYO/igFccYwDzEeghhkAHzMaYaX47V+xwn7190BCP4Tmj+2gtvuAxLbnX8+zuxy7Vw+/Xp1Na+T2Le374Y+oz4ndaG1b/5fOmBvqqUeF2oK8uiDUq0AN9efuOz3cEexcHvOIYA5iPQA8xBDpgNsZM83t1SuUxs7cv8Bqeszr3lyxLh61WKrz2Hw2Eam99Pe08fTbNajDQg3WWvLkCfUXMSDvQy4odRgV6oC9v//ZAYI6vQGNwjAHMR6CHGAIdMBtjpnkd+umwNjkKXAK9bNgEj9GZ99Qzetf6pR3o5Y/VfxZ8R8wfpSyrwUAfMfTP+lVkZy0N4AztzR3oS1Jj7AniqqoCE+e+BnogL28v310e7F0cqBfHGMB8BHqIIdABszFmmteX737tPnv7wEEeo3PK70bZzz5/9dRrGjx7/u2MsxoM9DFDb1IrR81kcD+PPF154f8Mepgfd6CHP6mM6UnKSE9RzsKEgMW5L4G+Ycv4gJ49f/+b94O9iwP14hgDmI9ADzEEOmA2xkzzem/duy5xXjl6ntfwXNbxATvQ11z3YIOhWjbwce1OulKvx/7SY6BHDr1ZrR2t7NnaHxh5uYrDegc9zI830Ovef75qZZxRgb7m9VkBi/PCtwt18PDBYO/iQL04xgDmI9BDDIEOmI0x07y2z93ienn74EiP0Zn196H6zuooWZb2WaeqtJ/vjz1b9uTDboE+/Ok/ucT5vaMuNSrOjyfQc+NG2YG+vixw9583FOhVm5zK25EbsEB//dPXg717Aw3iGAOYj0APMQQ6YDbGTPPaHL/mmGefew7QWV2fsc+el3a5w6/QXfbkI26B3nq4Zcf5naN+rXWGxfnxBPriF2KVkZ6ihbOTAhrnDQV6yatTAnp5O5PDoSXgGAOYj0APMQQ6YDbGTPPZv/c/rmfPh47zGJwF/frrHetiO9CLH/B+n/h7Cb9V9fD7Gwx0a0RNnPcc1c3IOG9soBcPfEoZM5KVkZ6i3CWBe/55Q4FeXR2l/DezAxbnFe9XBHv3BnzCMQYwH4EeYgh0wGyMmebz/vrdR8+ej81RSXg/j9GZftWQo5PDdfQ+Odz26JulLEuH5p+kHTF/ajDQu4++OKjPOW+OQC8cM8i+vH1NYeCef95QoJdvTQ3o2fNP9n8S7N0b8AnHGMB8BHqIIdABszFmms+rUzfagV4+LMV7qHbsaQf6qj96fhRa5dCH9NPcdlKWJWVZ2u64ud5A/9Ognxsd540N9OXxY+xA31ARZUygF76xkLPngAccYwDzEeghhkAHzMaYaR7/+fIHVUetrHP2/Bmv0bmub2/lXPm4NnX6X5U+4x7VpeFP6NvpZ9tx/mnaL11+7inQs5/8v6AHeHME+sJJ45SRnqJF8xIDHufeAr3slRcCevb8s+8+C/buDfiMYwxgPgI9xBDogNkYM82j7uPVyoaOP66Q/TDlUjvOv5/VSesHud6j7inQa5+DbvLib6AXDXvGPnuev3ycEYFevSmw955v/GBjsHdtwC8cYwDzEeghhkAHzMaYaR6vTKrQpsg8bRy9wOvM7b4sbzhusuP8UMZJ2jzyHvtnziG3anrE3SET6MvGj7UDvaI82ohAL3n1xYCePf/qe8YqWhaOMYD5CPQQQ6ADZmPMNL19nx6dvb0sYozX4My+/9l6A3brmL/qcEZrO9DrTgw3duhNau1opdOi2+uFvj1P+EAvHviUMqcmKiM9RTkLJgQlzo8N9KpNTq3csSxgcf7ap68Fe9cG/MYxBjAfgR5iCHTAbIyZpvfu6re1KTJPG0ame43TjDsi9JPVRus6dlf2X93vT68efr9+mnd0UriPUn+tkv8+Lm3IsP9VK8fR55zfE37pCR/o+VFD7LPna1fHGBHoq/81L2Bxvu7ddTp0+FCwd23AbxxjAPMR6CGGQAfMxphpWkeOSFtTSlQ1ZrFKwgd4Phv8bB+t6vhXe+b2gl/+3e09r0fdap89/+LFC1Qa3kvrwnrr4ZG/scPcclq6Z9SlWvrkwyd8oC9+IVYZ6SlaODtJVVXBifO6gV766qSAxfnKnSv1xX++CPauDTQKxxjAfAR6iCHQAbMxZprWnk17VD02VyWDhnkN09m/i7Dj/ItWZ6n4Kc+PQ3tlTE99NeV8lQ98TAVhj+nW0b90ifP/G3mlisN6n/D3oK8ZNsA+e16QG5zJ4eoGelllqvJ25AYs0N/87M1g79ZAo3GMAcxHoIcYAh0wG2Om6Rz66bBeTlynsiFxXqN0xSMD9KF1gR3oKy9v6HFovTVv0AP6ZeQZdpi3drRSxLAb7Pec6IGekxipjPQUZc5MDsqzz+su6ysStXLrkoDF+csfvawjR44Ee9cGGo1jDGA+Aj3EEOiA2RgzTWdX8bsqH5bsNUiLn+2j/FPvtuN8S8frVPJszX3lr0f+RR8kX6ba+8xrl3FDblPH6LZ2nJ8c3Ubjhtzm8p4TOdBXjQq3z56vyosLapxXbXIof+sirXh1RUDivPKDSh0+cjjYuzVwXDjGAOYj0EMMgQ6YjTHTNH76/qDWj3m+3iCde9mzdpx/a52m1f/ordKwXto14Wp7Mri3Yv/XZZ1JEX+zJ4S7KPJ0zR10v9vnnrCBHv6kFk6KV0Z6ipbMTwzqvefVm6K1anuWVry6IiCBXvF+hX469FOwd2vguHGMAcxHoIcYAh0wG2Omaby6ZHm9MTr/d8/qR6utHei5Vz6qzSPv1r4ZZ9pxrixLn7xwsdtZ9IdGXqHbRv9KBWGPefzsEzXQV8SMtC9tLytxBC3ON26OVeEbC5X3Vl5AAn3rx1s5c44TBscYwHwEeogh0AGzMWaO3+GDh1QyKsJriC7p8Yy+tzrYcV5x7s36MPlSHc5sZYf5kcxWWj3hYv1xzIVaE+Y6adzaMM+TyJ3Igb56ZJgypicFfWK4ipeTtPLNHDuemzPQV+5cqZ1f7Az27gw0KY4xgPkI9BZk//79ioiI0Pnnn6/27dvr6quv1sKFC/36DAIdMBtj5vjtWF9Ub4iue6aPCs+8S7IsfdjtQh2a29rlrPlHL52sv8V3tO8zHzjser9C90QL9NUjwpQ5LVEZ6SnKXxacOK/a5NDa12Yqb4drjDdXoK/fvV7fHgjMcRIIJI4xgPkI9Bake/fuOuOMMzR9+nSVlJSob9++sixLWVlZPn8GgQ6YjTFz/MoTR7vF59oBrv9c+uxj+unJNtK8o2H+fUYrRaW1Uts6j06znJb+OOZnIRvoK0eEH43zIJw5r94UrdJXJ7ucNW/OQC9+r1jvf/M+M7XjhMUxBjAfgd5CFBQUyLIsLViwwOX17t27q2vXrjp06JBPn0OgA2ZjzByfD9/botLw/0Z5/ye17NYn9Np5V+utbpe6BenWiV2lLEv/ybCU/KKlc+Jcw/zasV2VPLiHio+5Bz2UAn3u1EQtnJOkdUUxAQ3zys1xKt42XSt3LKs3qJsi0FfuXKmqD6v00b6PCHOc8DjGAOYj0FuIvn376tRTT9XBgwddXl+wYIEsy1JlZaVPn0OgA2ZjzByfyplR2nTPjfrsqjN1+JRW9n3mOsnS/H8+4BKkLzz3W41Icw3zM6I76IGRl2vmoHsbHbonUqDnLo1T1cYAnCmvjtKGlyeoZNtUewI4X5bGBvqqd1Zp857N2vX1Lh04eCDYuy0QMBxjAPMR6C3EDTfcoD/84Q9ur2/fvl2WZWnGjBk+fU5toK++7zZVPNSj3mV7UYHrdxUVNLhO7VKr9kBQnuD0ab2Swf3dtrn0qYd9WnfjjEku6+3d9Z7P2/vBa9tc1t007yWf1it7/H637S0ZFeHTuqWO0W7rlj9yl0/rvpKz2GW9nRVlPv+u+7/60mXdiolJvv1/82wv99/12V6+fe/EJJf19n/1pc/bu7OizGXdV3IW+7Re+SN3ue9LjtG+/a6jItzWLXv8fp/W3TTvJZf1Pnhtm8+/695d77n8x9PGGZN825eeetj9/5vB/X37c0pwuq3r6/Y2xb8jah3PvyPK+jyo126/Sruv76LDZ9aJ8rrLGZZy7nN9ZNq8QQ/IclrqGtVJD4y8TImD73CbEC4UAn3t4P4qeG6wlowf6xbo69c3fYxv3ByjipcnqOyVNK19LV2rtmdq5Y7ljTr73VCg5+/MV/F7xdq0Z5O2792uD7/9UPsO7ONMOUIWgQ6Yj0BvIbp166YePdz/o/bjjz+WZVkaP368x/UOHDigb7/91l4++OADWZalDy1L3zawLHu6l3bv3m0vy57u1eA6tUvtOtu3b9f27du16dpf+bTerl+d5vKdu3fv1t5z2vq07trbf++yXnHmXJ+3d2XyeJd1C+6+xaf1vjy9ldv2vnXJWT6tu+2qrm7rftPet+3N/ee9LustHz3Y5991S2mxy7rlf7rcp/X2XHCy2/buueBkn9Yt/9PlLuttKS32eXuXjx7ssm7uP+/1ab1v2ltu27vtqq4+rfvWJWe5rfvl6a18Wrfg7ltc1luZPN7n37U4c649Znbv3q21t//ep/X2ntPWbXt3/eo0n9bddO2v3Nb1dXub4t8RtUtz/Dvi6/aW3rmsk5beda7+HtlaA0dfp9yhz9rL8qHP6KWhT7i81hTLvAF93AJ93oA+/n/WsLD/Ls8es4QdXYbXLMtHhmn5yHAtHzVQy0cN1LLRg7RsTIRyxkYoJ3qIcmKGaWnccC1NGKmlKaO1dNJzWpoerez5sVq6NF65ubFavtyp0aNHuywrVsaosChWhUVxKiwap4KicSpYE6+CNeOVvyZB+WsT/7ska+W6FK0ofkEriicqt3iyckumalnJdOWUzdTS8jnKrsjU4g2LtLhysZZULtGSyiXK3pit7I3ZWrpxqcuSU5Wj5dXLlVudqxWbVihvc57yN+erYEuBVr+8WkVbi7TulXUq2liktVVrteH1DareXq2tb27Vtre26Y133tC/3/u3277CwhLqS91jDAtL7fLtt9/yF5cGIdBbiG7duqlnz55ur9cGekJCgsf1HA6H238osrCwsLCwsLCwsLCw1C6Buv0VDSPQW4jGXuJ+7Bn0r7/+Wu+++66++eYbl9eba/nwww9lWZY+/PDDgHwfC0tLXxgzLCy+L4wXFhb/FsYMi7eFM+jmINBbiH79+nmcJG7hwoWyLN8niQu0b78N7KR0QEvHmAF8x3gB/MOYAcxHoLcQhYWFsixLi1eiZPoAABFWSURBVBYtcnm9Z8+efj1mLdA4EAD+YcwAvmO8AP5hzADmI9BbkO7du6tz585KT09XSUmJ+vXrJ8uylJmZGexN84oDAeAfxgzgO8YL4B/GDGA+Ar0F2b9/vwYNGqQuXbqoXbt2uuqqq7Rw4cJgb1a9Dhw4IIfDoQMHeM4s4AvGDOA7xgvgH8YMYD4CHQAAAAAAAxDoAAAAAAAYgEAHAAAAAMAABDoAAAAAAAYg0FuI4uJi9enTR5dccok6duyorl276p577tHLL7/s9t6tW7fqtttu0ymnnKLTTz9d999/v959912X9+zcuVPDhg3TNddco9NPP12dO3fWH//4R2VnZ3v8/r1796pXr14666yzdPLJJ+uGG27QunXr/PodfNkuSfr444/Vq1cvnXPOOWrfvr1+85vf6KWXXvL5e/bt26cRI0aoe/fuOvvss2VZlhwOh9v7Dh06pNTUVPXo0UMXXHCBTj75ZF166aUaNWqUvv76a79+N5ilpY+XiooKPfXUU7rmmmvUrl07WZalXbt2ub3P3+3yZv/+/YqIiND555+v9u3b6+qrr/Y4AaWv24WWJ5hj5sMPP1RERIRuuukmnX766bIsS3PmzPH7d2iOseyJr8cYSTpy5IjS0tJ0ySWXqF27durSpYsGDBigr776yu/fD2YJlTEjSZZleVwSEhJ8+h5/xow/2wWcqAj0FuLBBx/UrbfeqqlTp6qsrEzZ2dm64YYb1KZNGxUXF9vv27Fjhzp16qQbb7xRBQUFysnJ0RVXXKGuXbvqs88+s983efJkXXrppYqPj9eaNWtUWFioXr16ybIsxcTEuHz3gQMHdOWVV+rCCy9UZmam1qxZo3vvvVdt2rRRWVmZT9vv63Z98803+tWvfqULL7xQc+bM0erVq+3tSk1N9em7du3apdNPP1033XST+vbt6/VAsH//fnXq1En9+/dXdna2SktLlZqaqs6dO+vyyy/X999/79P3wTwtfbw4nU5ddNFFuu+++3TLLbd4DWF/tqs+3bt31xlnnKHp06erpKTEHjdZWVmN2i60PMEcM6WlpTr77LN1++2365FHHmlUbDTHdnnj6zFGkoYOHarWrVtr5MiRWrNmjSZOnKjTTjtN1157rX766Se/fkeYJVTGjFQT6A8++KCqqqpclo8++sin7/JnzPizXcCJikBvIfbu3ev22v79+3Xeeefptttus1976KGHdPbZZ7s833L37t1q27atRo4cab/2+eef68iRI26feeedd6pjx44uj9+YMmWKLMvSxo0b7dcOHjyoyy+/XNddd51P2+/rdiUkJMiyLLe/gb7jjjt0yimn+HRm+8iRI/bv9vnnn9d7Bv2LL75wez07O1uWZSkjI8On3w3maenj5fDhw/b/Tk5O9hrC/myXNwUFBbIsSwsWLHB5vXv37uratasOHTrk93ah5QnmmKm7X23ZsqVRsdEc2+WNr8eYPXv26KSTTtLAgQNdXl+wYIEsy1J6erqvvx4MFCpjRqoJ9LCwML8+vy5fx4y/2wWcqAj0Fu7WW2/Vr3/9a0k1EXDyySfr6aefdnvfHXfcoW7dujX4eTExMbIsSx9//LH92u23365LLrnE7b3jx4+XZVnas2dPvZ/pz3bdddddOu+889zeN2nSJFmW5fdz3xs6EHjy/vvvy7IsjR8/3q/vgvlawng5VmNC2NN2edO3b1+deuqpOnjwoMvrtRFRWVnZZNuFlicQY6auxsRGILbLm/qOMUuXLpVlWVq1apXL6/v27ZNlWerRo4df34WW4UQcM8cb6HXVN2aa4s8LOBEQ6C3YN998Y9+bI0lvvfWWLMvSlClT3N47fPhwtWrVSj/88EO9n3nLLbfonHPOcTlr1qVLFz300ENu783Pz5dlWSoqKqr3M/3ZrjvuuEM///nP3d43Y8YMWZalMWPG1Ptdx2pMoM+ZM0eWZWnFihV+fRfM1lLGy7EaE8KetsubG264QX/4wx/cXt++fbssy9KMGTOabLvQsgRqzNTVmNgIxHZ5U98xpvYvuUpKSlxe/+GHH9SqVSudf/75fn0XzHeijhnLstS5c2d16NBB7dq10zXXXKPZs2f7/H111TdmmuLPCzgREOgt2KOPPqo2bdrYl4NXVlZ6Pctce/auvrMDM2fOlGVZSktLc3m9bdu2Hv82c+PGjR4vjT2WP9s1ePBgtW7dWu+//77L+x5//HFZlqX+/fvX+13H8jfQ9+zZo/POO0+///3vXS4hQ8vXUsbLsfwNYW/b5U23bt08nsn7+OOP672ShEA/8QVqzNTVmNgIxHZ5U98xZtu2bbIsS3FxcS6vFxcXy7IstWvXzu/vg9lO1DHzz3/+U1lZWVq/fr2WLl2qv/71r7IsS5GRkT5/Z636xszx/nkBJwoCvYWKjIyUZVmaPHmy/Vrtv9gWLVrk9v7af7F98sknHj+vsLBQ7dq104MPPuh2D1Tbtm01YMAAt3Vqg6P2X6SHDx/WwYMH7aX2b3v92a4333xT7du315///Gdt375dX3zxhV588UV7xuja7Thy5IjLdx17eW4tfwL9yy+/1FVXXaVzzz2X2UJPMC1pvBzLnxD2tl31jZdu3bqpZ8+ebp9VG+jeZukl0E9sgRwzddUXG01xjPF1u5rqGHPTTTfptNNO05IlS/T111+rsrJS3bp100knnaQOHTp4/XNAyxMqY6bWXXfdpTZt2tgTtzXFmGmK7QJOBAR6C+R0OmVZluLj411eb+ylQatXr1aHDh1055136scff3T7ua+X7NbONlq73HzzzY3arsLCQv3sZz+zP+dnP/uZJk+e7HImorS01OW7vIWCr4H+1Vdf6ZprrtFZZ52l1157rd73omVpaePlWL6GcH3bVd944RJ3HCvQY6au+mKjqY4xvmxXUx1j9u7da59trD1rPmrUKF177bW6+OKL6/2zQMsRKmOmrkWLFsmyLBUWFkpqmjHDJe5ADQK9hak9CDidTref1U6u4ensXY8ePTxOrlF7EOjRo4fX2Wu7d++uSy+91O312hnXax+zsWvXLm3ZssVe3nrrrUZv15EjR/T222/rzTff1KFDh+x7+crLyyXVTLJT97u2bNni8SDmS6DXxnnnzp31yiuveH0fWp6WOF6O5UsIN7Rd9Y2Xfv36eZwkbuHChbIsJokLNcEYM3XVFxtNeYw5njFTl69/Cbx371699tpr+uabb/Tjjz+qU6dO6tOnT73roGUIlTFzrNpjxOrVqyU1zZhpiu0CTgQEegsSGxvb4D0///jHP3Tuuedq37599mvvv/++/bf2dRUVFalDhw66/fbb6/0byalTp8qyLFVXV9uvHTx4UFdccYWuv/56n7bdn+061o8//qjrr79ev/3tb336rroa+o+n2jg/44wztGXLFr8/H+ZqyeOlroZC2Nft8qawsNDjJYU9e/Z0e8yaP9uFlidYY6auxj4yqrm3y5vGTESalpam1q1ba+vWrcf13Qi+UBkznvztb39T27Zt9fnnn/v1vQ2NmePdLuBEQKC3ECkpKbIsSz179lRVVZXbUmvHjh069dRTddNNN6mwsFDLli3TlVdeqa5du9r3CUlSRUWFTj75ZP3iF79QSUmJ2+fVff7kgQMHdMUVV+hnP/uZsrKytHbtWt1///1q06aNysrKfNp+X7dLksLDw7V06VKVlpZq1qxZuvrqq3XWWWdp+/btPv95FRYWKjs7W7Nnz5ZlWXrooYeUnZ2t7Oxs/ec//5Ekff/99/rDH/6gVq1aKS0tze3P4N///rfP3weztPTx8tlnn9n76xNPPCHLsjR16lRlZ2e7fIY/21Wf7t27q3PnzkpPT1dJSYn69esny7KUmZnZqO1CyxPMMSPJ3q8SExNlWTWPdKp9zRfNtV3e+HKMkaT09HSlp6eruLhYOTk56tu3r1q1auV1bge0HKEyZpKSktS7d29lZGSotLRUixcv1h133OH1qgFvfB0z/vz3InCiItBbiJtvvtnt3p66S10vv/yybrvtNnXs2FGnnXaa7rvvPrfYdDgc9X5eaWmpy/s//fRTPfHEEzrzzDPVoUMH3XDDDVq7dq1fv4Mv2yVJ9957r84//3y1bdtWXbp0Ue/evbV7926/vuuiiy7y+rvVnvHbtWtXvX8GvXr18us7YY6WPl483cvn6V51f7fLm/3792vQoEHq0qWL2rVrp6uuusrjLLq+bhdanmCPGV+/uz7NsV3e+HKMkWoeEXrZZZepY8eOOvXUU3XjjTcqNzfX598J5gqVMZOXl6c///nPOuecc9SmTRt16tRJN954o8djRH18HTO+bhdwIiPQAQAAAAAwAIEOAAAAAIABCHQAAAAAAAxAoAMAAAAAYAACHQAAAAAAAxDoAAAAAAAYgEAHAAAAAMAABDoAAAAAAAYg0AEAAAAAMACBDgAAAACAAQh0AAAAAAAMQKADAAAAAGAAAh0AAAAAAAMQ6AAAAAAAGIBABwAAAADAAAQ6AAAAAAAGINABAAAAADAAgQ4AAAAAgAEIdAAAAAAADECgAwAAAABgAAIdAAAAAAADEOgAAAAAABiAQAcAAAAAwAAEOgAAAAAABiDQAQAAAAAwAIEOAAAAAIABCHQAAAAAAAxAoAMAAAAAYAACHQAAAAAAAxDoAAAAAAAYgEAHAAAAAMAABDoAAAAAAAYg0AEAAAAAMACBDgAAAACAAQh0AAAAAAAMQKADAAAAAGAAAh0AAAAAAAMQ6AAAAAAAGIBABwAAAADAAAQ6AAAAAAAGINABAAAAADAAgQ4AAAAAgAEIdAAAAAAADECgAwAAAABgAAIdAAAAAAADEOgAAAAAABiAQAcAAAAAwAAEOgAAAAAABiDQAQAAAAAwAIEOAAAAAIABCHQAAAAAAAxAoAMAAAAAYAACHQAAAAAAAxDoAAAAAAAYgEAHAAAAAMAABDoAAAAAAAYg0AEAAAAAMACBDgAAAACAAQh0AAAAAAAMQKADAAAAAGAAAh0AAAAAAAMQ6AAAAAAAGIBABwAAAADAAAQ6AAAAAAAGINABAAAAADAAgQ4AAAAAgAEIdAAAAAAADECgAwAAAABgAAIdAAAAAAADEOgAAAAAABiAQAcAAAAAwAAEOgAAAAAABiDQAQAAAAAwAIEOAAAAAIABCHQAAAAAAAxAoAMAAAAAYAACHQAAAAAAAxDoAAAAAAAYgEAHAAAAAMAABDoAAAAAAAYg0AEAAAAAMACBDgAAAACAAQh0AAAAAAAMQKADAAAAAGAAAh0AAAAAAAMQ6AAAAAAAGIBABwAAAADAAAQ6AAAAAAAGINABAAAAADAAgQ4AAAAAgAEIdAAAAAAADECgAwAAAABgAAIdAAAAAAADEOgAAAAAABiAQAcAAAAAwAAEOgAAAAAABiDQAQAAAAAwAIEOAAAAAIABCHQAAAAAAAxAoAMAAAAAYAACHQAAAAAAAxDoAAAAAAAYgEAHAAAAAMAABDoAAAAAAAYg0AEAAAAAMACBDgAAAACAAQh0AAAAAAAMQKADAAAAAGAAAh0AAAAAAAMQ6AAAAAAAGIBABwAAAADAAAQ6AAAAAAAGINABAAAAADAAgQ4AAAAAgAEIdAAAAAAADECgAwAAAABgAAIdAAAAAAADEOgAAAAAABiAQAcAAAAAwAAEOgAAAAAABiDQAQAAAAAwAIEOAAAAAIABCHQAAAAAAAxAoAMAAAAAYAACHQAAAAAAAxDoAAAAAAAYgEAHAAAAAMAABDoAAAAAAAYg0AEAAAAAMACBDgAAAACAAQh0AAAAAAAMQKADAAAAAGAAAh0AAAAAAAMQ6AAAAAAAGIBABwAAAADAAAQ6AAAAAAAGINABAAAAADAAgQ4AAAAAgAEIdAAAAAAADECgAwAAAABgAAIdAAAAAAADEOgAAAAAABiAQAcAAAAAwAD/D8vceqwZlNGRAAAAAElFTkSuQmCC\" width=\"1000\">"
      ],
      "text/plain": [
       "<IPython.core.display.HTML object>"
      ]
     },
     "metadata": {},
     "output_type": "display_data"
    }
   ],
   "source": [
    "# ----------------\n",
    "# Visualize result\n",
    "# ----------------\n",
    "# Plot\n",
    "fig,(ax1, ax2, ax3) = plt.subplots(3,sharex=True,figsize=(10,15))\n",
    "legend_pos = (0.5, 1.35)\n",
    "legend_col = 2\n",
    "\n",
    "label1 = 'current behaviour - +30%'\n",
    "label2 = 'current behaviour - +50%'\n",
    "label3 = 'september behaviour - +30%'\n",
    "label4 = 'september behaviour - +50%'\n",
    "\n",
    "# Incidence\n",
    "plot_band_binom(ax1, S1a_time, S1a_H_in_binom, 'green', label=label1)\n",
    "plot_band_binom(ax1, S1b_time, S1b_H_in_binom, 'blue', label=label2)\n",
    "plot_band_binom(ax1, S2a_time, S2a_H_in_binom, 'orange', label=label3)\n",
    "plot_band_binom(ax1, S2b_time, S2b_H_in_binom, 'red', label=label4)\n",
    "\n",
    "ax1.scatter(df_sciensano[start_sim:end_sim].index,df_sciensano['H_in'][start_sim:end_sim],color='black',alpha=0.4,linestyle='None',facecolors='none')\n",
    "ax1.legend(loc='upper center', bbox_to_anchor=legend_pos, ncol=legend_col)\n",
    "\n",
    "# Load\n",
    "plot_band_binom(ax2, S1a_time, S1a_H_tot_binom, 'green', label=label1)\n",
    "plot_band_binom(ax2, S1b_time, S1b_H_tot_binom, 'blue', label=label2)\n",
    "plot_band_binom(ax2, S2a_time, S2a_H_tot_binom, 'orange', label=label3)\n",
    "plot_band_binom(ax2, S2b_time, S2b_H_tot_binom, 'red', label=label4)\n",
    "\n",
    "ax2.scatter(df_sciensano[start_sim:end_sim].index,df_sciensano['H_tot'][start_sim:end_sim],color='black',alpha=0.4,linestyle='None',facecolors='none')\n",
    "\n",
    "# British variant\n",
    "plot_band_binom(ax3, S1a_time, S1a_alpha*100, 'green', label=label1, axis=0)\n",
    "plot_band_binom(ax3, S1b_time, S1b_alpha*100, 'blue', label=label2, axis=0)\n",
    "plot_band_binom(ax3, S2a_time, S2a_alpha*100, 'orange', label=label3, axis=0)\n",
    "plot_band_binom(ax3, S2b_time, S2b_alpha*100, 'red', label=label4, axis=0)\n",
    "\n",
    "# Format\n",
    "ax1.set_title('New hospitalizations')\n",
    "ax1.set_ylabel('$H_{in} $(-)')\n",
    "ax1.set_xlim('2020-09-01',end_sim)\n",
    "ax1.axvline(x=pd.to_datetime('2021-01-15'),color='black')\n",
    "ax1.text(pd.Timestamp('2021-01-16'),750, ' introduction \\n new strain', fontsize=10)\n",
    "ax1 = _apply_tick_locator(ax1)\n",
    "ax2.set_title('Total patients in hospital')\n",
    "ax2.set_ylabel('$H_{tot}$ (-)')\n",
    "ax2.set_xlim('2020-09-01',end_sim)\n",
    "ax2.axvline(x=pd.to_datetime('2021-01-15'),color='red')\n",
    "ax2 = _apply_tick_locator(ax2)\n",
    "ax3.set_title('Prevalence of new strain')\n",
    "ax3.set_ylabel('$\\\\alpha$ (%)')\n",
    "ax3.axvline(x=pd.to_datetime('2021-01-15'),color='black')\n",
    "ax3.set_xlim('2020-09-01',end_sim)\n",
    "ax3.set_ylim(0,100)\n",
    "ax3 = _apply_tick_locator(ax3)\n",
    "date_exceed = get_date_of_exceeding_alpha(out_S1a, ['Nc', 'draws'], 0.25)\n",
    "ax3.axvline(x=date_exceed, color='gray')\n",
    "ax3.text(date_exceed+pd.Timedelta('1D'),10, ' exceeding \\n 25% on {}/{}'.format(date_exceed.day, date_exceed.month), \n",
    "         fontsize=10, color='gray')\n",
    "\n",
    "\n",
    "fig.suptitle('Scenarios current contact behaviour')\n",
    "\n",
    "fig_path =  '../../results/predictions/national/restore_v7.0/'\n",
    "fig.savefig(fig_path+'Scenarios'+'.jpg', dpi=400, bbox_inches='tight')"
   ]
  },
  {
   "cell_type": "code",
   "execution_count": null,
   "metadata": {
    "ExecuteTime": {
     "end_time": "2021-02-03T20:59:08.988228Z",
     "start_time": "2021-02-03T20:59:08.909484Z"
    }
   },
   "outputs": [],
   "source": [
    "get_date_of_exceeding_alpha(out_S1b, ['Nc', 'draws'], 0.45)"
   ]
  },
  {
   "cell_type": "code",
   "execution_count": null,
   "metadata": {
    "ExecuteTime": {
     "end_time": "2021-02-03T15:01:37.993108Z",
     "start_time": "2021-02-03T15:01:37.728002Z"
    }
   },
   "outputs": [],
   "source": [
    "check_overtake_duration(out_S1a, ['Nc', 'draws'])"
   ]
  },
  {
   "cell_type": "markdown",
   "metadata": {},
   "source": [
    "## Vaccination effect"
   ]
  },
  {
   "cell_type": "code",
   "execution_count": 55,
   "metadata": {
    "ExecuteTime": {
     "end_time": "2021-02-04T08:22:58.779181Z",
     "start_time": "2021-02-04T08:22:34.524802Z"
    },
    "scrolled": false
   },
   "outputs": [
    {
     "data": {
      "application/javascript": [
       "/* Put everything inside the global mpl namespace */\n",
       "window.mpl = {};\n",
       "\n",
       "\n",
       "mpl.get_websocket_type = function() {\n",
       "    if (typeof(WebSocket) !== 'undefined') {\n",
       "        return WebSocket;\n",
       "    } else if (typeof(MozWebSocket) !== 'undefined') {\n",
       "        return MozWebSocket;\n",
       "    } else {\n",
       "        alert('Your browser does not have WebSocket support. ' +\n",
       "              'Please try Chrome, Safari or Firefox ≥ 6. ' +\n",
       "              'Firefox 4 and 5 are also supported but you ' +\n",
       "              'have to enable WebSockets in about:config.');\n",
       "    };\n",
       "}\n",
       "\n",
       "mpl.figure = function(figure_id, websocket, ondownload, parent_element) {\n",
       "    this.id = figure_id;\n",
       "\n",
       "    this.ws = websocket;\n",
       "\n",
       "    this.supports_binary = (this.ws.binaryType != undefined);\n",
       "\n",
       "    if (!this.supports_binary) {\n",
       "        var warnings = document.getElementById(\"mpl-warnings\");\n",
       "        if (warnings) {\n",
       "            warnings.style.display = 'block';\n",
       "            warnings.textContent = (\n",
       "                \"This browser does not support binary websocket messages. \" +\n",
       "                    \"Performance may be slow.\");\n",
       "        }\n",
       "    }\n",
       "\n",
       "    this.imageObj = new Image();\n",
       "\n",
       "    this.context = undefined;\n",
       "    this.message = undefined;\n",
       "    this.canvas = undefined;\n",
       "    this.rubberband_canvas = undefined;\n",
       "    this.rubberband_context = undefined;\n",
       "    this.format_dropdown = undefined;\n",
       "\n",
       "    this.image_mode = 'full';\n",
       "\n",
       "    this.root = $('<div/>');\n",
       "    this._root_extra_style(this.root)\n",
       "    this.root.attr('style', 'display: inline-block');\n",
       "\n",
       "    $(parent_element).append(this.root);\n",
       "\n",
       "    this._init_header(this);\n",
       "    this._init_canvas(this);\n",
       "    this._init_toolbar(this);\n",
       "\n",
       "    var fig = this;\n",
       "\n",
       "    this.waiting = false;\n",
       "\n",
       "    this.ws.onopen =  function () {\n",
       "            fig.send_message(\"supports_binary\", {value: fig.supports_binary});\n",
       "            fig.send_message(\"send_image_mode\", {});\n",
       "            if (mpl.ratio != 1) {\n",
       "                fig.send_message(\"set_dpi_ratio\", {'dpi_ratio': mpl.ratio});\n",
       "            }\n",
       "            fig.send_message(\"refresh\", {});\n",
       "        }\n",
       "\n",
       "    this.imageObj.onload = function() {\n",
       "            if (fig.image_mode == 'full') {\n",
       "                // Full images could contain transparency (where diff images\n",
       "                // almost always do), so we need to clear the canvas so that\n",
       "                // there is no ghosting.\n",
       "                fig.context.clearRect(0, 0, fig.canvas.width, fig.canvas.height);\n",
       "            }\n",
       "            fig.context.drawImage(fig.imageObj, 0, 0);\n",
       "        };\n",
       "\n",
       "    this.imageObj.onunload = function() {\n",
       "        fig.ws.close();\n",
       "    }\n",
       "\n",
       "    this.ws.onmessage = this._make_on_message_function(this);\n",
       "\n",
       "    this.ondownload = ondownload;\n",
       "}\n",
       "\n",
       "mpl.figure.prototype._init_header = function() {\n",
       "    var titlebar = $(\n",
       "        '<div class=\"ui-dialog-titlebar ui-widget-header ui-corner-all ' +\n",
       "        'ui-helper-clearfix\"/>');\n",
       "    var titletext = $(\n",
       "        '<div class=\"ui-dialog-title\" style=\"width: 100%; ' +\n",
       "        'text-align: center; padding: 3px;\"/>');\n",
       "    titlebar.append(titletext)\n",
       "    this.root.append(titlebar);\n",
       "    this.header = titletext[0];\n",
       "}\n",
       "\n",
       "\n",
       "\n",
       "mpl.figure.prototype._canvas_extra_style = function(canvas_div) {\n",
       "\n",
       "}\n",
       "\n",
       "\n",
       "mpl.figure.prototype._root_extra_style = function(canvas_div) {\n",
       "\n",
       "}\n",
       "\n",
       "mpl.figure.prototype._init_canvas = function() {\n",
       "    var fig = this;\n",
       "\n",
       "    var canvas_div = $('<div/>');\n",
       "\n",
       "    canvas_div.attr('style', 'position: relative; clear: both; outline: 0');\n",
       "\n",
       "    function canvas_keyboard_event(event) {\n",
       "        return fig.key_event(event, event['data']);\n",
       "    }\n",
       "\n",
       "    canvas_div.keydown('key_press', canvas_keyboard_event);\n",
       "    canvas_div.keyup('key_release', canvas_keyboard_event);\n",
       "    this.canvas_div = canvas_div\n",
       "    this._canvas_extra_style(canvas_div)\n",
       "    this.root.append(canvas_div);\n",
       "\n",
       "    var canvas = $('<canvas/>');\n",
       "    canvas.addClass('mpl-canvas');\n",
       "    canvas.attr('style', \"left: 0; top: 0; z-index: 0; outline: 0\")\n",
       "\n",
       "    this.canvas = canvas[0];\n",
       "    this.context = canvas[0].getContext(\"2d\");\n",
       "\n",
       "    var backingStore = this.context.backingStorePixelRatio ||\n",
       "\tthis.context.webkitBackingStorePixelRatio ||\n",
       "\tthis.context.mozBackingStorePixelRatio ||\n",
       "\tthis.context.msBackingStorePixelRatio ||\n",
       "\tthis.context.oBackingStorePixelRatio ||\n",
       "\tthis.context.backingStorePixelRatio || 1;\n",
       "\n",
       "    mpl.ratio = (window.devicePixelRatio || 1) / backingStore;\n",
       "\n",
       "    var rubberband = $('<canvas/>');\n",
       "    rubberband.attr('style', \"position: absolute; left: 0; top: 0; z-index: 1;\")\n",
       "\n",
       "    var pass_mouse_events = true;\n",
       "\n",
       "    canvas_div.resizable({\n",
       "        start: function(event, ui) {\n",
       "            pass_mouse_events = false;\n",
       "        },\n",
       "        resize: function(event, ui) {\n",
       "            fig.request_resize(ui.size.width, ui.size.height);\n",
       "        },\n",
       "        stop: function(event, ui) {\n",
       "            pass_mouse_events = true;\n",
       "            fig.request_resize(ui.size.width, ui.size.height);\n",
       "        },\n",
       "    });\n",
       "\n",
       "    function mouse_event_fn(event) {\n",
       "        if (pass_mouse_events)\n",
       "            return fig.mouse_event(event, event['data']);\n",
       "    }\n",
       "\n",
       "    rubberband.mousedown('button_press', mouse_event_fn);\n",
       "    rubberband.mouseup('button_release', mouse_event_fn);\n",
       "    // Throttle sequential mouse events to 1 every 20ms.\n",
       "    rubberband.mousemove('motion_notify', mouse_event_fn);\n",
       "\n",
       "    rubberband.mouseenter('figure_enter', mouse_event_fn);\n",
       "    rubberband.mouseleave('figure_leave', mouse_event_fn);\n",
       "\n",
       "    canvas_div.on(\"wheel\", function (event) {\n",
       "        event = event.originalEvent;\n",
       "        event['data'] = 'scroll'\n",
       "        if (event.deltaY < 0) {\n",
       "            event.step = 1;\n",
       "        } else {\n",
       "            event.step = -1;\n",
       "        }\n",
       "        mouse_event_fn(event);\n",
       "    });\n",
       "\n",
       "    canvas_div.append(canvas);\n",
       "    canvas_div.append(rubberband);\n",
       "\n",
       "    this.rubberband = rubberband;\n",
       "    this.rubberband_canvas = rubberband[0];\n",
       "    this.rubberband_context = rubberband[0].getContext(\"2d\");\n",
       "    this.rubberband_context.strokeStyle = \"#000000\";\n",
       "\n",
       "    this._resize_canvas = function(width, height) {\n",
       "        // Keep the size of the canvas, canvas container, and rubber band\n",
       "        // canvas in synch.\n",
       "        canvas_div.css('width', width)\n",
       "        canvas_div.css('height', height)\n",
       "\n",
       "        canvas.attr('width', width * mpl.ratio);\n",
       "        canvas.attr('height', height * mpl.ratio);\n",
       "        canvas.attr('style', 'width: ' + width + 'px; height: ' + height + 'px;');\n",
       "\n",
       "        rubberband.attr('width', width);\n",
       "        rubberband.attr('height', height);\n",
       "    }\n",
       "\n",
       "    // Set the figure to an initial 600x600px, this will subsequently be updated\n",
       "    // upon first draw.\n",
       "    this._resize_canvas(600, 600);\n",
       "\n",
       "    // Disable right mouse context menu.\n",
       "    $(this.rubberband_canvas).bind(\"contextmenu\",function(e){\n",
       "        return false;\n",
       "    });\n",
       "\n",
       "    function set_focus () {\n",
       "        canvas.focus();\n",
       "        canvas_div.focus();\n",
       "    }\n",
       "\n",
       "    window.setTimeout(set_focus, 100);\n",
       "}\n",
       "\n",
       "mpl.figure.prototype._init_toolbar = function() {\n",
       "    var fig = this;\n",
       "\n",
       "    var nav_element = $('<div/>');\n",
       "    nav_element.attr('style', 'width: 100%');\n",
       "    this.root.append(nav_element);\n",
       "\n",
       "    // Define a callback function for later on.\n",
       "    function toolbar_event(event) {\n",
       "        return fig.toolbar_button_onclick(event['data']);\n",
       "    }\n",
       "    function toolbar_mouse_event(event) {\n",
       "        return fig.toolbar_button_onmouseover(event['data']);\n",
       "    }\n",
       "\n",
       "    for(var toolbar_ind in mpl.toolbar_items) {\n",
       "        var name = mpl.toolbar_items[toolbar_ind][0];\n",
       "        var tooltip = mpl.toolbar_items[toolbar_ind][1];\n",
       "        var image = mpl.toolbar_items[toolbar_ind][2];\n",
       "        var method_name = mpl.toolbar_items[toolbar_ind][3];\n",
       "\n",
       "        if (!name) {\n",
       "            // put a spacer in here.\n",
       "            continue;\n",
       "        }\n",
       "        var button = $('<button/>');\n",
       "        button.addClass('ui-button ui-widget ui-state-default ui-corner-all ' +\n",
       "                        'ui-button-icon-only');\n",
       "        button.attr('role', 'button');\n",
       "        button.attr('aria-disabled', 'false');\n",
       "        button.click(method_name, toolbar_event);\n",
       "        button.mouseover(tooltip, toolbar_mouse_event);\n",
       "\n",
       "        var icon_img = $('<span/>');\n",
       "        icon_img.addClass('ui-button-icon-primary ui-icon');\n",
       "        icon_img.addClass(image);\n",
       "        icon_img.addClass('ui-corner-all');\n",
       "\n",
       "        var tooltip_span = $('<span/>');\n",
       "        tooltip_span.addClass('ui-button-text');\n",
       "        tooltip_span.html(tooltip);\n",
       "\n",
       "        button.append(icon_img);\n",
       "        button.append(tooltip_span);\n",
       "\n",
       "        nav_element.append(button);\n",
       "    }\n",
       "\n",
       "    var fmt_picker_span = $('<span/>');\n",
       "\n",
       "    var fmt_picker = $('<select/>');\n",
       "    fmt_picker.addClass('mpl-toolbar-option ui-widget ui-widget-content');\n",
       "    fmt_picker_span.append(fmt_picker);\n",
       "    nav_element.append(fmt_picker_span);\n",
       "    this.format_dropdown = fmt_picker[0];\n",
       "\n",
       "    for (var ind in mpl.extensions) {\n",
       "        var fmt = mpl.extensions[ind];\n",
       "        var option = $(\n",
       "            '<option/>', {selected: fmt === mpl.default_extension}).html(fmt);\n",
       "        fmt_picker.append(option);\n",
       "    }\n",
       "\n",
       "    // Add hover states to the ui-buttons\n",
       "    $( \".ui-button\" ).hover(\n",
       "        function() { $(this).addClass(\"ui-state-hover\");},\n",
       "        function() { $(this).removeClass(\"ui-state-hover\");}\n",
       "    );\n",
       "\n",
       "    var status_bar = $('<span class=\"mpl-message\"/>');\n",
       "    nav_element.append(status_bar);\n",
       "    this.message = status_bar[0];\n",
       "}\n",
       "\n",
       "mpl.figure.prototype.request_resize = function(x_pixels, y_pixels) {\n",
       "    // Request matplotlib to resize the figure. Matplotlib will then trigger a resize in the client,\n",
       "    // which will in turn request a refresh of the image.\n",
       "    this.send_message('resize', {'width': x_pixels, 'height': y_pixels});\n",
       "}\n",
       "\n",
       "mpl.figure.prototype.send_message = function(type, properties) {\n",
       "    properties['type'] = type;\n",
       "    properties['figure_id'] = this.id;\n",
       "    this.ws.send(JSON.stringify(properties));\n",
       "}\n",
       "\n",
       "mpl.figure.prototype.send_draw_message = function() {\n",
       "    if (!this.waiting) {\n",
       "        this.waiting = true;\n",
       "        this.ws.send(JSON.stringify({type: \"draw\", figure_id: this.id}));\n",
       "    }\n",
       "}\n",
       "\n",
       "\n",
       "mpl.figure.prototype.handle_save = function(fig, msg) {\n",
       "    var format_dropdown = fig.format_dropdown;\n",
       "    var format = format_dropdown.options[format_dropdown.selectedIndex].value;\n",
       "    fig.ondownload(fig, format);\n",
       "}\n",
       "\n",
       "\n",
       "mpl.figure.prototype.handle_resize = function(fig, msg) {\n",
       "    var size = msg['size'];\n",
       "    if (size[0] != fig.canvas.width || size[1] != fig.canvas.height) {\n",
       "        fig._resize_canvas(size[0], size[1]);\n",
       "        fig.send_message(\"refresh\", {});\n",
       "    };\n",
       "}\n",
       "\n",
       "mpl.figure.prototype.handle_rubberband = function(fig, msg) {\n",
       "    var x0 = msg['x0'] / mpl.ratio;\n",
       "    var y0 = (fig.canvas.height - msg['y0']) / mpl.ratio;\n",
       "    var x1 = msg['x1'] / mpl.ratio;\n",
       "    var y1 = (fig.canvas.height - msg['y1']) / mpl.ratio;\n",
       "    x0 = Math.floor(x0) + 0.5;\n",
       "    y0 = Math.floor(y0) + 0.5;\n",
       "    x1 = Math.floor(x1) + 0.5;\n",
       "    y1 = Math.floor(y1) + 0.5;\n",
       "    var min_x = Math.min(x0, x1);\n",
       "    var min_y = Math.min(y0, y1);\n",
       "    var width = Math.abs(x1 - x0);\n",
       "    var height = Math.abs(y1 - y0);\n",
       "\n",
       "    fig.rubberband_context.clearRect(\n",
       "        0, 0, fig.canvas.width / mpl.ratio, fig.canvas.height / mpl.ratio);\n",
       "\n",
       "    fig.rubberband_context.strokeRect(min_x, min_y, width, height);\n",
       "}\n",
       "\n",
       "mpl.figure.prototype.handle_figure_label = function(fig, msg) {\n",
       "    // Updates the figure title.\n",
       "    fig.header.textContent = msg['label'];\n",
       "}\n",
       "\n",
       "mpl.figure.prototype.handle_cursor = function(fig, msg) {\n",
       "    var cursor = msg['cursor'];\n",
       "    switch(cursor)\n",
       "    {\n",
       "    case 0:\n",
       "        cursor = 'pointer';\n",
       "        break;\n",
       "    case 1:\n",
       "        cursor = 'default';\n",
       "        break;\n",
       "    case 2:\n",
       "        cursor = 'crosshair';\n",
       "        break;\n",
       "    case 3:\n",
       "        cursor = 'move';\n",
       "        break;\n",
       "    }\n",
       "    fig.rubberband_canvas.style.cursor = cursor;\n",
       "}\n",
       "\n",
       "mpl.figure.prototype.handle_message = function(fig, msg) {\n",
       "    fig.message.textContent = msg['message'];\n",
       "}\n",
       "\n",
       "mpl.figure.prototype.handle_draw = function(fig, msg) {\n",
       "    // Request the server to send over a new figure.\n",
       "    fig.send_draw_message();\n",
       "}\n",
       "\n",
       "mpl.figure.prototype.handle_image_mode = function(fig, msg) {\n",
       "    fig.image_mode = msg['mode'];\n",
       "}\n",
       "\n",
       "mpl.figure.prototype.updated_canvas_event = function() {\n",
       "    // Called whenever the canvas gets updated.\n",
       "    this.send_message(\"ack\", {});\n",
       "}\n",
       "\n",
       "// A function to construct a web socket function for onmessage handling.\n",
       "// Called in the figure constructor.\n",
       "mpl.figure.prototype._make_on_message_function = function(fig) {\n",
       "    return function socket_on_message(evt) {\n",
       "        if (evt.data instanceof Blob) {\n",
       "            /* FIXME: We get \"Resource interpreted as Image but\n",
       "             * transferred with MIME type text/plain:\" errors on\n",
       "             * Chrome.  But how to set the MIME type?  It doesn't seem\n",
       "             * to be part of the websocket stream */\n",
       "            evt.data.type = \"image/png\";\n",
       "\n",
       "            /* Free the memory for the previous frames */\n",
       "            if (fig.imageObj.src) {\n",
       "                (window.URL || window.webkitURL).revokeObjectURL(\n",
       "                    fig.imageObj.src);\n",
       "            }\n",
       "\n",
       "            fig.imageObj.src = (window.URL || window.webkitURL).createObjectURL(\n",
       "                evt.data);\n",
       "            fig.updated_canvas_event();\n",
       "            fig.waiting = false;\n",
       "            return;\n",
       "        }\n",
       "        else if (typeof evt.data === 'string' && evt.data.slice(0, 21) == \"data:image/png;base64\") {\n",
       "            fig.imageObj.src = evt.data;\n",
       "            fig.updated_canvas_event();\n",
       "            fig.waiting = false;\n",
       "            return;\n",
       "        }\n",
       "\n",
       "        var msg = JSON.parse(evt.data);\n",
       "        var msg_type = msg['type'];\n",
       "\n",
       "        // Call the  \"handle_{type}\" callback, which takes\n",
       "        // the figure and JSON message as its only arguments.\n",
       "        try {\n",
       "            var callback = fig[\"handle_\" + msg_type];\n",
       "        } catch (e) {\n",
       "            console.log(\"No handler for the '\" + msg_type + \"' message type: \", msg);\n",
       "            return;\n",
       "        }\n",
       "\n",
       "        if (callback) {\n",
       "            try {\n",
       "                // console.log(\"Handling '\" + msg_type + \"' message: \", msg);\n",
       "                callback(fig, msg);\n",
       "            } catch (e) {\n",
       "                console.log(\"Exception inside the 'handler_\" + msg_type + \"' callback:\", e, e.stack, msg);\n",
       "            }\n",
       "        }\n",
       "    };\n",
       "}\n",
       "\n",
       "// from http://stackoverflow.com/questions/1114465/getting-mouse-location-in-canvas\n",
       "mpl.findpos = function(e) {\n",
       "    //this section is from http://www.quirksmode.org/js/events_properties.html\n",
       "    var targ;\n",
       "    if (!e)\n",
       "        e = window.event;\n",
       "    if (e.target)\n",
       "        targ = e.target;\n",
       "    else if (e.srcElement)\n",
       "        targ = e.srcElement;\n",
       "    if (targ.nodeType == 3) // defeat Safari bug\n",
       "        targ = targ.parentNode;\n",
       "\n",
       "    // jQuery normalizes the pageX and pageY\n",
       "    // pageX,Y are the mouse positions relative to the document\n",
       "    // offset() returns the position of the element relative to the document\n",
       "    var x = e.pageX - $(targ).offset().left;\n",
       "    var y = e.pageY - $(targ).offset().top;\n",
       "\n",
       "    return {\"x\": x, \"y\": y};\n",
       "};\n",
       "\n",
       "/*\n",
       " * return a copy of an object with only non-object keys\n",
       " * we need this to avoid circular references\n",
       " * http://stackoverflow.com/a/24161582/3208463\n",
       " */\n",
       "function simpleKeys (original) {\n",
       "  return Object.keys(original).reduce(function (obj, key) {\n",
       "    if (typeof original[key] !== 'object')\n",
       "        obj[key] = original[key]\n",
       "    return obj;\n",
       "  }, {});\n",
       "}\n",
       "\n",
       "mpl.figure.prototype.mouse_event = function(event, name) {\n",
       "    var canvas_pos = mpl.findpos(event)\n",
       "\n",
       "    if (name === 'button_press')\n",
       "    {\n",
       "        this.canvas.focus();\n",
       "        this.canvas_div.focus();\n",
       "    }\n",
       "\n",
       "    var x = canvas_pos.x * mpl.ratio;\n",
       "    var y = canvas_pos.y * mpl.ratio;\n",
       "\n",
       "    this.send_message(name, {x: x, y: y, button: event.button,\n",
       "                             step: event.step,\n",
       "                             guiEvent: simpleKeys(event)});\n",
       "\n",
       "    /* This prevents the web browser from automatically changing to\n",
       "     * the text insertion cursor when the button is pressed.  We want\n",
       "     * to control all of the cursor setting manually through the\n",
       "     * 'cursor' event from matplotlib */\n",
       "    event.preventDefault();\n",
       "    return false;\n",
       "}\n",
       "\n",
       "mpl.figure.prototype._key_event_extra = function(event, name) {\n",
       "    // Handle any extra behaviour associated with a key event\n",
       "}\n",
       "\n",
       "mpl.figure.prototype.key_event = function(event, name) {\n",
       "\n",
       "    // Prevent repeat events\n",
       "    if (name == 'key_press')\n",
       "    {\n",
       "        if (event.which === this._key)\n",
       "            return;\n",
       "        else\n",
       "            this._key = event.which;\n",
       "    }\n",
       "    if (name == 'key_release')\n",
       "        this._key = null;\n",
       "\n",
       "    var value = '';\n",
       "    if (event.ctrlKey && event.which != 17)\n",
       "        value += \"ctrl+\";\n",
       "    if (event.altKey && event.which != 18)\n",
       "        value += \"alt+\";\n",
       "    if (event.shiftKey && event.which != 16)\n",
       "        value += \"shift+\";\n",
       "\n",
       "    value += 'k';\n",
       "    value += event.which.toString();\n",
       "\n",
       "    this._key_event_extra(event, name);\n",
       "\n",
       "    this.send_message(name, {key: value,\n",
       "                             guiEvent: simpleKeys(event)});\n",
       "    return false;\n",
       "}\n",
       "\n",
       "mpl.figure.prototype.toolbar_button_onclick = function(name) {\n",
       "    if (name == 'download') {\n",
       "        this.handle_save(this, null);\n",
       "    } else {\n",
       "        this.send_message(\"toolbar_button\", {name: name});\n",
       "    }\n",
       "};\n",
       "\n",
       "mpl.figure.prototype.toolbar_button_onmouseover = function(tooltip) {\n",
       "    this.message.textContent = tooltip;\n",
       "};\n",
       "mpl.toolbar_items = [[\"Home\", \"Reset original view\", \"fa fa-home icon-home\", \"home\"], [\"Back\", \"Back to previous view\", \"fa fa-arrow-left icon-arrow-left\", \"back\"], [\"Forward\", \"Forward to next view\", \"fa fa-arrow-right icon-arrow-right\", \"forward\"], [\"\", \"\", \"\", \"\"], [\"Pan\", \"Pan axes with left mouse, zoom with right\", \"fa fa-arrows icon-move\", \"pan\"], [\"Zoom\", \"Zoom to rectangle\", \"fa fa-square-o icon-check-empty\", \"zoom\"], [\"\", \"\", \"\", \"\"], [\"Download\", \"Download plot\", \"fa fa-floppy-o icon-save\", \"download\"]];\n",
       "\n",
       "mpl.extensions = [\"eps\", \"jpeg\", \"pdf\", \"png\", \"ps\", \"raw\", \"svg\", \"tif\"];\n",
       "\n",
       "mpl.default_extension = \"png\";var comm_websocket_adapter = function(comm) {\n",
       "    // Create a \"websocket\"-like object which calls the given IPython comm\n",
       "    // object with the appropriate methods. Currently this is a non binary\n",
       "    // socket, so there is still some room for performance tuning.\n",
       "    var ws = {};\n",
       "\n",
       "    ws.close = function() {\n",
       "        comm.close()\n",
       "    };\n",
       "    ws.send = function(m) {\n",
       "        //console.log('sending', m);\n",
       "        comm.send(m);\n",
       "    };\n",
       "    // Register the callback with on_msg.\n",
       "    comm.on_msg(function(msg) {\n",
       "        //console.log('receiving', msg['content']['data'], msg);\n",
       "        // Pass the mpl event to the overridden (by mpl) onmessage function.\n",
       "        ws.onmessage(msg['content']['data'])\n",
       "    });\n",
       "    return ws;\n",
       "}\n",
       "\n",
       "mpl.mpl_figure_comm = function(comm, msg) {\n",
       "    // This is the function which gets called when the mpl process\n",
       "    // starts-up an IPython Comm through the \"matplotlib\" channel.\n",
       "\n",
       "    var id = msg.content.data.id;\n",
       "    // Get hold of the div created by the display call when the Comm\n",
       "    // socket was opened in Python.\n",
       "    var element = $(\"#\" + id);\n",
       "    var ws_proxy = comm_websocket_adapter(comm)\n",
       "\n",
       "    function ondownload(figure, format) {\n",
       "        window.open(figure.imageObj.src);\n",
       "    }\n",
       "\n",
       "    var fig = new mpl.figure(id, ws_proxy,\n",
       "                           ondownload,\n",
       "                           element.get(0));\n",
       "\n",
       "    // Call onopen now - mpl needs it, as it is assuming we've passed it a real\n",
       "    // web socket which is closed, not our websocket->open comm proxy.\n",
       "    ws_proxy.onopen();\n",
       "\n",
       "    fig.parent_element = element.get(0);\n",
       "    fig.cell_info = mpl.find_output_cell(\"<div id='\" + id + \"'></div>\");\n",
       "    if (!fig.cell_info) {\n",
       "        console.error(\"Failed to find cell for figure\", id, fig);\n",
       "        return;\n",
       "    }\n",
       "\n",
       "    var output_index = fig.cell_info[2]\n",
       "    var cell = fig.cell_info[0];\n",
       "\n",
       "};\n",
       "\n",
       "mpl.figure.prototype.handle_close = function(fig, msg) {\n",
       "    var width = fig.canvas.width/mpl.ratio\n",
       "    fig.root.unbind('remove')\n",
       "\n",
       "    // Update the output cell to use the data from the current canvas.\n",
       "    fig.push_to_output();\n",
       "    var dataURL = fig.canvas.toDataURL();\n",
       "    // Re-enable the keyboard manager in IPython - without this line, in FF,\n",
       "    // the notebook keyboard shortcuts fail.\n",
       "    IPython.keyboard_manager.enable()\n",
       "    $(fig.parent_element).html('<img src=\"' + dataURL + '\" width=\"' + width + '\">');\n",
       "    fig.close_ws(fig, msg);\n",
       "}\n",
       "\n",
       "mpl.figure.prototype.close_ws = function(fig, msg){\n",
       "    fig.send_message('closing', msg);\n",
       "    // fig.ws.close()\n",
       "}\n",
       "\n",
       "mpl.figure.prototype.push_to_output = function(remove_interactive) {\n",
       "    // Turn the data on the canvas into data in the output cell.\n",
       "    var width = this.canvas.width/mpl.ratio\n",
       "    var dataURL = this.canvas.toDataURL();\n",
       "    this.cell_info[1]['text/html'] = '<img src=\"' + dataURL + '\" width=\"' + width + '\">';\n",
       "}\n",
       "\n",
       "mpl.figure.prototype.updated_canvas_event = function() {\n",
       "    // Tell IPython that the notebook contents must change.\n",
       "    IPython.notebook.set_dirty(true);\n",
       "    this.send_message(\"ack\", {});\n",
       "    var fig = this;\n",
       "    // Wait a second, then push the new image to the DOM so\n",
       "    // that it is saved nicely (might be nice to debounce this).\n",
       "    setTimeout(function () { fig.push_to_output() }, 1000);\n",
       "}\n",
       "\n",
       "mpl.figure.prototype._init_toolbar = function() {\n",
       "    var fig = this;\n",
       "\n",
       "    var nav_element = $('<div/>');\n",
       "    nav_element.attr('style', 'width: 100%');\n",
       "    this.root.append(nav_element);\n",
       "\n",
       "    // Define a callback function for later on.\n",
       "    function toolbar_event(event) {\n",
       "        return fig.toolbar_button_onclick(event['data']);\n",
       "    }\n",
       "    function toolbar_mouse_event(event) {\n",
       "        return fig.toolbar_button_onmouseover(event['data']);\n",
       "    }\n",
       "\n",
       "    for(var toolbar_ind in mpl.toolbar_items){\n",
       "        var name = mpl.toolbar_items[toolbar_ind][0];\n",
       "        var tooltip = mpl.toolbar_items[toolbar_ind][1];\n",
       "        var image = mpl.toolbar_items[toolbar_ind][2];\n",
       "        var method_name = mpl.toolbar_items[toolbar_ind][3];\n",
       "\n",
       "        if (!name) { continue; };\n",
       "\n",
       "        var button = $('<button class=\"btn btn-default\" href=\"#\" title=\"' + name + '\"><i class=\"fa ' + image + ' fa-lg\"></i></button>');\n",
       "        button.click(method_name, toolbar_event);\n",
       "        button.mouseover(tooltip, toolbar_mouse_event);\n",
       "        nav_element.append(button);\n",
       "    }\n",
       "\n",
       "    // Add the status bar.\n",
       "    var status_bar = $('<span class=\"mpl-message\" style=\"text-align:right; float: right;\"/>');\n",
       "    nav_element.append(status_bar);\n",
       "    this.message = status_bar[0];\n",
       "\n",
       "    // Add the close button to the window.\n",
       "    var buttongrp = $('<div class=\"btn-group inline pull-right\"></div>');\n",
       "    var button = $('<button class=\"btn btn-mini btn-primary\" href=\"#\" title=\"Stop Interaction\"><i class=\"fa fa-power-off icon-remove icon-large\"></i></button>');\n",
       "    button.click(function (evt) { fig.handle_close(fig, {}); } );\n",
       "    button.mouseover('Stop Interaction', toolbar_mouse_event);\n",
       "    buttongrp.append(button);\n",
       "    var titlebar = this.root.find($('.ui-dialog-titlebar'));\n",
       "    titlebar.prepend(buttongrp);\n",
       "}\n",
       "\n",
       "mpl.figure.prototype._root_extra_style = function(el){\n",
       "    var fig = this\n",
       "    el.on(\"remove\", function(){\n",
       "\tfig.close_ws(fig, {});\n",
       "    });\n",
       "}\n",
       "\n",
       "mpl.figure.prototype._canvas_extra_style = function(el){\n",
       "    // this is important to make the div 'focusable\n",
       "    el.attr('tabindex', 0)\n",
       "    // reach out to IPython and tell the keyboard manager to turn it's self\n",
       "    // off when our div gets focus\n",
       "\n",
       "    // location in version 3\n",
       "    if (IPython.notebook.keyboard_manager) {\n",
       "        IPython.notebook.keyboard_manager.register_events(el);\n",
       "    }\n",
       "    else {\n",
       "        // location in version 2\n",
       "        IPython.keyboard_manager.register_events(el);\n",
       "    }\n",
       "\n",
       "}\n",
       "\n",
       "mpl.figure.prototype._key_event_extra = function(event, name) {\n",
       "    var manager = IPython.notebook.keyboard_manager;\n",
       "    if (!manager)\n",
       "        manager = IPython.keyboard_manager;\n",
       "\n",
       "    // Check for shift+enter\n",
       "    if (event.shiftKey && event.which == 13) {\n",
       "        this.canvas_div.blur();\n",
       "        // select the cell after this one\n",
       "        var index = IPython.notebook.find_cell_index(this.cell_info[0]);\n",
       "        IPython.notebook.select(index + 1);\n",
       "    }\n",
       "}\n",
       "\n",
       "mpl.figure.prototype.handle_save = function(fig, msg) {\n",
       "    fig.ondownload(fig, null);\n",
       "}\n",
       "\n",
       "\n",
       "mpl.find_output_cell = function(html_output) {\n",
       "    // Return the cell and output element which can be found *uniquely* in the notebook.\n",
       "    // Note - this is a bit hacky, but it is done because the \"notebook_saving.Notebook\"\n",
       "    // IPython event is triggered only after the cells have been serialised, which for\n",
       "    // our purposes (turning an active figure into a static one), is too late.\n",
       "    var cells = IPython.notebook.get_cells();\n",
       "    var ncells = cells.length;\n",
       "    for (var i=0; i<ncells; i++) {\n",
       "        var cell = cells[i];\n",
       "        if (cell.cell_type === 'code'){\n",
       "            for (var j=0; j<cell.output_area.outputs.length; j++) {\n",
       "                var data = cell.output_area.outputs[j];\n",
       "                if (data.data) {\n",
       "                    // IPython >= 3 moved mimebundle to data attribute of output\n",
       "                    data = data.data;\n",
       "                }\n",
       "                if (data['text/html'] == html_output) {\n",
       "                    return [cell, data, j];\n",
       "                }\n",
       "            }\n",
       "        }\n",
       "    }\n",
       "}\n",
       "\n",
       "// Register the function which deals with the matplotlib target/channel.\n",
       "// The kernel may be null if the page has been refreshed.\n",
       "if (IPython.notebook.kernel != null) {\n",
       "    IPython.notebook.kernel.comm_manager.register_target('matplotlib', mpl.mpl_figure_comm);\n",
       "}\n"
      ],
      "text/plain": [
       "<IPython.core.display.Javascript object>"
      ]
     },
     "metadata": {},
     "output_type": "display_data"
    },
    {
     "data": {
      "text/html": [
       "<img src=\"data:image/png;base64,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\" width=\"1000\">"
      ],
      "text/plain": [
       "<IPython.core.display.HTML object>"
      ]
     },
     "metadata": {},
     "output_type": "display_data"
    }
   ],
   "source": [
    "# ----------------\n",
    "# Visualize result\n",
    "# ----------------\n",
    "# Plot\n",
    "fig,(ax1, ax2, ax3) = plt.subplots(3,sharex=True,figsize=(10,15))\n",
    "legend_pos = (0.5, 1.35)\n",
    "legend_col = 2\n",
    "\n",
    "label1 = 'current behaviour - +50% - no vaccination'\n",
    "label2 = 'current behaviour - +50%'\n",
    "label3 = 'september behaviour - +30 - no vaccination%'\n",
    "label4 = 'september behaviour - +50%'\n",
    "\n",
    "# Incidence\n",
    "plot_band_binom(ax1, S4a_time, S4a_H_in_binom, 'green', label=label1)\n",
    "plot_band_binom(ax1, S1b_time, S1b_H_in_binom, 'blue', label=label2)\n",
    "plot_band_binom(ax1, S3a_time, S3a_H_in_binom, 'orange', label=label3)\n",
    "plot_band_binom(ax1, S2b_time, S2b_H_in_binom, 'red', label=label4)\n",
    "\n",
    "ax1.scatter(df_sciensano[start_sim:end_sim].index,df_sciensano['H_in'][start_sim:end_sim],color='black',alpha=0.4,linestyle='None',facecolors='none')\n",
    "ax1.legend(loc='upper center', bbox_to_anchor=legend_pos, ncol=legend_col)\n",
    "\n",
    "# Load\n",
    "plot_band_binom(ax2, S4a_time, S4a_H_tot_binom, 'green', label=label1)\n",
    "plot_band_binom(ax2, S1b_time, S1b_H_tot_binom, 'blue', label=label2)\n",
    "plot_band_binom(ax2, S3a_time, S3a_H_tot_binom, 'orange', label=label3)\n",
    "plot_band_binom(ax2, S2b_time, S2b_H_tot_binom, 'red', label=label4)\n",
    "\n",
    "ax2.scatter(df_sciensano[start_sim:end_sim].index,df_sciensano['H_tot'][start_sim:end_sim],color='black',alpha=0.4,linestyle='None',facecolors='none')\n",
    "\n",
    "# British variant\n",
    "plot_band_binom(ax3, S4a_time, S4a_alpha*100, 'green', label=label1, axis=0)\n",
    "plot_band_binom(ax3, S1b_time, S1b_alpha*100, 'blue', label=label2, axis=0)\n",
    "plot_band_binom(ax3, S3a_time, S3a_alpha*100, 'orange', label=label3, axis=0)\n",
    "plot_band_binom(ax3, S2b_time, S2b_alpha*100, 'red', label=label4, axis=0)\n",
    "\n",
    "# Format\n",
    "ax1.set_title('New hospitalizations')\n",
    "ax1.set_ylabel('$H_{in} $(-)')\n",
    "ax1.set_xlim('2020-09-01',end_sim)\n",
    "ax1.axvline(x=pd.to_datetime('2021-01-15'),color='black')\n",
    "ax1.text(pd.Timestamp('2021-01-16'),750, ' introduction \\n new strain', fontsize=10)\n",
    "ax1 = _apply_tick_locator(ax1)\n",
    "ax2.set_title('Total patients in hospital')\n",
    "ax2.set_ylabel('$H_{tot}$ (-)')\n",
    "ax2.set_xlim('2020-09-01',end_sim)\n",
    "ax2.axvline(x=pd.to_datetime('2021-01-15'),color='red')\n",
    "ax2 = _apply_tick_locator(ax2)\n",
    "ax3.set_title('Prevalence of new strain')\n",
    "ax3.set_ylabel('$\\\\alpha$ (%)')\n",
    "ax3.axvline(x=pd.to_datetime('2021-01-15'),color='black')\n",
    "ax3.set_xlim('2020-09-01',end_sim)\n",
    "ax3.set_ylim(0,100)\n",
    "ax3 = _apply_tick_locator(ax3)\n",
    "# date_exceed = get_date_of_exceeding_alpha(out_S4a, ['Nc', 'draws'], 0.25)\n",
    "# ax3.axvline(x=date_exceed, color='gray')\n",
    "# ax3.text(date_exceed+pd.Timedelta('1D'),10, ' exceeding \\n 25% on {}/{}'.format(date_exceed.day, date_exceed.month), \n",
    "#          fontsize=10, color='gray')\n",
    "\n",
    "\n",
    "fig.suptitle('Scenarios current contact behaviour')\n",
    "\n",
    "fig_path =  '../../results/predictions/national/restore_v7.0/'\n",
    "fig.savefig(fig_path+'Scenarios_vaccination'+'.jpg', dpi=400, bbox_inches='tight')"
   ]
  },
  {
   "cell_type": "markdown",
   "metadata": {
    "heading_collapsed": true
   },
   "source": [
    "# Alternative scenarios A1"
   ]
  },
  {
   "cell_type": "code",
   "execution_count": null,
   "metadata": {
    "ExecuteTime": {
     "end_time": "2021-01-27T09:32:33.725372Z",
     "start_time": "2021-01-27T09:32:33.685124Z"
    },
    "hidden": true
   },
   "outputs": [],
   "source": [
    "start_sim1 = '2020-09-01'\n",
    "end_sim1 = '2021-01-15' # Initiate new strain on 15 Jan\n",
    "end_sim2 = '2021-05-01'\n",
    "warmup = 0\n",
    "n_samples = 5\n",
    "n_draws_per_sample = 50\n",
    "effectivity = 0.9\n",
    "portion_new_strain_introduced = 0.001\n",
    "scenario = '1'"
   ]
  },
  {
   "cell_type": "markdown",
   "metadata": {
    "heading_collapsed": true,
    "hidden": true
   },
   "source": [
    "## A1a - vacc - old strain"
   ]
  },
  {
   "cell_type": "code",
   "execution_count": null,
   "metadata": {
    "ExecuteTime": {
     "end_time": "2021-01-25T12:04:35.340868Z",
     "start_time": "2021-01-25T12:04:25.177737Z"
    },
    "hidden": true
   },
   "outputs": [],
   "source": [
    "model_A1a = vaccin_model(initial_states_sept, scenario=scenario,Nc_fun=report7_policy_function, N_vacc_fun=None)\n",
    "out_A1a = model_A1a.sim(end_sim2,start_date=start_sim1,warmup=warmup,N=n_samples,draw_fcn=draw_fcn,samples=samples_dict,verbose=True)"
   ]
  },
  {
   "cell_type": "code",
   "execution_count": null,
   "metadata": {
    "ExecuteTime": {
     "end_time": "2021-01-25T12:04:35.482019Z",
     "start_time": "2021-01-25T12:04:35.345674Z"
    },
    "hidden": true
   },
   "outputs": [],
   "source": [
    "A1a_H_in_binom = sample_from_binomial(out_A1a, 'H_in', n_draws_per_sample, n_samples, LL, UL)\n",
    "A1a_time = out_A1a[\"time\"].values\n",
    "A1a_alpha = out_A1a['alpha'].mean(dim=\"Nc\").values"
   ]
  },
  {
   "cell_type": "markdown",
   "metadata": {
    "heading_collapsed": true,
    "hidden": true
   },
   "source": [
    "## A1b - no vacc - new strain"
   ]
  },
  {
   "cell_type": "code",
   "execution_count": null,
   "metadata": {
    "ExecuteTime": {
     "end_time": "2021-01-25T12:04:50.728468Z",
     "start_time": "2021-01-25T12:04:35.490290Z"
    },
    "hidden": true
   },
   "outputs": [],
   "source": [
    "model_A1b = vaccin_model(initial_states_sept, scenario=scenario,Nc_fun=report7_policy_function, N_vacc_fun=None)\n",
    "out_A1b = model_A1b.sim(end_sim1,start_date=start_sim1,warmup=warmup,N=n_samples,draw_fcn=draw_fcn,samples=samples_dict,verbose=True)\n",
    "\n",
    "# Average and pass on state variables\n",
    "initial_states_2 = out_A1b.sel(time=end_sim1).mean(dim=\"draws\")\n",
    "# One promille of British variant on January 15th 2021\n",
    "initial_states_2['alpha'].values = portion_new_strain_introduced*np.ones(9)\n",
    "# Re-Initialize\n",
    "model_A1b_part2 = vaccin_model(initial_states_2, scenario=scenario,Nc_fun=report7_policy_function, N_vacc_fun=None)\n",
    "out_A1b_part2 = model_A1b_part2.sim(end_sim2,start_date=end_sim1,warmup=warmup,N=n_samples,draw_fcn=draw_fcn,samples=samples_dict,verbose=True)"
   ]
  },
  {
   "cell_type": "code",
   "execution_count": null,
   "metadata": {
    "ExecuteTime": {
     "end_time": "2021-01-25T12:04:50.835779Z",
     "start_time": "2021-01-25T12:04:50.733020Z"
    },
    "hidden": true
   },
   "outputs": [],
   "source": [
    "A1b_H_in_binom = sample_from_binomial(out_A1b, 'H_in', n_draws_per_sample, n_samples, LL, UL)\n",
    "A1b_H_in_binom = sample_from_binomial(out_A1b_part2, 'H_in', n_draws_per_sample, n_samples, LL, UL, A1b_H_in_binom)"
   ]
  },
  {
   "cell_type": "code",
   "execution_count": null,
   "metadata": {
    "ExecuteTime": {
     "end_time": "2021-01-25T12:01:05.771064Z",
     "start_time": "2021-01-25T12:01:05.672339Z"
    },
    "hidden": true
   },
   "outputs": [],
   "source": [
    "# A1b_H_tot_binom = sample_from_binomial(out_A1b, 'H_tot', n_draws_per_sample, n_samples, LL, UL)\n",
    "# A1b_H_tot_binom = sample_from_binomial(out_A1b_part2, 'H_tot', n_draws_per_sample, n_samples, LL, UL, A1b_H_tot_binom)"
   ]
  },
  {
   "cell_type": "code",
   "execution_count": null,
   "metadata": {
    "ExecuteTime": {
     "end_time": "2021-01-25T12:04:50.960164Z",
     "start_time": "2021-01-25T12:04:50.840293Z"
    },
    "hidden": true
   },
   "outputs": [],
   "source": [
    "A1b_time = out_A1b[\"time\"].values\n",
    "A1b_alpha = out_A1b['alpha'].mean(dim=\"Nc\").values\n",
    "A1b_time = np.append(A1b_time, out_A1b_part2['time'].values)\n",
    "A1b_alpha = np.append(A1b_alpha,out_A1b_part2['alpha'].mean(dim=\"Nc\").values,axis=1)"
   ]
  },
  {
   "cell_type": "markdown",
   "metadata": {
    "heading_collapsed": true,
    "hidden": true
   },
   "source": [
    "## A1c - vaccination - old strain"
   ]
  },
  {
   "cell_type": "code",
   "execution_count": null,
   "metadata": {
    "ExecuteTime": {
     "end_time": "2021-01-25T12:05:01.855812Z",
     "start_time": "2021-01-25T12:04:50.967256Z"
    },
    "hidden": true
   },
   "outputs": [],
   "source": [
    "model_A1c = vaccin_model(initial_states_sept, scenario=scenario, effectivity=effectivity, Nc_fun=report7_policy_function, N_vacc_fun=vacc_strategy)\n",
    "out_A1c = model_A1c.sim(end_sim2,start_date=start_sim1,warmup=warmup,N=n_samples,draw_fcn=draw_fcn,samples=samples_dict,verbose=True)"
   ]
  },
  {
   "cell_type": "code",
   "execution_count": null,
   "metadata": {
    "ExecuteTime": {
     "end_time": "2021-01-25T12:05:01.993746Z",
     "start_time": "2021-01-25T12:05:01.860836Z"
    },
    "hidden": true
   },
   "outputs": [],
   "source": [
    "A1c_H_in_binom = sample_from_binomial(out_A1c, 'H_in', n_draws_per_sample, n_samples, LL, UL)\n",
    "A1c_time = out_A1c[\"time\"].values\n",
    "A1c_alpha = out_A1c['alpha'].mean(dim=\"Nc\").values"
   ]
  },
  {
   "cell_type": "markdown",
   "metadata": {
    "hidden": true
   },
   "source": [
    "## A1d - vaccination - new strain"
   ]
  },
  {
   "cell_type": "code",
   "execution_count": null,
   "metadata": {
    "ExecuteTime": {
     "end_time": "2021-01-27T09:32:51.030056Z",
     "start_time": "2021-01-27T09:32:43.494305Z"
    },
    "hidden": true
   },
   "outputs": [],
   "source": [
    "model_A1d = vaccin_model(initial_states_sept, scenario=scenario, effectivity=effectivity, Nc_fun=report7_policy_function, N_vacc_fun=vacc_strategy)\n",
    "out_A1d = model_A1d.sim(end_sim1,start_date=start_sim1,warmup=warmup,N=n_samples,draw_fcn=draw_fcn,samples=samples_dict,verbose=True)\n",
    "\n",
    "# Average and pass on state variables\n",
    "initial_states_2 = out_A1d.sel(time=end_sim1).mean(dim=\"draws\")\n",
    "# One promille of British variant on January 15th 2021\n",
    "initial_states_2['alpha'].values = portion_new_strain_introduced*np.ones(9)\n",
    "# Re-Initialize\n",
    "model_A1d_part2 = vaccin_model(initial_states_2, scenario=scenario, effectivity=effectivity, Nc_fun=report7_policy_function, N_vacc_fun=vacc_strategy)\n",
    "out_A1d_part2 = model_A1d_part2.sim(end_sim2,start_date=end_sim1,warmup=warmup,N=n_samples,draw_fcn=draw_fcn,samples=samples_dict,verbose=True)"
   ]
  },
  {
   "cell_type": "code",
   "execution_count": null,
   "metadata": {
    "ExecuteTime": {
     "end_time": "2021-01-27T08:49:43.164360Z",
     "start_time": "2021-01-27T08:49:43.112541Z"
    },
    "hidden": true
   },
   "outputs": [],
   "source": [
    "model_A1d_part2.parameters['beta']"
   ]
  },
  {
   "cell_type": "code",
   "execution_count": null,
   "metadata": {
    "ExecuteTime": {
     "end_time": "2021-01-27T09:32:55.404626Z",
     "start_time": "2021-01-27T09:32:55.355098Z"
    },
    "hidden": true
   },
   "outputs": [],
   "source": [
    "A1d_H_in_binom = sample_from_binomial(out_A1d, 'H_in', n_draws_per_sample, n_samples)\n",
    "A1d_H_in_binom = sample_from_binomial(out_A1d_part2, 'H_in', n_draws_per_sample, n_samples, A1d_H_in_binom)"
   ]
  },
  {
   "cell_type": "code",
   "execution_count": null,
   "metadata": {
    "ExecuteTime": {
     "end_time": "2021-01-25T12:02:49.523011Z",
     "start_time": "2021-01-25T12:02:49.403700Z"
    },
    "hidden": true
   },
   "outputs": [],
   "source": [
    "# A1d_H_tot_binom = sample_from_binomial(out_A1d, 'H_tot', n_draws_per_sample, n_samples)\n",
    "# A1d_H_tot_binom = sample_from_binomial(out_A1d_part2, 'H_tot', n_draws_per_sample, n_samples, A1d_H_tot_binom)"
   ]
  },
  {
   "cell_type": "code",
   "execution_count": null,
   "metadata": {
    "ExecuteTime": {
     "end_time": "2021-01-25T12:05:17.785145Z",
     "start_time": "2021-01-25T12:05:17.546313Z"
    },
    "hidden": true
   },
   "outputs": [],
   "source": [
    "A1d_time = out_A1d[\"time\"].values\n",
    "A1d_alpha = out_A1d['alpha'].mean(dim=\"Nc\").values\n",
    "A1d_time = np.append(A1d_time, out_A1d_part2['time'].values)\n",
    "A1d_alpha = np.append(A1d_alpha,out_A1d_part2['alpha'].mean(dim=\"Nc\").values,axis=1)"
   ]
  },
  {
   "cell_type": "markdown",
   "metadata": {
    "hidden": true
   },
   "source": [
    "## Visualise"
   ]
  },
  {
   "cell_type": "code",
   "execution_count": null,
   "metadata": {
    "ExecuteTime": {
     "end_time": "2021-01-25T12:08:36.932017Z",
     "start_time": "2021-01-25T12:08:33.890888Z"
    },
    "hidden": true,
    "scrolled": false
   },
   "outputs": [],
   "source": [
    "# ----------------\n",
    "# Visualize result\n",
    "# ----------------\n",
    "# Plot\n",
    "fig,(ax1, ax3) = plt.subplots(2,sharex=True,figsize=(10,10))\n",
    "legend_pos = (0.5, 1.25)\n",
    "legend_col = 2\n",
    "\n",
    "# Incidence\n",
    "plot_band_binom(ax1, A1a_time, A1a_H_in_binom, 'green', label='no new strain')\n",
    "plot_band_binom(ax1, A1b_time, A1b_H_in_binom, 'blue', label='new strain on 15/1')\n",
    "plot_band_binom(ax1, A1c_time, A1c_H_in_binom, 'orange', label='no new strain - vacc')\n",
    "plot_band_binom(ax1, A1d_time, A1d_H_in_binom, 'red', label='new strain on 15/1 - vacc')\n",
    "\n",
    "ax1.scatter(df_sciensano[start_sim1:end_sim1].index,df_sciensano['H_in'][start_sim1:end_sim1],color='black',alpha=0.4,linestyle='None',facecolors='none')\n",
    "ax1.legend(loc='upper center', bbox_to_anchor=legend_pos, ncol=legend_col)\n",
    "\n",
    "# Load\n",
    "# plot_band_binom(ax2, A1b_time, A1b_H_tot_binom, 'blue', label='H_in')\n",
    "# ax2.scatter(df_sciensano[start_sim1:end_sim1].index,df_sciensano['H_tot'][start_sim1:end_sim1],color='black',alpha=0.4,linestyle='None',facecolors='none')\n",
    "\n",
    "# British variant\n",
    "# ax3.plot(A1a_time,np.mean(A1a_alpha,axis=0)*100,'--', color='green', label='no new strain')\n",
    "# ax3.plot(A1b_time,np.mean(A1b_alpha,axis=0)*100,'--', color='blue', label='new strain on 15/1')\n",
    "# ax3.fill_between(A1b_time,np.quantile(A1b_alpha,UL,axis=0)*100, np.quantile(A1b_alpha,LL,axis=0)*100,alpha=0.20, color = 'blue')\n",
    "plot_band_binom(ax3, A1a_time, A1a_alpha*100, 'green', label='no new strain', axis=0)\n",
    "plot_band_binom(ax3, A1b_time, A1b_alpha*100, 'blue', label='new strain on 15/1', axis=0)\n",
    "plot_band_binom(ax3, A1c_time, A1c_alpha*100, 'orange', label='no new strain - vacc', axis=0)\n",
    "plot_band_binom(ax3, A1d_time, A1d_alpha*100, 'red', label='new strain on 15/1 - vacc', axis=0)\n",
    "\n",
    "# Format\n",
    "ax1.set_title('New hospitalizations')\n",
    "ax1.set_ylabel('$H_{in} $(-)')\n",
    "ax1.set_xlim('2020-09-01',end_sim2)\n",
    "ax1.axvline(x=pd.to_datetime('2021-01-15'),color='black')\n",
    "ax1.text(pd.Timestamp('2021-01-16'),750, ' introduction \\n new strain', fontsize=10)\n",
    "ax1 = _apply_tick_locator(ax1)\n",
    "# ax2.set_title('Total patients in hospital')\n",
    "# ax2.set_ylabel('$H_{tot}$ (-)')\n",
    "# ax2.set_xlim('2020-09-01',end_sim2)\n",
    "# ax2.axvline(x=pd.to_datetime('2021-01-15'),color='red')\n",
    "# ax2 = _apply_tick_locator(ax2)\n",
    "ax3.set_title('Prevalence of new strain')\n",
    "ax3.set_ylabel('$\\\\alpha$ (%)')\n",
    "ax3.axvline(x=pd.to_datetime('2021-01-15'),color='black')\n",
    "ax3.set_xlim('2020-09-01',end_sim2)\n",
    "ax3.set_ylim(0,100)\n",
    "ax3 = _apply_tick_locator(ax3)\n",
    "date_exceed = get_date_of_exceeding_alpha(out_A1b_part2, ['Nc', 'draws'], 0.25)\n",
    "ax3.axvline(x=date_exceed, color='gray')\n",
    "ax3.text(date_exceed+pd.Timedelta('1D'),10, ' exceeding \\n 25% on {}/{}'.format(date_exceed.day, date_exceed.month), \n",
    "         fontsize=10, color='gray')\n",
    "\n",
    "\n",
    "fig.suptitle('Scenarios current contact behaviour')\n",
    "\n",
    "fig_path =  '../../results/predictions/national/restore_v7.0/'\n",
    "#fig.savefig(fig_path+'restore_v7.0_'+'British_variant'+'.pdf', dpi=400, bbox_inches='tight')\n",
    "fig.savefig(fig_path+'A1'+'.jpg', dpi=400, bbox_inches='tight')"
   ]
  },
  {
   "cell_type": "code",
   "execution_count": null,
   "metadata": {
    "ExecuteTime": {
     "end_time": "2021-01-25T10:38:47.401074Z",
     "start_time": "2021-01-25T10:38:47.355453Z"
    },
    "hidden": true,
    "scrolled": false
   },
   "outputs": [],
   "source": [
    "date_exceed = get_date_of_exceeding_alpha(out_A1b_part2, ['Nc', 'draws'], 0.25)"
   ]
  },
  {
   "cell_type": "code",
   "execution_count": null,
   "metadata": {
    "ExecuteTime": {
     "end_time": "2021-01-25T10:35:58.631558Z",
     "start_time": "2021-01-25T10:35:58.585829Z"
    },
    "hidden": true
   },
   "outputs": [],
   "source": [
    "check_overtake_duration(out_A1b_part2, ['Nc', 'draws'])"
   ]
  },
  {
   "cell_type": "markdown",
   "metadata": {
    "heading_collapsed": true
   },
   "source": [
    "# Alternative scenarios A2"
   ]
  },
  {
   "cell_type": "code",
   "execution_count": null,
   "metadata": {
    "ExecuteTime": {
     "end_time": "2021-01-25T12:13:52.125261Z",
     "start_time": "2021-01-25T12:13:52.012131Z"
    },
    "hidden": true
   },
   "outputs": [],
   "source": [
    "start_sim1 = '2020-09-01'\n",
    "end_sim1 = '2021-01-15' # Initiate new strain on 15 Jan\n",
    "end_sim2 = '2021-07-01'\n",
    "warmup = 0\n",
    "n_samples = 5\n",
    "n_draws_per_sample = 50\n",
    "effectivity = 0.9\n",
    "portion_new_strain_introduced = 0.001\n",
    "scenario = '2a'"
   ]
  },
  {
   "cell_type": "markdown",
   "metadata": {
    "heading_collapsed": true,
    "hidden": true
   },
   "source": [
    "## A2a - no vacc - old strain"
   ]
  },
  {
   "cell_type": "code",
   "execution_count": null,
   "metadata": {
    "ExecuteTime": {
     "end_time": "2021-01-25T12:14:06.961439Z",
     "start_time": "2021-01-25T12:13:53.844958Z"
    },
    "hidden": true
   },
   "outputs": [],
   "source": [
    "model_A2a = vaccin_model(initial_states_sept, scenario=scenario,Nc_fun=report7_policy_function, N_vacc_fun=None)\n",
    "out_A2a = model_A2a.sim(end_sim2,start_date=start_sim1,warmup=warmup,N=n_samples,draw_fcn=draw_fcn,samples=samples_dict,verbose=True)"
   ]
  },
  {
   "cell_type": "code",
   "execution_count": null,
   "metadata": {
    "ExecuteTime": {
     "end_time": "2021-01-25T12:14:07.118005Z",
     "start_time": "2021-01-25T12:14:06.965858Z"
    },
    "hidden": true
   },
   "outputs": [],
   "source": [
    "A2a_H_in_binom = sample_from_binomial(out_A2a, 'H_in', n_draws_per_sample, n_samples, LL, UL)\n",
    "A2a_time = out_A2a[\"time\"].values\n",
    "A2a_alpha = out_A2a['alpha'].mean(dim=\"Nc\").values"
   ]
  },
  {
   "cell_type": "markdown",
   "metadata": {
    "heading_collapsed": true,
    "hidden": true
   },
   "source": [
    "## A2b - no vacc - new strain"
   ]
  },
  {
   "cell_type": "code",
   "execution_count": null,
   "metadata": {
    "ExecuteTime": {
     "end_time": "2021-01-25T12:14:26.001631Z",
     "start_time": "2021-01-25T12:14:07.135775Z"
    },
    "hidden": true
   },
   "outputs": [],
   "source": [
    "model_A2b = vaccin_model(initial_states_sept, scenario=scenario,Nc_fun=report7_policy_function, N_vacc_fun=None)\n",
    "out_A2b = model_A2b.sim(end_sim1,start_date=start_sim1,warmup=warmup,N=n_samples,draw_fcn=draw_fcn,samples=samples_dict,verbose=True)\n",
    "\n",
    "# Average and pass on state variables\n",
    "initial_states_2 = out_A2b.sel(time=end_sim1).mean(dim=\"draws\")\n",
    "# One promille of British variant on January 15th 2021\n",
    "initial_states_2['alpha'].values = portion_new_strain_introduced*np.ones(9)\n",
    "# Re-Initialize\n",
    "model_A2b_part2 = vaccin_model(initial_states_2, scenario=scenario,Nc_fun=report7_policy_function, N_vacc_fun=None)\n",
    "out_A2b_part2 = model_A2b_part2.sim(end_sim2,start_date=end_sim1,warmup=warmup,N=n_samples,draw_fcn=draw_fcn,samples=samples_dict,verbose=True)"
   ]
  },
  {
   "cell_type": "code",
   "execution_count": null,
   "metadata": {
    "ExecuteTime": {
     "end_time": "2021-01-25T12:14:26.129311Z",
     "start_time": "2021-01-25T12:14:26.005934Z"
    },
    "hidden": true
   },
   "outputs": [],
   "source": [
    "A2b_H_in_binom = sample_from_binomial(out_A2b, 'H_in', n_draws_per_sample, n_samples, LL, UL)\n",
    "A2b_H_in_binom = sample_from_binomial(out_A2b_part2, 'H_in', n_draws_per_sample, n_samples, LL, UL, A2b_H_in_binom)"
   ]
  },
  {
   "cell_type": "code",
   "execution_count": null,
   "metadata": {
    "ExecuteTime": {
     "end_time": "2021-01-25T12:14:26.274264Z",
     "start_time": "2021-01-25T12:14:26.134697Z"
    },
    "hidden": true
   },
   "outputs": [],
   "source": [
    "# A2b_H_tot_binom = sample_from_binomial(out_A2b, 'H_tot', n_draws_per_sample, n_samples, LL, UL)\n",
    "# A2b_H_tot_binom = sample_from_binomial(out_A2b_part2, 'H_tot', n_draws_per_sample, n_samples, LL, UL, A2b_H_tot_binom)"
   ]
  },
  {
   "cell_type": "code",
   "execution_count": null,
   "metadata": {
    "ExecuteTime": {
     "end_time": "2021-01-25T12:14:26.385523Z",
     "start_time": "2021-01-25T12:14:26.286805Z"
    },
    "hidden": true
   },
   "outputs": [],
   "source": [
    "A2b_time = out_A2b[\"time\"].values\n",
    "A2b_alpha = out_A2b['alpha'].mean(dim=\"Nc\").values\n",
    "A2b_time = np.append(A2b_time, out_A2b_part2['time'].values)\n",
    "A2b_alpha = np.append(A2b_alpha,out_A2b_part2['alpha'].mean(dim=\"Nc\").values,axis=1)"
   ]
  },
  {
   "cell_type": "markdown",
   "metadata": {
    "heading_collapsed": true,
    "hidden": true
   },
   "source": [
    "## A2c - vaccination - old strain"
   ]
  },
  {
   "cell_type": "code",
   "execution_count": null,
   "metadata": {
    "ExecuteTime": {
     "end_time": "2021-01-25T12:14:44.705845Z",
     "start_time": "2021-01-25T12:14:26.394481Z"
    },
    "hidden": true
   },
   "outputs": [],
   "source": [
    "model_A2c = vaccin_model(initial_states_sept, scenario=scenario, effectivity=effectivity, Nc_fun=report7_policy_function, N_vacc_fun=vacc_strategy)\n",
    "out_A2c = model_A2c.sim(end_sim2,start_date=start_sim1,warmup=warmup,N=n_samples,draw_fcn=draw_fcn,samples=samples_dict,verbose=True)"
   ]
  },
  {
   "cell_type": "code",
   "execution_count": null,
   "metadata": {
    "ExecuteTime": {
     "end_time": "2021-01-25T12:14:44.953711Z",
     "start_time": "2021-01-25T12:14:44.716075Z"
    },
    "hidden": true
   },
   "outputs": [],
   "source": [
    "A2c_H_in_binom = sample_from_binomial(out_A2c, 'H_in', n_draws_per_sample, n_samples, LL, UL)\n",
    "A2c_time = out_A2c[\"time\"].values\n",
    "A2c_alpha = out_A2c['alpha'].mean(dim=\"Nc\").values"
   ]
  },
  {
   "cell_type": "markdown",
   "metadata": {
    "heading_collapsed": true,
    "hidden": true
   },
   "source": [
    "## A2d - vaccination - new strain"
   ]
  },
  {
   "cell_type": "code",
   "execution_count": null,
   "metadata": {
    "ExecuteTime": {
     "end_time": "2021-01-25T12:15:07.170053Z",
     "start_time": "2021-01-25T12:14:44.967453Z"
    },
    "hidden": true
   },
   "outputs": [],
   "source": [
    "model_A2d = vaccin_model(initial_states_sept, scenario=scenario, effectivity=effectivity, Nc_fun=report7_policy_function, N_vacc_fun=vacc_strategy)\n",
    "out_A2d = model_A2d.sim(end_sim1,start_date=start_sim1,warmup=warmup,N=n_samples,draw_fcn=draw_fcn,samples=samples_dict,verbose=True)\n",
    "\n",
    "# Average and pass on state variables\n",
    "initial_states_2 = out_A2d.sel(time=end_sim1).mean(dim=\"draws\")\n",
    "# One promille of British variant on January 15th 2021\n",
    "initial_states_2['alpha'].values = portion_new_strain_introduced*np.ones(9)\n",
    "# Re-Initialize\n",
    "model_A2d_part2 = vaccin_model(initial_states_2, scenario=scenario, effectivity=effectivity, Nc_fun=report7_policy_function, N_vacc_fun=vacc_strategy)\n",
    "out_A2d_part2 = model_A2d_part2.sim(end_sim2,start_date=end_sim1,warmup=warmup,N=n_samples,draw_fcn=draw_fcn,samples=samples_dict,verbose=True)"
   ]
  },
  {
   "cell_type": "code",
   "execution_count": null,
   "metadata": {
    "ExecuteTime": {
     "end_time": "2021-01-25T12:15:07.285448Z",
     "start_time": "2021-01-25T12:15:07.173834Z"
    },
    "hidden": true
   },
   "outputs": [],
   "source": [
    "A2d_H_in_binom = sample_from_binomial(out_A2d, 'H_in', n_draws_per_sample, n_samples, LL, UL)\n",
    "A2d_H_in_binom = sample_from_binomial(out_A2d_part2, 'H_in', n_draws_per_sample, n_samples, LL, UL, A2d_H_in_binom)"
   ]
  },
  {
   "cell_type": "code",
   "execution_count": null,
   "metadata": {
    "ExecuteTime": {
     "end_time": "2021-01-25T12:15:07.403353Z",
     "start_time": "2021-01-25T12:15:07.289869Z"
    },
    "hidden": true
   },
   "outputs": [],
   "source": [
    "# A2d_H_tot_binom = sample_from_binomial(out_A2d, 'H_tot', n_draws_per_sample, n_samples, LL, UL)\n",
    "# A2d_H_tot_binom = sample_from_binomial(out_A2d_part2, 'H_tot', n_draws_per_sample, n_samples, LL, UL, A2d_H_tot_binom)"
   ]
  },
  {
   "cell_type": "code",
   "execution_count": null,
   "metadata": {
    "ExecuteTime": {
     "end_time": "2021-01-25T12:15:07.501189Z",
     "start_time": "2021-01-25T12:15:07.407898Z"
    },
    "hidden": true
   },
   "outputs": [],
   "source": [
    "A2d_time = out_A2d[\"time\"].values\n",
    "A2d_alpha = out_A2d['alpha'].mean(dim=\"Nc\").values\n",
    "A2d_time = np.append(A2d_time, out_A2d_part2['time'].values)\n",
    "A2d_alpha = np.append(A2d_alpha,out_A2d_part2['alpha'].mean(dim=\"Nc\").values,axis=1)"
   ]
  },
  {
   "cell_type": "markdown",
   "metadata": {
    "heading_collapsed": true,
    "hidden": true
   },
   "source": [
    "## Visualise"
   ]
  },
  {
   "cell_type": "code",
   "execution_count": null,
   "metadata": {
    "ExecuteTime": {
     "end_time": "2021-01-25T12:15:09.921321Z",
     "start_time": "2021-01-25T12:15:07.510719Z"
    },
    "hidden": true,
    "scrolled": false
   },
   "outputs": [],
   "source": [
    "# ----------------\n",
    "# Visualize result\n",
    "# ----------------\n",
    "# Plot\n",
    "fig,(ax1, ax3) = plt.subplots(2,sharex=True,figsize=(10,10))\n",
    "legend_pos = (0.5, 1.25)\n",
    "legend_col = 2\n",
    "\n",
    "# Incidence\n",
    "plot_band_binom(ax1, A2a_time, A2a_H_in_binom, 'green', label='no new strain')\n",
    "plot_band_binom(ax1, A2b_time, A2b_H_in_binom, 'blue', label='new strain on 15/1')\n",
    "plot_band_binom(ax1, A2c_time, A2c_H_in_binom, 'orange', label='no new strain - vacc')\n",
    "plot_band_binom(ax1, A2d_time, A2d_H_in_binom, 'red', label='new strain on 15/1 - vacc')\n",
    "\n",
    "ax1.scatter(df_sciensano[start_sim1:end_sim1].index,df_sciensano['H_in'][start_sim1:end_sim1],color='black',alpha=0.4,linestyle='None',facecolors='none')\n",
    "ax1.legend(loc='upper center', bbox_to_anchor=legend_pos, ncol=legend_col)\n",
    "\n",
    "# Load\n",
    "# plot_band_binom(ax2, A2b_time, A2b_H_tot_binom, 'blue', label='H_in')\n",
    "# ax2.scatter(df_sciensano[start_sim1:end_sim1].index,df_sciensano['H_tot'][start_sim1:end_sim1],color='black',alpha=0.4,linestyle='None',facecolors='none')\n",
    "\n",
    "# British variant\n",
    "# ax3.plot(A2a_time,np.mean(A2a_alpha,axis=0)*100,'--', color='green', label='no new strain')\n",
    "# ax3.plot(A2b_time,np.mean(A2b_alpha,axis=0)*100,'--', color='blue', label='new strain on 15/1')\n",
    "# ax3.fill_between(A2b_time,np.quantile(A2b_alpha,UL,axis=0)*100, np.quantile(A2b_alpha,LL,axis=0)*100,alpha=0.20, color = 'blue')\n",
    "plot_band_binom(ax3, A2a_time, A2a_alpha*100, 'green', label='no new strain', axis=0)\n",
    "plot_band_binom(ax3, A2b_time, A2b_alpha*100, 'blue', label='new strain on 15/1', axis=0)\n",
    "plot_band_binom(ax3, A2c_time, A2c_alpha*100, 'orange', label='no new strain - vacc', axis=0)\n",
    "plot_band_binom(ax3, A2d_time, A2d_alpha*100, 'red', label='new strain on 15/1 - vacc', axis=0)\n",
    "\n",
    "# Format\n",
    "ax1.set_title('New hospitalizations')\n",
    "ax1.set_ylabel('$H_{in} $(-)')\n",
    "ax1.set_xlim('2020-09-01',end_sim2)\n",
    "ax1.axvline(x=pd.to_datetime('2021-01-15'),color='black')\n",
    "ax1.text(pd.Timestamp('2021-01-16'),750, ' introduction \\n new strain', fontsize=10)\n",
    "ax1 = _apply_tick_locator(ax1)\n",
    "# ax2.set_title('Total patients in hospital')\n",
    "# ax2.set_ylabel('$H_{tot}$ (-)')\n",
    "# ax2.set_xlim('2020-09-01',end_sim2)\n",
    "# ax2.axvline(x=pd.to_datetime('2021-01-15'),color='red')\n",
    "# ax2 = _apply_tick_locator(ax2)\n",
    "ax3.set_title('Prevalence of new strain')\n",
    "ax3.set_ylabel('$\\\\alpha$ (%)')\n",
    "ax3.axvline(x=pd.to_datetime('2021-01-15'),color='black')\n",
    "ax3.set_xlim('2020-09-01',end_sim2)\n",
    "ax3.set_ylim(0,100)\n",
    "ax3 = _apply_tick_locator(ax3)\n",
    "date_exceed = get_date_of_exceeding_alpha(out_A2b_part2, ['Nc', 'draws'], 0.25)\n",
    "ax3.axvline(x=date_exceed, color='gray')\n",
    "ax3.text(date_exceed+pd.Timedelta('1D'),10, ' exceeding \\n 25% on {}/{}'.format(date_exceed.day, date_exceed.month), \n",
    "         fontsize=10, color='gray')\n",
    "\n",
    "\n",
    "fig.suptitle('Scenarios release on  March 1')\n",
    "\n",
    "fig_path =  '../../results/predictions/national/restore_v7.0/'\n",
    "#fig.savefig(fig_path+'restore_v7.0_'+'British_variant'+'.pdf', dpi=400, bbox_inches='tight')\n",
    "fig.savefig(fig_path+'A2'+'.jpg', dpi=400, bbox_inches='tight')"
   ]
  },
  {
   "cell_type": "markdown",
   "metadata": {},
   "source": [
    "# Save data"
   ]
  },
  {
   "cell_type": "code",
   "execution_count": 56,
   "metadata": {
    "ExecuteTime": {
     "end_time": "2021-02-04T08:23:35.885678Z",
     "start_time": "2021-02-04T08:23:02.563778Z"
    }
   },
   "outputs": [],
   "source": [
    "results = pd.DataFrame()\n",
    "results['Date'] =  out_S1a['time']\n",
    "for x in ['S1a', 'S1b', 'S2a', 'S2b', 'S3a', 'S4a']:\n",
    "    for var in ['H_in', 'H_tot']:\n",
    "        binom = eval(x+'_'+var+'_binom')\n",
    "        if var == 'H_in':\n",
    "            results[x+'_incidences_mean'] = np.mean(binom, axis=1)\n",
    "            results[x+'_incidences_median'] = np.median(binom, axis=1)\n",
    "            results[x+'_incidences_LL'] = np.quantile(binom, q = LL, axis = 1)\n",
    "            results[x+'_incidences_UL'] = np.quantile(binom, q = UL, axis = 1)\n",
    "        if var == 'H_tot':\n",
    "            results[x+'_load_mean'] = np.mean(binom, axis=1)\n",
    "            results[x+'_load_median'] = np.median(binom, axis=1)\n",
    "            results[x+'_load_LL'] = np.quantile(binom, q = LL, axis = 1)\n",
    "            results[x+'_load_UL'] = np.quantile(binom, q = UL, axis = 1)\n",
    "            \n",
    "results.to_csv('../../results/predictions/national/restore_v7.0/UGent_restore_v7.csv')"
   ]
  },
  {
   "cell_type": "markdown",
   "metadata": {
    "ExecuteTime": {
     "end_time": "2020-12-02T09:47:36.607419Z",
     "start_time": "2020-12-02T09:47:33.398902Z"
    },
    "heading_collapsed": true
   },
   "source": [
    "# Plot saved data"
   ]
  },
  {
   "cell_type": "code",
   "execution_count": null,
   "metadata": {
    "ExecuteTime": {
     "end_time": "2020-12-02T12:05:19.070053Z",
     "start_time": "2020-12-02T12:05:19.026546Z"
    },
    "hidden": true
   },
   "outputs": [],
   "source": [
    "S_results_H_in = pd.read_csv('../../results/vaccinations/national/S_results_H_in.csv', parse_dates=['time'])"
   ]
  },
  {
   "cell_type": "code",
   "execution_count": null,
   "metadata": {
    "hidden": true
   },
   "outputs": [],
   "source": [
    "plot_band_saved_data(ax3, S_results_H_in, 'S1', 'S1_LL', 'S1_UL', 'gray', 'no vaccination')\n"
   ]
  },
  {
   "cell_type": "code",
   "execution_count": null,
   "metadata": {
    "ExecuteTime": {
     "end_time": "2020-12-02T12:05:22.288309Z",
     "start_time": "2020-12-02T12:05:22.083028Z"
    },
    "hidden": true
   },
   "outputs": [],
   "source": [
    "fig,(ax3,ax4) = plt.subplots(figsize=(10,5), nrows=1, ncols=2, sharex=True, sharey=True)\n",
    "\n",
    "ax3.plot('DATE','H_in',data=df_sciensano[start_calibration:end_sim].reset_index(), marker='.', \n",
    "         c='gray', label='data', lw=0, markersize=9, alpha=0.3, markeredgecolor='none')\n",
    "plot_band_saved_data(ax3, S_results_H_in, 'S1', 'S1_LL', 'S1_UL', 'gray', 'no vaccination')\n",
    "plot_band_saved_data(ax3, S_results_H_in, 'S1', 'S1_LL', 'S1_UL', 'gray', 'no vaccination')\n",
    "\n",
    "# plot_band(ax3, y_model_S4a, 'H_in', 'C0', '0% at start')\n",
    "# plot_band(ax3, y_model_S4b, 'H_in', 'C1', '10% at start')\n",
    "# plot_band(ax3, y_model_S4c, 'H_in', 'C2', '30% at start')\n",
    "# plot_band(ax3, y_model_S4d, 'H_in', 'C3', '50% at start')\n",
    "\n",
    "ax3.set_xlim(start_x, end_x)\n",
    "ax3.set_xticks(pd.date_range(start_x, end_grid, periods=4))\n",
    "ax3.xaxis.set_tick_params(which='both', labelbottom=True)\n",
    "ax3.set_title('Vaccination according to age')\n",
    "\n",
    "ax4.plot('DATE','H_in',data=df_sciensano[start_calibration:end_sim].reset_index(), marker='.', \n",
    "         c='gray', label='data', lw=0, markersize=9, alpha=0.3, markeredgecolor='none')\n",
    "# plot_band(ax4, y_model_S1, 'H_in', 'gray', 'no vaccination')\n",
    "# plot_band(ax4, y_model_S5a, 'H_in', 'C0', '0% at start')\n",
    "# plot_band(ax4, y_model_S5b, 'H_in', 'C1', '10% at start')\n",
    "# plot_band(ax4, y_model_S5c, 'H_in', 'C2', '30% at start')\n",
    "# plot_band(ax4, y_model_S5d, 'H_in', 'C3', '50% at start')\n",
    "\n",
    "ax4.set_xlim(start_x, end_x)\n",
    "ax4.set_xticks(pd.date_range(start_x, end_grid, periods=4))\n",
    "ax4.xaxis.set_tick_params(which='both', labelbottom=True)\n",
    "ax4.set_title('Vaccination according to number of contacts')\n",
    "\n",
    "\n",
    "ax3.legend(loc='upper center', bbox_to_anchor=(1, 1.35), ncol=3)\n",
    "ax3.set_ylim(0,800)\n",
    "fig.text(0, 0.5, 'Number of new hospitalizations', va='center', rotation='vertical')\n",
    "fig.text(0.5, 0.01, 'Time', va='center', rotation='horizontal')\n"
   ]
  },
  {
   "cell_type": "code",
   "execution_count": null,
   "metadata": {
    "hidden": true
   },
   "outputs": [],
   "source": []
  },
  {
   "cell_type": "code",
   "execution_count": null,
   "metadata": {
    "hidden": true
   },
   "outputs": [],
   "source": []
  }
 ],
 "metadata": {
  "kernelspec": {
   "display_name": "Python 3",
   "language": "python",
   "name": "python3"
  },
  "language_info": {
   "codemirror_mode": {
    "name": "ipython",
    "version": 3
   },
   "file_extension": ".py",
   "mimetype": "text/x-python",
   "name": "python",
   "nbconvert_exporter": "python",
   "pygments_lexer": "ipython3",
   "version": "3.8.2"
  },
  "nav_menu": {},
  "toc": {
   "base_numbering": 1,
   "nav_menu": {},
   "number_sections": true,
   "sideBar": true,
   "skip_h1_title": false,
   "title_cell": "Table of Contents",
   "title_sidebar": "Contents",
   "toc_cell": true,
   "toc_position": {
    "height": "calc(100% - 180px)",
    "left": "10px",
    "top": "150px",
    "width": "327px"
   },
   "toc_section_display": "block",
   "toc_window_display": true
  }
 },
 "nbformat": 4,
 "nbformat_minor": 4
}
