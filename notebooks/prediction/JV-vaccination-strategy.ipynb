{
 "cells": [
  {
   "cell_type": "markdown",
   "metadata": {
    "toc": true
   },
   "source": [
    "<h1>Table of Contents<span class=\"tocSkip\"></span></h1>\n",
    "<div class=\"toc\"><ul class=\"toc-item\"><li><span><a href=\"#Data,-policy-and-model-initialization\" data-toc-modified-id=\"Data,-policy-and-model-initialization-1\"><span class=\"toc-item-num\">1&nbsp;&nbsp;</span>Data, policy and model initialization</a></span><ul class=\"toc-item\"><li><span><a href=\"#Load-contact-data\" data-toc-modified-id=\"Load-contact-data-1.1\"><span class=\"toc-item-num\">1.1&nbsp;&nbsp;</span>Load contact data</a></span></li><li><span><a href=\"#Load-publically-available-data-from-Sciensano\" data-toc-modified-id=\"Load-publically-available-data-from-Sciensano-1.2\"><span class=\"toc-item-num\">1.2&nbsp;&nbsp;</span>Load publically available data from Sciensano</a></span></li><li><span><a href=\"#Load-posterior-parameter-distributions-of-calibrated-parameters\" data-toc-modified-id=\"Load-posterior-parameter-distributions-of-calibrated-parameters-1.3\"><span class=\"toc-item-num\">1.3&nbsp;&nbsp;</span>Load posterior parameter distributions of calibrated parameters</a></span></li><li><span><a href=\"#Settings\" data-toc-modified-id=\"Settings-1.4\"><span class=\"toc-item-num\">1.4&nbsp;&nbsp;</span>Settings</a></span></li></ul></li><li><span><a href=\"#Functions\" data-toc-modified-id=\"Functions-2\"><span class=\"toc-item-num\">2&nbsp;&nbsp;</span>Functions</a></span></li><li><span><a href=\"#Time-dep-functions\" data-toc-modified-id=\"Time-dep-functions-3\"><span class=\"toc-item-num\">3&nbsp;&nbsp;</span>Time-dep functions</a></span></li><li><span><a href=\"#Test-vacc-strategy\" data-toc-modified-id=\"Test-vacc-strategy-4\"><span class=\"toc-item-num\">4&nbsp;&nbsp;</span>Test vacc strategy</a></span></li><li><span><a href=\"#Test-spatial-model\" data-toc-modified-id=\"Test-spatial-model-5\"><span class=\"toc-item-num\">5&nbsp;&nbsp;</span>Test spatial model</a></span></li><li><span><a href=\"#Scenarios\" data-toc-modified-id=\"Scenarios-6\"><span class=\"toc-item-num\">6&nbsp;&nbsp;</span>Scenarios</a></span><ul class=\"toc-item\"><li><span><a href=\"#Run-and-save-all-scenarios\" data-toc-modified-id=\"Run-and-save-all-scenarios-6.1\"><span class=\"toc-item-num\">6.1&nbsp;&nbsp;</span>Run and save all scenarios</a></span></li><li><span><a href=\"#Scenarios-S1-(current-behaviour)\" data-toc-modified-id=\"Scenarios-S1-(current-behaviour)-6.2\"><span class=\"toc-item-num\">6.2&nbsp;&nbsp;</span>Scenarios S1 (current behaviour)</a></span><ul class=\"toc-item\"><li><span><a href=\"#S1a---K-=-1.3\" data-toc-modified-id=\"S1a---K-=-1.3-6.2.1\"><span class=\"toc-item-num\">6.2.1&nbsp;&nbsp;</span>S1a - K = 1.3</a></span></li><li><span><a href=\"#S1b---K-=-1.5\" data-toc-modified-id=\"S1b---K-=-1.5-6.2.2\"><span class=\"toc-item-num\">6.2.2&nbsp;&nbsp;</span>S1b - K = 1.5</a></span></li><li><span><a href=\"#S1c---K-=-1.7\" data-toc-modified-id=\"S1c---K-=-1.7-6.2.3\"><span class=\"toc-item-num\">6.2.3&nbsp;&nbsp;</span>S1c - K = 1.7</a></span></li></ul></li><li><span><a href=\"#Scenarios-S2-(september-behaviour-March-1)\" data-toc-modified-id=\"Scenarios-S2-(september-behaviour-March-1)-6.3\"><span class=\"toc-item-num\">6.3&nbsp;&nbsp;</span>Scenarios S2 (september behaviour March 1)</a></span><ul class=\"toc-item\"><li><span><a href=\"#S2a---K-=-1.3\" data-toc-modified-id=\"S2a---K-=-1.3-6.3.1\"><span class=\"toc-item-num\">6.3.1&nbsp;&nbsp;</span>S2a - K = 1.3</a></span></li><li><span><a href=\"#S2b---K-=-1.5\" data-toc-modified-id=\"S2b---K-=-1.5-6.3.2\"><span class=\"toc-item-num\">6.3.2&nbsp;&nbsp;</span>S2b - K = 1.5</a></span></li><li><span><a href=\"#S2c---K-=-1.7\" data-toc-modified-id=\"S2c---K-=-1.7-6.3.3\"><span class=\"toc-item-num\">6.3.3&nbsp;&nbsp;</span>S2c - K = 1.7</a></span></li></ul></li><li><span><a href=\"#Scenario-S3-(September-behaviour-April-1)\" data-toc-modified-id=\"Scenario-S3-(September-behaviour-April-1)-6.4\"><span class=\"toc-item-num\">6.4&nbsp;&nbsp;</span>Scenario S3 (September behaviour April 1)</a></span><ul class=\"toc-item\"><li><span><a href=\"#S3a---K-=-1.3\" data-toc-modified-id=\"S3a---K-=-1.3-6.4.1\"><span class=\"toc-item-num\">6.4.1&nbsp;&nbsp;</span>S3a - K = 1.3</a></span></li><li><span><a href=\"#S3b---K-=-1.5\" data-toc-modified-id=\"S3b---K-=-1.5-6.4.2\"><span class=\"toc-item-num\">6.4.2&nbsp;&nbsp;</span>S3b - K = 1.5</a></span></li><li><span><a href=\"#S3c---K-=-1.7\" data-toc-modified-id=\"S3c---K-=-1.7-6.4.3\"><span class=\"toc-item-num\">6.4.3&nbsp;&nbsp;</span>S3c - K = 1.7</a></span></li></ul></li><li><span><a href=\"#Scenario-S4-(September-behaviour-April-1)\" data-toc-modified-id=\"Scenario-S4-(September-behaviour-April-1)-6.5\"><span class=\"toc-item-num\">6.5&nbsp;&nbsp;</span>Scenario S4 (September behaviour April 1)</a></span><ul class=\"toc-item\"><li><span><a href=\"#S4a---K-=-1.3\" data-toc-modified-id=\"S4a---K-=-1.3-6.5.1\"><span class=\"toc-item-num\">6.5.1&nbsp;&nbsp;</span>S4a - K = 1.3</a></span></li><li><span><a href=\"#S4b---K-=-1.5\" data-toc-modified-id=\"S4b---K-=-1.5-6.5.2\"><span class=\"toc-item-num\">6.5.2&nbsp;&nbsp;</span>S4b - K = 1.5</a></span></li><li><span><a href=\"#S4c---K-=-1.7\" data-toc-modified-id=\"S4c---K-=-1.7-6.5.3\"><span class=\"toc-item-num\">6.5.3&nbsp;&nbsp;</span>S4c - K = 1.7</a></span></li></ul></li><li><span><a href=\"#Scenarios-SNV1-(vaccination-effect)\" data-toc-modified-id=\"Scenarios-SNV1-(vaccination-effect)-6.6\"><span class=\"toc-item-num\">6.6&nbsp;&nbsp;</span>Scenarios SNV1 (vaccination effect)</a></span><ul class=\"toc-item\"><li><span><a href=\"#S3a-(S2b-without-vaccination)\" data-toc-modified-id=\"S3a-(S2b-without-vaccination)-6.6.1\"><span class=\"toc-item-num\">6.6.1&nbsp;&nbsp;</span>S3a (S2b without vaccination)</a></span></li><li><span><a href=\"#S4a-(S1b-without-vaccination)\" data-toc-modified-id=\"S4a-(S1b-without-vaccination)-6.6.2\"><span class=\"toc-item-num\">6.6.2&nbsp;&nbsp;</span>S4a (S1b without vaccination)</a></span></li></ul></li></ul></li><li><span><a href=\"#Visualise\" data-toc-modified-id=\"Visualise-7\"><span class=\"toc-item-num\">7&nbsp;&nbsp;</span>Visualise</a></span><ul class=\"toc-item\"><li><span><a href=\"#S1-and-S2\" data-toc-modified-id=\"S1-and-S2-7.1\"><span class=\"toc-item-num\">7.1&nbsp;&nbsp;</span>S1 and S2</a></span></li><li><span><a href=\"#Vaccination-effect\" data-toc-modified-id=\"Vaccination-effect-7.2\"><span class=\"toc-item-num\">7.2&nbsp;&nbsp;</span>Vaccination effect</a></span></li></ul></li><li><span><a href=\"#Alternative-scenarios-A1\" data-toc-modified-id=\"Alternative-scenarios-A1-8\"><span class=\"toc-item-num\">8&nbsp;&nbsp;</span>Alternative scenarios A1</a></span><ul class=\"toc-item\"><li><span><a href=\"#A1a---vacc---old-strain\" data-toc-modified-id=\"A1a---vacc---old-strain-8.1\"><span class=\"toc-item-num\">8.1&nbsp;&nbsp;</span>A1a - vacc - old strain</a></span></li><li><span><a href=\"#A1b---no-vacc---new-strain\" data-toc-modified-id=\"A1b---no-vacc---new-strain-8.2\"><span class=\"toc-item-num\">8.2&nbsp;&nbsp;</span>A1b - no vacc - new strain</a></span></li><li><span><a href=\"#A1c---vaccination---old-strain\" data-toc-modified-id=\"A1c---vaccination---old-strain-8.3\"><span class=\"toc-item-num\">8.3&nbsp;&nbsp;</span>A1c - vaccination - old strain</a></span></li><li><span><a href=\"#A1d---vaccination---new-strain\" data-toc-modified-id=\"A1d---vaccination---new-strain-8.4\"><span class=\"toc-item-num\">8.4&nbsp;&nbsp;</span>A1d - vaccination - new strain</a></span></li><li><span><a href=\"#Visualise\" data-toc-modified-id=\"Visualise-8.5\"><span class=\"toc-item-num\">8.5&nbsp;&nbsp;</span>Visualise</a></span></li></ul></li><li><span><a href=\"#Alternative-scenarios-A2\" data-toc-modified-id=\"Alternative-scenarios-A2-9\"><span class=\"toc-item-num\">9&nbsp;&nbsp;</span>Alternative scenarios A2</a></span><ul class=\"toc-item\"><li><span><a href=\"#A2a---no-vacc---old-strain\" data-toc-modified-id=\"A2a---no-vacc---old-strain-9.1\"><span class=\"toc-item-num\">9.1&nbsp;&nbsp;</span>A2a - no vacc - old strain</a></span></li><li><span><a href=\"#A2b---no-vacc---new-strain\" data-toc-modified-id=\"A2b---no-vacc---new-strain-9.2\"><span class=\"toc-item-num\">9.2&nbsp;&nbsp;</span>A2b - no vacc - new strain</a></span></li><li><span><a href=\"#A2c---vaccination---old-strain\" data-toc-modified-id=\"A2c---vaccination---old-strain-9.3\"><span class=\"toc-item-num\">9.3&nbsp;&nbsp;</span>A2c - vaccination - old strain</a></span></li><li><span><a href=\"#A2d---vaccination---new-strain\" data-toc-modified-id=\"A2d---vaccination---new-strain-9.4\"><span class=\"toc-item-num\">9.4&nbsp;&nbsp;</span>A2d - vaccination - new strain</a></span></li><li><span><a href=\"#Visualise\" data-toc-modified-id=\"Visualise-9.5\"><span class=\"toc-item-num\">9.5&nbsp;&nbsp;</span>Visualise</a></span></li></ul></li><li><span><a href=\"#Save-data\" data-toc-modified-id=\"Save-data-10\"><span class=\"toc-item-num\">10&nbsp;&nbsp;</span>Save data</a></span></li><li><span><a href=\"#Plot-saved-data\" data-toc-modified-id=\"Plot-saved-data-11\"><span class=\"toc-item-num\">11&nbsp;&nbsp;</span>Plot saved data</a></span></li></ul></div>"
   ]
  },
  {
   "cell_type": "markdown",
   "metadata": {},
   "source": [
    "\n",
    "*Authored by J. Vergeynst*\n",
    "\n",
    "Copyright (c) 2021 by J. Vergeynst, BIOMATH, Ghent University. All Rights Reserved."
   ]
  },
  {
   "cell_type": "code",
   "execution_count": 1,
   "metadata": {
    "ExecuteTime": {
     "end_time": "2021-02-08T07:42:59.377262Z",
     "start_time": "2021-02-08T07:42:30.329953Z"
    }
   },
   "outputs": [],
   "source": [
    "import numpy as np\n",
    "%matplotlib notebook\n",
    "import matplotlib\n",
    "import matplotlib.pyplot as plt\n",
    "import matplotlib.dates as mdates\n",
    "import pandas as pd\n",
    "import datetime\n",
    "import scipy\n",
    "import json\n",
    "import random\n",
    "from math import floor\n",
    "\n",
    "from covid19model.optimization import objective_fcns\n",
    "from covid19model.models import models\n",
    "from covid19model.models.utils import draw_sample_COVID19_SEIRD\n",
    "from covid19model.models.time_dependant_parameter_fncs import ramp_fun, google_lockdown\n",
    "from covid19model.data import mobility, sciensano, model_parameters\n",
    "from covid19model.visualization.output import population_status, infected, _apply_tick_locator\n",
    "from covid19model.visualization.optimization import plot_fit, traceplot\n",
    "\n",
    "plt.rcParams.update({'font.size': 12, 'axes.grid':True, 'grid.linewidth':0.3})\n",
    "pd.plotting.register_matplotlib_converters()\n",
    "\n",
    "# OPTIONAL: Load the \"autoreload\" extension so that package code can change\n",
    "%load_ext autoreload\n",
    "# OPTIONAL: always reload modules so that as you change code in src, it gets loaded\n",
    "%autoreload 2"
   ]
  },
  {
   "cell_type": "code",
   "execution_count": 60,
   "metadata": {
    "ExecuteTime": {
     "end_time": "2021-02-08T07:52:38.058232Z",
     "start_time": "2021-02-08T07:52:37.909476Z"
    }
   },
   "outputs": [],
   "source": [
    "plt.rcParams.update({\n",
    "    \"lines.linewidth\" : 3,\n",
    "    \"axes.spines.top\": True,\n",
    "    \"axes.spines.right\": True,\n",
    "    \"ytick.major.left\": True,\n",
    "    \"axes.grid\": True\n",
    "})"
   ]
  },
  {
   "cell_type": "markdown",
   "metadata": {},
   "source": [
    "# Data, policy and model initialization"
   ]
  },
  {
   "cell_type": "markdown",
   "metadata": {},
   "source": [
    "## Load contact data"
   ]
  },
  {
   "cell_type": "code",
   "execution_count": 3,
   "metadata": {
    "ExecuteTime": {
     "end_time": "2021-02-08T07:43:00.820026Z",
     "start_time": "2021-02-08T07:42:59.450075Z"
    }
   },
   "outputs": [],
   "source": [
    "# Load the interaction matrices (size: 9x9)\n",
    "initN, Nc_home, Nc_work, Nc_schools, Nc_transport, Nc_leisure, Nc_others, Nc_total = model_parameters.get_interaction_matrices(dataset='willem_2012',intensity='all')\n",
    "# Define the number of age categories\n",
    "levels = initN.size\n",
    "\n",
    "initN, Nc_home_15, Nc_work_15, Nc_schools_15, Nc_transport_15, Nc_leisure_15, Nc_others_15, Nc_total_15 = model_parameters.get_interaction_matrices(dataset='willem_2012',intensity='more_15_min')\n",
    "initN, Nc_home_1hr, Nc_work_1hr, Nc_schools_1hr, Nc_transport_1hr, Nc_leisure_1hr, Nc_others_1hr, Nc_total_1hr = model_parameters.get_interaction_matrices(dataset='willem_2012',intensity='more_one_hour')"
   ]
  },
  {
   "cell_type": "code",
   "execution_count": 4,
   "metadata": {
    "ExecuteTime": {
     "end_time": "2021-02-08T07:43:00.888903Z",
     "start_time": "2021-02-08T07:43:00.822946Z"
    }
   },
   "outputs": [],
   "source": [
    "Nc_all = {'total': Nc_total, 'home':Nc_home, 'work': Nc_work, 'schools': Nc_schools, 'transport': Nc_transport, 'leisure': Nc_leisure, 'others': Nc_others}\n",
    "Nc_15min = {'total': Nc_total_15, 'home': Nc_home_15, 'work': Nc_work_15, 'schools': Nc_schools_15, 'transport': Nc_transport_15, 'leisure': Nc_leisure_15, 'others': Nc_others_15}\n",
    "Nc_1hr = {'total': Nc_total_1hr, 'home': Nc_home_1hr, 'work': Nc_work_1hr, 'schools': Nc_schools_1hr, 'transport': Nc_transport_1hr, 'leisure': Nc_leisure_1hr, 'others': Nc_others_1hr}"
   ]
  },
  {
   "cell_type": "markdown",
   "metadata": {},
   "source": [
    "## Load publically available data from Sciensano"
   ]
  },
  {
   "cell_type": "code",
   "execution_count": 5,
   "metadata": {
    "ExecuteTime": {
     "end_time": "2021-02-08T07:43:01.371156Z",
     "start_time": "2021-02-08T07:43:00.891382Z"
    }
   },
   "outputs": [],
   "source": [
    "df_sciensano = sciensano.get_sciensano_COVID19_data(update=False)\n",
    "df_sciensano['D_cum'] = df_sciensano.D_tot.cumsum()"
   ]
  },
  {
   "cell_type": "code",
   "execution_count": 6,
   "metadata": {
    "ExecuteTime": {
     "end_time": "2021-02-08T07:43:01.566835Z",
     "start_time": "2021-02-08T07:43:01.380718Z"
    }
   },
   "outputs": [],
   "source": [
    "df_google = mobility.get_google_mobility_data(update=False, plot=False)"
   ]
  },
  {
   "cell_type": "markdown",
   "metadata": {},
   "source": [
    "## Load posterior parameter distributions of calibrated parameters"
   ]
  },
  {
   "cell_type": "code",
   "execution_count": 7,
   "metadata": {
    "ExecuteTime": {
     "end_time": "2021-02-08T07:43:03.662180Z",
     "start_time": "2021-02-08T07:43:01.569262Z"
    }
   },
   "outputs": [],
   "source": [
    "# Load samples dictionaries\n",
    "with open('../../data/interim/model_parameters/COVID19_SEIRD/calibrations/national/BE_4_prev_full_2021-01-30_WAVE2_GOOGLE.json', 'r') as fp:\n",
    "    samples_dict = json.load(fp)\n",
    "\n",
    "with open('../../data/interim/model_parameters/COVID19_SEIRD/calibrations/national/google/initial_states_2020-09-01.json', 'r') as fp:\n",
    "    initial_states_sept = json.load(fp) "
   ]
  },
  {
   "cell_type": "code",
   "execution_count": null,
   "metadata": {
    "ExecuteTime": {
     "end_time": "2020-12-02T10:14:49.867274Z",
     "start_time": "2020-12-02T10:14:49.825611Z"
    }
   },
   "outputs": [],
   "source": [
    "# fig,ax = plt.subplots()\n",
    "# pd.Series(samples_dict['beta']).hist()\n",
    "# pd.Series(samples_dict['tau']).hist()"
   ]
  },
  {
   "cell_type": "markdown",
   "metadata": {},
   "source": [
    "## Settings"
   ]
  },
  {
   "cell_type": "code",
   "execution_count": 8,
   "metadata": {
    "ExecuteTime": {
     "end_time": "2021-02-08T07:43:03.748368Z",
     "start_time": "2021-02-08T07:43:03.667550Z"
    }
   },
   "outputs": [],
   "source": [
    "UL = 0.975\n",
    "LL = 0.025"
   ]
  },
  {
   "cell_type": "code",
   "execution_count": 9,
   "metadata": {
    "ExecuteTime": {
     "end_time": "2021-02-08T07:43:03.909435Z",
     "start_time": "2021-02-08T07:43:03.755913Z"
    }
   },
   "outputs": [],
   "source": [
    "start_calibration = '2021-01-01'\n",
    "end_sim = '2021-09-01'"
   ]
  },
  {
   "cell_type": "markdown",
   "metadata": {},
   "source": [
    "Alle vaccins twee dosissen nodig (Pfizer, Moderna, AstraZeneca, Curevac) behalve Johnson&Johnson (pas vanaf mei)"
   ]
  },
  {
   "cell_type": "code",
   "execution_count": 10,
   "metadata": {
    "ExecuteTime": {
     "end_time": "2021-02-08T07:43:04.011407Z",
     "start_time": "2021-02-08T07:43:03.916826Z"
    }
   },
   "outputs": [],
   "source": [
    "# doses per day (Regeringscommissariaat Corona, published by De Tijd)\n",
    "d = {}\n",
    "d['jan'] = 31765\n",
    "d['feb'] = 45897\n",
    "d['mar-apr'] = 128499\n",
    "d['may-aug'] = 78358\n",
    "\n",
    "# proportion of age group living in nursing homes\n",
    "# for simplicity we will use the data for respectively age groups 60+, 70+ and 80+\n",
    "NH = {}\n",
    "NH['65+'] = 0.007\n",
    "NH['75+'] = (0.05+0.029)/2\n",
    "NH['85+'] = (0.137+0.267)/2\n"
   ]
  },
  {
   "cell_type": "markdown",
   "metadata": {},
   "source": [
    "# Functions"
   ]
  },
  {
   "cell_type": "code",
   "execution_count": 11,
   "metadata": {
    "ExecuteTime": {
     "end_time": "2021-02-08T07:43:06.121236Z",
     "start_time": "2021-02-08T07:43:05.969177Z"
    }
   },
   "outputs": [],
   "source": [
    "def vacc_strategy(t, param, d, NH, initN):\n",
    "    \"\"\"\n",
    "    time-dependent function for vaccination strategy\n",
    "    \n",
    "    d : dictionary\n",
    "        daily number of doses for that month\n",
    "    NH : dictionary\n",
    "        proportion of residents in nursing homes per age group\n",
    "    initN : 2D array\n",
    "        if needed, add a dimension with initN[np.newaxis]\n",
    "    \n",
    "    \"\"\"\n",
    "    \n",
    "    if len(initN.shape) == 1:\n",
    "         raise ValueError(\n",
    "                \"initN should have 2 dimensions\"\n",
    "            )    \n",
    "    N_vacc = np.zeros(initN.shape)\n",
    "    delay = pd.Timedelta('30D')\n",
    "    \n",
    "    t1 = pd.Timestamp('2021-01-01') + delay\n",
    "    t2 = pd.Timestamp('2021-02-01') + delay\n",
    "    t3 = pd.Timestamp('2021-03-01') + delay\n",
    "    t4 = pd.Timestamp('2021-05-01') + delay\n",
    "    \n",
    "    if t < t1:\n",
    "        N_vacc = np.zeros(initN.shape)\n",
    "    \n",
    "    elif t1 <= t < t2: # January : nursing homes + part of care personnel\n",
    "        # daily vaccinated persons on immunity date = daily dose on vaccination date / 2\n",
    "        daily_85 = (NH['85+']*initN[:,[8]])/31\n",
    "        daily_75 = (NH['75+']*initN[:,[7]])/31\n",
    "        daily_65 = (NH['65+']*initN[:,[6]])/31\n",
    "        care_personnel_daily_jan = d['jan']/2-daily_85-daily_75-daily_65\n",
    "        N_vacc[:,[8]] = daily_85\n",
    "        N_vacc[:,[7]] = daily_75\n",
    "        N_vacc[:,[6]] = daily_65\n",
    "        N_vacc[:,[5,4,3,2]] = care_personnel_daily_jan/4\n",
    "        \n",
    "    elif t2 <= t < t3: # February : care personnel\n",
    "        N_vacc[:,[5,4,3,2]] = d['feb']/2/4\n",
    "        \n",
    "    elif t3 <= t < t4: # March-April : 65+ and risico patients\n",
    "        plus_65_left_daily = ((1-NH['85+'])*initN[:,[8]] + (1-NH['75+'])*initN[:,[7]] + (1-NH['65+'])*initN[:,[6]])/60\n",
    "        rest_daily = d['mar-apr']/2 - plus_65_left_daily\n",
    "        N_vacc[:,[8,7,6]] = plus_65_left_daily/3\n",
    "        N_vacc[:,[5,4,3,2]] = rest_daily/4\n",
    "    \n",
    "    else: # May-August : all 18+\n",
    "        N_vacc[:,[5,4,3,2]] = d['may-aug']/2/4\n",
    "        \n",
    "    return N_vacc.squeeze()\n",
    "    \n",
    "    "
   ]
  },
  {
   "cell_type": "code",
   "execution_count": 12,
   "metadata": {
    "ExecuteTime": {
     "end_time": "2021-02-08T07:43:06.195768Z",
     "start_time": "2021-02-08T07:43:06.127297Z"
    }
   },
   "outputs": [],
   "source": [
    " def plot_band_saved_data(ax, df, mean_col, LL_col, UL_col, color, label):\n",
    "    ax.fill_between(df['time'],df[LL_col], df[UL_col],alpha=0.30, facecolor = color)\n",
    "    ax.plot(df['time'], df[mean_col], color=color, label=label, lw=2)\n",
    "    return"
   ]
  },
  {
   "cell_type": "code",
   "execution_count": 13,
   "metadata": {
    "ExecuteTime": {
     "end_time": "2021-02-08T07:43:06.382603Z",
     "start_time": "2021-02-08T07:43:06.326620Z"
    }
   },
   "outputs": [],
   "source": [
    "def plot_band_age(ax, y_model, age_group, var, color, label):\n",
    "    ax.fill_between(pd.to_datetime(y_model['time'].values),y_model[var].quantile(LL,dim=\"draws\").sel(Nc=age_group), \n",
    "                    y_model[var].quantile(UL,dim=\"draws\").sel(Nc=age_group),alpha=0.30, facecolor = color)\n",
    "    ax.plot(y_model['time'],y_model[var].mean(dim=\"draws\").sel(Nc=age_group), color=color, label=label, lw=2)\n",
    "    return"
   ]
  },
  {
   "cell_type": "code",
   "execution_count": 14,
   "metadata": {
    "ExecuteTime": {
     "end_time": "2021-02-08T07:43:06.551343Z",
     "start_time": "2021-02-08T07:43:06.464171Z"
    }
   },
   "outputs": [],
   "source": [
    "def check_overtake_duration(sim, dims):\n",
    "    \"\"\"\n",
    "    sim : data array resulting from simulation\n",
    "    dims : list of dimensions over which to average\n",
    "    \n",
    "    Returns\n",
    "    -------\n",
    "    N_days : number of days before new strain takes over (99%)\n",
    "    \"\"\"\n",
    "    end = sim['alpha'].mean(dim=dims)[sim['alpha'].mean(dim=dims)<0.99]['time'][-1].values\n",
    "    start = sim['alpha'].mean(dim=dims)[sim['alpha'].mean(dim=dims)<0.99]['time'][0].values\n",
    "    \n",
    "    N_days = (pd.to_datetime(end)-pd.to_datetime(start))/pd.Timedelta('1D')\n",
    "    \n",
    "    return N_days"
   ]
  },
  {
   "cell_type": "code",
   "execution_count": 15,
   "metadata": {
    "ExecuteTime": {
     "end_time": "2021-02-08T07:43:07.030625Z",
     "start_time": "2021-02-08T07:43:06.969404Z"
    }
   },
   "outputs": [],
   "source": [
    "def get_date_of_exceeding_alpha(sim, dims, alpha_limit):\n",
    "    \"\"\"\n",
    "    sim : data array resulting from simulation\n",
    "    dims : list of dimensions over which to average\n",
    "    \"\"\"\n",
    "    return pd.Timestamp(sim['alpha'].mean(dim=dims)[sim['alpha'].mean(dim=dims)>alpha_limit]['time'][0].values)"
   ]
  },
  {
   "cell_type": "code",
   "execution_count": 16,
   "metadata": {
    "ExecuteTime": {
     "end_time": "2021-02-08T07:43:07.465724Z",
     "start_time": "2021-02-08T07:43:07.397497Z"
    }
   },
   "outputs": [],
   "source": [
    "def sample_from_binomial(sim_result, variable, n_draws_per_sample, n_samples,\n",
    "                         Y0_new=None):\n",
    "                         #Y0_mean=[], Y0_median=[], Y0_LL=[], Y0_UL=[]):\n",
    "    \"\"\"\n",
    "    Function to sample from binomial, and add the result to an existing list (if given)\n",
    "    \"\"\"\n",
    "    \n",
    "    \n",
    "    Y = sim_result[variable].sum(dim=\"Nc\").values\n",
    "    # Initialize vectors\n",
    "    Y_new = np.zeros((Y.shape[1],n_draws_per_sample*n_samples))\n",
    "    # Loop over dimension draws\n",
    "    for n in range(Y.shape[0]):\n",
    "        binomial_draw = np.random.poisson( np.expand_dims(Y[n,:],axis=1),size = (Y.shape[1],n_draws_per_sample))\n",
    "        Y_new[:,n*n_draws_per_sample:(n+1)*n_draws_per_sample] = binomial_draw\n",
    "    # Compute mean and median\n",
    "    if Y0_new is None:\n",
    "        Y_new = Y_new\n",
    "    else:\n",
    "        Y_new = np.append(Y0_new, Y_new, axis=0)\n",
    "\n",
    "    return Y_new\n",
    "    \n",
    "    "
   ]
  },
  {
   "cell_type": "code",
   "execution_count": 17,
   "metadata": {
    "ExecuteTime": {
     "end_time": "2021-02-08T07:43:07.745722Z",
     "start_time": "2021-02-08T07:43:07.690660Z"
    }
   },
   "outputs": [],
   "source": [
    "def plot_band_binom(ax, time, Y_binom, color, label, axis=1):\n",
    "    ax.fill_between(time, np.quantile(Y_binom, q = LL, axis = axis), \n",
    "                    np.quantile(Y_binom, q = UL, axis = axis),alpha=0.30, facecolor = color)\n",
    "    ax.plot(time,np.mean(Y_binom,axis=axis), color=color, label=label, lw=2, linestyle='--')\n",
    "    return"
   ]
  },
  {
   "cell_type": "code",
   "execution_count": 111,
   "metadata": {
    "ExecuteTime": {
     "end_time": "2021-02-08T12:28:53.487132Z",
     "start_time": "2021-02-08T12:28:53.443239Z"
    }
   },
   "outputs": [],
   "source": [
    "def draw_fcn(param_dict,samples_dict,to_sample):\n",
    "    # Sample\n",
    "    idx, param_dict['beta'] = random.choice(list(enumerate(samples_dict['beta'])))\n",
    "    param_dict['l'] = samples_dict['l'][idx] \n",
    "    param_dict['tau'] = samples_dict['tau'][idx]    \n",
    "    param_dict['prev_home'] = samples_dict['prev_home'][idx] \n",
    "    param_dict['prev_schools'] = samples_dict['prev_schools'][idx]    \n",
    "    param_dict['prev_work'] = samples_dict['prev_work'][idx]       \n",
    "    param_dict['prev_rest'] = samples_dict['prev_rest'][idx] \n",
    "    #param_dict['K'] = np.random.uniform(infectivity_gain_lower,infectivity_gain_upper)\n",
    "    return param_dict"
   ]
  },
  {
   "cell_type": "code",
   "execution_count": 19,
   "metadata": {
    "ExecuteTime": {
     "end_time": "2021-02-08T07:43:08.467630Z",
     "start_time": "2021-02-08T07:43:08.396332Z"
    }
   },
   "outputs": [],
   "source": [
    "def plot_band(ax, y_model, var, color, label):\n",
    "    ax.fill_between(pd.to_datetime(y_model['time'].values),\n",
    "                    y_model[var].sum(dim=\"Nc\").quantile(LL,dim=\"draws\"), \n",
    "                    y_model[var].sum(dim=\"Nc\").quantile(UL,dim=\"draws\"),alpha=0.30, facecolor = color)\n",
    "    ax.plot(y_model['time'],y_model[var].sum(dim=\"Nc\").mean(dim=\"draws\"), color=color, label=label, lw=2)\n",
    "    return"
   ]
  },
  {
   "cell_type": "markdown",
   "metadata": {},
   "source": [
    "# Time-dep functions"
   ]
  },
  {
   "cell_type": "code",
   "execution_count": 20,
   "metadata": {
    "ExecuteTime": {
     "end_time": "2021-02-08T07:43:09.415375Z",
     "start_time": "2021-02-08T07:43:09.361164Z"
    }
   },
   "outputs": [],
   "source": [
    "from covid19model.models.time_dependant_parameter_fncs import make_contact_matrix_function\n",
    "contact_matrix_4prev = make_contact_matrix_function(df_google, Nc_all)"
   ]
  },
  {
   "cell_type": "code",
   "execution_count": 164,
   "metadata": {
    "ExecuteTime": {
     "end_time": "2021-02-08T14:23:14.897800Z",
     "start_time": "2021-02-08T14:23:14.816813Z"
    }
   },
   "outputs": [],
   "source": [
    "def report7_policy_function(t, param, l , tau, prev_home, prev_schools, prev_work, prev_rest,scenario='1a'):\n",
    "    # Convert tau and l to dates\n",
    "    tau_days = pd.Timedelta(tau, unit='D')\n",
    "    l_days = pd.Timedelta(l, unit='D')\n",
    "\n",
    "    # Define key policy dates\n",
    "    t1 = pd.Timestamp('2020-03-15') # start of lockdown\n",
    "    t2 = pd.Timestamp('2020-05-15') # gradual re-opening of schools (assume 50% of nominal scenario)\n",
    "    t3 = pd.Timestamp('2020-07-01') # start of summer: COVID-urgency very low\n",
    "    t4 = pd.Timestamp('2020-08-01')\n",
    "    t5 = pd.Timestamp('2020-09-01') # september: lockdown relaxation narrative in newspapers reduces sense of urgency\n",
    "    t6 = pd.Timestamp('2020-10-19') # lockdown\n",
    "    t7 = pd.Timestamp('2020-11-16') # schools re-open\n",
    "    t8 = pd.Timestamp('2020-12-18') # schools close\n",
    "    t9 = pd.Timestamp('2020-12-24')\n",
    "    t10 = pd.Timestamp('2020-12-26')\n",
    "    t11 = pd.Timestamp('2020-12-31')\n",
    "    t12 = pd.Timestamp('2021-01-01')\n",
    "    t13 = pd.Timestamp('2020-01-04') # Opening of schools\n",
    "    #t14 = pd.Timestamp('2021-01-18') # start of alternative policies\n",
    "    t15 = pd.Timestamp('2021-02-15') # Start of Krokus break\n",
    "    t16 = pd.Timestamp('2021-02-21') # End of Krokus break\n",
    "    t17 = pd.Timestamp('2021-03-01') # release to SB March 1\n",
    "    t18 = pd.Timestamp('2021-04-01') # release to SB April 1\n",
    "    t19 = pd.Timestamp('2021-05-01') # release to SB May 1\n",
    "\n",
    "    # Average out september mobility\n",
    "\n",
    "    if t5 < t <= t6 + tau_days:\n",
    "        t = pd.Timestamp(t.date())\n",
    "        return contact_matrix_4prev(t, school=1)\n",
    "    elif t6 + tau_days < t <= t6 + tau_days + l_days:\n",
    "        t = pd.Timestamp(t.date())\n",
    "        policy_old = contact_matrix_4prev(t, school=1)\n",
    "        policy_new = contact_matrix_4prev(t, prev_home, prev_schools, prev_work, prev_rest, \n",
    "                                    school=0)\n",
    "        return ramp_fun(policy_old, policy_new, t, tau_days, l, t6)\n",
    "    elif t6 + tau_days + l_days < t <= t7:\n",
    "        t = pd.Timestamp(t.date())\n",
    "        return contact_matrix_4prev(t, prev_home, prev_schools, prev_work, prev_rest, \n",
    "                              school=0)\n",
    "    elif t7 < t <= t8:\n",
    "        t = pd.Timestamp(t.date())\n",
    "        return contact_matrix_4prev(t, prev_home, prev_schools, prev_work, prev_rest, \n",
    "                              school=1)\n",
    "    elif t8 < t <= t9:\n",
    "        t = pd.Timestamp(t.date())\n",
    "        return contact_matrix_4prev(t, prev_home, prev_schools, prev_work, prev_rest, \n",
    "                              school=0)\n",
    "    elif t9 < t <= t13:\n",
    "        t = pd.Timestamp(t.date())\n",
    "        return contact_matrix_4prev(t, prev_home, prev_schools, prev_work, prev_rest, \n",
    "                        school=0)\n",
    "    elif t13 < t <= t15:\n",
    "        t = pd.Timestamp(t.date())\n",
    "        return contact_matrix_4prev(t, prev_home, prev_schools, prev_work, prev_rest, \n",
    "                        school=0.6)\n",
    "    elif t15 < t <= t16:\n",
    "        t = pd.Timestamp(t.date())\n",
    "        return contact_matrix_4prev(t, prev_home, prev_schools, prev_work, prev_rest, \n",
    "                        school=0)    \n",
    "    else:\n",
    "        # Scenario 1: Current contact behaviour + schools open on January 18th\n",
    "        if scenario == '1':\n",
    "                                \n",
    "            if t > t16:\n",
    "                t = pd.Timestamp(t.date())\n",
    "                return contact_matrix_4prev(t, prev_home, prev_schools, prev_work, prev_rest, \n",
    "                                school=0.6)\n",
    "            else:\n",
    "                raise Exception ('scenario '+scenario+' t:'+str(t))\n",
    "                    \n",
    "        # Scenario 2: increases in work or leisure mobility on March 1\n",
    "        elif scenario == '2':\n",
    "            if t16 < t <= t17:\n",
    "                t = pd.Timestamp(t.date())\n",
    "                return contact_matrix_4prev(t, prev_home, prev_schools, prev_work, prev_rest, \n",
    "                                school=0.6)  \n",
    "            elif t > t17:\n",
    "                t = pd.Timestamp(t.date())\n",
    "                return contact_matrix_4prev(t, 1, 1, 1, 1, \n",
    "                                school=0.6,SB='2a')\n",
    "            else:\n",
    "                raise Exception ('scenario '+scenario+' t:'+str(t))\n",
    "        # Scenario 3: increases in work or leisure mobility on April 1\n",
    "        elif scenario == '3':\n",
    "            if t16 < t <= t18:\n",
    "                t = pd.Timestamp(t.date())\n",
    "                return contact_matrix_4prev(t, prev_home, prev_schools, prev_work, prev_rest, \n",
    "                                school=0.6)  \n",
    "            elif t > t18:\n",
    "                t = pd.Timestamp(t.date())\n",
    "                return contact_matrix_4prev(t, 1, 1, 1, 1, \n",
    "                                school=0.6,SB='2a')\n",
    "            else:\n",
    "                raise Exception ('scenario '+scenario+' t:'+str(t))\n",
    "        # Scenario 4: increases in work or leisure mobility on May 1\n",
    "        elif scenario == '4':\n",
    "            if t16 < t <= t19:\n",
    "                t = pd.Timestamp(t.date())\n",
    "                return contact_matrix_4prev(t, prev_home, prev_schools, prev_work, prev_rest, \n",
    "                                school=0.6)  \n",
    "            elif t > t19:\n",
    "                t = pd.Timestamp(t.date())\n",
    "                return contact_matrix_4prev(t, 1, 1, 1, 1, \n",
    "                                school=0.6,SB='2a')\n",
    "            else:\n",
    "                raise Exception ('scenario '+scenario+' t:'+str(t))\n",
    "        else:\n",
    "            raise Exception ('scenario '+scenario+' non-existing')"
   ]
  },
  {
   "cell_type": "code",
   "execution_count": 22,
   "metadata": {
    "ExecuteTime": {
     "end_time": "2021-02-08T07:43:10.895071Z",
     "start_time": "2021-02-08T07:43:10.833670Z"
    }
   },
   "outputs": [],
   "source": [
    "def vaccin_model(initial_states, scenario, effectivity=None, injection_day=0, injection_ratio=0,\n",
    "                 Nc_fun=None, N_vacc_fun=vacc_strategy, levels=levels):\n",
    "    \"\"\"\n",
    "    Function to initialize the model given a certain vaccination strategy\n",
    "    \"\"\"\n",
    "    params = model_parameters.get_COVID19_SEIRD_parameters()\n",
    "    params.update({\n",
    "            'l' : 5,\n",
    "            'tau' : 5,\n",
    "            'prev_home': 0.5,\n",
    "            'prev_schools': 0.5,\n",
    "            'prev_work': 0.5,\n",
    "            'prev_rest': 0.5,\n",
    "            'scenario': scenario,\n",
    "            'injection_day' : injection_day,\n",
    "            'injection_ratio' : injection_ratio\n",
    "                  })\n",
    "    \n",
    "    tdp = {}\n",
    "    \n",
    "    if Nc_fun is not None:\n",
    "        tdp.update({'Nc': Nc_fun})\n",
    "    if N_vacc_fun is not None:\n",
    "        tdp.update({'N_vacc':N_vacc_fun})\n",
    "        params.update({\n",
    "            'd' : d,\n",
    "            'NH' : NH,\n",
    "            'e' : np.array([effectivity]*levels),\n",
    "            'initN' : initN[np.newaxis]\n",
    "        })\n",
    "    return models.COVID19_SEIRD(initial_states, params, time_dependent_parameters=tdp)"
   ]
  },
  {
   "cell_type": "markdown",
   "metadata": {
    "heading_collapsed": true
   },
   "source": [
    "# Test vacc strategy"
   ]
  },
  {
   "cell_type": "code",
   "execution_count": null,
   "metadata": {
    "ExecuteTime": {
     "end_time": "2021-02-03T12:33:19.060728Z",
     "start_time": "2021-02-03T12:33:19.000940Z"
    },
    "hidden": true
   },
   "outputs": [],
   "source": [
    "# Need to initiate I also with the co-infection model, otherwise divison by zero occurs\n",
    "initial_states = {'S': initN, 'E': np.ones(levels), 'I': np.ones(levels), 'alpha':np.zeros(9)}"
   ]
  },
  {
   "cell_type": "code",
   "execution_count": null,
   "metadata": {
    "ExecuteTime": {
     "end_time": "2021-02-03T12:32:52.420407Z",
     "start_time": "2021-02-03T12:32:52.044071Z"
    },
    "hidden": true
   },
   "outputs": [],
   "source": [
    "params = model_parameters.get_COVID19_SEIRD_parameters()\n",
    "dummy_model_no_vacc = models.COVID19_SEIRD(initial_states, params)\n",
    "sim_dummy_model_no_vacc = dummy_model_no_vacc.sim(time=end_sim, start_date=start_calibration)"
   ]
  },
  {
   "cell_type": "code",
   "execution_count": null,
   "metadata": {
    "ExecuteTime": {
     "end_time": "2021-02-03T08:35:13.293977Z",
     "start_time": "2021-02-03T08:35:12.526830Z"
    },
    "hidden": true,
    "scrolled": true
   },
   "outputs": [],
   "source": [
    "params = model_parameters.get_COVID19_SEIRD_parameters()\n",
    "params.update({'d' : d,\n",
    "               'NH' : NH,\n",
    "               'e' : np.array([0.9]*levels),\n",
    "               'initN' : initN[np.newaxis]\n",
    "              })\n",
    "dummy_model_vacc = models.COVID19_SEIRD(initial_states, params, time_dependent_parameters={'N_vacc': vacc_strategy})\n",
    "sim_dummy_model_vacc = dummy_model_vacc.sim(time=end_sim, start_date=start_calibration)"
   ]
  },
  {
   "cell_type": "code",
   "execution_count": null,
   "metadata": {
    "ExecuteTime": {
     "end_time": "2021-02-03T12:56:32.702499Z",
     "start_time": "2021-02-03T12:56:32.003665Z"
    },
    "hidden": true
   },
   "outputs": [],
   "source": [
    "injection_day = (pd.Timestamp('2021-01-01') - pd.Timestamp(start_calibration))/pd.Timedelta('1D')\n",
    "params = model_parameters.get_COVID19_SEIRD_parameters()\n",
    "params.update({'d' : d,\n",
    "               'NH' : NH,\n",
    "               'e' : np.array([0.9]*levels),\n",
    "               'K' : 1.6,\n",
    "               'initN' : initN[np.newaxis],\n",
    "               'injection_day': injection_day,\n",
    "               'injection_ratio':0.1,\n",
    "              })\n",
    "\n",
    "dummy_model_vacc_UK = models.COVID19_SEIRD(initial_states, params, time_dependent_parameters={'N_vacc': vacc_strategy})\n",
    "sim_dummy_model_vacc_UK = dummy_model_vacc_UK.sim(time=end_sim, start_date=start_calibration)"
   ]
  },
  {
   "cell_type": "code",
   "execution_count": null,
   "metadata": {
    "ExecuteTime": {
     "end_time": "2021-02-04T14:26:51.737600Z",
     "start_time": "2021-02-04T14:26:51.655412Z"
    },
    "hidden": true
   },
   "outputs": [],
   "source": [
    "timerange = pd.date_range(start_calibration,'2021-09-01')\n",
    "test_dict = {}\n",
    "for t in timerange:\n",
    "    test_dict[t] = np.sum(vacc_strategy(t=t, param=None, d=d, NH=NH, initN=initN[np.newaxis]))\n",
    "test_df = pd.DataFrame.from_dict(test_dict, orient='index').reset_index()\n",
    "test_df.columns = ['date','N_vacc']\n",
    "test_df['N_cum'] = test_df.N_vacc.cumsum()"
   ]
  },
  {
   "cell_type": "code",
   "execution_count": null,
   "metadata": {
    "ExecuteTime": {
     "end_time": "2021-02-04T14:24:45.511972Z",
     "start_time": "2021-02-04T14:24:45.285484Z"
    },
    "hidden": true
   },
   "outputs": [],
   "source": [
    "fig,ax = plt.subplots(figsize=(9,5))\n",
    "ax.plot('date', 'N_vacc', data=test_df, c='green', label='time-dep function')\n",
    "ax.plot(sim_dummy_model_vacc['time'], sim_dummy_model_vacc['V_new'].sum(dim='Nc'), c='blue', linestyle='--', label='model')\n",
    "ax.legend()\n",
    "ax.set_ylabel('Daily vaccination number')"
   ]
  },
  {
   "cell_type": "code",
   "execution_count": null,
   "metadata": {
    "ExecuteTime": {
     "end_time": "2021-02-04T14:48:17.563579Z",
     "start_time": "2021-02-04T14:48:16.512345Z"
    },
    "hidden": true
   },
   "outputs": [],
   "source": [
    "fig,ax = plt.subplots(figsize=(11,5))\n",
    "ax.plot('date', 'N_cum', data=test_df, c='black')\n",
    "ax2 = ax.twinx()\n",
    "ax2.plot('date', 'N_vacc', data=test_df, c='gray', linestyle='--')\n",
    "ax.set_ylabel('Total number of people vaccinated')\n",
    "ax2.set_ylabel('Number of people vaccinated daily')\n",
    "ax.grid(False)\n",
    "ax2.grid(False)\n",
    "ax.set_xlabel('Time')\n",
    "ax.set_ylim(0,)\n",
    "ax2.set_ylim(0,)\n",
    "ax2.set_axis_on()\n",
    "yticks = [2,4,6,8]\n",
    "ax.set_yticks([0]+[i*10**6 for i in yticks])\n",
    "ax.set_yticklabels(['0']+[str(i)+'*10$^6$' for i in yticks])\n",
    "yticks2 = [2,4,6]\n",
    "ax2.set_yticks([0]+[i*10**4 for i in yticks2])\n",
    "ax2.set_yticklabels(['0']+[str(i)+'*10$^4$' for i in yticks2])\n",
    "fig.savefig('../../results/predictions/national/restore_v7.0/vacc_strategy', dpi=400)"
   ]
  },
  {
   "cell_type": "code",
   "execution_count": null,
   "metadata": {
    "ExecuteTime": {
     "end_time": "2021-01-25T07:50:42.993565Z",
     "start_time": "2021-01-25T07:50:42.949539Z"
    },
    "hidden": true
   },
   "outputs": [],
   "source": [
    "N = d['jan']/2*31+d['feb']/2*28+d['mar-apr']/2*(31+30)+d['may-aug']/2*(31+30)\n",
    "print('Approximate total number of vaccinations by august 1: {}'.format(N))\n",
    "#pd.to_datetime(end_sim) - pd.to_datetime(start_calibration)\n",
    "V_pool_aug = sim_dummy_model_vacc['V'].sum(dim='Nc').values[-1]\n",
    "print('Number of persons in vaccinated pool by end of simulation: {}'.format(V_pool_aug))\n",
    "V_new_sum = sim_dummy_model_vacc['V_new'].sum(dim='Nc').sum(dim='time').values\n",
    "print('Total number of people vaccinated by end of simulation: {}'.format(V_new_sum))"
   ]
  },
  {
   "cell_type": "code",
   "execution_count": null,
   "metadata": {
    "ExecuteTime": {
     "end_time": "2021-02-03T08:35:43.270898Z",
     "start_time": "2021-02-03T08:35:43.088811Z"
    },
    "hidden": true
   },
   "outputs": [],
   "source": [
    "population_status(sim_dummy_model_no_vacc)"
   ]
  },
  {
   "cell_type": "code",
   "execution_count": null,
   "metadata": {
    "ExecuteTime": {
     "end_time": "2021-02-03T08:35:48.462941Z",
     "start_time": "2021-02-03T08:35:48.320619Z"
    },
    "hidden": true
   },
   "outputs": [],
   "source": [
    "population_status(sim_dummy_model_vacc)"
   ]
  },
  {
   "cell_type": "code",
   "execution_count": null,
   "metadata": {
    "ExecuteTime": {
     "end_time": "2021-02-03T08:35:52.207649Z",
     "start_time": "2021-02-03T08:35:52.060325Z"
    },
    "hidden": true
   },
   "outputs": [],
   "source": [
    "population_status(sim_dummy_model_vacc_UK)"
   ]
  },
  {
   "cell_type": "code",
   "execution_count": null,
   "metadata": {
    "ExecuteTime": {
     "end_time": "2021-02-03T12:29:46.340982Z",
     "start_time": "2021-02-03T12:29:46.157315Z"
    },
    "hidden": true
   },
   "outputs": [],
   "source": [
    "population_status(sim_dummy_model_vacc_UK)"
   ]
  },
  {
   "cell_type": "code",
   "execution_count": null,
   "metadata": {
    "ExecuteTime": {
     "end_time": "2021-01-22T11:36:23.480169Z",
     "start_time": "2021-01-22T11:36:23.261684Z"
    },
    "hidden": true
   },
   "outputs": [],
   "source": [
    "# check evolutie van alpha\n",
    "fig,ax = plt.subplots()\n",
    "sim_dummy_model_vacc_UK['alpha'].mean(dim='Nc').plot(ax=ax)"
   ]
  },
  {
   "cell_type": "code",
   "execution_count": null,
   "metadata": {
    "ExecuteTime": {
     "end_time": "2021-01-25T09:12:46.338422Z",
     "start_time": "2021-01-25T09:12:46.295280Z"
    },
    "hidden": true
   },
   "outputs": [],
   "source": [
    "N_days = check_overtake_duration(sim_dummy_model_vacc_UK, dims='Nc')\n",
    "N_days"
   ]
  },
  {
   "cell_type": "markdown",
   "metadata": {
    "hidden": true
   },
   "source": [
    "duurt altijd ong. 100 dagen..., onafhankelijk van hoeveel je initialiseert. Ws omdat in deze test het virus nog niet verspreid is (en iedereen susceptible), dus de verspreiding wordt direct volledig overgenomen door besmettelijke variant."
   ]
  },
  {
   "cell_type": "markdown",
   "metadata": {},
   "source": [
    "# Test spatial model"
   ]
  },
  {
   "cell_type": "code",
   "execution_count": 201,
   "metadata": {
    "ExecuteTime": {
     "end_time": "2021-02-08T18:31:15.256835Z",
     "start_time": "2021-02-08T18:31:14.865263Z"
    }
   },
   "outputs": [],
   "source": [
    "geo_unit = 'prov'\n",
    "initN_spatial, Nc_home, Nc_work, Nc_schools, Nc_transport, Nc_leisure, Nc_others, Nc_total = model_parameters.get_interaction_matrices(dataset='willem_2012', spatial=geo_unit)\n",
    "shape = initN_spatial.shape"
   ]
  },
  {
   "cell_type": "code",
   "execution_count": 202,
   "metadata": {
    "ExecuteTime": {
     "end_time": "2021-02-08T18:31:15.420353Z",
     "start_time": "2021-02-08T18:31:15.359685Z"
    }
   },
   "outputs": [],
   "source": [
    "# divide daily vaccinations over spatial units according to population fraction in unit\n",
    "fraction_per_arr = initN_spatial.sum(axis=1)/initN_spatial.sum().sum()\n",
    "d_spatial = {key:el*fraction_per_arr[:,np.newaxis] for key,el in d.items()}"
   ]
  },
  {
   "cell_type": "code",
   "execution_count": 203,
   "metadata": {
    "ExecuteTime": {
     "end_time": "2021-02-08T18:31:16.036386Z",
     "start_time": "2021-02-08T18:31:15.996986Z"
    }
   },
   "outputs": [],
   "source": [
    "# Need to initiate I also with the co-infection model, otherwise divison by zero occurs\n",
    "initial_states = {'S': initN_spatial, 'E': np.ones(shape), 'I': np.ones(shape), 'alpha':np.zeros(shape)}"
   ]
  },
  {
   "cell_type": "code",
   "execution_count": 204,
   "metadata": {
    "ExecuteTime": {
     "end_time": "2021-02-08T18:31:17.207750Z",
     "start_time": "2021-02-08T18:31:16.500741Z"
    }
   },
   "outputs": [],
   "source": [
    "params = model_parameters.get_COVID19_SEIRD_parameters(spatial=geo_unit)\n",
    "dummy_spatial_model = models.COVID19_SEIRD_spatial(initial_states, params, spatial=geo_unit)\n",
    "sim_dummy_spatial_model = dummy_spatial_model.sim(time=end_sim, start_date=start_calibration)"
   ]
  },
  {
   "cell_type": "code",
   "execution_count": 205,
   "metadata": {
    "ExecuteTime": {
     "end_time": "2021-02-08T18:35:42.292139Z",
     "start_time": "2021-02-08T18:31:19.789883Z"
    }
   },
   "outputs": [
    {
     "name": "stderr",
     "output_type": "stream",
     "text": [
      "/Users/jennavergeynst/OneDrive - UGent/Corona_Postdoc/COVID19-Model/src/covid19model/models/models.py:422: RuntimeWarning: overflow encountered in exp\n",
      "  f = 1 + (1 - np.exp(-xi * rho))\n",
      "/Applications/miniconda3/envs/work/lib/python3.8/site-packages/numpy/core/numeric.py:906: RuntimeWarning: invalid value encountered in multiply\n",
      "  return multiply(a.ravel()[:, newaxis], b.ravel()[newaxis, :], out)\n",
      "/Users/jennavergeynst/OneDrive - UGent/Corona_Postdoc/COVID19-Model/src/covid19model/models/models.py:427: RuntimeWarning: overflow encountered in matmul\n",
      "  zi = Ti / np.matmul(np.transpose(T_eff),f)\n"
     ]
    }
   ],
   "source": [
    "params = model_parameters.get_COVID19_SEIRD_parameters(spatial=geo_unit)\n",
    "params.update({'d' : d_spatial,\n",
    "               'NH' : NH,\n",
    "               'e' : np.ones(levels)*0.9,\n",
    "               'initN' : initN_spatial\n",
    "              })\n",
    "dummy_spatial_model_vacc = models.COVID19_SEIRD_spatial(initial_states, params, spatial=geo_unit, time_dependent_parameters={'N_vacc': vacc_strategy})\n",
    "sim_dummy_spatial_model_vacc = dummy_spatial_model_vacc.sim(time=end_sim, start_date=start_calibration)"
   ]
  },
  {
   "cell_type": "code",
   "execution_count": 207,
   "metadata": {
    "ExecuteTime": {
     "end_time": "2021-02-08T18:39:34.049593Z",
     "start_time": "2021-02-08T18:39:33.830437Z"
    },
    "collapsed": true
   },
   "outputs": [
    {
     "data": {
      "application/javascript": [
       "/* Put everything inside the global mpl namespace */\n",
       "window.mpl = {};\n",
       "\n",
       "\n",
       "mpl.get_websocket_type = function() {\n",
       "    if (typeof(WebSocket) !== 'undefined') {\n",
       "        return WebSocket;\n",
       "    } else if (typeof(MozWebSocket) !== 'undefined') {\n",
       "        return MozWebSocket;\n",
       "    } else {\n",
       "        alert('Your browser does not have WebSocket support. ' +\n",
       "              'Please try Chrome, Safari or Firefox ≥ 6. ' +\n",
       "              'Firefox 4 and 5 are also supported but you ' +\n",
       "              'have to enable WebSockets in about:config.');\n",
       "    };\n",
       "}\n",
       "\n",
       "mpl.figure = function(figure_id, websocket, ondownload, parent_element) {\n",
       "    this.id = figure_id;\n",
       "\n",
       "    this.ws = websocket;\n",
       "\n",
       "    this.supports_binary = (this.ws.binaryType != undefined);\n",
       "\n",
       "    if (!this.supports_binary) {\n",
       "        var warnings = document.getElementById(\"mpl-warnings\");\n",
       "        if (warnings) {\n",
       "            warnings.style.display = 'block';\n",
       "            warnings.textContent = (\n",
       "                \"This browser does not support binary websocket messages. \" +\n",
       "                    \"Performance may be slow.\");\n",
       "        }\n",
       "    }\n",
       "\n",
       "    this.imageObj = new Image();\n",
       "\n",
       "    this.context = undefined;\n",
       "    this.message = undefined;\n",
       "    this.canvas = undefined;\n",
       "    this.rubberband_canvas = undefined;\n",
       "    this.rubberband_context = undefined;\n",
       "    this.format_dropdown = undefined;\n",
       "\n",
       "    this.image_mode = 'full';\n",
       "\n",
       "    this.root = $('<div/>');\n",
       "    this._root_extra_style(this.root)\n",
       "    this.root.attr('style', 'display: inline-block');\n",
       "\n",
       "    $(parent_element).append(this.root);\n",
       "\n",
       "    this._init_header(this);\n",
       "    this._init_canvas(this);\n",
       "    this._init_toolbar(this);\n",
       "\n",
       "    var fig = this;\n",
       "\n",
       "    this.waiting = false;\n",
       "\n",
       "    this.ws.onopen =  function () {\n",
       "            fig.send_message(\"supports_binary\", {value: fig.supports_binary});\n",
       "            fig.send_message(\"send_image_mode\", {});\n",
       "            if (mpl.ratio != 1) {\n",
       "                fig.send_message(\"set_dpi_ratio\", {'dpi_ratio': mpl.ratio});\n",
       "            }\n",
       "            fig.send_message(\"refresh\", {});\n",
       "        }\n",
       "\n",
       "    this.imageObj.onload = function() {\n",
       "            if (fig.image_mode == 'full') {\n",
       "                // Full images could contain transparency (where diff images\n",
       "                // almost always do), so we need to clear the canvas so that\n",
       "                // there is no ghosting.\n",
       "                fig.context.clearRect(0, 0, fig.canvas.width, fig.canvas.height);\n",
       "            }\n",
       "            fig.context.drawImage(fig.imageObj, 0, 0);\n",
       "        };\n",
       "\n",
       "    this.imageObj.onunload = function() {\n",
       "        fig.ws.close();\n",
       "    }\n",
       "\n",
       "    this.ws.onmessage = this._make_on_message_function(this);\n",
       "\n",
       "    this.ondownload = ondownload;\n",
       "}\n",
       "\n",
       "mpl.figure.prototype._init_header = function() {\n",
       "    var titlebar = $(\n",
       "        '<div class=\"ui-dialog-titlebar ui-widget-header ui-corner-all ' +\n",
       "        'ui-helper-clearfix\"/>');\n",
       "    var titletext = $(\n",
       "        '<div class=\"ui-dialog-title\" style=\"width: 100%; ' +\n",
       "        'text-align: center; padding: 3px;\"/>');\n",
       "    titlebar.append(titletext)\n",
       "    this.root.append(titlebar);\n",
       "    this.header = titletext[0];\n",
       "}\n",
       "\n",
       "\n",
       "\n",
       "mpl.figure.prototype._canvas_extra_style = function(canvas_div) {\n",
       "\n",
       "}\n",
       "\n",
       "\n",
       "mpl.figure.prototype._root_extra_style = function(canvas_div) {\n",
       "\n",
       "}\n",
       "\n",
       "mpl.figure.prototype._init_canvas = function() {\n",
       "    var fig = this;\n",
       "\n",
       "    var canvas_div = $('<div/>');\n",
       "\n",
       "    canvas_div.attr('style', 'position: relative; clear: both; outline: 0');\n",
       "\n",
       "    function canvas_keyboard_event(event) {\n",
       "        return fig.key_event(event, event['data']);\n",
       "    }\n",
       "\n",
       "    canvas_div.keydown('key_press', canvas_keyboard_event);\n",
       "    canvas_div.keyup('key_release', canvas_keyboard_event);\n",
       "    this.canvas_div = canvas_div\n",
       "    this._canvas_extra_style(canvas_div)\n",
       "    this.root.append(canvas_div);\n",
       "\n",
       "    var canvas = $('<canvas/>');\n",
       "    canvas.addClass('mpl-canvas');\n",
       "    canvas.attr('style', \"left: 0; top: 0; z-index: 0; outline: 0\")\n",
       "\n",
       "    this.canvas = canvas[0];\n",
       "    this.context = canvas[0].getContext(\"2d\");\n",
       "\n",
       "    var backingStore = this.context.backingStorePixelRatio ||\n",
       "\tthis.context.webkitBackingStorePixelRatio ||\n",
       "\tthis.context.mozBackingStorePixelRatio ||\n",
       "\tthis.context.msBackingStorePixelRatio ||\n",
       "\tthis.context.oBackingStorePixelRatio ||\n",
       "\tthis.context.backingStorePixelRatio || 1;\n",
       "\n",
       "    mpl.ratio = (window.devicePixelRatio || 1) / backingStore;\n",
       "\n",
       "    var rubberband = $('<canvas/>');\n",
       "    rubberband.attr('style', \"position: absolute; left: 0; top: 0; z-index: 1;\")\n",
       "\n",
       "    var pass_mouse_events = true;\n",
       "\n",
       "    canvas_div.resizable({\n",
       "        start: function(event, ui) {\n",
       "            pass_mouse_events = false;\n",
       "        },\n",
       "        resize: function(event, ui) {\n",
       "            fig.request_resize(ui.size.width, ui.size.height);\n",
       "        },\n",
       "        stop: function(event, ui) {\n",
       "            pass_mouse_events = true;\n",
       "            fig.request_resize(ui.size.width, ui.size.height);\n",
       "        },\n",
       "    });\n",
       "\n",
       "    function mouse_event_fn(event) {\n",
       "        if (pass_mouse_events)\n",
       "            return fig.mouse_event(event, event['data']);\n",
       "    }\n",
       "\n",
       "    rubberband.mousedown('button_press', mouse_event_fn);\n",
       "    rubberband.mouseup('button_release', mouse_event_fn);\n",
       "    // Throttle sequential mouse events to 1 every 20ms.\n",
       "    rubberband.mousemove('motion_notify', mouse_event_fn);\n",
       "\n",
       "    rubberband.mouseenter('figure_enter', mouse_event_fn);\n",
       "    rubberband.mouseleave('figure_leave', mouse_event_fn);\n",
       "\n",
       "    canvas_div.on(\"wheel\", function (event) {\n",
       "        event = event.originalEvent;\n",
       "        event['data'] = 'scroll'\n",
       "        if (event.deltaY < 0) {\n",
       "            event.step = 1;\n",
       "        } else {\n",
       "            event.step = -1;\n",
       "        }\n",
       "        mouse_event_fn(event);\n",
       "    });\n",
       "\n",
       "    canvas_div.append(canvas);\n",
       "    canvas_div.append(rubberband);\n",
       "\n",
       "    this.rubberband = rubberband;\n",
       "    this.rubberband_canvas = rubberband[0];\n",
       "    this.rubberband_context = rubberband[0].getContext(\"2d\");\n",
       "    this.rubberband_context.strokeStyle = \"#000000\";\n",
       "\n",
       "    this._resize_canvas = function(width, height) {\n",
       "        // Keep the size of the canvas, canvas container, and rubber band\n",
       "        // canvas in synch.\n",
       "        canvas_div.css('width', width)\n",
       "        canvas_div.css('height', height)\n",
       "\n",
       "        canvas.attr('width', width * mpl.ratio);\n",
       "        canvas.attr('height', height * mpl.ratio);\n",
       "        canvas.attr('style', 'width: ' + width + 'px; height: ' + height + 'px;');\n",
       "\n",
       "        rubberband.attr('width', width);\n",
       "        rubberband.attr('height', height);\n",
       "    }\n",
       "\n",
       "    // Set the figure to an initial 600x600px, this will subsequently be updated\n",
       "    // upon first draw.\n",
       "    this._resize_canvas(600, 600);\n",
       "\n",
       "    // Disable right mouse context menu.\n",
       "    $(this.rubberband_canvas).bind(\"contextmenu\",function(e){\n",
       "        return false;\n",
       "    });\n",
       "\n",
       "    function set_focus () {\n",
       "        canvas.focus();\n",
       "        canvas_div.focus();\n",
       "    }\n",
       "\n",
       "    window.setTimeout(set_focus, 100);\n",
       "}\n",
       "\n",
       "mpl.figure.prototype._init_toolbar = function() {\n",
       "    var fig = this;\n",
       "\n",
       "    var nav_element = $('<div/>');\n",
       "    nav_element.attr('style', 'width: 100%');\n",
       "    this.root.append(nav_element);\n",
       "\n",
       "    // Define a callback function for later on.\n",
       "    function toolbar_event(event) {\n",
       "        return fig.toolbar_button_onclick(event['data']);\n",
       "    }\n",
       "    function toolbar_mouse_event(event) {\n",
       "        return fig.toolbar_button_onmouseover(event['data']);\n",
       "    }\n",
       "\n",
       "    for(var toolbar_ind in mpl.toolbar_items) {\n",
       "        var name = mpl.toolbar_items[toolbar_ind][0];\n",
       "        var tooltip = mpl.toolbar_items[toolbar_ind][1];\n",
       "        var image = mpl.toolbar_items[toolbar_ind][2];\n",
       "        var method_name = mpl.toolbar_items[toolbar_ind][3];\n",
       "\n",
       "        if (!name) {\n",
       "            // put a spacer in here.\n",
       "            continue;\n",
       "        }\n",
       "        var button = $('<button/>');\n",
       "        button.addClass('ui-button ui-widget ui-state-default ui-corner-all ' +\n",
       "                        'ui-button-icon-only');\n",
       "        button.attr('role', 'button');\n",
       "        button.attr('aria-disabled', 'false');\n",
       "        button.click(method_name, toolbar_event);\n",
       "        button.mouseover(tooltip, toolbar_mouse_event);\n",
       "\n",
       "        var icon_img = $('<span/>');\n",
       "        icon_img.addClass('ui-button-icon-primary ui-icon');\n",
       "        icon_img.addClass(image);\n",
       "        icon_img.addClass('ui-corner-all');\n",
       "\n",
       "        var tooltip_span = $('<span/>');\n",
       "        tooltip_span.addClass('ui-button-text');\n",
       "        tooltip_span.html(tooltip);\n",
       "\n",
       "        button.append(icon_img);\n",
       "        button.append(tooltip_span);\n",
       "\n",
       "        nav_element.append(button);\n",
       "    }\n",
       "\n",
       "    var fmt_picker_span = $('<span/>');\n",
       "\n",
       "    var fmt_picker = $('<select/>');\n",
       "    fmt_picker.addClass('mpl-toolbar-option ui-widget ui-widget-content');\n",
       "    fmt_picker_span.append(fmt_picker);\n",
       "    nav_element.append(fmt_picker_span);\n",
       "    this.format_dropdown = fmt_picker[0];\n",
       "\n",
       "    for (var ind in mpl.extensions) {\n",
       "        var fmt = mpl.extensions[ind];\n",
       "        var option = $(\n",
       "            '<option/>', {selected: fmt === mpl.default_extension}).html(fmt);\n",
       "        fmt_picker.append(option);\n",
       "    }\n",
       "\n",
       "    // Add hover states to the ui-buttons\n",
       "    $( \".ui-button\" ).hover(\n",
       "        function() { $(this).addClass(\"ui-state-hover\");},\n",
       "        function() { $(this).removeClass(\"ui-state-hover\");}\n",
       "    );\n",
       "\n",
       "    var status_bar = $('<span class=\"mpl-message\"/>');\n",
       "    nav_element.append(status_bar);\n",
       "    this.message = status_bar[0];\n",
       "}\n",
       "\n",
       "mpl.figure.prototype.request_resize = function(x_pixels, y_pixels) {\n",
       "    // Request matplotlib to resize the figure. Matplotlib will then trigger a resize in the client,\n",
       "    // which will in turn request a refresh of the image.\n",
       "    this.send_message('resize', {'width': x_pixels, 'height': y_pixels});\n",
       "}\n",
       "\n",
       "mpl.figure.prototype.send_message = function(type, properties) {\n",
       "    properties['type'] = type;\n",
       "    properties['figure_id'] = this.id;\n",
       "    this.ws.send(JSON.stringify(properties));\n",
       "}\n",
       "\n",
       "mpl.figure.prototype.send_draw_message = function() {\n",
       "    if (!this.waiting) {\n",
       "        this.waiting = true;\n",
       "        this.ws.send(JSON.stringify({type: \"draw\", figure_id: this.id}));\n",
       "    }\n",
       "}\n",
       "\n",
       "\n",
       "mpl.figure.prototype.handle_save = function(fig, msg) {\n",
       "    var format_dropdown = fig.format_dropdown;\n",
       "    var format = format_dropdown.options[format_dropdown.selectedIndex].value;\n",
       "    fig.ondownload(fig, format);\n",
       "}\n",
       "\n",
       "\n",
       "mpl.figure.prototype.handle_resize = function(fig, msg) {\n",
       "    var size = msg['size'];\n",
       "    if (size[0] != fig.canvas.width || size[1] != fig.canvas.height) {\n",
       "        fig._resize_canvas(size[0], size[1]);\n",
       "        fig.send_message(\"refresh\", {});\n",
       "    };\n",
       "}\n",
       "\n",
       "mpl.figure.prototype.handle_rubberband = function(fig, msg) {\n",
       "    var x0 = msg['x0'] / mpl.ratio;\n",
       "    var y0 = (fig.canvas.height - msg['y0']) / mpl.ratio;\n",
       "    var x1 = msg['x1'] / mpl.ratio;\n",
       "    var y1 = (fig.canvas.height - msg['y1']) / mpl.ratio;\n",
       "    x0 = Math.floor(x0) + 0.5;\n",
       "    y0 = Math.floor(y0) + 0.5;\n",
       "    x1 = Math.floor(x1) + 0.5;\n",
       "    y1 = Math.floor(y1) + 0.5;\n",
       "    var min_x = Math.min(x0, x1);\n",
       "    var min_y = Math.min(y0, y1);\n",
       "    var width = Math.abs(x1 - x0);\n",
       "    var height = Math.abs(y1 - y0);\n",
       "\n",
       "    fig.rubberband_context.clearRect(\n",
       "        0, 0, fig.canvas.width / mpl.ratio, fig.canvas.height / mpl.ratio);\n",
       "\n",
       "    fig.rubberband_context.strokeRect(min_x, min_y, width, height);\n",
       "}\n",
       "\n",
       "mpl.figure.prototype.handle_figure_label = function(fig, msg) {\n",
       "    // Updates the figure title.\n",
       "    fig.header.textContent = msg['label'];\n",
       "}\n",
       "\n",
       "mpl.figure.prototype.handle_cursor = function(fig, msg) {\n",
       "    var cursor = msg['cursor'];\n",
       "    switch(cursor)\n",
       "    {\n",
       "    case 0:\n",
       "        cursor = 'pointer';\n",
       "        break;\n",
       "    case 1:\n",
       "        cursor = 'default';\n",
       "        break;\n",
       "    case 2:\n",
       "        cursor = 'crosshair';\n",
       "        break;\n",
       "    case 3:\n",
       "        cursor = 'move';\n",
       "        break;\n",
       "    }\n",
       "    fig.rubberband_canvas.style.cursor = cursor;\n",
       "}\n",
       "\n",
       "mpl.figure.prototype.handle_message = function(fig, msg) {\n",
       "    fig.message.textContent = msg['message'];\n",
       "}\n",
       "\n",
       "mpl.figure.prototype.handle_draw = function(fig, msg) {\n",
       "    // Request the server to send over a new figure.\n",
       "    fig.send_draw_message();\n",
       "}\n",
       "\n",
       "mpl.figure.prototype.handle_image_mode = function(fig, msg) {\n",
       "    fig.image_mode = msg['mode'];\n",
       "}\n",
       "\n",
       "mpl.figure.prototype.updated_canvas_event = function() {\n",
       "    // Called whenever the canvas gets updated.\n",
       "    this.send_message(\"ack\", {});\n",
       "}\n",
       "\n",
       "// A function to construct a web socket function for onmessage handling.\n",
       "// Called in the figure constructor.\n",
       "mpl.figure.prototype._make_on_message_function = function(fig) {\n",
       "    return function socket_on_message(evt) {\n",
       "        if (evt.data instanceof Blob) {\n",
       "            /* FIXME: We get \"Resource interpreted as Image but\n",
       "             * transferred with MIME type text/plain:\" errors on\n",
       "             * Chrome.  But how to set the MIME type?  It doesn't seem\n",
       "             * to be part of the websocket stream */\n",
       "            evt.data.type = \"image/png\";\n",
       "\n",
       "            /* Free the memory for the previous frames */\n",
       "            if (fig.imageObj.src) {\n",
       "                (window.URL || window.webkitURL).revokeObjectURL(\n",
       "                    fig.imageObj.src);\n",
       "            }\n",
       "\n",
       "            fig.imageObj.src = (window.URL || window.webkitURL).createObjectURL(\n",
       "                evt.data);\n",
       "            fig.updated_canvas_event();\n",
       "            fig.waiting = false;\n",
       "            return;\n",
       "        }\n",
       "        else if (typeof evt.data === 'string' && evt.data.slice(0, 21) == \"data:image/png;base64\") {\n",
       "            fig.imageObj.src = evt.data;\n",
       "            fig.updated_canvas_event();\n",
       "            fig.waiting = false;\n",
       "            return;\n",
       "        }\n",
       "\n",
       "        var msg = JSON.parse(evt.data);\n",
       "        var msg_type = msg['type'];\n",
       "\n",
       "        // Call the  \"handle_{type}\" callback, which takes\n",
       "        // the figure and JSON message as its only arguments.\n",
       "        try {\n",
       "            var callback = fig[\"handle_\" + msg_type];\n",
       "        } catch (e) {\n",
       "            console.log(\"No handler for the '\" + msg_type + \"' message type: \", msg);\n",
       "            return;\n",
       "        }\n",
       "\n",
       "        if (callback) {\n",
       "            try {\n",
       "                // console.log(\"Handling '\" + msg_type + \"' message: \", msg);\n",
       "                callback(fig, msg);\n",
       "            } catch (e) {\n",
       "                console.log(\"Exception inside the 'handler_\" + msg_type + \"' callback:\", e, e.stack, msg);\n",
       "            }\n",
       "        }\n",
       "    };\n",
       "}\n",
       "\n",
       "// from http://stackoverflow.com/questions/1114465/getting-mouse-location-in-canvas\n",
       "mpl.findpos = function(e) {\n",
       "    //this section is from http://www.quirksmode.org/js/events_properties.html\n",
       "    var targ;\n",
       "    if (!e)\n",
       "        e = window.event;\n",
       "    if (e.target)\n",
       "        targ = e.target;\n",
       "    else if (e.srcElement)\n",
       "        targ = e.srcElement;\n",
       "    if (targ.nodeType == 3) // defeat Safari bug\n",
       "        targ = targ.parentNode;\n",
       "\n",
       "    // jQuery normalizes the pageX and pageY\n",
       "    // pageX,Y are the mouse positions relative to the document\n",
       "    // offset() returns the position of the element relative to the document\n",
       "    var x = e.pageX - $(targ).offset().left;\n",
       "    var y = e.pageY - $(targ).offset().top;\n",
       "\n",
       "    return {\"x\": x, \"y\": y};\n",
       "};\n",
       "\n",
       "/*\n",
       " * return a copy of an object with only non-object keys\n",
       " * we need this to avoid circular references\n",
       " * http://stackoverflow.com/a/24161582/3208463\n",
       " */\n",
       "function simpleKeys (original) {\n",
       "  return Object.keys(original).reduce(function (obj, key) {\n",
       "    if (typeof original[key] !== 'object')\n",
       "        obj[key] = original[key]\n",
       "    return obj;\n",
       "  }, {});\n",
       "}\n",
       "\n",
       "mpl.figure.prototype.mouse_event = function(event, name) {\n",
       "    var canvas_pos = mpl.findpos(event)\n",
       "\n",
       "    if (name === 'button_press')\n",
       "    {\n",
       "        this.canvas.focus();\n",
       "        this.canvas_div.focus();\n",
       "    }\n",
       "\n",
       "    var x = canvas_pos.x * mpl.ratio;\n",
       "    var y = canvas_pos.y * mpl.ratio;\n",
       "\n",
       "    this.send_message(name, {x: x, y: y, button: event.button,\n",
       "                             step: event.step,\n",
       "                             guiEvent: simpleKeys(event)});\n",
       "\n",
       "    /* This prevents the web browser from automatically changing to\n",
       "     * the text insertion cursor when the button is pressed.  We want\n",
       "     * to control all of the cursor setting manually through the\n",
       "     * 'cursor' event from matplotlib */\n",
       "    event.preventDefault();\n",
       "    return false;\n",
       "}\n",
       "\n",
       "mpl.figure.prototype._key_event_extra = function(event, name) {\n",
       "    // Handle any extra behaviour associated with a key event\n",
       "}\n",
       "\n",
       "mpl.figure.prototype.key_event = function(event, name) {\n",
       "\n",
       "    // Prevent repeat events\n",
       "    if (name == 'key_press')\n",
       "    {\n",
       "        if (event.which === this._key)\n",
       "            return;\n",
       "        else\n",
       "            this._key = event.which;\n",
       "    }\n",
       "    if (name == 'key_release')\n",
       "        this._key = null;\n",
       "\n",
       "    var value = '';\n",
       "    if (event.ctrlKey && event.which != 17)\n",
       "        value += \"ctrl+\";\n",
       "    if (event.altKey && event.which != 18)\n",
       "        value += \"alt+\";\n",
       "    if (event.shiftKey && event.which != 16)\n",
       "        value += \"shift+\";\n",
       "\n",
       "    value += 'k';\n",
       "    value += event.which.toString();\n",
       "\n",
       "    this._key_event_extra(event, name);\n",
       "\n",
       "    this.send_message(name, {key: value,\n",
       "                             guiEvent: simpleKeys(event)});\n",
       "    return false;\n",
       "}\n",
       "\n",
       "mpl.figure.prototype.toolbar_button_onclick = function(name) {\n",
       "    if (name == 'download') {\n",
       "        this.handle_save(this, null);\n",
       "    } else {\n",
       "        this.send_message(\"toolbar_button\", {name: name});\n",
       "    }\n",
       "};\n",
       "\n",
       "mpl.figure.prototype.toolbar_button_onmouseover = function(tooltip) {\n",
       "    this.message.textContent = tooltip;\n",
       "};\n",
       "mpl.toolbar_items = [[\"Home\", \"Reset original view\", \"fa fa-home icon-home\", \"home\"], [\"Back\", \"Back to previous view\", \"fa fa-arrow-left icon-arrow-left\", \"back\"], [\"Forward\", \"Forward to next view\", \"fa fa-arrow-right icon-arrow-right\", \"forward\"], [\"\", \"\", \"\", \"\"], [\"Pan\", \"Pan axes with left mouse, zoom with right\", \"fa fa-arrows icon-move\", \"pan\"], [\"Zoom\", \"Zoom to rectangle\", \"fa fa-square-o icon-check-empty\", \"zoom\"], [\"\", \"\", \"\", \"\"], [\"Download\", \"Download plot\", \"fa fa-floppy-o icon-save\", \"download\"]];\n",
       "\n",
       "mpl.extensions = [\"eps\", \"jpeg\", \"pdf\", \"png\", \"ps\", \"raw\", \"svg\", \"tif\"];\n",
       "\n",
       "mpl.default_extension = \"png\";var comm_websocket_adapter = function(comm) {\n",
       "    // Create a \"websocket\"-like object which calls the given IPython comm\n",
       "    // object with the appropriate methods. Currently this is a non binary\n",
       "    // socket, so there is still some room for performance tuning.\n",
       "    var ws = {};\n",
       "\n",
       "    ws.close = function() {\n",
       "        comm.close()\n",
       "    };\n",
       "    ws.send = function(m) {\n",
       "        //console.log('sending', m);\n",
       "        comm.send(m);\n",
       "    };\n",
       "    // Register the callback with on_msg.\n",
       "    comm.on_msg(function(msg) {\n",
       "        //console.log('receiving', msg['content']['data'], msg);\n",
       "        // Pass the mpl event to the overridden (by mpl) onmessage function.\n",
       "        ws.onmessage(msg['content']['data'])\n",
       "    });\n",
       "    return ws;\n",
       "}\n",
       "\n",
       "mpl.mpl_figure_comm = function(comm, msg) {\n",
       "    // This is the function which gets called when the mpl process\n",
       "    // starts-up an IPython Comm through the \"matplotlib\" channel.\n",
       "\n",
       "    var id = msg.content.data.id;\n",
       "    // Get hold of the div created by the display call when the Comm\n",
       "    // socket was opened in Python.\n",
       "    var element = $(\"#\" + id);\n",
       "    var ws_proxy = comm_websocket_adapter(comm)\n",
       "\n",
       "    function ondownload(figure, format) {\n",
       "        window.open(figure.imageObj.src);\n",
       "    }\n",
       "\n",
       "    var fig = new mpl.figure(id, ws_proxy,\n",
       "                           ondownload,\n",
       "                           element.get(0));\n",
       "\n",
       "    // Call onopen now - mpl needs it, as it is assuming we've passed it a real\n",
       "    // web socket which is closed, not our websocket->open comm proxy.\n",
       "    ws_proxy.onopen();\n",
       "\n",
       "    fig.parent_element = element.get(0);\n",
       "    fig.cell_info = mpl.find_output_cell(\"<div id='\" + id + \"'></div>\");\n",
       "    if (!fig.cell_info) {\n",
       "        console.error(\"Failed to find cell for figure\", id, fig);\n",
       "        return;\n",
       "    }\n",
       "\n",
       "    var output_index = fig.cell_info[2]\n",
       "    var cell = fig.cell_info[0];\n",
       "\n",
       "};\n",
       "\n",
       "mpl.figure.prototype.handle_close = function(fig, msg) {\n",
       "    var width = fig.canvas.width/mpl.ratio\n",
       "    fig.root.unbind('remove')\n",
       "\n",
       "    // Update the output cell to use the data from the current canvas.\n",
       "    fig.push_to_output();\n",
       "    var dataURL = fig.canvas.toDataURL();\n",
       "    // Re-enable the keyboard manager in IPython - without this line, in FF,\n",
       "    // the notebook keyboard shortcuts fail.\n",
       "    IPython.keyboard_manager.enable()\n",
       "    $(fig.parent_element).html('<img src=\"' + dataURL + '\" width=\"' + width + '\">');\n",
       "    fig.close_ws(fig, msg);\n",
       "}\n",
       "\n",
       "mpl.figure.prototype.close_ws = function(fig, msg){\n",
       "    fig.send_message('closing', msg);\n",
       "    // fig.ws.close()\n",
       "}\n",
       "\n",
       "mpl.figure.prototype.push_to_output = function(remove_interactive) {\n",
       "    // Turn the data on the canvas into data in the output cell.\n",
       "    var width = this.canvas.width/mpl.ratio\n",
       "    var dataURL = this.canvas.toDataURL();\n",
       "    this.cell_info[1]['text/html'] = '<img src=\"' + dataURL + '\" width=\"' + width + '\">';\n",
       "}\n",
       "\n",
       "mpl.figure.prototype.updated_canvas_event = function() {\n",
       "    // Tell IPython that the notebook contents must change.\n",
       "    IPython.notebook.set_dirty(true);\n",
       "    this.send_message(\"ack\", {});\n",
       "    var fig = this;\n",
       "    // Wait a second, then push the new image to the DOM so\n",
       "    // that it is saved nicely (might be nice to debounce this).\n",
       "    setTimeout(function () { fig.push_to_output() }, 1000);\n",
       "}\n",
       "\n",
       "mpl.figure.prototype._init_toolbar = function() {\n",
       "    var fig = this;\n",
       "\n",
       "    var nav_element = $('<div/>');\n",
       "    nav_element.attr('style', 'width: 100%');\n",
       "    this.root.append(nav_element);\n",
       "\n",
       "    // Define a callback function for later on.\n",
       "    function toolbar_event(event) {\n",
       "        return fig.toolbar_button_onclick(event['data']);\n",
       "    }\n",
       "    function toolbar_mouse_event(event) {\n",
       "        return fig.toolbar_button_onmouseover(event['data']);\n",
       "    }\n",
       "\n",
       "    for(var toolbar_ind in mpl.toolbar_items){\n",
       "        var name = mpl.toolbar_items[toolbar_ind][0];\n",
       "        var tooltip = mpl.toolbar_items[toolbar_ind][1];\n",
       "        var image = mpl.toolbar_items[toolbar_ind][2];\n",
       "        var method_name = mpl.toolbar_items[toolbar_ind][3];\n",
       "\n",
       "        if (!name) { continue; };\n",
       "\n",
       "        var button = $('<button class=\"btn btn-default\" href=\"#\" title=\"' + name + '\"><i class=\"fa ' + image + ' fa-lg\"></i></button>');\n",
       "        button.click(method_name, toolbar_event);\n",
       "        button.mouseover(tooltip, toolbar_mouse_event);\n",
       "        nav_element.append(button);\n",
       "    }\n",
       "\n",
       "    // Add the status bar.\n",
       "    var status_bar = $('<span class=\"mpl-message\" style=\"text-align:right; float: right;\"/>');\n",
       "    nav_element.append(status_bar);\n",
       "    this.message = status_bar[0];\n",
       "\n",
       "    // Add the close button to the window.\n",
       "    var buttongrp = $('<div class=\"btn-group inline pull-right\"></div>');\n",
       "    var button = $('<button class=\"btn btn-mini btn-primary\" href=\"#\" title=\"Stop Interaction\"><i class=\"fa fa-power-off icon-remove icon-large\"></i></button>');\n",
       "    button.click(function (evt) { fig.handle_close(fig, {}); } );\n",
       "    button.mouseover('Stop Interaction', toolbar_mouse_event);\n",
       "    buttongrp.append(button);\n",
       "    var titlebar = this.root.find($('.ui-dialog-titlebar'));\n",
       "    titlebar.prepend(buttongrp);\n",
       "}\n",
       "\n",
       "mpl.figure.prototype._root_extra_style = function(el){\n",
       "    var fig = this\n",
       "    el.on(\"remove\", function(){\n",
       "\tfig.close_ws(fig, {});\n",
       "    });\n",
       "}\n",
       "\n",
       "mpl.figure.prototype._canvas_extra_style = function(el){\n",
       "    // this is important to make the div 'focusable\n",
       "    el.attr('tabindex', 0)\n",
       "    // reach out to IPython and tell the keyboard manager to turn it's self\n",
       "    // off when our div gets focus\n",
       "\n",
       "    // location in version 3\n",
       "    if (IPython.notebook.keyboard_manager) {\n",
       "        IPython.notebook.keyboard_manager.register_events(el);\n",
       "    }\n",
       "    else {\n",
       "        // location in version 2\n",
       "        IPython.keyboard_manager.register_events(el);\n",
       "    }\n",
       "\n",
       "}\n",
       "\n",
       "mpl.figure.prototype._key_event_extra = function(event, name) {\n",
       "    var manager = IPython.notebook.keyboard_manager;\n",
       "    if (!manager)\n",
       "        manager = IPython.keyboard_manager;\n",
       "\n",
       "    // Check for shift+enter\n",
       "    if (event.shiftKey && event.which == 13) {\n",
       "        this.canvas_div.blur();\n",
       "        // select the cell after this one\n",
       "        var index = IPython.notebook.find_cell_index(this.cell_info[0]);\n",
       "        IPython.notebook.select(index + 1);\n",
       "    }\n",
       "}\n",
       "\n",
       "mpl.figure.prototype.handle_save = function(fig, msg) {\n",
       "    fig.ondownload(fig, null);\n",
       "}\n",
       "\n",
       "\n",
       "mpl.find_output_cell = function(html_output) {\n",
       "    // Return the cell and output element which can be found *uniquely* in the notebook.\n",
       "    // Note - this is a bit hacky, but it is done because the \"notebook_saving.Notebook\"\n",
       "    // IPython event is triggered only after the cells have been serialised, which for\n",
       "    // our purposes (turning an active figure into a static one), is too late.\n",
       "    var cells = IPython.notebook.get_cells();\n",
       "    var ncells = cells.length;\n",
       "    for (var i=0; i<ncells; i++) {\n",
       "        var cell = cells[i];\n",
       "        if (cell.cell_type === 'code'){\n",
       "            for (var j=0; j<cell.output_area.outputs.length; j++) {\n",
       "                var data = cell.output_area.outputs[j];\n",
       "                if (data.data) {\n",
       "                    // IPython >= 3 moved mimebundle to data attribute of output\n",
       "                    data = data.data;\n",
       "                }\n",
       "                if (data['text/html'] == html_output) {\n",
       "                    return [cell, data, j];\n",
       "                }\n",
       "            }\n",
       "        }\n",
       "    }\n",
       "}\n",
       "\n",
       "// Register the function which deals with the matplotlib target/channel.\n",
       "// The kernel may be null if the page has been refreshed.\n",
       "if (IPython.notebook.kernel != null) {\n",
       "    IPython.notebook.kernel.comm_manager.register_target('matplotlib', mpl.mpl_figure_comm);\n",
       "}\n"
      ],
      "text/plain": [
       "<IPython.core.display.Javascript object>"
      ]
     },
     "metadata": {},
     "output_type": "display_data"
    },
    {
     "data": {
      "text/html": [
       "<img src=\"data:image/png;base64,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\" width=\"900\">"
      ],
      "text/plain": [
       "<IPython.core.display.HTML object>"
      ]
     },
     "metadata": {},
     "output_type": "display_data"
    },
    {
     "data": {
      "text/plain": [
       "[<matplotlib.lines.Line2D at 0x12fb2c370>,\n",
       " <matplotlib.lines.Line2D at 0x1271f0430>,\n",
       " <matplotlib.lines.Line2D at 0x1271f0370>,\n",
       " <matplotlib.lines.Line2D at 0x1271f0250>,\n",
       " <matplotlib.lines.Line2D at 0x1271f01c0>,\n",
       " <matplotlib.lines.Line2D at 0x1271f04f0>]"
      ]
     },
     "execution_count": 207,
     "metadata": {},
     "output_type": "execute_result"
    }
   ],
   "source": [
    "population_status(sim_dummy_spatial_model.mean(dim='place'))"
   ]
  },
  {
   "cell_type": "code",
   "execution_count": null,
   "metadata": {
    "ExecuteTime": {
     "end_time": "2021-02-04T06:25:13.533280Z",
     "start_time": "2021-02-04T06:25:13.277966Z"
    }
   },
   "outputs": [],
   "source": [
    "sim_dummy_spatial_model_vacc.mean(dim='place')"
   ]
  },
  {
   "cell_type": "code",
   "execution_count": 206,
   "metadata": {
    "ExecuteTime": {
     "end_time": "2021-02-08T18:36:19.760761Z",
     "start_time": "2021-02-08T18:36:19.484685Z"
    }
   },
   "outputs": [
    {
     "data": {
      "application/javascript": [
       "/* Put everything inside the global mpl namespace */\n",
       "window.mpl = {};\n",
       "\n",
       "\n",
       "mpl.get_websocket_type = function() {\n",
       "    if (typeof(WebSocket) !== 'undefined') {\n",
       "        return WebSocket;\n",
       "    } else if (typeof(MozWebSocket) !== 'undefined') {\n",
       "        return MozWebSocket;\n",
       "    } else {\n",
       "        alert('Your browser does not have WebSocket support. ' +\n",
       "              'Please try Chrome, Safari or Firefox ≥ 6. ' +\n",
       "              'Firefox 4 and 5 are also supported but you ' +\n",
       "              'have to enable WebSockets in about:config.');\n",
       "    };\n",
       "}\n",
       "\n",
       "mpl.figure = function(figure_id, websocket, ondownload, parent_element) {\n",
       "    this.id = figure_id;\n",
       "\n",
       "    this.ws = websocket;\n",
       "\n",
       "    this.supports_binary = (this.ws.binaryType != undefined);\n",
       "\n",
       "    if (!this.supports_binary) {\n",
       "        var warnings = document.getElementById(\"mpl-warnings\");\n",
       "        if (warnings) {\n",
       "            warnings.style.display = 'block';\n",
       "            warnings.textContent = (\n",
       "                \"This browser does not support binary websocket messages. \" +\n",
       "                    \"Performance may be slow.\");\n",
       "        }\n",
       "    }\n",
       "\n",
       "    this.imageObj = new Image();\n",
       "\n",
       "    this.context = undefined;\n",
       "    this.message = undefined;\n",
       "    this.canvas = undefined;\n",
       "    this.rubberband_canvas = undefined;\n",
       "    this.rubberband_context = undefined;\n",
       "    this.format_dropdown = undefined;\n",
       "\n",
       "    this.image_mode = 'full';\n",
       "\n",
       "    this.root = $('<div/>');\n",
       "    this._root_extra_style(this.root)\n",
       "    this.root.attr('style', 'display: inline-block');\n",
       "\n",
       "    $(parent_element).append(this.root);\n",
       "\n",
       "    this._init_header(this);\n",
       "    this._init_canvas(this);\n",
       "    this._init_toolbar(this);\n",
       "\n",
       "    var fig = this;\n",
       "\n",
       "    this.waiting = false;\n",
       "\n",
       "    this.ws.onopen =  function () {\n",
       "            fig.send_message(\"supports_binary\", {value: fig.supports_binary});\n",
       "            fig.send_message(\"send_image_mode\", {});\n",
       "            if (mpl.ratio != 1) {\n",
       "                fig.send_message(\"set_dpi_ratio\", {'dpi_ratio': mpl.ratio});\n",
       "            }\n",
       "            fig.send_message(\"refresh\", {});\n",
       "        }\n",
       "\n",
       "    this.imageObj.onload = function() {\n",
       "            if (fig.image_mode == 'full') {\n",
       "                // Full images could contain transparency (where diff images\n",
       "                // almost always do), so we need to clear the canvas so that\n",
       "                // there is no ghosting.\n",
       "                fig.context.clearRect(0, 0, fig.canvas.width, fig.canvas.height);\n",
       "            }\n",
       "            fig.context.drawImage(fig.imageObj, 0, 0);\n",
       "        };\n",
       "\n",
       "    this.imageObj.onunload = function() {\n",
       "        fig.ws.close();\n",
       "    }\n",
       "\n",
       "    this.ws.onmessage = this._make_on_message_function(this);\n",
       "\n",
       "    this.ondownload = ondownload;\n",
       "}\n",
       "\n",
       "mpl.figure.prototype._init_header = function() {\n",
       "    var titlebar = $(\n",
       "        '<div class=\"ui-dialog-titlebar ui-widget-header ui-corner-all ' +\n",
       "        'ui-helper-clearfix\"/>');\n",
       "    var titletext = $(\n",
       "        '<div class=\"ui-dialog-title\" style=\"width: 100%; ' +\n",
       "        'text-align: center; padding: 3px;\"/>');\n",
       "    titlebar.append(titletext)\n",
       "    this.root.append(titlebar);\n",
       "    this.header = titletext[0];\n",
       "}\n",
       "\n",
       "\n",
       "\n",
       "mpl.figure.prototype._canvas_extra_style = function(canvas_div) {\n",
       "\n",
       "}\n",
       "\n",
       "\n",
       "mpl.figure.prototype._root_extra_style = function(canvas_div) {\n",
       "\n",
       "}\n",
       "\n",
       "mpl.figure.prototype._init_canvas = function() {\n",
       "    var fig = this;\n",
       "\n",
       "    var canvas_div = $('<div/>');\n",
       "\n",
       "    canvas_div.attr('style', 'position: relative; clear: both; outline: 0');\n",
       "\n",
       "    function canvas_keyboard_event(event) {\n",
       "        return fig.key_event(event, event['data']);\n",
       "    }\n",
       "\n",
       "    canvas_div.keydown('key_press', canvas_keyboard_event);\n",
       "    canvas_div.keyup('key_release', canvas_keyboard_event);\n",
       "    this.canvas_div = canvas_div\n",
       "    this._canvas_extra_style(canvas_div)\n",
       "    this.root.append(canvas_div);\n",
       "\n",
       "    var canvas = $('<canvas/>');\n",
       "    canvas.addClass('mpl-canvas');\n",
       "    canvas.attr('style', \"left: 0; top: 0; z-index: 0; outline: 0\")\n",
       "\n",
       "    this.canvas = canvas[0];\n",
       "    this.context = canvas[0].getContext(\"2d\");\n",
       "\n",
       "    var backingStore = this.context.backingStorePixelRatio ||\n",
       "\tthis.context.webkitBackingStorePixelRatio ||\n",
       "\tthis.context.mozBackingStorePixelRatio ||\n",
       "\tthis.context.msBackingStorePixelRatio ||\n",
       "\tthis.context.oBackingStorePixelRatio ||\n",
       "\tthis.context.backingStorePixelRatio || 1;\n",
       "\n",
       "    mpl.ratio = (window.devicePixelRatio || 1) / backingStore;\n",
       "\n",
       "    var rubberband = $('<canvas/>');\n",
       "    rubberband.attr('style', \"position: absolute; left: 0; top: 0; z-index: 1;\")\n",
       "\n",
       "    var pass_mouse_events = true;\n",
       "\n",
       "    canvas_div.resizable({\n",
       "        start: function(event, ui) {\n",
       "            pass_mouse_events = false;\n",
       "        },\n",
       "        resize: function(event, ui) {\n",
       "            fig.request_resize(ui.size.width, ui.size.height);\n",
       "        },\n",
       "        stop: function(event, ui) {\n",
       "            pass_mouse_events = true;\n",
       "            fig.request_resize(ui.size.width, ui.size.height);\n",
       "        },\n",
       "    });\n",
       "\n",
       "    function mouse_event_fn(event) {\n",
       "        if (pass_mouse_events)\n",
       "            return fig.mouse_event(event, event['data']);\n",
       "    }\n",
       "\n",
       "    rubberband.mousedown('button_press', mouse_event_fn);\n",
       "    rubberband.mouseup('button_release', mouse_event_fn);\n",
       "    // Throttle sequential mouse events to 1 every 20ms.\n",
       "    rubberband.mousemove('motion_notify', mouse_event_fn);\n",
       "\n",
       "    rubberband.mouseenter('figure_enter', mouse_event_fn);\n",
       "    rubberband.mouseleave('figure_leave', mouse_event_fn);\n",
       "\n",
       "    canvas_div.on(\"wheel\", function (event) {\n",
       "        event = event.originalEvent;\n",
       "        event['data'] = 'scroll'\n",
       "        if (event.deltaY < 0) {\n",
       "            event.step = 1;\n",
       "        } else {\n",
       "            event.step = -1;\n",
       "        }\n",
       "        mouse_event_fn(event);\n",
       "    });\n",
       "\n",
       "    canvas_div.append(canvas);\n",
       "    canvas_div.append(rubberband);\n",
       "\n",
       "    this.rubberband = rubberband;\n",
       "    this.rubberband_canvas = rubberband[0];\n",
       "    this.rubberband_context = rubberband[0].getContext(\"2d\");\n",
       "    this.rubberband_context.strokeStyle = \"#000000\";\n",
       "\n",
       "    this._resize_canvas = function(width, height) {\n",
       "        // Keep the size of the canvas, canvas container, and rubber band\n",
       "        // canvas in synch.\n",
       "        canvas_div.css('width', width)\n",
       "        canvas_div.css('height', height)\n",
       "\n",
       "        canvas.attr('width', width * mpl.ratio);\n",
       "        canvas.attr('height', height * mpl.ratio);\n",
       "        canvas.attr('style', 'width: ' + width + 'px; height: ' + height + 'px;');\n",
       "\n",
       "        rubberband.attr('width', width);\n",
       "        rubberband.attr('height', height);\n",
       "    }\n",
       "\n",
       "    // Set the figure to an initial 600x600px, this will subsequently be updated\n",
       "    // upon first draw.\n",
       "    this._resize_canvas(600, 600);\n",
       "\n",
       "    // Disable right mouse context menu.\n",
       "    $(this.rubberband_canvas).bind(\"contextmenu\",function(e){\n",
       "        return false;\n",
       "    });\n",
       "\n",
       "    function set_focus () {\n",
       "        canvas.focus();\n",
       "        canvas_div.focus();\n",
       "    }\n",
       "\n",
       "    window.setTimeout(set_focus, 100);\n",
       "}\n",
       "\n",
       "mpl.figure.prototype._init_toolbar = function() {\n",
       "    var fig = this;\n",
       "\n",
       "    var nav_element = $('<div/>');\n",
       "    nav_element.attr('style', 'width: 100%');\n",
       "    this.root.append(nav_element);\n",
       "\n",
       "    // Define a callback function for later on.\n",
       "    function toolbar_event(event) {\n",
       "        return fig.toolbar_button_onclick(event['data']);\n",
       "    }\n",
       "    function toolbar_mouse_event(event) {\n",
       "        return fig.toolbar_button_onmouseover(event['data']);\n",
       "    }\n",
       "\n",
       "    for(var toolbar_ind in mpl.toolbar_items) {\n",
       "        var name = mpl.toolbar_items[toolbar_ind][0];\n",
       "        var tooltip = mpl.toolbar_items[toolbar_ind][1];\n",
       "        var image = mpl.toolbar_items[toolbar_ind][2];\n",
       "        var method_name = mpl.toolbar_items[toolbar_ind][3];\n",
       "\n",
       "        if (!name) {\n",
       "            // put a spacer in here.\n",
       "            continue;\n",
       "        }\n",
       "        var button = $('<button/>');\n",
       "        button.addClass('ui-button ui-widget ui-state-default ui-corner-all ' +\n",
       "                        'ui-button-icon-only');\n",
       "        button.attr('role', 'button');\n",
       "        button.attr('aria-disabled', 'false');\n",
       "        button.click(method_name, toolbar_event);\n",
       "        button.mouseover(tooltip, toolbar_mouse_event);\n",
       "\n",
       "        var icon_img = $('<span/>');\n",
       "        icon_img.addClass('ui-button-icon-primary ui-icon');\n",
       "        icon_img.addClass(image);\n",
       "        icon_img.addClass('ui-corner-all');\n",
       "\n",
       "        var tooltip_span = $('<span/>');\n",
       "        tooltip_span.addClass('ui-button-text');\n",
       "        tooltip_span.html(tooltip);\n",
       "\n",
       "        button.append(icon_img);\n",
       "        button.append(tooltip_span);\n",
       "\n",
       "        nav_element.append(button);\n",
       "    }\n",
       "\n",
       "    var fmt_picker_span = $('<span/>');\n",
       "\n",
       "    var fmt_picker = $('<select/>');\n",
       "    fmt_picker.addClass('mpl-toolbar-option ui-widget ui-widget-content');\n",
       "    fmt_picker_span.append(fmt_picker);\n",
       "    nav_element.append(fmt_picker_span);\n",
       "    this.format_dropdown = fmt_picker[0];\n",
       "\n",
       "    for (var ind in mpl.extensions) {\n",
       "        var fmt = mpl.extensions[ind];\n",
       "        var option = $(\n",
       "            '<option/>', {selected: fmt === mpl.default_extension}).html(fmt);\n",
       "        fmt_picker.append(option);\n",
       "    }\n",
       "\n",
       "    // Add hover states to the ui-buttons\n",
       "    $( \".ui-button\" ).hover(\n",
       "        function() { $(this).addClass(\"ui-state-hover\");},\n",
       "        function() { $(this).removeClass(\"ui-state-hover\");}\n",
       "    );\n",
       "\n",
       "    var status_bar = $('<span class=\"mpl-message\"/>');\n",
       "    nav_element.append(status_bar);\n",
       "    this.message = status_bar[0];\n",
       "}\n",
       "\n",
       "mpl.figure.prototype.request_resize = function(x_pixels, y_pixels) {\n",
       "    // Request matplotlib to resize the figure. Matplotlib will then trigger a resize in the client,\n",
       "    // which will in turn request a refresh of the image.\n",
       "    this.send_message('resize', {'width': x_pixels, 'height': y_pixels});\n",
       "}\n",
       "\n",
       "mpl.figure.prototype.send_message = function(type, properties) {\n",
       "    properties['type'] = type;\n",
       "    properties['figure_id'] = this.id;\n",
       "    this.ws.send(JSON.stringify(properties));\n",
       "}\n",
       "\n",
       "mpl.figure.prototype.send_draw_message = function() {\n",
       "    if (!this.waiting) {\n",
       "        this.waiting = true;\n",
       "        this.ws.send(JSON.stringify({type: \"draw\", figure_id: this.id}));\n",
       "    }\n",
       "}\n",
       "\n",
       "\n",
       "mpl.figure.prototype.handle_save = function(fig, msg) {\n",
       "    var format_dropdown = fig.format_dropdown;\n",
       "    var format = format_dropdown.options[format_dropdown.selectedIndex].value;\n",
       "    fig.ondownload(fig, format);\n",
       "}\n",
       "\n",
       "\n",
       "mpl.figure.prototype.handle_resize = function(fig, msg) {\n",
       "    var size = msg['size'];\n",
       "    if (size[0] != fig.canvas.width || size[1] != fig.canvas.height) {\n",
       "        fig._resize_canvas(size[0], size[1]);\n",
       "        fig.send_message(\"refresh\", {});\n",
       "    };\n",
       "}\n",
       "\n",
       "mpl.figure.prototype.handle_rubberband = function(fig, msg) {\n",
       "    var x0 = msg['x0'] / mpl.ratio;\n",
       "    var y0 = (fig.canvas.height - msg['y0']) / mpl.ratio;\n",
       "    var x1 = msg['x1'] / mpl.ratio;\n",
       "    var y1 = (fig.canvas.height - msg['y1']) / mpl.ratio;\n",
       "    x0 = Math.floor(x0) + 0.5;\n",
       "    y0 = Math.floor(y0) + 0.5;\n",
       "    x1 = Math.floor(x1) + 0.5;\n",
       "    y1 = Math.floor(y1) + 0.5;\n",
       "    var min_x = Math.min(x0, x1);\n",
       "    var min_y = Math.min(y0, y1);\n",
       "    var width = Math.abs(x1 - x0);\n",
       "    var height = Math.abs(y1 - y0);\n",
       "\n",
       "    fig.rubberband_context.clearRect(\n",
       "        0, 0, fig.canvas.width / mpl.ratio, fig.canvas.height / mpl.ratio);\n",
       "\n",
       "    fig.rubberband_context.strokeRect(min_x, min_y, width, height);\n",
       "}\n",
       "\n",
       "mpl.figure.prototype.handle_figure_label = function(fig, msg) {\n",
       "    // Updates the figure title.\n",
       "    fig.header.textContent = msg['label'];\n",
       "}\n",
       "\n",
       "mpl.figure.prototype.handle_cursor = function(fig, msg) {\n",
       "    var cursor = msg['cursor'];\n",
       "    switch(cursor)\n",
       "    {\n",
       "    case 0:\n",
       "        cursor = 'pointer';\n",
       "        break;\n",
       "    case 1:\n",
       "        cursor = 'default';\n",
       "        break;\n",
       "    case 2:\n",
       "        cursor = 'crosshair';\n",
       "        break;\n",
       "    case 3:\n",
       "        cursor = 'move';\n",
       "        break;\n",
       "    }\n",
       "    fig.rubberband_canvas.style.cursor = cursor;\n",
       "}\n",
       "\n",
       "mpl.figure.prototype.handle_message = function(fig, msg) {\n",
       "    fig.message.textContent = msg['message'];\n",
       "}\n",
       "\n",
       "mpl.figure.prototype.handle_draw = function(fig, msg) {\n",
       "    // Request the server to send over a new figure.\n",
       "    fig.send_draw_message();\n",
       "}\n",
       "\n",
       "mpl.figure.prototype.handle_image_mode = function(fig, msg) {\n",
       "    fig.image_mode = msg['mode'];\n",
       "}\n",
       "\n",
       "mpl.figure.prototype.updated_canvas_event = function() {\n",
       "    // Called whenever the canvas gets updated.\n",
       "    this.send_message(\"ack\", {});\n",
       "}\n",
       "\n",
       "// A function to construct a web socket function for onmessage handling.\n",
       "// Called in the figure constructor.\n",
       "mpl.figure.prototype._make_on_message_function = function(fig) {\n",
       "    return function socket_on_message(evt) {\n",
       "        if (evt.data instanceof Blob) {\n",
       "            /* FIXME: We get \"Resource interpreted as Image but\n",
       "             * transferred with MIME type text/plain:\" errors on\n",
       "             * Chrome.  But how to set the MIME type?  It doesn't seem\n",
       "             * to be part of the websocket stream */\n",
       "            evt.data.type = \"image/png\";\n",
       "\n",
       "            /* Free the memory for the previous frames */\n",
       "            if (fig.imageObj.src) {\n",
       "                (window.URL || window.webkitURL).revokeObjectURL(\n",
       "                    fig.imageObj.src);\n",
       "            }\n",
       "\n",
       "            fig.imageObj.src = (window.URL || window.webkitURL).createObjectURL(\n",
       "                evt.data);\n",
       "            fig.updated_canvas_event();\n",
       "            fig.waiting = false;\n",
       "            return;\n",
       "        }\n",
       "        else if (typeof evt.data === 'string' && evt.data.slice(0, 21) == \"data:image/png;base64\") {\n",
       "            fig.imageObj.src = evt.data;\n",
       "            fig.updated_canvas_event();\n",
       "            fig.waiting = false;\n",
       "            return;\n",
       "        }\n",
       "\n",
       "        var msg = JSON.parse(evt.data);\n",
       "        var msg_type = msg['type'];\n",
       "\n",
       "        // Call the  \"handle_{type}\" callback, which takes\n",
       "        // the figure and JSON message as its only arguments.\n",
       "        try {\n",
       "            var callback = fig[\"handle_\" + msg_type];\n",
       "        } catch (e) {\n",
       "            console.log(\"No handler for the '\" + msg_type + \"' message type: \", msg);\n",
       "            return;\n",
       "        }\n",
       "\n",
       "        if (callback) {\n",
       "            try {\n",
       "                // console.log(\"Handling '\" + msg_type + \"' message: \", msg);\n",
       "                callback(fig, msg);\n",
       "            } catch (e) {\n",
       "                console.log(\"Exception inside the 'handler_\" + msg_type + \"' callback:\", e, e.stack, msg);\n",
       "            }\n",
       "        }\n",
       "    };\n",
       "}\n",
       "\n",
       "// from http://stackoverflow.com/questions/1114465/getting-mouse-location-in-canvas\n",
       "mpl.findpos = function(e) {\n",
       "    //this section is from http://www.quirksmode.org/js/events_properties.html\n",
       "    var targ;\n",
       "    if (!e)\n",
       "        e = window.event;\n",
       "    if (e.target)\n",
       "        targ = e.target;\n",
       "    else if (e.srcElement)\n",
       "        targ = e.srcElement;\n",
       "    if (targ.nodeType == 3) // defeat Safari bug\n",
       "        targ = targ.parentNode;\n",
       "\n",
       "    // jQuery normalizes the pageX and pageY\n",
       "    // pageX,Y are the mouse positions relative to the document\n",
       "    // offset() returns the position of the element relative to the document\n",
       "    var x = e.pageX - $(targ).offset().left;\n",
       "    var y = e.pageY - $(targ).offset().top;\n",
       "\n",
       "    return {\"x\": x, \"y\": y};\n",
       "};\n",
       "\n",
       "/*\n",
       " * return a copy of an object with only non-object keys\n",
       " * we need this to avoid circular references\n",
       " * http://stackoverflow.com/a/24161582/3208463\n",
       " */\n",
       "function simpleKeys (original) {\n",
       "  return Object.keys(original).reduce(function (obj, key) {\n",
       "    if (typeof original[key] !== 'object')\n",
       "        obj[key] = original[key]\n",
       "    return obj;\n",
       "  }, {});\n",
       "}\n",
       "\n",
       "mpl.figure.prototype.mouse_event = function(event, name) {\n",
       "    var canvas_pos = mpl.findpos(event)\n",
       "\n",
       "    if (name === 'button_press')\n",
       "    {\n",
       "        this.canvas.focus();\n",
       "        this.canvas_div.focus();\n",
       "    }\n",
       "\n",
       "    var x = canvas_pos.x * mpl.ratio;\n",
       "    var y = canvas_pos.y * mpl.ratio;\n",
       "\n",
       "    this.send_message(name, {x: x, y: y, button: event.button,\n",
       "                             step: event.step,\n",
       "                             guiEvent: simpleKeys(event)});\n",
       "\n",
       "    /* This prevents the web browser from automatically changing to\n",
       "     * the text insertion cursor when the button is pressed.  We want\n",
       "     * to control all of the cursor setting manually through the\n",
       "     * 'cursor' event from matplotlib */\n",
       "    event.preventDefault();\n",
       "    return false;\n",
       "}\n",
       "\n",
       "mpl.figure.prototype._key_event_extra = function(event, name) {\n",
       "    // Handle any extra behaviour associated with a key event\n",
       "}\n",
       "\n",
       "mpl.figure.prototype.key_event = function(event, name) {\n",
       "\n",
       "    // Prevent repeat events\n",
       "    if (name == 'key_press')\n",
       "    {\n",
       "        if (event.which === this._key)\n",
       "            return;\n",
       "        else\n",
       "            this._key = event.which;\n",
       "    }\n",
       "    if (name == 'key_release')\n",
       "        this._key = null;\n",
       "\n",
       "    var value = '';\n",
       "    if (event.ctrlKey && event.which != 17)\n",
       "        value += \"ctrl+\";\n",
       "    if (event.altKey && event.which != 18)\n",
       "        value += \"alt+\";\n",
       "    if (event.shiftKey && event.which != 16)\n",
       "        value += \"shift+\";\n",
       "\n",
       "    value += 'k';\n",
       "    value += event.which.toString();\n",
       "\n",
       "    this._key_event_extra(event, name);\n",
       "\n",
       "    this.send_message(name, {key: value,\n",
       "                             guiEvent: simpleKeys(event)});\n",
       "    return false;\n",
       "}\n",
       "\n",
       "mpl.figure.prototype.toolbar_button_onclick = function(name) {\n",
       "    if (name == 'download') {\n",
       "        this.handle_save(this, null);\n",
       "    } else {\n",
       "        this.send_message(\"toolbar_button\", {name: name});\n",
       "    }\n",
       "};\n",
       "\n",
       "mpl.figure.prototype.toolbar_button_onmouseover = function(tooltip) {\n",
       "    this.message.textContent = tooltip;\n",
       "};\n",
       "mpl.toolbar_items = [[\"Home\", \"Reset original view\", \"fa fa-home icon-home\", \"home\"], [\"Back\", \"Back to previous view\", \"fa fa-arrow-left icon-arrow-left\", \"back\"], [\"Forward\", \"Forward to next view\", \"fa fa-arrow-right icon-arrow-right\", \"forward\"], [\"\", \"\", \"\", \"\"], [\"Pan\", \"Pan axes with left mouse, zoom with right\", \"fa fa-arrows icon-move\", \"pan\"], [\"Zoom\", \"Zoom to rectangle\", \"fa fa-square-o icon-check-empty\", \"zoom\"], [\"\", \"\", \"\", \"\"], [\"Download\", \"Download plot\", \"fa fa-floppy-o icon-save\", \"download\"]];\n",
       "\n",
       "mpl.extensions = [\"eps\", \"jpeg\", \"pdf\", \"png\", \"ps\", \"raw\", \"svg\", \"tif\"];\n",
       "\n",
       "mpl.default_extension = \"png\";var comm_websocket_adapter = function(comm) {\n",
       "    // Create a \"websocket\"-like object which calls the given IPython comm\n",
       "    // object with the appropriate methods. Currently this is a non binary\n",
       "    // socket, so there is still some room for performance tuning.\n",
       "    var ws = {};\n",
       "\n",
       "    ws.close = function() {\n",
       "        comm.close()\n",
       "    };\n",
       "    ws.send = function(m) {\n",
       "        //console.log('sending', m);\n",
       "        comm.send(m);\n",
       "    };\n",
       "    // Register the callback with on_msg.\n",
       "    comm.on_msg(function(msg) {\n",
       "        //console.log('receiving', msg['content']['data'], msg);\n",
       "        // Pass the mpl event to the overridden (by mpl) onmessage function.\n",
       "        ws.onmessage(msg['content']['data'])\n",
       "    });\n",
       "    return ws;\n",
       "}\n",
       "\n",
       "mpl.mpl_figure_comm = function(comm, msg) {\n",
       "    // This is the function which gets called when the mpl process\n",
       "    // starts-up an IPython Comm through the \"matplotlib\" channel.\n",
       "\n",
       "    var id = msg.content.data.id;\n",
       "    // Get hold of the div created by the display call when the Comm\n",
       "    // socket was opened in Python.\n",
       "    var element = $(\"#\" + id);\n",
       "    var ws_proxy = comm_websocket_adapter(comm)\n",
       "\n",
       "    function ondownload(figure, format) {\n",
       "        window.open(figure.imageObj.src);\n",
       "    }\n",
       "\n",
       "    var fig = new mpl.figure(id, ws_proxy,\n",
       "                           ondownload,\n",
       "                           element.get(0));\n",
       "\n",
       "    // Call onopen now - mpl needs it, as it is assuming we've passed it a real\n",
       "    // web socket which is closed, not our websocket->open comm proxy.\n",
       "    ws_proxy.onopen();\n",
       "\n",
       "    fig.parent_element = element.get(0);\n",
       "    fig.cell_info = mpl.find_output_cell(\"<div id='\" + id + \"'></div>\");\n",
       "    if (!fig.cell_info) {\n",
       "        console.error(\"Failed to find cell for figure\", id, fig);\n",
       "        return;\n",
       "    }\n",
       "\n",
       "    var output_index = fig.cell_info[2]\n",
       "    var cell = fig.cell_info[0];\n",
       "\n",
       "};\n",
       "\n",
       "mpl.figure.prototype.handle_close = function(fig, msg) {\n",
       "    var width = fig.canvas.width/mpl.ratio\n",
       "    fig.root.unbind('remove')\n",
       "\n",
       "    // Update the output cell to use the data from the current canvas.\n",
       "    fig.push_to_output();\n",
       "    var dataURL = fig.canvas.toDataURL();\n",
       "    // Re-enable the keyboard manager in IPython - without this line, in FF,\n",
       "    // the notebook keyboard shortcuts fail.\n",
       "    IPython.keyboard_manager.enable()\n",
       "    $(fig.parent_element).html('<img src=\"' + dataURL + '\" width=\"' + width + '\">');\n",
       "    fig.close_ws(fig, msg);\n",
       "}\n",
       "\n",
       "mpl.figure.prototype.close_ws = function(fig, msg){\n",
       "    fig.send_message('closing', msg);\n",
       "    // fig.ws.close()\n",
       "}\n",
       "\n",
       "mpl.figure.prototype.push_to_output = function(remove_interactive) {\n",
       "    // Turn the data on the canvas into data in the output cell.\n",
       "    var width = this.canvas.width/mpl.ratio\n",
       "    var dataURL = this.canvas.toDataURL();\n",
       "    this.cell_info[1]['text/html'] = '<img src=\"' + dataURL + '\" width=\"' + width + '\">';\n",
       "}\n",
       "\n",
       "mpl.figure.prototype.updated_canvas_event = function() {\n",
       "    // Tell IPython that the notebook contents must change.\n",
       "    IPython.notebook.set_dirty(true);\n",
       "    this.send_message(\"ack\", {});\n",
       "    var fig = this;\n",
       "    // Wait a second, then push the new image to the DOM so\n",
       "    // that it is saved nicely (might be nice to debounce this).\n",
       "    setTimeout(function () { fig.push_to_output() }, 1000);\n",
       "}\n",
       "\n",
       "mpl.figure.prototype._init_toolbar = function() {\n",
       "    var fig = this;\n",
       "\n",
       "    var nav_element = $('<div/>');\n",
       "    nav_element.attr('style', 'width: 100%');\n",
       "    this.root.append(nav_element);\n",
       "\n",
       "    // Define a callback function for later on.\n",
       "    function toolbar_event(event) {\n",
       "        return fig.toolbar_button_onclick(event['data']);\n",
       "    }\n",
       "    function toolbar_mouse_event(event) {\n",
       "        return fig.toolbar_button_onmouseover(event['data']);\n",
       "    }\n",
       "\n",
       "    for(var toolbar_ind in mpl.toolbar_items){\n",
       "        var name = mpl.toolbar_items[toolbar_ind][0];\n",
       "        var tooltip = mpl.toolbar_items[toolbar_ind][1];\n",
       "        var image = mpl.toolbar_items[toolbar_ind][2];\n",
       "        var method_name = mpl.toolbar_items[toolbar_ind][3];\n",
       "\n",
       "        if (!name) { continue; };\n",
       "\n",
       "        var button = $('<button class=\"btn btn-default\" href=\"#\" title=\"' + name + '\"><i class=\"fa ' + image + ' fa-lg\"></i></button>');\n",
       "        button.click(method_name, toolbar_event);\n",
       "        button.mouseover(tooltip, toolbar_mouse_event);\n",
       "        nav_element.append(button);\n",
       "    }\n",
       "\n",
       "    // Add the status bar.\n",
       "    var status_bar = $('<span class=\"mpl-message\" style=\"text-align:right; float: right;\"/>');\n",
       "    nav_element.append(status_bar);\n",
       "    this.message = status_bar[0];\n",
       "\n",
       "    // Add the close button to the window.\n",
       "    var buttongrp = $('<div class=\"btn-group inline pull-right\"></div>');\n",
       "    var button = $('<button class=\"btn btn-mini btn-primary\" href=\"#\" title=\"Stop Interaction\"><i class=\"fa fa-power-off icon-remove icon-large\"></i></button>');\n",
       "    button.click(function (evt) { fig.handle_close(fig, {}); } );\n",
       "    button.mouseover('Stop Interaction', toolbar_mouse_event);\n",
       "    buttongrp.append(button);\n",
       "    var titlebar = this.root.find($('.ui-dialog-titlebar'));\n",
       "    titlebar.prepend(buttongrp);\n",
       "}\n",
       "\n",
       "mpl.figure.prototype._root_extra_style = function(el){\n",
       "    var fig = this\n",
       "    el.on(\"remove\", function(){\n",
       "\tfig.close_ws(fig, {});\n",
       "    });\n",
       "}\n",
       "\n",
       "mpl.figure.prototype._canvas_extra_style = function(el){\n",
       "    // this is important to make the div 'focusable\n",
       "    el.attr('tabindex', 0)\n",
       "    // reach out to IPython and tell the keyboard manager to turn it's self\n",
       "    // off when our div gets focus\n",
       "\n",
       "    // location in version 3\n",
       "    if (IPython.notebook.keyboard_manager) {\n",
       "        IPython.notebook.keyboard_manager.register_events(el);\n",
       "    }\n",
       "    else {\n",
       "        // location in version 2\n",
       "        IPython.keyboard_manager.register_events(el);\n",
       "    }\n",
       "\n",
       "}\n",
       "\n",
       "mpl.figure.prototype._key_event_extra = function(event, name) {\n",
       "    var manager = IPython.notebook.keyboard_manager;\n",
       "    if (!manager)\n",
       "        manager = IPython.keyboard_manager;\n",
       "\n",
       "    // Check for shift+enter\n",
       "    if (event.shiftKey && event.which == 13) {\n",
       "        this.canvas_div.blur();\n",
       "        // select the cell after this one\n",
       "        var index = IPython.notebook.find_cell_index(this.cell_info[0]);\n",
       "        IPython.notebook.select(index + 1);\n",
       "    }\n",
       "}\n",
       "\n",
       "mpl.figure.prototype.handle_save = function(fig, msg) {\n",
       "    fig.ondownload(fig, null);\n",
       "}\n",
       "\n",
       "\n",
       "mpl.find_output_cell = function(html_output) {\n",
       "    // Return the cell and output element which can be found *uniquely* in the notebook.\n",
       "    // Note - this is a bit hacky, but it is done because the \"notebook_saving.Notebook\"\n",
       "    // IPython event is triggered only after the cells have been serialised, which for\n",
       "    // our purposes (turning an active figure into a static one), is too late.\n",
       "    var cells = IPython.notebook.get_cells();\n",
       "    var ncells = cells.length;\n",
       "    for (var i=0; i<ncells; i++) {\n",
       "        var cell = cells[i];\n",
       "        if (cell.cell_type === 'code'){\n",
       "            for (var j=0; j<cell.output_area.outputs.length; j++) {\n",
       "                var data = cell.output_area.outputs[j];\n",
       "                if (data.data) {\n",
       "                    // IPython >= 3 moved mimebundle to data attribute of output\n",
       "                    data = data.data;\n",
       "                }\n",
       "                if (data['text/html'] == html_output) {\n",
       "                    return [cell, data, j];\n",
       "                }\n",
       "            }\n",
       "        }\n",
       "    }\n",
       "}\n",
       "\n",
       "// Register the function which deals with the matplotlib target/channel.\n",
       "// The kernel may be null if the page has been refreshed.\n",
       "if (IPython.notebook.kernel != null) {\n",
       "    IPython.notebook.kernel.comm_manager.register_target('matplotlib', mpl.mpl_figure_comm);\n",
       "}\n"
      ],
      "text/plain": [
       "<IPython.core.display.Javascript object>"
      ]
     },
     "metadata": {},
     "output_type": "display_data"
    },
    {
     "data": {
      "text/html": [
       "<img src=\"data:image/png;base64,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\" width=\"900\">"
      ],
      "text/plain": [
       "<IPython.core.display.HTML object>"
      ]
     },
     "metadata": {},
     "output_type": "display_data"
    },
    {
     "data": {
      "text/plain": [
       "[<matplotlib.lines.Line2D at 0x12f1022e0>,\n",
       " <matplotlib.lines.Line2D at 0x12fb36a90>,\n",
       " <matplotlib.lines.Line2D at 0x12fb36bb0>,\n",
       " <matplotlib.lines.Line2D at 0x12fb367f0>,\n",
       " <matplotlib.lines.Line2D at 0x12fb36d60>,\n",
       " <matplotlib.lines.Line2D at 0x12fb36550>]"
      ]
     },
     "execution_count": 206,
     "metadata": {},
     "output_type": "execute_result"
    }
   ],
   "source": [
    "population_status(sim_dummy_spatial_model_vacc.mean(dim='place'))"
   ]
  },
  {
   "cell_type": "markdown",
   "metadata": {},
   "source": [
    "# Scenarios"
   ]
  },
  {
   "cell_type": "code",
   "execution_count": 102,
   "metadata": {
    "ExecuteTime": {
     "end_time": "2021-02-08T12:27:11.020896Z",
     "start_time": "2021-02-08T12:27:10.758611Z"
    }
   },
   "outputs": [],
   "source": [
    "start_sim = '2020-09-01'\n",
    "end_sim = '2021-07-01'\n",
    "warmup = 0\n",
    "n_samples = 5#100\n",
    "n_draws_per_sample = 1000\n",
    "effectivity = 0.9"
   ]
  },
  {
   "cell_type": "code",
   "execution_count": 103,
   "metadata": {
    "ExecuteTime": {
     "end_time": "2021-02-08T12:27:12.450577Z",
     "start_time": "2021-02-08T12:27:12.344230Z"
    }
   },
   "outputs": [],
   "source": [
    "Re_1feb = 0.958*1.4\n",
    "# current estimation of UK prevalence between 20 and 40% => take 30%\n",
    "current_UK = 0.3\n",
    "# 5-6 days incubation\n",
    "incubation_period = 5\n",
    "n_periods = 30/incubation_period"
   ]
  },
  {
   "cell_type": "code",
   "execution_count": 104,
   "metadata": {
    "ExecuteTime": {
     "end_time": "2021-02-08T12:27:14.350083Z",
     "start_time": "2021-02-08T12:27:14.253879Z"
    }
   },
   "outputs": [],
   "source": [
    "# How much on January 1? (30 days ago)\n",
    "portion_new_strain_introduced = current_UK/(Re_1feb**n_periods) #0.001\n",
    "injection_day = (pd.Timestamp('2021-01-01') - pd.Timestamp(start_sim))/pd.Timedelta('1D')"
   ]
  },
  {
   "cell_type": "markdown",
   "metadata": {},
   "source": [
    "## Run and save all scenarios"
   ]
  },
  {
   "cell_type": "code",
   "execution_count": 130,
   "metadata": {
    "ExecuteTime": {
     "end_time": "2021-02-08T13:34:27.391732Z",
     "start_time": "2021-02-08T13:34:27.348596Z"
    },
    "scrolled": true
   },
   "outputs": [],
   "source": [
    "scenario_settings = pd.DataFrame({\n",
    "    'Scenario_name':['S1a','S1b','S1c','S2a','S2b','S2c','S3a','S3b','S3c','S4a','S4b','S4c',\n",
    "                     'S5a','S5b','S5c','S6a','S6b','S6c','S7a','S7b','S7c','S8a','S8b','S8c',\n",
    "                     'SNV1a','SNV1b','SNV1c'],\n",
    "    'scenario':(3*['1']+3*['2']+3*['3']+3*['4'])*2+3*['1'],\n",
    "    'effectivity':12*[0.9]+12*[0.7]+3*[0.9],\n",
    "    'K':9*[1.3,1.5,1.7],\n",
    "    'vacc_fun':24*[vacc_strategy]+3*[None]})"
   ]
  },
  {
   "cell_type": "code",
   "execution_count": 134,
   "metadata": {
    "ExecuteTime": {
     "end_time": "2021-02-08T13:37:49.647568Z",
     "start_time": "2021-02-08T13:37:49.605342Z"
    }
   },
   "outputs": [],
   "source": [
    "scenario_settings = scenario_settings.set_index('Scenario_name')"
   ]
  },
  {
   "cell_type": "code",
   "execution_count": 151,
   "metadata": {
    "ExecuteTime": {
     "end_time": "2021-02-08T13:45:59.943886Z",
     "start_time": "2021-02-08T13:45:59.907089Z"
    }
   },
   "outputs": [],
   "source": [
    "n_samples = 2"
   ]
  },
  {
   "cell_type": "code",
   "execution_count": 162,
   "metadata": {
    "ExecuteTime": {
     "end_time": "2021-02-08T14:18:09.327241Z",
     "start_time": "2021-02-08T14:18:09.284486Z"
    }
   },
   "outputs": [
    {
     "data": {
      "text/plain": [
       "Timestamp('2021-02-21 00:00:00')"
      ]
     },
     "execution_count": 162,
     "metadata": {},
     "output_type": "execute_result"
    }
   ],
   "source": [
    "pd.Timestamp(start_sim) +pd.Timedelta('173D')"
   ]
  },
  {
   "cell_type": "code",
   "execution_count": 196,
   "metadata": {
    "ExecuteTime": {
     "end_time": "2021-02-08T16:44:27.863070Z",
     "start_time": "2021-02-08T16:44:27.618724Z"
    }
   },
   "outputs": [],
   "source": [
    "scen='S3a'\n",
    "scenario = scenario_settings.loc[scen,'scenario']\n",
    "effectivity = scenario_settings.loc[scen,'effectivity']\n",
    "K = scenario_settings.loc[scen,'K']\n",
    "vacc_fun = scenario_settings.loc[scen,'vacc_fun']\n",
    "\n",
    "scenario_model = vaccin_model(initial_states_sept, scenario=scenario, effectivity=effectivity, \n",
    "                         injection_day=injection_day, injection_ratio=portion_new_strain_introduced,\n",
    "                         Nc_fun=report7_policy_function, N_vacc_fun=vacc_fun)\n",
    "scenario_model.parameters.update({'K':K})"
   ]
  },
  {
   "cell_type": "code",
   "execution_count": 199,
   "metadata": {
    "ExecuteTime": {
     "end_time": "2021-02-08T17:12:40.113031Z",
     "start_time": "2021-02-08T17:12:40.065602Z"
    }
   },
   "outputs": [],
   "source": [
    "n_samples=3"
   ]
  },
  {
   "cell_type": "code",
   "execution_count": 200,
   "metadata": {
    "ExecuteTime": {
     "end_time": "2021-02-08T17:27:32.271732Z",
     "start_time": "2021-02-08T17:12:40.473259Z"
    }
   },
   "outputs": [
    {
     "name": "stdout",
     "output_type": "stream",
     "text": [
      "0\n",
      "1imulating draw 3/3\u001b[1K\n",
      "2imulating draw 3/3\u001b[1K\n",
      "3imulating draw 3/3\u001b[1K\n",
      "4imulating draw 3/3\u001b[1K\n",
      "5imulating draw 3/3\u001b[1K\n",
      "6imulating draw 3/3\u001b[1K\n",
      "7imulating draw 3/3\u001b[1K\n",
      "8imulating draw 3/3\u001b[1K\n",
      "9imulating draw 3/3\u001b[1K\n",
      "10mulating draw 3/3\u001b[1K\n",
      "11mulating draw 3/3\u001b[1K\n",
      "12mulating draw 3/3\u001b[1K\n",
      "13mulating draw 3/3\u001b[1K\n",
      "14mulating draw 3/3\u001b[1K\n",
      "15mulating draw 3/3\u001b[1K\n",
      "16mulating draw 3/3\u001b[1K\n",
      "17mulating draw 3/3\u001b[1K\n",
      "18mulating draw 3/3\u001b[1K\n",
      "19mulating draw 3/3\u001b[1K\n",
      "20mulating draw 3/3\u001b[1K\n",
      "21mulating draw 3/3\u001b[1K\n",
      "22mulating draw 3/3\u001b[1K\n",
      "23mulating draw 3/3\u001b[1K\n",
      "24mulating draw 3/3\u001b[1K\n",
      "25mulating draw 3/3\u001b[1K\n",
      "26mulating draw 3/3\u001b[1K\n",
      "27mulating draw 3/3\u001b[1K\n",
      "28mulating draw 3/3\u001b[1K\n",
      "29mulating draw 3/3\u001b[1K\n",
      "30mulating draw 3/3\u001b[1K\n",
      "31mulating draw 3/3\u001b[1K\n",
      "32mulating draw 3/3\u001b[1K\n",
      "33mulating draw 3/3\u001b[1K\n",
      "34mulating draw 3/3\u001b[1K\n",
      "35mulating draw 3/3\u001b[1K\n",
      "36mulating draw 3/3\u001b[1K\n",
      "37mulating draw 3/3\u001b[1K\n",
      "38mulating draw 3/3\u001b[1K\n",
      "39mulating draw 3/3\u001b[1K\n",
      "40mulating draw 3/3\u001b[1K\n",
      "41mulating draw 3/3\u001b[1K\n",
      "42mulating draw 3/3\u001b[1K\n",
      "43mulating draw 3/3\u001b[1K\n",
      "44mulating draw 3/3\u001b[1K\n",
      "45mulating draw 3/3\u001b[1K\n",
      "46mulating draw 3/3\u001b[1K\n",
      "47mulating draw 3/3\u001b[1K\n",
      "48mulating draw 3/3\u001b[1K\n",
      "49mulating draw 3/3\u001b[1K\n",
      "50mulating draw 3/3\u001b[1K\n",
      "51mulating draw 3/3\u001b[1K\n",
      "52mulating draw 3/3\u001b[1K\n",
      "53mulating draw 3/3\u001b[1K\n",
      "54mulating draw 3/3\u001b[1K\n",
      "55mulating draw 3/3\u001b[1K\n",
      "56mulating draw 3/3\u001b[1K\n",
      "57mulating draw 3/3\u001b[1K\n",
      "58mulating draw 3/3\u001b[1K\n",
      "59mulating draw 3/3\u001b[1K\n",
      "60mulating draw 3/3\u001b[1K\n",
      "61mulating draw 3/3\u001b[1K\n",
      "62mulating draw 3/3\u001b[1K\n",
      "63mulating draw 3/3\u001b[1K\n",
      "64mulating draw 3/3\u001b[1K\n",
      "65mulating draw 3/3\u001b[1K\n",
      "66mulating draw 3/3\u001b[1K\n",
      "67mulating draw 3/3\u001b[1K\n",
      "68mulating draw 3/3\u001b[1K\n",
      "69mulating draw 3/3\u001b[1K\n",
      "70mulating draw 3/3\u001b[1K\n",
      "71mulating draw 3/3\u001b[1K\n",
      "72mulating draw 3/3\u001b[1K\n",
      "73mulating draw 3/3\u001b[1K\n",
      "74mulating draw 3/3\u001b[1K\n",
      "75mulating draw 3/3\u001b[1K\n",
      "76mulating draw 3/3\u001b[1K\n",
      "77mulating draw 3/3\u001b[1K\n",
      "78mulating draw 3/3\u001b[1K\n",
      "79mulating draw 3/3\u001b[1K\n",
      "80mulating draw 3/3\u001b[1K\n",
      "81mulating draw 3/3\u001b[1K\n",
      "82mulating draw 3/3\u001b[1K\n",
      "83mulating draw 3/3\u001b[1K\n",
      "84mulating draw 3/3\u001b[1K\n",
      "85mulating draw 3/3\u001b[1K\n",
      "86mulating draw 3/3\u001b[1K\n",
      "87mulating draw 3/3\u001b[1K\n",
      "88mulating draw 3/3\u001b[1K\n",
      "89mulating draw 3/3\u001b[1K\n",
      "90mulating draw 3/3\u001b[1K\n",
      "91mulating draw 3/3\u001b[1K\n",
      "92mulating draw 3/3\u001b[1K\n",
      "93mulating draw 3/3\u001b[1K\n",
      "94mulating draw 3/3\u001b[1K\n",
      "95mulating draw 3/3\u001b[1K\n",
      "96mulating draw 3/3\u001b[1K\n",
      "97mulating draw 3/3\u001b[1K\n",
      "98mulating draw 3/3\u001b[1K\n",
      "99mulating draw 3/3\u001b[1K\n",
      "100ulating draw 3/3\u001b[1K\n",
      "101ulating draw 3/3\u001b[1K\n",
      "102ulating draw 3/3\u001b[1K\n",
      "103ulating draw 3/3\u001b[1K\n",
      "104ulating draw 3/3\u001b[1K\n",
      "105ulating draw 3/3\u001b[1K\n",
      "106ulating draw 3/3\u001b[1K\n",
      "107ulating draw 3/3\u001b[1K\n",
      "108ulating draw 3/3\u001b[1K\n",
      "109ulating draw 3/3\u001b[1K\n",
      "110ulating draw 3/3\u001b[1K\n",
      "111ulating draw 3/3\u001b[1K\n",
      "112ulating draw 3/3\u001b[1K\n",
      "113ulating draw 3/3\u001b[1K\n",
      "114ulating draw 3/3\u001b[1K\n",
      "115ulating draw 3/3\u001b[1K\n",
      "116ulating draw 3/3\u001b[1K\n",
      "117ulating draw 3/3\u001b[1K\n",
      "118ulating draw 3/3\u001b[1K\n",
      "119ulating draw 3/3\u001b[1K\n",
      "120ulating draw 3/3\u001b[1K\n",
      "121ulating draw 3/3\u001b[1K\n",
      "122ulating draw 3/3\u001b[1K\n",
      "123ulating draw 3/3\u001b[1K\n",
      "124ulating draw 3/3\u001b[1K\n",
      "125ulating draw 3/3\u001b[1K\n",
      "126ulating draw 3/3\u001b[1K\n",
      "127ulating draw 3/3\u001b[1K\n",
      "128ulating draw 3/3\u001b[1K\n",
      "129ulating draw 3/3\u001b[1K\n",
      "130ulating draw 3/3\u001b[1K\n",
      "131ulating draw 3/3\u001b[1K\n",
      "132ulating draw 3/3\u001b[1K\n",
      "133ulating draw 3/3\u001b[1K\n",
      "134ulating draw 3/3\u001b[1K\n",
      "135ulating draw 3/3\u001b[1K\n",
      "136ulating draw 3/3\u001b[1K\n",
      "137ulating draw 3/3\u001b[1K\n",
      "138ulating draw 3/3\u001b[1K\n",
      "139ulating draw 3/3\u001b[1K\n",
      "140ulating draw 3/3\u001b[1K\n",
      "141ulating draw 3/3\u001b[1K\n",
      "142ulating draw 3/3\u001b[1K\n",
      "143ulating draw 3/3\u001b[1K\n",
      "144ulating draw 3/3\u001b[1K\n",
      "145ulating draw 3/3\u001b[1K\n",
      "146ulating draw 3/3\u001b[1K\n",
      "147ulating draw 3/3\u001b[1K\n",
      "148ulating draw 3/3\u001b[1K\n",
      "149ulating draw 3/3\u001b[1K\n",
      "150ulating draw 3/3\u001b[1K\n",
      "151ulating draw 3/3\u001b[1K\n",
      "152ulating draw 3/3\u001b[1K\n",
      "153ulating draw 3/3\u001b[1K\n",
      "154ulating draw 3/3\u001b[1K\n",
      "155ulating draw 3/3\u001b[1K\n",
      "156ulating draw 3/3\u001b[1K\n",
      "157ulating draw 3/3\u001b[1K\n",
      "158ulating draw 3/3\u001b[1K\n",
      "159ulating draw 3/3\u001b[1K\n",
      "160ulating draw 3/3\u001b[1K\n",
      "161ulating draw 3/3\u001b[1K\n",
      "162ulating draw 3/3\u001b[1K\n",
      "163ulating draw 3/3\u001b[1K\n",
      "164ulating draw 3/3\u001b[1K\n",
      "165ulating draw 3/3\u001b[1K\n",
      "166ulating draw 3/3\u001b[1K\n",
      "167ulating draw 3/3\u001b[1K\n",
      "168ulating draw 3/3\u001b[1K\n",
      "169ulating draw 3/3\u001b[1K\n",
      "170ulating draw 3/3\u001b[1K\n",
      "171ulating draw 3/3\u001b[1K\n",
      "172ulating draw 3/3\u001b[1K\n",
      "173ulating draw 3/3\u001b[1K\n",
      "174ulating draw 3/3\u001b[1K\n",
      "175ulating draw 3/3\u001b[1K\n",
      "176ulating draw 3/3\u001b[1K\n",
      "177ulating draw 3/3\u001b[1K\n",
      "178ulating draw 3/3\u001b[1K\n",
      "179ulating draw 3/3\u001b[1K\n",
      "180ulating draw 3/3\u001b[1K\n",
      "181ulating draw 3/3\u001b[1K\n",
      "182ulating draw 3/3\u001b[1K\n",
      "183ulating draw 3/3\u001b[1K\n",
      "184ulating draw 3/3\u001b[1K\n",
      "185ulating draw 3/3\u001b[1K\n",
      "186ulating draw 3/3\u001b[1K\n",
      "187ulating draw 3/3\u001b[1K\n",
      "188ulating draw 3/3\u001b[1K\n",
      "189ulating draw 3/3\u001b[1K\n",
      "190ulating draw 3/3\u001b[1K\n",
      "191ulating draw 3/3\u001b[1K\n",
      "192ulating draw 3/3\u001b[1K\n",
      "193ulating draw 3/3\u001b[1K\n",
      "194ulating draw 3/3\u001b[1K\n",
      "195ulating draw 3/3\u001b[1K\n",
      "196ulating draw 3/3\u001b[1K\n",
      "197ulating draw 3/3\u001b[1K\n",
      "198ulating draw 3/3\u001b[1K\n",
      "199ulating draw 3/3\u001b[1K\n",
      "200ulating draw 3/3\u001b[1K\n",
      "201ulating draw 3/3\u001b[1K\n",
      "202ulating draw 3/3\u001b[1K\n",
      "203ulating draw 3/3\u001b[1K\n",
      "204ulating draw 3/3\u001b[1K\n",
      "205ulating draw 3/3\u001b[1K\n",
      "206ulating draw 3/3\u001b[1K\n",
      "207ulating draw 3/3\u001b[1K\n",
      "208ulating draw 3/3\u001b[1K\n",
      "209ulating draw 3/3\u001b[1K\n",
      "210ulating draw 3/3\u001b[1K\n",
      "211ulating draw 3/3\u001b[1K\n",
      "212ulating draw 3/3\u001b[1K\n",
      "213ulating draw 3/3\u001b[1K\n",
      "214ulating draw 3/3\u001b[1K\n",
      "215ulating draw 3/3\u001b[1K\n",
      "216ulating draw 3/3\u001b[1K\n",
      "217ulating draw 3/3\u001b[1K\n",
      "218ulating draw 3/3\u001b[1K\n",
      "219ulating draw 3/3\u001b[1K\n",
      "220ulating draw 3/3\u001b[1K\n",
      "221ulating draw 3/3\u001b[1K\n",
      "222ulating draw 3/3\u001b[1K\n",
      "223ulating draw 3/3\u001b[1K\n",
      "224ulating draw 3/3\u001b[1K\n",
      "225ulating draw 3/3\u001b[1K\n",
      "226ulating draw 3/3\u001b[1K\n",
      "227ulating draw 3/3\u001b[1K\n",
      "228ulating draw 3/3\u001b[1K\n",
      "229ulating draw 3/3\u001b[1K\n",
      "230ulating draw 3/3\u001b[1K\n",
      "231ulating draw 3/3\u001b[1K\n",
      "232ulating draw 3/3\u001b[1K\n",
      "233ulating draw 3/3\u001b[1K\n",
      "234ulating draw 3/3\u001b[1K\n",
      "235ulating draw 3/3\u001b[1K\n",
      "236ulating draw 3/3\u001b[1K\n",
      "237ulating draw 3/3\u001b[1K\n",
      "238ulating draw 3/3\u001b[1K\n",
      "239ulating draw 3/3\u001b[1K\n",
      "240ulating draw 3/3\u001b[1K\n",
      "241ulating draw 3/3\u001b[1K\n",
      "242ulating draw 3/3\u001b[1K\n",
      "243ulating draw 3/3\u001b[1K\n",
      "244ulating draw 3/3\u001b[1K\n",
      "245ulating draw 3/3\u001b[1K\n",
      "246ulating draw 3/3\u001b[1K\n",
      "247ulating draw 3/3\u001b[1K\n",
      "248ulating draw 3/3\u001b[1K\n",
      "249ulating draw 3/3\u001b[1K\n",
      "250ulating draw 3/3\u001b[1K\n",
      "251ulating draw 3/3\u001b[1K\n",
      "252ulating draw 3/3\u001b[1K\n",
      "253ulating draw 3/3\u001b[1K\n",
      "254ulating draw 3/3\u001b[1K\n",
      "255ulating draw 3/3\u001b[1K\n",
      "256ulating draw 3/3\u001b[1K\n",
      "257ulating draw 3/3\u001b[1K\n",
      "258ulating draw 3/3\u001b[1K\n",
      "259ulating draw 3/3\u001b[1K\n",
      "260ulating draw 3/3\u001b[1K\n",
      "261ulating draw 3/3\u001b[1K\n",
      "262ulating draw 3/3\u001b[1K\n",
      "Simulating draw 3/3\u001b[1K\r"
     ]
    },
    {
     "ename": "KeyboardInterrupt",
     "evalue": "",
     "output_type": "error",
     "traceback": [
      "\u001b[0;31m---------------------------------------------------------------------------\u001b[0m",
      "\u001b[0;31mKeyboardInterrupt\u001b[0m                         Traceback (most recent call last)",
      "\u001b[0;32m<ipython-input-200-399be32b6e62>\u001b[0m in \u001b[0;36m<module>\u001b[0;34m\u001b[0m\n\u001b[1;32m      3\u001b[0m \u001b[0;32mwhile\u001b[0m \u001b[0;32mTrue\u001b[0m\u001b[0;34m:\u001b[0m\u001b[0;34m\u001b[0m\u001b[0;34m\u001b[0m\u001b[0m\n\u001b[1;32m      4\u001b[0m     \u001b[0mprint\u001b[0m\u001b[0;34m(\u001b[0m\u001b[0mi\u001b[0m\u001b[0;34m)\u001b[0m\u001b[0;34m\u001b[0m\u001b[0;34m\u001b[0m\u001b[0m\n\u001b[0;32m----> 5\u001b[0;31m     \u001b[0mout\u001b[0m \u001b[0;34m=\u001b[0m \u001b[0mscenario_model\u001b[0m\u001b[0;34m.\u001b[0m\u001b[0msim\u001b[0m\u001b[0;34m(\u001b[0m\u001b[0mend_sim\u001b[0m\u001b[0;34m,\u001b[0m\u001b[0mstart_date\u001b[0m\u001b[0;34m=\u001b[0m\u001b[0mstart_sim\u001b[0m\u001b[0;34m,\u001b[0m\u001b[0mwarmup\u001b[0m\u001b[0;34m=\u001b[0m\u001b[0mwarmup\u001b[0m\u001b[0;34m,\u001b[0m\u001b[0mN\u001b[0m\u001b[0;34m=\u001b[0m\u001b[0mn_samples\u001b[0m\u001b[0;34m,\u001b[0m\u001b[0mdraw_fcn\u001b[0m\u001b[0;34m=\u001b[0m\u001b[0mdraw_fcn\u001b[0m\u001b[0;34m,\u001b[0m\u001b[0msamples\u001b[0m\u001b[0;34m=\u001b[0m\u001b[0msamples_dict\u001b[0m\u001b[0;34m,\u001b[0m\u001b[0mverbose\u001b[0m\u001b[0;34m=\u001b[0m\u001b[0;32mTrue\u001b[0m\u001b[0;34m)\u001b[0m\u001b[0;34m\u001b[0m\u001b[0;34m\u001b[0m\u001b[0m\n\u001b[0m\u001b[1;32m      6\u001b[0m     \u001b[0;32mif\u001b[0m \u001b[0mnp\u001b[0m\u001b[0;34m.\u001b[0m\u001b[0misnan\u001b[0m\u001b[0;34m(\u001b[0m\u001b[0mout\u001b[0m\u001b[0;34m[\u001b[0m\u001b[0;34m'H_in'\u001b[0m\u001b[0;34m]\u001b[0m\u001b[0;34m)\u001b[0m\u001b[0;34m.\u001b[0m\u001b[0many\u001b[0m\u001b[0;34m(\u001b[0m\u001b[0;34m)\u001b[0m\u001b[0;34m:\u001b[0m\u001b[0;34m\u001b[0m\u001b[0;34m\u001b[0m\u001b[0m\n\u001b[1;32m      7\u001b[0m         \u001b[0;32mbreak\u001b[0m\u001b[0;34m\u001b[0m\u001b[0;34m\u001b[0m\u001b[0m\n",
      "\u001b[0;32m~/OneDrive - UGent/Corona_Postdoc/COVID19-Model/src/covid19model/models/base.py\u001b[0m in \u001b[0;36msim\u001b[0;34m(self, time, warmup, start_date, N, draw_fcn, samples, to_sample, verbose)\u001b[0m\n\u001b[1;32m    454\u001b[0m             \u001b[0;32mif\u001b[0m \u001b[0mdraw_fcn\u001b[0m\u001b[0;34m:\u001b[0m\u001b[0;34m\u001b[0m\u001b[0;34m\u001b[0m\u001b[0m\n\u001b[1;32m    455\u001b[0m                 \u001b[0mself\u001b[0m\u001b[0;34m.\u001b[0m\u001b[0mparameters\u001b[0m \u001b[0;34m=\u001b[0m \u001b[0mdraw_fcn\u001b[0m\u001b[0;34m(\u001b[0m\u001b[0mself\u001b[0m\u001b[0;34m.\u001b[0m\u001b[0mparameters\u001b[0m\u001b[0;34m,\u001b[0m\u001b[0msamples\u001b[0m\u001b[0;34m,\u001b[0m\u001b[0mto_sample\u001b[0m\u001b[0;34m)\u001b[0m\u001b[0;34m\u001b[0m\u001b[0;34m\u001b[0m\u001b[0m\n\u001b[0;32m--> 456\u001b[0;31m             \u001b[0mout\u001b[0m \u001b[0;34m=\u001b[0m \u001b[0mxarray\u001b[0m\u001b[0;34m.\u001b[0m\u001b[0mconcat\u001b[0m\u001b[0;34m(\u001b[0m\u001b[0;34m[\u001b[0m\u001b[0mout\u001b[0m\u001b[0;34m,\u001b[0m \u001b[0mself\u001b[0m\u001b[0;34m.\u001b[0m\u001b[0m_sim_single\u001b[0m\u001b[0;34m(\u001b[0m\u001b[0mtime\u001b[0m\u001b[0;34m,\u001b[0m \u001b[0mactual_start_date\u001b[0m\u001b[0;34m)\u001b[0m\u001b[0;34m]\u001b[0m\u001b[0;34m,\u001b[0m \u001b[0;34m\"draws\"\u001b[0m\u001b[0;34m)\u001b[0m\u001b[0;34m\u001b[0m\u001b[0;34m\u001b[0m\u001b[0m\n\u001b[0m\u001b[1;32m    457\u001b[0m \u001b[0;34m\u001b[0m\u001b[0m\n\u001b[1;32m    458\u001b[0m         \u001b[0;31m# Reset parameter dictionary\u001b[0m\u001b[0;34m\u001b[0m\u001b[0;34m\u001b[0m\u001b[0;34m\u001b[0m\u001b[0m\n",
      "\u001b[0;32m~/OneDrive - UGent/Corona_Postdoc/COVID19-Model/src/covid19model/models/base.py\u001b[0m in \u001b[0;36m_sim_single\u001b[0;34m(self, time, actual_start_date)\u001b[0m\n\u001b[1;32m    333\u001b[0m \u001b[0;34m\u001b[0m\u001b[0m\n\u001b[1;32m    334\u001b[0m         \u001b[0;32mif\u001b[0m \u001b[0mself\u001b[0m\u001b[0;34m.\u001b[0m\u001b[0mdiscrete\u001b[0m \u001b[0;34m==\u001b[0m \u001b[0;32mFalse\u001b[0m\u001b[0;34m:\u001b[0m\u001b[0;34m\u001b[0m\u001b[0;34m\u001b[0m\u001b[0m\n\u001b[0;32m--> 335\u001b[0;31m             output = solve_ivp(fun, time,\n\u001b[0m\u001b[1;32m    336\u001b[0m                            \u001b[0my0\u001b[0m\u001b[0;34m,\u001b[0m\u001b[0;34m\u001b[0m\u001b[0;34m\u001b[0m\u001b[0m\n\u001b[1;32m    337\u001b[0m                            args=[self.parameters], t_eval=t_eval)\n",
      "\u001b[0;32m/Applications/miniconda3/envs/work/lib/python3.8/site-packages/scipy/integrate/_ivp/ivp.py\u001b[0m in \u001b[0;36msolve_ivp\u001b[0;34m(fun, t_span, y0, method, t_eval, dense_output, events, vectorized, args, **options)\u001b[0m\n\u001b[1;32m    575\u001b[0m     \u001b[0mstatus\u001b[0m \u001b[0;34m=\u001b[0m \u001b[0;32mNone\u001b[0m\u001b[0;34m\u001b[0m\u001b[0;34m\u001b[0m\u001b[0m\n\u001b[1;32m    576\u001b[0m     \u001b[0;32mwhile\u001b[0m \u001b[0mstatus\u001b[0m \u001b[0;32mis\u001b[0m \u001b[0;32mNone\u001b[0m\u001b[0;34m:\u001b[0m\u001b[0;34m\u001b[0m\u001b[0;34m\u001b[0m\u001b[0m\n\u001b[0;32m--> 577\u001b[0;31m         \u001b[0mmessage\u001b[0m \u001b[0;34m=\u001b[0m \u001b[0msolver\u001b[0m\u001b[0;34m.\u001b[0m\u001b[0mstep\u001b[0m\u001b[0;34m(\u001b[0m\u001b[0;34m)\u001b[0m\u001b[0;34m\u001b[0m\u001b[0;34m\u001b[0m\u001b[0m\n\u001b[0m\u001b[1;32m    578\u001b[0m \u001b[0;34m\u001b[0m\u001b[0m\n\u001b[1;32m    579\u001b[0m         \u001b[0;32mif\u001b[0m \u001b[0msolver\u001b[0m\u001b[0;34m.\u001b[0m\u001b[0mstatus\u001b[0m \u001b[0;34m==\u001b[0m \u001b[0;34m'finished'\u001b[0m\u001b[0;34m:\u001b[0m\u001b[0;34m\u001b[0m\u001b[0;34m\u001b[0m\u001b[0m\n",
      "\u001b[0;32m/Applications/miniconda3/envs/work/lib/python3.8/site-packages/scipy/integrate/_ivp/base.py\u001b[0m in \u001b[0;36mstep\u001b[0;34m(self)\u001b[0m\n\u001b[1;32m    180\u001b[0m         \u001b[0;32melse\u001b[0m\u001b[0;34m:\u001b[0m\u001b[0;34m\u001b[0m\u001b[0;34m\u001b[0m\u001b[0m\n\u001b[1;32m    181\u001b[0m             \u001b[0mt\u001b[0m \u001b[0;34m=\u001b[0m \u001b[0mself\u001b[0m\u001b[0;34m.\u001b[0m\u001b[0mt\u001b[0m\u001b[0;34m\u001b[0m\u001b[0;34m\u001b[0m\u001b[0m\n\u001b[0;32m--> 182\u001b[0;31m             \u001b[0msuccess\u001b[0m\u001b[0;34m,\u001b[0m \u001b[0mmessage\u001b[0m \u001b[0;34m=\u001b[0m \u001b[0mself\u001b[0m\u001b[0;34m.\u001b[0m\u001b[0m_step_impl\u001b[0m\u001b[0;34m(\u001b[0m\u001b[0;34m)\u001b[0m\u001b[0;34m\u001b[0m\u001b[0;34m\u001b[0m\u001b[0m\n\u001b[0m\u001b[1;32m    183\u001b[0m \u001b[0;34m\u001b[0m\u001b[0m\n\u001b[1;32m    184\u001b[0m             \u001b[0;32mif\u001b[0m \u001b[0;32mnot\u001b[0m \u001b[0msuccess\u001b[0m\u001b[0;34m:\u001b[0m\u001b[0;34m\u001b[0m\u001b[0;34m\u001b[0m\u001b[0m\n",
      "\u001b[0;32m/Applications/miniconda3/envs/work/lib/python3.8/site-packages/scipy/integrate/_ivp/rk.py\u001b[0m in \u001b[0;36m_step_impl\u001b[0;34m(self)\u001b[0m\n\u001b[1;32m    143\u001b[0m             \u001b[0mh_abs\u001b[0m \u001b[0;34m=\u001b[0m \u001b[0mnp\u001b[0m\u001b[0;34m.\u001b[0m\u001b[0mabs\u001b[0m\u001b[0;34m(\u001b[0m\u001b[0mh\u001b[0m\u001b[0;34m)\u001b[0m\u001b[0;34m\u001b[0m\u001b[0;34m\u001b[0m\u001b[0m\n\u001b[1;32m    144\u001b[0m \u001b[0;34m\u001b[0m\u001b[0m\n\u001b[0;32m--> 145\u001b[0;31m             y_new, f_new = rk_step(self.fun, t, y, self.f, h, self.A,\n\u001b[0m\u001b[1;32m    146\u001b[0m                                    self.B, self.C, self.K)\n\u001b[1;32m    147\u001b[0m             \u001b[0mscale\u001b[0m \u001b[0;34m=\u001b[0m \u001b[0matol\u001b[0m \u001b[0;34m+\u001b[0m \u001b[0mnp\u001b[0m\u001b[0;34m.\u001b[0m\u001b[0mmaximum\u001b[0m\u001b[0;34m(\u001b[0m\u001b[0mnp\u001b[0m\u001b[0;34m.\u001b[0m\u001b[0mabs\u001b[0m\u001b[0;34m(\u001b[0m\u001b[0my\u001b[0m\u001b[0;34m)\u001b[0m\u001b[0;34m,\u001b[0m \u001b[0mnp\u001b[0m\u001b[0;34m.\u001b[0m\u001b[0mabs\u001b[0m\u001b[0;34m(\u001b[0m\u001b[0my_new\u001b[0m\u001b[0;34m)\u001b[0m\u001b[0;34m)\u001b[0m \u001b[0;34m*\u001b[0m \u001b[0mrtol\u001b[0m\u001b[0;34m\u001b[0m\u001b[0;34m\u001b[0m\u001b[0m\n",
      "\u001b[0;32m/Applications/miniconda3/envs/work/lib/python3.8/site-packages/scipy/integrate/_ivp/rk.py\u001b[0m in \u001b[0;36mrk_step\u001b[0;34m(fun, t, y, f, h, A, B, C, K)\u001b[0m\n\u001b[1;32m     63\u001b[0m     \u001b[0;32mfor\u001b[0m \u001b[0ms\u001b[0m\u001b[0;34m,\u001b[0m \u001b[0;34m(\u001b[0m\u001b[0ma\u001b[0m\u001b[0;34m,\u001b[0m \u001b[0mc\u001b[0m\u001b[0;34m)\u001b[0m \u001b[0;32min\u001b[0m \u001b[0menumerate\u001b[0m\u001b[0;34m(\u001b[0m\u001b[0mzip\u001b[0m\u001b[0;34m(\u001b[0m\u001b[0mA\u001b[0m\u001b[0;34m[\u001b[0m\u001b[0;36m1\u001b[0m\u001b[0;34m:\u001b[0m\u001b[0;34m]\u001b[0m\u001b[0;34m,\u001b[0m \u001b[0mC\u001b[0m\u001b[0;34m[\u001b[0m\u001b[0;36m1\u001b[0m\u001b[0;34m:\u001b[0m\u001b[0;34m]\u001b[0m\u001b[0;34m)\u001b[0m\u001b[0;34m,\u001b[0m \u001b[0mstart\u001b[0m\u001b[0;34m=\u001b[0m\u001b[0;36m1\u001b[0m\u001b[0;34m)\u001b[0m\u001b[0;34m:\u001b[0m\u001b[0;34m\u001b[0m\u001b[0;34m\u001b[0m\u001b[0m\n\u001b[1;32m     64\u001b[0m         \u001b[0mdy\u001b[0m \u001b[0;34m=\u001b[0m \u001b[0mnp\u001b[0m\u001b[0;34m.\u001b[0m\u001b[0mdot\u001b[0m\u001b[0;34m(\u001b[0m\u001b[0mK\u001b[0m\u001b[0;34m[\u001b[0m\u001b[0;34m:\u001b[0m\u001b[0ms\u001b[0m\u001b[0;34m]\u001b[0m\u001b[0;34m.\u001b[0m\u001b[0mT\u001b[0m\u001b[0;34m,\u001b[0m \u001b[0ma\u001b[0m\u001b[0;34m[\u001b[0m\u001b[0;34m:\u001b[0m\u001b[0ms\u001b[0m\u001b[0;34m]\u001b[0m\u001b[0;34m)\u001b[0m \u001b[0;34m*\u001b[0m \u001b[0mh\u001b[0m\u001b[0;34m\u001b[0m\u001b[0;34m\u001b[0m\u001b[0m\n\u001b[0;32m---> 65\u001b[0;31m         \u001b[0mK\u001b[0m\u001b[0;34m[\u001b[0m\u001b[0ms\u001b[0m\u001b[0;34m]\u001b[0m \u001b[0;34m=\u001b[0m \u001b[0mfun\u001b[0m\u001b[0;34m(\u001b[0m\u001b[0mt\u001b[0m \u001b[0;34m+\u001b[0m \u001b[0mc\u001b[0m \u001b[0;34m*\u001b[0m \u001b[0mh\u001b[0m\u001b[0;34m,\u001b[0m \u001b[0my\u001b[0m \u001b[0;34m+\u001b[0m \u001b[0mdy\u001b[0m\u001b[0;34m)\u001b[0m\u001b[0;34m\u001b[0m\u001b[0;34m\u001b[0m\u001b[0m\n\u001b[0m\u001b[1;32m     66\u001b[0m \u001b[0;34m\u001b[0m\u001b[0m\n\u001b[1;32m     67\u001b[0m     \u001b[0my_new\u001b[0m \u001b[0;34m=\u001b[0m \u001b[0my\u001b[0m \u001b[0;34m+\u001b[0m \u001b[0mh\u001b[0m \u001b[0;34m*\u001b[0m \u001b[0mnp\u001b[0m\u001b[0;34m.\u001b[0m\u001b[0mdot\u001b[0m\u001b[0;34m(\u001b[0m\u001b[0mK\u001b[0m\u001b[0;34m[\u001b[0m\u001b[0;34m:\u001b[0m\u001b[0;34m-\u001b[0m\u001b[0;36m1\u001b[0m\u001b[0;34m]\u001b[0m\u001b[0;34m.\u001b[0m\u001b[0mT\u001b[0m\u001b[0;34m,\u001b[0m \u001b[0mB\u001b[0m\u001b[0;34m)\u001b[0m\u001b[0;34m\u001b[0m\u001b[0;34m\u001b[0m\u001b[0m\n",
      "\u001b[0;32m/Applications/miniconda3/envs/work/lib/python3.8/site-packages/scipy/integrate/_ivp/base.py\u001b[0m in \u001b[0;36mfun\u001b[0;34m(t, y)\u001b[0m\n\u001b[1;32m    137\u001b[0m         \u001b[0;32mdef\u001b[0m \u001b[0mfun\u001b[0m\u001b[0;34m(\u001b[0m\u001b[0mt\u001b[0m\u001b[0;34m,\u001b[0m \u001b[0my\u001b[0m\u001b[0;34m)\u001b[0m\u001b[0;34m:\u001b[0m\u001b[0;34m\u001b[0m\u001b[0;34m\u001b[0m\u001b[0m\n\u001b[1;32m    138\u001b[0m             \u001b[0mself\u001b[0m\u001b[0;34m.\u001b[0m\u001b[0mnfev\u001b[0m \u001b[0;34m+=\u001b[0m \u001b[0;36m1\u001b[0m\u001b[0;34m\u001b[0m\u001b[0;34m\u001b[0m\u001b[0m\n\u001b[0;32m--> 139\u001b[0;31m             \u001b[0;32mreturn\u001b[0m \u001b[0mself\u001b[0m\u001b[0;34m.\u001b[0m\u001b[0mfun_single\u001b[0m\u001b[0;34m(\u001b[0m\u001b[0mt\u001b[0m\u001b[0;34m,\u001b[0m \u001b[0my\u001b[0m\u001b[0;34m)\u001b[0m\u001b[0;34m\u001b[0m\u001b[0;34m\u001b[0m\u001b[0m\n\u001b[0m\u001b[1;32m    140\u001b[0m \u001b[0;34m\u001b[0m\u001b[0m\n\u001b[1;32m    141\u001b[0m         \u001b[0mself\u001b[0m\u001b[0;34m.\u001b[0m\u001b[0mfun\u001b[0m \u001b[0;34m=\u001b[0m \u001b[0mfun\u001b[0m\u001b[0;34m\u001b[0m\u001b[0;34m\u001b[0m\u001b[0m\n",
      "\u001b[0;32m/Applications/miniconda3/envs/work/lib/python3.8/site-packages/scipy/integrate/_ivp/base.py\u001b[0m in \u001b[0;36mfun_wrapped\u001b[0;34m(t, y)\u001b[0m\n\u001b[1;32m     19\u001b[0m \u001b[0;34m\u001b[0m\u001b[0m\n\u001b[1;32m     20\u001b[0m     \u001b[0;32mdef\u001b[0m \u001b[0mfun_wrapped\u001b[0m\u001b[0;34m(\u001b[0m\u001b[0mt\u001b[0m\u001b[0;34m,\u001b[0m \u001b[0my\u001b[0m\u001b[0;34m)\u001b[0m\u001b[0;34m:\u001b[0m\u001b[0;34m\u001b[0m\u001b[0;34m\u001b[0m\u001b[0m\n\u001b[0;32m---> 21\u001b[0;31m         \u001b[0;32mreturn\u001b[0m \u001b[0mnp\u001b[0m\u001b[0;34m.\u001b[0m\u001b[0masarray\u001b[0m\u001b[0;34m(\u001b[0m\u001b[0mfun\u001b[0m\u001b[0;34m(\u001b[0m\u001b[0mt\u001b[0m\u001b[0;34m,\u001b[0m \u001b[0my\u001b[0m\u001b[0;34m)\u001b[0m\u001b[0;34m,\u001b[0m \u001b[0mdtype\u001b[0m\u001b[0;34m=\u001b[0m\u001b[0mdtype\u001b[0m\u001b[0;34m)\u001b[0m\u001b[0;34m\u001b[0m\u001b[0;34m\u001b[0m\u001b[0m\n\u001b[0m\u001b[1;32m     22\u001b[0m \u001b[0;34m\u001b[0m\u001b[0m\n\u001b[1;32m     23\u001b[0m     \u001b[0;32mreturn\u001b[0m \u001b[0mfun_wrapped\u001b[0m\u001b[0;34m,\u001b[0m \u001b[0my0\u001b[0m\u001b[0;34m\u001b[0m\u001b[0;34m\u001b[0m\u001b[0m\n",
      "\u001b[0;32m/Applications/miniconda3/envs/work/lib/python3.8/site-packages/scipy/integrate/_ivp/ivp.py\u001b[0m in \u001b[0;36m<lambda>\u001b[0;34m(t, x, fun)\u001b[0m\n\u001b[1;32m    513\u001b[0m         \u001b[0;31m# additional parameters.  Pass in the original fun as a keyword\u001b[0m\u001b[0;34m\u001b[0m\u001b[0;34m\u001b[0m\u001b[0;34m\u001b[0m\u001b[0m\n\u001b[1;32m    514\u001b[0m         \u001b[0;31m# argument to keep it in the scope of the lambda.\u001b[0m\u001b[0;34m\u001b[0m\u001b[0;34m\u001b[0m\u001b[0;34m\u001b[0m\u001b[0m\n\u001b[0;32m--> 515\u001b[0;31m         \u001b[0mfun\u001b[0m \u001b[0;34m=\u001b[0m \u001b[0;32mlambda\u001b[0m \u001b[0mt\u001b[0m\u001b[0;34m,\u001b[0m \u001b[0mx\u001b[0m\u001b[0;34m,\u001b[0m \u001b[0mfun\u001b[0m\u001b[0;34m=\u001b[0m\u001b[0mfun\u001b[0m\u001b[0;34m:\u001b[0m \u001b[0mfun\u001b[0m\u001b[0;34m(\u001b[0m\u001b[0mt\u001b[0m\u001b[0;34m,\u001b[0m \u001b[0mx\u001b[0m\u001b[0;34m,\u001b[0m \u001b[0;34m*\u001b[0m\u001b[0margs\u001b[0m\u001b[0;34m)\u001b[0m\u001b[0;34m\u001b[0m\u001b[0;34m\u001b[0m\u001b[0m\n\u001b[0m\u001b[1;32m    516\u001b[0m         \u001b[0mjac\u001b[0m \u001b[0;34m=\u001b[0m \u001b[0moptions\u001b[0m\u001b[0;34m.\u001b[0m\u001b[0mget\u001b[0m\u001b[0;34m(\u001b[0m\u001b[0;34m'jac'\u001b[0m\u001b[0;34m)\u001b[0m\u001b[0;34m\u001b[0m\u001b[0;34m\u001b[0m\u001b[0m\n\u001b[1;32m    517\u001b[0m         \u001b[0;32mif\u001b[0m \u001b[0mcallable\u001b[0m\u001b[0;34m(\u001b[0m\u001b[0mjac\u001b[0m\u001b[0;34m)\u001b[0m\u001b[0;34m:\u001b[0m\u001b[0;34m\u001b[0m\u001b[0;34m\u001b[0m\u001b[0m\n",
      "\u001b[0;32m~/OneDrive - UGent/Corona_Postdoc/COVID19-Model/src/covid19model/models/base.py\u001b[0m in \u001b[0;36mfunc\u001b[0;34m(t, y, pars)\u001b[0m\n\u001b[1;32m    313\u001b[0m                 \u001b[0msize_lst\u001b[0m\u001b[0;34m.\u001b[0m\u001b[0mappend\u001b[0m\u001b[0;34m(\u001b[0m\u001b[0msize\u001b[0m\u001b[0;34m)\u001b[0m\u001b[0;34m\u001b[0m\u001b[0;34m\u001b[0m\u001b[0m\n\u001b[1;32m    314\u001b[0m             \u001b[0my_reshaped\u001b[0m \u001b[0;34m=\u001b[0m \u001b[0my\u001b[0m\u001b[0;34m.\u001b[0m\u001b[0mreshape\u001b[0m\u001b[0;34m(\u001b[0m\u001b[0mtuple\u001b[0m\u001b[0;34m(\u001b[0m\u001b[0msize_lst\u001b[0m\u001b[0;34m)\u001b[0m\u001b[0;34m)\u001b[0m\u001b[0;34m\u001b[0m\u001b[0;34m\u001b[0m\u001b[0m\n\u001b[0;32m--> 315\u001b[0;31m             \u001b[0mdstates\u001b[0m \u001b[0;34m=\u001b[0m \u001b[0mself\u001b[0m\u001b[0;34m.\u001b[0m\u001b[0mintegrate\u001b[0m\u001b[0;34m(\u001b[0m\u001b[0mt\u001b[0m\u001b[0;34m,\u001b[0m \u001b[0;34m*\u001b[0m\u001b[0my_reshaped\u001b[0m\u001b[0;34m,\u001b[0m \u001b[0;34m*\u001b[0m\u001b[0mmodel_pars\u001b[0m\u001b[0;34m)\u001b[0m\u001b[0;34m\u001b[0m\u001b[0;34m\u001b[0m\u001b[0m\n\u001b[0m\u001b[1;32m    316\u001b[0m             \u001b[0;32mreturn\u001b[0m \u001b[0mnp\u001b[0m\u001b[0;34m.\u001b[0m\u001b[0marray\u001b[0m\u001b[0;34m(\u001b[0m\u001b[0mdstates\u001b[0m\u001b[0;34m)\u001b[0m\u001b[0;34m.\u001b[0m\u001b[0mflatten\u001b[0m\u001b[0;34m(\u001b[0m\u001b[0;34m)\u001b[0m\u001b[0;34m\u001b[0m\u001b[0;34m\u001b[0m\u001b[0m\n\u001b[1;32m    317\u001b[0m \u001b[0;34m\u001b[0m\u001b[0m\n",
      "\u001b[0;32m~/OneDrive - UGent/Corona_Postdoc/COVID19-Model/src/covid19model/models/models.py\u001b[0m in \u001b[0;36mintegrate\u001b[0;34m(t, S, E, I, A, M, ER, C, C_icurec, ICU, R, D, H_in, H_out, H_tot, V, V_new, alpha, beta, K, sigma, omega, zeta, da, dm, der, dc_R, dc_D, dICU_R, dICU_D, dICUrec, dhospital, injection_day, injection_ratio, s, a, h, c, m_C, m_ICU, v, e, N_vacc, leakiness, Nc)\u001b[0m\n\u001b[1;32m    172\u001b[0m         \u001b[0mdC_icurec\u001b[0m \u001b[0;34m=\u001b[0m \u001b[0;34m(\u001b[0m\u001b[0;34m(\u001b[0m\u001b[0;36m1\u001b[0m\u001b[0;34m-\u001b[0m\u001b[0mm_ICU\u001b[0m\u001b[0;34m)\u001b[0m\u001b[0;34m/\u001b[0m\u001b[0mdICU_R\u001b[0m\u001b[0;34m)\u001b[0m\u001b[0;34m*\u001b[0m\u001b[0mICU\u001b[0m \u001b[0;34m-\u001b[0m \u001b[0mC_icurec\u001b[0m\u001b[0;34m*\u001b[0m\u001b[0;34m(\u001b[0m\u001b[0;36m1\u001b[0m\u001b[0;34m/\u001b[0m\u001b[0mdICUrec\u001b[0m\u001b[0;34m)\u001b[0m\u001b[0;34m\u001b[0m\u001b[0;34m\u001b[0m\u001b[0m\n\u001b[1;32m    173\u001b[0m         \u001b[0mdICUstar\u001b[0m \u001b[0;34m=\u001b[0m \u001b[0;34m(\u001b[0m\u001b[0;36m1\u001b[0m\u001b[0;34m-\u001b[0m\u001b[0mc\u001b[0m\u001b[0;34m)\u001b[0m\u001b[0;34m*\u001b[0m\u001b[0;34m(\u001b[0m\u001b[0;36m1\u001b[0m\u001b[0;34m/\u001b[0m\u001b[0mder\u001b[0m\u001b[0;34m)\u001b[0m\u001b[0;34m*\u001b[0m\u001b[0mER\u001b[0m \u001b[0;34m-\u001b[0m \u001b[0;34m(\u001b[0m\u001b[0;36m1\u001b[0m\u001b[0;34m-\u001b[0m\u001b[0mm_ICU\u001b[0m\u001b[0;34m)\u001b[0m\u001b[0;34m*\u001b[0m\u001b[0mICU\u001b[0m\u001b[0;34m/\u001b[0m\u001b[0mdICU_R\u001b[0m \u001b[0;34m-\u001b[0m \u001b[0mm_ICU\u001b[0m\u001b[0;34m*\u001b[0m\u001b[0mICU\u001b[0m\u001b[0;34m/\u001b[0m\u001b[0mdICU_D\u001b[0m\u001b[0;34m\u001b[0m\u001b[0;34m\u001b[0m\u001b[0m\n\u001b[0;32m--> 174\u001b[0;31m         \u001b[0mdR\u001b[0m  \u001b[0;34m=\u001b[0m \u001b[0mA\u001b[0m\u001b[0;34m/\u001b[0m\u001b[0mda\u001b[0m \u001b[0;34m+\u001b[0m \u001b[0;34m(\u001b[0m\u001b[0;34m(\u001b[0m\u001b[0;36m1\u001b[0m\u001b[0;34m-\u001b[0m\u001b[0mh\u001b[0m\u001b[0;34m)\u001b[0m\u001b[0;34m/\u001b[0m\u001b[0mdm\u001b[0m\u001b[0;34m)\u001b[0m\u001b[0;34m*\u001b[0m\u001b[0mM\u001b[0m \u001b[0;34m+\u001b[0m \u001b[0;34m(\u001b[0m\u001b[0;36m1\u001b[0m\u001b[0;34m-\u001b[0m\u001b[0mm_C\u001b[0m\u001b[0;34m)\u001b[0m\u001b[0;34m*\u001b[0m\u001b[0mC\u001b[0m\u001b[0;34m*\u001b[0m\u001b[0;34m(\u001b[0m\u001b[0;36m1\u001b[0m\u001b[0;34m/\u001b[0m\u001b[0mdc_R\u001b[0m\u001b[0;34m)\u001b[0m \u001b[0;34m+\u001b[0m \u001b[0mC_icurec\u001b[0m\u001b[0;34m*\u001b[0m\u001b[0;34m(\u001b[0m\u001b[0;36m1\u001b[0m\u001b[0;34m/\u001b[0m\u001b[0mdICUrec\u001b[0m\u001b[0;34m)\u001b[0m \u001b[0;34m-\u001b[0m \u001b[0mzeta\u001b[0m\u001b[0;34m*\u001b[0m\u001b[0mR\u001b[0m \u001b[0;34m+\u001b[0m  \u001b[0mv\u001b[0m\u001b[0;34m*\u001b[0m\u001b[0me\u001b[0m\u001b[0;34m*\u001b[0m\u001b[0mS\u001b[0m \u001b[0;34m+\u001b[0m \u001b[0mv\u001b[0m\u001b[0;34m*\u001b[0m\u001b[0me\u001b[0m\u001b[0;34m*\u001b[0m\u001b[0mE\u001b[0m \u001b[0;34m-\u001b[0m \u001b[0mN_vacc\u001b[0m\u001b[0;34m/\u001b[0m\u001b[0mvacc_eligible\u001b[0m\u001b[0;34m*\u001b[0m\u001b[0mR\u001b[0m\u001b[0;34m\u001b[0m\u001b[0;34m\u001b[0m\u001b[0m\n\u001b[0m\u001b[1;32m    175\u001b[0m         \u001b[0mdD\u001b[0m  \u001b[0;34m=\u001b[0m \u001b[0;34m(\u001b[0m\u001b[0mm_ICU\u001b[0m\u001b[0;34m/\u001b[0m\u001b[0mdICU_D\u001b[0m\u001b[0;34m)\u001b[0m\u001b[0;34m*\u001b[0m\u001b[0mICU\u001b[0m \u001b[0;34m+\u001b[0m \u001b[0;34m(\u001b[0m\u001b[0mm_C\u001b[0m\u001b[0;34m/\u001b[0m\u001b[0mdc_D\u001b[0m\u001b[0;34m)\u001b[0m\u001b[0;34m*\u001b[0m\u001b[0mC\u001b[0m\u001b[0;34m\u001b[0m\u001b[0;34m\u001b[0m\u001b[0m\n\u001b[1;32m    176\u001b[0m         \u001b[0mdH_in\u001b[0m \u001b[0;34m=\u001b[0m \u001b[0mM\u001b[0m\u001b[0;34m*\u001b[0m\u001b[0;34m(\u001b[0m\u001b[0mh\u001b[0m\u001b[0;34m/\u001b[0m\u001b[0mdhospital\u001b[0m\u001b[0;34m)\u001b[0m \u001b[0;34m-\u001b[0m \u001b[0mH_in\u001b[0m\u001b[0;34m\u001b[0m\u001b[0;34m\u001b[0m\u001b[0m\n",
      "\u001b[0;31mKeyboardInterrupt\u001b[0m: "
     ]
    }
   ],
   "source": [
    "i = 0\n",
    "\n",
    "while True:\n",
    "    print(i)\n",
    "    out = scenario_model.sim(end_sim,start_date=start_sim,warmup=warmup,N=n_samples,draw_fcn=draw_fcn,samples=samples_dict,verbose=True)\n",
    "    if np.isnan(out['H_in']).any():\n",
    "        break\n",
    "    i += 1"
   ]
  },
  {
   "cell_type": "code",
   "execution_count": 182,
   "metadata": {
    "ExecuteTime": {
     "end_time": "2021-02-08T14:40:56.609470Z",
     "start_time": "2021-02-08T14:38:55.366589Z"
    }
   },
   "outputs": [
    {
     "name": "stdout",
     "output_type": "stream",
     "text": [
      "Simulating draw 2/2\u001b[1K\r"
     ]
    }
   ],
   "source": [
    "results = pd.DataFrame()\n",
    "for scen in scenario_settings.index:\n",
    "    scenario = scenario_settings.loc[scen,'scenario']\n",
    "    effectivity = scenario_settings.loc[scen,'effectivity']\n",
    "    K = scenario_settings.loc[scen,'K']\n",
    "    vacc_fun = scenario_settings.loc[scen,'vacc_fun']\n",
    "\n",
    "    scenario_model = vaccin_model(initial_states_sept, scenario=scenario, effectivity=effectivity, \n",
    "                             injection_day=injection_day, injection_ratio=portion_new_strain_introduced,\n",
    "                             Nc_fun=report7_policy_function, N_vacc_fun=vacc_fun)\n",
    "    scenario_model.parameters.update({'K':K})\n",
    "    out = scenario_model.sim(end_sim,start_date=start_sim,warmup=warmup,N=n_samples,draw_fcn=draw_fcn,samples=samples_dict,verbose=True)\n",
    "\n",
    "    H_in_binom = sample_from_binomial(out, 'H_in', n_draws_per_sample, n_samples)\n",
    "    H_tot_binom = sample_from_binomial(out, 'H_tot', n_draws_per_sample, n_samples)\n",
    "    time = out[\"time\"].values\n",
    "    \n",
    "    results['Date'] =  time\n",
    "    results[scen+'_incidences_mean'] = np.mean(H_in_binom, axis=1)\n",
    "    results[scen+'_incidences_median'] = np.median(H_in_binom, axis=1)\n",
    "    results[scen+'_incidences_LL'] = np.quantile(H_in_binom, q = LL, axis = 1)\n",
    "    results[scen+'_incidences_UL'] = np.quantile(H_in_binom, q = UL, axis = 1)\n",
    "    results[scen+'_load_mean'] = np.mean(H_tot_binom, axis=1)\n",
    "    results[scen+'_load_median'] = np.median(H_tot_binom, axis=1)\n",
    "    results[scen+'_load_LL'] = np.quantile(H_tot_binom, q = LL, axis = 1)\n",
    "    results[scen+'_load_UL'] = np.quantile(H_tot_binom, q = UL, axis = 1)"
   ]
  },
  {
   "cell_type": "markdown",
   "metadata": {},
   "source": [
    "## Scenarios S1 (current behaviour)"
   ]
  },
  {
   "cell_type": "code",
   "execution_count": 105,
   "metadata": {
    "ExecuteTime": {
     "end_time": "2021-02-08T12:27:16.209554Z",
     "start_time": "2021-02-08T12:27:16.119435Z"
    }
   },
   "outputs": [],
   "source": [
    "scenario = '1'"
   ]
  },
  {
   "cell_type": "markdown",
   "metadata": {},
   "source": [
    "### S1a - K = 1.3"
   ]
  },
  {
   "cell_type": "code",
   "execution_count": 106,
   "metadata": {
    "ExecuteTime": {
     "end_time": "2021-02-08T12:27:18.829369Z",
     "start_time": "2021-02-08T12:27:18.691659Z"
    }
   },
   "outputs": [],
   "source": [
    "infectivity_gain_lower=1.3\n",
    "infectivity_gain_upper=1.3"
   ]
  },
  {
   "cell_type": "code",
   "execution_count": 107,
   "metadata": {
    "ExecuteTime": {
     "end_time": "2021-02-08T12:27:29.092139Z",
     "start_time": "2021-02-08T12:27:19.861971Z"
    }
   },
   "outputs": [
    {
     "name": "stdout",
     "output_type": "stream",
     "text": [
      "Simulating draw 5/5\u001b[1K\r"
     ]
    }
   ],
   "source": [
    "model_S1a = vaccin_model(initial_states_sept, scenario=scenario, effectivity=effectivity, \n",
    "                         injection_day=injection_day, injection_ratio=portion_new_strain_introduced,\n",
    "                         Nc_fun=report7_policy_function, N_vacc_fun=vacc_strategy)\n",
    "out_S1a = model_S1a.sim(end_sim,start_date=start_sim,warmup=warmup,N=n_samples,draw_fcn=draw_fcn,samples=samples_dict,verbose=True)\n"
   ]
  },
  {
   "cell_type": "code",
   "execution_count": 113,
   "metadata": {
    "ExecuteTime": {
     "end_time": "2021-02-08T12:29:53.577334Z",
     "start_time": "2021-02-08T12:29:48.431684Z"
    }
   },
   "outputs": [
    {
     "name": "stdout",
     "output_type": "stream",
     "text": [
      "Simulating draw 5/5\u001b[1K\r"
     ]
    }
   ],
   "source": [
    "model_S1a = vaccin_model(initial_states_sept, scenario=scenario, effectivity=effectivity, \n",
    "                         injection_day=injection_day, injection_ratio=portion_new_strain_introduced,\n",
    "                         Nc_fun=report7_policy_function, N_vacc_fun=vacc_strategy)\n",
    "model_S1a.parameters.update({'K':1.3})\n",
    "out_S1a_test = model_S1a.sim(end_sim,start_date=start_sim,warmup=warmup,N=n_samples,draw_fcn=draw_fcn,samples=samples_dict,verbose=True)\n"
   ]
  },
  {
   "cell_type": "code",
   "execution_count": 71,
   "metadata": {
    "ExecuteTime": {
     "end_time": "2021-02-08T08:00:31.546923Z",
     "start_time": "2021-02-08T08:00:22.564694Z"
    }
   },
   "outputs": [],
   "source": [
    "S1a_H_in_binom = sample_from_binomial(out_S1a, 'H_in', n_draws_per_sample, n_samples)\n",
    "S1a_H_tot_binom = sample_from_binomial(out_S1a, 'H_tot', n_draws_per_sample, n_samples)\n",
    "S1a_time = out_S1a[\"time\"].values\n",
    "S1a_alpha = out_S1a['alpha'].mean(dim=\"Nc\").values"
   ]
  },
  {
   "cell_type": "markdown",
   "metadata": {},
   "source": [
    "### S1b - K = 1.5"
   ]
  },
  {
   "cell_type": "code",
   "execution_count": 72,
   "metadata": {
    "ExecuteTime": {
     "end_time": "2021-02-08T08:00:31.667381Z",
     "start_time": "2021-02-08T08:00:31.551463Z"
    }
   },
   "outputs": [],
   "source": [
    "K=1.5\n",
    "infectivity_gain_lower=K\n",
    "infectivity_gain_upper=K\n"
   ]
  },
  {
   "cell_type": "code",
   "execution_count": 73,
   "metadata": {
    "ExecuteTime": {
     "end_time": "2021-02-08T08:06:36.761388Z",
     "start_time": "2021-02-08T08:00:31.673563Z"
    }
   },
   "outputs": [
    {
     "name": "stdout",
     "output_type": "stream",
     "text": [
      "Simulating draw 100/100\u001b[1K\r"
     ]
    }
   ],
   "source": [
    "model_S1b = vaccin_model(initial_states_sept, scenario=scenario, effectivity=effectivity, \n",
    "                         injection_day=injection_day, injection_ratio=portion_new_strain_introduced,\n",
    "                         Nc_fun=report7_policy_function, N_vacc_fun=vacc_strategy)\n",
    "out_S1b = model_S1b.sim(end_sim,start_date=start_sim,warmup=warmup,N=n_samples,draw_fcn=draw_fcn,samples=samples_dict,verbose=True)\n"
   ]
  },
  {
   "cell_type": "code",
   "execution_count": 74,
   "metadata": {
    "ExecuteTime": {
     "end_time": "2021-02-08T08:06:55.185216Z",
     "start_time": "2021-02-08T08:06:36.781694Z"
    }
   },
   "outputs": [],
   "source": [
    "S1b_H_in_binom = sample_from_binomial(out_S1b, 'H_in', n_draws_per_sample, n_samples)\n",
    "S1b_H_tot_binom = sample_from_binomial(out_S1b, 'H_tot', n_draws_per_sample, n_samples)\n",
    "S1b_time = out_S1b[\"time\"].values\n",
    "S1b_alpha = out_S1b['alpha'].mean(dim=\"Nc\").values"
   ]
  },
  {
   "cell_type": "markdown",
   "metadata": {},
   "source": [
    "### S1c - K = 1.7"
   ]
  },
  {
   "cell_type": "code",
   "execution_count": 72,
   "metadata": {
    "ExecuteTime": {
     "end_time": "2021-02-08T08:00:31.667381Z",
     "start_time": "2021-02-08T08:00:31.551463Z"
    }
   },
   "outputs": [],
   "source": [
    "K=1.7\n",
    "infectivity_gain_lower=K\n",
    "infectivity_gain_upper=K\n"
   ]
  },
  {
   "cell_type": "code",
   "execution_count": 73,
   "metadata": {
    "ExecuteTime": {
     "end_time": "2021-02-08T08:06:36.761388Z",
     "start_time": "2021-02-08T08:00:31.673563Z"
    }
   },
   "outputs": [
    {
     "name": "stdout",
     "output_type": "stream",
     "text": [
      "Simulating draw 100/100\u001b[1K\r"
     ]
    }
   ],
   "source": [
    "model_S1c = vaccin_model(initial_states_sept, scenario=scenario, effectivity=effectivity, \n",
    "                         injection_day=injection_day, injection_ratio=portion_new_strain_introduced,\n",
    "                         Nc_fun=report7_policy_function, N_vacc_fun=vacc_strategy)\n",
    "out_S1c = model_S1c.sim(end_sim,start_date=start_sim,warmup=warmup,N=n_samples,draw_fcn=draw_fcn,samples=samples_dict,verbose=True)\n"
   ]
  },
  {
   "cell_type": "code",
   "execution_count": 74,
   "metadata": {
    "ExecuteTime": {
     "end_time": "2021-02-08T08:06:55.185216Z",
     "start_time": "2021-02-08T08:06:36.781694Z"
    }
   },
   "outputs": [],
   "source": [
    "S1c_H_in_binom = sample_from_binomial(out_S1c, 'H_in', n_draws_per_sample, n_samples)\n",
    "S1c_H_tot_binom = sample_from_binomial(out_S1c, 'H_tot', n_draws_per_sample, n_samples)\n",
    "S1c_time = out_S1c[\"time\"].values\n",
    "S1c_alpha = out_S1c['alpha'].mean(dim=\"Nc\").values"
   ]
  },
  {
   "cell_type": "markdown",
   "metadata": {},
   "source": [
    "## Scenarios S2 (september behaviour March 1)"
   ]
  },
  {
   "cell_type": "code",
   "execution_count": 75,
   "metadata": {
    "ExecuteTime": {
     "end_time": "2021-02-08T08:06:55.477685Z",
     "start_time": "2021-02-08T08:06:55.214771Z"
    }
   },
   "outputs": [],
   "source": [
    "scenario = '2'"
   ]
  },
  {
   "cell_type": "markdown",
   "metadata": {},
   "source": [
    "### S2a - K = 1.3"
   ]
  },
  {
   "cell_type": "code",
   "execution_count": 76,
   "metadata": {
    "ExecuteTime": {
     "end_time": "2021-02-08T08:06:55.828522Z",
     "start_time": "2021-02-08T08:06:55.501603Z"
    }
   },
   "outputs": [],
   "source": [
    "K=1.3\n",
    "infectivity_gain_lower=K\n",
    "infectivity_gain_upper=K"
   ]
  },
  {
   "cell_type": "code",
   "execution_count": 79,
   "metadata": {
    "ExecuteTime": {
     "end_time": "2021-02-08T08:27:01.387558Z",
     "start_time": "2021-02-08T08:21:28.746116Z"
    }
   },
   "outputs": [
    {
     "name": "stdout",
     "output_type": "stream",
     "text": [
      "Simulating draw 100/100\u001b[1K\r"
     ]
    }
   ],
   "source": [
    "model_S2a = vaccin_model(initial_states_sept, scenario=scenario, effectivity=effectivity, \n",
    "                         injection_day=injection_day, injection_ratio=portion_new_strain_introduced,\n",
    "                         Nc_fun=report7_policy_function, N_vacc_fun=vacc_strategy)\n",
    "out_S2a = model_S2a.sim(end_sim,start_date=start_sim,warmup=warmup,N=n_samples,draw_fcn=draw_fcn,samples=samples_dict,verbose=True)\n"
   ]
  },
  {
   "cell_type": "code",
   "execution_count": 80,
   "metadata": {
    "ExecuteTime": {
     "end_time": "2021-02-08T08:27:09.625532Z",
     "start_time": "2021-02-08T08:27:01.395242Z"
    }
   },
   "outputs": [],
   "source": [
    "S2a_H_in_binom = sample_from_binomial(out_S2a, 'H_in', n_draws_per_sample, n_samples)\n",
    "S2a_H_tot_binom = sample_from_binomial(out_S2a, 'H_tot', n_draws_per_sample, n_samples)\n",
    "S2a_time = out_S2a[\"time\"].values\n",
    "S2a_alpha = out_S2a['alpha'].mean(dim=\"Nc\").values\n"
   ]
  },
  {
   "cell_type": "markdown",
   "metadata": {},
   "source": [
    "### S2b - K = 1.5"
   ]
  },
  {
   "cell_type": "code",
   "execution_count": 81,
   "metadata": {
    "ExecuteTime": {
     "end_time": "2021-02-08T08:27:09.712265Z",
     "start_time": "2021-02-08T08:27:09.638099Z"
    }
   },
   "outputs": [],
   "source": [
    "K=1.5\n",
    "infectivity_gain_lower=K\n",
    "infectivity_gain_upper=K"
   ]
  },
  {
   "cell_type": "code",
   "execution_count": 82,
   "metadata": {
    "ExecuteTime": {
     "end_time": "2021-02-08T08:31:03.651240Z",
     "start_time": "2021-02-08T08:27:09.721232Z"
    }
   },
   "outputs": [
    {
     "name": "stdout",
     "output_type": "stream",
     "text": [
      "Simulating draw 100/100\u001b[1K\r"
     ]
    }
   ],
   "source": [
    "model_S2b = vaccin_model(initial_states_sept, scenario=scenario, effectivity=effectivity, \n",
    "                         injection_day=injection_day, injection_ratio=portion_new_strain_introduced,\n",
    "                         Nc_fun=report7_policy_function, N_vacc_fun=vacc_strategy)\n",
    "out_S2b = model_S2b.sim(end_sim,start_date=start_sim,warmup=warmup,N=n_samples,draw_fcn=draw_fcn,samples=samples_dict,verbose=True)\n"
   ]
  },
  {
   "cell_type": "code",
   "execution_count": 83,
   "metadata": {
    "ExecuteTime": {
     "end_time": "2021-02-08T08:31:11.667896Z",
     "start_time": "2021-02-08T08:31:03.655680Z"
    }
   },
   "outputs": [],
   "source": [
    "S2b_H_in_binom = sample_from_binomial(out_S2b, 'H_in', n_draws_per_sample, n_samples)\n",
    "S2b_H_tot_binom = sample_from_binomial(out_S2b, 'H_tot', n_draws_per_sample, n_samples)\n",
    "S2b_time = out_S2b[\"time\"].values\n",
    "S2b_alpha = out_S2b['alpha'].mean(dim=\"Nc\").values"
   ]
  },
  {
   "cell_type": "markdown",
   "metadata": {},
   "source": [
    "### S2c - K = 1.7"
   ]
  },
  {
   "cell_type": "code",
   "execution_count": 72,
   "metadata": {
    "ExecuteTime": {
     "end_time": "2021-02-08T08:00:31.667381Z",
     "start_time": "2021-02-08T08:00:31.551463Z"
    }
   },
   "outputs": [],
   "source": [
    "K=1.7\n",
    "infectivity_gain_lower=K\n",
    "infectivity_gain_upper=K\n"
   ]
  },
  {
   "cell_type": "code",
   "execution_count": 73,
   "metadata": {
    "ExecuteTime": {
     "end_time": "2021-02-08T08:06:36.761388Z",
     "start_time": "2021-02-08T08:00:31.673563Z"
    }
   },
   "outputs": [
    {
     "name": "stdout",
     "output_type": "stream",
     "text": [
      "Simulating draw 100/100\u001b[1K\r"
     ]
    }
   ],
   "source": [
    "model_S2c = vaccin_model(initial_states_sept, scenario=scenario, effectivity=effectivity, \n",
    "                         injection_day=injection_day, injection_ratio=portion_new_strain_introduced,\n",
    "                         Nc_fun=report7_policy_function, N_vacc_fun=vacc_strategy)\n",
    "out_S2c = model_S2c.sim(end_sim,start_date=start_sim,warmup=warmup,N=n_samples,draw_fcn=draw_fcn,samples=samples_dict,verbose=True)\n"
   ]
  },
  {
   "cell_type": "code",
   "execution_count": 74,
   "metadata": {
    "ExecuteTime": {
     "end_time": "2021-02-08T08:06:55.185216Z",
     "start_time": "2021-02-08T08:06:36.781694Z"
    }
   },
   "outputs": [],
   "source": [
    "S2c_H_in_binom = sample_from_binomial(out_S2c, 'H_in', n_draws_per_sample, n_samples)\n",
    "S2c_H_tot_binom = sample_from_binomial(out_S2c, 'H_tot', n_draws_per_sample, n_samples)\n",
    "S2c_time = out_S2c[\"time\"].values\n",
    "S2c_alpha = out_S2c['alpha'].mean(dim=\"Nc\").values"
   ]
  },
  {
   "cell_type": "markdown",
   "metadata": {},
   "source": [
    "## Scenario S3 (September behaviour April 1)"
   ]
  },
  {
   "cell_type": "code",
   "execution_count": 84,
   "metadata": {
    "ExecuteTime": {
     "end_time": "2021-02-08T08:31:11.842163Z",
     "start_time": "2021-02-08T08:31:11.680666Z"
    }
   },
   "outputs": [],
   "source": [
    "scenario = '3'"
   ]
  },
  {
   "cell_type": "markdown",
   "metadata": {},
   "source": [
    "### S3a - K = 1.3"
   ]
  },
  {
   "cell_type": "code",
   "execution_count": 85,
   "metadata": {
    "ExecuteTime": {
     "end_time": "2021-02-08T08:31:11.942015Z",
     "start_time": "2021-02-08T08:31:11.847155Z"
    }
   },
   "outputs": [],
   "source": [
    "K=1.3\n",
    "infectivity_gain_lower=K\n",
    "infectivity_gain_upper=K"
   ]
  },
  {
   "cell_type": "code",
   "execution_count": 86,
   "metadata": {
    "ExecuteTime": {
     "end_time": "2021-02-08T08:34:53.424451Z",
     "start_time": "2021-02-08T08:31:11.960080Z"
    }
   },
   "outputs": [
    {
     "name": "stdout",
     "output_type": "stream",
     "text": [
      "Simulating draw 100/100\u001b[1K\r"
     ]
    }
   ],
   "source": [
    "model_S3a = vaccin_model(initial_states_sept, scenario=scenario, effectivity=effectivity, \n",
    "                         injection_day=injection_day, injection_ratio=portion_new_strain_introduced,\n",
    "                         Nc_fun=report7_policy_function, N_vacc_fun=vacc_strategy)\n",
    "out_S3a = model_S3a.sim(end_sim,start_date=start_sim,warmup=warmup,N=n_samples,draw_fcn=draw_fcn,samples=samples_dict,verbose=True)\n"
   ]
  },
  {
   "cell_type": "code",
   "execution_count": 87,
   "metadata": {
    "ExecuteTime": {
     "end_time": "2021-02-08T08:35:01.789051Z",
     "start_time": "2021-02-08T08:34:53.430571Z"
    }
   },
   "outputs": [],
   "source": [
    "S3a_H_in_binom = sample_from_binomial(out_S3a, 'H_in', n_draws_per_sample, n_samples)\n",
    "S3a_H_tot_binom = sample_from_binomial(out_S3a, 'H_tot', n_draws_per_sample, n_samples)\n",
    "S3a_time = out_S3a[\"time\"].values\n",
    "S3a_alpha = out_S3a['alpha'].mean(dim=\"Nc\").values\n"
   ]
  },
  {
   "cell_type": "markdown",
   "metadata": {},
   "source": [
    "### S3b - K = 1.5"
   ]
  },
  {
   "cell_type": "code",
   "execution_count": 88,
   "metadata": {
    "ExecuteTime": {
     "end_time": "2021-02-08T08:35:02.006879Z",
     "start_time": "2021-02-08T08:35:01.792296Z"
    }
   },
   "outputs": [],
   "source": [
    "K=1.5\n",
    "infectivity_gain_lower=K\n",
    "infectivity_gain_upper=K"
   ]
  },
  {
   "cell_type": "code",
   "execution_count": 89,
   "metadata": {
    "ExecuteTime": {
     "end_time": "2021-02-08T09:38:19.899072Z",
     "start_time": "2021-02-08T08:35:02.022296Z"
    }
   },
   "outputs": [
    {
     "name": "stdout",
     "output_type": "stream",
     "text": [
      "Simulating draw 100/100\u001b[1K\r"
     ]
    }
   ],
   "source": [
    "model_S3b = vaccin_model(initial_states_sept, scenario=scenario, effectivity=effectivity, \n",
    "                         injection_day=injection_day, injection_ratio=portion_new_strain_introduced,\n",
    "                         Nc_fun=report7_policy_function, N_vacc_fun=vacc_strategy)\n",
    "out_S3b = model_S3b.sim(end_sim,start_date=start_sim,warmup=warmup,N=n_samples,draw_fcn=draw_fcn,samples=samples_dict,verbose=True)\n"
   ]
  },
  {
   "cell_type": "code",
   "execution_count": 90,
   "metadata": {
    "ExecuteTime": {
     "end_time": "2021-02-08T09:38:28.270134Z",
     "start_time": "2021-02-08T09:38:19.904681Z"
    }
   },
   "outputs": [],
   "source": [
    "S3b_H_in_binom = sample_from_binomial(out_S3b, 'H_in', n_draws_per_sample, n_samples)\n",
    "S3b_H_tot_binom = sample_from_binomial(out_S3b, 'H_tot', n_draws_per_sample, n_samples)\n",
    "S3b_time = out_S3b[\"time\"].values\n",
    "S3b_alpha = out_S3b['alpha'].mean(dim=\"Nc\").values"
   ]
  },
  {
   "cell_type": "markdown",
   "metadata": {},
   "source": [
    "### S3c - K = 1.7"
   ]
  },
  {
   "cell_type": "code",
   "execution_count": 72,
   "metadata": {
    "ExecuteTime": {
     "end_time": "2021-02-08T08:00:31.667381Z",
     "start_time": "2021-02-08T08:00:31.551463Z"
    }
   },
   "outputs": [],
   "source": [
    "K=1.7\n",
    "infectivity_gain_lower=K\n",
    "infectivity_gain_upper=K\n"
   ]
  },
  {
   "cell_type": "code",
   "execution_count": 73,
   "metadata": {
    "ExecuteTime": {
     "end_time": "2021-02-08T08:06:36.761388Z",
     "start_time": "2021-02-08T08:00:31.673563Z"
    }
   },
   "outputs": [
    {
     "name": "stdout",
     "output_type": "stream",
     "text": [
      "Simulating draw 100/100\u001b[1K\r"
     ]
    }
   ],
   "source": [
    "model_S3c = vaccin_model(initial_states_sept, scenario=scenario, effectivity=effectivity, \n",
    "                         injection_day=injection_day, injection_ratio=portion_new_strain_introduced,\n",
    "                         Nc_fun=report7_policy_function, N_vacc_fun=vacc_strategy)\n",
    "out_S3c = model_S3c.sim(end_sim,start_date=start_sim,warmup=warmup,N=n_samples,draw_fcn=draw_fcn,samples=samples_dict,verbose=True)\n"
   ]
  },
  {
   "cell_type": "code",
   "execution_count": 74,
   "metadata": {
    "ExecuteTime": {
     "end_time": "2021-02-08T08:06:55.185216Z",
     "start_time": "2021-02-08T08:06:36.781694Z"
    }
   },
   "outputs": [],
   "source": [
    "S3c_H_in_binom = sample_from_binomial(out_S3c, 'H_in', n_draws_per_sample, n_samples)\n",
    "S3c_H_tot_binom = sample_from_binomial(out_S3c, 'H_tot', n_draws_per_sample, n_samples)\n",
    "S3c_time = out_S3c[\"time\"].values\n",
    "S3c_alpha = out_S3c['alpha'].mean(dim=\"Nc\").values"
   ]
  },
  {
   "cell_type": "markdown",
   "metadata": {},
   "source": [
    "## Scenario S4 (September behaviour April 1)"
   ]
  },
  {
   "cell_type": "code",
   "execution_count": 84,
   "metadata": {
    "ExecuteTime": {
     "end_time": "2021-02-08T08:31:11.842163Z",
     "start_time": "2021-02-08T08:31:11.680666Z"
    }
   },
   "outputs": [],
   "source": [
    "scenario = '4'"
   ]
  },
  {
   "cell_type": "markdown",
   "metadata": {},
   "source": [
    "### S4a - K = 1.3"
   ]
  },
  {
   "cell_type": "code",
   "execution_count": 85,
   "metadata": {
    "ExecuteTime": {
     "end_time": "2021-02-08T08:31:11.942015Z",
     "start_time": "2021-02-08T08:31:11.847155Z"
    }
   },
   "outputs": [],
   "source": [
    "K=1.3\n",
    "infectivity_gain_lower=K\n",
    "infectivity_gain_upper=K"
   ]
  },
  {
   "cell_type": "code",
   "execution_count": 86,
   "metadata": {
    "ExecuteTime": {
     "end_time": "2021-02-08T08:34:53.424451Z",
     "start_time": "2021-02-08T08:31:11.960080Z"
    }
   },
   "outputs": [
    {
     "name": "stdout",
     "output_type": "stream",
     "text": [
      "Simulating draw 100/100\u001b[1K\r"
     ]
    }
   ],
   "source": [
    "model_S4a = vaccin_model(initial_states_sept, scenario=scenario, effectivity=effectivity, \n",
    "                         injection_day=injection_day, injection_ratio=portion_new_strain_introduced,\n",
    "                         Nc_fun=report7_policy_function, N_vacc_fun=vacc_strategy)\n",
    "out_S4a = model_S4a.sim(end_sim,start_date=start_sim,warmup=warmup,N=n_samples,draw_fcn=draw_fcn,samples=samples_dict,verbose=True)\n"
   ]
  },
  {
   "cell_type": "code",
   "execution_count": 87,
   "metadata": {
    "ExecuteTime": {
     "end_time": "2021-02-08T08:35:01.789051Z",
     "start_time": "2021-02-08T08:34:53.430571Z"
    }
   },
   "outputs": [],
   "source": [
    "S4a_H_in_binom = sample_from_binomial(out_S4a, 'H_in', n_draws_per_sample, n_samples)\n",
    "S4a_H_tot_binom = sample_from_binomial(out_S4a, 'H_tot', n_draws_per_sample, n_samples)\n",
    "S4a_time = out_S4a[\"time\"].values\n",
    "S4a_alpha = out_S4a['alpha'].mean(dim=\"Nc\").values\n"
   ]
  },
  {
   "cell_type": "markdown",
   "metadata": {},
   "source": [
    "### S4b - K = 1.5"
   ]
  },
  {
   "cell_type": "code",
   "execution_count": 88,
   "metadata": {
    "ExecuteTime": {
     "end_time": "2021-02-08T08:35:02.006879Z",
     "start_time": "2021-02-08T08:35:01.792296Z"
    }
   },
   "outputs": [],
   "source": [
    "K=1.5\n",
    "infectivity_gain_lower=K\n",
    "infectivity_gain_upper=K"
   ]
  },
  {
   "cell_type": "code",
   "execution_count": 89,
   "metadata": {
    "ExecuteTime": {
     "end_time": "2021-02-08T09:38:19.899072Z",
     "start_time": "2021-02-08T08:35:02.022296Z"
    }
   },
   "outputs": [
    {
     "name": "stdout",
     "output_type": "stream",
     "text": [
      "Simulating draw 100/100\u001b[1K\r"
     ]
    }
   ],
   "source": [
    "model_S4b = vaccin_model(initial_states_sept, scenario=scenario, effectivity=effectivity, \n",
    "                         injection_day=injection_day, injection_ratio=portion_new_strain_introduced,\n",
    "                         Nc_fun=report7_policy_function, N_vacc_fun=vacc_strategy)\n",
    "out_S4b = model_S4b.sim(end_sim,start_date=start_sim,warmup=warmup,N=n_samples,draw_fcn=draw_fcn,samples=samples_dict,verbose=True)\n"
   ]
  },
  {
   "cell_type": "code",
   "execution_count": 90,
   "metadata": {
    "ExecuteTime": {
     "end_time": "2021-02-08T09:38:28.270134Z",
     "start_time": "2021-02-08T09:38:19.904681Z"
    }
   },
   "outputs": [],
   "source": [
    "S4b_H_in_binom = sample_from_binomial(out_S4b, 'H_in', n_draws_per_sample, n_samples)\n",
    "S4b_H_tot_binom = sample_from_binomial(out_S4b, 'H_tot', n_draws_per_sample, n_samples)\n",
    "S4b_time = out_S4b[\"time\"].values\n",
    "S4b_alpha = out_S4b['alpha'].mean(dim=\"Nc\").values"
   ]
  },
  {
   "cell_type": "markdown",
   "metadata": {},
   "source": [
    "### S4c - K = 1.7"
   ]
  },
  {
   "cell_type": "code",
   "execution_count": 72,
   "metadata": {
    "ExecuteTime": {
     "end_time": "2021-02-08T08:00:31.667381Z",
     "start_time": "2021-02-08T08:00:31.551463Z"
    }
   },
   "outputs": [],
   "source": [
    "K=1.7\n",
    "infectivity_gain_lower=K\n",
    "infectivity_gain_upper=K\n"
   ]
  },
  {
   "cell_type": "code",
   "execution_count": 73,
   "metadata": {
    "ExecuteTime": {
     "end_time": "2021-02-08T08:06:36.761388Z",
     "start_time": "2021-02-08T08:00:31.673563Z"
    }
   },
   "outputs": [
    {
     "name": "stdout",
     "output_type": "stream",
     "text": [
      "Simulating draw 100/100\u001b[1K\r"
     ]
    }
   ],
   "source": [
    "model_S4c = vaccin_model(initial_states_sept, scenario=scenario, effectivity=effectivity, \n",
    "                         injection_day=injection_day, injection_ratio=portion_new_strain_introduced,\n",
    "                         Nc_fun=report7_policy_function, N_vacc_fun=vacc_strategy)\n",
    "out_S4c = model_S4c.sim(end_sim,start_date=start_sim,warmup=warmup,N=n_samples,draw_fcn=draw_fcn,samples=samples_dict,verbose=True)\n"
   ]
  },
  {
   "cell_type": "code",
   "execution_count": 74,
   "metadata": {
    "ExecuteTime": {
     "end_time": "2021-02-08T08:06:55.185216Z",
     "start_time": "2021-02-08T08:06:36.781694Z"
    }
   },
   "outputs": [],
   "source": [
    "S4c_H_in_binom = sample_from_binomial(out_S4c, 'H_in', n_draws_per_sample, n_samples)\n",
    "S4c_H_tot_binom = sample_from_binomial(out_S4c, 'H_tot', n_draws_per_sample, n_samples)\n",
    "S4c_time = out_S4c[\"time\"].values\n",
    "S4c_alpha = out_S4c['alpha'].mean(dim=\"Nc\").values"
   ]
  },
  {
   "cell_type": "code",
   "execution_count": null,
   "metadata": {},
   "outputs": [],
   "source": []
  },
  {
   "cell_type": "code",
   "execution_count": null,
   "metadata": {},
   "outputs": [],
   "source": []
  },
  {
   "cell_type": "markdown",
   "metadata": {},
   "source": [
    "## Scenarios SNV1 (vaccination effect)"
   ]
  },
  {
   "cell_type": "markdown",
   "metadata": {},
   "source": [
    "### S3a (S2b without vaccination)"
   ]
  },
  {
   "cell_type": "code",
   "execution_count": 91,
   "metadata": {
    "ExecuteTime": {
     "end_time": "2021-02-08T09:38:28.339826Z",
     "start_time": "2021-02-08T09:38:28.273203Z"
    }
   },
   "outputs": [],
   "source": [
    "scenario = '2a'"
   ]
  },
  {
   "cell_type": "code",
   "execution_count": 92,
   "metadata": {
    "ExecuteTime": {
     "end_time": "2021-02-08T09:38:28.401405Z",
     "start_time": "2021-02-08T09:38:28.342911Z"
    }
   },
   "outputs": [],
   "source": [
    "K=1.5\n",
    "infectivity_gain_lower=K\n",
    "infectivity_gain_upper=K"
   ]
  },
  {
   "cell_type": "code",
   "execution_count": 93,
   "metadata": {
    "ExecuteTime": {
     "end_time": "2021-02-08T09:40:56.508802Z",
     "start_time": "2021-02-08T09:38:28.405740Z"
    }
   },
   "outputs": [
    {
     "name": "stdout",
     "output_type": "stream",
     "text": [
      "Simulating draw 100/100\u001b[1K\r"
     ]
    }
   ],
   "source": [
    "model_S3a = vaccin_model(initial_states_sept, scenario=scenario, effectivity=effectivity, \n",
    "                         injection_day=injection_day, injection_ratio=portion_new_strain_introduced,\n",
    "                         Nc_fun=report7_policy_function, N_vacc_fun=None)\n",
    "out_S3a = model_S3a.sim(end_sim,start_date=start_sim,warmup=warmup,N=n_samples,draw_fcn=draw_fcn,samples=samples_dict,verbose=True)\n"
   ]
  },
  {
   "cell_type": "code",
   "execution_count": 94,
   "metadata": {
    "ExecuteTime": {
     "end_time": "2021-02-08T09:41:03.955709Z",
     "start_time": "2021-02-08T09:40:56.511625Z"
    }
   },
   "outputs": [],
   "source": [
    "S3a_H_in_binom = sample_from_binomial(out_S3a, 'H_in', n_draws_per_sample, n_samples)\n",
    "S3a_H_tot_binom = sample_from_binomial(out_S3a, 'H_tot', n_draws_per_sample, n_samples)\n",
    "S3a_time = out_S3a[\"time\"].values\n",
    "S3a_alpha = out_S3a['alpha'].mean(dim=\"Nc\").values\n"
   ]
  },
  {
   "cell_type": "markdown",
   "metadata": {},
   "source": [
    "### S4a (S1b without vaccination)"
   ]
  },
  {
   "cell_type": "code",
   "execution_count": 95,
   "metadata": {
    "ExecuteTime": {
     "end_time": "2021-02-08T09:41:04.024987Z",
     "start_time": "2021-02-08T09:41:03.960452Z"
    }
   },
   "outputs": [],
   "source": [
    "scenario = '1'"
   ]
  },
  {
   "cell_type": "code",
   "execution_count": 96,
   "metadata": {
    "ExecuteTime": {
     "end_time": "2021-02-08T09:41:04.085870Z",
     "start_time": "2021-02-08T09:41:04.028311Z"
    }
   },
   "outputs": [],
   "source": [
    "K=1.5\n",
    "infectivity_gain_lower=K\n",
    "infectivity_gain_upper=K"
   ]
  },
  {
   "cell_type": "code",
   "execution_count": 97,
   "metadata": {
    "ExecuteTime": {
     "end_time": "2021-02-08T09:44:06.958608Z",
     "start_time": "2021-02-08T09:41:04.088860Z"
    }
   },
   "outputs": [
    {
     "name": "stdout",
     "output_type": "stream",
     "text": [
      "Simulating draw 100/100\u001b[1K\r"
     ]
    }
   ],
   "source": [
    "model_S4a = vaccin_model(initial_states_sept, scenario=scenario, effectivity=effectivity, \n",
    "                         injection_day=injection_day, injection_ratio=portion_new_strain_introduced,\n",
    "                         Nc_fun=report7_policy_function, N_vacc_fun=None)\n",
    "out_S4a = model_S4a.sim(end_sim,start_date=start_sim,warmup=warmup,N=n_samples,draw_fcn=draw_fcn,samples=samples_dict,verbose=True)\n"
   ]
  },
  {
   "cell_type": "code",
   "execution_count": 98,
   "metadata": {
    "ExecuteTime": {
     "end_time": "2021-02-08T09:44:14.599663Z",
     "start_time": "2021-02-08T09:44:06.961907Z"
    }
   },
   "outputs": [],
   "source": [
    "S4a_H_in_binom = sample_from_binomial(out_S4a, 'H_in', n_draws_per_sample, n_samples)\n",
    "S4a_H_tot_binom = sample_from_binomial(out_S4a, 'H_tot', n_draws_per_sample, n_samples)\n",
    "S4a_time = out_S4a[\"time\"].values\n",
    "S4a_alpha = out_S4a['alpha'].mean(dim=\"Nc\").values\n"
   ]
  },
  {
   "cell_type": "markdown",
   "metadata": {},
   "source": [
    "# Visualise"
   ]
  },
  {
   "cell_type": "markdown",
   "metadata": {},
   "source": [
    "## S1 and S2"
   ]
  },
  {
   "cell_type": "code",
   "execution_count": 191,
   "metadata": {
    "ExecuteTime": {
     "end_time": "2021-02-08T14:53:30.009795Z",
     "start_time": "2021-02-08T14:52:38.889011Z"
    },
    "scrolled": false
   },
   "outputs": [
    {
     "data": {
      "application/javascript": [
       "/* Put everything inside the global mpl namespace */\n",
       "window.mpl = {};\n",
       "\n",
       "\n",
       "mpl.get_websocket_type = function() {\n",
       "    if (typeof(WebSocket) !== 'undefined') {\n",
       "        return WebSocket;\n",
       "    } else if (typeof(MozWebSocket) !== 'undefined') {\n",
       "        return MozWebSocket;\n",
       "    } else {\n",
       "        alert('Your browser does not have WebSocket support. ' +\n",
       "              'Please try Chrome, Safari or Firefox ≥ 6. ' +\n",
       "              'Firefox 4 and 5 are also supported but you ' +\n",
       "              'have to enable WebSockets in about:config.');\n",
       "    };\n",
       "}\n",
       "\n",
       "mpl.figure = function(figure_id, websocket, ondownload, parent_element) {\n",
       "    this.id = figure_id;\n",
       "\n",
       "    this.ws = websocket;\n",
       "\n",
       "    this.supports_binary = (this.ws.binaryType != undefined);\n",
       "\n",
       "    if (!this.supports_binary) {\n",
       "        var warnings = document.getElementById(\"mpl-warnings\");\n",
       "        if (warnings) {\n",
       "            warnings.style.display = 'block';\n",
       "            warnings.textContent = (\n",
       "                \"This browser does not support binary websocket messages. \" +\n",
       "                    \"Performance may be slow.\");\n",
       "        }\n",
       "    }\n",
       "\n",
       "    this.imageObj = new Image();\n",
       "\n",
       "    this.context = undefined;\n",
       "    this.message = undefined;\n",
       "    this.canvas = undefined;\n",
       "    this.rubberband_canvas = undefined;\n",
       "    this.rubberband_context = undefined;\n",
       "    this.format_dropdown = undefined;\n",
       "\n",
       "    this.image_mode = 'full';\n",
       "\n",
       "    this.root = $('<div/>');\n",
       "    this._root_extra_style(this.root)\n",
       "    this.root.attr('style', 'display: inline-block');\n",
       "\n",
       "    $(parent_element).append(this.root);\n",
       "\n",
       "    this._init_header(this);\n",
       "    this._init_canvas(this);\n",
       "    this._init_toolbar(this);\n",
       "\n",
       "    var fig = this;\n",
       "\n",
       "    this.waiting = false;\n",
       "\n",
       "    this.ws.onopen =  function () {\n",
       "            fig.send_message(\"supports_binary\", {value: fig.supports_binary});\n",
       "            fig.send_message(\"send_image_mode\", {});\n",
       "            if (mpl.ratio != 1) {\n",
       "                fig.send_message(\"set_dpi_ratio\", {'dpi_ratio': mpl.ratio});\n",
       "            }\n",
       "            fig.send_message(\"refresh\", {});\n",
       "        }\n",
       "\n",
       "    this.imageObj.onload = function() {\n",
       "            if (fig.image_mode == 'full') {\n",
       "                // Full images could contain transparency (where diff images\n",
       "                // almost always do), so we need to clear the canvas so that\n",
       "                // there is no ghosting.\n",
       "                fig.context.clearRect(0, 0, fig.canvas.width, fig.canvas.height);\n",
       "            }\n",
       "            fig.context.drawImage(fig.imageObj, 0, 0);\n",
       "        };\n",
       "\n",
       "    this.imageObj.onunload = function() {\n",
       "        fig.ws.close();\n",
       "    }\n",
       "\n",
       "    this.ws.onmessage = this._make_on_message_function(this);\n",
       "\n",
       "    this.ondownload = ondownload;\n",
       "}\n",
       "\n",
       "mpl.figure.prototype._init_header = function() {\n",
       "    var titlebar = $(\n",
       "        '<div class=\"ui-dialog-titlebar ui-widget-header ui-corner-all ' +\n",
       "        'ui-helper-clearfix\"/>');\n",
       "    var titletext = $(\n",
       "        '<div class=\"ui-dialog-title\" style=\"width: 100%; ' +\n",
       "        'text-align: center; padding: 3px;\"/>');\n",
       "    titlebar.append(titletext)\n",
       "    this.root.append(titlebar);\n",
       "    this.header = titletext[0];\n",
       "}\n",
       "\n",
       "\n",
       "\n",
       "mpl.figure.prototype._canvas_extra_style = function(canvas_div) {\n",
       "\n",
       "}\n",
       "\n",
       "\n",
       "mpl.figure.prototype._root_extra_style = function(canvas_div) {\n",
       "\n",
       "}\n",
       "\n",
       "mpl.figure.prototype._init_canvas = function() {\n",
       "    var fig = this;\n",
       "\n",
       "    var canvas_div = $('<div/>');\n",
       "\n",
       "    canvas_div.attr('style', 'position: relative; clear: both; outline: 0');\n",
       "\n",
       "    function canvas_keyboard_event(event) {\n",
       "        return fig.key_event(event, event['data']);\n",
       "    }\n",
       "\n",
       "    canvas_div.keydown('key_press', canvas_keyboard_event);\n",
       "    canvas_div.keyup('key_release', canvas_keyboard_event);\n",
       "    this.canvas_div = canvas_div\n",
       "    this._canvas_extra_style(canvas_div)\n",
       "    this.root.append(canvas_div);\n",
       "\n",
       "    var canvas = $('<canvas/>');\n",
       "    canvas.addClass('mpl-canvas');\n",
       "    canvas.attr('style', \"left: 0; top: 0; z-index: 0; outline: 0\")\n",
       "\n",
       "    this.canvas = canvas[0];\n",
       "    this.context = canvas[0].getContext(\"2d\");\n",
       "\n",
       "    var backingStore = this.context.backingStorePixelRatio ||\n",
       "\tthis.context.webkitBackingStorePixelRatio ||\n",
       "\tthis.context.mozBackingStorePixelRatio ||\n",
       "\tthis.context.msBackingStorePixelRatio ||\n",
       "\tthis.context.oBackingStorePixelRatio ||\n",
       "\tthis.context.backingStorePixelRatio || 1;\n",
       "\n",
       "    mpl.ratio = (window.devicePixelRatio || 1) / backingStore;\n",
       "\n",
       "    var rubberband = $('<canvas/>');\n",
       "    rubberband.attr('style', \"position: absolute; left: 0; top: 0; z-index: 1;\")\n",
       "\n",
       "    var pass_mouse_events = true;\n",
       "\n",
       "    canvas_div.resizable({\n",
       "        start: function(event, ui) {\n",
       "            pass_mouse_events = false;\n",
       "        },\n",
       "        resize: function(event, ui) {\n",
       "            fig.request_resize(ui.size.width, ui.size.height);\n",
       "        },\n",
       "        stop: function(event, ui) {\n",
       "            pass_mouse_events = true;\n",
       "            fig.request_resize(ui.size.width, ui.size.height);\n",
       "        },\n",
       "    });\n",
       "\n",
       "    function mouse_event_fn(event) {\n",
       "        if (pass_mouse_events)\n",
       "            return fig.mouse_event(event, event['data']);\n",
       "    }\n",
       "\n",
       "    rubberband.mousedown('button_press', mouse_event_fn);\n",
       "    rubberband.mouseup('button_release', mouse_event_fn);\n",
       "    // Throttle sequential mouse events to 1 every 20ms.\n",
       "    rubberband.mousemove('motion_notify', mouse_event_fn);\n",
       "\n",
       "    rubberband.mouseenter('figure_enter', mouse_event_fn);\n",
       "    rubberband.mouseleave('figure_leave', mouse_event_fn);\n",
       "\n",
       "    canvas_div.on(\"wheel\", function (event) {\n",
       "        event = event.originalEvent;\n",
       "        event['data'] = 'scroll'\n",
       "        if (event.deltaY < 0) {\n",
       "            event.step = 1;\n",
       "        } else {\n",
       "            event.step = -1;\n",
       "        }\n",
       "        mouse_event_fn(event);\n",
       "    });\n",
       "\n",
       "    canvas_div.append(canvas);\n",
       "    canvas_div.append(rubberband);\n",
       "\n",
       "    this.rubberband = rubberband;\n",
       "    this.rubberband_canvas = rubberband[0];\n",
       "    this.rubberband_context = rubberband[0].getContext(\"2d\");\n",
       "    this.rubberband_context.strokeStyle = \"#000000\";\n",
       "\n",
       "    this._resize_canvas = function(width, height) {\n",
       "        // Keep the size of the canvas, canvas container, and rubber band\n",
       "        // canvas in synch.\n",
       "        canvas_div.css('width', width)\n",
       "        canvas_div.css('height', height)\n",
       "\n",
       "        canvas.attr('width', width * mpl.ratio);\n",
       "        canvas.attr('height', height * mpl.ratio);\n",
       "        canvas.attr('style', 'width: ' + width + 'px; height: ' + height + 'px;');\n",
       "\n",
       "        rubberband.attr('width', width);\n",
       "        rubberband.attr('height', height);\n",
       "    }\n",
       "\n",
       "    // Set the figure to an initial 600x600px, this will subsequently be updated\n",
       "    // upon first draw.\n",
       "    this._resize_canvas(600, 600);\n",
       "\n",
       "    // Disable right mouse context menu.\n",
       "    $(this.rubberband_canvas).bind(\"contextmenu\",function(e){\n",
       "        return false;\n",
       "    });\n",
       "\n",
       "    function set_focus () {\n",
       "        canvas.focus();\n",
       "        canvas_div.focus();\n",
       "    }\n",
       "\n",
       "    window.setTimeout(set_focus, 100);\n",
       "}\n",
       "\n",
       "mpl.figure.prototype._init_toolbar = function() {\n",
       "    var fig = this;\n",
       "\n",
       "    var nav_element = $('<div/>');\n",
       "    nav_element.attr('style', 'width: 100%');\n",
       "    this.root.append(nav_element);\n",
       "\n",
       "    // Define a callback function for later on.\n",
       "    function toolbar_event(event) {\n",
       "        return fig.toolbar_button_onclick(event['data']);\n",
       "    }\n",
       "    function toolbar_mouse_event(event) {\n",
       "        return fig.toolbar_button_onmouseover(event['data']);\n",
       "    }\n",
       "\n",
       "    for(var toolbar_ind in mpl.toolbar_items) {\n",
       "        var name = mpl.toolbar_items[toolbar_ind][0];\n",
       "        var tooltip = mpl.toolbar_items[toolbar_ind][1];\n",
       "        var image = mpl.toolbar_items[toolbar_ind][2];\n",
       "        var method_name = mpl.toolbar_items[toolbar_ind][3];\n",
       "\n",
       "        if (!name) {\n",
       "            // put a spacer in here.\n",
       "            continue;\n",
       "        }\n",
       "        var button = $('<button/>');\n",
       "        button.addClass('ui-button ui-widget ui-state-default ui-corner-all ' +\n",
       "                        'ui-button-icon-only');\n",
       "        button.attr('role', 'button');\n",
       "        button.attr('aria-disabled', 'false');\n",
       "        button.click(method_name, toolbar_event);\n",
       "        button.mouseover(tooltip, toolbar_mouse_event);\n",
       "\n",
       "        var icon_img = $('<span/>');\n",
       "        icon_img.addClass('ui-button-icon-primary ui-icon');\n",
       "        icon_img.addClass(image);\n",
       "        icon_img.addClass('ui-corner-all');\n",
       "\n",
       "        var tooltip_span = $('<span/>');\n",
       "        tooltip_span.addClass('ui-button-text');\n",
       "        tooltip_span.html(tooltip);\n",
       "\n",
       "        button.append(icon_img);\n",
       "        button.append(tooltip_span);\n",
       "\n",
       "        nav_element.append(button);\n",
       "    }\n",
       "\n",
       "    var fmt_picker_span = $('<span/>');\n",
       "\n",
       "    var fmt_picker = $('<select/>');\n",
       "    fmt_picker.addClass('mpl-toolbar-option ui-widget ui-widget-content');\n",
       "    fmt_picker_span.append(fmt_picker);\n",
       "    nav_element.append(fmt_picker_span);\n",
       "    this.format_dropdown = fmt_picker[0];\n",
       "\n",
       "    for (var ind in mpl.extensions) {\n",
       "        var fmt = mpl.extensions[ind];\n",
       "        var option = $(\n",
       "            '<option/>', {selected: fmt === mpl.default_extension}).html(fmt);\n",
       "        fmt_picker.append(option);\n",
       "    }\n",
       "\n",
       "    // Add hover states to the ui-buttons\n",
       "    $( \".ui-button\" ).hover(\n",
       "        function() { $(this).addClass(\"ui-state-hover\");},\n",
       "        function() { $(this).removeClass(\"ui-state-hover\");}\n",
       "    );\n",
       "\n",
       "    var status_bar = $('<span class=\"mpl-message\"/>');\n",
       "    nav_element.append(status_bar);\n",
       "    this.message = status_bar[0];\n",
       "}\n",
       "\n",
       "mpl.figure.prototype.request_resize = function(x_pixels, y_pixels) {\n",
       "    // Request matplotlib to resize the figure. Matplotlib will then trigger a resize in the client,\n",
       "    // which will in turn request a refresh of the image.\n",
       "    this.send_message('resize', {'width': x_pixels, 'height': y_pixels});\n",
       "}\n",
       "\n",
       "mpl.figure.prototype.send_message = function(type, properties) {\n",
       "    properties['type'] = type;\n",
       "    properties['figure_id'] = this.id;\n",
       "    this.ws.send(JSON.stringify(properties));\n",
       "}\n",
       "\n",
       "mpl.figure.prototype.send_draw_message = function() {\n",
       "    if (!this.waiting) {\n",
       "        this.waiting = true;\n",
       "        this.ws.send(JSON.stringify({type: \"draw\", figure_id: this.id}));\n",
       "    }\n",
       "}\n",
       "\n",
       "\n",
       "mpl.figure.prototype.handle_save = function(fig, msg) {\n",
       "    var format_dropdown = fig.format_dropdown;\n",
       "    var format = format_dropdown.options[format_dropdown.selectedIndex].value;\n",
       "    fig.ondownload(fig, format);\n",
       "}\n",
       "\n",
       "\n",
       "mpl.figure.prototype.handle_resize = function(fig, msg) {\n",
       "    var size = msg['size'];\n",
       "    if (size[0] != fig.canvas.width || size[1] != fig.canvas.height) {\n",
       "        fig._resize_canvas(size[0], size[1]);\n",
       "        fig.send_message(\"refresh\", {});\n",
       "    };\n",
       "}\n",
       "\n",
       "mpl.figure.prototype.handle_rubberband = function(fig, msg) {\n",
       "    var x0 = msg['x0'] / mpl.ratio;\n",
       "    var y0 = (fig.canvas.height - msg['y0']) / mpl.ratio;\n",
       "    var x1 = msg['x1'] / mpl.ratio;\n",
       "    var y1 = (fig.canvas.height - msg['y1']) / mpl.ratio;\n",
       "    x0 = Math.floor(x0) + 0.5;\n",
       "    y0 = Math.floor(y0) + 0.5;\n",
       "    x1 = Math.floor(x1) + 0.5;\n",
       "    y1 = Math.floor(y1) + 0.5;\n",
       "    var min_x = Math.min(x0, x1);\n",
       "    var min_y = Math.min(y0, y1);\n",
       "    var width = Math.abs(x1 - x0);\n",
       "    var height = Math.abs(y1 - y0);\n",
       "\n",
       "    fig.rubberband_context.clearRect(\n",
       "        0, 0, fig.canvas.width / mpl.ratio, fig.canvas.height / mpl.ratio);\n",
       "\n",
       "    fig.rubberband_context.strokeRect(min_x, min_y, width, height);\n",
       "}\n",
       "\n",
       "mpl.figure.prototype.handle_figure_label = function(fig, msg) {\n",
       "    // Updates the figure title.\n",
       "    fig.header.textContent = msg['label'];\n",
       "}\n",
       "\n",
       "mpl.figure.prototype.handle_cursor = function(fig, msg) {\n",
       "    var cursor = msg['cursor'];\n",
       "    switch(cursor)\n",
       "    {\n",
       "    case 0:\n",
       "        cursor = 'pointer';\n",
       "        break;\n",
       "    case 1:\n",
       "        cursor = 'default';\n",
       "        break;\n",
       "    case 2:\n",
       "        cursor = 'crosshair';\n",
       "        break;\n",
       "    case 3:\n",
       "        cursor = 'move';\n",
       "        break;\n",
       "    }\n",
       "    fig.rubberband_canvas.style.cursor = cursor;\n",
       "}\n",
       "\n",
       "mpl.figure.prototype.handle_message = function(fig, msg) {\n",
       "    fig.message.textContent = msg['message'];\n",
       "}\n",
       "\n",
       "mpl.figure.prototype.handle_draw = function(fig, msg) {\n",
       "    // Request the server to send over a new figure.\n",
       "    fig.send_draw_message();\n",
       "}\n",
       "\n",
       "mpl.figure.prototype.handle_image_mode = function(fig, msg) {\n",
       "    fig.image_mode = msg['mode'];\n",
       "}\n",
       "\n",
       "mpl.figure.prototype.updated_canvas_event = function() {\n",
       "    // Called whenever the canvas gets updated.\n",
       "    this.send_message(\"ack\", {});\n",
       "}\n",
       "\n",
       "// A function to construct a web socket function for onmessage handling.\n",
       "// Called in the figure constructor.\n",
       "mpl.figure.prototype._make_on_message_function = function(fig) {\n",
       "    return function socket_on_message(evt) {\n",
       "        if (evt.data instanceof Blob) {\n",
       "            /* FIXME: We get \"Resource interpreted as Image but\n",
       "             * transferred with MIME type text/plain:\" errors on\n",
       "             * Chrome.  But how to set the MIME type?  It doesn't seem\n",
       "             * to be part of the websocket stream */\n",
       "            evt.data.type = \"image/png\";\n",
       "\n",
       "            /* Free the memory for the previous frames */\n",
       "            if (fig.imageObj.src) {\n",
       "                (window.URL || window.webkitURL).revokeObjectURL(\n",
       "                    fig.imageObj.src);\n",
       "            }\n",
       "\n",
       "            fig.imageObj.src = (window.URL || window.webkitURL).createObjectURL(\n",
       "                evt.data);\n",
       "            fig.updated_canvas_event();\n",
       "            fig.waiting = false;\n",
       "            return;\n",
       "        }\n",
       "        else if (typeof evt.data === 'string' && evt.data.slice(0, 21) == \"data:image/png;base64\") {\n",
       "            fig.imageObj.src = evt.data;\n",
       "            fig.updated_canvas_event();\n",
       "            fig.waiting = false;\n",
       "            return;\n",
       "        }\n",
       "\n",
       "        var msg = JSON.parse(evt.data);\n",
       "        var msg_type = msg['type'];\n",
       "\n",
       "        // Call the  \"handle_{type}\" callback, which takes\n",
       "        // the figure and JSON message as its only arguments.\n",
       "        try {\n",
       "            var callback = fig[\"handle_\" + msg_type];\n",
       "        } catch (e) {\n",
       "            console.log(\"No handler for the '\" + msg_type + \"' message type: \", msg);\n",
       "            return;\n",
       "        }\n",
       "\n",
       "        if (callback) {\n",
       "            try {\n",
       "                // console.log(\"Handling '\" + msg_type + \"' message: \", msg);\n",
       "                callback(fig, msg);\n",
       "            } catch (e) {\n",
       "                console.log(\"Exception inside the 'handler_\" + msg_type + \"' callback:\", e, e.stack, msg);\n",
       "            }\n",
       "        }\n",
       "    };\n",
       "}\n",
       "\n",
       "// from http://stackoverflow.com/questions/1114465/getting-mouse-location-in-canvas\n",
       "mpl.findpos = function(e) {\n",
       "    //this section is from http://www.quirksmode.org/js/events_properties.html\n",
       "    var targ;\n",
       "    if (!e)\n",
       "        e = window.event;\n",
       "    if (e.target)\n",
       "        targ = e.target;\n",
       "    else if (e.srcElement)\n",
       "        targ = e.srcElement;\n",
       "    if (targ.nodeType == 3) // defeat Safari bug\n",
       "        targ = targ.parentNode;\n",
       "\n",
       "    // jQuery normalizes the pageX and pageY\n",
       "    // pageX,Y are the mouse positions relative to the document\n",
       "    // offset() returns the position of the element relative to the document\n",
       "    var x = e.pageX - $(targ).offset().left;\n",
       "    var y = e.pageY - $(targ).offset().top;\n",
       "\n",
       "    return {\"x\": x, \"y\": y};\n",
       "};\n",
       "\n",
       "/*\n",
       " * return a copy of an object with only non-object keys\n",
       " * we need this to avoid circular references\n",
       " * http://stackoverflow.com/a/24161582/3208463\n",
       " */\n",
       "function simpleKeys (original) {\n",
       "  return Object.keys(original).reduce(function (obj, key) {\n",
       "    if (typeof original[key] !== 'object')\n",
       "        obj[key] = original[key]\n",
       "    return obj;\n",
       "  }, {});\n",
       "}\n",
       "\n",
       "mpl.figure.prototype.mouse_event = function(event, name) {\n",
       "    var canvas_pos = mpl.findpos(event)\n",
       "\n",
       "    if (name === 'button_press')\n",
       "    {\n",
       "        this.canvas.focus();\n",
       "        this.canvas_div.focus();\n",
       "    }\n",
       "\n",
       "    var x = canvas_pos.x * mpl.ratio;\n",
       "    var y = canvas_pos.y * mpl.ratio;\n",
       "\n",
       "    this.send_message(name, {x: x, y: y, button: event.button,\n",
       "                             step: event.step,\n",
       "                             guiEvent: simpleKeys(event)});\n",
       "\n",
       "    /* This prevents the web browser from automatically changing to\n",
       "     * the text insertion cursor when the button is pressed.  We want\n",
       "     * to control all of the cursor setting manually through the\n",
       "     * 'cursor' event from matplotlib */\n",
       "    event.preventDefault();\n",
       "    return false;\n",
       "}\n",
       "\n",
       "mpl.figure.prototype._key_event_extra = function(event, name) {\n",
       "    // Handle any extra behaviour associated with a key event\n",
       "}\n",
       "\n",
       "mpl.figure.prototype.key_event = function(event, name) {\n",
       "\n",
       "    // Prevent repeat events\n",
       "    if (name == 'key_press')\n",
       "    {\n",
       "        if (event.which === this._key)\n",
       "            return;\n",
       "        else\n",
       "            this._key = event.which;\n",
       "    }\n",
       "    if (name == 'key_release')\n",
       "        this._key = null;\n",
       "\n",
       "    var value = '';\n",
       "    if (event.ctrlKey && event.which != 17)\n",
       "        value += \"ctrl+\";\n",
       "    if (event.altKey && event.which != 18)\n",
       "        value += \"alt+\";\n",
       "    if (event.shiftKey && event.which != 16)\n",
       "        value += \"shift+\";\n",
       "\n",
       "    value += 'k';\n",
       "    value += event.which.toString();\n",
       "\n",
       "    this._key_event_extra(event, name);\n",
       "\n",
       "    this.send_message(name, {key: value,\n",
       "                             guiEvent: simpleKeys(event)});\n",
       "    return false;\n",
       "}\n",
       "\n",
       "mpl.figure.prototype.toolbar_button_onclick = function(name) {\n",
       "    if (name == 'download') {\n",
       "        this.handle_save(this, null);\n",
       "    } else {\n",
       "        this.send_message(\"toolbar_button\", {name: name});\n",
       "    }\n",
       "};\n",
       "\n",
       "mpl.figure.prototype.toolbar_button_onmouseover = function(tooltip) {\n",
       "    this.message.textContent = tooltip;\n",
       "};\n",
       "mpl.toolbar_items = [[\"Home\", \"Reset original view\", \"fa fa-home icon-home\", \"home\"], [\"Back\", \"Back to previous view\", \"fa fa-arrow-left icon-arrow-left\", \"back\"], [\"Forward\", \"Forward to next view\", \"fa fa-arrow-right icon-arrow-right\", \"forward\"], [\"\", \"\", \"\", \"\"], [\"Pan\", \"Pan axes with left mouse, zoom with right\", \"fa fa-arrows icon-move\", \"pan\"], [\"Zoom\", \"Zoom to rectangle\", \"fa fa-square-o icon-check-empty\", \"zoom\"], [\"\", \"\", \"\", \"\"], [\"Download\", \"Download plot\", \"fa fa-floppy-o icon-save\", \"download\"]];\n",
       "\n",
       "mpl.extensions = [\"eps\", \"jpeg\", \"pdf\", \"png\", \"ps\", \"raw\", \"svg\", \"tif\"];\n",
       "\n",
       "mpl.default_extension = \"png\";var comm_websocket_adapter = function(comm) {\n",
       "    // Create a \"websocket\"-like object which calls the given IPython comm\n",
       "    // object with the appropriate methods. Currently this is a non binary\n",
       "    // socket, so there is still some room for performance tuning.\n",
       "    var ws = {};\n",
       "\n",
       "    ws.close = function() {\n",
       "        comm.close()\n",
       "    };\n",
       "    ws.send = function(m) {\n",
       "        //console.log('sending', m);\n",
       "        comm.send(m);\n",
       "    };\n",
       "    // Register the callback with on_msg.\n",
       "    comm.on_msg(function(msg) {\n",
       "        //console.log('receiving', msg['content']['data'], msg);\n",
       "        // Pass the mpl event to the overridden (by mpl) onmessage function.\n",
       "        ws.onmessage(msg['content']['data'])\n",
       "    });\n",
       "    return ws;\n",
       "}\n",
       "\n",
       "mpl.mpl_figure_comm = function(comm, msg) {\n",
       "    // This is the function which gets called when the mpl process\n",
       "    // starts-up an IPython Comm through the \"matplotlib\" channel.\n",
       "\n",
       "    var id = msg.content.data.id;\n",
       "    // Get hold of the div created by the display call when the Comm\n",
       "    // socket was opened in Python.\n",
       "    var element = $(\"#\" + id);\n",
       "    var ws_proxy = comm_websocket_adapter(comm)\n",
       "\n",
       "    function ondownload(figure, format) {\n",
       "        window.open(figure.imageObj.src);\n",
       "    }\n",
       "\n",
       "    var fig = new mpl.figure(id, ws_proxy,\n",
       "                           ondownload,\n",
       "                           element.get(0));\n",
       "\n",
       "    // Call onopen now - mpl needs it, as it is assuming we've passed it a real\n",
       "    // web socket which is closed, not our websocket->open comm proxy.\n",
       "    ws_proxy.onopen();\n",
       "\n",
       "    fig.parent_element = element.get(0);\n",
       "    fig.cell_info = mpl.find_output_cell(\"<div id='\" + id + \"'></div>\");\n",
       "    if (!fig.cell_info) {\n",
       "        console.error(\"Failed to find cell for figure\", id, fig);\n",
       "        return;\n",
       "    }\n",
       "\n",
       "    var output_index = fig.cell_info[2]\n",
       "    var cell = fig.cell_info[0];\n",
       "\n",
       "};\n",
       "\n",
       "mpl.figure.prototype.handle_close = function(fig, msg) {\n",
       "    var width = fig.canvas.width/mpl.ratio\n",
       "    fig.root.unbind('remove')\n",
       "\n",
       "    // Update the output cell to use the data from the current canvas.\n",
       "    fig.push_to_output();\n",
       "    var dataURL = fig.canvas.toDataURL();\n",
       "    // Re-enable the keyboard manager in IPython - without this line, in FF,\n",
       "    // the notebook keyboard shortcuts fail.\n",
       "    IPython.keyboard_manager.enable()\n",
       "    $(fig.parent_element).html('<img src=\"' + dataURL + '\" width=\"' + width + '\">');\n",
       "    fig.close_ws(fig, msg);\n",
       "}\n",
       "\n",
       "mpl.figure.prototype.close_ws = function(fig, msg){\n",
       "    fig.send_message('closing', msg);\n",
       "    // fig.ws.close()\n",
       "}\n",
       "\n",
       "mpl.figure.prototype.push_to_output = function(remove_interactive) {\n",
       "    // Turn the data on the canvas into data in the output cell.\n",
       "    var width = this.canvas.width/mpl.ratio\n",
       "    var dataURL = this.canvas.toDataURL();\n",
       "    this.cell_info[1]['text/html'] = '<img src=\"' + dataURL + '\" width=\"' + width + '\">';\n",
       "}\n",
       "\n",
       "mpl.figure.prototype.updated_canvas_event = function() {\n",
       "    // Tell IPython that the notebook contents must change.\n",
       "    IPython.notebook.set_dirty(true);\n",
       "    this.send_message(\"ack\", {});\n",
       "    var fig = this;\n",
       "    // Wait a second, then push the new image to the DOM so\n",
       "    // that it is saved nicely (might be nice to debounce this).\n",
       "    setTimeout(function () { fig.push_to_output() }, 1000);\n",
       "}\n",
       "\n",
       "mpl.figure.prototype._init_toolbar = function() {\n",
       "    var fig = this;\n",
       "\n",
       "    var nav_element = $('<div/>');\n",
       "    nav_element.attr('style', 'width: 100%');\n",
       "    this.root.append(nav_element);\n",
       "\n",
       "    // Define a callback function for later on.\n",
       "    function toolbar_event(event) {\n",
       "        return fig.toolbar_button_onclick(event['data']);\n",
       "    }\n",
       "    function toolbar_mouse_event(event) {\n",
       "        return fig.toolbar_button_onmouseover(event['data']);\n",
       "    }\n",
       "\n",
       "    for(var toolbar_ind in mpl.toolbar_items){\n",
       "        var name = mpl.toolbar_items[toolbar_ind][0];\n",
       "        var tooltip = mpl.toolbar_items[toolbar_ind][1];\n",
       "        var image = mpl.toolbar_items[toolbar_ind][2];\n",
       "        var method_name = mpl.toolbar_items[toolbar_ind][3];\n",
       "\n",
       "        if (!name) { continue; };\n",
       "\n",
       "        var button = $('<button class=\"btn btn-default\" href=\"#\" title=\"' + name + '\"><i class=\"fa ' + image + ' fa-lg\"></i></button>');\n",
       "        button.click(method_name, toolbar_event);\n",
       "        button.mouseover(tooltip, toolbar_mouse_event);\n",
       "        nav_element.append(button);\n",
       "    }\n",
       "\n",
       "    // Add the status bar.\n",
       "    var status_bar = $('<span class=\"mpl-message\" style=\"text-align:right; float: right;\"/>');\n",
       "    nav_element.append(status_bar);\n",
       "    this.message = status_bar[0];\n",
       "\n",
       "    // Add the close button to the window.\n",
       "    var buttongrp = $('<div class=\"btn-group inline pull-right\"></div>');\n",
       "    var button = $('<button class=\"btn btn-mini btn-primary\" href=\"#\" title=\"Stop Interaction\"><i class=\"fa fa-power-off icon-remove icon-large\"></i></button>');\n",
       "    button.click(function (evt) { fig.handle_close(fig, {}); } );\n",
       "    button.mouseover('Stop Interaction', toolbar_mouse_event);\n",
       "    buttongrp.append(button);\n",
       "    var titlebar = this.root.find($('.ui-dialog-titlebar'));\n",
       "    titlebar.prepend(buttongrp);\n",
       "}\n",
       "\n",
       "mpl.figure.prototype._root_extra_style = function(el){\n",
       "    var fig = this\n",
       "    el.on(\"remove\", function(){\n",
       "\tfig.close_ws(fig, {});\n",
       "    });\n",
       "}\n",
       "\n",
       "mpl.figure.prototype._canvas_extra_style = function(el){\n",
       "    // this is important to make the div 'focusable\n",
       "    el.attr('tabindex', 0)\n",
       "    // reach out to IPython and tell the keyboard manager to turn it's self\n",
       "    // off when our div gets focus\n",
       "\n",
       "    // location in version 3\n",
       "    if (IPython.notebook.keyboard_manager) {\n",
       "        IPython.notebook.keyboard_manager.register_events(el);\n",
       "    }\n",
       "    else {\n",
       "        // location in version 2\n",
       "        IPython.keyboard_manager.register_events(el);\n",
       "    }\n",
       "\n",
       "}\n",
       "\n",
       "mpl.figure.prototype._key_event_extra = function(event, name) {\n",
       "    var manager = IPython.notebook.keyboard_manager;\n",
       "    if (!manager)\n",
       "        manager = IPython.keyboard_manager;\n",
       "\n",
       "    // Check for shift+enter\n",
       "    if (event.shiftKey && event.which == 13) {\n",
       "        this.canvas_div.blur();\n",
       "        // select the cell after this one\n",
       "        var index = IPython.notebook.find_cell_index(this.cell_info[0]);\n",
       "        IPython.notebook.select(index + 1);\n",
       "    }\n",
       "}\n",
       "\n",
       "mpl.figure.prototype.handle_save = function(fig, msg) {\n",
       "    fig.ondownload(fig, null);\n",
       "}\n",
       "\n",
       "\n",
       "mpl.find_output_cell = function(html_output) {\n",
       "    // Return the cell and output element which can be found *uniquely* in the notebook.\n",
       "    // Note - this is a bit hacky, but it is done because the \"notebook_saving.Notebook\"\n",
       "    // IPython event is triggered only after the cells have been serialised, which for\n",
       "    // our purposes (turning an active figure into a static one), is too late.\n",
       "    var cells = IPython.notebook.get_cells();\n",
       "    var ncells = cells.length;\n",
       "    for (var i=0; i<ncells; i++) {\n",
       "        var cell = cells[i];\n",
       "        if (cell.cell_type === 'code'){\n",
       "            for (var j=0; j<cell.output_area.outputs.length; j++) {\n",
       "                var data = cell.output_area.outputs[j];\n",
       "                if (data.data) {\n",
       "                    // IPython >= 3 moved mimebundle to data attribute of output\n",
       "                    data = data.data;\n",
       "                }\n",
       "                if (data['text/html'] == html_output) {\n",
       "                    return [cell, data, j];\n",
       "                }\n",
       "            }\n",
       "        }\n",
       "    }\n",
       "}\n",
       "\n",
       "// Register the function which deals with the matplotlib target/channel.\n",
       "// The kernel may be null if the page has been refreshed.\n",
       "if (IPython.notebook.kernel != null) {\n",
       "    IPython.notebook.kernel.comm_manager.register_target('matplotlib', mpl.mpl_figure_comm);\n",
       "}\n"
      ],
      "text/plain": [
       "<IPython.core.display.Javascript object>"
      ]
     },
     "metadata": {},
     "output_type": "display_data"
    },
    {
     "data": {
      "text/html": [
       "<div id='c994c0fc-fe4e-4e58-8366-03d4371fb057'></div>"
      ],
      "text/plain": [
       "<IPython.core.display.HTML object>"
      ]
     },
     "metadata": {},
     "output_type": "display_data"
    },
    {
     "ename": "ConversionError",
     "evalue": "Failed to convert value(s) to axis units: '2020-09-01'",
     "output_type": "error",
     "traceback": [
      "\u001b[0;31m---------------------------------------------------------------------------\u001b[0m",
      "\u001b[0;31mAttributeError\u001b[0m                            Traceback (most recent call last)",
      "\u001b[0;32m/Applications/miniconda3/envs/work/lib/python3.8/site-packages/matplotlib/axis.py\u001b[0m in \u001b[0;36mconvert_units\u001b[0;34m(self, x)\u001b[0m\n\u001b[1;32m   1549\u001b[0m         \u001b[0;32mtry\u001b[0m\u001b[0;34m:\u001b[0m\u001b[0;34m\u001b[0m\u001b[0;34m\u001b[0m\u001b[0m\n\u001b[0;32m-> 1550\u001b[0;31m             \u001b[0mret\u001b[0m \u001b[0;34m=\u001b[0m \u001b[0mself\u001b[0m\u001b[0;34m.\u001b[0m\u001b[0mconverter\u001b[0m\u001b[0;34m.\u001b[0m\u001b[0mconvert\u001b[0m\u001b[0;34m(\u001b[0m\u001b[0mx\u001b[0m\u001b[0;34m,\u001b[0m \u001b[0mself\u001b[0m\u001b[0;34m.\u001b[0m\u001b[0munits\u001b[0m\u001b[0;34m,\u001b[0m \u001b[0mself\u001b[0m\u001b[0;34m)\u001b[0m\u001b[0;34m\u001b[0m\u001b[0;34m\u001b[0m\u001b[0m\n\u001b[0m\u001b[1;32m   1551\u001b[0m         \u001b[0;32mexcept\u001b[0m \u001b[0mException\u001b[0m \u001b[0;32mas\u001b[0m \u001b[0me\u001b[0m\u001b[0;34m:\u001b[0m\u001b[0;34m\u001b[0m\u001b[0;34m\u001b[0m\u001b[0m\n",
      "\u001b[0;32m/Applications/miniconda3/envs/work/lib/python3.8/site-packages/matplotlib/dates.py\u001b[0m in \u001b[0;36mconvert\u001b[0;34m(value, unit, axis)\u001b[0m\n\u001b[1;32m   2004\u001b[0m         \"\"\"\n\u001b[0;32m-> 2005\u001b[0;31m         \u001b[0;32mreturn\u001b[0m \u001b[0mdate2num\u001b[0m\u001b[0;34m(\u001b[0m\u001b[0mvalue\u001b[0m\u001b[0;34m)\u001b[0m\u001b[0;34m\u001b[0m\u001b[0;34m\u001b[0m\u001b[0m\n\u001b[0m\u001b[1;32m   2006\u001b[0m \u001b[0;34m\u001b[0m\u001b[0m\n",
      "\u001b[0;32m/Applications/miniconda3/envs/work/lib/python3.8/site-packages/matplotlib/dates.py\u001b[0m in \u001b[0;36mdate2num\u001b[0;34m(d)\u001b[0m\n\u001b[1;32m    422\u001b[0m             \u001b[0;32mreturn\u001b[0m \u001b[0md\u001b[0m\u001b[0;34m\u001b[0m\u001b[0;34m\u001b[0m\u001b[0m\n\u001b[0;32m--> 423\u001b[0;31m         \u001b[0;32mreturn\u001b[0m \u001b[0m_to_ordinalf_np_vectorized\u001b[0m\u001b[0;34m(\u001b[0m\u001b[0md\u001b[0m\u001b[0;34m)\u001b[0m\u001b[0;34m\u001b[0m\u001b[0;34m\u001b[0m\u001b[0m\n\u001b[0m\u001b[1;32m    424\u001b[0m \u001b[0;34m\u001b[0m\u001b[0m\n",
      "\u001b[0;32m/Applications/miniconda3/envs/work/lib/python3.8/site-packages/numpy/lib/function_base.py\u001b[0m in \u001b[0;36m__call__\u001b[0;34m(self, *args, **kwargs)\u001b[0m\n\u001b[1;32m   2090\u001b[0m \u001b[0;34m\u001b[0m\u001b[0m\n\u001b[0;32m-> 2091\u001b[0;31m         \u001b[0;32mreturn\u001b[0m \u001b[0mself\u001b[0m\u001b[0;34m.\u001b[0m\u001b[0m_vectorize_call\u001b[0m\u001b[0;34m(\u001b[0m\u001b[0mfunc\u001b[0m\u001b[0;34m=\u001b[0m\u001b[0mfunc\u001b[0m\u001b[0;34m,\u001b[0m \u001b[0margs\u001b[0m\u001b[0;34m=\u001b[0m\u001b[0mvargs\u001b[0m\u001b[0;34m)\u001b[0m\u001b[0;34m\u001b[0m\u001b[0;34m\u001b[0m\u001b[0m\n\u001b[0m\u001b[1;32m   2092\u001b[0m \u001b[0;34m\u001b[0m\u001b[0m\n",
      "\u001b[0;32m/Applications/miniconda3/envs/work/lib/python3.8/site-packages/numpy/lib/function_base.py\u001b[0m in \u001b[0;36m_vectorize_call\u001b[0;34m(self, func, args)\u001b[0m\n\u001b[1;32m   2160\u001b[0m         \u001b[0;32melse\u001b[0m\u001b[0;34m:\u001b[0m\u001b[0;34m\u001b[0m\u001b[0;34m\u001b[0m\u001b[0m\n\u001b[0;32m-> 2161\u001b[0;31m             \u001b[0mufunc\u001b[0m\u001b[0;34m,\u001b[0m \u001b[0motypes\u001b[0m \u001b[0;34m=\u001b[0m \u001b[0mself\u001b[0m\u001b[0;34m.\u001b[0m\u001b[0m_get_ufunc_and_otypes\u001b[0m\u001b[0;34m(\u001b[0m\u001b[0mfunc\u001b[0m\u001b[0;34m=\u001b[0m\u001b[0mfunc\u001b[0m\u001b[0;34m,\u001b[0m \u001b[0margs\u001b[0m\u001b[0;34m=\u001b[0m\u001b[0margs\u001b[0m\u001b[0;34m)\u001b[0m\u001b[0;34m\u001b[0m\u001b[0;34m\u001b[0m\u001b[0m\n\u001b[0m\u001b[1;32m   2162\u001b[0m \u001b[0;34m\u001b[0m\u001b[0m\n",
      "\u001b[0;32m/Applications/miniconda3/envs/work/lib/python3.8/site-packages/numpy/lib/function_base.py\u001b[0m in \u001b[0;36m_get_ufunc_and_otypes\u001b[0;34m(self, func, args)\u001b[0m\n\u001b[1;32m   2120\u001b[0m             \u001b[0minputs\u001b[0m \u001b[0;34m=\u001b[0m \u001b[0;34m[\u001b[0m\u001b[0marg\u001b[0m\u001b[0;34m.\u001b[0m\u001b[0mflat\u001b[0m\u001b[0;34m[\u001b[0m\u001b[0;36m0\u001b[0m\u001b[0;34m]\u001b[0m \u001b[0;32mfor\u001b[0m \u001b[0marg\u001b[0m \u001b[0;32min\u001b[0m \u001b[0margs\u001b[0m\u001b[0;34m]\u001b[0m\u001b[0;34m\u001b[0m\u001b[0;34m\u001b[0m\u001b[0m\n\u001b[0;32m-> 2121\u001b[0;31m             \u001b[0moutputs\u001b[0m \u001b[0;34m=\u001b[0m \u001b[0mfunc\u001b[0m\u001b[0;34m(\u001b[0m\u001b[0;34m*\u001b[0m\u001b[0minputs\u001b[0m\u001b[0;34m)\u001b[0m\u001b[0;34m\u001b[0m\u001b[0;34m\u001b[0m\u001b[0m\n\u001b[0m\u001b[1;32m   2122\u001b[0m \u001b[0;34m\u001b[0m\u001b[0m\n",
      "\u001b[0;32m/Applications/miniconda3/envs/work/lib/python3.8/site-packages/matplotlib/dates.py\u001b[0m in \u001b[0;36m_to_ordinalf\u001b[0;34m(dt)\u001b[0m\n\u001b[1;32m    222\u001b[0m \u001b[0;34m\u001b[0m\u001b[0m\n\u001b[0;32m--> 223\u001b[0;31m     \u001b[0mbase\u001b[0m \u001b[0;34m=\u001b[0m \u001b[0mfloat\u001b[0m\u001b[0;34m(\u001b[0m\u001b[0mdt\u001b[0m\u001b[0;34m.\u001b[0m\u001b[0mtoordinal\u001b[0m\u001b[0;34m(\u001b[0m\u001b[0;34m)\u001b[0m\u001b[0;34m)\u001b[0m\u001b[0;34m\u001b[0m\u001b[0;34m\u001b[0m\u001b[0m\n\u001b[0m\u001b[1;32m    224\u001b[0m \u001b[0;34m\u001b[0m\u001b[0m\n",
      "\u001b[0;31mAttributeError\u001b[0m: 'numpy.str_' object has no attribute 'toordinal'",
      "\nThe above exception was the direct cause of the following exception:\n",
      "\u001b[0;31mConversionError\u001b[0m                           Traceback (most recent call last)",
      "\u001b[0;32m<ipython-input-191-c095a73a8973>\u001b[0m in \u001b[0;36m<module>\u001b[0;34m\u001b[0m\n\u001b[1;32m     43\u001b[0m \u001b[0max1\u001b[0m\u001b[0;34m.\u001b[0m\u001b[0mset_title\u001b[0m\u001b[0;34m(\u001b[0m\u001b[0;34m'New hospitalizations'\u001b[0m\u001b[0;34m)\u001b[0m\u001b[0;34m\u001b[0m\u001b[0;34m\u001b[0m\u001b[0m\n\u001b[1;32m     44\u001b[0m \u001b[0max1\u001b[0m\u001b[0;34m.\u001b[0m\u001b[0mset_ylabel\u001b[0m\u001b[0;34m(\u001b[0m\u001b[0;34m'$H_{in} $(-)'\u001b[0m\u001b[0;34m)\u001b[0m\u001b[0;34m\u001b[0m\u001b[0;34m\u001b[0m\u001b[0m\n\u001b[0;32m---> 45\u001b[0;31m \u001b[0max1\u001b[0m\u001b[0;34m.\u001b[0m\u001b[0mset_xlim\u001b[0m\u001b[0;34m(\u001b[0m\u001b[0;34m'2020-09-01'\u001b[0m\u001b[0;34m,\u001b[0m\u001b[0mend_sim\u001b[0m\u001b[0;34m)\u001b[0m\u001b[0;34m\u001b[0m\u001b[0;34m\u001b[0m\u001b[0m\n\u001b[0m\u001b[1;32m     46\u001b[0m \u001b[0max1\u001b[0m\u001b[0;34m.\u001b[0m\u001b[0maxvline\u001b[0m\u001b[0;34m(\u001b[0m\u001b[0mx\u001b[0m\u001b[0;34m=\u001b[0m\u001b[0mpd\u001b[0m\u001b[0;34m.\u001b[0m\u001b[0mto_datetime\u001b[0m\u001b[0;34m(\u001b[0m\u001b[0;34m'2021-01-15'\u001b[0m\u001b[0;34m)\u001b[0m\u001b[0;34m,\u001b[0m\u001b[0mcolor\u001b[0m\u001b[0;34m=\u001b[0m\u001b[0;34m'black'\u001b[0m\u001b[0;34m)\u001b[0m\u001b[0;34m\u001b[0m\u001b[0;34m\u001b[0m\u001b[0m\n\u001b[1;32m     47\u001b[0m \u001b[0max1\u001b[0m\u001b[0;34m.\u001b[0m\u001b[0mtext\u001b[0m\u001b[0;34m(\u001b[0m\u001b[0mpd\u001b[0m\u001b[0;34m.\u001b[0m\u001b[0mTimestamp\u001b[0m\u001b[0;34m(\u001b[0m\u001b[0;34m'2021-01-16'\u001b[0m\u001b[0;34m)\u001b[0m\u001b[0;34m,\u001b[0m\u001b[0;36m750\u001b[0m\u001b[0;34m,\u001b[0m \u001b[0;34m' introduction \\n new strain'\u001b[0m\u001b[0;34m,\u001b[0m \u001b[0mfontsize\u001b[0m\u001b[0;34m=\u001b[0m\u001b[0;36m10\u001b[0m\u001b[0;34m)\u001b[0m\u001b[0;34m\u001b[0m\u001b[0;34m\u001b[0m\u001b[0m\n",
      "\u001b[0;32m/Applications/miniconda3/envs/work/lib/python3.8/site-packages/matplotlib/axes/_base.py\u001b[0m in \u001b[0;36mset_xlim\u001b[0;34m(self, left, right, emit, auto, xmin, xmax)\u001b[0m\n\u001b[1;32m   3239\u001b[0m \u001b[0;34m\u001b[0m\u001b[0m\n\u001b[1;32m   3240\u001b[0m         \u001b[0mself\u001b[0m\u001b[0;34m.\u001b[0m\u001b[0m_process_unit_info\u001b[0m\u001b[0;34m(\u001b[0m\u001b[0mxdata\u001b[0m\u001b[0;34m=\u001b[0m\u001b[0;34m(\u001b[0m\u001b[0mleft\u001b[0m\u001b[0;34m,\u001b[0m \u001b[0mright\u001b[0m\u001b[0;34m)\u001b[0m\u001b[0;34m)\u001b[0m\u001b[0;34m\u001b[0m\u001b[0;34m\u001b[0m\u001b[0m\n\u001b[0;32m-> 3241\u001b[0;31m         \u001b[0mleft\u001b[0m \u001b[0;34m=\u001b[0m \u001b[0mself\u001b[0m\u001b[0;34m.\u001b[0m\u001b[0m_validate_converted_limits\u001b[0m\u001b[0;34m(\u001b[0m\u001b[0mleft\u001b[0m\u001b[0;34m,\u001b[0m \u001b[0mself\u001b[0m\u001b[0;34m.\u001b[0m\u001b[0mconvert_xunits\u001b[0m\u001b[0;34m)\u001b[0m\u001b[0;34m\u001b[0m\u001b[0;34m\u001b[0m\u001b[0m\n\u001b[0m\u001b[1;32m   3242\u001b[0m         \u001b[0mright\u001b[0m \u001b[0;34m=\u001b[0m \u001b[0mself\u001b[0m\u001b[0;34m.\u001b[0m\u001b[0m_validate_converted_limits\u001b[0m\u001b[0;34m(\u001b[0m\u001b[0mright\u001b[0m\u001b[0;34m,\u001b[0m \u001b[0mself\u001b[0m\u001b[0;34m.\u001b[0m\u001b[0mconvert_xunits\u001b[0m\u001b[0;34m)\u001b[0m\u001b[0;34m\u001b[0m\u001b[0;34m\u001b[0m\u001b[0m\n\u001b[1;32m   3243\u001b[0m \u001b[0;34m\u001b[0m\u001b[0m\n",
      "\u001b[0;32m/Applications/miniconda3/envs/work/lib/python3.8/site-packages/matplotlib/axes/_base.py\u001b[0m in \u001b[0;36m_validate_converted_limits\u001b[0;34m(self, limit, convert)\u001b[0m\n\u001b[1;32m   3153\u001b[0m         \"\"\"\n\u001b[1;32m   3154\u001b[0m         \u001b[0;32mif\u001b[0m \u001b[0mlimit\u001b[0m \u001b[0;32mis\u001b[0m \u001b[0;32mnot\u001b[0m \u001b[0;32mNone\u001b[0m\u001b[0;34m:\u001b[0m\u001b[0;34m\u001b[0m\u001b[0;34m\u001b[0m\u001b[0m\n\u001b[0;32m-> 3155\u001b[0;31m             \u001b[0mconverted_limit\u001b[0m \u001b[0;34m=\u001b[0m \u001b[0mconvert\u001b[0m\u001b[0;34m(\u001b[0m\u001b[0mlimit\u001b[0m\u001b[0;34m)\u001b[0m\u001b[0;34m\u001b[0m\u001b[0;34m\u001b[0m\u001b[0m\n\u001b[0m\u001b[1;32m   3156\u001b[0m             if (isinstance(converted_limit, Real)\n\u001b[1;32m   3157\u001b[0m                     and not np.isfinite(converted_limit)):\n",
      "\u001b[0;32m/Applications/miniconda3/envs/work/lib/python3.8/site-packages/matplotlib/artist.py\u001b[0m in \u001b[0;36mconvert_xunits\u001b[0;34m(self, x)\u001b[0m\n\u001b[1;32m    178\u001b[0m         \u001b[0;32mif\u001b[0m \u001b[0max\u001b[0m \u001b[0;32mis\u001b[0m \u001b[0;32mNone\u001b[0m \u001b[0;32mor\u001b[0m \u001b[0max\u001b[0m\u001b[0;34m.\u001b[0m\u001b[0mxaxis\u001b[0m \u001b[0;32mis\u001b[0m \u001b[0;32mNone\u001b[0m\u001b[0;34m:\u001b[0m\u001b[0;34m\u001b[0m\u001b[0;34m\u001b[0m\u001b[0m\n\u001b[1;32m    179\u001b[0m             \u001b[0;32mreturn\u001b[0m \u001b[0mx\u001b[0m\u001b[0;34m\u001b[0m\u001b[0;34m\u001b[0m\u001b[0m\n\u001b[0;32m--> 180\u001b[0;31m         \u001b[0;32mreturn\u001b[0m \u001b[0max\u001b[0m\u001b[0;34m.\u001b[0m\u001b[0mxaxis\u001b[0m\u001b[0;34m.\u001b[0m\u001b[0mconvert_units\u001b[0m\u001b[0;34m(\u001b[0m\u001b[0mx\u001b[0m\u001b[0;34m)\u001b[0m\u001b[0;34m\u001b[0m\u001b[0;34m\u001b[0m\u001b[0m\n\u001b[0m\u001b[1;32m    181\u001b[0m \u001b[0;34m\u001b[0m\u001b[0m\n\u001b[1;32m    182\u001b[0m     \u001b[0;32mdef\u001b[0m \u001b[0mconvert_yunits\u001b[0m\u001b[0;34m(\u001b[0m\u001b[0mself\u001b[0m\u001b[0;34m,\u001b[0m \u001b[0my\u001b[0m\u001b[0;34m)\u001b[0m\u001b[0;34m:\u001b[0m\u001b[0;34m\u001b[0m\u001b[0;34m\u001b[0m\u001b[0m\n",
      "\u001b[0;32m/Applications/miniconda3/envs/work/lib/python3.8/site-packages/matplotlib/axis.py\u001b[0m in \u001b[0;36mconvert_units\u001b[0;34m(self, x)\u001b[0m\n\u001b[1;32m   1550\u001b[0m             \u001b[0mret\u001b[0m \u001b[0;34m=\u001b[0m \u001b[0mself\u001b[0m\u001b[0;34m.\u001b[0m\u001b[0mconverter\u001b[0m\u001b[0;34m.\u001b[0m\u001b[0mconvert\u001b[0m\u001b[0;34m(\u001b[0m\u001b[0mx\u001b[0m\u001b[0;34m,\u001b[0m \u001b[0mself\u001b[0m\u001b[0;34m.\u001b[0m\u001b[0munits\u001b[0m\u001b[0;34m,\u001b[0m \u001b[0mself\u001b[0m\u001b[0;34m)\u001b[0m\u001b[0;34m\u001b[0m\u001b[0;34m\u001b[0m\u001b[0m\n\u001b[1;32m   1551\u001b[0m         \u001b[0;32mexcept\u001b[0m \u001b[0mException\u001b[0m \u001b[0;32mas\u001b[0m \u001b[0me\u001b[0m\u001b[0;34m:\u001b[0m\u001b[0;34m\u001b[0m\u001b[0;34m\u001b[0m\u001b[0m\n\u001b[0;32m-> 1552\u001b[0;31m             raise munits.ConversionError('Failed to convert value(s) to axis '\n\u001b[0m\u001b[1;32m   1553\u001b[0m                                          f'units: {x!r}') from e\n\u001b[1;32m   1554\u001b[0m         \u001b[0;32mreturn\u001b[0m \u001b[0mret\u001b[0m\u001b[0;34m\u001b[0m\u001b[0;34m\u001b[0m\u001b[0m\n",
      "\u001b[0;31mConversionError\u001b[0m: Failed to convert value(s) to axis units: '2020-09-01'"
     ]
    }
   ],
   "source": [
    "# ----------------\n",
    "# Visualize result\n",
    "# ----------------\n",
    "# Plot\n",
    "fig,(ax1, ax2, ax3) = plt.subplots(3,sharex=True,figsize=(10,15))\n",
    "legend_pos = (0.5, 1.35)\n",
    "legend_col = 2\n",
    "\n",
    "label1 = 'current behaviour - +30%'\n",
    "label2 = 'current behaviour - +50%'\n",
    "label3 = 'SB March 1 - +30%'\n",
    "label4 = 'SB March 1 - +50%'\n",
    "label5 = 'SB May 1 - +50% '\n",
    "\n",
    "# Incidence\n",
    "plot_band_binom(ax1, S1a_time, S1a_H_in_binom, 'green', label=label1)\n",
    "plot_band_binom(ax1, S1b_time, S1b_H_in_binom, 'blue', label=label2)\n",
    "plot_band_binom(ax1, S2a_time, S2a_H_in_binom, 'orange', label=label3)\n",
    "plot_band_binom(ax1, S2b_time, S2b_H_in_binom, 'red', label=label4)\n",
    "plot_band_binom(ax1, S5b_time, S5b_H_in_binom, 'lightblue', label=label5)\n",
    "\n",
    "ax1.scatter(df_sciensano[start_sim:end_sim].index,df_sciensano['H_in'][start_sim:end_sim],color='black',alpha=0.4,linestyle='None',facecolors='none')\n",
    "ax1.legend(loc='upper center', bbox_to_anchor=legend_pos, ncol=legend_col)\n",
    "\n",
    "# Load\n",
    "plot_band_binom(ax2, S1a_time, S1a_H_tot_binom, 'green', label=label1)\n",
    "plot_band_binom(ax2, S1b_time, S1b_H_tot_binom, 'blue', label=label2)\n",
    "plot_band_binom(ax2, S2a_time, S2a_H_tot_binom, 'orange', label=label3)\n",
    "plot_band_binom(ax2, S2b_time, S2b_H_tot_binom, 'red', label=label4)\n",
    "plot_band_binom(ax2, S5b_time, S5b_H_tot_binom, 'lightblue', label=label5)\n",
    "\n",
    "\n",
    "ax2.scatter(df_sciensano[start_sim:end_sim].index,df_sciensano['H_tot'][start_sim:end_sim],color='black',alpha=0.4,linestyle='None',facecolors='none')\n",
    "\n",
    "# British variant\n",
    "plot_band_binom(ax3, S1a_time, S1a_alpha*100, 'green', label=label1, axis=0)\n",
    "plot_band_binom(ax3, S1b_time, S1b_alpha*100, 'blue', label=label2, axis=0)\n",
    "plot_band_binom(ax3, S2a_time, S2a_alpha*100, 'orange', label=label3, axis=0)\n",
    "plot_band_binom(ax3, S2b_time, S2b_alpha*100, 'red', label=label4, axis=0)\n",
    "plot_band_binom(ax3, S5b_time, S5b_alpha*100, 'lightblue', label=label5, axis=0)\n",
    "\n",
    "# Format\n",
    "ax1.set_title('New hospitalizations')\n",
    "ax1.set_ylabel('$H_{in} $(-)')\n",
    "ax1.set_xlim('2020-09-01',end_sim)\n",
    "ax1.axvline(x=pd.to_datetime('2021-01-15'),color='black')\n",
    "ax1.text(pd.Timestamp('2021-01-16'),750, ' introduction \\n new strain', fontsize=10)\n",
    "ax1 = _apply_tick_locator(ax1)\n",
    "ax2.set_title('Total patients in hospital')\n",
    "ax2.set_ylabel('$H_{tot}$ (-)')\n",
    "ax2.set_xlim('2020-09-01',end_sim)\n",
    "ax2.axvline(x=pd.to_datetime('2021-01-15'),color='red')\n",
    "ax2 = _apply_tick_locator(ax2)\n",
    "ax3.set_title('Prevalence of new strain')\n",
    "ax3.set_ylabel('$\\\\alpha$ (%)')\n",
    "ax3.axvline(x=pd.to_datetime('2021-01-15'),color='black')\n",
    "ax3.set_xlim('2020-09-01',end_sim)\n",
    "ax3.set_ylim(0,100)\n",
    "ax3 = _apply_tick_locator(ax3)\n",
    "date_exceed = get_date_of_exceeding_alpha(out_S1a, ['Nc', 'draws'], 0.25)\n",
    "ax3.axvline(x=date_exceed, color='gray')\n",
    "ax3.text(date_exceed+pd.Timedelta('1D'),10, ' exceeding \\n 25% on {}/{}'.format(date_exceed.day, date_exceed.month), \n",
    "         fontsize=10, color='gray')\n",
    "\n",
    "\n",
    "fig.suptitle('Scenarios current contact behaviour')\n",
    "\n",
    "fig_path =  '../../results/predictions/national/restore_v7.0/'\n",
    "#fig.savefig(fig_path+'Scenarios'+'.jpg', dpi=400, bbox_inches='tight')"
   ]
  },
  {
   "cell_type": "code",
   "execution_count": null,
   "metadata": {
    "ExecuteTime": {
     "end_time": "2021-02-03T20:59:08.988228Z",
     "start_time": "2021-02-03T20:59:08.909484Z"
    }
   },
   "outputs": [],
   "source": [
    "get_date_of_exceeding_alpha(out_S1b, ['Nc', 'draws'], 0.45)"
   ]
  },
  {
   "cell_type": "code",
   "execution_count": null,
   "metadata": {
    "ExecuteTime": {
     "end_time": "2021-02-03T15:01:37.993108Z",
     "start_time": "2021-02-03T15:01:37.728002Z"
    }
   },
   "outputs": [],
   "source": [
    "check_overtake_duration(out_S1a, ['Nc', 'draws'])"
   ]
  },
  {
   "cell_type": "markdown",
   "metadata": {},
   "source": [
    "## Vaccination effect"
   ]
  },
  {
   "cell_type": "code",
   "execution_count": 100,
   "metadata": {
    "ExecuteTime": {
     "end_time": "2021-02-08T09:45:17.381781Z",
     "start_time": "2021-02-08T09:44:50.128469Z"
    },
    "scrolled": false
   },
   "outputs": [
    {
     "data": {
      "application/javascript": [
       "/* Put everything inside the global mpl namespace */\n",
       "window.mpl = {};\n",
       "\n",
       "\n",
       "mpl.get_websocket_type = function() {\n",
       "    if (typeof(WebSocket) !== 'undefined') {\n",
       "        return WebSocket;\n",
       "    } else if (typeof(MozWebSocket) !== 'undefined') {\n",
       "        return MozWebSocket;\n",
       "    } else {\n",
       "        alert('Your browser does not have WebSocket support. ' +\n",
       "              'Please try Chrome, Safari or Firefox ≥ 6. ' +\n",
       "              'Firefox 4 and 5 are also supported but you ' +\n",
       "              'have to enable WebSockets in about:config.');\n",
       "    };\n",
       "}\n",
       "\n",
       "mpl.figure = function(figure_id, websocket, ondownload, parent_element) {\n",
       "    this.id = figure_id;\n",
       "\n",
       "    this.ws = websocket;\n",
       "\n",
       "    this.supports_binary = (this.ws.binaryType != undefined);\n",
       "\n",
       "    if (!this.supports_binary) {\n",
       "        var warnings = document.getElementById(\"mpl-warnings\");\n",
       "        if (warnings) {\n",
       "            warnings.style.display = 'block';\n",
       "            warnings.textContent = (\n",
       "                \"This browser does not support binary websocket messages. \" +\n",
       "                    \"Performance may be slow.\");\n",
       "        }\n",
       "    }\n",
       "\n",
       "    this.imageObj = new Image();\n",
       "\n",
       "    this.context = undefined;\n",
       "    this.message = undefined;\n",
       "    this.canvas = undefined;\n",
       "    this.rubberband_canvas = undefined;\n",
       "    this.rubberband_context = undefined;\n",
       "    this.format_dropdown = undefined;\n",
       "\n",
       "    this.image_mode = 'full';\n",
       "\n",
       "    this.root = $('<div/>');\n",
       "    this._root_extra_style(this.root)\n",
       "    this.root.attr('style', 'display: inline-block');\n",
       "\n",
       "    $(parent_element).append(this.root);\n",
       "\n",
       "    this._init_header(this);\n",
       "    this._init_canvas(this);\n",
       "    this._init_toolbar(this);\n",
       "\n",
       "    var fig = this;\n",
       "\n",
       "    this.waiting = false;\n",
       "\n",
       "    this.ws.onopen =  function () {\n",
       "            fig.send_message(\"supports_binary\", {value: fig.supports_binary});\n",
       "            fig.send_message(\"send_image_mode\", {});\n",
       "            if (mpl.ratio != 1) {\n",
       "                fig.send_message(\"set_dpi_ratio\", {'dpi_ratio': mpl.ratio});\n",
       "            }\n",
       "            fig.send_message(\"refresh\", {});\n",
       "        }\n",
       "\n",
       "    this.imageObj.onload = function() {\n",
       "            if (fig.image_mode == 'full') {\n",
       "                // Full images could contain transparency (where diff images\n",
       "                // almost always do), so we need to clear the canvas so that\n",
       "                // there is no ghosting.\n",
       "                fig.context.clearRect(0, 0, fig.canvas.width, fig.canvas.height);\n",
       "            }\n",
       "            fig.context.drawImage(fig.imageObj, 0, 0);\n",
       "        };\n",
       "\n",
       "    this.imageObj.onunload = function() {\n",
       "        fig.ws.close();\n",
       "    }\n",
       "\n",
       "    this.ws.onmessage = this._make_on_message_function(this);\n",
       "\n",
       "    this.ondownload = ondownload;\n",
       "}\n",
       "\n",
       "mpl.figure.prototype._init_header = function() {\n",
       "    var titlebar = $(\n",
       "        '<div class=\"ui-dialog-titlebar ui-widget-header ui-corner-all ' +\n",
       "        'ui-helper-clearfix\"/>');\n",
       "    var titletext = $(\n",
       "        '<div class=\"ui-dialog-title\" style=\"width: 100%; ' +\n",
       "        'text-align: center; padding: 3px;\"/>');\n",
       "    titlebar.append(titletext)\n",
       "    this.root.append(titlebar);\n",
       "    this.header = titletext[0];\n",
       "}\n",
       "\n",
       "\n",
       "\n",
       "mpl.figure.prototype._canvas_extra_style = function(canvas_div) {\n",
       "\n",
       "}\n",
       "\n",
       "\n",
       "mpl.figure.prototype._root_extra_style = function(canvas_div) {\n",
       "\n",
       "}\n",
       "\n",
       "mpl.figure.prototype._init_canvas = function() {\n",
       "    var fig = this;\n",
       "\n",
       "    var canvas_div = $('<div/>');\n",
       "\n",
       "    canvas_div.attr('style', 'position: relative; clear: both; outline: 0');\n",
       "\n",
       "    function canvas_keyboard_event(event) {\n",
       "        return fig.key_event(event, event['data']);\n",
       "    }\n",
       "\n",
       "    canvas_div.keydown('key_press', canvas_keyboard_event);\n",
       "    canvas_div.keyup('key_release', canvas_keyboard_event);\n",
       "    this.canvas_div = canvas_div\n",
       "    this._canvas_extra_style(canvas_div)\n",
       "    this.root.append(canvas_div);\n",
       "\n",
       "    var canvas = $('<canvas/>');\n",
       "    canvas.addClass('mpl-canvas');\n",
       "    canvas.attr('style', \"left: 0; top: 0; z-index: 0; outline: 0\")\n",
       "\n",
       "    this.canvas = canvas[0];\n",
       "    this.context = canvas[0].getContext(\"2d\");\n",
       "\n",
       "    var backingStore = this.context.backingStorePixelRatio ||\n",
       "\tthis.context.webkitBackingStorePixelRatio ||\n",
       "\tthis.context.mozBackingStorePixelRatio ||\n",
       "\tthis.context.msBackingStorePixelRatio ||\n",
       "\tthis.context.oBackingStorePixelRatio ||\n",
       "\tthis.context.backingStorePixelRatio || 1;\n",
       "\n",
       "    mpl.ratio = (window.devicePixelRatio || 1) / backingStore;\n",
       "\n",
       "    var rubberband = $('<canvas/>');\n",
       "    rubberband.attr('style', \"position: absolute; left: 0; top: 0; z-index: 1;\")\n",
       "\n",
       "    var pass_mouse_events = true;\n",
       "\n",
       "    canvas_div.resizable({\n",
       "        start: function(event, ui) {\n",
       "            pass_mouse_events = false;\n",
       "        },\n",
       "        resize: function(event, ui) {\n",
       "            fig.request_resize(ui.size.width, ui.size.height);\n",
       "        },\n",
       "        stop: function(event, ui) {\n",
       "            pass_mouse_events = true;\n",
       "            fig.request_resize(ui.size.width, ui.size.height);\n",
       "        },\n",
       "    });\n",
       "\n",
       "    function mouse_event_fn(event) {\n",
       "        if (pass_mouse_events)\n",
       "            return fig.mouse_event(event, event['data']);\n",
       "    }\n",
       "\n",
       "    rubberband.mousedown('button_press', mouse_event_fn);\n",
       "    rubberband.mouseup('button_release', mouse_event_fn);\n",
       "    // Throttle sequential mouse events to 1 every 20ms.\n",
       "    rubberband.mousemove('motion_notify', mouse_event_fn);\n",
       "\n",
       "    rubberband.mouseenter('figure_enter', mouse_event_fn);\n",
       "    rubberband.mouseleave('figure_leave', mouse_event_fn);\n",
       "\n",
       "    canvas_div.on(\"wheel\", function (event) {\n",
       "        event = event.originalEvent;\n",
       "        event['data'] = 'scroll'\n",
       "        if (event.deltaY < 0) {\n",
       "            event.step = 1;\n",
       "        } else {\n",
       "            event.step = -1;\n",
       "        }\n",
       "        mouse_event_fn(event);\n",
       "    });\n",
       "\n",
       "    canvas_div.append(canvas);\n",
       "    canvas_div.append(rubberband);\n",
       "\n",
       "    this.rubberband = rubberband;\n",
       "    this.rubberband_canvas = rubberband[0];\n",
       "    this.rubberband_context = rubberband[0].getContext(\"2d\");\n",
       "    this.rubberband_context.strokeStyle = \"#000000\";\n",
       "\n",
       "    this._resize_canvas = function(width, height) {\n",
       "        // Keep the size of the canvas, canvas container, and rubber band\n",
       "        // canvas in synch.\n",
       "        canvas_div.css('width', width)\n",
       "        canvas_div.css('height', height)\n",
       "\n",
       "        canvas.attr('width', width * mpl.ratio);\n",
       "        canvas.attr('height', height * mpl.ratio);\n",
       "        canvas.attr('style', 'width: ' + width + 'px; height: ' + height + 'px;');\n",
       "\n",
       "        rubberband.attr('width', width);\n",
       "        rubberband.attr('height', height);\n",
       "    }\n",
       "\n",
       "    // Set the figure to an initial 600x600px, this will subsequently be updated\n",
       "    // upon first draw.\n",
       "    this._resize_canvas(600, 600);\n",
       "\n",
       "    // Disable right mouse context menu.\n",
       "    $(this.rubberband_canvas).bind(\"contextmenu\",function(e){\n",
       "        return false;\n",
       "    });\n",
       "\n",
       "    function set_focus () {\n",
       "        canvas.focus();\n",
       "        canvas_div.focus();\n",
       "    }\n",
       "\n",
       "    window.setTimeout(set_focus, 100);\n",
       "}\n",
       "\n",
       "mpl.figure.prototype._init_toolbar = function() {\n",
       "    var fig = this;\n",
       "\n",
       "    var nav_element = $('<div/>');\n",
       "    nav_element.attr('style', 'width: 100%');\n",
       "    this.root.append(nav_element);\n",
       "\n",
       "    // Define a callback function for later on.\n",
       "    function toolbar_event(event) {\n",
       "        return fig.toolbar_button_onclick(event['data']);\n",
       "    }\n",
       "    function toolbar_mouse_event(event) {\n",
       "        return fig.toolbar_button_onmouseover(event['data']);\n",
       "    }\n",
       "\n",
       "    for(var toolbar_ind in mpl.toolbar_items) {\n",
       "        var name = mpl.toolbar_items[toolbar_ind][0];\n",
       "        var tooltip = mpl.toolbar_items[toolbar_ind][1];\n",
       "        var image = mpl.toolbar_items[toolbar_ind][2];\n",
       "        var method_name = mpl.toolbar_items[toolbar_ind][3];\n",
       "\n",
       "        if (!name) {\n",
       "            // put a spacer in here.\n",
       "            continue;\n",
       "        }\n",
       "        var button = $('<button/>');\n",
       "        button.addClass('ui-button ui-widget ui-state-default ui-corner-all ' +\n",
       "                        'ui-button-icon-only');\n",
       "        button.attr('role', 'button');\n",
       "        button.attr('aria-disabled', 'false');\n",
       "        button.click(method_name, toolbar_event);\n",
       "        button.mouseover(tooltip, toolbar_mouse_event);\n",
       "\n",
       "        var icon_img = $('<span/>');\n",
       "        icon_img.addClass('ui-button-icon-primary ui-icon');\n",
       "        icon_img.addClass(image);\n",
       "        icon_img.addClass('ui-corner-all');\n",
       "\n",
       "        var tooltip_span = $('<span/>');\n",
       "        tooltip_span.addClass('ui-button-text');\n",
       "        tooltip_span.html(tooltip);\n",
       "\n",
       "        button.append(icon_img);\n",
       "        button.append(tooltip_span);\n",
       "\n",
       "        nav_element.append(button);\n",
       "    }\n",
       "\n",
       "    var fmt_picker_span = $('<span/>');\n",
       "\n",
       "    var fmt_picker = $('<select/>');\n",
       "    fmt_picker.addClass('mpl-toolbar-option ui-widget ui-widget-content');\n",
       "    fmt_picker_span.append(fmt_picker);\n",
       "    nav_element.append(fmt_picker_span);\n",
       "    this.format_dropdown = fmt_picker[0];\n",
       "\n",
       "    for (var ind in mpl.extensions) {\n",
       "        var fmt = mpl.extensions[ind];\n",
       "        var option = $(\n",
       "            '<option/>', {selected: fmt === mpl.default_extension}).html(fmt);\n",
       "        fmt_picker.append(option);\n",
       "    }\n",
       "\n",
       "    // Add hover states to the ui-buttons\n",
       "    $( \".ui-button\" ).hover(\n",
       "        function() { $(this).addClass(\"ui-state-hover\");},\n",
       "        function() { $(this).removeClass(\"ui-state-hover\");}\n",
       "    );\n",
       "\n",
       "    var status_bar = $('<span class=\"mpl-message\"/>');\n",
       "    nav_element.append(status_bar);\n",
       "    this.message = status_bar[0];\n",
       "}\n",
       "\n",
       "mpl.figure.prototype.request_resize = function(x_pixels, y_pixels) {\n",
       "    // Request matplotlib to resize the figure. Matplotlib will then trigger a resize in the client,\n",
       "    // which will in turn request a refresh of the image.\n",
       "    this.send_message('resize', {'width': x_pixels, 'height': y_pixels});\n",
       "}\n",
       "\n",
       "mpl.figure.prototype.send_message = function(type, properties) {\n",
       "    properties['type'] = type;\n",
       "    properties['figure_id'] = this.id;\n",
       "    this.ws.send(JSON.stringify(properties));\n",
       "}\n",
       "\n",
       "mpl.figure.prototype.send_draw_message = function() {\n",
       "    if (!this.waiting) {\n",
       "        this.waiting = true;\n",
       "        this.ws.send(JSON.stringify({type: \"draw\", figure_id: this.id}));\n",
       "    }\n",
       "}\n",
       "\n",
       "\n",
       "mpl.figure.prototype.handle_save = function(fig, msg) {\n",
       "    var format_dropdown = fig.format_dropdown;\n",
       "    var format = format_dropdown.options[format_dropdown.selectedIndex].value;\n",
       "    fig.ondownload(fig, format);\n",
       "}\n",
       "\n",
       "\n",
       "mpl.figure.prototype.handle_resize = function(fig, msg) {\n",
       "    var size = msg['size'];\n",
       "    if (size[0] != fig.canvas.width || size[1] != fig.canvas.height) {\n",
       "        fig._resize_canvas(size[0], size[1]);\n",
       "        fig.send_message(\"refresh\", {});\n",
       "    };\n",
       "}\n",
       "\n",
       "mpl.figure.prototype.handle_rubberband = function(fig, msg) {\n",
       "    var x0 = msg['x0'] / mpl.ratio;\n",
       "    var y0 = (fig.canvas.height - msg['y0']) / mpl.ratio;\n",
       "    var x1 = msg['x1'] / mpl.ratio;\n",
       "    var y1 = (fig.canvas.height - msg['y1']) / mpl.ratio;\n",
       "    x0 = Math.floor(x0) + 0.5;\n",
       "    y0 = Math.floor(y0) + 0.5;\n",
       "    x1 = Math.floor(x1) + 0.5;\n",
       "    y1 = Math.floor(y1) + 0.5;\n",
       "    var min_x = Math.min(x0, x1);\n",
       "    var min_y = Math.min(y0, y1);\n",
       "    var width = Math.abs(x1 - x0);\n",
       "    var height = Math.abs(y1 - y0);\n",
       "\n",
       "    fig.rubberband_context.clearRect(\n",
       "        0, 0, fig.canvas.width / mpl.ratio, fig.canvas.height / mpl.ratio);\n",
       "\n",
       "    fig.rubberband_context.strokeRect(min_x, min_y, width, height);\n",
       "}\n",
       "\n",
       "mpl.figure.prototype.handle_figure_label = function(fig, msg) {\n",
       "    // Updates the figure title.\n",
       "    fig.header.textContent = msg['label'];\n",
       "}\n",
       "\n",
       "mpl.figure.prototype.handle_cursor = function(fig, msg) {\n",
       "    var cursor = msg['cursor'];\n",
       "    switch(cursor)\n",
       "    {\n",
       "    case 0:\n",
       "        cursor = 'pointer';\n",
       "        break;\n",
       "    case 1:\n",
       "        cursor = 'default';\n",
       "        break;\n",
       "    case 2:\n",
       "        cursor = 'crosshair';\n",
       "        break;\n",
       "    case 3:\n",
       "        cursor = 'move';\n",
       "        break;\n",
       "    }\n",
       "    fig.rubberband_canvas.style.cursor = cursor;\n",
       "}\n",
       "\n",
       "mpl.figure.prototype.handle_message = function(fig, msg) {\n",
       "    fig.message.textContent = msg['message'];\n",
       "}\n",
       "\n",
       "mpl.figure.prototype.handle_draw = function(fig, msg) {\n",
       "    // Request the server to send over a new figure.\n",
       "    fig.send_draw_message();\n",
       "}\n",
       "\n",
       "mpl.figure.prototype.handle_image_mode = function(fig, msg) {\n",
       "    fig.image_mode = msg['mode'];\n",
       "}\n",
       "\n",
       "mpl.figure.prototype.updated_canvas_event = function() {\n",
       "    // Called whenever the canvas gets updated.\n",
       "    this.send_message(\"ack\", {});\n",
       "}\n",
       "\n",
       "// A function to construct a web socket function for onmessage handling.\n",
       "// Called in the figure constructor.\n",
       "mpl.figure.prototype._make_on_message_function = function(fig) {\n",
       "    return function socket_on_message(evt) {\n",
       "        if (evt.data instanceof Blob) {\n",
       "            /* FIXME: We get \"Resource interpreted as Image but\n",
       "             * transferred with MIME type text/plain:\" errors on\n",
       "             * Chrome.  But how to set the MIME type?  It doesn't seem\n",
       "             * to be part of the websocket stream */\n",
       "            evt.data.type = \"image/png\";\n",
       "\n",
       "            /* Free the memory for the previous frames */\n",
       "            if (fig.imageObj.src) {\n",
       "                (window.URL || window.webkitURL).revokeObjectURL(\n",
       "                    fig.imageObj.src);\n",
       "            }\n",
       "\n",
       "            fig.imageObj.src = (window.URL || window.webkitURL).createObjectURL(\n",
       "                evt.data);\n",
       "            fig.updated_canvas_event();\n",
       "            fig.waiting = false;\n",
       "            return;\n",
       "        }\n",
       "        else if (typeof evt.data === 'string' && evt.data.slice(0, 21) == \"data:image/png;base64\") {\n",
       "            fig.imageObj.src = evt.data;\n",
       "            fig.updated_canvas_event();\n",
       "            fig.waiting = false;\n",
       "            return;\n",
       "        }\n",
       "\n",
       "        var msg = JSON.parse(evt.data);\n",
       "        var msg_type = msg['type'];\n",
       "\n",
       "        // Call the  \"handle_{type}\" callback, which takes\n",
       "        // the figure and JSON message as its only arguments.\n",
       "        try {\n",
       "            var callback = fig[\"handle_\" + msg_type];\n",
       "        } catch (e) {\n",
       "            console.log(\"No handler for the '\" + msg_type + \"' message type: \", msg);\n",
       "            return;\n",
       "        }\n",
       "\n",
       "        if (callback) {\n",
       "            try {\n",
       "                // console.log(\"Handling '\" + msg_type + \"' message: \", msg);\n",
       "                callback(fig, msg);\n",
       "            } catch (e) {\n",
       "                console.log(\"Exception inside the 'handler_\" + msg_type + \"' callback:\", e, e.stack, msg);\n",
       "            }\n",
       "        }\n",
       "    };\n",
       "}\n",
       "\n",
       "// from http://stackoverflow.com/questions/1114465/getting-mouse-location-in-canvas\n",
       "mpl.findpos = function(e) {\n",
       "    //this section is from http://www.quirksmode.org/js/events_properties.html\n",
       "    var targ;\n",
       "    if (!e)\n",
       "        e = window.event;\n",
       "    if (e.target)\n",
       "        targ = e.target;\n",
       "    else if (e.srcElement)\n",
       "        targ = e.srcElement;\n",
       "    if (targ.nodeType == 3) // defeat Safari bug\n",
       "        targ = targ.parentNode;\n",
       "\n",
       "    // jQuery normalizes the pageX and pageY\n",
       "    // pageX,Y are the mouse positions relative to the document\n",
       "    // offset() returns the position of the element relative to the document\n",
       "    var x = e.pageX - $(targ).offset().left;\n",
       "    var y = e.pageY - $(targ).offset().top;\n",
       "\n",
       "    return {\"x\": x, \"y\": y};\n",
       "};\n",
       "\n",
       "/*\n",
       " * return a copy of an object with only non-object keys\n",
       " * we need this to avoid circular references\n",
       " * http://stackoverflow.com/a/24161582/3208463\n",
       " */\n",
       "function simpleKeys (original) {\n",
       "  return Object.keys(original).reduce(function (obj, key) {\n",
       "    if (typeof original[key] !== 'object')\n",
       "        obj[key] = original[key]\n",
       "    return obj;\n",
       "  }, {});\n",
       "}\n",
       "\n",
       "mpl.figure.prototype.mouse_event = function(event, name) {\n",
       "    var canvas_pos = mpl.findpos(event)\n",
       "\n",
       "    if (name === 'button_press')\n",
       "    {\n",
       "        this.canvas.focus();\n",
       "        this.canvas_div.focus();\n",
       "    }\n",
       "\n",
       "    var x = canvas_pos.x * mpl.ratio;\n",
       "    var y = canvas_pos.y * mpl.ratio;\n",
       "\n",
       "    this.send_message(name, {x: x, y: y, button: event.button,\n",
       "                             step: event.step,\n",
       "                             guiEvent: simpleKeys(event)});\n",
       "\n",
       "    /* This prevents the web browser from automatically changing to\n",
       "     * the text insertion cursor when the button is pressed.  We want\n",
       "     * to control all of the cursor setting manually through the\n",
       "     * 'cursor' event from matplotlib */\n",
       "    event.preventDefault();\n",
       "    return false;\n",
       "}\n",
       "\n",
       "mpl.figure.prototype._key_event_extra = function(event, name) {\n",
       "    // Handle any extra behaviour associated with a key event\n",
       "}\n",
       "\n",
       "mpl.figure.prototype.key_event = function(event, name) {\n",
       "\n",
       "    // Prevent repeat events\n",
       "    if (name == 'key_press')\n",
       "    {\n",
       "        if (event.which === this._key)\n",
       "            return;\n",
       "        else\n",
       "            this._key = event.which;\n",
       "    }\n",
       "    if (name == 'key_release')\n",
       "        this._key = null;\n",
       "\n",
       "    var value = '';\n",
       "    if (event.ctrlKey && event.which != 17)\n",
       "        value += \"ctrl+\";\n",
       "    if (event.altKey && event.which != 18)\n",
       "        value += \"alt+\";\n",
       "    if (event.shiftKey && event.which != 16)\n",
       "        value += \"shift+\";\n",
       "\n",
       "    value += 'k';\n",
       "    value += event.which.toString();\n",
       "\n",
       "    this._key_event_extra(event, name);\n",
       "\n",
       "    this.send_message(name, {key: value,\n",
       "                             guiEvent: simpleKeys(event)});\n",
       "    return false;\n",
       "}\n",
       "\n",
       "mpl.figure.prototype.toolbar_button_onclick = function(name) {\n",
       "    if (name == 'download') {\n",
       "        this.handle_save(this, null);\n",
       "    } else {\n",
       "        this.send_message(\"toolbar_button\", {name: name});\n",
       "    }\n",
       "};\n",
       "\n",
       "mpl.figure.prototype.toolbar_button_onmouseover = function(tooltip) {\n",
       "    this.message.textContent = tooltip;\n",
       "};\n",
       "mpl.toolbar_items = [[\"Home\", \"Reset original view\", \"fa fa-home icon-home\", \"home\"], [\"Back\", \"Back to previous view\", \"fa fa-arrow-left icon-arrow-left\", \"back\"], [\"Forward\", \"Forward to next view\", \"fa fa-arrow-right icon-arrow-right\", \"forward\"], [\"\", \"\", \"\", \"\"], [\"Pan\", \"Pan axes with left mouse, zoom with right\", \"fa fa-arrows icon-move\", \"pan\"], [\"Zoom\", \"Zoom to rectangle\", \"fa fa-square-o icon-check-empty\", \"zoom\"], [\"\", \"\", \"\", \"\"], [\"Download\", \"Download plot\", \"fa fa-floppy-o icon-save\", \"download\"]];\n",
       "\n",
       "mpl.extensions = [\"eps\", \"jpeg\", \"pdf\", \"png\", \"ps\", \"raw\", \"svg\", \"tif\"];\n",
       "\n",
       "mpl.default_extension = \"png\";var comm_websocket_adapter = function(comm) {\n",
       "    // Create a \"websocket\"-like object which calls the given IPython comm\n",
       "    // object with the appropriate methods. Currently this is a non binary\n",
       "    // socket, so there is still some room for performance tuning.\n",
       "    var ws = {};\n",
       "\n",
       "    ws.close = function() {\n",
       "        comm.close()\n",
       "    };\n",
       "    ws.send = function(m) {\n",
       "        //console.log('sending', m);\n",
       "        comm.send(m);\n",
       "    };\n",
       "    // Register the callback with on_msg.\n",
       "    comm.on_msg(function(msg) {\n",
       "        //console.log('receiving', msg['content']['data'], msg);\n",
       "        // Pass the mpl event to the overridden (by mpl) onmessage function.\n",
       "        ws.onmessage(msg['content']['data'])\n",
       "    });\n",
       "    return ws;\n",
       "}\n",
       "\n",
       "mpl.mpl_figure_comm = function(comm, msg) {\n",
       "    // This is the function which gets called when the mpl process\n",
       "    // starts-up an IPython Comm through the \"matplotlib\" channel.\n",
       "\n",
       "    var id = msg.content.data.id;\n",
       "    // Get hold of the div created by the display call when the Comm\n",
       "    // socket was opened in Python.\n",
       "    var element = $(\"#\" + id);\n",
       "    var ws_proxy = comm_websocket_adapter(comm)\n",
       "\n",
       "    function ondownload(figure, format) {\n",
       "        window.open(figure.imageObj.src);\n",
       "    }\n",
       "\n",
       "    var fig = new mpl.figure(id, ws_proxy,\n",
       "                           ondownload,\n",
       "                           element.get(0));\n",
       "\n",
       "    // Call onopen now - mpl needs it, as it is assuming we've passed it a real\n",
       "    // web socket which is closed, not our websocket->open comm proxy.\n",
       "    ws_proxy.onopen();\n",
       "\n",
       "    fig.parent_element = element.get(0);\n",
       "    fig.cell_info = mpl.find_output_cell(\"<div id='\" + id + \"'></div>\");\n",
       "    if (!fig.cell_info) {\n",
       "        console.error(\"Failed to find cell for figure\", id, fig);\n",
       "        return;\n",
       "    }\n",
       "\n",
       "    var output_index = fig.cell_info[2]\n",
       "    var cell = fig.cell_info[0];\n",
       "\n",
       "};\n",
       "\n",
       "mpl.figure.prototype.handle_close = function(fig, msg) {\n",
       "    var width = fig.canvas.width/mpl.ratio\n",
       "    fig.root.unbind('remove')\n",
       "\n",
       "    // Update the output cell to use the data from the current canvas.\n",
       "    fig.push_to_output();\n",
       "    var dataURL = fig.canvas.toDataURL();\n",
       "    // Re-enable the keyboard manager in IPython - without this line, in FF,\n",
       "    // the notebook keyboard shortcuts fail.\n",
       "    IPython.keyboard_manager.enable()\n",
       "    $(fig.parent_element).html('<img src=\"' + dataURL + '\" width=\"' + width + '\">');\n",
       "    fig.close_ws(fig, msg);\n",
       "}\n",
       "\n",
       "mpl.figure.prototype.close_ws = function(fig, msg){\n",
       "    fig.send_message('closing', msg);\n",
       "    // fig.ws.close()\n",
       "}\n",
       "\n",
       "mpl.figure.prototype.push_to_output = function(remove_interactive) {\n",
       "    // Turn the data on the canvas into data in the output cell.\n",
       "    var width = this.canvas.width/mpl.ratio\n",
       "    var dataURL = this.canvas.toDataURL();\n",
       "    this.cell_info[1]['text/html'] = '<img src=\"' + dataURL + '\" width=\"' + width + '\">';\n",
       "}\n",
       "\n",
       "mpl.figure.prototype.updated_canvas_event = function() {\n",
       "    // Tell IPython that the notebook contents must change.\n",
       "    IPython.notebook.set_dirty(true);\n",
       "    this.send_message(\"ack\", {});\n",
       "    var fig = this;\n",
       "    // Wait a second, then push the new image to the DOM so\n",
       "    // that it is saved nicely (might be nice to debounce this).\n",
       "    setTimeout(function () { fig.push_to_output() }, 1000);\n",
       "}\n",
       "\n",
       "mpl.figure.prototype._init_toolbar = function() {\n",
       "    var fig = this;\n",
       "\n",
       "    var nav_element = $('<div/>');\n",
       "    nav_element.attr('style', 'width: 100%');\n",
       "    this.root.append(nav_element);\n",
       "\n",
       "    // Define a callback function for later on.\n",
       "    function toolbar_event(event) {\n",
       "        return fig.toolbar_button_onclick(event['data']);\n",
       "    }\n",
       "    function toolbar_mouse_event(event) {\n",
       "        return fig.toolbar_button_onmouseover(event['data']);\n",
       "    }\n",
       "\n",
       "    for(var toolbar_ind in mpl.toolbar_items){\n",
       "        var name = mpl.toolbar_items[toolbar_ind][0];\n",
       "        var tooltip = mpl.toolbar_items[toolbar_ind][1];\n",
       "        var image = mpl.toolbar_items[toolbar_ind][2];\n",
       "        var method_name = mpl.toolbar_items[toolbar_ind][3];\n",
       "\n",
       "        if (!name) { continue; };\n",
       "\n",
       "        var button = $('<button class=\"btn btn-default\" href=\"#\" title=\"' + name + '\"><i class=\"fa ' + image + ' fa-lg\"></i></button>');\n",
       "        button.click(method_name, toolbar_event);\n",
       "        button.mouseover(tooltip, toolbar_mouse_event);\n",
       "        nav_element.append(button);\n",
       "    }\n",
       "\n",
       "    // Add the status bar.\n",
       "    var status_bar = $('<span class=\"mpl-message\" style=\"text-align:right; float: right;\"/>');\n",
       "    nav_element.append(status_bar);\n",
       "    this.message = status_bar[0];\n",
       "\n",
       "    // Add the close button to the window.\n",
       "    var buttongrp = $('<div class=\"btn-group inline pull-right\"></div>');\n",
       "    var button = $('<button class=\"btn btn-mini btn-primary\" href=\"#\" title=\"Stop Interaction\"><i class=\"fa fa-power-off icon-remove icon-large\"></i></button>');\n",
       "    button.click(function (evt) { fig.handle_close(fig, {}); } );\n",
       "    button.mouseover('Stop Interaction', toolbar_mouse_event);\n",
       "    buttongrp.append(button);\n",
       "    var titlebar = this.root.find($('.ui-dialog-titlebar'));\n",
       "    titlebar.prepend(buttongrp);\n",
       "}\n",
       "\n",
       "mpl.figure.prototype._root_extra_style = function(el){\n",
       "    var fig = this\n",
       "    el.on(\"remove\", function(){\n",
       "\tfig.close_ws(fig, {});\n",
       "    });\n",
       "}\n",
       "\n",
       "mpl.figure.prototype._canvas_extra_style = function(el){\n",
       "    // this is important to make the div 'focusable\n",
       "    el.attr('tabindex', 0)\n",
       "    // reach out to IPython and tell the keyboard manager to turn it's self\n",
       "    // off when our div gets focus\n",
       "\n",
       "    // location in version 3\n",
       "    if (IPython.notebook.keyboard_manager) {\n",
       "        IPython.notebook.keyboard_manager.register_events(el);\n",
       "    }\n",
       "    else {\n",
       "        // location in version 2\n",
       "        IPython.keyboard_manager.register_events(el);\n",
       "    }\n",
       "\n",
       "}\n",
       "\n",
       "mpl.figure.prototype._key_event_extra = function(event, name) {\n",
       "    var manager = IPython.notebook.keyboard_manager;\n",
       "    if (!manager)\n",
       "        manager = IPython.keyboard_manager;\n",
       "\n",
       "    // Check for shift+enter\n",
       "    if (event.shiftKey && event.which == 13) {\n",
       "        this.canvas_div.blur();\n",
       "        // select the cell after this one\n",
       "        var index = IPython.notebook.find_cell_index(this.cell_info[0]);\n",
       "        IPython.notebook.select(index + 1);\n",
       "    }\n",
       "}\n",
       "\n",
       "mpl.figure.prototype.handle_save = function(fig, msg) {\n",
       "    fig.ondownload(fig, null);\n",
       "}\n",
       "\n",
       "\n",
       "mpl.find_output_cell = function(html_output) {\n",
       "    // Return the cell and output element which can be found *uniquely* in the notebook.\n",
       "    // Note - this is a bit hacky, but it is done because the \"notebook_saving.Notebook\"\n",
       "    // IPython event is triggered only after the cells have been serialised, which for\n",
       "    // our purposes (turning an active figure into a static one), is too late.\n",
       "    var cells = IPython.notebook.get_cells();\n",
       "    var ncells = cells.length;\n",
       "    for (var i=0; i<ncells; i++) {\n",
       "        var cell = cells[i];\n",
       "        if (cell.cell_type === 'code'){\n",
       "            for (var j=0; j<cell.output_area.outputs.length; j++) {\n",
       "                var data = cell.output_area.outputs[j];\n",
       "                if (data.data) {\n",
       "                    // IPython >= 3 moved mimebundle to data attribute of output\n",
       "                    data = data.data;\n",
       "                }\n",
       "                if (data['text/html'] == html_output) {\n",
       "                    return [cell, data, j];\n",
       "                }\n",
       "            }\n",
       "        }\n",
       "    }\n",
       "}\n",
       "\n",
       "// Register the function which deals with the matplotlib target/channel.\n",
       "// The kernel may be null if the page has been refreshed.\n",
       "if (IPython.notebook.kernel != null) {\n",
       "    IPython.notebook.kernel.comm_manager.register_target('matplotlib', mpl.mpl_figure_comm);\n",
       "}\n"
      ],
      "text/plain": [
       "<IPython.core.display.Javascript object>"
      ]
     },
     "metadata": {},
     "output_type": "display_data"
    },
    {
     "data": {
      "text/html": [
       "<img src=\"data:image/png;base64,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\" width=\"1000\">"
      ],
      "text/plain": [
       "<IPython.core.display.HTML object>"
      ]
     },
     "metadata": {},
     "output_type": "display_data"
    }
   ],
   "source": [
    "# ----------------\n",
    "# Visualize result\n",
    "# ----------------\n",
    "# Plot\n",
    "fig,(ax1, ax2, ax3) = plt.subplots(3,sharex=True,figsize=(10,15))\n",
    "legend_pos = (0.5, 1.35)\n",
    "legend_col = 2\n",
    "\n",
    "label1 = 'current behaviour - +50% - no vaccination'\n",
    "label2 = 'current behaviour - +50%'\n",
    "label3 = 'september behaviour - +30 - no vaccination%'\n",
    "label4 = 'september behaviour - +50%'\n",
    "\n",
    "# Incidence\n",
    "plot_band_binom(ax1, S4a_time, S4a_H_in_binom, 'green', label=label1)\n",
    "plot_band_binom(ax1, S1b_time, S1b_H_in_binom, 'blue', label=label2)\n",
    "plot_band_binom(ax1, S3a_time, S3a_H_in_binom, 'orange', label=label3)\n",
    "plot_band_binom(ax1, S2b_time, S2b_H_in_binom, 'red', label=label4)\n",
    "\n",
    "ax1.scatter(df_sciensano[start_sim:end_sim].index,df_sciensano['H_in'][start_sim:end_sim],color='black',alpha=0.4,linestyle='None',facecolors='none')\n",
    "ax1.legend(loc='upper center', bbox_to_anchor=legend_pos, ncol=legend_col)\n",
    "\n",
    "# Load\n",
    "plot_band_binom(ax2, S4a_time, S4a_H_tot_binom, 'green', label=label1)\n",
    "plot_band_binom(ax2, S1b_time, S1b_H_tot_binom, 'blue', label=label2)\n",
    "plot_band_binom(ax2, S3a_time, S3a_H_tot_binom, 'orange', label=label3)\n",
    "plot_band_binom(ax2, S2b_time, S2b_H_tot_binom, 'red', label=label4)\n",
    "\n",
    "ax2.scatter(df_sciensano[start_sim:end_sim].index,df_sciensano['H_tot'][start_sim:end_sim],color='black',alpha=0.4,linestyle='None',facecolors='none')\n",
    "\n",
    "# British variant\n",
    "plot_band_binom(ax3, S4a_time, S4a_alpha*100, 'green', label=label1, axis=0)\n",
    "plot_band_binom(ax3, S1b_time, S1b_alpha*100, 'blue', label=label2, axis=0)\n",
    "plot_band_binom(ax3, S3a_time, S3a_alpha*100, 'orange', label=label3, axis=0)\n",
    "plot_band_binom(ax3, S2b_time, S2b_alpha*100, 'red', label=label4, axis=0)\n",
    "\n",
    "# Format\n",
    "ax1.set_title('New hospitalizations')\n",
    "ax1.set_ylabel('$H_{in} $(-)')\n",
    "ax1.set_xlim('2020-09-01',end_sim)\n",
    "ax1.axvline(x=pd.to_datetime('2021-01-15'),color='black')\n",
    "ax1.text(pd.Timestamp('2021-01-16'),750, ' introduction \\n new strain', fontsize=10)\n",
    "ax1 = _apply_tick_locator(ax1)\n",
    "ax2.set_title('Total patients in hospital')\n",
    "ax2.set_ylabel('$H_{tot}$ (-)')\n",
    "ax2.set_xlim('2020-09-01',end_sim)\n",
    "ax2.axvline(x=pd.to_datetime('2021-01-15'),color='red')\n",
    "ax2 = _apply_tick_locator(ax2)\n",
    "ax3.set_title('Prevalence of new strain')\n",
    "ax3.set_ylabel('$\\\\alpha$ (%)')\n",
    "ax3.axvline(x=pd.to_datetime('2021-01-15'),color='black')\n",
    "ax3.set_xlim('2020-09-01',end_sim)\n",
    "ax3.set_ylim(0,100)\n",
    "ax3 = _apply_tick_locator(ax3)\n",
    "# date_exceed = get_date_of_exceeding_alpha(out_S4a, ['Nc', 'draws'], 0.25)\n",
    "# ax3.axvline(x=date_exceed, color='gray')\n",
    "# ax3.text(date_exceed+pd.Timedelta('1D'),10, ' exceeding \\n 25% on {}/{}'.format(date_exceed.day, date_exceed.month), \n",
    "#          fontsize=10, color='gray')\n",
    "\n",
    "\n",
    "fig.suptitle('Scenarios current contact behaviour')\n",
    "\n",
    "fig_path =  '../../results/predictions/national/restore_v7.0/'\n",
    "fig.savefig(fig_path+'Scenarios_vaccination'+'.jpg', dpi=400, bbox_inches='tight')"
   ]
  },
  {
   "cell_type": "markdown",
   "metadata": {
    "heading_collapsed": true
   },
   "source": [
    "# Alternative scenarios A1"
   ]
  },
  {
   "cell_type": "code",
   "execution_count": null,
   "metadata": {
    "ExecuteTime": {
     "end_time": "2021-01-27T09:32:33.725372Z",
     "start_time": "2021-01-27T09:32:33.685124Z"
    },
    "hidden": true
   },
   "outputs": [],
   "source": [
    "start_sim1 = '2020-09-01'\n",
    "end_sim1 = '2021-01-15' # Initiate new strain on 15 Jan\n",
    "end_sim2 = '2021-05-01'\n",
    "warmup = 0\n",
    "n_samples = 5\n",
    "n_draws_per_sample = 50\n",
    "effectivity = 0.9\n",
    "portion_new_strain_introduced = 0.001\n",
    "scenario = '1'"
   ]
  },
  {
   "cell_type": "markdown",
   "metadata": {
    "heading_collapsed": true,
    "hidden": true
   },
   "source": [
    "## A1a - vacc - old strain"
   ]
  },
  {
   "cell_type": "code",
   "execution_count": null,
   "metadata": {
    "ExecuteTime": {
     "end_time": "2021-01-25T12:04:35.340868Z",
     "start_time": "2021-01-25T12:04:25.177737Z"
    },
    "hidden": true
   },
   "outputs": [],
   "source": [
    "model_A1a = vaccin_model(initial_states_sept, scenario=scenario,Nc_fun=report7_policy_function, N_vacc_fun=None)\n",
    "out_A1a = model_A1a.sim(end_sim2,start_date=start_sim1,warmup=warmup,N=n_samples,draw_fcn=draw_fcn,samples=samples_dict,verbose=True)"
   ]
  },
  {
   "cell_type": "code",
   "execution_count": null,
   "metadata": {
    "ExecuteTime": {
     "end_time": "2021-01-25T12:04:35.482019Z",
     "start_time": "2021-01-25T12:04:35.345674Z"
    },
    "hidden": true
   },
   "outputs": [],
   "source": [
    "A1a_H_in_binom = sample_from_binomial(out_A1a, 'H_in', n_draws_per_sample, n_samples, LL, UL)\n",
    "A1a_time = out_A1a[\"time\"].values\n",
    "A1a_alpha = out_A1a['alpha'].mean(dim=\"Nc\").values"
   ]
  },
  {
   "cell_type": "markdown",
   "metadata": {
    "heading_collapsed": true,
    "hidden": true
   },
   "source": [
    "## A1b - no vacc - new strain"
   ]
  },
  {
   "cell_type": "code",
   "execution_count": null,
   "metadata": {
    "ExecuteTime": {
     "end_time": "2021-01-25T12:04:50.728468Z",
     "start_time": "2021-01-25T12:04:35.490290Z"
    },
    "hidden": true
   },
   "outputs": [],
   "source": [
    "model_A1b = vaccin_model(initial_states_sept, scenario=scenario,Nc_fun=report7_policy_function, N_vacc_fun=None)\n",
    "out_A1b = model_A1b.sim(end_sim1,start_date=start_sim1,warmup=warmup,N=n_samples,draw_fcn=draw_fcn,samples=samples_dict,verbose=True)\n",
    "\n",
    "# Average and pass on state variables\n",
    "initial_states_2 = out_A1b.sel(time=end_sim1).mean(dim=\"draws\")\n",
    "# One promille of British variant on January 15th 2021\n",
    "initial_states_2['alpha'].values = portion_new_strain_introduced*np.ones(9)\n",
    "# Re-Initialize\n",
    "model_A1b_part2 = vaccin_model(initial_states_2, scenario=scenario,Nc_fun=report7_policy_function, N_vacc_fun=None)\n",
    "out_A1b_part2 = model_A1b_part2.sim(end_sim2,start_date=end_sim1,warmup=warmup,N=n_samples,draw_fcn=draw_fcn,samples=samples_dict,verbose=True)"
   ]
  },
  {
   "cell_type": "code",
   "execution_count": null,
   "metadata": {
    "ExecuteTime": {
     "end_time": "2021-01-25T12:04:50.835779Z",
     "start_time": "2021-01-25T12:04:50.733020Z"
    },
    "hidden": true
   },
   "outputs": [],
   "source": [
    "A1b_H_in_binom = sample_from_binomial(out_A1b, 'H_in', n_draws_per_sample, n_samples, LL, UL)\n",
    "A1b_H_in_binom = sample_from_binomial(out_A1b_part2, 'H_in', n_draws_per_sample, n_samples, LL, UL, A1b_H_in_binom)"
   ]
  },
  {
   "cell_type": "code",
   "execution_count": null,
   "metadata": {
    "ExecuteTime": {
     "end_time": "2021-01-25T12:01:05.771064Z",
     "start_time": "2021-01-25T12:01:05.672339Z"
    },
    "hidden": true
   },
   "outputs": [],
   "source": [
    "# A1b_H_tot_binom = sample_from_binomial(out_A1b, 'H_tot', n_draws_per_sample, n_samples, LL, UL)\n",
    "# A1b_H_tot_binom = sample_from_binomial(out_A1b_part2, 'H_tot', n_draws_per_sample, n_samples, LL, UL, A1b_H_tot_binom)"
   ]
  },
  {
   "cell_type": "code",
   "execution_count": null,
   "metadata": {
    "ExecuteTime": {
     "end_time": "2021-01-25T12:04:50.960164Z",
     "start_time": "2021-01-25T12:04:50.840293Z"
    },
    "hidden": true
   },
   "outputs": [],
   "source": [
    "A1b_time = out_A1b[\"time\"].values\n",
    "A1b_alpha = out_A1b['alpha'].mean(dim=\"Nc\").values\n",
    "A1b_time = np.append(A1b_time, out_A1b_part2['time'].values)\n",
    "A1b_alpha = np.append(A1b_alpha,out_A1b_part2['alpha'].mean(dim=\"Nc\").values,axis=1)"
   ]
  },
  {
   "cell_type": "markdown",
   "metadata": {
    "heading_collapsed": true,
    "hidden": true
   },
   "source": [
    "## A1c - vaccination - old strain"
   ]
  },
  {
   "cell_type": "code",
   "execution_count": null,
   "metadata": {
    "ExecuteTime": {
     "end_time": "2021-01-25T12:05:01.855812Z",
     "start_time": "2021-01-25T12:04:50.967256Z"
    },
    "hidden": true
   },
   "outputs": [],
   "source": [
    "model_A1c = vaccin_model(initial_states_sept, scenario=scenario, effectivity=effectivity, Nc_fun=report7_policy_function, N_vacc_fun=vacc_strategy)\n",
    "out_A1c = model_A1c.sim(end_sim2,start_date=start_sim1,warmup=warmup,N=n_samples,draw_fcn=draw_fcn,samples=samples_dict,verbose=True)"
   ]
  },
  {
   "cell_type": "code",
   "execution_count": null,
   "metadata": {
    "ExecuteTime": {
     "end_time": "2021-01-25T12:05:01.993746Z",
     "start_time": "2021-01-25T12:05:01.860836Z"
    },
    "hidden": true
   },
   "outputs": [],
   "source": [
    "A1c_H_in_binom = sample_from_binomial(out_A1c, 'H_in', n_draws_per_sample, n_samples, LL, UL)\n",
    "A1c_time = out_A1c[\"time\"].values\n",
    "A1c_alpha = out_A1c['alpha'].mean(dim=\"Nc\").values"
   ]
  },
  {
   "cell_type": "markdown",
   "metadata": {
    "hidden": true
   },
   "source": [
    "## A1d - vaccination - new strain"
   ]
  },
  {
   "cell_type": "code",
   "execution_count": null,
   "metadata": {
    "ExecuteTime": {
     "end_time": "2021-01-27T09:32:51.030056Z",
     "start_time": "2021-01-27T09:32:43.494305Z"
    },
    "hidden": true
   },
   "outputs": [],
   "source": [
    "model_A1d = vaccin_model(initial_states_sept, scenario=scenario, effectivity=effectivity, Nc_fun=report7_policy_function, N_vacc_fun=vacc_strategy)\n",
    "out_A1d = model_A1d.sim(end_sim1,start_date=start_sim1,warmup=warmup,N=n_samples,draw_fcn=draw_fcn,samples=samples_dict,verbose=True)\n",
    "\n",
    "# Average and pass on state variables\n",
    "initial_states_2 = out_A1d.sel(time=end_sim1).mean(dim=\"draws\")\n",
    "# One promille of British variant on January 15th 2021\n",
    "initial_states_2['alpha'].values = portion_new_strain_introduced*np.ones(9)\n",
    "# Re-Initialize\n",
    "model_A1d_part2 = vaccin_model(initial_states_2, scenario=scenario, effectivity=effectivity, Nc_fun=report7_policy_function, N_vacc_fun=vacc_strategy)\n",
    "out_A1d_part2 = model_A1d_part2.sim(end_sim2,start_date=end_sim1,warmup=warmup,N=n_samples,draw_fcn=draw_fcn,samples=samples_dict,verbose=True)"
   ]
  },
  {
   "cell_type": "code",
   "execution_count": null,
   "metadata": {
    "ExecuteTime": {
     "end_time": "2021-01-27T08:49:43.164360Z",
     "start_time": "2021-01-27T08:49:43.112541Z"
    },
    "hidden": true
   },
   "outputs": [],
   "source": [
    "model_A1d_part2.parameters['beta']"
   ]
  },
  {
   "cell_type": "code",
   "execution_count": null,
   "metadata": {
    "ExecuteTime": {
     "end_time": "2021-01-27T09:32:55.404626Z",
     "start_time": "2021-01-27T09:32:55.355098Z"
    },
    "hidden": true
   },
   "outputs": [],
   "source": [
    "A1d_H_in_binom = sample_from_binomial(out_A1d, 'H_in', n_draws_per_sample, n_samples)\n",
    "A1d_H_in_binom = sample_from_binomial(out_A1d_part2, 'H_in', n_draws_per_sample, n_samples, A1d_H_in_binom)"
   ]
  },
  {
   "cell_type": "code",
   "execution_count": null,
   "metadata": {
    "ExecuteTime": {
     "end_time": "2021-01-25T12:02:49.523011Z",
     "start_time": "2021-01-25T12:02:49.403700Z"
    },
    "hidden": true
   },
   "outputs": [],
   "source": [
    "# A1d_H_tot_binom = sample_from_binomial(out_A1d, 'H_tot', n_draws_per_sample, n_samples)\n",
    "# A1d_H_tot_binom = sample_from_binomial(out_A1d_part2, 'H_tot', n_draws_per_sample, n_samples, A1d_H_tot_binom)"
   ]
  },
  {
   "cell_type": "code",
   "execution_count": null,
   "metadata": {
    "ExecuteTime": {
     "end_time": "2021-01-25T12:05:17.785145Z",
     "start_time": "2021-01-25T12:05:17.546313Z"
    },
    "hidden": true
   },
   "outputs": [],
   "source": [
    "A1d_time = out_A1d[\"time\"].values\n",
    "A1d_alpha = out_A1d['alpha'].mean(dim=\"Nc\").values\n",
    "A1d_time = np.append(A1d_time, out_A1d_part2['time'].values)\n",
    "A1d_alpha = np.append(A1d_alpha,out_A1d_part2['alpha'].mean(dim=\"Nc\").values,axis=1)"
   ]
  },
  {
   "cell_type": "markdown",
   "metadata": {
    "hidden": true
   },
   "source": [
    "## Visualise"
   ]
  },
  {
   "cell_type": "code",
   "execution_count": null,
   "metadata": {
    "ExecuteTime": {
     "end_time": "2021-01-25T12:08:36.932017Z",
     "start_time": "2021-01-25T12:08:33.890888Z"
    },
    "hidden": true,
    "scrolled": false
   },
   "outputs": [],
   "source": [
    "# ----------------\n",
    "# Visualize result\n",
    "# ----------------\n",
    "# Plot\n",
    "fig,(ax1, ax3) = plt.subplots(2,sharex=True,figsize=(10,10))\n",
    "legend_pos = (0.5, 1.25)\n",
    "legend_col = 2\n",
    "\n",
    "# Incidence\n",
    "plot_band_binom(ax1, A1a_time, A1a_H_in_binom, 'green', label='no new strain')\n",
    "plot_band_binom(ax1, A1b_time, A1b_H_in_binom, 'blue', label='new strain on 15/1')\n",
    "plot_band_binom(ax1, A1c_time, A1c_H_in_binom, 'orange', label='no new strain - vacc')\n",
    "plot_band_binom(ax1, A1d_time, A1d_H_in_binom, 'red', label='new strain on 15/1 - vacc')\n",
    "\n",
    "ax1.scatter(df_sciensano[start_sim1:end_sim1].index,df_sciensano['H_in'][start_sim1:end_sim1],color='black',alpha=0.4,linestyle='None',facecolors='none')\n",
    "ax1.legend(loc='upper center', bbox_to_anchor=legend_pos, ncol=legend_col)\n",
    "\n",
    "# Load\n",
    "# plot_band_binom(ax2, A1b_time, A1b_H_tot_binom, 'blue', label='H_in')\n",
    "# ax2.scatter(df_sciensano[start_sim1:end_sim1].index,df_sciensano['H_tot'][start_sim1:end_sim1],color='black',alpha=0.4,linestyle='None',facecolors='none')\n",
    "\n",
    "# British variant\n",
    "# ax3.plot(A1a_time,np.mean(A1a_alpha,axis=0)*100,'--', color='green', label='no new strain')\n",
    "# ax3.plot(A1b_time,np.mean(A1b_alpha,axis=0)*100,'--', color='blue', label='new strain on 15/1')\n",
    "# ax3.fill_between(A1b_time,np.quantile(A1b_alpha,UL,axis=0)*100, np.quantile(A1b_alpha,LL,axis=0)*100,alpha=0.20, color = 'blue')\n",
    "plot_band_binom(ax3, A1a_time, A1a_alpha*100, 'green', label='no new strain', axis=0)\n",
    "plot_band_binom(ax3, A1b_time, A1b_alpha*100, 'blue', label='new strain on 15/1', axis=0)\n",
    "plot_band_binom(ax3, A1c_time, A1c_alpha*100, 'orange', label='no new strain - vacc', axis=0)\n",
    "plot_band_binom(ax3, A1d_time, A1d_alpha*100, 'red', label='new strain on 15/1 - vacc', axis=0)\n",
    "\n",
    "# Format\n",
    "ax1.set_title('New hospitalizations')\n",
    "ax1.set_ylabel('$H_{in} $(-)')\n",
    "ax1.set_xlim('2020-09-01',end_sim2)\n",
    "ax1.axvline(x=pd.to_datetime('2021-01-15'),color='black')\n",
    "ax1.text(pd.Timestamp('2021-01-16'),750, ' introduction \\n new strain', fontsize=10)\n",
    "ax1 = _apply_tick_locator(ax1)\n",
    "# ax2.set_title('Total patients in hospital')\n",
    "# ax2.set_ylabel('$H_{tot}$ (-)')\n",
    "# ax2.set_xlim('2020-09-01',end_sim2)\n",
    "# ax2.axvline(x=pd.to_datetime('2021-01-15'),color='red')\n",
    "# ax2 = _apply_tick_locator(ax2)\n",
    "ax3.set_title('Prevalence of new strain')\n",
    "ax3.set_ylabel('$\\\\alpha$ (%)')\n",
    "ax3.axvline(x=pd.to_datetime('2021-01-15'),color='black')\n",
    "ax3.set_xlim('2020-09-01',end_sim2)\n",
    "ax3.set_ylim(0,100)\n",
    "ax3 = _apply_tick_locator(ax3)\n",
    "date_exceed = get_date_of_exceeding_alpha(out_A1b_part2, ['Nc', 'draws'], 0.25)\n",
    "ax3.axvline(x=date_exceed, color='gray')\n",
    "ax3.text(date_exceed+pd.Timedelta('1D'),10, ' exceeding \\n 25% on {}/{}'.format(date_exceed.day, date_exceed.month), \n",
    "         fontsize=10, color='gray')\n",
    "\n",
    "\n",
    "fig.suptitle('Scenarios current contact behaviour')\n",
    "\n",
    "fig_path =  '../../results/predictions/national/restore_v7.0/'\n",
    "#fig.savefig(fig_path+'restore_v7.0_'+'British_variant'+'.pdf', dpi=400, bbox_inches='tight')\n",
    "fig.savefig(fig_path+'A1'+'.jpg', dpi=400, bbox_inches='tight')"
   ]
  },
  {
   "cell_type": "code",
   "execution_count": null,
   "metadata": {
    "ExecuteTime": {
     "end_time": "2021-01-25T10:38:47.401074Z",
     "start_time": "2021-01-25T10:38:47.355453Z"
    },
    "hidden": true,
    "scrolled": false
   },
   "outputs": [],
   "source": [
    "date_exceed = get_date_of_exceeding_alpha(out_A1b_part2, ['Nc', 'draws'], 0.25)"
   ]
  },
  {
   "cell_type": "code",
   "execution_count": null,
   "metadata": {
    "ExecuteTime": {
     "end_time": "2021-01-25T10:35:58.631558Z",
     "start_time": "2021-01-25T10:35:58.585829Z"
    },
    "hidden": true
   },
   "outputs": [],
   "source": [
    "check_overtake_duration(out_A1b_part2, ['Nc', 'draws'])"
   ]
  },
  {
   "cell_type": "markdown",
   "metadata": {
    "heading_collapsed": true
   },
   "source": [
    "# Alternative scenarios A2"
   ]
  },
  {
   "cell_type": "code",
   "execution_count": null,
   "metadata": {
    "ExecuteTime": {
     "end_time": "2021-01-25T12:13:52.125261Z",
     "start_time": "2021-01-25T12:13:52.012131Z"
    },
    "hidden": true
   },
   "outputs": [],
   "source": [
    "start_sim1 = '2020-09-01'\n",
    "end_sim1 = '2021-01-15' # Initiate new strain on 15 Jan\n",
    "end_sim2 = '2021-07-01'\n",
    "warmup = 0\n",
    "n_samples = 5\n",
    "n_draws_per_sample = 50\n",
    "effectivity = 0.9\n",
    "portion_new_strain_introduced = 0.001\n",
    "scenario = '2a'"
   ]
  },
  {
   "cell_type": "markdown",
   "metadata": {
    "heading_collapsed": true,
    "hidden": true
   },
   "source": [
    "## A2a - no vacc - old strain"
   ]
  },
  {
   "cell_type": "code",
   "execution_count": null,
   "metadata": {
    "ExecuteTime": {
     "end_time": "2021-01-25T12:14:06.961439Z",
     "start_time": "2021-01-25T12:13:53.844958Z"
    },
    "hidden": true
   },
   "outputs": [],
   "source": [
    "model_A2a = vaccin_model(initial_states_sept, scenario=scenario,Nc_fun=report7_policy_function, N_vacc_fun=None)\n",
    "out_A2a = model_A2a.sim(end_sim2,start_date=start_sim1,warmup=warmup,N=n_samples,draw_fcn=draw_fcn,samples=samples_dict,verbose=True)"
   ]
  },
  {
   "cell_type": "code",
   "execution_count": null,
   "metadata": {
    "ExecuteTime": {
     "end_time": "2021-01-25T12:14:07.118005Z",
     "start_time": "2021-01-25T12:14:06.965858Z"
    },
    "hidden": true
   },
   "outputs": [],
   "source": [
    "A2a_H_in_binom = sample_from_binomial(out_A2a, 'H_in', n_draws_per_sample, n_samples, LL, UL)\n",
    "A2a_time = out_A2a[\"time\"].values\n",
    "A2a_alpha = out_A2a['alpha'].mean(dim=\"Nc\").values"
   ]
  },
  {
   "cell_type": "markdown",
   "metadata": {
    "heading_collapsed": true,
    "hidden": true
   },
   "source": [
    "## A2b - no vacc - new strain"
   ]
  },
  {
   "cell_type": "code",
   "execution_count": null,
   "metadata": {
    "ExecuteTime": {
     "end_time": "2021-01-25T12:14:26.001631Z",
     "start_time": "2021-01-25T12:14:07.135775Z"
    },
    "hidden": true
   },
   "outputs": [],
   "source": [
    "model_A2b = vaccin_model(initial_states_sept, scenario=scenario,Nc_fun=report7_policy_function, N_vacc_fun=None)\n",
    "out_A2b = model_A2b.sim(end_sim1,start_date=start_sim1,warmup=warmup,N=n_samples,draw_fcn=draw_fcn,samples=samples_dict,verbose=True)\n",
    "\n",
    "# Average and pass on state variables\n",
    "initial_states_2 = out_A2b.sel(time=end_sim1).mean(dim=\"draws\")\n",
    "# One promille of British variant on January 15th 2021\n",
    "initial_states_2['alpha'].values = portion_new_strain_introduced*np.ones(9)\n",
    "# Re-Initialize\n",
    "model_A2b_part2 = vaccin_model(initial_states_2, scenario=scenario,Nc_fun=report7_policy_function, N_vacc_fun=None)\n",
    "out_A2b_part2 = model_A2b_part2.sim(end_sim2,start_date=end_sim1,warmup=warmup,N=n_samples,draw_fcn=draw_fcn,samples=samples_dict,verbose=True)"
   ]
  },
  {
   "cell_type": "code",
   "execution_count": null,
   "metadata": {
    "ExecuteTime": {
     "end_time": "2021-01-25T12:14:26.129311Z",
     "start_time": "2021-01-25T12:14:26.005934Z"
    },
    "hidden": true
   },
   "outputs": [],
   "source": [
    "A2b_H_in_binom = sample_from_binomial(out_A2b, 'H_in', n_draws_per_sample, n_samples, LL, UL)\n",
    "A2b_H_in_binom = sample_from_binomial(out_A2b_part2, 'H_in', n_draws_per_sample, n_samples, LL, UL, A2b_H_in_binom)"
   ]
  },
  {
   "cell_type": "code",
   "execution_count": null,
   "metadata": {
    "ExecuteTime": {
     "end_time": "2021-01-25T12:14:26.274264Z",
     "start_time": "2021-01-25T12:14:26.134697Z"
    },
    "hidden": true
   },
   "outputs": [],
   "source": [
    "# A2b_H_tot_binom = sample_from_binomial(out_A2b, 'H_tot', n_draws_per_sample, n_samples, LL, UL)\n",
    "# A2b_H_tot_binom = sample_from_binomial(out_A2b_part2, 'H_tot', n_draws_per_sample, n_samples, LL, UL, A2b_H_tot_binom)"
   ]
  },
  {
   "cell_type": "code",
   "execution_count": null,
   "metadata": {
    "ExecuteTime": {
     "end_time": "2021-01-25T12:14:26.385523Z",
     "start_time": "2021-01-25T12:14:26.286805Z"
    },
    "hidden": true
   },
   "outputs": [],
   "source": [
    "A2b_time = out_A2b[\"time\"].values\n",
    "A2b_alpha = out_A2b['alpha'].mean(dim=\"Nc\").values\n",
    "A2b_time = np.append(A2b_time, out_A2b_part2['time'].values)\n",
    "A2b_alpha = np.append(A2b_alpha,out_A2b_part2['alpha'].mean(dim=\"Nc\").values,axis=1)"
   ]
  },
  {
   "cell_type": "markdown",
   "metadata": {
    "heading_collapsed": true,
    "hidden": true
   },
   "source": [
    "## A2c - vaccination - old strain"
   ]
  },
  {
   "cell_type": "code",
   "execution_count": null,
   "metadata": {
    "ExecuteTime": {
     "end_time": "2021-01-25T12:14:44.705845Z",
     "start_time": "2021-01-25T12:14:26.394481Z"
    },
    "hidden": true
   },
   "outputs": [],
   "source": [
    "model_A2c = vaccin_model(initial_states_sept, scenario=scenario, effectivity=effectivity, Nc_fun=report7_policy_function, N_vacc_fun=vacc_strategy)\n",
    "out_A2c = model_A2c.sim(end_sim2,start_date=start_sim1,warmup=warmup,N=n_samples,draw_fcn=draw_fcn,samples=samples_dict,verbose=True)"
   ]
  },
  {
   "cell_type": "code",
   "execution_count": null,
   "metadata": {
    "ExecuteTime": {
     "end_time": "2021-01-25T12:14:44.953711Z",
     "start_time": "2021-01-25T12:14:44.716075Z"
    },
    "hidden": true
   },
   "outputs": [],
   "source": [
    "A2c_H_in_binom = sample_from_binomial(out_A2c, 'H_in', n_draws_per_sample, n_samples, LL, UL)\n",
    "A2c_time = out_A2c[\"time\"].values\n",
    "A2c_alpha = out_A2c['alpha'].mean(dim=\"Nc\").values"
   ]
  },
  {
   "cell_type": "markdown",
   "metadata": {
    "heading_collapsed": true,
    "hidden": true
   },
   "source": [
    "## A2d - vaccination - new strain"
   ]
  },
  {
   "cell_type": "code",
   "execution_count": null,
   "metadata": {
    "ExecuteTime": {
     "end_time": "2021-01-25T12:15:07.170053Z",
     "start_time": "2021-01-25T12:14:44.967453Z"
    },
    "hidden": true
   },
   "outputs": [],
   "source": [
    "model_A2d = vaccin_model(initial_states_sept, scenario=scenario, effectivity=effectivity, Nc_fun=report7_policy_function, N_vacc_fun=vacc_strategy)\n",
    "out_A2d = model_A2d.sim(end_sim1,start_date=start_sim1,warmup=warmup,N=n_samples,draw_fcn=draw_fcn,samples=samples_dict,verbose=True)\n",
    "\n",
    "# Average and pass on state variables\n",
    "initial_states_2 = out_A2d.sel(time=end_sim1).mean(dim=\"draws\")\n",
    "# One promille of British variant on January 15th 2021\n",
    "initial_states_2['alpha'].values = portion_new_strain_introduced*np.ones(9)\n",
    "# Re-Initialize\n",
    "model_A2d_part2 = vaccin_model(initial_states_2, scenario=scenario, effectivity=effectivity, Nc_fun=report7_policy_function, N_vacc_fun=vacc_strategy)\n",
    "out_A2d_part2 = model_A2d_part2.sim(end_sim2,start_date=end_sim1,warmup=warmup,N=n_samples,draw_fcn=draw_fcn,samples=samples_dict,verbose=True)"
   ]
  },
  {
   "cell_type": "code",
   "execution_count": null,
   "metadata": {
    "ExecuteTime": {
     "end_time": "2021-01-25T12:15:07.285448Z",
     "start_time": "2021-01-25T12:15:07.173834Z"
    },
    "hidden": true
   },
   "outputs": [],
   "source": [
    "A2d_H_in_binom = sample_from_binomial(out_A2d, 'H_in', n_draws_per_sample, n_samples, LL, UL)\n",
    "A2d_H_in_binom = sample_from_binomial(out_A2d_part2, 'H_in', n_draws_per_sample, n_samples, LL, UL, A2d_H_in_binom)"
   ]
  },
  {
   "cell_type": "code",
   "execution_count": null,
   "metadata": {
    "ExecuteTime": {
     "end_time": "2021-01-25T12:15:07.403353Z",
     "start_time": "2021-01-25T12:15:07.289869Z"
    },
    "hidden": true
   },
   "outputs": [],
   "source": [
    "# A2d_H_tot_binom = sample_from_binomial(out_A2d, 'H_tot', n_draws_per_sample, n_samples, LL, UL)\n",
    "# A2d_H_tot_binom = sample_from_binomial(out_A2d_part2, 'H_tot', n_draws_per_sample, n_samples, LL, UL, A2d_H_tot_binom)"
   ]
  },
  {
   "cell_type": "code",
   "execution_count": null,
   "metadata": {
    "ExecuteTime": {
     "end_time": "2021-01-25T12:15:07.501189Z",
     "start_time": "2021-01-25T12:15:07.407898Z"
    },
    "hidden": true
   },
   "outputs": [],
   "source": [
    "A2d_time = out_A2d[\"time\"].values\n",
    "A2d_alpha = out_A2d['alpha'].mean(dim=\"Nc\").values\n",
    "A2d_time = np.append(A2d_time, out_A2d_part2['time'].values)\n",
    "A2d_alpha = np.append(A2d_alpha,out_A2d_part2['alpha'].mean(dim=\"Nc\").values,axis=1)"
   ]
  },
  {
   "cell_type": "markdown",
   "metadata": {
    "heading_collapsed": true,
    "hidden": true
   },
   "source": [
    "## Visualise"
   ]
  },
  {
   "cell_type": "code",
   "execution_count": null,
   "metadata": {
    "ExecuteTime": {
     "end_time": "2021-01-25T12:15:09.921321Z",
     "start_time": "2021-01-25T12:15:07.510719Z"
    },
    "hidden": true,
    "scrolled": false
   },
   "outputs": [],
   "source": [
    "# ----------------\n",
    "# Visualize result\n",
    "# ----------------\n",
    "# Plot\n",
    "fig,(ax1, ax3) = plt.subplots(2,sharex=True,figsize=(10,10))\n",
    "legend_pos = (0.5, 1.25)\n",
    "legend_col = 2\n",
    "\n",
    "# Incidence\n",
    "plot_band_binom(ax1, A2a_time, A2a_H_in_binom, 'green', label='no new strain')\n",
    "plot_band_binom(ax1, A2b_time, A2b_H_in_binom, 'blue', label='new strain on 15/1')\n",
    "plot_band_binom(ax1, A2c_time, A2c_H_in_binom, 'orange', label='no new strain - vacc')\n",
    "plot_band_binom(ax1, A2d_time, A2d_H_in_binom, 'red', label='new strain on 15/1 - vacc')\n",
    "\n",
    "ax1.scatter(df_sciensano[start_sim1:end_sim1].index,df_sciensano['H_in'][start_sim1:end_sim1],color='black',alpha=0.4,linestyle='None',facecolors='none')\n",
    "ax1.legend(loc='upper center', bbox_to_anchor=legend_pos, ncol=legend_col)\n",
    "\n",
    "# Load\n",
    "# plot_band_binom(ax2, A2b_time, A2b_H_tot_binom, 'blue', label='H_in')\n",
    "# ax2.scatter(df_sciensano[start_sim1:end_sim1].index,df_sciensano['H_tot'][start_sim1:end_sim1],color='black',alpha=0.4,linestyle='None',facecolors='none')\n",
    "\n",
    "# British variant\n",
    "# ax3.plot(A2a_time,np.mean(A2a_alpha,axis=0)*100,'--', color='green', label='no new strain')\n",
    "# ax3.plot(A2b_time,np.mean(A2b_alpha,axis=0)*100,'--', color='blue', label='new strain on 15/1')\n",
    "# ax3.fill_between(A2b_time,np.quantile(A2b_alpha,UL,axis=0)*100, np.quantile(A2b_alpha,LL,axis=0)*100,alpha=0.20, color = 'blue')\n",
    "plot_band_binom(ax3, A2a_time, A2a_alpha*100, 'green', label='no new strain', axis=0)\n",
    "plot_band_binom(ax3, A2b_time, A2b_alpha*100, 'blue', label='new strain on 15/1', axis=0)\n",
    "plot_band_binom(ax3, A2c_time, A2c_alpha*100, 'orange', label='no new strain - vacc', axis=0)\n",
    "plot_band_binom(ax3, A2d_time, A2d_alpha*100, 'red', label='new strain on 15/1 - vacc', axis=0)\n",
    "\n",
    "# Format\n",
    "ax1.set_title('New hospitalizations')\n",
    "ax1.set_ylabel('$H_{in} $(-)')\n",
    "ax1.set_xlim('2020-09-01',end_sim2)\n",
    "ax1.axvline(x=pd.to_datetime('2021-01-15'),color='black')\n",
    "ax1.text(pd.Timestamp('2021-01-16'),750, ' introduction \\n new strain', fontsize=10)\n",
    "ax1 = _apply_tick_locator(ax1)\n",
    "# ax2.set_title('Total patients in hospital')\n",
    "# ax2.set_ylabel('$H_{tot}$ (-)')\n",
    "# ax2.set_xlim('2020-09-01',end_sim2)\n",
    "# ax2.axvline(x=pd.to_datetime('2021-01-15'),color='red')\n",
    "# ax2 = _apply_tick_locator(ax2)\n",
    "ax3.set_title('Prevalence of new strain')\n",
    "ax3.set_ylabel('$\\\\alpha$ (%)')\n",
    "ax3.axvline(x=pd.to_datetime('2021-01-15'),color='black')\n",
    "ax3.set_xlim('2020-09-01',end_sim2)\n",
    "ax3.set_ylim(0,100)\n",
    "ax3 = _apply_tick_locator(ax3)\n",
    "date_exceed = get_date_of_exceeding_alpha(out_A2b_part2, ['Nc', 'draws'], 0.25)\n",
    "ax3.axvline(x=date_exceed, color='gray')\n",
    "ax3.text(date_exceed+pd.Timedelta('1D'),10, ' exceeding \\n 25% on {}/{}'.format(date_exceed.day, date_exceed.month), \n",
    "         fontsize=10, color='gray')\n",
    "\n",
    "\n",
    "fig.suptitle('Scenarios release on  March 1')\n",
    "\n",
    "fig_path =  '../../results/predictions/national/restore_v7.0/'\n",
    "#fig.savefig(fig_path+'restore_v7.0_'+'British_variant'+'.pdf', dpi=400, bbox_inches='tight')\n",
    "fig.savefig(fig_path+'A2'+'.jpg', dpi=400, bbox_inches='tight')"
   ]
  },
  {
   "cell_type": "markdown",
   "metadata": {},
   "source": [
    "# Save data"
   ]
  },
  {
   "cell_type": "code",
   "execution_count": 101,
   "metadata": {
    "ExecuteTime": {
     "end_time": "2021-02-08T10:19:25.425795Z",
     "start_time": "2021-02-08T10:18:39.298432Z"
    }
   },
   "outputs": [],
   "source": [
    "results = pd.DataFrame()\n",
    "results['Date'] =  out_S1a['time']\n",
    "for x in ['S1a', 'S1b', 'S2a', 'S2b', 'S3a', 'S4a', 'S5a', 'S5b']:\n",
    "    for var in ['H_in', 'H_tot']:\n",
    "        binom = eval(x+'_'+var+'_binom')\n",
    "        if var == 'H_in':\n",
    "            results[x+'_incidences_mean'] = np.mean(binom, axis=1)\n",
    "            results[x+'_incidences_median'] = np.median(binom, axis=1)\n",
    "            results[x+'_incidences_LL'] = np.quantile(binom, q = LL, axis = 1)\n",
    "            results[x+'_incidences_UL'] = np.quantile(binom, q = UL, axis = 1)\n",
    "        if var == 'H_tot':\n",
    "            results[x+'_load_mean'] = np.mean(binom, axis=1)\n",
    "            results[x+'_load_median'] = np.median(binom, axis=1)\n",
    "            results[x+'_load_LL'] = np.quantile(binom, q = LL, axis = 1)\n",
    "            results[x+'_load_UL'] = np.quantile(binom, q = UL, axis = 1)\n",
    "            \n",
    "results.to_csv('../../results/predictions/national/restore_v7.0/UGent_restore_v7.csv')"
   ]
  },
  {
   "cell_type": "markdown",
   "metadata": {
    "ExecuteTime": {
     "end_time": "2020-12-02T09:47:36.607419Z",
     "start_time": "2020-12-02T09:47:33.398902Z"
    },
    "heading_collapsed": true
   },
   "source": [
    "# Plot saved data"
   ]
  },
  {
   "cell_type": "code",
   "execution_count": null,
   "metadata": {
    "ExecuteTime": {
     "end_time": "2020-12-02T12:05:19.070053Z",
     "start_time": "2020-12-02T12:05:19.026546Z"
    },
    "hidden": true
   },
   "outputs": [],
   "source": [
    "S_results_H_in = pd.read_csv('../../results/vaccinations/national/S_results_H_in.csv', parse_dates=['time'])"
   ]
  },
  {
   "cell_type": "code",
   "execution_count": null,
   "metadata": {
    "hidden": true
   },
   "outputs": [],
   "source": [
    "plot_band_saved_data(ax3, S_results_H_in, 'S1', 'S1_LL', 'S1_UL', 'gray', 'no vaccination')\n"
   ]
  },
  {
   "cell_type": "code",
   "execution_count": null,
   "metadata": {
    "ExecuteTime": {
     "end_time": "2020-12-02T12:05:22.288309Z",
     "start_time": "2020-12-02T12:05:22.083028Z"
    },
    "hidden": true
   },
   "outputs": [],
   "source": [
    "fig,(ax3,ax4) = plt.subplots(figsize=(10,5), nrows=1, ncols=2, sharex=True, sharey=True)\n",
    "\n",
    "ax3.plot('DATE','H_in',data=df_sciensano[start_calibration:end_sim].reset_index(), marker='.', \n",
    "         c='gray', label='data', lw=0, markersize=9, alpha=0.3, markeredgecolor='none')\n",
    "plot_band_saved_data(ax3, S_results_H_in, 'S1', 'S1_LL', 'S1_UL', 'gray', 'no vaccination')\n",
    "plot_band_saved_data(ax3, S_results_H_in, 'S1', 'S1_LL', 'S1_UL', 'gray', 'no vaccination')\n",
    "\n",
    "# plot_band(ax3, y_model_S4a, 'H_in', 'C0', '0% at start')\n",
    "# plot_band(ax3, y_model_S4b, 'H_in', 'C1', '10% at start')\n",
    "# plot_band(ax3, y_model_S4c, 'H_in', 'C2', '30% at start')\n",
    "# plot_band(ax3, y_model_S4d, 'H_in', 'C3', '50% at start')\n",
    "\n",
    "ax3.set_xlim(start_x, end_x)\n",
    "ax3.set_xticks(pd.date_range(start_x, end_grid, periods=4))\n",
    "ax3.xaxis.set_tick_params(which='both', labelbottom=True)\n",
    "ax3.set_title('Vaccination according to age')\n",
    "\n",
    "ax4.plot('DATE','H_in',data=df_sciensano[start_calibration:end_sim].reset_index(), marker='.', \n",
    "         c='gray', label='data', lw=0, markersize=9, alpha=0.3, markeredgecolor='none')\n",
    "# plot_band(ax4, y_model_S1, 'H_in', 'gray', 'no vaccination')\n",
    "# plot_band(ax4, y_model_S5a, 'H_in', 'C0', '0% at start')\n",
    "# plot_band(ax4, y_model_S5b, 'H_in', 'C1', '10% at start')\n",
    "# plot_band(ax4, y_model_S5c, 'H_in', 'C2', '30% at start')\n",
    "# plot_band(ax4, y_model_S5d, 'H_in', 'C3', '50% at start')\n",
    "\n",
    "ax4.set_xlim(start_x, end_x)\n",
    "ax4.set_xticks(pd.date_range(start_x, end_grid, periods=4))\n",
    "ax4.xaxis.set_tick_params(which='both', labelbottom=True)\n",
    "ax4.set_title('Vaccination according to number of contacts')\n",
    "\n",
    "\n",
    "ax3.legend(loc='upper center', bbox_to_anchor=(1, 1.35), ncol=3)\n",
    "ax3.set_ylim(0,800)\n",
    "fig.text(0, 0.5, 'Number of new hospitalizations', va='center', rotation='vertical')\n",
    "fig.text(0.5, 0.01, 'Time', va='center', rotation='horizontal')\n"
   ]
  },
  {
   "cell_type": "code",
   "execution_count": null,
   "metadata": {
    "hidden": true
   },
   "outputs": [],
   "source": []
  },
  {
   "cell_type": "code",
   "execution_count": null,
   "metadata": {
    "hidden": true
   },
   "outputs": [],
   "source": []
  }
 ],
 "metadata": {
  "kernelspec": {
   "display_name": "Python 3",
   "language": "python",
   "name": "python3"
  },
  "language_info": {
   "codemirror_mode": {
    "name": "ipython",
    "version": 3
   },
   "file_extension": ".py",
   "mimetype": "text/x-python",
   "name": "python",
   "nbconvert_exporter": "python",
   "pygments_lexer": "ipython3",
   "version": "3.8.2"
  },
  "nav_menu": {},
  "toc": {
   "base_numbering": 1,
   "nav_menu": {},
   "number_sections": true,
   "sideBar": true,
   "skip_h1_title": false,
   "title_cell": "Table of Contents",
   "title_sidebar": "Contents",
   "toc_cell": true,
   "toc_position": {
    "height": "calc(100% - 180px)",
    "left": "10px",
    "top": "150px",
    "width": "327px"
   },
   "toc_section_display": "block",
   "toc_window_display": true
  }
 },
 "nbformat": 4,
 "nbformat_minor": 4
}
