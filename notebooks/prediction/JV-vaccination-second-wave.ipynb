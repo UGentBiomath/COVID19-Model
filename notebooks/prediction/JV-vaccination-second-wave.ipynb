{
 "cells": [
  {
   "cell_type": "markdown",
   "metadata": {
    "toc": true
   },
   "source": [
    "<h1>Table of Contents<span class=\"tocSkip\"></span></h1>\n",
    "<div class=\"toc\"><ul class=\"toc-item\"><li><span><a href=\"#Data,-policy-and-model-initialization\" data-toc-modified-id=\"Data,-policy-and-model-initialization-1\"><span class=\"toc-item-num\">1&nbsp;&nbsp;</span>Data, policy and model initialization</a></span><ul class=\"toc-item\"><li><span><a href=\"#Load-contact-data\" data-toc-modified-id=\"Load-contact-data-1.1\"><span class=\"toc-item-num\">1.1&nbsp;&nbsp;</span>Load contact data</a></span></li><li><span><a href=\"#Load-publically-available-data-from-Sciensano\" data-toc-modified-id=\"Load-publically-available-data-from-Sciensano-1.2\"><span class=\"toc-item-num\">1.2&nbsp;&nbsp;</span>Load publically available data from Sciensano</a></span></li><li><span><a href=\"#Load-posterior-parameter-distributions-of-calibrated-parameters\" data-toc-modified-id=\"Load-posterior-parameter-distributions-of-calibrated-parameters-1.3\"><span class=\"toc-item-num\">1.3&nbsp;&nbsp;</span>Load posterior parameter distributions of calibrated parameters</a></span></li><li><span><a href=\"#Settings\" data-toc-modified-id=\"Settings-1.4\"><span class=\"toc-item-num\">1.4&nbsp;&nbsp;</span>Settings</a></span></li></ul></li><li><span><a href=\"#Functions\" data-toc-modified-id=\"Functions-2\"><span class=\"toc-item-num\">2&nbsp;&nbsp;</span>Functions</a></span></li><li><span><a href=\"#Time-dep-functions\" data-toc-modified-id=\"Time-dep-functions-3\"><span class=\"toc-item-num\">3&nbsp;&nbsp;</span>Time-dep functions</a></span></li><li><span><a href=\"#Scenarios-S(trict)\" data-toc-modified-id=\"Scenarios-S(trict)-4\"><span class=\"toc-item-num\">4&nbsp;&nbsp;</span>Scenarios S(trict)</a></span><ul class=\"toc-item\"><li><span><a href=\"#Scenario-S2:-Vaccination-old-to-young,-eff=0.7\" data-toc-modified-id=\"Scenario-S2:-Vaccination-old-to-young,-eff=0.7-4.1\"><span class=\"toc-item-num\">4.1&nbsp;&nbsp;</span>Scenario S2: Vaccination old to young, eff=0.7</a></span></li><li><span><a href=\"#Scenario-S3:-First-the-most-interactive,-eff=0.7\" data-toc-modified-id=\"Scenario-S3:-First-the-most-interactive,-eff=0.7-4.2\"><span class=\"toc-item-num\">4.2&nbsp;&nbsp;</span>Scenario S3: First the most interactive, eff=0.7</a></span></li><li><span><a href=\"#Scenario-S4:-Vaccination-old-to-young,-eff=0.9\" data-toc-modified-id=\"Scenario-S4:-Vaccination-old-to-young,-eff=0.9-4.3\"><span class=\"toc-item-num\">4.3&nbsp;&nbsp;</span>Scenario S4: Vaccination old to young, eff=0.9</a></span></li><li><span><a href=\"#Scenario-S5:-First-the-most-mobile,-eff=0.9\" data-toc-modified-id=\"Scenario-S5:-First-the-most-mobile,-eff=0.9-4.4\"><span class=\"toc-item-num\">4.4&nbsp;&nbsp;</span>Scenario S5: First the most mobile, eff=0.9</a></span></li><li><span><a href=\"#Figures-lockdown-case-S\" data-toc-modified-id=\"Figures-lockdown-case-S-4.5\"><span class=\"toc-item-num\">4.5&nbsp;&nbsp;</span>Figures lockdown-case S</a></span></li></ul></li><li><span><a href=\"#Scenarios-F(ree)\" data-toc-modified-id=\"Scenarios-F(ree)-5\"><span class=\"toc-item-num\">5&nbsp;&nbsp;</span>Scenarios F(ree)</a></span><ul class=\"toc-item\"><li><span><a href=\"#Scenario-F2:-Vaccination-old-to-young,-eff=0.7\" data-toc-modified-id=\"Scenario-F2:-Vaccination-old-to-young,-eff=0.7-5.1\"><span class=\"toc-item-num\">5.1&nbsp;&nbsp;</span>Scenario F2: Vaccination old to young, eff=0.7</a></span></li><li><span><a href=\"#Scenario-F3:-First-the-most-interactive,-eff=0.7\" data-toc-modified-id=\"Scenario-F3:-First-the-most-interactive,-eff=0.7-5.2\"><span class=\"toc-item-num\">5.2&nbsp;&nbsp;</span>Scenario F3: First the most interactive, eff=0.7</a></span></li><li><span><a href=\"#Scenario-F4:-Vaccination-old-to-young,-eff=0.9\" data-toc-modified-id=\"Scenario-F4:-Vaccination-old-to-young,-eff=0.9-5.3\"><span class=\"toc-item-num\">5.3&nbsp;&nbsp;</span>Scenario F4: Vaccination old to young, eff=0.9</a></span></li><li><span><a href=\"#Scenario-F5:-First-the-most-mobile,-eff=0.9\" data-toc-modified-id=\"Scenario-F5:-First-the-most-mobile,-eff=0.9-5.4\"><span class=\"toc-item-num\">5.4&nbsp;&nbsp;</span>Scenario F5: First the most mobile, eff=0.9</a></span></li><li><span><a href=\"#Figures-free-case-F\" data-toc-modified-id=\"Figures-free-case-F-5.5\"><span class=\"toc-item-num\">5.5&nbsp;&nbsp;</span>Figures free-case F</a></span></li><li><span><a href=\"#Age-group-figures\" data-toc-modified-id=\"Age-group-figures-5.6\"><span class=\"toc-item-num\">5.6&nbsp;&nbsp;</span>Age-group figures</a></span></li></ul></li><li><span><a href=\"#Scenario-A:-contact-level-pre-pandemic\" data-toc-modified-id=\"Scenario-A:-contact-level-pre-pandemic-6\"><span class=\"toc-item-num\">6&nbsp;&nbsp;</span>Scenario A: contact level pre-pandemic</a></span><ul class=\"toc-item\"><li><span><a href=\"#Scenario-A4:-Vaccination-old-to-young,-eff=0.9\" data-toc-modified-id=\"Scenario-A4:-Vaccination-old-to-young,-eff=0.9-6.1\"><span class=\"toc-item-num\">6.1&nbsp;&nbsp;</span>Scenario A4: Vaccination old to young, eff=0.9</a></span></li><li><span><a href=\"#Scenario-A5:-First-the-most-mobile,-eff=0.9\" data-toc-modified-id=\"Scenario-A5:-First-the-most-mobile,-eff=0.9-6.2\"><span class=\"toc-item-num\">6.2&nbsp;&nbsp;</span>Scenario A5: First the most mobile, eff=0.9</a></span></li><li><span><a href=\"#Figures-case-A\" data-toc-modified-id=\"Figures-case-A-6.3\"><span class=\"toc-item-num\">6.3&nbsp;&nbsp;</span>Figures case A</a></span></li></ul></li><li><span><a href=\"#Scenario-C:-comix-August\" data-toc-modified-id=\"Scenario-C:-comix-August-7\"><span class=\"toc-item-num\">7&nbsp;&nbsp;</span>Scenario C: comix August</a></span></li><li><span><a href=\"#Save-data\" data-toc-modified-id=\"Save-data-8\"><span class=\"toc-item-num\">8&nbsp;&nbsp;</span>Save data</a></span></li><li><span><a href=\"#Plot-saved-data\" data-toc-modified-id=\"Plot-saved-data-9\"><span class=\"toc-item-num\">9&nbsp;&nbsp;</span>Plot saved data</a></span></li><li><span><a href=\"#Fast-plotting\" data-toc-modified-id=\"Fast-plotting-10\"><span class=\"toc-item-num\">10&nbsp;&nbsp;</span>Fast plotting</a></span></li></ul></div>"
   ]
  },
  {
   "cell_type": "markdown",
   "metadata": {},
   "source": [
    "\n",
    "*Authored by T.W. Alleman in consultation with the BIOMATH research unit headed by prof. Ingmar Nopens.*\n",
    "\n",
    "Copyright (c) 2020 by T.W. Alleman, BIOMATH, Ghent University. All Rights Reserved."
   ]
  },
  {
   "cell_type": "code",
   "execution_count": 1,
   "metadata": {
    "ExecuteTime": {
     "end_time": "2020-12-03T08:35:27.422787Z",
     "start_time": "2020-12-03T08:35:24.328711Z"
    }
   },
   "outputs": [],
   "source": [
    "import numpy as np\n",
    "%matplotlib notebook\n",
    "import matplotlib\n",
    "import matplotlib.pyplot as plt\n",
    "import matplotlib.dates as mdates\n",
    "import pandas as pd\n",
    "import datetime\n",
    "import scipy\n",
    "import json\n",
    "import random\n",
    "from math import floor\n",
    "\n",
    "from covid19model.optimization import objective_fcns\n",
    "from covid19model.models import models\n",
    "from covid19model.models.utils import draw_sample_COVID19_SEIRD\n",
    "from covid19model.models.time_dependant_parameter_fncs import ramp_fun, google_lockdown\n",
    "from covid19model.data import google, sciensano, model_parameters\n",
    "from covid19model.visualization.output import population_status, infected, _apply_tick_locator\n",
    "from covid19model.visualization.optimization import plot_fit, traceplot\n",
    "\n",
    "plt.rcParams.update({'font.size': 12, 'axes.grid':True, 'grid.linewidth':0.3})\n",
    "pd.plotting.register_matplotlib_converters()\n",
    "\n",
    "# OPTIONAL: Load the \"autoreload\" extension so that package code can change\n",
    "%load_ext autoreload\n",
    "# OPTIONAL: always reload modules so that as you change code in src, it gets loaded\n",
    "%autoreload 2"
   ]
  },
  {
   "cell_type": "markdown",
   "metadata": {},
   "source": [
    "# Data, policy and model initialization"
   ]
  },
  {
   "cell_type": "markdown",
   "metadata": {},
   "source": [
    "## Load contact data"
   ]
  },
  {
   "cell_type": "code",
   "execution_count": 2,
   "metadata": {
    "ExecuteTime": {
     "end_time": "2020-12-03T08:35:28.125054Z",
     "start_time": "2020-12-03T08:35:27.425785Z"
    }
   },
   "outputs": [],
   "source": [
    "# Load the interaction matrices (size: 9x9)\n",
    "initN, Nc_home, Nc_work, Nc_schools, Nc_transport, Nc_leisure, Nc_others, Nc_total = model_parameters.get_interaction_matrices(dataset='willem_2012',intensity='all')\n",
    "# Define the number of age categories\n",
    "levels = initN.size\n",
    "\n",
    "initN, Nc_home_15, Nc_work_15, Nc_schools_15, Nc_transport_15, Nc_leisure_15, Nc_others_15, Nc_total_15 = model_parameters.get_interaction_matrices(dataset='willem_2012',intensity='more_15_min')\n",
    "initN, Nc_home_1hr, Nc_work_1hr, Nc_schools_1hr, Nc_transport_1hr, Nc_leisure_1hr, Nc_others_1hr, Nc_total_1hr = model_parameters.get_interaction_matrices(dataset='willem_2012',intensity='more_one_hour')"
   ]
  },
  {
   "cell_type": "code",
   "execution_count": 3,
   "metadata": {
    "ExecuteTime": {
     "end_time": "2020-12-03T08:35:28.178417Z",
     "start_time": "2020-12-03T08:35:28.127843Z"
    }
   },
   "outputs": [],
   "source": [
    "Nc_all = {'total': Nc_total, 'home':Nc_home, 'work': Nc_work, 'schools': Nc_schools, 'transport': Nc_transport, 'leisure': Nc_leisure, 'others': Nc_others}\n",
    "Nc_15min = {'total': Nc_total_15, 'home': Nc_home_15, 'work': Nc_work_15, 'schools': Nc_schools_15, 'transport': Nc_transport_15, 'leisure': Nc_leisure_15, 'others': Nc_others_15}\n",
    "Nc_1hr = {'total': Nc_total_1hr, 'home': Nc_home_1hr, 'work': Nc_work_1hr, 'schools': Nc_schools_1hr, 'transport': Nc_transport_1hr, 'leisure': Nc_leisure_1hr, 'others': Nc_others_1hr}"
   ]
  },
  {
   "cell_type": "code",
   "execution_count": 4,
   "metadata": {
    "ExecuteTime": {
     "end_time": "2020-12-03T08:35:28.260931Z",
     "start_time": "2020-12-03T08:35:28.183481Z"
    }
   },
   "outputs": [
    {
     "data": {
      "text/plain": [
       "'03-08-2020'"
      ]
     },
     "execution_count": 4,
     "metadata": {},
     "output_type": "execute_result"
    }
   ],
   "source": [
    "init_comix, Nc_comix, date = model_parameters.get_interaction_matrices(dataset='comix', wave=8)\n",
    "date"
   ]
  },
  {
   "cell_type": "code",
   "execution_count": null,
   "metadata": {
    "ExecuteTime": {
     "end_time": "2020-12-02T10:14:46.612830Z",
     "start_time": "2020-12-02T10:14:46.568121Z"
    }
   },
   "outputs": [],
   "source": [
    "# fig,ax = plt.subplots()\n",
    "# plt.imshow(Nc_total, cmap='viridis')\n",
    "# plt.colorbar()"
   ]
  },
  {
   "cell_type": "markdown",
   "metadata": {},
   "source": [
    "## Load publically available data from Sciensano"
   ]
  },
  {
   "cell_type": "code",
   "execution_count": 5,
   "metadata": {
    "ExecuteTime": {
     "end_time": "2020-12-03T08:35:31.115816Z",
     "start_time": "2020-12-03T08:35:30.987606Z"
    }
   },
   "outputs": [],
   "source": [
    "df_sciensano = sciensano.get_sciensano_COVID19_data(update=False)\n",
    "df_sciensano['D_cum'] = df_sciensano.D_tot.cumsum()"
   ]
  },
  {
   "cell_type": "code",
   "execution_count": 6,
   "metadata": {
    "ExecuteTime": {
     "end_time": "2020-12-03T08:35:31.186939Z",
     "start_time": "2020-12-03T08:35:31.129689Z"
    }
   },
   "outputs": [],
   "source": [
    "df_google = google.get_google_mobility_data(update=False, plot=False)"
   ]
  },
  {
   "cell_type": "code",
   "execution_count": null,
   "metadata": {
    "ExecuteTime": {
     "end_time": "2020-12-02T07:55:00.863635Z",
     "start_time": "2020-12-02T07:55:00.778881Z"
    }
   },
   "outputs": [],
   "source": [
    "#df_non_public = pd.read_csv('../../data/interim/non_public/all_nonpublic_timeseries_arr.csv')"
   ]
  },
  {
   "cell_type": "code",
   "execution_count": null,
   "metadata": {
    "ExecuteTime": {
     "end_time": "2020-12-02T07:53:05.474145Z",
     "start_time": "2020-12-02T07:53:05.437629Z"
    }
   },
   "outputs": [],
   "source": [
    "# deaths = df_non_public.groupby(by='DATE').deceased_hosp.sum().reset_index()\n",
    "# fig,ax = plt.subplots()\n",
    "# deaths.plot('DATE','deceased_hosp', ax=ax)"
   ]
  },
  {
   "cell_type": "markdown",
   "metadata": {},
   "source": [
    "## Load posterior parameter distributions of calibrated parameters"
   ]
  },
  {
   "cell_type": "code",
   "execution_count": 7,
   "metadata": {
    "ExecuteTime": {
     "end_time": "2020-12-03T08:35:33.119997Z",
     "start_time": "2020-12-03T08:35:33.038046Z"
    }
   },
   "outputs": [],
   "source": [
    "# Load samples dictionary of the first wave\n",
    "with open('../../data/interim/model_parameters/COVID19_SEIRD/calibrations/national/BE_2020-11-26_WAVE2_GOOGLE.json', 'r') as fp:\n",
    "    samples_dict = json.load(fp)\n",
    "\n",
    "with open('../../data/interim/model_parameters/COVID19_SEIRD/calibrations/national/google/initial_states_2020-09-01.json', 'r') as fp:\n",
    "    initial_states_sept = json.load(fp) "
   ]
  },
  {
   "cell_type": "code",
   "execution_count": null,
   "metadata": {
    "ExecuteTime": {
     "end_time": "2020-12-02T10:14:49.867274Z",
     "start_time": "2020-12-02T10:14:49.825611Z"
    }
   },
   "outputs": [],
   "source": [
    "# fig,ax = plt.subplots()\n",
    "# pd.Series(samples_dict['beta']).hist()\n",
    "# pd.Series(samples_dict['tau']).hist()"
   ]
  },
  {
   "cell_type": "markdown",
   "metadata": {},
   "source": [
    "## Settings"
   ]
  },
  {
   "cell_type": "code",
   "execution_count": 8,
   "metadata": {
    "ExecuteTime": {
     "end_time": "2020-12-03T08:35:35.367578Z",
     "start_time": "2020-12-03T08:35:35.318731Z"
    }
   },
   "outputs": [],
   "source": [
    "UL = 0.975\n",
    "LL = 0.025"
   ]
  },
  {
   "cell_type": "code",
   "execution_count": 9,
   "metadata": {
    "ExecuteTime": {
     "end_time": "2020-12-03T08:35:35.532908Z",
     "start_time": "2020-12-03T08:35:35.494605Z"
    }
   },
   "outputs": [],
   "source": [
    "start_calibration = '2020-09-01'\n",
    "end_calibration = '2020-11-12'\n",
    "end_sim = '2021-03-01'"
   ]
  },
  {
   "cell_type": "code",
   "execution_count": 10,
   "metadata": {
    "ExecuteTime": {
     "end_time": "2020-12-03T08:35:37.337458Z",
     "start_time": "2020-12-03T08:35:37.297299Z"
    }
   },
   "outputs": [],
   "source": [
    "# for figures\n",
    "start_x = start_calibration\n",
    "end_x = '2021-03-15'\n",
    "end_grid = '2021-02-15'\n",
    "n=5\n",
    "label_0 = 'no prior vaccination'\n",
    "label_10 = 'low prior vaccination'\n",
    "label_30 = 'medium prior vaccination'\n",
    "label_50 = 'high prior vaccination'"
   ]
  },
  {
   "cell_type": "markdown",
   "metadata": {},
   "source": [
    "# Functions"
   ]
  },
  {
   "cell_type": "code",
   "execution_count": 11,
   "metadata": {
    "ExecuteTime": {
     "end_time": "2020-12-03T08:35:41.069575Z",
     "start_time": "2020-12-03T08:35:41.015288Z"
    }
   },
   "outputs": [],
   "source": [
    "def vacc_policy(t, vaccN, eff_daily, order):\n",
    "    \n",
    "    \"\"\"\n",
    "    t : timestamp\n",
    "        current time in simulation\n",
    "    vaccN : array\n",
    "        population per age group to be vaccinated (sum over the compartments exposed+susceptible)\n",
    "    eff_daily : float\n",
    "        number of people vaccinated daily, in the compartments where it is effective\n",
    "    order : list\n",
    "        ordered list of number 0 to 8, representing 9 age groups\n",
    "    \"\"\"\n",
    "    \n",
    "    \n",
    "    vaccinations = np.array([0.0]*9)\n",
    "    \n",
    "    ## define transition times\n",
    "    ## transition to next age group when the first-ranked age group is completely finished\n",
    "    t0 = pd.Timestamp('2020-09-01') # start vaccination\n",
    "    t1 = t0 + pd.Timedelta(floor(vaccN[order[0]]/eff_daily), unit='D') # end vaccination group 0\n",
    "    t2 = t1 + pd.Timedelta(floor(vaccN[order[1]]/eff_daily), unit='D') # end vaccination group 1\n",
    "    t3 = t2 + pd.Timedelta(floor(vaccN[order[2]]/eff_daily), unit='D') \n",
    "    t4 = t3 + pd.Timedelta(floor(vaccN[order[3]]/eff_daily), unit='D') \n",
    "    t5 = t4 + pd.Timedelta(floor(vaccN[order[4]]/eff_daily), unit='D')\n",
    "    t6 = t5 + pd.Timedelta(floor(vaccN[order[5]]/eff_daily), unit='D') \n",
    "    t7 = t6 + pd.Timedelta(floor(vaccN[order[6]]/eff_daily), unit='D') \n",
    "    t8 = t7 + pd.Timedelta(floor(vaccN[order[7]]/eff_daily), unit='D') \n",
    "    t9 = t8 + pd.Timedelta(floor(vaccN[order[8]]/eff_daily), unit='D') # end vaccination group 8\n",
    "\n",
    "    if t < t1:\n",
    "        vaccinations[order[0]] = eff_daily/vaccN[order[0]]\n",
    "        return vaccinations\n",
    "    \n",
    "    elif t < t2:\n",
    "        vaccinations[order[1]] = eff_daily/vaccN[order[1]]\n",
    "        return vaccinations\n",
    "    \n",
    "    elif t < t3:\n",
    "        vaccinations[order[2]] = eff_daily/vaccN[order[2]]\n",
    "        return vaccinations\n",
    "    \n",
    "    elif t < t4:\n",
    "        vaccinations[order[3]] = eff_daily/vaccN[order[3]]\n",
    "        return vaccinations\n",
    "    \n",
    "    elif t < t5:\n",
    "        vaccinations[order[4]] = eff_daily/vaccN[order[4]]\n",
    "        return vaccinations\n",
    "    \n",
    "    elif t < t6:\n",
    "        vaccinations[order[5]] = eff_daily/vaccN[order[5]]\n",
    "        return vaccinations\n",
    "    \n",
    "    elif t < t7:\n",
    "        vaccinations[order[6]] = eff_daily/vaccN[order[6]]\n",
    "        return vaccinations\n",
    "    \n",
    "    elif t < t8:\n",
    "        vaccinations[order[7]] = eff_daily/vaccN[order[7]]\n",
    "        return vaccinations\n",
    "    \n",
    "    else:\n",
    "        vaccinations[order[8]] = eff_daily/vaccN[order[8]]\n",
    "        return vaccinations\n",
    "    "
   ]
  },
  {
   "cell_type": "code",
   "execution_count": 25,
   "metadata": {
    "ExecuteTime": {
     "end_time": "2020-12-03T08:54:57.741411Z",
     "start_time": "2020-12-03T08:54:57.542742Z"
    }
   },
   "outputs": [],
   "source": [
    "def calc_pool_to_vaccinate(pool, vaccinated_prop, order, effectivity):\n",
    "    \n",
    "    \"\"\"\n",
    "    Function to calculate the initial number of people left to be vaccinated at the start, in one compartment\n",
    "    \n",
    "    Parameters\n",
    "    ----------\n",
    "    \n",
    "    pool : array\n",
    "        numbers of the compartment (exposed or susceptible) to vaccinate per age group\n",
    "    vaccinated_prop: float\n",
    "        proportion of the population already vaccinated (following the same strategy as further implemented)\n",
    "    order : list\n",
    "        ordered list of number 0 to 8, representing 9 age groups  \n",
    "       \n",
    "    Returns\n",
    "    ------\n",
    "    \n",
    "    to_vaccinate : array\n",
    "        numbers of people remaining to be vaccinated per age group\n",
    "    real_pool : array\n",
    "        remaining unprotected numbers per age group in the pool, taking effectivity into account\n",
    "    \"\"\"\n",
    "\n",
    "    to_vaccinate = pool.copy()\n",
    "    real_pool = pool.copy()\n",
    "    \n",
    "    # every person who is vaccinated is considered immune, hence leaves to_vaccinate\n",
    "    vaccinated = np.sum(pool)*vaccinated_prop\n",
    "    for i in order: # loop through age classes in the determined order\n",
    "        left_in_i = pool[i] - vaccinated\n",
    "        vaccinated = max(0,(vaccinated - pool[i]))\n",
    "        to_vaccinate[i] =  max(0,left_in_i)\n",
    "        real_pool[i] = pool[i] - (pool[i]-to_vaccinate[i])*effectivity\n",
    "        \n",
    "    # in reality, only a proportion of the vaccinated people are effectively protected\n",
    "#     real_vaccinated = np.sum(pool)*vaccinated_prop*effectivity\n",
    "#     for i in order:\n",
    "#         left_in_i = pool[i] - real_vaccinated\n",
    "#         real_vaccinated = max(0,(real_vaccinated - pool[i]))\n",
    "#         real_pool[i] =  max(0,left_in_i)\n",
    "    #real_pool = vaccinated_N*effectivity\n",
    "        \n",
    "    return to_vaccinate, real_pool"
   ]
  },
  {
   "cell_type": "code",
   "execution_count": 26,
   "metadata": {
    "ExecuteTime": {
     "end_time": "2020-12-03T08:54:58.891956Z",
     "start_time": "2020-12-03T08:54:58.831109Z"
    }
   },
   "outputs": [],
   "source": [
    "    suscN = np.array(initial_states_sept['S'])\n",
    "    expN = np.array(initial_states_sept['E'])\n",
    "    recN = np.array(initial_states_sept['R'])\n",
    "    \n",
    "    to_vacc_suscN, real_suscN = calc_pool_to_vaccinate(suscN, 0.1, [8,7,6,5,4,3,2,1,0], 0.9)\n"
   ]
  },
  {
   "cell_type": "code",
   "execution_count": 33,
   "metadata": {
    "ExecuteTime": {
     "end_time": "2020-12-03T08:55:46.313553Z",
     "start_time": "2020-12-03T08:55:46.267604Z"
    }
   },
   "outputs": [],
   "source": [
    "def vaccin_model(vaccinated_prop, order, daily, effectivity, initial_states_no_vacc, tdep_fun=None, levels=levels):\n",
    "    \"\"\"\n",
    "    Function to initialize the model given a certain vaccination strategy\n",
    "    \"\"\"\n",
    "    \n",
    "    suscN = np.array(initial_states_no_vacc['S'])\n",
    "    expN = np.array(initial_states_no_vacc['E'])\n",
    "    recN = np.array(initial_states_no_vacc['R'])\n",
    "    \n",
    "    to_vacc_suscN, real_suscN = calc_pool_to_vaccinate(suscN, vaccinated_prop, order, effectivity)\n",
    "    to_vacc_expN, real_expN = calc_pool_to_vaccinate(expN, vaccinated_prop, order, effectivity)\n",
    "    to_vacc = to_vacc_suscN+to_vacc_expN\n",
    "    \n",
    "    effective_daily = np.sum(to_vacc)/ np.sum(initN)*daily\n",
    "    \n",
    "    susc_to_rec = suscN - real_suscN\n",
    "    exp_to_rec = expN - real_expN\n",
    "    real_recN = recN + susc_to_rec + exp_to_rec\n",
    "    \n",
    "    \n",
    "    params.update({'vaccN' : to_vacc,\n",
    "                   'eff_daily' : effective_daily,\n",
    "                   'order' : order,\n",
    "                   'e' : np.array([effectivity]*levels)\n",
    "                 })\n",
    "    # Adapt initial states\n",
    "    initial_states = initial_states_no_vacc.copy()\n",
    "    initial_states.update({'S' : real_suscN,\n",
    "                           'E' : real_expN,\n",
    "                           'R' : real_recN})\n",
    "    \n",
    "    if tdep_fun is not None:\n",
    "        tdp = {'Nc': tdep_fun,'v':vacc_policy}\n",
    "    else:\n",
    "        tdp = {'v':vacc_policy}\n",
    "    return models.COVID19_SEIRD(initial_states, params, time_dependent_parameters=tdp)"
   ]
  },
  {
   "cell_type": "code",
   "execution_count": 34,
   "metadata": {
    "ExecuteTime": {
     "end_time": "2020-12-03T08:55:47.814512Z",
     "start_time": "2020-12-03T08:55:47.774337Z"
    }
   },
   "outputs": [],
   "source": [
    "def plot_band(ax, y_model, var, color, label):\n",
    "    ax.fill_between(pd.to_datetime(y_model['time'].values),y_model[var].quantile(LL,dim=\"draws\").sum(dim=\"Nc\"), \n",
    "                    y_model[var].quantile(UL,dim=\"draws\").sum(dim=\"Nc\"),alpha=0.30, facecolor = color)\n",
    "    ax.plot(y_model['time'],y_model[var].mean(dim=\"draws\").sum(dim=\"Nc\"), color=color, label=label, lw=2)\n",
    "    return"
   ]
  },
  {
   "cell_type": "code",
   "execution_count": 35,
   "metadata": {
    "ExecuteTime": {
     "end_time": "2020-12-03T08:55:47.994405Z",
     "start_time": "2020-12-03T08:55:47.953179Z"
    }
   },
   "outputs": [],
   "source": [
    "def plot_band_saved_data(ax, df, mean_col, LL_col, UL_col, color, label):\n",
    "    ax.fill_between(df['time'],df[LL_col], df[UL_col],alpha=0.30, facecolor = color)\n",
    "    ax.plot(df['time'], df[mean_col], color=color, label=label, lw=2)\n",
    "    return"
   ]
  },
  {
   "cell_type": "code",
   "execution_count": 36,
   "metadata": {
    "ExecuteTime": {
     "end_time": "2020-12-03T08:55:48.204372Z",
     "start_time": "2020-12-03T08:55:48.131434Z"
    }
   },
   "outputs": [],
   "source": [
    "def plot_band_age(ax, y_model, age_group, var, color, label):\n",
    "    ax.fill_between(pd.to_datetime(y_model['time'].values),y_model[var].quantile(LL,dim=\"draws\").sel(Nc=age_group), \n",
    "                    y_model[var].quantile(UL,dim=\"draws\").sel(Nc=age_group),alpha=0.30, facecolor = color)\n",
    "    ax.plot(y_model['time'],y_model[var].mean(dim=\"draws\").sel(Nc=age_group), color=color, label=label, lw=2)\n",
    "    return"
   ]
  },
  {
   "cell_type": "markdown",
   "metadata": {},
   "source": [
    "# Time-dep functions"
   ]
  },
  {
   "cell_type": "code",
   "execution_count": 37,
   "metadata": {
    "ExecuteTime": {
     "end_time": "2020-12-03T08:55:50.122679Z",
     "start_time": "2020-12-03T08:55:50.042987Z"
    }
   },
   "outputs": [],
   "source": [
    "def no_lockdown(t,states,param,df_google, Nc_all, Nc_15min, Nc_1hr, l , tau, prevention):\n",
    "    \n",
    "    # Convert tau and l to dates\n",
    "    tau_days = pd.Timedelta(tau, unit='D')\n",
    "    l_days = pd.Timedelta(l, unit='D')\n",
    "\n",
    "    # Define additional dates where intensity or school policy changes\n",
    "    t5 = pd.Timestamp('2020-09-01') # september: lockdown relaxation narrative in newspapers reduces sense of urgency\n",
    "    t6 = pd.Timestamp('2020-11-02') # autumn vacation\n",
    "    t7 = pd.Timestamp('2020-11-09') # schools re-open\n",
    "    t8 = pd.Timestamp('2020-12-18') # schools close\n",
    "    t9 = pd.Timestamp('2021-01-04') # schools re-open\n",
    "\n",
    "    # get mobility reductions\n",
    "    if t <= df_google.index[-1]:\n",
    "        row = -df_google[df_google.index == pd.Timestamp(t.date())]/100\n",
    "    elif t > t6: # from November on: take same contact behaviour\n",
    "        row=-df_google[df_google.index == t6]/100\n",
    "    \n",
    "    work=(1-row['work'].values)[0]\n",
    "    transport=(1-row['transport'].values)[0]\n",
    "    leisure=(1-row['retail_recreation'].values)[0]\n",
    "    others=(1-row['grocery'].values)[0]\n",
    "\n",
    "    # define policies\n",
    "\n",
    "    if t5 <= t <= t6:\n",
    "        school = 1\n",
    "        return (1/2.3)*Nc_15min['home'] + work*Nc_15min['work'] + school*Nc_15min['schools'] + transport*Nc_15min['transport'] + leisure*Nc_15min['leisure'] + others*Nc_15min['others']\n",
    "    elif t6 < t <= t7:\n",
    "        school = 0\n",
    "        return (1/2.3)*Nc_15min['home'] + work*Nc_15min['work'] + school*Nc_15min['schools'] + transport*Nc_15min['transport'] + leisure*Nc_15min['leisure'] + others*Nc_15min['others']\n",
    "    elif t7 < t <= t8:\n",
    "        school = 1\n",
    "        return (1/2.3)*Nc_15min['home'] + work*Nc_15min['work'] + school*Nc_15min['schools'] + transport*Nc_15min['transport'] + leisure*Nc_15min['leisure'] + others*Nc_15min['others']\n",
    "    elif t8 < t <= t9:\n",
    "        school = 0\n",
    "        return (1/2.3)*Nc_15min['home'] + work*Nc_15min['work'] + school*Nc_15min['schools'] + transport*Nc_15min['transport'] + leisure*Nc_15min['leisure'] + others*Nc_15min['others']\n",
    "    else:\n",
    "        school = 1\n",
    "        return (1/2.3)*Nc_15min['home'] + work*Nc_15min['work'] + school*Nc_15min['schools'] + transport*Nc_15min['transport'] + leisure*Nc_15min['leisure'] + others*Nc_15min['others']\n",
    "\n"
   ]
  },
  {
   "cell_type": "code",
   "execution_count": 38,
   "metadata": {
    "ExecuteTime": {
     "end_time": "2020-12-03T08:55:50.344748Z",
     "start_time": "2020-12-03T08:55:50.282338Z"
    }
   },
   "outputs": [],
   "source": [
    "def no_lockdown_school_full_open(t,states,param,df_google, Nc_all, Nc_15min, Nc_1hr, l , tau, prevention):\n",
    "    \n",
    "    # Convert tau and l to dates\n",
    "    tau_days = pd.Timedelta(tau, unit='D')\n",
    "    l_days = pd.Timedelta(l, unit='D')\n",
    "\n",
    "    # Define additional dates where intensity or school policy changes\n",
    "    t5 = pd.Timestamp('2020-09-01') # september: lockdown relaxation narrative in newspapers reduces sense of urgency\n",
    "\n",
    "\n",
    "    row=-df_google[df_google.index == t5]/100\n",
    "    \n",
    "    work=(1-row['work'].values)[0]\n",
    "    transport=(1-row['transport'].values)[0]\n",
    "    leisure=(1-row['retail_recreation'].values)[0]\n",
    "    others=(1-row['grocery'].values)[0]\n",
    "\n",
    "\n",
    "    school = 1\n",
    "    return (1/2.3)*Nc_15min['home'] + work*Nc_15min['work'] + school*Nc_15min['schools'] + transport*Nc_15min['transport'] + leisure*Nc_15min['leisure'] + others*Nc_15min['others']\n"
   ]
  },
  {
   "cell_type": "markdown",
   "metadata": {},
   "source": [
    "# Scenarios S(trict)"
   ]
  },
  {
   "cell_type": "code",
   "execution_count": 39,
   "metadata": {
    "ExecuteTime": {
     "end_time": "2020-12-03T08:55:51.850449Z",
     "start_time": "2020-12-03T08:55:51.600207Z"
    }
   },
   "outputs": [],
   "source": [
    "# Load the model parameters using `get_COVID19_SEIRD_parameters()`.\n",
    "params = model_parameters.get_COVID19_SEIRD_parameters()\n",
    "\n",
    "params.update({'df_google': df_google,\n",
    "              'Nc_all' : Nc_all,\n",
    "              'Nc_15min' : Nc_15min,\n",
    "              'Nc_1hr' : Nc_1hr,\n",
    "               'l' : 5,\n",
    "               'tau' : 5,\n",
    "               'prevention':0.5\n",
    "              })"
   ]
  },
  {
   "cell_type": "code",
   "execution_count": 40,
   "metadata": {
    "ExecuteTime": {
     "end_time": "2020-12-03T08:55:52.751079Z",
     "start_time": "2020-12-03T08:55:52.694420Z"
    }
   },
   "outputs": [],
   "source": [
    "# Initialize the model\n",
    "model_S1 = models.COVID19_SEIRD(initial_states_sept, params, time_dependent_parameters={'Nc': google_lockdown})"
   ]
  },
  {
   "cell_type": "code",
   "execution_count": null,
   "metadata": {
    "ExecuteTime": {
     "end_time": "2020-12-02T13:00:33.480089Z",
     "start_time": "2020-12-02T13:00:33.441902Z"
    },
    "scrolled": false
   },
   "outputs": [],
   "source": [
    "\n",
    "# fig,ax=plt.subplots(figsize=(10,4))\n",
    "# for i in range(5):\n",
    "#     # Sampling\n",
    "#     model_S1.parameters['beta'] = np.random.choice(samples_dict['beta'])\n",
    "#     idx,model_S1.parameters['l'] = random.choice(list(enumerate(samples_dict['l'])))\n",
    "#     model_S1.parameters['tau'] = samples_dict['tau'][idx]   \n",
    "#     # Simulate\n",
    "#     plot_model_S1 = model_S1.sim(end_sim,start_date=start_calibration,warmup=0)\n",
    "#     # Plot\n",
    "#     ax.plot(plot_model_S1['time'],plot_model_S1[\"H_in\"].sum(dim=\"Nc\"),color='blue',alpha=0.1)\n",
    "\n",
    "# ax.scatter(df_sciensano[start_calibration:end_calibration].index,df_sciensano['H_in'][start_calibration:end_calibration],color='black',alpha=0.6,linestyle='None',facecolors='none')\n",
    "\n",
    "# #ax = _apply_tick_locator(ax)\n",
    "# ax.set_xlim(start_x,end_sim)"
   ]
  },
  {
   "cell_type": "code",
   "execution_count": 41,
   "metadata": {
    "ExecuteTime": {
     "end_time": "2020-12-03T08:55:59.765145Z",
     "start_time": "2020-12-03T08:55:53.802136Z"
    }
   },
   "outputs": [],
   "source": [
    "y_model_S1 = model_S1.sim(end_sim,start_date=start_calibration,warmup=0,N=n,\n",
    "                          draw_fcn=draw_sample_COVID19_SEIRD,samples=samples_dict)"
   ]
  },
  {
   "cell_type": "markdown",
   "metadata": {
    "heading_collapsed": true
   },
   "source": [
    "## Scenario S2: Vaccination old to young, eff=0.7"
   ]
  },
  {
   "cell_type": "code",
   "execution_count": null,
   "metadata": {
    "ExecuteTime": {
     "end_time": "2020-12-01T12:24:56.325869Z",
     "start_time": "2020-12-01T12:24:56.290343Z"
    },
    "hidden": true
   },
   "outputs": [],
   "source": [
    "order = [8,7,6,5,4,3,2,1,0]\n",
    "effectivity = 0.7\n",
    "daily=10000"
   ]
  },
  {
   "cell_type": "code",
   "execution_count": null,
   "metadata": {
    "ExecuteTime": {
     "end_time": "2020-11-27T12:54:53.988583Z",
     "start_time": "2020-11-27T12:54:53.941578Z"
    },
    "hidden": true
   },
   "outputs": [],
   "source": [
    "vaccinated_prop = 0\n",
    "model_S2a = vaccin_model(vaccinated_prop, order, daily, effectivity, initial_states_sept, tdep_fun=google_lockdown)\n",
    "vaccinated_prop = 0.1\n",
    "model_S2b = vaccin_model(vaccinated_prop, order, daily, effectivity, initial_states_sept, tdep_fun=google_lockdown)\n",
    "vaccinated_prop = 0.3\n",
    "model_S2c = vaccin_model(vaccinated_prop, order, daily, effectivity, initial_states_sept, tdep_fun=google_lockdown)\n",
    "vaccinated_prop = 0.5\n",
    "model_S2d = vaccin_model(vaccinated_prop, order, daily, effectivity, initial_states_sept, tdep_fun=google_lockdown)"
   ]
  },
  {
   "cell_type": "code",
   "execution_count": null,
   "metadata": {
    "ExecuteTime": {
     "end_time": "2020-11-27T12:59:23.230001Z",
     "start_time": "2020-11-27T12:54:58.713055Z"
    },
    "hidden": true
   },
   "outputs": [],
   "source": [
    "y_model_S2a = model_S2a.sim(end_sim,start_date=start_calibration,warmup=0,N=n,\n",
    "                          draw_fcn=draw_sample_COVID19_SEIRD,samples=samples_dict)\n",
    "y_model_S2b = model_S2b.sim(end_sim,start_date=start_calibration,warmup=0,N=n,\n",
    "                          draw_fcn=draw_sample_COVID19_SEIRD,samples=samples_dict)\n",
    "y_model_S2c = model_S2c.sim(end_sim,start_date=start_calibration,warmup=0,N=n,\n",
    "                          draw_fcn=draw_sample_COVID19_SEIRD,samples=samples_dict)\n",
    "y_model_S2d = model_S2d.sim(end_sim,start_date=start_calibration,warmup=0,N=n,\n",
    "                          draw_fcn=draw_sample_COVID19_SEIRD,samples=samples_dict)\n",
    "y_model_S1 = model_S1.sim(end_sim,start_date=start_calibration,warmup=0,N=n,\n",
    "                          draw_fcn=draw_sample_COVID19_SEIRD,samples=samples_dict)"
   ]
  },
  {
   "cell_type": "code",
   "execution_count": null,
   "metadata": {
    "ExecuteTime": {
     "end_time": "2020-11-26T21:48:32.469532Z",
     "start_time": "2020-11-26T21:48:32.431925Z"
    },
    "hidden": true
   },
   "outputs": [],
   "source": [
    "# fig,ax = plt.subplots()\n",
    "# y_model_S1['E'].sum(dim='Nc'). plot(ax=ax, c='green', label='no vacc')\n",
    "# y_model_S2a['E'].sum(dim='Nc'). plot(ax=ax, c='blue', label='S2a')\n",
    "# plt.legend()"
   ]
  },
  {
   "cell_type": "markdown",
   "metadata": {
    "heading_collapsed": true
   },
   "source": [
    "## Scenario S3: First the most interactive, eff=0.7"
   ]
  },
  {
   "cell_type": "code",
   "execution_count": null,
   "metadata": {
    "ExecuteTime": {
     "end_time": "2020-11-27T17:50:47.243300Z",
     "start_time": "2020-11-27T17:50:46.932245Z"
    },
    "hidden": true
   },
   "outputs": [],
   "source": [
    "# Which age group has most contacts with all other age groups?\n",
    "Nc_total.sum(axis=1)"
   ]
  },
  {
   "cell_type": "code",
   "execution_count": null,
   "metadata": {
    "ExecuteTime": {
     "end_time": "2020-11-27T17:51:00.804213Z",
     "start_time": "2020-11-27T17:51:00.759246Z"
    },
    "hidden": true
   },
   "outputs": [],
   "source": [
    "order = list(contact_sums.sort_values('contacts', ascending=False).age_group)\n",
    "effectivity = 0.7\n",
    "daily=10000"
   ]
  },
  {
   "cell_type": "code",
   "execution_count": null,
   "metadata": {
    "ExecuteTime": {
     "end_time": "2020-11-27T17:51:04.576548Z",
     "start_time": "2020-11-27T17:51:04.534311Z"
    },
    "hidden": true
   },
   "outputs": [],
   "source": [
    "order"
   ]
  },
  {
   "cell_type": "code",
   "execution_count": null,
   "metadata": {
    "ExecuteTime": {
     "end_time": "2020-11-27T12:59:23.439723Z",
     "start_time": "2020-11-27T12:59:23.391849Z"
    },
    "hidden": true
   },
   "outputs": [],
   "source": [
    "vaccinated_prop = 0\n",
    "model_S3a = vaccin_model(vaccinated_prop, order, daily, effectivity, initial_states_sept, tdep_fun=google_lockdown)\n",
    "vaccinated_prop = 0.1\n",
    "model_S3b = vaccin_model(vaccinated_prop, order, daily, effectivity, initial_states_sept, tdep_fun=google_lockdown)\n",
    "vaccinated_prop = 0.3\n",
    "model_S3c = vaccin_model(vaccinated_prop, order, daily, effectivity, initial_states_sept, tdep_fun=google_lockdown)\n",
    "vaccinated_prop = 0.5\n",
    "model_S3d = vaccin_model(vaccinated_prop, order, daily, effectivity, initial_states_sept, tdep_fun=google_lockdown)"
   ]
  },
  {
   "cell_type": "code",
   "execution_count": null,
   "metadata": {
    "ExecuteTime": {
     "end_time": "2020-11-27T13:04:17.294851Z",
     "start_time": "2020-11-27T12:59:23.441750Z"
    },
    "hidden": true
   },
   "outputs": [],
   "source": [
    "y_model_S3a = model_S3a.sim(end_sim,start_date=start_calibration,warmup=0,N=n,\n",
    "                          draw_fcn=draw_sample_COVID19_SEIRD,samples=samples_dict)\n",
    "y_model_S3b = model_S3b.sim(end_sim,start_date=start_calibration,warmup=0,N=n,\n",
    "                          draw_fcn=draw_sample_COVID19_SEIRD,samples=samples_dict)\n",
    "y_model_S3c = model_S3c.sim(end_sim,start_date=start_calibration,warmup=0,N=n,\n",
    "                          draw_fcn=draw_sample_COVID19_SEIRD,samples=samples_dict)\n",
    "y_model_S3d = model_S3d.sim(end_sim,start_date=start_calibration,warmup=0,N=n,\n",
    "                          draw_fcn=draw_sample_COVID19_SEIRD,samples=samples_dict)\n",
    "y_model_S1 = model_S1.sim(end_sim,start_date=start_calibration,warmup=0,N=n,\n",
    "                          draw_fcn=draw_sample_COVID19_SEIRD,samples=samples_dict)"
   ]
  },
  {
   "cell_type": "markdown",
   "metadata": {},
   "source": [
    "## Scenario S4: Vaccination old to young, eff=0.9"
   ]
  },
  {
   "cell_type": "code",
   "execution_count": 42,
   "metadata": {
    "ExecuteTime": {
     "end_time": "2020-12-03T08:55:59.804431Z",
     "start_time": "2020-12-03T08:55:59.767723Z"
    }
   },
   "outputs": [],
   "source": [
    "order = [8,7,6,5,4,3,2,1,0]\n",
    "effectivity = 0.9\n",
    "daily=10000"
   ]
  },
  {
   "cell_type": "code",
   "execution_count": 43,
   "metadata": {
    "ExecuteTime": {
     "end_time": "2020-12-03T08:55:59.859346Z",
     "start_time": "2020-12-03T08:55:59.808114Z"
    }
   },
   "outputs": [],
   "source": [
    "vaccinated_prop = 0\n",
    "model_S4a = vaccin_model(vaccinated_prop, order, daily, effectivity, initial_states_sept, tdep_fun=google_lockdown)\n",
    "vaccinated_prop = 0.1\n",
    "model_S4b = vaccin_model(vaccinated_prop, order, daily, effectivity, initial_states_sept, tdep_fun=google_lockdown)\n",
    "vaccinated_prop = 0.3\n",
    "model_S4c = vaccin_model(vaccinated_prop, order, daily, effectivity, initial_states_sept, tdep_fun=google_lockdown)\n",
    "vaccinated_prop = 0.5\n",
    "model_S4d = vaccin_model(vaccinated_prop, order, daily, effectivity, initial_states_sept, tdep_fun=google_lockdown)"
   ]
  },
  {
   "cell_type": "code",
   "execution_count": 44,
   "metadata": {
    "ExecuteTime": {
     "end_time": "2020-12-03T08:56:24.782748Z",
     "start_time": "2020-12-03T08:55:59.863393Z"
    }
   },
   "outputs": [],
   "source": [
    "y_model_S4a = model_S4a.sim(end_sim,start_date=start_calibration,warmup=0,N=n,\n",
    "                          draw_fcn=draw_sample_COVID19_SEIRD,samples=samples_dict)\n",
    "y_model_S4b = model_S4b.sim(end_sim,start_date=start_calibration,warmup=0,N=n,\n",
    "                          draw_fcn=draw_sample_COVID19_SEIRD,samples=samples_dict)\n",
    "y_model_S4c = model_S4c.sim(end_sim,start_date=start_calibration,warmup=0,N=n,\n",
    "                          draw_fcn=draw_sample_COVID19_SEIRD,samples=samples_dict)\n",
    "y_model_S4d = model_S4d.sim(end_sim,start_date=start_calibration,warmup=0,N=n,\n",
    "                          draw_fcn=draw_sample_COVID19_SEIRD,samples=samples_dict)"
   ]
  },
  {
   "cell_type": "markdown",
   "metadata": {},
   "source": [
    "## Scenario S5: First the most mobile, eff=0.9"
   ]
  },
  {
   "cell_type": "code",
   "execution_count": 45,
   "metadata": {
    "ExecuteTime": {
     "end_time": "2020-12-03T08:56:24.835702Z",
     "start_time": "2020-12-03T08:56:24.785044Z"
    }
   },
   "outputs": [],
   "source": [
    "order = [2,3,4,5,6,7,8,1,0]\n",
    "effectivity = 0.9\n",
    "daily=10000"
   ]
  },
  {
   "cell_type": "code",
   "execution_count": 46,
   "metadata": {
    "ExecuteTime": {
     "end_time": "2020-12-03T08:56:24.883385Z",
     "start_time": "2020-12-03T08:56:24.838043Z"
    }
   },
   "outputs": [],
   "source": [
    "vaccinated_prop = 0\n",
    "model_S5a = vaccin_model(vaccinated_prop, order, daily, effectivity, initial_states_sept, tdep_fun=google_lockdown)\n",
    "vaccinated_prop = 0.1\n",
    "model_S5b = vaccin_model(vaccinated_prop, order, daily, effectivity, initial_states_sept, tdep_fun=google_lockdown)\n",
    "vaccinated_prop = 0.3\n",
    "model_S5c = vaccin_model(vaccinated_prop, order, daily, effectivity, initial_states_sept, tdep_fun=google_lockdown)\n",
    "vaccinated_prop = 0.5\n",
    "model_S5d = vaccin_model(vaccinated_prop, order, daily, effectivity, initial_states_sept, tdep_fun=google_lockdown)"
   ]
  },
  {
   "cell_type": "code",
   "execution_count": 47,
   "metadata": {
    "ExecuteTime": {
     "end_time": "2020-12-03T08:56:55.602866Z",
     "start_time": "2020-12-03T08:56:24.885727Z"
    }
   },
   "outputs": [],
   "source": [
    "y_model_S5a = model_S5a.sim(end_sim,start_date=start_calibration,warmup=0,N=n,\n",
    "                          draw_fcn=draw_sample_COVID19_SEIRD,samples=samples_dict)\n",
    "y_model_S5b = model_S5b.sim(end_sim,start_date=start_calibration,warmup=0,N=n,\n",
    "                          draw_fcn=draw_sample_COVID19_SEIRD,samples=samples_dict)\n",
    "y_model_S5c = model_S5c.sim(end_sim,start_date=start_calibration,warmup=0,N=n,\n",
    "                          draw_fcn=draw_sample_COVID19_SEIRD,samples=samples_dict)\n",
    "y_model_S5d = model_S5d.sim(end_sim,start_date=start_calibration,warmup=0,N=n,\n",
    "                          draw_fcn=draw_sample_COVID19_SEIRD,samples=samples_dict)"
   ]
  },
  {
   "cell_type": "markdown",
   "metadata": {},
   "source": [
    "## Figures lockdown-case S"
   ]
  },
  {
   "cell_type": "code",
   "execution_count": 48,
   "metadata": {
    "ExecuteTime": {
     "end_time": "2020-12-03T08:57:00.149944Z",
     "start_time": "2020-12-03T08:56:55.605447Z"
    },
    "scrolled": false
   },
   "outputs": [
    {
     "data": {
      "application/javascript": [
       "/* Put everything inside the global mpl namespace */\n",
       "window.mpl = {};\n",
       "\n",
       "\n",
       "mpl.get_websocket_type = function() {\n",
       "    if (typeof(WebSocket) !== 'undefined') {\n",
       "        return WebSocket;\n",
       "    } else if (typeof(MozWebSocket) !== 'undefined') {\n",
       "        return MozWebSocket;\n",
       "    } else {\n",
       "        alert('Your browser does not have WebSocket support. ' +\n",
       "              'Please try Chrome, Safari or Firefox ≥ 6. ' +\n",
       "              'Firefox 4 and 5 are also supported but you ' +\n",
       "              'have to enable WebSockets in about:config.');\n",
       "    };\n",
       "}\n",
       "\n",
       "mpl.figure = function(figure_id, websocket, ondownload, parent_element) {\n",
       "    this.id = figure_id;\n",
       "\n",
       "    this.ws = websocket;\n",
       "\n",
       "    this.supports_binary = (this.ws.binaryType != undefined);\n",
       "\n",
       "    if (!this.supports_binary) {\n",
       "        var warnings = document.getElementById(\"mpl-warnings\");\n",
       "        if (warnings) {\n",
       "            warnings.style.display = 'block';\n",
       "            warnings.textContent = (\n",
       "                \"This browser does not support binary websocket messages. \" +\n",
       "                    \"Performance may be slow.\");\n",
       "        }\n",
       "    }\n",
       "\n",
       "    this.imageObj = new Image();\n",
       "\n",
       "    this.context = undefined;\n",
       "    this.message = undefined;\n",
       "    this.canvas = undefined;\n",
       "    this.rubberband_canvas = undefined;\n",
       "    this.rubberband_context = undefined;\n",
       "    this.format_dropdown = undefined;\n",
       "\n",
       "    this.image_mode = 'full';\n",
       "\n",
       "    this.root = $('<div/>');\n",
       "    this._root_extra_style(this.root)\n",
       "    this.root.attr('style', 'display: inline-block');\n",
       "\n",
       "    $(parent_element).append(this.root);\n",
       "\n",
       "    this._init_header(this);\n",
       "    this._init_canvas(this);\n",
       "    this._init_toolbar(this);\n",
       "\n",
       "    var fig = this;\n",
       "\n",
       "    this.waiting = false;\n",
       "\n",
       "    this.ws.onopen =  function () {\n",
       "            fig.send_message(\"supports_binary\", {value: fig.supports_binary});\n",
       "            fig.send_message(\"send_image_mode\", {});\n",
       "            if (mpl.ratio != 1) {\n",
       "                fig.send_message(\"set_dpi_ratio\", {'dpi_ratio': mpl.ratio});\n",
       "            }\n",
       "            fig.send_message(\"refresh\", {});\n",
       "        }\n",
       "\n",
       "    this.imageObj.onload = function() {\n",
       "            if (fig.image_mode == 'full') {\n",
       "                // Full images could contain transparency (where diff images\n",
       "                // almost always do), so we need to clear the canvas so that\n",
       "                // there is no ghosting.\n",
       "                fig.context.clearRect(0, 0, fig.canvas.width, fig.canvas.height);\n",
       "            }\n",
       "            fig.context.drawImage(fig.imageObj, 0, 0);\n",
       "        };\n",
       "\n",
       "    this.imageObj.onunload = function() {\n",
       "        fig.ws.close();\n",
       "    }\n",
       "\n",
       "    this.ws.onmessage = this._make_on_message_function(this);\n",
       "\n",
       "    this.ondownload = ondownload;\n",
       "}\n",
       "\n",
       "mpl.figure.prototype._init_header = function() {\n",
       "    var titlebar = $(\n",
       "        '<div class=\"ui-dialog-titlebar ui-widget-header ui-corner-all ' +\n",
       "        'ui-helper-clearfix\"/>');\n",
       "    var titletext = $(\n",
       "        '<div class=\"ui-dialog-title\" style=\"width: 100%; ' +\n",
       "        'text-align: center; padding: 3px;\"/>');\n",
       "    titlebar.append(titletext)\n",
       "    this.root.append(titlebar);\n",
       "    this.header = titletext[0];\n",
       "}\n",
       "\n",
       "\n",
       "\n",
       "mpl.figure.prototype._canvas_extra_style = function(canvas_div) {\n",
       "\n",
       "}\n",
       "\n",
       "\n",
       "mpl.figure.prototype._root_extra_style = function(canvas_div) {\n",
       "\n",
       "}\n",
       "\n",
       "mpl.figure.prototype._init_canvas = function() {\n",
       "    var fig = this;\n",
       "\n",
       "    var canvas_div = $('<div/>');\n",
       "\n",
       "    canvas_div.attr('style', 'position: relative; clear: both; outline: 0');\n",
       "\n",
       "    function canvas_keyboard_event(event) {\n",
       "        return fig.key_event(event, event['data']);\n",
       "    }\n",
       "\n",
       "    canvas_div.keydown('key_press', canvas_keyboard_event);\n",
       "    canvas_div.keyup('key_release', canvas_keyboard_event);\n",
       "    this.canvas_div = canvas_div\n",
       "    this._canvas_extra_style(canvas_div)\n",
       "    this.root.append(canvas_div);\n",
       "\n",
       "    var canvas = $('<canvas/>');\n",
       "    canvas.addClass('mpl-canvas');\n",
       "    canvas.attr('style', \"left: 0; top: 0; z-index: 0; outline: 0\")\n",
       "\n",
       "    this.canvas = canvas[0];\n",
       "    this.context = canvas[0].getContext(\"2d\");\n",
       "\n",
       "    var backingStore = this.context.backingStorePixelRatio ||\n",
       "\tthis.context.webkitBackingStorePixelRatio ||\n",
       "\tthis.context.mozBackingStorePixelRatio ||\n",
       "\tthis.context.msBackingStorePixelRatio ||\n",
       "\tthis.context.oBackingStorePixelRatio ||\n",
       "\tthis.context.backingStorePixelRatio || 1;\n",
       "\n",
       "    mpl.ratio = (window.devicePixelRatio || 1) / backingStore;\n",
       "\n",
       "    var rubberband = $('<canvas/>');\n",
       "    rubberband.attr('style', \"position: absolute; left: 0; top: 0; z-index: 1;\")\n",
       "\n",
       "    var pass_mouse_events = true;\n",
       "\n",
       "    canvas_div.resizable({\n",
       "        start: function(event, ui) {\n",
       "            pass_mouse_events = false;\n",
       "        },\n",
       "        resize: function(event, ui) {\n",
       "            fig.request_resize(ui.size.width, ui.size.height);\n",
       "        },\n",
       "        stop: function(event, ui) {\n",
       "            pass_mouse_events = true;\n",
       "            fig.request_resize(ui.size.width, ui.size.height);\n",
       "        },\n",
       "    });\n",
       "\n",
       "    function mouse_event_fn(event) {\n",
       "        if (pass_mouse_events)\n",
       "            return fig.mouse_event(event, event['data']);\n",
       "    }\n",
       "\n",
       "    rubberband.mousedown('button_press', mouse_event_fn);\n",
       "    rubberband.mouseup('button_release', mouse_event_fn);\n",
       "    // Throttle sequential mouse events to 1 every 20ms.\n",
       "    rubberband.mousemove('motion_notify', mouse_event_fn);\n",
       "\n",
       "    rubberband.mouseenter('figure_enter', mouse_event_fn);\n",
       "    rubberband.mouseleave('figure_leave', mouse_event_fn);\n",
       "\n",
       "    canvas_div.on(\"wheel\", function (event) {\n",
       "        event = event.originalEvent;\n",
       "        event['data'] = 'scroll'\n",
       "        if (event.deltaY < 0) {\n",
       "            event.step = 1;\n",
       "        } else {\n",
       "            event.step = -1;\n",
       "        }\n",
       "        mouse_event_fn(event);\n",
       "    });\n",
       "\n",
       "    canvas_div.append(canvas);\n",
       "    canvas_div.append(rubberband);\n",
       "\n",
       "    this.rubberband = rubberband;\n",
       "    this.rubberband_canvas = rubberband[0];\n",
       "    this.rubberband_context = rubberband[0].getContext(\"2d\");\n",
       "    this.rubberband_context.strokeStyle = \"#000000\";\n",
       "\n",
       "    this._resize_canvas = function(width, height) {\n",
       "        // Keep the size of the canvas, canvas container, and rubber band\n",
       "        // canvas in synch.\n",
       "        canvas_div.css('width', width)\n",
       "        canvas_div.css('height', height)\n",
       "\n",
       "        canvas.attr('width', width * mpl.ratio);\n",
       "        canvas.attr('height', height * mpl.ratio);\n",
       "        canvas.attr('style', 'width: ' + width + 'px; height: ' + height + 'px;');\n",
       "\n",
       "        rubberband.attr('width', width);\n",
       "        rubberband.attr('height', height);\n",
       "    }\n",
       "\n",
       "    // Set the figure to an initial 600x600px, this will subsequently be updated\n",
       "    // upon first draw.\n",
       "    this._resize_canvas(600, 600);\n",
       "\n",
       "    // Disable right mouse context menu.\n",
       "    $(this.rubberband_canvas).bind(\"contextmenu\",function(e){\n",
       "        return false;\n",
       "    });\n",
       "\n",
       "    function set_focus () {\n",
       "        canvas.focus();\n",
       "        canvas_div.focus();\n",
       "    }\n",
       "\n",
       "    window.setTimeout(set_focus, 100);\n",
       "}\n",
       "\n",
       "mpl.figure.prototype._init_toolbar = function() {\n",
       "    var fig = this;\n",
       "\n",
       "    var nav_element = $('<div/>');\n",
       "    nav_element.attr('style', 'width: 100%');\n",
       "    this.root.append(nav_element);\n",
       "\n",
       "    // Define a callback function for later on.\n",
       "    function toolbar_event(event) {\n",
       "        return fig.toolbar_button_onclick(event['data']);\n",
       "    }\n",
       "    function toolbar_mouse_event(event) {\n",
       "        return fig.toolbar_button_onmouseover(event['data']);\n",
       "    }\n",
       "\n",
       "    for(var toolbar_ind in mpl.toolbar_items) {\n",
       "        var name = mpl.toolbar_items[toolbar_ind][0];\n",
       "        var tooltip = mpl.toolbar_items[toolbar_ind][1];\n",
       "        var image = mpl.toolbar_items[toolbar_ind][2];\n",
       "        var method_name = mpl.toolbar_items[toolbar_ind][3];\n",
       "\n",
       "        if (!name) {\n",
       "            // put a spacer in here.\n",
       "            continue;\n",
       "        }\n",
       "        var button = $('<button/>');\n",
       "        button.addClass('ui-button ui-widget ui-state-default ui-corner-all ' +\n",
       "                        'ui-button-icon-only');\n",
       "        button.attr('role', 'button');\n",
       "        button.attr('aria-disabled', 'false');\n",
       "        button.click(method_name, toolbar_event);\n",
       "        button.mouseover(tooltip, toolbar_mouse_event);\n",
       "\n",
       "        var icon_img = $('<span/>');\n",
       "        icon_img.addClass('ui-button-icon-primary ui-icon');\n",
       "        icon_img.addClass(image);\n",
       "        icon_img.addClass('ui-corner-all');\n",
       "\n",
       "        var tooltip_span = $('<span/>');\n",
       "        tooltip_span.addClass('ui-button-text');\n",
       "        tooltip_span.html(tooltip);\n",
       "\n",
       "        button.append(icon_img);\n",
       "        button.append(tooltip_span);\n",
       "\n",
       "        nav_element.append(button);\n",
       "    }\n",
       "\n",
       "    var fmt_picker_span = $('<span/>');\n",
       "\n",
       "    var fmt_picker = $('<select/>');\n",
       "    fmt_picker.addClass('mpl-toolbar-option ui-widget ui-widget-content');\n",
       "    fmt_picker_span.append(fmt_picker);\n",
       "    nav_element.append(fmt_picker_span);\n",
       "    this.format_dropdown = fmt_picker[0];\n",
       "\n",
       "    for (var ind in mpl.extensions) {\n",
       "        var fmt = mpl.extensions[ind];\n",
       "        var option = $(\n",
       "            '<option/>', {selected: fmt === mpl.default_extension}).html(fmt);\n",
       "        fmt_picker.append(option);\n",
       "    }\n",
       "\n",
       "    // Add hover states to the ui-buttons\n",
       "    $( \".ui-button\" ).hover(\n",
       "        function() { $(this).addClass(\"ui-state-hover\");},\n",
       "        function() { $(this).removeClass(\"ui-state-hover\");}\n",
       "    );\n",
       "\n",
       "    var status_bar = $('<span class=\"mpl-message\"/>');\n",
       "    nav_element.append(status_bar);\n",
       "    this.message = status_bar[0];\n",
       "}\n",
       "\n",
       "mpl.figure.prototype.request_resize = function(x_pixels, y_pixels) {\n",
       "    // Request matplotlib to resize the figure. Matplotlib will then trigger a resize in the client,\n",
       "    // which will in turn request a refresh of the image.\n",
       "    this.send_message('resize', {'width': x_pixels, 'height': y_pixels});\n",
       "}\n",
       "\n",
       "mpl.figure.prototype.send_message = function(type, properties) {\n",
       "    properties['type'] = type;\n",
       "    properties['figure_id'] = this.id;\n",
       "    this.ws.send(JSON.stringify(properties));\n",
       "}\n",
       "\n",
       "mpl.figure.prototype.send_draw_message = function() {\n",
       "    if (!this.waiting) {\n",
       "        this.waiting = true;\n",
       "        this.ws.send(JSON.stringify({type: \"draw\", figure_id: this.id}));\n",
       "    }\n",
       "}\n",
       "\n",
       "\n",
       "mpl.figure.prototype.handle_save = function(fig, msg) {\n",
       "    var format_dropdown = fig.format_dropdown;\n",
       "    var format = format_dropdown.options[format_dropdown.selectedIndex].value;\n",
       "    fig.ondownload(fig, format);\n",
       "}\n",
       "\n",
       "\n",
       "mpl.figure.prototype.handle_resize = function(fig, msg) {\n",
       "    var size = msg['size'];\n",
       "    if (size[0] != fig.canvas.width || size[1] != fig.canvas.height) {\n",
       "        fig._resize_canvas(size[0], size[1]);\n",
       "        fig.send_message(\"refresh\", {});\n",
       "    };\n",
       "}\n",
       "\n",
       "mpl.figure.prototype.handle_rubberband = function(fig, msg) {\n",
       "    var x0 = msg['x0'] / mpl.ratio;\n",
       "    var y0 = (fig.canvas.height - msg['y0']) / mpl.ratio;\n",
       "    var x1 = msg['x1'] / mpl.ratio;\n",
       "    var y1 = (fig.canvas.height - msg['y1']) / mpl.ratio;\n",
       "    x0 = Math.floor(x0) + 0.5;\n",
       "    y0 = Math.floor(y0) + 0.5;\n",
       "    x1 = Math.floor(x1) + 0.5;\n",
       "    y1 = Math.floor(y1) + 0.5;\n",
       "    var min_x = Math.min(x0, x1);\n",
       "    var min_y = Math.min(y0, y1);\n",
       "    var width = Math.abs(x1 - x0);\n",
       "    var height = Math.abs(y1 - y0);\n",
       "\n",
       "    fig.rubberband_context.clearRect(\n",
       "        0, 0, fig.canvas.width / mpl.ratio, fig.canvas.height / mpl.ratio);\n",
       "\n",
       "    fig.rubberband_context.strokeRect(min_x, min_y, width, height);\n",
       "}\n",
       "\n",
       "mpl.figure.prototype.handle_figure_label = function(fig, msg) {\n",
       "    // Updates the figure title.\n",
       "    fig.header.textContent = msg['label'];\n",
       "}\n",
       "\n",
       "mpl.figure.prototype.handle_cursor = function(fig, msg) {\n",
       "    var cursor = msg['cursor'];\n",
       "    switch(cursor)\n",
       "    {\n",
       "    case 0:\n",
       "        cursor = 'pointer';\n",
       "        break;\n",
       "    case 1:\n",
       "        cursor = 'default';\n",
       "        break;\n",
       "    case 2:\n",
       "        cursor = 'crosshair';\n",
       "        break;\n",
       "    case 3:\n",
       "        cursor = 'move';\n",
       "        break;\n",
       "    }\n",
       "    fig.rubberband_canvas.style.cursor = cursor;\n",
       "}\n",
       "\n",
       "mpl.figure.prototype.handle_message = function(fig, msg) {\n",
       "    fig.message.textContent = msg['message'];\n",
       "}\n",
       "\n",
       "mpl.figure.prototype.handle_draw = function(fig, msg) {\n",
       "    // Request the server to send over a new figure.\n",
       "    fig.send_draw_message();\n",
       "}\n",
       "\n",
       "mpl.figure.prototype.handle_image_mode = function(fig, msg) {\n",
       "    fig.image_mode = msg['mode'];\n",
       "}\n",
       "\n",
       "mpl.figure.prototype.updated_canvas_event = function() {\n",
       "    // Called whenever the canvas gets updated.\n",
       "    this.send_message(\"ack\", {});\n",
       "}\n",
       "\n",
       "// A function to construct a web socket function for onmessage handling.\n",
       "// Called in the figure constructor.\n",
       "mpl.figure.prototype._make_on_message_function = function(fig) {\n",
       "    return function socket_on_message(evt) {\n",
       "        if (evt.data instanceof Blob) {\n",
       "            /* FIXME: We get \"Resource interpreted as Image but\n",
       "             * transferred with MIME type text/plain:\" errors on\n",
       "             * Chrome.  But how to set the MIME type?  It doesn't seem\n",
       "             * to be part of the websocket stream */\n",
       "            evt.data.type = \"image/png\";\n",
       "\n",
       "            /* Free the memory for the previous frames */\n",
       "            if (fig.imageObj.src) {\n",
       "                (window.URL || window.webkitURL).revokeObjectURL(\n",
       "                    fig.imageObj.src);\n",
       "            }\n",
       "\n",
       "            fig.imageObj.src = (window.URL || window.webkitURL).createObjectURL(\n",
       "                evt.data);\n",
       "            fig.updated_canvas_event();\n",
       "            fig.waiting = false;\n",
       "            return;\n",
       "        }\n",
       "        else if (typeof evt.data === 'string' && evt.data.slice(0, 21) == \"data:image/png;base64\") {\n",
       "            fig.imageObj.src = evt.data;\n",
       "            fig.updated_canvas_event();\n",
       "            fig.waiting = false;\n",
       "            return;\n",
       "        }\n",
       "\n",
       "        var msg = JSON.parse(evt.data);\n",
       "        var msg_type = msg['type'];\n",
       "\n",
       "        // Call the  \"handle_{type}\" callback, which takes\n",
       "        // the figure and JSON message as its only arguments.\n",
       "        try {\n",
       "            var callback = fig[\"handle_\" + msg_type];\n",
       "        } catch (e) {\n",
       "            console.log(\"No handler for the '\" + msg_type + \"' message type: \", msg);\n",
       "            return;\n",
       "        }\n",
       "\n",
       "        if (callback) {\n",
       "            try {\n",
       "                // console.log(\"Handling '\" + msg_type + \"' message: \", msg);\n",
       "                callback(fig, msg);\n",
       "            } catch (e) {\n",
       "                console.log(\"Exception inside the 'handler_\" + msg_type + \"' callback:\", e, e.stack, msg);\n",
       "            }\n",
       "        }\n",
       "    };\n",
       "}\n",
       "\n",
       "// from http://stackoverflow.com/questions/1114465/getting-mouse-location-in-canvas\n",
       "mpl.findpos = function(e) {\n",
       "    //this section is from http://www.quirksmode.org/js/events_properties.html\n",
       "    var targ;\n",
       "    if (!e)\n",
       "        e = window.event;\n",
       "    if (e.target)\n",
       "        targ = e.target;\n",
       "    else if (e.srcElement)\n",
       "        targ = e.srcElement;\n",
       "    if (targ.nodeType == 3) // defeat Safari bug\n",
       "        targ = targ.parentNode;\n",
       "\n",
       "    // jQuery normalizes the pageX and pageY\n",
       "    // pageX,Y are the mouse positions relative to the document\n",
       "    // offset() returns the position of the element relative to the document\n",
       "    var x = e.pageX - $(targ).offset().left;\n",
       "    var y = e.pageY - $(targ).offset().top;\n",
       "\n",
       "    return {\"x\": x, \"y\": y};\n",
       "};\n",
       "\n",
       "/*\n",
       " * return a copy of an object with only non-object keys\n",
       " * we need this to avoid circular references\n",
       " * http://stackoverflow.com/a/24161582/3208463\n",
       " */\n",
       "function simpleKeys (original) {\n",
       "  return Object.keys(original).reduce(function (obj, key) {\n",
       "    if (typeof original[key] !== 'object')\n",
       "        obj[key] = original[key]\n",
       "    return obj;\n",
       "  }, {});\n",
       "}\n",
       "\n",
       "mpl.figure.prototype.mouse_event = function(event, name) {\n",
       "    var canvas_pos = mpl.findpos(event)\n",
       "\n",
       "    if (name === 'button_press')\n",
       "    {\n",
       "        this.canvas.focus();\n",
       "        this.canvas_div.focus();\n",
       "    }\n",
       "\n",
       "    var x = canvas_pos.x * mpl.ratio;\n",
       "    var y = canvas_pos.y * mpl.ratio;\n",
       "\n",
       "    this.send_message(name, {x: x, y: y, button: event.button,\n",
       "                             step: event.step,\n",
       "                             guiEvent: simpleKeys(event)});\n",
       "\n",
       "    /* This prevents the web browser from automatically changing to\n",
       "     * the text insertion cursor when the button is pressed.  We want\n",
       "     * to control all of the cursor setting manually through the\n",
       "     * 'cursor' event from matplotlib */\n",
       "    event.preventDefault();\n",
       "    return false;\n",
       "}\n",
       "\n",
       "mpl.figure.prototype._key_event_extra = function(event, name) {\n",
       "    // Handle any extra behaviour associated with a key event\n",
       "}\n",
       "\n",
       "mpl.figure.prototype.key_event = function(event, name) {\n",
       "\n",
       "    // Prevent repeat events\n",
       "    if (name == 'key_press')\n",
       "    {\n",
       "        if (event.which === this._key)\n",
       "            return;\n",
       "        else\n",
       "            this._key = event.which;\n",
       "    }\n",
       "    if (name == 'key_release')\n",
       "        this._key = null;\n",
       "\n",
       "    var value = '';\n",
       "    if (event.ctrlKey && event.which != 17)\n",
       "        value += \"ctrl+\";\n",
       "    if (event.altKey && event.which != 18)\n",
       "        value += \"alt+\";\n",
       "    if (event.shiftKey && event.which != 16)\n",
       "        value += \"shift+\";\n",
       "\n",
       "    value += 'k';\n",
       "    value += event.which.toString();\n",
       "\n",
       "    this._key_event_extra(event, name);\n",
       "\n",
       "    this.send_message(name, {key: value,\n",
       "                             guiEvent: simpleKeys(event)});\n",
       "    return false;\n",
       "}\n",
       "\n",
       "mpl.figure.prototype.toolbar_button_onclick = function(name) {\n",
       "    if (name == 'download') {\n",
       "        this.handle_save(this, null);\n",
       "    } else {\n",
       "        this.send_message(\"toolbar_button\", {name: name});\n",
       "    }\n",
       "};\n",
       "\n",
       "mpl.figure.prototype.toolbar_button_onmouseover = function(tooltip) {\n",
       "    this.message.textContent = tooltip;\n",
       "};\n",
       "mpl.toolbar_items = [[\"Home\", \"Reset original view\", \"fa fa-home icon-home\", \"home\"], [\"Back\", \"Back to previous view\", \"fa fa-arrow-left icon-arrow-left\", \"back\"], [\"Forward\", \"Forward to next view\", \"fa fa-arrow-right icon-arrow-right\", \"forward\"], [\"\", \"\", \"\", \"\"], [\"Pan\", \"Pan axes with left mouse, zoom with right\", \"fa fa-arrows icon-move\", \"pan\"], [\"Zoom\", \"Zoom to rectangle\", \"fa fa-square-o icon-check-empty\", \"zoom\"], [\"\", \"\", \"\", \"\"], [\"Download\", \"Download plot\", \"fa fa-floppy-o icon-save\", \"download\"]];\n",
       "\n",
       "mpl.extensions = [\"eps\", \"jpeg\", \"pdf\", \"png\", \"ps\", \"raw\", \"svg\", \"tif\"];\n",
       "\n",
       "mpl.default_extension = \"png\";var comm_websocket_adapter = function(comm) {\n",
       "    // Create a \"websocket\"-like object which calls the given IPython comm\n",
       "    // object with the appropriate methods. Currently this is a non binary\n",
       "    // socket, so there is still some room for performance tuning.\n",
       "    var ws = {};\n",
       "\n",
       "    ws.close = function() {\n",
       "        comm.close()\n",
       "    };\n",
       "    ws.send = function(m) {\n",
       "        //console.log('sending', m);\n",
       "        comm.send(m);\n",
       "    };\n",
       "    // Register the callback with on_msg.\n",
       "    comm.on_msg(function(msg) {\n",
       "        //console.log('receiving', msg['content']['data'], msg);\n",
       "        // Pass the mpl event to the overridden (by mpl) onmessage function.\n",
       "        ws.onmessage(msg['content']['data'])\n",
       "    });\n",
       "    return ws;\n",
       "}\n",
       "\n",
       "mpl.mpl_figure_comm = function(comm, msg) {\n",
       "    // This is the function which gets called when the mpl process\n",
       "    // starts-up an IPython Comm through the \"matplotlib\" channel.\n",
       "\n",
       "    var id = msg.content.data.id;\n",
       "    // Get hold of the div created by the display call when the Comm\n",
       "    // socket was opened in Python.\n",
       "    var element = $(\"#\" + id);\n",
       "    var ws_proxy = comm_websocket_adapter(comm)\n",
       "\n",
       "    function ondownload(figure, format) {\n",
       "        window.open(figure.imageObj.src);\n",
       "    }\n",
       "\n",
       "    var fig = new mpl.figure(id, ws_proxy,\n",
       "                           ondownload,\n",
       "                           element.get(0));\n",
       "\n",
       "    // Call onopen now - mpl needs it, as it is assuming we've passed it a real\n",
       "    // web socket which is closed, not our websocket->open comm proxy.\n",
       "    ws_proxy.onopen();\n",
       "\n",
       "    fig.parent_element = element.get(0);\n",
       "    fig.cell_info = mpl.find_output_cell(\"<div id='\" + id + \"'></div>\");\n",
       "    if (!fig.cell_info) {\n",
       "        console.error(\"Failed to find cell for figure\", id, fig);\n",
       "        return;\n",
       "    }\n",
       "\n",
       "    var output_index = fig.cell_info[2]\n",
       "    var cell = fig.cell_info[0];\n",
       "\n",
       "};\n",
       "\n",
       "mpl.figure.prototype.handle_close = function(fig, msg) {\n",
       "    var width = fig.canvas.width/mpl.ratio\n",
       "    fig.root.unbind('remove')\n",
       "\n",
       "    // Update the output cell to use the data from the current canvas.\n",
       "    fig.push_to_output();\n",
       "    var dataURL = fig.canvas.toDataURL();\n",
       "    // Re-enable the keyboard manager in IPython - without this line, in FF,\n",
       "    // the notebook keyboard shortcuts fail.\n",
       "    IPython.keyboard_manager.enable()\n",
       "    $(fig.parent_element).html('<img src=\"' + dataURL + '\" width=\"' + width + '\">');\n",
       "    fig.close_ws(fig, msg);\n",
       "}\n",
       "\n",
       "mpl.figure.prototype.close_ws = function(fig, msg){\n",
       "    fig.send_message('closing', msg);\n",
       "    // fig.ws.close()\n",
       "}\n",
       "\n",
       "mpl.figure.prototype.push_to_output = function(remove_interactive) {\n",
       "    // Turn the data on the canvas into data in the output cell.\n",
       "    var width = this.canvas.width/mpl.ratio\n",
       "    var dataURL = this.canvas.toDataURL();\n",
       "    this.cell_info[1]['text/html'] = '<img src=\"' + dataURL + '\" width=\"' + width + '\">';\n",
       "}\n",
       "\n",
       "mpl.figure.prototype.updated_canvas_event = function() {\n",
       "    // Tell IPython that the notebook contents must change.\n",
       "    IPython.notebook.set_dirty(true);\n",
       "    this.send_message(\"ack\", {});\n",
       "    var fig = this;\n",
       "    // Wait a second, then push the new image to the DOM so\n",
       "    // that it is saved nicely (might be nice to debounce this).\n",
       "    setTimeout(function () { fig.push_to_output() }, 1000);\n",
       "}\n",
       "\n",
       "mpl.figure.prototype._init_toolbar = function() {\n",
       "    var fig = this;\n",
       "\n",
       "    var nav_element = $('<div/>');\n",
       "    nav_element.attr('style', 'width: 100%');\n",
       "    this.root.append(nav_element);\n",
       "\n",
       "    // Define a callback function for later on.\n",
       "    function toolbar_event(event) {\n",
       "        return fig.toolbar_button_onclick(event['data']);\n",
       "    }\n",
       "    function toolbar_mouse_event(event) {\n",
       "        return fig.toolbar_button_onmouseover(event['data']);\n",
       "    }\n",
       "\n",
       "    for(var toolbar_ind in mpl.toolbar_items){\n",
       "        var name = mpl.toolbar_items[toolbar_ind][0];\n",
       "        var tooltip = mpl.toolbar_items[toolbar_ind][1];\n",
       "        var image = mpl.toolbar_items[toolbar_ind][2];\n",
       "        var method_name = mpl.toolbar_items[toolbar_ind][3];\n",
       "\n",
       "        if (!name) { continue; };\n",
       "\n",
       "        var button = $('<button class=\"btn btn-default\" href=\"#\" title=\"' + name + '\"><i class=\"fa ' + image + ' fa-lg\"></i></button>');\n",
       "        button.click(method_name, toolbar_event);\n",
       "        button.mouseover(tooltip, toolbar_mouse_event);\n",
       "        nav_element.append(button);\n",
       "    }\n",
       "\n",
       "    // Add the status bar.\n",
       "    var status_bar = $('<span class=\"mpl-message\" style=\"text-align:right; float: right;\"/>');\n",
       "    nav_element.append(status_bar);\n",
       "    this.message = status_bar[0];\n",
       "\n",
       "    // Add the close button to the window.\n",
       "    var buttongrp = $('<div class=\"btn-group inline pull-right\"></div>');\n",
       "    var button = $('<button class=\"btn btn-mini btn-primary\" href=\"#\" title=\"Stop Interaction\"><i class=\"fa fa-power-off icon-remove icon-large\"></i></button>');\n",
       "    button.click(function (evt) { fig.handle_close(fig, {}); } );\n",
       "    button.mouseover('Stop Interaction', toolbar_mouse_event);\n",
       "    buttongrp.append(button);\n",
       "    var titlebar = this.root.find($('.ui-dialog-titlebar'));\n",
       "    titlebar.prepend(buttongrp);\n",
       "}\n",
       "\n",
       "mpl.figure.prototype._root_extra_style = function(el){\n",
       "    var fig = this\n",
       "    el.on(\"remove\", function(){\n",
       "\tfig.close_ws(fig, {});\n",
       "    });\n",
       "}\n",
       "\n",
       "mpl.figure.prototype._canvas_extra_style = function(el){\n",
       "    // this is important to make the div 'focusable\n",
       "    el.attr('tabindex', 0)\n",
       "    // reach out to IPython and tell the keyboard manager to turn it's self\n",
       "    // off when our div gets focus\n",
       "\n",
       "    // location in version 3\n",
       "    if (IPython.notebook.keyboard_manager) {\n",
       "        IPython.notebook.keyboard_manager.register_events(el);\n",
       "    }\n",
       "    else {\n",
       "        // location in version 2\n",
       "        IPython.keyboard_manager.register_events(el);\n",
       "    }\n",
       "\n",
       "}\n",
       "\n",
       "mpl.figure.prototype._key_event_extra = function(event, name) {\n",
       "    var manager = IPython.notebook.keyboard_manager;\n",
       "    if (!manager)\n",
       "        manager = IPython.keyboard_manager;\n",
       "\n",
       "    // Check for shift+enter\n",
       "    if (event.shiftKey && event.which == 13) {\n",
       "        this.canvas_div.blur();\n",
       "        // select the cell after this one\n",
       "        var index = IPython.notebook.find_cell_index(this.cell_info[0]);\n",
       "        IPython.notebook.select(index + 1);\n",
       "    }\n",
       "}\n",
       "\n",
       "mpl.figure.prototype.handle_save = function(fig, msg) {\n",
       "    fig.ondownload(fig, null);\n",
       "}\n",
       "\n",
       "\n",
       "mpl.find_output_cell = function(html_output) {\n",
       "    // Return the cell and output element which can be found *uniquely* in the notebook.\n",
       "    // Note - this is a bit hacky, but it is done because the \"notebook_saving.Notebook\"\n",
       "    // IPython event is triggered only after the cells have been serialised, which for\n",
       "    // our purposes (turning an active figure into a static one), is too late.\n",
       "    var cells = IPython.notebook.get_cells();\n",
       "    var ncells = cells.length;\n",
       "    for (var i=0; i<ncells; i++) {\n",
       "        var cell = cells[i];\n",
       "        if (cell.cell_type === 'code'){\n",
       "            for (var j=0; j<cell.output_area.outputs.length; j++) {\n",
       "                var data = cell.output_area.outputs[j];\n",
       "                if (data.data) {\n",
       "                    // IPython >= 3 moved mimebundle to data attribute of output\n",
       "                    data = data.data;\n",
       "                }\n",
       "                if (data['text/html'] == html_output) {\n",
       "                    return [cell, data, j];\n",
       "                }\n",
       "            }\n",
       "        }\n",
       "    }\n",
       "}\n",
       "\n",
       "// Register the function which deals with the matplotlib target/channel.\n",
       "// The kernel may be null if the page has been refreshed.\n",
       "if (IPython.notebook.kernel != null) {\n",
       "    IPython.notebook.kernel.comm_manager.register_target('matplotlib', mpl.mpl_figure_comm);\n",
       "}\n"
      ],
      "text/plain": [
       "<IPython.core.display.Javascript object>"
      ]
     },
     "metadata": {},
     "output_type": "display_data"
    },
    {
     "data": {
      "text/html": [
       "<img src=\"data:image/png;base64,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\" width=\"1000\">"
      ],
      "text/plain": [
       "<IPython.core.display.HTML object>"
      ]
     },
     "metadata": {},
     "output_type": "display_data"
    },
    {
     "data": {
      "text/plain": [
       "Text(0.5, 0.01, 'Time')"
      ]
     },
     "execution_count": 48,
     "metadata": {},
     "output_type": "execute_result"
    }
   ],
   "source": [
    "fig,(ax3,ax4) = plt.subplots(figsize=(10,5), nrows=1, ncols=2, sharex=True, sharey=True)\n",
    "\n",
    "ax3.plot('DATE','H_in',data=df_sciensano[start_calibration:end_sim].reset_index(), marker='.', \n",
    "         c='gray', label='data', lw=0, markersize=9, alpha=0.3, markeredgecolor='none')\n",
    "plot_band(ax3, y_model_S1, 'H_in', 'gray', 'no vaccination')\n",
    "plot_band(ax3, y_model_S4a, 'H_in', 'C0', label_0)\n",
    "plot_band(ax3, y_model_S4b, 'H_in', 'C1', label_10)\n",
    "plot_band(ax3, y_model_S4c, 'H_in', 'C2', label_30)\n",
    "plot_band(ax3, y_model_S4d, 'H_in', 'C3', label_50)\n",
    "\n",
    "ax3.set_xlim(start_x, end_x)\n",
    "ax3.set_xticks(pd.date_range(start_x, end_grid, periods=4))\n",
    "ax3.xaxis.set_tick_params(which='both', labelbottom=True)\n",
    "ax3.set_title('Vaccination according to age')\n",
    "\n",
    "ax4.plot('DATE','H_in',data=df_sciensano[start_calibration:end_sim].reset_index(), marker='.', \n",
    "         c='gray', label='data', lw=0, markersize=9, alpha=0.3, markeredgecolor='none')\n",
    "plot_band(ax4, y_model_S1, 'H_in', 'gray', 'no vaccination')\n",
    "plot_band(ax4, y_model_S5a, 'H_in', 'C0', label_0)\n",
    "plot_band(ax4, y_model_S5b, 'H_in', 'C1', label_10)\n",
    "plot_band(ax4, y_model_S5c, 'H_in', 'C2', label_30)\n",
    "plot_band(ax4, y_model_S5d, 'H_in', 'C3', label_50)\n",
    "\n",
    "ax4.set_xlim(start_x, end_x)\n",
    "N_days = int((pd.to_datetime(end_grid) - pd.to_datetime(start_x))/pd.Timedelta('1D'))\n",
    "ax4.set_xticks(pd.date_range(start_x, end_grid, periods=4))\n",
    "#ax4.set_xticklabels(np.arange(0,N_days,step=30))\n",
    "ax4.set_yticklabels('')\n",
    "\n",
    "ax4.xaxis.set_tick_params(which='both', labelbottom=True)\n",
    "ax4.set_title('Vaccination according to number of contacts')\n",
    "\n",
    "# Shrink current axis by 20%\n",
    "box = ax3.get_position()\n",
    "ax3.set_position([box.x0, box.y0, box.width, box.height*0.8])\n",
    "box = ax4.get_position()\n",
    "ax4.set_position([box.x0, box.y0, box.width, box.height*0.8])\n",
    "\n",
    "ax3.legend(loc='upper center', bbox_to_anchor=(1,1.4), ncol=3)\n",
    "ax3.set_ylim(0,800)\n",
    "fig.text(0, 0.5, 'Number of new hospitalizations', va='center', rotation='vertical')\n",
    "fig.text(0.5, 0.01, 'Time', va='center', rotation='horizontal')\n",
    "\n",
    "#fig.savefig('../../results/vaccinations/national/vaccination_wave2_hosp_current_measures.pdf')"
   ]
  },
  {
   "cell_type": "code",
   "execution_count": 55,
   "metadata": {
    "ExecuteTime": {
     "end_time": "2020-12-03T09:02:08.571042Z",
     "start_time": "2020-12-03T09:02:03.898559Z"
    },
    "scrolled": false
   },
   "outputs": [
    {
     "data": {
      "application/javascript": [
       "/* Put everything inside the global mpl namespace */\n",
       "window.mpl = {};\n",
       "\n",
       "\n",
       "mpl.get_websocket_type = function() {\n",
       "    if (typeof(WebSocket) !== 'undefined') {\n",
       "        return WebSocket;\n",
       "    } else if (typeof(MozWebSocket) !== 'undefined') {\n",
       "        return MozWebSocket;\n",
       "    } else {\n",
       "        alert('Your browser does not have WebSocket support. ' +\n",
       "              'Please try Chrome, Safari or Firefox ≥ 6. ' +\n",
       "              'Firefox 4 and 5 are also supported but you ' +\n",
       "              'have to enable WebSockets in about:config.');\n",
       "    };\n",
       "}\n",
       "\n",
       "mpl.figure = function(figure_id, websocket, ondownload, parent_element) {\n",
       "    this.id = figure_id;\n",
       "\n",
       "    this.ws = websocket;\n",
       "\n",
       "    this.supports_binary = (this.ws.binaryType != undefined);\n",
       "\n",
       "    if (!this.supports_binary) {\n",
       "        var warnings = document.getElementById(\"mpl-warnings\");\n",
       "        if (warnings) {\n",
       "            warnings.style.display = 'block';\n",
       "            warnings.textContent = (\n",
       "                \"This browser does not support binary websocket messages. \" +\n",
       "                    \"Performance may be slow.\");\n",
       "        }\n",
       "    }\n",
       "\n",
       "    this.imageObj = new Image();\n",
       "\n",
       "    this.context = undefined;\n",
       "    this.message = undefined;\n",
       "    this.canvas = undefined;\n",
       "    this.rubberband_canvas = undefined;\n",
       "    this.rubberband_context = undefined;\n",
       "    this.format_dropdown = undefined;\n",
       "\n",
       "    this.image_mode = 'full';\n",
       "\n",
       "    this.root = $('<div/>');\n",
       "    this._root_extra_style(this.root)\n",
       "    this.root.attr('style', 'display: inline-block');\n",
       "\n",
       "    $(parent_element).append(this.root);\n",
       "\n",
       "    this._init_header(this);\n",
       "    this._init_canvas(this);\n",
       "    this._init_toolbar(this);\n",
       "\n",
       "    var fig = this;\n",
       "\n",
       "    this.waiting = false;\n",
       "\n",
       "    this.ws.onopen =  function () {\n",
       "            fig.send_message(\"supports_binary\", {value: fig.supports_binary});\n",
       "            fig.send_message(\"send_image_mode\", {});\n",
       "            if (mpl.ratio != 1) {\n",
       "                fig.send_message(\"set_dpi_ratio\", {'dpi_ratio': mpl.ratio});\n",
       "            }\n",
       "            fig.send_message(\"refresh\", {});\n",
       "        }\n",
       "\n",
       "    this.imageObj.onload = function() {\n",
       "            if (fig.image_mode == 'full') {\n",
       "                // Full images could contain transparency (where diff images\n",
       "                // almost always do), so we need to clear the canvas so that\n",
       "                // there is no ghosting.\n",
       "                fig.context.clearRect(0, 0, fig.canvas.width, fig.canvas.height);\n",
       "            }\n",
       "            fig.context.drawImage(fig.imageObj, 0, 0);\n",
       "        };\n",
       "\n",
       "    this.imageObj.onunload = function() {\n",
       "        fig.ws.close();\n",
       "    }\n",
       "\n",
       "    this.ws.onmessage = this._make_on_message_function(this);\n",
       "\n",
       "    this.ondownload = ondownload;\n",
       "}\n",
       "\n",
       "mpl.figure.prototype._init_header = function() {\n",
       "    var titlebar = $(\n",
       "        '<div class=\"ui-dialog-titlebar ui-widget-header ui-corner-all ' +\n",
       "        'ui-helper-clearfix\"/>');\n",
       "    var titletext = $(\n",
       "        '<div class=\"ui-dialog-title\" style=\"width: 100%; ' +\n",
       "        'text-align: center; padding: 3px;\"/>');\n",
       "    titlebar.append(titletext)\n",
       "    this.root.append(titlebar);\n",
       "    this.header = titletext[0];\n",
       "}\n",
       "\n",
       "\n",
       "\n",
       "mpl.figure.prototype._canvas_extra_style = function(canvas_div) {\n",
       "\n",
       "}\n",
       "\n",
       "\n",
       "mpl.figure.prototype._root_extra_style = function(canvas_div) {\n",
       "\n",
       "}\n",
       "\n",
       "mpl.figure.prototype._init_canvas = function() {\n",
       "    var fig = this;\n",
       "\n",
       "    var canvas_div = $('<div/>');\n",
       "\n",
       "    canvas_div.attr('style', 'position: relative; clear: both; outline: 0');\n",
       "\n",
       "    function canvas_keyboard_event(event) {\n",
       "        return fig.key_event(event, event['data']);\n",
       "    }\n",
       "\n",
       "    canvas_div.keydown('key_press', canvas_keyboard_event);\n",
       "    canvas_div.keyup('key_release', canvas_keyboard_event);\n",
       "    this.canvas_div = canvas_div\n",
       "    this._canvas_extra_style(canvas_div)\n",
       "    this.root.append(canvas_div);\n",
       "\n",
       "    var canvas = $('<canvas/>');\n",
       "    canvas.addClass('mpl-canvas');\n",
       "    canvas.attr('style', \"left: 0; top: 0; z-index: 0; outline: 0\")\n",
       "\n",
       "    this.canvas = canvas[0];\n",
       "    this.context = canvas[0].getContext(\"2d\");\n",
       "\n",
       "    var backingStore = this.context.backingStorePixelRatio ||\n",
       "\tthis.context.webkitBackingStorePixelRatio ||\n",
       "\tthis.context.mozBackingStorePixelRatio ||\n",
       "\tthis.context.msBackingStorePixelRatio ||\n",
       "\tthis.context.oBackingStorePixelRatio ||\n",
       "\tthis.context.backingStorePixelRatio || 1;\n",
       "\n",
       "    mpl.ratio = (window.devicePixelRatio || 1) / backingStore;\n",
       "\n",
       "    var rubberband = $('<canvas/>');\n",
       "    rubberband.attr('style', \"position: absolute; left: 0; top: 0; z-index: 1;\")\n",
       "\n",
       "    var pass_mouse_events = true;\n",
       "\n",
       "    canvas_div.resizable({\n",
       "        start: function(event, ui) {\n",
       "            pass_mouse_events = false;\n",
       "        },\n",
       "        resize: function(event, ui) {\n",
       "            fig.request_resize(ui.size.width, ui.size.height);\n",
       "        },\n",
       "        stop: function(event, ui) {\n",
       "            pass_mouse_events = true;\n",
       "            fig.request_resize(ui.size.width, ui.size.height);\n",
       "        },\n",
       "    });\n",
       "\n",
       "    function mouse_event_fn(event) {\n",
       "        if (pass_mouse_events)\n",
       "            return fig.mouse_event(event, event['data']);\n",
       "    }\n",
       "\n",
       "    rubberband.mousedown('button_press', mouse_event_fn);\n",
       "    rubberband.mouseup('button_release', mouse_event_fn);\n",
       "    // Throttle sequential mouse events to 1 every 20ms.\n",
       "    rubberband.mousemove('motion_notify', mouse_event_fn);\n",
       "\n",
       "    rubberband.mouseenter('figure_enter', mouse_event_fn);\n",
       "    rubberband.mouseleave('figure_leave', mouse_event_fn);\n",
       "\n",
       "    canvas_div.on(\"wheel\", function (event) {\n",
       "        event = event.originalEvent;\n",
       "        event['data'] = 'scroll'\n",
       "        if (event.deltaY < 0) {\n",
       "            event.step = 1;\n",
       "        } else {\n",
       "            event.step = -1;\n",
       "        }\n",
       "        mouse_event_fn(event);\n",
       "    });\n",
       "\n",
       "    canvas_div.append(canvas);\n",
       "    canvas_div.append(rubberband);\n",
       "\n",
       "    this.rubberband = rubberband;\n",
       "    this.rubberband_canvas = rubberband[0];\n",
       "    this.rubberband_context = rubberband[0].getContext(\"2d\");\n",
       "    this.rubberband_context.strokeStyle = \"#000000\";\n",
       "\n",
       "    this._resize_canvas = function(width, height) {\n",
       "        // Keep the size of the canvas, canvas container, and rubber band\n",
       "        // canvas in synch.\n",
       "        canvas_div.css('width', width)\n",
       "        canvas_div.css('height', height)\n",
       "\n",
       "        canvas.attr('width', width * mpl.ratio);\n",
       "        canvas.attr('height', height * mpl.ratio);\n",
       "        canvas.attr('style', 'width: ' + width + 'px; height: ' + height + 'px;');\n",
       "\n",
       "        rubberband.attr('width', width);\n",
       "        rubberband.attr('height', height);\n",
       "    }\n",
       "\n",
       "    // Set the figure to an initial 600x600px, this will subsequently be updated\n",
       "    // upon first draw.\n",
       "    this._resize_canvas(600, 600);\n",
       "\n",
       "    // Disable right mouse context menu.\n",
       "    $(this.rubberband_canvas).bind(\"contextmenu\",function(e){\n",
       "        return false;\n",
       "    });\n",
       "\n",
       "    function set_focus () {\n",
       "        canvas.focus();\n",
       "        canvas_div.focus();\n",
       "    }\n",
       "\n",
       "    window.setTimeout(set_focus, 100);\n",
       "}\n",
       "\n",
       "mpl.figure.prototype._init_toolbar = function() {\n",
       "    var fig = this;\n",
       "\n",
       "    var nav_element = $('<div/>');\n",
       "    nav_element.attr('style', 'width: 100%');\n",
       "    this.root.append(nav_element);\n",
       "\n",
       "    // Define a callback function for later on.\n",
       "    function toolbar_event(event) {\n",
       "        return fig.toolbar_button_onclick(event['data']);\n",
       "    }\n",
       "    function toolbar_mouse_event(event) {\n",
       "        return fig.toolbar_button_onmouseover(event['data']);\n",
       "    }\n",
       "\n",
       "    for(var toolbar_ind in mpl.toolbar_items) {\n",
       "        var name = mpl.toolbar_items[toolbar_ind][0];\n",
       "        var tooltip = mpl.toolbar_items[toolbar_ind][1];\n",
       "        var image = mpl.toolbar_items[toolbar_ind][2];\n",
       "        var method_name = mpl.toolbar_items[toolbar_ind][3];\n",
       "\n",
       "        if (!name) {\n",
       "            // put a spacer in here.\n",
       "            continue;\n",
       "        }\n",
       "        var button = $('<button/>');\n",
       "        button.addClass('ui-button ui-widget ui-state-default ui-corner-all ' +\n",
       "                        'ui-button-icon-only');\n",
       "        button.attr('role', 'button');\n",
       "        button.attr('aria-disabled', 'false');\n",
       "        button.click(method_name, toolbar_event);\n",
       "        button.mouseover(tooltip, toolbar_mouse_event);\n",
       "\n",
       "        var icon_img = $('<span/>');\n",
       "        icon_img.addClass('ui-button-icon-primary ui-icon');\n",
       "        icon_img.addClass(image);\n",
       "        icon_img.addClass('ui-corner-all');\n",
       "\n",
       "        var tooltip_span = $('<span/>');\n",
       "        tooltip_span.addClass('ui-button-text');\n",
       "        tooltip_span.html(tooltip);\n",
       "\n",
       "        button.append(icon_img);\n",
       "        button.append(tooltip_span);\n",
       "\n",
       "        nav_element.append(button);\n",
       "    }\n",
       "\n",
       "    var fmt_picker_span = $('<span/>');\n",
       "\n",
       "    var fmt_picker = $('<select/>');\n",
       "    fmt_picker.addClass('mpl-toolbar-option ui-widget ui-widget-content');\n",
       "    fmt_picker_span.append(fmt_picker);\n",
       "    nav_element.append(fmt_picker_span);\n",
       "    this.format_dropdown = fmt_picker[0];\n",
       "\n",
       "    for (var ind in mpl.extensions) {\n",
       "        var fmt = mpl.extensions[ind];\n",
       "        var option = $(\n",
       "            '<option/>', {selected: fmt === mpl.default_extension}).html(fmt);\n",
       "        fmt_picker.append(option);\n",
       "    }\n",
       "\n",
       "    // Add hover states to the ui-buttons\n",
       "    $( \".ui-button\" ).hover(\n",
       "        function() { $(this).addClass(\"ui-state-hover\");},\n",
       "        function() { $(this).removeClass(\"ui-state-hover\");}\n",
       "    );\n",
       "\n",
       "    var status_bar = $('<span class=\"mpl-message\"/>');\n",
       "    nav_element.append(status_bar);\n",
       "    this.message = status_bar[0];\n",
       "}\n",
       "\n",
       "mpl.figure.prototype.request_resize = function(x_pixels, y_pixels) {\n",
       "    // Request matplotlib to resize the figure. Matplotlib will then trigger a resize in the client,\n",
       "    // which will in turn request a refresh of the image.\n",
       "    this.send_message('resize', {'width': x_pixels, 'height': y_pixels});\n",
       "}\n",
       "\n",
       "mpl.figure.prototype.send_message = function(type, properties) {\n",
       "    properties['type'] = type;\n",
       "    properties['figure_id'] = this.id;\n",
       "    this.ws.send(JSON.stringify(properties));\n",
       "}\n",
       "\n",
       "mpl.figure.prototype.send_draw_message = function() {\n",
       "    if (!this.waiting) {\n",
       "        this.waiting = true;\n",
       "        this.ws.send(JSON.stringify({type: \"draw\", figure_id: this.id}));\n",
       "    }\n",
       "}\n",
       "\n",
       "\n",
       "mpl.figure.prototype.handle_save = function(fig, msg) {\n",
       "    var format_dropdown = fig.format_dropdown;\n",
       "    var format = format_dropdown.options[format_dropdown.selectedIndex].value;\n",
       "    fig.ondownload(fig, format);\n",
       "}\n",
       "\n",
       "\n",
       "mpl.figure.prototype.handle_resize = function(fig, msg) {\n",
       "    var size = msg['size'];\n",
       "    if (size[0] != fig.canvas.width || size[1] != fig.canvas.height) {\n",
       "        fig._resize_canvas(size[0], size[1]);\n",
       "        fig.send_message(\"refresh\", {});\n",
       "    };\n",
       "}\n",
       "\n",
       "mpl.figure.prototype.handle_rubberband = function(fig, msg) {\n",
       "    var x0 = msg['x0'] / mpl.ratio;\n",
       "    var y0 = (fig.canvas.height - msg['y0']) / mpl.ratio;\n",
       "    var x1 = msg['x1'] / mpl.ratio;\n",
       "    var y1 = (fig.canvas.height - msg['y1']) / mpl.ratio;\n",
       "    x0 = Math.floor(x0) + 0.5;\n",
       "    y0 = Math.floor(y0) + 0.5;\n",
       "    x1 = Math.floor(x1) + 0.5;\n",
       "    y1 = Math.floor(y1) + 0.5;\n",
       "    var min_x = Math.min(x0, x1);\n",
       "    var min_y = Math.min(y0, y1);\n",
       "    var width = Math.abs(x1 - x0);\n",
       "    var height = Math.abs(y1 - y0);\n",
       "\n",
       "    fig.rubberband_context.clearRect(\n",
       "        0, 0, fig.canvas.width / mpl.ratio, fig.canvas.height / mpl.ratio);\n",
       "\n",
       "    fig.rubberband_context.strokeRect(min_x, min_y, width, height);\n",
       "}\n",
       "\n",
       "mpl.figure.prototype.handle_figure_label = function(fig, msg) {\n",
       "    // Updates the figure title.\n",
       "    fig.header.textContent = msg['label'];\n",
       "}\n",
       "\n",
       "mpl.figure.prototype.handle_cursor = function(fig, msg) {\n",
       "    var cursor = msg['cursor'];\n",
       "    switch(cursor)\n",
       "    {\n",
       "    case 0:\n",
       "        cursor = 'pointer';\n",
       "        break;\n",
       "    case 1:\n",
       "        cursor = 'default';\n",
       "        break;\n",
       "    case 2:\n",
       "        cursor = 'crosshair';\n",
       "        break;\n",
       "    case 3:\n",
       "        cursor = 'move';\n",
       "        break;\n",
       "    }\n",
       "    fig.rubberband_canvas.style.cursor = cursor;\n",
       "}\n",
       "\n",
       "mpl.figure.prototype.handle_message = function(fig, msg) {\n",
       "    fig.message.textContent = msg['message'];\n",
       "}\n",
       "\n",
       "mpl.figure.prototype.handle_draw = function(fig, msg) {\n",
       "    // Request the server to send over a new figure.\n",
       "    fig.send_draw_message();\n",
       "}\n",
       "\n",
       "mpl.figure.prototype.handle_image_mode = function(fig, msg) {\n",
       "    fig.image_mode = msg['mode'];\n",
       "}\n",
       "\n",
       "mpl.figure.prototype.updated_canvas_event = function() {\n",
       "    // Called whenever the canvas gets updated.\n",
       "    this.send_message(\"ack\", {});\n",
       "}\n",
       "\n",
       "// A function to construct a web socket function for onmessage handling.\n",
       "// Called in the figure constructor.\n",
       "mpl.figure.prototype._make_on_message_function = function(fig) {\n",
       "    return function socket_on_message(evt) {\n",
       "        if (evt.data instanceof Blob) {\n",
       "            /* FIXME: We get \"Resource interpreted as Image but\n",
       "             * transferred with MIME type text/plain:\" errors on\n",
       "             * Chrome.  But how to set the MIME type?  It doesn't seem\n",
       "             * to be part of the websocket stream */\n",
       "            evt.data.type = \"image/png\";\n",
       "\n",
       "            /* Free the memory for the previous frames */\n",
       "            if (fig.imageObj.src) {\n",
       "                (window.URL || window.webkitURL).revokeObjectURL(\n",
       "                    fig.imageObj.src);\n",
       "            }\n",
       "\n",
       "            fig.imageObj.src = (window.URL || window.webkitURL).createObjectURL(\n",
       "                evt.data);\n",
       "            fig.updated_canvas_event();\n",
       "            fig.waiting = false;\n",
       "            return;\n",
       "        }\n",
       "        else if (typeof evt.data === 'string' && evt.data.slice(0, 21) == \"data:image/png;base64\") {\n",
       "            fig.imageObj.src = evt.data;\n",
       "            fig.updated_canvas_event();\n",
       "            fig.waiting = false;\n",
       "            return;\n",
       "        }\n",
       "\n",
       "        var msg = JSON.parse(evt.data);\n",
       "        var msg_type = msg['type'];\n",
       "\n",
       "        // Call the  \"handle_{type}\" callback, which takes\n",
       "        // the figure and JSON message as its only arguments.\n",
       "        try {\n",
       "            var callback = fig[\"handle_\" + msg_type];\n",
       "        } catch (e) {\n",
       "            console.log(\"No handler for the '\" + msg_type + \"' message type: \", msg);\n",
       "            return;\n",
       "        }\n",
       "\n",
       "        if (callback) {\n",
       "            try {\n",
       "                // console.log(\"Handling '\" + msg_type + \"' message: \", msg);\n",
       "                callback(fig, msg);\n",
       "            } catch (e) {\n",
       "                console.log(\"Exception inside the 'handler_\" + msg_type + \"' callback:\", e, e.stack, msg);\n",
       "            }\n",
       "        }\n",
       "    };\n",
       "}\n",
       "\n",
       "// from http://stackoverflow.com/questions/1114465/getting-mouse-location-in-canvas\n",
       "mpl.findpos = function(e) {\n",
       "    //this section is from http://www.quirksmode.org/js/events_properties.html\n",
       "    var targ;\n",
       "    if (!e)\n",
       "        e = window.event;\n",
       "    if (e.target)\n",
       "        targ = e.target;\n",
       "    else if (e.srcElement)\n",
       "        targ = e.srcElement;\n",
       "    if (targ.nodeType == 3) // defeat Safari bug\n",
       "        targ = targ.parentNode;\n",
       "\n",
       "    // jQuery normalizes the pageX and pageY\n",
       "    // pageX,Y are the mouse positions relative to the document\n",
       "    // offset() returns the position of the element relative to the document\n",
       "    var x = e.pageX - $(targ).offset().left;\n",
       "    var y = e.pageY - $(targ).offset().top;\n",
       "\n",
       "    return {\"x\": x, \"y\": y};\n",
       "};\n",
       "\n",
       "/*\n",
       " * return a copy of an object with only non-object keys\n",
       " * we need this to avoid circular references\n",
       " * http://stackoverflow.com/a/24161582/3208463\n",
       " */\n",
       "function simpleKeys (original) {\n",
       "  return Object.keys(original).reduce(function (obj, key) {\n",
       "    if (typeof original[key] !== 'object')\n",
       "        obj[key] = original[key]\n",
       "    return obj;\n",
       "  }, {});\n",
       "}\n",
       "\n",
       "mpl.figure.prototype.mouse_event = function(event, name) {\n",
       "    var canvas_pos = mpl.findpos(event)\n",
       "\n",
       "    if (name === 'button_press')\n",
       "    {\n",
       "        this.canvas.focus();\n",
       "        this.canvas_div.focus();\n",
       "    }\n",
       "\n",
       "    var x = canvas_pos.x * mpl.ratio;\n",
       "    var y = canvas_pos.y * mpl.ratio;\n",
       "\n",
       "    this.send_message(name, {x: x, y: y, button: event.button,\n",
       "                             step: event.step,\n",
       "                             guiEvent: simpleKeys(event)});\n",
       "\n",
       "    /* This prevents the web browser from automatically changing to\n",
       "     * the text insertion cursor when the button is pressed.  We want\n",
       "     * to control all of the cursor setting manually through the\n",
       "     * 'cursor' event from matplotlib */\n",
       "    event.preventDefault();\n",
       "    return false;\n",
       "}\n",
       "\n",
       "mpl.figure.prototype._key_event_extra = function(event, name) {\n",
       "    // Handle any extra behaviour associated with a key event\n",
       "}\n",
       "\n",
       "mpl.figure.prototype.key_event = function(event, name) {\n",
       "\n",
       "    // Prevent repeat events\n",
       "    if (name == 'key_press')\n",
       "    {\n",
       "        if (event.which === this._key)\n",
       "            return;\n",
       "        else\n",
       "            this._key = event.which;\n",
       "    }\n",
       "    if (name == 'key_release')\n",
       "        this._key = null;\n",
       "\n",
       "    var value = '';\n",
       "    if (event.ctrlKey && event.which != 17)\n",
       "        value += \"ctrl+\";\n",
       "    if (event.altKey && event.which != 18)\n",
       "        value += \"alt+\";\n",
       "    if (event.shiftKey && event.which != 16)\n",
       "        value += \"shift+\";\n",
       "\n",
       "    value += 'k';\n",
       "    value += event.which.toString();\n",
       "\n",
       "    this._key_event_extra(event, name);\n",
       "\n",
       "    this.send_message(name, {key: value,\n",
       "                             guiEvent: simpleKeys(event)});\n",
       "    return false;\n",
       "}\n",
       "\n",
       "mpl.figure.prototype.toolbar_button_onclick = function(name) {\n",
       "    if (name == 'download') {\n",
       "        this.handle_save(this, null);\n",
       "    } else {\n",
       "        this.send_message(\"toolbar_button\", {name: name});\n",
       "    }\n",
       "};\n",
       "\n",
       "mpl.figure.prototype.toolbar_button_onmouseover = function(tooltip) {\n",
       "    this.message.textContent = tooltip;\n",
       "};\n",
       "mpl.toolbar_items = [[\"Home\", \"Reset original view\", \"fa fa-home icon-home\", \"home\"], [\"Back\", \"Back to previous view\", \"fa fa-arrow-left icon-arrow-left\", \"back\"], [\"Forward\", \"Forward to next view\", \"fa fa-arrow-right icon-arrow-right\", \"forward\"], [\"\", \"\", \"\", \"\"], [\"Pan\", \"Pan axes with left mouse, zoom with right\", \"fa fa-arrows icon-move\", \"pan\"], [\"Zoom\", \"Zoom to rectangle\", \"fa fa-square-o icon-check-empty\", \"zoom\"], [\"\", \"\", \"\", \"\"], [\"Download\", \"Download plot\", \"fa fa-floppy-o icon-save\", \"download\"]];\n",
       "\n",
       "mpl.extensions = [\"eps\", \"jpeg\", \"pdf\", \"png\", \"ps\", \"raw\", \"svg\", \"tif\"];\n",
       "\n",
       "mpl.default_extension = \"png\";var comm_websocket_adapter = function(comm) {\n",
       "    // Create a \"websocket\"-like object which calls the given IPython comm\n",
       "    // object with the appropriate methods. Currently this is a non binary\n",
       "    // socket, so there is still some room for performance tuning.\n",
       "    var ws = {};\n",
       "\n",
       "    ws.close = function() {\n",
       "        comm.close()\n",
       "    };\n",
       "    ws.send = function(m) {\n",
       "        //console.log('sending', m);\n",
       "        comm.send(m);\n",
       "    };\n",
       "    // Register the callback with on_msg.\n",
       "    comm.on_msg(function(msg) {\n",
       "        //console.log('receiving', msg['content']['data'], msg);\n",
       "        // Pass the mpl event to the overridden (by mpl) onmessage function.\n",
       "        ws.onmessage(msg['content']['data'])\n",
       "    });\n",
       "    return ws;\n",
       "}\n",
       "\n",
       "mpl.mpl_figure_comm = function(comm, msg) {\n",
       "    // This is the function which gets called when the mpl process\n",
       "    // starts-up an IPython Comm through the \"matplotlib\" channel.\n",
       "\n",
       "    var id = msg.content.data.id;\n",
       "    // Get hold of the div created by the display call when the Comm\n",
       "    // socket was opened in Python.\n",
       "    var element = $(\"#\" + id);\n",
       "    var ws_proxy = comm_websocket_adapter(comm)\n",
       "\n",
       "    function ondownload(figure, format) {\n",
       "        window.open(figure.imageObj.src);\n",
       "    }\n",
       "\n",
       "    var fig = new mpl.figure(id, ws_proxy,\n",
       "                           ondownload,\n",
       "                           element.get(0));\n",
       "\n",
       "    // Call onopen now - mpl needs it, as it is assuming we've passed it a real\n",
       "    // web socket which is closed, not our websocket->open comm proxy.\n",
       "    ws_proxy.onopen();\n",
       "\n",
       "    fig.parent_element = element.get(0);\n",
       "    fig.cell_info = mpl.find_output_cell(\"<div id='\" + id + \"'></div>\");\n",
       "    if (!fig.cell_info) {\n",
       "        console.error(\"Failed to find cell for figure\", id, fig);\n",
       "        return;\n",
       "    }\n",
       "\n",
       "    var output_index = fig.cell_info[2]\n",
       "    var cell = fig.cell_info[0];\n",
       "\n",
       "};\n",
       "\n",
       "mpl.figure.prototype.handle_close = function(fig, msg) {\n",
       "    var width = fig.canvas.width/mpl.ratio\n",
       "    fig.root.unbind('remove')\n",
       "\n",
       "    // Update the output cell to use the data from the current canvas.\n",
       "    fig.push_to_output();\n",
       "    var dataURL = fig.canvas.toDataURL();\n",
       "    // Re-enable the keyboard manager in IPython - without this line, in FF,\n",
       "    // the notebook keyboard shortcuts fail.\n",
       "    IPython.keyboard_manager.enable()\n",
       "    $(fig.parent_element).html('<img src=\"' + dataURL + '\" width=\"' + width + '\">');\n",
       "    fig.close_ws(fig, msg);\n",
       "}\n",
       "\n",
       "mpl.figure.prototype.close_ws = function(fig, msg){\n",
       "    fig.send_message('closing', msg);\n",
       "    // fig.ws.close()\n",
       "}\n",
       "\n",
       "mpl.figure.prototype.push_to_output = function(remove_interactive) {\n",
       "    // Turn the data on the canvas into data in the output cell.\n",
       "    var width = this.canvas.width/mpl.ratio\n",
       "    var dataURL = this.canvas.toDataURL();\n",
       "    this.cell_info[1]['text/html'] = '<img src=\"' + dataURL + '\" width=\"' + width + '\">';\n",
       "}\n",
       "\n",
       "mpl.figure.prototype.updated_canvas_event = function() {\n",
       "    // Tell IPython that the notebook contents must change.\n",
       "    IPython.notebook.set_dirty(true);\n",
       "    this.send_message(\"ack\", {});\n",
       "    var fig = this;\n",
       "    // Wait a second, then push the new image to the DOM so\n",
       "    // that it is saved nicely (might be nice to debounce this).\n",
       "    setTimeout(function () { fig.push_to_output() }, 1000);\n",
       "}\n",
       "\n",
       "mpl.figure.prototype._init_toolbar = function() {\n",
       "    var fig = this;\n",
       "\n",
       "    var nav_element = $('<div/>');\n",
       "    nav_element.attr('style', 'width: 100%');\n",
       "    this.root.append(nav_element);\n",
       "\n",
       "    // Define a callback function for later on.\n",
       "    function toolbar_event(event) {\n",
       "        return fig.toolbar_button_onclick(event['data']);\n",
       "    }\n",
       "    function toolbar_mouse_event(event) {\n",
       "        return fig.toolbar_button_onmouseover(event['data']);\n",
       "    }\n",
       "\n",
       "    for(var toolbar_ind in mpl.toolbar_items){\n",
       "        var name = mpl.toolbar_items[toolbar_ind][0];\n",
       "        var tooltip = mpl.toolbar_items[toolbar_ind][1];\n",
       "        var image = mpl.toolbar_items[toolbar_ind][2];\n",
       "        var method_name = mpl.toolbar_items[toolbar_ind][3];\n",
       "\n",
       "        if (!name) { continue; };\n",
       "\n",
       "        var button = $('<button class=\"btn btn-default\" href=\"#\" title=\"' + name + '\"><i class=\"fa ' + image + ' fa-lg\"></i></button>');\n",
       "        button.click(method_name, toolbar_event);\n",
       "        button.mouseover(tooltip, toolbar_mouse_event);\n",
       "        nav_element.append(button);\n",
       "    }\n",
       "\n",
       "    // Add the status bar.\n",
       "    var status_bar = $('<span class=\"mpl-message\" style=\"text-align:right; float: right;\"/>');\n",
       "    nav_element.append(status_bar);\n",
       "    this.message = status_bar[0];\n",
       "\n",
       "    // Add the close button to the window.\n",
       "    var buttongrp = $('<div class=\"btn-group inline pull-right\"></div>');\n",
       "    var button = $('<button class=\"btn btn-mini btn-primary\" href=\"#\" title=\"Stop Interaction\"><i class=\"fa fa-power-off icon-remove icon-large\"></i></button>');\n",
       "    button.click(function (evt) { fig.handle_close(fig, {}); } );\n",
       "    button.mouseover('Stop Interaction', toolbar_mouse_event);\n",
       "    buttongrp.append(button);\n",
       "    var titlebar = this.root.find($('.ui-dialog-titlebar'));\n",
       "    titlebar.prepend(buttongrp);\n",
       "}\n",
       "\n",
       "mpl.figure.prototype._root_extra_style = function(el){\n",
       "    var fig = this\n",
       "    el.on(\"remove\", function(){\n",
       "\tfig.close_ws(fig, {});\n",
       "    });\n",
       "}\n",
       "\n",
       "mpl.figure.prototype._canvas_extra_style = function(el){\n",
       "    // this is important to make the div 'focusable\n",
       "    el.attr('tabindex', 0)\n",
       "    // reach out to IPython and tell the keyboard manager to turn it's self\n",
       "    // off when our div gets focus\n",
       "\n",
       "    // location in version 3\n",
       "    if (IPython.notebook.keyboard_manager) {\n",
       "        IPython.notebook.keyboard_manager.register_events(el);\n",
       "    }\n",
       "    else {\n",
       "        // location in version 2\n",
       "        IPython.keyboard_manager.register_events(el);\n",
       "    }\n",
       "\n",
       "}\n",
       "\n",
       "mpl.figure.prototype._key_event_extra = function(event, name) {\n",
       "    var manager = IPython.notebook.keyboard_manager;\n",
       "    if (!manager)\n",
       "        manager = IPython.keyboard_manager;\n",
       "\n",
       "    // Check for shift+enter\n",
       "    if (event.shiftKey && event.which == 13) {\n",
       "        this.canvas_div.blur();\n",
       "        // select the cell after this one\n",
       "        var index = IPython.notebook.find_cell_index(this.cell_info[0]);\n",
       "        IPython.notebook.select(index + 1);\n",
       "    }\n",
       "}\n",
       "\n",
       "mpl.figure.prototype.handle_save = function(fig, msg) {\n",
       "    fig.ondownload(fig, null);\n",
       "}\n",
       "\n",
       "\n",
       "mpl.find_output_cell = function(html_output) {\n",
       "    // Return the cell and output element which can be found *uniquely* in the notebook.\n",
       "    // Note - this is a bit hacky, but it is done because the \"notebook_saving.Notebook\"\n",
       "    // IPython event is triggered only after the cells have been serialised, which for\n",
       "    // our purposes (turning an active figure into a static one), is too late.\n",
       "    var cells = IPython.notebook.get_cells();\n",
       "    var ncells = cells.length;\n",
       "    for (var i=0; i<ncells; i++) {\n",
       "        var cell = cells[i];\n",
       "        if (cell.cell_type === 'code'){\n",
       "            for (var j=0; j<cell.output_area.outputs.length; j++) {\n",
       "                var data = cell.output_area.outputs[j];\n",
       "                if (data.data) {\n",
       "                    // IPython >= 3 moved mimebundle to data attribute of output\n",
       "                    data = data.data;\n",
       "                }\n",
       "                if (data['text/html'] == html_output) {\n",
       "                    return [cell, data, j];\n",
       "                }\n",
       "            }\n",
       "        }\n",
       "    }\n",
       "}\n",
       "\n",
       "// Register the function which deals with the matplotlib target/channel.\n",
       "// The kernel may be null if the page has been refreshed.\n",
       "if (IPython.notebook.kernel != null) {\n",
       "    IPython.notebook.kernel.comm_manager.register_target('matplotlib', mpl.mpl_figure_comm);\n",
       "}\n"
      ],
      "text/plain": [
       "<IPython.core.display.Javascript object>"
      ]
     },
     "metadata": {},
     "output_type": "display_data"
    },
    {
     "data": {
      "text/html": [
       "<img src=\"data:image/png;base64,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\" width=\"1000\">"
      ],
      "text/plain": [
       "<IPython.core.display.HTML object>"
      ]
     },
     "metadata": {},
     "output_type": "display_data"
    }
   ],
   "source": [
    "fig,(ax3,ax4) = plt.subplots(figsize=(10,5), nrows=1, ncols=2, sharex=True, sharey=True)\n",
    "\n",
    "ax3.plot('DATE','D_cum',data=df_sciensano[start_calibration:end_sim].reset_index(), marker='.', \n",
    "         c='gray', label='data', lw=0, markersize=9, alpha=0.3, markeredgecolor='none')\n",
    "plot_band(ax3, y_model_S1, 'D', 'gray', 'no vaccination')\n",
    "plot_band(ax3, y_model_S4a, 'D', 'C0', label_0)\n",
    "plot_band(ax3, y_model_S4b, 'D', 'C1', label_10)\n",
    "plot_band(ax3, y_model_S4c, 'D', 'C2', label_30)\n",
    "plot_band(ax3, y_model_S4d, 'D', 'C3', label_50)\n",
    "\n",
    "ax3.set_xlim(start_x, end_x)\n",
    "ax3.set_xticks(pd.date_range(start_x, end_grid, periods=4))\n",
    "ax3.xaxis.set_tick_params(which='both', labelbottom=True)\n",
    "ax3.set_title('Vaccination according to age')\n",
    "\n",
    "ax4.plot('DATE','D_cum',data=df_sciensano[start_calibration:end_sim].reset_index(), marker='.', \n",
    "         c='gray', label='data', lw=0, markersize=9, alpha=0.3, markeredgecolor='none')\n",
    "plot_band(ax4, y_model_S1, 'D', 'gray', 'no vaccination')\n",
    "plot_band(ax4, y_model_S5a, 'D', 'C0', label_0)\n",
    "plot_band(ax4, y_model_S5b, 'D', 'C1', label_10)\n",
    "plot_band(ax4, y_model_S5c, 'D', 'C2', label_30)\n",
    "plot_band(ax4, y_model_S5d, 'D', 'C3', label_50)\n",
    "\n",
    "ax4.set_xlim(start_x, end_x)\n",
    "N_days = int((pd.to_datetime(end_grid) - pd.to_datetime(start_x))/pd.Timedelta('1D'))\n",
    "ax4.set_xticks(pd.date_range(start_x, end_grid, periods=4))\n",
    "#ax4.set_xticklabels(np.arange(0,N_days,step=30))\n",
    "ax4.set_yticklabels('')\n",
    "\n",
    "ax4.xaxis.set_tick_params(which='both', labelbottom=True)\n",
    "ax4.set_title('Vaccination according to number of contacts')\n",
    "\n",
    "# Shrink current axis by 20%\n",
    "box = ax3.get_position()\n",
    "ax3.set_position([box.x0, box.y0, box.width, box.height*0.8])\n",
    "box = ax4.get_position()\n",
    "ax4.set_position([box.x0, box.y0, box.width, box.height*0.8])\n",
    "\n",
    "ax3.legend(loc='upper center', bbox_to_anchor=(1,1.4), ncol=3)\n",
    "\n",
    "ax3.set_ylim(0,8000)\n",
    "fig.text(0, 0.5, 'Cumulative number of deaths', va='center', rotation='vertical')\n",
    "fig.text(0.5, 0.01, 'Time', va='center', rotation='horizontal')\n",
    "\n",
    "\n",
    "fig.savefig('../../results/vaccinations/national/vaccination_wave2_deaths_current_measures.pdf')"
   ]
  },
  {
   "cell_type": "markdown",
   "metadata": {},
   "source": [
    "# Scenarios F(ree)"
   ]
  },
  {
   "cell_type": "code",
   "execution_count": 50,
   "metadata": {
    "ExecuteTime": {
     "end_time": "2020-12-03T08:59:31.050495Z",
     "start_time": "2020-12-03T08:59:30.694972Z"
    }
   },
   "outputs": [],
   "source": [
    "# Load the model parameters using `get_COVID19_SEIRD_parameters()`.\n",
    "params = model_parameters.get_COVID19_SEIRD_parameters()\n",
    "\n",
    "params.update({'df_google': df_google,\n",
    "              'Nc_all' : Nc_all,\n",
    "              'Nc_15min' : Nc_15min,\n",
    "              'Nc_1hr' : Nc_1hr,\n",
    "               'l' : 5,\n",
    "               'tau' : 5,\n",
    "               'prevention':0.5\n",
    "              })"
   ]
  },
  {
   "cell_type": "code",
   "execution_count": 51,
   "metadata": {
    "ExecuteTime": {
     "end_time": "2020-12-03T08:59:33.013464Z",
     "start_time": "2020-12-03T08:59:32.971042Z"
    }
   },
   "outputs": [],
   "source": [
    "# Initialize the model\n",
    "model_F1 = models.COVID19_SEIRD(initial_states_sept, params, time_dependent_parameters={'Nc': no_lockdown})"
   ]
  },
  {
   "cell_type": "code",
   "execution_count": null,
   "metadata": {
    "ExecuteTime": {
     "end_time": "2020-12-02T13:40:38.730773Z",
     "start_time": "2020-12-02T13:40:37.880300Z"
    }
   },
   "outputs": [],
   "source": [
    "\n",
    "# fig,ax=plt.subplots(figsize=(10,4))\n",
    "# for i in range(1):\n",
    "#     # Sampling\n",
    "#     model_F1.parameters['beta'] = np.random.choice(samples_dict['beta'])\n",
    "#     idx,model_F1.parameters['l'] = random.choice(list(enumerate(samples_dict['l'])))\n",
    "#     model_F1.parameters['tau'] = samples_dict['tau'][idx]   \n",
    "#     # Simulate\n",
    "#     plot_model_F1 = model_F1.sim(end_sim,start_date=start_calibration,warmup=0)\n",
    "#     # Plot\n",
    "#     ax.plot(plot_model_F1['time'],plot_model_F1[\"H_in\"].sum(dim=\"Nc\"),color='blue',alpha=0.1)\n",
    "\n",
    "# ax.scatter(df_sciensano[start_calibration:end_calibration].index,df_sciensano['H_in'][start_calibration:end_calibration],color='black',alpha=0.6,linestyle='None',facecolors='none')\n",
    "\n",
    "# ax.set_xlim('2020-09-01',end_sim)"
   ]
  },
  {
   "cell_type": "markdown",
   "metadata": {
    "heading_collapsed": true
   },
   "source": [
    "## Scenario F2: Vaccination old to young, eff=0.7"
   ]
  },
  {
   "cell_type": "code",
   "execution_count": null,
   "metadata": {
    "ExecuteTime": {
     "end_time": "2020-11-27T13:15:01.645503Z",
     "start_time": "2020-11-27T13:15:01.604729Z"
    },
    "hidden": true
   },
   "outputs": [],
   "source": [
    "order = [8,7,6,5,4,3,2,1,0]\n",
    "effectivity = 0.7\n",
    "daily=10000"
   ]
  },
  {
   "cell_type": "code",
   "execution_count": null,
   "metadata": {
    "ExecuteTime": {
     "end_time": "2020-11-27T13:15:01.691167Z",
     "start_time": "2020-11-27T13:15:01.648116Z"
    },
    "hidden": true
   },
   "outputs": [],
   "source": [
    "vaccinated_prop = 0\n",
    "model_F2a = vaccin_model(vaccinated_prop, order, daily, effectivity, initial_states_sept, tdep_fun=no_lockdown)\n",
    "vaccinated_prop = 0.1\n",
    "model_F2b = vaccin_model(vaccinated_prop, order, daily, effectivity, initial_states_sept, tdep_fun=no_lockdown)\n",
    "vaccinated_prop = 0.3\n",
    "model_F2c = vaccin_model(vaccinated_prop, order, daily, effectivity, initial_states_sept, tdep_fun=no_lockdown)\n",
    "vaccinated_prop = 0.5\n",
    "model_F2d = vaccin_model(vaccinated_prop, order, daily, effectivity, initial_states_sept, tdep_fun=no_lockdown)"
   ]
  },
  {
   "cell_type": "code",
   "execution_count": null,
   "metadata": {
    "ExecuteTime": {
     "end_time": "2020-11-27T13:19:58.930080Z",
     "start_time": "2020-11-27T13:15:01.693759Z"
    },
    "hidden": true
   },
   "outputs": [],
   "source": [
    "y_model_F2a = model_F2a.sim(end_sim,start_date=start_calibration,warmup=0,N=n,\n",
    "                          draw_fcn=draw_sample_COVID19_SEIRD,samples=samples_dict)\n",
    "y_model_F2b = model_F2b.sim(end_sim,start_date=start_calibration,warmup=0,N=n,\n",
    "                          draw_fcn=draw_sample_COVID19_SEIRD,samples=samples_dict)\n",
    "y_model_F2c = model_F2c.sim(end_sim,start_date=start_calibration,warmup=0,N=n,\n",
    "                          draw_fcn=draw_sample_COVID19_SEIRD,samples=samples_dict)\n",
    "y_model_F2d = model_F2d.sim(end_sim,start_date=start_calibration,warmup=0,N=n,\n",
    "                          draw_fcn=draw_sample_COVID19_SEIRD,samples=samples_dict)\n",
    "y_model_F1 = model_F1.sim(end_sim,start_date=start_calibration,warmup=0,N=n,\n",
    "                          draw_fcn=draw_sample_COVID19_SEIRD,samples=samples_dict)"
   ]
  },
  {
   "cell_type": "code",
   "execution_count": null,
   "metadata": {
    "ExecuteTime": {
     "end_time": "2020-11-27T12:41:15.478159Z",
     "start_time": "2020-11-27T12:41:15.439208Z"
    },
    "hidden": true,
    "scrolled": true
   },
   "outputs": [],
   "source": [
    "# fig,ax = plt.subplots()\n",
    "# y_model_F1['E'].sum(dim='Nc').sum(dim='draws'). plot(ax=ax, c='green', label='no vacc')\n",
    "# y_model_F2a['E'].sum(dim='Nc').sum(dim='draws'). plot(ax=ax, c='blue', label='S2a')\n",
    "# plt.legend()"
   ]
  },
  {
   "cell_type": "markdown",
   "metadata": {
    "heading_collapsed": true
   },
   "source": [
    "## Scenario F3: First the most interactive, eff=0.7"
   ]
  },
  {
   "cell_type": "code",
   "execution_count": null,
   "metadata": {
    "ExecuteTime": {
     "end_time": "2020-11-27T12:41:20.307755Z",
     "start_time": "2020-11-27T12:41:20.267964Z"
    },
    "hidden": true
   },
   "outputs": [],
   "source": [
    "# Which age group has most contacts with all other age groups?\n",
    "Nc_total.sum(axis=1)"
   ]
  },
  {
   "cell_type": "code",
   "execution_count": null,
   "metadata": {
    "ExecuteTime": {
     "end_time": "2020-11-27T13:19:59.122136Z",
     "start_time": "2020-11-27T13:19:58.934163Z"
    },
    "hidden": true
   },
   "outputs": [],
   "source": [
    "contact_sums = pd.DataFrame({'contacts':Nc_total.sum(axis=1), 'age_group':range(9)})"
   ]
  },
  {
   "cell_type": "code",
   "execution_count": null,
   "metadata": {
    "ExecuteTime": {
     "end_time": "2020-11-27T13:19:59.179316Z",
     "start_time": "2020-11-27T13:19:59.125790Z"
    },
    "hidden": true
   },
   "outputs": [],
   "source": [
    "order = list(contact_sums.sort_values('contacts', ascending=False).age_group)\n",
    "effectivity = 0.7\n",
    "daily=10000"
   ]
  },
  {
   "cell_type": "code",
   "execution_count": null,
   "metadata": {
    "ExecuteTime": {
     "end_time": "2020-11-27T13:19:59.229758Z",
     "start_time": "2020-11-27T13:19:59.182703Z"
    },
    "hidden": true
   },
   "outputs": [],
   "source": [
    "vaccinated_prop = 0\n",
    "model_F3a = vaccin_model(vaccinated_prop, order, daily, effectivity, initial_states_sept, tdep_fun=no_lockdown)\n",
    "vaccinated_prop = 0.1\n",
    "model_F3b = vaccin_model(vaccinated_prop, order, daily, effectivity, initial_states_sept, tdep_fun=no_lockdown)\n",
    "vaccinated_prop = 0.3\n",
    "model_F3c = vaccin_model(vaccinated_prop, order, daily, effectivity, initial_states_sept, tdep_fun=no_lockdown)\n",
    "vaccinated_prop = 0.5\n",
    "model_F3d = vaccin_model(vaccinated_prop, order, daily, effectivity, initial_states_sept, tdep_fun=no_lockdown)"
   ]
  },
  {
   "cell_type": "code",
   "execution_count": null,
   "metadata": {
    "ExecuteTime": {
     "end_time": "2020-11-27T13:24:56.004036Z",
     "start_time": "2020-11-27T13:19:59.232692Z"
    },
    "hidden": true
   },
   "outputs": [],
   "source": [
    "y_model_F3a = model_F3a.sim(end_sim,start_date=start_calibration,warmup=0,N=n,\n",
    "                          draw_fcn=draw_sample_COVID19_SEIRD,samples=samples_dict)\n",
    "y_model_F3b = model_F3b.sim(end_sim,start_date=start_calibration,warmup=0,N=n,\n",
    "                          draw_fcn=draw_sample_COVID19_SEIRD,samples=samples_dict)\n",
    "y_model_F3c = model_F3c.sim(end_sim,start_date=start_calibration,warmup=0,N=n,\n",
    "                          draw_fcn=draw_sample_COVID19_SEIRD,samples=samples_dict)\n",
    "y_model_F3d = model_F3d.sim(end_sim,start_date=start_calibration,warmup=0,N=n,\n",
    "                          draw_fcn=draw_sample_COVID19_SEIRD,samples=samples_dict)\n",
    "y_model_F1 = model_F1.sim(end_sim,start_date=start_calibration,warmup=0,N=n,\n",
    "                          draw_fcn=draw_sample_COVID19_SEIRD,samples=samples_dict)"
   ]
  },
  {
   "cell_type": "markdown",
   "metadata": {},
   "source": [
    "## Scenario F4: Vaccination old to young, eff=0.9"
   ]
  },
  {
   "cell_type": "code",
   "execution_count": 52,
   "metadata": {
    "ExecuteTime": {
     "end_time": "2020-12-03T08:59:38.609385Z",
     "start_time": "2020-12-03T08:59:38.564287Z"
    }
   },
   "outputs": [],
   "source": [
    "order = [8,7,6,5,4,3,2,1,0]\n",
    "effectivity = 0.9\n",
    "daily=10000"
   ]
  },
  {
   "cell_type": "code",
   "execution_count": 53,
   "metadata": {
    "ExecuteTime": {
     "end_time": "2020-12-03T08:59:38.764740Z",
     "start_time": "2020-12-03T08:59:38.721432Z"
    }
   },
   "outputs": [],
   "source": [
    "vaccinated_prop = 0\n",
    "model_F4a = vaccin_model(vaccinated_prop, order, daily, effectivity, initial_states_sept, tdep_fun=no_lockdown)\n",
    "vaccinated_prop = 0.1\n",
    "model_F4b = vaccin_model(vaccinated_prop, order, daily, effectivity, initial_states_sept, tdep_fun=no_lockdown)\n",
    "vaccinated_prop = 0.3\n",
    "model_F4c = vaccin_model(vaccinated_prop, order, daily, effectivity, initial_states_sept, tdep_fun=no_lockdown)\n",
    "vaccinated_prop = 0.5\n",
    "model_F4d = vaccin_model(vaccinated_prop, order, daily, effectivity, initial_states_sept, tdep_fun=no_lockdown)"
   ]
  },
  {
   "cell_type": "code",
   "execution_count": 54,
   "metadata": {
    "ExecuteTime": {
     "end_time": "2020-12-03T09:00:09.282381Z",
     "start_time": "2020-12-03T08:59:39.272115Z"
    }
   },
   "outputs": [],
   "source": [
    "y_model_F4a = model_F4a.sim(end_sim,start_date=start_calibration,warmup=0,N=n,\n",
    "                          draw_fcn=draw_sample_COVID19_SEIRD,samples=samples_dict)\n",
    "y_model_F4b = model_F4b.sim(end_sim,start_date=start_calibration,warmup=0,N=n,\n",
    "                          draw_fcn=draw_sample_COVID19_SEIRD,samples=samples_dict)\n",
    "y_model_F4c = model_F4c.sim(end_sim,start_date=start_calibration,warmup=0,N=n,\n",
    "                          draw_fcn=draw_sample_COVID19_SEIRD,samples=samples_dict)\n",
    "y_model_F4d = model_F4d.sim(end_sim,start_date=start_calibration,warmup=0,N=n,\n",
    "                          draw_fcn=draw_sample_COVID19_SEIRD,samples=samples_dict)\n",
    "y_model_F1 = model_F1.sim(end_sim,start_date=start_calibration,warmup=0,N=n,\n",
    "                          draw_fcn=draw_sample_COVID19_SEIRD,samples=samples_dict)"
   ]
  },
  {
   "cell_type": "markdown",
   "metadata": {},
   "source": [
    "## Scenario F5: First the most mobile, eff=0.9"
   ]
  },
  {
   "cell_type": "code",
   "execution_count": null,
   "metadata": {
    "ExecuteTime": {
     "end_time": "2020-12-02T14:12:05.214025Z",
     "start_time": "2020-12-02T14:12:05.037816Z"
    }
   },
   "outputs": [],
   "source": [
    "order = [2,3,4,5,6,7,8,1,0]\n",
    "effectivity = 0.9\n",
    "daily=10000"
   ]
  },
  {
   "cell_type": "code",
   "execution_count": null,
   "metadata": {
    "ExecuteTime": {
     "end_time": "2020-12-02T14:12:05.277552Z",
     "start_time": "2020-12-02T14:12:05.217715Z"
    }
   },
   "outputs": [],
   "source": [
    "vaccinated_prop = 0\n",
    "model_F5a = vaccin_model(vaccinated_prop, order, daily, effectivity, initial_states_sept, tdep_fun=no_lockdown)\n",
    "vaccinated_prop = 0.1\n",
    "model_F5b = vaccin_model(vaccinated_prop, order, daily, effectivity, initial_states_sept, tdep_fun=no_lockdown)\n",
    "vaccinated_prop = 0.3\n",
    "model_F5c = vaccin_model(vaccinated_prop, order, daily, effectivity, initial_states_sept, tdep_fun=no_lockdown)\n",
    "vaccinated_prop = 0.5\n",
    "model_F5d = vaccin_model(vaccinated_prop, order, daily, effectivity, initial_states_sept, tdep_fun=no_lockdown)"
   ]
  },
  {
   "cell_type": "code",
   "execution_count": null,
   "metadata": {
    "ExecuteTime": {
     "end_time": "2020-12-02T14:16:41.531578Z",
     "start_time": "2020-12-02T14:12:05.280805Z"
    }
   },
   "outputs": [],
   "source": [
    "y_model_F5a = model_F5a.sim(end_sim,start_date=start_calibration,warmup=0,N=n,\n",
    "                          draw_fcn=draw_sample_COVID19_SEIRD,samples=samples_dict)\n",
    "y_model_F5b = model_F5b.sim(end_sim,start_date=start_calibration,warmup=0,N=n,\n",
    "                          draw_fcn=draw_sample_COVID19_SEIRD,samples=samples_dict)\n",
    "y_model_F5c = model_F5c.sim(end_sim,start_date=start_calibration,warmup=0,N=n,\n",
    "                          draw_fcn=draw_sample_COVID19_SEIRD,samples=samples_dict)\n",
    "y_model_F5d = model_F5d.sim(end_sim,start_date=start_calibration,warmup=0,N=n,\n",
    "                          draw_fcn=draw_sample_COVID19_SEIRD,samples=samples_dict)\n",
    "y_model_F1 = model_F1.sim(end_sim,start_date=start_calibration,warmup=0,N=n,\n",
    "                          draw_fcn=draw_sample_COVID19_SEIRD,samples=samples_dict)"
   ]
  },
  {
   "cell_type": "markdown",
   "metadata": {},
   "source": [
    "## Figures free-case F"
   ]
  },
  {
   "cell_type": "code",
   "execution_count": null,
   "metadata": {
    "ExecuteTime": {
     "end_time": "2020-12-02T21:10:35.241667Z",
     "start_time": "2020-12-02T21:10:30.937179Z"
    },
    "scrolled": false
   },
   "outputs": [],
   "source": [
    "fig,(ax3,ax4) = plt.subplots(figsize=(10,5), nrows=1, ncols=2, sharex=True, sharey=True)\n",
    "\n",
    "ax3.plot('DATE','H_in',data=df_sciensano[start_calibration:end_sim].reset_index(), marker='.', \n",
    "         c='gray', label='data', lw=0, markersize=9, alpha=0.3, markeredgecolor='none')\n",
    "plot_band(ax3, y_model_F1, 'H_in', 'gray', 'no vaccination')\n",
    "plot_band(ax3, y_model_F4a, 'H_in', 'C0', label_0)\n",
    "plot_band(ax3, y_model_F4b, 'H_in', 'C1', label_10)\n",
    "plot_band(ax3, y_model_F4c, 'H_in', 'C2', label_30)\n",
    "plot_band(ax3, y_model_F4d, 'H_in', 'C3', label_50)\n",
    "\n",
    "ax3.set_xlim(start_x, end_x)\n",
    "ax3.set_xticks(pd.date_range(start_x, end_grid, periods=4))\n",
    "ax3.xaxis.set_tick_params(which='both', labelbottom=True)\n",
    "ax3.set_title('Vaccination according to age')\n",
    "\n",
    "ax4.plot('DATE','H_in',data=df_sciensano[start_calibration:end_sim].reset_index(), marker='.', \n",
    "         c='gray', label='data', lw=0, markersize=9, alpha=0.3, markeredgecolor='none')\n",
    "plot_band(ax4, y_model_F1, 'H_in', 'gray', 'no vaccination')\n",
    "plot_band(ax4, y_model_F5a, 'H_in', 'C0', label_0)\n",
    "plot_band(ax4, y_model_F5b, 'H_in', 'C1', label_10)\n",
    "plot_band(ax4, y_model_F5c, 'H_in', 'C2', label_30)\n",
    "plot_band(ax4, y_model_F5d, 'H_in', 'C3', label_50)\n",
    "\n",
    "ax4.set_xlim(start_x, end_x)\n",
    "N_days = int((pd.to_datetime(end_grid) - pd.to_datetime(start_x))/pd.Timedelta('1D'))\n",
    "ax4.set_xticks(pd.date_range(start_x, end_grid, periods=4))\n",
    "#ax4.set_xticklabels(np.arange(0,N_days,step=30))\n",
    "ax4.set_yticklabels('')\n",
    "\n",
    "ax4.xaxis.set_tick_params(which='both', labelbottom=True)\n",
    "ax4.set_title('Vaccination according to number of contacts')\n",
    "\n",
    "# Shrink current axis by 20%\n",
    "box = ax3.get_position()\n",
    "ax3.set_position([box.x0, box.y0, box.width, box.height*0.8])\n",
    "box = ax4.get_position()\n",
    "ax4.set_position([box.x0, box.y0, box.width, box.height*0.8])\n",
    "\n",
    "ax3.legend(loc='upper center', bbox_to_anchor=(1,1.4), ncol=3)\n",
    "\n",
    "#ax1.set_ylim(0,800)\n",
    "fig.text(0, 0.5, 'Number of new hospitalizations', va='center', rotation='vertical')\n",
    "fig.text(0.5, 0.01, 'Time', va='center', rotation='horizontal')\n",
    "\n",
    "\n",
    "fig.savefig('../../results/vaccinations/national/vaccination_wave2_hosp_no_measures.pdf')"
   ]
  },
  {
   "cell_type": "code",
   "execution_count": null,
   "metadata": {
    "ExecuteTime": {
     "end_time": "2020-12-02T21:11:21.126228Z",
     "start_time": "2020-12-02T21:11:17.135009Z"
    },
    "scrolled": false
   },
   "outputs": [],
   "source": [
    "fig,(ax3,ax4) = plt.subplots(figsize=(10,5), nrows=1, ncols=2, sharex=True, sharey=True)\n",
    "\n",
    "# ax3.plot('DATE','D_cum',data=df_sciensano[start_calibration:end_sim].reset_index(), marker='.', \n",
    "#          c='gray', label='data', lw=0, markersize=9, alpha=0.3, markeredgecolor='none')\n",
    "plot_band(ax3, y_model_F1, 'D', 'gray', 'no vaccination')\n",
    "plot_band(ax3, y_model_F4a, 'D', 'C0', label_0)\n",
    "plot_band(ax3, y_model_F4b, 'D', 'C1', label_10)\n",
    "plot_band(ax3, y_model_F4c, 'D', 'C2', label_30)\n",
    "plot_band(ax3, y_model_F4d, 'D', 'C3', label_50)\n",
    "\n",
    "ax3.set_xlim(start_x, end_x)\n",
    "ax3.set_xticks(pd.date_range(start_x, end_grid, periods=4))\n",
    "ax3.xaxis.set_tick_params(which='both', labelbottom=True)\n",
    "ax3.set_title('Vaccination according to age')\n",
    "\n",
    "# ax4.plot('DATE','D_cum',data=df_sciensano[start_calibration:end_sim].reset_index(), marker='.', \n",
    "#          c='gray', label='data', lw=0, markersize=9, alpha=0.3, markeredgecolor='none')\n",
    "plot_band(ax4, y_model_F1, 'D', 'gray', 'no vaccination')\n",
    "plot_band(ax4, y_model_F5a, 'D', 'C0', label_0)\n",
    "plot_band(ax4, y_model_F5b, 'D', 'C1', label_10)\n",
    "plot_band(ax4, y_model_F5c, 'D', 'C2', label_30)\n",
    "plot_band(ax4, y_model_F5d, 'D', 'C3', label_50)\n",
    "\n",
    "ax4.set_xlim(start_x, end_x)\n",
    "N_days = int((pd.to_datetime(end_grid) - pd.to_datetime(start_x))/pd.Timedelta('1D'))\n",
    "ax4.set_xticks(pd.date_range(start_x, end_grid, periods=4))\n",
    "#ax4.set_xticklabels(np.arange(0,N_days,step=30))\n",
    "ax4.set_yticklabels('')\n",
    "\n",
    "ax4.xaxis.set_tick_params(which='both', labelbottom=True)\n",
    "ax4.set_title('Vaccination according to number of contacts')\n",
    "\n",
    "# Shrink current axis by 20%\n",
    "box = ax3.get_position()\n",
    "ax3.set_position([box.x0, box.y0, box.width, box.height*0.8])\n",
    "box = ax4.get_position()\n",
    "ax4.set_position([box.x0, box.y0, box.width, box.height*0.8])\n",
    "\n",
    "ax3.legend(loc='upper center', bbox_to_anchor=(1,1.4), ncol=3)\n",
    "ax3.set_ylim(0,23000)\n",
    "fig.text(0, 0.5, 'Cumulative number of deaths', va='center', rotation='vertical')\n",
    "fig.text(0.5, 0.01, 'Time', va='center', rotation='horizontal')\n",
    "\n",
    "\n",
    "fig.savefig('../../results/vaccinations/national/vaccination_wave2_deaths_no_measures.pdf')"
   ]
  },
  {
   "cell_type": "markdown",
   "metadata": {
    "heading_collapsed": true
   },
   "source": [
    "## Age-group figures"
   ]
  },
  {
   "cell_type": "code",
   "execution_count": null,
   "metadata": {
    "ExecuteTime": {
     "end_time": "2020-11-27T14:28:47.159808Z",
     "start_time": "2020-11-27T14:28:38.285790Z"
    },
    "hidden": true,
    "scrolled": false
   },
   "outputs": [],
   "source": [
    "age_group = 8\n",
    "fig,((ax1,ax2),(ax3,ax4)) = plt.subplots(figsize=(10,10), nrows=2, ncols=2, sharex=True, sharey=True)\n",
    "# ax1.plot('DATE','D_cum',data=df_sciensano[start_calibration:end_sim].reset_index(), marker='.', \n",
    "#          c='gray', label='data', lw=0, markersize=9, alpha=0.3, markeredgecolor='none')\n",
    "plot_band_age(ax1, y_model_F1, age_group, 'D', 'gray', 'no vaccination')\n",
    "plot_band_age(ax1, y_model_F2a, age_group, 'D', 'C0', '0% at start')\n",
    "plot_band_age(ax1, y_model_F2b, age_group, 'D', 'C1', '10% at start')\n",
    "plot_band_age(ax1, y_model_F2c, age_group, 'D', 'C2', '30% at start')\n",
    "plot_band_age(ax1, y_model_F2d, age_group, 'D', 'C3', '50% at start')\n",
    "\n",
    "ax1.set_xlim(start_x, end_x)\n",
    "ax1.set_xticks(pd.date_range(start_x, end_grid, periods=4))\n",
    "ax1.xaxis.set_tick_params(which='both', labelbottom=True)\n",
    "ax1.set_title('Vaccination according to age \\n 70% effectivity')\n",
    "\n",
    "\n",
    "# ax2.plot('DATE','D_cum',data=df_sciensano[start_calibration:end_sim].reset_index(), marker='.', \n",
    "#          c='gray', label='data', lw=0, markersize=9, alpha=0.3, markeredgecolor='none')\n",
    "plot_band_age(ax2, y_model_F1, age_group, 'D', 'gray', 'no vaccination')\n",
    "plot_band_age(ax2, y_model_F3a, age_group, 'D', 'C0', '0% at start')\n",
    "plot_band_age(ax2, y_model_F3b, age_group, 'D', 'C1', '10% at start')\n",
    "plot_band_age(ax2, y_model_F3c, age_group, 'D', 'C2', '30% at start')\n",
    "plot_band_age(ax2, y_model_F3d, age_group, 'D', 'C3', '50% at start')\n",
    "\n",
    "ax2.set_xlim(start_x, end_x)\n",
    "ax2.set_xticks(pd.date_range(start_x, end_grid, periods=4))\n",
    "ax2.xaxis.set_tick_params(which='both', labelbottom=True)\n",
    "ax2.set_title('Vaccination according to number of contacts \\n 70% effectivity')\n",
    "\n",
    "\n",
    "# ax3.plot('DATE','D_cum',data=df_sciensano[start_calibration:end_sim].reset_index(), marker='.', \n",
    "#          c='gray', label='data', lw=0, markersize=9, alpha=0.3, markeredgecolor='none')\n",
    "plot_band_age(ax3, y_model_F1, age_group, 'D', 'gray', 'no vaccination')\n",
    "plot_band_age(ax3, y_model_F4a, age_group, 'D', 'C0', '0% at start')\n",
    "plot_band_age(ax3, y_model_F4b, age_group, 'D', 'C1', '10% at start')\n",
    "plot_band_age(ax3, y_model_F4c, age_group, 'D', 'C2', '30% at start')\n",
    "plot_band_age(ax3, y_model_F4d, age_group, 'D', 'C3', '50% at start')\n",
    "\n",
    "ax3.set_xlim(start_x, end_x)\n",
    "ax3.set_xticks(pd.date_range(start_x, end_grid, periods=4))\n",
    "ax3.xaxis.set_tick_params(which='both', labelbottom=True)\n",
    "ax3.set_title('90% effectivity')\n",
    "\n",
    "# ax4.plot('DATE','D_cum',data=df_sciensano[start_calibration:end_sim].reset_index(), marker='.', \n",
    "#          c='gray', label='data', lw=0, markersize=9, alpha=0.3, markeredgecolor='none')\n",
    "plot_band_age(ax4, y_model_F1, age_group, 'D', 'gray', 'no vaccination')\n",
    "plot_band_age(ax4, y_model_F5a, age_group, 'D', 'C0', '0% at start')\n",
    "plot_band_age(ax4, y_model_F5b, age_group, 'D', 'C1', '10% at start')\n",
    "plot_band_age(ax4, y_model_F5c, age_group, 'D', 'C2', '30% at start')\n",
    "plot_band_age(ax4, y_model_F5d, age_group, 'D', 'C3', '50% at start')\n",
    "\n",
    "ax4.set_xlim(start_x, end_x)\n",
    "ax4.set_xticks(pd.date_range(start_x, end_grid, periods=4))\n",
    "ax4.xaxis.set_tick_params(which='both', labelbottom=True)\n",
    "ax4.set_title('90% effectivity')\n",
    "\n",
    "\n",
    "ax1.legend(loc='upper center', bbox_to_anchor=(1, 1.35), ncol=3)\n",
    "ax1.set_ylim(0,22500)\n",
    "fig.text(0, 0.5, 'Cumulative number of deaths', va='center', rotation='vertical')\n",
    "fig.text(0.5, 0.01, 'Time', va='center', rotation='horizontal')\n",
    "\n",
    "\n",
    "#fig.savefig('../../results/vaccinations/national/vaccination_wave2_deaths_no_measures_age80+.pdf')"
   ]
  },
  {
   "cell_type": "code",
   "execution_count": null,
   "metadata": {
    "ExecuteTime": {
     "end_time": "2020-11-27T14:28:56.845418Z",
     "start_time": "2020-11-27T14:28:47.626417Z"
    },
    "hidden": true,
    "scrolled": false
   },
   "outputs": [],
   "source": [
    "age_group = 5\n",
    "fig,((ax1,ax2),(ax3,ax4)) = plt.subplots(figsize=(10,10), nrows=2, ncols=2, sharex=True, sharey=True)\n",
    "# ax1.plot('DATE','D_cum',data=df_sciensano[start_calibration:end_sim].reset_index(), marker='.', \n",
    "#          c='gray', label='data', lw=0, markersize=9, alpha=0.3, markeredgecolor='none')\n",
    "plot_band_age(ax1, y_model_F1, age_group, 'D', 'gray', 'no vaccination')\n",
    "plot_band_age(ax1, y_model_F2a, age_group, 'D', 'C0', '0% at start')\n",
    "plot_band_age(ax1, y_model_F2b, age_group, 'D', 'C1', '10% at start')\n",
    "plot_band_age(ax1, y_model_F2c, age_group, 'D', 'C2', '30% at start')\n",
    "plot_band_age(ax1, y_model_F2d, age_group, 'D', 'C3', '50% at start')\n",
    "\n",
    "ax1.set_xlim(start_x, end_x)\n",
    "ax1.set_xticks(pd.date_range(start_x, end_grid, periods=4))\n",
    "ax1.xaxis.set_tick_params(which='both', labelbottom=True)\n",
    "ax1.set_title('Vaccination according to age \\n 70% effectivity')\n",
    "\n",
    "\n",
    "# ax2.plot('DATE','D_cum',data=df_sciensano[start_calibration:end_sim].reset_index(), marker='.', \n",
    "#          c='gray', label='data', lw=0, markersize=9, alpha=0.3, markeredgecolor='none')\n",
    "plot_band_age(ax2, y_model_F1, age_group, 'D', 'gray', 'no vaccination')\n",
    "plot_band_age(ax2, y_model_F3a, age_group, 'D', 'C0', '0% at start')\n",
    "plot_band_age(ax2, y_model_F3b, age_group, 'D', 'C1', '10% at start')\n",
    "plot_band_age(ax2, y_model_F3c, age_group, 'D', 'C2', '30% at start')\n",
    "plot_band_age(ax2, y_model_F3d, age_group, 'D', 'C3', '50% at start')\n",
    "\n",
    "ax2.set_xlim(start_x, end_x)\n",
    "ax2.set_xticks(pd.date_range(start_x, end_grid, periods=4))\n",
    "ax2.xaxis.set_tick_params(which='both', labelbottom=True)\n",
    "ax2.set_title('Vaccination according to number of contacts \\n 70% effectivity')\n",
    "\n",
    "\n",
    "# ax3.plot('DATE','D_cum',data=df_sciensano[start_calibration:end_sim].reset_index(), marker='.', \n",
    "#          c='gray', label='data', lw=0, markersize=9, alpha=0.3, markeredgecolor='none')\n",
    "plot_band_age(ax3, y_model_F1, age_group, 'D', 'gray', 'no vaccination')\n",
    "plot_band_age(ax3, y_model_F4a, age_group, 'D', 'C0', '0% at start')\n",
    "plot_band_age(ax3, y_model_F4b, age_group, 'D', 'C1', '10% at start')\n",
    "plot_band_age(ax3, y_model_F4c, age_group, 'D', 'C2', '30% at start')\n",
    "plot_band_age(ax3, y_model_F4d, age_group, 'D', 'C3', '50% at start')\n",
    "\n",
    "ax3.set_xlim(start_x, end_x)\n",
    "ax3.set_xticks(pd.date_range(start_x, end_grid, periods=4))\n",
    "ax3.xaxis.set_tick_params(which='both', labelbottom=True)\n",
    "ax3.set_title('90% effectivity')\n",
    "\n",
    "# ax4.plot('DATE','D_cum',data=df_sciensano[start_calibration:end_sim].reset_index(), marker='.', \n",
    "#          c='gray', label='data', lw=0, markersize=9, alpha=0.3, markeredgecolor='none')\n",
    "plot_band_age(ax4, y_model_F1, age_group, 'D', 'gray', 'no vaccination')\n",
    "plot_band_age(ax4, y_model_F5a, age_group, 'D', 'C0', '0% at start')\n",
    "plot_band_age(ax4, y_model_F5b, age_group, 'D', 'C1', '10% at start')\n",
    "plot_band_age(ax4, y_model_F5c, age_group, 'D', 'C2', '30% at start')\n",
    "plot_band_age(ax4, y_model_F5d, age_group, 'D', 'C3', '50% at start')\n",
    "\n",
    "ax4.set_xlim(start_x, end_x)\n",
    "ax4.set_xticks(pd.date_range(start_x, end_grid, periods=4))\n",
    "ax4.xaxis.set_tick_params(which='both', labelbottom=True)\n",
    "ax4.set_title('90% effectivity')\n",
    "\n",
    "\n",
    "ax1.legend(loc='upper center', bbox_to_anchor=(1, 1.35), ncol=3)\n",
    "ax1.set_ylim(0,2500)\n",
    "fig.text(0, 0.5, 'Cumulative number of deaths', va='center', rotation='vertical')\n",
    "fig.text(0.5, 0.01, 'Time', va='center', rotation='horizontal')\n",
    "\n",
    "\n",
    "#fig.savefig('../../results/vaccinations/national/vaccination_wave2_deaths_no_measures_age50-60.pdf')"
   ]
  },
  {
   "cell_type": "markdown",
   "metadata": {},
   "source": [
    "# Scenario A: contact level pre-pandemic"
   ]
  },
  {
   "cell_type": "code",
   "execution_count": null,
   "metadata": {
    "ExecuteTime": {
     "end_time": "2020-12-03T07:18:22.332822Z",
     "start_time": "2020-12-03T07:18:22.109861Z"
    }
   },
   "outputs": [],
   "source": [
    "# Load the model parameters using `get_COVID19_SEIRD_parameters()`.\n",
    "params = model_parameters.get_COVID19_SEIRD_parameters()"
   ]
  },
  {
   "cell_type": "code",
   "execution_count": null,
   "metadata": {
    "ExecuteTime": {
     "end_time": "2020-12-03T07:18:22.558426Z",
     "start_time": "2020-12-03T07:18:22.517195Z"
    }
   },
   "outputs": [],
   "source": [
    "# Initialize the model\n",
    "model_A1 = models.COVID19_SEIRD(initial_states_sept, params)"
   ]
  },
  {
   "cell_type": "code",
   "execution_count": null,
   "metadata": {
    "ExecuteTime": {
     "end_time": "2020-12-03T07:16:37.931433Z",
     "start_time": "2020-12-03T07:16:37.892264Z"
    }
   },
   "outputs": [],
   "source": [
    "\n",
    "# fig,ax=plt.subplots(figsize=(10,4))\n",
    "# for i in range(5):\n",
    "#     # Sampling\n",
    "#     #model_A1.parameters['beta'] = np.random.choice(samples_dict['beta'])\n",
    "#     # Simulate\n",
    "#     y_model_A1 = model_A1.sim(end_sim,start_date=start_calibration,warmup=0)\n",
    "#     # Plot\n",
    "#     ax.plot(y_model_A1['time'],y_model_A1[\"H_in\"].sum(dim=\"Nc\"),color='blue',alpha=0.1)\n",
    "\n",
    "# ax.scatter(df_sciensano[start_calibration:end_calibration].index,df_sciensano['H_in'][start_calibration:end_calibration],color='black',alpha=0.6,linestyle='None',facecolors='none')\n",
    "\n",
    "# ax.set_xlim('2020-09-01',end_sim)"
   ]
  },
  {
   "cell_type": "code",
   "execution_count": null,
   "metadata": {
    "ExecuteTime": {
     "end_time": "2020-12-03T07:18:29.949890Z",
     "start_time": "2020-12-03T07:18:29.911002Z"
    }
   },
   "outputs": [],
   "source": [
    "n=5"
   ]
  },
  {
   "cell_type": "code",
   "execution_count": null,
   "metadata": {
    "ExecuteTime": {
     "end_time": "2020-12-03T07:21:19.551255Z",
     "start_time": "2020-12-03T07:21:19.008032Z"
    }
   },
   "outputs": [],
   "source": [
    "y_model_A1 = model_A1.sim(end_sim,start_date=start_calibration,warmup=0,N=n,\n",
    "                          draw_fcn=None,samples=samples_dict)"
   ]
  },
  {
   "cell_type": "markdown",
   "metadata": {},
   "source": [
    "## Scenario A4: Vaccination old to young, eff=0.9"
   ]
  },
  {
   "cell_type": "code",
   "execution_count": null,
   "metadata": {
    "ExecuteTime": {
     "end_time": "2020-12-03T07:18:34.751896Z",
     "start_time": "2020-12-03T07:18:34.711575Z"
    }
   },
   "outputs": [],
   "source": [
    "order = [8,7,6,5,4,3,2,1,0]\n",
    "effectivity = 0.9\n",
    "daily=10000"
   ]
  },
  {
   "cell_type": "code",
   "execution_count": null,
   "metadata": {
    "ExecuteTime": {
     "end_time": "2020-12-03T07:18:34.949396Z",
     "start_time": "2020-12-03T07:18:34.905492Z"
    }
   },
   "outputs": [],
   "source": [
    "vaccinated_prop = 0\n",
    "model_A4a = vaccin_model(vaccinated_prop, order, daily, effectivity, initial_states_sept)\n",
    "vaccinated_prop = 0.1\n",
    "model_A4b = vaccin_model(vaccinated_prop, order, daily, effectivity, initial_states_sept)\n",
    "vaccinated_prop = 0.3\n",
    "model_A4c = vaccin_model(vaccinated_prop, order, daily, effectivity, initial_states_sept)\n",
    "vaccinated_prop = 0.5\n",
    "model_A4d = vaccin_model(vaccinated_prop, order, daily, effectivity, initial_states_sept)"
   ]
  },
  {
   "cell_type": "code",
   "execution_count": null,
   "metadata": {
    "ExecuteTime": {
     "end_time": "2020-12-03T07:18:39.091188Z",
     "start_time": "2020-12-03T07:18:35.136716Z"
    }
   },
   "outputs": [],
   "source": [
    "y_model_A4a = model_A4a.sim(end_sim,start_date=start_calibration,warmup=0,N=n,\n",
    "                          draw_fcn=None,samples=samples_dict)\n",
    "y_model_A4b = model_A4b.sim(end_sim,start_date=start_calibration,warmup=0,N=n,\n",
    "                          draw_fcn=None,samples=samples_dict)\n",
    "y_model_A4c = model_A4c.sim(end_sim,start_date=start_calibration,warmup=0,N=n,\n",
    "                          draw_fcn=None,samples=samples_dict)\n",
    "y_model_A4d = model_A4d.sim(end_sim,start_date=start_calibration,warmup=0,N=n,\n",
    "                          draw_fcn=None,samples=samples_dict)"
   ]
  },
  {
   "cell_type": "markdown",
   "metadata": {},
   "source": [
    "## Scenario A5: First the most mobile, eff=0.9"
   ]
  },
  {
   "cell_type": "code",
   "execution_count": null,
   "metadata": {
    "ExecuteTime": {
     "end_time": "2020-12-03T07:18:40.295702Z",
     "start_time": "2020-12-03T07:18:40.255273Z"
    }
   },
   "outputs": [],
   "source": [
    "order = [2,3,4,5,6,7,8,1,0]\n",
    "effectivity = 0.9\n",
    "daily=10000"
   ]
  },
  {
   "cell_type": "code",
   "execution_count": null,
   "metadata": {
    "ExecuteTime": {
     "end_time": "2020-12-03T07:18:40.517610Z",
     "start_time": "2020-12-03T07:18:40.472991Z"
    }
   },
   "outputs": [],
   "source": [
    "vaccinated_prop = 0\n",
    "model_A5a = vaccin_model(vaccinated_prop, order, daily, effectivity, initial_states_sept)\n",
    "vaccinated_prop = 0.1\n",
    "model_A5b = vaccin_model(vaccinated_prop, order, daily, effectivity, initial_states_sept)\n",
    "vaccinated_prop = 0.3\n",
    "model_A5c = vaccin_model(vaccinated_prop, order, daily, effectivity, initial_states_sept)\n",
    "vaccinated_prop = 0.5\n",
    "model_A5d = vaccin_model(vaccinated_prop, order, daily, effectivity, initial_states_sept)"
   ]
  },
  {
   "cell_type": "code",
   "execution_count": null,
   "metadata": {
    "ExecuteTime": {
     "end_time": "2020-12-03T07:18:45.214817Z",
     "start_time": "2020-12-03T07:18:41.238999Z"
    }
   },
   "outputs": [],
   "source": [
    "y_model_A5a = model_A5a.sim(end_sim,start_date=start_calibration,warmup=0,N=n,\n",
    "                          draw_fcn=None,samples=samples_dict)\n",
    "y_model_A5b = model_A5b.sim(end_sim,start_date=start_calibration,warmup=0,N=n,\n",
    "                          draw_fcn=None,samples=samples_dict)\n",
    "y_model_A5c = model_A5c.sim(end_sim,start_date=start_calibration,warmup=0,N=n,\n",
    "                          draw_fcn=None,samples=samples_dict)\n",
    "y_model_A5d = model_A5d.sim(end_sim,start_date=start_calibration,warmup=0,N=n,\n",
    "                          draw_fcn=None,samples=samples_dict)"
   ]
  },
  {
   "cell_type": "markdown",
   "metadata": {},
   "source": [
    "## Figures case A"
   ]
  },
  {
   "cell_type": "code",
   "execution_count": null,
   "metadata": {
    "ExecuteTime": {
     "end_time": "2020-12-03T07:24:40.774838Z",
     "start_time": "2020-12-03T07:24:36.750697Z"
    },
    "scrolled": false
   },
   "outputs": [],
   "source": [
    "fig,(ax3,ax4) = plt.subplots(figsize=(10,5), nrows=1, ncols=2, sharex=True, sharey=True)\n",
    "\n",
    "ax3.plot('DATE','H_in',data=df_sciensano[start_calibration:end_sim].reset_index(), marker='.', \n",
    "         c='gray', label='data', lw=0, markersize=9, alpha=0.3, markeredgecolor='none')\n",
    "plot_band(ax3, y_model_A1, 'H_in', 'gray', 'no vaccination')\n",
    "plot_band(ax3, y_model_A4a, 'H_in', 'C0', label_0)\n",
    "plot_band(ax3, y_model_A4b, 'H_in', 'C1', label_10)\n",
    "plot_band(ax3, y_model_A4c, 'H_in', 'C2', label_30)\n",
    "plot_band(ax3, y_model_A4d, 'H_in', 'C3', label_50)\n",
    "\n",
    "ax3.set_xlim(start_x, end_x)\n",
    "ax3.set_xticks(pd.date_range(start_x, end_grid, periods=4))\n",
    "ax3.xaxis.set_tick_params(which='both', labelbottom=True)\n",
    "ax3.set_title('Vaccination according to age')\n",
    "\n",
    "ax4.plot('DATE','H_in',data=df_sciensano[start_calibration:end_sim].reset_index(), marker='.', \n",
    "         c='gray', label='data', lw=0, markersize=9, alpha=0.3, markeredgecolor='none')\n",
    "plot_band(ax4, y_model_A1, 'H_in', 'gray', 'no vaccination')\n",
    "plot_band(ax4, y_model_A5a, 'H_in', 'C0', label_0)\n",
    "plot_band(ax4, y_model_A5b, 'H_in', 'C1', label_10)\n",
    "plot_band(ax4, y_model_A5c, 'H_in', 'C2', label_30)\n",
    "plot_band(ax4, y_model_A5d, 'H_in', 'C3', label_50)\n",
    "\n",
    "ax4.set_xlim(start_x, end_x)\n",
    "ax4.set_xticks(pd.date_range(start_x, end_grid, periods=4))\n",
    "ax4.xaxis.set_tick_params(which='both', labelbottom=True)\n",
    "ax4.set_title('Vaccination according to number of contacts')\n",
    "ax4.set_yticklabels('')\n",
    "\n",
    "\n",
    "# Shrink current axis by 20%\n",
    "box = ax3.get_position()\n",
    "ax3.set_position([box.x0, box.y0, box.width, box.height*0.8])\n",
    "box = ax4.get_position()\n",
    "ax4.set_position([box.x0, box.y0, box.width, box.height*0.8])\n",
    "\n",
    "ax3.legend(loc='upper center', bbox_to_anchor=(1,1.4), ncol=3)\n",
    "\n",
    "#ax1.set_ylim(0,800)\n",
    "fig.text(0, 0.5, 'Number of new hospitalizations', va='center', rotation='vertical')\n",
    "fig.text(0.5, 0.01, 'Time', va='center', rotation='horizontal')\n",
    "\n",
    "\n",
    "fig.savefig('../../results/vaccinations/national/vaccination_hosp_prelockdown.pdf')"
   ]
  },
  {
   "cell_type": "code",
   "execution_count": null,
   "metadata": {
    "ExecuteTime": {
     "end_time": "2020-12-03T07:24:58.188497Z",
     "start_time": "2020-12-03T07:24:53.909512Z"
    },
    "scrolled": false
   },
   "outputs": [],
   "source": [
    "fig,(ax3,ax4) = plt.subplots(figsize=(10,5), nrows=1, ncols=2, sharex=True, sharey=True)\n",
    "\n",
    "# ax3.plot('DATE','D_cum',data=df_sciensano[start_calibration:end_sim].reset_index(), marker='.', \n",
    "#          c='gray', label='data', lw=0, markersize=9, alpha=0.3, markeredgecolor='none')\n",
    "plot_band(ax3, y_model_A1, 'D', 'gray', 'no vaccination')\n",
    "plot_band(ax3, y_model_A4a, 'D', 'C0', label_0)\n",
    "plot_band(ax3, y_model_A4b, 'D', 'C1', label_10)\n",
    "plot_band(ax3, y_model_A4c, 'D', 'C2', label_30)\n",
    "plot_band(ax3, y_model_A4d, 'D', 'C3', label_50)\n",
    "\n",
    "ax3.set_xlim(start_x, end_x)\n",
    "ax3.set_xticks(pd.date_range(start_x, end_grid, periods=4))\n",
    "ax3.xaxis.set_tick_params(which='both', labelbottom=True)\n",
    "ax3.set_title('Vaccination according to age')\n",
    "\n",
    "# ax4.plot('DATE','D_cum',data=df_sciensano[start_calibration:end_sim].reset_index(), marker='.', \n",
    "#          c='gray', label='data', lw=0, markersize=9, alpha=0.3, markeredgecolor='none')\n",
    "plot_band(ax4, y_model_A1, 'D', 'gray', 'no vaccination')\n",
    "plot_band(ax4, y_model_A5a, 'D', 'C0', label_0)\n",
    "plot_band(ax4, y_model_A5b, 'D', 'C1', label_10)\n",
    "plot_band(ax4, y_model_A5c, 'D', 'C2', label_30)\n",
    "plot_band(ax4, y_model_A5d, 'D', 'C3', label_50)\n",
    "\n",
    "ax4.set_xlim(start_x, end_x)\n",
    "ax4.set_xticks(pd.date_range(start_x, end_grid, periods=4))\n",
    "ax4.xaxis.set_tick_params(which='both', labelbottom=True)\n",
    "ax4.set_title('Vaccination according to number of contacts')\n",
    "ax4.set_yticklabels('')\n",
    "\n",
    "\n",
    "# Shrink current axis by 20%\n",
    "box = ax3.get_position()\n",
    "ax3.set_position([box.x0, box.y0, box.width, box.height*0.8])\n",
    "box = ax4.get_position()\n",
    "ax4.set_position([box.x0, box.y0, box.width, box.height*0.8])\n",
    "\n",
    "ax3.legend(loc='upper center', bbox_to_anchor=(1,1.4), ncol=3)\n",
    "\n",
    "#ax3.set_ylim(0,22500)\n",
    "fig.text(0, 0.5, 'Cumulative number of deaths', va='center', rotation='vertical')\n",
    "fig.text(0.5, 0.01, 'Time', va='center', rotation='horizontal')\n",
    "\n",
    "\n",
    "fig.savefig('../../results/vaccinations/national/vaccination_wave2_deaths_prelockdown.pdf')"
   ]
  },
  {
   "cell_type": "code",
   "execution_count": null,
   "metadata": {},
   "outputs": [],
   "source": []
  },
  {
   "cell_type": "markdown",
   "metadata": {},
   "source": [
    "# Scenario C: comix August"
   ]
  },
  {
   "cell_type": "code",
   "execution_count": null,
   "metadata": {
    "ExecuteTime": {
     "end_time": "2020-12-02T19:21:04.703622Z",
     "start_time": "2020-12-02T19:21:04.462344Z"
    }
   },
   "outputs": [],
   "source": [
    "# Load the model parameters using `get_COVID19_SEIRD_parameters()`.\n",
    "params_comix = model_parameters.get_COVID19_SEIRD_parameters()"
   ]
  },
  {
   "cell_type": "code",
   "execution_count": null,
   "metadata": {
    "ExecuteTime": {
     "end_time": "2020-12-02T19:21:17.991606Z",
     "start_time": "2020-12-02T19:21:17.953980Z"
    }
   },
   "outputs": [],
   "source": [
    "params_comix.update({'Nc':Nc_comix})"
   ]
  },
  {
   "cell_type": "code",
   "execution_count": null,
   "metadata": {
    "ExecuteTime": {
     "end_time": "2020-12-02T19:21:29.624996Z",
     "start_time": "2020-12-02T19:21:29.586385Z"
    }
   },
   "outputs": [],
   "source": [
    "# Initialize the model\n",
    "model_C1 = models.COVID19_SEIRD(initial_states_sept, params_comix)"
   ]
  },
  {
   "cell_type": "code",
   "execution_count": null,
   "metadata": {
    "ExecuteTime": {
     "end_time": "2020-12-02T19:21:55.315112Z",
     "start_time": "2020-12-02T19:21:54.752896Z"
    }
   },
   "outputs": [],
   "source": [
    "\n",
    "fig,ax=plt.subplots(figsize=(10,4))\n",
    "for i in range(5):\n",
    "    # Sampling\n",
    "    #model_C1.parameters['beta'] = np.random.choice(samples_dict['beta'])\n",
    "    # Simulate\n",
    "    y_model_C1 = model_C1.sim(end_sim,start_date=start_calibration,warmup=0)\n",
    "    # Plot\n",
    "    ax.plot(y_model_C1['time'],y_model_C1[\"H_in\"].sum(dim=\"Nc\"),color='blue',alpha=0.1)\n",
    "\n",
    "#ax.scatter(df_sciensano[start_calibration:end_calibration].index,df_sciensano['H_in'][start_calibration:end_calibration],color='black',alpha=0.6,linestyle='None',facecolors='none')\n",
    "\n",
    "ax.set_xlim('2020-09-01',end_sim)"
   ]
  },
  {
   "cell_type": "code",
   "execution_count": null,
   "metadata": {},
   "outputs": [],
   "source": []
  },
  {
   "cell_type": "markdown",
   "metadata": {},
   "source": [
    "# Save data"
   ]
  },
  {
   "cell_type": "code",
   "execution_count": null,
   "metadata": {
    "ExecuteTime": {
     "end_time": "2020-12-02T14:16:52.388637Z",
     "start_time": "2020-12-02T14:16:49.210634Z"
    }
   },
   "outputs": [],
   "source": [
    "S_results_H_in = pd.DataFrame()\n",
    "S_results_H_in['time'] =  y_model_S1['time']\n",
    "var = 'H_in'\n",
    "for x in ['S1', 'S4a', 'S4b', 'S4c', 'S4d', 'S5a', 'S5b', 'S5c', 'S5d']:\n",
    "    mod = eval('y_model_'+x)\n",
    "    S_results_H_in[x] = mod[var].mean(dim=\"draws\").sum(dim=\"Nc\")\n",
    "    S_results_H_in[x+'_LL'] =  mod[var].quantile(LL,dim=\"draws\").sum(dim=\"Nc\")\n",
    "    S_results_H_in[x+'_UL'] =  mod[var].quantile(UL,dim=\"draws\").sum(dim=\"Nc\")\n",
    "S_results_H_in.to_csv('../../results/vaccinations/national/S_results_H_in.csv', index=None)"
   ]
  },
  {
   "cell_type": "code",
   "execution_count": null,
   "metadata": {
    "ExecuteTime": {
     "end_time": "2020-12-02T14:16:56.516592Z",
     "start_time": "2020-12-02T14:16:52.391009Z"
    }
   },
   "outputs": [],
   "source": [
    "S_results_D = pd.DataFrame()\n",
    "S_results_D['time'] =  y_model_S1['time']\n",
    "var = 'D'\n",
    "for x in ['S1', 'S4a', 'S4b', 'S4c', 'S4d', 'S5a', 'S5b', 'S5c', 'S5d']:\n",
    "    mod = eval('y_model_'+x)\n",
    "    S_results_D[x] = mod[var].mean(dim=\"draws\").sum(dim=\"Nc\")\n",
    "    S_results_D[x+'_LL'] =  mod[var].quantile(LL,dim=\"draws\").sum(dim=\"Nc\")\n",
    "    S_results_D[x+'_UL'] =  mod[var].quantile(UL,dim=\"draws\").sum(dim=\"Nc\")\n",
    "S_results_D.to_csv('../../results/vaccinations/national/S_results_D.csv', index=None)"
   ]
  },
  {
   "cell_type": "code",
   "execution_count": null,
   "metadata": {
    "ExecuteTime": {
     "end_time": "2020-12-02T14:17:00.043567Z",
     "start_time": "2020-12-02T14:16:56.519317Z"
    }
   },
   "outputs": [],
   "source": [
    "F_results_H_in = pd.DataFrame()\n",
    "F_results_H_in['time'] =  y_model_F1['time']\n",
    "var = 'H_in'\n",
    "for x in ['F1', 'F4a', 'F4b', 'F4c', 'F4d', 'F5a', 'F5b', 'F5c', 'F5d']:\n",
    "    mod = eval('y_model_'+x)\n",
    "    F_results_H_in[x] = mod[var].mean(dim=\"draws\").sum(dim=\"Nc\")\n",
    "    F_results_H_in[x+'_LL'] =  mod[var].quantile(LL,dim=\"draws\").sum(dim=\"Nc\")\n",
    "    F_results_H_in[x+'_UL'] =  mod[var].quantile(UL,dim=\"draws\").sum(dim=\"Nc\")\n",
    "F_results_H_in.to_csv('../../results/vaccinations/national/F_results_H_in.csv', index=None)"
   ]
  },
  {
   "cell_type": "code",
   "execution_count": null,
   "metadata": {
    "ExecuteTime": {
     "end_time": "2020-12-02T14:17:03.740426Z",
     "start_time": "2020-12-02T14:17:00.047958Z"
    }
   },
   "outputs": [],
   "source": [
    "F_results_D = pd.DataFrame()\n",
    "F_results_D['time'] =  y_model_F1['time']\n",
    "var = 'D'\n",
    "for x in ['F1', 'F4a', 'F4b', 'F4c', 'F4d', 'F5a', 'F5b', 'F5c', 'F5d']:\n",
    "    mod = eval('y_model_'+x)\n",
    "    F_results_D[x] = mod[var].mean(dim=\"draws\").sum(dim=\"Nc\")\n",
    "    F_results_D[x+'_LL'] =  mod[var].quantile(LL,dim=\"draws\").sum(dim=\"Nc\")\n",
    "    F_results_D[x+'_UL'] =  mod[var].quantile(UL,dim=\"draws\").sum(dim=\"Nc\")\n",
    "F_results_D.to_csv('../../results/vaccinations/national/F_results_D.csv', index=None)"
   ]
  },
  {
   "cell_type": "markdown",
   "metadata": {
    "ExecuteTime": {
     "end_time": "2020-12-02T09:47:36.607419Z",
     "start_time": "2020-12-02T09:47:33.398902Z"
    },
    "heading_collapsed": true
   },
   "source": [
    "# Plot saved data"
   ]
  },
  {
   "cell_type": "code",
   "execution_count": null,
   "metadata": {
    "ExecuteTime": {
     "end_time": "2020-12-02T12:05:19.070053Z",
     "start_time": "2020-12-02T12:05:19.026546Z"
    },
    "hidden": true
   },
   "outputs": [],
   "source": [
    "S_results_H_in = pd.read_csv('../../results/vaccinations/national/S_results_H_in.csv', parse_dates=['time'])"
   ]
  },
  {
   "cell_type": "code",
   "execution_count": null,
   "metadata": {
    "hidden": true
   },
   "outputs": [],
   "source": [
    "plot_band_saved_data(ax3, S_results_H_in, 'S1', 'S1_LL', 'S1_UL', 'gray', 'no vaccination')\n"
   ]
  },
  {
   "cell_type": "code",
   "execution_count": null,
   "metadata": {
    "ExecuteTime": {
     "end_time": "2020-12-02T12:05:22.288309Z",
     "start_time": "2020-12-02T12:05:22.083028Z"
    },
    "hidden": true
   },
   "outputs": [],
   "source": [
    "fig,(ax3,ax4) = plt.subplots(figsize=(10,5), nrows=1, ncols=2, sharex=True, sharey=True)\n",
    "\n",
    "ax3.plot('DATE','H_in',data=df_sciensano[start_calibration:end_sim].reset_index(), marker='.', \n",
    "         c='gray', label='data', lw=0, markersize=9, alpha=0.3, markeredgecolor='none')\n",
    "plot_band_saved_data(ax3, S_results_H_in, 'S1', 'S1_LL', 'S1_UL', 'gray', 'no vaccination')\n",
    "plot_band_saved_data(ax3, S_results_H_in, 'S1', 'S1_LL', 'S1_UL', 'gray', 'no vaccination')\n",
    "\n",
    "# plot_band(ax3, y_model_S4a, 'H_in', 'C0', '0% at start')\n",
    "# plot_band(ax3, y_model_S4b, 'H_in', 'C1', '10% at start')\n",
    "# plot_band(ax3, y_model_S4c, 'H_in', 'C2', '30% at start')\n",
    "# plot_band(ax3, y_model_S4d, 'H_in', 'C3', '50% at start')\n",
    "\n",
    "ax3.set_xlim(start_x, end_x)\n",
    "ax3.set_xticks(pd.date_range(start_x, end_grid, periods=4))\n",
    "ax3.xaxis.set_tick_params(which='both', labelbottom=True)\n",
    "ax3.set_title('Vaccination according to age')\n",
    "\n",
    "ax4.plot('DATE','H_in',data=df_sciensano[start_calibration:end_sim].reset_index(), marker='.', \n",
    "         c='gray', label='data', lw=0, markersize=9, alpha=0.3, markeredgecolor='none')\n",
    "# plot_band(ax4, y_model_S1, 'H_in', 'gray', 'no vaccination')\n",
    "# plot_band(ax4, y_model_S5a, 'H_in', 'C0', '0% at start')\n",
    "# plot_band(ax4, y_model_S5b, 'H_in', 'C1', '10% at start')\n",
    "# plot_band(ax4, y_model_S5c, 'H_in', 'C2', '30% at start')\n",
    "# plot_band(ax4, y_model_S5d, 'H_in', 'C3', '50% at start')\n",
    "\n",
    "ax4.set_xlim(start_x, end_x)\n",
    "ax4.set_xticks(pd.date_range(start_x, end_grid, periods=4))\n",
    "ax4.xaxis.set_tick_params(which='both', labelbottom=True)\n",
    "ax4.set_title('Vaccination according to number of contacts')\n",
    "\n",
    "\n",
    "ax3.legend(loc='upper center', bbox_to_anchor=(1, 1.35), ncol=3)\n",
    "ax3.set_ylim(0,800)\n",
    "fig.text(0, 0.5, 'Number of new hospitalizations', va='center', rotation='vertical')\n",
    "fig.text(0.5, 0.01, 'Time', va='center', rotation='horizontal')\n"
   ]
  },
  {
   "cell_type": "code",
   "execution_count": null,
   "metadata": {
    "hidden": true
   },
   "outputs": [],
   "source": []
  },
  {
   "cell_type": "code",
   "execution_count": null,
   "metadata": {
    "hidden": true
   },
   "outputs": [],
   "source": []
  },
  {
   "cell_type": "markdown",
   "metadata": {},
   "source": [
    "# Fast plotting"
   ]
  },
  {
   "cell_type": "code",
   "execution_count": null,
   "metadata": {},
   "outputs": [],
   "source": []
  },
  {
   "cell_type": "code",
   "execution_count": null,
   "metadata": {
    "ExecuteTime": {
     "end_time": "2020-11-25T12:22:24.659395Z",
     "start_time": "2020-11-25T12:22:23.828864Z"
    },
    "scrolled": false
   },
   "outputs": [],
   "source": [
    "end_sim = '2021-01-01'\n",
    "\n",
    "fig,ax=plt.subplots(figsize=(10,4))\n",
    "model_S2c.parameters['beta'] = np.mean(samples_dict['beta'])\n",
    "model_S2c.parameters['l'] = np.mean(samples_dict['l'])\n",
    "model_S2c.parameters['tau'] = np.mean(samples_dict['tau'])\n",
    "y_model_S2c = model_S2c.sim(end_sim,start_date=start_calibration,warmup=0)\n",
    "\n",
    "ax.plot(y_model_S2c['time'],y_model_S2c[\"H_in\"].sum(dim=\"Nc\"),color='blue',alpha=1)\n",
    "\n",
    "ax.scatter(df_sciensano[start_calibration:end_calibration].index,df_sciensano['H_in'][start_calibration:end_calibration],color='black',alpha=0.6,linestyle='None',facecolors='none')\n",
    "\n",
    "#ax = _apply_tick_locator(ax)\n",
    "ax.set_xlim('2020-09-01',end_sim)"
   ]
  },
  {
   "cell_type": "code",
   "execution_count": null,
   "metadata": {
    "ExecuteTime": {
     "end_time": "2020-11-24T07:32:16.105436Z",
     "start_time": "2020-11-24T07:32:16.064457Z"
    }
   },
   "outputs": [],
   "source": [
    "    # Define additional dates where intensity or school policy changes\n",
    "    t1 = pd.Timestamp('2020-09-01') # start vaccination 80+\n",
    "    t2 = t1 + pd.Timedelta(floor(initN[8]/daily), unit='D')"
   ]
  },
  {
   "cell_type": "code",
   "execution_count": null,
   "metadata": {
    "ExecuteTime": {
     "end_time": "2020-11-14T19:13:12.125742Z",
     "start_time": "2020-11-14T19:11:43.982215Z"
    }
   },
   "outputs": [],
   "source": [
    "n=100\n",
    "y_model_S1 = model_S1.sim(end_sim,start_date=start_calibration,warmup=0,N=n,\n",
    "                          draw_fcn=draw_sample_COVID19_SEIRD,samples=samples_dict)"
   ]
  },
  {
   "cell_type": "code",
   "execution_count": null,
   "metadata": {
    "ExecuteTime": {
     "end_time": "2020-11-14T19:13:12.937183Z",
     "start_time": "2020-11-14T19:13:12.128574Z"
    }
   },
   "outputs": [],
   "source": [
    "fig,ax = plt.subplots(figsize=(10,4))\n",
    "ax.fill_between(pd.to_datetime(y_model_S1['time'].values),y_model_S1[\"H_in\"].quantile(LL,dim=\"draws\").sum(dim=\"Nc\"), y_model_S1[\"H_in\"].quantile(UL,dim=\"draws\").sum(dim=\"Nc\"),alpha=0.20, color = 'blue')\n",
    "ax.plot(y_model_S1['time'],y_model_S1[\"H_in\"].mean(dim=\"draws\").sum(dim=\"Nc\"),'--', color='blue')\n",
    "ax.scatter(df_sciensano[start_calibration:end_sim].index,df_sciensano['H_in'][start_calibration:end_sim],color='black',alpha=0.4,linestyle='None',facecolors='none')\n",
    "\n",
    "ax.set_ylabel('Number of new hospitalizations')\n",
    "ax = _apply_tick_locator(ax)"
   ]
  },
  {
   "cell_type": "code",
   "execution_count": null,
   "metadata": {
    "ExecuteTime": {
     "end_time": "2020-11-14T19:13:13.593906Z",
     "start_time": "2020-11-14T19:13:12.940545Z"
    }
   },
   "outputs": [],
   "source": [
    "\n",
    "fig,ax = plt.subplots(figsize=(10,4))\n",
    "ax.fill_between(pd.to_datetime(y_model_S1['time'].values),y_model_S1[\"H_tot\"].quantile(LL,dim=\"draws\").sum(dim=\"Nc\"), y_model_S1[\"H_tot\"].quantile(UL,dim=\"draws\").sum(dim=\"Nc\"),alpha=0.20, color = 'blue')\n",
    "ax.plot(y_model_S1['time'],y_model_S1[\"H_tot\"].mean(dim=\"draws\").sum(dim=\"Nc\"),'--', color='blue')\n",
    "ax.scatter(df_sciensano[start_calibration:end_sim].index,df_sciensano['H_tot'][start_calibration:end_sim],color='black',alpha=0.4,linestyle='None',facecolors='none')\n",
    "\n",
    "ax.set_ylabel('Total patients in Belgian hospitals')\n",
    "ax = _apply_tick_locator(ax)"
   ]
  },
  {
   "cell_type": "code",
   "execution_count": null,
   "metadata": {},
   "outputs": [],
   "source": []
  },
  {
   "cell_type": "code",
   "execution_count": null,
   "metadata": {
    "ExecuteTime": {
     "end_time": "2020-11-24T08:03:54.695034Z",
     "start_time": "2020-11-24T08:03:54.606877Z"
    }
   },
   "outputs": [],
   "source": [
    "for t in times:\n",
    "    v = vacc_policy_old_to_young(t, initN, daily=10000)\n",
    "    print(v)"
   ]
  }
 ],
 "metadata": {
  "kernelspec": {
   "display_name": "Python 3",
   "language": "python",
   "name": "python3"
  },
  "language_info": {
   "codemirror_mode": {
    "name": "ipython",
    "version": 3
   },
   "file_extension": ".py",
   "mimetype": "text/x-python",
   "name": "python",
   "nbconvert_exporter": "python",
   "pygments_lexer": "ipython3",
   "version": "3.8.2"
  },
  "nav_menu": {},
  "toc": {
   "base_numbering": 1,
   "nav_menu": {},
   "number_sections": true,
   "sideBar": true,
   "skip_h1_title": false,
   "title_cell": "Table of Contents",
   "title_sidebar": "Contents",
   "toc_cell": true,
   "toc_position": {
    "height": "calc(100% - 180px)",
    "left": "10px",
    "top": "150px",
    "width": "253px"
   },
   "toc_section_display": "block",
   "toc_window_display": false
  }
 },
 "nbformat": 4,
 "nbformat_minor": 4
}
