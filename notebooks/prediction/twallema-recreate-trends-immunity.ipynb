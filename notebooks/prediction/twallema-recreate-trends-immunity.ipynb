{
 "cells": [
  {
   "cell_type": "code",
   "execution_count": 1,
   "id": "336068d7",
   "metadata": {},
   "outputs": [],
   "source": [
    "import numpy as np\n",
    "import pandas as pd\n",
    "import matplotlib.pyplot as plt\n",
    "from covid19_DTM.visualization.output import _apply_tick_locator \n",
    "from covid19_DTM.models.utils import output_to_visuals, add_negative_binomial\n",
    "from covid19_DTM.data import sciensano\n",
    "from covid19_DTM.visualization.output import color_timeframes\n",
    "from covid19_DTM.models.utils import initialize_COVID19_SEIQRD_spatial_hybrid_vacc\n",
    "\n",
    "# OPTIONAL: Load the \"autoreload\" extension so that package code can change\n",
    "%load_ext autoreload\n",
    "# OPTIONAL: always reload modules so that as you change code in src, it gets loaded\n",
    "%autoreload 2"
   ]
  },
  {
   "cell_type": "markdown",
   "id": "0fbf6bda",
   "metadata": {},
   "source": [
    "## Load hospitalization data"
   ]
  },
  {
   "cell_type": "code",
   "execution_count": 2,
   "id": "46964ea5",
   "metadata": {},
   "outputs": [],
   "source": [
    "# Hospitalization data\n",
    "df_hosp, df_mort, df_cases, df_vacc = sciensano.get_sciensano_COVID19_data(update=False)\n",
    "df_hosp = df_hosp.groupby(by=['date']).sum()"
   ]
  },
  {
   "cell_type": "markdown",
   "id": "8b1850fa",
   "metadata": {},
   "source": [
    "## Setup models with and without vaccination"
   ]
  },
  {
   "cell_type": "code",
   "execution_count": 3,
   "id": "55e451d0",
   "metadata": {},
   "outputs": [],
   "source": [
    "# Settings\n",
    "start_date = '2020-03-17'\n",
    "n_age_groups = 10\n",
    "agg = 'prov'\n",
    "VOCs=['WT', 'abc']"
   ]
  },
  {
   "cell_type": "code",
   "execution_count": 4,
   "id": "4a8f8d62",
   "metadata": {},
   "outputs": [],
   "source": [
    "vacc_model, samples_dict, initN = initialize_COVID19_SEIQRD_spatial_hybrid_vacc(vaccination=True, age_stratification_size=n_age_groups, agg=agg, VOCs=VOCs, start_date=start_date)\n",
    "model, samples_dict, initN = initialize_COVID19_SEIQRD_spatial_hybrid_vacc(vaccination=False, age_stratification_size=n_age_groups, agg=agg, VOCs=VOCs, start_date=start_date)"
   ]
  },
  {
   "cell_type": "markdown",
   "id": "8703075b",
   "metadata": {},
   "source": [
    "## Simulate both models"
   ]
  },
  {
   "cell_type": "code",
   "execution_count": 5,
   "id": "4e336ab0",
   "metadata": {},
   "outputs": [],
   "source": [
    "# Settings\n",
    "start_sim = start_date\n",
    "end_sim = '2021-08-07'\n",
    "start_data = '2020-09-01'\n",
    "end_data = '2021-04-15'\n",
    "N = 5\n",
    "n_draws_per_sample = 100"
   ]
  },
  {
   "cell_type": "code",
   "execution_count": 6,
   "id": "a39af5d0",
   "metadata": {},
   "outputs": [],
   "source": [
    "import random\n",
    "def draw_fnc(param_dict,samples_dict):\n",
    "    \"\"\"\n",
    "    A function to draw samples from the estimated posterior distributions of the model parameters.\n",
    "    Tailored for use with the spatial COVID-19 SEIQRD model with only the alpha VOC.\n",
    "\n",
    "    \"\"\"\n",
    "\n",
    "    idx, param_dict['beta_R'] = random.choice(list(enumerate(samples_dict['beta_R'])))\n",
    "    param_dict['beta_U'] = samples_dict['beta_U'][idx]  \n",
    "    param_dict['beta_M'] = samples_dict['beta_M'][idx]\n",
    "    param_dict['eff_schools'] = samples_dict['eff_schools'][idx]    \n",
    "    param_dict['eff_home'] = samples_dict['eff_home'][idx]      \n",
    "    param_dict['eff_work'] = samples_dict['eff_work'][idx]       \n",
    "    param_dict['eff_rest'] = samples_dict['eff_rest'][idx]\n",
    "    param_dict['mentality'] = samples_dict['mentality'][idx]\n",
    "    param_dict['K_inf'] = np.array([samples_dict['K_inf_abc'][idx],], np.float64)\n",
    "    param_dict['amplitude'] = samples_dict['amplitude'][idx]\n",
    "\n",
    "    # Hospitalization\n",
    "    # ---------------\n",
    "    # Fractions\n",
    "    names = ['c','m_C','m_ICU']\n",
    "    for idx,name in enumerate(names):\n",
    "        par=[]\n",
    "        for jdx in range(len(param_dict['c'])):\n",
    "            par.append(np.random.choice(samples_dict['samples_fractions'][idx,jdx,:]))\n",
    "        param_dict[name] = np.array(par)\n",
    "    # Residence times\n",
    "    n=20\n",
    "    distributions = [samples_dict['residence_times']['dC_R'],\n",
    "                     samples_dict['residence_times']['dC_D'],\n",
    "                     samples_dict['residence_times']['dICU_R'],\n",
    "                     samples_dict['residence_times']['dICU_D'],\n",
    "                     samples_dict['residence_times']['dICUrec']]\n",
    "\n",
    "    names = ['dc_R', 'dc_D', 'dICU_R', 'dICU_D','dICUrec']\n",
    "    for idx,dist in enumerate(distributions):\n",
    "        param_val=[]\n",
    "        for age_group in dist.index.get_level_values(0).unique().values[0:-1]:\n",
    "            draw = np.random.gamma(dist['shape'].loc[age_group],scale=dist['scale'].loc[age_group],size=n)\n",
    "            param_val.append(np.mean(draw))\n",
    "        param_dict[names[idx]] = np.array(param_val)\n",
    "    return param_dict"
   ]
  },
  {
   "cell_type": "code",
   "execution_count": null,
   "id": "4d114e8a",
   "metadata": {},
   "outputs": [
    {
     "name": "stdout",
     "output_type": "stream",
     "text": [
      "\n",
      "1) Simulating spatial COVID-19 SEIRD with vaccination 5 times\n",
      "Simulating draw 2/5\u001b[1K\r"
     ]
    }
   ],
   "source": [
    "print('\\n1) Simulating spatial COVID-19 SEIRD with vaccination '+str(N)+' times')\n",
    "out_vacc = vacc_model.sim(end_sim,start_date=start_sim,N=N,draw_fcn=draw_fnc,samples=samples_dict, verbose=True)\n",
    "print('\\n2) Simulating spatial COVID-19 SEIRD without vaccination '+str(N)+' times')\n",
    "out = model.sim(end_sim,start_date=start_sim,N=N,draw_fcn=draw_fnc,samples=samples_dict, verbose=True)\n",
    "simtime = out['time'].values"
   ]
  },
  {
   "cell_type": "markdown",
   "id": "704cfec2",
   "metadata": {},
   "source": [
    "## Visualize result"
   ]
  },
  {
   "cell_type": "code",
   "execution_count": null,
   "id": "ec0de9af",
   "metadata": {},
   "outputs": [],
   "source": [
    "alpha_scatter = 0.5\n",
    "alpha_structural = 1/(2*N)\n",
    "alpha_statistical = 0.15"
   ]
  },
  {
   "cell_type": "code",
   "execution_count": null,
   "id": "df6f6ded",
   "metadata": {},
   "outputs": [],
   "source": [
    "H_in_mean, H_in_median, H_in_lower, H_in_upper = add_negative_binomial(out_vacc['H_in'].sum(dim=['Nc', 'place', 'doses']).values, alpha=float(samples_dict['dispersion']), n_draws_per_sample=n_draws_per_sample, add_to_mean=False)\n",
    "H_tot_mean, H_tot_median, H_tot_lower, H_tot_upper = add_negative_binomial(out_vacc['H_tot'].sum(dim=['Nc', 'place', 'doses']).values, alpha=float(samples_dict['dispersion']), n_draws_per_sample=n_draws_per_sample, add_to_mean=False)"
   ]
  },
  {
   "cell_type": "code",
   "execution_count": null,
   "id": "fe92c98c",
   "metadata": {},
   "outputs": [],
   "source": [
    "fig,ax=plt.subplots(nrows=2, ncols=1, sharex=True, figsize=(12,5))\n",
    "\n",
    "######################\n",
    "## Model prediction ##\n",
    "######################\n",
    "\n",
    "for idx, state in enumerate(['H_in', 'H_tot']):\n",
    "    mean, median, lower, upper = add_negative_binomial(out[state].sum(dim=['Nc', 'place', 'doses']).values, alpha=float(samples_dict['dispersion']), n_draws_per_sample=n_draws_per_sample, add_to_mean=False)\n",
    "    ax[idx].fill_between(simtime, lower, upper, alpha=alpha_statistical, color='red')\n",
    "    mean, median, lower, upper = add_negative_binomial(out_vacc[state].sum(dim=['Nc', 'place', 'doses']).values, alpha=float(samples_dict['dispersion']), n_draws_per_sample=n_draws_per_sample, add_to_mean=False)\n",
    "    ax[idx].fill_between(simtime, lower, upper, alpha=alpha_statistical, color='blue')\n",
    "    \n",
    "for idx, state in enumerate(['H_in', 'H_tot']):\n",
    "    y_model = out[state].sum(dim=['Nc', 'place', 'doses'])\n",
    "    y_model_vacc = out_vacc[state].sum(dim=['Nc', 'place', 'doses'])\n",
    "    # Plot model prediction\n",
    "    for j in range(N):\n",
    "        ax[idx].plot(simtime, y_model[j,:], color='maroon', linewidth=3, alpha=alpha_structural)\n",
    "        ax[idx].plot(simtime, y_model_vacc[j,:], color='blue', linewidth=3, alpha=alpha_structural)\n",
    "    #mean, median, lower, upper = add_negative_binomial(out[state].sum(dim=['Nc', 'place', 'doses']).values, alpha=float(samples_dict['dispersion']), n_draws_per_sample=n_draws_per_sample, add_to_mean=False)\n",
    "    #ax[idx].plot(simtime, mean, '--', color='red')\n",
    "    #mean, median, lower, upper = add_negative_binomial(out_vacc[state].sum(dim=['Nc', 'place', 'doses']).values, alpha=float(samples_dict['dispersion']), n_draws_per_sample=n_draws_per_sample, add_to_mean=False)\n",
    "    #ax[idx].plot(simtime, mean, '--', color='blue') \n",
    "\n",
    "################\n",
    "## Datapoints ##\n",
    "################\n",
    "\n",
    "# New hospitalizations\n",
    "ax[0].scatter(df_hosp[start_sim:end_data].index,df_hosp['H_in'][start_sim:end_data], color='black', alpha=0.3, linestyle='None', facecolors='none', s=60, linewidth=2)\n",
    "# Total hospitalizations\n",
    "ax[1].scatter(df_hosp[start_sim:end_data].index,df_hosp['H_tot'][start_sim:end_data], color='black', alpha=0.3, linestyle='None', facecolors='none', s=60, linewidth=2)\n",
    "\n",
    "################\n",
    "## Background ##\n",
    "################\n",
    "\n",
    "start_background = pd.Timestamp(2020, 1, 1)\n",
    "week_color='blanchedalmond'#'white'\n",
    "weekend_color='blanchedalmond'#'lightgrey'\n",
    "vacation_color='khaki'#weekend_color\n",
    "for i in range(len(ax)):\n",
    "    color_timeframes(start_background, pd.Timestamp(2022, 1, 1), ax=ax[i], week_color=week_color, weekend_color=weekend_color, vacation_color=vacation_color)\n",
    "\n",
    "######################\n",
    "## Make axes pretty ##\n",
    "######################\n",
    "\n",
    "# First axes\n",
    "ax[0].grid(False)\n",
    "ax[0].set_ylabel('$H_{in}$ (-)')\n",
    "ax[0] = _apply_tick_locator(ax[0])\n",
    "ax[0].set_ylim([0, None])\n",
    "ax[0].legend(['Without vaccination', 'With vaccination'], loc='upper right', fontsize=14)\n",
    "\n",
    "# Second axes\n",
    "ax[1].grid(False)\n",
    "ax[1].set_ylabel('$H_{tot}$ (-)')\n",
    "ax[1].set_xlim([start_data, end_sim])\n",
    "ax[1].set_ylim([0, None])\n",
    "ax[1] = _apply_tick_locator(ax[0])\n",
    "\n",
    "plt.tight_layout()\n",
    "plt.show()\n",
    "#fig.savefig('twallema-immunity-trends.pdf')\n",
    "plt.close()"
   ]
  },
  {
   "cell_type": "code",
   "execution_count": null,
   "id": "c8804d6f",
   "metadata": {},
   "outputs": [],
   "source": []
  }
 ],
 "metadata": {
  "kernelspec": {
   "display_name": "Python 3 (ipykernel)",
   "language": "python",
   "name": "python3"
  },
  "language_info": {
   "codemirror_mode": {
    "name": "ipython",
    "version": 3
   },
   "file_extension": ".py",
   "mimetype": "text/x-python",
   "name": "python",
   "nbconvert_exporter": "python",
   "pygments_lexer": "ipython3",
   "version": "3.10.2"
  }
 },
 "nbformat": 4,
 "nbformat_minor": 5
}
