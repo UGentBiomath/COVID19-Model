{
 "cells": [
  {
   "cell_type": "code",
   "execution_count": 1,
   "metadata": {},
   "outputs": [],
   "source": [
    "import numpy as np\n",
    "import pandas as pd\n",
    "import matplotlib.pyplot as plt\n",
    "from datetime import timedelta\n",
    "from scipy.stats import ttest_ind"
   ]
  },
  {
   "cell_type": "markdown",
   "metadata": {},
   "source": [
    "### Load and format Ghent University Hospital dataset"
   ]
  },
  {
   "cell_type": "code",
   "execution_count": 4,
   "metadata": {},
   "outputs": [],
   "source": [
    "import os\n",
    "abs_dir = os.getcwd()\n",
    "rel_dir = os.path.join(abs_dir, '../data/raw/hospital/UZGent_full.xlsx')\n",
    "df = pd.read_excel(rel_dir, sheet_name=\"Sheet1\")"
   ]
  },
  {
   "cell_type": "code",
   "execution_count": 5,
   "metadata": {},
   "outputs": [],
   "source": [
    "def isnat(your_datetime):\n",
    "    dtype_string = str(your_datetime.dtype)\n",
    "    if 'datetime64' in dtype_string or 'timedelta64' in dtype_string:\n",
    "        return your_datetime.view('i8') == np.datetime64('NAT').view('i8')\n",
    "    return False  # it can't be a NaT if it's not a dateime"
   ]
  },
  {
   "cell_type": "code",
   "execution_count": 6,
   "metadata": {},
   "outputs": [
    {
     "data": {
      "text/html": [
       "<div>\n",
       "<style scoped>\n",
       "    .dataframe tbody tr th:only-of-type {\n",
       "        vertical-align: middle;\n",
       "    }\n",
       "\n",
       "    .dataframe tbody tr th {\n",
       "        vertical-align: top;\n",
       "    }\n",
       "\n",
       "    .dataframe thead th {\n",
       "        text-align: right;\n",
       "    }\n",
       "</style>\n",
       "<table border=\"1\" class=\"dataframe\">\n",
       "  <thead>\n",
       "    <tr style=\"text-align: right;\">\n",
       "      <th></th>\n",
       "      <th>age</th>\n",
       "      <th>sex</th>\n",
       "      <th>stay_type</th>\n",
       "      <th>outcome</th>\n",
       "      <th>dC</th>\n",
       "      <th>dICU</th>\n",
       "      <th>dICUrec</th>\n",
       "    </tr>\n",
       "  </thead>\n",
       "  <tbody>\n",
       "    <tr>\n",
       "      <th>172</th>\n",
       "      <td>52</td>\n",
       "      <td>F</td>\n",
       "      <td>Cohort only</td>\n",
       "      <td>R</td>\n",
       "      <td>16</td>\n",
       "      <td>0</td>\n",
       "      <td>0</td>\n",
       "    </tr>\n",
       "    <tr>\n",
       "      <th>173</th>\n",
       "      <td>51</td>\n",
       "      <td>M</td>\n",
       "      <td>Cohort only</td>\n",
       "      <td>R</td>\n",
       "      <td>3</td>\n",
       "      <td>0</td>\n",
       "      <td>0</td>\n",
       "    </tr>\n",
       "    <tr>\n",
       "      <th>174</th>\n",
       "      <td>51</td>\n",
       "      <td>M</td>\n",
       "      <td>ICU</td>\n",
       "      <td>R</td>\n",
       "      <td>5</td>\n",
       "      <td>2</td>\n",
       "      <td>6</td>\n",
       "    </tr>\n",
       "    <tr>\n",
       "      <th>175</th>\n",
       "      <td>51</td>\n",
       "      <td>M</td>\n",
       "      <td>Cohort only</td>\n",
       "      <td>R</td>\n",
       "      <td>11</td>\n",
       "      <td>0</td>\n",
       "      <td>0</td>\n",
       "    </tr>\n",
       "    <tr>\n",
       "      <th>176</th>\n",
       "      <td>51</td>\n",
       "      <td>M</td>\n",
       "      <td>Cohort only</td>\n",
       "      <td>R</td>\n",
       "      <td>1</td>\n",
       "      <td>0</td>\n",
       "      <td>0</td>\n",
       "    </tr>\n",
       "  </tbody>\n",
       "</table>\n",
       "</div>"
      ],
      "text/plain": [
       "     age sex    stay_type outcome  dC  dICU  dICUrec\n",
       "172   52   F  Cohort only       R  16     0        0\n",
       "173   51   M  Cohort only       R   3     0        0\n",
       "174   51   M          ICU       R   5     2        6\n",
       "175   51   M  Cohort only       R  11     0        0\n",
       "176   51   M  Cohort only       R   1     0        0"
      ]
     },
     "execution_count": 6,
     "metadata": {},
     "output_type": "execute_result"
    }
   ],
   "source": [
    "age=[]\n",
    "sex=[]\n",
    "outcome=[]\n",
    "stay_type=[]\n",
    "dc=[]\n",
    "dICU=[]\n",
    "dICUrec=[]\n",
    "n=[]\n",
    "\n",
    "# drop empty entries in Outcome status/date from dataframe\n",
    "df['Outcome status'].replace('', np.nan, inplace=True)\n",
    "df['Outcome date'].replace('', np.nan, inplace=True)\n",
    "df.dropna(subset=['Outcome status'], inplace=True)\n",
    "df.dropna(subset=['Outcome date'], inplace=True)\n",
    "\n",
    "# Conversion of dates to uniform datatype\n",
    "df['Admission date IZ'] = df['Admission date IZ'].values.astype('datetime64[D]')\n",
    "df['Stopdate IZ'] = df['Stopdate IZ'].values.astype('datetime64[D]')\n",
    "df['Outcome date'] = df['Outcome date'].values.astype('datetime64[D]')\n",
    "\n",
    "id_group=df.groupby(['UZCOVID_id'])\n",
    "for g_idx, group in id_group:\n",
    "    # filter out 'transfer/revalidatie' in column 'Outcome status'\n",
    "    if (group['Outcome status'].values[0] != 'transfer/revalidatie'):\n",
    "        # add patient age\n",
    "        age.append(group['Age'].values[0])        \n",
    "        # add patient sex\n",
    "        if group['Sex'].values[0] == 'Male':\n",
    "            sex.append('M')\n",
    "        else:\n",
    "            sex.append('F')\n",
    "        # check if patient has recovered\n",
    "        if group['Outcome status'].values[0] != 'overleden':\n",
    "            outcome.append('R')\n",
    "        else:\n",
    "            outcome.append('D')\n",
    "        # if the admission date to IZ has a value do,\n",
    "        if not isnat(group['Admission date IZ'].values[0]):\n",
    "            # patient had an ICU stay\n",
    "            stay_type.append('ICU')\n",
    "            # length of stay in ICU\n",
    "            dICU.append((group['Stopdate IZ'].values[0] - group['Admission date IZ'].values[0]).astype('timedelta64[D]').astype(int))\n",
    "            # length of stay after ICU\n",
    "            dICUrec.append((group['Outcome date'].values[0] - group['Stopdate IZ'].values[0]).astype('timedelta64[D]').astype(int))\n",
    "            # length of stay before ICU\n",
    "            if (group['Admission date IZ'].values[0] - group['Admission date UZ Gent'].values[0]).astype('timedelta64[D]').astype(int) >= 0:\n",
    "                dc.append((group['Admission date IZ'].values[0] - group['Admission date UZ Gent'].values[0]).astype('timedelta64[D]').astype(int))\n",
    "            else:\n",
    "                dc.append(0)\n",
    "        else:\n",
    "            # patient had a Cohort only stay\n",
    "            stay_type.append('Cohort only')\n",
    "            dc.append((group['Outcome date'].values[0] - group['Admission date UZ Gent'].values[0]).astype('timedelta64[D]').astype(int))\n",
    "            dICU.append(0)\n",
    "            dICUrec.append(0)\n",
    "            \n",
    "UZG_dict={\n",
    "    'age': age,\n",
    "    'sex': sex,\n",
    "    'stay_type': stay_type,\n",
    "    'outcome': outcome,\n",
    "    'dC': dc,\n",
    "    'dICU': dICU,\n",
    "    'dICUrec': dICUrec\n",
    "}\n",
    "\n",
    "UZG_df = pd.DataFrame(UZG_dict)\n",
    "UZG_df.tail()"
   ]
  },
  {
   "cell_type": "markdown",
   "metadata": {},
   "source": [
    "### Time Cohort --> ICU"
   ]
  },
  {
   "cell_type": "code",
   "execution_count": 7,
   "metadata": {},
   "outputs": [
    {
     "name": "stdout",
     "output_type": "stream",
     "text": [
      "1.275\n"
     ]
    }
   ],
   "source": [
    "d_C_to_ICU = UZG_df[(UZG_df.stay_type == 'ICU')].dC.mean()\n",
    "print(d_C_to_ICU)"
   ]
  },
  {
   "cell_type": "markdown",
   "metadata": {},
   "source": [
    "### Load and format AZMM dataset"
   ]
  },
  {
   "cell_type": "code",
   "execution_count": 8,
   "metadata": {},
   "outputs": [],
   "source": [
    "import os\n",
    "abs_dir = os.getcwd()\n",
    "rel_dir = os.path.join(abs_dir, '../data/raw/hospital/AZmariaMiddelares.xlsx')\n",
    "df = pd.read_excel(rel_dir, sheet_name=\"Sheet1\")"
   ]
  },
  {
   "cell_type": "code",
   "execution_count": 19,
   "metadata": {},
   "outputs": [],
   "source": [
    "patients_dict={}\n",
    "id_group=df.groupby(['Opnamenummer'])\n",
    "for g_idx, group in id_group:\n",
    "    # filter out 'ZZ-Niet ingevuld' in column 'Bestemming'\n",
    "    if group['Bestemming na ontslag'].values[0] != 'ZZ-Niet ingevuld':\n",
    "        # add patient ID\n",
    "        patients_dict.update({g_idx: {}})\n",
    "        # add patient age\n",
    "        patients_dict[g_idx].update({'Age':group['Leeftijd'].values[0]})\n",
    "        # add patient sex\n",
    "        if group['Geslacht'].values[0] == 'Man':\n",
    "            patients_dict[g_idx].update({'Sex': 'M'})\n",
    "        else:\n",
    "            patients_dict[g_idx].update({'Sex': 'F'})\n",
    "        # add patient recovered or dead\n",
    "        if group['Bestemming na ontslag'].values[0] != 'Overleden':\n",
    "            patients_dict[g_idx].update({'Status': 'R'})\n",
    "        else:\n",
    "            patients_dict[g_idx].update({'Status': 'D'})\n",
    "        # add patients wards as list, calculate total length of emergency room and buffer\n",
    "        wards=[]\n",
    "        lengths=[]\n",
    "        for r_idx, row in group.iterrows():\n",
    "            if (group['Afdeling'][r_idx] != 'Spoed' and group['Afdeling'][r_idx] != 'Bufferafdeling'):\n",
    "                wards.append(group['Afdeling'][r_idx])\n",
    "                lengths.append(group['Ligduur'][r_idx])\n",
    "        patients_dict[g_idx].update({'Wards': wards[::-1]})\n",
    "        patients_dict[g_idx].update({'Lengths': lengths[::-1]})\n",
    "        ER_buffer=[]\n",
    "        l=0\n",
    "        for r_idx, row in group.iterrows():\n",
    "            if (group['Afdeling'][r_idx] == 'Spoed' or group['Afdeling'][r_idx] == 'Bufferafdeling'):\n",
    "                l=l+group['Ligduur'][r_idx]\n",
    "            ER_buffer.append(l)\n",
    "        patients_dict[g_idx].update({'ER_buffer': l})"
   ]
  },
  {
   "cell_type": "code",
   "execution_count": 22,
   "metadata": {},
   "outputs": [
    {
     "name": "stdout",
     "output_type": "stream",
     "text": [
      "193 1.0659991243523315\n"
     ]
    },
    {
     "data": {
      "image/png": "[encoded data removed]",
      "text/plain": [
       "<Figure size 432x288 with 1 Axes>"
      ]
     },
     "metadata": {
      "needs_background": "light"
     },
     "output_type": "display_data"
    }
   ],
   "source": [
    "ER_buffer=[]\n",
    "for ID in patients_dict:\n",
    "    ER_buffer.append(patients_dict[ID]['ER_buffer'])\n",
    "plt.hist(ER_buffer)\n",
    "print(len(ER_buffer),np.mean(ER_buffer))"
   ]
  },
  {
   "cell_type": "markdown",
   "metadata": {},
   "source": [
    "### Convert to a better format"
   ]
  },
  {
   "cell_type": "code",
   "execution_count": 8,
   "metadata": {},
   "outputs": [
    {
     "data": {
      "text/html": [
       "<div>\n",
       "<style scoped>\n",
       "    .dataframe tbody tr th:only-of-type {\n",
       "        vertical-align: middle;\n",
       "    }\n",
       "\n",
       "    .dataframe tbody tr th {\n",
       "        vertical-align: top;\n",
       "    }\n",
       "\n",
       "    .dataframe thead th {\n",
       "        text-align: right;\n",
       "    }\n",
       "</style>\n",
       "<table border=\"1\" class=\"dataframe\">\n",
       "  <thead>\n",
       "    <tr style=\"text-align: right;\">\n",
       "      <th></th>\n",
       "      <th>age</th>\n",
       "      <th>sex</th>\n",
       "      <th>stay_type</th>\n",
       "      <th>outcome</th>\n",
       "      <th>dC</th>\n",
       "      <th>dICU</th>\n",
       "      <th>dICUrec</th>\n",
       "    </tr>\n",
       "  </thead>\n",
       "  <tbody>\n",
       "    <tr>\n",
       "      <th>365</th>\n",
       "      <td>82</td>\n",
       "      <td>F</td>\n",
       "      <td>Cohort only</td>\n",
       "      <td>R</td>\n",
       "      <td>5.083331</td>\n",
       "      <td>0.00000</td>\n",
       "      <td>0.000000</td>\n",
       "    </tr>\n",
       "    <tr>\n",
       "      <th>366</th>\n",
       "      <td>73</td>\n",
       "      <td>F</td>\n",
       "      <td>ICU</td>\n",
       "      <td>R</td>\n",
       "      <td>0.000000</td>\n",
       "      <td>0.89375</td>\n",
       "      <td>9.095832</td>\n",
       "    </tr>\n",
       "    <tr>\n",
       "      <th>367</th>\n",
       "      <td>90</td>\n",
       "      <td>M</td>\n",
       "      <td>Cohort only</td>\n",
       "      <td>R</td>\n",
       "      <td>1.856249</td>\n",
       "      <td>0.00000</td>\n",
       "      <td>0.000000</td>\n",
       "    </tr>\n",
       "    <tr>\n",
       "      <th>368</th>\n",
       "      <td>55</td>\n",
       "      <td>F</td>\n",
       "      <td>Cohort only</td>\n",
       "      <td>R</td>\n",
       "      <td>3.697916</td>\n",
       "      <td>0.00000</td>\n",
       "      <td>0.000000</td>\n",
       "    </tr>\n",
       "    <tr>\n",
       "      <th>369</th>\n",
       "      <td>75</td>\n",
       "      <td>F</td>\n",
       "      <td>ER only</td>\n",
       "      <td>R</td>\n",
       "      <td>0.000000</td>\n",
       "      <td>0.00000</td>\n",
       "      <td>0.000000</td>\n",
       "    </tr>\n",
       "  </tbody>\n",
       "</table>\n",
       "</div>"
      ],
      "text/plain": [
       "     age sex    stay_type outcome        dC     dICU   dICUrec\n",
       "365   82   F  Cohort only       R  5.083331  0.00000  0.000000\n",
       "366   73   F          ICU       R  0.000000  0.89375  9.095832\n",
       "367   90   M  Cohort only       R  1.856249  0.00000  0.000000\n",
       "368   55   F  Cohort only       R  3.697916  0.00000  0.000000\n",
       "369   75   F      ER only       R  0.000000  0.00000  0.000000"
      ]
     },
     "execution_count": 8,
     "metadata": {},
     "output_type": "execute_result"
    }
   ],
   "source": [
    "for ID in patients_dict:\n",
    "    # First append the age and sex of the patient\n",
    "    age.append(patients_dict[ID]['Age'])\n",
    "    sex.append(patients_dict[ID]['Sex'])\n",
    "    # Then check if the patient recovered or not\n",
    "    if patients_dict[ID]['Status'] == 'R':\n",
    "        outcome.append('R')\n",
    "    else:\n",
    "        outcome.append('D')\n",
    "    # if any of the patients entries was in an ICU ward do,\n",
    "    if any(patients_dict[ID]['Wards'][idx] == 'IZ' for idx,ward in enumerate(patients_dict[ID]['Wards'])):\n",
    "        stay_type.append('ICU')\n",
    "        # loop over wards and indices\n",
    "        for idx,ward in enumerate(patients_dict[ID]['Wards']):\n",
    "            # get index of ICU in wards\n",
    "            if ward == 'IZ':\n",
    "                # if recovered\n",
    "                if patients_dict[ID]['Status'] == 'R':\n",
    "                    # check if patient had a recovery stay in cohort or not and extract total length\n",
    "                    if len(patients_dict[ID]['Wards'])-1 > idx:\n",
    "                        dICUrec.append(sum(patients_dict[ID]['Lengths'][idx+1:]))\n",
    "                    else:\n",
    "                        dICUrec.append(0)\n",
    "                    # add patient data to lists\n",
    "                    dc.append(0)\n",
    "                    dICU.append(patients_dict[ID]['Lengths'][idx])\n",
    "                    \n",
    "                # if dead\n",
    "                else:\n",
    "                    # check if patient had a recovery stay in cohort or not and extract total length\n",
    "                    if len(patients_dict[ID]['Wards'])-1 > idx:\n",
    "                         dICUrec.append(sum(patients_dict[ID]['Lengths'][idx+1:]))\n",
    "                    else:\n",
    "                        dICUrec.append(0)\n",
    "                    # add patient data to lists\n",
    "                    dc.append(0)\n",
    "                    dICU.append(patients_dict[ID]['Lengths'][idx])\n",
    "    # if the patient didn't stay in ICU but did stay in Cohort\n",
    "    elif any( (patients_dict[ID]['Wards'][idx] == 'Cohort-afdeling D501') or (patients_dict[ID]['Wards'][idx] == 'Cohort-afdeling D601') for idx,ward in enumerate(patients_dict[ID]['Wards'])):\n",
    "        stay_type.append('Cohort only')\n",
    "        dc.append(sum(patients_dict[ID]['Lengths']))\n",
    "        dICU.append(0)\n",
    "        dICUrec.append(0)\n",
    "    else:\n",
    "        stay_type.append('ER only')\n",
    "        dc.append(0)\n",
    "        dICU.append(0)\n",
    "        dICUrec.append(0)\n",
    "\n",
    "total_dict={\n",
    "    'age': age,\n",
    "    'sex': sex,\n",
    "    'stay_type': stay_type,\n",
    "    'outcome': outcome,\n",
    "    'dC': dc,\n",
    "    'dICU': dICU,\n",
    "    'dICUrec': dICUrec\n",
    "}\n",
    "\n",
    "total_df = pd.DataFrame(total_dict)\n",
    "total_df.tail()"
   ]
  },
  {
   "cell_type": "markdown",
   "metadata": {},
   "source": [
    "### Make an age-stratified parameter dataframe"
   ]
  },
  {
   "cell_type": "code",
   "execution_count": 9,
   "metadata": {},
   "outputs": [],
   "source": [
    "age_classes = pd.IntervalIndex.from_tuples([(0,10),(10,20),(20,30),(30,40),(40,50),(50,60),(60,70),(70,80),(80,120)], \n",
    "                                           closed='left')\n",
    "total_df['age_class'] = pd.cut(total_df.age, bins=age_classes)"
   ]
  },
  {
   "cell_type": "code",
   "execution_count": 10,
   "metadata": {},
   "outputs": [],
   "source": [
    "hospital_parameters_age = pd.DataFrame(index=age_classes, \n",
    "                                   columns=['sample_size','c','m0','m0_{ICU}','m0_{C}','dC','dC_R','dC_D','dICU','dICU_R','dICU_D','dICUrec'])"
   ]
  },
  {
   "cell_type": "code",
   "execution_count": 11,
   "metadata": {},
   "outputs": [],
   "source": [
    "hospital_parameters_age['sample_size']=total_df.groupby(by='age_class').apply(lambda x: x.age.count())"
   ]
  },
  {
   "cell_type": "code",
   "execution_count": 12,
   "metadata": {},
   "outputs": [
    {
     "name": "stderr",
     "output_type": "stream",
     "text": [
      "<ipython-input-12-1d4ea2a68a32>:3: RuntimeWarning: invalid value encountered in long_scalars\n",
      "  lambda x: x[x.stay_type=='Cohort only'].age.count()/\n",
      "<ipython-input-12-1d4ea2a68a32>:9: RuntimeWarning: invalid value encountered in long_scalars\n",
      "  lambda x: x[( (x.outcome=='D'))].age.count()/\n",
      "<ipython-input-12-1d4ea2a68a32>:14: RuntimeWarning: invalid value encountered in long_scalars\n",
      "  lambda x: x[((x.stay_type=='ICU') & (x.outcome=='D'))].age.count()/\n",
      "<ipython-input-12-1d4ea2a68a32>:19: RuntimeWarning: invalid value encountered in long_scalars\n",
      "  lambda x: x[((x.stay_type=='Cohort only') & (x.outcome=='D'))].age.count()/\n"
     ]
    }
   ],
   "source": [
    "# Fraction of patients that doesn't need ICU\n",
    "hospital_parameters_age['c'] = total_df.groupby(by='age_class').apply(\n",
    "                                lambda x: x[x.stay_type=='Cohort only'].age.count()/\n",
    "                                          x[x.stay_type.isin(['ICU', 'Cohort only'])].age.count())\n",
    "hospital_parameters_age['c']=hospital_parameters_age['c'].fillna(1)\n",
    "\n",
    "# Mortality in ICU\n",
    "hospital_parameters_age['m0']=total_df.groupby(by='age_class').apply(\n",
    "                                lambda x: x[( (x.outcome=='D'))].age.count()/\n",
    "                                          x[x.stay_type.isin(['ICU','Cohort only'])].age.count())\n",
    "\n",
    "# Mortality in ICU\n",
    "hospital_parameters_age['m0_{ICU}']=total_df.groupby(by='age_class').apply(\n",
    "                                lambda x: x[((x.stay_type=='ICU') & (x.outcome=='D'))].age.count()/\n",
    "                                          x[x.stay_type.isin(['ICU'])].age.count())\n",
    "\n",
    "# Mortality in Cohort\n",
    "hospital_parameters_age['m0_{C}']=total_df.groupby(by='age_class').apply(\n",
    "                                lambda x: x[((x.stay_type=='Cohort only') & (x.outcome=='D'))].age.count()/\n",
    "                                          x[x.stay_type.isin(['Cohort only'])].age.count())\n",
    "hospital_parameters_age[['m0','m0_{ICU}','m0_{C}']]=hospital_parameters_age[['m0','m0_{ICU}','m0_{C}']].fillna(0)\n",
    "\n",
    "# Hospitalisation length in Cohort\n",
    "hospital_parameters_age['dC']=total_df.groupby(by='age_class').apply(\n",
    "                                lambda x: x[((x.stay_type=='Cohort only'))].dC.mean())\n",
    "\n",
    "# Hospitalisation length in Cohort if recovered\n",
    "hospital_parameters_age['dC_R']=total_df.groupby(by='age_class').apply(\n",
    "                                lambda x: x[((x.stay_type=='Cohort only') & (x.outcome=='R'))].dC.mean())\n",
    "\n",
    "# Hospitalisation length in Cohort when deceased\n",
    "hospital_parameters_age['dC_D']=total_df.groupby(by='age_class').apply(\n",
    "                                lambda x: x[((x.stay_type=='Cohort only') & (x.outcome=='D'))].dC.mean())\n",
    "\n",
    "# Hospitalisation length in ICU\n",
    "hospital_parameters_age['dICU']=total_df.groupby(by='age_class').apply(\n",
    "                                lambda x: x[((x.stay_type=='ICU'))].dICU.mean())\n",
    "\n",
    "# Hospitalisation length in ICU if recovered\n",
    "hospital_parameters_age['dICU_R']=total_df.groupby(by='age_class').apply(\n",
    "                                lambda x: x[((x.stay_type=='ICU') & (x.outcome=='R'))].dICU.mean())\n",
    "\n",
    "# Hospitalisation length in ICU when deceased\n",
    "hospital_parameters_age['dICU_D']=total_df.groupby(by='age_class').apply(\n",
    "                                lambda x: x[((x.stay_type=='ICU') & (x.outcome=='D'))].dICU.mean())\n",
    "\n",
    "# Hospitalisation length in ICU when deceased\n",
    "hospital_parameters_age['dICU_D']=total_df.groupby(by='age_class').apply(\n",
    "                                lambda x: x[((x.stay_type=='ICU') & (x.outcome=='D'))].dICU.mean())\n",
    "\n",
    "# Hospitalisation length in ICU when deceased\n",
    "hospital_parameters_age['dICUrec']=total_df.groupby(by='age_class').apply(\n",
    "                                lambda x: x[((x.stay_type=='ICU') )].dICUrec.mean())"
   ]
  },
  {
   "cell_type": "markdown",
   "metadata": {},
   "source": [
    "### Calculate the total averages of dC, dICU and dICUrec, m0"
   ]
  },
  {
   "cell_type": "code",
   "execution_count": 13,
   "metadata": {},
   "outputs": [],
   "source": [
    "c = total_df[total_df.stay_type=='Cohort only'].age.count()/total_df[total_df.stay_type.isin(['ICU', 'Cohort only'])].age.count()\n",
    "dC = total_df[total_df.stay_type == 'Cohort only'].dC.mean()\n",
    "dC_R = total_df[((total_df.stay_type == 'Cohort only')&(total_df.outcome == 'R'))].dC.mean()\n",
    "dC_D = total_df[((total_df.stay_type == 'Cohort only')&(total_df.outcome == 'D'))].dC.mean()\n",
    "dICU = total_df[total_df.stay_type == 'ICU'].dICU.mean()\n",
    "dICU_R = total_df[((total_df.stay_type == 'ICU')&(total_df.outcome == 'R'))].dICU.mean()\n",
    "dICU_D = total_df[((total_df.stay_type == 'ICU')&(total_df.outcome == 'D'))].dICU.mean()\n",
    "dICUrec = total_df[total_df.stay_type == 'ICU'].dICUrec.mean()\n",
    "\n",
    "\n",
    "hospital_parameters = pd.DataFrame(index=['average'],columns=['sample_size','c','dC','dC_R', 'dC_D', 'dICU',\n",
    "                                            'dICU_R', 'dICU_D', 'dICUrec',\n",
    "                                            'm0', 'm0_{C}', 'm0_{ICU}'])\n",
    "\n",
    "hospital_parameters['c'] = c\n",
    "hospital_parameters['dC'] = dC\n",
    "hospital_parameters['dC_R'] = dC_R\n",
    "hospital_parameters['dC_D'] = dC_D\n",
    "hospital_parameters['dICU'] = dICU\n",
    "hospital_parameters['dICU_R'] = dICU_R\n",
    "hospital_parameters['dICU_D'] = dICU_D\n",
    "hospital_parameters['dICUrec'] = dICUrec\n",
    "hospital_parameters['m0']=total_df[(total_df.outcome=='D')].age.count()/total_df[total_df.stay_type.isin(['ICU','Cohort only'])].age.count()\n",
    "hospital_parameters['m0_{C}']=total_df[(total_df.outcome=='D')].age.count()/total_df[total_df.stay_type.isin(['Cohort only'])].age.count()\n",
    "hospital_parameters['m0_{ICU}']=total_df[(total_df.outcome=='D')].age.count()/total_df[total_df.stay_type.isin(['ICU'])].age.count()\n",
    "hospital_parameters['sample_size'] = hospital_parameters_age.sample_size.sum()\n",
    "hospital_parameters_age = pd.concat([hospital_parameters_age, hospital_parameters])"
   ]
  },
  {
   "cell_type": "markdown",
   "metadata": {},
   "source": [
    "### Write results to respective folders"
   ]
  },
  {
   "cell_type": "code",
   "execution_count": 14,
   "metadata": {},
   "outputs": [],
   "source": [
    "hospital_parameters_age.to_csv('../../data/interim/model_parameters/AZMM_UZG_hospital_parameters.csv')"
   ]
  },
  {
   "cell_type": "code",
   "execution_count": 15,
   "metadata": {},
   "outputs": [],
   "source": [
    "# Create a Pandas Excel writer using XlsxWriter as the engine.\n",
    "writer = pd.ExcelWriter('../../data/interim/hospital/twallema_AZMM_UZG.xlsx')\n",
    "\n",
    "# Write each dataframe to a different worksheet.\n",
    "total_df.to_excel(writer,index=False)\n",
    "# Close the Pandas Excel writer and output the Excel file.\n",
    "writer.save()"
   ]
  },
  {
   "cell_type": "markdown",
   "metadata": {},
   "source": [
    "### Testing the statistical significance of several thangs"
   ]
  },
  {
   "cell_type": "code",
   "execution_count": 16,
   "metadata": {},
   "outputs": [
    {
     "data": {
      "image/png": "[encoded data removed]",
      "text/plain": [
       "<Figure size 576x432 with 1 Axes>"
      ]
     },
     "metadata": {
      "needs_background": "light"
     },
     "output_type": "display_data"
    }
   ],
   "source": [
    "x = total_df[total_df.stay_type=='ICU'].dICU.dropna()\n",
    "y = total_df[total_df.stay_type=='Cohort only'].dC.dropna()\n",
    "stat, p = ttest_ind(x, y)\n",
    "fig, ax = plt.subplots(figsize=(8,6))\n",
    "bp = ax.boxplot([x, y], positions=[1,2])\n",
    "plt.setp(bp['medians'], color='k')\n",
    "ax.set_ylabel('days in hospital')\n",
    "ax.set_ylim(0,40)\n",
    "ax.set_xticklabels(['ICU patients (N={}) \\n median = {:.1f} \\n mean = {:.1f}'.format(len(x), x.median(), x.mean()),\n",
    "                    'Cohort only patients (N={}) \\n median = {:.1f} \\n mean = {:.1f}'.format(len(y), y.median(), y.mean())])\n",
    "ax.set_title('Difference in hospital residence Cohort vs ICU, \\n t-test p={:.1e}'.format(p))\n",
    "plt.savefig('test_residence_ICU_Cohort.pdf', dpi=600, bbox_inches='tight',orientation='portrait', papertype='a4')"
   ]
  },
  {
   "cell_type": "code",
   "execution_count": 17,
   "metadata": {},
   "outputs": [
    {
     "data": {
      "image/png": "[encoded data removed]",
      "text/plain": [
       "<Figure size 576x432 with 1 Axes>"
      ]
     },
     "metadata": {
      "needs_background": "light"
     },
     "output_type": "display_data"
    }
   ],
   "source": [
    "x = total_df[((total_df.stay_type=='ICU')&(total_df.outcome=='R'))].dICU.dropna()\n",
    "y = total_df[((total_df.stay_type=='ICU')&(total_df.outcome=='D'))].dICU.dropna()\n",
    "stat, p = ttest_ind(x, y)\n",
    "fig, ax = plt.subplots(figsize=(8,6))\n",
    "bp = ax.boxplot([x, y], positions=[1,2])\n",
    "plt.setp(bp['medians'], color='k')\n",
    "ax.set_ylabel('days in hospital')\n",
    "ax.set_ylim(0,40)\n",
    "ax.set_xticklabels(['ICU recovered (N={}) \\n median = {:.1f} \\n mean = {:.1f}'.format(len(x), x.median(), x.mean()),\n",
    "                    'ICU deceased (N={}) \\n median = {:.1f} \\n mean = {:.1f}'.format(len(y), y.median(), y.mean())])\n",
    "ax.set_title('Difference in ICU residence time in case of recovery and death, \\n t-test p={:.1e}'.format(p))\n",
    "plt.savefig('test_residence_ICU_R_D.pdf', dpi=600, bbox_inches='tight',orientation='portrait', papertype='a4')"
   ]
  },
  {
   "cell_type": "code",
   "execution_count": 18,
   "metadata": {},
   "outputs": [
    {
     "data": {
      "image/png": "[encoded data removed]",
      "text/plain": [
       "<Figure size 576x432 with 1 Axes>"
      ]
     },
     "metadata": {
      "needs_background": "light"
     },
     "output_type": "display_data"
    }
   ],
   "source": [
    "x = total_df[((total_df.stay_type=='Cohort only')&(total_df.outcome=='R'))].dC.dropna()\n",
    "y = total_df[((total_df.stay_type=='Cohort only')&(total_df.outcome=='D'))].dC.dropna()\n",
    "stat, p = ttest_ind(x, y)\n",
    "fig, ax = plt.subplots(figsize=(8,6))\n",
    "bp = ax.boxplot([x, y], positions=[1,2])\n",
    "plt.setp(bp['medians'], color='k')\n",
    "ax.set_ylabel('days in hospital')\n",
    "ax.set_ylim(0,40)\n",
    "ax.set_xticklabels(['Cohort only recovered (N={}) \\n median = {:.1f} \\n mean = {:.1f}'.format(len(x), x.median(), x.mean()),\n",
    "                    'Cohort only deceased (N={}) \\n median = {:.1f} \\n mean = {:.1f}'.format(len(y), y.median(), y.mean())])\n",
    "ax.set_title('Difference in ICU residence time in case of recovery and death, \\n t-test p={:.1e}'.format(p))\n",
    "plt.savefig('test_residence_Cohort_R_D.pdf', dpi=600, bbox_inches='tight',orientation='portrait', papertype='a4')"
   ]
  }
 ],
 "metadata": {
  "kernelspec": {
   "display_name": "Python 3",
   "language": "python",
   "name": "python3"
  },
  "language_info": {
   "codemirror_mode": {
    "name": "ipython",
    "version": 3
   },
   "file_extension": ".py",
   "mimetype": "text/x-python",
   "name": "python",
   "nbconvert_exporter": "python",
   "pygments_lexer": "ipython3",
   "version": "3.8.2"
  }
 },
 "nbformat": 4,
 "nbformat_minor": 4
}
