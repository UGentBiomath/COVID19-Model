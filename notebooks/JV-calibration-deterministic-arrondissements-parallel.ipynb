{
 "cells": [
  {
   "cell_type": "markdown",
   "metadata": {},
   "source": [
    "**Calibration of the age-stratified deterministic model**\n",
    "\n",
    "*Original code by Ryan S. McGee. Modified by T.W. Alleman in consultation with the BIOMATH research unit headed by prof. Ingmar Nopens.*\n",
    "\n",
    "Copyright (c) 2020 by T.W. Alleman, BIOMATH, Ghent University. All Rights Reserved.\n",
    "\n",
    "This notebook accompanies our preprint: \"*A deterministic, age-stratified, extended SEIRD model for assessing the effect of non-pharmaceutical interventions on SARS-CoV-2 spread in Belgium*\"(https://doi.org/10.1101/2020.07.17.20156034)"
   ]
  },
  {
   "cell_type": "markdown",
   "metadata": {},
   "source": [
    "# Load required packages"
   ]
  },
  {
   "cell_type": "code",
   "execution_count": 1,
   "metadata": {
    "ExecuteTime": {
     "end_time": "2020-09-08T06:47:23.293673Z",
     "start_time": "2020-09-08T06:47:20.991519Z"
    }
   },
   "outputs": [],
   "source": [
    "import random\n",
    "import os\n",
    "import numpy as np\n",
    "%matplotlib inline\n",
    "import matplotlib.pyplot as plt\n",
    "from IPython.display import Image\n",
    "from ipywidgets import interact,fixed,FloatSlider,IntSlider,ToggleButtons\n",
    "import pandas as pd\n",
    "import datetime\n",
    "import scipy\n",
    "from scipy.integrate import odeint\n",
    "import matplotlib.dates as mdates\n",
    "import matplotlib\n",
    "import scipy.stats as st\n",
    "\n",
    "import math\n",
    "import xarray as xr\n",
    "import emcee\n",
    "import json\n",
    "import corner\n",
    "\n",
    "from covid19model.optimization import objective_fcns\n",
    "from covid19model.optimization import MCMC\n",
    "from covid19model.models import models\n",
    "from covid19model.data import google\n",
    "from covid19model.data import sciensano\n",
    "from covid19model.data import polymod\n",
    "from covid19model.data import model_parameters\n",
    "from covid19model.visualization.output import population_status, infected\n",
    "from covid19model.visualization.optimization import plot_fit, traceplot\n",
    "from covid19model.optimization.run_optimization import full_calibration\n",
    "\n",
    "# OPTIONAL: Load the \"autoreload\" extension so that package code can change\n",
    "%load_ext autoreload\n",
    "# OPTIONAL: always reload modules so that as you change code in src, it gets loaded\n",
    "%autoreload 2"
   ]
  },
  {
   "cell_type": "code",
   "execution_count": null,
   "metadata": {
    "ExecuteTime": {
     "end_time": "2020-08-21T21:21:58.067557Z",
     "start_time": "2020-08-21T21:21:56.727518Z"
    }
   },
   "outputs": [],
   "source": [
    "import dask\n",
    "\n",
    "from dask.distributed import Client, progress\n",
    "client = Client(threads_per_worker=16, n_workers=1)\n",
    "client"
   ]
  },
  {
   "cell_type": "markdown",
   "metadata": {},
   "source": [
    "# Load data"
   ]
  },
  {
   "cell_type": "code",
   "execution_count": 2,
   "metadata": {
    "ExecuteTime": {
     "end_time": "2020-09-08T06:47:23.691924Z",
     "start_time": "2020-09-08T06:47:23.649331Z"
    }
   },
   "outputs": [],
   "source": [
    "initN, Nc_home, Nc_work, Nc_schools, Nc_transport, Nc_leisure, Nc_others, Nc_total = polymod.get_interaction_matrices()\n",
    "levels = initN.size"
   ]
  },
  {
   "cell_type": "code",
   "execution_count": 3,
   "metadata": {
    "ExecuteTime": {
     "end_time": "2020-09-08T06:47:23.958895Z",
     "start_time": "2020-09-08T06:47:23.844753Z"
    }
   },
   "outputs": [
    {
     "data": {
      "text/html": [
       "<div>\n",
       "<style scoped>\n",
       "    .dataframe tbody tr th:only-of-type {\n",
       "        vertical-align: middle;\n",
       "    }\n",
       "\n",
       "    .dataframe tbody tr th {\n",
       "        vertical-align: top;\n",
       "    }\n",
       "\n",
       "    .dataframe thead th {\n",
       "        text-align: right;\n",
       "    }\n",
       "</style>\n",
       "<table border=\"1\" class=\"dataframe\">\n",
       "  <thead>\n",
       "    <tr style=\"text-align: right;\">\n",
       "      <th></th>\n",
       "      <th>H_tot</th>\n",
       "      <th>ICU_tot</th>\n",
       "      <th>H_in</th>\n",
       "      <th>H_out</th>\n",
       "      <th>H_tot_cumsum</th>\n",
       "      <th>D_tot</th>\n",
       "      <th>D_25_44</th>\n",
       "      <th>D_45_64</th>\n",
       "      <th>D_65_74</th>\n",
       "      <th>D_75_84</th>\n",
       "      <th>D_85+</th>\n",
       "    </tr>\n",
       "    <tr>\n",
       "      <th>DATE</th>\n",
       "      <th></th>\n",
       "      <th></th>\n",
       "      <th></th>\n",
       "      <th></th>\n",
       "      <th></th>\n",
       "      <th></th>\n",
       "      <th></th>\n",
       "      <th></th>\n",
       "      <th></th>\n",
       "      <th></th>\n",
       "      <th></th>\n",
       "    </tr>\n",
       "  </thead>\n",
       "  <tbody>\n",
       "    <tr>\n",
       "      <th>2020-08-06</th>\n",
       "      <td>278</td>\n",
       "      <td>65</td>\n",
       "      <td>28</td>\n",
       "      <td>39</td>\n",
       "      <td>687</td>\n",
       "      <td>2</td>\n",
       "      <td>0.0</td>\n",
       "      <td>0.0</td>\n",
       "      <td>0</td>\n",
       "      <td>1.0</td>\n",
       "      <td>1</td>\n",
       "    </tr>\n",
       "    <tr>\n",
       "      <th>2020-08-07</th>\n",
       "      <td>285</td>\n",
       "      <td>69</td>\n",
       "      <td>27</td>\n",
       "      <td>28</td>\n",
       "      <td>686</td>\n",
       "      <td>4</td>\n",
       "      <td>0.0</td>\n",
       "      <td>0.0</td>\n",
       "      <td>0</td>\n",
       "      <td>1.0</td>\n",
       "      <td>3</td>\n",
       "    </tr>\n",
       "    <tr>\n",
       "      <th>2020-08-08</th>\n",
       "      <td>281</td>\n",
       "      <td>67</td>\n",
       "      <td>31</td>\n",
       "      <td>39</td>\n",
       "      <td>678</td>\n",
       "      <td>2</td>\n",
       "      <td>0.0</td>\n",
       "      <td>0.0</td>\n",
       "      <td>0</td>\n",
       "      <td>2.0</td>\n",
       "      <td>0</td>\n",
       "    </tr>\n",
       "    <tr>\n",
       "      <th>2020-08-09</th>\n",
       "      <td>285</td>\n",
       "      <td>69</td>\n",
       "      <td>20</td>\n",
       "      <td>14</td>\n",
       "      <td>684</td>\n",
       "      <td>4</td>\n",
       "      <td>1.0</td>\n",
       "      <td>0.0</td>\n",
       "      <td>0</td>\n",
       "      <td>1.0</td>\n",
       "      <td>2</td>\n",
       "    </tr>\n",
       "    <tr>\n",
       "      <th>2020-08-10</th>\n",
       "      <td>312</td>\n",
       "      <td>73</td>\n",
       "      <td>33</td>\n",
       "      <td>12</td>\n",
       "      <td>705</td>\n",
       "      <td>3</td>\n",
       "      <td>0.0</td>\n",
       "      <td>1.0</td>\n",
       "      <td>1</td>\n",
       "      <td>0.0</td>\n",
       "      <td>1</td>\n",
       "    </tr>\n",
       "  </tbody>\n",
       "</table>\n",
       "</div>"
      ],
      "text/plain": [
       "            H_tot  ICU_tot  H_in  H_out  H_tot_cumsum  D_tot  D_25_44  \\\n",
       "DATE                                                                    \n",
       "2020-08-06    278       65    28     39           687      2      0.0   \n",
       "2020-08-07    285       69    27     28           686      4      0.0   \n",
       "2020-08-08    281       67    31     39           678      2      0.0   \n",
       "2020-08-09    285       69    20     14           684      4      1.0   \n",
       "2020-08-10    312       73    33     12           705      3      0.0   \n",
       "\n",
       "            D_45_64  D_65_74  D_75_84  D_85+  \n",
       "DATE                                          \n",
       "2020-08-06      0.0        0      1.0      1  \n",
       "2020-08-07      0.0        0      1.0      3  \n",
       "2020-08-08      0.0        0      2.0      0  \n",
       "2020-08-09      0.0        0      1.0      2  \n",
       "2020-08-10      1.0        1      0.0      1  "
      ]
     },
     "execution_count": 3,
     "metadata": {},
     "output_type": "execute_result"
    }
   ],
   "source": [
    "df_sciensano = sciensano.get_sciensano_COVID19_data(update=False)\n",
    "df_sciensano.tail()"
   ]
  },
  {
   "cell_type": "code",
   "execution_count": 4,
   "metadata": {
    "ExecuteTime": {
     "end_time": "2020-09-08T06:47:24.168679Z",
     "start_time": "2020-09-08T06:47:24.096599Z"
    }
   },
   "outputs": [],
   "source": [
    "nonpublic_ts = pd.read_csv('../data/interim/non_public/all_nonpublic_timeseries.csv', parse_dates=['DATE'])"
   ]
  },
  {
   "cell_type": "code",
   "execution_count": null,
   "metadata": {
    "ExecuteTime": {
     "end_time": "2020-09-03T09:39:27.662281Z",
     "start_time": "2020-09-03T09:39:27.586290Z"
    },
    "scrolled": false
   },
   "outputs": [],
   "source": [
    "nonpublic_ts.NIS.unique()"
   ]
  },
  {
   "cell_type": "markdown",
   "metadata": {},
   "source": [
    "# Initialize the model"
   ]
  },
  {
   "cell_type": "code",
   "execution_count": 5,
   "metadata": {
    "ExecuteTime": {
     "end_time": "2020-09-08T06:47:26.370933Z",
     "start_time": "2020-09-08T06:47:26.311707Z"
    }
   },
   "outputs": [],
   "source": [
    "# Load the parameters using `get_COVID19_SEIRD_parameters()`.\n",
    "params = model_parameters.get_COVID19_SEIRD_parameters()\n",
    "# Add the delayed ramp parameters to the parameter dictionary.\n",
    "params.update({'l': 1,\n",
    "              'tau': 5})\n",
    "# Define the initial condition: one exposed inidividual in every age category\n",
    "initial_states = {'S': initN, 'E': np.ones(levels)}\n",
    "# Load the compliance model\n",
    "from covid19model.models.compliance import ramp_2\n",
    "# Initialize the model\n",
    "model = models.COVID19_SEIRD(initial_states, params, compliance=ramp_2)"
   ]
  },
  {
   "cell_type": "code",
   "execution_count": 6,
   "metadata": {
    "ExecuteTime": {
     "end_time": "2020-09-08T06:47:26.551009Z",
     "start_time": "2020-09-08T06:47:26.514847Z"
    }
   },
   "outputs": [],
   "source": [
    "start_date = '2020-03-15'\n",
    "end_beta = '2020-03-22'\n",
    "end_ramp = '2020-04-20'"
   ]
  },
  {
   "cell_type": "code",
   "execution_count": 7,
   "metadata": {
    "ExecuteTime": {
     "end_time": "2020-09-08T06:47:26.739179Z",
     "start_time": "2020-09-08T06:47:26.701220Z"
    }
   },
   "outputs": [],
   "source": [
    "fig_path = '../results/calibrations_arrondissements/'\n",
    "samples_path = '../data/interim/model_parameters/arrondissements/'"
   ]
  },
  {
   "cell_type": "markdown",
   "metadata": {},
   "source": [
    "# Run in parallel"
   ]
  },
  {
   "cell_type": "code",
   "execution_count": 8,
   "metadata": {
    "ExecuteTime": {
     "end_time": "2020-09-08T06:47:28.719315Z",
     "start_time": "2020-09-08T06:47:28.681105Z"
    }
   },
   "outputs": [],
   "source": [
    "arr_list = list(nonpublic_ts.NIS.unique())"
   ]
  },
  {
   "cell_type": "code",
   "execution_count": 9,
   "metadata": {
    "ExecuteTime": {
     "end_time": "2020-09-08T06:47:28.972641Z",
     "start_time": "2020-09-08T06:47:28.922951Z"
    }
   },
   "outputs": [],
   "source": [
    "def run_me_parallel(arr):\n",
    "    arrond_ts = nonpublic_ts.pivot(index='DATE', columns='NIS', values='hospitalised_IN')[arr]\n",
    "    samples_dict = full_calibration(model, arrond_ts, arr, start_date, end_beta, end_ramp, \n",
    "                                fig_path, samples_path)\n",
    "                                #maxiter=10, popsize=10, steps_mcmc=250)\n",
    "    \n",
    "    states = [['H_in']]\n",
    "    end_date = '2020-09-20'\n",
    "    data=[arrond_ts[start_date:end_ramp].values]\n",
    "    fig,ax=plt.subplots()\n",
    "    for i in range(200):\n",
    "        idx,model.parameters['beta'] = random.choice(list(enumerate(samples_dict['beta'])))\n",
    "        idx,model.parameters['l'] = random.choice(list(enumerate(samples_dict['l'])))\n",
    "        model.parameters['tau'] = samples_dict['tau'][idx]\n",
    "        prevention = samples_dict['prevention'][idx]\n",
    "        # Create a dictionary of past policies\n",
    "        chk = {'time':   [start_date], \n",
    "              'Nc':      [prevention*(Nc_home + 0.4*Nc_work + 0.3*Nc_transport + 0.7*Nc_others + 0.2*Nc_leisure)]\n",
    "              }\n",
    "        y_model = model.sim(time=end_date, excess_time=samples_dict['lag_time'],checkpoints=chk)\n",
    "        ax = plot_fit(y_model,data,start_date,samples_dict['lag_time'],states,end_date=end_date,with_ints=False,ax=ax,plt_kwargs={'color':'blue','linewidth': 2,'alpha': 0.05})\n",
    "\n",
    "    data_after_calib = arrond_ts[pd.to_datetime(end_ramp)+pd.to_timedelta('1d'):end_date]\n",
    "    plt.scatter(data_after_calib.index, data_after_calib.values, marker='o',color='red',linestyle='None',facecolors='none')\n",
    "    legend_text=['daily \\nhospitalizations']\n",
    "    ax.set_xlim('2020-03-10', '2020-08-03')\n",
    "    fig.savefig('../results/calibrations_arrondissements/'+str(arr)+'_'+str(datetime.date.today())+'.pdf',\n",
    "                bbox_inches='tight', dpi=600)\n",
    "    return"
   ]
  },
  {
   "cell_type": "code",
   "execution_count": null,
   "metadata": {
    "ExecuteTime": {
     "end_time": "2020-08-21T21:22:05.230236Z",
     "start_time": "2020-08-21T21:22:05.183627Z"
    }
   },
   "outputs": [],
   "source": [
    "tasks = []\n",
    "for arr in arr_list:\n",
    "    task = dask.delayed(run_me_parallel)(arr)\n",
    "    tasks.append(task)\n",
    "    "
   ]
  },
  {
   "cell_type": "code",
   "execution_count": null,
   "metadata": {
    "ExecuteTime": {
     "end_time": "2020-08-22T04:06:54.088203Z",
     "start_time": "2020-08-21T21:22:20.296014Z"
    }
   },
   "outputs": [],
   "source": [
    "dask.compute(*tasks, scheduler='processes')"
   ]
  },
  {
   "cell_type": "code",
   "execution_count": null,
   "metadata": {
    "ExecuteTime": {
     "end_time": "2020-08-27T15:37:21.955310Z",
     "start_time": "2020-08-27T15:37:21.911174Z"
    }
   },
   "outputs": [],
   "source": [
    "run_date = '2020-08-22'"
   ]
  },
  {
   "cell_type": "code",
   "execution_count": null,
   "metadata": {
    "ExecuteTime": {
     "end_time": "2020-08-27T15:37:22.598066Z",
     "start_time": "2020-08-27T15:37:22.246770Z"
    }
   },
   "outputs": [],
   "source": [
    "with open(samples_path+'44000'+'_'+run_date+'.json', 'r') as fp:\n",
    "    samples_dict = json.load(fp)"
   ]
  },
  {
   "cell_type": "markdown",
   "metadata": {},
   "source": []
  },
  {
   "cell_type": "markdown",
   "metadata": {},
   "source": [
    "# Run one arrondissement"
   ]
  },
  {
   "cell_type": "code",
   "execution_count": null,
   "metadata": {
    "ExecuteTime": {
     "start_time": "2020-09-08T06:47:31.219Z"
    },
    "scrolled": false
   },
   "outputs": [
    {
     "name": "stdout",
     "output_type": "stream",
     "text": [
      "No constraints given.\n",
      "New best for swarm at iteration 1: [1.00000000e+00 5.47112747e+01 2.00000000e-02] 7.643430578621048\n",
      "Best after iteration 1: [1.00000000e+00 5.47112747e+01 2.00000000e-02] 7.643430578621048\n",
      "Best after iteration 2: [1.00000000e+00 5.47112747e+01 2.00000000e-02] 7.643430578621048\n",
      "New best for swarm at iteration 3: [1.0000000e+00 5.5789133e+01 2.0000000e-02] 7.610752739398628\n",
      "Best after iteration 3: [1.0000000e+00 5.5789133e+01 2.0000000e-02] 7.610752739398628\n",
      "New best for swarm at iteration 4: [1.21838789e+00 5.21801223e+01 2.00000000e-02] 6.9897548456107605\n",
      "Best after iteration 4: [1.21838789e+00 5.21801223e+01 2.00000000e-02] 6.9897548456107605\n",
      "Best after iteration 5: [1.21838789e+00 5.21801223e+01 2.00000000e-02] 6.9897548456107605\n",
      "Best after iteration 6: [1.21838789e+00 5.21801223e+01 2.00000000e-02] 6.9897548456107605\n",
      "Best after iteration 7: [1.21838789e+00 5.21801223e+01 2.00000000e-02] 6.9897548456107605\n",
      "Best after iteration 8: [1.21838789e+00 5.21801223e+01 2.00000000e-02] 6.9897548456107605\n",
      "Best after iteration 9: [1.21838789e+00 5.21801223e+01 2.00000000e-02] 6.9897548456107605\n",
      "Best after iteration 10: [1.21838789e+00 5.21801223e+01 2.00000000e-02] 6.9897548456107605\n",
      "Best after iteration 11: [1.21838789e+00 5.21801223e+01 2.00000000e-02] 6.9897548456107605\n",
      "Best after iteration 12: [1.21838789e+00 5.21801223e+01 2.00000000e-02] 6.9897548456107605\n",
      "Best after iteration 13: [1.21838789e+00 5.21801223e+01 2.00000000e-02] 6.9897548456107605\n",
      "Best after iteration 14: [1.21838789e+00 5.21801223e+01 2.00000000e-02] 6.9897548456107605\n",
      "Best after iteration 15: [1.21838789e+00 5.21801223e+01 2.00000000e-02] 6.9897548456107605\n",
      "New best for swarm at iteration 16: [1.25675579e+00 5.36829350e+01 2.03170384e-02] 6.664578499989755\n",
      "Best after iteration 16: [1.25675579e+00 5.36829350e+01 2.03170384e-02] 6.664578499989755\n",
      "New best for swarm at iteration 17: [1.36671337e+00 5.37854966e+01 2.01061917e-02] 6.620722425765246\n",
      "Best after iteration 17: [1.36671337e+00 5.37854966e+01 2.01061917e-02] 6.620722425765246\n",
      "Best after iteration 18: [1.36671337e+00 5.37854966e+01 2.01061917e-02] 6.620722425765246\n",
      "Best after iteration 19: [1.36671337e+00 5.37854966e+01 2.01061917e-02] 6.620722425765246\n",
      "New best for swarm at iteration 20: [1.34403763e+00 5.49789855e+01 2.00855638e-02] 6.5843788288884735\n",
      "Best after iteration 20: [1.34403763e+00 5.49789855e+01 2.00855638e-02] 6.5843788288884735\n",
      "New best for swarm at iteration 21: [1.34699107e+00 5.57291659e+01 2.00000000e-02] 6.577659809716501\n",
      "Best after iteration 21: [1.34699107e+00 5.57291659e+01 2.00000000e-02] 6.577659809716501\n",
      "New best for swarm at iteration 22: [1.38643717e+00 5.59895481e+01 2.00000000e-02] 6.573278532669962\n",
      "Best after iteration 22: [1.38643717e+00 5.59895481e+01 2.00000000e-02] 6.573278532669962\n",
      "Best after iteration 23: [1.38643717e+00 5.59895481e+01 2.00000000e-02] 6.573278532669962\n",
      "Best after iteration 24: [1.38643717e+00 5.59895481e+01 2.00000000e-02] 6.573278532669962\n",
      "New best for swarm at iteration 25: [1.37739670e+00 5.61155267e+01 2.00000000e-02] 6.5730874536698405\n",
      "Best after iteration 25: [1.37739670e+00 5.61155267e+01 2.00000000e-02] 6.5730874536698405\n",
      "Best after iteration 26: [1.37739670e+00 5.61155267e+01 2.00000000e-02] 6.5730874536698405\n",
      "Best after iteration 27: [1.37739670e+00 5.61155267e+01 2.00000000e-02] 6.5730874536698405\n",
      "Best after iteration 28: [1.37739670e+00 5.61155267e+01 2.00000000e-02] 6.5730874536698405\n",
      "New best for swarm at iteration 29: [1.37946317e+00 5.59280250e+01 2.00000000e-02] 6.5730709108134135\n",
      "Best after iteration 29: [1.37946317e+00 5.59280250e+01 2.00000000e-02] 6.5730709108134135\n",
      "Best after iteration 30: [1.37946317e+00 5.59280250e+01 2.00000000e-02] 6.5730709108134135\n",
      "Best after iteration 31: [1.37946317e+00 5.59280250e+01 2.00000000e-02] 6.5730709108134135\n",
      "Best after iteration 32: [1.37946317e+00 5.59280250e+01 2.00000000e-02] 6.5730709108134135\n",
      "Best after iteration 33: [1.37946317e+00 5.59280250e+01 2.00000000e-02] 6.5730709108134135\n",
      "Best after iteration 34: [1.37946317e+00 5.59280250e+01 2.00000000e-02] 6.5730709108134135\n",
      "Best after iteration 35: [1.37946317e+00 5.59280250e+01 2.00000000e-02] 6.5730709108134135\n",
      "Best after iteration 36: [1.37946317e+00 5.59280250e+01 2.00000000e-02] 6.5730709108134135\n",
      "Best after iteration 37: [1.37946317e+00 5.59280250e+01 2.00000000e-02] 6.5730709108134135\n",
      "Best after iteration 38: [1.37946317e+00 5.59280250e+01 2.00000000e-02] 6.5730709108134135\n",
      "Best after iteration 39: [1.37946317e+00 5.59280250e+01 2.00000000e-02] 6.5730709108134135\n",
      "Best after iteration 40: [1.37946317e+00 5.59280250e+01 2.00000000e-02] 6.5730709108134135\n",
      "Best after iteration 41: [1.37946317e+00 5.59280250e+01 2.00000000e-02] 6.5730709108134135\n",
      "New best for swarm at iteration 42: [1.37940122e+00 5.59401548e+01 2.00000000e-02] 6.573070883434257\n",
      "Best after iteration 42: [1.37940122e+00 5.59401548e+01 2.00000000e-02] 6.573070883434257\n",
      "Best after iteration 43: [1.37940122e+00 5.59401548e+01 2.00000000e-02] 6.573070883434257\n",
      "New best for swarm at iteration 44: [1.37895236e+00 5.61041328e+01 2.00005840e-02] 6.573066165560032\n",
      "Best after iteration 44: [1.37895236e+00 5.61041328e+01 2.00005840e-02] 6.573066165560032\n",
      "Best after iteration 45: [1.37895236e+00 5.61041328e+01 2.00005840e-02] 6.573066165560032\n",
      "New best for swarm at iteration 46: [1.37873213e+00 5.58509775e+01 2.00007373e-02] 6.573065774953766\n",
      "Best after iteration 46: [1.37873213e+00 5.58509775e+01 2.00007373e-02] 6.573065774953766\n",
      "New best for swarm at iteration 47: [1.37835368e+00 5.57705971e+01 2.00010663e-02] 6.573065542453044\n",
      "Best after iteration 47: [1.37835368e+00 5.57705971e+01 2.00010663e-02] 6.573065542453044\n",
      "Best after iteration 48: [1.37835368e+00 5.57705971e+01 2.00010663e-02] 6.573065542453044\n",
      "New best for swarm at iteration 49: [1.37929837e+00 5.59428594e+01 2.00007521e-02] 6.573063911767685\n",
      "Best after iteration 49: [1.37929837e+00 5.59428594e+01 2.00007521e-02] 6.573063911767685\n",
      "New best for swarm at iteration 50: [1.37815243e+00 5.59066448e+01 2.00091347e-02] 6.573029697248343\n",
      "Best after iteration 50: [1.37815243e+00 5.59066448e+01 2.00091347e-02] 6.573029697248343\n",
      "Stopping search: maximum iterations reached --> 50\n"
     ]
    },
    {
     "name": "stderr",
     "output_type": "stream",
     "text": [
      "  0%|          | 0/10000 [00:00<?, ?it/s]/home/data/jvergeyn/.conda/envs/COVID_MODEL/lib/python3.7/site-packages/emcee/moves/red_blue.py:99: RuntimeWarning: invalid value encountered in double_scalars\n",
      "  lnpdiff = f + nlp - state.log_prob[j]\n",
      "100%|██████████| 10000/10000 [50:16<00:00,  3.32it/s]\n"
     ]
    },
    {
     "name": "stdout",
     "output_type": "stream",
     "text": [
      "No constraints given.\n",
      "Best after iteration 1: [ 1.90701766 11.63961467 16.79824548  0.52554208] 54.95158311494567\n",
      "Best after iteration 2: [ 1.90701766 11.63961467 16.79824548  0.52554208] 54.95158311494567\n",
      "Best after iteration 3: [ 1.90701766 11.63961467 16.79824548  0.52554208] 54.95158311494567\n",
      "Best after iteration 4: [ 1.90701766 11.63961467 16.79824548  0.52554208] 54.95158311494567\n",
      "Best after iteration 5: [ 1.90701766 11.63961467 16.79824548  0.52554208] 54.95158311494567\n",
      "Best after iteration 6: [ 1.90701766 11.63961467 16.79824548  0.52554208] 54.95158311494567\n",
      "New best for swarm at iteration 7: [ 3.17382033 11.39520713 18.74676314  0.71897604] 51.96812514056332\n",
      "Best after iteration 7: [ 3.17382033 11.39520713 18.74676314  0.71897604] 51.96812514056332\n",
      "New best for swarm at iteration 8: [2.56087357 4.2612155  8.037274   0.73352351] 46.8665074724672\n",
      "Best after iteration 8: [2.56087357 4.2612155  8.037274   0.73352351] 46.8665074724672\n",
      "Best after iteration 9: [2.56087357 4.2612155  8.037274   0.73352351] 46.8665074724672\n",
      "Best after iteration 10: [2.56087357 4.2612155  8.037274   0.73352351] 46.8665074724672\n",
      "Best after iteration 11: [2.56087357 4.2612155  8.037274   0.73352351] 46.8665074724672\n",
      "Best after iteration 12: [2.56087357 4.2612155  8.037274   0.73352351] 46.8665074724672\n",
      "Best after iteration 13: [2.56087357 4.2612155  8.037274   0.73352351] 46.8665074724672\n",
      "Best after iteration 14: [2.56087357 4.2612155  8.037274   0.73352351] 46.8665074724672\n",
      "New best for swarm at iteration 15: [2.40648157 1.71280731 9.03428533 0.9524801 ] 44.21622598539966\n",
      "Best after iteration 15: [2.40648157 1.71280731 9.03428533 0.9524801 ] 44.21622598539966\n",
      "Best after iteration 16: [2.40648157 1.71280731 9.03428533 0.9524801 ] 44.21622598539966\n",
      "New best for swarm at iteration 17: [ 1.82981454  3.3413043  11.33663424  0.44316767] 42.421624404574615\n",
      "Best after iteration 17: [ 1.82981454  3.3413043  11.33663424  0.44316767] 42.421624404574615\n",
      "New best for swarm at iteration 18: [ 1.94145516  0.1        11.35012855  0.66950609] 42.09360211612705\n",
      "Best after iteration 18: [ 1.94145516  0.1        11.35012855  0.66950609] 42.09360211612705\n",
      "Best after iteration 19: [ 1.94145516  0.1        11.35012855  0.66950609] 42.09360211612705\n",
      "New best for swarm at iteration 20: [ 1.8156942   0.41818593 10.91127264  0.51597352] 41.12396017301515\n",
      "Best after iteration 20: [ 1.8156942   0.41818593 10.91127264  0.51597352] 41.12396017301515\n",
      "New best for swarm at iteration 21: [ 1.8882494   0.1        10.4001054   0.60994458] 40.74028720896627\n",
      "Best after iteration 21: [ 1.8882494   0.1        10.4001054   0.60994458] 40.74028720896627\n",
      "New best for swarm at iteration 22: [ 1.84653986  0.1        10.34650312  0.63761107] 40.72934228626186\n",
      "Best after iteration 22: [ 1.84653986  0.1        10.34650312  0.63761107] 40.72934228626186\n",
      "New best for swarm at iteration 23: [ 1.83378798  0.12983428 10.89983661  0.60322955] 40.558119421964804\n",
      "Best after iteration 23: [ 1.83378798  0.12983428 10.89983661  0.60322955] 40.558119421964804\n",
      "Best after iteration 24: [ 1.83378798  0.12983428 10.89983661  0.60322955] 40.558119421964804\n",
      "Best after iteration 25: [ 1.83378798  0.12983428 10.89983661  0.60322955] 40.558119421964804\n",
      "Best after iteration 26: [ 1.83378798  0.12983428 10.89983661  0.60322955] 40.558119421964804\n",
      "Best after iteration 27: [ 1.83378798  0.12983428 10.89983661  0.60322955] 40.558119421964804\n",
      "Best after iteration 28: [ 1.83378798  0.12983428 10.89983661  0.60322955] 40.558119421964804\n",
      "Best after iteration 29: [ 1.83378798  0.12983428 10.89983661  0.60322955] 40.558119421964804\n",
      "Best after iteration 30: [ 1.83378798  0.12983428 10.89983661  0.60322955] 40.558119421964804\n",
      "Best after iteration 31: [ 1.83378798  0.12983428 10.89983661  0.60322955] 40.558119421964804\n",
      "Best after iteration 32: [ 1.83378798  0.12983428 10.89983661  0.60322955] 40.558119421964804\n",
      "Best after iteration 33: [ 1.83378798  0.12983428 10.89983661  0.60322955] 40.558119421964804\n",
      "Best after iteration 34: [ 1.83378798  0.12983428 10.89983661  0.60322955] 40.558119421964804\n",
      "Best after iteration 35: [ 1.83378798  0.12983428 10.89983661  0.60322955] 40.558119421964804\n",
      "Best after iteration 36: [ 1.83378798  0.12983428 10.89983661  0.60322955] 40.558119421964804\n",
      "Best after iteration 37: [ 1.83378798  0.12983428 10.89983661  0.60322955] 40.558119421964804\n",
      "Best after iteration 38: [ 1.83378798  0.12983428 10.89983661  0.60322955] 40.558119421964804\n",
      "Best after iteration 39: [ 1.83378798  0.12983428 10.89983661  0.60322955] 40.558119421964804\n",
      "Best after iteration 40: [ 1.83378798  0.12983428 10.89983661  0.60322955] 40.558119421964804\n",
      "Best after iteration 41: [ 1.83378798  0.12983428 10.89983661  0.60322955] 40.558119421964804\n",
      "Best after iteration 42: [ 1.83378798  0.12983428 10.89983661  0.60322955] 40.558119421964804\n",
      "New best for swarm at iteration 43: [1.96948637 0.12109031 8.37291484 0.6864129 ] 40.508598640954055\n",
      "Best after iteration 43: [1.96948637 0.12109031 8.37291484 0.6864129 ] 40.508598640954055\n",
      "Best after iteration 44: [1.96948637 0.12109031 8.37291484 0.6864129 ] 40.508598640954055\n",
      "Best after iteration 45: [1.96948637 0.12109031 8.37291484 0.6864129 ] 40.508598640954055\n",
      "Best after iteration 46: [1.96948637 0.12109031 8.37291484 0.6864129 ] 40.508598640954055\n",
      "Best after iteration 47: [1.96948637 0.12109031 8.37291484 0.6864129 ] 40.508598640954055\n",
      "New best for swarm at iteration 48: [1.91987685 0.12293933 7.70905776 0.6176222 ] 40.40020559452908\n",
      "Best after iteration 48: [1.91987685 0.12293933 7.70905776 0.6176222 ] 40.40020559452908\n",
      "New best for swarm at iteration 49: [1.81637048 0.16637137 7.97939848 0.64060075] 40.18381308625634\n",
      "Best after iteration 49: [1.81637048 0.16637137 7.97939848 0.64060075] 40.18381308625634\n",
      "Best after iteration 50: [1.81637048 0.16637137 7.97939848 0.64060075] 40.18381308625634\n",
      "Stopping search: maximum iterations reached --> 50\n"
     ]
    },
    {
     "name": "stderr",
     "output_type": "stream",
     "text": [
      "  0%|          | 0/10000 [00:00<?, ?it/s]/home/data/jvergeyn/.conda/envs/COVID_MODEL/lib/python3.7/site-packages/emcee/moves/red_blue.py:99: RuntimeWarning: invalid value encountered in double_scalars\n",
      "  lnpdiff = f + nlp - state.log_prob[j]\n",
      " 64%|██████▎   | 6370/10000 [1:37:51<1:00:25,  1.00it/s]"
     ]
    }
   ],
   "source": [
    "run_me_parallel(58000)"
   ]
  },
  {
   "cell_type": "code",
   "execution_count": null,
   "metadata": {},
   "outputs": [],
   "source": []
  }
 ],
 "metadata": {
  "kernelspec": {
   "display_name": "COVID19",
   "language": "python",
   "name": "python3"
  },
  "language_info": {
   "codemirror_mode": {
    "name": "ipython",
    "version": 3
   },
   "file_extension": ".py",
   "mimetype": "text/x-python",
   "name": "python",
   "nbconvert_exporter": "python",
   "pygments_lexer": "ipython3",
   "version": "3.7.7"
  },
  "toc": {
   "base_numbering": 1,
   "nav_menu": {},
   "number_sections": true,
   "sideBar": true,
   "skip_h1_title": false,
   "title_cell": "Table of Contents",
   "title_sidebar": "Contents",
   "toc_cell": false,
   "toc_position": {
    "height": "calc(100% - 180px)",
    "left": "10px",
    "top": "150px",
    "width": "288px"
   },
   "toc_section_display": true,
   "toc_window_display": true
  }
 },
 "nbformat": 4,
 "nbformat_minor": 4
}
